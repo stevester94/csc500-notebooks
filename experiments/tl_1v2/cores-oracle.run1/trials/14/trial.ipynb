{
 "cells": [
  {
   "cell_type": "markdown",
   "id": "9fea5f46",
   "metadata": {
    "papermill": {
     "duration": 0.032101,
     "end_time": "2022-03-22T11:31:57.276627",
     "exception": false,
     "start_time": "2022-03-22T11:31:57.244526",
     "status": "completed"
    },
    "tags": []
   },
   "source": [
    "# Transfer Learning Template"
   ]
  },
  {
   "cell_type": "code",
   "execution_count": 1,
   "id": "0902182a",
   "metadata": {
    "execution": {
     "iopub.execute_input": "2022-03-22T11:31:57.340090Z",
     "iopub.status.busy": "2022-03-22T11:31:57.332697Z",
     "iopub.status.idle": "2022-03-22T11:31:59.315226Z",
     "shell.execute_reply": "2022-03-22T11:31:59.314387Z"
    },
    "papermill": {
     "duration": 2.015548,
     "end_time": "2022-03-22T11:31:59.315419",
     "exception": false,
     "start_time": "2022-03-22T11:31:57.299871",
     "status": "completed"
    },
    "tags": []
   },
   "outputs": [],
   "source": [
    "%load_ext autoreload\n",
    "%autoreload 2\n",
    "%matplotlib inline\n",
    "\n",
    "    \n",
    "import os, json, sys, time, random\n",
    "import numpy as np\n",
    "import torch\n",
    "from torch.optim import Adam\n",
    "from  easydict import EasyDict\n",
    "import matplotlib.pyplot as plt\n",
    "\n",
    "from steves_models.steves_ptn import Steves_Prototypical_Network\n",
    "\n",
    "from steves_utils.lazy_iterable_wrapper import Lazy_Iterable_Wrapper\n",
    "from steves_utils.iterable_aggregator import Iterable_Aggregator\n",
    "from steves_utils.ptn_train_eval_test_jig import  PTN_Train_Eval_Test_Jig\n",
    "from steves_utils.torch_sequential_builder import build_sequential\n",
    "from steves_utils.torch_utils import get_dataset_metrics, ptn_confusion_by_domain_over_dataloader\n",
    "from steves_utils.utils_v2 import (per_domain_accuracy_from_confusion, get_datasets_base_path)\n",
    "from steves_utils.PTN.utils import independent_accuracy_assesment\n",
    "\n",
    "from torch.utils.data import DataLoader\n",
    "\n",
    "from steves_utils.stratified_dataset.episodic_accessor import Episodic_Accessor_Factory\n",
    "\n",
    "from steves_utils.ptn_do_report import (\n",
    "    get_loss_curve,\n",
    "    get_results_table,\n",
    "    get_parameters_table,\n",
    "    get_domain_accuracies,\n",
    ")\n",
    "\n",
    "from steves_utils.transforms import get_chained_transform"
   ]
  },
  {
   "cell_type": "markdown",
   "id": "41c840b4",
   "metadata": {
    "papermill": {
     "duration": 0.018857,
     "end_time": "2022-03-22T11:31:59.359068",
     "exception": false,
     "start_time": "2022-03-22T11:31:59.340211",
     "status": "completed"
    },
    "tags": []
   },
   "source": [
    "# Allowed Parameters\n",
    "These are allowed parameters, not defaults\n",
    "Each of these values need to be present in the injected parameters (the notebook will raise an exception if they are not present)\n",
    "\n",
    "Papermill uses the cell tag \"parameters\" to inject the real parameters below this cell.\n",
    "Enable tags to see what I mean"
   ]
  },
  {
   "cell_type": "code",
   "execution_count": 2,
   "id": "fd44eb83",
   "metadata": {
    "execution": {
     "iopub.execute_input": "2022-03-22T11:31:59.402588Z",
     "iopub.status.busy": "2022-03-22T11:31:59.401935Z",
     "iopub.status.idle": "2022-03-22T11:31:59.425098Z",
     "shell.execute_reply": "2022-03-22T11:31:59.425754Z"
    },
    "papermill": {
     "duration": 0.048109,
     "end_time": "2022-03-22T11:31:59.425944",
     "exception": false,
     "start_time": "2022-03-22T11:31:59.377835",
     "status": "completed"
    },
    "tags": []
   },
   "outputs": [],
   "source": [
    "required_parameters = {\n",
    "    \"experiment_name\",\n",
    "    \"lr\",\n",
    "    \"device\",\n",
    "    \"seed\",\n",
    "    \"dataset_seed\",\n",
    "    \"n_shot\",\n",
    "    \"n_query\",\n",
    "    \"n_way\",\n",
    "    \"train_k_factor\",\n",
    "    \"val_k_factor\",\n",
    "    \"test_k_factor\",\n",
    "    \"n_epoch\",\n",
    "    \"patience\",\n",
    "    \"criteria_for_best\",\n",
    "    \"x_net\",\n",
    "    \"datasets\",\n",
    "    \"torch_default_dtype\",\n",
    "    \"NUM_LOGS_PER_EPOCH\",\n",
    "    \"BEST_MODEL_PATH\",\n",
    "    \"x_shape\",\n",
    "}"
   ]
  },
  {
   "cell_type": "code",
   "execution_count": 3,
   "id": "fa3f0049",
   "metadata": {
    "execution": {
     "iopub.execute_input": "2022-03-22T11:31:59.485157Z",
     "iopub.status.busy": "2022-03-22T11:31:59.472597Z",
     "iopub.status.idle": "2022-03-22T11:31:59.508087Z",
     "shell.execute_reply": "2022-03-22T11:31:59.508752Z"
    },
    "papermill": {
     "duration": 0.057904,
     "end_time": "2022-03-22T11:31:59.508924",
     "exception": false,
     "start_time": "2022-03-22T11:31:59.451020",
     "status": "completed"
    },
    "tags": [
     "parameters"
    ]
   },
   "outputs": [],
   "source": [
    "from steves_utils.CORES.utils import (\n",
    "    ALL_NODES,\n",
    "    ALL_NODES_MINIMUM_1000_EXAMPLES,\n",
    "    ALL_DAYS\n",
    ")\n",
    "\n",
    "from steves_utils.ORACLE.utils_v2 import (\n",
    "    ALL_DISTANCES_FEET_NARROWED,\n",
    "    ALL_RUNS,\n",
    "    ALL_SERIAL_NUMBERS,\n",
    ")\n",
    "\n",
    "standalone_parameters = {}\n",
    "standalone_parameters[\"experiment_name\"] = \"STANDALONE PTN\"\n",
    "standalone_parameters[\"lr\"] = 0.001\n",
    "standalone_parameters[\"device\"] = \"cuda\"\n",
    "\n",
    "standalone_parameters[\"seed\"] = 1337\n",
    "standalone_parameters[\"dataset_seed\"] = 1337\n",
    "\n",
    "standalone_parameters[\"n_way\"] = 8\n",
    "standalone_parameters[\"n_shot\"] = 3\n",
    "standalone_parameters[\"n_query\"]  = 2\n",
    "standalone_parameters[\"train_k_factor\"] = 1\n",
    "standalone_parameters[\"val_k_factor\"] = 2\n",
    "standalone_parameters[\"test_k_factor\"] = 2\n",
    "\n",
    "\n",
    "standalone_parameters[\"n_epoch\"] = 50\n",
    "\n",
    "standalone_parameters[\"patience\"] = 10\n",
    "standalone_parameters[\"criteria_for_best\"] = \"source_loss\"\n",
    "\n",
    "standalone_parameters[\"datasets\"] = [\n",
    "    {\n",
    "        \"labels\": ALL_SERIAL_NUMBERS,\n",
    "        \"domains\": ALL_DISTANCES_FEET_NARROWED,\n",
    "        \"num_examples_per_domain_per_label\": 100,\n",
    "        \"pickle_path\": os.path.join(get_datasets_base_path(), \"oracle.Run1_framed_2000Examples_stratified_ds.2022A.pkl\"),\n",
    "        \"source_or_target_dataset\": \"source\",\n",
    "        \"x_transforms\": [\"unit_mag\", \"minus_two\"],\n",
    "        \"episode_transforms\": [],\n",
    "        \"domain_prefix\": \"ORACLE_\"\n",
    "    },\n",
    "    {\n",
    "        \"labels\": ALL_NODES,\n",
    "        \"domains\": ALL_DAYS,\n",
    "        \"num_examples_per_domain_per_label\": 100,\n",
    "        \"pickle_path\": os.path.join(get_datasets_base_path(), \"cores.stratified_ds.2022A.pkl\"),\n",
    "        \"source_or_target_dataset\": \"target\",\n",
    "        \"x_transforms\": [\"unit_power\", \"times_zero\"],\n",
    "        \"episode_transforms\": [],\n",
    "        \"domain_prefix\": \"CORES_\"\n",
    "    }   \n",
    "]\n",
    "\n",
    "standalone_parameters[\"torch_default_dtype\"] = \"torch.float32\" \n",
    "\n",
    "\n",
    "\n",
    "standalone_parameters[\"x_net\"] =     [\n",
    "    {\"class\": \"nnReshape\", \"kargs\": {\"shape\":[-1, 1, 2, 256]}},\n",
    "    {\"class\": \"Conv2d\", \"kargs\": { \"in_channels\":1, \"out_channels\":256, \"kernel_size\":(1,7), \"bias\":False, \"padding\":(0,3), },},\n",
    "    {\"class\": \"ReLU\", \"kargs\": {\"inplace\": True}},\n",
    "    {\"class\": \"BatchNorm2d\", \"kargs\": {\"num_features\":256}},\n",
    "\n",
    "    {\"class\": \"Conv2d\", \"kargs\": { \"in_channels\":256, \"out_channels\":80, \"kernel_size\":(2,7), \"bias\":True, \"padding\":(0,3), },},\n",
    "    {\"class\": \"ReLU\", \"kargs\": {\"inplace\": True}},\n",
    "    {\"class\": \"BatchNorm2d\", \"kargs\": {\"num_features\":80}},\n",
    "    {\"class\": \"Flatten\", \"kargs\": {}},\n",
    "\n",
    "    {\"class\": \"Linear\", \"kargs\": {\"in_features\": 80*256, \"out_features\": 256}}, # 80 units per IQ pair\n",
    "    {\"class\": \"ReLU\", \"kargs\": {\"inplace\": True}},\n",
    "    {\"class\": \"BatchNorm1d\", \"kargs\": {\"num_features\":256}},\n",
    "\n",
    "    {\"class\": \"Linear\", \"kargs\": {\"in_features\": 256, \"out_features\": 256}},\n",
    "]\n",
    "\n",
    "# Parameters relevant to results\n",
    "# These parameters will basically never need to change\n",
    "standalone_parameters[\"NUM_LOGS_PER_EPOCH\"] = 10\n",
    "standalone_parameters[\"BEST_MODEL_PATH\"] = \"./best_model.pth\"\n",
    "\n",
    "\n",
    "\n",
    "\n"
   ]
  },
  {
   "cell_type": "code",
   "execution_count": 4,
   "id": "8b412959",
   "metadata": {
    "execution": {
     "iopub.execute_input": "2022-03-22T11:31:59.568250Z",
     "iopub.status.busy": "2022-03-22T11:31:59.567254Z",
     "iopub.status.idle": "2022-03-22T11:31:59.596088Z",
     "shell.execute_reply": "2022-03-22T11:31:59.595361Z"
    },
    "papermill": {
     "duration": 0.061719,
     "end_time": "2022-03-22T11:31:59.596245",
     "exception": false,
     "start_time": "2022-03-22T11:31:59.534526",
     "status": "completed"
    },
    "tags": [
     "injected-parameters"
    ]
   },
   "outputs": [],
   "source": [
    "# Parameters\n",
    "parameters = {\n",
    "    \"experiment_name\": \"tl_1v2:cores-oracle.run1\",\n",
    "    \"device\": \"cuda\",\n",
    "    \"lr\": 0.0001,\n",
    "    \"n_shot\": 3,\n",
    "    \"n_query\": 2,\n",
    "    \"train_k_factor\": 3,\n",
    "    \"val_k_factor\": 2,\n",
    "    \"test_k_factor\": 2,\n",
    "    \"torch_default_dtype\": \"torch.float32\",\n",
    "    \"n_epoch\": 50,\n",
    "    \"patience\": 3,\n",
    "    \"criteria_for_best\": \"target_accuracy\",\n",
    "    \"x_net\": [\n",
    "        {\"class\": \"nnReshape\", \"kargs\": {\"shape\": [-1, 1, 2, 256]}},\n",
    "        {\n",
    "            \"class\": \"Conv2d\",\n",
    "            \"kargs\": {\n",
    "                \"in_channels\": 1,\n",
    "                \"out_channels\": 256,\n",
    "                \"kernel_size\": [1, 7],\n",
    "                \"bias\": False,\n",
    "                \"padding\": [0, 3],\n",
    "            },\n",
    "        },\n",
    "        {\"class\": \"ReLU\", \"kargs\": {\"inplace\": True}},\n",
    "        {\"class\": \"BatchNorm2d\", \"kargs\": {\"num_features\": 256}},\n",
    "        {\n",
    "            \"class\": \"Conv2d\",\n",
    "            \"kargs\": {\n",
    "                \"in_channels\": 256,\n",
    "                \"out_channels\": 80,\n",
    "                \"kernel_size\": [2, 7],\n",
    "                \"bias\": True,\n",
    "                \"padding\": [0, 3],\n",
    "            },\n",
    "        },\n",
    "        {\"class\": \"ReLU\", \"kargs\": {\"inplace\": True}},\n",
    "        {\"class\": \"BatchNorm2d\", \"kargs\": {\"num_features\": 80}},\n",
    "        {\"class\": \"Flatten\", \"kargs\": {}},\n",
    "        {\"class\": \"Linear\", \"kargs\": {\"in_features\": 20480, \"out_features\": 256}},\n",
    "        {\"class\": \"ReLU\", \"kargs\": {\"inplace\": True}},\n",
    "        {\"class\": \"BatchNorm1d\", \"kargs\": {\"num_features\": 256}},\n",
    "        {\"class\": \"Linear\", \"kargs\": {\"in_features\": 256, \"out_features\": 256}},\n",
    "    ],\n",
    "    \"NUM_LOGS_PER_EPOCH\": 10,\n",
    "    \"BEST_MODEL_PATH\": \"./best_model.pth\",\n",
    "    \"n_way\": 16,\n",
    "    \"datasets\": [\n",
    "        {\n",
    "            \"labels\": [\n",
    "                \"1-10.\",\n",
    "                \"1-11.\",\n",
    "                \"1-15.\",\n",
    "                \"1-16.\",\n",
    "                \"1-17.\",\n",
    "                \"1-18.\",\n",
    "                \"1-19.\",\n",
    "                \"10-4.\",\n",
    "                \"10-7.\",\n",
    "                \"11-1.\",\n",
    "                \"11-14.\",\n",
    "                \"11-17.\",\n",
    "                \"11-20.\",\n",
    "                \"11-7.\",\n",
    "                \"13-20.\",\n",
    "                \"13-8.\",\n",
    "                \"14-10.\",\n",
    "                \"14-11.\",\n",
    "                \"14-14.\",\n",
    "                \"14-7.\",\n",
    "                \"15-1.\",\n",
    "                \"15-20.\",\n",
    "                \"16-1.\",\n",
    "                \"16-16.\",\n",
    "                \"17-10.\",\n",
    "                \"17-11.\",\n",
    "                \"17-2.\",\n",
    "                \"19-1.\",\n",
    "                \"19-16.\",\n",
    "                \"19-19.\",\n",
    "                \"19-20.\",\n",
    "                \"19-3.\",\n",
    "                \"2-10.\",\n",
    "                \"2-11.\",\n",
    "                \"2-17.\",\n",
    "                \"2-18.\",\n",
    "                \"2-20.\",\n",
    "                \"2-3.\",\n",
    "                \"2-4.\",\n",
    "                \"2-5.\",\n",
    "                \"2-6.\",\n",
    "                \"2-7.\",\n",
    "                \"2-8.\",\n",
    "                \"3-13.\",\n",
    "                \"3-18.\",\n",
    "                \"3-3.\",\n",
    "                \"4-1.\",\n",
    "                \"4-10.\",\n",
    "                \"4-11.\",\n",
    "                \"4-19.\",\n",
    "                \"5-5.\",\n",
    "                \"6-15.\",\n",
    "                \"7-10.\",\n",
    "                \"7-14.\",\n",
    "                \"8-18.\",\n",
    "                \"8-20.\",\n",
    "                \"8-3.\",\n",
    "                \"8-8.\",\n",
    "            ],\n",
    "            \"domains\": [1, 2, 3, 4, 5],\n",
    "            \"num_examples_per_domain_per_label\": -1,\n",
    "            \"pickle_path\": \"/root/csc500-main/datasets/cores.stratified_ds.2022A.pkl\",\n",
    "            \"source_or_target_dataset\": \"source\",\n",
    "            \"x_transforms\": [],\n",
    "            \"episode_transforms\": [],\n",
    "            \"domain_prefix\": \"CORES_\",\n",
    "        },\n",
    "        {\n",
    "            \"labels\": [\n",
    "                \"3123D52\",\n",
    "                \"3123D65\",\n",
    "                \"3123D79\",\n",
    "                \"3123D80\",\n",
    "                \"3123D54\",\n",
    "                \"3123D70\",\n",
    "                \"3123D7B\",\n",
    "                \"3123D89\",\n",
    "                \"3123D58\",\n",
    "                \"3123D76\",\n",
    "                \"3123D7D\",\n",
    "                \"3123EFE\",\n",
    "                \"3123D64\",\n",
    "                \"3123D78\",\n",
    "                \"3123D7E\",\n",
    "                \"3124E4A\",\n",
    "            ],\n",
    "            \"domains\": [32, 38, 8, 44, 14, 50, 20, 26],\n",
    "            \"num_examples_per_domain_per_label\": 10000,\n",
    "            \"pickle_path\": \"/root/csc500-main/datasets/oracle.Run1_10kExamples_stratified_ds.2022A.pkl\",\n",
    "            \"source_or_target_dataset\": \"target\",\n",
    "            \"x_transforms\": [],\n",
    "            \"episode_transforms\": [],\n",
    "            \"domain_prefix\": \"ORACLE.run1_\",\n",
    "        },\n",
    "    ],\n",
    "    \"dataset_seed\": 154325,\n",
    "    \"seed\": 154325,\n",
    "}\n"
   ]
  },
  {
   "cell_type": "code",
   "execution_count": 5,
   "id": "8fa1cc33",
   "metadata": {
    "execution": {
     "iopub.execute_input": "2022-03-22T11:31:59.647205Z",
     "iopub.status.busy": "2022-03-22T11:31:59.646382Z",
     "iopub.status.idle": "2022-03-22T11:31:59.670203Z",
     "shell.execute_reply": "2022-03-22T11:31:59.669400Z"
    },
    "papermill": {
     "duration": 0.050091,
     "end_time": "2022-03-22T11:31:59.670353",
     "exception": false,
     "start_time": "2022-03-22T11:31:59.620262",
     "status": "completed"
    },
    "tags": []
   },
   "outputs": [],
   "source": [
    "# Set this to True if you want to run this template directly\n",
    "STANDALONE = False\n",
    "if STANDALONE:\n",
    "    print(\"parameters not injected, running with standalone_parameters\")\n",
    "    parameters = standalone_parameters\n",
    "\n",
    "if not 'parameters' in locals() and not 'parameters' in globals():\n",
    "    raise Exception(\"Parameter injection failed\")\n",
    "\n",
    "#Use an easy dict for all the parameters\n",
    "p = EasyDict(parameters)\n",
    "\n",
    "if \"x_shape\" not in p:\n",
    "    p.x_shape = [2,256] # Default to this if we dont supply x_shape\n",
    "\n",
    "\n",
    "supplied_keys = set(p.keys())\n",
    "\n",
    "if  supplied_keys != required_parameters:\n",
    "    print(\"Parameters are incorrect\")\n",
    "    if len(supplied_keys - required_parameters)>0: print(\"Shouldn't have:\", str(supplied_keys - required_parameters))\n",
    "    if len(required_parameters - supplied_keys)>0: print(\"Need to have:\", str(required_parameters - supplied_keys))\n",
    "    raise RuntimeError(\"Parameters are incorrect\")"
   ]
  },
  {
   "cell_type": "code",
   "execution_count": 6,
   "id": "3a028d58",
   "metadata": {
    "execution": {
     "iopub.execute_input": "2022-03-22T11:31:59.718820Z",
     "iopub.status.busy": "2022-03-22T11:31:59.718120Z",
     "iopub.status.idle": "2022-03-22T11:31:59.740028Z",
     "shell.execute_reply": "2022-03-22T11:31:59.739285Z"
    },
    "papermill": {
     "duration": 0.045254,
     "end_time": "2022-03-22T11:31:59.740178",
     "exception": false,
     "start_time": "2022-03-22T11:31:59.694924",
     "status": "completed"
    },
    "tags": []
   },
   "outputs": [],
   "source": [
    "###################################\n",
    "# Set the RNGs and make it all deterministic\n",
    "###################################\n",
    "np.random.seed(p.seed)\n",
    "random.seed(p.seed)\n",
    "torch.manual_seed(p.seed)\n",
    "\n",
    "torch.use_deterministic_algorithms(True) "
   ]
  },
  {
   "cell_type": "code",
   "execution_count": 7,
   "id": "b691acf6",
   "metadata": {
    "execution": {
     "iopub.execute_input": "2022-03-22T11:31:59.789959Z",
     "iopub.status.busy": "2022-03-22T11:31:59.788486Z",
     "iopub.status.idle": "2022-03-22T11:31:59.811231Z",
     "shell.execute_reply": "2022-03-22T11:31:59.810429Z"
    },
    "papermill": {
     "duration": 0.044957,
     "end_time": "2022-03-22T11:31:59.811381",
     "exception": false,
     "start_time": "2022-03-22T11:31:59.766424",
     "status": "completed"
    },
    "tags": []
   },
   "outputs": [],
   "source": [
    "###########################################\n",
    "# The stratified datasets honor this\n",
    "###########################################\n",
    "torch.set_default_dtype(eval(p.torch_default_dtype))"
   ]
  },
  {
   "cell_type": "code",
   "execution_count": 8,
   "id": "b5fba671",
   "metadata": {
    "execution": {
     "iopub.execute_input": "2022-03-22T11:31:59.861910Z",
     "iopub.status.busy": "2022-03-22T11:31:59.861098Z",
     "iopub.status.idle": "2022-03-22T11:31:59.912269Z",
     "shell.execute_reply": "2022-03-22T11:31:59.911568Z"
    },
    "papermill": {
     "duration": 0.072591,
     "end_time": "2022-03-22T11:31:59.912421",
     "exception": false,
     "start_time": "2022-03-22T11:31:59.839830",
     "status": "completed"
    },
    "tags": []
   },
   "outputs": [],
   "source": [
    "###################################\n",
    "# Build the network(s)\n",
    "# Note: It's critical to do this AFTER setting the RNG\n",
    "###################################\n",
    "x_net = build_sequential(p.x_net)"
   ]
  },
  {
   "cell_type": "code",
   "execution_count": 9,
   "id": "5d7e61cc",
   "metadata": {
    "execution": {
     "iopub.execute_input": "2022-03-22T11:31:59.960093Z",
     "iopub.status.busy": "2022-03-22T11:31:59.959183Z",
     "iopub.status.idle": "2022-03-22T11:31:59.982901Z",
     "shell.execute_reply": "2022-03-22T11:31:59.982097Z"
    },
    "papermill": {
     "duration": 0.04644,
     "end_time": "2022-03-22T11:31:59.983050",
     "exception": false,
     "start_time": "2022-03-22T11:31:59.936610",
     "status": "completed"
    },
    "tags": []
   },
   "outputs": [],
   "source": [
    "start_time_secs = time.time()"
   ]
  },
  {
   "cell_type": "code",
   "execution_count": 10,
   "id": "c6b67dfd",
   "metadata": {
    "execution": {
     "iopub.execute_input": "2022-03-22T11:32:00.034512Z",
     "iopub.status.busy": "2022-03-22T11:32:00.034151Z",
     "iopub.status.idle": "2022-03-22T11:32:00.059556Z",
     "shell.execute_reply": "2022-03-22T11:32:00.058734Z"
    },
    "papermill": {
     "duration": 0.049556,
     "end_time": "2022-03-22T11:32:00.059714",
     "exception": false,
     "start_time": "2022-03-22T11:32:00.010158",
     "status": "completed"
    },
    "tags": []
   },
   "outputs": [],
   "source": [
    "p.domains_source = []\n",
    "p.domains_target = []\n",
    "\n",
    "\n",
    "train_original_source = []\n",
    "val_original_source   = []\n",
    "test_original_source  = []\n",
    "\n",
    "train_original_target = []\n",
    "val_original_target   = []\n",
    "test_original_target  = []"
   ]
  },
  {
   "cell_type": "code",
   "execution_count": 11,
   "id": "e3d9c3d3",
   "metadata": {
    "execution": {
     "iopub.execute_input": "2022-03-22T11:32:00.108645Z",
     "iopub.status.busy": "2022-03-22T11:32:00.108003Z",
     "iopub.status.idle": "2022-03-22T11:32:00.130414Z",
     "shell.execute_reply": "2022-03-22T11:32:00.129606Z"
    },
    "papermill": {
     "duration": 0.045842,
     "end_time": "2022-03-22T11:32:00.130567",
     "exception": false,
     "start_time": "2022-03-22T11:32:00.084725",
     "status": "completed"
    },
    "tags": []
   },
   "outputs": [],
   "source": [
    "# global_x_transform_func = lambda x: normalize(x.to(torch.get_default_dtype()), \"unit_power\") # unit_power, unit_mag\n",
    "# global_x_transform_func = lambda x: normalize(x, \"unit_power\") # unit_power, unit_mag"
   ]
  },
  {
   "cell_type": "code",
   "execution_count": 12,
   "id": "acb78fd2",
   "metadata": {
    "execution": {
     "iopub.execute_input": "2022-03-22T11:32:00.189701Z",
     "iopub.status.busy": "2022-03-22T11:32:00.188851Z",
     "iopub.status.idle": "2022-03-22T11:32:00.208036Z",
     "shell.execute_reply": "2022-03-22T11:32:00.207320Z"
    },
    "papermill": {
     "duration": 0.052091,
     "end_time": "2022-03-22T11:32:00.208186",
     "exception": false,
     "start_time": "2022-03-22T11:32:00.156095",
     "status": "completed"
    },
    "tags": []
   },
   "outputs": [],
   "source": [
    "def add_dataset(\n",
    "    labels,\n",
    "    domains,\n",
    "    pickle_path,\n",
    "    x_transforms,\n",
    "    episode_transforms,\n",
    "    domain_prefix,\n",
    "    num_examples_per_domain_per_label,\n",
    "    source_or_target_dataset:str,\n",
    "    iterator_seed=p.seed,\n",
    "    dataset_seed=p.dataset_seed,\n",
    "    n_shot=p.n_shot,\n",
    "    n_way=p.n_way,\n",
    "    n_query=p.n_query,\n",
    "    train_val_test_k_factors=(p.train_k_factor,p.val_k_factor,p.test_k_factor),\n",
    "):\n",
    "   \n",
    "    if x_transforms == []: x_transform = None\n",
    "    else: x_transform = get_chained_transform(x_transforms)\n",
    "    \n",
    "    if episode_transforms == []: episode_transform = None\n",
    "    else: raise Exception(\"episode_transforms not implemented\")\n",
    "    \n",
    "    episode_transform = lambda tup, _prefix=domain_prefix: (_prefix + str(tup[0]), tup[1])\n",
    "\n",
    "\n",
    "    eaf = Episodic_Accessor_Factory(\n",
    "        labels=labels,\n",
    "        domains=domains,\n",
    "        num_examples_per_domain_per_label=num_examples_per_domain_per_label,\n",
    "        iterator_seed=iterator_seed,\n",
    "        dataset_seed=dataset_seed,\n",
    "        n_shot=n_shot,\n",
    "        n_way=n_way,\n",
    "        n_query=n_query,\n",
    "        train_val_test_k_factors=train_val_test_k_factors,\n",
    "        pickle_path=pickle_path,\n",
    "        x_transform_func=x_transform,\n",
    "    )\n",
    "\n",
    "    train, val, test = eaf.get_train(), eaf.get_val(), eaf.get_test()\n",
    "    train = Lazy_Iterable_Wrapper(train, episode_transform)\n",
    "    val = Lazy_Iterable_Wrapper(val, episode_transform)\n",
    "    test = Lazy_Iterable_Wrapper(test, episode_transform)\n",
    "\n",
    "    if source_or_target_dataset==\"source\":\n",
    "        train_original_source.append(train)\n",
    "        val_original_source.append(val)\n",
    "        test_original_source.append(test)\n",
    "\n",
    "        p.domains_source.extend(\n",
    "            [domain_prefix + str(u) for u in domains]\n",
    "        )\n",
    "    elif source_or_target_dataset==\"target\":\n",
    "        train_original_target.append(train)\n",
    "        val_original_target.append(val)\n",
    "        test_original_target.append(test)\n",
    "        p.domains_target.extend(\n",
    "            [domain_prefix + str(u) for u in domains]\n",
    "        )\n",
    "    else:\n",
    "        raise Exception(f\"invalid source_or_target_dataset: {source_or_target_dataset}\")\n",
    "    "
   ]
  },
  {
   "cell_type": "code",
   "execution_count": 13,
   "id": "fe266617",
   "metadata": {
    "execution": {
     "iopub.execute_input": "2022-03-22T11:32:00.259200Z",
     "iopub.status.busy": "2022-03-22T11:32:00.258760Z",
     "iopub.status.idle": "2022-03-22T11:32:10.821130Z",
     "shell.execute_reply": "2022-03-22T11:32:10.820379Z"
    },
    "papermill": {
     "duration": 10.58652,
     "end_time": "2022-03-22T11:32:10.821319",
     "exception": false,
     "start_time": "2022-03-22T11:32:00.234799",
     "status": "completed"
    },
    "tags": []
   },
   "outputs": [],
   "source": [
    "for ds in p.datasets:\n",
    "    add_dataset(**ds)"
   ]
  },
  {
   "cell_type": "code",
   "execution_count": 14,
   "id": "b90d65ac",
   "metadata": {
    "execution": {
     "iopub.execute_input": "2022-03-22T11:32:10.870234Z",
     "iopub.status.busy": "2022-03-22T11:32:10.869859Z",
     "iopub.status.idle": "2022-03-22T11:32:10.895768Z",
     "shell.execute_reply": "2022-03-22T11:32:10.894943Z"
    },
    "papermill": {
     "duration": 0.049426,
     "end_time": "2022-03-22T11:32:10.895920",
     "exception": false,
     "start_time": "2022-03-22T11:32:10.846494",
     "status": "completed"
    },
    "tags": []
   },
   "outputs": [],
   "source": [
    "# from steves_utils.CORES.utils import (\n",
    "#     ALL_NODES,\n",
    "#     ALL_NODES_MINIMUM_1000_EXAMPLES,\n",
    "#     ALL_DAYS\n",
    "# )\n",
    "\n",
    "# add_dataset(\n",
    "#     labels=ALL_NODES,\n",
    "#     domains = ALL_DAYS,\n",
    "#     num_examples_per_domain_per_label=100,\n",
    "#     pickle_path=os.path.join(get_datasets_base_path(), \"cores.stratified_ds.2022A.pkl\"),\n",
    "#     source_or_target_dataset=\"target\",\n",
    "#     x_transform_func=global_x_transform_func,\n",
    "#     domain_modifier=lambda u: f\"cores_{u}\"\n",
    "# )"
   ]
  },
  {
   "cell_type": "code",
   "execution_count": 15,
   "id": "76db484d",
   "metadata": {
    "execution": {
     "iopub.execute_input": "2022-03-22T11:32:10.956164Z",
     "iopub.status.busy": "2022-03-22T11:32:10.948830Z",
     "iopub.status.idle": "2022-03-22T11:32:10.969968Z",
     "shell.execute_reply": "2022-03-22T11:32:10.969169Z"
    },
    "papermill": {
     "duration": 0.044711,
     "end_time": "2022-03-22T11:32:10.970117",
     "exception": false,
     "start_time": "2022-03-22T11:32:10.925406",
     "status": "completed"
    },
    "tags": []
   },
   "outputs": [],
   "source": [
    "# from steves_utils.ORACLE.utils_v2 import (\n",
    "#     ALL_DISTANCES_FEET,\n",
    "#     ALL_RUNS,\n",
    "#     ALL_SERIAL_NUMBERS,\n",
    "# )\n",
    "\n",
    "\n",
    "# add_dataset(\n",
    "#     labels=ALL_SERIAL_NUMBERS,\n",
    "#     domains = list(set(ALL_DISTANCES_FEET) - {2,62}),\n",
    "#     num_examples_per_domain_per_label=100,\n",
    "#     pickle_path=os.path.join(get_datasets_base_path(), \"oracle.Run2_framed_2000Examples_stratified_ds.2022A.pkl\"),\n",
    "#     source_or_target_dataset=\"source\",\n",
    "#     x_transform_func=global_x_transform_func,\n",
    "#     domain_modifier=lambda u: f\"oracle1_{u}\"\n",
    "# )\n"
   ]
  },
  {
   "cell_type": "code",
   "execution_count": 16,
   "id": "97dea9d2",
   "metadata": {
    "execution": {
     "iopub.execute_input": "2022-03-22T11:32:11.020924Z",
     "iopub.status.busy": "2022-03-22T11:32:11.020553Z",
     "iopub.status.idle": "2022-03-22T11:32:11.047130Z",
     "shell.execute_reply": "2022-03-22T11:32:11.046327Z"
    },
    "papermill": {
     "duration": 0.051335,
     "end_time": "2022-03-22T11:32:11.047282",
     "exception": false,
     "start_time": "2022-03-22T11:32:10.995947",
     "status": "completed"
    },
    "tags": []
   },
   "outputs": [],
   "source": [
    "# from steves_utils.ORACLE.utils_v2 import (\n",
    "#     ALL_DISTANCES_FEET,\n",
    "#     ALL_RUNS,\n",
    "#     ALL_SERIAL_NUMBERS,\n",
    "# )\n",
    "\n",
    "\n",
    "# add_dataset(\n",
    "#     labels=ALL_SERIAL_NUMBERS,\n",
    "#     domains = list(set(ALL_DISTANCES_FEET) - {2,62,56}),\n",
    "#     num_examples_per_domain_per_label=100,\n",
    "#     pickle_path=os.path.join(get_datasets_base_path(), \"oracle.Run2_framed_2000Examples_stratified_ds.2022A.pkl\"),\n",
    "#     source_or_target_dataset=\"source\",\n",
    "#     x_transform_func=global_x_transform_func,\n",
    "#     domain_modifier=lambda u: f\"oracle2_{u}\"\n",
    "# )"
   ]
  },
  {
   "cell_type": "code",
   "execution_count": 17,
   "id": "6f289866",
   "metadata": {
    "execution": {
     "iopub.execute_input": "2022-03-22T11:32:11.101507Z",
     "iopub.status.busy": "2022-03-22T11:32:11.100956Z",
     "iopub.status.idle": "2022-03-22T11:32:11.125218Z",
     "shell.execute_reply": "2022-03-22T11:32:11.124415Z"
    },
    "papermill": {
     "duration": 0.048128,
     "end_time": "2022-03-22T11:32:11.125368",
     "exception": false,
     "start_time": "2022-03-22T11:32:11.077240",
     "status": "completed"
    },
    "tags": []
   },
   "outputs": [],
   "source": [
    "# add_dataset(\n",
    "#     labels=list(range(19)),\n",
    "#     domains = [0,1,2],\n",
    "#     num_examples_per_domain_per_label=100,\n",
    "#     pickle_path=os.path.join(get_datasets_base_path(), \"metehan.stratified_ds.2022A.pkl\"),\n",
    "#     source_or_target_dataset=\"target\",\n",
    "#     x_transform_func=global_x_transform_func,\n",
    "#     domain_modifier=lambda u: f\"met_{u}\"\n",
    "# )"
   ]
  },
  {
   "cell_type": "code",
   "execution_count": 18,
   "id": "86a863c3",
   "metadata": {
    "execution": {
     "iopub.execute_input": "2022-03-22T11:32:11.177039Z",
     "iopub.status.busy": "2022-03-22T11:32:11.176674Z",
     "iopub.status.idle": "2022-03-22T11:32:11.205336Z",
     "shell.execute_reply": "2022-03-22T11:32:11.204630Z"
    },
    "papermill": {
     "duration": 0.053572,
     "end_time": "2022-03-22T11:32:11.205485",
     "exception": false,
     "start_time": "2022-03-22T11:32:11.151913",
     "status": "completed"
    },
    "tags": []
   },
   "outputs": [],
   "source": [
    "# # from steves_utils.wisig.utils import (\n",
    "# #     ALL_NODES_MINIMUM_100_EXAMPLES,\n",
    "# #     ALL_NODES_MINIMUM_500_EXAMPLES,\n",
    "# #     ALL_NODES_MINIMUM_1000_EXAMPLES,\n",
    "# #     ALL_DAYS\n",
    "# # )\n",
    "\n",
    "# import steves_utils.wisig.utils as wisig\n",
    "\n",
    "\n",
    "# add_dataset(\n",
    "#     labels=wisig.ALL_NODES_MINIMUM_100_EXAMPLES,\n",
    "#     domains = wisig.ALL_DAYS,\n",
    "#     num_examples_per_domain_per_label=100,\n",
    "#     pickle_path=os.path.join(get_datasets_base_path(), \"wisig.node3-19.stratified_ds.2022A.pkl\"),\n",
    "#     source_or_target_dataset=\"target\",\n",
    "#     x_transform_func=global_x_transform_func,\n",
    "#     domain_modifier=lambda u: f\"wisig_{u}\"\n",
    "# )"
   ]
  },
  {
   "cell_type": "code",
   "execution_count": 19,
   "id": "fd5442bc",
   "metadata": {
    "execution": {
     "iopub.execute_input": "2022-03-22T11:32:11.262714Z",
     "iopub.status.busy": "2022-03-22T11:32:11.262131Z",
     "iopub.status.idle": "2022-03-22T11:32:11.283971Z",
     "shell.execute_reply": "2022-03-22T11:32:11.283150Z"
    },
    "papermill": {
     "duration": 0.051721,
     "end_time": "2022-03-22T11:32:11.284124",
     "exception": false,
     "start_time": "2022-03-22T11:32:11.232403",
     "status": "completed"
    },
    "tags": []
   },
   "outputs": [],
   "source": [
    "###################################\n",
    "# Build the dataset\n",
    "###################################\n",
    "train_original_source = Iterable_Aggregator(train_original_source, p.seed)\n",
    "val_original_source = Iterable_Aggregator(val_original_source, p.seed)\n",
    "test_original_source = Iterable_Aggregator(test_original_source, p.seed)\n",
    "\n",
    "\n",
    "train_original_target = Iterable_Aggregator(train_original_target, p.seed)\n",
    "val_original_target = Iterable_Aggregator(val_original_target, p.seed)\n",
    "test_original_target = Iterable_Aggregator(test_original_target, p.seed)\n",
    "\n",
    "# For CNN We only use X and Y. And we only train on the source.\n",
    "# Properly form the data using a transform lambda and Lazy_Iterable_Wrapper. Finally wrap them in a dataloader\n",
    "\n",
    "transform_lambda = lambda ex: ex[1] # Original is (<domain>, <episode>) so we strip down to episode only\n",
    "\n",
    "train_processed_source = Lazy_Iterable_Wrapper(train_original_source, transform_lambda)\n",
    "val_processed_source   = Lazy_Iterable_Wrapper(val_original_source, transform_lambda)\n",
    "test_processed_source  = Lazy_Iterable_Wrapper(test_original_source, transform_lambda)\n",
    "\n",
    "train_processed_target = Lazy_Iterable_Wrapper(train_original_target, transform_lambda)\n",
    "val_processed_target   = Lazy_Iterable_Wrapper(val_original_target, transform_lambda)\n",
    "test_processed_target  = Lazy_Iterable_Wrapper(test_original_target, transform_lambda)\n",
    "\n",
    "datasets = EasyDict({\n",
    "    \"source\": {\n",
    "        \"original\": {\"train\":train_original_source, \"val\":val_original_source, \"test\":test_original_source},\n",
    "        \"processed\": {\"train\":train_processed_source, \"val\":val_processed_source, \"test\":test_processed_source}\n",
    "    },\n",
    "    \"target\": {\n",
    "        \"original\": {\"train\":train_original_target, \"val\":val_original_target, \"test\":test_original_target},\n",
    "        \"processed\": {\"train\":train_processed_target, \"val\":val_processed_target, \"test\":test_processed_target}\n",
    "    },\n",
    "})"
   ]
  },
  {
   "cell_type": "code",
   "execution_count": 20,
   "id": "5b3c01fc",
   "metadata": {
    "execution": {
     "iopub.execute_input": "2022-03-22T11:32:11.339314Z",
     "iopub.status.busy": "2022-03-22T11:32:11.338947Z",
     "iopub.status.idle": "2022-03-22T11:32:43.219003Z",
     "shell.execute_reply": "2022-03-22T11:32:43.219838Z"
    },
    "papermill": {
     "duration": 31.906344,
     "end_time": "2022-03-22T11:32:43.220059",
     "exception": false,
     "start_time": "2022-03-22T11:32:11.313715",
     "status": "completed"
    },
    "tags": []
   },
   "outputs": [
    {
     "name": "stdout",
     "output_type": "stream",
     "text": [
      "{'CORES_4', 'CORES_2', 'CORES_5', 'CORES_3', 'CORES_1'}\n"
     ]
    },
    {
     "name": "stdout",
     "output_type": "stream",
     "text": [
      "{'ORACLE.run1_50', 'ORACLE.run1_8', 'ORACLE.run1_44', 'ORACLE.run1_14', 'ORACLE.run1_32', 'ORACLE.run1_26', 'ORACLE.run1_38', 'ORACLE.run1_20'}\n"
     ]
    },
    {
     "name": "stdout",
     "output_type": "stream",
     "text": [
      "tensor([[[-5.8290e-03, -3.4181e-03,  1.2482e-02,  ..., -3.0518e-04,\n",
      "          -4.1505e-03,  3.3875e-03],\n",
      "         [ 2.6856e-03, -1.0102e-02, -5.7374e-03,  ...,  2.5025e-03,\n",
      "           1.8311e-03, -1.3550e-02]],\n",
      "\n",
      "        [[-2.6246e-03,  1.8006e-03,  1.3153e-02,  ...,  1.8616e-03,\n",
      "          -3.9063e-03,  2.5635e-03],\n",
      "         [ 1.5259e-04, -7.6601e-03,  3.0824e-03,  ...,  9.1555e-04,\n",
      "          -1.8311e-03, -2.2584e-03]],\n",
      "\n",
      "        [[ 3.5096e-03, -1.2390e-02, -7.6601e-03,  ...,  8.1484e-03,\n",
      "           5.2492e-03, -7.9348e-03],\n",
      "         [ 1.3214e-02,  2.5941e-03, -7.2328e-03,  ...,  5.2186e-03,\n",
      "           1.4222e-02,  2.4415e-03]],\n",
      "\n",
      "        ...,\n",
      "\n",
      "        [[-1.8311e-03,  2.0447e-03,  4.8219e-03,  ...,  2.5941e-03,\n",
      "          -3.1129e-03,  1.0041e-02],\n",
      "         [ 5.0050e-03,  5.3102e-03, -1.1902e-03,  ...,  3.9674e-04,\n",
      "           2.5941e-03,  2.5330e-03]],\n",
      "\n",
      "        [[-3.0518e-05,  2.7161e-03, -1.5870e-03,  ..., -5.9816e-03,\n",
      "          -5.1881e-03,  3.1129e-03],\n",
      "         [-3.9674e-04, -4.4557e-03, -4.9745e-03,  ..., -8.0568e-03,\n",
      "           9.4607e-04, -2.1363e-03]],\n",
      "\n",
      "        [[-1.1597e-03,  1.1597e-03,  1.8921e-03,  ...,  1.7395e-03,\n",
      "          -8.5146e-03, -7.9348e-03],\n",
      "         [-4.2726e-04,  2.7467e-04,  1.5259e-04,  ..., -1.1841e-02,\n",
      "          -9.6438e-03,  7.1718e-03]]])\n"
     ]
    }
   ],
   "source": [
    "from steves_utils.transforms import get_average_magnitude, get_average_power\n",
    "\n",
    "print(set([u for u,_ in val_original_source]))\n",
    "print(set([u for u,_ in val_original_target]))\n",
    "\n",
    "s_x, s_y, q_x, q_y, _ = next(iter(train_processed_source))\n",
    "print(s_x)\n",
    "\n",
    "# for ds in [\n",
    "#     train_processed_source,\n",
    "#     val_processed_source,\n",
    "#     test_processed_source,\n",
    "#     train_processed_target,\n",
    "#     val_processed_target,\n",
    "#     test_processed_target\n",
    "# ]:\n",
    "#     for s_x, s_y, q_x, q_y, _ in ds:\n",
    "#         for X in (s_x, q_x):\n",
    "#             for x in X:\n",
    "#                 assert np.isclose(get_average_magnitude(x.numpy()), 1.0)\n",
    "#                 assert np.isclose(get_average_power(x.numpy()), 1.0)\n",
    "                "
   ]
  },
  {
   "cell_type": "code",
   "execution_count": 21,
   "id": "bbdacba1",
   "metadata": {
    "execution": {
     "iopub.execute_input": "2022-03-22T11:32:43.278934Z",
     "iopub.status.busy": "2022-03-22T11:32:43.278551Z",
     "iopub.status.idle": "2022-03-22T11:32:43.467731Z",
     "shell.execute_reply": "2022-03-22T11:32:43.467022Z"
    },
    "papermill": {
     "duration": 0.218044,
     "end_time": "2022-03-22T11:32:43.467907",
     "exception": false,
     "start_time": "2022-03-22T11:32:43.249863",
     "status": "completed"
    },
    "tags": []
   },
   "outputs": [
    {
     "name": "stdout",
     "output_type": "stream",
     "text": [
      "(2, 256)\n"
     ]
    }
   ],
   "source": [
    "###################################\n",
    "# Build the model\n",
    "###################################\n",
    "# easfsl only wants a tuple for the shape\n",
    "model = Steves_Prototypical_Network(x_net, device=p.device, x_shape=tuple(p.x_shape))\n",
    "optimizer = Adam(params=model.parameters(), lr=p.lr)"
   ]
  },
  {
   "cell_type": "code",
   "execution_count": 22,
   "id": "22b39ac5",
   "metadata": {
    "execution": {
     "iopub.execute_input": "2022-03-22T11:32:43.523097Z",
     "iopub.status.busy": "2022-03-22T11:32:43.519848Z",
     "iopub.status.idle": "2022-03-22T11:47:44.791201Z",
     "shell.execute_reply": "2022-03-22T11:47:44.790850Z"
    },
    "papermill": {
     "duration": 901.295962,
     "end_time": "2022-03-22T11:47:44.791290",
     "exception": false,
     "start_time": "2022-03-22T11:32:43.495328",
     "status": "completed"
    },
    "tags": []
   },
   "outputs": [
    {
     "name": "stdout",
     "output_type": "stream",
     "text": [
      "epoch: 1, [batch: 1 / 6297], examples_per_second: 34.2857, train_label_loss: 2.0536, \n"
     ]
    },
    {
     "name": "stdout",
     "output_type": "stream",
     "text": [
      "epoch: 1, [batch: 630 / 6297], examples_per_second: 3806.4051, train_label_loss: 0.1451, \n"
     ]
    },
    {
     "name": "stdout",
     "output_type": "stream",
     "text": [
      "epoch: 1, [batch: 1260 / 6297], examples_per_second: 3796.7140, train_label_loss: 0.0341, \n"
     ]
    },
    {
     "name": "stdout",
     "output_type": "stream",
     "text": [
      "epoch: 1, [batch: 1889 / 6297], examples_per_second: 3979.1151, train_label_loss: 0.0015, \n"
     ]
    },
    {
     "name": "stdout",
     "output_type": "stream",
     "text": [
      "epoch: 1, [batch: 2519 / 6297], examples_per_second: 4242.2715, train_label_loss: 0.0006, \n"
     ]
    },
    {
     "name": "stdout",
     "output_type": "stream",
     "text": [
      "epoch: 1, [batch: 3149 / 6297], examples_per_second: 4378.9678, train_label_loss: 0.0001, \n"
     ]
    },
    {
     "name": "stdout",
     "output_type": "stream",
     "text": [
      "epoch: 1, [batch: 3778 / 6297], examples_per_second: 3846.6960, train_label_loss: 0.0033, \n"
     ]
    },
    {
     "name": "stdout",
     "output_type": "stream",
     "text": [
      "epoch: 1, [batch: 4408 / 6297], examples_per_second: 3818.9292, train_label_loss: 0.0014, \n"
     ]
    },
    {
     "name": "stdout",
     "output_type": "stream",
     "text": [
      "epoch: 1, [batch: 5037 / 6297], examples_per_second: 3870.9590, train_label_loss: 0.0001, \n"
     ]
    },
    {
     "name": "stdout",
     "output_type": "stream",
     "text": [
      "epoch: 1, [batch: 5667 / 6297], examples_per_second: 3845.3858, train_label_loss: 0.0000, \n"
     ]
    },
    {
     "name": "stdout",
     "output_type": "stream",
     "text": [
      "=============================================================\n",
      "epoch: 1, source_val_acc_label: 0.9981, target_val_acc_label: 0.3873, source_val_label_loss: 0.0099, target_val_label_loss: 1.9517, \n",
      "=============================================================\n"
     ]
    },
    {
     "name": "stdout",
     "output_type": "stream",
     "text": [
      "New best\n"
     ]
    },
    {
     "name": "stdout",
     "output_type": "stream",
     "text": [
      "epoch: 2, [batch: 1 / 6333], examples_per_second: 1.9614, train_label_loss: 0.0013, \n"
     ]
    },
    {
     "name": "stdout",
     "output_type": "stream",
     "text": [
      "epoch: 2, [batch: 634 / 6333], examples_per_second: 4468.4097, train_label_loss: 0.0000, \n"
     ]
    },
    {
     "name": "stdout",
     "output_type": "stream",
     "text": [
      "epoch: 2, [batch: 1267 / 6333], examples_per_second: 3870.1068, train_label_loss: 0.0003, \n"
     ]
    },
    {
     "name": "stdout",
     "output_type": "stream",
     "text": [
      "epoch: 2, [batch: 1900 / 6333], examples_per_second: 4022.2300, train_label_loss: 0.0000, \n"
     ]
    },
    {
     "name": "stdout",
     "output_type": "stream",
     "text": [
      "epoch: 2, [batch: 2533 / 6333], examples_per_second: 3864.0463, train_label_loss: 0.0000, \n"
     ]
    },
    {
     "name": "stdout",
     "output_type": "stream",
     "text": [
      "epoch: 2, [batch: 3167 / 6333], examples_per_second: 3871.1506, train_label_loss: 0.0281, \n"
     ]
    },
    {
     "name": "stdout",
     "output_type": "stream",
     "text": [
      "epoch: 2, [batch: 3800 / 6333], examples_per_second: 3936.4651, train_label_loss: 0.0000, \n"
     ]
    },
    {
     "name": "stdout",
     "output_type": "stream",
     "text": [
      "epoch: 2, [batch: 4433 / 6333], examples_per_second: 3924.2886, train_label_loss: 0.0000, \n"
     ]
    },
    {
     "name": "stdout",
     "output_type": "stream",
     "text": [
      "epoch: 2, [batch: 5066 / 6333], examples_per_second: 3928.7514, train_label_loss: 0.0001, \n"
     ]
    },
    {
     "name": "stdout",
     "output_type": "stream",
     "text": [
      "epoch: 2, [batch: 5699 / 6333], examples_per_second: 4000.8099, train_label_loss: 0.0006, \n"
     ]
    },
    {
     "name": "stdout",
     "output_type": "stream",
     "text": [
      "=============================================================\n",
      "epoch: 2, source_val_acc_label: 0.9990, target_val_acc_label: 0.3608, source_val_label_loss: 0.0118, target_val_label_loss: 2.0028, \n",
      "=============================================================\n"
     ]
    },
    {
     "name": "stdout",
     "output_type": "stream",
     "text": [
      "epoch: 3, [batch: 1 / 6305], examples_per_second: 2.0901, train_label_loss: 0.1548, \n"
     ]
    },
    {
     "name": "stdout",
     "output_type": "stream",
     "text": [
      "epoch: 3, [batch: 631 / 6305], examples_per_second: 3881.4362, train_label_loss: 0.0000, \n"
     ]
    },
    {
     "name": "stdout",
     "output_type": "stream",
     "text": [
      "epoch: 3, [batch: 1261 / 6305], examples_per_second: 4036.5358, train_label_loss: 0.0000, \n"
     ]
    },
    {
     "name": "stdout",
     "output_type": "stream",
     "text": [
      "epoch: 3, [batch: 1892 / 6305], examples_per_second: 3983.8205, train_label_loss: 0.0000, \n"
     ]
    },
    {
     "name": "stdout",
     "output_type": "stream",
     "text": [
      "epoch: 3, [batch: 2522 / 6305], examples_per_second: 3991.2230, train_label_loss: 0.0019, \n"
     ]
    },
    {
     "name": "stdout",
     "output_type": "stream",
     "text": [
      "epoch: 3, [batch: 3153 / 6305], examples_per_second: 4033.4551, train_label_loss: 0.0008, \n"
     ]
    },
    {
     "name": "stdout",
     "output_type": "stream",
     "text": [
      "epoch: 3, [batch: 3783 / 6305], examples_per_second: 3896.5638, train_label_loss: 0.0001, \n"
     ]
    },
    {
     "name": "stdout",
     "output_type": "stream",
     "text": [
      "epoch: 3, [batch: 4413 / 6305], examples_per_second: 3844.7531, train_label_loss: 0.0000, \n"
     ]
    },
    {
     "name": "stdout",
     "output_type": "stream",
     "text": [
      "epoch: 3, [batch: 5044 / 6305], examples_per_second: 4089.7310, train_label_loss: 0.0000, \n"
     ]
    },
    {
     "name": "stdout",
     "output_type": "stream",
     "text": [
      "epoch: 3, [batch: 5674 / 6305], examples_per_second: 4368.8293, train_label_loss: 0.0000, \n"
     ]
    },
    {
     "name": "stdout",
     "output_type": "stream",
     "text": [
      "=============================================================\n",
      "epoch: 3, source_val_acc_label: 0.9985, target_val_acc_label: 0.3819, source_val_label_loss: 0.0139, target_val_label_loss: 1.7607, \n",
      "=============================================================\n"
     ]
    },
    {
     "name": "stdout",
     "output_type": "stream",
     "text": [
      "epoch: 4, [batch: 1 / 6323], examples_per_second: 2.0257, train_label_loss: 0.0000, \n"
     ]
    },
    {
     "name": "stdout",
     "output_type": "stream",
     "text": [
      "epoch: 4, [batch: 633 / 6323], examples_per_second: 3911.4690, train_label_loss: 0.0016, \n"
     ]
    },
    {
     "name": "stdout",
     "output_type": "stream",
     "text": [
      "epoch: 4, [batch: 1265 / 6323], examples_per_second: 4039.7482, train_label_loss: 0.0000, \n"
     ]
    },
    {
     "name": "stdout",
     "output_type": "stream",
     "text": [
      "epoch: 4, [batch: 1897 / 6323], examples_per_second: 3887.4514, train_label_loss: 0.0009, \n"
     ]
    },
    {
     "name": "stdout",
     "output_type": "stream",
     "text": [
      "epoch: 4, [batch: 2529 / 6323], examples_per_second: 3805.2462, train_label_loss: 0.0000, \n"
     ]
    },
    {
     "name": "stdout",
     "output_type": "stream",
     "text": [
      "epoch: 4, [batch: 3162 / 6323], examples_per_second: 4303.0965, train_label_loss: 0.0000, \n"
     ]
    },
    {
     "name": "stdout",
     "output_type": "stream",
     "text": [
      "epoch: 4, [batch: 3794 / 6323], examples_per_second: 4414.8759, train_label_loss: 0.0000, \n"
     ]
    },
    {
     "name": "stdout",
     "output_type": "stream",
     "text": [
      "epoch: 4, [batch: 4426 / 6323], examples_per_second: 4349.7231, train_label_loss: 0.0000, \n"
     ]
    },
    {
     "name": "stdout",
     "output_type": "stream",
     "text": [
      "epoch: 4, [batch: 5058 / 6323], examples_per_second: 4377.0394, train_label_loss: 0.0009, \n"
     ]
    },
    {
     "name": "stdout",
     "output_type": "stream",
     "text": [
      "epoch: 4, [batch: 5690 / 6323], examples_per_second: 4471.7243, train_label_loss: 0.0000, \n"
     ]
    },
    {
     "name": "stdout",
     "output_type": "stream",
     "text": [
      "=============================================================\n",
      "epoch: 4, source_val_acc_label: 0.9992, target_val_acc_label: 0.3681, source_val_label_loss: 0.0081, target_val_label_loss: 1.8709, \n",
      "=============================================================\n"
     ]
    },
    {
     "name": "stdout",
     "output_type": "stream",
     "text": [
      "epoch: 5, [batch: 1 / 6317], examples_per_second: 2.3960, train_label_loss: 0.0000, \n"
     ]
    },
    {
     "name": "stdout",
     "output_type": "stream",
     "text": [
      "epoch: 5, [batch: 632 / 6317], examples_per_second: 4896.2901, train_label_loss: 0.0000, \n"
     ]
    },
    {
     "name": "stdout",
     "output_type": "stream",
     "text": [
      "epoch: 5, [batch: 1264 / 6317], examples_per_second: 5109.5444, train_label_loss: 0.0000, \n"
     ]
    },
    {
     "name": "stdout",
     "output_type": "stream",
     "text": [
      "epoch: 5, [batch: 1895 / 6317], examples_per_second: 5316.1735, train_label_loss: 0.0000, \n"
     ]
    },
    {
     "name": "stdout",
     "output_type": "stream",
     "text": [
      "epoch: 5, [batch: 2527 / 6317], examples_per_second: 5315.6867, train_label_loss: 0.0000, \n"
     ]
    },
    {
     "name": "stdout",
     "output_type": "stream",
     "text": [
      "epoch: 5, [batch: 3159 / 6317], examples_per_second: 5371.5056, train_label_loss: 0.0000, \n"
     ]
    },
    {
     "name": "stdout",
     "output_type": "stream",
     "text": [
      "epoch: 5, [batch: 3790 / 6317], examples_per_second: 5243.4434, train_label_loss: 0.0000, \n"
     ]
    },
    {
     "name": "stdout",
     "output_type": "stream",
     "text": [
      "epoch: 5, [batch: 4422 / 6317], examples_per_second: 4994.3409, train_label_loss: 0.0002, \n"
     ]
    },
    {
     "name": "stdout",
     "output_type": "stream",
     "text": [
      "epoch: 5, [batch: 5053 / 6317], examples_per_second: 5266.4139, train_label_loss: 0.0001, \n"
     ]
    },
    {
     "name": "stdout",
     "output_type": "stream",
     "text": [
      "epoch: 5, [batch: 5685 / 6317], examples_per_second: 5433.5424, train_label_loss: 0.0000, \n"
     ]
    },
    {
     "name": "stdout",
     "output_type": "stream",
     "text": [
      "=============================================================\n",
      "epoch: 5, source_val_acc_label: 0.9993, target_val_acc_label: 0.3685, source_val_label_loss: 0.0070, target_val_label_loss: 1.8821, \n",
      "=============================================================\n"
     ]
    },
    {
     "name": "stdout",
     "output_type": "stream",
     "text": [
      "Patience (3) exhausted\n"
     ]
    }
   ],
   "source": [
    "###################################\n",
    "# train\n",
    "###################################\n",
    "jig = PTN_Train_Eval_Test_Jig(model, p.BEST_MODEL_PATH, p.device)\n",
    "\n",
    "jig.train(\n",
    "    train_iterable=datasets.source.processed.train,\n",
    "    source_val_iterable=datasets.source.processed.val,\n",
    "    target_val_iterable=datasets.target.processed.val,\n",
    "    num_epochs=p.n_epoch,\n",
    "    num_logs_per_epoch=p.NUM_LOGS_PER_EPOCH,\n",
    "    patience=p.patience,\n",
    "    optimizer=optimizer,\n",
    "    criteria_for_best=p.criteria_for_best,\n",
    ")"
   ]
  },
  {
   "cell_type": "code",
   "execution_count": 23,
   "id": "31e8fabf",
   "metadata": {
    "execution": {
     "iopub.execute_input": "2022-03-22T11:47:44.872482Z",
     "iopub.status.busy": "2022-03-22T11:47:44.872109Z",
     "iopub.status.idle": "2022-03-22T11:47:44.903186Z",
     "shell.execute_reply": "2022-03-22T11:47:44.902340Z"
    },
    "papermill": {
     "duration": 0.074107,
     "end_time": "2022-03-22T11:47:44.903353",
     "exception": false,
     "start_time": "2022-03-22T11:47:44.829246",
     "status": "completed"
    },
    "tags": []
   },
   "outputs": [],
   "source": [
    "total_experiment_time_secs = time.time() - start_time_secs"
   ]
  },
  {
   "cell_type": "code",
   "execution_count": 24,
   "id": "87b9595b",
   "metadata": {
    "execution": {
     "iopub.execute_input": "2022-03-22T11:47:44.995883Z",
     "iopub.status.busy": "2022-03-22T11:47:44.995463Z",
     "iopub.status.idle": "2022-03-22T11:55:57.546317Z",
     "shell.execute_reply": "2022-03-22T11:55:57.545453Z"
    },
    "papermill": {
     "duration": 492.599145,
     "end_time": "2022-03-22T11:55:57.546520",
     "exception": false,
     "start_time": "2022-03-22T11:47:44.947375",
     "status": "completed"
    },
    "tags": []
   },
   "outputs": [],
   "source": [
    "###################################\n",
    "# Evaluate the model\n",
    "###################################\n",
    "source_test_label_accuracy, source_test_label_loss = jig.test(datasets.source.processed.test)\n",
    "target_test_label_accuracy, target_test_label_loss = jig.test(datasets.target.processed.test)\n",
    "\n",
    "source_val_label_accuracy, source_val_label_loss = jig.test(datasets.source.processed.val)\n",
    "target_val_label_accuracy, target_val_label_loss = jig.test(datasets.target.processed.val)\n",
    "\n",
    "history = jig.get_history()\n",
    "\n",
    "total_epochs_trained = len(history[\"epoch_indices\"])\n",
    "\n",
    "val_dl = Iterable_Aggregator((datasets.source.original.val,datasets.target.original.val))\n",
    "\n",
    "confusion = ptn_confusion_by_domain_over_dataloader(model, p.device, val_dl)\n",
    "per_domain_accuracy = per_domain_accuracy_from_confusion(confusion)\n",
    "\n",
    "# Add a key to per_domain_accuracy for if it was a source domain\n",
    "for domain, accuracy in per_domain_accuracy.items():\n",
    "    per_domain_accuracy[domain] = {\n",
    "        \"accuracy\": accuracy,\n",
    "        \"source?\": domain in p.domains_source\n",
    "    }\n",
    "\n",
    "# Do an independent accuracy assesment JUST TO BE SURE!\n",
    "# _source_test_label_accuracy = independent_accuracy_assesment(model, datasets.source.processed.test, p.device)\n",
    "# _target_test_label_accuracy = independent_accuracy_assesment(model, datasets.target.processed.test, p.device)\n",
    "# _source_val_label_accuracy = independent_accuracy_assesment(model, datasets.source.processed.val, p.device)\n",
    "# _target_val_label_accuracy = independent_accuracy_assesment(model, datasets.target.processed.val, p.device)\n",
    "\n",
    "# assert(_source_test_label_accuracy == source_test_label_accuracy)\n",
    "# assert(_target_test_label_accuracy == target_test_label_accuracy)\n",
    "# assert(_source_val_label_accuracy == source_val_label_accuracy)\n",
    "# assert(_target_val_label_accuracy == target_val_label_accuracy)\n",
    "\n",
    "experiment = {\n",
    "    \"experiment_name\": p.experiment_name,\n",
    "    \"parameters\": dict(p),\n",
    "    \"results\": {\n",
    "        \"source_test_label_accuracy\": source_test_label_accuracy,\n",
    "        \"source_test_label_loss\": source_test_label_loss,\n",
    "        \"target_test_label_accuracy\": target_test_label_accuracy,\n",
    "        \"target_test_label_loss\": target_test_label_loss,\n",
    "        \"source_val_label_accuracy\": source_val_label_accuracy,\n",
    "        \"source_val_label_loss\": source_val_label_loss,\n",
    "        \"target_val_label_accuracy\": target_val_label_accuracy,\n",
    "        \"target_val_label_loss\": target_val_label_loss,\n",
    "        \"total_epochs_trained\": total_epochs_trained,\n",
    "        \"total_experiment_time_secs\": total_experiment_time_secs,\n",
    "        \"confusion\": confusion,\n",
    "        \"per_domain_accuracy\": per_domain_accuracy,\n",
    "    },\n",
    "    \"history\": history,\n",
    "    \"dataset_metrics\": get_dataset_metrics(datasets, \"ptn\"),\n",
    "}"
   ]
  },
  {
   "cell_type": "code",
   "execution_count": 25,
   "id": "54a21829",
   "metadata": {
    "execution": {
     "iopub.execute_input": "2022-03-22T11:55:57.633879Z",
     "iopub.status.busy": "2022-03-22T11:55:57.633499Z",
     "iopub.status.idle": "2022-03-22T11:55:57.864176Z",
     "shell.execute_reply": "2022-03-22T11:55:57.864886Z"
    },
    "papermill": {
     "duration": 0.274257,
     "end_time": "2022-03-22T11:55:57.865130",
     "exception": false,
     "start_time": "2022-03-22T11:55:57.590873",
     "status": "completed"
    },
    "tags": []
   },
   "outputs": [
    {
     "data": {
      "image/png": "[encoded data removed]",
      "text/plain": [
       "<Figure size 1080x504 with 1 Axes>"
      ]
     },
     "metadata": {
      "needs_background": "light"
     },
     "output_type": "display_data"
    }
   ],
   "source": [
    "ax = get_loss_curve(experiment)\n",
    "plt.show()"
   ]
  },
  {
   "cell_type": "code",
   "execution_count": 26,
   "id": "fd8a0f60",
   "metadata": {
    "execution": {
     "iopub.execute_input": "2022-03-22T11:55:57.951369Z",
     "iopub.status.busy": "2022-03-22T11:55:57.950999Z",
     "iopub.status.idle": "2022-03-22T11:55:58.276894Z",
     "shell.execute_reply": "2022-03-22T11:55:58.277214Z"
    },
    "papermill": {
     "duration": 0.368393,
     "end_time": "2022-03-22T11:55:58.277341",
     "exception": false,
     "start_time": "2022-03-22T11:55:57.908948",
     "status": "completed"
    },
    "tags": []
   },
   "outputs": [
    {
     "data": {
      "text/plain": [
       "<AxesSubplot:title={'center':'Results'}>"
      ]
     },
     "execution_count": 26,
     "metadata": {},
     "output_type": "execute_result"
    },
    {
     "data": {
      "image/png": "[encoded data removed]",
      "text/plain": [
       "<Figure size 1080x504 with 1 Axes>"
      ]
     },
     "metadata": {
      "needs_background": "light"
     },
     "output_type": "display_data"
    }
   ],
   "source": [
    "get_results_table(experiment)"
   ]
  },
  {
   "cell_type": "code",
   "execution_count": 27,
   "id": "cf8dc689",
   "metadata": {
    "execution": {
     "iopub.execute_input": "2022-03-22T11:55:58.367375Z",
     "iopub.status.busy": "2022-03-22T11:55:58.367003Z",
     "iopub.status.idle": "2022-03-22T11:55:58.630908Z",
     "shell.execute_reply": "2022-03-22T11:55:58.631628Z"
    },
    "papermill": {
     "duration": 0.310407,
     "end_time": "2022-03-22T11:55:58.631851",
     "exception": false,
     "start_time": "2022-03-22T11:55:58.321444",
     "status": "completed"
    },
    "tags": []
   },
   "outputs": [
    {
     "data": {
      "text/plain": [
       "<AxesSubplot:title={'center':'Per Domain Validation Accuracy'}, xlabel='domain'>"
      ]
     },
     "execution_count": 27,
     "metadata": {},
     "output_type": "execute_result"
    },
    {
     "data": {
      "image/png": "[encoded data removed]",
      "text/plain": [
       "<Figure size 1080x504 with 1 Axes>"
      ]
     },
     "metadata": {
      "needs_background": "light"
     },
     "output_type": "display_data"
    }
   ],
   "source": [
    "get_domain_accuracies(experiment)"
   ]
  },
  {
   "cell_type": "code",
   "execution_count": 28,
   "id": "a74ae082",
   "metadata": {
    "execution": {
     "iopub.execute_input": "2022-03-22T11:55:58.731156Z",
     "iopub.status.busy": "2022-03-22T11:55:58.730773Z",
     "iopub.status.idle": "2022-03-22T11:55:58.759390Z",
     "shell.execute_reply": "2022-03-22T11:55:58.758660Z"
    },
    "papermill": {
     "duration": 0.076849,
     "end_time": "2022-03-22T11:55:58.759587",
     "exception": false,
     "start_time": "2022-03-22T11:55:58.682738",
     "status": "completed"
    },
    "tags": []
   },
   "outputs": [
    {
     "name": "stdout",
     "output_type": "stream",
     "text": [
      "Source Test Label Accuracy: 0.9982152855543113 Target Test Label Accuracy: 0.3901953125\n",
      "Source Val Label Accuracy: 0.9981407322654462 Target Val Label Accuracy: 0.387265625\n"
     ]
    }
   ],
   "source": [
    "print(\"Source Test Label Accuracy:\", experiment[\"results\"][\"source_test_label_accuracy\"], \"Target Test Label Accuracy:\", experiment[\"results\"][\"target_test_label_accuracy\"])\n",
    "print(\"Source Val Label Accuracy:\", experiment[\"results\"][\"source_val_label_accuracy\"], \"Target Val Label Accuracy:\", experiment[\"results\"][\"target_val_label_accuracy\"])"
   ]
  },
  {
   "cell_type": "code",
   "execution_count": 29,
   "id": "dacca602",
   "metadata": {
    "execution": {
     "iopub.execute_input": "2022-03-22T11:55:58.855496Z",
     "iopub.status.busy": "2022-03-22T11:55:58.855128Z",
     "iopub.status.idle": "2022-03-22T11:55:58.882278Z",
     "shell.execute_reply": "2022-03-22T11:55:58.882946Z"
    },
    "papermill": {
     "duration": 0.075109,
     "end_time": "2022-03-22T11:55:58.883140",
     "exception": false,
     "start_time": "2022-03-22T11:55:58.808031",
     "status": "completed"
    },
    "tags": [
     "experiment_json"
    ]
   },
   "outputs": [
    {
     "data": {
      "text/plain": [
       "'{\"experiment_name\": \"tl_1v2:cores-oracle.run1\", \"parameters\": {\"experiment_name\": \"tl_1v2:cores-oracle.run1\", \"device\": \"cuda\", \"lr\": 0.0001, \"n_shot\": 3, \"n_query\": 2, \"train_k_factor\": 3, \"val_k_factor\": 2, \"test_k_factor\": 2, \"torch_default_dtype\": \"torch.float32\", \"n_epoch\": 50, \"patience\": 3, \"criteria_for_best\": \"target_accuracy\", \"x_net\": [{\"class\": \"nnReshape\", \"kargs\": {\"shape\": [-1, 1, 2, 256]}}, {\"class\": \"Conv2d\", \"kargs\": {\"in_channels\": 1, \"out_channels\": 256, \"kernel_size\": [1, 7], \"bias\": false, \"padding\": [0, 3]}}, {\"class\": \"ReLU\", \"kargs\": {\"inplace\": true}}, {\"class\": \"BatchNorm2d\", \"kargs\": {\"num_features\": 256}}, {\"class\": \"Conv2d\", \"kargs\": {\"in_channels\": 256, \"out_channels\": 80, \"kernel_size\": [2, 7], \"bias\": true, \"padding\": [0, 3]}}, {\"class\": \"ReLU\", \"kargs\": {\"inplace\": true}}, {\"class\": \"BatchNorm2d\", \"kargs\": {\"num_features\": 80}}, {\"class\": \"Flatten\", \"kargs\": {}}, {\"class\": \"Linear\", \"kargs\": {\"in_features\": 20480, \"out_features\": 256}}, {\"class\": \"ReLU\", \"kargs\": {\"inplace\": true}}, {\"class\": \"BatchNorm1d\", \"kargs\": {\"num_features\": 256}}, {\"class\": \"Linear\", \"kargs\": {\"in_features\": 256, \"out_features\": 256}}], \"NUM_LOGS_PER_EPOCH\": 10, \"BEST_MODEL_PATH\": \"./best_model.pth\", \"n_way\": 16, \"datasets\": [{\"labels\": [\"1-10.\", \"1-11.\", \"1-15.\", \"1-16.\", \"1-17.\", \"1-18.\", \"1-19.\", \"10-4.\", \"10-7.\", \"11-1.\", \"11-14.\", \"11-17.\", \"11-20.\", \"11-7.\", \"13-20.\", \"13-8.\", \"14-10.\", \"14-11.\", \"14-14.\", \"14-7.\", \"15-1.\", \"15-20.\", \"16-1.\", \"16-16.\", \"17-10.\", \"17-11.\", \"17-2.\", \"19-1.\", \"19-16.\", \"19-19.\", \"19-20.\", \"19-3.\", \"2-10.\", \"2-11.\", \"2-17.\", \"2-18.\", \"2-20.\", \"2-3.\", \"2-4.\", \"2-5.\", \"2-6.\", \"2-7.\", \"2-8.\", \"3-13.\", \"3-18.\", \"3-3.\", \"4-1.\", \"4-10.\", \"4-11.\", \"4-19.\", \"5-5.\", \"6-15.\", \"7-10.\", \"7-14.\", \"8-18.\", \"8-20.\", \"8-3.\", \"8-8.\"], \"domains\": [1, 2, 3, 4, 5], \"num_examples_per_domain_per_label\": -1, \"pickle_path\": \"/root/csc500-main/datasets/cores.stratified_ds.2022A.pkl\", \"source_or_target_dataset\": \"source\", \"x_transforms\": [], \"episode_transforms\": [], \"domain_prefix\": \"CORES_\"}, {\"labels\": [\"3123D52\", \"3123D65\", \"3123D79\", \"3123D80\", \"3123D54\", \"3123D70\", \"3123D7B\", \"3123D89\", \"3123D58\", \"3123D76\", \"3123D7D\", \"3123EFE\", \"3123D64\", \"3123D78\", \"3123D7E\", \"3124E4A\"], \"domains\": [32, 38, 8, 44, 14, 50, 20, 26], \"num_examples_per_domain_per_label\": 10000, \"pickle_path\": \"/root/csc500-main/datasets/oracle.Run1_10kExamples_stratified_ds.2022A.pkl\", \"source_or_target_dataset\": \"target\", \"x_transforms\": [], \"episode_transforms\": [], \"domain_prefix\": \"ORACLE.run1_\"}], \"dataset_seed\": 154325, \"seed\": 154325, \"x_shape\": [2, 256], \"domains_source\": [\"CORES_1\", \"CORES_2\", \"CORES_3\", \"CORES_4\", \"CORES_5\"], \"domains_target\": [\"ORACLE.run1_32\", \"ORACLE.run1_38\", \"ORACLE.run1_8\", \"ORACLE.run1_44\", \"ORACLE.run1_14\", \"ORACLE.run1_50\", \"ORACLE.run1_20\", \"ORACLE.run1_26\"]}, \"results\": {\"source_test_label_accuracy\": 0.9982152855543113, \"source_test_label_loss\": 0.009556139819324017, \"target_test_label_accuracy\": 0.3901953125, \"target_test_label_loss\": 1.9503895044326782, \"source_val_label_accuracy\": 0.9981407322654462, \"source_val_label_loss\": 0.009868270717561245, \"target_val_label_accuracy\": 0.387265625, \"target_val_label_loss\": 1.9517254829406738, \"total_epochs_trained\": 5, \"total_experiment_time_secs\": 944.9199905395508, \"confusion\": {\"CORES_2\": {\"21\": {\"21\": 120}, \"4\": {\"4\": 130}, \"6\": {\"6\": 124}, \"10\": {\"10\": 112}, \"33\": {\"33\": 28}, \"56\": {\"56\": 122}, \"20\": {\"20\": 132}, \"24\": {\"24\": 96}, \"45\": {\"45\": 127, \"50\": 1}, \"32\": {\"32\": 28}, \"27\": {\"27\": 148}, \"53\": {\"53\": 136}, \"8\": {\"8\": 160}, \"54\": {\"54\": 108}, \"50\": {\"50\": 134}, \"44\": {\"44\": 100}, \"5\": {\"5\": 120}, \"38\": {\"38\": 20}, \"19\": {\"19\": 132}, \"1\": {\"1\": 112}, \"30\": {\"30\": 144}, \"15\": {\"15\": 144}, \"23\": {\"23\": 146}, \"35\": {\"35\": 32}, \"22\": {\"22\": 128}, \"40\": {\"40\": 140}, \"46\": {\"46\": 126}, \"3\": {\"3\": 92}, \"48\": {\"48\": 148}, \"52\": {\"52\": 124}, \"2\": {\"2\": 31, \"36\": 1}, \"26\": {\"26\": 24}, \"17\": {\"17\": 104}, \"55\": {\"55\": 144}, \"51\": {\"51\": 122}, \"42\": {\"42\": 36}, \"41\": {\"41\": 19, \"1\": 1}, \"31\": {\"31\": 28}, \"16\": {\"16\": 138}, \"36\": {\"36\": 116}, \"49\": {\"49\": 24}, \"0\": {\"0\": 48}, \"18\": {\"18\": 48}, \"25\": {\"25\": 146}, \"9\": {\"9\": 122}, \"47\": {\"47\": 132}, \"7\": {\"7\": 36}, \"37\": {\"37\": 36}, \"13\": {\"13\": 116}, \"14\": {\"14\": 23, \"1\": 1}, \"34\": {\"34\": 26, \"19\": 1, \"54\": 1}, \"57\": {\"57\": 140}, \"11\": {\"11\": 137, \"10\": 1}, \"39\": {\"39\": 28}, \"12\": {\"12\": 92}, \"28\": {\"28\": 28}, \"29\": {\"29\": 127, \"2\": 1}, \"43\": {\"43\": 140}}, \"CORES_5\": {\"12\": {\"12\": 96}, \"8\": {\"8\": 142}, \"29\": {\"29\": 132}, \"57\": {\"57\": 126}, \"38\": {\"38\": 32}, \"23\": {\"23\": 124}, \"56\": {\"56\": 138}, \"49\": {\"49\": 36}, \"4\": {\"4\": 100}, \"48\": {\"48\": 136}, \"21\": {\"21\": 144}, \"30\": {\"30\": 128}, \"1\": {\"1\": 148}, \"34\": {\"34\": 36}, \"35\": {\"35\": 36}, \"55\": {\"55\": 152}, \"5\": {\"5\": 122}, \"52\": {\"52\": 126}, \"6\": {\"6\": 126, \"50\": 2}, \"36\": {\"36\": 92}, \"41\": {\"41\": 28}, \"3\": {\"3\": 100}, \"28\": {\"28\": 32}, \"18\": {\"18\": 64}, \"25\": {\"25\": 136}, \"47\": {\"47\": 100}, \"13\": {\"13\": 160}, \"11\": {\"11\": 144}, \"53\": {\"53\": 144}, \"33\": {\"33\": 32}, \"46\": {\"46\": 148}, \"50\": {\"50\": 148}, \"10\": {\"10\": 68}, \"15\": {\"15\": 138}, \"44\": {\"44\": 140}, \"2\": {\"2\": 28}, \"7\": {\"7\": 32}, \"43\": {\"43\": 138}, \"32\": {\"32\": 32}, \"0\": {\"0\": 124}, \"39\": {\"39\": 20}, \"26\": {\"26\": 24}, \"27\": {\"27\": 112}, \"54\": {\"54\": 112}, \"17\": {\"17\": 116}, \"14\": {\"14\": 44}, \"16\": {\"16\": 148}, \"9\": {\"9\": 148}, \"19\": {\"19\": 152}, \"20\": {\"20\": 138}, \"37\": {\"37\": 24}, \"24\": {\"24\": 80}, \"40\": {\"40\": 122}, \"45\": {\"45\": 121, \"50\": 1, \"6\": 2}, \"22\": {\"22\": 28}, \"42\": {\"42\": 38, \"52\": 1, \"15\": 1}, \"51\": {\"51\": 117, \"8\": 1}, \"31\": {\"31\": 36}}, \"CORES_1\": {\"27\": {\"27\": 142}, \"2\": {\"2\": 36}, \"33\": {\"33\": 32}, \"45\": {\"45\": 156}, \"38\": {\"38\": 20, \"1\": 1, \"57\": 1, \"36\": 1, \"43\": 1}, \"4\": {\"4\": 132}, \"31\": {\"31\": 28}, \"55\": {\"55\": 140}, \"32\": {\"32\": 32}, \"57\": {\"57\": 140}, \"14\": {\"14\": 22, \"30\": 2}, \"16\": {\"16\": 140}, \"34\": {\"34\": 24}, \"56\": {\"56\": 126}, \"24\": {\"24\": 108}, \"30\": {\"30\": 112}, \"17\": {\"17\": 64}, \"13\": {\"13\": 138}, \"39\": {\"39\": 28}, \"50\": {\"50\": 146}, \"20\": {\"20\": 139, \"12\": 1}, \"41\": {\"41\": 24}, \"53\": {\"53\": 126}, \"48\": {\"48\": 142}, \"36\": {\"36\": 64}, \"8\": {\"8\": 140}, \"15\": {\"15\": 132}, \"40\": {\"40\": 156}, \"37\": {\"37\": 32}, \"21\": {\"21\": 120}, \"35\": {\"35\": 36}, \"49\": {\"49\": 32}, \"26\": {\"26\": 24}, \"28\": {\"28\": 28}, \"12\": {\"12\": 116}, \"5\": {\"5\": 152}, \"29\": {\"29\": 140}, \"47\": {\"47\": 140}, \"10\": {\"10\": 96}, \"18\": {\"18\": 71, \"50\": 1}, \"9\": {\"9\": 126}, \"3\": {\"3\": 140}, \"52\": {\"52\": 132}, \"25\": {\"25\": 136}, \"19\": {\"19\": 156}, \"11\": {\"11\": 136}, \"7\": {\"7\": 28}, \"23\": {\"23\": 135, \"55\": 1}, \"44\": {\"44\": 132}, \"42\": {\"42\": 40}, \"54\": {\"54\": 104}, \"1\": {\"1\": 100}, \"46\": {\"46\": 128}, \"6\": {\"6\": 96}, \"43\": {\"43\": 144}, \"51\": {\"51\": 142}, \"22\": {\"22\": 136}, \"0\": {\"0\": 128}}, \"CORES_4\": {\"32\": {\"32\": 24}, \"2\": {\"2\": 33, \"1\": 3}, \"41\": {\"41\": 36}, \"11\": {\"11\": 98, \"32\": 2, \"24\": 1, \"15\": 1}, \"57\": {\"57\": 100}, \"6\": {\"6\": 111, \"22\": 1}, \"23\": {\"23\": 136}, \"52\": {\"52\": 116}, \"38\": {\"38\": 40}, \"50\": {\"50\": 132}, \"55\": {\"55\": 152}, \"46\": {\"46\": 154}, \"37\": {\"37\": 24}, \"20\": {\"20\": 118}, \"49\": {\"49\": 20}, \"45\": {\"45\": 96}, \"54\": {\"54\": 108}, \"3\": {\"3\": 124}, \"13\": {\"13\": 152}, \"18\": {\"18\": 108}, \"21\": {\"21\": 126}, \"43\": {\"43\": 144}, \"47\": {\"47\": 120}, \"4\": {\"4\": 132}, \"12\": {\"12\": 92}, \"9\": {\"9\": 128}, \"7\": {\"7\": 24}, \"56\": {\"56\": 111, \"46\": 1}, \"28\": {\"28\": 30, \"34\": 2}, \"44\": {\"44\": 132}, \"24\": {\"24\": 56}, \"33\": {\"33\": 36}, \"35\": {\"35\": 40}, \"51\": {\"51\": 138}, \"39\": {\"39\": 20}, \"36\": {\"36\": 91, \"53\": 1}, \"19\": {\"19\": 140}, \"0\": {\"0\": 79, \"46\": 1}, \"15\": {\"15\": 136}, \"29\": {\"29\": 124}, \"30\": {\"30\": 44}, \"1\": {\"1\": 40}, \"22\": {\"22\": 128}, \"40\": {\"40\": 146}, \"8\": {\"8\": 128}, \"53\": {\"53\": 138}, \"34\": {\"34\": 22, \"27\": 1, \"28\": 1}, \"10\": {\"10\": 121, \"15\": 1}, \"31\": {\"31\": 28}, \"17\": {\"17\": 80}, \"16\": {\"16\": 96}, \"42\": {\"42\": 32}, \"27\": {\"27\": 142}, \"14\": {\"14\": 14, \"57\": 1, \"38\": 1}, \"25\": {\"25\": 122}, \"48\": {\"48\": 132}, \"26\": {\"26\": 23, \"4\": 1}, \"5\": {\"5\": 108}}, \"CORES_3\": {\"14\": {\"14\": 40}, \"18\": {\"18\": 84}, \"30\": {\"30\": 120}, \"16\": {\"16\": 156}, \"1\": {\"1\": 100}, \"20\": {\"20\": 132}, \"7\": {\"7\": 36}, \"52\": {\"52\": 130}, \"9\": {\"9\": 140}, \"23\": {\"23\": 144}, \"55\": {\"55\": 164}, \"29\": {\"29\": 126}, \"56\": {\"56\": 134}, \"3\": {\"3\": 124}, \"42\": {\"42\": 28}, \"6\": {\"6\": 88}, \"5\": {\"5\": 116}, \"27\": {\"27\": 144}, \"47\": {\"47\": 92}, \"39\": {\"39\": 16}, \"34\": {\"34\": 32}, \"4\": {\"4\": 126}, \"24\": {\"24\": 104}, \"46\": {\"46\": 117, \"21\": 1}, \"50\": {\"50\": 125, \"3\": 1}, \"38\": {\"38\": 28}, \"54\": {\"54\": 100}, \"35\": {\"35\": 28}, \"2\": {\"2\": 32}, \"41\": {\"41\": 28}, \"57\": {\"57\": 118}, \"25\": {\"25\": 148, \"18\": 2}, \"48\": {\"48\": 116}, \"33\": {\"33\": 28}, \"45\": {\"45\": 58, \"6\": 2}, \"13\": {\"13\": 126}, \"36\": {\"36\": 100}, \"43\": {\"43\": 132}, \"28\": {\"28\": 28}, \"0\": {\"0\": 124}, \"12\": {\"12\": 91, \"46\": 1}, \"31\": {\"31\": 28}, \"40\": {\"40\": 116}, \"44\": {\"44\": 87, \"3\": 1}, \"32\": {\"32\": 28}, \"26\": {\"26\": 24}, \"8\": {\"8\": 116}, \"10\": {\"10\": 64}, \"15\": {\"15\": 142}, \"21\": {\"21\": 128}, \"37\": {\"37\": 28}, \"17\": {\"17\": 108}, \"51\": {\"51\": 124}, \"53\": {\"53\": 144}, \"19\": {\"19\": 136}, \"49\": {\"49\": 20}, \"11\": {\"11\": 138}, \"22\": {\"22\": 130}}, \"ORACLE.run1_8\": {\"13\": {\"5\": 199, \"10\": 226, \"13\": 367, \"7\": 196, \"1\": 62, \"6\": 107, \"4\": 7, \"11\": 25, \"12\": 8, \"8\": 2, \"15\": 1}, \"9\": {\"9\": 921, \"3\": 271, \"2\": 8}, \"15\": {\"15\": 508, \"12\": 433, \"2\": 253, \"3\": 6}, \"2\": {\"15\": 274, \"2\": 523, \"3\": 191, \"12\": 178, \"9\": 29, \"13\": 3, \"5\": 1, \"7\": 1}, \"3\": {\"3\": 909, \"2\": 92, \"9\": 198, \"12\": 1}, \"8\": {\"8\": 286, \"13\": 6, \"1\": 112, \"4\": 263, \"11\": 210, \"6\": 92, \"5\": 18, \"14\": 148, \"7\": 35, \"10\": 30}, \"5\": {\"7\": 157, \"6\": 93, \"1\": 125, \"5\": 207, \"13\": 265, \"11\": 63, \"10\": 179, \"8\": 40, \"12\": 12, \"4\": 50, \"14\": 8, \"15\": 1}, \"14\": {\"14\": 683, \"8\": 164, \"4\": 239, \"11\": 75, \"1\": 15, \"0\": 9, \"7\": 3, \"6\": 7, \"10\": 4, \"5\": 1}, \"1\": {\"4\": 84, \"7\": 113, \"11\": 203, \"10\": 133, \"13\": 96, \"5\": 129, \"6\": 138, \"1\": 215, \"8\": 82, \"14\": 7}, \"0\": {\"0\": 1192, \"14\": 8}, \"10\": {\"7\": 183, \"1\": 132, \"5\": 176, \"8\": 35, \"13\": 202, \"10\": 203, \"6\": 163, \"11\": 61, \"4\": 42, \"14\": 1, \"12\": 2}, \"6\": {\"6\": 218, \"7\": 182, \"10\": 143, \"5\": 120, \"11\": 123, \"8\": 72, \"4\": 80, \"1\": 168, \"13\": 90, \"14\": 4}, \"11\": {\"14\": 95, \"4\": 182, \"1\": 140, \"7\": 66, \"8\": 211, \"10\": 73, \"5\": 62, \"11\": 224, \"6\": 111, \"13\": 36}, \"7\": {\"5\": 147, \"7\": 249, \"6\": 193, \"13\": 212, \"10\": 191, \"1\": 122, \"11\": 50, \"4\": 25, \"8\": 11}, \"4\": {\"10\": 34, \"11\": 167, \"4\": 353, \"14\": 160, \"8\": 293, \"1\": 81, \"6\": 73, \"5\": 13, \"7\": 20, \"13\": 6}, \"12\": {\"12\": 643, \"15\": 423, \"2\": 133, \"5\": 1}}, \"ORACLE.run1_38\": {\"13\": {\"13\": 610, \"4\": 60, \"10\": 96, \"0\": 318, \"7\": 52, \"2\": 33, \"14\": 30, \"9\": 1}, \"12\": {\"12\": 929, \"8\": 150, \"5\": 83, \"15\": 31, \"14\": 3, \"7\": 3, \"2\": 1}, \"2\": {\"2\": 424, \"7\": 298, \"9\": 144, \"14\": 193, \"13\": 18, \"0\": 9, \"8\": 64, \"5\": 39, \"4\": 8, \"12\": 3}, \"9\": {\"5\": 171, \"8\": 144, \"2\": 144, \"9\": 660, \"7\": 65, \"14\": 9, \"12\": 3, \"13\": 1, \"15\": 2, \"0\": 1}, \"15\": {\"15\": 834, \"6\": 66, \"12\": 73, \"5\": 111, \"1\": 49, \"8\": 59, \"9\": 8}, \"5\": {\"5\": 324, \"7\": 43, \"12\": 92, \"8\": 273, \"9\": 193, \"2\": 92, \"15\": 158, \"14\": 22, \"1\": 1, \"13\": 1, \"6\": 1}, \"14\": {\"13\": 64, \"14\": 469, \"4\": 75, \"7\": 306, \"2\": 190, \"0\": 35, \"8\": 25, \"5\": 15, \"9\": 18, \"12\": 2, \"10\": 1}, \"0\": {\"0\": 279, \"13\": 319, \"10\": 347, \"4\": 73, \"7\": 54, \"3\": 37, \"2\": 34, \"8\": 2, \"14\": 49, \"9\": 6}, \"3\": {\"3\": 1167, \"11\": 25, \"10\": 3, \"0\": 5}, \"1\": {\"1\": 585, \"6\": 586, \"15\": 29}, \"11\": {\"11\": 1185, \"3\": 15}, \"7\": {\"14\": 325, \"2\": 305, \"7\": 386, \"4\": 19, \"8\": 41, \"9\": 52, \"5\": 19, \"13\": 37, \"0\": 16}, \"8\": {\"8\": 238, \"5\": 243, \"15\": 125, \"12\": 152, \"2\": 131, \"7\": 112, \"9\": 141, \"14\": 53, \"13\": 2, \"0\": 2, \"4\": 1}, \"4\": {\"4\": 883, \"10\": 91, \"7\": 10, \"13\": 73, \"0\": 94, \"14\": 47, \"2\": 2}, \"10\": {\"13\": 94, \"4\": 90, \"0\": 283, \"10\": 708, \"3\": 24, \"7\": 1}, \"6\": {\"1\": 548, \"6\": 635, \"15\": 17}}, \"ORACLE.run1_26\": {\"10\": {\"0\": 193, \"15\": 168, \"10\": 260, \"14\": 250, \"1\": 78, \"2\": 43, \"5\": 81, \"6\": 95, \"11\": 12, \"8\": 11, \"9\": 5, \"7\": 2, \"13\": 1, \"12\": 1}, \"12\": {\"3\": 196, \"13\": 155, \"2\": 77, \"7\": 173, \"12\": 258, \"9\": 162, \"8\": 154, \"4\": 17, \"0\": 7, \"10\": 1}, \"1\": {\"1\": 387, \"14\": 125, \"6\": 179, \"5\": 152, \"11\": 141, \"15\": 120, \"10\": 72, \"0\": 24}, \"0\": {\"0\": 306, \"14\": 202, \"7\": 32, \"8\": 89, \"1\": 34, \"2\": 119, \"10\": 226, \"15\": 71, \"6\": 41, \"11\": 8, \"5\": 33, \"12\": 4, \"9\": 33, \"3\": 2}, \"15\": {\"15\": 208, \"5\": 197, \"6\": 197, \"10\": 158, \"14\": 136, \"1\": 121, \"11\": 99, \"0\": 69, \"2\": 12, \"8\": 1, \"9\": 1, \"7\": 1}, \"13\": {\"7\": 78, \"4\": 122, \"3\": 216, \"8\": 39, \"13\": 460, \"12\": 126, \"9\": 103, \"2\": 51, \"0\": 4, \"14\": 1}, \"8\": {\"9\": 156, \"8\": 240, \"2\": 215, \"12\": 119, \"7\": 213, \"3\": 81, \"0\": 110, \"13\": 32, \"14\": 12, \"10\": 20, \"5\": 1, \"1\": 1}, \"3\": {\"7\": 126, \"9\": 181, \"2\": 70, \"3\": 316, \"13\": 247, \"12\": 134, \"8\": 89, \"4\": 35, \"0\": 2}, \"11\": {\"11\": 547, \"1\": 132, \"15\": 95, \"5\": 239, \"6\": 140, \"10\": 19, \"14\": 24, \"0\": 4}, \"4\": {\"4\": 904, \"3\": 91, \"13\": 139, \"9\": 11, \"7\": 9, \"8\": 4, \"12\": 42}, \"6\": {\"14\": 107, \"1\": 210, \"11\": 119, \"0\": 27, \"5\": 232, \"6\": 218, \"15\": 196, \"10\": 89, \"2\": 2}, \"7\": {\"8\": 220, \"12\": 121, \"2\": 178, \"7\": 227, \"3\": 159, \"0\": 46, \"9\": 167, \"13\": 70, \"14\": 1, \"10\": 10, \"4\": 1}, \"14\": {\"10\": 238, \"14\": 246, \"5\": 91, \"0\": 175, \"1\": 134, \"6\": 113, \"11\": 20, \"15\": 151, \"2\": 19, \"7\": 3, \"8\": 8, \"9\": 2}, \"2\": {\"7\": 181, \"14\": 22, \"9\": 165, \"2\": 274, \"12\": 54, \"3\": 63, \"8\": 215, \"0\": 119, \"13\": 49, \"5\": 3, \"10\": 42, \"15\": 9, \"6\": 2, \"1\": 1, \"11\": 1}, \"5\": {\"6\": 186, \"11\": 163, \"15\": 222, \"1\": 158, \"14\": 68, \"5\": 306, \"10\": 70, \"0\": 24, \"8\": 1, \"2\": 2}, \"9\": {\"3\": 165, \"13\": 147, \"9\": 182, \"7\": 178, \"8\": 153, \"2\": 167, \"12\": 133, \"4\": 10, \"0\": 46, \"14\": 7, \"10\": 8, \"5\": 3, \"6\": 1}}, \"ORACLE.run1_20\": {\"5\": {\"6\": 78, \"9\": 121, \"15\": 47, \"14\": 115, \"7\": 80, \"2\": 46, \"4\": 19, \"5\": 180, \"1\": 153, \"3\": 149, \"13\": 16, \"8\": 136, \"10\": 3, \"0\": 24, \"12\": 32, \"11\": 1}, \"15\": {\"13\": 147, \"15\": 136, \"8\": 13, \"9\": 99, \"5\": 51, \"2\": 121, \"1\": 71, \"6\": 107, \"12\": 137, \"7\": 114, \"10\": 43, \"3\": 38, \"4\": 112, \"14\": 11}, \"9\": {\"2\": 97, \"13\": 35, \"7\": 113, \"4\": 40, \"15\": 89, \"12\": 70, \"3\": 124, \"8\": 67, \"6\": 127, \"9\": 135, \"1\": 114, \"5\": 108, \"14\": 71, \"10\": 4, \"11\": 1, \"0\": 5}, \"7\": {\"1\": 111, \"13\": 87, \"2\": 125, \"9\": 120, \"6\": 108, \"15\": 117, \"7\": 119, \"12\": 99, \"3\": 66, \"8\": 34, \"5\": 83, \"4\": 68, \"14\": 46, \"10\": 16, \"0\": 1}, \"3\": {\"9\": 111, \"3\": 172, \"0\": 48, \"1\": 123, \"4\": 22, \"14\": 146, \"5\": 152, \"6\": 50, \"7\": 77, \"8\": 173, \"13\": 13, \"15\": 36, \"2\": 40, \"12\": 28, \"11\": 6, \"10\": 3}, \"8\": {\"3\": 184, \"14\": 239, \"1\": 63, \"8\": 275, \"5\": 123, \"11\": 24, \"9\": 78, \"0\": 123, \"2\": 13, \"15\": 6, \"7\": 31, \"6\": 29, \"4\": 5, \"12\": 5, \"13\": 2}, \"4\": {\"13\": 134, \"10\": 174, \"12\": 128, \"4\": 226, \"9\": 46, \"7\": 77, \"15\": 103, \"2\": 109, \"6\": 105, \"1\": 43, \"5\": 28, \"14\": 11, \"3\": 15, \"8\": 1}, \"6\": {\"12\": 110, \"2\": 91, \"13\": 63, \"15\": 95, \"5\": 82, \"1\": 94, \"4\": 100, \"7\": 129, \"6\": 156, \"9\": 106, \"3\": 53, \"14\": 61, \"8\": 32, \"10\": 28}, \"2\": {\"7\": 116, \"9\": 90, \"12\": 138, \"13\": 150, \"6\": 107, \"15\": 130, \"1\": 67, \"5\": 48, \"4\": 125, \"2\": 130, \"3\": 26, \"10\": 50, \"8\": 8, \"14\": 15}, \"12\": {\"14\": 13, \"13\": 156, \"9\": 73, \"4\": 147, \"3\": 30, \"6\": 95, \"12\": 140, \"7\": 99, \"15\": 124, \"1\": 63, \"2\": 129, \"5\": 49, \"10\": 76, \"8\": 6}, \"0\": {\"0\": 531, \"8\": 150, \"11\": 320, \"3\": 61, \"7\": 5, \"14\": 74, \"5\": 34, \"9\": 11, \"1\": 11, \"15\": 2, \"6\": 1}, \"13\": {\"13\": 278, \"12\": 161, \"9\": 37, \"4\": 134, \"10\": 156, \"7\": 62, \"1\": 44, \"15\": 132, \"5\": 16, \"2\": 111, \"6\": 57, \"14\": 2, \"3\": 8, \"8\": 2}, \"10\": {\"10\": 550, \"13\": 185, \"12\": 85, \"4\": 186, \"15\": 44, \"7\": 32, \"6\": 39, \"2\": 57, \"1\": 10, \"3\": 2, \"9\": 7, \"14\": 2, \"5\": 1}, \"11\": {\"0\": 293, \"11\": 883, \"8\": 13, \"5\": 5, \"3\": 4, \"14\": 2}, \"14\": {\"1\": 85, \"3\": 176, \"6\": 54, \"8\": 225, \"14\": 268, \"9\": 89, \"0\": 70, \"7\": 44, \"5\": 137, \"12\": 8, \"11\": 7, \"15\": 14, \"2\": 18, \"4\": 4, \"10\": 1}, \"1\": {\"9\": 148, \"15\": 94, \"12\": 84, \"6\": 77, \"13\": 28, \"3\": 97, \"2\": 91, \"1\": 150, \"7\": 103, \"14\": 75, \"5\": 133, \"8\": 65, \"4\": 40, \"0\": 9, \"10\": 5, \"11\": 1}}, \"ORACLE.run1_50\": {\"1\": {\"13\": 320, \"8\": 283, \"1\": 482, \"10\": 91, \"0\": 6, \"11\": 10, \"15\": 1, \"12\": 1, \"14\": 3, \"3\": 3}, \"2\": {\"2\": 479, \"14\": 452, \"0\": 241, \"10\": 28}, \"8\": {\"1\": 339, \"10\": 202, \"8\": 565, \"13\": 86, \"2\": 2, \"0\": 6}, \"7\": {\"4\": 502, \"7\": 532, \"15\": 13, \"5\": 119, \"6\": 11, \"9\": 21, \"3\": 2}, \"14\": {\"14\": 482, \"2\": 436, \"0\": 240, \"10\": 41, \"8\": 1}, \"6\": {\"15\": 258, \"6\": 261, \"12\": 104, \"3\": 134, \"9\": 196, \"11\": 61, \"5\": 174, \"4\": 4, \"7\": 8}, \"3\": {\"6\": 177, \"5\": 78, \"3\": 378, \"9\": 73, \"12\": 89, \"15\": 156, \"11\": 200, \"13\": 47, \"4\": 2}, \"4\": {\"4\": 489, \"7\": 521, \"5\": 115, \"15\": 30, \"9\": 21, \"6\": 19, \"12\": 5}, \"12\": {\"11\": 208, \"12\": 566, \"3\": 53, \"6\": 95, \"9\": 187, \"15\": 65, \"5\": 16, \"13\": 5, \"1\": 4, \"4\": 1}, \"15\": {\"9\": 162, \"6\": 261, \"5\": 202, \"11\": 60, \"3\": 107, \"12\": 93, \"15\": 276, \"4\": 20, \"7\": 19}, \"11\": {\"11\": 449, \"3\": 192, \"12\": 210, \"15\": 65, \"9\": 76, \"13\": 94, \"6\": 72, \"5\": 37, \"1\": 5}, \"0\": {\"2\": 279, \"0\": 412, \"14\": 270, \"10\": 224, \"8\": 14, \"1\": 1}, \"9\": {\"12\": 236, \"5\": 120, \"3\": 54, \"9\": 292, \"15\": 182, \"4\": 20, \"6\": 202, \"11\": 76, \"7\": 15, \"13\": 3}, \"10\": {\"10\": 663, \"0\": 178, \"8\": 223, \"1\": 56, \"14\": 29, \"2\": 48, \"13\": 3}, \"5\": {\"9\": 93, \"3\": 83, \"5\": 258, \"4\": 173, \"15\": 147, \"7\": 208, \"6\": 119, \"11\": 56, \"13\": 34, \"12\": 27, \"1\": 2}, \"13\": {\"13\": 721, \"11\": 100, \"12\": 15, \"3\": 59, \"1\": 235, \"8\": 57, \"5\": 5, \"6\": 4, \"15\": 3, \"10\": 1}}, \"ORACLE.run1_32\": {\"2\": {\"13\": 33, \"2\": 498, \"14\": 75, \"0\": 21, \"4\": 335, \"3\": 87, \"1\": 97, \"8\": 47, \"15\": 1, \"7\": 2, \"9\": 3, \"5\": 1}, \"6\": {\"6\": 1075, \"10\": 124, \"12\": 1}, \"5\": {\"7\": 286, \"0\": 156, \"15\": 178, \"5\": 385, \"14\": 85, \"8\": 101, \"2\": 9}, \"12\": {\"12\": 840, \"10\": 120, \"9\": 111, \"11\": 125, \"13\": 3, \"6\": 1}, \"13\": {\"9\": 194, \"13\": 334, \"3\": 320, \"4\": 166, \"2\": 63, \"11\": 73, \"1\": 47, \"12\": 1, \"14\": 1, \"8\": 1}, \"9\": {\"13\": 213, \"3\": 120, \"11\": 231, \"9\": 374, \"12\": 183, \"4\": 41, \"1\": 21, \"10\": 10, \"2\": 7}, \"11\": {\"11\": 785, \"9\": 249, \"13\": 60, \"12\": 79, \"3\": 24, \"4\": 3}, \"1\": {\"1\": 743, \"2\": 131, \"8\": 52, \"4\": 108, \"7\": 3, \"3\": 73, \"14\": 26, \"9\": 11, \"13\": 34, \"0\": 16, \"15\": 3}, \"3\": {\"13\": 303, \"11\": 22, \"4\": 229, \"3\": 439, \"2\": 80, \"1\": 64, \"8\": 8, \"9\": 53, \"14\": 1, \"0\": 1}, \"7\": {\"0\": 209, \"7\": 346, \"5\": 296, \"14\": 202, \"8\": 86, \"15\": 56, \"2\": 5}, \"14\": {\"13\": 2, \"15\": 25, \"7\": 173, \"8\": 164, \"0\": 223, \"14\": 362, \"2\": 121, \"5\": 82, \"4\": 39, \"3\": 5, \"1\": 4}, \"8\": {\"8\": 336, \"15\": 65, \"5\": 94, \"0\": 249, \"2\": 62, \"7\": 145, \"14\": 190, \"4\": 27, \"3\": 9, \"1\": 20, \"13\": 2, \"9\": 1}, \"4\": {\"2\": 276, \"13\": 160, \"4\": 389, \"3\": 233, \"1\": 85, \"14\": 17, \"8\": 19, \"9\": 17, \"0\": 1, \"5\": 1, \"11\": 2}, \"0\": {\"8\": 232, \"5\": 161, \"7\": 224, \"14\": 252, \"0\": 232, \"2\": 25, \"1\": 5, \"15\": 67, \"4\": 2}, \"10\": {\"10\": 920, \"12\": 207, \"6\": 68, \"11\": 3, \"9\": 2}, \"15\": {\"15\": 872, \"5\": 129, \"8\": 69, \"7\": 45, \"0\": 65, \"14\": 20}}, \"ORACLE.run1_44\": {\"13\": {\"13\": 693, \"6\": 416, \"9\": 58, \"7\": 7, \"11\": 17, \"4\": 6, \"10\": 3}, \"4\": {\"4\": 191, \"15\": 83, \"9\": 174, \"6\": 51, \"14\": 105, \"2\": 69, \"8\": 21, \"10\": 147, \"1\": 18, \"7\": 204, \"5\": 121, \"13\": 15, \"0\": 1}, \"6\": {\"6\": 633, \"9\": 148, \"13\": 354, \"7\": 34, \"10\": 5, \"4\": 25, \"5\": 1}, \"0\": {\"0\": 654, \"15\": 22, \"1\": 217, \"8\": 218, \"3\": 35, \"12\": 7, \"2\": 47}, \"10\": {\"7\": 248, \"10\": 255, \"5\": 109, \"4\": 188, \"14\": 134, \"0\": 3, \"6\": 20, \"9\": 139, \"2\": 41, \"15\": 35, \"1\": 22, \"8\": 4, \"13\": 2}, \"7\": {\"4\": 204, \"10\": 240, \"7\": 328, \"6\": 43, \"9\": 215, \"14\": 84, \"5\": 69, \"15\": 8, \"13\": 5, \"2\": 4}, \"14\": {\"5\": 221, \"14\": 267, \"15\": 157, \"2\": 65, \"10\": 164, \"7\": 96, \"4\": 146, \"9\": 61, \"1\": 8, \"8\": 15}, \"15\": {\"1\": 115, \"2\": 129, \"4\": 70, \"5\": 160, \"8\": 194, \"10\": 39, \"15\": 327, \"14\": 120, \"7\": 11, \"0\": 30, \"9\": 5}, \"5\": {\"10\": 134, \"14\": 200, \"15\": 161, \"9\": 66, \"5\": 232, \"4\": 164, \"2\": 75, \"8\": 32, \"7\": 113, \"1\": 22, \"13\": 1}, \"2\": {\"14\": 73, \"10\": 38, \"15\": 136, \"2\": 500, \"5\": 90, \"1\": 212, \"8\": 79, \"4\": 43, \"0\": 7, \"9\": 5, \"7\": 17}, \"9\": {\"13\": 151, \"4\": 131, \"8\": 6, \"7\": 196, \"14\": 81, \"9\": 193, \"10\": 143, \"5\": 66, \"6\": 178, \"2\": 32, \"15\": 18, \"11\": 2, \"1\": 3}, \"12\": {\"0\": 17, \"3\": 547, \"12\": 635, \"1\": 1}, \"8\": {\"8\": 312, \"4\": 11, \"0\": 264, \"15\": 217, \"1\": 208, \"2\": 105, \"5\": 38, \"10\": 8, \"3\": 7, \"7\": 3, \"14\": 26, \"12\": 1}, \"3\": {\"12\": 560, \"3\": 590, \"1\": 4, \"0\": 45, \"8\": 1}, \"1\": {\"0\": 177, \"15\": 107, \"8\": 233, \"1\": 412, \"2\": 237, \"14\": 8, \"5\": 14, \"4\": 7, \"9\": 1, \"7\": 1, \"10\": 3}, \"11\": {\"11\": 1193, \"13\": 7}}, \"ORACLE.run1_14\": {\"1\": {\"1\": 662, \"9\": 362, \"10\": 160, \"4\": 15, \"12\": 1}, \"15\": {\"15\": 1200}, \"10\": {\"10\": 590, \"12\": 73, \"9\": 172, \"4\": 230, \"1\": 115, \"5\": 1, \"13\": 2, \"2\": 14, \"0\": 2, \"8\": 1}, \"2\": {\"13\": 107, \"5\": 159, \"7\": 55, \"14\": 132, \"2\": 166, \"6\": 88, \"3\": 82, \"0\": 122, \"4\": 105, \"8\": 82, \"12\": 87, \"10\": 14, \"1\": 1}, \"9\": {\"9\": 595, \"1\": 356, \"10\": 227, \"4\": 18, \"12\": 3, \"5\": 1}, \"5\": {\"8\": 214, \"4\": 87, \"5\": 300, \"0\": 116, \"12\": 65, \"2\": 181, \"6\": 8, \"13\": 33, \"14\": 107, \"7\": 73, \"3\": 16}, \"7\": {\"7\": 477, \"6\": 58, \"13\": 73, \"5\": 100, \"3\": 134, \"0\": 77, \"14\": 66, \"8\": 158, \"2\": 54, \"4\": 3}, \"13\": {\"0\": 66, \"6\": 281, \"13\": 185, \"7\": 45, \"5\": 74, \"3\": 127, \"12\": 40, \"2\": 90, \"8\": 30, \"14\": 106, \"4\": 53, \"15\": 99, \"10\": 4}, \"8\": {\"8\": 456, \"5\": 198, \"14\": 47, \"7\": 117, \"13\": 28, \"2\": 100, \"4\": 31, \"0\": 98, \"12\": 84, \"3\": 33, \"6\": 8}, \"6\": {\"6\": 401, \"3\": 255, \"13\": 253, \"7\": 60, \"0\": 50, \"8\": 18, \"14\": 95, \"2\": 49, \"5\": 19}, \"3\": {\"6\": 230, \"3\": 342, \"13\": 151, \"7\": 152, \"8\": 33, \"14\": 119, \"0\": 105, \"2\": 55, \"5\": 13}, \"12\": {\"0\": 68, \"12\": 534, \"8\": 139, \"4\": 173, \"2\": 89, \"5\": 100, \"14\": 35, \"13\": 14, \"10\": 30, \"7\": 8, \"3\": 3, \"1\": 4, \"9\": 3}, \"0\": {\"12\": 79, \"7\": 69, \"2\": 130, \"3\": 143, \"0\": 173, \"5\": 125, \"14\": 163, \"6\": 93, \"4\": 46, \"8\": 89, \"13\": 87, \"10\": 3}, \"4\": {\"9\": 20, \"4\": 585, \"2\": 61, \"5\": 62, \"10\": 193, \"12\": 186, \"8\": 38, \"0\": 20, \"14\": 8, \"7\": 2, \"1\": 19, \"13\": 6}, \"14\": {\"2\": 183, \"14\": 290, \"13\": 129, \"5\": 105, \"7\": 66, \"0\": 170, \"6\": 99, \"3\": 103, \"8\": 40, \"4\": 4, \"12\": 11}, \"11\": {\"11\": 1193, \"9\": 3, \"1\": 4}}}, \"per_domain_accuracy\": {\"CORES_2\": {\"accuracy\": 0.9985795454545454, \"source?\": true}, \"CORES_5\": {\"accuracy\": 0.9985955056179775, \"source?\": true}, \"CORES_1\": {\"accuracy\": 0.9984546703296703, \"source?\": true}, \"CORES_4\": {\"accuracy\": 0.9964446107784432, \"source?\": true}, \"CORES_3\": {\"accuracy\": 0.9985380116959064, \"source?\": true}, \"ORACLE.run1_8\": {\"accuracy\": 0.40109375, \"source?\": false}, \"ORACLE.run1_38\": {\"accuracy\": 0.5372916666666666, \"source?\": false}, \"ORACLE.run1_26\": {\"accuracy\": 0.27807291666666667, \"source?\": false}, \"ORACLE.run1_20\": {\"accuracy\": 0.22546875, \"source?\": false}, \"ORACLE.run1_50\": {\"accuracy\": 0.38046875, \"source?\": false}, \"ORACLE.run1_32\": {\"accuracy\": 0.46510416666666665, \"source?\": false}, \"ORACLE.run1_44\": {\"accuracy\": 0.38619791666666664, \"source?\": false}, \"ORACLE.run1_14\": {\"accuracy\": 0.42442708333333334, \"source?\": false}}}, \"history\": {\"epoch_indices\": [1, 2, 3, 4, 5], \"train_label_loss\": [0.029296626436401116, 0.009200547827144467, 0.00635028192895864, 0.005326096010322357, 0.004626048328209698], \"source_val_label_loss\": [0.009868270717561245, 0.011827470734715462, 0.013853458687663078, 0.008069505915045738, 0.007000044919550419], \"target_val_label_loss\": [1.9517254829406738, 2.002755880355835, 1.7607176303863525, 1.8709243535995483, 1.8820528984069824], \"source_val_acc_label\": [0.9981407322654462, 0.9989631006864989, 0.9984982837528604, 0.9991776315789473, 0.9993206521739131], \"target_val_acc_label\": [0.387265625, 0.36083984375, 0.38189453125, 0.36807942708333335, 0.36852864583333333]}, \"dataset_metrics\": {\"source\": {\"train\": {\"n_unique_x\": 175213, \"n_unique_y\": 58, \"n_batch/episode\": 6329}, \"val\": {\"n_unique_x\": 37135, \"n_unique_y\": 58, \"n_batch/episode\": 874}, \"test\": {\"n_unique_x\": 37673, \"n_unique_y\": 58, \"n_batch/episode\": 893}}, \"target\": {\"train\": {\"n_unique_x\": 896000, \"n_unique_y\": 16, \"n_batch/episode\": 33600}, \"val\": {\"n_unique_x\": 192000, \"n_unique_y\": 16, \"n_batch/episode\": 4800}, \"test\": {\"n_unique_x\": 192000, \"n_unique_y\": 16, \"n_batch/episode\": 4800}}}}'"
      ]
     },
     "execution_count": 29,
     "metadata": {},
     "output_type": "execute_result"
    }
   ],
   "source": [
    "json.dumps(experiment)"
   ]
  }
 ],
 "metadata": {
  "celltoolbar": "Tags",
  "kernelspec": {
   "display_name": "Python 3 (ipykernel)",
   "language": "python",
   "name": "python3"
  },
  "language_info": {
   "codemirror_mode": {
    "name": "ipython",
    "version": 3
   },
   "file_extension": ".py",
   "mimetype": "text/x-python",
   "name": "python",
   "nbconvert_exporter": "python",
   "pygments_lexer": "ipython3",
   "version": "3.8.12"
  },
  "papermill": {
   "default_parameters": {},
   "duration": 1445.504285,
   "end_time": "2022-03-22T11:56:01.946880",
   "environment_variables": {},
   "exception": null,
   "input_path": "/root/csc500-main/csc500-notebooks/templates/tl_ptn_template.ipynb",
   "output_path": "trial.ipynb",
   "parameters": {
    "parameters": {
     "BEST_MODEL_PATH": "./best_model.pth",
     "NUM_LOGS_PER_EPOCH": 10,
     "criteria_for_best": "target_accuracy",
     "dataset_seed": 154325,
     "datasets": [
      {
       "domain_prefix": "CORES_",
       "domains": [
        1,
        2,
        3,
        4,
        5
       ],
       "episode_transforms": [],
       "labels": [
        "1-10.",
        "1-11.",
        "1-15.",
        "1-16.",
        "1-17.",
        "1-18.",
        "1-19.",
        "10-4.",
        "10-7.",
        "11-1.",
        "11-14.",
        "11-17.",
        "11-20.",
        "11-7.",
        "13-20.",
        "13-8.",
        "14-10.",
        "14-11.",
        "14-14.",
        "14-7.",
        "15-1.",
        "15-20.",
        "16-1.",
        "16-16.",
        "17-10.",
        "17-11.",
        "17-2.",
        "19-1.",
        "19-16.",
        "19-19.",
        "19-20.",
        "19-3.",
        "2-10.",
        "2-11.",
        "2-17.",
        "2-18.",
        "2-20.",
        "2-3.",
        "2-4.",
        "2-5.",
        "2-6.",
        "2-7.",
        "2-8.",
        "3-13.",
        "3-18.",
        "3-3.",
        "4-1.",
        "4-10.",
        "4-11.",
        "4-19.",
        "5-5.",
        "6-15.",
        "7-10.",
        "7-14.",
        "8-18.",
        "8-20.",
        "8-3.",
        "8-8."
       ],
       "num_examples_per_domain_per_label": -1,
       "pickle_path": "/root/csc500-main/datasets/cores.stratified_ds.2022A.pkl",
       "source_or_target_dataset": "source",
       "x_transforms": []
      },
      {
       "domain_prefix": "ORACLE.run1_",
       "domains": [
        32,
        38,
        8,
        44,
        14,
        50,
        20,
        26
       ],
       "episode_transforms": [],
       "labels": [
        "3123D52",
        "3123D65",
        "3123D79",
        "3123D80",
        "3123D54",
        "3123D70",
        "3123D7B",
        "3123D89",
        "3123D58",
        "3123D76",
        "3123D7D",
        "3123EFE",
        "3123D64",
        "3123D78",
        "3123D7E",
        "3124E4A"
       ],
       "num_examples_per_domain_per_label": 10000,
       "pickle_path": "/root/csc500-main/datasets/oracle.Run1_10kExamples_stratified_ds.2022A.pkl",
       "source_or_target_dataset": "target",
       "x_transforms": []
      }
     ],
     "device": "cuda",
     "experiment_name": "tl_1v2:cores-oracle.run1",
     "lr": 0.0001,
     "n_epoch": 50,
     "n_query": 2,
     "n_shot": 3,
     "n_way": 16,
     "patience": 3,
     "seed": 154325,
     "test_k_factor": 2,
     "torch_default_dtype": "torch.float32",
     "train_k_factor": 3,
     "val_k_factor": 2,
     "x_net": [
      {
       "class": "nnReshape",
       "kargs": {
        "shape": [
         -1,
         1,
         2,
         256
        ]
       }
      },
      {
       "class": "Conv2d",
       "kargs": {
        "bias": false,
        "in_channels": 1,
        "kernel_size": [
         1,
         7
        ],
        "out_channels": 256,
        "padding": [
         0,
         3
        ]
       }
      },
      {
       "class": "ReLU",
       "kargs": {
        "inplace": true
       }
      },
      {
       "class": "BatchNorm2d",
       "kargs": {
        "num_features": 256
       }
      },
      {
       "class": "Conv2d",
       "kargs": {
        "bias": true,
        "in_channels": 256,
        "kernel_size": [
         2,
         7
        ],
        "out_channels": 80,
        "padding": [
         0,
         3
        ]
       }
      },
      {
       "class": "ReLU",
       "kargs": {
        "inplace": true
       }
      },
      {
       "class": "BatchNorm2d",
       "kargs": {
        "num_features": 80
       }
      },
      {
       "class": "Flatten",
       "kargs": {}
      },
      {
       "class": "Linear",
       "kargs": {
        "in_features": 20480,
        "out_features": 256
       }
      },
      {
       "class": "ReLU",
       "kargs": {
        "inplace": true
       }
      },
      {
       "class": "BatchNorm1d",
       "kargs": {
        "num_features": 256
       }
      },
      {
       "class": "Linear",
       "kargs": {
        "in_features": 256,
        "out_features": 256
       }
      }
     ]
    }
   },
   "start_time": "2022-03-22T11:31:56.442595",
   "version": "2.3.4"
  }
 },
 "nbformat": 4,
 "nbformat_minor": 5
}