{
 "cells": [
  {
   "cell_type": "markdown",
   "id": "9fea5f46",
   "metadata": {
    "papermill": {
     "duration": 0.028758,
     "end_time": "2022-03-23T06:50:32.160005",
     "exception": false,
     "start_time": "2022-03-23T06:50:32.131247",
     "status": "completed"
    },
    "tags": []
   },
   "source": [
    "# Transfer Learning Template"
   ]
  },
  {
   "cell_type": "code",
   "execution_count": 1,
   "id": "0902182a",
   "metadata": {
    "execution": {
     "iopub.execute_input": "2022-03-23T06:50:32.229101Z",
     "iopub.status.busy": "2022-03-23T06:50:32.216530Z",
     "iopub.status.idle": "2022-03-23T06:50:34.126968Z",
     "shell.execute_reply": "2022-03-23T06:50:34.126141Z"
    },
    "papermill": {
     "duration": 1.943254,
     "end_time": "2022-03-23T06:50:34.127158",
     "exception": false,
     "start_time": "2022-03-23T06:50:32.183904",
     "status": "completed"
    },
    "tags": []
   },
   "outputs": [],
   "source": [
    "%load_ext autoreload\n",
    "%autoreload 2\n",
    "%matplotlib inline\n",
    "\n",
    "    \n",
    "import os, json, sys, time, random\n",
    "import numpy as np\n",
    "import torch\n",
    "from torch.optim import Adam\n",
    "from  easydict import EasyDict\n",
    "import matplotlib.pyplot as plt\n",
    "\n",
    "from steves_models.steves_ptn import Steves_Prototypical_Network\n",
    "\n",
    "from steves_utils.lazy_iterable_wrapper import Lazy_Iterable_Wrapper\n",
    "from steves_utils.iterable_aggregator import Iterable_Aggregator\n",
    "from steves_utils.ptn_train_eval_test_jig import  PTN_Train_Eval_Test_Jig\n",
    "from steves_utils.torch_sequential_builder import build_sequential\n",
    "from steves_utils.torch_utils import get_dataset_metrics, ptn_confusion_by_domain_over_dataloader\n",
    "from steves_utils.utils_v2 import (per_domain_accuracy_from_confusion, get_datasets_base_path)\n",
    "from steves_utils.PTN.utils import independent_accuracy_assesment\n",
    "\n",
    "from torch.utils.data import DataLoader\n",
    "\n",
    "from steves_utils.stratified_dataset.episodic_accessor import Episodic_Accessor_Factory\n",
    "\n",
    "from steves_utils.ptn_do_report import (\n",
    "    get_loss_curve,\n",
    "    get_results_table,\n",
    "    get_parameters_table,\n",
    "    get_domain_accuracies,\n",
    ")\n",
    "\n",
    "from steves_utils.transforms import get_chained_transform"
   ]
  },
  {
   "cell_type": "markdown",
   "id": "41c840b4",
   "metadata": {
    "papermill": {
     "duration": 0.01881,
     "end_time": "2022-03-23T06:50:34.170418",
     "exception": false,
     "start_time": "2022-03-23T06:50:34.151608",
     "status": "completed"
    },
    "tags": []
   },
   "source": [
    "# Allowed Parameters\n",
    "These are allowed parameters, not defaults\n",
    "Each of these values need to be present in the injected parameters (the notebook will raise an exception if they are not present)\n",
    "\n",
    "Papermill uses the cell tag \"parameters\" to inject the real parameters below this cell.\n",
    "Enable tags to see what I mean"
   ]
  },
  {
   "cell_type": "code",
   "execution_count": 2,
   "id": "fd44eb83",
   "metadata": {
    "execution": {
     "iopub.execute_input": "2022-03-23T06:50:34.211686Z",
     "iopub.status.busy": "2022-03-23T06:50:34.211277Z",
     "iopub.status.idle": "2022-03-23T06:50:34.240245Z",
     "shell.execute_reply": "2022-03-23T06:50:34.239872Z"
    },
    "papermill": {
     "duration": 0.051096,
     "end_time": "2022-03-23T06:50:34.240337",
     "exception": false,
     "start_time": "2022-03-23T06:50:34.189241",
     "status": "completed"
    },
    "tags": []
   },
   "outputs": [],
   "source": [
    "required_parameters = {\n",
    "    \"experiment_name\",\n",
    "    \"lr\",\n",
    "    \"device\",\n",
    "    \"seed\",\n",
    "    \"dataset_seed\",\n",
    "    \"n_shot\",\n",
    "    \"n_query\",\n",
    "    \"n_way\",\n",
    "    \"train_k_factor\",\n",
    "    \"val_k_factor\",\n",
    "    \"test_k_factor\",\n",
    "    \"n_epoch\",\n",
    "    \"patience\",\n",
    "    \"criteria_for_best\",\n",
    "    \"x_net\",\n",
    "    \"datasets\",\n",
    "    \"torch_default_dtype\",\n",
    "    \"NUM_LOGS_PER_EPOCH\",\n",
    "    \"BEST_MODEL_PATH\",\n",
    "    \"x_shape\",\n",
    "}"
   ]
  },
  {
   "cell_type": "code",
   "execution_count": 3,
   "id": "fa3f0049",
   "metadata": {
    "execution": {
     "iopub.execute_input": "2022-03-23T06:50:34.302247Z",
     "iopub.status.busy": "2022-03-23T06:50:34.301255Z",
     "iopub.status.idle": "2022-03-23T06:50:34.323403Z",
     "shell.execute_reply": "2022-03-23T06:50:34.322686Z"
    },
    "papermill": {
     "duration": 0.057399,
     "end_time": "2022-03-23T06:50:34.323621",
     "exception": false,
     "start_time": "2022-03-23T06:50:34.266222",
     "status": "completed"
    },
    "tags": [
     "parameters"
    ]
   },
   "outputs": [],
   "source": [
    "from steves_utils.CORES.utils import (\n",
    "    ALL_NODES,\n",
    "    ALL_NODES_MINIMUM_1000_EXAMPLES,\n",
    "    ALL_DAYS\n",
    ")\n",
    "\n",
    "from steves_utils.ORACLE.utils_v2 import (\n",
    "    ALL_DISTANCES_FEET_NARROWED,\n",
    "    ALL_RUNS,\n",
    "    ALL_SERIAL_NUMBERS,\n",
    ")\n",
    "\n",
    "standalone_parameters = {}\n",
    "standalone_parameters[\"experiment_name\"] = \"STANDALONE PTN\"\n",
    "standalone_parameters[\"lr\"] = 0.001\n",
    "standalone_parameters[\"device\"] = \"cuda\"\n",
    "\n",
    "standalone_parameters[\"seed\"] = 1337\n",
    "standalone_parameters[\"dataset_seed\"] = 1337\n",
    "\n",
    "standalone_parameters[\"n_way\"] = 8\n",
    "standalone_parameters[\"n_shot\"] = 3\n",
    "standalone_parameters[\"n_query\"]  = 2\n",
    "standalone_parameters[\"train_k_factor\"] = 1\n",
    "standalone_parameters[\"val_k_factor\"] = 2\n",
    "standalone_parameters[\"test_k_factor\"] = 2\n",
    "\n",
    "\n",
    "standalone_parameters[\"n_epoch\"] = 50\n",
    "\n",
    "standalone_parameters[\"patience\"] = 10\n",
    "standalone_parameters[\"criteria_for_best\"] = \"source_loss\"\n",
    "\n",
    "standalone_parameters[\"datasets\"] = [\n",
    "    {\n",
    "        \"labels\": ALL_SERIAL_NUMBERS,\n",
    "        \"domains\": ALL_DISTANCES_FEET_NARROWED,\n",
    "        \"num_examples_per_domain_per_label\": 100,\n",
    "        \"pickle_path\": os.path.join(get_datasets_base_path(), \"oracle.Run1_framed_2000Examples_stratified_ds.2022A.pkl\"),\n",
    "        \"source_or_target_dataset\": \"source\",\n",
    "        \"x_transforms\": [\"unit_mag\", \"minus_two\"],\n",
    "        \"episode_transforms\": [],\n",
    "        \"domain_prefix\": \"ORACLE_\"\n",
    "    },\n",
    "    {\n",
    "        \"labels\": ALL_NODES,\n",
    "        \"domains\": ALL_DAYS,\n",
    "        \"num_examples_per_domain_per_label\": 100,\n",
    "        \"pickle_path\": os.path.join(get_datasets_base_path(), \"cores.stratified_ds.2022A.pkl\"),\n",
    "        \"source_or_target_dataset\": \"target\",\n",
    "        \"x_transforms\": [\"unit_power\", \"times_zero\"],\n",
    "        \"episode_transforms\": [],\n",
    "        \"domain_prefix\": \"CORES_\"\n",
    "    }   \n",
    "]\n",
    "\n",
    "standalone_parameters[\"torch_default_dtype\"] = \"torch.float32\" \n",
    "\n",
    "\n",
    "\n",
    "standalone_parameters[\"x_net\"] =     [\n",
    "    {\"class\": \"nnReshape\", \"kargs\": {\"shape\":[-1, 1, 2, 256]}},\n",
    "    {\"class\": \"Conv2d\", \"kargs\": { \"in_channels\":1, \"out_channels\":256, \"kernel_size\":(1,7), \"bias\":False, \"padding\":(0,3), },},\n",
    "    {\"class\": \"ReLU\", \"kargs\": {\"inplace\": True}},\n",
    "    {\"class\": \"BatchNorm2d\", \"kargs\": {\"num_features\":256}},\n",
    "\n",
    "    {\"class\": \"Conv2d\", \"kargs\": { \"in_channels\":256, \"out_channels\":80, \"kernel_size\":(2,7), \"bias\":True, \"padding\":(0,3), },},\n",
    "    {\"class\": \"ReLU\", \"kargs\": {\"inplace\": True}},\n",
    "    {\"class\": \"BatchNorm2d\", \"kargs\": {\"num_features\":80}},\n",
    "    {\"class\": \"Flatten\", \"kargs\": {}},\n",
    "\n",
    "    {\"class\": \"Linear\", \"kargs\": {\"in_features\": 80*256, \"out_features\": 256}}, # 80 units per IQ pair\n",
    "    {\"class\": \"ReLU\", \"kargs\": {\"inplace\": True}},\n",
    "    {\"class\": \"BatchNorm1d\", \"kargs\": {\"num_features\":256}},\n",
    "\n",
    "    {\"class\": \"Linear\", \"kargs\": {\"in_features\": 256, \"out_features\": 256}},\n",
    "]\n",
    "\n",
    "# Parameters relevant to results\n",
    "# These parameters will basically never need to change\n",
    "standalone_parameters[\"NUM_LOGS_PER_EPOCH\"] = 10\n",
    "standalone_parameters[\"BEST_MODEL_PATH\"] = \"./best_model.pth\"\n",
    "\n",
    "\n",
    "\n",
    "\n"
   ]
  },
  {
   "cell_type": "code",
   "execution_count": 4,
   "id": "865afff5",
   "metadata": {
    "execution": {
     "iopub.execute_input": "2022-03-23T06:50:34.385478Z",
     "iopub.status.busy": "2022-03-23T06:50:34.384715Z",
     "iopub.status.idle": "2022-03-23T06:50:34.405617Z",
     "shell.execute_reply": "2022-03-23T06:50:34.404800Z"
    },
    "papermill": {
     "duration": 0.054975,
     "end_time": "2022-03-23T06:50:34.405792",
     "exception": false,
     "start_time": "2022-03-23T06:50:34.350817",
     "status": "completed"
    },
    "tags": [
     "injected-parameters"
    ]
   },
   "outputs": [],
   "source": [
    "# Parameters\n",
    "parameters = {\n",
    "    \"experiment_name\": \"tl_1v2:cores-oracle.run1\",\n",
    "    \"device\": \"cuda\",\n",
    "    \"lr\": 0.0001,\n",
    "    \"n_shot\": 3,\n",
    "    \"n_query\": 2,\n",
    "    \"train_k_factor\": 3,\n",
    "    \"val_k_factor\": 2,\n",
    "    \"test_k_factor\": 2,\n",
    "    \"torch_default_dtype\": \"torch.float32\",\n",
    "    \"n_epoch\": 50,\n",
    "    \"patience\": 3,\n",
    "    \"criteria_for_best\": \"target_accuracy\",\n",
    "    \"x_net\": [\n",
    "        {\"class\": \"nnReshape\", \"kargs\": {\"shape\": [-1, 1, 2, 256]}},\n",
    "        {\n",
    "            \"class\": \"Conv2d\",\n",
    "            \"kargs\": {\n",
    "                \"in_channels\": 1,\n",
    "                \"out_channels\": 256,\n",
    "                \"kernel_size\": [1, 7],\n",
    "                \"bias\": False,\n",
    "                \"padding\": [0, 3],\n",
    "            },\n",
    "        },\n",
    "        {\"class\": \"ReLU\", \"kargs\": {\"inplace\": True}},\n",
    "        {\"class\": \"BatchNorm2d\", \"kargs\": {\"num_features\": 256}},\n",
    "        {\n",
    "            \"class\": \"Conv2d\",\n",
    "            \"kargs\": {\n",
    "                \"in_channels\": 256,\n",
    "                \"out_channels\": 80,\n",
    "                \"kernel_size\": [2, 7],\n",
    "                \"bias\": True,\n",
    "                \"padding\": [0, 3],\n",
    "            },\n",
    "        },\n",
    "        {\"class\": \"ReLU\", \"kargs\": {\"inplace\": True}},\n",
    "        {\"class\": \"BatchNorm2d\", \"kargs\": {\"num_features\": 80}},\n",
    "        {\"class\": \"Flatten\", \"kargs\": {}},\n",
    "        {\"class\": \"Linear\", \"kargs\": {\"in_features\": 20480, \"out_features\": 256}},\n",
    "        {\"class\": \"ReLU\", \"kargs\": {\"inplace\": True}},\n",
    "        {\"class\": \"BatchNorm1d\", \"kargs\": {\"num_features\": 256}},\n",
    "        {\"class\": \"Linear\", \"kargs\": {\"in_features\": 256, \"out_features\": 256}},\n",
    "    ],\n",
    "    \"NUM_LOGS_PER_EPOCH\": 10,\n",
    "    \"BEST_MODEL_PATH\": \"./best_model.pth\",\n",
    "    \"n_way\": 16,\n",
    "    \"datasets\": [\n",
    "        {\n",
    "            \"labels\": [\n",
    "                \"1-10.\",\n",
    "                \"1-11.\",\n",
    "                \"1-15.\",\n",
    "                \"1-16.\",\n",
    "                \"1-17.\",\n",
    "                \"1-18.\",\n",
    "                \"1-19.\",\n",
    "                \"10-4.\",\n",
    "                \"10-7.\",\n",
    "                \"11-1.\",\n",
    "                \"11-14.\",\n",
    "                \"11-17.\",\n",
    "                \"11-20.\",\n",
    "                \"11-7.\",\n",
    "                \"13-20.\",\n",
    "                \"13-8.\",\n",
    "                \"14-10.\",\n",
    "                \"14-11.\",\n",
    "                \"14-14.\",\n",
    "                \"14-7.\",\n",
    "                \"15-1.\",\n",
    "                \"15-20.\",\n",
    "                \"16-1.\",\n",
    "                \"16-16.\",\n",
    "                \"17-10.\",\n",
    "                \"17-11.\",\n",
    "                \"17-2.\",\n",
    "                \"19-1.\",\n",
    "                \"19-16.\",\n",
    "                \"19-19.\",\n",
    "                \"19-20.\",\n",
    "                \"19-3.\",\n",
    "                \"2-10.\",\n",
    "                \"2-11.\",\n",
    "                \"2-17.\",\n",
    "                \"2-18.\",\n",
    "                \"2-20.\",\n",
    "                \"2-3.\",\n",
    "                \"2-4.\",\n",
    "                \"2-5.\",\n",
    "                \"2-6.\",\n",
    "                \"2-7.\",\n",
    "                \"2-8.\",\n",
    "                \"3-13.\",\n",
    "                \"3-18.\",\n",
    "                \"3-3.\",\n",
    "                \"4-1.\",\n",
    "                \"4-10.\",\n",
    "                \"4-11.\",\n",
    "                \"4-19.\",\n",
    "                \"5-5.\",\n",
    "                \"6-15.\",\n",
    "                \"7-10.\",\n",
    "                \"7-14.\",\n",
    "                \"8-18.\",\n",
    "                \"8-20.\",\n",
    "                \"8-3.\",\n",
    "                \"8-8.\",\n",
    "            ],\n",
    "            \"domains\": [1, 2, 3, 4, 5],\n",
    "            \"num_examples_per_domain_per_label\": -1,\n",
    "            \"pickle_path\": \"/root/csc500-main/datasets/cores.stratified_ds.2022A.pkl\",\n",
    "            \"source_or_target_dataset\": \"source\",\n",
    "            \"x_transforms\": [\"unit_power\"],\n",
    "            \"episode_transforms\": [],\n",
    "            \"domain_prefix\": \"CORES_\",\n",
    "        },\n",
    "        {\n",
    "            \"labels\": [\n",
    "                \"3123D52\",\n",
    "                \"3123D65\",\n",
    "                \"3123D79\",\n",
    "                \"3123D80\",\n",
    "                \"3123D54\",\n",
    "                \"3123D70\",\n",
    "                \"3123D7B\",\n",
    "                \"3123D89\",\n",
    "                \"3123D58\",\n",
    "                \"3123D76\",\n",
    "                \"3123D7D\",\n",
    "                \"3123EFE\",\n",
    "                \"3123D64\",\n",
    "                \"3123D78\",\n",
    "                \"3123D7E\",\n",
    "                \"3124E4A\",\n",
    "            ],\n",
    "            \"domains\": [32, 38, 8, 44, 14, 50, 20, 26],\n",
    "            \"num_examples_per_domain_per_label\": 10000,\n",
    "            \"pickle_path\": \"/root/csc500-main/datasets/oracle.Run1_10kExamples_stratified_ds.2022A.pkl\",\n",
    "            \"source_or_target_dataset\": \"target\",\n",
    "            \"x_transforms\": [\"unit_power\"],\n",
    "            \"episode_transforms\": [],\n",
    "            \"domain_prefix\": \"ORACLE.run1_\",\n",
    "        },\n",
    "    ],\n",
    "    \"dataset_seed\": 500,\n",
    "    \"seed\": 500,\n",
    "}\n"
   ]
  },
  {
   "cell_type": "code",
   "execution_count": 5,
   "id": "8fa1cc33",
   "metadata": {
    "execution": {
     "iopub.execute_input": "2022-03-23T06:50:34.462456Z",
     "iopub.status.busy": "2022-03-23T06:50:34.461627Z",
     "iopub.status.idle": "2022-03-23T06:50:34.480444Z",
     "shell.execute_reply": "2022-03-23T06:50:34.479625Z"
    },
    "papermill": {
     "duration": 0.04651,
     "end_time": "2022-03-23T06:50:34.480621",
     "exception": false,
     "start_time": "2022-03-23T06:50:34.434111",
     "status": "completed"
    },
    "tags": []
   },
   "outputs": [],
   "source": [
    "# Set this to True if you want to run this template directly\n",
    "STANDALONE = False\n",
    "if STANDALONE:\n",
    "    print(\"parameters not injected, running with standalone_parameters\")\n",
    "    parameters = standalone_parameters\n",
    "\n",
    "if not 'parameters' in locals() and not 'parameters' in globals():\n",
    "    raise Exception(\"Parameter injection failed\")\n",
    "\n",
    "#Use an easy dict for all the parameters\n",
    "p = EasyDict(parameters)\n",
    "\n",
    "if \"x_shape\" not in p:\n",
    "    p.x_shape = [2,256] # Default to this if we dont supply x_shape\n",
    "\n",
    "\n",
    "supplied_keys = set(p.keys())\n",
    "\n",
    "if  supplied_keys != required_parameters:\n",
    "    print(\"Parameters are incorrect\")\n",
    "    if len(supplied_keys - required_parameters)>0: print(\"Shouldn't have:\", str(supplied_keys - required_parameters))\n",
    "    if len(required_parameters - supplied_keys)>0: print(\"Need to have:\", str(required_parameters - supplied_keys))\n",
    "    raise RuntimeError(\"Parameters are incorrect\")"
   ]
  },
  {
   "cell_type": "code",
   "execution_count": 6,
   "id": "3a028d58",
   "metadata": {
    "execution": {
     "iopub.execute_input": "2022-03-23T06:50:34.535226Z",
     "iopub.status.busy": "2022-03-23T06:50:34.531454Z",
     "iopub.status.idle": "2022-03-23T06:50:34.551796Z",
     "shell.execute_reply": "2022-03-23T06:50:34.550958Z"
    },
    "papermill": {
     "duration": 0.044779,
     "end_time": "2022-03-23T06:50:34.551971",
     "exception": false,
     "start_time": "2022-03-23T06:50:34.507192",
     "status": "completed"
    },
    "tags": []
   },
   "outputs": [],
   "source": [
    "###################################\n",
    "# Set the RNGs and make it all deterministic\n",
    "###################################\n",
    "np.random.seed(p.seed)\n",
    "random.seed(p.seed)\n",
    "torch.manual_seed(p.seed)\n",
    "\n",
    "torch.use_deterministic_algorithms(True) "
   ]
  },
  {
   "cell_type": "code",
   "execution_count": 7,
   "id": "b691acf6",
   "metadata": {
    "execution": {
     "iopub.execute_input": "2022-03-23T06:50:34.603242Z",
     "iopub.status.busy": "2022-03-23T06:50:34.602856Z",
     "iopub.status.idle": "2022-03-23T06:50:34.622948Z",
     "shell.execute_reply": "2022-03-23T06:50:34.622147Z"
    },
    "papermill": {
     "duration": 0.044244,
     "end_time": "2022-03-23T06:50:34.623115",
     "exception": false,
     "start_time": "2022-03-23T06:50:34.578871",
     "status": "completed"
    },
    "tags": []
   },
   "outputs": [],
   "source": [
    "###########################################\n",
    "# The stratified datasets honor this\n",
    "###########################################\n",
    "torch.set_default_dtype(eval(p.torch_default_dtype))"
   ]
  },
  {
   "cell_type": "code",
   "execution_count": 8,
   "id": "b5fba671",
   "metadata": {
    "execution": {
     "iopub.execute_input": "2022-03-23T06:50:34.679753Z",
     "iopub.status.busy": "2022-03-23T06:50:34.678815Z",
     "iopub.status.idle": "2022-03-23T06:50:34.736860Z",
     "shell.execute_reply": "2022-03-23T06:50:34.736425Z"
    },
    "papermill": {
     "duration": 0.080014,
     "end_time": "2022-03-23T06:50:34.736990",
     "exception": false,
     "start_time": "2022-03-23T06:50:34.656976",
     "status": "completed"
    },
    "tags": []
   },
   "outputs": [],
   "source": [
    "###################################\n",
    "# Build the network(s)\n",
    "# Note: It's critical to do this AFTER setting the RNG\n",
    "###################################\n",
    "x_net = build_sequential(p.x_net)"
   ]
  },
  {
   "cell_type": "code",
   "execution_count": 9,
   "id": "5d7e61cc",
   "metadata": {
    "execution": {
     "iopub.execute_input": "2022-03-23T06:50:34.781613Z",
     "iopub.status.busy": "2022-03-23T06:50:34.781084Z",
     "iopub.status.idle": "2022-03-23T06:50:34.803239Z",
     "shell.execute_reply": "2022-03-23T06:50:34.802851Z"
    },
    "papermill": {
     "duration": 0.045155,
     "end_time": "2022-03-23T06:50:34.803319",
     "exception": false,
     "start_time": "2022-03-23T06:50:34.758164",
     "status": "completed"
    },
    "tags": []
   },
   "outputs": [],
   "source": [
    "start_time_secs = time.time()"
   ]
  },
  {
   "cell_type": "code",
   "execution_count": 10,
   "id": "c6b67dfd",
   "metadata": {
    "execution": {
     "iopub.execute_input": "2022-03-23T06:50:34.846154Z",
     "iopub.status.busy": "2022-03-23T06:50:34.845621Z",
     "iopub.status.idle": "2022-03-23T06:50:34.864188Z",
     "shell.execute_reply": "2022-03-23T06:50:34.863807Z"
    },
    "papermill": {
     "duration": 0.041107,
     "end_time": "2022-03-23T06:50:34.864261",
     "exception": false,
     "start_time": "2022-03-23T06:50:34.823154",
     "status": "completed"
    },
    "tags": []
   },
   "outputs": [],
   "source": [
    "p.domains_source = []\n",
    "p.domains_target = []\n",
    "\n",
    "\n",
    "train_original_source = []\n",
    "val_original_source   = []\n",
    "test_original_source  = []\n",
    "\n",
    "train_original_target = []\n",
    "val_original_target   = []\n",
    "test_original_target  = []"
   ]
  },
  {
   "cell_type": "code",
   "execution_count": 11,
   "id": "e3d9c3d3",
   "metadata": {
    "execution": {
     "iopub.execute_input": "2022-03-23T06:50:34.907703Z",
     "iopub.status.busy": "2022-03-23T06:50:34.906672Z",
     "iopub.status.idle": "2022-03-23T06:50:34.925285Z",
     "shell.execute_reply": "2022-03-23T06:50:34.924711Z"
    },
    "papermill": {
     "duration": 0.041001,
     "end_time": "2022-03-23T06:50:34.925396",
     "exception": false,
     "start_time": "2022-03-23T06:50:34.884395",
     "status": "completed"
    },
    "tags": []
   },
   "outputs": [],
   "source": [
    "# global_x_transform_func = lambda x: normalize(x.to(torch.get_default_dtype()), \"unit_power\") # unit_power, unit_mag\n",
    "# global_x_transform_func = lambda x: normalize(x, \"unit_power\") # unit_power, unit_mag"
   ]
  },
  {
   "cell_type": "code",
   "execution_count": 12,
   "id": "acb78fd2",
   "metadata": {
    "execution": {
     "iopub.execute_input": "2022-03-23T06:50:34.976985Z",
     "iopub.status.busy": "2022-03-23T06:50:34.976124Z",
     "iopub.status.idle": "2022-03-23T06:50:34.996761Z",
     "shell.execute_reply": "2022-03-23T06:50:34.996430Z"
    },
    "papermill": {
     "duration": 0.04786,
     "end_time": "2022-03-23T06:50:34.996838",
     "exception": false,
     "start_time": "2022-03-23T06:50:34.948978",
     "status": "completed"
    },
    "tags": []
   },
   "outputs": [],
   "source": [
    "def add_dataset(\n",
    "    labels,\n",
    "    domains,\n",
    "    pickle_path,\n",
    "    x_transforms,\n",
    "    episode_transforms,\n",
    "    domain_prefix,\n",
    "    num_examples_per_domain_per_label,\n",
    "    source_or_target_dataset:str,\n",
    "    iterator_seed=p.seed,\n",
    "    dataset_seed=p.dataset_seed,\n",
    "    n_shot=p.n_shot,\n",
    "    n_way=p.n_way,\n",
    "    n_query=p.n_query,\n",
    "    train_val_test_k_factors=(p.train_k_factor,p.val_k_factor,p.test_k_factor),\n",
    "):\n",
    "   \n",
    "    if x_transforms == []: x_transform = None\n",
    "    else: x_transform = get_chained_transform(x_transforms)\n",
    "    \n",
    "    if episode_transforms == []: episode_transform = None\n",
    "    else: raise Exception(\"episode_transforms not implemented\")\n",
    "    \n",
    "    episode_transform = lambda tup, _prefix=domain_prefix: (_prefix + str(tup[0]), tup[1])\n",
    "\n",
    "\n",
    "    eaf = Episodic_Accessor_Factory(\n",
    "        labels=labels,\n",
    "        domains=domains,\n",
    "        num_examples_per_domain_per_label=num_examples_per_domain_per_label,\n",
    "        iterator_seed=iterator_seed,\n",
    "        dataset_seed=dataset_seed,\n",
    "        n_shot=n_shot,\n",
    "        n_way=n_way,\n",
    "        n_query=n_query,\n",
    "        train_val_test_k_factors=train_val_test_k_factors,\n",
    "        pickle_path=pickle_path,\n",
    "        x_transform_func=x_transform,\n",
    "    )\n",
    "\n",
    "    train, val, test = eaf.get_train(), eaf.get_val(), eaf.get_test()\n",
    "    train = Lazy_Iterable_Wrapper(train, episode_transform)\n",
    "    val = Lazy_Iterable_Wrapper(val, episode_transform)\n",
    "    test = Lazy_Iterable_Wrapper(test, episode_transform)\n",
    "\n",
    "    if source_or_target_dataset==\"source\":\n",
    "        train_original_source.append(train)\n",
    "        val_original_source.append(val)\n",
    "        test_original_source.append(test)\n",
    "\n",
    "        p.domains_source.extend(\n",
    "            [domain_prefix + str(u) for u in domains]\n",
    "        )\n",
    "    elif source_or_target_dataset==\"target\":\n",
    "        train_original_target.append(train)\n",
    "        val_original_target.append(val)\n",
    "        test_original_target.append(test)\n",
    "        p.domains_target.extend(\n",
    "            [domain_prefix + str(u) for u in domains]\n",
    "        )\n",
    "    else:\n",
    "        raise Exception(f\"invalid source_or_target_dataset: {source_or_target_dataset}\")\n",
    "    "
   ]
  },
  {
   "cell_type": "code",
   "execution_count": 13,
   "id": "fe266617",
   "metadata": {
    "execution": {
     "iopub.execute_input": "2022-03-23T06:50:35.042965Z",
     "iopub.status.busy": "2022-03-23T06:50:35.042435Z",
     "iopub.status.idle": "2022-03-23T06:52:48.326591Z",
     "shell.execute_reply": "2022-03-23T06:52:48.325823Z"
    },
    "papermill": {
     "duration": 133.306729,
     "end_time": "2022-03-23T06:52:48.326770",
     "exception": false,
     "start_time": "2022-03-23T06:50:35.020041",
     "status": "completed"
    },
    "tags": []
   },
   "outputs": [],
   "source": [
    "for ds in p.datasets:\n",
    "    add_dataset(**ds)"
   ]
  },
  {
   "cell_type": "code",
   "execution_count": 14,
   "id": "b90d65ac",
   "metadata": {
    "execution": {
     "iopub.execute_input": "2022-03-23T06:52:48.378674Z",
     "iopub.status.busy": "2022-03-23T06:52:48.378297Z",
     "iopub.status.idle": "2022-03-23T06:52:48.406490Z",
     "shell.execute_reply": "2022-03-23T06:52:48.405681Z"
    },
    "papermill": {
     "duration": 0.05288,
     "end_time": "2022-03-23T06:52:48.406644",
     "exception": false,
     "start_time": "2022-03-23T06:52:48.353764",
     "status": "completed"
    },
    "tags": []
   },
   "outputs": [],
   "source": [
    "# from steves_utils.CORES.utils import (\n",
    "#     ALL_NODES,\n",
    "#     ALL_NODES_MINIMUM_1000_EXAMPLES,\n",
    "#     ALL_DAYS\n",
    "# )\n",
    "\n",
    "# add_dataset(\n",
    "#     labels=ALL_NODES,\n",
    "#     domains = ALL_DAYS,\n",
    "#     num_examples_per_domain_per_label=100,\n",
    "#     pickle_path=os.path.join(get_datasets_base_path(), \"cores.stratified_ds.2022A.pkl\"),\n",
    "#     source_or_target_dataset=\"target\",\n",
    "#     x_transform_func=global_x_transform_func,\n",
    "#     domain_modifier=lambda u: f\"cores_{u}\"\n",
    "# )"
   ]
  },
  {
   "cell_type": "code",
   "execution_count": 15,
   "id": "76db484d",
   "metadata": {
    "execution": {
     "iopub.execute_input": "2022-03-23T06:52:48.458465Z",
     "iopub.status.busy": "2022-03-23T06:52:48.458080Z",
     "iopub.status.idle": "2022-03-23T06:52:48.482919Z",
     "shell.execute_reply": "2022-03-23T06:52:48.482117Z"
    },
    "papermill": {
     "duration": 0.049783,
     "end_time": "2022-03-23T06:52:48.483072",
     "exception": false,
     "start_time": "2022-03-23T06:52:48.433289",
     "status": "completed"
    },
    "tags": []
   },
   "outputs": [],
   "source": [
    "# from steves_utils.ORACLE.utils_v2 import (\n",
    "#     ALL_DISTANCES_FEET,\n",
    "#     ALL_RUNS,\n",
    "#     ALL_SERIAL_NUMBERS,\n",
    "# )\n",
    "\n",
    "\n",
    "# add_dataset(\n",
    "#     labels=ALL_SERIAL_NUMBERS,\n",
    "#     domains = list(set(ALL_DISTANCES_FEET) - {2,62}),\n",
    "#     num_examples_per_domain_per_label=100,\n",
    "#     pickle_path=os.path.join(get_datasets_base_path(), \"oracle.Run2_framed_2000Examples_stratified_ds.2022A.pkl\"),\n",
    "#     source_or_target_dataset=\"source\",\n",
    "#     x_transform_func=global_x_transform_func,\n",
    "#     domain_modifier=lambda u: f\"oracle1_{u}\"\n",
    "# )\n"
   ]
  },
  {
   "cell_type": "code",
   "execution_count": 16,
   "id": "97dea9d2",
   "metadata": {
    "execution": {
     "iopub.execute_input": "2022-03-23T06:52:48.536004Z",
     "iopub.status.busy": "2022-03-23T06:52:48.535436Z",
     "iopub.status.idle": "2022-03-23T06:52:48.554497Z",
     "shell.execute_reply": "2022-03-23T06:52:48.553693Z"
    },
    "papermill": {
     "duration": 0.042735,
     "end_time": "2022-03-23T06:52:48.554651",
     "exception": false,
     "start_time": "2022-03-23T06:52:48.511916",
     "status": "completed"
    },
    "tags": []
   },
   "outputs": [],
   "source": [
    "# from steves_utils.ORACLE.utils_v2 import (\n",
    "#     ALL_DISTANCES_FEET,\n",
    "#     ALL_RUNS,\n",
    "#     ALL_SERIAL_NUMBERS,\n",
    "# )\n",
    "\n",
    "\n",
    "# add_dataset(\n",
    "#     labels=ALL_SERIAL_NUMBERS,\n",
    "#     domains = list(set(ALL_DISTANCES_FEET) - {2,62,56}),\n",
    "#     num_examples_per_domain_per_label=100,\n",
    "#     pickle_path=os.path.join(get_datasets_base_path(), \"oracle.Run2_framed_2000Examples_stratified_ds.2022A.pkl\"),\n",
    "#     source_or_target_dataset=\"source\",\n",
    "#     x_transform_func=global_x_transform_func,\n",
    "#     domain_modifier=lambda u: f\"oracle2_{u}\"\n",
    "# )"
   ]
  },
  {
   "cell_type": "code",
   "execution_count": 17,
   "id": "6f289866",
   "metadata": {
    "execution": {
     "iopub.execute_input": "2022-03-23T06:52:48.607491Z",
     "iopub.status.busy": "2022-03-23T06:52:48.607120Z",
     "iopub.status.idle": "2022-03-23T06:52:48.626505Z",
     "shell.execute_reply": "2022-03-23T06:52:48.625670Z"
    },
    "papermill": {
     "duration": 0.042775,
     "end_time": "2022-03-23T06:52:48.626660",
     "exception": false,
     "start_time": "2022-03-23T06:52:48.583885",
     "status": "completed"
    },
    "tags": []
   },
   "outputs": [],
   "source": [
    "# add_dataset(\n",
    "#     labels=list(range(19)),\n",
    "#     domains = [0,1,2],\n",
    "#     num_examples_per_domain_per_label=100,\n",
    "#     pickle_path=os.path.join(get_datasets_base_path(), \"metehan.stratified_ds.2022A.pkl\"),\n",
    "#     source_or_target_dataset=\"target\",\n",
    "#     x_transform_func=global_x_transform_func,\n",
    "#     domain_modifier=lambda u: f\"met_{u}\"\n",
    "# )"
   ]
  },
  {
   "cell_type": "code",
   "execution_count": 18,
   "id": "86a863c3",
   "metadata": {
    "execution": {
     "iopub.execute_input": "2022-03-23T06:52:48.679739Z",
     "iopub.status.busy": "2022-03-23T06:52:48.679346Z",
     "iopub.status.idle": "2022-03-23T06:52:48.698895Z",
     "shell.execute_reply": "2022-03-23T06:52:48.698087Z"
    },
    "papermill": {
     "duration": 0.043072,
     "end_time": "2022-03-23T06:52:48.699048",
     "exception": false,
     "start_time": "2022-03-23T06:52:48.655976",
     "status": "completed"
    },
    "tags": []
   },
   "outputs": [],
   "source": [
    "# # from steves_utils.wisig.utils import (\n",
    "# #     ALL_NODES_MINIMUM_100_EXAMPLES,\n",
    "# #     ALL_NODES_MINIMUM_500_EXAMPLES,\n",
    "# #     ALL_NODES_MINIMUM_1000_EXAMPLES,\n",
    "# #     ALL_DAYS\n",
    "# # )\n",
    "\n",
    "# import steves_utils.wisig.utils as wisig\n",
    "\n",
    "\n",
    "# add_dataset(\n",
    "#     labels=wisig.ALL_NODES_MINIMUM_100_EXAMPLES,\n",
    "#     domains = wisig.ALL_DAYS,\n",
    "#     num_examples_per_domain_per_label=100,\n",
    "#     pickle_path=os.path.join(get_datasets_base_path(), \"wisig.node3-19.stratified_ds.2022A.pkl\"),\n",
    "#     source_or_target_dataset=\"target\",\n",
    "#     x_transform_func=global_x_transform_func,\n",
    "#     domain_modifier=lambda u: f\"wisig_{u}\"\n",
    "# )"
   ]
  },
  {
   "cell_type": "code",
   "execution_count": 19,
   "id": "fd5442bc",
   "metadata": {
    "execution": {
     "iopub.execute_input": "2022-03-23T06:52:48.753195Z",
     "iopub.status.busy": "2022-03-23T06:52:48.752612Z",
     "iopub.status.idle": "2022-03-23T06:52:48.773115Z",
     "shell.execute_reply": "2022-03-23T06:52:48.772409Z"
    },
    "papermill": {
     "duration": 0.047304,
     "end_time": "2022-03-23T06:52:48.773269",
     "exception": false,
     "start_time": "2022-03-23T06:52:48.725965",
     "status": "completed"
    },
    "tags": []
   },
   "outputs": [],
   "source": [
    "###################################\n",
    "# Build the dataset\n",
    "###################################\n",
    "train_original_source = Iterable_Aggregator(train_original_source, p.seed)\n",
    "val_original_source = Iterable_Aggregator(val_original_source, p.seed)\n",
    "test_original_source = Iterable_Aggregator(test_original_source, p.seed)\n",
    "\n",
    "\n",
    "train_original_target = Iterable_Aggregator(train_original_target, p.seed)\n",
    "val_original_target = Iterable_Aggregator(val_original_target, p.seed)\n",
    "test_original_target = Iterable_Aggregator(test_original_target, p.seed)\n",
    "\n",
    "# For CNN We only use X and Y. And we only train on the source.\n",
    "# Properly form the data using a transform lambda and Lazy_Iterable_Wrapper. Finally wrap them in a dataloader\n",
    "\n",
    "transform_lambda = lambda ex: ex[1] # Original is (<domain>, <episode>) so we strip down to episode only\n",
    "\n",
    "train_processed_source = Lazy_Iterable_Wrapper(train_original_source, transform_lambda)\n",
    "val_processed_source   = Lazy_Iterable_Wrapper(val_original_source, transform_lambda)\n",
    "test_processed_source  = Lazy_Iterable_Wrapper(test_original_source, transform_lambda)\n",
    "\n",
    "train_processed_target = Lazy_Iterable_Wrapper(train_original_target, transform_lambda)\n",
    "val_processed_target   = Lazy_Iterable_Wrapper(val_original_target, transform_lambda)\n",
    "test_processed_target  = Lazy_Iterable_Wrapper(test_original_target, transform_lambda)\n",
    "\n",
    "datasets = EasyDict({\n",
    "    \"source\": {\n",
    "        \"original\": {\"train\":train_original_source, \"val\":val_original_source, \"test\":test_original_source},\n",
    "        \"processed\": {\"train\":train_processed_source, \"val\":val_processed_source, \"test\":test_processed_source}\n",
    "    },\n",
    "    \"target\": {\n",
    "        \"original\": {\"train\":train_original_target, \"val\":val_original_target, \"test\":test_original_target},\n",
    "        \"processed\": {\"train\":train_processed_target, \"val\":val_processed_target, \"test\":test_processed_target}\n",
    "    },\n",
    "})"
   ]
  },
  {
   "cell_type": "code",
   "execution_count": 20,
   "id": "5b3c01fc",
   "metadata": {
    "execution": {
     "iopub.execute_input": "2022-03-23T06:52:48.828055Z",
     "iopub.status.busy": "2022-03-23T06:52:48.827678Z",
     "iopub.status.idle": "2022-03-23T06:53:21.876292Z",
     "shell.execute_reply": "2022-03-23T06:53:21.875575Z"
    },
    "papermill": {
     "duration": 33.075401,
     "end_time": "2022-03-23T06:53:21.876472",
     "exception": false,
     "start_time": "2022-03-23T06:52:48.801071",
     "status": "completed"
    },
    "tags": []
   },
   "outputs": [
    {
     "name": "stdout",
     "output_type": "stream",
     "text": [
      "{'CORES_3', 'CORES_5', 'CORES_2', 'CORES_4', 'CORES_1'}\n"
     ]
    },
    {
     "name": "stdout",
     "output_type": "stream",
     "text": [
      "{'ORACLE.run1_20', 'ORACLE.run1_32', 'ORACLE.run1_38', 'ORACLE.run1_44', 'ORACLE.run1_50', 'ORACLE.run1_26', 'ORACLE.run1_8', 'ORACLE.run1_14'}\n"
     ]
    },
    {
     "name": "stdout",
     "output_type": "stream",
     "text": [
      "tensor([[[-0.1799, -0.1625, -0.6718,  ..., -0.2157,  0.2038, -0.0514],\n",
      "         [-0.1055,  0.0330,  0.5177,  ...,  0.4598,  1.1757,  1.3125]],\n",
      "\n",
      "        [[-0.3059, -0.8723, -0.5528,  ..., -1.0998, -1.2731, -0.8704],\n",
      "         [-0.1530, -0.5877, -0.9284,  ...,  0.6428,  0.4386,  0.3437]],\n",
      "\n",
      "        [[-0.1989, -0.1112, -0.3315,  ...,  0.4095,  0.9195,  0.7791],\n",
      "         [-0.0127,  0.2418,  0.9439,  ...,  0.5743,  0.8464,  1.1477]],\n",
      "\n",
      "        ...,\n",
      "\n",
      "        [[-0.1663, -0.7082,  0.8806,  ..., -1.1660, -0.4393,  0.7000],\n",
      "         [ 0.3962, -0.6774, -0.6056,  ...,  0.2032,  0.1314, -0.2751]],\n",
      "\n",
      "        [[-0.4844,  0.1464,  1.0224,  ..., -1.0039, -0.1608,  0.6452],\n",
      "         [-0.0660, -0.9791,  0.5153,  ..., -0.4803, -0.0474,  0.3195]],\n",
      "\n",
      "        [[ 0.0000, -0.0313, -0.0581,  ...,  1.3744,  0.3352, -0.2995],\n",
      "         [-0.0939, -0.0469, -0.1207,  ..., -0.8000, -0.2324,  0.5095]]])\n"
     ]
    }
   ],
   "source": [
    "from steves_utils.transforms import get_average_magnitude, get_average_power\n",
    "\n",
    "print(set([u for u,_ in val_original_source]))\n",
    "print(set([u for u,_ in val_original_target]))\n",
    "\n",
    "s_x, s_y, q_x, q_y, _ = next(iter(train_processed_source))\n",
    "print(s_x)\n",
    "\n",
    "# for ds in [\n",
    "#     train_processed_source,\n",
    "#     val_processed_source,\n",
    "#     test_processed_source,\n",
    "#     train_processed_target,\n",
    "#     val_processed_target,\n",
    "#     test_processed_target\n",
    "# ]:\n",
    "#     for s_x, s_y, q_x, q_y, _ in ds:\n",
    "#         for X in (s_x, q_x):\n",
    "#             for x in X:\n",
    "#                 assert np.isclose(get_average_magnitude(x.numpy()), 1.0)\n",
    "#                 assert np.isclose(get_average_power(x.numpy()), 1.0)\n",
    "                "
   ]
  },
  {
   "cell_type": "code",
   "execution_count": 21,
   "id": "bbdacba1",
   "metadata": {
    "execution": {
     "iopub.execute_input": "2022-03-23T06:53:21.942781Z",
     "iopub.status.busy": "2022-03-23T06:53:21.942239Z",
     "iopub.status.idle": "2022-03-23T06:53:22.180655Z",
     "shell.execute_reply": "2022-03-23T06:53:22.180967Z"
    },
    "papermill": {
     "duration": 0.273271,
     "end_time": "2022-03-23T06:53:22.181076",
     "exception": false,
     "start_time": "2022-03-23T06:53:21.907805",
     "status": "completed"
    },
    "tags": []
   },
   "outputs": [
    {
     "name": "stdout",
     "output_type": "stream",
     "text": [
      "(2, 256)\n"
     ]
    }
   ],
   "source": [
    "###################################\n",
    "# Build the model\n",
    "###################################\n",
    "# easfsl only wants a tuple for the shape\n",
    "model = Steves_Prototypical_Network(x_net, device=p.device, x_shape=tuple(p.x_shape))\n",
    "optimizer = Adam(params=model.parameters(), lr=p.lr)"
   ]
  },
  {
   "cell_type": "code",
   "execution_count": 22,
   "id": "22b39ac5",
   "metadata": {
    "execution": {
     "iopub.execute_input": "2022-03-23T06:53:22.232173Z",
     "iopub.status.busy": "2022-03-23T06:53:22.231803Z",
     "iopub.status.idle": "2022-03-23T07:48:06.470818Z",
     "shell.execute_reply": "2022-03-23T07:48:06.470476Z"
    },
    "papermill": {
     "duration": 3284.266768,
     "end_time": "2022-03-23T07:48:06.470902",
     "exception": false,
     "start_time": "2022-03-23T06:53:22.204134",
     "status": "completed"
    },
    "tags": []
   },
   "outputs": [
    {
     "name": "stdout",
     "output_type": "stream",
     "text": [
      "epoch: 1, [batch: 1 / 6317], examples_per_second: 32.1967, train_label_loss: 2.6334, \n"
     ]
    },
    {
     "name": "stdout",
     "output_type": "stream",
     "text": [
      "epoch: 1, [batch: 632 / 6317], examples_per_second: 3323.5339, train_label_loss: 0.0442, \n"
     ]
    },
    {
     "name": "stdout",
     "output_type": "stream",
     "text": [
      "epoch: 1, [batch: 1264 / 6317], examples_per_second: 3435.6054, train_label_loss: 0.0024, \n"
     ]
    },
    {
     "name": "stdout",
     "output_type": "stream",
     "text": [
      "epoch: 1, [batch: 1895 / 6317], examples_per_second: 3418.0748, train_label_loss: 0.0081, \n"
     ]
    },
    {
     "name": "stdout",
     "output_type": "stream",
     "text": [
      "epoch: 1, [batch: 2527 / 6317], examples_per_second: 3332.9119, train_label_loss: 0.1509, \n"
     ]
    },
    {
     "name": "stdout",
     "output_type": "stream",
     "text": [
      "epoch: 1, [batch: 3159 / 6317], examples_per_second: 3398.9234, train_label_loss: 0.0354, \n"
     ]
    },
    {
     "name": "stdout",
     "output_type": "stream",
     "text": [
      "epoch: 1, [batch: 3790 / 6317], examples_per_second: 3427.7066, train_label_loss: 0.0009, \n"
     ]
    },
    {
     "name": "stdout",
     "output_type": "stream",
     "text": [
      "epoch: 1, [batch: 4422 / 6317], examples_per_second: 3317.6809, train_label_loss: 0.0001, \n"
     ]
    },
    {
     "name": "stdout",
     "output_type": "stream",
     "text": [
      "epoch: 1, [batch: 5053 / 6317], examples_per_second: 3292.8617, train_label_loss: 0.0020, \n"
     ]
    },
    {
     "name": "stdout",
     "output_type": "stream",
     "text": [
      "epoch: 1, [batch: 5685 / 6317], examples_per_second: 3384.5583, train_label_loss: 0.0279, \n"
     ]
    },
    {
     "name": "stdout",
     "output_type": "stream",
     "text": [
      "=============================================================\n",
      "epoch: 1, source_val_acc_label: 0.9991, target_val_acc_label: 0.1284, source_val_label_loss: 0.0040, target_val_label_loss: 2.8139, \n",
      "=============================================================\n"
     ]
    },
    {
     "name": "stdout",
     "output_type": "stream",
     "text": [
      "New best\n"
     ]
    },
    {
     "name": "stdout",
     "output_type": "stream",
     "text": [
      "epoch: 2, [batch: 1 / 6315], examples_per_second: 1.8495, train_label_loss: 0.0000, \n"
     ]
    },
    {
     "name": "stdout",
     "output_type": "stream",
     "text": [
      "epoch: 2, [batch: 632 / 6315], examples_per_second: 3825.8006, train_label_loss: 0.0144, \n"
     ]
    },
    {
     "name": "stdout",
     "output_type": "stream",
     "text": [
      "epoch: 2, [batch: 1263 / 6315], examples_per_second: 3915.1692, train_label_loss: 0.0000, \n"
     ]
    },
    {
     "name": "stdout",
     "output_type": "stream",
     "text": [
      "epoch: 2, [batch: 1895 / 6315], examples_per_second: 3828.6924, train_label_loss: 0.0000, \n"
     ]
    },
    {
     "name": "stdout",
     "output_type": "stream",
     "text": [
      "epoch: 2, [batch: 2526 / 6315], examples_per_second: 3813.6800, train_label_loss: 0.0020, \n"
     ]
    },
    {
     "name": "stdout",
     "output_type": "stream",
     "text": [
      "epoch: 2, [batch: 3158 / 6315], examples_per_second: 3836.9995, train_label_loss: 0.0000, \n"
     ]
    },
    {
     "name": "stdout",
     "output_type": "stream",
     "text": [
      "epoch: 2, [batch: 3789 / 6315], examples_per_second: 3795.7855, train_label_loss: 0.0000, \n"
     ]
    },
    {
     "name": "stdout",
     "output_type": "stream",
     "text": [
      "epoch: 2, [batch: 4420 / 6315], examples_per_second: 3758.7577, train_label_loss: 0.0000, \n"
     ]
    },
    {
     "name": "stdout",
     "output_type": "stream",
     "text": [
      "epoch: 2, [batch: 5052 / 6315], examples_per_second: 3810.7719, train_label_loss: 0.0000, \n"
     ]
    },
    {
     "name": "stdout",
     "output_type": "stream",
     "text": [
      "epoch: 2, [batch: 5683 / 6315], examples_per_second: 2946.7333, train_label_loss: 0.0004, \n"
     ]
    },
    {
     "name": "stdout",
     "output_type": "stream",
     "text": [
      "=============================================================\n",
      "epoch: 2, source_val_acc_label: 0.9989, target_val_acc_label: 0.1359, source_val_label_loss: 0.0074, target_val_label_loss: 3.3092, \n",
      "=============================================================\n"
     ]
    },
    {
     "name": "stdout",
     "output_type": "stream",
     "text": [
      "New best\n"
     ]
    },
    {
     "name": "stdout",
     "output_type": "stream",
     "text": [
      "epoch: 3, [batch: 1 / 6325], examples_per_second: 1.2863, train_label_loss: 0.0000, \n"
     ]
    },
    {
     "name": "stdout",
     "output_type": "stream",
     "text": [
      "epoch: 3, [batch: 633 / 6325], examples_per_second: 2877.4850, train_label_loss: 0.0000, \n"
     ]
    },
    {
     "name": "stdout",
     "output_type": "stream",
     "text": [
      "epoch: 3, [batch: 1265 / 6325], examples_per_second: 3251.7942, train_label_loss: 0.0000, \n"
     ]
    },
    {
     "name": "stdout",
     "output_type": "stream",
     "text": [
      "epoch: 3, [batch: 1898 / 6325], examples_per_second: 3392.2761, train_label_loss: 0.0000, \n"
     ]
    },
    {
     "name": "stdout",
     "output_type": "stream",
     "text": [
      "epoch: 3, [batch: 2530 / 6325], examples_per_second: 3474.2951, train_label_loss: 0.0000, \n"
     ]
    },
    {
     "name": "stdout",
     "output_type": "stream",
     "text": [
      "epoch: 3, [batch: 3163 / 6325], examples_per_second: 2947.9845, train_label_loss: 0.0000, \n"
     ]
    },
    {
     "name": "stdout",
     "output_type": "stream",
     "text": [
      "epoch: 3, [batch: 3795 / 6325], examples_per_second: 2938.7007, train_label_loss: 0.0000, \n"
     ]
    },
    {
     "name": "stdout",
     "output_type": "stream",
     "text": [
      "epoch: 3, [batch: 4427 / 6325], examples_per_second: 3005.4909, train_label_loss: 0.0001, \n"
     ]
    },
    {
     "name": "stdout",
     "output_type": "stream",
     "text": [
      "epoch: 3, [batch: 5060 / 6325], examples_per_second: 3045.0059, train_label_loss: 0.0000, \n"
     ]
    },
    {
     "name": "stdout",
     "output_type": "stream",
     "text": [
      "epoch: 3, [batch: 5692 / 6325], examples_per_second: 3438.6960, train_label_loss: 0.0002, \n"
     ]
    },
    {
     "name": "stdout",
     "output_type": "stream",
     "text": [
      "=============================================================\n",
      "epoch: 3, source_val_acc_label: 0.9983, target_val_acc_label: 0.1564, source_val_label_loss: 0.0124, target_val_label_loss: 3.9308, \n",
      "=============================================================\n"
     ]
    },
    {
     "name": "stdout",
     "output_type": "stream",
     "text": [
      "New best\n"
     ]
    },
    {
     "name": "stdout",
     "output_type": "stream",
     "text": [
      "epoch: 4, [batch: 1 / 6307], examples_per_second: 1.6060, train_label_loss: 0.0000, \n"
     ]
    },
    {
     "name": "stdout",
     "output_type": "stream",
     "text": [
      "epoch: 4, [batch: 631 / 6307], examples_per_second: 3101.1152, train_label_loss: 0.0000, \n"
     ]
    },
    {
     "name": "stdout",
     "output_type": "stream",
     "text": [
      "epoch: 4, [batch: 1262 / 6307], examples_per_second: 2982.3151, train_label_loss: 0.0000, \n"
     ]
    },
    {
     "name": "stdout",
     "output_type": "stream",
     "text": [
      "epoch: 4, [batch: 1892 / 6307], examples_per_second: 3011.8757, train_label_loss: 0.0000, \n"
     ]
    },
    {
     "name": "stdout",
     "output_type": "stream",
     "text": [
      "epoch: 4, [batch: 2523 / 6307], examples_per_second: 3000.7254, train_label_loss: 0.0000, \n"
     ]
    },
    {
     "name": "stdout",
     "output_type": "stream",
     "text": [
      "epoch: 4, [batch: 3154 / 6307], examples_per_second: 3012.7490, train_label_loss: 0.0000, \n"
     ]
    },
    {
     "name": "stdout",
     "output_type": "stream",
     "text": [
      "epoch: 4, [batch: 3784 / 6307], examples_per_second: 2934.6908, train_label_loss: 0.0001, \n"
     ]
    },
    {
     "name": "stdout",
     "output_type": "stream",
     "text": [
      "epoch: 4, [batch: 4415 / 6307], examples_per_second: 2911.8093, train_label_loss: 0.0000, \n"
     ]
    },
    {
     "name": "stdout",
     "output_type": "stream",
     "text": [
      "epoch: 4, [batch: 5045 / 6307], examples_per_second: 3014.4438, train_label_loss: 0.0000, \n"
     ]
    },
    {
     "name": "stdout",
     "output_type": "stream",
     "text": [
      "epoch: 4, [batch: 5676 / 6307], examples_per_second: 2988.7936, train_label_loss: 0.0000, \n"
     ]
    },
    {
     "name": "stdout",
     "output_type": "stream",
     "text": [
      "=============================================================\n",
      "epoch: 4, source_val_acc_label: 0.9994, target_val_acc_label: 0.1587, source_val_label_loss: 0.0063, target_val_label_loss: 3.8146, \n",
      "=============================================================\n"
     ]
    },
    {
     "name": "stdout",
     "output_type": "stream",
     "text": [
      "New best\n"
     ]
    },
    {
     "name": "stdout",
     "output_type": "stream",
     "text": [
      "epoch: 5, [batch: 1 / 6302], examples_per_second: 1.3716, train_label_loss: 0.0000, \n"
     ]
    },
    {
     "name": "stdout",
     "output_type": "stream",
     "text": [
      "epoch: 5, [batch: 631 / 6302], examples_per_second: 2829.0263, train_label_loss: 0.0000, \n"
     ]
    },
    {
     "name": "stdout",
     "output_type": "stream",
     "text": [
      "epoch: 5, [batch: 1261 / 6302], examples_per_second: 2933.4543, train_label_loss: 0.0000, \n"
     ]
    },
    {
     "name": "stdout",
     "output_type": "stream",
     "text": [
      "epoch: 5, [batch: 1891 / 6302], examples_per_second: 3010.7688, train_label_loss: 0.0000, \n"
     ]
    },
    {
     "name": "stdout",
     "output_type": "stream",
     "text": [
      "epoch: 5, [batch: 2521 / 6302], examples_per_second: 2950.4321, train_label_loss: 0.0000, \n"
     ]
    },
    {
     "name": "stdout",
     "output_type": "stream",
     "text": [
      "epoch: 5, [batch: 3151 / 6302], examples_per_second: 2959.7536, train_label_loss: 0.0000, \n"
     ]
    },
    {
     "name": "stdout",
     "output_type": "stream",
     "text": [
      "epoch: 5, [batch: 3781 / 6302], examples_per_second: 2975.1614, train_label_loss: 0.0000, \n"
     ]
    },
    {
     "name": "stdout",
     "output_type": "stream",
     "text": [
      "epoch: 5, [batch: 4411 / 6302], examples_per_second: 3054.9810, train_label_loss: 0.0000, \n"
     ]
    },
    {
     "name": "stdout",
     "output_type": "stream",
     "text": [
      "epoch: 5, [batch: 5041 / 6302], examples_per_second: 3433.2955, train_label_loss: 0.0000, \n"
     ]
    },
    {
     "name": "stdout",
     "output_type": "stream",
     "text": [
      "epoch: 5, [batch: 5671 / 6302], examples_per_second: 3444.3507, train_label_loss: 0.0000, \n"
     ]
    },
    {
     "name": "stdout",
     "output_type": "stream",
     "text": [
      "=============================================================\n",
      "epoch: 5, source_val_acc_label: 0.9991, target_val_acc_label: 0.1581, source_val_label_loss: 0.0068, target_val_label_loss: 3.9149, \n",
      "=============================================================\n"
     ]
    },
    {
     "name": "stdout",
     "output_type": "stream",
     "text": [
      "epoch: 6, [batch: 1 / 6311], examples_per_second: 1.3064, train_label_loss: 0.0000, \n"
     ]
    },
    {
     "name": "stdout",
     "output_type": "stream",
     "text": [
      "epoch: 6, [batch: 632 / 6311], examples_per_second: 2949.4256, train_label_loss: 0.0000, \n"
     ]
    },
    {
     "name": "stdout",
     "output_type": "stream",
     "text": [
      "epoch: 6, [batch: 1263 / 6311], examples_per_second: 3076.9988, train_label_loss: 0.0000, \n"
     ]
    },
    {
     "name": "stdout",
     "output_type": "stream",
     "text": [
      "epoch: 6, [batch: 1894 / 6311], examples_per_second: 3002.8800, train_label_loss: 0.0000, \n"
     ]
    },
    {
     "name": "stdout",
     "output_type": "stream",
     "text": [
      "epoch: 6, [batch: 2525 / 6311], examples_per_second: 3305.4910, train_label_loss: 0.0000, \n"
     ]
    },
    {
     "name": "stdout",
     "output_type": "stream",
     "text": [
      "epoch: 6, [batch: 3156 / 6311], examples_per_second: 3457.3836, train_label_loss: 0.0000, \n"
     ]
    },
    {
     "name": "stdout",
     "output_type": "stream",
     "text": [
      "epoch: 6, [batch: 3787 / 6311], examples_per_second: 3436.7497, train_label_loss: 0.0000, \n"
     ]
    },
    {
     "name": "stdout",
     "output_type": "stream",
     "text": [
      "epoch: 6, [batch: 4418 / 6311], examples_per_second: 2971.0438, train_label_loss: 0.0000, \n"
     ]
    },
    {
     "name": "stdout",
     "output_type": "stream",
     "text": [
      "epoch: 6, [batch: 5049 / 6311], examples_per_second: 2988.9479, train_label_loss: 0.0000, \n"
     ]
    },
    {
     "name": "stdout",
     "output_type": "stream",
     "text": [
      "epoch: 6, [batch: 5680 / 6311], examples_per_second: 2997.6950, train_label_loss: 0.0001, \n"
     ]
    },
    {
     "name": "stdout",
     "output_type": "stream",
     "text": [
      "=============================================================\n",
      "epoch: 6, source_val_acc_label: 0.9995, target_val_acc_label: 0.1542, source_val_label_loss: 0.0085, target_val_label_loss: 4.3637, \n",
      "=============================================================\n"
     ]
    },
    {
     "name": "stdout",
     "output_type": "stream",
     "text": [
      "epoch: 7, [batch: 1 / 6310], examples_per_second: 1.2835, train_label_loss: 0.0000, \n"
     ]
    },
    {
     "name": "stdout",
     "output_type": "stream",
     "text": [
      "epoch: 7, [batch: 631 / 6310], examples_per_second: 3365.3395, train_label_loss: 0.0000, \n"
     ]
    },
    {
     "name": "stdout",
     "output_type": "stream",
     "text": [
      "epoch: 7, [batch: 1262 / 6310], examples_per_second: 3403.8953, train_label_loss: 0.0000, \n"
     ]
    },
    {
     "name": "stdout",
     "output_type": "stream",
     "text": [
      "epoch: 7, [batch: 1893 / 6310], examples_per_second: 3464.0962, train_label_loss: 0.0000, \n"
     ]
    },
    {
     "name": "stdout",
     "output_type": "stream",
     "text": [
      "epoch: 7, [batch: 2524 / 6310], examples_per_second: 3381.8444, train_label_loss: 0.0000, \n"
     ]
    },
    {
     "name": "stdout",
     "output_type": "stream",
     "text": [
      "epoch: 7, [batch: 3155 / 6310], examples_per_second: 3399.5561, train_label_loss: 0.0000, \n"
     ]
    },
    {
     "name": "stdout",
     "output_type": "stream",
     "text": [
      "epoch: 7, [batch: 3786 / 6310], examples_per_second: 3379.4615, train_label_loss: 0.0005, \n"
     ]
    },
    {
     "name": "stdout",
     "output_type": "stream",
     "text": [
      "epoch: 7, [batch: 4417 / 6310], examples_per_second: 3428.8328, train_label_loss: 0.2383, \n"
     ]
    },
    {
     "name": "stdout",
     "output_type": "stream",
     "text": [
      "epoch: 7, [batch: 5048 / 6310], examples_per_second: 3575.6342, train_label_loss: 0.0000, \n"
     ]
    },
    {
     "name": "stdout",
     "output_type": "stream",
     "text": [
      "epoch: 7, [batch: 5679 / 6310], examples_per_second: 3629.1309, train_label_loss: 0.0000, \n"
     ]
    },
    {
     "name": "stdout",
     "output_type": "stream",
     "text": [
      "=============================================================\n",
      "epoch: 7, source_val_acc_label: 0.9992, target_val_acc_label: 0.1544, source_val_label_loss: 0.0100, target_val_label_loss: 4.5117, \n",
      "=============================================================\n"
     ]
    },
    {
     "name": "stdout",
     "output_type": "stream",
     "text": [
      "epoch: 8, [batch: 1 / 6331], examples_per_second: 1.5206, train_label_loss: 0.0000, \n"
     ]
    },
    {
     "name": "stdout",
     "output_type": "stream",
     "text": [
      "epoch: 8, [batch: 634 / 6331], examples_per_second: 2941.2103, train_label_loss: 0.0000, \n"
     ]
    },
    {
     "name": "stdout",
     "output_type": "stream",
     "text": [
      "epoch: 8, [batch: 1267 / 6331], examples_per_second: 3037.6189, train_label_loss: 0.0000, \n"
     ]
    },
    {
     "name": "stdout",
     "output_type": "stream",
     "text": [
      "epoch: 8, [batch: 1900 / 6331], examples_per_second: 2986.3997, train_label_loss: 0.0000, \n"
     ]
    },
    {
     "name": "stdout",
     "output_type": "stream",
     "text": [
      "epoch: 8, [batch: 2533 / 6331], examples_per_second: 2959.3842, train_label_loss: 0.0000, \n"
     ]
    },
    {
     "name": "stdout",
     "output_type": "stream",
     "text": [
      "epoch: 8, [batch: 3166 / 6331], examples_per_second: 2969.8177, train_label_loss: 0.0000, \n"
     ]
    },
    {
     "name": "stdout",
     "output_type": "stream",
     "text": [
      "epoch: 8, [batch: 3799 / 6331], examples_per_second: 3003.3015, train_label_loss: 0.0000, \n"
     ]
    },
    {
     "name": "stdout",
     "output_type": "stream",
     "text": [
      "epoch: 8, [batch: 4432 / 6331], examples_per_second: 2960.1394, train_label_loss: 0.0000, \n"
     ]
    },
    {
     "name": "stdout",
     "output_type": "stream",
     "text": [
      "epoch: 8, [batch: 5065 / 6331], examples_per_second: 3001.2667, train_label_loss: 0.0000, \n"
     ]
    },
    {
     "name": "stdout",
     "output_type": "stream",
     "text": [
      "epoch: 8, [batch: 5698 / 6331], examples_per_second: 3183.4115, train_label_loss: 0.0000, \n"
     ]
    },
    {
     "name": "stdout",
     "output_type": "stream",
     "text": [
      "=============================================================\n",
      "epoch: 8, source_val_acc_label: 0.9991, target_val_acc_label: 0.1588, source_val_label_loss: 0.0095, target_val_label_loss: 4.7228, \n",
      "=============================================================\n"
     ]
    },
    {
     "name": "stdout",
     "output_type": "stream",
     "text": [
      "New best\n"
     ]
    },
    {
     "name": "stdout",
     "output_type": "stream",
     "text": [
      "epoch: 9, [batch: 1 / 6311], examples_per_second: 1.3377, train_label_loss: 0.0000, \n"
     ]
    },
    {
     "name": "stdout",
     "output_type": "stream",
     "text": [
      "epoch: 9, [batch: 632 / 6311], examples_per_second: 2883.6294, train_label_loss: 0.0000, \n"
     ]
    },
    {
     "name": "stdout",
     "output_type": "stream",
     "text": [
      "epoch: 9, [batch: 1263 / 6311], examples_per_second: 2957.3614, train_label_loss: 0.0000, \n"
     ]
    },
    {
     "name": "stdout",
     "output_type": "stream",
     "text": [
      "epoch: 9, [batch: 1894 / 6311], examples_per_second: 2970.6115, train_label_loss: 0.0000, \n"
     ]
    },
    {
     "name": "stdout",
     "output_type": "stream",
     "text": [
      "epoch: 9, [batch: 2525 / 6311], examples_per_second: 2910.2414, train_label_loss: 0.0000, \n"
     ]
    },
    {
     "name": "stdout",
     "output_type": "stream",
     "text": [
      "epoch: 9, [batch: 3156 / 6311], examples_per_second: 3143.1257, train_label_loss: 0.0000, \n"
     ]
    },
    {
     "name": "stdout",
     "output_type": "stream",
     "text": [
      "epoch: 9, [batch: 3787 / 6311], examples_per_second: 3413.6814, train_label_loss: 0.0000, \n"
     ]
    },
    {
     "name": "stdout",
     "output_type": "stream",
     "text": [
      "epoch: 9, [batch: 4418 / 6311], examples_per_second: 3458.3661, train_label_loss: 0.0000, \n"
     ]
    },
    {
     "name": "stdout",
     "output_type": "stream",
     "text": [
      "epoch: 9, [batch: 5049 / 6311], examples_per_second: 3051.0045, train_label_loss: 0.0000, \n"
     ]
    },
    {
     "name": "stdout",
     "output_type": "stream",
     "text": [
      "epoch: 9, [batch: 5680 / 6311], examples_per_second: 2946.7365, train_label_loss: 0.0000, \n"
     ]
    },
    {
     "name": "stdout",
     "output_type": "stream",
     "text": [
      "=============================================================\n",
      "epoch: 9, source_val_acc_label: 0.9997, target_val_acc_label: 0.1718, source_val_label_loss: 0.0082, target_val_label_loss: 4.8590, \n",
      "=============================================================\n"
     ]
    },
    {
     "name": "stdout",
     "output_type": "stream",
     "text": [
      "New best\n"
     ]
    },
    {
     "name": "stdout",
     "output_type": "stream",
     "text": [
      "epoch: 10, [batch: 1 / 6309], examples_per_second: 1.2841, train_label_loss: 0.0000, \n"
     ]
    },
    {
     "name": "stdout",
     "output_type": "stream",
     "text": [
      "epoch: 10, [batch: 631 / 6309], examples_per_second: 3101.0029, train_label_loss: 0.0000, \n"
     ]
    },
    {
     "name": "stdout",
     "output_type": "stream",
     "text": [
      "epoch: 10, [batch: 1262 / 6309], examples_per_second: 3358.5177, train_label_loss: 0.0000, \n"
     ]
    },
    {
     "name": "stdout",
     "output_type": "stream",
     "text": [
      "epoch: 10, [batch: 1893 / 6309], examples_per_second: 3475.9235, train_label_loss: 0.0000, \n"
     ]
    },
    {
     "name": "stdout",
     "output_type": "stream",
     "text": [
      "epoch: 10, [batch: 2524 / 6309], examples_per_second: 2939.1605, train_label_loss: 0.0000, \n"
     ]
    },
    {
     "name": "stdout",
     "output_type": "stream",
     "text": [
      "epoch: 10, [batch: 3155 / 6309], examples_per_second: 2961.5648, train_label_loss: 0.0000, \n"
     ]
    },
    {
     "name": "stdout",
     "output_type": "stream",
     "text": [
      "epoch: 10, [batch: 3785 / 6309], examples_per_second: 2946.8452, train_label_loss: 0.0000, \n"
     ]
    },
    {
     "name": "stdout",
     "output_type": "stream",
     "text": [
      "epoch: 10, [batch: 4416 / 6309], examples_per_second: 2976.4128, train_label_loss: 0.0000, \n"
     ]
    },
    {
     "name": "stdout",
     "output_type": "stream",
     "text": [
      "epoch: 10, [batch: 5047 / 6309], examples_per_second: 2950.2583, train_label_loss: 0.0000, \n"
     ]
    },
    {
     "name": "stdout",
     "output_type": "stream",
     "text": [
      "epoch: 10, [batch: 5678 / 6309], examples_per_second: 3003.4268, train_label_loss: 0.0010, \n"
     ]
    },
    {
     "name": "stdout",
     "output_type": "stream",
     "text": [
      "=============================================================\n",
      "epoch: 10, source_val_acc_label: 0.9993, target_val_acc_label: 0.1600, source_val_label_loss: 0.0100, target_val_label_loss: 4.9346, \n",
      "=============================================================\n"
     ]
    },
    {
     "name": "stdout",
     "output_type": "stream",
     "text": [
      "epoch: 11, [batch: 1 / 6319], examples_per_second: 1.4796, train_label_loss: 0.0000, \n"
     ]
    },
    {
     "name": "stdout",
     "output_type": "stream",
     "text": [
      "epoch: 11, [batch: 632 / 6319], examples_per_second: 3427.3853, train_label_loss: 0.0000, \n"
     ]
    },
    {
     "name": "stdout",
     "output_type": "stream",
     "text": [
      "epoch: 11, [batch: 1264 / 6319], examples_per_second: 3469.4120, train_label_loss: 0.0000, \n"
     ]
    },
    {
     "name": "stdout",
     "output_type": "stream",
     "text": [
      "epoch: 11, [batch: 1896 / 6319], examples_per_second: 3858.2308, train_label_loss: 0.0000, \n"
     ]
    },
    {
     "name": "stdout",
     "output_type": "stream",
     "text": [
      "epoch: 11, [batch: 2528 / 6319], examples_per_second: 3364.0973, train_label_loss: 0.0000, \n"
     ]
    },
    {
     "name": "stdout",
     "output_type": "stream",
     "text": [
      "epoch: 11, [batch: 3160 / 6319], examples_per_second: 2997.2899, train_label_loss: 0.0000, \n"
     ]
    },
    {
     "name": "stdout",
     "output_type": "stream",
     "text": [
      "epoch: 11, [batch: 3791 / 6319], examples_per_second: 3044.8640, train_label_loss: 0.0000, \n"
     ]
    },
    {
     "name": "stdout",
     "output_type": "stream",
     "text": [
      "epoch: 11, [batch: 4423 / 6319], examples_per_second: 2981.5960, train_label_loss: 0.0000, \n"
     ]
    },
    {
     "name": "stdout",
     "output_type": "stream",
     "text": [
      "epoch: 11, [batch: 5055 / 6319], examples_per_second: 2999.5262, train_label_loss: 0.0000, \n"
     ]
    },
    {
     "name": "stdout",
     "output_type": "stream",
     "text": [
      "epoch: 11, [batch: 5687 / 6319], examples_per_second: 2998.1785, train_label_loss: 0.0000, \n"
     ]
    },
    {
     "name": "stdout",
     "output_type": "stream",
     "text": [
      "=============================================================\n",
      "epoch: 11, source_val_acc_label: 0.9992, target_val_acc_label: 0.1486, source_val_label_loss: 0.0112, target_val_label_loss: 5.2401, \n",
      "=============================================================\n"
     ]
    },
    {
     "name": "stdout",
     "output_type": "stream",
     "text": [
      "epoch: 12, [batch: 1 / 6329], examples_per_second: 1.4696, train_label_loss: 0.0029, \n"
     ]
    },
    {
     "name": "stdout",
     "output_type": "stream",
     "text": [
      "epoch: 12, [batch: 633 / 6329], examples_per_second: 3349.9005, train_label_loss: 0.0000, \n"
     ]
    },
    {
     "name": "stdout",
     "output_type": "stream",
     "text": [
      "epoch: 12, [batch: 1266 / 6329], examples_per_second: 3400.1048, train_label_loss: 0.0418, \n"
     ]
    },
    {
     "name": "stdout",
     "output_type": "stream",
     "text": [
      "epoch: 12, [batch: 1899 / 6329], examples_per_second: 3419.1674, train_label_loss: 0.0000, \n"
     ]
    },
    {
     "name": "stdout",
     "output_type": "stream",
     "text": [
      "epoch: 12, [batch: 2532 / 6329], examples_per_second: 3317.1119, train_label_loss: 0.0000, \n"
     ]
    },
    {
     "name": "stdout",
     "output_type": "stream",
     "text": [
      "epoch: 12, [batch: 3165 / 6329], examples_per_second: 3918.1804, train_label_loss: 0.0000, \n"
     ]
    },
    {
     "name": "stdout",
     "output_type": "stream",
     "text": [
      "epoch: 12, [batch: 3797 / 6329], examples_per_second: 3894.2049, train_label_loss: 0.0000, \n"
     ]
    },
    {
     "name": "stdout",
     "output_type": "stream",
     "text": [
      "epoch: 12, [batch: 4430 / 6329], examples_per_second: 3868.5237, train_label_loss: 0.0000, \n"
     ]
    },
    {
     "name": "stdout",
     "output_type": "stream",
     "text": [
      "epoch: 12, [batch: 5063 / 6329], examples_per_second: 3905.1331, train_label_loss: 0.0000, \n"
     ]
    },
    {
     "name": "stdout",
     "output_type": "stream",
     "text": [
      "epoch: 12, [batch: 5696 / 6329], examples_per_second: 3825.3116, train_label_loss: 0.0000, \n"
     ]
    },
    {
     "name": "stdout",
     "output_type": "stream",
     "text": [
      "=============================================================\n",
      "epoch: 12, source_val_acc_label: 0.9994, target_val_acc_label: 0.1699, source_val_label_loss: 0.0092, target_val_label_loss: 5.9088, \n",
      "=============================================================\n"
     ]
    },
    {
     "name": "stdout",
     "output_type": "stream",
     "text": [
      "epoch: 13, [batch: 1 / 6336], examples_per_second: 1.9125, train_label_loss: 0.0000, \n"
     ]
    },
    {
     "name": "stdout",
     "output_type": "stream",
     "text": [
      "epoch: 13, [batch: 634 / 6336], examples_per_second: 3695.9287, train_label_loss: 0.0000, \n"
     ]
    },
    {
     "name": "stdout",
     "output_type": "stream",
     "text": [
      "epoch: 13, [batch: 1268 / 6336], examples_per_second: 3347.3208, train_label_loss: 0.0000, \n"
     ]
    },
    {
     "name": "stdout",
     "output_type": "stream",
     "text": [
      "epoch: 13, [batch: 1901 / 6336], examples_per_second: 2971.5395, train_label_loss: 0.0000, \n"
     ]
    },
    {
     "name": "stdout",
     "output_type": "stream",
     "text": [
      "epoch: 13, [batch: 2535 / 6336], examples_per_second: 3007.5157, train_label_loss: 0.0000, \n"
     ]
    },
    {
     "name": "stdout",
     "output_type": "stream",
     "text": [
      "epoch: 13, [batch: 3168 / 6336], examples_per_second: 2944.1003, train_label_loss: 0.0000, \n"
     ]
    },
    {
     "name": "stdout",
     "output_type": "stream",
     "text": [
      "epoch: 13, [batch: 3802 / 6336], examples_per_second: 2963.3388, train_label_loss: 0.0000, \n"
     ]
    },
    {
     "name": "stdout",
     "output_type": "stream",
     "text": [
      "epoch: 13, [batch: 4435 / 6336], examples_per_second: 2971.8325, train_label_loss: 0.0000, \n"
     ]
    },
    {
     "name": "stdout",
     "output_type": "stream",
     "text": [
      "epoch: 13, [batch: 5069 / 6336], examples_per_second: 2934.5360, train_label_loss: 0.0000, \n"
     ]
    },
    {
     "name": "stdout",
     "output_type": "stream",
     "text": [
      "epoch: 13, [batch: 5702 / 6336], examples_per_second: 2937.9664, train_label_loss: 0.0000, \n"
     ]
    },
    {
     "name": "stdout",
     "output_type": "stream",
     "text": [
      "=============================================================\n",
      "epoch: 13, source_val_acc_label: 0.9996, target_val_acc_label: 0.1646, source_val_label_loss: 0.0091, target_val_label_loss: 5.6983, \n",
      "=============================================================\n"
     ]
    },
    {
     "name": "stdout",
     "output_type": "stream",
     "text": [
      "Patience (3) exhausted\n"
     ]
    }
   ],
   "source": [
    "###################################\n",
    "# train\n",
    "###################################\n",
    "jig = PTN_Train_Eval_Test_Jig(model, p.BEST_MODEL_PATH, p.device)\n",
    "\n",
    "jig.train(\n",
    "    train_iterable=datasets.source.processed.train,\n",
    "    source_val_iterable=datasets.source.processed.val,\n",
    "    target_val_iterable=datasets.target.processed.val,\n",
    "    num_epochs=p.n_epoch,\n",
    "    num_logs_per_epoch=p.NUM_LOGS_PER_EPOCH,\n",
    "    patience=p.patience,\n",
    "    optimizer=optimizer,\n",
    "    criteria_for_best=p.criteria_for_best,\n",
    ")"
   ]
  },
  {
   "cell_type": "code",
   "execution_count": 23,
   "id": "31e8fabf",
   "metadata": {
    "execution": {
     "iopub.execute_input": "2022-03-23T07:48:06.598614Z",
     "iopub.status.busy": "2022-03-23T07:48:06.598200Z",
     "iopub.status.idle": "2022-03-23T07:48:06.631449Z",
     "shell.execute_reply": "2022-03-23T07:48:06.630647Z"
    },
    "papermill": {
     "duration": 0.099684,
     "end_time": "2022-03-23T07:48:06.631641",
     "exception": false,
     "start_time": "2022-03-23T07:48:06.531957",
     "status": "completed"
    },
    "tags": []
   },
   "outputs": [],
   "source": [
    "total_experiment_time_secs = time.time() - start_time_secs"
   ]
  },
  {
   "cell_type": "code",
   "execution_count": 24,
   "id": "87b9595b",
   "metadata": {
    "execution": {
     "iopub.execute_input": "2022-03-23T07:48:06.772037Z",
     "iopub.status.busy": "2022-03-23T07:48:06.771651Z",
     "iopub.status.idle": "2022-03-23T07:58:20.888396Z",
     "shell.execute_reply": "2022-03-23T07:58:20.887592Z"
    },
    "papermill": {
     "duration": 614.18841,
     "end_time": "2022-03-23T07:58:20.888587",
     "exception": false,
     "start_time": "2022-03-23T07:48:06.700177",
     "status": "completed"
    },
    "tags": []
   },
   "outputs": [],
   "source": [
    "###################################\n",
    "# Evaluate the model\n",
    "###################################\n",
    "source_test_label_accuracy, source_test_label_loss = jig.test(datasets.source.processed.test)\n",
    "target_test_label_accuracy, target_test_label_loss = jig.test(datasets.target.processed.test)\n",
    "\n",
    "source_val_label_accuracy, source_val_label_loss = jig.test(datasets.source.processed.val)\n",
    "target_val_label_accuracy, target_val_label_loss = jig.test(datasets.target.processed.val)\n",
    "\n",
    "history = jig.get_history()\n",
    "\n",
    "total_epochs_trained = len(history[\"epoch_indices\"])\n",
    "\n",
    "val_dl = Iterable_Aggregator((datasets.source.original.val,datasets.target.original.val))\n",
    "\n",
    "confusion = ptn_confusion_by_domain_over_dataloader(model, p.device, val_dl)\n",
    "per_domain_accuracy = per_domain_accuracy_from_confusion(confusion)\n",
    "\n",
    "# Add a key to per_domain_accuracy for if it was a source domain\n",
    "for domain, accuracy in per_domain_accuracy.items():\n",
    "    per_domain_accuracy[domain] = {\n",
    "        \"accuracy\": accuracy,\n",
    "        \"source?\": domain in p.domains_source\n",
    "    }\n",
    "\n",
    "# Do an independent accuracy assesment JUST TO BE SURE!\n",
    "# _source_test_label_accuracy = independent_accuracy_assesment(model, datasets.source.processed.test, p.device)\n",
    "# _target_test_label_accuracy = independent_accuracy_assesment(model, datasets.target.processed.test, p.device)\n",
    "# _source_val_label_accuracy = independent_accuracy_assesment(model, datasets.source.processed.val, p.device)\n",
    "# _target_val_label_accuracy = independent_accuracy_assesment(model, datasets.target.processed.val, p.device)\n",
    "\n",
    "# assert(_source_test_label_accuracy == source_test_label_accuracy)\n",
    "# assert(_target_test_label_accuracy == target_test_label_accuracy)\n",
    "# assert(_source_val_label_accuracy == source_val_label_accuracy)\n",
    "# assert(_target_val_label_accuracy == target_val_label_accuracy)\n",
    "\n",
    "experiment = {\n",
    "    \"experiment_name\": p.experiment_name,\n",
    "    \"parameters\": dict(p),\n",
    "    \"results\": {\n",
    "        \"source_test_label_accuracy\": source_test_label_accuracy,\n",
    "        \"source_test_label_loss\": source_test_label_loss,\n",
    "        \"target_test_label_accuracy\": target_test_label_accuracy,\n",
    "        \"target_test_label_loss\": target_test_label_loss,\n",
    "        \"source_val_label_accuracy\": source_val_label_accuracy,\n",
    "        \"source_val_label_loss\": source_val_label_loss,\n",
    "        \"target_val_label_accuracy\": target_val_label_accuracy,\n",
    "        \"target_val_label_loss\": target_val_label_loss,\n",
    "        \"total_epochs_trained\": total_epochs_trained,\n",
    "        \"total_experiment_time_secs\": total_experiment_time_secs,\n",
    "        \"confusion\": confusion,\n",
    "        \"per_domain_accuracy\": per_domain_accuracy,\n",
    "    },\n",
    "    \"history\": history,\n",
    "    \"dataset_metrics\": get_dataset_metrics(datasets, \"ptn\"),\n",
    "}"
   ]
  },
  {
   "cell_type": "code",
   "execution_count": 25,
   "id": "54a21829",
   "metadata": {
    "execution": {
     "iopub.execute_input": "2022-03-23T07:58:21.024442Z",
     "iopub.status.busy": "2022-03-23T07:58:21.024065Z",
     "iopub.status.idle": "2022-03-23T07:58:21.260866Z",
     "shell.execute_reply": "2022-03-23T07:58:21.260059Z"
    },
    "papermill": {
     "duration": 0.30323,
     "end_time": "2022-03-23T07:58:21.261052",
     "exception": false,
     "start_time": "2022-03-23T07:58:20.957822",
     "status": "completed"
    },
    "tags": []
   },
   "outputs": [
    {
     "data": {
      "image/png": "[encoded data removed]",
      "text/plain": [
       "<Figure size 1080x504 with 1 Axes>"
      ]
     },
     "metadata": {
      "needs_background": "light"
     },
     "output_type": "display_data"
    }
   ],
   "source": [
    "ax = get_loss_curve(experiment)\n",
    "plt.show()"
   ]
  },
  {
   "cell_type": "code",
   "execution_count": 26,
   "id": "fd8a0f60",
   "metadata": {
    "execution": {
     "iopub.execute_input": "2022-03-23T07:58:21.394869Z",
     "iopub.status.busy": "2022-03-23T07:58:21.394307Z",
     "iopub.status.idle": "2022-03-23T07:58:21.776861Z",
     "shell.execute_reply": "2022-03-23T07:58:21.776472Z"
    },
    "papermill": {
     "duration": 0.448287,
     "end_time": "2022-03-23T07:58:21.776963",
     "exception": false,
     "start_time": "2022-03-23T07:58:21.328676",
     "status": "completed"
    },
    "tags": []
   },
   "outputs": [
    {
     "data": {
      "text/plain": [
       "<AxesSubplot:title={'center':'Results'}>"
      ]
     },
     "execution_count": 26,
     "metadata": {},
     "output_type": "execute_result"
    },
    {
     "data": {
      "image/png": "[encoded data removed]",
      "text/plain": [
       "<Figure size 1080x504 with 1 Axes>"
      ]
     },
     "metadata": {
      "needs_background": "light"
     },
     "output_type": "display_data"
    }
   ],
   "source": [
    "get_results_table(experiment)"
   ]
  },
  {
   "cell_type": "code",
   "execution_count": 27,
   "id": "cf8dc689",
   "metadata": {
    "execution": {
     "iopub.execute_input": "2022-03-23T07:58:21.912349Z",
     "iopub.status.busy": "2022-03-23T07:58:21.911799Z",
     "iopub.status.idle": "2022-03-23T07:58:22.170308Z",
     "shell.execute_reply": "2022-03-23T07:58:22.169932Z"
    },
    "papermill": {
     "duration": 0.32663,
     "end_time": "2022-03-23T07:58:22.170419",
     "exception": false,
     "start_time": "2022-03-23T07:58:21.843789",
     "status": "completed"
    },
    "tags": []
   },
   "outputs": [
    {
     "data": {
      "text/plain": [
       "<AxesSubplot:title={'center':'Per Domain Validation Accuracy'}, xlabel='domain'>"
      ]
     },
     "execution_count": 27,
     "metadata": {},
     "output_type": "execute_result"
    },
    {
     "data": {
      "image/png": "[encoded data removed]",
      "text/plain": [
       "<Figure size 1080x504 with 1 Axes>"
      ]
     },
     "metadata": {
      "needs_background": "light"
     },
     "output_type": "display_data"
    }
   ],
   "source": [
    "get_domain_accuracies(experiment)"
   ]
  },
  {
   "cell_type": "code",
   "execution_count": 28,
   "id": "a74ae082",
   "metadata": {
    "execution": {
     "iopub.execute_input": "2022-03-23T07:58:22.310022Z",
     "iopub.status.busy": "2022-03-23T07:58:22.309532Z",
     "iopub.status.idle": "2022-03-23T07:58:22.333201Z",
     "shell.execute_reply": "2022-03-23T07:58:22.332804Z"
    },
    "papermill": {
     "duration": 0.09239,
     "end_time": "2022-03-23T07:58:22.333287",
     "exception": false,
     "start_time": "2022-03-23T07:58:22.240897",
     "status": "completed"
    },
    "tags": []
   },
   "outputs": [
    {
     "name": "stdout",
     "output_type": "stream",
     "text": [
      "Source Test Label Accuracy: 0.9994733146067416 Target Test Label Accuracy: 0.17282552083333333\n",
      "Source Val Label Accuracy: 0.9996785714285714 Target Val Label Accuracy: 0.17178385416666667\n"
     ]
    }
   ],
   "source": [
    "print(\"Source Test Label Accuracy:\", experiment[\"results\"][\"source_test_label_accuracy\"], \"Target Test Label Accuracy:\", experiment[\"results\"][\"target_test_label_accuracy\"])\n",
    "print(\"Source Val Label Accuracy:\", experiment[\"results\"][\"source_val_label_accuracy\"], \"Target Val Label Accuracy:\", experiment[\"results\"][\"target_val_label_accuracy\"])"
   ]
  },
  {
   "cell_type": "code",
   "execution_count": 29,
   "id": "dacca602",
   "metadata": {
    "execution": {
     "iopub.execute_input": "2022-03-23T07:58:22.472575Z",
     "iopub.status.busy": "2022-03-23T07:58:22.472031Z",
     "iopub.status.idle": "2022-03-23T07:58:22.493377Z",
     "shell.execute_reply": "2022-03-23T07:58:22.493694Z"
    },
    "papermill": {
     "duration": 0.091826,
     "end_time": "2022-03-23T07:58:22.493802",
     "exception": false,
     "start_time": "2022-03-23T07:58:22.401976",
     "status": "completed"
    },
    "tags": [
     "experiment_json"
    ]
   },
   "outputs": [
    {
     "data": {
      "text/plain": [
       "'{\"experiment_name\": \"tl_1v2:cores-oracle.run1\", \"parameters\": {\"experiment_name\": \"tl_1v2:cores-oracle.run1\", \"device\": \"cuda\", \"lr\": 0.0001, \"n_shot\": 3, \"n_query\": 2, \"train_k_factor\": 3, \"val_k_factor\": 2, \"test_k_factor\": 2, \"torch_default_dtype\": \"torch.float32\", \"n_epoch\": 50, \"patience\": 3, \"criteria_for_best\": \"target_accuracy\", \"x_net\": [{\"class\": \"nnReshape\", \"kargs\": {\"shape\": [-1, 1, 2, 256]}}, {\"class\": \"Conv2d\", \"kargs\": {\"in_channels\": 1, \"out_channels\": 256, \"kernel_size\": [1, 7], \"bias\": false, \"padding\": [0, 3]}}, {\"class\": \"ReLU\", \"kargs\": {\"inplace\": true}}, {\"class\": \"BatchNorm2d\", \"kargs\": {\"num_features\": 256}}, {\"class\": \"Conv2d\", \"kargs\": {\"in_channels\": 256, \"out_channels\": 80, \"kernel_size\": [2, 7], \"bias\": true, \"padding\": [0, 3]}}, {\"class\": \"ReLU\", \"kargs\": {\"inplace\": true}}, {\"class\": \"BatchNorm2d\", \"kargs\": {\"num_features\": 80}}, {\"class\": \"Flatten\", \"kargs\": {}}, {\"class\": \"Linear\", \"kargs\": {\"in_features\": 20480, \"out_features\": 256}}, {\"class\": \"ReLU\", \"kargs\": {\"inplace\": true}}, {\"class\": \"BatchNorm1d\", \"kargs\": {\"num_features\": 256}}, {\"class\": \"Linear\", \"kargs\": {\"in_features\": 256, \"out_features\": 256}}], \"NUM_LOGS_PER_EPOCH\": 10, \"BEST_MODEL_PATH\": \"./best_model.pth\", \"n_way\": 16, \"datasets\": [{\"labels\": [\"1-10.\", \"1-11.\", \"1-15.\", \"1-16.\", \"1-17.\", \"1-18.\", \"1-19.\", \"10-4.\", \"10-7.\", \"11-1.\", \"11-14.\", \"11-17.\", \"11-20.\", \"11-7.\", \"13-20.\", \"13-8.\", \"14-10.\", \"14-11.\", \"14-14.\", \"14-7.\", \"15-1.\", \"15-20.\", \"16-1.\", \"16-16.\", \"17-10.\", \"17-11.\", \"17-2.\", \"19-1.\", \"19-16.\", \"19-19.\", \"19-20.\", \"19-3.\", \"2-10.\", \"2-11.\", \"2-17.\", \"2-18.\", \"2-20.\", \"2-3.\", \"2-4.\", \"2-5.\", \"2-6.\", \"2-7.\", \"2-8.\", \"3-13.\", \"3-18.\", \"3-3.\", \"4-1.\", \"4-10.\", \"4-11.\", \"4-19.\", \"5-5.\", \"6-15.\", \"7-10.\", \"7-14.\", \"8-18.\", \"8-20.\", \"8-3.\", \"8-8.\"], \"domains\": [1, 2, 3, 4, 5], \"num_examples_per_domain_per_label\": -1, \"pickle_path\": \"/root/csc500-main/datasets/cores.stratified_ds.2022A.pkl\", \"source_or_target_dataset\": \"source\", \"x_transforms\": [\"unit_power\"], \"episode_transforms\": [], \"domain_prefix\": \"CORES_\"}, {\"labels\": [\"3123D52\", \"3123D65\", \"3123D79\", \"3123D80\", \"3123D54\", \"3123D70\", \"3123D7B\", \"3123D89\", \"3123D58\", \"3123D76\", \"3123D7D\", \"3123EFE\", \"3123D64\", \"3123D78\", \"3123D7E\", \"3124E4A\"], \"domains\": [32, 38, 8, 44, 14, 50, 20, 26], \"num_examples_per_domain_per_label\": 10000, \"pickle_path\": \"/root/csc500-main/datasets/oracle.Run1_10kExamples_stratified_ds.2022A.pkl\", \"source_or_target_dataset\": \"target\", \"x_transforms\": [\"unit_power\"], \"episode_transforms\": [], \"domain_prefix\": \"ORACLE.run1_\"}], \"dataset_seed\": 500, \"seed\": 500, \"x_shape\": [2, 256], \"domains_source\": [\"CORES_1\", \"CORES_2\", \"CORES_3\", \"CORES_4\", \"CORES_5\"], \"domains_target\": [\"ORACLE.run1_32\", \"ORACLE.run1_38\", \"ORACLE.run1_8\", \"ORACLE.run1_44\", \"ORACLE.run1_14\", \"ORACLE.run1_50\", \"ORACLE.run1_20\", \"ORACLE.run1_26\"]}, \"results\": {\"source_test_label_accuracy\": 0.9994733146067416, \"source_test_label_loss\": 0.011288142763078213, \"target_test_label_accuracy\": 0.17282552083333333, \"target_test_label_loss\": 4.859262943267822, \"source_val_label_accuracy\": 0.9996785714285714, \"source_val_label_loss\": 0.008206835947930813, \"target_val_label_accuracy\": 0.17178385416666667, \"target_val_label_loss\": 4.858981609344482, \"total_epochs_trained\": 13, \"total_experiment_time_secs\": 3451.8274245262146, \"confusion\": {\"CORES_4\": {\"38\": {\"38\": 40}, \"3\": {\"3\": 123, \"50\": 1}, \"24\": {\"24\": 56}, \"49\": {\"49\": 20}, \"7\": {\"7\": 24}, \"17\": {\"17\": 80}, \"43\": {\"43\": 148}, \"30\": {\"30\": 44}, \"44\": {\"44\": 132}, \"23\": {\"23\": 144}, \"37\": {\"37\": 24}, \"4\": {\"4\": 132}, \"57\": {\"57\": 100}, \"16\": {\"16\": 96}, \"18\": {\"18\": 107, \"50\": 1}, \"20\": {\"20\": 124}, \"45\": {\"45\": 96}, \"15\": {\"15\": 132}, \"52\": {\"52\": 116}, \"19\": {\"19\": 140}, \"54\": {\"54\": 108}, \"56\": {\"56\": 130}, \"40\": {\"40\": 134}, \"28\": {\"28\": 32}, \"2\": {\"2\": 36}, \"9\": {\"9\": 120}, \"0\": {\"0\": 80}, \"36\": {\"36\": 92}, \"55\": {\"55\": 130}, \"35\": {\"35\": 40}, \"39\": {\"39\": 20}, \"31\": {\"31\": 28}, \"14\": {\"14\": 16}, \"12\": {\"12\": 92}, \"6\": {\"6\": 111, \"3\": 1}, \"26\": {\"26\": 24}, \"50\": {\"50\": 132}, \"21\": {\"21\": 122}, \"46\": {\"46\": 140}, \"51\": {\"51\": 140}, \"41\": {\"41\": 36}, \"34\": {\"34\": 24}, \"47\": {\"47\": 120}, \"5\": {\"5\": 108}, \"1\": {\"1\": 40}, \"48\": {\"48\": 134}, \"29\": {\"29\": 118}, \"22\": {\"22\": 128}, \"10\": {\"10\": 132}, \"32\": {\"32\": 24}, \"13\": {\"13\": 112}, \"42\": {\"42\": 32}, \"27\": {\"27\": 138}, \"8\": {\"8\": 142}, \"33\": {\"33\": 36}, \"25\": {\"25\": 132}, \"11\": {\"11\": 104}, \"53\": {\"53\": 112}}, \"CORES_2\": {\"32\": {\"32\": 28}, \"17\": {\"17\": 104}, \"38\": {\"38\": 20}, \"2\": {\"2\": 32}, \"43\": {\"43\": 144}, \"56\": {\"56\": 144}, \"37\": {\"37\": 36}, \"49\": {\"49\": 24}, \"0\": {\"0\": 48}, \"29\": {\"29\": 128}, \"35\": {\"35\": 32}, \"18\": {\"18\": 48}, \"25\": {\"25\": 136}, \"23\": {\"23\": 124}, \"15\": {\"15\": 146}, \"21\": {\"21\": 120}, \"51\": {\"51\": 128}, \"20\": {\"20\": 137, \"51\": 1}, \"7\": {\"7\": 36}, \"50\": {\"50\": 136}, \"31\": {\"31\": 28}, \"30\": {\"30\": 140}, \"19\": {\"19\": 156}, \"9\": {\"9\": 144}, \"52\": {\"52\": 124}, \"45\": {\"45\": 128}, \"8\": {\"8\": 154}, \"55\": {\"55\": 160}, \"12\": {\"12\": 92}, \"40\": {\"40\": 140}, \"28\": {\"28\": 28}, \"36\": {\"36\": 116}, \"39\": {\"39\": 28}, \"46\": {\"46\": 122}, \"14\": {\"14\": 24}, \"57\": {\"57\": 142}, \"34\": {\"34\": 28}, \"1\": {\"1\": 112}, \"53\": {\"53\": 136}, \"48\": {\"48\": 130}, \"3\": {\"3\": 92}, \"16\": {\"16\": 152}, \"6\": {\"6\": 124}, \"10\": {\"10\": 112}, \"13\": {\"13\": 116}, \"26\": {\"26\": 24}, \"24\": {\"24\": 96}, \"44\": {\"44\": 100}, \"27\": {\"27\": 150}, \"22\": {\"22\": 128}, \"33\": {\"33\": 28}, \"47\": {\"47\": 118}, \"5\": {\"5\": 120}, \"4\": {\"4\": 138}, \"41\": {\"41\": 20}, \"11\": {\"11\": 150}, \"54\": {\"54\": 108}, \"42\": {\"42\": 36}}, \"CORES_3\": {\"5\": {\"5\": 116}, \"32\": {\"32\": 28}, \"33\": {\"33\": 28}, \"49\": {\"49\": 20}, \"39\": {\"39\": 16}, \"11\": {\"11\": 142}, \"8\": {\"8\": 116}, \"26\": {\"26\": 24}, \"51\": {\"51\": 122}, \"4\": {\"4\": 146}, \"52\": {\"52\": 118}, \"47\": {\"47\": 92}, \"17\": {\"17\": 107, \"56\": 1}, \"53\": {\"53\": 136}, \"2\": {\"2\": 32}, \"12\": {\"12\": 92}, \"37\": {\"37\": 28}, \"9\": {\"9\": 148}, \"13\": {\"13\": 128}, \"54\": {\"54\": 100}, \"31\": {\"31\": 28}, \"34\": {\"34\": 32}, \"24\": {\"24\": 104}, \"7\": {\"7\": 36}, \"50\": {\"50\": 118}, \"46\": {\"46\": 128}, \"44\": {\"44\": 87, \"29\": 1}, \"40\": {\"40\": 116}, \"21\": {\"21\": 128}, \"45\": {\"45\": 60}, \"16\": {\"16\": 126}, \"14\": {\"14\": 40}, \"36\": {\"36\": 100}, \"56\": {\"56\": 114}, \"10\": {\"10\": 64}, \"18\": {\"18\": 84}, \"48\": {\"48\": 116}, \"38\": {\"38\": 28}, \"27\": {\"27\": 130}, \"42\": {\"42\": 28}, \"15\": {\"15\": 134}, \"1\": {\"1\": 100}, \"28\": {\"28\": 28}, \"43\": {\"43\": 136}, \"0\": {\"0\": 124}, \"57\": {\"57\": 124}, \"3\": {\"3\": 148}, \"29\": {\"29\": 124}, \"41\": {\"41\": 28}, \"25\": {\"25\": 146}, \"6\": {\"6\": 88}, \"35\": {\"35\": 28}, \"20\": {\"20\": 126}, \"23\": {\"23\": 134}, \"22\": {\"22\": 140}, \"19\": {\"19\": 116}, \"55\": {\"55\": 124}, \"30\": {\"30\": 120}}, \"CORES_1\": {\"24\": {\"24\": 108}, \"25\": {\"25\": 140}, \"45\": {\"45\": 144}, \"42\": {\"42\": 40}, \"2\": {\"2\": 36}, \"9\": {\"9\": 150}, \"21\": {\"21\": 124}, \"26\": {\"26\": 24}, \"49\": {\"49\": 32}, \"39\": {\"39\": 28}, \"46\": {\"46\": 136}, \"17\": {\"17\": 64}, \"19\": {\"19\": 156}, \"23\": {\"23\": 132}, \"1\": {\"1\": 100}, \"29\": {\"29\": 140}, \"56\": {\"56\": 150}, \"37\": {\"37\": 32}, \"33\": {\"33\": 32}, \"55\": {\"55\": 142}, \"30\": {\"30\": 120}, \"0\": {\"0\": 152}, \"36\": {\"36\": 64}, \"32\": {\"32\": 32}, \"31\": {\"31\": 28}, \"15\": {\"15\": 138}, \"12\": {\"12\": 116}, \"38\": {\"38\": 24}, \"40\": {\"40\": 146}, \"14\": {\"14\": 24}, \"13\": {\"13\": 150}, \"48\": {\"48\": 148}, \"34\": {\"34\": 24}, \"44\": {\"44\": 130}, \"5\": {\"5\": 152}, \"11\": {\"11\": 140}, \"7\": {\"7\": 28}, \"18\": {\"18\": 72}, \"52\": {\"52\": 132}, \"51\": {\"51\": 142}, \"41\": {\"41\": 24}, \"16\": {\"16\": 140}, \"22\": {\"22\": 133, \"10\": 1}, \"3\": {\"3\": 140}, \"54\": {\"54\": 104}, \"27\": {\"27\": 144}, \"20\": {\"20\": 140}, \"8\": {\"8\": 138}, \"50\": {\"50\": 144}, \"57\": {\"57\": 140}, \"4\": {\"4\": 132}, \"47\": {\"47\": 146}, \"10\": {\"10\": 96}, \"35\": {\"35\": 36}, \"53\": {\"53\": 126}, \"6\": {\"6\": 96}, \"43\": {\"43\": 140}, \"28\": {\"28\": 28}}, \"CORES_5\": {\"35\": {\"35\": 36}, \"57\": {\"57\": 132}, \"20\": {\"20\": 144}, \"12\": {\"12\": 96}, \"32\": {\"32\": 32}, \"25\": {\"25\": 138}, \"44\": {\"44\": 148}, \"31\": {\"31\": 36}, \"11\": {\"11\": 150}, \"47\": {\"47\": 100}, \"23\": {\"23\": 124}, \"43\": {\"43\": 144}, \"37\": {\"37\": 24}, \"5\": {\"5\": 128}, \"45\": {\"45\": 124}, \"7\": {\"7\": 32}, \"13\": {\"13\": 136}, \"49\": {\"49\": 36}, \"46\": {\"46\": 148}, \"16\": {\"16\": 135, \"43\": 1}, \"54\": {\"54\": 112}, \"19\": {\"19\": 152}, \"55\": {\"55\": 150}, \"30\": {\"30\": 128}, \"34\": {\"34\": 36}, \"50\": {\"50\": 134}, \"3\": {\"3\": 100}, \"10\": {\"10\": 68}, \"27\": {\"27\": 142}, \"33\": {\"33\": 32}, \"56\": {\"56\": 142}, \"9\": {\"9\": 150}, \"14\": {\"14\": 44}, \"4\": {\"4\": 100}, \"42\": {\"42\": 40}, \"24\": {\"24\": 80}, \"39\": {\"39\": 20}, \"52\": {\"52\": 130}, \"2\": {\"2\": 28}, \"28\": {\"28\": 32}, \"53\": {\"53\": 122}, \"17\": {\"17\": 116}, \"29\": {\"29\": 132}, \"38\": {\"38\": 32}, \"15\": {\"15\": 144}, \"26\": {\"26\": 24}, \"21\": {\"21\": 144}, \"41\": {\"41\": 28}, \"48\": {\"48\": 136}, \"22\": {\"22\": 28}, \"8\": {\"8\": 148}, \"18\": {\"18\": 64}, \"0\": {\"0\": 122}, \"1\": {\"1\": 138}, \"40\": {\"40\": 124}, \"6\": {\"6\": 127, \"50\": 1}, \"51\": {\"51\": 142}, \"36\": {\"36\": 92}}, \"ORACLE.run1_50\": {\"7\": {\"4\": 91, \"0\": 61, \"7\": 190, \"13\": 152, \"15\": 59, \"8\": 62, \"5\": 145, \"6\": 119, \"10\": 119, \"2\": 34, \"1\": 70, \"3\": 56, \"11\": 16, \"14\": 15, \"9\": 7, \"12\": 4}, \"10\": {\"2\": 110, \"14\": 22, \"10\": 181, \"3\": 101, \"0\": 140, \"8\": 139, \"6\": 79, \"5\": 84, \"13\": 120, \"4\": 35, \"7\": 117, \"1\": 36, \"11\": 10, \"15\": 23, \"9\": 3}, \"0\": {\"2\": 201, \"1\": 45, \"0\": 198, \"7\": 76, \"10\": 129, \"8\": 131, \"14\": 68, \"13\": 88, \"11\": 15, \"5\": 63, \"3\": 50, \"6\": 47, \"4\": 39, \"15\": 21, \"9\": 8, \"12\": 21}, \"11\": {\"1\": 120, \"15\": 144, \"14\": 135, \"13\": 23, \"4\": 93, \"11\": 199, \"5\": 34, \"9\": 206, \"12\": 153, \"2\": 24, \"6\": 44, \"0\": 7, \"7\": 17, \"10\": 1}, \"2\": {\"2\": 258, \"3\": 22, \"14\": 107, \"10\": 128, \"0\": 186, \"4\": 30, \"1\": 61, \"12\": 51, \"5\": 47, \"13\": 60, \"7\": 44, \"9\": 17, \"8\": 86, \"15\": 28, \"6\": 42, \"11\": 33}, \"14\": {\"1\": 95, \"14\": 196, \"4\": 76, \"5\": 39, \"12\": 175, \"10\": 20, \"2\": 84, \"9\": 127, \"15\": 68, \"11\": 127, \"6\": 64, \"13\": 33, \"0\": 60, \"7\": 32, \"8\": 3, \"3\": 1}, \"9\": {\"9\": 344, \"1\": 58, \"11\": 236, \"12\": 254, \"6\": 26, \"4\": 47, \"13\": 6, \"0\": 7, \"14\": 114, \"15\": 71, \"5\": 15, \"7\": 4, \"2\": 16, \"3\": 1, \"8\": 1}, \"13\": {\"4\": 86, \"14\": 35, \"1\": 82, \"0\": 61, \"10\": 116, \"11\": 27, \"13\": 137, \"7\": 155, \"2\": 54, \"6\": 132, \"5\": 139, \"3\": 26, \"12\": 9, \"15\": 79, \"8\": 50, \"9\": 12}, \"8\": {\"7\": 63, \"5\": 32, \"8\": 294, \"10\": 147, \"3\": 306, \"0\": 155, \"1\": 7, \"13\": 55, \"2\": 89, \"4\": 9, \"6\": 27, \"12\": 2, \"14\": 10, \"15\": 3, \"11\": 1}, \"15\": {\"1\": 147, \"4\": 146, \"14\": 91, \"6\": 116, \"7\": 74, \"11\": 112, \"9\": 74, \"0\": 24, \"5\": 84, \"13\": 61, \"12\": 48, \"15\": 183, \"2\": 18, \"10\": 17, \"8\": 4, \"3\": 1}, \"4\": {\"5\": 106, \"1\": 130, \"7\": 103, \"11\": 96, \"6\": 123, \"14\": 66, \"13\": 82, \"9\": 59, \"10\": 50, \"15\": 143, \"4\": 140, \"0\": 33, \"12\": 29, \"2\": 25, \"3\": 7, \"8\": 8}, \"5\": {\"1\": 94, \"10\": 85, \"15\": 70, \"0\": 42, \"11\": 36, \"6\": 133, \"7\": 144, \"2\": 46, \"5\": 152, \"4\": 107, \"14\": 37, \"13\": 154, \"12\": 12, \"3\": 25, \"9\": 21, \"8\": 42}, \"3\": {\"8\": 318, \"10\": 127, \"3\": 507, \"5\": 27, \"13\": 47, \"6\": 17, \"7\": 70, \"2\": 21, \"0\": 54, \"4\": 7, \"14\": 2, \"1\": 3}, \"1\": {\"4\": 118, \"13\": 94, \"11\": 96, \"1\": 134, \"2\": 59, \"9\": 48, \"0\": 49, \"6\": 120, \"5\": 97, \"15\": 135, \"12\": 43, \"7\": 62, \"10\": 34, \"3\": 3, \"14\": 100, \"8\": 8}, \"6\": {\"5\": 114, \"0\": 56, \"15\": 126, \"11\": 57, \"6\": 133, \"1\": 124, \"10\": 63, \"4\": 113, \"7\": 124, \"13\": 109, \"14\": 63, \"12\": 18, \"8\": 23, \"9\": 24, \"2\": 45, \"3\": 8}, \"12\": {\"12\": 370, \"5\": 5, \"9\": 259, \"14\": 191, \"15\": 50, \"11\": 157, \"4\": 33, \"13\": 8, \"2\": 42, \"7\": 12, \"6\": 14, \"0\": 15, \"1\": 41, \"10\": 3}}, \"ORACLE.run1_14\": {\"14\": {\"14\": 144, \"4\": 75, \"6\": 133, \"1\": 53, \"3\": 124, \"10\": 98, \"13\": 145, \"5\": 81, \"9\": 17, \"2\": 116, \"0\": 76, \"11\": 63, \"15\": 26, \"7\": 33, \"8\": 13, \"12\": 3}, \"6\": {\"6\": 137, \"1\": 85, \"5\": 77, \"4\": 78, \"3\": 87, \"2\": 117, \"15\": 94, \"13\": 146, \"11\": 48, \"7\": 63, \"14\": 113, \"0\": 54, \"10\": 72, \"9\": 12, \"8\": 15, \"12\": 2}, \"5\": {\"15\": 135, \"1\": 125, \"14\": 80, \"3\": 86, \"6\": 98, \"5\": 114, \"8\": 53, \"11\": 25, \"7\": 121, \"13\": 72, \"2\": 92, \"4\": 90, \"10\": 46, \"0\": 54, \"9\": 9}, \"15\": {\"7\": 293, \"15\": 339, \"5\": 104, \"4\": 82, \"13\": 59, \"2\": 70, \"8\": 14, \"14\": 41, \"6\": 55, \"1\": 97, \"3\": 27, \"0\": 9, \"10\": 7, \"11\": 3}, \"11\": {\"0\": 144, \"12\": 136, \"2\": 26, \"10\": 168, \"11\": 251, \"13\": 25, \"3\": 63, \"6\": 31, \"8\": 56, \"1\": 16, \"14\": 55, \"9\": 172, \"4\": 31, \"5\": 25, \"7\": 1}, \"8\": {\"8\": 271, \"0\": 98, \"1\": 105, \"10\": 80, \"14\": 23, \"7\": 43, \"5\": 82, \"12\": 54, \"11\": 80, \"15\": 20, \"9\": 123, \"6\": 21, \"4\": 78, \"3\": 65, \"13\": 20, \"2\": 37}, \"12\": {\"12\": 535, \"8\": 73, \"10\": 39, \"9\": 309, \"0\": 60, \"11\": 154, \"6\": 2, \"13\": 2, \"1\": 6, \"4\": 3, \"5\": 1, \"3\": 11, \"14\": 3, \"2\": 2}, \"1\": {\"14\": 64, \"5\": 117, \"1\": 169, \"15\": 106, \"4\": 122, \"6\": 59, \"10\": 54, \"8\": 73, \"2\": 84, \"13\": 50, \"9\": 10, \"7\": 125, \"0\": 49, \"11\": 21, \"3\": 95, \"12\": 2}, \"2\": {\"3\": 95, \"6\": 102, \"13\": 116, \"2\": 118, \"10\": 56, \"15\": 101, \"11\": 39, \"8\": 28, \"0\": 57, \"5\": 104, \"14\": 106, \"4\": 95, \"7\": 84, \"1\": 88, \"9\": 10, \"12\": 1}, \"13\": {\"13\": 138, \"0\": 57, \"2\": 114, \"14\": 134, \"6\": 137, \"5\": 106, \"1\": 72, \"15\": 62, \"10\": 73, \"7\": 58, \"3\": 94, \"9\": 9, \"4\": 99, \"11\": 33, \"8\": 14}, \"3\": {\"9\": 47, \"10\": 98, \"7\": 53, \"6\": 110, \"4\": 86, \"3\": 108, \"1\": 111, \"8\": 72, \"11\": 70, \"0\": 86, \"5\": 55, \"12\": 8, \"14\": 104, \"2\": 93, \"13\": 70, \"15\": 29}, \"0\": {\"9\": 116, \"8\": 85, \"0\": 130, \"14\": 77, \"13\": 51, \"6\": 68, \"3\": 77, \"4\": 67, \"5\": 48, \"1\": 41, \"11\": 181, \"10\": 132, \"12\": 45, \"2\": 53, \"7\": 18, \"15\": 11}, \"9\": {\"9\": 290, \"13\": 14, \"8\": 116, \"12\": 256, \"6\": 8, \"1\": 22, \"0\": 93, \"11\": 189, \"10\": 93, \"3\": 42, \"2\": 15, \"14\": 24, \"4\": 23, \"5\": 10, \"15\": 3, \"7\": 2}, \"4\": {\"11\": 36, \"4\": 139, \"10\": 63, \"5\": 108, \"13\": 88, \"1\": 106, \"2\": 88, \"6\": 81, \"0\": 62, \"3\": 99, \"8\": 62, \"14\": 86, \"15\": 72, \"7\": 81, \"12\": 8, \"9\": 21}, \"7\": {\"5\": 110, \"14\": 40, \"7\": 295, \"15\": 275, \"4\": 71, \"2\": 80, \"1\": 125, \"6\": 59, \"0\": 12, \"3\": 42, \"13\": 43, \"10\": 13, \"8\": 27, \"11\": 7, \"9\": 1}, \"10\": {\"13\": 66, \"0\": 114, \"14\": 109, \"5\": 51, \"2\": 68, \"3\": 127, \"10\": 135, \"11\": 124, \"6\": 56, \"8\": 72, \"1\": 58, \"4\": 73, \"9\": 91, \"7\": 12, \"12\": 36, \"15\": 8}}, \"ORACLE.run1_32\": {\"4\": {\"0\": 140, \"2\": 144, \"12\": 11, \"4\": 168, \"13\": 109, \"3\": 50, \"5\": 109, \"15\": 33, \"7\": 109, \"11\": 77, \"8\": 105, \"9\": 53, \"14\": 92}, \"14\": {\"3\": 121, \"2\": 67, \"11\": 181, \"14\": 175, \"5\": 94, \"7\": 134, \"0\": 81, \"8\": 87, \"13\": 107, \"4\": 111, \"15\": 32, \"9\": 9, \"12\": 1}, \"5\": {\"3\": 109, \"5\": 150, \"13\": 113, \"8\": 135, \"15\": 80, \"2\": 93, \"0\": 116, \"11\": 93, \"7\": 110, \"4\": 113, \"14\": 70, \"9\": 17, \"12\": 1}, \"10\": {\"1\": 312, \"6\": 189, \"10\": 531, \"12\": 143, \"9\": 25}, \"13\": {\"2\": 84, \"8\": 138, \"11\": 96, \"15\": 90, \"0\": 108, \"9\": 19, \"14\": 89, \"3\": 116, \"5\": 113, \"4\": 115, \"7\": 84, \"13\": 144, \"12\": 4}, \"9\": {\"4\": 61, \"1\": 3, \"0\": 47, \"9\": 539, \"2\": 98, \"12\": 323, \"7\": 9, \"6\": 39, \"10\": 26, \"13\": 11, \"5\": 10, \"15\": 3, \"11\": 3, \"8\": 21, \"14\": 6, \"3\": 1}, \"6\": {\"6\": 556, \"10\": 206, \"12\": 178, \"9\": 82, \"1\": 178}, \"3\": {\"13\": 128, \"11\": 145, \"2\": 28, \"3\": 272, \"14\": 87, \"0\": 56, \"15\": 117, \"8\": 106, \"5\": 115, \"4\": 70, \"7\": 75, \"9\": 1}, \"15\": {\"3\": 154, \"7\": 33, \"0\": 74, \"5\": 95, \"8\": 148, \"11\": 46, \"15\": 414, \"13\": 110, \"4\": 49, \"2\": 34, \"14\": 38, \"9\": 5}, \"7\": {\"8\": 91, \"7\": 120, \"13\": 100, \"0\": 118, \"4\": 120, \"14\": 114, \"5\": 121, \"3\": 100, \"11\": 166, \"15\": 43, \"2\": 94, \"9\": 13}, \"12\": {\"9\": 281, \"12\": 571, \"6\": 119, \"10\": 170, \"2\": 13, \"1\": 28, \"4\": 4, \"0\": 9, \"5\": 3, \"14\": 1, \"8\": 1}, \"8\": {\"5\": 111, \"0\": 121, \"14\": 79, \"2\": 98, \"7\": 69, \"15\": 128, \"8\": 139, \"3\": 113, \"13\": 140, \"4\": 117, \"11\": 69, \"9\": 15, \"12\": 1}, \"11\": {\"13\": 84, \"11\": 226, \"3\": 161, \"7\": 142, \"0\": 70, \"8\": 70, \"14\": 186, \"4\": 54, \"2\": 55, \"15\": 33, \"5\": 118, \"9\": 1}, \"2\": {\"2\": 181, \"7\": 96, \"4\": 161, \"14\": 85, \"0\": 159, \"8\": 89, \"9\": 120, \"13\": 78, \"5\": 97, \"3\": 29, \"15\": 26, \"11\": 54, \"12\": 24, \"6\": 1}, \"1\": {\"1\": 636, \"10\": 378, \"6\": 163, \"12\": 19, \"9\": 4}, \"0\": {\"7\": 99, \"4\": 155, \"0\": 137, \"5\": 101, \"12\": 8, \"11\": 68, \"13\": 89, \"2\": 157, \"8\": 115, \"15\": 57, \"14\": 111, \"3\": 49, \"9\": 54}}, \"ORACLE.run1_44\": {\"8\": {\"8\": 338, \"15\": 207, \"5\": 213, \"0\": 290, \"14\": 105, \"4\": 37, \"7\": 1, \"9\": 4, \"13\": 4, \"3\": 1}, \"11\": {\"7\": 105, \"11\": 305, \"6\": 187, \"2\": 59, \"13\": 191, \"10\": 21, \"5\": 7, \"4\": 58, \"9\": 149, \"3\": 29, \"1\": 24, \"14\": 42, \"15\": 7, \"8\": 1, \"12\": 14, \"0\": 1}, \"14\": {\"5\": 192, \"9\": 44, \"13\": 47, \"14\": 222, \"8\": 85, \"2\": 4, \"11\": 37, \"0\": 102, \"15\": 175, \"4\": 234, \"7\": 21, \"3\": 15, \"1\": 1, \"6\": 18, \"12\": 3}, \"10\": {\"1\": 209, \"12\": 232, \"2\": 162, \"10\": 261, \"3\": 102, \"6\": 44, \"7\": 95, \"13\": 15, \"9\": 49, \"11\": 24, \"15\": 2, \"4\": 4, \"14\": 1}, \"3\": {\"1\": 206, \"9\": 86, \"3\": 213, \"12\": 164, \"2\": 112, \"10\": 121, \"14\": 15, \"7\": 116, \"4\": 30, \"6\": 44, \"5\": 3, \"13\": 45, \"11\": 32, \"15\": 11, \"0\": 2}, \"15\": {\"0\": 195, \"5\": 199, \"8\": 179, \"14\": 205, \"15\": 230, \"4\": 131, \"9\": 19, \"13\": 14, \"3\": 14, \"11\": 7, \"7\": 3, \"1\": 1, \"2\": 1, \"12\": 2}, \"2\": {\"12\": 129, \"3\": 108, \"6\": 126, \"7\": 135, \"2\": 167, \"1\": 122, \"10\": 167, \"13\": 62, \"9\": 107, \"11\": 62, \"4\": 7, \"14\": 6, \"15\": 2}, \"12\": {\"12\": 303, \"10\": 224, \"2\": 108, \"3\": 167, \"11\": 14, \"9\": 30, \"1\": 228, \"7\": 68, \"13\": 14, \"14\": 3, \"6\": 36, \"4\": 4, \"15\": 1}, \"4\": {\"5\": 132, \"3\": 22, \"8\": 33, \"13\": 95, \"15\": 105, \"0\": 57, \"14\": 238, \"4\": 294, \"7\": 31, \"11\": 68, \"9\": 75, \"6\": 32, \"2\": 11, \"10\": 3, \"12\": 2, \"1\": 2}, \"1\": {\"1\": 214, \"10\": 203, \"2\": 143, \"11\": 18, \"7\": 87, \"13\": 19, \"3\": 164, \"12\": 257, \"6\": 35, \"9\": 56, \"4\": 1, \"14\": 2, \"15\": 1}, \"0\": {\"0\": 282, \"14\": 126, \"5\": 239, \"8\": 267, \"15\": 203, \"4\": 72, \"9\": 5, \"13\": 3, \"7\": 2, \"11\": 1}, \"9\": {\"11\": 149, \"7\": 139, \"3\": 75, \"15\": 12, \"2\": 95, \"10\": 73, \"1\": 62, \"9\": 162, \"5\": 9, \"14\": 38, \"6\": 151, \"13\": 155, \"4\": 43, \"12\": 33, \"8\": 2, \"0\": 2}, \"5\": {\"14\": 166, \"15\": 172, \"4\": 135, \"8\": 149, \"5\": 339, \"0\": 195, \"7\": 4, \"13\": 15, \"9\": 11, \"6\": 6, \"1\": 1, \"11\": 5, \"2\": 1, \"3\": 1}, \"6\": {\"2\": 117, \"13\": 197, \"7\": 143, \"6\": 186, \"11\": 178, \"10\": 46, \"1\": 39, \"9\": 161, \"5\": 6, \"3\": 38, \"4\": 40, \"14\": 17, \"12\": 27, \"15\": 5}, \"7\": {\"12\": 83, \"3\": 99, \"2\": 143, \"11\": 96, \"7\": 156, \"1\": 97, \"9\": 157, \"10\": 80, \"13\": 113, \"6\": 122, \"15\": 4, \"14\": 18, \"0\": 3, \"4\": 27, \"5\": 2}, \"13\": {\"4\": 103, \"13\": 203, \"3\": 37, \"11\": 196, \"9\": 164, \"6\": 161, \"2\": 60, \"7\": 104, \"5\": 12, \"10\": 28, \"14\": 76, \"12\": 19, \"15\": 14, \"1\": 21, \"0\": 2}}, \"ORACLE.run1_8\": {\"13\": {\"10\": 93, \"7\": 86, \"4\": 107, \"2\": 71, \"8\": 51, \"6\": 81, \"13\": 86, \"12\": 39, \"14\": 104, \"0\": 102, \"9\": 38, \"1\": 88, \"3\": 40, \"15\": 48, \"5\": 97, \"11\": 69}, \"3\": {\"4\": 54, \"15\": 132, \"6\": 76, \"2\": 205, \"0\": 56, \"8\": 77, \"7\": 98, \"12\": 146, \"3\": 208, \"13\": 35, \"1\": 29, \"11\": 27, \"10\": 24, \"14\": 24, \"5\": 9}, \"15\": {\"10\": 45, \"7\": 67, \"12\": 176, \"14\": 43, \"2\": 114, \"8\": 125, \"5\": 29, \"11\": 70, \"13\": 42, \"3\": 133, \"4\": 50, \"6\": 73, \"0\": 46, \"15\": 146, \"1\": 40, \"9\": 1}, \"4\": {\"13\": 92, \"14\": 86, \"10\": 89, \"5\": 94, \"6\": 81, \"12\": 39, \"1\": 110, \"0\": 89, \"4\": 81, \"15\": 68, \"8\": 73, \"11\": 90, \"2\": 61, \"7\": 77, \"3\": 42, \"9\": 28}, \"7\": {\"8\": 78, \"11\": 69, \"2\": 107, \"6\": 92, \"15\": 81, \"0\": 93, \"10\": 71, \"14\": 67, \"7\": 108, \"5\": 40, \"12\": 78, \"9\": 11, \"4\": 75, \"3\": 93, \"1\": 61, \"13\": 76}, \"2\": {\"0\": 83, \"3\": 173, \"13\": 59, \"7\": 94, \"2\": 177, \"4\": 66, \"10\": 43, \"12\": 123, \"8\": 88, \"15\": 114, \"6\": 73, \"5\": 16, \"11\": 24, \"14\": 40, \"1\": 25, \"9\": 2}, \"1\": {\"10\": 84, \"11\": 150, \"0\": 56, \"1\": 142, \"14\": 90, \"8\": 92, \"4\": 81, \"6\": 87, \"2\": 34, \"5\": 125, \"12\": 30, \"15\": 55, \"3\": 22, \"13\": 87, \"7\": 48, \"9\": 17}, \"0\": {\"2\": 95, \"15\": 53, \"4\": 95, \"5\": 81, \"0\": 108, \"14\": 88, \"10\": 82, \"6\": 89, \"1\": 71, \"7\": 85, \"3\": 67, \"12\": 34, \"11\": 67, \"13\": 111, \"8\": 51, \"9\": 23}, \"12\": {\"3\": 186, \"0\": 43, \"8\": 114, \"15\": 166, \"6\": 63, \"7\": 75, \"12\": 173, \"2\": 138, \"11\": 49, \"5\": 17, \"10\": 17, \"4\": 37, \"14\": 34, \"1\": 41, \"13\": 44, \"9\": 3}, \"6\": {\"2\": 78, \"0\": 91, \"15\": 76, \"4\": 78, \"13\": 99, \"8\": 82, \"5\": 64, \"12\": 70, \"1\": 60, \"3\": 68, \"6\": 73, \"10\": 83, \"7\": 99, \"14\": 82, \"11\": 79, \"9\": 18}, \"11\": {\"6\": 82, \"10\": 82, \"8\": 97, \"14\": 96, \"4\": 75, \"1\": 136, \"13\": 63, \"3\": 33, \"15\": 77, \"0\": 62, \"12\": 48, \"9\": 7, \"11\": 155, \"5\": 116, \"7\": 53, \"2\": 18}, \"9\": {\"14\": 50, \"10\": 82, \"7\": 13, \"9\": 702, \"11\": 20, \"5\": 122, \"13\": 64, \"0\": 51, \"4\": 31, \"1\": 39, \"3\": 2, \"15\": 2, \"2\": 3, \"6\": 17, \"12\": 2}, \"5\": {\"5\": 140, \"14\": 103, \"4\": 98, \"1\": 122, \"13\": 65, \"0\": 94, \"10\": 106, \"15\": 33, \"8\": 51, \"6\": 67, \"9\": 71, \"11\": 125, \"7\": 67, \"3\": 18, \"2\": 24, \"12\": 16}, \"10\": {\"10\": 123, \"0\": 88, \"2\": 54, \"15\": 35, \"8\": 58, \"1\": 99, \"4\": 98, \"14\": 106, \"12\": 32, \"3\": 31, \"9\": 54, \"5\": 119, \"13\": 94, \"6\": 65, \"11\": 74, \"7\": 70}, \"14\": {\"13\": 90, \"11\": 113, \"4\": 118, \"3\": 31, \"0\": 78, \"7\": 71, \"5\": 99, \"6\": 74, \"2\": 30, \"1\": 102, \"8\": 67, \"10\": 104, \"14\": 109, \"15\": 46, \"12\": 39, \"9\": 29}, \"8\": {\"6\": 76, \"0\": 45, \"3\": 92, \"11\": 108, \"4\": 61, \"2\": 85, \"8\": 130, \"12\": 117, \"1\": 86, \"5\": 49, \"13\": 53, \"15\": 118, \"10\": 46, \"7\": 74, \"14\": 60}}, \"ORACLE.run1_20\": {\"6\": {\"8\": 110, \"14\": 161, \"10\": 131, \"9\": 41, \"4\": 87, \"12\": 43, \"7\": 83, \"3\": 67, \"11\": 102, \"2\": 59, \"6\": 133, \"0\": 49, \"5\": 40, \"13\": 43, \"15\": 23, \"1\": 28}, \"11\": {\"6\": 98, \"3\": 59, \"1\": 57, \"8\": 66, \"15\": 47, \"9\": 91, \"2\": 89, \"11\": 202, \"5\": 44, \"7\": 99, \"13\": 62, \"0\": 41, \"10\": 62, \"14\": 72, \"12\": 59, \"4\": 52}, \"5\": {\"5\": 100, \"13\": 72, \"8\": 69, \"12\": 79, \"15\": 72, \"1\": 102, \"10\": 66, \"9\": 71, \"4\": 83, \"0\": 97, \"3\": 91, \"11\": 40, \"6\": 50, \"7\": 70, \"2\": 87, \"14\": 51}, \"14\": {\"6\": 141, \"14\": 156, \"13\": 36, \"3\": 74, \"8\": 99, \"4\": 93, \"0\": 51, \"11\": 76, \"10\": 151, \"12\": 41, \"7\": 65, \"1\": 44, \"5\": 57, \"9\": 47, \"2\": 48, \"15\": 21}, \"2\": {\"8\": 72, \"11\": 84, \"9\": 79, \"1\": 79, \"15\": 80, \"10\": 47, \"7\": 95, \"14\": 54, \"5\": 77, \"4\": 74, \"12\": 85, \"13\": 82, \"6\": 75, \"2\": 73, \"3\": 60, \"0\": 84}, \"7\": {\"8\": 82, \"14\": 85, \"11\": 111, \"15\": 52, \"4\": 66, \"0\": 65, \"3\": 73, \"9\": 75, \"6\": 89, \"2\": 71, \"7\": 85, \"1\": 57, \"5\": 82, \"13\": 67, \"12\": 69, \"10\": 71}, \"3\": {\"6\": 65, \"4\": 74, \"7\": 74, \"1\": 90, \"15\": 84, \"8\": 73, \"2\": 79, \"10\": 77, \"14\": 65, \"0\": 78, \"13\": 75, \"12\": 54, \"3\": 89, \"11\": 71, \"9\": 69, \"5\": 83}, \"4\": {\"4\": 97, \"15\": 56, \"6\": 81, \"10\": 109, \"13\": 59, \"0\": 79, \"11\": 42, \"14\": 76, \"12\": 72, \"8\": 114, \"2\": 68, \"5\": 71, \"9\": 73, \"1\": 62, \"3\": 63, \"7\": 78}, \"9\": {\"11\": 89, \"8\": 61, \"6\": 55, \"0\": 72, \"1\": 81, \"9\": 79, \"5\": 72, \"10\": 66, \"2\": 114, \"3\": 78, \"4\": 77, \"12\": 72, \"7\": 68, \"13\": 86, \"14\": 53, \"15\": 77}, \"12\": {\"5\": 106, \"4\": 77, \"8\": 69, \"6\": 48, \"9\": 87, \"10\": 57, \"12\": 83, \"2\": 70, \"1\": 87, \"13\": 83, \"0\": 79, \"7\": 74, \"14\": 46, \"3\": 80, \"11\": 70, \"15\": 84}, \"0\": {\"1\": 90, \"6\": 46, \"5\": 96, \"3\": 78, \"0\": 114, \"7\": 68, \"4\": 78, \"11\": 41, \"10\": 46, \"13\": 88, \"2\": 73, \"9\": 79, \"8\": 66, \"12\": 91, \"14\": 53, \"15\": 93}, \"10\": {\"7\": 79, \"6\": 115, \"2\": 62, \"8\": 107, \"4\": 100, \"10\": 115, \"12\": 47, \"0\": 58, \"5\": 63, \"14\": 131, \"11\": 67, \"3\": 78, \"1\": 44, \"15\": 44, \"9\": 48, \"13\": 42}, \"8\": {\"6\": 103, \"4\": 118, \"5\": 66, \"2\": 70, \"8\": 101, \"12\": 82, \"14\": 96, \"3\": 68, \"0\": 72, \"1\": 52, \"7\": 70, \"11\": 51, \"9\": 64, \"13\": 50, \"10\": 92, \"15\": 45}, \"13\": {\"10\": 49, \"13\": 99, \"1\": 87, \"5\": 80, \"8\": 56, \"15\": 88, \"2\": 90, \"6\": 50, \"11\": 81, \"7\": 80, \"4\": 60, \"0\": 90, \"3\": 77, \"9\": 84, \"14\": 42, \"12\": 87}, \"1\": {\"4\": 72, \"11\": 50, \"1\": 105, \"6\": 47, \"5\": 94, \"2\": 93, \"10\": 44, \"12\": 91, \"14\": 29, \"0\": 96, \"13\": 103, \"8\": 62, \"3\": 87, \"7\": 58, \"15\": 89, \"9\": 80}, \"15\": {\"4\": 60, \"13\": 88, \"8\": 55, \"1\": 129, \"11\": 50, \"5\": 88, \"6\": 36, \"10\": 41, \"9\": 83, \"14\": 32, \"15\": 122, \"7\": 67, \"3\": 81, \"2\": 82, \"0\": 94, \"12\": 92}}, \"ORACLE.run1_38\": {\"3\": {\"3\": 436, \"5\": 82, \"15\": 10, \"9\": 215, \"6\": 147, \"0\": 110, \"13\": 9, \"4\": 12, \"8\": 41, \"7\": 103, \"10\": 16, \"1\": 11, \"2\": 1, \"12\": 7}, \"8\": {\"6\": 90, \"1\": 77, \"5\": 126, \"10\": 100, \"3\": 60, \"8\": 133, \"14\": 39, \"13\": 63, \"11\": 30, \"9\": 56, \"15\": 88, \"7\": 118, \"0\": 109, \"4\": 43, \"12\": 48, \"2\": 20}, \"0\": {\"3\": 109, \"6\": 98, \"8\": 116, \"9\": 70, \"10\": 83, \"5\": 88, \"0\": 138, \"15\": 61, \"12\": 62, \"4\": 65, \"13\": 35, \"7\": 171, \"11\": 22, \"1\": 42, \"2\": 14, \"14\": 26}, \"2\": {\"11\": 154, \"15\": 120, \"13\": 143, \"2\": 288, \"14\": 196, \"8\": 27, \"12\": 32, \"1\": 94, \"10\": 92, \"7\": 4, \"5\": 19, \"9\": 4, \"0\": 11, \"4\": 6, \"6\": 9, \"3\": 1}, \"4\": {\"4\": 411, \"8\": 59, \"12\": 343, \"5\": 27, \"10\": 61, \"0\": 80, \"15\": 17, \"3\": 13, \"7\": 88, \"11\": 44, \"14\": 31, \"9\": 5, \"13\": 7, \"6\": 9, \"2\": 3, \"1\": 2}, \"7\": {\"8\": 115, \"10\": 62, \"3\": 132, \"7\": 202, \"5\": 125, \"4\": 79, \"9\": 80, \"6\": 84, \"0\": 173, \"15\": 31, \"13\": 23, \"12\": 48, \"2\": 4, \"1\": 23, \"11\": 12, \"14\": 7}, \"12\": {\"12\": 405, \"11\": 103, \"4\": 265, \"5\": 27, \"0\": 56, \"10\": 73, \"3\": 6, \"8\": 46, \"14\": 106, \"13\": 13, \"1\": 8, \"15\": 23, \"7\": 50, \"6\": 6, \"2\": 12, \"9\": 1}, \"6\": {\"10\": 36, \"9\": 213, \"1\": 88, \"3\": 141, \"13\": 47, \"14\": 5, \"6\": 217, \"0\": 69, \"5\": 121, \"7\": 100, \"8\": 88, \"15\": 56, \"2\": 8, \"12\": 5, \"4\": 4, \"11\": 2}, \"15\": {\"11\": 48, \"15\": 147, \"13\": 153, \"2\": 126, \"1\": 141, \"5\": 80, \"10\": 100, \"0\": 48, \"3\": 13, \"4\": 12, \"14\": 62, \"9\": 38, \"8\": 98, \"7\": 44, \"6\": 62, \"12\": 28}, \"11\": {\"15\": 61, \"1\": 27, \"11\": 268, \"13\": 56, \"14\": 301, \"12\": 128, \"2\": 150, \"7\": 6, \"5\": 17, \"8\": 28, \"10\": 90, \"0\": 22, \"4\": 42, \"6\": 3, \"3\": 1}, \"9\": {\"10\": 19, \"8\": 65, \"6\": 216, \"5\": 84, \"3\": 256, \"9\": 278, \"7\": 75, \"0\": 70, \"1\": 67, \"11\": 1, \"4\": 3, \"15\": 36, \"13\": 26, \"2\": 2, \"14\": 1, \"12\": 1}, \"14\": {\"11\": 249, \"14\": 316, \"2\": 149, \"15\": 60, \"12\": 122, \"10\": 95, \"5\": 19, \"4\": 32, \"0\": 12, \"13\": 56, \"1\": 34, \"8\": 39, \"7\": 12, \"6\": 5}, \"10\": {\"6\": 35, \"1\": 82, \"4\": 57, \"2\": 77, \"7\": 65, \"10\": 136, \"13\": 78, \"8\": 107, \"9\": 26, \"14\": 95, \"5\": 84, \"15\": 107, \"11\": 74, \"12\": 88, \"3\": 15, \"0\": 74}, \"5\": {\"14\": 25, \"10\": 85, \"6\": 111, \"13\": 56, \"8\": 132, \"7\": 124, \"15\": 79, \"0\": 114, \"1\": 90, \"3\": 88, \"9\": 121, \"5\": 98, \"4\": 22, \"2\": 18, \"12\": 21, \"11\": 16}, \"1\": {\"0\": 47, \"7\": 27, \"2\": 107, \"1\": 199, \"3\": 11, \"8\": 93, \"13\": 177, \"15\": 155, \"6\": 90, \"10\": 69, \"9\": 72, \"14\": 26, \"11\": 31, \"5\": 87, \"4\": 2, \"12\": 7}, \"13\": {\"1\": 162, \"15\": 148, \"13\": 163, \"8\": 76, \"0\": 46, \"7\": 33, \"14\": 68, \"10\": 92, \"12\": 34, \"2\": 131, \"4\": 14, \"6\": 47, \"5\": 71, \"11\": 71, \"9\": 29, \"3\": 15}}, \"ORACLE.run1_26\": {\"5\": {\"12\": 32, \"3\": 107, \"5\": 116, \"7\": 81, \"4\": 59, \"10\": 58, \"2\": 98, \"11\": 38, \"13\": 122, \"15\": 102, \"8\": 61, \"0\": 53, \"6\": 63, \"1\": 53, \"14\": 66, \"9\": 91}, \"8\": {\"13\": 69, \"3\": 81, \"14\": 69, \"8\": 77, \"5\": 82, \"2\": 83, \"9\": 66, \"6\": 82, \"1\": 84, \"12\": 57, \"4\": 75, \"10\": 97, \"11\": 18, \"15\": 83, \"7\": 80, \"0\": 97}, \"4\": {\"10\": 96, \"7\": 78, \"3\": 86, \"8\": 98, \"15\": 73, \"9\": 75, \"14\": 92, \"4\": 103, \"0\": 89, \"5\": 65, \"11\": 10, \"2\": 79, \"6\": 81, \"13\": 42, \"1\": 88, \"12\": 45}, \"12\": {\"6\": 101, \"11\": 171, \"10\": 66, \"8\": 52, \"12\": 369, \"13\": 58, \"7\": 26, \"9\": 69, \"1\": 35, \"14\": 35, \"4\": 34, \"0\": 57, \"5\": 36, \"15\": 57, \"2\": 16, \"3\": 18}, \"6\": {\"9\": 77, \"13\": 75, \"5\": 70, \"12\": 87, \"14\": 75, \"10\": 92, \"2\": 51, \"1\": 69, \"7\": 78, \"4\": 70, \"8\": 79, \"6\": 104, \"3\": 66, \"0\": 82, \"15\": 87, \"11\": 38}, \"7\": {\"2\": 87, \"6\": 61, \"3\": 122, \"9\": 75, \"4\": 91, \"13\": 59, \"14\": 85, \"12\": 26, \"10\": 90, \"0\": 90, \"7\": 102, \"1\": 102, \"8\": 84, \"15\": 53, \"5\": 66, \"11\": 7}, \"10\": {\"7\": 92, \"3\": 71, \"9\": 73, \"10\": 104, \"6\": 106, \"12\": 61, \"8\": 73, \"14\": 95, \"2\": 59, \"0\": 98, \"1\": 82, \"4\": 98, \"11\": 14, \"15\": 63, \"13\": 44, \"5\": 67}, \"0\": {\"7\": 73, \"10\": 92, \"9\": 76, \"0\": 93, \"14\": 98, \"11\": 11, \"12\": 54, \"1\": 100, \"2\": 76, \"5\": 61, \"15\": 72, \"8\": 95, \"6\": 83, \"4\": 103, \"13\": 42, \"3\": 71}, \"15\": {\"12\": 67, \"2\": 76, \"6\": 87, \"9\": 73, \"15\": 85, \"8\": 82, \"0\": 84, \"11\": 32, \"13\": 76, \"4\": 63, \"1\": 60, \"10\": 82, \"14\": 77, \"3\": 69, \"5\": 105, \"7\": 82}, \"9\": {\"3\": 91, \"6\": 105, \"5\": 85, \"10\": 73, \"9\": 89, \"11\": 17, \"12\": 55, \"7\": 63, \"4\": 62, \"2\": 96, \"1\": 62, \"13\": 106, \"15\": 80, \"14\": 71, \"8\": 80, \"0\": 65}, \"11\": {\"11\": 514, \"12\": 248, \"10\": 30, \"6\": 55, \"15\": 54, \"5\": 61, \"13\": 89, \"9\": 38, \"2\": 20, \"0\": 15, \"8\": 29, \"1\": 10, \"14\": 12, \"7\": 12, \"4\": 9, \"3\": 4}, \"14\": {\"15\": 71, \"8\": 93, \"1\": 109, \"4\": 101, \"14\": 106, \"3\": 81, \"2\": 60, \"0\": 107, \"6\": 93, \"10\": 79, \"5\": 59, \"7\": 84, \"12\": 50, \"13\": 43, \"9\": 64}, \"2\": {\"7\": 94, \"5\": 99, \"14\": 67, \"3\": 128, \"8\": 69, \"1\": 63, \"9\": 80, \"2\": 131, \"4\": 83, \"12\": 25, \"15\": 76, \"0\": 71, \"6\": 63, \"13\": 69, \"10\": 76, \"11\": 6}, \"13\": {\"3\": 71, \"15\": 102, \"10\": 65, \"7\": 61, \"9\": 88, \"0\": 46, \"5\": 128, \"6\": 89, \"2\": 88, \"8\": 57, \"12\": 62, \"1\": 47, \"13\": 147, \"14\": 42, \"4\": 41, \"11\": 66}, \"3\": {\"15\": 59, \"14\": 87, \"8\": 79, \"3\": 126, \"4\": 82, \"6\": 54, \"1\": 68, \"2\": 119, \"5\": 92, \"9\": 70, \"13\": 75, \"7\": 106, \"12\": 21, \"10\": 71, \"0\": 80, \"11\": 11}, \"1\": {\"6\": 78, \"10\": 99, \"3\": 90, \"9\": 76, \"13\": 32, \"14\": 123, \"15\": 58, \"8\": 81, \"4\": 95, \"0\": 97, \"5\": 41, \"2\": 85, \"7\": 89, \"1\": 108, \"12\": 38, \"11\": 10}}}, \"per_domain_accuracy\": {\"CORES_4\": {\"accuracy\": 0.9994318181818181, \"source?\": true}, \"CORES_2\": {\"accuracy\": 0.9998244382022472, \"source?\": true}, \"CORES_3\": {\"accuracy\": 0.9996279761904762, \"source?\": true}, \"CORES_1\": {\"accuracy\": 0.9998310810810811, \"source?\": true}, \"CORES_5\": {\"accuracy\": 0.9996508379888268, \"source?\": true}, \"ORACLE.run1_50\": {\"accuracy\": 0.18833333333333332, \"source?\": false}, \"ORACLE.run1_14\": {\"accuracy\": 0.17255208333333333, \"source?\": false}, \"ORACLE.run1_32\": {\"accuracy\": 0.25828125, \"source?\": false}, \"ORACLE.run1_44\": {\"accuracy\": 0.20182291666666666, \"source?\": false}, \"ORACLE.run1_8\": {\"accuracy\": 0.13859375, \"source?\": false}, \"ORACLE.run1_20\": {\"accuracy\": 0.09130208333333334, \"source?\": false}, \"ORACLE.run1_38\": {\"accuracy\": 0.19973958333333333, \"source?\": false}, \"ORACLE.run1_26\": {\"accuracy\": 0.12364583333333333, \"source?\": false}}}, \"history\": {\"epoch_indices\": [1, 2, 3, 4, 5, 6, 7, 8, 9, 10, 11, 12, 13], \"train_label_loss\": [0.02692659643517275, 0.006901793920700413, 0.004304522515655512, 0.004101933515270678, 0.0036860918355155915, 0.0028758241363973027, 0.003101048799491406, 0.0023500850645755095, 0.002195753669938133, 0.0019571969838578485, 0.002347391481966523, 0.002268631854829803, 0.0019086125339038455], \"source_val_label_loss\": [0.003994709346443415, 0.007409099489450455, 0.012356100603938103, 0.00633486220613122, 0.006810539867728949, 0.008527828380465508, 0.01002980675548315, 0.009487601928412914, 0.008206835947930813, 0.009959260001778603, 0.01115272007882595, 0.009184404276311398, 0.009061315096914768], \"target_val_label_loss\": [2.813856363296509, 3.309180974960327, 3.9307773113250732, 3.8145837783813477, 3.9149057865142822, 4.363685607910156, 4.511681079864502, 4.722764492034912, 4.858981609344482, 4.934564590454102, 5.240103244781494, 5.908785343170166, 5.698298454284668], \"source_val_acc_label\": [0.9991428571428571, 0.9988928571428571, 0.9982857142857143, 0.9994285714285714, 0.9991071428571429, 0.9994642857142857, 0.99925, 0.9990714285714286, 0.9996785714285714, 0.9992857142857143, 0.9992142857142857, 0.9994285714285714, 0.9996428571428572], \"target_val_acc_label\": [0.12844401041666667, 0.1359375, 0.15640625, 0.15866536458333333, 0.15809244791666666, 0.15419270833333334, 0.15442708333333333, 0.15882161458333333, 0.17178385416666667, 0.16004557291666666, 0.14861979166666667, 0.16986328125, 0.1646484375]}, \"dataset_metrics\": {\"source\": {\"train\": {\"n_unique_x\": 175211, \"n_unique_y\": 58, \"n_batch/episode\": 6315}, \"val\": {\"n_unique_x\": 37166, \"n_unique_y\": 58, \"n_batch/episode\": 875}, \"test\": {\"n_unique_x\": 37642, \"n_unique_y\": 58, \"n_batch/episode\": 890}}, \"target\": {\"train\": {\"n_unique_x\": 896000, \"n_unique_y\": 16, \"n_batch/episode\": 33600}, \"val\": {\"n_unique_x\": 192000, \"n_unique_y\": 16, \"n_batch/episode\": 4800}, \"test\": {\"n_unique_x\": 192000, \"n_unique_y\": 16, \"n_batch/episode\": 4800}}}}'"
      ]
     },
     "execution_count": 29,
     "metadata": {},
     "output_type": "execute_result"
    }
   ],
   "source": [
    "json.dumps(experiment)"
   ]
  }
 ],
 "metadata": {
  "celltoolbar": "Tags",
  "kernelspec": {
   "display_name": "Python 3 (ipykernel)",
   "language": "python",
   "name": "python3"
  },
  "language_info": {
   "codemirror_mode": {
    "name": "ipython",
    "version": 3
   },
   "file_extension": ".py",
   "mimetype": "text/x-python",
   "name": "python",
   "nbconvert_exporter": "python",
   "pygments_lexer": "ipython3",
   "version": "3.8.12"
  },
  "papermill": {
   "default_parameters": {},
   "duration": 4075.095014,
   "end_time": "2022-03-23T07:58:26.285751",
   "environment_variables": {},
   "exception": null,
   "input_path": "/root/csc500-main/csc500-notebooks/templates/tl_ptn_template.ipynb",
   "output_path": "trial.ipynb",
   "parameters": {
    "parameters": {
     "BEST_MODEL_PATH": "./best_model.pth",
     "NUM_LOGS_PER_EPOCH": 10,
     "criteria_for_best": "target_accuracy",
     "dataset_seed": 500,
     "datasets": [
      {
       "domain_prefix": "CORES_",
       "domains": [
        1,
        2,
        3,
        4,
        5
       ],
       "episode_transforms": [],
       "labels": [
        "1-10.",
        "1-11.",
        "1-15.",
        "1-16.",
        "1-17.",
        "1-18.",
        "1-19.",
        "10-4.",
        "10-7.",
        "11-1.",
        "11-14.",
        "11-17.",
        "11-20.",
        "11-7.",
        "13-20.",
        "13-8.",
        "14-10.",
        "14-11.",
        "14-14.",
        "14-7.",
        "15-1.",
        "15-20.",
        "16-1.",
        "16-16.",
        "17-10.",
        "17-11.",
        "17-2.",
        "19-1.",
        "19-16.",
        "19-19.",
        "19-20.",
        "19-3.",
        "2-10.",
        "2-11.",
        "2-17.",
        "2-18.",
        "2-20.",
        "2-3.",
        "2-4.",
        "2-5.",
        "2-6.",
        "2-7.",
        "2-8.",
        "3-13.",
        "3-18.",
        "3-3.",
        "4-1.",
        "4-10.",
        "4-11.",
        "4-19.",
        "5-5.",
        "6-15.",
        "7-10.",
        "7-14.",
        "8-18.",
        "8-20.",
        "8-3.",
        "8-8."
       ],
       "num_examples_per_domain_per_label": -1,
       "pickle_path": "/root/csc500-main/datasets/cores.stratified_ds.2022A.pkl",
       "source_or_target_dataset": "source",
       "x_transforms": [
        "unit_power"
       ]
      },
      {
       "domain_prefix": "ORACLE.run1_",
       "domains": [
        32,
        38,
        8,
        44,
        14,
        50,
        20,
        26
       ],
       "episode_transforms": [],
       "labels": [
        "3123D52",
        "3123D65",
        "3123D79",
        "3123D80",
        "3123D54",
        "3123D70",
        "3123D7B",
        "3123D89",
        "3123D58",
        "3123D76",
        "3123D7D",
        "3123EFE",
        "3123D64",
        "3123D78",
        "3123D7E",
        "3124E4A"
       ],
       "num_examples_per_domain_per_label": 10000,
       "pickle_path": "/root/csc500-main/datasets/oracle.Run1_10kExamples_stratified_ds.2022A.pkl",
       "source_or_target_dataset": "target",
       "x_transforms": [
        "unit_power"
       ]
      }
     ],
     "device": "cuda",
     "experiment_name": "tl_1v2:cores-oracle.run1",
     "lr": 0.0001,
     "n_epoch": 50,
     "n_query": 2,
     "n_shot": 3,
     "n_way": 16,
     "patience": 3,
     "seed": 500,
     "test_k_factor": 2,
     "torch_default_dtype": "torch.float32",
     "train_k_factor": 3,
     "val_k_factor": 2,
     "x_net": [
      {
       "class": "nnReshape",
       "kargs": {
        "shape": [
         -1,
         1,
         2,
         256
        ]
       }
      },
      {
       "class": "Conv2d",
       "kargs": {
        "bias": false,
        "in_channels": 1,
        "kernel_size": [
         1,
         7
        ],
        "out_channels": 256,
        "padding": [
         0,
         3
        ]
       }
      },
      {
       "class": "ReLU",
       "kargs": {
        "inplace": true
       }
      },
      {
       "class": "BatchNorm2d",
       "kargs": {
        "num_features": 256
       }
      },
      {
       "class": "Conv2d",
       "kargs": {
        "bias": true,
        "in_channels": 256,
        "kernel_size": [
         2,
         7
        ],
        "out_channels": 80,
        "padding": [
         0,
         3
        ]
       }
      },
      {
       "class": "ReLU",
       "kargs": {
        "inplace": true
       }
      },
      {
       "class": "BatchNorm2d",
       "kargs": {
        "num_features": 80
       }
      },
      {
       "class": "Flatten",
       "kargs": {}
      },
      {
       "class": "Linear",
       "kargs": {
        "in_features": 20480,
        "out_features": 256
       }
      },
      {
       "class": "ReLU",
       "kargs": {
        "inplace": true
       }
      },
      {
       "class": "BatchNorm1d",
       "kargs": {
        "num_features": 256
       }
      },
      {
       "class": "Linear",
       "kargs": {
        "in_features": 256,
        "out_features": 256
       }
      }
     ]
    }
   },
   "start_time": "2022-03-23T06:50:31.190737",
   "version": "2.3.4"
  }
 },
 "nbformat": 4,
 "nbformat_minor": 5
}