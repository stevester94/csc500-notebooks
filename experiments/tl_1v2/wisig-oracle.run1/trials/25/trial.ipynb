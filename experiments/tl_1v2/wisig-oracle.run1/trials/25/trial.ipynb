{
 "cells": [
  {
   "cell_type": "markdown",
   "id": "9fea5f46",
   "metadata": {
    "papermill": {
     "duration": 0.029144,
     "end_time": "2022-03-24T06:33:32.548820",
     "exception": false,
     "start_time": "2022-03-24T06:33:32.519676",
     "status": "completed"
    },
    "tags": []
   },
   "source": [
    "# Transfer Learning Template"
   ]
  },
  {
   "cell_type": "code",
   "execution_count": 1,
   "id": "0902182a",
   "metadata": {
    "execution": {
     "iopub.execute_input": "2022-03-24T06:33:32.612439Z",
     "iopub.status.busy": "2022-03-24T06:33:32.601908Z",
     "iopub.status.idle": "2022-03-24T06:33:35.261180Z",
     "shell.execute_reply": "2022-03-24T06:33:35.260219Z"
    },
    "papermill": {
     "duration": 2.687166,
     "end_time": "2022-03-24T06:33:35.261387",
     "exception": false,
     "start_time": "2022-03-24T06:33:32.574221",
     "status": "completed"
    },
    "tags": []
   },
   "outputs": [],
   "source": [
    "%load_ext autoreload\n",
    "%autoreload 2\n",
    "%matplotlib inline\n",
    "\n",
    "    \n",
    "import os, json, sys, time, random\n",
    "import numpy as np\n",
    "import torch\n",
    "from torch.optim import Adam\n",
    "from  easydict import EasyDict\n",
    "import matplotlib.pyplot as plt\n",
    "\n",
    "from steves_models.steves_ptn import Steves_Prototypical_Network\n",
    "\n",
    "from steves_utils.lazy_iterable_wrapper import Lazy_Iterable_Wrapper\n",
    "from steves_utils.iterable_aggregator import Iterable_Aggregator\n",
    "from steves_utils.ptn_train_eval_test_jig import  PTN_Train_Eval_Test_Jig\n",
    "from steves_utils.torch_sequential_builder import build_sequential\n",
    "from steves_utils.torch_utils import get_dataset_metrics, ptn_confusion_by_domain_over_dataloader\n",
    "from steves_utils.utils_v2 import (per_domain_accuracy_from_confusion, get_datasets_base_path)\n",
    "from steves_utils.PTN.utils import independent_accuracy_assesment\n",
    "\n",
    "from torch.utils.data import DataLoader\n",
    "\n",
    "from steves_utils.stratified_dataset.episodic_accessor import Episodic_Accessor_Factory\n",
    "\n",
    "from steves_utils.ptn_do_report import (\n",
    "    get_loss_curve,\n",
    "    get_results_table,\n",
    "    get_parameters_table,\n",
    "    get_domain_accuracies,\n",
    ")\n",
    "\n",
    "from steves_utils.transforms import get_chained_transform"
   ]
  },
  {
   "cell_type": "markdown",
   "id": "41c840b4",
   "metadata": {
    "papermill": {
     "duration": 0.019365,
     "end_time": "2022-03-24T06:33:35.304937",
     "exception": false,
     "start_time": "2022-03-24T06:33:35.285572",
     "status": "completed"
    },
    "tags": []
   },
   "source": [
    "# Allowed Parameters\n",
    "These are allowed parameters, not defaults\n",
    "Each of these values need to be present in the injected parameters (the notebook will raise an exception if they are not present)\n",
    "\n",
    "Papermill uses the cell tag \"parameters\" to inject the real parameters below this cell.\n",
    "Enable tags to see what I mean"
   ]
  },
  {
   "cell_type": "code",
   "execution_count": 2,
   "id": "fd44eb83",
   "metadata": {
    "execution": {
     "iopub.execute_input": "2022-03-24T06:33:35.349028Z",
     "iopub.status.busy": "2022-03-24T06:33:35.348429Z",
     "iopub.status.idle": "2022-03-24T06:33:35.367971Z",
     "shell.execute_reply": "2022-03-24T06:33:35.367101Z"
    },
    "papermill": {
     "duration": 0.043744,
     "end_time": "2022-03-24T06:33:35.368153",
     "exception": false,
     "start_time": "2022-03-24T06:33:35.324409",
     "status": "completed"
    },
    "tags": []
   },
   "outputs": [],
   "source": [
    "required_parameters = {\n",
    "    \"experiment_name\",\n",
    "    \"lr\",\n",
    "    \"device\",\n",
    "    \"seed\",\n",
    "    \"dataset_seed\",\n",
    "    \"n_shot\",\n",
    "    \"n_query\",\n",
    "    \"n_way\",\n",
    "    \"train_k_factor\",\n",
    "    \"val_k_factor\",\n",
    "    \"test_k_factor\",\n",
    "    \"n_epoch\",\n",
    "    \"patience\",\n",
    "    \"criteria_for_best\",\n",
    "    \"x_net\",\n",
    "    \"datasets\",\n",
    "    \"torch_default_dtype\",\n",
    "    \"NUM_LOGS_PER_EPOCH\",\n",
    "    \"BEST_MODEL_PATH\",\n",
    "    \"x_shape\",\n",
    "}"
   ]
  },
  {
   "cell_type": "code",
   "execution_count": 3,
   "id": "fa3f0049",
   "metadata": {
    "execution": {
     "iopub.execute_input": "2022-03-24T06:33:35.427958Z",
     "iopub.status.busy": "2022-03-24T06:33:35.426946Z",
     "iopub.status.idle": "2022-03-24T06:33:35.448065Z",
     "shell.execute_reply": "2022-03-24T06:33:35.447190Z"
    },
    "papermill": {
     "duration": 0.050366,
     "end_time": "2022-03-24T06:33:35.448249",
     "exception": false,
     "start_time": "2022-03-24T06:33:35.397883",
     "status": "completed"
    },
    "tags": [
     "parameters"
    ]
   },
   "outputs": [],
   "source": [
    "from steves_utils.CORES.utils import (\n",
    "    ALL_NODES,\n",
    "    ALL_NODES_MINIMUM_1000_EXAMPLES,\n",
    "    ALL_DAYS\n",
    ")\n",
    "\n",
    "from steves_utils.ORACLE.utils_v2 import (\n",
    "    ALL_DISTANCES_FEET_NARROWED,\n",
    "    ALL_RUNS,\n",
    "    ALL_SERIAL_NUMBERS,\n",
    ")\n",
    "\n",
    "standalone_parameters = {}\n",
    "standalone_parameters[\"experiment_name\"] = \"STANDALONE PTN\"\n",
    "standalone_parameters[\"lr\"] = 0.001\n",
    "standalone_parameters[\"device\"] = \"cuda\"\n",
    "\n",
    "standalone_parameters[\"seed\"] = 1337\n",
    "standalone_parameters[\"dataset_seed\"] = 1337\n",
    "\n",
    "standalone_parameters[\"n_way\"] = 8\n",
    "standalone_parameters[\"n_shot\"] = 3\n",
    "standalone_parameters[\"n_query\"]  = 2\n",
    "standalone_parameters[\"train_k_factor\"] = 1\n",
    "standalone_parameters[\"val_k_factor\"] = 2\n",
    "standalone_parameters[\"test_k_factor\"] = 2\n",
    "\n",
    "\n",
    "standalone_parameters[\"n_epoch\"] = 50\n",
    "\n",
    "standalone_parameters[\"patience\"] = 10\n",
    "standalone_parameters[\"criteria_for_best\"] = \"source_loss\"\n",
    "\n",
    "standalone_parameters[\"datasets\"] = [\n",
    "    {\n",
    "        \"labels\": ALL_SERIAL_NUMBERS,\n",
    "        \"domains\": ALL_DISTANCES_FEET_NARROWED,\n",
    "        \"num_examples_per_domain_per_label\": 100,\n",
    "        \"pickle_path\": os.path.join(get_datasets_base_path(), \"oracle.Run1_framed_2000Examples_stratified_ds.2022A.pkl\"),\n",
    "        \"source_or_target_dataset\": \"source\",\n",
    "        \"x_transforms\": [\"unit_mag\", \"minus_two\"],\n",
    "        \"episode_transforms\": [],\n",
    "        \"domain_prefix\": \"ORACLE_\"\n",
    "    },\n",
    "    {\n",
    "        \"labels\": ALL_NODES,\n",
    "        \"domains\": ALL_DAYS,\n",
    "        \"num_examples_per_domain_per_label\": 100,\n",
    "        \"pickle_path\": os.path.join(get_datasets_base_path(), \"cores.stratified_ds.2022A.pkl\"),\n",
    "        \"source_or_target_dataset\": \"target\",\n",
    "        \"x_transforms\": [\"unit_power\", \"times_zero\"],\n",
    "        \"episode_transforms\": [],\n",
    "        \"domain_prefix\": \"CORES_\"\n",
    "    }   \n",
    "]\n",
    "\n",
    "standalone_parameters[\"torch_default_dtype\"] = \"torch.float32\" \n",
    "\n",
    "\n",
    "\n",
    "standalone_parameters[\"x_net\"] =     [\n",
    "    {\"class\": \"nnReshape\", \"kargs\": {\"shape\":[-1, 1, 2, 256]}},\n",
    "    {\"class\": \"Conv2d\", \"kargs\": { \"in_channels\":1, \"out_channels\":256, \"kernel_size\":(1,7), \"bias\":False, \"padding\":(0,3), },},\n",
    "    {\"class\": \"ReLU\", \"kargs\": {\"inplace\": True}},\n",
    "    {\"class\": \"BatchNorm2d\", \"kargs\": {\"num_features\":256}},\n",
    "\n",
    "    {\"class\": \"Conv2d\", \"kargs\": { \"in_channels\":256, \"out_channels\":80, \"kernel_size\":(2,7), \"bias\":True, \"padding\":(0,3), },},\n",
    "    {\"class\": \"ReLU\", \"kargs\": {\"inplace\": True}},\n",
    "    {\"class\": \"BatchNorm2d\", \"kargs\": {\"num_features\":80}},\n",
    "    {\"class\": \"Flatten\", \"kargs\": {}},\n",
    "\n",
    "    {\"class\": \"Linear\", \"kargs\": {\"in_features\": 80*256, \"out_features\": 256}}, # 80 units per IQ pair\n",
    "    {\"class\": \"ReLU\", \"kargs\": {\"inplace\": True}},\n",
    "    {\"class\": \"BatchNorm1d\", \"kargs\": {\"num_features\":256}},\n",
    "\n",
    "    {\"class\": \"Linear\", \"kargs\": {\"in_features\": 256, \"out_features\": 256}},\n",
    "]\n",
    "\n",
    "# Parameters relevant to results\n",
    "# These parameters will basically never need to change\n",
    "standalone_parameters[\"NUM_LOGS_PER_EPOCH\"] = 10\n",
    "standalone_parameters[\"BEST_MODEL_PATH\"] = \"./best_model.pth\"\n",
    "\n",
    "\n",
    "\n",
    "\n"
   ]
  },
  {
   "cell_type": "code",
   "execution_count": 4,
   "id": "45822c9a",
   "metadata": {
    "execution": {
     "iopub.execute_input": "2022-03-24T06:33:35.507727Z",
     "iopub.status.busy": "2022-03-24T06:33:35.507001Z",
     "iopub.status.idle": "2022-03-24T06:33:35.527251Z",
     "shell.execute_reply": "2022-03-24T06:33:35.526519Z"
    },
    "papermill": {
     "duration": 0.050316,
     "end_time": "2022-03-24T06:33:35.527423",
     "exception": false,
     "start_time": "2022-03-24T06:33:35.477107",
     "status": "completed"
    },
    "tags": [
     "injected-parameters"
    ]
   },
   "outputs": [],
   "source": [
    "# Parameters\n",
    "parameters = {\n",
    "    \"experiment_name\": \"tl_1v2:wisig-oracle.run1\",\n",
    "    \"device\": \"cuda\",\n",
    "    \"lr\": 0.0001,\n",
    "    \"n_shot\": 3,\n",
    "    \"n_query\": 2,\n",
    "    \"train_k_factor\": 3,\n",
    "    \"val_k_factor\": 2,\n",
    "    \"test_k_factor\": 2,\n",
    "    \"torch_default_dtype\": \"torch.float32\",\n",
    "    \"n_epoch\": 50,\n",
    "    \"patience\": 3,\n",
    "    \"criteria_for_best\": \"target_accuracy\",\n",
    "    \"x_net\": [\n",
    "        {\"class\": \"nnReshape\", \"kargs\": {\"shape\": [-1, 1, 2, 256]}},\n",
    "        {\n",
    "            \"class\": \"Conv2d\",\n",
    "            \"kargs\": {\n",
    "                \"in_channels\": 1,\n",
    "                \"out_channels\": 256,\n",
    "                \"kernel_size\": [1, 7],\n",
    "                \"bias\": False,\n",
    "                \"padding\": [0, 3],\n",
    "            },\n",
    "        },\n",
    "        {\"class\": \"ReLU\", \"kargs\": {\"inplace\": True}},\n",
    "        {\"class\": \"BatchNorm2d\", \"kargs\": {\"num_features\": 256}},\n",
    "        {\n",
    "            \"class\": \"Conv2d\",\n",
    "            \"kargs\": {\n",
    "                \"in_channels\": 256,\n",
    "                \"out_channels\": 80,\n",
    "                \"kernel_size\": [2, 7],\n",
    "                \"bias\": True,\n",
    "                \"padding\": [0, 3],\n",
    "            },\n",
    "        },\n",
    "        {\"class\": \"ReLU\", \"kargs\": {\"inplace\": True}},\n",
    "        {\"class\": \"BatchNorm2d\", \"kargs\": {\"num_features\": 80}},\n",
    "        {\"class\": \"Flatten\", \"kargs\": {}},\n",
    "        {\"class\": \"Linear\", \"kargs\": {\"in_features\": 20480, \"out_features\": 256}},\n",
    "        {\"class\": \"ReLU\", \"kargs\": {\"inplace\": True}},\n",
    "        {\"class\": \"BatchNorm1d\", \"kargs\": {\"num_features\": 256}},\n",
    "        {\"class\": \"Linear\", \"kargs\": {\"in_features\": 256, \"out_features\": 256}},\n",
    "    ],\n",
    "    \"NUM_LOGS_PER_EPOCH\": 10,\n",
    "    \"BEST_MODEL_PATH\": \"./best_model.pth\",\n",
    "    \"n_way\": 16,\n",
    "    \"datasets\": [\n",
    "        {\n",
    "            \"labels\": [\n",
    "                \"1-10\",\n",
    "                \"1-12\",\n",
    "                \"1-14\",\n",
    "                \"1-16\",\n",
    "                \"1-18\",\n",
    "                \"1-19\",\n",
    "                \"1-8\",\n",
    "                \"10-11\",\n",
    "                \"10-17\",\n",
    "                \"10-4\",\n",
    "                \"10-7\",\n",
    "                \"11-1\",\n",
    "                \"11-10\",\n",
    "                \"11-19\",\n",
    "                \"11-20\",\n",
    "                \"11-4\",\n",
    "                \"11-7\",\n",
    "                \"12-19\",\n",
    "                \"12-20\",\n",
    "                \"12-7\",\n",
    "                \"13-14\",\n",
    "                \"13-18\",\n",
    "                \"13-19\",\n",
    "                \"13-20\",\n",
    "                \"13-3\",\n",
    "                \"13-7\",\n",
    "                \"14-10\",\n",
    "                \"14-11\",\n",
    "                \"14-12\",\n",
    "                \"14-13\",\n",
    "                \"14-14\",\n",
    "                \"14-19\",\n",
    "                \"14-20\",\n",
    "                \"14-7\",\n",
    "                \"14-8\",\n",
    "                \"14-9\",\n",
    "                \"15-1\",\n",
    "                \"15-19\",\n",
    "                \"15-6\",\n",
    "                \"16-1\",\n",
    "                \"16-16\",\n",
    "                \"16-19\",\n",
    "                \"16-20\",\n",
    "                \"17-10\",\n",
    "                \"17-11\",\n",
    "                \"18-1\",\n",
    "                \"18-10\",\n",
    "                \"18-11\",\n",
    "                \"18-12\",\n",
    "                \"18-13\",\n",
    "                \"18-14\",\n",
    "                \"18-15\",\n",
    "                \"18-16\",\n",
    "                \"18-17\",\n",
    "                \"18-19\",\n",
    "                \"18-2\",\n",
    "                \"18-20\",\n",
    "                \"18-4\",\n",
    "                \"18-5\",\n",
    "                \"18-7\",\n",
    "                \"18-8\",\n",
    "                \"18-9\",\n",
    "                \"19-1\",\n",
    "                \"19-10\",\n",
    "                \"19-11\",\n",
    "                \"19-12\",\n",
    "                \"19-13\",\n",
    "                \"19-14\",\n",
    "                \"19-15\",\n",
    "                \"19-19\",\n",
    "                \"19-2\",\n",
    "                \"19-20\",\n",
    "                \"19-3\",\n",
    "                \"19-4\",\n",
    "                \"19-6\",\n",
    "                \"19-7\",\n",
    "                \"19-8\",\n",
    "                \"19-9\",\n",
    "                \"2-1\",\n",
    "                \"2-13\",\n",
    "                \"2-15\",\n",
    "                \"2-3\",\n",
    "                \"2-4\",\n",
    "                \"2-5\",\n",
    "                \"2-6\",\n",
    "                \"2-7\",\n",
    "                \"2-8\",\n",
    "                \"20-1\",\n",
    "                \"20-12\",\n",
    "                \"20-14\",\n",
    "                \"20-15\",\n",
    "                \"20-16\",\n",
    "                \"20-18\",\n",
    "                \"20-19\",\n",
    "                \"20-20\",\n",
    "                \"20-3\",\n",
    "                \"20-4\",\n",
    "                \"20-5\",\n",
    "                \"20-7\",\n",
    "                \"20-8\",\n",
    "                \"3-1\",\n",
    "                \"3-13\",\n",
    "                \"3-18\",\n",
    "                \"3-2\",\n",
    "                \"3-8\",\n",
    "                \"4-1\",\n",
    "                \"4-10\",\n",
    "                \"4-11\",\n",
    "                \"5-1\",\n",
    "                \"5-5\",\n",
    "                \"6-1\",\n",
    "                \"6-15\",\n",
    "                \"6-6\",\n",
    "                \"7-10\",\n",
    "                \"7-11\",\n",
    "                \"7-12\",\n",
    "                \"7-13\",\n",
    "                \"7-14\",\n",
    "                \"7-7\",\n",
    "                \"7-8\",\n",
    "                \"7-9\",\n",
    "                \"8-1\",\n",
    "                \"8-13\",\n",
    "                \"8-14\",\n",
    "                \"8-18\",\n",
    "                \"8-20\",\n",
    "                \"8-3\",\n",
    "                \"8-8\",\n",
    "                \"9-1\",\n",
    "                \"9-7\",\n",
    "            ],\n",
    "            \"domains\": [1, 2, 3, 4],\n",
    "            \"num_examples_per_domain_per_label\": -1,\n",
    "            \"pickle_path\": \"/root/csc500-main/datasets/wisig.node3-19.stratified_ds.2022A.pkl\",\n",
    "            \"source_or_target_dataset\": \"source\",\n",
    "            \"x_transforms\": [\"unit_mag\"],\n",
    "            \"episode_transforms\": [],\n",
    "            \"domain_prefix\": \"Wisig_\",\n",
    "        },\n",
    "        {\n",
    "            \"labels\": [\n",
    "                \"3123D52\",\n",
    "                \"3123D65\",\n",
    "                \"3123D79\",\n",
    "                \"3123D80\",\n",
    "                \"3123D54\",\n",
    "                \"3123D70\",\n",
    "                \"3123D7B\",\n",
    "                \"3123D89\",\n",
    "                \"3123D58\",\n",
    "                \"3123D76\",\n",
    "                \"3123D7D\",\n",
    "                \"3123EFE\",\n",
    "                \"3123D64\",\n",
    "                \"3123D78\",\n",
    "                \"3123D7E\",\n",
    "                \"3124E4A\",\n",
    "            ],\n",
    "            \"domains\": [32, 38, 8, 44, 14, 50, 20, 26],\n",
    "            \"num_examples_per_domain_per_label\": 10000,\n",
    "            \"pickle_path\": \"/root/csc500-main/datasets/oracle.Run1_10kExamples_stratified_ds.2022A.pkl\",\n",
    "            \"source_or_target_dataset\": \"target\",\n",
    "            \"x_transforms\": [\"unit_mag\"],\n",
    "            \"episode_transforms\": [],\n",
    "            \"domain_prefix\": \"ORACLE.run1\",\n",
    "        },\n",
    "    ],\n",
    "    \"dataset_seed\": 500,\n",
    "    \"seed\": 500,\n",
    "}\n"
   ]
  },
  {
   "cell_type": "code",
   "execution_count": 5,
   "id": "8fa1cc33",
   "metadata": {
    "execution": {
     "iopub.execute_input": "2022-03-24T06:33:35.586821Z",
     "iopub.status.busy": "2022-03-24T06:33:35.580669Z",
     "iopub.status.idle": "2022-03-24T06:33:35.596775Z",
     "shell.execute_reply": "2022-03-24T06:33:35.596047Z"
    },
    "papermill": {
     "duration": 0.043217,
     "end_time": "2022-03-24T06:33:35.596950",
     "exception": false,
     "start_time": "2022-03-24T06:33:35.553733",
     "status": "completed"
    },
    "tags": []
   },
   "outputs": [],
   "source": [
    "# Set this to True if you want to run this template directly\n",
    "STANDALONE = False\n",
    "if STANDALONE:\n",
    "    print(\"parameters not injected, running with standalone_parameters\")\n",
    "    parameters = standalone_parameters\n",
    "\n",
    "if not 'parameters' in locals() and not 'parameters' in globals():\n",
    "    raise Exception(\"Parameter injection failed\")\n",
    "\n",
    "#Use an easy dict for all the parameters\n",
    "p = EasyDict(parameters)\n",
    "\n",
    "if \"x_shape\" not in p:\n",
    "    p.x_shape = [2,256] # Default to this if we dont supply x_shape\n",
    "\n",
    "\n",
    "supplied_keys = set(p.keys())\n",
    "\n",
    "if  supplied_keys != required_parameters:\n",
    "    print(\"Parameters are incorrect\")\n",
    "    if len(supplied_keys - required_parameters)>0: print(\"Shouldn't have:\", str(supplied_keys - required_parameters))\n",
    "    if len(required_parameters - supplied_keys)>0: print(\"Need to have:\", str(required_parameters - supplied_keys))\n",
    "    raise RuntimeError(\"Parameters are incorrect\")"
   ]
  },
  {
   "cell_type": "code",
   "execution_count": 6,
   "id": "3a028d58",
   "metadata": {
    "execution": {
     "iopub.execute_input": "2022-03-24T06:33:35.660648Z",
     "iopub.status.busy": "2022-03-24T06:33:35.648782Z",
     "iopub.status.idle": "2022-03-24T06:33:35.665788Z",
     "shell.execute_reply": "2022-03-24T06:33:35.665067Z"
    },
    "papermill": {
     "duration": 0.043944,
     "end_time": "2022-03-24T06:33:35.665962",
     "exception": false,
     "start_time": "2022-03-24T06:33:35.622018",
     "status": "completed"
    },
    "tags": []
   },
   "outputs": [],
   "source": [
    "###################################\n",
    "# Set the RNGs and make it all deterministic\n",
    "###################################\n",
    "np.random.seed(p.seed)\n",
    "random.seed(p.seed)\n",
    "torch.manual_seed(p.seed)\n",
    "\n",
    "torch.use_deterministic_algorithms(True) "
   ]
  },
  {
   "cell_type": "code",
   "execution_count": 7,
   "id": "b691acf6",
   "metadata": {
    "execution": {
     "iopub.execute_input": "2022-03-24T06:33:35.714418Z",
     "iopub.status.busy": "2022-03-24T06:33:35.714011Z",
     "iopub.status.idle": "2022-03-24T06:33:35.731965Z",
     "shell.execute_reply": "2022-03-24T06:33:35.731194Z"
    },
    "papermill": {
     "duration": 0.040487,
     "end_time": "2022-03-24T06:33:35.732137",
     "exception": false,
     "start_time": "2022-03-24T06:33:35.691650",
     "status": "completed"
    },
    "tags": []
   },
   "outputs": [],
   "source": [
    "###########################################\n",
    "# The stratified datasets honor this\n",
    "###########################################\n",
    "torch.set_default_dtype(eval(p.torch_default_dtype))"
   ]
  },
  {
   "cell_type": "code",
   "execution_count": 8,
   "id": "b5fba671",
   "metadata": {
    "execution": {
     "iopub.execute_input": "2022-03-24T06:33:35.780184Z",
     "iopub.status.busy": "2022-03-24T06:33:35.779810Z",
     "iopub.status.idle": "2022-03-24T06:33:35.831179Z",
     "shell.execute_reply": "2022-03-24T06:33:35.830429Z"
    },
    "papermill": {
     "duration": 0.07306,
     "end_time": "2022-03-24T06:33:35.831357",
     "exception": false,
     "start_time": "2022-03-24T06:33:35.758297",
     "status": "completed"
    },
    "tags": []
   },
   "outputs": [],
   "source": [
    "###################################\n",
    "# Build the network(s)\n",
    "# Note: It's critical to do this AFTER setting the RNG\n",
    "###################################\n",
    "x_net = build_sequential(p.x_net)"
   ]
  },
  {
   "cell_type": "code",
   "execution_count": 9,
   "id": "5d7e61cc",
   "metadata": {
    "execution": {
     "iopub.execute_input": "2022-03-24T06:33:35.879474Z",
     "iopub.status.busy": "2022-03-24T06:33:35.878395Z",
     "iopub.status.idle": "2022-03-24T06:33:35.901279Z",
     "shell.execute_reply": "2022-03-24T06:33:35.900434Z"
    },
    "papermill": {
     "duration": 0.045743,
     "end_time": "2022-03-24T06:33:35.901678",
     "exception": false,
     "start_time": "2022-03-24T06:33:35.855935",
     "status": "completed"
    },
    "tags": []
   },
   "outputs": [],
   "source": [
    "start_time_secs = time.time()"
   ]
  },
  {
   "cell_type": "code",
   "execution_count": 10,
   "id": "c6b67dfd",
   "metadata": {
    "execution": {
     "iopub.execute_input": "2022-03-24T06:33:35.951013Z",
     "iopub.status.busy": "2022-03-24T06:33:35.950633Z",
     "iopub.status.idle": "2022-03-24T06:33:35.967926Z",
     "shell.execute_reply": "2022-03-24T06:33:35.967065Z"
    },
    "papermill": {
     "duration": 0.040452,
     "end_time": "2022-03-24T06:33:35.968097",
     "exception": false,
     "start_time": "2022-03-24T06:33:35.927645",
     "status": "completed"
    },
    "tags": []
   },
   "outputs": [],
   "source": [
    "p.domains_source = []\n",
    "p.domains_target = []\n",
    "\n",
    "\n",
    "train_original_source = []\n",
    "val_original_source   = []\n",
    "test_original_source  = []\n",
    "\n",
    "train_original_target = []\n",
    "val_original_target   = []\n",
    "test_original_target  = []"
   ]
  },
  {
   "cell_type": "code",
   "execution_count": 11,
   "id": "e3d9c3d3",
   "metadata": {
    "execution": {
     "iopub.execute_input": "2022-03-24T06:33:36.019183Z",
     "iopub.status.busy": "2022-03-24T06:33:36.018809Z",
     "iopub.status.idle": "2022-03-24T06:33:36.035933Z",
     "shell.execute_reply": "2022-03-24T06:33:36.035099Z"
    },
    "papermill": {
     "duration": 0.039114,
     "end_time": "2022-03-24T06:33:36.036102",
     "exception": false,
     "start_time": "2022-03-24T06:33:35.996988",
     "status": "completed"
    },
    "tags": []
   },
   "outputs": [],
   "source": [
    "# global_x_transform_func = lambda x: normalize(x.to(torch.get_default_dtype()), \"unit_power\") # unit_power, unit_mag\n",
    "# global_x_transform_func = lambda x: normalize(x, \"unit_power\") # unit_power, unit_mag"
   ]
  },
  {
   "cell_type": "code",
   "execution_count": 12,
   "id": "acb78fd2",
   "metadata": {
    "execution": {
     "iopub.execute_input": "2022-03-24T06:33:36.091333Z",
     "iopub.status.busy": "2022-03-24T06:33:36.090737Z",
     "iopub.status.idle": "2022-03-24T06:33:36.108644Z",
     "shell.execute_reply": "2022-03-24T06:33:36.107825Z"
    },
    "papermill": {
     "duration": 0.044276,
     "end_time": "2022-03-24T06:33:36.108812",
     "exception": false,
     "start_time": "2022-03-24T06:33:36.064536",
     "status": "completed"
    },
    "tags": []
   },
   "outputs": [],
   "source": [
    "def add_dataset(\n",
    "    labels,\n",
    "    domains,\n",
    "    pickle_path,\n",
    "    x_transforms,\n",
    "    episode_transforms,\n",
    "    domain_prefix,\n",
    "    num_examples_per_domain_per_label,\n",
    "    source_or_target_dataset:str,\n",
    "    iterator_seed=p.seed,\n",
    "    dataset_seed=p.dataset_seed,\n",
    "    n_shot=p.n_shot,\n",
    "    n_way=p.n_way,\n",
    "    n_query=p.n_query,\n",
    "    train_val_test_k_factors=(p.train_k_factor,p.val_k_factor,p.test_k_factor),\n",
    "):\n",
    "   \n",
    "    if x_transforms == []: x_transform = None\n",
    "    else: x_transform = get_chained_transform(x_transforms)\n",
    "    \n",
    "    if episode_transforms == []: episode_transform = None\n",
    "    else: raise Exception(\"episode_transforms not implemented\")\n",
    "    \n",
    "    episode_transform = lambda tup, _prefix=domain_prefix: (_prefix + str(tup[0]), tup[1])\n",
    "\n",
    "\n",
    "    eaf = Episodic_Accessor_Factory(\n",
    "        labels=labels,\n",
    "        domains=domains,\n",
    "        num_examples_per_domain_per_label=num_examples_per_domain_per_label,\n",
    "        iterator_seed=iterator_seed,\n",
    "        dataset_seed=dataset_seed,\n",
    "        n_shot=n_shot,\n",
    "        n_way=n_way,\n",
    "        n_query=n_query,\n",
    "        train_val_test_k_factors=train_val_test_k_factors,\n",
    "        pickle_path=pickle_path,\n",
    "        x_transform_func=x_transform,\n",
    "    )\n",
    "\n",
    "    train, val, test = eaf.get_train(), eaf.get_val(), eaf.get_test()\n",
    "    train = Lazy_Iterable_Wrapper(train, episode_transform)\n",
    "    val = Lazy_Iterable_Wrapper(val, episode_transform)\n",
    "    test = Lazy_Iterable_Wrapper(test, episode_transform)\n",
    "\n",
    "    if source_or_target_dataset==\"source\":\n",
    "        train_original_source.append(train)\n",
    "        val_original_source.append(val)\n",
    "        test_original_source.append(test)\n",
    "\n",
    "        p.domains_source.extend(\n",
    "            [domain_prefix + str(u) for u in domains]\n",
    "        )\n",
    "    elif source_or_target_dataset==\"target\":\n",
    "        train_original_target.append(train)\n",
    "        val_original_target.append(val)\n",
    "        test_original_target.append(test)\n",
    "        p.domains_target.extend(\n",
    "            [domain_prefix + str(u) for u in domains]\n",
    "        )\n",
    "    else:\n",
    "        raise Exception(f\"invalid source_or_target_dataset: {source_or_target_dataset}\")\n",
    "    "
   ]
  },
  {
   "cell_type": "code",
   "execution_count": 13,
   "id": "fe266617",
   "metadata": {
    "execution": {
     "iopub.execute_input": "2022-03-24T06:33:36.157953Z",
     "iopub.status.busy": "2022-03-24T06:33:36.157587Z",
     "iopub.status.idle": "2022-03-24T06:35:43.681896Z",
     "shell.execute_reply": "2022-03-24T06:35:43.681102Z"
    },
    "papermill": {
     "duration": 127.547381,
     "end_time": "2022-03-24T06:35:43.682086",
     "exception": false,
     "start_time": "2022-03-24T06:33:36.134705",
     "status": "completed"
    },
    "tags": []
   },
   "outputs": [],
   "source": [
    "for ds in p.datasets:\n",
    "    add_dataset(**ds)"
   ]
  },
  {
   "cell_type": "code",
   "execution_count": 14,
   "id": "b90d65ac",
   "metadata": {
    "execution": {
     "iopub.execute_input": "2022-03-24T06:35:43.734185Z",
     "iopub.status.busy": "2022-03-24T06:35:43.733808Z",
     "iopub.status.idle": "2022-03-24T06:35:43.759369Z",
     "shell.execute_reply": "2022-03-24T06:35:43.758668Z"
    },
    "papermill": {
     "duration": 0.04908,
     "end_time": "2022-03-24T06:35:43.759522",
     "exception": false,
     "start_time": "2022-03-24T06:35:43.710442",
     "status": "completed"
    },
    "tags": []
   },
   "outputs": [],
   "source": [
    "# from steves_utils.CORES.utils import (\n",
    "#     ALL_NODES,\n",
    "#     ALL_NODES_MINIMUM_1000_EXAMPLES,\n",
    "#     ALL_DAYS\n",
    "# )\n",
    "\n",
    "# add_dataset(\n",
    "#     labels=ALL_NODES,\n",
    "#     domains = ALL_DAYS,\n",
    "#     num_examples_per_domain_per_label=100,\n",
    "#     pickle_path=os.path.join(get_datasets_base_path(), \"cores.stratified_ds.2022A.pkl\"),\n",
    "#     source_or_target_dataset=\"target\",\n",
    "#     x_transform_func=global_x_transform_func,\n",
    "#     domain_modifier=lambda u: f\"cores_{u}\"\n",
    "# )"
   ]
  },
  {
   "cell_type": "code",
   "execution_count": 15,
   "id": "76db484d",
   "metadata": {
    "execution": {
     "iopub.execute_input": "2022-03-24T06:35:43.810279Z",
     "iopub.status.busy": "2022-03-24T06:35:43.809911Z",
     "iopub.status.idle": "2022-03-24T06:35:43.826712Z",
     "shell.execute_reply": "2022-03-24T06:35:43.826002Z"
    },
    "papermill": {
     "duration": 0.038563,
     "end_time": "2022-03-24T06:35:43.826867",
     "exception": false,
     "start_time": "2022-03-24T06:35:43.788304",
     "status": "completed"
    },
    "tags": []
   },
   "outputs": [],
   "source": [
    "# from steves_utils.ORACLE.utils_v2 import (\n",
    "#     ALL_DISTANCES_FEET,\n",
    "#     ALL_RUNS,\n",
    "#     ALL_SERIAL_NUMBERS,\n",
    "# )\n",
    "\n",
    "\n",
    "# add_dataset(\n",
    "#     labels=ALL_SERIAL_NUMBERS,\n",
    "#     domains = list(set(ALL_DISTANCES_FEET) - {2,62}),\n",
    "#     num_examples_per_domain_per_label=100,\n",
    "#     pickle_path=os.path.join(get_datasets_base_path(), \"oracle.Run2_framed_2000Examples_stratified_ds.2022A.pkl\"),\n",
    "#     source_or_target_dataset=\"source\",\n",
    "#     x_transform_func=global_x_transform_func,\n",
    "#     domain_modifier=lambda u: f\"oracle1_{u}\"\n",
    "# )\n"
   ]
  },
  {
   "cell_type": "code",
   "execution_count": 16,
   "id": "97dea9d2",
   "metadata": {
    "execution": {
     "iopub.execute_input": "2022-03-24T06:35:43.876533Z",
     "iopub.status.busy": "2022-03-24T06:35:43.876133Z",
     "iopub.status.idle": "2022-03-24T06:35:43.896141Z",
     "shell.execute_reply": "2022-03-24T06:35:43.895417Z"
    },
    "papermill": {
     "duration": 0.042198,
     "end_time": "2022-03-24T06:35:43.896293",
     "exception": false,
     "start_time": "2022-03-24T06:35:43.854095",
     "status": "completed"
    },
    "tags": []
   },
   "outputs": [],
   "source": [
    "# from steves_utils.ORACLE.utils_v2 import (\n",
    "#     ALL_DISTANCES_FEET,\n",
    "#     ALL_RUNS,\n",
    "#     ALL_SERIAL_NUMBERS,\n",
    "# )\n",
    "\n",
    "\n",
    "# add_dataset(\n",
    "#     labels=ALL_SERIAL_NUMBERS,\n",
    "#     domains = list(set(ALL_DISTANCES_FEET) - {2,62,56}),\n",
    "#     num_examples_per_domain_per_label=100,\n",
    "#     pickle_path=os.path.join(get_datasets_base_path(), \"oracle.Run2_framed_2000Examples_stratified_ds.2022A.pkl\"),\n",
    "#     source_or_target_dataset=\"source\",\n",
    "#     x_transform_func=global_x_transform_func,\n",
    "#     domain_modifier=lambda u: f\"oracle2_{u}\"\n",
    "# )"
   ]
  },
  {
   "cell_type": "code",
   "execution_count": 17,
   "id": "6f289866",
   "metadata": {
    "execution": {
     "iopub.execute_input": "2022-03-24T06:35:43.942831Z",
     "iopub.status.busy": "2022-03-24T06:35:43.942465Z",
     "iopub.status.idle": "2022-03-24T06:35:43.965219Z",
     "shell.execute_reply": "2022-03-24T06:35:43.964520Z"
    },
    "papermill": {
     "duration": 0.0449,
     "end_time": "2022-03-24T06:35:43.965371",
     "exception": false,
     "start_time": "2022-03-24T06:35:43.920471",
     "status": "completed"
    },
    "tags": []
   },
   "outputs": [],
   "source": [
    "# add_dataset(\n",
    "#     labels=list(range(19)),\n",
    "#     domains = [0,1,2],\n",
    "#     num_examples_per_domain_per_label=100,\n",
    "#     pickle_path=os.path.join(get_datasets_base_path(), \"metehan.stratified_ds.2022A.pkl\"),\n",
    "#     source_or_target_dataset=\"target\",\n",
    "#     x_transform_func=global_x_transform_func,\n",
    "#     domain_modifier=lambda u: f\"met_{u}\"\n",
    "# )"
   ]
  },
  {
   "cell_type": "code",
   "execution_count": 18,
   "id": "86a863c3",
   "metadata": {
    "execution": {
     "iopub.execute_input": "2022-03-24T06:35:44.014913Z",
     "iopub.status.busy": "2022-03-24T06:35:44.014385Z",
     "iopub.status.idle": "2022-03-24T06:35:44.035009Z",
     "shell.execute_reply": "2022-03-24T06:35:44.034309Z"
    },
    "papermill": {
     "duration": 0.04386,
     "end_time": "2022-03-24T06:35:44.035162",
     "exception": false,
     "start_time": "2022-03-24T06:35:43.991302",
     "status": "completed"
    },
    "tags": []
   },
   "outputs": [],
   "source": [
    "# # from steves_utils.wisig.utils import (\n",
    "# #     ALL_NODES_MINIMUM_100_EXAMPLES,\n",
    "# #     ALL_NODES_MINIMUM_500_EXAMPLES,\n",
    "# #     ALL_NODES_MINIMUM_1000_EXAMPLES,\n",
    "# #     ALL_DAYS\n",
    "# # )\n",
    "\n",
    "# import steves_utils.wisig.utils as wisig\n",
    "\n",
    "\n",
    "# add_dataset(\n",
    "#     labels=wisig.ALL_NODES_MINIMUM_100_EXAMPLES,\n",
    "#     domains = wisig.ALL_DAYS,\n",
    "#     num_examples_per_domain_per_label=100,\n",
    "#     pickle_path=os.path.join(get_datasets_base_path(), \"wisig.node3-19.stratified_ds.2022A.pkl\"),\n",
    "#     source_or_target_dataset=\"target\",\n",
    "#     x_transform_func=global_x_transform_func,\n",
    "#     domain_modifier=lambda u: f\"wisig_{u}\"\n",
    "# )"
   ]
  },
  {
   "cell_type": "code",
   "execution_count": 19,
   "id": "fd5442bc",
   "metadata": {
    "execution": {
     "iopub.execute_input": "2022-03-24T06:35:44.085608Z",
     "iopub.status.busy": "2022-03-24T06:35:44.085031Z",
     "iopub.status.idle": "2022-03-24T06:35:44.103109Z",
     "shell.execute_reply": "2022-03-24T06:35:44.102408Z"
    },
    "papermill": {
     "duration": 0.042958,
     "end_time": "2022-03-24T06:35:44.103263",
     "exception": false,
     "start_time": "2022-03-24T06:35:44.060305",
     "status": "completed"
    },
    "tags": []
   },
   "outputs": [],
   "source": [
    "###################################\n",
    "# Build the dataset\n",
    "###################################\n",
    "train_original_source = Iterable_Aggregator(train_original_source, p.seed)\n",
    "val_original_source = Iterable_Aggregator(val_original_source, p.seed)\n",
    "test_original_source = Iterable_Aggregator(test_original_source, p.seed)\n",
    "\n",
    "\n",
    "train_original_target = Iterable_Aggregator(train_original_target, p.seed)\n",
    "val_original_target = Iterable_Aggregator(val_original_target, p.seed)\n",
    "test_original_target = Iterable_Aggregator(test_original_target, p.seed)\n",
    "\n",
    "# For CNN We only use X and Y. And we only train on the source.\n",
    "# Properly form the data using a transform lambda and Lazy_Iterable_Wrapper. Finally wrap them in a dataloader\n",
    "\n",
    "transform_lambda = lambda ex: ex[1] # Original is (<domain>, <episode>) so we strip down to episode only\n",
    "\n",
    "train_processed_source = Lazy_Iterable_Wrapper(train_original_source, transform_lambda)\n",
    "val_processed_source   = Lazy_Iterable_Wrapper(val_original_source, transform_lambda)\n",
    "test_processed_source  = Lazy_Iterable_Wrapper(test_original_source, transform_lambda)\n",
    "\n",
    "train_processed_target = Lazy_Iterable_Wrapper(train_original_target, transform_lambda)\n",
    "val_processed_target   = Lazy_Iterable_Wrapper(val_original_target, transform_lambda)\n",
    "test_processed_target  = Lazy_Iterable_Wrapper(test_original_target, transform_lambda)\n",
    "\n",
    "datasets = EasyDict({\n",
    "    \"source\": {\n",
    "        \"original\": {\"train\":train_original_source, \"val\":val_original_source, \"test\":test_original_source},\n",
    "        \"processed\": {\"train\":train_processed_source, \"val\":val_processed_source, \"test\":test_processed_source}\n",
    "    },\n",
    "    \"target\": {\n",
    "        \"original\": {\"train\":train_original_target, \"val\":val_original_target, \"test\":test_original_target},\n",
    "        \"processed\": {\"train\":train_processed_target, \"val\":val_processed_target, \"test\":test_processed_target}\n",
    "    },\n",
    "})"
   ]
  },
  {
   "cell_type": "code",
   "execution_count": 20,
   "id": "5b3c01fc",
   "metadata": {
    "execution": {
     "iopub.execute_input": "2022-03-24T06:35:44.156149Z",
     "iopub.status.busy": "2022-03-24T06:35:44.155782Z",
     "iopub.status.idle": "2022-03-24T06:36:17.510158Z",
     "shell.execute_reply": "2022-03-24T06:36:17.509409Z"
    },
    "papermill": {
     "duration": 33.379467,
     "end_time": "2022-03-24T06:36:17.510333",
     "exception": false,
     "start_time": "2022-03-24T06:35:44.130866",
     "status": "completed"
    },
    "tags": []
   },
   "outputs": [
    {
     "name": "stdout",
     "output_type": "stream",
     "text": [
      "{'Wisig_3', 'Wisig_2', 'Wisig_1', 'Wisig_4'}\n"
     ]
    },
    {
     "name": "stdout",
     "output_type": "stream",
     "text": [
      "{'ORACLE.run18', 'ORACLE.run144', 'ORACLE.run114', 'ORACLE.run126', 'ORACLE.run120', 'ORACLE.run138', 'ORACLE.run132', 'ORACLE.run150'}\n"
     ]
    },
    {
     "name": "stdout",
     "output_type": "stream",
     "text": [
      "tensor([[[ 1.2278e+00, -1.8934e-01,  6.8033e-02,  ...,  1.4056e-01,\n",
      "           1.6367e-01,  3.6199e-01],\n",
      "         [ 5.5261e-01,  8.1768e-01,  2.8304e-01,  ...,  1.4056e-01,\n",
      "           2.5480e-01, -5.1346e-02]],\n",
      "\n",
      "        [[-3.7891e-01,  5.0957e-01,  1.4372e-01,  ..., -1.6986e-01,\n",
      "           4.2272e-02, -2.2904e-01],\n",
      "         [-1.4034e+00, -3.0590e-01,  2.4595e-02,  ..., -2.7362e-01,\n",
      "          -8.6081e-02, -1.4757e-01]],\n",
      "\n",
      "        [[ 5.6680e-01, -4.7126e-02,  1.2524e-01,  ...,  2.2788e-01,\n",
      "           9.4252e-02,  5.1968e-01],\n",
      "         [ 7.8048e-01,  1.8721e-01, -1.0006e-01,  ...,  2.0658e-02,\n",
      "          -6.7138e-02, -6.8429e-01]],\n",
      "\n",
      "        ...,\n",
      "\n",
      "        [[-5.4562e-01,  6.3145e-01,  1.0030e+00,  ..., -4.8431e-01,\n",
      "          -1.1648e+00,  3.7028e-01],\n",
      "         [-6.7313e-01, -9.7353e-01,  4.3159e-01,  ...,  7.8226e-01,\n",
      "           1.2261e-03, -8.0800e-01]],\n",
      "\n",
      "        [[ 1.3243e+00, -1.1278e-01, -9.3461e-01,  ..., -6.4764e-02,\n",
      "           1.0429e+00,  8.8325e-01],\n",
      "         [ 6.3424e-01,  1.3377e+00,  1.5744e-01,  ..., -1.2729e+00,\n",
      "          -1.0474e+00, -1.3399e-02]],\n",
      "\n",
      "        [[ 2.9981e-01, -5.7755e-01, -7.9949e-01,  ..., -3.7509e-01,\n",
      "           2.1545e-01, -4.3609e-01],\n",
      "         [ 1.8560e-01,  9.0592e-01, -6.1130e-01,  ...,  1.8949e-01,\n",
      "           5.9962e-01,  8.3324e-01]]])\n"
     ]
    }
   ],
   "source": [
    "from steves_utils.transforms import get_average_magnitude, get_average_power\n",
    "\n",
    "print(set([u for u,_ in val_original_source]))\n",
    "print(set([u for u,_ in val_original_target]))\n",
    "\n",
    "s_x, s_y, q_x, q_y, _ = next(iter(train_processed_source))\n",
    "print(s_x)\n",
    "\n",
    "# for ds in [\n",
    "#     train_processed_source,\n",
    "#     val_processed_source,\n",
    "#     test_processed_source,\n",
    "#     train_processed_target,\n",
    "#     val_processed_target,\n",
    "#     test_processed_target\n",
    "# ]:\n",
    "#     for s_x, s_y, q_x, q_y, _ in ds:\n",
    "#         for X in (s_x, q_x):\n",
    "#             for x in X:\n",
    "#                 assert np.isclose(get_average_magnitude(x.numpy()), 1.0)\n",
    "#                 assert np.isclose(get_average_power(x.numpy()), 1.0)\n",
    "                "
   ]
  },
  {
   "cell_type": "code",
   "execution_count": 21,
   "id": "bbdacba1",
   "metadata": {
    "execution": {
     "iopub.execute_input": "2022-03-24T06:36:17.564388Z",
     "iopub.status.busy": "2022-03-24T06:36:17.562416Z",
     "iopub.status.idle": "2022-03-24T06:36:17.779476Z",
     "shell.execute_reply": "2022-03-24T06:36:17.780168Z"
    },
    "papermill": {
     "duration": 0.24473,
     "end_time": "2022-03-24T06:36:17.780411",
     "exception": false,
     "start_time": "2022-03-24T06:36:17.535681",
     "status": "completed"
    },
    "tags": []
   },
   "outputs": [
    {
     "name": "stdout",
     "output_type": "stream",
     "text": [
      "(2, 256)\n"
     ]
    }
   ],
   "source": [
    "###################################\n",
    "# Build the model\n",
    "###################################\n",
    "# easfsl only wants a tuple for the shape\n",
    "model = Steves_Prototypical_Network(x_net, device=p.device, x_shape=tuple(p.x_shape))\n",
    "optimizer = Adam(params=model.parameters(), lr=p.lr)"
   ]
  },
  {
   "cell_type": "code",
   "execution_count": 22,
   "id": "22b39ac5",
   "metadata": {
    "execution": {
     "iopub.execute_input": "2022-03-24T06:36:17.834280Z",
     "iopub.status.busy": "2022-03-24T06:36:17.833901Z",
     "iopub.status.idle": "2022-03-24T07:04:20.582154Z",
     "shell.execute_reply": "2022-03-24T07:04:20.581700Z"
    },
    "papermill": {
     "duration": 1682.77511,
     "end_time": "2022-03-24T07:04:20.582250",
     "exception": false,
     "start_time": "2022-03-24T06:36:17.807140",
     "status": "completed"
    },
    "tags": []
   },
   "outputs": [
    {
     "name": "stdout",
     "output_type": "stream",
     "text": [
      "epoch: 1, [batch: 1 / 6843], examples_per_second: 29.0503, train_label_loss: 2.6616, \n"
     ]
    },
    {
     "name": "stdout",
     "output_type": "stream",
     "text": [
      "epoch: 1, [batch: 685 / 6843], examples_per_second: 3564.3559, train_label_loss: 0.4947, \n"
     ]
    },
    {
     "name": "stdout",
     "output_type": "stream",
     "text": [
      "epoch: 1, [batch: 1369 / 6843], examples_per_second: 3945.0909, train_label_loss: 0.3609, \n"
     ]
    },
    {
     "name": "stdout",
     "output_type": "stream",
     "text": [
      "epoch: 1, [batch: 2053 / 6843], examples_per_second: 3298.9118, train_label_loss: 0.0093, \n"
     ]
    },
    {
     "name": "stdout",
     "output_type": "stream",
     "text": [
      "epoch: 1, [batch: 2737 / 6843], examples_per_second: 2941.7354, train_label_loss: 0.2251, \n"
     ]
    },
    {
     "name": "stdout",
     "output_type": "stream",
     "text": [
      "epoch: 1, [batch: 3422 / 6843], examples_per_second: 2997.2623, train_label_loss: 0.4158, \n"
     ]
    },
    {
     "name": "stdout",
     "output_type": "stream",
     "text": [
      "epoch: 1, [batch: 4106 / 6843], examples_per_second: 2979.6469, train_label_loss: 0.1881, \n"
     ]
    },
    {
     "name": "stdout",
     "output_type": "stream",
     "text": [
      "epoch: 1, [batch: 4790 / 6843], examples_per_second: 3048.8676, train_label_loss: 0.5805, \n"
     ]
    },
    {
     "name": "stdout",
     "output_type": "stream",
     "text": [
      "epoch: 1, [batch: 5474 / 6843], examples_per_second: 2981.2632, train_label_loss: 0.0907, \n"
     ]
    },
    {
     "name": "stdout",
     "output_type": "stream",
     "text": [
      "epoch: 1, [batch: 6158 / 6843], examples_per_second: 2999.5439, train_label_loss: 0.3154, \n"
     ]
    },
    {
     "name": "stdout",
     "output_type": "stream",
     "text": [
      "=============================================================\n",
      "epoch: 1, source_val_acc_label: 0.9610, target_val_acc_label: 0.1195, source_val_label_loss: 0.1670, target_val_label_loss: 2.6847, \n",
      "=============================================================\n"
     ]
    },
    {
     "name": "stdout",
     "output_type": "stream",
     "text": [
      "New best\n"
     ]
    },
    {
     "name": "stdout",
     "output_type": "stream",
     "text": [
      "epoch: 2, [batch: 1 / 6824], examples_per_second: 1.2630, train_label_loss: 0.0276, \n"
     ]
    },
    {
     "name": "stdout",
     "output_type": "stream",
     "text": [
      "epoch: 2, [batch: 683 / 6824], examples_per_second: 2966.8288, train_label_loss: 0.1874, \n"
     ]
    },
    {
     "name": "stdout",
     "output_type": "stream",
     "text": [
      "epoch: 2, [batch: 1365 / 6824], examples_per_second: 3000.1265, train_label_loss: 0.1988, \n"
     ]
    },
    {
     "name": "stdout",
     "output_type": "stream",
     "text": [
      "epoch: 2, [batch: 2047 / 6824], examples_per_second: 3056.4083, train_label_loss: 0.1806, \n"
     ]
    },
    {
     "name": "stdout",
     "output_type": "stream",
     "text": [
      "epoch: 2, [batch: 2730 / 6824], examples_per_second: 2993.7121, train_label_loss: 0.0145, \n"
     ]
    },
    {
     "name": "stdout",
     "output_type": "stream",
     "text": [
      "epoch: 2, [batch: 3412 / 6824], examples_per_second: 3008.6917, train_label_loss: 0.0177, \n"
     ]
    },
    {
     "name": "stdout",
     "output_type": "stream",
     "text": [
      "epoch: 2, [batch: 4094 / 6824], examples_per_second: 2974.8243, train_label_loss: 0.0209, \n"
     ]
    },
    {
     "name": "stdout",
     "output_type": "stream",
     "text": [
      "epoch: 2, [batch: 4777 / 6824], examples_per_second: 3009.2756, train_label_loss: 0.0765, \n"
     ]
    },
    {
     "name": "stdout",
     "output_type": "stream",
     "text": [
      "epoch: 2, [batch: 5459 / 6824], examples_per_second: 3096.9039, train_label_loss: 0.0159, \n"
     ]
    },
    {
     "name": "stdout",
     "output_type": "stream",
     "text": [
      "epoch: 2, [batch: 6141 / 6824], examples_per_second: 3010.1696, train_label_loss: 0.0703, \n"
     ]
    },
    {
     "name": "stdout",
     "output_type": "stream",
     "text": [
      "=============================================================\n",
      "epoch: 2, source_val_acc_label: 0.9691, target_val_acc_label: 0.1208, source_val_label_loss: 0.1352, target_val_label_loss: 2.6674, \n",
      "=============================================================\n"
     ]
    },
    {
     "name": "stdout",
     "output_type": "stream",
     "text": [
      "New best\n"
     ]
    },
    {
     "name": "stdout",
     "output_type": "stream",
     "text": [
      "epoch: 3, [batch: 1 / 6845], examples_per_second: 1.2505, train_label_loss: 0.0271, \n"
     ]
    },
    {
     "name": "stdout",
     "output_type": "stream",
     "text": [
      "epoch: 3, [batch: 685 / 6845], examples_per_second: 3004.8856, train_label_loss: 0.0139, \n"
     ]
    },
    {
     "name": "stdout",
     "output_type": "stream",
     "text": [
      "epoch: 3, [batch: 1369 / 6845], examples_per_second: 3134.6924, train_label_loss: 0.1762, \n"
     ]
    },
    {
     "name": "stdout",
     "output_type": "stream",
     "text": [
      "epoch: 3, [batch: 2054 / 6845], examples_per_second: 3036.8031, train_label_loss: 0.0773, \n"
     ]
    },
    {
     "name": "stdout",
     "output_type": "stream",
     "text": [
      "epoch: 3, [batch: 2738 / 6845], examples_per_second: 3041.0379, train_label_loss: 0.0109, \n"
     ]
    },
    {
     "name": "stdout",
     "output_type": "stream",
     "text": [
      "epoch: 3, [batch: 3423 / 6845], examples_per_second: 3026.0433, train_label_loss: 0.1676, \n"
     ]
    },
    {
     "name": "stdout",
     "output_type": "stream",
     "text": [
      "epoch: 3, [batch: 4107 / 6845], examples_per_second: 2984.5270, train_label_loss: 0.0113, \n"
     ]
    },
    {
     "name": "stdout",
     "output_type": "stream",
     "text": [
      "epoch: 3, [batch: 4791 / 6845], examples_per_second: 3304.7410, train_label_loss: 0.0675, \n"
     ]
    },
    {
     "name": "stdout",
     "output_type": "stream",
     "text": [
      "epoch: 3, [batch: 5476 / 6845], examples_per_second: 3416.8512, train_label_loss: 0.0063, \n"
     ]
    },
    {
     "name": "stdout",
     "output_type": "stream",
     "text": [
      "epoch: 3, [batch: 6160 / 6845], examples_per_second: 3396.6053, train_label_loss: 0.1307, \n"
     ]
    },
    {
     "name": "stdout",
     "output_type": "stream",
     "text": [
      "=============================================================\n",
      "epoch: 3, source_val_acc_label: 0.9715, target_val_acc_label: 0.1129, source_val_label_loss: 0.1192, target_val_label_loss: 2.7183, \n",
      "=============================================================\n"
     ]
    },
    {
     "name": "stdout",
     "output_type": "stream",
     "text": [
      "epoch: 4, [batch: 1 / 6840], examples_per_second: 1.5573, train_label_loss: 0.0094, \n"
     ]
    },
    {
     "name": "stdout",
     "output_type": "stream",
     "text": [
      "epoch: 4, [batch: 684 / 6840], examples_per_second: 2987.1027, train_label_loss: 0.2221, \n"
     ]
    },
    {
     "name": "stdout",
     "output_type": "stream",
     "text": [
      "epoch: 4, [batch: 1368 / 6840], examples_per_second: 3085.3532, train_label_loss: 0.0459, \n"
     ]
    },
    {
     "name": "stdout",
     "output_type": "stream",
     "text": [
      "epoch: 4, [batch: 2052 / 6840], examples_per_second: 3369.9717, train_label_loss: 0.0017, \n"
     ]
    },
    {
     "name": "stdout",
     "output_type": "stream",
     "text": [
      "epoch: 4, [batch: 2736 / 6840], examples_per_second: 3341.4225, train_label_loss: 0.2149, \n"
     ]
    },
    {
     "name": "stdout",
     "output_type": "stream",
     "text": [
      "epoch: 4, [batch: 3420 / 6840], examples_per_second: 3376.2172, train_label_loss: 0.0642, \n"
     ]
    },
    {
     "name": "stdout",
     "output_type": "stream",
     "text": [
      "epoch: 4, [batch: 4104 / 6840], examples_per_second: 3384.3571, train_label_loss: 0.0116, \n"
     ]
    },
    {
     "name": "stdout",
     "output_type": "stream",
     "text": [
      "epoch: 4, [batch: 4788 / 6840], examples_per_second: 3464.2841, train_label_loss: 0.0913, \n"
     ]
    },
    {
     "name": "stdout",
     "output_type": "stream",
     "text": [
      "epoch: 4, [batch: 5472 / 6840], examples_per_second: 3415.2410, train_label_loss: 0.0180, \n"
     ]
    },
    {
     "name": "stdout",
     "output_type": "stream",
     "text": [
      "epoch: 4, [batch: 6156 / 6840], examples_per_second: 3831.8162, train_label_loss: 0.0871, \n"
     ]
    },
    {
     "name": "stdout",
     "output_type": "stream",
     "text": [
      "=============================================================\n",
      "epoch: 4, source_val_acc_label: 0.9727, target_val_acc_label: 0.1066, source_val_label_loss: 0.1207, target_val_label_loss: 2.7613, \n",
      "=============================================================\n"
     ]
    },
    {
     "name": "stdout",
     "output_type": "stream",
     "text": [
      "epoch: 5, [batch: 1 / 6843], examples_per_second: 1.3053, train_label_loss: 0.1657, \n"
     ]
    },
    {
     "name": "stdout",
     "output_type": "stream",
     "text": [
      "epoch: 5, [batch: 685 / 6843], examples_per_second: 2978.9003, train_label_loss: 0.0021, \n"
     ]
    },
    {
     "name": "stdout",
     "output_type": "stream",
     "text": [
      "epoch: 5, [batch: 1369 / 6843], examples_per_second: 2979.9334, train_label_loss: 0.1821, \n"
     ]
    },
    {
     "name": "stdout",
     "output_type": "stream",
     "text": [
      "epoch: 5, [batch: 2053 / 6843], examples_per_second: 2944.9927, train_label_loss: 0.0033, \n"
     ]
    },
    {
     "name": "stdout",
     "output_type": "stream",
     "text": [
      "epoch: 5, [batch: 2737 / 6843], examples_per_second: 2961.0904, train_label_loss: 0.0065, \n"
     ]
    },
    {
     "name": "stdout",
     "output_type": "stream",
     "text": [
      "epoch: 5, [batch: 3422 / 6843], examples_per_second: 2991.5219, train_label_loss: 0.2862, \n"
     ]
    },
    {
     "name": "stdout",
     "output_type": "stream",
     "text": [
      "epoch: 5, [batch: 4106 / 6843], examples_per_second: 2990.8068, train_label_loss: 0.0695, \n"
     ]
    },
    {
     "name": "stdout",
     "output_type": "stream",
     "text": [
      "epoch: 5, [batch: 4790 / 6843], examples_per_second: 2993.0762, train_label_loss: 0.0012, \n"
     ]
    },
    {
     "name": "stdout",
     "output_type": "stream",
     "text": [
      "epoch: 5, [batch: 5474 / 6843], examples_per_second: 3020.6703, train_label_loss: 0.0008, \n"
     ]
    },
    {
     "name": "stdout",
     "output_type": "stream",
     "text": [
      "epoch: 5, [batch: 6158 / 6843], examples_per_second: 3010.8038, train_label_loss: 0.0732, \n"
     ]
    },
    {
     "name": "stdout",
     "output_type": "stream",
     "text": [
      "=============================================================\n",
      "epoch: 5, source_val_acc_label: 0.9742, target_val_acc_label: 0.0987, source_val_label_loss: 0.1149, target_val_label_loss: 2.8387, \n",
      "=============================================================\n"
     ]
    },
    {
     "name": "stdout",
     "output_type": "stream",
     "text": [
      "epoch: 6, [batch: 1 / 6854], examples_per_second: 1.2633, train_label_loss: 0.1987, \n"
     ]
    },
    {
     "name": "stdout",
     "output_type": "stream",
     "text": [
      "epoch: 6, [batch: 686 / 6854], examples_per_second: 2985.1908, train_label_loss: 0.0002, \n"
     ]
    },
    {
     "name": "stdout",
     "output_type": "stream",
     "text": [
      "epoch: 6, [batch: 1371 / 6854], examples_per_second: 2981.3367, train_label_loss: 0.0029, \n"
     ]
    },
    {
     "name": "stdout",
     "output_type": "stream",
     "text": [
      "epoch: 6, [batch: 2056 / 6854], examples_per_second: 2974.3204, train_label_loss: 0.0001, \n"
     ]
    },
    {
     "name": "stdout",
     "output_type": "stream",
     "text": [
      "epoch: 6, [batch: 2742 / 6854], examples_per_second: 2965.4359, train_label_loss: 0.0009, \n"
     ]
    },
    {
     "name": "stdout",
     "output_type": "stream",
     "text": [
      "epoch: 6, [batch: 3427 / 6854], examples_per_second: 3026.8542, train_label_loss: 0.0249, \n"
     ]
    },
    {
     "name": "stdout",
     "output_type": "stream",
     "text": [
      "epoch: 6, [batch: 4112 / 6854], examples_per_second: 2986.3696, train_label_loss: 0.0415, \n"
     ]
    },
    {
     "name": "stdout",
     "output_type": "stream",
     "text": [
      "epoch: 6, [batch: 4798 / 6854], examples_per_second: 2960.9249, train_label_loss: 0.0108, \n"
     ]
    },
    {
     "name": "stdout",
     "output_type": "stream",
     "text": [
      "epoch: 6, [batch: 5483 / 6854], examples_per_second: 2980.0455, train_label_loss: 0.0046, \n"
     ]
    },
    {
     "name": "stdout",
     "output_type": "stream",
     "text": [
      "epoch: 6, [batch: 6168 / 6854], examples_per_second: 3005.7141, train_label_loss: 0.1846, \n"
     ]
    },
    {
     "name": "stdout",
     "output_type": "stream",
     "text": [
      "=============================================================\n",
      "epoch: 6, source_val_acc_label: 0.9729, target_val_acc_label: 0.0955, source_val_label_loss: 0.1236, target_val_label_loss: 2.9175, \n",
      "=============================================================\n"
     ]
    },
    {
     "name": "stdout",
     "output_type": "stream",
     "text": [
      "Patience (3) exhausted\n"
     ]
    }
   ],
   "source": [
    "###################################\n",
    "# train\n",
    "###################################\n",
    "jig = PTN_Train_Eval_Test_Jig(model, p.BEST_MODEL_PATH, p.device)\n",
    "\n",
    "jig.train(\n",
    "    train_iterable=datasets.source.processed.train,\n",
    "    source_val_iterable=datasets.source.processed.val,\n",
    "    target_val_iterable=datasets.target.processed.val,\n",
    "    num_epochs=p.n_epoch,\n",
    "    num_logs_per_epoch=p.NUM_LOGS_PER_EPOCH,\n",
    "    patience=p.patience,\n",
    "    optimizer=optimizer,\n",
    "    criteria_for_best=p.criteria_for_best,\n",
    ")"
   ]
  },
  {
   "cell_type": "code",
   "execution_count": 23,
   "id": "31e8fabf",
   "metadata": {
    "execution": {
     "iopub.execute_input": "2022-03-24T07:04:20.668708Z",
     "iopub.status.busy": "2022-03-24T07:04:20.668141Z",
     "iopub.status.idle": "2022-03-24T07:04:20.700927Z",
     "shell.execute_reply": "2022-03-24T07:04:20.700194Z"
    },
    "papermill": {
     "duration": 0.078437,
     "end_time": "2022-03-24T07:04:20.701097",
     "exception": false,
     "start_time": "2022-03-24T07:04:20.622660",
     "status": "completed"
    },
    "tags": []
   },
   "outputs": [],
   "source": [
    "total_experiment_time_secs = time.time() - start_time_secs"
   ]
  },
  {
   "cell_type": "code",
   "execution_count": 24,
   "id": "87b9595b",
   "metadata": {
    "execution": {
     "iopub.execute_input": "2022-03-24T07:04:20.797474Z",
     "iopub.status.busy": "2022-03-24T07:04:20.796865Z",
     "iopub.status.idle": "2022-03-24T07:14:27.377910Z",
     "shell.execute_reply": "2022-03-24T07:14:27.377168Z"
    },
    "papermill": {
     "duration": 606.630584,
     "end_time": "2022-03-24T07:14:27.378099",
     "exception": false,
     "start_time": "2022-03-24T07:04:20.747515",
     "status": "completed"
    },
    "tags": []
   },
   "outputs": [],
   "source": [
    "###################################\n",
    "# Evaluate the model\n",
    "###################################\n",
    "source_test_label_accuracy, source_test_label_loss = jig.test(datasets.source.processed.test)\n",
    "target_test_label_accuracy, target_test_label_loss = jig.test(datasets.target.processed.test)\n",
    "\n",
    "source_val_label_accuracy, source_val_label_loss = jig.test(datasets.source.processed.val)\n",
    "target_val_label_accuracy, target_val_label_loss = jig.test(datasets.target.processed.val)\n",
    "\n",
    "history = jig.get_history()\n",
    "\n",
    "total_epochs_trained = len(history[\"epoch_indices\"])\n",
    "\n",
    "val_dl = Iterable_Aggregator((datasets.source.original.val,datasets.target.original.val))\n",
    "\n",
    "confusion = ptn_confusion_by_domain_over_dataloader(model, p.device, val_dl)\n",
    "per_domain_accuracy = per_domain_accuracy_from_confusion(confusion)\n",
    "\n",
    "# Add a key to per_domain_accuracy for if it was a source domain\n",
    "for domain, accuracy in per_domain_accuracy.items():\n",
    "    per_domain_accuracy[domain] = {\n",
    "        \"accuracy\": accuracy,\n",
    "        \"source?\": domain in p.domains_source\n",
    "    }\n",
    "\n",
    "# Do an independent accuracy assesment JUST TO BE SURE!\n",
    "# _source_test_label_accuracy = independent_accuracy_assesment(model, datasets.source.processed.test, p.device)\n",
    "# _target_test_label_accuracy = independent_accuracy_assesment(model, datasets.target.processed.test, p.device)\n",
    "# _source_val_label_accuracy = independent_accuracy_assesment(model, datasets.source.processed.val, p.device)\n",
    "# _target_val_label_accuracy = independent_accuracy_assesment(model, datasets.target.processed.val, p.device)\n",
    "\n",
    "# assert(_source_test_label_accuracy == source_test_label_accuracy)\n",
    "# assert(_target_test_label_accuracy == target_test_label_accuracy)\n",
    "# assert(_source_val_label_accuracy == source_val_label_accuracy)\n",
    "# assert(_target_val_label_accuracy == target_val_label_accuracy)\n",
    "\n",
    "experiment = {\n",
    "    \"experiment_name\": p.experiment_name,\n",
    "    \"parameters\": dict(p),\n",
    "    \"results\": {\n",
    "        \"source_test_label_accuracy\": source_test_label_accuracy,\n",
    "        \"source_test_label_loss\": source_test_label_loss,\n",
    "        \"target_test_label_accuracy\": target_test_label_accuracy,\n",
    "        \"target_test_label_loss\": target_test_label_loss,\n",
    "        \"source_val_label_accuracy\": source_val_label_accuracy,\n",
    "        \"source_val_label_loss\": source_val_label_loss,\n",
    "        \"target_val_label_accuracy\": target_val_label_accuracy,\n",
    "        \"target_val_label_loss\": target_val_label_loss,\n",
    "        \"total_epochs_trained\": total_epochs_trained,\n",
    "        \"total_experiment_time_secs\": total_experiment_time_secs,\n",
    "        \"confusion\": confusion,\n",
    "        \"per_domain_accuracy\": per_domain_accuracy,\n",
    "    },\n",
    "    \"history\": history,\n",
    "    \"dataset_metrics\": get_dataset_metrics(datasets, \"ptn\"),\n",
    "}"
   ]
  },
  {
   "cell_type": "code",
   "execution_count": 25,
   "id": "54a21829",
   "metadata": {
    "execution": {
     "iopub.execute_input": "2022-03-24T07:14:27.478739Z",
     "iopub.status.busy": "2022-03-24T07:14:27.478156Z",
     "iopub.status.idle": "2022-03-24T07:14:27.701531Z",
     "shell.execute_reply": "2022-03-24T07:14:27.702227Z"
    },
    "papermill": {
     "duration": 0.277216,
     "end_time": "2022-03-24T07:14:27.702425",
     "exception": false,
     "start_time": "2022-03-24T07:14:27.425209",
     "status": "completed"
    },
    "tags": []
   },
   "outputs": [
    {
     "data": {
      "image/png": "[encoded data removed]",
      "text/plain": [
       "<Figure size 1080x504 with 1 Axes>"
      ]
     },
     "metadata": {
      "needs_background": "light"
     },
     "output_type": "display_data"
    }
   ],
   "source": [
    "ax = get_loss_curve(experiment)\n",
    "plt.show()"
   ]
  },
  {
   "cell_type": "code",
   "execution_count": 26,
   "id": "fd8a0f60",
   "metadata": {
    "execution": {
     "iopub.execute_input": "2022-03-24T07:14:27.799051Z",
     "iopub.status.busy": "2022-03-24T07:14:27.798676Z",
     "iopub.status.idle": "2022-03-24T07:14:28.176643Z",
     "shell.execute_reply": "2022-03-24T07:14:28.176309Z"
    },
    "papermill": {
     "duration": 0.426424,
     "end_time": "2022-03-24T07:14:28.176715",
     "exception": false,
     "start_time": "2022-03-24T07:14:27.750291",
     "status": "completed"
    },
    "tags": []
   },
   "outputs": [
    {
     "data": {
      "text/plain": [
       "<AxesSubplot:title={'center':'Results'}>"
      ]
     },
     "execution_count": 26,
     "metadata": {},
     "output_type": "execute_result"
    },
    {
     "data": {
      "image/png": "[encoded data removed]",
      "text/plain": [
       "<Figure size 1080x504 with 1 Axes>"
      ]
     },
     "metadata": {
      "needs_background": "light"
     },
     "output_type": "display_data"
    }
   ],
   "source": [
    "get_results_table(experiment)"
   ]
  },
  {
   "cell_type": "code",
   "execution_count": 27,
   "id": "cf8dc689",
   "metadata": {
    "execution": {
     "iopub.execute_input": "2022-03-24T07:14:28.267238Z",
     "iopub.status.busy": "2022-03-24T07:14:28.266866Z",
     "iopub.status.idle": "2022-03-24T07:14:28.529616Z",
     "shell.execute_reply": "2022-03-24T07:14:28.528904Z"
    },
    "papermill": {
     "duration": 0.309513,
     "end_time": "2022-03-24T07:14:28.529799",
     "exception": false,
     "start_time": "2022-03-24T07:14:28.220286",
     "status": "completed"
    },
    "tags": []
   },
   "outputs": [
    {
     "data": {
      "text/plain": [
       "<AxesSubplot:title={'center':'Per Domain Validation Accuracy'}, xlabel='domain'>"
      ]
     },
     "execution_count": 27,
     "metadata": {},
     "output_type": "execute_result"
    },
    {
     "data": {
      "image/png": "[encoded data removed]",
      "text/plain": [
       "<Figure size 1080x504 with 1 Axes>"
      ]
     },
     "metadata": {
      "needs_background": "light"
     },
     "output_type": "display_data"
    }
   ],
   "source": [
    "get_domain_accuracies(experiment)"
   ]
  },
  {
   "cell_type": "code",
   "execution_count": 28,
   "id": "a74ae082",
   "metadata": {
    "execution": {
     "iopub.execute_input": "2022-03-24T07:14:28.629489Z",
     "iopub.status.busy": "2022-03-24T07:14:28.628862Z",
     "iopub.status.idle": "2022-03-24T07:14:28.655877Z",
     "shell.execute_reply": "2022-03-24T07:14:28.656558Z"
    },
    "papermill": {
     "duration": 0.076349,
     "end_time": "2022-03-24T07:14:28.656736",
     "exception": false,
     "start_time": "2022-03-24T07:14:28.580387",
     "status": "completed"
    },
    "tags": []
   },
   "outputs": [
    {
     "name": "stdout",
     "output_type": "stream",
     "text": [
      "Source Test Label Accuracy: 0.967877456049638 Target Test Label Accuracy: 0.12064453125\n",
      "Source Val Label Accuracy: 0.969079641350211 Target Val Label Accuracy: 0.12075520833333334\n"
     ]
    }
   ],
   "source": [
    "print(\"Source Test Label Accuracy:\", experiment[\"results\"][\"source_test_label_accuracy\"], \"Target Test Label Accuracy:\", experiment[\"results\"][\"target_test_label_accuracy\"])\n",
    "print(\"Source Val Label Accuracy:\", experiment[\"results\"][\"source_val_label_accuracy\"], \"Target Val Label Accuracy:\", experiment[\"results\"][\"target_val_label_accuracy\"])"
   ]
  },
  {
   "cell_type": "code",
   "execution_count": 29,
   "id": "dacca602",
   "metadata": {
    "execution": {
     "iopub.execute_input": "2022-03-24T07:14:28.755213Z",
     "iopub.status.busy": "2022-03-24T07:14:28.754837Z",
     "iopub.status.idle": "2022-03-24T07:14:28.779299Z",
     "shell.execute_reply": "2022-03-24T07:14:28.779990Z"
    },
    "papermill": {
     "duration": 0.072973,
     "end_time": "2022-03-24T07:14:28.780176",
     "exception": false,
     "start_time": "2022-03-24T07:14:28.707203",
     "status": "completed"
    },
    "tags": [
     "experiment_json"
    ]
   },
   "outputs": [
    {
     "data": {
      "text/plain": [
       "'{\"experiment_name\": \"tl_1v2:wisig-oracle.run1\", \"parameters\": {\"experiment_name\": \"tl_1v2:wisig-oracle.run1\", \"device\": \"cuda\", \"lr\": 0.0001, \"n_shot\": 3, \"n_query\": 2, \"train_k_factor\": 3, \"val_k_factor\": 2, \"test_k_factor\": 2, \"torch_default_dtype\": \"torch.float32\", \"n_epoch\": 50, \"patience\": 3, \"criteria_for_best\": \"target_accuracy\", \"x_net\": [{\"class\": \"nnReshape\", \"kargs\": {\"shape\": [-1, 1, 2, 256]}}, {\"class\": \"Conv2d\", \"kargs\": {\"in_channels\": 1, \"out_channels\": 256, \"kernel_size\": [1, 7], \"bias\": false, \"padding\": [0, 3]}}, {\"class\": \"ReLU\", \"kargs\": {\"inplace\": true}}, {\"class\": \"BatchNorm2d\", \"kargs\": {\"num_features\": 256}}, {\"class\": \"Conv2d\", \"kargs\": {\"in_channels\": 256, \"out_channels\": 80, \"kernel_size\": [2, 7], \"bias\": true, \"padding\": [0, 3]}}, {\"class\": \"ReLU\", \"kargs\": {\"inplace\": true}}, {\"class\": \"BatchNorm2d\", \"kargs\": {\"num_features\": 80}}, {\"class\": \"Flatten\", \"kargs\": {}}, {\"class\": \"Linear\", \"kargs\": {\"in_features\": 20480, \"out_features\": 256}}, {\"class\": \"ReLU\", \"kargs\": {\"inplace\": true}}, {\"class\": \"BatchNorm1d\", \"kargs\": {\"num_features\": 256}}, {\"class\": \"Linear\", \"kargs\": {\"in_features\": 256, \"out_features\": 256}}], \"NUM_LOGS_PER_EPOCH\": 10, \"BEST_MODEL_PATH\": \"./best_model.pth\", \"n_way\": 16, \"datasets\": [{\"labels\": [\"1-10\", \"1-12\", \"1-14\", \"1-16\", \"1-18\", \"1-19\", \"1-8\", \"10-11\", \"10-17\", \"10-4\", \"10-7\", \"11-1\", \"11-10\", \"11-19\", \"11-20\", \"11-4\", \"11-7\", \"12-19\", \"12-20\", \"12-7\", \"13-14\", \"13-18\", \"13-19\", \"13-20\", \"13-3\", \"13-7\", \"14-10\", \"14-11\", \"14-12\", \"14-13\", \"14-14\", \"14-19\", \"14-20\", \"14-7\", \"14-8\", \"14-9\", \"15-1\", \"15-19\", \"15-6\", \"16-1\", \"16-16\", \"16-19\", \"16-20\", \"17-10\", \"17-11\", \"18-1\", \"18-10\", \"18-11\", \"18-12\", \"18-13\", \"18-14\", \"18-15\", \"18-16\", \"18-17\", \"18-19\", \"18-2\", \"18-20\", \"18-4\", \"18-5\", \"18-7\", \"18-8\", \"18-9\", \"19-1\", \"19-10\", \"19-11\", \"19-12\", \"19-13\", \"19-14\", \"19-15\", \"19-19\", \"19-2\", \"19-20\", \"19-3\", \"19-4\", \"19-6\", \"19-7\", \"19-8\", \"19-9\", \"2-1\", \"2-13\", \"2-15\", \"2-3\", \"2-4\", \"2-5\", \"2-6\", \"2-7\", \"2-8\", \"20-1\", \"20-12\", \"20-14\", \"20-15\", \"20-16\", \"20-18\", \"20-19\", \"20-20\", \"20-3\", \"20-4\", \"20-5\", \"20-7\", \"20-8\", \"3-1\", \"3-13\", \"3-18\", \"3-2\", \"3-8\", \"4-1\", \"4-10\", \"4-11\", \"5-1\", \"5-5\", \"6-1\", \"6-15\", \"6-6\", \"7-10\", \"7-11\", \"7-12\", \"7-13\", \"7-14\", \"7-7\", \"7-8\", \"7-9\", \"8-1\", \"8-13\", \"8-14\", \"8-18\", \"8-20\", \"8-3\", \"8-8\", \"9-1\", \"9-7\"], \"domains\": [1, 2, 3, 4], \"num_examples_per_domain_per_label\": -1, \"pickle_path\": \"/root/csc500-main/datasets/wisig.node3-19.stratified_ds.2022A.pkl\", \"source_or_target_dataset\": \"source\", \"x_transforms\": [\"unit_mag\"], \"episode_transforms\": [], \"domain_prefix\": \"Wisig_\"}, {\"labels\": [\"3123D52\", \"3123D65\", \"3123D79\", \"3123D80\", \"3123D54\", \"3123D70\", \"3123D7B\", \"3123D89\", \"3123D58\", \"3123D76\", \"3123D7D\", \"3123EFE\", \"3123D64\", \"3123D78\", \"3123D7E\", \"3124E4A\"], \"domains\": [32, 38, 8, 44, 14, 50, 20, 26], \"num_examples_per_domain_per_label\": 10000, \"pickle_path\": \"/root/csc500-main/datasets/oracle.Run1_10kExamples_stratified_ds.2022A.pkl\", \"source_or_target_dataset\": \"target\", \"x_transforms\": [\"unit_mag\"], \"episode_transforms\": [], \"domain_prefix\": \"ORACLE.run1\"}], \"dataset_seed\": 500, \"seed\": 500, \"x_shape\": [2, 256], \"domains_source\": [\"Wisig_1\", \"Wisig_2\", \"Wisig_3\", \"Wisig_4\"], \"domains_target\": [\"ORACLE.run132\", \"ORACLE.run138\", \"ORACLE.run18\", \"ORACLE.run144\", \"ORACLE.run114\", \"ORACLE.run150\", \"ORACLE.run120\", \"ORACLE.run126\"]}, \"results\": {\"source_test_label_accuracy\": 0.967877456049638, \"source_test_label_loss\": 0.14392481744289398, \"target_test_label_accuracy\": 0.12064453125, \"target_test_label_loss\": 2.669297456741333, \"source_val_label_accuracy\": 0.969079641350211, \"source_val_label_loss\": 0.13522109389305115, \"target_val_label_accuracy\": 0.12075520833333334, \"target_val_label_loss\": 2.667351722717285, \"total_epochs_trained\": 6, \"total_experiment_time_secs\": 1844.7994022369385, \"confusion\": {\"Wisig_3\": {\"99\": {\"99\": 34, \"25\": 1, \"112\": 1}, \"8\": {\"8\": 124}, \"65\": {\"39\": 1, \"65\": 11}, \"117\": {\"117\": 110, \"7\": 1, \"40\": 1}, \"18\": {\"18\": 122, \"114\": 1, \"126\": 1}, \"39\": {\"39\": 106, \"16\": 1, \"117\": 1}, \"102\": {\"102\": 124}, \"76\": {\"49\": 1, \"76\": 15}, \"101\": {\"101\": 51, \"105\": 1}, \"57\": {\"57\": 20}, \"86\": {\"86\": 27, \"101\": 1}, \"11\": {\"11\": 132}, \"98\": {\"98\": 126, \"87\": 1, \"90\": 1}, \"42\": {\"42\": 28}, \"47\": {\"47\": 12}, \"49\": {\"49\": 23, \"70\": 1}, \"111\": {\"111\": 131, \"125\": 1}, \"36\": {\"36\": 115, \"27\": 1}, \"124\": {\"124\": 103, \"92\": 1, \"8\": 1, \"90\": 1}, \"122\": {\"122\": 55, \"21\": 1, \"40\": 2, \"70\": 2}, \"93\": {\"93\": 142}, \"89\": {\"89\": 28}, \"51\": {\"51\": 16}, \"73\": {\"73\": 39, \"21\": 1}, \"45\": {\"45\": 16}, \"5\": {\"5\": 107, \"106\": 1, \"40\": 2, \"8\": 1, \"101\": 1}, \"69\": {\"69\": 82, \"122\": 1, \"106\": 1}, \"26\": {\"26\": 130}, \"1\": {\"1\": 107, \"40\": 1}, \"92\": {\"92\": 32}, \"96\": {\"96\": 20}, \"85\": {\"85\": 36}, \"114\": {\"114\": 125, \"128\": 1}, \"50\": {\"50\": 16}, \"81\": {\"81\": 32}, \"2\": {\"2\": 27, \"91\": 1}, \"33\": {\"33\": 145, \"21\": 1}, \"31\": {\"31\": 20}, \"90\": {\"90\": 117, \"26\": 1}, \"17\": {\"50\": 1, \"17\": 8, \"23\": 2, \"63\": 2, \"78\": 1, \"105\": 1, \"122\": 1}, \"116\": {\"116\": 26, \"60\": 1, \"82\": 1}, \"91\": {\"91\": 23, \"12\": 1}, \"120\": {\"120\": 20}, \"128\": {\"128\": 29, \"19\": 1, \"30\": 2}, \"78\": {\"128\": 1, \"78\": 11, \"84\": 1, \"17\": 1, \"40\": 2}, \"58\": {\"58\": 16}, \"23\": {\"23\": 29, \"68\": 1, \"60\": 2}, \"15\": {\"15\": 102, \"52\": 1, \"21\": 1}, \"74\": {\"74\": 16}, \"34\": {\"34\": 25, \"6\": 2, \"124\": 1, \"125\": 1, \"20\": 1, \"91\": 1, \"82\": 1}, \"103\": {\"103\": 16}, \"106\": {\"106\": 100}, \"44\": {\"44\": 68, \"60\": 1, \"64\": 1, \"90\": 1, \"113\": 1}, \"9\": {\"9\": 30, \"126\": 1, \"80\": 1}, \"97\": {\"97\": 20}, \"123\": {\"123\": 14, \"63\": 1, \"116\": 1}, \"6\": {\"6\": 29, \"101\": 1, \"90\": 1, \"34\": 1}, \"68\": {\"68\": 16}, \"24\": {\"24\": 44, \"27\": 4}, \"21\": {\"21\": 44, \"92\": 1, \"34\": 1, \"31\": 1, \"129\": 1}, \"83\": {\"83\": 22, \"27\": 1, \"124\": 1}, \"60\": {\"60\": 24, \"43\": 1, \"28\": 1, \"110\": 1, \"122\": 1}, \"87\": {\"87\": 120}, \"30\": {\"30\": 79, \"116\": 1, \"98\": 1, \"94\": 1, \"17\": 1, \"124\": 1}, \"43\": {\"43\": 52, \"33\": 1, \"27\": 1, \"21\": 2}, \"115\": {\"115\": 16}, \"40\": {\"40\": 120}, \"112\": {\"112\": 15, \"48\": 1}, \"66\": {\"66\": 16}, \"110\": {\"110\": 91, \"40\": 1}, \"3\": {\"3\": 112, \"127\": 1, \"99\": 1}, \"20\": {\"20\": 16}, \"28\": {\"28\": 16}, \"84\": {\"84\": 104, \"7\": 1, \"73\": 1, \"40\": 2}, \"79\": {\"79\": 12}, \"118\": {\"118\": 97, \"98\": 1, \"40\": 1, \"8\": 1}, \"56\": {\"56\": 11, \"75\": 1}, \"48\": {\"48\": 12, \"20\": 2, \"13\": 1, \"79\": 1}, \"77\": {\"77\": 16}, \"14\": {\"14\": 80}, \"64\": {\"64\": 20}, \"67\": {\"67\": 15, \"40\": 1}, \"62\": {\"62\": 124}, \"75\": {\"75\": 16}, \"63\": {\"63\": 13, \"34\": 1, \"48\": 1, \"60\": 1}, \"7\": {\"7\": 112}, \"125\": {\"125\": 101, \"113\": 1, \"31\": 1, \"23\": 1}, \"37\": {\"37\": 16}, \"121\": {\"121\": 30, \"35\": 1, \"22\": 1}, \"16\": {\"16\": 102, \"40\": 1, \"94\": 1}, \"35\": {\"35\": 11, \"93\": 1}, \"32\": {\"32\": 32}, \"46\": {\"46\": 16}, \"70\": {\"70\": 68, \"30\": 1, \"122\": 1, \"71\": 1, \"21\": 1}, \"129\": {\"129\": 32}, \"95\": {\"95\": 31, \"70\": 1}, \"72\": {\"72\": 28}, \"19\": {\"19\": 32}, \"52\": {\"52\": 16}, \"100\": {\"100\": 14, \"40\": 1, \"11\": 1}, \"104\": {\"104\": 16}, \"59\": {\"59\": 12}, \"109\": {\"109\": 126}, \"88\": {\"88\": 106, \"12\": 1, \"127\": 1}, \"27\": {\"27\": 86, \"21\": 1, \"69\": 1, \"40\": 1, \"110\": 1, \"36\": 4}, \"113\": {\"113\": 118, \"105\": 1, \"82\": 1}, \"105\": {\"105\": 124}, \"71\": {\"71\": 67, \"39\": 1}, \"108\": {\"108\": 123, \"8\": 1}, \"41\": {\"41\": 16}, \"80\": {\"80\": 15, \"29\": 1}, \"13\": {\"13\": 11, \"18\": 2, \"115\": 2, \"25\": 1}, \"55\": {\"55\": 16}, \"0\": {\"0\": 103, \"39\": 1, \"98\": 1, \"19\": 1}, \"25\": {\"25\": 16}, \"53\": {\"53\": 20}, \"61\": {\"61\": 16}, \"38\": {\"38\": 16}, \"127\": {\"127\": 123, \"17\": 1, \"12\": 1, \"40\": 1, \"4\": 1, \"84\": 1}, \"4\": {\"4\": 93, \"8\": 1, \"11\": 1, \"40\": 1}, \"12\": {\"12\": 104}, \"126\": {\"126\": 121, \"108\": 1, \"4\": 1, \"18\": 1}, \"29\": {\"29\": 32}, \"107\": {\"107\": 136}, \"82\": {\"82\": 28}, \"94\": {\"94\": 83, \"40\": 1}, \"54\": {\"54\": 16}, \"10\": {\"10\": 127, \"106\": 1}, \"22\": {\"22\": 16}, \"119\": {\"119\": 16}}, \"Wisig_2\": {\"73\": {\"73\": 27, \"2\": 1}, \"40\": {\"40\": 131, \"27\": 1}, \"99\": {\"99\": 30, \"48\": 1, \"27\": 1}, \"5\": {\"5\": 107, \"40\": 1, \"105\": 1, \"69\": 1, \"27\": 1, \"106\": 1}, \"108\": {\"108\": 132}, \"128\": {\"128\": 18, \"29\": 2, \"71\": 2, \"19\": 1, \"17\": 1}, \"89\": {\"89\": 32, \"92\": 3, \"40\": 1}, \"107\": {\"107\": 51, \"128\": 1, \"94\": 2, \"21\": 2, \"16\": 1, \"127\": 1, \"4\": 1, \"71\": 1, \"110\": 1, \"40\": 2, \"14\": 1}, \"2\": {\"2\": 29, \"16\": 2, \"119\": 1}, \"78\": {\"78\": 46, \"21\": 1, \"127\": 1}, \"85\": {\"85\": 32}, \"44\": {\"44\": 100}, \"58\": {\"58\": 20}, \"57\": {\"57\": 18, \"40\": 1, \"87\": 1}, \"41\": {\"41\": 19, \"40\": 1}, \"53\": {\"53\": 16}, \"14\": {\"14\": 41, \"36\": 1, \"24\": 1, \"21\": 2, \"2\": 1, \"74\": 1, \"106\": 1}, \"83\": {\"83\": 38, \"9\": 1, \"7\": 1}, \"119\": {\"119\": 20}, \"95\": {\"95\": 35, \"40\": 1}, \"28\": {\"28\": 19, \"13\": 1}, \"19\": {\"19\": 28}, \"69\": {\"69\": 125, \"40\": 3, \"105\": 1, \"7\": 2, \"13\": 1}, \"93\": {\"93\": 132, \"125\": 1, \"98\": 1}, \"9\": {\"9\": 32}, \"118\": {\"118\": 66, \"11\": 1, \"1\": 1}, \"43\": {\"43\": 113, \"14\": 1, \"40\": 2}, \"47\": {\"47\": 11, \"88\": 1}, \"125\": {\"125\": 144}, \"29\": {\"29\": 32}, \"122\": {\"122\": 134, \"40\": 1, \"70\": 1, \"105\": 1, \"11\": 1, \"0\": 1, \"26\": 1}, \"46\": {\"46\": 16}, \"86\": {\"86\": 32}, \"70\": {\"70\": 106, \"17\": 1, \"84\": 2, \"43\": 2, \"21\": 4, \"109\": 1, \"78\": 3, \"39\": 2, \"40\": 3}, \"51\": {\"51\": 17, \"21\": 2, \"10\": 1}, \"23\": {\"23\": 41, \"78\": 1, \"110\": 2}, \"121\": {\"121\": 34, \"120\": 1, \"65\": 1}, \"63\": {\"46\": 1, \"63\": 17, \"34\": 1, \"49\": 1}, \"102\": {\"102\": 121, \"40\": 1}, \"21\": {\"21\": 46, \"70\": 1, \"36\": 1}, \"55\": {\"55\": 13, \"116\": 1, \"62\": 2}, \"54\": {\"54\": 20}, \"6\": {\"6\": 31, \"34\": 1}, \"109\": {\"109\": 92, \"81\": 2, \"118\": 1, \"87\": 1, \"88\": 1, \"110\": 1, \"39\": 1, \"40\": 1}, \"64\": {\"95\": 1, \"64\": 15}, \"20\": {\"20\": 16}, \"98\": {\"98\": 111, \"13\": 1, \"0\": 1, \"40\": 1}, \"92\": {\"92\": 26, \"13\": 1, \"53\": 1}, \"35\": {\"35\": 12}, \"113\": {\"113\": 63, \"109\": 1, \"24\": 1, \"12\": 1, \"94\": 1, \"40\": 1, \"124\": 1, \"127\": 1, \"21\": 1, \"11\": 1}, \"71\": {\"71\": 96, \"107\": 1, \"13\": 1, \"40\": 1, \"27\": 1}, \"94\": {\"94\": 54, \"71\": 1, \"87\": 2, \"78\": 1, \"26\": 2, \"40\": 1, \"73\": 1, \"105\": 1, \"106\": 1}, \"52\": {\"52\": 19, \"70\": 1}, \"116\": {\"116\": 26, \"80\": 1, \"29\": 1}, \"87\": {\"87\": 104, \"109\": 1, \"36\": 1, \"43\": 1, \"40\": 1, \"19\": 1, \"105\": 1, \"114\": 1, \"117\": 1}, \"90\": {\"90\": 148}, \"91\": {\"91\": 27, \"128\": 1}, \"84\": {\"84\": 87, \"71\": 1, \"107\": 1, \"7\": 1, \"127\": 1, \"1\": 1}, \"24\": {\"24\": 103, \"12\": 1, \"4\": 1, \"94\": 1, \"36\": 2, \"106\": 1, \"33\": 1, \"40\": 1, \"30\": 1}, \"33\": {\"33\": 131, \"105\": 1, \"69\": 1, \"36\": 1}, \"81\": {\"81\": 23, \"92\": 1}, \"115\": {\"115\": 10, \"60\": 1, \"95\": 1}, \"77\": {\"77\": 16}, \"106\": {\"106\": 116, \"21\": 1, \"40\": 1, \"87\": 1, \"24\": 1}, \"42\": {\"42\": 24, \"14\": 1, \"110\": 1, \"107\": 1, \"95\": 1}, \"38\": {\"38\": 16}, \"36\": {\"36\": 110, \"14\": 1, \"71\": 1, \"87\": 1, \"40\": 1}, \"79\": {\"79\": 16}, \"60\": {\"60\": 25, \"127\": 1, \"98\": 1, \"87\": 1}, \"80\": {\"80\": 15, \"120\": 1}, \"32\": {\"32\": 36}, \"0\": {\"0\": 116}, \"127\": {\"127\": 123, \"24\": 1}, \"114\": {\"114\": 114, \"90\": 1, \"109\": 1}, \"62\": {\"62\": 138, \"21\": 1, \"87\": 1}, \"129\": {\"129\": 32}, \"56\": {\"56\": 12}, \"76\": {\"76\": 16}, \"72\": {\"72\": 26, \"21\": 1, \"115\": 1}, \"88\": {\"88\": 122, \"95\": 1, \"40\": 1}, \"68\": {\"68\": 14, \"71\": 1, \"12\": 1}, \"67\": {\"67\": 14, \"75\": 2}, \"100\": {\"100\": 16}, \"34\": {\"34\": 25, \"86\": 1, \"91\": 2, \"10\": 1, \"24\": 1, \"52\": 1, \"124\": 1}, \"16\": {\"16\": 123, \"36\": 1}, \"126\": {\"126\": 120}, \"4\": {\"4\": 85, \"120\": 1, \"14\": 1, \"7\": 1}, \"101\": {\"101\": 146}, \"104\": {\"104\": 18, \"23\": 1, \"4\": 1}, \"30\": {\"67\": 1, \"30\": 106, \"0\": 1, \"71\": 1, \"40\": 1}, \"8\": {\"8\": 127, \"113\": 1}, \"82\": {\"82\": 34, \"16\": 1, \"70\": 1}, \"26\": {\"26\": 129, \"107\": 1, \"36\": 1, \"40\": 3, \"24\": 1, \"7\": 1, \"69\": 1, \"1\": 1}, \"96\": {\"96\": 20}, \"3\": {\"3\": 132, \"15\": 1, \"43\": 1, \"36\": 1, \"40\": 1}, \"25\": {\"25\": 14, \"36\": 1, \"78\": 1}, \"13\": {\"13\": 10, \"91\": 1, \"40\": 1, \"85\": 1, \"5\": 1, \"82\": 2}, \"37\": {\"37\": 15, \"40\": 1}, \"49\": {\"49\": 18, \"105\": 1, \"11\": 2, \"92\": 1, \"123\": 1, \"61\": 1}, \"111\": {\"111\": 136}, \"105\": {\"105\": 131, \"7\": 1}, \"17\": {\"17\": 13, \"42\": 1, \"87\": 1, \"70\": 1}, \"65\": {\"65\": 18, \"73\": 2}, \"123\": {\"123\": 15, \"41\": 1}, \"74\": {\"74\": 13, \"40\": 2, \"62\": 1}, \"97\": {\"97\": 16, \"15\": 1, \"110\": 1, \"13\": 1, \"91\": 1}, \"112\": {\"112\": 14, \"47\": 1, \"108\": 1}, \"120\": {\"120\": 20}, \"50\": {\"50\": 14, \"29\": 1, \"80\": 1}, \"59\": {\"59\": 15, \"24\": 1}, \"10\": {\"10\": 55, \"95\": 2, \"14\": 1, \"78\": 1, \"49\": 1}, \"45\": {\"45\": 14, \"25\": 1, \"124\": 1}, \"12\": {\"12\": 85, \"21\": 1, \"78\": 1, \"117\": 1}, \"75\": {\"75\": 15, \"30\": 1}, \"48\": {\"48\": 20}, \"61\": {\"61\": 17, \"10\": 1, \"36\": 1, \"94\": 1}, \"124\": {\"124\": 123, \"85\": 1}, \"11\": {\"11\": 77, \"87\": 1, \"40\": 1, \"10\": 1}, \"103\": {\"103\": 14, \"49\": 1, \"16\": 1}, \"7\": {\"7\": 128, \"107\": 1, \"27\": 1, \"5\": 1, \"40\": 1}, \"18\": {\"18\": 116, \"55\": 1, \"106\": 1, \"40\": 1, \"43\": 1}, \"31\": {\"31\": 20}, \"15\": {\"15\": 116, \"40\": 1, \"3\": 1}, \"1\": {\"1\": 119, \"94\": 1, \"43\": 1, \"73\": 1}, \"66\": {\"66\": 19, \"72\": 1}, \"110\": {\"110\": 32, \"14\": 1, \"40\": 1, \"24\": 1, \"122\": 2, \"26\": 1, \"12\": 1, \"87\": 1}, \"27\": {\"27\": 59, \"40\": 1, \"107\": 1, \"71\": 2, \"105\": 1, \"36\": 1, \"11\": 1, \"127\": 1, \"87\": 1}, \"22\": {\"22\": 18, \"40\": 1, \"75\": 1}, \"117\": {\"117\": 117, \"40\": 1, \"114\": 1, \"36\": 1}, \"39\": {\"39\": 103, \"18\": 1, \"78\": 1, \"21\": 2, \"124\": 1}}, \"Wisig_1\": {\"60\": {\"60\": 13, \"14\": 1, \"80\": 1, \"23\": 1}, \"59\": {\"60\": 1, \"59\": 10, \"28\": 1}, \"107\": {\"107\": 122, \"94\": 1, \"69\": 1}, \"113\": {\"113\": 123, \"105\": 1}, \"6\": {\"6\": 28, \"103\": 1, \"21\": 1, \"46\": 1, \"23\": 1}, \"24\": {\"24\": 91, \"43\": 1}, \"50\": {\"50\": 15, \"75\": 1}, \"62\": {\"62\": 119, \"70\": 1}, \"48\": {\"48\": 12}, \"104\": {\"104\": 16}, \"105\": {\"105\": 77, \"40\": 4, \"87\": 1, \"97\": 1, \"4\": 1}, \"44\": {\"44\": 76}, \"49\": {\"49\": 17, \"42\": 1, \"101\": 2}, \"55\": {\"55\": 12}, \"4\": {\"4\": 100}, \"76\": {\"76\": 16}, \"85\": {\"85\": 32}, \"89\": {\"89\": 36}, \"74\": {\"74\": 16}, \"112\": {\"112\": 16}, \"79\": {\"79\": 12}, \"0\": {\"0\": 83, \"97\": 1}, \"91\": {\"91\": 26, \"115\": 1, \"52\": 1}, \"118\": {\"118\": 83, \"94\": 1}, \"80\": {\"80\": 16}, \"64\": {\"64\": 16}, \"97\": {\"97\": 18, \"88\": 2}, \"84\": {\"84\": 124}, \"38\": {\"38\": 16}, \"30\": {\"30\": 52}, \"32\": {\"32\": 29, \"65\": 1, \"81\": 1, \"6\": 1}, \"72\": {\"72\": 32}, \"33\": {\"33\": 130, \"42\": 1, \"1\": 1}, \"34\": {\"34\": 31, \"14\": 1}, \"28\": {\"28\": 20}, \"123\": {\"123\": 15, \"34\": 1}, \"2\": {\"2\": 23, \"83\": 3, \"129\": 1, \"42\": 1, \"96\": 1, \"99\": 1, \"21\": 1, \"19\": 1}, \"70\": {\"70\": 123, \"53\": 1}, \"127\": {\"127\": 107, \"78\": 1}, \"110\": {\"110\": 125, \"39\": 1, \"113\": 1, \"88\": 1}, \"126\": {\"126\": 136}, \"13\": {\"13\": 16}, \"15\": {\"15\": 103, \"111\": 1}, \"29\": {\"29\": 28}, \"18\": {\"18\": 119, \"23\": 1}, \"7\": {\"7\": 142}, \"56\": {\"56\": 12}, \"98\": {\"98\": 108}, \"99\": {\"99\": 24}, \"77\": {\"77\": 15, \"90\": 1}, \"103\": {\"6\": 1, \"103\": 14, \"94\": 1}, \"128\": {\"128\": 24}, \"3\": {\"3\": 84, \"71\": 1, \"127\": 1, \"8\": 1, \"15\": 1}, \"121\": {\"121\": 32}, \"42\": {\"42\": 28}, \"90\": {\"90\": 120}, \"37\": {\"37\": 16}, \"120\": {\"103\": 1, \"120\": 17, \"94\": 1, \"78\": 1}, \"117\": {\"117\": 118}, \"9\": {\"9\": 32}, \"108\": {\"108\": 124}, \"83\": {\"83\": 28}, \"14\": {\"14\": 95, \"65\": 1}, \"63\": {\"63\": 16}, \"11\": {\"11\": 117, \"39\": 1}, \"95\": {\"95\": 36}, \"26\": {\"26\": 128, \"36\": 1, \"105\": 1}, \"22\": {\"22\": 16}, \"102\": {\"102\": 120}, \"69\": {\"69\": 100, \"94\": 1, \"40\": 1, \"114\": 1, \"1\": 2, \"39\": 1}, \"1\": {\"1\": 130}, \"67\": {\"67\": 16}, \"57\": {\"57\": 12}, \"8\": {\"8\": 132, \"40\": 1, \"47\": 1}, \"109\": {\"109\": 120, \"126\": 1, \"40\": 1, \"108\": 1, \"88\": 1}, \"129\": {\"129\": 25, \"39\": 1, \"2\": 2}, \"111\": {\"111\": 120}, \"71\": {\"71\": 101, \"102\": 1, \"12\": 1, \"124\": 2, \"40\": 2, \"70\": 1}, \"47\": {\"47\": 12}, \"82\": {\"82\": 35, \"128\": 1}, \"27\": {\"27\": 92}, \"19\": {\"19\": 28}, \"122\": {\"87\": 1, \"122\": 86, \"9\": 1}, \"53\": {\"53\": 20}, \"87\": {\"87\": 106, \"40\": 1, \"37\": 1}, \"100\": {\"100\": 16}, \"66\": {\"66\": 16}, \"31\": {\"31\": 16}, \"58\": {\"58\": 11, \"54\": 1}, \"68\": {\"68\": 16}, \"88\": {\"88\": 108, \"27\": 1, \"40\": 2, \"36\": 3}, \"45\": {\"45\": 8, \"2\": 2, \"87\": 1, \"0\": 1}, \"114\": {\"114\": 128}, \"23\": {\"58\": 4, \"23\": 17, \"60\": 3}, \"65\": {\"10\": 1, \"65\": 9, \"105\": 1, \"70\": 1}, \"124\": {\"124\": 118}, \"10\": {\"10\": 116, \"18\": 1, \"94\": 1, \"87\": 1, \"12\": 1}, \"92\": {\"92\": 28}, \"40\": {\"40\": 143, \"93\": 1}, \"73\": {\"73\": 19, \"94\": 1}, \"94\": {\"94\": 91, \"27\": 1}, \"81\": {\"81\": 28}, \"101\": {\"101\": 108, \"14\": 1, \"39\": 1}, \"86\": {\"86\": 33, \"85\": 1, \"105\": 1, \"6\": 1}, \"78\": {\"78\": 13, \"87\": 1, \"40\": 2}, \"96\": {\"96\": 19, \"42\": 1}, \"5\": {\"5\": 84, \"110\": 1, \"108\": 1, \"27\": 1, \"107\": 1}, \"16\": {\"16\": 104, \"27\": 1, \"30\": 1, \"88\": 2}, \"35\": {\"35\": 12}, \"51\": {\"51\": 16}, \"46\": {\"46\": 10, \"12\": 1, \"25\": 1}, \"20\": {\"20\": 16}, \"116\": {\"116\": 28, \"66\": 2, \"33\": 1, \"94\": 1}, \"75\": {\"75\": 16}, \"43\": {\"43\": 126, \"26\": 1, \"87\": 1}, \"17\": {\"17\": 16}, \"12\": {\"12\": 103, \"36\": 1}, \"25\": {\"25\": 16}, \"54\": {\"54\": 15, \"40\": 1}, \"36\": {\"36\": 108, \"127\": 1, \"113\": 1, \"88\": 1, \"71\": 1}, \"52\": {\"52\": 20}, \"61\": {\"61\": 12}, \"106\": {\"106\": 120}, \"39\": {\"39\": 102, \"122\": 1, \"87\": 1}, \"119\": {\"119\": 16}, \"125\": {\"125\": 148}, \"93\": {\"93\": 146, \"1\": 1, \"87\": 1}, \"115\": {\"115\": 12}, \"21\": {\"85\": 1, \"21\": 34, \"94\": 1, \"86\": 1, \"34\": 1, \"107\": 1, \"113\": 1}, \"41\": {\"41\": 16}}, \"Wisig_4\": {\"55\": {\"55\": 16}, \"9\": {\"9\": 28}, \"70\": {\"70\": 118, \"39\": 1, \"88\": 3}, \"112\": {\"112\": 16}, \"115\": {\"115\": 13, \"25\": 1, \"64\": 1, \"96\": 1}, \"56\": {\"56\": 10, \"72\": 1, \"127\": 1}, \"108\": {\"111\": 1, \"108\": 85, \"25\": 1, \"0\": 1, \"84\": 1, \"94\": 1, \"83\": 1, \"26\": 1}, \"117\": {\"117\": 122, \"111\": 1, \"70\": 1}, \"111\": {\"111\": 130, \"101\": 2}, \"71\": {\"71\": 94, \"128\": 1, \"114\": 2, \"7\": 2, \"9\": 1, \"105\": 1, \"118\": 1, \"10\": 1, \"40\": 1}, \"59\": {\"59\": 12}, \"10\": {\"10\": 122, \"15\": 1, \"40\": 1}, \"83\": {\"83\": 28}, \"116\": {\"116\": 28}, \"13\": {\"13\": 16}, \"4\": {\"4\": 103, \"69\": 1}, \"125\": {\"125\": 104, \"11\": 1, \"124\": 1}, \"102\": {\"102\": 122, \"105\": 1, \"106\": 1}, \"47\": {\"47\": 12}, \"28\": {\"28\": 20}, \"82\": {\"82\": 30, \"124\": 1, \"78\": 1}, \"60\": {\"60\": 32}, \"107\": {\"107\": 129, \"21\": 1, \"78\": 2, \"113\": 1, \"39\": 1}, \"75\": {\"75\": 16}, \"31\": {\"31\": 16}, \"92\": {\"92\": 28}, \"58\": {\"58\": 16}, \"113\": {\"113\": 123, \"21\": 1, \"40\": 2, \"39\": 1, \"1\": 1}, \"95\": {\"95\": 32}, \"14\": {\"14\": 109, \"40\": 1, \"88\": 1, \"27\": 1}, \"17\": {\"17\": 20}, \"104\": {\"104\": 16}, \"72\": {\"72\": 30, \"12\": 1, \"74\": 1}, \"69\": {\"69\": 123, \"88\": 1, \"40\": 1, \"21\": 1, \"105\": 1, \"109\": 1}, \"63\": {\"63\": 16}, \"12\": {\"12\": 98, \"105\": 1, \"62\": 1}, \"25\": {\"25\": 16}, \"67\": {\"67\": 15, \"123\": 1}, \"50\": {\"50\": 16}, \"43\": {\"43\": 112, \"23\": 2, \"105\": 1, \"87\": 2, \"40\": 1, \"118\": 1, \"84\": 1}, \"96\": {\"96\": 19, \"117\": 1}, \"128\": {\"128\": 24}, \"77\": {\"77\": 12}, \"54\": {\"54\": 16}, \"118\": {\"118\": 103, \"57\": 1, \"40\": 1, \"15\": 1, \"1\": 1, \"106\": 1, \"69\": 1, \"9\": 1, \"127\": 1, \"62\": 1}, \"30\": {\"30\": 74, \"10\": 2}, \"51\": {\"51\": 15, \"25\": 1}, \"122\": {\"122\": 78, \"107\": 1, \"40\": 2, \"94\": 1, \"4\": 1, \"111\": 1}, \"46\": {\"46\": 19, \"124\": 1}, \"79\": {\"79\": 16}, \"103\": {\"103\": 16}, \"74\": {\"12\": 1, \"74\": 15}, \"90\": {\"90\": 146}, \"8\": {\"8\": 139, \"71\": 1, \"90\": 1, \"114\": 1}, \"94\": {\"94\": 84, \"4\": 1, \"106\": 1, \"111\": 1, \"27\": 1}, \"7\": {\"7\": 120, \"87\": 1, \"40\": 1}, \"61\": {\"61\": 16}, \"26\": {\"26\": 118, \"30\": 1, \"12\": 1}, \"127\": {\"127\": 107, \"70\": 1}, \"23\": {\"23\": 12, \"21\": 1, \"60\": 1, \"105\": 2}, \"1\": {\"1\": 104, \"87\": 1, \"40\": 1, \"39\": 1, \"127\": 1}, \"93\": {\"93\": 134}, \"106\": {\"106\": 107, \"71\": 1, \"18\": 1, \"24\": 1, \"40\": 1, \"57\": 1, \"70\": 1, \"69\": 1, \"78\": 1, \"12\": 1}, \"110\": {\"110\": 117, \"5\": 1}, \"76\": {\"76\": 16}, \"36\": {\"36\": 117, \"24\": 2, \"1\": 1}, \"21\": {\"21\": 34, \"84\": 1, \"3\": 1, \"62\": 1, \"78\": 3}, \"37\": {\"37\": 16}, \"11\": {\"11\": 119, \"110\": 1}, \"109\": {\"109\": 113, \"24\": 1, \"81\": 1, \"118\": 1}, \"62\": {\"21\": 1, \"62\": 54, \"111\": 1, \"106\": 1, \"40\": 1, \"69\": 1, \"105\": 1}, \"89\": {\"89\": 31, \"99\": 1}, \"126\": {\"126\": 116, \"40\": 2, \"105\": 2, \"39\": 2, \"27\": 1, \"117\": 1}, \"101\": {\"101\": 123, \"15\": 1, \"4\": 1, \"124\": 1, \"108\": 1, \"40\": 1}, \"65\": {\"65\": 12}, \"19\": {\"19\": 27, \"100\": 1}, \"27\": {\"27\": 98, \"0\": 1, \"24\": 1}, \"5\": {\"5\": 133, \"23\": 1, \"124\": 1, \"1\": 1}, \"73\": {\"73\": 23, \"108\": 1}, \"6\": {\"6\": 24}, \"29\": {\"29\": 32}, \"114\": {\"114\": 127, \"105\": 1}, \"49\": {\"49\": 30, \"70\": 1, \"5\": 1}, \"16\": {\"16\": 115, \"124\": 1, \"1\": 1, \"126\": 1}, \"68\": {\"68\": 16}, \"98\": {\"98\": 117, \"68\": 1, \"124\": 1, \"90\": 1}, \"64\": {\"64\": 16}, \"121\": {\"121\": 28, \"48\": 1, \"96\": 1, \"90\": 1, \"92\": 1}, \"124\": {\"124\": 114}, \"97\": {\"97\": 19, \"36\": 1}, \"40\": {\"40\": 136}, \"119\": {\"119\": 16}, \"100\": {\"100\": 19, \"91\": 1}, \"87\": {\"87\": 114, \"105\": 2}, \"88\": {\"88\": 118, \"108\": 4, \"26\": 1, \"105\": 1, \"70\": 2, \"21\": 1, \"113\": 1}, \"52\": {\"52\": 17, \"82\": 1, \"98\": 1, \"62\": 1}, \"80\": {\"80\": 15, \"6\": 1}, \"105\": {\"105\": 94, \"87\": 1, \"40\": 2, \"27\": 2, \"4\": 1}, \"32\": {\"14\": 2, \"32\": 23, \"118\": 2, \"72\": 1}, \"35\": {\"35\": 12}, \"99\": {\"99\": 40}, \"18\": {\"18\": 118, \"71\": 1, \"30\": 1}, \"24\": {\"24\": 111, \"10\": 1}, \"85\": {\"85\": 27, \"26\": 1}, \"39\": {\"39\": 96, \"106\": 1, \"81\": 1, \"40\": 1, \"26\": 1}, \"123\": {\"123\": 16}, \"91\": {\"91\": 23, \"85\": 1}, \"78\": {\"78\": 28, \"21\": 4, \"40\": 1, \"115\": 1, \"26\": 1, \"107\": 1}, \"38\": {\"38\": 16}, \"15\": {\"15\": 124, \"105\": 2, \"18\": 1, \"26\": 1}, \"48\": {\"48\": 16}, \"45\": {\"45\": 16}, \"120\": {\"120\": 20}, \"44\": {\"44\": 63, \"124\": 1}, \"86\": {\"86\": 26, \"73\": 1, \"21\": 1}, \"20\": {\"20\": 16}, \"33\": {\"33\": 147, \"90\": 1, \"88\": 1, \"10\": 1}, \"129\": {\"129\": 25, \"73\": 3}, \"34\": {\"34\": 22, \"45\": 1, \"14\": 2, \"94\": 1, \"91\": 1, \"41\": 1, \"120\": 1, \"25\": 2, \"23\": 1}, \"81\": {\"81\": 35, \"21\": 1}, \"57\": {\"57\": 12, \"21\": 1, \"100\": 2, \"22\": 1}, \"0\": {\"0\": 112, \"70\": 1, \"101\": 1, \"95\": 1, \"106\": 1}, \"2\": {\"2\": 28}, \"42\": {\"42\": 28}, \"84\": {\"84\": 127, \"1\": 1, \"30\": 1, \"40\": 2, \"26\": 1}, \"3\": {\"3\": 119, \"40\": 1, \"69\": 1, \"23\": 1, \"78\": 1, \"105\": 1, \"24\": 1, \"90\": 1}, \"41\": {\"41\": 15, \"28\": 1}, \"53\": {\"53\": 15, \"0\": 1}, \"66\": {\"66\": 16}, \"22\": {\"22\": 16}}, \"ORACLE.run150\": {\"7\": {\"5\": 92, \"8\": 74, \"0\": 67, \"11\": 73, \"1\": 77, \"2\": 53, \"14\": 65, \"10\": 90, \"4\": 99, \"3\": 71, \"6\": 99, \"7\": 96, \"13\": 98, \"9\": 45, \"12\": 36, \"15\": 65}, \"10\": {\"10\": 129, \"8\": 127, \"11\": 22, \"12\": 40, \"7\": 92, \"4\": 55, \"1\": 55, \"13\": 79, \"5\": 76, \"2\": 102, \"3\": 138, \"0\": 115, \"14\": 53, \"15\": 33, \"6\": 57, \"9\": 27}, \"0\": {\"8\": 145, \"6\": 59, \"3\": 125, \"7\": 83, \"11\": 25, \"4\": 41, \"10\": 116, \"13\": 81, \"5\": 51, \"2\": 117, \"9\": 29, \"12\": 40, \"15\": 39, \"14\": 71, \"0\": 137, \"1\": 41}, \"11\": {\"10\": 19, \"11\": 137, \"13\": 72, \"9\": 136, \"6\": 97, \"3\": 9, \"15\": 130, \"14\": 111, \"5\": 94, \"4\": 93, \"1\": 110, \"0\": 22, \"2\": 23, \"7\": 59, \"12\": 84, \"8\": 4}, \"2\": {\"2\": 152, \"8\": 117, \"15\": 32, \"11\": 26, \"7\": 59, \"6\": 58, \"0\": 152, \"13\": 69, \"3\": 104, \"4\": 44, \"5\": 50, \"10\": 111, \"9\": 38, \"14\": 79, \"12\": 55, \"1\": 54}, \"14\": {\"4\": 65, \"13\": 57, \"15\": 85, \"7\": 67, \"12\": 110, \"5\": 68, \"9\": 98, \"6\": 93, \"0\": 66, \"2\": 78, \"11\": 91, \"1\": 95, \"10\": 60, \"14\": 119, \"8\": 29, \"3\": 19}, \"9\": {\"9\": 169, \"6\": 82, \"15\": 119, \"11\": 142, \"1\": 102, \"5\": 56, \"13\": 62, \"2\": 27, \"4\": 108, \"14\": 111, \"12\": 107, \"7\": 55, \"0\": 24, \"10\": 21, \"8\": 7, \"3\": 8}, \"13\": {\"10\": 82, \"12\": 49, \"13\": 95, \"2\": 64, \"15\": 87, \"7\": 85, \"6\": 97, \"1\": 89, \"0\": 69, \"4\": 91, \"5\": 101, \"8\": 44, \"3\": 59, \"11\": 62, \"9\": 50, \"14\": 76}, \"8\": {\"0\": 136, \"8\": 243, \"3\": 240, \"10\": 143, \"4\": 27, \"12\": 19, \"2\": 103, \"13\": 59, \"7\": 69, \"5\": 47, \"14\": 25, \"11\": 10, \"6\": 24, \"1\": 32, \"9\": 9, \"15\": 14}, \"15\": {\"15\": 140, \"12\": 78, \"1\": 102, \"9\": 101, \"11\": 126, \"14\": 84, \"7\": 77, \"2\": 33, \"4\": 133, \"13\": 83, \"5\": 81, \"6\": 85, \"10\": 32, \"8\": 11, \"0\": 24, \"3\": 10}, \"4\": {\"10\": 46, \"11\": 124, \"4\": 125, \"6\": 85, \"14\": 58, \"9\": 106, \"2\": 33, \"5\": 93, \"1\": 112, \"13\": 75, \"12\": 88, \"7\": 73, \"15\": 100, \"3\": 24, \"0\": 34, \"8\": 24}, \"5\": {\"9\": 67, \"6\": 91, \"7\": 96, \"13\": 107, \"3\": 53, \"4\": 111, \"15\": 85, \"10\": 94, \"5\": 98, \"1\": 74, \"2\": 49, \"12\": 39, \"11\": 57, \"14\": 65, \"0\": 65, \"8\": 49}, \"3\": {\"2\": 73, \"8\": 265, \"0\": 114, \"3\": 317, \"10\": 141, \"7\": 77, \"6\": 23, \"9\": 6, \"13\": 61, \"5\": 37, \"11\": 7, \"1\": 29, \"4\": 24, \"15\": 4, \"14\": 13, \"12\": 9}, \"1\": {\"11\": 103, \"15\": 103, \"6\": 111, \"5\": 93, \"14\": 74, \"4\": 94, \"12\": 70, \"13\": 84, \"9\": 101, \"10\": 62, \"0\": 40, \"1\": 93, \"8\": 26, \"7\": 90, \"2\": 39, \"3\": 17}, \"6\": {\"5\": 85, \"14\": 74, \"15\": 109, \"11\": 94, \"2\": 44, \"13\": 93, \"9\": 87, \"12\": 73, \"6\": 116, \"0\": 52, \"10\": 52, \"7\": 92, \"1\": 82, \"4\": 90, \"3\": 30, \"8\": 27}, \"12\": {\"14\": 145, \"9\": 129, \"3\": 7, \"11\": 135, \"15\": 77, \"0\": 40, \"4\": 79, \"12\": 137, \"1\": 106, \"8\": 16, \"7\": 46, \"6\": 86, \"10\": 35, \"2\": 56, \"13\": 50, \"5\": 56}}, \"ORACLE.run114\": {\"14\": {\"15\": 89, \"14\": 119, \"0\": 69, \"11\": 67, \"13\": 119, \"3\": 75, \"10\": 76, \"2\": 119, \"5\": 85, \"12\": 20, \"7\": 64, \"8\": 25, \"6\": 103, \"1\": 70, \"4\": 66, \"9\": 34}, \"6\": {\"4\": 77, \"14\": 123, \"15\": 100, \"13\": 143, \"6\": 154, \"3\": 76, \"10\": 71, \"11\": 39, \"1\": 53, \"0\": 68, \"5\": 75, \"7\": 79, \"8\": 20, \"2\": 93, \"9\": 20, \"12\": 9}, \"5\": {\"6\": 79, \"13\": 110, \"2\": 96, \"14\": 76, \"5\": 79, \"9\": 41, \"7\": 110, \"4\": 69, \"1\": 83, \"15\": 85, \"0\": 78, \"10\": 67, \"11\": 75, \"8\": 49, \"3\": 76, \"12\": 27}, \"15\": {\"1\": 65, \"13\": 122, \"15\": 131, \"6\": 118, \"5\": 85, \"9\": 15, \"3\": 77, \"0\": 67, \"7\": 121, \"10\": 66, \"14\": 86, \"8\": 29, \"2\": 89, \"4\": 87, \"11\": 36, \"12\": 6}, \"11\": {\"11\": 102, \"2\": 67, \"8\": 76, \"6\": 62, \"0\": 97, \"13\": 57, \"9\": 94, \"14\": 66, \"10\": 84, \"1\": 89, \"4\": 72, \"3\": 94, \"12\": 91, \"7\": 48, \"15\": 46, \"5\": 55}, \"8\": {\"5\": 70, \"7\": 38, \"14\": 28, \"1\": 101, \"8\": 157, \"0\": 77, \"9\": 172, \"13\": 31, \"2\": 40, \"6\": 26, \"4\": 75, \"11\": 71, \"12\": 157, \"3\": 53, \"15\": 38, \"10\": 66}, \"12\": {\"8\": 126, \"0\": 74, \"12\": 372, \"5\": 39, \"1\": 68, \"9\": 207, \"3\": 44, \"4\": 40, \"11\": 91, \"10\": 53, \"2\": 21, \"7\": 18, \"13\": 11, \"15\": 10, \"14\": 22, \"6\": 4}, \"1\": {\"1\": 99, \"4\": 80, \"11\": 81, \"6\": 75, \"13\": 71, \"2\": 67, \"8\": 75, \"5\": 99, \"0\": 81, \"9\": 57, \"3\": 89, \"7\": 73, \"10\": 70, \"14\": 71, \"15\": 62, \"12\": 50}, \"2\": {\"6\": 108, \"3\": 82, \"13\": 104, \"15\": 85, \"7\": 81, \"2\": 108, \"5\": 74, \"10\": 83, \"9\": 29, \"4\": 88, \"1\": 70, \"0\": 68, \"12\": 17, \"11\": 61, \"14\": 110, \"8\": 32}, \"13\": {\"5\": 86, \"1\": 53, \"6\": 128, \"8\": 17, \"7\": 98, \"0\": 59, \"4\": 84, \"14\": 127, \"13\": 137, \"3\": 67, \"11\": 48, \"9\": 15, \"10\": 72, \"15\": 103, \"2\": 99, \"12\": 7}, \"3\": {\"11\": 76, \"7\": 76, \"8\": 60, \"13\": 88, \"6\": 75, \"5\": 82, \"4\": 84, \"14\": 80, \"9\": 47, \"0\": 87, \"2\": 88, \"3\": 91, \"1\": 71, \"10\": 84, \"12\": 53, \"15\": 58}, \"0\": {\"13\": 62, \"9\": 83, \"12\": 71, \"1\": 95, \"4\": 72, \"14\": 83, \"6\": 55, \"8\": 70, \"10\": 78, \"3\": 90, \"5\": 74, \"2\": 52, \"15\": 50, \"7\": 67, \"11\": 90, \"0\": 108}, \"9\": {\"7\": 41, \"9\": 194, \"3\": 60, \"12\": 218, \"8\": 134, \"1\": 46, \"14\": 34, \"2\": 35, \"11\": 107, \"6\": 20, \"5\": 41, \"10\": 86, \"0\": 76, \"4\": 65, \"15\": 19, \"13\": 24}, \"4\": {\"14\": 95, \"5\": 77, \"15\": 91, \"13\": 85, \"7\": 77, \"8\": 55, \"4\": 89, \"6\": 86, \"11\": 74, \"10\": 71, \"0\": 71, \"3\": 99, \"9\": 43, \"2\": 74, \"1\": 85, \"12\": 28}, \"7\": {\"6\": 77, \"5\": 104, \"2\": 90, \"4\": 83, \"13\": 84, \"0\": 73, \"1\": 80, \"14\": 82, \"10\": 61, \"8\": 54, \"15\": 118, \"3\": 69, \"7\": 122, \"11\": 64, \"9\": 26, \"12\": 13}, \"10\": {\"11\": 92, \"12\": 58, \"2\": 74, \"5\": 81, \"4\": 84, \"13\": 88, \"10\": 95, \"0\": 74, \"8\": 60, \"1\": 71, \"3\": 80, \"9\": 63, \"14\": 91, \"7\": 60, \"6\": 78, \"15\": 51}}, \"ORACLE.run132\": {\"4\": {\"8\": 87, \"7\": 110, \"12\": 33, \"4\": 95, \"3\": 99, \"11\": 100, \"5\": 106, \"15\": 50, \"13\": 94, \"0\": 118, \"9\": 76, \"2\": 128, \"14\": 95, \"10\": 5, \"6\": 4}, \"14\": {\"0\": 113, \"13\": 89, \"3\": 106, \"7\": 115, \"8\": 85, \"14\": 112, \"11\": 126, \"4\": 124, \"5\": 113, \"15\": 46, \"9\": 41, \"12\": 28, \"2\": 97, \"6\": 3, \"10\": 2}, \"5\": {\"8\": 127, \"0\": 96, \"4\": 102, \"14\": 100, \"5\": 103, \"7\": 113, \"15\": 75, \"10\": 1, \"2\": 101, \"13\": 112, \"11\": 98, \"3\": 109, \"12\": 24, \"9\": 39}, \"10\": {\"1\": 311, \"12\": 206, \"4\": 9, \"10\": 334, \"9\": 79, \"11\": 6, \"6\": 212, \"13\": 8, \"5\": 5, \"8\": 12, \"0\": 4, \"15\": 3, \"3\": 1, \"2\": 7, \"7\": 1, \"14\": 2}, \"13\": {\"4\": 115, \"14\": 98, \"11\": 86, \"9\": 42, \"13\": 115, \"2\": 81, \"5\": 114, \"3\": 106, \"7\": 107, \"15\": 87, \"8\": 116, \"0\": 107, \"12\": 25, \"10\": 1}, \"9\": {\"1\": 26, \"9\": 222, \"12\": 201, \"8\": 53, \"2\": 107, \"7\": 65, \"3\": 23, \"14\": 49, \"10\": 86, \"11\": 50, \"13\": 42, \"5\": 51, \"6\": 73, \"0\": 72, \"4\": 70, \"15\": 10}, \"6\": {\"10\": 237, \"6\": 388, \"12\": 156, \"9\": 101, \"1\": 279, \"4\": 4, \"7\": 4, \"8\": 1, \"14\": 4, \"2\": 16, \"0\": 5, \"5\": 2, \"11\": 3}, \"3\": {\"9\": 18, \"14\": 86, \"5\": 110, \"8\": 138, \"11\": 101, \"0\": 78, \"13\": 126, \"2\": 56, \"4\": 85, \"15\": 154, \"3\": 163, \"12\": 9, \"7\": 74, \"1\": 1, \"10\": 1}, \"15\": {\"15\": 465, \"8\": 128, \"5\": 68, \"3\": 188, \"13\": 94, \"4\": 36, \"11\": 58, \"14\": 35, \"7\": 35, \"0\": 63, \"10\": 1, \"2\": 24, \"9\": 3, \"12\": 2}, \"7\": {\"14\": 114, \"5\": 95, \"4\": 126, \"2\": 108, \"13\": 103, \"7\": 130, \"0\": 104, \"3\": 105, \"11\": 99, \"8\": 86, \"12\": 23, \"9\": 58, \"15\": 38, \"10\": 7, \"6\": 4}, \"12\": {\"12\": 300, \"8\": 42, \"1\": 50, \"10\": 167, \"6\": 122, \"9\": 206, \"11\": 22, \"5\": 27, \"2\": 53, \"0\": 56, \"13\": 28, \"15\": 7, \"4\": 40, \"3\": 14, \"14\": 31, \"7\": 35}, \"8\": {\"11\": 101, \"8\": 123, \"9\": 41, \"15\": 116, \"13\": 132, \"0\": 105, \"5\": 109, \"3\": 126, \"7\": 78, \"10\": 5, \"4\": 89, \"14\": 92, \"12\": 21, \"2\": 61, \"6\": 1}, \"11\": {\"4\": 83, \"7\": 112, \"2\": 114, \"3\": 102, \"14\": 123, \"0\": 109, \"15\": 90, \"13\": 87, \"5\": 95, \"12\": 20, \"9\": 39, \"11\": 119, \"8\": 101, \"6\": 3, \"1\": 1, \"10\": 2}, \"2\": {\"8\": 63, \"4\": 132, \"2\": 110, \"9\": 115, \"0\": 117, \"7\": 110, \"5\": 108, \"13\": 92, \"3\": 62, \"14\": 81, \"12\": 61, \"11\": 98, \"15\": 22, \"10\": 12, \"6\": 16, \"1\": 1}, \"1\": {\"10\": 320, \"6\": 247, \"1\": 531, \"12\": 68, \"9\": 22, \"15\": 2, \"8\": 3, \"4\": 2, \"2\": 1, \"7\": 2, \"11\": 1, \"14\": 1}, \"0\": {\"14\": 103, \"11\": 107, \"7\": 89, \"13\": 92, \"2\": 116, \"10\": 13, \"9\": 65, \"3\": 89, \"12\": 45, \"8\": 86, \"4\": 104, \"15\": 71, \"5\": 106, \"0\": 109, \"6\": 5}}, \"ORACLE.run144\": {\"8\": {\"0\": 273, \"14\": 101, \"8\": 292, \"15\": 211, \"5\": 184, \"12\": 12, \"4\": 62, \"13\": 8, \"7\": 4, \"6\": 5, \"3\": 18, \"9\": 8, \"2\": 4, \"1\": 10, \"11\": 4, \"10\": 4}, \"11\": {\"11\": 277, \"1\": 77, \"10\": 83, \"2\": 92, \"7\": 109, \"6\": 139, \"3\": 37, \"12\": 79, \"9\": 90, \"4\": 29, \"14\": 30, \"13\": 133, \"8\": 1, \"5\": 15, \"15\": 7, \"0\": 2}, \"14\": {\"14\": 153, \"6\": 30, \"13\": 55, \"15\": 138, \"5\": 136, \"12\": 38, \"0\": 119, \"3\": 69, \"4\": 141, \"1\": 44, \"8\": 86, \"9\": 51, \"11\": 40, \"7\": 44, \"2\": 35, \"10\": 21}, \"10\": {\"3\": 84, \"4\": 35, \"1\": 129, \"6\": 101, \"10\": 122, \"12\": 123, \"7\": 125, \"13\": 81, \"2\": 135, \"5\": 7, \"9\": 123, \"14\": 18, \"11\": 105, \"15\": 11, \"8\": 1}, \"3\": {\"2\": 75, \"10\": 121, \"6\": 68, \"1\": 105, \"9\": 110, \"3\": 139, \"15\": 39, \"12\": 104, \"11\": 59, \"14\": 52, \"5\": 44, \"13\": 89, \"4\": 97, \"8\": 7, \"0\": 21, \"7\": 70}, \"15\": {\"7\": 17, \"15\": 225, \"0\": 191, \"8\": 199, \"12\": 20, \"5\": 147, \"14\": 145, \"1\": 22, \"3\": 41, \"4\": 118, \"13\": 14, \"9\": 20, \"11\": 8, \"2\": 20, \"6\": 6, \"10\": 7}, \"2\": {\"12\": 95, \"9\": 95, \"3\": 98, \"6\": 126, \"13\": 135, \"1\": 114, \"2\": 104, \"11\": 111, \"7\": 106, \"4\": 47, \"14\": 29, \"10\": 117, \"0\": 4, \"15\": 8, \"5\": 10, \"8\": 1}, \"12\": {\"12\": 122, \"7\": 111, \"6\": 82, \"11\": 88, \"13\": 98, \"2\": 128, \"1\": 150, \"10\": 120, \"15\": 6, \"14\": 25, \"3\": 116, \"9\": 89, \"4\": 42, \"8\": 7, \"5\": 12, \"0\": 4}, \"4\": {\"8\": 61, \"3\": 67, \"15\": 108, \"13\": 65, \"9\": 79, \"12\": 52, \"5\": 115, \"0\": 88, \"4\": 147, \"14\": 144, \"7\": 77, \"11\": 30, \"6\": 32, \"2\": 47, \"1\": 51, \"10\": 37}, \"1\": {\"4\": 72, \"12\": 121, \"3\": 120, \"2\": 108, \"7\": 101, \"10\": 115, \"1\": 115, \"6\": 86, \"11\": 94, \"13\": 85, \"14\": 32, \"9\": 100, \"15\": 19, \"0\": 10, \"8\": 11, \"5\": 11}, \"0\": {\"4\": 83, \"14\": 106, \"8\": 245, \"11\": 7, \"9\": 16, \"15\": 218, \"5\": 175, \"0\": 253, \"1\": 10, \"7\": 6, \"2\": 8, \"3\": 35, \"10\": 10, \"12\": 10, \"6\": 5, \"13\": 13}, \"9\": {\"3\": 85, \"7\": 103, \"12\": 94, \"1\": 102, \"2\": 125, \"11\": 109, \"14\": 40, \"10\": 111, \"6\": 99, \"9\": 102, \"13\": 122, \"4\": 58, \"5\": 24, \"8\": 4, \"0\": 11, \"15\": 11}, \"5\": {\"8\": 160, \"5\": 195, \"6\": 14, \"15\": 148, \"12\": 22, \"0\": 161, \"14\": 151, \"11\": 17, \"9\": 32, \"1\": 31, \"7\": 30, \"4\": 119, \"2\": 24, \"13\": 44, \"10\": 15, \"3\": 37}, \"6\": {\"9\": 109, \"12\": 83, \"6\": 152, \"2\": 102, \"4\": 31, \"10\": 112, \"13\": 127, \"14\": 16, \"3\": 63, \"1\": 74, \"11\": 169, \"7\": 132, \"5\": 14, \"15\": 9, \"0\": 6, \"8\": 1}, \"7\": {\"1\": 105, \"10\": 117, \"6\": 105, \"13\": 138, \"11\": 111, \"2\": 122, \"7\": 116, \"3\": 88, \"12\": 70, \"9\": 107, \"4\": 45, \"14\": 41, \"0\": 3, \"15\": 12, \"5\": 18, \"8\": 2}, \"13\": {\"12\": 81, \"2\": 124, \"14\": 51, \"11\": 141, \"9\": 113, \"13\": 122, \"6\": 132, \"5\": 24, \"3\": 58, \"4\": 56, \"7\": 106, \"10\": 94, \"15\": 12, \"1\": 69, \"8\": 9, \"0\": 8}}, \"ORACLE.run18\": {\"13\": {\"0\": 88, \"15\": 60, \"14\": 84, \"13\": 91, \"9\": 54, \"8\": 76, \"11\": 68, \"3\": 65, \"1\": 75, \"2\": 57, \"7\": 75, \"10\": 107, \"6\": 72, \"4\": 87, \"12\": 53, \"5\": 88}, \"3\": {\"15\": 112, \"12\": 143, \"5\": 53, \"10\": 44, \"7\": 80, \"0\": 66, \"8\": 108, \"3\": 126, \"4\": 58, \"6\": 77, \"2\": 91, \"14\": 47, \"1\": 61, \"13\": 58, \"11\": 70, \"9\": 6}, \"15\": {\"15\": 109, \"7\": 85, \"3\": 124, \"0\": 53, \"12\": 126, \"4\": 54, \"6\": 76, \"1\": 68, \"2\": 111, \"14\": 52, \"11\": 82, \"8\": 111, \"10\": 53, \"13\": 50, \"5\": 45, \"9\": 1}, \"4\": {\"8\": 70, \"13\": 82, \"14\": 68, \"7\": 92, \"2\": 72, \"3\": 63, \"5\": 90, \"12\": 57, \"6\": 77, \"9\": 49, \"11\": 86, \"15\": 75, \"10\": 90, \"1\": 78, \"0\": 81, \"4\": 70}, \"7\": {\"5\": 70, \"6\": 82, \"11\": 64, \"0\": 81, \"14\": 88, \"12\": 69, \"7\": 80, \"10\": 89, \"3\": 94, \"15\": 93, \"8\": 72, \"4\": 73, \"9\": 26, \"13\": 75, \"2\": 72, \"1\": 72}, \"2\": {\"8\": 107, \"6\": 76, \"10\": 57, \"1\": 60, \"12\": 81, \"15\": 94, \"14\": 51, \"3\": 113, \"4\": 82, \"0\": 89, \"2\": 100, \"11\": 74, \"5\": 51, \"7\": 77, \"9\": 13, \"13\": 75}, \"1\": {\"5\": 95, \"1\": 81, \"10\": 81, \"13\": 79, \"8\": 84, \"3\": 66, \"2\": 63, \"4\": 84, \"6\": 96, \"0\": 66, \"11\": 101, \"7\": 82, \"14\": 75, \"9\": 26, \"15\": 62, \"12\": 59}, \"0\": {\"7\": 93, \"13\": 101, \"14\": 78, \"0\": 83, \"9\": 42, \"6\": 82, \"3\": 62, \"12\": 51, \"10\": 97, \"11\": 85, \"2\": 54, \"15\": 71, \"1\": 73, \"8\": 51, \"5\": 90, \"4\": 87}, \"12\": {\"3\": 128, \"8\": 112, \"1\": 67, \"6\": 67, \"14\": 57, \"5\": 44, \"12\": 155, \"13\": 50, \"2\": 112, \"0\": 44, \"11\": 64, \"10\": 46, \"15\": 128, \"4\": 60, \"9\": 4, \"7\": 62}, \"6\": {\"2\": 72, \"3\": 78, \"10\": 74, \"1\": 71, \"5\": 85, \"11\": 83, \"4\": 83, \"13\": 86, \"7\": 70, \"9\": 28, \"8\": 83, \"6\": 88, \"0\": 73, \"15\": 79, \"14\": 82, \"12\": 65}, \"11\": {\"13\": 70, \"14\": 82, \"1\": 101, \"11\": 99, \"7\": 78, \"3\": 61, \"0\": 74, \"6\": 76, \"12\": 80, \"2\": 67, \"8\": 88, \"10\": 77, \"4\": 68, \"5\": 71, \"15\": 83, \"9\": 25}, \"9\": {\"14\": 63, \"9\": 617, \"1\": 35, \"10\": 94, \"5\": 98, \"11\": 28, \"4\": 60, \"12\": 4, \"6\": 39, \"0\": 63, \"15\": 8, \"13\": 38, \"7\": 28, \"8\": 10, \"2\": 11, \"3\": 4}, \"5\": {\"9\": 80, \"7\": 52, \"1\": 80, \"14\": 95, \"2\": 57, \"3\": 58, \"6\": 79, \"10\": 104, \"12\": 35, \"8\": 53, \"0\": 80, \"15\": 54, \"5\": 115, \"13\": 96, \"4\": 77, \"11\": 85}, \"10\": {\"2\": 64, \"9\": 77, \"13\": 90, \"8\": 58, \"14\": 93, \"1\": 76, \"11\": 75, \"0\": 89, \"3\": 49, \"7\": 85, \"10\": 104, \"5\": 114, \"4\": 76, \"6\": 75, \"12\": 31, \"15\": 44}, \"14\": {\"7\": 61, \"4\": 89, \"15\": 50, \"8\": 57, \"5\": 103, \"11\": 68, \"10\": 93, \"3\": 80, \"2\": 65, \"12\": 40, \"0\": 102, \"1\": 77, \"14\": 81, \"6\": 92, \"9\": 62, \"13\": 80}, \"8\": {\"6\": 73, \"13\": 52, \"1\": 81, \"5\": 60, \"0\": 56, \"3\": 112, \"8\": 103, \"4\": 60, \"10\": 58, \"7\": 87, \"14\": 72, \"15\": 97, \"11\": 87, \"12\": 105, \"2\": 91, \"9\": 6}}, \"ORACLE.run120\": {\"6\": {\"1\": 47, \"13\": 50, \"5\": 53, \"0\": 61, \"6\": 103, \"3\": 71, \"12\": 64, \"2\": 61, \"10\": 104, \"11\": 74, \"7\": 101, \"15\": 60, \"4\": 82, \"9\": 66, \"14\": 111, \"8\": 92}, \"11\": {\"12\": 70, \"11\": 103, \"1\": 70, \"0\": 92, \"3\": 72, \"2\": 65, \"7\": 83, \"9\": 80, \"13\": 78, \"8\": 78, \"10\": 64, \"5\": 78, \"15\": 57, \"4\": 61, \"6\": 78, \"14\": 71}, \"5\": {\"14\": 70, \"11\": 66, \"3\": 76, \"4\": 81, \"8\": 71, \"13\": 79, \"6\": 57, \"7\": 67, \"12\": 88, \"5\": 74, \"1\": 87, \"2\": 71, \"0\": 71, \"15\": 96, \"9\": 92, \"10\": 54}, \"14\": {\"5\": 66, \"0\": 50, \"12\": 53, \"7\": 84, \"14\": 120, \"1\": 61, \"3\": 71, \"8\": 96, \"2\": 61, \"15\": 54, \"10\": 125, \"6\": 94, \"13\": 42, \"4\": 104, \"11\": 57, \"9\": 62}, \"2\": {\"13\": 83, \"12\": 64, \"5\": 72, \"15\": 74, \"6\": 77, \"9\": 81, \"14\": 62, \"4\": 73, \"0\": 66, \"1\": 76, \"3\": 90, \"7\": 98, \"11\": 69, \"10\": 57, \"2\": 88, \"8\": 70}, \"7\": {\"11\": 85, \"12\": 83, \"4\": 66, \"10\": 96, \"14\": 66, \"0\": 56, \"15\": 56, \"9\": 69, \"3\": 70, \"2\": 95, \"13\": 72, \"8\": 83, \"7\": 80, \"1\": 75, \"5\": 69, \"6\": 79}, \"3\": {\"0\": 85, \"4\": 67, \"3\": 67, \"11\": 61, \"10\": 88, \"8\": 69, \"9\": 75, \"7\": 78, \"13\": 82, \"6\": 63, \"5\": 74, \"12\": 76, \"15\": 65, \"14\": 84, \"2\": 85, \"1\": 81}, \"4\": {\"0\": 70, \"11\": 58, \"8\": 90, \"3\": 78, \"9\": 59, \"5\": 73, \"2\": 65, \"4\": 89, \"7\": 83, \"10\": 86, \"15\": 59, \"6\": 88, \"1\": 80, \"14\": 96, \"12\": 75, \"13\": 51}, \"9\": {\"5\": 84, \"2\": 87, \"3\": 83, \"12\": 76, \"1\": 72, \"7\": 84, \"9\": 76, \"13\": 83, \"0\": 62, \"11\": 70, \"4\": 70, \"15\": 91, \"8\": 68, \"10\": 62, \"6\": 72, \"14\": 60}, \"12\": {\"13\": 86, \"12\": 76, \"8\": 72, \"2\": 88, \"15\": 90, \"4\": 93, \"6\": 71, \"3\": 76, \"14\": 58, \"9\": 65, \"5\": 78, \"10\": 65, \"1\": 80, \"7\": 75, \"11\": 61, \"0\": 66}, \"0\": {\"15\": 88, \"12\": 80, \"0\": 82, \"9\": 87, \"10\": 70, \"7\": 76, \"14\": 61, \"3\": 81, \"13\": 82, \"1\": 78, \"5\": 71, \"11\": 60, \"8\": 68, \"2\": 92, \"4\": 68, \"6\": 56}, \"10\": {\"1\": 61, \"11\": 46, \"9\": 66, \"7\": 98, \"5\": 56, \"6\": 110, \"3\": 70, \"10\": 147, \"12\": 62, \"15\": 44, \"14\": 98, \"2\": 57, \"13\": 59, \"0\": 49, \"8\": 97, \"4\": 80}, \"8\": {\"14\": 100, \"12\": 67, \"15\": 58, \"9\": 75, \"5\": 53, \"1\": 69, \"4\": 102, \"8\": 87, \"0\": 60, \"7\": 75, \"10\": 103, \"2\": 53, \"11\": 68, \"3\": 73, \"13\": 61, \"6\": 96}, \"13\": {\"10\": 52, \"11\": 89, \"1\": 115, \"9\": 76, \"0\": 87, \"13\": 107, \"12\": 71, \"5\": 90, \"3\": 74, \"2\": 71, \"4\": 56, \"7\": 69, \"15\": 98, \"8\": 49, \"6\": 42, \"14\": 54}, \"1\": {\"6\": 70, \"15\": 98, \"12\": 87, \"14\": 56, \"13\": 76, \"1\": 87, \"5\": 89, \"10\": 55, \"3\": 69, \"2\": 67, \"7\": 67, \"9\": 84, \"11\": 65, \"4\": 85, \"8\": 51, \"0\": 94}, \"15\": {\"1\": 109, \"15\": 91, \"5\": 65, \"7\": 68, \"9\": 80, \"10\": 59, \"6\": 60, \"0\": 95, \"3\": 66, \"14\": 49, \"12\": 88, \"2\": 84, \"13\": 113, \"11\": 59, \"4\": 56, \"8\": 58}}, \"ORACLE.run138\": {\"3\": {\"9\": 118, \"6\": 102, \"13\": 48, \"7\": 118, \"1\": 38, \"0\": 135, \"10\": 53, \"2\": 18, \"12\": 66, \"4\": 40, \"5\": 89, \"8\": 93, \"3\": 202, \"14\": 19, \"15\": 47, \"11\": 14}, \"8\": {\"3\": 83, \"12\": 76, \"15\": 80, \"7\": 115, \"0\": 92, \"6\": 90, \"13\": 92, \"10\": 67, \"11\": 41, \"2\": 49, \"5\": 91, \"14\": 63, \"8\": 84, \"9\": 81, \"4\": 46, \"1\": 50}, \"0\": {\"3\": 116, \"12\": 93, \"0\": 109, \"8\": 95, \"6\": 77, \"11\": 39, \"5\": 92, \"9\": 93, \"10\": 86, \"15\": 47, \"7\": 114, \"14\": 56, \"13\": 50, \"2\": 33, \"4\": 57, \"1\": 43}, \"2\": {\"0\": 31, \"14\": 131, \"12\": 18, \"5\": 61, \"6\": 55, \"2\": 200, \"15\": 122, \"1\": 121, \"3\": 17, \"8\": 66, \"9\": 42, \"10\": 58, \"11\": 111, \"13\": 134, \"7\": 23, \"4\": 10}, \"4\": {\"8\": 58, \"10\": 69, \"13\": 12, \"0\": 66, \"11\": 78, \"12\": 231, \"7\": 122, \"4\": 376, \"5\": 49, \"6\": 17, \"3\": 39, \"1\": 4, \"14\": 47, \"15\": 13, \"9\": 14, \"2\": 5}, \"7\": {\"8\": 90, \"12\": 110, \"0\": 120, \"10\": 89, \"9\": 65, \"3\": 93, \"1\": 29, \"4\": 113, \"11\": 46, \"7\": 161, \"14\": 44, \"5\": 78, \"6\": 58, \"15\": 49, \"2\": 22, \"13\": 33}, \"12\": {\"4\": 172, \"11\": 79, \"12\": 221, \"7\": 112, \"0\": 89, \"8\": 76, \"14\": 66, \"10\": 81, \"5\": 76, \"6\": 36, \"1\": 28, \"13\": 23, \"9\": 36, \"3\": 52, \"2\": 22, \"15\": 31}, \"6\": {\"9\": 107, \"7\": 90, \"14\": 42, \"6\": 135, \"3\": 86, \"1\": 109, \"8\": 104, \"15\": 93, \"12\": 32, \"5\": 73, \"2\": 64, \"0\": 78, \"13\": 76, \"10\": 60, \"11\": 34, \"4\": 17}, \"15\": {\"15\": 120, \"2\": 112, \"12\": 22, \"4\": 23, \"1\": 143, \"9\": 51, \"7\": 49, \"13\": 108, \"3\": 50, \"14\": 80, \"6\": 94, \"10\": 86, \"0\": 53, \"5\": 90, \"8\": 65, \"11\": 54}, \"11\": {\"8\": 62, \"15\": 45, \"11\": 221, \"0\": 54, \"12\": 66, \"2\": 114, \"10\": 104, \"7\": 70, \"14\": 178, \"1\": 50, \"9\": 18, \"4\": 55, \"13\": 77, \"6\": 30, \"3\": 13, \"5\": 43}, \"9\": {\"1\": 88, \"9\": 133, \"3\": 117, \"6\": 120, \"8\": 100, \"0\": 94, \"7\": 74, \"14\": 35, \"2\": 51, \"12\": 37, \"5\": 94, \"13\": 74, \"15\": 74, \"10\": 67, \"11\": 32, \"4\": 10}, \"14\": {\"2\": 110, \"15\": 89, \"13\": 89, \"3\": 15, \"11\": 166, \"4\": 43, \"12\": 72, \"6\": 35, \"0\": 46, \"9\": 36, \"8\": 62, \"7\": 58, \"14\": 167, \"10\": 97, \"5\": 64, \"1\": 51}, \"10\": {\"8\": 86, \"0\": 82, \"2\": 73, \"10\": 99, \"3\": 56, \"7\": 70, \"14\": 95, \"11\": 95, \"1\": 64, \"4\": 64, \"12\": 73, \"13\": 71, \"6\": 55, \"5\": 96, \"9\": 48, \"15\": 73}, \"5\": {\"2\": 53, \"6\": 95, \"3\": 80, \"15\": 64, \"0\": 98, \"7\": 83, \"1\": 85, \"14\": 55, \"8\": 105, \"13\": 62, \"10\": 71, \"4\": 50, \"5\": 92, \"12\": 58, \"11\": 68, \"9\": 81}, \"1\": {\"5\": 54, \"13\": 130, \"15\": 120, \"1\": 162, \"3\": 43, \"7\": 31, \"11\": 63, \"10\": 55, \"8\": 76, \"9\": 98, \"6\": 91, \"14\": 76, \"2\": 124, \"0\": 50, \"12\": 26, \"4\": 1}, \"13\": {\"10\": 79, \"15\": 99, \"3\": 41, \"0\": 65, \"7\": 59, \"2\": 123, \"8\": 85, \"13\": 133, \"11\": 76, \"1\": 108, \"14\": 83, \"6\": 84, \"9\": 70, \"5\": 64, \"4\": 10, \"12\": 21}}, \"ORACLE.run126\": {\"5\": {\"12\": 88, \"3\": 70, \"14\": 50, \"4\": 82, \"6\": 84, \"2\": 65, \"8\": 61, \"15\": 79, \"9\": 80, \"0\": 65, \"11\": 72, \"1\": 59, \"10\": 75, \"13\": 98, \"5\": 96, \"7\": 76}, \"8\": {\"1\": 90, \"14\": 85, \"2\": 70, \"10\": 93, \"7\": 78, \"9\": 75, \"5\": 72, \"0\": 88, \"4\": 73, \"3\": 82, \"13\": 67, \"12\": 56, \"15\": 66, \"11\": 52, \"8\": 74, \"6\": 79}, \"4\": {\"10\": 87, \"4\": 112, \"12\": 45, \"2\": 94, \"6\": 67, \"3\": 92, \"14\": 85, \"0\": 92, \"7\": 82, \"11\": 23, \"5\": 72, \"1\": 96, \"15\": 69, \"8\": 78, \"9\": 56, \"13\": 50}, \"12\": {\"6\": 87, \"3\": 39, \"4\": 45, \"11\": 174, \"9\": 80, \"0\": 47, \"15\": 64, \"7\": 48, \"2\": 42, \"14\": 52, \"12\": 166, \"8\": 55, \"1\": 38, \"10\": 74, \"5\": 99, \"13\": 90}, \"6\": {\"0\": 78, \"8\": 86, \"1\": 74, \"7\": 71, \"4\": 60, \"12\": 97, \"10\": 81, \"9\": 89, \"13\": 73, \"2\": 64, \"5\": 77, \"14\": 64, \"6\": 84, \"3\": 64, \"15\": 85, \"11\": 53}, \"7\": {\"2\": 88, \"9\": 83, \"15\": 77, \"3\": 91, \"12\": 42, \"5\": 72, \"10\": 85, \"4\": 99, \"1\": 96, \"7\": 84, \"8\": 75, \"6\": 65, \"0\": 94, \"14\": 81, \"13\": 48, \"11\": 20}, \"10\": {\"0\": 90, \"2\": 73, \"3\": 93, \"13\": 59, \"10\": 79, \"6\": 84, \"8\": 79, \"1\": 77, \"9\": 87, \"11\": 34, \"12\": 58, \"4\": 100, \"15\": 82, \"14\": 75, \"7\": 71, \"5\": 59}, \"0\": {\"9\": 67, \"2\": 75, \"11\": 28, \"4\": 113, \"6\": 80, \"3\": 80, \"1\": 99, \"13\": 61, \"14\": 84, \"15\": 73, \"8\": 89, \"7\": 74, \"5\": 50, \"0\": 88, \"12\": 54, \"10\": 85}, \"15\": {\"5\": 71, \"14\": 59, \"10\": 93, \"0\": 90, \"12\": 71, \"15\": 88, \"13\": 89, \"8\": 69, \"2\": 69, \"9\": 73, \"3\": 93, \"4\": 61, \"7\": 76, \"6\": 75, \"1\": 71, \"11\": 52}, \"9\": {\"8\": 82, \"0\": 74, \"7\": 71, \"1\": 76, \"15\": 64, \"4\": 61, \"13\": 89, \"3\": 65, \"12\": 93, \"2\": 80, \"5\": 81, \"6\": 90, \"14\": 64, \"9\": 83, \"10\": 77, \"11\": 50}, \"11\": {\"3\": 34, \"11\": 383, \"15\": 69, \"8\": 36, \"12\": 175, \"13\": 106, \"7\": 34, \"10\": 37, \"6\": 52, \"5\": 88, \"4\": 26, \"2\": 29, \"1\": 16, \"0\": 25, \"9\": 59, \"14\": 31}, \"14\": {\"13\": 49, \"0\": 98, \"4\": 98, \"1\": 113, \"9\": 61, \"6\": 75, \"10\": 95, \"3\": 69, \"2\": 69, \"15\": 78, \"14\": 104, \"5\": 72, \"8\": 71, \"7\": 87, \"11\": 14, \"12\": 47}, \"2\": {\"0\": 89, \"14\": 71, \"7\": 85, \"2\": 86, \"5\": 85, \"6\": 71, \"13\": 61, \"9\": 72, \"1\": 90, \"11\": 24, \"4\": 94, \"12\": 55, \"10\": 84, \"8\": 67, \"3\": 86, \"15\": 80}, \"13\": {\"11\": 95, \"9\": 81, \"12\": 111, \"14\": 61, \"3\": 67, \"2\": 60, \"5\": 92, \"13\": 111, \"8\": 69, \"7\": 55, \"10\": 69, \"4\": 58, \"1\": 53, \"6\": 86, \"15\": 77, \"0\": 55}, \"3\": {\"2\": 86, \"4\": 89, \"9\": 83, \"10\": 95, \"15\": 77, \"1\": 116, \"5\": 67, \"7\": 89, \"13\": 62, \"3\": 86, \"14\": 71, \"0\": 84, \"12\": 51, \"11\": 23, \"6\": 54, \"8\": 67}, \"1\": {\"15\": 76, \"7\": 94, \"4\": 103, \"0\": 76, \"5\": 58, \"3\": 81, \"13\": 54, \"6\": 67, \"12\": 41, \"14\": 96, \"1\": 115, \"8\": 82, \"9\": 64, \"10\": 83, \"2\": 93, \"11\": 17}}}, \"per_domain_accuracy\": {\"Wisig_3\": {\"accuracy\": 0.9762554585152838, \"source?\": true}, \"Wisig_2\": {\"accuracy\": 0.9565104166666667, \"source?\": true}, \"Wisig_1\": {\"accuracy\": 0.9782838983050848, \"source?\": true}, \"Wisig_4\": {\"accuracy\": 0.9657921810699589, \"source?\": true}, \"ORACLE.run150\": {\"accuracy\": 0.11994791666666667, \"source?\": false}, \"ORACLE.run114\": {\"accuracy\": 0.11234375, \"source?\": false}, \"ORACLE.run132\": {\"accuracy\": 0.17807291666666666, \"source?\": false}, \"ORACLE.run144\": {\"accuracy\": 0.13729166666666667, \"source?\": false}, \"ORACLE.run18\": {\"accuracy\": 0.10947916666666667, \"source?\": false}, \"ORACLE.run120\": {\"accuracy\": 0.07692708333333333, \"source?\": false}, \"ORACLE.run138\": {\"accuracy\": 0.13619791666666667, \"source?\": false}, \"ORACLE.run126\": {\"accuracy\": 0.09578125, \"source?\": false}}}, \"history\": {\"epoch_indices\": [1, 2, 3, 4, 5, 6], \"train_label_loss\": [0.1888936355837333, 0.11981880759525482, 0.09990877708721357, 0.08091619048161527, 0.0709101299705831, 0.05510968217450852], \"source_val_label_loss\": [0.16703951358795166, 0.13522109389305115, 0.11918614059686661, 0.12069442868232727, 0.11485389620065689, 0.12364154309034348], \"target_val_label_loss\": [2.6846892833709717, 2.667351722717285, 2.718308448791504, 2.761317491531372, 2.838709831237793, 2.9175314903259277], \"source_val_acc_label\": [0.9610363924050633, 0.969079641350211, 0.9715189873417721, 0.9727386603375527, 0.974189082278481, 0.9729034810126582], \"target_val_acc_label\": [0.1194921875, 0.12075520833333334, 0.11292317708333334, 0.10658203125, 0.098671875, 0.09550130208333334]}, \"dataset_metrics\": {\"source\": {\"train\": {\"n_unique_x\": 189023, \"n_unique_y\": 130, \"n_batch/episode\": 6843}, \"val\": {\"n_unique_x\": 40070, \"n_unique_y\": 130, \"n_batch/episode\": 948}, \"test\": {\"n_unique_x\": 40836, \"n_unique_y\": 130, \"n_batch/episode\": 967}}, \"target\": {\"train\": {\"n_unique_x\": 896000, \"n_unique_y\": 16, \"n_batch/episode\": 33600}, \"val\": {\"n_unique_x\": 192000, \"n_unique_y\": 16, \"n_batch/episode\": 4800}, \"test\": {\"n_unique_x\": 192000, \"n_unique_y\": 16, \"n_batch/episode\": 4800}}}}'"
      ]
     },
     "execution_count": 29,
     "metadata": {},
     "output_type": "execute_result"
    }
   ],
   "source": [
    "json.dumps(experiment)"
   ]
  }
 ],
 "metadata": {
  "celltoolbar": "Tags",
  "kernelspec": {
   "display_name": "Python 3 (ipykernel)",
   "language": "python",
   "name": "python3"
  },
  "language_info": {
   "codemirror_mode": {
    "name": "ipython",
    "version": 3
   },
   "file_extension": ".py",
   "mimetype": "text/x-python",
   "name": "python",
   "nbconvert_exporter": "python",
   "pygments_lexer": "ipython3",
   "version": "3.8.12"
  },
  "papermill": {
   "default_parameters": {},
   "duration": 2460.937747,
   "end_time": "2022-03-24T07:14:32.452269",
   "environment_variables": {},
   "exception": null,
   "input_path": "/root/csc500-main/csc500-notebooks/templates/tl_ptn_template.ipynb",
   "output_path": "trial.ipynb",
   "parameters": {
    "parameters": {
     "BEST_MODEL_PATH": "./best_model.pth",
     "NUM_LOGS_PER_EPOCH": 10,
     "criteria_for_best": "target_accuracy",
     "dataset_seed": 500,
     "datasets": [
      {
       "domain_prefix": "Wisig_",
       "domains": [
        1,
        2,
        3,
        4
       ],
       "episode_transforms": [],
       "labels": [
        "1-10",
        "1-12",
        "1-14",
        "1-16",
        "1-18",
        "1-19",
        "1-8",
        "10-11",
        "10-17",
        "10-4",
        "10-7",
        "11-1",
        "11-10",
        "11-19",
        "11-20",
        "11-4",
        "11-7",
        "12-19",
        "12-20",
        "12-7",
        "13-14",
        "13-18",
        "13-19",
        "13-20",
        "13-3",
        "13-7",
        "14-10",
        "14-11",
        "14-12",
        "14-13",
        "14-14",
        "14-19",
        "14-20",
        "14-7",
        "14-8",
        "14-9",
        "15-1",
        "15-19",
        "15-6",
        "16-1",
        "16-16",
        "16-19",
        "16-20",
        "17-10",
        "17-11",
        "18-1",
        "18-10",
        "18-11",
        "18-12",
        "18-13",
        "18-14",
        "18-15",
        "18-16",
        "18-17",
        "18-19",
        "18-2",
        "18-20",
        "18-4",
        "18-5",
        "18-7",
        "18-8",
        "18-9",
        "19-1",
        "19-10",
        "19-11",
        "19-12",
        "19-13",
        "19-14",
        "19-15",
        "19-19",
        "19-2",
        "19-20",
        "19-3",
        "19-4",
        "19-6",
        "19-7",
        "19-8",
        "19-9",
        "2-1",
        "2-13",
        "2-15",
        "2-3",
        "2-4",
        "2-5",
        "2-6",
        "2-7",
        "2-8",
        "20-1",
        "20-12",
        "20-14",
        "20-15",
        "20-16",
        "20-18",
        "20-19",
        "20-20",
        "20-3",
        "20-4",
        "20-5",
        "20-7",
        "20-8",
        "3-1",
        "3-13",
        "3-18",
        "3-2",
        "3-8",
        "4-1",
        "4-10",
        "4-11",
        "5-1",
        "5-5",
        "6-1",
        "6-15",
        "6-6",
        "7-10",
        "7-11",
        "7-12",
        "7-13",
        "7-14",
        "7-7",
        "7-8",
        "7-9",
        "8-1",
        "8-13",
        "8-14",
        "8-18",
        "8-20",
        "8-3",
        "8-8",
        "9-1",
        "9-7"
       ],
       "num_examples_per_domain_per_label": -1,
       "pickle_path": "/root/csc500-main/datasets/wisig.node3-19.stratified_ds.2022A.pkl",
       "source_or_target_dataset": "source",
       "x_transforms": [
        "unit_mag"
       ]
      },
      {
       "domain_prefix": "ORACLE.run1",
       "domains": [
        32,
        38,
        8,
        44,
        14,
        50,
        20,
        26
       ],
       "episode_transforms": [],
       "labels": [
        "3123D52",
        "3123D65",
        "3123D79",
        "3123D80",
        "3123D54",
        "3123D70",
        "3123D7B",
        "3123D89",
        "3123D58",
        "3123D76",
        "3123D7D",
        "3123EFE",
        "3123D64",
        "3123D78",
        "3123D7E",
        "3124E4A"
       ],
       "num_examples_per_domain_per_label": 10000,
       "pickle_path": "/root/csc500-main/datasets/oracle.Run1_10kExamples_stratified_ds.2022A.pkl",
       "source_or_target_dataset": "target",
       "x_transforms": [
        "unit_mag"
       ]
      }
     ],
     "device": "cuda",
     "experiment_name": "tl_1v2:wisig-oracle.run1",
     "lr": 0.0001,
     "n_epoch": 50,
     "n_query": 2,
     "n_shot": 3,
     "n_way": 16,
     "patience": 3,
     "seed": 500,
     "test_k_factor": 2,
     "torch_default_dtype": "torch.float32",
     "train_k_factor": 3,
     "val_k_factor": 2,
     "x_net": [
      {
       "class": "nnReshape",
       "kargs": {
        "shape": [
         -1,
         1,
         2,
         256
        ]
       }
      },
      {
       "class": "Conv2d",
       "kargs": {
        "bias": false,
        "in_channels": 1,
        "kernel_size": [
         1,
         7
        ],
        "out_channels": 256,
        "padding": [
         0,
         3
        ]
       }
      },
      {
       "class": "ReLU",
       "kargs": {
        "inplace": true
       }
      },
      {
       "class": "BatchNorm2d",
       "kargs": {
        "num_features": 256
       }
      },
      {
       "class": "Conv2d",
       "kargs": {
        "bias": true,
        "in_channels": 256,
        "kernel_size": [
         2,
         7
        ],
        "out_channels": 80,
        "padding": [
         0,
         3
        ]
       }
      },
      {
       "class": "ReLU",
       "kargs": {
        "inplace": true
       }
      },
      {
       "class": "BatchNorm2d",
       "kargs": {
        "num_features": 80
       }
      },
      {
       "class": "Flatten",
       "kargs": {}
      },
      {
       "class": "Linear",
       "kargs": {
        "in_features": 20480,
        "out_features": 256
       }
      },
      {
       "class": "ReLU",
       "kargs": {
        "inplace": true
       }
      },
      {
       "class": "BatchNorm1d",
       "kargs": {
        "num_features": 256
       }
      },
      {
       "class": "Linear",
       "kargs": {
        "in_features": 256,
        "out_features": 256
       }
      }
     ]
    }
   },
   "start_time": "2022-03-24T06:33:31.514522",
   "version": "2.3.4"
  }
 },
 "nbformat": 4,
 "nbformat_minor": 5
}