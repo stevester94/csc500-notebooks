{
 "cells": [
  {
   "cell_type": "markdown",
   "id": "9fea5f46",
   "metadata": {
    "papermill": {
     "duration": 0.028731,
     "end_time": "2022-03-23T16:11:48.866526",
     "exception": false,
     "start_time": "2022-03-23T16:11:48.837795",
     "status": "completed"
    },
    "tags": []
   },
   "source": [
    "# Transfer Learning Template"
   ]
  },
  {
   "cell_type": "code",
   "execution_count": 1,
   "id": "0902182a",
   "metadata": {
    "execution": {
     "iopub.execute_input": "2022-03-23T16:11:48.928711Z",
     "iopub.status.busy": "2022-03-23T16:11:48.927838Z",
     "iopub.status.idle": "2022-03-23T16:11:51.221518Z",
     "shell.execute_reply": "2022-03-23T16:11:51.221084Z"
    },
    "papermill": {
     "duration": 2.333342,
     "end_time": "2022-03-23T16:11:51.221621",
     "exception": false,
     "start_time": "2022-03-23T16:11:48.888279",
     "status": "completed"
    },
    "tags": []
   },
   "outputs": [],
   "source": [
    "%load_ext autoreload\n",
    "%autoreload 2\n",
    "%matplotlib inline\n",
    "\n",
    "    \n",
    "import os, json, sys, time, random\n",
    "import numpy as np\n",
    "import torch\n",
    "from torch.optim import Adam\n",
    "from  easydict import EasyDict\n",
    "import matplotlib.pyplot as plt\n",
    "\n",
    "from steves_models.steves_ptn import Steves_Prototypical_Network\n",
    "\n",
    "from steves_utils.lazy_iterable_wrapper import Lazy_Iterable_Wrapper\n",
    "from steves_utils.iterable_aggregator import Iterable_Aggregator\n",
    "from steves_utils.ptn_train_eval_test_jig import  PTN_Train_Eval_Test_Jig\n",
    "from steves_utils.torch_sequential_builder import build_sequential\n",
    "from steves_utils.torch_utils import get_dataset_metrics, ptn_confusion_by_domain_over_dataloader\n",
    "from steves_utils.utils_v2 import (per_domain_accuracy_from_confusion, get_datasets_base_path)\n",
    "from steves_utils.PTN.utils import independent_accuracy_assesment\n",
    "\n",
    "from torch.utils.data import DataLoader\n",
    "\n",
    "from steves_utils.stratified_dataset.episodic_accessor import Episodic_Accessor_Factory\n",
    "\n",
    "from steves_utils.ptn_do_report import (\n",
    "    get_loss_curve,\n",
    "    get_results_table,\n",
    "    get_parameters_table,\n",
    "    get_domain_accuracies,\n",
    ")\n",
    "\n",
    "from steves_utils.transforms import get_chained_transform"
   ]
  },
  {
   "cell_type": "markdown",
   "id": "41c840b4",
   "metadata": {
    "papermill": {
     "duration": 0.019431,
     "end_time": "2022-03-23T16:11:51.261057",
     "exception": false,
     "start_time": "2022-03-23T16:11:51.241626",
     "status": "completed"
    },
    "tags": []
   },
   "source": [
    "# Allowed Parameters\n",
    "These are allowed parameters, not defaults\n",
    "Each of these values need to be present in the injected parameters (the notebook will raise an exception if they are not present)\n",
    "\n",
    "Papermill uses the cell tag \"parameters\" to inject the real parameters below this cell.\n",
    "Enable tags to see what I mean"
   ]
  },
  {
   "cell_type": "code",
   "execution_count": 2,
   "id": "fd44eb83",
   "metadata": {
    "execution": {
     "iopub.execute_input": "2022-03-23T16:11:51.305383Z",
     "iopub.status.busy": "2022-03-23T16:11:51.304999Z",
     "iopub.status.idle": "2022-03-23T16:11:51.330307Z",
     "shell.execute_reply": "2022-03-23T16:11:51.330615Z"
    },
    "papermill": {
     "duration": 0.050329,
     "end_time": "2022-03-23T16:11:51.330696",
     "exception": false,
     "start_time": "2022-03-23T16:11:51.280367",
     "status": "completed"
    },
    "tags": []
   },
   "outputs": [],
   "source": [
    "required_parameters = {\n",
    "    \"experiment_name\",\n",
    "    \"lr\",\n",
    "    \"device\",\n",
    "    \"seed\",\n",
    "    \"dataset_seed\",\n",
    "    \"n_shot\",\n",
    "    \"n_query\",\n",
    "    \"n_way\",\n",
    "    \"train_k_factor\",\n",
    "    \"val_k_factor\",\n",
    "    \"test_k_factor\",\n",
    "    \"n_epoch\",\n",
    "    \"patience\",\n",
    "    \"criteria_for_best\",\n",
    "    \"x_net\",\n",
    "    \"datasets\",\n",
    "    \"torch_default_dtype\",\n",
    "    \"NUM_LOGS_PER_EPOCH\",\n",
    "    \"BEST_MODEL_PATH\",\n",
    "    \"x_shape\",\n",
    "}"
   ]
  },
  {
   "cell_type": "code",
   "execution_count": 3,
   "id": "fa3f0049",
   "metadata": {
    "execution": {
     "iopub.execute_input": "2022-03-23T16:11:51.382836Z",
     "iopub.status.busy": "2022-03-23T16:11:51.382419Z",
     "iopub.status.idle": "2022-03-23T16:11:51.405995Z",
     "shell.execute_reply": "2022-03-23T16:11:51.405625Z"
    },
    "papermill": {
     "duration": 0.055691,
     "end_time": "2022-03-23T16:11:51.406063",
     "exception": false,
     "start_time": "2022-03-23T16:11:51.350372",
     "status": "completed"
    },
    "tags": [
     "parameters"
    ]
   },
   "outputs": [],
   "source": [
    "from steves_utils.CORES.utils import (\n",
    "    ALL_NODES,\n",
    "    ALL_NODES_MINIMUM_1000_EXAMPLES,\n",
    "    ALL_DAYS\n",
    ")\n",
    "\n",
    "from steves_utils.ORACLE.utils_v2 import (\n",
    "    ALL_DISTANCES_FEET_NARROWED,\n",
    "    ALL_RUNS,\n",
    "    ALL_SERIAL_NUMBERS,\n",
    ")\n",
    "\n",
    "standalone_parameters = {}\n",
    "standalone_parameters[\"experiment_name\"] = \"STANDALONE PTN\"\n",
    "standalone_parameters[\"lr\"] = 0.001\n",
    "standalone_parameters[\"device\"] = \"cuda\"\n",
    "\n",
    "standalone_parameters[\"seed\"] = 1337\n",
    "standalone_parameters[\"dataset_seed\"] = 1337\n",
    "\n",
    "standalone_parameters[\"n_way\"] = 8\n",
    "standalone_parameters[\"n_shot\"] = 3\n",
    "standalone_parameters[\"n_query\"]  = 2\n",
    "standalone_parameters[\"train_k_factor\"] = 1\n",
    "standalone_parameters[\"val_k_factor\"] = 2\n",
    "standalone_parameters[\"test_k_factor\"] = 2\n",
    "\n",
    "\n",
    "standalone_parameters[\"n_epoch\"] = 50\n",
    "\n",
    "standalone_parameters[\"patience\"] = 10\n",
    "standalone_parameters[\"criteria_for_best\"] = \"source_loss\"\n",
    "\n",
    "standalone_parameters[\"datasets\"] = [\n",
    "    {\n",
    "        \"labels\": ALL_SERIAL_NUMBERS,\n",
    "        \"domains\": ALL_DISTANCES_FEET_NARROWED,\n",
    "        \"num_examples_per_domain_per_label\": 100,\n",
    "        \"pickle_path\": os.path.join(get_datasets_base_path(), \"oracle.Run1_framed_2000Examples_stratified_ds.2022A.pkl\"),\n",
    "        \"source_or_target_dataset\": \"source\",\n",
    "        \"x_transforms\": [\"unit_mag\", \"minus_two\"],\n",
    "        \"episode_transforms\": [],\n",
    "        \"domain_prefix\": \"ORACLE_\"\n",
    "    },\n",
    "    {\n",
    "        \"labels\": ALL_NODES,\n",
    "        \"domains\": ALL_DAYS,\n",
    "        \"num_examples_per_domain_per_label\": 100,\n",
    "        \"pickle_path\": os.path.join(get_datasets_base_path(), \"cores.stratified_ds.2022A.pkl\"),\n",
    "        \"source_or_target_dataset\": \"target\",\n",
    "        \"x_transforms\": [\"unit_power\", \"times_zero\"],\n",
    "        \"episode_transforms\": [],\n",
    "        \"domain_prefix\": \"CORES_\"\n",
    "    }   \n",
    "]\n",
    "\n",
    "standalone_parameters[\"torch_default_dtype\"] = \"torch.float32\" \n",
    "\n",
    "\n",
    "\n",
    "standalone_parameters[\"x_net\"] =     [\n",
    "    {\"class\": \"nnReshape\", \"kargs\": {\"shape\":[-1, 1, 2, 256]}},\n",
    "    {\"class\": \"Conv2d\", \"kargs\": { \"in_channels\":1, \"out_channels\":256, \"kernel_size\":(1,7), \"bias\":False, \"padding\":(0,3), },},\n",
    "    {\"class\": \"ReLU\", \"kargs\": {\"inplace\": True}},\n",
    "    {\"class\": \"BatchNorm2d\", \"kargs\": {\"num_features\":256}},\n",
    "\n",
    "    {\"class\": \"Conv2d\", \"kargs\": { \"in_channels\":256, \"out_channels\":80, \"kernel_size\":(2,7), \"bias\":True, \"padding\":(0,3), },},\n",
    "    {\"class\": \"ReLU\", \"kargs\": {\"inplace\": True}},\n",
    "    {\"class\": \"BatchNorm2d\", \"kargs\": {\"num_features\":80}},\n",
    "    {\"class\": \"Flatten\", \"kargs\": {}},\n",
    "\n",
    "    {\"class\": \"Linear\", \"kargs\": {\"in_features\": 80*256, \"out_features\": 256}}, # 80 units per IQ pair\n",
    "    {\"class\": \"ReLU\", \"kargs\": {\"inplace\": True}},\n",
    "    {\"class\": \"BatchNorm1d\", \"kargs\": {\"num_features\":256}},\n",
    "\n",
    "    {\"class\": \"Linear\", \"kargs\": {\"in_features\": 256, \"out_features\": 256}},\n",
    "]\n",
    "\n",
    "# Parameters relevant to results\n",
    "# These parameters will basically never need to change\n",
    "standalone_parameters[\"NUM_LOGS_PER_EPOCH\"] = 10\n",
    "standalone_parameters[\"BEST_MODEL_PATH\"] = \"./best_model.pth\"\n",
    "\n",
    "\n",
    "\n",
    "\n"
   ]
  },
  {
   "cell_type": "code",
   "execution_count": 4,
   "id": "44decadc",
   "metadata": {
    "execution": {
     "iopub.execute_input": "2022-03-23T16:11:51.461419Z",
     "iopub.status.busy": "2022-03-23T16:11:51.458190Z",
     "iopub.status.idle": "2022-03-23T16:11:51.481184Z",
     "shell.execute_reply": "2022-03-23T16:11:51.480816Z"
    },
    "papermill": {
     "duration": 0.055682,
     "end_time": "2022-03-23T16:11:51.481253",
     "exception": false,
     "start_time": "2022-03-23T16:11:51.425571",
     "status": "completed"
    },
    "tags": [
     "injected-parameters"
    ]
   },
   "outputs": [],
   "source": [
    "# Parameters\n",
    "parameters = {\n",
    "    \"experiment_name\": \"tl_1v2:wisig-oracle.run1\",\n",
    "    \"device\": \"cuda\",\n",
    "    \"lr\": 0.0001,\n",
    "    \"n_shot\": 3,\n",
    "    \"n_query\": 2,\n",
    "    \"train_k_factor\": 3,\n",
    "    \"val_k_factor\": 2,\n",
    "    \"test_k_factor\": 2,\n",
    "    \"torch_default_dtype\": \"torch.float32\",\n",
    "    \"n_epoch\": 50,\n",
    "    \"patience\": 3,\n",
    "    \"criteria_for_best\": \"target_accuracy\",\n",
    "    \"x_net\": [\n",
    "        {\"class\": \"nnReshape\", \"kargs\": {\"shape\": [-1, 1, 2, 256]}},\n",
    "        {\n",
    "            \"class\": \"Conv2d\",\n",
    "            \"kargs\": {\n",
    "                \"in_channels\": 1,\n",
    "                \"out_channels\": 256,\n",
    "                \"kernel_size\": [1, 7],\n",
    "                \"bias\": False,\n",
    "                \"padding\": [0, 3],\n",
    "            },\n",
    "        },\n",
    "        {\"class\": \"ReLU\", \"kargs\": {\"inplace\": True}},\n",
    "        {\"class\": \"BatchNorm2d\", \"kargs\": {\"num_features\": 256}},\n",
    "        {\n",
    "            \"class\": \"Conv2d\",\n",
    "            \"kargs\": {\n",
    "                \"in_channels\": 256,\n",
    "                \"out_channels\": 80,\n",
    "                \"kernel_size\": [2, 7],\n",
    "                \"bias\": True,\n",
    "                \"padding\": [0, 3],\n",
    "            },\n",
    "        },\n",
    "        {\"class\": \"ReLU\", \"kargs\": {\"inplace\": True}},\n",
    "        {\"class\": \"BatchNorm2d\", \"kargs\": {\"num_features\": 80}},\n",
    "        {\"class\": \"Flatten\", \"kargs\": {}},\n",
    "        {\"class\": \"Linear\", \"kargs\": {\"in_features\": 20480, \"out_features\": 256}},\n",
    "        {\"class\": \"ReLU\", \"kargs\": {\"inplace\": True}},\n",
    "        {\"class\": \"BatchNorm1d\", \"kargs\": {\"num_features\": 256}},\n",
    "        {\"class\": \"Linear\", \"kargs\": {\"in_features\": 256, \"out_features\": 256}},\n",
    "    ],\n",
    "    \"NUM_LOGS_PER_EPOCH\": 10,\n",
    "    \"BEST_MODEL_PATH\": \"./best_model.pth\",\n",
    "    \"n_way\": 16,\n",
    "    \"datasets\": [\n",
    "        {\n",
    "            \"labels\": [\n",
    "                \"1-10\",\n",
    "                \"1-12\",\n",
    "                \"1-14\",\n",
    "                \"1-16\",\n",
    "                \"1-18\",\n",
    "                \"1-19\",\n",
    "                \"1-8\",\n",
    "                \"10-11\",\n",
    "                \"10-17\",\n",
    "                \"10-4\",\n",
    "                \"10-7\",\n",
    "                \"11-1\",\n",
    "                \"11-10\",\n",
    "                \"11-19\",\n",
    "                \"11-20\",\n",
    "                \"11-4\",\n",
    "                \"11-7\",\n",
    "                \"12-19\",\n",
    "                \"12-20\",\n",
    "                \"12-7\",\n",
    "                \"13-14\",\n",
    "                \"13-18\",\n",
    "                \"13-19\",\n",
    "                \"13-20\",\n",
    "                \"13-3\",\n",
    "                \"13-7\",\n",
    "                \"14-10\",\n",
    "                \"14-11\",\n",
    "                \"14-12\",\n",
    "                \"14-13\",\n",
    "                \"14-14\",\n",
    "                \"14-19\",\n",
    "                \"14-20\",\n",
    "                \"14-7\",\n",
    "                \"14-8\",\n",
    "                \"14-9\",\n",
    "                \"15-1\",\n",
    "                \"15-19\",\n",
    "                \"15-6\",\n",
    "                \"16-1\",\n",
    "                \"16-16\",\n",
    "                \"16-19\",\n",
    "                \"16-20\",\n",
    "                \"17-10\",\n",
    "                \"17-11\",\n",
    "                \"18-1\",\n",
    "                \"18-10\",\n",
    "                \"18-11\",\n",
    "                \"18-12\",\n",
    "                \"18-13\",\n",
    "                \"18-14\",\n",
    "                \"18-15\",\n",
    "                \"18-16\",\n",
    "                \"18-17\",\n",
    "                \"18-19\",\n",
    "                \"18-2\",\n",
    "                \"18-20\",\n",
    "                \"18-4\",\n",
    "                \"18-5\",\n",
    "                \"18-7\",\n",
    "                \"18-8\",\n",
    "                \"18-9\",\n",
    "                \"19-1\",\n",
    "                \"19-10\",\n",
    "                \"19-11\",\n",
    "                \"19-12\",\n",
    "                \"19-13\",\n",
    "                \"19-14\",\n",
    "                \"19-15\",\n",
    "                \"19-19\",\n",
    "                \"19-2\",\n",
    "                \"19-20\",\n",
    "                \"19-3\",\n",
    "                \"19-4\",\n",
    "                \"19-6\",\n",
    "                \"19-7\",\n",
    "                \"19-8\",\n",
    "                \"19-9\",\n",
    "                \"2-1\",\n",
    "                \"2-13\",\n",
    "                \"2-15\",\n",
    "                \"2-3\",\n",
    "                \"2-4\",\n",
    "                \"2-5\",\n",
    "                \"2-6\",\n",
    "                \"2-7\",\n",
    "                \"2-8\",\n",
    "                \"20-1\",\n",
    "                \"20-12\",\n",
    "                \"20-14\",\n",
    "                \"20-15\",\n",
    "                \"20-16\",\n",
    "                \"20-18\",\n",
    "                \"20-19\",\n",
    "                \"20-20\",\n",
    "                \"20-3\",\n",
    "                \"20-4\",\n",
    "                \"20-5\",\n",
    "                \"20-7\",\n",
    "                \"20-8\",\n",
    "                \"3-1\",\n",
    "                \"3-13\",\n",
    "                \"3-18\",\n",
    "                \"3-2\",\n",
    "                \"3-8\",\n",
    "                \"4-1\",\n",
    "                \"4-10\",\n",
    "                \"4-11\",\n",
    "                \"5-1\",\n",
    "                \"5-5\",\n",
    "                \"6-1\",\n",
    "                \"6-15\",\n",
    "                \"6-6\",\n",
    "                \"7-10\",\n",
    "                \"7-11\",\n",
    "                \"7-12\",\n",
    "                \"7-13\",\n",
    "                \"7-14\",\n",
    "                \"7-7\",\n",
    "                \"7-8\",\n",
    "                \"7-9\",\n",
    "                \"8-1\",\n",
    "                \"8-13\",\n",
    "                \"8-14\",\n",
    "                \"8-18\",\n",
    "                \"8-20\",\n",
    "                \"8-3\",\n",
    "                \"8-8\",\n",
    "                \"9-1\",\n",
    "                \"9-7\",\n",
    "            ],\n",
    "            \"domains\": [1, 2, 3, 4],\n",
    "            \"num_examples_per_domain_per_label\": -1,\n",
    "            \"pickle_path\": \"/root/csc500-main/datasets/wisig.node3-19.stratified_ds.2022A.pkl\",\n",
    "            \"source_or_target_dataset\": \"source\",\n",
    "            \"x_transforms\": [\"unit_mag\"],\n",
    "            \"episode_transforms\": [],\n",
    "            \"domain_prefix\": \"Wisig_\",\n",
    "        },\n",
    "        {\n",
    "            \"labels\": [\n",
    "                \"3123D52\",\n",
    "                \"3123D65\",\n",
    "                \"3123D79\",\n",
    "                \"3123D80\",\n",
    "                \"3123D54\",\n",
    "                \"3123D70\",\n",
    "                \"3123D7B\",\n",
    "                \"3123D89\",\n",
    "                \"3123D58\",\n",
    "                \"3123D76\",\n",
    "                \"3123D7D\",\n",
    "                \"3123EFE\",\n",
    "                \"3123D64\",\n",
    "                \"3123D78\",\n",
    "                \"3123D7E\",\n",
    "                \"3124E4A\",\n",
    "            ],\n",
    "            \"domains\": [32, 38, 8, 44, 14, 50, 20, 26],\n",
    "            \"num_examples_per_domain_per_label\": 10000,\n",
    "            \"pickle_path\": \"/root/csc500-main/datasets/oracle.Run1_10kExamples_stratified_ds.2022A.pkl\",\n",
    "            \"source_or_target_dataset\": \"target\",\n",
    "            \"x_transforms\": [\"unit_mag\"],\n",
    "            \"episode_transforms\": [],\n",
    "            \"domain_prefix\": \"ORACLE.run1\",\n",
    "        },\n",
    "    ],\n",
    "    \"dataset_seed\": 420,\n",
    "    \"seed\": 420,\n",
    "}\n"
   ]
  },
  {
   "cell_type": "code",
   "execution_count": 5,
   "id": "8fa1cc33",
   "metadata": {
    "execution": {
     "iopub.execute_input": "2022-03-23T16:11:51.531620Z",
     "iopub.status.busy": "2022-03-23T16:11:51.530514Z",
     "iopub.status.idle": "2022-03-23T16:11:51.546244Z",
     "shell.execute_reply": "2022-03-23T16:11:51.545878Z"
    },
    "papermill": {
     "duration": 0.045164,
     "end_time": "2022-03-23T16:11:51.546312",
     "exception": false,
     "start_time": "2022-03-23T16:11:51.501148",
     "status": "completed"
    },
    "tags": []
   },
   "outputs": [],
   "source": [
    "# Set this to True if you want to run this template directly\n",
    "STANDALONE = False\n",
    "if STANDALONE:\n",
    "    print(\"parameters not injected, running with standalone_parameters\")\n",
    "    parameters = standalone_parameters\n",
    "\n",
    "if not 'parameters' in locals() and not 'parameters' in globals():\n",
    "    raise Exception(\"Parameter injection failed\")\n",
    "\n",
    "#Use an easy dict for all the parameters\n",
    "p = EasyDict(parameters)\n",
    "\n",
    "if \"x_shape\" not in p:\n",
    "    p.x_shape = [2,256] # Default to this if we dont supply x_shape\n",
    "\n",
    "\n",
    "supplied_keys = set(p.keys())\n",
    "\n",
    "if  supplied_keys != required_parameters:\n",
    "    print(\"Parameters are incorrect\")\n",
    "    if len(supplied_keys - required_parameters)>0: print(\"Shouldn't have:\", str(supplied_keys - required_parameters))\n",
    "    if len(required_parameters - supplied_keys)>0: print(\"Need to have:\", str(required_parameters - supplied_keys))\n",
    "    raise RuntimeError(\"Parameters are incorrect\")"
   ]
  },
  {
   "cell_type": "code",
   "execution_count": 6,
   "id": "3a028d58",
   "metadata": {
    "execution": {
     "iopub.execute_input": "2022-03-23T16:11:51.588571Z",
     "iopub.status.busy": "2022-03-23T16:11:51.588199Z",
     "iopub.status.idle": "2022-03-23T16:11:51.605354Z",
     "shell.execute_reply": "2022-03-23T16:11:51.604987Z"
    },
    "papermill": {
     "duration": 0.039644,
     "end_time": "2022-03-23T16:11:51.605422",
     "exception": false,
     "start_time": "2022-03-23T16:11:51.565778",
     "status": "completed"
    },
    "tags": []
   },
   "outputs": [],
   "source": [
    "###################################\n",
    "# Set the RNGs and make it all deterministic\n",
    "###################################\n",
    "np.random.seed(p.seed)\n",
    "random.seed(p.seed)\n",
    "torch.manual_seed(p.seed)\n",
    "\n",
    "torch.use_deterministic_algorithms(True) "
   ]
  },
  {
   "cell_type": "code",
   "execution_count": 7,
   "id": "b691acf6",
   "metadata": {
    "execution": {
     "iopub.execute_input": "2022-03-23T16:11:51.650116Z",
     "iopub.status.busy": "2022-03-23T16:11:51.649745Z",
     "iopub.status.idle": "2022-03-23T16:11:51.671132Z",
     "shell.execute_reply": "2022-03-23T16:11:51.670765Z"
    },
    "papermill": {
     "duration": 0.045763,
     "end_time": "2022-03-23T16:11:51.671200",
     "exception": false,
     "start_time": "2022-03-23T16:11:51.625437",
     "status": "completed"
    },
    "tags": []
   },
   "outputs": [],
   "source": [
    "###########################################\n",
    "# The stratified datasets honor this\n",
    "###########################################\n",
    "torch.set_default_dtype(eval(p.torch_default_dtype))"
   ]
  },
  {
   "cell_type": "code",
   "execution_count": 8,
   "id": "b5fba671",
   "metadata": {
    "execution": {
     "iopub.execute_input": "2022-03-23T16:11:51.720517Z",
     "iopub.status.busy": "2022-03-23T16:11:51.720049Z",
     "iopub.status.idle": "2022-03-23T16:11:51.766590Z",
     "shell.execute_reply": "2022-03-23T16:11:51.766223Z"
    },
    "papermill": {
     "duration": 0.075697,
     "end_time": "2022-03-23T16:11:51.766657",
     "exception": false,
     "start_time": "2022-03-23T16:11:51.690960",
     "status": "completed"
    },
    "tags": []
   },
   "outputs": [],
   "source": [
    "###################################\n",
    "# Build the network(s)\n",
    "# Note: It's critical to do this AFTER setting the RNG\n",
    "###################################\n",
    "x_net = build_sequential(p.x_net)"
   ]
  },
  {
   "cell_type": "code",
   "execution_count": 9,
   "id": "5d7e61cc",
   "metadata": {
    "execution": {
     "iopub.execute_input": "2022-03-23T16:11:51.809838Z",
     "iopub.status.busy": "2022-03-23T16:11:51.809419Z",
     "iopub.status.idle": "2022-03-23T16:11:51.831668Z",
     "shell.execute_reply": "2022-03-23T16:11:51.831291Z"
    },
    "papermill": {
     "duration": 0.04494,
     "end_time": "2022-03-23T16:11:51.831736",
     "exception": false,
     "start_time": "2022-03-23T16:11:51.786796",
     "status": "completed"
    },
    "tags": []
   },
   "outputs": [],
   "source": [
    "start_time_secs = time.time()"
   ]
  },
  {
   "cell_type": "code",
   "execution_count": 10,
   "id": "c6b67dfd",
   "metadata": {
    "execution": {
     "iopub.execute_input": "2022-03-23T16:11:51.883017Z",
     "iopub.status.busy": "2022-03-23T16:11:51.882524Z",
     "iopub.status.idle": "2022-03-23T16:11:51.895620Z",
     "shell.execute_reply": "2022-03-23T16:11:51.895244Z"
    },
    "papermill": {
     "duration": 0.043755,
     "end_time": "2022-03-23T16:11:51.895687",
     "exception": false,
     "start_time": "2022-03-23T16:11:51.851932",
     "status": "completed"
    },
    "tags": []
   },
   "outputs": [],
   "source": [
    "p.domains_source = []\n",
    "p.domains_target = []\n",
    "\n",
    "\n",
    "train_original_source = []\n",
    "val_original_source   = []\n",
    "test_original_source  = []\n",
    "\n",
    "train_original_target = []\n",
    "val_original_target   = []\n",
    "test_original_target  = []"
   ]
  },
  {
   "cell_type": "code",
   "execution_count": 11,
   "id": "e3d9c3d3",
   "metadata": {
    "execution": {
     "iopub.execute_input": "2022-03-23T16:11:51.946125Z",
     "iopub.status.busy": "2022-03-23T16:11:51.944237Z",
     "iopub.status.idle": "2022-03-23T16:11:51.960067Z",
     "shell.execute_reply": "2022-03-23T16:11:51.959611Z"
    },
    "papermill": {
     "duration": 0.043926,
     "end_time": "2022-03-23T16:11:51.960136",
     "exception": false,
     "start_time": "2022-03-23T16:11:51.916210",
     "status": "completed"
    },
    "tags": []
   },
   "outputs": [],
   "source": [
    "# global_x_transform_func = lambda x: normalize(x.to(torch.get_default_dtype()), \"unit_power\") # unit_power, unit_mag\n",
    "# global_x_transform_func = lambda x: normalize(x, \"unit_power\") # unit_power, unit_mag"
   ]
  },
  {
   "cell_type": "code",
   "execution_count": 12,
   "id": "acb78fd2",
   "metadata": {
    "execution": {
     "iopub.execute_input": "2022-03-23T16:11:52.013082Z",
     "iopub.status.busy": "2022-03-23T16:11:52.012691Z",
     "iopub.status.idle": "2022-03-23T16:11:52.030274Z",
     "shell.execute_reply": "2022-03-23T16:11:52.029908Z"
    },
    "papermill": {
     "duration": 0.049946,
     "end_time": "2022-03-23T16:11:52.030341",
     "exception": false,
     "start_time": "2022-03-23T16:11:51.980395",
     "status": "completed"
    },
    "tags": []
   },
   "outputs": [],
   "source": [
    "def add_dataset(\n",
    "    labels,\n",
    "    domains,\n",
    "    pickle_path,\n",
    "    x_transforms,\n",
    "    episode_transforms,\n",
    "    domain_prefix,\n",
    "    num_examples_per_domain_per_label,\n",
    "    source_or_target_dataset:str,\n",
    "    iterator_seed=p.seed,\n",
    "    dataset_seed=p.dataset_seed,\n",
    "    n_shot=p.n_shot,\n",
    "    n_way=p.n_way,\n",
    "    n_query=p.n_query,\n",
    "    train_val_test_k_factors=(p.train_k_factor,p.val_k_factor,p.test_k_factor),\n",
    "):\n",
    "   \n",
    "    if x_transforms == []: x_transform = None\n",
    "    else: x_transform = get_chained_transform(x_transforms)\n",
    "    \n",
    "    if episode_transforms == []: episode_transform = None\n",
    "    else: raise Exception(\"episode_transforms not implemented\")\n",
    "    \n",
    "    episode_transform = lambda tup, _prefix=domain_prefix: (_prefix + str(tup[0]), tup[1])\n",
    "\n",
    "\n",
    "    eaf = Episodic_Accessor_Factory(\n",
    "        labels=labels,\n",
    "        domains=domains,\n",
    "        num_examples_per_domain_per_label=num_examples_per_domain_per_label,\n",
    "        iterator_seed=iterator_seed,\n",
    "        dataset_seed=dataset_seed,\n",
    "        n_shot=n_shot,\n",
    "        n_way=n_way,\n",
    "        n_query=n_query,\n",
    "        train_val_test_k_factors=train_val_test_k_factors,\n",
    "        pickle_path=pickle_path,\n",
    "        x_transform_func=x_transform,\n",
    "    )\n",
    "\n",
    "    train, val, test = eaf.get_train(), eaf.get_val(), eaf.get_test()\n",
    "    train = Lazy_Iterable_Wrapper(train, episode_transform)\n",
    "    val = Lazy_Iterable_Wrapper(val, episode_transform)\n",
    "    test = Lazy_Iterable_Wrapper(test, episode_transform)\n",
    "\n",
    "    if source_or_target_dataset==\"source\":\n",
    "        train_original_source.append(train)\n",
    "        val_original_source.append(val)\n",
    "        test_original_source.append(test)\n",
    "\n",
    "        p.domains_source.extend(\n",
    "            [domain_prefix + str(u) for u in domains]\n",
    "        )\n",
    "    elif source_or_target_dataset==\"target\":\n",
    "        train_original_target.append(train)\n",
    "        val_original_target.append(val)\n",
    "        test_original_target.append(test)\n",
    "        p.domains_target.extend(\n",
    "            [domain_prefix + str(u) for u in domains]\n",
    "        )\n",
    "    else:\n",
    "        raise Exception(f\"invalid source_or_target_dataset: {source_or_target_dataset}\")\n",
    "    "
   ]
  },
  {
   "cell_type": "code",
   "execution_count": 13,
   "id": "fe266617",
   "metadata": {
    "execution": {
     "iopub.execute_input": "2022-03-23T16:11:52.075526Z",
     "iopub.status.busy": "2022-03-23T16:11:52.075026Z",
     "iopub.status.idle": "2022-03-23T16:14:01.913572Z",
     "shell.execute_reply": "2022-03-23T16:14:01.912819Z"
    },
    "papermill": {
     "duration": 129.862797,
     "end_time": "2022-03-23T16:14:01.913761",
     "exception": false,
     "start_time": "2022-03-23T16:11:52.050964",
     "status": "completed"
    },
    "tags": []
   },
   "outputs": [],
   "source": [
    "for ds in p.datasets:\n",
    "    add_dataset(**ds)"
   ]
  },
  {
   "cell_type": "code",
   "execution_count": 14,
   "id": "b90d65ac",
   "metadata": {
    "execution": {
     "iopub.execute_input": "2022-03-23T16:14:01.965491Z",
     "iopub.status.busy": "2022-03-23T16:14:01.964289Z",
     "iopub.status.idle": "2022-03-23T16:14:01.989074Z",
     "shell.execute_reply": "2022-03-23T16:14:01.988239Z"
    },
    "papermill": {
     "duration": 0.048376,
     "end_time": "2022-03-23T16:14:01.989229",
     "exception": false,
     "start_time": "2022-03-23T16:14:01.940853",
     "status": "completed"
    },
    "tags": []
   },
   "outputs": [],
   "source": [
    "# from steves_utils.CORES.utils import (\n",
    "#     ALL_NODES,\n",
    "#     ALL_NODES_MINIMUM_1000_EXAMPLES,\n",
    "#     ALL_DAYS\n",
    "# )\n",
    "\n",
    "# add_dataset(\n",
    "#     labels=ALL_NODES,\n",
    "#     domains = ALL_DAYS,\n",
    "#     num_examples_per_domain_per_label=100,\n",
    "#     pickle_path=os.path.join(get_datasets_base_path(), \"cores.stratified_ds.2022A.pkl\"),\n",
    "#     source_or_target_dataset=\"target\",\n",
    "#     x_transform_func=global_x_transform_func,\n",
    "#     domain_modifier=lambda u: f\"cores_{u}\"\n",
    "# )"
   ]
  },
  {
   "cell_type": "code",
   "execution_count": 15,
   "id": "76db484d",
   "metadata": {
    "execution": {
     "iopub.execute_input": "2022-03-23T16:14:02.040955Z",
     "iopub.status.busy": "2022-03-23T16:14:02.040470Z",
     "iopub.status.idle": "2022-03-23T16:14:02.057610Z",
     "shell.execute_reply": "2022-03-23T16:14:02.056777Z"
    },
    "papermill": {
     "duration": 0.041271,
     "end_time": "2022-03-23T16:14:02.057763",
     "exception": false,
     "start_time": "2022-03-23T16:14:02.016492",
     "status": "completed"
    },
    "tags": []
   },
   "outputs": [],
   "source": [
    "# from steves_utils.ORACLE.utils_v2 import (\n",
    "#     ALL_DISTANCES_FEET,\n",
    "#     ALL_RUNS,\n",
    "#     ALL_SERIAL_NUMBERS,\n",
    "# )\n",
    "\n",
    "\n",
    "# add_dataset(\n",
    "#     labels=ALL_SERIAL_NUMBERS,\n",
    "#     domains = list(set(ALL_DISTANCES_FEET) - {2,62}),\n",
    "#     num_examples_per_domain_per_label=100,\n",
    "#     pickle_path=os.path.join(get_datasets_base_path(), \"oracle.Run2_framed_2000Examples_stratified_ds.2022A.pkl\"),\n",
    "#     source_or_target_dataset=\"source\",\n",
    "#     x_transform_func=global_x_transform_func,\n",
    "#     domain_modifier=lambda u: f\"oracle1_{u}\"\n",
    "# )\n"
   ]
  },
  {
   "cell_type": "code",
   "execution_count": 16,
   "id": "97dea9d2",
   "metadata": {
    "execution": {
     "iopub.execute_input": "2022-03-23T16:14:02.109720Z",
     "iopub.status.busy": "2022-03-23T16:14:02.109142Z",
     "iopub.status.idle": "2022-03-23T16:14:02.130786Z",
     "shell.execute_reply": "2022-03-23T16:14:02.129939Z"
    },
    "papermill": {
     "duration": 0.04636,
     "end_time": "2022-03-23T16:14:02.130954",
     "exception": false,
     "start_time": "2022-03-23T16:14:02.084594",
     "status": "completed"
    },
    "tags": []
   },
   "outputs": [],
   "source": [
    "# from steves_utils.ORACLE.utils_v2 import (\n",
    "#     ALL_DISTANCES_FEET,\n",
    "#     ALL_RUNS,\n",
    "#     ALL_SERIAL_NUMBERS,\n",
    "# )\n",
    "\n",
    "\n",
    "# add_dataset(\n",
    "#     labels=ALL_SERIAL_NUMBERS,\n",
    "#     domains = list(set(ALL_DISTANCES_FEET) - {2,62,56}),\n",
    "#     num_examples_per_domain_per_label=100,\n",
    "#     pickle_path=os.path.join(get_datasets_base_path(), \"oracle.Run2_framed_2000Examples_stratified_ds.2022A.pkl\"),\n",
    "#     source_or_target_dataset=\"source\",\n",
    "#     x_transform_func=global_x_transform_func,\n",
    "#     domain_modifier=lambda u: f\"oracle2_{u}\"\n",
    "# )"
   ]
  },
  {
   "cell_type": "code",
   "execution_count": 17,
   "id": "6f289866",
   "metadata": {
    "execution": {
     "iopub.execute_input": "2022-03-23T16:14:02.188232Z",
     "iopub.status.busy": "2022-03-23T16:14:02.185486Z",
     "iopub.status.idle": "2022-03-23T16:14:02.206245Z",
     "shell.execute_reply": "2022-03-23T16:14:02.205426Z"
    },
    "papermill": {
     "duration": 0.046973,
     "end_time": "2022-03-23T16:14:02.206396",
     "exception": false,
     "start_time": "2022-03-23T16:14:02.159423",
     "status": "completed"
    },
    "tags": []
   },
   "outputs": [],
   "source": [
    "# add_dataset(\n",
    "#     labels=list(range(19)),\n",
    "#     domains = [0,1,2],\n",
    "#     num_examples_per_domain_per_label=100,\n",
    "#     pickle_path=os.path.join(get_datasets_base_path(), \"metehan.stratified_ds.2022A.pkl\"),\n",
    "#     source_or_target_dataset=\"target\",\n",
    "#     x_transform_func=global_x_transform_func,\n",
    "#     domain_modifier=lambda u: f\"met_{u}\"\n",
    "# )"
   ]
  },
  {
   "cell_type": "code",
   "execution_count": 18,
   "id": "86a863c3",
   "metadata": {
    "execution": {
     "iopub.execute_input": "2022-03-23T16:14:02.257640Z",
     "iopub.status.busy": "2022-03-23T16:14:02.257264Z",
     "iopub.status.idle": "2022-03-23T16:14:02.274071Z",
     "shell.execute_reply": "2022-03-23T16:14:02.273252Z"
    },
    "papermill": {
     "duration": 0.040848,
     "end_time": "2022-03-23T16:14:02.274224",
     "exception": false,
     "start_time": "2022-03-23T16:14:02.233376",
     "status": "completed"
    },
    "tags": []
   },
   "outputs": [],
   "source": [
    "# # from steves_utils.wisig.utils import (\n",
    "# #     ALL_NODES_MINIMUM_100_EXAMPLES,\n",
    "# #     ALL_NODES_MINIMUM_500_EXAMPLES,\n",
    "# #     ALL_NODES_MINIMUM_1000_EXAMPLES,\n",
    "# #     ALL_DAYS\n",
    "# # )\n",
    "\n",
    "# import steves_utils.wisig.utils as wisig\n",
    "\n",
    "\n",
    "# add_dataset(\n",
    "#     labels=wisig.ALL_NODES_MINIMUM_100_EXAMPLES,\n",
    "#     domains = wisig.ALL_DAYS,\n",
    "#     num_examples_per_domain_per_label=100,\n",
    "#     pickle_path=os.path.join(get_datasets_base_path(), \"wisig.node3-19.stratified_ds.2022A.pkl\"),\n",
    "#     source_or_target_dataset=\"target\",\n",
    "#     x_transform_func=global_x_transform_func,\n",
    "#     domain_modifier=lambda u: f\"wisig_{u}\"\n",
    "# )"
   ]
  },
  {
   "cell_type": "code",
   "execution_count": 19,
   "id": "fd5442bc",
   "metadata": {
    "execution": {
     "iopub.execute_input": "2022-03-23T16:14:02.333100Z",
     "iopub.status.busy": "2022-03-23T16:14:02.332473Z",
     "iopub.status.idle": "2022-03-23T16:14:02.349953Z",
     "shell.execute_reply": "2022-03-23T16:14:02.350635Z"
    },
    "papermill": {
     "duration": 0.049519,
     "end_time": "2022-03-23T16:14:02.350813",
     "exception": false,
     "start_time": "2022-03-23T16:14:02.301294",
     "status": "completed"
    },
    "tags": []
   },
   "outputs": [],
   "source": [
    "###################################\n",
    "# Build the dataset\n",
    "###################################\n",
    "train_original_source = Iterable_Aggregator(train_original_source, p.seed)\n",
    "val_original_source = Iterable_Aggregator(val_original_source, p.seed)\n",
    "test_original_source = Iterable_Aggregator(test_original_source, p.seed)\n",
    "\n",
    "\n",
    "train_original_target = Iterable_Aggregator(train_original_target, p.seed)\n",
    "val_original_target = Iterable_Aggregator(val_original_target, p.seed)\n",
    "test_original_target = Iterable_Aggregator(test_original_target, p.seed)\n",
    "\n",
    "# For CNN We only use X and Y. And we only train on the source.\n",
    "# Properly form the data using a transform lambda and Lazy_Iterable_Wrapper. Finally wrap them in a dataloader\n",
    "\n",
    "transform_lambda = lambda ex: ex[1] # Original is (<domain>, <episode>) so we strip down to episode only\n",
    "\n",
    "train_processed_source = Lazy_Iterable_Wrapper(train_original_source, transform_lambda)\n",
    "val_processed_source   = Lazy_Iterable_Wrapper(val_original_source, transform_lambda)\n",
    "test_processed_source  = Lazy_Iterable_Wrapper(test_original_source, transform_lambda)\n",
    "\n",
    "train_processed_target = Lazy_Iterable_Wrapper(train_original_target, transform_lambda)\n",
    "val_processed_target   = Lazy_Iterable_Wrapper(val_original_target, transform_lambda)\n",
    "test_processed_target  = Lazy_Iterable_Wrapper(test_original_target, transform_lambda)\n",
    "\n",
    "datasets = EasyDict({\n",
    "    \"source\": {\n",
    "        \"original\": {\"train\":train_original_source, \"val\":val_original_source, \"test\":test_original_source},\n",
    "        \"processed\": {\"train\":train_processed_source, \"val\":val_processed_source, \"test\":test_processed_source}\n",
    "    },\n",
    "    \"target\": {\n",
    "        \"original\": {\"train\":train_original_target, \"val\":val_original_target, \"test\":test_original_target},\n",
    "        \"processed\": {\"train\":train_processed_target, \"val\":val_processed_target, \"test\":test_processed_target}\n",
    "    },\n",
    "})"
   ]
  },
  {
   "cell_type": "code",
   "execution_count": 20,
   "id": "5b3c01fc",
   "metadata": {
    "execution": {
     "iopub.execute_input": "2022-03-23T16:14:02.412332Z",
     "iopub.status.busy": "2022-03-23T16:14:02.407816Z",
     "iopub.status.idle": "2022-03-23T16:14:34.977929Z",
     "shell.execute_reply": "2022-03-23T16:14:34.976966Z"
    },
    "papermill": {
     "duration": 32.598187,
     "end_time": "2022-03-23T16:14:34.978121",
     "exception": false,
     "start_time": "2022-03-23T16:14:02.379934",
     "status": "completed"
    },
    "tags": []
   },
   "outputs": [
    {
     "name": "stdout",
     "output_type": "stream",
     "text": [
      "{'Wisig_4', 'Wisig_1', 'Wisig_3', 'Wisig_2'}\n"
     ]
    },
    {
     "name": "stdout",
     "output_type": "stream",
     "text": [
      "{'ORACLE.run120', 'ORACLE.run144', 'ORACLE.run114', 'ORACLE.run150', 'ORACLE.run138', 'ORACLE.run126', 'ORACLE.run18', 'ORACLE.run132'}\n"
     ]
    },
    {
     "name": "stdout",
     "output_type": "stream",
     "text": [
      "tensor([[[-0.4531,  1.2046,  0.5952,  ...,  0.3947,  1.1178,  1.4620],\n",
      "         [-0.8147, -0.8478,  1.0041,  ..., -0.9410, -1.1194,  0.2763]],\n",
      "\n",
      "        [[-1.4549, -1.8942,  0.0950,  ..., -0.2913, -0.4206, -0.1947],\n",
      "         [ 0.2742, -1.3536, -1.0359,  ..., -0.0841, -0.6636, -0.5935]],\n",
      "\n",
      "        [[ 0.1590, -1.2656, -0.6832,  ...,  0.9303, -0.6234, -0.7052],\n",
      "         [ 1.2688,  0.1763, -0.9902,  ...,  1.3790,  1.1397, -0.2928]],\n",
      "\n",
      "        ...,\n",
      "\n",
      "        [[-0.1093, -0.7934, -0.3406,  ..., -1.1716, -0.7290,  0.7570],\n",
      "         [ 0.5998, -0.3104, -0.8515,  ...,  0.4727, -1.2505, -1.2749]],\n",
      "\n",
      "        [[ 0.4837, -1.0753,  0.0759,  ..., -0.8740, -0.7751,  0.9966],\n",
      "         [ 0.7901, -0.0910, -1.3330,  ...,  0.3620, -1.0774, -1.1377]],\n",
      "\n",
      "        [[-0.7524,  0.8484,  0.0327,  ...,  0.9679,  0.8704, -0.6266],\n",
      "         [-0.5404, -0.0853,  1.3781,  ..., -0.6410,  1.1181,  1.3735]]])\n"
     ]
    }
   ],
   "source": [
    "from steves_utils.transforms import get_average_magnitude, get_average_power\n",
    "\n",
    "print(set([u for u,_ in val_original_source]))\n",
    "print(set([u for u,_ in val_original_target]))\n",
    "\n",
    "s_x, s_y, q_x, q_y, _ = next(iter(train_processed_source))\n",
    "print(s_x)\n",
    "\n",
    "# for ds in [\n",
    "#     train_processed_source,\n",
    "#     val_processed_source,\n",
    "#     test_processed_source,\n",
    "#     train_processed_target,\n",
    "#     val_processed_target,\n",
    "#     test_processed_target\n",
    "# ]:\n",
    "#     for s_x, s_y, q_x, q_y, _ in ds:\n",
    "#         for X in (s_x, q_x):\n",
    "#             for x in X:\n",
    "#                 assert np.isclose(get_average_magnitude(x.numpy()), 1.0)\n",
    "#                 assert np.isclose(get_average_power(x.numpy()), 1.0)\n",
    "                "
   ]
  },
  {
   "cell_type": "code",
   "execution_count": 21,
   "id": "bbdacba1",
   "metadata": {
    "execution": {
     "iopub.execute_input": "2022-03-23T16:14:35.036574Z",
     "iopub.status.busy": "2022-03-23T16:14:35.036170Z",
     "iopub.status.idle": "2022-03-23T16:14:35.237092Z",
     "shell.execute_reply": "2022-03-23T16:14:35.236348Z"
    },
    "papermill": {
     "duration": 0.228633,
     "end_time": "2022-03-23T16:14:35.237271",
     "exception": false,
     "start_time": "2022-03-23T16:14:35.008638",
     "status": "completed"
    },
    "tags": []
   },
   "outputs": [
    {
     "name": "stdout",
     "output_type": "stream",
     "text": [
      "(2, 256)\n"
     ]
    }
   ],
   "source": [
    "###################################\n",
    "# Build the model\n",
    "###################################\n",
    "# easfsl only wants a tuple for the shape\n",
    "model = Steves_Prototypical_Network(x_net, device=p.device, x_shape=tuple(p.x_shape))\n",
    "optimizer = Adam(params=model.parameters(), lr=p.lr)"
   ]
  },
  {
   "cell_type": "code",
   "execution_count": 22,
   "id": "22b39ac5",
   "metadata": {
    "execution": {
     "iopub.execute_input": "2022-03-23T16:14:35.291300Z",
     "iopub.status.busy": "2022-03-23T16:14:35.290818Z",
     "iopub.status.idle": "2022-03-23T16:38:18.262293Z",
     "shell.execute_reply": "2022-03-23T16:38:18.262624Z"
    },
    "papermill": {
     "duration": 1422.998421,
     "end_time": "2022-03-23T16:38:18.262733",
     "exception": false,
     "start_time": "2022-03-23T16:14:35.264312",
     "status": "completed"
    },
    "tags": []
   },
   "outputs": [
    {
     "name": "stdout",
     "output_type": "stream",
     "text": [
      "epoch: 1, [batch: 1 / 6847], examples_per_second: 29.9880, train_label_loss: 2.6035, \n"
     ]
    },
    {
     "name": "stdout",
     "output_type": "stream",
     "text": [
      "epoch: 1, [batch: 685 / 6847], examples_per_second: 3008.2075, train_label_loss: 0.3129, \n"
     ]
    },
    {
     "name": "stdout",
     "output_type": "stream",
     "text": [
      "epoch: 1, [batch: 1370 / 6847], examples_per_second: 2981.6363, train_label_loss: 0.1222, \n"
     ]
    },
    {
     "name": "stdout",
     "output_type": "stream",
     "text": [
      "epoch: 1, [batch: 2054 / 6847], examples_per_second: 2993.6417, train_label_loss: 0.0169, \n"
     ]
    },
    {
     "name": "stdout",
     "output_type": "stream",
     "text": [
      "epoch: 1, [batch: 2739 / 6847], examples_per_second: 2960.2028, train_label_loss: 0.1515, \n"
     ]
    },
    {
     "name": "stdout",
     "output_type": "stream",
     "text": [
      "epoch: 1, [batch: 3424 / 6847], examples_per_second: 2976.4629, train_label_loss: 0.0804, \n"
     ]
    },
    {
     "name": "stdout",
     "output_type": "stream",
     "text": [
      "epoch: 1, [batch: 4108 / 6847], examples_per_second: 2979.2024, train_label_loss: 0.3287, \n"
     ]
    },
    {
     "name": "stdout",
     "output_type": "stream",
     "text": [
      "epoch: 1, [batch: 4793 / 6847], examples_per_second: 2949.7333, train_label_loss: 0.2039, \n"
     ]
    },
    {
     "name": "stdout",
     "output_type": "stream",
     "text": [
      "epoch: 1, [batch: 5477 / 6847], examples_per_second: 2960.0800, train_label_loss: 0.1574, \n"
     ]
    },
    {
     "name": "stdout",
     "output_type": "stream",
     "text": [
      "epoch: 1, [batch: 6162 / 6847], examples_per_second: 2976.2564, train_label_loss: 0.2886, \n"
     ]
    },
    {
     "name": "stdout",
     "output_type": "stream",
     "text": [
      "=============================================================\n",
      "epoch: 1, source_val_acc_label: 0.9622, target_val_acc_label: 0.1103, source_val_label_loss: 0.1669, target_val_label_loss: 2.7254, \n",
      "=============================================================\n"
     ]
    },
    {
     "name": "stdout",
     "output_type": "stream",
     "text": [
      "New best\n"
     ]
    },
    {
     "name": "stdout",
     "output_type": "stream",
     "text": [
      "epoch: 2, [batch: 1 / 6860], examples_per_second: 1.2412, train_label_loss: 0.3272, \n"
     ]
    },
    {
     "name": "stdout",
     "output_type": "stream",
     "text": [
      "epoch: 2, [batch: 686 / 6860], examples_per_second: 2960.9598, train_label_loss: 0.2261, \n"
     ]
    },
    {
     "name": "stdout",
     "output_type": "stream",
     "text": [
      "epoch: 2, [batch: 1372 / 6860], examples_per_second: 2992.7851, train_label_loss: 0.4729, \n"
     ]
    },
    {
     "name": "stdout",
     "output_type": "stream",
     "text": [
      "epoch: 2, [batch: 2058 / 6860], examples_per_second: 3007.1726, train_label_loss: 0.2370, \n"
     ]
    },
    {
     "name": "stdout",
     "output_type": "stream",
     "text": [
      "epoch: 2, [batch: 2744 / 6860], examples_per_second: 2992.2703, train_label_loss: 0.0183, \n"
     ]
    },
    {
     "name": "stdout",
     "output_type": "stream",
     "text": [
      "epoch: 2, [batch: 3430 / 6860], examples_per_second: 2985.1625, train_label_loss: 0.0058, \n"
     ]
    },
    {
     "name": "stdout",
     "output_type": "stream",
     "text": [
      "epoch: 2, [batch: 4116 / 6860], examples_per_second: 3074.3661, train_label_loss: 0.1511, \n"
     ]
    },
    {
     "name": "stdout",
     "output_type": "stream",
     "text": [
      "epoch: 2, [batch: 4802 / 6860], examples_per_second: 3001.1651, train_label_loss: 0.3714, \n"
     ]
    },
    {
     "name": "stdout",
     "output_type": "stream",
     "text": [
      "epoch: 2, [batch: 5488 / 6860], examples_per_second: 2991.3393, train_label_loss: 0.0051, \n"
     ]
    },
    {
     "name": "stdout",
     "output_type": "stream",
     "text": [
      "epoch: 2, [batch: 6174 / 6860], examples_per_second: 3023.0697, train_label_loss: 0.0208, \n"
     ]
    },
    {
     "name": "stdout",
     "output_type": "stream",
     "text": [
      "=============================================================\n",
      "epoch: 2, source_val_acc_label: 0.9710, target_val_acc_label: 0.1025, source_val_label_loss: 0.1233, target_val_label_loss: 2.7504, \n",
      "=============================================================\n"
     ]
    },
    {
     "name": "stdout",
     "output_type": "stream",
     "text": [
      "epoch: 3, [batch: 1 / 6849], examples_per_second: 1.3381, train_label_loss: 0.0324, \n"
     ]
    },
    {
     "name": "stdout",
     "output_type": "stream",
     "text": [
      "epoch: 3, [batch: 685 / 6849], examples_per_second: 3415.5441, train_label_loss: 0.0226, \n"
     ]
    },
    {
     "name": "stdout",
     "output_type": "stream",
     "text": [
      "epoch: 3, [batch: 1370 / 6849], examples_per_second: 3586.3521, train_label_loss: 0.0949, \n"
     ]
    },
    {
     "name": "stdout",
     "output_type": "stream",
     "text": [
      "epoch: 3, [batch: 2055 / 6849], examples_per_second: 4169.6491, train_label_loss: 0.0021, \n"
     ]
    },
    {
     "name": "stdout",
     "output_type": "stream",
     "text": [
      "epoch: 3, [batch: 2740 / 6849], examples_per_second: 4168.3552, train_label_loss: 0.0066, \n"
     ]
    },
    {
     "name": "stdout",
     "output_type": "stream",
     "text": [
      "epoch: 3, [batch: 3425 / 6849], examples_per_second: 3449.5844, train_label_loss: 0.1725, \n"
     ]
    },
    {
     "name": "stdout",
     "output_type": "stream",
     "text": [
      "epoch: 3, [batch: 4109 / 6849], examples_per_second: 3450.3846, train_label_loss: 0.1488, \n"
     ]
    },
    {
     "name": "stdout",
     "output_type": "stream",
     "text": [
      "epoch: 3, [batch: 4794 / 6849], examples_per_second: 3528.0000, train_label_loss: 0.0291, \n"
     ]
    },
    {
     "name": "stdout",
     "output_type": "stream",
     "text": [
      "epoch: 3, [batch: 5479 / 6849], examples_per_second: 3582.2418, train_label_loss: 0.0056, \n"
     ]
    },
    {
     "name": "stdout",
     "output_type": "stream",
     "text": [
      "epoch: 3, [batch: 6164 / 6849], examples_per_second: 3951.2857, train_label_loss: 0.0029, \n"
     ]
    },
    {
     "name": "stdout",
     "output_type": "stream",
     "text": [
      "=============================================================\n",
      "epoch: 3, source_val_acc_label: 0.9725, target_val_acc_label: 0.1078, source_val_label_loss: 0.1171, target_val_label_loss: 2.7383, \n",
      "=============================================================\n"
     ]
    },
    {
     "name": "stdout",
     "output_type": "stream",
     "text": [
      "epoch: 4, [batch: 1 / 6845], examples_per_second: 1.2579, train_label_loss: 0.1740, \n"
     ]
    },
    {
     "name": "stdout",
     "output_type": "stream",
     "text": [
      "epoch: 4, [batch: 685 / 6845], examples_per_second: 3005.6052, train_label_loss: 0.0681, \n"
     ]
    },
    {
     "name": "stdout",
     "output_type": "stream",
     "text": [
      "epoch: 4, [batch: 1369 / 6845], examples_per_second: 3007.1952, train_label_loss: 0.0624, \n"
     ]
    },
    {
     "name": "stdout",
     "output_type": "stream",
     "text": [
      "epoch: 4, [batch: 2054 / 6845], examples_per_second: 2964.8658, train_label_loss: 0.0020, \n"
     ]
    },
    {
     "name": "stdout",
     "output_type": "stream",
     "text": [
      "epoch: 4, [batch: 2738 / 6845], examples_per_second: 2969.3440, train_label_loss: 0.0606, \n"
     ]
    },
    {
     "name": "stdout",
     "output_type": "stream",
     "text": [
      "epoch: 4, [batch: 3423 / 6845], examples_per_second: 2977.4271, train_label_loss: 0.0047, \n"
     ]
    },
    {
     "name": "stdout",
     "output_type": "stream",
     "text": [
      "epoch: 4, [batch: 4107 / 6845], examples_per_second: 2999.2117, train_label_loss: 0.0038, \n"
     ]
    },
    {
     "name": "stdout",
     "output_type": "stream",
     "text": [
      "epoch: 4, [batch: 4791 / 6845], examples_per_second: 2971.6118, train_label_loss: 0.0026, \n"
     ]
    },
    {
     "name": "stdout",
     "output_type": "stream",
     "text": [
      "epoch: 4, [batch: 5476 / 6845], examples_per_second: 3020.0168, train_label_loss: 0.0957, \n"
     ]
    },
    {
     "name": "stdout",
     "output_type": "stream",
     "text": [
      "epoch: 4, [batch: 6160 / 6845], examples_per_second: 2994.4498, train_label_loss: 0.0009, \n"
     ]
    },
    {
     "name": "stdout",
     "output_type": "stream",
     "text": [
      "=============================================================\n",
      "epoch: 4, source_val_acc_label: 0.9724, target_val_acc_label: 0.1023, source_val_label_loss: 0.1166, target_val_label_loss: 2.7773, \n",
      "=============================================================\n"
     ]
    },
    {
     "name": "stdout",
     "output_type": "stream",
     "text": [
      "epoch: 5, [batch: 1 / 6835], examples_per_second: 1.2594, train_label_loss: 0.0136, \n"
     ]
    },
    {
     "name": "stdout",
     "output_type": "stream",
     "text": [
      "epoch: 5, [batch: 684 / 6835], examples_per_second: 2942.1408, train_label_loss: 0.0062, \n"
     ]
    },
    {
     "name": "stdout",
     "output_type": "stream",
     "text": [
      "epoch: 5, [batch: 1367 / 6835], examples_per_second: 2960.2952, train_label_loss: 0.0032, \n"
     ]
    },
    {
     "name": "stdout",
     "output_type": "stream",
     "text": [
      "epoch: 5, [batch: 2051 / 6835], examples_per_second: 3003.6948, train_label_loss: 0.1192, \n"
     ]
    },
    {
     "name": "stdout",
     "output_type": "stream",
     "text": [
      "epoch: 5, [batch: 2734 / 6835], examples_per_second: 2966.9372, train_label_loss: 0.2355, \n"
     ]
    },
    {
     "name": "stdout",
     "output_type": "stream",
     "text": [
      "epoch: 5, [batch: 3418 / 6835], examples_per_second: 2978.5005, train_label_loss: 0.1273, \n"
     ]
    },
    {
     "name": "stdout",
     "output_type": "stream",
     "text": [
      "epoch: 5, [batch: 4101 / 6835], examples_per_second: 3019.9296, train_label_loss: 0.0101, \n"
     ]
    },
    {
     "name": "stdout",
     "output_type": "stream",
     "text": [
      "epoch: 5, [batch: 4784 / 6835], examples_per_second: 3001.4869, train_label_loss: 0.0193, \n"
     ]
    },
    {
     "name": "stdout",
     "output_type": "stream",
     "text": [
      "epoch: 5, [batch: 5468 / 6835], examples_per_second: 2993.5243, train_label_loss: 0.0058, \n"
     ]
    },
    {
     "name": "stdout",
     "output_type": "stream",
     "text": [
      "epoch: 5, [batch: 6151 / 6835], examples_per_second: 3051.0959, train_label_loss: 0.0017, \n"
     ]
    },
    {
     "name": "stdout",
     "output_type": "stream",
     "text": [
      "=============================================================\n",
      "epoch: 5, source_val_acc_label: 0.9740, target_val_acc_label: 0.0939, source_val_label_loss: 0.1188, target_val_label_loss: 2.8715, \n",
      "=============================================================\n"
     ]
    },
    {
     "name": "stdout",
     "output_type": "stream",
     "text": [
      "Patience (3) exhausted\n"
     ]
    }
   ],
   "source": [
    "###################################\n",
    "# train\n",
    "###################################\n",
    "jig = PTN_Train_Eval_Test_Jig(model, p.BEST_MODEL_PATH, p.device)\n",
    "\n",
    "jig.train(\n",
    "    train_iterable=datasets.source.processed.train,\n",
    "    source_val_iterable=datasets.source.processed.val,\n",
    "    target_val_iterable=datasets.target.processed.val,\n",
    "    num_epochs=p.n_epoch,\n",
    "    num_logs_per_epoch=p.NUM_LOGS_PER_EPOCH,\n",
    "    patience=p.patience,\n",
    "    optimizer=optimizer,\n",
    "    criteria_for_best=p.criteria_for_best,\n",
    ")"
   ]
  },
  {
   "cell_type": "code",
   "execution_count": 23,
   "id": "31e8fabf",
   "metadata": {
    "execution": {
     "iopub.execute_input": "2022-03-23T16:38:18.346045Z",
     "iopub.status.busy": "2022-03-23T16:38:18.345176Z",
     "iopub.status.idle": "2022-03-23T16:38:18.386055Z",
     "shell.execute_reply": "2022-03-23T16:38:18.385339Z"
    },
    "papermill": {
     "duration": 0.081287,
     "end_time": "2022-03-23T16:38:18.386213",
     "exception": false,
     "start_time": "2022-03-23T16:38:18.304926",
     "status": "completed"
    },
    "tags": []
   },
   "outputs": [],
   "source": [
    "total_experiment_time_secs = time.time() - start_time_secs"
   ]
  },
  {
   "cell_type": "code",
   "execution_count": 24,
   "id": "87b9595b",
   "metadata": {
    "execution": {
     "iopub.execute_input": "2022-03-23T16:38:18.538182Z",
     "iopub.status.busy": "2022-03-23T16:38:18.537299Z",
     "iopub.status.idle": "2022-03-23T16:48:21.955688Z",
     "shell.execute_reply": "2022-03-23T16:48:21.956389Z"
    },
    "papermill": {
     "duration": 603.527565,
     "end_time": "2022-03-23T16:48:21.956629",
     "exception": false,
     "start_time": "2022-03-23T16:38:18.429064",
     "status": "completed"
    },
    "tags": []
   },
   "outputs": [],
   "source": [
    "###################################\n",
    "# Evaluate the model\n",
    "###################################\n",
    "source_test_label_accuracy, source_test_label_loss = jig.test(datasets.source.processed.test)\n",
    "target_test_label_accuracy, target_test_label_loss = jig.test(datasets.target.processed.test)\n",
    "\n",
    "source_val_label_accuracy, source_val_label_loss = jig.test(datasets.source.processed.val)\n",
    "target_val_label_accuracy, target_val_label_loss = jig.test(datasets.target.processed.val)\n",
    "\n",
    "history = jig.get_history()\n",
    "\n",
    "total_epochs_trained = len(history[\"epoch_indices\"])\n",
    "\n",
    "val_dl = Iterable_Aggregator((datasets.source.original.val,datasets.target.original.val))\n",
    "\n",
    "confusion = ptn_confusion_by_domain_over_dataloader(model, p.device, val_dl)\n",
    "per_domain_accuracy = per_domain_accuracy_from_confusion(confusion)\n",
    "\n",
    "# Add a key to per_domain_accuracy for if it was a source domain\n",
    "for domain, accuracy in per_domain_accuracy.items():\n",
    "    per_domain_accuracy[domain] = {\n",
    "        \"accuracy\": accuracy,\n",
    "        \"source?\": domain in p.domains_source\n",
    "    }\n",
    "\n",
    "# Do an independent accuracy assesment JUST TO BE SURE!\n",
    "# _source_test_label_accuracy = independent_accuracy_assesment(model, datasets.source.processed.test, p.device)\n",
    "# _target_test_label_accuracy = independent_accuracy_assesment(model, datasets.target.processed.test, p.device)\n",
    "# _source_val_label_accuracy = independent_accuracy_assesment(model, datasets.source.processed.val, p.device)\n",
    "# _target_val_label_accuracy = independent_accuracy_assesment(model, datasets.target.processed.val, p.device)\n",
    "\n",
    "# assert(_source_test_label_accuracy == source_test_label_accuracy)\n",
    "# assert(_target_test_label_accuracy == target_test_label_accuracy)\n",
    "# assert(_source_val_label_accuracy == source_val_label_accuracy)\n",
    "# assert(_target_val_label_accuracy == target_val_label_accuracy)\n",
    "\n",
    "experiment = {\n",
    "    \"experiment_name\": p.experiment_name,\n",
    "    \"parameters\": dict(p),\n",
    "    \"results\": {\n",
    "        \"source_test_label_accuracy\": source_test_label_accuracy,\n",
    "        \"source_test_label_loss\": source_test_label_loss,\n",
    "        \"target_test_label_accuracy\": target_test_label_accuracy,\n",
    "        \"target_test_label_loss\": target_test_label_loss,\n",
    "        \"source_val_label_accuracy\": source_val_label_accuracy,\n",
    "        \"source_val_label_loss\": source_val_label_loss,\n",
    "        \"target_val_label_accuracy\": target_val_label_accuracy,\n",
    "        \"target_val_label_loss\": target_val_label_loss,\n",
    "        \"total_epochs_trained\": total_epochs_trained,\n",
    "        \"total_experiment_time_secs\": total_experiment_time_secs,\n",
    "        \"confusion\": confusion,\n",
    "        \"per_domain_accuracy\": per_domain_accuracy,\n",
    "    },\n",
    "    \"history\": history,\n",
    "    \"dataset_metrics\": get_dataset_metrics(datasets, \"ptn\"),\n",
    "}"
   ]
  },
  {
   "cell_type": "code",
   "execution_count": 25,
   "id": "54a21829",
   "metadata": {
    "execution": {
     "iopub.execute_input": "2022-03-23T16:48:22.044632Z",
     "iopub.status.busy": "2022-03-23T16:48:22.043887Z",
     "iopub.status.idle": "2022-03-23T16:48:22.260634Z",
     "shell.execute_reply": "2022-03-23T16:48:22.261338Z"
    },
    "papermill": {
     "duration": 0.261682,
     "end_time": "2022-03-23T16:48:22.261554",
     "exception": false,
     "start_time": "2022-03-23T16:48:21.999872",
     "status": "completed"
    },
    "tags": []
   },
   "outputs": [
    {
     "data": {
      "image/png": "[encoded data removed]",
      "text/plain": [
       "<Figure size 1080x504 with 1 Axes>"
      ]
     },
     "metadata": {
      "needs_background": "light"
     },
     "output_type": "display_data"
    }
   ],
   "source": [
    "ax = get_loss_curve(experiment)\n",
    "plt.show()"
   ]
  },
  {
   "cell_type": "code",
   "execution_count": 26,
   "id": "fd8a0f60",
   "metadata": {
    "execution": {
     "iopub.execute_input": "2022-03-23T16:48:22.351822Z",
     "iopub.status.busy": "2022-03-23T16:48:22.350959Z",
     "iopub.status.idle": "2022-03-23T16:48:22.683711Z",
     "shell.execute_reply": "2022-03-23T16:48:22.684402Z"
    },
    "papermill": {
     "duration": 0.377522,
     "end_time": "2022-03-23T16:48:22.684616",
     "exception": false,
     "start_time": "2022-03-23T16:48:22.307094",
     "status": "completed"
    },
    "tags": []
   },
   "outputs": [
    {
     "data": {
      "text/plain": [
       "<AxesSubplot:title={'center':'Results'}>"
      ]
     },
     "execution_count": 26,
     "metadata": {},
     "output_type": "execute_result"
    },
    {
     "data": {
      "image/png": "[encoded data removed]",
      "text/plain": [
       "<Figure size 1080x504 with 1 Axes>"
      ]
     },
     "metadata": {
      "needs_background": "light"
     },
     "output_type": "display_data"
    }
   ],
   "source": [
    "get_results_table(experiment)"
   ]
  },
  {
   "cell_type": "code",
   "execution_count": 27,
   "id": "cf8dc689",
   "metadata": {
    "execution": {
     "iopub.execute_input": "2022-03-23T16:48:22.777673Z",
     "iopub.status.busy": "2022-03-23T16:48:22.776911Z",
     "iopub.status.idle": "2022-03-23T16:48:23.040165Z",
     "shell.execute_reply": "2022-03-23T16:48:23.040867Z"
    },
    "papermill": {
     "duration": 0.310291,
     "end_time": "2022-03-23T16:48:23.041087",
     "exception": false,
     "start_time": "2022-03-23T16:48:22.730796",
     "status": "completed"
    },
    "tags": []
   },
   "outputs": [
    {
     "data": {
      "text/plain": [
       "<AxesSubplot:title={'center':'Per Domain Validation Accuracy'}, xlabel='domain'>"
      ]
     },
     "execution_count": 27,
     "metadata": {},
     "output_type": "execute_result"
    },
    {
     "data": {
      "image/png": "[encoded data removed]",
      "text/plain": [
       "<Figure size 1080x504 with 1 Axes>"
      ]
     },
     "metadata": {
      "needs_background": "light"
     },
     "output_type": "display_data"
    }
   ],
   "source": [
    "get_domain_accuracies(experiment)"
   ]
  },
  {
   "cell_type": "code",
   "execution_count": 28,
   "id": "a74ae082",
   "metadata": {
    "execution": {
     "iopub.execute_input": "2022-03-23T16:48:23.135295Z",
     "iopub.status.busy": "2022-03-23T16:48:23.134905Z",
     "iopub.status.idle": "2022-03-23T16:48:23.161612Z",
     "shell.execute_reply": "2022-03-23T16:48:23.160895Z"
    },
    "papermill": {
     "duration": 0.074461,
     "end_time": "2022-03-23T16:48:23.161789",
     "exception": false,
     "start_time": "2022-03-23T16:48:23.087328",
     "status": "completed"
    },
    "tags": []
   },
   "outputs": [
    {
     "name": "stdout",
     "output_type": "stream",
     "text": [
      "Source Test Label Accuracy: 0.9615359730848861 Target Test Label Accuracy: 0.1101953125\n",
      "Source Val Label Accuracy: 0.9622423361522199 Target Val Label Accuracy: 0.11034505208333334\n"
     ]
    }
   ],
   "source": [
    "print(\"Source Test Label Accuracy:\", experiment[\"results\"][\"source_test_label_accuracy\"], \"Target Test Label Accuracy:\", experiment[\"results\"][\"target_test_label_accuracy\"])\n",
    "print(\"Source Val Label Accuracy:\", experiment[\"results\"][\"source_val_label_accuracy\"], \"Target Val Label Accuracy:\", experiment[\"results\"][\"target_val_label_accuracy\"])"
   ]
  },
  {
   "cell_type": "code",
   "execution_count": 29,
   "id": "dacca602",
   "metadata": {
    "execution": {
     "iopub.execute_input": "2022-03-23T16:48:23.258845Z",
     "iopub.status.busy": "2022-03-23T16:48:23.258468Z",
     "iopub.status.idle": "2022-03-23T16:48:23.286276Z",
     "shell.execute_reply": "2022-03-23T16:48:23.286956Z"
    },
    "papermill": {
     "duration": 0.076109,
     "end_time": "2022-03-23T16:48:23.287156",
     "exception": false,
     "start_time": "2022-03-23T16:48:23.211047",
     "status": "completed"
    },
    "tags": [
     "experiment_json"
    ]
   },
   "outputs": [
    {
     "data": {
      "text/plain": [
       "'{\"experiment_name\": \"tl_1v2:wisig-oracle.run1\", \"parameters\": {\"experiment_name\": \"tl_1v2:wisig-oracle.run1\", \"device\": \"cuda\", \"lr\": 0.0001, \"n_shot\": 3, \"n_query\": 2, \"train_k_factor\": 3, \"val_k_factor\": 2, \"test_k_factor\": 2, \"torch_default_dtype\": \"torch.float32\", \"n_epoch\": 50, \"patience\": 3, \"criteria_for_best\": \"target_accuracy\", \"x_net\": [{\"class\": \"nnReshape\", \"kargs\": {\"shape\": [-1, 1, 2, 256]}}, {\"class\": \"Conv2d\", \"kargs\": {\"in_channels\": 1, \"out_channels\": 256, \"kernel_size\": [1, 7], \"bias\": false, \"padding\": [0, 3]}}, {\"class\": \"ReLU\", \"kargs\": {\"inplace\": true}}, {\"class\": \"BatchNorm2d\", \"kargs\": {\"num_features\": 256}}, {\"class\": \"Conv2d\", \"kargs\": {\"in_channels\": 256, \"out_channels\": 80, \"kernel_size\": [2, 7], \"bias\": true, \"padding\": [0, 3]}}, {\"class\": \"ReLU\", \"kargs\": {\"inplace\": true}}, {\"class\": \"BatchNorm2d\", \"kargs\": {\"num_features\": 80}}, {\"class\": \"Flatten\", \"kargs\": {}}, {\"class\": \"Linear\", \"kargs\": {\"in_features\": 20480, \"out_features\": 256}}, {\"class\": \"ReLU\", \"kargs\": {\"inplace\": true}}, {\"class\": \"BatchNorm1d\", \"kargs\": {\"num_features\": 256}}, {\"class\": \"Linear\", \"kargs\": {\"in_features\": 256, \"out_features\": 256}}], \"NUM_LOGS_PER_EPOCH\": 10, \"BEST_MODEL_PATH\": \"./best_model.pth\", \"n_way\": 16, \"datasets\": [{\"labels\": [\"1-10\", \"1-12\", \"1-14\", \"1-16\", \"1-18\", \"1-19\", \"1-8\", \"10-11\", \"10-17\", \"10-4\", \"10-7\", \"11-1\", \"11-10\", \"11-19\", \"11-20\", \"11-4\", \"11-7\", \"12-19\", \"12-20\", \"12-7\", \"13-14\", \"13-18\", \"13-19\", \"13-20\", \"13-3\", \"13-7\", \"14-10\", \"14-11\", \"14-12\", \"14-13\", \"14-14\", \"14-19\", \"14-20\", \"14-7\", \"14-8\", \"14-9\", \"15-1\", \"15-19\", \"15-6\", \"16-1\", \"16-16\", \"16-19\", \"16-20\", \"17-10\", \"17-11\", \"18-1\", \"18-10\", \"18-11\", \"18-12\", \"18-13\", \"18-14\", \"18-15\", \"18-16\", \"18-17\", \"18-19\", \"18-2\", \"18-20\", \"18-4\", \"18-5\", \"18-7\", \"18-8\", \"18-9\", \"19-1\", \"19-10\", \"19-11\", \"19-12\", \"19-13\", \"19-14\", \"19-15\", \"19-19\", \"19-2\", \"19-20\", \"19-3\", \"19-4\", \"19-6\", \"19-7\", \"19-8\", \"19-9\", \"2-1\", \"2-13\", \"2-15\", \"2-3\", \"2-4\", \"2-5\", \"2-6\", \"2-7\", \"2-8\", \"20-1\", \"20-12\", \"20-14\", \"20-15\", \"20-16\", \"20-18\", \"20-19\", \"20-20\", \"20-3\", \"20-4\", \"20-5\", \"20-7\", \"20-8\", \"3-1\", \"3-13\", \"3-18\", \"3-2\", \"3-8\", \"4-1\", \"4-10\", \"4-11\", \"5-1\", \"5-5\", \"6-1\", \"6-15\", \"6-6\", \"7-10\", \"7-11\", \"7-12\", \"7-13\", \"7-14\", \"7-7\", \"7-8\", \"7-9\", \"8-1\", \"8-13\", \"8-14\", \"8-18\", \"8-20\", \"8-3\", \"8-8\", \"9-1\", \"9-7\"], \"domains\": [1, 2, 3, 4], \"num_examples_per_domain_per_label\": -1, \"pickle_path\": \"/root/csc500-main/datasets/wisig.node3-19.stratified_ds.2022A.pkl\", \"source_or_target_dataset\": \"source\", \"x_transforms\": [\"unit_mag\"], \"episode_transforms\": [], \"domain_prefix\": \"Wisig_\"}, {\"labels\": [\"3123D52\", \"3123D65\", \"3123D79\", \"3123D80\", \"3123D54\", \"3123D70\", \"3123D7B\", \"3123D89\", \"3123D58\", \"3123D76\", \"3123D7D\", \"3123EFE\", \"3123D64\", \"3123D78\", \"3123D7E\", \"3124E4A\"], \"domains\": [32, 38, 8, 44, 14, 50, 20, 26], \"num_examples_per_domain_per_label\": 10000, \"pickle_path\": \"/root/csc500-main/datasets/oracle.Run1_10kExamples_stratified_ds.2022A.pkl\", \"source_or_target_dataset\": \"target\", \"x_transforms\": [\"unit_mag\"], \"episode_transforms\": [], \"domain_prefix\": \"ORACLE.run1\"}], \"dataset_seed\": 420, \"seed\": 420, \"x_shape\": [2, 256], \"domains_source\": [\"Wisig_1\", \"Wisig_2\", \"Wisig_3\", \"Wisig_4\"], \"domains_target\": [\"ORACLE.run132\", \"ORACLE.run138\", \"ORACLE.run18\", \"ORACLE.run144\", \"ORACLE.run114\", \"ORACLE.run150\", \"ORACLE.run120\", \"ORACLE.run126\"]}, \"results\": {\"source_test_label_accuracy\": 0.9615359730848861, \"source_test_label_loss\": 0.16756756603717804, \"target_test_label_accuracy\": 0.1101953125, \"target_test_label_loss\": 2.7273497581481934, \"source_val_label_accuracy\": 0.9622423361522199, \"source_val_label_loss\": 0.16686341166496277, \"target_val_label_accuracy\": 0.11034505208333334, \"target_val_label_loss\": 2.725400447845459, \"total_epochs_trained\": 5, \"total_experiment_time_secs\": 1586.5533828735352, \"confusion\": {\"Wisig_3\": {\"110\": {\"110\": 88, \"91\": 1, \"8\": 2, \"11\": 1}, \"1\": {\"1\": 107, \"21\": 1}, \"2\": {\"2\": 24, \"63\": 1, \"26\": 2, \"102\": 1}, \"94\": {\"94\": 80, \"27\": 1, \"70\": 1, \"107\": 1, \"39\": 1}, \"64\": {\"64\": 20}, \"78\": {\"78\": 13, \"4\": 1, \"21\": 2}, \"47\": {\"47\": 11, \"103\": 1}, \"127\": {\"127\": 127, \"26\": 1}, \"89\": {\"89\": 28}, \"79\": {\"79\": 12}, \"22\": {\"22\": 16}, \"117\": {\"117\": 112}, \"49\": {\"49\": 21, \"47\": 1, \"108\": 1, \"82\": 1}, \"14\": {\"14\": 80}, \"103\": {\"103\": 16}, \"123\": {\"123\": 16}, \"98\": {\"98\": 127, \"26\": 1}, \"18\": {\"18\": 108}, \"61\": {\"61\": 16}, \"108\": {\"108\": 122, \"110\": 1, \"70\": 1, \"88\": 1, \"40\": 1}, \"100\": {\"100\": 16}, \"0\": {\"0\": 115, \"8\": 1}, \"107\": {\"107\": 130}, \"58\": {\"58\": 16}, \"8\": {\"8\": 120}, \"85\": {\"85\": 36}, \"31\": {\"31\": 19, \"129\": 1}, \"81\": {\"81\": 32}, \"60\": {\"60\": 16, \"31\": 1, \"70\": 2, \"23\": 2, \"110\": 1, \"78\": 1, \"85\": 1, \"73\": 1, \"116\": 1, \"122\": 2}, \"102\": {\"102\": 116}, \"19\": {\"19\": 30, \"28\": 1, \"128\": 1}, \"23\": {\"60\": 2, \"23\": 23, \"51\": 1, \"67\": 1, \"122\": 1, \"17\": 2, \"123\": 1, \"97\": 1}, \"32\": {\"32\": 27, \"66\": 1, \"14\": 1, \"107\": 1, \"11\": 2}, \"39\": {\"39\": 104, \"126\": 2, \"113\": 1, \"2\": 1}, \"129\": {\"129\": 32}, \"71\": {\"71\": 67, \"84\": 1}, \"91\": {\"91\": 20, \"32\": 1, \"58\": 1, \"6\": 1, \"70\": 1}, \"101\": {\"101\": 50, \"21\": 1, \"113\": 1}, \"62\": {\"62\": 120, \"3\": 1, \"118\": 1}, \"63\": {\"63\": 16}, \"125\": {\"125\": 117, \"69\": 1, \"105\": 1, \"4\": 1}, \"57\": {\"57\": 20}, \"28\": {\"28\": 16}, \"70\": {\"70\": 59, \"73\": 1, \"43\": 1, \"21\": 1, \"102\": 1, \"30\": 1, \"54\": 1, \"8\": 2, \"105\": 1, \"69\": 2, \"108\": 1, \"94\": 1}, \"99\": {\"99\": 33, \"21\": 1, \"27\": 1, \"42\": 1}, \"121\": {\"121\": 29, \"80\": 1, \"19\": 1, \"81\": 1}, \"4\": {\"4\": 95, \"94\": 1}, \"80\": {\"80\": 16}, \"51\": {\"97\": 1, \"51\": 12, \"82\": 1, \"21\": 1, \"5\": 1}, \"3\": {\"3\": 113, \"78\": 1, \"70\": 1, \"8\": 1}, \"9\": {\"9\": 32}, \"53\": {\"53\": 19, \"9\": 1}, \"30\": {\"30\": 83, \"69\": 1}, \"33\": {\"33\": 122}, \"15\": {\"15\": 101, \"111\": 1, \"106\": 1, \"102\": 1}, \"97\": {\"30\": 1, \"97\": 19}, \"86\": {\"86\": 27, \"84\": 1}, \"20\": {\"20\": 16}, \"66\": {\"66\": 16}, \"10\": {\"10\": 117, \"127\": 1, \"105\": 1, \"9\": 1, \"4\": 1, \"33\": 1}, \"29\": {\"29\": 31, \"9\": 1}, \"109\": {\"109\": 112, \"5\": 1, \"108\": 1}, \"52\": {\"52\": 16}, \"67\": {\"67\": 16}, \"83\": {\"83\": 22, \"121\": 1, \"43\": 1}, \"72\": {\"72\": 28}, \"90\": {\"90\": 124, \"26\": 2}, \"69\": {\"69\": 83, \"92\": 1}, \"88\": {\"88\": 110, \"8\": 1, \"39\": 1}, \"115\": {\"115\": 16}, \"73\": {\"73\": 36, \"22\": 1, \"25\": 1, \"69\": 1, \"89\": 1}, \"34\": {\"34\": 27, \"6\": 2, \"14\": 1, \"124\": 1, \"28\": 1}, \"25\": {\"25\": 16}, \"44\": {\"44\": 71, \"113\": 1}, \"112\": {\"112\": 15, \"97\": 1}, \"37\": {\"37\": 16}, \"77\": {\"77\": 16}, \"111\": {\"111\": 118, \"127\": 3, \"106\": 1}, \"119\": {\"119\": 16}, \"56\": {\"56\": 12}, \"5\": {\"5\": 110, \"102\": 1, \"21\": 1}, \"122\": {\"122\": 57, \"21\": 3}, \"74\": {\"74\": 16}, \"11\": {\"11\": 150, \"107\": 1, \"110\": 1}, \"41\": {\"41\": 16}, \"104\": {\"104\": 16}, \"21\": {\"21\": 46, \"101\": 2}, \"118\": {\"118\": 98, \"6\": 1, \"84\": 1}, \"40\": {\"40\": 121, \"21\": 1}, \"6\": {\"6\": 32}, \"27\": {\"27\": 87, \"24\": 1, \"36\": 7, \"54\": 1}, \"113\": {\"113\": 119, \"43\": 1}, \"68\": {\"68\": 16}, \"12\": {\"12\": 102}, \"54\": {\"54\": 16}, \"24\": {\"24\": 46, \"86\": 1, \"54\": 1}, \"106\": {\"106\": 98, \"87\": 1, \"19\": 1}, \"128\": {\"128\": 31, \"122\": 1}, \"48\": {\"48\": 9, \"65\": 1, \"10\": 1, \"11\": 1, \"79\": 2, \"95\": 2}, \"92\": {\"92\": 32}, \"35\": {\"35\": 10, \"24\": 1, \"27\": 1}, \"116\": {\"116\": 25, \"92\": 1, \"60\": 1, \"82\": 1}, \"38\": {\"38\": 15, \"25\": 1}, \"126\": {\"126\": 122, \"17\": 1, \"39\": 1}, \"46\": {\"46\": 16}, \"120\": {\"120\": 20}, \"7\": {\"7\": 111, \"84\": 1}, \"13\": {\"13\": 6, \"120\": 3, \"11\": 2, \"70\": 1, \"82\": 1, \"122\": 1, \"121\": 1, \"17\": 1}, \"43\": {\"43\": 43, \"33\": 5, \"60\": 1, \"128\": 1, \"84\": 2, \"83\": 1, \"106\": 1, \"102\": 2}, \"93\": {\"93\": 131, \"109\": 1}, \"26\": {\"26\": 131, \"8\": 1}, \"76\": {\"76\": 16}, \"59\": {\"59\": 12}, \"65\": {\"65\": 11, \"64\": 1}, \"87\": {\"87\": 119, \"26\": 1}, \"124\": {\"124\": 122, \"52\": 1, \"11\": 1}, \"84\": {\"84\": 108}, \"82\": {\"82\": 28}, \"75\": {\"75\": 16}, \"17\": {\"10\": 1, \"17\": 8, \"116\": 1, \"104\": 1, \"105\": 2, \"106\": 1, \"6\": 1, \"7\": 1}, \"105\": {\"105\": 124}, \"95\": {\"95\": 32}, \"42\": {\"42\": 23, \"124\": 2, \"88\": 1, \"83\": 2}, \"55\": {\"55\": 16}, \"16\": {\"16\": 115, \"19\": 1}, \"50\": {\"50\": 16}, \"96\": {\"96\": 20}, \"45\": {\"45\": 16}, \"36\": {\"36\": 117, \"27\": 3}, \"114\": {\"114\": 119, \"102\": 1, \"122\": 1, \"39\": 1, \"106\": 1, \"11\": 1}}, \"Wisig_4\": {\"113\": {\"113\": 121, \"126\": 1, \"27\": 1, \"69\": 1}, \"85\": {\"85\": 26, \"36\": 1, \"102\": 1}, \"34\": {\"34\": 26, \"75\": 1, \"47\": 2, \"91\": 2, \"120\": 1}, \"55\": {\"55\": 16}, \"42\": {\"42\": 19, \"20\": 2, \"124\": 1, \"8\": 2, \"34\": 1, \"79\": 2, \"112\": 1}, \"13\": {\"13\": 16}, \"69\": {\"69\": 119, \"70\": 1, \"8\": 1, \"1\": 1, \"78\": 1, \"16\": 1}, \"35\": {\"35\": 12}, \"83\": {\"83\": 26, \"21\": 1, \"88\": 1}, \"51\": {\"34\": 1, \"24\": 1, \"62\": 2, \"51\": 7, \"29\": 2, \"91\": 1, \"20\": 1, \"98\": 1}, \"72\": {\"72\": 32}, \"24\": {\"24\": 115, \"21\": 1, \"10\": 1, \"36\": 3}, \"53\": {\"53\": 15, \"9\": 1}, \"8\": {\"8\": 136, \"5\": 1, \"108\": 1, \"27\": 1, \"1\": 1, \"69\": 2, \"99\": 1, \"21\": 1}, \"49\": {\"49\": 30, \"88\": 1, \"5\": 1}, \"21\": {\"21\": 39, \"23\": 1}, \"18\": {\"18\": 118, \"24\": 1, \"84\": 1}, \"114\": {\"114\": 116, \"88\": 1, \"3\": 1}, \"58\": {\"58\": 15, \"31\": 1}, \"56\": {\"56\": 12}, \"80\": {\"80\": 16}, \"11\": {\"11\": 153, \"40\": 1}, \"15\": {\"15\": 121, \"105\": 1, \"10\": 2, \"40\": 1, \"30\": 1, \"69\": 1, \"12\": 1}, \"50\": {\"50\": 16}, \"111\": {\"111\": 137, \"27\": 1}, \"108\": {\"108\": 80, \"88\": 4, \"122\": 1, \"27\": 1, \"24\": 1, \"129\": 1, \"39\": 2, \"18\": 1, \"16\": 1}, \"104\": {\"104\": 16}, \"32\": {\"32\": 22, \"8\": 1, \"108\": 1, \"107\": 1, \"62\": 1, \"45\": 2}, \"68\": {\"68\": 15, \"51\": 1}, \"73\": {\"73\": 24}, \"92\": {\"92\": 28}, \"57\": {\"57\": 16}, \"40\": {\"40\": 132, \"107\": 1, \"8\": 1, \"122\": 2}, \"71\": {\"71\": 101, \"30\": 1, \"1\": 1, \"69\": 1}, \"121\": {\"121\": 27, \"80\": 1, \"27\": 1, \"90\": 1, \"63\": 1, \"115\": 1}, \"62\": {\"62\": 53, \"122\": 1, \"21\": 2, \"2\": 1, \"41\": 1, \"39\": 1, \"36\": 1}, \"39\": {\"39\": 87, \"88\": 1, \"67\": 1, \"81\": 3, \"126\": 2, \"117\": 1, \"10\": 1, \"113\": 2, \"105\": 1, \"122\": 1}, \"107\": {\"107\": 142, \"122\": 1, \"88\": 1}, \"60\": {\"60\": 29, \"110\": 1, \"50\": 1, \"122\": 1}, \"129\": {\"129\": 24, \"122\": 1, \"21\": 1, \"27\": 1, \"14\": 1}, \"84\": {\"84\": 127, \"88\": 2, \"122\": 1, \"39\": 1, \"118\": 1}, \"106\": {\"106\": 114, \"21\": 1, \"118\": 1}, \"87\": {\"87\": 132}, \"110\": {\"110\": 89, \"78\": 1, \"113\": 1, \"27\": 1, \"36\": 1, \"87\": 1}, \"118\": {\"118\": 107, \"22\": 1, \"62\": 1, \"107\": 1, \"129\": 1, \"40\": 1}, \"64\": {\"64\": 15, \"106\": 1}, \"82\": {\"60\": 1, \"82\": 30, \"17\": 1}, \"7\": {\"7\": 121, \"102\": 1, \"69\": 1, \"24\": 1}, \"0\": {\"0\": 111, \"84\": 1, \"107\": 1, \"21\": 2, \"101\": 1}, \"41\": {\"41\": 14, \"23\": 1, \"21\": 1}, \"102\": {\"102\": 127, \"118\": 1, \"127\": 1, \"19\": 1}, \"89\": {\"89\": 31, \"51\": 1}, \"26\": {\"26\": 125, \"69\": 1, \"40\": 1, \"8\": 1}, \"103\": {\"103\": 15, \"52\": 1}, \"90\": {\"90\": 113, \"66\": 1, \"27\": 1, \"121\": 1, \"117\": 1, \"88\": 1}, \"14\": {\"14\": 111, \"89\": 1}, \"9\": {\"9\": 28}, \"5\": {\"5\": 133, \"113\": 1, \"40\": 2}, \"22\": {\"22\": 16}, \"2\": {\"2\": 25, \"26\": 2, \"93\": 1}, \"77\": {\"77\": 12}, \"59\": {\"59\": 10, \"22\": 1, \"69\": 1}, \"127\": {\"127\": 95, \"23\": 1, \"16\": 1, \"8\": 1, \"105\": 2, \"81\": 1, \"69\": 1}, \"61\": {\"61\": 15, \"35\": 1}, \"17\": {\"17\": 19, \"116\": 1}, \"45\": {\"45\": 16}, \"19\": {\"19\": 28}, \"52\": {\"52\": 19, \"129\": 1}, \"123\": {\"84\": 1, \"123\": 13, \"23\": 1, \"60\": 1}, \"20\": {\"20\": 15, \"31\": 1}, \"112\": {\"112\": 14, \"53\": 1, \"52\": 1}, \"37\": {\"37\": 16}, \"29\": {\"29\": 32}, \"128\": {\"8\": 2, \"128\": 20, \"78\": 1, \"115\": 1}, \"100\": {\"100\": 20}, \"67\": {\"67\": 10, \"123\": 1, \"115\": 1, \"39\": 1, \"2\": 1, \"69\": 2}, \"12\": {\"12\": 96, \"106\": 1, \"122\": 1, \"71\": 1, \"16\": 1}, \"101\": {\"101\": 127, \"33\": 1}, \"76\": {\"76\": 16}, \"70\": {\"70\": 111, \"88\": 6, \"27\": 3, \"98\": 1, \"49\": 2, \"102\": 1}, \"31\": {\"70\": 1, \"31\": 15}, \"86\": {\"86\": 28}, \"88\": {\"70\": 3, \"88\": 126, \"69\": 1, \"94\": 1, \"27\": 1}, \"3\": {\"3\": 123, \"40\": 1, \"122\": 1, \"2\": 1}, \"117\": {\"117\": 117, \"122\": 1, \"107\": 1, \"69\": 1}, \"30\": {\"30\": 71, \"105\": 1, \"10\": 1, \"16\": 1, \"81\": 1, \"114\": 1}, \"96\": {\"96\": 20}, \"27\": {\"27\": 89, \"92\": 1, \"39\": 1, \"108\": 2, \"70\": 1, \"24\": 1, \"84\": 1, \"21\": 1, \"5\": 1, \"102\": 1, \"69\": 1}, \"122\": {\"122\": 84}, \"120\": {\"120\": 19, \"21\": 1}, \"44\": {\"44\": 60, \"121\": 2, \"90\": 1, \"73\": 1}, \"79\": {\"79\": 15, \"122\": 1}, \"105\": {\"105\": 94, \"122\": 1, \"102\": 1, \"87\": 2, \"108\": 1, \"24\": 1}, \"95\": {\"95\": 30, \"21\": 1, \"27\": 1}, \"109\": {\"109\": 111, \"88\": 1, \"14\": 3, \"78\": 1}, \"16\": {\"16\": 115, \"12\": 1, \"114\": 1, \"24\": 1}, \"36\": {\"36\": 89, \"21\": 2, \"24\": 4, \"105\": 1, \"27\": 2}, \"125\": {\"125\": 135, \"39\": 1}, \"97\": {\"36\": 1, \"97\": 17, \"10\": 2}, \"91\": {\"91\": 21, \"84\": 1, \"34\": 1, \"109\": 1}, \"28\": {\"28\": 20}, \"81\": {\"81\": 36}, \"126\": {\"126\": 113, \"69\": 1, \"78\": 1, \"106\": 1, \"107\": 1, \"113\": 1, \"51\": 1, \"39\": 2, \"93\": 1}, \"4\": {\"4\": 98, \"122\": 1, \"39\": 1, \"10\": 1, \"27\": 1, \"110\": 1, \"69\": 1}, \"10\": {\"10\": 120, \"94\": 1, \"30\": 2, \"106\": 1}, \"63\": {\"63\": 16}, \"43\": {\"43\": 117, \"122\": 1}, \"116\": {\"116\": 27, \"99\": 1}, \"1\": {\"1\": 100, \"69\": 1, \"10\": 1, \"110\": 1, \"7\": 1, \"84\": 1, \"70\": 1, \"88\": 1, \"12\": 1}, \"94\": {\"94\": 87, \"40\": 1}, \"38\": {\"38\": 16}, \"54\": {\"54\": 16}, \"74\": {\"74\": 16}, \"25\": {\"25\": 16}, \"75\": {\"75\": 16}, \"119\": {\"119\": 15, \"123\": 1}, \"46\": {\"46\": 18, \"22\": 1, \"122\": 1}, \"23\": {\"21\": 2, \"23\": 8, \"67\": 1, \"1\": 1, \"86\": 1, \"123\": 1, \"102\": 1, \"60\": 1}, \"99\": {\"99\": 40}, \"33\": {\"33\": 116, \"69\": 1, \"24\": 1}, \"47\": {\"47\": 9, \"112\": 1, \"49\": 1, \"27\": 1}, \"115\": {\"87\": 2, \"115\": 11, \"107\": 2, \"34\": 1}, \"6\": {\"85\": 1, \"6\": 21, \"58\": 1, \"122\": 1}, \"65\": {\"65\": 12}, \"66\": {\"66\": 14, \"44\": 2}, \"78\": {\"78\": 30, \"26\": 1, \"88\": 1, \"94\": 1, \"30\": 1, \"122\": 1, \"43\": 1}, \"98\": {\"98\": 116}, \"93\": {\"93\": 115, \"69\": 1}, \"48\": {\"48\": 15, \"62\": 1}, \"124\": {\"124\": 113, \"24\": 1}}, \"Wisig_2\": {\"115\": {\"115\": 12}, \"34\": {\"34\": 30, \"110\": 1, \"52\": 1}, \"97\": {\"97\": 18, \"15\": 1, \"77\": 1}, \"100\": {\"100\": 16}, \"129\": {\"129\": 32}, \"90\": {\"90\": 141, \"98\": 1}, \"125\": {\"125\": 131, \"2\": 1}, \"7\": {\"7\": 125, \"24\": 2, \"26\": 1}, \"92\": {\"92\": 28}, \"114\": {\"114\": 114, \"107\": 1, \"5\": 1}, \"80\": {\"80\": 15, \"83\": 1}, \"16\": {\"16\": 116, \"123\": 1, \"40\": 2, \"24\": 1, \"118\": 1, \"8\": 1}, \"69\": {\"69\": 113, \"24\": 1, \"70\": 1, \"87\": 1}, \"102\": {\"102\": 114}, \"33\": {\"33\": 130}, \"17\": {\"34\": 2, \"17\": 13, \"27\": 1}, \"27\": {\"27\": 60, \"36\": 3, \"24\": 2, \"102\": 1, \"112\": 1, \"94\": 1}, \"117\": {\"117\": 104, \"12\": 1, \"24\": 1}, \"14\": {\"14\": 46, \"80\": 1, \"21\": 1}, \"86\": {\"86\": 32}, \"0\": {\"0\": 113, \"21\": 1, \"69\": 1, \"24\": 1}, \"62\": {\"62\": 135, \"55\": 1, \"23\": 1, \"24\": 1}, \"39\": {\"39\": 105, \"110\": 1, \"78\": 1, \"94\": 2, \"69\": 2, \"70\": 1}, \"19\": {\"19\": 28}, \"44\": {\"44\": 100}, \"104\": {\"104\": 20}, \"3\": {\"3\": 125, \"87\": 1, \"24\": 1, \"62\": 1, \"21\": 1, \"36\": 1}, \"10\": {\"10\": 51, \"62\": 1, \"52\": 1, \"69\": 1, \"21\": 1, \"7\": 1, \"78\": 1, \"87\": 1, \"36\": 1, \"102\": 1}, \"61\": {\"61\": 16, \"51\": 1, \"70\": 1, \"58\": 1, \"80\": 1}, \"111\": {\"111\": 113, \"127\": 1}, \"68\": {\"68\": 16}, \"101\": {\"101\": 141, \"69\": 1, \"0\": 1, \"118\": 1}, \"36\": {\"36\": 121, \"51\": 1, \"18\": 1, \"62\": 1, \"70\": 1, \"73\": 1, \"4\": 1, \"30\": 1}, \"120\": {\"120\": 19, \"65\": 1}, \"103\": {\"103\": 16}, \"47\": {\"47\": 12}, \"98\": {\"98\": 120}, \"76\": {\"76\": 16}, \"88\": {\"88\": 120, \"20\": 1, \"126\": 2, \"27\": 1}, \"93\": {\"93\": 136, \"118\": 1, \"24\": 1}, \"23\": {\"23\": 39, \"54\": 1, \"19\": 1, \"29\": 1, \"60\": 1, \"99\": 1}, \"108\": {\"108\": 123, \"40\": 1}, \"51\": {\"51\": 11, \"106\": 2, \"14\": 1, \"54\": 1, \"41\": 1, \"58\": 1, \"6\": 1, \"39\": 1, \"24\": 1}, \"13\": {\"13\": 13, \"36\": 1, \"27\": 1, \"118\": 1}, \"77\": {\"77\": 16}, \"46\": {\"46\": 16}, \"96\": {\"96\": 20}, \"119\": {\"119\": 19, \"1\": 1}, \"121\": {\"121\": 36}, \"54\": {\"54\": 18, \"28\": 1, \"118\": 1}, \"82\": {\"82\": 35, \"78\": 1}, \"12\": {\"12\": 86, \"62\": 1, \"24\": 1}, \"74\": {\"74\": 15, \"22\": 1}, \"66\": {\"66\": 18, \"24\": 1, \"36\": 1}, \"28\": {\"28\": 20}, \"52\": {\"52\": 18, \"21\": 1, \"110\": 1}, \"41\": {\"41\": 18, \"52\": 1, \"110\": 1}, \"81\": {\"81\": 24}, \"48\": {\"48\": 20}, \"113\": {\"113\": 70, \"49\": 1, \"84\": 1}, \"53\": {\"53\": 16}, \"15\": {\"15\": 115, \"97\": 1, \"9\": 1, \"111\": 2, \"36\": 1}, \"30\": {\"30\": 109, \"24\": 1, \"107\": 1, \"36\": 1}, \"43\": {\"43\": 120, \"21\": 1, \"106\": 1, \"107\": 1, \"94\": 1}, \"29\": {\"29\": 31, \"110\": 1}, \"109\": {\"109\": 95, \"110\": 1, \"120\": 1, \"70\": 1, \"84\": 2}, \"60\": {\"60\": 22, \"122\": 1, \"87\": 1, \"29\": 2, \"36\": 1, \"71\": 1}, \"70\": {\"70\": 113, \"25\": 1, \"69\": 1, \"88\": 1, \"31\": 1, \"49\": 1, \"40\": 1, \"21\": 1, \"84\": 1, \"3\": 1}, \"127\": {\"127\": 121, \"111\": 2, \"16\": 1}, \"32\": {\"32\": 24, \"52\": 2, \"0\": 2, \"72\": 3, \"95\": 1, \"10\": 2, \"62\": 2}, \"73\": {\"73\": 27, \"88\": 1}, \"50\": {\"50\": 13, \"21\": 1, \"62\": 1, \"78\": 1}, \"1\": {\"1\": 119, \"105\": 1, \"12\": 1, \"87\": 1, \"36\": 1, \"26\": 1}, \"106\": {\"106\": 116, \"36\": 3, \"19\": 1}, \"123\": {\"123\": 16}, \"79\": {\"79\": 16}, \"4\": {\"4\": 85, \"94\": 1, \"112\": 1, \"62\": 1}, \"2\": {\"2\": 29, \"117\": 2, \"26\": 1}, \"8\": {\"8\": 124, \"69\": 2, \"12\": 1, \"84\": 1}, \"83\": {\"83\": 40}, \"105\": {\"105\": 129, \"23\": 1}, \"5\": {\"5\": 107, \"82\": 1, \"70\": 2, \"2\": 1, \"94\": 1}, \"99\": {\"99\": 32}, \"25\": {\"25\": 15, \"60\": 1}, \"59\": {\"59\": 14, \"102\": 1, \"69\": 1}, \"42\": {\"42\": 26, \"83\": 1, \"18\": 1}, \"55\": {\"55\": 16}, \"75\": {\"75\": 16}, \"118\": {\"118\": 67, \"69\": 1}, \"95\": {\"95\": 32, \"62\": 1, \"13\": 1, \"40\": 2}, \"122\": {\"122\": 114, \"110\": 2, \"24\": 1, \"12\": 1, \"70\": 1, \"5\": 1}, \"20\": {\"20\": 16}, \"110\": {\"110\": 34, \"34\": 1, \"35\": 1, \"21\": 1, \"24\": 1, \"14\": 1, \"69\": 1}, \"65\": {\"65\": 20}, \"37\": {\"79\": 1, \"37\": 14, \"104\": 1}, \"64\": {\"64\": 16}, \"63\": {\"63\": 19, \"118\": 1}, \"40\": {\"40\": 128, \"129\": 1, \"24\": 1, \"69\": 3, \"87\": 1, \"18\": 1, \"73\": 1, \"71\": 1, \"110\": 1, \"62\": 1, \"4\": 1}, \"21\": {\"21\": 41, \"109\": 1, \"70\": 1, \"82\": 1, \"62\": 1, \"39\": 2, \"78\": 1}, \"11\": {\"11\": 76, \"71\": 1, \"122\": 1, \"47\": 1, \"18\": 1}, \"67\": {\"67\": 16}, \"91\": {\"103\": 1, \"25\": 1, \"91\": 25, \"18\": 1}, \"87\": {\"87\": 104, \"102\": 2, \"13\": 1, \"107\": 1, \"116\": 1, \"39\": 1, \"36\": 1, \"69\": 1}, \"89\": {\"89\": 33, \"83\": 1, \"92\": 1, \"119\": 1}, \"9\": {\"9\": 32}, \"124\": {\"124\": 114}, \"56\": {\"56\": 10, \"12\": 1, \"30\": 1}, \"38\": {\"38\": 16}, \"94\": {\"94\": 57, \"102\": 3, \"26\": 1, \"12\": 1, \"24\": 1, \"39\": 1}, \"6\": {\"6\": 31, \"51\": 1}, \"58\": {\"58\": 19, \"42\": 1}, \"22\": {\"22\": 20}, \"24\": {\"24\": 101, \"118\": 1, \"107\": 1, \"36\": 2, \"70\": 1, \"69\": 4, \"16\": 1, \"109\": 1}, \"57\": {\"57\": 20}, \"112\": {\"112\": 8, \"53\": 1, \"111\": 1, \"49\": 1, \"128\": 2, \"24\": 2, \"94\": 1}, \"116\": {\"116\": 25, \"107\": 1, \"78\": 1, \"70\": 1}, \"18\": {\"18\": 120, \"1\": 1, \"117\": 1, \"94\": 1, \"69\": 1, \"24\": 2, \"70\": 1, \"62\": 1}, \"49\": {\"49\": 18, \"112\": 1, \"129\": 1, \"11\": 1, \"61\": 1, \"21\": 1, \"19\": 1}, \"45\": {\"45\": 16}, \"107\": {\"107\": 54, \"49\": 1, \"16\": 1, \"36\": 2, \"4\": 2, \"62\": 1, \"61\": 1, \"110\": 1, \"87\": 1}, \"35\": {\"35\": 12}, \"78\": {\"78\": 39, \"118\": 1, \"70\": 1, \"84\": 2, \"95\": 1, \"36\": 1, \"21\": 2, \"4\": 1}, \"126\": {\"126\": 120}, \"85\": {\"85\": 32}, \"72\": {\"72\": 27, \"36\": 1}, \"26\": {\"26\": 120, \"70\": 1, \"69\": 1, \"18\": 1, \"71\": 1}, \"84\": {\"84\": 89, \"118\": 1, \"87\": 1, \"2\": 1}, \"128\": {\"128\": 19, \"70\": 1, \"97\": 2, \"101\": 1, \"71\": 1}, \"31\": {\"31\": 20}, \"71\": {\"71\": 98, \"40\": 1, \"11\": 1}}, \"Wisig_1\": {\"22\": {\"22\": 16}, \"58\": {\"58\": 12}, \"109\": {\"109\": 123, \"126\": 1}, \"77\": {\"77\": 16}, \"74\": {\"74\": 16}, \"10\": {\"10\": 113, \"85\": 2, \"0\": 4, \"98\": 1}, \"70\": {\"70\": 124, \"12\": 1, \"106\": 1, \"62\": 1, \"108\": 1}, \"84\": {\"84\": 108}, \"52\": {\"52\": 20}, \"20\": {\"20\": 15, \"102\": 1}, \"14\": {\"14\": 95, \"26\": 1}, \"37\": {\"37\": 16}, \"42\": {\"42\": 22, \"109\": 1, \"2\": 3, \"93\": 1, \"91\": 1}, \"99\": {\"99\": 24}, \"35\": {\"35\": 12}, \"62\": {\"62\": 119, \"26\": 1}, \"61\": {\"61\": 12}, \"7\": {\"7\": 141, \"26\": 1}, \"69\": {\"69\": 101, \"26\": 2, \"36\": 1}, \"55\": {\"55\": 12}, \"41\": {\"41\": 16}, \"120\": {\"120\": 20}, \"123\": {\"123\": 16}, \"97\": {\"97\": 16, \"78\": 1, \"42\": 1, \"102\": 1, \"95\": 1}, \"102\": {\"102\": 119, \"16\": 1}, \"60\": {\"32\": 1, \"120\": 1, \"60\": 5, \"25\": 1, \"13\": 2, \"42\": 2, \"109\": 1, \"55\": 1, \"19\": 1, \"30\": 1}, \"127\": {\"127\": 104, \"4\": 1, \"122\": 2, \"78\": 1}, \"32\": {\"32\": 29, \"4\": 1, \"35\": 1, \"127\": 1}, \"3\": {\"3\": 83, \"43\": 1, \"4\": 1, \"75\": 1, \"0\": 1, \"87\": 1}, \"8\": {\"8\": 122}, \"129\": {\"129\": 25, \"2\": 1, \"23\": 1, \"123\": 1}, \"119\": {\"119\": 16}, \"21\": {\"21\": 36, \"70\": 1, \"78\": 1, \"14\": 1, \"9\": 1}, \"53\": {\"53\": 20}, \"28\": {\"28\": 20}, \"117\": {\"117\": 144}, \"112\": {\"112\": 16}, \"126\": {\"126\": 131, \"109\": 1, \"40\": 1, \"122\": 1}, \"30\": {\"30\": 52}, \"105\": {\"105\": 81, \"102\": 2, \"26\": 1}, \"29\": {\"29\": 28}, \"57\": {\"57\": 12}, \"93\": {\"93\": 137, \"87\": 1, \"4\": 1, \"105\": 1}, \"17\": {\"17\": 15, \"78\": 1}, \"44\": {\"44\": 76}, \"63\": {\"63\": 16}, \"87\": {\"87\": 106, \"69\": 1, \"108\": 1}, \"0\": {\"0\": 83, \"122\": 1}, \"96\": {\"96\": 18, \"91\": 1, \"126\": 1}, \"98\": {\"98\": 108}, \"75\": {\"75\": 16}, \"78\": {\"78\": 12, \"43\": 3, \"21\": 1}, \"116\": {\"116\": 31, \"94\": 1}, \"114\": {\"114\": 126, \"43\": 1, \"94\": 1}, \"103\": {\"103\": 15, \"9\": 1}, \"50\": {\"50\": 16}, \"124\": {\"124\": 128}, \"5\": {\"5\": 86, \"27\": 1, \"39\": 1}, \"73\": {\"73\": 19, \"93\": 1}, \"81\": {\"81\": 28}, \"49\": {\"49\": 14, \"70\": 3, \"30\": 1, \"1\": 1, \"129\": 1}, \"16\": {\"16\": 106, \"102\": 1, \"27\": 1}, \"101\": {\"101\": 124}, \"125\": {\"125\": 118}, \"65\": {\"66\": 1, \"65\": 6, \"45\": 2, \"3\": 1, \"76\": 1, \"115\": 1}, \"66\": {\"66\": 16}, \"79\": {\"79\": 12}, \"39\": {\"39\": 102, \"30\": 1, \"6\": 1}, \"104\": {\"104\": 16}, \"91\": {\"91\": 28}, \"25\": {\"25\": 16}, \"64\": {\"64\": 16}, \"34\": {\"60\": 2, \"34\": 21, \"83\": 1, \"70\": 1, \"6\": 4, \"98\": 1, \"122\": 2}, \"82\": {\"82\": 36}, \"18\": {\"18\": 124}, \"43\": {\"43\": 127, \"6\": 1}, \"47\": {\"47\": 12}, \"108\": {\"108\": 120, \"24\": 2, \"70\": 1, \"69\": 1}, \"111\": {\"111\": 107, \"93\": 1}, \"23\": {\"23\": 15, \"86\": 2, \"110\": 1, \"32\": 1, \"55\": 1, \"104\": 1, \"53\": 1, \"127\": 1, \"40\": 1}, \"90\": {\"90\": 157, \"122\": 1, \"113\": 1, \"102\": 1}, \"4\": {\"4\": 99, \"27\": 1}, \"92\": {\"92\": 28}, \"2\": {\"2\": 25, \"54\": 1, \"11\": 3, \"82\": 2, \"18\": 1}, \"45\": {\"2\": 1, \"45\": 5, \"104\": 2, \"124\": 2, \"102\": 1, \"43\": 1}, \"68\": {\"68\": 16}, \"26\": {\"26\": 128}, \"38\": {\"38\": 16}, \"40\": {\"40\": 141, \"105\": 1}, \"80\": {\"80\": 15, \"23\": 1}, \"107\": {\"107\": 118, \"65\": 1, \"102\": 2, \"69\": 1}, \"94\": {\"94\": 92}, \"115\": {\"115\": 12}, \"46\": {\"46\": 5, \"30\": 1, \"12\": 2, \"62\": 1, \"70\": 2, \"98\": 1}, \"72\": {\"72\": 32}, \"19\": {\"19\": 27, \"128\": 1}, \"100\": {\"100\": 14, \"65\": 1, \"24\": 1}, \"76\": {\"76\": 15, \"88\": 1}, \"106\": {\"106\": 131, \"12\": 1}, \"88\": {\"88\": 128, \"27\": 1, \"36\": 1}, \"15\": {\"15\": 96, \"71\": 1, \"12\": 2, \"27\": 2, \"111\": 2, \"70\": 1}, \"54\": {\"54\": 14, \"60\": 1, \"21\": 1}, \"13\": {\"13\": 16}, \"51\": {\"51\": 16}, \"24\": {\"24\": 90, \"102\": 1, \"108\": 1}, \"48\": {\"48\": 12}, \"85\": {\"85\": 32}, \"33\": {\"33\": 140}, \"71\": {\"71\": 104, \"126\": 1, \"117\": 1, \"6\": 1, \"1\": 1}, \"6\": {\"6\": 31, \"52\": 1}, \"83\": {\"83\": 26, \"69\": 1, \"118\": 1}, \"121\": {\"121\": 31, \"18\": 1}, \"31\": {\"31\": 15, \"122\": 1}, \"67\": {\"45\": 1, \"67\": 15}, \"1\": {\"1\": 135, \"18\": 1}, \"27\": {\"27\": 90, \"107\": 1, \"15\": 1}, \"118\": {\"118\": 82, \"87\": 1, \"103\": 1}, \"56\": {\"56\": 12}, \"36\": {\"36\": 124, \"88\": 3, \"43\": 1}, \"11\": {\"11\": 125, \"88\": 1}, \"110\": {\"110\": 120, \"26\": 1, \"18\": 1}, \"89\": {\"89\": 36}, \"113\": {\"113\": 112, \"6\": 1, \"40\": 1, \"33\": 1, \"69\": 1, \"110\": 1, \"102\": 1}, \"59\": {\"59\": 12}, \"9\": {\"9\": 31, \"26\": 1}, \"86\": {\"86\": 34, \"94\": 1, \"122\": 1}, \"12\": {\"12\": 101, \"69\": 1, \"24\": 1, \"43\": 1}, \"122\": {\"122\": 86, \"26\": 2}, \"128\": {\"128\": 19, \"70\": 2, \"82\": 1, \"83\": 1, \"72\": 1}, \"95\": {\"95\": 35, \"102\": 1}}, \"ORACLE.run114\": {\"15\": {\"14\": 59, \"7\": 105, \"1\": 67, \"2\": 78, \"4\": 105, \"13\": 96, \"3\": 73, \"6\": 107, \"0\": 60, \"15\": 143, \"9\": 27, \"10\": 91, \"11\": 66, \"8\": 28, \"5\": 80, \"12\": 15}, \"5\": {\"8\": 65, \"6\": 76, \"7\": 82, \"14\": 75, \"3\": 79, \"4\": 81, \"1\": 81, \"10\": 87, \"5\": 77, \"11\": 72, \"15\": 88, \"2\": 68, \"0\": 89, \"9\": 48, \"13\": 93, \"12\": 39}, \"7\": {\"6\": 89, \"10\": 80, \"1\": 78, \"3\": 67, \"13\": 89, \"14\": 61, \"11\": 79, \"9\": 43, \"0\": 61, \"4\": 107, \"15\": 105, \"8\": 58, \"5\": 81, \"7\": 103, \"12\": 36, \"2\": 63}, \"4\": {\"12\": 51, \"7\": 83, \"8\": 54, \"10\": 74, \"6\": 85, \"15\": 106, \"3\": 85, \"13\": 76, \"2\": 74, \"11\": 85, \"5\": 94, \"1\": 86, \"0\": 73, \"4\": 77, \"14\": 62, \"9\": 35}, \"10\": {\"0\": 75, \"12\": 37, \"14\": 94, \"3\": 84, \"11\": 87, \"6\": 81, \"2\": 79, \"5\": 70, \"10\": 84, \"9\": 58, \"7\": 66, \"8\": 63, \"13\": 83, \"15\": 79, \"1\": 75, \"4\": 85}, \"11\": {\"8\": 77, \"6\": 61, \"3\": 102, \"0\": 85, \"5\": 83, \"13\": 65, \"4\": 69, \"9\": 87, \"11\": 100, \"10\": 85, \"15\": 41, \"1\": 60, \"12\": 74, \"14\": 69, \"2\": 75, \"7\": 67}, \"12\": {\"2\": 30, \"9\": 183, \"4\": 55, \"0\": 85, \"5\": 58, \"8\": 141, \"12\": 231, \"11\": 84, \"15\": 24, \"3\": 67, \"1\": 73, \"10\": 52, \"7\": 41, \"14\": 32, \"6\": 27, \"13\": 17}, \"0\": {\"2\": 77, \"14\": 74, \"9\": 79, \"11\": 81, \"7\": 71, \"12\": 81, \"10\": 87, \"8\": 59, \"4\": 87, \"3\": 82, \"1\": 70, \"13\": 56, \"6\": 67, \"5\": 66, \"0\": 108, \"15\": 55}, \"14\": {\"13\": 118, \"2\": 103, \"0\": 72, \"15\": 70, \"3\": 76, \"5\": 80, \"7\": 62, \"4\": 74, \"9\": 34, \"8\": 25, \"1\": 58, \"10\": 103, \"14\": 116, \"11\": 85, \"12\": 25, \"6\": 99}, \"8\": {\"7\": 75, \"4\": 69, \"6\": 23, \"12\": 160, \"3\": 66, \"8\": 148, \"1\": 72, \"0\": 60, \"11\": 93, \"9\": 151, \"2\": 42, \"15\": 62, \"10\": 59, \"5\": 63, \"13\": 23, \"14\": 34}, \"13\": {\"13\": 135, \"15\": 105, \"6\": 120, \"14\": 101, \"11\": 69, \"12\": 18, \"2\": 115, \"9\": 16, \"0\": 72, \"5\": 81, \"10\": 78, \"3\": 76, \"8\": 20, \"4\": 71, \"7\": 84, \"1\": 39}, \"6\": {\"10\": 89, \"5\": 80, \"1\": 50, \"15\": 100, \"13\": 137, \"0\": 55, \"2\": 111, \"4\": 87, \"6\": 116, \"7\": 78, \"9\": 19, \"14\": 124, \"3\": 67, \"11\": 57, \"8\": 18, \"12\": 12}, \"1\": {\"10\": 85, \"13\": 65, \"9\": 78, \"1\": 95, \"6\": 70, \"4\": 60, \"5\": 77, \"8\": 91, \"0\": 94, \"11\": 80, \"15\": 63, \"3\": 77, \"2\": 66, \"7\": 94, \"12\": 53, \"14\": 52}, \"3\": {\"6\": 79, \"11\": 93, \"15\": 83, \"12\": 45, \"4\": 80, \"7\": 71, \"0\": 79, \"14\": 89, \"3\": 98, \"5\": 79, \"2\": 73, \"9\": 47, \"13\": 80, \"10\": 79, \"1\": 76, \"8\": 49}, \"9\": {\"6\": 40, \"4\": 60, \"3\": 74, \"9\": 127, \"2\": 48, \"0\": 83, \"13\": 33, \"5\": 81, \"11\": 95, \"8\": 113, \"12\": 187, \"1\": 72, \"10\": 66, \"7\": 47, \"15\": 33, \"14\": 41}, \"2\": {\"7\": 78, \"9\": 37, \"13\": 92, \"3\": 72, \"14\": 98, \"6\": 107, \"15\": 78, \"4\": 82, \"11\": 81, \"5\": 96, \"10\": 89, \"2\": 114, \"8\": 32, \"1\": 64, \"0\": 58, \"12\": 22}}, \"ORACLE.run120\": {\"4\": {\"11\": 48, \"10\": 90, \"5\": 86, \"6\": 91, \"13\": 58, \"14\": 90, \"8\": 75, \"9\": 71, \"7\": 74, \"2\": 62, \"4\": 109, \"3\": 80, \"1\": 78, \"15\": 55, \"0\": 68, \"12\": 65}, \"10\": {\"1\": 69, \"8\": 98, \"2\": 70, \"14\": 85, \"11\": 53, \"4\": 115, \"7\": 80, \"0\": 68, \"12\": 52, \"10\": 104, \"6\": 84, \"3\": 85, \"9\": 70, \"15\": 56, \"13\": 45, \"5\": 66}, \"15\": {\"2\": 68, \"12\": 84, \"10\": 54, \"15\": 94, \"3\": 83, \"4\": 73, \"9\": 87, \"11\": 78, \"7\": 65, \"13\": 79, \"5\": 100, \"1\": 87, \"6\": 60, \"8\": 53, \"14\": 53, \"0\": 82}, \"0\": {\"7\": 78, \"2\": 88, \"11\": 76, \"14\": 65, \"0\": 87, \"3\": 79, \"5\": 82, \"9\": 79, \"1\": 87, \"10\": 60, \"15\": 80, \"4\": 70, \"8\": 62, \"13\": 76, \"12\": 66, \"6\": 65}, \"6\": {\"12\": 65, \"11\": 63, \"0\": 70, \"8\": 100, \"3\": 90, \"6\": 76, \"5\": 57, \"7\": 78, \"10\": 87, \"2\": 62, \"14\": 95, \"9\": 71, \"1\": 57, \"15\": 65, \"13\": 60, \"4\": 104}, \"3\": {\"11\": 70, \"0\": 65, \"15\": 83, \"4\": 80, \"7\": 82, \"5\": 88, \"6\": 81, \"8\": 79, \"14\": 72, \"9\": 70, \"12\": 66, \"2\": 66, \"10\": 83, \"1\": 67, \"3\": 83, \"13\": 65}, \"7\": {\"3\": 64, \"9\": 89, \"10\": 69, \"4\": 90, \"1\": 76, \"12\": 62, \"13\": 88, \"15\": 74, \"11\": 73, \"8\": 81, \"5\": 71, \"0\": 60, \"6\": 74, \"7\": 78, \"2\": 79, \"14\": 72}, \"2\": {\"5\": 96, \"0\": 79, \"12\": 93, \"2\": 55, \"10\": 65, \"13\": 94, \"6\": 62, \"7\": 74, \"14\": 57, \"15\": 94, \"9\": 77, \"1\": 67, \"8\": 78, \"3\": 82, \"11\": 62, \"4\": 65}, \"8\": {\"6\": 79, \"8\": 102, \"10\": 87, \"4\": 87, \"1\": 62, \"5\": 72, \"12\": 88, \"9\": 70, \"13\": 57, \"14\": 78, \"7\": 80, \"0\": 74, \"2\": 68, \"11\": 68, \"15\": 49, \"3\": 79}, \"11\": {\"6\": 76, \"2\": 79, \"4\": 77, \"13\": 94, \"0\": 82, \"3\": 69, \"15\": 85, \"10\": 48, \"14\": 56, \"8\": 79, \"5\": 79, \"11\": 88, \"12\": 74, \"9\": 83, \"1\": 72, \"7\": 59}, \"14\": {\"9\": 70, \"1\": 57, \"3\": 88, \"10\": 104, \"12\": 80, \"8\": 91, \"14\": 102, \"5\": 67, \"0\": 62, \"7\": 65, \"13\": 47, \"11\": 67, \"6\": 92, \"4\": 95, \"2\": 57, \"15\": 56}, \"12\": {\"8\": 86, \"12\": 95, \"6\": 65, \"7\": 82, \"14\": 66, \"0\": 67, \"10\": 69, \"11\": 73, \"3\": 85, \"2\": 65, \"13\": 62, \"1\": 67, \"5\": 75, \"9\": 88, \"15\": 74, \"4\": 81}, \"13\": {\"9\": 92, \"5\": 81, \"2\": 75, \"7\": 75, \"0\": 94, \"12\": 84, \"13\": 69, \"15\": 97, \"1\": 87, \"14\": 52, \"3\": 70, \"4\": 75, \"11\": 88, \"10\": 52, \"6\": 53, \"8\": 56}, \"9\": {\"9\": 76, \"5\": 74, \"12\": 94, \"7\": 83, \"14\": 59, \"0\": 92, \"13\": 53, \"10\": 83, \"3\": 80, \"8\": 81, \"6\": 76, \"11\": 71, \"15\": 86, \"4\": 59, \"1\": 72, \"2\": 61}, \"5\": {\"9\": 85, \"6\": 70, \"7\": 56, \"4\": 81, \"5\": 85, \"1\": 89, \"14\": 71, \"2\": 64, \"12\": 85, \"11\": 66, \"10\": 68, \"3\": 72, \"15\": 74, \"13\": 75, \"0\": 79, \"8\": 80}, \"1\": {\"7\": 72, \"1\": 88, \"6\": 75, \"13\": 86, \"11\": 77, \"0\": 67, \"2\": 78, \"5\": 81, \"12\": 88, \"14\": 65, \"4\": 61, \"8\": 69, \"9\": 71, \"15\": 90, \"10\": 61, \"3\": 71}}, \"ORACLE.run150\": {\"5\": {\"0\": 50, \"7\": 104, \"12\": 42, \"1\": 96, \"15\": 83, \"3\": 54, \"10\": 77, \"13\": 104, \"9\": 63, \"11\": 96, \"5\": 104, \"14\": 56, \"8\": 43, \"4\": 103, \"6\": 92, \"2\": 33}, \"12\": {\"0\": 68, \"7\": 60, \"15\": 62, \"12\": 136, \"1\": 80, \"10\": 43, \"9\": 107, \"14\": 125, \"2\": 72, \"13\": 68, \"11\": 87, \"6\": 79, \"8\": 26, \"5\": 81, \"4\": 82, \"3\": 24}, \"14\": {\"14\": 127, \"1\": 80, \"11\": 89, \"7\": 70, \"8\": 58, \"6\": 73, \"4\": 52, \"9\": 78, \"3\": 38, \"2\": 65, \"5\": 73, \"13\": 83, \"12\": 97, \"10\": 78, \"0\": 74, \"15\": 65}, \"4\": {\"1\": 90, \"5\": 87, \"7\": 91, \"15\": 104, \"14\": 59, \"13\": 104, \"4\": 111, \"12\": 57, \"9\": 100, \"2\": 44, \"8\": 27, \"6\": 97, \"0\": 39, \"3\": 31, \"11\": 107, \"10\": 52}, \"13\": {\"9\": 72, \"8\": 38, \"13\": 85, \"12\": 49, \"15\": 96, \"1\": 83, \"14\": 75, \"10\": 78, \"7\": 91, \"6\": 94, \"5\": 107, \"4\": 99, \"11\": 85, \"3\": 45, \"0\": 54, \"2\": 49}, \"10\": {\"13\": 81, \"0\": 106, \"2\": 98, \"10\": 112, \"11\": 41, \"12\": 51, \"8\": 111, \"4\": 66, \"3\": 104, \"1\": 54, \"5\": 79, \"6\": 74, \"14\": 55, \"15\": 48, \"7\": 69, \"9\": 51}, \"9\": {\"4\": 110, \"12\": 89, \"9\": 129, \"1\": 97, \"14\": 78, \"6\": 89, \"7\": 71, \"3\": 17, \"2\": 47, \"11\": 119, \"10\": 40, \"5\": 86, \"0\": 39, \"13\": 87, \"15\": 83, \"8\": 19}, \"15\": {\"2\": 29, \"14\": 62, \"9\": 95, \"11\": 91, \"13\": 82, \"4\": 126, \"1\": 106, \"6\": 97, \"15\": 113, \"10\": 48, \"12\": 53, \"8\": 21, \"7\": 106, \"5\": 108, \"3\": 32, \"0\": 31}, \"6\": {\"14\": 71, \"7\": 97, \"10\": 63, \"2\": 53, \"1\": 99, \"12\": 55, \"6\": 107, \"8\": 34, \"13\": 92, \"9\": 78, \"0\": 38, \"3\": 36, \"15\": 99, \"5\": 100, \"4\": 86, \"11\": 92}, \"2\": {\"4\": 34, \"11\": 45, \"2\": 145, \"0\": 127, \"7\": 53, \"9\": 46, \"8\": 128, \"1\": 53, \"10\": 88, \"3\": 95, \"12\": 89, \"13\": 64, \"14\": 82, \"6\": 61, \"15\": 42, \"5\": 48}, \"0\": {\"3\": 107, \"14\": 76, \"9\": 46, \"8\": 127, \"10\": 122, \"7\": 50, \"11\": 40, \"2\": 113, \"12\": 62, \"4\": 42, \"0\": 123, \"5\": 81, \"13\": 74, \"1\": 45, \"15\": 39, \"6\": 53}, \"11\": {\"0\": 35, \"2\": 44, \"15\": 98, \"3\": 18, \"8\": 20, \"12\": 87, \"11\": 98, \"1\": 105, \"5\": 90, \"4\": 88, \"10\": 51, \"9\": 124, \"7\": 94, \"14\": 81, \"13\": 71, \"6\": 96}, \"3\": {\"7\": 69, \"8\": 157, \"9\": 24, \"2\": 91, \"5\": 64, \"11\": 24, \"10\": 136, \"13\": 69, \"3\": 198, \"0\": 110, \"6\": 59, \"4\": 43, \"14\": 49, \"15\": 34, \"12\": 32, \"1\": 41}, \"8\": {\"3\": 165, \"7\": 48, \"8\": 163, \"4\": 47, \"2\": 135, \"5\": 53, \"10\": 117, \"14\": 57, \"6\": 41, \"11\": 32, \"13\": 61, \"1\": 34, \"0\": 146, \"12\": 46, \"15\": 33, \"9\": 22}, \"7\": {\"5\": 102, \"10\": 77, \"1\": 82, \"3\": 60, \"4\": 86, \"14\": 64, \"0\": 68, \"13\": 81, \"2\": 47, \"8\": 56, \"12\": 56, \"6\": 88, \"11\": 73, \"15\": 70, \"9\": 72, \"7\": 118}, \"1\": {\"5\": 87, \"9\": 89, \"1\": 97, \"7\": 81, \"4\": 116, \"14\": 78, \"2\": 41, \"15\": 85, \"13\": 91, \"12\": 73, \"10\": 74, \"0\": 50, \"11\": 91, \"3\": 31, \"8\": 30, \"6\": 86}}, \"ORACLE.run126\": {\"7\": {\"8\": 78, \"4\": 105, \"6\": 73, \"14\": 88, \"9\": 91, \"5\": 68, \"2\": 76, \"13\": 59, \"0\": 86, \"15\": 77, \"7\": 97, \"1\": 83, \"3\": 64, \"10\": 70, \"11\": 24, \"12\": 61}, \"6\": {\"5\": 79, \"6\": 90, \"0\": 71, \"2\": 65, \"15\": 83, \"3\": 77, \"13\": 78, \"8\": 94, \"1\": 75, \"10\": 68, \"14\": 70, \"7\": 69, \"12\": 82, \"4\": 77, \"9\": 74, \"11\": 48}, \"14\": {\"10\": 82, \"2\": 72, \"4\": 114, \"15\": 69, \"0\": 99, \"13\": 50, \"3\": 69, \"5\": 60, \"6\": 64, \"8\": 97, \"7\": 86, \"1\": 97, \"14\": 95, \"12\": 67, \"9\": 64, \"11\": 15}, \"15\": {\"9\": 72, \"5\": 79, \"13\": 76, \"14\": 67, \"1\": 68, \"2\": 68, \"0\": 62, \"7\": 82, \"4\": 78, \"15\": 85, \"6\": 87, \"10\": 85, \"8\": 71, \"3\": 83, \"12\": 97, \"11\": 40}, \"5\": {\"10\": 61, \"4\": 63, \"2\": 98, \"9\": 88, \"7\": 71, \"13\": 114, \"12\": 83, \"1\": 61, \"8\": 73, \"14\": 47, \"15\": 77, \"6\": 73, \"0\": 61, \"3\": 81, \"5\": 85, \"11\": 64}, \"10\": {\"1\": 94, \"14\": 93, \"0\": 88, \"7\": 93, \"6\": 81, \"5\": 69, \"4\": 89, \"9\": 66, \"15\": 80, \"8\": 86, \"3\": 79, \"13\": 49, \"10\": 75, \"2\": 70, \"11\": 30, \"12\": 58}, \"4\": {\"10\": 88, \"6\": 74, \"0\": 100, \"14\": 80, \"5\": 54, \"8\": 83, \"15\": 71, \"2\": 80, \"3\": 91, \"13\": 54, \"1\": 97, \"11\": 21, \"4\": 95, \"12\": 54, \"7\": 94, \"9\": 64}, \"11\": {\"11\": 286, \"15\": 82, \"0\": 38, \"12\": 139, \"1\": 28, \"9\": 53, \"14\": 33, \"8\": 63, \"13\": 117, \"5\": 100, \"2\": 42, \"3\": 46, \"7\": 36, \"6\": 64, \"4\": 33, \"10\": 40}, \"13\": {\"6\": 79, \"15\": 74, \"1\": 63, \"9\": 77, \"7\": 74, \"3\": 67, \"8\": 85, \"12\": 81, \"5\": 89, \"11\": 98, \"14\": 57, \"13\": 104, \"2\": 68, \"0\": 55, \"4\": 54, \"10\": 75}, \"2\": {\"10\": 89, \"2\": 78, \"15\": 67, \"14\": 71, \"7\": 89, \"3\": 84, \"11\": 31, \"4\": 81, \"8\": 86, \"9\": 82, \"1\": 95, \"5\": 46, \"12\": 73, \"13\": 76, \"0\": 83, \"6\": 69}, \"0\": {\"14\": 93, \"11\": 26, \"7\": 87, \"12\": 56, \"8\": 86, \"13\": 61, \"10\": 78, \"5\": 62, \"1\": 91, \"0\": 91, \"6\": 72, \"9\": 81, \"4\": 95, \"2\": 88, \"15\": 53, \"3\": 80}, \"12\": {\"1\": 55, \"11\": 104, \"6\": 87, \"3\": 50, \"2\": 63, \"9\": 83, \"0\": 69, \"7\": 55, \"8\": 84, \"5\": 86, \"4\": 59, \"15\": 85, \"12\": 120, \"13\": 76, \"14\": 66, \"10\": 58}, \"3\": {\"11\": 25, \"10\": 77, \"1\": 90, \"0\": 85, \"3\": 96, \"4\": 99, \"15\": 70, \"2\": 89, \"5\": 58, \"12\": 65, \"8\": 74, \"13\": 67, \"7\": 92, \"14\": 79, \"9\": 67, \"6\": 67}, \"9\": {\"8\": 78, \"15\": 111, \"9\": 84, \"14\": 61, \"2\": 90, \"6\": 75, \"5\": 72, \"0\": 83, \"3\": 73, \"10\": 61, \"1\": 72, \"4\": 67, \"11\": 47, \"12\": 76, \"13\": 79, \"7\": 71}, \"8\": {\"13\": 57, \"1\": 95, \"5\": 75, \"7\": 75, \"15\": 69, \"4\": 78, \"14\": 79, \"0\": 96, \"2\": 74, \"8\": 81, \"10\": 80, \"12\": 71, \"3\": 89, \"9\": 67, \"6\": 77, \"11\": 37}, \"1\": {\"2\": 75, \"14\": 90, \"9\": 67, \"0\": 94, \"4\": 107, \"1\": 117, \"8\": 76, \"6\": 64, \"10\": 96, \"15\": 74, \"11\": 20, \"7\": 72, \"5\": 58, \"3\": 82, \"13\": 55, \"12\": 53}}, \"ORACLE.run132\": {\"7\": {\"8\": 94, \"13\": 93, \"5\": 108, \"0\": 130, \"4\": 123, \"2\": 113, \"14\": 109, \"3\": 68, \"9\": 68, \"7\": 108, \"10\": 12, \"12\": 35, \"1\": 4, \"11\": 104, \"15\": 22, \"6\": 9}, \"2\": {\"9\": 111, \"0\": 94, \"4\": 129, \"15\": 21, \"5\": 87, \"14\": 87, \"11\": 91, \"7\": 108, \"2\": 120, \"12\": 75, \"8\": 86, \"13\": 78, \"3\": 56, \"10\": 27, \"1\": 11, \"6\": 19}, \"5\": {\"7\": 113, \"14\": 88, \"9\": 47, \"4\": 102, \"11\": 104, \"0\": 105, \"15\": 60, \"13\": 92, \"8\": 124, \"5\": 114, \"2\": 89, \"3\": 98, \"12\": 43, \"10\": 17, \"6\": 2, \"1\": 2}, \"6\": {\"10\": 203, \"1\": 298, \"12\": 120, \"6\": 354, \"9\": 101, \"4\": 17, \"7\": 16, \"8\": 7, \"3\": 2, \"11\": 16, \"14\": 9, \"13\": 10, \"2\": 25, \"0\": 14, \"5\": 7, \"15\": 1}, \"13\": {\"8\": 86, \"0\": 117, \"2\": 88, \"7\": 103, \"13\": 115, \"4\": 115, \"14\": 89, \"6\": 3, \"11\": 90, \"9\": 59, \"5\": 110, \"12\": 38, \"3\": 117, \"15\": 61, \"10\": 9}, \"4\": {\"11\": 103, \"12\": 69, \"13\": 79, \"8\": 88, \"15\": 34, \"7\": 112, \"4\": 119, \"2\": 102, \"9\": 76, \"14\": 107, \"5\": 96, \"3\": 76, \"0\": 100, \"1\": 2, \"10\": 24, \"6\": 13}, \"3\": {\"15\": 147, \"11\": 101, \"5\": 107, \"3\": 170, \"13\": 105, \"8\": 119, \"7\": 75, \"0\": 92, \"4\": 88, \"2\": 47, \"10\": 5, \"14\": 84, \"9\": 45, \"12\": 15}, \"0\": {\"14\": 93, \"5\": 104, \"11\": 118, \"4\": 110, \"3\": 77, \"12\": 49, \"7\": 109, \"15\": 47, \"8\": 96, \"0\": 97, \"13\": 90, \"10\": 15, \"2\": 115, \"9\": 71, \"1\": 5, \"6\": 4}, \"9\": {\"6\": 80, \"5\": 64, \"14\": 74, \"4\": 84, \"9\": 175, \"1\": 51, \"10\": 94, \"12\": 148, \"0\": 61, \"8\": 48, \"13\": 67, \"7\": 80, \"2\": 102, \"11\": 45, \"15\": 5, \"3\": 22}, \"12\": {\"12\": 176, \"6\": 98, \"13\": 47, \"2\": 80, \"7\": 52, \"4\": 70, \"8\": 49, \"10\": 154, \"9\": 170, \"0\": 60, \"15\": 7, \"5\": 51, \"1\": 66, \"3\": 24, \"14\": 49, \"11\": 47}, \"8\": {\"12\": 30, \"15\": 80, \"5\": 121, \"7\": 95, \"4\": 85, \"8\": 121, \"3\": 151, \"13\": 110, \"0\": 87, \"9\": 36, \"11\": 97, \"14\": 111, \"2\": 65, \"10\": 7, \"6\": 2, \"1\": 2}, \"14\": {\"3\": 75, \"14\": 111, \"11\": 132, \"7\": 121, \"2\": 103, \"0\": 120, \"5\": 93, \"8\": 98, \"4\": 102, \"15\": 48, \"10\": 14, \"12\": 41, \"9\": 62, \"13\": 70, \"1\": 5, \"6\": 5}, \"15\": {\"3\": 167, \"15\": 498, \"4\": 37, \"0\": 48, \"13\": 92, \"5\": 69, \"14\": 43, \"11\": 51, \"7\": 32, \"10\": 9, \"8\": 116, \"12\": 12, \"9\": 8, \"2\": 18}, \"11\": {\"0\": 107, \"13\": 83, \"8\": 88, \"11\": 129, \"12\": 32, \"7\": 127, \"2\": 118, \"14\": 113, \"5\": 87, \"3\": 97, \"4\": 107, \"15\": 38, \"9\": 56, \"10\": 11, \"1\": 3, \"6\": 4}, \"10\": {\"6\": 172, \"1\": 222, \"10\": 272, \"12\": 178, \"2\": 30, \"9\": 112, \"14\": 24, \"8\": 20, \"7\": 29, \"0\": 22, \"13\": 29, \"3\": 14, \"15\": 10, \"11\": 21, \"4\": 26, \"5\": 19}, \"1\": {\"1\": 401, \"10\": 250, \"14\": 11, \"6\": 261, \"12\": 126, \"8\": 7, \"9\": 58, \"11\": 12, \"2\": 23, \"7\": 7, \"13\": 6, \"3\": 8, \"4\": 10, \"0\": 10, \"15\": 5, \"5\": 5}}, \"ORACLE.run144\": {\"11\": {\"11\": 232, \"1\": 73, \"6\": 172, \"13\": 131, \"7\": 96, \"10\": 118, \"4\": 29, \"12\": 61, \"14\": 18, \"9\": 90, \"2\": 109, \"5\": 6, \"0\": 10, \"3\": 42, \"15\": 8, \"8\": 5}, \"7\": {\"4\": 54, \"7\": 107, \"1\": 96, \"13\": 111, \"9\": 113, \"6\": 95, \"2\": 107, \"12\": 97, \"10\": 119, \"3\": 91, \"11\": 109, \"14\": 45, \"15\": 19, \"0\": 7, \"5\": 27, \"8\": 3}, \"6\": {\"7\": 112, \"1\": 59, \"2\": 120, \"5\": 19, \"12\": 61, \"13\": 145, \"6\": 162, \"4\": 51, \"9\": 111, \"11\": 176, \"10\": 102, \"3\": 34, \"14\": 35, \"8\": 1, \"0\": 7, \"15\": 5}, \"12\": {\"4\": 74, \"3\": 120, \"2\": 104, \"14\": 56, \"0\": 24, \"5\": 30, \"13\": 85, \"1\": 124, \"10\": 102, \"15\": 27, \"7\": 94, \"9\": 94, \"11\": 76, \"6\": 68, \"12\": 117, \"8\": 5}, \"4\": {\"9\": 64, \"3\": 96, \"5\": 116, \"10\": 36, \"4\": 165, \"14\": 159, \"0\": 86, \"12\": 47, \"13\": 42, \"2\": 29, \"15\": 118, \"7\": 66, \"1\": 65, \"6\": 28, \"8\": 52, \"11\": 31}, \"13\": {\"14\": 49, \"6\": 129, \"13\": 127, \"9\": 114, \"3\": 67, \"10\": 98, \"5\": 30, \"7\": 111, \"11\": 119, \"2\": 107, \"12\": 80, \"0\": 12, \"4\": 59, \"1\": 83, \"8\": 4, \"15\": 11}, \"8\": {\"15\": 190, \"8\": 296, \"14\": 92, \"0\": 248, \"5\": 166, \"3\": 52, \"11\": 9, \"7\": 9, \"6\": 4, \"4\": 71, \"13\": 7, \"10\": 5, \"9\": 18, \"12\": 14, \"1\": 12, \"2\": 7}, \"5\": {\"5\": 173, \"9\": 42, \"14\": 142, \"15\": 159, \"4\": 131, \"12\": 36, \"0\": 149, \"13\": 42, \"3\": 67, \"8\": 116, \"1\": 43, \"10\": 29, \"7\": 31, \"11\": 12, \"2\": 17, \"6\": 11}, \"14\": {\"14\": 149, \"1\": 61, \"8\": 76, \"5\": 134, \"12\": 56, \"6\": 35, \"3\": 105, \"9\": 57, \"4\": 120, \"13\": 55, \"0\": 76, \"15\": 130, \"7\": 57, \"2\": 32, \"11\": 21, \"10\": 36}, \"3\": {\"14\": 80, \"4\": 95, \"5\": 66, \"10\": 75, \"8\": 27, \"11\": 53, \"1\": 121, \"2\": 69, \"6\": 49, \"12\": 99, \"9\": 76, \"7\": 66, \"3\": 144, \"13\": 62, \"0\": 47, \"15\": 71}, \"10\": {\"2\": 147, \"11\": 127, \"14\": 31, \"13\": 106, \"7\": 108, \"12\": 99, \"1\": 101, \"6\": 111, \"9\": 91, \"3\": 60, \"10\": 126, \"4\": 36, \"5\": 22, \"15\": 19, \"0\": 11, \"8\": 5}, \"1\": {\"9\": 96, \"1\": 109, \"3\": 110, \"13\": 94, \"2\": 93, \"10\": 107, \"11\": 75, \"14\": 52, \"6\": 68, \"12\": 114, \"7\": 101, \"4\": 83, \"5\": 47, \"8\": 10, \"15\": 24, \"0\": 17}, \"2\": {\"4\": 55, \"1\": 96, \"9\": 118, \"10\": 113, \"11\": 105, \"12\": 101, \"2\": 114, \"15\": 12, \"3\": 74, \"13\": 126, \"7\": 96, \"6\": 111, \"5\": 24, \"8\": 3, \"14\": 42, \"0\": 10}, \"15\": {\"0\": 198, \"3\": 75, \"5\": 151, \"8\": 167, \"15\": 194, \"2\": 12, \"14\": 128, \"10\": 19, \"4\": 99, \"13\": 21, \"1\": 35, \"6\": 7, \"7\": 24, \"12\": 32, \"9\": 30, \"11\": 8}, \"9\": {\"5\": 28, \"11\": 87, \"1\": 101, \"13\": 123, \"4\": 75, \"12\": 75, \"6\": 83, \"2\": 105, \"15\": 28, \"7\": 131, \"3\": 71, \"14\": 54, \"10\": 97, \"9\": 120, \"0\": 13, \"8\": 9}, \"0\": {\"4\": 114, \"13\": 29, \"8\": 210, \"0\": 194, \"14\": 117, \"12\": 21, \"5\": 173, \"15\": 188, \"9\": 25, \"3\": 45, \"1\": 28, \"11\": 11, \"2\": 12, \"7\": 20, \"10\": 10, \"6\": 3}}, \"ORACLE.run18\": {\"10\": {\"14\": 102, \"11\": 55, \"15\": 44, \"1\": 76, \"12\": 57, \"10\": 107, \"9\": 36, \"7\": 83, \"3\": 44, \"6\": 80, \"8\": 80, \"0\": 96, \"4\": 84, \"2\": 68, \"13\": 90, \"5\": 98}, \"6\": {\"8\": 70, \"11\": 78, \"0\": 70, \"12\": 74, \"5\": 72, \"13\": 84, \"4\": 84, \"7\": 81, \"6\": 83, \"2\": 82, \"3\": 79, \"1\": 93, \"15\": 66, \"14\": 88, \"10\": 77, \"9\": 19}, \"13\": {\"13\": 80, \"10\": 105, \"2\": 68, \"6\": 73, \"14\": 83, \"7\": 85, \"1\": 82, \"8\": 70, \"4\": 84, \"11\": 73, \"3\": 67, \"0\": 77, \"12\": 53, \"15\": 80, \"9\": 37, \"5\": 83}, \"3\": {\"0\": 67, \"14\": 73, \"11\": 61, \"10\": 72, \"8\": 101, \"7\": 77, \"6\": 80, \"3\": 106, \"4\": 73, \"2\": 114, \"13\": 64, \"12\": 113, \"5\": 40, \"9\": 7, \"1\": 59, \"15\": 93}, \"9\": {\"9\": 489, \"10\": 77, \"5\": 103, \"13\": 76, \"11\": 39, \"4\": 63, \"14\": 79, \"0\": 81, \"6\": 45, \"8\": 8, \"1\": 34, \"7\": 49, \"3\": 10, \"12\": 6, \"15\": 9, \"2\": 32}, \"1\": {\"15\": 81, \"3\": 76, \"14\": 90, \"2\": 61, \"11\": 103, \"12\": 88, \"4\": 76, \"0\": 79, \"1\": 102, \"8\": 77, \"5\": 61, \"7\": 73, \"10\": 81, \"6\": 64, \"13\": 71, \"9\": 17}, \"5\": {\"14\": 89, \"10\": 79, \"7\": 80, \"5\": 89, \"9\": 49, \"3\": 71, \"13\": 80, \"2\": 67, \"8\": 65, \"6\": 89, \"4\": 78, \"12\": 58, \"0\": 86, \"11\": 74, \"15\": 57, \"1\": 89}, \"11\": {\"8\": 91, \"4\": 82, \"3\": 77, \"1\": 90, \"11\": 96, \"12\": 87, \"2\": 65, \"6\": 85, \"10\": 69, \"5\": 69, \"15\": 95, \"7\": 68, \"0\": 69, \"13\": 66, \"14\": 79, \"9\": 12}, \"4\": {\"15\": 70, \"0\": 79, \"13\": 76, \"8\": 64, \"10\": 84, \"1\": 83, \"4\": 99, \"11\": 76, \"9\": 26, \"2\": 82, \"7\": 99, \"3\": 70, \"6\": 78, \"5\": 72, \"14\": 79, \"12\": 63}, \"14\": {\"3\": 82, \"10\": 97, \"9\": 34, \"6\": 85, \"15\": 72, \"2\": 76, \"1\": 82, \"7\": 66, \"11\": 62, \"14\": 77, \"5\": 87, \"13\": 79, \"4\": 86, \"0\": 79, \"12\": 63, \"8\": 73}, \"12\": {\"3\": 103, \"5\": 52, \"14\": 53, \"8\": 111, \"7\": 74, \"4\": 68, \"2\": 88, \"11\": 89, \"0\": 53, \"1\": 76, \"12\": 135, \"13\": 62, \"6\": 67, \"15\": 96, \"10\": 71, \"9\": 2}, \"7\": {\"8\": 67, \"6\": 104, \"7\": 74, \"13\": 82, \"3\": 69, \"15\": 72, \"2\": 95, \"4\": 98, \"10\": 67, \"0\": 73, \"12\": 76, \"5\": 80, \"1\": 68, \"14\": 85, \"11\": 71, \"9\": 19}, \"0\": {\"0\": 95, \"15\": 56, \"1\": 76, \"7\": 92, \"14\": 75, \"6\": 87, \"12\": 51, \"10\": 85, \"5\": 85, \"2\": 92, \"3\": 67, \"8\": 58, \"13\": 86, \"11\": 75, \"4\": 88, \"9\": 32}, \"15\": {\"0\": 62, \"8\": 101, \"3\": 90, \"7\": 75, \"2\": 73, \"13\": 68, \"1\": 72, \"14\": 83, \"4\": 81, \"15\": 90, \"12\": 112, \"6\": 64, \"5\": 59, \"11\": 96, \"10\": 63, \"9\": 11}, \"2\": {\"7\": 88, \"3\": 105, \"13\": 67, \"15\": 82, \"2\": 105, \"11\": 79, \"5\": 58, \"1\": 65, \"14\": 74, \"0\": 76, \"9\": 12, \"4\": 74, \"6\": 70, \"12\": 89, \"8\": 85, \"10\": 71}, \"8\": {\"11\": 102, \"14\": 67, \"7\": 67, \"2\": 76, \"6\": 71, \"8\": 102, \"5\": 51, \"12\": 99, \"13\": 65, \"4\": 73, \"3\": 115, \"15\": 100, \"1\": 84, \"10\": 67, \"0\": 58, \"9\": 3}}, \"ORACLE.run138\": {\"4\": {\"12\": 282, \"14\": 67, \"4\": 429, \"0\": 45, \"7\": 98, \"10\": 56, \"11\": 90, \"8\": 35, \"15\": 13, \"6\": 12, \"5\": 27, \"13\": 11, \"2\": 7, \"3\": 21, \"1\": 1, \"9\": 6}, \"7\": {\"13\": 52, \"10\": 97, \"5\": 71, \"4\": 84, \"12\": 73, \"9\": 54, \"14\": 86, \"0\": 99, \"7\": 149, \"11\": 61, \"15\": 61, \"8\": 90, \"1\": 27, \"6\": 68, \"3\": 96, \"2\": 32}, \"12\": {\"5\": 45, \"0\": 82, \"7\": 96, \"4\": 223, \"10\": 89, \"11\": 110, \"12\": 229, \"2\": 24, \"13\": 12, \"1\": 17, \"15\": 34, \"14\": 107, \"8\": 58, \"3\": 41, \"6\": 21, \"9\": 12}, \"10\": {\"14\": 112, \"10\": 101, \"2\": 62, \"11\": 102, \"12\": 89, \"3\": 68, \"9\": 44, \"7\": 93, \"15\": 68, \"1\": 64, \"8\": 84, \"4\": 39, \"5\": 61, \"0\": 86, \"13\": 72, \"6\": 55}, \"0\": {\"10\": 82, \"3\": 99, \"7\": 121, \"8\": 96, \"0\": 107, \"4\": 35, \"15\": 67, \"13\": 70, \"1\": 58, \"12\": 48, \"6\": 73, \"14\": 89, \"5\": 99, \"11\": 45, \"2\": 42, \"9\": 69}, \"1\": {\"10\": 59, \"3\": 61, \"2\": 118, \"0\": 50, \"1\": 166, \"9\": 87, \"15\": 114, \"6\": 107, \"13\": 132, \"5\": 79, \"14\": 54, \"8\": 73, \"11\": 42, \"7\": 39, \"12\": 16, \"4\": 3}, \"5\": {\"15\": 88, \"0\": 101, \"7\": 79, \"9\": 87, \"3\": 77, \"12\": 32, \"10\": 85, \"5\": 108, \"4\": 10, \"2\": 67, \"6\": 95, \"14\": 71, \"11\": 54, \"13\": 76, \"1\": 67, \"8\": 103}, \"15\": {\"10\": 81, \"14\": 63, \"15\": 96, \"6\": 101, \"5\": 96, \"3\": 50, \"13\": 104, \"1\": 125, \"9\": 68, \"12\": 20, \"2\": 107, \"8\": 96, \"7\": 51, \"11\": 67, \"0\": 66, \"4\": 9}, \"9\": {\"13\": 92, \"8\": 87, \"9\": 141, \"15\": 101, \"3\": 105, \"1\": 88, \"10\": 64, \"7\": 72, \"6\": 118, \"0\": 73, \"14\": 43, \"11\": 22, \"5\": 105, \"2\": 64, \"4\": 7, \"12\": 18}, \"11\": {\"10\": 116, \"11\": 202, \"9\": 23, \"7\": 61, \"0\": 58, \"15\": 62, \"6\": 36, \"5\": 69, \"8\": 59, \"2\": 77, \"12\": 112, \"14\": 150, \"4\": 75, \"1\": 34, \"3\": 24, \"13\": 42}, \"14\": {\"0\": 64, \"11\": 148, \"13\": 60, \"14\": 125, \"12\": 91, \"8\": 86, \"6\": 49, \"2\": 73, \"4\": 46, \"10\": 118, \"1\": 46, \"3\": 38, \"5\": 64, \"9\": 39, \"15\": 74, \"7\": 79}, \"6\": {\"8\": 99, \"10\": 60, \"2\": 92, \"14\": 50, \"1\": 109, \"4\": 8, \"6\": 106, \"13\": 99, \"0\": 80, \"9\": 110, \"3\": 78, \"12\": 17, \"11\": 29, \"15\": 98, \"7\": 64, \"5\": 101}, \"8\": {\"5\": 100, \"6\": 72, \"3\": 75, \"14\": 90, \"8\": 108, \"13\": 69, \"1\": 59, \"2\": 58, \"7\": 80, \"9\": 77, \"10\": 101, \"12\": 53, \"15\": 92, \"11\": 52, \"0\": 96, \"4\": 18}, \"3\": {\"8\": 96, \"5\": 109, \"15\": 78, \"9\": 115, \"3\": 168, \"7\": 101, \"2\": 34, \"13\": 64, \"0\": 106, \"10\": 61, \"14\": 35, \"11\": 30, \"1\": 58, \"6\": 90, \"12\": 30, \"4\": 25}, \"2\": {\"6\": 80, \"9\": 61, \"7\": 40, \"8\": 83, \"15\": 114, \"5\": 70, \"10\": 71, \"11\": 82, \"0\": 57, \"13\": 104, \"4\": 8, \"2\": 155, \"1\": 109, \"14\": 108, \"12\": 22, \"3\": 36}, \"13\": {\"10\": 78, \"15\": 120, \"7\": 53, \"9\": 87, \"3\": 67, \"0\": 58, \"14\": 73, \"8\": 69, \"6\": 88, \"11\": 50, \"1\": 111, \"2\": 127, \"5\": 79, \"12\": 18, \"13\": 113, \"4\": 9}}}, \"per_domain_accuracy\": {\"Wisig_3\": {\"accuracy\": 0.9686135371179039, \"source?\": true}, \"Wisig_4\": {\"accuracy\": 0.9541580578512396, \"source?\": true}, \"Wisig_2\": {\"accuracy\": 0.9554324894514767, \"source?\": true}, \"Wisig_1\": {\"accuracy\": 0.9711134453781513, \"source?\": true}, \"ORACLE.run114\": {\"accuracy\": 0.0975, \"source?\": false}, \"ORACLE.run120\": {\"accuracy\": 0.07244791666666667, \"source?\": false}, \"ORACLE.run150\": {\"accuracy\": 0.10239583333333334, \"source?\": false}, \"ORACLE.run126\": {\"accuracy\": 0.08744791666666667, \"source?\": false}, \"ORACLE.run132\": {\"accuracy\": 0.16041666666666668, \"source?\": false}, \"ORACLE.run144\": {\"accuracy\": 0.13171875, \"source?\": false}, \"ORACLE.run18\": {\"accuracy\": 0.10046875, \"source?\": false}, \"ORACLE.run138\": {\"accuracy\": 0.13036458333333334, \"source?\": false}}}, \"history\": {\"epoch_indices\": [1, 2, 3, 4, 5], \"train_label_loss\": [0.1911672520889416, 0.11943343371885903, 0.09851557367442045, 0.08248393311937152, 0.06855302707459651], \"source_val_label_loss\": [0.16686341166496277, 0.12332770228385925, 0.11707190424203873, 0.11658059060573578, 0.11877402663230896], \"target_val_label_loss\": [2.725400447845459, 2.7504074573516846, 2.7383267879486084, 2.777346134185791, 2.8714938163757324], \"source_val_acc_label\": [0.9622423361522199, 0.9709963002114165, 0.9725488900634249, 0.9723837209302325, 0.9739693446088795], \"target_val_acc_label\": [0.11034505208333334, 0.10247395833333334, 0.10781901041666667, 0.10225260416666666, 0.09393880208333333]}, \"dataset_metrics\": {\"source\": {\"train\": {\"n_unique_x\": 189029, \"n_unique_y\": 130, \"n_batch/episode\": 6842}, \"val\": {\"n_unique_x\": 40049, \"n_unique_y\": 130, \"n_batch/episode\": 946}, \"test\": {\"n_unique_x\": 40794, \"n_unique_y\": 130, \"n_batch/episode\": 966}}, \"target\": {\"train\": {\"n_unique_x\": 896000, \"n_unique_y\": 16, \"n_batch/episode\": 33600}, \"val\": {\"n_unique_x\": 192000, \"n_unique_y\": 16, \"n_batch/episode\": 4800}, \"test\": {\"n_unique_x\": 192000, \"n_unique_y\": 16, \"n_batch/episode\": 4800}}}}'"
      ]
     },
     "execution_count": 29,
     "metadata": {},
     "output_type": "execute_result"
    }
   ],
   "source": [
    "json.dumps(experiment)"
   ]
  }
 ],
 "metadata": {
  "celltoolbar": "Tags",
  "kernelspec": {
   "display_name": "Python 3 (ipykernel)",
   "language": "python",
   "name": "python3"
  },
  "language_info": {
   "codemirror_mode": {
    "name": "ipython",
    "version": 3
   },
   "file_extension": ".py",
   "mimetype": "text/x-python",
   "name": "python",
   "nbconvert_exporter": "python",
   "pygments_lexer": "ipython3",
   "version": "3.8.12"
  },
  "papermill": {
   "default_parameters": {},
   "duration": 2198.968314,
   "end_time": "2022-03-23T16:48:26.850628",
   "environment_variables": {},
   "exception": null,
   "input_path": "/root/csc500-main/csc500-notebooks/templates/tl_ptn_template.ipynb",
   "output_path": "trial.ipynb",
   "parameters": {
    "parameters": {
     "BEST_MODEL_PATH": "./best_model.pth",
     "NUM_LOGS_PER_EPOCH": 10,
     "criteria_for_best": "target_accuracy",
     "dataset_seed": 420,
     "datasets": [
      {
       "domain_prefix": "Wisig_",
       "domains": [
        1,
        2,
        3,
        4
       ],
       "episode_transforms": [],
       "labels": [
        "1-10",
        "1-12",
        "1-14",
        "1-16",
        "1-18",
        "1-19",
        "1-8",
        "10-11",
        "10-17",
        "10-4",
        "10-7",
        "11-1",
        "11-10",
        "11-19",
        "11-20",
        "11-4",
        "11-7",
        "12-19",
        "12-20",
        "12-7",
        "13-14",
        "13-18",
        "13-19",
        "13-20",
        "13-3",
        "13-7",
        "14-10",
        "14-11",
        "14-12",
        "14-13",
        "14-14",
        "14-19",
        "14-20",
        "14-7",
        "14-8",
        "14-9",
        "15-1",
        "15-19",
        "15-6",
        "16-1",
        "16-16",
        "16-19",
        "16-20",
        "17-10",
        "17-11",
        "18-1",
        "18-10",
        "18-11",
        "18-12",
        "18-13",
        "18-14",
        "18-15",
        "18-16",
        "18-17",
        "18-19",
        "18-2",
        "18-20",
        "18-4",
        "18-5",
        "18-7",
        "18-8",
        "18-9",
        "19-1",
        "19-10",
        "19-11",
        "19-12",
        "19-13",
        "19-14",
        "19-15",
        "19-19",
        "19-2",
        "19-20",
        "19-3",
        "19-4",
        "19-6",
        "19-7",
        "19-8",
        "19-9",
        "2-1",
        "2-13",
        "2-15",
        "2-3",
        "2-4",
        "2-5",
        "2-6",
        "2-7",
        "2-8",
        "20-1",
        "20-12",
        "20-14",
        "20-15",
        "20-16",
        "20-18",
        "20-19",
        "20-20",
        "20-3",
        "20-4",
        "20-5",
        "20-7",
        "20-8",
        "3-1",
        "3-13",
        "3-18",
        "3-2",
        "3-8",
        "4-1",
        "4-10",
        "4-11",
        "5-1",
        "5-5",
        "6-1",
        "6-15",
        "6-6",
        "7-10",
        "7-11",
        "7-12",
        "7-13",
        "7-14",
        "7-7",
        "7-8",
        "7-9",
        "8-1",
        "8-13",
        "8-14",
        "8-18",
        "8-20",
        "8-3",
        "8-8",
        "9-1",
        "9-7"
       ],
       "num_examples_per_domain_per_label": -1,
       "pickle_path": "/root/csc500-main/datasets/wisig.node3-19.stratified_ds.2022A.pkl",
       "source_or_target_dataset": "source",
       "x_transforms": [
        "unit_mag"
       ]
      },
      {
       "domain_prefix": "ORACLE.run1",
       "domains": [
        32,
        38,
        8,
        44,
        14,
        50,
        20,
        26
       ],
       "episode_transforms": [],
       "labels": [
        "3123D52",
        "3123D65",
        "3123D79",
        "3123D80",
        "3123D54",
        "3123D70",
        "3123D7B",
        "3123D89",
        "3123D58",
        "3123D76",
        "3123D7D",
        "3123EFE",
        "3123D64",
        "3123D78",
        "3123D7E",
        "3124E4A"
       ],
       "num_examples_per_domain_per_label": 10000,
       "pickle_path": "/root/csc500-main/datasets/oracle.Run1_10kExamples_stratified_ds.2022A.pkl",
       "source_or_target_dataset": "target",
       "x_transforms": [
        "unit_mag"
       ]
      }
     ],
     "device": "cuda",
     "experiment_name": "tl_1v2:wisig-oracle.run1",
     "lr": 0.0001,
     "n_epoch": 50,
     "n_query": 2,
     "n_shot": 3,
     "n_way": 16,
     "patience": 3,
     "seed": 420,
     "test_k_factor": 2,
     "torch_default_dtype": "torch.float32",
     "train_k_factor": 3,
     "val_k_factor": 2,
     "x_net": [
      {
       "class": "nnReshape",
       "kargs": {
        "shape": [
         -1,
         1,
         2,
         256
        ]
       }
      },
      {
       "class": "Conv2d",
       "kargs": {
        "bias": false,
        "in_channels": 1,
        "kernel_size": [
         1,
         7
        ],
        "out_channels": 256,
        "padding": [
         0,
         3
        ]
       }
      },
      {
       "class": "ReLU",
       "kargs": {
        "inplace": true
       }
      },
      {
       "class": "BatchNorm2d",
       "kargs": {
        "num_features": 256
       }
      },
      {
       "class": "Conv2d",
       "kargs": {
        "bias": true,
        "in_channels": 256,
        "kernel_size": [
         2,
         7
        ],
        "out_channels": 80,
        "padding": [
         0,
         3
        ]
       }
      },
      {
       "class": "ReLU",
       "kargs": {
        "inplace": true
       }
      },
      {
       "class": "BatchNorm2d",
       "kargs": {
        "num_features": 80
       }
      },
      {
       "class": "Flatten",
       "kargs": {}
      },
      {
       "class": "Linear",
       "kargs": {
        "in_features": 20480,
        "out_features": 256
       }
      },
      {
       "class": "ReLU",
       "kargs": {
        "inplace": true
       }
      },
      {
       "class": "BatchNorm1d",
       "kargs": {
        "num_features": 256
       }
      },
      {
       "class": "Linear",
       "kargs": {
        "in_features": 256,
        "out_features": 256
       }
      }
     ]
    }
   },
   "start_time": "2022-03-23T16:11:47.882314",
   "version": "2.3.4"
  }
 },
 "nbformat": 4,
 "nbformat_minor": 5
}