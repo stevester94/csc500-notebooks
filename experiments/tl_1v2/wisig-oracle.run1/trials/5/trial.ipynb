{
 "cells": [
  {
   "cell_type": "markdown",
   "id": "9fea5f46",
   "metadata": {
    "papermill": {
     "duration": 0.03048,
     "end_time": "2022-03-23T12:24:23.330385",
     "exception": false,
     "start_time": "2022-03-23T12:24:23.299905",
     "status": "completed"
    },
    "tags": []
   },
   "source": [
    "# Transfer Learning Template"
   ]
  },
  {
   "cell_type": "code",
   "execution_count": 1,
   "id": "0902182a",
   "metadata": {
    "execution": {
     "iopub.execute_input": "2022-03-23T12:24:23.396065Z",
     "iopub.status.busy": "2022-03-23T12:24:23.384032Z",
     "iopub.status.idle": "2022-03-23T12:24:25.225441Z",
     "shell.execute_reply": "2022-03-23T12:24:25.224508Z"
    },
    "papermill": {
     "duration": 1.86862,
     "end_time": "2022-03-23T12:24:25.225644",
     "exception": false,
     "start_time": "2022-03-23T12:24:23.357024",
     "status": "completed"
    },
    "tags": []
   },
   "outputs": [],
   "source": [
    "%load_ext autoreload\n",
    "%autoreload 2\n",
    "%matplotlib inline\n",
    "\n",
    "    \n",
    "import os, json, sys, time, random\n",
    "import numpy as np\n",
    "import torch\n",
    "from torch.optim import Adam\n",
    "from  easydict import EasyDict\n",
    "import matplotlib.pyplot as plt\n",
    "\n",
    "from steves_models.steves_ptn import Steves_Prototypical_Network\n",
    "\n",
    "from steves_utils.lazy_iterable_wrapper import Lazy_Iterable_Wrapper\n",
    "from steves_utils.iterable_aggregator import Iterable_Aggregator\n",
    "from steves_utils.ptn_train_eval_test_jig import  PTN_Train_Eval_Test_Jig\n",
    "from steves_utils.torch_sequential_builder import build_sequential\n",
    "from steves_utils.torch_utils import get_dataset_metrics, ptn_confusion_by_domain_over_dataloader\n",
    "from steves_utils.utils_v2 import (per_domain_accuracy_from_confusion, get_datasets_base_path)\n",
    "from steves_utils.PTN.utils import independent_accuracy_assesment\n",
    "\n",
    "from torch.utils.data import DataLoader\n",
    "\n",
    "from steves_utils.stratified_dataset.episodic_accessor import Episodic_Accessor_Factory\n",
    "\n",
    "from steves_utils.ptn_do_report import (\n",
    "    get_loss_curve,\n",
    "    get_results_table,\n",
    "    get_parameters_table,\n",
    "    get_domain_accuracies,\n",
    ")\n",
    "\n",
    "from steves_utils.transforms import get_chained_transform"
   ]
  },
  {
   "cell_type": "markdown",
   "id": "41c840b4",
   "metadata": {
    "papermill": {
     "duration": 0.019411,
     "end_time": "2022-03-23T12:24:25.268809",
     "exception": false,
     "start_time": "2022-03-23T12:24:25.249398",
     "status": "completed"
    },
    "tags": []
   },
   "source": [
    "# Allowed Parameters\n",
    "These are allowed parameters, not defaults\n",
    "Each of these values need to be present in the injected parameters (the notebook will raise an exception if they are not present)\n",
    "\n",
    "Papermill uses the cell tag \"parameters\" to inject the real parameters below this cell.\n",
    "Enable tags to see what I mean"
   ]
  },
  {
   "cell_type": "code",
   "execution_count": 2,
   "id": "fd44eb83",
   "metadata": {
    "execution": {
     "iopub.execute_input": "2022-03-23T12:24:25.312640Z",
     "iopub.status.busy": "2022-03-23T12:24:25.312232Z",
     "iopub.status.idle": "2022-03-23T12:24:25.336000Z",
     "shell.execute_reply": "2022-03-23T12:24:25.335170Z"
    },
    "papermill": {
     "duration": 0.048163,
     "end_time": "2022-03-23T12:24:25.336157",
     "exception": false,
     "start_time": "2022-03-23T12:24:25.287994",
     "status": "completed"
    },
    "tags": []
   },
   "outputs": [],
   "source": [
    "required_parameters = {\n",
    "    \"experiment_name\",\n",
    "    \"lr\",\n",
    "    \"device\",\n",
    "    \"seed\",\n",
    "    \"dataset_seed\",\n",
    "    \"n_shot\",\n",
    "    \"n_query\",\n",
    "    \"n_way\",\n",
    "    \"train_k_factor\",\n",
    "    \"val_k_factor\",\n",
    "    \"test_k_factor\",\n",
    "    \"n_epoch\",\n",
    "    \"patience\",\n",
    "    \"criteria_for_best\",\n",
    "    \"x_net\",\n",
    "    \"datasets\",\n",
    "    \"torch_default_dtype\",\n",
    "    \"NUM_LOGS_PER_EPOCH\",\n",
    "    \"BEST_MODEL_PATH\",\n",
    "    \"x_shape\",\n",
    "}"
   ]
  },
  {
   "cell_type": "code",
   "execution_count": 3,
   "id": "fa3f0049",
   "metadata": {
    "execution": {
     "iopub.execute_input": "2022-03-23T12:24:25.396531Z",
     "iopub.status.busy": "2022-03-23T12:24:25.390339Z",
     "iopub.status.idle": "2022-03-23T12:24:25.418440Z",
     "shell.execute_reply": "2022-03-23T12:24:25.417636Z"
    },
    "papermill": {
     "duration": 0.056158,
     "end_time": "2022-03-23T12:24:25.418596",
     "exception": false,
     "start_time": "2022-03-23T12:24:25.362438",
     "status": "completed"
    },
    "tags": [
     "parameters"
    ]
   },
   "outputs": [],
   "source": [
    "from steves_utils.CORES.utils import (\n",
    "    ALL_NODES,\n",
    "    ALL_NODES_MINIMUM_1000_EXAMPLES,\n",
    "    ALL_DAYS\n",
    ")\n",
    "\n",
    "from steves_utils.ORACLE.utils_v2 import (\n",
    "    ALL_DISTANCES_FEET_NARROWED,\n",
    "    ALL_RUNS,\n",
    "    ALL_SERIAL_NUMBERS,\n",
    ")\n",
    "\n",
    "standalone_parameters = {}\n",
    "standalone_parameters[\"experiment_name\"] = \"STANDALONE PTN\"\n",
    "standalone_parameters[\"lr\"] = 0.001\n",
    "standalone_parameters[\"device\"] = \"cuda\"\n",
    "\n",
    "standalone_parameters[\"seed\"] = 1337\n",
    "standalone_parameters[\"dataset_seed\"] = 1337\n",
    "\n",
    "standalone_parameters[\"n_way\"] = 8\n",
    "standalone_parameters[\"n_shot\"] = 3\n",
    "standalone_parameters[\"n_query\"]  = 2\n",
    "standalone_parameters[\"train_k_factor\"] = 1\n",
    "standalone_parameters[\"val_k_factor\"] = 2\n",
    "standalone_parameters[\"test_k_factor\"] = 2\n",
    "\n",
    "\n",
    "standalone_parameters[\"n_epoch\"] = 50\n",
    "\n",
    "standalone_parameters[\"patience\"] = 10\n",
    "standalone_parameters[\"criteria_for_best\"] = \"source_loss\"\n",
    "\n",
    "standalone_parameters[\"datasets\"] = [\n",
    "    {\n",
    "        \"labels\": ALL_SERIAL_NUMBERS,\n",
    "        \"domains\": ALL_DISTANCES_FEET_NARROWED,\n",
    "        \"num_examples_per_domain_per_label\": 100,\n",
    "        \"pickle_path\": os.path.join(get_datasets_base_path(), \"oracle.Run1_framed_2000Examples_stratified_ds.2022A.pkl\"),\n",
    "        \"source_or_target_dataset\": \"source\",\n",
    "        \"x_transforms\": [\"unit_mag\", \"minus_two\"],\n",
    "        \"episode_transforms\": [],\n",
    "        \"domain_prefix\": \"ORACLE_\"\n",
    "    },\n",
    "    {\n",
    "        \"labels\": ALL_NODES,\n",
    "        \"domains\": ALL_DAYS,\n",
    "        \"num_examples_per_domain_per_label\": 100,\n",
    "        \"pickle_path\": os.path.join(get_datasets_base_path(), \"cores.stratified_ds.2022A.pkl\"),\n",
    "        \"source_or_target_dataset\": \"target\",\n",
    "        \"x_transforms\": [\"unit_power\", \"times_zero\"],\n",
    "        \"episode_transforms\": [],\n",
    "        \"domain_prefix\": \"CORES_\"\n",
    "    }   \n",
    "]\n",
    "\n",
    "standalone_parameters[\"torch_default_dtype\"] = \"torch.float32\" \n",
    "\n",
    "\n",
    "\n",
    "standalone_parameters[\"x_net\"] =     [\n",
    "    {\"class\": \"nnReshape\", \"kargs\": {\"shape\":[-1, 1, 2, 256]}},\n",
    "    {\"class\": \"Conv2d\", \"kargs\": { \"in_channels\":1, \"out_channels\":256, \"kernel_size\":(1,7), \"bias\":False, \"padding\":(0,3), },},\n",
    "    {\"class\": \"ReLU\", \"kargs\": {\"inplace\": True}},\n",
    "    {\"class\": \"BatchNorm2d\", \"kargs\": {\"num_features\":256}},\n",
    "\n",
    "    {\"class\": \"Conv2d\", \"kargs\": { \"in_channels\":256, \"out_channels\":80, \"kernel_size\":(2,7), \"bias\":True, \"padding\":(0,3), },},\n",
    "    {\"class\": \"ReLU\", \"kargs\": {\"inplace\": True}},\n",
    "    {\"class\": \"BatchNorm2d\", \"kargs\": {\"num_features\":80}},\n",
    "    {\"class\": \"Flatten\", \"kargs\": {}},\n",
    "\n",
    "    {\"class\": \"Linear\", \"kargs\": {\"in_features\": 80*256, \"out_features\": 256}}, # 80 units per IQ pair\n",
    "    {\"class\": \"ReLU\", \"kargs\": {\"inplace\": True}},\n",
    "    {\"class\": \"BatchNorm1d\", \"kargs\": {\"num_features\":256}},\n",
    "\n",
    "    {\"class\": \"Linear\", \"kargs\": {\"in_features\": 256, \"out_features\": 256}},\n",
    "]\n",
    "\n",
    "# Parameters relevant to results\n",
    "# These parameters will basically never need to change\n",
    "standalone_parameters[\"NUM_LOGS_PER_EPOCH\"] = 10\n",
    "standalone_parameters[\"BEST_MODEL_PATH\"] = \"./best_model.pth\"\n",
    "\n",
    "\n",
    "\n",
    "\n"
   ]
  },
  {
   "cell_type": "code",
   "execution_count": 4,
   "id": "36b12a55",
   "metadata": {
    "execution": {
     "iopub.execute_input": "2022-03-23T12:24:25.480951Z",
     "iopub.status.busy": "2022-03-23T12:24:25.479938Z",
     "iopub.status.idle": "2022-03-23T12:24:25.501706Z",
     "shell.execute_reply": "2022-03-23T12:24:25.500910Z"
    },
    "papermill": {
     "duration": 0.0586,
     "end_time": "2022-03-23T12:24:25.501860",
     "exception": false,
     "start_time": "2022-03-23T12:24:25.443260",
     "status": "completed"
    },
    "tags": [
     "injected-parameters"
    ]
   },
   "outputs": [],
   "source": [
    "# Parameters\n",
    "parameters = {\n",
    "    \"experiment_name\": \"tl_1v2:wisig-oracle.run1\",\n",
    "    \"device\": \"cuda\",\n",
    "    \"lr\": 0.0001,\n",
    "    \"n_shot\": 3,\n",
    "    \"n_query\": 2,\n",
    "    \"train_k_factor\": 3,\n",
    "    \"val_k_factor\": 2,\n",
    "    \"test_k_factor\": 2,\n",
    "    \"torch_default_dtype\": \"torch.float32\",\n",
    "    \"n_epoch\": 50,\n",
    "    \"patience\": 3,\n",
    "    \"criteria_for_best\": \"target_accuracy\",\n",
    "    \"x_net\": [\n",
    "        {\"class\": \"nnReshape\", \"kargs\": {\"shape\": [-1, 1, 2, 256]}},\n",
    "        {\n",
    "            \"class\": \"Conv2d\",\n",
    "            \"kargs\": {\n",
    "                \"in_channels\": 1,\n",
    "                \"out_channels\": 256,\n",
    "                \"kernel_size\": [1, 7],\n",
    "                \"bias\": False,\n",
    "                \"padding\": [0, 3],\n",
    "            },\n",
    "        },\n",
    "        {\"class\": \"ReLU\", \"kargs\": {\"inplace\": True}},\n",
    "        {\"class\": \"BatchNorm2d\", \"kargs\": {\"num_features\": 256}},\n",
    "        {\n",
    "            \"class\": \"Conv2d\",\n",
    "            \"kargs\": {\n",
    "                \"in_channels\": 256,\n",
    "                \"out_channels\": 80,\n",
    "                \"kernel_size\": [2, 7],\n",
    "                \"bias\": True,\n",
    "                \"padding\": [0, 3],\n",
    "            },\n",
    "        },\n",
    "        {\"class\": \"ReLU\", \"kargs\": {\"inplace\": True}},\n",
    "        {\"class\": \"BatchNorm2d\", \"kargs\": {\"num_features\": 80}},\n",
    "        {\"class\": \"Flatten\", \"kargs\": {}},\n",
    "        {\"class\": \"Linear\", \"kargs\": {\"in_features\": 20480, \"out_features\": 256}},\n",
    "        {\"class\": \"ReLU\", \"kargs\": {\"inplace\": True}},\n",
    "        {\"class\": \"BatchNorm1d\", \"kargs\": {\"num_features\": 256}},\n",
    "        {\"class\": \"Linear\", \"kargs\": {\"in_features\": 256, \"out_features\": 256}},\n",
    "    ],\n",
    "    \"NUM_LOGS_PER_EPOCH\": 10,\n",
    "    \"BEST_MODEL_PATH\": \"./best_model.pth\",\n",
    "    \"n_way\": 16,\n",
    "    \"datasets\": [\n",
    "        {\n",
    "            \"labels\": [\n",
    "                \"1-10\",\n",
    "                \"1-12\",\n",
    "                \"1-14\",\n",
    "                \"1-16\",\n",
    "                \"1-18\",\n",
    "                \"1-19\",\n",
    "                \"1-8\",\n",
    "                \"10-11\",\n",
    "                \"10-17\",\n",
    "                \"10-4\",\n",
    "                \"10-7\",\n",
    "                \"11-1\",\n",
    "                \"11-10\",\n",
    "                \"11-19\",\n",
    "                \"11-20\",\n",
    "                \"11-4\",\n",
    "                \"11-7\",\n",
    "                \"12-19\",\n",
    "                \"12-20\",\n",
    "                \"12-7\",\n",
    "                \"13-14\",\n",
    "                \"13-18\",\n",
    "                \"13-19\",\n",
    "                \"13-20\",\n",
    "                \"13-3\",\n",
    "                \"13-7\",\n",
    "                \"14-10\",\n",
    "                \"14-11\",\n",
    "                \"14-12\",\n",
    "                \"14-13\",\n",
    "                \"14-14\",\n",
    "                \"14-19\",\n",
    "                \"14-20\",\n",
    "                \"14-7\",\n",
    "                \"14-8\",\n",
    "                \"14-9\",\n",
    "                \"15-1\",\n",
    "                \"15-19\",\n",
    "                \"15-6\",\n",
    "                \"16-1\",\n",
    "                \"16-16\",\n",
    "                \"16-19\",\n",
    "                \"16-20\",\n",
    "                \"17-10\",\n",
    "                \"17-11\",\n",
    "                \"18-1\",\n",
    "                \"18-10\",\n",
    "                \"18-11\",\n",
    "                \"18-12\",\n",
    "                \"18-13\",\n",
    "                \"18-14\",\n",
    "                \"18-15\",\n",
    "                \"18-16\",\n",
    "                \"18-17\",\n",
    "                \"18-19\",\n",
    "                \"18-2\",\n",
    "                \"18-20\",\n",
    "                \"18-4\",\n",
    "                \"18-5\",\n",
    "                \"18-7\",\n",
    "                \"18-8\",\n",
    "                \"18-9\",\n",
    "                \"19-1\",\n",
    "                \"19-10\",\n",
    "                \"19-11\",\n",
    "                \"19-12\",\n",
    "                \"19-13\",\n",
    "                \"19-14\",\n",
    "                \"19-15\",\n",
    "                \"19-19\",\n",
    "                \"19-2\",\n",
    "                \"19-20\",\n",
    "                \"19-3\",\n",
    "                \"19-4\",\n",
    "                \"19-6\",\n",
    "                \"19-7\",\n",
    "                \"19-8\",\n",
    "                \"19-9\",\n",
    "                \"2-1\",\n",
    "                \"2-13\",\n",
    "                \"2-15\",\n",
    "                \"2-3\",\n",
    "                \"2-4\",\n",
    "                \"2-5\",\n",
    "                \"2-6\",\n",
    "                \"2-7\",\n",
    "                \"2-8\",\n",
    "                \"20-1\",\n",
    "                \"20-12\",\n",
    "                \"20-14\",\n",
    "                \"20-15\",\n",
    "                \"20-16\",\n",
    "                \"20-18\",\n",
    "                \"20-19\",\n",
    "                \"20-20\",\n",
    "                \"20-3\",\n",
    "                \"20-4\",\n",
    "                \"20-5\",\n",
    "                \"20-7\",\n",
    "                \"20-8\",\n",
    "                \"3-1\",\n",
    "                \"3-13\",\n",
    "                \"3-18\",\n",
    "                \"3-2\",\n",
    "                \"3-8\",\n",
    "                \"4-1\",\n",
    "                \"4-10\",\n",
    "                \"4-11\",\n",
    "                \"5-1\",\n",
    "                \"5-5\",\n",
    "                \"6-1\",\n",
    "                \"6-15\",\n",
    "                \"6-6\",\n",
    "                \"7-10\",\n",
    "                \"7-11\",\n",
    "                \"7-12\",\n",
    "                \"7-13\",\n",
    "                \"7-14\",\n",
    "                \"7-7\",\n",
    "                \"7-8\",\n",
    "                \"7-9\",\n",
    "                \"8-1\",\n",
    "                \"8-13\",\n",
    "                \"8-14\",\n",
    "                \"8-18\",\n",
    "                \"8-20\",\n",
    "                \"8-3\",\n",
    "                \"8-8\",\n",
    "                \"9-1\",\n",
    "                \"9-7\",\n",
    "            ],\n",
    "            \"domains\": [1, 2, 3, 4],\n",
    "            \"num_examples_per_domain_per_label\": -1,\n",
    "            \"pickle_path\": \"/root/csc500-main/datasets/wisig.node3-19.stratified_ds.2022A.pkl\",\n",
    "            \"source_or_target_dataset\": \"target\",\n",
    "            \"x_transforms\": [],\n",
    "            \"episode_transforms\": [],\n",
    "            \"domain_prefix\": \"Wisig_\",\n",
    "        },\n",
    "        {\n",
    "            \"labels\": [\n",
    "                \"3123D52\",\n",
    "                \"3123D65\",\n",
    "                \"3123D79\",\n",
    "                \"3123D80\",\n",
    "                \"3123D54\",\n",
    "                \"3123D70\",\n",
    "                \"3123D7B\",\n",
    "                \"3123D89\",\n",
    "                \"3123D58\",\n",
    "                \"3123D76\",\n",
    "                \"3123D7D\",\n",
    "                \"3123EFE\",\n",
    "                \"3123D64\",\n",
    "                \"3123D78\",\n",
    "                \"3123D7E\",\n",
    "                \"3124E4A\",\n",
    "            ],\n",
    "            \"domains\": [32, 38, 8, 44, 14, 50, 20, 26],\n",
    "            \"num_examples_per_domain_per_label\": 10000,\n",
    "            \"pickle_path\": \"/root/csc500-main/datasets/oracle.Run1_10kExamples_stratified_ds.2022A.pkl\",\n",
    "            \"source_or_target_dataset\": \"source\",\n",
    "            \"x_transforms\": [],\n",
    "            \"episode_transforms\": [],\n",
    "            \"domain_prefix\": \"ORACLE.run1\",\n",
    "        },\n",
    "    ],\n",
    "    \"dataset_seed\": 1337,\n",
    "    \"seed\": 1337,\n",
    "}\n"
   ]
  },
  {
   "cell_type": "code",
   "execution_count": 5,
   "id": "8fa1cc33",
   "metadata": {
    "execution": {
     "iopub.execute_input": "2022-03-23T12:24:25.553830Z",
     "iopub.status.busy": "2022-03-23T12:24:25.552390Z",
     "iopub.status.idle": "2022-03-23T12:24:25.573799Z",
     "shell.execute_reply": "2022-03-23T12:24:25.573002Z"
    },
    "papermill": {
     "duration": 0.0467,
     "end_time": "2022-03-23T12:24:25.573954",
     "exception": false,
     "start_time": "2022-03-23T12:24:25.527254",
     "status": "completed"
    },
    "tags": []
   },
   "outputs": [],
   "source": [
    "# Set this to True if you want to run this template directly\n",
    "STANDALONE = False\n",
    "if STANDALONE:\n",
    "    print(\"parameters not injected, running with standalone_parameters\")\n",
    "    parameters = standalone_parameters\n",
    "\n",
    "if not 'parameters' in locals() and not 'parameters' in globals():\n",
    "    raise Exception(\"Parameter injection failed\")\n",
    "\n",
    "#Use an easy dict for all the parameters\n",
    "p = EasyDict(parameters)\n",
    "\n",
    "if \"x_shape\" not in p:\n",
    "    p.x_shape = [2,256] # Default to this if we dont supply x_shape\n",
    "\n",
    "\n",
    "supplied_keys = set(p.keys())\n",
    "\n",
    "if  supplied_keys != required_parameters:\n",
    "    print(\"Parameters are incorrect\")\n",
    "    if len(supplied_keys - required_parameters)>0: print(\"Shouldn't have:\", str(supplied_keys - required_parameters))\n",
    "    if len(required_parameters - supplied_keys)>0: print(\"Need to have:\", str(required_parameters - supplied_keys))\n",
    "    raise RuntimeError(\"Parameters are incorrect\")"
   ]
  },
  {
   "cell_type": "code",
   "execution_count": 6,
   "id": "3a028d58",
   "metadata": {
    "execution": {
     "iopub.execute_input": "2022-03-23T12:24:25.628550Z",
     "iopub.status.busy": "2022-03-23T12:24:25.621508Z",
     "iopub.status.idle": "2022-03-23T12:24:25.644153Z",
     "shell.execute_reply": "2022-03-23T12:24:25.643313Z"
    },
    "papermill": {
     "duration": 0.045162,
     "end_time": "2022-03-23T12:24:25.644307",
     "exception": false,
     "start_time": "2022-03-23T12:24:25.599145",
     "status": "completed"
    },
    "tags": []
   },
   "outputs": [],
   "source": [
    "###################################\n",
    "# Set the RNGs and make it all deterministic\n",
    "###################################\n",
    "np.random.seed(p.seed)\n",
    "random.seed(p.seed)\n",
    "torch.manual_seed(p.seed)\n",
    "\n",
    "torch.use_deterministic_algorithms(True) "
   ]
  },
  {
   "cell_type": "code",
   "execution_count": 7,
   "id": "b691acf6",
   "metadata": {
    "execution": {
     "iopub.execute_input": "2022-03-23T12:24:25.696062Z",
     "iopub.status.busy": "2022-03-23T12:24:25.695140Z",
     "iopub.status.idle": "2022-03-23T12:24:25.719581Z",
     "shell.execute_reply": "2022-03-23T12:24:25.718756Z"
    },
    "papermill": {
     "duration": 0.047383,
     "end_time": "2022-03-23T12:24:25.719737",
     "exception": false,
     "start_time": "2022-03-23T12:24:25.672354",
     "status": "completed"
    },
    "tags": []
   },
   "outputs": [],
   "source": [
    "###########################################\n",
    "# The stratified datasets honor this\n",
    "###########################################\n",
    "torch.set_default_dtype(eval(p.torch_default_dtype))"
   ]
  },
  {
   "cell_type": "code",
   "execution_count": 8,
   "id": "b5fba671",
   "metadata": {
    "execution": {
     "iopub.execute_input": "2022-03-23T12:24:25.770476Z",
     "iopub.status.busy": "2022-03-23T12:24:25.770114Z",
     "iopub.status.idle": "2022-03-23T12:24:25.825493Z",
     "shell.execute_reply": "2022-03-23T12:24:25.824801Z"
    },
    "papermill": {
     "duration": 0.079445,
     "end_time": "2022-03-23T12:24:25.825647",
     "exception": false,
     "start_time": "2022-03-23T12:24:25.746202",
     "status": "completed"
    },
    "tags": []
   },
   "outputs": [],
   "source": [
    "###################################\n",
    "# Build the network(s)\n",
    "# Note: It's critical to do this AFTER setting the RNG\n",
    "###################################\n",
    "x_net = build_sequential(p.x_net)"
   ]
  },
  {
   "cell_type": "code",
   "execution_count": 9,
   "id": "5d7e61cc",
   "metadata": {
    "execution": {
     "iopub.execute_input": "2022-03-23T12:24:25.874564Z",
     "iopub.status.busy": "2022-03-23T12:24:25.874203Z",
     "iopub.status.idle": "2022-03-23T12:24:25.898667Z",
     "shell.execute_reply": "2022-03-23T12:24:25.897844Z"
    },
    "papermill": {
     "duration": 0.047925,
     "end_time": "2022-03-23T12:24:25.898829",
     "exception": false,
     "start_time": "2022-03-23T12:24:25.850904",
     "status": "completed"
    },
    "tags": []
   },
   "outputs": [],
   "source": [
    "start_time_secs = time.time()"
   ]
  },
  {
   "cell_type": "code",
   "execution_count": 10,
   "id": "c6b67dfd",
   "metadata": {
    "execution": {
     "iopub.execute_input": "2022-03-23T12:24:25.949692Z",
     "iopub.status.busy": "2022-03-23T12:24:25.949325Z",
     "iopub.status.idle": "2022-03-23T12:24:25.975732Z",
     "shell.execute_reply": "2022-03-23T12:24:25.974908Z"
    },
    "papermill": {
     "duration": 0.051756,
     "end_time": "2022-03-23T12:24:25.975887",
     "exception": false,
     "start_time": "2022-03-23T12:24:25.924131",
     "status": "completed"
    },
    "tags": []
   },
   "outputs": [],
   "source": [
    "p.domains_source = []\n",
    "p.domains_target = []\n",
    "\n",
    "\n",
    "train_original_source = []\n",
    "val_original_source   = []\n",
    "test_original_source  = []\n",
    "\n",
    "train_original_target = []\n",
    "val_original_target   = []\n",
    "test_original_target  = []"
   ]
  },
  {
   "cell_type": "code",
   "execution_count": 11,
   "id": "e3d9c3d3",
   "metadata": {
    "execution": {
     "iopub.execute_input": "2022-03-23T12:24:26.024673Z",
     "iopub.status.busy": "2022-03-23T12:24:26.023660Z",
     "iopub.status.idle": "2022-03-23T12:24:26.045746Z",
     "shell.execute_reply": "2022-03-23T12:24:26.044940Z"
    },
    "papermill": {
     "duration": 0.045209,
     "end_time": "2022-03-23T12:24:26.045904",
     "exception": false,
     "start_time": "2022-03-23T12:24:26.000695",
     "status": "completed"
    },
    "tags": []
   },
   "outputs": [],
   "source": [
    "# global_x_transform_func = lambda x: normalize(x.to(torch.get_default_dtype()), \"unit_power\") # unit_power, unit_mag\n",
    "# global_x_transform_func = lambda x: normalize(x, \"unit_power\") # unit_power, unit_mag"
   ]
  },
  {
   "cell_type": "code",
   "execution_count": 12,
   "id": "acb78fd2",
   "metadata": {
    "execution": {
     "iopub.execute_input": "2022-03-23T12:24:26.105057Z",
     "iopub.status.busy": "2022-03-23T12:24:26.099644Z",
     "iopub.status.idle": "2022-03-23T12:24:26.122910Z",
     "shell.execute_reply": "2022-03-23T12:24:26.122206Z"
    },
    "papermill": {
     "duration": 0.05138,
     "end_time": "2022-03-23T12:24:26.123067",
     "exception": false,
     "start_time": "2022-03-23T12:24:26.071687",
     "status": "completed"
    },
    "tags": []
   },
   "outputs": [],
   "source": [
    "def add_dataset(\n",
    "    labels,\n",
    "    domains,\n",
    "    pickle_path,\n",
    "    x_transforms,\n",
    "    episode_transforms,\n",
    "    domain_prefix,\n",
    "    num_examples_per_domain_per_label,\n",
    "    source_or_target_dataset:str,\n",
    "    iterator_seed=p.seed,\n",
    "    dataset_seed=p.dataset_seed,\n",
    "    n_shot=p.n_shot,\n",
    "    n_way=p.n_way,\n",
    "    n_query=p.n_query,\n",
    "    train_val_test_k_factors=(p.train_k_factor,p.val_k_factor,p.test_k_factor),\n",
    "):\n",
    "   \n",
    "    if x_transforms == []: x_transform = None\n",
    "    else: x_transform = get_chained_transform(x_transforms)\n",
    "    \n",
    "    if episode_transforms == []: episode_transform = None\n",
    "    else: raise Exception(\"episode_transforms not implemented\")\n",
    "    \n",
    "    episode_transform = lambda tup, _prefix=domain_prefix: (_prefix + str(tup[0]), tup[1])\n",
    "\n",
    "\n",
    "    eaf = Episodic_Accessor_Factory(\n",
    "        labels=labels,\n",
    "        domains=domains,\n",
    "        num_examples_per_domain_per_label=num_examples_per_domain_per_label,\n",
    "        iterator_seed=iterator_seed,\n",
    "        dataset_seed=dataset_seed,\n",
    "        n_shot=n_shot,\n",
    "        n_way=n_way,\n",
    "        n_query=n_query,\n",
    "        train_val_test_k_factors=train_val_test_k_factors,\n",
    "        pickle_path=pickle_path,\n",
    "        x_transform_func=x_transform,\n",
    "    )\n",
    "\n",
    "    train, val, test = eaf.get_train(), eaf.get_val(), eaf.get_test()\n",
    "    train = Lazy_Iterable_Wrapper(train, episode_transform)\n",
    "    val = Lazy_Iterable_Wrapper(val, episode_transform)\n",
    "    test = Lazy_Iterable_Wrapper(test, episode_transform)\n",
    "\n",
    "    if source_or_target_dataset==\"source\":\n",
    "        train_original_source.append(train)\n",
    "        val_original_source.append(val)\n",
    "        test_original_source.append(test)\n",
    "\n",
    "        p.domains_source.extend(\n",
    "            [domain_prefix + str(u) for u in domains]\n",
    "        )\n",
    "    elif source_or_target_dataset==\"target\":\n",
    "        train_original_target.append(train)\n",
    "        val_original_target.append(val)\n",
    "        test_original_target.append(test)\n",
    "        p.domains_target.extend(\n",
    "            [domain_prefix + str(u) for u in domains]\n",
    "        )\n",
    "    else:\n",
    "        raise Exception(f\"invalid source_or_target_dataset: {source_or_target_dataset}\")\n",
    "    "
   ]
  },
  {
   "cell_type": "code",
   "execution_count": 13,
   "id": "fe266617",
   "metadata": {
    "execution": {
     "iopub.execute_input": "2022-03-23T12:24:26.173809Z",
     "iopub.status.busy": "2022-03-23T12:24:26.173444Z",
     "iopub.status.idle": "2022-03-23T12:24:36.842606Z",
     "shell.execute_reply": "2022-03-23T12:24:36.841833Z"
    },
    "papermill": {
     "duration": 10.692206,
     "end_time": "2022-03-23T12:24:36.842805",
     "exception": false,
     "start_time": "2022-03-23T12:24:26.150599",
     "status": "completed"
    },
    "tags": []
   },
   "outputs": [],
   "source": [
    "for ds in p.datasets:\n",
    "    add_dataset(**ds)"
   ]
  },
  {
   "cell_type": "code",
   "execution_count": 14,
   "id": "b90d65ac",
   "metadata": {
    "execution": {
     "iopub.execute_input": "2022-03-23T12:24:36.892644Z",
     "iopub.status.busy": "2022-03-23T12:24:36.892097Z",
     "iopub.status.idle": "2022-03-23T12:24:36.917401Z",
     "shell.execute_reply": "2022-03-23T12:24:36.916647Z"
    },
    "papermill": {
     "duration": 0.048668,
     "end_time": "2022-03-23T12:24:36.917556",
     "exception": false,
     "start_time": "2022-03-23T12:24:36.868888",
     "status": "completed"
    },
    "tags": []
   },
   "outputs": [],
   "source": [
    "# from steves_utils.CORES.utils import (\n",
    "#     ALL_NODES,\n",
    "#     ALL_NODES_MINIMUM_1000_EXAMPLES,\n",
    "#     ALL_DAYS\n",
    "# )\n",
    "\n",
    "# add_dataset(\n",
    "#     labels=ALL_NODES,\n",
    "#     domains = ALL_DAYS,\n",
    "#     num_examples_per_domain_per_label=100,\n",
    "#     pickle_path=os.path.join(get_datasets_base_path(), \"cores.stratified_ds.2022A.pkl\"),\n",
    "#     source_or_target_dataset=\"target\",\n",
    "#     x_transform_func=global_x_transform_func,\n",
    "#     domain_modifier=lambda u: f\"cores_{u}\"\n",
    "# )"
   ]
  },
  {
   "cell_type": "code",
   "execution_count": 15,
   "id": "76db484d",
   "metadata": {
    "execution": {
     "iopub.execute_input": "2022-03-23T12:24:36.968447Z",
     "iopub.status.busy": "2022-03-23T12:24:36.967856Z",
     "iopub.status.idle": "2022-03-23T12:24:36.989398Z",
     "shell.execute_reply": "2022-03-23T12:24:36.988598Z"
    },
    "papermill": {
     "duration": 0.046133,
     "end_time": "2022-03-23T12:24:36.989549",
     "exception": false,
     "start_time": "2022-03-23T12:24:36.943416",
     "status": "completed"
    },
    "tags": []
   },
   "outputs": [],
   "source": [
    "# from steves_utils.ORACLE.utils_v2 import (\n",
    "#     ALL_DISTANCES_FEET,\n",
    "#     ALL_RUNS,\n",
    "#     ALL_SERIAL_NUMBERS,\n",
    "# )\n",
    "\n",
    "\n",
    "# add_dataset(\n",
    "#     labels=ALL_SERIAL_NUMBERS,\n",
    "#     domains = list(set(ALL_DISTANCES_FEET) - {2,62}),\n",
    "#     num_examples_per_domain_per_label=100,\n",
    "#     pickle_path=os.path.join(get_datasets_base_path(), \"oracle.Run2_framed_2000Examples_stratified_ds.2022A.pkl\"),\n",
    "#     source_or_target_dataset=\"source\",\n",
    "#     x_transform_func=global_x_transform_func,\n",
    "#     domain_modifier=lambda u: f\"oracle1_{u}\"\n",
    "# )\n"
   ]
  },
  {
   "cell_type": "code",
   "execution_count": 16,
   "id": "97dea9d2",
   "metadata": {
    "execution": {
     "iopub.execute_input": "2022-03-23T12:24:37.038458Z",
     "iopub.status.busy": "2022-03-23T12:24:37.038089Z",
     "iopub.status.idle": "2022-03-23T12:24:37.054890Z",
     "shell.execute_reply": "2022-03-23T12:24:37.054088Z"
    },
    "papermill": {
     "duration": 0.039826,
     "end_time": "2022-03-23T12:24:37.055045",
     "exception": false,
     "start_time": "2022-03-23T12:24:37.015219",
     "status": "completed"
    },
    "tags": []
   },
   "outputs": [],
   "source": [
    "# from steves_utils.ORACLE.utils_v2 import (\n",
    "#     ALL_DISTANCES_FEET,\n",
    "#     ALL_RUNS,\n",
    "#     ALL_SERIAL_NUMBERS,\n",
    "# )\n",
    "\n",
    "\n",
    "# add_dataset(\n",
    "#     labels=ALL_SERIAL_NUMBERS,\n",
    "#     domains = list(set(ALL_DISTANCES_FEET) - {2,62,56}),\n",
    "#     num_examples_per_domain_per_label=100,\n",
    "#     pickle_path=os.path.join(get_datasets_base_path(), \"oracle.Run2_framed_2000Examples_stratified_ds.2022A.pkl\"),\n",
    "#     source_or_target_dataset=\"source\",\n",
    "#     x_transform_func=global_x_transform_func,\n",
    "#     domain_modifier=lambda u: f\"oracle2_{u}\"\n",
    "# )"
   ]
  },
  {
   "cell_type": "code",
   "execution_count": 17,
   "id": "6f289866",
   "metadata": {
    "execution": {
     "iopub.execute_input": "2022-03-23T12:24:37.105369Z",
     "iopub.status.busy": "2022-03-23T12:24:37.104811Z",
     "iopub.status.idle": "2022-03-23T12:24:37.126410Z",
     "shell.execute_reply": "2022-03-23T12:24:37.125597Z"
    },
    "papermill": {
     "duration": 0.045958,
     "end_time": "2022-03-23T12:24:37.126563",
     "exception": false,
     "start_time": "2022-03-23T12:24:37.080605",
     "status": "completed"
    },
    "tags": []
   },
   "outputs": [],
   "source": [
    "# add_dataset(\n",
    "#     labels=list(range(19)),\n",
    "#     domains = [0,1,2],\n",
    "#     num_examples_per_domain_per_label=100,\n",
    "#     pickle_path=os.path.join(get_datasets_base_path(), \"metehan.stratified_ds.2022A.pkl\"),\n",
    "#     source_or_target_dataset=\"target\",\n",
    "#     x_transform_func=global_x_transform_func,\n",
    "#     domain_modifier=lambda u: f\"met_{u}\"\n",
    "# )"
   ]
  },
  {
   "cell_type": "code",
   "execution_count": 18,
   "id": "86a863c3",
   "metadata": {
    "execution": {
     "iopub.execute_input": "2022-03-23T12:24:37.178145Z",
     "iopub.status.busy": "2022-03-23T12:24:37.177776Z",
     "iopub.status.idle": "2022-03-23T12:24:37.195443Z",
     "shell.execute_reply": "2022-03-23T12:24:37.194731Z"
    },
    "papermill": {
     "duration": 0.040905,
     "end_time": "2022-03-23T12:24:37.195611",
     "exception": false,
     "start_time": "2022-03-23T12:24:37.154706",
     "status": "completed"
    },
    "tags": []
   },
   "outputs": [],
   "source": [
    "# # from steves_utils.wisig.utils import (\n",
    "# #     ALL_NODES_MINIMUM_100_EXAMPLES,\n",
    "# #     ALL_NODES_MINIMUM_500_EXAMPLES,\n",
    "# #     ALL_NODES_MINIMUM_1000_EXAMPLES,\n",
    "# #     ALL_DAYS\n",
    "# # )\n",
    "\n",
    "# import steves_utils.wisig.utils as wisig\n",
    "\n",
    "\n",
    "# add_dataset(\n",
    "#     labels=wisig.ALL_NODES_MINIMUM_100_EXAMPLES,\n",
    "#     domains = wisig.ALL_DAYS,\n",
    "#     num_examples_per_domain_per_label=100,\n",
    "#     pickle_path=os.path.join(get_datasets_base_path(), \"wisig.node3-19.stratified_ds.2022A.pkl\"),\n",
    "#     source_or_target_dataset=\"target\",\n",
    "#     x_transform_func=global_x_transform_func,\n",
    "#     domain_modifier=lambda u: f\"wisig_{u}\"\n",
    "# )"
   ]
  },
  {
   "cell_type": "code",
   "execution_count": 19,
   "id": "fd5442bc",
   "metadata": {
    "execution": {
     "iopub.execute_input": "2022-03-23T12:24:37.248900Z",
     "iopub.status.busy": "2022-03-23T12:24:37.248319Z",
     "iopub.status.idle": "2022-03-23T12:24:37.268736Z",
     "shell.execute_reply": "2022-03-23T12:24:37.268006Z"
    },
    "papermill": {
     "duration": 0.047681,
     "end_time": "2022-03-23T12:24:37.268888",
     "exception": false,
     "start_time": "2022-03-23T12:24:37.221207",
     "status": "completed"
    },
    "tags": []
   },
   "outputs": [],
   "source": [
    "###################################\n",
    "# Build the dataset\n",
    "###################################\n",
    "train_original_source = Iterable_Aggregator(train_original_source, p.seed)\n",
    "val_original_source = Iterable_Aggregator(val_original_source, p.seed)\n",
    "test_original_source = Iterable_Aggregator(test_original_source, p.seed)\n",
    "\n",
    "\n",
    "train_original_target = Iterable_Aggregator(train_original_target, p.seed)\n",
    "val_original_target = Iterable_Aggregator(val_original_target, p.seed)\n",
    "test_original_target = Iterable_Aggregator(test_original_target, p.seed)\n",
    "\n",
    "# For CNN We only use X and Y. And we only train on the source.\n",
    "# Properly form the data using a transform lambda and Lazy_Iterable_Wrapper. Finally wrap them in a dataloader\n",
    "\n",
    "transform_lambda = lambda ex: ex[1] # Original is (<domain>, <episode>) so we strip down to episode only\n",
    "\n",
    "train_processed_source = Lazy_Iterable_Wrapper(train_original_source, transform_lambda)\n",
    "val_processed_source   = Lazy_Iterable_Wrapper(val_original_source, transform_lambda)\n",
    "test_processed_source  = Lazy_Iterable_Wrapper(test_original_source, transform_lambda)\n",
    "\n",
    "train_processed_target = Lazy_Iterable_Wrapper(train_original_target, transform_lambda)\n",
    "val_processed_target   = Lazy_Iterable_Wrapper(val_original_target, transform_lambda)\n",
    "test_processed_target  = Lazy_Iterable_Wrapper(test_original_target, transform_lambda)\n",
    "\n",
    "datasets = EasyDict({\n",
    "    \"source\": {\n",
    "        \"original\": {\"train\":train_original_source, \"val\":val_original_source, \"test\":test_original_source},\n",
    "        \"processed\": {\"train\":train_processed_source, \"val\":val_processed_source, \"test\":test_processed_source}\n",
    "    },\n",
    "    \"target\": {\n",
    "        \"original\": {\"train\":train_original_target, \"val\":val_original_target, \"test\":test_original_target},\n",
    "        \"processed\": {\"train\":train_processed_target, \"val\":val_processed_target, \"test\":test_processed_target}\n",
    "    },\n",
    "})"
   ]
  },
  {
   "cell_type": "code",
   "execution_count": 20,
   "id": "5b3c01fc",
   "metadata": {
    "execution": {
     "iopub.execute_input": "2022-03-23T12:24:37.322616Z",
     "iopub.status.busy": "2022-03-23T12:24:37.322250Z",
     "iopub.status.idle": "2022-03-23T12:25:10.015967Z",
     "shell.execute_reply": "2022-03-23T12:25:10.016955Z"
    },
    "papermill": {
     "duration": 32.719166,
     "end_time": "2022-03-23T12:25:10.017198",
     "exception": false,
     "start_time": "2022-03-23T12:24:37.298032",
     "status": "completed"
    },
    "tags": []
   },
   "outputs": [
    {
     "name": "stdout",
     "output_type": "stream",
     "text": [
      "{'ORACLE.run144', 'ORACLE.run138', 'ORACLE.run132', 'ORACLE.run126', 'ORACLE.run120', 'ORACLE.run18', 'ORACLE.run114', 'ORACLE.run150'}\n"
     ]
    },
    {
     "name": "stdout",
     "output_type": "stream",
     "text": [
      "{'Wisig_2', 'Wisig_3', 'Wisig_1', 'Wisig_4'}\n"
     ]
    },
    {
     "name": "stdout",
     "output_type": "stream",
     "text": [
      "tensor([[[-6.1037e-05, -1.0987e-03,  1.1292e-03,  ..., -1.0376e-03,\n",
      "          -8.8504e-04,  1.7701e-03],\n",
      "         [-1.8616e-03,  7.3244e-04, -3.9674e-04,  ...,  2.1363e-04,\n",
      "          -3.0519e-03,  4.2726e-04]],\n",
      "\n",
      "        [[ 1.4954e-03, -2.3804e-03, -4.6083e-03,  ...,  1.4649e-03,\n",
      "           1.8311e-04, -1.0376e-03],\n",
      "         [-4.5778e-04, -1.3428e-03, -4.7609e-03,  ..., -1.5564e-03,\n",
      "           1.0071e-03, -1.7090e-03]],\n",
      "\n",
      "        [[-2.8382e-03, -1.4954e-03,  3.3570e-04,  ...,  3.9674e-04,\n",
      "           4.6388e-03,  3.5707e-03],\n",
      "         [-6.4089e-04,  1.0987e-03, -1.2207e-03,  ..., -4.9135e-03,\n",
      "           0.0000e+00, -9.1556e-05]],\n",
      "\n",
      "        ...,\n",
      "\n",
      "        [[-6.1037e-05,  3.0824e-03, -3.6622e-04,  ..., -4.1505e-03,\n",
      "          -6.6836e-03,  4.3031e-03],\n",
      "         [ 5.8596e-03, -4.2116e-03, -2.5941e-03,  ..., -6.7141e-04,\n",
      "           1.0071e-03, -4.5473e-03]],\n",
      "\n",
      "        [[-4.2116e-03, -6.5310e-03, -7.8433e-03,  ..., -4.0590e-03,\n",
      "           2.6246e-03,  9.4607e-04],\n",
      "         [ 5.4018e-03,  1.5259e-04,  5.4018e-03,  ..., -1.5259e-03,\n",
      "           3.5096e-03, -9.1556e-04]],\n",
      "\n",
      "        [[ 6.2868e-03, -3.3570e-03, -2.8382e-03,  ..., -3.8148e-03,\n",
      "          -1.8921e-03, -3.0519e-05],\n",
      "         [-2.2279e-03,  4.6999e-03,  3.0519e-05,  ...,  7.2634e-03,\n",
      "           1.0681e-03,  5.0661e-03]]])\n"
     ]
    }
   ],
   "source": [
    "from steves_utils.transforms import get_average_magnitude, get_average_power\n",
    "\n",
    "print(set([u for u,_ in val_original_source]))\n",
    "print(set([u for u,_ in val_original_target]))\n",
    "\n",
    "s_x, s_y, q_x, q_y, _ = next(iter(train_processed_source))\n",
    "print(s_x)\n",
    "\n",
    "# for ds in [\n",
    "#     train_processed_source,\n",
    "#     val_processed_source,\n",
    "#     test_processed_source,\n",
    "#     train_processed_target,\n",
    "#     val_processed_target,\n",
    "#     test_processed_target\n",
    "# ]:\n",
    "#     for s_x, s_y, q_x, q_y, _ in ds:\n",
    "#         for X in (s_x, q_x):\n",
    "#             for x in X:\n",
    "#                 assert np.isclose(get_average_magnitude(x.numpy()), 1.0)\n",
    "#                 assert np.isclose(get_average_power(x.numpy()), 1.0)\n",
    "                "
   ]
  },
  {
   "cell_type": "code",
   "execution_count": 21,
   "id": "bbdacba1",
   "metadata": {
    "execution": {
     "iopub.execute_input": "2022-03-23T12:25:10.074734Z",
     "iopub.status.busy": "2022-03-23T12:25:10.074357Z",
     "iopub.status.idle": "2022-03-23T12:25:10.283812Z",
     "shell.execute_reply": "2022-03-23T12:25:10.284344Z"
    },
    "papermill": {
     "duration": 0.237509,
     "end_time": "2022-03-23T12:25:10.284524",
     "exception": false,
     "start_time": "2022-03-23T12:25:10.047015",
     "status": "completed"
    },
    "tags": []
   },
   "outputs": [
    {
     "name": "stdout",
     "output_type": "stream",
     "text": [
      "(2, 256)\n"
     ]
    }
   ],
   "source": [
    "###################################\n",
    "# Build the model\n",
    "###################################\n",
    "# easfsl only wants a tuple for the shape\n",
    "model = Steves_Prototypical_Network(x_net, device=p.device, x_shape=tuple(p.x_shape))\n",
    "optimizer = Adam(params=model.parameters(), lr=p.lr)"
   ]
  },
  {
   "cell_type": "code",
   "execution_count": 22,
   "id": "22b39ac5",
   "metadata": {
    "execution": {
     "iopub.execute_input": "2022-03-23T12:25:10.339208Z",
     "iopub.status.busy": "2022-03-23T12:25:10.338834Z",
     "iopub.status.idle": "2022-03-23T15:07:12.596872Z",
     "shell.execute_reply": "2022-03-23T15:07:12.596528Z"
    },
    "papermill": {
     "duration": 9722.283078,
     "end_time": "2022-03-23T15:07:12.596959",
     "exception": false,
     "start_time": "2022-03-23T12:25:10.313881",
     "status": "completed"
    },
    "tags": []
   },
   "outputs": [
    {
     "name": "stdout",
     "output_type": "stream",
     "text": [
      "epoch: 1, [batch: 1 / 33600], examples_per_second: 6.5567, train_label_loss: 2.7566, \n"
     ]
    },
    {
     "name": "stdout",
     "output_type": "stream",
     "text": [
      "epoch: 1, [batch: 3360 / 33600], examples_per_second: 3880.3578, train_label_loss: 1.1418, \n"
     ]
    },
    {
     "name": "stdout",
     "output_type": "stream",
     "text": [
      "epoch: 1, [batch: 6720 / 33600], examples_per_second: 3994.0350, train_label_loss: 1.0616, \n"
     ]
    },
    {
     "name": "stdout",
     "output_type": "stream",
     "text": [
      "epoch: 1, [batch: 10080 / 33600], examples_per_second: 3987.1228, train_label_loss: 0.4766, \n"
     ]
    },
    {
     "name": "stdout",
     "output_type": "stream",
     "text": [
      "epoch: 1, [batch: 13440 / 33600], examples_per_second: 3953.2578, train_label_loss: 0.5304, \n"
     ]
    },
    {
     "name": "stdout",
     "output_type": "stream",
     "text": [
      "epoch: 1, [batch: 16800 / 33600], examples_per_second: 4264.5468, train_label_loss: 0.5152, \n"
     ]
    },
    {
     "name": "stdout",
     "output_type": "stream",
     "text": [
      "epoch: 1, [batch: 20160 / 33600], examples_per_second: 4769.7349, train_label_loss: 0.4358, \n"
     ]
    },
    {
     "name": "stdout",
     "output_type": "stream",
     "text": [
      "epoch: 1, [batch: 23520 / 33600], examples_per_second: 3894.1524, train_label_loss: 0.2947, \n"
     ]
    },
    {
     "name": "stdout",
     "output_type": "stream",
     "text": [
      "epoch: 1, [batch: 26880 / 33600], examples_per_second: 3893.2838, train_label_loss: 0.3679, \n"
     ]
    },
    {
     "name": "stdout",
     "output_type": "stream",
     "text": [
      "epoch: 1, [batch: 30240 / 33600], examples_per_second: 3907.5609, train_label_loss: 0.6849, \n"
     ]
    },
    {
     "name": "stdout",
     "output_type": "stream",
     "text": [
      "=============================================================\n",
      "epoch: 1, source_val_acc_label: 0.7669, target_val_acc_label: 0.7808, source_val_label_loss: 1.0252, target_val_label_loss: 192.0189, \n",
      "=============================================================\n"
     ]
    },
    {
     "name": "stdout",
     "output_type": "stream",
     "text": [
      "New best\n"
     ]
    },
    {
     "name": "stdout",
     "output_type": "stream",
     "text": [
      "epoch: 2, [batch: 1 / 33600], examples_per_second: 1.0078, train_label_loss: 0.5073, \n"
     ]
    },
    {
     "name": "stdout",
     "output_type": "stream",
     "text": [
      "epoch: 2, [batch: 3360 / 33600], examples_per_second: 3885.2569, train_label_loss: 0.3242, \n"
     ]
    },
    {
     "name": "stdout",
     "output_type": "stream",
     "text": [
      "epoch: 2, [batch: 6720 / 33600], examples_per_second: 4002.4581, train_label_loss: 0.4420, \n"
     ]
    },
    {
     "name": "stdout",
     "output_type": "stream",
     "text": [
      "epoch: 2, [batch: 10080 / 33600], examples_per_second: 3994.0421, train_label_loss: 0.3111, \n"
     ]
    },
    {
     "name": "stdout",
     "output_type": "stream",
     "text": [
      "epoch: 2, [batch: 13440 / 33600], examples_per_second: 3991.2059, train_label_loss: 0.3274, \n"
     ]
    },
    {
     "name": "stdout",
     "output_type": "stream",
     "text": [
      "epoch: 2, [batch: 16800 / 33600], examples_per_second: 4139.5820, train_label_loss: 0.4603, \n"
     ]
    },
    {
     "name": "stdout",
     "output_type": "stream",
     "text": [
      "epoch: 2, [batch: 20160 / 33600], examples_per_second: 4624.3642, train_label_loss: 0.8612, \n"
     ]
    },
    {
     "name": "stdout",
     "output_type": "stream",
     "text": [
      "epoch: 2, [batch: 23520 / 33600], examples_per_second: 3885.6818, train_label_loss: 0.2513, \n"
     ]
    },
    {
     "name": "stdout",
     "output_type": "stream",
     "text": [
      "epoch: 2, [batch: 26880 / 33600], examples_per_second: 3957.1172, train_label_loss: 0.2938, \n"
     ]
    },
    {
     "name": "stdout",
     "output_type": "stream",
     "text": [
      "epoch: 2, [batch: 30240 / 33600], examples_per_second: 3884.0772, train_label_loss: 0.4387, \n"
     ]
    },
    {
     "name": "stdout",
     "output_type": "stream",
     "text": [
      "=============================================================\n",
      "epoch: 2, source_val_acc_label: 0.8610, target_val_acc_label: 0.8365, source_val_label_loss: 0.3968, target_val_label_loss: 68.9877, \n",
      "=============================================================\n"
     ]
    },
    {
     "name": "stdout",
     "output_type": "stream",
     "text": [
      "New best\n"
     ]
    },
    {
     "name": "stdout",
     "output_type": "stream",
     "text": [
      "epoch: 3, [batch: 1 / 33600], examples_per_second: 1.0173, train_label_loss: 0.5292, \n"
     ]
    },
    {
     "name": "stdout",
     "output_type": "stream",
     "text": [
      "epoch: 3, [batch: 3360 / 33600], examples_per_second: 3844.9239, train_label_loss: 0.2856, \n"
     ]
    },
    {
     "name": "stdout",
     "output_type": "stream",
     "text": [
      "epoch: 3, [batch: 6720 / 33600], examples_per_second: 3858.4442, train_label_loss: 0.2698, \n"
     ]
    },
    {
     "name": "stdout",
     "output_type": "stream",
     "text": [
      "epoch: 3, [batch: 10080 / 33600], examples_per_second: 3919.2537, train_label_loss: 0.4770, \n"
     ]
    },
    {
     "name": "stdout",
     "output_type": "stream",
     "text": [
      "epoch: 3, [batch: 13440 / 33600], examples_per_second: 3974.1901, train_label_loss: 0.4067, \n"
     ]
    },
    {
     "name": "stdout",
     "output_type": "stream",
     "text": [
      "epoch: 3, [batch: 16800 / 33600], examples_per_second: 4138.2733, train_label_loss: 0.4791, \n"
     ]
    },
    {
     "name": "stdout",
     "output_type": "stream",
     "text": [
      "epoch: 3, [batch: 20160 / 33600], examples_per_second: 4794.7424, train_label_loss: 0.3846, \n"
     ]
    },
    {
     "name": "stdout",
     "output_type": "stream",
     "text": [
      "epoch: 3, [batch: 23520 / 33600], examples_per_second: 4028.3821, train_label_loss: 0.7841, \n"
     ]
    },
    {
     "name": "stdout",
     "output_type": "stream",
     "text": [
      "epoch: 3, [batch: 26880 / 33600], examples_per_second: 3841.6852, train_label_loss: 0.1189, \n"
     ]
    },
    {
     "name": "stdout",
     "output_type": "stream",
     "text": [
      "epoch: 3, [batch: 30240 / 33600], examples_per_second: 3902.3929, train_label_loss: 0.2978, \n"
     ]
    },
    {
     "name": "stdout",
     "output_type": "stream",
     "text": [
      "=============================================================\n",
      "epoch: 3, source_val_acc_label: 0.8687, target_val_acc_label: 0.8478, source_val_label_loss: 0.3809, target_val_label_loss: 82.5032, \n",
      "=============================================================\n"
     ]
    },
    {
     "name": "stdout",
     "output_type": "stream",
     "text": [
      "New best\n"
     ]
    },
    {
     "name": "stdout",
     "output_type": "stream",
     "text": [
      "epoch: 4, [batch: 1 / 33600], examples_per_second: 1.0204, train_label_loss: 0.2548, \n"
     ]
    },
    {
     "name": "stdout",
     "output_type": "stream",
     "text": [
      "epoch: 4, [batch: 3360 / 33600], examples_per_second: 3927.3768, train_label_loss: 0.3848, \n"
     ]
    },
    {
     "name": "stdout",
     "output_type": "stream",
     "text": [
      "epoch: 4, [batch: 6720 / 33600], examples_per_second: 3940.8961, train_label_loss: 0.6097, \n"
     ]
    },
    {
     "name": "stdout",
     "output_type": "stream",
     "text": [
      "epoch: 4, [batch: 10080 / 33600], examples_per_second: 3863.3096, train_label_loss: 0.2241, \n"
     ]
    },
    {
     "name": "stdout",
     "output_type": "stream",
     "text": [
      "epoch: 4, [batch: 13440 / 33600], examples_per_second: 3817.8310, train_label_loss: 0.2494, \n"
     ]
    },
    {
     "name": "stdout",
     "output_type": "stream",
     "text": [
      "epoch: 4, [batch: 16800 / 33600], examples_per_second: 4075.8010, train_label_loss: 0.2178, \n"
     ]
    },
    {
     "name": "stdout",
     "output_type": "stream",
     "text": [
      "epoch: 4, [batch: 20160 / 33600], examples_per_second: 4666.5439, train_label_loss: 0.0775, \n"
     ]
    },
    {
     "name": "stdout",
     "output_type": "stream",
     "text": [
      "epoch: 4, [batch: 23520 / 33600], examples_per_second: 4004.5720, train_label_loss: 0.1496, \n"
     ]
    },
    {
     "name": "stdout",
     "output_type": "stream",
     "text": [
      "epoch: 4, [batch: 26880 / 33600], examples_per_second: 4014.3629, train_label_loss: 0.2228, \n"
     ]
    },
    {
     "name": "stdout",
     "output_type": "stream",
     "text": [
      "epoch: 4, [batch: 30240 / 33600], examples_per_second: 4036.1569, train_label_loss: 0.5580, \n"
     ]
    },
    {
     "name": "stdout",
     "output_type": "stream",
     "text": [
      "=============================================================\n",
      "epoch: 4, source_val_acc_label: 0.8761, target_val_acc_label: 0.8530, source_val_label_loss: 0.3632, target_val_label_loss: 78.7677, \n",
      "=============================================================\n"
     ]
    },
    {
     "name": "stdout",
     "output_type": "stream",
     "text": [
      "New best\n"
     ]
    },
    {
     "name": "stdout",
     "output_type": "stream",
     "text": [
      "epoch: 5, [batch: 1 / 33600], examples_per_second: 1.0264, train_label_loss: 0.4026, \n"
     ]
    },
    {
     "name": "stdout",
     "output_type": "stream",
     "text": [
      "epoch: 5, [batch: 3360 / 33600], examples_per_second: 3985.1133, train_label_loss: 0.0964, \n"
     ]
    },
    {
     "name": "stdout",
     "output_type": "stream",
     "text": [
      "epoch: 5, [batch: 6720 / 33600], examples_per_second: 3948.7516, train_label_loss: 0.1335, \n"
     ]
    },
    {
     "name": "stdout",
     "output_type": "stream",
     "text": [
      "epoch: 5, [batch: 10080 / 33600], examples_per_second: 3901.5310, train_label_loss: 0.3025, \n"
     ]
    },
    {
     "name": "stdout",
     "output_type": "stream",
     "text": [
      "epoch: 5, [batch: 13440 / 33600], examples_per_second: 3867.1893, train_label_loss: 0.2688, \n"
     ]
    },
    {
     "name": "stdout",
     "output_type": "stream",
     "text": [
      "epoch: 5, [batch: 16800 / 33600], examples_per_second: 4063.7009, train_label_loss: 0.4015, \n"
     ]
    },
    {
     "name": "stdout",
     "output_type": "stream",
     "text": [
      "epoch: 5, [batch: 20160 / 33600], examples_per_second: 4380.9449, train_label_loss: 0.2184, \n"
     ]
    },
    {
     "name": "stdout",
     "output_type": "stream",
     "text": [
      "epoch: 5, [batch: 23520 / 33600], examples_per_second: 4383.2418, train_label_loss: 0.3061, \n"
     ]
    },
    {
     "name": "stdout",
     "output_type": "stream",
     "text": [
      "epoch: 5, [batch: 26880 / 33600], examples_per_second: 4247.1999, train_label_loss: 0.2819, \n"
     ]
    },
    {
     "name": "stdout",
     "output_type": "stream",
     "text": [
      "epoch: 5, [batch: 30240 / 33600], examples_per_second: 4211.4232, train_label_loss: 0.2323, \n"
     ]
    },
    {
     "name": "stdout",
     "output_type": "stream",
     "text": [
      "=============================================================\n",
      "epoch: 5, source_val_acc_label: 0.8806, target_val_acc_label: 0.8603, source_val_label_loss: 0.3335, target_val_label_loss: 71.4069, \n",
      "=============================================================\n"
     ]
    },
    {
     "name": "stdout",
     "output_type": "stream",
     "text": [
      "New best\n"
     ]
    },
    {
     "name": "stdout",
     "output_type": "stream",
     "text": [
      "epoch: 6, [batch: 1 / 33600], examples_per_second: 1.2998, train_label_loss: 0.2123, \n"
     ]
    },
    {
     "name": "stdout",
     "output_type": "stream",
     "text": [
      "epoch: 6, [batch: 3360 / 33600], examples_per_second: 5017.2054, train_label_loss: 0.1818, \n"
     ]
    },
    {
     "name": "stdout",
     "output_type": "stream",
     "text": [
      "epoch: 6, [batch: 6720 / 33600], examples_per_second: 5076.3135, train_label_loss: 0.2048, \n"
     ]
    },
    {
     "name": "stdout",
     "output_type": "stream",
     "text": [
      "epoch: 6, [batch: 10080 / 33600], examples_per_second: 5037.7604, train_label_loss: 0.4415, \n"
     ]
    },
    {
     "name": "stdout",
     "output_type": "stream",
     "text": [
      "epoch: 6, [batch: 13440 / 33600], examples_per_second: 5047.1822, train_label_loss: 0.5559, \n"
     ]
    },
    {
     "name": "stdout",
     "output_type": "stream",
     "text": [
      "epoch: 6, [batch: 16800 / 33600], examples_per_second: 5017.1725, train_label_loss: 0.1044, \n"
     ]
    },
    {
     "name": "stdout",
     "output_type": "stream",
     "text": [
      "epoch: 6, [batch: 20160 / 33600], examples_per_second: 4970.5129, train_label_loss: 0.2521, \n"
     ]
    },
    {
     "name": "stdout",
     "output_type": "stream",
     "text": [
      "epoch: 6, [batch: 23520 / 33600], examples_per_second: 4737.1437, train_label_loss: 0.2033, \n"
     ]
    },
    {
     "name": "stdout",
     "output_type": "stream",
     "text": [
      "epoch: 6, [batch: 26880 / 33600], examples_per_second: 3901.7771, train_label_loss: 0.1660, \n"
     ]
    },
    {
     "name": "stdout",
     "output_type": "stream",
     "text": [
      "epoch: 6, [batch: 30240 / 33600], examples_per_second: 3919.5180, train_label_loss: 0.1285, \n"
     ]
    },
    {
     "name": "stdout",
     "output_type": "stream",
     "text": [
      "=============================================================\n",
      "epoch: 6, source_val_acc_label: 0.8835, target_val_acc_label: 0.8589, source_val_label_loss: 0.3229, target_val_label_loss: 72.8774, \n",
      "=============================================================\n"
     ]
    },
    {
     "name": "stdout",
     "output_type": "stream",
     "text": [
      "epoch: 7, [batch: 1 / 33600], examples_per_second: 1.0215, train_label_loss: 0.3159, \n"
     ]
    },
    {
     "name": "stdout",
     "output_type": "stream",
     "text": [
      "epoch: 7, [batch: 3360 / 33600], examples_per_second: 3904.7196, train_label_loss: 0.2080, \n"
     ]
    },
    {
     "name": "stdout",
     "output_type": "stream",
     "text": [
      "epoch: 7, [batch: 6720 / 33600], examples_per_second: 4030.1926, train_label_loss: 0.0997, \n"
     ]
    },
    {
     "name": "stdout",
     "output_type": "stream",
     "text": [
      "epoch: 7, [batch: 10080 / 33600], examples_per_second: 3904.7777, train_label_loss: 0.1689, \n"
     ]
    },
    {
     "name": "stdout",
     "output_type": "stream",
     "text": [
      "epoch: 7, [batch: 13440 / 33600], examples_per_second: 3927.1523, train_label_loss: 0.0985, \n"
     ]
    },
    {
     "name": "stdout",
     "output_type": "stream",
     "text": [
      "epoch: 7, [batch: 16800 / 33600], examples_per_second: 3986.1489, train_label_loss: 0.4717, \n"
     ]
    },
    {
     "name": "stdout",
     "output_type": "stream",
     "text": [
      "epoch: 7, [batch: 20160 / 33600], examples_per_second: 4180.9013, train_label_loss: 0.1398, \n"
     ]
    },
    {
     "name": "stdout",
     "output_type": "stream",
     "text": [
      "epoch: 7, [batch: 23520 / 33600], examples_per_second: 4496.6145, train_label_loss: 0.1685, \n"
     ]
    },
    {
     "name": "stdout",
     "output_type": "stream",
     "text": [
      "epoch: 7, [batch: 26880 / 33600], examples_per_second: 3902.1445, train_label_loss: 0.0698, \n"
     ]
    },
    {
     "name": "stdout",
     "output_type": "stream",
     "text": [
      "epoch: 7, [batch: 30240 / 33600], examples_per_second: 3889.7178, train_label_loss: 0.2467, \n"
     ]
    },
    {
     "name": "stdout",
     "output_type": "stream",
     "text": [
      "=============================================================\n",
      "epoch: 7, source_val_acc_label: 0.8847, target_val_acc_label: 0.8636, source_val_label_loss: 0.3233, target_val_label_loss: 81.4557, \n",
      "=============================================================\n"
     ]
    },
    {
     "name": "stdout",
     "output_type": "stream",
     "text": [
      "New best\n"
     ]
    },
    {
     "name": "stdout",
     "output_type": "stream",
     "text": [
      "epoch: 8, [batch: 1 / 33600], examples_per_second: 1.0080, train_label_loss: 0.0850, \n"
     ]
    },
    {
     "name": "stdout",
     "output_type": "stream",
     "text": [
      "epoch: 8, [batch: 3360 / 33600], examples_per_second: 3829.1575, train_label_loss: 0.2208, \n"
     ]
    },
    {
     "name": "stdout",
     "output_type": "stream",
     "text": [
      "epoch: 8, [batch: 6720 / 33600], examples_per_second: 3874.2163, train_label_loss: 0.1567, \n"
     ]
    },
    {
     "name": "stdout",
     "output_type": "stream",
     "text": [
      "epoch: 8, [batch: 10080 / 33600], examples_per_second: 3889.5876, train_label_loss: 0.2796, \n"
     ]
    },
    {
     "name": "stdout",
     "output_type": "stream",
     "text": [
      "epoch: 8, [batch: 13440 / 33600], examples_per_second: 3914.4037, train_label_loss: 0.0610, \n"
     ]
    },
    {
     "name": "stdout",
     "output_type": "stream",
     "text": [
      "epoch: 8, [batch: 16800 / 33600], examples_per_second: 3885.0191, train_label_loss: 0.1124, \n"
     ]
    },
    {
     "name": "stdout",
     "output_type": "stream",
     "text": [
      "epoch: 8, [batch: 20160 / 33600], examples_per_second: 4132.5180, train_label_loss: 0.1555, \n"
     ]
    },
    {
     "name": "stdout",
     "output_type": "stream",
     "text": [
      "epoch: 8, [batch: 23520 / 33600], examples_per_second: 4491.2375, train_label_loss: 0.1847, \n"
     ]
    },
    {
     "name": "stdout",
     "output_type": "stream",
     "text": [
      "epoch: 8, [batch: 26880 / 33600], examples_per_second: 3919.2595, train_label_loss: 0.1233, \n"
     ]
    },
    {
     "name": "stdout",
     "output_type": "stream",
     "text": [
      "epoch: 8, [batch: 30240 / 33600], examples_per_second: 3953.0290, train_label_loss: 0.4659, \n"
     ]
    },
    {
     "name": "stdout",
     "output_type": "stream",
     "text": [
      "=============================================================\n",
      "epoch: 8, source_val_acc_label: 0.8893, target_val_acc_label: 0.8632, source_val_label_loss: 0.3139, target_val_label_loss: 88.7710, \n",
      "=============================================================\n"
     ]
    },
    {
     "name": "stdout",
     "output_type": "stream",
     "text": [
      "epoch: 9, [batch: 1 / 33600], examples_per_second: 1.0241, train_label_loss: 0.2889, \n"
     ]
    },
    {
     "name": "stdout",
     "output_type": "stream",
     "text": [
      "epoch: 9, [batch: 3360 / 33600], examples_per_second: 4016.8329, train_label_loss: 0.2648, \n"
     ]
    },
    {
     "name": "stdout",
     "output_type": "stream",
     "text": [
      "epoch: 9, [batch: 6720 / 33600], examples_per_second: 3990.3585, train_label_loss: 0.2344, \n"
     ]
    },
    {
     "name": "stdout",
     "output_type": "stream",
     "text": [
      "epoch: 9, [batch: 10080 / 33600], examples_per_second: 3954.4701, train_label_loss: 0.0435, \n"
     ]
    },
    {
     "name": "stdout",
     "output_type": "stream",
     "text": [
      "epoch: 9, [batch: 13440 / 33600], examples_per_second: 3966.7000, train_label_loss: 0.2329, \n"
     ]
    },
    {
     "name": "stdout",
     "output_type": "stream",
     "text": [
      "epoch: 9, [batch: 16800 / 33600], examples_per_second: 3903.5677, train_label_loss: 0.2719, \n"
     ]
    },
    {
     "name": "stdout",
     "output_type": "stream",
     "text": [
      "epoch: 9, [batch: 20160 / 33600], examples_per_second: 4163.4014, train_label_loss: 0.1364, \n"
     ]
    },
    {
     "name": "stdout",
     "output_type": "stream",
     "text": [
      "epoch: 9, [batch: 23520 / 33600], examples_per_second: 4434.7014, train_label_loss: 0.4112, \n"
     ]
    },
    {
     "name": "stdout",
     "output_type": "stream",
     "text": [
      "epoch: 9, [batch: 26880 / 33600], examples_per_second: 3945.7287, train_label_loss: 0.0276, \n"
     ]
    },
    {
     "name": "stdout",
     "output_type": "stream",
     "text": [
      "epoch: 9, [batch: 30240 / 33600], examples_per_second: 4004.7863, train_label_loss: 0.2135, \n"
     ]
    },
    {
     "name": "stdout",
     "output_type": "stream",
     "text": [
      "=============================================================\n",
      "epoch: 9, source_val_acc_label: 0.8908, target_val_acc_label: 0.8653, source_val_label_loss: 0.3147, target_val_label_loss: 103.3371, \n",
      "=============================================================\n"
     ]
    },
    {
     "name": "stdout",
     "output_type": "stream",
     "text": [
      "New best\n"
     ]
    },
    {
     "name": "stdout",
     "output_type": "stream",
     "text": [
      "epoch: 10, [batch: 1 / 33600], examples_per_second: 1.0242, train_label_loss: 0.2795, \n"
     ]
    },
    {
     "name": "stdout",
     "output_type": "stream",
     "text": [
      "epoch: 10, [batch: 3360 / 33600], examples_per_second: 3936.2582, train_label_loss: 0.1093, \n"
     ]
    },
    {
     "name": "stdout",
     "output_type": "stream",
     "text": [
      "epoch: 10, [batch: 6720 / 33600], examples_per_second: 3926.0485, train_label_loss: 0.0309, \n"
     ]
    },
    {
     "name": "stdout",
     "output_type": "stream",
     "text": [
      "epoch: 10, [batch: 10080 / 33600], examples_per_second: 3962.4283, train_label_loss: 0.1328, \n"
     ]
    },
    {
     "name": "stdout",
     "output_type": "stream",
     "text": [
      "epoch: 10, [batch: 13440 / 33600], examples_per_second: 3970.8990, train_label_loss: 0.0840, \n"
     ]
    },
    {
     "name": "stdout",
     "output_type": "stream",
     "text": [
      "epoch: 10, [batch: 16800 / 33600], examples_per_second: 3960.4459, train_label_loss: 0.3436, \n"
     ]
    },
    {
     "name": "stdout",
     "output_type": "stream",
     "text": [
      "epoch: 10, [batch: 20160 / 33600], examples_per_second: 4147.0984, train_label_loss: 0.3138, \n"
     ]
    },
    {
     "name": "stdout",
     "output_type": "stream",
     "text": [
      "epoch: 10, [batch: 23520 / 33600], examples_per_second: 4568.8626, train_label_loss: 0.0735, \n"
     ]
    },
    {
     "name": "stdout",
     "output_type": "stream",
     "text": [
      "epoch: 10, [batch: 26880 / 33600], examples_per_second: 3919.3667, train_label_loss: 0.1717, \n"
     ]
    },
    {
     "name": "stdout",
     "output_type": "stream",
     "text": [
      "epoch: 10, [batch: 30240 / 33600], examples_per_second: 3937.6195, train_label_loss: 0.1530, \n"
     ]
    },
    {
     "name": "stdout",
     "output_type": "stream",
     "text": [
      "=============================================================\n",
      "epoch: 10, source_val_acc_label: 0.8883, target_val_acc_label: 0.8630, source_val_label_loss: 0.3158, target_val_label_loss: 122.6772, \n",
      "=============================================================\n"
     ]
    },
    {
     "name": "stdout",
     "output_type": "stream",
     "text": [
      "epoch: 11, [batch: 1 / 33600], examples_per_second: 1.0160, train_label_loss: 0.0564, \n"
     ]
    },
    {
     "name": "stdout",
     "output_type": "stream",
     "text": [
      "epoch: 11, [batch: 3360 / 33600], examples_per_second: 3900.6412, train_label_loss: 0.2415, \n"
     ]
    },
    {
     "name": "stdout",
     "output_type": "stream",
     "text": [
      "epoch: 11, [batch: 6720 / 33600], examples_per_second: 4002.0577, train_label_loss: 0.1891, \n"
     ]
    },
    {
     "name": "stdout",
     "output_type": "stream",
     "text": [
      "epoch: 11, [batch: 10080 / 33600], examples_per_second: 3883.2182, train_label_loss: 0.1915, \n"
     ]
    },
    {
     "name": "stdout",
     "output_type": "stream",
     "text": [
      "epoch: 11, [batch: 13440 / 33600], examples_per_second: 3939.6912, train_label_loss: 0.0624, \n"
     ]
    },
    {
     "name": "stdout",
     "output_type": "stream",
     "text": [
      "epoch: 11, [batch: 16800 / 33600], examples_per_second: 3994.4090, train_label_loss: 0.2223, \n"
     ]
    },
    {
     "name": "stdout",
     "output_type": "stream",
     "text": [
      "epoch: 11, [batch: 20160 / 33600], examples_per_second: 4134.4057, train_label_loss: 0.1232, \n"
     ]
    },
    {
     "name": "stdout",
     "output_type": "stream",
     "text": [
      "epoch: 11, [batch: 23520 / 33600], examples_per_second: 4619.9350, train_label_loss: 0.2031, \n"
     ]
    },
    {
     "name": "stdout",
     "output_type": "stream",
     "text": [
      "epoch: 11, [batch: 26880 / 33600], examples_per_second: 3888.1829, train_label_loss: 0.1247, \n"
     ]
    },
    {
     "name": "stdout",
     "output_type": "stream",
     "text": [
      "epoch: 11, [batch: 30240 / 33600], examples_per_second: 3901.4950, train_label_loss: 0.1242, \n"
     ]
    },
    {
     "name": "stdout",
     "output_type": "stream",
     "text": [
      "=============================================================\n",
      "epoch: 11, source_val_acc_label: 0.8885, target_val_acc_label: 0.8589, source_val_label_loss: 0.3240, target_val_label_loss: 144.1470, \n",
      "=============================================================\n"
     ]
    },
    {
     "name": "stdout",
     "output_type": "stream",
     "text": [
      "epoch: 12, [batch: 1 / 33600], examples_per_second: 1.0259, train_label_loss: 0.1645, \n"
     ]
    },
    {
     "name": "stdout",
     "output_type": "stream",
     "text": [
      "epoch: 12, [batch: 3360 / 33600], examples_per_second: 3952.7612, train_label_loss: 0.0661, \n"
     ]
    },
    {
     "name": "stdout",
     "output_type": "stream",
     "text": [
      "epoch: 12, [batch: 6720 / 33600], examples_per_second: 4020.8876, train_label_loss: 0.0207, \n"
     ]
    },
    {
     "name": "stdout",
     "output_type": "stream",
     "text": [
      "epoch: 12, [batch: 10080 / 33600], examples_per_second: 3995.2429, train_label_loss: 0.3260, \n"
     ]
    },
    {
     "name": "stdout",
     "output_type": "stream",
     "text": [
      "epoch: 12, [batch: 13440 / 33600], examples_per_second: 3917.8380, train_label_loss: 0.0739, \n"
     ]
    },
    {
     "name": "stdout",
     "output_type": "stream",
     "text": [
      "epoch: 12, [batch: 16800 / 33600], examples_per_second: 3905.0052, train_label_loss: 0.2537, \n"
     ]
    },
    {
     "name": "stdout",
     "output_type": "stream",
     "text": [
      "epoch: 12, [batch: 20160 / 33600], examples_per_second: 4185.5645, train_label_loss: 0.1064, \n"
     ]
    },
    {
     "name": "stdout",
     "output_type": "stream",
     "text": [
      "epoch: 12, [batch: 23520 / 33600], examples_per_second: 4551.8499, train_label_loss: 0.2530, \n"
     ]
    },
    {
     "name": "stdout",
     "output_type": "stream",
     "text": [
      "epoch: 12, [batch: 26880 / 33600], examples_per_second: 3862.0371, train_label_loss: 0.4603, \n"
     ]
    },
    {
     "name": "stdout",
     "output_type": "stream",
     "text": [
      "epoch: 12, [batch: 30240 / 33600], examples_per_second: 3995.2004, train_label_loss: 0.3797, \n"
     ]
    },
    {
     "name": "stdout",
     "output_type": "stream",
     "text": [
      "=============================================================\n",
      "epoch: 12, source_val_acc_label: 0.8898, target_val_acc_label: 0.8606, source_val_label_loss: 0.3207, target_val_label_loss: 148.4289, \n",
      "=============================================================\n"
     ]
    },
    {
     "name": "stdout",
     "output_type": "stream",
     "text": [
      "epoch: 13, [batch: 1 / 33600], examples_per_second: 1.0293, train_label_loss: 0.0793, \n"
     ]
    },
    {
     "name": "stdout",
     "output_type": "stream",
     "text": [
      "epoch: 13, [batch: 3360 / 33600], examples_per_second: 3913.9592, train_label_loss: 0.0689, \n"
     ]
    },
    {
     "name": "stdout",
     "output_type": "stream",
     "text": [
      "epoch: 13, [batch: 6720 / 33600], examples_per_second: 3981.9732, train_label_loss: 0.2022, \n"
     ]
    },
    {
     "name": "stdout",
     "output_type": "stream",
     "text": [
      "epoch: 13, [batch: 10080 / 33600], examples_per_second: 3904.0066, train_label_loss: 0.0707, \n"
     ]
    },
    {
     "name": "stdout",
     "output_type": "stream",
     "text": [
      "epoch: 13, [batch: 13440 / 33600], examples_per_second: 3898.9684, train_label_loss: 0.2835, \n"
     ]
    },
    {
     "name": "stdout",
     "output_type": "stream",
     "text": [
      "epoch: 13, [batch: 16800 / 33600], examples_per_second: 3980.8148, train_label_loss: 0.0281, \n"
     ]
    },
    {
     "name": "stdout",
     "output_type": "stream",
     "text": [
      "epoch: 13, [batch: 20160 / 33600], examples_per_second: 4141.3530, train_label_loss: 0.2733, \n"
     ]
    },
    {
     "name": "stdout",
     "output_type": "stream",
     "text": [
      "epoch: 13, [batch: 23520 / 33600], examples_per_second: 4834.4032, train_label_loss: 0.2493, \n"
     ]
    },
    {
     "name": "stdout",
     "output_type": "stream",
     "text": [
      "epoch: 13, [batch: 26880 / 33600], examples_per_second: 3970.2772, train_label_loss: 0.1117, \n"
     ]
    },
    {
     "name": "stdout",
     "output_type": "stream",
     "text": [
      "epoch: 13, [batch: 30240 / 33600], examples_per_second: 3980.7933, train_label_loss: 0.0319, \n"
     ]
    },
    {
     "name": "stdout",
     "output_type": "stream",
     "text": [
      "=============================================================\n",
      "epoch: 13, source_val_acc_label: 0.8916, target_val_acc_label: 0.8609, source_val_label_loss: 0.3186, target_val_label_loss: 165.0928, \n",
      "=============================================================\n"
     ]
    },
    {
     "name": "stdout",
     "output_type": "stream",
     "text": [
      "Patience (3) exhausted\n"
     ]
    }
   ],
   "source": [
    "###################################\n",
    "# train\n",
    "###################################\n",
    "jig = PTN_Train_Eval_Test_Jig(model, p.BEST_MODEL_PATH, p.device)\n",
    "\n",
    "jig.train(\n",
    "    train_iterable=datasets.source.processed.train,\n",
    "    source_val_iterable=datasets.source.processed.val,\n",
    "    target_val_iterable=datasets.target.processed.val,\n",
    "    num_epochs=p.n_epoch,\n",
    "    num_logs_per_epoch=p.NUM_LOGS_PER_EPOCH,\n",
    "    patience=p.patience,\n",
    "    optimizer=optimizer,\n",
    "    criteria_for_best=p.criteria_for_best,\n",
    ")"
   ]
  },
  {
   "cell_type": "code",
   "execution_count": 23,
   "id": "31e8fabf",
   "metadata": {
    "execution": {
     "iopub.execute_input": "2022-03-23T15:07:12.729509Z",
     "iopub.status.busy": "2022-03-23T15:07:12.728951Z",
     "iopub.status.idle": "2022-03-23T15:07:12.758638Z",
     "shell.execute_reply": "2022-03-23T15:07:12.757829Z"
    },
    "papermill": {
     "duration": 0.098816,
     "end_time": "2022-03-23T15:07:12.758796",
     "exception": false,
     "start_time": "2022-03-23T15:07:12.659980",
     "status": "completed"
    },
    "tags": []
   },
   "outputs": [],
   "source": [
    "total_experiment_time_secs = time.time() - start_time_secs"
   ]
  },
  {
   "cell_type": "code",
   "execution_count": 24,
   "id": "87b9595b",
   "metadata": {
    "execution": {
     "iopub.execute_input": "2022-03-23T15:07:12.902483Z",
     "iopub.status.busy": "2022-03-23T15:07:12.901616Z",
     "iopub.status.idle": "2022-03-23T15:15:38.408990Z",
     "shell.execute_reply": "2022-03-23T15:15:38.408376Z"
    },
    "papermill": {
     "duration": 505.58022,
     "end_time": "2022-03-23T15:15:38.409143",
     "exception": false,
     "start_time": "2022-03-23T15:07:12.828923",
     "status": "completed"
    },
    "tags": []
   },
   "outputs": [],
   "source": [
    "###################################\n",
    "# Evaluate the model\n",
    "###################################\n",
    "source_test_label_accuracy, source_test_label_loss = jig.test(datasets.source.processed.test)\n",
    "target_test_label_accuracy, target_test_label_loss = jig.test(datasets.target.processed.test)\n",
    "\n",
    "source_val_label_accuracy, source_val_label_loss = jig.test(datasets.source.processed.val)\n",
    "target_val_label_accuracy, target_val_label_loss = jig.test(datasets.target.processed.val)\n",
    "\n",
    "history = jig.get_history()\n",
    "\n",
    "total_epochs_trained = len(history[\"epoch_indices\"])\n",
    "\n",
    "val_dl = Iterable_Aggregator((datasets.source.original.val,datasets.target.original.val))\n",
    "\n",
    "confusion = ptn_confusion_by_domain_over_dataloader(model, p.device, val_dl)\n",
    "per_domain_accuracy = per_domain_accuracy_from_confusion(confusion)\n",
    "\n",
    "# Add a key to per_domain_accuracy for if it was a source domain\n",
    "for domain, accuracy in per_domain_accuracy.items():\n",
    "    per_domain_accuracy[domain] = {\n",
    "        \"accuracy\": accuracy,\n",
    "        \"source?\": domain in p.domains_source\n",
    "    }\n",
    "\n",
    "# Do an independent accuracy assesment JUST TO BE SURE!\n",
    "# _source_test_label_accuracy = independent_accuracy_assesment(model, datasets.source.processed.test, p.device)\n",
    "# _target_test_label_accuracy = independent_accuracy_assesment(model, datasets.target.processed.test, p.device)\n",
    "# _source_val_label_accuracy = independent_accuracy_assesment(model, datasets.source.processed.val, p.device)\n",
    "# _target_val_label_accuracy = independent_accuracy_assesment(model, datasets.target.processed.val, p.device)\n",
    "\n",
    "# assert(_source_test_label_accuracy == source_test_label_accuracy)\n",
    "# assert(_target_test_label_accuracy == target_test_label_accuracy)\n",
    "# assert(_source_val_label_accuracy == source_val_label_accuracy)\n",
    "# assert(_target_val_label_accuracy == target_val_label_accuracy)\n",
    "\n",
    "experiment = {\n",
    "    \"experiment_name\": p.experiment_name,\n",
    "    \"parameters\": dict(p),\n",
    "    \"results\": {\n",
    "        \"source_test_label_accuracy\": source_test_label_accuracy,\n",
    "        \"source_test_label_loss\": source_test_label_loss,\n",
    "        \"target_test_label_accuracy\": target_test_label_accuracy,\n",
    "        \"target_test_label_loss\": target_test_label_loss,\n",
    "        \"source_val_label_accuracy\": source_val_label_accuracy,\n",
    "        \"source_val_label_loss\": source_val_label_loss,\n",
    "        \"target_val_label_accuracy\": target_val_label_accuracy,\n",
    "        \"target_val_label_loss\": target_val_label_loss,\n",
    "        \"total_epochs_trained\": total_epochs_trained,\n",
    "        \"total_experiment_time_secs\": total_experiment_time_secs,\n",
    "        \"confusion\": confusion,\n",
    "        \"per_domain_accuracy\": per_domain_accuracy,\n",
    "    },\n",
    "    \"history\": history,\n",
    "    \"dataset_metrics\": get_dataset_metrics(datasets, \"ptn\"),\n",
    "}"
   ]
  },
  {
   "cell_type": "code",
   "execution_count": 25,
   "id": "54a21829",
   "metadata": {
    "execution": {
     "iopub.execute_input": "2022-03-23T15:15:38.542735Z",
     "iopub.status.busy": "2022-03-23T15:15:38.542136Z",
     "iopub.status.idle": "2022-03-23T15:15:38.768180Z",
     "shell.execute_reply": "2022-03-23T15:15:38.767443Z"
    },
    "papermill": {
     "duration": 0.292565,
     "end_time": "2022-03-23T15:15:38.768335",
     "exception": false,
     "start_time": "2022-03-23T15:15:38.475770",
     "status": "completed"
    },
    "tags": []
   },
   "outputs": [
    {
     "data": {
      "image/png": "[encoded data removed]",
      "text/plain": [
       "<Figure size 1080x504 with 1 Axes>"
      ]
     },
     "metadata": {
      "needs_background": "light"
     },
     "output_type": "display_data"
    }
   ],
   "source": [
    "ax = get_loss_curve(experiment)\n",
    "plt.show()"
   ]
  },
  {
   "cell_type": "code",
   "execution_count": 26,
   "id": "fd8a0f60",
   "metadata": {
    "execution": {
     "iopub.execute_input": "2022-03-23T15:15:38.900878Z",
     "iopub.status.busy": "2022-03-23T15:15:38.900508Z",
     "iopub.status.idle": "2022-03-23T15:15:39.273541Z",
     "shell.execute_reply": "2022-03-23T15:15:39.274175Z"
    },
    "papermill": {
     "duration": 0.439097,
     "end_time": "2022-03-23T15:15:39.274360",
     "exception": false,
     "start_time": "2022-03-23T15:15:38.835263",
     "status": "completed"
    },
    "tags": []
   },
   "outputs": [
    {
     "data": {
      "text/plain": [
       "<AxesSubplot:title={'center':'Results'}>"
      ]
     },
     "execution_count": 26,
     "metadata": {},
     "output_type": "execute_result"
    },
    {
     "data": {
      "image/png": "[encoded data removed]",
      "text/plain": [
       "<Figure size 1080x504 with 1 Axes>"
      ]
     },
     "metadata": {
      "needs_background": "light"
     },
     "output_type": "display_data"
    }
   ],
   "source": [
    "get_results_table(experiment)"
   ]
  },
  {
   "cell_type": "code",
   "execution_count": 27,
   "id": "cf8dc689",
   "metadata": {
    "execution": {
     "iopub.execute_input": "2022-03-23T15:15:39.415929Z",
     "iopub.status.busy": "2022-03-23T15:15:39.415361Z",
     "iopub.status.idle": "2022-03-23T15:15:39.666644Z",
     "shell.execute_reply": "2022-03-23T15:15:39.667344Z"
    },
    "papermill": {
     "duration": 0.32242,
     "end_time": "2022-03-23T15:15:39.667581",
     "exception": false,
     "start_time": "2022-03-23T15:15:39.345161",
     "status": "completed"
    },
    "tags": []
   },
   "outputs": [
    {
     "data": {
      "text/plain": [
       "<AxesSubplot:title={'center':'Per Domain Validation Accuracy'}, xlabel='domain'>"
      ]
     },
     "execution_count": 27,
     "metadata": {},
     "output_type": "execute_result"
    },
    {
     "data": {
      "image/png": "[encoded data removed]",
      "text/plain": [
       "<Figure size 1080x504 with 1 Axes>"
      ]
     },
     "metadata": {
      "needs_background": "light"
     },
     "output_type": "display_data"
    }
   ],
   "source": [
    "get_domain_accuracies(experiment)"
   ]
  },
  {
   "cell_type": "code",
   "execution_count": 28,
   "id": "a74ae082",
   "metadata": {
    "execution": {
     "iopub.execute_input": "2022-03-23T15:15:39.807887Z",
     "iopub.status.busy": "2022-03-23T15:15:39.807491Z",
     "iopub.status.idle": "2022-03-23T15:15:39.830917Z",
     "shell.execute_reply": "2022-03-23T15:15:39.831223Z"
    },
    "papermill": {
     "duration": 0.093184,
     "end_time": "2022-03-23T15:15:39.831318",
     "exception": false,
     "start_time": "2022-03-23T15:15:39.738134",
     "status": "completed"
    },
    "tags": []
   },
   "outputs": [
    {
     "name": "stdout",
     "output_type": "stream",
     "text": [
      "Source Test Label Accuracy: 0.89037109375 Target Test Label Accuracy: 0.8657765737874097\n",
      "Source Val Label Accuracy: 0.89076171875 Target Val Label Accuracy: 0.8652674788135594\n"
     ]
    }
   ],
   "source": [
    "print(\"Source Test Label Accuracy:\", experiment[\"results\"][\"source_test_label_accuracy\"], \"Target Test Label Accuracy:\", experiment[\"results\"][\"target_test_label_accuracy\"])\n",
    "print(\"Source Val Label Accuracy:\", experiment[\"results\"][\"source_val_label_accuracy\"], \"Target Val Label Accuracy:\", experiment[\"results\"][\"target_val_label_accuracy\"])"
   ]
  },
  {
   "cell_type": "code",
   "execution_count": 29,
   "id": "dacca602",
   "metadata": {
    "execution": {
     "iopub.execute_input": "2022-03-23T15:15:39.968344Z",
     "iopub.status.busy": "2022-03-23T15:15:39.967978Z",
     "iopub.status.idle": "2022-03-23T15:15:39.987701Z",
     "shell.execute_reply": "2022-03-23T15:15:39.988008Z"
    },
    "papermill": {
     "duration": 0.090105,
     "end_time": "2022-03-23T15:15:39.988093",
     "exception": false,
     "start_time": "2022-03-23T15:15:39.897988",
     "status": "completed"
    },
    "tags": [
     "experiment_json"
    ]
   },
   "outputs": [
    {
     "data": {
      "text/plain": [
       "'{\"experiment_name\": \"tl_1v2:wisig-oracle.run1\", \"parameters\": {\"experiment_name\": \"tl_1v2:wisig-oracle.run1\", \"device\": \"cuda\", \"lr\": 0.0001, \"n_shot\": 3, \"n_query\": 2, \"train_k_factor\": 3, \"val_k_factor\": 2, \"test_k_factor\": 2, \"torch_default_dtype\": \"torch.float32\", \"n_epoch\": 50, \"patience\": 3, \"criteria_for_best\": \"target_accuracy\", \"x_net\": [{\"class\": \"nnReshape\", \"kargs\": {\"shape\": [-1, 1, 2, 256]}}, {\"class\": \"Conv2d\", \"kargs\": {\"in_channels\": 1, \"out_channels\": 256, \"kernel_size\": [1, 7], \"bias\": false, \"padding\": [0, 3]}}, {\"class\": \"ReLU\", \"kargs\": {\"inplace\": true}}, {\"class\": \"BatchNorm2d\", \"kargs\": {\"num_features\": 256}}, {\"class\": \"Conv2d\", \"kargs\": {\"in_channels\": 256, \"out_channels\": 80, \"kernel_size\": [2, 7], \"bias\": true, \"padding\": [0, 3]}}, {\"class\": \"ReLU\", \"kargs\": {\"inplace\": true}}, {\"class\": \"BatchNorm2d\", \"kargs\": {\"num_features\": 80}}, {\"class\": \"Flatten\", \"kargs\": {}}, {\"class\": \"Linear\", \"kargs\": {\"in_features\": 20480, \"out_features\": 256}}, {\"class\": \"ReLU\", \"kargs\": {\"inplace\": true}}, {\"class\": \"BatchNorm1d\", \"kargs\": {\"num_features\": 256}}, {\"class\": \"Linear\", \"kargs\": {\"in_features\": 256, \"out_features\": 256}}], \"NUM_LOGS_PER_EPOCH\": 10, \"BEST_MODEL_PATH\": \"./best_model.pth\", \"n_way\": 16, \"datasets\": [{\"labels\": [\"1-10\", \"1-12\", \"1-14\", \"1-16\", \"1-18\", \"1-19\", \"1-8\", \"10-11\", \"10-17\", \"10-4\", \"10-7\", \"11-1\", \"11-10\", \"11-19\", \"11-20\", \"11-4\", \"11-7\", \"12-19\", \"12-20\", \"12-7\", \"13-14\", \"13-18\", \"13-19\", \"13-20\", \"13-3\", \"13-7\", \"14-10\", \"14-11\", \"14-12\", \"14-13\", \"14-14\", \"14-19\", \"14-20\", \"14-7\", \"14-8\", \"14-9\", \"15-1\", \"15-19\", \"15-6\", \"16-1\", \"16-16\", \"16-19\", \"16-20\", \"17-10\", \"17-11\", \"18-1\", \"18-10\", \"18-11\", \"18-12\", \"18-13\", \"18-14\", \"18-15\", \"18-16\", \"18-17\", \"18-19\", \"18-2\", \"18-20\", \"18-4\", \"18-5\", \"18-7\", \"18-8\", \"18-9\", \"19-1\", \"19-10\", \"19-11\", \"19-12\", \"19-13\", \"19-14\", \"19-15\", \"19-19\", \"19-2\", \"19-20\", \"19-3\", \"19-4\", \"19-6\", \"19-7\", \"19-8\", \"19-9\", \"2-1\", \"2-13\", \"2-15\", \"2-3\", \"2-4\", \"2-5\", \"2-6\", \"2-7\", \"2-8\", \"20-1\", \"20-12\", \"20-14\", \"20-15\", \"20-16\", \"20-18\", \"20-19\", \"20-20\", \"20-3\", \"20-4\", \"20-5\", \"20-7\", \"20-8\", \"3-1\", \"3-13\", \"3-18\", \"3-2\", \"3-8\", \"4-1\", \"4-10\", \"4-11\", \"5-1\", \"5-5\", \"6-1\", \"6-15\", \"6-6\", \"7-10\", \"7-11\", \"7-12\", \"7-13\", \"7-14\", \"7-7\", \"7-8\", \"7-9\", \"8-1\", \"8-13\", \"8-14\", \"8-18\", \"8-20\", \"8-3\", \"8-8\", \"9-1\", \"9-7\"], \"domains\": [1, 2, 3, 4], \"num_examples_per_domain_per_label\": -1, \"pickle_path\": \"/root/csc500-main/datasets/wisig.node3-19.stratified_ds.2022A.pkl\", \"source_or_target_dataset\": \"target\", \"x_transforms\": [], \"episode_transforms\": [], \"domain_prefix\": \"Wisig_\"}, {\"labels\": [\"3123D52\", \"3123D65\", \"3123D79\", \"3123D80\", \"3123D54\", \"3123D70\", \"3123D7B\", \"3123D89\", \"3123D58\", \"3123D76\", \"3123D7D\", \"3123EFE\", \"3123D64\", \"3123D78\", \"3123D7E\", \"3124E4A\"], \"domains\": [32, 38, 8, 44, 14, 50, 20, 26], \"num_examples_per_domain_per_label\": 10000, \"pickle_path\": \"/root/csc500-main/datasets/oracle.Run1_10kExamples_stratified_ds.2022A.pkl\", \"source_or_target_dataset\": \"source\", \"x_transforms\": [], \"episode_transforms\": [], \"domain_prefix\": \"ORACLE.run1\"}], \"dataset_seed\": 1337, \"seed\": 1337, \"x_shape\": [2, 256], \"domains_source\": [\"ORACLE.run132\", \"ORACLE.run138\", \"ORACLE.run18\", \"ORACLE.run144\", \"ORACLE.run114\", \"ORACLE.run150\", \"ORACLE.run120\", \"ORACLE.run126\"], \"domains_target\": [\"Wisig_1\", \"Wisig_2\", \"Wisig_3\", \"Wisig_4\"]}, \"results\": {\"source_test_label_accuracy\": 0.89037109375, \"source_test_label_loss\": 0.32087618112564087, \"target_test_label_accuracy\": 0.8657765737874097, \"target_test_label_loss\": 102.0689926147461, \"source_val_label_accuracy\": 0.89076171875, \"source_val_label_loss\": 0.31469154357910156, \"target_val_label_accuracy\": 0.8652674788135594, \"target_val_label_loss\": 103.33712005615234, \"total_epochs_trained\": 13, \"total_experiment_time_secs\": 9766.860357046127, \"confusion\": {\"ORACLE.run114\": {\"15\": {\"15\": 1200}, \"3\": {\"3\": 1177, \"14\": 11, \"0\": 3, \"5\": 1, \"2\": 7, \"6\": 1}, \"6\": {\"6\": 857, \"13\": 275, \"2\": 19, \"14\": 49}, \"1\": {\"1\": 1200}, \"8\": {\"8\": 1200}, \"10\": {\"10\": 1199, \"0\": 1}, \"9\": {\"9\": 1200}, \"13\": {\"13\": 571, \"6\": 373, \"5\": 3, \"14\": 184, \"2\": 66, \"3\": 2, \"4\": 1}, \"12\": {\"12\": 1200}, \"5\": {\"5\": 1122, \"7\": 9, \"2\": 60, \"3\": 3, \"4\": 6}, \"0\": {\"3\": 21, \"0\": 1171, \"10\": 5, \"14\": 3}, \"2\": {\"2\": 841, \"13\": 50, \"5\": 130, \"14\": 79, \"4\": 24, \"3\": 24, \"6\": 51, \"7\": 1}, \"11\": {\"11\": 1200}, \"14\": {\"14\": 1052, \"6\": 31, \"13\": 82, \"3\": 9, \"2\": 26}, \"7\": {\"7\": 1190, \"5\": 10}, \"4\": {\"4\": 1176, \"2\": 8, \"5\": 15, \"1\": 1}}, \"ORACLE.run120\": {\"3\": {\"3\": 929, \"9\": 110, \"1\": 8, \"5\": 107, \"8\": 36, \"0\": 10}, \"15\": {\"15\": 998, \"12\": 122, \"1\": 62, \"9\": 6, \"2\": 9, \"13\": 3}, \"8\": {\"8\": 1129, \"14\": 33, \"3\": 38}, \"4\": {\"4\": 1171, \"12\": 20, \"7\": 4, \"2\": 5}, \"14\": {\"14\": 1174, \"8\": 26}, \"0\": {\"0\": 1140, \"5\": 37, \"3\": 16, \"1\": 1, \"8\": 6}, \"7\": {\"7\": 1071, \"4\": 4, \"2\": 58, \"6\": 6, \"9\": 60, \"12\": 1}, \"6\": {\"6\": 1192, \"7\": 7, \"14\": 1}, \"10\": {\"10\": 1199, \"4\": 1}, \"5\": {\"5\": 897, \"1\": 217, \"3\": 78, \"0\": 2, \"9\": 6}, \"2\": {\"7\": 93, \"2\": 935, \"12\": 136, \"13\": 12, \"9\": 14, \"15\": 7, \"4\": 3}, \"12\": {\"12\": 974, \"2\": 135, \"9\": 2, \"4\": 12, \"15\": 75, \"13\": 1, \"1\": 1}, \"9\": {\"9\": 1014, \"3\": 71, \"1\": 43, \"7\": 53, \"5\": 12, \"2\": 6, \"12\": 1}, \"1\": {\"1\": 922, \"9\": 38, \"5\": 215, \"3\": 13, \"15\": 12}, \"11\": {\"11\": 1200}, \"13\": {\"13\": 1180, \"12\": 10, \"2\": 9, \"15\": 1}}, \"ORACLE.run138\": {\"5\": {\"8\": 379, \"5\": 611, \"9\": 69, \"7\": 98, \"15\": 40, \"0\": 2, \"13\": 1}, \"8\": {\"8\": 716, \"5\": 364, \"7\": 88, \"0\": 13, \"15\": 11, \"13\": 8}, \"11\": {\"11\": 1200}, \"1\": {\"1\": 1200}, \"10\": {\"10\": 1117, \"0\": 28, \"13\": 53, \"4\": 2}, \"15\": {\"15\": 1146, \"8\": 23, \"5\": 27, \"1\": 3, \"12\": 1}, \"3\": {\"3\": 1200}, \"7\": {\"7\": 1178, \"8\": 5, \"5\": 6, \"0\": 9, \"9\": 2}, \"4\": {\"4\": 1196, \"10\": 3, \"0\": 1}, \"14\": {\"14\": 1129, \"2\": 70, \"13\": 1}, \"9\": {\"9\": 1182, \"5\": 17, \"8\": 1}, \"12\": {\"12\": 1199, \"8\": 1}, \"6\": {\"6\": 1200}, \"2\": {\"2\": 1149, \"14\": 50, \"13\": 1}, \"0\": {\"13\": 34, \"0\": 920, \"7\": 108, \"3\": 46, \"10\": 84, \"8\": 4, \"4\": 2, \"5\": 2}, \"13\": {\"13\": 1120, \"10\": 68, \"0\": 11, \"2\": 1}}, \"ORACLE.run18\": {\"9\": {\"9\": 1200}, \"10\": {\"10\": 1013, \"5\": 27, \"13\": 128, \"4\": 15, \"6\": 6, \"1\": 11}, \"13\": {\"13\": 1010, \"10\": 128, \"7\": 41, \"6\": 21}, \"0\": {\"0\": 1200}, \"1\": {\"1\": 1022, \"5\": 14, \"11\": 150, \"10\": 10, \"4\": 2, \"14\": 1, \"13\": 1}, \"15\": {\"15\": 1060, \"12\": 135, \"2\": 5}, \"5\": {\"5\": 1067, \"10\": 67, \"1\": 51, \"14\": 5, \"11\": 8, \"4\": 2}, \"3\": {\"3\": 1199, \"2\": 1}, \"6\": {\"6\": 1043, \"7\": 135, \"13\": 15, \"4\": 2, \"8\": 3, \"10\": 2}, \"11\": {\"14\": 27, \"11\": 775, \"1\": 374, \"8\": 14, \"5\": 4, \"6\": 3, \"4\": 3}, \"8\": {\"8\": 1190, \"6\": 10}, \"4\": {\"4\": 1174, \"10\": 1, \"1\": 3, \"6\": 4, \"14\": 17, \"11\": 1}, \"12\": {\"12\": 890, \"15\": 308, \"2\": 2}, \"14\": {\"14\": 1137, \"4\": 54, \"11\": 9}, \"2\": {\"2\": 1027, \"3\": 88, \"12\": 45, \"15\": 40}, \"7\": {\"7\": 1074, \"6\": 122, \"13\": 4}}, \"ORACLE.run150\": {\"7\": {\"7\": 1112, \"5\": 66, \"4\": 22}, \"3\": {\"3\": 1200}, \"8\": {\"8\": 1197, \"10\": 3}, \"2\": {\"2\": 1155, \"0\": 45}, \"14\": {\"14\": 1200}, \"4\": {\"4\": 1041, \"5\": 37, \"7\": 92, \"15\": 25, \"6\": 5}, \"6\": {\"6\": 1098, \"5\": 65, \"15\": 36, \"4\": 1}, \"15\": {\"15\": 1137, \"6\": 51, \"11\": 7, \"4\": 3, \"5\": 2}, \"10\": {\"10\": 1194, \"0\": 4, \"8\": 2}, \"11\": {\"11\": 1154, \"9\": 21, \"15\": 15, \"12\": 10}, \"13\": {\"13\": 1199, \"1\": 1}, \"9\": {\"9\": 1055, \"11\": 80, \"12\": 65}, \"0\": {\"0\": 1144, \"2\": 46, \"10\": 10}, \"1\": {\"1\": 1174, \"13\": 20, \"0\": 3, \"11\": 1, \"10\": 1, \"6\": 1}, \"12\": {\"12\": 1136, \"9\": 50, \"11\": 14}, \"5\": {\"6\": 216, \"5\": 645, \"7\": 242, \"13\": 22, \"4\": 63, \"15\": 8, \"1\": 4}}, \"ORACLE.run132\": {\"8\": {\"8\": 992, \"7\": 8, \"14\": 13, \"5\": 67, \"0\": 118, \"4\": 2}, \"14\": {\"14\": 882, \"7\": 227, \"2\": 20, \"0\": 36, \"8\": 16, \"5\": 18, \"4\": 1}, \"2\": {\"4\": 83, \"2\": 1115, \"0\": 1, \"14\": 1}, \"0\": {\"0\": 974, \"5\": 32, \"14\": 22, \"8\": 62, \"7\": 110}, \"1\": {\"1\": 1200}, \"10\": {\"10\": 1200}, \"11\": {\"11\": 1197, \"13\": 3}, \"5\": {\"5\": 767, \"8\": 107, \"0\": 76, \"7\": 214, \"14\": 36}, \"15\": {\"15\": 1193, \"8\": 6, \"5\": 1}, \"3\": {\"3\": 1153, \"13\": 47}, \"12\": {\"12\": 1200}, \"7\": {\"7\": 886, \"5\": 153, \"0\": 68, \"14\": 86, \"8\": 7}, \"13\": {\"13\": 973, \"3\": 89, \"11\": 20, \"4\": 118}, \"6\": {\"6\": 1200}, \"4\": {\"4\": 1077, \"2\": 105, \"13\": 18}, \"9\": {\"9\": 1190, \"12\": 6, \"2\": 4}}, \"ORACLE.run126\": {\"4\": {\"4\": 1196, \"3\": 4}, \"12\": {\"12\": 1200}, \"10\": {\"10\": 867, \"0\": 126, \"14\": 163, \"15\": 12, \"6\": 28, \"1\": 4}, \"0\": {\"0\": 870, \"14\": 97, \"10\": 186, \"15\": 6, \"2\": 2, \"8\": 32, \"1\": 2, \"7\": 4, \"9\": 1}, \"13\": {\"13\": 1111, \"2\": 31, \"9\": 41, \"3\": 13, \"4\": 3, \"8\": 1}, \"9\": {\"9\": 947, \"0\": 3, \"8\": 180, \"13\": 28, \"2\": 23, \"7\": 18, \"3\": 1}, \"3\": {\"3\": 1118, \"7\": 61, \"2\": 17, \"4\": 4}, \"2\": {\"2\": 855, \"9\": 62, \"3\": 99, \"7\": 131, \"13\": 7, \"8\": 35, \"0\": 10, \"14\": 1}, \"5\": {\"5\": 1058, \"15\": 132, \"6\": 10}, \"14\": {\"14\": 922, \"10\": 172, \"0\": 67, \"1\": 30, \"6\": 1, \"15\": 8}, \"8\": {\"8\": 896, \"7\": 162, \"2\": 9, \"9\": 131, \"0\": 1, \"3\": 1}, \"7\": {\"7\": 945, \"3\": 34, \"2\": 100, \"8\": 108, \"9\": 12, \"4\": 1}, \"6\": {\"6\": 1065, \"15\": 86, \"10\": 29, \"5\": 20}, \"11\": {\"11\": 1200}, \"15\": {\"15\": 821, \"6\": 122, \"5\": 210, \"10\": 32, \"14\": 4, \"0\": 7, \"1\": 4}, \"1\": {\"1\": 1008, \"14\": 132, \"10\": 38, \"6\": 12, \"5\": 4, \"15\": 5, \"0\": 1}}, \"ORACLE.run144\": {\"12\": {\"12\": 1174, \"3\": 26}, \"7\": {\"9\": 132, \"7\": 1053, \"10\": 13, \"6\": 2}, \"5\": {\"5\": 1081, \"14\": 34, \"15\": 67, \"0\": 3, \"4\": 7, \"8\": 8}, \"15\": {\"15\": 1065, \"14\": 69, \"5\": 37, \"0\": 6, \"8\": 20, \"4\": 3}, \"8\": {\"8\": 894, \"0\": 262, \"5\": 11, \"15\": 33}, \"2\": {\"2\": 1161, \"1\": 37, \"10\": 2}, \"13\": {\"13\": 1001, \"6\": 174, \"11\": 3, \"9\": 22}, \"4\": {\"4\": 857, \"14\": 332, \"9\": 2, \"15\": 4, \"13\": 4, \"5\": 1}, \"0\": {\"0\": 1002, \"8\": 197, \"15\": 1}, \"6\": {\"6\": 1011, \"13\": 139, \"9\": 45, \"7\": 5}, \"9\": {\"13\": 96, \"9\": 606, \"7\": 316, \"6\": 180, \"2\": 2}, \"11\": {\"11\": 1200}, \"10\": {\"10\": 1135, \"1\": 27, \"7\": 18, \"2\": 20}, \"14\": {\"14\": 928, \"5\": 42, \"4\": 191, \"15\": 39}, \"1\": {\"1\": 1138, \"2\": 62}, \"3\": {\"3\": 1171, \"12\": 29}}, \"Wisig_3\": {\"109\": {\"109\": 119, \"108\": 2, \"11\": 4, \"70\": 1, \"24\": 1, \"113\": 1}, \"127\": {\"127\": 119, \"88\": 1, \"7\": 5, \"69\": 1, \"71\": 1, \"105\": 1}, \"14\": {\"14\": 77, \"49\": 1, \"122\": 1, \"18\": 1}, \"7\": {\"7\": 104, \"71\": 1, \"106\": 2, \"12\": 2, \"88\": 1, \"0\": 2}, \"129\": {\"129\": 27, \"103\": 2, \"5\": 3}, \"57\": {\"57\": 15, \"34\": 1, \"46\": 1, \"128\": 1, \"129\": 1, \"105\": 1}, \"84\": {\"14\": 5, \"84\": 94, \"62\": 5, \"16\": 1, \"40\": 1, \"70\": 1, \"88\": 1}, \"114\": {\"114\": 113, \"107\": 1, \"90\": 1, \"1\": 5, \"64\": 1, \"105\": 2, \"113\": 1}, \"44\": {\"44\": 71, \"31\": 1}, \"21\": {\"21\": 38, \"43\": 2, \"88\": 1, \"39\": 3, \"129\": 1, \"108\": 2, \"94\": 1}, \"46\": {\"46\": 11, \"57\": 2, \"107\": 1, \"74\": 1, \"66\": 1}, \"100\": {\"100\": 11, \"107\": 2, \"44\": 1, \"28\": 1, \"1\": 1}, \"63\": {\"63\": 14, \"123\": 1, \"69\": 1}, \"24\": {\"24\": 42, \"27\": 4, \"10\": 1, \"36\": 1}, \"107\": {\"107\": 113, \"114\": 2, \"90\": 1, \"99\": 2}, \"35\": {\"127\": 2, \"35\": 9, \"27\": 1}, \"81\": {\"81\": 28, \"61\": 1, \"121\": 3}, \"64\": {\"64\": 18, \"2\": 1, \"13\": 1}, \"59\": {\"59\": 12}, \"33\": {\"33\": 110, \"117\": 1, \"18\": 2, \"90\": 1}, \"34\": {\"34\": 12, \"83\": 2, \"52\": 1, \"53\": 2, \"3\": 1, \"40\": 1, \"105\": 2, \"19\": 1, \"75\": 1, \"100\": 1, \"32\": 3, \"56\": 1, \"1\": 1, \"72\": 1, \"9\": 2}, \"36\": {\"36\": 110, \"30\": 5, \"24\": 1, \"27\": 2, \"125\": 1, \"111\": 1}, \"79\": {\"79\": 12}, \"80\": {\"80\": 16}, \"77\": {\"77\": 13, \"36\": 1, \"5\": 2}, \"22\": {\"22\": 11, \"116\": 3, \"129\": 2}, \"124\": {\"124\": 121, \"111\": 1, \"98\": 1, \"32\": 1}, \"2\": {\"2\": 24, \"117\": 4}, \"87\": {\"87\": 105, \"122\": 2, \"110\": 1, \"118\": 1, \"11\": 2, \"27\": 1}, \"105\": {\"105\": 110, \"3\": 8, \"114\": 1, \"107\": 2, \"99\": 1}, \"95\": {\"95\": 30, \"46\": 1, \"1\": 1}, \"43\": {\"43\": 49, \"11\": 2, \"88\": 1, \"78\": 1, \"118\": 1, \"109\": 2}, \"56\": {\"56\": 12}, \"18\": {\"18\": 119, \"26\": 2, \"1\": 1, \"21\": 1, \"11\": 1}, \"85\": {\"85\": 29, \"128\": 1, \"42\": 1, \"95\": 1, \"38\": 1, \"19\": 2, \"73\": 1}, \"113\": {\"113\": 115, \"26\": 1, \"108\": 1, \"43\": 2, \"118\": 1}, \"97\": {\"97\": 14, \"15\": 3, \"27\": 1, \"94\": 1, \"39\": 1}, \"86\": {\"59\": 2, \"86\": 21, \"84\": 1, \"48\": 2, \"111\": 1, \"127\": 1}, \"128\": {\"56\": 1, \"128\": 23, \"82\": 1, \"52\": 1, \"28\": 1, \"38\": 1, \"83\": 1, \"57\": 1, \"124\": 1, \"76\": 1}, \"123\": {\"123\": 13, \"67\": 2, \"63\": 1}, \"8\": {\"8\": 121, \"30\": 1, \"0\": 6, \"15\": 1, \"108\": 1}, \"110\": {\"110\": 68, \"88\": 1, \"118\": 6, \"78\": 1, \"11\": 2, \"44\": 1, \"111\": 1, \"42\": 1, \"122\": 2, \"108\": 1, \"87\": 2, \"39\": 1, \"8\": 2, \"126\": 1}, \"126\": {\"126\": 101, \"111\": 1, \"88\": 1, \"39\": 1}, \"42\": {\"42\": 14, \"48\": 1, \"41\": 1, \"50\": 1, \"91\": 1, \"58\": 3, \"115\": 2, \"65\": 1, \"5\": 1, \"20\": 1, \"95\": 1, \"129\": 1}, \"96\": {\"96\": 15, \"93\": 2, \"26\": 1, \"118\": 1, \"113\": 1}, \"83\": {\"114\": 1, \"14\": 1, \"83\": 15, \"71\": 1, \"127\": 1, \"112\": 2, \"51\": 1, \"12\": 1, \"105\": 1}, \"54\": {\"54\": 15, \"49\": 1}, \"65\": {\"68\": 1, \"121\": 1, \"56\": 2, \"65\": 3, \"49\": 1, \"55\": 1, \"52\": 1, \"112\": 1, \"64\": 1}, \"30\": {\"30\": 74, \"0\": 3, \"125\": 1, \"126\": 2, \"109\": 2, \"10\": 1, \"27\": 1}, \"121\": {\"121\": 25, \"11\": 3, \"90\": 1, \"21\": 1, \"81\": 1, \"109\": 1}, \"68\": {\"42\": 2, \"68\": 13, \"51\": 1}, \"45\": {\"65\": 2, \"45\": 13, \"66\": 1}, \"48\": {\"48\": 10, \"115\": 2, \"77\": 1, \"59\": 1, \"86\": 1, \"79\": 1}, \"4\": {\"4\": 92, \"125\": 2, \"39\": 1, \"87\": 1}, \"67\": {\"67\": 16}, \"103\": {\"103\": 11, \"50\": 3, \"86\": 1, \"5\": 1}, \"74\": {\"74\": 15, \"20\": 1}, \"1\": {\"1\": 98, \"71\": 1, \"40\": 6, \"105\": 1, \"27\": 2}, \"61\": {\"61\": 16}, \"101\": {\"101\": 41, \"106\": 2, \"8\": 2, \"109\": 1, \"118\": 1, \"94\": 1, \"12\": 2, \"7\": 2}, \"93\": {\"93\": 127, \"113\": 4, \"60\": 1, \"26\": 1, \"18\": 1, \"118\": 1, \"62\": 1, \"16\": 2}, \"26\": {\"26\": 130}, \"71\": {\"1\": 2, \"71\": 50, \"23\": 2, \"113\": 1, \"127\": 4, \"3\": 8, \"18\": 1}, \"15\": {\"15\": 101, \"97\": 1, \"126\": 1, \"113\": 1}, \"55\": {\"55\": 12, \"28\": 1, \"85\": 1, \"103\": 2}, \"104\": {\"104\": 10, \"5\": 3, \"48\": 1, \"86\": 1, \"41\": 1}, \"112\": {\"112\": 10, \"57\": 1, \"19\": 1, \"42\": 1, \"85\": 1, \"27\": 1, \"98\": 1}, \"102\": {\"102\": 122}, \"117\": {\"117\": 112}, \"119\": {\"119\": 11, \"102\": 1, \"120\": 1, \"64\": 1, \"13\": 1, \"129\": 1}, \"20\": {\"53\": 2, \"20\": 7, \"125\": 1, \"74\": 2, \"1\": 1, \"114\": 1, \"32\": 2}, \"120\": {\"64\": 1, \"120\": 15, \"119\": 1, \"81\": 2, \"82\": 1}, \"39\": {\"39\": 103, \"126\": 5}, \"49\": {\"49\": 12, \"8\": 3, \"122\": 1, \"110\": 1, \"7\": 1, \"93\": 1, \"14\": 3, \"62\": 1, \"12\": 1}, \"53\": {\"53\": 13, \"105\": 2, \"114\": 2, \"32\": 2, \"31\": 1}, \"92\": {\"92\": 27, \"39\": 1, \"89\": 2, \"31\": 2}, \"3\": {\"3\": 108, \"1\": 2, \"40\": 3, \"71\": 2, \"114\": 1}, \"47\": {\"47\": 12}, \"115\": {\"115\": 16}, \"58\": {\"58\": 13, \"112\": 1, \"34\": 1, \"25\": 1}, \"29\": {\"29\": 31, \"82\": 1}, \"12\": {\"12\": 104}, \"62\": {\"62\": 105, \"26\": 2, \"102\": 1, \"16\": 4, \"84\": 3, \"93\": 2, \"108\": 1}, \"11\": {\"11\": 137, \"16\": 1, \"109\": 2}, \"72\": {\"72\": 24, \"75\": 4}, \"98\": {\"98\": 104, \"34\": 2}, \"122\": {\"122\": 52, \"108\": 2, \"110\": 3, \"39\": 1, \"82\": 1, \"113\": 1}, \"17\": {\"11\": 2, \"80\": 1, \"17\": 3, \"118\": 2, \"63\": 1, \"126\": 1, \"86\": 1, \"68\": 1, \"104\": 1, \"117\": 1, \"22\": 1, \"119\": 1}, \"94\": {\"94\": 78, \"15\": 2, \"49\": 1, \"8\": 2, \"0\": 1}, \"106\": {\"106\": 82, \"126\": 1, \"15\": 2, \"94\": 4, \"88\": 1}, \"28\": {\"28\": 13, \"128\": 2, \"50\": 1}, \"69\": {\"69\": 68, \"88\": 1, \"1\": 4, \"113\": 1, \"14\": 3, \"114\": 1, \"33\": 2, \"87\": 1, \"27\": 1, \"70\": 1, \"11\": 1}, \"125\": {\"125\": 111, \"98\": 1, \"18\": 1, \"117\": 1}, \"19\": {\"19\": 15, \"66\": 1, \"52\": 2, \"95\": 2, \"34\": 2, \"32\": 1, \"85\": 1, \"100\": 1, \"44\": 1, \"98\": 1, \"56\": 2, \"89\": 2, \"107\": 1}, \"41\": {\"41\": 10, \"19\": 1, \"128\": 1, \"42\": 2, \"124\": 1, \"20\": 1}, \"60\": {\"60\": 25, \"62\": 2, \"93\": 1}, \"70\": {\"70\": 54, \"88\": 10, \"109\": 1, \"10\": 2, \"78\": 2, \"11\": 2, \"126\": 1}, \"27\": {\"27\": 83, \"36\": 2, \"108\": 2, \"24\": 4, \"30\": 3, \"10\": 1, \"6\": 1}, \"10\": {\"10\": 106, \"108\": 5, \"39\": 1, \"11\": 4, \"24\": 1, \"113\": 1}, \"108\": {\"108\": 124, \"10\": 11, \"39\": 1, \"109\": 2, \"27\": 1, \"126\": 1}, \"9\": {\"9\": 28, \"38\": 1, \"34\": 3}, \"25\": {\"25\": 14, \"66\": 1, \"39\": 1}, \"37\": {\"37\": 13, \"73\": 1, \"77\": 1, \"42\": 1}, \"0\": {\"0\": 113, \"8\": 2, \"106\": 1}, \"66\": {\"66\": 7, \"128\": 3, \"85\": 1, \"91\": 1, \"77\": 1, \"46\": 1, \"45\": 1, \"38\": 1}, \"51\": {\"51\": 12, \"127\": 2, \"83\": 1, \"54\": 1}, \"76\": {\"76\": 15, \"53\": 1}, \"32\": {\"32\": 26, \"64\": 1, \"107\": 2, \"28\": 2, \"19\": 1}, \"88\": {\"88\": 108, \"70\": 4}, \"31\": {\"31\": 15, \"44\": 2, \"29\": 1, \"3\": 1, \"50\": 1}, \"91\": {\"91\": 17, \"42\": 1, \"85\": 1, \"73\": 1, \"52\": 3, \"111\": 1}, \"90\": {\"90\": 126}, \"13\": {\"13\": 8, \"102\": 3, \"36\": 1, \"116\": 1, \"119\": 1, \"79\": 1, \"118\": 1}, \"50\": {\"50\": 12, \"48\": 1, \"19\": 1, \"100\": 1, \"22\": 1}, \"78\": {\"78\": 11, \"109\": 1, \"70\": 2, \"11\": 2}, \"116\": {\"116\": 27, \"13\": 1}, \"5\": {\"5\": 107, \"39\": 1, \"42\": 1, \"129\": 1, \"111\": 1, \"43\": 1}, \"75\": {\"75\": 16}, \"89\": {\"89\": 22, \"28\": 1, \"90\": 1, \"76\": 1, \"82\": 2, \"29\": 1}, \"16\": {\"16\": 105, \"23\": 4, \"39\": 1, \"93\": 3, \"27\": 1, \"110\": 1, \"113\": 1}, \"38\": {\"1\": 1, \"19\": 1, \"38\": 11, \"53\": 2, \"45\": 1}, \"118\": {\"118\": 96, \"24\": 1, \"113\": 2, \"126\": 1}, \"99\": {\"32\": 1, \"99\": 24, \"127\": 2, \"3\": 2, \"106\": 1, \"47\": 1, \"1\": 1, \"34\": 1, \"114\": 1, \"71\": 1, \"105\": 1}, \"52\": {\"52\": 12, \"9\": 2, \"128\": 1, \"34\": 1}, \"111\": {\"111\": 119, \"124\": 4, \"5\": 4, \"68\": 1}, \"23\": {\"93\": 3, \"12\": 1, \"23\": 6, \"18\": 2, \"8\": 2, \"113\": 2, \"122\": 5, \"0\": 2, \"26\": 3, \"15\": 1, \"108\": 1, \"110\": 1, \"30\": 2, \"11\": 1}, \"73\": {\"73\": 32, \"9\": 3, \"98\": 1, \"6\": 1, \"34\": 1, \"85\": 1, \"71\": 1}, \"82\": {\"82\": 23, \"29\": 1, \"39\": 1, \"90\": 2, \"21\": 1}, \"40\": {\"40\": 92, \"53\": 2, \"14\": 4, \"114\": 6, \"1\": 12, \"107\": 4, \"62\": 2, \"88\": 2, \"69\": 2, \"105\": 1, \"71\": 1}, \"6\": {\"6\": 26, \"42\": 1, \"111\": 4, \"58\": 1}}, \"Wisig_4\": {\"28\": {\"28\": 18, \"19\": 1, \"100\": 1}, \"4\": {\"4\": 98, \"10\": 1, \"27\": 1, \"86\": 2, \"24\": 1, \"125\": 1}, \"72\": {\"14\": 1, \"72\": 21, \"83\": 1, \"71\": 1, \"3\": 4, \"7\": 1, \"51\": 1, \"45\": 1, \"99\": 1}, \"111\": {\"111\": 126, \"24\": 1, \"124\": 3, \"105\": 2, \"129\": 1, \"126\": 1, \"0\": 1, \"10\": 1}, \"108\": {\"108\": 65, \"109\": 10, \"122\": 1, \"94\": 1, \"27\": 1, \"98\": 1, \"70\": 6, \"126\": 1, \"39\": 1, \"88\": 2, \"43\": 2, \"101\": 1}, \"43\": {\"43\": 107, \"108\": 2, \"122\": 2, \"118\": 2, \"109\": 4, \"113\": 1, \"127\": 1, \"87\": 1}, \"96\": {\"11\": 1, \"96\": 12, \"14\": 3, \"93\": 1, \"118\": 3}, \"89\": {\"89\": 24, \"85\": 4, \"88\": 1, \"27\": 1, \"33\": 1, \"32\": 1}, \"31\": {\"28\": 1, \"31\": 9, \"83\": 1, \"19\": 1, \"90\": 2, \"74\": 1, \"73\": 1}, \"45\": {\"45\": 8, \"28\": 1, \"19\": 1, \"64\": 2, \"82\": 1, \"120\": 1, \"89\": 1, \"32\": 1}, \"2\": {\"2\": 27, \"117\": 1}, \"114\": {\"114\": 106, \"108\": 1, \"1\": 4, \"95\": 2, \"107\": 5, \"52\": 1, \"5\": 2, \"40\": 5, \"44\": 1, \"88\": 1}, \"11\": {\"11\": 121, \"96\": 1, \"118\": 4, \"110\": 2, \"87\": 5, \"113\": 1, \"7\": 1, \"60\": 1}, \"12\": {\"12\": 88, \"11\": 2, \"126\": 1, \"106\": 3, \"74\": 1, \"15\": 1, \"7\": 3, \"127\": 1}, \"14\": {\"14\": 98, \"99\": 1, \"109\": 1, \"105\": 2, \"3\": 3, \"7\": 1, \"49\": 2, \"71\": 2, \"1\": 2}, \"90\": {\"90\": 152, \"57\": 1, \"117\": 1}, \"10\": {\"10\": 100, \"43\": 2, \"24\": 8, \"70\": 7, \"88\": 2, \"27\": 2, \"109\": 1}, \"63\": {\"123\": 1, \"63\": 15}, \"85\": {\"85\": 24, \"100\": 2, \"78\": 1, \"98\": 1}, \"64\": {\"64\": 12, \"11\": 1, \"45\": 1, \"126\": 1, \"33\": 1}, \"82\": {\"85\": 2, \"107\": 1, \"9\": 1, \"28\": 1, \"32\": 1, \"55\": 1, \"73\": 1, \"82\": 17, \"120\": 1, \"45\": 1, \"33\": 2, \"129\": 1, \"89\": 2}, \"58\": {\"82\": 2, \"58\": 13, \"27\": 1}, \"3\": {\"3\": 115, \"118\": 1, \"40\": 2, \"21\": 2, \"114\": 3, \"49\": 1, \"99\": 1, \"105\": 3, \"71\": 2, \"34\": 1, \"88\": 1, \"1\": 2, \"69\": 1, \"27\": 1}, \"54\": {\"58\": 2, \"54\": 12, \"47\": 1, \"95\": 1}, \"121\": {\"121\": 29, \"33\": 2, \"32\": 1}, \"42\": {\"82\": 2, \"129\": 1, \"54\": 1, \"22\": 5, \"42\": 7, \"75\": 3, \"29\": 2, \"89\": 1, \"98\": 2, \"58\": 1, \"67\": 2, \"102\": 1}, \"98\": {\"98\": 104, \"85\": 1, \"89\": 1, \"121\": 2, \"128\": 1, \"44\": 1, \"126\": 1, \"95\": 1, \"112\": 2, \"19\": 1, \"25\": 1, \"82\": 1, \"120\": 1, \"107\": 2}, \"123\": {\"123\": 16}, \"91\": {\"91\": 21, \"42\": 1, \"77\": 1, \"68\": 1}, \"83\": {\"85\": 2, \"36\": 1, \"114\": 2, \"83\": 11, \"40\": 2, \"3\": 1, \"46\": 1, \"49\": 1, \"99\": 1, \"32\": 1, \"107\": 2, \"10\": 1, \"1\": 1, \"5\": 1}, \"99\": {\"7\": 2, \"3\": 8, \"69\": 1, \"72\": 2, \"99\": 23, \"74\": 1, \"14\": 2, \"89\": 1}, \"112\": {\"85\": 1, \"112\": 10, \"89\": 1, \"91\": 1, \"95\": 1, \"41\": 1, \"119\": 1}, \"119\": {\"119\": 13, \"67\": 2, \"116\": 1}, \"70\": {\"70\": 103, \"27\": 4, \"87\": 1, \"39\": 2, \"88\": 5, \"10\": 2, \"114\": 1, \"126\": 1, \"73\": 1, \"24\": 1, \"108\": 3}, \"20\": {\"99\": 2, \"5\": 2, \"20\": 10, \"36\": 1, \"92\": 1}, \"120\": {\"120\": 12, \"55\": 2, \"89\": 2, \"52\": 2, \"112\": 2}, \"7\": {\"7\": 116, \"114\": 1, \"12\": 2, \"108\": 1, \"60\": 3, \"78\": 1}, \"60\": {\"60\": 25, \"118\": 2, \"69\": 1, \"62\": 3, \"7\": 1}, \"113\": {\"113\": 116, \"24\": 2}, \"37\": {\"37\": 14, \"11\": 1, \"109\": 1}, \"124\": {\"124\": 109, \"17\": 1}, \"27\": {\"27\": 78, \"97\": 1, \"43\": 2, \"24\": 3, \"10\": 8, \"0\": 1, \"126\": 2, \"36\": 2, \"70\": 1, \"108\": 2}, \"86\": {\"86\": 28}, \"127\": {\"127\": 89, \"12\": 2, \"88\": 1, \"113\": 1, \"1\": 2, \"126\": 1, \"71\": 4, \"39\": 2, \"122\": 1, \"101\": 1, \"14\": 1, \"114\": 3}, \"62\": {\"62\": 45, \"113\": 1, \"88\": 1, \"93\": 4, \"122\": 2, \"108\": 1, \"16\": 2, \"15\": 1, \"109\": 1, \"7\": 2}, \"122\": {\"122\": 46, \"109\": 1, \"87\": 9, \"0\": 2, \"110\": 13, \"11\": 2, \"118\": 7, \"117\": 1, \"88\": 1, \"62\": 2}, \"51\": {\"127\": 2, \"85\": 1, \"30\": 1, \"21\": 1, \"51\": 3, \"53\": 2, \"128\": 1, \"97\": 1, \"62\": 1, \"95\": 1, \"34\": 1, \"24\": 1}, \"109\": {\"109\": 112, \"108\": 1, \"110\": 1}, \"106\": {\"106\": 92, \"39\": 1, \"15\": 2, \"88\": 2, \"114\": 2, \"12\": 4, \"101\": 2, \"109\": 2, \"78\": 2, \"127\": 2, \"126\": 1, \"7\": 2}, \"94\": {\"94\": 79, \"118\": 1, \"30\": 3, \"93\": 1, \"113\": 1, \"15\": 3}, \"38\": {\"38\": 15, \"33\": 1}, \"129\": {\"42\": 2, \"129\": 20, \"116\": 1, \"59\": 1, \"124\": 2, \"50\": 2}, \"116\": {\"116\": 27, \"48\": 1}, \"107\": {\"107\": 114, \"5\": 2, \"114\": 2}, \"30\": {\"101\": 2, \"30\": 65, \"36\": 5, \"39\": 1, \"10\": 1, \"118\": 1, \"126\": 1}, \"102\": {\"102\": 130, \"117\": 1, \"15\": 1}, \"74\": {\"74\": 12, \"44\": 2, \"19\": 2}, \"101\": {\"101\": 123, \"94\": 2, \"62\": 1, \"24\": 1, \"122\": 1, \"12\": 2, \"8\": 2}, \"117\": {\"117\": 117, \"30\": 1, \"88\": 1, \"24\": 1, \"90\": 3, \"63\": 1}, \"1\": {\"1\": 70, \"40\": 5, \"3\": 2, \"95\": 3, \"99\": 4, \"43\": 2, \"88\": 2, \"24\": 2, \"84\": 1, \"105\": 4, \"98\": 2, \"71\": 5, \"21\": 1, \"126\": 1, \"5\": 2, \"107\": 2}, \"84\": {\"84\": 112, \"5\": 2, \"0\": 1, \"49\": 1, \"69\": 4, \"109\": 1, \"16\": 2, \"10\": 1, \"26\": 3, \"14\": 3, \"126\": 1, \"88\": 1}, \"17\": {\"17\": 16, \"104\": 2, \"86\": 2}, \"6\": {\"17\": 2, \"6\": 19, \"91\": 1, \"111\": 1, \"124\": 1}, \"110\": {\"110\": 102, \"118\": 7, \"122\": 3, \"87\": 3, \"11\": 3, \"24\": 1, \"88\": 1, \"43\": 2, \"93\": 2}, \"77\": {\"77\": 12}, \"8\": {\"8\": 116, \"109\": 1, \"0\": 2, \"15\": 3, \"94\": 2, \"36\": 2, \"43\": 2, \"30\": 2, \"101\": 1, \"70\": 1}, \"73\": {\"57\": 2, \"40\": 2, \"73\": 9, \"124\": 1, \"19\": 1, \"10\": 1, \"92\": 2, \"6\": 1, \"31\": 2, \"46\": 1, \"120\": 1, \"45\": 1}, \"126\": {\"126\": 117, \"39\": 3, \"113\": 1, \"24\": 1, \"88\": 1, \"108\": 1}, \"57\": {\"57\": 13, \"83\": 1, \"121\": 1, \"90\": 1}, \"95\": {\"95\": 25, \"39\": 1, \"99\": 1, \"52\": 1, \"34\": 1, \"3\": 1, \"1\": 1, \"105\": 1}, \"103\": {\"103\": 7, \"91\": 2, \"68\": 1, \"47\": 2, \"29\": 2, \"124\": 1, \"17\": 1}, \"97\": {\"97\": 17, \"111\": 1, \"27\": 1, \"29\": 1}, \"39\": {\"126\": 3, \"39\": 90, \"24\": 1, \"10\": 1, \"21\": 2, \"108\": 1, \"109\": 2}, \"100\": {\"83\": 1, \"114\": 3, \"20\": 2, \"82\": 2, \"100\": 4, \"85\": 1, \"46\": 2, \"32\": 2, \"72\": 1, \"107\": 2}, \"40\": {\"40\": 100, \"3\": 2, \"1\": 4, \"109\": 1, \"5\": 1, \"105\": 1, \"107\": 1}, \"36\": {\"36\": 112, \"94\": 1, \"10\": 1, \"27\": 3, \"30\": 5, \"24\": 1, \"15\": 2, \"21\": 1}, \"19\": {\"56\": 2, \"121\": 1, \"107\": 2, \"120\": 1, \"19\": 9, \"73\": 2, \"75\": 1, \"128\": 1, \"32\": 1, \"41\": 2, \"98\": 4, \"38\": 1, \"74\": 1}, \"118\": {\"122\": 1, \"118\": 95, \"110\": 7, \"11\": 2, \"27\": 1, \"87\": 4, \"108\": 1, \"127\": 1}, \"56\": {\"56\": 9, \"41\": 2, \"86\": 1}, \"26\": {\"26\": 125, \"10\": 1}, \"5\": {\"5\": 124, \"95\": 1, \"3\": 3, \"105\": 1, \"69\": 1, \"117\": 1, \"40\": 3, \"114\": 1, \"108\": 1}, \"21\": {\"21\": 32, \"113\": 2, \"78\": 2, \"39\": 2, \"122\": 2}, \"22\": {\"22\": 15, \"36\": 1}, \"68\": {\"103\": 2, \"68\": 14}, \"9\": {\"106\": 2, \"9\": 20, \"52\": 2, \"21\": 2, \"51\": 2}, \"66\": {\"66\": 11, \"50\": 1, \"116\": 2, \"90\": 1, \"28\": 1}, \"87\": {\"87\": 118, \"110\": 2, \"0\": 1, \"11\": 2, \"109\": 1}, \"71\": {\"71\": 93, \"10\": 1, \"14\": 1, \"114\": 2, \"3\": 1, \"69\": 1, \"1\": 1, \"21\": 1, \"39\": 1, \"105\": 2}, \"115\": {\"17\": 2, \"115\": 9, \"104\": 1, \"13\": 1, \"79\": 1, \"116\": 2}, \"23\": {\"68\": 1, \"97\": 1, \"23\": 2, \"21\": 1, \"113\": 2, \"101\": 1, \"62\": 1, \"20\": 1, \"122\": 1, \"10\": 2, \"16\": 1, \"11\": 2}, \"33\": {\"33\": 112, \"83\": 2, \"0\": 1, \"5\": 2, \"90\": 1}, \"35\": {\"35\": 9, \"70\": 1, \"81\": 2}, \"125\": {\"125\": 127, \"90\": 2, \"117\": 1, \"40\": 1, \"10\": 1}, \"47\": {\"47\": 12}, \"79\": {\"79\": 14, \"48\": 1, \"115\": 1}, \"53\": {\"53\": 12, \"46\": 1, \"44\": 1, \"127\": 1, \"34\": 1}, \"67\": {\"67\": 9, \"64\": 1, \"61\": 1, \"116\": 1, \"123\": 1, \"73\": 1, \"8\": 1, \"82\": 1}, \"80\": {\"80\": 16}, \"105\": {\"105\": 78, \"88\": 1, \"78\": 1, \"10\": 1, \"3\": 4, \"1\": 1, \"71\": 4, \"40\": 2, \"124\": 1, \"96\": 1, \"83\": 2, \"70\": 1, \"102\": 1, \"14\": 2}, \"76\": {\"76\": 12, \"46\": 3, \"71\": 1}, \"46\": {\"100\": 2, \"32\": 1, \"46\": 11, \"50\": 1, \"107\": 2, \"129\": 1, \"114\": 2}, \"34\": {\"100\": 2, \"71\": 1, \"34\": 14, \"127\": 1, \"3\": 2, \"49\": 2, \"107\": 1, \"1\": 2, \"53\": 1, \"51\": 1, \"20\": 1, \"52\": 1, \"54\": 2, \"114\": 1}, \"32\": {\"32\": 15, \"46\": 3, \"82\": 1, \"128\": 1, \"114\": 1, \"33\": 2, \"3\": 1, \"31\": 1, \"89\": 2, \"107\": 1}, \"13\": {\"13\": 13, \"57\": 1, \"42\": 1, \"66\": 1}, \"78\": {\"78\": 26, \"10\": 3, \"88\": 4, \"109\": 1, \"126\": 1, \"113\": 1}, \"41\": {\"41\": 16}, \"69\": {\"3\": 4, \"69\": 112, \"88\": 1, \"84\": 2, \"114\": 2, \"99\": 2, \"78\": 1, \"70\": 1, \"27\": 1, \"14\": 1, \"40\": 1}, \"88\": {\"88\": 114, \"108\": 2, \"78\": 2, \"27\": 1, \"117\": 1, \"70\": 7, \"21\": 2, \"126\": 1, \"10\": 1, \"90\": 1}, \"15\": {\"15\": 119, \"94\": 1, \"24\": 2, \"126\": 1, \"0\": 1, \"10\": 1, \"21\": 1, \"8\": 2}, \"61\": {\"74\": 2, \"61\": 11, \"48\": 2, \"18\": 1}, \"0\": {\"0\": 87, \"27\": 3, \"87\": 5, \"15\": 5, \"94\": 2, \"30\": 1, \"8\": 7, \"126\": 1, \"97\": 2, \"113\": 2, \"108\": 1}, \"104\": {\"17\": 1, \"104\": 12, \"73\": 2, \"91\": 1}, \"48\": {\"48\": 5, \"116\": 2, \"123\": 2, \"102\": 2, \"65\": 1, \"119\": 1, \"98\": 1, \"117\": 2}, \"25\": {\"25\": 15, \"9\": 1}, \"75\": {\"75\": 14, \"77\": 2}, \"81\": {\"81\": 31, \"33\": 1, \"10\": 1, \"18\": 2, \"117\": 1}, \"50\": {\"50\": 12, \"22\": 1, \"86\": 1, \"119\": 1, \"104\": 1}, \"52\": {\"51\": 1, \"52\": 13, \"95\": 2, \"5\": 1, \"46\": 1, \"9\": 1, \"89\": 1}, \"16\": {\"16\": 112, \"84\": 1, \"10\": 1, \"26\": 5, \"114\": 1}, \"44\": {\"44\": 57, \"121\": 1, \"18\": 2, \"84\": 2, \"5\": 2}, \"29\": {\"29\": 29, \"21\": 1, \"98\": 1, \"36\": 1}, \"93\": {\"93\": 119, \"62\": 1, \"114\": 1, \"11\": 2, \"113\": 1}, \"18\": {\"18\": 112, \"81\": 2}, \"49\": {\"49\": 10, \"18\": 1, \"69\": 2, \"127\": 3, \"99\": 3, \"84\": 2, \"20\": 2, \"34\": 2, \"101\": 1, \"100\": 1, \"3\": 3, \"14\": 2}, \"55\": {\"55\": 13, \"17\": 2, \"41\": 1}, \"59\": {\"59\": 9, \"124\": 2, \"21\": 1}, \"128\": {\"128\": 12, \"32\": 1, \"52\": 1, \"92\": 1, \"124\": 1, \"46\": 1, \"83\": 1, \"28\": 1, \"107\": 2, \"89\": 2, \"85\": 1}, \"24\": {\"24\": 87, \"10\": 18, \"122\": 1, \"27\": 3, \"36\": 4, \"70\": 3, \"109\": 1, \"108\": 2, \"39\": 1}, \"65\": {\"65\": 12}, \"92\": {\"128\": 1, \"92\": 19, \"33\": 1, \"82\": 2, \"57\": 3, \"89\": 1, \"107\": 1}}, \"Wisig_1\": {\"108\": {\"108\": 113, \"24\": 7, \"70\": 1, \"109\": 2, \"11\": 1}, \"40\": {\"40\": 96, \"49\": 1, \"34\": 3, \"81\": 1, \"14\": 8, \"105\": 10, \"114\": 4, \"1\": 9, \"44\": 1, \"96\": 1, \"31\": 2}, \"68\": {\"68\": 14, \"22\": 1, \"17\": 1}, \"23\": {\"3\": 3, \"122\": 3, \"110\": 3, \"96\": 1, \"23\": 6, \"94\": 3, \"0\": 2, \"1\": 2, \"26\": 1}, \"26\": {\"26\": 113, \"24\": 1, \"16\": 1, \"18\": 4, \"70\": 1}, \"64\": {\"64\": 15, \"57\": 1}, \"22\": {\"22\": 12, \"116\": 2, \"74\": 1, \"43\": 1}, \"3\": {\"3\": 72, \"62\": 4, \"94\": 1, \"1\": 4, \"69\": 1, \"40\": 1, \"111\": 1, \"98\": 1, \"7\": 2, \"101\": 1}, \"4\": {\"4\": 97, \"125\": 2, \"108\": 1}, \"70\": {\"70\": 116, \"39\": 2, \"10\": 1, \"109\": 1}, \"57\": {\"57\": 11, \"103\": 1}, \"79\": {\"79\": 11, \"124\": 1}, \"9\": {\"9\": 30, \"14\": 1, \"31\": 1}, \"89\": {\"89\": 32, \"75\": 1, \"9\": 1, \"34\": 2}, \"110\": {\"110\": 125, \"87\": 1, \"0\": 1, \"84\": 1}, \"102\": {\"102\": 118, \"126\": 1, \"5\": 1}, \"31\": {\"31\": 11, \"105\": 1, \"9\": 1, \"35\": 1, \"44\": 1, \"40\": 1}, \"58\": {\"58\": 12}, \"47\": {\"47\": 8, \"107\": 1, \"29\": 1, \"40\": 1, \"49\": 1}, \"24\": {\"24\": 70, \"10\": 3, \"97\": 1, \"108\": 11, \"11\": 1, \"70\": 1, \"88\": 5}, \"19\": {\"19\": 20, \"74\": 2, \"25\": 1, \"73\": 2, \"120\": 1, \"50\": 1, \"83\": 1}, \"11\": {\"11\": 129, \"39\": 2, \"126\": 1}, \"52\": {\"52\": 20}, \"17\": {\"115\": 1, \"68\": 2, \"43\": 1, \"111\": 1, \"124\": 1, \"37\": 3, \"17\": 4, \"55\": 1, \"4\": 1, \"41\": 1}, \"25\": {\"83\": 1, \"25\": 9, \"120\": 1, \"128\": 2, \"82\": 2, \"33\": 1}, \"69\": {\"69\": 103, \"70\": 1, \"109\": 1, \"39\": 1, \"26\": 2}, \"96\": {\"69\": 1, \"96\": 7, \"68\": 1, \"65\": 1, \"40\": 1, \"94\": 1, \"1\": 1, \"126\": 1, \"109\": 1, \"93\": 1, \"39\": 1, \"35\": 1, \"122\": 1, \"7\": 1}, \"109\": {\"109\": 110, \"108\": 1, \"70\": 3}, \"115\": {\"115\": 12}, \"83\": {\"47\": 1, \"83\": 16, \"107\": 2, \"109\": 1, \"99\": 1, \"86\": 2, \"34\": 1, \"38\": 2, \"114\": 1, \"9\": 1}, \"84\": {\"84\": 115, \"62\": 2, \"7\": 5, \"88\": 1, \"35\": 2, \"39\": 1, \"44\": 2}, \"119\": {\"119\": 14, \"116\": 1, \"13\": 1}, \"122\": {\"122\": 68, \"11\": 4, \"8\": 3, \"109\": 1, \"87\": 7, \"39\": 2, \"21\": 2, \"43\": 1}, \"99\": {\"99\": 13, \"74\": 1, \"81\": 2, \"3\": 1, \"76\": 1, \"100\": 3, \"33\": 3}, \"1\": {\"1\": 131, \"118\": 1, \"39\": 1, \"81\": 2, \"24\": 1}, \"74\": {\"74\": 12, \"67\": 1, \"114\": 1, \"1\": 2}, \"85\": {\"85\": 29, \"83\": 1, \"98\": 2}, \"127\": {\"127\": 94, \"88\": 1, \"71\": 9, \"126\": 1, \"107\": 2, \"106\": 1}, \"111\": {\"111\": 115, \"124\": 4, \"24\": 1}, \"53\": {\"53\": 17, \"124\": 1, \"98\": 2}, \"88\": {\"88\": 106, \"24\": 11, \"109\": 1, \"126\": 4, \"11\": 1, \"108\": 7, \"10\": 2}, \"65\": {\"65\": 6, \"21\": 1, \"5\": 1, \"28\": 1, \"13\": 1, \"2\": 1, \"121\": 1}, \"7\": {\"7\": 134}, \"16\": {\"16\": 96, \"18\": 7, \"26\": 4, \"24\": 1}, \"128\": {\"53\": 1, \"34\": 1, \"128\": 11, \"37\": 1, \"49\": 1, \"114\": 1, \"98\": 1, \"44\": 1, \"81\": 1, \"107\": 3, \"90\": 1, \"89\": 1}, \"34\": {\"114\": 5, \"56\": 2, \"34\": 14, \"1\": 2, \"72\": 2, \"47\": 1, \"31\": 1, \"75\": 2, \"40\": 1, \"29\": 2}, \"129\": {\"129\": 13, \"124\": 2, \"112\": 1, \"42\": 1, \"66\": 3, \"45\": 1, \"90\": 1, \"2\": 3, \"111\": 1, \"22\": 2}, \"43\": {\"43\": 117, \"10\": 1, \"122\": 4, \"93\": 2, \"11\": 3, \"109\": 1}, \"92\": {\"92\": 28}, \"28\": {\"104\": 2, \"68\": 1, \"28\": 14, \"65\": 2, \"111\": 1}, \"27\": {\"27\": 85, \"15\": 2, \"30\": 3, \"126\": 1, \"8\": 1}, \"114\": {\"114\": 117, \"11\": 1, \"33\": 4, \"107\": 2}, \"73\": {\"73\": 18, \"34\": 1, \"9\": 1}, \"0\": {\"0\": 81, \"110\": 3}, \"104\": {\"28\": 1, \"129\": 1, \"104\": 12, \"61\": 2}, \"118\": {\"118\": 79, \"109\": 1, \"113\": 1, \"122\": 1, \"69\": 2}, \"41\": {\"41\": 12, \"55\": 1, \"5\": 2, \"22\": 1}, \"91\": {\"17\": 1, \"91\": 23, \"92\": 3, \"83\": 1}, \"124\": {\"124\": 122}, \"81\": {\"81\": 21, \"76\": 1, \"14\": 2, \"19\": 1, \"3\": 1, \"69\": 1, \"114\": 1}, \"63\": {\"129\": 1, \"63\": 13, \"61\": 1, \"2\": 1}, \"76\": {\"76\": 14, \"50\": 1, \"81\": 1}, \"10\": {\"10\": 105, \"111\": 1, \"108\": 7, \"93\": 1, \"126\": 1, \"70\": 2, \"122\": 2, \"109\": 1}, \"51\": {\"51\": 13, \"77\": 2, \"36\": 1}, \"82\": {\"82\": 34, \"64\": 1, \"129\": 1}, \"56\": {\"56\": 11, \"75\": 1}, \"30\": {\"30\": 42, \"27\": 3, \"122\": 1, \"24\": 2, \"88\": 2, \"126\": 1, \"70\": 1}, \"21\": {\"21\": 27, \"109\": 2, \"22\": 1, \"70\": 5, \"113\": 2, \"39\": 1, \"41\": 1, \"82\": 1}, \"46\": {\"124\": 1, \"65\": 1, \"46\": 7, \"6\": 1, \"57\": 2}, \"33\": {\"33\": 137, \"50\": 1}, \"101\": {\"101\": 115, \"107\": 1, \"84\": 1, \"12\": 1, \"24\": 1, \"14\": 1, \"106\": 2, \"26\": 1, \"71\": 1}, \"105\": {\"105\": 76, \"36\": 1, \"40\": 2, \"14\": 1, \"44\": 2, \"1\": 2}, \"50\": {\"50\": 10, \"28\": 1, \"82\": 1, \"73\": 1, \"78\": 1, \"83\": 1, \"33\": 1}, \"116\": {\"116\": 32}, \"77\": {\"77\": 12, \"83\": 2, \"68\": 2}, \"75\": {\"75\": 7, \"9\": 3, \"92\": 2, \"29\": 4}, \"95\": {\"95\": 36}, \"120\": {\"120\": 16, \"54\": 2, \"82\": 2}, \"18\": {\"18\": 97, \"16\": 11}, \"14\": {\"14\": 79, \"1\": 5, \"40\": 7, \"44\": 4, \"105\": 1}, \"44\": {\"44\": 74, \"40\": 1, \"72\": 1}, \"98\": {\"98\": 91, \"85\": 1, \"107\": 2, \"128\": 2}, \"121\": {\"121\": 32}, \"113\": {\"113\": 108}, \"103\": {\"53\": 2, \"103\": 13, \"89\": 1}, \"62\": {\"62\": 112, \"39\": 2, \"26\": 2, \"11\": 1, \"70\": 1, \"18\": 1, \"69\": 1}, \"32\": {\"32\": 28, \"47\": 1, \"29\": 2, \"52\": 1}, \"71\": {\"71\": 86, \"127\": 8, \"70\": 1, \"18\": 1, \"101\": 4, \"118\": 1, \"110\": 2, \"105\": 1, \"44\": 2, \"12\": 2}, \"94\": {\"94\": 82, \"36\": 5, \"126\": 1, \"93\": 1, \"10\": 1, \"43\": 1, \"11\": 1}, \"49\": {\"49\": 11, \"29\": 1, \"107\": 1, \"77\": 1, \"128\": 1, \"114\": 1, \"47\": 2, \"9\": 1, \"72\": 1}, \"12\": {\"12\": 99, \"101\": 2, \"109\": 1, \"21\": 1, \"70\": 1}, \"90\": {\"90\": 122, \"82\": 2}, \"93\": {\"93\": 119, \"11\": 2, \"8\": 1, \"87\": 1, \"43\": 1}, \"13\": {\"13\": 14, \"63\": 1, \"119\": 1}, \"67\": {\"111\": 1, \"67\": 7, \"41\": 1, \"73\": 1, \"61\": 1, \"82\": 1, \"54\": 2, \"107\": 1, \"95\": 1}, \"20\": {\"20\": 14, \"109\": 1, \"122\": 1}, \"2\": {\"104\": 1, \"2\": 20, \"67\": 2, \"25\": 2, \"123\": 1, \"129\": 3, \"63\": 1, \"66\": 1, \"117\": 1}, \"5\": {\"5\": 82, \"55\": 1, \"90\": 2, \"101\": 1, \"21\": 1, \"129\": 1}, \"54\": {\"54\": 12, \"107\": 2, \"122\": 1, \"34\": 1}, \"37\": {\"37\": 16}, \"38\": {\"38\": 15, \"34\": 1}, \"86\": {\"86\": 25, \"6\": 2, \"41\": 2, \"111\": 2, \"124\": 1, \"85\": 1, \"25\": 1, \"109\": 1, \"27\": 1}, \"55\": {\"55\": 12}, \"97\": {\"97\": 13, \"92\": 1, \"24\": 2, \"42\": 1, \"93\": 1, \"27\": 1, \"10\": 1}, \"29\": {\"29\": 28}, \"48\": {\"63\": 1, \"48\": 11}, \"60\": {\"60\": 8, \"84\": 1, \"7\": 1, \"18\": 1, \"0\": 1, \"45\": 1, \"26\": 2, \"110\": 1}, \"36\": {\"36\": 120, \"126\": 1, \"11\": 1}, \"42\": {\"73\": 1, \"66\": 1, \"120\": 2, \"77\": 2, \"98\": 2, \"42\": 9, \"116\": 4, \"107\": 4, \"54\": 2, \"21\": 1}, \"66\": {\"66\": 14, \"90\": 1, \"129\": 1}, \"126\": {\"126\": 121, \"11\": 1, \"93\": 2, \"10\": 2, \"109\": 1, \"8\": 1}, \"39\": {\"39\": 100, \"122\": 2, \"11\": 2}, \"107\": {\"107\": 114, \"47\": 1, \"98\": 2, \"39\": 1, \"114\": 2, \"118\": 2, \"14\": 2}, \"59\": {\"59\": 8, \"111\": 2, \"95\": 1, \"66\": 1}, \"117\": {\"117\": 138}, \"6\": {\"46\": 1, \"6\": 26, \"111\": 5}, \"123\": {\"123\": 16}, \"8\": {\"8\": 119, \"39\": 1, \"87\": 1, \"122\": 2, \"93\": 1}, \"112\": {\"112\": 11, \"111\": 1, \"83\": 1, \"24\": 1, \"91\": 2}, \"80\": {\"80\": 15, \"82\": 1}, \"125\": {\"125\": 136}, \"61\": {\"61\": 12}, \"45\": {\"43\": 1, \"64\": 3, \"45\": 4, \"129\": 2, \"86\": 2}, \"72\": {\"105\": 1, \"72\": 23, \"71\": 1, \"101\": 1, \"34\": 2, \"9\": 2, \"44\": 2}, \"87\": {\"87\": 91, \"122\": 12, \"11\": 1, \"43\": 3, \"93\": 1}, \"106\": {\"106\": 118, \"12\": 5, \"11\": 1}, \"35\": {\"35\": 8, \"29\": 1, \"105\": 1, \"6\": 1, \"110\": 1}, \"78\": {\"70\": 2, \"109\": 1, \"78\": 8, \"126\": 2, \"10\": 2, \"21\": 1}, \"15\": {\"15\": 93, \"30\": 2, \"94\": 1, \"39\": 1, \"127\": 1, \"109\": 1, \"110\": 3, \"21\": 1, \"36\": 1}, \"100\": {\"100\": 12, \"62\": 2, \"76\": 1, \"38\": 1}}, \"Wisig_2\": {\"91\": {\"91\": 23, \"25\": 2, \"42\": 1, \"24\": 1, \"124\": 1}, \"12\": {\"97\": 6, \"12\": 69, \"87\": 1, \"70\": 1, \"106\": 6, \"126\": 1, \"24\": 1, \"10\": 1, \"7\": 2}, \"101\": {\"101\": 143, \"106\": 4, \"109\": 1}, \"121\": {\"121\": 29, \"120\": 1, \"81\": 2, \"109\": 1, \"57\": 2, \"99\": 1}, \"118\": {\"118\": 63, \"88\": 1, \"11\": 2, \"122\": 1, \"87\": 1}, \"10\": {\"126\": 2, \"10\": 48, \"88\": 1, \"70\": 3, \"109\": 1, \"39\": 1, \"101\": 1, \"24\": 3}, \"117\": {\"117\": 117, \"65\": 2, \"108\": 1}, \"110\": {\"110\": 27, \"60\": 2, \"120\": 1, \"8\": 2, \"109\": 1, \"70\": 1, \"90\": 1, \"126\": 1, \"36\": 1, \"105\": 1, \"23\": 1, \"7\": 1}, \"97\": {\"97\": 15, \"15\": 3, \"106\": 1, \"0\": 1}, \"28\": {\"28\": 16, \"82\": 2, \"50\": 1, \"19\": 1}, \"88\": {\"88\": 105, \"39\": 1, \"78\": 8, \"70\": 2, \"24\": 1, \"109\": 7}, \"17\": {\"17\": 4, \"86\": 1, \"91\": 1, \"79\": 1, \"41\": 2, \"111\": 2, \"59\": 2, \"6\": 3}, \"126\": {\"126\": 110, \"90\": 1, \"57\": 1, \"70\": 2}, \"33\": {\"33\": 124, \"69\": 1, \"43\": 1, \"70\": 2}, \"86\": {\"86\": 32}, \"106\": {\"106\": 109, \"23\": 1, \"12\": 1, \"126\": 1, \"0\": 1, \"88\": 1, \"78\": 1, \"21\": 1, \"101\": 2, \"70\": 2}, \"54\": {\"54\": 14, \"56\": 2, \"5\": 1, \"32\": 2, \"85\": 1}, \"125\": {\"125\": 131, \"117\": 1}, \"83\": {\"83\": 39, \"126\": 1}, \"98\": {\"98\": 116, \"44\": 1, \"117\": 1, \"69\": 1, \"18\": 1}, \"11\": {\"11\": 69, \"10\": 2, \"30\": 2, \"70\": 1, \"122\": 2, \"8\": 2, \"39\": 1, \"109\": 1}, \"32\": {\"32\": 29, \"114\": 3, \"107\": 4}, \"42\": {\"42\": 14, \"58\": 1, \"22\": 3, \"50\": 1, \"5\": 1, \"34\": 1, \"52\": 1, \"25\": 1, \"75\": 1, \"29\": 2, \"28\": 1, \"19\": 1}, \"103\": {\"103\": 10, \"77\": 2, \"58\": 2, \"28\": 2}, \"87\": {\"87\": 88, \"118\": 1, \"10\": 1, \"11\": 2, \"39\": 1, \"109\": 3, \"126\": 2, \"43\": 8, \"88\": 1, \"24\": 2, \"27\": 2, \"78\": 1}, \"61\": {\"61\": 11, \"118\": 1, \"24\": 1, \"39\": 1, \"21\": 1, \"53\": 2, \"128\": 1, \"89\": 1, \"83\": 1}, \"13\": {\"13\": 9, \"78\": 1, \"80\": 2, \"116\": 2, \"129\": 1, \"108\": 1}, \"4\": {\"4\": 81, \"39\": 1, \"24\": 1, \"88\": 1, \"125\": 2}, \"15\": {\"15\": 109, \"88\": 1, \"94\": 2, \"106\": 1, \"39\": 2, \"12\": 1, \"8\": 1, \"36\": 2, \"70\": 1}, \"120\": {\"102\": 1, \"120\": 19}, \"80\": {\"80\": 16}, \"72\": {\"72\": 22, \"62\": 2, \"44\": 2, \"14\": 1, \"33\": 1}, \"64\": {\"76\": 3, \"92\": 1, \"0\": 1, \"55\": 1, \"64\": 6, \"29\": 1, \"45\": 2, \"98\": 1}, \"81\": {\"81\": 16, \"88\": 1, \"99\": 1, \"121\": 1, \"90\": 2, \"18\": 1, \"43\": 1, \"44\": 1}, \"102\": {\"102\": 112}, \"76\": {\"129\": 1, \"35\": 1, \"76\": 6, \"95\": 1, \"107\": 2, \"44\": 1, \"64\": 2, \"123\": 1, \"49\": 1}, \"49\": {\"35\": 2, \"114\": 3, \"49\": 9, \"66\": 1, \"33\": 1, \"86\": 1, \"84\": 1, \"111\": 1, \"83\": 1, \"39\": 1, \"32\": 1, \"58\": 1, \"107\": 1}, \"129\": {\"129\": 24, \"123\": 2, \"5\": 1, \"42\": 2, \"104\": 2, \"85\": 1}, \"89\": {\"89\": 26, \"82\": 1, \"45\": 1, \"38\": 1, \"126\": 1, \"92\": 2, \"51\": 1, \"119\": 1, \"67\": 2}, \"52\": {\"52\": 16, \"9\": 1, \"129\": 1, \"111\": 1, \"54\": 1}, \"35\": {\"35\": 12}, \"53\": {\"53\": 15, \"33\": 1}, \"26\": {\"26\": 118, \"69\": 3, \"93\": 3, \"87\": 1, \"8\": 1, \"24\": 1, \"10\": 1}, \"96\": {\"96\": 12, \"26\": 4, \"60\": 4}, \"27\": {\"27\": 51, \"21\": 2, \"94\": 1, \"109\": 3, \"70\": 2, \"24\": 1, \"15\": 1, \"88\": 3, \"10\": 2, \"39\": 2}, \"24\": {\"24\": 100, \"88\": 2, \"27\": 1, \"39\": 2, \"70\": 3, \"126\": 2, \"10\": 2}, \"82\": {\"82\": 25, \"108\": 1, \"73\": 1, \"39\": 1, \"90\": 2, \"46\": 1, \"89\": 2, \"21\": 1, \"32\": 1, \"10\": 1}, \"18\": {\"18\": 112, \"109\": 1, \"26\": 6, \"88\": 1, \"126\": 1, \"39\": 1, \"24\": 1, \"23\": 2, \"69\": 3}, \"69\": {\"26\": 5, \"69\": 102, \"3\": 2, \"70\": 2, \"84\": 2, \"1\": 5, \"33\": 1, \"88\": 2, \"18\": 1}, \"47\": {\"74\": 2, \"47\": 5, \"123\": 1, \"33\": 1, \"114\": 1, \"112\": 1, \"40\": 1}, \"85\": {\"85\": 22, \"129\": 2, \"29\": 3, \"49\": 1, \"37\": 1, \"64\": 1, \"41\": 1, \"92\": 1}, \"2\": {\"2\": 30, \"65\": 1, \"117\": 1}, \"67\": {\"129\": 1, \"67\": 12, \"73\": 1, \"89\": 1, \"24\": 1}, \"39\": {\"70\": 2, \"39\": 95, \"88\": 5, \"78\": 1, \"109\": 6, \"24\": 2, \"18\": 1}, \"99\": {\"99\": 29, \"18\": 2, \"20\": 1}, \"74\": {\"74\": 11, \"64\": 2, \"21\": 1, \"124\": 1, \"70\": 1}, \"105\": {\"105\": 120, \"7\": 6, \"109\": 3, \"88\": 1, \"1\": 2}, \"70\": {\"70\": 93, \"88\": 9, \"126\": 10, \"78\": 3, \"39\": 1, \"109\": 5, \"90\": 1}, \"55\": {\"55\": 5, \"85\": 1, \"73\": 1, \"128\": 2, \"19\": 3, \"107\": 1, \"45\": 1, \"76\": 2}, \"30\": {\"30\": 88, \"36\": 7, \"27\": 1, \"0\": 1, \"43\": 1, \"8\": 5, \"118\": 2, \"122\": 1, \"70\": 1, \"108\": 1, \"9\": 1, \"88\": 1, \"126\": 2}, \"60\": {\"60\": 20, \"21\": 1, \"96\": 1, \"105\": 4, \"14\": 1, \"72\": 1}, \"92\": {\"92\": 13, \"64\": 2, \"51\": 1, \"44\": 2, \"25\": 1, \"30\": 1, \"89\": 1, \"76\": 2, \"47\": 1, \"19\": 1, \"73\": 1, \"46\": 2}, \"45\": {\"55\": 1, \"73\": 1, \"45\": 12, \"64\": 1, \"88\": 1}, \"127\": {\"127\": 105, \"106\": 2, \"101\": 2, \"89\": 1, \"62\": 2}, \"9\": {\"108\": 1, \"9\": 30, \"39\": 1}, \"115\": {\"115\": 12}, \"73\": {\"73\": 21, \"50\": 1, \"128\": 1, \"85\": 1, \"44\": 1, \"19\": 2, \"114\": 1}, \"108\": {\"108\": 132, \"8\": 1, \"126\": 1, \"94\": 2, \"70\": 1, \"43\": 1}, \"114\": {\"114\": 107, \"107\": 4, \"39\": 2, \"1\": 2, \"70\": 1}, \"63\": {\"63\": 14, \"92\": 1, \"104\": 1, \"102\": 1, \"116\": 2, \"103\": 1}, \"93\": {\"93\": 112, \"105\": 2, \"16\": 11, \"118\": 2, \"69\": 1}, \"7\": {\"7\": 128, \"12\": 3, \"105\": 1}, \"31\": {\"31\": 16, \"78\": 1, \"1\": 2, \"67\": 1}, \"123\": {\"123\": 9, \"92\": 1, \"50\": 2, \"22\": 1, \"129\": 1, \"17\": 1, \"45\": 1}, \"128\": {\"128\": 7, \"19\": 1, \"95\": 2, \"56\": 1, \"51\": 2, \"61\": 2, \"107\": 2, \"32\": 2, \"9\": 2, \"76\": 1, \"74\": 1, \"52\": 1}, \"0\": {\"97\": 2, \"0\": 97, \"24\": 3, \"69\": 1, \"39\": 1, \"94\": 2, \"12\": 1, \"11\": 1, \"15\": 2, \"83\": 1, \"122\": 1, \"8\": 2, \"30\": 1, \"70\": 1}, \"3\": {\"7\": 3, \"3\": 129, \"33\": 1, \"1\": 3}, \"19\": {\"19\": 17, \"56\": 1, \"83\": 2, \"66\": 2, \"55\": 2, \"28\": 2, \"50\": 1, \"73\": 1}, \"57\": {\"57\": 15, \"83\": 2, \"119\": 1, \"24\": 1, \"90\": 1}, \"78\": {\"78\": 38, \"88\": 3, \"39\": 1, \"70\": 3, \"24\": 2, \"109\": 1}, \"95\": {\"95\": 16, \"40\": 1, \"56\": 2, \"71\": 2, \"107\": 3, \"114\": 4, \"34\": 1, \"32\": 4, \"3\": 1, \"88\": 1, \"44\": 1}, \"40\": {\"40\": 84, \"95\": 1, \"1\": 11, \"3\": 9, \"33\": 5, \"114\": 4, \"71\": 9, \"39\": 1, \"109\": 1, \"127\": 2, \"62\": 3, \"107\": 1, \"14\": 2, \"27\": 1, \"88\": 1, \"70\": 3, \"105\": 1, \"126\": 1}, \"14\": {\"78\": 2, \"40\": 5, \"3\": 8, \"62\": 1, \"16\": 1, \"14\": 18, \"71\": 2, \"84\": 1, \"95\": 1, \"70\": 3, \"107\": 2, \"108\": 1, \"88\": 1, \"1\": 2}, \"36\": {\"36\": 114, \"21\": 1, \"118\": 1, \"109\": 2, \"15\": 2, \"8\": 1, \"24\": 1, \"122\": 1, \"10\": 1, \"27\": 1, \"30\": 2, \"88\": 1}, \"56\": {\"56\": 12}, \"111\": {\"111\": 121, \"6\": 1, \"124\": 5, \"24\": 1}, \"59\": {\"59\": 14, \"126\": 1, \"78\": 1}, \"79\": {\"79\": 14, \"98\": 1, \"77\": 1}, \"62\": {\"62\": 111, \"84\": 3, \"40\": 2, \"7\": 2, \"3\": 3, \"24\": 1}, \"21\": {\"21\": 47, \"88\": 1}, \"48\": {\"48\": 17, \"116\": 2, \"102\": 1}, \"16\": {\"16\": 103, \"88\": 2, \"105\": 2, \"93\": 14, \"109\": 1, \"62\": 1, \"39\": 1}, \"50\": {\"50\": 11, \"61\": 1, \"129\": 1, \"37\": 1, \"45\": 1, \"55\": 1}, \"44\": {\"44\": 91, \"117\": 1, \"89\": 2, \"114\": 2}, \"5\": {\"5\": 99, \"22\": 1, \"37\": 1, \"42\": 1, \"111\": 2, \"124\": 2, \"108\": 1, \"73\": 2, \"109\": 1}, \"20\": {\"20\": 15, \"24\": 1}, \"1\": {\"1\": 107, \"16\": 1, \"40\": 7, \"71\": 2, \"62\": 2, \"43\": 1}, \"65\": {\"65\": 17, \"27\": 1, \"117\": 1, \"87\": 1}, \"116\": {\"116\": 28}, \"51\": {\"51\": 15, \"106\": 1, \"54\": 1, \"128\": 1, \"52\": 1, \"36\": 1}, \"75\": {\"9\": 1, \"56\": 1, \"75\": 13, \"88\": 1}, \"100\": {\"100\": 11, \"71\": 1, \"3\": 2, \"1\": 1, \"33\": 1}, \"113\": {\"113\": 70, \"23\": 2}, \"41\": {\"29\": 2, \"41\": 12, \"85\": 1, \"37\": 2, \"86\": 2, \"22\": 1}, \"29\": {\"29\": 32}, \"23\": {\"23\": 13, \"20\": 2, \"94\": 1, \"0\": 2, \"62\": 1, \"122\": 6, \"10\": 2, \"8\": 4, \"1\": 1, \"18\": 3, \"26\": 3, \"93\": 2, \"110\": 2, \"30\": 1, \"118\": 1}, \"124\": {\"124\": 120, \"5\": 2, \"21\": 1, \"117\": 1}, \"68\": {\"68\": 11, \"50\": 2, \"24\": 1, \"28\": 2}, \"71\": {\"71\": 85, \"88\": 1, \"35\": 1, \"7\": 2, \"101\": 1, \"3\": 6, \"40\": 2, \"62\": 2}, \"107\": {\"107\": 40, \"117\": 1, \"32\": 4, \"114\": 4, \"39\": 1, \"109\": 2, \"1\": 2, \"42\": 1, \"78\": 1, \"8\": 1, \"128\": 2, \"63\": 1, \"10\": 1, \"34\": 2, \"5\": 1}, \"94\": {\"94\": 41, \"0\": 6, \"30\": 1, \"109\": 1, \"36\": 5, \"16\": 1, \"15\": 2, \"118\": 2, \"60\": 1, \"70\": 1, \"110\": 1, \"88\": 2}, \"77\": {\"77\": 12, \"66\": 2, \"39\": 1, \"98\": 1}, \"8\": {\"8\": 112, \"122\": 2, \"30\": 3, \"108\": 2, \"12\": 1, \"15\": 1, \"105\": 1}, \"46\": {\"92\": 1, \"102\": 1, \"82\": 1, \"46\": 7, \"38\": 2, \"55\": 1, \"123\": 1, \"50\": 1, \"5\": 1}, \"25\": {\"25\": 13, \"19\": 1, \"91\": 1, \"42\": 1}, \"122\": {\"122\": 106, \"11\": 13, \"10\": 1, \"88\": 1, \"23\": 2, \"8\": 6, \"39\": 1, \"43\": 4, \"94\": 1, \"81\": 1, \"105\": 2, \"30\": 1, \"108\": 1}, \"58\": {\"9\": 2, \"66\": 2, \"58\": 10, \"39\": 1, \"87\": 1, \"24\": 1, \"54\": 2, \"111\": 1}, \"6\": {\"6\": 30, \"59\": 1, \"86\": 1}, \"109\": {\"109\": 72, \"88\": 12, \"24\": 4, \"39\": 7, \"70\": 4, \"126\": 1}, \"119\": {\"119\": 16, \"90\": 3, \"111\": 1}, \"34\": {\"74\": 1, \"34\": 21, \"98\": 2, \"1\": 1, \"112\": 2, \"88\": 1, \"107\": 1, \"124\": 1, \"87\": 1, \"114\": 1}, \"90\": {\"90\": 139, \"99\": 1}, \"38\": {\"38\": 15, \"42\": 1}, \"104\": {\"104\": 12, \"86\": 2, \"5\": 2, \"8\": 1, \"129\": 1, \"37\": 1, \"6\": 1}, \"84\": {\"84\": 83, \"118\": 1, \"62\": 3, \"126\": 1, \"1\": 4}, \"112\": {\"85\": 1, \"112\": 7, \"98\": 4, \"68\": 1, \"19\": 1, \"34\": 1, \"107\": 1}, \"66\": {\"28\": 5, \"129\": 1, \"77\": 1, \"39\": 1, \"104\": 2, \"66\": 7, \"87\": 1, \"86\": 1, \"5\": 1}, \"22\": {\"5\": 3, \"22\": 16, \"80\": 1}, \"37\": {\"37\": 16}, \"43\": {\"43\": 109, \"23\": 1, \"122\": 1, \"118\": 2, \"39\": 2, \"109\": 1, \"11\": 1, \"87\": 3, \"88\": 2, \"70\": 2}}}, \"per_domain_accuracy\": {\"ORACLE.run114\": {\"accuracy\": 0.914375, \"source?\": true}, \"ORACLE.run120\": {\"accuracy\": 0.8919270833333334, \"source?\": true}, \"ORACLE.run138\": {\"accuracy\": 0.90953125, \"source?\": true}, \"ORACLE.run18\": {\"accuracy\": 0.8896354166666667, \"source?\": true}, \"ORACLE.run150\": {\"accuracy\": 0.92921875, \"source?\": true}, \"ORACLE.run132\": {\"accuracy\": 0.89578125, \"source?\": true}, \"ORACLE.run126\": {\"accuracy\": 0.8374479166666666, \"source?\": true}, \"ORACLE.run144\": {\"accuracy\": 0.8581770833333333, \"source?\": true}, \"Wisig_3\": {\"accuracy\": 0.885827850877193, \"source?\": false}, \"Wisig_4\": {\"accuracy\": 0.8450360082304527, \"source?\": false}, \"Wisig_1\": {\"accuracy\": 0.888563829787234, \"source?\": false}, \"Wisig_2\": {\"accuracy\": 0.8432247899159664, \"source?\": false}}}, \"history\": {\"epoch_indices\": [1, 2, 3, 4, 5, 6, 7, 8, 9, 10, 11, 12, 13], \"train_label_loss\": [0.6884267997393562, 0.4105921643467376, 0.33936682546267377, 0.30487087649758904, 0.2776967735808077, 0.25558138576968176, 0.2357195905278093, 0.2174973215476798, 0.2019935535886699, 0.18843425667628513, 0.17475155401092793, 0.1629810296176029, 0.15255832978553543], \"source_val_label_loss\": [1.0252448320388794, 0.3968169391155243, 0.38086652755737305, 0.3631966710090637, 0.3335410952568054, 0.32292118668556213, 0.3232846260070801, 0.3139041066169739, 0.31469154357910156, 0.3158354163169861, 0.3239913284778595, 0.32071855664253235, 0.3186306953430176], \"target_val_label_loss\": [192.0189208984375, 68.98773193359375, 82.50324249267578, 78.76765441894531, 71.40691375732422, 72.87737274169922, 81.4556655883789, 88.77103424072266, 103.33712005615234, 122.67717742919922, 144.14695739746094, 148.42892456054688, 165.09280395507812], \"source_val_acc_label\": [0.7669010416666666, 0.8610026041666666, 0.86865234375, 0.8761067708333333, 0.8805533854166666, 0.8834830729166666, 0.8847005208333333, 0.8892838541666667, 0.89076171875, 0.8883333333333333, 0.8884635416666666, 0.8898177083333333, 0.8915755208333334], \"target_val_acc_label\": [0.7807534427966102, 0.8364671610169492, 0.847755561440678, 0.8529528601694916, 0.8603350105932204, 0.8588784427966102, 0.8636122881355932, 0.8632481461864406, 0.8652674788135594, 0.8630164194915254, 0.8589446504237288, 0.8605667372881356, 0.8609308792372882]}, \"dataset_metrics\": {\"source\": {\"train\": {\"n_unique_x\": 896000, \"n_unique_y\": 16, \"n_batch/episode\": 33600}, \"val\": {\"n_unique_x\": 192000, \"n_unique_y\": 16, \"n_batch/episode\": 4800}, \"test\": {\"n_unique_x\": 192000, \"n_unique_y\": 16, \"n_batch/episode\": 4800}}, \"target\": {\"train\": {\"n_unique_x\": 188967, \"n_unique_y\": 130, \"n_batch/episode\": 6837}, \"val\": {\"n_unique_x\": 40068, \"n_unique_y\": 130, \"n_batch/episode\": 944}, \"test\": {\"n_unique_x\": 40816, \"n_unique_y\": 130, \"n_batch/episode\": 969}}}}'"
      ]
     },
     "execution_count": 29,
     "metadata": {},
     "output_type": "execute_result"
    }
   ],
   "source": [
    "json.dumps(experiment)"
   ]
  }
 ],
 "metadata": {
  "celltoolbar": "Tags",
  "kernelspec": {
   "display_name": "Python 3 (ipykernel)",
   "language": "python",
   "name": "python3"
  },
  "language_info": {
   "codemirror_mode": {
    "name": "ipython",
    "version": 3
   },
   "file_extension": ".py",
   "mimetype": "text/x-python",
   "name": "python",
   "nbconvert_exporter": "python",
   "pygments_lexer": "ipython3",
   "version": "3.8.12"
  },
  "papermill": {
   "default_parameters": {},
   "duration": 10280.729228,
   "end_time": "2022-03-23T15:15:43.100063",
   "environment_variables": {},
   "exception": null,
   "input_path": "/root/csc500-main/csc500-notebooks/templates/tl_ptn_template.ipynb",
   "output_path": "trial.ipynb",
   "parameters": {
    "parameters": {
     "BEST_MODEL_PATH": "./best_model.pth",
     "NUM_LOGS_PER_EPOCH": 10,
     "criteria_for_best": "target_accuracy",
     "dataset_seed": 1337,
     "datasets": [
      {
       "domain_prefix": "Wisig_",
       "domains": [
        1,
        2,
        3,
        4
       ],
       "episode_transforms": [],
       "labels": [
        "1-10",
        "1-12",
        "1-14",
        "1-16",
        "1-18",
        "1-19",
        "1-8",
        "10-11",
        "10-17",
        "10-4",
        "10-7",
        "11-1",
        "11-10",
        "11-19",
        "11-20",
        "11-4",
        "11-7",
        "12-19",
        "12-20",
        "12-7",
        "13-14",
        "13-18",
        "13-19",
        "13-20",
        "13-3",
        "13-7",
        "14-10",
        "14-11",
        "14-12",
        "14-13",
        "14-14",
        "14-19",
        "14-20",
        "14-7",
        "14-8",
        "14-9",
        "15-1",
        "15-19",
        "15-6",
        "16-1",
        "16-16",
        "16-19",
        "16-20",
        "17-10",
        "17-11",
        "18-1",
        "18-10",
        "18-11",
        "18-12",
        "18-13",
        "18-14",
        "18-15",
        "18-16",
        "18-17",
        "18-19",
        "18-2",
        "18-20",
        "18-4",
        "18-5",
        "18-7",
        "18-8",
        "18-9",
        "19-1",
        "19-10",
        "19-11",
        "19-12",
        "19-13",
        "19-14",
        "19-15",
        "19-19",
        "19-2",
        "19-20",
        "19-3",
        "19-4",
        "19-6",
        "19-7",
        "19-8",
        "19-9",
        "2-1",
        "2-13",
        "2-15",
        "2-3",
        "2-4",
        "2-5",
        "2-6",
        "2-7",
        "2-8",
        "20-1",
        "20-12",
        "20-14",
        "20-15",
        "20-16",
        "20-18",
        "20-19",
        "20-20",
        "20-3",
        "20-4",
        "20-5",
        "20-7",
        "20-8",
        "3-1",
        "3-13",
        "3-18",
        "3-2",
        "3-8",
        "4-1",
        "4-10",
        "4-11",
        "5-1",
        "5-5",
        "6-1",
        "6-15",
        "6-6",
        "7-10",
        "7-11",
        "7-12",
        "7-13",
        "7-14",
        "7-7",
        "7-8",
        "7-9",
        "8-1",
        "8-13",
        "8-14",
        "8-18",
        "8-20",
        "8-3",
        "8-8",
        "9-1",
        "9-7"
       ],
       "num_examples_per_domain_per_label": -1,
       "pickle_path": "/root/csc500-main/datasets/wisig.node3-19.stratified_ds.2022A.pkl",
       "source_or_target_dataset": "target",
       "x_transforms": []
      },
      {
       "domain_prefix": "ORACLE.run1",
       "domains": [
        32,
        38,
        8,
        44,
        14,
        50,
        20,
        26
       ],
       "episode_transforms": [],
       "labels": [
        "3123D52",
        "3123D65",
        "3123D79",
        "3123D80",
        "3123D54",
        "3123D70",
        "3123D7B",
        "3123D89",
        "3123D58",
        "3123D76",
        "3123D7D",
        "3123EFE",
        "3123D64",
        "3123D78",
        "3123D7E",
        "3124E4A"
       ],
       "num_examples_per_domain_per_label": 10000,
       "pickle_path": "/root/csc500-main/datasets/oracle.Run1_10kExamples_stratified_ds.2022A.pkl",
       "source_or_target_dataset": "source",
       "x_transforms": []
      }
     ],
     "device": "cuda",
     "experiment_name": "tl_1v2:wisig-oracle.run1",
     "lr": 0.0001,
     "n_epoch": 50,
     "n_query": 2,
     "n_shot": 3,
     "n_way": 16,
     "patience": 3,
     "seed": 1337,
     "test_k_factor": 2,
     "torch_default_dtype": "torch.float32",
     "train_k_factor": 3,
     "val_k_factor": 2,
     "x_net": [
      {
       "class": "nnReshape",
       "kargs": {
        "shape": [
         -1,
         1,
         2,
         256
        ]
       }
      },
      {
       "class": "Conv2d",
       "kargs": {
        "bias": false,
        "in_channels": 1,
        "kernel_size": [
         1,
         7
        ],
        "out_channels": 256,
        "padding": [
         0,
         3
        ]
       }
      },
      {
       "class": "ReLU",
       "kargs": {
        "inplace": true
       }
      },
      {
       "class": "BatchNorm2d",
       "kargs": {
        "num_features": 256
       }
      },
      {
       "class": "Conv2d",
       "kargs": {
        "bias": true,
        "in_channels": 256,
        "kernel_size": [
         2,
         7
        ],
        "out_channels": 80,
        "padding": [
         0,
         3
        ]
       }
      },
      {
       "class": "ReLU",
       "kargs": {
        "inplace": true
       }
      },
      {
       "class": "BatchNorm2d",
       "kargs": {
        "num_features": 80
       }
      },
      {
       "class": "Flatten",
       "kargs": {}
      },
      {
       "class": "Linear",
       "kargs": {
        "in_features": 20480,
        "out_features": 256
       }
      },
      {
       "class": "ReLU",
       "kargs": {
        "inplace": true
       }
      },
      {
       "class": "BatchNorm1d",
       "kargs": {
        "num_features": 256
       }
      },
      {
       "class": "Linear",
       "kargs": {
        "in_features": 256,
        "out_features": 256
       }
      }
     ]
    }
   },
   "start_time": "2022-03-23T12:24:22.370835",
   "version": "2.3.4"
  }
 },
 "nbformat": 4,
 "nbformat_minor": 5
}