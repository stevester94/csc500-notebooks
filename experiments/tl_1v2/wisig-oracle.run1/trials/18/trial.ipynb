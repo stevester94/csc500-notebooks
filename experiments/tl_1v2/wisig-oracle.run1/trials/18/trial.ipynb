{
 "cells": [
  {
   "cell_type": "markdown",
   "id": "9fea5f46",
   "metadata": {
    "papermill": {
     "duration": 0.027715,
     "end_time": "2022-03-24T03:01:55.054925",
     "exception": false,
     "start_time": "2022-03-24T03:01:55.027210",
     "status": "completed"
    },
    "tags": []
   },
   "source": [
    "# Transfer Learning Template"
   ]
  },
  {
   "cell_type": "code",
   "execution_count": 1,
   "id": "0902182a",
   "metadata": {
    "execution": {
     "iopub.execute_input": "2022-03-24T03:01:55.117279Z",
     "iopub.status.busy": "2022-03-24T03:01:55.116408Z",
     "iopub.status.idle": "2022-03-24T03:01:57.469718Z",
     "shell.execute_reply": "2022-03-24T03:01:57.470146Z"
    },
    "papermill": {
     "duration": 2.391952,
     "end_time": "2022-03-24T03:01:57.470384",
     "exception": false,
     "start_time": "2022-03-24T03:01:55.078432",
     "status": "completed"
    },
    "tags": []
   },
   "outputs": [],
   "source": [
    "%load_ext autoreload\n",
    "%autoreload 2\n",
    "%matplotlib inline\n",
    "\n",
    "    \n",
    "import os, json, sys, time, random\n",
    "import numpy as np\n",
    "import torch\n",
    "from torch.optim import Adam\n",
    "from  easydict import EasyDict\n",
    "import matplotlib.pyplot as plt\n",
    "\n",
    "from steves_models.steves_ptn import Steves_Prototypical_Network\n",
    "\n",
    "from steves_utils.lazy_iterable_wrapper import Lazy_Iterable_Wrapper\n",
    "from steves_utils.iterable_aggregator import Iterable_Aggregator\n",
    "from steves_utils.ptn_train_eval_test_jig import  PTN_Train_Eval_Test_Jig\n",
    "from steves_utils.torch_sequential_builder import build_sequential\n",
    "from steves_utils.torch_utils import get_dataset_metrics, ptn_confusion_by_domain_over_dataloader\n",
    "from steves_utils.utils_v2 import (per_domain_accuracy_from_confusion, get_datasets_base_path)\n",
    "from steves_utils.PTN.utils import independent_accuracy_assesment\n",
    "\n",
    "from torch.utils.data import DataLoader\n",
    "\n",
    "from steves_utils.stratified_dataset.episodic_accessor import Episodic_Accessor_Factory\n",
    "\n",
    "from steves_utils.ptn_do_report import (\n",
    "    get_loss_curve,\n",
    "    get_results_table,\n",
    "    get_parameters_table,\n",
    "    get_domain_accuracies,\n",
    ")\n",
    "\n",
    "from steves_utils.transforms import get_chained_transform"
   ]
  },
  {
   "cell_type": "markdown",
   "id": "41c840b4",
   "metadata": {
    "papermill": {
     "duration": 0.020205,
     "end_time": "2022-03-24T03:01:57.510656",
     "exception": false,
     "start_time": "2022-03-24T03:01:57.490451",
     "status": "completed"
    },
    "tags": []
   },
   "source": [
    "# Allowed Parameters\n",
    "These are allowed parameters, not defaults\n",
    "Each of these values need to be present in the injected parameters (the notebook will raise an exception if they are not present)\n",
    "\n",
    "Papermill uses the cell tag \"parameters\" to inject the real parameters below this cell.\n",
    "Enable tags to see what I mean"
   ]
  },
  {
   "cell_type": "code",
   "execution_count": 2,
   "id": "fd44eb83",
   "metadata": {
    "execution": {
     "iopub.execute_input": "2022-03-24T03:01:57.554789Z",
     "iopub.status.busy": "2022-03-24T03:01:57.554370Z",
     "iopub.status.idle": "2022-03-24T03:01:57.573714Z",
     "shell.execute_reply": "2022-03-24T03:01:57.574745Z"
    },
    "papermill": {
     "duration": 0.044471,
     "end_time": "2022-03-24T03:01:57.575013",
     "exception": false,
     "start_time": "2022-03-24T03:01:57.530542",
     "status": "completed"
    },
    "tags": []
   },
   "outputs": [],
   "source": [
    "required_parameters = {\n",
    "    \"experiment_name\",\n",
    "    \"lr\",\n",
    "    \"device\",\n",
    "    \"seed\",\n",
    "    \"dataset_seed\",\n",
    "    \"n_shot\",\n",
    "    \"n_query\",\n",
    "    \"n_way\",\n",
    "    \"train_k_factor\",\n",
    "    \"val_k_factor\",\n",
    "    \"test_k_factor\",\n",
    "    \"n_epoch\",\n",
    "    \"patience\",\n",
    "    \"criteria_for_best\",\n",
    "    \"x_net\",\n",
    "    \"datasets\",\n",
    "    \"torch_default_dtype\",\n",
    "    \"NUM_LOGS_PER_EPOCH\",\n",
    "    \"BEST_MODEL_PATH\",\n",
    "    \"x_shape\",\n",
    "}"
   ]
  },
  {
   "cell_type": "code",
   "execution_count": 3,
   "id": "fa3f0049",
   "metadata": {
    "execution": {
     "iopub.execute_input": "2022-03-24T03:01:57.631058Z",
     "iopub.status.busy": "2022-03-24T03:01:57.630392Z",
     "iopub.status.idle": "2022-03-24T03:01:57.652020Z",
     "shell.execute_reply": "2022-03-24T03:01:57.652719Z"
    },
    "papermill": {
     "duration": 0.052195,
     "end_time": "2022-03-24T03:01:57.652933",
     "exception": false,
     "start_time": "2022-03-24T03:01:57.600738",
     "status": "completed"
    },
    "tags": [
     "parameters"
    ]
   },
   "outputs": [],
   "source": [
    "from steves_utils.CORES.utils import (\n",
    "    ALL_NODES,\n",
    "    ALL_NODES_MINIMUM_1000_EXAMPLES,\n",
    "    ALL_DAYS\n",
    ")\n",
    "\n",
    "from steves_utils.ORACLE.utils_v2 import (\n",
    "    ALL_DISTANCES_FEET_NARROWED,\n",
    "    ALL_RUNS,\n",
    "    ALL_SERIAL_NUMBERS,\n",
    ")\n",
    "\n",
    "standalone_parameters = {}\n",
    "standalone_parameters[\"experiment_name\"] = \"STANDALONE PTN\"\n",
    "standalone_parameters[\"lr\"] = 0.001\n",
    "standalone_parameters[\"device\"] = \"cuda\"\n",
    "\n",
    "standalone_parameters[\"seed\"] = 1337\n",
    "standalone_parameters[\"dataset_seed\"] = 1337\n",
    "\n",
    "standalone_parameters[\"n_way\"] = 8\n",
    "standalone_parameters[\"n_shot\"] = 3\n",
    "standalone_parameters[\"n_query\"]  = 2\n",
    "standalone_parameters[\"train_k_factor\"] = 1\n",
    "standalone_parameters[\"val_k_factor\"] = 2\n",
    "standalone_parameters[\"test_k_factor\"] = 2\n",
    "\n",
    "\n",
    "standalone_parameters[\"n_epoch\"] = 50\n",
    "\n",
    "standalone_parameters[\"patience\"] = 10\n",
    "standalone_parameters[\"criteria_for_best\"] = \"source_loss\"\n",
    "\n",
    "standalone_parameters[\"datasets\"] = [\n",
    "    {\n",
    "        \"labels\": ALL_SERIAL_NUMBERS,\n",
    "        \"domains\": ALL_DISTANCES_FEET_NARROWED,\n",
    "        \"num_examples_per_domain_per_label\": 100,\n",
    "        \"pickle_path\": os.path.join(get_datasets_base_path(), \"oracle.Run1_framed_2000Examples_stratified_ds.2022A.pkl\"),\n",
    "        \"source_or_target_dataset\": \"source\",\n",
    "        \"x_transforms\": [\"unit_mag\", \"minus_two\"],\n",
    "        \"episode_transforms\": [],\n",
    "        \"domain_prefix\": \"ORACLE_\"\n",
    "    },\n",
    "    {\n",
    "        \"labels\": ALL_NODES,\n",
    "        \"domains\": ALL_DAYS,\n",
    "        \"num_examples_per_domain_per_label\": 100,\n",
    "        \"pickle_path\": os.path.join(get_datasets_base_path(), \"cores.stratified_ds.2022A.pkl\"),\n",
    "        \"source_or_target_dataset\": \"target\",\n",
    "        \"x_transforms\": [\"unit_power\", \"times_zero\"],\n",
    "        \"episode_transforms\": [],\n",
    "        \"domain_prefix\": \"CORES_\"\n",
    "    }   \n",
    "]\n",
    "\n",
    "standalone_parameters[\"torch_default_dtype\"] = \"torch.float32\" \n",
    "\n",
    "\n",
    "\n",
    "standalone_parameters[\"x_net\"] =     [\n",
    "    {\"class\": \"nnReshape\", \"kargs\": {\"shape\":[-1, 1, 2, 256]}},\n",
    "    {\"class\": \"Conv2d\", \"kargs\": { \"in_channels\":1, \"out_channels\":256, \"kernel_size\":(1,7), \"bias\":False, \"padding\":(0,3), },},\n",
    "    {\"class\": \"ReLU\", \"kargs\": {\"inplace\": True}},\n",
    "    {\"class\": \"BatchNorm2d\", \"kargs\": {\"num_features\":256}},\n",
    "\n",
    "    {\"class\": \"Conv2d\", \"kargs\": { \"in_channels\":256, \"out_channels\":80, \"kernel_size\":(2,7), \"bias\":True, \"padding\":(0,3), },},\n",
    "    {\"class\": \"ReLU\", \"kargs\": {\"inplace\": True}},\n",
    "    {\"class\": \"BatchNorm2d\", \"kargs\": {\"num_features\":80}},\n",
    "    {\"class\": \"Flatten\", \"kargs\": {}},\n",
    "\n",
    "    {\"class\": \"Linear\", \"kargs\": {\"in_features\": 80*256, \"out_features\": 256}}, # 80 units per IQ pair\n",
    "    {\"class\": \"ReLU\", \"kargs\": {\"inplace\": True}},\n",
    "    {\"class\": \"BatchNorm1d\", \"kargs\": {\"num_features\":256}},\n",
    "\n",
    "    {\"class\": \"Linear\", \"kargs\": {\"in_features\": 256, \"out_features\": 256}},\n",
    "]\n",
    "\n",
    "# Parameters relevant to results\n",
    "# These parameters will basically never need to change\n",
    "standalone_parameters[\"NUM_LOGS_PER_EPOCH\"] = 10\n",
    "standalone_parameters[\"BEST_MODEL_PATH\"] = \"./best_model.pth\"\n",
    "\n",
    "\n",
    "\n",
    "\n"
   ]
  },
  {
   "cell_type": "code",
   "execution_count": 4,
   "id": "95904c75",
   "metadata": {
    "execution": {
     "iopub.execute_input": "2022-03-24T03:01:57.715035Z",
     "iopub.status.busy": "2022-03-24T03:01:57.714228Z",
     "iopub.status.idle": "2022-03-24T03:01:57.735242Z",
     "shell.execute_reply": "2022-03-24T03:01:57.735976Z"
    },
    "papermill": {
     "duration": 0.053683,
     "end_time": "2022-03-24T03:01:57.736205",
     "exception": false,
     "start_time": "2022-03-24T03:01:57.682522",
     "status": "completed"
    },
    "tags": [
     "injected-parameters"
    ]
   },
   "outputs": [],
   "source": [
    "# Parameters\n",
    "parameters = {\n",
    "    \"experiment_name\": \"tl_1v2:wisig-oracle.run1\",\n",
    "    \"device\": \"cuda\",\n",
    "    \"lr\": 0.0001,\n",
    "    \"n_shot\": 3,\n",
    "    \"n_query\": 2,\n",
    "    \"train_k_factor\": 3,\n",
    "    \"val_k_factor\": 2,\n",
    "    \"test_k_factor\": 2,\n",
    "    \"torch_default_dtype\": \"torch.float32\",\n",
    "    \"n_epoch\": 50,\n",
    "    \"patience\": 3,\n",
    "    \"criteria_for_best\": \"target_accuracy\",\n",
    "    \"x_net\": [\n",
    "        {\"class\": \"nnReshape\", \"kargs\": {\"shape\": [-1, 1, 2, 256]}},\n",
    "        {\n",
    "            \"class\": \"Conv2d\",\n",
    "            \"kargs\": {\n",
    "                \"in_channels\": 1,\n",
    "                \"out_channels\": 256,\n",
    "                \"kernel_size\": [1, 7],\n",
    "                \"bias\": False,\n",
    "                \"padding\": [0, 3],\n",
    "            },\n",
    "        },\n",
    "        {\"class\": \"ReLU\", \"kargs\": {\"inplace\": True}},\n",
    "        {\"class\": \"BatchNorm2d\", \"kargs\": {\"num_features\": 256}},\n",
    "        {\n",
    "            \"class\": \"Conv2d\",\n",
    "            \"kargs\": {\n",
    "                \"in_channels\": 256,\n",
    "                \"out_channels\": 80,\n",
    "                \"kernel_size\": [2, 7],\n",
    "                \"bias\": True,\n",
    "                \"padding\": [0, 3],\n",
    "            },\n",
    "        },\n",
    "        {\"class\": \"ReLU\", \"kargs\": {\"inplace\": True}},\n",
    "        {\"class\": \"BatchNorm2d\", \"kargs\": {\"num_features\": 80}},\n",
    "        {\"class\": \"Flatten\", \"kargs\": {}},\n",
    "        {\"class\": \"Linear\", \"kargs\": {\"in_features\": 20480, \"out_features\": 256}},\n",
    "        {\"class\": \"ReLU\", \"kargs\": {\"inplace\": True}},\n",
    "        {\"class\": \"BatchNorm1d\", \"kargs\": {\"num_features\": 256}},\n",
    "        {\"class\": \"Linear\", \"kargs\": {\"in_features\": 256, \"out_features\": 256}},\n",
    "    ],\n",
    "    \"NUM_LOGS_PER_EPOCH\": 10,\n",
    "    \"BEST_MODEL_PATH\": \"./best_model.pth\",\n",
    "    \"n_way\": 16,\n",
    "    \"datasets\": [\n",
    "        {\n",
    "            \"labels\": [\n",
    "                \"1-10\",\n",
    "                \"1-12\",\n",
    "                \"1-14\",\n",
    "                \"1-16\",\n",
    "                \"1-18\",\n",
    "                \"1-19\",\n",
    "                \"1-8\",\n",
    "                \"10-11\",\n",
    "                \"10-17\",\n",
    "                \"10-4\",\n",
    "                \"10-7\",\n",
    "                \"11-1\",\n",
    "                \"11-10\",\n",
    "                \"11-19\",\n",
    "                \"11-20\",\n",
    "                \"11-4\",\n",
    "                \"11-7\",\n",
    "                \"12-19\",\n",
    "                \"12-20\",\n",
    "                \"12-7\",\n",
    "                \"13-14\",\n",
    "                \"13-18\",\n",
    "                \"13-19\",\n",
    "                \"13-20\",\n",
    "                \"13-3\",\n",
    "                \"13-7\",\n",
    "                \"14-10\",\n",
    "                \"14-11\",\n",
    "                \"14-12\",\n",
    "                \"14-13\",\n",
    "                \"14-14\",\n",
    "                \"14-19\",\n",
    "                \"14-20\",\n",
    "                \"14-7\",\n",
    "                \"14-8\",\n",
    "                \"14-9\",\n",
    "                \"15-1\",\n",
    "                \"15-19\",\n",
    "                \"15-6\",\n",
    "                \"16-1\",\n",
    "                \"16-16\",\n",
    "                \"16-19\",\n",
    "                \"16-20\",\n",
    "                \"17-10\",\n",
    "                \"17-11\",\n",
    "                \"18-1\",\n",
    "                \"18-10\",\n",
    "                \"18-11\",\n",
    "                \"18-12\",\n",
    "                \"18-13\",\n",
    "                \"18-14\",\n",
    "                \"18-15\",\n",
    "                \"18-16\",\n",
    "                \"18-17\",\n",
    "                \"18-19\",\n",
    "                \"18-2\",\n",
    "                \"18-20\",\n",
    "                \"18-4\",\n",
    "                \"18-5\",\n",
    "                \"18-7\",\n",
    "                \"18-8\",\n",
    "                \"18-9\",\n",
    "                \"19-1\",\n",
    "                \"19-10\",\n",
    "                \"19-11\",\n",
    "                \"19-12\",\n",
    "                \"19-13\",\n",
    "                \"19-14\",\n",
    "                \"19-15\",\n",
    "                \"19-19\",\n",
    "                \"19-2\",\n",
    "                \"19-20\",\n",
    "                \"19-3\",\n",
    "                \"19-4\",\n",
    "                \"19-6\",\n",
    "                \"19-7\",\n",
    "                \"19-8\",\n",
    "                \"19-9\",\n",
    "                \"2-1\",\n",
    "                \"2-13\",\n",
    "                \"2-15\",\n",
    "                \"2-3\",\n",
    "                \"2-4\",\n",
    "                \"2-5\",\n",
    "                \"2-6\",\n",
    "                \"2-7\",\n",
    "                \"2-8\",\n",
    "                \"20-1\",\n",
    "                \"20-12\",\n",
    "                \"20-14\",\n",
    "                \"20-15\",\n",
    "                \"20-16\",\n",
    "                \"20-18\",\n",
    "                \"20-19\",\n",
    "                \"20-20\",\n",
    "                \"20-3\",\n",
    "                \"20-4\",\n",
    "                \"20-5\",\n",
    "                \"20-7\",\n",
    "                \"20-8\",\n",
    "                \"3-1\",\n",
    "                \"3-13\",\n",
    "                \"3-18\",\n",
    "                \"3-2\",\n",
    "                \"3-8\",\n",
    "                \"4-1\",\n",
    "                \"4-10\",\n",
    "                \"4-11\",\n",
    "                \"5-1\",\n",
    "                \"5-5\",\n",
    "                \"6-1\",\n",
    "                \"6-15\",\n",
    "                \"6-6\",\n",
    "                \"7-10\",\n",
    "                \"7-11\",\n",
    "                \"7-12\",\n",
    "                \"7-13\",\n",
    "                \"7-14\",\n",
    "                \"7-7\",\n",
    "                \"7-8\",\n",
    "                \"7-9\",\n",
    "                \"8-1\",\n",
    "                \"8-13\",\n",
    "                \"8-14\",\n",
    "                \"8-18\",\n",
    "                \"8-20\",\n",
    "                \"8-3\",\n",
    "                \"8-8\",\n",
    "                \"9-1\",\n",
    "                \"9-7\",\n",
    "            ],\n",
    "            \"domains\": [1, 2, 3, 4],\n",
    "            \"num_examples_per_domain_per_label\": -1,\n",
    "            \"pickle_path\": \"/root/csc500-main/datasets/wisig.node3-19.stratified_ds.2022A.pkl\",\n",
    "            \"source_or_target_dataset\": \"source\",\n",
    "            \"x_transforms\": [\"unit_power\"],\n",
    "            \"episode_transforms\": [],\n",
    "            \"domain_prefix\": \"Wisig_\",\n",
    "        },\n",
    "        {\n",
    "            \"labels\": [\n",
    "                \"3123D52\",\n",
    "                \"3123D65\",\n",
    "                \"3123D79\",\n",
    "                \"3123D80\",\n",
    "                \"3123D54\",\n",
    "                \"3123D70\",\n",
    "                \"3123D7B\",\n",
    "                \"3123D89\",\n",
    "                \"3123D58\",\n",
    "                \"3123D76\",\n",
    "                \"3123D7D\",\n",
    "                \"3123EFE\",\n",
    "                \"3123D64\",\n",
    "                \"3123D78\",\n",
    "                \"3123D7E\",\n",
    "                \"3124E4A\",\n",
    "            ],\n",
    "            \"domains\": [32, 38, 8, 44, 14, 50, 20, 26],\n",
    "            \"num_examples_per_domain_per_label\": 10000,\n",
    "            \"pickle_path\": \"/root/csc500-main/datasets/oracle.Run1_10kExamples_stratified_ds.2022A.pkl\",\n",
    "            \"source_or_target_dataset\": \"target\",\n",
    "            \"x_transforms\": [\"unit_power\"],\n",
    "            \"episode_transforms\": [],\n",
    "            \"domain_prefix\": \"ORACLE.run1\",\n",
    "        },\n",
    "    ],\n",
    "    \"dataset_seed\": 7,\n",
    "    \"seed\": 7,\n",
    "}\n"
   ]
  },
  {
   "cell_type": "code",
   "execution_count": 5,
   "id": "8fa1cc33",
   "metadata": {
    "execution": {
     "iopub.execute_input": "2022-03-24T03:01:57.794899Z",
     "iopub.status.busy": "2022-03-24T03:01:57.794501Z",
     "iopub.status.idle": "2022-03-24T03:01:57.817290Z",
     "shell.execute_reply": "2022-03-24T03:01:57.817952Z"
    },
    "papermill": {
     "duration": 0.0513,
     "end_time": "2022-03-24T03:01:57.818172",
     "exception": false,
     "start_time": "2022-03-24T03:01:57.766872",
     "status": "completed"
    },
    "tags": []
   },
   "outputs": [],
   "source": [
    "# Set this to True if you want to run this template directly\n",
    "STANDALONE = False\n",
    "if STANDALONE:\n",
    "    print(\"parameters not injected, running with standalone_parameters\")\n",
    "    parameters = standalone_parameters\n",
    "\n",
    "if not 'parameters' in locals() and not 'parameters' in globals():\n",
    "    raise Exception(\"Parameter injection failed\")\n",
    "\n",
    "#Use an easy dict for all the parameters\n",
    "p = EasyDict(parameters)\n",
    "\n",
    "if \"x_shape\" not in p:\n",
    "    p.x_shape = [2,256] # Default to this if we dont supply x_shape\n",
    "\n",
    "\n",
    "supplied_keys = set(p.keys())\n",
    "\n",
    "if  supplied_keys != required_parameters:\n",
    "    print(\"Parameters are incorrect\")\n",
    "    if len(supplied_keys - required_parameters)>0: print(\"Shouldn't have:\", str(supplied_keys - required_parameters))\n",
    "    if len(required_parameters - supplied_keys)>0: print(\"Need to have:\", str(required_parameters - supplied_keys))\n",
    "    raise RuntimeError(\"Parameters are incorrect\")"
   ]
  },
  {
   "cell_type": "code",
   "execution_count": 6,
   "id": "3a028d58",
   "metadata": {
    "execution": {
     "iopub.execute_input": "2022-03-24T03:01:57.868701Z",
     "iopub.status.busy": "2022-03-24T03:01:57.868310Z",
     "iopub.status.idle": "2022-03-24T03:01:57.890923Z",
     "shell.execute_reply": "2022-03-24T03:01:57.890205Z"
    },
    "papermill": {
     "duration": 0.046445,
     "end_time": "2022-03-24T03:01:57.891108",
     "exception": false,
     "start_time": "2022-03-24T03:01:57.844663",
     "status": "completed"
    },
    "tags": []
   },
   "outputs": [],
   "source": [
    "###################################\n",
    "# Set the RNGs and make it all deterministic\n",
    "###################################\n",
    "np.random.seed(p.seed)\n",
    "random.seed(p.seed)\n",
    "torch.manual_seed(p.seed)\n",
    "\n",
    "torch.use_deterministic_algorithms(True) "
   ]
  },
  {
   "cell_type": "code",
   "execution_count": 7,
   "id": "b691acf6",
   "metadata": {
    "execution": {
     "iopub.execute_input": "2022-03-24T03:01:57.942041Z",
     "iopub.status.busy": "2022-03-24T03:01:57.941663Z",
     "iopub.status.idle": "2022-03-24T03:01:57.966032Z",
     "shell.execute_reply": "2022-03-24T03:01:57.965203Z"
    },
    "papermill": {
     "duration": 0.0477,
     "end_time": "2022-03-24T03:01:57.966198",
     "exception": false,
     "start_time": "2022-03-24T03:01:57.918498",
     "status": "completed"
    },
    "tags": []
   },
   "outputs": [],
   "source": [
    "###########################################\n",
    "# The stratified datasets honor this\n",
    "###########################################\n",
    "torch.set_default_dtype(eval(p.torch_default_dtype))"
   ]
  },
  {
   "cell_type": "code",
   "execution_count": 8,
   "id": "b5fba671",
   "metadata": {
    "execution": {
     "iopub.execute_input": "2022-03-24T03:01:58.013975Z",
     "iopub.status.busy": "2022-03-24T03:01:58.013596Z",
     "iopub.status.idle": "2022-03-24T03:01:58.065674Z",
     "shell.execute_reply": "2022-03-24T03:01:58.064859Z"
    },
    "papermill": {
     "duration": 0.074087,
     "end_time": "2022-03-24T03:01:58.065840",
     "exception": false,
     "start_time": "2022-03-24T03:01:57.991753",
     "status": "completed"
    },
    "tags": []
   },
   "outputs": [],
   "source": [
    "###################################\n",
    "# Build the network(s)\n",
    "# Note: It's critical to do this AFTER setting the RNG\n",
    "###################################\n",
    "x_net = build_sequential(p.x_net)"
   ]
  },
  {
   "cell_type": "code",
   "execution_count": 9,
   "id": "5d7e61cc",
   "metadata": {
    "execution": {
     "iopub.execute_input": "2022-03-24T03:01:58.117723Z",
     "iopub.status.busy": "2022-03-24T03:01:58.117227Z",
     "iopub.status.idle": "2022-03-24T03:01:58.140898Z",
     "shell.execute_reply": "2022-03-24T03:01:58.141594Z"
    },
    "papermill": {
     "duration": 0.048099,
     "end_time": "2022-03-24T03:01:58.141801",
     "exception": false,
     "start_time": "2022-03-24T03:01:58.093702",
     "status": "completed"
    },
    "tags": []
   },
   "outputs": [],
   "source": [
    "start_time_secs = time.time()"
   ]
  },
  {
   "cell_type": "code",
   "execution_count": 10,
   "id": "c6b67dfd",
   "metadata": {
    "execution": {
     "iopub.execute_input": "2022-03-24T03:01:58.191442Z",
     "iopub.status.busy": "2022-03-24T03:01:58.191068Z",
     "iopub.status.idle": "2022-03-24T03:01:58.212523Z",
     "shell.execute_reply": "2022-03-24T03:01:58.211790Z"
    },
    "papermill": {
     "duration": 0.045581,
     "end_time": "2022-03-24T03:01:58.212686",
     "exception": false,
     "start_time": "2022-03-24T03:01:58.167105",
     "status": "completed"
    },
    "tags": []
   },
   "outputs": [],
   "source": [
    "p.domains_source = []\n",
    "p.domains_target = []\n",
    "\n",
    "\n",
    "train_original_source = []\n",
    "val_original_source   = []\n",
    "test_original_source  = []\n",
    "\n",
    "train_original_target = []\n",
    "val_original_target   = []\n",
    "test_original_target  = []"
   ]
  },
  {
   "cell_type": "code",
   "execution_count": 11,
   "id": "e3d9c3d3",
   "metadata": {
    "execution": {
     "iopub.execute_input": "2022-03-24T03:01:58.261319Z",
     "iopub.status.busy": "2022-03-24T03:01:58.260752Z",
     "iopub.status.idle": "2022-03-24T03:01:58.278884Z",
     "shell.execute_reply": "2022-03-24T03:01:58.278158Z"
    },
    "papermill": {
     "duration": 0.041417,
     "end_time": "2022-03-24T03:01:58.279046",
     "exception": false,
     "start_time": "2022-03-24T03:01:58.237629",
     "status": "completed"
    },
    "tags": []
   },
   "outputs": [],
   "source": [
    "# global_x_transform_func = lambda x: normalize(x.to(torch.get_default_dtype()), \"unit_power\") # unit_power, unit_mag\n",
    "# global_x_transform_func = lambda x: normalize(x, \"unit_power\") # unit_power, unit_mag"
   ]
  },
  {
   "cell_type": "code",
   "execution_count": 12,
   "id": "acb78fd2",
   "metadata": {
    "execution": {
     "iopub.execute_input": "2022-03-24T03:01:58.336975Z",
     "iopub.status.busy": "2022-03-24T03:01:58.326849Z",
     "iopub.status.idle": "2022-03-24T03:01:58.356460Z",
     "shell.execute_reply": "2022-03-24T03:01:58.355620Z"
    },
    "papermill": {
     "duration": 0.052562,
     "end_time": "2022-03-24T03:01:58.356623",
     "exception": false,
     "start_time": "2022-03-24T03:01:58.304061",
     "status": "completed"
    },
    "tags": []
   },
   "outputs": [],
   "source": [
    "def add_dataset(\n",
    "    labels,\n",
    "    domains,\n",
    "    pickle_path,\n",
    "    x_transforms,\n",
    "    episode_transforms,\n",
    "    domain_prefix,\n",
    "    num_examples_per_domain_per_label,\n",
    "    source_or_target_dataset:str,\n",
    "    iterator_seed=p.seed,\n",
    "    dataset_seed=p.dataset_seed,\n",
    "    n_shot=p.n_shot,\n",
    "    n_way=p.n_way,\n",
    "    n_query=p.n_query,\n",
    "    train_val_test_k_factors=(p.train_k_factor,p.val_k_factor,p.test_k_factor),\n",
    "):\n",
    "   \n",
    "    if x_transforms == []: x_transform = None\n",
    "    else: x_transform = get_chained_transform(x_transforms)\n",
    "    \n",
    "    if episode_transforms == []: episode_transform = None\n",
    "    else: raise Exception(\"episode_transforms not implemented\")\n",
    "    \n",
    "    episode_transform = lambda tup, _prefix=domain_prefix: (_prefix + str(tup[0]), tup[1])\n",
    "\n",
    "\n",
    "    eaf = Episodic_Accessor_Factory(\n",
    "        labels=labels,\n",
    "        domains=domains,\n",
    "        num_examples_per_domain_per_label=num_examples_per_domain_per_label,\n",
    "        iterator_seed=iterator_seed,\n",
    "        dataset_seed=dataset_seed,\n",
    "        n_shot=n_shot,\n",
    "        n_way=n_way,\n",
    "        n_query=n_query,\n",
    "        train_val_test_k_factors=train_val_test_k_factors,\n",
    "        pickle_path=pickle_path,\n",
    "        x_transform_func=x_transform,\n",
    "    )\n",
    "\n",
    "    train, val, test = eaf.get_train(), eaf.get_val(), eaf.get_test()\n",
    "    train = Lazy_Iterable_Wrapper(train, episode_transform)\n",
    "    val = Lazy_Iterable_Wrapper(val, episode_transform)\n",
    "    test = Lazy_Iterable_Wrapper(test, episode_transform)\n",
    "\n",
    "    if source_or_target_dataset==\"source\":\n",
    "        train_original_source.append(train)\n",
    "        val_original_source.append(val)\n",
    "        test_original_source.append(test)\n",
    "\n",
    "        p.domains_source.extend(\n",
    "            [domain_prefix + str(u) for u in domains]\n",
    "        )\n",
    "    elif source_or_target_dataset==\"target\":\n",
    "        train_original_target.append(train)\n",
    "        val_original_target.append(val)\n",
    "        test_original_target.append(test)\n",
    "        p.domains_target.extend(\n",
    "            [domain_prefix + str(u) for u in domains]\n",
    "        )\n",
    "    else:\n",
    "        raise Exception(f\"invalid source_or_target_dataset: {source_or_target_dataset}\")\n",
    "    "
   ]
  },
  {
   "cell_type": "code",
   "execution_count": 13,
   "id": "fe266617",
   "metadata": {
    "execution": {
     "iopub.execute_input": "2022-03-24T03:01:58.405671Z",
     "iopub.status.busy": "2022-03-24T03:01:58.405299Z",
     "iopub.status.idle": "2022-03-24T03:04:11.273874Z",
     "shell.execute_reply": "2022-03-24T03:04:11.273131Z"
    },
    "papermill": {
     "duration": 132.891355,
     "end_time": "2022-03-24T03:04:11.274065",
     "exception": false,
     "start_time": "2022-03-24T03:01:58.382710",
     "status": "completed"
    },
    "tags": []
   },
   "outputs": [],
   "source": [
    "for ds in p.datasets:\n",
    "    add_dataset(**ds)"
   ]
  },
  {
   "cell_type": "code",
   "execution_count": 14,
   "id": "b90d65ac",
   "metadata": {
    "execution": {
     "iopub.execute_input": "2022-03-24T03:04:11.327171Z",
     "iopub.status.busy": "2022-03-24T03:04:11.326431Z",
     "iopub.status.idle": "2022-03-24T03:04:11.350422Z",
     "shell.execute_reply": "2022-03-24T03:04:11.349666Z"
    },
    "papermill": {
     "duration": 0.04774,
     "end_time": "2022-03-24T03:04:11.350579",
     "exception": false,
     "start_time": "2022-03-24T03:04:11.302839",
     "status": "completed"
    },
    "tags": []
   },
   "outputs": [],
   "source": [
    "# from steves_utils.CORES.utils import (\n",
    "#     ALL_NODES,\n",
    "#     ALL_NODES_MINIMUM_1000_EXAMPLES,\n",
    "#     ALL_DAYS\n",
    "# )\n",
    "\n",
    "# add_dataset(\n",
    "#     labels=ALL_NODES,\n",
    "#     domains = ALL_DAYS,\n",
    "#     num_examples_per_domain_per_label=100,\n",
    "#     pickle_path=os.path.join(get_datasets_base_path(), \"cores.stratified_ds.2022A.pkl\"),\n",
    "#     source_or_target_dataset=\"target\",\n",
    "#     x_transform_func=global_x_transform_func,\n",
    "#     domain_modifier=lambda u: f\"cores_{u}\"\n",
    "# )"
   ]
  },
  {
   "cell_type": "code",
   "execution_count": 15,
   "id": "76db484d",
   "metadata": {
    "execution": {
     "iopub.execute_input": "2022-03-24T03:04:11.400387Z",
     "iopub.status.busy": "2022-03-24T03:04:11.399813Z",
     "iopub.status.idle": "2022-03-24T03:04:11.421433Z",
     "shell.execute_reply": "2022-03-24T03:04:11.420614Z"
    },
    "papermill": {
     "duration": 0.045,
     "end_time": "2022-03-24T03:04:11.421590",
     "exception": false,
     "start_time": "2022-03-24T03:04:11.376590",
     "status": "completed"
    },
    "tags": []
   },
   "outputs": [],
   "source": [
    "# from steves_utils.ORACLE.utils_v2 import (\n",
    "#     ALL_DISTANCES_FEET,\n",
    "#     ALL_RUNS,\n",
    "#     ALL_SERIAL_NUMBERS,\n",
    "# )\n",
    "\n",
    "\n",
    "# add_dataset(\n",
    "#     labels=ALL_SERIAL_NUMBERS,\n",
    "#     domains = list(set(ALL_DISTANCES_FEET) - {2,62}),\n",
    "#     num_examples_per_domain_per_label=100,\n",
    "#     pickle_path=os.path.join(get_datasets_base_path(), \"oracle.Run2_framed_2000Examples_stratified_ds.2022A.pkl\"),\n",
    "#     source_or_target_dataset=\"source\",\n",
    "#     x_transform_func=global_x_transform_func,\n",
    "#     domain_modifier=lambda u: f\"oracle1_{u}\"\n",
    "# )\n"
   ]
  },
  {
   "cell_type": "code",
   "execution_count": 16,
   "id": "97dea9d2",
   "metadata": {
    "execution": {
     "iopub.execute_input": "2022-03-24T03:04:11.472009Z",
     "iopub.status.busy": "2022-03-24T03:04:11.471156Z",
     "iopub.status.idle": "2022-03-24T03:04:11.492833Z",
     "shell.execute_reply": "2022-03-24T03:04:11.492024Z"
    },
    "papermill": {
     "duration": 0.045424,
     "end_time": "2022-03-24T03:04:11.492989",
     "exception": false,
     "start_time": "2022-03-24T03:04:11.447565",
     "status": "completed"
    },
    "tags": []
   },
   "outputs": [],
   "source": [
    "# from steves_utils.ORACLE.utils_v2 import (\n",
    "#     ALL_DISTANCES_FEET,\n",
    "#     ALL_RUNS,\n",
    "#     ALL_SERIAL_NUMBERS,\n",
    "# )\n",
    "\n",
    "\n",
    "# add_dataset(\n",
    "#     labels=ALL_SERIAL_NUMBERS,\n",
    "#     domains = list(set(ALL_DISTANCES_FEET) - {2,62,56}),\n",
    "#     num_examples_per_domain_per_label=100,\n",
    "#     pickle_path=os.path.join(get_datasets_base_path(), \"oracle.Run2_framed_2000Examples_stratified_ds.2022A.pkl\"),\n",
    "#     source_or_target_dataset=\"source\",\n",
    "#     x_transform_func=global_x_transform_func,\n",
    "#     domain_modifier=lambda u: f\"oracle2_{u}\"\n",
    "# )"
   ]
  },
  {
   "cell_type": "code",
   "execution_count": 17,
   "id": "6f289866",
   "metadata": {
    "execution": {
     "iopub.execute_input": "2022-03-24T03:04:11.545917Z",
     "iopub.status.busy": "2022-03-24T03:04:11.545537Z",
     "iopub.status.idle": "2022-03-24T03:04:11.567845Z",
     "shell.execute_reply": "2022-03-24T03:04:11.567089Z"
    },
    "papermill": {
     "duration": 0.046914,
     "end_time": "2022-03-24T03:04:11.568005",
     "exception": false,
     "start_time": "2022-03-24T03:04:11.521091",
     "status": "completed"
    },
    "tags": []
   },
   "outputs": [],
   "source": [
    "# add_dataset(\n",
    "#     labels=list(range(19)),\n",
    "#     domains = [0,1,2],\n",
    "#     num_examples_per_domain_per_label=100,\n",
    "#     pickle_path=os.path.join(get_datasets_base_path(), \"metehan.stratified_ds.2022A.pkl\"),\n",
    "#     source_or_target_dataset=\"target\",\n",
    "#     x_transform_func=global_x_transform_func,\n",
    "#     domain_modifier=lambda u: f\"met_{u}\"\n",
    "# )"
   ]
  },
  {
   "cell_type": "code",
   "execution_count": 18,
   "id": "86a863c3",
   "metadata": {
    "execution": {
     "iopub.execute_input": "2022-03-24T03:04:11.620433Z",
     "iopub.status.busy": "2022-03-24T03:04:11.619968Z",
     "iopub.status.idle": "2022-03-24T03:04:11.643819Z",
     "shell.execute_reply": "2022-03-24T03:04:11.643072Z"
    },
    "papermill": {
     "duration": 0.04879,
     "end_time": "2022-03-24T03:04:11.643976",
     "exception": false,
     "start_time": "2022-03-24T03:04:11.595186",
     "status": "completed"
    },
    "tags": []
   },
   "outputs": [],
   "source": [
    "# # from steves_utils.wisig.utils import (\n",
    "# #     ALL_NODES_MINIMUM_100_EXAMPLES,\n",
    "# #     ALL_NODES_MINIMUM_500_EXAMPLES,\n",
    "# #     ALL_NODES_MINIMUM_1000_EXAMPLES,\n",
    "# #     ALL_DAYS\n",
    "# # )\n",
    "\n",
    "# import steves_utils.wisig.utils as wisig\n",
    "\n",
    "\n",
    "# add_dataset(\n",
    "#     labels=wisig.ALL_NODES_MINIMUM_100_EXAMPLES,\n",
    "#     domains = wisig.ALL_DAYS,\n",
    "#     num_examples_per_domain_per_label=100,\n",
    "#     pickle_path=os.path.join(get_datasets_base_path(), \"wisig.node3-19.stratified_ds.2022A.pkl\"),\n",
    "#     source_or_target_dataset=\"target\",\n",
    "#     x_transform_func=global_x_transform_func,\n",
    "#     domain_modifier=lambda u: f\"wisig_{u}\"\n",
    "# )"
   ]
  },
  {
   "cell_type": "code",
   "execution_count": 19,
   "id": "fd5442bc",
   "metadata": {
    "execution": {
     "iopub.execute_input": "2022-03-24T03:04:11.700861Z",
     "iopub.status.busy": "2022-03-24T03:04:11.700194Z",
     "iopub.status.idle": "2022-03-24T03:04:11.723467Z",
     "shell.execute_reply": "2022-03-24T03:04:11.722650Z"
    },
    "papermill": {
     "duration": 0.052694,
     "end_time": "2022-03-24T03:04:11.723658",
     "exception": false,
     "start_time": "2022-03-24T03:04:11.670964",
     "status": "completed"
    },
    "tags": []
   },
   "outputs": [],
   "source": [
    "###################################\n",
    "# Build the dataset\n",
    "###################################\n",
    "train_original_source = Iterable_Aggregator(train_original_source, p.seed)\n",
    "val_original_source = Iterable_Aggregator(val_original_source, p.seed)\n",
    "test_original_source = Iterable_Aggregator(test_original_source, p.seed)\n",
    "\n",
    "\n",
    "train_original_target = Iterable_Aggregator(train_original_target, p.seed)\n",
    "val_original_target = Iterable_Aggregator(val_original_target, p.seed)\n",
    "test_original_target = Iterable_Aggregator(test_original_target, p.seed)\n",
    "\n",
    "# For CNN We only use X and Y. And we only train on the source.\n",
    "# Properly form the data using a transform lambda and Lazy_Iterable_Wrapper. Finally wrap them in a dataloader\n",
    "\n",
    "transform_lambda = lambda ex: ex[1] # Original is (<domain>, <episode>) so we strip down to episode only\n",
    "\n",
    "train_processed_source = Lazy_Iterable_Wrapper(train_original_source, transform_lambda)\n",
    "val_processed_source   = Lazy_Iterable_Wrapper(val_original_source, transform_lambda)\n",
    "test_processed_source  = Lazy_Iterable_Wrapper(test_original_source, transform_lambda)\n",
    "\n",
    "train_processed_target = Lazy_Iterable_Wrapper(train_original_target, transform_lambda)\n",
    "val_processed_target   = Lazy_Iterable_Wrapper(val_original_target, transform_lambda)\n",
    "test_processed_target  = Lazy_Iterable_Wrapper(test_original_target, transform_lambda)\n",
    "\n",
    "datasets = EasyDict({\n",
    "    \"source\": {\n",
    "        \"original\": {\"train\":train_original_source, \"val\":val_original_source, \"test\":test_original_source},\n",
    "        \"processed\": {\"train\":train_processed_source, \"val\":val_processed_source, \"test\":test_processed_source}\n",
    "    },\n",
    "    \"target\": {\n",
    "        \"original\": {\"train\":train_original_target, \"val\":val_original_target, \"test\":test_original_target},\n",
    "        \"processed\": {\"train\":train_processed_target, \"val\":val_processed_target, \"test\":test_processed_target}\n",
    "    },\n",
    "})"
   ]
  },
  {
   "cell_type": "code",
   "execution_count": 20,
   "id": "5b3c01fc",
   "metadata": {
    "execution": {
     "iopub.execute_input": "2022-03-24T03:04:11.777885Z",
     "iopub.status.busy": "2022-03-24T03:04:11.777505Z",
     "iopub.status.idle": "2022-03-24T03:04:44.497861Z",
     "shell.execute_reply": "2022-03-24T03:04:44.498577Z"
    },
    "papermill": {
     "duration": 32.747696,
     "end_time": "2022-03-24T03:04:44.498797",
     "exception": false,
     "start_time": "2022-03-24T03:04:11.751101",
     "status": "completed"
    },
    "tags": []
   },
   "outputs": [
    {
     "name": "stdout",
     "output_type": "stream",
     "text": [
      "{'Wisig_4', 'Wisig_1', 'Wisig_2', 'Wisig_3'}\n"
     ]
    },
    {
     "name": "stdout",
     "output_type": "stream",
     "text": [
      "{'ORACLE.run144', 'ORACLE.run132', 'ORACLE.run18', 'ORACLE.run138', 'ORACLE.run126', 'ORACLE.run120', 'ORACLE.run114', 'ORACLE.run150'}\n"
     ]
    },
    {
     "name": "stdout",
     "output_type": "stream",
     "text": [
      "tensor([[[-0.3864,  0.5299,  1.0966,  ...,  0.1828,  0.4184,  0.9555],\n",
      "         [-0.4537, -0.9852,  0.2477,  ..., -0.2461, -0.5724, -0.0842]],\n",
      "\n",
      "        [[-0.3494,  0.7304,  1.1154,  ...,  0.1399,  0.4783,  1.0324],\n",
      "         [-0.8490, -0.8364,  0.5462,  ..., -0.2917, -0.5051, -0.0095]],\n",
      "\n",
      "        [[-0.5588,  0.7875,  0.9502,  ..., -0.3771,  0.3350,  0.8375],\n",
      "         [-0.7446, -1.0002,  0.4064,  ..., -0.5168, -0.9938, -0.0214]],\n",
      "\n",
      "        ...,\n",
      "\n",
      "        [[-0.1855,  1.0692,  1.6378,  ..., -0.3197,  1.0919,  1.0210],\n",
      "         [-0.2579, -1.0919, -0.3589,  ..., -0.4057,  0.1825,  0.4630]],\n",
      "\n",
      "        [[-0.6034,  1.0727,  1.7744,  ...,  0.1877,  0.8328,  0.1117],\n",
      "         [-0.1251, -0.2294,  0.4812,  ..., -0.2399, -0.2369,  0.8119]],\n",
      "\n",
      "        [[ 0.3618, -0.0819, -1.3048,  ...,  0.4669, -0.2999, -1.1100],\n",
      "         [-0.1391,  0.8735,  0.9956,  ...,  0.3664,  0.5875, -0.3896]]])\n"
     ]
    }
   ],
   "source": [
    "from steves_utils.transforms import get_average_magnitude, get_average_power\n",
    "\n",
    "print(set([u for u,_ in val_original_source]))\n",
    "print(set([u for u,_ in val_original_target]))\n",
    "\n",
    "s_x, s_y, q_x, q_y, _ = next(iter(train_processed_source))\n",
    "print(s_x)\n",
    "\n",
    "# for ds in [\n",
    "#     train_processed_source,\n",
    "#     val_processed_source,\n",
    "#     test_processed_source,\n",
    "#     train_processed_target,\n",
    "#     val_processed_target,\n",
    "#     test_processed_target\n",
    "# ]:\n",
    "#     for s_x, s_y, q_x, q_y, _ in ds:\n",
    "#         for X in (s_x, q_x):\n",
    "#             for x in X:\n",
    "#                 assert np.isclose(get_average_magnitude(x.numpy()), 1.0)\n",
    "#                 assert np.isclose(get_average_power(x.numpy()), 1.0)\n",
    "                "
   ]
  },
  {
   "cell_type": "code",
   "execution_count": 21,
   "id": "bbdacba1",
   "metadata": {
    "execution": {
     "iopub.execute_input": "2022-03-24T03:04:44.552810Z",
     "iopub.status.busy": "2022-03-24T03:04:44.552430Z",
     "iopub.status.idle": "2022-03-24T03:04:44.779662Z",
     "shell.execute_reply": "2022-03-24T03:04:44.779965Z"
    },
    "papermill": {
     "duration": 0.253781,
     "end_time": "2022-03-24T03:04:44.780095",
     "exception": false,
     "start_time": "2022-03-24T03:04:44.526314",
     "status": "completed"
    },
    "tags": []
   },
   "outputs": [
    {
     "name": "stdout",
     "output_type": "stream",
     "text": [
      "(2, 256)\n"
     ]
    }
   ],
   "source": [
    "###################################\n",
    "# Build the model\n",
    "###################################\n",
    "# easfsl only wants a tuple for the shape\n",
    "model = Steves_Prototypical_Network(x_net, device=p.device, x_shape=tuple(p.x_shape))\n",
    "optimizer = Adam(params=model.parameters(), lr=p.lr)"
   ]
  },
  {
   "cell_type": "code",
   "execution_count": 22,
   "id": "22b39ac5",
   "metadata": {
    "execution": {
     "iopub.execute_input": "2022-03-24T03:04:44.827799Z",
     "iopub.status.busy": "2022-03-24T03:04:44.827405Z",
     "iopub.status.idle": "2022-03-24T03:26:10.717443Z",
     "shell.execute_reply": "2022-03-24T03:26:10.717100Z"
    },
    "papermill": {
     "duration": 1285.914902,
     "end_time": "2022-03-24T03:26:10.717529",
     "exception": false,
     "start_time": "2022-03-24T03:04:44.802627",
     "status": "completed"
    },
    "tags": []
   },
   "outputs": [
    {
     "name": "stdout",
     "output_type": "stream",
     "text": [
      "epoch: 1, [batch: 1 / 6851], examples_per_second: 29.4311, train_label_loss: 2.5831, \n"
     ]
    },
    {
     "name": "stdout",
     "output_type": "stream",
     "text": [
      "epoch: 1, [batch: 686 / 6851], examples_per_second: 2915.6922, train_label_loss: 0.2350, \n"
     ]
    },
    {
     "name": "stdout",
     "output_type": "stream",
     "text": [
      "epoch: 1, [batch: 1371 / 6851], examples_per_second: 2964.0454, train_label_loss: 0.0454, \n"
     ]
    },
    {
     "name": "stdout",
     "output_type": "stream",
     "text": [
      "epoch: 1, [batch: 2056 / 6851], examples_per_second: 2970.5078, train_label_loss: 0.0076, \n"
     ]
    },
    {
     "name": "stdout",
     "output_type": "stream",
     "text": [
      "epoch: 1, [batch: 2741 / 6851], examples_per_second: 2941.4138, train_label_loss: 0.2880, \n"
     ]
    },
    {
     "name": "stdout",
     "output_type": "stream",
     "text": [
      "epoch: 1, [batch: 3426 / 6851], examples_per_second: 2928.3021, train_label_loss: 0.0266, \n"
     ]
    },
    {
     "name": "stdout",
     "output_type": "stream",
     "text": [
      "epoch: 1, [batch: 4111 / 6851], examples_per_second: 2931.4958, train_label_loss: 0.0359, \n"
     ]
    },
    {
     "name": "stdout",
     "output_type": "stream",
     "text": [
      "epoch: 1, [batch: 4796 / 6851], examples_per_second: 2926.1864, train_label_loss: 0.0336, \n"
     ]
    },
    {
     "name": "stdout",
     "output_type": "stream",
     "text": [
      "epoch: 1, [batch: 5481 / 6851], examples_per_second: 2938.4490, train_label_loss: 0.0570, \n"
     ]
    },
    {
     "name": "stdout",
     "output_type": "stream",
     "text": [
      "epoch: 1, [batch: 6166 / 6851], examples_per_second: 2952.7155, train_label_loss: 0.1564, \n"
     ]
    },
    {
     "name": "stdout",
     "output_type": "stream",
     "text": [
      "=============================================================\n",
      "epoch: 1, source_val_acc_label: 0.9596, target_val_acc_label: 0.1217, source_val_label_loss: 0.1760, target_val_label_loss: 2.6533, \n",
      "=============================================================\n"
     ]
    },
    {
     "name": "stdout",
     "output_type": "stream",
     "text": [
      "New best\n"
     ]
    },
    {
     "name": "stdout",
     "output_type": "stream",
     "text": [
      "epoch: 2, [batch: 1 / 6838], examples_per_second: 1.2480, train_label_loss: 0.1306, \n"
     ]
    },
    {
     "name": "stdout",
     "output_type": "stream",
     "text": [
      "epoch: 2, [batch: 684 / 6838], examples_per_second: 2932.2908, train_label_loss: 0.1916, \n"
     ]
    },
    {
     "name": "stdout",
     "output_type": "stream",
     "text": [
      "epoch: 2, [batch: 1368 / 6838], examples_per_second: 2965.4363, train_label_loss: 0.0493, \n"
     ]
    },
    {
     "name": "stdout",
     "output_type": "stream",
     "text": [
      "epoch: 2, [batch: 2052 / 6838], examples_per_second: 2958.2120, train_label_loss: 0.0359, \n"
     ]
    },
    {
     "name": "stdout",
     "output_type": "stream",
     "text": [
      "epoch: 2, [batch: 2735 / 6838], examples_per_second: 2942.0873, train_label_loss: 0.0481, \n"
     ]
    },
    {
     "name": "stdout",
     "output_type": "stream",
     "text": [
      "epoch: 2, [batch: 3419 / 6838], examples_per_second: 2962.0943, train_label_loss: 0.0313, \n"
     ]
    },
    {
     "name": "stdout",
     "output_type": "stream",
     "text": [
      "epoch: 2, [batch: 4103 / 6838], examples_per_second: 3020.5337, train_label_loss: 0.0119, \n"
     ]
    },
    {
     "name": "stdout",
     "output_type": "stream",
     "text": [
      "epoch: 2, [batch: 4786 / 6838], examples_per_second: 2950.9849, train_label_loss: 0.0423, \n"
     ]
    },
    {
     "name": "stdout",
     "output_type": "stream",
     "text": [
      "epoch: 2, [batch: 5470 / 6838], examples_per_second: 2967.0967, train_label_loss: 0.0653, \n"
     ]
    },
    {
     "name": "stdout",
     "output_type": "stream",
     "text": [
      "epoch: 2, [batch: 6154 / 6838], examples_per_second: 2985.0646, train_label_loss: 0.1511, \n"
     ]
    },
    {
     "name": "stdout",
     "output_type": "stream",
     "text": [
      "=============================================================\n",
      "epoch: 2, source_val_acc_label: 0.9687, target_val_acc_label: 0.1173, source_val_label_loss: 0.1380, target_val_label_loss: 2.6882, \n",
      "=============================================================\n"
     ]
    },
    {
     "name": "stdout",
     "output_type": "stream",
     "text": [
      "epoch: 3, [batch: 1 / 6850], examples_per_second: 1.2427, train_label_loss: 0.0313, \n"
     ]
    },
    {
     "name": "stdout",
     "output_type": "stream",
     "text": [
      "epoch: 3, [batch: 685 / 6850], examples_per_second: 3391.1363, train_label_loss: 0.0037, \n"
     ]
    },
    {
     "name": "stdout",
     "output_type": "stream",
     "text": [
      "epoch: 3, [batch: 1370 / 6850], examples_per_second: 3444.9019, train_label_loss: 0.0020, \n"
     ]
    },
    {
     "name": "stdout",
     "output_type": "stream",
     "text": [
      "epoch: 3, [batch: 2055 / 6850], examples_per_second: 3394.0800, train_label_loss: 0.0543, \n"
     ]
    },
    {
     "name": "stdout",
     "output_type": "stream",
     "text": [
      "epoch: 3, [batch: 2740 / 6850], examples_per_second: 3345.4799, train_label_loss: 0.1318, \n"
     ]
    },
    {
     "name": "stdout",
     "output_type": "stream",
     "text": [
      "epoch: 3, [batch: 3425 / 6850], examples_per_second: 3443.3351, train_label_loss: 0.1378, \n"
     ]
    },
    {
     "name": "stdout",
     "output_type": "stream",
     "text": [
      "epoch: 3, [batch: 4110 / 6850], examples_per_second: 3421.6392, train_label_loss: 0.2869, \n"
     ]
    },
    {
     "name": "stdout",
     "output_type": "stream",
     "text": [
      "epoch: 3, [batch: 4795 / 6850], examples_per_second: 3453.5388, train_label_loss: 0.1173, \n"
     ]
    },
    {
     "name": "stdout",
     "output_type": "stream",
     "text": [
      "epoch: 3, [batch: 5480 / 6850], examples_per_second: 3471.9819, train_label_loss: 0.1508, \n"
     ]
    },
    {
     "name": "stdout",
     "output_type": "stream",
     "text": [
      "epoch: 3, [batch: 6165 / 6850], examples_per_second: 3406.6718, train_label_loss: 0.0037, \n"
     ]
    },
    {
     "name": "stdout",
     "output_type": "stream",
     "text": [
      "=============================================================\n",
      "epoch: 3, source_val_acc_label: 0.9713, target_val_acc_label: 0.1071, source_val_label_loss: 0.1233, target_val_label_loss: 2.7395, \n",
      "=============================================================\n"
     ]
    },
    {
     "name": "stdout",
     "output_type": "stream",
     "text": [
      "epoch: 4, [batch: 1 / 6835], examples_per_second: 1.4815, train_label_loss: 0.0150, \n"
     ]
    },
    {
     "name": "stdout",
     "output_type": "stream",
     "text": [
      "epoch: 4, [batch: 684 / 6835], examples_per_second: 3707.9453, train_label_loss: 0.2771, \n"
     ]
    },
    {
     "name": "stdout",
     "output_type": "stream",
     "text": [
      "epoch: 4, [batch: 1367 / 6835], examples_per_second: 3733.1151, train_label_loss: 0.1676, \n"
     ]
    },
    {
     "name": "stdout",
     "output_type": "stream",
     "text": [
      "epoch: 4, [batch: 2051 / 6835], examples_per_second: 3983.9707, train_label_loss: 0.0033, \n"
     ]
    },
    {
     "name": "stdout",
     "output_type": "stream",
     "text": [
      "epoch: 4, [batch: 2734 / 6835], examples_per_second: 3667.9365, train_label_loss: 0.0099, \n"
     ]
    },
    {
     "name": "stdout",
     "output_type": "stream",
     "text": [
      "epoch: 4, [batch: 3418 / 6835], examples_per_second: 4202.8629, train_label_loss: 0.1820, \n"
     ]
    },
    {
     "name": "stdout",
     "output_type": "stream",
     "text": [
      "epoch: 4, [batch: 4101 / 6835], examples_per_second: 3769.9075, train_label_loss: 0.1248, \n"
     ]
    },
    {
     "name": "stdout",
     "output_type": "stream",
     "text": [
      "epoch: 4, [batch: 4784 / 6835], examples_per_second: 3338.0398, train_label_loss: 0.0026, \n"
     ]
    },
    {
     "name": "stdout",
     "output_type": "stream",
     "text": [
      "epoch: 4, [batch: 5468 / 6835], examples_per_second: 3353.6946, train_label_loss: 0.2336, \n"
     ]
    },
    {
     "name": "stdout",
     "output_type": "stream",
     "text": [
      "epoch: 4, [batch: 6151 / 6835], examples_per_second: 3346.5608, train_label_loss: 0.0225, \n"
     ]
    },
    {
     "name": "stdout",
     "output_type": "stream",
     "text": [
      "=============================================================\n",
      "epoch: 4, source_val_acc_label: 0.9724, target_val_acc_label: 0.1002, source_val_label_loss: 0.1241, target_val_label_loss: 2.7724, \n",
      "=============================================================\n"
     ]
    },
    {
     "name": "stdout",
     "output_type": "stream",
     "text": [
      "epoch: 5, [batch: 1 / 6849], examples_per_second: 1.6580, train_label_loss: 0.0297, \n"
     ]
    },
    {
     "name": "stdout",
     "output_type": "stream",
     "text": [
      "epoch: 5, [batch: 685 / 6849], examples_per_second: 3684.7598, train_label_loss: 0.0106, \n"
     ]
    },
    {
     "name": "stdout",
     "output_type": "stream",
     "text": [
      "epoch: 5, [batch: 1370 / 6849], examples_per_second: 3940.9458, train_label_loss: 0.0579, \n"
     ]
    },
    {
     "name": "stdout",
     "output_type": "stream",
     "text": [
      "epoch: 5, [batch: 2055 / 6849], examples_per_second: 3830.4791, train_label_loss: 0.1505, \n"
     ]
    },
    {
     "name": "stdout",
     "output_type": "stream",
     "text": [
      "epoch: 5, [batch: 2740 / 6849], examples_per_second: 3915.3921, train_label_loss: 0.2140, \n"
     ]
    },
    {
     "name": "stdout",
     "output_type": "stream",
     "text": [
      "epoch: 5, [batch: 3425 / 6849], examples_per_second: 3908.3858, train_label_loss: 0.1394, \n"
     ]
    },
    {
     "name": "stdout",
     "output_type": "stream",
     "text": [
      "epoch: 5, [batch: 4109 / 6849], examples_per_second: 4009.9337, train_label_loss: 0.0652, \n"
     ]
    },
    {
     "name": "stdout",
     "output_type": "stream",
     "text": [
      "epoch: 5, [batch: 4794 / 6849], examples_per_second: 3838.1037, train_label_loss: 0.1036, \n"
     ]
    },
    {
     "name": "stdout",
     "output_type": "stream",
     "text": [
      "epoch: 5, [batch: 5479 / 6849], examples_per_second: 3976.8807, train_label_loss: 0.0033, \n"
     ]
    },
    {
     "name": "stdout",
     "output_type": "stream",
     "text": [
      "epoch: 5, [batch: 6164 / 6849], examples_per_second: 4060.3969, train_label_loss: 0.0083, \n"
     ]
    },
    {
     "name": "stdout",
     "output_type": "stream",
     "text": [
      "=============================================================\n",
      "epoch: 5, source_val_acc_label: 0.9724, target_val_acc_label: 0.0947, source_val_label_loss: 0.1258, target_val_label_loss: 2.8263, \n",
      "=============================================================\n"
     ]
    },
    {
     "name": "stdout",
     "output_type": "stream",
     "text": [
      "Patience (3) exhausted\n"
     ]
    }
   ],
   "source": [
    "###################################\n",
    "# train\n",
    "###################################\n",
    "jig = PTN_Train_Eval_Test_Jig(model, p.BEST_MODEL_PATH, p.device)\n",
    "\n",
    "jig.train(\n",
    "    train_iterable=datasets.source.processed.train,\n",
    "    source_val_iterable=datasets.source.processed.val,\n",
    "    target_val_iterable=datasets.target.processed.val,\n",
    "    num_epochs=p.n_epoch,\n",
    "    num_logs_per_epoch=p.NUM_LOGS_PER_EPOCH,\n",
    "    patience=p.patience,\n",
    "    optimizer=optimizer,\n",
    "    criteria_for_best=p.criteria_for_best,\n",
    ")"
   ]
  },
  {
   "cell_type": "code",
   "execution_count": 23,
   "id": "31e8fabf",
   "metadata": {
    "execution": {
     "iopub.execute_input": "2022-03-24T03:26:10.797213Z",
     "iopub.status.busy": "2022-03-24T03:26:10.796655Z",
     "iopub.status.idle": "2022-03-24T03:26:10.831051Z",
     "shell.execute_reply": "2022-03-24T03:26:10.830301Z"
    },
    "papermill": {
     "duration": 0.076386,
     "end_time": "2022-03-24T03:26:10.831236",
     "exception": false,
     "start_time": "2022-03-24T03:26:10.754850",
     "status": "completed"
    },
    "tags": []
   },
   "outputs": [],
   "source": [
    "total_experiment_time_secs = time.time() - start_time_secs"
   ]
  },
  {
   "cell_type": "code",
   "execution_count": 24,
   "id": "87b9595b",
   "metadata": {
    "execution": {
     "iopub.execute_input": "2022-03-24T03:26:10.920339Z",
     "iopub.status.busy": "2022-03-24T03:26:10.919464Z",
     "iopub.status.idle": "2022-03-24T03:35:16.116189Z",
     "shell.execute_reply": "2022-03-24T03:35:16.115305Z"
    },
    "papermill": {
     "duration": 545.243043,
     "end_time": "2022-03-24T03:35:16.116403",
     "exception": false,
     "start_time": "2022-03-24T03:26:10.873360",
     "status": "completed"
    },
    "tags": []
   },
   "outputs": [],
   "source": [
    "###################################\n",
    "# Evaluate the model\n",
    "###################################\n",
    "source_test_label_accuracy, source_test_label_loss = jig.test(datasets.source.processed.test)\n",
    "target_test_label_accuracy, target_test_label_loss = jig.test(datasets.target.processed.test)\n",
    "\n",
    "source_val_label_accuracy, source_val_label_loss = jig.test(datasets.source.processed.val)\n",
    "target_val_label_accuracy, target_val_label_loss = jig.test(datasets.target.processed.val)\n",
    "\n",
    "history = jig.get_history()\n",
    "\n",
    "total_epochs_trained = len(history[\"epoch_indices\"])\n",
    "\n",
    "val_dl = Iterable_Aggregator((datasets.source.original.val,datasets.target.original.val))\n",
    "\n",
    "confusion = ptn_confusion_by_domain_over_dataloader(model, p.device, val_dl)\n",
    "per_domain_accuracy = per_domain_accuracy_from_confusion(confusion)\n",
    "\n",
    "# Add a key to per_domain_accuracy for if it was a source domain\n",
    "for domain, accuracy in per_domain_accuracy.items():\n",
    "    per_domain_accuracy[domain] = {\n",
    "        \"accuracy\": accuracy,\n",
    "        \"source?\": domain in p.domains_source\n",
    "    }\n",
    "\n",
    "# Do an independent accuracy assesment JUST TO BE SURE!\n",
    "# _source_test_label_accuracy = independent_accuracy_assesment(model, datasets.source.processed.test, p.device)\n",
    "# _target_test_label_accuracy = independent_accuracy_assesment(model, datasets.target.processed.test, p.device)\n",
    "# _source_val_label_accuracy = independent_accuracy_assesment(model, datasets.source.processed.val, p.device)\n",
    "# _target_val_label_accuracy = independent_accuracy_assesment(model, datasets.target.processed.val, p.device)\n",
    "\n",
    "# assert(_source_test_label_accuracy == source_test_label_accuracy)\n",
    "# assert(_target_test_label_accuracy == target_test_label_accuracy)\n",
    "# assert(_source_val_label_accuracy == source_val_label_accuracy)\n",
    "# assert(_target_val_label_accuracy == target_val_label_accuracy)\n",
    "\n",
    "experiment = {\n",
    "    \"experiment_name\": p.experiment_name,\n",
    "    \"parameters\": dict(p),\n",
    "    \"results\": {\n",
    "        \"source_test_label_accuracy\": source_test_label_accuracy,\n",
    "        \"source_test_label_loss\": source_test_label_loss,\n",
    "        \"target_test_label_accuracy\": target_test_label_accuracy,\n",
    "        \"target_test_label_loss\": target_test_label_loss,\n",
    "        \"source_val_label_accuracy\": source_val_label_accuracy,\n",
    "        \"source_val_label_loss\": source_val_label_loss,\n",
    "        \"target_val_label_accuracy\": target_val_label_accuracy,\n",
    "        \"target_val_label_loss\": target_val_label_loss,\n",
    "        \"total_epochs_trained\": total_epochs_trained,\n",
    "        \"total_experiment_time_secs\": total_experiment_time_secs,\n",
    "        \"confusion\": confusion,\n",
    "        \"per_domain_accuracy\": per_domain_accuracy,\n",
    "    },\n",
    "    \"history\": history,\n",
    "    \"dataset_metrics\": get_dataset_metrics(datasets, \"ptn\"),\n",
    "}"
   ]
  },
  {
   "cell_type": "code",
   "execution_count": 25,
   "id": "54a21829",
   "metadata": {
    "execution": {
     "iopub.execute_input": "2022-03-24T03:35:16.202836Z",
     "iopub.status.busy": "2022-03-24T03:35:16.202459Z",
     "iopub.status.idle": "2022-03-24T03:35:16.415581Z",
     "shell.execute_reply": "2022-03-24T03:35:16.416279Z"
    },
    "papermill": {
     "duration": 0.255203,
     "end_time": "2022-03-24T03:35:16.416466",
     "exception": false,
     "start_time": "2022-03-24T03:35:16.161263",
     "status": "completed"
    },
    "tags": []
   },
   "outputs": [
    {
     "data": {
      "image/png": "[encoded data removed]",
      "text/plain": [
       "<Figure size 1080x504 with 1 Axes>"
      ]
     },
     "metadata": {
      "needs_background": "light"
     },
     "output_type": "display_data"
    }
   ],
   "source": [
    "ax = get_loss_curve(experiment)\n",
    "plt.show()"
   ]
  },
  {
   "cell_type": "code",
   "execution_count": 26,
   "id": "fd8a0f60",
   "metadata": {
    "execution": {
     "iopub.execute_input": "2022-03-24T03:35:16.501754Z",
     "iopub.status.busy": "2022-03-24T03:35:16.501194Z",
     "iopub.status.idle": "2022-03-24T03:35:16.880400Z",
     "shell.execute_reply": "2022-03-24T03:35:16.877107Z"
    },
    "papermill": {
     "duration": 0.421569,
     "end_time": "2022-03-24T03:35:16.880581",
     "exception": false,
     "start_time": "2022-03-24T03:35:16.459012",
     "status": "completed"
    },
    "tags": []
   },
   "outputs": [
    {
     "data": {
      "text/plain": [
       "<AxesSubplot:title={'center':'Results'}>"
      ]
     },
     "execution_count": 26,
     "metadata": {},
     "output_type": "execute_result"
    },
    {
     "data": {
      "image/png": "[encoded data removed]",
      "text/plain": [
       "<Figure size 1080x504 with 1 Axes>"
      ]
     },
     "metadata": {
      "needs_background": "light"
     },
     "output_type": "display_data"
    }
   ],
   "source": [
    "get_results_table(experiment)"
   ]
  },
  {
   "cell_type": "code",
   "execution_count": 27,
   "id": "cf8dc689",
   "metadata": {
    "execution": {
     "iopub.execute_input": "2022-03-24T03:35:16.971400Z",
     "iopub.status.busy": "2022-03-24T03:35:16.971026Z",
     "iopub.status.idle": "2022-03-24T03:35:17.225292Z",
     "shell.execute_reply": "2022-03-24T03:35:17.224603Z"
    },
    "papermill": {
     "duration": 0.297386,
     "end_time": "2022-03-24T03:35:17.225466",
     "exception": false,
     "start_time": "2022-03-24T03:35:16.928080",
     "status": "completed"
    },
    "tags": []
   },
   "outputs": [
    {
     "data": {
      "text/plain": [
       "<AxesSubplot:title={'center':'Per Domain Validation Accuracy'}, xlabel='domain'>"
      ]
     },
     "execution_count": 27,
     "metadata": {},
     "output_type": "execute_result"
    },
    {
     "data": {
      "image/png": "[encoded data removed]",
      "text/plain": [
       "<Figure size 1080x504 with 1 Axes>"
      ]
     },
     "metadata": {
      "needs_background": "light"
     },
     "output_type": "display_data"
    }
   ],
   "source": [
    "get_domain_accuracies(experiment)"
   ]
  },
  {
   "cell_type": "code",
   "execution_count": 28,
   "id": "a74ae082",
   "metadata": {
    "execution": {
     "iopub.execute_input": "2022-03-24T03:35:17.332194Z",
     "iopub.status.busy": "2022-03-24T03:35:17.331803Z",
     "iopub.status.idle": "2022-03-24T03:35:17.355348Z",
     "shell.execute_reply": "2022-03-24T03:35:17.354600Z"
    },
    "papermill": {
     "duration": 0.072967,
     "end_time": "2022-03-24T03:35:17.355517",
     "exception": false,
     "start_time": "2022-03-24T03:35:17.282550",
     "status": "completed"
    },
    "tags": []
   },
   "outputs": [
    {
     "name": "stdout",
     "output_type": "stream",
     "text": [
      "Source Test Label Accuracy: 0.9594620743034056 Target Test Label Accuracy: 0.12211588541666667\n",
      "Source Val Label Accuracy: 0.9596092925026399 Target Val Label Accuracy: 0.12169270833333333\n"
     ]
    }
   ],
   "source": [
    "print(\"Source Test Label Accuracy:\", experiment[\"results\"][\"source_test_label_accuracy\"], \"Target Test Label Accuracy:\", experiment[\"results\"][\"target_test_label_accuracy\"])\n",
    "print(\"Source Val Label Accuracy:\", experiment[\"results\"][\"source_val_label_accuracy\"], \"Target Val Label Accuracy:\", experiment[\"results\"][\"target_val_label_accuracy\"])"
   ]
  },
  {
   "cell_type": "code",
   "execution_count": 29,
   "id": "dacca602",
   "metadata": {
    "execution": {
     "iopub.execute_input": "2022-03-24T03:35:17.446213Z",
     "iopub.status.busy": "2022-03-24T03:35:17.445648Z",
     "iopub.status.idle": "2022-03-24T03:35:17.468908Z",
     "shell.execute_reply": "2022-03-24T03:35:17.469629Z"
    },
    "papermill": {
     "duration": 0.067992,
     "end_time": "2022-03-24T03:35:17.469818",
     "exception": false,
     "start_time": "2022-03-24T03:35:17.401826",
     "status": "completed"
    },
    "tags": [
     "experiment_json"
    ]
   },
   "outputs": [
    {
     "data": {
      "text/plain": [
       "'{\"experiment_name\": \"tl_1v2:wisig-oracle.run1\", \"parameters\": {\"experiment_name\": \"tl_1v2:wisig-oracle.run1\", \"device\": \"cuda\", \"lr\": 0.0001, \"n_shot\": 3, \"n_query\": 2, \"train_k_factor\": 3, \"val_k_factor\": 2, \"test_k_factor\": 2, \"torch_default_dtype\": \"torch.float32\", \"n_epoch\": 50, \"patience\": 3, \"criteria_for_best\": \"target_accuracy\", \"x_net\": [{\"class\": \"nnReshape\", \"kargs\": {\"shape\": [-1, 1, 2, 256]}}, {\"class\": \"Conv2d\", \"kargs\": {\"in_channels\": 1, \"out_channels\": 256, \"kernel_size\": [1, 7], \"bias\": false, \"padding\": [0, 3]}}, {\"class\": \"ReLU\", \"kargs\": {\"inplace\": true}}, {\"class\": \"BatchNorm2d\", \"kargs\": {\"num_features\": 256}}, {\"class\": \"Conv2d\", \"kargs\": {\"in_channels\": 256, \"out_channels\": 80, \"kernel_size\": [2, 7], \"bias\": true, \"padding\": [0, 3]}}, {\"class\": \"ReLU\", \"kargs\": {\"inplace\": true}}, {\"class\": \"BatchNorm2d\", \"kargs\": {\"num_features\": 80}}, {\"class\": \"Flatten\", \"kargs\": {}}, {\"class\": \"Linear\", \"kargs\": {\"in_features\": 20480, \"out_features\": 256}}, {\"class\": \"ReLU\", \"kargs\": {\"inplace\": true}}, {\"class\": \"BatchNorm1d\", \"kargs\": {\"num_features\": 256}}, {\"class\": \"Linear\", \"kargs\": {\"in_features\": 256, \"out_features\": 256}}], \"NUM_LOGS_PER_EPOCH\": 10, \"BEST_MODEL_PATH\": \"./best_model.pth\", \"n_way\": 16, \"datasets\": [{\"labels\": [\"1-10\", \"1-12\", \"1-14\", \"1-16\", \"1-18\", \"1-19\", \"1-8\", \"10-11\", \"10-17\", \"10-4\", \"10-7\", \"11-1\", \"11-10\", \"11-19\", \"11-20\", \"11-4\", \"11-7\", \"12-19\", \"12-20\", \"12-7\", \"13-14\", \"13-18\", \"13-19\", \"13-20\", \"13-3\", \"13-7\", \"14-10\", \"14-11\", \"14-12\", \"14-13\", \"14-14\", \"14-19\", \"14-20\", \"14-7\", \"14-8\", \"14-9\", \"15-1\", \"15-19\", \"15-6\", \"16-1\", \"16-16\", \"16-19\", \"16-20\", \"17-10\", \"17-11\", \"18-1\", \"18-10\", \"18-11\", \"18-12\", \"18-13\", \"18-14\", \"18-15\", \"18-16\", \"18-17\", \"18-19\", \"18-2\", \"18-20\", \"18-4\", \"18-5\", \"18-7\", \"18-8\", \"18-9\", \"19-1\", \"19-10\", \"19-11\", \"19-12\", \"19-13\", \"19-14\", \"19-15\", \"19-19\", \"19-2\", \"19-20\", \"19-3\", \"19-4\", \"19-6\", \"19-7\", \"19-8\", \"19-9\", \"2-1\", \"2-13\", \"2-15\", \"2-3\", \"2-4\", \"2-5\", \"2-6\", \"2-7\", \"2-8\", \"20-1\", \"20-12\", \"20-14\", \"20-15\", \"20-16\", \"20-18\", \"20-19\", \"20-20\", \"20-3\", \"20-4\", \"20-5\", \"20-7\", \"20-8\", \"3-1\", \"3-13\", \"3-18\", \"3-2\", \"3-8\", \"4-1\", \"4-10\", \"4-11\", \"5-1\", \"5-5\", \"6-1\", \"6-15\", \"6-6\", \"7-10\", \"7-11\", \"7-12\", \"7-13\", \"7-14\", \"7-7\", \"7-8\", \"7-9\", \"8-1\", \"8-13\", \"8-14\", \"8-18\", \"8-20\", \"8-3\", \"8-8\", \"9-1\", \"9-7\"], \"domains\": [1, 2, 3, 4], \"num_examples_per_domain_per_label\": -1, \"pickle_path\": \"/root/csc500-main/datasets/wisig.node3-19.stratified_ds.2022A.pkl\", \"source_or_target_dataset\": \"source\", \"x_transforms\": [\"unit_power\"], \"episode_transforms\": [], \"domain_prefix\": \"Wisig_\"}, {\"labels\": [\"3123D52\", \"3123D65\", \"3123D79\", \"3123D80\", \"3123D54\", \"3123D70\", \"3123D7B\", \"3123D89\", \"3123D58\", \"3123D76\", \"3123D7D\", \"3123EFE\", \"3123D64\", \"3123D78\", \"3123D7E\", \"3124E4A\"], \"domains\": [32, 38, 8, 44, 14, 50, 20, 26], \"num_examples_per_domain_per_label\": 10000, \"pickle_path\": \"/root/csc500-main/datasets/oracle.Run1_10kExamples_stratified_ds.2022A.pkl\", \"source_or_target_dataset\": \"target\", \"x_transforms\": [\"unit_power\"], \"episode_transforms\": [], \"domain_prefix\": \"ORACLE.run1\"}], \"dataset_seed\": 7, \"seed\": 7, \"x_shape\": [2, 256], \"domains_source\": [\"Wisig_1\", \"Wisig_2\", \"Wisig_3\", \"Wisig_4\"], \"domains_target\": [\"ORACLE.run132\", \"ORACLE.run138\", \"ORACLE.run18\", \"ORACLE.run144\", \"ORACLE.run114\", \"ORACLE.run150\", \"ORACLE.run120\", \"ORACLE.run126\"]}, \"results\": {\"source_test_label_accuracy\": 0.9594620743034056, \"source_test_label_loss\": 0.17895987629890442, \"target_test_label_accuracy\": 0.12211588541666667, \"target_test_label_loss\": 2.652269124984741, \"source_val_label_accuracy\": 0.9596092925026399, \"source_val_label_loss\": 0.1759924441576004, \"target_val_label_accuracy\": 0.12169270833333333, \"target_val_label_loss\": 2.653326988220215, \"total_epochs_trained\": 5, \"total_experiment_time_secs\": 1452.6885623931885, \"confusion\": {\"Wisig_4\": {\"71\": {\"71\": 103, \"84\": 1}, \"17\": {\"17\": 20}, \"105\": {\"105\": 81, \"12\": 2, \"71\": 3, \"40\": 4, \"87\": 5, \"69\": 2, \"39\": 1, \"117\": 1, \"128\": 1}, \"92\": {\"92\": 27, \"84\": 1}, \"100\": {\"100\": 20}, \"6\": {\"6\": 19, \"35\": 1, \"94\": 1, \"125\": 2, \"10\": 1}, \"36\": {\"36\": 124, \"24\": 2, \"26\": 1, \"1\": 1}, \"35\": {\"35\": 12}, \"63\": {\"63\": 16}, \"104\": {\"104\": 16}, \"114\": {\"114\": 124, \"94\": 1, \"113\": 1, \"3\": 1, \"105\": 1}, \"68\": {\"68\": 16}, \"109\": {\"109\": 114, \"91\": 1, \"26\": 1}, \"27\": {\"27\": 94, \"81\": 1, \"78\": 1, \"73\": 1, \"7\": 1, \"88\": 1, \"110\": 1}, \"79\": {\"79\": 16}, \"0\": {\"0\": 98, \"69\": 1, \"70\": 1, \"118\": 1, \"21\": 1, \"87\": 1, \"107\": 1, \"39\": 1, \"12\": 1}, \"28\": {\"28\": 19, \"10\": 1}, \"4\": {\"4\": 101, \"21\": 1, \"27\": 1, \"85\": 1}, \"106\": {\"106\": 98, \"21\": 1, \"39\": 2, \"69\": 1}, \"40\": {\"40\": 131, \"16\": 1, \"69\": 1, \"18\": 1}, \"127\": {\"127\": 105, \"67\": 1, \"12\": 1, \"4\": 1}, \"57\": {\"57\": 14, \"51\": 1, \"119\": 1}, \"60\": {\"60\": 29, \"21\": 1, \"71\": 1, \"43\": 1}, \"69\": {\"69\": 120, \"84\": 1, \"71\": 1, \"1\": 1, \"3\": 1}, \"84\": {\"84\": 128, \"21\": 1, \"78\": 1, \"118\": 1, \"3\": 1}, \"24\": {\"24\": 105, \"10\": 1, \"21\": 1, \"97\": 1, \"40\": 1, \"113\": 1, \"36\": 7, \"84\": 1, \"4\": 1, \"127\": 1}, \"94\": {\"69\": 1, \"94\": 83, \"36\": 1, \"71\": 1, \"15\": 1, \"26\": 1}, \"7\": {\"7\": 114, \"68\": 1, \"87\": 1, \"69\": 2, \"66\": 1, \"27\": 1}, \"96\": {\"96\": 16, \"29\": 1, \"85\": 1, \"91\": 1, \"21\": 1}, \"116\": {\"116\": 28}, \"47\": {\"47\": 7, \"94\": 1, \"127\": 2, \"65\": 1, \"70\": 1}, \"119\": {\"119\": 15, \"25\": 1}, \"74\": {\"74\": 15, \"113\": 1}, \"93\": {\"93\": 151, \"0\": 1}, \"2\": {\"93\": 3, \"2\": 21, \"26\": 3, \"92\": 1}, \"37\": {\"37\": 15, \"51\": 1}, \"15\": {\"15\": 125, \"26\": 1, \"106\": 1, \"69\": 1}, \"102\": {\"102\": 136}, \"87\": {\"87\": 114, \"113\": 1, \"105\": 4, \"126\": 1, \"26\": 1, \"43\": 1}, \"107\": {\"107\": 142, \"41\": 1, \"114\": 1}, \"61\": {\"61\": 14, \"91\": 1, \"21\": 1}, \"78\": {\"74\": 2, \"78\": 28, \"84\": 1, \"50\": 2, \"27\": 1, \"87\": 1, \"21\": 1}, \"9\": {\"9\": 28}, \"32\": {\"32\": 23, \"55\": 2, \"118\": 3}, \"14\": {\"14\": 111, \"31\": 1}, \"62\": {\"62\": 55, \"81\": 1, \"88\": 1, \"27\": 1, \"106\": 2}, \"1\": {\"24\": 1, \"1\": 96, \"126\": 1, \"33\": 2, \"111\": 2}, \"23\": {\"23\": 9, \"91\": 2, \"80\": 1, \"13\": 1, \"21\": 1, \"78\": 1, \"12\": 1}, \"95\": {\"95\": 31, \"76\": 1}, \"56\": {\"56\": 12}, \"91\": {\"91\": 22, \"85\": 2}, \"34\": {\"34\": 20, \"91\": 4, \"78\": 2, \"107\": 1, \"103\": 1, \"29\": 2, \"8\": 2}, \"25\": {\"25\": 16}, \"33\": {\"33\": 123, \"122\": 1}, \"16\": {\"16\": 119, \"69\": 1, \"39\": 1, \"118\": 1, \"87\": 1, \"90\": 1}, \"26\": {\"26\": 124, \"21\": 1, \"18\": 1}, \"5\": {\"5\": 128, \"26\": 1, \"3\": 1, \"39\": 1, \"81\": 1, \"69\": 1, \"29\": 1, \"16\": 1, \"93\": 1}, \"123\": {\"123\": 15, \"6\": 1}, \"8\": {\"8\": 117, \"27\": 1}, \"83\": {\"83\": 24, \"79\": 1, \"71\": 1, \"12\": 1, \"78\": 1}, \"125\": {\"125\": 134}, \"51\": {\"23\": 2, \"51\": 7, \"61\": 1, \"53\": 1, \"98\": 2, \"92\": 1, \"54\": 1, \"78\": 1}, \"22\": {\"22\": 16}, \"54\": {\"54\": 16}, \"66\": {\"66\": 16}, \"59\": {\"59\": 10, \"6\": 1, \"21\": 1}, \"111\": {\"111\": 126, \"5\": 1, \"110\": 1}, \"77\": {\"77\": 12}, \"103\": {\"103\": 16}, \"20\": {\"20\": 15, \"32\": 1}, \"124\": {\"124\": 117, \"98\": 1, \"26\": 1, \"70\": 1}, \"99\": {\"99\": 39, \"69\": 1}, \"120\": {\"91\": 1, \"120\": 18, \"21\": 1}, \"76\": {\"76\": 15, \"81\": 1}, \"110\": {\"110\": 111, \"26\": 1, \"12\": 1, \"71\": 2, \"36\": 1}, \"29\": {\"29\": 31, \"106\": 1}, \"118\": {\"118\": 105, \"12\": 1, \"71\": 1, \"106\": 1, \"78\": 2, \"21\": 1, \"11\": 1}, \"58\": {\"58\": 14, \"40\": 1, \"88\": 1}, \"13\": {\"13\": 15, \"85\": 1}, \"89\": {\"89\": 32}, \"31\": {\"31\": 15, \"71\": 1}, \"64\": {\"64\": 15, \"85\": 1}, \"65\": {\"65\": 12}, \"101\": {\"101\": 129, \"80\": 1, \"0\": 1, \"26\": 1}, \"126\": {\"126\": 117, \"111\": 1}, \"108\": {\"108\": 81, \"23\": 1, \"8\": 1, \"69\": 2, \"71\": 1, \"109\": 2, \"30\": 1, \"18\": 1, \"107\": 1, \"88\": 1}, \"45\": {\"45\": 16}, \"21\": {\"21\": 35, \"39\": 1, \"69\": 1, \"78\": 2, \"81\": 1}, \"30\": {\"30\": 73, \"39\": 1, \"15\": 1, \"127\": 1}, \"82\": {\"82\": 30, \"70\": 1, \"98\": 1}, \"85\": {\"85\": 28}, \"88\": {\"88\": 120, \"70\": 4, \"39\": 1, \"113\": 1, \"122\": 1, \"118\": 1, \"15\": 1, \"26\": 1, \"105\": 1, \"27\": 1}, \"41\": {\"41\": 15, \"88\": 1}, \"128\": {\"8\": 3, \"32\": 1, \"128\": 17, \"72\": 2, \"23\": 1}, \"39\": {\"39\": 96, \"114\": 1, \"81\": 1, \"2\": 1, \"71\": 1}, \"18\": {\"18\": 113, \"69\": 1, \"21\": 1, \"5\": 1, \"39\": 2, \"0\": 1, \"3\": 1}, \"113\": {\"113\": 122, \"114\": 1, \"39\": 1, \"0\": 1, \"41\": 1, \"68\": 1, \"3\": 1}, \"11\": {\"11\": 134, \"70\": 1, \"39\": 1, \"1\": 1, \"84\": 1}, \"43\": {\"43\": 115, \"87\": 2, \"26\": 1, \"39\": 1, \"105\": 1}, \"12\": {\"12\": 97, \"1\": 1, \"110\": 1, \"39\": 1}, \"122\": {\"122\": 80, \"94\": 1, \"69\": 1, \"109\": 1, \"7\": 1}, \"52\": {\"52\": 20}, \"44\": {\"44\": 64}, \"90\": {\"90\": 133, \"98\": 1}, \"112\": {\"112\": 16}, \"86\": {\"86\": 28}, \"3\": {\"3\": 114, \"84\": 1, \"69\": 1}, \"38\": {\"38\": 16}, \"121\": {\"121\": 28, \"44\": 2, \"85\": 1, \"39\": 1}, \"46\": {\"46\": 19, \"59\": 1}, \"70\": {\"70\": 122, \"117\": 1, \"126\": 1}, \"67\": {\"67\": 11, \"34\": 1, \"123\": 2, \"113\": 2}, \"53\": {\"53\": 16}, \"49\": {\"49\": 27, \"53\": 1, \"8\": 1, \"42\": 2, \"19\": 1}, \"42\": {\"42\": 23, \"49\": 1, \"9\": 1, \"8\": 2, \"83\": 1}, \"10\": {\"10\": 110, \"27\": 1, \"114\": 1, \"128\": 1, \"36\": 2, \"2\": 1, \"127\": 1, \"15\": 1}, \"50\": {\"50\": 16}, \"73\": {\"73\": 23, \"125\": 1}, \"115\": {\"115\": 10, \"89\": 1, \"50\": 1, \"99\": 1, \"64\": 1, \"109\": 1, \"72\": 1}, \"80\": {\"80\": 15, \"106\": 1}, \"19\": {\"19\": 26, \"26\": 1, \"126\": 1}, \"55\": {\"55\": 16}, \"72\": {\"72\": 31, \"98\": 1}, \"117\": {\"117\": 116}, \"81\": {\"81\": 33, \"72\": 1, \"69\": 1, \"78\": 1}, \"75\": {\"75\": 16}, \"98\": {\"98\": 117, \"24\": 1, \"25\": 1, \"31\": 1}, \"48\": {\"48\": 16}, \"129\": {\"14\": 1, \"129\": 20, \"108\": 2, \"19\": 3, \"8\": 1, \"10\": 1}, \"97\": {\"97\": 19, \"16\": 1}}, \"Wisig_1\": {\"105\": {\"105\": 82, \"40\": 2}, \"100\": {\"100\": 16}, \"112\": {\"112\": 16}, \"123\": {\"123\": 16}, \"13\": {\"13\": 16}, \"81\": {\"81\": 28}, \"124\": {\"124\": 119, \"125\": 1}, \"122\": {\"122\": 88}, \"111\": {\"111\": 118, \"26\": 1, \"70\": 1}, \"93\": {\"93\": 155, \"87\": 1, \"40\": 1, \"43\": 1}, \"106\": {\"106\": 114, \"17\": 2, \"12\": 1, \"88\": 1}, \"113\": {\"113\": 123, \"122\": 1}, \"95\": {\"95\": 36}, \"87\": {\"87\": 103, \"94\": 1, \"105\": 2, \"93\": 1, \"18\": 1}, \"86\": {\"86\": 35, \"52\": 1}, \"67\": {\"67\": 16}, \"85\": {\"85\": 32}, \"82\": {\"82\": 36}, \"115\": {\"115\": 12}, \"7\": {\"7\": 142}, \"44\": {\"44\": 76}, \"65\": {\"82\": 1, \"76\": 1, \"65\": 4, \"49\": 1, \"34\": 2, \"74\": 1, \"63\": 2}, \"129\": {\"129\": 24, \"19\": 1, \"27\": 1, \"111\": 1, \"39\": 1}, \"42\": {\"42\": 22, \"29\": 1, \"75\": 1, \"60\": 2, \"124\": 1, \"86\": 1}, \"28\": {\"65\": 1, \"28\": 18, \"52\": 1}, \"0\": {\"0\": 82, \"75\": 1, \"24\": 1}, \"10\": {\"10\": 115, \"0\": 3, \"57\": 1, \"85\": 1}, \"76\": {\"76\": 15, \"36\": 1}, \"88\": {\"88\": 125, \"36\": 1}, \"29\": {\"29\": 28}, \"16\": {\"16\": 105, \"127\": 1, \"23\": 1, \"12\": 1}, \"41\": {\"41\": 16}, \"27\": {\"27\": 91, \"94\": 1}, \"33\": {\"33\": 118, \"91\": 1, \"21\": 1}, \"75\": {\"75\": 16}, \"48\": {\"48\": 12}, \"56\": {\"56\": 11, \"71\": 1}, \"9\": {\"9\": 31, \"26\": 1}, \"1\": {\"1\": 125, \"5\": 1}, \"39\": {\"39\": 103, \"18\": 1}, \"50\": {\"75\": 1, \"50\": 12, \"91\": 1, \"65\": 2}, \"99\": {\"99\": 23, \"106\": 1}, \"90\": {\"90\": 122}, \"45\": {\"104\": 1, \"45\": 7, \"112\": 1, \"96\": 2, \"21\": 1}, \"5\": {\"5\": 88}, \"128\": {\"128\": 19, \"70\": 1, \"82\": 1, \"73\": 1, \"34\": 1, \"115\": 1}, \"2\": {\"45\": 1, \"2\": 24, \"70\": 1, \"82\": 1, \"60\": 1, \"34\": 1, \"114\": 2, \"54\": 1}, \"53\": {\"53\": 20}, \"104\": {\"104\": 16}, \"32\": {\"32\": 32}, \"92\": {\"92\": 28}, \"78\": {\"78\": 14, \"80\": 1, \"21\": 1}, \"19\": {\"19\": 28}, \"120\": {\"120\": 19, \"93\": 1}, \"43\": {\"43\": 123, \"12\": 2, \"106\": 1, \"70\": 1, \"84\": 1}, \"74\": {\"74\": 16}, \"11\": {\"11\": 129, \"106\": 1}, \"26\": {\"26\": 130, \"69\": 2}, \"125\": {\"125\": 132}, \"64\": {\"64\": 16}, \"127\": {\"127\": 105, \"26\": 1, \"69\": 1, \"94\": 1}, \"83\": {\"83\": 27, \"12\": 1}, \"118\": {\"118\": 83, \"93\": 1}, \"103\": {\"103\": 15, \"106\": 1}, \"55\": {\"55\": 12}, \"110\": {\"110\": 126}, \"30\": {\"30\": 51, \"108\": 1}, \"51\": {\"51\": 16}, \"6\": {\"6\": 27, \"52\": 1, \"91\": 2, \"34\": 2}, \"96\": {\"96\": 17, \"12\": 1, \"126\": 2}, \"114\": {\"114\": 142, \"71\": 1, \"39\": 1}, \"69\": {\"69\": 107, \"12\": 1}, \"60\": {\"60\": 6, \"100\": 1, \"34\": 1, \"2\": 1, \"72\": 2, \"42\": 1, \"81\": 1, \"123\": 1, \"21\": 1, \"119\": 1}, \"94\": {\"94\": 92}, \"79\": {\"79\": 12}, \"126\": {\"126\": 131, \"12\": 1, \"109\": 1, \"73\": 1}, \"68\": {\"68\": 16}, \"72\": {\"72\": 32}, \"63\": {\"63\": 16}, \"22\": {\"22\": 15, \"6\": 1}, \"121\": {\"121\": 31, \"70\": 1}, \"71\": {\"71\": 102, \"34\": 1, \"106\": 1, \"43\": 1, \"52\": 1, \"1\": 1, \"26\": 1}, \"54\": {\"54\": 16}, \"102\": {\"102\": 119, \"17\": 1}, \"73\": {\"73\": 17, \"75\": 1, \"98\": 1, \"104\": 1}, \"38\": {\"38\": 16}, \"4\": {\"4\": 95, \"105\": 2, \"113\": 1, \"107\": 1, \"69\": 1}, \"52\": {\"52\": 20}, \"70\": {\"70\": 123, \"12\": 2, \"83\": 1, \"27\": 1, \"113\": 1}, \"91\": {\"91\": 26, \"58\": 2}, \"77\": {\"77\": 15, \"61\": 1}, \"20\": {\"20\": 16}, \"59\": {\"59\": 12}, \"40\": {\"40\": 133, \"105\": 1, \"118\": 1, \"70\": 1}, \"98\": {\"98\": 108}, \"46\": {\"11\": 1, \"46\": 5, \"94\": 1, \"71\": 1, \"59\": 2, \"53\": 1, \"54\": 1}, \"34\": {\"34\": 21, \"86\": 1, \"77\": 2, \"95\": 1, \"61\": 1, \"125\": 1, \"29\": 3, \"21\": 1, \"53\": 1}, \"24\": {\"24\": 85, \"113\": 1, \"126\": 1, \"36\": 1, \"97\": 2, \"3\": 1, \"39\": 1}, \"62\": {\"62\": 118, \"125\": 1, \"12\": 1}, \"14\": {\"14\": 96}, \"12\": {\"12\": 100, \"70\": 2, \"113\": 1, \"39\": 1}, \"84\": {\"84\": 131, \"107\": 1, \"122\": 1, \"39\": 1}, \"37\": {\"37\": 16}, \"97\": {\"27\": 1, \"97\": 19}, \"57\": {\"57\": 11, \"89\": 1}, \"49\": {\"49\": 15, \"101\": 1, \"70\": 3, \"12\": 1}, \"17\": {\"17\": 14, \"2\": 1, \"71\": 1}, \"109\": {\"109\": 106}, \"80\": {\"80\": 16}, \"66\": {\"66\": 16}, \"101\": {\"101\": 123, \"70\": 1}, \"89\": {\"89\": 34, \"21\": 1, \"54\": 1}, \"31\": {\"31\": 16}, \"21\": {\"23\": 1, \"21\": 33, \"128\": 2, \"106\": 2, \"73\": 1, \"69\": 1}, \"23\": {\"23\": 14, \"18\": 1, \"44\": 1, \"55\": 4, \"98\": 1, \"61\": 1, \"66\": 2}, \"25\": {\"25\": 15, \"30\": 1}, \"107\": {\"107\": 108, \"105\": 1, \"87\": 1, \"113\": 1, \"94\": 1}, \"3\": {\"3\": 84, \"6\": 1, \"122\": 1, \"12\": 1, \"93\": 1}, \"61\": {\"61\": 11, \"65\": 1}, \"117\": {\"117\": 125, \"102\": 1}, \"119\": {\"119\": 15, \"65\": 1}, \"58\": {\"58\": 12}, \"47\": {\"47\": 12}, \"116\": {\"116\": 32}, \"18\": {\"18\": 122, \"113\": 2}, \"36\": {\"36\": 116, \"118\": 1, \"12\": 1, \"88\": 3, \"71\": 1}, \"108\": {\"108\": 112}, \"15\": {\"15\": 102, \"12\": 1, \"87\": 1}, \"8\": {\"8\": 114}, \"35\": {\"35\": 12}}, \"Wisig_2\": {\"3\": {\"3\": 128, \"26\": 1, \"61\": 1, \"39\": 1, \"70\": 1}, \"127\": {\"127\": 119, \"21\": 1}, \"58\": {\"58\": 20}, \"114\": {\"114\": 110, \"46\": 1, \"12\": 1}, \"111\": {\"111\": 141, \"127\": 1, \"15\": 1, \"93\": 1}, \"105\": {\"105\": 130, \"95\": 1, \"122\": 1}, \"118\": {\"114\": 1, \"118\": 65, \"13\": 1, \"36\": 1}, \"23\": {\"21\": 2, \"23\": 32, \"12\": 1, \"113\": 2, \"70\": 1, \"48\": 2, \"122\": 1, \"99\": 1, \"87\": 1, \"61\": 1}, \"21\": {\"21\": 40, \"114\": 1, \"118\": 1, \"5\": 1, \"122\": 1, \"85\": 1, \"24\": 1, \"70\": 1, \"71\": 1}, \"20\": {\"20\": 15, \"21\": 1}, \"75\": {\"75\": 15, \"41\": 1}, \"86\": {\"86\": 32}, \"60\": {\"60\": 24, \"123\": 1, \"57\": 1, \"88\": 1, \"114\": 1}, \"69\": {\"69\": 131, \"4\": 1, \"26\": 1, \"12\": 1, \"117\": 1, \"94\": 1, \"39\": 1, \"122\": 2, \"62\": 1}, \"99\": {\"99\": 31, \"65\": 1}, \"14\": {\"14\": 40, \"81\": 1, \"116\": 1, \"127\": 1, \"110\": 1, \"107\": 1, \"71\": 2, \"73\": 1}, \"25\": {\"25\": 15, \"85\": 1}, \"52\": {\"52\": 18, \"12\": 1, \"128\": 1}, \"47\": {\"47\": 9, \"49\": 1, \"118\": 1, \"14\": 1}, \"48\": {\"48\": 19, \"125\": 1}, \"27\": {\"27\": 57, \"30\": 1, \"87\": 1, \"24\": 2, \"84\": 1, \"39\": 1, \"36\": 1, \"0\": 1, \"85\": 1, \"113\": 1, \"62\": 1}, \"78\": {\"78\": 41, \"43\": 2, \"10\": 1, \"40\": 1, \"70\": 2, \"19\": 1}, \"8\": {\"8\": 119, \"23\": 1, \"69\": 1, \"30\": 1}, \"90\": {\"90\": 156, \"51\": 1, \"34\": 1, \"39\": 1, \"60\": 1}, \"103\": {\"103\": 16}, \"120\": {\"120\": 20}, \"96\": {\"96\": 20}, \"30\": {\"30\": 101, \"59\": 1, \"80\": 1, \"27\": 1}, \"33\": {\"33\": 146}, \"35\": {\"35\": 12}, \"108\": {\"108\": 116}, \"112\": {\"112\": 10, \"44\": 2, \"108\": 2, \"126\": 2}, \"40\": {\"40\": 130, \"21\": 1, \"100\": 1, \"62\": 1, \"94\": 1, \"127\": 1, \"105\": 1, \"70\": 1, \"12\": 2, \"18\": 1}, \"102\": {\"102\": 113, \"30\": 1, \"122\": 1, \"12\": 1}, \"56\": {\"56\": 12}, \"93\": {\"93\": 133, \"39\": 2, \"16\": 1}, \"68\": {\"68\": 15, \"31\": 1}, \"70\": {\"70\": 120, \"16\": 1, \"78\": 1, \"19\": 1, \"106\": 1}, \"7\": {\"7\": 123, \"92\": 1}, \"87\": {\"80\": 1, \"87\": 102, \"2\": 2, \"43\": 1, \"113\": 1, \"39\": 1, \"33\": 1, \"40\": 1, \"114\": 1, \"16\": 1}, \"54\": {\"80\": 1, \"54\": 19}, \"71\": {\"71\": 96, \"36\": 1, \"39\": 2, \"21\": 1}, \"80\": {\"80\": 16}, \"18\": {\"18\": 120, \"39\": 1, \"26\": 1}, \"101\": {\"101\": 119, \"78\": 1, \"0\": 2}, \"92\": {\"92\": 27, \"71\": 1}, \"32\": {\"32\": 32, \"79\": 1, \"107\": 2, \"127\": 1}, \"128\": {\"101\": 2, \"128\": 11, \"29\": 2, \"59\": 5, \"5\": 1, \"12\": 1, \"19\": 2}, \"6\": {\"6\": 28, \"77\": 1, \"103\": 1, \"101\": 1, \"52\": 1}, \"51\": {\"6\": 2, \"51\": 14, \"41\": 1, \"125\": 1, \"91\": 1, \"70\": 1}, \"85\": {\"85\": 31, \"65\": 1}, \"46\": {\"46\": 16}, \"22\": {\"22\": 20}, \"1\": {\"1\": 117, \"78\": 1, \"71\": 1, \"30\": 1, \"102\": 1, \"69\": 1}, \"37\": {\"37\": 16}, \"44\": {\"44\": 97, \"73\": 1, \"87\": 1, \"118\": 1}, \"24\": {\"24\": 100, \"78\": 1, \"27\": 2, \"62\": 1, \"94\": 1, \"39\": 1, \"70\": 1, \"21\": 1, \"30\": 1, \"110\": 1, \"36\": 1, \"122\": 1}, \"9\": {\"9\": 32}, \"116\": {\"60\": 2, \"116\": 21, \"87\": 2, \"82\": 2, \"70\": 1}, \"64\": {\"64\": 16}, \"129\": {\"129\": 32}, \"42\": {\"112\": 1, \"44\": 1, \"42\": 23, \"69\": 1, \"114\": 1, \"107\": 1}, \"117\": {\"117\": 119, \"93\": 1}, \"88\": {\"88\": 118, \"21\": 1, \"111\": 2, \"71\": 1, \"12\": 1, \"15\": 1}, \"31\": {\"31\": 20}, \"113\": {\"113\": 71, \"39\": 1}, \"38\": {\"38\": 16}, \"83\": {\"83\": 37, \"61\": 1, \"21\": 1, \"125\": 1}, \"49\": {\"49\": 17, \"29\": 1, \"11\": 1, \"44\": 1, \"53\": 1, \"71\": 1, \"47\": 1, \"128\": 1}, \"97\": {\"97\": 19, \"91\": 1}, \"76\": {\"76\": 16}, \"29\": {\"29\": 32}, \"61\": {\"61\": 19, \"12\": 1}, \"125\": {\"125\": 147, \"121\": 1}, \"126\": {\"126\": 118, \"78\": 1, \"23\": 1}, \"55\": {\"55\": 16}, \"0\": {\"0\": 103, \"27\": 1, \"92\": 1, \"101\": 1, \"21\": 1, \"18\": 1}, \"15\": {\"15\": 116, \"3\": 1, \"40\": 1, \"71\": 1, \"106\": 1}, \"26\": {\"26\": 133, \"71\": 1, \"40\": 1, \"127\": 1, \"0\": 1, \"12\": 1}, \"63\": {\"63\": 20}, \"57\": {\"57\": 20}, \"39\": {\"39\": 110, \"94\": 1, \"84\": 1}, \"62\": {\"62\": 135, \"39\": 2, \"22\": 1, \"12\": 1, \"102\": 1}, \"82\": {\"82\": 34, \"87\": 1, \"54\": 1}, \"11\": {\"11\": 78, \"12\": 1, \"122\": 1}, \"4\": {\"4\": 87, \"53\": 1}, \"41\": {\"41\": 20}, \"72\": {\"72\": 26, \"14\": 1, \"13\": 1}, \"16\": {\"16\": 118, \"3\": 1, \"93\": 3, \"39\": 1, \"110\": 1}, \"81\": {\"81\": 22, \"116\": 1, \"92\": 1}, \"67\": {\"67\": 16}, \"123\": {\"123\": 16}, \"66\": {\"66\": 20}, \"36\": {\"36\": 116, \"1\": 1, \"24\": 1, \"127\": 1, \"43\": 1, \"4\": 1, \"122\": 1, \"17\": 1, \"18\": 1, \"49\": 1, \"27\": 2, \"69\": 1}, \"115\": {\"115\": 11, \"21\": 1}, \"77\": {\"77\": 16}, \"119\": {\"119\": 20}, \"65\": {\"65\": 19, \"49\": 1}, \"34\": {\"13\": 2, \"34\": 24, \"6\": 1, \"8\": 1, \"98\": 1, \"52\": 1, \"86\": 1, \"107\": 1}, \"107\": {\"107\": 60, \"71\": 2, \"113\": 1, \"61\": 1}, \"13\": {\"13\": 16}, \"110\": {\"25\": 1, \"110\": 36, \"0\": 1, \"12\": 1, \"15\": 1}, \"106\": {\"106\": 115, \"108\": 1, \"114\": 1, \"39\": 1}, \"89\": {\"89\": 36}, \"94\": {\"27\": 1, \"94\": 54, \"122\": 1, \"14\": 1, \"21\": 1, \"106\": 1, \"69\": 1, \"31\": 1, \"71\": 1, \"49\": 1, \"88\": 1}, \"98\": {\"98\": 108, \"41\": 1, \"121\": 1, \"43\": 1, \"21\": 1}, \"91\": {\"91\": 24, \"98\": 1, \"41\": 1, \"86\": 1, \"101\": 1}, \"84\": {\"84\": 89, \"33\": 1, \"43\": 1, \"88\": 1}, \"73\": {\"59\": 1, \"73\": 27}, \"104\": {\"104\": 17, \"52\": 1, \"118\": 1, \"122\": 1}, \"59\": {\"59\": 15, \"52\": 1}, \"74\": {\"74\": 16}, \"28\": {\"28\": 19, \"59\": 1}, \"95\": {\"95\": 35, \"105\": 1}, \"2\": {\"2\": 26, \"72\": 2, \"100\": 2, \"115\": 1, \"117\": 1}, \"5\": {\"5\": 109, \"107\": 1, \"127\": 1, \"26\": 1}, \"50\": {\"50\": 15, \"69\": 1}, \"109\": {\"109\": 96, \"6\": 1, \"18\": 1, \"69\": 1, \"12\": 1}, \"10\": {\"10\": 56, \"113\": 1, \"26\": 1, \"62\": 2}, \"45\": {\"45\": 14, \"87\": 1, \"21\": 1}, \"121\": {\"65\": 1, \"121\": 29, \"18\": 1, \"125\": 1, \"23\": 1, \"26\": 1, \"89\": 2}, \"124\": {\"124\": 110}, \"53\": {\"110\": 1, \"53\": 13, \"128\": 1, \"25\": 1}, \"79\": {\"79\": 16}, \"43\": {\"43\": 107, \"78\": 2, \"26\": 1, \"122\": 1, \"101\": 1, \"70\": 1, \"16\": 1}, \"122\": {\"122\": 132, \"118\": 1, \"21\": 1, \"88\": 1, \"39\": 1, \"70\": 1, \"111\": 1}, \"100\": {\"100\": 15, \"83\": 1}, \"19\": {\"19\": 28}, \"12\": {\"12\": 86, \"128\": 1, \"69\": 1}, \"17\": {\"17\": 15, \"24\": 1}}, \"Wisig_3\": {\"38\": {\"38\": 16}, \"88\": {\"88\": 102, \"96\": 1, \"70\": 2, \"11\": 1, \"36\": 2, \"25\": 1, \"108\": 2, \"5\": 1}, \"104\": {\"104\": 16}, \"11\": {\"11\": 139, \"107\": 1}, \"103\": {\"103\": 15, \"12\": 1}, \"124\": {\"124\": 115, \"90\": 1}, \"3\": {\"3\": 112, \"43\": 1, \"101\": 1, \"27\": 1, \"114\": 1}, \"74\": {\"74\": 13, \"25\": 1, \"57\": 2}, \"126\": {\"126\": 120, \"127\": 1, \"39\": 1}, \"123\": {\"123\": 16}, \"51\": {\"51\": 15, \"111\": 1}, \"14\": {\"14\": 80}, \"16\": {\"16\": 112, \"93\": 1, \"110\": 1, \"26\": 1, \"71\": 1}, \"22\": {\"22\": 16}, \"109\": {\"109\": 121, \"62\": 1}, \"27\": {\"27\": 91, \"36\": 2, \"24\": 2, \"113\": 1}, \"75\": {\"75\": 16}, \"66\": {\"66\": 16}, \"48\": {\"53\": 3, \"48\": 7, \"86\": 2, \"99\": 2, \"20\": 1, \"74\": 1}, \"6\": {\"6\": 24, \"101\": 1, \"125\": 1, \"34\": 3, \"75\": 1, \"58\": 1, \"91\": 1}, \"10\": {\"10\": 109, \"16\": 1, \"86\": 1, \"12\": 1}, \"99\": {\"99\": 35, \"97\": 1}, \"50\": {\"50\": 16}, \"54\": {\"54\": 16}, \"55\": {\"55\": 16}, \"53\": {\"53\": 18, \"20\": 2}, \"72\": {\"72\": 28}, \"64\": {\"64\": 20}, \"115\": {\"23\": 1, \"115\": 15}, \"23\": {\"48\": 1, \"64\": 1, \"23\": 19, \"121\": 1, \"63\": 1, \"2\": 2, \"70\": 2, \"19\": 1, \"77\": 2, \"113\": 1, \"122\": 1}, \"32\": {\"57\": 3, \"32\": 24, \"107\": 2, \"14\": 1, \"128\": 1, \"66\": 1}, \"15\": {\"15\": 101, \"12\": 1, \"127\": 1, \"39\": 1}, \"43\": {\"23\": 1, \"43\": 49, \"21\": 4, \"84\": 1, \"33\": 1}, \"114\": {\"114\": 121, \"26\": 1, \"12\": 1, \"30\": 1}, \"121\": {\"81\": 1, \"121\": 30, \"80\": 1}, \"79\": {\"79\": 12}, \"81\": {\"81\": 32}, \"8\": {\"8\": 127, \"108\": 1}, \"13\": {\"121\": 1, \"13\": 7, \"115\": 2, \"2\": 1, \"116\": 1, \"64\": 1, \"61\": 1, \"11\": 1, \"39\": 1}, \"90\": {\"90\": 156}, \"41\": {\"8\": 1, \"41\": 15}, \"107\": {\"107\": 136}, \"57\": {\"57\": 20}, \"33\": {\"33\": 119, \"116\": 1}, \"35\": {\"35\": 12}, \"29\": {\"29\": 32}, \"70\": {\"70\": 67, \"84\": 1, \"39\": 1, \"69\": 1, \"12\": 1, \"8\": 1}, \"42\": {\"69\": 1, \"42\": 25, \"118\": 1, \"49\": 1}, \"93\": {\"93\": 126}, \"86\": {\"86\": 28}, \"28\": {\"28\": 16}, \"1\": {\"1\": 105, \"106\": 1, \"101\": 1, \"39\": 1}, \"125\": {\"125\": 122, \"44\": 1, \"117\": 1}, \"69\": {\"69\": 81, \"21\": 1, \"84\": 1, \"39\": 1}, \"97\": {\"97\": 20}, \"117\": {\"117\": 112}, \"68\": {\"68\": 16}, \"30\": {\"30\": 81, \"12\": 1, \"3\": 1, \"71\": 1}, \"111\": {\"111\": 132}, \"47\": {\"47\": 12}, \"102\": {\"102\": 124}, \"65\": {\"65\": 12}, \"113\": {\"113\": 118, \"106\": 1, \"69\": 1}, \"36\": {\"36\": 110, \"24\": 1, \"27\": 2, \"71\": 1}, \"119\": {\"119\": 16}, \"46\": {\"46\": 16}, \"49\": {\"49\": 21, \"70\": 1, \"81\": 1, \"98\": 1}, \"0\": {\"0\": 115, \"113\": 1}, \"58\": {\"58\": 15, \"52\": 1}, \"63\": {\"63\": 16}, \"94\": {\"94\": 84}, \"17\": {\"22\": 1, \"17\": 9, \"39\": 1, \"113\": 1, \"86\": 2, \"116\": 2}, \"9\": {\"9\": 31, \"71\": 1}, \"87\": {\"87\": 120}, \"59\": {\"59\": 11, \"30\": 1}, \"105\": {\"105\": 120}, \"80\": {\"80\": 15, \"71\": 1}, \"120\": {\"120\": 19, \"81\": 1}, \"18\": {\"18\": 129, \"34\": 1, \"127\": 1, \"90\": 1}, \"78\": {\"78\": 14, \"4\": 1, \"21\": 1}, \"25\": {\"25\": 16}, \"19\": {\"19\": 32}, \"122\": {\"122\": 55, \"17\": 1, \"92\": 1, \"2\": 1, \"71\": 1, \"39\": 1}, \"39\": {\"39\": 108}, \"76\": {\"76\": 16}, \"89\": {\"89\": 28}, \"129\": {\"129\": 28, \"110\": 3, \"16\": 1}, \"26\": {\"26\": 97, \"81\": 1, \"70\": 1, \"39\": 1}, \"85\": {\"85\": 35, \"108\": 1}, \"71\": {\"71\": 67, \"5\": 1}, \"77\": {\"77\": 16}, \"128\": {\"128\": 27, \"32\": 1, \"19\": 2, \"72\": 1, \"30\": 1}, \"2\": {\"26\": 3, \"2\": 25}, \"56\": {\"56\": 10, \"4\": 2}, \"24\": {\"24\": 45, \"36\": 3}, \"101\": {\"26\": 1, \"101\": 49, \"0\": 1, \"9\": 1}, \"52\": {\"52\": 16}, \"84\": {\"84\": 107, \"39\": 1}, \"7\": {\"7\": 109, \"39\": 1, \"5\": 1, \"114\": 1}, \"82\": {\"82\": 28}, \"60\": {\"60\": 20, \"122\": 1, \"19\": 1, \"29\": 3, \"82\": 2, \"110\": 1}, \"45\": {\"114\": 1, \"45\": 13, \"18\": 1, \"118\": 1}, \"40\": {\"40\": 124}, \"20\": {\"20\": 16}, \"4\": {\"4\": 96}, \"116\": {\"116\": 27, \"90\": 1}, \"61\": {\"61\": 16}, \"5\": {\"5\": 110, \"70\": 1, \"39\": 1}, \"106\": {\"106\": 100}, \"12\": {\"12\": 104}, \"62\": {\"62\": 118, \"69\": 1, \"39\": 1}, \"34\": {\"28\": 2, \"34\": 21, \"115\": 1, \"116\": 1, \"124\": 1, \"45\": 2, \"128\": 1, \"99\": 1, \"30\": 2}, \"91\": {\"91\": 24}, \"112\": {\"112\": 14, \"101\": 1, \"83\": 1}, \"92\": {\"92\": 32}, \"95\": {\"95\": 32}, \"96\": {\"96\": 20}, \"127\": {\"127\": 105, \"34\": 1, \"39\": 1, \"125\": 1}, \"67\": {\"67\": 15, \"114\": 1}, \"83\": {\"83\": 24}, \"21\": {\"43\": 1, \"78\": 2, \"21\": 41, \"106\": 1, \"122\": 1, \"118\": 1, \"94\": 1}, \"98\": {\"98\": 123, \"44\": 1}, \"108\": {\"108\": 128, \"8\": 3, \"127\": 1}, \"31\": {\"31\": 20}, \"118\": {\"118\": 98, \"29\": 1, \"43\": 1}, \"110\": {\"110\": 92}, \"73\": {\"73\": 40}, \"44\": {\"44\": 70, \"125\": 1, \"26\": 1}, \"37\": {\"37\": 15, \"118\": 1}, \"100\": {\"100\": 16}}, \"ORACLE.run126\": {\"0\": {\"7\": 82, \"3\": 91, \"2\": 110, \"5\": 53, \"4\": 97, \"10\": 89, \"13\": 39, \"6\": 70, \"15\": 54, \"14\": 103, \"11\": 13, \"12\": 53, \"1\": 99, \"0\": 82, \"8\": 82, \"9\": 83}, \"4\": {\"14\": 84, \"7\": 93, \"0\": 82, \"10\": 112, \"1\": 106, \"4\": 107, \"12\": 55, \"8\": 85, \"3\": 105, \"13\": 44, \"15\": 58, \"2\": 81, \"9\": 58, \"5\": 54, \"6\": 63, \"11\": 13}, \"14\": {\"14\": 119, \"4\": 104, \"8\": 85, \"10\": 83, \"7\": 92, \"0\": 107, \"12\": 46, \"15\": 71, \"2\": 67, \"1\": 103, \"3\": 80, \"6\": 76, \"13\": 35, \"9\": 59, \"11\": 25, \"5\": 48}, \"12\": {\"6\": 71, \"11\": 146, \"3\": 66, \"13\": 106, \"12\": 139, \"15\": 84, \"5\": 75, \"9\": 74, \"7\": 71, \"0\": 55, \"8\": 63, \"14\": 41, \"2\": 65, \"4\": 45, \"1\": 44, \"10\": 55}, \"8\": {\"6\": 68, \"2\": 77, \"3\": 79, \"9\": 74, \"10\": 80, \"5\": 75, \"11\": 40, \"13\": 62, \"7\": 82, \"14\": 74, \"0\": 90, \"4\": 101, \"8\": 74, \"15\": 58, \"12\": 67, \"1\": 99}, \"7\": {\"0\": 92, \"10\": 97, \"7\": 87, \"8\": 78, \"5\": 85, \"3\": 101, \"13\": 57, \"2\": 106, \"12\": 43, \"14\": 75, \"4\": 90, \"9\": 60, \"1\": 92, \"15\": 61, \"6\": 58, \"11\": 18}, \"13\": {\"6\": 83, \"11\": 134, \"2\": 76, \"0\": 45, \"9\": 89, \"13\": 123, \"3\": 67, \"12\": 113, \"10\": 59, \"5\": 97, \"15\": 81, \"7\": 48, \"1\": 38, \"4\": 46, \"8\": 54, \"14\": 47}, \"5\": {\"2\": 89, \"9\": 95, \"3\": 77, \"5\": 87, \"4\": 49, \"6\": 100, \"13\": 87, \"8\": 72, \"7\": 78, \"12\": 81, \"1\": 50, \"15\": 88, \"14\": 42, \"0\": 62, \"10\": 71, \"11\": 72}, \"15\": {\"2\": 85, \"5\": 92, \"13\": 74, \"6\": 88, \"4\": 70, \"9\": 80, \"1\": 68, \"0\": 66, \"11\": 50, \"12\": 83, \"14\": 53, \"7\": 90, \"3\": 64, \"10\": 60, \"8\": 98, \"15\": 79}, \"10\": {\"13\": 54, \"0\": 94, \"4\": 82, \"11\": 23, \"1\": 99, \"2\": 71, \"3\": 74, \"10\": 115, \"7\": 79, \"15\": 72, \"6\": 82, \"14\": 77, \"8\": 83, \"12\": 66, \"9\": 74, \"5\": 55}, \"3\": {\"6\": 78, \"2\": 94, \"9\": 72, \"12\": 47, \"14\": 86, \"10\": 87, \"13\": 54, \"7\": 99, \"5\": 73, \"4\": 97, \"0\": 86, \"11\": 29, \"3\": 76, \"15\": 63, \"8\": 64, \"1\": 95}, \"9\": {\"10\": 80, \"14\": 74, \"12\": 89, \"9\": 77, \"2\": 82, \"5\": 100, \"6\": 77, \"13\": 75, \"4\": 71, \"11\": 43, \"15\": 73, \"7\": 76, \"0\": 58, \"3\": 76, \"1\": 70, \"8\": 79}, \"6\": {\"0\": 72, \"9\": 94, \"5\": 81, \"10\": 97, \"15\": 81, \"7\": 61, \"11\": 59, \"6\": 80, \"12\": 82, \"3\": 62, \"13\": 76, \"4\": 57, \"1\": 60, \"2\": 77, \"14\": 74, \"8\": 87}, \"1\": {\"4\": 107, \"6\": 51, \"9\": 67, \"5\": 62, \"0\": 114, \"12\": 43, \"8\": 81, \"7\": 79, \"14\": 101, \"3\": 107, \"2\": 65, \"1\": 115, \"10\": 88, \"13\": 39, \"15\": 65, \"11\": 16}, \"11\": {\"5\": 97, \"6\": 70, \"11\": 416, \"12\": 150, \"15\": 66, \"9\": 65, \"8\": 37, \"7\": 27, \"13\": 134, \"1\": 11, \"4\": 16, \"3\": 28, \"2\": 35, \"14\": 15, \"0\": 12, \"10\": 21}, \"2\": {\"10\": 79, \"2\": 83, \"7\": 88, \"4\": 85, \"8\": 71, \"9\": 74, \"0\": 94, \"15\": 76, \"6\": 67, \"3\": 103, \"13\": 56, \"5\": 72, \"14\": 77, \"12\": 61, \"11\": 42, \"1\": 72}}, \"ORACLE.run144\": {\"1\": {\"9\": 102, \"13\": 72, \"2\": 85, \"14\": 69, \"3\": 133, \"12\": 143, \"4\": 58, \"5\": 24, \"7\": 99, \"1\": 147, \"10\": 114, \"11\": 49, \"6\": 62, \"15\": 24, \"0\": 8, \"8\": 11}, \"11\": {\"11\": 206, \"13\": 163, \"9\": 107, \"3\": 31, \"6\": 213, \"10\": 87, \"7\": 99, \"1\": 65, \"4\": 33, \"2\": 100, \"14\": 27, \"12\": 53, \"5\": 9, \"15\": 4, \"0\": 2, \"8\": 1}, \"3\": {\"7\": 97, \"3\": 162, \"2\": 83, \"4\": 90, \"14\": 82, \"1\": 114, \"12\": 142, \"0\": 22, \"10\": 77, \"9\": 89, \"11\": 35, \"13\": 57, \"15\": 47, \"5\": 54, \"6\": 30, \"8\": 19}, \"6\": {\"11\": 172, \"10\": 103, \"9\": 114, \"3\": 32, \"13\": 147, \"6\": 239, \"2\": 117, \"7\": 99, \"12\": 57, \"4\": 41, \"1\": 47, \"5\": 10, \"14\": 18, \"15\": 2, \"0\": 1, \"8\": 1}, \"7\": {\"3\": 87, \"6\": 127, \"12\": 95, \"10\": 123, \"13\": 100, \"7\": 118, \"9\": 106, \"1\": 109, \"2\": 90, \"0\": 8, \"11\": 104, \"4\": 54, \"14\": 50, \"15\": 10, \"5\": 17, \"8\": 2}, \"5\": {\"15\": 174, \"8\": 156, \"12\": 25, \"5\": 179, \"4\": 115, \"14\": 150, \"0\": 166, \"1\": 32, \"6\": 14, \"3\": 47, \"10\": 15, \"7\": 27, \"2\": 20, \"13\": 25, \"9\": 37, \"11\": 18}, \"2\": {\"12\": 88, \"11\": 131, \"4\": 45, \"13\": 108, \"2\": 114, \"3\": 75, \"10\": 97, \"1\": 109, \"7\": 127, \"14\": 43, \"9\": 87, \"0\": 6, \"6\": 142, \"15\": 6, \"5\": 19, \"8\": 3}, \"15\": {\"5\": 175, \"15\": 190, \"0\": 210, \"4\": 128, \"14\": 129, \"12\": 26, \"8\": 174, \"1\": 31, \"7\": 15, \"9\": 29, \"3\": 55, \"10\": 13, \"13\": 7, \"2\": 12, \"11\": 4, \"6\": 2}, \"10\": {\"1\": 121, \"3\": 85, \"11\": 79, \"7\": 113, \"6\": 132, \"4\": 34, \"9\": 118, \"2\": 124, \"8\": 2, \"12\": 109, \"13\": 88, \"5\": 12, \"15\": 8, \"10\": 140, \"14\": 30, \"0\": 5}, \"13\": {\"1\": 75, \"7\": 119, \"6\": 142, \"13\": 153, \"11\": 135, \"9\": 117, \"3\": 51, \"2\": 90, \"4\": 51, \"12\": 85, \"10\": 89, \"14\": 51, \"5\": 27, \"15\": 11, \"0\": 2, \"8\": 2}, \"8\": {\"15\": 227, \"8\": 334, \"14\": 78, \"5\": 149, \"0\": 285, \"3\": 30, \"7\": 4, \"1\": 13, \"4\": 50, \"12\": 4, \"9\": 13, \"13\": 7, \"10\": 2, \"2\": 2, \"11\": 2}, \"4\": {\"4\": 160, \"6\": 28, \"15\": 82, \"12\": 75, \"2\": 44, \"5\": 138, \"14\": 155, \"1\": 60, \"3\": 93, \"0\": 80, \"9\": 68, \"13\": 49, \"7\": 57, \"10\": 37, \"8\": 40, \"11\": 34}, \"9\": {\"3\": 77, \"7\": 111, \"4\": 77, \"2\": 115, \"14\": 42, \"9\": 119, \"6\": 119, \"11\": 88, \"10\": 105, \"13\": 87, \"1\": 107, \"15\": 8, \"8\": 12, \"12\": 105, \"0\": 5, \"5\": 23}, \"14\": {\"3\": 88, \"1\": 70, \"13\": 32, \"0\": 98, \"5\": 150, \"4\": 166, \"15\": 123, \"14\": 165, \"12\": 39, \"9\": 57, \"7\": 43, \"11\": 22, \"2\": 26, \"10\": 25, \"8\": 67, \"6\": 29}, \"0\": {\"15\": 218, \"8\": 233, \"0\": 235, \"14\": 123, \"4\": 85, \"12\": 24, \"3\": 42, \"5\": 185, \"9\": 11, \"2\": 5, \"1\": 18, \"11\": 4, \"7\": 7, \"13\": 6, \"10\": 3, \"6\": 1}, \"12\": {\"3\": 136, \"2\": 91, \"1\": 159, \"13\": 70, \"7\": 95, \"10\": 115, \"9\": 96, \"4\": 63, \"6\": 70, \"12\": 139, \"14\": 48, \"15\": 25, \"11\": 50, \"5\": 31, \"0\": 10, \"8\": 2}}, \"ORACLE.run150\": {\"15\": {\"0\": 37, \"14\": 53, \"13\": 91, \"6\": 104, \"4\": 141, \"12\": 55, \"15\": 144, \"11\": 114, \"7\": 87, \"3\": 9, \"1\": 105, \"5\": 93, \"9\": 113, \"2\": 10, \"10\": 37, \"8\": 7}, \"4\": {\"6\": 105, \"5\": 102, \"1\": 103, \"0\": 38, \"14\": 64, \"8\": 24, \"10\": 47, \"4\": 127, \"11\": 99, \"15\": 121, \"9\": 96, \"7\": 73, \"2\": 27, \"12\": 54, \"13\": 94, \"3\": 26}, \"6\": {\"5\": 111, \"13\": 82, \"1\": 107, \"3\": 40, \"7\": 85, \"9\": 76, \"14\": 43, \"6\": 110, \"0\": 47, \"15\": 119, \"8\": 43, \"10\": 54, \"11\": 88, \"4\": 103, \"12\": 61, \"2\": 31}, \"2\": {\"10\": 108, \"3\": 101, \"8\": 136, \"7\": 53, \"2\": 187, \"0\": 155, \"9\": 43, \"13\": 61, \"5\": 41, \"11\": 29, \"14\": 75, \"6\": 43, \"15\": 19, \"12\": 80, \"4\": 33, \"1\": 36}, \"5\": {\"14\": 63, \"8\": 43, \"7\": 87, \"11\": 83, \"13\": 98, \"3\": 53, \"5\": 100, \"10\": 80, \"2\": 33, \"6\": 116, \"1\": 105, \"0\": 43, \"15\": 95, \"4\": 90, \"12\": 45, \"9\": 66}, \"9\": {\"0\": 40, \"1\": 102, \"9\": 125, \"7\": 65, \"12\": 117, \"6\": 77, \"15\": 107, \"10\": 36, \"13\": 73, \"11\": 139, \"8\": 26, \"4\": 90, \"14\": 88, \"5\": 82, \"2\": 23, \"3\": 10}, \"8\": {\"8\": 235, \"13\": 53, \"7\": 70, \"2\": 150, \"3\": 198, \"4\": 29, \"0\": 140, \"10\": 129, \"14\": 43, \"12\": 29, \"6\": 22, \"1\": 42, \"5\": 30, \"11\": 8, \"9\": 13, \"15\": 9}, \"12\": {\"11\": 100, \"2\": 78, \"7\": 55, \"10\": 55, \"4\": 57, \"15\": 72, \"12\": 154, \"13\": 66, \"1\": 87, \"6\": 66, \"0\": 81, \"9\": 99, \"8\": 34, \"14\": 116, \"5\": 56, \"3\": 24}, \"10\": {\"3\": 117, \"7\": 75, \"0\": 115, \"8\": 121, \"2\": 117, \"11\": 41, \"15\": 45, \"10\": 108, \"13\": 75, \"6\": 67, \"1\": 53, \"5\": 67, \"14\": 76, \"4\": 43, \"12\": 50, \"9\": 30}, \"1\": {\"7\": 90, \"1\": 88, \"0\": 50, \"6\": 73, \"12\": 69, \"4\": 123, \"9\": 87, \"15\": 108, \"11\": 118, \"5\": 92, \"13\": 86, \"10\": 59, \"3\": 30, \"8\": 33, \"2\": 31, \"14\": 63}, \"0\": {\"8\": 124, \"5\": 61, \"10\": 140, \"14\": 72, \"0\": 133, \"12\": 66, \"13\": 64, \"9\": 39, \"4\": 38, \"3\": 119, \"2\": 104, \"1\": 53, \"7\": 61, \"6\": 63, \"11\": 33, \"15\": 30}, \"3\": {\"7\": 51, \"13\": 57, \"2\": 117, \"8\": 231, \"11\": 18, \"3\": 249, \"10\": 122, \"0\": 142, \"5\": 48, \"4\": 20, \"6\": 32, \"15\": 18, \"9\": 16, \"14\": 29, \"12\": 20, \"1\": 30}, \"13\": {\"1\": 100, \"12\": 46, \"13\": 94, \"5\": 109, \"11\": 66, \"6\": 93, \"9\": 64, \"3\": 51, \"7\": 85, \"4\": 100, \"14\": 55, \"10\": 82, \"0\": 60, \"8\": 64, \"15\": 80, \"2\": 51}, \"11\": {\"11\": 125, \"0\": 32, \"12\": 86, \"4\": 97, \"1\": 105, \"7\": 86, \"14\": 77, \"9\": 119, \"6\": 95, \"15\": 127, \"13\": 78, \"5\": 88, \"3\": 13, \"2\": 19, \"10\": 42, \"8\": 11}, \"7\": {\"14\": 54, \"3\": 55, \"2\": 46, \"13\": 90, \"6\": 98, \"9\": 79, \"0\": 53, \"5\": 109, \"11\": 73, \"15\": 78, \"10\": 73, \"1\": 95, \"7\": 103, \"8\": 49, \"12\": 51, \"4\": 94}, \"14\": {\"7\": 55, \"11\": 80, \"0\": 63, \"12\": 132, \"13\": 63, \"14\": 118, \"4\": 77, \"3\": 29, \"6\": 82, \"2\": 86, \"1\": 84, \"10\": 57, \"15\": 53, \"5\": 65, \"9\": 108, \"8\": 48}}, \"ORACLE.run138\": {\"15\": {\"6\": 93, \"15\": 111, \"8\": 79, \"11\": 73, \"13\": 101, \"2\": 105, \"1\": 112, \"5\": 99, \"14\": 66, \"10\": 71, \"3\": 67, \"9\": 93, \"0\": 70, \"7\": 41, \"4\": 6, \"12\": 13}, \"11\": {\"2\": 98, \"14\": 160, \"4\": 78, \"11\": 218, \"10\": 111, \"8\": 63, \"13\": 71, \"15\": 54, \"5\": 52, \"7\": 60, \"9\": 19, \"12\": 88, \"1\": 27, \"0\": 44, \"6\": 37, \"3\": 20}, \"10\": {\"4\": 47, \"2\": 73, \"11\": 107, \"5\": 86, \"15\": 65, \"14\": 101, \"12\": 79, \"6\": 50, \"7\": 108, \"8\": 84, \"10\": 107, \"9\": 39, \"0\": 80, \"13\": 67, \"3\": 70, \"1\": 37}, \"14\": {\"11\": 171, \"7\": 69, \"0\": 69, \"12\": 92, \"15\": 76, \"2\": 82, \"1\": 52, \"14\": 168, \"8\": 73, \"13\": 67, \"5\": 56, \"4\": 45, \"9\": 33, \"3\": 17, \"10\": 100, \"6\": 30}, \"6\": {\"13\": 96, \"9\": 128, \"1\": 105, \"2\": 85, \"7\": 63, \"6\": 124, \"5\": 113, \"8\": 85, \"4\": 4, \"10\": 48, \"3\": 99, \"15\": 98, \"0\": 73, \"14\": 29, \"11\": 31, \"12\": 19}, \"4\": {\"4\": 481, \"11\": 57, \"12\": 318, \"15\": 3, \"7\": 107, \"13\": 6, \"0\": 42, \"8\": 34, \"14\": 54, \"10\": 49, \"3\": 21, \"6\": 4, \"5\": 17, \"2\": 3, \"9\": 4}, \"13\": {\"0\": 61, \"1\": 113, \"2\": 167, \"11\": 59, \"10\": 74, \"15\": 112, \"14\": 66, \"13\": 130, \"5\": 77, \"9\": 85, \"6\": 79, \"3\": 45, \"7\": 37, \"8\": 81, \"12\": 10, \"4\": 4}, \"3\": {\"0\": 121, \"9\": 140, \"10\": 67, \"7\": 138, \"6\": 80, \"3\": 177, \"8\": 106, \"15\": 60, \"2\": 30, \"13\": 58, \"14\": 27, \"5\": 86, \"4\": 20, \"12\": 38, \"11\": 19, \"1\": 33}, \"7\": {\"5\": 56, \"0\": 139, \"12\": 91, \"10\": 104, \"9\": 72, \"7\": 160, \"4\": 71, \"11\": 59, \"1\": 23, \"3\": 102, \"2\": 24, \"15\": 41, \"13\": 45, \"8\": 96, \"14\": 58, \"6\": 59}, \"8\": {\"1\": 44, \"6\": 87, \"15\": 69, \"9\": 73, \"13\": 64, \"7\": 97, \"14\": 63, \"12\": 58, \"3\": 115, \"4\": 27, \"2\": 56, \"0\": 100, \"5\": 95, \"8\": 104, \"10\": 102, \"11\": 46}, \"1\": {\"3\": 52, \"1\": 157, \"9\": 112, \"8\": 68, \"10\": 43, \"2\": 155, \"13\": 124, \"5\": 86, \"0\": 54, \"15\": 123, \"11\": 26, \"14\": 51, \"7\": 25, \"6\": 117, \"12\": 5, \"4\": 2}, \"5\": {\"2\": 82, \"12\": 27, \"1\": 81, \"9\": 102, \"5\": 70, \"13\": 80, \"14\": 65, \"8\": 108, \"10\": 82, \"15\": 86, \"3\": 88, \"7\": 99, \"11\": 38, \"0\": 89, \"6\": 82, \"4\": 21}, \"0\": {\"9\": 67, \"10\": 91, \"13\": 51, \"2\": 36, \"0\": 107, \"5\": 87, \"1\": 34, \"15\": 65, \"11\": 40, \"14\": 66, \"6\": 65, \"3\": 128, \"4\": 48, \"7\": 151, \"12\": 69, \"8\": 95}, \"2\": {\"0\": 48, \"14\": 96, \"1\": 116, \"13\": 145, \"9\": 64, \"10\": 69, \"3\": 33, \"8\": 84, \"2\": 187, \"15\": 107, \"5\": 64, \"7\": 20, \"11\": 82, \"6\": 69, \"12\": 12, \"4\": 4}, \"12\": {\"7\": 111, \"4\": 278, \"0\": 74, \"10\": 79, \"12\": 290, \"13\": 12, \"14\": 89, \"11\": 74, \"8\": 66, \"5\": 33, \"15\": 26, \"9\": 8, \"2\": 16, \"3\": 29, \"6\": 12, \"1\": 3}, \"9\": {\"3\": 153, \"0\": 78, \"2\": 73, \"7\": 56, \"9\": 147, \"8\": 85, \"5\": 94, \"1\": 114, \"15\": 71, \"13\": 101, \"6\": 110, \"14\": 28, \"10\": 50, \"12\": 12, \"11\": 20, \"4\": 8}}, \"ORACLE.run120\": {\"10\": {\"4\": 90, \"10\": 111, \"12\": 70, \"3\": 72, \"0\": 67, \"14\": 127, \"7\": 80, \"9\": 68, \"13\": 42, \"6\": 105, \"8\": 99, \"1\": 52, \"11\": 53, \"5\": 69, \"2\": 46, \"15\": 49}, \"7\": {\"3\": 73, \"5\": 68, \"12\": 76, \"0\": 76, \"15\": 68, \"11\": 60, \"14\": 75, \"6\": 92, \"4\": 86, \"7\": 78, \"2\": 64, \"9\": 74, \"8\": 88, \"10\": 82, \"1\": 75, \"13\": 65}, \"4\": {\"11\": 63, \"8\": 87, \"9\": 83, \"10\": 79, \"0\": 79, \"13\": 51, \"3\": 89, \"4\": 99, \"1\": 61, \"7\": 69, \"14\": 106, \"5\": 78, \"2\": 58, \"6\": 86, \"15\": 42, \"12\": 70}, \"13\": {\"9\": 90, \"8\": 50, \"12\": 83, \"4\": 48, \"1\": 96, \"7\": 79, \"11\": 87, \"13\": 82, \"0\": 96, \"15\": 96, \"3\": 86, \"10\": 43, \"6\": 51, \"5\": 99, \"2\": 77, \"14\": 37}, \"1\": {\"3\": 74, \"1\": 103, \"5\": 89, \"4\": 68, \"0\": 93, \"15\": 90, \"8\": 56, \"10\": 52, \"7\": 65, \"6\": 42, \"2\": 88, \"12\": 73, \"13\": 93, \"9\": 84, \"11\": 83, \"14\": 47}, \"0\": {\"5\": 84, \"3\": 82, \"6\": 67, \"2\": 87, \"0\": 82, \"14\": 62, \"8\": 77, \"7\": 66, \"11\": 82, \"12\": 75, \"9\": 87, \"15\": 82, \"4\": 64, \"13\": 81, \"10\": 45, \"1\": 77}, \"12\": {\"13\": 70, \"5\": 90, \"0\": 60, \"9\": 88, \"15\": 78, \"12\": 79, \"6\": 64, \"3\": 93, \"11\": 71, \"2\": 76, \"10\": 61, \"14\": 63, \"1\": 83, \"4\": 69, \"7\": 78, \"8\": 77}, \"5\": {\"8\": 72, \"1\": 84, \"7\": 79, \"10\": 73, \"3\": 84, \"6\": 76, \"9\": 75, \"14\": 58, \"5\": 87, \"12\": 73, \"2\": 77, \"13\": 78, \"4\": 69, \"15\": 78, \"11\": 58, \"0\": 79}, \"6\": {\"10\": 98, \"12\": 67, \"8\": 106, \"7\": 57, \"0\": 65, \"9\": 62, \"1\": 62, \"14\": 131, \"5\": 72, \"3\": 75, \"6\": 117, \"11\": 62, \"2\": 49, \"4\": 90, \"13\": 33, \"15\": 54}, \"2\": {\"6\": 52, \"10\": 61, \"11\": 84, \"9\": 63, \"15\": 87, \"4\": 65, \"8\": 67, \"5\": 95, \"13\": 88, \"2\": 106, \"3\": 73, \"0\": 73, \"7\": 85, \"1\": 72, \"14\": 48, \"12\": 81}, \"8\": {\"7\": 83, \"4\": 98, \"10\": 89, \"6\": 96, \"8\": 94, \"0\": 66, \"15\": 51, \"11\": 53, \"9\": 67, \"2\": 53, \"3\": 85, \"5\": 71, \"14\": 102, \"12\": 70, \"13\": 52, \"1\": 70}, \"11\": {\"10\": 37, \"13\": 81, \"9\": 102, \"2\": 71, \"5\": 79, \"12\": 87, \"7\": 83, \"14\": 62, \"6\": 57, \"11\": 105, \"8\": 63, \"0\": 73, \"4\": 70, \"15\": 75, \"1\": 81, \"3\": 74}, \"9\": {\"4\": 75, \"6\": 77, \"0\": 78, \"7\": 70, \"12\": 76, \"13\": 78, \"9\": 73, \"14\": 63, \"15\": 86, \"10\": 67, \"8\": 67, \"11\": 78, \"5\": 80, \"1\": 90, \"2\": 65, \"3\": 77}, \"14\": {\"8\": 119, \"1\": 47, \"7\": 67, \"10\": 133, \"0\": 52, \"14\": 131, \"6\": 139, \"9\": 61, \"4\": 94, \"5\": 56, \"2\": 49, \"11\": 44, \"12\": 58, \"13\": 50, \"15\": 41, \"3\": 59}, \"15\": {\"6\": 60, \"0\": 75, \"12\": 90, \"4\": 59, \"11\": 93, \"13\": 91, \"7\": 78, \"15\": 96, \"5\": 79, \"3\": 85, \"14\": 48, \"8\": 53, \"10\": 51, \"2\": 72, \"1\": 87, \"9\": 83}, \"3\": {\"10\": 75, \"6\": 73, \"12\": 76, \"0\": 68, \"14\": 66, \"8\": 84, \"9\": 81, \"13\": 74, \"2\": 71, \"4\": 75, \"3\": 78, \"1\": 83, \"11\": 72, \"7\": 84, \"5\": 69, \"15\": 71}}, \"ORACLE.run114\": {\"14\": {\"14\": 145, \"6\": 128, \"5\": 71, \"11\": 71, \"13\": 99, \"1\": 53, \"0\": 68, \"12\": 18, \"4\": 66, \"10\": 78, \"2\": 118, \"7\": 77, \"9\": 32, \"15\": 84, \"3\": 71, \"8\": 21}, \"0\": {\"0\": 80, \"1\": 71, \"2\": 79, \"3\": 83, \"7\": 73, \"4\": 88, \"13\": 59, \"12\": 67, \"9\": 65, \"10\": 82, \"11\": 103, \"14\": 80, \"6\": 58, \"8\": 63, \"5\": 85, \"15\": 64}, \"4\": {\"12\": 39, \"6\": 71, \"15\": 102, \"11\": 94, \"8\": 49, \"4\": 69, \"5\": 84, \"10\": 82, \"14\": 76, \"7\": 90, \"9\": 48, \"13\": 71, \"0\": 83, \"1\": 89, \"2\": 70, \"3\": 83}, \"11\": {\"11\": 96, \"12\": 85, \"14\": 75, \"6\": 59, \"13\": 56, \"2\": 70, \"0\": 84, \"8\": 68, \"1\": 71, \"9\": 113, \"4\": 66, \"10\": 94, \"5\": 79, \"3\": 78, \"7\": 63, \"15\": 43}, \"13\": {\"6\": 130, \"1\": 51, \"5\": 76, \"13\": 133, \"0\": 56, \"7\": 72, \"10\": 83, \"9\": 24, \"14\": 110, \"4\": 78, \"11\": 69, \"2\": 110, \"15\": 108, \"3\": 68, \"12\": 17, \"8\": 15}, \"9\": {\"4\": 49, \"11\": 103, \"13\": 20, \"12\": 211, \"1\": 86, \"3\": 60, \"9\": 183, \"8\": 145, \"5\": 59, \"6\": 20, \"10\": 78, \"15\": 22, \"0\": 80, \"14\": 26, \"2\": 34, \"7\": 24}, \"3\": {\"9\": 54, \"14\": 75, \"5\": 102, \"1\": 74, \"2\": 99, \"0\": 75, \"8\": 45, \"10\": 87, \"13\": 78, \"4\": 72, \"11\": 98, \"15\": 77, \"12\": 35, \"6\": 79, \"7\": 74, \"3\": 76}, \"6\": {\"6\": 145, \"14\": 124, \"13\": 123, \"2\": 121, \"5\": 77, \"4\": 76, \"8\": 21, \"10\": 85, \"0\": 41, \"11\": 54, \"7\": 82, \"3\": 79, \"1\": 51, \"15\": 91, \"12\": 10, \"9\": 20}, \"1\": {\"5\": 81, \"0\": 90, \"15\": 88, \"8\": 83, \"10\": 72, \"7\": 83, \"14\": 63, \"3\": 78, \"1\": 88, \"12\": 55, \"9\": 75, \"4\": 82, \"6\": 61, \"11\": 67, \"13\": 64, \"2\": 70}, \"5\": {\"5\": 79, \"4\": 91, \"2\": 78, \"15\": 86, \"13\": 77, \"11\": 79, \"14\": 74, \"7\": 96, \"8\": 38, \"9\": 52, \"12\": 46, \"6\": 71, \"3\": 87, \"1\": 96, \"0\": 77, \"10\": 73}, \"12\": {\"4\": 53, \"1\": 70, \"6\": 13, \"12\": 293, \"14\": 24, \"11\": 94, \"8\": 187, \"9\": 216, \"10\": 43, \"3\": 45, \"0\": 58, \"7\": 25, \"5\": 32, \"2\": 19, \"15\": 17, \"13\": 11}, \"10\": {\"13\": 72, \"14\": 70, \"0\": 80, \"1\": 72, \"11\": 95, \"10\": 99, \"6\": 80, \"5\": 70, \"7\": 64, \"2\": 77, \"9\": 81, \"12\": 56, \"4\": 96, \"8\": 47, \"3\": 74, \"15\": 67}, \"8\": {\"4\": 64, \"11\": 66, \"9\": 183, \"8\": 206, \"2\": 25, \"12\": 199, \"15\": 39, \"1\": 81, \"7\": 49, \"3\": 63, \"5\": 55, \"10\": 41, \"14\": 23, \"0\": 69, \"6\": 17, \"13\": 20}, \"7\": {\"1\": 87, \"2\": 90, \"13\": 80, \"6\": 61, \"10\": 71, \"15\": 119, \"4\": 74, \"8\": 55, \"5\": 103, \"7\": 136, \"14\": 58, \"3\": 67, \"9\": 39, \"11\": 67, \"0\": 64, \"12\": 29}, \"15\": {\"13\": 95, \"2\": 92, \"7\": 109, \"15\": 150, \"3\": 69, \"5\": 80, \"6\": 110, \"8\": 20, \"4\": 91, \"0\": 58, \"14\": 78, \"11\": 63, \"10\": 61, \"1\": 81, \"9\": 31, \"12\": 12}, \"2\": {\"5\": 95, \"7\": 100, \"1\": 64, \"15\": 78, \"2\": 110, \"12\": 11, \"13\": 96, \"6\": 122, \"4\": 78, \"3\": 82, \"0\": 71, \"10\": 62, \"11\": 69, \"8\": 24, \"14\": 113, \"9\": 25}}, \"ORACLE.run132\": {\"11\": {\"0\": 89, \"2\": 79, \"13\": 115, \"12\": 41, \"14\": 124, \"3\": 76, \"5\": 114, \"4\": 109, \"8\": 92, \"11\": 144, \"7\": 107, \"15\": 34, \"9\": 51, \"1\": 4, \"6\": 11, \"10\": 10}, \"1\": {\"10\": 269, \"1\": 477, \"6\": 294, \"12\": 89, \"7\": 3, \"9\": 45, \"4\": 6, \"0\": 1, \"2\": 9, \"14\": 4, \"13\": 1, \"8\": 1, \"15\": 1}, \"2\": {\"2\": 128, \"14\": 132, \"11\": 104, \"0\": 109, \"5\": 94, \"4\": 111, \"9\": 103, \"3\": 49, \"1\": 8, \"7\": 106, \"8\": 65, \"10\": 19, \"12\": 76, \"13\": 65, \"15\": 19, \"6\": 12}, \"0\": {\"11\": 103, \"15\": 48, \"2\": 107, \"9\": 59, \"13\": 113, \"8\": 90, \"3\": 81, \"12\": 50, \"0\": 127, \"4\": 96, \"5\": 100, \"7\": 84, \"14\": 112, \"10\": 18, \"6\": 8, \"1\": 4}, \"3\": {\"0\": 88, \"5\": 119, \"8\": 134, \"2\": 47, \"13\": 132, \"15\": 148, \"11\": 92, \"14\": 83, \"3\": 153, \"4\": 91, \"12\": 12, \"7\": 74, \"9\": 20, \"1\": 1, \"10\": 5, \"6\": 1}, \"8\": {\"7\": 96, \"5\": 122, \"8\": 153, \"2\": 51, \"11\": 101, \"13\": 110, \"0\": 85, \"10\": 6, \"3\": 128, \"15\": 109, \"14\": 78, \"4\": 94, \"9\": 35, \"12\": 32}, \"12\": {\"10\": 186, \"9\": 185, \"7\": 52, \"4\": 59, \"12\": 225, \"6\": 96, \"15\": 8, \"1\": 82, \"0\": 62, \"2\": 74, \"5\": 29, \"14\": 31, \"8\": 32, \"3\": 15, \"11\": 31, \"13\": 33}, \"5\": {\"14\": 98, \"8\": 118, \"9\": 50, \"13\": 112, \"5\": 101, \"12\": 45, \"0\": 91, \"4\": 100, \"3\": 116, \"11\": 107, \"15\": 75, \"7\": 81, \"2\": 87, \"10\": 12, \"6\": 4, \"1\": 3}, \"15\": {\"15\": 483, \"8\": 138, \"7\": 26, \"3\": 175, \"13\": 101, \"5\": 84, \"14\": 39, \"4\": 38, \"2\": 16, \"0\": 45, \"11\": 38, \"12\": 9, \"9\": 7, \"10\": 1}, \"7\": {\"6\": 8, \"4\": 108, \"14\": 122, \"8\": 97, \"7\": 107, \"5\": 79, \"2\": 110, \"10\": 16, \"9\": 64, \"11\": 124, \"13\": 106, \"15\": 26, \"0\": 104, \"12\": 44, \"3\": 84, \"1\": 1}, \"4\": {\"14\": 112, \"4\": 102, \"12\": 62, \"9\": 73, \"2\": 99, \"7\": 97, \"13\": 116, \"5\": 96, \"8\": 94, \"3\": 88, \"0\": 100, \"11\": 108, \"15\": 29, \"10\": 17, \"6\": 2, \"1\": 5}, \"14\": {\"13\": 95, \"9\": 65, \"14\": 132, \"4\": 96, \"8\": 96, \"2\": 117, \"7\": 128, \"5\": 107, \"0\": 104, \"11\": 116, \"12\": 42, \"6\": 7, \"3\": 67, \"15\": 16, \"10\": 9, \"1\": 3}, \"10\": {\"12\": 204, \"1\": 267, \"10\": 317, \"4\": 22, \"9\": 126, \"8\": 13, \"6\": 160, \"0\": 16, \"5\": 5, \"11\": 7, \"2\": 30, \"14\": 4, \"7\": 11, \"13\": 10, \"15\": 3, \"3\": 5}, \"6\": {\"6\": 384, \"1\": 338, \"10\": 204, \"9\": 98, \"12\": 103, \"2\": 26, \"0\": 12, \"13\": 2, \"7\": 6, \"14\": 2, \"4\": 7, \"5\": 11, \"8\": 4, \"3\": 1, \"11\": 2}, \"13\": {\"7\": 88, \"9\": 59, \"4\": 116, \"11\": 94, \"14\": 84, \"5\": 106, \"2\": 83, \"3\": 118, \"15\": 74, \"13\": 110, \"8\": 127, \"0\": 97, \"12\": 33, \"10\": 9, \"1\": 2}, \"9\": {\"8\": 39, \"10\": 93, \"13\": 53, \"3\": 15, \"7\": 86, \"2\": 106, \"12\": 180, \"14\": 62, \"9\": 194, \"6\": 80, \"5\": 60, \"11\": 52, \"0\": 67, \"1\": 36, \"4\": 70, \"15\": 7}}, \"ORACLE.run18\": {\"9\": {\"9\": 654, \"2\": 15, \"12\": 4, \"10\": 79, \"5\": 78, \"4\": 48, \"13\": 69, \"0\": 80, \"1\": 20, \"6\": 27, \"14\": 54, \"7\": 34, \"15\": 8, \"3\": 6, \"11\": 20, \"8\": 4}, \"11\": {\"1\": 88, \"8\": 87, \"4\": 76, \"2\": 68, \"7\": 74, \"0\": 60, \"5\": 84, \"12\": 82, \"11\": 101, \"13\": 53, \"14\": 85, \"10\": 67, \"6\": 74, \"9\": 15, \"15\": 95, \"3\": 91}, \"8\": {\"12\": 117, \"8\": 130, \"13\": 57, \"5\": 60, \"15\": 107, \"14\": 66, \"11\": 97, \"3\": 96, \"1\": 89, \"7\": 62, \"6\": 81, \"2\": 73, \"0\": 58, \"10\": 43, \"9\": 9, \"4\": 55}, \"4\": {\"8\": 70, \"3\": 52, \"4\": 90, \"14\": 89, \"1\": 90, \"0\": 74, \"6\": 75, \"12\": 69, \"10\": 76, \"5\": 101, \"7\": 81, \"2\": 84, \"13\": 73, \"15\": 63, \"11\": 72, \"9\": 41}, \"13\": {\"10\": 82, \"5\": 91, \"9\": 63, \"6\": 88, \"4\": 89, \"11\": 53, \"0\": 102, \"2\": 73, \"7\": 78, \"1\": 80, \"14\": 88, \"8\": 54, \"13\": 91, \"3\": 76, \"12\": 42, \"15\": 50}, \"14\": {\"12\": 52, \"5\": 92, \"7\": 72, \"11\": 63, \"4\": 85, \"2\": 78, \"8\": 57, \"3\": 67, \"1\": 85, \"10\": 101, \"15\": 61, \"14\": 89, \"6\": 68, \"13\": 91, \"0\": 88, \"9\": 51}, \"2\": {\"8\": 71, \"3\": 97, \"15\": 93, \"0\": 72, \"11\": 66, \"10\": 63, \"5\": 63, \"7\": 77, \"2\": 108, \"6\": 87, \"4\": 83, \"12\": 95, \"13\": 68, \"14\": 74, \"1\": 69, \"9\": 14}, \"3\": {\"15\": 91, \"13\": 64, \"12\": 117, \"11\": 98, \"7\": 74, \"2\": 128, \"4\": 61, \"5\": 66, \"3\": 87, \"6\": 84, \"1\": 67, \"8\": 87, \"14\": 55, \"10\": 56, \"0\": 60, \"9\": 5}, \"1\": {\"12\": 83, \"4\": 78, \"7\": 78, \"11\": 101, \"2\": 62, \"15\": 77, \"5\": 90, \"9\": 20, \"13\": 74, \"1\": 85, \"0\": 68, \"14\": 76, \"10\": 71, \"6\": 72, \"3\": 82, \"8\": 83}, \"0\": {\"4\": 87, \"8\": 51, \"2\": 63, \"7\": 82, \"5\": 77, \"12\": 40, \"6\": 97, \"1\": 78, \"14\": 95, \"13\": 99, \"9\": 53, \"10\": 99, \"0\": 102, \"3\": 65, \"11\": 65, \"15\": 47}, \"5\": {\"8\": 56, \"15\": 47, \"11\": 79, \"1\": 103, \"13\": 83, \"14\": 81, \"5\": 108, \"6\": 75, \"2\": 70, \"0\": 101, \"10\": 83, \"4\": 74, \"3\": 46, \"9\": 76, \"12\": 46, \"7\": 72}, \"15\": {\"13\": 54, \"15\": 113, \"7\": 84, \"4\": 72, \"10\": 54, \"1\": 79, \"6\": 78, \"5\": 63, \"12\": 114, \"8\": 95, \"11\": 100, \"14\": 43, \"3\": 102, \"2\": 96, \"0\": 47, \"9\": 6}, \"10\": {\"11\": 65, \"3\": 54, \"7\": 96, \"1\": 75, \"5\": 90, \"14\": 89, \"15\": 57, \"4\": 81, \"2\": 71, \"8\": 50, \"13\": 100, \"6\": 92, \"9\": 71, \"10\": 83, \"0\": 88, \"12\": 38}, \"12\": {\"5\": 50, \"10\": 45, \"15\": 118, \"4\": 55, \"12\": 151, \"0\": 33, \"7\": 78, \"3\": 124, \"13\": 31, \"2\": 101, \"6\": 57, \"14\": 58, \"1\": 72, \"11\": 104, \"8\": 120, \"9\": 3}, \"6\": {\"12\": 67, \"1\": 100, \"5\": 69, \"8\": 70, \"3\": 79, \"4\": 79, \"0\": 76, \"7\": 92, \"13\": 75, \"11\": 67, \"2\": 84, \"14\": 79, \"9\": 34, \"6\": 82, \"15\": 61, \"10\": 86}, \"7\": {\"6\": 85, \"12\": 57, \"0\": 88, \"5\": 82, \"4\": 88, \"14\": 90, \"1\": 64, \"11\": 70, \"13\": 98, \"3\": 76, \"7\": 75, \"10\": 63, \"15\": 64, \"8\": 74, \"2\": 96, \"9\": 30}}}, \"per_domain_accuracy\": {\"Wisig_4\": {\"accuracy\": 0.9507458847736625, \"source?\": true}, \"Wisig_1\": {\"accuracy\": 0.96875, \"source?\": true}, \"Wisig_2\": {\"accuracy\": 0.9516213389121339, \"source?\": true}, \"Wisig_3\": {\"accuracy\": 0.9679312227074236, \"source?\": true}, \"ORACLE.run126\": {\"accuracy\": 0.09682291666666666, \"source?\": false}, \"ORACLE.run144\": {\"accuracy\": 0.14583333333333334, \"source?\": false}, \"ORACLE.run150\": {\"accuracy\": 0.11458333333333333, \"source?\": false}, \"ORACLE.run138\": {\"accuracy\": 0.14260416666666667, \"source?\": false}, \"ORACLE.run120\": {\"accuracy\": 0.07921875, \"source?\": false}, \"ORACLE.run114\": {\"accuracy\": 0.10875, \"source?\": false}, \"ORACLE.run132\": {\"accuracy\": 0.17380208333333333, \"source?\": false}, \"ORACLE.run18\": {\"accuracy\": 0.11192708333333333, \"source?\": false}}}, \"history\": {\"epoch_indices\": [1, 2, 3, 4, 5], \"train_label_loss\": [0.19544828658825086, 0.12076752156405213, 0.09803646341026344, 0.0821922434863137, 0.06794985898011865], \"source_val_label_loss\": [0.1759924441576004, 0.1380082368850708, 0.12331774830818176, 0.12409226596355438, 0.1258365362882614], \"target_val_label_loss\": [2.653326988220215, 2.688171625137329, 2.739511728286743, 2.7723758220672607, 2.826340436935425], \"source_val_acc_label\": [0.9596092925026399, 0.9686840021119324, 0.9712909186906019, 0.9724458817317846, 0.972379883843717], \"target_val_acc_label\": [0.12169270833333333, 0.11727213541666667, 0.10711588541666667, 0.10024088541666666, 0.09472005208333334]}, \"dataset_metrics\": {\"source\": {\"train\": {\"n_unique_x\": 189042, \"n_unique_y\": 130, \"n_batch/episode\": 6851}, \"val\": {\"n_unique_x\": 40070, \"n_unique_y\": 130, \"n_batch/episode\": 947}, \"test\": {\"n_unique_x\": 40812, \"n_unique_y\": 130, \"n_batch/episode\": 969}}, \"target\": {\"train\": {\"n_unique_x\": 896000, \"n_unique_y\": 16, \"n_batch/episode\": 33600}, \"val\": {\"n_unique_x\": 192000, \"n_unique_y\": 16, \"n_batch/episode\": 4800}, \"test\": {\"n_unique_x\": 192000, \"n_unique_y\": 16, \"n_batch/episode\": 4800}}}}'"
      ]
     },
     "execution_count": 29,
     "metadata": {},
     "output_type": "execute_result"
    }
   ],
   "source": [
    "json.dumps(experiment)"
   ]
  }
 ],
 "metadata": {
  "celltoolbar": "Tags",
  "kernelspec": {
   "display_name": "Python 3 (ipykernel)",
   "language": "python",
   "name": "python3"
  },
  "language_info": {
   "codemirror_mode": {
    "name": "ipython",
    "version": 3
   },
   "file_extension": ".py",
   "mimetype": "text/x-python",
   "name": "python",
   "nbconvert_exporter": "python",
   "pygments_lexer": "ipython3",
   "version": "3.8.12"
  },
  "papermill": {
   "default_parameters": {},
   "duration": 2007.008964,
   "end_time": "2022-03-24T03:35:21.034396",
   "environment_variables": {},
   "exception": null,
   "input_path": "/root/csc500-main/csc500-notebooks/templates/tl_ptn_template.ipynb",
   "output_path": "trial.ipynb",
   "parameters": {
    "parameters": {
     "BEST_MODEL_PATH": "./best_model.pth",
     "NUM_LOGS_PER_EPOCH": 10,
     "criteria_for_best": "target_accuracy",
     "dataset_seed": 7,
     "datasets": [
      {
       "domain_prefix": "Wisig_",
       "domains": [
        1,
        2,
        3,
        4
       ],
       "episode_transforms": [],
       "labels": [
        "1-10",
        "1-12",
        "1-14",
        "1-16",
        "1-18",
        "1-19",
        "1-8",
        "10-11",
        "10-17",
        "10-4",
        "10-7",
        "11-1",
        "11-10",
        "11-19",
        "11-20",
        "11-4",
        "11-7",
        "12-19",
        "12-20",
        "12-7",
        "13-14",
        "13-18",
        "13-19",
        "13-20",
        "13-3",
        "13-7",
        "14-10",
        "14-11",
        "14-12",
        "14-13",
        "14-14",
        "14-19",
        "14-20",
        "14-7",
        "14-8",
        "14-9",
        "15-1",
        "15-19",
        "15-6",
        "16-1",
        "16-16",
        "16-19",
        "16-20",
        "17-10",
        "17-11",
        "18-1",
        "18-10",
        "18-11",
        "18-12",
        "18-13",
        "18-14",
        "18-15",
        "18-16",
        "18-17",
        "18-19",
        "18-2",
        "18-20",
        "18-4",
        "18-5",
        "18-7",
        "18-8",
        "18-9",
        "19-1",
        "19-10",
        "19-11",
        "19-12",
        "19-13",
        "19-14",
        "19-15",
        "19-19",
        "19-2",
        "19-20",
        "19-3",
        "19-4",
        "19-6",
        "19-7",
        "19-8",
        "19-9",
        "2-1",
        "2-13",
        "2-15",
        "2-3",
        "2-4",
        "2-5",
        "2-6",
        "2-7",
        "2-8",
        "20-1",
        "20-12",
        "20-14",
        "20-15",
        "20-16",
        "20-18",
        "20-19",
        "20-20",
        "20-3",
        "20-4",
        "20-5",
        "20-7",
        "20-8",
        "3-1",
        "3-13",
        "3-18",
        "3-2",
        "3-8",
        "4-1",
        "4-10",
        "4-11",
        "5-1",
        "5-5",
        "6-1",
        "6-15",
        "6-6",
        "7-10",
        "7-11",
        "7-12",
        "7-13",
        "7-14",
        "7-7",
        "7-8",
        "7-9",
        "8-1",
        "8-13",
        "8-14",
        "8-18",
        "8-20",
        "8-3",
        "8-8",
        "9-1",
        "9-7"
       ],
       "num_examples_per_domain_per_label": -1,
       "pickle_path": "/root/csc500-main/datasets/wisig.node3-19.stratified_ds.2022A.pkl",
       "source_or_target_dataset": "source",
       "x_transforms": [
        "unit_power"
       ]
      },
      {
       "domain_prefix": "ORACLE.run1",
       "domains": [
        32,
        38,
        8,
        44,
        14,
        50,
        20,
        26
       ],
       "episode_transforms": [],
       "labels": [
        "3123D52",
        "3123D65",
        "3123D79",
        "3123D80",
        "3123D54",
        "3123D70",
        "3123D7B",
        "3123D89",
        "3123D58",
        "3123D76",
        "3123D7D",
        "3123EFE",
        "3123D64",
        "3123D78",
        "3123D7E",
        "3124E4A"
       ],
       "num_examples_per_domain_per_label": 10000,
       "pickle_path": "/root/csc500-main/datasets/oracle.Run1_10kExamples_stratified_ds.2022A.pkl",
       "source_or_target_dataset": "target",
       "x_transforms": [
        "unit_power"
       ]
      }
     ],
     "device": "cuda",
     "experiment_name": "tl_1v2:wisig-oracle.run1",
     "lr": 0.0001,
     "n_epoch": 50,
     "n_query": 2,
     "n_shot": 3,
     "n_way": 16,
     "patience": 3,
     "seed": 7,
     "test_k_factor": 2,
     "torch_default_dtype": "torch.float32",
     "train_k_factor": 3,
     "val_k_factor": 2,
     "x_net": [
      {
       "class": "nnReshape",
       "kargs": {
        "shape": [
         -1,
         1,
         2,
         256
        ]
       }
      },
      {
       "class": "Conv2d",
       "kargs": {
        "bias": false,
        "in_channels": 1,
        "kernel_size": [
         1,
         7
        ],
        "out_channels": 256,
        "padding": [
         0,
         3
        ]
       }
      },
      {
       "class": "ReLU",
       "kargs": {
        "inplace": true
       }
      },
      {
       "class": "BatchNorm2d",
       "kargs": {
        "num_features": 256
       }
      },
      {
       "class": "Conv2d",
       "kargs": {
        "bias": true,
        "in_channels": 256,
        "kernel_size": [
         2,
         7
        ],
        "out_channels": 80,
        "padding": [
         0,
         3
        ]
       }
      },
      {
       "class": "ReLU",
       "kargs": {
        "inplace": true
       }
      },
      {
       "class": "BatchNorm2d",
       "kargs": {
        "num_features": 80
       }
      },
      {
       "class": "Flatten",
       "kargs": {}
      },
      {
       "class": "Linear",
       "kargs": {
        "in_features": 20480,
        "out_features": 256
       }
      },
      {
       "class": "ReLU",
       "kargs": {
        "inplace": true
       }
      },
      {
       "class": "BatchNorm1d",
       "kargs": {
        "num_features": 256
       }
      },
      {
       "class": "Linear",
       "kargs": {
        "in_features": 256,
        "out_features": 256
       }
      }
     ]
    }
   },
   "start_time": "2022-03-24T03:01:54.025432",
   "version": "2.3.4"
  }
 },
 "nbformat": 4,
 "nbformat_minor": 5
}