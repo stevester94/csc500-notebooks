{
 "cells": [
  {
   "cell_type": "markdown",
   "id": "9fea5f46",
   "metadata": {
    "papermill": {
     "duration": 0.023539,
     "end_time": "2022-03-24T03:35:22.062054",
     "exception": false,
     "start_time": "2022-03-24T03:35:22.038515",
     "status": "completed"
    },
    "tags": []
   },
   "source": [
    "# Transfer Learning Template"
   ]
  },
  {
   "cell_type": "code",
   "execution_count": 1,
   "id": "0902182a",
   "metadata": {
    "execution": {
     "iopub.execute_input": "2022-03-24T03:35:22.121464Z",
     "iopub.status.busy": "2022-03-24T03:35:22.120597Z",
     "iopub.status.idle": "2022-03-24T03:35:24.148921Z",
     "shell.execute_reply": "2022-03-24T03:35:24.149242Z"
    },
    "papermill": {
     "duration": 2.068445,
     "end_time": "2022-03-24T03:35:24.149414",
     "exception": false,
     "start_time": "2022-03-24T03:35:22.080969",
     "status": "completed"
    },
    "tags": []
   },
   "outputs": [],
   "source": [
    "%load_ext autoreload\n",
    "%autoreload 2\n",
    "%matplotlib inline\n",
    "\n",
    "    \n",
    "import os, json, sys, time, random\n",
    "import numpy as np\n",
    "import torch\n",
    "from torch.optim import Adam\n",
    "from  easydict import EasyDict\n",
    "import matplotlib.pyplot as plt\n",
    "\n",
    "from steves_models.steves_ptn import Steves_Prototypical_Network\n",
    "\n",
    "from steves_utils.lazy_iterable_wrapper import Lazy_Iterable_Wrapper\n",
    "from steves_utils.iterable_aggregator import Iterable_Aggregator\n",
    "from steves_utils.ptn_train_eval_test_jig import  PTN_Train_Eval_Test_Jig\n",
    "from steves_utils.torch_sequential_builder import build_sequential\n",
    "from steves_utils.torch_utils import get_dataset_metrics, ptn_confusion_by_domain_over_dataloader\n",
    "from steves_utils.utils_v2 import (per_domain_accuracy_from_confusion, get_datasets_base_path)\n",
    "from steves_utils.PTN.utils import independent_accuracy_assesment\n",
    "\n",
    "from torch.utils.data import DataLoader\n",
    "\n",
    "from steves_utils.stratified_dataset.episodic_accessor import Episodic_Accessor_Factory\n",
    "\n",
    "from steves_utils.ptn_do_report import (\n",
    "    get_loss_curve,\n",
    "    get_results_table,\n",
    "    get_parameters_table,\n",
    "    get_domain_accuracies,\n",
    ")\n",
    "\n",
    "from steves_utils.transforms import get_chained_transform"
   ]
  },
  {
   "cell_type": "markdown",
   "id": "41c840b4",
   "metadata": {
    "papermill": {
     "duration": 0.01877,
     "end_time": "2022-03-24T03:35:24.187542",
     "exception": false,
     "start_time": "2022-03-24T03:35:24.168772",
     "status": "completed"
    },
    "tags": []
   },
   "source": [
    "# Allowed Parameters\n",
    "These are allowed parameters, not defaults\n",
    "Each of these values need to be present in the injected parameters (the notebook will raise an exception if they are not present)\n",
    "\n",
    "Papermill uses the cell tag \"parameters\" to inject the real parameters below this cell.\n",
    "Enable tags to see what I mean"
   ]
  },
  {
   "cell_type": "code",
   "execution_count": 2,
   "id": "fd44eb83",
   "metadata": {
    "execution": {
     "iopub.execute_input": "2022-03-24T03:35:24.230165Z",
     "iopub.status.busy": "2022-03-24T03:35:24.229782Z",
     "iopub.status.idle": "2022-03-24T03:35:24.252286Z",
     "shell.execute_reply": "2022-03-24T03:35:24.252593Z"
    },
    "papermill": {
     "duration": 0.046487,
     "end_time": "2022-03-24T03:35:24.252678",
     "exception": false,
     "start_time": "2022-03-24T03:35:24.206191",
     "status": "completed"
    },
    "tags": []
   },
   "outputs": [],
   "source": [
    "required_parameters = {\n",
    "    \"experiment_name\",\n",
    "    \"lr\",\n",
    "    \"device\",\n",
    "    \"seed\",\n",
    "    \"dataset_seed\",\n",
    "    \"n_shot\",\n",
    "    \"n_query\",\n",
    "    \"n_way\",\n",
    "    \"train_k_factor\",\n",
    "    \"val_k_factor\",\n",
    "    \"test_k_factor\",\n",
    "    \"n_epoch\",\n",
    "    \"patience\",\n",
    "    \"criteria_for_best\",\n",
    "    \"x_net\",\n",
    "    \"datasets\",\n",
    "    \"torch_default_dtype\",\n",
    "    \"NUM_LOGS_PER_EPOCH\",\n",
    "    \"BEST_MODEL_PATH\",\n",
    "    \"x_shape\",\n",
    "}"
   ]
  },
  {
   "cell_type": "code",
   "execution_count": 3,
   "id": "fa3f0049",
   "metadata": {
    "execution": {
     "iopub.execute_input": "2022-03-24T03:35:24.304193Z",
     "iopub.status.busy": "2022-03-24T03:35:24.298064Z",
     "iopub.status.idle": "2022-03-24T03:35:24.323134Z",
     "shell.execute_reply": "2022-03-24T03:35:24.322814Z"
    },
    "papermill": {
     "duration": 0.051412,
     "end_time": "2022-03-24T03:35:24.323204",
     "exception": false,
     "start_time": "2022-03-24T03:35:24.271792",
     "status": "completed"
    },
    "tags": [
     "parameters"
    ]
   },
   "outputs": [],
   "source": [
    "from steves_utils.CORES.utils import (\n",
    "    ALL_NODES,\n",
    "    ALL_NODES_MINIMUM_1000_EXAMPLES,\n",
    "    ALL_DAYS\n",
    ")\n",
    "\n",
    "from steves_utils.ORACLE.utils_v2 import (\n",
    "    ALL_DISTANCES_FEET_NARROWED,\n",
    "    ALL_RUNS,\n",
    "    ALL_SERIAL_NUMBERS,\n",
    ")\n",
    "\n",
    "standalone_parameters = {}\n",
    "standalone_parameters[\"experiment_name\"] = \"STANDALONE PTN\"\n",
    "standalone_parameters[\"lr\"] = 0.001\n",
    "standalone_parameters[\"device\"] = \"cuda\"\n",
    "\n",
    "standalone_parameters[\"seed\"] = 1337\n",
    "standalone_parameters[\"dataset_seed\"] = 1337\n",
    "\n",
    "standalone_parameters[\"n_way\"] = 8\n",
    "standalone_parameters[\"n_shot\"] = 3\n",
    "standalone_parameters[\"n_query\"]  = 2\n",
    "standalone_parameters[\"train_k_factor\"] = 1\n",
    "standalone_parameters[\"val_k_factor\"] = 2\n",
    "standalone_parameters[\"test_k_factor\"] = 2\n",
    "\n",
    "\n",
    "standalone_parameters[\"n_epoch\"] = 50\n",
    "\n",
    "standalone_parameters[\"patience\"] = 10\n",
    "standalone_parameters[\"criteria_for_best\"] = \"source_loss\"\n",
    "\n",
    "standalone_parameters[\"datasets\"] = [\n",
    "    {\n",
    "        \"labels\": ALL_SERIAL_NUMBERS,\n",
    "        \"domains\": ALL_DISTANCES_FEET_NARROWED,\n",
    "        \"num_examples_per_domain_per_label\": 100,\n",
    "        \"pickle_path\": os.path.join(get_datasets_base_path(), \"oracle.Run1_framed_2000Examples_stratified_ds.2022A.pkl\"),\n",
    "        \"source_or_target_dataset\": \"source\",\n",
    "        \"x_transforms\": [\"unit_mag\", \"minus_two\"],\n",
    "        \"episode_transforms\": [],\n",
    "        \"domain_prefix\": \"ORACLE_\"\n",
    "    },\n",
    "    {\n",
    "        \"labels\": ALL_NODES,\n",
    "        \"domains\": ALL_DAYS,\n",
    "        \"num_examples_per_domain_per_label\": 100,\n",
    "        \"pickle_path\": os.path.join(get_datasets_base_path(), \"cores.stratified_ds.2022A.pkl\"),\n",
    "        \"source_or_target_dataset\": \"target\",\n",
    "        \"x_transforms\": [\"unit_power\", \"times_zero\"],\n",
    "        \"episode_transforms\": [],\n",
    "        \"domain_prefix\": \"CORES_\"\n",
    "    }   \n",
    "]\n",
    "\n",
    "standalone_parameters[\"torch_default_dtype\"] = \"torch.float32\" \n",
    "\n",
    "\n",
    "\n",
    "standalone_parameters[\"x_net\"] =     [\n",
    "    {\"class\": \"nnReshape\", \"kargs\": {\"shape\":[-1, 1, 2, 256]}},\n",
    "    {\"class\": \"Conv2d\", \"kargs\": { \"in_channels\":1, \"out_channels\":256, \"kernel_size\":(1,7), \"bias\":False, \"padding\":(0,3), },},\n",
    "    {\"class\": \"ReLU\", \"kargs\": {\"inplace\": True}},\n",
    "    {\"class\": \"BatchNorm2d\", \"kargs\": {\"num_features\":256}},\n",
    "\n",
    "    {\"class\": \"Conv2d\", \"kargs\": { \"in_channels\":256, \"out_channels\":80, \"kernel_size\":(2,7), \"bias\":True, \"padding\":(0,3), },},\n",
    "    {\"class\": \"ReLU\", \"kargs\": {\"inplace\": True}},\n",
    "    {\"class\": \"BatchNorm2d\", \"kargs\": {\"num_features\":80}},\n",
    "    {\"class\": \"Flatten\", \"kargs\": {}},\n",
    "\n",
    "    {\"class\": \"Linear\", \"kargs\": {\"in_features\": 80*256, \"out_features\": 256}}, # 80 units per IQ pair\n",
    "    {\"class\": \"ReLU\", \"kargs\": {\"inplace\": True}},\n",
    "    {\"class\": \"BatchNorm1d\", \"kargs\": {\"num_features\":256}},\n",
    "\n",
    "    {\"class\": \"Linear\", \"kargs\": {\"in_features\": 256, \"out_features\": 256}},\n",
    "]\n",
    "\n",
    "# Parameters relevant to results\n",
    "# These parameters will basically never need to change\n",
    "standalone_parameters[\"NUM_LOGS_PER_EPOCH\"] = 10\n",
    "standalone_parameters[\"BEST_MODEL_PATH\"] = \"./best_model.pth\"\n",
    "\n",
    "\n",
    "\n",
    "\n"
   ]
  },
  {
   "cell_type": "code",
   "execution_count": 4,
   "id": "67ebf708",
   "metadata": {
    "execution": {
     "iopub.execute_input": "2022-03-24T03:35:24.377981Z",
     "iopub.status.busy": "2022-03-24T03:35:24.369216Z",
     "iopub.status.idle": "2022-03-24T03:35:24.397505Z",
     "shell.execute_reply": "2022-03-24T03:35:24.397139Z"
    },
    "papermill": {
     "duration": 0.055325,
     "end_time": "2022-03-24T03:35:24.397575",
     "exception": false,
     "start_time": "2022-03-24T03:35:24.342250",
     "status": "completed"
    },
    "tags": [
     "injected-parameters"
    ]
   },
   "outputs": [],
   "source": [
    "# Parameters\n",
    "parameters = {\n",
    "    \"experiment_name\": \"tl_1v2:wisig-oracle.run1\",\n",
    "    \"device\": \"cuda\",\n",
    "    \"lr\": 0.0001,\n",
    "    \"n_shot\": 3,\n",
    "    \"n_query\": 2,\n",
    "    \"train_k_factor\": 3,\n",
    "    \"val_k_factor\": 2,\n",
    "    \"test_k_factor\": 2,\n",
    "    \"torch_default_dtype\": \"torch.float32\",\n",
    "    \"n_epoch\": 50,\n",
    "    \"patience\": 3,\n",
    "    \"criteria_for_best\": \"target_accuracy\",\n",
    "    \"x_net\": [\n",
    "        {\"class\": \"nnReshape\", \"kargs\": {\"shape\": [-1, 1, 2, 256]}},\n",
    "        {\n",
    "            \"class\": \"Conv2d\",\n",
    "            \"kargs\": {\n",
    "                \"in_channels\": 1,\n",
    "                \"out_channels\": 256,\n",
    "                \"kernel_size\": [1, 7],\n",
    "                \"bias\": False,\n",
    "                \"padding\": [0, 3],\n",
    "            },\n",
    "        },\n",
    "        {\"class\": \"ReLU\", \"kargs\": {\"inplace\": True}},\n",
    "        {\"class\": \"BatchNorm2d\", \"kargs\": {\"num_features\": 256}},\n",
    "        {\n",
    "            \"class\": \"Conv2d\",\n",
    "            \"kargs\": {\n",
    "                \"in_channels\": 256,\n",
    "                \"out_channels\": 80,\n",
    "                \"kernel_size\": [2, 7],\n",
    "                \"bias\": True,\n",
    "                \"padding\": [0, 3],\n",
    "            },\n",
    "        },\n",
    "        {\"class\": \"ReLU\", \"kargs\": {\"inplace\": True}},\n",
    "        {\"class\": \"BatchNorm2d\", \"kargs\": {\"num_features\": 80}},\n",
    "        {\"class\": \"Flatten\", \"kargs\": {}},\n",
    "        {\"class\": \"Linear\", \"kargs\": {\"in_features\": 20480, \"out_features\": 256}},\n",
    "        {\"class\": \"ReLU\", \"kargs\": {\"inplace\": True}},\n",
    "        {\"class\": \"BatchNorm1d\", \"kargs\": {\"num_features\": 256}},\n",
    "        {\"class\": \"Linear\", \"kargs\": {\"in_features\": 256, \"out_features\": 256}},\n",
    "    ],\n",
    "    \"NUM_LOGS_PER_EPOCH\": 10,\n",
    "    \"BEST_MODEL_PATH\": \"./best_model.pth\",\n",
    "    \"n_way\": 16,\n",
    "    \"datasets\": [\n",
    "        {\n",
    "            \"labels\": [\n",
    "                \"1-10\",\n",
    "                \"1-12\",\n",
    "                \"1-14\",\n",
    "                \"1-16\",\n",
    "                \"1-18\",\n",
    "                \"1-19\",\n",
    "                \"1-8\",\n",
    "                \"10-11\",\n",
    "                \"10-17\",\n",
    "                \"10-4\",\n",
    "                \"10-7\",\n",
    "                \"11-1\",\n",
    "                \"11-10\",\n",
    "                \"11-19\",\n",
    "                \"11-20\",\n",
    "                \"11-4\",\n",
    "                \"11-7\",\n",
    "                \"12-19\",\n",
    "                \"12-20\",\n",
    "                \"12-7\",\n",
    "                \"13-14\",\n",
    "                \"13-18\",\n",
    "                \"13-19\",\n",
    "                \"13-20\",\n",
    "                \"13-3\",\n",
    "                \"13-7\",\n",
    "                \"14-10\",\n",
    "                \"14-11\",\n",
    "                \"14-12\",\n",
    "                \"14-13\",\n",
    "                \"14-14\",\n",
    "                \"14-19\",\n",
    "                \"14-20\",\n",
    "                \"14-7\",\n",
    "                \"14-8\",\n",
    "                \"14-9\",\n",
    "                \"15-1\",\n",
    "                \"15-19\",\n",
    "                \"15-6\",\n",
    "                \"16-1\",\n",
    "                \"16-16\",\n",
    "                \"16-19\",\n",
    "                \"16-20\",\n",
    "                \"17-10\",\n",
    "                \"17-11\",\n",
    "                \"18-1\",\n",
    "                \"18-10\",\n",
    "                \"18-11\",\n",
    "                \"18-12\",\n",
    "                \"18-13\",\n",
    "                \"18-14\",\n",
    "                \"18-15\",\n",
    "                \"18-16\",\n",
    "                \"18-17\",\n",
    "                \"18-19\",\n",
    "                \"18-2\",\n",
    "                \"18-20\",\n",
    "                \"18-4\",\n",
    "                \"18-5\",\n",
    "                \"18-7\",\n",
    "                \"18-8\",\n",
    "                \"18-9\",\n",
    "                \"19-1\",\n",
    "                \"19-10\",\n",
    "                \"19-11\",\n",
    "                \"19-12\",\n",
    "                \"19-13\",\n",
    "                \"19-14\",\n",
    "                \"19-15\",\n",
    "                \"19-19\",\n",
    "                \"19-2\",\n",
    "                \"19-20\",\n",
    "                \"19-3\",\n",
    "                \"19-4\",\n",
    "                \"19-6\",\n",
    "                \"19-7\",\n",
    "                \"19-8\",\n",
    "                \"19-9\",\n",
    "                \"2-1\",\n",
    "                \"2-13\",\n",
    "                \"2-15\",\n",
    "                \"2-3\",\n",
    "                \"2-4\",\n",
    "                \"2-5\",\n",
    "                \"2-6\",\n",
    "                \"2-7\",\n",
    "                \"2-8\",\n",
    "                \"20-1\",\n",
    "                \"20-12\",\n",
    "                \"20-14\",\n",
    "                \"20-15\",\n",
    "                \"20-16\",\n",
    "                \"20-18\",\n",
    "                \"20-19\",\n",
    "                \"20-20\",\n",
    "                \"20-3\",\n",
    "                \"20-4\",\n",
    "                \"20-5\",\n",
    "                \"20-7\",\n",
    "                \"20-8\",\n",
    "                \"3-1\",\n",
    "                \"3-13\",\n",
    "                \"3-18\",\n",
    "                \"3-2\",\n",
    "                \"3-8\",\n",
    "                \"4-1\",\n",
    "                \"4-10\",\n",
    "                \"4-11\",\n",
    "                \"5-1\",\n",
    "                \"5-5\",\n",
    "                \"6-1\",\n",
    "                \"6-15\",\n",
    "                \"6-6\",\n",
    "                \"7-10\",\n",
    "                \"7-11\",\n",
    "                \"7-12\",\n",
    "                \"7-13\",\n",
    "                \"7-14\",\n",
    "                \"7-7\",\n",
    "                \"7-8\",\n",
    "                \"7-9\",\n",
    "                \"8-1\",\n",
    "                \"8-13\",\n",
    "                \"8-14\",\n",
    "                \"8-18\",\n",
    "                \"8-20\",\n",
    "                \"8-3\",\n",
    "                \"8-8\",\n",
    "                \"9-1\",\n",
    "                \"9-7\",\n",
    "            ],\n",
    "            \"domains\": [1, 2, 3, 4],\n",
    "            \"num_examples_per_domain_per_label\": -1,\n",
    "            \"pickle_path\": \"/root/csc500-main/datasets/wisig.node3-19.stratified_ds.2022A.pkl\",\n",
    "            \"source_or_target_dataset\": \"source\",\n",
    "            \"x_transforms\": [],\n",
    "            \"episode_transforms\": [],\n",
    "            \"domain_prefix\": \"Wisig_\",\n",
    "        },\n",
    "        {\n",
    "            \"labels\": [\n",
    "                \"3123D52\",\n",
    "                \"3123D65\",\n",
    "                \"3123D79\",\n",
    "                \"3123D80\",\n",
    "                \"3123D54\",\n",
    "                \"3123D70\",\n",
    "                \"3123D7B\",\n",
    "                \"3123D89\",\n",
    "                \"3123D58\",\n",
    "                \"3123D76\",\n",
    "                \"3123D7D\",\n",
    "                \"3123EFE\",\n",
    "                \"3123D64\",\n",
    "                \"3123D78\",\n",
    "                \"3123D7E\",\n",
    "                \"3124E4A\",\n",
    "            ],\n",
    "            \"domains\": [32, 38, 8, 44, 14, 50, 20, 26],\n",
    "            \"num_examples_per_domain_per_label\": 10000,\n",
    "            \"pickle_path\": \"/root/csc500-main/datasets/oracle.Run1_10kExamples_stratified_ds.2022A.pkl\",\n",
    "            \"source_or_target_dataset\": \"target\",\n",
    "            \"x_transforms\": [],\n",
    "            \"episode_transforms\": [],\n",
    "            \"domain_prefix\": \"ORACLE.run1\",\n",
    "        },\n",
    "    ],\n",
    "    \"dataset_seed\": 7,\n",
    "    \"seed\": 7,\n",
    "}\n"
   ]
  },
  {
   "cell_type": "code",
   "execution_count": 5,
   "id": "8fa1cc33",
   "metadata": {
    "execution": {
     "iopub.execute_input": "2022-03-24T03:35:24.445956Z",
     "iopub.status.busy": "2022-03-24T03:35:24.441163Z",
     "iopub.status.idle": "2022-03-24T03:35:24.461276Z",
     "shell.execute_reply": "2022-03-24T03:35:24.460959Z"
    },
    "papermill": {
     "duration": 0.044379,
     "end_time": "2022-03-24T03:35:24.461346",
     "exception": false,
     "start_time": "2022-03-24T03:35:24.416967",
     "status": "completed"
    },
    "tags": []
   },
   "outputs": [],
   "source": [
    "# Set this to True if you want to run this template directly\n",
    "STANDALONE = False\n",
    "if STANDALONE:\n",
    "    print(\"parameters not injected, running with standalone_parameters\")\n",
    "    parameters = standalone_parameters\n",
    "\n",
    "if not 'parameters' in locals() and not 'parameters' in globals():\n",
    "    raise Exception(\"Parameter injection failed\")\n",
    "\n",
    "#Use an easy dict for all the parameters\n",
    "p = EasyDict(parameters)\n",
    "\n",
    "if \"x_shape\" not in p:\n",
    "    p.x_shape = [2,256] # Default to this if we dont supply x_shape\n",
    "\n",
    "\n",
    "supplied_keys = set(p.keys())\n",
    "\n",
    "if  supplied_keys != required_parameters:\n",
    "    print(\"Parameters are incorrect\")\n",
    "    if len(supplied_keys - required_parameters)>0: print(\"Shouldn't have:\", str(supplied_keys - required_parameters))\n",
    "    if len(required_parameters - supplied_keys)>0: print(\"Need to have:\", str(required_parameters - supplied_keys))\n",
    "    raise RuntimeError(\"Parameters are incorrect\")"
   ]
  },
  {
   "cell_type": "code",
   "execution_count": 6,
   "id": "3a028d58",
   "metadata": {
    "execution": {
     "iopub.execute_input": "2022-03-24T03:35:24.508769Z",
     "iopub.status.busy": "2022-03-24T03:35:24.508167Z",
     "iopub.status.idle": "2022-03-24T03:35:24.522353Z",
     "shell.execute_reply": "2022-03-24T03:35:24.522035Z"
    },
    "papermill": {
     "duration": 0.041916,
     "end_time": "2022-03-24T03:35:24.522422",
     "exception": false,
     "start_time": "2022-03-24T03:35:24.480506",
     "status": "completed"
    },
    "tags": []
   },
   "outputs": [],
   "source": [
    "###################################\n",
    "# Set the RNGs and make it all deterministic\n",
    "###################################\n",
    "np.random.seed(p.seed)\n",
    "random.seed(p.seed)\n",
    "torch.manual_seed(p.seed)\n",
    "\n",
    "torch.use_deterministic_algorithms(True) "
   ]
  },
  {
   "cell_type": "code",
   "execution_count": 7,
   "id": "b691acf6",
   "metadata": {
    "execution": {
     "iopub.execute_input": "2022-03-24T03:35:24.565183Z",
     "iopub.status.busy": "2022-03-24T03:35:24.564818Z",
     "iopub.status.idle": "2022-03-24T03:35:24.588516Z",
     "shell.execute_reply": "2022-03-24T03:35:24.588196Z"
    },
    "papermill": {
     "duration": 0.046652,
     "end_time": "2022-03-24T03:35:24.588586",
     "exception": false,
     "start_time": "2022-03-24T03:35:24.541934",
     "status": "completed"
    },
    "tags": []
   },
   "outputs": [],
   "source": [
    "###########################################\n",
    "# The stratified datasets honor this\n",
    "###########################################\n",
    "torch.set_default_dtype(eval(p.torch_default_dtype))"
   ]
  },
  {
   "cell_type": "code",
   "execution_count": 8,
   "id": "b5fba671",
   "metadata": {
    "execution": {
     "iopub.execute_input": "2022-03-24T03:35:24.631027Z",
     "iopub.status.busy": "2022-03-24T03:35:24.630661Z",
     "iopub.status.idle": "2022-03-24T03:35:24.689717Z",
     "shell.execute_reply": "2022-03-24T03:35:24.688925Z"
    },
    "papermill": {
     "duration": 0.081815,
     "end_time": "2022-03-24T03:35:24.689913",
     "exception": false,
     "start_time": "2022-03-24T03:35:24.608098",
     "status": "completed"
    },
    "tags": []
   },
   "outputs": [],
   "source": [
    "###################################\n",
    "# Build the network(s)\n",
    "# Note: It's critical to do this AFTER setting the RNG\n",
    "###################################\n",
    "x_net = build_sequential(p.x_net)"
   ]
  },
  {
   "cell_type": "code",
   "execution_count": 9,
   "id": "5d7e61cc",
   "metadata": {
    "execution": {
     "iopub.execute_input": "2022-03-24T03:35:24.738172Z",
     "iopub.status.busy": "2022-03-24T03:35:24.737611Z",
     "iopub.status.idle": "2022-03-24T03:35:24.763602Z",
     "shell.execute_reply": "2022-03-24T03:35:24.762810Z"
    },
    "papermill": {
     "duration": 0.049795,
     "end_time": "2022-03-24T03:35:24.763774",
     "exception": false,
     "start_time": "2022-03-24T03:35:24.713979",
     "status": "completed"
    },
    "tags": []
   },
   "outputs": [],
   "source": [
    "start_time_secs = time.time()"
   ]
  },
  {
   "cell_type": "code",
   "execution_count": 10,
   "id": "c6b67dfd",
   "metadata": {
    "execution": {
     "iopub.execute_input": "2022-03-24T03:35:24.811924Z",
     "iopub.status.busy": "2022-03-24T03:35:24.811557Z",
     "iopub.status.idle": "2022-03-24T03:35:24.830813Z",
     "shell.execute_reply": "2022-03-24T03:35:24.831478Z"
    },
    "papermill": {
     "duration": 0.041652,
     "end_time": "2022-03-24T03:35:24.831676",
     "exception": false,
     "start_time": "2022-03-24T03:35:24.790024",
     "status": "completed"
    },
    "tags": []
   },
   "outputs": [],
   "source": [
    "p.domains_source = []\n",
    "p.domains_target = []\n",
    "\n",
    "\n",
    "train_original_source = []\n",
    "val_original_source   = []\n",
    "test_original_source  = []\n",
    "\n",
    "train_original_target = []\n",
    "val_original_target   = []\n",
    "test_original_target  = []"
   ]
  },
  {
   "cell_type": "code",
   "execution_count": 11,
   "id": "e3d9c3d3",
   "metadata": {
    "execution": {
     "iopub.execute_input": "2022-03-24T03:35:24.881858Z",
     "iopub.status.busy": "2022-03-24T03:35:24.881497Z",
     "iopub.status.idle": "2022-03-24T03:35:24.899902Z",
     "shell.execute_reply": "2022-03-24T03:35:24.899141Z"
    },
    "papermill": {
     "duration": 0.039903,
     "end_time": "2022-03-24T03:35:24.900056",
     "exception": false,
     "start_time": "2022-03-24T03:35:24.860153",
     "status": "completed"
    },
    "tags": []
   },
   "outputs": [],
   "source": [
    "# global_x_transform_func = lambda x: normalize(x.to(torch.get_default_dtype()), \"unit_power\") # unit_power, unit_mag\n",
    "# global_x_transform_func = lambda x: normalize(x, \"unit_power\") # unit_power, unit_mag"
   ]
  },
  {
   "cell_type": "code",
   "execution_count": 12,
   "id": "acb78fd2",
   "metadata": {
    "execution": {
     "iopub.execute_input": "2022-03-24T03:35:24.962511Z",
     "iopub.status.busy": "2022-03-24T03:35:24.961933Z",
     "iopub.status.idle": "2022-03-24T03:35:24.981411Z",
     "shell.execute_reply": "2022-03-24T03:35:24.980673Z"
    },
    "papermill": {
     "duration": 0.050484,
     "end_time": "2022-03-24T03:35:24.981563",
     "exception": false,
     "start_time": "2022-03-24T03:35:24.931079",
     "status": "completed"
    },
    "tags": []
   },
   "outputs": [],
   "source": [
    "def add_dataset(\n",
    "    labels,\n",
    "    domains,\n",
    "    pickle_path,\n",
    "    x_transforms,\n",
    "    episode_transforms,\n",
    "    domain_prefix,\n",
    "    num_examples_per_domain_per_label,\n",
    "    source_or_target_dataset:str,\n",
    "    iterator_seed=p.seed,\n",
    "    dataset_seed=p.dataset_seed,\n",
    "    n_shot=p.n_shot,\n",
    "    n_way=p.n_way,\n",
    "    n_query=p.n_query,\n",
    "    train_val_test_k_factors=(p.train_k_factor,p.val_k_factor,p.test_k_factor),\n",
    "):\n",
    "   \n",
    "    if x_transforms == []: x_transform = None\n",
    "    else: x_transform = get_chained_transform(x_transforms)\n",
    "    \n",
    "    if episode_transforms == []: episode_transform = None\n",
    "    else: raise Exception(\"episode_transforms not implemented\")\n",
    "    \n",
    "    episode_transform = lambda tup, _prefix=domain_prefix: (_prefix + str(tup[0]), tup[1])\n",
    "\n",
    "\n",
    "    eaf = Episodic_Accessor_Factory(\n",
    "        labels=labels,\n",
    "        domains=domains,\n",
    "        num_examples_per_domain_per_label=num_examples_per_domain_per_label,\n",
    "        iterator_seed=iterator_seed,\n",
    "        dataset_seed=dataset_seed,\n",
    "        n_shot=n_shot,\n",
    "        n_way=n_way,\n",
    "        n_query=n_query,\n",
    "        train_val_test_k_factors=train_val_test_k_factors,\n",
    "        pickle_path=pickle_path,\n",
    "        x_transform_func=x_transform,\n",
    "    )\n",
    "\n",
    "    train, val, test = eaf.get_train(), eaf.get_val(), eaf.get_test()\n",
    "    train = Lazy_Iterable_Wrapper(train, episode_transform)\n",
    "    val = Lazy_Iterable_Wrapper(val, episode_transform)\n",
    "    test = Lazy_Iterable_Wrapper(test, episode_transform)\n",
    "\n",
    "    if source_or_target_dataset==\"source\":\n",
    "        train_original_source.append(train)\n",
    "        val_original_source.append(val)\n",
    "        test_original_source.append(test)\n",
    "\n",
    "        p.domains_source.extend(\n",
    "            [domain_prefix + str(u) for u in domains]\n",
    "        )\n",
    "    elif source_or_target_dataset==\"target\":\n",
    "        train_original_target.append(train)\n",
    "        val_original_target.append(val)\n",
    "        test_original_target.append(test)\n",
    "        p.domains_target.extend(\n",
    "            [domain_prefix + str(u) for u in domains]\n",
    "        )\n",
    "    else:\n",
    "        raise Exception(f\"invalid source_or_target_dataset: {source_or_target_dataset}\")\n",
    "    "
   ]
  },
  {
   "cell_type": "code",
   "execution_count": 13,
   "id": "fe266617",
   "metadata": {
    "execution": {
     "iopub.execute_input": "2022-03-24T03:35:25.028788Z",
     "iopub.status.busy": "2022-03-24T03:35:25.028425Z",
     "iopub.status.idle": "2022-03-24T03:35:35.922180Z",
     "shell.execute_reply": "2022-03-24T03:35:35.922898Z"
    },
    "papermill": {
     "duration": 10.916305,
     "end_time": "2022-03-24T03:35:35.923124",
     "exception": false,
     "start_time": "2022-03-24T03:35:25.006819",
     "status": "completed"
    },
    "tags": []
   },
   "outputs": [],
   "source": [
    "for ds in p.datasets:\n",
    "    add_dataset(**ds)"
   ]
  },
  {
   "cell_type": "code",
   "execution_count": 14,
   "id": "b90d65ac",
   "metadata": {
    "execution": {
     "iopub.execute_input": "2022-03-24T03:35:35.973019Z",
     "iopub.status.busy": "2022-03-24T03:35:35.972637Z",
     "iopub.status.idle": "2022-03-24T03:35:35.997131Z",
     "shell.execute_reply": "2022-03-24T03:35:35.997802Z"
    },
    "papermill": {
     "duration": 0.048084,
     "end_time": "2022-03-24T03:35:35.997985",
     "exception": false,
     "start_time": "2022-03-24T03:35:35.949901",
     "status": "completed"
    },
    "tags": []
   },
   "outputs": [],
   "source": [
    "# from steves_utils.CORES.utils import (\n",
    "#     ALL_NODES,\n",
    "#     ALL_NODES_MINIMUM_1000_EXAMPLES,\n",
    "#     ALL_DAYS\n",
    "# )\n",
    "\n",
    "# add_dataset(\n",
    "#     labels=ALL_NODES,\n",
    "#     domains = ALL_DAYS,\n",
    "#     num_examples_per_domain_per_label=100,\n",
    "#     pickle_path=os.path.join(get_datasets_base_path(), \"cores.stratified_ds.2022A.pkl\"),\n",
    "#     source_or_target_dataset=\"target\",\n",
    "#     x_transform_func=global_x_transform_func,\n",
    "#     domain_modifier=lambda u: f\"cores_{u}\"\n",
    "# )"
   ]
  },
  {
   "cell_type": "code",
   "execution_count": 15,
   "id": "76db484d",
   "metadata": {
    "execution": {
     "iopub.execute_input": "2022-03-24T03:35:36.046089Z",
     "iopub.status.busy": "2022-03-24T03:35:36.045720Z",
     "iopub.status.idle": "2022-03-24T03:35:36.065151Z",
     "shell.execute_reply": "2022-03-24T03:35:36.065821Z"
    },
    "papermill": {
     "duration": 0.043132,
     "end_time": "2022-03-24T03:35:36.066003",
     "exception": false,
     "start_time": "2022-03-24T03:35:36.022871",
     "status": "completed"
    },
    "tags": []
   },
   "outputs": [],
   "source": [
    "# from steves_utils.ORACLE.utils_v2 import (\n",
    "#     ALL_DISTANCES_FEET,\n",
    "#     ALL_RUNS,\n",
    "#     ALL_SERIAL_NUMBERS,\n",
    "# )\n",
    "\n",
    "\n",
    "# add_dataset(\n",
    "#     labels=ALL_SERIAL_NUMBERS,\n",
    "#     domains = list(set(ALL_DISTANCES_FEET) - {2,62}),\n",
    "#     num_examples_per_domain_per_label=100,\n",
    "#     pickle_path=os.path.join(get_datasets_base_path(), \"oracle.Run2_framed_2000Examples_stratified_ds.2022A.pkl\"),\n",
    "#     source_or_target_dataset=\"source\",\n",
    "#     x_transform_func=global_x_transform_func,\n",
    "#     domain_modifier=lambda u: f\"oracle1_{u}\"\n",
    "# )\n"
   ]
  },
  {
   "cell_type": "code",
   "execution_count": 16,
   "id": "97dea9d2",
   "metadata": {
    "execution": {
     "iopub.execute_input": "2022-03-24T03:35:36.113770Z",
     "iopub.status.busy": "2022-03-24T03:35:36.113399Z",
     "iopub.status.idle": "2022-03-24T03:35:36.132515Z",
     "shell.execute_reply": "2022-03-24T03:35:36.133187Z"
    },
    "papermill": {
     "duration": 0.042682,
     "end_time": "2022-03-24T03:35:36.133369",
     "exception": false,
     "start_time": "2022-03-24T03:35:36.090687",
     "status": "completed"
    },
    "tags": []
   },
   "outputs": [],
   "source": [
    "# from steves_utils.ORACLE.utils_v2 import (\n",
    "#     ALL_DISTANCES_FEET,\n",
    "#     ALL_RUNS,\n",
    "#     ALL_SERIAL_NUMBERS,\n",
    "# )\n",
    "\n",
    "\n",
    "# add_dataset(\n",
    "#     labels=ALL_SERIAL_NUMBERS,\n",
    "#     domains = list(set(ALL_DISTANCES_FEET) - {2,62,56}),\n",
    "#     num_examples_per_domain_per_label=100,\n",
    "#     pickle_path=os.path.join(get_datasets_base_path(), \"oracle.Run2_framed_2000Examples_stratified_ds.2022A.pkl\"),\n",
    "#     source_or_target_dataset=\"source\",\n",
    "#     x_transform_func=global_x_transform_func,\n",
    "#     domain_modifier=lambda u: f\"oracle2_{u}\"\n",
    "# )"
   ]
  },
  {
   "cell_type": "code",
   "execution_count": 17,
   "id": "6f289866",
   "metadata": {
    "execution": {
     "iopub.execute_input": "2022-03-24T03:35:36.180778Z",
     "iopub.status.busy": "2022-03-24T03:35:36.180408Z",
     "iopub.status.idle": "2022-03-24T03:35:36.195809Z",
     "shell.execute_reply": "2022-03-24T03:35:36.196481Z"
    },
    "papermill": {
     "duration": 0.037846,
     "end_time": "2022-03-24T03:35:36.196667",
     "exception": false,
     "start_time": "2022-03-24T03:35:36.158821",
     "status": "completed"
    },
    "tags": []
   },
   "outputs": [],
   "source": [
    "# add_dataset(\n",
    "#     labels=list(range(19)),\n",
    "#     domains = [0,1,2],\n",
    "#     num_examples_per_domain_per_label=100,\n",
    "#     pickle_path=os.path.join(get_datasets_base_path(), \"metehan.stratified_ds.2022A.pkl\"),\n",
    "#     source_or_target_dataset=\"target\",\n",
    "#     x_transform_func=global_x_transform_func,\n",
    "#     domain_modifier=lambda u: f\"met_{u}\"\n",
    "# )"
   ]
  },
  {
   "cell_type": "code",
   "execution_count": 18,
   "id": "86a863c3",
   "metadata": {
    "execution": {
     "iopub.execute_input": "2022-03-24T03:35:36.246273Z",
     "iopub.status.busy": "2022-03-24T03:35:36.245899Z",
     "iopub.status.idle": "2022-03-24T03:35:36.264746Z",
     "shell.execute_reply": "2022-03-24T03:35:36.265416Z"
    },
    "papermill": {
     "duration": 0.04272,
     "end_time": "2022-03-24T03:35:36.265602",
     "exception": false,
     "start_time": "2022-03-24T03:35:36.222882",
     "status": "completed"
    },
    "tags": []
   },
   "outputs": [],
   "source": [
    "# # from steves_utils.wisig.utils import (\n",
    "# #     ALL_NODES_MINIMUM_100_EXAMPLES,\n",
    "# #     ALL_NODES_MINIMUM_500_EXAMPLES,\n",
    "# #     ALL_NODES_MINIMUM_1000_EXAMPLES,\n",
    "# #     ALL_DAYS\n",
    "# # )\n",
    "\n",
    "# import steves_utils.wisig.utils as wisig\n",
    "\n",
    "\n",
    "# add_dataset(\n",
    "#     labels=wisig.ALL_NODES_MINIMUM_100_EXAMPLES,\n",
    "#     domains = wisig.ALL_DAYS,\n",
    "#     num_examples_per_domain_per_label=100,\n",
    "#     pickle_path=os.path.join(get_datasets_base_path(), \"wisig.node3-19.stratified_ds.2022A.pkl\"),\n",
    "#     source_or_target_dataset=\"target\",\n",
    "#     x_transform_func=global_x_transform_func,\n",
    "#     domain_modifier=lambda u: f\"wisig_{u}\"\n",
    "# )"
   ]
  },
  {
   "cell_type": "code",
   "execution_count": 19,
   "id": "fd5442bc",
   "metadata": {
    "execution": {
     "iopub.execute_input": "2022-03-24T03:35:36.320273Z",
     "iopub.status.busy": "2022-03-24T03:35:36.319709Z",
     "iopub.status.idle": "2022-03-24T03:35:36.339073Z",
     "shell.execute_reply": "2022-03-24T03:35:36.339771Z"
    },
    "papermill": {
     "duration": 0.048352,
     "end_time": "2022-03-24T03:35:36.339956",
     "exception": false,
     "start_time": "2022-03-24T03:35:36.291604",
     "status": "completed"
    },
    "tags": []
   },
   "outputs": [],
   "source": [
    "###################################\n",
    "# Build the dataset\n",
    "###################################\n",
    "train_original_source = Iterable_Aggregator(train_original_source, p.seed)\n",
    "val_original_source = Iterable_Aggregator(val_original_source, p.seed)\n",
    "test_original_source = Iterable_Aggregator(test_original_source, p.seed)\n",
    "\n",
    "\n",
    "train_original_target = Iterable_Aggregator(train_original_target, p.seed)\n",
    "val_original_target = Iterable_Aggregator(val_original_target, p.seed)\n",
    "test_original_target = Iterable_Aggregator(test_original_target, p.seed)\n",
    "\n",
    "# For CNN We only use X and Y. And we only train on the source.\n",
    "# Properly form the data using a transform lambda and Lazy_Iterable_Wrapper. Finally wrap them in a dataloader\n",
    "\n",
    "transform_lambda = lambda ex: ex[1] # Original is (<domain>, <episode>) so we strip down to episode only\n",
    "\n",
    "train_processed_source = Lazy_Iterable_Wrapper(train_original_source, transform_lambda)\n",
    "val_processed_source   = Lazy_Iterable_Wrapper(val_original_source, transform_lambda)\n",
    "test_processed_source  = Lazy_Iterable_Wrapper(test_original_source, transform_lambda)\n",
    "\n",
    "train_processed_target = Lazy_Iterable_Wrapper(train_original_target, transform_lambda)\n",
    "val_processed_target   = Lazy_Iterable_Wrapper(val_original_target, transform_lambda)\n",
    "test_processed_target  = Lazy_Iterable_Wrapper(test_original_target, transform_lambda)\n",
    "\n",
    "datasets = EasyDict({\n",
    "    \"source\": {\n",
    "        \"original\": {\"train\":train_original_source, \"val\":val_original_source, \"test\":test_original_source},\n",
    "        \"processed\": {\"train\":train_processed_source, \"val\":val_processed_source, \"test\":test_processed_source}\n",
    "    },\n",
    "    \"target\": {\n",
    "        \"original\": {\"train\":train_original_target, \"val\":val_original_target, \"test\":test_original_target},\n",
    "        \"processed\": {\"train\":train_processed_target, \"val\":val_processed_target, \"test\":test_processed_target}\n",
    "    },\n",
    "})"
   ]
  },
  {
   "cell_type": "code",
   "execution_count": 20,
   "id": "5b3c01fc",
   "metadata": {
    "execution": {
     "iopub.execute_input": "2022-03-24T03:35:36.389866Z",
     "iopub.status.busy": "2022-03-24T03:35:36.389305Z",
     "iopub.status.idle": "2022-03-24T03:36:08.751122Z",
     "shell.execute_reply": "2022-03-24T03:36:08.750415Z"
    },
    "papermill": {
     "duration": 32.386771,
     "end_time": "2022-03-24T03:36:08.751300",
     "exception": false,
     "start_time": "2022-03-24T03:35:36.364529",
     "status": "completed"
    },
    "tags": []
   },
   "outputs": [
    {
     "name": "stdout",
     "output_type": "stream",
     "text": [
      "{'Wisig_1', 'Wisig_2', 'Wisig_4', 'Wisig_3'}\n"
     ]
    },
    {
     "name": "stdout",
     "output_type": "stream",
     "text": [
      "{'ORACLE.run114', 'ORACLE.run132', 'ORACLE.run138', 'ORACLE.run18', 'ORACLE.run126', 'ORACLE.run144', 'ORACLE.run120', 'ORACLE.run150'}\n"
     ]
    },
    {
     "name": "stdout",
     "output_type": "stream",
     "text": [
      "tensor([[[-0.0147,  0.0202,  0.0417,  ...,  0.0070,  0.0159,  0.0364],\n",
      "         [-0.0173, -0.0375,  0.0094,  ..., -0.0094, -0.0218, -0.0032]],\n",
      "\n",
      "        [[-0.0135,  0.0282,  0.0431,  ...,  0.0054,  0.0185,  0.0399],\n",
      "         [-0.0328, -0.0323,  0.0211,  ..., -0.0113, -0.0195, -0.0004]],\n",
      "\n",
      "        [[-0.0215,  0.0303,  0.0365,  ..., -0.0145,  0.0129,  0.0322],\n",
      "         [-0.0286, -0.0385,  0.0156,  ..., -0.0199, -0.0382, -0.0008]],\n",
      "\n",
      "        ...,\n",
      "\n",
      "        [[-0.0038,  0.0216,  0.0331,  ..., -0.0065,  0.0221,  0.0207],\n",
      "         [-0.0052, -0.0221, -0.0073,  ..., -0.0082,  0.0037,  0.0094]],\n",
      "\n",
      "        [[-0.0124,  0.0220,  0.0363,  ...,  0.0038,  0.0171,  0.0023],\n",
      "         [-0.0026, -0.0047,  0.0099,  ..., -0.0049, -0.0049,  0.0166]],\n",
      "\n",
      "        [[ 0.0071, -0.0016, -0.0258,  ...,  0.0092, -0.0059, -0.0219],\n",
      "         [-0.0027,  0.0172,  0.0197,  ...,  0.0072,  0.0116, -0.0077]]])\n"
     ]
    }
   ],
   "source": [
    "from steves_utils.transforms import get_average_magnitude, get_average_power\n",
    "\n",
    "print(set([u for u,_ in val_original_source]))\n",
    "print(set([u for u,_ in val_original_target]))\n",
    "\n",
    "s_x, s_y, q_x, q_y, _ = next(iter(train_processed_source))\n",
    "print(s_x)\n",
    "\n",
    "# for ds in [\n",
    "#     train_processed_source,\n",
    "#     val_processed_source,\n",
    "#     test_processed_source,\n",
    "#     train_processed_target,\n",
    "#     val_processed_target,\n",
    "#     test_processed_target\n",
    "# ]:\n",
    "#     for s_x, s_y, q_x, q_y, _ in ds:\n",
    "#         for X in (s_x, q_x):\n",
    "#             for x in X:\n",
    "#                 assert np.isclose(get_average_magnitude(x.numpy()), 1.0)\n",
    "#                 assert np.isclose(get_average_power(x.numpy()), 1.0)\n",
    "                "
   ]
  },
  {
   "cell_type": "code",
   "execution_count": 21,
   "id": "bbdacba1",
   "metadata": {
    "execution": {
     "iopub.execute_input": "2022-03-24T03:36:08.802127Z",
     "iopub.status.busy": "2022-03-24T03:36:08.801745Z",
     "iopub.status.idle": "2022-03-24T03:36:08.982880Z",
     "shell.execute_reply": "2022-03-24T03:36:08.983191Z"
    },
    "papermill": {
     "duration": 0.207591,
     "end_time": "2022-03-24T03:36:08.983293",
     "exception": false,
     "start_time": "2022-03-24T03:36:08.775702",
     "status": "completed"
    },
    "tags": []
   },
   "outputs": [
    {
     "name": "stdout",
     "output_type": "stream",
     "text": [
      "(2, 256)\n"
     ]
    }
   ],
   "source": [
    "###################################\n",
    "# Build the model\n",
    "###################################\n",
    "# easfsl only wants a tuple for the shape\n",
    "model = Steves_Prototypical_Network(x_net, device=p.device, x_shape=tuple(p.x_shape))\n",
    "optimizer = Adam(params=model.parameters(), lr=p.lr)"
   ]
  },
  {
   "cell_type": "code",
   "execution_count": 22,
   "id": "22b39ac5",
   "metadata": {
    "execution": {
     "iopub.execute_input": "2022-03-24T03:36:09.049039Z",
     "iopub.status.busy": "2022-03-24T03:36:09.048405Z",
     "iopub.status.idle": "2022-03-24T03:58:22.346593Z",
     "shell.execute_reply": "2022-03-24T03:58:22.346216Z"
    },
    "papermill": {
     "duration": 1333.34162,
     "end_time": "2022-03-24T03:58:22.346697",
     "exception": false,
     "start_time": "2022-03-24T03:36:09.005077",
     "status": "completed"
    },
    "tags": []
   },
   "outputs": [
    {
     "name": "stdout",
     "output_type": "stream",
     "text": [
      "epoch: 1, [batch: 1 / 6851], examples_per_second: 31.2414, train_label_loss: 2.2783, \n"
     ]
    },
    {
     "name": "stdout",
     "output_type": "stream",
     "text": [
      "epoch: 1, [batch: 686 / 6851], examples_per_second: 3856.3874, train_label_loss: 0.0780, \n"
     ]
    },
    {
     "name": "stdout",
     "output_type": "stream",
     "text": [
      "epoch: 1, [batch: 1371 / 6851], examples_per_second: 3897.2005, train_label_loss: 0.0610, \n"
     ]
    },
    {
     "name": "stdout",
     "output_type": "stream",
     "text": [
      "epoch: 1, [batch: 2056 / 6851], examples_per_second: 3967.1670, train_label_loss: 0.0295, \n"
     ]
    },
    {
     "name": "stdout",
     "output_type": "stream",
     "text": [
      "epoch: 1, [batch: 2741 / 6851], examples_per_second: 3923.7957, train_label_loss: 0.2251, \n"
     ]
    },
    {
     "name": "stdout",
     "output_type": "stream",
     "text": [
      "epoch: 1, [batch: 3426 / 6851], examples_per_second: 3897.5749, train_label_loss: 0.0210, \n"
     ]
    },
    {
     "name": "stdout",
     "output_type": "stream",
     "text": [
      "epoch: 1, [batch: 4111 / 6851], examples_per_second: 3886.8069, train_label_loss: 0.0872, \n"
     ]
    },
    {
     "name": "stdout",
     "output_type": "stream",
     "text": [
      "epoch: 1, [batch: 4796 / 6851], examples_per_second: 3834.4442, train_label_loss: 0.0753, \n"
     ]
    },
    {
     "name": "stdout",
     "output_type": "stream",
     "text": [
      "epoch: 1, [batch: 5481 / 6851], examples_per_second: 3890.6788, train_label_loss: 0.0411, \n"
     ]
    },
    {
     "name": "stdout",
     "output_type": "stream",
     "text": [
      "epoch: 1, [batch: 6166 / 6851], examples_per_second: 3978.0534, train_label_loss: 0.0838, \n"
     ]
    },
    {
     "name": "stdout",
     "output_type": "stream",
     "text": [
      "=============================================================\n",
      "epoch: 1, source_val_acc_label: 0.9608, target_val_acc_label: 0.3099, source_val_label_loss: 0.1774, target_val_label_loss: 2.6115, \n",
      "=============================================================\n"
     ]
    },
    {
     "name": "stdout",
     "output_type": "stream",
     "text": [
      "New best\n"
     ]
    },
    {
     "name": "stdout",
     "output_type": "stream",
     "text": [
      "epoch: 2, [batch: 1 / 6838], examples_per_second: 2.1147, train_label_loss: 0.0420, \n"
     ]
    },
    {
     "name": "stdout",
     "output_type": "stream",
     "text": [
      "epoch: 2, [batch: 684 / 6838], examples_per_second: 3945.6685, train_label_loss: 0.2835, \n"
     ]
    },
    {
     "name": "stdout",
     "output_type": "stream",
     "text": [
      "epoch: 2, [batch: 1368 / 6838], examples_per_second: 3932.1577, train_label_loss: 0.1412, \n"
     ]
    },
    {
     "name": "stdout",
     "output_type": "stream",
     "text": [
      "epoch: 2, [batch: 2052 / 6838], examples_per_second: 3878.3144, train_label_loss: 0.0080, \n"
     ]
    },
    {
     "name": "stdout",
     "output_type": "stream",
     "text": [
      "epoch: 2, [batch: 2735 / 6838], examples_per_second: 3960.1211, train_label_loss: 0.0168, \n"
     ]
    },
    {
     "name": "stdout",
     "output_type": "stream",
     "text": [
      "epoch: 2, [batch: 3419 / 6838], examples_per_second: 3934.7455, train_label_loss: 0.0661, \n"
     ]
    },
    {
     "name": "stdout",
     "output_type": "stream",
     "text": [
      "epoch: 2, [batch: 4103 / 6838], examples_per_second: 3991.4769, train_label_loss: 0.0017, \n"
     ]
    },
    {
     "name": "stdout",
     "output_type": "stream",
     "text": [
      "epoch: 2, [batch: 4786 / 6838], examples_per_second: 3999.1203, train_label_loss: 0.0230, \n"
     ]
    },
    {
     "name": "stdout",
     "output_type": "stream",
     "text": [
      "epoch: 2, [batch: 5470 / 6838], examples_per_second: 3874.1500, train_label_loss: 0.1071, \n"
     ]
    },
    {
     "name": "stdout",
     "output_type": "stream",
     "text": [
      "epoch: 2, [batch: 6154 / 6838], examples_per_second: 3981.0343, train_label_loss: 0.0872, \n"
     ]
    },
    {
     "name": "stdout",
     "output_type": "stream",
     "text": [
      "=============================================================\n",
      "epoch: 2, source_val_acc_label: 0.9686, target_val_acc_label: 0.3178, source_val_label_loss: 0.1457, target_val_label_loss: 2.5379, \n",
      "=============================================================\n"
     ]
    },
    {
     "name": "stdout",
     "output_type": "stream",
     "text": [
      "New best\n"
     ]
    },
    {
     "name": "stdout",
     "output_type": "stream",
     "text": [
      "epoch: 3, [batch: 1 / 6850], examples_per_second: 2.0927, train_label_loss: 0.1456, \n"
     ]
    },
    {
     "name": "stdout",
     "output_type": "stream",
     "text": [
      "epoch: 3, [batch: 685 / 6850], examples_per_second: 3899.1349, train_label_loss: 0.0042, \n"
     ]
    },
    {
     "name": "stdout",
     "output_type": "stream",
     "text": [
      "epoch: 3, [batch: 1370 / 6850], examples_per_second: 3886.6397, train_label_loss: 0.0037, \n"
     ]
    },
    {
     "name": "stdout",
     "output_type": "stream",
     "text": [
      "epoch: 3, [batch: 2055 / 6850], examples_per_second: 3954.0382, train_label_loss: 0.0418, \n"
     ]
    },
    {
     "name": "stdout",
     "output_type": "stream",
     "text": [
      "epoch: 3, [batch: 2740 / 6850], examples_per_second: 3979.4076, train_label_loss: 0.1910, \n"
     ]
    },
    {
     "name": "stdout",
     "output_type": "stream",
     "text": [
      "epoch: 3, [batch: 3425 / 6850], examples_per_second: 3045.5703, train_label_loss: 0.1771, \n"
     ]
    },
    {
     "name": "stdout",
     "output_type": "stream",
     "text": [
      "epoch: 3, [batch: 4110 / 6850], examples_per_second: 3013.2626, train_label_loss: 0.2695, \n"
     ]
    },
    {
     "name": "stdout",
     "output_type": "stream",
     "text": [
      "epoch: 3, [batch: 4795 / 6850], examples_per_second: 2949.5358, train_label_loss: 0.1509, \n"
     ]
    },
    {
     "name": "stdout",
     "output_type": "stream",
     "text": [
      "epoch: 3, [batch: 5480 / 6850], examples_per_second: 2984.3045, train_label_loss: 0.1888, \n"
     ]
    },
    {
     "name": "stdout",
     "output_type": "stream",
     "text": [
      "epoch: 3, [batch: 6165 / 6850], examples_per_second: 3032.2755, train_label_loss: 0.0207, \n"
     ]
    },
    {
     "name": "stdout",
     "output_type": "stream",
     "text": [
      "=============================================================\n",
      "epoch: 3, source_val_acc_label: 0.9721, target_val_acc_label: 0.2828, source_val_label_loss: 0.1228, target_val_label_loss: 2.5813, \n",
      "=============================================================\n"
     ]
    },
    {
     "name": "stdout",
     "output_type": "stream",
     "text": [
      "epoch: 4, [batch: 1 / 6835], examples_per_second: 1.4224, train_label_loss: 0.0141, \n"
     ]
    },
    {
     "name": "stdout",
     "output_type": "stream",
     "text": [
      "epoch: 4, [batch: 684 / 6835], examples_per_second: 3409.9956, train_label_loss: 0.2228, \n"
     ]
    },
    {
     "name": "stdout",
     "output_type": "stream",
     "text": [
      "epoch: 4, [batch: 1367 / 6835], examples_per_second: 3373.6115, train_label_loss: 0.2045, \n"
     ]
    },
    {
     "name": "stdout",
     "output_type": "stream",
     "text": [
      "epoch: 4, [batch: 2051 / 6835], examples_per_second: 3347.9460, train_label_loss: 0.0117, \n"
     ]
    },
    {
     "name": "stdout",
     "output_type": "stream",
     "text": [
      "epoch: 4, [batch: 2734 / 6835], examples_per_second: 3338.7157, train_label_loss: 0.0218, \n"
     ]
    },
    {
     "name": "stdout",
     "output_type": "stream",
     "text": [
      "epoch: 4, [batch: 3418 / 6835], examples_per_second: 3420.0422, train_label_loss: 0.2453, \n"
     ]
    },
    {
     "name": "stdout",
     "output_type": "stream",
     "text": [
      "epoch: 4, [batch: 4101 / 6835], examples_per_second: 3401.1096, train_label_loss: 0.1046, \n"
     ]
    },
    {
     "name": "stdout",
     "output_type": "stream",
     "text": [
      "epoch: 4, [batch: 4784 / 6835], examples_per_second: 3487.3744, train_label_loss: 0.0074, \n"
     ]
    },
    {
     "name": "stdout",
     "output_type": "stream",
     "text": [
      "epoch: 4, [batch: 5468 / 6835], examples_per_second: 3397.0830, train_label_loss: 0.2115, \n"
     ]
    },
    {
     "name": "stdout",
     "output_type": "stream",
     "text": [
      "epoch: 4, [batch: 6151 / 6835], examples_per_second: 3383.6852, train_label_loss: 0.0173, \n"
     ]
    },
    {
     "name": "stdout",
     "output_type": "stream",
     "text": [
      "=============================================================\n",
      "epoch: 4, source_val_acc_label: 0.9724, target_val_acc_label: 0.2589, source_val_label_loss: 0.1176, target_val_label_loss: 2.5844, \n",
      "=============================================================\n"
     ]
    },
    {
     "name": "stdout",
     "output_type": "stream",
     "text": [
      "epoch: 5, [batch: 1 / 6849], examples_per_second: 1.4638, train_label_loss: 0.0345, \n"
     ]
    },
    {
     "name": "stdout",
     "output_type": "stream",
     "text": [
      "epoch: 5, [batch: 685 / 6849], examples_per_second: 3337.4036, train_label_loss: 0.0489, \n"
     ]
    },
    {
     "name": "stdout",
     "output_type": "stream",
     "text": [
      "epoch: 5, [batch: 1370 / 6849], examples_per_second: 3315.4852, train_label_loss: 0.0321, \n"
     ]
    },
    {
     "name": "stdout",
     "output_type": "stream",
     "text": [
      "epoch: 5, [batch: 2055 / 6849], examples_per_second: 3341.0518, train_label_loss: 0.1768, \n"
     ]
    },
    {
     "name": "stdout",
     "output_type": "stream",
     "text": [
      "epoch: 5, [batch: 2740 / 6849], examples_per_second: 3358.5538, train_label_loss: 0.3805, \n"
     ]
    },
    {
     "name": "stdout",
     "output_type": "stream",
     "text": [
      "epoch: 5, [batch: 3425 / 6849], examples_per_second: 3420.4784, train_label_loss: 0.1856, \n"
     ]
    },
    {
     "name": "stdout",
     "output_type": "stream",
     "text": [
      "epoch: 5, [batch: 4109 / 6849], examples_per_second: 3435.6982, train_label_loss: 0.0033, \n"
     ]
    },
    {
     "name": "stdout",
     "output_type": "stream",
     "text": [
      "epoch: 5, [batch: 4794 / 6849], examples_per_second: 3422.7822, train_label_loss: 0.2519, \n"
     ]
    },
    {
     "name": "stdout",
     "output_type": "stream",
     "text": [
      "epoch: 5, [batch: 5479 / 6849], examples_per_second: 3564.1076, train_label_loss: 0.0052, \n"
     ]
    },
    {
     "name": "stdout",
     "output_type": "stream",
     "text": [
      "epoch: 5, [batch: 6164 / 6849], examples_per_second: 3858.1742, train_label_loss: 0.0165, \n"
     ]
    },
    {
     "name": "stdout",
     "output_type": "stream",
     "text": [
      "=============================================================\n",
      "epoch: 5, source_val_acc_label: 0.9736, target_val_acc_label: 0.2423, source_val_label_loss: 0.1094, target_val_label_loss: 2.5621, \n",
      "=============================================================\n"
     ]
    },
    {
     "name": "stdout",
     "output_type": "stream",
     "text": [
      "epoch: 6, [batch: 1 / 6851], examples_per_second: 1.8766, train_label_loss: 0.0933, \n"
     ]
    },
    {
     "name": "stdout",
     "output_type": "stream",
     "text": [
      "epoch: 6, [batch: 686 / 6851], examples_per_second: 3808.5409, train_label_loss: 0.9463, \n"
     ]
    },
    {
     "name": "stdout",
     "output_type": "stream",
     "text": [
      "epoch: 6, [batch: 1371 / 6851], examples_per_second: 3923.4277, train_label_loss: 0.0125, \n"
     ]
    },
    {
     "name": "stdout",
     "output_type": "stream",
     "text": [
      "epoch: 6, [batch: 2056 / 6851], examples_per_second: 3947.0700, train_label_loss: 0.1264, \n"
     ]
    },
    {
     "name": "stdout",
     "output_type": "stream",
     "text": [
      "epoch: 6, [batch: 2741 / 6851], examples_per_second: 3802.4573, train_label_loss: 0.0043, \n"
     ]
    },
    {
     "name": "stdout",
     "output_type": "stream",
     "text": [
      "epoch: 6, [batch: 3426 / 6851], examples_per_second: 3952.6749, train_label_loss: 0.1532, \n"
     ]
    },
    {
     "name": "stdout",
     "output_type": "stream",
     "text": [
      "epoch: 6, [batch: 4111 / 6851], examples_per_second: 4362.3146, train_label_loss: 0.0224, \n"
     ]
    },
    {
     "name": "stdout",
     "output_type": "stream",
     "text": [
      "epoch: 6, [batch: 4796 / 6851], examples_per_second: 4418.6411, train_label_loss: 0.2924, \n"
     ]
    },
    {
     "name": "stdout",
     "output_type": "stream",
     "text": [
      "epoch: 6, [batch: 5481 / 6851], examples_per_second: 4320.4602, train_label_loss: 0.0015, \n"
     ]
    },
    {
     "name": "stdout",
     "output_type": "stream",
     "text": [
      "epoch: 6, [batch: 6166 / 6851], examples_per_second: 4336.9712, train_label_loss: 0.1296, \n"
     ]
    },
    {
     "name": "stdout",
     "output_type": "stream",
     "text": [
      "=============================================================\n",
      "epoch: 6, source_val_acc_label: 0.9741, target_val_acc_label: 0.2430, source_val_label_loss: 0.1077, target_val_label_loss: 2.5524, \n",
      "=============================================================\n"
     ]
    },
    {
     "name": "stdout",
     "output_type": "stream",
     "text": [
      "Patience (3) exhausted\n"
     ]
    }
   ],
   "source": [
    "###################################\n",
    "# train\n",
    "###################################\n",
    "jig = PTN_Train_Eval_Test_Jig(model, p.BEST_MODEL_PATH, p.device)\n",
    "\n",
    "jig.train(\n",
    "    train_iterable=datasets.source.processed.train,\n",
    "    source_val_iterable=datasets.source.processed.val,\n",
    "    target_val_iterable=datasets.target.processed.val,\n",
    "    num_epochs=p.n_epoch,\n",
    "    num_logs_per_epoch=p.NUM_LOGS_PER_EPOCH,\n",
    "    patience=p.patience,\n",
    "    optimizer=optimizer,\n",
    "    criteria_for_best=p.criteria_for_best,\n",
    ")"
   ]
  },
  {
   "cell_type": "code",
   "execution_count": 23,
   "id": "31e8fabf",
   "metadata": {
    "execution": {
     "iopub.execute_input": "2022-03-24T03:58:22.436868Z",
     "iopub.status.busy": "2022-03-24T03:58:22.436462Z",
     "iopub.status.idle": "2022-03-24T03:58:22.468864Z",
     "shell.execute_reply": "2022-03-24T03:58:22.468060Z"
    },
    "papermill": {
     "duration": 0.080049,
     "end_time": "2022-03-24T03:58:22.469066",
     "exception": false,
     "start_time": "2022-03-24T03:58:22.389017",
     "status": "completed"
    },
    "tags": []
   },
   "outputs": [],
   "source": [
    "total_experiment_time_secs = time.time() - start_time_secs"
   ]
  },
  {
   "cell_type": "code",
   "execution_count": 24,
   "id": "87b9595b",
   "metadata": {
    "execution": {
     "iopub.execute_input": "2022-03-24T03:58:22.568685Z",
     "iopub.status.busy": "2022-03-24T03:58:22.567675Z",
     "iopub.status.idle": "2022-03-24T04:07:26.364772Z",
     "shell.execute_reply": "2022-03-24T04:07:26.355712Z"
    },
    "papermill": {
     "duration": 543.853197,
     "end_time": "2022-03-24T04:07:26.369754",
     "exception": false,
     "start_time": "2022-03-24T03:58:22.516557",
     "status": "completed"
    },
    "tags": []
   },
   "outputs": [],
   "source": [
    "###################################\n",
    "# Evaluate the model\n",
    "###################################\n",
    "source_test_label_accuracy, source_test_label_loss = jig.test(datasets.source.processed.test)\n",
    "target_test_label_accuracy, target_test_label_loss = jig.test(datasets.target.processed.test)\n",
    "\n",
    "source_val_label_accuracy, source_val_label_loss = jig.test(datasets.source.processed.val)\n",
    "target_val_label_accuracy, target_val_label_loss = jig.test(datasets.target.processed.val)\n",
    "\n",
    "history = jig.get_history()\n",
    "\n",
    "total_epochs_trained = len(history[\"epoch_indices\"])\n",
    "\n",
    "val_dl = Iterable_Aggregator((datasets.source.original.val,datasets.target.original.val))\n",
    "\n",
    "confusion = ptn_confusion_by_domain_over_dataloader(model, p.device, val_dl)\n",
    "per_domain_accuracy = per_domain_accuracy_from_confusion(confusion)\n",
    "\n",
    "# Add a key to per_domain_accuracy for if it was a source domain\n",
    "for domain, accuracy in per_domain_accuracy.items():\n",
    "    per_domain_accuracy[domain] = {\n",
    "        \"accuracy\": accuracy,\n",
    "        \"source?\": domain in p.domains_source\n",
    "    }\n",
    "\n",
    "# Do an independent accuracy assesment JUST TO BE SURE!\n",
    "# _source_test_label_accuracy = independent_accuracy_assesment(model, datasets.source.processed.test, p.device)\n",
    "# _target_test_label_accuracy = independent_accuracy_assesment(model, datasets.target.processed.test, p.device)\n",
    "# _source_val_label_accuracy = independent_accuracy_assesment(model, datasets.source.processed.val, p.device)\n",
    "# _target_val_label_accuracy = independent_accuracy_assesment(model, datasets.target.processed.val, p.device)\n",
    "\n",
    "# assert(_source_test_label_accuracy == source_test_label_accuracy)\n",
    "# assert(_target_test_label_accuracy == target_test_label_accuracy)\n",
    "# assert(_source_val_label_accuracy == source_val_label_accuracy)\n",
    "# assert(_target_val_label_accuracy == target_val_label_accuracy)\n",
    "\n",
    "experiment = {\n",
    "    \"experiment_name\": p.experiment_name,\n",
    "    \"parameters\": dict(p),\n",
    "    \"results\": {\n",
    "        \"source_test_label_accuracy\": source_test_label_accuracy,\n",
    "        \"source_test_label_loss\": source_test_label_loss,\n",
    "        \"target_test_label_accuracy\": target_test_label_accuracy,\n",
    "        \"target_test_label_loss\": target_test_label_loss,\n",
    "        \"source_val_label_accuracy\": source_val_label_accuracy,\n",
    "        \"source_val_label_loss\": source_val_label_loss,\n",
    "        \"target_val_label_accuracy\": target_val_label_accuracy,\n",
    "        \"target_val_label_loss\": target_val_label_loss,\n",
    "        \"total_epochs_trained\": total_epochs_trained,\n",
    "        \"total_experiment_time_secs\": total_experiment_time_secs,\n",
    "        \"confusion\": confusion,\n",
    "        \"per_domain_accuracy\": per_domain_accuracy,\n",
    "    },\n",
    "    \"history\": history,\n",
    "    \"dataset_metrics\": get_dataset_metrics(datasets, \"ptn\"),\n",
    "}"
   ]
  },
  {
   "cell_type": "code",
   "execution_count": 25,
   "id": "54a21829",
   "metadata": {
    "execution": {
     "iopub.execute_input": "2022-03-24T04:07:27.249460Z",
     "iopub.status.busy": "2022-03-24T04:07:27.248590Z",
     "iopub.status.idle": "2022-03-24T04:07:27.873330Z",
     "shell.execute_reply": "2022-03-24T04:07:27.874355Z"
    },
    "papermill": {
     "duration": 0.688595,
     "end_time": "2022-03-24T04:07:27.874576",
     "exception": false,
     "start_time": "2022-03-24T04:07:27.185981",
     "status": "completed"
    },
    "tags": []
   },
   "outputs": [
    {
     "data": {
      "image/png": "[encoded data removed]",
      "text/plain": [
       "<Figure size 1080x504 with 1 Axes>"
      ]
     },
     "metadata": {
      "needs_background": "light"
     },
     "output_type": "display_data"
    }
   ],
   "source": [
    "ax = get_loss_curve(experiment)\n",
    "plt.show()"
   ]
  },
  {
   "cell_type": "code",
   "execution_count": 26,
   "id": "fd8a0f60",
   "metadata": {
    "execution": {
     "iopub.execute_input": "2022-03-24T04:07:27.968499Z",
     "iopub.status.busy": "2022-03-24T04:07:27.968122Z",
     "iopub.status.idle": "2022-03-24T04:07:28.314718Z",
     "shell.execute_reply": "2022-03-24T04:07:28.315042Z"
    },
    "papermill": {
     "duration": 0.394496,
     "end_time": "2022-03-24T04:07:28.315170",
     "exception": false,
     "start_time": "2022-03-24T04:07:27.920674",
     "status": "completed"
    },
    "tags": []
   },
   "outputs": [
    {
     "data": {
      "text/plain": [
       "<AxesSubplot:title={'center':'Results'}>"
      ]
     },
     "execution_count": 26,
     "metadata": {},
     "output_type": "execute_result"
    },
    {
     "data": {
      "image/png": "[encoded data removed]",
      "text/plain": [
       "<Figure size 1080x504 with 1 Axes>"
      ]
     },
     "metadata": {
      "needs_background": "light"
     },
     "output_type": "display_data"
    }
   ],
   "source": [
    "get_results_table(experiment)"
   ]
  },
  {
   "cell_type": "code",
   "execution_count": 27,
   "id": "cf8dc689",
   "metadata": {
    "execution": {
     "iopub.execute_input": "2022-03-24T04:07:28.407169Z",
     "iopub.status.busy": "2022-03-24T04:07:28.406796Z",
     "iopub.status.idle": "2022-03-24T04:07:28.747604Z",
     "shell.execute_reply": "2022-03-24T04:07:28.747211Z"
    },
    "papermill": {
     "duration": 0.387751,
     "end_time": "2022-03-24T04:07:28.747679",
     "exception": false,
     "start_time": "2022-03-24T04:07:28.359928",
     "status": "completed"
    },
    "tags": []
   },
   "outputs": [
    {
     "data": {
      "text/plain": [
       "<AxesSubplot:title={'center':'Per Domain Validation Accuracy'}, xlabel='domain'>"
      ]
     },
     "execution_count": 27,
     "metadata": {},
     "output_type": "execute_result"
    },
    {
     "data": {
      "image/png": "[encoded data removed]",
      "text/plain": [
       "<Figure size 1080x504 with 1 Axes>"
      ]
     },
     "metadata": {
      "needs_background": "light"
     },
     "output_type": "display_data"
    }
   ],
   "source": [
    "get_domain_accuracies(experiment)"
   ]
  },
  {
   "cell_type": "code",
   "execution_count": 28,
   "id": "a74ae082",
   "metadata": {
    "execution": {
     "iopub.execute_input": "2022-03-24T04:07:28.842013Z",
     "iopub.status.busy": "2022-03-24T04:07:28.841631Z",
     "iopub.status.idle": "2022-03-24T04:07:28.868443Z",
     "shell.execute_reply": "2022-03-24T04:07:28.868075Z"
    },
    "papermill": {
     "duration": 0.075894,
     "end_time": "2022-03-24T04:07:28.868515",
     "exception": false,
     "start_time": "2022-03-24T04:07:28.792621",
     "status": "completed"
    },
    "tags": []
   },
   "outputs": [
    {
     "name": "stdout",
     "output_type": "stream",
     "text": [
      "Source Test Label Accuracy: 0.9686210010319918 Target Test Label Accuracy: 0.3171484375\n",
      "Source Val Label Accuracy: 0.9685520063357973 Target Val Label Accuracy: 0.3178255208333333\n"
     ]
    }
   ],
   "source": [
    "print(\"Source Test Label Accuracy:\", experiment[\"results\"][\"source_test_label_accuracy\"], \"Target Test Label Accuracy:\", experiment[\"results\"][\"target_test_label_accuracy\"])\n",
    "print(\"Source Val Label Accuracy:\", experiment[\"results\"][\"source_val_label_accuracy\"], \"Target Val Label Accuracy:\", experiment[\"results\"][\"target_val_label_accuracy\"])"
   ]
  },
  {
   "cell_type": "code",
   "execution_count": 29,
   "id": "dacca602",
   "metadata": {
    "execution": {
     "iopub.execute_input": "2022-03-24T04:07:28.961474Z",
     "iopub.status.busy": "2022-03-24T04:07:28.961105Z",
     "iopub.status.idle": "2022-03-24T04:07:28.988032Z",
     "shell.execute_reply": "2022-03-24T04:07:28.988339Z"
    },
    "papermill": {
     "duration": 0.075348,
     "end_time": "2022-03-24T04:07:28.988421",
     "exception": false,
     "start_time": "2022-03-24T04:07:28.913073",
     "status": "completed"
    },
    "tags": [
     "experiment_json"
    ]
   },
   "outputs": [
    {
     "data": {
      "text/plain": [
       "'{\"experiment_name\": \"tl_1v2:wisig-oracle.run1\", \"parameters\": {\"experiment_name\": \"tl_1v2:wisig-oracle.run1\", \"device\": \"cuda\", \"lr\": 0.0001, \"n_shot\": 3, \"n_query\": 2, \"train_k_factor\": 3, \"val_k_factor\": 2, \"test_k_factor\": 2, \"torch_default_dtype\": \"torch.float32\", \"n_epoch\": 50, \"patience\": 3, \"criteria_for_best\": \"target_accuracy\", \"x_net\": [{\"class\": \"nnReshape\", \"kargs\": {\"shape\": [-1, 1, 2, 256]}}, {\"class\": \"Conv2d\", \"kargs\": {\"in_channels\": 1, \"out_channels\": 256, \"kernel_size\": [1, 7], \"bias\": false, \"padding\": [0, 3]}}, {\"class\": \"ReLU\", \"kargs\": {\"inplace\": true}}, {\"class\": \"BatchNorm2d\", \"kargs\": {\"num_features\": 256}}, {\"class\": \"Conv2d\", \"kargs\": {\"in_channels\": 256, \"out_channels\": 80, \"kernel_size\": [2, 7], \"bias\": true, \"padding\": [0, 3]}}, {\"class\": \"ReLU\", \"kargs\": {\"inplace\": true}}, {\"class\": \"BatchNorm2d\", \"kargs\": {\"num_features\": 80}}, {\"class\": \"Flatten\", \"kargs\": {}}, {\"class\": \"Linear\", \"kargs\": {\"in_features\": 20480, \"out_features\": 256}}, {\"class\": \"ReLU\", \"kargs\": {\"inplace\": true}}, {\"class\": \"BatchNorm1d\", \"kargs\": {\"num_features\": 256}}, {\"class\": \"Linear\", \"kargs\": {\"in_features\": 256, \"out_features\": 256}}], \"NUM_LOGS_PER_EPOCH\": 10, \"BEST_MODEL_PATH\": \"./best_model.pth\", \"n_way\": 16, \"datasets\": [{\"labels\": [\"1-10\", \"1-12\", \"1-14\", \"1-16\", \"1-18\", \"1-19\", \"1-8\", \"10-11\", \"10-17\", \"10-4\", \"10-7\", \"11-1\", \"11-10\", \"11-19\", \"11-20\", \"11-4\", \"11-7\", \"12-19\", \"12-20\", \"12-7\", \"13-14\", \"13-18\", \"13-19\", \"13-20\", \"13-3\", \"13-7\", \"14-10\", \"14-11\", \"14-12\", \"14-13\", \"14-14\", \"14-19\", \"14-20\", \"14-7\", \"14-8\", \"14-9\", \"15-1\", \"15-19\", \"15-6\", \"16-1\", \"16-16\", \"16-19\", \"16-20\", \"17-10\", \"17-11\", \"18-1\", \"18-10\", \"18-11\", \"18-12\", \"18-13\", \"18-14\", \"18-15\", \"18-16\", \"18-17\", \"18-19\", \"18-2\", \"18-20\", \"18-4\", \"18-5\", \"18-7\", \"18-8\", \"18-9\", \"19-1\", \"19-10\", \"19-11\", \"19-12\", \"19-13\", \"19-14\", \"19-15\", \"19-19\", \"19-2\", \"19-20\", \"19-3\", \"19-4\", \"19-6\", \"19-7\", \"19-8\", \"19-9\", \"2-1\", \"2-13\", \"2-15\", \"2-3\", \"2-4\", \"2-5\", \"2-6\", \"2-7\", \"2-8\", \"20-1\", \"20-12\", \"20-14\", \"20-15\", \"20-16\", \"20-18\", \"20-19\", \"20-20\", \"20-3\", \"20-4\", \"20-5\", \"20-7\", \"20-8\", \"3-1\", \"3-13\", \"3-18\", \"3-2\", \"3-8\", \"4-1\", \"4-10\", \"4-11\", \"5-1\", \"5-5\", \"6-1\", \"6-15\", \"6-6\", \"7-10\", \"7-11\", \"7-12\", \"7-13\", \"7-14\", \"7-7\", \"7-8\", \"7-9\", \"8-1\", \"8-13\", \"8-14\", \"8-18\", \"8-20\", \"8-3\", \"8-8\", \"9-1\", \"9-7\"], \"domains\": [1, 2, 3, 4], \"num_examples_per_domain_per_label\": -1, \"pickle_path\": \"/root/csc500-main/datasets/wisig.node3-19.stratified_ds.2022A.pkl\", \"source_or_target_dataset\": \"source\", \"x_transforms\": [], \"episode_transforms\": [], \"domain_prefix\": \"Wisig_\"}, {\"labels\": [\"3123D52\", \"3123D65\", \"3123D79\", \"3123D80\", \"3123D54\", \"3123D70\", \"3123D7B\", \"3123D89\", \"3123D58\", \"3123D76\", \"3123D7D\", \"3123EFE\", \"3123D64\", \"3123D78\", \"3123D7E\", \"3124E4A\"], \"domains\": [32, 38, 8, 44, 14, 50, 20, 26], \"num_examples_per_domain_per_label\": 10000, \"pickle_path\": \"/root/csc500-main/datasets/oracle.Run1_10kExamples_stratified_ds.2022A.pkl\", \"source_or_target_dataset\": \"target\", \"x_transforms\": [], \"episode_transforms\": [], \"domain_prefix\": \"ORACLE.run1\"}], \"dataset_seed\": 7, \"seed\": 7, \"x_shape\": [2, 256], \"domains_source\": [\"Wisig_1\", \"Wisig_2\", \"Wisig_3\", \"Wisig_4\"], \"domains_target\": [\"ORACLE.run132\", \"ORACLE.run138\", \"ORACLE.run18\", \"ORACLE.run144\", \"ORACLE.run114\", \"ORACLE.run150\", \"ORACLE.run120\", \"ORACLE.run126\"]}, \"results\": {\"source_test_label_accuracy\": 0.9686210010319918, \"source_test_label_loss\": 0.14674504101276398, \"target_test_label_accuracy\": 0.3171484375, \"target_test_label_loss\": 2.5371358394622803, \"source_val_label_accuracy\": 0.9685520063357973, \"source_val_label_loss\": 0.14567171037197113, \"target_val_label_accuracy\": 0.3178255208333333, \"target_val_label_loss\": 2.53794527053833, \"total_epochs_trained\": 6, \"total_experiment_time_secs\": 1377.7038583755493, \"confusion\": {\"Wisig_4\": {\"71\": {\"71\": 103, \"84\": 1}, \"17\": {\"17\": 20}, \"105\": {\"105\": 87, \"88\": 3, \"14\": 1, \"109\": 1, \"4\": 1, \"111\": 1, \"40\": 2, \"70\": 1, \"113\": 1, \"60\": 1, \"87\": 1}, \"92\": {\"92\": 27, \"111\": 1}, \"100\": {\"100\": 20}, \"6\": {\"6\": 24}, \"36\": {\"36\": 124, \"24\": 2, \"70\": 1, \"88\": 1}, \"35\": {\"35\": 12}, \"63\": {\"63\": 16}, \"104\": {\"104\": 16}, \"114\": {\"114\": 124, \"94\": 1, \"111\": 1, \"24\": 1, \"105\": 1}, \"68\": {\"68\": 16}, \"109\": {\"109\": 114, \"84\": 2}, \"27\": {\"27\": 94, \"16\": 1, \"78\": 1, \"88\": 2, \"87\": 1, \"70\": 1}, \"79\": {\"79\": 16}, \"0\": {\"0\": 98, \"70\": 2, \"118\": 1, \"84\": 1, \"87\": 1, \"107\": 1, \"43\": 1, \"14\": 1}, \"28\": {\"28\": 19, \"16\": 1}, \"4\": {\"4\": 101, \"21\": 1, \"107\": 1, \"85\": 1}, \"106\": {\"106\": 98, \"21\": 1, \"39\": 1, \"69\": 1, \"88\": 1}, \"40\": {\"40\": 131, \"16\": 1, \"69\": 1, \"18\": 1}, \"127\": {\"127\": 106, \"55\": 1, \"12\": 1}, \"57\": {\"57\": 14, \"51\": 1, \"84\": 1}, \"60\": {\"60\": 32}, \"69\": {\"69\": 120, \"84\": 1, \"27\": 1, \"111\": 1, \"3\": 1}, \"84\": {\"84\": 129, \"78\": 1, \"121\": 1, \"3\": 1}, \"24\": {\"24\": 112, \"21\": 1, \"40\": 1, \"10\": 2, \"113\": 1, \"84\": 2, \"16\": 1}, \"94\": {\"84\": 1, \"94\": 83, \"36\": 2, \"111\": 1, \"26\": 1}, \"7\": {\"7\": 114, \"84\": 1, \"111\": 1, \"88\": 1, \"10\": 1, \"85\": 1, \"27\": 1}, \"96\": {\"96\": 16, \"91\": 1, \"54\": 1, \"81\": 1, \"4\": 1}, \"116\": {\"116\": 28}, \"47\": {\"47\": 9, \"40\": 1, \"55\": 1, \"70\": 1}, \"119\": {\"119\": 15, \"68\": 1}, \"74\": {\"74\": 14, \"113\": 1, \"121\": 1}, \"93\": {\"93\": 151, \"0\": 1}, \"2\": {\"2\": 27, \"129\": 1}, \"37\": {\"37\": 15, \"51\": 1}, \"15\": {\"15\": 123, \"30\": 2, \"26\": 1, \"106\": 1, \"70\": 1}, \"102\": {\"102\": 136}, \"87\": {\"87\": 119, \"70\": 1, \"84\": 1, \"26\": 1}, \"107\": {\"107\": 142, \"98\": 1, \"88\": 1}, \"61\": {\"61\": 14, \"91\": 1, \"21\": 1}, \"78\": {\"78\": 33, \"70\": 2, \"27\": 1}, \"9\": {\"9\": 28}, \"32\": {\"32\": 25, \"55\": 2, \"89\": 1}, \"14\": {\"14\": 111, \"66\": 1}, \"62\": {\"62\": 55, \"84\": 1, \"88\": 1, \"27\": 1, \"106\": 1, \"108\": 1}, \"1\": {\"1\": 97, \"69\": 1, \"114\": 2, \"24\": 1, \"70\": 1}, \"23\": {\"23\": 9, \"15\": 2, \"48\": 1, \"110\": 1, \"35\": 1, \"51\": 1, \"12\": 1}, \"95\": {\"95\": 31, \"1\": 1}, \"56\": {\"56\": 12}, \"91\": {\"91\": 23, \"59\": 1}, \"34\": {\"34\": 25, \"120\": 2, \"85\": 2, \"54\": 2, \"72\": 1}, \"25\": {\"25\": 15, \"54\": 1}, \"33\": {\"33\": 123, \"121\": 1}, \"16\": {\"16\": 120, \"69\": 1, \"33\": 2, \"87\": 1}, \"26\": {\"26\": 124, \"21\": 1, \"18\": 1}, \"5\": {\"5\": 128, \"26\": 1, \"3\": 1, \"15\": 1, \"81\": 1, \"43\": 1, \"29\": 1, \"108\": 1, \"93\": 1}, \"123\": {\"123\": 15, \"26\": 1}, \"8\": {\"8\": 118}, \"83\": {\"83\": 25, \"111\": 1, \"86\": 1, \"78\": 1}, \"125\": {\"125\": 134}, \"51\": {\"51\": 12, \"47\": 1, \"88\": 1, \"75\": 1, \"78\": 1}, \"22\": {\"22\": 16}, \"54\": {\"54\": 16}, \"66\": {\"66\": 16}, \"59\": {\"59\": 10, \"6\": 1, \"21\": 1}, \"111\": {\"111\": 126, \"5\": 1, \"11\": 1}, \"77\": {\"77\": 12}, \"103\": {\"103\": 16}, \"20\": {\"20\": 14, \"61\": 1, \"83\": 1}, \"124\": {\"124\": 117, \"98\": 2, \"0\": 1}, \"99\": {\"99\": 39, \"69\": 1}, \"120\": {\"84\": 1, \"120\": 18, \"21\": 1}, \"76\": {\"76\": 15, \"111\": 1}, \"110\": {\"110\": 111, \"26\": 1, \"16\": 1, \"68\": 1, \"40\": 2}, \"29\": {\"29\": 31, \"24\": 1}, \"118\": {\"118\": 104, \"107\": 1, \"71\": 1, \"70\": 1, \"11\": 1, \"122\": 1, \"21\": 1, \"78\": 1, \"88\": 1}, \"58\": {\"58\": 13, \"77\": 1, \"88\": 2}, \"13\": {\"13\": 15, \"85\": 1}, \"89\": {\"89\": 32}, \"31\": {\"31\": 15, \"95\": 1}, \"64\": {\"64\": 15, \"85\": 1}, \"65\": {\"65\": 12}, \"101\": {\"101\": 130, \"19\": 1, \"127\": 1}, \"126\": {\"126\": 116, \"111\": 2}, \"108\": {\"108\": 77, \"23\": 1, \"70\": 4, \"16\": 1, \"98\": 1, \"105\": 1, \"88\": 4, \"44\": 1, \"18\": 1, \"107\": 1}, \"45\": {\"45\": 14, \"120\": 2}, \"21\": {\"21\": 33, \"84\": 1, \"88\": 1, \"109\": 2, \"4\": 1, \"78\": 2}, \"30\": {\"30\": 74, \"21\": 1, \"88\": 1}, \"82\": {\"82\": 30, \"105\": 1, \"98\": 1}, \"85\": {\"85\": 28}, \"88\": {\"88\": 126, \"70\": 1, \"118\": 1, \"108\": 1, \"26\": 1, \"105\": 1, \"27\": 1}, \"41\": {\"41\": 15, \"88\": 1}, \"128\": {\"128\": 22, \"52\": 1, \"23\": 1}, \"39\": {\"39\": 94, \"111\": 1, \"84\": 1, \"43\": 1, \"122\": 1, \"72\": 1, \"109\": 1}, \"18\": {\"18\": 113, \"69\": 1, \"21\": 1, \"5\": 1, \"111\": 1, \"16\": 1, \"84\": 1, \"3\": 1}, \"113\": {\"113\": 122, \"114\": 1, \"84\": 1, \"0\": 1, \"55\": 1, \"68\": 1, \"3\": 1}, \"11\": {\"11\": 134, \"33\": 1, \"84\": 2, \"1\": 1}, \"43\": {\"43\": 115, \"26\": 1, \"87\": 1, \"69\": 1, \"105\": 1, \"109\": 1}, \"12\": {\"12\": 97, \"111\": 1, \"110\": 1, \"84\": 1}, \"122\": {\"122\": 80, \"105\": 1, \"24\": 1, \"109\": 1, \"11\": 1}, \"52\": {\"52\": 20}, \"44\": {\"44\": 64}, \"90\": {\"90\": 133, \"98\": 1}, \"112\": {\"112\": 16}, \"86\": {\"86\": 28}, \"3\": {\"3\": 114, \"78\": 1, \"40\": 1}, \"38\": {\"38\": 16}, \"121\": {\"121\": 30, \"44\": 2}, \"46\": {\"46\": 17, \"121\": 1, \"73\": 1, \"50\": 1}, \"70\": {\"70\": 117, \"88\": 1, \"27\": 1, \"10\": 1, \"105\": 1, \"24\": 2, \"90\": 1}, \"67\": {\"67\": 16}, \"53\": {\"53\": 16}, \"49\": {\"49\": 32}, \"42\": {\"42\": 28}, \"10\": {\"10\": 113, \"24\": 1, \"111\": 1, \"108\": 1, \"12\": 1, \"127\": 1}, \"50\": {\"50\": 16}, \"73\": {\"73\": 23, \"125\": 1}, \"115\": {\"115\": 11, \"55\": 1, \"4\": 3, \"29\": 1}, \"80\": {\"80\": 15, \"51\": 1}, \"19\": {\"19\": 24, \"129\": 1, \"26\": 1, \"5\": 1, \"27\": 1}, \"55\": {\"55\": 16}, \"72\": {\"72\": 30, \"27\": 1, \"98\": 1}, \"117\": {\"117\": 115, \"89\": 1}, \"81\": {\"81\": 33, \"72\": 1, \"70\": 1, \"78\": 1}, \"75\": {\"75\": 15, \"34\": 1}, \"98\": {\"98\": 116, \"84\": 1, \"111\": 1, \"25\": 1, \"88\": 1}, \"48\": {\"48\": 16}, \"129\": {\"129\": 27, \"14\": 1}, \"97\": {\"97\": 17, \"24\": 2, \"16\": 1}}, \"Wisig_1\": {\"105\": {\"105\": 84}, \"100\": {\"100\": 16}, \"112\": {\"112\": 15, \"75\": 1}, \"123\": {\"123\": 16}, \"13\": {\"13\": 16}, \"81\": {\"81\": 28}, \"124\": {\"124\": 119, \"125\": 1}, \"122\": {\"122\": 88}, \"111\": {\"111\": 118, \"109\": 1, \"70\": 1}, \"93\": {\"93\": 154, \"21\": 1, \"43\": 3}, \"106\": {\"106\": 114, \"88\": 2, \"107\": 1, \"108\": 1}, \"113\": {\"113\": 122, \"26\": 1, \"109\": 1}, \"95\": {\"95\": 35, \"42\": 1}, \"87\": {\"87\": 105, \"16\": 1, \"43\": 1, \"18\": 1}, \"86\": {\"86\": 35, \"24\": 1}, \"67\": {\"67\": 16}, \"85\": {\"85\": 32}, \"82\": {\"82\": 36}, \"115\": {\"115\": 12}, \"7\": {\"7\": 142}, \"44\": {\"44\": 76}, \"65\": {\"65\": 11, \"74\": 1}, \"129\": {\"129\": 26, \"94\": 1, \"86\": 1}, \"42\": {\"42\": 26, \"91\": 1, \"124\": 1}, \"28\": {\"88\": 2, \"28\": 18}, \"0\": {\"0\": 82, \"41\": 1, \"24\": 1}, \"10\": {\"10\": 120}, \"76\": {\"76\": 15, \"105\": 1}, \"88\": {\"88\": 126}, \"29\": {\"29\": 28}, \"16\": {\"16\": 106, \"107\": 1, \"111\": 1}, \"41\": {\"41\": 16}, \"27\": {\"27\": 92}, \"33\": {\"33\": 118, \"121\": 1, \"111\": 1}, \"75\": {\"75\": 16}, \"48\": {\"48\": 12}, \"56\": {\"56\": 11, \"32\": 1}, \"9\": {\"9\": 31, \"26\": 1}, \"1\": {\"1\": 125, \"109\": 1}, \"39\": {\"39\": 103, \"108\": 1}, \"50\": {\"33\": 1, \"50\": 12, \"4\": 1, \"65\": 1, \"111\": 1}, \"99\": {\"99\": 23, \"108\": 1}, \"90\": {\"90\": 122}, \"45\": {\"104\": 1, \"45\": 9, \"112\": 1, \"39\": 1}, \"5\": {\"5\": 88}, \"128\": {\"128\": 22, \"25\": 1, \"19\": 1}, \"2\": {\"2\": 30, \"5\": 1, \"100\": 1}, \"53\": {\"53\": 20}, \"104\": {\"104\": 16}, \"32\": {\"32\": 32}, \"92\": {\"92\": 28}, \"78\": {\"5\": 1, \"78\": 14, \"16\": 1}, \"19\": {\"19\": 28}, \"120\": {\"120\": 19, \"58\": 1}, \"43\": {\"43\": 124, \"107\": 1, \"70\": 2, \"109\": 1}, \"74\": {\"74\": 16}, \"11\": {\"11\": 129, \"105\": 1}, \"26\": {\"26\": 129, \"70\": 2, \"69\": 1}, \"125\": {\"125\": 132}, \"64\": {\"64\": 15, \"66\": 1}, \"127\": {\"127\": 105, \"15\": 1, \"69\": 1, \"94\": 1}, \"83\": {\"83\": 27, \"12\": 1}, \"118\": {\"118\": 83, \"111\": 1}, \"103\": {\"103\": 15, \"104\": 1}, \"55\": {\"55\": 12}, \"110\": {\"110\": 126}, \"30\": {\"30\": 51, \"105\": 1}, \"51\": {\"51\": 16}, \"6\": {\"6\": 28, \"91\": 2, \"59\": 2}, \"96\": {\"96\": 19, \"30\": 1}, \"114\": {\"114\": 142, \"107\": 1, \"21\": 1}, \"69\": {\"69\": 107, \"108\": 1}, \"60\": {\"60\": 14, \"96\": 1, \"17\": 1}, \"94\": {\"94\": 91, \"109\": 1}, \"79\": {\"79\": 12}, \"126\": {\"126\": 132, \"12\": 1, \"21\": 1}, \"68\": {\"68\": 16}, \"72\": {\"72\": 32}, \"63\": {\"63\": 16}, \"22\": {\"22\": 15, \"106\": 1}, \"121\": {\"121\": 31, \"88\": 1}, \"71\": {\"71\": 101, \"81\": 1, \"70\": 1, \"24\": 1, \"43\": 1, \"9\": 1, \"1\": 1, \"26\": 1}, \"54\": {\"54\": 15, \"46\": 1}, \"102\": {\"102\": 119, \"109\": 1}, \"73\": {\"73\": 17, \"111\": 1, \"127\": 1, \"104\": 1}, \"38\": {\"38\": 16}, \"4\": {\"4\": 95, \"102\": 2, \"16\": 1, \"107\": 1, \"40\": 1}, \"52\": {\"52\": 20}, \"70\": {\"70\": 127, \"16\": 1}, \"91\": {\"91\": 25, \"42\": 1, \"58\": 2}, \"77\": {\"77\": 15, \"61\": 1}, \"20\": {\"20\": 16}, \"59\": {\"59\": 12}, \"40\": {\"40\": 133, \"105\": 1, \"118\": 1, \"70\": 1}, \"98\": {\"98\": 108}, \"46\": {\"46\": 8, \"111\": 1, \"59\": 2, \"53\": 1}, \"34\": {\"34\": 31, \"53\": 1}, \"24\": {\"24\": 88, \"16\": 1, \"97\": 1, \"3\": 1, \"108\": 1}, \"62\": {\"62\": 118, \"38\": 1, \"109\": 1}, \"14\": {\"14\": 96}, \"12\": {\"12\": 98, \"106\": 2, \"19\": 1, \"70\": 2, \"109\": 1}, \"84\": {\"84\": 131, \"107\": 1, \"26\": 1, \"70\": 1}, \"37\": {\"37\": 16}, \"97\": {\"27\": 2, \"97\": 18}, \"57\": {\"57\": 11, \"5\": 1}, \"49\": {\"49\": 20}, \"17\": {\"17\": 14, \"104\": 1, \"49\": 1}, \"109\": {\"109\": 104, \"70\": 2}, \"80\": {\"80\": 16}, \"66\": {\"66\": 16}, \"101\": {\"101\": 123, \"70\": 1}, \"89\": {\"89\": 34, \"46\": 1, \"42\": 1}, \"31\": {\"53\": 1, \"31\": 15}, \"21\": {\"21\": 38, \"95\": 1, \"69\": 1}, \"23\": {\"23\": 18, \"70\": 1, \"110\": 2, \"44\": 3}, \"25\": {\"25\": 14, \"42\": 1, \"30\": 1}, \"107\": {\"107\": 110, \"111\": 1, \"94\": 1}, \"3\": {\"3\": 86, \"111\": 2}, \"61\": {\"61\": 11, \"65\": 1}, \"117\": {\"117\": 125, \"16\": 1}, \"119\": {\"119\": 15, \"35\": 1}, \"58\": {\"58\": 12}, \"47\": {\"47\": 12}, \"116\": {\"116\": 32}, \"18\": {\"18\": 122, \"113\": 1, \"109\": 1}, \"36\": {\"36\": 119, \"70\": 2, \"71\": 1}, \"108\": {\"108\": 110, \"36\": 1, \"24\": 1}, \"15\": {\"15\": 103, \"87\": 1}, \"8\": {\"8\": 114}, \"35\": {\"35\": 12}}, \"Wisig_2\": {\"3\": {\"3\": 127, \"26\": 2, \"61\": 1, \"39\": 1, \"0\": 1}, \"127\": {\"127\": 119, \"21\": 1}, \"58\": {\"58\": 20}, \"114\": {\"114\": 110, \"41\": 1, \"69\": 1}, \"111\": {\"111\": 142, \"15\": 1, \"40\": 1}, \"105\": {\"105\": 131, \"24\": 1}, \"118\": {\"21\": 1, \"118\": 65, \"24\": 1, \"40\": 1}, \"23\": {\"23\": 39, \"60\": 1, \"87\": 1, \"122\": 2, \"43\": 1}, \"21\": {\"21\": 43, \"5\": 1, \"85\": 1, \"24\": 1, \"78\": 1, \"71\": 1}, \"20\": {\"20\": 15, \"21\": 1}, \"75\": {\"75\": 15, \"115\": 1}, \"86\": {\"86\": 32}, \"60\": {\"60\": 26, \"88\": 1, \"19\": 1}, \"69\": {\"69\": 133, \"26\": 1, \"43\": 1, \"70\": 2, \"39\": 1, \"62\": 1, \"122\": 1}, \"99\": {\"99\": 31, \"68\": 1}, \"14\": {\"14\": 37, \"45\": 1, \"111\": 2, \"72\": 2, \"107\": 2, \"78\": 1, \"71\": 1, \"40\": 1, \"21\": 1}, \"25\": {\"25\": 15, \"18\": 1}, \"52\": {\"52\": 19, \"49\": 1}, \"47\": {\"47\": 10, \"29\": 1, \"78\": 1}, \"48\": {\"48\": 19, \"81\": 1}, \"27\": {\"27\": 58, \"33\": 1, \"87\": 1, \"24\": 1, \"84\": 2, \"114\": 1, \"98\": 1, \"21\": 1, \"36\": 1, \"62\": 1}, \"78\": {\"78\": 46, \"87\": 1, \"70\": 1}, \"8\": {\"8\": 119, \"19\": 1, \"108\": 1, \"30\": 1}, \"90\": {\"90\": 153, \"41\": 1, \"116\": 1, \"19\": 1, \"61\": 2, \"44\": 1, \"33\": 1}, \"103\": {\"103\": 16}, \"120\": {\"120\": 20}, \"96\": {\"96\": 19, \"93\": 1}, \"30\": {\"30\": 100, \"69\": 1, \"59\": 1, \"0\": 1, \"27\": 1}, \"33\": {\"33\": 146}, \"35\": {\"35\": 12}, \"108\": {\"108\": 116}, \"112\": {\"112\": 15, \"5\": 1}, \"40\": {\"40\": 134, \"21\": 1, \"24\": 1, \"94\": 1, \"70\": 1, \"26\": 1, \"111\": 1}, \"102\": {\"102\": 113, \"69\": 1, \"24\": 2}, \"56\": {\"56\": 12}, \"93\": {\"93\": 134, \"90\": 1, \"39\": 1}, \"68\": {\"68\": 15, \"107\": 1}, \"70\": {\"70\": 120, \"111\": 1, \"15\": 1, \"78\": 1, \"26\": 1}, \"7\": {\"7\": 123, \"118\": 1}, \"87\": {\"70\": 2, \"87\": 103, \"95\": 1, \"43\": 1, \"26\": 1, \"107\": 1, \"69\": 1, \"40\": 1, \"16\": 1}, \"54\": {\"68\": 1, \"54\": 19}, \"71\": {\"71\": 93, \"3\": 1, \"127\": 1, \"40\": 1, \"36\": 1, \"39\": 1, \"21\": 1, \"109\": 1}, \"80\": {\"80\": 16}, \"18\": {\"18\": 121, \"26\": 1}, \"101\": {\"101\": 121, \"111\": 1}, \"92\": {\"92\": 27, \"71\": 1}, \"32\": {\"32\": 35, \"127\": 1}, \"128\": {\"51\": 1, \"128\": 23}, \"6\": {\"6\": 32}, \"51\": {\"51\": 19, \"9\": 1}, \"85\": {\"85\": 29, \"82\": 1, \"45\": 2}, \"46\": {\"46\": 16}, \"22\": {\"22\": 20}, \"1\": {\"1\": 117, \"78\": 1, \"26\": 1, \"16\": 1, \"87\": 1, \"69\": 1}, \"37\": {\"37\": 16}, \"44\": {\"44\": 97, \"109\": 1, \"0\": 1, \"40\": 1}, \"24\": {\"24\": 105, \"62\": 1, \"39\": 1, \"70\": 1, \"21\": 1, \"109\": 2, \"122\": 1}, \"9\": {\"9\": 32}, \"116\": {\"116\": 27, \"109\": 1}, \"64\": {\"64\": 16}, \"129\": {\"129\": 30, \"5\": 2}, \"42\": {\"47\": 2, \"42\": 23, \"69\": 1, \"41\": 1, \"107\": 1}, \"117\": {\"117\": 119, \"26\": 1}, \"88\": {\"88\": 119, \"109\": 1, \"111\": 2, \"70\": 2}, \"31\": {\"31\": 20}, \"113\": {\"113\": 71, \"44\": 1}, \"38\": {\"38\": 16}, \"83\": {\"83\": 37, \"31\": 1, \"41\": 1, \"27\": 1}, \"49\": {\"49\": 22, \"71\": 1, \"128\": 1}, \"97\": {\"97\": 18, \"15\": 1, \"31\": 1}, \"76\": {\"76\": 16}, \"29\": {\"29\": 32}, \"61\": {\"61\": 19, \"23\": 1}, \"125\": {\"125\": 147, \"121\": 1}, \"126\": {\"126\": 118, \"118\": 1, \"26\": 1}, \"55\": {\"55\": 16}, \"0\": {\"0\": 101, \"27\": 1, \"127\": 2, \"8\": 1, \"118\": 1, \"23\": 1, \"40\": 1}, \"15\": {\"15\": 113, \"24\": 1, \"40\": 1, \"0\": 1, \"106\": 4}, \"26\": {\"26\": 134, \"24\": 1, \"40\": 1, \"0\": 1, \"109\": 1}, \"63\": {\"63\": 20}, \"57\": {\"57\": 18, \"120\": 2}, \"39\": {\"39\": 104, \"27\": 1, \"109\": 6, \"84\": 1}, \"62\": {\"62\": 135, \"24\": 2, \"5\": 1, \"40\": 1, \"111\": 1}, \"82\": {\"82\": 33, \"55\": 1, \"87\": 1, \"26\": 1}, \"11\": {\"11\": 78, \"118\": 1, \"69\": 1}, \"4\": {\"4\": 87, \"53\": 1}, \"41\": {\"41\": 20}, \"72\": {\"72\": 27, \"14\": 1}, \"16\": {\"16\": 122, \"24\": 1, \"39\": 1}, \"81\": {\"81\": 23, \"92\": 1}, \"67\": {\"67\": 12, \"22\": 1, \"102\": 2, \"55\": 1}, \"123\": {\"123\": 16}, \"66\": {\"66\": 20}, \"36\": {\"36\": 116, \"14\": 1, \"70\": 1, \"113\": 1, \"111\": 1, \"94\": 1, \"112\": 1, \"26\": 1, \"21\": 1, \"81\": 1, \"27\": 2, \"69\": 1}, \"115\": {\"115\": 11, \"21\": 1}, \"77\": {\"77\": 16}, \"119\": {\"119\": 20}, \"65\": {\"65\": 19, \"129\": 1}, \"34\": {\"34\": 32}, \"107\": {\"107\": 61, \"71\": 1, \"70\": 1, \"61\": 1}, \"13\": {\"13\": 16}, \"110\": {\"25\": 1, \"110\": 33, \"3\": 1, \"122\": 2, \"15\": 1, \"16\": 2}, \"106\": {\"106\": 114, \"88\": 1, \"98\": 1, \"54\": 1, \"39\": 1}, \"89\": {\"89\": 36}, \"94\": {\"27\": 3, \"94\": 50, \"40\": 1, \"14\": 1, \"21\": 2, \"16\": 1, \"68\": 1, \"71\": 1, \"126\": 1, \"88\": 1, \"36\": 2}, \"98\": {\"98\": 109, \"121\": 1, \"43\": 1, \"21\": 1}, \"91\": {\"91\": 25, \"77\": 1, \"41\": 1, \"17\": 1}, \"84\": {\"84\": 91, \"88\": 1}, \"73\": {\"104\": 1, \"73\": 27}, \"104\": {\"104\": 17, \"20\": 1, \"41\": 1, \"122\": 1}, \"59\": {\"59\": 15, \"68\": 1}, \"74\": {\"74\": 16}, \"28\": {\"28\": 19, \"68\": 1}, \"95\": {\"95\": 35, \"40\": 1}, \"2\": {\"2\": 31, \"115\": 1}, \"5\": {\"5\": 109, \"10\": 1, \"88\": 1, \"69\": 1}, \"50\": {\"50\": 15, \"69\": 1}, \"109\": {\"109\": 88, \"70\": 3, \"27\": 1, \"23\": 1, \"88\": 1, \"24\": 1, \"39\": 4, \"71\": 1}, \"10\": {\"10\": 57, \"100\": 1, \"26\": 1, \"105\": 1}, \"45\": {\"45\": 13, \"124\": 1, \"87\": 1, \"21\": 1}, \"121\": {\"121\": 36}, \"124\": {\"124\": 110}, \"53\": {\"55\": 1, \"53\": 14, \"67\": 1}, \"79\": {\"79\": 16}, \"43\": {\"43\": 108, \"26\": 1, \"87\": 1, \"70\": 1, \"122\": 1, \"3\": 1, \"24\": 1}, \"122\": {\"122\": 134, \"118\": 1, \"109\": 1, \"88\": 1, \"114\": 1}, \"100\": {\"100\": 15, \"83\": 1}, \"19\": {\"19\": 28}, \"12\": {\"12\": 85, \"70\": 1, \"26\": 1, \"69\": 1}, \"17\": {\"17\": 14, \"68\": 1, \"24\": 1}}, \"Wisig_3\": {\"38\": {\"38\": 16}, \"88\": {\"88\": 110, \"70\": 1, \"5\": 1}, \"104\": {\"104\": 15, \"57\": 1}, \"11\": {\"11\": 138, \"16\": 1, \"70\": 1}, \"103\": {\"103\": 14, \"55\": 1, \"92\": 1}, \"124\": {\"124\": 115, \"90\": 1}, \"3\": {\"3\": 112, \"19\": 1, \"73\": 1, \"27\": 1, \"11\": 1}, \"74\": {\"74\": 14, \"25\": 1, \"57\": 1}, \"126\": {\"126\": 119, \"40\": 1, \"39\": 1, \"111\": 1}, \"123\": {\"123\": 16}, \"51\": {\"51\": 14, \"101\": 1, \"72\": 1}, \"14\": {\"14\": 80}, \"16\": {\"16\": 114, \"110\": 1, \"26\": 1}, \"22\": {\"22\": 16}, \"109\": {\"109\": 122}, \"27\": {\"27\": 91, \"36\": 2, \"24\": 2, \"111\": 1}, \"75\": {\"75\": 16}, \"66\": {\"66\": 16}, \"48\": {\"48\": 12, \"86\": 2, \"116\": 2}, \"6\": {\"6\": 31, \"91\": 1}, \"10\": {\"10\": 110, \"16\": 1, \"70\": 1}, \"99\": {\"99\": 35, \"54\": 1}, \"50\": {\"50\": 16}, \"54\": {\"54\": 16}, \"55\": {\"55\": 16}, \"53\": {\"53\": 20}, \"72\": {\"72\": 28}, \"64\": {\"64\": 20}, \"115\": {\"23\": 1, \"115\": 15}, \"23\": {\"23\": 30, \"110\": 1, \"122\": 1}, \"32\": {\"32\": 28, \"57\": 2, \"128\": 1, \"19\": 1}, \"15\": {\"15\": 101, \"70\": 1, \"84\": 1, \"5\": 1}, \"43\": {\"43\": 52, \"21\": 2, \"113\": 1, \"26\": 1}, \"114\": {\"114\": 121, \"128\": 1, \"40\": 1, \"98\": 1}, \"121\": {\"121\": 32}, \"79\": {\"79\": 12}, \"81\": {\"81\": 32}, \"8\": {\"8\": 127, \"15\": 1}, \"13\": {\"13\": 12, \"115\": 1, \"2\": 1, \"116\": 1, \"23\": 1}, \"90\": {\"90\": 156}, \"41\": {\"13\": 1, \"41\": 14, \"66\": 1}, \"107\": {\"107\": 135, \"34\": 1}, \"57\": {\"57\": 18, \"104\": 1, \"66\": 1}, \"33\": {\"33\": 119, \"92\": 1}, \"35\": {\"35\": 12}, \"29\": {\"29\": 32}, \"70\": {\"70\": 68, \"26\": 1, \"73\": 1, \"84\": 1, \"88\": 1}, \"42\": {\"69\": 1, \"42\": 26, \"84\": 1}, \"93\": {\"93\": 126}, \"86\": {\"86\": 28}, \"28\": {\"28\": 16}, \"1\": {\"1\": 105, \"26\": 1, \"101\": 1, \"111\": 1}, \"125\": {\"125\": 122, \"30\": 1, \"111\": 1}, \"69\": {\"69\": 81, \"21\": 1, \"84\": 1, \"70\": 1}, \"97\": {\"97\": 18, \"106\": 1, \"69\": 1}, \"117\": {\"117\": 111, \"125\": 1}, \"68\": {\"68\": 16}, \"30\": {\"30\": 81, \"88\": 1, \"21\": 1, \"70\": 1}, \"111\": {\"111\": 132}, \"47\": {\"47\": 12}, \"102\": {\"102\": 124}, \"65\": {\"65\": 12}, \"113\": {\"113\": 117, \"26\": 1, \"69\": 1, \"126\": 1}, \"36\": {\"36\": 111, \"70\": 1, \"27\": 2}, \"119\": {\"119\": 16}, \"46\": {\"46\": 16}, \"49\": {\"49\": 21, \"105\": 1, \"112\": 1, \"68\": 1}, \"0\": {\"0\": 115, \"113\": 1}, \"58\": {\"58\": 15, \"13\": 1}, \"63\": {\"63\": 16}, \"94\": {\"94\": 84}, \"17\": {\"17\": 10, \"94\": 1, \"39\": 1, \"5\": 1, \"86\": 3}, \"9\": {\"9\": 31, \"85\": 1}, \"87\": {\"87\": 120}, \"59\": {\"59\": 11, \"51\": 1}, \"105\": {\"105\": 120}, \"80\": {\"80\": 15, \"103\": 1}, \"120\": {\"120\": 17, \"13\": 1, \"57\": 1, \"103\": 1}, \"18\": {\"18\": 129, \"128\": 1, \"84\": 1, \"90\": 1}, \"78\": {\"78\": 12, \"21\": 2, \"10\": 1, \"111\": 1}, \"25\": {\"25\": 16}, \"19\": {\"19\": 31, \"77\": 1}, \"122\": {\"122\": 56, \"17\": 1, \"60\": 1, \"18\": 1, \"16\": 1}, \"39\": {\"39\": 107, \"126\": 1}, \"76\": {\"76\": 16}, \"89\": {\"89\": 28}, \"129\": {\"129\": 32}, \"26\": {\"26\": 99, \"70\": 1}, \"85\": {\"85\": 36}, \"71\": {\"71\": 66, \"5\": 1, \"18\": 1}, \"77\": {\"77\": 16}, \"128\": {\"128\": 31, \"19\": 1}, \"2\": {\"2\": 27, \"117\": 1}, \"56\": {\"56\": 12}, \"24\": {\"24\": 48}, \"101\": {\"26\": 2, \"101\": 48, \"9\": 1, \"127\": 1}, \"52\": {\"52\": 16}, \"84\": {\"84\": 107, \"70\": 1}, \"7\": {\"7\": 109, \"39\": 1, \"5\": 1, \"69\": 1}, \"82\": {\"82\": 27, \"100\": 1}, \"60\": {\"60\": 28}, \"45\": {\"40\": 1, \"45\": 12, \"18\": 1, \"115\": 1, \"84\": 1}, \"40\": {\"40\": 123, \"105\": 1}, \"20\": {\"20\": 16}, \"4\": {\"4\": 96}, \"116\": {\"116\": 28}, \"61\": {\"61\": 16}, \"5\": {\"5\": 110, \"70\": 1, \"88\": 1}, \"106\": {\"106\": 99, \"73\": 1}, \"12\": {\"12\": 104}, \"62\": {\"62\": 118, \"84\": 2}, \"34\": {\"34\": 32}, \"91\": {\"91\": 24}, \"112\": {\"112\": 15, \"101\": 1}, \"92\": {\"92\": 32}, \"95\": {\"95\": 32}, \"96\": {\"96\": 20}, \"127\": {\"127\": 104, \"26\": 2, \"40\": 1, \"111\": 1}, \"67\": {\"67\": 15, \"69\": 1}, \"83\": {\"83\": 24}, \"21\": {\"78\": 3, \"21\": 40, \"106\": 1, \"26\": 1, \"40\": 1, \"127\": 1, \"101\": 1}, \"98\": {\"98\": 123, \"44\": 1}, \"108\": {\"108\": 130, \"8\": 2}, \"31\": {\"31\": 19, \"91\": 1}, \"118\": {\"118\": 100}, \"110\": {\"110\": 92}, \"73\": {\"73\": 40}, \"44\": {\"44\": 69, \"90\": 2, \"62\": 1}, \"37\": {\"37\": 15, \"45\": 1}, \"100\": {\"100\": 16}}, \"ORACLE.run126\": {\"0\": {\"3\": 26, \"8\": 92, \"10\": 133, \"15\": 102, \"1\": 85, \"0\": 191, \"14\": 171, \"5\": 59, \"2\": 93, \"6\": 71, \"12\": 37, \"7\": 67, \"9\": 45, \"13\": 10, \"11\": 17, \"4\": 1}, \"4\": {\"4\": 532, \"3\": 208, \"12\": 49, \"2\": 40, \"7\": 97, \"13\": 120, \"9\": 76, \"0\": 8, \"8\": 63, \"10\": 4, \"14\": 2, \"6\": 1}, \"14\": {\"6\": 120, \"10\": 190, \"14\": 205, \"0\": 153, \"1\": 183, \"7\": 35, \"8\": 35, \"9\": 20, \"5\": 79, \"15\": 103, \"12\": 12, \"2\": 38, \"11\": 15, \"3\": 9, \"4\": 1, \"13\": 2}, \"12\": {\"12\": 267, \"6\": 14, \"8\": 120, \"4\": 21, \"9\": 166, \"2\": 109, \"13\": 156, \"7\": 89, \"3\": 94, \"0\": 52, \"5\": 23, \"15\": 38, \"11\": 9, \"14\": 18, \"10\": 21, \"1\": 3}, \"8\": {\"2\": 148, \"3\": 94, \"7\": 162, \"8\": 184, \"15\": 28, \"0\": 98, \"12\": 126, \"5\": 15, \"14\": 43, \"9\": 118, \"13\": 70, \"10\": 52, \"4\": 26, \"6\": 20, \"1\": 15, \"11\": 1}, \"7\": {\"7\": 173, \"2\": 136, \"0\": 86, \"3\": 170, \"13\": 79, \"9\": 121, \"4\": 64, \"8\": 170, \"14\": 43, \"12\": 94, \"5\": 5, \"1\": 8, \"15\": 20, \"10\": 23, \"11\": 3, \"6\": 5}, \"13\": {\"12\": 187, \"13\": 359, \"0\": 16, \"9\": 154, \"4\": 92, \"2\": 72, \"3\": 130, \"8\": 74, \"7\": 91, \"6\": 2, \"11\": 5, \"14\": 4, \"15\": 6, \"10\": 5, \"1\": 1, \"5\": 2}, \"5\": {\"11\": 163, \"15\": 206, \"5\": 261, \"10\": 101, \"1\": 84, \"12\": 12, \"6\": 187, \"2\": 22, \"14\": 82, \"9\": 9, \"0\": 50, \"3\": 2, \"13\": 3, \"7\": 7, \"8\": 11}, \"15\": {\"10\": 141, \"11\": 75, \"6\": 179, \"5\": 193, \"14\": 99, \"15\": 180, \"1\": 119, \"2\": 44, \"0\": 91, \"7\": 12, \"12\": 25, \"9\": 19, \"3\": 5, \"8\": 13, \"13\": 5}, \"10\": {\"14\": 168, \"15\": 125, \"6\": 137, \"8\": 44, \"10\": 137, \"5\": 96, \"12\": 26, \"1\": 146, \"0\": 168, \"2\": 50, \"3\": 9, \"11\": 27, \"9\": 29, \"13\": 6, \"7\": 32}, \"3\": {\"3\": 223, \"13\": 126, \"4\": 139, \"8\": 117, \"9\": 141, \"2\": 123, \"0\": 35, \"12\": 89, \"7\": 164, \"10\": 14, \"1\": 3, \"14\": 16, \"5\": 4, \"6\": 4, \"15\": 2}, \"9\": {\"9\": 154, \"2\": 151, \"7\": 139, \"3\": 148, \"12\": 133, \"8\": 107, \"5\": 22, \"13\": 136, \"6\": 9, \"10\": 26, \"15\": 37, \"0\": 60, \"1\": 12, \"14\": 28, \"4\": 34, \"11\": 4}, \"6\": {\"14\": 117, \"0\": 87, \"1\": 166, \"11\": 110, \"10\": 125, \"5\": 166, \"6\": 205, \"15\": 164, \"2\": 22, \"9\": 11, \"12\": 8, \"8\": 12, \"13\": 3, \"7\": 2, \"3\": 2}, \"1\": {\"14\": 183, \"1\": 343, \"5\": 102, \"15\": 116, \"0\": 98, \"6\": 150, \"10\": 142, \"11\": 25, \"7\": 9, \"8\": 11, \"2\": 10, \"9\": 3, \"12\": 6, \"3\": 2}, \"11\": {\"11\": 683, \"15\": 107, \"6\": 128, \"5\": 190, \"1\": 30, \"10\": 19, \"14\": 20, \"9\": 2, \"0\": 9, \"2\": 2, \"8\": 1, \"12\": 8, \"13\": 1}, \"2\": {\"15\": 53, \"3\": 114, \"7\": 125, \"14\": 56, \"8\": 157, \"2\": 170, \"9\": 116, \"0\": 96, \"12\": 83, \"10\": 62, \"13\": 68, \"6\": 27, \"4\": 18, \"1\": 22, \"5\": 28, \"11\": 5}}, \"ORACLE.run144\": {\"1\": {\"1\": 477, \"4\": 33, \"0\": 60, \"10\": 68, \"3\": 62, \"2\": 326, \"14\": 35, \"12\": 27, \"8\": 16, \"7\": 23, \"5\": 20, \"9\": 14, \"15\": 38, \"13\": 1}, \"11\": {\"11\": 1083, \"13\": 88, \"6\": 27, \"9\": 2}, \"3\": {\"3\": 561, \"12\": 465, \"1\": 81, \"0\": 54, \"8\": 19, \"2\": 17, \"15\": 2, \"10\": 1}, \"6\": {\"6\": 489, \"7\": 85, \"13\": 364, \"9\": 146, \"11\": 31, \"10\": 40, \"4\": 32, \"2\": 1, \"1\": 1, \"14\": 9, \"5\": 2}, \"7\": {\"6\": 124, \"7\": 268, \"5\": 35, \"10\": 229, \"9\": 195, \"14\": 68, \"2\": 90, \"4\": 112, \"13\": 48, \"1\": 23, \"15\": 6, \"11\": 1, \"8\": 1}, \"5\": {\"14\": 283, \"15\": 193, \"4\": 181, \"5\": 267, \"10\": 26, \"8\": 76, \"9\": 53, \"2\": 20, \"1\": 16, \"7\": 43, \"0\": 24, \"6\": 10, \"11\": 1, \"13\": 6, \"3\": 1}, \"2\": {\"10\": 193, \"4\": 28, \"2\": 474, \"1\": 253, \"7\": 101, \"9\": 49, \"5\": 22, \"14\": 42, \"3\": 4, \"12\": 3, \"6\": 6, \"15\": 17, \"0\": 5, \"8\": 3}, \"15\": {\"15\": 317, \"0\": 135, \"14\": 153, \"5\": 195, \"10\": 12, \"4\": 89, \"8\": 239, \"7\": 9, \"2\": 13, \"1\": 27, \"13\": 1, \"9\": 10}, \"10\": {\"6\": 59, \"10\": 299, \"7\": 253, \"2\": 148, \"9\": 165, \"5\": 40, \"4\": 81, \"1\": 56, \"8\": 3, \"14\": 55, \"13\": 29, \"15\": 11, \"12\": 1}, \"13\": {\"9\": 111, \"13\": 496, \"6\": 368, \"11\": 118, \"7\": 46, \"10\": 17, \"5\": 6, \"14\": 7, \"4\": 30, \"2\": 1}, \"8\": {\"15\": 242, \"0\": 326, \"5\": 101, \"14\": 54, \"8\": 420, \"4\": 20, \"1\": 18, \"2\": 7, \"9\": 4, \"3\": 5, \"7\": 2, \"12\": 1}, \"4\": {\"4\": 267, \"6\": 29, \"14\": 204, \"7\": 96, \"15\": 87, \"5\": 186, \"10\": 70, \"9\": 110, \"13\": 40, \"2\": 49, \"11\": 1, \"1\": 31, \"8\": 22, \"0\": 8}, \"9\": {\"4\": 96, \"1\": 18, \"13\": 155, \"7\": 219, \"14\": 77, \"6\": 169, \"2\": 43, \"9\": 197, \"10\": 160, \"5\": 47, \"11\": 10, \"8\": 3, \"15\": 6}, \"14\": {\"14\": 248, \"5\": 258, \"9\": 54, \"0\": 20, \"15\": 158, \"7\": 77, \"4\": 214, \"1\": 21, \"8\": 56, \"10\": 56, \"2\": 20, \"6\": 12, \"13\": 6}, \"0\": {\"8\": 368, \"0\": 458, \"2\": 14, \"15\": 173, \"14\": 40, \"1\": 67, \"3\": 31, \"5\": 30, \"4\": 7, \"12\": 6, \"9\": 2, \"10\": 2, \"7\": 2}, \"12\": {\"12\": 637, \"3\": 475, \"1\": 61, \"2\": 14, \"0\": 12, \"8\": 1}}, \"ORACLE.run150\": {\"15\": {\"15\": 258, \"4\": 79, \"9\": 173, \"12\": 47, \"3\": 68, \"13\": 28, \"5\": 156, \"6\": 225, \"11\": 117, \"7\": 45, \"1\": 2, \"8\": 2}, \"4\": {\"9\": 42, \"4\": 431, \"7\": 360, \"5\": 172, \"15\": 86, \"6\": 66, \"3\": 28, \"11\": 7, \"12\": 8}, \"6\": {\"6\": 206, \"11\": 112, \"5\": 173, \"15\": 174, \"3\": 139, \"9\": 158, \"12\": 91, \"7\": 63, \"4\": 55, \"1\": 4, \"13\": 24, \"8\": 1}, \"2\": {\"2\": 435, \"0\": 327, \"1\": 10, \"10\": 107, \"14\": 289, \"13\": 4, \"8\": 28}, \"5\": {\"15\": 142, \"3\": 91, \"7\": 206, \"6\": 129, \"4\": 196, \"5\": 209, \"13\": 29, \"9\": 102, \"11\": 34, \"1\": 13, \"12\": 44, \"8\": 5}, \"9\": {\"11\": 164, \"12\": 171, \"5\": 126, \"15\": 176, \"9\": 233, \"6\": 174, \"3\": 67, \"7\": 27, \"4\": 24, \"13\": 30, \"1\": 5, \"8\": 3}, \"8\": {\"8\": 468, \"3\": 50, \"13\": 123, \"1\": 157, \"10\": 211, \"12\": 34, \"2\": 27, \"0\": 76, \"11\": 28, \"14\": 9, \"9\": 6, \"15\": 4, \"6\": 4, \"5\": 3}, \"12\": {\"12\": 352, \"13\": 80, \"9\": 175, \"3\": 145, \"8\": 32, \"11\": 149, \"7\": 11, \"5\": 57, \"10\": 5, \"15\": 75, \"1\": 27, \"6\": 89, \"4\": 3}, \"10\": {\"8\": 237, \"1\": 177, \"2\": 103, \"0\": 173, \"10\": 332, \"14\": 104, \"13\": 52, \"3\": 7, \"12\": 3, \"11\": 8, \"6\": 3, \"9\": 1}, \"1\": {\"1\": 411, \"13\": 248, \"8\": 142, \"0\": 25, \"9\": 21, \"15\": 11, \"11\": 119, \"10\": 136, \"6\": 13, \"3\": 12, \"14\": 21, \"12\": 27, \"2\": 6, \"5\": 8}, \"0\": {\"2\": 269, \"10\": 223, \"8\": 94, \"14\": 246, \"0\": 314, \"1\": 44, \"13\": 8, \"3\": 2}, \"3\": {\"6\": 157, \"12\": 145, \"9\": 82, \"7\": 60, \"3\": 408, \"5\": 113, \"4\": 31, \"11\": 58, \"8\": 22, \"15\": 81, \"13\": 36, \"10\": 1, \"1\": 6}, \"13\": {\"1\": 234, \"8\": 95, \"15\": 53, \"11\": 201, \"13\": 292, \"5\": 23, \"12\": 89, \"3\": 64, \"9\": 42, \"10\": 39, \"6\": 67, \"0\": 1}, \"11\": {\"11\": 264, \"15\": 129, \"13\": 150, \"6\": 119, \"12\": 158, \"3\": 63, \"5\": 58, \"9\": 165, \"1\": 66, \"8\": 19, \"10\": 4, \"7\": 3, \"4\": 2}, \"7\": {\"7\": 461, \"3\": 42, \"9\": 45, \"4\": 387, \"5\": 151, \"15\": 49, \"6\": 56, \"12\": 6, \"11\": 3}, \"14\": {\"2\": 309, \"14\": 481, \"0\": 267, \"10\": 100, \"1\": 31, \"8\": 12}}, \"ORACLE.run138\": {\"15\": {\"5\": 176, \"15\": 573, \"9\": 75, \"1\": 113, \"12\": 42, \"6\": 98, \"8\": 109, \"2\": 11, \"7\": 2, \"13\": 1}, \"11\": {\"11\": 1114, \"3\": 84, \"10\": 2}, \"10\": {\"4\": 90, \"3\": 89, \"13\": 139, \"10\": 533, \"2\": 9, \"0\": 287, \"14\": 33, \"7\": 10, \"8\": 2, \"11\": 7, \"9\": 1}, \"14\": {\"7\": 228, \"8\": 47, \"14\": 366, \"2\": 194, \"5\": 23, \"13\": 97, \"10\": 48, \"4\": 66, \"0\": 99, \"9\": 24, \"12\": 8}, \"6\": {\"1\": 467, \"6\": 637, \"15\": 89, \"12\": 2, \"8\": 2, \"5\": 2, \"9\": 1}, \"4\": {\"4\": 932, \"14\": 50, \"10\": 82, \"7\": 48, \"3\": 2, \"0\": 78, \"13\": 5, \"12\": 2, \"2\": 1}, \"13\": {\"8\": 9, \"13\": 477, \"2\": 151, \"14\": 83, \"10\": 173, \"9\": 30, \"7\": 54, \"0\": 198, \"3\": 8, \"4\": 13, \"5\": 4}, \"3\": {\"3\": 991, \"10\": 96, \"11\": 78, \"0\": 22, \"4\": 1, \"13\": 12}, \"7\": {\"8\": 109, \"10\": 16, \"0\": 48, \"14\": 219, \"9\": 61, \"12\": 44, \"13\": 42, \"2\": 123, \"4\": 71, \"7\": 399, \"5\": 67, \"15\": 1}, \"8\": {\"5\": 225, \"12\": 115, \"8\": 234, \"15\": 117, \"2\": 101, \"9\": 164, \"7\": 125, \"14\": 72, \"13\": 20, \"1\": 3, \"10\": 3, \"0\": 13, \"6\": 7, \"4\": 1}, \"1\": {\"1\": 585, \"6\": 479, \"15\": 128, \"5\": 2, \"8\": 5, \"12\": 1}, \"5\": {\"5\": 275, \"9\": 212, \"8\": 227, \"12\": 83, \"2\": 92, \"10\": 1, \"14\": 41, \"7\": 95, \"13\": 15, \"15\": 144, \"4\": 3, \"6\": 4, \"0\": 6, \"1\": 2}, \"0\": {\"9\": 14, \"10\": 304, \"13\": 178, \"3\": 88, \"14\": 97, \"0\": 280, \"2\": 69, \"4\": 76, \"7\": 74, \"8\": 10, \"11\": 4, \"5\": 5, \"12\": 1}, \"2\": {\"8\": 77, \"2\": 351, \"9\": 158, \"5\": 59, \"4\": 5, \"14\": 188, \"13\": 160, \"7\": 135, \"0\": 55, \"15\": 1, \"12\": 3, \"10\": 7, \"3\": 1}, \"12\": {\"5\": 92, \"12\": 818, \"4\": 13, \"8\": 138, \"14\": 29, \"7\": 65, \"9\": 16, \"15\": 21, \"2\": 7, \"0\": 1}, \"9\": {\"9\": 463, \"7\": 91, \"5\": 223, \"8\": 154, \"13\": 24, \"2\": 146, \"14\": 38, \"15\": 42, \"12\": 12, \"0\": 6, \"1\": 1}}, \"ORACLE.run120\": {\"10\": {\"3\": 19, \"1\": 33, \"9\": 36, \"10\": 323, \"4\": 171, \"14\": 50, \"2\": 87, \"13\": 81, \"6\": 135, \"12\": 75, \"8\": 25, \"7\": 91, \"5\": 24, \"15\": 49, \"0\": 1}, \"7\": {\"10\": 48, \"8\": 68, \"3\": 85, \"7\": 105, \"6\": 93, \"15\": 81, \"9\": 93, \"2\": 85, \"12\": 92, \"1\": 95, \"5\": 87, \"4\": 91, \"14\": 72, \"13\": 75, \"0\": 21, \"11\": 9}, \"4\": {\"3\": 42, \"6\": 126, \"2\": 106, \"9\": 83, \"1\": 59, \"7\": 90, \"12\": 116, \"15\": 71, \"10\": 134, \"4\": 138, \"8\": 45, \"5\": 46, \"13\": 64, \"14\": 69, \"0\": 8, \"11\": 3}, \"13\": {\"1\": 89, \"15\": 137, \"13\": 221, \"12\": 129, \"5\": 42, \"7\": 73, \"4\": 85, \"2\": 143, \"8\": 15, \"6\": 68, \"10\": 62, \"3\": 38, \"9\": 81, \"14\": 12, \"0\": 3, \"11\": 2}, \"1\": {\"3\": 93, \"1\": 126, \"10\": 16, \"6\": 51, \"5\": 97, \"12\": 90, \"2\": 102, \"15\": 119, \"7\": 76, \"13\": 71, \"8\": 68, \"14\": 62, \"9\": 106, \"4\": 52, \"0\": 45, \"11\": 26}, \"0\": {\"2\": 14, \"0\": 325, \"7\": 22, \"5\": 101, \"9\": 43, \"3\": 96, \"8\": 107, \"11\": 297, \"1\": 73, \"14\": 77, \"12\": 8, \"15\": 21, \"6\": 9, \"4\": 4, \"13\": 3}, \"12\": {\"7\": 110, \"14\": 45, \"4\": 102, \"12\": 91, \"15\": 114, \"13\": 129, \"10\": 51, \"1\": 104, \"2\": 97, \"6\": 91, \"9\": 89, \"0\": 8, \"3\": 52, \"8\": 45, \"5\": 69, \"11\": 3}, \"5\": {\"14\": 79, \"1\": 120, \"5\": 121, \"3\": 110, \"7\": 73, \"6\": 51, \"15\": 96, \"13\": 47, \"2\": 69, \"10\": 16, \"8\": 101, \"4\": 37, \"9\": 104, \"11\": 42, \"0\": 61, \"12\": 73}, \"6\": {\"7\": 98, \"4\": 135, \"8\": 70, \"9\": 73, \"15\": 40, \"10\": 105, \"12\": 78, \"6\": 147, \"1\": 54, \"14\": 125, \"13\": 53, \"2\": 84, \"3\": 65, \"5\": 56, \"0\": 14, \"11\": 3}, \"2\": {\"14\": 40, \"13\": 135, \"10\": 54, \"3\": 61, \"2\": 111, \"12\": 109, \"4\": 88, \"1\": 95, \"8\": 43, \"5\": 68, \"15\": 111, \"6\": 80, \"9\": 89, \"7\": 96, \"0\": 16, \"11\": 4}, \"8\": {\"0\": 86, \"6\": 81, \"15\": 43, \"8\": 168, \"9\": 66, \"1\": 79, \"11\": 69, \"7\": 71, \"3\": 117, \"2\": 35, \"4\": 44, \"5\": 108, \"14\": 169, \"10\": 14, \"12\": 39, \"13\": 11}, \"11\": {\"11\": 458, \"0\": 332, \"5\": 59, \"8\": 91, \"3\": 67, \"14\": 56, \"9\": 41, \"7\": 16, \"4\": 2, \"6\": 5, \"15\": 15, \"12\": 5, \"1\": 42, \"2\": 7, \"13\": 4}, \"9\": {\"14\": 71, \"8\": 79, \"15\": 105, \"5\": 88, \"3\": 89, \"13\": 66, \"9\": 100, \"12\": 86, \"6\": 84, \"7\": 90, \"4\": 60, \"10\": 23, \"1\": 108, \"2\": 87, \"11\": 31, \"0\": 33}, \"14\": {\"11\": 27, \"8\": 167, \"5\": 101, \"14\": 253, \"9\": 70, \"6\": 103, \"4\": 79, \"0\": 56, \"7\": 57, \"10\": 27, \"12\": 34, \"1\": 62, \"15\": 21, \"2\": 38, \"3\": 93, \"13\": 12}, \"15\": {\"9\": 99, \"15\": 145, \"1\": 111, \"10\": 32, \"14\": 37, \"4\": 67, \"13\": 141, \"2\": 99, \"8\": 30, \"6\": 53, \"5\": 98, \"7\": 90, \"12\": 98, \"3\": 73, \"11\": 8, \"0\": 19}, \"3\": {\"3\": 114, \"1\": 97, \"5\": 114, \"9\": 110, \"8\": 108, \"14\": 99, \"15\": 72, \"2\": 62, \"13\": 35, \"4\": 33, \"12\": 61, \"6\": 53, \"7\": 81, \"0\": 95, \"11\": 52, \"10\": 14}}, \"ORACLE.run114\": {\"14\": {\"7\": 112, \"5\": 108, \"13\": 143, \"6\": 168, \"14\": 224, \"8\": 17, \"2\": 172, \"0\": 103, \"3\": 105, \"10\": 12, \"4\": 23, \"9\": 1, \"12\": 12}, \"0\": {\"3\": 172, \"4\": 62, \"7\": 114, \"2\": 98, \"14\": 107, \"10\": 34, \"12\": 70, \"8\": 105, \"5\": 107, \"15\": 4, \"6\": 79, \"13\": 72, \"9\": 6, \"0\": 165, \"1\": 5}, \"4\": {\"4\": 261, \"7\": 58, \"5\": 124, \"10\": 217, \"0\": 51, \"9\": 69, \"2\": 122, \"1\": 78, \"14\": 59, \"3\": 15, \"6\": 16, \"8\": 53, \"12\": 47, \"13\": 30}, \"11\": {\"11\": 1091, \"1\": 70, \"9\": 32, \"10\": 6, \"4\": 1}, \"13\": {\"14\": 128, \"0\": 87, \"13\": 229, \"15\": 112, \"3\": 93, \"6\": 225, \"5\": 66, \"2\": 104, \"7\": 82, \"4\": 35, \"10\": 21, \"8\": 10, \"9\": 3, \"12\": 5}, \"9\": {\"10\": 117, \"9\": 527, \"4\": 117, \"1\": 223, \"8\": 56, \"12\": 123, \"2\": 9, \"5\": 11, \"0\": 10, \"14\": 2, \"11\": 1, \"13\": 2, \"7\": 2}, \"3\": {\"3\": 245, \"0\": 162, \"6\": 129, \"13\": 132, \"7\": 133, \"2\": 80, \"8\": 81, \"12\": 30, \"14\": 126, \"5\": 66, \"4\": 12, \"9\": 1, \"10\": 2, \"15\": 1}, \"6\": {\"6\": 321, \"0\": 77, \"13\": 263, \"2\": 98, \"3\": 125, \"7\": 77, \"5\": 34, \"14\": 167, \"15\": 19, \"4\": 7, \"12\": 5, \"8\": 7}, \"1\": {\"1\": 523, \"10\": 211, \"9\": 294, \"4\": 122, \"5\": 15, \"12\": 14, \"8\": 6, \"0\": 3, \"14\": 1, \"2\": 5, \"11\": 3, \"13\": 1, \"7\": 2}, \"5\": {\"5\": 198, \"9\": 12, \"6\": 40, \"7\": 147, \"10\": 54, \"4\": 118, \"14\": 125, \"0\": 120, \"13\": 42, \"2\": 124, \"8\": 85, \"3\": 56, \"12\": 69, \"1\": 10}, \"12\": {\"8\": 364, \"12\": 426, \"3\": 45, \"7\": 51, \"4\": 42, \"5\": 64, \"14\": 14, \"10\": 23, \"0\": 73, \"9\": 59, \"2\": 24, \"13\": 8, \"1\": 4, \"6\": 3}, \"10\": {\"10\": 318, \"1\": 180, \"9\": 104, \"4\": 269, \"2\": 78, \"5\": 79, \"14\": 36, \"8\": 21, \"7\": 15, \"13\": 18, \"12\": 44, \"0\": 28, \"3\": 5, \"6\": 5}, \"8\": {\"5\": 94, \"8\": 380, \"12\": 330, \"4\": 42, \"3\": 69, \"0\": 91, \"2\": 31, \"1\": 9, \"7\": 79, \"14\": 15, \"9\": 25, \"10\": 16, \"13\": 12, \"6\": 7}, \"7\": {\"5\": 156, \"2\": 101, \"3\": 109, \"7\": 236, \"14\": 109, \"0\": 126, \"8\": 93, \"6\": 89, \"12\": 51, \"13\": 76, \"4\": 41, \"10\": 10, \"1\": 2, \"9\": 1}, \"15\": {\"15\": 1173, \"13\": 12, \"3\": 6, \"6\": 8, \"0\": 1}, \"2\": {\"5\": 139, \"7\": 108, \"1\": 13, \"2\": 181, \"0\": 90, \"9\": 8, \"3\": 69, \"14\": 161, \"8\": 19, \"4\": 90, \"13\": 113, \"10\": 67, \"6\": 113, \"15\": 7, \"12\": 22}}, \"ORACLE.run132\": {\"11\": {\"10\": 47, \"9\": 136, \"11\": 539, \"2\": 16, \"13\": 194, \"12\": 117, \"3\": 101, \"4\": 45, \"6\": 2, \"8\": 1, \"14\": 2}, \"1\": {\"1\": 813, \"9\": 46, \"2\": 83, \"5\": 27, \"7\": 56, \"0\": 56, \"8\": 16, \"14\": 58, \"3\": 1, \"4\": 34, \"10\": 3, \"11\": 1, \"12\": 4, \"13\": 2}, \"2\": {\"2\": 309, \"4\": 219, \"1\": 72, \"8\": 68, \"11\": 15, \"14\": 149, \"13\": 66, \"3\": 77, \"0\": 63, \"15\": 2, \"5\": 19, \"7\": 56, \"9\": 78, \"12\": 6, \"10\": 1}, \"0\": {\"7\": 210, \"5\": 201, \"1\": 28, \"0\": 237, \"3\": 7, \"2\": 68, \"14\": 201, \"8\": 169, \"4\": 32, \"15\": 44, \"11\": 1, \"13\": 2}, \"3\": {\"8\": 48, \"3\": 499, \"9\": 23, \"13\": 309, \"2\": 51, \"0\": 13, \"4\": 126, \"12\": 8, \"15\": 18, \"14\": 14, \"11\": 78, \"1\": 3, \"5\": 5, \"7\": 4, \"10\": 1}, \"8\": {\"8\": 279, \"4\": 42, \"0\": 190, \"2\": 61, \"14\": 125, \"1\": 10, \"7\": 142, \"5\": 152, \"3\": 46, \"15\": 133, \"13\": 18, \"9\": 1, \"11\": 1}, \"12\": {\"12\": 390, \"13\": 49, \"9\": 232, \"10\": 274, \"11\": 158, \"1\": 18, \"6\": 28, \"3\": 19, \"4\": 19, \"2\": 13}, \"5\": {\"0\": 211, \"5\": 335, \"8\": 184, \"14\": 116, \"7\": 217, \"2\": 23, \"15\": 81, \"3\": 5, \"4\": 14, \"9\": 1, \"1\": 9, \"13\": 4}, \"15\": {\"15\": 935, \"5\": 76, \"8\": 100, \"3\": 13, \"14\": 13, \"7\": 29, \"0\": 32, \"4\": 2}, \"7\": {\"14\": 219, \"8\": 132, \"5\": 223, \"2\": 51, \"0\": 235, \"7\": 248, \"15\": 29, \"1\": 38, \"3\": 7, \"4\": 16, \"9\": 1, \"13\": 1}, \"4\": {\"13\": 166, \"2\": 253, \"3\": 136, \"7\": 26, \"4\": 283, \"14\": 83, \"9\": 84, \"8\": 60, \"0\": 31, \"1\": 24, \"5\": 16, \"12\": 10, \"11\": 26, \"15\": 1, \"10\": 1}, \"14\": {\"14\": 242, \"0\": 189, \"2\": 153, \"8\": 141, \"5\": 129, \"7\": 193, \"4\": 64, \"1\": 32, \"3\": 28, \"15\": 8, \"9\": 4, \"13\": 12, \"11\": 3, \"12\": 2}, \"10\": {\"12\": 367, \"10\": 518, \"6\": 116, \"11\": 63, \"9\": 103, \"1\": 14, \"13\": 10, \"4\": 2, \"3\": 5, \"2\": 2}, \"6\": {\"6\": 946, \"10\": 179, \"12\": 48, \"11\": 15, \"9\": 11, \"13\": 1}, \"13\": {\"9\": 99, \"4\": 190, \"2\": 85, \"13\": 310, \"3\": 294, \"11\": 118, \"8\": 29, \"12\": 38, \"14\": 11, \"1\": 3, \"0\": 8, \"7\": 7, \"15\": 3, \"5\": 4, \"10\": 1}, \"9\": {\"4\": 113, \"12\": 193, \"11\": 108, \"1\": 67, \"9\": 334, \"6\": 13, \"2\": 112, \"13\": 101, \"10\": 80, \"0\": 11, \"3\": 38, \"14\": 9, \"8\": 14, \"5\": 4, \"7\": 3}}, \"ORACLE.run18\": {\"9\": {\"9\": 1102, \"3\": 72, \"2\": 26}, \"11\": {\"10\": 102, \"7\": 120, \"5\": 91, \"11\": 168, \"6\": 143, \"1\": 148, \"13\": 73, \"8\": 161, \"14\": 80, \"4\": 106, \"15\": 3, \"12\": 3, \"2\": 2}, \"8\": {\"10\": 51, \"1\": 111, \"8\": 303, \"11\": 190, \"4\": 137, \"6\": 113, \"14\": 129, \"13\": 29, \"5\": 35, \"7\": 101, \"12\": 1}, \"4\": {\"8\": 146, \"4\": 213, \"6\": 130, \"7\": 101, \"14\": 194, \"1\": 105, \"10\": 68, \"11\": 133, \"13\": 43, \"5\": 66, \"0\": 1}, \"13\": {\"2\": 9, \"7\": 147, \"13\": 231, \"10\": 201, \"5\": 200, \"11\": 67, \"6\": 122, \"1\": 116, \"14\": 12, \"12\": 15, \"4\": 41, \"8\": 27, \"15\": 12}, \"14\": {\"14\": 368, \"4\": 278, \"8\": 162, \"5\": 32, \"1\": 49, \"0\": 28, \"7\": 50, \"11\": 98, \"6\": 72, \"10\": 43, \"13\": 20}, \"2\": {\"2\": 404, \"3\": 282, \"12\": 183, \"15\": 257, \"13\": 18, \"9\": 27, \"5\": 11, \"1\": 2, \"6\": 3, \"7\": 3, \"10\": 9, \"8\": 1}, \"3\": {\"15\": 96, \"3\": 758, \"2\": 258, \"9\": 51, \"12\": 37}, \"1\": {\"6\": 147, \"7\": 141, \"10\": 115, \"4\": 77, \"5\": 139, \"11\": 146, \"1\": 162, \"13\": 112, \"8\": 97, \"14\": 42, \"12\": 19, \"15\": 1, \"2\": 2}, \"0\": {\"0\": 1062, \"14\": 101, \"11\": 5, \"8\": 13, \"10\": 1, \"1\": 1, \"4\": 15, \"6\": 1, \"5\": 1}, \"5\": {\"8\": 44, \"6\": 125, \"10\": 193, \"5\": 200, \"13\": 188, \"7\": 138, \"1\": 108, \"11\": 69, \"14\": 19, \"4\": 63, \"15\": 16, \"12\": 27, \"2\": 9, \"9\": 1}, \"15\": {\"12\": 388, \"15\": 396, \"2\": 304, \"3\": 93, \"10\": 4, \"5\": 6, \"13\": 7, \"8\": 1, \"7\": 1}, \"10\": {\"4\": 46, \"6\": 136, \"1\": 136, \"5\": 171, \"7\": 174, \"14\": 27, \"13\": 181, \"10\": 169, \"8\": 49, \"11\": 84, \"15\": 9, \"12\": 14, \"3\": 1, \"9\": 1, \"2\": 2}, \"12\": {\"2\": 190, \"5\": 19, \"15\": 425, \"12\": 465, \"3\": 59, \"1\": 6, \"6\": 3, \"13\": 17, \"10\": 10, \"7\": 5, \"9\": 1}, \"6\": {\"8\": 108, \"13\": 86, \"10\": 148, \"1\": 156, \"6\": 172, \"7\": 153, \"5\": 99, \"4\": 96, \"14\": 53, \"11\": 125, \"12\": 1, \"15\": 2, \"2\": 1}, \"7\": {\"5\": 133, \"13\": 150, \"4\": 76, \"7\": 176, \"8\": 75, \"11\": 113, \"1\": 139, \"10\": 155, \"6\": 145, \"14\": 24, \"15\": 4, \"12\": 10}}}, \"per_domain_accuracy\": {\"Wisig_4\": {\"accuracy\": 0.9592335390946503, \"source?\": true}, \"Wisig_1\": {\"accuracy\": 0.9782838983050848, \"source?\": true}, \"Wisig_2\": {\"accuracy\": 0.9597280334728033, \"source?\": true}, \"Wisig_3\": {\"accuracy\": 0.9776200873362445, \"source?\": true}, \"ORACLE.run126\": {\"accuracy\": 0.22223958333333332, \"source?\": false}, \"ORACLE.run144\": {\"accuracy\": 0.3623958333333333, \"source?\": false}, \"ORACLE.run150\": {\"accuracy\": 0.28932291666666665, \"source?\": false}, \"ORACLE.run138\": {\"accuracy\": 0.47020833333333334, \"source?\": false}, \"ORACLE.run120\": {\"accuracy\": 0.1534375, \"source?\": false}, \"ORACLE.run114\": {\"accuracy\": 0.3384375, \"source?\": false}, \"ORACLE.run132\": {\"accuracy\": 0.3758854166666667, \"source?\": false}, \"ORACLE.run18\": {\"accuracy\": 0.33067708333333334, \"source?\": false}}}, \"history\": {\"epoch_indices\": [1, 2, 3, 4, 5, 6], \"train_label_loss\": [0.1962647166669925, 0.13369584238296042, 0.11308006432346734, 0.1032322733256974, 0.09653497517056753, 0.09057484676071305], \"source_val_label_loss\": [0.17740674316883087, 0.14567171037197113, 0.12279631942510605, 0.11764360964298248, 0.10939650982618332, 0.10772759467363358], \"target_val_label_loss\": [2.611480712890625, 2.53794527053833, 2.5813469886779785, 2.584432601928711, 2.5620830059051514, 2.5524024963378906], \"source_val_acc_label\": [0.9608302534318902, 0.9685520063357973, 0.9721158922914467, 0.9724458817317846, 0.9736008447729673, 0.9740958289334741], \"target_val_acc_label\": [0.3099088541666667, 0.3178255208333333, 0.28276692708333334, 0.25889973958333334, 0.24233723958333334, 0.24303385416666667]}, \"dataset_metrics\": {\"source\": {\"train\": {\"n_unique_x\": 189065, \"n_unique_y\": 130, \"n_batch/episode\": 6851}, \"val\": {\"n_unique_x\": 40070, \"n_unique_y\": 130, \"n_batch/episode\": 947}, \"test\": {\"n_unique_x\": 40812, \"n_unique_y\": 130, \"n_batch/episode\": 969}}, \"target\": {\"train\": {\"n_unique_x\": 896000, \"n_unique_y\": 16, \"n_batch/episode\": 33600}, \"val\": {\"n_unique_x\": 192000, \"n_unique_y\": 16, \"n_batch/episode\": 4800}, \"test\": {\"n_unique_x\": 192000, \"n_unique_y\": 16, \"n_batch/episode\": 4800}}}}'"
      ]
     },
     "execution_count": 29,
     "metadata": {},
     "output_type": "execute_result"
    }
   ],
   "source": [
    "json.dumps(experiment)"
   ]
  }
 ],
 "metadata": {
  "celltoolbar": "Tags",
  "kernelspec": {
   "display_name": "Python 3 (ipykernel)",
   "language": "python",
   "name": "python3"
  },
  "language_info": {
   "codemirror_mode": {
    "name": "ipython",
    "version": 3
   },
   "file_extension": ".py",
   "mimetype": "text/x-python",
   "name": "python",
   "nbconvert_exporter": "python",
   "pygments_lexer": "ipython3",
   "version": "3.8.12"
  },
  "papermill": {
   "default_parameters": {},
   "duration": 1931.163406,
   "end_time": "2022-03-24T04:07:32.354733",
   "environment_variables": {},
   "exception": null,
   "input_path": "/root/csc500-main/csc500-notebooks/templates/tl_ptn_template.ipynb",
   "output_path": "trial.ipynb",
   "parameters": {
    "parameters": {
     "BEST_MODEL_PATH": "./best_model.pth",
     "NUM_LOGS_PER_EPOCH": 10,
     "criteria_for_best": "target_accuracy",
     "dataset_seed": 7,
     "datasets": [
      {
       "domain_prefix": "Wisig_",
       "domains": [
        1,
        2,
        3,
        4
       ],
       "episode_transforms": [],
       "labels": [
        "1-10",
        "1-12",
        "1-14",
        "1-16",
        "1-18",
        "1-19",
        "1-8",
        "10-11",
        "10-17",
        "10-4",
        "10-7",
        "11-1",
        "11-10",
        "11-19",
        "11-20",
        "11-4",
        "11-7",
        "12-19",
        "12-20",
        "12-7",
        "13-14",
        "13-18",
        "13-19",
        "13-20",
        "13-3",
        "13-7",
        "14-10",
        "14-11",
        "14-12",
        "14-13",
        "14-14",
        "14-19",
        "14-20",
        "14-7",
        "14-8",
        "14-9",
        "15-1",
        "15-19",
        "15-6",
        "16-1",
        "16-16",
        "16-19",
        "16-20",
        "17-10",
        "17-11",
        "18-1",
        "18-10",
        "18-11",
        "18-12",
        "18-13",
        "18-14",
        "18-15",
        "18-16",
        "18-17",
        "18-19",
        "18-2",
        "18-20",
        "18-4",
        "18-5",
        "18-7",
        "18-8",
        "18-9",
        "19-1",
        "19-10",
        "19-11",
        "19-12",
        "19-13",
        "19-14",
        "19-15",
        "19-19",
        "19-2",
        "19-20",
        "19-3",
        "19-4",
        "19-6",
        "19-7",
        "19-8",
        "19-9",
        "2-1",
        "2-13",
        "2-15",
        "2-3",
        "2-4",
        "2-5",
        "2-6",
        "2-7",
        "2-8",
        "20-1",
        "20-12",
        "20-14",
        "20-15",
        "20-16",
        "20-18",
        "20-19",
        "20-20",
        "20-3",
        "20-4",
        "20-5",
        "20-7",
        "20-8",
        "3-1",
        "3-13",
        "3-18",
        "3-2",
        "3-8",
        "4-1",
        "4-10",
        "4-11",
        "5-1",
        "5-5",
        "6-1",
        "6-15",
        "6-6",
        "7-10",
        "7-11",
        "7-12",
        "7-13",
        "7-14",
        "7-7",
        "7-8",
        "7-9",
        "8-1",
        "8-13",
        "8-14",
        "8-18",
        "8-20",
        "8-3",
        "8-8",
        "9-1",
        "9-7"
       ],
       "num_examples_per_domain_per_label": -1,
       "pickle_path": "/root/csc500-main/datasets/wisig.node3-19.stratified_ds.2022A.pkl",
       "source_or_target_dataset": "source",
       "x_transforms": []
      },
      {
       "domain_prefix": "ORACLE.run1",
       "domains": [
        32,
        38,
        8,
        44,
        14,
        50,
        20,
        26
       ],
       "episode_transforms": [],
       "labels": [
        "3123D52",
        "3123D65",
        "3123D79",
        "3123D80",
        "3123D54",
        "3123D70",
        "3123D7B",
        "3123D89",
        "3123D58",
        "3123D76",
        "3123D7D",
        "3123EFE",
        "3123D64",
        "3123D78",
        "3123D7E",
        "3124E4A"
       ],
       "num_examples_per_domain_per_label": 10000,
       "pickle_path": "/root/csc500-main/datasets/oracle.Run1_10kExamples_stratified_ds.2022A.pkl",
       "source_or_target_dataset": "target",
       "x_transforms": []
      }
     ],
     "device": "cuda",
     "experiment_name": "tl_1v2:wisig-oracle.run1",
     "lr": 0.0001,
     "n_epoch": 50,
     "n_query": 2,
     "n_shot": 3,
     "n_way": 16,
     "patience": 3,
     "seed": 7,
     "test_k_factor": 2,
     "torch_default_dtype": "torch.float32",
     "train_k_factor": 3,
     "val_k_factor": 2,
     "x_net": [
      {
       "class": "nnReshape",
       "kargs": {
        "shape": [
         -1,
         1,
         2,
         256
        ]
       }
      },
      {
       "class": "Conv2d",
       "kargs": {
        "bias": false,
        "in_channels": 1,
        "kernel_size": [
         1,
         7
        ],
        "out_channels": 256,
        "padding": [
         0,
         3
        ]
       }
      },
      {
       "class": "ReLU",
       "kargs": {
        "inplace": true
       }
      },
      {
       "class": "BatchNorm2d",
       "kargs": {
        "num_features": 256
       }
      },
      {
       "class": "Conv2d",
       "kargs": {
        "bias": true,
        "in_channels": 256,
        "kernel_size": [
         2,
         7
        ],
        "out_channels": 80,
        "padding": [
         0,
         3
        ]
       }
      },
      {
       "class": "ReLU",
       "kargs": {
        "inplace": true
       }
      },
      {
       "class": "BatchNorm2d",
       "kargs": {
        "num_features": 80
       }
      },
      {
       "class": "Flatten",
       "kargs": {}
      },
      {
       "class": "Linear",
       "kargs": {
        "in_features": 20480,
        "out_features": 256
       }
      },
      {
       "class": "ReLU",
       "kargs": {
        "inplace": true
       }
      },
      {
       "class": "BatchNorm1d",
       "kargs": {
        "num_features": 256
       }
      },
      {
       "class": "Linear",
       "kargs": {
        "in_features": 256,
        "out_features": 256
       }
      }
     ]
    }
   },
   "start_time": "2022-03-24T03:35:21.191327",
   "version": "2.3.4"
  }
 },
 "nbformat": 4,
 "nbformat_minor": 5
}