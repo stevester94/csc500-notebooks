{
 "cells": [
  {
   "cell_type": "markdown",
   "id": "9fea5f46",
   "metadata": {
    "papermill": {
     "duration": 0.034148,
     "end_time": "2022-03-24T00:39:44.676560",
     "exception": false,
     "start_time": "2022-03-24T00:39:44.642412",
     "status": "completed"
    },
    "tags": []
   },
   "source": [
    "# Transfer Learning Template"
   ]
  },
  {
   "cell_type": "code",
   "execution_count": 1,
   "id": "0902182a",
   "metadata": {
    "execution": {
     "iopub.execute_input": "2022-03-24T00:39:44.745358Z",
     "iopub.status.busy": "2022-03-24T00:39:44.744494Z",
     "iopub.status.idle": "2022-03-24T00:39:47.248473Z",
     "shell.execute_reply": "2022-03-24T00:39:47.247631Z"
    },
    "papermill": {
     "duration": 2.548354,
     "end_time": "2022-03-24T00:39:47.248667",
     "exception": false,
     "start_time": "2022-03-24T00:39:44.700313",
     "status": "completed"
    },
    "tags": []
   },
   "outputs": [],
   "source": [
    "%load_ext autoreload\n",
    "%autoreload 2\n",
    "%matplotlib inline\n",
    "\n",
    "    \n",
    "import os, json, sys, time, random\n",
    "import numpy as np\n",
    "import torch\n",
    "from torch.optim import Adam\n",
    "from  easydict import EasyDict\n",
    "import matplotlib.pyplot as plt\n",
    "\n",
    "from steves_models.steves_ptn import Steves_Prototypical_Network\n",
    "\n",
    "from steves_utils.lazy_iterable_wrapper import Lazy_Iterable_Wrapper\n",
    "from steves_utils.iterable_aggregator import Iterable_Aggregator\n",
    "from steves_utils.ptn_train_eval_test_jig import  PTN_Train_Eval_Test_Jig\n",
    "from steves_utils.torch_sequential_builder import build_sequential\n",
    "from steves_utils.torch_utils import get_dataset_metrics, ptn_confusion_by_domain_over_dataloader\n",
    "from steves_utils.utils_v2 import (per_domain_accuracy_from_confusion, get_datasets_base_path)\n",
    "from steves_utils.PTN.utils import independent_accuracy_assesment\n",
    "\n",
    "from torch.utils.data import DataLoader\n",
    "\n",
    "from steves_utils.stratified_dataset.episodic_accessor import Episodic_Accessor_Factory\n",
    "\n",
    "from steves_utils.ptn_do_report import (\n",
    "    get_loss_curve,\n",
    "    get_results_table,\n",
    "    get_parameters_table,\n",
    "    get_domain_accuracies,\n",
    ")\n",
    "\n",
    "from steves_utils.transforms import get_chained_transform"
   ]
  },
  {
   "cell_type": "markdown",
   "id": "41c840b4",
   "metadata": {
    "papermill": {
     "duration": 0.026001,
     "end_time": "2022-03-24T00:39:47.298833",
     "exception": false,
     "start_time": "2022-03-24T00:39:47.272832",
     "status": "completed"
    },
    "tags": []
   },
   "source": [
    "# Allowed Parameters\n",
    "These are allowed parameters, not defaults\n",
    "Each of these values need to be present in the injected parameters (the notebook will raise an exception if they are not present)\n",
    "\n",
    "Papermill uses the cell tag \"parameters\" to inject the real parameters below this cell.\n",
    "Enable tags to see what I mean"
   ]
  },
  {
   "cell_type": "code",
   "execution_count": 2,
   "id": "fd44eb83",
   "metadata": {
    "execution": {
     "iopub.execute_input": "2022-03-24T00:39:47.342627Z",
     "iopub.status.busy": "2022-03-24T00:39:47.341784Z",
     "iopub.status.idle": "2022-03-24T00:39:47.359710Z",
     "shell.execute_reply": "2022-03-24T00:39:47.360375Z"
    },
    "papermill": {
     "duration": 0.042061,
     "end_time": "2022-03-24T00:39:47.360580",
     "exception": false,
     "start_time": "2022-03-24T00:39:47.318519",
     "status": "completed"
    },
    "tags": []
   },
   "outputs": [],
   "source": [
    "required_parameters = {\n",
    "    \"experiment_name\",\n",
    "    \"lr\",\n",
    "    \"device\",\n",
    "    \"seed\",\n",
    "    \"dataset_seed\",\n",
    "    \"n_shot\",\n",
    "    \"n_query\",\n",
    "    \"n_way\",\n",
    "    \"train_k_factor\",\n",
    "    \"val_k_factor\",\n",
    "    \"test_k_factor\",\n",
    "    \"n_epoch\",\n",
    "    \"patience\",\n",
    "    \"criteria_for_best\",\n",
    "    \"x_net\",\n",
    "    \"datasets\",\n",
    "    \"torch_default_dtype\",\n",
    "    \"NUM_LOGS_PER_EPOCH\",\n",
    "    \"BEST_MODEL_PATH\",\n",
    "    \"x_shape\",\n",
    "}"
   ]
  },
  {
   "cell_type": "code",
   "execution_count": 3,
   "id": "fa3f0049",
   "metadata": {
    "execution": {
     "iopub.execute_input": "2022-03-24T00:39:47.415309Z",
     "iopub.status.busy": "2022-03-24T00:39:47.411864Z",
     "iopub.status.idle": "2022-03-24T00:39:47.434674Z",
     "shell.execute_reply": "2022-03-24T00:39:47.433962Z"
    },
    "papermill": {
     "duration": 0.049362,
     "end_time": "2022-03-24T00:39:47.434836",
     "exception": false,
     "start_time": "2022-03-24T00:39:47.385474",
     "status": "completed"
    },
    "tags": [
     "parameters"
    ]
   },
   "outputs": [],
   "source": [
    "from steves_utils.CORES.utils import (\n",
    "    ALL_NODES,\n",
    "    ALL_NODES_MINIMUM_1000_EXAMPLES,\n",
    "    ALL_DAYS\n",
    ")\n",
    "\n",
    "from steves_utils.ORACLE.utils_v2 import (\n",
    "    ALL_DISTANCES_FEET_NARROWED,\n",
    "    ALL_RUNS,\n",
    "    ALL_SERIAL_NUMBERS,\n",
    ")\n",
    "\n",
    "standalone_parameters = {}\n",
    "standalone_parameters[\"experiment_name\"] = \"STANDALONE PTN\"\n",
    "standalone_parameters[\"lr\"] = 0.001\n",
    "standalone_parameters[\"device\"] = \"cuda\"\n",
    "\n",
    "standalone_parameters[\"seed\"] = 1337\n",
    "standalone_parameters[\"dataset_seed\"] = 1337\n",
    "\n",
    "standalone_parameters[\"n_way\"] = 8\n",
    "standalone_parameters[\"n_shot\"] = 3\n",
    "standalone_parameters[\"n_query\"]  = 2\n",
    "standalone_parameters[\"train_k_factor\"] = 1\n",
    "standalone_parameters[\"val_k_factor\"] = 2\n",
    "standalone_parameters[\"test_k_factor\"] = 2\n",
    "\n",
    "\n",
    "standalone_parameters[\"n_epoch\"] = 50\n",
    "\n",
    "standalone_parameters[\"patience\"] = 10\n",
    "standalone_parameters[\"criteria_for_best\"] = \"source_loss\"\n",
    "\n",
    "standalone_parameters[\"datasets\"] = [\n",
    "    {\n",
    "        \"labels\": ALL_SERIAL_NUMBERS,\n",
    "        \"domains\": ALL_DISTANCES_FEET_NARROWED,\n",
    "        \"num_examples_per_domain_per_label\": 100,\n",
    "        \"pickle_path\": os.path.join(get_datasets_base_path(), \"oracle.Run1_framed_2000Examples_stratified_ds.2022A.pkl\"),\n",
    "        \"source_or_target_dataset\": \"source\",\n",
    "        \"x_transforms\": [\"unit_mag\", \"minus_two\"],\n",
    "        \"episode_transforms\": [],\n",
    "        \"domain_prefix\": \"ORACLE_\"\n",
    "    },\n",
    "    {\n",
    "        \"labels\": ALL_NODES,\n",
    "        \"domains\": ALL_DAYS,\n",
    "        \"num_examples_per_domain_per_label\": 100,\n",
    "        \"pickle_path\": os.path.join(get_datasets_base_path(), \"cores.stratified_ds.2022A.pkl\"),\n",
    "        \"source_or_target_dataset\": \"target\",\n",
    "        \"x_transforms\": [\"unit_power\", \"times_zero\"],\n",
    "        \"episode_transforms\": [],\n",
    "        \"domain_prefix\": \"CORES_\"\n",
    "    }   \n",
    "]\n",
    "\n",
    "standalone_parameters[\"torch_default_dtype\"] = \"torch.float32\" \n",
    "\n",
    "\n",
    "\n",
    "standalone_parameters[\"x_net\"] =     [\n",
    "    {\"class\": \"nnReshape\", \"kargs\": {\"shape\":[-1, 1, 2, 256]}},\n",
    "    {\"class\": \"Conv2d\", \"kargs\": { \"in_channels\":1, \"out_channels\":256, \"kernel_size\":(1,7), \"bias\":False, \"padding\":(0,3), },},\n",
    "    {\"class\": \"ReLU\", \"kargs\": {\"inplace\": True}},\n",
    "    {\"class\": \"BatchNorm2d\", \"kargs\": {\"num_features\":256}},\n",
    "\n",
    "    {\"class\": \"Conv2d\", \"kargs\": { \"in_channels\":256, \"out_channels\":80, \"kernel_size\":(2,7), \"bias\":True, \"padding\":(0,3), },},\n",
    "    {\"class\": \"ReLU\", \"kargs\": {\"inplace\": True}},\n",
    "    {\"class\": \"BatchNorm2d\", \"kargs\": {\"num_features\":80}},\n",
    "    {\"class\": \"Flatten\", \"kargs\": {}},\n",
    "\n",
    "    {\"class\": \"Linear\", \"kargs\": {\"in_features\": 80*256, \"out_features\": 256}}, # 80 units per IQ pair\n",
    "    {\"class\": \"ReLU\", \"kargs\": {\"inplace\": True}},\n",
    "    {\"class\": \"BatchNorm1d\", \"kargs\": {\"num_features\":256}},\n",
    "\n",
    "    {\"class\": \"Linear\", \"kargs\": {\"in_features\": 256, \"out_features\": 256}},\n",
    "]\n",
    "\n",
    "# Parameters relevant to results\n",
    "# These parameters will basically never need to change\n",
    "standalone_parameters[\"NUM_LOGS_PER_EPOCH\"] = 10\n",
    "standalone_parameters[\"BEST_MODEL_PATH\"] = \"./best_model.pth\"\n",
    "\n",
    "\n",
    "\n",
    "\n"
   ]
  },
  {
   "cell_type": "code",
   "execution_count": 4,
   "id": "3c6fb8e6",
   "metadata": {
    "execution": {
     "iopub.execute_input": "2022-03-24T00:39:47.490339Z",
     "iopub.status.busy": "2022-03-24T00:39:47.486681Z",
     "iopub.status.idle": "2022-03-24T00:39:47.508842Z",
     "shell.execute_reply": "2022-03-24T00:39:47.509513Z"
    },
    "papermill": {
     "duration": 0.049916,
     "end_time": "2022-03-24T00:39:47.509691",
     "exception": false,
     "start_time": "2022-03-24T00:39:47.459775",
     "status": "completed"
    },
    "tags": [
     "injected-parameters"
    ]
   },
   "outputs": [],
   "source": [
    "# Parameters\n",
    "parameters = {\n",
    "    \"experiment_name\": \"tl_1v2:wisig-oracle.run1\",\n",
    "    \"device\": \"cuda\",\n",
    "    \"lr\": 0.0001,\n",
    "    \"n_shot\": 3,\n",
    "    \"n_query\": 2,\n",
    "    \"train_k_factor\": 3,\n",
    "    \"val_k_factor\": 2,\n",
    "    \"test_k_factor\": 2,\n",
    "    \"torch_default_dtype\": \"torch.float32\",\n",
    "    \"n_epoch\": 50,\n",
    "    \"patience\": 3,\n",
    "    \"criteria_for_best\": \"target_accuracy\",\n",
    "    \"x_net\": [\n",
    "        {\"class\": \"nnReshape\", \"kargs\": {\"shape\": [-1, 1, 2, 256]}},\n",
    "        {\n",
    "            \"class\": \"Conv2d\",\n",
    "            \"kargs\": {\n",
    "                \"in_channels\": 1,\n",
    "                \"out_channels\": 256,\n",
    "                \"kernel_size\": [1, 7],\n",
    "                \"bias\": False,\n",
    "                \"padding\": [0, 3],\n",
    "            },\n",
    "        },\n",
    "        {\"class\": \"ReLU\", \"kargs\": {\"inplace\": True}},\n",
    "        {\"class\": \"BatchNorm2d\", \"kargs\": {\"num_features\": 256}},\n",
    "        {\n",
    "            \"class\": \"Conv2d\",\n",
    "            \"kargs\": {\n",
    "                \"in_channels\": 256,\n",
    "                \"out_channels\": 80,\n",
    "                \"kernel_size\": [2, 7],\n",
    "                \"bias\": True,\n",
    "                \"padding\": [0, 3],\n",
    "            },\n",
    "        },\n",
    "        {\"class\": \"ReLU\", \"kargs\": {\"inplace\": True}},\n",
    "        {\"class\": \"BatchNorm2d\", \"kargs\": {\"num_features\": 80}},\n",
    "        {\"class\": \"Flatten\", \"kargs\": {}},\n",
    "        {\"class\": \"Linear\", \"kargs\": {\"in_features\": 20480, \"out_features\": 256}},\n",
    "        {\"class\": \"ReLU\", \"kargs\": {\"inplace\": True}},\n",
    "        {\"class\": \"BatchNorm1d\", \"kargs\": {\"num_features\": 256}},\n",
    "        {\"class\": \"Linear\", \"kargs\": {\"in_features\": 256, \"out_features\": 256}},\n",
    "    ],\n",
    "    \"NUM_LOGS_PER_EPOCH\": 10,\n",
    "    \"BEST_MODEL_PATH\": \"./best_model.pth\",\n",
    "    \"n_way\": 16,\n",
    "    \"datasets\": [\n",
    "        {\n",
    "            \"labels\": [\n",
    "                \"1-10\",\n",
    "                \"1-12\",\n",
    "                \"1-14\",\n",
    "                \"1-16\",\n",
    "                \"1-18\",\n",
    "                \"1-19\",\n",
    "                \"1-8\",\n",
    "                \"10-11\",\n",
    "                \"10-17\",\n",
    "                \"10-4\",\n",
    "                \"10-7\",\n",
    "                \"11-1\",\n",
    "                \"11-10\",\n",
    "                \"11-19\",\n",
    "                \"11-20\",\n",
    "                \"11-4\",\n",
    "                \"11-7\",\n",
    "                \"12-19\",\n",
    "                \"12-20\",\n",
    "                \"12-7\",\n",
    "                \"13-14\",\n",
    "                \"13-18\",\n",
    "                \"13-19\",\n",
    "                \"13-20\",\n",
    "                \"13-3\",\n",
    "                \"13-7\",\n",
    "                \"14-10\",\n",
    "                \"14-11\",\n",
    "                \"14-12\",\n",
    "                \"14-13\",\n",
    "                \"14-14\",\n",
    "                \"14-19\",\n",
    "                \"14-20\",\n",
    "                \"14-7\",\n",
    "                \"14-8\",\n",
    "                \"14-9\",\n",
    "                \"15-1\",\n",
    "                \"15-19\",\n",
    "                \"15-6\",\n",
    "                \"16-1\",\n",
    "                \"16-16\",\n",
    "                \"16-19\",\n",
    "                \"16-20\",\n",
    "                \"17-10\",\n",
    "                \"17-11\",\n",
    "                \"18-1\",\n",
    "                \"18-10\",\n",
    "                \"18-11\",\n",
    "                \"18-12\",\n",
    "                \"18-13\",\n",
    "                \"18-14\",\n",
    "                \"18-15\",\n",
    "                \"18-16\",\n",
    "                \"18-17\",\n",
    "                \"18-19\",\n",
    "                \"18-2\",\n",
    "                \"18-20\",\n",
    "                \"18-4\",\n",
    "                \"18-5\",\n",
    "                \"18-7\",\n",
    "                \"18-8\",\n",
    "                \"18-9\",\n",
    "                \"19-1\",\n",
    "                \"19-10\",\n",
    "                \"19-11\",\n",
    "                \"19-12\",\n",
    "                \"19-13\",\n",
    "                \"19-14\",\n",
    "                \"19-15\",\n",
    "                \"19-19\",\n",
    "                \"19-2\",\n",
    "                \"19-20\",\n",
    "                \"19-3\",\n",
    "                \"19-4\",\n",
    "                \"19-6\",\n",
    "                \"19-7\",\n",
    "                \"19-8\",\n",
    "                \"19-9\",\n",
    "                \"2-1\",\n",
    "                \"2-13\",\n",
    "                \"2-15\",\n",
    "                \"2-3\",\n",
    "                \"2-4\",\n",
    "                \"2-5\",\n",
    "                \"2-6\",\n",
    "                \"2-7\",\n",
    "                \"2-8\",\n",
    "                \"20-1\",\n",
    "                \"20-12\",\n",
    "                \"20-14\",\n",
    "                \"20-15\",\n",
    "                \"20-16\",\n",
    "                \"20-18\",\n",
    "                \"20-19\",\n",
    "                \"20-20\",\n",
    "                \"20-3\",\n",
    "                \"20-4\",\n",
    "                \"20-5\",\n",
    "                \"20-7\",\n",
    "                \"20-8\",\n",
    "                \"3-1\",\n",
    "                \"3-13\",\n",
    "                \"3-18\",\n",
    "                \"3-2\",\n",
    "                \"3-8\",\n",
    "                \"4-1\",\n",
    "                \"4-10\",\n",
    "                \"4-11\",\n",
    "                \"5-1\",\n",
    "                \"5-5\",\n",
    "                \"6-1\",\n",
    "                \"6-15\",\n",
    "                \"6-6\",\n",
    "                \"7-10\",\n",
    "                \"7-11\",\n",
    "                \"7-12\",\n",
    "                \"7-13\",\n",
    "                \"7-14\",\n",
    "                \"7-7\",\n",
    "                \"7-8\",\n",
    "                \"7-9\",\n",
    "                \"8-1\",\n",
    "                \"8-13\",\n",
    "                \"8-14\",\n",
    "                \"8-18\",\n",
    "                \"8-20\",\n",
    "                \"8-3\",\n",
    "                \"8-8\",\n",
    "                \"9-1\",\n",
    "                \"9-7\",\n",
    "            ],\n",
    "            \"domains\": [1, 2, 3, 4],\n",
    "            \"num_examples_per_domain_per_label\": -1,\n",
    "            \"pickle_path\": \"/root/csc500-main/datasets/wisig.node3-19.stratified_ds.2022A.pkl\",\n",
    "            \"source_or_target_dataset\": \"target\",\n",
    "            \"x_transforms\": [],\n",
    "            \"episode_transforms\": [],\n",
    "            \"domain_prefix\": \"Wisig_\",\n",
    "        },\n",
    "        {\n",
    "            \"labels\": [\n",
    "                \"3123D52\",\n",
    "                \"3123D65\",\n",
    "                \"3123D79\",\n",
    "                \"3123D80\",\n",
    "                \"3123D54\",\n",
    "                \"3123D70\",\n",
    "                \"3123D7B\",\n",
    "                \"3123D89\",\n",
    "                \"3123D58\",\n",
    "                \"3123D76\",\n",
    "                \"3123D7D\",\n",
    "                \"3123EFE\",\n",
    "                \"3123D64\",\n",
    "                \"3123D78\",\n",
    "                \"3123D7E\",\n",
    "                \"3124E4A\",\n",
    "            ],\n",
    "            \"domains\": [32, 38, 8, 44, 14, 50, 20, 26],\n",
    "            \"num_examples_per_domain_per_label\": 10000,\n",
    "            \"pickle_path\": \"/root/csc500-main/datasets/oracle.Run1_10kExamples_stratified_ds.2022A.pkl\",\n",
    "            \"source_or_target_dataset\": \"source\",\n",
    "            \"x_transforms\": [],\n",
    "            \"episode_transforms\": [],\n",
    "            \"domain_prefix\": \"ORACLE.run1\",\n",
    "        },\n",
    "    ],\n",
    "    \"dataset_seed\": 154325,\n",
    "    \"seed\": 154325,\n",
    "}\n"
   ]
  },
  {
   "cell_type": "code",
   "execution_count": 5,
   "id": "8fa1cc33",
   "metadata": {
    "execution": {
     "iopub.execute_input": "2022-03-24T00:39:47.560985Z",
     "iopub.status.busy": "2022-03-24T00:39:47.558176Z",
     "iopub.status.idle": "2022-03-24T00:39:47.576706Z",
     "shell.execute_reply": "2022-03-24T00:39:47.576041Z"
    },
    "papermill": {
     "duration": 0.042014,
     "end_time": "2022-03-24T00:39:47.576866",
     "exception": false,
     "start_time": "2022-03-24T00:39:47.534852",
     "status": "completed"
    },
    "tags": []
   },
   "outputs": [],
   "source": [
    "# Set this to True if you want to run this template directly\n",
    "STANDALONE = False\n",
    "if STANDALONE:\n",
    "    print(\"parameters not injected, running with standalone_parameters\")\n",
    "    parameters = standalone_parameters\n",
    "\n",
    "if not 'parameters' in locals() and not 'parameters' in globals():\n",
    "    raise Exception(\"Parameter injection failed\")\n",
    "\n",
    "#Use an easy dict for all the parameters\n",
    "p = EasyDict(parameters)\n",
    "\n",
    "if \"x_shape\" not in p:\n",
    "    p.x_shape = [2,256] # Default to this if we dont supply x_shape\n",
    "\n",
    "\n",
    "supplied_keys = set(p.keys())\n",
    "\n",
    "if  supplied_keys != required_parameters:\n",
    "    print(\"Parameters are incorrect\")\n",
    "    if len(supplied_keys - required_parameters)>0: print(\"Shouldn't have:\", str(supplied_keys - required_parameters))\n",
    "    if len(required_parameters - supplied_keys)>0: print(\"Need to have:\", str(required_parameters - supplied_keys))\n",
    "    raise RuntimeError(\"Parameters are incorrect\")"
   ]
  },
  {
   "cell_type": "code",
   "execution_count": 6,
   "id": "3a028d58",
   "metadata": {
    "execution": {
     "iopub.execute_input": "2022-03-24T00:39:47.624398Z",
     "iopub.status.busy": "2022-03-24T00:39:47.623841Z",
     "iopub.status.idle": "2022-03-24T00:39:47.646542Z",
     "shell.execute_reply": "2022-03-24T00:39:47.645875Z"
    },
    "papermill": {
     "duration": 0.046399,
     "end_time": "2022-03-24T00:39:47.646696",
     "exception": false,
     "start_time": "2022-03-24T00:39:47.600297",
     "status": "completed"
    },
    "tags": []
   },
   "outputs": [],
   "source": [
    "###################################\n",
    "# Set the RNGs and make it all deterministic\n",
    "###################################\n",
    "np.random.seed(p.seed)\n",
    "random.seed(p.seed)\n",
    "torch.manual_seed(p.seed)\n",
    "\n",
    "torch.use_deterministic_algorithms(True) "
   ]
  },
  {
   "cell_type": "code",
   "execution_count": 7,
   "id": "b691acf6",
   "metadata": {
    "execution": {
     "iopub.execute_input": "2022-03-24T00:39:47.694625Z",
     "iopub.status.busy": "2022-03-24T00:39:47.694257Z",
     "iopub.status.idle": "2022-03-24T00:39:47.716329Z",
     "shell.execute_reply": "2022-03-24T00:39:47.715626Z"
    },
    "papermill": {
     "duration": 0.044832,
     "end_time": "2022-03-24T00:39:47.716481",
     "exception": false,
     "start_time": "2022-03-24T00:39:47.671649",
     "status": "completed"
    },
    "tags": []
   },
   "outputs": [],
   "source": [
    "###########################################\n",
    "# The stratified datasets honor this\n",
    "###########################################\n",
    "torch.set_default_dtype(eval(p.torch_default_dtype))"
   ]
  },
  {
   "cell_type": "code",
   "execution_count": 8,
   "id": "b5fba671",
   "metadata": {
    "execution": {
     "iopub.execute_input": "2022-03-24T00:39:47.765710Z",
     "iopub.status.busy": "2022-03-24T00:39:47.765346Z",
     "iopub.status.idle": "2022-03-24T00:39:47.826141Z",
     "shell.execute_reply": "2022-03-24T00:39:47.825447Z"
    },
    "papermill": {
     "duration": 0.083755,
     "end_time": "2022-03-24T00:39:47.826291",
     "exception": false,
     "start_time": "2022-03-24T00:39:47.742536",
     "status": "completed"
    },
    "tags": []
   },
   "outputs": [],
   "source": [
    "###################################\n",
    "# Build the network(s)\n",
    "# Note: It's critical to do this AFTER setting the RNG\n",
    "###################################\n",
    "x_net = build_sequential(p.x_net)"
   ]
  },
  {
   "cell_type": "code",
   "execution_count": 9,
   "id": "5d7e61cc",
   "metadata": {
    "execution": {
     "iopub.execute_input": "2022-03-24T00:39:47.874721Z",
     "iopub.status.busy": "2022-03-24T00:39:47.874360Z",
     "iopub.status.idle": "2022-03-24T00:39:47.896287Z",
     "shell.execute_reply": "2022-03-24T00:39:47.896955Z"
    },
    "papermill": {
     "duration": 0.045559,
     "end_time": "2022-03-24T00:39:47.897132",
     "exception": false,
     "start_time": "2022-03-24T00:39:47.851573",
     "status": "completed"
    },
    "tags": []
   },
   "outputs": [],
   "source": [
    "start_time_secs = time.time()"
   ]
  },
  {
   "cell_type": "code",
   "execution_count": 10,
   "id": "c6b67dfd",
   "metadata": {
    "execution": {
     "iopub.execute_input": "2022-03-24T00:39:47.949448Z",
     "iopub.status.busy": "2022-03-24T00:39:47.949085Z",
     "iopub.status.idle": "2022-03-24T00:39:47.973508Z",
     "shell.execute_reply": "2022-03-24T00:39:47.974260Z"
    },
    "papermill": {
     "duration": 0.049238,
     "end_time": "2022-03-24T00:39:47.974443",
     "exception": false,
     "start_time": "2022-03-24T00:39:47.925205",
     "status": "completed"
    },
    "tags": []
   },
   "outputs": [],
   "source": [
    "p.domains_source = []\n",
    "p.domains_target = []\n",
    "\n",
    "\n",
    "train_original_source = []\n",
    "val_original_source   = []\n",
    "test_original_source  = []\n",
    "\n",
    "train_original_target = []\n",
    "val_original_target   = []\n",
    "test_original_target  = []"
   ]
  },
  {
   "cell_type": "code",
   "execution_count": 11,
   "id": "e3d9c3d3",
   "metadata": {
    "execution": {
     "iopub.execute_input": "2022-03-24T00:39:48.023105Z",
     "iopub.status.busy": "2022-03-24T00:39:48.022736Z",
     "iopub.status.idle": "2022-03-24T00:39:48.050639Z",
     "shell.execute_reply": "2022-03-24T00:39:48.051312Z"
    },
    "papermill": {
     "duration": 0.051468,
     "end_time": "2022-03-24T00:39:48.051490",
     "exception": false,
     "start_time": "2022-03-24T00:39:48.000022",
     "status": "completed"
    },
    "tags": []
   },
   "outputs": [],
   "source": [
    "# global_x_transform_func = lambda x: normalize(x.to(torch.get_default_dtype()), \"unit_power\") # unit_power, unit_mag\n",
    "# global_x_transform_func = lambda x: normalize(x, \"unit_power\") # unit_power, unit_mag"
   ]
  },
  {
   "cell_type": "code",
   "execution_count": 12,
   "id": "acb78fd2",
   "metadata": {
    "execution": {
     "iopub.execute_input": "2022-03-24T00:39:48.105817Z",
     "iopub.status.busy": "2022-03-24T00:39:48.105234Z",
     "iopub.status.idle": "2022-03-24T00:39:48.127093Z",
     "shell.execute_reply": "2022-03-24T00:39:48.126395Z"
    },
    "papermill": {
     "duration": 0.048707,
     "end_time": "2022-03-24T00:39:48.127242",
     "exception": false,
     "start_time": "2022-03-24T00:39:48.078535",
     "status": "completed"
    },
    "tags": []
   },
   "outputs": [],
   "source": [
    "def add_dataset(\n",
    "    labels,\n",
    "    domains,\n",
    "    pickle_path,\n",
    "    x_transforms,\n",
    "    episode_transforms,\n",
    "    domain_prefix,\n",
    "    num_examples_per_domain_per_label,\n",
    "    source_or_target_dataset:str,\n",
    "    iterator_seed=p.seed,\n",
    "    dataset_seed=p.dataset_seed,\n",
    "    n_shot=p.n_shot,\n",
    "    n_way=p.n_way,\n",
    "    n_query=p.n_query,\n",
    "    train_val_test_k_factors=(p.train_k_factor,p.val_k_factor,p.test_k_factor),\n",
    "):\n",
    "   \n",
    "    if x_transforms == []: x_transform = None\n",
    "    else: x_transform = get_chained_transform(x_transforms)\n",
    "    \n",
    "    if episode_transforms == []: episode_transform = None\n",
    "    else: raise Exception(\"episode_transforms not implemented\")\n",
    "    \n",
    "    episode_transform = lambda tup, _prefix=domain_prefix: (_prefix + str(tup[0]), tup[1])\n",
    "\n",
    "\n",
    "    eaf = Episodic_Accessor_Factory(\n",
    "        labels=labels,\n",
    "        domains=domains,\n",
    "        num_examples_per_domain_per_label=num_examples_per_domain_per_label,\n",
    "        iterator_seed=iterator_seed,\n",
    "        dataset_seed=dataset_seed,\n",
    "        n_shot=n_shot,\n",
    "        n_way=n_way,\n",
    "        n_query=n_query,\n",
    "        train_val_test_k_factors=train_val_test_k_factors,\n",
    "        pickle_path=pickle_path,\n",
    "        x_transform_func=x_transform,\n",
    "    )\n",
    "\n",
    "    train, val, test = eaf.get_train(), eaf.get_val(), eaf.get_test()\n",
    "    train = Lazy_Iterable_Wrapper(train, episode_transform)\n",
    "    val = Lazy_Iterable_Wrapper(val, episode_transform)\n",
    "    test = Lazy_Iterable_Wrapper(test, episode_transform)\n",
    "\n",
    "    if source_or_target_dataset==\"source\":\n",
    "        train_original_source.append(train)\n",
    "        val_original_source.append(val)\n",
    "        test_original_source.append(test)\n",
    "\n",
    "        p.domains_source.extend(\n",
    "            [domain_prefix + str(u) for u in domains]\n",
    "        )\n",
    "    elif source_or_target_dataset==\"target\":\n",
    "        train_original_target.append(train)\n",
    "        val_original_target.append(val)\n",
    "        test_original_target.append(test)\n",
    "        p.domains_target.extend(\n",
    "            [domain_prefix + str(u) for u in domains]\n",
    "        )\n",
    "    else:\n",
    "        raise Exception(f\"invalid source_or_target_dataset: {source_or_target_dataset}\")\n",
    "    "
   ]
  },
  {
   "cell_type": "code",
   "execution_count": 13,
   "id": "fe266617",
   "metadata": {
    "execution": {
     "iopub.execute_input": "2022-03-24T00:39:48.181059Z",
     "iopub.status.busy": "2022-03-24T00:39:48.180501Z",
     "iopub.status.idle": "2022-03-24T00:40:00.344948Z",
     "shell.execute_reply": "2022-03-24T00:40:00.344197Z"
    },
    "papermill": {
     "duration": 12.188297,
     "end_time": "2022-03-24T00:40:00.345139",
     "exception": false,
     "start_time": "2022-03-24T00:39:48.156842",
     "status": "completed"
    },
    "tags": []
   },
   "outputs": [],
   "source": [
    "for ds in p.datasets:\n",
    "    add_dataset(**ds)"
   ]
  },
  {
   "cell_type": "code",
   "execution_count": 14,
   "id": "b90d65ac",
   "metadata": {
    "execution": {
     "iopub.execute_input": "2022-03-24T00:40:00.394650Z",
     "iopub.status.busy": "2022-03-24T00:40:00.394264Z",
     "iopub.status.idle": "2022-03-24T00:40:00.421168Z",
     "shell.execute_reply": "2022-03-24T00:40:00.420332Z"
    },
    "papermill": {
     "duration": 0.051276,
     "end_time": "2022-03-24T00:40:00.421328",
     "exception": false,
     "start_time": "2022-03-24T00:40:00.370052",
     "status": "completed"
    },
    "tags": []
   },
   "outputs": [],
   "source": [
    "# from steves_utils.CORES.utils import (\n",
    "#     ALL_NODES,\n",
    "#     ALL_NODES_MINIMUM_1000_EXAMPLES,\n",
    "#     ALL_DAYS\n",
    "# )\n",
    "\n",
    "# add_dataset(\n",
    "#     labels=ALL_NODES,\n",
    "#     domains = ALL_DAYS,\n",
    "#     num_examples_per_domain_per_label=100,\n",
    "#     pickle_path=os.path.join(get_datasets_base_path(), \"cores.stratified_ds.2022A.pkl\"),\n",
    "#     source_or_target_dataset=\"target\",\n",
    "#     x_transform_func=global_x_transform_func,\n",
    "#     domain_modifier=lambda u: f\"cores_{u}\"\n",
    "# )"
   ]
  },
  {
   "cell_type": "code",
   "execution_count": 15,
   "id": "76db484d",
   "metadata": {
    "execution": {
     "iopub.execute_input": "2022-03-24T00:40:00.468824Z",
     "iopub.status.busy": "2022-03-24T00:40:00.468446Z",
     "iopub.status.idle": "2022-03-24T00:40:00.488208Z",
     "shell.execute_reply": "2022-03-24T00:40:00.487374Z"
    },
    "papermill": {
     "duration": 0.043164,
     "end_time": "2022-03-24T00:40:00.488365",
     "exception": false,
     "start_time": "2022-03-24T00:40:00.445201",
     "status": "completed"
    },
    "tags": []
   },
   "outputs": [],
   "source": [
    "# from steves_utils.ORACLE.utils_v2 import (\n",
    "#     ALL_DISTANCES_FEET,\n",
    "#     ALL_RUNS,\n",
    "#     ALL_SERIAL_NUMBERS,\n",
    "# )\n",
    "\n",
    "\n",
    "# add_dataset(\n",
    "#     labels=ALL_SERIAL_NUMBERS,\n",
    "#     domains = list(set(ALL_DISTANCES_FEET) - {2,62}),\n",
    "#     num_examples_per_domain_per_label=100,\n",
    "#     pickle_path=os.path.join(get_datasets_base_path(), \"oracle.Run2_framed_2000Examples_stratified_ds.2022A.pkl\"),\n",
    "#     source_or_target_dataset=\"source\",\n",
    "#     x_transform_func=global_x_transform_func,\n",
    "#     domain_modifier=lambda u: f\"oracle1_{u}\"\n",
    "# )\n"
   ]
  },
  {
   "cell_type": "code",
   "execution_count": 16,
   "id": "97dea9d2",
   "metadata": {
    "execution": {
     "iopub.execute_input": "2022-03-24T00:40:00.539521Z",
     "iopub.status.busy": "2022-03-24T00:40:00.539153Z",
     "iopub.status.idle": "2022-03-24T00:40:00.555869Z",
     "shell.execute_reply": "2022-03-24T00:40:00.555057Z"
    },
    "papermill": {
     "duration": 0.039208,
     "end_time": "2022-03-24T00:40:00.556022",
     "exception": false,
     "start_time": "2022-03-24T00:40:00.516814",
     "status": "completed"
    },
    "tags": []
   },
   "outputs": [],
   "source": [
    "# from steves_utils.ORACLE.utils_v2 import (\n",
    "#     ALL_DISTANCES_FEET,\n",
    "#     ALL_RUNS,\n",
    "#     ALL_SERIAL_NUMBERS,\n",
    "# )\n",
    "\n",
    "\n",
    "# add_dataset(\n",
    "#     labels=ALL_SERIAL_NUMBERS,\n",
    "#     domains = list(set(ALL_DISTANCES_FEET) - {2,62,56}),\n",
    "#     num_examples_per_domain_per_label=100,\n",
    "#     pickle_path=os.path.join(get_datasets_base_path(), \"oracle.Run2_framed_2000Examples_stratified_ds.2022A.pkl\"),\n",
    "#     source_or_target_dataset=\"source\",\n",
    "#     x_transform_func=global_x_transform_func,\n",
    "#     domain_modifier=lambda u: f\"oracle2_{u}\"\n",
    "# )"
   ]
  },
  {
   "cell_type": "code",
   "execution_count": 17,
   "id": "6f289866",
   "metadata": {
    "execution": {
     "iopub.execute_input": "2022-03-24T00:40:00.608670Z",
     "iopub.status.busy": "2022-03-24T00:40:00.608096Z",
     "iopub.status.idle": "2022-03-24T00:40:00.627500Z",
     "shell.execute_reply": "2022-03-24T00:40:00.626804Z"
    },
    "papermill": {
     "duration": 0.042576,
     "end_time": "2022-03-24T00:40:00.627686",
     "exception": false,
     "start_time": "2022-03-24T00:40:00.585110",
     "status": "completed"
    },
    "tags": []
   },
   "outputs": [],
   "source": [
    "# add_dataset(\n",
    "#     labels=list(range(19)),\n",
    "#     domains = [0,1,2],\n",
    "#     num_examples_per_domain_per_label=100,\n",
    "#     pickle_path=os.path.join(get_datasets_base_path(), \"metehan.stratified_ds.2022A.pkl\"),\n",
    "#     source_or_target_dataset=\"target\",\n",
    "#     x_transform_func=global_x_transform_func,\n",
    "#     domain_modifier=lambda u: f\"met_{u}\"\n",
    "# )"
   ]
  },
  {
   "cell_type": "code",
   "execution_count": 18,
   "id": "86a863c3",
   "metadata": {
    "execution": {
     "iopub.execute_input": "2022-03-24T00:40:00.678041Z",
     "iopub.status.busy": "2022-03-24T00:40:00.677675Z",
     "iopub.status.idle": "2022-03-24T00:40:00.700445Z",
     "shell.execute_reply": "2022-03-24T00:40:00.699733Z"
    },
    "papermill": {
     "duration": 0.045556,
     "end_time": "2022-03-24T00:40:00.700597",
     "exception": false,
     "start_time": "2022-03-24T00:40:00.655041",
     "status": "completed"
    },
    "tags": []
   },
   "outputs": [],
   "source": [
    "# # from steves_utils.wisig.utils import (\n",
    "# #     ALL_NODES_MINIMUM_100_EXAMPLES,\n",
    "# #     ALL_NODES_MINIMUM_500_EXAMPLES,\n",
    "# #     ALL_NODES_MINIMUM_1000_EXAMPLES,\n",
    "# #     ALL_DAYS\n",
    "# # )\n",
    "\n",
    "# import steves_utils.wisig.utils as wisig\n",
    "\n",
    "\n",
    "# add_dataset(\n",
    "#     labels=wisig.ALL_NODES_MINIMUM_100_EXAMPLES,\n",
    "#     domains = wisig.ALL_DAYS,\n",
    "#     num_examples_per_domain_per_label=100,\n",
    "#     pickle_path=os.path.join(get_datasets_base_path(), \"wisig.node3-19.stratified_ds.2022A.pkl\"),\n",
    "#     source_or_target_dataset=\"target\",\n",
    "#     x_transform_func=global_x_transform_func,\n",
    "#     domain_modifier=lambda u: f\"wisig_{u}\"\n",
    "# )"
   ]
  },
  {
   "cell_type": "code",
   "execution_count": 19,
   "id": "fd5442bc",
   "metadata": {
    "execution": {
     "iopub.execute_input": "2022-03-24T00:40:00.753780Z",
     "iopub.status.busy": "2022-03-24T00:40:00.753206Z",
     "iopub.status.idle": "2022-03-24T00:40:00.770978Z",
     "shell.execute_reply": "2022-03-24T00:40:00.770180Z"
    },
    "papermill": {
     "duration": 0.043453,
     "end_time": "2022-03-24T00:40:00.771129",
     "exception": false,
     "start_time": "2022-03-24T00:40:00.727676",
     "status": "completed"
    },
    "tags": []
   },
   "outputs": [],
   "source": [
    "###################################\n",
    "# Build the dataset\n",
    "###################################\n",
    "train_original_source = Iterable_Aggregator(train_original_source, p.seed)\n",
    "val_original_source = Iterable_Aggregator(val_original_source, p.seed)\n",
    "test_original_source = Iterable_Aggregator(test_original_source, p.seed)\n",
    "\n",
    "\n",
    "train_original_target = Iterable_Aggregator(train_original_target, p.seed)\n",
    "val_original_target = Iterable_Aggregator(val_original_target, p.seed)\n",
    "test_original_target = Iterable_Aggregator(test_original_target, p.seed)\n",
    "\n",
    "# For CNN We only use X and Y. And we only train on the source.\n",
    "# Properly form the data using a transform lambda and Lazy_Iterable_Wrapper. Finally wrap them in a dataloader\n",
    "\n",
    "transform_lambda = lambda ex: ex[1] # Original is (<domain>, <episode>) so we strip down to episode only\n",
    "\n",
    "train_processed_source = Lazy_Iterable_Wrapper(train_original_source, transform_lambda)\n",
    "val_processed_source   = Lazy_Iterable_Wrapper(val_original_source, transform_lambda)\n",
    "test_processed_source  = Lazy_Iterable_Wrapper(test_original_source, transform_lambda)\n",
    "\n",
    "train_processed_target = Lazy_Iterable_Wrapper(train_original_target, transform_lambda)\n",
    "val_processed_target   = Lazy_Iterable_Wrapper(val_original_target, transform_lambda)\n",
    "test_processed_target  = Lazy_Iterable_Wrapper(test_original_target, transform_lambda)\n",
    "\n",
    "datasets = EasyDict({\n",
    "    \"source\": {\n",
    "        \"original\": {\"train\":train_original_source, \"val\":val_original_source, \"test\":test_original_source},\n",
    "        \"processed\": {\"train\":train_processed_source, \"val\":val_processed_source, \"test\":test_processed_source}\n",
    "    },\n",
    "    \"target\": {\n",
    "        \"original\": {\"train\":train_original_target, \"val\":val_original_target, \"test\":test_original_target},\n",
    "        \"processed\": {\"train\":train_processed_target, \"val\":val_processed_target, \"test\":test_processed_target}\n",
    "    },\n",
    "})"
   ]
  },
  {
   "cell_type": "code",
   "execution_count": 20,
   "id": "5b3c01fc",
   "metadata": {
    "execution": {
     "iopub.execute_input": "2022-03-24T00:40:00.823416Z",
     "iopub.status.busy": "2022-03-24T00:40:00.823046Z",
     "iopub.status.idle": "2022-03-24T00:40:33.688858Z",
     "shell.execute_reply": "2022-03-24T00:40:33.689863Z"
    },
    "papermill": {
     "duration": 32.891591,
     "end_time": "2022-03-24T00:40:33.690158",
     "exception": false,
     "start_time": "2022-03-24T00:40:00.798567",
     "status": "completed"
    },
    "tags": []
   },
   "outputs": [
    {
     "name": "stdout",
     "output_type": "stream",
     "text": [
      "{'ORACLE.run120', 'ORACLE.run18', 'ORACLE.run114', 'ORACLE.run138', 'ORACLE.run126', 'ORACLE.run150', 'ORACLE.run144', 'ORACLE.run132'}\n"
     ]
    },
    {
     "name": "stdout",
     "output_type": "stream",
     "text": [
      "{'Wisig_4', 'Wisig_3', 'Wisig_2', 'Wisig_1'}\n"
     ]
    },
    {
     "name": "stdout",
     "output_type": "stream",
     "text": [
      "tensor([[[ 3.9064e-03, -2.3194e-03, -4.0895e-03,  ..., -4.5778e-04,\n",
      "           2.8687e-03, -7.5686e-03],\n",
      "         [ 4.2421e-03,  1.1902e-03,  2.1973e-03,  ...,  4.9440e-03,\n",
      "          -9.1556e-05, -8.5757e-03]],\n",
      "\n",
      "        [[ 7.5991e-03,  6.4699e-03, -5.1881e-03,  ...,  2.2584e-03,\n",
      "           2.7467e-04, -6.9277e-03],\n",
      "         [ 1.0376e-03, -1.0376e-03,  6.4699e-03,  ...,  8.5452e-04,\n",
      "          -3.5707e-03, -3.6317e-03]],\n",
      "\n",
      "        [[-2.7772e-03, -1.8006e-03, -3.2044e-03,  ..., -1.9227e-03,\n",
      "           1.9837e-03,  5.3407e-03],\n",
      "         [ 6.5310e-03, -1.3123e-03, -3.9979e-03,  ...,  6.1037e-03,\n",
      "          -6.1037e-04, -3.3265e-03]],\n",
      "\n",
      "        ...,\n",
      "\n",
      "        [[ 3.7843e-03, -2.4720e-03, -1.0041e-02,  ..., -1.2818e-03,\n",
      "           3.6317e-03,  3.1739e-03],\n",
      "         [-3.9979e-03, -6.4089e-04,  4.6083e-03,  ...,  5.6764e-03,\n",
      "           4.9745e-03, -8.3316e-03]],\n",
      "\n",
      "        [[-2.2279e-03,  7.9348e-04, -7.0193e-04,  ..., -4.6693e-03,\n",
      "          -3.6927e-03, -3.7843e-03],\n",
      "         [-4.5778e-03,  8.2400e-04,  1.1628e-02,  ...,  1.8311e-04,\n",
      "           4.5778e-04,  1.0681e-03]],\n",
      "\n",
      "        [[ 2.0753e-03,  1.8006e-03, -2.9603e-03,  ..., -5.8596e-03,\n",
      "          -3.8148e-03,  7.4770e-03],\n",
      "         [ 4.5167e-03, -3.8453e-03, -9.6438e-03,  ..., -2.8993e-03,\n",
      "           2.6551e-03,  5.4628e-03]]])\n"
     ]
    }
   ],
   "source": [
    "from steves_utils.transforms import get_average_magnitude, get_average_power\n",
    "\n",
    "print(set([u for u,_ in val_original_source]))\n",
    "print(set([u for u,_ in val_original_target]))\n",
    "\n",
    "s_x, s_y, q_x, q_y, _ = next(iter(train_processed_source))\n",
    "print(s_x)\n",
    "\n",
    "# for ds in [\n",
    "#     train_processed_source,\n",
    "#     val_processed_source,\n",
    "#     test_processed_source,\n",
    "#     train_processed_target,\n",
    "#     val_processed_target,\n",
    "#     test_processed_target\n",
    "# ]:\n",
    "#     for s_x, s_y, q_x, q_y, _ in ds:\n",
    "#         for X in (s_x, q_x):\n",
    "#             for x in X:\n",
    "#                 assert np.isclose(get_average_magnitude(x.numpy()), 1.0)\n",
    "#                 assert np.isclose(get_average_power(x.numpy()), 1.0)\n",
    "                "
   ]
  },
  {
   "cell_type": "code",
   "execution_count": 21,
   "id": "bbdacba1",
   "metadata": {
    "execution": {
     "iopub.execute_input": "2022-03-24T00:40:33.746566Z",
     "iopub.status.busy": "2022-03-24T00:40:33.746187Z",
     "iopub.status.idle": "2022-03-24T00:40:33.975446Z",
     "shell.execute_reply": "2022-03-24T00:40:33.975095Z"
    },
    "papermill": {
     "duration": 0.257038,
     "end_time": "2022-03-24T00:40:33.975554",
     "exception": false,
     "start_time": "2022-03-24T00:40:33.718516",
     "status": "completed"
    },
    "tags": []
   },
   "outputs": [
    {
     "name": "stdout",
     "output_type": "stream",
     "text": [
      "(2, 256)\n"
     ]
    }
   ],
   "source": [
    "###################################\n",
    "# Build the model\n",
    "###################################\n",
    "# easfsl only wants a tuple for the shape\n",
    "model = Steves_Prototypical_Network(x_net, device=p.device, x_shape=tuple(p.x_shape))\n",
    "optimizer = Adam(params=model.parameters(), lr=p.lr)"
   ]
  },
  {
   "cell_type": "code",
   "execution_count": 22,
   "id": "22b39ac5",
   "metadata": {
    "execution": {
     "iopub.execute_input": "2022-03-24T00:40:34.023553Z",
     "iopub.status.busy": "2022-03-24T00:40:34.023172Z",
     "iopub.status.idle": "2022-03-24T03:32:23.538252Z",
     "shell.execute_reply": "2022-03-24T03:32:23.537905Z"
    },
    "papermill": {
     "duration": 10309.540201,
     "end_time": "2022-03-24T03:32:23.538340",
     "exception": false,
     "start_time": "2022-03-24T00:40:33.998139",
     "status": "completed"
    },
    "tags": []
   },
   "outputs": [
    {
     "name": "stdout",
     "output_type": "stream",
     "text": [
      "epoch: 1, [batch: 1 / 33600], examples_per_second: 6.6427, train_label_loss: 2.7092, \n"
     ]
    },
    {
     "name": "stdout",
     "output_type": "stream",
     "text": [
      "epoch: 1, [batch: 3360 / 33600], examples_per_second: 2964.2433, train_label_loss: 1.1881, \n"
     ]
    },
    {
     "name": "stdout",
     "output_type": "stream",
     "text": [
      "epoch: 1, [batch: 6720 / 33600], examples_per_second: 2972.9914, train_label_loss: 0.6692, \n"
     ]
    },
    {
     "name": "stdout",
     "output_type": "stream",
     "text": [
      "epoch: 1, [batch: 10080 / 33600], examples_per_second: 2953.7811, train_label_loss: 0.8758, \n"
     ]
    },
    {
     "name": "stdout",
     "output_type": "stream",
     "text": [
      "epoch: 1, [batch: 13440 / 33600], examples_per_second: 2942.5136, train_label_loss: 0.4661, \n"
     ]
    },
    {
     "name": "stdout",
     "output_type": "stream",
     "text": [
      "epoch: 1, [batch: 16800 / 33600], examples_per_second: 2946.0467, train_label_loss: 0.5840, \n"
     ]
    },
    {
     "name": "stdout",
     "output_type": "stream",
     "text": [
      "epoch: 1, [batch: 20160 / 33600], examples_per_second: 3044.2265, train_label_loss: 0.4137, \n"
     ]
    },
    {
     "name": "stdout",
     "output_type": "stream",
     "text": [
      "epoch: 1, [batch: 23520 / 33600], examples_per_second: 3419.5398, train_label_loss: 0.5932, \n"
     ]
    },
    {
     "name": "stdout",
     "output_type": "stream",
     "text": [
      "epoch: 1, [batch: 26880 / 33600], examples_per_second: 3320.3069, train_label_loss: 0.3773, \n"
     ]
    },
    {
     "name": "stdout",
     "output_type": "stream",
     "text": [
      "epoch: 1, [batch: 30240 / 33600], examples_per_second: 3043.8907, train_label_loss: 0.4046, \n"
     ]
    },
    {
     "name": "stdout",
     "output_type": "stream",
     "text": [
      "=============================================================\n",
      "epoch: 1, source_val_acc_label: 0.7813, target_val_acc_label: 0.7821, source_val_label_loss: 0.7662, target_val_label_loss: 265.3663, \n",
      "=============================================================\n"
     ]
    },
    {
     "name": "stdout",
     "output_type": "stream",
     "text": [
      "New best\n"
     ]
    },
    {
     "name": "stdout",
     "output_type": "stream",
     "text": [
      "epoch: 2, [batch: 1 / 33600], examples_per_second: 0.8547, train_label_loss: 0.3865, \n"
     ]
    },
    {
     "name": "stdout",
     "output_type": "stream",
     "text": [
      "epoch: 2, [batch: 3360 / 33600], examples_per_second: 2990.4851, train_label_loss: 0.5033, \n"
     ]
    },
    {
     "name": "stdout",
     "output_type": "stream",
     "text": [
      "epoch: 2, [batch: 6720 / 33600], examples_per_second: 2974.2598, train_label_loss: 0.2613, \n"
     ]
    },
    {
     "name": "stdout",
     "output_type": "stream",
     "text": [
      "epoch: 2, [batch: 10080 / 33600], examples_per_second: 2985.0607, train_label_loss: 0.3245, \n"
     ]
    },
    {
     "name": "stdout",
     "output_type": "stream",
     "text": [
      "epoch: 2, [batch: 13440 / 33600], examples_per_second: 2998.8914, train_label_loss: 0.2505, \n"
     ]
    },
    {
     "name": "stdout",
     "output_type": "stream",
     "text": [
      "epoch: 2, [batch: 16800 / 33600], examples_per_second: 3018.2887, train_label_loss: 0.1614, \n"
     ]
    },
    {
     "name": "stdout",
     "output_type": "stream",
     "text": [
      "epoch: 2, [batch: 20160 / 33600], examples_per_second: 3006.1533, train_label_loss: 0.2311, \n"
     ]
    },
    {
     "name": "stdout",
     "output_type": "stream",
     "text": [
      "epoch: 2, [batch: 23520 / 33600], examples_per_second: 3337.3817, train_label_loss: 0.3060, \n"
     ]
    },
    {
     "name": "stdout",
     "output_type": "stream",
     "text": [
      "epoch: 2, [batch: 26880 / 33600], examples_per_second: 3443.6628, train_label_loss: 0.5222, \n"
     ]
    },
    {
     "name": "stdout",
     "output_type": "stream",
     "text": [
      "epoch: 2, [batch: 30240 / 33600], examples_per_second: 3009.3225, train_label_loss: 0.3255, \n"
     ]
    },
    {
     "name": "stdout",
     "output_type": "stream",
     "text": [
      "=============================================================\n",
      "epoch: 2, source_val_acc_label: 0.8516, target_val_acc_label: 0.8360, source_val_label_loss: 0.4055, target_val_label_loss: 77.2801, \n",
      "=============================================================\n"
     ]
    },
    {
     "name": "stdout",
     "output_type": "stream",
     "text": [
      "New best\n"
     ]
    },
    {
     "name": "stdout",
     "output_type": "stream",
     "text": [
      "epoch: 3, [batch: 1 / 33600], examples_per_second: 0.8763, train_label_loss: 0.7251, \n"
     ]
    },
    {
     "name": "stdout",
     "output_type": "stream",
     "text": [
      "epoch: 3, [batch: 3360 / 33600], examples_per_second: 2991.6753, train_label_loss: 0.2779, \n"
     ]
    },
    {
     "name": "stdout",
     "output_type": "stream",
     "text": [
      "epoch: 3, [batch: 6720 / 33600], examples_per_second: 3000.9822, train_label_loss: 0.4423, \n"
     ]
    },
    {
     "name": "stdout",
     "output_type": "stream",
     "text": [
      "epoch: 3, [batch: 10080 / 33600], examples_per_second: 3014.6343, train_label_loss: 0.4547, \n"
     ]
    },
    {
     "name": "stdout",
     "output_type": "stream",
     "text": [
      "epoch: 3, [batch: 13440 / 33600], examples_per_second: 2991.2552, train_label_loss: 0.2024, \n"
     ]
    },
    {
     "name": "stdout",
     "output_type": "stream",
     "text": [
      "epoch: 3, [batch: 16800 / 33600], examples_per_second: 2978.6930, train_label_loss: 0.4777, \n"
     ]
    },
    {
     "name": "stdout",
     "output_type": "stream",
     "text": [
      "epoch: 3, [batch: 20160 / 33600], examples_per_second: 2973.6242, train_label_loss: 0.4768, \n"
     ]
    },
    {
     "name": "stdout",
     "output_type": "stream",
     "text": [
      "epoch: 3, [batch: 23520 / 33600], examples_per_second: 3317.2396, train_label_loss: 0.4352, \n"
     ]
    },
    {
     "name": "stdout",
     "output_type": "stream",
     "text": [
      "epoch: 3, [batch: 26880 / 33600], examples_per_second: 3527.0295, train_label_loss: 0.3873, \n"
     ]
    },
    {
     "name": "stdout",
     "output_type": "stream",
     "text": [
      "epoch: 3, [batch: 30240 / 33600], examples_per_second: 2982.8343, train_label_loss: 0.1555, \n"
     ]
    },
    {
     "name": "stdout",
     "output_type": "stream",
     "text": [
      "=============================================================\n",
      "epoch: 3, source_val_acc_label: 0.8650, target_val_acc_label: 0.8423, source_val_label_loss: 0.3831, target_val_label_loss: 92.6444, \n",
      "=============================================================\n"
     ]
    },
    {
     "name": "stdout",
     "output_type": "stream",
     "text": [
      "New best\n"
     ]
    },
    {
     "name": "stdout",
     "output_type": "stream",
     "text": [
      "epoch: 4, [batch: 1 / 33600], examples_per_second: 0.8667, train_label_loss: 0.3054, \n"
     ]
    },
    {
     "name": "stdout",
     "output_type": "stream",
     "text": [
      "epoch: 4, [batch: 3360 / 33600], examples_per_second: 2981.1539, train_label_loss: 0.7799, \n"
     ]
    },
    {
     "name": "stdout",
     "output_type": "stream",
     "text": [
      "epoch: 4, [batch: 6720 / 33600], examples_per_second: 2966.9054, train_label_loss: 0.3944, \n"
     ]
    },
    {
     "name": "stdout",
     "output_type": "stream",
     "text": [
      "epoch: 4, [batch: 10080 / 33600], examples_per_second: 3032.9138, train_label_loss: 0.1445, \n"
     ]
    },
    {
     "name": "stdout",
     "output_type": "stream",
     "text": [
      "epoch: 4, [batch: 13440 / 33600], examples_per_second: 2935.6321, train_label_loss: 0.2116, \n"
     ]
    },
    {
     "name": "stdout",
     "output_type": "stream",
     "text": [
      "epoch: 4, [batch: 16800 / 33600], examples_per_second: 2970.8491, train_label_loss: 0.4621, \n"
     ]
    },
    {
     "name": "stdout",
     "output_type": "stream",
     "text": [
      "epoch: 4, [batch: 20160 / 33600], examples_per_second: 2991.2826, train_label_loss: 0.7511, \n"
     ]
    },
    {
     "name": "stdout",
     "output_type": "stream",
     "text": [
      "epoch: 4, [batch: 23520 / 33600], examples_per_second: 3256.3482, train_label_loss: 0.6155, \n"
     ]
    },
    {
     "name": "stdout",
     "output_type": "stream",
     "text": [
      "epoch: 4, [batch: 26880 / 33600], examples_per_second: 3581.2608, train_label_loss: 0.3409, \n"
     ]
    },
    {
     "name": "stdout",
     "output_type": "stream",
     "text": [
      "epoch: 4, [batch: 30240 / 33600], examples_per_second: 3091.6187, train_label_loss: 0.4441, \n"
     ]
    },
    {
     "name": "stdout",
     "output_type": "stream",
     "text": [
      "=============================================================\n",
      "epoch: 4, source_val_acc_label: 0.8705, target_val_acc_label: 0.8430, source_val_label_loss: 0.3590, target_val_label_loss: 103.9061, \n",
      "=============================================================\n"
     ]
    },
    {
     "name": "stdout",
     "output_type": "stream",
     "text": [
      "New best\n"
     ]
    },
    {
     "name": "stdout",
     "output_type": "stream",
     "text": [
      "epoch: 5, [batch: 1 / 33600], examples_per_second: 0.8458, train_label_loss: 0.5829, \n"
     ]
    },
    {
     "name": "stdout",
     "output_type": "stream",
     "text": [
      "epoch: 5, [batch: 3360 / 33600], examples_per_second: 2999.7457, train_label_loss: 0.4689, \n"
     ]
    },
    {
     "name": "stdout",
     "output_type": "stream",
     "text": [
      "epoch: 5, [batch: 6720 / 33600], examples_per_second: 2987.8404, train_label_loss: 0.1609, \n"
     ]
    },
    {
     "name": "stdout",
     "output_type": "stream",
     "text": [
      "epoch: 5, [batch: 10080 / 33600], examples_per_second: 2992.3490, train_label_loss: 0.6900, \n"
     ]
    },
    {
     "name": "stdout",
     "output_type": "stream",
     "text": [
      "epoch: 5, [batch: 13440 / 33600], examples_per_second: 2992.9296, train_label_loss: 0.3021, \n"
     ]
    },
    {
     "name": "stdout",
     "output_type": "stream",
     "text": [
      "epoch: 5, [batch: 16800 / 33600], examples_per_second: 3003.9634, train_label_loss: 0.1676, \n"
     ]
    },
    {
     "name": "stdout",
     "output_type": "stream",
     "text": [
      "epoch: 5, [batch: 20160 / 33600], examples_per_second: 2978.0068, train_label_loss: 0.1826, \n"
     ]
    },
    {
     "name": "stdout",
     "output_type": "stream",
     "text": [
      "epoch: 5, [batch: 23520 / 33600], examples_per_second: 3150.0198, train_label_loss: 0.1952, \n"
     ]
    },
    {
     "name": "stdout",
     "output_type": "stream",
     "text": [
      "epoch: 5, [batch: 26880 / 33600], examples_per_second: 3478.4803, train_label_loss: 0.1807, \n"
     ]
    },
    {
     "name": "stdout",
     "output_type": "stream",
     "text": [
      "epoch: 5, [batch: 30240 / 33600], examples_per_second: 3183.2686, train_label_loss: 0.2737, \n"
     ]
    },
    {
     "name": "stdout",
     "output_type": "stream",
     "text": [
      "=============================================================\n",
      "epoch: 5, source_val_acc_label: 0.8791, target_val_acc_label: 0.8447, source_val_label_loss: 0.3572, target_val_label_loss: 148.3987, \n",
      "=============================================================\n"
     ]
    },
    {
     "name": "stdout",
     "output_type": "stream",
     "text": [
      "New best\n"
     ]
    },
    {
     "name": "stdout",
     "output_type": "stream",
     "text": [
      "epoch: 6, [batch: 1 / 33600], examples_per_second: 0.8290, train_label_loss: 0.2406, \n"
     ]
    },
    {
     "name": "stdout",
     "output_type": "stream",
     "text": [
      "epoch: 6, [batch: 3360 / 33600], examples_per_second: 3013.0259, train_label_loss: 0.2366, \n"
     ]
    },
    {
     "name": "stdout",
     "output_type": "stream",
     "text": [
      "epoch: 6, [batch: 6720 / 33600], examples_per_second: 2983.4850, train_label_loss: 0.0541, \n"
     ]
    },
    {
     "name": "stdout",
     "output_type": "stream",
     "text": [
      "epoch: 6, [batch: 10080 / 33600], examples_per_second: 2989.4778, train_label_loss: 0.7316, \n"
     ]
    },
    {
     "name": "stdout",
     "output_type": "stream",
     "text": [
      "epoch: 6, [batch: 13440 / 33600], examples_per_second: 2975.1302, train_label_loss: 0.3507, \n"
     ]
    },
    {
     "name": "stdout",
     "output_type": "stream",
     "text": [
      "epoch: 6, [batch: 16800 / 33600], examples_per_second: 2993.3530, train_label_loss: 0.3383, \n"
     ]
    },
    {
     "name": "stdout",
     "output_type": "stream",
     "text": [
      "epoch: 6, [batch: 20160 / 33600], examples_per_second: 3015.5482, train_label_loss: 0.0631, \n"
     ]
    },
    {
     "name": "stdout",
     "output_type": "stream",
     "text": [
      "epoch: 6, [batch: 23520 / 33600], examples_per_second: 3081.4011, train_label_loss: 0.1755, \n"
     ]
    },
    {
     "name": "stdout",
     "output_type": "stream",
     "text": [
      "epoch: 6, [batch: 26880 / 33600], examples_per_second: 3436.1593, train_label_loss: 0.3878, \n"
     ]
    },
    {
     "name": "stdout",
     "output_type": "stream",
     "text": [
      "epoch: 6, [batch: 30240 / 33600], examples_per_second: 3289.2350, train_label_loss: 0.1773, \n"
     ]
    },
    {
     "name": "stdout",
     "output_type": "stream",
     "text": [
      "=============================================================\n",
      "epoch: 6, source_val_acc_label: 0.8764, target_val_acc_label: 0.8460, source_val_label_loss: 0.3461, target_val_label_loss: 157.9869, \n",
      "=============================================================\n"
     ]
    },
    {
     "name": "stdout",
     "output_type": "stream",
     "text": [
      "New best\n"
     ]
    },
    {
     "name": "stdout",
     "output_type": "stream",
     "text": [
      "epoch: 7, [batch: 1 / 33600], examples_per_second: 0.8146, train_label_loss: 0.5212, \n"
     ]
    },
    {
     "name": "stdout",
     "output_type": "stream",
     "text": [
      "epoch: 7, [batch: 3360 / 33600], examples_per_second: 2981.0054, train_label_loss: 0.3380, \n"
     ]
    },
    {
     "name": "stdout",
     "output_type": "stream",
     "text": [
      "epoch: 7, [batch: 6720 / 33600], examples_per_second: 2987.8930, train_label_loss: 0.0521, \n"
     ]
    },
    {
     "name": "stdout",
     "output_type": "stream",
     "text": [
      "epoch: 7, [batch: 10080 / 33600], examples_per_second: 2980.9735, train_label_loss: 0.1679, \n"
     ]
    },
    {
     "name": "stdout",
     "output_type": "stream",
     "text": [
      "epoch: 7, [batch: 13440 / 33600], examples_per_second: 2973.1641, train_label_loss: 0.2258, \n"
     ]
    },
    {
     "name": "stdout",
     "output_type": "stream",
     "text": [
      "epoch: 7, [batch: 16800 / 33600], examples_per_second: 2998.5883, train_label_loss: 0.2467, \n"
     ]
    },
    {
     "name": "stdout",
     "output_type": "stream",
     "text": [
      "epoch: 7, [batch: 20160 / 33600], examples_per_second: 2968.8569, train_label_loss: 0.3225, \n"
     ]
    },
    {
     "name": "stdout",
     "output_type": "stream",
     "text": [
      "epoch: 7, [batch: 23520 / 33600], examples_per_second: 3074.7256, train_label_loss: 0.1124, \n"
     ]
    },
    {
     "name": "stdout",
     "output_type": "stream",
     "text": [
      "epoch: 7, [batch: 26880 / 33600], examples_per_second: 3404.4743, train_label_loss: 0.2321, \n"
     ]
    },
    {
     "name": "stdout",
     "output_type": "stream",
     "text": [
      "epoch: 7, [batch: 30240 / 33600], examples_per_second: 3312.5192, train_label_loss: 0.2010, \n"
     ]
    },
    {
     "name": "stdout",
     "output_type": "stream",
     "text": [
      "=============================================================\n",
      "epoch: 7, source_val_acc_label: 0.8780, target_val_acc_label: 0.8654, source_val_label_loss: 0.3462, target_val_label_loss: 112.5109, \n",
      "=============================================================\n"
     ]
    },
    {
     "name": "stdout",
     "output_type": "stream",
     "text": [
      "New best\n"
     ]
    },
    {
     "name": "stdout",
     "output_type": "stream",
     "text": [
      "epoch: 8, [batch: 1 / 33600], examples_per_second: 0.8148, train_label_loss: 0.2188, \n"
     ]
    },
    {
     "name": "stdout",
     "output_type": "stream",
     "text": [
      "epoch: 8, [batch: 3360 / 33600], examples_per_second: 2994.9843, train_label_loss: 0.3728, \n"
     ]
    },
    {
     "name": "stdout",
     "output_type": "stream",
     "text": [
      "epoch: 8, [batch: 6720 / 33600], examples_per_second: 2980.9737, train_label_loss: 0.1942, \n"
     ]
    },
    {
     "name": "stdout",
     "output_type": "stream",
     "text": [
      "epoch: 8, [batch: 10080 / 33600], examples_per_second: 2992.4904, train_label_loss: 0.0879, \n"
     ]
    },
    {
     "name": "stdout",
     "output_type": "stream",
     "text": [
      "epoch: 8, [batch: 13440 / 33600], examples_per_second: 2973.9939, train_label_loss: 0.2873, \n"
     ]
    },
    {
     "name": "stdout",
     "output_type": "stream",
     "text": [
      "epoch: 8, [batch: 16800 / 33600], examples_per_second: 2983.0268, train_label_loss: 0.2889, \n"
     ]
    },
    {
     "name": "stdout",
     "output_type": "stream",
     "text": [
      "epoch: 8, [batch: 20160 / 33600], examples_per_second: 2980.5884, train_label_loss: 0.2181, \n"
     ]
    },
    {
     "name": "stdout",
     "output_type": "stream",
     "text": [
      "epoch: 8, [batch: 23520 / 33600], examples_per_second: 3058.0028, train_label_loss: 0.4437, \n"
     ]
    },
    {
     "name": "stdout",
     "output_type": "stream",
     "text": [
      "epoch: 8, [batch: 26880 / 33600], examples_per_second: 3429.0802, train_label_loss: 0.1873, \n"
     ]
    },
    {
     "name": "stdout",
     "output_type": "stream",
     "text": [
      "epoch: 8, [batch: 30240 / 33600], examples_per_second: 3353.2958, train_label_loss: 0.2931, \n"
     ]
    },
    {
     "name": "stdout",
     "output_type": "stream",
     "text": [
      "=============================================================\n",
      "epoch: 8, source_val_acc_label: 0.8800, target_val_acc_label: 0.8550, source_val_label_loss: 0.3385, target_val_label_loss: 152.2556, \n",
      "=============================================================\n"
     ]
    },
    {
     "name": "stdout",
     "output_type": "stream",
     "text": [
      "epoch: 9, [batch: 1 / 33600], examples_per_second: 0.7954, train_label_loss: 0.0331, \n"
     ]
    },
    {
     "name": "stdout",
     "output_type": "stream",
     "text": [
      "epoch: 9, [batch: 3360 / 33600], examples_per_second: 3446.0786, train_label_loss: 0.1333, \n"
     ]
    },
    {
     "name": "stdout",
     "output_type": "stream",
     "text": [
      "epoch: 9, [batch: 6720 / 33600], examples_per_second: 3458.8254, train_label_loss: 0.1973, \n"
     ]
    },
    {
     "name": "stdout",
     "output_type": "stream",
     "text": [
      "epoch: 9, [batch: 10080 / 33600], examples_per_second: 3474.1805, train_label_loss: 0.2460, \n"
     ]
    },
    {
     "name": "stdout",
     "output_type": "stream",
     "text": [
      "epoch: 9, [batch: 13440 / 33600], examples_per_second: 3346.1526, train_label_loss: 0.1617, \n"
     ]
    },
    {
     "name": "stdout",
     "output_type": "stream",
     "text": [
      "epoch: 9, [batch: 16800 / 33600], examples_per_second: 3640.0753, train_label_loss: 0.4339, \n"
     ]
    },
    {
     "name": "stdout",
     "output_type": "stream",
     "text": [
      "epoch: 9, [batch: 20160 / 33600], examples_per_second: 3932.8228, train_label_loss: 0.1896, \n"
     ]
    },
    {
     "name": "stdout",
     "output_type": "stream",
     "text": [
      "epoch: 9, [batch: 23520 / 33600], examples_per_second: 4010.8182, train_label_loss: 0.1584, \n"
     ]
    },
    {
     "name": "stdout",
     "output_type": "stream",
     "text": [
      "epoch: 9, [batch: 26880 / 33600], examples_per_second: 4518.6748, train_label_loss: 0.4281, \n"
     ]
    },
    {
     "name": "stdout",
     "output_type": "stream",
     "text": [
      "epoch: 9, [batch: 30240 / 33600], examples_per_second: 4185.0372, train_label_loss: 0.0783, \n"
     ]
    },
    {
     "name": "stdout",
     "output_type": "stream",
     "text": [
      "=============================================================\n",
      "epoch: 9, source_val_acc_label: 0.8808, target_val_acc_label: 0.8635, source_val_label_loss: 0.3342, target_val_label_loss: 142.3462, \n",
      "=============================================================\n"
     ]
    },
    {
     "name": "stdout",
     "output_type": "stream",
     "text": [
      "epoch: 10, [batch: 1 / 33600], examples_per_second: 1.0120, train_label_loss: 0.1019, \n"
     ]
    },
    {
     "name": "stdout",
     "output_type": "stream",
     "text": [
      "epoch: 10, [batch: 3360 / 33600], examples_per_second: 3001.0768, train_label_loss: 0.1074, \n"
     ]
    },
    {
     "name": "stdout",
     "output_type": "stream",
     "text": [
      "epoch: 10, [batch: 6720 / 33600], examples_per_second: 2973.5596, train_label_loss: 0.2620, \n"
     ]
    },
    {
     "name": "stdout",
     "output_type": "stream",
     "text": [
      "epoch: 10, [batch: 10080 / 33600], examples_per_second: 3369.0693, train_label_loss: 0.2413, \n"
     ]
    },
    {
     "name": "stdout",
     "output_type": "stream",
     "text": [
      "epoch: 10, [batch: 13440 / 33600], examples_per_second: 3209.6422, train_label_loss: 0.3870, \n"
     ]
    },
    {
     "name": "stdout",
     "output_type": "stream",
     "text": [
      "epoch: 10, [batch: 16800 / 33600], examples_per_second: 3013.7539, train_label_loss: 0.2148, \n"
     ]
    },
    {
     "name": "stdout",
     "output_type": "stream",
     "text": [
      "epoch: 10, [batch: 20160 / 33600], examples_per_second: 3188.9791, train_label_loss: 0.0468, \n"
     ]
    },
    {
     "name": "stdout",
     "output_type": "stream",
     "text": [
      "epoch: 10, [batch: 23520 / 33600], examples_per_second: 3472.5867, train_label_loss: 0.3389, \n"
     ]
    },
    {
     "name": "stdout",
     "output_type": "stream",
     "text": [
      "epoch: 10, [batch: 26880 / 33600], examples_per_second: 3405.9151, train_label_loss: 0.2168, \n"
     ]
    },
    {
     "name": "stdout",
     "output_type": "stream",
     "text": [
      "epoch: 10, [batch: 30240 / 33600], examples_per_second: 3425.2969, train_label_loss: 0.2262, \n"
     ]
    },
    {
     "name": "stdout",
     "output_type": "stream",
     "text": [
      "=============================================================\n",
      "epoch: 10, source_val_acc_label: 0.8827, target_val_acc_label: 0.8528, source_val_label_loss: 0.3413, target_val_label_loss: 193.0942, \n",
      "=============================================================\n"
     ]
    },
    {
     "name": "stdout",
     "output_type": "stream",
     "text": [
      "epoch: 11, [batch: 1 / 33600], examples_per_second: 0.9311, train_label_loss: 0.2262, \n"
     ]
    },
    {
     "name": "stdout",
     "output_type": "stream",
     "text": [
      "epoch: 11, [batch: 3360 / 33600], examples_per_second: 3445.3741, train_label_loss: 0.3241, \n"
     ]
    },
    {
     "name": "stdout",
     "output_type": "stream",
     "text": [
      "epoch: 11, [batch: 6720 / 33600], examples_per_second: 4041.9506, train_label_loss: 0.0991, \n"
     ]
    },
    {
     "name": "stdout",
     "output_type": "stream",
     "text": [
      "epoch: 11, [batch: 10080 / 33600], examples_per_second: 4010.1110, train_label_loss: 0.0641, \n"
     ]
    },
    {
     "name": "stdout",
     "output_type": "stream",
     "text": [
      "epoch: 11, [batch: 13440 / 33600], examples_per_second: 3945.1319, train_label_loss: 0.3054, \n"
     ]
    },
    {
     "name": "stdout",
     "output_type": "stream",
     "text": [
      "epoch: 11, [batch: 16800 / 33600], examples_per_second: 4305.1131, train_label_loss: 0.2713, \n"
     ]
    },
    {
     "name": "stdout",
     "output_type": "stream",
     "text": [
      "epoch: 11, [batch: 20160 / 33600], examples_per_second: 4532.8519, train_label_loss: 0.2217, \n"
     ]
    },
    {
     "name": "stdout",
     "output_type": "stream",
     "text": [
      "epoch: 11, [batch: 23520 / 33600], examples_per_second: 4362.6842, train_label_loss: 0.1287, \n"
     ]
    },
    {
     "name": "stdout",
     "output_type": "stream",
     "text": [
      "epoch: 11, [batch: 26880 / 33600], examples_per_second: 4286.3858, train_label_loss: 0.0717, \n"
     ]
    },
    {
     "name": "stdout",
     "output_type": "stream",
     "text": [
      "epoch: 11, [batch: 30240 / 33600], examples_per_second: 3795.9047, train_label_loss: 0.0745, \n"
     ]
    },
    {
     "name": "stdout",
     "output_type": "stream",
     "text": [
      "=============================================================\n",
      "epoch: 11, source_val_acc_label: 0.8856, target_val_acc_label: 0.8567, source_val_label_loss: 0.3302, target_val_label_loss: 191.8676, \n",
      "=============================================================\n"
     ]
    },
    {
     "name": "stdout",
     "output_type": "stream",
     "text": [
      "Patience (3) exhausted\n"
     ]
    }
   ],
   "source": [
    "###################################\n",
    "# train\n",
    "###################################\n",
    "jig = PTN_Train_Eval_Test_Jig(model, p.BEST_MODEL_PATH, p.device)\n",
    "\n",
    "jig.train(\n",
    "    train_iterable=datasets.source.processed.train,\n",
    "    source_val_iterable=datasets.source.processed.val,\n",
    "    target_val_iterable=datasets.target.processed.val,\n",
    "    num_epochs=p.n_epoch,\n",
    "    num_logs_per_epoch=p.NUM_LOGS_PER_EPOCH,\n",
    "    patience=p.patience,\n",
    "    optimizer=optimizer,\n",
    "    criteria_for_best=p.criteria_for_best,\n",
    ")"
   ]
  },
  {
   "cell_type": "code",
   "execution_count": 23,
   "id": "31e8fabf",
   "metadata": {
    "execution": {
     "iopub.execute_input": "2022-03-24T03:32:23.669425Z",
     "iopub.status.busy": "2022-03-24T03:32:23.668580Z",
     "iopub.status.idle": "2022-03-24T03:32:23.699940Z",
     "shell.execute_reply": "2022-03-24T03:32:23.699217Z"
    },
    "papermill": {
     "duration": 0.105462,
     "end_time": "2022-03-24T03:32:23.700114",
     "exception": false,
     "start_time": "2022-03-24T03:32:23.594652",
     "status": "completed"
    },
    "tags": []
   },
   "outputs": [],
   "source": [
    "total_experiment_time_secs = time.time() - start_time_secs"
   ]
  },
  {
   "cell_type": "code",
   "execution_count": 24,
   "id": "87b9595b",
   "metadata": {
    "execution": {
     "iopub.execute_input": "2022-03-24T03:32:23.830813Z",
     "iopub.status.busy": "2022-03-24T03:32:23.830214Z",
     "iopub.status.idle": "2022-03-24T03:40:32.561457Z",
     "shell.execute_reply": "2022-03-24T03:40:32.560676Z"
    },
    "papermill": {
     "duration": 488.79915,
     "end_time": "2022-03-24T03:40:32.561644",
     "exception": false,
     "start_time": "2022-03-24T03:32:23.762494",
     "status": "completed"
    },
    "tags": []
   },
   "outputs": [],
   "source": [
    "###################################\n",
    "# Evaluate the model\n",
    "###################################\n",
    "source_test_label_accuracy, source_test_label_loss = jig.test(datasets.source.processed.test)\n",
    "target_test_label_accuracy, target_test_label_loss = jig.test(datasets.target.processed.test)\n",
    "\n",
    "source_val_label_accuracy, source_val_label_loss = jig.test(datasets.source.processed.val)\n",
    "target_val_label_accuracy, target_val_label_loss = jig.test(datasets.target.processed.val)\n",
    "\n",
    "history = jig.get_history()\n",
    "\n",
    "total_epochs_trained = len(history[\"epoch_indices\"])\n",
    "\n",
    "val_dl = Iterable_Aggregator((datasets.source.original.val,datasets.target.original.val))\n",
    "\n",
    "confusion = ptn_confusion_by_domain_over_dataloader(model, p.device, val_dl)\n",
    "per_domain_accuracy = per_domain_accuracy_from_confusion(confusion)\n",
    "\n",
    "# Add a key to per_domain_accuracy for if it was a source domain\n",
    "for domain, accuracy in per_domain_accuracy.items():\n",
    "    per_domain_accuracy[domain] = {\n",
    "        \"accuracy\": accuracy,\n",
    "        \"source?\": domain in p.domains_source\n",
    "    }\n",
    "\n",
    "# Do an independent accuracy assesment JUST TO BE SURE!\n",
    "# _source_test_label_accuracy = independent_accuracy_assesment(model, datasets.source.processed.test, p.device)\n",
    "# _target_test_label_accuracy = independent_accuracy_assesment(model, datasets.target.processed.test, p.device)\n",
    "# _source_val_label_accuracy = independent_accuracy_assesment(model, datasets.source.processed.val, p.device)\n",
    "# _target_val_label_accuracy = independent_accuracy_assesment(model, datasets.target.processed.val, p.device)\n",
    "\n",
    "# assert(_source_test_label_accuracy == source_test_label_accuracy)\n",
    "# assert(_target_test_label_accuracy == target_test_label_accuracy)\n",
    "# assert(_source_val_label_accuracy == source_val_label_accuracy)\n",
    "# assert(_target_val_label_accuracy == target_val_label_accuracy)\n",
    "\n",
    "experiment = {\n",
    "    \"experiment_name\": p.experiment_name,\n",
    "    \"parameters\": dict(p),\n",
    "    \"results\": {\n",
    "        \"source_test_label_accuracy\": source_test_label_accuracy,\n",
    "        \"source_test_label_loss\": source_test_label_loss,\n",
    "        \"target_test_label_accuracy\": target_test_label_accuracy,\n",
    "        \"target_test_label_loss\": target_test_label_loss,\n",
    "        \"source_val_label_accuracy\": source_val_label_accuracy,\n",
    "        \"source_val_label_loss\": source_val_label_loss,\n",
    "        \"target_val_label_accuracy\": target_val_label_accuracy,\n",
    "        \"target_val_label_loss\": target_val_label_loss,\n",
    "        \"total_epochs_trained\": total_epochs_trained,\n",
    "        \"total_experiment_time_secs\": total_experiment_time_secs,\n",
    "        \"confusion\": confusion,\n",
    "        \"per_domain_accuracy\": per_domain_accuracy,\n",
    "    },\n",
    "    \"history\": history,\n",
    "    \"dataset_metrics\": get_dataset_metrics(datasets, \"ptn\"),\n",
    "}"
   ]
  },
  {
   "cell_type": "code",
   "execution_count": 25,
   "id": "54a21829",
   "metadata": {
    "execution": {
     "iopub.execute_input": "2022-03-24T03:40:32.704058Z",
     "iopub.status.busy": "2022-03-24T03:40:32.703680Z",
     "iopub.status.idle": "2022-03-24T03:40:33.035128Z",
     "shell.execute_reply": "2022-03-24T03:40:33.035851Z"
    },
    "papermill": {
     "duration": 0.397316,
     "end_time": "2022-03-24T03:40:33.036046",
     "exception": false,
     "start_time": "2022-03-24T03:40:32.638730",
     "status": "completed"
    },
    "tags": []
   },
   "outputs": [
    {
     "data": {
      "image/png": "[encoded data removed]",
      "text/plain": [
       "<Figure size 1080x504 with 1 Axes>"
      ]
     },
     "metadata": {
      "needs_background": "light"
     },
     "output_type": "display_data"
    }
   ],
   "source": [
    "ax = get_loss_curve(experiment)\n",
    "plt.show()"
   ]
  },
  {
   "cell_type": "code",
   "execution_count": 26,
   "id": "fd8a0f60",
   "metadata": {
    "execution": {
     "iopub.execute_input": "2022-03-24T03:40:33.170804Z",
     "iopub.status.busy": "2022-03-24T03:40:33.170428Z",
     "iopub.status.idle": "2022-03-24T03:40:33.492755Z",
     "shell.execute_reply": "2022-03-24T03:40:33.493438Z"
    },
    "papermill": {
     "duration": 0.391259,
     "end_time": "2022-03-24T03:40:33.493627",
     "exception": false,
     "start_time": "2022-03-24T03:40:33.102368",
     "status": "completed"
    },
    "tags": []
   },
   "outputs": [
    {
     "data": {
      "text/plain": [
       "<AxesSubplot:title={'center':'Results'}>"
      ]
     },
     "execution_count": 26,
     "metadata": {},
     "output_type": "execute_result"
    },
    {
     "data": {
      "image/png": "[encoded data removed]",
      "text/plain": [
       "<Figure size 1080x504 with 1 Axes>"
      ]
     },
     "metadata": {
      "needs_background": "light"
     },
     "output_type": "display_data"
    }
   ],
   "source": [
    "get_results_table(experiment)"
   ]
  },
  {
   "cell_type": "code",
   "execution_count": 27,
   "id": "cf8dc689",
   "metadata": {
    "execution": {
     "iopub.execute_input": "2022-03-24T03:40:33.631923Z",
     "iopub.status.busy": "2022-03-24T03:40:33.631550Z",
     "iopub.status.idle": "2022-03-24T03:40:33.901041Z",
     "shell.execute_reply": "2022-03-24T03:40:33.900300Z"
    },
    "papermill": {
     "duration": 0.338271,
     "end_time": "2022-03-24T03:40:33.901205",
     "exception": false,
     "start_time": "2022-03-24T03:40:33.562934",
     "status": "completed"
    },
    "tags": []
   },
   "outputs": [
    {
     "data": {
      "text/plain": [
       "<AxesSubplot:title={'center':'Per Domain Validation Accuracy'}, xlabel='domain'>"
      ]
     },
     "execution_count": 27,
     "metadata": {},
     "output_type": "execute_result"
    },
    {
     "data": {
      "image/png": "[encoded data removed]",
      "text/plain": [
       "<Figure size 1080x504 with 1 Axes>"
      ]
     },
     "metadata": {
      "needs_background": "light"
     },
     "output_type": "display_data"
    }
   ],
   "source": [
    "get_domain_accuracies(experiment)"
   ]
  },
  {
   "cell_type": "code",
   "execution_count": 28,
   "id": "a74ae082",
   "metadata": {
    "execution": {
     "iopub.execute_input": "2022-03-24T03:40:34.045644Z",
     "iopub.status.busy": "2022-03-24T03:40:34.045070Z",
     "iopub.status.idle": "2022-03-24T03:40:34.074006Z",
     "shell.execute_reply": "2022-03-24T03:40:34.073291Z"
    },
    "papermill": {
     "duration": 0.103435,
     "end_time": "2022-03-24T03:40:34.074163",
     "exception": false,
     "start_time": "2022-03-24T03:40:33.970728",
     "status": "completed"
    },
    "tags": []
   },
   "outputs": [
    {
     "name": "stdout",
     "output_type": "stream",
     "text": [
      "Source Test Label Accuracy: 0.8782161458333333 Target Test Label Accuracy: 0.866015625\n",
      "Source Val Label Accuracy: 0.8779557291666666 Target Val Label Accuracy: 0.8653897136797455\n"
     ]
    }
   ],
   "source": [
    "print(\"Source Test Label Accuracy:\", experiment[\"results\"][\"source_test_label_accuracy\"], \"Target Test Label Accuracy:\", experiment[\"results\"][\"target_test_label_accuracy\"])\n",
    "print(\"Source Val Label Accuracy:\", experiment[\"results\"][\"source_val_label_accuracy\"], \"Target Val Label Accuracy:\", experiment[\"results\"][\"target_val_label_accuracy\"])"
   ]
  },
  {
   "cell_type": "code",
   "execution_count": 29,
   "id": "dacca602",
   "metadata": {
    "execution": {
     "iopub.execute_input": "2022-03-24T03:40:34.207638Z",
     "iopub.status.busy": "2022-03-24T03:40:34.207165Z",
     "iopub.status.idle": "2022-03-24T03:40:34.242387Z",
     "shell.execute_reply": "2022-03-24T03:40:34.243063Z"
    },
    "papermill": {
     "duration": 0.101655,
     "end_time": "2022-03-24T03:40:34.243244",
     "exception": false,
     "start_time": "2022-03-24T03:40:34.141589",
     "status": "completed"
    },
    "tags": [
     "experiment_json"
    ]
   },
   "outputs": [
    {
     "data": {
      "text/plain": [
       "'{\"experiment_name\": \"tl_1v2:wisig-oracle.run1\", \"parameters\": {\"experiment_name\": \"tl_1v2:wisig-oracle.run1\", \"device\": \"cuda\", \"lr\": 0.0001, \"n_shot\": 3, \"n_query\": 2, \"train_k_factor\": 3, \"val_k_factor\": 2, \"test_k_factor\": 2, \"torch_default_dtype\": \"torch.float32\", \"n_epoch\": 50, \"patience\": 3, \"criteria_for_best\": \"target_accuracy\", \"x_net\": [{\"class\": \"nnReshape\", \"kargs\": {\"shape\": [-1, 1, 2, 256]}}, {\"class\": \"Conv2d\", \"kargs\": {\"in_channels\": 1, \"out_channels\": 256, \"kernel_size\": [1, 7], \"bias\": false, \"padding\": [0, 3]}}, {\"class\": \"ReLU\", \"kargs\": {\"inplace\": true}}, {\"class\": \"BatchNorm2d\", \"kargs\": {\"num_features\": 256}}, {\"class\": \"Conv2d\", \"kargs\": {\"in_channels\": 256, \"out_channels\": 80, \"kernel_size\": [2, 7], \"bias\": true, \"padding\": [0, 3]}}, {\"class\": \"ReLU\", \"kargs\": {\"inplace\": true}}, {\"class\": \"BatchNorm2d\", \"kargs\": {\"num_features\": 80}}, {\"class\": \"Flatten\", \"kargs\": {}}, {\"class\": \"Linear\", \"kargs\": {\"in_features\": 20480, \"out_features\": 256}}, {\"class\": \"ReLU\", \"kargs\": {\"inplace\": true}}, {\"class\": \"BatchNorm1d\", \"kargs\": {\"num_features\": 256}}, {\"class\": \"Linear\", \"kargs\": {\"in_features\": 256, \"out_features\": 256}}], \"NUM_LOGS_PER_EPOCH\": 10, \"BEST_MODEL_PATH\": \"./best_model.pth\", \"n_way\": 16, \"datasets\": [{\"labels\": [\"1-10\", \"1-12\", \"1-14\", \"1-16\", \"1-18\", \"1-19\", \"1-8\", \"10-11\", \"10-17\", \"10-4\", \"10-7\", \"11-1\", \"11-10\", \"11-19\", \"11-20\", \"11-4\", \"11-7\", \"12-19\", \"12-20\", \"12-7\", \"13-14\", \"13-18\", \"13-19\", \"13-20\", \"13-3\", \"13-7\", \"14-10\", \"14-11\", \"14-12\", \"14-13\", \"14-14\", \"14-19\", \"14-20\", \"14-7\", \"14-8\", \"14-9\", \"15-1\", \"15-19\", \"15-6\", \"16-1\", \"16-16\", \"16-19\", \"16-20\", \"17-10\", \"17-11\", \"18-1\", \"18-10\", \"18-11\", \"18-12\", \"18-13\", \"18-14\", \"18-15\", \"18-16\", \"18-17\", \"18-19\", \"18-2\", \"18-20\", \"18-4\", \"18-5\", \"18-7\", \"18-8\", \"18-9\", \"19-1\", \"19-10\", \"19-11\", \"19-12\", \"19-13\", \"19-14\", \"19-15\", \"19-19\", \"19-2\", \"19-20\", \"19-3\", \"19-4\", \"19-6\", \"19-7\", \"19-8\", \"19-9\", \"2-1\", \"2-13\", \"2-15\", \"2-3\", \"2-4\", \"2-5\", \"2-6\", \"2-7\", \"2-8\", \"20-1\", \"20-12\", \"20-14\", \"20-15\", \"20-16\", \"20-18\", \"20-19\", \"20-20\", \"20-3\", \"20-4\", \"20-5\", \"20-7\", \"20-8\", \"3-1\", \"3-13\", \"3-18\", \"3-2\", \"3-8\", \"4-1\", \"4-10\", \"4-11\", \"5-1\", \"5-5\", \"6-1\", \"6-15\", \"6-6\", \"7-10\", \"7-11\", \"7-12\", \"7-13\", \"7-14\", \"7-7\", \"7-8\", \"7-9\", \"8-1\", \"8-13\", \"8-14\", \"8-18\", \"8-20\", \"8-3\", \"8-8\", \"9-1\", \"9-7\"], \"domains\": [1, 2, 3, 4], \"num_examples_per_domain_per_label\": -1, \"pickle_path\": \"/root/csc500-main/datasets/wisig.node3-19.stratified_ds.2022A.pkl\", \"source_or_target_dataset\": \"target\", \"x_transforms\": [], \"episode_transforms\": [], \"domain_prefix\": \"Wisig_\"}, {\"labels\": [\"3123D52\", \"3123D65\", \"3123D79\", \"3123D80\", \"3123D54\", \"3123D70\", \"3123D7B\", \"3123D89\", \"3123D58\", \"3123D76\", \"3123D7D\", \"3123EFE\", \"3123D64\", \"3123D78\", \"3123D7E\", \"3124E4A\"], \"domains\": [32, 38, 8, 44, 14, 50, 20, 26], \"num_examples_per_domain_per_label\": 10000, \"pickle_path\": \"/root/csc500-main/datasets/oracle.Run1_10kExamples_stratified_ds.2022A.pkl\", \"source_or_target_dataset\": \"source\", \"x_transforms\": [], \"episode_transforms\": [], \"domain_prefix\": \"ORACLE.run1\"}], \"dataset_seed\": 154325, \"seed\": 154325, \"x_shape\": [2, 256], \"domains_source\": [\"ORACLE.run132\", \"ORACLE.run138\", \"ORACLE.run18\", \"ORACLE.run144\", \"ORACLE.run114\", \"ORACLE.run150\", \"ORACLE.run120\", \"ORACLE.run126\"], \"domains_target\": [\"Wisig_1\", \"Wisig_2\", \"Wisig_3\", \"Wisig_4\"]}, \"results\": {\"source_test_label_accuracy\": 0.8782161458333333, \"source_test_label_loss\": 0.3463764786720276, \"target_test_label_accuracy\": 0.866015625, \"target_test_label_loss\": 122.83538818359375, \"source_val_label_accuracy\": 0.8779557291666666, \"source_val_label_loss\": 0.3461836278438568, \"target_val_label_accuracy\": 0.8653897136797455, \"target_val_label_loss\": 112.51091766357422, \"total_epochs_trained\": 11, \"total_experiment_time_secs\": 10355.80248761177, \"confusion\": {\"ORACLE.run18\": {\"13\": {\"13\": 975, \"10\": 173, \"7\": 32, \"6\": 19, \"5\": 1}, \"9\": {\"9\": 1200}, \"15\": {\"15\": 1057, \"12\": 134, \"2\": 9}, \"2\": {\"2\": 1055, \"12\": 43, \"3\": 80, \"15\": 21, \"7\": 1}, \"3\": {\"3\": 1197, \"2\": 3}, \"8\": {\"8\": 1194, \"6\": 5, \"4\": 1}, \"5\": {\"5\": 1057, \"1\": 51, \"10\": 83, \"11\": 7, \"4\": 1, \"14\": 1}, \"14\": {\"14\": 1131, \"4\": 64, \"11\": 5}, \"1\": {\"1\": 1032, \"11\": 150, \"10\": 13, \"5\": 4, \"4\": 1}, \"0\": {\"0\": 1199, \"14\": 1}, \"10\": {\"10\": 1043, \"13\": 104, \"5\": 24, \"1\": 18, \"4\": 6, \"6\": 5}, \"6\": {\"6\": 1043, \"7\": 138, \"13\": 14, \"10\": 2, \"4\": 1, \"8\": 2}, \"11\": {\"14\": 30, \"1\": 352, \"11\": 796, \"8\": 10, \"5\": 2, \"4\": 6, \"6\": 4}, \"7\": {\"7\": 1037, \"13\": 16, \"6\": 147}, \"4\": {\"4\": 1163, \"6\": 10, \"14\": 21, \"11\": 2, \"1\": 1, \"10\": 2, \"8\": 1}, \"12\": {\"15\": 266, \"12\": 929, \"2\": 5}}, \"ORACLE.run138\": {\"13\": {\"13\": 1149, \"10\": 43, \"0\": 3, \"2\": 4, \"14\": 1}, \"12\": {\"12\": 1199, \"8\": 1}, \"2\": {\"2\": 1127, \"14\": 68, \"13\": 5}, \"9\": {\"9\": 1174, \"7\": 3, \"5\": 21, \"8\": 2}, \"15\": {\"15\": 1146, \"1\": 18, \"5\": 17, \"8\": 19}, \"5\": {\"5\": 590, \"7\": 64, \"8\": 429, \"9\": 76, \"15\": 37, \"0\": 4}, \"14\": {\"13\": 3, \"14\": 1109, \"2\": 88}, \"0\": {\"0\": 862, \"3\": 77, \"7\": 131, \"10\": 95, \"13\": 28, \"8\": 5, \"5\": 2}, \"3\": {\"3\": 1200}, \"1\": {\"1\": 1199, \"6\": 1}, \"11\": {\"11\": 1200}, \"7\": {\"7\": 1180, \"9\": 1, \"0\": 10, \"8\": 5, \"5\": 3, \"4\": 1}, \"8\": {\"5\": 370, \"8\": 693, \"15\": 15, \"7\": 98, \"0\": 14, \"9\": 2, \"13\": 7, \"12\": 1}, \"4\": {\"4\": 1196, \"10\": 3, \"0\": 1}, \"10\": {\"10\": 1098, \"13\": 57, \"0\": 41, \"4\": 4}, \"6\": {\"6\": 1200}}, \"ORACLE.run126\": {\"10\": {\"10\": 811, \"14\": 214, \"0\": 102, \"15\": 36, \"1\": 9, \"6\": 27, \"5\": 1}, \"12\": {\"12\": 1200}, \"1\": {\"1\": 1018, \"14\": 127, \"10\": 38, \"6\": 12, \"0\": 4, \"5\": 1}, \"0\": {\"0\": 828, \"10\": 201, \"14\": 129, \"8\": 25, \"1\": 5, \"2\": 2, \"6\": 1, \"15\": 8, \"9\": 1}, \"15\": {\"15\": 780, \"6\": 104, \"14\": 10, \"5\": 268, \"10\": 31, \"1\": 3, \"0\": 4}, \"13\": {\"3\": 13, \"13\": 1075, \"2\": 48, \"9\": 58, \"7\": 3, \"4\": 3}, \"8\": {\"7\": 145, \"8\": 847, \"9\": 168, \"2\": 25, \"0\": 13, \"3\": 1, \"4\": 1}, \"3\": {\"3\": 1116, \"4\": 15, \"7\": 58, \"2\": 11}, \"11\": {\"11\": 1200}, \"4\": {\"4\": 1193, \"3\": 7}, \"6\": {\"6\": 1070, \"15\": 75, \"10\": 34, \"1\": 6, \"5\": 14, \"14\": 1}, \"7\": {\"7\": 949, \"8\": 103, \"2\": 108, \"3\": 26, \"9\": 13, \"4\": 1}, \"14\": {\"10\": 210, \"0\": 91, \"14\": 837, \"1\": 53, \"15\": 5, \"6\": 4}, \"2\": {\"3\": 94, \"2\": 772, \"8\": 76, \"7\": 159, \"9\": 69, \"0\": 17, \"15\": 6, \"13\": 6, \"14\": 1}, \"5\": {\"5\": 1004, \"15\": 169, \"6\": 24, \"1\": 3}, \"9\": {\"9\": 817, \"8\": 254, \"13\": 69, \"2\": 35, \"7\": 20, \"4\": 3, \"0\": 2}}, \"ORACLE.run120\": {\"5\": {\"5\": 911, \"1\": 192, \"3\": 88, \"0\": 2, \"9\": 7}, \"15\": {\"15\": 1025, \"1\": 59, \"2\": 7, \"12\": 100, \"9\": 7, \"13\": 2}, \"9\": {\"3\": 76, \"9\": 1021, \"7\": 43, \"1\": 53, \"2\": 2, \"5\": 5}, \"7\": {\"7\": 1059, \"9\": 64, \"2\": 67, \"12\": 1, \"4\": 5, \"6\": 3, \"3\": 1}, \"3\": {\"3\": 934, \"9\": 116, \"8\": 40, \"1\": 18, \"5\": 88, \"0\": 4}, \"8\": {\"14\": 29, \"3\": 44, \"8\": 1124, \"6\": 1, \"9\": 2}, \"4\": {\"4\": 1146, \"12\": 39, \"2\": 12, \"10\": 3}, \"6\": {\"6\": 1188, \"7\": 9, \"14\": 3}, \"2\": {\"2\": 928, \"12\": 172, \"7\": 66, \"13\": 9, \"9\": 14, \"15\": 10, \"4\": 1}, \"12\": {\"12\": 965, \"2\": 139, \"15\": 83, \"4\": 7, \"9\": 2, \"13\": 1, \"7\": 2, \"1\": 1}, \"0\": {\"0\": 1135, \"3\": 23, \"1\": 7, \"5\": 31, \"8\": 4}, \"13\": {\"13\": 1182, \"2\": 12, \"12\": 2, \"15\": 4}, \"10\": {\"10\": 1200}, \"11\": {\"11\": 1200}, \"14\": {\"14\": 1166, \"8\": 33, \"6\": 1}, \"1\": {\"1\": 931, \"5\": 191, \"15\": 12, \"9\": 50, \"3\": 16}}, \"ORACLE.run150\": {\"1\": {\"1\": 1188, \"13\": 10, \"0\": 1, \"11\": 1}, \"2\": {\"2\": 1147, \"0\": 53}, \"8\": {\"8\": 1198, \"10\": 2}, \"7\": {\"7\": 1098, \"5\": 91, \"4\": 10, \"6\": 1}, \"14\": {\"14\": 1200}, \"6\": {\"6\": 1030, \"5\": 134, \"15\": 36}, \"3\": {\"3\": 1200}, \"4\": {\"4\": 1004, \"7\": 90, \"5\": 49, \"6\": 12, \"15\": 45}, \"12\": {\"12\": 1136, \"9\": 59, \"11\": 5}, \"15\": {\"15\": 1156, \"11\": 6, \"6\": 36, \"9\": 1, \"4\": 1}, \"11\": {\"11\": 1148, \"15\": 12, \"12\": 15, \"9\": 25}, \"0\": {\"2\": 66, \"0\": 1125, \"10\": 9}, \"9\": {\"9\": 1012, \"12\": 71, \"11\": 117}, \"10\": {\"10\": 1188, \"8\": 5, \"0\": 7}, \"5\": {\"5\": 515, \"7\": 343, \"4\": 74, \"6\": 215, \"13\": 37, \"1\": 7, \"15\": 9}, \"13\": {\"13\": 1196, \"6\": 1, \"1\": 2, \"5\": 1}}, \"ORACLE.run132\": {\"2\": {\"2\": 1100, \"4\": 99, \"0\": 1}, \"6\": {\"6\": 1200}, \"5\": {\"5\": 700, \"8\": 141, \"7\": 226, \"0\": 104, \"14\": 29}, \"12\": {\"12\": 1200}, \"13\": {\"13\": 919, \"3\": 147, \"4\": 113, \"11\": 20, \"8\": 1}, \"9\": {\"9\": 1192, \"12\": 7, \"2\": 1}, \"11\": {\"11\": 1197, \"13\": 3}, \"1\": {\"1\": 1200}, \"3\": {\"3\": 1159, \"13\": 41}, \"7\": {\"7\": 783, \"0\": 75, \"5\": 187, \"14\": 141, \"8\": 14}, \"14\": {\"14\": 769, \"0\": 39, \"5\": 34, \"4\": 21, \"7\": 276, \"2\": 36, \"8\": 25}, \"8\": {\"8\": 1019, \"5\": 82, \"0\": 72, \"4\": 8, \"7\": 11, \"14\": 7, \"15\": 1}, \"4\": {\"4\": 1052, \"2\": 124, \"13\": 24}, \"0\": {\"0\": 925, \"5\": 73, \"8\": 82, \"7\": 108, \"14\": 11, \"2\": 1}, \"10\": {\"10\": 1200}, \"15\": {\"15\": 1194, \"8\": 6}}, \"ORACLE.run144\": {\"13\": {\"13\": 972, \"6\": 205, \"9\": 16, \"11\": 7}, \"4\": {\"4\": 810, \"14\": 378, \"13\": 1, \"15\": 9, \"5\": 2}, \"6\": {\"6\": 1011, \"13\": 132, \"9\": 54, \"7\": 3}, \"0\": {\"8\": 169, \"0\": 1026, \"15\": 5}, \"10\": {\"10\": 1112, \"1\": 41, \"7\": 17, \"2\": 30}, \"7\": {\"7\": 1054, \"9\": 137, \"10\": 8, \"6\": 1}, \"14\": {\"14\": 905, \"4\": 234, \"15\": 36, \"5\": 25}, \"15\": {\"15\": 1065, \"4\": 7, \"5\": 43, \"14\": 48, \"0\": 11, \"8\": 26}, \"5\": {\"5\": 1102, \"14\": 39, \"15\": 51, \"8\": 8}, \"2\": {\"2\": 1163, \"1\": 25, \"10\": 9, \"7\": 3}, \"9\": {\"13\": 83, \"7\": 311, \"9\": 633, \"6\": 169, \"4\": 4}, \"12\": {\"12\": 1189, \"3\": 11}, \"8\": {\"8\": 850, \"5\": 31, \"15\": 35, \"0\": 284}, \"3\": {\"3\": 1172, \"12\": 28}, \"1\": {\"1\": 1156, \"2\": 43, \"10\": 1}, \"11\": {\"11\": 1199, \"13\": 1}}, \"ORACLE.run114\": {\"1\": {\"1\": 1200}, \"15\": {\"15\": 1200}, \"10\": {\"10\": 1199, \"0\": 1}, \"2\": {\"2\": 718, \"5\": 154, \"14\": 161, \"13\": 34, \"6\": 66, \"4\": 23, \"3\": 40, \"7\": 4}, \"9\": {\"9\": 1200}, \"5\": {\"5\": 1110, \"2\": 45, \"4\": 14, \"7\": 24, \"3\": 7}, \"7\": {\"7\": 1193, \"5\": 7}, \"13\": {\"14\": 261, \"13\": 342, \"6\": 478, \"2\": 48, \"15\": 69, \"3\": 2}, \"8\": {\"8\": 1200}, \"6\": {\"13\": 280, \"6\": 812, \"14\": 77, \"2\": 30, \"3\": 1}, \"3\": {\"3\": 1183, \"0\": 7, \"14\": 10}, \"12\": {\"12\": 1200}, \"0\": {\"0\": 1159, \"3\": 35, \"10\": 5, \"8\": 1}, \"4\": {\"4\": 1148, \"5\": 42, \"2\": 10}, \"14\": {\"14\": 959, \"13\": 120, \"2\": 46, \"3\": 25, \"6\": 49, \"5\": 1}, \"11\": {\"11\": 1200}}, \"Wisig_2\": {\"56\": {\"56\": 12}, \"12\": {\"12\": 71, \"44\": 1, \"105\": 2, \"106\": 6, \"88\": 1, \"0\": 2, \"74\": 2, \"78\": 1, \"109\": 1, \"70\": 1}, \"15\": {\"15\": 104, \"122\": 1, \"110\": 2, \"0\": 4, \"94\": 2, \"78\": 1, \"70\": 1, \"39\": 1}, \"26\": {\"20\": 2, \"26\": 111, \"16\": 2, \"93\": 5, \"69\": 2, \"24\": 2, \"21\": 1, \"88\": 1, \"18\": 6}, \"82\": {\"82\": 29, \"73\": 1, \"45\": 3, \"63\": 1, \"89\": 1, \"92\": 1}, \"9\": {\"9\": 31, \"51\": 1}, \"49\": {\"47\": 1, \"49\": 17, \"124\": 1, \"95\": 3, \"128\": 1, \"75\": 1}, \"55\": {\"56\": 2, \"73\": 1, \"55\": 10, \"50\": 1, \"82\": 2}, \"102\": {\"102\": 124}, \"85\": {\"85\": 27, \"98\": 1, \"19\": 1, \"90\": 1, \"91\": 1, \"128\": 1}, \"73\": {\"73\": 27, \"28\": 1}, \"47\": {\"47\": 7, \"127\": 1, \"27\": 1, \"107\": 1, \"95\": 2}, \"20\": {\"20\": 10, \"26\": 2, \"100\": 1, \"18\": 2, \"24\": 1}, \"117\": {\"117\": 109, \"87\": 1, \"44\": 2, \"121\": 1, \"21\": 2, \"39\": 1}, \"122\": {\"122\": 120, \"21\": 1, \"43\": 2, \"88\": 1, \"8\": 8, \"70\": 1, \"11\": 3, \"39\": 1, \"30\": 1, \"24\": 2}, \"113\": {\"113\": 66, \"118\": 2, \"90\": 1, \"98\": 1, \"39\": 2}, \"87\": {\"21\": 2, \"87\": 98, \"126\": 2, \"70\": 1, \"39\": 1, \"88\": 2, \"43\": 4, \"109\": 1, \"24\": 1}, \"21\": {\"21\": 46, \"78\": 1, \"87\": 1}, \"106\": {\"106\": 112, \"15\": 1, \"0\": 1, \"24\": 2, \"70\": 2, \"127\": 1, \"21\": 1}, \"3\": {\"3\": 121, \"71\": 1, \"88\": 1, \"40\": 3, \"7\": 2, \"127\": 1, \"39\": 2, \"107\": 1, \"62\": 2, \"126\": 1, \"1\": 1}, \"126\": {\"126\": 115, \"70\": 2, \"10\": 1, \"109\": 2}, \"41\": {\"41\": 12, \"5\": 3, \"66\": 1, \"90\": 1, \"6\": 1, \"124\": 2}, \"76\": {\"49\": 1, \"76\": 8, \"19\": 1, \"61\": 1, \"73\": 1, \"14\": 1, \"57\": 1, \"33\": 1, \"77\": 1}, \"60\": {\"60\": 28}, \"94\": {\"94\": 35, \"88\": 1, \"109\": 1, \"108\": 1, \"43\": 1, \"11\": 2, \"110\": 1, \"24\": 1, \"36\": 3, \"15\": 5, \"30\": 3, \"126\": 2, \"8\": 4, \"124\": 1, \"0\": 1, \"122\": 1, \"12\": 1}, \"50\": {\"73\": 2, \"92\": 2, \"28\": 2, \"123\": 4, \"50\": 3, \"22\": 1, \"91\": 2}, \"97\": {\"94\": 1, \"97\": 19}, \"115\": {\"115\": 12}, \"38\": {\"38\": 14, \"92\": 1, \"76\": 1}, \"43\": {\"43\": 106, \"70\": 1, \"27\": 1, \"39\": 1, \"87\": 6, \"88\": 1, \"8\": 2, \"118\": 2, \"109\": 2, \"122\": 1, \"108\": 1}, \"67\": {\"63\": 3, \"45\": 1, \"67\": 2, \"102\": 1, \"28\": 1, \"5\": 1, \"50\": 2, \"22\": 3, \"73\": 2}, \"18\": {\"18\": 101, \"26\": 8, \"21\": 2, \"69\": 12, \"10\": 1, \"39\": 1, \"27\": 1, \"109\": 1, \"88\": 1}, \"23\": {\"23\": 20, \"18\": 1, \"93\": 2, \"26\": 2, \"122\": 3, \"11\": 1, \"0\": 5, \"105\": 1, \"15\": 1, \"84\": 2, \"20\": 1, \"72\": 1, \"43\": 1, \"24\": 1, \"106\": 1, \"113\": 1}, \"63\": {\"63\": 15, \"92\": 2, \"102\": 1, \"119\": 2}, \"127\": {\"127\": 113, \"126\": 1, \"3\": 2, \"101\": 2, \"90\": 1, \"121\": 1, \"7\": 2, \"88\": 1, \"111\": 1}, \"72\": {\"72\": 21, \"26\": 2, \"33\": 2, \"27\": 1, \"111\": 1, \"83\": 1}, \"128\": {\"127\": 1, \"47\": 1, \"128\": 13, \"53\": 1, \"9\": 1, \"107\": 1, \"54\": 2, \"74\": 1, \"49\": 1, \"95\": 1, \"126\": 1}, \"7\": {\"7\": 120, \"88\": 2, \"12\": 2, \"105\": 2, \"10\": 1, \"109\": 1}, \"108\": {\"108\": 128, \"30\": 2, \"87\": 1, \"113\": 1, \"126\": 2}, \"16\": {\"16\": 84, \"23\": 2, \"93\": 9, \"11\": 2, \"88\": 1, \"122\": 3, \"24\": 1, \"70\": 2, \"69\": 1, \"108\": 1, \"67\": 1, \"96\": 1, \"30\": 2, \"27\": 1, \"21\": 2, \"26\": 1}, \"29\": {\"29\": 30, \"59\": 2}, \"61\": {\"61\": 15, \"83\": 2, \"53\": 1, \"126\": 1, \"95\": 1}, \"104\": {\"124\": 5, \"104\": 14, \"91\": 1}, \"120\": {\"120\": 19, \"116\": 1}, \"124\": {\"124\": 120, \"86\": 1, \"82\": 1, \"5\": 1, \"111\": 1}, \"34\": {\"34\": 19, \"53\": 3, \"54\": 1, \"95\": 1, \"112\": 1, \"107\": 2, \"49\": 2, \"33\": 1, \"98\": 1, \"19\": 1}, \"84\": {\"84\": 65, \"9\": 1, \"47\": 2, \"1\": 2, \"62\": 9, \"27\": 1, \"69\": 4, \"109\": 1, \"124\": 1, \"40\": 2, \"126\": 1, \"3\": 2, \"5\": 1}, \"103\": {\"104\": 1, \"115\": 1, \"41\": 2, \"103\": 10, \"124\": 1, \"111\": 1}, \"100\": {\"61\": 1, \"100\": 10, \"1\": 2, \"55\": 1, \"105\": 1, \"34\": 1}, \"40\": {\"71\": 12, \"40\": 76, \"24\": 2, \"1\": 4, \"95\": 4, \"114\": 5, \"84\": 2, \"70\": 1, \"107\": 2, \"21\": 2, \"3\": 12, \"113\": 1, \"44\": 3, \"33\": 4, \"109\": 1, \"14\": 2, \"101\": 1, \"39\": 2, \"127\": 2, \"62\": 1, \"88\": 1}, \"35\": {\"35\": 12}, \"96\": {\"96\": 13, \"16\": 4, \"31\": 2, \"72\": 1}, \"101\": {\"101\": 109, \"105\": 4, \"3\": 1, \"127\": 2, \"106\": 2, \"69\": 1, \"7\": 1}, \"71\": {\"71\": 87, \"87\": 1, \"127\": 2, \"40\": 3, \"10\": 1, \"3\": 3, \"0\": 1, \"78\": 1, \"70\": 1}, \"81\": {\"81\": 17, \"31\": 1, \"90\": 1, \"121\": 3, \"19\": 1, \"91\": 1}, \"74\": {\"107\": 2, \"35\": 1, \"126\": 1, \"74\": 7, \"76\": 2, \"122\": 1, \"127\": 2}, \"119\": {\"13\": 1, \"119\": 6, \"116\": 1, \"46\": 1, \"92\": 3, \"38\": 1, \"112\": 1, \"63\": 1, \"80\": 1, \"67\": 2, \"31\": 2}, \"5\": {\"5\": 100, \"37\": 1, \"43\": 1, \"124\": 2, \"109\": 1, \"126\": 2, \"111\": 2, \"67\": 1, \"42\": 2}, \"68\": {\"68\": 10, \"46\": 2, \"91\": 1, \"28\": 1, \"85\": 2}, \"37\": {\"109\": 1, \"37\": 10, \"129\": 2, \"41\": 2, \"116\": 1}, \"58\": {\"9\": 4, \"58\": 13, \"34\": 2, \"112\": 1}, \"109\": {\"109\": 84, \"78\": 1, \"39\": 5, \"88\": 8, \"24\": 1, \"70\": 1}, \"107\": {\"107\": 38, \"114\": 5, \"128\": 1, \"94\": 2, \"36\": 1, \"32\": 2, \"118\": 1, \"95\": 3, \"0\": 1, \"44\": 3, \"64\": 2, \"56\": 1, \"53\": 2, \"40\": 2}, \"13\": {\"119\": 4, \"13\": 8, \"109\": 1, \"118\": 1, \"63\": 1, \"126\": 1}, \"52\": {\"58\": 2, \"52\": 15, \"41\": 1, \"75\": 1, \"111\": 1}, \"77\": {\"77\": 13, \"22\": 1, \"91\": 2}, \"95\": {\"95\": 21, \"40\": 3, \"3\": 1, \"28\": 1, \"32\": 3, \"107\": 2, \"76\": 2, \"49\": 1, \"114\": 2}, \"44\": {\"44\": 96, \"74\": 2, \"1\": 2}, \"88\": {\"88\": 103, \"126\": 1, \"78\": 1, \"109\": 6, \"70\": 8, \"24\": 2, \"39\": 1}, \"91\": {\"52\": 2, \"111\": 1, \"124\": 3, \"5\": 1, \"91\": 12, \"29\": 2, \"104\": 2, \"17\": 1, \"126\": 1, \"42\": 1, \"77\": 1, \"85\": 1}, \"93\": {\"93\": 120, \"26\": 2, \"21\": 1, \"84\": 2, \"62\": 2, \"16\": 5, \"69\": 3, \"109\": 1, \"70\": 2}, \"8\": {\"8\": 116, \"94\": 2, \"18\": 2, \"11\": 1, \"26\": 1, \"122\": 2}, \"1\": {\"1\": 95, \"24\": 2, \"14\": 1, \"3\": 3, \"62\": 3, \"40\": 4, \"84\": 3, \"7\": 1, \"39\": 1, \"33\": 1}, \"45\": {\"45\": 13, \"73\": 2, \"21\": 1}, \"111\": {\"111\": 122, \"24\": 1, \"21\": 1, \"124\": 2}, \"116\": {\"116\": 26, \"67\": 1, \"48\": 1}, \"48\": {\"48\": 16, \"116\": 1, \"102\": 1, \"129\": 2}, \"57\": {\"57\": 15, \"90\": 2, \"78\": 1, \"24\": 1, \"92\": 1}, \"10\": {\"10\": 48, \"126\": 6, \"108\": 3, \"24\": 1, \"87\": 1, \"43\": 1}, \"129\": {\"129\": 29, \"123\": 1, \"5\": 2}, \"98\": {\"98\": 112, \"88\": 1, \"126\": 1, \"109\": 1, \"16\": 2, \"124\": 1}, \"65\": {\"65\": 18, \"121\": 1, \"109\": 1}, \"6\": {\"6\": 32}, \"75\": {\"9\": 1, \"49\": 3, \"25\": 1, \"75\": 7, \"126\": 1, \"54\": 2, \"52\": 1}, \"14\": {\"14\": 34, \"78\": 2, \"64\": 2, \"71\": 1, \"1\": 2, \"3\": 3, \"74\": 1, \"100\": 2, \"40\": 1}, \"30\": {\"30\": 92, \"36\": 2, \"122\": 2, \"8\": 5, \"70\": 1, \"88\": 1, \"126\": 1, \"24\": 1, \"39\": 3, \"94\": 3, \"43\": 1}, \"83\": {\"83\": 39, \"69\": 1}, \"69\": {\"69\": 118, \"84\": 2, \"109\": 1, \"39\": 1, \"62\": 2, \"72\": 2, \"126\": 1, \"88\": 1}, \"125\": {\"125\": 144, \"4\": 1, \"107\": 1}, \"31\": {\"31\": 8, \"74\": 1, \"119\": 1, \"33\": 2, \"67\": 1, \"95\": 1, \"44\": 2, \"127\": 2, \"72\": 1, \"129\": 1}, \"118\": {\"118\": 63, \"87\": 1, \"93\": 2, \"105\": 1, \"43\": 1}, \"53\": {\"56\": 2, \"19\": 4, \"76\": 1, \"53\": 7, \"32\": 1, \"44\": 1}, \"54\": {\"54\": 12, \"51\": 2, \"71\": 1, \"90\": 1, \"66\": 1, \"61\": 1, \"86\": 1, \"29\": 1}, \"92\": {\"31\": 1, \"92\": 19, \"55\": 2, \"83\": 1, \"46\": 1, \"74\": 1, \"38\": 1, \"107\": 1, \"82\": 1}, \"19\": {\"19\": 23, \"112\": 1, \"107\": 1, \"32\": 1, \"53\": 1, \"89\": 1}, \"27\": {\"27\": 53, \"11\": 2, \"122\": 2, \"39\": 1, \"108\": 4, \"36\": 4, \"43\": 1, \"70\": 1}, \"17\": {\"17\": 7, \"21\": 1, \"43\": 1, \"79\": 1, \"111\": 2, \"129\": 1, \"125\": 2, \"6\": 1}, \"4\": {\"4\": 85, \"24\": 1, \"125\": 2}, \"36\": {\"27\": 3, \"94\": 1, \"36\": 111, \"15\": 2, \"78\": 1, \"127\": 1, \"24\": 1, \"44\": 1, \"39\": 1, \"30\": 4, \"70\": 1, \"88\": 1}, \"90\": {\"90\": 135, \"2\": 1}, \"64\": {\"64\": 9, \"76\": 1, \"19\": 1, \"45\": 2, \"28\": 1, \"24\": 1, \"37\": 1}, \"66\": {\"64\": 1, \"66\": 13, \"90\": 2, \"28\": 2, \"45\": 2}, \"46\": {\"119\": 1, \"46\": 13, \"109\": 1, \"24\": 1}, \"86\": {\"86\": 31, \"124\": 1}, \"114\": {\"32\": 2, \"114\": 97, \"95\": 2, \"10\": 1, \"40\": 1, \"33\": 2, \"71\": 2, \"44\": 2, \"126\": 1}, \"32\": {\"32\": 29, \"114\": 2, \"86\": 1, \"28\": 1, \"107\": 1, \"61\": 1, \"4\": 1}, \"78\": {\"109\": 6, \"78\": 37, \"70\": 3, \"39\": 1, \"88\": 1}, \"33\": {\"33\": 124, \"40\": 4, \"1\": 6, \"126\": 1, \"23\": 1, \"14\": 2}, \"70\": {\"70\": 104, \"89\": 1, \"78\": 2, \"87\": 2, \"39\": 1, \"126\": 7, \"24\": 1, \"109\": 4, \"88\": 2}, \"0\": {\"0\": 96, \"122\": 2, \"30\": 2, \"12\": 1, \"44\": 1, \"117\": 1, \"15\": 4, \"39\": 1, \"106\": 2, \"8\": 2, \"90\": 1, \"105\": 2, \"1\": 1}, \"110\": {\"110\": 34, \"23\": 1, \"0\": 1, \"70\": 1, \"42\": 1, \"122\": 2}, \"2\": {\"2\": 27, \"89\": 2, \"65\": 2, \"37\": 1}, \"28\": {\"28\": 15, \"67\": 1, \"80\": 1, \"91\": 1, \"29\": 1, \"102\": 1}, \"51\": {\"51\": 11, \"71\": 1, \"95\": 1, \"91\": 1, \"75\": 1, \"107\": 1, \"58\": 2, \"105\": 1, \"128\": 1}, \"79\": {\"79\": 16}, \"42\": {\"42\": 15, \"112\": 1, \"91\": 2, \"5\": 2, \"77\": 1, \"29\": 1, \"59\": 1, \"124\": 3, \"102\": 1, \"34\": 1}, \"112\": {\"112\": 16}, \"89\": {\"89\": 32, \"92\": 2, \"46\": 2}, \"59\": {\"17\": 2, \"59\": 9, \"124\": 2, \"86\": 2, \"6\": 1}, \"105\": {\"105\": 124, \"70\": 1, \"24\": 1, \"84\": 2}, \"121\": {\"121\": 30, \"99\": 1, \"81\": 4, \"36\": 1}, \"11\": {\"11\": 63, \"23\": 1, \"24\": 2, \"8\": 7, \"122\": 5, \"126\": 1, \"39\": 1}, \"99\": {\"18\": 2, \"99\": 26, \"69\": 1, \"24\": 1, \"87\": 1, \"33\": 1}, \"25\": {\"52\": 1, \"25\": 13, \"54\": 1, \"34\": 1}, \"62\": {\"62\": 114, \"27\": 1, \"7\": 2, \"84\": 2, \"105\": 3, \"108\": 1, \"78\": 1, \"24\": 2, \"126\": 1, \"33\": 1}, \"123\": {\"123\": 13, \"124\": 1, \"129\": 1, \"56\": 1}, \"24\": {\"24\": 104, \"126\": 2, \"70\": 3, \"78\": 1, \"88\": 1, \"39\": 1}, \"80\": {\"80\": 16}, \"39\": {\"39\": 84, \"126\": 2, \"109\": 8, \"24\": 1, \"88\": 5}, \"22\": {\"22\": 11, \"80\": 2, \"129\": 4, \"5\": 2, \"126\": 1}}, \"Wisig_4\": {\"32\": {\"32\": 17, \"73\": 1, \"46\": 1, \"64\": 1, \"19\": 2, \"83\": 1, \"28\": 2, \"34\": 1, \"33\": 2}, \"22\": {\"22\": 10, \"45\": 2, \"129\": 2, \"79\": 1, \"111\": 1}, \"69\": {\"69\": 106, \"108\": 1, \"24\": 4, \"14\": 1, \"84\": 2, \"70\": 2, \"44\": 2, \"71\": 2}, \"65\": {\"65\": 12}, \"91\": {\"91\": 16, \"73\": 1, \"68\": 2, \"82\": 2, \"120\": 2, \"41\": 1}, \"63\": {\"63\": 15, \"117\": 1}, \"127\": {\"88\": 1, \"127\": 87, \"3\": 5, \"49\": 1, \"107\": 2, \"12\": 3, \"72\": 2, \"114\": 2, \"34\": 1, \"96\": 1, \"99\": 2, \"118\": 1}, \"11\": {\"11\": 125, \"36\": 1, \"26\": 1, \"24\": 1, \"87\": 3, \"118\": 3, \"43\": 1, \"7\": 1, \"93\": 1, \"113\": 1}, \"12\": {\"12\": 88, \"88\": 1, \"109\": 1, \"127\": 2, \"106\": 3, \"126\": 1, \"124\": 1, \"111\": 1, \"70\": 1, \"24\": 1}, \"111\": {\"111\": 118, \"124\": 3, \"6\": 1, \"78\": 1, \"68\": 2, \"96\": 1, \"17\": 1, \"126\": 1}, \"53\": {\"53\": 13, \"121\": 1, \"9\": 2}, \"73\": {\"73\": 6, \"114\": 3, \"33\": 1, \"55\": 1, \"64\": 2, \"112\": 2, \"67\": 1, \"40\": 1, \"45\": 1, \"129\": 1, \"28\": 2, \"52\": 2, \"92\": 1}, \"3\": {\"3\": 113, \"1\": 4, \"21\": 1, \"105\": 8, \"20\": 2, \"49\": 1, \"14\": 2, \"88\": 1, \"114\": 2, \"40\": 2}, \"83\": {\"83\": 17, \"32\": 1, \"52\": 1, \"38\": 1, \"40\": 1, \"3\": 1, \"128\": 1, \"49\": 1, \"5\": 2, \"33\": 1, \"114\": 1}, \"88\": {\"88\": 130}, \"87\": {\"87\": 125, \"108\": 1, \"118\": 2, \"122\": 2, \"110\": 2}, \"2\": {\"2\": 28}, \"86\": {\"86\": 28}, \"16\": {\"16\": 106, \"88\": 1, \"26\": 6, \"11\": 2, \"84\": 4, \"10\": 1, \"96\": 1, \"39\": 1}, \"21\": {\"88\": 5, \"21\": 34, \"39\": 1}, \"96\": {\"16\": 4, \"87\": 1, \"124\": 1, \"96\": 8, \"118\": 1, \"110\": 3, \"93\": 1, \"122\": 1}, \"100\": {\"100\": 9, \"3\": 1, \"53\": 2, \"14\": 1, \"1\": 3, \"105\": 1, \"114\": 3}, \"7\": {\"7\": 100, \"101\": 9, \"60\": 2, \"108\": 1, \"12\": 2, \"14\": 1, \"23\": 2, \"11\": 2, \"109\": 1}, \"75\": {\"75\": 9, \"29\": 1, \"98\": 1, \"47\": 2, \"15\": 1, \"34\": 2}, \"10\": {\"10\": 103, \"24\": 15, \"18\": 1, \"39\": 1, \"12\": 2, \"126\": 1, \"88\": 1}, \"43\": {\"43\": 109, \"10\": 3, \"0\": 1, \"113\": 1, \"126\": 4, \"110\": 2}, \"92\": {\"92\": 22, \"107\": 1, \"40\": 1, \"90\": 4}, \"62\": {\"62\": 41, \"11\": 5, \"93\": 4, \"113\": 1, \"88\": 1, \"126\": 1, \"108\": 1, \"60\": 4, \"118\": 2}, \"31\": {\"45\": 2, \"107\": 2, \"31\": 8, \"33\": 1, \"19\": 1, \"66\": 2}, \"0\": {\"0\": 91, \"15\": 4, \"122\": 2, \"106\": 2, \"87\": 2, \"110\": 4, \"8\": 7, \"10\": 1, \"39\": 1}, \"45\": {\"45\": 9, \"19\": 2, \"76\": 1, \"92\": 1, \"28\": 1, \"102\": 1, \"55\": 1}, \"85\": {\"85\": 24, \"95\": 2, \"54\": 1, \"91\": 1}, \"119\": {\"119\": 10, \"116\": 1, \"115\": 4, \"50\": 1}, \"46\": {\"9\": 1, \"31\": 1, \"32\": 1, \"95\": 1, \"46\": 14, \"83\": 2}, \"71\": {\"71\": 88, \"3\": 5, \"105\": 2, \"1\": 4, \"127\": 2, \"49\": 1, \"113\": 1, \"70\": 1}, \"8\": {\"8\": 121, \"0\": 4, \"10\": 1, \"15\": 2, \"109\": 1, \"70\": 1, \"94\": 1, \"30\": 2, \"126\": 1}, \"118\": {\"118\": 91, \"122\": 1, \"11\": 4, \"90\": 1, \"110\": 3, \"39\": 1, \"87\": 3, \"93\": 2, \"0\": 2, \"36\": 1, \"101\": 1, \"109\": 1, \"108\": 1}, \"1\": {\"1\": 80, \"40\": 1, \"14\": 2, \"85\": 1, \"3\": 8, \"124\": 2, \"105\": 7, \"10\": 3, \"126\": 1, \"21\": 1, \"99\": 1, \"111\": 1}, \"38\": {\"38\": 12, \"83\": 1, \"57\": 1, \"5\": 1, \"108\": 1}, \"30\": {\"30\": 66, \"27\": 1, \"8\": 1, \"15\": 1, \"24\": 1, \"108\": 1, \"21\": 1, \"109\": 1, \"36\": 1, \"62\": 1, \"122\": 1}, \"66\": {\"66\": 11, \"48\": 2, \"22\": 1, \"90\": 2}, \"9\": {\"71\": 3, \"114\": 3, \"9\": 13, \"53\": 5, \"31\": 2, \"127\": 2}, \"5\": {\"5\": 122, \"44\": 1, \"105\": 4, \"1\": 2, \"45\": 1, \"14\": 1, \"114\": 1, \"40\": 2, \"3\": 2}, \"24\": {\"10\": 24, \"24\": 90, \"30\": 1, \"43\": 1, \"88\": 2, \"70\": 2}, \"97\": {\"50\": 1, \"10\": 1, \"97\": 16, \"88\": 2}, \"67\": {\"67\": 10, \"66\": 1, \"48\": 1, \"33\": 1, \"82\": 1, \"2\": 1, \"90\": 1}, \"19\": {\"120\": 2, \"19\": 9, \"56\": 1, \"38\": 1, \"98\": 1, \"89\": 3, \"85\": 3, \"52\": 2, \"82\": 1, \"31\": 1, \"83\": 1, \"57\": 1, \"107\": 1, \"76\": 1}, \"77\": {\"77\": 12}, \"26\": {\"26\": 113, \"96\": 1, \"16\": 2, \"78\": 1, \"43\": 1}, \"115\": {\"24\": 1, \"115\": 8, \"116\": 1, \"119\": 3, \"37\": 2, \"86\": 1}, \"50\": {\"50\": 9, \"115\": 1, \"22\": 1, \"119\": 2, \"37\": 1, \"64\": 2}, \"120\": {\"120\": 11, \"58\": 1, \"82\": 1, \"64\": 2, \"37\": 1, \"102\": 1, \"115\": 1, \"90\": 2}, \"102\": {\"102\": 125, \"37\": 2, \"39\": 1}, \"29\": {\"29\": 29, \"42\": 2, \"111\": 1}, \"44\": {\"44\": 55, \"1\": 1, \"5\": 6, \"33\": 2}, \"124\": {\"124\": 114, \"37\": 1, \"55\": 1, \"121\": 1, \"102\": 1}, \"78\": {\"78\": 26, \"21\": 2, \"39\": 1, \"113\": 1, \"108\": 1, \"88\": 4, \"109\": 1}, \"104\": {\"104\": 12, \"37\": 1, \"42\": 1, \"116\": 1, \"17\": 1}, \"105\": {\"105\": 73, \"3\": 9, \"49\": 1, \"70\": 1, \"10\": 1, \"71\": 1, \"1\": 3, \"14\": 2, \"5\": 2, \"34\": 1, \"78\": 1, \"102\": 1, \"88\": 1, \"36\": 1, \"127\": 2}, \"28\": {\"28\": 14, \"41\": 1, \"45\": 2, \"73\": 2, \"64\": 1}, \"37\": {\"17\": 1, \"37\": 15}, \"107\": {\"107\": 113, \"33\": 3, \"114\": 4, \"108\": 1, \"40\": 4, \"5\": 3, \"46\": 2, \"3\": 1, \"88\": 1}, \"6\": {\"6\": 21, \"111\": 3}, \"17\": {\"37\": 2, \"17\": 15, \"124\": 1, \"4\": 1, \"104\": 1}, \"57\": {\"57\": 12, \"90\": 2, \"19\": 2}, \"121\": {\"121\": 26, \"33\": 2, \"21\": 1, \"61\": 1, \"92\": 1, \"81\": 1}, \"58\": {\"58\": 14, \"98\": 2}, \"64\": {\"28\": 2, \"64\": 8, \"124\": 2, \"73\": 1, \"115\": 1, \"112\": 1, \"46\": 1}, \"82\": {\"82\": 20, \"31\": 1, \"58\": 1, \"41\": 1, \"19\": 2, \"33\": 1, \"74\": 1, \"64\": 1, \"29\": 2, \"42\": 1, \"32\": 1}, \"39\": {\"39\": 98, \"88\": 1, \"126\": 1}, \"110\": {\"110\": 103, \"26\": 1, \"61\": 1, \"122\": 3, \"109\": 1, \"87\": 6, \"39\": 1, \"113\": 1, \"21\": 1, \"9\": 1, \"0\": 1, \"69\": 1, \"118\": 1, \"126\": 1, \"88\": 1}, \"114\": {\"114\": 115, \"20\": 2, \"1\": 2, \"14\": 2, \"5\": 1, \"39\": 1, \"40\": 2, \"3\": 3}, \"20\": {\"20\": 14, \"99\": 1, \"72\": 1}, \"117\": {\"117\": 111, \"63\": 1, \"2\": 1, \"67\": 1}, \"18\": {\"18\": 117, \"26\": 2, \"108\": 1}, \"99\": {\"99\": 20, \"20\": 1, \"3\": 3, \"40\": 3, \"69\": 3, \"1\": 3, \"14\": 2, \"105\": 2, \"72\": 1, \"44\": 2}, \"23\": {\"39\": 3, \"0\": 1, \"101\": 1, \"11\": 1, \"106\": 1, \"108\": 1, \"78\": 1, \"93\": 1, \"23\": 3, \"21\": 1, \"88\": 1, \"70\": 1}, \"128\": {\"128\": 17, \"83\": 2, \"34\": 1, \"85\": 1, \"120\": 1, \"115\": 1, \"100\": 1}, \"60\": {\"60\": 29, \"0\": 1, \"7\": 2}, \"70\": {\"70\": 98, \"88\": 4, \"108\": 7, \"118\": 1, \"10\": 1, \"36\": 1, \"109\": 4, \"27\": 2, \"126\": 1, \"113\": 1}, \"122\": {\"122\": 70, \"110\": 4, \"43\": 4, \"10\": 1, \"87\": 2, \"126\": 1, \"109\": 1, \"93\": 1}, \"101\": {\"101\": 112, \"60\": 1, \"78\": 1, \"71\": 2, \"127\": 4, \"10\": 1, \"7\": 1, \"14\": 1, \"106\": 2, \"88\": 1, \"12\": 2, \"1\": 2, \"8\": 2}, \"33\": {\"33\": 126, \"92\": 2, \"2\": 1, \"107\": 2, \"90\": 1}, \"40\": {\"40\": 105, \"99\": 1, \"83\": 2, \"39\": 1, \"114\": 2, \"1\": 5, \"126\": 1, \"5\": 2, \"107\": 5, \"33\": 1, \"109\": 1, \"88\": 2, \"108\": 1, \"71\": 1}, \"41\": {\"41\": 9, \"56\": 1, \"13\": 1, \"86\": 1, \"58\": 2, \"102\": 1, \"21\": 1}, \"59\": {\"59\": 12}, \"4\": {\"4\": 94, \"39\": 2, \"27\": 1, \"108\": 1, \"24\": 2, \"86\": 2, \"10\": 1, \"109\": 1}, \"112\": {\"112\": 11, \"41\": 1, \"119\": 1, \"56\": 1, \"27\": 1, \"103\": 1}, \"36\": {\"30\": 2, \"36\": 119, \"109\": 1, \"39\": 1, \"27\": 1, \"8\": 2, \"24\": 2}, \"48\": {\"48\": 9, \"67\": 1, \"90\": 2, \"31\": 1, \"66\": 2, \"29\": 1}, \"126\": {\"10\": 1, \"126\": 111, \"39\": 4}, \"125\": {\"59\": 2, \"125\": 117, \"107\": 1, \"18\": 1, \"90\": 1}, \"84\": {\"84\": 105, \"21\": 1, \"44\": 1, \"88\": 5, \"14\": 5, \"10\": 2, \"69\": 5, \"118\": 1, \"126\": 2, \"26\": 1}, \"80\": {\"80\": 16}, \"49\": {\"20\": 2, \"49\": 11, \"105\": 1, \"72\": 3, \"14\": 2, \"127\": 2, \"69\": 2, \"3\": 2, \"5\": 3, \"1\": 1, \"12\": 1, \"99\": 1, \"40\": 1}, \"47\": {\"25\": 1, \"47\": 9, \"129\": 2}, \"95\": {\"95\": 23, \"52\": 2, \"105\": 1, \"34\": 2, \"40\": 2, \"49\": 1, \"127\": 1}, \"54\": {\"95\": 2, \"54\": 13, \"103\": 1}, \"25\": {\"25\": 15, \"46\": 1}, \"116\": {\"116\": 26, \"79\": 2}, \"74\": {\"74\": 16}, \"35\": {\"35\": 12}, \"15\": {\"15\": 122, \"8\": 1, \"27\": 1, \"10\": 1, \"88\": 1, \"94\": 2}, \"108\": {\"108\": 74, \"109\": 4, \"39\": 2, \"90\": 1, \"98\": 1, \"126\": 2, \"70\": 3, \"91\": 1, \"21\": 1, \"24\": 2, \"99\": 1}, \"34\": {\"3\": 6, \"103\": 2, \"34\": 10, \"95\": 1, \"40\": 2, \"49\": 1, \"114\": 1, \"71\": 2, \"52\": 2, \"99\": 2, \"85\": 1, \"98\": 2}, \"81\": {\"81\": 30, \"18\": 3, \"44\": 2, \"35\": 1}, \"93\": {\"93\": 125, \"26\": 1, \"11\": 1, \"118\": 1}, \"55\": {\"124\": 2, \"55\": 11, \"56\": 1, \"58\": 1, \"95\": 1}, \"27\": {\"27\": 89, \"36\": 1, \"88\": 1, \"24\": 3, \"108\": 2, \"125\": 1, \"111\": 1, \"8\": 1, \"109\": 1}, \"109\": {\"109\": 102, \"70\": 3, \"39\": 1, \"90\": 1, \"126\": 2, \"108\": 1}, \"106\": {\"106\": 91, \"7\": 3, \"12\": 10, \"101\": 2, \"24\": 3, \"113\": 1, \"10\": 2, \"126\": 2, \"60\": 1, \"49\": 1}, \"68\": {\"68\": 13, \"91\": 2, \"24\": 1}, \"76\": {\"36\": 1, \"76\": 14, \"78\": 1}, \"103\": {\"103\": 6, \"42\": 2, \"10\": 1, \"112\": 1, \"95\": 4, \"19\": 2}, \"42\": {\"45\": 1, \"103\": 3, \"112\": 1, \"56\": 1, \"42\": 11, \"29\": 1, \"48\": 1, \"124\": 2, \"119\": 1, \"41\": 1, \"98\": 1, \"52\": 2, \"129\": 2}, \"129\": {\"91\": 3, \"129\": 20, \"50\": 2, \"13\": 1, \"48\": 1, \"29\": 1}, \"94\": {\"15\": 3, \"94\": 76, \"39\": 2, \"10\": 1, \"21\": 1, \"87\": 1, \"27\": 1, \"122\": 1, \"109\": 1, \"108\": 1}, \"123\": {\"123\": 16}, \"61\": {\"61\": 14, \"18\": 1, \"5\": 1}, \"51\": {\"39\": 1, \"51\": 3, \"97\": 1, \"27\": 2, \"107\": 1, \"89\": 1, \"21\": 3, \"53\": 1, \"9\": 1, \"71\": 2}, \"98\": {\"73\": 1, \"56\": 1, \"98\": 105, \"107\": 1, \"129\": 1, \"74\": 1, \"18\": 1, \"90\": 1, \"14\": 1, \"121\": 1, \"3\": 1, \"114\": 1, \"33\": 1, \"84\": 1}, \"56\": {\"56\": 8, \"42\": 2, \"50\": 2}, \"14\": {\"14\": 100, \"1\": 2, \"109\": 1, \"105\": 1, \"71\": 2, \"3\": 1, \"78\": 1, \"69\": 2, \"39\": 1, \"12\": 1}, \"90\": {\"90\": 138}, \"13\": {\"57\": 1, \"13\": 13, \"66\": 1, \"102\": 1}, \"89\": {\"89\": 29, \"4\": 1, \"51\": 2}, \"52\": {\"89\": 1, \"37\": 1, \"83\": 2, \"52\": 12, \"119\": 1, \"34\": 1, \"114\": 1, \"73\": 1}, \"72\": {\"72\": 15, \"62\": 1, \"3\": 3, \"7\": 3, \"14\": 3, \"105\": 4, \"106\": 1, \"98\": 1, \"99\": 1}, \"79\": {\"116\": 1, \"79\": 15}, \"113\": {\"113\": 119, \"90\": 1, \"70\": 1, \"108\": 1, \"87\": 1, \"39\": 1, \"126\": 1, \"93\": 1}}, \"Wisig_1\": {\"68\": {\"68\": 14, \"77\": 1, \"86\": 1}, \"7\": {\"7\": 142}, \"125\": {\"125\": 118}, \"111\": {\"111\": 111, \"6\": 1, \"68\": 2, \"90\": 1, \"106\": 1, \"98\": 1, \"21\": 1, \"5\": 2}, \"101\": {\"101\": 116, \"12\": 2, \"71\": 2, \"114\": 1, \"106\": 1, \"24\": 1, \"0\": 1}, \"11\": {\"11\": 128, \"126\": 3, \"39\": 1, \"8\": 1, \"43\": 3}, \"76\": {\"76\": 10, \"81\": 1, \"42\": 2, \"33\": 2, \"62\": 1}, \"5\": {\"5\": 85, \"77\": 1, \"0\": 1, \"39\": 1}, \"123\": {\"123\": 13, \"83\": 1, \"119\": 1, \"120\": 1}, \"85\": {\"85\": 27, \"79\": 1, \"92\": 4}, \"34\": {\"34\": 14, \"35\": 2, \"107\": 3, \"75\": 3, \"83\": 1, \"14\": 3, \"105\": 1, \"128\": 1, \"81\": 1, \"40\": 1, \"31\": 1, \"49\": 1}, \"42\": {\"42\": 17, \"66\": 1, \"38\": 1, \"90\": 1, \"82\": 2, \"56\": 1, \"85\": 1, \"28\": 2, \"34\": 2}, \"81\": {\"76\": 2, \"81\": 21, \"31\": 1, \"114\": 1, \"20\": 1, \"1\": 1, \"0\": 1}, \"127\": {\"101\": 7, \"127\": 97, \"71\": 2, \"126\": 1, \"88\": 1}, \"60\": {\"7\": 2, \"60\": 9, \"62\": 1, \"18\": 1, \"110\": 1, \"118\": 1, \"16\": 1}, \"77\": {\"77\": 16}, \"65\": {\"65\": 11, \"119\": 1}, \"44\": {\"44\": 63, \"105\": 7, \"40\": 1, \"9\": 1, \"14\": 3, \"127\": 1}, \"100\": {\"33\": 1, \"100\": 10, \"31\": 1, \"50\": 1, \"60\": 1, \"105\": 1, \"19\": 1}, \"80\": {\"80\": 16}, \"83\": {\"83\": 16, \"54\": 4, \"82\": 1, \"10\": 1, \"77\": 1, \"100\": 1, \"85\": 3, \"107\": 1}, \"51\": {\"51\": 15, \"107\": 1}, \"93\": {\"93\": 126, \"70\": 1, \"43\": 2, \"87\": 1, \"8\": 2, \"11\": 2}, \"31\": {\"31\": 9, \"89\": 2, \"127\": 1, \"35\": 1, \"40\": 1, \"34\": 1, \"44\": 1}, \"33\": {\"33\": 124, \"64\": 1, \"45\": 1}, \"113\": {\"113\": 122, \"39\": 1, \"70\": 1}, \"126\": {\"126\": 118, \"70\": 2, \"11\": 2, \"10\": 2}, \"10\": {\"10\": 106, \"108\": 9, \"97\": 2, \"24\": 1, \"126\": 1, \"43\": 1}, \"21\": {\"21\": 35, \"109\": 4, \"108\": 1}, \"90\": {\"90\": 132}, \"38\": {\"38\": 16}, \"96\": {\"94\": 2, \"96\": 13, \"62\": 1, \"106\": 1, \"7\": 2, \"24\": 1}, \"6\": {\"37\": 3, \"111\": 1, \"6\": 26, \"112\": 2}, \"121\": {\"121\": 32}, \"37\": {\"37\": 14, \"6\": 1, \"59\": 1}, \"88\": {\"88\": 112, \"24\": 12, \"126\": 2}, \"54\": {\"54\": 13, \"85\": 2, \"83\": 1}, \"92\": {\"92\": 28}, \"19\": {\"47\": 2, \"19\": 16, \"50\": 1, \"114\": 2, \"9\": 1, \"53\": 1, \"20\": 1, \"38\": 1, \"107\": 2, \"85\": 1}, \"47\": {\"73\": 1, \"47\": 7, \"114\": 1, \"9\": 1, \"107\": 1, \"31\": 1}, \"94\": {\"94\": 84, \"36\": 5, \"126\": 1, \"88\": 1, \"113\": 1}, \"66\": {\"66\": 14, \"102\": 1, \"124\": 1}, \"73\": {\"83\": 1, \"47\": 1, \"73\": 12, \"10\": 1, \"32\": 2, \"31\": 1, \"53\": 2}, \"75\": {\"75\": 12, \"29\": 1, \"89\": 2, \"34\": 1}, \"28\": {\"28\": 10, \"120\": 2, \"50\": 1, \"61\": 3, \"116\": 1, \"65\": 1, \"82\": 1, \"5\": 1}, \"20\": {\"20\": 16}, \"78\": {\"21\": 1, \"78\": 15}, \"71\": {\"71\": 76, \"12\": 4, \"109\": 1, \"127\": 10, \"101\": 5, \"44\": 2, \"126\": 1, \"14\": 2, \"21\": 1, \"105\": 2}, \"13\": {\"13\": 10, \"117\": 2, \"119\": 1, \"67\": 2, \"63\": 1}, \"118\": {\"118\": 83, \"88\": 1}, \"72\": {\"72\": 19, \"101\": 3, \"12\": 1, \"9\": 1, \"127\": 2, \"105\": 1, \"40\": 2, \"29\": 1, \"47\": 1, \"49\": 1}, \"24\": {\"24\": 69, \"88\": 12, \"108\": 10, \"126\": 1}, \"41\": {\"41\": 10, \"112\": 2, \"59\": 2, \"55\": 1, \"104\": 1}, \"102\": {\"102\": 114, \"57\": 2, \"116\": 2, \"124\": 2}, \"8\": {\"21\": 1, \"8\": 135, \"11\": 2}, \"39\": {\"39\": 88, \"109\": 2, \"11\": 1, \"111\": 1, \"126\": 2, \"70\": 1, \"12\": 1}, \"97\": {\"97\": 15, \"30\": 1, \"24\": 1, \"11\": 2, \"19\": 1}, \"48\": {\"48\": 12}, \"57\": {\"57\": 11, \"80\": 1}, \"29\": {\"29\": 28}, \"119\": {\"119\": 13, \"45\": 1, \"61\": 1, \"57\": 1}, \"89\": {\"89\": 27, \"29\": 5, \"19\": 1, \"107\": 1, \"34\": 1, \"32\": 1}, \"40\": {\"89\": 1, \"40\": 91, \"14\": 11, \"34\": 1, \"9\": 1, \"47\": 1, \"29\": 2, \"105\": 3, \"114\": 6, \"1\": 10, \"71\": 3, \"31\": 1, \"81\": 2, \"106\": 2, \"44\": 4, \"101\": 1}, \"22\": {\"108\": 1, \"22\": 11, \"124\": 2, \"5\": 2}, \"53\": {\"53\": 18, \"92\": 1, \"6\": 1}, \"108\": {\"108\": 109, \"10\": 7, \"24\": 1, \"88\": 2, \"126\": 3, \"109\": 2}, \"23\": {\"23\": 15, \"87\": 2, \"8\": 1, \"122\": 1, \"110\": 1, \"105\": 2, \"69\": 1, \"43\": 1}, \"109\": {\"109\": 110, \"70\": 4, \"108\": 1, \"39\": 1}, \"112\": {\"112\": 10, \"111\": 3, \"91\": 1, \"6\": 1, \"58\": 1}, \"35\": {\"76\": 2, \"35\": 10}, \"3\": {\"3\": 80, \"62\": 2, \"111\": 4, \"14\": 2}, \"103\": {\"103\": 13, \"127\": 1, \"91\": 1, \"105\": 1}, \"4\": {\"4\": 98, \"109\": 1, \"84\": 1}, \"87\": {\"87\": 96, \"43\": 5, \"109\": 1, \"122\": 4, \"96\": 2}, \"25\": {\"87\": 1, \"120\": 1, \"25\": 5, \"61\": 1, \"67\": 1, \"33\": 1, \"82\": 1, \"83\": 1, \"38\": 3, \"11\": 1}, \"15\": {\"15\": 97, \"94\": 3, \"39\": 1, \"36\": 1, \"21\": 1, \"109\": 1}, \"95\": {\"95\": 34, \"33\": 2}, \"120\": {\"120\": 14, \"111\": 1, \"28\": 1, \"76\": 1, \"8\": 1, \"19\": 2}, \"59\": {\"59\": 11, \"50\": 1}, \"49\": {\"49\": 15, \"29\": 1, \"85\": 1, \"34\": 1, \"73\": 1, \"89\": 1}, \"52\": {\"52\": 16, \"3\": 1, \"70\": 1, \"85\": 1, \"24\": 1}, \"45\": {\"22\": 2, \"119\": 2, \"92\": 2, \"45\": 3, \"124\": 2, \"24\": 1}, \"107\": {\"107\": 120, \"34\": 2, \"114\": 1, \"128\": 1}, \"106\": {\"106\": 128, \"10\": 1, \"12\": 3, \"84\": 2}, \"18\": {\"18\": 124}, \"64\": {\"64\": 16}, \"86\": {\"115\": 1, \"86\": 27, \"48\": 2, \"111\": 2, \"46\": 1, \"108\": 1, \"112\": 1, \"2\": 1}, \"14\": {\"44\": 5, \"14\": 85, \"72\": 2, \"84\": 2, \"105\": 2}, \"115\": {\"115\": 12}, \"0\": {\"0\": 76, \"7\": 2, \"110\": 2, \"106\": 3, \"78\": 1}, \"104\": {\"104\": 16}, \"61\": {\"61\": 12}, \"129\": {\"129\": 14, \"104\": 1, \"77\": 1, \"117\": 1, \"22\": 1, \"41\": 1, \"119\": 2, \"5\": 2, \"63\": 1, \"68\": 1, \"67\": 1, \"61\": 1, \"111\": 1}, \"122\": {\"122\": 80, \"87\": 4, \"70\": 1, \"39\": 1, \"0\": 1, \"30\": 1}, \"67\": {\"61\": 1, \"67\": 13, \"21\": 1, \"97\": 1}, \"128\": {\"128\": 16, \"107\": 5, \"72\": 1, \"49\": 1, \"29\": 1}, \"26\": {\"26\": 129, \"24\": 1, \"126\": 2, \"16\": 2}, \"117\": {\"117\": 136}, \"91\": {\"91\": 22, \"85\": 2, \"28\": 1, \"92\": 1, \"77\": 1, \"68\": 1}, \"12\": {\"12\": 90, \"44\": 1, \"70\": 2, \"108\": 3, \"101\": 6, \"0\": 2}, \"50\": {\"99\": 2, \"40\": 1, \"50\": 9, \"82\": 1, \"83\": 3}, \"99\": {\"99\": 16, \"60\": 1, \"81\": 1, \"69\": 1, \"44\": 1, \"7\": 2, \"26\": 1, \"84\": 1}, \"110\": {\"110\": 100, \"106\": 4}, \"43\": {\"43\": 94, \"87\": 3, \"96\": 2, \"8\": 2, \"24\": 1, \"122\": 4, \"93\": 3, \"118\": 1, \"106\": 2, \"11\": 4}, \"82\": {\"82\": 30, \"114\": 1, \"2\": 3, \"61\": 1, \"64\": 1}, \"1\": {\"1\": 92, \"14\": 2, \"33\": 1, \"40\": 1}, \"46\": {\"111\": 1, \"45\": 1, \"46\": 6, \"55\": 1, \"54\": 1, \"86\": 1, \"17\": 1}, \"16\": {\"16\": 103, \"70\": 1, \"69\": 2, \"18\": 1, \"109\": 1}, \"74\": {\"74\": 11, \"3\": 1, \"114\": 3, \"82\": 1}, \"32\": {\"53\": 4, \"32\": 23, \"34\": 2, \"56\": 1, \"51\": 2}, \"62\": {\"62\": 110, \"14\": 2, \"84\": 2, \"70\": 1, \"102\": 1, \"69\": 2, \"1\": 2}, \"27\": {\"27\": 81, \"87\": 1, \"10\": 2, \"30\": 3, \"126\": 1, \"8\": 2, \"24\": 1, \"21\": 1}, \"17\": {\"5\": 3, \"79\": 1, \"37\": 4, \"124\": 1, \"6\": 1, \"112\": 1, \"17\": 3, \"46\": 2}, \"36\": {\"36\": 133, \"39\": 1}, \"2\": {\"2\": 17, \"66\": 1, \"129\": 2, \"116\": 1, \"117\": 5, \"82\": 2, \"67\": 1, \"83\": 1, \"64\": 1, \"90\": 1}, \"70\": {\"70\": 124, \"109\": 4}, \"9\": {\"9\": 29, \"49\": 1, \"105\": 1, \"35\": 1}, \"114\": {\"114\": 129, \"90\": 1}, \"79\": {\"79\": 11, \"5\": 1}, \"56\": {\"17\": 1, \"56\": 9, \"98\": 1, \"32\": 1}, \"124\": {\"124\": 102}, \"84\": {\"84\": 126, \"7\": 7, \"105\": 1}, \"69\": {\"69\": 102, \"109\": 1, \"26\": 4, \"70\": 1}, \"58\": {\"58\": 10, \"111\": 1, \"98\": 1}, \"30\": {\"30\": 51, \"126\": 1}, \"55\": {\"55\": 10, \"5\": 2}, \"105\": {\"105\": 73, \"44\": 2, \"14\": 2, \"84\": 2, \"71\": 1, \"62\": 1, \"74\": 2, \"40\": 1}, \"63\": {\"63\": 13, \"117\": 1, \"102\": 2}, \"98\": {\"98\": 103, \"107\": 2, \"109\": 1, \"111\": 2}, \"116\": {\"116\": 23, \"102\": 3, \"5\": 1, \"21\": 1, \"2\": 1, \"65\": 1, \"129\": 2}}, \"Wisig_3\": {\"76\": {\"76\": 10, \"50\": 1, \"1\": 1, \"53\": 1, \"14\": 1, \"66\": 1, \"20\": 1}, \"6\": {\"6\": 26, \"111\": 3, \"37\": 1, \"59\": 1, \"82\": 1}, \"108\": {\"108\": 103, \"10\": 3}, \"29\": {\"29\": 28, \"111\": 1, \"45\": 2, \"82\": 1}, \"83\": {\"83\": 17, \"34\": 2, \"3\": 2, \"35\": 1, \"114\": 2}, \"18\": {\"18\": 126, \"88\": 1, \"78\": 1}, \"54\": {\"54\": 12, \"9\": 2, \"83\": 2}, \"15\": {\"15\": 104}, \"100\": {\"100\": 12, \"74\": 1, \"19\": 1, \"44\": 1, \"99\": 1}, \"90\": {\"90\": 130, \"85\": 1, \"86\": 1, \"45\": 1, \"50\": 1, \"5\": 2}, \"26\": {\"26\": 125, \"39\": 1, \"88\": 1, \"90\": 1, \"118\": 2, \"18\": 2}, \"115\": {\"115\": 12, \"55\": 2, \"112\": 2}, \"94\": {\"94\": 78, \"15\": 4, \"0\": 1, \"44\": 1}, \"46\": {\"46\": 14, \"95\": 2}, \"121\": {\"121\": 29, \"61\": 2, \"81\": 1}, \"109\": {\"109\": 124, \"118\": 2, \"43\": 1, \"11\": 1}, \"101\": {\"101\": 43, \"49\": 2, \"98\": 1, \"12\": 2, \"94\": 4}, \"99\": {\"99\": 28, \"9\": 3, \"47\": 2, \"34\": 1, \"71\": 1, \"114\": 1}, \"8\": {\"8\": 121, \"36\": 2, \"109\": 1, \"27\": 1, \"87\": 2, \"15\": 1}, \"102\": {\"102\": 104}, \"122\": {\"113\": 1, \"122\": 49, \"90\": 1, \"110\": 5, \"109\": 1, \"96\": 1, \"126\": 1, \"8\": 1}, \"36\": {\"36\": 109, \"10\": 4, \"108\": 2, \"124\": 1}, \"113\": {\"113\": 118, \"126\": 1, \"26\": 1}, \"123\": {\"102\": 1, \"123\": 14, \"117\": 1}, \"120\": {\"102\": 1, \"120\": 13, \"61\": 2, \"64\": 2, \"67\": 1, \"92\": 1}, \"125\": {\"125\": 104, \"4\": 3, \"32\": 1}, \"89\": {\"89\": 22, \"120\": 3, \"107\": 1, \"44\": 1, \"32\": 1}, \"9\": {\"9\": 28, \"99\": 1, \"83\": 1, \"19\": 1, \"72\": 1}, \"31\": {\"31\": 17, \"82\": 1, \"14\": 2}, \"62\": {\"62\": 102, \"69\": 1, \"84\": 8, \"126\": 1, \"16\": 1, \"110\": 1}, \"49\": {\"49\": 15, \"14\": 2, \"84\": 3, \"93\": 1, \"62\": 2, \"6\": 1}, \"23\": {\"18\": 4, \"49\": 1, \"23\": 13, \"30\": 1, \"26\": 3, \"0\": 1, \"93\": 1, \"8\": 2, \"110\": 3, \"16\": 1, \"109\": 2}, \"55\": {\"55\": 14, \"77\": 2}, \"128\": {\"128\": 24, \"57\": 1, \"74\": 1, \"71\": 1, \"95\": 1, \"9\": 1, \"19\": 3}, \"71\": {\"71\": 60, \"105\": 2, \"89\": 1, \"127\": 1, \"114\": 2, \"3\": 2}, \"51\": {\"127\": 4, \"51\": 10, \"7\": 2}, \"7\": {\"7\": 100, \"101\": 2, \"106\": 3, \"127\": 1}, \"117\": {\"117\": 100, \"44\": 4}, \"28\": {\"28\": 14, \"19\": 2}, \"127\": {\"127\": 113, \"12\": 3, \"7\": 5, \"71\": 4, \"53\": 1, \"78\": 1, \"101\": 1}, \"57\": {\"57\": 14, \"103\": 1, \"79\": 1, \"85\": 1, \"74\": 1, \"112\": 1, \"90\": 1}, \"78\": {\"78\": 11, \"11\": 1, \"110\": 2, \"51\": 1, \"88\": 1}, \"87\": {\"87\": 119, \"27\": 1}, \"40\": {\"20\": 1, \"40\": 74, \"44\": 2, \"107\": 11, \"23\": 1, \"14\": 7, \"1\": 15, \"105\": 5, \"71\": 1, \"33\": 1, \"127\": 2, \"49\": 1, \"53\": 1, \"114\": 4, \"3\": 2}, \"81\": {\"81\": 31, \"18\": 1}, \"2\": {\"2\": 28}, \"58\": {\"9\": 1, \"58\": 6, \"19\": 1, \"95\": 1, \"55\": 1, \"91\": 2, \"38\": 1, \"25\": 1, \"83\": 1, \"54\": 1}, \"68\": {\"68\": 13, \"86\": 2, \"108\": 1}, \"20\": {\"20\": 6, \"40\": 1, \"71\": 1, \"34\": 1, \"1\": 2, \"38\": 1, \"31\": 1, \"53\": 1, \"107\": 1, \"103\": 1}, \"35\": {\"35\": 12}, \"96\": {\"96\": 16, \"118\": 3, \"113\": 1}, \"84\": {\"84\": 99, \"62\": 8, \"14\": 1}, \"13\": {\"88\": 2, \"13\": 8, \"80\": 1, \"116\": 1, \"119\": 2, \"43\": 2}, \"64\": {\"64\": 17, \"31\": 1, \"44\": 2}, \"112\": {\"65\": 1, \"103\": 1, \"5\": 1, \"112\": 4, \"57\": 3, \"41\": 2, \"47\": 1, \"95\": 1, \"66\": 1, \"42\": 1}, \"103\": {\"112\": 2, \"66\": 2, \"41\": 1, \"103\": 5, \"55\": 2, \"80\": 1, \"19\": 2, \"29\": 1}, \"65\": {\"65\": 11, \"17\": 1}, \"118\": {\"118\": 96, \"113\": 4}, \"88\": {\"88\": 106, \"21\": 3, \"126\": 1, \"124\": 1, \"5\": 1}, \"85\": {\"85\": 35, \"91\": 1}, \"5\": {\"5\": 98, \"103\": 1, \"86\": 1, \"21\": 1, \"90\": 4, \"124\": 2, \"113\": 1, \"129\": 1, \"126\": 1, \"98\": 2}, \"93\": {\"93\": 129, \"16\": 6, \"33\": 1, \"90\": 1, \"14\": 1}, \"43\": {\"87\": 1, \"43\": 45, \"39\": 2, \"109\": 7, \"11\": 1}, \"67\": {\"67\": 15, \"10\": 1}, \"48\": {\"48\": 5, \"111\": 1, \"4\": 2, \"64\": 1, \"67\": 1, \"119\": 2, \"59\": 2, \"102\": 1, \"37\": 1}, \"73\": {\"73\": 30, \"34\": 1, \"19\": 1, \"75\": 1, \"92\": 1, \"98\": 3, \"124\": 2, \"90\": 1}, \"34\": {\"105\": 1, \"34\": 7, \"99\": 1, \"107\": 4, \"95\": 4, \"83\": 2, \"92\": 1, \"3\": 2, \"44\": 1, \"53\": 1, \"52\": 1, \"54\": 3, \"65\": 1, \"72\": 2, \"73\": 1}, \"91\": {\"5\": 1, \"112\": 1, \"91\": 9, \"98\": 3, \"66\": 2, \"124\": 2, \"86\": 1, \"119\": 1, \"52\": 1, \"65\": 1, \"111\": 1, \"85\": 1}, \"105\": {\"105\": 103, \"107\": 2, \"114\": 10, \"3\": 7, \"127\": 1, \"71\": 1}, \"10\": {\"10\": 95, \"108\": 8, \"36\": 2, \"39\": 1}, \"61\": {\"61\": 14, \"81\": 2}, \"74\": {\"74\": 12, \"38\": 2, \"82\": 1, \"112\": 1}, \"4\": {\"4\": 91, \"37\": 2, \"88\": 1, \"125\": 2}, \"37\": {\"37\": 11, \"4\": 2, \"59\": 2, \"125\": 1}, \"19\": {\"19\": 22, \"76\": 1, \"66\": 1, \"100\": 1, \"85\": 1, \"9\": 1, \"32\": 1, \"128\": 2, \"28\": 2}, \"44\": {\"44\": 69, \"33\": 2, \"40\": 1}, \"52\": {\"52\": 10, \"20\": 1, \"25\": 2, \"91\": 1, \"83\": 1, \"112\": 1}, \"92\": {\"92\": 31, \"84\": 1}, \"33\": {\"33\": 128}, \"45\": {\"45\": 15, \"29\": 1}, \"11\": {\"11\": 122, \"109\": 3, \"27\": 1, \"10\": 2}, \"129\": {\"129\": 26, \"45\": 1, \"50\": 1, \"104\": 1, \"42\": 1, \"103\": 1, \"5\": 1}, \"116\": {\"116\": 24, \"90\": 1, \"129\": 3}, \"75\": {\"25\": 2, \"75\": 10, \"99\": 2, \"72\": 1, \"46\": 1}, \"41\": {\"41\": 7, \"112\": 1, \"111\": 1, \"77\": 1, \"42\": 1, \"68\": 2, \"65\": 3}, \"21\": {\"21\": 42, \"88\": 4, \"126\": 1, \"86\": 1}, \"69\": {\"69\": 78, \"88\": 1, \"1\": 2, \"33\": 2, \"126\": 1}, \"16\": {\"16\": 102, \"26\": 1, \"93\": 3, \"126\": 1, \"62\": 1}, \"25\": {\"25\": 9, \"24\": 2, \"95\": 2, \"58\": 2, \"56\": 1}, \"12\": {\"12\": 101, \"7\": 1, \"106\": 1, \"88\": 1}, \"72\": {\"72\": 24, \"75\": 1, \"24\": 1, \"34\": 2}, \"0\": {\"0\": 112, \"8\": 3, \"126\": 1}, \"50\": {\"5\": 3, \"50\": 9, \"56\": 1, \"42\": 1, \"103\": 1, \"45\": 1}, \"107\": {\"53\": 1, \"107\": 130, \"40\": 4, \"20\": 2, \"114\": 3}, \"124\": {\"124\": 122, \"5\": 1, \"111\": 1}, \"53\": {\"53\": 11, \"9\": 1, \"31\": 2, \"3\": 1, \"1\": 2, \"88\": 1, \"34\": 1, \"40\": 1}, \"66\": {\"103\": 1, \"50\": 1, \"65\": 1, \"116\": 1, \"129\": 2, \"66\": 4, \"85\": 1, \"77\": 2, \"112\": 2, \"42\": 1}, \"47\": {\"47\": 12}, \"24\": {\"24\": 39, \"27\": 2, \"36\": 2, \"88\": 2, \"49\": 2, \"43\": 1}, \"95\": {\"95\": 27, \"39\": 1, \"38\": 1, \"72\": 1, \"98\": 2}, \"98\": {\"98\": 102, \"75\": 1, \"85\": 1, \"44\": 1, \"33\": 1}, \"63\": {\"63\": 16}, \"3\": {\"3\": 101, \"39\": 1, \"107\": 1, \"105\": 4, \"127\": 1, \"113\": 1, \"71\": 2, \"40\": 2, \"1\": 2, \"36\": 1}, \"14\": {\"14\": 77, \"1\": 1, \"84\": 1, \"122\": 1}, \"1\": {\"1\": 99, \"40\": 9}, \"38\": {\"38\": 14, \"95\": 1, \"105\": 1}, \"110\": {\"110\": 77, \"88\": 2, \"8\": 4, \"93\": 1, \"39\": 1, \"122\": 3, \"87\": 2, \"5\": 1, \"126\": 1}, \"17\": {\"109\": 1, \"17\": 10, \"129\": 2, \"119\": 1, \"68\": 2}, \"30\": {\"30\": 79, \"107\": 1, \"122\": 1, \"87\": 1, \"110\": 2}, \"56\": {\"56\": 9, \"57\": 2, \"46\": 1}, \"27\": {\"27\": 82, \"11\": 1, \"36\": 5, \"88\": 1, \"10\": 3, \"126\": 1, \"108\": 2, \"39\": 1}, \"104\": {\"104\": 9, \"37\": 1, \"48\": 2, \"91\": 1, \"124\": 3}, \"97\": {\"97\": 16, \"94\": 2, \"49\": 2}, \"42\": {\"42\": 12, \"112\": 1, \"25\": 1, \"85\": 2, \"95\": 2, \"41\": 2, \"58\": 2, \"124\": 2, \"66\": 2, \"129\": 1, \"51\": 1}, \"39\": {\"39\": 108}, \"70\": {\"70\": 58, \"108\": 3, \"88\": 5, \"27\": 1, \"21\": 1, \"39\": 1, \"11\": 1, \"109\": 1, \"10\": 1}, \"86\": {\"86\": 24, \"111\": 2, \"125\": 1, \"115\": 1}, \"119\": {\"119\": 12, \"102\": 1, \"22\": 1, \"2\": 1, \"100\": 1}, \"77\": {\"77\": 16}, \"59\": {\"59\": 12}, \"22\": {\"79\": 1, \"55\": 1, \"22\": 10, \"42\": 1, \"80\": 1, \"48\": 2}, \"79\": {\"79\": 10, \"86\": 1, \"17\": 1}, \"80\": {\"80\": 16}, \"111\": {\"111\": 124, \"105\": 1, \"6\": 1, \"98\": 1, \"68\": 3, \"124\": 2}, \"82\": {\"82\": 23, \"90\": 3, \"100\": 2}, \"126\": {\"126\": 121, \"87\": 2, \"18\": 1}, \"32\": {\"32\": 23, \"38\": 2, \"107\": 3, \"98\": 1, \"99\": 1, \"19\": 1, \"128\": 1}, \"106\": {\"106\": 98, \"109\": 1, \"39\": 1}, \"60\": {\"60\": 27, \"23\": 1}, \"114\": {\"114\": 87, \"105\": 14, \"90\": 1, \"127\": 2, \"44\": 1, \"39\": 1, \"3\": 2}}}, \"per_domain_accuracy\": {\"ORACLE.run18\": {\"accuracy\": 0.8910416666666666, \"source?\": true}, \"ORACLE.run138\": {\"accuracy\": 0.9021875, \"source?\": true}, \"ORACLE.run126\": {\"accuracy\": 0.8081770833333334, \"source?\": true}, \"ORACLE.run120\": {\"accuracy\": 0.89140625, \"source?\": true}, \"ORACLE.run150\": {\"accuracy\": 0.91359375, \"source?\": true}, \"ORACLE.run132\": {\"accuracy\": 0.87546875, \"source?\": true}, \"ORACLE.run144\": {\"accuracy\": 0.85515625, \"source?\": true}, \"ORACLE.run114\": {\"accuracy\": 0.8866145833333333, \"source?\": true}, \"Wisig_2\": {\"accuracy\": 0.8426995798319328, \"source?\": false}, \"Wisig_4\": {\"accuracy\": 0.845164609053498, \"source?\": false}, \"Wisig_1\": {\"accuracy\": 0.8917553191489361, \"source?\": false}, \"Wisig_3\": {\"accuracy\": 0.8835352422907489, \"source?\": false}}}, \"history\": {\"epoch_indices\": [1, 2, 3, 4, 5, 6, 7, 8, 9, 10, 11], \"train_label_loss\": [0.6863048678739662, 0.42332087264850826, 0.35783237762860065, 0.3271939598300794, 0.3048250283071372, 0.28710058153008244, 0.26953319953287497, 0.2562608769064952, 0.24279015478691907, 0.23019016262104353, 0.22064450711394049], \"source_val_label_loss\": [0.7661779522895813, 0.40552493929862976, 0.383112370967865, 0.3589882552623749, 0.35718396306037903, 0.34611400961875916, 0.3461836278438568, 0.33851325511932373, 0.3341604769229889, 0.3413428068161011, 0.3302019536495209], \"target_val_label_loss\": [265.3663024902344, 77.28006744384766, 92.6444091796875, 103.9061279296875, 148.39869689941406, 157.98690795898438, 112.51091766357422, 152.25563049316406, 142.34619140625, 193.0941619873047, 191.8675994873047], \"source_val_acc_label\": [0.7812890625, 0.8515690104166667, 0.8650325520833333, 0.870546875, 0.8791276041666667, 0.8764127604166667, 0.8779557291666666, 0.87998046875, 0.8808138020833334, 0.8827083333333333, 0.88556640625], \"target_val_acc_label\": [0.7820784729586426, 0.8359623541887593, 0.8423250265111347, 0.8430209437963945, 0.8447110286320254, 0.8460034464475079, 0.8653897136797455, 0.8549840933191941, 0.8634676564156946, 0.8527969247083775, 0.8567404559915165]}, \"dataset_metrics\": {\"source\": {\"train\": {\"n_unique_x\": 896000, \"n_unique_y\": 16, \"n_batch/episode\": 33600}, \"val\": {\"n_unique_x\": 192000, \"n_unique_y\": 16, \"n_batch/episode\": 4800}, \"test\": {\"n_unique_x\": 192000, \"n_unique_y\": 16, \"n_batch/episode\": 4800}}, \"target\": {\"train\": {\"n_unique_x\": 188974, \"n_unique_y\": 130, \"n_batch/episode\": 6847}, \"val\": {\"n_unique_x\": 40019, \"n_unique_y\": 130, \"n_batch/episode\": 943}, \"test\": {\"n_unique_x\": 40738, \"n_unique_y\": 130, \"n_batch/episode\": 960}}}}'"
      ]
     },
     "execution_count": 29,
     "metadata": {},
     "output_type": "execute_result"
    }
   ],
   "source": [
    "json.dumps(experiment)"
   ]
  }
 ],
 "metadata": {
  "celltoolbar": "Tags",
  "kernelspec": {
   "display_name": "Python 3 (ipykernel)",
   "language": "python",
   "name": "python3"
  },
  "language_info": {
   "codemirror_mode": {
    "name": "ipython",
    "version": 3
   },
   "file_extension": ".py",
   "mimetype": "text/x-python",
   "name": "python",
   "nbconvert_exporter": "python",
   "pygments_lexer": "ipython3",
   "version": "3.8.12"
  },
  "papermill": {
   "default_parameters": {},
   "duration": 10854.176827,
   "end_time": "2022-03-24T03:40:37.566204",
   "environment_variables": {},
   "exception": null,
   "input_path": "/root/csc500-main/csc500-notebooks/templates/tl_ptn_template.ipynb",
   "output_path": "trial.ipynb",
   "parameters": {
    "parameters": {
     "BEST_MODEL_PATH": "./best_model.pth",
     "NUM_LOGS_PER_EPOCH": 10,
     "criteria_for_best": "target_accuracy",
     "dataset_seed": 154325,
     "datasets": [
      {
       "domain_prefix": "Wisig_",
       "domains": [
        1,
        2,
        3,
        4
       ],
       "episode_transforms": [],
       "labels": [
        "1-10",
        "1-12",
        "1-14",
        "1-16",
        "1-18",
        "1-19",
        "1-8",
        "10-11",
        "10-17",
        "10-4",
        "10-7",
        "11-1",
        "11-10",
        "11-19",
        "11-20",
        "11-4",
        "11-7",
        "12-19",
        "12-20",
        "12-7",
        "13-14",
        "13-18",
        "13-19",
        "13-20",
        "13-3",
        "13-7",
        "14-10",
        "14-11",
        "14-12",
        "14-13",
        "14-14",
        "14-19",
        "14-20",
        "14-7",
        "14-8",
        "14-9",
        "15-1",
        "15-19",
        "15-6",
        "16-1",
        "16-16",
        "16-19",
        "16-20",
        "17-10",
        "17-11",
        "18-1",
        "18-10",
        "18-11",
        "18-12",
        "18-13",
        "18-14",
        "18-15",
        "18-16",
        "18-17",
        "18-19",
        "18-2",
        "18-20",
        "18-4",
        "18-5",
        "18-7",
        "18-8",
        "18-9",
        "19-1",
        "19-10",
        "19-11",
        "19-12",
        "19-13",
        "19-14",
        "19-15",
        "19-19",
        "19-2",
        "19-20",
        "19-3",
        "19-4",
        "19-6",
        "19-7",
        "19-8",
        "19-9",
        "2-1",
        "2-13",
        "2-15",
        "2-3",
        "2-4",
        "2-5",
        "2-6",
        "2-7",
        "2-8",
        "20-1",
        "20-12",
        "20-14",
        "20-15",
        "20-16",
        "20-18",
        "20-19",
        "20-20",
        "20-3",
        "20-4",
        "20-5",
        "20-7",
        "20-8",
        "3-1",
        "3-13",
        "3-18",
        "3-2",
        "3-8",
        "4-1",
        "4-10",
        "4-11",
        "5-1",
        "5-5",
        "6-1",
        "6-15",
        "6-6",
        "7-10",
        "7-11",
        "7-12",
        "7-13",
        "7-14",
        "7-7",
        "7-8",
        "7-9",
        "8-1",
        "8-13",
        "8-14",
        "8-18",
        "8-20",
        "8-3",
        "8-8",
        "9-1",
        "9-7"
       ],
       "num_examples_per_domain_per_label": -1,
       "pickle_path": "/root/csc500-main/datasets/wisig.node3-19.stratified_ds.2022A.pkl",
       "source_or_target_dataset": "target",
       "x_transforms": []
      },
      {
       "domain_prefix": "ORACLE.run1",
       "domains": [
        32,
        38,
        8,
        44,
        14,
        50,
        20,
        26
       ],
       "episode_transforms": [],
       "labels": [
        "3123D52",
        "3123D65",
        "3123D79",
        "3123D80",
        "3123D54",
        "3123D70",
        "3123D7B",
        "3123D89",
        "3123D58",
        "3123D76",
        "3123D7D",
        "3123EFE",
        "3123D64",
        "3123D78",
        "3123D7E",
        "3124E4A"
       ],
       "num_examples_per_domain_per_label": 10000,
       "pickle_path": "/root/csc500-main/datasets/oracle.Run1_10kExamples_stratified_ds.2022A.pkl",
       "source_or_target_dataset": "source",
       "x_transforms": []
      }
     ],
     "device": "cuda",
     "experiment_name": "tl_1v2:wisig-oracle.run1",
     "lr": 0.0001,
     "n_epoch": 50,
     "n_query": 2,
     "n_shot": 3,
     "n_way": 16,
     "patience": 3,
     "seed": 154325,
     "test_k_factor": 2,
     "torch_default_dtype": "torch.float32",
     "train_k_factor": 3,
     "val_k_factor": 2,
     "x_net": [
      {
       "class": "nnReshape",
       "kargs": {
        "shape": [
         -1,
         1,
         2,
         256
        ]
       }
      },
      {
       "class": "Conv2d",
       "kargs": {
        "bias": false,
        "in_channels": 1,
        "kernel_size": [
         1,
         7
        ],
        "out_channels": 256,
        "padding": [
         0,
         3
        ]
       }
      },
      {
       "class": "ReLU",
       "kargs": {
        "inplace": true
       }
      },
      {
       "class": "BatchNorm2d",
       "kargs": {
        "num_features": 256
       }
      },
      {
       "class": "Conv2d",
       "kargs": {
        "bias": true,
        "in_channels": 256,
        "kernel_size": [
         2,
         7
        ],
        "out_channels": 80,
        "padding": [
         0,
         3
        ]
       }
      },
      {
       "class": "ReLU",
       "kargs": {
        "inplace": true
       }
      },
      {
       "class": "BatchNorm2d",
       "kargs": {
        "num_features": 80
       }
      },
      {
       "class": "Flatten",
       "kargs": {}
      },
      {
       "class": "Linear",
       "kargs": {
        "in_features": 20480,
        "out_features": 256
       }
      },
      {
       "class": "ReLU",
       "kargs": {
        "inplace": true
       }
      },
      {
       "class": "BatchNorm1d",
       "kargs": {
        "num_features": 256
       }
      },
      {
       "class": "Linear",
       "kargs": {
        "in_features": 256,
        "out_features": 256
       }
      }
     ]
    }
   },
   "start_time": "2022-03-24T00:39:43.389377",
   "version": "2.3.4"
  }
 },
 "nbformat": 4,
 "nbformat_minor": 5
}