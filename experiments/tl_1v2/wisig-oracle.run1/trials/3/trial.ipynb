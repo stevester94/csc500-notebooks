{
 "cells": [
  {
   "cell_type": "markdown",
   "id": "9fea5f46",
   "metadata": {
    "papermill": {
     "duration": 0.024788,
     "end_time": "2022-03-23T04:58:34.396078",
     "exception": false,
     "start_time": "2022-03-23T04:58:34.371290",
     "status": "completed"
    },
    "tags": []
   },
   "source": [
    "# Transfer Learning Template"
   ]
  },
  {
   "cell_type": "code",
   "execution_count": 1,
   "id": "0902182a",
   "metadata": {
    "execution": {
     "iopub.execute_input": "2022-03-23T04:58:34.454037Z",
     "iopub.status.busy": "2022-03-23T04:58:34.447315Z",
     "iopub.status.idle": "2022-03-23T04:58:36.482532Z",
     "shell.execute_reply": "2022-03-23T04:58:36.481597Z"
    },
    "papermill": {
     "duration": 2.067818,
     "end_time": "2022-03-23T04:58:36.482730",
     "exception": false,
     "start_time": "2022-03-23T04:58:34.414912",
     "status": "completed"
    },
    "tags": []
   },
   "outputs": [],
   "source": [
    "%load_ext autoreload\n",
    "%autoreload 2\n",
    "%matplotlib inline\n",
    "\n",
    "    \n",
    "import os, json, sys, time, random\n",
    "import numpy as np\n",
    "import torch\n",
    "from torch.optim import Adam\n",
    "from  easydict import EasyDict\n",
    "import matplotlib.pyplot as plt\n",
    "\n",
    "from steves_models.steves_ptn import Steves_Prototypical_Network\n",
    "\n",
    "from steves_utils.lazy_iterable_wrapper import Lazy_Iterable_Wrapper\n",
    "from steves_utils.iterable_aggregator import Iterable_Aggregator\n",
    "from steves_utils.ptn_train_eval_test_jig import  PTN_Train_Eval_Test_Jig\n",
    "from steves_utils.torch_sequential_builder import build_sequential\n",
    "from steves_utils.torch_utils import get_dataset_metrics, ptn_confusion_by_domain_over_dataloader\n",
    "from steves_utils.utils_v2 import (per_domain_accuracy_from_confusion, get_datasets_base_path)\n",
    "from steves_utils.PTN.utils import independent_accuracy_assesment\n",
    "\n",
    "from torch.utils.data import DataLoader\n",
    "\n",
    "from steves_utils.stratified_dataset.episodic_accessor import Episodic_Accessor_Factory\n",
    "\n",
    "from steves_utils.ptn_do_report import (\n",
    "    get_loss_curve,\n",
    "    get_results_table,\n",
    "    get_parameters_table,\n",
    "    get_domain_accuracies,\n",
    ")\n",
    "\n",
    "from steves_utils.transforms import get_chained_transform"
   ]
  },
  {
   "cell_type": "markdown",
   "id": "41c840b4",
   "metadata": {
    "papermill": {
     "duration": 0.018797,
     "end_time": "2022-03-23T04:58:36.528583",
     "exception": false,
     "start_time": "2022-03-23T04:58:36.509786",
     "status": "completed"
    },
    "tags": []
   },
   "source": [
    "# Allowed Parameters\n",
    "These are allowed parameters, not defaults\n",
    "Each of these values need to be present in the injected parameters (the notebook will raise an exception if they are not present)\n",
    "\n",
    "Papermill uses the cell tag \"parameters\" to inject the real parameters below this cell.\n",
    "Enable tags to see what I mean"
   ]
  },
  {
   "cell_type": "code",
   "execution_count": 2,
   "id": "fd44eb83",
   "metadata": {
    "execution": {
     "iopub.execute_input": "2022-03-23T04:58:36.572261Z",
     "iopub.status.busy": "2022-03-23T04:58:36.571876Z",
     "iopub.status.idle": "2022-03-23T04:58:36.602280Z",
     "shell.execute_reply": "2022-03-23T04:58:36.601550Z"
    },
    "papermill": {
     "duration": 0.055216,
     "end_time": "2022-03-23T04:58:36.602464",
     "exception": false,
     "start_time": "2022-03-23T04:58:36.547248",
     "status": "completed"
    },
    "tags": []
   },
   "outputs": [],
   "source": [
    "required_parameters = {\n",
    "    \"experiment_name\",\n",
    "    \"lr\",\n",
    "    \"device\",\n",
    "    \"seed\",\n",
    "    \"dataset_seed\",\n",
    "    \"n_shot\",\n",
    "    \"n_query\",\n",
    "    \"n_way\",\n",
    "    \"train_k_factor\",\n",
    "    \"val_k_factor\",\n",
    "    \"test_k_factor\",\n",
    "    \"n_epoch\",\n",
    "    \"patience\",\n",
    "    \"criteria_for_best\",\n",
    "    \"x_net\",\n",
    "    \"datasets\",\n",
    "    \"torch_default_dtype\",\n",
    "    \"NUM_LOGS_PER_EPOCH\",\n",
    "    \"BEST_MODEL_PATH\",\n",
    "    \"x_shape\",\n",
    "}"
   ]
  },
  {
   "cell_type": "code",
   "execution_count": 3,
   "id": "fa3f0049",
   "metadata": {
    "execution": {
     "iopub.execute_input": "2022-03-23T04:58:36.661132Z",
     "iopub.status.busy": "2022-03-23T04:58:36.659551Z",
     "iopub.status.idle": "2022-03-23T04:58:36.686173Z",
     "shell.execute_reply": "2022-03-23T04:58:36.685354Z"
    },
    "papermill": {
     "duration": 0.058657,
     "end_time": "2022-03-23T04:58:36.686353",
     "exception": false,
     "start_time": "2022-03-23T04:58:36.627696",
     "status": "completed"
    },
    "tags": [
     "parameters"
    ]
   },
   "outputs": [],
   "source": [
    "from steves_utils.CORES.utils import (\n",
    "    ALL_NODES,\n",
    "    ALL_NODES_MINIMUM_1000_EXAMPLES,\n",
    "    ALL_DAYS\n",
    ")\n",
    "\n",
    "from steves_utils.ORACLE.utils_v2 import (\n",
    "    ALL_DISTANCES_FEET_NARROWED,\n",
    "    ALL_RUNS,\n",
    "    ALL_SERIAL_NUMBERS,\n",
    ")\n",
    "\n",
    "standalone_parameters = {}\n",
    "standalone_parameters[\"experiment_name\"] = \"STANDALONE PTN\"\n",
    "standalone_parameters[\"lr\"] = 0.001\n",
    "standalone_parameters[\"device\"] = \"cuda\"\n",
    "\n",
    "standalone_parameters[\"seed\"] = 1337\n",
    "standalone_parameters[\"dataset_seed\"] = 1337\n",
    "\n",
    "standalone_parameters[\"n_way\"] = 8\n",
    "standalone_parameters[\"n_shot\"] = 3\n",
    "standalone_parameters[\"n_query\"]  = 2\n",
    "standalone_parameters[\"train_k_factor\"] = 1\n",
    "standalone_parameters[\"val_k_factor\"] = 2\n",
    "standalone_parameters[\"test_k_factor\"] = 2\n",
    "\n",
    "\n",
    "standalone_parameters[\"n_epoch\"] = 50\n",
    "\n",
    "standalone_parameters[\"patience\"] = 10\n",
    "standalone_parameters[\"criteria_for_best\"] = \"source_loss\"\n",
    "\n",
    "standalone_parameters[\"datasets\"] = [\n",
    "    {\n",
    "        \"labels\": ALL_SERIAL_NUMBERS,\n",
    "        \"domains\": ALL_DISTANCES_FEET_NARROWED,\n",
    "        \"num_examples_per_domain_per_label\": 100,\n",
    "        \"pickle_path\": os.path.join(get_datasets_base_path(), \"oracle.Run1_framed_2000Examples_stratified_ds.2022A.pkl\"),\n",
    "        \"source_or_target_dataset\": \"source\",\n",
    "        \"x_transforms\": [\"unit_mag\", \"minus_two\"],\n",
    "        \"episode_transforms\": [],\n",
    "        \"domain_prefix\": \"ORACLE_\"\n",
    "    },\n",
    "    {\n",
    "        \"labels\": ALL_NODES,\n",
    "        \"domains\": ALL_DAYS,\n",
    "        \"num_examples_per_domain_per_label\": 100,\n",
    "        \"pickle_path\": os.path.join(get_datasets_base_path(), \"cores.stratified_ds.2022A.pkl\"),\n",
    "        \"source_or_target_dataset\": \"target\",\n",
    "        \"x_transforms\": [\"unit_power\", \"times_zero\"],\n",
    "        \"episode_transforms\": [],\n",
    "        \"domain_prefix\": \"CORES_\"\n",
    "    }   \n",
    "]\n",
    "\n",
    "standalone_parameters[\"torch_default_dtype\"] = \"torch.float32\" \n",
    "\n",
    "\n",
    "\n",
    "standalone_parameters[\"x_net\"] =     [\n",
    "    {\"class\": \"nnReshape\", \"kargs\": {\"shape\":[-1, 1, 2, 256]}},\n",
    "    {\"class\": \"Conv2d\", \"kargs\": { \"in_channels\":1, \"out_channels\":256, \"kernel_size\":(1,7), \"bias\":False, \"padding\":(0,3), },},\n",
    "    {\"class\": \"ReLU\", \"kargs\": {\"inplace\": True}},\n",
    "    {\"class\": \"BatchNorm2d\", \"kargs\": {\"num_features\":256}},\n",
    "\n",
    "    {\"class\": \"Conv2d\", \"kargs\": { \"in_channels\":256, \"out_channels\":80, \"kernel_size\":(2,7), \"bias\":True, \"padding\":(0,3), },},\n",
    "    {\"class\": \"ReLU\", \"kargs\": {\"inplace\": True}},\n",
    "    {\"class\": \"BatchNorm2d\", \"kargs\": {\"num_features\":80}},\n",
    "    {\"class\": \"Flatten\", \"kargs\": {}},\n",
    "\n",
    "    {\"class\": \"Linear\", \"kargs\": {\"in_features\": 80*256, \"out_features\": 256}}, # 80 units per IQ pair\n",
    "    {\"class\": \"ReLU\", \"kargs\": {\"inplace\": True}},\n",
    "    {\"class\": \"BatchNorm1d\", \"kargs\": {\"num_features\":256}},\n",
    "\n",
    "    {\"class\": \"Linear\", \"kargs\": {\"in_features\": 256, \"out_features\": 256}},\n",
    "]\n",
    "\n",
    "# Parameters relevant to results\n",
    "# These parameters will basically never need to change\n",
    "standalone_parameters[\"NUM_LOGS_PER_EPOCH\"] = 10\n",
    "standalone_parameters[\"BEST_MODEL_PATH\"] = \"./best_model.pth\"\n",
    "\n",
    "\n",
    "\n",
    "\n"
   ]
  },
  {
   "cell_type": "code",
   "execution_count": 4,
   "id": "b9aed91a",
   "metadata": {
    "execution": {
     "iopub.execute_input": "2022-03-23T04:58:36.748059Z",
     "iopub.status.busy": "2022-03-23T04:58:36.747122Z",
     "iopub.status.idle": "2022-03-23T04:58:36.771734Z",
     "shell.execute_reply": "2022-03-23T04:58:36.770998Z"
    },
    "papermill": {
     "duration": 0.060484,
     "end_time": "2022-03-23T04:58:36.771916",
     "exception": false,
     "start_time": "2022-03-23T04:58:36.711432",
     "status": "completed"
    },
    "tags": [
     "injected-parameters"
    ]
   },
   "outputs": [],
   "source": [
    "# Parameters\n",
    "parameters = {\n",
    "    \"experiment_name\": \"tl_1v2:wisig-oracle.run1\",\n",
    "    \"device\": \"cuda\",\n",
    "    \"lr\": 0.0001,\n",
    "    \"n_shot\": 3,\n",
    "    \"n_query\": 2,\n",
    "    \"train_k_factor\": 3,\n",
    "    \"val_k_factor\": 2,\n",
    "    \"test_k_factor\": 2,\n",
    "    \"torch_default_dtype\": \"torch.float32\",\n",
    "    \"n_epoch\": 50,\n",
    "    \"patience\": 3,\n",
    "    \"criteria_for_best\": \"target_accuracy\",\n",
    "    \"x_net\": [\n",
    "        {\"class\": \"nnReshape\", \"kargs\": {\"shape\": [-1, 1, 2, 256]}},\n",
    "        {\n",
    "            \"class\": \"Conv2d\",\n",
    "            \"kargs\": {\n",
    "                \"in_channels\": 1,\n",
    "                \"out_channels\": 256,\n",
    "                \"kernel_size\": [1, 7],\n",
    "                \"bias\": False,\n",
    "                \"padding\": [0, 3],\n",
    "            },\n",
    "        },\n",
    "        {\"class\": \"ReLU\", \"kargs\": {\"inplace\": True}},\n",
    "        {\"class\": \"BatchNorm2d\", \"kargs\": {\"num_features\": 256}},\n",
    "        {\n",
    "            \"class\": \"Conv2d\",\n",
    "            \"kargs\": {\n",
    "                \"in_channels\": 256,\n",
    "                \"out_channels\": 80,\n",
    "                \"kernel_size\": [2, 7],\n",
    "                \"bias\": True,\n",
    "                \"padding\": [0, 3],\n",
    "            },\n",
    "        },\n",
    "        {\"class\": \"ReLU\", \"kargs\": {\"inplace\": True}},\n",
    "        {\"class\": \"BatchNorm2d\", \"kargs\": {\"num_features\": 80}},\n",
    "        {\"class\": \"Flatten\", \"kargs\": {}},\n",
    "        {\"class\": \"Linear\", \"kargs\": {\"in_features\": 20480, \"out_features\": 256}},\n",
    "        {\"class\": \"ReLU\", \"kargs\": {\"inplace\": True}},\n",
    "        {\"class\": \"BatchNorm1d\", \"kargs\": {\"num_features\": 256}},\n",
    "        {\"class\": \"Linear\", \"kargs\": {\"in_features\": 256, \"out_features\": 256}},\n",
    "    ],\n",
    "    \"NUM_LOGS_PER_EPOCH\": 10,\n",
    "    \"BEST_MODEL_PATH\": \"./best_model.pth\",\n",
    "    \"n_way\": 16,\n",
    "    \"datasets\": [\n",
    "        {\n",
    "            \"labels\": [\n",
    "                \"1-10\",\n",
    "                \"1-12\",\n",
    "                \"1-14\",\n",
    "                \"1-16\",\n",
    "                \"1-18\",\n",
    "                \"1-19\",\n",
    "                \"1-8\",\n",
    "                \"10-11\",\n",
    "                \"10-17\",\n",
    "                \"10-4\",\n",
    "                \"10-7\",\n",
    "                \"11-1\",\n",
    "                \"11-10\",\n",
    "                \"11-19\",\n",
    "                \"11-20\",\n",
    "                \"11-4\",\n",
    "                \"11-7\",\n",
    "                \"12-19\",\n",
    "                \"12-20\",\n",
    "                \"12-7\",\n",
    "                \"13-14\",\n",
    "                \"13-18\",\n",
    "                \"13-19\",\n",
    "                \"13-20\",\n",
    "                \"13-3\",\n",
    "                \"13-7\",\n",
    "                \"14-10\",\n",
    "                \"14-11\",\n",
    "                \"14-12\",\n",
    "                \"14-13\",\n",
    "                \"14-14\",\n",
    "                \"14-19\",\n",
    "                \"14-20\",\n",
    "                \"14-7\",\n",
    "                \"14-8\",\n",
    "                \"14-9\",\n",
    "                \"15-1\",\n",
    "                \"15-19\",\n",
    "                \"15-6\",\n",
    "                \"16-1\",\n",
    "                \"16-16\",\n",
    "                \"16-19\",\n",
    "                \"16-20\",\n",
    "                \"17-10\",\n",
    "                \"17-11\",\n",
    "                \"18-1\",\n",
    "                \"18-10\",\n",
    "                \"18-11\",\n",
    "                \"18-12\",\n",
    "                \"18-13\",\n",
    "                \"18-14\",\n",
    "                \"18-15\",\n",
    "                \"18-16\",\n",
    "                \"18-17\",\n",
    "                \"18-19\",\n",
    "                \"18-2\",\n",
    "                \"18-20\",\n",
    "                \"18-4\",\n",
    "                \"18-5\",\n",
    "                \"18-7\",\n",
    "                \"18-8\",\n",
    "                \"18-9\",\n",
    "                \"19-1\",\n",
    "                \"19-10\",\n",
    "                \"19-11\",\n",
    "                \"19-12\",\n",
    "                \"19-13\",\n",
    "                \"19-14\",\n",
    "                \"19-15\",\n",
    "                \"19-19\",\n",
    "                \"19-2\",\n",
    "                \"19-20\",\n",
    "                \"19-3\",\n",
    "                \"19-4\",\n",
    "                \"19-6\",\n",
    "                \"19-7\",\n",
    "                \"19-8\",\n",
    "                \"19-9\",\n",
    "                \"2-1\",\n",
    "                \"2-13\",\n",
    "                \"2-15\",\n",
    "                \"2-3\",\n",
    "                \"2-4\",\n",
    "                \"2-5\",\n",
    "                \"2-6\",\n",
    "                \"2-7\",\n",
    "                \"2-8\",\n",
    "                \"20-1\",\n",
    "                \"20-12\",\n",
    "                \"20-14\",\n",
    "                \"20-15\",\n",
    "                \"20-16\",\n",
    "                \"20-18\",\n",
    "                \"20-19\",\n",
    "                \"20-20\",\n",
    "                \"20-3\",\n",
    "                \"20-4\",\n",
    "                \"20-5\",\n",
    "                \"20-7\",\n",
    "                \"20-8\",\n",
    "                \"3-1\",\n",
    "                \"3-13\",\n",
    "                \"3-18\",\n",
    "                \"3-2\",\n",
    "                \"3-8\",\n",
    "                \"4-1\",\n",
    "                \"4-10\",\n",
    "                \"4-11\",\n",
    "                \"5-1\",\n",
    "                \"5-5\",\n",
    "                \"6-1\",\n",
    "                \"6-15\",\n",
    "                \"6-6\",\n",
    "                \"7-10\",\n",
    "                \"7-11\",\n",
    "                \"7-12\",\n",
    "                \"7-13\",\n",
    "                \"7-14\",\n",
    "                \"7-7\",\n",
    "                \"7-8\",\n",
    "                \"7-9\",\n",
    "                \"8-1\",\n",
    "                \"8-13\",\n",
    "                \"8-14\",\n",
    "                \"8-18\",\n",
    "                \"8-20\",\n",
    "                \"8-3\",\n",
    "                \"8-8\",\n",
    "                \"9-1\",\n",
    "                \"9-7\",\n",
    "            ],\n",
    "            \"domains\": [1, 2, 3, 4],\n",
    "            \"num_examples_per_domain_per_label\": -1,\n",
    "            \"pickle_path\": \"/root/csc500-main/datasets/wisig.node3-19.stratified_ds.2022A.pkl\",\n",
    "            \"source_or_target_dataset\": \"target\",\n",
    "            \"x_transforms\": [\"unit_power\"],\n",
    "            \"episode_transforms\": [],\n",
    "            \"domain_prefix\": \"Wisig_\",\n",
    "        },\n",
    "        {\n",
    "            \"labels\": [\n",
    "                \"3123D52\",\n",
    "                \"3123D65\",\n",
    "                \"3123D79\",\n",
    "                \"3123D80\",\n",
    "                \"3123D54\",\n",
    "                \"3123D70\",\n",
    "                \"3123D7B\",\n",
    "                \"3123D89\",\n",
    "                \"3123D58\",\n",
    "                \"3123D76\",\n",
    "                \"3123D7D\",\n",
    "                \"3123EFE\",\n",
    "                \"3123D64\",\n",
    "                \"3123D78\",\n",
    "                \"3123D7E\",\n",
    "                \"3124E4A\",\n",
    "            ],\n",
    "            \"domains\": [32, 38, 8, 44, 14, 50, 20, 26],\n",
    "            \"num_examples_per_domain_per_label\": 10000,\n",
    "            \"pickle_path\": \"/root/csc500-main/datasets/oracle.Run1_10kExamples_stratified_ds.2022A.pkl\",\n",
    "            \"source_or_target_dataset\": \"source\",\n",
    "            \"x_transforms\": [\"unit_power\"],\n",
    "            \"episode_transforms\": [],\n",
    "            \"domain_prefix\": \"ORACLE.run1\",\n",
    "        },\n",
    "    ],\n",
    "    \"dataset_seed\": 1337,\n",
    "    \"seed\": 1337,\n",
    "}\n"
   ]
  },
  {
   "cell_type": "code",
   "execution_count": 5,
   "id": "8fa1cc33",
   "metadata": {
    "execution": {
     "iopub.execute_input": "2022-03-23T04:58:36.823143Z",
     "iopub.status.busy": "2022-03-23T04:58:36.822762Z",
     "iopub.status.idle": "2022-03-23T04:58:36.845636Z",
     "shell.execute_reply": "2022-03-23T04:58:36.846289Z"
    },
    "papermill": {
     "duration": 0.047579,
     "end_time": "2022-03-23T04:58:36.846522",
     "exception": false,
     "start_time": "2022-03-23T04:58:36.798943",
     "status": "completed"
    },
    "tags": []
   },
   "outputs": [],
   "source": [
    "# Set this to True if you want to run this template directly\n",
    "STANDALONE = False\n",
    "if STANDALONE:\n",
    "    print(\"parameters not injected, running with standalone_parameters\")\n",
    "    parameters = standalone_parameters\n",
    "\n",
    "if not 'parameters' in locals() and not 'parameters' in globals():\n",
    "    raise Exception(\"Parameter injection failed\")\n",
    "\n",
    "#Use an easy dict for all the parameters\n",
    "p = EasyDict(parameters)\n",
    "\n",
    "if \"x_shape\" not in p:\n",
    "    p.x_shape = [2,256] # Default to this if we dont supply x_shape\n",
    "\n",
    "\n",
    "supplied_keys = set(p.keys())\n",
    "\n",
    "if  supplied_keys != required_parameters:\n",
    "    print(\"Parameters are incorrect\")\n",
    "    if len(supplied_keys - required_parameters)>0: print(\"Shouldn't have:\", str(supplied_keys - required_parameters))\n",
    "    if len(required_parameters - supplied_keys)>0: print(\"Need to have:\", str(required_parameters - supplied_keys))\n",
    "    raise RuntimeError(\"Parameters are incorrect\")"
   ]
  },
  {
   "cell_type": "code",
   "execution_count": 6,
   "id": "3a028d58",
   "metadata": {
    "execution": {
     "iopub.execute_input": "2022-03-23T04:58:36.894373Z",
     "iopub.status.busy": "2022-03-23T04:58:36.893997Z",
     "iopub.status.idle": "2022-03-23T04:58:36.916976Z",
     "shell.execute_reply": "2022-03-23T04:58:36.916230Z"
    },
    "papermill": {
     "duration": 0.045228,
     "end_time": "2022-03-23T04:58:36.917151",
     "exception": false,
     "start_time": "2022-03-23T04:58:36.871923",
     "status": "completed"
    },
    "tags": []
   },
   "outputs": [],
   "source": [
    "###################################\n",
    "# Set the RNGs and make it all deterministic\n",
    "###################################\n",
    "np.random.seed(p.seed)\n",
    "random.seed(p.seed)\n",
    "torch.manual_seed(p.seed)\n",
    "\n",
    "torch.use_deterministic_algorithms(True) "
   ]
  },
  {
   "cell_type": "code",
   "execution_count": 7,
   "id": "b691acf6",
   "metadata": {
    "execution": {
     "iopub.execute_input": "2022-03-23T04:58:36.966918Z",
     "iopub.status.busy": "2022-03-23T04:58:36.966550Z",
     "iopub.status.idle": "2022-03-23T04:58:36.991521Z",
     "shell.execute_reply": "2022-03-23T04:58:36.990760Z"
    },
    "papermill": {
     "duration": 0.048523,
     "end_time": "2022-03-23T04:58:36.991713",
     "exception": false,
     "start_time": "2022-03-23T04:58:36.943190",
     "status": "completed"
    },
    "tags": []
   },
   "outputs": [],
   "source": [
    "###########################################\n",
    "# The stratified datasets honor this\n",
    "###########################################\n",
    "torch.set_default_dtype(eval(p.torch_default_dtype))"
   ]
  },
  {
   "cell_type": "code",
   "execution_count": 8,
   "id": "b5fba671",
   "metadata": {
    "execution": {
     "iopub.execute_input": "2022-03-23T04:58:37.039080Z",
     "iopub.status.busy": "2022-03-23T04:58:37.038711Z",
     "iopub.status.idle": "2022-03-23T04:58:37.099639Z",
     "shell.execute_reply": "2022-03-23T04:58:37.098857Z"
    },
    "papermill": {
     "duration": 0.083474,
     "end_time": "2022-03-23T04:58:37.099828",
     "exception": false,
     "start_time": "2022-03-23T04:58:37.016354",
     "status": "completed"
    },
    "tags": []
   },
   "outputs": [],
   "source": [
    "###################################\n",
    "# Build the network(s)\n",
    "# Note: It's critical to do this AFTER setting the RNG\n",
    "###################################\n",
    "x_net = build_sequential(p.x_net)"
   ]
  },
  {
   "cell_type": "code",
   "execution_count": 9,
   "id": "5d7e61cc",
   "metadata": {
    "execution": {
     "iopub.execute_input": "2022-03-23T04:58:37.149615Z",
     "iopub.status.busy": "2022-03-23T04:58:37.148951Z",
     "iopub.status.idle": "2022-03-23T04:58:37.174318Z",
     "shell.execute_reply": "2022-03-23T04:58:37.173579Z"
    },
    "papermill": {
     "duration": 0.049439,
     "end_time": "2022-03-23T04:58:37.174499",
     "exception": false,
     "start_time": "2022-03-23T04:58:37.125060",
     "status": "completed"
    },
    "tags": []
   },
   "outputs": [],
   "source": [
    "start_time_secs = time.time()"
   ]
  },
  {
   "cell_type": "code",
   "execution_count": 10,
   "id": "c6b67dfd",
   "metadata": {
    "execution": {
     "iopub.execute_input": "2022-03-23T04:58:37.224618Z",
     "iopub.status.busy": "2022-03-23T04:58:37.224224Z",
     "iopub.status.idle": "2022-03-23T04:58:37.254281Z",
     "shell.execute_reply": "2022-03-23T04:58:37.253526Z"
    },
    "papermill": {
     "duration": 0.053287,
     "end_time": "2022-03-23T04:58:37.254471",
     "exception": false,
     "start_time": "2022-03-23T04:58:37.201184",
     "status": "completed"
    },
    "tags": []
   },
   "outputs": [],
   "source": [
    "p.domains_source = []\n",
    "p.domains_target = []\n",
    "\n",
    "\n",
    "train_original_source = []\n",
    "val_original_source   = []\n",
    "test_original_source  = []\n",
    "\n",
    "train_original_target = []\n",
    "val_original_target   = []\n",
    "test_original_target  = []"
   ]
  },
  {
   "cell_type": "code",
   "execution_count": 11,
   "id": "e3d9c3d3",
   "metadata": {
    "execution": {
     "iopub.execute_input": "2022-03-23T04:58:37.304748Z",
     "iopub.status.busy": "2022-03-23T04:58:37.304131Z",
     "iopub.status.idle": "2022-03-23T04:58:37.334836Z",
     "shell.execute_reply": "2022-03-23T04:58:37.334121Z"
    },
    "papermill": {
     "duration": 0.054096,
     "end_time": "2022-03-23T04:58:37.335005",
     "exception": false,
     "start_time": "2022-03-23T04:58:37.280909",
     "status": "completed"
    },
    "tags": []
   },
   "outputs": [],
   "source": [
    "# global_x_transform_func = lambda x: normalize(x.to(torch.get_default_dtype()), \"unit_power\") # unit_power, unit_mag\n",
    "# global_x_transform_func = lambda x: normalize(x, \"unit_power\") # unit_power, unit_mag"
   ]
  },
  {
   "cell_type": "code",
   "execution_count": 12,
   "id": "acb78fd2",
   "metadata": {
    "execution": {
     "iopub.execute_input": "2022-03-23T04:58:37.394634Z",
     "iopub.status.busy": "2022-03-23T04:58:37.393776Z",
     "iopub.status.idle": "2022-03-23T04:58:37.421777Z",
     "shell.execute_reply": "2022-03-23T04:58:37.421065Z"
    },
    "papermill": {
     "duration": 0.059552,
     "end_time": "2022-03-23T04:58:37.421940",
     "exception": false,
     "start_time": "2022-03-23T04:58:37.362388",
     "status": "completed"
    },
    "tags": []
   },
   "outputs": [],
   "source": [
    "def add_dataset(\n",
    "    labels,\n",
    "    domains,\n",
    "    pickle_path,\n",
    "    x_transforms,\n",
    "    episode_transforms,\n",
    "    domain_prefix,\n",
    "    num_examples_per_domain_per_label,\n",
    "    source_or_target_dataset:str,\n",
    "    iterator_seed=p.seed,\n",
    "    dataset_seed=p.dataset_seed,\n",
    "    n_shot=p.n_shot,\n",
    "    n_way=p.n_way,\n",
    "    n_query=p.n_query,\n",
    "    train_val_test_k_factors=(p.train_k_factor,p.val_k_factor,p.test_k_factor),\n",
    "):\n",
    "   \n",
    "    if x_transforms == []: x_transform = None\n",
    "    else: x_transform = get_chained_transform(x_transforms)\n",
    "    \n",
    "    if episode_transforms == []: episode_transform = None\n",
    "    else: raise Exception(\"episode_transforms not implemented\")\n",
    "    \n",
    "    episode_transform = lambda tup, _prefix=domain_prefix: (_prefix + str(tup[0]), tup[1])\n",
    "\n",
    "\n",
    "    eaf = Episodic_Accessor_Factory(\n",
    "        labels=labels,\n",
    "        domains=domains,\n",
    "        num_examples_per_domain_per_label=num_examples_per_domain_per_label,\n",
    "        iterator_seed=iterator_seed,\n",
    "        dataset_seed=dataset_seed,\n",
    "        n_shot=n_shot,\n",
    "        n_way=n_way,\n",
    "        n_query=n_query,\n",
    "        train_val_test_k_factors=train_val_test_k_factors,\n",
    "        pickle_path=pickle_path,\n",
    "        x_transform_func=x_transform,\n",
    "    )\n",
    "\n",
    "    train, val, test = eaf.get_train(), eaf.get_val(), eaf.get_test()\n",
    "    train = Lazy_Iterable_Wrapper(train, episode_transform)\n",
    "    val = Lazy_Iterable_Wrapper(val, episode_transform)\n",
    "    test = Lazy_Iterable_Wrapper(test, episode_transform)\n",
    "\n",
    "    if source_or_target_dataset==\"source\":\n",
    "        train_original_source.append(train)\n",
    "        val_original_source.append(val)\n",
    "        test_original_source.append(test)\n",
    "\n",
    "        p.domains_source.extend(\n",
    "            [domain_prefix + str(u) for u in domains]\n",
    "        )\n",
    "    elif source_or_target_dataset==\"target\":\n",
    "        train_original_target.append(train)\n",
    "        val_original_target.append(val)\n",
    "        test_original_target.append(test)\n",
    "        p.domains_target.extend(\n",
    "            [domain_prefix + str(u) for u in domains]\n",
    "        )\n",
    "    else:\n",
    "        raise Exception(f\"invalid source_or_target_dataset: {source_or_target_dataset}\")\n",
    "    "
   ]
  },
  {
   "cell_type": "code",
   "execution_count": 13,
   "id": "fe266617",
   "metadata": {
    "execution": {
     "iopub.execute_input": "2022-03-23T04:58:37.472178Z",
     "iopub.status.busy": "2022-03-23T04:58:37.471170Z",
     "iopub.status.idle": "2022-03-23T05:00:48.077865Z",
     "shell.execute_reply": "2022-03-23T05:00:48.077132Z"
    },
    "papermill": {
     "duration": 130.629922,
     "end_time": "2022-03-23T05:00:48.078052",
     "exception": false,
     "start_time": "2022-03-23T04:58:37.448130",
     "status": "completed"
    },
    "tags": []
   },
   "outputs": [],
   "source": [
    "for ds in p.datasets:\n",
    "    add_dataset(**ds)"
   ]
  },
  {
   "cell_type": "code",
   "execution_count": 14,
   "id": "b90d65ac",
   "metadata": {
    "execution": {
     "iopub.execute_input": "2022-03-23T05:00:48.130717Z",
     "iopub.status.busy": "2022-03-23T05:00:48.130344Z",
     "iopub.status.idle": "2022-03-23T05:00:48.155248Z",
     "shell.execute_reply": "2022-03-23T05:00:48.154440Z"
    },
    "papermill": {
     "duration": 0.048526,
     "end_time": "2022-03-23T05:00:48.155410",
     "exception": false,
     "start_time": "2022-03-23T05:00:48.106884",
     "status": "completed"
    },
    "tags": []
   },
   "outputs": [],
   "source": [
    "# from steves_utils.CORES.utils import (\n",
    "#     ALL_NODES,\n",
    "#     ALL_NODES_MINIMUM_1000_EXAMPLES,\n",
    "#     ALL_DAYS\n",
    "# )\n",
    "\n",
    "# add_dataset(\n",
    "#     labels=ALL_NODES,\n",
    "#     domains = ALL_DAYS,\n",
    "#     num_examples_per_domain_per_label=100,\n",
    "#     pickle_path=os.path.join(get_datasets_base_path(), \"cores.stratified_ds.2022A.pkl\"),\n",
    "#     source_or_target_dataset=\"target\",\n",
    "#     x_transform_func=global_x_transform_func,\n",
    "#     domain_modifier=lambda u: f\"cores_{u}\"\n",
    "# )"
   ]
  },
  {
   "cell_type": "code",
   "execution_count": 15,
   "id": "76db484d",
   "metadata": {
    "execution": {
     "iopub.execute_input": "2022-03-23T05:00:48.205910Z",
     "iopub.status.busy": "2022-03-23T05:00:48.205544Z",
     "iopub.status.idle": "2022-03-23T05:00:48.232308Z",
     "shell.execute_reply": "2022-03-23T05:00:48.231601Z"
    },
    "papermill": {
     "duration": 0.049886,
     "end_time": "2022-03-23T05:00:48.232463",
     "exception": false,
     "start_time": "2022-03-23T05:00:48.182577",
     "status": "completed"
    },
    "tags": []
   },
   "outputs": [],
   "source": [
    "# from steves_utils.ORACLE.utils_v2 import (\n",
    "#     ALL_DISTANCES_FEET,\n",
    "#     ALL_RUNS,\n",
    "#     ALL_SERIAL_NUMBERS,\n",
    "# )\n",
    "\n",
    "\n",
    "# add_dataset(\n",
    "#     labels=ALL_SERIAL_NUMBERS,\n",
    "#     domains = list(set(ALL_DISTANCES_FEET) - {2,62}),\n",
    "#     num_examples_per_domain_per_label=100,\n",
    "#     pickle_path=os.path.join(get_datasets_base_path(), \"oracle.Run2_framed_2000Examples_stratified_ds.2022A.pkl\"),\n",
    "#     source_or_target_dataset=\"source\",\n",
    "#     x_transform_func=global_x_transform_func,\n",
    "#     domain_modifier=lambda u: f\"oracle1_{u}\"\n",
    "# )\n"
   ]
  },
  {
   "cell_type": "code",
   "execution_count": 16,
   "id": "97dea9d2",
   "metadata": {
    "execution": {
     "iopub.execute_input": "2022-03-23T05:00:48.287305Z",
     "iopub.status.busy": "2022-03-23T05:00:48.286729Z",
     "iopub.status.idle": "2022-03-23T05:00:48.308918Z",
     "shell.execute_reply": "2022-03-23T05:00:48.308513Z"
    },
    "papermill": {
     "duration": 0.045916,
     "end_time": "2022-03-23T05:00:48.309015",
     "exception": false,
     "start_time": "2022-03-23T05:00:48.263099",
     "status": "completed"
    },
    "tags": []
   },
   "outputs": [],
   "source": [
    "# from steves_utils.ORACLE.utils_v2 import (\n",
    "#     ALL_DISTANCES_FEET,\n",
    "#     ALL_RUNS,\n",
    "#     ALL_SERIAL_NUMBERS,\n",
    "# )\n",
    "\n",
    "\n",
    "# add_dataset(\n",
    "#     labels=ALL_SERIAL_NUMBERS,\n",
    "#     domains = list(set(ALL_DISTANCES_FEET) - {2,62,56}),\n",
    "#     num_examples_per_domain_per_label=100,\n",
    "#     pickle_path=os.path.join(get_datasets_base_path(), \"oracle.Run2_framed_2000Examples_stratified_ds.2022A.pkl\"),\n",
    "#     source_or_target_dataset=\"source\",\n",
    "#     x_transform_func=global_x_transform_func,\n",
    "#     domain_modifier=lambda u: f\"oracle2_{u}\"\n",
    "# )"
   ]
  },
  {
   "cell_type": "code",
   "execution_count": 17,
   "id": "6f289866",
   "metadata": {
    "execution": {
     "iopub.execute_input": "2022-03-23T05:00:48.353275Z",
     "iopub.status.busy": "2022-03-23T05:00:48.352450Z",
     "iopub.status.idle": "2022-03-23T05:00:48.371249Z",
     "shell.execute_reply": "2022-03-23T05:00:48.370456Z"
    },
    "papermill": {
     "duration": 0.041812,
     "end_time": "2022-03-23T05:00:48.371410",
     "exception": false,
     "start_time": "2022-03-23T05:00:48.329598",
     "status": "completed"
    },
    "tags": []
   },
   "outputs": [],
   "source": [
    "# add_dataset(\n",
    "#     labels=list(range(19)),\n",
    "#     domains = [0,1,2],\n",
    "#     num_examples_per_domain_per_label=100,\n",
    "#     pickle_path=os.path.join(get_datasets_base_path(), \"metehan.stratified_ds.2022A.pkl\"),\n",
    "#     source_or_target_dataset=\"target\",\n",
    "#     x_transform_func=global_x_transform_func,\n",
    "#     domain_modifier=lambda u: f\"met_{u}\"\n",
    "# )"
   ]
  },
  {
   "cell_type": "code",
   "execution_count": 18,
   "id": "86a863c3",
   "metadata": {
    "execution": {
     "iopub.execute_input": "2022-03-23T05:00:48.421381Z",
     "iopub.status.busy": "2022-03-23T05:00:48.419873Z",
     "iopub.status.idle": "2022-03-23T05:00:48.438924Z",
     "shell.execute_reply": "2022-03-23T05:00:48.438136Z"
    },
    "papermill": {
     "duration": 0.04219,
     "end_time": "2022-03-23T05:00:48.439082",
     "exception": false,
     "start_time": "2022-03-23T05:00:48.396892",
     "status": "completed"
    },
    "tags": []
   },
   "outputs": [],
   "source": [
    "# # from steves_utils.wisig.utils import (\n",
    "# #     ALL_NODES_MINIMUM_100_EXAMPLES,\n",
    "# #     ALL_NODES_MINIMUM_500_EXAMPLES,\n",
    "# #     ALL_NODES_MINIMUM_1000_EXAMPLES,\n",
    "# #     ALL_DAYS\n",
    "# # )\n",
    "\n",
    "# import steves_utils.wisig.utils as wisig\n",
    "\n",
    "\n",
    "# add_dataset(\n",
    "#     labels=wisig.ALL_NODES_MINIMUM_100_EXAMPLES,\n",
    "#     domains = wisig.ALL_DAYS,\n",
    "#     num_examples_per_domain_per_label=100,\n",
    "#     pickle_path=os.path.join(get_datasets_base_path(), \"wisig.node3-19.stratified_ds.2022A.pkl\"),\n",
    "#     source_or_target_dataset=\"target\",\n",
    "#     x_transform_func=global_x_transform_func,\n",
    "#     domain_modifier=lambda u: f\"wisig_{u}\"\n",
    "# )"
   ]
  },
  {
   "cell_type": "code",
   "execution_count": 19,
   "id": "fd5442bc",
   "metadata": {
    "execution": {
     "iopub.execute_input": "2022-03-23T05:00:48.490834Z",
     "iopub.status.busy": "2022-03-23T05:00:48.490187Z",
     "iopub.status.idle": "2022-03-23T05:00:48.510151Z",
     "shell.execute_reply": "2022-03-23T05:00:48.509357Z"
    },
    "papermill": {
     "duration": 0.045848,
     "end_time": "2022-03-23T05:00:48.510309",
     "exception": false,
     "start_time": "2022-03-23T05:00:48.464461",
     "status": "completed"
    },
    "tags": []
   },
   "outputs": [],
   "source": [
    "###################################\n",
    "# Build the dataset\n",
    "###################################\n",
    "train_original_source = Iterable_Aggregator(train_original_source, p.seed)\n",
    "val_original_source = Iterable_Aggregator(val_original_source, p.seed)\n",
    "test_original_source = Iterable_Aggregator(test_original_source, p.seed)\n",
    "\n",
    "\n",
    "train_original_target = Iterable_Aggregator(train_original_target, p.seed)\n",
    "val_original_target = Iterable_Aggregator(val_original_target, p.seed)\n",
    "test_original_target = Iterable_Aggregator(test_original_target, p.seed)\n",
    "\n",
    "# For CNN We only use X and Y. And we only train on the source.\n",
    "# Properly form the data using a transform lambda and Lazy_Iterable_Wrapper. Finally wrap them in a dataloader\n",
    "\n",
    "transform_lambda = lambda ex: ex[1] # Original is (<domain>, <episode>) so we strip down to episode only\n",
    "\n",
    "train_processed_source = Lazy_Iterable_Wrapper(train_original_source, transform_lambda)\n",
    "val_processed_source   = Lazy_Iterable_Wrapper(val_original_source, transform_lambda)\n",
    "test_processed_source  = Lazy_Iterable_Wrapper(test_original_source, transform_lambda)\n",
    "\n",
    "train_processed_target = Lazy_Iterable_Wrapper(train_original_target, transform_lambda)\n",
    "val_processed_target   = Lazy_Iterable_Wrapper(val_original_target, transform_lambda)\n",
    "test_processed_target  = Lazy_Iterable_Wrapper(test_original_target, transform_lambda)\n",
    "\n",
    "datasets = EasyDict({\n",
    "    \"source\": {\n",
    "        \"original\": {\"train\":train_original_source, \"val\":val_original_source, \"test\":test_original_source},\n",
    "        \"processed\": {\"train\":train_processed_source, \"val\":val_processed_source, \"test\":test_processed_source}\n",
    "    },\n",
    "    \"target\": {\n",
    "        \"original\": {\"train\":train_original_target, \"val\":val_original_target, \"test\":test_original_target},\n",
    "        \"processed\": {\"train\":train_processed_target, \"val\":val_processed_target, \"test\":test_processed_target}\n",
    "    },\n",
    "})"
   ]
  },
  {
   "cell_type": "code",
   "execution_count": 20,
   "id": "5b3c01fc",
   "metadata": {
    "execution": {
     "iopub.execute_input": "2022-03-23T05:00:48.561408Z",
     "iopub.status.busy": "2022-03-23T05:00:48.561037Z",
     "iopub.status.idle": "2022-03-23T05:01:21.814150Z",
     "shell.execute_reply": "2022-03-23T05:01:21.813439Z"
    },
    "papermill": {
     "duration": 33.27757,
     "end_time": "2022-03-23T05:01:21.814332",
     "exception": false,
     "start_time": "2022-03-23T05:00:48.536762",
     "status": "completed"
    },
    "tags": []
   },
   "outputs": [
    {
     "name": "stdout",
     "output_type": "stream",
     "text": [
      "{'ORACLE.run138', 'ORACLE.run126', 'ORACLE.run132', 'ORACLE.run114', 'ORACLE.run120', 'ORACLE.run18', 'ORACLE.run144', 'ORACLE.run150'}\n"
     ]
    },
    {
     "name": "stdout",
     "output_type": "stream",
     "text": [
      "{'Wisig_4', 'Wisig_1', 'Wisig_2', 'Wisig_3'}\n"
     ]
    },
    {
     "name": "stdout",
     "output_type": "stream",
     "text": [
      "tensor([[[-0.0194, -0.3495,  0.3592,  ..., -0.3301, -0.2816,  0.5631],\n",
      "         [-0.5922,  0.2330, -0.1262,  ...,  0.0680, -0.9709,  0.1359]],\n",
      "\n",
      "        [[ 0.4488, -0.7145, -1.3832,  ...,  0.4397,  0.0550, -0.3114],\n",
      "         [-0.1374, -0.4030, -1.4290,  ..., -0.4672,  0.3023, -0.5130]],\n",
      "\n",
      "        [[-0.8545, -0.4502,  0.1011,  ...,  0.1194,  1.3966,  1.0750],\n",
      "         [-0.1930,  0.3308, -0.3675,  ..., -1.4793,  0.0000, -0.0276]],\n",
      "\n",
      "        ...,\n",
      "\n",
      "        [[-0.0124,  0.6262, -0.0744,  ..., -0.8432, -1.3578,  0.8742],\n",
      "         [ 1.1904, -0.8556, -0.5270,  ..., -0.1364,  0.2046, -0.9238]],\n",
      "\n",
      "        [[-0.8808, -1.3658, -1.6402,  ..., -0.8488,  0.5489,  0.1979],\n",
      "         [ 1.1297,  0.0319,  1.1297,  ..., -0.3191,  0.7340, -0.1915]],\n",
      "\n",
      "        [[ 1.2980, -0.6931, -0.5860,  ..., -0.7876, -0.3907, -0.0063],\n",
      "         [-0.4600,  0.9704,  0.0063,  ...,  1.4997,  0.2205,  1.0460]]])\n"
     ]
    }
   ],
   "source": [
    "from steves_utils.transforms import get_average_magnitude, get_average_power\n",
    "\n",
    "print(set([u for u,_ in val_original_source]))\n",
    "print(set([u for u,_ in val_original_target]))\n",
    "\n",
    "s_x, s_y, q_x, q_y, _ = next(iter(train_processed_source))\n",
    "print(s_x)\n",
    "\n",
    "# for ds in [\n",
    "#     train_processed_source,\n",
    "#     val_processed_source,\n",
    "#     test_processed_source,\n",
    "#     train_processed_target,\n",
    "#     val_processed_target,\n",
    "#     test_processed_target\n",
    "# ]:\n",
    "#     for s_x, s_y, q_x, q_y, _ in ds:\n",
    "#         for X in (s_x, q_x):\n",
    "#             for x in X:\n",
    "#                 assert np.isclose(get_average_magnitude(x.numpy()), 1.0)\n",
    "#                 assert np.isclose(get_average_power(x.numpy()), 1.0)\n",
    "                "
   ]
  },
  {
   "cell_type": "code",
   "execution_count": 21,
   "id": "bbdacba1",
   "metadata": {
    "execution": {
     "iopub.execute_input": "2022-03-23T05:01:21.875395Z",
     "iopub.status.busy": "2022-03-23T05:01:21.874750Z",
     "iopub.status.idle": "2022-03-23T05:01:22.070936Z",
     "shell.execute_reply": "2022-03-23T05:01:22.071637Z"
    },
    "papermill": {
     "duration": 0.226564,
     "end_time": "2022-03-23T05:01:22.071871",
     "exception": false,
     "start_time": "2022-03-23T05:01:21.845307",
     "status": "completed"
    },
    "tags": []
   },
   "outputs": [
    {
     "name": "stdout",
     "output_type": "stream",
     "text": [
      "(2, 256)\n"
     ]
    }
   ],
   "source": [
    "###################################\n",
    "# Build the model\n",
    "###################################\n",
    "# easfsl only wants a tuple for the shape\n",
    "model = Steves_Prototypical_Network(x_net, device=p.device, x_shape=tuple(p.x_shape))\n",
    "optimizer = Adam(params=model.parameters(), lr=p.lr)"
   ]
  },
  {
   "cell_type": "code",
   "execution_count": 22,
   "id": "22b39ac5",
   "metadata": {
    "execution": {
     "iopub.execute_input": "2022-03-23T05:01:22.130486Z",
     "iopub.status.busy": "2022-03-23T05:01:22.130101Z",
     "iopub.status.idle": "2022-03-23T08:50:04.025689Z",
     "shell.execute_reply": "2022-03-23T08:50:04.025354Z"
    },
    "papermill": {
     "duration": 13721.923883,
     "end_time": "2022-03-23T08:50:04.025770",
     "exception": false,
     "start_time": "2022-03-23T05:01:22.101887",
     "status": "completed"
    },
    "tags": []
   },
   "outputs": [
    {
     "name": "stdout",
     "output_type": "stream",
     "text": [
      "epoch: 1, [batch: 1 / 33600], examples_per_second: 6.6554, train_label_loss: 2.8114, \n"
     ]
    },
    {
     "name": "stdout",
     "output_type": "stream",
     "text": [
      "epoch: 1, [batch: 3360 / 33600], examples_per_second: 3895.4318, train_label_loss: 1.1334, \n"
     ]
    },
    {
     "name": "stdout",
     "output_type": "stream",
     "text": [
      "epoch: 1, [batch: 6720 / 33600], examples_per_second: 3887.8115, train_label_loss: 1.7792, \n"
     ]
    },
    {
     "name": "stdout",
     "output_type": "stream",
     "text": [
      "epoch: 1, [batch: 10080 / 33600], examples_per_second: 4101.9534, train_label_loss: 0.6458, \n"
     ]
    },
    {
     "name": "stdout",
     "output_type": "stream",
     "text": [
      "epoch: 1, [batch: 13440 / 33600], examples_per_second: 3058.9019, train_label_loss: 0.9345, \n"
     ]
    },
    {
     "name": "stdout",
     "output_type": "stream",
     "text": [
      "epoch: 1, [batch: 16800 / 33600], examples_per_second: 3191.8601, train_label_loss: 0.8489, \n"
     ]
    },
    {
     "name": "stdout",
     "output_type": "stream",
     "text": [
      "epoch: 1, [batch: 20160 / 33600], examples_per_second: 2928.1764, train_label_loss: 0.7120, \n"
     ]
    },
    {
     "name": "stdout",
     "output_type": "stream",
     "text": [
      "epoch: 1, [batch: 23520 / 33600], examples_per_second: 2986.2589, train_label_loss: 0.5979, \n"
     ]
    },
    {
     "name": "stdout",
     "output_type": "stream",
     "text": [
      "epoch: 1, [batch: 26880 / 33600], examples_per_second: 3081.3238, train_label_loss: 0.7697, \n"
     ]
    },
    {
     "name": "stdout",
     "output_type": "stream",
     "text": [
      "epoch: 1, [batch: 30240 / 33600], examples_per_second: 2950.9677, train_label_loss: 1.1350, \n"
     ]
    },
    {
     "name": "stdout",
     "output_type": "stream",
     "text": [
      "=============================================================\n",
      "epoch: 1, source_val_acc_label: 0.6524, target_val_acc_label: 0.6823, source_val_label_loss: 0.9279, target_val_label_loss: 7.1372, \n",
      "=============================================================\n"
     ]
    },
    {
     "name": "stdout",
     "output_type": "stream",
     "text": [
      "New best\n"
     ]
    },
    {
     "name": "stdout",
     "output_type": "stream",
     "text": [
      "epoch: 2, [batch: 1 / 33600], examples_per_second: 0.7591, train_label_loss: 1.0913, \n"
     ]
    },
    {
     "name": "stdout",
     "output_type": "stream",
     "text": [
      "epoch: 2, [batch: 3360 / 33600], examples_per_second: 3147.1860, train_label_loss: 0.7381, \n"
     ]
    },
    {
     "name": "stdout",
     "output_type": "stream",
     "text": [
      "epoch: 2, [batch: 6720 / 33600], examples_per_second: 3140.3539, train_label_loss: 1.1617, \n"
     ]
    },
    {
     "name": "stdout",
     "output_type": "stream",
     "text": [
      "epoch: 2, [batch: 10080 / 33600], examples_per_second: 3589.7772, train_label_loss: 0.5644, \n"
     ]
    },
    {
     "name": "stdout",
     "output_type": "stream",
     "text": [
      "epoch: 2, [batch: 13440 / 33600], examples_per_second: 3161.5354, train_label_loss: 0.5781, \n"
     ]
    },
    {
     "name": "stdout",
     "output_type": "stream",
     "text": [
      "epoch: 2, [batch: 16800 / 33600], examples_per_second: 3010.2380, train_label_loss: 1.2802, \n"
     ]
    },
    {
     "name": "stdout",
     "output_type": "stream",
     "text": [
      "epoch: 2, [batch: 20160 / 33600], examples_per_second: 3169.3681, train_label_loss: 1.2285, \n"
     ]
    },
    {
     "name": "stdout",
     "output_type": "stream",
     "text": [
      "epoch: 2, [batch: 23520 / 33600], examples_per_second: 2942.0814, train_label_loss: 0.4720, \n"
     ]
    },
    {
     "name": "stdout",
     "output_type": "stream",
     "text": [
      "epoch: 2, [batch: 26880 / 33600], examples_per_second: 3132.9092, train_label_loss: 0.3458, \n"
     ]
    },
    {
     "name": "stdout",
     "output_type": "stream",
     "text": [
      "epoch: 2, [batch: 30240 / 33600], examples_per_second: 3027.2226, train_label_loss: 0.9635, \n"
     ]
    },
    {
     "name": "stdout",
     "output_type": "stream",
     "text": [
      "=============================================================\n",
      "epoch: 2, source_val_acc_label: 0.6726, target_val_acc_label: 0.7035, source_val_label_loss: 0.8613, target_val_label_loss: 7.2426, \n",
      "=============================================================\n"
     ]
    },
    {
     "name": "stdout",
     "output_type": "stream",
     "text": [
      "New best\n"
     ]
    },
    {
     "name": "stdout",
     "output_type": "stream",
     "text": [
      "epoch: 3, [batch: 1 / 33600], examples_per_second: 0.7648, train_label_loss: 0.5629, \n"
     ]
    },
    {
     "name": "stdout",
     "output_type": "stream",
     "text": [
      "epoch: 3, [batch: 3360 / 33600], examples_per_second: 2956.8225, train_label_loss: 0.6912, \n"
     ]
    },
    {
     "name": "stdout",
     "output_type": "stream",
     "text": [
      "epoch: 3, [batch: 6720 / 33600], examples_per_second: 3451.9230, train_label_loss: 0.7358, \n"
     ]
    },
    {
     "name": "stdout",
     "output_type": "stream",
     "text": [
      "epoch: 3, [batch: 10080 / 33600], examples_per_second: 3474.9688, train_label_loss: 0.6088, \n"
     ]
    },
    {
     "name": "stdout",
     "output_type": "stream",
     "text": [
      "epoch: 3, [batch: 13440 / 33600], examples_per_second: 3301.7684, train_label_loss: 0.4912, \n"
     ]
    },
    {
     "name": "stdout",
     "output_type": "stream",
     "text": [
      "epoch: 3, [batch: 16800 / 33600], examples_per_second: 3001.6605, train_label_loss: 0.9782, \n"
     ]
    },
    {
     "name": "stdout",
     "output_type": "stream",
     "text": [
      "epoch: 3, [batch: 20160 / 33600], examples_per_second: 2994.6861, train_label_loss: 1.3508, \n"
     ]
    },
    {
     "name": "stdout",
     "output_type": "stream",
     "text": [
      "epoch: 3, [batch: 23520 / 33600], examples_per_second: 3235.4310, train_label_loss: 1.0619, \n"
     ]
    },
    {
     "name": "stdout",
     "output_type": "stream",
     "text": [
      "epoch: 3, [batch: 26880 / 33600], examples_per_second: 3015.5246, train_label_loss: 0.5187, \n"
     ]
    },
    {
     "name": "stdout",
     "output_type": "stream",
     "text": [
      "epoch: 3, [batch: 30240 / 33600], examples_per_second: 3167.7926, train_label_loss: 0.8459, \n"
     ]
    },
    {
     "name": "stdout",
     "output_type": "stream",
     "text": [
      "=============================================================\n",
      "epoch: 3, source_val_acc_label: 0.7029, target_val_acc_label: 0.7265, source_val_label_loss: 0.8028, target_val_label_loss: 8.4552, \n",
      "=============================================================\n"
     ]
    },
    {
     "name": "stdout",
     "output_type": "stream",
     "text": [
      "New best\n"
     ]
    },
    {
     "name": "stdout",
     "output_type": "stream",
     "text": [
      "epoch: 4, [batch: 1 / 33600], examples_per_second: 0.8873, train_label_loss: 0.4374, \n"
     ]
    },
    {
     "name": "stdout",
     "output_type": "stream",
     "text": [
      "epoch: 4, [batch: 3360 / 33600], examples_per_second: 3800.5673, train_label_loss: 0.4889, \n"
     ]
    },
    {
     "name": "stdout",
     "output_type": "stream",
     "text": [
      "epoch: 4, [batch: 6720 / 33600], examples_per_second: 3697.0125, train_label_loss: 1.1475, \n"
     ]
    },
    {
     "name": "stdout",
     "output_type": "stream",
     "text": [
      "epoch: 4, [batch: 10080 / 33600], examples_per_second: 3438.6405, train_label_loss: 0.4755, \n"
     ]
    },
    {
     "name": "stdout",
     "output_type": "stream",
     "text": [
      "epoch: 4, [batch: 13440 / 33600], examples_per_second: 3189.8076, train_label_loss: 0.3906, \n"
     ]
    },
    {
     "name": "stdout",
     "output_type": "stream",
     "text": [
      "epoch: 4, [batch: 16800 / 33600], examples_per_second: 3026.1562, train_label_loss: 0.6441, \n"
     ]
    },
    {
     "name": "stdout",
     "output_type": "stream",
     "text": [
      "epoch: 4, [batch: 20160 / 33600], examples_per_second: 2993.9582, train_label_loss: 0.3672, \n"
     ]
    },
    {
     "name": "stdout",
     "output_type": "stream",
     "text": [
      "epoch: 4, [batch: 23520 / 33600], examples_per_second: 3184.8959, train_label_loss: 0.1963, \n"
     ]
    },
    {
     "name": "stdout",
     "output_type": "stream",
     "text": [
      "epoch: 4, [batch: 26880 / 33600], examples_per_second: 3005.2047, train_label_loss: 0.6116, \n"
     ]
    },
    {
     "name": "stdout",
     "output_type": "stream",
     "text": [
      "epoch: 4, [batch: 30240 / 33600], examples_per_second: 3106.1728, train_label_loss: 0.3860, \n"
     ]
    },
    {
     "name": "stdout",
     "output_type": "stream",
     "text": [
      "=============================================================\n",
      "epoch: 4, source_val_acc_label: 0.7206, target_val_acc_label: 0.7415, source_val_label_loss: 0.7607, target_val_label_loss: 8.7495, \n",
      "=============================================================\n"
     ]
    },
    {
     "name": "stdout",
     "output_type": "stream",
     "text": [
      "New best\n"
     ]
    },
    {
     "name": "stdout",
     "output_type": "stream",
     "text": [
      "epoch: 5, [batch: 1 / 33600], examples_per_second: 0.7471, train_label_loss: 0.8894, \n"
     ]
    },
    {
     "name": "stdout",
     "output_type": "stream",
     "text": [
      "epoch: 5, [batch: 3360 / 33600], examples_per_second: 2962.0088, train_label_loss: 0.4342, \n"
     ]
    },
    {
     "name": "stdout",
     "output_type": "stream",
     "text": [
      "epoch: 5, [batch: 6720 / 33600], examples_per_second: 3235.6997, train_label_loss: 0.2855, \n"
     ]
    },
    {
     "name": "stdout",
     "output_type": "stream",
     "text": [
      "epoch: 5, [batch: 10080 / 33600], examples_per_second: 3962.4816, train_label_loss: 0.6386, \n"
     ]
    },
    {
     "name": "stdout",
     "output_type": "stream",
     "text": [
      "epoch: 5, [batch: 13440 / 33600], examples_per_second: 3380.5227, train_label_loss: 0.7767, \n"
     ]
    },
    {
     "name": "stdout",
     "output_type": "stream",
     "text": [
      "epoch: 5, [batch: 16800 / 33600], examples_per_second: 3819.0257, train_label_loss: 0.8048, \n"
     ]
    },
    {
     "name": "stdout",
     "output_type": "stream",
     "text": [
      "epoch: 5, [batch: 20160 / 33600], examples_per_second: 3939.6728, train_label_loss: 0.6943, \n"
     ]
    },
    {
     "name": "stdout",
     "output_type": "stream",
     "text": [
      "epoch: 5, [batch: 23520 / 33600], examples_per_second: 3348.3789, train_label_loss: 0.6372, \n"
     ]
    },
    {
     "name": "stdout",
     "output_type": "stream",
     "text": [
      "epoch: 5, [batch: 26880 / 33600], examples_per_second: 2958.1310, train_label_loss: 0.2384, \n"
     ]
    },
    {
     "name": "stdout",
     "output_type": "stream",
     "text": [
      "epoch: 5, [batch: 30240 / 33600], examples_per_second: 3239.1558, train_label_loss: 0.7981, \n"
     ]
    },
    {
     "name": "stdout",
     "output_type": "stream",
     "text": [
      "=============================================================\n",
      "epoch: 5, source_val_acc_label: 0.7279, target_val_acc_label: 0.7582, source_val_label_loss: 0.7509, target_val_label_loss: 9.0003, \n",
      "=============================================================\n"
     ]
    },
    {
     "name": "stdout",
     "output_type": "stream",
     "text": [
      "New best\n"
     ]
    },
    {
     "name": "stdout",
     "output_type": "stream",
     "text": [
      "epoch: 6, [batch: 1 / 33600], examples_per_second: 0.7437, train_label_loss: 0.4962, \n"
     ]
    },
    {
     "name": "stdout",
     "output_type": "stream",
     "text": [
      "epoch: 6, [batch: 3360 / 33600], examples_per_second: 2971.0976, train_label_loss: 0.6187, \n"
     ]
    },
    {
     "name": "stdout",
     "output_type": "stream",
     "text": [
      "epoch: 6, [batch: 6720 / 33600], examples_per_second: 3308.0942, train_label_loss: 0.4414, \n"
     ]
    },
    {
     "name": "stdout",
     "output_type": "stream",
     "text": [
      "epoch: 6, [batch: 10080 / 33600], examples_per_second: 3651.3754, train_label_loss: 0.4771, \n"
     ]
    },
    {
     "name": "stdout",
     "output_type": "stream",
     "text": [
      "epoch: 6, [batch: 13440 / 33600], examples_per_second: 2939.0031, train_label_loss: 0.2719, \n"
     ]
    },
    {
     "name": "stdout",
     "output_type": "stream",
     "text": [
      "epoch: 6, [batch: 16800 / 33600], examples_per_second: 3243.9717, train_label_loss: 0.4284, \n"
     ]
    },
    {
     "name": "stdout",
     "output_type": "stream",
     "text": [
      "epoch: 6, [batch: 20160 / 33600], examples_per_second: 2969.6900, train_label_loss: 0.6688, \n"
     ]
    },
    {
     "name": "stdout",
     "output_type": "stream",
     "text": [
      "epoch: 6, [batch: 23520 / 33600], examples_per_second: 3015.0338, train_label_loss: 0.4264, \n"
     ]
    },
    {
     "name": "stdout",
     "output_type": "stream",
     "text": [
      "epoch: 6, [batch: 26880 / 33600], examples_per_second: 3134.1713, train_label_loss: 0.5391, \n"
     ]
    },
    {
     "name": "stdout",
     "output_type": "stream",
     "text": [
      "epoch: 6, [batch: 30240 / 33600], examples_per_second: 2971.4601, train_label_loss: 0.3652, \n"
     ]
    },
    {
     "name": "stdout",
     "output_type": "stream",
     "text": [
      "=============================================================\n",
      "epoch: 6, source_val_acc_label: 0.7298, target_val_acc_label: 0.7631, source_val_label_loss: 0.7451, target_val_label_loss: 9.6526, \n",
      "=============================================================\n"
     ]
    },
    {
     "name": "stdout",
     "output_type": "stream",
     "text": [
      "New best\n"
     ]
    },
    {
     "name": "stdout",
     "output_type": "stream",
     "text": [
      "epoch: 7, [batch: 1 / 33600], examples_per_second: 0.8113, train_label_loss: 0.6344, \n"
     ]
    },
    {
     "name": "stdout",
     "output_type": "stream",
     "text": [
      "epoch: 7, [batch: 3360 / 33600], examples_per_second: 3813.9087, train_label_loss: 1.1642, \n"
     ]
    },
    {
     "name": "stdout",
     "output_type": "stream",
     "text": [
      "epoch: 7, [batch: 6720 / 33600], examples_per_second: 3888.7066, train_label_loss: 0.2407, \n"
     ]
    },
    {
     "name": "stdout",
     "output_type": "stream",
     "text": [
      "epoch: 7, [batch: 10080 / 33600], examples_per_second: 3416.4417, train_label_loss: 0.3262, \n"
     ]
    },
    {
     "name": "stdout",
     "output_type": "stream",
     "text": [
      "epoch: 7, [batch: 13440 / 33600], examples_per_second: 3528.9075, train_label_loss: 0.2213, \n"
     ]
    },
    {
     "name": "stdout",
     "output_type": "stream",
     "text": [
      "epoch: 7, [batch: 16800 / 33600], examples_per_second: 3517.9523, train_label_loss: 0.5257, \n"
     ]
    },
    {
     "name": "stdout",
     "output_type": "stream",
     "text": [
      "epoch: 7, [batch: 20160 / 33600], examples_per_second: 3404.7325, train_label_loss: 0.3438, \n"
     ]
    },
    {
     "name": "stdout",
     "output_type": "stream",
     "text": [
      "epoch: 7, [batch: 23520 / 33600], examples_per_second: 3473.2759, train_label_loss: 0.4509, \n"
     ]
    },
    {
     "name": "stdout",
     "output_type": "stream",
     "text": [
      "epoch: 7, [batch: 26880 / 33600], examples_per_second: 3890.9026, train_label_loss: 0.2784, \n"
     ]
    },
    {
     "name": "stdout",
     "output_type": "stream",
     "text": [
      "epoch: 7, [batch: 30240 / 33600], examples_per_second: 4038.7678, train_label_loss: 0.4166, \n"
     ]
    },
    {
     "name": "stdout",
     "output_type": "stream",
     "text": [
      "=============================================================\n",
      "epoch: 7, source_val_acc_label: 0.7313, target_val_acc_label: 0.7687, source_val_label_loss: 0.7481, target_val_label_loss: 10.1028, \n",
      "=============================================================\n"
     ]
    },
    {
     "name": "stdout",
     "output_type": "stream",
     "text": [
      "New best\n"
     ]
    },
    {
     "name": "stdout",
     "output_type": "stream",
     "text": [
      "epoch: 8, [batch: 1 / 33600], examples_per_second: 1.0204, train_label_loss: 0.4035, \n"
     ]
    },
    {
     "name": "stdout",
     "output_type": "stream",
     "text": [
      "epoch: 8, [batch: 3360 / 33600], examples_per_second: 3991.4026, train_label_loss: 0.2734, \n"
     ]
    },
    {
     "name": "stdout",
     "output_type": "stream",
     "text": [
      "epoch: 8, [batch: 6720 / 33600], examples_per_second: 4019.9967, train_label_loss: 0.4359, \n"
     ]
    },
    {
     "name": "stdout",
     "output_type": "stream",
     "text": [
      "epoch: 8, [batch: 10080 / 33600], examples_per_second: 3587.1645, train_label_loss: 0.2601, \n"
     ]
    },
    {
     "name": "stdout",
     "output_type": "stream",
     "text": [
      "epoch: 8, [batch: 13440 / 33600], examples_per_second: 3386.5483, train_label_loss: 0.4891, \n"
     ]
    },
    {
     "name": "stdout",
     "output_type": "stream",
     "text": [
      "epoch: 8, [batch: 16800 / 33600], examples_per_second: 3996.1170, train_label_loss: 0.2831, \n"
     ]
    },
    {
     "name": "stdout",
     "output_type": "stream",
     "text": [
      "epoch: 8, [batch: 20160 / 33600], examples_per_second: 4001.0272, train_label_loss: 0.2167, \n"
     ]
    },
    {
     "name": "stdout",
     "output_type": "stream",
     "text": [
      "epoch: 8, [batch: 23520 / 33600], examples_per_second: 3511.3255, train_label_loss: 0.7097, \n"
     ]
    },
    {
     "name": "stdout",
     "output_type": "stream",
     "text": [
      "epoch: 8, [batch: 26880 / 33600], examples_per_second: 3312.4966, train_label_loss: 0.5060, \n"
     ]
    },
    {
     "name": "stdout",
     "output_type": "stream",
     "text": [
      "epoch: 8, [batch: 30240 / 33600], examples_per_second: 3332.3906, train_label_loss: 0.2968, \n"
     ]
    },
    {
     "name": "stdout",
     "output_type": "stream",
     "text": [
      "=============================================================\n",
      "epoch: 8, source_val_acc_label: 0.7329, target_val_acc_label: 0.7721, source_val_label_loss: 0.7536, target_val_label_loss: 10.1161, \n",
      "=============================================================\n"
     ]
    },
    {
     "name": "stdout",
     "output_type": "stream",
     "text": [
      "New best\n"
     ]
    },
    {
     "name": "stdout",
     "output_type": "stream",
     "text": [
      "epoch: 9, [batch: 1 / 33600], examples_per_second: 0.7809, train_label_loss: 0.8796, \n"
     ]
    },
    {
     "name": "stdout",
     "output_type": "stream",
     "text": [
      "epoch: 9, [batch: 3360 / 33600], examples_per_second: 2971.8267, train_label_loss: 0.2652, \n"
     ]
    },
    {
     "name": "stdout",
     "output_type": "stream",
     "text": [
      "epoch: 9, [batch: 6720 / 33600], examples_per_second: 3061.1859, train_label_loss: 0.3481, \n"
     ]
    },
    {
     "name": "stdout",
     "output_type": "stream",
     "text": [
      "epoch: 9, [batch: 10080 / 33600], examples_per_second: 3557.4450, train_label_loss: 0.3892, \n"
     ]
    },
    {
     "name": "stdout",
     "output_type": "stream",
     "text": [
      "epoch: 9, [batch: 13440 / 33600], examples_per_second: 3071.1261, train_label_loss: 0.3807, \n"
     ]
    },
    {
     "name": "stdout",
     "output_type": "stream",
     "text": [
      "epoch: 9, [batch: 16800 / 33600], examples_per_second: 3226.3865, train_label_loss: 0.6300, \n"
     ]
    },
    {
     "name": "stdout",
     "output_type": "stream",
     "text": [
      "epoch: 9, [batch: 20160 / 33600], examples_per_second: 3420.1052, train_label_loss: 0.2690, \n"
     ]
    },
    {
     "name": "stdout",
     "output_type": "stream",
     "text": [
      "epoch: 9, [batch: 23520 / 33600], examples_per_second: 3169.7160, train_label_loss: 0.3878, \n"
     ]
    },
    {
     "name": "stdout",
     "output_type": "stream",
     "text": [
      "epoch: 9, [batch: 26880 / 33600], examples_per_second: 3212.3171, train_label_loss: 0.3028, \n"
     ]
    },
    {
     "name": "stdout",
     "output_type": "stream",
     "text": [
      "epoch: 9, [batch: 30240 / 33600], examples_per_second: 3246.0833, train_label_loss: 0.1947, \n"
     ]
    },
    {
     "name": "stdout",
     "output_type": "stream",
     "text": [
      "=============================================================\n",
      "epoch: 9, source_val_acc_label: 0.7313, target_val_acc_label: 0.7738, source_val_label_loss: 0.7619, target_val_label_loss: 10.5451, \n",
      "=============================================================\n"
     ]
    },
    {
     "name": "stdout",
     "output_type": "stream",
     "text": [
      "New best\n"
     ]
    },
    {
     "name": "stdout",
     "output_type": "stream",
     "text": [
      "epoch: 10, [batch: 1 / 33600], examples_per_second: 0.7795, train_label_loss: 0.2487, \n"
     ]
    },
    {
     "name": "stdout",
     "output_type": "stream",
     "text": [
      "epoch: 10, [batch: 3360 / 33600], examples_per_second: 3505.8770, train_label_loss: 0.3606, \n"
     ]
    },
    {
     "name": "stdout",
     "output_type": "stream",
     "text": [
      "epoch: 10, [batch: 6720 / 33600], examples_per_second: 3060.7157, train_label_loss: 0.4011, \n"
     ]
    },
    {
     "name": "stdout",
     "output_type": "stream",
     "text": [
      "epoch: 10, [batch: 10080 / 33600], examples_per_second: 3126.2694, train_label_loss: 0.5224, \n"
     ]
    },
    {
     "name": "stdout",
     "output_type": "stream",
     "text": [
      "epoch: 10, [batch: 13440 / 33600], examples_per_second: 3512.1092, train_label_loss: 0.3592, \n"
     ]
    },
    {
     "name": "stdout",
     "output_type": "stream",
     "text": [
      "epoch: 10, [batch: 16800 / 33600], examples_per_second: 3163.0458, train_label_loss: 0.3455, \n"
     ]
    },
    {
     "name": "stdout",
     "output_type": "stream",
     "text": [
      "epoch: 10, [batch: 20160 / 33600], examples_per_second: 3204.2706, train_label_loss: 0.9121, \n"
     ]
    },
    {
     "name": "stdout",
     "output_type": "stream",
     "text": [
      "epoch: 10, [batch: 23520 / 33600], examples_per_second: 3288.9335, train_label_loss: 0.3521, \n"
     ]
    },
    {
     "name": "stdout",
     "output_type": "stream",
     "text": [
      "epoch: 10, [batch: 26880 / 33600], examples_per_second: 3410.7507, train_label_loss: 0.3681, \n"
     ]
    },
    {
     "name": "stdout",
     "output_type": "stream",
     "text": [
      "epoch: 10, [batch: 30240 / 33600], examples_per_second: 3083.0246, train_label_loss: 0.4994, \n"
     ]
    },
    {
     "name": "stdout",
     "output_type": "stream",
     "text": [
      "=============================================================\n",
      "epoch: 10, source_val_acc_label: 0.7307, target_val_acc_label: 0.7815, source_val_label_loss: 0.7870, target_val_label_loss: 10.9892, \n",
      "=============================================================\n"
     ]
    },
    {
     "name": "stdout",
     "output_type": "stream",
     "text": [
      "New best\n"
     ]
    },
    {
     "name": "stdout",
     "output_type": "stream",
     "text": [
      "epoch: 11, [batch: 1 / 33600], examples_per_second: 0.8466, train_label_loss: 0.1944, \n"
     ]
    },
    {
     "name": "stdout",
     "output_type": "stream",
     "text": [
      "epoch: 11, [batch: 3360 / 33600], examples_per_second: 2992.9271, train_label_loss: 0.3487, \n"
     ]
    },
    {
     "name": "stdout",
     "output_type": "stream",
     "text": [
      "epoch: 11, [batch: 6720 / 33600], examples_per_second: 3475.7966, train_label_loss: 0.4780, \n"
     ]
    },
    {
     "name": "stdout",
     "output_type": "stream",
     "text": [
      "epoch: 11, [batch: 10080 / 33600], examples_per_second: 3644.3917, train_label_loss: 0.4161, \n"
     ]
    },
    {
     "name": "stdout",
     "output_type": "stream",
     "text": [
      "epoch: 11, [batch: 13440 / 33600], examples_per_second: 3727.6565, train_label_loss: 0.2705, \n"
     ]
    },
    {
     "name": "stdout",
     "output_type": "stream",
     "text": [
      "epoch: 11, [batch: 16800 / 33600], examples_per_second: 4094.5657, train_label_loss: 0.1391, \n"
     ]
    },
    {
     "name": "stdout",
     "output_type": "stream",
     "text": [
      "epoch: 11, [batch: 20160 / 33600], examples_per_second: 3895.4625, train_label_loss: 0.4855, \n"
     ]
    },
    {
     "name": "stdout",
     "output_type": "stream",
     "text": [
      "epoch: 11, [batch: 23520 / 33600], examples_per_second: 2951.6033, train_label_loss: 0.5358, \n"
     ]
    },
    {
     "name": "stdout",
     "output_type": "stream",
     "text": [
      "epoch: 11, [batch: 26880 / 33600], examples_per_second: 3225.4391, train_label_loss: 0.4456, \n"
     ]
    },
    {
     "name": "stdout",
     "output_type": "stream",
     "text": [
      "epoch: 11, [batch: 30240 / 33600], examples_per_second: 3510.7988, train_label_loss: 0.6048, \n"
     ]
    },
    {
     "name": "stdout",
     "output_type": "stream",
     "text": [
      "=============================================================\n",
      "epoch: 11, source_val_acc_label: 0.7262, target_val_acc_label: 0.7833, source_val_label_loss: 0.8088, target_val_label_loss: 11.3783, \n",
      "=============================================================\n"
     ]
    },
    {
     "name": "stdout",
     "output_type": "stream",
     "text": [
      "New best\n"
     ]
    },
    {
     "name": "stdout",
     "output_type": "stream",
     "text": [
      "epoch: 12, [batch: 1 / 33600], examples_per_second: 0.8738, train_label_loss: 0.2643, \n"
     ]
    },
    {
     "name": "stdout",
     "output_type": "stream",
     "text": [
      "epoch: 12, [batch: 3360 / 33600], examples_per_second: 3408.4346, train_label_loss: 0.2759, \n"
     ]
    },
    {
     "name": "stdout",
     "output_type": "stream",
     "text": [
      "epoch: 12, [batch: 6720 / 33600], examples_per_second: 3702.3750, train_label_loss: 0.3043, \n"
     ]
    },
    {
     "name": "stdout",
     "output_type": "stream",
     "text": [
      "epoch: 12, [batch: 10080 / 33600], examples_per_second: 3916.0750, train_label_loss: 0.3491, \n"
     ]
    },
    {
     "name": "stdout",
     "output_type": "stream",
     "text": [
      "epoch: 12, [batch: 13440 / 33600], examples_per_second: 4015.1586, train_label_loss: 0.1224, \n"
     ]
    },
    {
     "name": "stdout",
     "output_type": "stream",
     "text": [
      "epoch: 12, [batch: 16800 / 33600], examples_per_second: 4066.9784, train_label_loss: 0.4515, \n"
     ]
    },
    {
     "name": "stdout",
     "output_type": "stream",
     "text": [
      "epoch: 12, [batch: 20160 / 33600], examples_per_second: 3907.8991, train_label_loss: 0.2032, \n"
     ]
    },
    {
     "name": "stdout",
     "output_type": "stream",
     "text": [
      "epoch: 12, [batch: 23520 / 33600], examples_per_second: 4219.7046, train_label_loss: 0.5491, \n"
     ]
    },
    {
     "name": "stdout",
     "output_type": "stream",
     "text": [
      "epoch: 12, [batch: 26880 / 33600], examples_per_second: 3934.8321, train_label_loss: 0.5165, \n"
     ]
    },
    {
     "name": "stdout",
     "output_type": "stream",
     "text": [
      "epoch: 12, [batch: 30240 / 33600], examples_per_second: 3422.6260, train_label_loss: 0.9930, \n"
     ]
    },
    {
     "name": "stdout",
     "output_type": "stream",
     "text": [
      "=============================================================\n",
      "epoch: 12, source_val_acc_label: 0.7308, target_val_acc_label: 0.7737, source_val_label_loss: 0.8390, target_val_label_loss: 12.3106, \n",
      "=============================================================\n"
     ]
    },
    {
     "name": "stdout",
     "output_type": "stream",
     "text": [
      "epoch: 13, [batch: 1 / 33600], examples_per_second: 0.7890, train_label_loss: 0.7865, \n"
     ]
    },
    {
     "name": "stdout",
     "output_type": "stream",
     "text": [
      "epoch: 13, [batch: 3360 / 33600], examples_per_second: 2935.6637, train_label_loss: 0.2864, \n"
     ]
    },
    {
     "name": "stdout",
     "output_type": "stream",
     "text": [
      "epoch: 13, [batch: 6720 / 33600], examples_per_second: 3123.6401, train_label_loss: 0.4267, \n"
     ]
    },
    {
     "name": "stdout",
     "output_type": "stream",
     "text": [
      "epoch: 13, [batch: 10080 / 33600], examples_per_second: 3637.6810, train_label_loss: 0.1983, \n"
     ]
    },
    {
     "name": "stdout",
     "output_type": "stream",
     "text": [
      "epoch: 13, [batch: 13440 / 33600], examples_per_second: 2995.8028, train_label_loss: 0.3647, \n"
     ]
    },
    {
     "name": "stdout",
     "output_type": "stream",
     "text": [
      "epoch: 13, [batch: 16800 / 33600], examples_per_second: 3267.9769, train_label_loss: 0.5138, \n"
     ]
    },
    {
     "name": "stdout",
     "output_type": "stream",
     "text": [
      "epoch: 13, [batch: 20160 / 33600], examples_per_second: 3441.0806, train_label_loss: 0.6752, \n"
     ]
    },
    {
     "name": "stdout",
     "output_type": "stream",
     "text": [
      "epoch: 13, [batch: 23520 / 33600], examples_per_second: 3179.9304, train_label_loss: 0.1878, \n"
     ]
    },
    {
     "name": "stdout",
     "output_type": "stream",
     "text": [
      "epoch: 13, [batch: 26880 / 33600], examples_per_second: 3158.2848, train_label_loss: 0.1529, \n"
     ]
    },
    {
     "name": "stdout",
     "output_type": "stream",
     "text": [
      "epoch: 13, [batch: 30240 / 33600], examples_per_second: 3325.4214, train_label_loss: 0.0080, \n"
     ]
    },
    {
     "name": "stdout",
     "output_type": "stream",
     "text": [
      "=============================================================\n",
      "epoch: 13, source_val_acc_label: 0.7255, target_val_acc_label: 0.7795, source_val_label_loss: 0.8566, target_val_label_loss: 12.1825, \n",
      "=============================================================\n"
     ]
    },
    {
     "name": "stdout",
     "output_type": "stream",
     "text": [
      "epoch: 14, [batch: 1 / 33600], examples_per_second: 0.7787, train_label_loss: 0.3208, \n"
     ]
    },
    {
     "name": "stdout",
     "output_type": "stream",
     "text": [
      "epoch: 14, [batch: 3360 / 33600], examples_per_second: 3498.9587, train_label_loss: 0.3338, \n"
     ]
    },
    {
     "name": "stdout",
     "output_type": "stream",
     "text": [
      "epoch: 14, [batch: 6720 / 33600], examples_per_second: 2954.7310, train_label_loss: 0.7767, \n"
     ]
    },
    {
     "name": "stdout",
     "output_type": "stream",
     "text": [
      "epoch: 14, [batch: 10080 / 33600], examples_per_second: 3173.1618, train_label_loss: 0.2785, \n"
     ]
    },
    {
     "name": "stdout",
     "output_type": "stream",
     "text": [
      "epoch: 14, [batch: 13440 / 33600], examples_per_second: 3418.8624, train_label_loss: 0.2793, \n"
     ]
    },
    {
     "name": "stdout",
     "output_type": "stream",
     "text": [
      "epoch: 14, [batch: 16800 / 33600], examples_per_second: 3052.5517, train_label_loss: 0.0781, \n"
     ]
    },
    {
     "name": "stdout",
     "output_type": "stream",
     "text": [
      "epoch: 14, [batch: 20160 / 33600], examples_per_second: 3219.6197, train_label_loss: 0.3433, \n"
     ]
    },
    {
     "name": "stdout",
     "output_type": "stream",
     "text": [
      "epoch: 14, [batch: 23520 / 33600], examples_per_second: 3389.5958, train_label_loss: 0.4024, \n"
     ]
    },
    {
     "name": "stdout",
     "output_type": "stream",
     "text": [
      "epoch: 14, [batch: 26880 / 33600], examples_per_second: 3368.1695, train_label_loss: 0.2491, \n"
     ]
    },
    {
     "name": "stdout",
     "output_type": "stream",
     "text": [
      "epoch: 14, [batch: 30240 / 33600], examples_per_second: 3036.4950, train_label_loss: 0.4059, \n"
     ]
    },
    {
     "name": "stdout",
     "output_type": "stream",
     "text": [
      "=============================================================\n",
      "epoch: 14, source_val_acc_label: 0.7282, target_val_acc_label: 0.7760, source_val_label_loss: 0.8763, target_val_label_loss: 12.8906, \n",
      "=============================================================\n"
     ]
    },
    {
     "name": "stdout",
     "output_type": "stream",
     "text": [
      "epoch: 15, [batch: 1 / 33600], examples_per_second: 0.8453, train_label_loss: 0.1479, \n"
     ]
    },
    {
     "name": "stdout",
     "output_type": "stream",
     "text": [
      "epoch: 15, [batch: 3360 / 33600], examples_per_second: 3008.8967, train_label_loss: 0.0264, \n"
     ]
    },
    {
     "name": "stdout",
     "output_type": "stream",
     "text": [
      "epoch: 15, [batch: 6720 / 33600], examples_per_second: 3741.3065, train_label_loss: 0.0391, \n"
     ]
    },
    {
     "name": "stdout",
     "output_type": "stream",
     "text": [
      "epoch: 15, [batch: 10080 / 33600], examples_per_second: 3767.4719, train_label_loss: 0.6105, \n"
     ]
    },
    {
     "name": "stdout",
     "output_type": "stream",
     "text": [
      "epoch: 15, [batch: 13440 / 33600], examples_per_second: 4396.9597, train_label_loss: 0.3516, \n"
     ]
    },
    {
     "name": "stdout",
     "output_type": "stream",
     "text": [
      "epoch: 15, [batch: 16800 / 33600], examples_per_second: 4295.3979, train_label_loss: 0.3667, \n"
     ]
    },
    {
     "name": "stdout",
     "output_type": "stream",
     "text": [
      "epoch: 15, [batch: 20160 / 33600], examples_per_second: 3359.6885, train_label_loss: 0.0285, \n"
     ]
    },
    {
     "name": "stdout",
     "output_type": "stream",
     "text": [
      "epoch: 15, [batch: 23520 / 33600], examples_per_second: 3627.7760, train_label_loss: 0.3659, \n"
     ]
    },
    {
     "name": "stdout",
     "output_type": "stream",
     "text": [
      "epoch: 15, [batch: 26880 / 33600], examples_per_second: 4213.7961, train_label_loss: 0.1959, \n"
     ]
    },
    {
     "name": "stdout",
     "output_type": "stream",
     "text": [
      "epoch: 15, [batch: 30240 / 33600], examples_per_second: 3883.8161, train_label_loss: 0.1273, \n"
     ]
    },
    {
     "name": "stdout",
     "output_type": "stream",
     "text": [
      "=============================================================\n",
      "epoch: 15, source_val_acc_label: 0.7249, target_val_acc_label: 0.7805, source_val_label_loss: 0.8992, target_val_label_loss: 13.1874, \n",
      "=============================================================\n"
     ]
    },
    {
     "name": "stdout",
     "output_type": "stream",
     "text": [
      "Patience (3) exhausted\n"
     ]
    }
   ],
   "source": [
    "###################################\n",
    "# train\n",
    "###################################\n",
    "jig = PTN_Train_Eval_Test_Jig(model, p.BEST_MODEL_PATH, p.device)\n",
    "\n",
    "jig.train(\n",
    "    train_iterable=datasets.source.processed.train,\n",
    "    source_val_iterable=datasets.source.processed.val,\n",
    "    target_val_iterable=datasets.target.processed.val,\n",
    "    num_epochs=p.n_epoch,\n",
    "    num_logs_per_epoch=p.NUM_LOGS_PER_EPOCH,\n",
    "    patience=p.patience,\n",
    "    optimizer=optimizer,\n",
    "    criteria_for_best=p.criteria_for_best,\n",
    ")"
   ]
  },
  {
   "cell_type": "code",
   "execution_count": 23,
   "id": "31e8fabf",
   "metadata": {
    "execution": {
     "iopub.execute_input": "2022-03-23T08:50:04.166234Z",
     "iopub.status.busy": "2022-03-23T08:50:04.165677Z",
     "iopub.status.idle": "2022-03-23T08:50:04.199384Z",
     "shell.execute_reply": "2022-03-23T08:50:04.198684Z"
    },
    "papermill": {
     "duration": 0.105112,
     "end_time": "2022-03-23T08:50:04.199554",
     "exception": false,
     "start_time": "2022-03-23T08:50:04.094442",
     "status": "completed"
    },
    "tags": []
   },
   "outputs": [],
   "source": [
    "total_experiment_time_secs = time.time() - start_time_secs"
   ]
  },
  {
   "cell_type": "code",
   "execution_count": 24,
   "id": "87b9595b",
   "metadata": {
    "execution": {
     "iopub.execute_input": "2022-03-23T08:50:04.349553Z",
     "iopub.status.busy": "2022-03-23T08:50:04.349164Z",
     "iopub.status.idle": "2022-03-23T09:00:26.475640Z",
     "shell.execute_reply": "2022-03-23T09:00:26.474851Z"
    },
    "papermill": {
     "duration": 622.199206,
     "end_time": "2022-03-23T09:00:26.475850",
     "exception": false,
     "start_time": "2022-03-23T08:50:04.276644",
     "status": "completed"
    },
    "tags": []
   },
   "outputs": [],
   "source": [
    "###################################\n",
    "# Evaluate the model\n",
    "###################################\n",
    "source_test_label_accuracy, source_test_label_loss = jig.test(datasets.source.processed.test)\n",
    "target_test_label_accuracy, target_test_label_loss = jig.test(datasets.target.processed.test)\n",
    "\n",
    "source_val_label_accuracy, source_val_label_loss = jig.test(datasets.source.processed.val)\n",
    "target_val_label_accuracy, target_val_label_loss = jig.test(datasets.target.processed.val)\n",
    "\n",
    "history = jig.get_history()\n",
    "\n",
    "total_epochs_trained = len(history[\"epoch_indices\"])\n",
    "\n",
    "val_dl = Iterable_Aggregator((datasets.source.original.val,datasets.target.original.val))\n",
    "\n",
    "confusion = ptn_confusion_by_domain_over_dataloader(model, p.device, val_dl)\n",
    "per_domain_accuracy = per_domain_accuracy_from_confusion(confusion)\n",
    "\n",
    "# Add a key to per_domain_accuracy for if it was a source domain\n",
    "for domain, accuracy in per_domain_accuracy.items():\n",
    "    per_domain_accuracy[domain] = {\n",
    "        \"accuracy\": accuracy,\n",
    "        \"source?\": domain in p.domains_source\n",
    "    }\n",
    "\n",
    "# Do an independent accuracy assesment JUST TO BE SURE!\n",
    "# _source_test_label_accuracy = independent_accuracy_assesment(model, datasets.source.processed.test, p.device)\n",
    "# _target_test_label_accuracy = independent_accuracy_assesment(model, datasets.target.processed.test, p.device)\n",
    "# _source_val_label_accuracy = independent_accuracy_assesment(model, datasets.source.processed.val, p.device)\n",
    "# _target_val_label_accuracy = independent_accuracy_assesment(model, datasets.target.processed.val, p.device)\n",
    "\n",
    "# assert(_source_test_label_accuracy == source_test_label_accuracy)\n",
    "# assert(_target_test_label_accuracy == target_test_label_accuracy)\n",
    "# assert(_source_val_label_accuracy == source_val_label_accuracy)\n",
    "# assert(_target_val_label_accuracy == target_val_label_accuracy)\n",
    "\n",
    "experiment = {\n",
    "    \"experiment_name\": p.experiment_name,\n",
    "    \"parameters\": dict(p),\n",
    "    \"results\": {\n",
    "        \"source_test_label_accuracy\": source_test_label_accuracy,\n",
    "        \"source_test_label_loss\": source_test_label_loss,\n",
    "        \"target_test_label_accuracy\": target_test_label_accuracy,\n",
    "        \"target_test_label_loss\": target_test_label_loss,\n",
    "        \"source_val_label_accuracy\": source_val_label_accuracy,\n",
    "        \"source_val_label_loss\": source_val_label_loss,\n",
    "        \"target_val_label_accuracy\": target_val_label_accuracy,\n",
    "        \"target_val_label_loss\": target_val_label_loss,\n",
    "        \"total_epochs_trained\": total_epochs_trained,\n",
    "        \"total_experiment_time_secs\": total_experiment_time_secs,\n",
    "        \"confusion\": confusion,\n",
    "        \"per_domain_accuracy\": per_domain_accuracy,\n",
    "    },\n",
    "    \"history\": history,\n",
    "    \"dataset_metrics\": get_dataset_metrics(datasets, \"ptn\"),\n",
    "}"
   ]
  },
  {
   "cell_type": "code",
   "execution_count": 25,
   "id": "54a21829",
   "metadata": {
    "execution": {
     "iopub.execute_input": "2022-03-23T09:00:26.620898Z",
     "iopub.status.busy": "2022-03-23T09:00:26.620511Z",
     "iopub.status.idle": "2022-03-23T09:00:26.840857Z",
     "shell.execute_reply": "2022-03-23T09:00:26.841581Z"
    },
    "papermill": {
     "duration": 0.293308,
     "end_time": "2022-03-23T09:00:26.841898",
     "exception": false,
     "start_time": "2022-03-23T09:00:26.548590",
     "status": "completed"
    },
    "tags": []
   },
   "outputs": [
    {
     "data": {
      "image/png": "[encoded data removed]",
      "text/plain": [
       "<Figure size 1080x504 with 1 Axes>"
      ]
     },
     "metadata": {
      "needs_background": "light"
     },
     "output_type": "display_data"
    }
   ],
   "source": [
    "ax = get_loss_curve(experiment)\n",
    "plt.show()"
   ]
  },
  {
   "cell_type": "code",
   "execution_count": 26,
   "id": "fd8a0f60",
   "metadata": {
    "execution": {
     "iopub.execute_input": "2022-03-23T09:00:26.989910Z",
     "iopub.status.busy": "2022-03-23T09:00:26.989523Z",
     "iopub.status.idle": "2022-03-23T09:00:27.393579Z",
     "shell.execute_reply": "2022-03-23T09:00:27.394263Z"
    },
    "papermill": {
     "duration": 0.476585,
     "end_time": "2022-03-23T09:00:27.394478",
     "exception": false,
     "start_time": "2022-03-23T09:00:26.917893",
     "status": "completed"
    },
    "tags": []
   },
   "outputs": [
    {
     "data": {
      "text/plain": [
       "<AxesSubplot:title={'center':'Results'}>"
      ]
     },
     "execution_count": 26,
     "metadata": {},
     "output_type": "execute_result"
    },
    {
     "data": {
      "image/png": "[encoded data removed]",
      "text/plain": [
       "<Figure size 1080x504 with 1 Axes>"
      ]
     },
     "metadata": {
      "needs_background": "light"
     },
     "output_type": "display_data"
    }
   ],
   "source": [
    "get_results_table(experiment)"
   ]
  },
  {
   "cell_type": "code",
   "execution_count": 27,
   "id": "cf8dc689",
   "metadata": {
    "execution": {
     "iopub.execute_input": "2022-03-23T09:00:27.545483Z",
     "iopub.status.busy": "2022-03-23T09:00:27.545110Z",
     "iopub.status.idle": "2022-03-23T09:00:27.799868Z",
     "shell.execute_reply": "2022-03-23T09:00:27.799473Z"
    },
    "papermill": {
     "duration": 0.329169,
     "end_time": "2022-03-23T09:00:27.799944",
     "exception": false,
     "start_time": "2022-03-23T09:00:27.470775",
     "status": "completed"
    },
    "tags": []
   },
   "outputs": [
    {
     "data": {
      "text/plain": [
       "<AxesSubplot:title={'center':'Per Domain Validation Accuracy'}, xlabel='domain'>"
      ]
     },
     "execution_count": 27,
     "metadata": {},
     "output_type": "execute_result"
    },
    {
     "data": {
      "image/png": "[encoded data removed]",
      "text/plain": [
       "<Figure size 1080x504 with 1 Axes>"
      ]
     },
     "metadata": {
      "needs_background": "light"
     },
     "output_type": "display_data"
    }
   ],
   "source": [
    "get_domain_accuracies(experiment)"
   ]
  },
  {
   "cell_type": "code",
   "execution_count": 28,
   "id": "a74ae082",
   "metadata": {
    "execution": {
     "iopub.execute_input": "2022-03-23T09:00:27.952254Z",
     "iopub.status.busy": "2022-03-23T09:00:27.951871Z",
     "iopub.status.idle": "2022-03-23T09:00:27.979062Z",
     "shell.execute_reply": "2022-03-23T09:00:27.978698Z"
    },
    "papermill": {
     "duration": 0.105135,
     "end_time": "2022-03-23T09:00:27.979135",
     "exception": false,
     "start_time": "2022-03-23T09:00:27.874000",
     "status": "completed"
    },
    "tags": []
   },
   "outputs": [
    {
     "name": "stdout",
     "output_type": "stream",
     "text": [
      "Source Test Label Accuracy: 0.7283333333333334 Target Test Label Accuracy: 0.7856037151702786\n",
      "Source Val Label Accuracy: 0.72619140625 Target Val Label Accuracy: 0.783302436440678\n"
     ]
    }
   ],
   "source": [
    "print(\"Source Test Label Accuracy:\", experiment[\"results\"][\"source_test_label_accuracy\"], \"Target Test Label Accuracy:\", experiment[\"results\"][\"target_test_label_accuracy\"])\n",
    "print(\"Source Val Label Accuracy:\", experiment[\"results\"][\"source_val_label_accuracy\"], \"Target Val Label Accuracy:\", experiment[\"results\"][\"target_val_label_accuracy\"])"
   ]
  },
  {
   "cell_type": "code",
   "execution_count": 29,
   "id": "dacca602",
   "metadata": {
    "execution": {
     "iopub.execute_input": "2022-03-23T09:00:28.131716Z",
     "iopub.status.busy": "2022-03-23T09:00:28.131012Z",
     "iopub.status.idle": "2022-03-23T09:00:28.158412Z",
     "shell.execute_reply": "2022-03-23T09:00:28.158044Z"
    },
    "papermill": {
     "duration": 0.10478,
     "end_time": "2022-03-23T09:00:28.158486",
     "exception": false,
     "start_time": "2022-03-23T09:00:28.053706",
     "status": "completed"
    },
    "tags": [
     "experiment_json"
    ]
   },
   "outputs": [
    {
     "data": {
      "text/plain": [
       "'{\"experiment_name\": \"tl_1v2:wisig-oracle.run1\", \"parameters\": {\"experiment_name\": \"tl_1v2:wisig-oracle.run1\", \"device\": \"cuda\", \"lr\": 0.0001, \"n_shot\": 3, \"n_query\": 2, \"train_k_factor\": 3, \"val_k_factor\": 2, \"test_k_factor\": 2, \"torch_default_dtype\": \"torch.float32\", \"n_epoch\": 50, \"patience\": 3, \"criteria_for_best\": \"target_accuracy\", \"x_net\": [{\"class\": \"nnReshape\", \"kargs\": {\"shape\": [-1, 1, 2, 256]}}, {\"class\": \"Conv2d\", \"kargs\": {\"in_channels\": 1, \"out_channels\": 256, \"kernel_size\": [1, 7], \"bias\": false, \"padding\": [0, 3]}}, {\"class\": \"ReLU\", \"kargs\": {\"inplace\": true}}, {\"class\": \"BatchNorm2d\", \"kargs\": {\"num_features\": 256}}, {\"class\": \"Conv2d\", \"kargs\": {\"in_channels\": 256, \"out_channels\": 80, \"kernel_size\": [2, 7], \"bias\": true, \"padding\": [0, 3]}}, {\"class\": \"ReLU\", \"kargs\": {\"inplace\": true}}, {\"class\": \"BatchNorm2d\", \"kargs\": {\"num_features\": 80}}, {\"class\": \"Flatten\", \"kargs\": {}}, {\"class\": \"Linear\", \"kargs\": {\"in_features\": 20480, \"out_features\": 256}}, {\"class\": \"ReLU\", \"kargs\": {\"inplace\": true}}, {\"class\": \"BatchNorm1d\", \"kargs\": {\"num_features\": 256}}, {\"class\": \"Linear\", \"kargs\": {\"in_features\": 256, \"out_features\": 256}}], \"NUM_LOGS_PER_EPOCH\": 10, \"BEST_MODEL_PATH\": \"./best_model.pth\", \"n_way\": 16, \"datasets\": [{\"labels\": [\"1-10\", \"1-12\", \"1-14\", \"1-16\", \"1-18\", \"1-19\", \"1-8\", \"10-11\", \"10-17\", \"10-4\", \"10-7\", \"11-1\", \"11-10\", \"11-19\", \"11-20\", \"11-4\", \"11-7\", \"12-19\", \"12-20\", \"12-7\", \"13-14\", \"13-18\", \"13-19\", \"13-20\", \"13-3\", \"13-7\", \"14-10\", \"14-11\", \"14-12\", \"14-13\", \"14-14\", \"14-19\", \"14-20\", \"14-7\", \"14-8\", \"14-9\", \"15-1\", \"15-19\", \"15-6\", \"16-1\", \"16-16\", \"16-19\", \"16-20\", \"17-10\", \"17-11\", \"18-1\", \"18-10\", \"18-11\", \"18-12\", \"18-13\", \"18-14\", \"18-15\", \"18-16\", \"18-17\", \"18-19\", \"18-2\", \"18-20\", \"18-4\", \"18-5\", \"18-7\", \"18-8\", \"18-9\", \"19-1\", \"19-10\", \"19-11\", \"19-12\", \"19-13\", \"19-14\", \"19-15\", \"19-19\", \"19-2\", \"19-20\", \"19-3\", \"19-4\", \"19-6\", \"19-7\", \"19-8\", \"19-9\", \"2-1\", \"2-13\", \"2-15\", \"2-3\", \"2-4\", \"2-5\", \"2-6\", \"2-7\", \"2-8\", \"20-1\", \"20-12\", \"20-14\", \"20-15\", \"20-16\", \"20-18\", \"20-19\", \"20-20\", \"20-3\", \"20-4\", \"20-5\", \"20-7\", \"20-8\", \"3-1\", \"3-13\", \"3-18\", \"3-2\", \"3-8\", \"4-1\", \"4-10\", \"4-11\", \"5-1\", \"5-5\", \"6-1\", \"6-15\", \"6-6\", \"7-10\", \"7-11\", \"7-12\", \"7-13\", \"7-14\", \"7-7\", \"7-8\", \"7-9\", \"8-1\", \"8-13\", \"8-14\", \"8-18\", \"8-20\", \"8-3\", \"8-8\", \"9-1\", \"9-7\"], \"domains\": [1, 2, 3, 4], \"num_examples_per_domain_per_label\": -1, \"pickle_path\": \"/root/csc500-main/datasets/wisig.node3-19.stratified_ds.2022A.pkl\", \"source_or_target_dataset\": \"target\", \"x_transforms\": [\"unit_power\"], \"episode_transforms\": [], \"domain_prefix\": \"Wisig_\"}, {\"labels\": [\"3123D52\", \"3123D65\", \"3123D79\", \"3123D80\", \"3123D54\", \"3123D70\", \"3123D7B\", \"3123D89\", \"3123D58\", \"3123D76\", \"3123D7D\", \"3123EFE\", \"3123D64\", \"3123D78\", \"3123D7E\", \"3124E4A\"], \"domains\": [32, 38, 8, 44, 14, 50, 20, 26], \"num_examples_per_domain_per_label\": 10000, \"pickle_path\": \"/root/csc500-main/datasets/oracle.Run1_10kExamples_stratified_ds.2022A.pkl\", \"source_or_target_dataset\": \"source\", \"x_transforms\": [\"unit_power\"], \"episode_transforms\": [], \"domain_prefix\": \"ORACLE.run1\"}], \"dataset_seed\": 1337, \"seed\": 1337, \"x_shape\": [2, 256], \"domains_source\": [\"ORACLE.run132\", \"ORACLE.run138\", \"ORACLE.run18\", \"ORACLE.run144\", \"ORACLE.run114\", \"ORACLE.run150\", \"ORACLE.run120\", \"ORACLE.run126\"], \"domains_target\": [\"Wisig_1\", \"Wisig_2\", \"Wisig_3\", \"Wisig_4\"]}, \"results\": {\"source_test_label_accuracy\": 0.7283333333333334, \"source_test_label_loss\": 0.8043059706687927, \"target_test_label_accuracy\": 0.7856037151702786, \"target_test_label_loss\": 11.245899200439453, \"source_val_label_accuracy\": 0.72619140625, \"source_val_label_loss\": 0.8087682127952576, \"target_val_label_accuracy\": 0.783302436440678, \"target_val_label_loss\": 11.37828254699707, \"total_epochs_trained\": 15, \"total_experiment_time_secs\": 13887.025230407715, \"confusion\": {\"ORACLE.run114\": {\"15\": {\"15\": 1174, \"7\": 24, \"5\": 2}, \"3\": {\"3\": 1023, \"14\": 42, \"4\": 100, \"0\": 6, \"2\": 18, \"5\": 8, \"1\": 3}, \"6\": {\"13\": 453, \"6\": 644, \"2\": 51, \"14\": 52}, \"1\": {\"1\": 1077, \"5\": 104, \"4\": 11, \"7\": 8}, \"8\": {\"8\": 1200}, \"10\": {\"10\": 1175, \"0\": 25}, \"9\": {\"9\": 1194, \"11\": 3, \"12\": 3}, \"13\": {\"6\": 468, \"13\": 441, \"2\": 108, \"14\": 159, \"5\": 17, \"3\": 4, \"4\": 2, \"15\": 1}, \"12\": {\"12\": 1196, \"9\": 4}, \"5\": {\"4\": 177, \"5\": 797, \"2\": 62, \"1\": 140, \"3\": 12, \"15\": 2, \"7\": 7, \"14\": 2, \"13\": 1}, \"0\": {\"10\": 56, \"0\": 1096, \"11\": 22, \"3\": 25, \"14\": 1}, \"2\": {\"2\": 610, \"13\": 80, \"14\": 166, \"4\": 80, \"5\": 119, \"6\": 60, \"15\": 24, \"3\": 61}, \"11\": {\"11\": 1103, \"9\": 47, \"0\": 47, \"10\": 3}, \"14\": {\"3\": 34, \"14\": 949, \"13\": 88, \"6\": 44, \"2\": 83, \"4\": 1, \"0\": 1}, \"7\": {\"7\": 1177, \"15\": 13, \"1\": 6, \"5\": 4}, \"4\": {\"4\": 885, \"5\": 142, \"2\": 61, \"3\": 99, \"1\": 10, \"13\": 1, \"14\": 1, \"6\": 1}}, \"ORACLE.run120\": {\"3\": {\"3\": 465, \"12\": 265, \"2\": 65, \"9\": 201, \"5\": 38, \"4\": 81, \"7\": 39, \"1\": 24, \"8\": 10, \"0\": 7, \"10\": 2, \"15\": 3}, \"15\": {\"15\": 744, \"1\": 210, \"0\": 63, \"5\": 106, \"13\": 45, \"9\": 4, \"2\": 6, \"12\": 20, \"3\": 2}, \"8\": {\"4\": 149, \"14\": 48, \"8\": 878, \"7\": 80, \"6\": 9, \"3\": 18, \"10\": 14, \"12\": 2, \"5\": 1, \"2\": 1}, \"4\": {\"4\": 957, \"8\": 117, \"3\": 83, \"10\": 20, \"5\": 3, \"0\": 3, \"12\": 4, \"7\": 9, \"14\": 1, \"9\": 2, \"2\": 1}, \"14\": {\"14\": 963, \"6\": 137, \"8\": 23, \"10\": 74, \"4\": 2, \"7\": 1}, \"0\": {\"0\": 716, \"5\": 285, \"15\": 108, \"1\": 21, \"3\": 13, \"4\": 12, \"12\": 17, \"2\": 6, \"8\": 7, \"13\": 9, \"7\": 6}, \"7\": {\"7\": 860, \"6\": 15, \"2\": 140, \"8\": 90, \"3\": 41, \"9\": 42, \"4\": 8, \"14\": 1, \"13\": 2, \"10\": 1}, \"6\": {\"6\": 1024, \"14\": 148, \"7\": 18, \"10\": 4, \"8\": 6}, \"10\": {\"10\": 1077, \"4\": 32, \"14\": 73, \"6\": 2, \"8\": 11, \"3\": 2, \"7\": 2, \"9\": 1}, \"5\": {\"12\": 129, \"5\": 529, \"0\": 233, \"15\": 107, \"3\": 36, \"1\": 153, \"4\": 7, \"13\": 5, \"2\": 1}, \"2\": {\"9\": 273, \"2\": 583, \"12\": 61, \"7\": 150, \"3\": 66, \"13\": 52, \"5\": 4, \"15\": 2, \"1\": 7, \"8\": 1, \"0\": 1}, \"12\": {\"9\": 123, \"12\": 462, \"3\": 227, \"5\": 110, \"2\": 37, \"1\": 199, \"15\": 24, \"0\": 10, \"4\": 7, \"8\": 1}, \"9\": {\"9\": 514, \"3\": 207, \"12\": 105, \"2\": 306, \"1\": 14, \"7\": 43, \"13\": 6, \"5\": 2, \"15\": 2, \"4\": 1}, \"1\": {\"12\": 199, \"1\": 574, \"5\": 173, \"15\": 188, \"3\": 27, \"4\": 2, \"9\": 13, \"0\": 16, \"13\": 3, \"2\": 5}, \"11\": {\"11\": 1200}, \"13\": {\"13\": 1099, \"2\": 56, \"7\": 3, \"15\": 21, \"9\": 7, \"1\": 6, \"12\": 3, \"3\": 1, \"0\": 3, \"5\": 1}}, \"ORACLE.run138\": {\"5\": {\"5\": 525, \"8\": 334, \"0\": 64, \"13\": 5, \"15\": 43, \"9\": 38, \"6\": 46, \"1\": 6, \"7\": 128, \"3\": 7, \"10\": 4}, \"8\": {\"8\": 722, \"5\": 271, \"7\": 34, \"0\": 114, \"15\": 25, \"10\": 25, \"13\": 9}, \"11\": {\"11\": 1061, \"14\": 116, \"10\": 14, \"13\": 3, \"2\": 5, \"12\": 1}, \"1\": {\"1\": 1150, \"6\": 1, \"15\": 45, \"5\": 3, \"8\": 1}, \"10\": {\"10\": 920, \"13\": 143, \"8\": 47, \"7\": 7, \"0\": 28, \"5\": 8, \"15\": 10, \"14\": 12, \"12\": 11, \"2\": 4, \"4\": 3, \"11\": 7}, \"15\": {\"15\": 976, \"13\": 90, \"8\": 43, \"1\": 68, \"5\": 18, \"0\": 2, \"2\": 1, \"10\": 2}, \"3\": {\"3\": 1137, \"0\": 22, \"9\": 32, \"7\": 6, \"5\": 3}, \"7\": {\"5\": 66, \"0\": 127, \"7\": 947, \"8\": 55, \"10\": 2, \"9\": 3}, \"4\": {\"4\": 1137, \"12\": 60, \"10\": 3}, \"14\": {\"14\": 1062, \"2\": 75, \"10\": 13, \"11\": 40, \"13\": 6, \"12\": 4}, \"9\": {\"9\": 881, \"6\": 278, \"3\": 22, \"5\": 14, \"0\": 2, \"7\": 3}, \"12\": {\"12\": 1168, \"10\": 2, \"4\": 29, \"0\": 1}, \"6\": {\"6\": 1063, \"9\": 122, \"5\": 13, \"8\": 2}, \"2\": {\"2\": 1117, \"14\": 63, \"13\": 18, \"15\": 1, \"10\": 1}, \"0\": {\"8\": 214, \"0\": 621, \"3\": 72, \"7\": 175, \"5\": 89, \"10\": 23, \"9\": 3, \"12\": 2, \"13\": 1}, \"13\": {\"13\": 877, \"10\": 101, \"15\": 164, \"2\": 26, \"8\": 24, \"0\": 3, \"14\": 2, \"5\": 2, \"1\": 1}}, \"ORACLE.run18\": {\"9\": {\"9\": 1200}, \"10\": {\"10\": 830, \"5\": 27, \"14\": 208, \"4\": 34, \"1\": 5, \"13\": 95, \"0\": 1}, \"13\": {\"0\": 318, \"10\": 107, \"14\": 88, \"13\": 419, \"4\": 203, \"6\": 51, \"7\": 11, \"1\": 3}, \"0\": {\"0\": 742, \"13\": 239, \"7\": 99, \"6\": 64, \"10\": 7, \"4\": 48, \"14\": 1}, \"1\": {\"14\": 50, \"1\": 869, \"11\": 249, \"5\": 21, \"10\": 6, \"4\": 4, \"13\": 1}, \"15\": {\"15\": 853, \"12\": 266, \"8\": 57, \"3\": 9, \"6\": 1, \"2\": 10, \"7\": 4}, \"5\": {\"10\": 71, \"5\": 1071, \"1\": 45, \"14\": 11, \"11\": 2}, \"3\": {\"3\": 1038, \"2\": 111, \"12\": 49, \"15\": 2}, \"6\": {\"6\": 686, \"7\": 296, \"0\": 67, \"8\": 11, \"4\": 111, \"13\": 24, \"14\": 4, \"1\": 1}, \"11\": {\"1\": 327, \"11\": 840, \"4\": 1, \"5\": 7, \"8\": 8, \"14\": 16, \"10\": 1}, \"8\": {\"8\": 1121, \"7\": 9, \"15\": 60, \"6\": 6, \"12\": 4}, \"4\": {\"4\": 585, \"6\": 108, \"13\": 247, \"14\": 178, \"7\": 5, \"0\": 46, \"10\": 28, \"1\": 3}, \"12\": {\"12\": 625, \"15\": 396, \"8\": 22, \"3\": 144, \"2\": 13}, \"14\": {\"4\": 196, \"14\": 653, \"10\": 194, \"1\": 55, \"13\": 87, \"5\": 2, \"11\": 5, \"6\": 5, \"0\": 3}, \"2\": {\"3\": 159, \"2\": 965, \"15\": 40, \"12\": 17, \"7\": 19}, \"7\": {\"6\": 283, \"0\": 48, \"7\": 854, \"8\": 5, \"4\": 3, \"15\": 2, \"13\": 5}}, \"ORACLE.run150\": {\"7\": {\"7\": 758, \"13\": 238, \"5\": 160, \"4\": 7, \"10\": 20, \"6\": 17}, \"3\": {\"3\": 1175, \"8\": 25}, \"8\": {\"8\": 1165, \"10\": 21, \"3\": 13, \"0\": 1}, \"2\": {\"2\": 1120, \"0\": 80}, \"14\": {\"14\": 1187, \"12\": 9, \"11\": 4}, \"4\": {\"4\": 589, \"5\": 125, \"1\": 156, \"15\": 174, \"13\": 17, \"6\": 102, \"7\": 35, \"11\": 2}, \"6\": {\"13\": 78, \"6\": 868, \"4\": 110, \"1\": 85, \"5\": 29, \"15\": 23, \"7\": 7}, \"15\": {\"1\": 185, \"15\": 879, \"4\": 98, \"11\": 23, \"6\": 13, \"5\": 2}, \"10\": {\"10\": 1101, \"0\": 33, \"13\": 30, \"7\": 17, \"8\": 18, \"5\": 1}, \"11\": {\"11\": 1067, \"15\": 27, \"9\": 90, \"1\": 4, \"14\": 10, \"12\": 2}, \"13\": {\"7\": 181, \"13\": 777, \"5\": 141, \"6\": 66, \"10\": 22, \"4\": 10, \"0\": 3}, \"9\": {\"9\": 970, \"11\": 157, \"12\": 72, \"14\": 1}, \"0\": {\"0\": 1029, \"2\": 102, \"10\": 65, \"13\": 4}, \"1\": {\"1\": 810, \"4\": 92, \"15\": 189, \"6\": 92, \"13\": 5, \"5\": 11, \"11\": 1}, \"12\": {\"12\": 1083, \"9\": 86, \"14\": 27, \"11\": 4}, \"5\": {\"4\": 149, \"5\": 500, \"7\": 232, \"0\": 1, \"1\": 63, \"13\": 183, \"6\": 61, \"10\": 10, \"15\": 1}}, \"ORACLE.run132\": {\"8\": {\"13\": 80, \"8\": 878, \"5\": 86, \"0\": 133, \"4\": 6, \"3\": 6, \"14\": 5, \"7\": 5, \"15\": 1}, \"14\": {\"14\": 598, \"11\": 281, \"13\": 27, \"7\": 193, \"3\": 10, \"5\": 32, \"0\": 37, \"8\": 12, \"4\": 7, \"2\": 3}, \"2\": {\"4\": 222, \"2\": 926, \"7\": 26, \"0\": 24, \"14\": 1, \"5\": 1}, \"0\": {\"0\": 868, \"8\": 113, \"5\": 29, \"4\": 74, \"2\": 44, \"7\": 30, \"13\": 23, \"14\": 19}, \"1\": {\"1\": 1196, \"10\": 4}, \"10\": {\"10\": 1197, \"1\": 3}, \"11\": {\"11\": 951, \"14\": 208, \"3\": 9, \"7\": 10, \"13\": 18, \"5\": 4}, \"5\": {\"7\": 161, \"5\": 483, \"13\": 246, \"0\": 36, \"3\": 42, \"4\": 119, \"14\": 21, \"8\": 67, \"11\": 10, \"2\": 15}, \"15\": {\"15\": 1188, \"8\": 10, \"3\": 2}, \"3\": {\"3\": 1091, \"13\": 51, \"5\": 12, \"11\": 20, \"7\": 3, \"14\": 8, \"8\": 15}, \"12\": {\"12\": 1200}, \"7\": {\"7\": 569, \"5\": 174, \"13\": 81, \"4\": 147, \"14\": 142, \"2\": 27, \"11\": 33, \"0\": 20, \"8\": 6, \"3\": 1}, \"13\": {\"13\": 566, \"5\": 228, \"8\": 64, \"4\": 94, \"7\": 74, \"14\": 24, \"3\": 101, \"0\": 20, \"11\": 24, \"2\": 5}, \"6\": {\"6\": 1200}, \"4\": {\"4\": 736, \"7\": 98, \"2\": 184, \"13\": 61, \"5\": 87, \"0\": 26, \"14\": 4, \"8\": 4}, \"9\": {\"9\": 1199, \"12\": 1}}, \"ORACLE.run126\": {\"4\": {\"8\": 112, \"4\": 459, \"1\": 105, \"14\": 231, \"0\": 160, \"7\": 77, \"10\": 51, \"2\": 3, \"15\": 1, \"9\": 1}, \"12\": {\"12\": 1199, \"11\": 1}, \"10\": {\"0\": 247, \"10\": 496, \"4\": 85, \"6\": 54, \"9\": 22, \"8\": 158, \"14\": 103, \"15\": 4, \"1\": 23, \"7\": 8}, \"0\": {\"10\": 309, \"0\": 349, \"8\": 108, \"4\": 171, \"1\": 28, \"14\": 184, \"7\": 16, \"9\": 11, \"6\": 18, \"2\": 1, \"15\": 5}, \"13\": {\"13\": 872, \"5\": 212, \"15\": 62, \"6\": 4, \"2\": 24, \"9\": 25, \"3\": 1}, \"9\": {\"6\": 167, \"15\": 331, \"9\": 486, \"13\": 33, \"0\": 8, \"7\": 9, \"5\": 44, \"10\": 24, \"8\": 89, \"3\": 2, \"2\": 6, \"4\": 1}, \"3\": {\"3\": 719, \"2\": 290, \"7\": 190, \"15\": 1}, \"2\": {\"15\": 58, \"7\": 144, \"3\": 375, \"2\": 440, \"5\": 113, \"9\": 22, \"8\": 30, \"13\": 12, \"4\": 5, \"1\": 1}, \"5\": {\"5\": 767, \"2\": 62, \"15\": 127, \"13\": 166, \"8\": 23, \"9\": 45, \"6\": 2, \"7\": 5, \"3\": 3}, \"14\": {\"0\": 173, \"14\": 454, \"1\": 200, \"4\": 240, \"8\": 33, \"10\": 87, \"7\": 13}, \"8\": {\"10\": 150, \"0\": 122, \"8\": 460, \"4\": 112, \"6\": 30, \"2\": 10, \"9\": 94, \"15\": 77, \"7\": 85, \"5\": 13, \"14\": 32, \"1\": 5, \"3\": 9, \"13\": 1}, \"7\": {\"7\": 644, \"4\": 97, \"2\": 109, \"14\": 14, \"3\": 181, \"8\": 87, \"5\": 5, \"0\": 36, \"9\": 7, \"1\": 8, \"15\": 9, \"10\": 3}, \"6\": {\"6\": 893, \"10\": 65, \"9\": 138, \"0\": 25, \"7\": 1, \"15\": 37, \"8\": 35, \"13\": 4, \"14\": 1, \"5\": 1}, \"11\": {\"11\": 1200}, \"15\": {\"8\": 96, \"9\": 352, \"15\": 475, \"5\": 116, \"13\": 64, \"6\": 29, \"2\": 33, \"7\": 22, \"10\": 4, \"0\": 3, \"4\": 3, \"3\": 2, \"14\": 1}, \"1\": {\"1\": 748, \"14\": 226, \"4\": 134, \"3\": 3, \"0\": 36, \"10\": 35, \"8\": 6, \"7\": 12}}, \"ORACLE.run144\": {\"12\": {\"12\": 962, \"1\": 174, \"10\": 47, \"3\": 16, \"2\": 1}, \"7\": {\"9\": 219, \"2\": 171, \"7\": 765, \"3\": 3, \"6\": 37, \"13\": 4, \"1\": 1}, \"5\": {\"5\": 1051, \"0\": 80, \"14\": 29, \"15\": 29, \"8\": 9, \"4\": 2}, \"15\": {\"15\": 960, \"5\": 39, \"0\": 82, \"14\": 84, \"8\": 20, \"4\": 15}, \"8\": {\"8\": 744, \"0\": 410, \"5\": 16, \"15\": 30}, \"2\": {\"2\": 889, \"7\": 170, \"10\": 84, \"1\": 47, \"3\": 4, \"9\": 6}, \"13\": {\"13\": 781, \"11\": 40, \"6\": 208, \"9\": 149, \"7\": 9, \"4\": 11, \"14\": 2}, \"4\": {\"4\": 922, \"14\": 265, \"13\": 6, \"15\": 5, \"5\": 2}, \"0\": {\"0\": 760, \"5\": 88, \"8\": 302, \"15\": 50}, \"6\": {\"6\": 833, \"13\": 206, \"7\": 27, \"9\": 125, \"11\": 7, \"2\": 2}, \"9\": {\"13\": 128, \"9\": 655, \"7\": 282, \"6\": 124, \"2\": 9, \"4\": 2}, \"11\": {\"11\": 1105, \"13\": 76, \"6\": 19}, \"10\": {\"10\": 896, \"1\": 125, \"2\": 99, \"12\": 77, \"3\": 2, \"7\": 1}, \"14\": {\"4\": 323, \"14\": 769, \"15\": 69, \"5\": 39}, \"1\": {\"10\": 99, \"12\": 193, \"3\": 142, \"1\": 696, \"2\": 69, \"7\": 1}, \"3\": {\"3\": 1069, \"1\": 113, \"12\": 10, \"7\": 2, \"2\": 6}}, \"Wisig_3\": {\"109\": {\"109\": 76, \"43\": 3, \"23\": 1, \"92\": 3, \"89\": 1, \"26\": 1, \"102\": 11, \"69\": 5, \"118\": 14, \"39\": 1, \"70\": 1, \"16\": 2, \"113\": 2, \"33\": 3, \"11\": 2, \"84\": 1, \"18\": 1}, \"127\": {\"127\": 122, \"88\": 1, \"69\": 1, \"77\": 2, \"10\": 2}, \"14\": {\"14\": 73, \"96\": 1, \"90\": 2, \"29\": 1, \"100\": 1, \"31\": 1, \"93\": 1}, \"7\": {\"7\": 104, \"4\": 2, \"105\": 4, \"117\": 1, \"108\": 1}, \"129\": {\"100\": 3, \"129\": 19, \"49\": 3, \"32\": 2, \"110\": 1, \"87\": 1, \"20\": 2, \"19\": 1}, \"57\": {\"57\": 19, \"32\": 1}, \"84\": {\"44\": 3, \"84\": 95, \"116\": 1, \"82\": 3, \"90\": 3, \"92\": 1, \"14\": 1, \"88\": 1}, \"114\": {\"114\": 117, \"107\": 1, \"82\": 1, \"1\": 3, \"119\": 1, \"113\": 1}, \"44\": {\"44\": 61, \"109\": 1, \"50\": 2, \"17\": 2, \"90\": 1, \"16\": 1, \"69\": 1, \"31\": 1, \"23\": 1, \"102\": 1}, \"21\": {\"21\": 42, \"88\": 1, \"39\": 2, \"8\": 1, \"26\": 1, \"30\": 1}, \"46\": {\"46\": 15, \"85\": 1}, \"100\": {\"14\": 2, \"100\": 14}, \"63\": {\"63\": 11, \"121\": 2, \"18\": 1, \"123\": 1, \"122\": 1}, \"24\": {\"24\": 35, \"93\": 1, \"36\": 3, \"27\": 2, \"30\": 4, \"94\": 3}, \"107\": {\"107\": 115, \"32\": 1, \"90\": 1, \"23\": 1}, \"35\": {\"127\": 2, \"35\": 9, \"129\": 1}, \"81\": {\"81\": 32}, \"64\": {\"64\": 20}, \"59\": {\"59\": 12}, \"33\": {\"33\": 107, \"117\": 1, \"113\": 1, \"118\": 1, \"102\": 4}, \"34\": {\"59\": 2, \"58\": 2, \"111\": 3, \"34\": 8, \"14\": 2, \"122\": 1, \"37\": 1, \"23\": 1, \"98\": 1, \"125\": 1, \"75\": 1, \"11\": 1, \"50\": 1, \"28\": 1, \"32\": 3, \"1\": 1, \"91\": 2}, \"36\": {\"36\": 103, \"25\": 1, \"24\": 2, \"27\": 4, \"111\": 1, \"30\": 6, \"0\": 1, \"97\": 1, \"127\": 1}, \"79\": {\"79\": 12}, \"80\": {\"80\": 16}, \"77\": {\"77\": 13, \"109\": 1, \"5\": 2}, \"22\": {\"22\": 16}, \"124\": {\"124\": 104, \"98\": 18, \"16\": 1, \"62\": 1}, \"2\": {\"2\": 13, \"64\": 1, \"117\": 4, \"18\": 2, \"26\": 3, \"102\": 1, \"43\": 2, \"96\": 1, \"113\": 1}, \"87\": {\"22\": 2, \"14\": 1, \"87\": 79, \"44\": 6, \"11\": 2, \"122\": 1, \"74\": 1, \"40\": 5, \"90\": 2, \"107\": 5, \"29\": 1, \"115\": 1, \"93\": 1, \"84\": 1, \"62\": 2, \"7\": 2}, \"105\": {\"105\": 116, \"48\": 1, \"5\": 2, \"4\": 3}, \"95\": {\"95\": 32}, \"43\": {\"43\": 28, \"113\": 3, \"33\": 3, \"117\": 1, \"82\": 2, \"109\": 3, \"29\": 1, \"118\": 3, \"102\": 5, \"69\": 3, \"64\": 1, \"80\": 1, \"120\": 1, \"121\": 1}, \"56\": {\"56\": 12}, \"18\": {\"18\": 115, \"26\": 2, \"118\": 1, \"126\": 2, \"21\": 1, \"67\": 2, \"110\": 1}, \"85\": {\"46\": 1, \"85\": 34, \"124\": 1}, \"113\": {\"123\": 2, \"113\": 88, \"117\": 12, \"2\": 1, \"26\": 9, \"109\": 1, \"69\": 2, \"67\": 1, \"18\": 3, \"93\": 1}, \"97\": {\"97\": 14, \"15\": 3, \"27\": 1, \"73\": 1, \"13\": 1}, \"86\": {\"56\": 2, \"7\": 2, \"86\": 19, \"26\": 1, \"103\": 2, \"15\": 1, \"124\": 1}, \"128\": {\"85\": 4, \"55\": 1, \"115\": 2, \"5\": 1, \"73\": 1, \"86\": 1, \"108\": 2, \"23\": 1, \"71\": 1, \"124\": 1, \"107\": 1, \"128\": 4, \"12\": 1, \"114\": 1, \"22\": 1, \"104\": 1, \"48\": 1, \"57\": 3, \"101\": 1, \"122\": 2, \"42\": 1}, \"123\": {\"123\": 13, \"67\": 1, \"117\": 1, \"113\": 1}, \"8\": {\"8\": 104, \"59\": 1, \"30\": 1, \"12\": 1, \"0\": 8, \"98\": 3, \"42\": 3, \"128\": 1, \"73\": 1, \"101\": 1, \"15\": 4, \"124\": 1, \"108\": 1}, \"110\": {\"110\": 67, \"49\": 1, \"61\": 1, \"63\": 1, \"78\": 1, \"71\": 2, \"19\": 2, \"102\": 1, \"111\": 1, \"101\": 1, \"122\": 2, \"1\": 1, \"114\": 2, \"14\": 1, \"5\": 1, \"69\": 1, \"107\": 2, \"93\": 1, \"126\": 1}, \"126\": {\"126\": 85, \"111\": 1, \"39\": 3, \"18\": 6, \"108\": 1, \"113\": 3, \"63\": 2, \"81\": 1, \"117\": 1, \"26\": 1}, \"42\": {\"42\": 14, \"45\": 1, \"106\": 1, \"47\": 1, \"58\": 2, \"49\": 1, \"112\": 2, \"20\": 1, \"59\": 1, \"108\": 1, \"101\": 1, \"8\": 1, \"23\": 1}, \"96\": {\"96\": 20}, \"83\": {\"83\": 24}, \"54\": {\"54\": 16}, \"65\": {\"114\": 1, \"113\": 1, \"56\": 2, \"65\": 4, \"49\": 2, \"112\": 1, \"92\": 1}, \"30\": {\"24\": 2, \"30\": 56, \"0\": 8, \"101\": 1, \"106\": 1, \"27\": 2, \"36\": 3, \"69\": 1, \"15\": 4, \"73\": 3, \"126\": 1, \"12\": 2}, \"121\": {\"113\": 2, \"11\": 3, \"121\": 21, \"90\": 2, \"21\": 1, \"123\": 2, \"109\": 1}, \"68\": {\"42\": 2, \"68\": 13, \"119\": 1}, \"45\": {\"14\": 3, \"45\": 11, \"94\": 1, \"100\": 1}, \"48\": {\"44\": 3, \"114\": 1, \"34\": 2, \"77\": 2, \"76\": 1, \"40\": 1, \"62\": 1, \"103\": 1, \"90\": 2, \"105\": 1, \"33\": 1}, \"4\": {\"4\": 87, \"114\": 2, \"105\": 5, \"39\": 1, \"87\": 1}, \"67\": {\"67\": 16}, \"103\": {\"103\": 13, \"105\": 2, \"33\": 1}, \"74\": {\"74\": 16}, \"1\": {\"1\": 106, \"16\": 1, \"93\": 1}, \"61\": {\"61\": 16}, \"101\": {\"101\": 38, \"9\": 1, \"8\": 3, \"0\": 3, \"89\": 1, \"25\": 1, \"58\": 1, \"12\": 2, \"42\": 2}, \"93\": {\"93\": 129, \"63\": 1, \"62\": 1, \"126\": 2, \"96\": 1, \"109\": 1, \"16\": 3}, \"26\": {\"26\": 128, \"113\": 2}, \"71\": {\"4\": 2, \"71\": 47, \"23\": 2, \"113\": 1, \"127\": 5, \"3\": 9, \"96\": 1, \"5\": 1}, \"15\": {\"15\": 100, \"97\": 1, \"126\": 1, \"8\": 1, \"18\": 1}, \"55\": {\"55\": 16}, \"104\": {\"104\": 16}, \"112\": {\"112\": 13, \"85\": 2, \"27\": 1}, \"102\": {\"102\": 117, \"33\": 1, \"13\": 2, \"92\": 1, \"118\": 1}, \"117\": {\"117\": 112}, \"119\": {\"119\": 16}, \"20\": {\"20\": 11, \"106\": 1, \"114\": 1, \"129\": 3}, \"120\": {\"120\": 17, \"26\": 1, \"89\": 2}, \"39\": {\"64\": 1, \"39\": 48, \"113\": 15, \"2\": 2, \"63\": 1, \"117\": 18, \"26\": 5, \"18\": 3, \"109\": 4, \"126\": 7, \"67\": 1, \"118\": 1, \"110\": 1, \"93\": 1}, \"49\": {\"49\": 4, \"8\": 3, \"51\": 2, \"32\": 3, \"11\": 1, \"107\": 1, \"108\": 1, \"90\": 1, \"65\": 1, \"129\": 1, \"97\": 1, \"79\": 1, \"14\": 2, \"1\": 2}, \"53\": {\"49\": 1, \"53\": 19}, \"92\": {\"92\": 24, \"39\": 1, \"89\": 2, \"31\": 1, \"26\": 1, \"102\": 1, \"118\": 2}, \"3\": {\"3\": 104, \"71\": 3, \"5\": 7, \"114\": 2}, \"47\": {\"47\": 12}, \"115\": {\"115\": 16}, \"58\": {\"58\": 16}, \"29\": {\"29\": 27, \"90\": 1, \"44\": 4}, \"12\": {\"12\": 91, \"72\": 1, \"111\": 12}, \"62\": {\"62\": 107, \"4\": 1, \"18\": 1, \"102\": 1, \"33\": 6, \"84\": 1, \"36\": 1}, \"11\": {\"11\": 89, \"100\": 1, \"64\": 1, \"18\": 1, \"14\": 6, \"23\": 1, \"90\": 21, \"16\": 6, \"116\": 1, \"31\": 1, \"29\": 1, \"44\": 1, \"93\": 3, \"84\": 2, \"87\": 4, \"107\": 1}, \"72\": {\"72\": 19, \"106\": 1, \"111\": 5, \"59\": 1, \"5\": 1, \"56\": 1}, \"98\": {\"98\": 100, \"77\": 1, \"3\": 2, \"108\": 2, \"124\": 1}, \"122\": {\"122\": 35, \"28\": 1, \"1\": 8, \"19\": 1, \"49\": 1, \"115\": 1, \"3\": 1, \"71\": 1, \"110\": 3, \"23\": 1, \"39\": 1, \"129\": 1, \"4\": 1, \"88\": 1, \"55\": 1, \"82\": 1, \"113\": 1}, \"17\": {\"121\": 1, \"80\": 1, \"88\": 1, \"64\": 2, \"63\": 1, \"118\": 1, \"126\": 1, \"9\": 1, \"17\": 2, \"71\": 2, \"41\": 1, \"69\": 1, \"33\": 1}, \"94\": {\"94\": 65, \"0\": 1, \"15\": 2, \"111\": 2, \"106\": 2, \"51\": 2, \"49\": 1, \"73\": 2, \"36\": 1, \"54\": 1, \"85\": 1, \"6\": 3, \"30\": 1}, \"106\": {\"106\": 77, \"126\": 1, \"15\": 4, \"8\": 1, \"125\": 1, \"58\": 1, \"111\": 2, \"0\": 2, \"88\": 1}, \"28\": {\"28\": 14, \"60\": 2}, \"69\": {\"69\": 67, \"81\": 1, \"89\": 3, \"117\": 1, \"118\": 2, \"102\": 2, \"33\": 1, \"92\": 1, \"87\": 1, \"93\": 1, \"70\": 1, \"113\": 1, \"109\": 2}, \"125\": {\"125\": 106, \"84\": 1, \"111\": 1, \"18\": 1, \"73\": 2, \"15\": 2, \"33\": 1}, \"19\": {\"19\": 6, \"85\": 8, \"52\": 2, \"107\": 7, \"14\": 1, \"12\": 1, \"110\": 1, \"32\": 1, \"124\": 1, \"73\": 1, \"100\": 1, \"129\": 1, \"98\": 1}, \"41\": {\"41\": 14, \"99\": 2}, \"60\": {\"28\": 4, \"60\": 11, \"87\": 1, \"50\": 3, \"90\": 1, \"44\": 2, \"93\": 1, \"129\": 1, \"115\": 1, \"31\": 2, \"32\": 1}, \"70\": {\"20\": 1, \"70\": 28, \"88\": 5, \"108\": 4, \"110\": 4, \"10\": 5, \"109\": 1, \"129\": 2, \"114\": 4, \"124\": 3, \"71\": 2, \"47\": 1, \"19\": 1, \"5\": 3, \"53\": 1, \"18\": 1, \"92\": 1, \"106\": 1, \"113\": 1, \"8\": 1, \"126\": 1, \"30\": 1}, \"27\": {\"27\": 74, \"25\": 3, \"36\": 5, \"88\": 1, \"97\": 1, \"30\": 4, \"0\": 2, \"6\": 1, \"94\": 1, \"15\": 1, \"24\": 1, \"70\": 1, \"8\": 1}, \"10\": {\"68\": 1, \"9\": 1, \"10\": 68, \"88\": 1, \"108\": 10, \"41\": 1, \"70\": 2, \"127\": 16, \"3\": 2, \"113\": 1, \"4\": 1, \"124\": 6, \"12\": 1, \"0\": 1, \"92\": 1, \"8\": 3, \"99\": 1, \"110\": 1}, \"108\": {\"108\": 94, \"47\": 1, \"10\": 4, \"128\": 2, \"124\": 12, \"85\": 2, \"39\": 1, \"98\": 10, \"70\": 3, \"5\": 3, \"88\": 2, \"42\": 1, \"27\": 1, \"111\": 1, \"126\": 1, \"8\": 2}, \"9\": {\"9\": 32}, \"25\": {\"25\": 13, \"30\": 2, \"39\": 1}, \"37\": {\"37\": 15, \"109\": 1}, \"0\": {\"0\": 93, \"101\": 4, \"30\": 8, \"106\": 2, \"94\": 1, \"15\": 4, \"8\": 4}, \"66\": {\"66\": 16}, \"51\": {\"51\": 16}, \"76\": {\"76\": 16}, \"32\": {\"32\": 16, \"17\": 1, \"107\": 2, \"23\": 1, \"1\": 2, \"55\": 1, \"65\": 1, \"90\": 1, \"28\": 3, \"129\": 1, \"87\": 2, \"60\": 1}, \"88\": {\"88\": 62, \"108\": 7, \"49\": 1, \"70\": 8, \"53\": 2, \"19\": 3, \"11\": 2, \"114\": 4, \"5\": 1, \"129\": 2, \"71\": 2, \"110\": 15, \"39\": 1, \"14\": 1, \"107\": 1}, \"31\": {\"31\": 18, \"29\": 1, \"50\": 1}, \"91\": {\"91\": 14, \"12\": 2, \"124\": 1, \"52\": 3, \"27\": 1, \"65\": 1, \"10\": 1, \"111\": 1}, \"90\": {\"90\": 121, \"29\": 2, \"84\": 2, \"126\": 1}, \"13\": {\"102\": 2, \"13\": 8, \"126\": 1, \"23\": 2, \"33\": 2, \"101\": 1}, \"50\": {\"50\": 16}, \"78\": {\"60\": 2, \"78\": 6, \"31\": 1, \"122\": 1, \"110\": 1, \"50\": 1, \"74\": 1, \"11\": 1, \"114\": 1, \"87\": 1}, \"116\": {\"69\": 1, \"116\": 16, \"109\": 1, \"31\": 1, \"92\": 1, \"84\": 1, \"23\": 1, \"33\": 1, \"44\": 1, \"2\": 1, \"82\": 1, \"118\": 2}, \"5\": {\"5\": 100, \"3\": 7, \"71\": 3, \"39\": 1, \"18\": 1}, \"75\": {\"75\": 15, \"111\": 1}, \"89\": {\"89\": 27, \"26\": 1}, \"16\": {\"16\": 105, \"11\": 5, \"39\": 1, \"93\": 3, \"27\": 1, \"90\": 1}, \"38\": {\"1\": 1, \"38\": 13, \"40\": 1, \"33\": 1}, \"118\": {\"64\": 3, \"118\": 66, \"102\": 10, \"23\": 1, \"113\": 3, \"16\": 1, \"109\": 5, \"33\": 2, \"117\": 1, \"92\": 1, \"43\": 1, \"89\": 1, \"120\": 3, \"5\": 1, \"126\": 1}, \"99\": {\"99\": 31, \"36\": 1, \"66\": 2, \"127\": 2}, \"52\": {\"52\": 16}, \"111\": {\"111\": 119, \"52\": 1, \"12\": 3, \"5\": 1, \"3\": 1, \"72\": 1, \"98\": 2}, \"23\": {\"126\": 2, \"10\": 3, \"109\": 1, \"18\": 2, \"128\": 1, \"121\": 2, \"113\": 4, \"105\": 2, \"124\": 4, \"23\": 4, \"127\": 3, \"108\": 1, \"99\": 2, \"26\": 1}, \"73\": {\"73\": 33, \"101\": 1, \"6\": 1, \"12\": 3, \"8\": 1, \"15\": 1}, \"82\": {\"82\": 21, \"116\": 2, \"110\": 1, \"84\": 3, \"14\": 1}, \"40\": {\"40\": 122, \"1\": 2, \"93\": 1, \"22\": 2, \"88\": 1}, \"6\": {\"6\": 9, \"91\": 2, \"97\": 1, \"125\": 3, \"15\": 1, \"24\": 2, \"94\": 6, \"41\": 1, \"58\": 1, \"111\": 1, \"127\": 1, \"101\": 1, \"73\": 1, \"12\": 1, \"99\": 1}}, \"Wisig_4\": {\"28\": {\"28\": 17, \"89\": 1, \"5\": 1, \"72\": 1}, \"4\": {\"4\": 90, \"10\": 1, \"71\": 2, \"124\": 2, \"27\": 1, \"86\": 3, \"24\": 1, \"114\": 2, \"1\": 2}, \"72\": {\"72\": 26, \"13\": 1, \"122\": 1, \"14\": 1, \"43\": 2, \"84\": 1}, \"111\": {\"111\": 124, \"16\": 2, \"106\": 5, \"127\": 2, \"0\": 1, \"12\": 1, \"10\": 1}, \"108\": {\"108\": 43, \"60\": 2, \"129\": 1, \"11\": 5, \"49\": 1, \"88\": 5, \"122\": 1, \"5\": 6, \"36\": 1, \"27\": 1, \"125\": 1, \"110\": 5, \"14\": 6, \"126\": 1, \"93\": 7, \"19\": 1, \"39\": 1, \"24\": 1, \"1\": 1, \"70\": 1, \"10\": 1}, \"43\": {\"43\": 58, \"14\": 5, \"116\": 2, \"33\": 8, \"32\": 2, \"44\": 2, \"107\": 2, \"87\": 5, \"99\": 1, \"110\": 8, \"118\": 1, \"11\": 3, \"122\": 4, \"40\": 7, \"5\": 3, \"74\": 1, \"73\": 1, \"72\": 2, \"98\": 1, \"127\": 1, \"7\": 1, \"108\": 1, \"109\": 1}, \"96\": {\"96\": 19, \"57\": 1}, \"89\": {\"89\": 25, \"28\": 2, \"120\": 1, \"74\": 1, \"8\": 1, \"102\": 1, \"99\": 1}, \"31\": {\"31\": 10, \"96\": 1, \"118\": 1, \"13\": 2, \"90\": 2}, \"45\": {\"45\": 16}, \"2\": {\"96\": 3, \"2\": 8, \"109\": 3, \"63\": 3, \"26\": 1, \"18\": 3, \"23\": 1, \"16\": 3, \"126\": 1, \"84\": 2}, \"114\": {\"114\": 98, \"12\": 1, \"128\": 2, \"129\": 1, \"7\": 1, \"89\": 1, \"4\": 3, \"71\": 7, \"124\": 3, \"98\": 2, \"5\": 3, \"11\": 1, \"3\": 1, \"88\": 1, \"105\": 2, \"107\": 1}, \"11\": {\"11\": 105, \"96\": 1, \"48\": 1, \"72\": 1, \"98\": 4, \"107\": 4, \"5\": 5, \"14\": 10, \"109\": 1, \"99\": 1, \"22\": 2, \"3\": 1}, \"12\": {\"111\": 9, \"91\": 2, \"12\": 73, \"68\": 1, \"36\": 2, \"101\": 3, \"62\": 1, \"106\": 1, \"95\": 1, \"98\": 1, \"127\": 3, \"103\": 1, \"8\": 2}, \"14\": {\"14\": 97, \"11\": 3, \"43\": 1, \"81\": 1, \"5\": 4, \"99\": 1, \"49\": 1, \"87\": 1, \"3\": 1, \"110\": 2}, \"90\": {\"90\": 149, \"102\": 5}, \"10\": {\"10\": 56, \"94\": 7, \"97\": 4, \"9\": 1, \"8\": 6, \"101\": 3, \"27\": 8, \"24\": 11, \"30\": 6, \"111\": 1, \"36\": 6, \"106\": 1, \"18\": 1, \"70\": 1, \"15\": 7, \"0\": 1, \"127\": 1, \"88\": 1}, \"63\": {\"63\": 15, \"117\": 1}, \"85\": {\"85\": 22, \"4\": 2, \"86\": 2, \"14\": 1, \"1\": 1}, \"64\": {\"64\": 14, \"20\": 1, \"126\": 1}, \"82\": {\"64\": 3, \"82\": 20, \"32\": 2, \"87\": 1, \"105\": 1, \"43\": 3, \"101\": 1, \"44\": 1}, \"58\": {\"58\": 15, \"27\": 1}, \"3\": {\"3\": 117, \"117\": 2, \"11\": 6, \"10\": 1, \"5\": 1, \"114\": 1, \"73\": 2, \"79\": 2, \"115\": 1, \"19\": 1, \"88\": 1, \"21\": 1}, \"54\": {\"54\": 13, \"94\": 2, \"12\": 1}, \"121\": {\"121\": 23, \"123\": 2, \"84\": 2, \"16\": 3, \"57\": 1, \"39\": 1}, \"42\": {\"58\": 3, \"112\": 1, \"106\": 1, \"9\": 2, \"100\": 1, \"75\": 2, \"111\": 2, \"49\": 1, \"19\": 2, \"52\": 2, \"98\": 2, \"60\": 3, \"42\": 3, \"89\": 1, \"8\": 2}, \"98\": {\"98\": 88, \"95\": 4, \"26\": 1, \"52\": 4, \"34\": 2, \"109\": 1, \"124\": 4, \"101\": 1, \"71\": 3, \"111\": 1, \"127\": 1, \"18\": 1, \"91\": 2, \"84\": 1, \"25\": 1, \"128\": 2, \"39\": 1, \"0\": 2}, \"123\": {\"123\": 16}, \"91\": {\"91\": 22, \"68\": 2}, \"83\": {\"124\": 1, \"83\": 21, \"119\": 1, \"1\": 1, \"32\": 1, \"71\": 2, \"106\": 1}, \"99\": {\"99\": 34, \"57\": 1, \"115\": 1, \"89\": 1, \"32\": 1, \"107\": 2}, \"112\": {\"112\": 13, \"42\": 2, \"19\": 1}, \"119\": {\"119\": 12, \"14\": 2, \"73\": 2}, \"70\": {\"112\": 1, \"70\": 56, \"19\": 1, \"42\": 2, \"29\": 1, \"88\": 9, \"0\": 10, \"101\": 5, \"122\": 2, \"8\": 3, \"102\": 1, \"98\": 5, \"124\": 9, \"126\": 1, \"24\": 1, \"129\": 1, \"119\": 1, \"60\": 3, \"114\": 4, \"49\": 1, \"117\": 1, \"15\": 2, \"30\": 1, \"108\": 2, \"10\": 1}, \"20\": {\"20\": 13, \"19\": 2, \"1\": 1}, \"120\": {\"120\": 16, \"55\": 2, \"17\": 1, \"60\": 1}, \"7\": {\"7\": 107, \"50\": 1, \"87\": 7, \"105\": 1, \"108\": 1, \"17\": 1, \"60\": 1, \"28\": 1, \"89\": 2, \"1\": 1, \"128\": 1}, \"60\": {\"60\": 10, \"33\": 1, \"71\": 1, \"19\": 2, \"46\": 1, \"43\": 2, \"32\": 2, \"72\": 2, \"99\": 1, \"88\": 1, \"61\": 2, \"100\": 2, \"13\": 1, \"79\": 1, \"22\": 1, \"66\": 1, \"28\": 1}, \"113\": {\"113\": 96, \"39\": 3, \"121\": 2, \"117\": 6, \"126\": 2, \"16\": 2, \"18\": 4, \"2\": 1, \"24\": 1, \"26\": 1}, \"37\": {\"37\": 11, \"20\": 1, \"128\": 1, \"55\": 3}, \"124\": {\"124\": 109, \"60\": 1}, \"27\": {\"70\": 2, \"112\": 1, \"27\": 67, \"88\": 1, \"59\": 2, \"111\": 2, \"0\": 5, \"8\": 2, \"30\": 3, \"24\": 2, \"126\": 2, \"10\": 6, \"48\": 1, \"12\": 2, \"36\": 1, \"9\": 1}, \"86\": {\"86\": 27, \"55\": 1}, \"127\": {\"127\": 85, \"12\": 4, \"0\": 2, \"113\": 1, \"111\": 7, \"126\": 1, \"98\": 3, \"29\": 1, \"122\": 1, \"4\": 1, \"101\": 1, \"39\": 1}, \"62\": {\"62\": 44, \"71\": 1, \"122\": 1, \"118\": 5, \"44\": 3, \"84\": 1, \"108\": 1, \"92\": 2, \"80\": 1, \"110\": 1}, \"122\": {\"122\": 37, \"109\": 1, \"31\": 1, \"22\": 2, \"93\": 1, \"33\": 6, \"44\": 2, \"14\": 7, \"5\": 5, \"110\": 7, \"84\": 2, \"118\": 6, \"117\": 1, \"43\": 1, \"126\": 1, \"90\": 3, \"11\": 1}, \"51\": {\"106\": 2, \"101\": 4, \"30\": 1, \"21\": 1, \"52\": 1, \"51\": 2, \"23\": 1, \"62\": 1, \"95\": 1, \"34\": 1, \"17\": 1}, \"109\": {\"109\": 73, \"118\": 2, \"19\": 1, \"84\": 5, \"44\": 1, \"102\": 15, \"90\": 4, \"108\": 1, \"93\": 2, \"80\": 2, \"38\": 1, \"100\": 1, \"16\": 2, \"110\": 2, \"43\": 2}, \"106\": {\"106\": 83, \"129\": 1, \"39\": 1, \"111\": 3, \"12\": 5, \"8\": 8, \"88\": 2, \"4\": 1, \"124\": 1, \"101\": 4, \"126\": 2, \"78\": 1, \"1\": 1, \"117\": 1}, \"94\": {\"94\": 57, \"54\": 2, \"25\": 2, \"21\": 1, \"30\": 7, \"15\": 4, \"24\": 1, \"36\": 5, \"10\": 1, \"1\": 1, \"70\": 1, \"27\": 1, \"6\": 1, \"97\": 1, \"88\": 1, \"111\": 2}, \"38\": {\"38\": 15, \"66\": 1}, \"129\": {\"42\": 2, \"129\": 9, \"60\": 1, \"43\": 1, \"14\": 1, \"98\": 2, \"59\": 1, \"110\": 2, \"71\": 2, \"124\": 3, \"53\": 1, \"19\": 1, \"45\": 2}, \"116\": {\"116\": 14, \"38\": 1, \"33\": 4, \"45\": 1, \"102\": 1, \"44\": 2, \"69\": 1, \"115\": 1, \"118\": 2, \"66\": 1}, \"107\": {\"107\": 109, \"99\": 1, \"40\": 1, \"11\": 1, \"33\": 1, \"115\": 2, \"105\": 2, \"43\": 1}, \"30\": {\"6\": 4, \"30\": 51, \"15\": 8, \"10\": 2, \"39\": 1, \"94\": 3, \"36\": 2, \"70\": 1, \"106\": 1, \"24\": 2, \"16\": 1}, \"102\": {\"102\": 114, \"118\": 2, \"44\": 2, \"69\": 1, \"84\": 2, \"90\": 6, \"38\": 2, \"80\": 1, \"13\": 2}, \"74\": {\"74\": 12, \"44\": 1, \"99\": 1, \"22\": 2}, \"101\": {\"101\": 100, \"95\": 1, \"47\": 1, \"67\": 1, \"0\": 6, \"12\": 3, \"106\": 5, \"127\": 2, \"8\": 6, \"110\": 1, \"111\": 3, \"91\": 1, \"109\": 1, \"70\": 1}, \"117\": {\"117\": 109, \"81\": 5, \"30\": 1, \"74\": 1, \"16\": 1, \"26\": 2, \"39\": 2, \"18\": 1, \"84\": 2}, \"1\": {\"1\": 67, \"3\": 2, \"7\": 5, \"89\": 2, \"43\": 2, \"108\": 1, \"24\": 1, \"114\": 2, \"109\": 1, \"88\": 2, \"105\": 4, \"15\": 2, \"71\": 4, \"99\": 1, \"128\": 2, \"21\": 1, \"14\": 2, \"5\": 1, \"4\": 1, \"27\": 1, \"87\": 3, \"11\": 1}, \"84\": {\"102\": 6, \"84\": 107, \"113\": 2, \"118\": 2, \"109\": 1, \"69\": 2, \"117\": 3, \"16\": 3, \"90\": 2, \"14\": 1, \"33\": 1, \"39\": 1, \"88\": 1}, \"17\": {\"17\": 16, \"71\": 1, \"85\": 1, \"55\": 2}, \"6\": {\"85\": 2, \"36\": 3, \"4\": 1, \"6\": 9, \"75\": 1, \"125\": 2, \"103\": 1, \"94\": 1, \"95\": 2, \"15\": 2}, \"110\": {\"110\": 98, \"32\": 1, \"129\": 1, \"11\": 2, \"5\": 11, \"108\": 1, \"24\": 1, \"88\": 1, \"118\": 1, \"43\": 2, \"14\": 3, \"90\": 1, \"93\": 1}, \"77\": {\"77\": 12}, \"8\": {\"111\": 7, \"112\": 1, \"8\": 90, \"93\": 1, \"0\": 8, \"12\": 1, \"127\": 2, \"70\": 2, \"101\": 6, \"106\": 6, \"27\": 2, \"129\": 1, \"82\": 1, \"30\": 1, \"42\": 1, \"26\": 1, \"84\": 1}, \"73\": {\"110\": 2, \"73\": 15, \"10\": 1, \"3\": 1, \"19\": 1, \"36\": 1, \"120\": 1, \"119\": 2}, \"126\": {\"39\": 14, \"126\": 79, \"113\": 9, \"122\": 1, \"16\": 2, \"18\": 4, \"26\": 4, \"117\": 3, \"109\": 1, \"88\": 1, \"123\": 2, \"67\": 2, \"81\": 2}, \"57\": {\"57\": 14, \"13\": 1, \"69\": 1}, \"95\": {\"95\": 31, \"8\": 1}, \"103\": {\"112\": 1, \"103\": 11, \"47\": 1, \"8\": 1, \"29\": 2}, \"97\": {\"97\": 13, \"10\": 3, \"30\": 1, \"9\": 1, \"29\": 1, \"59\": 1}, \"39\": {\"126\": 5, \"39\": 54, \"26\": 6, \"113\": 9, \"117\": 6, \"35\": 1, \"63\": 1, \"87\": 1, \"81\": 2, \"24\": 1, \"84\": 2, \"109\": 5, \"2\": 2, \"18\": 2, \"21\": 2, \"108\": 1}, \"100\": {\"1\": 1, \"114\": 1, \"100\": 16, \"129\": 2}, \"40\": {\"40\": 105, \"69\": 1, \"107\": 2, \"105\": 1, \"87\": 1}, \"36\": {\"36\": 94, \"27\": 2, \"94\": 6, \"10\": 4, \"15\": 6, \"24\": 6, \"101\": 2, \"30\": 5, \"21\": 1}, \"19\": {\"129\": 1, \"5\": 1, \"14\": 2, \"19\": 9, \"53\": 2, \"73\": 2, \"71\": 1, \"122\": 1, \"111\": 1, \"0\": 2, \"98\": 3, \"33\": 1, \"96\": 1, \"74\": 1}, \"118\": {\"122\": 2, \"118\": 87, \"38\": 1, \"43\": 1, \"84\": 2, \"110\": 3, \"102\": 4, \"62\": 5, \"31\": 1, \"108\": 1, \"12\": 1, \"92\": 2, \"14\": 1, \"90\": 1}, \"56\": {\"56\": 12}, \"26\": {\"26\": 100, \"117\": 5, \"18\": 17, \"84\": 1, \"81\": 1, \"69\": 2}, \"5\": {\"5\": 124, \"19\": 1, \"110\": 3, \"11\": 2, \"108\": 2, \"117\": 1, \"14\": 2, \"4\": 1}, \"21\": {\"21\": 30, \"81\": 2, \"10\": 2, \"88\": 2, \"84\": 1, \"36\": 1, \"105\": 1, \"126\": 1}, \"22\": {\"72\": 1, \"82\": 1, \"22\": 9, \"36\": 1, \"74\": 2, \"90\": 1, \"79\": 1}, \"68\": {\"103\": 1, \"68\": 14, \"111\": 1}, \"9\": {\"30\": 2, \"9\": 24, \"51\": 2}, \"66\": {\"66\": 11, \"50\": 1, \"90\": 1, \"44\": 2, \"102\": 1}, \"87\": {\"107\": 10, \"87\": 73, \"11\": 6, \"50\": 1, \"32\": 1, \"72\": 2, \"14\": 2, \"105\": 5, \"7\": 9, \"43\": 1, \"1\": 1, \"5\": 1, \"76\": 1, \"40\": 6, \"128\": 1, \"110\": 1, \"3\": 2, \"117\": 1}, \"71\": {\"71\": 89, \"85\": 1, \"19\": 1, \"86\": 1, \"114\": 7, \"124\": 1, \"88\": 1, \"1\": 1, \"21\": 1, \"39\": 1}, \"115\": {\"107\": 1, \"115\": 14, \"99\": 1}, \"23\": {\"68\": 1, \"23\": 2, \"67\": 2, \"21\": 1, \"81\": 1, \"53\": 1, \"113\": 2, \"121\": 2, \"108\": 2, \"2\": 1, \"98\": 1}, \"33\": {\"33\": 112, \"116\": 2, \"0\": 1, \"90\": 2, \"16\": 1}, \"35\": {\"117\": 4, \"35\": 7, \"3\": 1}, \"125\": {\"125\": 125, \"90\": 1, \"127\": 2, \"26\": 1, \"81\": 1, \"84\": 1, \"10\": 1}, \"47\": {\"125\": 2, \"47\": 10}, \"79\": {\"79\": 16}, \"53\": {\"53\": 13, \"51\": 1, \"129\": 2}, \"67\": {\"113\": 4, \"67\": 5, \"13\": 1, \"35\": 1, \"123\": 1, \"122\": 1, \"5\": 1, \"116\": 1, \"118\": 1}, \"80\": {\"80\": 16}, \"105\": {\"105\": 82, \"70\": 2, \"78\": 1, \"10\": 1, \"7\": 4, \"1\": 2, \"87\": 2, \"40\": 4, \"108\": 1, \"106\": 1}, \"76\": {\"105\": 2, \"76\": 13, \"104\": 1}, \"46\": {\"46\": 19, \"83\": 1}, \"34\": {\"46\": 2, \"71\": 3, \"34\": 8, \"127\": 3, \"60\": 2, \"106\": 2, \"11\": 1, \"1\": 2, \"3\": 1, \"75\": 2, \"32\": 1, \"19\": 1, \"12\": 1, \"111\": 2, \"114\": 1}, \"32\": {\"32\": 14, \"64\": 1, \"3\": 2, \"79\": 2, \"14\": 1, \"29\": 1, \"33\": 2, \"31\": 1, \"119\": 1, \"43\": 3}, \"13\": {\"90\": 3, \"13\": 10, \"102\": 3}, \"78\": {\"3\": 3, \"78\": 12, \"85\": 1, \"89\": 1, \"43\": 3, \"1\": 3, \"11\": 1, \"114\": 1, \"98\": 1, \"91\": 1, \"115\": 1, \"10\": 1, \"109\": 1, \"126\": 1, \"72\": 1, \"81\": 1, \"14\": 1, \"87\": 2}, \"41\": {\"41\": 15, \"55\": 1}, \"69\": {\"13\": 2, \"69\": 111, \"84\": 3, \"88\": 2, \"90\": 1, \"118\": 1, \"113\": 1, \"109\": 1, \"31\": 2, \"78\": 1, \"27\": 1, \"16\": 2}, \"88\": {\"100\": 1, \"88\": 55, \"83\": 1, \"112\": 1, \"48\": 1, \"71\": 1, \"98\": 2, \"85\": 1, \"96\": 1, \"27\": 2, \"26\": 1, \"1\": 3, \"70\": 19, \"101\": 3, \"0\": 7, \"108\": 4, \"5\": 1, \"110\": 5, \"124\": 7, \"109\": 1, \"10\": 2, \"19\": 4, \"74\": 2, \"126\": 1, \"11\": 1, \"94\": 1, \"122\": 1, \"105\": 1, \"114\": 1, \"113\": 1}, \"15\": {\"15\": 113, \"10\": 4, \"122\": 1, \"126\": 1, \"111\": 1, \"30\": 3, \"21\": 1, \"12\": 1, \"27\": 1, \"106\": 1, \"24\": 1}, \"61\": {\"63\": 4, \"61\": 8, \"26\": 2, \"18\": 2}, \"0\": {\"0\": 59, \"29\": 1, \"27\": 2, \"101\": 14, \"8\": 14, \"95\": 2, \"124\": 2, \"127\": 2, \"70\": 3, \"98\": 2, \"109\": 1, \"126\": 1, \"97\": 1, \"114\": 1, \"111\": 6, \"108\": 2, \"117\": 1, \"113\": 1, \"4\": 1}, \"104\": {\"104\": 13, \"73\": 1, \"50\": 2}, \"48\": {\"48\": 5, \"69\": 2, \"121\": 2, \"102\": 2, \"31\": 2, \"68\": 1, \"92\": 2}, \"25\": {\"25\": 16}, \"75\": {\"75\": 16}, \"81\": {\"117\": 4, \"81\": 28, \"44\": 1, \"27\": 1, \"126\": 2}, \"50\": {\"50\": 16}, \"52\": {\"52\": 17, \"98\": 1, \"12\": 1, \"127\": 1}, \"16\": {\"16\": 107, \"84\": 3, \"108\": 1, \"102\": 1, \"88\": 1, \"69\": 2, \"26\": 2, \"113\": 2, \"114\": 1}, \"44\": {\"44\": 53, \"96\": 1, \"102\": 7, \"90\": 1, \"84\": 1, \"43\": 1}, \"29\": {\"29\": 29, \"21\": 1, \"128\": 1, \"1\": 1}, \"93\": {\"93\": 123, \"84\": 1}, \"18\": {\"18\": 94, \"117\": 7, \"26\": 9, \"69\": 2, \"81\": 2}, \"49\": {\"49\": 2, \"43\": 2, \"73\": 1, \"32\": 3, \"122\": 2, \"101\": 5, \"14\": 4, \"106\": 1, \"8\": 1, \"5\": 1, \"24\": 1, \"9\": 2, \"99\": 2, \"45\": 2, \"3\": 2, \"88\": 1}, \"55\": {\"55\": 14, \"86\": 2}, \"59\": {\"59\": 9, \"58\": 2, \"21\": 1}, \"128\": {\"98\": 3, \"114\": 1, \"40\": 1, \"19\": 1, \"128\": 5, \"18\": 1, \"99\": 2, \"124\": 1, \"34\": 1, \"71\": 1, \"76\": 1, \"28\": 1, \"82\": 1, \"89\": 1, \"14\": 1, \"0\": 1, \"7\": 1}, \"24\": {\"25\": 3, \"24\": 58, \"27\": 3, \"30\": 4, \"113\": 1, \"15\": 11, \"10\": 15, \"111\": 1, \"26\": 1, \"70\": 3, \"36\": 9, \"8\": 5, \"7\": 1, \"108\": 1, \"94\": 1, \"91\": 2, \"18\": 1}, \"65\": {\"65\": 12}, \"92\": {\"92\": 28}}, \"Wisig_1\": {\"108\": {\"108\": 100, \"101\": 13, \"126\": 2, \"70\": 3, \"109\": 2, \"72\": 1, \"24\": 3}, \"40\": {\"40\": 127, \"4\": 4, \"7\": 1, \"105\": 3, \"43\": 1}, \"68\": {\"68\": 13, \"64\": 1, \"127\": 2}, \"23\": {\"3\": 3, \"89\": 5, \"110\": 3, \"82\": 2, \"98\": 2, \"9\": 1, \"32\": 1, \"99\": 2, \"23\": 1, \"81\": 2, \"93\": 2}, \"26\": {\"26\": 111, \"118\": 4, \"24\": 1, \"117\": 3, \"94\": 1}, \"64\": {\"64\": 16}, \"22\": {\"22\": 12, \"114\": 2, \"69\": 1, \"94\": 1}, \"3\": {\"3\": 68, \"2\": 2, \"94\": 2, \"50\": 2, \"102\": 2, \"90\": 3, \"82\": 2, \"15\": 1, \"33\": 3, \"18\": 1, \"7\": 1, \"27\": 1}, \"4\": {\"4\": 97, \"93\": 2, \"121\": 1}, \"70\": {\"70\": 68, \"108\": 5, \"86\": 1, \"8\": 6, \"39\": 2, \"36\": 1, \"10\": 3, \"93\": 2, \"124\": 7, \"44\": 6, \"126\": 4, \"110\": 3, \"5\": 1, \"109\": 4, \"118\": 1, \"21\": 2, \"107\": 1, \"94\": 1, \"71\": 1, \"43\": 1}, \"57\": {\"57\": 10, \"103\": 1, \"38\": 1}, \"79\": {\"79\": 12}, \"9\": {\"9\": 30, \"73\": 1, \"104\": 1}, \"89\": {\"89\": 34, \"31\": 2}, \"110\": {\"110\": 116, \"56\": 2, \"98\": 6, \"0\": 3, \"106\": 1}, \"102\": {\"102\": 112, \"119\": 3, \"50\": 1, \"14\": 1, \"90\": 2, \"106\": 1}, \"31\": {\"31\": 16}, \"58\": {\"58\": 12}, \"47\": {\"47\": 12}, \"24\": {\"47\": 2, \"24\": 70, \"27\": 2, \"26\": 1, \"12\": 1, \"113\": 1, \"36\": 5, \"101\": 1, \"88\": 1, \"108\": 4, \"94\": 2, \"111\": 2}, \"19\": {\"19\": 19, \"96\": 2, \"20\": 1, \"126\": 1, \"124\": 3, \"73\": 1, \"14\": 1}, \"11\": {\"11\": 109, \"82\": 1, \"2\": 2, \"7\": 4, \"39\": 1, \"100\": 1, \"10\": 1, \"18\": 3, \"90\": 4, \"123\": 1, \"99\": 2, \"118\": 1, \"102\": 2}, \"52\": {\"52\": 20}, \"17\": {\"17\": 6, \"0\": 3, \"43\": 1, \"91\": 2, \"55\": 2, \"34\": 2}, \"25\": {\"25\": 15, \"22\": 1}, \"69\": {\"69\": 103, \"16\": 1, \"18\": 1, \"14\": 1, \"102\": 2}, \"96\": {\"109\": 2, \"96\": 13, \"51\": 1, \"26\": 1, \"104\": 1, \"39\": 1, \"44\": 1}, \"109\": {\"109\": 104, \"3\": 1, \"11\": 1, \"14\": 1, \"126\": 5, \"1\": 1, \"16\": 1}, \"115\": {\"115\": 11, \"25\": 1}, \"83\": {\"83\": 24, \"109\": 1, \"4\": 2, \"5\": 1}, \"84\": {\"84\": 112, \"87\": 2, \"14\": 2, \"1\": 6, \"114\": 3, \"88\": 1, \"39\": 1, \"44\": 1}, \"119\": {\"119\": 15, \"102\": 1}, \"122\": {\"7\": 4, \"122\": 51, \"11\": 3, \"14\": 2, \"114\": 2, \"43\": 6, \"95\": 1, \"78\": 1, \"42\": 3, \"87\": 2, \"39\": 2, \"25\": 3, \"60\": 1, \"28\": 4, \"117\": 1, \"1\": 1, \"21\": 1}, \"99\": {\"99\": 18, \"81\": 2, \"65\": 1, \"7\": 1, \"100\": 2}, \"1\": {\"1\": 130, \"118\": 1, \"14\": 1, \"39\": 1, \"22\": 2, \"117\": 1}, \"74\": {\"74\": 16}, \"85\": {\"85\": 32}, \"127\": {\"127\": 81, \"39\": 1, \"112\": 1, \"111\": 7, \"98\": 3, \"71\": 7, \"106\": 5, \"27\": 1, \"16\": 1, \"12\": 1}, \"111\": {\"111\": 109, \"12\": 4, \"106\": 2, \"71\": 2, \"127\": 2, \"24\": 1}, \"53\": {\"53\": 18, \"91\": 1, \"106\": 1}, \"88\": {\"88\": 74, \"94\": 5, \"97\": 2, \"71\": 4, \"12\": 1, \"15\": 5, \"27\": 5, \"36\": 9, \"24\": 7, \"109\": 1, \"126\": 4, \"14\": 1, \"108\": 7, \"101\": 4, \"19\": 1, \"6\": 1, \"52\": 1}, \"65\": {\"7\": 1, \"119\": 1, \"65\": 3, \"16\": 2, \"99\": 1, \"28\": 1, \"13\": 1, \"11\": 1, \"33\": 1}, \"7\": {\"7\": 133, \"43\": 1}, \"16\": {\"16\": 91, \"63\": 1, \"61\": 2, \"118\": 1, \"117\": 13}, \"128\": {\"17\": 2, \"7\": 2, \"125\": 1, \"115\": 1, \"101\": 1, \"78\": 2, \"11\": 2, \"128\": 2, \"108\": 3, \"23\": 1, \"97\": 1, \"44\": 1, \"124\": 1, \"15\": 1, \"43\": 1, \"98\": 2}, \"34\": {\"43\": 1, \"129\": 1, \"56\": 3, \"34\": 8, \"124\": 1, \"114\": 1, \"128\": 1, \"125\": 1, \"42\": 2, \"84\": 1, \"110\": 3, \"25\": 1, \"120\": 1, \"83\": 1, \"77\": 2, \"1\": 1, \"10\": 1, \"87\": 1, \"6\": 1}, \"129\": {\"129\": 9, \"104\": 1, \"44\": 1, \"19\": 3, \"42\": 1, \"3\": 3, \"1\": 3, \"2\": 3, \"73\": 1, \"84\": 3}, \"43\": {\"28\": 1, \"114\": 4, \"43\": 81, \"65\": 1, \"13\": 1, \"63\": 1, \"7\": 18, \"122\": 5, \"78\": 1, \"87\": 7, \"14\": 1, \"102\": 1, \"26\": 1, \"93\": 1, \"11\": 1, \"40\": 1, \"84\": 1, \"117\": 1}, \"92\": {\"92\": 27, \"37\": 1}, \"28\": {\"28\": 18, \"68\": 1, \"71\": 1}, \"27\": {\"27\": 67, \"88\": 9, \"15\": 3, \"36\": 2, \"30\": 4, \"94\": 3, \"24\": 1, \"97\": 1, \"126\": 1, \"108\": 1}, \"114\": {\"114\": 116, \"69\": 1, \"87\": 4, \"84\": 3}, \"73\": {\"73\": 20}, \"0\": {\"0\": 69, \"89\": 1, \"86\": 2, \"34\": 1, \"110\": 7, \"98\": 3, \"17\": 1}, \"104\": {\"129\": 2, \"104\": 12, \"126\": 2}, \"118\": {\"118\": 68, \"109\": 1, \"113\": 2, \"95\": 2, \"26\": 9, \"117\": 1, \"69\": 1}, \"41\": {\"41\": 16}, \"91\": {\"53\": 1, \"91\": 17, \"127\": 2, \"107\": 1, \"98\": 1, \"111\": 1, \"0\": 2, \"54\": 1, \"71\": 1, \"89\": 1}, \"124\": {\"124\": 121, \"84\": 1}, \"81\": {\"81\": 27, \"45\": 1}, \"63\": {\"63\": 16}, \"76\": {\"76\": 16}, \"10\": {\"10\": 52, \"51\": 1, \"70\": 7, \"0\": 2, \"93\": 17, \"8\": 8, \"44\": 3, \"105\": 3, \"4\": 4, \"107\": 5, \"110\": 4, \"55\": 3, \"126\": 1, \"49\": 1, \"86\": 1, \"35\": 2, \"83\": 1, \"124\": 1, \"14\": 1, \"5\": 1, \"16\": 1, \"87\": 1}, \"51\": {\"51\": 13, \"6\": 2, \"26\": 1}, \"82\": {\"82\": 36}, \"56\": {\"56\": 9, \"111\": 1, \"17\": 2}, \"30\": {\"30\": 23, \"27\": 8, \"15\": 1, \"24\": 3, \"94\": 3, \"36\": 6, \"97\": 3, \"52\": 2, \"88\": 1, \"71\": 1, \"70\": 1}, \"21\": {\"21\": 17, \"43\": 1, \"32\": 1, \"109\": 2, \"19\": 1, \"70\": 2, \"126\": 2, \"1\": 3, \"39\": 1, \"44\": 1, \"9\": 1, \"104\": 2, \"82\": 1, \"18\": 1, \"111\": 1, \"78\": 1, \"15\": 2}, \"46\": {\"79\": 2, \"105\": 2, \"114\": 2, \"46\": 1, \"6\": 1, \"57\": 2, \"94\": 1, \"83\": 1}, \"33\": {\"33\": 133, \"61\": 2, \"90\": 2, \"62\": 1}, \"101\": {\"101\": 118, \"126\": 2, \"12\": 1, \"62\": 1, \"88\": 1, \"102\": 1}, \"105\": {\"105\": 65, \"36\": 1, \"40\": 10, \"87\": 2, \"4\": 3, \"114\": 3}, \"50\": {\"50\": 13, \"11\": 2, \"96\": 1}, \"116\": {\"120\": 1, \"116\": 24, \"95\": 1, \"102\": 2, \"99\": 1, \"90\": 3}, \"77\": {\"77\": 12, \"31\": 2, \"0\": 2}, \"75\": {\"75\": 9, \"112\": 1, \"127\": 4, \"91\": 1, \"111\": 1}, \"95\": {\"95\": 33, \"26\": 1, \"63\": 1, \"16\": 1}, \"120\": {\"120\": 20}, \"18\": {\"18\": 108}, \"14\": {\"14\": 88, \"64\": 1, \"44\": 2, \"1\": 5}, \"44\": {\"44\": 76}, \"98\": {\"98\": 91, \"91\": 1, \"110\": 2, \"107\": 2}, \"121\": {\"121\": 27, \"26\": 3, \"113\": 1, \"123\": 1}, \"113\": {\"113\": 108}, \"103\": {\"103\": 15, \"53\": 1}, \"62\": {\"62\": 102, \"69\": 2, \"39\": 3, \"102\": 3, \"16\": 1, \"33\": 4, \"26\": 1, \"50\": 1, \"107\": 1, \"18\": 2}, \"32\": {\"49\": 1, \"111\": 4, \"32\": 11, \"0\": 1, \"112\": 2, \"98\": 2, \"71\": 1, \"127\": 2, \"6\": 1, \"110\": 1, \"23\": 2, \"53\": 2, \"91\": 2}, \"71\": {\"71\": 79, \"111\": 4, \"32\": 1, \"12\": 5, \"127\": 7, \"16\": 1, \"26\": 1, \"110\": 1, \"125\": 1, \"118\": 1, \"6\": 2, \"94\": 3, \"89\": 1, \"15\": 1}, \"94\": {\"94\": 70, \"30\": 3, \"106\": 1, \"88\": 7, \"36\": 2, \"16\": 1, \"77\": 1, \"27\": 3, \"126\": 1, \"10\": 1, \"70\": 1, \"113\": 1}, \"49\": {\"49\": 9, \"12\": 1, \"5\": 1, \"29\": 1, \"8\": 1, \"34\": 1, \"128\": 1, \"86\": 1, \"32\": 1, \"6\": 2, \"9\": 1}, \"12\": {\"12\": 94, \"71\": 2, \"127\": 1, \"111\": 4, \"109\": 1, \"21\": 1, \"108\": 1}, \"90\": {\"90\": 120, \"33\": 4}, \"93\": {\"93\": 72, \"85\": 1, \"105\": 5, \"35\": 3, \"4\": 5, \"107\": 9, \"8\": 9, \"87\": 2, \"5\": 2, \"124\": 2, \"71\": 1, \"10\": 3, \"84\": 2, \"49\": 1, \"89\": 1, \"7\": 1, \"110\": 1, \"18\": 1, \"40\": 3}, \"13\": {\"13\": 16}, \"67\": {\"94\": 1, \"67\": 12, \"69\": 2, \"62\": 1}, \"20\": {\"20\": 14, \"121\": 1, \"65\": 1}, \"2\": {\"3\": 1, \"2\": 16, \"66\": 1, \"115\": 1, \"82\": 1, \"123\": 1, \"7\": 1, \"39\": 2, \"74\": 1, \"100\": 2, \"99\": 2, \"63\": 1, \"80\": 1, \"11\": 1}, \"5\": {\"86\": 1, \"5\": 82, \"107\": 2, \"36\": 1, \"21\": 1, \"31\": 1}, \"54\": {\"54\": 10, \"89\": 1, \"55\": 1, \"31\": 2, \"46\": 1, \"29\": 1}, \"37\": {\"37\": 16}, \"38\": {\"38\": 16}, \"86\": {\"86\": 25, \"107\": 2, \"4\": 2, \"83\": 2, \"105\": 1, \"114\": 1, \"1\": 1, \"2\": 1, \"27\": 1}, \"55\": {\"55\": 10, \"54\": 1, \"86\": 1}, \"97\": {\"97\": 15, \"24\": 1, \"19\": 1, \"101\": 1, \"42\": 1, \"71\": 1}, \"29\": {\"29\": 27, \"23\": 1}, \"48\": {\"16\": 1, \"48\": 9, \"114\": 2}, \"60\": {\"60\": 2, \"84\": 1, \"13\": 1, \"18\": 2, \"83\": 1, \"119\": 1, \"117\": 2, \"116\": 1, \"104\": 1, \"1\": 2, \"118\": 1, \"19\": 1}, \"36\": {\"36\": 116, \"16\": 1, \"88\": 2, \"113\": 1, \"101\": 2}, \"42\": {\"55\": 1, \"2\": 1, \"1\": 1, \"105\": 1, \"93\": 3, \"5\": 3, \"81\": 2, \"42\": 5, \"109\": 2, \"86\": 1, \"124\": 2, \"107\": 2, \"116\": 1, \"18\": 1, \"11\": 1, \"82\": 1}, \"66\": {\"66\": 16}, \"126\": {\"126\": 105, \"19\": 3, \"14\": 3, \"44\": 6, \"5\": 1, \"70\": 4, \"96\": 2, \"73\": 1, \"9\": 1, \"84\": 2}, \"39\": {\"13\": 1, \"39\": 79, \"118\": 2, \"117\": 4, \"69\": 3, \"122\": 2, \"18\": 7, \"26\": 3, \"16\": 2, \"11\": 1}, \"107\": {\"107\": 114, \"4\": 2, \"5\": 3, \"98\": 2, \"117\": 1, \"79\": 1, \"8\": 1}, \"59\": {\"71\": 4, \"59\": 6, \"95\": 1, \"69\": 1}, \"117\": {\"117\": 128, \"16\": 10}, \"6\": {\"127\": 1, \"88\": 3, \"27\": 1, \"6\": 6, \"111\": 3, \"98\": 1, \"36\": 1, \"110\": 3, \"30\": 3, \"101\": 4, \"112\": 1, \"59\": 2, \"125\": 1, \"97\": 1, \"94\": 1}, \"123\": {\"123\": 15, \"117\": 1}, \"8\": {\"23\": 2, \"8\": 99, \"31\": 1, \"93\": 5, \"39\": 1, \"124\": 5, \"4\": 2, \"114\": 4, \"104\": 2, \"83\": 1, \"5\": 1, \"107\": 1}, \"112\": {\"112\": 10, \"75\": 1, \"127\": 2, \"24\": 1, \"56\": 2}, \"80\": {\"80\": 13, \"99\": 1, \"122\": 1, \"82\": 1}, \"125\": {\"125\": 136}, \"61\": {\"90\": 2, \"61\": 10}, \"45\": {\"45\": 5, \"64\": 3, \"129\": 2, \"25\": 2}, \"72\": {\"72\": 28, \"112\": 2, \"128\": 2}, \"87\": {\"43\": 6, \"87\": 77, \"84\": 5, \"122\": 5, \"114\": 3, \"105\": 5, \"40\": 4, \"16\": 1, \"1\": 1, \"93\": 1}, \"106\": {\"106\": 110, \"12\": 2, \"127\": 5, \"91\": 1, \"32\": 2, \"111\": 3, \"113\": 1}, \"35\": {\"35\": 7, \"106\": 1, \"8\": 1, \"83\": 1, \"6\": 2}, \"78\": {\"14\": 1, \"82\": 1, \"3\": 2, \"122\": 2, \"11\": 1, \"114\": 1, \"78\": 3, \"43\": 1, \"81\": 1, \"34\": 1, \"62\": 1, \"108\": 1}, \"15\": {\"15\": 85, \"127\": 2, \"32\": 1, \"27\": 2, \"71\": 3, \"6\": 2, \"39\": 1, \"111\": 2, \"18\": 1, \"30\": 1, \"21\": 1, \"36\": 1, \"12\": 1, \"101\": 1}, \"100\": {\"100\": 15, \"82\": 1}}, \"Wisig_2\": {\"91\": {\"91\": 20, \"107\": 2, \"54\": 1, \"68\": 1, \"98\": 1, \"14\": 1, \"12\": 2}, \"12\": {\"91\": 2, \"12\": 62, \"114\": 2, \"117\": 1, \"59\": 2, \"98\": 2, \"16\": 1, \"111\": 2, \"106\": 1, \"127\": 2, \"24\": 1, \"97\": 2, \"128\": 2, \"8\": 1, \"54\": 1, \"10\": 1, \"122\": 1, \"124\": 2}, \"101\": {\"101\": 144, \"24\": 1, \"15\": 1, \"87\": 1, \"106\": 1}, \"121\": {\"117\": 3, \"121\": 25, \"120\": 1, \"65\": 2, \"109\": 1, \"18\": 2, \"57\": 2}, \"118\": {\"118\": 37, \"33\": 3, \"62\": 4, \"116\": 1, \"67\": 1, \"14\": 1, \"16\": 2, \"70\": 1, \"44\": 1, \"84\": 5, \"87\": 4, \"48\": 2, \"38\": 1, \"102\": 1, \"80\": 1, \"90\": 3}, \"10\": {\"110\": 4, \"12\": 1, \"28\": 3, \"70\": 1, \"10\": 23, \"121\": 1, \"3\": 3, \"126\": 1, \"95\": 3, \"7\": 7, \"117\": 1, \"63\": 1, \"86\": 1, \"85\": 1, \"24\": 1, \"18\": 1, \"4\": 1, \"23\": 1, \"44\": 1, \"5\": 2, \"124\": 1, \"1\": 1}, \"117\": {\"117\": 107, \"18\": 4, \"113\": 4, \"109\": 2, \"31\": 1, \"69\": 2}, \"110\": {\"110\": 24, \"53\": 3, \"73\": 2, \"120\": 1, \"5\": 2, \"109\": 1, \"14\": 1, \"90\": 1, \"42\": 1, \"95\": 1, \"129\": 1, \"3\": 1, \"122\": 1}, \"97\": {\"97\": 17, \"106\": 2, \"129\": 1}, \"28\": {\"28\": 19, \"107\": 1}, \"88\": {\"126\": 6, \"88\": 66, \"1\": 2, \"16\": 8, \"39\": 2, \"44\": 2, \"14\": 1, \"78\": 3, \"43\": 2, \"93\": 13, \"70\": 3, \"118\": 2, \"24\": 1, \"109\": 6, \"100\": 1, \"83\": 3, \"60\": 2, \"11\": 1}, \"17\": {\"17\": 10, \"114\": 2, \"107\": 2, \"4\": 2}, \"126\": {\"126\": 110, \"102\": 1, \"88\": 2, \"57\": 1}, \"33\": {\"33\": 110, \"84\": 8, \"23\": 1, \"90\": 4, \"18\": 1, \"38\": 1, \"62\": 1, \"118\": 1, \"117\": 1}, \"86\": {\"86\": 31, \"4\": 1}, \"106\": {\"106\": 109, \"2\": 1, \"12\": 1, \"111\": 3, \"87\": 1, \"121\": 1, \"21\": 1, \"70\": 1, \"30\": 1, \"126\": 1}, \"54\": {\"54\": 19, \"68\": 1}, \"125\": {\"103\": 2, \"125\": 127, \"58\": 2, \"18\": 1}, \"83\": {\"83\": 37, \"16\": 2, \"126\": 1}, \"98\": {\"98\": 103, \"84\": 1, \"113\": 1, \"114\": 1, \"122\": 3, \"108\": 3, \"87\": 1, \"3\": 1, \"90\": 1, \"86\": 2, \"26\": 1, \"124\": 2}, \"11\": {\"97\": 1, \"11\": 57, \"3\": 3, \"20\": 1, \"85\": 2, \"122\": 1, \"98\": 4, \"124\": 4, \"10\": 1, \"69\": 1, \"8\": 1, \"43\": 1, \"32\": 1, \"5\": 1, \"109\": 1}, \"32\": {\"11\": 1, \"61\": 1, \"3\": 4, \"32\": 10, \"129\": 1, \"115\": 1, \"107\": 3, \"123\": 2, \"5\": 2, \"86\": 2, \"85\": 2, \"122\": 4, \"112\": 1, \"7\": 1, \"105\": 1}, \"42\": {\"32\": 1, \"11\": 1, \"58\": 1, \"42\": 12, \"46\": 2, \"14\": 2, \"12\": 1, \"127\": 1, \"51\": 1, \"123\": 2, \"6\": 1, \"75\": 1, \"44\": 2}, \"103\": {\"103\": 12, \"77\": 2, \"59\": 2}, \"87\": {\"118\": 6, \"87\": 42, \"116\": 5, \"82\": 4, \"90\": 13, \"92\": 1, \"69\": 1, \"16\": 9, \"62\": 5, \"39\": 1, \"126\": 1, \"93\": 1, \"88\": 1, \"24\": 2, \"113\": 1, \"33\": 1, \"80\": 2, \"72\": 1, \"84\": 7, \"117\": 1, \"94\": 2, \"78\": 1, \"83\": 2, \"27\": 1, \"102\": 1}, \"61\": {\"61\": 14, \"32\": 1, \"27\": 1, \"39\": 1, \"21\": 1, \"105\": 2}, \"13\": {\"13\": 7, \"55\": 1, \"14\": 1, \"116\": 3, \"57\": 1, \"89\": 1, \"87\": 1, \"27\": 1}, \"4\": {\"4\": 78, \"39\": 1, \"69\": 1, \"5\": 2, \"71\": 1, \"88\": 1, \"7\": 2}, \"15\": {\"15\": 100, \"109\": 1, \"94\": 3, \"12\": 2, \"106\": 6, \"0\": 2, \"101\": 3, \"51\": 2, \"30\": 1}, \"120\": {\"120\": 18, \"18\": 2}, \"80\": {\"80\": 16}, \"72\": {\"72\": 22, \"81\": 1, \"48\": 2, \"13\": 1, \"89\": 2}, \"64\": {\"64\": 12, \"7\": 1, \"3\": 1, \"40\": 2}, \"81\": {\"81\": 18, \"120\": 1, \"88\": 1, \"99\": 2, \"2\": 1, \"43\": 1}, \"102\": {\"102\": 109, \"31\": 2, \"13\": 1}, \"76\": {\"76\": 16}, \"49\": {\"52\": 5, \"3\": 1, \"114\": 1, \"28\": 1, \"49\": 4, \"9\": 1, \"86\": 1, \"58\": 2, \"85\": 2, \"111\": 1, \"124\": 1, \"39\": 1, \"32\": 1, \"53\": 1, \"91\": 1}, \"129\": {\"129\": 22, \"123\": 3, \"19\": 1, \"44\": 1, \"11\": 1, \"42\": 1, \"3\": 2, \"112\": 1}, \"89\": {\"89\": 32, \"23\": 2, \"126\": 1, \"41\": 1}, \"52\": {\"52\": 16, \"97\": 2, \"111\": 1, \"101\": 1}, \"35\": {\"98\": 2, \"35\": 9, \"77\": 1}, \"53\": {\"110\": 2, \"53\": 12, \"85\": 2}, \"26\": {\"26\": 110, \"18\": 3, \"69\": 5, \"90\": 2, \"87\": 3, \"8\": 1, \"14\": 1, \"2\": 2, \"10\": 1}, \"96\": {\"96\": 20}, \"27\": {\"27\": 34, \"24\": 1, \"21\": 2, \"0\": 1, \"15\": 3, \"109\": 4, \"101\": 5, \"88\": 1, \"70\": 1, \"84\": 1, \"62\": 1, \"9\": 3, \"113\": 1, \"36\": 7, \"18\": 1, \"117\": 1, \"8\": 1}, \"24\": {\"24\": 56, \"88\": 1, \"106\": 3, \"0\": 16, \"15\": 5, \"27\": 5, \"101\": 8, \"94\": 6, \"69\": 1, \"39\": 2, \"70\": 2, \"8\": 3, \"36\": 1, \"14\": 1, \"64\": 1, \"10\": 1}, \"82\": {\"82\": 30, \"90\": 1, \"15\": 2, \"21\": 1, \"107\": 1, \"118\": 1}, \"18\": {\"18\": 108, \"109\": 1, \"26\": 8, \"39\": 1, \"117\": 4, \"113\": 2, \"14\": 1, \"23\": 2, \"69\": 1}, \"69\": {\"89\": 2, \"69\": 101, \"57\": 2, \"26\": 7, \"84\": 1, \"16\": 1, \"39\": 2, \"102\": 3, \"81\": 1, \"88\": 2}, \"47\": {\"129\": 4, \"47\": 5, \"123\": 1, \"126\": 1, \"19\": 1}, \"85\": {\"85\": 28, \"3\": 2, \"32\": 1, \"73\": 1}, \"2\": {\"99\": 1, \"2\": 23, \"65\": 1, \"81\": 2, \"89\": 1, \"69\": 1, \"18\": 1, \"109\": 2}, \"67\": {\"67\": 13, \"84\": 2, \"72\": 1}, \"39\": {\"39\": 66, \"88\": 3, \"72\": 1, \"90\": 2, \"113\": 1, \"18\": 2, \"102\": 5, \"109\": 9, \"69\": 6, \"93\": 3, \"87\": 3, \"65\": 2, \"16\": 2, \"99\": 1, \"81\": 1, \"20\": 1, \"122\": 1, \"89\": 1, \"26\": 1, \"2\": 1}, \"99\": {\"99\": 28, \"16\": 2, \"39\": 2}, \"74\": {\"74\": 11, \"7\": 2, \"108\": 1, \"75\": 1, \"12\": 1}, \"105\": {\"55\": 1, \"105\": 102, \"40\": 17, \"7\": 4, \"26\": 1, \"109\": 1, \"43\": 2, \"87\": 1, \"95\": 2, \"1\": 1}, \"70\": {\"70\": 39, \"44\": 10, \"38\": 1, \"88\": 11, \"40\": 3, \"43\": 15, \"78\": 2, \"14\": 2, \"83\": 1, \"126\": 6, \"3\": 4, \"16\": 2, \"84\": 3, \"1\": 8, \"45\": 2, \"33\": 2, \"118\": 1, \"87\": 1, \"105\": 1, \"90\": 2, \"93\": 2, \"62\": 1, \"122\": 1, \"102\": 1, \"98\": 1}, \"55\": {\"55\": 16}, \"30\": {\"30\": 69, \"75\": 1, \"106\": 16, \"97\": 1, \"8\": 4, \"42\": 1, \"10\": 1, \"15\": 1, \"126\": 1, \"70\": 1, \"111\": 3, \"108\": 1, \"98\": 2, \"12\": 1, \"6\": 1, \"58\": 2, \"0\": 1, \"125\": 2, \"101\": 2, \"1\": 1}, \"60\": {\"60\": 13, \"55\": 1, \"44\": 3, \"21\": 1, \"84\": 1, \"5\": 1, \"1\": 3, \"3\": 1, \"76\": 1, \"90\": 2, \"80\": 1}, \"92\": {\"92\": 19, \"51\": 1, \"75\": 1, \"69\": 1, \"55\": 2, \"118\": 1, \"48\": 1, \"80\": 2}, \"45\": {\"60\": 2, \"45\": 13, \"88\": 1}, \"127\": {\"127\": 95, \"111\": 4, \"12\": 1, \"106\": 2, \"108\": 1, \"4\": 1, \"89\": 1, \"35\": 1, \"77\": 2, \"54\": 1, \"114\": 1, \"124\": 2}, \"9\": {\"120\": 1, \"9\": 30, \"113\": 1}, \"115\": {\"73\": 2, \"115\": 10}, \"73\": {\"73\": 27, \"19\": 1}, \"108\": {\"108\": 92, \"47\": 1, \"8\": 18, \"49\": 1, \"124\": 6, \"11\": 6, \"0\": 4, \"111\": 3, \"98\": 3, \"127\": 1, \"126\": 1, \"93\": 1, \"70\": 1}, \"114\": {\"114\": 104, \"12\": 1, \"122\": 1, \"117\": 1, \"124\": 2, \"71\": 2, \"118\": 1, \"4\": 3, \"113\": 1}, \"63\": {\"63\": 17, \"116\": 2, \"127\": 1}, \"93\": {\"93\": 112, \"16\": 10, \"90\": 2, \"118\": 2, \"88\": 1, \"109\": 1}, \"7\": {\"7\": 128, \"114\": 1, \"40\": 1, \"71\": 2}, \"31\": {\"31\": 14, \"14\": 1, \"102\": 2, \"81\": 2, \"39\": 1}, \"123\": {\"123\": 16}, \"128\": {\"7\": 1, \"128\": 3, \"111\": 2, \"108\": 3, \"107\": 4, \"94\": 1, \"42\": 1, \"3\": 1, \"56\": 2, \"24\": 1, \"49\": 1, \"73\": 1, \"122\": 1, \"52\": 1, \"8\": 1}, \"0\": {\"0\": 93, \"112\": 1, \"24\": 2, \"101\": 7, \"69\": 2, \"8\": 3, \"108\": 2, \"9\": 2, \"27\": 2, \"87\": 1, \"70\": 1}, \"3\": {\"128\": 2, \"3\": 122, \"18\": 1, \"5\": 10, \"90\": 1}, \"19\": {\"128\": 1, \"47\": 1, \"3\": 2, \"32\": 1, \"19\": 7, \"83\": 2, \"73\": 2, \"110\": 1, \"107\": 1, \"46\": 3, \"85\": 2, \"114\": 1, \"5\": 2, \"42\": 2}, \"57\": {\"57\": 17, \"31\": 2, \"122\": 1}, \"78\": {\"78\": 16, \"61\": 1, \"70\": 4, \"121\": 1, \"126\": 1, \"105\": 2, \"1\": 2, \"62\": 1, \"43\": 4, \"14\": 4, \"74\": 1, \"11\": 1, \"85\": 2, \"88\": 1, \"40\": 1, \"44\": 3, \"5\": 1, \"87\": 1, \"109\": 1}, \"95\": {\"95\": 29, \"7\": 5, \"43\": 1, \"88\": 1}, \"40\": {\"40\": 102, \"1\": 4, \"105\": 19, \"98\": 3, \"7\": 2, \"39\": 1, \"126\": 1, \"43\": 2, \"27\": 1, \"69\": 1, \"70\": 1, \"0\": 1, \"117\": 1, \"26\": 1}, \"14\": {\"14\": 25, \"128\": 1, \"16\": 1, \"57\": 1, \"60\": 3, \"83\": 2, \"5\": 1, \"62\": 1, \"26\": 1, \"18\": 1, \"61\": 2, \"81\": 1, \"88\": 1, \"33\": 2, \"44\": 1, \"1\": 2, \"94\": 1, \"118\": 1}, \"36\": {\"36\": 106, \"21\": 1, \"27\": 6, \"118\": 1, \"109\": 1, \"15\": 2, \"106\": 1, \"117\": 1, \"20\": 1, \"96\": 1, \"107\": 1, \"87\": 1, \"101\": 4, \"88\": 1}, \"56\": {\"56\": 12}, \"111\": {\"111\": 122, \"59\": 1, \"24\": 1, \"127\": 1, \"77\": 1, \"124\": 2}, \"59\": {\"59\": 14, \"15\": 1, \"24\": 1}, \"79\": {\"79\": 15, \"77\": 1}, \"62\": {\"62\": 109, \"84\": 3, \"102\": 1, \"87\": 2, \"33\": 4, \"109\": 1, \"24\": 1, \"90\": 1}, \"21\": {\"21\": 42, \"39\": 4, \"0\": 2}, \"48\": {\"48\": 19, \"116\": 1}, \"16\": {\"16\": 104, \"57\": 1, \"93\": 9, \"88\": 1, \"83\": 2, \"109\": 1, \"90\": 2, \"102\": 2, \"39\": 1, \"1\": 1}, \"50\": {\"50\": 15, \"118\": 1}, \"44\": {\"44\": 94, \"117\": 1, \"124\": 1}, \"5\": {\"5\": 97, \"71\": 2, \"122\": 2, \"124\": 2, \"93\": 1, \"85\": 1, \"3\": 4, \"117\": 1}, \"20\": {\"20\": 13, \"23\": 2, \"24\": 1}, \"1\": {\"50\": 2, \"1\": 108, \"57\": 1, \"105\": 2, \"43\": 4, \"84\": 2, \"70\": 1}, \"65\": {\"65\": 18, \"27\": 1, \"71\": 1}, \"116\": {\"116\": 23, \"80\": 1, \"48\": 2, \"82\": 1, \"84\": 1}, \"51\": {\"51\": 16, \"125\": 2, \"127\": 1, \"0\": 1}, \"75\": {\"75\": 12, \"11\": 1, \"93\": 1, \"111\": 2}, \"100\": {\"100\": 16}, \"113\": {\"113\": 55, \"117\": 14, \"99\": 2, \"2\": 1}, \"41\": {\"41\": 20}, \"29\": {\"29\": 31, \"128\": 1}, \"23\": {\"29\": 2, \"23\": 6, \"114\": 3, \"12\": 1, \"81\": 1, \"121\": 2, \"34\": 3, \"32\": 1, \"124\": 3, \"102\": 1, \"122\": 4, \"26\": 2, \"10\": 1, \"113\": 1, \"18\": 3, \"2\": 2, \"39\": 2, \"110\": 2, \"127\": 2, \"120\": 1, \"98\": 1}, \"124\": {\"124\": 115, \"34\": 3, \"11\": 1, \"122\": 1, \"5\": 1, \"98\": 1, \"21\": 1, \"117\": 1}, \"68\": {\"68\": 11, \"114\": 2, \"52\": 1, \"56\": 2}, \"71\": {\"71\": 85, \"128\": 1, \"88\": 1, \"122\": 1, \"107\": 2, \"94\": 1, \"34\": 1, \"66\": 1, \"4\": 3, \"98\": 2, \"5\": 2}, \"107\": {\"107\": 41, \"128\": 3, \"117\": 1, \"53\": 1, \"39\": 1, \"66\": 1, \"109\": 1, \"29\": 2, \"1\": 1, \"114\": 1, \"26\": 2, \"5\": 5, \"99\": 1, \"28\": 1, \"14\": 1, \"105\": 1}, \"94\": {\"94\": 36, \"128\": 2, \"109\": 1, \"9\": 2, \"101\": 8, \"106\": 2, \"83\": 1, \"15\": 2, \"0\": 2, \"12\": 1, \"118\": 1, \"79\": 1, \"18\": 1, \"24\": 3, \"110\": 1}, \"77\": {\"77\": 12, \"49\": 1, \"66\": 1, \"39\": 1, \"127\": 1}, \"8\": {\"8\": 99, \"49\": 2, \"108\": 18, \"75\": 1, \"101\": 1, \"70\": 1}, \"46\": {\"46\": 16}, \"25\": {\"25\": 14, \"83\": 1, \"38\": 1}, \"122\": {\"122\": 72, \"129\": 1, \"110\": 2, \"3\": 5, \"88\": 1, \"71\": 8, \"124\": 14, \"23\": 2, \"5\": 5, \"11\": 4, \"70\": 1, \"12\": 3, \"126\": 1, \"39\": 1, \"43\": 1, \"98\": 6, \"53\": 1, \"114\": 3, \"47\": 1, \"86\": 1, \"113\": 1, \"128\": 1, \"34\": 1, \"109\": 1, \"4\": 1, \"108\": 2}, \"58\": {\"97\": 1, \"9\": 3, \"58\": 13, \"39\": 1, \"110\": 1, \"24\": 1}, \"6\": {\"51\": 5, \"6\": 12, \"101\": 5, \"9\": 3, \"111\": 2, \"25\": 2, \"17\": 2, \"125\": 1}, \"109\": {\"20\": 1, \"109\": 52, \"100\": 1, \"87\": 6, \"88\": 11, \"26\": 1, \"102\": 1, \"39\": 4, \"16\": 7, \"70\": 4, \"117\": 1, \"126\": 2, \"93\": 6, \"83\": 2, \"33\": 1}, \"119\": {\"119\": 17, \"82\": 2, \"27\": 1}, \"34\": {\"122\": 2, \"34\": 10, \"29\": 2, \"98\": 2, \"11\": 1, \"4\": 1, \"91\": 2, \"12\": 2, \"110\": 2, \"41\": 1, \"71\": 1, \"129\": 1, \"124\": 2, \"127\": 2, \"114\": 1}, \"90\": {\"90\": 130, \"48\": 2, \"26\": 1, \"118\": 1, \"102\": 3, \"18\": 1, \"33\": 2}, \"38\": {\"38\": 16}, \"104\": {\"29\": 2, \"104\": 15, \"86\": 2, \"8\": 1}, \"84\": {\"84\": 75, \"65\": 1, \"33\": 7, \"62\": 3, \"122\": 1, \"80\": 1, \"1\": 3, \"102\": 1}, \"112\": {\"85\": 1, \"112\": 11, \"34\": 2, \"19\": 1, \"73\": 1}, \"66\": {\"66\": 14, \"107\": 2, \"39\": 1, \"28\": 1, \"71\": 1, \"15\": 1}, \"22\": {\"22\": 20}, \"37\": {\"40\": 2, \"37\": 14}, \"43\": {\"45\": 1, \"62\": 5, \"83\": 1, \"43\": 67, \"88\": 1, \"1\": 12, \"78\": 4, \"32\": 1, \"105\": 11, \"39\": 2, \"70\": 4, \"8\": 1, \"40\": 3, \"122\": 2, \"22\": 1, \"87\": 2, \"44\": 2, \"109\": 1, \"84\": 1, \"126\": 1, \"90\": 1}}}, \"per_domain_accuracy\": {\"ORACLE.run114\": {\"accuracy\": 0.81984375, \"source?\": true}, \"ORACLE.run120\": {\"accuracy\": 0.65859375, \"source?\": true}, \"ORACLE.run138\": {\"accuracy\": 0.8002083333333333, \"source?\": true}, \"ORACLE.run18\": {\"accuracy\": 0.6953645833333333, \"source?\": true}, \"ORACLE.run150\": {\"accuracy\": 0.7853125, \"source?\": true}, \"ORACLE.run132\": {\"accuracy\": 0.7732291666666666, \"source?\": true}, \"ORACLE.run126\": {\"accuracy\": 0.5552604166666667, \"source?\": true}, \"ORACLE.run144\": {\"accuracy\": 0.72171875, \"source?\": true}, \"Wisig_3\": {\"accuracy\": 0.8061951754385965, \"source?\": false}, \"Wisig_4\": {\"accuracy\": 0.7439557613168725, \"source?\": false}, \"Wisig_1\": {\"accuracy\": 0.8191489361702128, \"source?\": false}, \"Wisig_2\": {\"accuracy\": 0.7661502100840336, \"source?\": false}}}, \"history\": {\"epoch_indices\": [1, 2, 3, 4, 5, 6, 7, 8, 9, 10, 11, 12, 13, 14, 15], \"train_label_loss\": [1.0628690755110057, 0.8326013437893597, 0.7428952826442019, 0.6600320532696233, 0.5958642289173302, 0.540886569748677, 0.493377784344789, 0.45377964379532, 0.42059879161356506, 0.3898295173753563, 0.36174112295676464, 0.33612404176555133, 0.31202129031099113, 0.29177426612279045, 0.27296049787574916], \"source_val_label_loss\": [0.9279135465621948, 0.8613050580024719, 0.8027997016906738, 0.7607382535934448, 0.7508572340011597, 0.7451121807098389, 0.7481340169906616, 0.753551721572876, 0.7618874907493591, 0.7869568467140198, 0.8087682127952576, 0.8390280604362488, 0.8566269874572754, 0.8762677311897278, 0.8991920351982117], \"target_val_label_loss\": [7.137226581573486, 7.242609977722168, 8.455181121826172, 8.749509811401367, 9.000324249267578, 9.652602195739746, 10.102812767028809, 10.116101264953613, 10.545050621032715, 10.989176750183105, 11.37828254699707, 12.310582160949707, 12.18251895904541, 12.890592575073242, 13.187438011169434], \"source_val_acc_label\": [0.65236328125, 0.67255859375, 0.7028841145833333, 0.7206315104166666, 0.7279361979166666, 0.72978515625, 0.73134765625, 0.73294921875, 0.7313216145833333, 0.73072265625, 0.72619140625, 0.7308463541666667, 0.7255338541666667, 0.7282096354166666, 0.72486328125], \"target_val_acc_label\": [0.6822695974576272, 0.7035222457627118, 0.7264962923728814, 0.7415254237288136, 0.7582428495762712, 0.7630760063559322, 0.7687367584745762, 0.7721133474576272, 0.7738016419491526, 0.7815148305084746, 0.783302436440678, 0.7737354343220338, 0.7794623940677966, 0.7759533898305084, 0.780521716101695]}, \"dataset_metrics\": {\"source\": {\"train\": {\"n_unique_x\": 896000, \"n_unique_y\": 16, \"n_batch/episode\": 33600}, \"val\": {\"n_unique_x\": 192000, \"n_unique_y\": 16, \"n_batch/episode\": 4800}, \"test\": {\"n_unique_x\": 192000, \"n_unique_y\": 16, \"n_batch/episode\": 4800}}, \"target\": {\"train\": {\"n_unique_x\": 188967, \"n_unique_y\": 130, \"n_batch/episode\": 6837}, \"val\": {\"n_unique_x\": 40068, \"n_unique_y\": 130, \"n_batch/episode\": 944}, \"test\": {\"n_unique_x\": 40816, \"n_unique_y\": 130, \"n_batch/episode\": 969}}}}'"
      ]
     },
     "execution_count": 29,
     "metadata": {},
     "output_type": "execute_result"
    }
   ],
   "source": [
    "json.dumps(experiment)"
   ]
  }
 ],
 "metadata": {
  "celltoolbar": "Tags",
  "kernelspec": {
   "display_name": "Python 3 (ipykernel)",
   "language": "python",
   "name": "python3"
  },
  "language_info": {
   "codemirror_mode": {
    "name": "ipython",
    "version": 3
   },
   "file_extension": ".py",
   "mimetype": "text/x-python",
   "name": "python",
   "nbconvert_exporter": "python",
   "pygments_lexer": "ipython3",
   "version": "3.8.12"
  },
  "papermill": {
   "default_parameters": {},
   "duration": 14518.481009,
   "end_time": "2022-03-23T09:00:32.074281",
   "environment_variables": {},
   "exception": null,
   "input_path": "/root/csc500-main/csc500-notebooks/templates/tl_ptn_template.ipynb",
   "output_path": "trial.ipynb",
   "parameters": {
    "parameters": {
     "BEST_MODEL_PATH": "./best_model.pth",
     "NUM_LOGS_PER_EPOCH": 10,
     "criteria_for_best": "target_accuracy",
     "dataset_seed": 1337,
     "datasets": [
      {
       "domain_prefix": "Wisig_",
       "domains": [
        1,
        2,
        3,
        4
       ],
       "episode_transforms": [],
       "labels": [
        "1-10",
        "1-12",
        "1-14",
        "1-16",
        "1-18",
        "1-19",
        "1-8",
        "10-11",
        "10-17",
        "10-4",
        "10-7",
        "11-1",
        "11-10",
        "11-19",
        "11-20",
        "11-4",
        "11-7",
        "12-19",
        "12-20",
        "12-7",
        "13-14",
        "13-18",
        "13-19",
        "13-20",
        "13-3",
        "13-7",
        "14-10",
        "14-11",
        "14-12",
        "14-13",
        "14-14",
        "14-19",
        "14-20",
        "14-7",
        "14-8",
        "14-9",
        "15-1",
        "15-19",
        "15-6",
        "16-1",
        "16-16",
        "16-19",
        "16-20",
        "17-10",
        "17-11",
        "18-1",
        "18-10",
        "18-11",
        "18-12",
        "18-13",
        "18-14",
        "18-15",
        "18-16",
        "18-17",
        "18-19",
        "18-2",
        "18-20",
        "18-4",
        "18-5",
        "18-7",
        "18-8",
        "18-9",
        "19-1",
        "19-10",
        "19-11",
        "19-12",
        "19-13",
        "19-14",
        "19-15",
        "19-19",
        "19-2",
        "19-20",
        "19-3",
        "19-4",
        "19-6",
        "19-7",
        "19-8",
        "19-9",
        "2-1",
        "2-13",
        "2-15",
        "2-3",
        "2-4",
        "2-5",
        "2-6",
        "2-7",
        "2-8",
        "20-1",
        "20-12",
        "20-14",
        "20-15",
        "20-16",
        "20-18",
        "20-19",
        "20-20",
        "20-3",
        "20-4",
        "20-5",
        "20-7",
        "20-8",
        "3-1",
        "3-13",
        "3-18",
        "3-2",
        "3-8",
        "4-1",
        "4-10",
        "4-11",
        "5-1",
        "5-5",
        "6-1",
        "6-15",
        "6-6",
        "7-10",
        "7-11",
        "7-12",
        "7-13",
        "7-14",
        "7-7",
        "7-8",
        "7-9",
        "8-1",
        "8-13",
        "8-14",
        "8-18",
        "8-20",
        "8-3",
        "8-8",
        "9-1",
        "9-7"
       ],
       "num_examples_per_domain_per_label": -1,
       "pickle_path": "/root/csc500-main/datasets/wisig.node3-19.stratified_ds.2022A.pkl",
       "source_or_target_dataset": "target",
       "x_transforms": [
        "unit_power"
       ]
      },
      {
       "domain_prefix": "ORACLE.run1",
       "domains": [
        32,
        38,
        8,
        44,
        14,
        50,
        20,
        26
       ],
       "episode_transforms": [],
       "labels": [
        "3123D52",
        "3123D65",
        "3123D79",
        "3123D80",
        "3123D54",
        "3123D70",
        "3123D7B",
        "3123D89",
        "3123D58",
        "3123D76",
        "3123D7D",
        "3123EFE",
        "3123D64",
        "3123D78",
        "3123D7E",
        "3124E4A"
       ],
       "num_examples_per_domain_per_label": 10000,
       "pickle_path": "/root/csc500-main/datasets/oracle.Run1_10kExamples_stratified_ds.2022A.pkl",
       "source_or_target_dataset": "source",
       "x_transforms": [
        "unit_power"
       ]
      }
     ],
     "device": "cuda",
     "experiment_name": "tl_1v2:wisig-oracle.run1",
     "lr": 0.0001,
     "n_epoch": 50,
     "n_query": 2,
     "n_shot": 3,
     "n_way": 16,
     "patience": 3,
     "seed": 1337,
     "test_k_factor": 2,
     "torch_default_dtype": "torch.float32",
     "train_k_factor": 3,
     "val_k_factor": 2,
     "x_net": [
      {
       "class": "nnReshape",
       "kargs": {
        "shape": [
         -1,
         1,
         2,
         256
        ]
       }
      },
      {
       "class": "Conv2d",
       "kargs": {
        "bias": false,
        "in_channels": 1,
        "kernel_size": [
         1,
         7
        ],
        "out_channels": 256,
        "padding": [
         0,
         3
        ]
       }
      },
      {
       "class": "ReLU",
       "kargs": {
        "inplace": true
       }
      },
      {
       "class": "BatchNorm2d",
       "kargs": {
        "num_features": 256
       }
      },
      {
       "class": "Conv2d",
       "kargs": {
        "bias": true,
        "in_channels": 256,
        "kernel_size": [
         2,
         7
        ],
        "out_channels": 80,
        "padding": [
         0,
         3
        ]
       }
      },
      {
       "class": "ReLU",
       "kargs": {
        "inplace": true
       }
      },
      {
       "class": "BatchNorm2d",
       "kargs": {
        "num_features": 80
       }
      },
      {
       "class": "Flatten",
       "kargs": {}
      },
      {
       "class": "Linear",
       "kargs": {
        "in_features": 20480,
        "out_features": 256
       }
      },
      {
       "class": "ReLU",
       "kargs": {
        "inplace": true
       }
      },
      {
       "class": "BatchNorm1d",
       "kargs": {
        "num_features": 256
       }
      },
      {
       "class": "Linear",
       "kargs": {
        "in_features": 256,
        "out_features": 256
       }
      }
     ]
    }
   },
   "start_time": "2022-03-23T04:58:33.593272",
   "version": "2.3.4"
  }
 },
 "nbformat": 4,
 "nbformat_minor": 5
}