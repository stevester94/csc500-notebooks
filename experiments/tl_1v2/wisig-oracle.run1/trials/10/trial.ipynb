{
 "cells": [
  {
   "cell_type": "markdown",
   "id": "9fea5f46",
   "metadata": {
    "papermill": {
     "duration": 0.029772,
     "end_time": "2022-03-23T17:18:52.379816",
     "exception": false,
     "start_time": "2022-03-23T17:18:52.350044",
     "status": "completed"
    },
    "tags": []
   },
   "source": [
    "# Transfer Learning Template"
   ]
  },
  {
   "cell_type": "code",
   "execution_count": 1,
   "id": "0902182a",
   "metadata": {
    "execution": {
     "iopub.execute_input": "2022-03-23T17:18:52.445614Z",
     "iopub.status.busy": "2022-03-23T17:18:52.444740Z",
     "iopub.status.idle": "2022-03-23T17:18:54.416445Z",
     "shell.execute_reply": "2022-03-23T17:18:54.416757Z"
    },
    "papermill": {
     "duration": 2.010573,
     "end_time": "2022-03-23T17:18:54.416919",
     "exception": false,
     "start_time": "2022-03-23T17:18:52.406346",
     "status": "completed"
    },
    "tags": []
   },
   "outputs": [],
   "source": [
    "%load_ext autoreload\n",
    "%autoreload 2\n",
    "%matplotlib inline\n",
    "\n",
    "    \n",
    "import os, json, sys, time, random\n",
    "import numpy as np\n",
    "import torch\n",
    "from torch.optim import Adam\n",
    "from  easydict import EasyDict\n",
    "import matplotlib.pyplot as plt\n",
    "\n",
    "from steves_models.steves_ptn import Steves_Prototypical_Network\n",
    "\n",
    "from steves_utils.lazy_iterable_wrapper import Lazy_Iterable_Wrapper\n",
    "from steves_utils.iterable_aggregator import Iterable_Aggregator\n",
    "from steves_utils.ptn_train_eval_test_jig import  PTN_Train_Eval_Test_Jig\n",
    "from steves_utils.torch_sequential_builder import build_sequential\n",
    "from steves_utils.torch_utils import get_dataset_metrics, ptn_confusion_by_domain_over_dataloader\n",
    "from steves_utils.utils_v2 import (per_domain_accuracy_from_confusion, get_datasets_base_path)\n",
    "from steves_utils.PTN.utils import independent_accuracy_assesment\n",
    "\n",
    "from torch.utils.data import DataLoader\n",
    "\n",
    "from steves_utils.stratified_dataset.episodic_accessor import Episodic_Accessor_Factory\n",
    "\n",
    "from steves_utils.ptn_do_report import (\n",
    "    get_loss_curve,\n",
    "    get_results_table,\n",
    "    get_parameters_table,\n",
    "    get_domain_accuracies,\n",
    ")\n",
    "\n",
    "from steves_utils.transforms import get_chained_transform"
   ]
  },
  {
   "cell_type": "markdown",
   "id": "41c840b4",
   "metadata": {
    "papermill": {
     "duration": 0.019695,
     "end_time": "2022-03-23T17:18:54.457273",
     "exception": false,
     "start_time": "2022-03-23T17:18:54.437578",
     "status": "completed"
    },
    "tags": []
   },
   "source": [
    "# Allowed Parameters\n",
    "These are allowed parameters, not defaults\n",
    "Each of these values need to be present in the injected parameters (the notebook will raise an exception if they are not present)\n",
    "\n",
    "Papermill uses the cell tag \"parameters\" to inject the real parameters below this cell.\n",
    "Enable tags to see what I mean"
   ]
  },
  {
   "cell_type": "code",
   "execution_count": 2,
   "id": "fd44eb83",
   "metadata": {
    "execution": {
     "iopub.execute_input": "2022-03-23T17:18:54.499928Z",
     "iopub.status.busy": "2022-03-23T17:18:54.499513Z",
     "iopub.status.idle": "2022-03-23T17:18:54.520899Z",
     "shell.execute_reply": "2022-03-23T17:18:54.520185Z"
    },
    "papermill": {
     "duration": 0.04414,
     "end_time": "2022-03-23T17:18:54.521049",
     "exception": false,
     "start_time": "2022-03-23T17:18:54.476909",
     "status": "completed"
    },
    "tags": []
   },
   "outputs": [],
   "source": [
    "required_parameters = {\n",
    "    \"experiment_name\",\n",
    "    \"lr\",\n",
    "    \"device\",\n",
    "    \"seed\",\n",
    "    \"dataset_seed\",\n",
    "    \"n_shot\",\n",
    "    \"n_query\",\n",
    "    \"n_way\",\n",
    "    \"train_k_factor\",\n",
    "    \"val_k_factor\",\n",
    "    \"test_k_factor\",\n",
    "    \"n_epoch\",\n",
    "    \"patience\",\n",
    "    \"criteria_for_best\",\n",
    "    \"x_net\",\n",
    "    \"datasets\",\n",
    "    \"torch_default_dtype\",\n",
    "    \"NUM_LOGS_PER_EPOCH\",\n",
    "    \"BEST_MODEL_PATH\",\n",
    "    \"x_shape\",\n",
    "}"
   ]
  },
  {
   "cell_type": "code",
   "execution_count": 3,
   "id": "fa3f0049",
   "metadata": {
    "execution": {
     "iopub.execute_input": "2022-03-23T17:18:54.579479Z",
     "iopub.status.busy": "2022-03-23T17:18:54.578846Z",
     "iopub.status.idle": "2022-03-23T17:18:54.609059Z",
     "shell.execute_reply": "2022-03-23T17:18:54.608348Z"
    },
    "papermill": {
     "duration": 0.059536,
     "end_time": "2022-03-23T17:18:54.609209",
     "exception": false,
     "start_time": "2022-03-23T17:18:54.549673",
     "status": "completed"
    },
    "tags": [
     "parameters"
    ]
   },
   "outputs": [],
   "source": [
    "from steves_utils.CORES.utils import (\n",
    "    ALL_NODES,\n",
    "    ALL_NODES_MINIMUM_1000_EXAMPLES,\n",
    "    ALL_DAYS\n",
    ")\n",
    "\n",
    "from steves_utils.ORACLE.utils_v2 import (\n",
    "    ALL_DISTANCES_FEET_NARROWED,\n",
    "    ALL_RUNS,\n",
    "    ALL_SERIAL_NUMBERS,\n",
    ")\n",
    "\n",
    "standalone_parameters = {}\n",
    "standalone_parameters[\"experiment_name\"] = \"STANDALONE PTN\"\n",
    "standalone_parameters[\"lr\"] = 0.001\n",
    "standalone_parameters[\"device\"] = \"cuda\"\n",
    "\n",
    "standalone_parameters[\"seed\"] = 1337\n",
    "standalone_parameters[\"dataset_seed\"] = 1337\n",
    "\n",
    "standalone_parameters[\"n_way\"] = 8\n",
    "standalone_parameters[\"n_shot\"] = 3\n",
    "standalone_parameters[\"n_query\"]  = 2\n",
    "standalone_parameters[\"train_k_factor\"] = 1\n",
    "standalone_parameters[\"val_k_factor\"] = 2\n",
    "standalone_parameters[\"test_k_factor\"] = 2\n",
    "\n",
    "\n",
    "standalone_parameters[\"n_epoch\"] = 50\n",
    "\n",
    "standalone_parameters[\"patience\"] = 10\n",
    "standalone_parameters[\"criteria_for_best\"] = \"source_loss\"\n",
    "\n",
    "standalone_parameters[\"datasets\"] = [\n",
    "    {\n",
    "        \"labels\": ALL_SERIAL_NUMBERS,\n",
    "        \"domains\": ALL_DISTANCES_FEET_NARROWED,\n",
    "        \"num_examples_per_domain_per_label\": 100,\n",
    "        \"pickle_path\": os.path.join(get_datasets_base_path(), \"oracle.Run1_framed_2000Examples_stratified_ds.2022A.pkl\"),\n",
    "        \"source_or_target_dataset\": \"source\",\n",
    "        \"x_transforms\": [\"unit_mag\", \"minus_two\"],\n",
    "        \"episode_transforms\": [],\n",
    "        \"domain_prefix\": \"ORACLE_\"\n",
    "    },\n",
    "    {\n",
    "        \"labels\": ALL_NODES,\n",
    "        \"domains\": ALL_DAYS,\n",
    "        \"num_examples_per_domain_per_label\": 100,\n",
    "        \"pickle_path\": os.path.join(get_datasets_base_path(), \"cores.stratified_ds.2022A.pkl\"),\n",
    "        \"source_or_target_dataset\": \"target\",\n",
    "        \"x_transforms\": [\"unit_power\", \"times_zero\"],\n",
    "        \"episode_transforms\": [],\n",
    "        \"domain_prefix\": \"CORES_\"\n",
    "    }   \n",
    "]\n",
    "\n",
    "standalone_parameters[\"torch_default_dtype\"] = \"torch.float32\" \n",
    "\n",
    "\n",
    "\n",
    "standalone_parameters[\"x_net\"] =     [\n",
    "    {\"class\": \"nnReshape\", \"kargs\": {\"shape\":[-1, 1, 2, 256]}},\n",
    "    {\"class\": \"Conv2d\", \"kargs\": { \"in_channels\":1, \"out_channels\":256, \"kernel_size\":(1,7), \"bias\":False, \"padding\":(0,3), },},\n",
    "    {\"class\": \"ReLU\", \"kargs\": {\"inplace\": True}},\n",
    "    {\"class\": \"BatchNorm2d\", \"kargs\": {\"num_features\":256}},\n",
    "\n",
    "    {\"class\": \"Conv2d\", \"kargs\": { \"in_channels\":256, \"out_channels\":80, \"kernel_size\":(2,7), \"bias\":True, \"padding\":(0,3), },},\n",
    "    {\"class\": \"ReLU\", \"kargs\": {\"inplace\": True}},\n",
    "    {\"class\": \"BatchNorm2d\", \"kargs\": {\"num_features\":80}},\n",
    "    {\"class\": \"Flatten\", \"kargs\": {}},\n",
    "\n",
    "    {\"class\": \"Linear\", \"kargs\": {\"in_features\": 80*256, \"out_features\": 256}}, # 80 units per IQ pair\n",
    "    {\"class\": \"ReLU\", \"kargs\": {\"inplace\": True}},\n",
    "    {\"class\": \"BatchNorm1d\", \"kargs\": {\"num_features\":256}},\n",
    "\n",
    "    {\"class\": \"Linear\", \"kargs\": {\"in_features\": 256, \"out_features\": 256}},\n",
    "]\n",
    "\n",
    "# Parameters relevant to results\n",
    "# These parameters will basically never need to change\n",
    "standalone_parameters[\"NUM_LOGS_PER_EPOCH\"] = 10\n",
    "standalone_parameters[\"BEST_MODEL_PATH\"] = \"./best_model.pth\"\n",
    "\n",
    "\n",
    "\n",
    "\n"
   ]
  },
  {
   "cell_type": "code",
   "execution_count": 4,
   "id": "ac1adb03",
   "metadata": {
    "execution": {
     "iopub.execute_input": "2022-03-23T17:18:54.674997Z",
     "iopub.status.busy": "2022-03-23T17:18:54.666378Z",
     "iopub.status.idle": "2022-03-23T17:18:54.698800Z",
     "shell.execute_reply": "2022-03-23T17:18:54.698085Z"
    },
    "papermill": {
     "duration": 0.060625,
     "end_time": "2022-03-23T17:18:54.698953",
     "exception": false,
     "start_time": "2022-03-23T17:18:54.638328",
     "status": "completed"
    },
    "tags": [
     "injected-parameters"
    ]
   },
   "outputs": [],
   "source": [
    "# Parameters\n",
    "parameters = {\n",
    "    \"experiment_name\": \"tl_1v2:wisig-oracle.run1\",\n",
    "    \"device\": \"cuda\",\n",
    "    \"lr\": 0.0001,\n",
    "    \"n_shot\": 3,\n",
    "    \"n_query\": 2,\n",
    "    \"train_k_factor\": 3,\n",
    "    \"val_k_factor\": 2,\n",
    "    \"test_k_factor\": 2,\n",
    "    \"torch_default_dtype\": \"torch.float32\",\n",
    "    \"n_epoch\": 50,\n",
    "    \"patience\": 3,\n",
    "    \"criteria_for_best\": \"target_accuracy\",\n",
    "    \"x_net\": [\n",
    "        {\"class\": \"nnReshape\", \"kargs\": {\"shape\": [-1, 1, 2, 256]}},\n",
    "        {\n",
    "            \"class\": \"Conv2d\",\n",
    "            \"kargs\": {\n",
    "                \"in_channels\": 1,\n",
    "                \"out_channels\": 256,\n",
    "                \"kernel_size\": [1, 7],\n",
    "                \"bias\": False,\n",
    "                \"padding\": [0, 3],\n",
    "            },\n",
    "        },\n",
    "        {\"class\": \"ReLU\", \"kargs\": {\"inplace\": True}},\n",
    "        {\"class\": \"BatchNorm2d\", \"kargs\": {\"num_features\": 256}},\n",
    "        {\n",
    "            \"class\": \"Conv2d\",\n",
    "            \"kargs\": {\n",
    "                \"in_channels\": 256,\n",
    "                \"out_channels\": 80,\n",
    "                \"kernel_size\": [2, 7],\n",
    "                \"bias\": True,\n",
    "                \"padding\": [0, 3],\n",
    "            },\n",
    "        },\n",
    "        {\"class\": \"ReLU\", \"kargs\": {\"inplace\": True}},\n",
    "        {\"class\": \"BatchNorm2d\", \"kargs\": {\"num_features\": 80}},\n",
    "        {\"class\": \"Flatten\", \"kargs\": {}},\n",
    "        {\"class\": \"Linear\", \"kargs\": {\"in_features\": 20480, \"out_features\": 256}},\n",
    "        {\"class\": \"ReLU\", \"kargs\": {\"inplace\": True}},\n",
    "        {\"class\": \"BatchNorm1d\", \"kargs\": {\"num_features\": 256}},\n",
    "        {\"class\": \"Linear\", \"kargs\": {\"in_features\": 256, \"out_features\": 256}},\n",
    "    ],\n",
    "    \"NUM_LOGS_PER_EPOCH\": 10,\n",
    "    \"BEST_MODEL_PATH\": \"./best_model.pth\",\n",
    "    \"n_way\": 16,\n",
    "    \"datasets\": [\n",
    "        {\n",
    "            \"labels\": [\n",
    "                \"1-10\",\n",
    "                \"1-12\",\n",
    "                \"1-14\",\n",
    "                \"1-16\",\n",
    "                \"1-18\",\n",
    "                \"1-19\",\n",
    "                \"1-8\",\n",
    "                \"10-11\",\n",
    "                \"10-17\",\n",
    "                \"10-4\",\n",
    "                \"10-7\",\n",
    "                \"11-1\",\n",
    "                \"11-10\",\n",
    "                \"11-19\",\n",
    "                \"11-20\",\n",
    "                \"11-4\",\n",
    "                \"11-7\",\n",
    "                \"12-19\",\n",
    "                \"12-20\",\n",
    "                \"12-7\",\n",
    "                \"13-14\",\n",
    "                \"13-18\",\n",
    "                \"13-19\",\n",
    "                \"13-20\",\n",
    "                \"13-3\",\n",
    "                \"13-7\",\n",
    "                \"14-10\",\n",
    "                \"14-11\",\n",
    "                \"14-12\",\n",
    "                \"14-13\",\n",
    "                \"14-14\",\n",
    "                \"14-19\",\n",
    "                \"14-20\",\n",
    "                \"14-7\",\n",
    "                \"14-8\",\n",
    "                \"14-9\",\n",
    "                \"15-1\",\n",
    "                \"15-19\",\n",
    "                \"15-6\",\n",
    "                \"16-1\",\n",
    "                \"16-16\",\n",
    "                \"16-19\",\n",
    "                \"16-20\",\n",
    "                \"17-10\",\n",
    "                \"17-11\",\n",
    "                \"18-1\",\n",
    "                \"18-10\",\n",
    "                \"18-11\",\n",
    "                \"18-12\",\n",
    "                \"18-13\",\n",
    "                \"18-14\",\n",
    "                \"18-15\",\n",
    "                \"18-16\",\n",
    "                \"18-17\",\n",
    "                \"18-19\",\n",
    "                \"18-2\",\n",
    "                \"18-20\",\n",
    "                \"18-4\",\n",
    "                \"18-5\",\n",
    "                \"18-7\",\n",
    "                \"18-8\",\n",
    "                \"18-9\",\n",
    "                \"19-1\",\n",
    "                \"19-10\",\n",
    "                \"19-11\",\n",
    "                \"19-12\",\n",
    "                \"19-13\",\n",
    "                \"19-14\",\n",
    "                \"19-15\",\n",
    "                \"19-19\",\n",
    "                \"19-2\",\n",
    "                \"19-20\",\n",
    "                \"19-3\",\n",
    "                \"19-4\",\n",
    "                \"19-6\",\n",
    "                \"19-7\",\n",
    "                \"19-8\",\n",
    "                \"19-9\",\n",
    "                \"2-1\",\n",
    "                \"2-13\",\n",
    "                \"2-15\",\n",
    "                \"2-3\",\n",
    "                \"2-4\",\n",
    "                \"2-5\",\n",
    "                \"2-6\",\n",
    "                \"2-7\",\n",
    "                \"2-8\",\n",
    "                \"20-1\",\n",
    "                \"20-12\",\n",
    "                \"20-14\",\n",
    "                \"20-15\",\n",
    "                \"20-16\",\n",
    "                \"20-18\",\n",
    "                \"20-19\",\n",
    "                \"20-20\",\n",
    "                \"20-3\",\n",
    "                \"20-4\",\n",
    "                \"20-5\",\n",
    "                \"20-7\",\n",
    "                \"20-8\",\n",
    "                \"3-1\",\n",
    "                \"3-13\",\n",
    "                \"3-18\",\n",
    "                \"3-2\",\n",
    "                \"3-8\",\n",
    "                \"4-1\",\n",
    "                \"4-10\",\n",
    "                \"4-11\",\n",
    "                \"5-1\",\n",
    "                \"5-5\",\n",
    "                \"6-1\",\n",
    "                \"6-15\",\n",
    "                \"6-6\",\n",
    "                \"7-10\",\n",
    "                \"7-11\",\n",
    "                \"7-12\",\n",
    "                \"7-13\",\n",
    "                \"7-14\",\n",
    "                \"7-7\",\n",
    "                \"7-8\",\n",
    "                \"7-9\",\n",
    "                \"8-1\",\n",
    "                \"8-13\",\n",
    "                \"8-14\",\n",
    "                \"8-18\",\n",
    "                \"8-20\",\n",
    "                \"8-3\",\n",
    "                \"8-8\",\n",
    "                \"9-1\",\n",
    "                \"9-7\",\n",
    "            ],\n",
    "            \"domains\": [1, 2, 3, 4],\n",
    "            \"num_examples_per_domain_per_label\": -1,\n",
    "            \"pickle_path\": \"/root/csc500-main/datasets/wisig.node3-19.stratified_ds.2022A.pkl\",\n",
    "            \"source_or_target_dataset\": \"target\",\n",
    "            \"x_transforms\": [\"unit_mag\"],\n",
    "            \"episode_transforms\": [],\n",
    "            \"domain_prefix\": \"Wisig_\",\n",
    "        },\n",
    "        {\n",
    "            \"labels\": [\n",
    "                \"3123D52\",\n",
    "                \"3123D65\",\n",
    "                \"3123D79\",\n",
    "                \"3123D80\",\n",
    "                \"3123D54\",\n",
    "                \"3123D70\",\n",
    "                \"3123D7B\",\n",
    "                \"3123D89\",\n",
    "                \"3123D58\",\n",
    "                \"3123D76\",\n",
    "                \"3123D7D\",\n",
    "                \"3123EFE\",\n",
    "                \"3123D64\",\n",
    "                \"3123D78\",\n",
    "                \"3123D7E\",\n",
    "                \"3124E4A\",\n",
    "            ],\n",
    "            \"domains\": [32, 38, 8, 44, 14, 50, 20, 26],\n",
    "            \"num_examples_per_domain_per_label\": 10000,\n",
    "            \"pickle_path\": \"/root/csc500-main/datasets/oracle.Run1_10kExamples_stratified_ds.2022A.pkl\",\n",
    "            \"source_or_target_dataset\": \"source\",\n",
    "            \"x_transforms\": [\"unit_mag\"],\n",
    "            \"episode_transforms\": [],\n",
    "            \"domain_prefix\": \"ORACLE.run1\",\n",
    "        },\n",
    "    ],\n",
    "    \"dataset_seed\": 420,\n",
    "    \"seed\": 420,\n",
    "}\n"
   ]
  },
  {
   "cell_type": "code",
   "execution_count": 5,
   "id": "8fa1cc33",
   "metadata": {
    "execution": {
     "iopub.execute_input": "2022-03-23T17:18:54.750933Z",
     "iopub.status.busy": "2022-03-23T17:18:54.750556Z",
     "iopub.status.idle": "2022-03-23T17:18:54.769832Z",
     "shell.execute_reply": "2022-03-23T17:18:54.769116Z"
    },
    "papermill": {
     "duration": 0.043334,
     "end_time": "2022-03-23T17:18:54.769983",
     "exception": false,
     "start_time": "2022-03-23T17:18:54.726649",
     "status": "completed"
    },
    "tags": []
   },
   "outputs": [],
   "source": [
    "# Set this to True if you want to run this template directly\n",
    "STANDALONE = False\n",
    "if STANDALONE:\n",
    "    print(\"parameters not injected, running with standalone_parameters\")\n",
    "    parameters = standalone_parameters\n",
    "\n",
    "if not 'parameters' in locals() and not 'parameters' in globals():\n",
    "    raise Exception(\"Parameter injection failed\")\n",
    "\n",
    "#Use an easy dict for all the parameters\n",
    "p = EasyDict(parameters)\n",
    "\n",
    "if \"x_shape\" not in p:\n",
    "    p.x_shape = [2,256] # Default to this if we dont supply x_shape\n",
    "\n",
    "\n",
    "supplied_keys = set(p.keys())\n",
    "\n",
    "if  supplied_keys != required_parameters:\n",
    "    print(\"Parameters are incorrect\")\n",
    "    if len(supplied_keys - required_parameters)>0: print(\"Shouldn't have:\", str(supplied_keys - required_parameters))\n",
    "    if len(required_parameters - supplied_keys)>0: print(\"Need to have:\", str(required_parameters - supplied_keys))\n",
    "    raise RuntimeError(\"Parameters are incorrect\")"
   ]
  },
  {
   "cell_type": "code",
   "execution_count": 6,
   "id": "3a028d58",
   "metadata": {
    "execution": {
     "iopub.execute_input": "2022-03-23T17:18:54.820946Z",
     "iopub.status.busy": "2022-03-23T17:18:54.820575Z",
     "iopub.status.idle": "2022-03-23T17:18:54.838225Z",
     "shell.execute_reply": "2022-03-23T17:18:54.837514Z"
    },
    "papermill": {
     "duration": 0.040232,
     "end_time": "2022-03-23T17:18:54.838384",
     "exception": false,
     "start_time": "2022-03-23T17:18:54.798152",
     "status": "completed"
    },
    "tags": []
   },
   "outputs": [],
   "source": [
    "###################################\n",
    "# Set the RNGs and make it all deterministic\n",
    "###################################\n",
    "np.random.seed(p.seed)\n",
    "random.seed(p.seed)\n",
    "torch.manual_seed(p.seed)\n",
    "\n",
    "torch.use_deterministic_algorithms(True) "
   ]
  },
  {
   "cell_type": "code",
   "execution_count": 7,
   "id": "b691acf6",
   "metadata": {
    "execution": {
     "iopub.execute_input": "2022-03-23T17:18:55.041628Z",
     "iopub.status.busy": "2022-03-23T17:18:55.041256Z",
     "iopub.status.idle": "2022-03-23T17:18:55.060848Z",
     "shell.execute_reply": "2022-03-23T17:18:55.061153Z"
    },
    "papermill": {
     "duration": 0.122947,
     "end_time": "2022-03-23T17:18:55.061235",
     "exception": false,
     "start_time": "2022-03-23T17:18:54.938288",
     "status": "completed"
    },
    "tags": []
   },
   "outputs": [],
   "source": [
    "###########################################\n",
    "# The stratified datasets honor this\n",
    "###########################################\n",
    "torch.set_default_dtype(eval(p.torch_default_dtype))"
   ]
  },
  {
   "cell_type": "code",
   "execution_count": 8,
   "id": "b5fba671",
   "metadata": {
    "execution": {
     "iopub.execute_input": "2022-03-23T17:18:55.105368Z",
     "iopub.status.busy": "2022-03-23T17:18:55.104998Z",
     "iopub.status.idle": "2022-03-23T17:18:55.158446Z",
     "shell.execute_reply": "2022-03-23T17:18:55.158752Z"
    },
    "papermill": {
     "duration": 0.077189,
     "end_time": "2022-03-23T17:18:55.158833",
     "exception": false,
     "start_time": "2022-03-23T17:18:55.081644",
     "status": "completed"
    },
    "tags": []
   },
   "outputs": [],
   "source": [
    "###################################\n",
    "# Build the network(s)\n",
    "# Note: It's critical to do this AFTER setting the RNG\n",
    "###################################\n",
    "x_net = build_sequential(p.x_net)"
   ]
  },
  {
   "cell_type": "code",
   "execution_count": 9,
   "id": "5d7e61cc",
   "metadata": {
    "execution": {
     "iopub.execute_input": "2022-03-23T17:18:55.203468Z",
     "iopub.status.busy": "2022-03-23T17:18:55.203105Z",
     "iopub.status.idle": "2022-03-23T17:18:55.229254Z",
     "shell.execute_reply": "2022-03-23T17:18:55.228936Z"
    },
    "papermill": {
     "duration": 0.050021,
     "end_time": "2022-03-23T17:18:55.229323",
     "exception": false,
     "start_time": "2022-03-23T17:18:55.179302",
     "status": "completed"
    },
    "tags": []
   },
   "outputs": [],
   "source": [
    "start_time_secs = time.time()"
   ]
  },
  {
   "cell_type": "code",
   "execution_count": 10,
   "id": "c6b67dfd",
   "metadata": {
    "execution": {
     "iopub.execute_input": "2022-03-23T17:18:55.274187Z",
     "iopub.status.busy": "2022-03-23T17:18:55.273817Z",
     "iopub.status.idle": "2022-03-23T17:18:55.296243Z",
     "shell.execute_reply": "2022-03-23T17:18:55.296548Z"
    },
    "papermill": {
     "duration": 0.04686,
     "end_time": "2022-03-23T17:18:55.296629",
     "exception": false,
     "start_time": "2022-03-23T17:18:55.249769",
     "status": "completed"
    },
    "tags": []
   },
   "outputs": [],
   "source": [
    "p.domains_source = []\n",
    "p.domains_target = []\n",
    "\n",
    "\n",
    "train_original_source = []\n",
    "val_original_source   = []\n",
    "test_original_source  = []\n",
    "\n",
    "train_original_target = []\n",
    "val_original_target   = []\n",
    "test_original_target  = []"
   ]
  },
  {
   "cell_type": "code",
   "execution_count": 11,
   "id": "e3d9c3d3",
   "metadata": {
    "execution": {
     "iopub.execute_input": "2022-03-23T17:18:55.340376Z",
     "iopub.status.busy": "2022-03-23T17:18:55.340008Z",
     "iopub.status.idle": "2022-03-23T17:18:55.360547Z",
     "shell.execute_reply": "2022-03-23T17:18:55.360853Z"
    },
    "papermill": {
     "duration": 0.043869,
     "end_time": "2022-03-23T17:18:55.360933",
     "exception": false,
     "start_time": "2022-03-23T17:18:55.317064",
     "status": "completed"
    },
    "tags": []
   },
   "outputs": [],
   "source": [
    "# global_x_transform_func = lambda x: normalize(x.to(torch.get_default_dtype()), \"unit_power\") # unit_power, unit_mag\n",
    "# global_x_transform_func = lambda x: normalize(x, \"unit_power\") # unit_power, unit_mag"
   ]
  },
  {
   "cell_type": "code",
   "execution_count": 12,
   "id": "acb78fd2",
   "metadata": {
    "execution": {
     "iopub.execute_input": "2022-03-23T17:18:55.413826Z",
     "iopub.status.busy": "2022-03-23T17:18:55.413441Z",
     "iopub.status.idle": "2022-03-23T17:18:55.431709Z",
     "shell.execute_reply": "2022-03-23T17:18:55.432015Z"
    },
    "papermill": {
     "duration": 0.050588,
     "end_time": "2022-03-23T17:18:55.432094",
     "exception": false,
     "start_time": "2022-03-23T17:18:55.381506",
     "status": "completed"
    },
    "tags": []
   },
   "outputs": [],
   "source": [
    "def add_dataset(\n",
    "    labels,\n",
    "    domains,\n",
    "    pickle_path,\n",
    "    x_transforms,\n",
    "    episode_transforms,\n",
    "    domain_prefix,\n",
    "    num_examples_per_domain_per_label,\n",
    "    source_or_target_dataset:str,\n",
    "    iterator_seed=p.seed,\n",
    "    dataset_seed=p.dataset_seed,\n",
    "    n_shot=p.n_shot,\n",
    "    n_way=p.n_way,\n",
    "    n_query=p.n_query,\n",
    "    train_val_test_k_factors=(p.train_k_factor,p.val_k_factor,p.test_k_factor),\n",
    "):\n",
    "   \n",
    "    if x_transforms == []: x_transform = None\n",
    "    else: x_transform = get_chained_transform(x_transforms)\n",
    "    \n",
    "    if episode_transforms == []: episode_transform = None\n",
    "    else: raise Exception(\"episode_transforms not implemented\")\n",
    "    \n",
    "    episode_transform = lambda tup, _prefix=domain_prefix: (_prefix + str(tup[0]), tup[1])\n",
    "\n",
    "\n",
    "    eaf = Episodic_Accessor_Factory(\n",
    "        labels=labels,\n",
    "        domains=domains,\n",
    "        num_examples_per_domain_per_label=num_examples_per_domain_per_label,\n",
    "        iterator_seed=iterator_seed,\n",
    "        dataset_seed=dataset_seed,\n",
    "        n_shot=n_shot,\n",
    "        n_way=n_way,\n",
    "        n_query=n_query,\n",
    "        train_val_test_k_factors=train_val_test_k_factors,\n",
    "        pickle_path=pickle_path,\n",
    "        x_transform_func=x_transform,\n",
    "    )\n",
    "\n",
    "    train, val, test = eaf.get_train(), eaf.get_val(), eaf.get_test()\n",
    "    train = Lazy_Iterable_Wrapper(train, episode_transform)\n",
    "    val = Lazy_Iterable_Wrapper(val, episode_transform)\n",
    "    test = Lazy_Iterable_Wrapper(test, episode_transform)\n",
    "\n",
    "    if source_or_target_dataset==\"source\":\n",
    "        train_original_source.append(train)\n",
    "        val_original_source.append(val)\n",
    "        test_original_source.append(test)\n",
    "\n",
    "        p.domains_source.extend(\n",
    "            [domain_prefix + str(u) for u in domains]\n",
    "        )\n",
    "    elif source_or_target_dataset==\"target\":\n",
    "        train_original_target.append(train)\n",
    "        val_original_target.append(val)\n",
    "        test_original_target.append(test)\n",
    "        p.domains_target.extend(\n",
    "            [domain_prefix + str(u) for u in domains]\n",
    "        )\n",
    "    else:\n",
    "        raise Exception(f\"invalid source_or_target_dataset: {source_or_target_dataset}\")\n",
    "    "
   ]
  },
  {
   "cell_type": "code",
   "execution_count": 13,
   "id": "fe266617",
   "metadata": {
    "execution": {
     "iopub.execute_input": "2022-03-23T17:18:55.476520Z",
     "iopub.status.busy": "2022-03-23T17:18:55.476146Z",
     "iopub.status.idle": "2022-03-23T17:21:02.847102Z",
     "shell.execute_reply": "2022-03-23T17:21:02.846694Z"
    },
    "papermill": {
     "duration": 127.394068,
     "end_time": "2022-03-23T17:21:02.847214",
     "exception": false,
     "start_time": "2022-03-23T17:18:55.453146",
     "status": "completed"
    },
    "tags": []
   },
   "outputs": [],
   "source": [
    "for ds in p.datasets:\n",
    "    add_dataset(**ds)"
   ]
  },
  {
   "cell_type": "code",
   "execution_count": 14,
   "id": "b90d65ac",
   "metadata": {
    "execution": {
     "iopub.execute_input": "2022-03-23T17:21:02.892938Z",
     "iopub.status.busy": "2022-03-23T17:21:02.892367Z",
     "iopub.status.idle": "2022-03-23T17:21:02.914041Z",
     "shell.execute_reply": "2022-03-23T17:21:02.913681Z"
    },
    "papermill": {
     "duration": 0.045573,
     "end_time": "2022-03-23T17:21:02.914137",
     "exception": false,
     "start_time": "2022-03-23T17:21:02.868564",
     "status": "completed"
    },
    "tags": []
   },
   "outputs": [],
   "source": [
    "# from steves_utils.CORES.utils import (\n",
    "#     ALL_NODES,\n",
    "#     ALL_NODES_MINIMUM_1000_EXAMPLES,\n",
    "#     ALL_DAYS\n",
    "# )\n",
    "\n",
    "# add_dataset(\n",
    "#     labels=ALL_NODES,\n",
    "#     domains = ALL_DAYS,\n",
    "#     num_examples_per_domain_per_label=100,\n",
    "#     pickle_path=os.path.join(get_datasets_base_path(), \"cores.stratified_ds.2022A.pkl\"),\n",
    "#     source_or_target_dataset=\"target\",\n",
    "#     x_transform_func=global_x_transform_func,\n",
    "#     domain_modifier=lambda u: f\"cores_{u}\"\n",
    "# )"
   ]
  },
  {
   "cell_type": "code",
   "execution_count": 15,
   "id": "76db484d",
   "metadata": {
    "execution": {
     "iopub.execute_input": "2022-03-23T17:21:02.960055Z",
     "iopub.status.busy": "2022-03-23T17:21:02.959458Z",
     "iopub.status.idle": "2022-03-23T17:21:02.979729Z",
     "shell.execute_reply": "2022-03-23T17:21:02.979360Z"
    },
    "papermill": {
     "duration": 0.044546,
     "end_time": "2022-03-23T17:21:02.979823",
     "exception": false,
     "start_time": "2022-03-23T17:21:02.935277",
     "status": "completed"
    },
    "tags": []
   },
   "outputs": [],
   "source": [
    "# from steves_utils.ORACLE.utils_v2 import (\n",
    "#     ALL_DISTANCES_FEET,\n",
    "#     ALL_RUNS,\n",
    "#     ALL_SERIAL_NUMBERS,\n",
    "# )\n",
    "\n",
    "\n",
    "# add_dataset(\n",
    "#     labels=ALL_SERIAL_NUMBERS,\n",
    "#     domains = list(set(ALL_DISTANCES_FEET) - {2,62}),\n",
    "#     num_examples_per_domain_per_label=100,\n",
    "#     pickle_path=os.path.join(get_datasets_base_path(), \"oracle.Run2_framed_2000Examples_stratified_ds.2022A.pkl\"),\n",
    "#     source_or_target_dataset=\"source\",\n",
    "#     x_transform_func=global_x_transform_func,\n",
    "#     domain_modifier=lambda u: f\"oracle1_{u}\"\n",
    "# )\n"
   ]
  },
  {
   "cell_type": "code",
   "execution_count": 16,
   "id": "97dea9d2",
   "metadata": {
    "execution": {
     "iopub.execute_input": "2022-03-23T17:21:03.024878Z",
     "iopub.status.busy": "2022-03-23T17:21:03.024334Z",
     "iopub.status.idle": "2022-03-23T17:21:03.044622Z",
     "shell.execute_reply": "2022-03-23T17:21:03.044216Z"
    },
    "papermill": {
     "duration": 0.043839,
     "end_time": "2022-03-23T17:21:03.044711",
     "exception": false,
     "start_time": "2022-03-23T17:21:03.000872",
     "status": "completed"
    },
    "tags": []
   },
   "outputs": [],
   "source": [
    "# from steves_utils.ORACLE.utils_v2 import (\n",
    "#     ALL_DISTANCES_FEET,\n",
    "#     ALL_RUNS,\n",
    "#     ALL_SERIAL_NUMBERS,\n",
    "# )\n",
    "\n",
    "\n",
    "# add_dataset(\n",
    "#     labels=ALL_SERIAL_NUMBERS,\n",
    "#     domains = list(set(ALL_DISTANCES_FEET) - {2,62,56}),\n",
    "#     num_examples_per_domain_per_label=100,\n",
    "#     pickle_path=os.path.join(get_datasets_base_path(), \"oracle.Run2_framed_2000Examples_stratified_ds.2022A.pkl\"),\n",
    "#     source_or_target_dataset=\"source\",\n",
    "#     x_transform_func=global_x_transform_func,\n",
    "#     domain_modifier=lambda u: f\"oracle2_{u}\"\n",
    "# )"
   ]
  },
  {
   "cell_type": "code",
   "execution_count": 17,
   "id": "6f289866",
   "metadata": {
    "execution": {
     "iopub.execute_input": "2022-03-23T17:21:03.089726Z",
     "iopub.status.busy": "2022-03-23T17:21:03.089211Z",
     "iopub.status.idle": "2022-03-23T17:21:03.109610Z",
     "shell.execute_reply": "2022-03-23T17:21:03.109206Z"
    },
    "papermill": {
     "duration": 0.043929,
     "end_time": "2022-03-23T17:21:03.109700",
     "exception": false,
     "start_time": "2022-03-23T17:21:03.065771",
     "status": "completed"
    },
    "tags": []
   },
   "outputs": [],
   "source": [
    "# add_dataset(\n",
    "#     labels=list(range(19)),\n",
    "#     domains = [0,1,2],\n",
    "#     num_examples_per_domain_per_label=100,\n",
    "#     pickle_path=os.path.join(get_datasets_base_path(), \"metehan.stratified_ds.2022A.pkl\"),\n",
    "#     source_or_target_dataset=\"target\",\n",
    "#     x_transform_func=global_x_transform_func,\n",
    "#     domain_modifier=lambda u: f\"met_{u}\"\n",
    "# )"
   ]
  },
  {
   "cell_type": "code",
   "execution_count": 18,
   "id": "86a863c3",
   "metadata": {
    "execution": {
     "iopub.execute_input": "2022-03-23T17:21:03.155561Z",
     "iopub.status.busy": "2022-03-23T17:21:03.154988Z",
     "iopub.status.idle": "2022-03-23T17:21:03.175053Z",
     "shell.execute_reply": "2022-03-23T17:21:03.174644Z"
    },
    "papermill": {
     "duration": 0.044093,
     "end_time": "2022-03-23T17:21:03.175146",
     "exception": false,
     "start_time": "2022-03-23T17:21:03.131053",
     "status": "completed"
    },
    "tags": []
   },
   "outputs": [],
   "source": [
    "# # from steves_utils.wisig.utils import (\n",
    "# #     ALL_NODES_MINIMUM_100_EXAMPLES,\n",
    "# #     ALL_NODES_MINIMUM_500_EXAMPLES,\n",
    "# #     ALL_NODES_MINIMUM_1000_EXAMPLES,\n",
    "# #     ALL_DAYS\n",
    "# # )\n",
    "\n",
    "# import steves_utils.wisig.utils as wisig\n",
    "\n",
    "\n",
    "# add_dataset(\n",
    "#     labels=wisig.ALL_NODES_MINIMUM_100_EXAMPLES,\n",
    "#     domains = wisig.ALL_DAYS,\n",
    "#     num_examples_per_domain_per_label=100,\n",
    "#     pickle_path=os.path.join(get_datasets_base_path(), \"wisig.node3-19.stratified_ds.2022A.pkl\"),\n",
    "#     source_or_target_dataset=\"target\",\n",
    "#     x_transform_func=global_x_transform_func,\n",
    "#     domain_modifier=lambda u: f\"wisig_{u}\"\n",
    "# )"
   ]
  },
  {
   "cell_type": "code",
   "execution_count": 19,
   "id": "fd5442bc",
   "metadata": {
    "execution": {
     "iopub.execute_input": "2022-03-23T17:21:03.223044Z",
     "iopub.status.busy": "2022-03-23T17:21:03.222471Z",
     "iopub.status.idle": "2022-03-23T17:21:03.244352Z",
     "shell.execute_reply": "2022-03-23T17:21:03.243948Z"
    },
    "papermill": {
     "duration": 0.048255,
     "end_time": "2022-03-23T17:21:03.244444",
     "exception": false,
     "start_time": "2022-03-23T17:21:03.196189",
     "status": "completed"
    },
    "tags": []
   },
   "outputs": [],
   "source": [
    "###################################\n",
    "# Build the dataset\n",
    "###################################\n",
    "train_original_source = Iterable_Aggregator(train_original_source, p.seed)\n",
    "val_original_source = Iterable_Aggregator(val_original_source, p.seed)\n",
    "test_original_source = Iterable_Aggregator(test_original_source, p.seed)\n",
    "\n",
    "\n",
    "train_original_target = Iterable_Aggregator(train_original_target, p.seed)\n",
    "val_original_target = Iterable_Aggregator(val_original_target, p.seed)\n",
    "test_original_target = Iterable_Aggregator(test_original_target, p.seed)\n",
    "\n",
    "# For CNN We only use X and Y. And we only train on the source.\n",
    "# Properly form the data using a transform lambda and Lazy_Iterable_Wrapper. Finally wrap them in a dataloader\n",
    "\n",
    "transform_lambda = lambda ex: ex[1] # Original is (<domain>, <episode>) so we strip down to episode only\n",
    "\n",
    "train_processed_source = Lazy_Iterable_Wrapper(train_original_source, transform_lambda)\n",
    "val_processed_source   = Lazy_Iterable_Wrapper(val_original_source, transform_lambda)\n",
    "test_processed_source  = Lazy_Iterable_Wrapper(test_original_source, transform_lambda)\n",
    "\n",
    "train_processed_target = Lazy_Iterable_Wrapper(train_original_target, transform_lambda)\n",
    "val_processed_target   = Lazy_Iterable_Wrapper(val_original_target, transform_lambda)\n",
    "test_processed_target  = Lazy_Iterable_Wrapper(test_original_target, transform_lambda)\n",
    "\n",
    "datasets = EasyDict({\n",
    "    \"source\": {\n",
    "        \"original\": {\"train\":train_original_source, \"val\":val_original_source, \"test\":test_original_source},\n",
    "        \"processed\": {\"train\":train_processed_source, \"val\":val_processed_source, \"test\":test_processed_source}\n",
    "    },\n",
    "    \"target\": {\n",
    "        \"original\": {\"train\":train_original_target, \"val\":val_original_target, \"test\":test_original_target},\n",
    "        \"processed\": {\"train\":train_processed_target, \"val\":val_processed_target, \"test\":test_processed_target}\n",
    "    },\n",
    "})"
   ]
  },
  {
   "cell_type": "code",
   "execution_count": 20,
   "id": "5b3c01fc",
   "metadata": {
    "execution": {
     "iopub.execute_input": "2022-03-23T17:21:03.292706Z",
     "iopub.status.busy": "2022-03-23T17:21:03.292321Z",
     "iopub.status.idle": "2022-03-23T17:21:37.166572Z",
     "shell.execute_reply": "2022-03-23T17:21:37.167397Z"
    },
    "papermill": {
     "duration": 33.901816,
     "end_time": "2022-03-23T17:21:37.167674",
     "exception": false,
     "start_time": "2022-03-23T17:21:03.265858",
     "status": "completed"
    },
    "tags": []
   },
   "outputs": [
    {
     "name": "stdout",
     "output_type": "stream",
     "text": [
      "{'ORACLE.run144', 'ORACLE.run126', 'ORACLE.run114', 'ORACLE.run120', 'ORACLE.run18', 'ORACLE.run150', 'ORACLE.run132', 'ORACLE.run138'}\n"
     ]
    },
    {
     "name": "stdout",
     "output_type": "stream",
     "text": [
      "{'Wisig_1', 'Wisig_3', 'Wisig_4', 'Wisig_2'}\n"
     ]
    },
    {
     "name": "stdout",
     "output_type": "stream",
     "text": [
      "tensor([[[ 0.2251,  0.1944, -1.3508,  ..., -0.0614,  1.0131, -0.1228],\n",
      "         [ 0.2763,  0.3991, -0.4503,  ..., -1.1563, -0.6140,  0.2047]],\n",
      "\n",
      "        [[-1.0401, -1.1726,  0.4486,  ..., -1.0808,  0.1733,  1.2440],\n",
      "         [-1.1318,  0.4486, -0.8157,  ..., -1.2542, -0.8667, -0.6322]],\n",
      "\n",
      "        [[ 0.0426, -0.9148,  0.4787,  ...,  0.2021,  0.4361,  0.1702],\n",
      "         [ 1.5318, -0.6702, -0.0745,  ..., -0.0532, -0.2553, -0.9361]],\n",
      "\n",
      "        ...,\n",
      "\n",
      "        [[ 1.2497, -0.6951, -1.2275,  ...,  0.0887, -1.1609, -0.3106],\n",
      "         [ 1.1018, -0.3919, -0.6877,  ...,  1.1166,  0.7321,  0.2514]],\n",
      "\n",
      "        [[ 0.8424,  0.0572, -0.1881,  ..., -1.6520, -1.0305, -0.5888],\n",
      "         [-0.8178,  0.3926, -0.3026,  ...,  0.3599,  0.1881,  0.6706]],\n",
      "\n",
      "        [[ 0.1290,  1.3188,  0.5806,  ..., -0.4659, -1.8277, -0.7454],\n",
      "         [ 0.3870, -0.7741, -0.7167,  ..., -0.5089,  0.0215, -0.7741]]])\n"
     ]
    }
   ],
   "source": [
    "from steves_utils.transforms import get_average_magnitude, get_average_power\n",
    "\n",
    "print(set([u for u,_ in val_original_source]))\n",
    "print(set([u for u,_ in val_original_target]))\n",
    "\n",
    "s_x, s_y, q_x, q_y, _ = next(iter(train_processed_source))\n",
    "print(s_x)\n",
    "\n",
    "# for ds in [\n",
    "#     train_processed_source,\n",
    "#     val_processed_source,\n",
    "#     test_processed_source,\n",
    "#     train_processed_target,\n",
    "#     val_processed_target,\n",
    "#     test_processed_target\n",
    "# ]:\n",
    "#     for s_x, s_y, q_x, q_y, _ in ds:\n",
    "#         for X in (s_x, q_x):\n",
    "#             for x in X:\n",
    "#                 assert np.isclose(get_average_magnitude(x.numpy()), 1.0)\n",
    "#                 assert np.isclose(get_average_power(x.numpy()), 1.0)\n",
    "                "
   ]
  },
  {
   "cell_type": "code",
   "execution_count": 21,
   "id": "bbdacba1",
   "metadata": {
    "execution": {
     "iopub.execute_input": "2022-03-23T17:21:37.223941Z",
     "iopub.status.busy": "2022-03-23T17:21:37.223351Z",
     "iopub.status.idle": "2022-03-23T17:21:37.479612Z",
     "shell.execute_reply": "2022-03-23T17:21:37.480305Z"
    },
    "papermill": {
     "duration": 0.285229,
     "end_time": "2022-03-23T17:21:37.480550",
     "exception": false,
     "start_time": "2022-03-23T17:21:37.195321",
     "status": "completed"
    },
    "tags": []
   },
   "outputs": [
    {
     "name": "stdout",
     "output_type": "stream",
     "text": [
      "(2, 256)\n"
     ]
    }
   ],
   "source": [
    "###################################\n",
    "# Build the model\n",
    "###################################\n",
    "# easfsl only wants a tuple for the shape\n",
    "model = Steves_Prototypical_Network(x_net, device=p.device, x_shape=tuple(p.x_shape))\n",
    "optimizer = Adam(params=model.parameters(), lr=p.lr)"
   ]
  },
  {
   "cell_type": "code",
   "execution_count": 22,
   "id": "22b39ac5",
   "metadata": {
    "execution": {
     "iopub.execute_input": "2022-03-23T17:21:37.535448Z",
     "iopub.status.busy": "2022-03-23T17:21:37.534982Z",
     "iopub.status.idle": "2022-03-23T22:14:25.337596Z",
     "shell.execute_reply": "2022-03-23T22:14:25.337247Z"
    },
    "papermill": {
     "duration": 17567.828147,
     "end_time": "2022-03-23T22:14:25.337684",
     "exception": false,
     "start_time": "2022-03-23T17:21:37.509537",
     "status": "completed"
    },
    "tags": []
   },
   "outputs": [
    {
     "name": "stdout",
     "output_type": "stream",
     "text": [
      "epoch: 1, [batch: 1 / 33600], examples_per_second: 6.5783, train_label_loss: 2.7701, \n"
     ]
    },
    {
     "name": "stdout",
     "output_type": "stream",
     "text": [
      "epoch: 1, [batch: 3360 / 33600], examples_per_second: 2967.5723, train_label_loss: 1.3225, \n"
     ]
    },
    {
     "name": "stdout",
     "output_type": "stream",
     "text": [
      "epoch: 1, [batch: 6720 / 33600], examples_per_second: 2985.0241, train_label_loss: 1.1483, \n"
     ]
    },
    {
     "name": "stdout",
     "output_type": "stream",
     "text": [
      "epoch: 1, [batch: 10080 / 33600], examples_per_second: 2971.3326, train_label_loss: 0.7877, \n"
     ]
    },
    {
     "name": "stdout",
     "output_type": "stream",
     "text": [
      "epoch: 1, [batch: 13440 / 33600], examples_per_second: 2914.8400, train_label_loss: 0.9848, \n"
     ]
    },
    {
     "name": "stdout",
     "output_type": "stream",
     "text": [
      "epoch: 1, [batch: 16800 / 33600], examples_per_second: 2929.1530, train_label_loss: 0.8238, \n"
     ]
    },
    {
     "name": "stdout",
     "output_type": "stream",
     "text": [
      "epoch: 1, [batch: 20160 / 33600], examples_per_second: 2947.1285, train_label_loss: 1.2669, \n"
     ]
    },
    {
     "name": "stdout",
     "output_type": "stream",
     "text": [
      "epoch: 1, [batch: 23520 / 33600], examples_per_second: 2927.6617, train_label_loss: 0.6811, \n"
     ]
    },
    {
     "name": "stdout",
     "output_type": "stream",
     "text": [
      "epoch: 1, [batch: 26880 / 33600], examples_per_second: 2948.4251, train_label_loss: 0.7727, \n"
     ]
    },
    {
     "name": "stdout",
     "output_type": "stream",
     "text": [
      "epoch: 1, [batch: 30240 / 33600], examples_per_second: 3469.1092, train_label_loss: 0.7135, \n"
     ]
    },
    {
     "name": "stdout",
     "output_type": "stream",
     "text": [
      "=============================================================\n",
      "epoch: 1, source_val_acc_label: 0.6457, target_val_acc_label: 0.6852, source_val_label_loss: 0.9488, target_val_label_loss: 5.5501, \n",
      "=============================================================\n"
     ]
    },
    {
     "name": "stdout",
     "output_type": "stream",
     "text": [
      "New best\n"
     ]
    },
    {
     "name": "stdout",
     "output_type": "stream",
     "text": [
      "epoch: 2, [batch: 1 / 33600], examples_per_second: 0.8482, train_label_loss: 0.8694, \n"
     ]
    },
    {
     "name": "stdout",
     "output_type": "stream",
     "text": [
      "epoch: 2, [batch: 3360 / 33600], examples_per_second: 2980.2672, train_label_loss: 0.6303, \n"
     ]
    },
    {
     "name": "stdout",
     "output_type": "stream",
     "text": [
      "epoch: 2, [batch: 6720 / 33600], examples_per_second: 2996.1959, train_label_loss: 1.0824, \n"
     ]
    },
    {
     "name": "stdout",
     "output_type": "stream",
     "text": [
      "epoch: 2, [batch: 10080 / 33600], examples_per_second: 2999.8890, train_label_loss: 1.0886, \n"
     ]
    },
    {
     "name": "stdout",
     "output_type": "stream",
     "text": [
      "epoch: 2, [batch: 13440 / 33600], examples_per_second: 2995.8045, train_label_loss: 0.6902, \n"
     ]
    },
    {
     "name": "stdout",
     "output_type": "stream",
     "text": [
      "epoch: 2, [batch: 16800 / 33600], examples_per_second: 3010.2604, train_label_loss: 0.7800, \n"
     ]
    },
    {
     "name": "stdout",
     "output_type": "stream",
     "text": [
      "epoch: 2, [batch: 20160 / 33600], examples_per_second: 3025.5732, train_label_loss: 0.6611, \n"
     ]
    },
    {
     "name": "stdout",
     "output_type": "stream",
     "text": [
      "epoch: 2, [batch: 23520 / 33600], examples_per_second: 2979.9853, train_label_loss: 0.4432, \n"
     ]
    },
    {
     "name": "stdout",
     "output_type": "stream",
     "text": [
      "epoch: 2, [batch: 26880 / 33600], examples_per_second: 3013.7686, train_label_loss: 0.4485, \n"
     ]
    },
    {
     "name": "stdout",
     "output_type": "stream",
     "text": [
      "epoch: 2, [batch: 30240 / 33600], examples_per_second: 3434.9047, train_label_loss: 0.5865, \n"
     ]
    },
    {
     "name": "stdout",
     "output_type": "stream",
     "text": [
      "=============================================================\n",
      "epoch: 2, source_val_acc_label: 0.6810, target_val_acc_label: 0.7199, source_val_label_loss: 0.8464, target_val_label_loss: 6.7948, \n",
      "=============================================================\n"
     ]
    },
    {
     "name": "stdout",
     "output_type": "stream",
     "text": [
      "New best\n"
     ]
    },
    {
     "name": "stdout",
     "output_type": "stream",
     "text": [
      "epoch: 3, [batch: 1 / 33600], examples_per_second: 0.8613, train_label_loss: 0.5230, \n"
     ]
    },
    {
     "name": "stdout",
     "output_type": "stream",
     "text": [
      "epoch: 3, [batch: 3360 / 33600], examples_per_second: 3001.3263, train_label_loss: 1.3281, \n"
     ]
    },
    {
     "name": "stdout",
     "output_type": "stream",
     "text": [
      "epoch: 3, [batch: 6720 / 33600], examples_per_second: 3012.4775, train_label_loss: 0.5841, \n"
     ]
    },
    {
     "name": "stdout",
     "output_type": "stream",
     "text": [
      "epoch: 3, [batch: 10080 / 33600], examples_per_second: 2998.0929, train_label_loss: 1.0036, \n"
     ]
    },
    {
     "name": "stdout",
     "output_type": "stream",
     "text": [
      "epoch: 3, [batch: 13440 / 33600], examples_per_second: 2988.8601, train_label_loss: 0.3975, \n"
     ]
    },
    {
     "name": "stdout",
     "output_type": "stream",
     "text": [
      "epoch: 3, [batch: 16800 / 33600], examples_per_second: 3022.9951, train_label_loss: 0.8489, \n"
     ]
    },
    {
     "name": "stdout",
     "output_type": "stream",
     "text": [
      "epoch: 3, [batch: 20160 / 33600], examples_per_second: 3015.5031, train_label_loss: 1.0391, \n"
     ]
    },
    {
     "name": "stdout",
     "output_type": "stream",
     "text": [
      "epoch: 3, [batch: 23520 / 33600], examples_per_second: 2971.2859, train_label_loss: 0.8301, \n"
     ]
    },
    {
     "name": "stdout",
     "output_type": "stream",
     "text": [
      "epoch: 3, [batch: 26880 / 33600], examples_per_second: 2969.2602, train_label_loss: 0.5120, \n"
     ]
    },
    {
     "name": "stdout",
     "output_type": "stream",
     "text": [
      "epoch: 3, [batch: 30240 / 33600], examples_per_second: 3372.5017, train_label_loss: 0.5773, \n"
     ]
    },
    {
     "name": "stdout",
     "output_type": "stream",
     "text": [
      "=============================================================\n",
      "epoch: 3, source_val_acc_label: 0.7073, target_val_acc_label: 0.7399, source_val_label_loss: 0.7865, target_val_label_loss: 7.4182, \n",
      "=============================================================\n"
     ]
    },
    {
     "name": "stdout",
     "output_type": "stream",
     "text": [
      "New best\n"
     ]
    },
    {
     "name": "stdout",
     "output_type": "stream",
     "text": [
      "epoch: 4, [batch: 1 / 33600], examples_per_second: 0.9159, train_label_loss: 0.5489, \n"
     ]
    },
    {
     "name": "stdout",
     "output_type": "stream",
     "text": [
      "epoch: 4, [batch: 3360 / 33600], examples_per_second: 3025.0398, train_label_loss: 0.7411, \n"
     ]
    },
    {
     "name": "stdout",
     "output_type": "stream",
     "text": [
      "epoch: 4, [batch: 6720 / 33600], examples_per_second: 2990.2017, train_label_loss: 0.6080, \n"
     ]
    },
    {
     "name": "stdout",
     "output_type": "stream",
     "text": [
      "epoch: 4, [batch: 10080 / 33600], examples_per_second: 3009.0355, train_label_loss: 1.0899, \n"
     ]
    },
    {
     "name": "stdout",
     "output_type": "stream",
     "text": [
      "epoch: 4, [batch: 13440 / 33600], examples_per_second: 2985.7817, train_label_loss: 0.8283, \n"
     ]
    },
    {
     "name": "stdout",
     "output_type": "stream",
     "text": [
      "epoch: 4, [batch: 16800 / 33600], examples_per_second: 3021.3731, train_label_loss: 0.7187, \n"
     ]
    },
    {
     "name": "stdout",
     "output_type": "stream",
     "text": [
      "epoch: 4, [batch: 20160 / 33600], examples_per_second: 3033.6633, train_label_loss: 0.2962, \n"
     ]
    },
    {
     "name": "stdout",
     "output_type": "stream",
     "text": [
      "epoch: 4, [batch: 23520 / 33600], examples_per_second: 2992.7938, train_label_loss: 0.7847, \n"
     ]
    },
    {
     "name": "stdout",
     "output_type": "stream",
     "text": [
      "epoch: 4, [batch: 26880 / 33600], examples_per_second: 2992.4929, train_label_loss: 0.8486, \n"
     ]
    },
    {
     "name": "stdout",
     "output_type": "stream",
     "text": [
      "epoch: 4, [batch: 30240 / 33600], examples_per_second: 3199.3047, train_label_loss: 0.6011, \n"
     ]
    },
    {
     "name": "stdout",
     "output_type": "stream",
     "text": [
      "=============================================================\n",
      "epoch: 4, source_val_acc_label: 0.7200, target_val_acc_label: 0.7472, source_val_label_loss: 0.7568, target_val_label_loss: 7.8063, \n",
      "=============================================================\n"
     ]
    },
    {
     "name": "stdout",
     "output_type": "stream",
     "text": [
      "New best\n"
     ]
    },
    {
     "name": "stdout",
     "output_type": "stream",
     "text": [
      "epoch: 5, [batch: 1 / 33600], examples_per_second: 0.9771, train_label_loss: 0.7008, \n"
     ]
    },
    {
     "name": "stdout",
     "output_type": "stream",
     "text": [
      "epoch: 5, [batch: 3360 / 33600], examples_per_second: 3040.2102, train_label_loss: 0.3452, \n"
     ]
    },
    {
     "name": "stdout",
     "output_type": "stream",
     "text": [
      "epoch: 5, [batch: 6720 / 33600], examples_per_second: 3023.8160, train_label_loss: 0.5399, \n"
     ]
    },
    {
     "name": "stdout",
     "output_type": "stream",
     "text": [
      "epoch: 5, [batch: 10080 / 33600], examples_per_second: 3042.4754, train_label_loss: 0.8634, \n"
     ]
    },
    {
     "name": "stdout",
     "output_type": "stream",
     "text": [
      "epoch: 5, [batch: 13440 / 33600], examples_per_second: 3018.3231, train_label_loss: 0.9193, \n"
     ]
    },
    {
     "name": "stdout",
     "output_type": "stream",
     "text": [
      "epoch: 5, [batch: 16800 / 33600], examples_per_second: 3013.9833, train_label_loss: 0.8010, \n"
     ]
    },
    {
     "name": "stdout",
     "output_type": "stream",
     "text": [
      "epoch: 5, [batch: 20160 / 33600], examples_per_second: 3030.8508, train_label_loss: 0.7030, \n"
     ]
    },
    {
     "name": "stdout",
     "output_type": "stream",
     "text": [
      "epoch: 5, [batch: 23520 / 33600], examples_per_second: 3019.7870, train_label_loss: 0.5468, \n"
     ]
    },
    {
     "name": "stdout",
     "output_type": "stream",
     "text": [
      "epoch: 5, [batch: 26880 / 33600], examples_per_second: 2995.2848, train_label_loss: 0.5617, \n"
     ]
    },
    {
     "name": "stdout",
     "output_type": "stream",
     "text": [
      "epoch: 5, [batch: 30240 / 33600], examples_per_second: 3007.5917, train_label_loss: 0.8268, \n"
     ]
    },
    {
     "name": "stdout",
     "output_type": "stream",
     "text": [
      "=============================================================\n",
      "epoch: 5, source_val_acc_label: 0.7282, target_val_acc_label: 0.7588, source_val_label_loss: 0.7432, target_val_label_loss: 8.6023, \n",
      "=============================================================\n"
     ]
    },
    {
     "name": "stdout",
     "output_type": "stream",
     "text": [
      "New best\n"
     ]
    },
    {
     "name": "stdout",
     "output_type": "stream",
     "text": [
      "epoch: 6, [batch: 1 / 33600], examples_per_second: 1.0010, train_label_loss: 0.4747, \n"
     ]
    },
    {
     "name": "stdout",
     "output_type": "stream",
     "text": [
      "epoch: 6, [batch: 3360 / 33600], examples_per_second: 3011.9255, train_label_loss: 0.3218, \n"
     ]
    },
    {
     "name": "stdout",
     "output_type": "stream",
     "text": [
      "epoch: 6, [batch: 6720 / 33600], examples_per_second: 3039.9865, train_label_loss: 0.8327, \n"
     ]
    },
    {
     "name": "stdout",
     "output_type": "stream",
     "text": [
      "epoch: 6, [batch: 10080 / 33600], examples_per_second: 3001.9698, train_label_loss: 1.0159, \n"
     ]
    },
    {
     "name": "stdout",
     "output_type": "stream",
     "text": [
      "epoch: 6, [batch: 13440 / 33600], examples_per_second: 3000.1994, train_label_loss: 0.7903, \n"
     ]
    },
    {
     "name": "stdout",
     "output_type": "stream",
     "text": [
      "epoch: 6, [batch: 16800 / 33600], examples_per_second: 3010.5480, train_label_loss: 0.5357, \n"
     ]
    },
    {
     "name": "stdout",
     "output_type": "stream",
     "text": [
      "epoch: 6, [batch: 20160 / 33600], examples_per_second: 3024.4767, train_label_loss: 0.5750, \n"
     ]
    },
    {
     "name": "stdout",
     "output_type": "stream",
     "text": [
      "epoch: 6, [batch: 23520 / 33600], examples_per_second: 2980.5081, train_label_loss: 0.4028, \n"
     ]
    },
    {
     "name": "stdout",
     "output_type": "stream",
     "text": [
      "epoch: 6, [batch: 26880 / 33600], examples_per_second: 2985.2540, train_label_loss: 0.6268, \n"
     ]
    },
    {
     "name": "stdout",
     "output_type": "stream",
     "text": [
      "epoch: 6, [batch: 30240 / 33600], examples_per_second: 2994.4799, train_label_loss: 0.1503, \n"
     ]
    },
    {
     "name": "stdout",
     "output_type": "stream",
     "text": [
      "=============================================================\n",
      "epoch: 6, source_val_acc_label: 0.7343, target_val_acc_label: 0.7636, source_val_label_loss: 0.7412, target_val_label_loss: 9.0047, \n",
      "=============================================================\n"
     ]
    },
    {
     "name": "stdout",
     "output_type": "stream",
     "text": [
      "New best\n"
     ]
    },
    {
     "name": "stdout",
     "output_type": "stream",
     "text": [
      "epoch: 7, [batch: 1 / 33600], examples_per_second: 0.9597, train_label_loss: 0.3600, \n"
     ]
    },
    {
     "name": "stdout",
     "output_type": "stream",
     "text": [
      "epoch: 7, [batch: 3360 / 33600], examples_per_second: 3001.0398, train_label_loss: 0.4629, \n"
     ]
    },
    {
     "name": "stdout",
     "output_type": "stream",
     "text": [
      "epoch: 7, [batch: 6720 / 33600], examples_per_second: 2972.0996, train_label_loss: 0.9868, \n"
     ]
    },
    {
     "name": "stdout",
     "output_type": "stream",
     "text": [
      "epoch: 7, [batch: 10080 / 33600], examples_per_second: 2976.9877, train_label_loss: 0.5573, \n"
     ]
    },
    {
     "name": "stdout",
     "output_type": "stream",
     "text": [
      "epoch: 7, [batch: 13440 / 33600], examples_per_second: 2981.1389, train_label_loss: 0.6559, \n"
     ]
    },
    {
     "name": "stdout",
     "output_type": "stream",
     "text": [
      "epoch: 7, [batch: 16800 / 33600], examples_per_second: 3001.2241, train_label_loss: 0.7452, \n"
     ]
    },
    {
     "name": "stdout",
     "output_type": "stream",
     "text": [
      "epoch: 7, [batch: 20160 / 33600], examples_per_second: 2984.6380, train_label_loss: 0.3943, \n"
     ]
    },
    {
     "name": "stdout",
     "output_type": "stream",
     "text": [
      "epoch: 7, [batch: 23520 / 33600], examples_per_second: 3006.9525, train_label_loss: 0.5263, \n"
     ]
    },
    {
     "name": "stdout",
     "output_type": "stream",
     "text": [
      "epoch: 7, [batch: 26880 / 33600], examples_per_second: 2984.7270, train_label_loss: 0.5167, \n"
     ]
    },
    {
     "name": "stdout",
     "output_type": "stream",
     "text": [
      "epoch: 7, [batch: 30240 / 33600], examples_per_second: 2987.4976, train_label_loss: 0.8114, \n"
     ]
    },
    {
     "name": "stdout",
     "output_type": "stream",
     "text": [
      "=============================================================\n",
      "epoch: 7, source_val_acc_label: 0.7361, target_val_acc_label: 0.7641, source_val_label_loss: 0.7414, target_val_label_loss: 9.1578, \n",
      "=============================================================\n"
     ]
    },
    {
     "name": "stdout",
     "output_type": "stream",
     "text": [
      "New best\n"
     ]
    },
    {
     "name": "stdout",
     "output_type": "stream",
     "text": [
      "epoch: 8, [batch: 1 / 33600], examples_per_second: 0.9088, train_label_loss: 0.6302, \n"
     ]
    },
    {
     "name": "stdout",
     "output_type": "stream",
     "text": [
      "epoch: 8, [batch: 3360 / 33600], examples_per_second: 2977.8014, train_label_loss: 0.5059, \n"
     ]
    },
    {
     "name": "stdout",
     "output_type": "stream",
     "text": [
      "epoch: 8, [batch: 6720 / 33600], examples_per_second: 2991.4792, train_label_loss: 0.1955, \n"
     ]
    },
    {
     "name": "stdout",
     "output_type": "stream",
     "text": [
      "epoch: 8, [batch: 10080 / 33600], examples_per_second: 3028.8382, train_label_loss: 0.6842, \n"
     ]
    },
    {
     "name": "stdout",
     "output_type": "stream",
     "text": [
      "epoch: 8, [batch: 13440 / 33600], examples_per_second: 2985.1383, train_label_loss: 0.5535, \n"
     ]
    },
    {
     "name": "stdout",
     "output_type": "stream",
     "text": [
      "epoch: 8, [batch: 16800 / 33600], examples_per_second: 3000.8340, train_label_loss: 0.2425, \n"
     ]
    },
    {
     "name": "stdout",
     "output_type": "stream",
     "text": [
      "epoch: 8, [batch: 20160 / 33600], examples_per_second: 2981.7595, train_label_loss: 0.1815, \n"
     ]
    },
    {
     "name": "stdout",
     "output_type": "stream",
     "text": [
      "epoch: 8, [batch: 23520 / 33600], examples_per_second: 2990.5247, train_label_loss: 0.1939, \n"
     ]
    },
    {
     "name": "stdout",
     "output_type": "stream",
     "text": [
      "epoch: 8, [batch: 26880 / 33600], examples_per_second: 3018.6056, train_label_loss: 0.5198, \n"
     ]
    },
    {
     "name": "stdout",
     "output_type": "stream",
     "text": [
      "epoch: 8, [batch: 30240 / 33600], examples_per_second: 3028.5178, train_label_loss: 0.5175, \n"
     ]
    },
    {
     "name": "stdout",
     "output_type": "stream",
     "text": [
      "=============================================================\n",
      "epoch: 8, source_val_acc_label: 0.7356, target_val_acc_label: 0.7696, source_val_label_loss: 0.7566, target_val_label_loss: 9.8109, \n",
      "=============================================================\n"
     ]
    },
    {
     "name": "stdout",
     "output_type": "stream",
     "text": [
      "New best\n"
     ]
    },
    {
     "name": "stdout",
     "output_type": "stream",
     "text": [
      "epoch: 9, [batch: 1 / 33600], examples_per_second: 0.8746, train_label_loss: 0.3432, \n"
     ]
    },
    {
     "name": "stdout",
     "output_type": "stream",
     "text": [
      "epoch: 9, [batch: 3360 / 33600], examples_per_second: 3010.6202, train_label_loss: 0.5347, \n"
     ]
    },
    {
     "name": "stdout",
     "output_type": "stream",
     "text": [
      "epoch: 9, [batch: 6720 / 33600], examples_per_second: 3039.9320, train_label_loss: 0.3715, \n"
     ]
    },
    {
     "name": "stdout",
     "output_type": "stream",
     "text": [
      "epoch: 9, [batch: 10080 / 33600], examples_per_second: 3062.4170, train_label_loss: 0.3644, \n"
     ]
    },
    {
     "name": "stdout",
     "output_type": "stream",
     "text": [
      "epoch: 9, [batch: 13440 / 33600], examples_per_second: 2989.8233, train_label_loss: 0.4346, \n"
     ]
    },
    {
     "name": "stdout",
     "output_type": "stream",
     "text": [
      "epoch: 9, [batch: 16800 / 33600], examples_per_second: 3027.6388, train_label_loss: 0.3056, \n"
     ]
    },
    {
     "name": "stdout",
     "output_type": "stream",
     "text": [
      "epoch: 9, [batch: 20160 / 33600], examples_per_second: 2990.4622, train_label_loss: 0.2608, \n"
     ]
    },
    {
     "name": "stdout",
     "output_type": "stream",
     "text": [
      "epoch: 9, [batch: 23520 / 33600], examples_per_second: 2984.9041, train_label_loss: 0.3043, \n"
     ]
    },
    {
     "name": "stdout",
     "output_type": "stream",
     "text": [
      "epoch: 9, [batch: 26880 / 33600], examples_per_second: 2999.1327, train_label_loss: 0.3956, \n"
     ]
    },
    {
     "name": "stdout",
     "output_type": "stream",
     "text": [
      "epoch: 9, [batch: 30240 / 33600], examples_per_second: 2986.9436, train_label_loss: 0.3400, \n"
     ]
    },
    {
     "name": "stdout",
     "output_type": "stream",
     "text": [
      "=============================================================\n",
      "epoch: 9, source_val_acc_label: 0.7347, target_val_acc_label: 0.7738, source_val_label_loss: 0.7594, target_val_label_loss: 10.1313, \n",
      "=============================================================\n"
     ]
    },
    {
     "name": "stdout",
     "output_type": "stream",
     "text": [
      "New best\n"
     ]
    },
    {
     "name": "stdout",
     "output_type": "stream",
     "text": [
      "epoch: 10, [batch: 1 / 33600], examples_per_second: 0.8587, train_label_loss: 0.2774, \n"
     ]
    },
    {
     "name": "stdout",
     "output_type": "stream",
     "text": [
      "epoch: 10, [batch: 3360 / 33600], examples_per_second: 3095.3252, train_label_loss: 0.4394, \n"
     ]
    },
    {
     "name": "stdout",
     "output_type": "stream",
     "text": [
      "epoch: 10, [batch: 6720 / 33600], examples_per_second: 2987.9520, train_label_loss: 0.5915, \n"
     ]
    },
    {
     "name": "stdout",
     "output_type": "stream",
     "text": [
      "epoch: 10, [batch: 10080 / 33600], examples_per_second: 2990.2031, train_label_loss: 0.7373, \n"
     ]
    },
    {
     "name": "stdout",
     "output_type": "stream",
     "text": [
      "epoch: 10, [batch: 13440 / 33600], examples_per_second: 2970.6418, train_label_loss: 0.5143, \n"
     ]
    },
    {
     "name": "stdout",
     "output_type": "stream",
     "text": [
      "epoch: 10, [batch: 16800 / 33600], examples_per_second: 2974.8736, train_label_loss: 0.2638, \n"
     ]
    },
    {
     "name": "stdout",
     "output_type": "stream",
     "text": [
      "epoch: 10, [batch: 20160 / 33600], examples_per_second: 2976.9258, train_label_loss: 0.1992, \n"
     ]
    },
    {
     "name": "stdout",
     "output_type": "stream",
     "text": [
      "epoch: 10, [batch: 23520 / 33600], examples_per_second: 2963.4428, train_label_loss: 0.1731, \n"
     ]
    },
    {
     "name": "stdout",
     "output_type": "stream",
     "text": [
      "epoch: 10, [batch: 26880 / 33600], examples_per_second: 3000.1756, train_label_loss: 0.6306, \n"
     ]
    },
    {
     "name": "stdout",
     "output_type": "stream",
     "text": [
      "epoch: 10, [batch: 30240 / 33600], examples_per_second: 3035.9129, train_label_loss: 0.3265, \n"
     ]
    },
    {
     "name": "stdout",
     "output_type": "stream",
     "text": [
      "=============================================================\n",
      "epoch: 10, source_val_acc_label: 0.7290, target_val_acc_label: 0.7753, source_val_label_loss: 0.7870, target_val_label_loss: 10.5815, \n",
      "=============================================================\n"
     ]
    },
    {
     "name": "stdout",
     "output_type": "stream",
     "text": [
      "New best\n"
     ]
    },
    {
     "name": "stdout",
     "output_type": "stream",
     "text": [
      "epoch: 11, [batch: 1 / 33600], examples_per_second: 0.8635, train_label_loss: 0.6979, \n"
     ]
    },
    {
     "name": "stdout",
     "output_type": "stream",
     "text": [
      "epoch: 11, [batch: 3360 / 33600], examples_per_second: 3080.0510, train_label_loss: 0.3020, \n"
     ]
    },
    {
     "name": "stdout",
     "output_type": "stream",
     "text": [
      "epoch: 11, [batch: 6720 / 33600], examples_per_second: 3013.5809, train_label_loss: 0.1606, \n"
     ]
    },
    {
     "name": "stdout",
     "output_type": "stream",
     "text": [
      "epoch: 11, [batch: 10080 / 33600], examples_per_second: 2979.8745, train_label_loss: 0.7256, \n"
     ]
    },
    {
     "name": "stdout",
     "output_type": "stream",
     "text": [
      "epoch: 11, [batch: 13440 / 33600], examples_per_second: 3019.1498, train_label_loss: 0.2521, \n"
     ]
    },
    {
     "name": "stdout",
     "output_type": "stream",
     "text": [
      "epoch: 11, [batch: 16800 / 33600], examples_per_second: 3019.6198, train_label_loss: 0.0862, \n"
     ]
    },
    {
     "name": "stdout",
     "output_type": "stream",
     "text": [
      "epoch: 11, [batch: 20160 / 33600], examples_per_second: 2992.8564, train_label_loss: 0.1360, \n"
     ]
    },
    {
     "name": "stdout",
     "output_type": "stream",
     "text": [
      "epoch: 11, [batch: 23520 / 33600], examples_per_second: 2974.2522, train_label_loss: 0.3396, \n"
     ]
    },
    {
     "name": "stdout",
     "output_type": "stream",
     "text": [
      "epoch: 11, [batch: 26880 / 33600], examples_per_second: 3020.0910, train_label_loss: 0.1905, \n"
     ]
    },
    {
     "name": "stdout",
     "output_type": "stream",
     "text": [
      "epoch: 11, [batch: 30240 / 33600], examples_per_second: 3013.6753, train_label_loss: 0.7702, \n"
     ]
    },
    {
     "name": "stdout",
     "output_type": "stream",
     "text": [
      "=============================================================\n",
      "epoch: 11, source_val_acc_label: 0.7314, target_val_acc_label: 0.7743, source_val_label_loss: 0.8058, target_val_label_loss: 10.9391, \n",
      "=============================================================\n"
     ]
    },
    {
     "name": "stdout",
     "output_type": "stream",
     "text": [
      "epoch: 12, [batch: 1 / 33600], examples_per_second: 0.8476, train_label_loss: 0.2460, \n"
     ]
    },
    {
     "name": "stdout",
     "output_type": "stream",
     "text": [
      "epoch: 12, [batch: 3360 / 33600], examples_per_second: 2993.4381, train_label_loss: 0.5226, \n"
     ]
    },
    {
     "name": "stdout",
     "output_type": "stream",
     "text": [
      "epoch: 12, [batch: 6720 / 33600], examples_per_second: 3002.1287, train_label_loss: 0.1986, \n"
     ]
    },
    {
     "name": "stdout",
     "output_type": "stream",
     "text": [
      "epoch: 12, [batch: 10080 / 33600], examples_per_second: 3018.5675, train_label_loss: 0.1579, \n"
     ]
    },
    {
     "name": "stdout",
     "output_type": "stream",
     "text": [
      "epoch: 12, [batch: 13440 / 33600], examples_per_second: 2958.2432, train_label_loss: 0.2575, \n"
     ]
    },
    {
     "name": "stdout",
     "output_type": "stream",
     "text": [
      "epoch: 12, [batch: 16800 / 33600], examples_per_second: 3023.3467, train_label_loss: 0.3119, \n"
     ]
    },
    {
     "name": "stdout",
     "output_type": "stream",
     "text": [
      "epoch: 12, [batch: 20160 / 33600], examples_per_second: 2984.3140, train_label_loss: 0.2932, \n"
     ]
    },
    {
     "name": "stdout",
     "output_type": "stream",
     "text": [
      "epoch: 12, [batch: 23520 / 33600], examples_per_second: 2988.9783, train_label_loss: 0.1907, \n"
     ]
    },
    {
     "name": "stdout",
     "output_type": "stream",
     "text": [
      "epoch: 12, [batch: 26880 / 33600], examples_per_second: 3022.3948, train_label_loss: 0.3353, \n"
     ]
    },
    {
     "name": "stdout",
     "output_type": "stream",
     "text": [
      "epoch: 12, [batch: 30240 / 33600], examples_per_second: 3010.0451, train_label_loss: 0.3236, \n"
     ]
    },
    {
     "name": "stdout",
     "output_type": "stream",
     "text": [
      "=============================================================\n",
      "epoch: 12, source_val_acc_label: 0.7321, target_val_acc_label: 0.7764, source_val_label_loss: 0.8402, target_val_label_loss: 11.2269, \n",
      "=============================================================\n"
     ]
    },
    {
     "name": "stdout",
     "output_type": "stream",
     "text": [
      "New best\n"
     ]
    },
    {
     "name": "stdout",
     "output_type": "stream",
     "text": [
      "epoch: 13, [batch: 1 / 33600], examples_per_second: 0.8532, train_label_loss: 0.1342, \n"
     ]
    },
    {
     "name": "stdout",
     "output_type": "stream",
     "text": [
      "epoch: 13, [batch: 3360 / 33600], examples_per_second: 3068.7259, train_label_loss: 0.7800, \n"
     ]
    },
    {
     "name": "stdout",
     "output_type": "stream",
     "text": [
      "epoch: 13, [batch: 6720 / 33600], examples_per_second: 3019.2012, train_label_loss: 0.4657, \n"
     ]
    },
    {
     "name": "stdout",
     "output_type": "stream",
     "text": [
      "epoch: 13, [batch: 10080 / 33600], examples_per_second: 2989.6117, train_label_loss: 0.2470, \n"
     ]
    },
    {
     "name": "stdout",
     "output_type": "stream",
     "text": [
      "epoch: 13, [batch: 13440 / 33600], examples_per_second: 2968.3201, train_label_loss: 0.3630, \n"
     ]
    },
    {
     "name": "stdout",
     "output_type": "stream",
     "text": [
      "epoch: 13, [batch: 16800 / 33600], examples_per_second: 2970.3575, train_label_loss: 0.1690, \n"
     ]
    },
    {
     "name": "stdout",
     "output_type": "stream",
     "text": [
      "epoch: 13, [batch: 20160 / 33600], examples_per_second: 2959.9478, train_label_loss: 0.4112, \n"
     ]
    },
    {
     "name": "stdout",
     "output_type": "stream",
     "text": [
      "epoch: 13, [batch: 23520 / 33600], examples_per_second: 2990.7427, train_label_loss: 0.1460, \n"
     ]
    },
    {
     "name": "stdout",
     "output_type": "stream",
     "text": [
      "epoch: 13, [batch: 26880 / 33600], examples_per_second: 3015.0787, train_label_loss: 0.1845, \n"
     ]
    },
    {
     "name": "stdout",
     "output_type": "stream",
     "text": [
      "epoch: 13, [batch: 30240 / 33600], examples_per_second: 3013.5561, train_label_loss: 0.6357, \n"
     ]
    },
    {
     "name": "stdout",
     "output_type": "stream",
     "text": [
      "=============================================================\n",
      "epoch: 13, source_val_acc_label: 0.7307, target_val_acc_label: 0.7719, source_val_label_loss: 0.8663, target_val_label_loss: 12.0518, \n",
      "=============================================================\n"
     ]
    },
    {
     "name": "stdout",
     "output_type": "stream",
     "text": [
      "epoch: 14, [batch: 1 / 33600], examples_per_second: 0.8567, train_label_loss: 0.4994, \n"
     ]
    },
    {
     "name": "stdout",
     "output_type": "stream",
     "text": [
      "epoch: 14, [batch: 3360 / 33600], examples_per_second: 3095.7477, train_label_loss: 0.1361, \n"
     ]
    },
    {
     "name": "stdout",
     "output_type": "stream",
     "text": [
      "epoch: 14, [batch: 6720 / 33600], examples_per_second: 3038.3839, train_label_loss: 0.1820, \n"
     ]
    },
    {
     "name": "stdout",
     "output_type": "stream",
     "text": [
      "epoch: 14, [batch: 10080 / 33600], examples_per_second: 2984.7373, train_label_loss: 0.5424, \n"
     ]
    },
    {
     "name": "stdout",
     "output_type": "stream",
     "text": [
      "epoch: 14, [batch: 13440 / 33600], examples_per_second: 2997.1086, train_label_loss: 0.3281, \n"
     ]
    },
    {
     "name": "stdout",
     "output_type": "stream",
     "text": [
      "epoch: 14, [batch: 16800 / 33600], examples_per_second: 3020.8234, train_label_loss: 0.1754, \n"
     ]
    },
    {
     "name": "stdout",
     "output_type": "stream",
     "text": [
      "epoch: 14, [batch: 20160 / 33600], examples_per_second: 2992.2837, train_label_loss: 0.6421, \n"
     ]
    },
    {
     "name": "stdout",
     "output_type": "stream",
     "text": [
      "epoch: 14, [batch: 23520 / 33600], examples_per_second: 2993.9248, train_label_loss: 0.1456, \n"
     ]
    },
    {
     "name": "stdout",
     "output_type": "stream",
     "text": [
      "epoch: 14, [batch: 26880 / 33600], examples_per_second: 2985.1610, train_label_loss: 0.3677, \n"
     ]
    },
    {
     "name": "stdout",
     "output_type": "stream",
     "text": [
      "epoch: 14, [batch: 30240 / 33600], examples_per_second: 2983.9346, train_label_loss: 0.2049, \n"
     ]
    },
    {
     "name": "stdout",
     "output_type": "stream",
     "text": [
      "=============================================================\n",
      "epoch: 14, source_val_acc_label: 0.7205, target_val_acc_label: 0.7819, source_val_label_loss: 0.8782, target_val_label_loss: 11.9194, \n",
      "=============================================================\n"
     ]
    },
    {
     "name": "stdout",
     "output_type": "stream",
     "text": [
      "New best\n"
     ]
    },
    {
     "name": "stdout",
     "output_type": "stream",
     "text": [
      "epoch: 15, [batch: 1 / 33600], examples_per_second: 0.8449, train_label_loss: 0.3057, \n"
     ]
    },
    {
     "name": "stdout",
     "output_type": "stream",
     "text": [
      "epoch: 15, [batch: 3360 / 33600], examples_per_second: 3024.1540, train_label_loss: 0.7898, \n"
     ]
    },
    {
     "name": "stdout",
     "output_type": "stream",
     "text": [
      "epoch: 15, [batch: 6720 / 33600], examples_per_second: 3004.1916, train_label_loss: 0.4015, \n"
     ]
    },
    {
     "name": "stdout",
     "output_type": "stream",
     "text": [
      "epoch: 15, [batch: 10080 / 33600], examples_per_second: 3004.1245, train_label_loss: 0.5012, \n"
     ]
    },
    {
     "name": "stdout",
     "output_type": "stream",
     "text": [
      "epoch: 15, [batch: 13440 / 33600], examples_per_second: 2968.2146, train_label_loss: 0.4325, \n"
     ]
    },
    {
     "name": "stdout",
     "output_type": "stream",
     "text": [
      "epoch: 15, [batch: 16800 / 33600], examples_per_second: 3031.9756, train_label_loss: 0.1911, \n"
     ]
    },
    {
     "name": "stdout",
     "output_type": "stream",
     "text": [
      "epoch: 15, [batch: 20160 / 33600], examples_per_second: 3006.5064, train_label_loss: 0.1932, \n"
     ]
    },
    {
     "name": "stdout",
     "output_type": "stream",
     "text": [
      "epoch: 15, [batch: 23520 / 33600], examples_per_second: 2982.4707, train_label_loss: 0.4302, \n"
     ]
    },
    {
     "name": "stdout",
     "output_type": "stream",
     "text": [
      "epoch: 15, [batch: 26880 / 33600], examples_per_second: 2997.5384, train_label_loss: 0.1387, \n"
     ]
    },
    {
     "name": "stdout",
     "output_type": "stream",
     "text": [
      "epoch: 15, [batch: 30240 / 33600], examples_per_second: 3007.6014, train_label_loss: 0.1305, \n"
     ]
    },
    {
     "name": "stdout",
     "output_type": "stream",
     "text": [
      "=============================================================\n",
      "epoch: 15, source_val_acc_label: 0.7263, target_val_acc_label: 0.7739, source_val_label_loss: 0.9121, target_val_label_loss: 12.8903, \n",
      "=============================================================\n"
     ]
    },
    {
     "name": "stdout",
     "output_type": "stream",
     "text": [
      "epoch: 16, [batch: 1 / 33600], examples_per_second: 0.8415, train_label_loss: 0.2135, \n"
     ]
    },
    {
     "name": "stdout",
     "output_type": "stream",
     "text": [
      "epoch: 16, [batch: 3360 / 33600], examples_per_second: 3028.0065, train_label_loss: 0.1395, \n"
     ]
    },
    {
     "name": "stdout",
     "output_type": "stream",
     "text": [
      "epoch: 16, [batch: 6720 / 33600], examples_per_second: 3001.5774, train_label_loss: 0.3400, \n"
     ]
    },
    {
     "name": "stdout",
     "output_type": "stream",
     "text": [
      "epoch: 16, [batch: 10080 / 33600], examples_per_second: 3008.3555, train_label_loss: 0.2827, \n"
     ]
    },
    {
     "name": "stdout",
     "output_type": "stream",
     "text": [
      "epoch: 16, [batch: 13440 / 33600], examples_per_second: 2991.1901, train_label_loss: 0.1799, \n"
     ]
    },
    {
     "name": "stdout",
     "output_type": "stream",
     "text": [
      "epoch: 16, [batch: 16800 / 33600], examples_per_second: 2999.6383, train_label_loss: 0.2291, \n"
     ]
    },
    {
     "name": "stdout",
     "output_type": "stream",
     "text": [
      "epoch: 16, [batch: 20160 / 33600], examples_per_second: 3027.8825, train_label_loss: 0.2586, \n"
     ]
    },
    {
     "name": "stdout",
     "output_type": "stream",
     "text": [
      "epoch: 16, [batch: 23520 / 33600], examples_per_second: 2973.2860, train_label_loss: 0.2583, \n"
     ]
    },
    {
     "name": "stdout",
     "output_type": "stream",
     "text": [
      "epoch: 16, [batch: 26880 / 33600], examples_per_second: 3006.8677, train_label_loss: 0.3214, \n"
     ]
    },
    {
     "name": "stdout",
     "output_type": "stream",
     "text": [
      "epoch: 16, [batch: 30240 / 33600], examples_per_second: 3030.8524, train_label_loss: 0.2672, \n"
     ]
    },
    {
     "name": "stdout",
     "output_type": "stream",
     "text": [
      "=============================================================\n",
      "epoch: 16, source_val_acc_label: 0.7218, target_val_acc_label: 0.7776, source_val_label_loss: 0.9373, target_val_label_loss: 13.1331, \n",
      "=============================================================\n"
     ]
    },
    {
     "name": "stdout",
     "output_type": "stream",
     "text": [
      "epoch: 17, [batch: 1 / 33600], examples_per_second: 0.8357, train_label_loss: 0.3547, \n"
     ]
    },
    {
     "name": "stdout",
     "output_type": "stream",
     "text": [
      "epoch: 17, [batch: 3360 / 33600], examples_per_second: 3098.8299, train_label_loss: 0.2897, \n"
     ]
    },
    {
     "name": "stdout",
     "output_type": "stream",
     "text": [
      "epoch: 17, [batch: 6720 / 33600], examples_per_second: 3048.5388, train_label_loss: 0.2790, \n"
     ]
    },
    {
     "name": "stdout",
     "output_type": "stream",
     "text": [
      "epoch: 17, [batch: 10080 / 33600], examples_per_second: 2985.9301, train_label_loss: 0.2170, \n"
     ]
    },
    {
     "name": "stdout",
     "output_type": "stream",
     "text": [
      "epoch: 17, [batch: 13440 / 33600], examples_per_second: 2976.2304, train_label_loss: 0.1831, \n"
     ]
    },
    {
     "name": "stdout",
     "output_type": "stream",
     "text": [
      "epoch: 17, [batch: 16800 / 33600], examples_per_second: 3013.2521, train_label_loss: 0.2053, \n"
     ]
    },
    {
     "name": "stdout",
     "output_type": "stream",
     "text": [
      "epoch: 17, [batch: 20160 / 33600], examples_per_second: 3022.2997, train_label_loss: 0.1850, \n"
     ]
    },
    {
     "name": "stdout",
     "output_type": "stream",
     "text": [
      "epoch: 17, [batch: 23520 / 33600], examples_per_second: 2960.0596, train_label_loss: 0.3341, \n"
     ]
    },
    {
     "name": "stdout",
     "output_type": "stream",
     "text": [
      "epoch: 17, [batch: 26880 / 33600], examples_per_second: 3007.8686, train_label_loss: 0.2457, \n"
     ]
    },
    {
     "name": "stdout",
     "output_type": "stream",
     "text": [
      "epoch: 17, [batch: 30240 / 33600], examples_per_second: 2993.8032, train_label_loss: 0.2161, \n"
     ]
    },
    {
     "name": "stdout",
     "output_type": "stream",
     "text": [
      "=============================================================\n",
      "epoch: 17, source_val_acc_label: 0.7214, target_val_acc_label: 0.7776, source_val_label_loss: 0.9498, target_val_label_loss: 13.6123, \n",
      "=============================================================\n"
     ]
    },
    {
     "name": "stdout",
     "output_type": "stream",
     "text": [
      "epoch: 18, [batch: 1 / 33600], examples_per_second: 0.8318, train_label_loss: 0.5252, \n"
     ]
    },
    {
     "name": "stdout",
     "output_type": "stream",
     "text": [
      "epoch: 18, [batch: 3360 / 33600], examples_per_second: 3481.5246, train_label_loss: 0.5480, \n"
     ]
    },
    {
     "name": "stdout",
     "output_type": "stream",
     "text": [
      "epoch: 18, [batch: 6720 / 33600], examples_per_second: 3507.1917, train_label_loss: 0.0589, \n"
     ]
    },
    {
     "name": "stdout",
     "output_type": "stream",
     "text": [
      "epoch: 18, [batch: 10080 / 33600], examples_per_second: 3428.6107, train_label_loss: 0.1184, \n"
     ]
    },
    {
     "name": "stdout",
     "output_type": "stream",
     "text": [
      "epoch: 18, [batch: 13440 / 33600], examples_per_second: 3363.2496, train_label_loss: 0.2377, \n"
     ]
    },
    {
     "name": "stdout",
     "output_type": "stream",
     "text": [
      "epoch: 18, [batch: 16800 / 33600], examples_per_second: 3736.3403, train_label_loss: 0.1404, \n"
     ]
    },
    {
     "name": "stdout",
     "output_type": "stream",
     "text": [
      "epoch: 18, [batch: 20160 / 33600], examples_per_second: 4011.5342, train_label_loss: 0.1991, \n"
     ]
    },
    {
     "name": "stdout",
     "output_type": "stream",
     "text": [
      "epoch: 18, [batch: 23520 / 33600], examples_per_second: 3935.0381, train_label_loss: 0.0401, \n"
     ]
    },
    {
     "name": "stdout",
     "output_type": "stream",
     "text": [
      "epoch: 18, [batch: 26880 / 33600], examples_per_second: 3952.4545, train_label_loss: 0.3220, \n"
     ]
    },
    {
     "name": "stdout",
     "output_type": "stream",
     "text": [
      "epoch: 18, [batch: 30240 / 33600], examples_per_second: 3915.7678, train_label_loss: 0.1430, \n"
     ]
    },
    {
     "name": "stdout",
     "output_type": "stream",
     "text": [
      "=============================================================\n",
      "epoch: 18, source_val_acc_label: 0.7193, target_val_acc_label: 0.7793, source_val_label_loss: 0.9747, target_val_label_loss: 13.6519, \n",
      "=============================================================\n"
     ]
    },
    {
     "name": "stdout",
     "output_type": "stream",
     "text": [
      "Patience (3) exhausted\n"
     ]
    }
   ],
   "source": [
    "###################################\n",
    "# train\n",
    "###################################\n",
    "jig = PTN_Train_Eval_Test_Jig(model, p.BEST_MODEL_PATH, p.device)\n",
    "\n",
    "jig.train(\n",
    "    train_iterable=datasets.source.processed.train,\n",
    "    source_val_iterable=datasets.source.processed.val,\n",
    "    target_val_iterable=datasets.target.processed.val,\n",
    "    num_epochs=p.n_epoch,\n",
    "    num_logs_per_epoch=p.NUM_LOGS_PER_EPOCH,\n",
    "    patience=p.patience,\n",
    "    optimizer=optimizer,\n",
    "    criteria_for_best=p.criteria_for_best,\n",
    ")"
   ]
  },
  {
   "cell_type": "code",
   "execution_count": 23,
   "id": "31e8fabf",
   "metadata": {
    "execution": {
     "iopub.execute_input": "2022-03-23T22:14:25.497017Z",
     "iopub.status.busy": "2022-03-23T22:14:25.496508Z",
     "iopub.status.idle": "2022-03-23T22:14:25.530754Z",
     "shell.execute_reply": "2022-03-23T22:14:25.530053Z"
    },
    "papermill": {
     "duration": 0.114379,
     "end_time": "2022-03-23T22:14:25.530915",
     "exception": false,
     "start_time": "2022-03-23T22:14:25.416536",
     "status": "completed"
    },
    "tags": []
   },
   "outputs": [],
   "source": [
    "total_experiment_time_secs = time.time() - start_time_secs"
   ]
  },
  {
   "cell_type": "code",
   "execution_count": 24,
   "id": "87b9595b",
   "metadata": {
    "execution": {
     "iopub.execute_input": "2022-03-23T22:14:25.699709Z",
     "iopub.status.busy": "2022-03-23T22:14:25.696516Z",
     "iopub.status.idle": "2022-03-23T22:24:38.410101Z",
     "shell.execute_reply": "2022-03-23T22:24:38.408916Z"
    },
    "papermill": {
     "duration": 612.798798,
     "end_time": "2022-03-23T22:24:38.410296",
     "exception": false,
     "start_time": "2022-03-23T22:14:25.611498",
     "status": "completed"
    },
    "tags": []
   },
   "outputs": [],
   "source": [
    "###################################\n",
    "# Evaluate the model\n",
    "###################################\n",
    "source_test_label_accuracy, source_test_label_loss = jig.test(datasets.source.processed.test)\n",
    "target_test_label_accuracy, target_test_label_loss = jig.test(datasets.target.processed.test)\n",
    "\n",
    "source_val_label_accuracy, source_val_label_loss = jig.test(datasets.source.processed.val)\n",
    "target_val_label_accuracy, target_val_label_loss = jig.test(datasets.target.processed.val)\n",
    "\n",
    "history = jig.get_history()\n",
    "\n",
    "total_epochs_trained = len(history[\"epoch_indices\"])\n",
    "\n",
    "val_dl = Iterable_Aggregator((datasets.source.original.val,datasets.target.original.val))\n",
    "\n",
    "confusion = ptn_confusion_by_domain_over_dataloader(model, p.device, val_dl)\n",
    "per_domain_accuracy = per_domain_accuracy_from_confusion(confusion)\n",
    "\n",
    "# Add a key to per_domain_accuracy for if it was a source domain\n",
    "for domain, accuracy in per_domain_accuracy.items():\n",
    "    per_domain_accuracy[domain] = {\n",
    "        \"accuracy\": accuracy,\n",
    "        \"source?\": domain in p.domains_source\n",
    "    }\n",
    "\n",
    "# Do an independent accuracy assesment JUST TO BE SURE!\n",
    "# _source_test_label_accuracy = independent_accuracy_assesment(model, datasets.source.processed.test, p.device)\n",
    "# _target_test_label_accuracy = independent_accuracy_assesment(model, datasets.target.processed.test, p.device)\n",
    "# _source_val_label_accuracy = independent_accuracy_assesment(model, datasets.source.processed.val, p.device)\n",
    "# _target_val_label_accuracy = independent_accuracy_assesment(model, datasets.target.processed.val, p.device)\n",
    "\n",
    "# assert(_source_test_label_accuracy == source_test_label_accuracy)\n",
    "# assert(_target_test_label_accuracy == target_test_label_accuracy)\n",
    "# assert(_source_val_label_accuracy == source_val_label_accuracy)\n",
    "# assert(_target_val_label_accuracy == target_val_label_accuracy)\n",
    "\n",
    "experiment = {\n",
    "    \"experiment_name\": p.experiment_name,\n",
    "    \"parameters\": dict(p),\n",
    "    \"results\": {\n",
    "        \"source_test_label_accuracy\": source_test_label_accuracy,\n",
    "        \"source_test_label_loss\": source_test_label_loss,\n",
    "        \"target_test_label_accuracy\": target_test_label_accuracy,\n",
    "        \"target_test_label_loss\": target_test_label_loss,\n",
    "        \"source_val_label_accuracy\": source_val_label_accuracy,\n",
    "        \"source_val_label_loss\": source_val_label_loss,\n",
    "        \"target_val_label_accuracy\": target_val_label_accuracy,\n",
    "        \"target_val_label_loss\": target_val_label_loss,\n",
    "        \"total_epochs_trained\": total_epochs_trained,\n",
    "        \"total_experiment_time_secs\": total_experiment_time_secs,\n",
    "        \"confusion\": confusion,\n",
    "        \"per_domain_accuracy\": per_domain_accuracy,\n",
    "    },\n",
    "    \"history\": history,\n",
    "    \"dataset_metrics\": get_dataset_metrics(datasets, \"ptn\"),\n",
    "}"
   ]
  },
  {
   "cell_type": "code",
   "execution_count": 25,
   "id": "54a21829",
   "metadata": {
    "execution": {
     "iopub.execute_input": "2022-03-23T22:24:38.578969Z",
     "iopub.status.busy": "2022-03-23T22:24:38.578003Z",
     "iopub.status.idle": "2022-03-23T22:24:39.010897Z",
     "shell.execute_reply": "2022-03-23T22:24:39.011645Z"
    },
    "papermill": {
     "duration": 0.517157,
     "end_time": "2022-03-23T22:24:39.011833",
     "exception": false,
     "start_time": "2022-03-23T22:24:38.494676",
     "status": "completed"
    },
    "tags": []
   },
   "outputs": [
    {
     "data": {
      "image/png": "[encoded data removed]",
      "text/plain": [
       "<Figure size 1080x504 with 1 Axes>"
      ]
     },
     "metadata": {
      "needs_background": "light"
     },
     "output_type": "display_data"
    }
   ],
   "source": [
    "ax = get_loss_curve(experiment)\n",
    "plt.show()"
   ]
  },
  {
   "cell_type": "code",
   "execution_count": 26,
   "id": "fd8a0f60",
   "metadata": {
    "execution": {
     "iopub.execute_input": "2022-03-23T22:24:39.218605Z",
     "iopub.status.busy": "2022-03-23T22:24:39.218225Z",
     "iopub.status.idle": "2022-03-23T22:24:39.598800Z",
     "shell.execute_reply": "2022-03-23T22:24:39.599511Z"
    },
    "papermill": {
     "duration": 0.467603,
     "end_time": "2022-03-23T22:24:39.599765",
     "exception": false,
     "start_time": "2022-03-23T22:24:39.132162",
     "status": "completed"
    },
    "tags": []
   },
   "outputs": [
    {
     "data": {
      "text/plain": [
       "<AxesSubplot:title={'center':'Results'}>"
      ]
     },
     "execution_count": 26,
     "metadata": {},
     "output_type": "execute_result"
    },
    {
     "data": {
      "image/png": "[encoded data removed]",
      "text/plain": [
       "<Figure size 1080x504 with 1 Axes>"
      ]
     },
     "metadata": {
      "needs_background": "light"
     },
     "output_type": "display_data"
    }
   ],
   "source": [
    "get_results_table(experiment)"
   ]
  },
  {
   "cell_type": "code",
   "execution_count": 27,
   "id": "cf8dc689",
   "metadata": {
    "execution": {
     "iopub.execute_input": "2022-03-23T22:24:39.772195Z",
     "iopub.status.busy": "2022-03-23T22:24:39.771821Z",
     "iopub.status.idle": "2022-03-23T22:24:40.096207Z",
     "shell.execute_reply": "2022-03-23T22:24:40.095407Z"
    },
    "papermill": {
     "duration": 0.409736,
     "end_time": "2022-03-23T22:24:40.096383",
     "exception": false,
     "start_time": "2022-03-23T22:24:39.686647",
     "status": "completed"
    },
    "tags": []
   },
   "outputs": [
    {
     "data": {
      "text/plain": [
       "<AxesSubplot:title={'center':'Per Domain Validation Accuracy'}, xlabel='domain'>"
      ]
     },
     "execution_count": 27,
     "metadata": {},
     "output_type": "execute_result"
    },
    {
     "data": {
      "image/png": "[encoded data removed]",
      "text/plain": [
       "<Figure size 1080x504 with 1 Axes>"
      ]
     },
     "metadata": {
      "needs_background": "light"
     },
     "output_type": "display_data"
    }
   ],
   "source": [
    "get_domain_accuracies(experiment)"
   ]
  },
  {
   "cell_type": "code",
   "execution_count": 28,
   "id": "a74ae082",
   "metadata": {
    "execution": {
     "iopub.execute_input": "2022-03-23T22:24:40.274028Z",
     "iopub.status.busy": "2022-03-23T22:24:40.273460Z",
     "iopub.status.idle": "2022-03-23T22:24:40.303472Z",
     "shell.execute_reply": "2022-03-23T22:24:40.302660Z"
    },
    "papermill": {
     "duration": 0.118153,
     "end_time": "2022-03-23T22:24:40.303646",
     "exception": false,
     "start_time": "2022-03-23T22:24:40.185493",
     "status": "completed"
    },
    "tags": []
   },
   "outputs": [
    {
     "name": "stdout",
     "output_type": "stream",
     "text": [
      "Source Test Label Accuracy: 0.72236328125 Target Test Label Accuracy: 0.7842908902691511\n",
      "Source Val Label Accuracy: 0.72046875 Target Val Label Accuracy: 0.7819106765327696\n"
     ]
    }
   ],
   "source": [
    "print(\"Source Test Label Accuracy:\", experiment[\"results\"][\"source_test_label_accuracy\"], \"Target Test Label Accuracy:\", experiment[\"results\"][\"target_test_label_accuracy\"])\n",
    "print(\"Source Val Label Accuracy:\", experiment[\"results\"][\"source_val_label_accuracy\"], \"Target Val Label Accuracy:\", experiment[\"results\"][\"target_val_label_accuracy\"])"
   ]
  },
  {
   "cell_type": "code",
   "execution_count": 29,
   "id": "dacca602",
   "metadata": {
    "execution": {
     "iopub.execute_input": "2022-03-23T22:24:40.477035Z",
     "iopub.status.busy": "2022-03-23T22:24:40.476666Z",
     "iopub.status.idle": "2022-03-23T22:24:40.505563Z",
     "shell.execute_reply": "2022-03-23T22:24:40.506244Z"
    },
    "papermill": {
     "duration": 0.115618,
     "end_time": "2022-03-23T22:24:40.506425",
     "exception": false,
     "start_time": "2022-03-23T22:24:40.390807",
     "status": "completed"
    },
    "tags": [
     "experiment_json"
    ]
   },
   "outputs": [
    {
     "data": {
      "text/plain": [
       "'{\"experiment_name\": \"tl_1v2:wisig-oracle.run1\", \"parameters\": {\"experiment_name\": \"tl_1v2:wisig-oracle.run1\", \"device\": \"cuda\", \"lr\": 0.0001, \"n_shot\": 3, \"n_query\": 2, \"train_k_factor\": 3, \"val_k_factor\": 2, \"test_k_factor\": 2, \"torch_default_dtype\": \"torch.float32\", \"n_epoch\": 50, \"patience\": 3, \"criteria_for_best\": \"target_accuracy\", \"x_net\": [{\"class\": \"nnReshape\", \"kargs\": {\"shape\": [-1, 1, 2, 256]}}, {\"class\": \"Conv2d\", \"kargs\": {\"in_channels\": 1, \"out_channels\": 256, \"kernel_size\": [1, 7], \"bias\": false, \"padding\": [0, 3]}}, {\"class\": \"ReLU\", \"kargs\": {\"inplace\": true}}, {\"class\": \"BatchNorm2d\", \"kargs\": {\"num_features\": 256}}, {\"class\": \"Conv2d\", \"kargs\": {\"in_channels\": 256, \"out_channels\": 80, \"kernel_size\": [2, 7], \"bias\": true, \"padding\": [0, 3]}}, {\"class\": \"ReLU\", \"kargs\": {\"inplace\": true}}, {\"class\": \"BatchNorm2d\", \"kargs\": {\"num_features\": 80}}, {\"class\": \"Flatten\", \"kargs\": {}}, {\"class\": \"Linear\", \"kargs\": {\"in_features\": 20480, \"out_features\": 256}}, {\"class\": \"ReLU\", \"kargs\": {\"inplace\": true}}, {\"class\": \"BatchNorm1d\", \"kargs\": {\"num_features\": 256}}, {\"class\": \"Linear\", \"kargs\": {\"in_features\": 256, \"out_features\": 256}}], \"NUM_LOGS_PER_EPOCH\": 10, \"BEST_MODEL_PATH\": \"./best_model.pth\", \"n_way\": 16, \"datasets\": [{\"labels\": [\"1-10\", \"1-12\", \"1-14\", \"1-16\", \"1-18\", \"1-19\", \"1-8\", \"10-11\", \"10-17\", \"10-4\", \"10-7\", \"11-1\", \"11-10\", \"11-19\", \"11-20\", \"11-4\", \"11-7\", \"12-19\", \"12-20\", \"12-7\", \"13-14\", \"13-18\", \"13-19\", \"13-20\", \"13-3\", \"13-7\", \"14-10\", \"14-11\", \"14-12\", \"14-13\", \"14-14\", \"14-19\", \"14-20\", \"14-7\", \"14-8\", \"14-9\", \"15-1\", \"15-19\", \"15-6\", \"16-1\", \"16-16\", \"16-19\", \"16-20\", \"17-10\", \"17-11\", \"18-1\", \"18-10\", \"18-11\", \"18-12\", \"18-13\", \"18-14\", \"18-15\", \"18-16\", \"18-17\", \"18-19\", \"18-2\", \"18-20\", \"18-4\", \"18-5\", \"18-7\", \"18-8\", \"18-9\", \"19-1\", \"19-10\", \"19-11\", \"19-12\", \"19-13\", \"19-14\", \"19-15\", \"19-19\", \"19-2\", \"19-20\", \"19-3\", \"19-4\", \"19-6\", \"19-7\", \"19-8\", \"19-9\", \"2-1\", \"2-13\", \"2-15\", \"2-3\", \"2-4\", \"2-5\", \"2-6\", \"2-7\", \"2-8\", \"20-1\", \"20-12\", \"20-14\", \"20-15\", \"20-16\", \"20-18\", \"20-19\", \"20-20\", \"20-3\", \"20-4\", \"20-5\", \"20-7\", \"20-8\", \"3-1\", \"3-13\", \"3-18\", \"3-2\", \"3-8\", \"4-1\", \"4-10\", \"4-11\", \"5-1\", \"5-5\", \"6-1\", \"6-15\", \"6-6\", \"7-10\", \"7-11\", \"7-12\", \"7-13\", \"7-14\", \"7-7\", \"7-8\", \"7-9\", \"8-1\", \"8-13\", \"8-14\", \"8-18\", \"8-20\", \"8-3\", \"8-8\", \"9-1\", \"9-7\"], \"domains\": [1, 2, 3, 4], \"num_examples_per_domain_per_label\": -1, \"pickle_path\": \"/root/csc500-main/datasets/wisig.node3-19.stratified_ds.2022A.pkl\", \"source_or_target_dataset\": \"target\", \"x_transforms\": [\"unit_mag\"], \"episode_transforms\": [], \"domain_prefix\": \"Wisig_\"}, {\"labels\": [\"3123D52\", \"3123D65\", \"3123D79\", \"3123D80\", \"3123D54\", \"3123D70\", \"3123D7B\", \"3123D89\", \"3123D58\", \"3123D76\", \"3123D7D\", \"3123EFE\", \"3123D64\", \"3123D78\", \"3123D7E\", \"3124E4A\"], \"domains\": [32, 38, 8, 44, 14, 50, 20, 26], \"num_examples_per_domain_per_label\": 10000, \"pickle_path\": \"/root/csc500-main/datasets/oracle.Run1_10kExamples_stratified_ds.2022A.pkl\", \"source_or_target_dataset\": \"source\", \"x_transforms\": [\"unit_mag\"], \"episode_transforms\": [], \"domain_prefix\": \"ORACLE.run1\"}], \"dataset_seed\": 420, \"seed\": 420, \"x_shape\": [2, 256], \"domains_source\": [\"ORACLE.run132\", \"ORACLE.run138\", \"ORACLE.run18\", \"ORACLE.run144\", \"ORACLE.run114\", \"ORACLE.run150\", \"ORACLE.run120\", \"ORACLE.run126\"], \"domains_target\": [\"Wisig_1\", \"Wisig_2\", \"Wisig_3\", \"Wisig_4\"]}, \"results\": {\"source_test_label_accuracy\": 0.72236328125, \"source_test_label_loss\": 0.8695893287658691, \"target_test_label_accuracy\": 0.7842908902691511, \"target_test_label_loss\": 11.886878967285156, \"source_val_label_accuracy\": 0.72046875, \"source_val_label_loss\": 0.8782241940498352, \"target_val_label_accuracy\": 0.7819106765327696, \"target_val_label_loss\": 11.919426918029785, \"total_epochs_trained\": 18, \"total_experiment_time_secs\": 17730.29979109764, \"confusion\": {\"ORACLE.run114\": {\"15\": {\"15\": 1182, \"7\": 16, \"5\": 2}, \"5\": {\"4\": 196, \"5\": 826, \"1\": 111, \"2\": 35, \"3\": 19, \"7\": 10, \"15\": 3}, \"7\": {\"7\": 1182, \"15\": 10, \"1\": 7, \"5\": 1}, \"4\": {\"4\": 845, \"2\": 77, \"3\": 100, \"5\": 147, \"1\": 25, \"14\": 5, \"13\": 1}, \"10\": {\"10\": 1151, \"0\": 47, \"6\": 1, \"3\": 1}, \"11\": {\"11\": 1094, \"9\": 54, \"0\": 51, \"10\": 1}, \"12\": {\"12\": 1197, \"9\": 3}, \"0\": {\"0\": 1094, \"11\": 22, \"10\": 60, \"3\": 21, \"14\": 1, \"9\": 2}, \"14\": {\"14\": 989, \"13\": 79, \"2\": 60, \"6\": 34, \"3\": 34, \"10\": 2, \"4\": 2}, \"8\": {\"8\": 1200}, \"13\": {\"14\": 171, \"13\": 411, \"6\": 500, \"2\": 100, \"10\": 5, \"5\": 6, \"4\": 4, \"3\": 2, \"15\": 1}, \"6\": {\"13\": 454, \"6\": 668, \"14\": 36, \"2\": 39, \"4\": 3}, \"1\": {\"1\": 1052, \"5\": 137, \"4\": 7, \"7\": 3, \"3\": 1}, \"3\": {\"3\": 1007, \"5\": 9, \"14\": 41, \"4\": 118, \"2\": 17, \"10\": 2, \"0\": 5, \"13\": 1}, \"9\": {\"9\": 1194, \"11\": 5, \"12\": 1}, \"2\": {\"5\": 127, \"2\": 619, \"13\": 55, \"4\": 89, \"14\": 170, \"6\": 70, \"3\": 58, \"15\": 12}}, \"ORACLE.run120\": {\"4\": {\"4\": 922, \"3\": 74, \"8\": 137, \"7\": 8, \"12\": 11, \"10\": 35, \"5\": 7, \"9\": 4, \"0\": 1, \"6\": 1}, \"10\": {\"10\": 1065, \"4\": 24, \"14\": 87, \"6\": 8, \"7\": 3, \"8\": 12, \"9\": 1}, \"15\": {\"5\": 116, \"15\": 708, \"0\": 97, \"1\": 193, \"13\": 57, \"12\": 21, \"2\": 6, \"9\": 2}, \"0\": {\"0\": 718, \"5\": 272, \"15\": 121, \"13\": 7, \"1\": 22, \"7\": 2, \"12\": 18, \"4\": 8, \"2\": 8, \"3\": 15, \"8\": 9}, \"6\": {\"6\": 1038, \"14\": 132, \"7\": 14, \"8\": 8, \"10\": 7, \"11\": 1}, \"3\": {\"3\": 460, \"9\": 189, \"7\": 44, \"8\": 13, \"12\": 264, \"4\": 82, \"5\": 32, \"2\": 79, \"1\": 29, \"0\": 5, \"13\": 1, \"10\": 1, \"15\": 1}, \"7\": {\"2\": 145, \"7\": 855, \"13\": 6, \"8\": 73, \"3\": 48, \"9\": 44, \"12\": 4, \"10\": 4, \"6\": 11, \"4\": 10}, \"2\": {\"3\": 88, \"2\": 518, \"7\": 136, \"9\": 295, \"12\": 67, \"13\": 70, \"8\": 3, \"15\": 3, \"5\": 5, \"1\": 13, \"4\": 2}, \"8\": {\"8\": 911, \"10\": 8, \"7\": 86, \"4\": 128, \"14\": 46, \"3\": 9, \"6\": 7, \"0\": 3, \"5\": 1, \"12\": 1}, \"11\": {\"11\": 1199, \"6\": 1}, \"14\": {\"14\": 938, \"6\": 156, \"8\": 34, \"10\": 68, \"4\": 2, \"7\": 2}, \"12\": {\"12\": 448, \"5\": 119, \"2\": 50, \"1\": 173, \"3\": 233, \"9\": 120, \"4\": 21, \"15\": 17, \"0\": 10, \"13\": 6, \"7\": 3}, \"13\": {\"13\": 1081, \"15\": 27, \"2\": 66, \"5\": 1, \"7\": 2, \"0\": 4, \"3\": 3, \"1\": 5, \"9\": 6, \"12\": 5}, \"9\": {\"9\": 498, \"3\": 177, \"2\": 307, \"5\": 4, \"12\": 107, \"7\": 62, \"1\": 22, \"13\": 13, \"4\": 5, \"10\": 1, \"8\": 2, \"15\": 2}, \"5\": {\"15\": 89, \"5\": 507, \"1\": 196, \"0\": 240, \"3\": 35, \"12\": 114, \"4\": 6, \"2\": 7, \"13\": 3, \"8\": 2, \"7\": 1}, \"1\": {\"5\": 177, \"15\": 183, \"12\": 205, \"1\": 548, \"0\": 25, \"3\": 31, \"2\": 7, \"13\": 3, \"9\": 21}}, \"ORACLE.run150\": {\"5\": {\"4\": 156, \"5\": 494, \"13\": 177, \"7\": 201, \"6\": 84, \"1\": 80, \"10\": 5, \"15\": 3}, \"12\": {\"12\": 1099, \"9\": 71, \"14\": 22, \"11\": 8}, \"14\": {\"14\": 1170, \"12\": 16, \"11\": 11, \"9\": 3}, \"4\": {\"7\": 32, \"4\": 608, \"15\": 189, \"6\": 79, \"1\": 147, \"5\": 126, \"13\": 18, \"11\": 1}, \"13\": {\"13\": 772, \"5\": 163, \"7\": 155, \"4\": 8, \"6\": 84, \"10\": 11, \"0\": 5, \"1\": 2}, \"10\": {\"10\": 1093, \"13\": 28, \"0\": 37, \"7\": 14, \"8\": 25, \"5\": 3}, \"9\": {\"9\": 928, \"11\": 175, \"12\": 96, \"14\": 1}, \"15\": {\"15\": 869, \"1\": 183, \"6\": 23, \"11\": 35, \"4\": 90}, \"6\": {\"6\": 889, \"5\": 37, \"4\": 77, \"13\": 68, \"15\": 25, \"1\": 93, \"7\": 10, \"0\": 1}, \"2\": {\"0\": 92, \"2\": 1108}, \"0\": {\"0\": 1037, \"2\": 120, \"13\": 8, \"10\": 35}, \"11\": {\"9\": 95, \"11\": 1036, \"15\": 43, \"12\": 13, \"14\": 13}, \"3\": {\"3\": 1165, \"8\": 35}, \"8\": {\"8\": 1165, \"10\": 24, \"3\": 11}, \"7\": {\"7\": 788, \"10\": 34, \"13\": 209, \"5\": 148, \"6\": 17, \"4\": 3, \"0\": 1}, \"1\": {\"4\": 86, \"1\": 781, \"15\": 227, \"6\": 77, \"2\": 4, \"11\": 8, \"5\": 12, \"13\": 5}}, \"ORACLE.run126\": {\"7\": {\"7\": 600, \"4\": 123, \"2\": 134, \"8\": 93, \"3\": 178, \"0\": 19, \"14\": 18, \"15\": 15, \"9\": 2, \"5\": 6, \"1\": 8, \"10\": 4}, \"6\": {\"6\": 833, \"15\": 36, \"9\": 189, \"10\": 80, \"8\": 27, \"13\": 13, \"0\": 22}, \"14\": {\"10\": 98, \"14\": 439, \"0\": 164, \"1\": 215, \"4\": 224, \"7\": 24, \"8\": 33, \"9\": 3}, \"15\": {\"15\": 494, \"6\": 34, \"9\": 331, \"13\": 64, \"8\": 77, \"5\": 124, \"7\": 14, \"2\": 45, \"0\": 7, \"10\": 7, \"4\": 2, \"3\": 1}, \"5\": {\"5\": 792, \"8\": 24, \"15\": 132, \"2\": 68, \"13\": 141, \"3\": 2, \"9\": 30, \"7\": 6, \"6\": 3, \"10\": 1, \"0\": 1}, \"10\": {\"0\": 251, \"14\": 130, \"10\": 471, \"8\": 152, \"6\": 58, \"4\": 71, \"1\": 31, \"9\": 19, \"15\": 8, \"5\": 2, \"7\": 7}, \"4\": {\"4\": 461, \"1\": 112, \"8\": 104, \"0\": 141, \"10\": 64, \"7\": 105, \"14\": 203, \"2\": 2, \"3\": 5, \"15\": 3}, \"11\": {\"11\": 1193, \"12\": 7}, \"13\": {\"13\": 865, \"5\": 197, \"2\": 24, \"15\": 66, \"9\": 39, \"6\": 6, \"7\": 1, \"8\": 1, \"3\": 1}, \"2\": {\"3\": 378, \"7\": 139, \"15\": 61, \"2\": 464, \"5\": 95, \"13\": 5, \"8\": 40, \"4\": 6, \"9\": 8, \"0\": 1, \"1\": 2, \"14\": 1}, \"0\": {\"8\": 136, \"14\": 193, \"4\": 135, \"0\": 353, \"1\": 32, \"10\": 286, \"9\": 10, \"7\": 28, \"6\": 24, \"15\": 3}, \"12\": {\"12\": 1197, \"11\": 3}, \"3\": {\"7\": 189, \"3\": 717, \"2\": 279, \"5\": 2, \"15\": 4, \"4\": 7, \"8\": 2}, \"9\": {\"8\": 85, \"9\": 523, \"15\": 326, \"10\": 19, \"6\": 157, \"2\": 5, \"5\": 32, \"13\": 29, \"0\": 17, \"7\": 7}, \"8\": {\"5\": 20, \"8\": 452, \"7\": 88, \"4\": 85, \"10\": 164, \"14\": 22, \"6\": 34, \"9\": 96, \"0\": 126, \"15\": 74, \"2\": 21, \"3\": 9, \"1\": 9}, \"1\": {\"14\": 242, \"1\": 755, \"7\": 21, \"10\": 33, \"4\": 114, \"8\": 6, \"0\": 27, \"3\": 2}}, \"ORACLE.run132\": {\"7\": {\"7\": 605, \"5\": 169, \"2\": 39, \"8\": 6, \"13\": 72, \"4\": 114, \"0\": 23, \"14\": 135, \"11\": 35, \"3\": 2}, \"2\": {\"2\": 948, \"4\": 200, \"0\": 24, \"7\": 19, \"14\": 3, \"5\": 5, \"13\": 1}, \"5\": {\"5\": 470, \"13\": 237, \"4\": 83, \"7\": 186, \"3\": 52, \"2\": 22, \"8\": 83, \"0\": 36, \"14\": 28, \"11\": 3}, \"6\": {\"6\": 1200}, \"13\": {\"7\": 76, \"5\": 196, \"4\": 91, \"13\": 638, \"3\": 91, \"11\": 17, \"8\": 63, \"0\": 9, \"14\": 17, \"2\": 2}, \"4\": {\"4\": 664, \"2\": 235, \"7\": 116, \"13\": 54, \"5\": 65, \"0\": 56, \"8\": 7, \"14\": 2, \"11\": 1}, \"3\": {\"3\": 1107, \"13\": 51, \"11\": 16, \"5\": 13, \"8\": 10, \"7\": 1, \"14\": 2}, \"0\": {\"4\": 65, \"0\": 841, \"8\": 139, \"14\": 32, \"5\": 33, \"2\": 43, \"13\": 16, \"7\": 31}, \"9\": {\"9\": 1197, \"12\": 3}, \"12\": {\"12\": 1200}, \"8\": {\"0\": 99, \"8\": 935, \"13\": 80, \"5\": 58, \"4\": 5, \"14\": 5, \"3\": 15, \"7\": 3}, \"14\": {\"11\": 261, \"14\": 597, \"7\": 182, \"0\": 52, \"5\": 27, \"4\": 9, \"13\": 41, \"2\": 8, \"3\": 6, \"8\": 17}, \"15\": {\"15\": 1189, \"8\": 11}, \"11\": {\"11\": 982, \"14\": 171, \"3\": 16, \"7\": 12, \"13\": 16, \"5\": 3}, \"10\": {\"10\": 1196, \"1\": 4}, \"1\": {\"1\": 1193, \"10\": 7}}, \"ORACLE.run144\": {\"11\": {\"11\": 1098, \"13\": 85, \"6\": 17}, \"7\": {\"9\": 221, \"6\": 36, \"7\": 755, \"2\": 179, \"13\": 3, \"1\": 3, \"3\": 3}, \"6\": {\"6\": 824, \"7\": 42, \"9\": 110, \"13\": 207, \"11\": 14, \"2\": 3}, \"12\": {\"12\": 938, \"10\": 49, \"1\": 196, \"3\": 16, \"2\": 1}, \"4\": {\"14\": 338, \"4\": 855, \"15\": 5, \"13\": 2}, \"13\": {\"13\": 788, \"6\": 226, \"11\": 42, \"9\": 124, \"4\": 9, \"7\": 11}, \"8\": {\"0\": 380, \"8\": 764, \"15\": 34, \"5\": 22}, \"5\": {\"5\": 1031, \"0\": 88, \"14\": 38, \"15\": 31, \"8\": 7, \"4\": 5}, \"14\": {\"4\": 340, \"14\": 766, \"15\": 63, \"5\": 30, \"13\": 1}, \"3\": {\"3\": 1052, \"1\": 132, \"12\": 14, \"7\": 1, \"10\": 1}, \"10\": {\"10\": 872, \"12\": 86, \"2\": 100, \"1\": 139, \"3\": 2, \"7\": 1}, \"1\": {\"10\": 90, \"12\": 207, \"1\": 709, \"3\": 150, \"2\": 42, \"7\": 2}, \"2\": {\"2\": 859, \"10\": 105, \"1\": 62, \"7\": 161, \"3\": 7, \"9\": 5, \"12\": 1}, \"15\": {\"15\": 971, \"0\": 77, \"14\": 81, \"4\": 21, \"5\": 34, \"8\": 16}, \"9\": {\"7\": 262, \"6\": 111, \"9\": 690, \"13\": 127, \"2\": 8, \"3\": 2}, \"0\": {\"0\": 732, \"8\": 331, \"15\": 53, \"5\": 84}}, \"ORACLE.run18\": {\"10\": {\"10\": 784, \"14\": 214, \"4\": 37, \"13\": 123, \"5\": 22, \"1\": 12, \"0\": 8}, \"6\": {\"8\": 15, \"6\": 630, \"4\": 133, \"0\": 67, \"7\": 319, \"13\": 32, \"14\": 4}, \"13\": {\"0\": 300, \"14\": 105, \"13\": 397, \"4\": 192, \"6\": 47, \"10\": 134, \"5\": 5, \"7\": 17, \"1\": 3}, \"3\": {\"3\": 1038, \"2\": 92, \"12\": 62, \"15\": 8}, \"9\": {\"9\": 1200}, \"1\": {\"1\": 841, \"11\": 239, \"14\": 78, \"5\": 17, \"4\": 10, \"10\": 13, \"13\": 2}, \"5\": {\"5\": 1072, \"10\": 71, \"1\": 45, \"11\": 7, \"14\": 5}, \"11\": {\"1\": 342, \"11\": 814, \"8\": 13, \"14\": 13, \"5\": 9, \"4\": 7, \"10\": 1, \"6\": 1}, \"4\": {\"6\": 136, \"14\": 188, \"4\": 580, \"10\": 34, \"13\": 198, \"0\": 54, \"1\": 2, \"7\": 7, \"11\": 1}, \"14\": {\"14\": 599, \"4\": 208, \"13\": 98, \"10\": 175, \"1\": 86, \"6\": 11, \"11\": 16, \"5\": 6, \"0\": 1}, \"12\": {\"12\": 607, \"15\": 387, \"3\": 166, \"2\": 18, \"8\": 22}, \"7\": {\"6\": 265, \"7\": 863, \"0\": 45, \"8\": 13, \"13\": 4, \"15\": 1, \"4\": 8, \"2\": 1}, \"0\": {\"0\": 732, \"4\": 52, \"14\": 8, \"13\": 241, \"7\": 80, \"6\": 69, \"10\": 18}, \"15\": {\"15\": 847, \"12\": 274, \"8\": 56, \"2\": 9, \"7\": 4, \"3\": 10}, \"2\": {\"2\": 954, \"3\": 174, \"15\": 44, \"12\": 13, \"6\": 1, \"7\": 13, \"8\": 1}, \"8\": {\"6\": 7, \"8\": 1126, \"15\": 57, \"11\": 1, \"12\": 6, \"7\": 3}}, \"ORACLE.run138\": {\"4\": {\"4\": 1128, \"10\": 2, \"12\": 62, \"7\": 6, \"0\": 2}, \"7\": {\"7\": 950, \"0\": 138, \"5\": 58, \"10\": 3, \"8\": 49, \"3\": 2}, \"12\": {\"12\": 1161, \"4\": 35, \"8\": 1, \"10\": 3}, \"10\": {\"10\": 888, \"7\": 12, \"8\": 54, \"13\": 152, \"14\": 26, \"5\": 6, \"4\": 5, \"0\": 32, \"12\": 11, \"11\": 5, \"15\": 5, \"2\": 4}, \"0\": {\"7\": 152, \"8\": 224, \"0\": 625, \"3\": 56, \"5\": 97, \"10\": 33, \"4\": 1, \"9\": 6, \"13\": 3, \"6\": 1, \"12\": 2}, \"1\": {\"1\": 1137, \"5\": 3, \"15\": 58, \"8\": 1, \"13\": 1}, \"5\": {\"8\": 329, \"6\": 53, \"5\": 533, \"7\": 108, \"0\": 74, \"15\": 52, \"1\": 6, \"13\": 7, \"9\": 33, \"10\": 5}, \"15\": {\"15\": 907, \"13\": 119, \"5\": 29, \"1\": 91, \"0\": 2, \"8\": 41, \"2\": 2, \"10\": 9}, \"9\": {\"9\": 847, \"6\": 306, \"3\": 28, \"5\": 18, \"7\": 1}, \"11\": {\"11\": 1067, \"14\": 106, \"10\": 18, \"12\": 3, \"13\": 3, \"2\": 3}, \"14\": {\"14\": 1075, \"2\": 80, \"11\": 25, \"10\": 10, \"12\": 8, \"13\": 2}, \"6\": {\"6\": 1051, \"9\": 138, \"5\": 11}, \"8\": {\"8\": 711, \"0\": 112, \"5\": 279, \"15\": 32, \"7\": 45, \"10\": 16, \"13\": 4, \"6\": 1}, \"3\": {\"3\": 1138, \"9\": 36, \"7\": 6, \"6\": 2, \"0\": 17, \"8\": 1}, \"2\": {\"2\": 1097, \"13\": 27, \"14\": 69, \"11\": 6, \"15\": 1}, \"13\": {\"13\": 863, \"10\": 108, \"15\": 168, \"8\": 18, \"2\": 25, \"0\": 4, \"7\": 1, \"1\": 5, \"5\": 7, \"14\": 1}}, \"Wisig_3\": {\"110\": {\"110\": 75, \"44\": 1, \"88\": 3, \"114\": 6, \"1\": 1, \"3\": 1, \"70\": 1, \"87\": 1, \"129\": 1, \"11\": 1, \"43\": 1}, \"1\": {\"1\": 100, \"122\": 4, \"105\": 1, \"3\": 1, \"100\": 1, \"69\": 1}, \"2\": {\"123\": 2, \"2\": 15, \"18\": 1, \"26\": 2, \"64\": 2, \"113\": 1, \"118\": 1, \"121\": 2, \"69\": 1, \"23\": 1}, \"94\": {\"94\": 65, \"113\": 1, \"70\": 1, \"125\": 2, \"30\": 1, \"106\": 2, \"110\": 1, \"27\": 2, \"96\": 1, \"15\": 2, \"43\": 1, \"8\": 1, \"111\": 1, \"0\": 2, \"39\": 1}, \"64\": {\"64\": 20}, \"78\": {\"79\": 2, \"29\": 1, \"121\": 1, \"17\": 1, \"87\": 3, \"11\": 1, \"44\": 1, \"31\": 1, \"60\": 1, \"51\": 1, \"22\": 1, \"93\": 1, \"21\": 1}, \"47\": {\"47\": 8, \"12\": 2, \"20\": 1, \"18\": 1}, \"127\": {\"127\": 116, \"91\": 1, \"124\": 2, \"114\": 1, \"5\": 2, \"108\": 1, \"65\": 2, \"7\": 1, \"111\": 1, \"18\": 1}, \"89\": {\"89\": 27, \"69\": 1}, \"79\": {\"79\": 12}, \"22\": {\"22\": 16}, \"117\": {\"117\": 108, \"121\": 2, \"109\": 2}, \"49\": {\"14\": 5, \"47\": 1, \"108\": 2, \"1\": 1, \"107\": 2, \"49\": 3, \"101\": 1, \"11\": 1, \"124\": 2, \"73\": 2, \"96\": 1, \"10\": 1, \"129\": 1, \"0\": 1}, \"14\": {\"14\": 71, \"45\": 1, \"90\": 2, \"113\": 1, \"16\": 2, \"107\": 1, \"44\": 1, \"11\": 1}, \"103\": {\"103\": 16}, \"123\": {\"123\": 16}, \"98\": {\"98\": 103, \"85\": 3, \"16\": 1, \"5\": 1, \"111\": 2, \"124\": 6, \"12\": 3, \"127\": 2, \"46\": 1, \"35\": 1, \"72\": 1, \"23\": 1, \"33\": 1, \"117\": 1, \"93\": 1}, \"18\": {\"18\": 108}, \"61\": {\"61\": 16}, \"108\": {\"85\": 2, \"108\": 84, \"47\": 1, \"110\": 2, \"3\": 1, \"83\": 1, \"124\": 11, \"8\": 5, \"70\": 5, \"127\": 1, \"111\": 1, \"10\": 4, \"0\": 1, \"65\": 2, \"16\": 1, \"98\": 1, \"88\": 1, \"113\": 1, \"12\": 1}, \"100\": {\"107\": 2, \"100\": 14}, \"0\": {\"0\": 97, \"91\": 1, \"101\": 1, \"70\": 1, \"10\": 1, \"49\": 1, \"30\": 4, \"15\": 6, \"8\": 2, \"129\": 1, \"73\": 1}, \"107\": {\"107\": 129, \"80\": 1}, \"58\": {\"58\": 16}, \"8\": {\"8\": 102, \"0\": 3, \"108\": 2, \"124\": 1, \"12\": 5, \"101\": 3, \"30\": 2, \"98\": 2}, \"85\": {\"85\": 32, \"98\": 2, \"124\": 1, \"128\": 1}, \"31\": {\"31\": 16, \"44\": 2, \"29\": 1, \"36\": 1}, \"81\": {\"81\": 32}, \"60\": {\"107\": 2, \"32\": 1, \"60\": 17, \"31\": 2, \"98\": 2, \"122\": 2, \"3\": 1, \"100\": 1}, \"102\": {\"102\": 115, \"33\": 1}, \"19\": {\"85\": 3, \"129\": 2, \"19\": 8, \"87\": 2, \"100\": 2, \"77\": 1, \"15\": 1, \"107\": 2, \"124\": 3, \"14\": 1, \"51\": 1, \"34\": 2, \"46\": 1, \"60\": 1, \"108\": 1, \"97\": 1}, \"23\": {\"85\": 3, \"23\": 7, \"66\": 1, \"67\": 1, \"10\": 2, \"117\": 2, \"41\": 1, \"81\": 2, \"63\": 2, \"68\": 1, \"37\": 1, \"7\": 1, \"109\": 1, \"91\": 1, \"71\": 3, \"39\": 1, \"18\": 1, \"124\": 1}, \"32\": {\"32\": 25, \"107\": 3, \"28\": 2, \"79\": 2}, \"39\": {\"123\": 1, \"39\": 59, \"81\": 3, \"67\": 2, \"118\": 5, \"113\": 14, \"126\": 3, \"117\": 10, \"26\": 3, \"92\": 2, \"109\": 1, \"23\": 1, \"21\": 1, \"33\": 1, \"18\": 2}, \"129\": {\"100\": 1, \"129\": 19, \"107\": 1, \"11\": 1, \"110\": 2, \"49\": 5, \"87\": 1, \"19\": 1, \"53\": 1}, \"71\": {\"99\": 2, \"71\": 52, \"5\": 6, \"3\": 2, \"127\": 5, \"109\": 1}, \"91\": {\"91\": 12, \"62\": 1, \"35\": 3, \"111\": 2, \"72\": 2, \"68\": 2, \"70\": 1, \"44\": 1}, \"101\": {\"101\": 41, \"126\": 1, \"30\": 1, \"12\": 1, \"8\": 3, \"98\": 2, \"113\": 1, \"15\": 2}, \"62\": {\"62\": 111, \"82\": 1, \"84\": 4, \"102\": 1, \"88\": 1, \"26\": 1, \"113\": 1, \"36\": 1, \"118\": 1}, \"63\": {\"63\": 16}, \"125\": {\"125\": 106, \"111\": 6, \"26\": 1, \"98\": 2, \"15\": 2, \"8\": 1, \"72\": 1, \"19\": 1}, \"57\": {\"57\": 16, \"48\": 2, \"1\": 1, \"105\": 1}, \"28\": {\"28\": 16}, \"70\": {\"70\": 25, \"47\": 1, \"123\": 2, \"39\": 2, \"88\": 5, \"24\": 1, \"110\": 4, \"114\": 6, \"126\": 5, \"108\": 8, \"11\": 1, \"5\": 4, \"10\": 1, \"61\": 1, \"83\": 2, \"117\": 1, \"18\": 1, \"33\": 1, \"124\": 1}, \"99\": {\"99\": 26, \"7\": 3, \"21\": 1, \"104\": 1, \"27\": 1, \"95\": 3, \"42\": 1}, \"121\": {\"121\": 15, \"67\": 5, \"26\": 4, \"117\": 2, \"2\": 3, \"18\": 1, \"97\": 1, \"113\": 1}, \"4\": {\"86\": 4, \"4\": 79, \"103\": 2, \"105\": 6, \"34\": 2, \"117\": 1, \"5\": 2}, \"80\": {\"80\": 12, \"93\": 2, \"16\": 2}, \"51\": {\"15\": 1, \"51\": 13, \"106\": 1, \"73\": 1}, \"3\": {\"3\": 100, \"128\": 2, \"30\": 1, \"71\": 2, \"70\": 1, \"5\": 5, \"98\": 1, \"124\": 1, \"127\": 2, \"93\": 1}, \"9\": {\"9\": 31, \"103\": 1}, \"53\": {\"53\": 15, \"122\": 3, \"103\": 1, \"81\": 1}, \"30\": {\"30\": 66, \"101\": 2, \"2\": 1, \"97\": 1, \"24\": 1, \"83\": 1, \"0\": 6, \"94\": 2, \"112\": 1, \"69\": 1, \"88\": 1, \"110\": 1}, \"33\": {\"33\": 110, \"116\": 2, \"102\": 3, \"39\": 2, \"69\": 3, \"109\": 1, \"84\": 1}, \"15\": {\"97\": 4, \"15\": 84, \"6\": 3, \"101\": 2, \"94\": 1, \"8\": 1, \"106\": 5, \"0\": 1, \"12\": 2, \"88\": 1}, \"97\": {\"4\": 1, \"97\": 17, \"73\": 1, \"30\": 1}, \"86\": {\"86\": 22, \"34\": 2, \"105\": 2, \"128\": 1, \"81\": 1}, \"20\": {\"20\": 16}, \"66\": {\"66\": 11, \"65\": 2, \"128\": 1, \"3\": 2}, \"10\": {\"10\": 71, \"73\": 2, \"34\": 1, \"129\": 1, \"77\": 1, \"111\": 2, \"71\": 2, \"127\": 17, \"8\": 1, \"3\": 2, \"88\": 2, \"4\": 1, \"98\": 5, \"5\": 3, \"46\": 2, \"112\": 2, \"124\": 1, \"7\": 1, \"108\": 2, \"114\": 2, \"62\": 1}, \"29\": {\"29\": 28, \"11\": 1, \"44\": 2, \"31\": 1}, \"109\": {\"109\": 48, \"63\": 1, \"33\": 13, \"93\": 5, \"26\": 3, \"119\": 1, \"116\": 1, \"2\": 3, \"5\": 1, \"69\": 3, \"43\": 6, \"118\": 5, \"16\": 4, \"102\": 10, \"39\": 1, \"84\": 1, \"13\": 2, \"62\": 2, \"23\": 1, \"113\": 3}, \"52\": {\"52\": 16}, \"67\": {\"67\": 16}, \"83\": {\"83\": 18, \"121\": 1, \"43\": 1, \"128\": 2, \"15\": 2}, \"72\": {\"72\": 26, \"52\": 1, \"88\": 1}, \"90\": {\"90\": 117, \"14\": 1, \"18\": 1, \"84\": 3, \"26\": 1, \"44\": 2, \"11\": 1}, \"69\": {\"69\": 73, \"89\": 5, \"62\": 2, \"107\": 1, \"33\": 2, \"102\": 1}, \"88\": {\"70\": 2, \"88\": 54, \"14\": 1, \"124\": 2, \"49\": 6, \"110\": 11, \"10\": 1, \"113\": 1, \"122\": 2, \"87\": 1, \"11\": 6, \"114\": 7, \"126\": 1, \"108\": 1, \"129\": 2, \"78\": 1, \"19\": 1, \"5\": 5, \"39\": 1, \"107\": 1, \"3\": 3, \"27\": 1, \"93\": 1}, \"115\": {\"115\": 16}, \"73\": {\"73\": 29, \"116\": 1, \"72\": 2, \"88\": 1, \"42\": 1, \"106\": 1, \"27\": 1, \"108\": 1, \"76\": 1, \"10\": 2}, \"34\": {\"29\": 1, \"32\": 1, \"91\": 2, \"34\": 10, \"50\": 1, \"14\": 3, \"1\": 1, \"107\": 1, \"87\": 1, \"111\": 1, \"37\": 1, \"20\": 1, \"65\": 1, \"128\": 1, \"28\": 1, \"51\": 4, \"58\": 1}, \"25\": {\"25\": 16}, \"44\": {\"29\": 5, \"44\": 59, \"90\": 3, \"87\": 2, \"16\": 2, \"11\": 1}, \"112\": {\"112\": 13, \"30\": 1, \"42\": 2}, \"37\": {\"56\": 2, \"37\": 12, \"9\": 2}, \"77\": {\"77\": 16}, \"111\": {\"111\": 112, \"58\": 1, \"124\": 1, \"73\": 1, \"12\": 2, \"127\": 1, \"126\": 1, \"106\": 1, \"98\": 2}, \"119\": {\"119\": 16}, \"56\": {\"56\": 11, \"7\": 1}, \"5\": {\"5\": 92, \"3\": 12, \"127\": 1, \"126\": 1, \"10\": 1, \"105\": 1, \"128\": 1, \"4\": 2, \"21\": 1}, \"122\": {\"122\": 36, \"103\": 2, \"129\": 2, \"1\": 5, \"53\": 1, \"21\": 2, \"107\": 3, \"128\": 1, \"60\": 3, \"105\": 1, \"126\": 1, \"32\": 1, \"110\": 1, \"23\": 1}, \"74\": {\"40\": 2, \"74\": 13, \"116\": 1}, \"11\": {\"29\": 1, \"11\": 76, \"23\": 3, \"19\": 2, \"116\": 1, \"14\": 6, \"16\": 5, \"90\": 29, \"2\": 1, \"93\": 5, \"84\": 6, \"44\": 3, \"107\": 3, \"88\": 2, \"31\": 2, \"39\": 1, \"110\": 1, \"87\": 1, \"33\": 1, \"62\": 2, \"113\": 1}, \"41\": {\"41\": 15, \"99\": 1}, \"104\": {\"104\": 16}, \"21\": {\"21\": 46, \"101\": 2}, \"118\": {\"118\": 59, \"113\": 2, \"59\": 1, \"43\": 4, \"120\": 2, \"64\": 1, \"109\": 6, \"102\": 12, \"26\": 3, \"33\": 3, \"92\": 2, \"69\": 3, \"80\": 1, \"24\": 1}, \"40\": {\"40\": 116, \"21\": 1, \"115\": 2, \"62\": 3}, \"6\": {\"68\": 2, \"94\": 1, \"98\": 1, \"25\": 1, \"6\": 7, \"54\": 1, \"59\": 2, \"111\": 3, \"106\": 2, \"41\": 1, \"36\": 2, \"12\": 1, \"0\": 2, \"30\": 1, \"15\": 2, \"124\": 2, \"125\": 1}, \"27\": {\"94\": 1, \"15\": 1, \"25\": 3, \"27\": 70, \"54\": 2, \"30\": 1, \"36\": 16, \"61\": 1, \"24\": 1}, \"113\": {\"113\": 103, \"117\": 6, \"43\": 2, \"2\": 1, \"39\": 1, \"67\": 3, \"126\": 2, \"118\": 1, \"18\": 1}, \"68\": {\"68\": 16}, \"12\": {\"12\": 84, \"19\": 1, \"124\": 8, \"98\": 2, \"111\": 4, \"8\": 2, \"0\": 1}, \"54\": {\"54\": 16}, \"24\": {\"24\": 31, \"30\": 2, \"27\": 2, \"36\": 3, \"75\": 2, \"126\": 1, \"101\": 1, \"73\": 1, \"6\": 1, \"18\": 1, \"125\": 1, \"70\": 1, \"0\": 1}, \"106\": {\"106\": 81, \"59\": 1, \"6\": 3, \"124\": 1, \"125\": 2, \"111\": 3, \"15\": 4, \"87\": 1, \"73\": 1, \"58\": 1, \"113\": 1, \"91\": 1}, \"128\": {\"10\": 1, \"48\": 1, \"77\": 1, \"32\": 4, \"46\": 2, \"124\": 6, \"55\": 1, \"12\": 1, \"1\": 1, \"85\": 2, \"128\": 6, \"98\": 2, \"105\": 1, \"127\": 1, \"122\": 2}, \"48\": {\"4\": 2, \"116\": 1, \"104\": 1, \"60\": 1, \"82\": 1, \"26\": 1, \"86\": 1, \"84\": 2, \"95\": 4, \"69\": 2}, \"92\": {\"92\": 28, \"102\": 2, \"26\": 2}, \"35\": {\"35\": 8, \"24\": 1, \"91\": 1, \"27\": 1, \"124\": 1}, \"116\": {\"92\": 2, \"22\": 1, \"48\": 1, \"43\": 1, \"116\": 14, \"69\": 1, \"82\": 2, \"109\": 1, \"23\": 2, \"102\": 2, \"90\": 1}, \"38\": {\"38\": 13, \"13\": 1, \"48\": 2}, \"126\": {\"81\": 4, \"126\": 114, \"39\": 4, \"18\": 2}, \"46\": {\"46\": 16}, \"120\": {\"120\": 20}, \"7\": {\"7\": 99, \"95\": 2, \"4\": 5, \"105\": 2, \"34\": 2, \"113\": 1, \"71\": 1}, \"13\": {\"13\": 6, \"116\": 1, \"69\": 2, \"70\": 1, \"2\": 1, \"33\": 1, \"118\": 1, \"17\": 1, \"109\": 2}, \"43\": {\"102\": 1, \"43\": 23, \"118\": 7, \"31\": 1, \"33\": 1, \"109\": 4, \"2\": 1, \"96\": 2, \"82\": 2, \"121\": 1, \"113\": 3, \"18\": 1, \"69\": 1, \"92\": 2, \"83\": 1, \"23\": 2, \"126\": 2, \"39\": 1}, \"93\": {\"93\": 127, \"11\": 1, \"18\": 1, \"96\": 1, \"16\": 2}, \"26\": {\"26\": 129, \"126\": 1, \"81\": 2}, \"76\": {\"76\": 16}, \"59\": {\"59\": 12}, \"65\": {\"65\": 7, \"66\": 2, \"64\": 1, \"34\": 2}, \"87\": {\"87\": 84, \"32\": 2, \"14\": 4, \"60\": 1, \"29\": 2, \"107\": 4, \"50\": 2, \"11\": 3, \"84\": 4, \"44\": 5, \"90\": 3, \"22\": 1, \"28\": 2, \"62\": 1, \"40\": 1, \"126\": 1}, \"124\": {\"124\": 115, \"127\": 2, \"98\": 3, \"12\": 2, \"89\": 1, \"26\": 1}, \"84\": {\"84\": 98, \"44\": 1, \"82\": 1, \"15\": 1, \"69\": 2, \"29\": 1, \"90\": 2, \"11\": 2}, \"82\": {\"82\": 23, \"62\": 1, \"84\": 2, \"76\": 2}, \"75\": {\"75\": 16}, \"17\": {\"37\": 1, \"120\": 1, \"116\": 1, \"104\": 1, \"7\": 3, \"64\": 1, \"109\": 2, \"17\": 2, \"126\": 1, \"95\": 1, \"113\": 1, \"73\": 1}, \"105\": {\"105\": 120, \"4\": 3, \"122\": 1}, \"95\": {\"95\": 27, \"99\": 2, \"48\": 2, \"107\": 1}, \"42\": {\"15\": 1, \"75\": 2, \"42\": 10, \"73\": 2, \"97\": 1, \"106\": 1, \"59\": 2, \"70\": 1, \"58\": 1, \"110\": 1, \"112\": 2, \"101\": 1, \"8\": 2, \"83\": 1}, \"55\": {\"55\": 14, \"115\": 2}, \"16\": {\"16\": 109, \"92\": 2, \"93\": 2, \"113\": 1, \"11\": 2}, \"50\": {\"50\": 15, \"79\": 1}, \"96\": {\"96\": 20}, \"45\": {\"45\": 16}, \"36\": {\"36\": 107, \"24\": 2, \"30\": 3, \"27\": 7, \"125\": 1}, \"114\": {\"114\": 110, \"101\": 1, \"3\": 2, \"0\": 1, \"1\": 3, \"5\": 2, \"53\": 1, \"107\": 1, \"39\": 1, \"113\": 1, \"117\": 1}}, \"Wisig_4\": {\"113\": {\"113\": 97, \"117\": 8, \"18\": 2, \"2\": 2, \"39\": 1, \"16\": 3, \"109\": 1, \"126\": 2, \"123\": 1, \"63\": 1, \"26\": 3, \"11\": 1, \"106\": 1, \"90\": 1}, \"85\": {\"55\": 1, \"34\": 1, \"85\": 23, \"36\": 1, \"30\": 1, \"46\": 1}, \"34\": {\"83\": 1, \"49\": 1, \"34\": 6, \"71\": 3, \"62\": 1, \"50\": 1, \"60\": 2, \"23\": 1, \"75\": 1, \"47\": 4, \"114\": 3, \"91\": 2, \"46\": 2, \"58\": 2, \"12\": 2}, \"55\": {\"55\": 15, \"120\": 1}, \"42\": {\"53\": 1, \"8\": 2, \"20\": 2, \"106\": 1, \"42\": 9, \"111\": 4, \"6\": 2, \"129\": 1, \"100\": 1, \"47\": 1, \"0\": 2, \"112\": 1, \"19\": 1}, \"13\": {\"13\": 16}, \"69\": {\"13\": 2, \"69\": 94, \"57\": 1, \"39\": 1, \"67\": 2, \"7\": 1, \"84\": 4, \"90\": 4, \"88\": 1, \"102\": 7, \"26\": 1, \"44\": 1, \"118\": 2, \"21\": 1, \"117\": 1, \"16\": 1}, \"35\": {\"35\": 12}, \"83\": {\"83\": 20, \"21\": 1, \"71\": 4, \"128\": 2, \"88\": 1}, \"51\": {\"53\": 1, \"21\": 2, \"62\": 2, \"51\": 3, \"29\": 1, \"1\": 1, \"12\": 1, \"101\": 1, \"126\": 1, \"68\": 2, \"98\": 1}, \"72\": {\"72\": 29, \"85\": 1, \"40\": 1, \"11\": 1}, \"24\": {\"24\": 71, \"30\": 10, \"10\": 13, \"21\": 1, \"106\": 2, \"94\": 7, \"15\": 2, \"117\": 1, \"36\": 8, \"68\": 1, \"27\": 3, \"97\": 1}, \"53\": {\"53\": 12, \"92\": 1, \"101\": 1, \"111\": 2}, \"8\": {\"8\": 103, \"53\": 1, \"0\": 5, \"97\": 2, \"12\": 3, \"109\": 1, \"112\": 1, \"110\": 1, \"101\": 9, \"15\": 2, \"88\": 1, \"111\": 4, \"106\": 5, \"126\": 1, \"26\": 2, \"18\": 1, \"21\": 1, \"69\": 1}, \"49\": {\"72\": 3, \"11\": 4, \"8\": 4, \"32\": 1, \"5\": 4, \"124\": 1, \"42\": 1, \"12\": 1, \"3\": 1, \"89\": 2, \"111\": 2, \"122\": 1, \"129\": 1, \"49\": 4, \"90\": 1, \"82\": 1}, \"21\": {\"21\": 39, \"23\": 1}, \"18\": {\"18\": 105, \"84\": 2, \"35\": 1, \"63\": 1, \"26\": 7, \"24\": 1, \"16\": 2, \"108\": 1}, \"114\": {\"114\": 94, \"71\": 9, \"128\": 1, \"85\": 2, \"4\": 2, \"113\": 1, \"7\": 3, \"3\": 5, \"1\": 1}, \"58\": {\"58\": 13, \"45\": 1, \"12\": 2}, \"56\": {\"56\": 12}, \"80\": {\"80\": 16}, \"11\": {\"11\": 85, \"32\": 2, \"28\": 1, \"60\": 1, \"50\": 1, \"46\": 1, \"87\": 12, \"72\": 3, \"110\": 2, \"7\": 3, \"3\": 9, \"93\": 1, \"14\": 5, \"40\": 2, \"105\": 3, \"107\": 14, \"114\": 1, \"33\": 1, \"20\": 1, \"73\": 2, \"49\": 1, \"43\": 1, \"5\": 1, \"71\": 1}, \"15\": {\"15\": 109, \"9\": 1, \"105\": 1, \"94\": 1, \"106\": 1, \"24\": 1, \"8\": 6, \"30\": 3, \"40\": 1, \"6\": 1, \"12\": 2, \"69\": 1}, \"50\": {\"32\": 1, \"50\": 11, \"115\": 4}, \"111\": {\"111\": 135, \"98\": 2, \"27\": 1}, \"108\": {\"108\": 35, \"49\": 2, \"19\": 1, \"93\": 8, \"88\": 4, \"70\": 2, \"78\": 1, \"106\": 2, \"110\": 4, \"14\": 2, \"109\": 2, \"27\": 1, \"71\": 1, \"5\": 10, \"73\": 2, \"20\": 2, \"119\": 2, \"39\": 2, \"10\": 1, \"43\": 2, \"72\": 1, \"126\": 1, \"3\": 3, \"8\": 1}, \"104\": {\"104\": 16}, \"32\": {\"11\": 2, \"32\": 13, \"107\": 3, \"105\": 1, \"1\": 1, \"14\": 1, \"122\": 1, \"99\": 2, \"66\": 1, \"40\": 2, \"90\": 1}, \"68\": {\"111\": 2, \"68\": 13, \"51\": 1}, \"73\": {\"73\": 23, \"108\": 1}, \"92\": {\"92\": 24, \"122\": 2, \"118\": 2}, \"57\": {\"57\": 16}, \"40\": {\"40\": 122, \"108\": 1, \"81\": 1, \"87\": 2, \"107\": 2, \"76\": 1, \"126\": 2, \"72\": 1, \"7\": 1, \"105\": 1, \"11\": 2}, \"71\": {\"71\": 83, \"120\": 1, \"114\": 11, \"3\": 1, \"127\": 1, \"105\": 1, \"24\": 1, \"126\": 1, \"4\": 1, \"1\": 1, \"113\": 1, \"11\": 1}, \"121\": {\"121\": 16, \"84\": 4, \"117\": 1, \"21\": 1, \"118\": 2, \"113\": 1, \"39\": 2, \"123\": 1, \"63\": 1, \"44\": 2, \"67\": 1}, \"62\": {\"62\": 31, \"118\": 3, \"11\": 2, \"26\": 1, \"22\": 2, \"33\": 2, \"31\": 1, \"21\": 2, \"102\": 4, \"84\": 3, \"38\": 2, \"126\": 1, \"106\": 1, \"39\": 1, \"61\": 1, \"57\": 1, \"44\": 2}, \"39\": {\"39\": 61, \"109\": 5, \"88\": 1, \"126\": 6, \"26\": 3, \"113\": 9, \"81\": 2, \"18\": 5, \"117\": 5, \"123\": 1, \"84\": 1, \"16\": 1}, \"107\": {\"107\": 129, \"44\": 1, \"40\": 2, \"105\": 3, \"1\": 2, \"102\": 1, \"87\": 6}, \"60\": {\"129\": 2, \"18\": 1, \"60\": 6, \"128\": 1, \"96\": 1, \"22\": 2, \"46\": 2, \"11\": 1, \"120\": 1, \"71\": 1, \"65\": 1, \"32\": 2, \"19\": 1, \"14\": 1, \"74\": 2, \"23\": 1, \"33\": 1, \"44\": 1, \"62\": 2, \"70\": 1, \"87\": 1}, \"129\": {\"0\": 5, \"11\": 1, \"129\": 8, \"32\": 1, \"112\": 1, \"70\": 2, \"19\": 1, \"43\": 1, \"52\": 1, \"5\": 1, \"60\": 2, \"75\": 1, \"49\": 2, \"71\": 1}, \"84\": {\"84\": 114, \"69\": 4, \"65\": 2, \"88\": 3, \"117\": 1, \"127\": 1, \"102\": 1, \"108\": 2, \"118\": 2, \"16\": 2}, \"106\": {\"106\": 84, \"12\": 11, \"58\": 2, \"113\": 1, \"111\": 6, \"125\": 4, \"101\": 2, \"8\": 2, \"98\": 3, \"88\": 1}, \"87\": {\"60\": 1, \"87\": 76, \"107\": 7, \"115\": 1, \"105\": 12, \"40\": 13, \"3\": 4, \"43\": 2, \"14\": 4, \"7\": 2, \"5\": 1, \"76\": 1, \"11\": 6, \"1\": 1, \"110\": 1}, \"110\": {\"110\": 69, \"5\": 12, \"78\": 1, \"109\": 2, \"113\": 1, \"122\": 2, \"24\": 1, \"36\": 1, \"43\": 2, \"16\": 1, \"11\": 2}, \"118\": {\"118\": 64, \"57\": 5, \"102\": 6, \"44\": 3, \"62\": 3, \"96\": 1, \"122\": 4, \"74\": 1, \"32\": 1, \"116\": 1, \"90\": 5, \"43\": 2, \"33\": 8, \"69\": 4, \"94\": 1, \"40\": 1, \"107\": 2}, \"64\": {\"64\": 15, \"106\": 1}, \"82\": {\"129\": 1, \"82\": 22, \"14\": 1, \"76\": 1, \"23\": 2, \"105\": 1, \"40\": 2, \"99\": 2}, \"7\": {\"7\": 90, \"11\": 4, \"99\": 1, \"105\": 10, \"89\": 2, \"107\": 3, \"114\": 1, \"3\": 1, \"4\": 1, \"128\": 1, \"120\": 1, \"32\": 1, \"26\": 1, \"40\": 2, \"1\": 1, \"87\": 1, \"10\": 1, \"126\": 1, \"24\": 1}, \"0\": {\"0\": 77, \"8\": 6, \"111\": 8, \"101\": 15, \"88\": 1, \"126\": 1, \"93\": 1, \"112\": 2, \"21\": 2, \"12\": 1, \"118\": 2}, \"41\": {\"41\": 10, \"102\": 1, \"47\": 1, \"98\": 4}, \"102\": {\"102\": 118, \"44\": 3, \"84\": 1, \"16\": 1, \"43\": 1, \"126\": 1, \"96\": 1, \"48\": 2, \"107\": 2}, \"89\": {\"89\": 21, \"11\": 3, \"113\": 1, \"7\": 3, \"120\": 1, \"40\": 1, \"28\": 2}, \"26\": {\"18\": 10, \"113\": 2, \"26\": 107, \"117\": 7, \"69\": 1, \"8\": 1}, \"103\": {\"103\": 11, \"0\": 1, \"75\": 1, \"106\": 1, \"112\": 1, \"29\": 1}, \"90\": {\"90\": 109, \"66\": 2, \"5\": 2, \"33\": 1, \"109\": 2, \"63\": 1, \"16\": 1}, \"14\": {\"14\": 100, \"11\": 4, \"113\": 1, \"109\": 2, \"3\": 3, \"88\": 1, \"90\": 1}, \"9\": {\"9\": 28}, \"5\": {\"14\": 2, \"5\": 125, \"110\": 1, \"11\": 3, \"113\": 1, \"88\": 1, \"43\": 2, \"117\": 1}, \"22\": {\"22\": 10, \"118\": 3, \"107\": 2, \"33\": 1}, \"2\": {\"61\": 1, \"2\": 14, \"18\": 3, \"96\": 1, \"117\": 1, \"121\": 1, \"16\": 2, \"80\": 2, \"109\": 2, \"35\": 1}, \"77\": {\"77\": 12}, \"59\": {\"77\": 2, \"59\": 6, \"109\": 1, \"88\": 1, \"111\": 2}, \"127\": {\"127\": 88, \"52\": 1, \"113\": 1, \"66\": 1, \"8\": 1, \"111\": 2, \"124\": 2, \"103\": 1, \"98\": 1, \"81\": 1, \"10\": 1, \"4\": 2}, \"61\": {\"61\": 14, \"35\": 2}, \"17\": {\"17\": 17, \"81\": 1, \"99\": 1, \"11\": 1}, \"45\": {\"45\": 15, \"102\": 1}, \"19\": {\"20\": 3, \"19\": 8, \"70\": 3, \"0\": 2, \"14\": 1, \"106\": 1, \"109\": 1, \"110\": 2, \"53\": 1, \"5\": 2, \"49\": 1, \"8\": 1, \"124\": 1, \"101\": 1}, \"52\": {\"52\": 13, \"113\": 1, \"91\": 1, \"103\": 2, \"127\": 1, \"71\": 2}, \"123\": {\"77\": 1, \"123\": 10, \"117\": 2, \"54\": 1, \"81\": 1, \"75\": 1}, \"20\": {\"20\": 11, \"76\": 1, \"96\": 1, \"19\": 2, \"129\": 1}, \"112\": {\"112\": 12, \"77\": 1, \"5\": 1, \"71\": 1, \"61\": 1}, \"37\": {\"37\": 16}, \"29\": {\"29\": 32}, \"128\": {\"100\": 2, \"128\": 11, \"11\": 1, \"127\": 1, \"82\": 1, \"115\": 2, \"34\": 1, \"32\": 1, \"71\": 1, \"70\": 1, \"89\": 1, \"124\": 1}, \"100\": {\"100\": 17, \"11\": 1, \"14\": 1, \"42\": 1}, \"67\": {\"67\": 3, \"117\": 2, \"115\": 1, \"39\": 2, \"116\": 1, \"2\": 1, \"33\": 2, \"13\": 2, \"18\": 2}, \"12\": {\"12\": 75, \"113\": 1, \"111\": 7, \"106\": 4, \"8\": 1, \"91\": 1, \"99\": 1, \"27\": 1, \"41\": 1, \"29\": 1, \"127\": 2, \"98\": 1, \"0\": 1, \"16\": 1, \"70\": 1, \"124\": 1}, \"101\": {\"101\": 100, \"12\": 3, \"5\": 1, \"111\": 6, \"8\": 5, \"26\": 1, \"124\": 1, \"0\": 6, \"44\": 1, \"4\": 1, \"106\": 1, \"11\": 1, \"93\": 1}, \"76\": {\"76\": 16}, \"70\": {\"88\": 15, \"22\": 1, \"70\": 62, \"83\": 2, \"118\": 4, \"124\": 8, \"101\": 4, \"108\": 3, \"27\": 3, \"71\": 2, \"10\": 1, \"0\": 3, \"8\": 4, \"114\": 1, \"3\": 1, \"49\": 2, \"98\": 3, \"19\": 1, \"4\": 1, \"1\": 2, \"126\": 1}, \"31\": {\"39\": 1, \"118\": 1, \"31\": 10, \"45\": 2, \"44\": 2}, \"86\": {\"86\": 27, \"4\": 1}, \"88\": {\"39\": 3, \"3\": 9, \"19\": 2, \"88\": 58, \"119\": 1, \"93\": 2, \"49\": 3, \"95\": 1, \"101\": 3, \"0\": 6, \"11\": 4, \"70\": 7, \"108\": 3, \"71\": 2, \"114\": 4, \"98\": 1, \"124\": 5, \"94\": 2, \"69\": 2, \"105\": 2, \"112\": 2, \"73\": 1, \"8\": 1, \"83\": 1, \"109\": 1, \"60\": 1, \"10\": 1, \"78\": 1, \"24\": 1, \"40\": 1, \"5\": 1}, \"3\": {\"3\": 101, \"79\": 3, \"107\": 3, \"71\": 1, \"108\": 1, \"110\": 1, \"87\": 4, \"14\": 6, \"73\": 2, \"52\": 1, \"11\": 3}, \"117\": {\"117\": 109, \"63\": 1, \"126\": 2, \"114\": 1, \"16\": 2, \"26\": 3, \"113\": 2}, \"30\": {\"30\": 59, \"10\": 5, \"78\": 1, \"15\": 4, \"90\": 1, \"27\": 1, \"24\": 1, \"9\": 1, \"81\": 1, \"94\": 1, \"114\": 1}, \"96\": {\"96\": 17, \"44\": 1, \"84\": 2}, \"27\": {\"27\": 66, \"92\": 1, \"9\": 1, \"85\": 1, \"86\": 1, \"101\": 1, \"7\": 1, \"8\": 4, \"24\": 3, \"10\": 1, \"108\": 2, \"94\": 3, \"109\": 1, \"113\": 1, \"100\": 1, \"0\": 3, \"106\": 2, \"21\": 1, \"30\": 3, \"97\": 1, \"39\": 1, \"15\": 1}, \"122\": {\"122\": 45, \"43\": 9, \"74\": 2, \"119\": 1, \"48\": 1, \"33\": 6, \"110\": 2, \"118\": 3, \"108\": 1, \"90\": 2, \"62\": 3, \"17\": 2, \"84\": 1, \"44\": 2, \"116\": 1, \"99\": 1, \"39\": 1, \"127\": 1}, \"120\": {\"120\": 16, \"21\": 1, \"7\": 2, \"55\": 1}, \"44\": {\"122\": 2, \"44\": 46, \"102\": 2, \"48\": 2, \"118\": 4, \"90\": 1, \"18\": 1, \"38\": 2, \"84\": 2, \"117\": 1, \"109\": 1}, \"79\": {\"79\": 14, \"122\": 1, \"85\": 1}, \"105\": {\"105\": 83, \"40\": 1, \"76\": 1, \"93\": 1, \"11\": 3, \"88\": 1, \"87\": 2, \"115\": 2, \"64\": 2, \"81\": 1, \"107\": 1, \"24\": 1, \"7\": 1}, \"95\": {\"95\": 25, \"34\": 2, \"21\": 1, \"114\": 2, \"127\": 1, \"27\": 1}, \"109\": {\"109\": 52, \"19\": 1, \"44\": 9, \"74\": 1, \"90\": 10, \"62\": 1, \"48\": 1, \"66\": 1, \"102\": 11, \"5\": 3, \"93\": 2, \"33\": 2, \"84\": 6, \"80\": 1, \"92\": 2, \"129\": 1, \"122\": 1, \"126\": 1, \"110\": 5, \"118\": 2, \"78\": 1, \"69\": 2}, \"16\": {\"16\": 100, \"88\": 1, \"84\": 3, \"113\": 1, \"102\": 3, \"114\": 1, \"126\": 1, \"44\": 1, \"13\": 1, \"121\": 2, \"26\": 2, \"69\": 2}, \"36\": {\"36\": 84, \"113\": 1, \"6\": 2, \"25\": 1, \"27\": 3, \"10\": 2, \"24\": 3, \"108\": 1, \"39\": 1}, \"125\": {\"125\": 126, \"106\": 2, \"117\": 1, \"101\": 1, \"1\": 2, \"127\": 2, \"111\": 2}, \"97\": {\"9\": 1, \"36\": 1, \"112\": 1, \"97\": 10, \"10\": 2, \"25\": 1, \"18\": 1, \"24\": 1, \"11\": 2}, \"91\": {\"111\": 1, \"91\": 15, \"12\": 2, \"54\": 1, \"103\": 2, \"34\": 1, \"52\": 1, \"47\": 1}, \"28\": {\"28\": 20}, \"81\": {\"123\": 2, \"81\": 31, \"126\": 1, \"117\": 2}, \"126\": {\"123\": 2, \"126\": 89, \"117\": 9, \"78\": 1, \"109\": 2, \"113\": 14, \"93\": 1, \"16\": 1, \"39\": 3}, \"4\": {\"4\": 89, \"126\": 1, \"124\": 4, \"39\": 1, \"10\": 1, \"18\": 1, \"86\": 1, \"71\": 2, \"108\": 1, \"69\": 1, \"1\": 2}, \"10\": {\"30\": 11, \"10\": 63, \"36\": 7, \"6\": 1, \"126\": 1, \"15\": 14, \"8\": 4, \"94\": 2, \"27\": 5, \"88\": 2, \"24\": 8, \"70\": 2, \"0\": 2, \"97\": 1, \"39\": 1}, \"63\": {\"63\": 16}, \"43\": {\"72\": 4, \"74\": 2, \"22\": 1, \"43\": 48, \"14\": 2, \"118\": 4, \"78\": 1, \"110\": 7, \"33\": 10, \"87\": 8, \"5\": 8, \"122\": 5, \"10\": 1, \"40\": 4, \"109\": 2, \"107\": 3, \"99\": 2, \"105\": 2, \"62\": 1, \"11\": 3}, \"116\": {\"116\": 21, \"33\": 1, \"99\": 2, \"102\": 2, \"40\": 1, \"118\": 1}, \"1\": {\"1\": 74, \"23\": 2, \"99\": 1, \"10\": 1, \"111\": 1, \"11\": 1, \"107\": 4, \"71\": 3, \"4\": 2, \"3\": 2, \"93\": 1, \"120\": 2, \"87\": 2, \"7\": 4, \"98\": 1, \"108\": 1, \"70\": 1, \"40\": 1, \"114\": 3, \"12\": 1}, \"94\": {\"54\": 2, \"15\": 7, \"78\": 1, \"94\": 60, \"108\": 1, \"39\": 1, \"30\": 5, \"106\": 2, \"126\": 1, \"24\": 4, \"36\": 2, \"12\": 1, \"125\": 1}, \"38\": {\"38\": 11, \"102\": 1, \"62\": 2, \"116\": 1, \"84\": 1}, \"54\": {\"54\": 16}, \"74\": {\"74\": 12, \"14\": 2, \"7\": 1, \"44\": 1}, \"25\": {\"25\": 16}, \"75\": {\"75\": 16}, \"119\": {\"119\": 13, \"28\": 2, \"123\": 1}, \"46\": {\"46\": 15, \"128\": 2, \"124\": 1, \"41\": 1, \"84\": 1}, \"23\": {\"23\": 2, \"54\": 1, \"126\": 1, \"127\": 1, \"113\": 1, \"102\": 1, \"39\": 1, \"86\": 3, \"121\": 1, \"109\": 1, \"65\": 1, \"75\": 1, \"34\": 1}, \"99\": {\"99\": 35, \"32\": 1, \"87\": 1, \"40\": 2, \"107\": 1}, \"33\": {\"33\": 107, \"118\": 2, \"14\": 2, \"102\": 1, \"22\": 1, \"7\": 1, \"80\": 1, \"24\": 1, \"107\": 2}, \"47\": {\"47\": 9, \"30\": 2, \"10\": 1}, \"115\": {\"87\": 2, \"115\": 7, \"72\": 2, \"14\": 2, \"107\": 1, \"105\": 1, \"76\": 1}, \"6\": {\"103\": 1, \"6\": 6, \"25\": 1, \"120\": 1, \"58\": 2, \"12\": 1, \"8\": 2, \"15\": 2, \"10\": 1, \"29\": 2, \"98\": 1, \"42\": 2, \"106\": 1, \"27\": 1}, \"65\": {\"65\": 10, \"26\": 2}, \"66\": {\"66\": 11, \"90\": 2, \"62\": 1, \"38\": 2}, \"78\": {\"32\": 1, \"8\": 2, \"78\": 6, \"89\": 1, \"95\": 2, \"87\": 4, \"127\": 1, \"82\": 1, \"108\": 2, \"14\": 1, \"88\": 3, \"107\": 1, \"3\": 1, \"111\": 1, \"1\": 3, \"70\": 1, \"11\": 1, \"109\": 1, \"122\": 2, \"5\": 1}, \"98\": {\"98\": 106, \"114\": 2, \"111\": 2, \"1\": 2, \"127\": 3, \"124\": 1}, \"93\": {\"93\": 115, \"69\": 1}, \"48\": {\"48\": 13, \"92\": 2, \"50\": 1}, \"124\": {\"124\": 111, \"4\": 1, \"127\": 1, \"24\": 1}}, \"Wisig_2\": {\"115\": {\"115\": 12}, \"34\": {\"34\": 19, \"91\": 1, \"124\": 2, \"103\": 1, \"53\": 2, \"35\": 2, \"49\": 1, \"128\": 1, \"12\": 1, \"3\": 1, \"122\": 1}, \"97\": {\"97\": 13, \"90\": 1, \"30\": 1, \"77\": 2, \"52\": 2, \"6\": 1}, \"100\": {\"100\": 16}, \"129\": {\"129\": 29, \"123\": 1, \"19\": 1, \"3\": 1}, \"90\": {\"90\": 139, \"102\": 1, \"33\": 1, \"69\": 1}, \"125\": {\"125\": 127, \"12\": 2, \"2\": 1, \"114\": 2}, \"7\": {\"7\": 109, \"95\": 1, \"10\": 1, \"86\": 1, \"114\": 1, \"71\": 6, \"40\": 2, \"18\": 1, \"117\": 1, \"105\": 1, \"88\": 1, \"122\": 2, \"4\": 1}, \"92\": {\"80\": 2, \"92\": 24, \"48\": 1, \"67\": 1}, \"114\": {\"114\": 109, \"39\": 1, \"71\": 2, \"122\": 1, \"68\": 1, \"7\": 2}, \"80\": {\"80\": 14, \"62\": 1, \"102\": 1}, \"16\": {\"16\": 107, \"93\": 2, \"109\": 2, \"126\": 1, \"90\": 3, \"87\": 3, \"70\": 1, \"99\": 1, \"88\": 1, \"84\": 1}, \"69\": {\"69\": 102, \"113\": 1, \"18\": 4, \"26\": 5, \"84\": 2, \"21\": 1, \"109\": 1}, \"102\": {\"102\": 113, \"31\": 1}, \"33\": {\"33\": 119, \"84\": 6, \"62\": 4, \"90\": 1}, \"17\": {\"114\": 2, \"17\": 12, \"2\": 1, \"41\": 1}, \"27\": {\"27\": 48, \"36\": 10, \"24\": 1, \"126\": 1, \"101\": 1, \"9\": 2, \"30\": 1, \"15\": 1, \"87\": 1, \"94\": 2}, \"117\": {\"117\": 91, \"12\": 1, \"113\": 1, \"18\": 5, \"26\": 4, \"39\": 1, \"120\": 1, \"102\": 2}, \"14\": {\"14\": 41, \"78\": 2, \"129\": 2, \"88\": 1, \"58\": 1, \"21\": 1}, \"86\": {\"86\": 32}, \"0\": {\"0\": 101, \"21\": 1, \"100\": 1, \"101\": 4, \"126\": 1, \"11\": 1, \"8\": 2, \"24\": 3, \"94\": 1, \"108\": 1}, \"62\": {\"62\": 104, \"80\": 1, \"82\": 2, \"33\": 14, \"102\": 1, \"109\": 1, \"43\": 4, \"84\": 6, \"90\": 1, \"14\": 2, \"15\": 1, \"24\": 1}, \"39\": {\"39\": 52, \"81\": 1, \"78\": 1, \"110\": 1, \"26\": 9, \"117\": 1, \"69\": 3, \"18\": 9, \"93\": 4, \"89\": 1, \"87\": 1, \"94\": 1, \"113\": 1, \"102\": 4, \"16\": 2, \"7\": 1, \"109\": 9, \"88\": 3, \"121\": 2, \"120\": 1, \"31\": 1, \"90\": 2, \"2\": 2}, \"19\": {\"44\": 4, \"73\": 2, \"19\": 13, \"35\": 1, \"71\": 1, \"122\": 1, \"1\": 2, \"5\": 1, \"83\": 2, \"4\": 1}, \"44\": {\"44\": 100}, \"104\": {\"86\": 2, \"17\": 2, \"104\": 10, \"10\": 1, \"54\": 1, \"40\": 4}, \"3\": {\"19\": 2, \"3\": 110, \"107\": 2, \"109\": 1, \"87\": 1, \"24\": 1, \"26\": 1, \"43\": 1, \"21\": 1, \"10\": 1, \"122\": 1, \"36\": 1, \"5\": 5, \"1\": 2}, \"10\": {\"10\": 26, \"53\": 3, \"74\": 1, \"5\": 4, \"120\": 1, \"32\": 2, \"47\": 1, \"107\": 5, \"129\": 2, \"71\": 1, \"70\": 1, \"44\": 1, \"122\": 4, \"19\": 1, \"21\": 2, \"7\": 2, \"126\": 1, \"4\": 1, \"18\": 1}, \"61\": {\"76\": 2, \"61\": 10, \"121\": 1, \"70\": 1, \"74\": 2, \"50\": 2, \"58\": 2}, \"111\": {\"103\": 2, \"111\": 109, \"127\": 3}, \"68\": {\"86\": 5, \"98\": 1, \"68\": 10}, \"101\": {\"101\": 138, \"21\": 1, \"0\": 1, \"118\": 1, \"94\": 1, \"30\": 2}, \"36\": {\"36\": 107, \"121\": 1, \"27\": 4, \"18\": 1, \"30\": 1, \"24\": 3, \"117\": 2, \"93\": 1, \"16\": 1, \"9\": 1, \"101\": 4, \"4\": 1, \"109\": 1}, \"120\": {\"120\": 16, \"117\": 1, \"26\": 1, \"65\": 2}, \"103\": {\"103\": 14, \"54\": 2}, \"47\": {\"47\": 10, \"129\": 2}, \"98\": {\"98\": 103, \"35\": 1, \"111\": 2, \"12\": 3, \"127\": 2, \"29\": 1, \"8\": 2, \"71\": 3, \"33\": 1, \"114\": 2}, \"76\": {\"76\": 16}, \"88\": {\"88\": 65, \"16\": 6, \"19\": 2, \"14\": 1, \"93\": 12, \"18\": 1, \"90\": 3, \"44\": 3, \"83\": 3, \"109\": 11, \"118\": 4, \"126\": 3, \"70\": 4, \"87\": 4, \"119\": 1, \"78\": 1}, \"93\": {\"93\": 125, \"16\": 8, \"14\": 1, \"24\": 1, \"87\": 1, \"102\": 2}, \"23\": {\"120\": 1, \"86\": 1, \"11\": 2, \"127\": 2, \"99\": 4, \"71\": 3, \"72\": 1, \"29\": 2, \"18\": 1, \"124\": 3, \"69\": 1, \"126\": 1, \"117\": 1, \"98\": 2, \"114\": 4, \"109\": 1, \"118\": 2, \"34\": 3, \"121\": 1, \"39\": 1, \"105\": 1, \"113\": 3, \"5\": 1, \"23\": 2}, \"108\": {\"108\": 81, \"112\": 1, \"10\": 1, \"107\": 4, \"79\": 3, \"8\": 16, \"0\": 2, \"126\": 2, \"109\": 1, \"98\": 3, \"30\": 1, \"70\": 1, \"93\": 1, \"11\": 1, \"127\": 1, \"12\": 1, \"111\": 3, \"124\": 1}, \"51\": {\"77\": 2, \"79\": 2, \"90\": 2, \"51\": 6, \"8\": 2, \"58\": 2, \"6\": 1, \"127\": 2, \"21\": 1}, \"13\": {\"13\": 8, \"121\": 1, \"118\": 2, \"60\": 1, \"92\": 1, \"87\": 2, \"71\": 1}, \"77\": {\"77\": 16}, \"46\": {\"46\": 16}, \"96\": {\"96\": 20}, \"119\": {\"119\": 18, \"94\": 1, \"83\": 1}, \"121\": {\"13\": 2, \"121\": 22, \"2\": 1, \"117\": 4, \"81\": 2, \"65\": 3, \"26\": 2}, \"54\": {\"54\": 15, \"28\": 1, \"34\": 1, \"111\": 1, \"104\": 1, \"121\": 1}, \"82\": {\"82\": 31, \"33\": 2, \"60\": 2, \"65\": 1}, \"12\": {\"12\": 58, \"68\": 2, \"127\": 6, \"91\": 2, \"111\": 4, \"98\": 9, \"10\": 1, \"29\": 1, \"34\": 1, \"30\": 2, \"0\": 1, \"24\": 1}, \"74\": {\"74\": 13, \"32\": 2, \"22\": 1}, \"66\": {\"66\": 18, \"15\": 1, \"27\": 1}, \"28\": {\"28\": 15, \"105\": 2, \"66\": 1, \"32\": 2}, \"52\": {\"52\": 19, \"106\": 1}, \"41\": {\"41\": 18, \"15\": 1, \"11\": 1}, \"81\": {\"81\": 24}, \"48\": {\"48\": 20}, \"113\": {\"113\": 63, \"72\": 1, \"69\": 1, \"117\": 2, \"18\": 2, \"81\": 2, \"5\": 1}, \"53\": {\"53\": 16}, \"15\": {\"15\": 105, \"127\": 1, \"75\": 1, \"6\": 3, \"101\": 2, \"94\": 1, \"108\": 1, \"125\": 2, \"24\": 2, \"0\": 1, \"30\": 1}, \"30\": {\"30\": 68, \"8\": 6, \"52\": 2, \"97\": 2, \"0\": 2, \"105\": 1, \"10\": 1, \"128\": 1, \"6\": 1, \"106\": 10, \"24\": 2, \"94\": 1, \"109\": 1, \"108\": 3, \"58\": 2, \"110\": 1, \"111\": 2, \"15\": 3, \"84\": 1, \"127\": 1, \"126\": 1}, \"43\": {\"43\": 92, \"14\": 1, \"1\": 11, \"22\": 1, \"33\": 1, \"3\": 1, \"109\": 2, \"105\": 4, \"93\": 1, \"40\": 3, \"62\": 1, \"70\": 2, \"80\": 1, \"20\": 1, \"117\": 1, \"88\": 1}, \"29\": {\"29\": 32}, \"109\": {\"109\": 50, \"20\": 1, \"90\": 4, \"99\": 2, \"1\": 1, \"39\": 3, \"119\": 1, \"93\": 8, \"120\": 1, \"16\": 6, \"87\": 5, \"88\": 11, \"70\": 1, \"102\": 2, \"84\": 4}, \"60\": {\"43\": 1, \"60\": 13, \"110\": 2, \"46\": 1, \"1\": 2, \"99\": 1, \"116\": 1, \"70\": 1, \"3\": 2, \"84\": 1, \"44\": 1, \"73\": 2}, \"70\": {\"70\": 43, \"60\": 2, \"1\": 13, \"87\": 5, \"50\": 1, \"126\": 5, \"78\": 1, \"23\": 2, \"16\": 1, \"93\": 3, \"88\": 10, \"43\": 12, \"117\": 2, \"33\": 4, \"40\": 1, \"62\": 1, \"46\": 1, \"107\": 1, \"44\": 1, \"109\": 3, \"5\": 1, \"71\": 1, \"39\": 3, \"14\": 2, \"124\": 1, \"90\": 1, \"3\": 1}, \"127\": {\"127\": 106, \"77\": 2, \"12\": 7, \"111\": 2, \"114\": 2, \"16\": 1, \"98\": 3, \"71\": 1}, \"32\": {\"73\": 1, \"29\": 1, \"11\": 3, \"32\": 14, \"122\": 3, \"124\": 1, \"101\": 1, \"40\": 2, \"129\": 2, \"95\": 1, \"10\": 2, \"22\": 1, \"128\": 2, \"1\": 1, \"3\": 1}, \"73\": {\"73\": 19, \"88\": 1, \"71\": 2, \"3\": 6}, \"50\": {\"50\": 12, \"75\": 1, \"21\": 1, \"101\": 1, \"67\": 1}, \"1\": {\"1\": 110, \"105\": 1, \"117\": 1, \"38\": 2, \"43\": 2, \"118\": 2, \"60\": 1, \"93\": 1, \"109\": 1, \"126\": 1, \"62\": 2}, \"106\": {\"106\": 97, \"75\": 1, \"58\": 3, \"21\": 1, \"15\": 5, \"30\": 6, \"127\": 2, \"36\": 1, \"96\": 1, \"77\": 2, \"88\": 1}, \"123\": {\"123\": 16}, \"79\": {\"79\": 16}, \"4\": {\"4\": 79, \"105\": 2, \"7\": 2, \"94\": 1, \"126\": 1, \"108\": 1, \"5\": 2}, \"2\": {\"121\": 3, \"2\": 19, \"99\": 1, \"18\": 3, \"72\": 1, \"26\": 2, \"113\": 1, \"39\": 1, \"117\": 1}, \"8\": {\"8\": 95, \"88\": 3, \"108\": 17, \"126\": 3, \"44\": 1, \"70\": 2, \"79\": 1, \"11\": 3, \"12\": 1, \"84\": 1, \"93\": 1}, \"83\": {\"83\": 40}, \"105\": {\"74\": 2, \"105\": 109, \"22\": 2, \"40\": 14, \"21\": 1, \"1\": 2}, \"5\": {\"5\": 96, \"53\": 1, \"82\": 1, \"107\": 1, \"128\": 1, \"70\": 2, \"127\": 2, \"71\": 1, \"93\": 1, \"3\": 5, \"88\": 1}, \"99\": {\"99\": 28, \"109\": 2, \"2\": 2}, \"25\": {\"25\": 15, \"28\": 1}, \"59\": {\"59\": 6, \"17\": 1, \"21\": 2, \"103\": 2, \"98\": 2, \"91\": 1, \"93\": 1, \"29\": 1}, \"42\": {\"97\": 1, \"8\": 1, \"52\": 2, \"11\": 1, \"111\": 4, \"44\": 1, \"106\": 3, \"129\": 2, \"127\": 2, \"54\": 1, \"53\": 1, \"42\": 2, \"18\": 1, \"6\": 2, \"98\": 1, \"51\": 1, \"30\": 1, \"3\": 1}, \"55\": {\"95\": 1, \"118\": 1, \"55\": 11, \"61\": 1, \"84\": 1, \"38\": 1}, \"75\": {\"75\": 16}, \"118\": {\"118\": 41, \"82\": 5, \"90\": 4, \"48\": 2, \"84\": 6, \"62\": 3, \"87\": 2, \"99\": 1, \"63\": 1, \"83\": 1, \"116\": 1, \"102\": 1}, \"95\": {\"55\": 2, \"21\": 1, \"95\": 29, \"40\": 1, \"13\": 1, \"4\": 2}, \"122\": {\"68\": 2, \"122\": 56, \"32\": 2, \"85\": 4, \"29\": 2, \"128\": 1, \"4\": 3, \"7\": 2, \"124\": 7, \"88\": 1, \"24\": 1, \"5\": 6, \"10\": 3, \"11\": 2, \"114\": 11, \"8\": 2, \"125\": 1, \"44\": 1, \"3\": 4, \"107\": 2, \"53\": 2, \"110\": 2, \"86\": 1, \"127\": 1, \"108\": 1}, \"20\": {\"20\": 12, \"18\": 2, \"16\": 2}, \"110\": {\"122\": 2, \"110\": 23, \"53\": 1, \"123\": 1, \"26\": 1, \"35\": 1, \"6\": 1, \"21\": 1, \"5\": 3, \"39\": 1, \"14\": 2, \"99\": 1, \"4\": 2}, \"65\": {\"65\": 18, \"121\": 1, \"81\": 1}, \"37\": {\"66\": 1, \"37\": 14, \"95\": 1}, \"64\": {\"64\": 16}, \"63\": {\"63\": 19, \"18\": 1}, \"40\": {\"40\": 101, \"105\": 15, \"18\": 2, \"88\": 3, \"7\": 4, \"3\": 2, \"93\": 1, \"43\": 4, \"62\": 2, \"16\": 1, \"71\": 1, \"113\": 1, \"4\": 1, \"126\": 1, \"69\": 1}, \"21\": {\"21\": 38, \"117\": 1, \"109\": 2, \"82\": 1, \"88\": 2, \"99\": 2, \"11\": 1, \"92\": 1}, \"11\": {\"11\": 61, \"108\": 2, \"5\": 4, \"124\": 2, \"8\": 3, \"83\": 1, \"119\": 1, \"86\": 1, \"49\": 1, \"88\": 1, \"28\": 2, \"18\": 1}, \"67\": {\"67\": 16}, \"91\": {\"91\": 18, \"70\": 1, \"18\": 1, \"98\": 2, \"12\": 3, \"103\": 1, \"4\": 2}, \"87\": {\"87\": 57, \"118\": 6, \"62\": 3, \"90\": 14, \"109\": 6, \"93\": 4, \"70\": 1, \"88\": 1, \"84\": 5, \"102\": 3, \"24\": 1, \"39\": 2, \"33\": 4, \"113\": 1, \"16\": 3, \"1\": 1}, \"89\": {\"89\": 35, \"18\": 1}, \"9\": {\"9\": 32}, \"124\": {\"124\": 100, \"86\": 2, \"29\": 2, \"71\": 2, \"3\": 2, \"128\": 2, \"53\": 1, \"122\": 3}, \"56\": {\"56\": 10, \"6\": 1, \"125\": 1}, \"38\": {\"38\": 16}, \"94\": {\"94\": 26, \"9\": 2, \"106\": 4, \"88\": 1, \"101\": 8, \"30\": 4, \"27\": 1, \"5\": 1, \"15\": 9, \"0\": 2, \"87\": 1, \"117\": 1, \"7\": 1, \"109\": 1, \"18\": 1, \"8\": 1}, \"6\": {\"6\": 16, \"103\": 1, \"111\": 4, \"91\": 1, \"9\": 1, \"30\": 1, \"24\": 1, \"125\": 2, \"101\": 1, \"77\": 1, \"36\": 1, \"51\": 1, \"15\": 1}, \"58\": {\"58\": 13, \"125\": 2, \"42\": 1, \"30\": 2, \"6\": 2}, \"22\": {\"22\": 15, \"40\": 2, \"105\": 2, \"50\": 1}, \"24\": {\"24\": 68, \"108\": 2, \"118\": 1, \"101\": 9, \"36\": 2, \"42\": 1, \"94\": 3, \"109\": 2, \"30\": 2, \"8\": 2, \"27\": 2, \"70\": 1, \"0\": 4, \"69\": 1, \"15\": 3, \"25\": 1, \"114\": 1, \"112\": 1, \"117\": 1, \"107\": 1, \"126\": 2, \"18\": 1, \"88\": 1}, \"57\": {\"57\": 20}, \"112\": {\"112\": 10, \"53\": 1, \"11\": 2, \"24\": 1, \"129\": 1, \"19\": 1}, \"116\": {\"116\": 15, \"78\": 2, \"62\": 2, \"118\": 4, \"33\": 2, \"87\": 1, \"82\": 1, \"90\": 1}, \"18\": {\"18\": 96, \"99\": 2, \"1\": 1, \"89\": 2, \"117\": 3, \"102\": 2, \"26\": 8, \"94\": 1, \"70\": 1, \"16\": 1, \"121\": 2, \"113\": 2, \"90\": 4, \"0\": 1, \"69\": 2}, \"49\": {\"86\": 2, \"30\": 2, \"49\": 8, \"8\": 1, \"99\": 1, \"11\": 2, \"122\": 1, \"29\": 1, \"125\": 1, \"19\": 1, \"77\": 2, \"5\": 1, \"108\": 1}, \"45\": {\"45\": 14, \"19\": 2}, \"107\": {\"5\": 4, \"10\": 3, \"107\": 34, \"99\": 1, \"122\": 4, \"0\": 1, \"85\": 2, \"94\": 1, \"3\": 2, \"105\": 2, \"61\": 1, \"24\": 1, \"14\": 1, \"4\": 1, \"20\": 1, \"110\": 1, \"32\": 2, \"36\": 1, \"87\": 1}, \"35\": {\"35\": 11, \"73\": 1}, \"78\": {\"78\": 18, \"50\": 2, \"43\": 7, \"20\": 1, \"93\": 1, \"14\": 1, \"118\": 2, \"126\": 1, \"39\": 1, \"40\": 1, \"70\": 3, \"71\": 1, \"38\": 2, \"104\": 1, \"22\": 2, \"109\": 1, \"3\": 1, \"87\": 1, \"1\": 1}, \"126\": {\"126\": 115, \"3\": 1, \"44\": 1, \"70\": 1, \"88\": 2}, \"85\": {\"85\": 29, \"10\": 1, \"5\": 2}, \"72\": {\"72\": 24, \"117\": 1, \"21\": 1, \"116\": 1, \"63\": 1}, \"26\": {\"26\": 113, \"69\": 3, \"18\": 4, \"113\": 2, \"109\": 1, \"117\": 1}, \"84\": {\"84\": 75, \"111\": 1, \"62\": 2, \"90\": 5, \"33\": 5, \"87\": 1, \"113\": 1, \"1\": 1, \"102\": 1}, \"128\": {\"108\": 1, \"107\": 3, \"85\": 2, \"46\": 1, \"111\": 1, \"5\": 3, \"110\": 1, \"128\": 3, \"97\": 2, \"30\": 2, \"11\": 1, \"3\": 2, \"106\": 1, \"14\": 1}, \"31\": {\"31\": 20}, \"71\": {\"71\": 77, \"85\": 1, \"7\": 3, \"16\": 1, \"5\": 5, \"122\": 6, \"11\": 1, \"114\": 3, \"53\": 2, \"3\": 1}}, \"Wisig_1\": {\"22\": {\"22\": 16}, \"58\": {\"58\": 12}, \"109\": {\"109\": 110, \"20\": 1, \"3\": 1, \"126\": 6, \"96\": 1, \"76\": 1, \"21\": 1, \"11\": 1, \"12\": 2}, \"77\": {\"77\": 16}, \"74\": {\"74\": 15, \"61\": 1}, \"10\": {\"10\": 66, \"40\": 8, \"1\": 1, \"8\": 7, \"86\": 4, \"44\": 4, \"84\": 1, \"93\": 7, \"85\": 1, \"4\": 9, \"0\": 2, \"114\": 1, \"41\": 2, \"96\": 1, \"36\": 1, \"105\": 3, \"5\": 1, \"107\": 1}, \"70\": {\"109\": 5, \"70\": 77, \"8\": 5, \"21\": 1, \"84\": 2, \"2\": 1, \"44\": 8, \"126\": 6, \"124\": 4, \"93\": 3, \"10\": 3, \"18\": 1, \"5\": 2, \"3\": 1, \"103\": 1, \"19\": 1, \"128\": 1, \"73\": 1, \"106\": 1, \"87\": 2, \"108\": 2}, \"84\": {\"42\": 2, \"23\": 1, \"84\": 93, \"1\": 6, \"14\": 5, \"114\": 1}, \"52\": {\"52\": 17, \"86\": 1, \"27\": 2}, \"20\": {\"20\": 14, \"97\": 1, \"43\": 1}, \"14\": {\"14\": 89, \"42\": 1, \"113\": 1, \"84\": 2, \"1\": 3}, \"37\": {\"37\": 15, \"56\": 1}, \"42\": {\"10\": 1, \"20\": 1, \"60\": 1, \"54\": 1, \"40\": 1, \"83\": 2, \"42\": 8, \"107\": 1, \"4\": 3, \"82\": 1, \"33\": 2, \"121\": 1, \"86\": 1, \"2\": 1, \"114\": 2, \"109\": 1}, \"99\": {\"99\": 24}, \"35\": {\"35\": 12}, \"62\": {\"62\": 101, \"18\": 1, \"69\": 2, \"102\": 2, \"33\": 9, \"26\": 2, \"119\": 2, \"113\": 1}, \"61\": {\"61\": 12}, \"7\": {\"7\": 135, \"90\": 1, \"81\": 1, \"48\": 1, \"43\": 2, \"3\": 1, \"39\": 1}, \"69\": {\"69\": 97, \"18\": 2, \"117\": 2, \"39\": 1, \"26\": 2}, \"55\": {\"55\": 12}, \"41\": {\"41\": 16}, \"120\": {\"120\": 20}, \"123\": {\"123\": 16}, \"97\": {\"97\": 12, \"75\": 1, \"62\": 1, \"30\": 1, \"59\": 1, \"119\": 1, \"108\": 2, \"126\": 1}, \"102\": {\"102\": 117, \"16\": 1, \"18\": 1, \"109\": 1}, \"60\": {\"60\": 5, \"18\": 1, \"73\": 2, \"117\": 2, \"66\": 2, \"118\": 1, \"23\": 1, \"19\": 1, \"30\": 1}, \"127\": {\"127\": 88, \"32\": 2, \"106\": 6, \"4\": 1, \"26\": 1, \"11\": 1, \"78\": 1, \"111\": 8}, \"32\": {\"127\": 2, \"32\": 14, \"91\": 3, \"75\": 1, \"51\": 2, \"23\": 2, \"111\": 3, \"112\": 2, \"71\": 1, \"89\": 1, \"6\": 1}, \"3\": {\"102\": 2, \"3\": 69, \"88\": 1, \"15\": 2, \"90\": 4, \"11\": 4, \"36\": 1, \"1\": 1, \"30\": 1, \"33\": 2, \"113\": 1}, \"8\": {\"8\": 79, \"29\": 1, \"79\": 1, \"107\": 5, \"5\": 8, \"4\": 5, \"10\": 7, \"124\": 7, \"85\": 1, \"86\": 1, \"93\": 5, \"114\": 2}, \"129\": {\"129\": 12, \"8\": 1, \"50\": 1, \"2\": 1, \"1\": 1, \"44\": 3, \"128\": 2, \"84\": 1, \"3\": 1, \"64\": 1, \"19\": 1, \"73\": 1, \"116\": 1, \"33\": 1}, \"119\": {\"119\": 16}, \"21\": {\"109\": 3, \"20\": 1, \"21\": 24, \"78\": 1, \"108\": 1, \"7\": 1, \"72\": 1, \"114\": 1, \"14\": 1, \"99\": 1, \"23\": 1, \"32\": 1, \"87\": 1, \"9\": 1, \"11\": 1}, \"53\": {\"53\": 20}, \"28\": {\"28\": 19, \"7\": 1}, \"117\": {\"117\": 141, \"16\": 3}, \"112\": {\"112\": 15, \"32\": 1}, \"126\": {\"126\": 127, \"108\": 1, \"109\": 1, \"113\": 1, \"104\": 2, \"39\": 1, \"44\": 1}, \"30\": {\"30\": 39, \"75\": 1, \"97\": 1, \"24\": 1, \"88\": 2, \"108\": 3, \"94\": 1, \"111\": 1, \"27\": 2, \"21\": 1}, \"105\": {\"105\": 64, \"26\": 2, \"18\": 1, \"40\": 11, \"41\": 2, \"87\": 2, \"124\": 1, \"43\": 1}, \"29\": {\"29\": 27, \"72\": 1}, \"57\": {\"57\": 12}, \"93\": {\"93\": 75, \"8\": 12, \"105\": 6, \"34\": 1, \"86\": 4, \"44\": 1, \"4\": 7, \"10\": 9, \"5\": 5, \"87\": 1, \"114\": 2, \"14\": 1, \"3\": 1, \"12\": 1, \"107\": 6, \"46\": 1, \"124\": 1, \"40\": 5, \"109\": 1}, \"17\": {\"17\": 13, \"75\": 1, \"85\": 2}, \"44\": {\"44\": 72, \"19\": 1, \"124\": 2, \"70\": 1}, \"63\": {\"63\": 15, \"117\": 1}, \"87\": {\"57\": 1, \"87\": 62, \"40\": 10, \"48\": 1, \"114\": 14, \"84\": 3, \"124\": 2, \"1\": 4, \"7\": 3, \"109\": 1, \"105\": 4, \"122\": 1, \"4\": 1, \"126\": 1}, \"0\": {\"0\": 72, \"59\": 1, \"89\": 1, \"110\": 3, \"107\": 2, \"122\": 1, \"98\": 2, \"83\": 1, \"124\": 1}, \"96\": {\"96\": 15, \"104\": 1, \"25\": 1, \"126\": 1, \"18\": 1, \"20\": 1}, \"98\": {\"98\": 106, \"106\": 2}, \"75\": {\"75\": 16}, \"78\": {\"57\": 1, \"96\": 1, \"87\": 1, \"120\": 1, \"43\": 2, \"78\": 4, \"80\": 2, \"99\": 1, \"110\": 1, \"81\": 2}, \"116\": {\"119\": 4, \"50\": 2, \"116\": 15, \"102\": 1, \"48\": 2, \"76\": 2, \"62\": 1, \"80\": 2, \"120\": 1, \"7\": 1, \"70\": 1}, \"114\": {\"114\": 121, \"40\": 4, \"26\": 1, \"1\": 1, \"121\": 1}, \"103\": {\"103\": 12, \"71\": 2, \"106\": 2}, \"50\": {\"50\": 16}, \"124\": {\"124\": 126, \"5\": 2}, \"5\": {\"5\": 73, \"49\": 1, \"35\": 2, \"114\": 2, \"8\": 2, \"107\": 2, \"124\": 4, \"18\": 1, \"15\": 1}, \"73\": {\"73\": 19, \"103\": 1}, \"81\": {\"81\": 24, \"82\": 2, \"100\": 2}, \"49\": {\"49\": 12, \"124\": 2, \"93\": 1, \"32\": 1, \"34\": 2, \"9\": 1, \"112\": 1}, \"16\": {\"16\": 80, \"117\": 13, \"118\": 3, \"26\": 5, \"18\": 3, \"63\": 2, \"95\": 2}, \"101\": {\"101\": 122, \"108\": 1, \"70\": 1}, \"125\": {\"125\": 117, \"51\": 1}, \"65\": {\"16\": 1, \"81\": 2, \"53\": 1, \"123\": 1, \"33\": 2, \"60\": 1, \"74\": 1, \"18\": 1, \"82\": 1, \"65\": 1}, \"66\": {\"66\": 15, \"62\": 1}, \"79\": {\"79\": 12}, \"39\": {\"39\": 65, \"117\": 13, \"16\": 5, \"13\": 1, \"63\": 1, \"24\": 1, \"69\": 1, \"18\": 15, \"129\": 1, \"3\": 1}, \"104\": {\"104\": 16}, \"91\": {\"91\": 13, \"53\": 4, \"89\": 3, \"31\": 1, \"103\": 4, \"106\": 2, \"32\": 1}, \"25\": {\"25\": 14, \"22\": 2}, \"64\": {\"64\": 16}, \"34\": {\"25\": 2, \"98\": 3, \"8\": 1, \"37\": 1, \"1\": 3, \"34\": 1, \"106\": 1, \"89\": 1, \"30\": 1, \"125\": 3, \"43\": 1, \"5\": 2, \"17\": 2, \"92\": 4, \"87\": 3, \"84\": 2, \"71\": 1}, \"82\": {\"82\": 35, \"81\": 1}, \"18\": {\"18\": 118, \"26\": 2, \"117\": 2, \"39\": 2}, \"43\": {\"43\": 79, \"23\": 1, \"7\": 13, \"78\": 1, \"15\": 1, \"122\": 12, \"11\": 3, \"90\": 2, \"109\": 1, \"1\": 5, \"87\": 3, \"81\": 2, \"99\": 2, \"84\": 2, \"3\": 1}, \"47\": {\"47\": 12}, \"108\": {\"108\": 84, \"21\": 1, \"27\": 2, \"88\": 3, \"100\": 1, \"5\": 2, \"101\": 14, \"24\": 9, \"18\": 1, \"70\": 2, \"97\": 1, \"128\": 1, \"94\": 1, \"71\": 1, \"113\": 1}, \"111\": {\"111\": 102, \"70\": 1, \"112\": 2, \"127\": 3}, \"23\": {\"90\": 3, \"75\": 2, \"23\": 2, \"82\": 2, \"44\": 1, \"7\": 2, \"110\": 4, \"32\": 1, \"60\": 1, \"62\": 2, \"107\": 2, \"80\": 2}, \"90\": {\"90\": 156, \"66\": 1, \"88\": 2, \"113\": 1}, \"4\": {\"4\": 97, \"40\": 1, \"10\": 1, \"18\": 1}, \"92\": {\"92\": 28}, \"2\": {\"2\": 13, \"28\": 1, \"117\": 2, \"90\": 1, \"82\": 3, \"26\": 1, \"62\": 2, \"16\": 1, \"11\": 2, \"99\": 2, \"15\": 1, \"18\": 2, \"33\": 1}, \"45\": {\"84\": 3, \"23\": 1, \"19\": 2, \"42\": 2, \"13\": 1, \"45\": 2, \"117\": 1}, \"68\": {\"68\": 16}, \"26\": {\"26\": 114, \"63\": 2, \"95\": 4, \"118\": 3, \"16\": 3, \"39\": 2}, \"38\": {\"38\": 16}, \"40\": {\"40\": 124, \"105\": 13, \"107\": 2, \"4\": 2, \"93\": 1}, \"80\": {\"80\": 14, \"81\": 1, \"69\": 1}, \"107\": {\"107\": 109, \"65\": 1, \"89\": 2, \"11\": 1, \"110\": 3, \"10\": 1, \"8\": 1, \"86\": 2, \"39\": 1, \"126\": 1}, \"94\": {\"94\": 82, \"27\": 1, \"15\": 2, \"30\": 2, \"88\": 3, \"36\": 2}, \"115\": {\"115\": 12}, \"46\": {\"41\": 1, \"32\": 1, \"105\": 2, \"52\": 2, \"70\": 1, \"46\": 1, \"103\": 2, \"54\": 1, \"6\": 1}, \"72\": {\"72\": 31, \"9\": 1}, \"19\": {\"19\": 15, \"104\": 4, \"73\": 1, \"122\": 1, \"14\": 1, \"96\": 4, \"129\": 1, \"20\": 1}, \"100\": {\"100\": 11, \"11\": 1, \"82\": 1, \"72\": 1, \"90\": 1, \"36\": 1}, \"76\": {\"76\": 13, \"67\": 2, \"88\": 1}, \"106\": {\"106\": 118, \"127\": 5, \"98\": 1, \"103\": 2, \"91\": 3, \"68\": 1, \"111\": 2}, \"88\": {\"94\": 7, \"88\": 85, \"24\": 9, \"30\": 1, \"15\": 4, \"27\": 11, \"70\": 1, \"101\": 3, \"36\": 5, \"9\": 1, \"126\": 2, \"71\": 1}, \"15\": {\"15\": 86, \"127\": 1, \"71\": 9, \"27\": 1, \"12\": 5, \"111\": 1, \"113\": 1}, \"54\": {\"54\": 12, \"15\": 1, \"97\": 1, \"46\": 2}, \"13\": {\"13\": 16}, \"51\": {\"51\": 15, \"106\": 1}, \"24\": {\"24\": 76, \"88\": 8, \"27\": 1, \"108\": 6, \"118\": 1}, \"48\": {\"7\": 1, \"38\": 1, \"48\": 10}, \"85\": {\"85\": 31, \"4\": 1}, \"33\": {\"33\": 135, \"62\": 4, \"69\": 1}, \"71\": {\"71\": 84, \"122\": 1, \"127\": 2, \"6\": 1, \"110\": 1, \"111\": 7, \"12\": 6, \"16\": 1, \"123\": 1, \"39\": 1, \"125\": 3}, \"6\": {\"6\": 12, \"71\": 1, \"110\": 1, \"106\": 4, \"68\": 1, \"127\": 1, \"15\": 2, \"111\": 2, \"98\": 2, \"89\": 1, \"36\": 2, \"75\": 1, \"91\": 1, \"94\": 1}, \"83\": {\"83\": 24, \"18\": 1, \"4\": 2, \"118\": 1}, \"121\": {\"117\": 4, \"123\": 3, \"121\": 22, \"18\": 2, \"118\": 1}, \"31\": {\"31\": 13, \"122\": 1, \"55\": 2}, \"67\": {\"109\": 1, \"67\": 13, \"116\": 2}, \"1\": {\"1\": 129, \"14\": 3, \"84\": 3, \"18\": 1}, \"27\": {\"27\": 60, \"88\": 15, \"107\": 1, \"24\": 1, \"94\": 5, \"30\": 7, \"36\": 2, \"15\": 1}, \"118\": {\"118\": 65, \"63\": 2, \"95\": 2, \"16\": 5, \"39\": 1, \"117\": 3, \"26\": 5, \"69\": 1}, \"56\": {\"56\": 12}, \"36\": {\"36\": 125, \"39\": 1, \"88\": 2}, \"11\": {\"11\": 77, \"64\": 1, \"90\": 13, \"43\": 1, \"3\": 12, \"82\": 1, \"18\": 3, \"33\": 4, \"7\": 4, \"122\": 1, \"110\": 1, \"22\": 1, \"62\": 3, \"81\": 2, \"1\": 2}, \"110\": {\"110\": 100, \"34\": 1, \"0\": 4, \"18\": 2, \"98\": 3, \"107\": 4, \"10\": 1, \"111\": 1, \"17\": 2, \"89\": 4}, \"89\": {\"89\": 28, \"110\": 2, \"8\": 1, \"34\": 1, \"0\": 3, \"107\": 1}, \"113\": {\"113\": 110, \"117\": 4, \"106\": 1, \"125\": 1, \"107\": 1, \"39\": 1}, \"59\": {\"59\": 8, \"17\": 1, \"30\": 1, \"112\": 2}, \"9\": {\"9\": 28, \"26\": 1, \"49\": 1, \"12\": 2}, \"86\": {\"86\": 29, \"89\": 2, \"5\": 2, \"8\": 1, \"94\": 1, \"12\": 1}, \"12\": {\"12\": 89, \"71\": 4, \"113\": 1, \"109\": 1, \"111\": 2, \"106\": 3, \"39\": 2, \"15\": 1, \"98\": 1}, \"122\": {\"48\": 2, \"122\": 54, \"7\": 10, \"43\": 12, \"114\": 1, \"11\": 2, \"1\": 3, \"117\": 1, \"113\": 1, \"87\": 1, \"26\": 1}, \"128\": {\"128\": 6, \"89\": 1, \"99\": 2, \"9\": 5, \"82\": 1, \"115\": 1, \"43\": 2, \"22\": 2, \"72\": 2, \"73\": 2}, \"95\": {\"16\": 2, \"95\": 25, \"118\": 1, \"24\": 1, \"26\": 3, \"63\": 2, \"117\": 2}}}, \"per_domain_accuracy\": {\"ORACLE.run114\": {\"accuracy\": 0.81828125, \"source?\": true}, \"ORACLE.run120\": {\"accuracy\": 0.6465625, \"source?\": true}, \"ORACLE.run150\": {\"accuracy\": 0.7813541666666667, \"source?\": true}, \"ORACLE.run126\": {\"accuracy\": 0.5525520833333334, \"source?\": true}, \"ORACLE.run132\": {\"accuracy\": 0.7792708333333334, \"source?\": true}, \"ORACLE.run144\": {\"accuracy\": 0.71375, \"source?\": true}, \"ORACLE.run18\": {\"accuracy\": 0.6814583333333334, \"source?\": true}, \"ORACLE.run138\": {\"accuracy\": 0.7905208333333333, \"source?\": true}, \"Wisig_3\": {\"accuracy\": 0.7992631004366813, \"source?\": false}, \"Wisig_4\": {\"accuracy\": 0.7414772727272727, \"source?\": false}, \"Wisig_2\": {\"accuracy\": 0.7720200421940928, \"source?\": false}, \"Wisig_1\": {\"accuracy\": 0.8161764705882353, \"source?\": false}}}, \"history\": {\"epoch_indices\": [1, 2, 3, 4, 5, 6, 7, 8, 9, 10, 11, 12, 13, 14, 15, 16, 17, 18], \"train_label_loss\": [1.0741697057757882, 0.8319504134263843, 0.7293395631106215, 0.6494383849101585, 0.5872375450116981, 0.5324591816509409, 0.4885321166034832, 0.4502821595464013, 0.416238089031623, 0.38759721847367473, 0.3605048707267547, 0.33641589818866036, 0.31235179233015514, 0.29237136120488033, 0.27304461299366917, 0.2545232792778448, 0.2402398658787743, 0.22392230232632884], \"source_val_label_loss\": [0.9488106369972229, 0.8464224338531494, 0.7865166664123535, 0.7567952871322632, 0.7432254552841187, 0.7412319183349609, 0.7414491176605225, 0.7565763592720032, 0.7593691349029541, 0.7870186567306519, 0.8058375120162964, 0.8401728272438049, 0.8663041591644287, 0.8782241940498352, 0.9120842814445496, 0.9373005628585815, 0.9498183131217957, 0.9746564030647278], \"target_val_label_loss\": [5.550116539001465, 6.794775485992432, 7.418163776397705, 7.80627965927124, 8.602285385131836, 9.004704475402832, 9.157769203186035, 9.810873031616211, 10.131314277648926, 10.581465721130371, 10.93912124633789, 11.226932525634766, 12.051812171936035, 11.919426918029785, 12.89030933380127, 13.13305377960205, 13.612316131591797, 13.651856422424316], \"source_val_acc_label\": [0.6456901041666666, 0.6809635416666666, 0.7072916666666667, 0.7199609375, 0.72822265625, 0.7342903645833333, 0.7361197916666666, 0.7356184895833333, 0.73474609375, 0.7289908854166667, 0.7314388020833333, 0.7321223958333334, 0.7306575520833334, 0.72046875, 0.726328125, 0.7218294270833333, 0.7214322916666667, 0.7192838541666666], \"target_val_acc_label\": [0.6851876321353065, 0.7198731501057083, 0.7398916490486258, 0.7471921247357294, 0.7587539640591966, 0.7636429704016914, 0.7640724101479915, 0.7695890591966174, 0.7738173890063424, 0.775303911205074, 0.7742798625792812, 0.7764270613107822, 0.7719344608879493, 0.7819106765327696, 0.773850422832981, 0.7775832452431289, 0.7775502114164905, 0.7792679704016914]}, \"dataset_metrics\": {\"source\": {\"train\": {\"n_unique_x\": 896000, \"n_unique_y\": 16, \"n_batch/episode\": 33600}, \"val\": {\"n_unique_x\": 192000, \"n_unique_y\": 16, \"n_batch/episode\": 4800}, \"test\": {\"n_unique_x\": 192000, \"n_unique_y\": 16, \"n_batch/episode\": 4800}}, \"target\": {\"train\": {\"n_unique_x\": 189051, \"n_unique_y\": 130, \"n_batch/episode\": 6861}, \"val\": {\"n_unique_x\": 40049, \"n_unique_y\": 130, \"n_batch/episode\": 946}, \"test\": {\"n_unique_x\": 40794, \"n_unique_y\": 130, \"n_batch/episode\": 966}}}}'"
      ]
     },
     "execution_count": 29,
     "metadata": {},
     "output_type": "execute_result"
    }
   ],
   "source": [
    "json.dumps(experiment)"
   ]
  }
 ],
 "metadata": {
  "celltoolbar": "Tags",
  "kernelspec": {
   "display_name": "Python 3 (ipykernel)",
   "language": "python",
   "name": "python3"
  },
  "language_info": {
   "codemirror_mode": {
    "name": "ipython",
    "version": 3
   },
   "file_extension": ".py",
   "mimetype": "text/x-python",
   "name": "python",
   "nbconvert_exporter": "python",
   "pygments_lexer": "ipython3",
   "version": "3.8.12"
  },
  "papermill": {
   "default_parameters": {},
   "duration": 18353.105781,
   "end_time": "2022-03-23T22:24:44.161556",
   "environment_variables": {},
   "exception": null,
   "input_path": "/root/csc500-main/csc500-notebooks/templates/tl_ptn_template.ipynb",
   "output_path": "trial.ipynb",
   "parameters": {
    "parameters": {
     "BEST_MODEL_PATH": "./best_model.pth",
     "NUM_LOGS_PER_EPOCH": 10,
     "criteria_for_best": "target_accuracy",
     "dataset_seed": 420,
     "datasets": [
      {
       "domain_prefix": "Wisig_",
       "domains": [
        1,
        2,
        3,
        4
       ],
       "episode_transforms": [],
       "labels": [
        "1-10",
        "1-12",
        "1-14",
        "1-16",
        "1-18",
        "1-19",
        "1-8",
        "10-11",
        "10-17",
        "10-4",
        "10-7",
        "11-1",
        "11-10",
        "11-19",
        "11-20",
        "11-4",
        "11-7",
        "12-19",
        "12-20",
        "12-7",
        "13-14",
        "13-18",
        "13-19",
        "13-20",
        "13-3",
        "13-7",
        "14-10",
        "14-11",
        "14-12",
        "14-13",
        "14-14",
        "14-19",
        "14-20",
        "14-7",
        "14-8",
        "14-9",
        "15-1",
        "15-19",
        "15-6",
        "16-1",
        "16-16",
        "16-19",
        "16-20",
        "17-10",
        "17-11",
        "18-1",
        "18-10",
        "18-11",
        "18-12",
        "18-13",
        "18-14",
        "18-15",
        "18-16",
        "18-17",
        "18-19",
        "18-2",
        "18-20",
        "18-4",
        "18-5",
        "18-7",
        "18-8",
        "18-9",
        "19-1",
        "19-10",
        "19-11",
        "19-12",
        "19-13",
        "19-14",
        "19-15",
        "19-19",
        "19-2",
        "19-20",
        "19-3",
        "19-4",
        "19-6",
        "19-7",
        "19-8",
        "19-9",
        "2-1",
        "2-13",
        "2-15",
        "2-3",
        "2-4",
        "2-5",
        "2-6",
        "2-7",
        "2-8",
        "20-1",
        "20-12",
        "20-14",
        "20-15",
        "20-16",
        "20-18",
        "20-19",
        "20-20",
        "20-3",
        "20-4",
        "20-5",
        "20-7",
        "20-8",
        "3-1",
        "3-13",
        "3-18",
        "3-2",
        "3-8",
        "4-1",
        "4-10",
        "4-11",
        "5-1",
        "5-5",
        "6-1",
        "6-15",
        "6-6",
        "7-10",
        "7-11",
        "7-12",
        "7-13",
        "7-14",
        "7-7",
        "7-8",
        "7-9",
        "8-1",
        "8-13",
        "8-14",
        "8-18",
        "8-20",
        "8-3",
        "8-8",
        "9-1",
        "9-7"
       ],
       "num_examples_per_domain_per_label": -1,
       "pickle_path": "/root/csc500-main/datasets/wisig.node3-19.stratified_ds.2022A.pkl",
       "source_or_target_dataset": "target",
       "x_transforms": [
        "unit_mag"
       ]
      },
      {
       "domain_prefix": "ORACLE.run1",
       "domains": [
        32,
        38,
        8,
        44,
        14,
        50,
        20,
        26
       ],
       "episode_transforms": [],
       "labels": [
        "3123D52",
        "3123D65",
        "3123D79",
        "3123D80",
        "3123D54",
        "3123D70",
        "3123D7B",
        "3123D89",
        "3123D58",
        "3123D76",
        "3123D7D",
        "3123EFE",
        "3123D64",
        "3123D78",
        "3123D7E",
        "3124E4A"
       ],
       "num_examples_per_domain_per_label": 10000,
       "pickle_path": "/root/csc500-main/datasets/oracle.Run1_10kExamples_stratified_ds.2022A.pkl",
       "source_or_target_dataset": "source",
       "x_transforms": [
        "unit_mag"
       ]
      }
     ],
     "device": "cuda",
     "experiment_name": "tl_1v2:wisig-oracle.run1",
     "lr": 0.0001,
     "n_epoch": 50,
     "n_query": 2,
     "n_shot": 3,
     "n_way": 16,
     "patience": 3,
     "seed": 420,
     "test_k_factor": 2,
     "torch_default_dtype": "torch.float32",
     "train_k_factor": 3,
     "val_k_factor": 2,
     "x_net": [
      {
       "class": "nnReshape",
       "kargs": {
        "shape": [
         -1,
         1,
         2,
         256
        ]
       }
      },
      {
       "class": "Conv2d",
       "kargs": {
        "bias": false,
        "in_channels": 1,
        "kernel_size": [
         1,
         7
        ],
        "out_channels": 256,
        "padding": [
         0,
         3
        ]
       }
      },
      {
       "class": "ReLU",
       "kargs": {
        "inplace": true
       }
      },
      {
       "class": "BatchNorm2d",
       "kargs": {
        "num_features": 256
       }
      },
      {
       "class": "Conv2d",
       "kargs": {
        "bias": true,
        "in_channels": 256,
        "kernel_size": [
         2,
         7
        ],
        "out_channels": 80,
        "padding": [
         0,
         3
        ]
       }
      },
      {
       "class": "ReLU",
       "kargs": {
        "inplace": true
       }
      },
      {
       "class": "BatchNorm2d",
       "kargs": {
        "num_features": 80
       }
      },
      {
       "class": "Flatten",
       "kargs": {}
      },
      {
       "class": "Linear",
       "kargs": {
        "in_features": 20480,
        "out_features": 256
       }
      },
      {
       "class": "ReLU",
       "kargs": {
        "inplace": true
       }
      },
      {
       "class": "BatchNorm1d",
       "kargs": {
        "num_features": 256
       }
      },
      {
       "class": "Linear",
       "kargs": {
        "in_features": 256,
        "out_features": 256
       }
      }
     ]
    }
   },
   "start_time": "2022-03-23T17:18:51.055775",
   "version": "2.3.4"
  }
 },
 "nbformat": 4,
 "nbformat_minor": 5
}