{
 "cells": [
  {
   "cell_type": "markdown",
   "id": "9fea5f46",
   "metadata": {
    "papermill": {
     "duration": 0.02636,
     "end_time": "2022-03-23T22:24:45.647678",
     "exception": false,
     "start_time": "2022-03-23T22:24:45.621318",
     "status": "completed"
    },
    "tags": []
   },
   "source": [
    "# Transfer Learning Template"
   ]
  },
  {
   "cell_type": "code",
   "execution_count": 1,
   "id": "0902182a",
   "metadata": {
    "execution": {
     "iopub.execute_input": "2022-03-23T22:24:45.704996Z",
     "iopub.status.busy": "2022-03-23T22:24:45.694113Z",
     "iopub.status.idle": "2022-03-23T22:24:48.222412Z",
     "shell.execute_reply": "2022-03-23T22:24:48.221665Z"
    },
    "papermill": {
     "duration": 2.555276,
     "end_time": "2022-03-23T22:24:48.222559",
     "exception": false,
     "start_time": "2022-03-23T22:24:45.667283",
     "status": "completed"
    },
    "tags": []
   },
   "outputs": [],
   "source": [
    "%load_ext autoreload\n",
    "%autoreload 2\n",
    "%matplotlib inline\n",
    "\n",
    "    \n",
    "import os, json, sys, time, random\n",
    "import numpy as np\n",
    "import torch\n",
    "from torch.optim import Adam\n",
    "from  easydict import EasyDict\n",
    "import matplotlib.pyplot as plt\n",
    "\n",
    "from steves_models.steves_ptn import Steves_Prototypical_Network\n",
    "\n",
    "from steves_utils.lazy_iterable_wrapper import Lazy_Iterable_Wrapper\n",
    "from steves_utils.iterable_aggregator import Iterable_Aggregator\n",
    "from steves_utils.ptn_train_eval_test_jig import  PTN_Train_Eval_Test_Jig\n",
    "from steves_utils.torch_sequential_builder import build_sequential\n",
    "from steves_utils.torch_utils import get_dataset_metrics, ptn_confusion_by_domain_over_dataloader\n",
    "from steves_utils.utils_v2 import (per_domain_accuracy_from_confusion, get_datasets_base_path)\n",
    "from steves_utils.PTN.utils import independent_accuracy_assesment\n",
    "\n",
    "from torch.utils.data import DataLoader\n",
    "\n",
    "from steves_utils.stratified_dataset.episodic_accessor import Episodic_Accessor_Factory\n",
    "\n",
    "from steves_utils.ptn_do_report import (\n",
    "    get_loss_curve,\n",
    "    get_results_table,\n",
    "    get_parameters_table,\n",
    "    get_domain_accuracies,\n",
    ")\n",
    "\n",
    "from steves_utils.transforms import get_chained_transform"
   ]
  },
  {
   "cell_type": "markdown",
   "id": "41c840b4",
   "metadata": {
    "papermill": {
     "duration": 0.020941,
     "end_time": "2022-03-23T22:24:48.271345",
     "exception": false,
     "start_time": "2022-03-23T22:24:48.250404",
     "status": "completed"
    },
    "tags": []
   },
   "source": [
    "# Allowed Parameters\n",
    "These are allowed parameters, not defaults\n",
    "Each of these values need to be present in the injected parameters (the notebook will raise an exception if they are not present)\n",
    "\n",
    "Papermill uses the cell tag \"parameters\" to inject the real parameters below this cell.\n",
    "Enable tags to see what I mean"
   ]
  },
  {
   "cell_type": "code",
   "execution_count": 2,
   "id": "fd44eb83",
   "metadata": {
    "execution": {
     "iopub.execute_input": "2022-03-23T22:24:48.317905Z",
     "iopub.status.busy": "2022-03-23T22:24:48.317029Z",
     "iopub.status.idle": "2022-03-23T22:24:48.337072Z",
     "shell.execute_reply": "2022-03-23T22:24:48.335974Z"
    },
    "papermill": {
     "duration": 0.045089,
     "end_time": "2022-03-23T22:24:48.337310",
     "exception": false,
     "start_time": "2022-03-23T22:24:48.292221",
     "status": "completed"
    },
    "tags": []
   },
   "outputs": [],
   "source": [
    "required_parameters = {\n",
    "    \"experiment_name\",\n",
    "    \"lr\",\n",
    "    \"device\",\n",
    "    \"seed\",\n",
    "    \"dataset_seed\",\n",
    "    \"n_shot\",\n",
    "    \"n_query\",\n",
    "    \"n_way\",\n",
    "    \"train_k_factor\",\n",
    "    \"val_k_factor\",\n",
    "    \"test_k_factor\",\n",
    "    \"n_epoch\",\n",
    "    \"patience\",\n",
    "    \"criteria_for_best\",\n",
    "    \"x_net\",\n",
    "    \"datasets\",\n",
    "    \"torch_default_dtype\",\n",
    "    \"NUM_LOGS_PER_EPOCH\",\n",
    "    \"BEST_MODEL_PATH\",\n",
    "    \"x_shape\",\n",
    "}"
   ]
  },
  {
   "cell_type": "code",
   "execution_count": 3,
   "id": "fa3f0049",
   "metadata": {
    "execution": {
     "iopub.execute_input": "2022-03-23T22:24:48.393815Z",
     "iopub.status.busy": "2022-03-23T22:24:48.392919Z",
     "iopub.status.idle": "2022-03-23T22:24:48.416128Z",
     "shell.execute_reply": "2022-03-23T22:24:48.415395Z"
    },
    "papermill": {
     "duration": 0.054787,
     "end_time": "2022-03-23T22:24:48.416284",
     "exception": false,
     "start_time": "2022-03-23T22:24:48.361497",
     "status": "completed"
    },
    "tags": [
     "parameters"
    ]
   },
   "outputs": [],
   "source": [
    "from steves_utils.CORES.utils import (\n",
    "    ALL_NODES,\n",
    "    ALL_NODES_MINIMUM_1000_EXAMPLES,\n",
    "    ALL_DAYS\n",
    ")\n",
    "\n",
    "from steves_utils.ORACLE.utils_v2 import (\n",
    "    ALL_DISTANCES_FEET_NARROWED,\n",
    "    ALL_RUNS,\n",
    "    ALL_SERIAL_NUMBERS,\n",
    ")\n",
    "\n",
    "standalone_parameters = {}\n",
    "standalone_parameters[\"experiment_name\"] = \"STANDALONE PTN\"\n",
    "standalone_parameters[\"lr\"] = 0.001\n",
    "standalone_parameters[\"device\"] = \"cuda\"\n",
    "\n",
    "standalone_parameters[\"seed\"] = 1337\n",
    "standalone_parameters[\"dataset_seed\"] = 1337\n",
    "\n",
    "standalone_parameters[\"n_way\"] = 8\n",
    "standalone_parameters[\"n_shot\"] = 3\n",
    "standalone_parameters[\"n_query\"]  = 2\n",
    "standalone_parameters[\"train_k_factor\"] = 1\n",
    "standalone_parameters[\"val_k_factor\"] = 2\n",
    "standalone_parameters[\"test_k_factor\"] = 2\n",
    "\n",
    "\n",
    "standalone_parameters[\"n_epoch\"] = 50\n",
    "\n",
    "standalone_parameters[\"patience\"] = 10\n",
    "standalone_parameters[\"criteria_for_best\"] = \"source_loss\"\n",
    "\n",
    "standalone_parameters[\"datasets\"] = [\n",
    "    {\n",
    "        \"labels\": ALL_SERIAL_NUMBERS,\n",
    "        \"domains\": ALL_DISTANCES_FEET_NARROWED,\n",
    "        \"num_examples_per_domain_per_label\": 100,\n",
    "        \"pickle_path\": os.path.join(get_datasets_base_path(), \"oracle.Run1_framed_2000Examples_stratified_ds.2022A.pkl\"),\n",
    "        \"source_or_target_dataset\": \"source\",\n",
    "        \"x_transforms\": [\"unit_mag\", \"minus_two\"],\n",
    "        \"episode_transforms\": [],\n",
    "        \"domain_prefix\": \"ORACLE_\"\n",
    "    },\n",
    "    {\n",
    "        \"labels\": ALL_NODES,\n",
    "        \"domains\": ALL_DAYS,\n",
    "        \"num_examples_per_domain_per_label\": 100,\n",
    "        \"pickle_path\": os.path.join(get_datasets_base_path(), \"cores.stratified_ds.2022A.pkl\"),\n",
    "        \"source_or_target_dataset\": \"target\",\n",
    "        \"x_transforms\": [\"unit_power\", \"times_zero\"],\n",
    "        \"episode_transforms\": [],\n",
    "        \"domain_prefix\": \"CORES_\"\n",
    "    }   \n",
    "]\n",
    "\n",
    "standalone_parameters[\"torch_default_dtype\"] = \"torch.float32\" \n",
    "\n",
    "\n",
    "\n",
    "standalone_parameters[\"x_net\"] =     [\n",
    "    {\"class\": \"nnReshape\", \"kargs\": {\"shape\":[-1, 1, 2, 256]}},\n",
    "    {\"class\": \"Conv2d\", \"kargs\": { \"in_channels\":1, \"out_channels\":256, \"kernel_size\":(1,7), \"bias\":False, \"padding\":(0,3), },},\n",
    "    {\"class\": \"ReLU\", \"kargs\": {\"inplace\": True}},\n",
    "    {\"class\": \"BatchNorm2d\", \"kargs\": {\"num_features\":256}},\n",
    "\n",
    "    {\"class\": \"Conv2d\", \"kargs\": { \"in_channels\":256, \"out_channels\":80, \"kernel_size\":(2,7), \"bias\":True, \"padding\":(0,3), },},\n",
    "    {\"class\": \"ReLU\", \"kargs\": {\"inplace\": True}},\n",
    "    {\"class\": \"BatchNorm2d\", \"kargs\": {\"num_features\":80}},\n",
    "    {\"class\": \"Flatten\", \"kargs\": {}},\n",
    "\n",
    "    {\"class\": \"Linear\", \"kargs\": {\"in_features\": 80*256, \"out_features\": 256}}, # 80 units per IQ pair\n",
    "    {\"class\": \"ReLU\", \"kargs\": {\"inplace\": True}},\n",
    "    {\"class\": \"BatchNorm1d\", \"kargs\": {\"num_features\":256}},\n",
    "\n",
    "    {\"class\": \"Linear\", \"kargs\": {\"in_features\": 256, \"out_features\": 256}},\n",
    "]\n",
    "\n",
    "# Parameters relevant to results\n",
    "# These parameters will basically never need to change\n",
    "standalone_parameters[\"NUM_LOGS_PER_EPOCH\"] = 10\n",
    "standalone_parameters[\"BEST_MODEL_PATH\"] = \"./best_model.pth\"\n",
    "\n",
    "\n",
    "\n",
    "\n"
   ]
  },
  {
   "cell_type": "code",
   "execution_count": 4,
   "id": "49f73de3",
   "metadata": {
    "execution": {
     "iopub.execute_input": "2022-03-23T22:24:48.477753Z",
     "iopub.status.busy": "2022-03-23T22:24:48.472835Z",
     "iopub.status.idle": "2022-03-23T22:24:48.499725Z",
     "shell.execute_reply": "2022-03-23T22:24:48.499220Z"
    },
    "papermill": {
     "duration": 0.055692,
     "end_time": "2022-03-23T22:24:48.499835",
     "exception": false,
     "start_time": "2022-03-23T22:24:48.444143",
     "status": "completed"
    },
    "tags": [
     "injected-parameters"
    ]
   },
   "outputs": [],
   "source": [
    "# Parameters\n",
    "parameters = {\n",
    "    \"experiment_name\": \"tl_1v2:wisig-oracle.run1\",\n",
    "    \"device\": \"cuda\",\n",
    "    \"lr\": 0.0001,\n",
    "    \"n_shot\": 3,\n",
    "    \"n_query\": 2,\n",
    "    \"train_k_factor\": 3,\n",
    "    \"val_k_factor\": 2,\n",
    "    \"test_k_factor\": 2,\n",
    "    \"torch_default_dtype\": \"torch.float32\",\n",
    "    \"n_epoch\": 50,\n",
    "    \"patience\": 3,\n",
    "    \"criteria_for_best\": \"target_accuracy\",\n",
    "    \"x_net\": [\n",
    "        {\"class\": \"nnReshape\", \"kargs\": {\"shape\": [-1, 1, 2, 256]}},\n",
    "        {\n",
    "            \"class\": \"Conv2d\",\n",
    "            \"kargs\": {\n",
    "                \"in_channels\": 1,\n",
    "                \"out_channels\": 256,\n",
    "                \"kernel_size\": [1, 7],\n",
    "                \"bias\": False,\n",
    "                \"padding\": [0, 3],\n",
    "            },\n",
    "        },\n",
    "        {\"class\": \"ReLU\", \"kargs\": {\"inplace\": True}},\n",
    "        {\"class\": \"BatchNorm2d\", \"kargs\": {\"num_features\": 256}},\n",
    "        {\n",
    "            \"class\": \"Conv2d\",\n",
    "            \"kargs\": {\n",
    "                \"in_channels\": 256,\n",
    "                \"out_channels\": 80,\n",
    "                \"kernel_size\": [2, 7],\n",
    "                \"bias\": True,\n",
    "                \"padding\": [0, 3],\n",
    "            },\n",
    "        },\n",
    "        {\"class\": \"ReLU\", \"kargs\": {\"inplace\": True}},\n",
    "        {\"class\": \"BatchNorm2d\", \"kargs\": {\"num_features\": 80}},\n",
    "        {\"class\": \"Flatten\", \"kargs\": {}},\n",
    "        {\"class\": \"Linear\", \"kargs\": {\"in_features\": 20480, \"out_features\": 256}},\n",
    "        {\"class\": \"ReLU\", \"kargs\": {\"inplace\": True}},\n",
    "        {\"class\": \"BatchNorm1d\", \"kargs\": {\"num_features\": 256}},\n",
    "        {\"class\": \"Linear\", \"kargs\": {\"in_features\": 256, \"out_features\": 256}},\n",
    "    ],\n",
    "    \"NUM_LOGS_PER_EPOCH\": 10,\n",
    "    \"BEST_MODEL_PATH\": \"./best_model.pth\",\n",
    "    \"n_way\": 16,\n",
    "    \"datasets\": [\n",
    "        {\n",
    "            \"labels\": [\n",
    "                \"1-10\",\n",
    "                \"1-12\",\n",
    "                \"1-14\",\n",
    "                \"1-16\",\n",
    "                \"1-18\",\n",
    "                \"1-19\",\n",
    "                \"1-8\",\n",
    "                \"10-11\",\n",
    "                \"10-17\",\n",
    "                \"10-4\",\n",
    "                \"10-7\",\n",
    "                \"11-1\",\n",
    "                \"11-10\",\n",
    "                \"11-19\",\n",
    "                \"11-20\",\n",
    "                \"11-4\",\n",
    "                \"11-7\",\n",
    "                \"12-19\",\n",
    "                \"12-20\",\n",
    "                \"12-7\",\n",
    "                \"13-14\",\n",
    "                \"13-18\",\n",
    "                \"13-19\",\n",
    "                \"13-20\",\n",
    "                \"13-3\",\n",
    "                \"13-7\",\n",
    "                \"14-10\",\n",
    "                \"14-11\",\n",
    "                \"14-12\",\n",
    "                \"14-13\",\n",
    "                \"14-14\",\n",
    "                \"14-19\",\n",
    "                \"14-20\",\n",
    "                \"14-7\",\n",
    "                \"14-8\",\n",
    "                \"14-9\",\n",
    "                \"15-1\",\n",
    "                \"15-19\",\n",
    "                \"15-6\",\n",
    "                \"16-1\",\n",
    "                \"16-16\",\n",
    "                \"16-19\",\n",
    "                \"16-20\",\n",
    "                \"17-10\",\n",
    "                \"17-11\",\n",
    "                \"18-1\",\n",
    "                \"18-10\",\n",
    "                \"18-11\",\n",
    "                \"18-12\",\n",
    "                \"18-13\",\n",
    "                \"18-14\",\n",
    "                \"18-15\",\n",
    "                \"18-16\",\n",
    "                \"18-17\",\n",
    "                \"18-19\",\n",
    "                \"18-2\",\n",
    "                \"18-20\",\n",
    "                \"18-4\",\n",
    "                \"18-5\",\n",
    "                \"18-7\",\n",
    "                \"18-8\",\n",
    "                \"18-9\",\n",
    "                \"19-1\",\n",
    "                \"19-10\",\n",
    "                \"19-11\",\n",
    "                \"19-12\",\n",
    "                \"19-13\",\n",
    "                \"19-14\",\n",
    "                \"19-15\",\n",
    "                \"19-19\",\n",
    "                \"19-2\",\n",
    "                \"19-20\",\n",
    "                \"19-3\",\n",
    "                \"19-4\",\n",
    "                \"19-6\",\n",
    "                \"19-7\",\n",
    "                \"19-8\",\n",
    "                \"19-9\",\n",
    "                \"2-1\",\n",
    "                \"2-13\",\n",
    "                \"2-15\",\n",
    "                \"2-3\",\n",
    "                \"2-4\",\n",
    "                \"2-5\",\n",
    "                \"2-6\",\n",
    "                \"2-7\",\n",
    "                \"2-8\",\n",
    "                \"20-1\",\n",
    "                \"20-12\",\n",
    "                \"20-14\",\n",
    "                \"20-15\",\n",
    "                \"20-16\",\n",
    "                \"20-18\",\n",
    "                \"20-19\",\n",
    "                \"20-20\",\n",
    "                \"20-3\",\n",
    "                \"20-4\",\n",
    "                \"20-5\",\n",
    "                \"20-7\",\n",
    "                \"20-8\",\n",
    "                \"3-1\",\n",
    "                \"3-13\",\n",
    "                \"3-18\",\n",
    "                \"3-2\",\n",
    "                \"3-8\",\n",
    "                \"4-1\",\n",
    "                \"4-10\",\n",
    "                \"4-11\",\n",
    "                \"5-1\",\n",
    "                \"5-5\",\n",
    "                \"6-1\",\n",
    "                \"6-15\",\n",
    "                \"6-6\",\n",
    "                \"7-10\",\n",
    "                \"7-11\",\n",
    "                \"7-12\",\n",
    "                \"7-13\",\n",
    "                \"7-14\",\n",
    "                \"7-7\",\n",
    "                \"7-8\",\n",
    "                \"7-9\",\n",
    "                \"8-1\",\n",
    "                \"8-13\",\n",
    "                \"8-14\",\n",
    "                \"8-18\",\n",
    "                \"8-20\",\n",
    "                \"8-3\",\n",
    "                \"8-8\",\n",
    "                \"9-1\",\n",
    "                \"9-7\",\n",
    "            ],\n",
    "            \"domains\": [1, 2, 3, 4],\n",
    "            \"num_examples_per_domain_per_label\": -1,\n",
    "            \"pickle_path\": \"/root/csc500-main/datasets/wisig.node3-19.stratified_ds.2022A.pkl\",\n",
    "            \"source_or_target_dataset\": \"source\",\n",
    "            \"x_transforms\": [\"unit_mag\"],\n",
    "            \"episode_transforms\": [],\n",
    "            \"domain_prefix\": \"Wisig_\",\n",
    "        },\n",
    "        {\n",
    "            \"labels\": [\n",
    "                \"3123D52\",\n",
    "                \"3123D65\",\n",
    "                \"3123D79\",\n",
    "                \"3123D80\",\n",
    "                \"3123D54\",\n",
    "                \"3123D70\",\n",
    "                \"3123D7B\",\n",
    "                \"3123D89\",\n",
    "                \"3123D58\",\n",
    "                \"3123D76\",\n",
    "                \"3123D7D\",\n",
    "                \"3123EFE\",\n",
    "                \"3123D64\",\n",
    "                \"3123D78\",\n",
    "                \"3123D7E\",\n",
    "                \"3124E4A\",\n",
    "            ],\n",
    "            \"domains\": [32, 38, 8, 44, 14, 50, 20, 26],\n",
    "            \"num_examples_per_domain_per_label\": 10000,\n",
    "            \"pickle_path\": \"/root/csc500-main/datasets/oracle.Run1_10kExamples_stratified_ds.2022A.pkl\",\n",
    "            \"source_or_target_dataset\": \"target\",\n",
    "            \"x_transforms\": [\"unit_mag\"],\n",
    "            \"episode_transforms\": [],\n",
    "            \"domain_prefix\": \"ORACLE.run1\",\n",
    "        },\n",
    "    ],\n",
    "    \"dataset_seed\": 154325,\n",
    "    \"seed\": 154325,\n",
    "}\n"
   ]
  },
  {
   "cell_type": "code",
   "execution_count": 5,
   "id": "8fa1cc33",
   "metadata": {
    "execution": {
     "iopub.execute_input": "2022-03-23T22:24:48.553813Z",
     "iopub.status.busy": "2022-03-23T22:24:48.553435Z",
     "iopub.status.idle": "2022-03-23T22:24:48.574405Z",
     "shell.execute_reply": "2022-03-23T22:24:48.573838Z"
    },
    "papermill": {
     "duration": 0.047427,
     "end_time": "2022-03-23T22:24:48.574516",
     "exception": false,
     "start_time": "2022-03-23T22:24:48.527089",
     "status": "completed"
    },
    "tags": []
   },
   "outputs": [],
   "source": [
    "# Set this to True if you want to run this template directly\n",
    "STANDALONE = False\n",
    "if STANDALONE:\n",
    "    print(\"parameters not injected, running with standalone_parameters\")\n",
    "    parameters = standalone_parameters\n",
    "\n",
    "if not 'parameters' in locals() and not 'parameters' in globals():\n",
    "    raise Exception(\"Parameter injection failed\")\n",
    "\n",
    "#Use an easy dict for all the parameters\n",
    "p = EasyDict(parameters)\n",
    "\n",
    "if \"x_shape\" not in p:\n",
    "    p.x_shape = [2,256] # Default to this if we dont supply x_shape\n",
    "\n",
    "\n",
    "supplied_keys = set(p.keys())\n",
    "\n",
    "if  supplied_keys != required_parameters:\n",
    "    print(\"Parameters are incorrect\")\n",
    "    if len(supplied_keys - required_parameters)>0: print(\"Shouldn't have:\", str(supplied_keys - required_parameters))\n",
    "    if len(required_parameters - supplied_keys)>0: print(\"Need to have:\", str(required_parameters - supplied_keys))\n",
    "    raise RuntimeError(\"Parameters are incorrect\")"
   ]
  },
  {
   "cell_type": "code",
   "execution_count": 6,
   "id": "3a028d58",
   "metadata": {
    "execution": {
     "iopub.execute_input": "2022-03-23T22:24:48.624898Z",
     "iopub.status.busy": "2022-03-23T22:24:48.624529Z",
     "iopub.status.idle": "2022-03-23T22:24:48.644399Z",
     "shell.execute_reply": "2022-03-23T22:24:48.643675Z"
    },
    "papermill": {
     "duration": 0.04392,
     "end_time": "2022-03-23T22:24:48.644555",
     "exception": false,
     "start_time": "2022-03-23T22:24:48.600635",
     "status": "completed"
    },
    "tags": []
   },
   "outputs": [],
   "source": [
    "###################################\n",
    "# Set the RNGs and make it all deterministic\n",
    "###################################\n",
    "np.random.seed(p.seed)\n",
    "random.seed(p.seed)\n",
    "torch.manual_seed(p.seed)\n",
    "\n",
    "torch.use_deterministic_algorithms(True) "
   ]
  },
  {
   "cell_type": "code",
   "execution_count": 7,
   "id": "b691acf6",
   "metadata": {
    "execution": {
     "iopub.execute_input": "2022-03-23T22:24:48.696499Z",
     "iopub.status.busy": "2022-03-23T22:24:48.696131Z",
     "iopub.status.idle": "2022-03-23T22:24:48.718098Z",
     "shell.execute_reply": "2022-03-23T22:24:48.717599Z"
    },
    "papermill": {
     "duration": 0.048161,
     "end_time": "2022-03-23T22:24:48.718209",
     "exception": false,
     "start_time": "2022-03-23T22:24:48.670048",
     "status": "completed"
    },
    "tags": []
   },
   "outputs": [],
   "source": [
    "###########################################\n",
    "# The stratified datasets honor this\n",
    "###########################################\n",
    "torch.set_default_dtype(eval(p.torch_default_dtype))"
   ]
  },
  {
   "cell_type": "code",
   "execution_count": 8,
   "id": "b5fba671",
   "metadata": {
    "execution": {
     "iopub.execute_input": "2022-03-23T22:24:48.771425Z",
     "iopub.status.busy": "2022-03-23T22:24:48.770862Z",
     "iopub.status.idle": "2022-03-23T22:24:48.824930Z",
     "shell.execute_reply": "2022-03-23T22:24:48.824433Z"
    },
    "papermill": {
     "duration": 0.079119,
     "end_time": "2022-03-23T22:24:48.825065",
     "exception": false,
     "start_time": "2022-03-23T22:24:48.745946",
     "status": "completed"
    },
    "tags": []
   },
   "outputs": [],
   "source": [
    "###################################\n",
    "# Build the network(s)\n",
    "# Note: It's critical to do this AFTER setting the RNG\n",
    "###################################\n",
    "x_net = build_sequential(p.x_net)"
   ]
  },
  {
   "cell_type": "code",
   "execution_count": 9,
   "id": "5d7e61cc",
   "metadata": {
    "execution": {
     "iopub.execute_input": "2022-03-23T22:24:48.877801Z",
     "iopub.status.busy": "2022-03-23T22:24:48.877433Z",
     "iopub.status.idle": "2022-03-23T22:24:48.900093Z",
     "shell.execute_reply": "2022-03-23T22:24:48.899355Z"
    },
    "papermill": {
     "duration": 0.048056,
     "end_time": "2022-03-23T22:24:48.900251",
     "exception": false,
     "start_time": "2022-03-23T22:24:48.852195",
     "status": "completed"
    },
    "tags": []
   },
   "outputs": [],
   "source": [
    "start_time_secs = time.time()"
   ]
  },
  {
   "cell_type": "code",
   "execution_count": 10,
   "id": "c6b67dfd",
   "metadata": {
    "execution": {
     "iopub.execute_input": "2022-03-23T22:24:48.954030Z",
     "iopub.status.busy": "2022-03-23T22:24:48.953626Z",
     "iopub.status.idle": "2022-03-23T22:24:48.972147Z",
     "shell.execute_reply": "2022-03-23T22:24:48.971389Z"
    },
    "papermill": {
     "duration": 0.043048,
     "end_time": "2022-03-23T22:24:48.972306",
     "exception": false,
     "start_time": "2022-03-23T22:24:48.929258",
     "status": "completed"
    },
    "tags": []
   },
   "outputs": [],
   "source": [
    "p.domains_source = []\n",
    "p.domains_target = []\n",
    "\n",
    "\n",
    "train_original_source = []\n",
    "val_original_source   = []\n",
    "test_original_source  = []\n",
    "\n",
    "train_original_target = []\n",
    "val_original_target   = []\n",
    "test_original_target  = []"
   ]
  },
  {
   "cell_type": "code",
   "execution_count": 11,
   "id": "e3d9c3d3",
   "metadata": {
    "execution": {
     "iopub.execute_input": "2022-03-23T22:24:49.024729Z",
     "iopub.status.busy": "2022-03-23T22:24:49.024361Z",
     "iopub.status.idle": "2022-03-23T22:24:49.042414Z",
     "shell.execute_reply": "2022-03-23T22:24:49.041645Z"
    },
    "papermill": {
     "duration": 0.042808,
     "end_time": "2022-03-23T22:24:49.042573",
     "exception": false,
     "start_time": "2022-03-23T22:24:48.999765",
     "status": "completed"
    },
    "tags": []
   },
   "outputs": [],
   "source": [
    "# global_x_transform_func = lambda x: normalize(x.to(torch.get_default_dtype()), \"unit_power\") # unit_power, unit_mag\n",
    "# global_x_transform_func = lambda x: normalize(x, \"unit_power\") # unit_power, unit_mag"
   ]
  },
  {
   "cell_type": "code",
   "execution_count": 12,
   "id": "acb78fd2",
   "metadata": {
    "execution": {
     "iopub.execute_input": "2022-03-23T22:24:49.099245Z",
     "iopub.status.busy": "2022-03-23T22:24:49.098658Z",
     "iopub.status.idle": "2022-03-23T22:24:49.118859Z",
     "shell.execute_reply": "2022-03-23T22:24:49.117676Z"
    },
    "papermill": {
     "duration": 0.048995,
     "end_time": "2022-03-23T22:24:49.119101",
     "exception": false,
     "start_time": "2022-03-23T22:24:49.070106",
     "status": "completed"
    },
    "tags": []
   },
   "outputs": [],
   "source": [
    "def add_dataset(\n",
    "    labels,\n",
    "    domains,\n",
    "    pickle_path,\n",
    "    x_transforms,\n",
    "    episode_transforms,\n",
    "    domain_prefix,\n",
    "    num_examples_per_domain_per_label,\n",
    "    source_or_target_dataset:str,\n",
    "    iterator_seed=p.seed,\n",
    "    dataset_seed=p.dataset_seed,\n",
    "    n_shot=p.n_shot,\n",
    "    n_way=p.n_way,\n",
    "    n_query=p.n_query,\n",
    "    train_val_test_k_factors=(p.train_k_factor,p.val_k_factor,p.test_k_factor),\n",
    "):\n",
    "   \n",
    "    if x_transforms == []: x_transform = None\n",
    "    else: x_transform = get_chained_transform(x_transforms)\n",
    "    \n",
    "    if episode_transforms == []: episode_transform = None\n",
    "    else: raise Exception(\"episode_transforms not implemented\")\n",
    "    \n",
    "    episode_transform = lambda tup, _prefix=domain_prefix: (_prefix + str(tup[0]), tup[1])\n",
    "\n",
    "\n",
    "    eaf = Episodic_Accessor_Factory(\n",
    "        labels=labels,\n",
    "        domains=domains,\n",
    "        num_examples_per_domain_per_label=num_examples_per_domain_per_label,\n",
    "        iterator_seed=iterator_seed,\n",
    "        dataset_seed=dataset_seed,\n",
    "        n_shot=n_shot,\n",
    "        n_way=n_way,\n",
    "        n_query=n_query,\n",
    "        train_val_test_k_factors=train_val_test_k_factors,\n",
    "        pickle_path=pickle_path,\n",
    "        x_transform_func=x_transform,\n",
    "    )\n",
    "\n",
    "    train, val, test = eaf.get_train(), eaf.get_val(), eaf.get_test()\n",
    "    train = Lazy_Iterable_Wrapper(train, episode_transform)\n",
    "    val = Lazy_Iterable_Wrapper(val, episode_transform)\n",
    "    test = Lazy_Iterable_Wrapper(test, episode_transform)\n",
    "\n",
    "    if source_or_target_dataset==\"source\":\n",
    "        train_original_source.append(train)\n",
    "        val_original_source.append(val)\n",
    "        test_original_source.append(test)\n",
    "\n",
    "        p.domains_source.extend(\n",
    "            [domain_prefix + str(u) for u in domains]\n",
    "        )\n",
    "    elif source_or_target_dataset==\"target\":\n",
    "        train_original_target.append(train)\n",
    "        val_original_target.append(val)\n",
    "        test_original_target.append(test)\n",
    "        p.domains_target.extend(\n",
    "            [domain_prefix + str(u) for u in domains]\n",
    "        )\n",
    "    else:\n",
    "        raise Exception(f\"invalid source_or_target_dataset: {source_or_target_dataset}\")\n",
    "    "
   ]
  },
  {
   "cell_type": "code",
   "execution_count": 13,
   "id": "fe266617",
   "metadata": {
    "execution": {
     "iopub.execute_input": "2022-03-23T22:24:49.172699Z",
     "iopub.status.busy": "2022-03-23T22:24:49.172335Z",
     "iopub.status.idle": "2022-03-23T22:26:56.757388Z",
     "shell.execute_reply": "2022-03-23T22:26:56.756874Z"
    },
    "papermill": {
     "duration": 127.610013,
     "end_time": "2022-03-23T22:26:56.757515",
     "exception": false,
     "start_time": "2022-03-23T22:24:49.147502",
     "status": "completed"
    },
    "tags": []
   },
   "outputs": [],
   "source": [
    "for ds in p.datasets:\n",
    "    add_dataset(**ds)"
   ]
  },
  {
   "cell_type": "code",
   "execution_count": 14,
   "id": "b90d65ac",
   "metadata": {
    "execution": {
     "iopub.execute_input": "2022-03-23T22:26:56.808334Z",
     "iopub.status.busy": "2022-03-23T22:26:56.807752Z",
     "iopub.status.idle": "2022-03-23T22:26:56.834150Z",
     "shell.execute_reply": "2022-03-23T22:26:56.833330Z"
    },
    "papermill": {
     "duration": 0.051443,
     "end_time": "2022-03-23T22:26:56.834314",
     "exception": false,
     "start_time": "2022-03-23T22:26:56.782871",
     "status": "completed"
    },
    "tags": []
   },
   "outputs": [],
   "source": [
    "# from steves_utils.CORES.utils import (\n",
    "#     ALL_NODES,\n",
    "#     ALL_NODES_MINIMUM_1000_EXAMPLES,\n",
    "#     ALL_DAYS\n",
    "# )\n",
    "\n",
    "# add_dataset(\n",
    "#     labels=ALL_NODES,\n",
    "#     domains = ALL_DAYS,\n",
    "#     num_examples_per_domain_per_label=100,\n",
    "#     pickle_path=os.path.join(get_datasets_base_path(), \"cores.stratified_ds.2022A.pkl\"),\n",
    "#     source_or_target_dataset=\"target\",\n",
    "#     x_transform_func=global_x_transform_func,\n",
    "#     domain_modifier=lambda u: f\"cores_{u}\"\n",
    "# )"
   ]
  },
  {
   "cell_type": "code",
   "execution_count": 15,
   "id": "76db484d",
   "metadata": {
    "execution": {
     "iopub.execute_input": "2022-03-23T22:26:56.906202Z",
     "iopub.status.busy": "2022-03-23T22:26:56.905817Z",
     "iopub.status.idle": "2022-03-23T22:26:56.926250Z",
     "shell.execute_reply": "2022-03-23T22:26:56.925422Z"
    },
    "papermill": {
     "duration": 0.057122,
     "end_time": "2022-03-23T22:26:56.926418",
     "exception": false,
     "start_time": "2022-03-23T22:26:56.869296",
     "status": "completed"
    },
    "tags": []
   },
   "outputs": [],
   "source": [
    "# from steves_utils.ORACLE.utils_v2 import (\n",
    "#     ALL_DISTANCES_FEET,\n",
    "#     ALL_RUNS,\n",
    "#     ALL_SERIAL_NUMBERS,\n",
    "# )\n",
    "\n",
    "\n",
    "# add_dataset(\n",
    "#     labels=ALL_SERIAL_NUMBERS,\n",
    "#     domains = list(set(ALL_DISTANCES_FEET) - {2,62}),\n",
    "#     num_examples_per_domain_per_label=100,\n",
    "#     pickle_path=os.path.join(get_datasets_base_path(), \"oracle.Run2_framed_2000Examples_stratified_ds.2022A.pkl\"),\n",
    "#     source_or_target_dataset=\"source\",\n",
    "#     x_transform_func=global_x_transform_func,\n",
    "#     domain_modifier=lambda u: f\"oracle1_{u}\"\n",
    "# )\n"
   ]
  },
  {
   "cell_type": "code",
   "execution_count": 16,
   "id": "97dea9d2",
   "metadata": {
    "execution": {
     "iopub.execute_input": "2022-03-23T22:26:56.988142Z",
     "iopub.status.busy": "2022-03-23T22:26:56.987752Z",
     "iopub.status.idle": "2022-03-23T22:26:57.008148Z",
     "shell.execute_reply": "2022-03-23T22:26:57.007387Z"
    },
    "papermill": {
     "duration": 0.054814,
     "end_time": "2022-03-23T22:26:57.008314",
     "exception": false,
     "start_time": "2022-03-23T22:26:56.953500",
     "status": "completed"
    },
    "tags": []
   },
   "outputs": [],
   "source": [
    "# from steves_utils.ORACLE.utils_v2 import (\n",
    "#     ALL_DISTANCES_FEET,\n",
    "#     ALL_RUNS,\n",
    "#     ALL_SERIAL_NUMBERS,\n",
    "# )\n",
    "\n",
    "\n",
    "# add_dataset(\n",
    "#     labels=ALL_SERIAL_NUMBERS,\n",
    "#     domains = list(set(ALL_DISTANCES_FEET) - {2,62,56}),\n",
    "#     num_examples_per_domain_per_label=100,\n",
    "#     pickle_path=os.path.join(get_datasets_base_path(), \"oracle.Run2_framed_2000Examples_stratified_ds.2022A.pkl\"),\n",
    "#     source_or_target_dataset=\"source\",\n",
    "#     x_transform_func=global_x_transform_func,\n",
    "#     domain_modifier=lambda u: f\"oracle2_{u}\"\n",
    "# )"
   ]
  },
  {
   "cell_type": "code",
   "execution_count": 17,
   "id": "6f289866",
   "metadata": {
    "execution": {
     "iopub.execute_input": "2022-03-23T22:26:57.060946Z",
     "iopub.status.busy": "2022-03-23T22:26:57.060425Z",
     "iopub.status.idle": "2022-03-23T22:26:57.082493Z",
     "shell.execute_reply": "2022-03-23T22:26:57.081776Z"
    },
    "papermill": {
     "duration": 0.046402,
     "end_time": "2022-03-23T22:26:57.082647",
     "exception": false,
     "start_time": "2022-03-23T22:26:57.036245",
     "status": "completed"
    },
    "tags": []
   },
   "outputs": [],
   "source": [
    "# add_dataset(\n",
    "#     labels=list(range(19)),\n",
    "#     domains = [0,1,2],\n",
    "#     num_examples_per_domain_per_label=100,\n",
    "#     pickle_path=os.path.join(get_datasets_base_path(), \"metehan.stratified_ds.2022A.pkl\"),\n",
    "#     source_or_target_dataset=\"target\",\n",
    "#     x_transform_func=global_x_transform_func,\n",
    "#     domain_modifier=lambda u: f\"met_{u}\"\n",
    "# )"
   ]
  },
  {
   "cell_type": "code",
   "execution_count": 18,
   "id": "86a863c3",
   "metadata": {
    "execution": {
     "iopub.execute_input": "2022-03-23T22:26:57.133771Z",
     "iopub.status.busy": "2022-03-23T22:26:57.133400Z",
     "iopub.status.idle": "2022-03-23T22:26:57.150922Z",
     "shell.execute_reply": "2022-03-23T22:26:57.150210Z"
    },
    "papermill": {
     "duration": 0.04121,
     "end_time": "2022-03-23T22:26:57.151075",
     "exception": false,
     "start_time": "2022-03-23T22:26:57.109865",
     "status": "completed"
    },
    "tags": []
   },
   "outputs": [],
   "source": [
    "# # from steves_utils.wisig.utils import (\n",
    "# #     ALL_NODES_MINIMUM_100_EXAMPLES,\n",
    "# #     ALL_NODES_MINIMUM_500_EXAMPLES,\n",
    "# #     ALL_NODES_MINIMUM_1000_EXAMPLES,\n",
    "# #     ALL_DAYS\n",
    "# # )\n",
    "\n",
    "# import steves_utils.wisig.utils as wisig\n",
    "\n",
    "\n",
    "# add_dataset(\n",
    "#     labels=wisig.ALL_NODES_MINIMUM_100_EXAMPLES,\n",
    "#     domains = wisig.ALL_DAYS,\n",
    "#     num_examples_per_domain_per_label=100,\n",
    "#     pickle_path=os.path.join(get_datasets_base_path(), \"wisig.node3-19.stratified_ds.2022A.pkl\"),\n",
    "#     source_or_target_dataset=\"target\",\n",
    "#     x_transform_func=global_x_transform_func,\n",
    "#     domain_modifier=lambda u: f\"wisig_{u}\"\n",
    "# )"
   ]
  },
  {
   "cell_type": "code",
   "execution_count": 19,
   "id": "fd5442bc",
   "metadata": {
    "execution": {
     "iopub.execute_input": "2022-03-23T22:26:57.204392Z",
     "iopub.status.busy": "2022-03-23T22:26:57.204011Z",
     "iopub.status.idle": "2022-03-23T22:26:57.222540Z",
     "shell.execute_reply": "2022-03-23T22:26:57.221829Z"
    },
    "papermill": {
     "duration": 0.045077,
     "end_time": "2022-03-23T22:26:57.222693",
     "exception": false,
     "start_time": "2022-03-23T22:26:57.177616",
     "status": "completed"
    },
    "tags": []
   },
   "outputs": [],
   "source": [
    "###################################\n",
    "# Build the dataset\n",
    "###################################\n",
    "train_original_source = Iterable_Aggregator(train_original_source, p.seed)\n",
    "val_original_source = Iterable_Aggregator(val_original_source, p.seed)\n",
    "test_original_source = Iterable_Aggregator(test_original_source, p.seed)\n",
    "\n",
    "\n",
    "train_original_target = Iterable_Aggregator(train_original_target, p.seed)\n",
    "val_original_target = Iterable_Aggregator(val_original_target, p.seed)\n",
    "test_original_target = Iterable_Aggregator(test_original_target, p.seed)\n",
    "\n",
    "# For CNN We only use X and Y. And we only train on the source.\n",
    "# Properly form the data using a transform lambda and Lazy_Iterable_Wrapper. Finally wrap them in a dataloader\n",
    "\n",
    "transform_lambda = lambda ex: ex[1] # Original is (<domain>, <episode>) so we strip down to episode only\n",
    "\n",
    "train_processed_source = Lazy_Iterable_Wrapper(train_original_source, transform_lambda)\n",
    "val_processed_source   = Lazy_Iterable_Wrapper(val_original_source, transform_lambda)\n",
    "test_processed_source  = Lazy_Iterable_Wrapper(test_original_source, transform_lambda)\n",
    "\n",
    "train_processed_target = Lazy_Iterable_Wrapper(train_original_target, transform_lambda)\n",
    "val_processed_target   = Lazy_Iterable_Wrapper(val_original_target, transform_lambda)\n",
    "test_processed_target  = Lazy_Iterable_Wrapper(test_original_target, transform_lambda)\n",
    "\n",
    "datasets = EasyDict({\n",
    "    \"source\": {\n",
    "        \"original\": {\"train\":train_original_source, \"val\":val_original_source, \"test\":test_original_source},\n",
    "        \"processed\": {\"train\":train_processed_source, \"val\":val_processed_source, \"test\":test_processed_source}\n",
    "    },\n",
    "    \"target\": {\n",
    "        \"original\": {\"train\":train_original_target, \"val\":val_original_target, \"test\":test_original_target},\n",
    "        \"processed\": {\"train\":train_processed_target, \"val\":val_processed_target, \"test\":test_processed_target}\n",
    "    },\n",
    "})"
   ]
  },
  {
   "cell_type": "code",
   "execution_count": 20,
   "id": "5b3c01fc",
   "metadata": {
    "execution": {
     "iopub.execute_input": "2022-03-23T22:26:57.276733Z",
     "iopub.status.busy": "2022-03-23T22:26:57.276289Z",
     "iopub.status.idle": "2022-03-23T22:27:30.809816Z",
     "shell.execute_reply": "2022-03-23T22:27:30.808965Z"
    },
    "papermill": {
     "duration": 33.558049,
     "end_time": "2022-03-23T22:27:30.809989",
     "exception": false,
     "start_time": "2022-03-23T22:26:57.251940",
     "status": "completed"
    },
    "tags": []
   },
   "outputs": [
    {
     "name": "stdout",
     "output_type": "stream",
     "text": [
      "{'Wisig_3', 'Wisig_1', 'Wisig_4', 'Wisig_2'}\n"
     ]
    },
    {
     "name": "stdout",
     "output_type": "stream",
     "text": [
      "{'ORACLE.run138', 'ORACLE.run150', 'ORACLE.run126', 'ORACLE.run132', 'ORACLE.run114', 'ORACLE.run144', 'ORACLE.run120', 'ORACLE.run18'}\n"
     ]
    },
    {
     "name": "stdout",
     "output_type": "stream",
     "text": [
      "tensor([[[-0.1520, -0.4392, -1.1737,  ..., -1.0640, -0.9195,  0.0442],\n",
      "         [-0.0137,  1.0061,  0.9170,  ...,  0.8111, -0.3470, -0.5613]],\n",
      "\n",
      "        [[ 0.7872,  0.4446, -0.1403,  ...,  0.3345,  0.0959, -0.7828],\n",
      "         [-0.3224,  0.1188, -0.1225,  ..., -0.5715,  0.1043,  0.0289]],\n",
      "\n",
      "        [[ 0.3913,  1.0608,  1.1652,  ...,  0.5323, -0.5534, -0.1720],\n",
      "         [ 0.3665,  0.0571,  0.3348,  ...,  0.9335,  0.5273,  0.1161]],\n",
      "\n",
      "        ...,\n",
      "\n",
      "        [[ 0.8162, -1.3326, -1.2086,  ...,  0.4599, -0.4819, -0.8131],\n",
      "         [ 0.3987,  0.6624, -1.0956,  ...,  0.3861, -0.1005, -1.1098]],\n",
      "\n",
      "        [[ 0.3475,  0.7444, -1.0138,  ..., -0.2550,  0.4049, -0.7795],\n",
      "         [-0.7683,  0.5595,  1.0696,  ..., -0.1801,  0.3013,  0.4320]],\n",
      "\n",
      "        [[-0.3538,  0.7543,  0.4857,  ..., -0.2252,  0.2654,  0.1689],\n",
      "         [-0.3828, -0.6916,  1.1227,  ...,  0.2863, -0.2509,  0.6305]]])\n"
     ]
    }
   ],
   "source": [
    "from steves_utils.transforms import get_average_magnitude, get_average_power\n",
    "\n",
    "print(set([u for u,_ in val_original_source]))\n",
    "print(set([u for u,_ in val_original_target]))\n",
    "\n",
    "s_x, s_y, q_x, q_y, _ = next(iter(train_processed_source))\n",
    "print(s_x)\n",
    "\n",
    "# for ds in [\n",
    "#     train_processed_source,\n",
    "#     val_processed_source,\n",
    "#     test_processed_source,\n",
    "#     train_processed_target,\n",
    "#     val_processed_target,\n",
    "#     test_processed_target\n",
    "# ]:\n",
    "#     for s_x, s_y, q_x, q_y, _ in ds:\n",
    "#         for X in (s_x, q_x):\n",
    "#             for x in X:\n",
    "#                 assert np.isclose(get_average_magnitude(x.numpy()), 1.0)\n",
    "#                 assert np.isclose(get_average_power(x.numpy()), 1.0)\n",
    "                "
   ]
  },
  {
   "cell_type": "code",
   "execution_count": 21,
   "id": "bbdacba1",
   "metadata": {
    "execution": {
     "iopub.execute_input": "2022-03-23T22:27:30.864898Z",
     "iopub.status.busy": "2022-03-23T22:27:30.864523Z",
     "iopub.status.idle": "2022-03-23T22:27:31.046718Z",
     "shell.execute_reply": "2022-03-23T22:27:31.046007Z"
    },
    "papermill": {
     "duration": 0.209631,
     "end_time": "2022-03-23T22:27:31.046897",
     "exception": false,
     "start_time": "2022-03-23T22:27:30.837266",
     "status": "completed"
    },
    "tags": []
   },
   "outputs": [
    {
     "name": "stdout",
     "output_type": "stream",
     "text": [
      "(2, 256)\n"
     ]
    }
   ],
   "source": [
    "###################################\n",
    "# Build the model\n",
    "###################################\n",
    "# easfsl only wants a tuple for the shape\n",
    "model = Steves_Prototypical_Network(x_net, device=p.device, x_shape=tuple(p.x_shape))\n",
    "optimizer = Adam(params=model.parameters(), lr=p.lr)"
   ]
  },
  {
   "cell_type": "code",
   "execution_count": 22,
   "id": "22b39ac5",
   "metadata": {
    "execution": {
     "iopub.execute_input": "2022-03-23T22:27:31.106904Z",
     "iopub.status.busy": "2022-03-23T22:27:31.106521Z",
     "iopub.status.idle": "2022-03-23T22:48:14.166912Z",
     "shell.execute_reply": "2022-03-23T22:48:14.166570Z"
    },
    "papermill": {
     "duration": 1243.088162,
     "end_time": "2022-03-23T22:48:14.166997",
     "exception": false,
     "start_time": "2022-03-23T22:27:31.078835",
     "status": "completed"
    },
    "tags": []
   },
   "outputs": [
    {
     "name": "stdout",
     "output_type": "stream",
     "text": [
      "epoch: 1, [batch: 1 / 6847], examples_per_second: 30.2308, train_label_loss: 2.6019, \n"
     ]
    },
    {
     "name": "stdout",
     "output_type": "stream",
     "text": [
      "epoch: 1, [batch: 685 / 6847], examples_per_second: 3853.9449, train_label_loss: 0.3668, \n"
     ]
    },
    {
     "name": "stdout",
     "output_type": "stream",
     "text": [
      "epoch: 1, [batch: 1370 / 6847], examples_per_second: 3433.4417, train_label_loss: 0.3653, \n"
     ]
    },
    {
     "name": "stdout",
     "output_type": "stream",
     "text": [
      "epoch: 1, [batch: 2054 / 6847], examples_per_second: 2948.2258, train_label_loss: 0.0060, \n"
     ]
    },
    {
     "name": "stdout",
     "output_type": "stream",
     "text": [
      "epoch: 1, [batch: 2739 / 6847], examples_per_second: 3277.3598, train_label_loss: 0.1740, \n"
     ]
    },
    {
     "name": "stdout",
     "output_type": "stream",
     "text": [
      "epoch: 1, [batch: 3424 / 6847], examples_per_second: 3384.4726, train_label_loss: 0.3353, \n"
     ]
    },
    {
     "name": "stdout",
     "output_type": "stream",
     "text": [
      "epoch: 1, [batch: 4108 / 6847], examples_per_second: 3363.1950, train_label_loss: 0.1942, \n"
     ]
    },
    {
     "name": "stdout",
     "output_type": "stream",
     "text": [
      "epoch: 1, [batch: 4793 / 6847], examples_per_second: 3324.7593, train_label_loss: 0.3510, \n"
     ]
    },
    {
     "name": "stdout",
     "output_type": "stream",
     "text": [
      "epoch: 1, [batch: 5477 / 6847], examples_per_second: 3374.7517, train_label_loss: 0.0104, \n"
     ]
    },
    {
     "name": "stdout",
     "output_type": "stream",
     "text": [
      "epoch: 1, [batch: 6162 / 6847], examples_per_second: 3330.1740, train_label_loss: 0.1687, \n"
     ]
    },
    {
     "name": "stdout",
     "output_type": "stream",
     "text": [
      "=============================================================\n",
      "epoch: 1, source_val_acc_label: 0.9638, target_val_acc_label: 0.1145, source_val_label_loss: 0.1548, target_val_label_loss: 2.7071, \n",
      "=============================================================\n"
     ]
    },
    {
     "name": "stdout",
     "output_type": "stream",
     "text": [
      "New best\n"
     ]
    },
    {
     "name": "stdout",
     "output_type": "stream",
     "text": [
      "epoch: 2, [batch: 1 / 6848], examples_per_second: 1.2679, train_label_loss: 0.2271, \n"
     ]
    },
    {
     "name": "stdout",
     "output_type": "stream",
     "text": [
      "epoch: 2, [batch: 685 / 6848], examples_per_second: 3008.3499, train_label_loss: 0.0080, \n"
     ]
    },
    {
     "name": "stdout",
     "output_type": "stream",
     "text": [
      "epoch: 2, [batch: 1370 / 6848], examples_per_second: 3023.6345, train_label_loss: 0.0646, \n"
     ]
    },
    {
     "name": "stdout",
     "output_type": "stream",
     "text": [
      "epoch: 2, [batch: 2055 / 6848], examples_per_second: 3053.5750, train_label_loss: 0.0130, \n"
     ]
    },
    {
     "name": "stdout",
     "output_type": "stream",
     "text": [
      "epoch: 2, [batch: 2739 / 6848], examples_per_second: 3431.8195, train_label_loss: 0.3025, \n"
     ]
    },
    {
     "name": "stdout",
     "output_type": "stream",
     "text": [
      "epoch: 2, [batch: 3424 / 6848], examples_per_second: 3469.9258, train_label_loss: 0.1208, \n"
     ]
    },
    {
     "name": "stdout",
     "output_type": "stream",
     "text": [
      "epoch: 2, [batch: 4109 / 6848], examples_per_second: 3416.6388, train_label_loss: 0.0279, \n"
     ]
    },
    {
     "name": "stdout",
     "output_type": "stream",
     "text": [
      "epoch: 2, [batch: 4793 / 6848], examples_per_second: 3392.3867, train_label_loss: 0.4248, \n"
     ]
    },
    {
     "name": "stdout",
     "output_type": "stream",
     "text": [
      "epoch: 2, [batch: 5478 / 6848], examples_per_second: 3393.3395, train_label_loss: 0.0142, \n"
     ]
    },
    {
     "name": "stdout",
     "output_type": "stream",
     "text": [
      "epoch: 2, [batch: 6163 / 6848], examples_per_second: 3374.4736, train_label_loss: 0.0643, \n"
     ]
    },
    {
     "name": "stdout",
     "output_type": "stream",
     "text": [
      "=============================================================\n",
      "epoch: 2, source_val_acc_label: 0.9710, target_val_acc_label: 0.1083, source_val_label_loss: 0.1223, target_val_label_loss: 2.7272, \n",
      "=============================================================\n"
     ]
    },
    {
     "name": "stdout",
     "output_type": "stream",
     "text": [
      "epoch: 3, [batch: 1 / 6841], examples_per_second: 1.4633, train_label_loss: 0.1474, \n"
     ]
    },
    {
     "name": "stdout",
     "output_type": "stream",
     "text": [
      "epoch: 3, [batch: 685 / 6841], examples_per_second: 3450.4098, train_label_loss: 0.0097, \n"
     ]
    },
    {
     "name": "stdout",
     "output_type": "stream",
     "text": [
      "epoch: 3, [batch: 1369 / 6841], examples_per_second: 3393.2290, train_label_loss: 0.3143, \n"
     ]
    },
    {
     "name": "stdout",
     "output_type": "stream",
     "text": [
      "epoch: 3, [batch: 2053 / 6841], examples_per_second: 3368.7014, train_label_loss: 0.0304, \n"
     ]
    },
    {
     "name": "stdout",
     "output_type": "stream",
     "text": [
      "epoch: 3, [batch: 2737 / 6841], examples_per_second: 3357.4483, train_label_loss: 0.0129, \n"
     ]
    },
    {
     "name": "stdout",
     "output_type": "stream",
     "text": [
      "epoch: 3, [batch: 3421 / 6841], examples_per_second: 3383.7299, train_label_loss: 0.8412, \n"
     ]
    },
    {
     "name": "stdout",
     "output_type": "stream",
     "text": [
      "epoch: 3, [batch: 4105 / 6841], examples_per_second: 3525.0953, train_label_loss: 0.0037, \n"
     ]
    },
    {
     "name": "stdout",
     "output_type": "stream",
     "text": [
      "epoch: 3, [batch: 4789 / 6841], examples_per_second: 3484.3748, train_label_loss: 0.2466, \n"
     ]
    },
    {
     "name": "stdout",
     "output_type": "stream",
     "text": [
      "epoch: 3, [batch: 5473 / 6841], examples_per_second: 3406.1649, train_label_loss: 0.2327, \n"
     ]
    },
    {
     "name": "stdout",
     "output_type": "stream",
     "text": [
      "epoch: 3, [batch: 6157 / 6841], examples_per_second: 3420.6983, train_label_loss: 0.0456, \n"
     ]
    },
    {
     "name": "stdout",
     "output_type": "stream",
     "text": [
      "=============================================================\n",
      "epoch: 3, source_val_acc_label: 0.9738, target_val_acc_label: 0.1043, source_val_label_loss: 0.1109, target_val_label_loss: 2.7493, \n",
      "=============================================================\n"
     ]
    },
    {
     "name": "stdout",
     "output_type": "stream",
     "text": [
      "epoch: 4, [batch: 1 / 6852], examples_per_second: 1.4109, train_label_loss: 0.2324, \n"
     ]
    },
    {
     "name": "stdout",
     "output_type": "stream",
     "text": [
      "epoch: 4, [batch: 686 / 6852], examples_per_second: 4298.5262, train_label_loss: 0.2100, \n"
     ]
    },
    {
     "name": "stdout",
     "output_type": "stream",
     "text": [
      "epoch: 4, [batch: 1371 / 6852], examples_per_second: 4274.8070, train_label_loss: 0.1708, \n"
     ]
    },
    {
     "name": "stdout",
     "output_type": "stream",
     "text": [
      "epoch: 4, [batch: 2056 / 6852], examples_per_second: 4370.0462, train_label_loss: 0.0059, \n"
     ]
    },
    {
     "name": "stdout",
     "output_type": "stream",
     "text": [
      "epoch: 4, [batch: 2741 / 6852], examples_per_second: 4225.2968, train_label_loss: 0.0523, \n"
     ]
    },
    {
     "name": "stdout",
     "output_type": "stream",
     "text": [
      "epoch: 4, [batch: 3426 / 6852], examples_per_second: 4470.9662, train_label_loss: 0.0010, \n"
     ]
    },
    {
     "name": "stdout",
     "output_type": "stream",
     "text": [
      "epoch: 4, [batch: 4111 / 6852], examples_per_second: 4814.3016, train_label_loss: 0.0072, \n"
     ]
    },
    {
     "name": "stdout",
     "output_type": "stream",
     "text": [
      "epoch: 4, [batch: 4796 / 6852], examples_per_second: 4802.6987, train_label_loss: 0.0848, \n"
     ]
    },
    {
     "name": "stdout",
     "output_type": "stream",
     "text": [
      "epoch: 4, [batch: 5481 / 6852], examples_per_second: 4130.6718, train_label_loss: 0.0147, \n"
     ]
    },
    {
     "name": "stdout",
     "output_type": "stream",
     "text": [
      "epoch: 4, [batch: 6166 / 6852], examples_per_second: 3896.3365, train_label_loss: 0.1624, \n"
     ]
    },
    {
     "name": "stdout",
     "output_type": "stream",
     "text": [
      "=============================================================\n",
      "epoch: 4, source_val_acc_label: 0.9745, target_val_acc_label: 0.1001, source_val_label_loss: 0.1154, target_val_label_loss: 2.8284, \n",
      "=============================================================\n"
     ]
    },
    {
     "name": "stdout",
     "output_type": "stream",
     "text": [
      "epoch: 5, [batch: 1 / 6838], examples_per_second: 1.8807, train_label_loss: 0.2653, \n"
     ]
    },
    {
     "name": "stdout",
     "output_type": "stream",
     "text": [
      "epoch: 5, [batch: 684 / 6838], examples_per_second: 3799.5352, train_label_loss: 0.0319, \n"
     ]
    },
    {
     "name": "stdout",
     "output_type": "stream",
     "text": [
      "epoch: 5, [batch: 1368 / 6838], examples_per_second: 3907.7437, train_label_loss: 0.2882, \n"
     ]
    },
    {
     "name": "stdout",
     "output_type": "stream",
     "text": [
      "epoch: 5, [batch: 2052 / 6838], examples_per_second: 3851.6346, train_label_loss: 0.0215, \n"
     ]
    },
    {
     "name": "stdout",
     "output_type": "stream",
     "text": [
      "epoch: 5, [batch: 2735 / 6838], examples_per_second: 3864.9141, train_label_loss: 0.0138, \n"
     ]
    },
    {
     "name": "stdout",
     "output_type": "stream",
     "text": [
      "epoch: 5, [batch: 3419 / 6838], examples_per_second: 3951.6978, train_label_loss: 0.2253, \n"
     ]
    },
    {
     "name": "stdout",
     "output_type": "stream",
     "text": [
      "epoch: 5, [batch: 4103 / 6838], examples_per_second: 3962.5854, train_label_loss: 0.0026, \n"
     ]
    },
    {
     "name": "stdout",
     "output_type": "stream",
     "text": [
      "epoch: 5, [batch: 4786 / 6838], examples_per_second: 3913.5137, train_label_loss: 0.0016, \n"
     ]
    },
    {
     "name": "stdout",
     "output_type": "stream",
     "text": [
      "epoch: 5, [batch: 5470 / 6838], examples_per_second: 4002.4242, train_label_loss: 0.0118, \n"
     ]
    },
    {
     "name": "stdout",
     "output_type": "stream",
     "text": [
      "epoch: 5, [batch: 6154 / 6838], examples_per_second: 3917.6491, train_label_loss: 0.0883, \n"
     ]
    },
    {
     "name": "stdout",
     "output_type": "stream",
     "text": [
      "=============================================================\n",
      "epoch: 5, source_val_acc_label: 0.9752, target_val_acc_label: 0.0930, source_val_label_loss: 0.1128, target_val_label_loss: 2.8707, \n",
      "=============================================================\n"
     ]
    },
    {
     "name": "stdout",
     "output_type": "stream",
     "text": [
      "Patience (3) exhausted\n"
     ]
    }
   ],
   "source": [
    "###################################\n",
    "# train\n",
    "###################################\n",
    "jig = PTN_Train_Eval_Test_Jig(model, p.BEST_MODEL_PATH, p.device)\n",
    "\n",
    "jig.train(\n",
    "    train_iterable=datasets.source.processed.train,\n",
    "    source_val_iterable=datasets.source.processed.val,\n",
    "    target_val_iterable=datasets.target.processed.val,\n",
    "    num_epochs=p.n_epoch,\n",
    "    num_logs_per_epoch=p.NUM_LOGS_PER_EPOCH,\n",
    "    patience=p.patience,\n",
    "    optimizer=optimizer,\n",
    "    criteria_for_best=p.criteria_for_best,\n",
    ")"
   ]
  },
  {
   "cell_type": "code",
   "execution_count": 23,
   "id": "31e8fabf",
   "metadata": {
    "execution": {
     "iopub.execute_input": "2022-03-23T22:48:14.245399Z",
     "iopub.status.busy": "2022-03-23T22:48:14.244851Z",
     "iopub.status.idle": "2022-03-23T22:48:14.277263Z",
     "shell.execute_reply": "2022-03-23T22:48:14.276572Z"
    },
    "papermill": {
     "duration": 0.073749,
     "end_time": "2022-03-23T22:48:14.277420",
     "exception": false,
     "start_time": "2022-03-23T22:48:14.203671",
     "status": "completed"
    },
    "tags": []
   },
   "outputs": [],
   "source": [
    "total_experiment_time_secs = time.time() - start_time_secs"
   ]
  },
  {
   "cell_type": "code",
   "execution_count": 24,
   "id": "87b9595b",
   "metadata": {
    "execution": {
     "iopub.execute_input": "2022-03-23T22:48:14.377990Z",
     "iopub.status.busy": "2022-03-23T22:48:14.377138Z",
     "iopub.status.idle": "2022-03-23T22:58:48.900286Z",
     "shell.execute_reply": "2022-03-23T22:58:48.899495Z"
    },
    "papermill": {
     "duration": 634.570656,
     "end_time": "2022-03-23T22:58:48.900468",
     "exception": false,
     "start_time": "2022-03-23T22:48:14.329812",
     "status": "completed"
    },
    "tags": []
   },
   "outputs": [],
   "source": [
    "###################################\n",
    "# Evaluate the model\n",
    "###################################\n",
    "source_test_label_accuracy, source_test_label_loss = jig.test(datasets.source.processed.test)\n",
    "target_test_label_accuracy, target_test_label_loss = jig.test(datasets.target.processed.test)\n",
    "\n",
    "source_val_label_accuracy, source_val_label_loss = jig.test(datasets.source.processed.val)\n",
    "target_val_label_accuracy, target_val_label_loss = jig.test(datasets.target.processed.val)\n",
    "\n",
    "history = jig.get_history()\n",
    "\n",
    "total_epochs_trained = len(history[\"epoch_indices\"])\n",
    "\n",
    "val_dl = Iterable_Aggregator((datasets.source.original.val,datasets.target.original.val))\n",
    "\n",
    "confusion = ptn_confusion_by_domain_over_dataloader(model, p.device, val_dl)\n",
    "per_domain_accuracy = per_domain_accuracy_from_confusion(confusion)\n",
    "\n",
    "# Add a key to per_domain_accuracy for if it was a source domain\n",
    "for domain, accuracy in per_domain_accuracy.items():\n",
    "    per_domain_accuracy[domain] = {\n",
    "        \"accuracy\": accuracy,\n",
    "        \"source?\": domain in p.domains_source\n",
    "    }\n",
    "\n",
    "# Do an independent accuracy assesment JUST TO BE SURE!\n",
    "# _source_test_label_accuracy = independent_accuracy_assesment(model, datasets.source.processed.test, p.device)\n",
    "# _target_test_label_accuracy = independent_accuracy_assesment(model, datasets.target.processed.test, p.device)\n",
    "# _source_val_label_accuracy = independent_accuracy_assesment(model, datasets.source.processed.val, p.device)\n",
    "# _target_val_label_accuracy = independent_accuracy_assesment(model, datasets.target.processed.val, p.device)\n",
    "\n",
    "# assert(_source_test_label_accuracy == source_test_label_accuracy)\n",
    "# assert(_target_test_label_accuracy == target_test_label_accuracy)\n",
    "# assert(_source_val_label_accuracy == source_val_label_accuracy)\n",
    "# assert(_target_val_label_accuracy == target_val_label_accuracy)\n",
    "\n",
    "experiment = {\n",
    "    \"experiment_name\": p.experiment_name,\n",
    "    \"parameters\": dict(p),\n",
    "    \"results\": {\n",
    "        \"source_test_label_accuracy\": source_test_label_accuracy,\n",
    "        \"source_test_label_loss\": source_test_label_loss,\n",
    "        \"target_test_label_accuracy\": target_test_label_accuracy,\n",
    "        \"target_test_label_loss\": target_test_label_loss,\n",
    "        \"source_val_label_accuracy\": source_val_label_accuracy,\n",
    "        \"source_val_label_loss\": source_val_label_loss,\n",
    "        \"target_val_label_accuracy\": target_val_label_accuracy,\n",
    "        \"target_val_label_loss\": target_val_label_loss,\n",
    "        \"total_epochs_trained\": total_epochs_trained,\n",
    "        \"total_experiment_time_secs\": total_experiment_time_secs,\n",
    "        \"confusion\": confusion,\n",
    "        \"per_domain_accuracy\": per_domain_accuracy,\n",
    "    },\n",
    "    \"history\": history,\n",
    "    \"dataset_metrics\": get_dataset_metrics(datasets, \"ptn\"),\n",
    "}"
   ]
  },
  {
   "cell_type": "code",
   "execution_count": 25,
   "id": "54a21829",
   "metadata": {
    "execution": {
     "iopub.execute_input": "2022-03-23T22:58:48.987080Z",
     "iopub.status.busy": "2022-03-23T22:58:48.986700Z",
     "iopub.status.idle": "2022-03-23T22:58:49.201881Z",
     "shell.execute_reply": "2022-03-23T22:58:49.202559Z"
    },
    "papermill": {
     "duration": 0.259152,
     "end_time": "2022-03-23T22:58:49.202772",
     "exception": false,
     "start_time": "2022-03-23T22:58:48.943620",
     "status": "completed"
    },
    "tags": []
   },
   "outputs": [
    {
     "data": {
      "image/png": "[encoded data removed]",
      "text/plain": [
       "<Figure size 1080x504 with 1 Axes>"
      ]
     },
     "metadata": {
      "needs_background": "light"
     },
     "output_type": "display_data"
    }
   ],
   "source": [
    "ax = get_loss_curve(experiment)\n",
    "plt.show()"
   ]
  },
  {
   "cell_type": "code",
   "execution_count": 26,
   "id": "fd8a0f60",
   "metadata": {
    "execution": {
     "iopub.execute_input": "2022-03-23T22:58:49.299441Z",
     "iopub.status.busy": "2022-03-23T22:58:49.299063Z",
     "iopub.status.idle": "2022-03-23T22:58:49.672194Z",
     "shell.execute_reply": "2022-03-23T22:58:49.672869Z"
    },
    "papermill": {
     "duration": 0.417466,
     "end_time": "2022-03-23T22:58:49.673082",
     "exception": false,
     "start_time": "2022-03-23T22:58:49.255616",
     "status": "completed"
    },
    "tags": []
   },
   "outputs": [
    {
     "data": {
      "text/plain": [
       "<AxesSubplot:title={'center':'Results'}>"
      ]
     },
     "execution_count": 26,
     "metadata": {},
     "output_type": "execute_result"
    },
    {
     "data": {
      "image/png": "[encoded data removed]",
      "text/plain": [
       "<Figure size 1080x504 with 1 Axes>"
      ]
     },
     "metadata": {
      "needs_background": "light"
     },
     "output_type": "display_data"
    }
   ],
   "source": [
    "get_results_table(experiment)"
   ]
  },
  {
   "cell_type": "code",
   "execution_count": 27,
   "id": "cf8dc689",
   "metadata": {
    "execution": {
     "iopub.execute_input": "2022-03-23T22:58:49.764870Z",
     "iopub.status.busy": "2022-03-23T22:58:49.764310Z",
     "iopub.status.idle": "2022-03-23T22:58:50.011976Z",
     "shell.execute_reply": "2022-03-23T22:58:50.012666Z"
    },
    "papermill": {
     "duration": 0.293522,
     "end_time": "2022-03-23T22:58:50.012881",
     "exception": false,
     "start_time": "2022-03-23T22:58:49.719359",
     "status": "completed"
    },
    "tags": []
   },
   "outputs": [
    {
     "data": {
      "text/plain": [
       "<AxesSubplot:title={'center':'Per Domain Validation Accuracy'}, xlabel='domain'>"
      ]
     },
     "execution_count": 27,
     "metadata": {},
     "output_type": "execute_result"
    },
    {
     "data": {
      "image/png": "[encoded data removed]",
      "text/plain": [
       "<Figure size 1080x504 with 1 Axes>"
      ]
     },
     "metadata": {
      "needs_background": "light"
     },
     "output_type": "display_data"
    }
   ],
   "source": [
    "get_domain_accuracies(experiment)"
   ]
  },
  {
   "cell_type": "code",
   "execution_count": 28,
   "id": "a74ae082",
   "metadata": {
    "execution": {
     "iopub.execute_input": "2022-03-23T22:58:50.829346Z",
     "iopub.status.busy": "2022-03-23T22:58:50.828963Z",
     "iopub.status.idle": "2022-03-23T22:58:50.856725Z",
     "shell.execute_reply": "2022-03-23T22:58:50.855924Z"
    },
    "papermill": {
     "duration": 0.796139,
     "end_time": "2022-03-23T22:58:50.856885",
     "exception": false,
     "start_time": "2022-03-23T22:58:50.060746",
     "status": "completed"
    },
    "tags": []
   },
   "outputs": [
    {
     "name": "stdout",
     "output_type": "stream",
     "text": [
      "Source Test Label Accuracy: 0.9622721354166667 Target Test Label Accuracy: 0.11626953125\n",
      "Source Val Label Accuracy: 0.9638454400848356 Target Val Label Accuracy: 0.11450520833333333\n"
     ]
    }
   ],
   "source": [
    "print(\"Source Test Label Accuracy:\", experiment[\"results\"][\"source_test_label_accuracy\"], \"Target Test Label Accuracy:\", experiment[\"results\"][\"target_test_label_accuracy\"])\n",
    "print(\"Source Val Label Accuracy:\", experiment[\"results\"][\"source_val_label_accuracy\"], \"Target Val Label Accuracy:\", experiment[\"results\"][\"target_val_label_accuracy\"])"
   ]
  },
  {
   "cell_type": "code",
   "execution_count": 29,
   "id": "dacca602",
   "metadata": {
    "execution": {
     "iopub.execute_input": "2022-03-23T22:58:50.955066Z",
     "iopub.status.busy": "2022-03-23T22:58:50.954697Z",
     "iopub.status.idle": "2022-03-23T22:58:50.979847Z",
     "shell.execute_reply": "2022-03-23T22:58:50.980552Z"
    },
    "papermill": {
     "duration": 0.072602,
     "end_time": "2022-03-23T22:58:50.980739",
     "exception": false,
     "start_time": "2022-03-23T22:58:50.908137",
     "status": "completed"
    },
    "tags": [
     "experiment_json"
    ]
   },
   "outputs": [
    {
     "data": {
      "text/plain": [
       "'{\"experiment_name\": \"tl_1v2:wisig-oracle.run1\", \"parameters\": {\"experiment_name\": \"tl_1v2:wisig-oracle.run1\", \"device\": \"cuda\", \"lr\": 0.0001, \"n_shot\": 3, \"n_query\": 2, \"train_k_factor\": 3, \"val_k_factor\": 2, \"test_k_factor\": 2, \"torch_default_dtype\": \"torch.float32\", \"n_epoch\": 50, \"patience\": 3, \"criteria_for_best\": \"target_accuracy\", \"x_net\": [{\"class\": \"nnReshape\", \"kargs\": {\"shape\": [-1, 1, 2, 256]}}, {\"class\": \"Conv2d\", \"kargs\": {\"in_channels\": 1, \"out_channels\": 256, \"kernel_size\": [1, 7], \"bias\": false, \"padding\": [0, 3]}}, {\"class\": \"ReLU\", \"kargs\": {\"inplace\": true}}, {\"class\": \"BatchNorm2d\", \"kargs\": {\"num_features\": 256}}, {\"class\": \"Conv2d\", \"kargs\": {\"in_channels\": 256, \"out_channels\": 80, \"kernel_size\": [2, 7], \"bias\": true, \"padding\": [0, 3]}}, {\"class\": \"ReLU\", \"kargs\": {\"inplace\": true}}, {\"class\": \"BatchNorm2d\", \"kargs\": {\"num_features\": 80}}, {\"class\": \"Flatten\", \"kargs\": {}}, {\"class\": \"Linear\", \"kargs\": {\"in_features\": 20480, \"out_features\": 256}}, {\"class\": \"ReLU\", \"kargs\": {\"inplace\": true}}, {\"class\": \"BatchNorm1d\", \"kargs\": {\"num_features\": 256}}, {\"class\": \"Linear\", \"kargs\": {\"in_features\": 256, \"out_features\": 256}}], \"NUM_LOGS_PER_EPOCH\": 10, \"BEST_MODEL_PATH\": \"./best_model.pth\", \"n_way\": 16, \"datasets\": [{\"labels\": [\"1-10\", \"1-12\", \"1-14\", \"1-16\", \"1-18\", \"1-19\", \"1-8\", \"10-11\", \"10-17\", \"10-4\", \"10-7\", \"11-1\", \"11-10\", \"11-19\", \"11-20\", \"11-4\", \"11-7\", \"12-19\", \"12-20\", \"12-7\", \"13-14\", \"13-18\", \"13-19\", \"13-20\", \"13-3\", \"13-7\", \"14-10\", \"14-11\", \"14-12\", \"14-13\", \"14-14\", \"14-19\", \"14-20\", \"14-7\", \"14-8\", \"14-9\", \"15-1\", \"15-19\", \"15-6\", \"16-1\", \"16-16\", \"16-19\", \"16-20\", \"17-10\", \"17-11\", \"18-1\", \"18-10\", \"18-11\", \"18-12\", \"18-13\", \"18-14\", \"18-15\", \"18-16\", \"18-17\", \"18-19\", \"18-2\", \"18-20\", \"18-4\", \"18-5\", \"18-7\", \"18-8\", \"18-9\", \"19-1\", \"19-10\", \"19-11\", \"19-12\", \"19-13\", \"19-14\", \"19-15\", \"19-19\", \"19-2\", \"19-20\", \"19-3\", \"19-4\", \"19-6\", \"19-7\", \"19-8\", \"19-9\", \"2-1\", \"2-13\", \"2-15\", \"2-3\", \"2-4\", \"2-5\", \"2-6\", \"2-7\", \"2-8\", \"20-1\", \"20-12\", \"20-14\", \"20-15\", \"20-16\", \"20-18\", \"20-19\", \"20-20\", \"20-3\", \"20-4\", \"20-5\", \"20-7\", \"20-8\", \"3-1\", \"3-13\", \"3-18\", \"3-2\", \"3-8\", \"4-1\", \"4-10\", \"4-11\", \"5-1\", \"5-5\", \"6-1\", \"6-15\", \"6-6\", \"7-10\", \"7-11\", \"7-12\", \"7-13\", \"7-14\", \"7-7\", \"7-8\", \"7-9\", \"8-1\", \"8-13\", \"8-14\", \"8-18\", \"8-20\", \"8-3\", \"8-8\", \"9-1\", \"9-7\"], \"domains\": [1, 2, 3, 4], \"num_examples_per_domain_per_label\": -1, \"pickle_path\": \"/root/csc500-main/datasets/wisig.node3-19.stratified_ds.2022A.pkl\", \"source_or_target_dataset\": \"source\", \"x_transforms\": [\"unit_mag\"], \"episode_transforms\": [], \"domain_prefix\": \"Wisig_\"}, {\"labels\": [\"3123D52\", \"3123D65\", \"3123D79\", \"3123D80\", \"3123D54\", \"3123D70\", \"3123D7B\", \"3123D89\", \"3123D58\", \"3123D76\", \"3123D7D\", \"3123EFE\", \"3123D64\", \"3123D78\", \"3123D7E\", \"3124E4A\"], \"domains\": [32, 38, 8, 44, 14, 50, 20, 26], \"num_examples_per_domain_per_label\": 10000, \"pickle_path\": \"/root/csc500-main/datasets/oracle.Run1_10kExamples_stratified_ds.2022A.pkl\", \"source_or_target_dataset\": \"target\", \"x_transforms\": [\"unit_mag\"], \"episode_transforms\": [], \"domain_prefix\": \"ORACLE.run1\"}], \"dataset_seed\": 154325, \"seed\": 154325, \"x_shape\": [2, 256], \"domains_source\": [\"Wisig_1\", \"Wisig_2\", \"Wisig_3\", \"Wisig_4\"], \"domains_target\": [\"ORACLE.run132\", \"ORACLE.run138\", \"ORACLE.run18\", \"ORACLE.run144\", \"ORACLE.run114\", \"ORACLE.run150\", \"ORACLE.run120\", \"ORACLE.run126\"]}, \"results\": {\"source_test_label_accuracy\": 0.9622721354166667, \"source_test_label_loss\": 0.16478973627090454, \"target_test_label_accuracy\": 0.11626953125, \"target_test_label_loss\": 2.7020680904388428, \"source_val_label_accuracy\": 0.9638454400848356, \"source_val_label_loss\": 0.15481343865394592, \"target_val_label_accuracy\": 0.11450520833333333, \"target_val_label_loss\": 2.7071142196655273, \"total_epochs_trained\": 5, \"total_experiment_time_secs\": 1405.3769509792328, \"confusion\": {\"Wisig_2\": {\"56\": {\"56\": 12}, \"12\": {\"12\": 84, \"88\": 1, \"78\": 1, \"94\": 1, \"70\": 1}, \"15\": {\"15\": 112, \"26\": 1, \"44\": 1, \"24\": 1, \"108\": 1}, \"26\": {\"26\": 128, \"24\": 2, \"21\": 1, \"84\": 1}, \"82\": {\"82\": 36}, \"9\": {\"9\": 32}, \"49\": {\"49\": 21, \"11\": 1, \"29\": 1, \"129\": 1}, \"55\": {\"55\": 16}, \"102\": {\"102\": 124}, \"85\": {\"85\": 32}, \"73\": {\"73\": 28}, \"47\": {\"47\": 10, \"15\": 1, \"94\": 1}, \"20\": {\"20\": 15, \"24\": 1}, \"117\": {\"117\": 112, \"87\": 1, \"21\": 2, \"39\": 1}, \"122\": {\"122\": 129, \"73\": 1, \"87\": 1, \"20\": 1, \"71\": 1, \"70\": 3, \"5\": 1, \"39\": 1, \"27\": 2}, \"113\": {\"113\": 70, \"69\": 1, \"60\": 1}, \"87\": {\"21\": 2, \"87\": 102, \"83\": 1, \"71\": 1, \"69\": 1, \"43\": 2, \"24\": 1, \"70\": 1, \"30\": 1}, \"21\": {\"21\": 45, \"46\": 1, \"78\": 1, \"24\": 1}, \"106\": {\"106\": 116, \"12\": 1, \"70\": 1, \"24\": 1, \"21\": 1}, \"3\": {\"3\": 132, \"15\": 1, \"7\": 1, \"94\": 1, \"39\": 1}, \"126\": {\"126\": 120}, \"41\": {\"41\": 19, \"55\": 1}, \"76\": {\"76\": 16}, \"60\": {\"60\": 27, \"70\": 1}, \"94\": {\"94\": 60, \"88\": 1, \"122\": 1, \"24\": 1, \"36\": 1}, \"50\": {\"50\": 16}, \"97\": {\"97\": 20}, \"115\": {\"115\": 12}, \"38\": {\"38\": 16}, \"43\": {\"43\": 114, \"0\": 1, \"94\": 1, \"106\": 1, \"84\": 1, \"113\": 1, \"7\": 1, \"21\": 1, \"87\": 1, \"78\": 1, \"24\": 1}, \"67\": {\"67\": 16}, \"18\": {\"18\": 121, \"21\": 1, \"10\": 1, \"25\": 1, \"94\": 2, \"4\": 1, \"36\": 1}, \"23\": {\"23\": 37, \"121\": 1, \"12\": 1, \"29\": 1, \"122\": 3, \"119\": 1}, \"63\": {\"63\": 20}, \"127\": {\"127\": 118, \"122\": 1, \"111\": 1, \"70\": 1, \"24\": 1, \"26\": 1, \"43\": 1}, \"72\": {\"72\": 26, \"77\": 1, \"31\": 1}, \"128\": {\"128\": 17, \"52\": 1, \"49\": 3, \"59\": 2, \"47\": 1}, \"7\": {\"7\": 124, \"88\": 1, \"26\": 1, \"127\": 1, \"33\": 1}, \"108\": {\"108\": 134}, \"16\": {\"16\": 105, \"88\": 1, \"5\": 1, \"93\": 1, \"6\": 1, \"31\": 1, \"77\": 1, \"43\": 1, \"21\": 1, \"122\": 1}, \"29\": {\"29\": 32}, \"61\": {\"61\": 19, \"94\": 1}, \"104\": {\"104\": 20}, \"120\": {\"120\": 20}, \"124\": {\"124\": 123, \"82\": 1}, \"34\": {\"29\": 1, \"34\": 28, \"8\": 1, \"45\": 1, \"41\": 1}, \"84\": {\"84\": 87, \"6\": 1, \"11\": 2, \"109\": 1, \"98\": 1}, \"103\": {\"103\": 16}, \"100\": {\"100\": 16}, \"40\": {\"40\": 130, \"11\": 1, \"94\": 1, \"108\": 1, \"113\": 1, \"69\": 1, \"21\": 1, \"4\": 1, \"39\": 1, \"24\": 1, \"122\": 1}, \"35\": {\"35\": 12}, \"96\": {\"96\": 20}, \"101\": {\"101\": 119, \"98\": 1}, \"71\": {\"71\": 95, \"24\": 1, \"36\": 1, \"4\": 1, \"0\": 1, \"105\": 1}, \"81\": {\"81\": 21, \"109\": 1, \"110\": 1, \"77\": 1}, \"74\": {\"74\": 14, \"94\": 1, \"128\": 1}, \"119\": {\"119\": 20}, \"5\": {\"5\": 108, \"17\": 1, \"69\": 1, \"24\": 1, \"107\": 1}, \"68\": {\"68\": 16}, \"37\": {\"13\": 1, \"37\": 15}, \"58\": {\"58\": 20}, \"109\": {\"13\": 1, \"109\": 93, \"12\": 1, \"18\": 1, \"5\": 1, \"118\": 1, \"94\": 1, \"0\": 1}, \"107\": {\"107\": 56, \"125\": 1, \"36\": 1, \"109\": 1, \"4\": 1, \"108\": 1, \"106\": 1, \"110\": 2}, \"13\": {\"13\": 11, \"72\": 1, \"94\": 1, \"52\": 1, \"82\": 1, \"87\": 1}, \"52\": {\"52\": 19, \"124\": 1}, \"77\": {\"77\": 15, \"22\": 1}, \"95\": {\"95\": 36}, \"44\": {\"44\": 100}, \"88\": {\"88\": 120, \"3\": 1, \"24\": 1}, \"91\": {\"91\": 24, \"29\": 2, \"6\": 1, \"5\": 1}, \"93\": {\"93\": 136, \"21\": 1, \"7\": 1}, \"8\": {\"8\": 121, \"18\": 2, \"26\": 1}, \"1\": {\"1\": 111, \"24\": 2, \"36\": 1}, \"45\": {\"45\": 15, \"31\": 1}, \"111\": {\"111\": 124, \"62\": 1, \"21\": 1}, \"116\": {\"116\": 26, \"70\": 1, \"80\": 1}, \"48\": {\"48\": 20}, \"57\": {\"57\": 18, \"44\": 1, \"24\": 1}, \"10\": {\"10\": 56, \"105\": 1, \"12\": 1, \"118\": 1, \"26\": 1}, \"129\": {\"129\": 32}, \"98\": {\"98\": 115, \"26\": 1, \"24\": 1, \"94\": 1}, \"65\": {\"65\": 19, \"10\": 1}, \"6\": {\"6\": 32}, \"75\": {\"75\": 15, \"80\": 1}, \"14\": {\"14\": 46, \"30\": 1, \"106\": 1}, \"30\": {\"30\": 105, \"12\": 1, \"88\": 1, \"93\": 1, \"3\": 1, \"59\": 2, \"39\": 1}, \"83\": {\"83\": 40}, \"69\": {\"69\": 125, \"7\": 1, \"68\": 1, \"114\": 1}, \"125\": {\"125\": 145, \"109\": 1}, \"31\": {\"31\": 20}, \"118\": {\"118\": 67, \"43\": 1}, \"53\": {\"53\": 15, \"19\": 1}, \"54\": {\"54\": 20}, \"92\": {\"92\": 28}, \"19\": {\"19\": 28}, \"27\": {\"27\": 58, \"49\": 1, \"25\": 1, \"36\": 4, \"77\": 2, \"94\": 1, \"24\": 1}, \"17\": {\"17\": 15, \"36\": 1}, \"4\": {\"4\": 87, \"16\": 1}, \"36\": {\"27\": 3, \"36\": 119, \"94\": 1, \"29\": 1, \"24\": 1, \"39\": 1, \"106\": 1, \"43\": 1}, \"90\": {\"90\": 134, \"2\": 1, \"26\": 1}, \"64\": {\"64\": 15, \"43\": 1}, \"66\": {\"66\": 19, \"86\": 1}, \"46\": {\"46\": 14, \"16\": 1, \"24\": 1}, \"86\": {\"86\": 32}, \"114\": {\"114\": 108, \"10\": 1, \"101\": 1}, \"32\": {\"74\": 1, \"32\": 18, \"82\": 2, \"10\": 2, \"75\": 1, \"66\": 1, \"104\": 2, \"107\": 1, \"86\": 1, \"95\": 1, \"50\": 1, \"34\": 1, \"14\": 3, \"88\": 1}, \"78\": {\"78\": 43, \"40\": 1, \"43\": 2, \"87\": 1, \"4\": 1}, \"33\": {\"33\": 136, \"93\": 1, \"122\": 1}, \"70\": {\"70\": 113, \"89\": 1, \"122\": 3, \"16\": 1, \"24\": 2, \"93\": 1, \"78\": 1, \"110\": 1, \"69\": 1}, \"0\": {\"0\": 111, \"117\": 1, \"26\": 1, \"69\": 1, \"90\": 1, \"39\": 1}, \"110\": {\"110\": 38, \"117\": 1, \"51\": 1}, \"2\": {\"2\": 25, \"88\": 1, \"16\": 1, \"72\": 2, \"83\": 1, \"55\": 1, \"81\": 1}, \"28\": {\"28\": 18, \"23\": 1, \"78\": 1}, \"51\": {\"51\": 16, \"75\": 1, \"58\": 1, \"9\": 1, \"77\": 1}, \"79\": {\"79\": 16}, \"42\": {\"42\": 27, \"49\": 1}, \"112\": {\"112\": 12, \"5\": 1, \"3\": 1, \"126\": 1, \"49\": 1}, \"89\": {\"89\": 35, \"92\": 1}, \"59\": {\"59\": 16}, \"105\": {\"105\": 126, \"24\": 1, \"39\": 1}, \"121\": {\"121\": 34, \"36\": 1, \"113\": 1}, \"11\": {\"11\": 76, \"49\": 2, \"23\": 1, \"94\": 1}, \"99\": {\"99\": 30, \"12\": 1, \"33\": 1}, \"25\": {\"25\": 16}, \"62\": {\"62\": 121, \"94\": 1, \"22\": 1, \"105\": 1, \"10\": 1, \"24\": 2, \"106\": 1}, \"123\": {\"123\": 16}, \"24\": {\"24\": 108, \"12\": 1, \"70\": 1, \"30\": 1, \"122\": 1}, \"80\": {\"80\": 16}, \"39\": {\"39\": 94, \"117\": 1, \"0\": 1, \"24\": 1, \"88\": 1, \"94\": 1, \"33\": 1}, \"22\": {\"22\": 18, \"10\": 1, \"112\": 1}}, \"Wisig_4\": {\"32\": {\"32\": 22, \"22\": 1, \"31\": 1, \"23\": 1, \"82\": 1, \"109\": 2}, \"22\": {\"22\": 15, \"78\": 1}, \"69\": {\"69\": 113, \"122\": 1, \"6\": 1, \"113\": 1, \"30\": 1, \"70\": 1, \"126\": 1, \"0\": 1}, \"65\": {\"65\": 12}, \"91\": {\"91\": 23, \"85\": 1}, \"63\": {\"63\": 16}, \"127\": {\"63\": 1, \"127\": 105, \"111\": 1, \"7\": 1}, \"11\": {\"11\": 136, \"36\": 1, \"81\": 1}, \"12\": {\"12\": 93, \"78\": 1, \"24\": 1, \"126\": 1, \"122\": 1, \"105\": 1, \"7\": 2}, \"111\": {\"111\": 126, \"95\": 1, \"126\": 1}, \"53\": {\"53\": 14, \"122\": 1, \"70\": 1}, \"73\": {\"73\": 22, \"53\": 1, \"78\": 1}, \"3\": {\"3\": 134, \"21\": 1, \"39\": 1}, \"83\": {\"83\": 27, \"38\": 1}, \"88\": {\"88\": 122, \"70\": 5, \"12\": 1, \"10\": 1, \"108\": 1}, \"87\": {\"87\": 129, \"108\": 1, \"105\": 2}, \"2\": {\"2\": 22, \"78\": 1, \"126\": 4, \"26\": 1}, \"86\": {\"86\": 28}, \"16\": {\"16\": 116, \"21\": 1, \"118\": 2, \"129\": 1, \"111\": 1, \"127\": 1}, \"21\": {\"21\": 33, \"10\": 1, \"0\": 2, \"1\": 1, \"39\": 1, \"51\": 1, \"122\": 1}, \"96\": {\"96\": 19, \"21\": 1}, \"100\": {\"100\": 20}, \"7\": {\"7\": 119, \"108\": 1}, \"75\": {\"75\": 15, \"54\": 1}, \"10\": {\"10\": 119, \"111\": 1, \"39\": 1, \"27\": 1, \"126\": 1, \"12\": 1}, \"43\": {\"43\": 113, \"110\": 1, \"78\": 1, \"63\": 1, \"60\": 1, \"105\": 1, \"19\": 1, \"126\": 1}, \"92\": {\"92\": 27, \"122\": 1}, \"62\": {\"62\": 54, \"5\": 1, \"40\": 1, \"43\": 1, \"84\": 1, \"69\": 2}, \"31\": {\"31\": 16}, \"0\": {\"0\": 113, \"122\": 1}, \"45\": {\"45\": 16}, \"85\": {\"85\": 26, \"91\": 1, \"54\": 1}, \"119\": {\"119\": 16}, \"46\": {\"46\": 20}, \"71\": {\"71\": 102, \"7\": 1, \"109\": 1}, \"8\": {\"8\": 130, \"0\": 1, \"7\": 1, \"70\": 1, \"109\": 1}, \"118\": {\"118\": 106, \"39\": 1, \"69\": 1, \"122\": 1, \"70\": 1, \"15\": 1, \"108\": 1}, \"1\": {\"1\": 97, \"85\": 1, \"33\": 2, \"94\": 1, \"106\": 1, \"126\": 1, \"70\": 1, \"21\": 1, \"10\": 1, \"127\": 1, \"12\": 1}, \"38\": {\"38\": 15, \"32\": 1}, \"30\": {\"30\": 71, \"14\": 1, \"51\": 1, \"21\": 1, \"42\": 1, \"10\": 1}, \"66\": {\"66\": 15, \"90\": 1}, \"9\": {\"9\": 28}, \"5\": {\"5\": 135, \"72\": 1}, \"24\": {\"24\": 105, \"36\": 11, \"30\": 1, \"12\": 1, \"27\": 1, \"10\": 1}, \"97\": {\"97\": 20}, \"67\": {\"67\": 6, \"115\": 1, \"123\": 4, \"48\": 1, \"23\": 2, \"122\": 1, \"113\": 1}, \"19\": {\"19\": 28}, \"77\": {\"77\": 12}, \"26\": {\"26\": 117, \"111\": 1}, \"115\": {\"10\": 1, \"115\": 14, \"86\": 1}, \"50\": {\"50\": 16}, \"120\": {\"120\": 20}, \"102\": {\"102\": 127, \"14\": 1}, \"29\": {\"29\": 32}, \"44\": {\"44\": 63, \"63\": 1}, \"124\": {\"124\": 117, \"118\": 1}, \"78\": {\"78\": 26, \"17\": 1, \"21\": 2, \"34\": 1, \"63\": 1, \"99\": 1, \"84\": 1, \"111\": 2, \"88\": 1}, \"104\": {\"104\": 16}, \"105\": {\"105\": 88, \"122\": 1, \"87\": 8, \"78\": 1, \"101\": 1, \"36\": 1}, \"28\": {\"28\": 20}, \"37\": {\"37\": 16}, \"107\": {\"107\": 127, \"122\": 1, \"5\": 1, \"115\": 1, \"7\": 1, \"88\": 1}, \"6\": {\"6\": 23, \"10\": 1}, \"17\": {\"17\": 18, \"104\": 2}, \"57\": {\"57\": 16}, \"121\": {\"121\": 23, \"28\": 1, \"13\": 2, \"51\": 1, \"128\": 1, \"34\": 2, \"21\": 1, \"92\": 1}, \"58\": {\"58\": 16}, \"64\": {\"64\": 16}, \"82\": {\"82\": 32}, \"39\": {\"39\": 96, \"81\": 1, \"0\": 1, \"122\": 1, \"126\": 1}, \"110\": {\"110\": 116, \"61\": 1, \"81\": 1, \"14\": 1, \"21\": 1, \"70\": 1, \"0\": 1, \"8\": 1, \"102\": 1}, \"114\": {\"114\": 127, \"49\": 1}, \"20\": {\"20\": 16}, \"117\": {\"117\": 114}, \"18\": {\"18\": 119, \"113\": 1}, \"99\": {\"99\": 39, \"122\": 1}, \"23\": {\"23\": 6, \"91\": 1, \"123\": 1, \"122\": 1, \"129\": 1, \"39\": 1, \"78\": 1, \"48\": 1, \"51\": 1, \"70\": 1, \"7\": 1}, \"128\": {\"128\": 22, \"101\": 1, \"21\": 1}, \"60\": {\"60\": 31, \"129\": 1}, \"70\": {\"70\": 112, \"9\": 1, \"88\": 6, \"111\": 1}, \"122\": {\"67\": 1, \"122\": 80, \"106\": 1, \"126\": 1, \"5\": 1}, \"101\": {\"101\": 129, \"7\": 1, \"111\": 1, \"70\": 1}, \"33\": {\"33\": 129, \"122\": 1, \"116\": 1, \"124\": 1}, \"40\": {\"40\": 124, \"39\": 1, \"33\": 1, \"122\": 1, \"88\": 1, \"70\": 1, \"0\": 1}, \"41\": {\"41\": 14, \"122\": 1, \"21\": 1}, \"59\": {\"59\": 12}, \"4\": {\"4\": 96, \"53\": 1, \"39\": 1, \"12\": 2, \"122\": 2, \"127\": 1, \"101\": 1}, \"112\": {\"112\": 15, \"67\": 1}, \"36\": {\"36\": 122, \"24\": 4, \"2\": 1, \"39\": 1}, \"48\": {\"48\": 13, \"60\": 2, \"21\": 1}, \"126\": {\"122\": 1, \"126\": 112, \"10\": 1, \"93\": 1, \"101\": 1}, \"125\": {\"125\": 119, \"7\": 1, \"98\": 1, \"84\": 1}, \"84\": {\"84\": 117, \"21\": 1, \"36\": 1, \"122\": 1, \"4\": 1, \"126\": 1, \"106\": 1, \"12\": 1, \"88\": 1, \"101\": 2, \"15\": 1}, \"80\": {\"80\": 16}, \"49\": {\"80\": 1, \"49\": 28, \"70\": 2, \"19\": 1}, \"47\": {\"25\": 1, \"47\": 11}, \"95\": {\"95\": 32}, \"54\": {\"54\": 16}, \"25\": {\"25\": 16}, \"116\": {\"116\": 25, \"33\": 1, \"2\": 1, \"78\": 1}, \"74\": {\"74\": 16}, \"35\": {\"35\": 12}, \"15\": {\"15\": 123, \"0\": 1, \"10\": 2, \"105\": 1, \"3\": 1}, \"108\": {\"108\": 81, \"73\": 1, \"49\": 1, \"71\": 1, \"94\": 1, \"27\": 1, \"113\": 1, \"30\": 1, \"51\": 1, \"84\": 1, \"19\": 1, \"88\": 1}, \"34\": {\"34\": 22, \"6\": 2, \"128\": 2, \"8\": 1, \"72\": 2, \"103\": 1, \"85\": 1, \"75\": 1}, \"81\": {\"81\": 34, \"39\": 1, \"122\": 1}, \"93\": {\"93\": 128}, \"55\": {\"55\": 16}, \"27\": {\"27\": 93, \"122\": 1, \"8\": 1, \"24\": 3, \"108\": 1, \"15\": 1}, \"109\": {\"109\": 107, \"16\": 1, \"70\": 1, \"108\": 1}, \"106\": {\"106\": 108, \"16\": 1, \"113\": 1, \"12\": 1, \"127\": 1, \"15\": 1, \"69\": 1, \"122\": 1, \"105\": 1}, \"68\": {\"68\": 15, \"108\": 1}, \"76\": {\"115\": 1, \"76\": 14, \"78\": 1}, \"103\": {\"103\": 15, \"73\": 1}, \"42\": {\"42\": 24, \"103\": 1, \"108\": 1, \"124\": 2}, \"129\": {\"110\": 1, \"129\": 26, \"73\": 1}, \"94\": {\"94\": 81, \"5\": 1, \"81\": 1, \"3\": 1, \"21\": 1, \"8\": 1, \"7\": 2}, \"123\": {\"123\": 16}, \"61\": {\"61\": 16}, \"51\": {\"73\": 1, \"51\": 9, \"4\": 1, \"129\": 1, \"58\": 1, \"21\": 1, \"12\": 1, \"47\": 1}, \"98\": {\"98\": 114, \"39\": 2, \"90\": 2}, \"56\": {\"56\": 12}, \"14\": {\"14\": 109, \"81\": 1, \"23\": 1, \"101\": 1}, \"90\": {\"90\": 137, \"126\": 1}, \"13\": {\"13\": 16}, \"89\": {\"89\": 32}, \"52\": {\"52\": 19, \"89\": 1}, \"72\": {\"72\": 31, \"21\": 1}, \"79\": {\"79\": 16}, \"113\": {\"113\": 123, \"12\": 1, \"84\": 1, \"39\": 1}}, \"Wisig_1\": {\"68\": {\"68\": 16}, \"7\": {\"7\": 142}, \"125\": {\"125\": 118}, \"111\": {\"111\": 117, \"18\": 1, \"88\": 1, \"93\": 1}, \"101\": {\"101\": 123, \"65\": 1}, \"11\": {\"11\": 136}, \"76\": {\"76\": 16}, \"5\": {\"5\": 86, \"73\": 1, \"44\": 1}, \"123\": {\"123\": 14, \"83\": 1, \"19\": 1}, \"85\": {\"85\": 32}, \"34\": {\"34\": 23, \"125\": 2, \"128\": 1, \"83\": 1, \"29\": 1, \"86\": 1, \"91\": 1, \"14\": 1, \"21\": 1}, \"42\": {\"60\": 2, \"42\": 22, \"109\": 1, \"124\": 1, \"91\": 1, \"7\": 1}, \"81\": {\"81\": 28}, \"127\": {\"127\": 106, \"36\": 1, \"88\": 1}, \"60\": {\"101\": 1, \"60\": 8, \"34\": 2, \"120\": 1, \"72\": 1, \"42\": 1, \"29\": 1, \"14\": 1}, \"77\": {\"77\": 16}, \"65\": {\"83\": 2, \"65\": 5, \"22\": 2, \"115\": 1, \"69\": 2}, \"44\": {\"44\": 76}, \"100\": {\"100\": 16}, \"80\": {\"80\": 16}, \"83\": {\"83\": 26, \"5\": 1, \"98\": 1}, \"51\": {\"51\": 16}, \"93\": {\"93\": 132, \"102\": 1, \"21\": 1}, \"31\": {\"31\": 16}, \"33\": {\"33\": 124, \"19\": 1, \"45\": 1}, \"113\": {\"113\": 121, \"69\": 1, \"16\": 1, \"43\": 1}, \"126\": {\"126\": 122, \"43\": 1, \"26\": 1}, \"10\": {\"10\": 111, \"0\": 8, \"85\": 1}, \"21\": {\"21\": 37, \"128\": 1, \"59\": 1, \"30\": 1}, \"90\": {\"90\": 131, \"113\": 1}, \"38\": {\"38\": 16}, \"96\": {\"96\": 17, \"126\": 2, \"30\": 1}, \"6\": {\"6\": 31, \"51\": 1}, \"121\": {\"121\": 32}, \"37\": {\"37\": 16}, \"88\": {\"88\": 123, \"36\": 1, \"108\": 1, \"15\": 1}, \"54\": {\"54\": 16}, \"92\": {\"92\": 28}, \"19\": {\"19\": 28}, \"47\": {\"47\": 12}, \"94\": {\"94\": 89, \"18\": 1, \"88\": 1, \"113\": 1}, \"66\": {\"66\": 16}, \"73\": {\"73\": 19, \"59\": 1}, \"75\": {\"75\": 16}, \"28\": {\"28\": 19, \"65\": 1}, \"20\": {\"20\": 16}, \"78\": {\"21\": 1, \"78\": 14, \"34\": 1}, \"71\": {\"71\": 100, \"7\": 1, \"43\": 1, \"23\": 1, \"127\": 1}, \"13\": {\"13\": 16}, \"118\": {\"118\": 83, \"7\": 1}, \"72\": {\"72\": 32}, \"24\": {\"24\": 87, \"111\": 1, \"12\": 1, \"108\": 2, \"36\": 1}, \"41\": {\"41\": 16}, \"102\": {\"102\": 119, \"87\": 1}, \"8\": {\"21\": 1, \"8\": 136, \"124\": 1}, \"39\": {\"39\": 94, \"88\": 1, \"43\": 1}, \"97\": {\"97\": 19, \"2\": 1}, \"48\": {\"48\": 12}, \"57\": {\"57\": 12}, \"29\": {\"29\": 28}, \"119\": {\"119\": 16}, \"89\": {\"89\": 36}, \"40\": {\"40\": 139, \"105\": 1}, \"22\": {\"97\": 1, \"22\": 15}, \"53\": {\"53\": 18, \"70\": 2}, \"108\": {\"108\": 124}, \"23\": {\"23\": 17, \"42\": 1, \"28\": 1, \"6\": 1, \"35\": 1, \"55\": 2, \"45\": 1}, \"109\": {\"109\": 115, \"126\": 1}, \"112\": {\"112\": 16}, \"35\": {\"35\": 12}, \"3\": {\"3\": 84, \"122\": 1, \"36\": 1, \"93\": 1, \"43\": 1}, \"103\": {\"103\": 14, \"94\": 1, \"52\": 1}, \"4\": {\"4\": 98, \"39\": 1, \"45\": 1}, \"87\": {\"87\": 106, \"7\": 1, \"93\": 1}, \"25\": {\"23\": 1, \"25\": 14, \"73\": 1}, \"15\": {\"15\": 93, \"111\": 7, \"69\": 1, \"43\": 1, \"7\": 1, \"44\": 1}, \"95\": {\"95\": 36}, \"120\": {\"120\": 18, \"6\": 1, \"15\": 1}, \"59\": {\"59\": 11, \"86\": 1}, \"49\": {\"49\": 17, \"31\": 1, \"82\": 1, \"7\": 1}, \"52\": {\"52\": 20}, \"45\": {\"49\": 1, \"45\": 8, \"46\": 1, \"47\": 1, \"55\": 1}, \"107\": {\"107\": 124}, \"106\": {\"106\": 133, \"10\": 1}, \"18\": {\"18\": 124}, \"64\": {\"64\": 16}, \"86\": {\"86\": 35, \"72\": 1}, \"14\": {\"14\": 96}, \"115\": {\"115\": 12}, \"0\": {\"0\": 83, \"49\": 1}, \"104\": {\"104\": 16}, \"61\": {\"61\": 12}, \"129\": {\"129\": 26, \"14\": 2}, \"122\": {\"122\": 87, \"43\": 1}, \"67\": {\"67\": 14, \"21\": 1, \"115\": 1}, \"128\": {\"128\": 24}, \"26\": {\"26\": 131, \"105\": 1, \"7\": 1, \"128\": 1}, \"117\": {\"117\": 136}, \"91\": {\"91\": 27, \"86\": 1}, \"12\": {\"12\": 100, \"15\": 1, \"108\": 2, \"88\": 1}, \"50\": {\"50\": 16}, \"99\": {\"99\": 24}, \"110\": {\"110\": 104}, \"43\": {\"43\": 111, \"24\": 1, \"18\": 1, \"70\": 1, \"94\": 1, \"5\": 1}, \"82\": {\"82\": 36}, \"1\": {\"1\": 95, \"126\": 1}, \"46\": {\"12\": 2, \"46\": 8, \"70\": 1, \"86\": 1}, \"16\": {\"16\": 106, \"39\": 1, \"43\": 1}, \"74\": {\"74\": 16}, \"32\": {\"32\": 29, \"127\": 1, \"93\": 1, \"30\": 1}, \"62\": {\"62\": 118, \"88\": 1, \"94\": 1}, \"27\": {\"27\": 90, \"43\": 1, \"24\": 1}, \"17\": {\"17\": 16}, \"36\": {\"36\": 130, \"88\": 1, \"39\": 1, \"24\": 2}, \"2\": {\"2\": 23, \"128\": 2, \"70\": 1, \"11\": 2, \"1\": 1, \"13\": 1, \"82\": 1, \"96\": 1}, \"70\": {\"70\": 125, \"49\": 1, \"12\": 2}, \"9\": {\"9\": 32}, \"114\": {\"114\": 130}, \"79\": {\"79\": 12}, \"56\": {\"56\": 11, \"112\": 1}, \"124\": {\"124\": 102}, \"84\": {\"84\": 134}, \"69\": {\"69\": 106, \"34\": 1, \"12\": 1}, \"58\": {\"58\": 10, \"125\": 2}, \"30\": {\"30\": 52}, \"55\": {\"55\": 12}, \"105\": {\"105\": 84}, \"63\": {\"63\": 16}, \"98\": {\"98\": 107, \"57\": 1}, \"116\": {\"116\": 31, \"102\": 1}}, \"Wisig_3\": {\"76\": {\"76\": 16}, \"6\": {\"6\": 24, \"58\": 1, \"75\": 1, \"34\": 3, \"77\": 1, \"91\": 1, \"45\": 1}, \"108\": {\"108\": 104, \"8\": 2}, \"29\": {\"29\": 32}, \"83\": {\"83\": 24}, \"18\": {\"18\": 126, \"84\": 1, \"78\": 1}, \"54\": {\"54\": 16}, \"15\": {\"15\": 104}, \"100\": {\"100\": 16}, \"90\": {\"90\": 133, \"86\": 1, \"44\": 1, \"125\": 1}, \"26\": {\"26\": 130, \"23\": 1, \"5\": 1}, \"115\": {\"115\": 16}, \"94\": {\"94\": 83, \"30\": 1}, \"46\": {\"46\": 16}, \"121\": {\"121\": 32}, \"109\": {\"109\": 125, \"118\": 3}, \"101\": {\"101\": 50, \"0\": 1, \"8\": 1}, \"99\": {\"99\": 36}, \"8\": {\"8\": 126, \"5\": 1, \"27\": 1}, \"102\": {\"102\": 104}, \"122\": {\"113\": 1, \"122\": 56, \"115\": 1, \"128\": 1, \"126\": 1}, \"36\": {\"36\": 109, \"27\": 4, \"24\": 2, \"98\": 1}, \"113\": {\"113\": 119, \"126\": 1}, \"123\": {\"123\": 16}, \"120\": {\"120\": 20}, \"125\": {\"125\": 107, \"124\": 1}, \"89\": {\"89\": 27, \"87\": 1}, \"9\": {\"9\": 32}, \"31\": {\"31\": 20}, \"62\": {\"62\": 112, \"126\": 1, \"110\": 1}, \"49\": {\"49\": 22, \"42\": 1, \"29\": 1}, \"23\": {\"23\": 23, \"52\": 1, \"73\": 1, \"110\": 1, \"64\": 2, \"19\": 1, \"60\": 1, \"21\": 2}, \"55\": {\"55\": 16}, \"128\": {\"128\": 30, \"19\": 1, \"30\": 1}, \"71\": {\"71\": 67, \"96\": 1}, \"51\": {\"51\": 16}, \"7\": {\"7\": 106}, \"117\": {\"117\": 104}, \"28\": {\"28\": 16}, \"127\": {\"127\": 127, \"17\": 1}, \"57\": {\"57\": 20}, \"78\": {\"78\": 12, \"122\": 1, \"84\": 1, \"54\": 1, \"116\": 1}, \"87\": {\"87\": 119, \"27\": 1}, \"40\": {\"40\": 127, \"23\": 1}, \"81\": {\"81\": 32}, \"2\": {\"2\": 26, \"26\": 1, \"39\": 1}, \"58\": {\"58\": 16}, \"68\": {\"68\": 15, \"6\": 1}, \"20\": {\"20\": 15, \"31\": 1}, \"35\": {\"35\": 12}, \"96\": {\"96\": 20}, \"84\": {\"84\": 108}, \"13\": {\"122\": 1, \"87\": 1, \"13\": 12, \"43\": 1, \"81\": 1}, \"64\": {\"64\": 20}, \"112\": {\"112\": 13, \"42\": 1, \"108\": 1, \"94\": 1}, \"103\": {\"103\": 16}, \"65\": {\"65\": 11, \"63\": 1}, \"118\": {\"118\": 100}, \"88\": {\"88\": 107, \"122\": 1, \"39\": 1, \"0\": 1, \"36\": 1, \"106\": 1}, \"85\": {\"85\": 36}, \"5\": {\"5\": 107, \"21\": 1, \"113\": 1, \"88\": 1, \"1\": 2}, \"93\": {\"93\": 137, \"90\": 1}, \"43\": {\"43\": 50, \"39\": 2, \"87\": 1, \"128\": 1, \"13\": 1, \"33\": 1}, \"67\": {\"67\": 15, \"101\": 1}, \"48\": {\"48\": 12, \"7\": 2, \"124\": 1, \"22\": 1}, \"73\": {\"73\": 38, \"78\": 1, \"62\": 1}, \"34\": {\"28\": 1, \"34\": 26, \"99\": 1, \"66\": 1, \"21\": 1, \"9\": 1, \"32\": 1}, \"91\": {\"91\": 22, \"28\": 1, \"21\": 1}, \"105\": {\"105\": 124}, \"10\": {\"10\": 104, \"5\": 1, \"4\": 1}, \"61\": {\"61\": 16}, \"74\": {\"74\": 15, \"82\": 1}, \"4\": {\"4\": 95, \"110\": 1}, \"37\": {\"37\": 16}, \"19\": {\"19\": 32}, \"44\": {\"44\": 72}, \"52\": {\"52\": 16}, \"92\": {\"92\": 32}, \"33\": {\"33\": 128}, \"45\": {\"45\": 16}, \"11\": {\"11\": 127, \"19\": 1}, \"129\": {\"129\": 31, \"110\": 1}, \"116\": {\"116\": 24, \"87\": 2, \"26\": 1, \"13\": 1}, \"75\": {\"75\": 16}, \"41\": {\"41\": 16}, \"21\": {\"21\": 45, \"43\": 1, \"101\": 1, \"3\": 1}, \"69\": {\"69\": 83, \"56\": 1}, \"16\": {\"16\": 107, \"21\": 1}, \"25\": {\"25\": 16}, \"12\": {\"12\": 103, \"88\": 1}, \"72\": {\"72\": 28}, \"0\": {\"0\": 115, \"26\": 1}, \"50\": {\"50\": 16}, \"107\": {\"107\": 140}, \"124\": {\"124\": 124}, \"53\": {\"53\": 18, \"85\": 1, \"127\": 1}, \"66\": {\"66\": 16}, \"47\": {\"47\": 12}, \"24\": {\"24\": 46, \"27\": 1, \"39\": 1}, \"95\": {\"95\": 31, \"23\": 1}, \"98\": {\"98\": 105, \"44\": 1}, \"63\": {\"63\": 16}, \"3\": {\"3\": 114, \"113\": 2}, \"14\": {\"14\": 80}, \"1\": {\"1\": 108}, \"38\": {\"38\": 16}, \"110\": {\"110\": 88, \"68\": 2, \"101\": 1, \"39\": 1}, \"17\": {\"67\": 1, \"17\": 8, \"39\": 1, \"40\": 2, \"23\": 1, \"65\": 2, \"78\": 1}, \"30\": {\"30\": 83, \"93\": 1}, \"56\": {\"56\": 11, \"75\": 1}, \"27\": {\"27\": 85, \"36\": 7, \"5\": 1, \"24\": 1, \"101\": 1, \"117\": 1}, \"104\": {\"104\": 16}, \"97\": {\"97\": 20}, \"42\": {\"42\": 21, \"25\": 1, \"108\": 2, \"112\": 4}, \"39\": {\"39\": 107, \"81\": 1}, \"70\": {\"70\": 71, \"101\": 1}, \"86\": {\"86\": 28}, \"119\": {\"119\": 16}, \"77\": {\"77\": 16}, \"59\": {\"59\": 12}, \"22\": {\"22\": 16}, \"79\": {\"79\": 12}, \"80\": {\"80\": 16}, \"111\": {\"111\": 129, \"77\": 1, \"124\": 1, \"5\": 1}, \"82\": {\"82\": 28}, \"126\": {\"126\": 121, \"39\": 1, \"21\": 1, \"122\": 1}, \"32\": {\"32\": 26, \"124\": 1, \"94\": 1, \"86\": 1, \"103\": 1, \"9\": 1, \"10\": 1}, \"106\": {\"106\": 99, \"39\": 1}, \"60\": {\"60\": 25, \"110\": 3}, \"114\": {\"114\": 106, \"107\": 1, \"39\": 1}}, \"ORACLE.run18\": {\"13\": {\"6\": 81, \"3\": 50, \"0\": 88, \"11\": 60, \"7\": 80, \"10\": 98, \"13\": 91, \"15\": 54, \"1\": 79, \"5\": 95, \"4\": 80, \"8\": 60, \"14\": 94, \"9\": 48, \"12\": 53, \"2\": 89}, \"9\": {\"9\": 520, \"1\": 40, \"6\": 51, \"14\": 64, \"4\": 59, \"10\": 72, \"2\": 35, \"5\": 77, \"7\": 51, \"11\": 22, \"13\": 93, \"0\": 80, \"8\": 12, \"3\": 13, \"15\": 10, \"12\": 1}, \"15\": {\"12\": 111, \"14\": 65, \"15\": 115, \"1\": 89, \"5\": 53, \"11\": 104, \"7\": 51, \"3\": 93, \"13\": 56, \"4\": 70, \"0\": 52, \"10\": 56, \"6\": 102, \"2\": 99, \"8\": 79, \"9\": 5}, \"2\": {\"9\": 8, \"11\": 77, \"2\": 109, \"15\": 90, \"10\": 71, \"14\": 77, \"6\": 80, \"7\": 90, \"0\": 84, \"12\": 65, \"8\": 88, \"13\": 66, \"1\": 74, \"5\": 52, \"3\": 97, \"4\": 72}, \"3\": {\"11\": 71, \"2\": 107, \"12\": 115, \"5\": 68, \"8\": 95, \"13\": 52, \"4\": 68, \"6\": 78, \"3\": 117, \"7\": 80, \"1\": 56, \"0\": 71, \"14\": 77, \"15\": 86, \"10\": 54, \"9\": 5}, \"8\": {\"2\": 86, \"11\": 116, \"4\": 63, \"1\": 73, \"7\": 61, \"15\": 116, \"13\": 46, \"6\": 81, \"5\": 75, \"0\": 52, \"3\": 93, \"12\": 117, \"8\": 91, \"14\": 66, \"9\": 5, \"10\": 59}, \"5\": {\"3\": 46, \"5\": 128, \"2\": 67, \"14\": 105, \"13\": 76, \"0\": 72, \"11\": 75, \"4\": 68, \"12\": 58, \"7\": 84, \"10\": 92, \"1\": 81, \"6\": 85, \"8\": 59, \"15\": 56, \"9\": 48}, \"14\": {\"1\": 96, \"6\": 89, \"9\": 29, \"5\": 84, \"15\": 72, \"10\": 89, \"12\": 67, \"8\": 73, \"4\": 83, \"0\": 79, \"7\": 67, \"13\": 80, \"14\": 89, \"11\": 71, \"2\": 74, \"3\": 58}, \"1\": {\"8\": 76, \"12\": 81, \"11\": 102, \"10\": 68, \"4\": 84, \"0\": 86, \"3\": 60, \"15\": 80, \"1\": 100, \"14\": 81, \"7\": 79, \"13\": 72, \"2\": 65, \"6\": 69, \"5\": 77, \"9\": 20}, \"0\": {\"11\": 73, \"0\": 86, \"9\": 44, \"8\": 69, \"6\": 72, \"2\": 77, \"7\": 97, \"1\": 64, \"4\": 94, \"14\": 90, \"13\": 95, \"15\": 52, \"3\": 64, \"5\": 82, \"10\": 93, \"12\": 48}, \"10\": {\"10\": 95, \"2\": 60, \"7\": 84, \"0\": 79, \"3\": 58, \"14\": 86, \"9\": 52, \"6\": 76, \"15\": 60, \"1\": 97, \"11\": 85, \"13\": 79, \"8\": 57, \"5\": 84, \"4\": 84, \"12\": 64}, \"6\": {\"2\": 74, \"15\": 71, \"3\": 67, \"7\": 76, \"0\": 76, \"4\": 95, \"5\": 81, \"8\": 97, \"14\": 82, \"6\": 78, \"12\": 78, \"11\": 82, \"1\": 76, \"10\": 73, \"13\": 79, \"9\": 15}, \"11\": {\"12\": 78, \"10\": 72, \"5\": 93, \"1\": 87, \"2\": 88, \"15\": 105, \"13\": 50, \"6\": 71, \"8\": 96, \"7\": 67, \"11\": 86, \"4\": 80, \"0\": 68, \"14\": 81, \"3\": 66, \"9\": 12}, \"7\": {\"14\": 78, \"3\": 84, \"8\": 66, \"2\": 86, \"0\": 78, \"6\": 87, \"15\": 83, \"4\": 76, \"1\": 77, \"7\": 88, \"12\": 64, \"9\": 24, \"10\": 73, \"5\": 76, \"13\": 78, \"11\": 82}, \"4\": {\"0\": 78, \"2\": 86, \"7\": 71, \"14\": 86, \"5\": 84, \"12\": 64, \"13\": 81, \"1\": 97, \"4\": 70, \"6\": 92, \"8\": 70, \"3\": 58, \"10\": 81, \"9\": 37, \"15\": 64, \"11\": 81}, \"12\": {\"2\": 78, \"10\": 47, \"11\": 87, \"15\": 120, \"1\": 77, \"5\": 40, \"8\": 119, \"13\": 35, \"0\": 54, \"12\": 152, \"14\": 72, \"4\": 81, \"6\": 68, \"3\": 94, \"7\": 73, \"9\": 3}}, \"ORACLE.run138\": {\"13\": {\"10\": 65, \"14\": 67, \"2\": 119, \"8\": 65, \"3\": 76, \"7\": 40, \"0\": 63, \"15\": 95, \"11\": 65, \"1\": 120, \"5\": 91, \"13\": 119, \"9\": 99, \"6\": 84, \"12\": 27, \"4\": 5}, \"12\": {\"14\": 118, \"9\": 14, \"4\": 271, \"11\": 129, \"0\": 70, \"7\": 77, \"10\": 90, \"12\": 244, \"8\": 49, \"3\": 19, \"15\": 23, \"6\": 17, \"13\": 16, \"5\": 30, \"2\": 19, \"1\": 14}, \"2\": {\"2\": 146, \"9\": 54, \"10\": 88, \"6\": 76, \"0\": 63, \"8\": 64, \"12\": 37, \"15\": 114, \"1\": 103, \"13\": 117, \"11\": 98, \"14\": 84, \"5\": 76, \"7\": 43, \"4\": 10, \"3\": 27}, \"9\": {\"9\": 158, \"5\": 106, \"15\": 91, \"7\": 48, \"2\": 59, \"0\": 64, \"3\": 143, \"13\": 85, \"6\": 129, \"8\": 81, \"1\": 107, \"12\": 16, \"10\": 64, \"14\": 25, \"11\": 19, \"4\": 5}, \"15\": {\"8\": 78, \"6\": 107, \"13\": 116, \"15\": 117, \"9\": 101, \"7\": 47, \"11\": 52, \"0\": 67, \"12\": 24, \"5\": 68, \"1\": 108, \"3\": 56, \"14\": 72, \"2\": 110, \"10\": 68, \"4\": 9}, \"5\": {\"1\": 73, \"9\": 94, \"12\": 36, \"15\": 97, \"11\": 50, \"4\": 35, \"8\": 107, \"14\": 70, \"10\": 80, \"6\": 91, \"0\": 95, \"5\": 95, \"13\": 70, \"7\": 66, \"3\": 89, \"2\": 52}, \"14\": {\"4\": 81, \"10\": 97, \"7\": 76, \"6\": 32, \"9\": 26, \"8\": 83, \"15\": 68, \"2\": 86, \"14\": 134, \"12\": 124, \"11\": 159, \"3\": 25, \"0\": 48, \"5\": 68, \"13\": 53, \"1\": 40}, \"0\": {\"6\": 71, \"13\": 66, \"8\": 86, \"3\": 113, \"1\": 48, \"15\": 52, \"7\": 116, \"12\": 81, \"0\": 86, \"14\": 67, \"5\": 107, \"11\": 53, \"4\": 50, \"2\": 29, \"10\": 90, \"9\": 85}, \"3\": {\"13\": 54, \"3\": 160, \"9\": 163, \"0\": 93, \"7\": 100, \"1\": 57, \"6\": 117, \"10\": 48, \"8\": 95, \"5\": 92, \"14\": 34, \"15\": 69, \"4\": 20, \"2\": 38, \"11\": 28, \"12\": 32}, \"1\": {\"6\": 135, \"13\": 126, \"8\": 62, \"10\": 49, \"1\": 139, \"3\": 48, \"14\": 59, \"9\": 135, \"7\": 32, \"15\": 119, \"2\": 112, \"5\": 94, \"0\": 40, \"12\": 11, \"11\": 37, \"4\": 2}, \"11\": {\"4\": 113, \"15\": 58, \"2\": 76, \"11\": 232, \"8\": 54, \"10\": 98, \"3\": 16, \"14\": 150, \"9\": 14, \"12\": 159, \"13\": 42, \"0\": 41, \"5\": 50, \"7\": 54, \"1\": 31, \"6\": 12}, \"7\": {\"13\": 39, \"0\": 123, \"1\": 29, \"14\": 69, \"6\": 57, \"4\": 73, \"15\": 65, \"5\": 81, \"7\": 109, \"10\": 104, \"9\": 54, \"3\": 88, \"12\": 94, \"8\": 104, \"2\": 40, \"11\": 71}, \"8\": {\"7\": 93, \"2\": 57, \"15\": 83, \"8\": 92, \"5\": 96, \"9\": 92, \"0\": 93, \"10\": 76, \"12\": 58, \"3\": 87, \"11\": 56, \"13\": 68, \"1\": 58, \"14\": 72, \"4\": 25, \"6\": 94}, \"4\": {\"0\": 45, \"4\": 482, \"14\": 76, \"12\": 246, \"10\": 68, \"11\": 115, \"5\": 15, \"7\": 65, \"2\": 10, \"6\": 4, \"8\": 30, \"15\": 10, \"3\": 21, \"13\": 6, \"9\": 6, \"1\": 1}, \"10\": {\"9\": 62, \"2\": 74, \"4\": 65, \"3\": 48, \"7\": 82, \"12\": 98, \"11\": 112, \"14\": 105, \"10\": 107, \"8\": 81, \"0\": 67, \"15\": 72, \"5\": 73, \"1\": 40, \"13\": 49, \"6\": 65}, \"6\": {\"8\": 78, \"3\": 111, \"5\": 118, \"0\": 84, \"9\": 107, \"6\": 143, \"7\": 58, \"13\": 93, \"1\": 113, \"2\": 72, \"15\": 85, \"12\": 18, \"10\": 48, \"4\": 4, \"11\": 27, \"14\": 41}}, \"ORACLE.run126\": {\"10\": {\"4\": 91, \"0\": 101, \"13\": 67, \"1\": 89, \"8\": 83, \"14\": 95, \"6\": 89, \"5\": 51, \"10\": 77, \"7\": 79, \"15\": 69, \"12\": 70, \"2\": 78, \"9\": 60, \"3\": 83, \"11\": 18}, \"12\": {\"10\": 71, \"11\": 108, \"0\": 70, \"1\": 45, \"3\": 57, \"15\": 83, \"4\": 51, \"14\": 62, \"5\": 96, \"13\": 84, \"12\": 105, \"7\": 68, \"6\": 84, \"8\": 67, \"9\": 64, \"2\": 85}, \"1\": {\"10\": 91, \"15\": 75, \"1\": 97, \"14\": 109, \"3\": 84, \"12\": 48, \"8\": 82, \"2\": 71, \"6\": 66, \"7\": 105, \"0\": 96, \"9\": 64, \"5\": 54, \"4\": 100, \"13\": 50, \"11\": 8}, \"0\": {\"15\": 83, \"0\": 90, \"9\": 64, \"7\": 81, \"5\": 60, \"10\": 108, \"12\": 54, \"2\": 55, \"14\": 108, \"1\": 105, \"4\": 106, \"13\": 61, \"8\": 77, \"3\": 68, \"6\": 61, \"11\": 19}, \"15\": {\"8\": 78, \"13\": 80, \"14\": 71, \"3\": 80, \"7\": 70, \"4\": 69, \"6\": 71, \"5\": 77, \"0\": 91, \"12\": 76, \"2\": 91, \"1\": 67, \"15\": 74, \"9\": 82, \"10\": 82, \"11\": 41}, \"13\": {\"15\": 87, \"5\": 103, \"14\": 49, \"8\": 87, \"13\": 108, \"11\": 80, \"9\": 104, \"12\": 95, \"0\": 55, \"6\": 87, \"10\": 59, \"4\": 49, \"2\": 79, \"7\": 53, \"3\": 60, \"1\": 45}, \"8\": {\"5\": 75, \"8\": 81, \"9\": 63, \"10\": 90, \"1\": 82, \"15\": 77, \"3\": 84, \"4\": 78, \"7\": 71, \"6\": 79, \"13\": 65, \"0\": 94, \"12\": 60, \"14\": 95, \"2\": 77, \"11\": 29}, \"3\": {\"15\": 71, \"4\": 89, \"8\": 77, \"6\": 68, \"10\": 87, \"1\": 85, \"14\": 81, \"13\": 59, \"7\": 62, \"3\": 99, \"0\": 86, \"9\": 87, \"5\": 78, \"12\": 55, \"2\": 86, \"11\": 30}, \"11\": {\"10\": 41, \"11\": 265, \"8\": 48, \"4\": 31, \"12\": 149, \"15\": 67, \"2\": 52, \"3\": 46, \"6\": 64, \"7\": 30, \"5\": 97, \"14\": 27, \"9\": 83, \"13\": 131, \"0\": 36, \"1\": 33}, \"4\": {\"15\": 87, \"10\": 70, \"14\": 76, \"7\": 80, \"11\": 26, \"0\": 107, \"9\": 66, \"4\": 93, \"1\": 120, \"12\": 47, \"5\": 61, \"3\": 79, \"2\": 79, \"8\": 94, \"13\": 53, \"6\": 62}, \"6\": {\"1\": 60, \"6\": 95, \"10\": 87, \"2\": 74, \"7\": 68, \"0\": 64, \"13\": 90, \"12\": 87, \"14\": 71, \"4\": 80, \"5\": 93, \"9\": 87, \"11\": 43, \"8\": 73, \"15\": 73, \"3\": 55}, \"7\": {\"13\": 44, \"5\": 75, \"8\": 73, \"4\": 86, \"7\": 76, \"1\": 101, \"10\": 88, \"14\": 93, \"12\": 54, \"0\": 94, \"6\": 86, \"3\": 86, \"2\": 83, \"11\": 17, \"9\": 71, \"15\": 73}, \"14\": {\"5\": 49, \"10\": 99, \"7\": 95, \"12\": 49, \"14\": 119, \"13\": 53, \"2\": 66, \"1\": 98, \"4\": 92, \"15\": 70, \"0\": 124, \"9\": 62, \"6\": 67, \"8\": 83, \"3\": 59, \"11\": 15}, \"2\": {\"15\": 85, \"14\": 79, \"7\": 89, \"5\": 94, \"4\": 75, \"1\": 66, \"13\": 72, \"11\": 29, \"6\": 78, \"0\": 85, \"3\": 85, \"8\": 80, \"12\": 45, \"9\": 84, \"10\": 77, \"2\": 77}, \"5\": {\"15\": 70, \"10\": 66, \"11\": 65, \"5\": 93, \"2\": 84, \"1\": 68, \"14\": 53, \"12\": 79, \"3\": 79, \"9\": 100, \"8\": 81, \"13\": 94, \"6\": 83, \"0\": 59, \"4\": 58, \"7\": 68}, \"9\": {\"10\": 69, \"4\": 66, \"12\": 72, \"6\": 81, \"7\": 68, \"0\": 78, \"8\": 67, \"15\": 87, \"9\": 82, \"2\": 83, \"13\": 105, \"5\": 98, \"1\": 75, \"11\": 42, \"3\": 74, \"14\": 53}}, \"ORACLE.run120\": {\"5\": {\"2\": 78, \"15\": 85, \"11\": 75, \"5\": 80, \"10\": 61, \"7\": 76, \"9\": 73, \"12\": 80, \"4\": 73, \"0\": 100, \"8\": 71, \"1\": 74, \"6\": 65, \"3\": 70, \"14\": 57, \"13\": 82}, \"15\": {\"4\": 61, \"15\": 76, \"10\": 63, \"0\": 100, \"7\": 69, \"6\": 54, \"9\": 78, \"11\": 70, \"12\": 94, \"13\": 101, \"3\": 71, \"8\": 59, \"1\": 90, \"5\": 77, \"14\": 61, \"2\": 76}, \"9\": {\"12\": 84, \"4\": 61, \"9\": 89, \"3\": 62, \"11\": 86, \"2\": 93, \"6\": 68, \"7\": 79, \"0\": 71, \"14\": 54, \"1\": 92, \"5\": 63, \"8\": 77, \"13\": 82, \"10\": 61, \"15\": 78}, \"7\": {\"1\": 66, \"11\": 75, \"0\": 80, \"9\": 78, \"2\": 76, \"4\": 69, \"5\": 77, \"8\": 85, \"3\": 73, \"13\": 66, \"14\": 80, \"12\": 83, \"7\": 70, \"15\": 67, \"10\": 87, \"6\": 68}, \"3\": {\"1\": 77, \"5\": 90, \"14\": 74, \"3\": 76, \"6\": 81, \"15\": 78, \"10\": 66, \"12\": 66, \"9\": 78, \"2\": 83, \"13\": 68, \"7\": 83, \"4\": 78, \"0\": 58, \"11\": 68, \"8\": 76}, \"8\": {\"9\": 74, \"6\": 87, \"2\": 83, \"5\": 81, \"15\": 49, \"8\": 101, \"11\": 69, \"13\": 45, \"12\": 77, \"7\": 73, \"10\": 96, \"1\": 54, \"0\": 68, \"14\": 99, \"4\": 91, \"3\": 53}, \"4\": {\"12\": 73, \"4\": 91, \"11\": 57, \"7\": 73, \"0\": 69, \"8\": 82, \"6\": 98, \"13\": 52, \"3\": 67, \"1\": 60, \"14\": 96, \"9\": 85, \"2\": 71, \"10\": 89, \"5\": 61, \"15\": 76}, \"6\": {\"3\": 88, \"10\": 109, \"14\": 88, \"4\": 84, \"0\": 64, \"8\": 93, \"5\": 65, \"2\": 62, \"6\": 83, \"1\": 64, \"9\": 75, \"15\": 52, \"11\": 70, \"13\": 54, \"7\": 92, \"12\": 57}, \"2\": {\"6\": 70, \"14\": 68, \"3\": 83, \"9\": 68, \"5\": 66, \"4\": 85, \"1\": 75, \"2\": 86, \"12\": 80, \"7\": 71, \"0\": 76, \"11\": 84, \"10\": 63, \"15\": 66, \"13\": 91, \"8\": 68}, \"12\": {\"10\": 62, \"12\": 72, \"11\": 71, \"6\": 78, \"2\": 83, \"15\": 90, \"8\": 81, \"1\": 98, \"3\": 60, \"0\": 95, \"5\": 47, \"9\": 82, \"7\": 72, \"4\": 72, \"14\": 74, \"13\": 63}, \"0\": {\"6\": 65, \"13\": 87, \"15\": 73, \"11\": 77, \"0\": 79, \"12\": 96, \"1\": 84, \"5\": 79, \"10\": 67, \"4\": 65, \"3\": 78, \"7\": 69, \"9\": 85, \"14\": 62, \"2\": 79, \"8\": 55}, \"13\": {\"3\": 89, \"9\": 79, \"0\": 76, \"5\": 82, \"13\": 110, \"8\": 53, \"11\": 103, \"7\": 85, \"6\": 56, \"2\": 82, \"1\": 85, \"10\": 32, \"12\": 79, \"15\": 93, \"14\": 45, \"4\": 51}, \"10\": {\"6\": 97, \"13\": 46, \"10\": 111, \"9\": 61, \"2\": 63, \"11\": 59, \"7\": 76, \"3\": 87, \"14\": 112, \"1\": 69, \"12\": 60, \"8\": 108, \"15\": 43, \"5\": 58, \"4\": 95, \"0\": 55}, \"11\": {\"0\": 72, \"3\": 80, \"1\": 78, \"13\": 94, \"9\": 84, \"2\": 94, \"15\": 72, \"6\": 64, \"11\": 133, \"5\": 76, \"4\": 56, \"7\": 80, \"12\": 71, \"10\": 41, \"8\": 63, \"14\": 42}, \"14\": {\"5\": 71, \"9\": 59, \"1\": 56, \"14\": 111, \"4\": 114, \"0\": 58, \"8\": 104, \"15\": 57, \"2\": 61, \"10\": 112, \"6\": 84, \"11\": 48, \"7\": 70, \"3\": 87, \"13\": 38, \"12\": 70}, \"1\": {\"3\": 78, \"4\": 56, \"9\": 77, \"13\": 79, \"0\": 83, \"2\": 81, \"5\": 91, \"14\": 80, \"12\": 83, \"11\": 73, \"1\": 84, \"6\": 56, \"7\": 71, \"10\": 51, \"8\": 70, \"15\": 87}}, \"ORACLE.run150\": {\"1\": {\"7\": 83, \"0\": 57, \"6\": 95, \"2\": 44, \"13\": 91, \"4\": 102, \"10\": 45, \"11\": 104, \"9\": 84, \"15\": 99, \"12\": 63, \"5\": 104, \"8\": 24, \"1\": 92, \"14\": 80, \"3\": 33}, \"2\": {\"2\": 174, \"10\": 104, \"8\": 106, \"0\": 123, \"13\": 53, \"5\": 39, \"3\": 86, \"15\": 31, \"12\": 92, \"9\": 56, \"6\": 39, \"14\": 109, \"11\": 48, \"1\": 49, \"7\": 58, \"4\": 33}, \"8\": {\"12\": 46, \"8\": 195, \"7\": 65, \"10\": 123, \"3\": 183, \"4\": 45, \"2\": 115, \"0\": 109, \"13\": 72, \"1\": 50, \"11\": 18, \"9\": 20, \"6\": 36, \"14\": 39, \"5\": 56, \"15\": 28}, \"7\": {\"15\": 89, \"4\": 83, \"8\": 48, \"6\": 94, \"5\": 109, \"0\": 68, \"10\": 71, \"11\": 63, \"1\": 72, \"7\": 119, \"3\": 61, \"2\": 50, \"13\": 105, \"14\": 51, \"12\": 51, \"9\": 66}, \"14\": {\"2\": 86, \"9\": 92, \"6\": 76, \"14\": 118, \"11\": 74, \"4\": 54, \"15\": 59, \"1\": 80, \"7\": 57, \"13\": 70, \"10\": 52, \"8\": 50, \"5\": 81, \"12\": 156, \"0\": 71, \"3\": 24}, \"6\": {\"2\": 41, \"5\": 106, \"6\": 94, \"8\": 40, \"9\": 78, \"13\": 95, \"4\": 91, \"11\": 89, \"14\": 69, \"15\": 105, \"1\": 76, \"7\": 87, \"10\": 72, \"0\": 53, \"12\": 55, \"3\": 49}, \"3\": {\"8\": 193, \"0\": 116, \"14\": 37, \"12\": 13, \"7\": 97, \"3\": 260, \"6\": 35, \"15\": 23, \"11\": 18, \"5\": 69, \"10\": 116, \"13\": 59, \"2\": 65, \"9\": 17, \"4\": 36, \"1\": 46}, \"4\": {\"15\": 107, \"6\": 90, \"11\": 104, \"9\": 79, \"13\": 108, \"7\": 95, \"14\": 61, \"1\": 99, \"12\": 53, \"4\": 118, \"8\": 38, \"5\": 105, \"0\": 34, \"2\": 33, \"10\": 45, \"3\": 31}, \"12\": {\"9\": 118, \"0\": 73, \"3\": 25, \"7\": 53, \"14\": 121, \"10\": 53, \"5\": 66, \"12\": 159, \"2\": 106, \"6\": 69, \"11\": 86, \"1\": 70, \"8\": 39, \"4\": 58, \"13\": 46, \"15\": 58}, \"15\": {\"5\": 99, \"15\": 135, \"11\": 113, \"10\": 34, \"6\": 105, \"2\": 24, \"1\": 109, \"9\": 94, \"7\": 93, \"3\": 26, \"4\": 113, \"14\": 62, \"12\": 54, \"13\": 95, \"0\": 24, \"8\": 20}, \"11\": {\"14\": 91, \"4\": 122, \"9\": 119, \"11\": 110, \"1\": 102, \"15\": 80, \"6\": 86, \"0\": 30, \"12\": 114, \"5\": 103, \"3\": 14, \"13\": 74, \"7\": 70, \"10\": 29, \"8\": 20, \"2\": 36}, \"0\": {\"0\": 134, \"13\": 76, \"12\": 73, \"6\": 50, \"10\": 123, \"8\": 115, \"2\": 119, \"5\": 49, \"4\": 34, \"3\": 102, \"15\": 43, \"7\": 70, \"1\": 57, \"14\": 79, \"9\": 35, \"11\": 41}, \"9\": {\"13\": 75, \"0\": 33, \"14\": 106, \"1\": 104, \"6\": 83, \"12\": 102, \"5\": 77, \"11\": 131, \"2\": 51, \"7\": 58, \"8\": 22, \"15\": 95, \"3\": 14, \"9\": 130, \"4\": 80, \"10\": 39}, \"10\": {\"12\": 53, \"4\": 54, \"13\": 88, \"6\": 67, \"10\": 108, \"2\": 107, \"7\": 73, \"0\": 100, \"15\": 35, \"5\": 76, \"11\": 47, \"3\": 117, \"8\": 118, \"14\": 60, \"1\": 62, \"9\": 35}, \"5\": {\"15\": 88, \"12\": 48, \"9\": 71, \"6\": 102, \"14\": 54, \"10\": 63, \"1\": 93, \"4\": 118, \"11\": 74, \"13\": 105, \"2\": 34, \"7\": 104, \"0\": 45, \"8\": 40, \"5\": 109, \"3\": 52}, \"13\": {\"14\": 67, \"13\": 117, \"11\": 90, \"1\": 84, \"5\": 111, \"12\": 36, \"9\": 62, \"2\": 31, \"15\": 86, \"6\": 98, \"8\": 30, \"10\": 67, \"0\": 53, \"3\": 53, \"7\": 108, \"4\": 107}}, \"ORACLE.run132\": {\"2\": {\"7\": 108, \"6\": 28, \"4\": 96, \"12\": 70, \"9\": 106, \"14\": 110, \"8\": 79, \"5\": 73, \"3\": 61, \"15\": 25, \"0\": 87, \"2\": 135, \"1\": 10, \"10\": 25, \"11\": 98, \"13\": 89}, \"6\": {\"10\": 185, \"12\": 124, \"14\": 33, \"4\": 15, \"6\": 395, \"1\": 252, \"7\": 14, \"9\": 104, \"2\": 39, \"15\": 1, \"13\": 6, \"11\": 12, \"5\": 5, \"0\": 12, \"8\": 3}, \"5\": {\"0\": 93, \"6\": 4, \"15\": 62, \"8\": 108, \"2\": 95, \"3\": 95, \"7\": 105, \"4\": 107, \"5\": 115, \"14\": 93, \"12\": 41, \"13\": 120, \"9\": 62, \"11\": 90, \"10\": 10}, \"12\": {\"6\": 107, \"4\": 65, \"12\": 190, \"9\": 169, \"7\": 50, \"13\": 45, \"2\": 61, \"1\": 65, \"14\": 43, \"5\": 48, \"10\": 162, \"3\": 22, \"8\": 50, \"0\": 72, \"11\": 34, \"15\": 17}, \"13\": {\"9\": 57, \"13\": 104, \"11\": 103, \"0\": 106, \"15\": 80, \"2\": 63, \"14\": 89, \"8\": 116, \"3\": 120, \"5\": 104, \"4\": 106, \"10\": 11, \"7\": 98, \"12\": 37, \"6\": 5, \"1\": 1}, \"9\": {\"13\": 58, \"6\": 74, \"9\": 172, \"0\": 92, \"1\": 38, \"12\": 149, \"7\": 74, \"14\": 80, \"4\": 82, \"2\": 114, \"15\": 14, \"11\": 52, \"10\": 81, \"5\": 58, \"8\": 38, \"3\": 24}, \"11\": {\"7\": 143, \"6\": 6, \"12\": 25, \"11\": 116, \"4\": 109, \"3\": 88, \"2\": 98, \"8\": 87, \"5\": 112, \"15\": 43, \"0\": 99, \"13\": 94, \"9\": 51, \"14\": 120, \"10\": 7, \"1\": 2}, \"1\": {\"10\": 259, \"1\": 456, \"6\": 261, \"5\": 3, \"2\": 8, \"7\": 8, \"12\": 116, \"9\": 48, \"8\": 4, \"11\": 7, \"0\": 8, \"15\": 6, \"14\": 6, \"3\": 4, \"13\": 2, \"4\": 4}, \"3\": {\"15\": 136, \"3\": 147, \"11\": 87, \"8\": 142, \"7\": 87, \"5\": 105, \"0\": 98, \"4\": 83, \"2\": 64, \"9\": 24, \"14\": 69, \"12\": 20, \"13\": 134, \"10\": 3, \"1\": 1}, \"7\": {\"3\": 71, \"8\": 95, \"2\": 112, \"4\": 99, \"5\": 119, \"14\": 109, \"9\": 74, \"7\": 112, \"12\": 46, \"11\": 115, \"10\": 14, \"15\": 22, \"13\": 105, \"0\": 99, \"6\": 5, \"1\": 3}, \"14\": {\"8\": 89, \"14\": 134, \"1\": 3, \"13\": 100, \"7\": 118, \"0\": 124, \"11\": 102, \"2\": 119, \"9\": 64, \"5\": 84, \"3\": 79, \"10\": 9, \"12\": 43, \"15\": 38, \"4\": 85, \"6\": 9}, \"8\": {\"2\": 81, \"8\": 123, \"13\": 119, \"0\": 92, \"7\": 83, \"15\": 116, \"11\": 92, \"14\": 82, \"12\": 28, \"5\": 120, \"4\": 86, \"3\": 114, \"9\": 51, \"10\": 8, \"1\": 5}, \"4\": {\"5\": 105, \"0\": 107, \"8\": 96, \"2\": 98, \"4\": 89, \"3\": 78, \"14\": 110, \"13\": 109, \"7\": 102, \"11\": 91, \"12\": 69, \"9\": 79, \"10\": 14, \"6\": 12, \"15\": 36, \"1\": 5}, \"0\": {\"0\": 98, \"15\": 47, \"13\": 93, \"3\": 81, \"9\": 63, \"8\": 107, \"7\": 104, \"5\": 117, \"14\": 100, \"4\": 96, \"2\": 111, \"10\": 16, \"12\": 48, \"11\": 108, \"1\": 5, \"6\": 6}, \"10\": {\"12\": 192, \"0\": 30, \"10\": 297, \"6\": 138, \"1\": 244, \"9\": 107, \"15\": 11, \"4\": 32, \"11\": 14, \"7\": 14, \"2\": 31, \"8\": 22, \"14\": 20, \"3\": 11, \"13\": 24, \"5\": 13}, \"15\": {\"3\": 169, \"2\": 14, \"0\": 67, \"14\": 48, \"11\": 39, \"15\": 503, \"8\": 120, \"13\": 86, \"5\": 62, \"7\": 30, \"4\": 36, \"10\": 8, \"1\": 1, \"9\": 7, \"12\": 10}}, \"ORACLE.run144\": {\"13\": {\"6\": 150, \"14\": 53, \"7\": 112, \"15\": 11, \"13\": 156, \"9\": 111, \"5\": 29, \"0\": 11, \"2\": 92, \"11\": 126, \"3\": 50, \"10\": 108, \"1\": 67, \"4\": 54, \"12\": 66, \"8\": 4}, \"4\": {\"9\": 87, \"7\": 75, \"11\": 30, \"2\": 57, \"10\": 42, \"14\": 124, \"4\": 133, \"5\": 130, \"6\": 40, \"8\": 58, \"0\": 77, \"1\": 64, \"3\": 72, \"15\": 101, \"13\": 57, \"12\": 53}, \"6\": {\"13\": 154, \"9\": 107, \"7\": 111, \"6\": 179, \"11\": 177, \"3\": 27, \"12\": 41, \"4\": 47, \"2\": 134, \"1\": 67, \"10\": 102, \"15\": 8, \"0\": 5, \"14\": 28, \"8\": 3, \"5\": 10}, \"0\": {\"8\": 227, \"15\": 204, \"5\": 171, \"2\": 10, \"3\": 57, \"14\": 116, \"0\": 223, \"7\": 14, \"12\": 26, \"9\": 19, \"4\": 74, \"10\": 8, \"1\": 32, \"13\": 13, \"11\": 3, \"6\": 3}, \"10\": {\"7\": 119, \"6\": 94, \"12\": 107, \"4\": 41, \"13\": 91, \"10\": 143, \"2\": 119, \"9\": 94, \"11\": 103, \"1\": 122, \"3\": 94, \"14\": 39, \"5\": 14, \"15\": 15, \"0\": 4, \"8\": 1}, \"7\": {\"14\": 42, \"3\": 76, \"7\": 127, \"11\": 101, \"0\": 8, \"9\": 105, \"6\": 121, \"13\": 114, \"4\": 69, \"12\": 92, \"10\": 92, \"1\": 85, \"5\": 30, \"2\": 115, \"15\": 18, \"8\": 5}, \"14\": {\"4\": 114, \"6\": 43, \"5\": 126, \"0\": 105, \"3\": 87, \"12\": 70, \"10\": 41, \"8\": 77, \"13\": 55, \"14\": 125, \"7\": 47, \"15\": 128, \"1\": 63, \"2\": 36, \"11\": 29, \"9\": 54}, \"15\": {\"3\": 63, \"15\": 194, \"4\": 106, \"5\": 166, \"14\": 122, \"0\": 197, \"12\": 31, \"8\": 158, \"1\": 34, \"11\": 7, \"6\": 18, \"13\": 20, \"9\": 29, \"2\": 13, \"7\": 23, \"10\": 19}, \"5\": {\"4\": 145, \"14\": 143, \"12\": 33, \"5\": 185, \"9\": 39, \"15\": 144, \"13\": 27, \"0\": 131, \"8\": 131, \"10\": 30, \"7\": 34, \"11\": 19, \"1\": 29, \"3\": 64, \"2\": 25, \"6\": 21}, \"2\": {\"9\": 113, \"11\": 137, \"6\": 134, \"1\": 96, \"13\": 118, \"2\": 118, \"4\": 41, \"5\": 23, \"12\": 99, \"3\": 71, \"14\": 48, \"7\": 97, \"10\": 91, \"15\": 7, \"0\": 4, \"8\": 3}, \"9\": {\"9\": 105, \"14\": 63, \"6\": 105, \"5\": 27, \"3\": 91, \"13\": 117, \"15\": 30, \"10\": 93, \"4\": 53, \"7\": 113, \"1\": 96, \"2\": 108, \"11\": 82, \"12\": 92, \"8\": 8, \"0\": 17}, \"12\": {\"10\": 105, \"12\": 132, \"7\": 106, \"9\": 95, \"3\": 121, \"4\": 72, \"15\": 33, \"2\": 99, \"5\": 25, \"14\": 49, \"1\": 128, \"13\": 92, \"6\": 62, \"11\": 55, \"0\": 16, \"8\": 10}, \"8\": {\"13\": 10, \"14\": 84, \"15\": 208, \"5\": 179, \"0\": 234, \"8\": 291, \"1\": 23, \"3\": 41, \"12\": 20, \"4\": 63, \"11\": 8, \"10\": 10, \"6\": 6, \"7\": 4, \"2\": 4, \"9\": 15}, \"3\": {\"9\": 87, \"3\": 136, \"5\": 43, \"1\": 107, \"7\": 78, \"11\": 32, \"6\": 47, \"13\": 65, \"14\": 95, \"12\": 121, \"15\": 70, \"0\": 50, \"4\": 88, \"2\": 71, \"10\": 85, \"8\": 25}, \"1\": {\"1\": 131, \"3\": 142, \"10\": 100, \"5\": 33, \"15\": 32, \"12\": 110, \"13\": 93, \"7\": 84, \"2\": 94, \"0\": 18, \"6\": 58, \"14\": 61, \"9\": 92, \"11\": 60, \"4\": 75, \"8\": 17}, \"11\": {\"12\": 62, \"11\": 227, \"6\": 191, \"13\": 148, \"1\": 58, \"10\": 108, \"4\": 20, \"9\": 76, \"7\": 119, \"2\": 110, \"0\": 5, \"3\": 29, \"14\": 25, \"15\": 7, \"5\": 15}}, \"ORACLE.run114\": {\"1\": {\"4\": 81, \"2\": 72, \"14\": 63, \"5\": 111, \"8\": 82, \"1\": 99, \"7\": 80, \"3\": 82, \"10\": 79, \"9\": 58, \"12\": 54, \"15\": 77, \"11\": 62, \"0\": 72, \"6\": 67, \"13\": 61}, \"15\": {\"7\": 121, \"1\": 66, \"4\": 102, \"13\": 94, \"15\": 145, \"10\": 68, \"3\": 73, \"2\": 73, \"14\": 73, \"5\": 87, \"8\": 41, \"0\": 67, \"6\": 101, \"11\": 45, \"9\": 27, \"12\": 17}, \"10\": {\"8\": 49, \"9\": 72, \"7\": 66, \"11\": 65, \"0\": 85, \"10\": 99, \"5\": 82, \"6\": 75, \"14\": 80, \"3\": 87, \"1\": 76, \"15\": 67, \"4\": 77, \"13\": 84, \"2\": 87, \"12\": 49}, \"2\": {\"7\": 76, \"13\": 97, \"5\": 94, \"14\": 111, \"2\": 107, \"1\": 76, \"15\": 80, \"11\": 84, \"0\": 65, \"4\": 57, \"12\": 19, \"6\": 114, \"9\": 34, \"8\": 34, \"3\": 66, \"10\": 86}, \"9\": {\"11\": 102, \"4\": 71, \"5\": 69, \"10\": 65, \"7\": 39, \"12\": 170, \"8\": 122, \"0\": 99, \"6\": 37, \"3\": 79, \"1\": 58, \"15\": 27, \"9\": 147, \"13\": 30, \"2\": 55, \"14\": 30}, \"5\": {\"14\": 69, \"13\": 79, \"10\": 83, \"4\": 90, \"1\": 68, \"6\": 73, \"15\": 94, \"0\": 82, \"11\": 65, \"7\": 102, \"3\": 87, \"8\": 53, \"5\": 99, \"9\": 53, \"2\": 69, \"12\": 34}, \"7\": {\"4\": 100, \"6\": 101, \"10\": 68, \"9\": 47, \"14\": 55, \"0\": 67, \"8\": 59, \"5\": 115, \"3\": 75, \"11\": 59, \"15\": 91, \"13\": 75, \"1\": 89, \"7\": 110, \"2\": 67, \"12\": 22}, \"13\": {\"0\": 69, \"5\": 74, \"7\": 74, \"15\": 79, \"3\": 88, \"11\": 64, \"13\": 136, \"1\": 65, \"6\": 121, \"2\": 104, \"10\": 85, \"14\": 114, \"9\": 30, \"4\": 69, \"8\": 19, \"12\": 9}, \"8\": {\"12\": 144, \"9\": 144, \"11\": 77, \"8\": 146, \"15\": 54, \"1\": 87, \"0\": 69, \"2\": 35, \"13\": 18, \"10\": 57, \"5\": 81, \"4\": 69, \"14\": 38, \"7\": 83, \"6\": 31, \"3\": 67}, \"6\": {\"11\": 59, \"15\": 71, \"13\": 135, \"0\": 78, \"2\": 95, \"10\": 92, \"6\": 130, \"14\": 105, \"1\": 61, \"7\": 77, \"9\": 25, \"3\": 71, \"5\": 67, \"4\": 88, \"8\": 24, \"12\": 22}, \"3\": {\"6\": 91, \"2\": 81, \"7\": 92, \"5\": 69, \"10\": 85, \"15\": 79, \"12\": 41, \"11\": 77, \"14\": 90, \"8\": 52, \"1\": 93, \"9\": 58, \"4\": 63, \"13\": 75, \"3\": 85, \"0\": 69}, \"12\": {\"9\": 194, \"8\": 135, \"12\": 237, \"7\": 36, \"4\": 52, \"13\": 17, \"11\": 115, \"10\": 68, \"1\": 66, \"3\": 63, \"5\": 49, \"14\": 25, \"2\": 32, \"0\": 68, \"6\": 19, \"15\": 24}, \"0\": {\"3\": 78, \"11\": 87, \"1\": 82, \"4\": 87, \"7\": 67, \"0\": 92, \"2\": 69, \"12\": 69, \"5\": 71, \"15\": 65, \"10\": 83, \"8\": 68, \"14\": 74, \"9\": 70, \"13\": 66, \"6\": 72}, \"4\": {\"5\": 98, \"13\": 90, \"9\": 44, \"1\": 74, \"3\": 80, \"2\": 76, \"4\": 92, \"10\": 90, \"0\": 71, \"14\": 81, \"15\": 84, \"8\": 45, \"6\": 78, \"7\": 94, \"11\": 57, \"12\": 46}, \"14\": {\"14\": 135, \"0\": 75, \"10\": 89, \"7\": 65, \"13\": 110, \"1\": 47, \"2\": 128, \"8\": 28, \"5\": 65, \"15\": 70, \"11\": 79, \"12\": 25, \"6\": 119, \"3\": 76, \"4\": 69, \"9\": 20}, \"11\": {\"2\": 68, \"13\": 73, \"11\": 105, \"15\": 46, \"9\": 114, \"0\": 84, \"4\": 75, \"8\": 71, \"1\": 72, \"7\": 58, \"6\": 55, \"5\": 72, \"3\": 96, \"14\": 64, \"12\": 70, \"10\": 77}}}, \"per_domain_accuracy\": {\"Wisig_2\": {\"accuracy\": 0.9556197478991597, \"source?\": true}, \"Wisig_4\": {\"accuracy\": 0.9520318930041153, \"source?\": true}, \"Wisig_1\": {\"accuracy\": 0.9738031914893617, \"source?\": true}, \"Wisig_3\": {\"accuracy\": 0.9748072687224669, \"source?\": true}, \"ORACLE.run18\": {\"accuracy\": 0.10494791666666667, \"source?\": false}, \"ORACLE.run138\": {\"accuracy\": 0.13348958333333333, \"source?\": false}, \"ORACLE.run126\": {\"accuracy\": 0.08494791666666666, \"source?\": false}, \"ORACLE.run120\": {\"accuracy\": 0.075625, \"source?\": false}, \"ORACLE.run150\": {\"accuracy\": 0.113125, \"source?\": false}, \"ORACLE.run132\": {\"accuracy\": 0.1659375, \"source?\": false}, \"ORACLE.run144\": {\"accuracy\": 0.13567708333333334, \"source?\": false}, \"ORACLE.run114\": {\"accuracy\": 0.10229166666666667, \"source?\": false}}}, \"history\": {\"epoch_indices\": [1, 2, 3, 4, 5], \"train_label_loss\": [0.19530539920385107, 0.12431798383597419, 0.09957795905674431, 0.08263074743769327, 0.06786530341749963], \"source_val_label_loss\": [0.15481343865394592, 0.12233039736747742, 0.11093281209468842, 0.11540678888559341, 0.11276721209287643], \"target_val_label_loss\": [2.7071142196655273, 2.727212905883789, 2.7492830753326416, 2.8284215927124023, 2.8707451820373535], \"source_val_acc_label\": [0.9638454400848356, 0.9710034464475079, 0.9738202545068929, 0.974483032873807, 0.9751789501590669], \"target_val_acc_label\": [0.11450520833333333, 0.10834635416666667, 0.10430989583333333, 0.10014973958333333, 0.09297526041666666]}, \"dataset_metrics\": {\"source\": {\"train\": {\"n_unique_x\": 189012, \"n_unique_y\": 130, \"n_batch/episode\": 6843}, \"val\": {\"n_unique_x\": 40019, \"n_unique_y\": 130, \"n_batch/episode\": 943}, \"test\": {\"n_unique_x\": 40738, \"n_unique_y\": 130, \"n_batch/episode\": 960}}, \"target\": {\"train\": {\"n_unique_x\": 896000, \"n_unique_y\": 16, \"n_batch/episode\": 33600}, \"val\": {\"n_unique_x\": 192000, \"n_unique_y\": 16, \"n_batch/episode\": 4800}, \"test\": {\"n_unique_x\": 192000, \"n_unique_y\": 16, \"n_batch/episode\": 4800}}}}'"
      ]
     },
     "execution_count": 29,
     "metadata": {},
     "output_type": "execute_result"
    }
   ],
   "source": [
    "json.dumps(experiment)"
   ]
  }
 ],
 "metadata": {
  "celltoolbar": "Tags",
  "kernelspec": {
   "display_name": "Python 3 (ipykernel)",
   "language": "python",
   "name": "python3"
  },
  "language_info": {
   "codemirror_mode": {
    "name": "ipython",
    "version": 3
   },
   "file_extension": ".py",
   "mimetype": "text/x-python",
   "name": "python",
   "nbconvert_exporter": "python",
   "pygments_lexer": "ipython3",
   "version": "3.8.12"
  },
  "papermill": {
   "default_parameters": {},
   "duration": 2050.200522,
   "end_time": "2022-03-23T22:58:54.652845",
   "environment_variables": {},
   "exception": null,
   "input_path": "/root/csc500-main/csc500-notebooks/templates/tl_ptn_template.ipynb",
   "output_path": "trial.ipynb",
   "parameters": {
    "parameters": {
     "BEST_MODEL_PATH": "./best_model.pth",
     "NUM_LOGS_PER_EPOCH": 10,
     "criteria_for_best": "target_accuracy",
     "dataset_seed": 154325,
     "datasets": [
      {
       "domain_prefix": "Wisig_",
       "domains": [
        1,
        2,
        3,
        4
       ],
       "episode_transforms": [],
       "labels": [
        "1-10",
        "1-12",
        "1-14",
        "1-16",
        "1-18",
        "1-19",
        "1-8",
        "10-11",
        "10-17",
        "10-4",
        "10-7",
        "11-1",
        "11-10",
        "11-19",
        "11-20",
        "11-4",
        "11-7",
        "12-19",
        "12-20",
        "12-7",
        "13-14",
        "13-18",
        "13-19",
        "13-20",
        "13-3",
        "13-7",
        "14-10",
        "14-11",
        "14-12",
        "14-13",
        "14-14",
        "14-19",
        "14-20",
        "14-7",
        "14-8",
        "14-9",
        "15-1",
        "15-19",
        "15-6",
        "16-1",
        "16-16",
        "16-19",
        "16-20",
        "17-10",
        "17-11",
        "18-1",
        "18-10",
        "18-11",
        "18-12",
        "18-13",
        "18-14",
        "18-15",
        "18-16",
        "18-17",
        "18-19",
        "18-2",
        "18-20",
        "18-4",
        "18-5",
        "18-7",
        "18-8",
        "18-9",
        "19-1",
        "19-10",
        "19-11",
        "19-12",
        "19-13",
        "19-14",
        "19-15",
        "19-19",
        "19-2",
        "19-20",
        "19-3",
        "19-4",
        "19-6",
        "19-7",
        "19-8",
        "19-9",
        "2-1",
        "2-13",
        "2-15",
        "2-3",
        "2-4",
        "2-5",
        "2-6",
        "2-7",
        "2-8",
        "20-1",
        "20-12",
        "20-14",
        "20-15",
        "20-16",
        "20-18",
        "20-19",
        "20-20",
        "20-3",
        "20-4",
        "20-5",
        "20-7",
        "20-8",
        "3-1",
        "3-13",
        "3-18",
        "3-2",
        "3-8",
        "4-1",
        "4-10",
        "4-11",
        "5-1",
        "5-5",
        "6-1",
        "6-15",
        "6-6",
        "7-10",
        "7-11",
        "7-12",
        "7-13",
        "7-14",
        "7-7",
        "7-8",
        "7-9",
        "8-1",
        "8-13",
        "8-14",
        "8-18",
        "8-20",
        "8-3",
        "8-8",
        "9-1",
        "9-7"
       ],
       "num_examples_per_domain_per_label": -1,
       "pickle_path": "/root/csc500-main/datasets/wisig.node3-19.stratified_ds.2022A.pkl",
       "source_or_target_dataset": "source",
       "x_transforms": [
        "unit_mag"
       ]
      },
      {
       "domain_prefix": "ORACLE.run1",
       "domains": [
        32,
        38,
        8,
        44,
        14,
        50,
        20,
        26
       ],
       "episode_transforms": [],
       "labels": [
        "3123D52",
        "3123D65",
        "3123D79",
        "3123D80",
        "3123D54",
        "3123D70",
        "3123D7B",
        "3123D89",
        "3123D58",
        "3123D76",
        "3123D7D",
        "3123EFE",
        "3123D64",
        "3123D78",
        "3123D7E",
        "3124E4A"
       ],
       "num_examples_per_domain_per_label": 10000,
       "pickle_path": "/root/csc500-main/datasets/oracle.Run1_10kExamples_stratified_ds.2022A.pkl",
       "source_or_target_dataset": "target",
       "x_transforms": [
        "unit_mag"
       ]
      }
     ],
     "device": "cuda",
     "experiment_name": "tl_1v2:wisig-oracle.run1",
     "lr": 0.0001,
     "n_epoch": 50,
     "n_query": 2,
     "n_shot": 3,
     "n_way": 16,
     "patience": 3,
     "seed": 154325,
     "test_k_factor": 2,
     "torch_default_dtype": "torch.float32",
     "train_k_factor": 3,
     "val_k_factor": 2,
     "x_net": [
      {
       "class": "nnReshape",
       "kargs": {
        "shape": [
         -1,
         1,
         2,
         256
        ]
       }
      },
      {
       "class": "Conv2d",
       "kargs": {
        "bias": false,
        "in_channels": 1,
        "kernel_size": [
         1,
         7
        ],
        "out_channels": 256,
        "padding": [
         0,
         3
        ]
       }
      },
      {
       "class": "ReLU",
       "kargs": {
        "inplace": true
       }
      },
      {
       "class": "BatchNorm2d",
       "kargs": {
        "num_features": 256
       }
      },
      {
       "class": "Conv2d",
       "kargs": {
        "bias": true,
        "in_channels": 256,
        "kernel_size": [
         2,
         7
        ],
        "out_channels": 80,
        "padding": [
         0,
         3
        ]
       }
      },
      {
       "class": "ReLU",
       "kargs": {
        "inplace": true
       }
      },
      {
       "class": "BatchNorm2d",
       "kargs": {
        "num_features": 80
       }
      },
      {
       "class": "Flatten",
       "kargs": {}
      },
      {
       "class": "Linear",
       "kargs": {
        "in_features": 20480,
        "out_features": 256
       }
      },
      {
       "class": "ReLU",
       "kargs": {
        "inplace": true
       }
      },
      {
       "class": "BatchNorm1d",
       "kargs": {
        "num_features": 256
       }
      },
      {
       "class": "Linear",
       "kargs": {
        "in_features": 256,
        "out_features": 256
       }
      }
     ]
    }
   },
   "start_time": "2022-03-23T22:24:44.452323",
   "version": "2.3.4"
  }
 },
 "nbformat": 4,
 "nbformat_minor": 5
}