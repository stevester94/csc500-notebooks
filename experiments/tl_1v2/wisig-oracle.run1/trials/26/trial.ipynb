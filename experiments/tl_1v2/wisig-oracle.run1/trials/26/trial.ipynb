{
 "cells": [
  {
   "cell_type": "markdown",
   "id": "9fea5f46",
   "metadata": {
    "papermill": {
     "duration": 0.028588,
     "end_time": "2022-03-24T07:14:33.846897",
     "exception": false,
     "start_time": "2022-03-24T07:14:33.818309",
     "status": "completed"
    },
    "tags": []
   },
   "source": [
    "# Transfer Learning Template"
   ]
  },
  {
   "cell_type": "code",
   "execution_count": 1,
   "id": "0902182a",
   "metadata": {
    "execution": {
     "iopub.execute_input": "2022-03-24T07:14:33.909072Z",
     "iopub.status.busy": "2022-03-24T07:14:33.908205Z",
     "iopub.status.idle": "2022-03-24T07:14:36.487407Z",
     "shell.execute_reply": "2022-03-24T07:14:36.486517Z"
    },
    "papermill": {
     "duration": 2.618771,
     "end_time": "2022-03-24T07:14:36.487629",
     "exception": false,
     "start_time": "2022-03-24T07:14:33.868858",
     "status": "completed"
    },
    "tags": []
   },
   "outputs": [],
   "source": [
    "%load_ext autoreload\n",
    "%autoreload 2\n",
    "%matplotlib inline\n",
    "\n",
    "    \n",
    "import os, json, sys, time, random\n",
    "import numpy as np\n",
    "import torch\n",
    "from torch.optim import Adam\n",
    "from  easydict import EasyDict\n",
    "import matplotlib.pyplot as plt\n",
    "\n",
    "from steves_models.steves_ptn import Steves_Prototypical_Network\n",
    "\n",
    "from steves_utils.lazy_iterable_wrapper import Lazy_Iterable_Wrapper\n",
    "from steves_utils.iterable_aggregator import Iterable_Aggregator\n",
    "from steves_utils.ptn_train_eval_test_jig import  PTN_Train_Eval_Test_Jig\n",
    "from steves_utils.torch_sequential_builder import build_sequential\n",
    "from steves_utils.torch_utils import get_dataset_metrics, ptn_confusion_by_domain_over_dataloader\n",
    "from steves_utils.utils_v2 import (per_domain_accuracy_from_confusion, get_datasets_base_path)\n",
    "from steves_utils.PTN.utils import independent_accuracy_assesment\n",
    "\n",
    "from torch.utils.data import DataLoader\n",
    "\n",
    "from steves_utils.stratified_dataset.episodic_accessor import Episodic_Accessor_Factory\n",
    "\n",
    "from steves_utils.ptn_do_report import (\n",
    "    get_loss_curve,\n",
    "    get_results_table,\n",
    "    get_parameters_table,\n",
    "    get_domain_accuracies,\n",
    ")\n",
    "\n",
    "from steves_utils.transforms import get_chained_transform"
   ]
  },
  {
   "cell_type": "markdown",
   "id": "41c840b4",
   "metadata": {
    "papermill": {
     "duration": 0.018958,
     "end_time": "2022-03-24T07:14:36.531184",
     "exception": false,
     "start_time": "2022-03-24T07:14:36.512226",
     "status": "completed"
    },
    "tags": []
   },
   "source": [
    "# Allowed Parameters\n",
    "These are allowed parameters, not defaults\n",
    "Each of these values need to be present in the injected parameters (the notebook will raise an exception if they are not present)\n",
    "\n",
    "Papermill uses the cell tag \"parameters\" to inject the real parameters below this cell.\n",
    "Enable tags to see what I mean"
   ]
  },
  {
   "cell_type": "code",
   "execution_count": 2,
   "id": "fd44eb83",
   "metadata": {
    "execution": {
     "iopub.execute_input": "2022-03-24T07:14:36.574986Z",
     "iopub.status.busy": "2022-03-24T07:14:36.574598Z",
     "iopub.status.idle": "2022-03-24T07:14:36.597341Z",
     "shell.execute_reply": "2022-03-24T07:14:36.596522Z"
    },
    "papermill": {
     "duration": 0.047195,
     "end_time": "2022-03-24T07:14:36.597502",
     "exception": false,
     "start_time": "2022-03-24T07:14:36.550307",
     "status": "completed"
    },
    "tags": []
   },
   "outputs": [],
   "source": [
    "required_parameters = {\n",
    "    \"experiment_name\",\n",
    "    \"lr\",\n",
    "    \"device\",\n",
    "    \"seed\",\n",
    "    \"dataset_seed\",\n",
    "    \"n_shot\",\n",
    "    \"n_query\",\n",
    "    \"n_way\",\n",
    "    \"train_k_factor\",\n",
    "    \"val_k_factor\",\n",
    "    \"test_k_factor\",\n",
    "    \"n_epoch\",\n",
    "    \"patience\",\n",
    "    \"criteria_for_best\",\n",
    "    \"x_net\",\n",
    "    \"datasets\",\n",
    "    \"torch_default_dtype\",\n",
    "    \"NUM_LOGS_PER_EPOCH\",\n",
    "    \"BEST_MODEL_PATH\",\n",
    "    \"x_shape\",\n",
    "}"
   ]
  },
  {
   "cell_type": "code",
   "execution_count": 3,
   "id": "fa3f0049",
   "metadata": {
    "execution": {
     "iopub.execute_input": "2022-03-24T07:14:36.654293Z",
     "iopub.status.busy": "2022-03-24T07:14:36.653360Z",
     "iopub.status.idle": "2022-03-24T07:14:36.675362Z",
     "shell.execute_reply": "2022-03-24T07:14:36.674550Z"
    },
    "papermill": {
     "duration": 0.054595,
     "end_time": "2022-03-24T07:14:36.675518",
     "exception": false,
     "start_time": "2022-03-24T07:14:36.620923",
     "status": "completed"
    },
    "tags": [
     "parameters"
    ]
   },
   "outputs": [],
   "source": [
    "from steves_utils.CORES.utils import (\n",
    "    ALL_NODES,\n",
    "    ALL_NODES_MINIMUM_1000_EXAMPLES,\n",
    "    ALL_DAYS\n",
    ")\n",
    "\n",
    "from steves_utils.ORACLE.utils_v2 import (\n",
    "    ALL_DISTANCES_FEET_NARROWED,\n",
    "    ALL_RUNS,\n",
    "    ALL_SERIAL_NUMBERS,\n",
    ")\n",
    "\n",
    "standalone_parameters = {}\n",
    "standalone_parameters[\"experiment_name\"] = \"STANDALONE PTN\"\n",
    "standalone_parameters[\"lr\"] = 0.001\n",
    "standalone_parameters[\"device\"] = \"cuda\"\n",
    "\n",
    "standalone_parameters[\"seed\"] = 1337\n",
    "standalone_parameters[\"dataset_seed\"] = 1337\n",
    "\n",
    "standalone_parameters[\"n_way\"] = 8\n",
    "standalone_parameters[\"n_shot\"] = 3\n",
    "standalone_parameters[\"n_query\"]  = 2\n",
    "standalone_parameters[\"train_k_factor\"] = 1\n",
    "standalone_parameters[\"val_k_factor\"] = 2\n",
    "standalone_parameters[\"test_k_factor\"] = 2\n",
    "\n",
    "\n",
    "standalone_parameters[\"n_epoch\"] = 50\n",
    "\n",
    "standalone_parameters[\"patience\"] = 10\n",
    "standalone_parameters[\"criteria_for_best\"] = \"source_loss\"\n",
    "\n",
    "standalone_parameters[\"datasets\"] = [\n",
    "    {\n",
    "        \"labels\": ALL_SERIAL_NUMBERS,\n",
    "        \"domains\": ALL_DISTANCES_FEET_NARROWED,\n",
    "        \"num_examples_per_domain_per_label\": 100,\n",
    "        \"pickle_path\": os.path.join(get_datasets_base_path(), \"oracle.Run1_framed_2000Examples_stratified_ds.2022A.pkl\"),\n",
    "        \"source_or_target_dataset\": \"source\",\n",
    "        \"x_transforms\": [\"unit_mag\", \"minus_two\"],\n",
    "        \"episode_transforms\": [],\n",
    "        \"domain_prefix\": \"ORACLE_\"\n",
    "    },\n",
    "    {\n",
    "        \"labels\": ALL_NODES,\n",
    "        \"domains\": ALL_DAYS,\n",
    "        \"num_examples_per_domain_per_label\": 100,\n",
    "        \"pickle_path\": os.path.join(get_datasets_base_path(), \"cores.stratified_ds.2022A.pkl\"),\n",
    "        \"source_or_target_dataset\": \"target\",\n",
    "        \"x_transforms\": [\"unit_power\", \"times_zero\"],\n",
    "        \"episode_transforms\": [],\n",
    "        \"domain_prefix\": \"CORES_\"\n",
    "    }   \n",
    "]\n",
    "\n",
    "standalone_parameters[\"torch_default_dtype\"] = \"torch.float32\" \n",
    "\n",
    "\n",
    "\n",
    "standalone_parameters[\"x_net\"] =     [\n",
    "    {\"class\": \"nnReshape\", \"kargs\": {\"shape\":[-1, 1, 2, 256]}},\n",
    "    {\"class\": \"Conv2d\", \"kargs\": { \"in_channels\":1, \"out_channels\":256, \"kernel_size\":(1,7), \"bias\":False, \"padding\":(0,3), },},\n",
    "    {\"class\": \"ReLU\", \"kargs\": {\"inplace\": True}},\n",
    "    {\"class\": \"BatchNorm2d\", \"kargs\": {\"num_features\":256}},\n",
    "\n",
    "    {\"class\": \"Conv2d\", \"kargs\": { \"in_channels\":256, \"out_channels\":80, \"kernel_size\":(2,7), \"bias\":True, \"padding\":(0,3), },},\n",
    "    {\"class\": \"ReLU\", \"kargs\": {\"inplace\": True}},\n",
    "    {\"class\": \"BatchNorm2d\", \"kargs\": {\"num_features\":80}},\n",
    "    {\"class\": \"Flatten\", \"kargs\": {}},\n",
    "\n",
    "    {\"class\": \"Linear\", \"kargs\": {\"in_features\": 80*256, \"out_features\": 256}}, # 80 units per IQ pair\n",
    "    {\"class\": \"ReLU\", \"kargs\": {\"inplace\": True}},\n",
    "    {\"class\": \"BatchNorm1d\", \"kargs\": {\"num_features\":256}},\n",
    "\n",
    "    {\"class\": \"Linear\", \"kargs\": {\"in_features\": 256, \"out_features\": 256}},\n",
    "]\n",
    "\n",
    "# Parameters relevant to results\n",
    "# These parameters will basically never need to change\n",
    "standalone_parameters[\"NUM_LOGS_PER_EPOCH\"] = 10\n",
    "standalone_parameters[\"BEST_MODEL_PATH\"] = \"./best_model.pth\"\n",
    "\n",
    "\n",
    "\n",
    "\n"
   ]
  },
  {
   "cell_type": "code",
   "execution_count": 4,
   "id": "da13f349",
   "metadata": {
    "execution": {
     "iopub.execute_input": "2022-03-24T07:14:36.741722Z",
     "iopub.status.busy": "2022-03-24T07:14:36.737437Z",
     "iopub.status.idle": "2022-03-24T07:14:36.763312Z",
     "shell.execute_reply": "2022-03-24T07:14:36.762494Z"
    },
    "papermill": {
     "duration": 0.059088,
     "end_time": "2022-03-24T07:14:36.763471",
     "exception": false,
     "start_time": "2022-03-24T07:14:36.704383",
     "status": "completed"
    },
    "tags": [
     "injected-parameters"
    ]
   },
   "outputs": [],
   "source": [
    "# Parameters\n",
    "parameters = {\n",
    "    \"experiment_name\": \"tl_1v2:wisig-oracle.run1\",\n",
    "    \"device\": \"cuda\",\n",
    "    \"lr\": 0.0001,\n",
    "    \"n_shot\": 3,\n",
    "    \"n_query\": 2,\n",
    "    \"train_k_factor\": 3,\n",
    "    \"val_k_factor\": 2,\n",
    "    \"test_k_factor\": 2,\n",
    "    \"torch_default_dtype\": \"torch.float32\",\n",
    "    \"n_epoch\": 50,\n",
    "    \"patience\": 3,\n",
    "    \"criteria_for_best\": \"target_accuracy\",\n",
    "    \"x_net\": [\n",
    "        {\"class\": \"nnReshape\", \"kargs\": {\"shape\": [-1, 1, 2, 256]}},\n",
    "        {\n",
    "            \"class\": \"Conv2d\",\n",
    "            \"kargs\": {\n",
    "                \"in_channels\": 1,\n",
    "                \"out_channels\": 256,\n",
    "                \"kernel_size\": [1, 7],\n",
    "                \"bias\": False,\n",
    "                \"padding\": [0, 3],\n",
    "            },\n",
    "        },\n",
    "        {\"class\": \"ReLU\", \"kargs\": {\"inplace\": True}},\n",
    "        {\"class\": \"BatchNorm2d\", \"kargs\": {\"num_features\": 256}},\n",
    "        {\n",
    "            \"class\": \"Conv2d\",\n",
    "            \"kargs\": {\n",
    "                \"in_channels\": 256,\n",
    "                \"out_channels\": 80,\n",
    "                \"kernel_size\": [2, 7],\n",
    "                \"bias\": True,\n",
    "                \"padding\": [0, 3],\n",
    "            },\n",
    "        },\n",
    "        {\"class\": \"ReLU\", \"kargs\": {\"inplace\": True}},\n",
    "        {\"class\": \"BatchNorm2d\", \"kargs\": {\"num_features\": 80}},\n",
    "        {\"class\": \"Flatten\", \"kargs\": {}},\n",
    "        {\"class\": \"Linear\", \"kargs\": {\"in_features\": 20480, \"out_features\": 256}},\n",
    "        {\"class\": \"ReLU\", \"kargs\": {\"inplace\": True}},\n",
    "        {\"class\": \"BatchNorm1d\", \"kargs\": {\"num_features\": 256}},\n",
    "        {\"class\": \"Linear\", \"kargs\": {\"in_features\": 256, \"out_features\": 256}},\n",
    "    ],\n",
    "    \"NUM_LOGS_PER_EPOCH\": 10,\n",
    "    \"BEST_MODEL_PATH\": \"./best_model.pth\",\n",
    "    \"n_way\": 16,\n",
    "    \"datasets\": [\n",
    "        {\n",
    "            \"labels\": [\n",
    "                \"1-10\",\n",
    "                \"1-12\",\n",
    "                \"1-14\",\n",
    "                \"1-16\",\n",
    "                \"1-18\",\n",
    "                \"1-19\",\n",
    "                \"1-8\",\n",
    "                \"10-11\",\n",
    "                \"10-17\",\n",
    "                \"10-4\",\n",
    "                \"10-7\",\n",
    "                \"11-1\",\n",
    "                \"11-10\",\n",
    "                \"11-19\",\n",
    "                \"11-20\",\n",
    "                \"11-4\",\n",
    "                \"11-7\",\n",
    "                \"12-19\",\n",
    "                \"12-20\",\n",
    "                \"12-7\",\n",
    "                \"13-14\",\n",
    "                \"13-18\",\n",
    "                \"13-19\",\n",
    "                \"13-20\",\n",
    "                \"13-3\",\n",
    "                \"13-7\",\n",
    "                \"14-10\",\n",
    "                \"14-11\",\n",
    "                \"14-12\",\n",
    "                \"14-13\",\n",
    "                \"14-14\",\n",
    "                \"14-19\",\n",
    "                \"14-20\",\n",
    "                \"14-7\",\n",
    "                \"14-8\",\n",
    "                \"14-9\",\n",
    "                \"15-1\",\n",
    "                \"15-19\",\n",
    "                \"15-6\",\n",
    "                \"16-1\",\n",
    "                \"16-16\",\n",
    "                \"16-19\",\n",
    "                \"16-20\",\n",
    "                \"17-10\",\n",
    "                \"17-11\",\n",
    "                \"18-1\",\n",
    "                \"18-10\",\n",
    "                \"18-11\",\n",
    "                \"18-12\",\n",
    "                \"18-13\",\n",
    "                \"18-14\",\n",
    "                \"18-15\",\n",
    "                \"18-16\",\n",
    "                \"18-17\",\n",
    "                \"18-19\",\n",
    "                \"18-2\",\n",
    "                \"18-20\",\n",
    "                \"18-4\",\n",
    "                \"18-5\",\n",
    "                \"18-7\",\n",
    "                \"18-8\",\n",
    "                \"18-9\",\n",
    "                \"19-1\",\n",
    "                \"19-10\",\n",
    "                \"19-11\",\n",
    "                \"19-12\",\n",
    "                \"19-13\",\n",
    "                \"19-14\",\n",
    "                \"19-15\",\n",
    "                \"19-19\",\n",
    "                \"19-2\",\n",
    "                \"19-20\",\n",
    "                \"19-3\",\n",
    "                \"19-4\",\n",
    "                \"19-6\",\n",
    "                \"19-7\",\n",
    "                \"19-8\",\n",
    "                \"19-9\",\n",
    "                \"2-1\",\n",
    "                \"2-13\",\n",
    "                \"2-15\",\n",
    "                \"2-3\",\n",
    "                \"2-4\",\n",
    "                \"2-5\",\n",
    "                \"2-6\",\n",
    "                \"2-7\",\n",
    "                \"2-8\",\n",
    "                \"20-1\",\n",
    "                \"20-12\",\n",
    "                \"20-14\",\n",
    "                \"20-15\",\n",
    "                \"20-16\",\n",
    "                \"20-18\",\n",
    "                \"20-19\",\n",
    "                \"20-20\",\n",
    "                \"20-3\",\n",
    "                \"20-4\",\n",
    "                \"20-5\",\n",
    "                \"20-7\",\n",
    "                \"20-8\",\n",
    "                \"3-1\",\n",
    "                \"3-13\",\n",
    "                \"3-18\",\n",
    "                \"3-2\",\n",
    "                \"3-8\",\n",
    "                \"4-1\",\n",
    "                \"4-10\",\n",
    "                \"4-11\",\n",
    "                \"5-1\",\n",
    "                \"5-5\",\n",
    "                \"6-1\",\n",
    "                \"6-15\",\n",
    "                \"6-6\",\n",
    "                \"7-10\",\n",
    "                \"7-11\",\n",
    "                \"7-12\",\n",
    "                \"7-13\",\n",
    "                \"7-14\",\n",
    "                \"7-7\",\n",
    "                \"7-8\",\n",
    "                \"7-9\",\n",
    "                \"8-1\",\n",
    "                \"8-13\",\n",
    "                \"8-14\",\n",
    "                \"8-18\",\n",
    "                \"8-20\",\n",
    "                \"8-3\",\n",
    "                \"8-8\",\n",
    "                \"9-1\",\n",
    "                \"9-7\",\n",
    "            ],\n",
    "            \"domains\": [1, 2, 3, 4],\n",
    "            \"num_examples_per_domain_per_label\": -1,\n",
    "            \"pickle_path\": \"/root/csc500-main/datasets/wisig.node3-19.stratified_ds.2022A.pkl\",\n",
    "            \"source_or_target_dataset\": \"source\",\n",
    "            \"x_transforms\": [],\n",
    "            \"episode_transforms\": [],\n",
    "            \"domain_prefix\": \"Wisig_\",\n",
    "        },\n",
    "        {\n",
    "            \"labels\": [\n",
    "                \"3123D52\",\n",
    "                \"3123D65\",\n",
    "                \"3123D79\",\n",
    "                \"3123D80\",\n",
    "                \"3123D54\",\n",
    "                \"3123D70\",\n",
    "                \"3123D7B\",\n",
    "                \"3123D89\",\n",
    "                \"3123D58\",\n",
    "                \"3123D76\",\n",
    "                \"3123D7D\",\n",
    "                \"3123EFE\",\n",
    "                \"3123D64\",\n",
    "                \"3123D78\",\n",
    "                \"3123D7E\",\n",
    "                \"3124E4A\",\n",
    "            ],\n",
    "            \"domains\": [32, 38, 8, 44, 14, 50, 20, 26],\n",
    "            \"num_examples_per_domain_per_label\": 10000,\n",
    "            \"pickle_path\": \"/root/csc500-main/datasets/oracle.Run1_10kExamples_stratified_ds.2022A.pkl\",\n",
    "            \"source_or_target_dataset\": \"target\",\n",
    "            \"x_transforms\": [],\n",
    "            \"episode_transforms\": [],\n",
    "            \"domain_prefix\": \"ORACLE.run1\",\n",
    "        },\n",
    "    ],\n",
    "    \"dataset_seed\": 500,\n",
    "    \"seed\": 500,\n",
    "}\n"
   ]
  },
  {
   "cell_type": "code",
   "execution_count": 5,
   "id": "8fa1cc33",
   "metadata": {
    "execution": {
     "iopub.execute_input": "2022-03-24T07:14:36.816031Z",
     "iopub.status.busy": "2022-03-24T07:14:36.815018Z",
     "iopub.status.idle": "2022-03-24T07:14:36.836883Z",
     "shell.execute_reply": "2022-03-24T07:14:36.836064Z"
    },
    "papermill": {
     "duration": 0.046744,
     "end_time": "2022-03-24T07:14:36.837038",
     "exception": false,
     "start_time": "2022-03-24T07:14:36.790294",
     "status": "completed"
    },
    "tags": []
   },
   "outputs": [],
   "source": [
    "# Set this to True if you want to run this template directly\n",
    "STANDALONE = False\n",
    "if STANDALONE:\n",
    "    print(\"parameters not injected, running with standalone_parameters\")\n",
    "    parameters = standalone_parameters\n",
    "\n",
    "if not 'parameters' in locals() and not 'parameters' in globals():\n",
    "    raise Exception(\"Parameter injection failed\")\n",
    "\n",
    "#Use an easy dict for all the parameters\n",
    "p = EasyDict(parameters)\n",
    "\n",
    "if \"x_shape\" not in p:\n",
    "    p.x_shape = [2,256] # Default to this if we dont supply x_shape\n",
    "\n",
    "\n",
    "supplied_keys = set(p.keys())\n",
    "\n",
    "if  supplied_keys != required_parameters:\n",
    "    print(\"Parameters are incorrect\")\n",
    "    if len(supplied_keys - required_parameters)>0: print(\"Shouldn't have:\", str(supplied_keys - required_parameters))\n",
    "    if len(required_parameters - supplied_keys)>0: print(\"Need to have:\", str(required_parameters - supplied_keys))\n",
    "    raise RuntimeError(\"Parameters are incorrect\")"
   ]
  },
  {
   "cell_type": "code",
   "execution_count": 6,
   "id": "3a028d58",
   "metadata": {
    "execution": {
     "iopub.execute_input": "2022-03-24T07:14:36.886651Z",
     "iopub.status.busy": "2022-03-24T07:14:36.886247Z",
     "iopub.status.idle": "2022-03-24T07:14:36.909717Z",
     "shell.execute_reply": "2022-03-24T07:14:36.908901Z"
    },
    "papermill": {
     "duration": 0.046959,
     "end_time": "2022-03-24T07:14:36.909874",
     "exception": false,
     "start_time": "2022-03-24T07:14:36.862915",
     "status": "completed"
    },
    "tags": []
   },
   "outputs": [],
   "source": [
    "###################################\n",
    "# Set the RNGs and make it all deterministic\n",
    "###################################\n",
    "np.random.seed(p.seed)\n",
    "random.seed(p.seed)\n",
    "torch.manual_seed(p.seed)\n",
    "\n",
    "torch.use_deterministic_algorithms(True) "
   ]
  },
  {
   "cell_type": "code",
   "execution_count": 7,
   "id": "b691acf6",
   "metadata": {
    "execution": {
     "iopub.execute_input": "2022-03-24T07:14:36.960097Z",
     "iopub.status.busy": "2022-03-24T07:14:36.959726Z",
     "iopub.status.idle": "2022-03-24T07:14:36.982365Z",
     "shell.execute_reply": "2022-03-24T07:14:36.981556Z"
    },
    "papermill": {
     "duration": 0.046978,
     "end_time": "2022-03-24T07:14:36.982527",
     "exception": false,
     "start_time": "2022-03-24T07:14:36.935549",
     "status": "completed"
    },
    "tags": []
   },
   "outputs": [],
   "source": [
    "###########################################\n",
    "# The stratified datasets honor this\n",
    "###########################################\n",
    "torch.set_default_dtype(eval(p.torch_default_dtype))"
   ]
  },
  {
   "cell_type": "code",
   "execution_count": 8,
   "id": "b5fba671",
   "metadata": {
    "execution": {
     "iopub.execute_input": "2022-03-24T07:14:37.035099Z",
     "iopub.status.busy": "2022-03-24T07:14:37.030603Z",
     "iopub.status.idle": "2022-03-24T07:14:37.085681Z",
     "shell.execute_reply": "2022-03-24T07:14:37.084972Z"
    },
    "papermill": {
     "duration": 0.078751,
     "end_time": "2022-03-24T07:14:37.085834",
     "exception": false,
     "start_time": "2022-03-24T07:14:37.007083",
     "status": "completed"
    },
    "tags": []
   },
   "outputs": [],
   "source": [
    "###################################\n",
    "# Build the network(s)\n",
    "# Note: It's critical to do this AFTER setting the RNG\n",
    "###################################\n",
    "x_net = build_sequential(p.x_net)"
   ]
  },
  {
   "cell_type": "code",
   "execution_count": 9,
   "id": "5d7e61cc",
   "metadata": {
    "execution": {
     "iopub.execute_input": "2022-03-24T07:14:37.136310Z",
     "iopub.status.busy": "2022-03-24T07:14:37.135947Z",
     "iopub.status.idle": "2022-03-24T07:14:37.162221Z",
     "shell.execute_reply": "2022-03-24T07:14:37.161515Z"
    },
    "papermill": {
     "duration": 0.049192,
     "end_time": "2022-03-24T07:14:37.162373",
     "exception": false,
     "start_time": "2022-03-24T07:14:37.113181",
     "status": "completed"
    },
    "tags": []
   },
   "outputs": [],
   "source": [
    "start_time_secs = time.time()"
   ]
  },
  {
   "cell_type": "code",
   "execution_count": 10,
   "id": "c6b67dfd",
   "metadata": {
    "execution": {
     "iopub.execute_input": "2022-03-24T07:14:37.210837Z",
     "iopub.status.busy": "2022-03-24T07:14:37.209174Z",
     "iopub.status.idle": "2022-03-24T07:14:37.229256Z",
     "shell.execute_reply": "2022-03-24T07:14:37.228433Z"
    },
    "papermill": {
     "duration": 0.042411,
     "end_time": "2022-03-24T07:14:37.229408",
     "exception": false,
     "start_time": "2022-03-24T07:14:37.186997",
     "status": "completed"
    },
    "tags": []
   },
   "outputs": [],
   "source": [
    "p.domains_source = []\n",
    "p.domains_target = []\n",
    "\n",
    "\n",
    "train_original_source = []\n",
    "val_original_source   = []\n",
    "test_original_source  = []\n",
    "\n",
    "train_original_target = []\n",
    "val_original_target   = []\n",
    "test_original_target  = []"
   ]
  },
  {
   "cell_type": "code",
   "execution_count": 11,
   "id": "e3d9c3d3",
   "metadata": {
    "execution": {
     "iopub.execute_input": "2022-03-24T07:14:37.277865Z",
     "iopub.status.busy": "2022-03-24T07:14:37.277012Z",
     "iopub.status.idle": "2022-03-24T07:14:37.304581Z",
     "shell.execute_reply": "2022-03-24T07:14:37.297426Z"
    },
    "papermill": {
     "duration": 0.049903,
     "end_time": "2022-03-24T07:14:37.304737",
     "exception": false,
     "start_time": "2022-03-24T07:14:37.254834",
     "status": "completed"
    },
    "tags": []
   },
   "outputs": [],
   "source": [
    "# global_x_transform_func = lambda x: normalize(x.to(torch.get_default_dtype()), \"unit_power\") # unit_power, unit_mag\n",
    "# global_x_transform_func = lambda x: normalize(x, \"unit_power\") # unit_power, unit_mag"
   ]
  },
  {
   "cell_type": "code",
   "execution_count": 12,
   "id": "acb78fd2",
   "metadata": {
    "execution": {
     "iopub.execute_input": "2022-03-24T07:14:37.361653Z",
     "iopub.status.busy": "2022-03-24T07:14:37.360464Z",
     "iopub.status.idle": "2022-03-24T07:14:37.378933Z",
     "shell.execute_reply": "2022-03-24T07:14:37.378128Z"
    },
    "papermill": {
     "duration": 0.050873,
     "end_time": "2022-03-24T07:14:37.379084",
     "exception": false,
     "start_time": "2022-03-24T07:14:37.328211",
     "status": "completed"
    },
    "tags": []
   },
   "outputs": [],
   "source": [
    "def add_dataset(\n",
    "    labels,\n",
    "    domains,\n",
    "    pickle_path,\n",
    "    x_transforms,\n",
    "    episode_transforms,\n",
    "    domain_prefix,\n",
    "    num_examples_per_domain_per_label,\n",
    "    source_or_target_dataset:str,\n",
    "    iterator_seed=p.seed,\n",
    "    dataset_seed=p.dataset_seed,\n",
    "    n_shot=p.n_shot,\n",
    "    n_way=p.n_way,\n",
    "    n_query=p.n_query,\n",
    "    train_val_test_k_factors=(p.train_k_factor,p.val_k_factor,p.test_k_factor),\n",
    "):\n",
    "   \n",
    "    if x_transforms == []: x_transform = None\n",
    "    else: x_transform = get_chained_transform(x_transforms)\n",
    "    \n",
    "    if episode_transforms == []: episode_transform = None\n",
    "    else: raise Exception(\"episode_transforms not implemented\")\n",
    "    \n",
    "    episode_transform = lambda tup, _prefix=domain_prefix: (_prefix + str(tup[0]), tup[1])\n",
    "\n",
    "\n",
    "    eaf = Episodic_Accessor_Factory(\n",
    "        labels=labels,\n",
    "        domains=domains,\n",
    "        num_examples_per_domain_per_label=num_examples_per_domain_per_label,\n",
    "        iterator_seed=iterator_seed,\n",
    "        dataset_seed=dataset_seed,\n",
    "        n_shot=n_shot,\n",
    "        n_way=n_way,\n",
    "        n_query=n_query,\n",
    "        train_val_test_k_factors=train_val_test_k_factors,\n",
    "        pickle_path=pickle_path,\n",
    "        x_transform_func=x_transform,\n",
    "    )\n",
    "\n",
    "    train, val, test = eaf.get_train(), eaf.get_val(), eaf.get_test()\n",
    "    train = Lazy_Iterable_Wrapper(train, episode_transform)\n",
    "    val = Lazy_Iterable_Wrapper(val, episode_transform)\n",
    "    test = Lazy_Iterable_Wrapper(test, episode_transform)\n",
    "\n",
    "    if source_or_target_dataset==\"source\":\n",
    "        train_original_source.append(train)\n",
    "        val_original_source.append(val)\n",
    "        test_original_source.append(test)\n",
    "\n",
    "        p.domains_source.extend(\n",
    "            [domain_prefix + str(u) for u in domains]\n",
    "        )\n",
    "    elif source_or_target_dataset==\"target\":\n",
    "        train_original_target.append(train)\n",
    "        val_original_target.append(val)\n",
    "        test_original_target.append(test)\n",
    "        p.domains_target.extend(\n",
    "            [domain_prefix + str(u) for u in domains]\n",
    "        )\n",
    "    else:\n",
    "        raise Exception(f\"invalid source_or_target_dataset: {source_or_target_dataset}\")\n",
    "    "
   ]
  },
  {
   "cell_type": "code",
   "execution_count": 13,
   "id": "fe266617",
   "metadata": {
    "execution": {
     "iopub.execute_input": "2022-03-24T07:14:37.428468Z",
     "iopub.status.busy": "2022-03-24T07:14:37.426912Z",
     "iopub.status.idle": "2022-03-24T07:14:49.794928Z",
     "shell.execute_reply": "2022-03-24T07:14:49.794032Z"
    },
    "papermill": {
     "duration": 12.391343,
     "end_time": "2022-03-24T07:14:49.795110",
     "exception": false,
     "start_time": "2022-03-24T07:14:37.403767",
     "status": "completed"
    },
    "tags": []
   },
   "outputs": [],
   "source": [
    "for ds in p.datasets:\n",
    "    add_dataset(**ds)"
   ]
  },
  {
   "cell_type": "code",
   "execution_count": 14,
   "id": "b90d65ac",
   "metadata": {
    "execution": {
     "iopub.execute_input": "2022-03-24T07:14:49.845252Z",
     "iopub.status.busy": "2022-03-24T07:14:49.844506Z",
     "iopub.status.idle": "2022-03-24T07:14:49.867149Z",
     "shell.execute_reply": "2022-03-24T07:14:49.866331Z"
    },
    "papermill": {
     "duration": 0.046319,
     "end_time": "2022-03-24T07:14:49.867305",
     "exception": false,
     "start_time": "2022-03-24T07:14:49.820986",
     "status": "completed"
    },
    "tags": []
   },
   "outputs": [],
   "source": [
    "# from steves_utils.CORES.utils import (\n",
    "#     ALL_NODES,\n",
    "#     ALL_NODES_MINIMUM_1000_EXAMPLES,\n",
    "#     ALL_DAYS\n",
    "# )\n",
    "\n",
    "# add_dataset(\n",
    "#     labels=ALL_NODES,\n",
    "#     domains = ALL_DAYS,\n",
    "#     num_examples_per_domain_per_label=100,\n",
    "#     pickle_path=os.path.join(get_datasets_base_path(), \"cores.stratified_ds.2022A.pkl\"),\n",
    "#     source_or_target_dataset=\"target\",\n",
    "#     x_transform_func=global_x_transform_func,\n",
    "#     domain_modifier=lambda u: f\"cores_{u}\"\n",
    "# )"
   ]
  },
  {
   "cell_type": "code",
   "execution_count": 15,
   "id": "76db484d",
   "metadata": {
    "execution": {
     "iopub.execute_input": "2022-03-24T07:14:49.915663Z",
     "iopub.status.busy": "2022-03-24T07:14:49.915276Z",
     "iopub.status.idle": "2022-03-24T07:14:49.932428Z",
     "shell.execute_reply": "2022-03-24T07:14:49.931672Z"
    },
    "papermill": {
     "duration": 0.039976,
     "end_time": "2022-03-24T07:14:49.932585",
     "exception": false,
     "start_time": "2022-03-24T07:14:49.892609",
     "status": "completed"
    },
    "tags": []
   },
   "outputs": [],
   "source": [
    "# from steves_utils.ORACLE.utils_v2 import (\n",
    "#     ALL_DISTANCES_FEET,\n",
    "#     ALL_RUNS,\n",
    "#     ALL_SERIAL_NUMBERS,\n",
    "# )\n",
    "\n",
    "\n",
    "# add_dataset(\n",
    "#     labels=ALL_SERIAL_NUMBERS,\n",
    "#     domains = list(set(ALL_DISTANCES_FEET) - {2,62}),\n",
    "#     num_examples_per_domain_per_label=100,\n",
    "#     pickle_path=os.path.join(get_datasets_base_path(), \"oracle.Run2_framed_2000Examples_stratified_ds.2022A.pkl\"),\n",
    "#     source_or_target_dataset=\"source\",\n",
    "#     x_transform_func=global_x_transform_func,\n",
    "#     domain_modifier=lambda u: f\"oracle1_{u}\"\n",
    "# )\n"
   ]
  },
  {
   "cell_type": "code",
   "execution_count": 16,
   "id": "97dea9d2",
   "metadata": {
    "execution": {
     "iopub.execute_input": "2022-03-24T07:14:49.986809Z",
     "iopub.status.busy": "2022-03-24T07:14:49.981606Z",
     "iopub.status.idle": "2022-03-24T07:14:50.000486Z",
     "shell.execute_reply": "2022-03-24T07:14:49.999666Z"
    },
    "papermill": {
     "duration": 0.043588,
     "end_time": "2022-03-24T07:14:50.000641",
     "exception": false,
     "start_time": "2022-03-24T07:14:49.957053",
     "status": "completed"
    },
    "tags": []
   },
   "outputs": [],
   "source": [
    "# from steves_utils.ORACLE.utils_v2 import (\n",
    "#     ALL_DISTANCES_FEET,\n",
    "#     ALL_RUNS,\n",
    "#     ALL_SERIAL_NUMBERS,\n",
    "# )\n",
    "\n",
    "\n",
    "# add_dataset(\n",
    "#     labels=ALL_SERIAL_NUMBERS,\n",
    "#     domains = list(set(ALL_DISTANCES_FEET) - {2,62,56}),\n",
    "#     num_examples_per_domain_per_label=100,\n",
    "#     pickle_path=os.path.join(get_datasets_base_path(), \"oracle.Run2_framed_2000Examples_stratified_ds.2022A.pkl\"),\n",
    "#     source_or_target_dataset=\"source\",\n",
    "#     x_transform_func=global_x_transform_func,\n",
    "#     domain_modifier=lambda u: f\"oracle2_{u}\"\n",
    "# )"
   ]
  },
  {
   "cell_type": "code",
   "execution_count": 17,
   "id": "6f289866",
   "metadata": {
    "execution": {
     "iopub.execute_input": "2022-03-24T07:14:50.050637Z",
     "iopub.status.busy": "2022-03-24T07:14:50.050266Z",
     "iopub.status.idle": "2022-03-24T07:14:50.105402Z",
     "shell.execute_reply": "2022-03-24T07:14:50.104691Z"
    },
    "papermill": {
     "duration": 0.078145,
     "end_time": "2022-03-24T07:14:50.105557",
     "exception": false,
     "start_time": "2022-03-24T07:14:50.027412",
     "status": "completed"
    },
    "tags": []
   },
   "outputs": [],
   "source": [
    "# add_dataset(\n",
    "#     labels=list(range(19)),\n",
    "#     domains = [0,1,2],\n",
    "#     num_examples_per_domain_per_label=100,\n",
    "#     pickle_path=os.path.join(get_datasets_base_path(), \"metehan.stratified_ds.2022A.pkl\"),\n",
    "#     source_or_target_dataset=\"target\",\n",
    "#     x_transform_func=global_x_transform_func,\n",
    "#     domain_modifier=lambda u: f\"met_{u}\"\n",
    "# )"
   ]
  },
  {
   "cell_type": "code",
   "execution_count": 18,
   "id": "86a863c3",
   "metadata": {
    "execution": {
     "iopub.execute_input": "2022-03-24T07:14:50.161106Z",
     "iopub.status.busy": "2022-03-24T07:14:50.158327Z",
     "iopub.status.idle": "2022-03-24T07:14:50.178399Z",
     "shell.execute_reply": "2022-03-24T07:14:50.177615Z"
    },
    "papermill": {
     "duration": 0.044567,
     "end_time": "2022-03-24T07:14:50.178554",
     "exception": false,
     "start_time": "2022-03-24T07:14:50.133987",
     "status": "completed"
    },
    "tags": []
   },
   "outputs": [],
   "source": [
    "# # from steves_utils.wisig.utils import (\n",
    "# #     ALL_NODES_MINIMUM_100_EXAMPLES,\n",
    "# #     ALL_NODES_MINIMUM_500_EXAMPLES,\n",
    "# #     ALL_NODES_MINIMUM_1000_EXAMPLES,\n",
    "# #     ALL_DAYS\n",
    "# # )\n",
    "\n",
    "# import steves_utils.wisig.utils as wisig\n",
    "\n",
    "\n",
    "# add_dataset(\n",
    "#     labels=wisig.ALL_NODES_MINIMUM_100_EXAMPLES,\n",
    "#     domains = wisig.ALL_DAYS,\n",
    "#     num_examples_per_domain_per_label=100,\n",
    "#     pickle_path=os.path.join(get_datasets_base_path(), \"wisig.node3-19.stratified_ds.2022A.pkl\"),\n",
    "#     source_or_target_dataset=\"target\",\n",
    "#     x_transform_func=global_x_transform_func,\n",
    "#     domain_modifier=lambda u: f\"wisig_{u}\"\n",
    "# )"
   ]
  },
  {
   "cell_type": "code",
   "execution_count": 19,
   "id": "fd5442bc",
   "metadata": {
    "execution": {
     "iopub.execute_input": "2022-03-24T07:14:50.234937Z",
     "iopub.status.busy": "2022-03-24T07:14:50.234089Z",
     "iopub.status.idle": "2022-03-24T07:14:50.253163Z",
     "shell.execute_reply": "2022-03-24T07:14:50.252355Z"
    },
    "papermill": {
     "duration": 0.048615,
     "end_time": "2022-03-24T07:14:50.253318",
     "exception": false,
     "start_time": "2022-03-24T07:14:50.204703",
     "status": "completed"
    },
    "tags": []
   },
   "outputs": [],
   "source": [
    "###################################\n",
    "# Build the dataset\n",
    "###################################\n",
    "train_original_source = Iterable_Aggregator(train_original_source, p.seed)\n",
    "val_original_source = Iterable_Aggregator(val_original_source, p.seed)\n",
    "test_original_source = Iterable_Aggregator(test_original_source, p.seed)\n",
    "\n",
    "\n",
    "train_original_target = Iterable_Aggregator(train_original_target, p.seed)\n",
    "val_original_target = Iterable_Aggregator(val_original_target, p.seed)\n",
    "test_original_target = Iterable_Aggregator(test_original_target, p.seed)\n",
    "\n",
    "# For CNN We only use X and Y. And we only train on the source.\n",
    "# Properly form the data using a transform lambda and Lazy_Iterable_Wrapper. Finally wrap them in a dataloader\n",
    "\n",
    "transform_lambda = lambda ex: ex[1] # Original is (<domain>, <episode>) so we strip down to episode only\n",
    "\n",
    "train_processed_source = Lazy_Iterable_Wrapper(train_original_source, transform_lambda)\n",
    "val_processed_source   = Lazy_Iterable_Wrapper(val_original_source, transform_lambda)\n",
    "test_processed_source  = Lazy_Iterable_Wrapper(test_original_source, transform_lambda)\n",
    "\n",
    "train_processed_target = Lazy_Iterable_Wrapper(train_original_target, transform_lambda)\n",
    "val_processed_target   = Lazy_Iterable_Wrapper(val_original_target, transform_lambda)\n",
    "test_processed_target  = Lazy_Iterable_Wrapper(test_original_target, transform_lambda)\n",
    "\n",
    "datasets = EasyDict({\n",
    "    \"source\": {\n",
    "        \"original\": {\"train\":train_original_source, \"val\":val_original_source, \"test\":test_original_source},\n",
    "        \"processed\": {\"train\":train_processed_source, \"val\":val_processed_source, \"test\":test_processed_source}\n",
    "    },\n",
    "    \"target\": {\n",
    "        \"original\": {\"train\":train_original_target, \"val\":val_original_target, \"test\":test_original_target},\n",
    "        \"processed\": {\"train\":train_processed_target, \"val\":val_processed_target, \"test\":test_processed_target}\n",
    "    },\n",
    "})"
   ]
  },
  {
   "cell_type": "code",
   "execution_count": 20,
   "id": "5b3c01fc",
   "metadata": {
    "execution": {
     "iopub.execute_input": "2022-03-24T07:14:50.307765Z",
     "iopub.status.busy": "2022-03-24T07:14:50.305986Z",
     "iopub.status.idle": "2022-03-24T07:15:23.436187Z",
     "shell.execute_reply": "2022-03-24T07:15:23.435284Z"
    },
    "papermill": {
     "duration": 33.156382,
     "end_time": "2022-03-24T07:15:23.436369",
     "exception": false,
     "start_time": "2022-03-24T07:14:50.279987",
     "status": "completed"
    },
    "tags": []
   },
   "outputs": [
    {
     "name": "stdout",
     "output_type": "stream",
     "text": [
      "{'Wisig_1', 'Wisig_2', 'Wisig_3', 'Wisig_4'}\n"
     ]
    },
    {
     "name": "stdout",
     "output_type": "stream",
     "text": [
      "{'ORACLE.run114', 'ORACLE.run126', 'ORACLE.run132', 'ORACLE.run18', 'ORACLE.run144', 'ORACLE.run120', 'ORACLE.run138', 'ORACLE.run150'}\n"
     ]
    },
    {
     "name": "stdout",
     "output_type": "stream",
     "text": [
      "tensor([[[ 5.8382e-02, -9.0030e-03,  3.2350e-03,  ...,  6.6836e-03,\n",
      "           7.7822e-03,  1.7212e-02],\n",
      "         [ 2.6276e-02,  3.8881e-02,  1.3459e-02,  ...,  6.6836e-03,\n",
      "           1.2116e-02, -2.4415e-03]],\n",
      "\n",
      "        [[-1.5046e-02,  2.0234e-02,  5.7070e-03,  ..., -6.7446e-03,\n",
      "           1.6785e-03, -9.0945e-03],\n",
      "         [-5.5727e-02, -1.2146e-02,  9.7659e-04,  ..., -1.0865e-02,\n",
      "          -3.4181e-03, -5.8596e-03]],\n",
      "\n",
      "        [[ 2.6795e-02, -2.2279e-03,  5.9206e-03,  ...,  1.0773e-02,\n",
      "           4.4557e-03,  2.4567e-02],\n",
      "         [ 3.6897e-02,  8.8504e-03, -4.7304e-03,  ...,  9.7659e-04,\n",
      "          -3.1739e-03, -3.2350e-02]],\n",
      "\n",
      "        ...,\n",
      "\n",
      "        [[-1.3581e-02,  1.5717e-02,  2.4964e-02,  ..., -1.2055e-02,\n",
      "          -2.8993e-02,  9.2166e-03],\n",
      "         [-1.6755e-02, -2.4232e-02,  1.0743e-02,  ...,  1.9471e-02,\n",
      "           3.0519e-05, -2.0112e-02]],\n",
      "\n",
      "        [[ 3.6195e-02, -3.0824e-03, -2.5544e-02,  ..., -1.7701e-03,\n",
      "           2.8504e-02,  2.4140e-02],\n",
      "         [ 1.7335e-02,  3.6561e-02,  4.3031e-03,  ..., -3.4791e-02,\n",
      "          -2.8626e-02, -3.6622e-04]],\n",
      "\n",
      "        [[ 7.0498e-03, -1.3581e-02, -1.8799e-02,  ..., -8.8198e-03,\n",
      "           5.0661e-03, -1.0254e-02],\n",
      "         [ 4.3641e-03,  2.1302e-02, -1.4374e-02,  ...,  4.4557e-03,\n",
      "           1.4100e-02,  1.9593e-02]]])\n"
     ]
    }
   ],
   "source": [
    "from steves_utils.transforms import get_average_magnitude, get_average_power\n",
    "\n",
    "print(set([u for u,_ in val_original_source]))\n",
    "print(set([u for u,_ in val_original_target]))\n",
    "\n",
    "s_x, s_y, q_x, q_y, _ = next(iter(train_processed_source))\n",
    "print(s_x)\n",
    "\n",
    "# for ds in [\n",
    "#     train_processed_source,\n",
    "#     val_processed_source,\n",
    "#     test_processed_source,\n",
    "#     train_processed_target,\n",
    "#     val_processed_target,\n",
    "#     test_processed_target\n",
    "# ]:\n",
    "#     for s_x, s_y, q_x, q_y, _ in ds:\n",
    "#         for X in (s_x, q_x):\n",
    "#             for x in X:\n",
    "#                 assert np.isclose(get_average_magnitude(x.numpy()), 1.0)\n",
    "#                 assert np.isclose(get_average_power(x.numpy()), 1.0)\n",
    "                "
   ]
  },
  {
   "cell_type": "code",
   "execution_count": 21,
   "id": "bbdacba1",
   "metadata": {
    "execution": {
     "iopub.execute_input": "2022-03-24T07:15:23.493744Z",
     "iopub.status.busy": "2022-03-24T07:15:23.493165Z",
     "iopub.status.idle": "2022-03-24T07:15:23.761182Z",
     "shell.execute_reply": "2022-03-24T07:15:23.761897Z"
    },
    "papermill": {
     "duration": 0.29629,
     "end_time": "2022-03-24T07:15:23.762144",
     "exception": false,
     "start_time": "2022-03-24T07:15:23.465854",
     "status": "completed"
    },
    "tags": []
   },
   "outputs": [
    {
     "name": "stdout",
     "output_type": "stream",
     "text": [
      "(2, 256)\n"
     ]
    }
   ],
   "source": [
    "###################################\n",
    "# Build the model\n",
    "###################################\n",
    "# easfsl only wants a tuple for the shape\n",
    "model = Steves_Prototypical_Network(x_net, device=p.device, x_shape=tuple(p.x_shape))\n",
    "optimizer = Adam(params=model.parameters(), lr=p.lr)"
   ]
  },
  {
   "cell_type": "code",
   "execution_count": 22,
   "id": "22b39ac5",
   "metadata": {
    "execution": {
     "iopub.execute_input": "2022-03-24T07:15:23.818857Z",
     "iopub.status.busy": "2022-03-24T07:15:23.818258Z",
     "iopub.status.idle": "2022-03-24T07:38:10.012666Z",
     "shell.execute_reply": "2022-03-24T07:38:10.012314Z"
    },
    "papermill": {
     "duration": 1366.221563,
     "end_time": "2022-03-24T07:38:10.012752",
     "exception": false,
     "start_time": "2022-03-24T07:15:23.791189",
     "status": "completed"
    },
    "tags": []
   },
   "outputs": [
    {
     "name": "stdout",
     "output_type": "stream",
     "text": [
      "epoch: 1, [batch: 1 / 6843], examples_per_second: 31.5017, train_label_loss: 2.1935, \n"
     ]
    },
    {
     "name": "stdout",
     "output_type": "stream",
     "text": [
      "epoch: 1, [batch: 685 / 6843], examples_per_second: 2942.3406, train_label_loss: 0.4950, \n"
     ]
    },
    {
     "name": "stdout",
     "output_type": "stream",
     "text": [
      "epoch: 1, [batch: 1369 / 6843], examples_per_second: 2952.0750, train_label_loss: 0.2610, \n"
     ]
    },
    {
     "name": "stdout",
     "output_type": "stream",
     "text": [
      "epoch: 1, [batch: 2053 / 6843], examples_per_second: 2995.9330, train_label_loss: 0.0117, \n"
     ]
    },
    {
     "name": "stdout",
     "output_type": "stream",
     "text": [
      "epoch: 1, [batch: 2737 / 6843], examples_per_second: 2933.9468, train_label_loss: 0.2321, \n"
     ]
    },
    {
     "name": "stdout",
     "output_type": "stream",
     "text": [
      "epoch: 1, [batch: 3422 / 6843], examples_per_second: 2943.4079, train_label_loss: 0.3228, \n"
     ]
    },
    {
     "name": "stdout",
     "output_type": "stream",
     "text": [
      "epoch: 1, [batch: 4106 / 6843], examples_per_second: 2995.0974, train_label_loss: 0.4473, \n"
     ]
    },
    {
     "name": "stdout",
     "output_type": "stream",
     "text": [
      "epoch: 1, [batch: 4790 / 6843], examples_per_second: 2985.5264, train_label_loss: 0.8334, \n"
     ]
    },
    {
     "name": "stdout",
     "output_type": "stream",
     "text": [
      "epoch: 1, [batch: 5474 / 6843], examples_per_second: 2964.4795, train_label_loss: 0.0735, \n"
     ]
    },
    {
     "name": "stdout",
     "output_type": "stream",
     "text": [
      "epoch: 1, [batch: 6158 / 6843], examples_per_second: 3236.1220, train_label_loss: 0.2968, \n"
     ]
    },
    {
     "name": "stdout",
     "output_type": "stream",
     "text": [
      "=============================================================\n",
      "epoch: 1, source_val_acc_label: 0.9623, target_val_acc_label: 0.2657, source_val_label_loss: 0.1809, target_val_label_loss: 2.5729, \n",
      "=============================================================\n"
     ]
    },
    {
     "name": "stdout",
     "output_type": "stream",
     "text": [
      "New best\n"
     ]
    },
    {
     "name": "stdout",
     "output_type": "stream",
     "text": [
      "epoch: 2, [batch: 1 / 6824], examples_per_second: 1.5425, train_label_loss: 0.0700, \n"
     ]
    },
    {
     "name": "stdout",
     "output_type": "stream",
     "text": [
      "epoch: 2, [batch: 683 / 6824], examples_per_second: 3314.3966, train_label_loss: 0.2089, \n"
     ]
    },
    {
     "name": "stdout",
     "output_type": "stream",
     "text": [
      "epoch: 2, [batch: 1365 / 6824], examples_per_second: 3026.0436, train_label_loss: 0.2769, \n"
     ]
    },
    {
     "name": "stdout",
     "output_type": "stream",
     "text": [
      "epoch: 2, [batch: 2047 / 6824], examples_per_second: 3082.0260, train_label_loss: 0.2782, \n"
     ]
    },
    {
     "name": "stdout",
     "output_type": "stream",
     "text": [
      "epoch: 2, [batch: 2730 / 6824], examples_per_second: 3448.5827, train_label_loss: 0.0091, \n"
     ]
    },
    {
     "name": "stdout",
     "output_type": "stream",
     "text": [
      "epoch: 2, [batch: 3412 / 6824], examples_per_second: 3435.9421, train_label_loss: 0.0188, \n"
     ]
    },
    {
     "name": "stdout",
     "output_type": "stream",
     "text": [
      "epoch: 2, [batch: 4094 / 6824], examples_per_second: 3386.2269, train_label_loss: 0.0131, \n"
     ]
    },
    {
     "name": "stdout",
     "output_type": "stream",
     "text": [
      "epoch: 2, [batch: 4777 / 6824], examples_per_second: 3456.0914, train_label_loss: 0.0124, \n"
     ]
    },
    {
     "name": "stdout",
     "output_type": "stream",
     "text": [
      "epoch: 2, [batch: 5459 / 6824], examples_per_second: 3358.8058, train_label_loss: 0.0059, \n"
     ]
    },
    {
     "name": "stdout",
     "output_type": "stream",
     "text": [
      "epoch: 2, [batch: 6141 / 6824], examples_per_second: 3538.9841, train_label_loss: 0.0269, \n"
     ]
    },
    {
     "name": "stdout",
     "output_type": "stream",
     "text": [
      "=============================================================\n",
      "epoch: 2, source_val_acc_label: 0.9708, target_val_acc_label: 0.2636, source_val_label_loss: 0.1301, target_val_label_loss: 2.5700, \n",
      "=============================================================\n"
     ]
    },
    {
     "name": "stdout",
     "output_type": "stream",
     "text": [
      "epoch: 3, [batch: 1 / 6845], examples_per_second: 1.4153, train_label_loss: 0.0215, \n"
     ]
    },
    {
     "name": "stdout",
     "output_type": "stream",
     "text": [
      "epoch: 3, [batch: 685 / 6845], examples_per_second: 2988.8773, train_label_loss: 0.0076, \n"
     ]
    },
    {
     "name": "stdout",
     "output_type": "stream",
     "text": [
      "epoch: 3, [batch: 1369 / 6845], examples_per_second: 2977.4055, train_label_loss: 0.1512, \n"
     ]
    },
    {
     "name": "stdout",
     "output_type": "stream",
     "text": [
      "epoch: 3, [batch: 2054 / 6845], examples_per_second: 2999.5511, train_label_loss: 0.1582, \n"
     ]
    },
    {
     "name": "stdout",
     "output_type": "stream",
     "text": [
      "epoch: 3, [batch: 2738 / 6845], examples_per_second: 2986.7110, train_label_loss: 0.0064, \n"
     ]
    },
    {
     "name": "stdout",
     "output_type": "stream",
     "text": [
      "epoch: 3, [batch: 3423 / 6845], examples_per_second: 3000.4566, train_label_loss: 0.2810, \n"
     ]
    },
    {
     "name": "stdout",
     "output_type": "stream",
     "text": [
      "epoch: 3, [batch: 4107 / 6845], examples_per_second: 2993.1868, train_label_loss: 0.0138, \n"
     ]
    },
    {
     "name": "stdout",
     "output_type": "stream",
     "text": [
      "epoch: 3, [batch: 4791 / 6845], examples_per_second: 3013.7356, train_label_loss: 0.1085, \n"
     ]
    },
    {
     "name": "stdout",
     "output_type": "stream",
     "text": [
      "epoch: 3, [batch: 5476 / 6845], examples_per_second: 3028.4008, train_label_loss: 0.0230, \n"
     ]
    },
    {
     "name": "stdout",
     "output_type": "stream",
     "text": [
      "epoch: 3, [batch: 6160 / 6845], examples_per_second: 2961.5567, train_label_loss: 0.1927, \n"
     ]
    },
    {
     "name": "stdout",
     "output_type": "stream",
     "text": [
      "=============================================================\n",
      "epoch: 3, source_val_acc_label: 0.9730, target_val_acc_label: 0.2553, source_val_label_loss: 0.1146, target_val_label_loss: 2.5358, \n",
      "=============================================================\n"
     ]
    },
    {
     "name": "stdout",
     "output_type": "stream",
     "text": [
      "epoch: 4, [batch: 1 / 6840], examples_per_second: 1.2623, train_label_loss: 0.0062, \n"
     ]
    },
    {
     "name": "stdout",
     "output_type": "stream",
     "text": [
      "epoch: 4, [batch: 684 / 6840], examples_per_second: 2966.0933, train_label_loss: 0.2839, \n"
     ]
    },
    {
     "name": "stdout",
     "output_type": "stream",
     "text": [
      "epoch: 4, [batch: 1368 / 6840], examples_per_second: 2976.0654, train_label_loss: 0.0169, \n"
     ]
    },
    {
     "name": "stdout",
     "output_type": "stream",
     "text": [
      "epoch: 4, [batch: 2052 / 6840], examples_per_second: 3008.6992, train_label_loss: 0.0008, \n"
     ]
    },
    {
     "name": "stdout",
     "output_type": "stream",
     "text": [
      "epoch: 4, [batch: 2736 / 6840], examples_per_second: 2978.5902, train_label_loss: 0.2221, \n"
     ]
    },
    {
     "name": "stdout",
     "output_type": "stream",
     "text": [
      "epoch: 4, [batch: 3420 / 6840], examples_per_second: 3002.2104, train_label_loss: 0.1435, \n"
     ]
    },
    {
     "name": "stdout",
     "output_type": "stream",
     "text": [
      "epoch: 4, [batch: 4104 / 6840], examples_per_second: 3071.1942, train_label_loss: 0.0243, \n"
     ]
    },
    {
     "name": "stdout",
     "output_type": "stream",
     "text": [
      "epoch: 4, [batch: 4788 / 6840], examples_per_second: 2925.5759, train_label_loss: 0.2529, \n"
     ]
    },
    {
     "name": "stdout",
     "output_type": "stream",
     "text": [
      "epoch: 4, [batch: 5472 / 6840], examples_per_second: 2995.7327, train_label_loss: 0.0085, \n"
     ]
    },
    {
     "name": "stdout",
     "output_type": "stream",
     "text": [
      "epoch: 4, [batch: 6156 / 6840], examples_per_second: 2967.6821, train_label_loss: 0.1250, \n"
     ]
    },
    {
     "name": "stdout",
     "output_type": "stream",
     "text": [
      "=============================================================\n",
      "epoch: 4, source_val_acc_label: 0.9742, target_val_acc_label: 0.2489, source_val_label_loss: 0.1197, target_val_label_loss: 2.5460, \n",
      "=============================================================\n"
     ]
    },
    {
     "name": "stdout",
     "output_type": "stream",
     "text": [
      "epoch: 5, [batch: 1 / 6843], examples_per_second: 1.2666, train_label_loss: 0.3390, \n"
     ]
    },
    {
     "name": "stdout",
     "output_type": "stream",
     "text": [
      "epoch: 5, [batch: 685 / 6843], examples_per_second: 3399.5205, train_label_loss: 0.0211, \n"
     ]
    },
    {
     "name": "stdout",
     "output_type": "stream",
     "text": [
      "epoch: 5, [batch: 1369 / 6843], examples_per_second: 3407.9640, train_label_loss: 0.1927, \n"
     ]
    },
    {
     "name": "stdout",
     "output_type": "stream",
     "text": [
      "epoch: 5, [batch: 2053 / 6843], examples_per_second: 3387.8685, train_label_loss: 0.0036, \n"
     ]
    },
    {
     "name": "stdout",
     "output_type": "stream",
     "text": [
      "epoch: 5, [batch: 2737 / 6843], examples_per_second: 3335.4963, train_label_loss: 0.0374, \n"
     ]
    },
    {
     "name": "stdout",
     "output_type": "stream",
     "text": [
      "epoch: 5, [batch: 3422 / 6843], examples_per_second: 3487.7695, train_label_loss: 0.2854, \n"
     ]
    },
    {
     "name": "stdout",
     "output_type": "stream",
     "text": [
      "epoch: 5, [batch: 4106 / 6843], examples_per_second: 3498.4230, train_label_loss: 0.2578, \n"
     ]
    },
    {
     "name": "stdout",
     "output_type": "stream",
     "text": [
      "epoch: 5, [batch: 4790 / 6843], examples_per_second: 3879.7871, train_label_loss: 0.0021, \n"
     ]
    },
    {
     "name": "stdout",
     "output_type": "stream",
     "text": [
      "epoch: 5, [batch: 5474 / 6843], examples_per_second: 3448.9323, train_label_loss: 0.0026, \n"
     ]
    },
    {
     "name": "stdout",
     "output_type": "stream",
     "text": [
      "epoch: 5, [batch: 6158 / 6843], examples_per_second: 3057.9631, train_label_loss: 0.0819, \n"
     ]
    },
    {
     "name": "stdout",
     "output_type": "stream",
     "text": [
      "=============================================================\n",
      "epoch: 5, source_val_acc_label: 0.9742, target_val_acc_label: 0.2230, source_val_label_loss: 0.1139, target_val_label_loss: 2.5501, \n",
      "=============================================================\n"
     ]
    },
    {
     "name": "stdout",
     "output_type": "stream",
     "text": [
      "Patience (3) exhausted\n"
     ]
    }
   ],
   "source": [
    "###################################\n",
    "# train\n",
    "###################################\n",
    "jig = PTN_Train_Eval_Test_Jig(model, p.BEST_MODEL_PATH, p.device)\n",
    "\n",
    "jig.train(\n",
    "    train_iterable=datasets.source.processed.train,\n",
    "    source_val_iterable=datasets.source.processed.val,\n",
    "    target_val_iterable=datasets.target.processed.val,\n",
    "    num_epochs=p.n_epoch,\n",
    "    num_logs_per_epoch=p.NUM_LOGS_PER_EPOCH,\n",
    "    patience=p.patience,\n",
    "    optimizer=optimizer,\n",
    "    criteria_for_best=p.criteria_for_best,\n",
    ")"
   ]
  },
  {
   "cell_type": "code",
   "execution_count": 23,
   "id": "31e8fabf",
   "metadata": {
    "execution": {
     "iopub.execute_input": "2022-03-24T07:38:10.093706Z",
     "iopub.status.busy": "2022-03-24T07:38:10.092922Z",
     "iopub.status.idle": "2022-03-24T07:38:10.127809Z",
     "shell.execute_reply": "2022-03-24T07:38:10.126652Z"
    },
    "papermill": {
     "duration": 0.076978,
     "end_time": "2022-03-24T07:38:10.128034",
     "exception": false,
     "start_time": "2022-03-24T07:38:10.051056",
     "status": "completed"
    },
    "tags": []
   },
   "outputs": [],
   "source": [
    "total_experiment_time_secs = time.time() - start_time_secs"
   ]
  },
  {
   "cell_type": "code",
   "execution_count": 24,
   "id": "87b9595b",
   "metadata": {
    "execution": {
     "iopub.execute_input": "2022-03-24T07:38:10.218886Z",
     "iopub.status.busy": "2022-03-24T07:38:10.218267Z",
     "iopub.status.idle": "2022-03-24T07:48:58.071864Z",
     "shell.execute_reply": "2022-03-24T07:48:58.071046Z"
    },
    "papermill": {
     "duration": 647.899592,
     "end_time": "2022-03-24T07:48:58.072047",
     "exception": false,
     "start_time": "2022-03-24T07:38:10.172455",
     "status": "completed"
    },
    "tags": []
   },
   "outputs": [],
   "source": [
    "###################################\n",
    "# Evaluate the model\n",
    "###################################\n",
    "source_test_label_accuracy, source_test_label_loss = jig.test(datasets.source.processed.test)\n",
    "target_test_label_accuracy, target_test_label_loss = jig.test(datasets.target.processed.test)\n",
    "\n",
    "source_val_label_accuracy, source_val_label_loss = jig.test(datasets.source.processed.val)\n",
    "target_val_label_accuracy, target_val_label_loss = jig.test(datasets.target.processed.val)\n",
    "\n",
    "history = jig.get_history()\n",
    "\n",
    "total_epochs_trained = len(history[\"epoch_indices\"])\n",
    "\n",
    "val_dl = Iterable_Aggregator((datasets.source.original.val,datasets.target.original.val))\n",
    "\n",
    "confusion = ptn_confusion_by_domain_over_dataloader(model, p.device, val_dl)\n",
    "per_domain_accuracy = per_domain_accuracy_from_confusion(confusion)\n",
    "\n",
    "# Add a key to per_domain_accuracy for if it was a source domain\n",
    "for domain, accuracy in per_domain_accuracy.items():\n",
    "    per_domain_accuracy[domain] = {\n",
    "        \"accuracy\": accuracy,\n",
    "        \"source?\": domain in p.domains_source\n",
    "    }\n",
    "\n",
    "# Do an independent accuracy assesment JUST TO BE SURE!\n",
    "# _source_test_label_accuracy = independent_accuracy_assesment(model, datasets.source.processed.test, p.device)\n",
    "# _target_test_label_accuracy = independent_accuracy_assesment(model, datasets.target.processed.test, p.device)\n",
    "# _source_val_label_accuracy = independent_accuracy_assesment(model, datasets.source.processed.val, p.device)\n",
    "# _target_val_label_accuracy = independent_accuracy_assesment(model, datasets.target.processed.val, p.device)\n",
    "\n",
    "# assert(_source_test_label_accuracy == source_test_label_accuracy)\n",
    "# assert(_target_test_label_accuracy == target_test_label_accuracy)\n",
    "# assert(_source_val_label_accuracy == source_val_label_accuracy)\n",
    "# assert(_target_val_label_accuracy == target_val_label_accuracy)\n",
    "\n",
    "experiment = {\n",
    "    \"experiment_name\": p.experiment_name,\n",
    "    \"parameters\": dict(p),\n",
    "    \"results\": {\n",
    "        \"source_test_label_accuracy\": source_test_label_accuracy,\n",
    "        \"source_test_label_loss\": source_test_label_loss,\n",
    "        \"target_test_label_accuracy\": target_test_label_accuracy,\n",
    "        \"target_test_label_loss\": target_test_label_loss,\n",
    "        \"source_val_label_accuracy\": source_val_label_accuracy,\n",
    "        \"source_val_label_loss\": source_val_label_loss,\n",
    "        \"target_val_label_accuracy\": target_val_label_accuracy,\n",
    "        \"target_val_label_loss\": target_val_label_loss,\n",
    "        \"total_epochs_trained\": total_epochs_trained,\n",
    "        \"total_experiment_time_secs\": total_experiment_time_secs,\n",
    "        \"confusion\": confusion,\n",
    "        \"per_domain_accuracy\": per_domain_accuracy,\n",
    "    },\n",
    "    \"history\": history,\n",
    "    \"dataset_metrics\": get_dataset_metrics(datasets, \"ptn\"),\n",
    "}"
   ]
  },
  {
   "cell_type": "code",
   "execution_count": 25,
   "id": "54a21829",
   "metadata": {
    "execution": {
     "iopub.execute_input": "2022-03-24T07:48:58.157676Z",
     "iopub.status.busy": "2022-03-24T07:48:58.157305Z",
     "iopub.status.idle": "2022-03-24T07:48:58.380441Z",
     "shell.execute_reply": "2022-03-24T07:48:58.381121Z"
    },
    "papermill": {
     "duration": 0.264029,
     "end_time": "2022-03-24T07:48:58.381302",
     "exception": false,
     "start_time": "2022-03-24T07:48:58.117273",
     "status": "completed"
    },
    "tags": []
   },
   "outputs": [
    {
     "data": {
      "image/png": "[encoded data removed]",
      "text/plain": [
       "<Figure size 1080x504 with 1 Axes>"
      ]
     },
     "metadata": {
      "needs_background": "light"
     },
     "output_type": "display_data"
    }
   ],
   "source": [
    "ax = get_loss_curve(experiment)\n",
    "plt.show()"
   ]
  },
  {
   "cell_type": "code",
   "execution_count": 26,
   "id": "fd8a0f60",
   "metadata": {
    "execution": {
     "iopub.execute_input": "2022-03-24T07:48:58.465176Z",
     "iopub.status.busy": "2022-03-24T07:48:58.464620Z",
     "iopub.status.idle": "2022-03-24T07:48:58.773760Z",
     "shell.execute_reply": "2022-03-24T07:48:58.774072Z"
    },
    "papermill": {
     "duration": 0.349562,
     "end_time": "2022-03-24T07:48:58.774156",
     "exception": false,
     "start_time": "2022-03-24T07:48:58.424594",
     "status": "completed"
    },
    "tags": []
   },
   "outputs": [
    {
     "data": {
      "text/plain": [
       "<AxesSubplot:title={'center':'Results'}>"
      ]
     },
     "execution_count": 26,
     "metadata": {},
     "output_type": "execute_result"
    },
    {
     "data": {
      "image/png": "[encoded data removed]",
      "text/plain": [
       "<Figure size 1080x504 with 1 Axes>"
      ]
     },
     "metadata": {
      "needs_background": "light"
     },
     "output_type": "display_data"
    }
   ],
   "source": [
    "get_results_table(experiment)"
   ]
  },
  {
   "cell_type": "code",
   "execution_count": 27,
   "id": "cf8dc689",
   "metadata": {
    "execution": {
     "iopub.execute_input": "2022-03-24T07:48:58.856460Z",
     "iopub.status.busy": "2022-03-24T07:48:58.856092Z",
     "iopub.status.idle": "2022-03-24T07:48:59.110609Z",
     "shell.execute_reply": "2022-03-24T07:48:59.111295Z"
    },
    "papermill": {
     "duration": 0.297193,
     "end_time": "2022-03-24T07:48:59.111476",
     "exception": false,
     "start_time": "2022-03-24T07:48:58.814283",
     "status": "completed"
    },
    "tags": []
   },
   "outputs": [
    {
     "data": {
      "text/plain": [
       "<AxesSubplot:title={'center':'Per Domain Validation Accuracy'}, xlabel='domain'>"
      ]
     },
     "execution_count": 27,
     "metadata": {},
     "output_type": "execute_result"
    },
    {
     "data": {
      "image/png": "[encoded data removed]",
      "text/plain": [
       "<Figure size 1080x504 with 1 Axes>"
      ]
     },
     "metadata": {
      "needs_background": "light"
     },
     "output_type": "display_data"
    }
   ],
   "source": [
    "get_domain_accuracies(experiment)"
   ]
  },
  {
   "cell_type": "code",
   "execution_count": 28,
   "id": "a74ae082",
   "metadata": {
    "execution": {
     "iopub.execute_input": "2022-03-24T07:48:59.203003Z",
     "iopub.status.busy": "2022-03-24T07:48:59.202630Z",
     "iopub.status.idle": "2022-03-24T07:48:59.226573Z",
     "shell.execute_reply": "2022-03-24T07:48:59.225780Z"
    },
    "papermill": {
     "duration": 0.067081,
     "end_time": "2022-03-24T07:48:59.226727",
     "exception": false,
     "start_time": "2022-03-24T07:48:59.159646",
     "status": "completed"
    },
    "tags": []
   },
   "outputs": [
    {
     "name": "stdout",
     "output_type": "stream",
     "text": [
      "Source Test Label Accuracy: 0.9611556359875905 Target Test Label Accuracy: 0.26580729166666667\n",
      "Source Val Label Accuracy: 0.9622890295358649 Target Val Label Accuracy: 0.26572265625\n"
     ]
    }
   ],
   "source": [
    "print(\"Source Test Label Accuracy:\", experiment[\"results\"][\"source_test_label_accuracy\"], \"Target Test Label Accuracy:\", experiment[\"results\"][\"target_test_label_accuracy\"])\n",
    "print(\"Source Val Label Accuracy:\", experiment[\"results\"][\"source_val_label_accuracy\"], \"Target Val Label Accuracy:\", experiment[\"results\"][\"target_val_label_accuracy\"])"
   ]
  },
  {
   "cell_type": "code",
   "execution_count": 29,
   "id": "dacca602",
   "metadata": {
    "execution": {
     "iopub.execute_input": "2022-03-24T07:48:59.315023Z",
     "iopub.status.busy": "2022-03-24T07:48:59.314660Z",
     "iopub.status.idle": "2022-03-24T07:48:59.339217Z",
     "shell.execute_reply": "2022-03-24T07:48:59.339902Z"
    },
    "papermill": {
     "duration": 0.068223,
     "end_time": "2022-03-24T07:48:59.340078",
     "exception": false,
     "start_time": "2022-03-24T07:48:59.271855",
     "status": "completed"
    },
    "tags": [
     "experiment_json"
    ]
   },
   "outputs": [
    {
     "data": {
      "text/plain": [
       "'{\"experiment_name\": \"tl_1v2:wisig-oracle.run1\", \"parameters\": {\"experiment_name\": \"tl_1v2:wisig-oracle.run1\", \"device\": \"cuda\", \"lr\": 0.0001, \"n_shot\": 3, \"n_query\": 2, \"train_k_factor\": 3, \"val_k_factor\": 2, \"test_k_factor\": 2, \"torch_default_dtype\": \"torch.float32\", \"n_epoch\": 50, \"patience\": 3, \"criteria_for_best\": \"target_accuracy\", \"x_net\": [{\"class\": \"nnReshape\", \"kargs\": {\"shape\": [-1, 1, 2, 256]}}, {\"class\": \"Conv2d\", \"kargs\": {\"in_channels\": 1, \"out_channels\": 256, \"kernel_size\": [1, 7], \"bias\": false, \"padding\": [0, 3]}}, {\"class\": \"ReLU\", \"kargs\": {\"inplace\": true}}, {\"class\": \"BatchNorm2d\", \"kargs\": {\"num_features\": 256}}, {\"class\": \"Conv2d\", \"kargs\": {\"in_channels\": 256, \"out_channels\": 80, \"kernel_size\": [2, 7], \"bias\": true, \"padding\": [0, 3]}}, {\"class\": \"ReLU\", \"kargs\": {\"inplace\": true}}, {\"class\": \"BatchNorm2d\", \"kargs\": {\"num_features\": 80}}, {\"class\": \"Flatten\", \"kargs\": {}}, {\"class\": \"Linear\", \"kargs\": {\"in_features\": 20480, \"out_features\": 256}}, {\"class\": \"ReLU\", \"kargs\": {\"inplace\": true}}, {\"class\": \"BatchNorm1d\", \"kargs\": {\"num_features\": 256}}, {\"class\": \"Linear\", \"kargs\": {\"in_features\": 256, \"out_features\": 256}}], \"NUM_LOGS_PER_EPOCH\": 10, \"BEST_MODEL_PATH\": \"./best_model.pth\", \"n_way\": 16, \"datasets\": [{\"labels\": [\"1-10\", \"1-12\", \"1-14\", \"1-16\", \"1-18\", \"1-19\", \"1-8\", \"10-11\", \"10-17\", \"10-4\", \"10-7\", \"11-1\", \"11-10\", \"11-19\", \"11-20\", \"11-4\", \"11-7\", \"12-19\", \"12-20\", \"12-7\", \"13-14\", \"13-18\", \"13-19\", \"13-20\", \"13-3\", \"13-7\", \"14-10\", \"14-11\", \"14-12\", \"14-13\", \"14-14\", \"14-19\", \"14-20\", \"14-7\", \"14-8\", \"14-9\", \"15-1\", \"15-19\", \"15-6\", \"16-1\", \"16-16\", \"16-19\", \"16-20\", \"17-10\", \"17-11\", \"18-1\", \"18-10\", \"18-11\", \"18-12\", \"18-13\", \"18-14\", \"18-15\", \"18-16\", \"18-17\", \"18-19\", \"18-2\", \"18-20\", \"18-4\", \"18-5\", \"18-7\", \"18-8\", \"18-9\", \"19-1\", \"19-10\", \"19-11\", \"19-12\", \"19-13\", \"19-14\", \"19-15\", \"19-19\", \"19-2\", \"19-20\", \"19-3\", \"19-4\", \"19-6\", \"19-7\", \"19-8\", \"19-9\", \"2-1\", \"2-13\", \"2-15\", \"2-3\", \"2-4\", \"2-5\", \"2-6\", \"2-7\", \"2-8\", \"20-1\", \"20-12\", \"20-14\", \"20-15\", \"20-16\", \"20-18\", \"20-19\", \"20-20\", \"20-3\", \"20-4\", \"20-5\", \"20-7\", \"20-8\", \"3-1\", \"3-13\", \"3-18\", \"3-2\", \"3-8\", \"4-1\", \"4-10\", \"4-11\", \"5-1\", \"5-5\", \"6-1\", \"6-15\", \"6-6\", \"7-10\", \"7-11\", \"7-12\", \"7-13\", \"7-14\", \"7-7\", \"7-8\", \"7-9\", \"8-1\", \"8-13\", \"8-14\", \"8-18\", \"8-20\", \"8-3\", \"8-8\", \"9-1\", \"9-7\"], \"domains\": [1, 2, 3, 4], \"num_examples_per_domain_per_label\": -1, \"pickle_path\": \"/root/csc500-main/datasets/wisig.node3-19.stratified_ds.2022A.pkl\", \"source_or_target_dataset\": \"source\", \"x_transforms\": [], \"episode_transforms\": [], \"domain_prefix\": \"Wisig_\"}, {\"labels\": [\"3123D52\", \"3123D65\", \"3123D79\", \"3123D80\", \"3123D54\", \"3123D70\", \"3123D7B\", \"3123D89\", \"3123D58\", \"3123D76\", \"3123D7D\", \"3123EFE\", \"3123D64\", \"3123D78\", \"3123D7E\", \"3124E4A\"], \"domains\": [32, 38, 8, 44, 14, 50, 20, 26], \"num_examples_per_domain_per_label\": 10000, \"pickle_path\": \"/root/csc500-main/datasets/oracle.Run1_10kExamples_stratified_ds.2022A.pkl\", \"source_or_target_dataset\": \"target\", \"x_transforms\": [], \"episode_transforms\": [], \"domain_prefix\": \"ORACLE.run1\"}], \"dataset_seed\": 500, \"seed\": 500, \"x_shape\": [2, 256], \"domains_source\": [\"Wisig_1\", \"Wisig_2\", \"Wisig_3\", \"Wisig_4\"], \"domains_target\": [\"ORACLE.run132\", \"ORACLE.run138\", \"ORACLE.run18\", \"ORACLE.run144\", \"ORACLE.run114\", \"ORACLE.run150\", \"ORACLE.run120\", \"ORACLE.run126\"]}, \"results\": {\"source_test_label_accuracy\": 0.9611556359875905, \"source_test_label_loss\": 0.17601169645786285, \"target_test_label_accuracy\": 0.26580729166666667, \"target_test_label_loss\": 2.5729897022247314, \"source_val_label_accuracy\": 0.9622890295358649, \"source_val_label_loss\": 0.18087023496627808, \"target_val_label_accuracy\": 0.26572265625, \"target_val_label_loss\": 2.5729448795318604, \"total_epochs_trained\": 5, \"total_experiment_time_secs\": 1412.9639954566956, \"confusion\": {\"Wisig_3\": {\"99\": {\"99\": 34, \"25\": 1, \"97\": 1}, \"8\": {\"8\": 124}, \"65\": {\"18\": 1, \"65\": 11}, \"117\": {\"117\": 110, \"7\": 1, \"106\": 1}, \"18\": {\"18\": 123, \"88\": 1}, \"39\": {\"39\": 107, \"16\": 1}, \"102\": {\"102\": 124}, \"76\": {\"57\": 1, \"76\": 15}, \"101\": {\"101\": 50, \"26\": 1, \"34\": 1}, \"57\": {\"57\": 20}, \"86\": {\"86\": 26, \"4\": 1, \"9\": 1}, \"11\": {\"11\": 130, \"110\": 2}, \"98\": {\"98\": 128}, \"42\": {\"42\": 26, \"53\": 1, \"85\": 1}, \"47\": {\"47\": 12}, \"49\": {\"49\": 24}, \"111\": {\"111\": 130, \"124\": 1, \"125\": 1}, \"36\": {\"36\": 116}, \"124\": {\"124\": 104, \"2\": 1, \"90\": 1}, \"122\": {\"122\": 54, \"21\": 1, \"87\": 1, \"18\": 1, \"84\": 1, \"26\": 1, \"40\": 1}, \"93\": {\"93\": 142}, \"89\": {\"89\": 27, \"57\": 1}, \"51\": {\"51\": 16}, \"73\": {\"73\": 39, \"21\": 1}, \"45\": {\"45\": 16}, \"5\": {\"5\": 107, \"26\": 1, \"84\": 1, \"88\": 1, \"101\": 1, \"127\": 1}, \"69\": {\"69\": 83, \"113\": 1}, \"26\": {\"26\": 130}, \"1\": {\"1\": 107, \"69\": 1}, \"92\": {\"92\": 32}, \"96\": {\"96\": 20}, \"85\": {\"85\": 36}, \"114\": {\"114\": 125, \"85\": 1}, \"50\": {\"50\": 16}, \"81\": {\"81\": 32}, \"2\": {\"2\": 25, \"92\": 1, \"117\": 2}, \"33\": {\"33\": 145, \"30\": 1}, \"31\": {\"31\": 20}, \"90\": {\"90\": 115, \"98\": 2, \"124\": 1}, \"17\": {\"50\": 2, \"78\": 1, \"120\": 1, \"63\": 1, \"100\": 1, \"17\": 6, \"127\": 1, \"23\": 2, \"115\": 1}, \"116\": {\"116\": 27, \"29\": 1}, \"91\": {\"91\": 21, \"34\": 2, \"129\": 1}, \"120\": {\"120\": 19, \"92\": 1}, \"128\": {\"128\": 30, \"100\": 1, \"19\": 1}, \"78\": {\"17\": 2, \"78\": 11, \"88\": 1, \"92\": 2}, \"58\": {\"58\": 15, \"65\": 1}, \"23\": {\"23\": 25, \"60\": 3, \"110\": 2, \"0\": 1, \"101\": 1}, \"15\": {\"15\": 102, \"105\": 1, \"69\": 1}, \"74\": {\"74\": 16}, \"34\": {\"34\": 28, \"124\": 1, \"107\": 1, \"91\": 1, \"41\": 1}, \"103\": {\"103\": 16}, \"106\": {\"106\": 100}, \"44\": {\"44\": 70, \"120\": 1, \"90\": 1}, \"9\": {\"9\": 30, \"26\": 1, \"120\": 1}, \"97\": {\"97\": 20}, \"123\": {\"123\": 14, \"86\": 1, \"114\": 1}, \"6\": {\"6\": 27, \"34\": 2, \"98\": 1, \"91\": 1, \"69\": 1}, \"68\": {\"68\": 16}, \"24\": {\"24\": 47, \"27\": 1}, \"21\": {\"21\": 41, \"2\": 1, \"70\": 1, \"60\": 1, \"31\": 1, \"30\": 1, \"18\": 1, \"69\": 1}, \"83\": {\"83\": 22, \"70\": 1, \"61\": 1}, \"60\": {\"60\": 28}, \"87\": {\"87\": 120}, \"30\": {\"30\": 80, \"116\": 1, \"114\": 1, \"17\": 1, \"69\": 1}, \"43\": {\"43\": 53, \"27\": 1, \"21\": 2}, \"115\": {\"115\": 16}, \"40\": {\"40\": 119, \"84\": 1}, \"112\": {\"112\": 13, \"16\": 1, \"53\": 1, \"69\": 1}, \"66\": {\"66\": 16}, \"110\": {\"110\": 91, \"7\": 1}, \"3\": {\"3\": 112, \"94\": 1, \"88\": 1}, \"20\": {\"20\": 16}, \"28\": {\"28\": 16}, \"84\": {\"84\": 104, \"69\": 1, \"89\": 1, \"26\": 1, \"39\": 1}, \"79\": {\"79\": 12}, \"118\": {\"118\": 95, \"12\": 1, \"70\": 1, \"113\": 2, \"39\": 1}, \"56\": {\"56\": 10, \"84\": 1, \"21\": 1}, \"48\": {\"48\": 11, \"59\": 3, \"6\": 1, \"79\": 1}, \"77\": {\"77\": 16}, \"14\": {\"14\": 80}, \"64\": {\"64\": 20}, \"67\": {\"67\": 15, \"69\": 1}, \"62\": {\"62\": 124}, \"75\": {\"75\": 16}, \"63\": {\"63\": 13, \"59\": 1, \"60\": 1, \"116\": 1}, \"7\": {\"7\": 112}, \"125\": {\"125\": 101, \"11\": 1, \"31\": 1, \"98\": 1}, \"37\": {\"37\": 16}, \"121\": {\"121\": 27, \"27\": 1, \"19\": 3, \"120\": 1}, \"16\": {\"16\": 102, \"127\": 1, \"26\": 1}, \"35\": {\"35\": 11, \"8\": 1}, \"32\": {\"32\": 30, \"14\": 1, \"38\": 1}, \"46\": {\"46\": 16}, \"70\": {\"70\": 68, \"88\": 2, \"84\": 1, \"69\": 1}, \"129\": {\"129\": 32}, \"95\": {\"95\": 31, \"84\": 1}, \"72\": {\"72\": 28}, \"19\": {\"19\": 31, \"100\": 1}, \"52\": {\"52\": 16}, \"100\": {\"100\": 15, \"69\": 1}, \"104\": {\"104\": 16}, \"59\": {\"59\": 12}, \"109\": {\"109\": 125, \"118\": 1}, \"88\": {\"88\": 107, \"69\": 1}, \"27\": {\"27\": 83, \"24\": 1, \"21\": 1, \"11\": 1, \"26\": 2, \"36\": 6}, \"113\": {\"113\": 118, \"84\": 1, \"82\": 1}, \"105\": {\"105\": 124}, \"71\": {\"71\": 66, \"127\": 2}, \"108\": {\"108\": 124}, \"41\": {\"41\": 16}, \"80\": {\"80\": 15, \"2\": 1}, \"13\": {\"63\": 1, \"13\": 11, \"18\": 2, \"70\": 2}, \"55\": {\"55\": 16}, \"0\": {\"0\": 103, \"71\": 1, \"98\": 2}, \"25\": {\"25\": 15, \"52\": 1}, \"53\": {\"53\": 20}, \"61\": {\"61\": 16}, \"38\": {\"38\": 16}, \"127\": {\"127\": 124, \"88\": 1, \"14\": 1, \"40\": 1, \"84\": 1}, \"4\": {\"4\": 93, \"84\": 1, \"11\": 1, \"88\": 1}, \"12\": {\"12\": 104}, \"126\": {\"126\": 120, \"88\": 1, \"70\": 1, \"39\": 2}, \"29\": {\"29\": 32}, \"107\": {\"107\": 135, \"124\": 1}, \"82\": {\"82\": 28}, \"94\": {\"94\": 83, \"18\": 1}, \"54\": {\"54\": 15, \"61\": 1}, \"10\": {\"10\": 127, \"106\": 1}, \"22\": {\"22\": 16}, \"119\": {\"119\": 16}}, \"Wisig_2\": {\"73\": {\"73\": 27, \"67\": 1}, \"40\": {\"40\": 127, \"69\": 3, \"88\": 2}, \"99\": {\"99\": 29, \"83\": 2, \"62\": 1}, \"5\": {\"5\": 107, \"69\": 3, \"88\": 1, \"33\": 1}, \"108\": {\"108\": 132}, \"128\": {\"128\": 16, \"98\": 2, \"46\": 2, \"100\": 2, \"114\": 1, \"17\": 1}, \"89\": {\"89\": 32, \"92\": 3, \"81\": 1}, \"107\": {\"107\": 52, \"108\": 1, \"21\": 2, \"84\": 1, \"70\": 1, \"67\": 2, \"71\": 1, \"15\": 1, \"94\": 1, \"40\": 2}, \"2\": {\"2\": 27, \"117\": 3, \"46\": 1, \"3\": 1}, \"78\": {\"78\": 42, \"21\": 2, \"70\": 4}, \"85\": {\"85\": 31, \"47\": 1}, \"44\": {\"44\": 100}, \"58\": {\"58\": 20}, \"57\": {\"57\": 16, \"46\": 1, \"40\": 1, \"88\": 1, \"116\": 1}, \"41\": {\"41\": 19, \"40\": 1}, \"53\": {\"53\": 16}, \"14\": {\"14\": 43, \"55\": 1, \"69\": 1, \"21\": 1, \"6\": 1, \"88\": 1}, \"83\": {\"83\": 38, \"69\": 1, \"7\": 1}, \"119\": {\"119\": 20}, \"95\": {\"95\": 35, \"88\": 1}, \"28\": {\"28\": 19, \"24\": 1}, \"19\": {\"19\": 27, \"82\": 1}, \"69\": {\"69\": 128, \"105\": 1, \"13\": 1, \"39\": 1, \"40\": 1}, \"93\": {\"93\": 131, \"125\": 1, \"26\": 1, \"16\": 1}, \"9\": {\"9\": 32}, \"118\": {\"118\": 66, \"14\": 1, \"109\": 1}, \"43\": {\"43\": 110, \"87\": 1, \"14\": 1, \"40\": 1, \"122\": 2, \"88\": 1}, \"47\": {\"47\": 12}, \"125\": {\"125\": 143, \"88\": 1}, \"29\": {\"29\": 32}, \"122\": {\"122\": 135, \"40\": 1, \"70\": 1, \"105\": 1, \"11\": 1, \"26\": 1}, \"46\": {\"46\": 16}, \"86\": {\"86\": 31, \"79\": 1}, \"70\": {\"70\": 109, \"87\": 3, \"21\": 2, \"78\": 2, \"62\": 1, \"88\": 4, \"3\": 1, \"109\": 1, \"39\": 1}, \"51\": {\"51\": 17, \"59\": 1, \"24\": 1, \"70\": 1}, \"23\": {\"122\": 1, \"23\": 35, \"8\": 1, \"121\": 1, \"110\": 3, \"87\": 1, \"93\": 2}, \"121\": {\"121\": 33, \"123\": 1, \"65\": 1, \"81\": 1}, \"63\": {\"21\": 1, \"63\": 17, \"13\": 1, \"39\": 1}, \"102\": {\"102\": 121, \"40\": 1}, \"21\": {\"21\": 48}, \"55\": {\"55\": 15, \"116\": 1}, \"54\": {\"54\": 20}, \"6\": {\"6\": 29, \"124\": 2, \"34\": 1}, \"109\": {\"109\": 85, \"88\": 2, \"78\": 2, \"70\": 3, \"75\": 1, \"107\": 1, \"87\": 1, \"39\": 5}, \"64\": {\"55\": 1, \"64\": 15}, \"20\": {\"20\": 15, \"83\": 1}, \"98\": {\"98\": 111, \"121\": 1, \"123\": 1, \"69\": 1}, \"92\": {\"92\": 25, \"76\": 1, \"13\": 1, \"129\": 1}, \"35\": {\"35\": 12}, \"113\": {\"113\": 63, \"121\": 1, \"109\": 1, \"26\": 1, \"24\": 1, \"62\": 2, \"107\": 1, \"21\": 1, \"70\": 1}, \"71\": {\"71\": 95, \"84\": 1, \"107\": 1, \"69\": 1, \"12\": 1, \"87\": 1}, \"94\": {\"94\": 53, \"71\": 1, \"87\": 1, \"107\": 1, \"26\": 2, \"69\": 1, \"72\": 1, \"59\": 1, \"88\": 1, \"106\": 1, \"24\": 1}, \"52\": {\"91\": 3, \"52\": 16, \"70\": 1}, \"116\": {\"116\": 27, \"82\": 1}, \"87\": {\"87\": 103, \"26\": 1, \"109\": 2, \"69\": 1, \"88\": 2, \"40\": 1, \"24\": 1, \"84\": 1}, \"90\": {\"90\": 148}, \"91\": {\"91\": 25, \"77\": 1, \"66\": 2}, \"84\": {\"84\": 88, \"107\": 1, \"7\": 1, \"11\": 1, \"26\": 1}, \"24\": {\"24\": 102, \"69\": 1, \"110\": 1, \"70\": 1, \"88\": 2, \"84\": 1, \"126\": 1, \"33\": 1, \"62\": 1, \"26\": 1}, \"33\": {\"33\": 131, \"69\": 3}, \"81\": {\"81\": 23, \"87\": 1}, \"115\": {\"115\": 10, \"67\": 1, \"84\": 1}, \"77\": {\"77\": 16}, \"106\": {\"106\": 116, \"21\": 1, \"62\": 1, \"90\": 1, \"24\": 1}, \"42\": {\"42\": 17, \"91\": 2, \"77\": 2, \"114\": 1, \"109\": 1, \"44\": 1, \"112\": 1, \"107\": 1, \"20\": 1, \"26\": 1}, \"38\": {\"38\": 16}, \"36\": {\"36\": 104, \"68\": 1, \"27\": 2, \"14\": 1, \"84\": 1, \"39\": 1, \"69\": 1, \"107\": 1, \"87\": 1, \"88\": 1}, \"79\": {\"79\": 15, \"104\": 1}, \"60\": {\"60\": 25, \"84\": 1, \"98\": 1, \"16\": 1}, \"80\": {\"80\": 15, \"120\": 1}, \"32\": {\"32\": 34, \"34\": 2}, \"0\": {\"0\": 115, \"87\": 1}, \"127\": {\"127\": 123, \"69\": 1}, \"114\": {\"114\": 114, \"13\": 1, \"117\": 1}, \"62\": {\"62\": 138, \"21\": 1, \"69\": 1}, \"129\": {\"129\": 32}, \"56\": {\"56\": 11, \"107\": 1}, \"76\": {\"76\": 16}, \"72\": {\"72\": 26, \"21\": 1, \"115\": 1}, \"88\": {\"88\": 123, \"70\": 1}, \"68\": {\"68\": 14, \"21\": 1, \"105\": 1}, \"67\": {\"67\": 14, \"75\": 2}, \"100\": {\"100\": 16}, \"34\": {\"34\": 20, \"14\": 1, \"52\": 3, \"91\": 2, \"21\": 1, \"32\": 1, \"24\": 1, \"66\": 1, \"28\": 1, \"89\": 1}, \"16\": {\"16\": 123, \"88\": 1}, \"126\": {\"126\": 120}, \"4\": {\"4\": 85, \"120\": 1, \"14\": 1, \"69\": 1}, \"101\": {\"101\": 146}, \"104\": {\"104\": 16, \"74\": 1, \"79\": 1, \"16\": 1, \"24\": 1}, \"30\": {\"67\": 1, \"30\": 105, \"28\": 1, \"0\": 1, \"14\": 1, \"40\": 1}, \"8\": {\"8\": 127, \"113\": 1}, \"82\": {\"82\": 34, \"16\": 1, \"70\": 1}, \"26\": {\"26\": 128, \"107\": 1, \"87\": 1, \"69\": 3, \"62\": 2, \"24\": 1, \"88\": 1, \"40\": 1}, \"96\": {\"96\": 20}, \"3\": {\"3\": 134, \"16\": 1, \"88\": 1}, \"25\": {\"25\": 13, \"21\": 1, \"126\": 1, \"49\": 1}, \"13\": {\"13\": 13, \"93\": 1, \"40\": 1, \"31\": 1}, \"37\": {\"37\": 13, \"45\": 2, \"40\": 1}, \"49\": {\"49\": 19, \"81\": 1, \"92\": 1, \"61\": 1, \"126\": 1, \"98\": 1}, \"111\": {\"111\": 136}, \"105\": {\"105\": 131, \"7\": 1}, \"17\": {\"17\": 12, \"61\": 1, \"31\": 1, \"26\": 1, \"37\": 1}, \"65\": {\"65\": 18, \"107\": 1, \"111\": 1}, \"123\": {\"123\": 13, \"124\": 1, \"48\": 1, \"11\": 1}, \"74\": {\"74\": 14, \"40\": 2}, \"97\": {\"97\": 16, \"15\": 1, \"121\": 1, \"85\": 1, \"25\": 1}, \"112\": {\"112\": 12, \"119\": 1, \"20\": 1, \"25\": 1, \"73\": 1}, \"120\": {\"120\": 19, \"121\": 1}, \"50\": {\"50\": 14, \"80\": 1, \"8\": 1}, \"59\": {\"59\": 15, \"24\": 1}, \"10\": {\"10\": 57, \"114\": 1, \"21\": 1, \"62\": 1}, \"45\": {\"45\": 15, \"88\": 1}, \"12\": {\"12\": 84, \"21\": 2, \"69\": 1, \"97\": 1}, \"75\": {\"51\": 2, \"75\": 13, \"40\": 1}, \"48\": {\"48\": 20}, \"61\": {\"61\": 18, \"69\": 1, \"88\": 1}, \"124\": {\"124\": 123, \"44\": 1}, \"11\": {\"11\": 77, \"69\": 2, \"40\": 1}, \"103\": {\"103\": 12, \"45\": 1, \"37\": 1, \"28\": 1, \"66\": 1}, \"7\": {\"7\": 126, \"107\": 1, \"110\": 1, \"69\": 1, \"40\": 1, \"105\": 2}, \"18\": {\"18\": 117, \"55\": 1, \"14\": 1, \"26\": 1}, \"31\": {\"31\": 20}, \"15\": {\"15\": 116, \"40\": 1, \"3\": 1}, \"1\": {\"1\": 119, \"107\": 1, \"39\": 1, \"75\": 1}, \"66\": {\"66\": 19, \"89\": 1}, \"110\": {\"110\": 31, \"114\": 1, \"94\": 1, \"122\": 2, \"26\": 1, \"12\": 1, \"62\": 2, \"127\": 1}, \"27\": {\"27\": 58, \"69\": 1, \"107\": 1, \"84\": 1, \"71\": 1, \"62\": 3, \"105\": 1, \"36\": 1, \"70\": 1}, \"22\": {\"22\": 18, \"3\": 1, \"15\": 1}, \"117\": {\"117\": 117, \"69\": 1, \"109\": 1, \"88\": 1}, \"39\": {\"39\": 103, \"109\": 3, \"26\": 1, \"0\": 1}}, \"Wisig_1\": {\"60\": {\"60\": 12, \"14\": 1, \"45\": 1, \"23\": 2}, \"59\": {\"104\": 1, \"59\": 8, \"6\": 1, \"91\": 1, \"128\": 1}, \"107\": {\"107\": 122, \"111\": 1, \"26\": 1}, \"113\": {\"113\": 123, \"105\": 1}, \"6\": {\"6\": 26, \"46\": 2, \"124\": 1, \"21\": 1, \"125\": 1, \"11\": 1}, \"24\": {\"24\": 89, \"108\": 1, \"88\": 1, \"62\": 1}, \"50\": {\"50\": 15, \"30\": 1}, \"62\": {\"62\": 119, \"70\": 1}, \"48\": {\"48\": 12}, \"104\": {\"104\": 16}, \"105\": {\"105\": 80, \"40\": 2, \"65\": 1, \"84\": 1}, \"44\": {\"44\": 76}, \"49\": {\"49\": 16, \"101\": 2, \"52\": 1, \"128\": 1}, \"55\": {\"55\": 12}, \"4\": {\"4\": 100}, \"76\": {\"76\": 16}, \"85\": {\"85\": 32}, \"89\": {\"89\": 36}, \"74\": {\"74\": 16}, \"112\": {\"112\": 16}, \"79\": {\"79\": 12}, \"0\": {\"0\": 83, \"84\": 1}, \"91\": {\"91\": 28}, \"118\": {\"118\": 83, \"16\": 1}, \"80\": {\"80\": 15, \"57\": 1}, \"64\": {\"64\": 16}, \"97\": {\"97\": 17, \"27\": 1, \"24\": 1, \"88\": 1}, \"84\": {\"84\": 124}, \"38\": {\"38\": 16}, \"30\": {\"30\": 52}, \"32\": {\"32\": 29, \"65\": 1, \"121\": 1, \"69\": 1}, \"72\": {\"72\": 32}, \"33\": {\"33\": 130, \"14\": 1, \"70\": 1}, \"34\": {\"34\": 27, \"91\": 2, \"98\": 3}, \"28\": {\"28\": 20}, \"123\": {\"123\": 14, \"17\": 1, \"2\": 1}, \"2\": {\"2\": 25, \"104\": 1, \"109\": 2, \"86\": 1, \"116\": 2, \"19\": 1}, \"70\": {\"70\": 124}, \"127\": {\"127\": 107, \"78\": 1}, \"110\": {\"110\": 125, \"114\": 1, \"84\": 1, \"109\": 1}, \"126\": {\"126\": 136}, \"13\": {\"13\": 16}, \"15\": {\"15\": 98, \"27\": 1, \"94\": 5}, \"29\": {\"29\": 28}, \"18\": {\"18\": 119, \"23\": 1}, \"7\": {\"7\": 142}, \"56\": {\"56\": 12}, \"98\": {\"98\": 108}, \"99\": {\"99\": 24}, \"77\": {\"77\": 15, \"20\": 1}, \"103\": {\"15\": 1, \"103\": 14, \"94\": 1}, \"128\": {\"128\": 18, \"49\": 2, \"72\": 2, \"29\": 1, \"89\": 1}, \"3\": {\"3\": 84, \"93\": 1, \"40\": 1, \"85\": 1, \"15\": 1}, \"121\": {\"121\": 31, \"2\": 1}, \"42\": {\"42\": 20, \"99\": 1, \"6\": 2, \"61\": 2, \"119\": 2, \"95\": 1}, \"90\": {\"90\": 120}, \"37\": {\"37\": 16}, \"120\": {\"84\": 1, \"120\": 17, \"21\": 1, \"127\": 1}, \"117\": {\"117\": 118}, \"9\": {\"9\": 32}, \"108\": {\"108\": 123, \"15\": 1}, \"83\": {\"83\": 27, \"20\": 1}, \"14\": {\"14\": 95, \"65\": 1}, \"63\": {\"63\": 15, \"116\": 1}, \"11\": {\"11\": 117, \"26\": 1}, \"95\": {\"95\": 36}, \"26\": {\"26\": 128, \"88\": 1, \"48\": 1}, \"22\": {\"22\": 16}, \"102\": {\"102\": 120}, \"69\": {\"69\": 101, \"109\": 2, \"105\": 1, \"114\": 1, \"26\": 1}, \"1\": {\"1\": 130}, \"67\": {\"67\": 16}, \"57\": {\"57\": 12}, \"8\": {\"8\": 132, \"40\": 1, \"35\": 1}, \"109\": {\"109\": 123, \"69\": 1}, \"129\": {\"102\": 3, \"129\": 19, \"116\": 1, \"89\": 1, \"13\": 2, \"81\": 1, \"2\": 1}, \"111\": {\"111\": 120}, \"71\": {\"71\": 99, \"109\": 1, \"12\": 2, \"114\": 2, \"26\": 1, \"27\": 1, \"70\": 1, \"124\": 1}, \"47\": {\"47\": 12}, \"82\": {\"82\": 36}, \"27\": {\"27\": 92}, \"19\": {\"19\": 27, \"29\": 1}, \"122\": {\"87\": 1, \"122\": 84, \"21\": 1, \"43\": 2}, \"53\": {\"53\": 20}, \"87\": {\"87\": 105, \"122\": 1, \"70\": 1, \"37\": 1}, \"100\": {\"100\": 16}, \"66\": {\"66\": 16}, \"31\": {\"31\": 16}, \"58\": {\"58\": 11, \"25\": 1}, \"68\": {\"68\": 16}, \"88\": {\"88\": 109, \"14\": 1, \"108\": 2, \"24\": 1, \"27\": 1}, \"45\": {\"45\": 5, \"2\": 2, \"109\": 1, \"124\": 1, \"84\": 1, \"128\": 2}, \"114\": {\"114\": 128}, \"23\": {\"122\": 1, \"23\": 16, \"12\": 1, \"87\": 1, \"110\": 1, \"84\": 2, \"106\": 2}, \"65\": {\"26\": 2, \"65\": 7, \"68\": 1, \"61\": 1, \"70\": 1}, \"124\": {\"124\": 118}, \"10\": {\"10\": 116, \"109\": 1, \"70\": 2, \"87\": 1}, \"92\": {\"92\": 28}, \"40\": {\"40\": 138, \"105\": 5, \"84\": 1}, \"73\": {\"73\": 18, \"109\": 1, \"108\": 1}, \"94\": {\"94\": 89, \"27\": 2, \"84\": 1}, \"81\": {\"81\": 28}, \"101\": {\"101\": 108, \"98\": 1, \"1\": 1}, \"86\": {\"86\": 33, \"21\": 1, \"105\": 1, \"81\": 1}, \"78\": {\"78\": 14, \"87\": 2}, \"96\": {\"96\": 20}, \"5\": {\"5\": 85, \"70\": 1, \"109\": 2}, \"16\": {\"16\": 104, \"69\": 2, \"21\": 1, \"105\": 1}, \"35\": {\"35\": 10, \"40\": 2}, \"51\": {\"51\": 16}, \"46\": {\"46\": 12}, \"20\": {\"20\": 16}, \"116\": {\"116\": 27, \"66\": 2, \"61\": 2, \"108\": 1}, \"75\": {\"75\": 16}, \"43\": {\"43\": 123, \"26\": 2, \"93\": 1, \"122\": 2}, \"17\": {\"17\": 15, \"81\": 1}, \"12\": {\"12\": 103, \"107\": 1}, \"25\": {\"25\": 16}, \"54\": {\"54\": 13, \"83\": 2, \"106\": 1}, \"36\": {\"36\": 109, \"26\": 1, \"105\": 1, \"84\": 1}, \"52\": {\"52\": 19, \"77\": 1}, \"61\": {\"61\": 12}, \"106\": {\"106\": 120}, \"39\": {\"39\": 101, \"109\": 1, \"62\": 2}, \"119\": {\"119\": 16}, \"125\": {\"125\": 148}, \"93\": {\"93\": 145, \"43\": 1, \"87\": 1, \"33\": 1}, \"115\": {\"115\": 12}, \"21\": {\"21\": 38, \"94\": 1, \"116\": 1}, \"41\": {\"41\": 16}}, \"Wisig_4\": {\"55\": {\"55\": 16}, \"9\": {\"9\": 28}, \"70\": {\"70\": 118, \"39\": 1, \"69\": 1, \"88\": 2}, \"112\": {\"112\": 12, \"83\": 2, \"9\": 2}, \"115\": {\"115\": 12, \"10\": 1, \"18\": 1, \"64\": 1, \"111\": 1}, \"56\": {\"56\": 11, \"61\": 1}, \"108\": {\"111\": 1, \"108\": 83, \"25\": 1, \"15\": 1, \"10\": 1, \"88\": 1, \"94\": 1, \"36\": 1, \"70\": 2}, \"117\": {\"117\": 121, \"88\": 1, \"124\": 1, \"61\": 1}, \"111\": {\"111\": 129, \"88\": 1, \"101\": 2}, \"71\": {\"71\": 94, \"69\": 1, \"3\": 1, \"114\": 1, \"15\": 1, \"9\": 1, \"36\": 1, \"113\": 1, \"10\": 2, \"84\": 1}, \"59\": {\"59\": 12}, \"10\": {\"10\": 111, \"70\": 8, \"88\": 2, \"27\": 1, \"78\": 1, \"1\": 1}, \"83\": {\"112\": 1, \"83\": 27}, \"116\": {\"116\": 27, \"107\": 1}, \"13\": {\"13\": 16}, \"4\": {\"4\": 103, \"69\": 1}, \"125\": {\"125\": 105, \"124\": 1}, \"102\": {\"102\": 122, \"105\": 1, \"108\": 1}, \"47\": {\"47\": 12}, \"28\": {\"28\": 20}, \"82\": {\"82\": 30, \"124\": 1, \"88\": 1}, \"60\": {\"60\": 32}, \"107\": {\"107\": 129, \"14\": 1, \"2\": 1, \"72\": 1, \"108\": 1, \"44\": 1}, \"75\": {\"75\": 16}, \"31\": {\"31\": 16}, \"92\": {\"92\": 28}, \"58\": {\"58\": 16}, \"113\": {\"113\": 122, \"21\": 1, \"84\": 1, \"110\": 1, \"70\": 1, \"126\": 1, \"108\": 1}, \"95\": {\"95\": 31, \"77\": 1}, \"14\": {\"14\": 110, \"126\": 1, \"105\": 1}, \"17\": {\"17\": 20}, \"104\": {\"104\": 16}, \"72\": {\"72\": 29, \"50\": 1, \"92\": 1, \"2\": 1}, \"69\": {\"69\": 124, \"88\": 1, \"21\": 1, \"105\": 1, \"84\": 1}, \"63\": {\"63\": 16}, \"12\": {\"12\": 97, \"111\": 1, \"103\": 1, \"84\": 1}, \"25\": {\"25\": 16}, \"67\": {\"67\": 5, \"17\": 1, \"76\": 1, \"44\": 2, \"40\": 2, \"92\": 2, \"123\": 1, \"85\": 1, \"2\": 1}, \"50\": {\"50\": 16}, \"43\": {\"43\": 114, \"23\": 1, \"70\": 1, \"87\": 1, \"88\": 2, \"118\": 1}, \"96\": {\"96\": 20}, \"128\": {\"128\": 19, \"98\": 1, \"41\": 1, \"100\": 2, \"21\": 1}, \"77\": {\"77\": 12}, \"54\": {\"54\": 16}, \"118\": {\"118\": 103, \"108\": 1, \"111\": 1, \"81\": 1, \"69\": 2, \"71\": 1, \"127\": 1, \"21\": 1, \"122\": 1}, \"30\": {\"30\": 69, \"36\": 1, \"10\": 1, \"15\": 4, \"27\": 1}, \"51\": {\"51\": 11, \"75\": 2, \"34\": 1, \"82\": 1, \"30\": 1}, \"122\": {\"122\": 79, \"10\": 1, \"30\": 1, \"43\": 1, \"84\": 1, \"40\": 1}, \"46\": {\"46\": 19, \"20\": 1}, \"79\": {\"79\": 16}, \"103\": {\"103\": 16}, \"74\": {\"103\": 1, \"74\": 14, \"91\": 1}, \"90\": {\"90\": 146}, \"8\": {\"8\": 139, \"1\": 1, \"33\": 1, \"88\": 1}, \"94\": {\"94\": 82, \"16\": 1, \"15\": 2, \"111\": 1, \"78\": 1, \"69\": 1}, \"7\": {\"7\": 119, \"36\": 1, \"43\": 1, \"118\": 1}, \"61\": {\"61\": 16}, \"26\": {\"26\": 119, \"30\": 1}, \"127\": {\"127\": 107, \"84\": 1}, \"23\": {\"23\": 9, \"93\": 1, \"21\": 1, \"14\": 1, \"122\": 2, \"72\": 2}, \"1\": {\"1\": 100, \"107\": 2, \"114\": 3, \"88\": 1, \"10\": 1, \"7\": 1}, \"93\": {\"93\": 133, \"11\": 1}, \"106\": {\"106\": 106, \"71\": 1, \"18\": 1, \"84\": 1, \"1\": 1, \"39\": 1, \"88\": 1, \"70\": 1, \"69\": 1, \"21\": 1, \"26\": 1}, \"110\": {\"110\": 117, \"39\": 1}, \"76\": {\"76\": 16}, \"36\": {\"36\": 118, \"97\": 1, \"105\": 1}, \"21\": {\"21\": 37, \"84\": 1, \"3\": 1, \"81\": 1}, \"37\": {\"37\": 15, \"28\": 1}, \"11\": {\"11\": 119, \"6\": 1}, \"109\": {\"109\": 115, \"24\": 1}, \"62\": {\"21\": 1, \"62\": 54, \"81\": 1, \"113\": 2, \"84\": 1, \"69\": 1}, \"89\": {\"89\": 31, \"1\": 1}, \"126\": {\"126\": 116, \"84\": 2, \"39\": 3, \"16\": 1, \"105\": 1, \"113\": 1}, \"101\": {\"101\": 123, \"88\": 3, \"1\": 2}, \"65\": {\"65\": 12}, \"19\": {\"19\": 26, \"129\": 1, \"121\": 1}, \"27\": {\"27\": 97, \"70\": 2, \"69\": 1}, \"5\": {\"5\": 133, \"21\": 1, \"88\": 1, \"1\": 1}, \"73\": {\"19\": 2, \"73\": 20, \"95\": 1, \"46\": 1}, \"6\": {\"6\": 23, \"59\": 1}, \"29\": {\"29\": 32}, \"114\": {\"114\": 127, \"105\": 1}, \"49\": {\"49\": 24, \"106\": 2, \"51\": 1, \"53\": 1, \"114\": 3, \"12\": 1}, \"16\": {\"16\": 115, \"70\": 1, \"88\": 1, \"69\": 1}, \"68\": {\"68\": 16}, \"98\": {\"98\": 118, \"69\": 1, \"101\": 1}, \"64\": {\"64\": 16}, \"121\": {\"121\": 28, \"19\": 1, \"61\": 1, \"44\": 2}, \"124\": {\"124\": 114}, \"97\": {\"97\": 20}, \"40\": {\"40\": 136}, \"119\": {\"119\": 16}, \"100\": {\"119\": 1, \"89\": 1, \"100\": 15, \"88\": 1, \"128\": 2}, \"87\": {\"87\": 116}, \"88\": {\"88\": 115, \"23\": 1, \"108\": 2, \"26\": 1, \"70\": 5, \"105\": 2, \"21\": 1, \"1\": 1}, \"52\": {\"52\": 15, \"128\": 1, \"78\": 1, \"109\": 1, \"53\": 1, \"30\": 1}, \"80\": {\"80\": 15, \"69\": 1}, \"105\": {\"105\": 98, \"69\": 1, \"88\": 1}, \"32\": {\"14\": 1, \"32\": 27}, \"35\": {\"35\": 12}, \"99\": {\"99\": 39, \"1\": 1}, \"18\": {\"18\": 118, \"16\": 1, \"30\": 1}, \"24\": {\"24\": 109, \"70\": 2, \"27\": 1}, \"85\": {\"85\": 26, \"26\": 1, \"98\": 1}, \"39\": {\"39\": 96, \"106\": 1, \"40\": 1, \"110\": 1, \"109\": 1}, \"123\": {\"123\": 16}, \"91\": {\"91\": 24}, \"78\": {\"78\": 31, \"21\": 1, \"72\": 1, \"69\": 1, \"70\": 1, \"26\": 1}, \"38\": {\"38\": 16}, \"15\": {\"15\": 124, \"69\": 2, \"18\": 1, \"26\": 1}, \"48\": {\"48\": 16}, \"45\": {\"45\": 16}, \"120\": {\"120\": 18, \"37\": 1, \"45\": 1}, \"44\": {\"44\": 64}, \"86\": {\"86\": 26, \"65\": 1, \"21\": 1}, \"20\": {\"20\": 16}, \"33\": {\"33\": 147, \"111\": 1, \"21\": 1, \"10\": 1}, \"129\": {\"129\": 26, \"73\": 2}, \"34\": {\"106\": 3, \"34\": 22, \"32\": 1, \"14\": 1, \"91\": 1, \"45\": 2, \"25\": 2}, \"81\": {\"81\": 35, \"21\": 1}, \"57\": {\"57\": 12, \"24\": 1, \"128\": 2, \"70\": 1}, \"0\": {\"0\": 110, \"84\": 1, \"87\": 3, \"95\": 1, \"106\": 1}, \"2\": {\"2\": 28}, \"42\": {\"42\": 24, \"5\": 1, \"83\": 1, \"61\": 1, \"124\": 1}, \"84\": {\"84\": 128, \"70\": 1, \"88\": 1, \"26\": 1, \"125\": 1}, \"3\": {\"3\": 118, \"21\": 1, \"71\": 1, \"69\": 1, \"72\": 1, \"78\": 1, \"88\": 1, \"11\": 1, \"98\": 1}, \"41\": {\"41\": 15, \"21\": 1}, \"53\": {\"53\": 13, \"41\": 1, \"122\": 1, \"52\": 1}, \"66\": {\"66\": 16}, \"22\": {\"22\": 15, \"92\": 1}}, \"ORACLE.run150\": {\"7\": {\"5\": 140, \"4\": 407, \"7\": 363, \"9\": 71, \"15\": 90, \"6\": 69, \"11\": 10, \"12\": 19, \"3\": 28, \"13\": 3}, \"10\": {\"0\": 192, \"10\": 313, \"8\": 226, \"1\": 159, \"2\": 102, \"14\": 120, \"13\": 77, \"5\": 1, \"3\": 4, \"11\": 4, \"12\": 2}, \"0\": {\"14\": 279, \"8\": 96, \"2\": 258, \"10\": 205, \"0\": 293, \"1\": 50, \"3\": 3, \"13\": 12, \"12\": 3, \"11\": 1}, \"11\": {\"11\": 231, \"6\": 124, \"12\": 152, \"1\": 44, \"3\": 159, \"4\": 9, \"15\": 119, \"9\": 129, \"13\": 106, \"5\": 91, \"8\": 19, \"10\": 4, \"7\": 13}, \"2\": {\"14\": 344, \"2\": 353, \"0\": 276, \"10\": 132, \"8\": 60, \"1\": 23, \"13\": 11, \"12\": 1}, \"14\": {\"14\": 375, \"0\": 296, \"2\": 336, \"10\": 133, \"8\": 37, \"1\": 20, \"12\": 1, \"11\": 1, \"13\": 1}, \"9\": {\"9\": 222, \"13\": 21, \"12\": 230, \"3\": 105, \"11\": 124, \"15\": 112, \"6\": 134, \"4\": 77, \"5\": 106, \"7\": 61, \"1\": 7, \"8\": 1}, \"13\": {\"13\": 313, \"3\": 122, \"10\": 40, \"1\": 254, \"6\": 53, \"9\": 29, \"8\": 155, \"12\": 30, \"15\": 42, \"11\": 122, \"5\": 29, \"0\": 5, \"2\": 1, \"4\": 3, \"14\": 2}, \"8\": {\"10\": 212, \"0\": 82, \"13\": 153, \"12\": 22, \"8\": 262, \"2\": 48, \"1\": 283, \"9\": 12, \"3\": 23, \"11\": 40, \"14\": 47, \"5\": 4, \"6\": 9, \"15\": 3}, \"15\": {\"13\": 41, \"3\": 166, \"1\": 8, \"12\": 89, \"11\": 137, \"9\": 136, \"5\": 162, \"6\": 184, \"4\": 59, \"15\": 150, \"7\": 65, \"8\": 3}, \"4\": {\"6\": 41, \"7\": 383, \"4\": 407, \"9\": 72, \"11\": 9, \"5\": 161, \"15\": 74, \"12\": 30, \"3\": 23}, \"5\": {\"6\": 142, \"4\": 182, \"9\": 96, \"3\": 97, \"5\": 172, \"12\": 43, \"7\": 205, \"15\": 141, \"13\": 44, \"11\": 59, \"1\": 12, \"8\": 6, \"10\": 1}, \"3\": {\"11\": 145, \"6\": 178, \"12\": 72, \"3\": 208, \"5\": 101, \"7\": 32, \"15\": 165, \"13\": 114, \"9\": 104, \"8\": 19, \"4\": 33, \"1\": 29}, \"1\": {\"0\": 57, \"2\": 12, \"13\": 282, \"1\": 290, \"8\": 203, \"3\": 43, \"6\": 22, \"10\": 137, \"11\": 73, \"12\": 24, \"14\": 20, \"15\": 18, \"9\": 9, \"5\": 10}, \"6\": {\"3\": 153, \"6\": 188, \"15\": 180, \"12\": 94, \"5\": 142, \"4\": 62, \"9\": 148, \"11\": 133, \"7\": 56, \"13\": 33, \"8\": 3, \"1\": 8}, \"12\": {\"9\": 277, \"12\": 403, \"11\": 137, \"3\": 68, \"5\": 51, \"6\": 99, \"15\": 76, \"7\": 23, \"1\": 12, \"13\": 20, \"4\": 26, \"8\": 6, \"10\": 1, \"0\": 1}}, \"ORACLE.run114\": {\"14\": {\"3\": 115, \"0\": 146, \"6\": 137, \"2\": 150, \"14\": 194, \"7\": 86, \"10\": 18, \"5\": 102, \"12\": 36, \"13\": 141, \"8\": 43, \"4\": 32}, \"6\": {\"3\": 166, \"6\": 281, \"0\": 108, \"13\": 233, \"7\": 94, \"2\": 82, \"14\": 158, \"5\": 33, \"10\": 3, \"15\": 16, \"12\": 6, \"8\": 17, \"4\": 3}, \"5\": {\"5\": 152, \"12\": 99, \"8\": 129, \"0\": 139, \"14\": 105, \"7\": 118, \"2\": 137, \"4\": 107, \"10\": 52, \"13\": 55, \"3\": 54, \"6\": 37, \"1\": 9, \"9\": 7}, \"15\": {\"15\": 1177, \"6\": 9, \"13\": 11, \"3\": 2, \"7\": 1}, \"11\": {\"11\": 1122, \"9\": 30, \"1\": 43, \"10\": 5}, \"8\": {\"8\": 332, \"4\": 67, \"3\": 72, \"0\": 96, \"14\": 42, \"7\": 161, \"10\": 14, \"13\": 22, \"5\": 131, \"12\": 189, \"2\": 53, \"1\": 4, \"9\": 5, \"6\": 12}, \"12\": {\"12\": 227, \"0\": 104, \"5\": 136, \"3\": 32, \"14\": 50, \"8\": 199, \"4\": 143, \"13\": 23, \"7\": 71, \"1\": 22, \"10\": 56, \"9\": 30, \"2\": 92, \"6\": 15}, \"1\": {\"9\": 348, \"10\": 204, \"1\": 452, \"4\": 84, \"12\": 56, \"2\": 11, \"5\": 14, \"0\": 7, \"8\": 18, \"14\": 2, \"13\": 2, \"11\": 1, \"7\": 1}, \"2\": {\"14\": 161, \"9\": 13, \"13\": 83, \"6\": 88, \"2\": 166, \"5\": 101, \"4\": 87, \"3\": 87, \"10\": 81, \"12\": 49, \"0\": 124, \"7\": 87, \"8\": 62, \"1\": 9, \"15\": 2}, \"13\": {\"6\": 232, \"12\": 20, \"0\": 92, \"13\": 184, \"4\": 28, \"10\": 30, \"3\": 132, \"5\": 60, \"15\": 94, \"7\": 79, \"14\": 122, \"9\": 7, \"2\": 96, \"8\": 23, \"1\": 1}, \"3\": {\"5\": 71, \"3\": 188, \"7\": 161, \"6\": 163, \"14\": 144, \"0\": 136, \"13\": 141, \"8\": 81, \"15\": 11, \"12\": 23, \"2\": 76, \"4\": 4, \"10\": 1}, \"0\": {\"3\": 120, \"7\": 114, \"13\": 104, \"5\": 119, \"0\": 133, \"12\": 54, \"6\": 105, \"10\": 29, \"2\": 120, \"14\": 156, \"4\": 58, \"8\": 79, \"9\": 4, \"1\": 2, \"15\": 3}, \"9\": {\"9\": 381, \"10\": 195, \"1\": 365, \"12\": 87, \"4\": 99, \"8\": 36, \"5\": 12, \"0\": 9, \"13\": 3, \"14\": 4, \"2\": 7, \"7\": 2}, \"4\": {\"10\": 203, \"4\": 227, \"7\": 33, \"8\": 89, \"12\": 167, \"5\": 114, \"14\": 50, \"2\": 104, \"3\": 13, \"1\": 62, \"9\": 54, \"13\": 15, \"0\": 60, \"6\": 9}, \"7\": {\"7\": 228, \"8\": 157, \"0\": 96, \"5\": 124, \"14\": 93, \"13\": 104, \"12\": 68, \"3\": 141, \"6\": 76, \"2\": 80, \"4\": 24, \"10\": 5, \"15\": 1, \"1\": 3}, \"10\": {\"10\": 353, \"1\": 171, \"2\": 69, \"4\": 219, \"0\": 26, \"9\": 129, \"5\": 59, \"8\": 31, \"12\": 88, \"13\": 14, \"7\": 7, \"14\": 27, \"6\": 5, \"3\": 2}}, \"ORACLE.run132\": {\"4\": {\"1\": 152, \"2\": 220, \"3\": 176, \"4\": 190, \"9\": 63, \"14\": 72, \"5\": 11, \"8\": 64, \"13\": 136, \"11\": 38, \"7\": 18, \"15\": 3, \"0\": 54, \"12\": 3}, \"14\": {\"7\": 204, \"5\": 177, \"8\": 130, \"0\": 176, \"14\": 233, \"15\": 27, \"1\": 48, \"4\": 56, \"2\": 114, \"13\": 9, \"3\": 22, \"11\": 1, \"9\": 3}, \"5\": {\"7\": 282, \"5\": 268, \"2\": 22, \"0\": 197, \"1\": 12, \"15\": 96, \"8\": 147, \"14\": 157, \"4\": 10, \"13\": 4, \"3\": 5}, \"10\": {\"11\": 68, \"12\": 302, \"10\": 581, \"9\": 49, \"6\": 171, \"3\": 15, \"13\": 12, \"1\": 1, \"4\": 1}, \"13\": {\"3\": 220, \"4\": 144, \"9\": 162, \"1\": 117, \"13\": 251, \"2\": 93, \"11\": 91, \"5\": 3, \"12\": 52, \"8\": 27, \"14\": 15, \"0\": 15, \"15\": 3, \"7\": 4, \"10\": 3}, \"9\": {\"12\": 142, \"13\": 164, \"1\": 67, \"4\": 83, \"11\": 221, \"9\": 256, \"10\": 49, \"5\": 4, \"3\": 128, \"2\": 51, \"15\": 1, \"8\": 7, \"6\": 18, \"14\": 6, \"7\": 2, \"0\": 1}, \"6\": {\"12\": 98, \"11\": 38, \"6\": 788, \"10\": 253, \"9\": 19, \"13\": 2, \"2\": 1, \"3\": 1}, \"3\": {\"9\": 116, \"4\": 189, \"3\": 248, \"13\": 214, \"5\": 6, \"1\": 185, \"2\": 94, \"11\": 56, \"15\": 5, \"14\": 23, \"8\": 32, \"12\": 10, \"7\": 5, \"0\": 15, \"10\": 2}, \"15\": {\"15\": 758, \"8\": 135, \"14\": 17, \"0\": 83, \"1\": 29, \"5\": 110, \"7\": 58, \"2\": 2, \"3\": 4, \"13\": 2, \"4\": 2}, \"7\": {\"8\": 142, \"7\": 300, \"0\": 214, \"14\": 209, \"2\": 31, \"15\": 37, \"5\": 229, \"4\": 19, \"1\": 14, \"13\": 3, \"3\": 2}, \"12\": {\"11\": 157, \"12\": 411, \"10\": 279, \"4\": 18, \"9\": 169, \"1\": 14, \"13\": 55, \"6\": 53, \"3\": 41, \"2\": 3}, \"8\": {\"1\": 100, \"7\": 109, \"5\": 138, \"15\": 122, \"0\": 161, \"14\": 137, \"8\": 245, \"4\": 47, \"2\": 63, \"3\": 50, \"13\": 19, \"9\": 4, \"11\": 5}, \"11\": {\"11\": 390, \"9\": 266, \"13\": 128, \"4\": 51, \"3\": 90, \"10\": 32, \"8\": 3, \"12\": 158, \"2\": 43, \"1\": 28, \"6\": 3, \"0\": 3, \"14\": 4, \"5\": 1}, \"2\": {\"2\": 288, \"0\": 88, \"14\": 129, \"11\": 14, \"1\": 107, \"13\": 73, \"3\": 100, \"8\": 66, \"7\": 53, \"4\": 195, \"5\": 35, \"15\": 11, \"9\": 41}, \"1\": {\"7\": 27, \"3\": 197, \"15\": 44, \"14\": 54, \"13\": 142, \"1\": 213, \"4\": 156, \"2\": 128, \"9\": 46, \"8\": 99, \"12\": 4, \"0\": 48, \"5\": 27, \"11\": 15}, \"0\": {\"8\": 162, \"1\": 52, \"14\": 176, \"0\": 213, \"5\": 180, \"15\": 91, \"2\": 60, \"7\": 217, \"4\": 24, \"3\": 19, \"13\": 5, \"9\": 1}}, \"ORACLE.run144\": {\"8\": {\"2\": 92, \"0\": 202, \"14\": 79, \"8\": 258, \"15\": 183, \"1\": 147, \"5\": 88, \"12\": 15, \"3\": 31, \"7\": 15, \"4\": 48, \"10\": 37, \"9\": 5}, \"11\": {\"11\": 1044, \"13\": 112, \"6\": 40, \"9\": 4}, \"14\": {\"5\": 151, \"15\": 122, \"10\": 127, \"1\": 58, \"4\": 145, \"0\": 13, \"7\": 132, \"2\": 99, \"14\": 168, \"8\": 61, \"9\": 82, \"13\": 19, \"6\": 23}, \"10\": {\"5\": 122, \"10\": 164, \"2\": 94, \"6\": 57, \"9\": 155, \"4\": 144, \"7\": 172, \"14\": 139, \"15\": 54, \"13\": 26, \"1\": 40, \"0\": 12, \"8\": 16, \"12\": 3, \"11\": 2}, \"3\": {\"12\": 435, \"3\": 482, \"1\": 50, \"15\": 5, \"0\": 144, \"8\": 58, \"2\": 22, \"14\": 1, \"5\": 2, \"4\": 1}, \"15\": {\"15\": 221, \"10\": 70, \"5\": 132, \"14\": 134, \"8\": 171, \"0\": 82, \"1\": 120, \"7\": 47, \"4\": 103, \"9\": 24, \"2\": 88, \"3\": 4, \"6\": 2, \"12\": 2}, \"2\": {\"4\": 68, \"14\": 94, \"1\": 170, \"5\": 98, \"15\": 74, \"2\": 327, \"3\": 7, \"7\": 63, \"8\": 77, \"10\": 70, \"6\": 6, \"0\": 96, \"9\": 39, \"12\": 9, \"13\": 2}, \"12\": {\"1\": 30, \"0\": 101, \"3\": 481, \"12\": 538, \"2\": 23, \"8\": 19, \"15\": 6, \"5\": 2}, \"4\": {\"9\": 109, \"8\": 46, \"13\": 59, \"1\": 61, \"0\": 24, \"7\": 136, \"4\": 142, \"14\": 138, \"10\": 141, \"5\": 101, \"6\": 71, \"15\": 90, \"11\": 1, \"2\": 80, \"12\": 1}, \"1\": {\"1\": 236, \"2\": 238, \"8\": 150, \"5\": 65, \"15\": 134, \"7\": 23, \"0\": 144, \"4\": 32, \"10\": 35, \"9\": 26, \"12\": 28, \"14\": 54, \"3\": 35}, \"0\": {\"15\": 108, \"0\": 296, \"2\": 88, \"3\": 122, \"1\": 209, \"12\": 63, \"8\": 212, \"5\": 35, \"14\": 29, \"4\": 19, \"7\": 8, \"10\": 9, \"9\": 2}, \"9\": {\"9\": 149, \"2\": 63, \"13\": 162, \"7\": 143, \"10\": 140, \"5\": 64, \"14\": 98, \"6\": 183, \"4\": 100, \"1\": 31, \"11\": 30, \"15\": 28, \"8\": 7, \"0\": 2}, \"5\": {\"4\": 139, \"7\": 113, \"15\": 128, \"5\": 141, \"8\": 81, \"10\": 137, \"14\": 153, \"1\": 65, \"9\": 95, \"6\": 17, \"0\": 20, \"13\": 11, \"2\": 98, \"3\": 1, \"12\": 1}, \"6\": {\"9\": 190, \"13\": 292, \"6\": 421, \"4\": 50, \"15\": 4, \"14\": 16, \"7\": 99, \"11\": 43, \"10\": 72, \"5\": 11, \"2\": 2}, \"7\": {\"9\": 186, \"15\": 34, \"2\": 54, \"7\": 207, \"10\": 163, \"5\": 93, \"4\": 139, \"6\": 120, \"14\": 131, \"1\": 20, \"13\": 51, \"8\": 1, \"0\": 1}, \"13\": {\"11\": 137, \"9\": 140, \"13\": 412, \"4\": 50, \"6\": 333, \"7\": 66, \"14\": 8, \"5\": 17, \"10\": 36, \"2\": 1}}, \"ORACLE.run18\": {\"13\": {\"13\": 204, \"7\": 160, \"1\": 127, \"11\": 66, \"10\": 163, \"8\": 46, \"5\": 186, \"4\": 50, \"14\": 13, \"15\": 15, \"6\": 136, \"12\": 26, \"2\": 8}, \"3\": {\"3\": 621, \"9\": 216, \"12\": 40, \"2\": 218, \"15\": 105}, \"15\": {\"3\": 76, \"12\": 419, \"15\": 388, \"2\": 278, \"9\": 16, \"13\": 7, \"7\": 4, \"5\": 8, \"10\": 1, \"8\": 1, \"1\": 1, \"6\": 1}, \"4\": {\"8\": 152, \"4\": 219, \"14\": 179, \"6\": 135, \"11\": 102, \"5\": 73, \"10\": 86, \"13\": 54, \"7\": 101, \"1\": 93, \"0\": 6}, \"7\": {\"5\": 126, \"4\": 80, \"1\": 137, \"13\": 154, \"6\": 152, \"10\": 163, \"7\": 170, \"11\": 108, \"8\": 75, \"14\": 24, \"12\": 7, \"15\": 3, \"2\": 1}, \"2\": {\"15\": 258, \"3\": 222, \"2\": 372, \"12\": 225, \"9\": 95, \"5\": 10, \"6\": 2, \"13\": 6, \"10\": 5, \"7\": 4, \"8\": 1}, \"1\": {\"1\": 168, \"7\": 138, \"11\": 138, \"8\": 116, \"14\": 31, \"5\": 137, \"10\": 122, \"6\": 143, \"4\": 79, \"13\": 118, \"12\": 9, \"2\": 1}, \"0\": {\"0\": 1007, \"14\": 125, \"8\": 18, \"4\": 38, \"1\": 1, \"6\": 2, \"11\": 8, \"7\": 1}, \"12\": {\"15\": 408, \"12\": 441, \"2\": 229, \"10\": 9, \"13\": 17, \"3\": 58, \"7\": 6, \"8\": 2, \"11\": 2, \"6\": 2, \"5\": 18, \"1\": 3, \"9\": 5}, \"6\": {\"4\": 84, \"14\": 39, \"11\": 135, \"7\": 141, \"10\": 142, \"6\": 146, \"13\": 129, \"5\": 132, \"8\": 107, \"1\": 141, \"12\": 4}, \"11\": {\"1\": 158, \"4\": 127, \"5\": 84, \"6\": 122, \"8\": 200, \"7\": 107, \"11\": 162, \"13\": 79, \"10\": 95, \"14\": 61, \"0\": 2, \"12\": 1, \"15\": 2}, \"9\": {\"9\": 858, \"3\": 254, \"2\": 74, \"15\": 12, \"12\": 2}, \"5\": {\"5\": 169, \"10\": 146, \"6\": 142, \"7\": 154, \"12\": 37, \"4\": 49, \"1\": 111, \"13\": 171, \"8\": 70, \"11\": 97, \"15\": 25, \"14\": 20, \"2\": 9}, \"10\": {\"13\": 154, \"5\": 167, \"10\": 175, \"8\": 65, \"7\": 188, \"1\": 118, \"11\": 77, \"6\": 145, \"4\": 70, \"15\": 2, \"14\": 26, \"12\": 9, \"2\": 4}, \"14\": {\"14\": 355, \"4\": 223, \"10\": 39, \"8\": 158, \"1\": 69, \"13\": 21, \"5\": 30, \"6\": 89, \"0\": 36, \"11\": 138, \"7\": 42}, \"8\": {\"6\": 116, \"5\": 54, \"4\": 180, \"8\": 221, \"10\": 65, \"7\": 75, \"11\": 169, \"14\": 130, \"1\": 146, \"13\": 44}}, \"ORACLE.run120\": {\"6\": {\"15\": 75, \"9\": 74, \"13\": 57, \"2\": 96, \"1\": 80, \"5\": 81, \"6\": 124, \"4\": 112, \"14\": 92, \"3\": 80, \"10\": 90, \"8\": 53, \"12\": 75, \"7\": 91, \"0\": 14, \"11\": 6}, \"11\": {\"0\": 343, \"8\": 78, \"3\": 68, \"11\": 502, \"5\": 47, \"7\": 14, \"1\": 23, \"15\": 18, \"14\": 50, \"2\": 10, \"9\": 28, \"6\": 9, \"4\": 1, \"12\": 3, \"10\": 2, \"13\": 4}, \"5\": {\"1\": 107, \"7\": 68, \"14\": 89, \"9\": 116, \"5\": 110, \"12\": 72, \"3\": 98, \"0\": 52, \"4\": 56, \"6\": 86, \"8\": 98, \"2\": 74, \"11\": 30, \"10\": 29, \"13\": 40, \"15\": 75}, \"14\": {\"0\": 84, \"13\": 17, \"6\": 104, \"3\": 122, \"1\": 68, \"7\": 74, \"4\": 61, \"14\": 167, \"11\": 31, \"9\": 73, \"8\": 149, \"5\": 98, \"2\": 48, \"10\": 31, \"15\": 36, \"12\": 37}, \"2\": {\"1\": 90, \"6\": 101, \"15\": 116, \"9\": 94, \"13\": 121, \"7\": 88, \"4\": 88, \"2\": 110, \"5\": 79, \"0\": 19, \"12\": 98, \"10\": 70, \"8\": 27, \"14\": 43, \"3\": 49, \"11\": 7}, \"7\": {\"9\": 98, \"8\": 49, \"0\": 25, \"13\": 64, \"5\": 89, \"1\": 100, \"2\": 92, \"3\": 68, \"10\": 67, \"4\": 86, \"15\": 101, \"6\": 96, \"11\": 12, \"7\": 105, \"12\": 90, \"14\": 58}, \"3\": {\"9\": 101, \"6\": 75, \"3\": 127, \"8\": 105, \"5\": 114, \"4\": 40, \"12\": 66, \"7\": 73, \"11\": 42, \"10\": 19, \"14\": 109, \"0\": 70, \"1\": 92, \"2\": 59, \"15\": 63, \"13\": 45}, \"4\": {\"14\": 53, \"2\": 125, \"9\": 67, \"10\": 158, \"1\": 67, \"7\": 85, \"4\": 138, \"12\": 92, \"5\": 54, \"13\": 76, \"8\": 43, \"15\": 75, \"3\": 56, \"6\": 102, \"0\": 7, \"11\": 2}, \"9\": {\"1\": 85, \"2\": 93, \"7\": 96, \"15\": 90, \"10\": 39, \"5\": 87, \"3\": 107, \"8\": 65, \"4\": 54, \"12\": 84, \"6\": 72, \"0\": 37, \"9\": 114, \"14\": 84, \"13\": 63, \"11\": 30}, \"12\": {\"5\": 74, \"3\": 49, \"9\": 97, \"7\": 88, \"13\": 124, \"1\": 88, \"4\": 90, \"10\": 69, \"2\": 114, \"15\": 108, \"14\": 42, \"6\": 86, \"12\": 113, \"0\": 16, \"11\": 4, \"8\": 38}, \"0\": {\"8\": 144, \"11\": 313, \"0\": 298, \"1\": 40, \"5\": 62, \"14\": 99, \"6\": 28, \"9\": 39, \"3\": 97, \"12\": 15, \"15\": 19, \"7\": 19, \"2\": 18, \"4\": 5, \"13\": 4}, \"10\": {\"5\": 23, \"10\": 298, \"4\": 162, \"0\": 2, \"13\": 128, \"12\": 94, \"2\": 83, \"7\": 81, \"1\": 34, \"15\": 52, \"6\": 115, \"3\": 27, \"8\": 17, \"14\": 34, \"9\": 49, \"11\": 1}, \"8\": {\"14\": 161, \"7\": 66, \"5\": 95, \"0\": 116, \"6\": 59, \"2\": 47, \"3\": 121, \"12\": 42, \"4\": 40, \"1\": 77, \"8\": 171, \"11\": 53, \"9\": 83, \"13\": 8, \"15\": 46, \"10\": 15}, \"13\": {\"10\": 91, \"14\": 19, \"6\": 73, \"9\": 74, \"2\": 121, \"4\": 96, \"1\": 79, \"3\": 32, \"13\": 204, \"15\": 117, \"12\": 131, \"7\": 90, \"5\": 50, \"8\": 13, \"0\": 9, \"11\": 1}, \"1\": {\"8\": 75, \"9\": 96, \"0\": 47, \"5\": 98, \"6\": 94, \"13\": 64, \"4\": 59, \"1\": 102, \"11\": 24, \"15\": 89, \"14\": 72, \"3\": 82, \"2\": 94, \"12\": 79, \"10\": 33, \"7\": 92}, \"15\": {\"12\": 92, \"7\": 94, \"9\": 98, \"15\": 120, \"1\": 106, \"6\": 78, \"4\": 109, \"3\": 60, \"5\": 60, \"2\": 104, \"0\": 10, \"13\": 114, \"14\": 42, \"10\": 62, \"8\": 45, \"11\": 6}}, \"ORACLE.run138\": {\"3\": {\"3\": 968, \"0\": 22, \"11\": 172, \"10\": 34, \"13\": 4}, \"8\": {\"14\": 87, \"9\": 122, \"5\": 217, \"8\": 215, \"10\": 3, \"12\": 120, \"7\": 103, \"2\": 125, \"13\": 27, \"6\": 5, \"15\": 144, \"1\": 3, \"0\": 14, \"4\": 15}, \"0\": {\"0\": 260, \"13\": 255, \"9\": 25, \"10\": 278, \"14\": 68, \"2\": 62, \"4\": 62, \"7\": 86, \"5\": 7, \"3\": 79, \"8\": 5, \"11\": 13}, \"2\": {\"9\": 140, \"2\": 215, \"0\": 70, \"12\": 21, \"4\": 40, \"5\": 108, \"13\": 92, \"7\": 218, \"14\": 174, \"8\": 99, \"10\": 20, \"15\": 3}, \"4\": {\"4\": 725, \"10\": 102, \"0\": 78, \"14\": 156, \"7\": 71, \"13\": 34, \"2\": 26, \"12\": 5, \"8\": 3}, \"7\": {\"5\": 60, \"7\": 243, \"2\": 236, \"4\": 79, \"9\": 86, \"8\": 91, \"13\": 95, \"14\": 214, \"0\": 59, \"10\": 14, \"12\": 23}, \"12\": {\"8\": 149, \"15\": 98, \"12\": 728, \"9\": 5, \"5\": 102, \"14\": 41, \"7\": 36, \"2\": 23, \"1\": 5, \"4\": 7, \"6\": 4, \"0\": 1, \"13\": 1}, \"6\": {\"6\": 527, \"1\": 527, \"15\": 126, \"8\": 5, \"5\": 10, \"7\": 1, \"9\": 2, \"12\": 2}, \"15\": {\"15\": 452, \"9\": 63, \"5\": 159, \"8\": 148, \"1\": 131, \"6\": 130, \"2\": 8, \"12\": 97, \"14\": 4, \"7\": 7, \"0\": 1}, \"11\": {\"11\": 1004, \"3\": 185, \"10\": 7, \"0\": 3, \"4\": 1}, \"9\": {\"5\": 154, \"9\": 479, \"2\": 187, \"8\": 120, \"7\": 91, \"0\": 25, \"14\": 48, \"13\": 74, \"4\": 1, \"15\": 11, \"10\": 4, \"12\": 6}, \"14\": {\"13\": 61, \"14\": 284, \"4\": 147, \"7\": 233, \"2\": 172, \"5\": 54, \"8\": 77, \"12\": 46, \"0\": 70, \"10\": 26, \"9\": 27, \"15\": 3}, \"10\": {\"10\": 428, \"13\": 214, \"4\": 113, \"0\": 309, \"9\": 2, \"3\": 53, \"14\": 25, \"7\": 26, \"11\": 13, \"2\": 14, \"8\": 2, \"5\": 1}, \"5\": {\"5\": 232, \"7\": 90, \"2\": 113, \"8\": 229, \"12\": 82, \"15\": 160, \"9\": 176, \"14\": 53, \"10\": 5, \"4\": 2, \"0\": 10, \"13\": 25, \"6\": 9, \"1\": 14}, \"1\": {\"6\": 539, \"1\": 479, \"15\": 155, \"12\": 10, \"5\": 13, \"8\": 2, \"9\": 2}, \"13\": {\"0\": 309, \"9\": 48, \"13\": 380, \"10\": 200, \"14\": 46, \"4\": 35, \"2\": 66, \"7\": 80, \"5\": 6, \"3\": 22, \"8\": 7, \"11\": 1}}, \"ORACLE.run126\": {\"5\": {\"5\": 238, \"11\": 219, \"6\": 179, \"15\": 167, \"0\": 48, \"1\": 117, \"2\": 30, \"10\": 103, \"13\": 2, \"8\": 11, \"14\": 67, \"9\": 9, \"3\": 2, \"7\": 4, \"12\": 4}, \"8\": {\"6\": 20, \"2\": 144, \"3\": 109, \"8\": 154, \"4\": 43, \"0\": 90, \"9\": 117, \"13\": 73, \"7\": 156, \"12\": 126, \"14\": 45, \"10\": 56, \"15\": 32, \"5\": 12, \"11\": 10, \"1\": 13}, \"4\": {\"4\": 545, \"9\": 58, \"3\": 184, \"13\": 135, \"8\": 49, \"12\": 88, \"7\": 96, \"2\": 30, \"10\": 3, \"0\": 9, \"14\": 3}, \"12\": {\"9\": 159, \"12\": 155, \"7\": 139, \"15\": 17, \"0\": 51, \"13\": 107, \"5\": 19, \"8\": 116, \"10\": 35, \"2\": 136, \"3\": 156, \"4\": 65, \"1\": 7, \"6\": 18, \"14\": 15, \"11\": 5}, \"6\": {\"15\": 162, \"5\": 174, \"9\": 12, \"14\": 132, \"0\": 72, \"11\": 150, \"10\": 104, \"1\": 152, \"6\": 179, \"2\": 26, \"7\": 12, \"8\": 17, \"3\": 2, \"12\": 6}, \"7\": {\"0\": 72, \"8\": 150, \"2\": 139, \"13\": 93, \"3\": 138, \"9\": 129, \"12\": 121, \"10\": 38, \"7\": 176, \"15\": 19, \"14\": 36, \"4\": 51, \"1\": 8, \"5\": 12, \"11\": 7, \"6\": 11}, \"10\": {\"15\": 115, \"11\": 52, \"6\": 120, \"9\": 27, \"5\": 105, \"2\": 53, \"1\": 121, \"0\": 148, \"8\": 51, \"10\": 179, \"14\": 143, \"12\": 25, \"7\": 40, \"13\": 5, \"3\": 13, \"4\": 3}, \"0\": {\"14\": 135, \"2\": 94, \"13\": 19, \"0\": 155, \"4\": 9, \"15\": 67, \"5\": 46, \"10\": 144, \"7\": 97, \"11\": 24, \"6\": 94, \"8\": 113, \"9\": 53, \"1\": 75, \"3\": 33, \"12\": 42}, \"15\": {\"11\": 164, \"1\": 104, \"10\": 120, \"6\": 151, \"0\": 74, \"15\": 170, \"5\": 179, \"14\": 117, \"2\": 37, \"9\": 23, \"7\": 17, \"3\": 4, \"12\": 8, \"8\": 29, \"13\": 3}, \"9\": {\"0\": 52, \"8\": 134, \"5\": 20, \"12\": 154, \"3\": 122, \"9\": 159, \"13\": 125, \"7\": 114, \"14\": 30, \"15\": 21, \"1\": 12, \"6\": 13, \"2\": 136, \"10\": 40, \"11\": 14, \"4\": 54}, \"11\": {\"15\": 147, \"5\": 249, \"11\": 388, \"9\": 6, \"6\": 153, \"10\": 62, \"14\": 48, \"7\": 3, \"0\": 20, \"1\": 109, \"2\": 8, \"12\": 1, \"8\": 5, \"13\": 1}, \"14\": {\"6\": 131, \"1\": 138, \"14\": 168, \"7\": 28, \"5\": 77, \"15\": 123, \"0\": 144, \"12\": 17, \"2\": 60, \"10\": 172, \"11\": 50, \"8\": 48, \"9\": 28, \"3\": 13, \"4\": 1, \"13\": 2}, \"2\": {\"3\": 124, \"6\": 33, \"2\": 156, \"12\": 122, \"5\": 36, \"10\": 66, \"9\": 112, \"14\": 49, \"0\": 88, \"13\": 65, \"11\": 20, \"7\": 137, \"8\": 110, \"1\": 19, \"4\": 25, \"15\": 38}, \"13\": {\"12\": 149, \"3\": 167, \"9\": 155, \"4\": 102, \"13\": 278, \"7\": 125, \"10\": 16, \"6\": 12, \"8\": 72, \"2\": 84, \"5\": 4, \"15\": 14, \"0\": 13, \"14\": 6, \"1\": 1, \"11\": 2}, \"3\": {\"7\": 141, \"8\": 124, \"12\": 140, \"3\": 186, \"2\": 94, \"9\": 135, \"13\": 151, \"14\": 13, \"10\": 21, \"0\": 43, \"4\": 127, \"5\": 8, \"6\": 5, \"15\": 8, \"1\": 4}, \"1\": {\"1\": 252, \"0\": 81, \"14\": 155, \"11\": 100, \"6\": 146, \"3\": 2, \"15\": 130, \"5\": 152, \"10\": 135, \"7\": 9, \"8\": 15, \"2\": 15, \"9\": 4, \"13\": 1, \"12\": 3}}}, \"per_domain_accuracy\": {\"Wisig_3\": {\"accuracy\": 0.9732532751091703, \"source?\": true}, \"Wisig_2\": {\"accuracy\": 0.948046875, \"source?\": true}, \"Wisig_1\": {\"accuracy\": 0.9713983050847458, \"source?\": true}, \"Wisig_4\": {\"accuracy\": 0.9571759259259259, \"source?\": true}, \"ORACLE.run150\": {\"accuracy\": 0.23661458333333332, \"source?\": false}, \"ORACLE.run114\": {\"accuracy\": 0.30192708333333335, \"source?\": false}, \"ORACLE.run132\": {\"accuracy\": 0.2933854166666667, \"source?\": false}, \"ORACLE.run144\": {\"accuracy\": 0.2711458333333333, \"source?\": false}, \"ORACLE.run18\": {\"accuracy\": 0.295625, \"source?\": false}, \"ORACLE.run120\": {\"accuracy\": 0.14598958333333334, \"source?\": false}, \"ORACLE.run138\": {\"accuracy\": 0.3968229166666667, \"source?\": false}, \"ORACLE.run126\": {\"accuracy\": 0.18427083333333333, \"source?\": false}}}, \"history\": {\"epoch_indices\": [1, 2, 3, 4, 5], \"train_label_loss\": [0.19379596118388404, 0.1335845258702553, 0.11468833068459618, 0.10100617793773567, 0.09634580306816917], \"source_val_label_loss\": [0.18087023496627808, 0.13010412454605103, 0.114598348736763, 0.11967887729406357, 0.11389638483524323], \"target_val_label_loss\": [2.5729448795318604, 2.5700230598449707, 2.535794734954834, 2.545987606048584, 2.5500833988189697], \"source_val_acc_label\": [0.9622890295358649, 0.9708267405063291, 0.9730353375527426, 0.9742220464135021, 0.974189082278481], \"target_val_acc_label\": [0.26572265625, 0.26360677083333334, 0.25533203125, 0.24891276041666666, 0.22295572916666667]}, \"dataset_metrics\": {\"source\": {\"train\": {\"n_unique_x\": 189055, \"n_unique_y\": 130, \"n_batch/episode\": 6854}, \"val\": {\"n_unique_x\": 40070, \"n_unique_y\": 130, \"n_batch/episode\": 948}, \"test\": {\"n_unique_x\": 40836, \"n_unique_y\": 130, \"n_batch/episode\": 967}}, \"target\": {\"train\": {\"n_unique_x\": 896000, \"n_unique_y\": 16, \"n_batch/episode\": 33600}, \"val\": {\"n_unique_x\": 192000, \"n_unique_y\": 16, \"n_batch/episode\": 4800}, \"test\": {\"n_unique_x\": 192000, \"n_unique_y\": 16, \"n_batch/episode\": 4800}}}}'"
      ]
     },
     "execution_count": 29,
     "metadata": {},
     "output_type": "execute_result"
    }
   ],
   "source": [
    "json.dumps(experiment)"
   ]
  }
 ],
 "metadata": {
  "celltoolbar": "Tags",
  "kernelspec": {
   "display_name": "Python 3 (ipykernel)",
   "language": "python",
   "name": "python3"
  },
  "language_info": {
   "codemirror_mode": {
    "name": "ipython",
    "version": 3
   },
   "file_extension": ".py",
   "mimetype": "text/x-python",
   "name": "python",
   "nbconvert_exporter": "python",
   "pygments_lexer": "ipython3",
   "version": "3.8.12"
  },
  "papermill": {
   "default_parameters": {},
   "duration": 2070.836302,
   "end_time": "2022-03-24T07:49:03.491381",
   "environment_variables": {},
   "exception": null,
   "input_path": "/root/csc500-main/csc500-notebooks/templates/tl_ptn_template.ipynb",
   "output_path": "trial.ipynb",
   "parameters": {
    "parameters": {
     "BEST_MODEL_PATH": "./best_model.pth",
     "NUM_LOGS_PER_EPOCH": 10,
     "criteria_for_best": "target_accuracy",
     "dataset_seed": 500,
     "datasets": [
      {
       "domain_prefix": "Wisig_",
       "domains": [
        1,
        2,
        3,
        4
       ],
       "episode_transforms": [],
       "labels": [
        "1-10",
        "1-12",
        "1-14",
        "1-16",
        "1-18",
        "1-19",
        "1-8",
        "10-11",
        "10-17",
        "10-4",
        "10-7",
        "11-1",
        "11-10",
        "11-19",
        "11-20",
        "11-4",
        "11-7",
        "12-19",
        "12-20",
        "12-7",
        "13-14",
        "13-18",
        "13-19",
        "13-20",
        "13-3",
        "13-7",
        "14-10",
        "14-11",
        "14-12",
        "14-13",
        "14-14",
        "14-19",
        "14-20",
        "14-7",
        "14-8",
        "14-9",
        "15-1",
        "15-19",
        "15-6",
        "16-1",
        "16-16",
        "16-19",
        "16-20",
        "17-10",
        "17-11",
        "18-1",
        "18-10",
        "18-11",
        "18-12",
        "18-13",
        "18-14",
        "18-15",
        "18-16",
        "18-17",
        "18-19",
        "18-2",
        "18-20",
        "18-4",
        "18-5",
        "18-7",
        "18-8",
        "18-9",
        "19-1",
        "19-10",
        "19-11",
        "19-12",
        "19-13",
        "19-14",
        "19-15",
        "19-19",
        "19-2",
        "19-20",
        "19-3",
        "19-4",
        "19-6",
        "19-7",
        "19-8",
        "19-9",
        "2-1",
        "2-13",
        "2-15",
        "2-3",
        "2-4",
        "2-5",
        "2-6",
        "2-7",
        "2-8",
        "20-1",
        "20-12",
        "20-14",
        "20-15",
        "20-16",
        "20-18",
        "20-19",
        "20-20",
        "20-3",
        "20-4",
        "20-5",
        "20-7",
        "20-8",
        "3-1",
        "3-13",
        "3-18",
        "3-2",
        "3-8",
        "4-1",
        "4-10",
        "4-11",
        "5-1",
        "5-5",
        "6-1",
        "6-15",
        "6-6",
        "7-10",
        "7-11",
        "7-12",
        "7-13",
        "7-14",
        "7-7",
        "7-8",
        "7-9",
        "8-1",
        "8-13",
        "8-14",
        "8-18",
        "8-20",
        "8-3",
        "8-8",
        "9-1",
        "9-7"
       ],
       "num_examples_per_domain_per_label": -1,
       "pickle_path": "/root/csc500-main/datasets/wisig.node3-19.stratified_ds.2022A.pkl",
       "source_or_target_dataset": "source",
       "x_transforms": []
      },
      {
       "domain_prefix": "ORACLE.run1",
       "domains": [
        32,
        38,
        8,
        44,
        14,
        50,
        20,
        26
       ],
       "episode_transforms": [],
       "labels": [
        "3123D52",
        "3123D65",
        "3123D79",
        "3123D80",
        "3123D54",
        "3123D70",
        "3123D7B",
        "3123D89",
        "3123D58",
        "3123D76",
        "3123D7D",
        "3123EFE",
        "3123D64",
        "3123D78",
        "3123D7E",
        "3124E4A"
       ],
       "num_examples_per_domain_per_label": 10000,
       "pickle_path": "/root/csc500-main/datasets/oracle.Run1_10kExamples_stratified_ds.2022A.pkl",
       "source_or_target_dataset": "target",
       "x_transforms": []
      }
     ],
     "device": "cuda",
     "experiment_name": "tl_1v2:wisig-oracle.run1",
     "lr": 0.0001,
     "n_epoch": 50,
     "n_query": 2,
     "n_shot": 3,
     "n_way": 16,
     "patience": 3,
     "seed": 500,
     "test_k_factor": 2,
     "torch_default_dtype": "torch.float32",
     "train_k_factor": 3,
     "val_k_factor": 2,
     "x_net": [
      {
       "class": "nnReshape",
       "kargs": {
        "shape": [
         -1,
         1,
         2,
         256
        ]
       }
      },
      {
       "class": "Conv2d",
       "kargs": {
        "bias": false,
        "in_channels": 1,
        "kernel_size": [
         1,
         7
        ],
        "out_channels": 256,
        "padding": [
         0,
         3
        ]
       }
      },
      {
       "class": "ReLU",
       "kargs": {
        "inplace": true
       }
      },
      {
       "class": "BatchNorm2d",
       "kargs": {
        "num_features": 256
       }
      },
      {
       "class": "Conv2d",
       "kargs": {
        "bias": true,
        "in_channels": 256,
        "kernel_size": [
         2,
         7
        ],
        "out_channels": 80,
        "padding": [
         0,
         3
        ]
       }
      },
      {
       "class": "ReLU",
       "kargs": {
        "inplace": true
       }
      },
      {
       "class": "BatchNorm2d",
       "kargs": {
        "num_features": 80
       }
      },
      {
       "class": "Flatten",
       "kargs": {}
      },
      {
       "class": "Linear",
       "kargs": {
        "in_features": 20480,
        "out_features": 256
       }
      },
      {
       "class": "ReLU",
       "kargs": {
        "inplace": true
       }
      },
      {
       "class": "BatchNorm1d",
       "kargs": {
        "num_features": 256
       }
      },
      {
       "class": "Linear",
       "kargs": {
        "in_features": 256,
        "out_features": 256
       }
      }
     ]
    }
   },
   "start_time": "2022-03-24T07:14:32.655079",
   "version": "2.3.4"
  }
 },
 "nbformat": 4,
 "nbformat_minor": 5
}