{
 "cells": [
  {
   "cell_type": "markdown",
   "id": "9fea5f46",
   "metadata": {
    "papermill": {
     "duration": 0.028553,
     "end_time": "2022-03-23T15:34:45.583420",
     "exception": false,
     "start_time": "2022-03-23T15:34:45.554867",
     "status": "completed"
    },
    "tags": []
   },
   "source": [
    "# Transfer Learning Template"
   ]
  },
  {
   "cell_type": "code",
   "execution_count": 1,
   "id": "0902182a",
   "metadata": {
    "execution": {
     "iopub.execute_input": "2022-03-23T15:34:45.645898Z",
     "iopub.status.busy": "2022-03-23T15:34:45.634498Z",
     "iopub.status.idle": "2022-03-23T15:34:48.454315Z",
     "shell.execute_reply": "2022-03-23T15:34:48.453827Z"
    },
    "papermill": {
     "duration": 2.847297,
     "end_time": "2022-03-23T15:34:48.454403",
     "exception": false,
     "start_time": "2022-03-23T15:34:45.607106",
     "status": "completed"
    },
    "tags": []
   },
   "outputs": [],
   "source": [
    "%load_ext autoreload\n",
    "%autoreload 2\n",
    "%matplotlib inline\n",
    "\n",
    "    \n",
    "import os, json, sys, time, random\n",
    "import numpy as np\n",
    "import torch\n",
    "from torch.optim import Adam\n",
    "from  easydict import EasyDict\n",
    "import matplotlib.pyplot as plt\n",
    "\n",
    "from steves_models.steves_ptn import Steves_Prototypical_Network\n",
    "\n",
    "from steves_utils.lazy_iterable_wrapper import Lazy_Iterable_Wrapper\n",
    "from steves_utils.iterable_aggregator import Iterable_Aggregator\n",
    "from steves_utils.ptn_train_eval_test_jig import  PTN_Train_Eval_Test_Jig\n",
    "from steves_utils.torch_sequential_builder import build_sequential\n",
    "from steves_utils.torch_utils import get_dataset_metrics, ptn_confusion_by_domain_over_dataloader\n",
    "from steves_utils.utils_v2 import (per_domain_accuracy_from_confusion, get_datasets_base_path)\n",
    "from steves_utils.PTN.utils import independent_accuracy_assesment\n",
    "\n",
    "from torch.utils.data import DataLoader\n",
    "\n",
    "from steves_utils.stratified_dataset.episodic_accessor import Episodic_Accessor_Factory\n",
    "\n",
    "from steves_utils.ptn_do_report import (\n",
    "    get_loss_curve,\n",
    "    get_results_table,\n",
    "    get_parameters_table,\n",
    "    get_domain_accuracies,\n",
    ")\n",
    "\n",
    "from steves_utils.transforms import get_chained_transform"
   ]
  },
  {
   "cell_type": "markdown",
   "id": "41c840b4",
   "metadata": {
    "papermill": {
     "duration": 0.019328,
     "end_time": "2022-03-23T15:34:48.493678",
     "exception": false,
     "start_time": "2022-03-23T15:34:48.474350",
     "status": "completed"
    },
    "tags": []
   },
   "source": [
    "# Allowed Parameters\n",
    "These are allowed parameters, not defaults\n",
    "Each of these values need to be present in the injected parameters (the notebook will raise an exception if they are not present)\n",
    "\n",
    "Papermill uses the cell tag \"parameters\" to inject the real parameters below this cell.\n",
    "Enable tags to see what I mean"
   ]
  },
  {
   "cell_type": "code",
   "execution_count": 2,
   "id": "fd44eb83",
   "metadata": {
    "execution": {
     "iopub.execute_input": "2022-03-23T15:34:48.537056Z",
     "iopub.status.busy": "2022-03-23T15:34:48.536296Z",
     "iopub.status.idle": "2022-03-23T15:34:48.555510Z",
     "shell.execute_reply": "2022-03-23T15:34:48.554800Z"
    },
    "papermill": {
     "duration": 0.042806,
     "end_time": "2022-03-23T15:34:48.555693",
     "exception": false,
     "start_time": "2022-03-23T15:34:48.512887",
     "status": "completed"
    },
    "tags": []
   },
   "outputs": [],
   "source": [
    "required_parameters = {\n",
    "    \"experiment_name\",\n",
    "    \"lr\",\n",
    "    \"device\",\n",
    "    \"seed\",\n",
    "    \"dataset_seed\",\n",
    "    \"n_shot\",\n",
    "    \"n_query\",\n",
    "    \"n_way\",\n",
    "    \"train_k_factor\",\n",
    "    \"val_k_factor\",\n",
    "    \"test_k_factor\",\n",
    "    \"n_epoch\",\n",
    "    \"patience\",\n",
    "    \"criteria_for_best\",\n",
    "    \"x_net\",\n",
    "    \"datasets\",\n",
    "    \"torch_default_dtype\",\n",
    "    \"NUM_LOGS_PER_EPOCH\",\n",
    "    \"BEST_MODEL_PATH\",\n",
    "    \"x_shape\",\n",
    "}"
   ]
  },
  {
   "cell_type": "code",
   "execution_count": 3,
   "id": "fa3f0049",
   "metadata": {
    "execution": {
     "iopub.execute_input": "2022-03-23T15:34:48.612626Z",
     "iopub.status.busy": "2022-03-23T15:34:48.611711Z",
     "iopub.status.idle": "2022-03-23T15:34:48.633086Z",
     "shell.execute_reply": "2022-03-23T15:34:48.632272Z"
    },
    "papermill": {
     "duration": 0.051208,
     "end_time": "2022-03-23T15:34:48.633236",
     "exception": false,
     "start_time": "2022-03-23T15:34:48.582028",
     "status": "completed"
    },
    "tags": [
     "parameters"
    ]
   },
   "outputs": [],
   "source": [
    "from steves_utils.CORES.utils import (\n",
    "    ALL_NODES,\n",
    "    ALL_NODES_MINIMUM_1000_EXAMPLES,\n",
    "    ALL_DAYS\n",
    ")\n",
    "\n",
    "from steves_utils.ORACLE.utils_v2 import (\n",
    "    ALL_DISTANCES_FEET_NARROWED,\n",
    "    ALL_RUNS,\n",
    "    ALL_SERIAL_NUMBERS,\n",
    ")\n",
    "\n",
    "standalone_parameters = {}\n",
    "standalone_parameters[\"experiment_name\"] = \"STANDALONE PTN\"\n",
    "standalone_parameters[\"lr\"] = 0.001\n",
    "standalone_parameters[\"device\"] = \"cuda\"\n",
    "\n",
    "standalone_parameters[\"seed\"] = 1337\n",
    "standalone_parameters[\"dataset_seed\"] = 1337\n",
    "\n",
    "standalone_parameters[\"n_way\"] = 8\n",
    "standalone_parameters[\"n_shot\"] = 3\n",
    "standalone_parameters[\"n_query\"]  = 2\n",
    "standalone_parameters[\"train_k_factor\"] = 1\n",
    "standalone_parameters[\"val_k_factor\"] = 2\n",
    "standalone_parameters[\"test_k_factor\"] = 2\n",
    "\n",
    "\n",
    "standalone_parameters[\"n_epoch\"] = 50\n",
    "\n",
    "standalone_parameters[\"patience\"] = 10\n",
    "standalone_parameters[\"criteria_for_best\"] = \"source_loss\"\n",
    "\n",
    "standalone_parameters[\"datasets\"] = [\n",
    "    {\n",
    "        \"labels\": ALL_SERIAL_NUMBERS,\n",
    "        \"domains\": ALL_DISTANCES_FEET_NARROWED,\n",
    "        \"num_examples_per_domain_per_label\": 100,\n",
    "        \"pickle_path\": os.path.join(get_datasets_base_path(), \"oracle.Run1_framed_2000Examples_stratified_ds.2022A.pkl\"),\n",
    "        \"source_or_target_dataset\": \"source\",\n",
    "        \"x_transforms\": [\"unit_mag\", \"minus_two\"],\n",
    "        \"episode_transforms\": [],\n",
    "        \"domain_prefix\": \"ORACLE_\"\n",
    "    },\n",
    "    {\n",
    "        \"labels\": ALL_NODES,\n",
    "        \"domains\": ALL_DAYS,\n",
    "        \"num_examples_per_domain_per_label\": 100,\n",
    "        \"pickle_path\": os.path.join(get_datasets_base_path(), \"cores.stratified_ds.2022A.pkl\"),\n",
    "        \"source_or_target_dataset\": \"target\",\n",
    "        \"x_transforms\": [\"unit_power\", \"times_zero\"],\n",
    "        \"episode_transforms\": [],\n",
    "        \"domain_prefix\": \"CORES_\"\n",
    "    }   \n",
    "]\n",
    "\n",
    "standalone_parameters[\"torch_default_dtype\"] = \"torch.float32\" \n",
    "\n",
    "\n",
    "\n",
    "standalone_parameters[\"x_net\"] =     [\n",
    "    {\"class\": \"nnReshape\", \"kargs\": {\"shape\":[-1, 1, 2, 256]}},\n",
    "    {\"class\": \"Conv2d\", \"kargs\": { \"in_channels\":1, \"out_channels\":256, \"kernel_size\":(1,7), \"bias\":False, \"padding\":(0,3), },},\n",
    "    {\"class\": \"ReLU\", \"kargs\": {\"inplace\": True}},\n",
    "    {\"class\": \"BatchNorm2d\", \"kargs\": {\"num_features\":256}},\n",
    "\n",
    "    {\"class\": \"Conv2d\", \"kargs\": { \"in_channels\":256, \"out_channels\":80, \"kernel_size\":(2,7), \"bias\":True, \"padding\":(0,3), },},\n",
    "    {\"class\": \"ReLU\", \"kargs\": {\"inplace\": True}},\n",
    "    {\"class\": \"BatchNorm2d\", \"kargs\": {\"num_features\":80}},\n",
    "    {\"class\": \"Flatten\", \"kargs\": {}},\n",
    "\n",
    "    {\"class\": \"Linear\", \"kargs\": {\"in_features\": 80*256, \"out_features\": 256}}, # 80 units per IQ pair\n",
    "    {\"class\": \"ReLU\", \"kargs\": {\"inplace\": True}},\n",
    "    {\"class\": \"BatchNorm1d\", \"kargs\": {\"num_features\":256}},\n",
    "\n",
    "    {\"class\": \"Linear\", \"kargs\": {\"in_features\": 256, \"out_features\": 256}},\n",
    "]\n",
    "\n",
    "# Parameters relevant to results\n",
    "# These parameters will basically never need to change\n",
    "standalone_parameters[\"NUM_LOGS_PER_EPOCH\"] = 10\n",
    "standalone_parameters[\"BEST_MODEL_PATH\"] = \"./best_model.pth\"\n",
    "\n",
    "\n",
    "\n",
    "\n"
   ]
  },
  {
   "cell_type": "code",
   "execution_count": 4,
   "id": "ebe676fa",
   "metadata": {
    "execution": {
     "iopub.execute_input": "2022-03-23T15:34:48.691809Z",
     "iopub.status.busy": "2022-03-23T15:34:48.691112Z",
     "iopub.status.idle": "2022-03-23T15:34:48.712642Z",
     "shell.execute_reply": "2022-03-23T15:34:48.711852Z"
    },
    "papermill": {
     "duration": 0.052155,
     "end_time": "2022-03-23T15:34:48.712794",
     "exception": false,
     "start_time": "2022-03-23T15:34:48.660639",
     "status": "completed"
    },
    "tags": [
     "injected-parameters"
    ]
   },
   "outputs": [],
   "source": [
    "# Parameters\n",
    "parameters = {\n",
    "    \"experiment_name\": \"tl_1v2:wisig-oracle.run1\",\n",
    "    \"device\": \"cuda\",\n",
    "    \"lr\": 0.0001,\n",
    "    \"n_shot\": 3,\n",
    "    \"n_query\": 2,\n",
    "    \"train_k_factor\": 3,\n",
    "    \"val_k_factor\": 2,\n",
    "    \"test_k_factor\": 2,\n",
    "    \"torch_default_dtype\": \"torch.float32\",\n",
    "    \"n_epoch\": 50,\n",
    "    \"patience\": 3,\n",
    "    \"criteria_for_best\": \"target_accuracy\",\n",
    "    \"x_net\": [\n",
    "        {\"class\": \"nnReshape\", \"kargs\": {\"shape\": [-1, 1, 2, 256]}},\n",
    "        {\n",
    "            \"class\": \"Conv2d\",\n",
    "            \"kargs\": {\n",
    "                \"in_channels\": 1,\n",
    "                \"out_channels\": 256,\n",
    "                \"kernel_size\": [1, 7],\n",
    "                \"bias\": False,\n",
    "                \"padding\": [0, 3],\n",
    "            },\n",
    "        },\n",
    "        {\"class\": \"ReLU\", \"kargs\": {\"inplace\": True}},\n",
    "        {\"class\": \"BatchNorm2d\", \"kargs\": {\"num_features\": 256}},\n",
    "        {\n",
    "            \"class\": \"Conv2d\",\n",
    "            \"kargs\": {\n",
    "                \"in_channels\": 256,\n",
    "                \"out_channels\": 80,\n",
    "                \"kernel_size\": [2, 7],\n",
    "                \"bias\": True,\n",
    "                \"padding\": [0, 3],\n",
    "            },\n",
    "        },\n",
    "        {\"class\": \"ReLU\", \"kargs\": {\"inplace\": True}},\n",
    "        {\"class\": \"BatchNorm2d\", \"kargs\": {\"num_features\": 80}},\n",
    "        {\"class\": \"Flatten\", \"kargs\": {}},\n",
    "        {\"class\": \"Linear\", \"kargs\": {\"in_features\": 20480, \"out_features\": 256}},\n",
    "        {\"class\": \"ReLU\", \"kargs\": {\"inplace\": True}},\n",
    "        {\"class\": \"BatchNorm1d\", \"kargs\": {\"num_features\": 256}},\n",
    "        {\"class\": \"Linear\", \"kargs\": {\"in_features\": 256, \"out_features\": 256}},\n",
    "    ],\n",
    "    \"NUM_LOGS_PER_EPOCH\": 10,\n",
    "    \"BEST_MODEL_PATH\": \"./best_model.pth\",\n",
    "    \"n_way\": 16,\n",
    "    \"datasets\": [\n",
    "        {\n",
    "            \"labels\": [\n",
    "                \"1-10\",\n",
    "                \"1-12\",\n",
    "                \"1-14\",\n",
    "                \"1-16\",\n",
    "                \"1-18\",\n",
    "                \"1-19\",\n",
    "                \"1-8\",\n",
    "                \"10-11\",\n",
    "                \"10-17\",\n",
    "                \"10-4\",\n",
    "                \"10-7\",\n",
    "                \"11-1\",\n",
    "                \"11-10\",\n",
    "                \"11-19\",\n",
    "                \"11-20\",\n",
    "                \"11-4\",\n",
    "                \"11-7\",\n",
    "                \"12-19\",\n",
    "                \"12-20\",\n",
    "                \"12-7\",\n",
    "                \"13-14\",\n",
    "                \"13-18\",\n",
    "                \"13-19\",\n",
    "                \"13-20\",\n",
    "                \"13-3\",\n",
    "                \"13-7\",\n",
    "                \"14-10\",\n",
    "                \"14-11\",\n",
    "                \"14-12\",\n",
    "                \"14-13\",\n",
    "                \"14-14\",\n",
    "                \"14-19\",\n",
    "                \"14-20\",\n",
    "                \"14-7\",\n",
    "                \"14-8\",\n",
    "                \"14-9\",\n",
    "                \"15-1\",\n",
    "                \"15-19\",\n",
    "                \"15-6\",\n",
    "                \"16-1\",\n",
    "                \"16-16\",\n",
    "                \"16-19\",\n",
    "                \"16-20\",\n",
    "                \"17-10\",\n",
    "                \"17-11\",\n",
    "                \"18-1\",\n",
    "                \"18-10\",\n",
    "                \"18-11\",\n",
    "                \"18-12\",\n",
    "                \"18-13\",\n",
    "                \"18-14\",\n",
    "                \"18-15\",\n",
    "                \"18-16\",\n",
    "                \"18-17\",\n",
    "                \"18-19\",\n",
    "                \"18-2\",\n",
    "                \"18-20\",\n",
    "                \"18-4\",\n",
    "                \"18-5\",\n",
    "                \"18-7\",\n",
    "                \"18-8\",\n",
    "                \"18-9\",\n",
    "                \"19-1\",\n",
    "                \"19-10\",\n",
    "                \"19-11\",\n",
    "                \"19-12\",\n",
    "                \"19-13\",\n",
    "                \"19-14\",\n",
    "                \"19-15\",\n",
    "                \"19-19\",\n",
    "                \"19-2\",\n",
    "                \"19-20\",\n",
    "                \"19-3\",\n",
    "                \"19-4\",\n",
    "                \"19-6\",\n",
    "                \"19-7\",\n",
    "                \"19-8\",\n",
    "                \"19-9\",\n",
    "                \"2-1\",\n",
    "                \"2-13\",\n",
    "                \"2-15\",\n",
    "                \"2-3\",\n",
    "                \"2-4\",\n",
    "                \"2-5\",\n",
    "                \"2-6\",\n",
    "                \"2-7\",\n",
    "                \"2-8\",\n",
    "                \"20-1\",\n",
    "                \"20-12\",\n",
    "                \"20-14\",\n",
    "                \"20-15\",\n",
    "                \"20-16\",\n",
    "                \"20-18\",\n",
    "                \"20-19\",\n",
    "                \"20-20\",\n",
    "                \"20-3\",\n",
    "                \"20-4\",\n",
    "                \"20-5\",\n",
    "                \"20-7\",\n",
    "                \"20-8\",\n",
    "                \"3-1\",\n",
    "                \"3-13\",\n",
    "                \"3-18\",\n",
    "                \"3-2\",\n",
    "                \"3-8\",\n",
    "                \"4-1\",\n",
    "                \"4-10\",\n",
    "                \"4-11\",\n",
    "                \"5-1\",\n",
    "                \"5-5\",\n",
    "                \"6-1\",\n",
    "                \"6-15\",\n",
    "                \"6-6\",\n",
    "                \"7-10\",\n",
    "                \"7-11\",\n",
    "                \"7-12\",\n",
    "                \"7-13\",\n",
    "                \"7-14\",\n",
    "                \"7-7\",\n",
    "                \"7-8\",\n",
    "                \"7-9\",\n",
    "                \"8-1\",\n",
    "                \"8-13\",\n",
    "                \"8-14\",\n",
    "                \"8-18\",\n",
    "                \"8-20\",\n",
    "                \"8-3\",\n",
    "                \"8-8\",\n",
    "                \"9-1\",\n",
    "                \"9-7\",\n",
    "            ],\n",
    "            \"domains\": [1, 2, 3, 4],\n",
    "            \"num_examples_per_domain_per_label\": -1,\n",
    "            \"pickle_path\": \"/root/csc500-main/datasets/wisig.node3-19.stratified_ds.2022A.pkl\",\n",
    "            \"source_or_target_dataset\": \"source\",\n",
    "            \"x_transforms\": [\"unit_power\"],\n",
    "            \"episode_transforms\": [],\n",
    "            \"domain_prefix\": \"Wisig_\",\n",
    "        },\n",
    "        {\n",
    "            \"labels\": [\n",
    "                \"3123D52\",\n",
    "                \"3123D65\",\n",
    "                \"3123D79\",\n",
    "                \"3123D80\",\n",
    "                \"3123D54\",\n",
    "                \"3123D70\",\n",
    "                \"3123D7B\",\n",
    "                \"3123D89\",\n",
    "                \"3123D58\",\n",
    "                \"3123D76\",\n",
    "                \"3123D7D\",\n",
    "                \"3123EFE\",\n",
    "                \"3123D64\",\n",
    "                \"3123D78\",\n",
    "                \"3123D7E\",\n",
    "                \"3124E4A\",\n",
    "            ],\n",
    "            \"domains\": [32, 38, 8, 44, 14, 50, 20, 26],\n",
    "            \"num_examples_per_domain_per_label\": 10000,\n",
    "            \"pickle_path\": \"/root/csc500-main/datasets/oracle.Run1_10kExamples_stratified_ds.2022A.pkl\",\n",
    "            \"source_or_target_dataset\": \"target\",\n",
    "            \"x_transforms\": [\"unit_power\"],\n",
    "            \"episode_transforms\": [],\n",
    "            \"domain_prefix\": \"ORACLE.run1\",\n",
    "        },\n",
    "    ],\n",
    "    \"dataset_seed\": 420,\n",
    "    \"seed\": 420,\n",
    "}\n"
   ]
  },
  {
   "cell_type": "code",
   "execution_count": 5,
   "id": "8fa1cc33",
   "metadata": {
    "execution": {
     "iopub.execute_input": "2022-03-23T15:34:48.765468Z",
     "iopub.status.busy": "2022-03-23T15:34:48.764892Z",
     "iopub.status.idle": "2022-03-23T15:34:48.783981Z",
     "shell.execute_reply": "2022-03-23T15:34:48.783136Z"
    },
    "papermill": {
     "duration": 0.043356,
     "end_time": "2022-03-23T15:34:48.784134",
     "exception": false,
     "start_time": "2022-03-23T15:34:48.740778",
     "status": "completed"
    },
    "tags": []
   },
   "outputs": [],
   "source": [
    "# Set this to True if you want to run this template directly\n",
    "STANDALONE = False\n",
    "if STANDALONE:\n",
    "    print(\"parameters not injected, running with standalone_parameters\")\n",
    "    parameters = standalone_parameters\n",
    "\n",
    "if not 'parameters' in locals() and not 'parameters' in globals():\n",
    "    raise Exception(\"Parameter injection failed\")\n",
    "\n",
    "#Use an easy dict for all the parameters\n",
    "p = EasyDict(parameters)\n",
    "\n",
    "if \"x_shape\" not in p:\n",
    "    p.x_shape = [2,256] # Default to this if we dont supply x_shape\n",
    "\n",
    "\n",
    "supplied_keys = set(p.keys())\n",
    "\n",
    "if  supplied_keys != required_parameters:\n",
    "    print(\"Parameters are incorrect\")\n",
    "    if len(supplied_keys - required_parameters)>0: print(\"Shouldn't have:\", str(supplied_keys - required_parameters))\n",
    "    if len(required_parameters - supplied_keys)>0: print(\"Need to have:\", str(required_parameters - supplied_keys))\n",
    "    raise RuntimeError(\"Parameters are incorrect\")"
   ]
  },
  {
   "cell_type": "code",
   "execution_count": 6,
   "id": "3a028d58",
   "metadata": {
    "execution": {
     "iopub.execute_input": "2022-03-23T15:34:48.833532Z",
     "iopub.status.busy": "2022-03-23T15:34:48.833158Z",
     "iopub.status.idle": "2022-03-23T15:34:48.852405Z",
     "shell.execute_reply": "2022-03-23T15:34:48.851591Z"
    },
    "papermill": {
     "duration": 0.04204,
     "end_time": "2022-03-23T15:34:48.852556",
     "exception": false,
     "start_time": "2022-03-23T15:34:48.810516",
     "status": "completed"
    },
    "tags": []
   },
   "outputs": [],
   "source": [
    "###################################\n",
    "# Set the RNGs and make it all deterministic\n",
    "###################################\n",
    "np.random.seed(p.seed)\n",
    "random.seed(p.seed)\n",
    "torch.manual_seed(p.seed)\n",
    "\n",
    "torch.use_deterministic_algorithms(True) "
   ]
  },
  {
   "cell_type": "code",
   "execution_count": 7,
   "id": "b691acf6",
   "metadata": {
    "execution": {
     "iopub.execute_input": "2022-03-23T15:34:48.900105Z",
     "iopub.status.busy": "2022-03-23T15:34:48.899618Z",
     "iopub.status.idle": "2022-03-23T15:34:48.918377Z",
     "shell.execute_reply": "2022-03-23T15:34:48.917562Z"
    },
    "papermill": {
     "duration": 0.04187,
     "end_time": "2022-03-23T15:34:48.918529",
     "exception": false,
     "start_time": "2022-03-23T15:34:48.876659",
     "status": "completed"
    },
    "tags": []
   },
   "outputs": [],
   "source": [
    "###########################################\n",
    "# The stratified datasets honor this\n",
    "###########################################\n",
    "torch.set_default_dtype(eval(p.torch_default_dtype))"
   ]
  },
  {
   "cell_type": "code",
   "execution_count": 8,
   "id": "b5fba671",
   "metadata": {
    "execution": {
     "iopub.execute_input": "2022-03-23T15:34:48.970399Z",
     "iopub.status.busy": "2022-03-23T15:34:48.970028Z",
     "iopub.status.idle": "2022-03-23T15:34:49.029587Z",
     "shell.execute_reply": "2022-03-23T15:34:49.028875Z"
    },
    "papermill": {
     "duration": 0.083749,
     "end_time": "2022-03-23T15:34:49.029736",
     "exception": false,
     "start_time": "2022-03-23T15:34:48.945987",
     "status": "completed"
    },
    "tags": []
   },
   "outputs": [],
   "source": [
    "###################################\n",
    "# Build the network(s)\n",
    "# Note: It's critical to do this AFTER setting the RNG\n",
    "###################################\n",
    "x_net = build_sequential(p.x_net)"
   ]
  },
  {
   "cell_type": "code",
   "execution_count": 9,
   "id": "5d7e61cc",
   "metadata": {
    "execution": {
     "iopub.execute_input": "2022-03-23T15:34:49.082518Z",
     "iopub.status.busy": "2022-03-23T15:34:49.081616Z",
     "iopub.status.idle": "2022-03-23T15:34:49.102275Z",
     "shell.execute_reply": "2022-03-23T15:34:49.101526Z"
    },
    "papermill": {
     "duration": 0.044765,
     "end_time": "2022-03-23T15:34:49.102427",
     "exception": false,
     "start_time": "2022-03-23T15:34:49.057662",
     "status": "completed"
    },
    "tags": []
   },
   "outputs": [],
   "source": [
    "start_time_secs = time.time()"
   ]
  },
  {
   "cell_type": "code",
   "execution_count": 10,
   "id": "c6b67dfd",
   "metadata": {
    "execution": {
     "iopub.execute_input": "2022-03-23T15:34:49.151116Z",
     "iopub.status.busy": "2022-03-23T15:34:49.150741Z",
     "iopub.status.idle": "2022-03-23T15:34:49.169188Z",
     "shell.execute_reply": "2022-03-23T15:34:49.168384Z"
    },
    "papermill": {
     "duration": 0.041611,
     "end_time": "2022-03-23T15:34:49.169339",
     "exception": false,
     "start_time": "2022-03-23T15:34:49.127728",
     "status": "completed"
    },
    "tags": []
   },
   "outputs": [],
   "source": [
    "p.domains_source = []\n",
    "p.domains_target = []\n",
    "\n",
    "\n",
    "train_original_source = []\n",
    "val_original_source   = []\n",
    "test_original_source  = []\n",
    "\n",
    "train_original_target = []\n",
    "val_original_target   = []\n",
    "test_original_target  = []"
   ]
  },
  {
   "cell_type": "code",
   "execution_count": 11,
   "id": "e3d9c3d3",
   "metadata": {
    "execution": {
     "iopub.execute_input": "2022-03-23T15:34:49.219821Z",
     "iopub.status.busy": "2022-03-23T15:34:49.219251Z",
     "iopub.status.idle": "2022-03-23T15:34:49.241927Z",
     "shell.execute_reply": "2022-03-23T15:34:49.241111Z"
    },
    "papermill": {
     "duration": 0.046784,
     "end_time": "2022-03-23T15:34:49.242079",
     "exception": false,
     "start_time": "2022-03-23T15:34:49.195295",
     "status": "completed"
    },
    "tags": []
   },
   "outputs": [],
   "source": [
    "# global_x_transform_func = lambda x: normalize(x.to(torch.get_default_dtype()), \"unit_power\") # unit_power, unit_mag\n",
    "# global_x_transform_func = lambda x: normalize(x, \"unit_power\") # unit_power, unit_mag"
   ]
  },
  {
   "cell_type": "code",
   "execution_count": 12,
   "id": "acb78fd2",
   "metadata": {
    "execution": {
     "iopub.execute_input": "2022-03-23T15:34:49.299405Z",
     "iopub.status.busy": "2022-03-23T15:34:49.298548Z",
     "iopub.status.idle": "2022-03-23T15:34:49.317480Z",
     "shell.execute_reply": "2022-03-23T15:34:49.316727Z"
    },
    "papermill": {
     "duration": 0.050454,
     "end_time": "2022-03-23T15:34:49.317631",
     "exception": false,
     "start_time": "2022-03-23T15:34:49.267177",
     "status": "completed"
    },
    "tags": []
   },
   "outputs": [],
   "source": [
    "def add_dataset(\n",
    "    labels,\n",
    "    domains,\n",
    "    pickle_path,\n",
    "    x_transforms,\n",
    "    episode_transforms,\n",
    "    domain_prefix,\n",
    "    num_examples_per_domain_per_label,\n",
    "    source_or_target_dataset:str,\n",
    "    iterator_seed=p.seed,\n",
    "    dataset_seed=p.dataset_seed,\n",
    "    n_shot=p.n_shot,\n",
    "    n_way=p.n_way,\n",
    "    n_query=p.n_query,\n",
    "    train_val_test_k_factors=(p.train_k_factor,p.val_k_factor,p.test_k_factor),\n",
    "):\n",
    "   \n",
    "    if x_transforms == []: x_transform = None\n",
    "    else: x_transform = get_chained_transform(x_transforms)\n",
    "    \n",
    "    if episode_transforms == []: episode_transform = None\n",
    "    else: raise Exception(\"episode_transforms not implemented\")\n",
    "    \n",
    "    episode_transform = lambda tup, _prefix=domain_prefix: (_prefix + str(tup[0]), tup[1])\n",
    "\n",
    "\n",
    "    eaf = Episodic_Accessor_Factory(\n",
    "        labels=labels,\n",
    "        domains=domains,\n",
    "        num_examples_per_domain_per_label=num_examples_per_domain_per_label,\n",
    "        iterator_seed=iterator_seed,\n",
    "        dataset_seed=dataset_seed,\n",
    "        n_shot=n_shot,\n",
    "        n_way=n_way,\n",
    "        n_query=n_query,\n",
    "        train_val_test_k_factors=train_val_test_k_factors,\n",
    "        pickle_path=pickle_path,\n",
    "        x_transform_func=x_transform,\n",
    "    )\n",
    "\n",
    "    train, val, test = eaf.get_train(), eaf.get_val(), eaf.get_test()\n",
    "    train = Lazy_Iterable_Wrapper(train, episode_transform)\n",
    "    val = Lazy_Iterable_Wrapper(val, episode_transform)\n",
    "    test = Lazy_Iterable_Wrapper(test, episode_transform)\n",
    "\n",
    "    if source_or_target_dataset==\"source\":\n",
    "        train_original_source.append(train)\n",
    "        val_original_source.append(val)\n",
    "        test_original_source.append(test)\n",
    "\n",
    "        p.domains_source.extend(\n",
    "            [domain_prefix + str(u) for u in domains]\n",
    "        )\n",
    "    elif source_or_target_dataset==\"target\":\n",
    "        train_original_target.append(train)\n",
    "        val_original_target.append(val)\n",
    "        test_original_target.append(test)\n",
    "        p.domains_target.extend(\n",
    "            [domain_prefix + str(u) for u in domains]\n",
    "        )\n",
    "    else:\n",
    "        raise Exception(f\"invalid source_or_target_dataset: {source_or_target_dataset}\")\n",
    "    "
   ]
  },
  {
   "cell_type": "code",
   "execution_count": 13,
   "id": "fe266617",
   "metadata": {
    "execution": {
     "iopub.execute_input": "2022-03-23T15:34:49.368007Z",
     "iopub.status.busy": "2022-03-23T15:34:49.367258Z",
     "iopub.status.idle": "2022-03-23T15:37:01.605093Z",
     "shell.execute_reply": "2022-03-23T15:37:01.605848Z"
    },
    "papermill": {
     "duration": 132.262617,
     "end_time": "2022-03-23T15:37:01.606075",
     "exception": false,
     "start_time": "2022-03-23T15:34:49.343458",
     "status": "completed"
    },
    "tags": []
   },
   "outputs": [],
   "source": [
    "for ds in p.datasets:\n",
    "    add_dataset(**ds)"
   ]
  },
  {
   "cell_type": "code",
   "execution_count": 14,
   "id": "b90d65ac",
   "metadata": {
    "execution": {
     "iopub.execute_input": "2022-03-23T15:37:01.659899Z",
     "iopub.status.busy": "2022-03-23T15:37:01.659490Z",
     "iopub.status.idle": "2022-03-23T15:37:01.690200Z",
     "shell.execute_reply": "2022-03-23T15:37:01.689462Z"
    },
    "papermill": {
     "duration": 0.056585,
     "end_time": "2022-03-23T15:37:01.690356",
     "exception": false,
     "start_time": "2022-03-23T15:37:01.633771",
     "status": "completed"
    },
    "tags": []
   },
   "outputs": [],
   "source": [
    "# from steves_utils.CORES.utils import (\n",
    "#     ALL_NODES,\n",
    "#     ALL_NODES_MINIMUM_1000_EXAMPLES,\n",
    "#     ALL_DAYS\n",
    "# )\n",
    "\n",
    "# add_dataset(\n",
    "#     labels=ALL_NODES,\n",
    "#     domains = ALL_DAYS,\n",
    "#     num_examples_per_domain_per_label=100,\n",
    "#     pickle_path=os.path.join(get_datasets_base_path(), \"cores.stratified_ds.2022A.pkl\"),\n",
    "#     source_or_target_dataset=\"target\",\n",
    "#     x_transform_func=global_x_transform_func,\n",
    "#     domain_modifier=lambda u: f\"cores_{u}\"\n",
    "# )"
   ]
  },
  {
   "cell_type": "code",
   "execution_count": 15,
   "id": "76db484d",
   "metadata": {
    "execution": {
     "iopub.execute_input": "2022-03-23T15:37:01.741727Z",
     "iopub.status.busy": "2022-03-23T15:37:01.741018Z",
     "iopub.status.idle": "2022-03-23T15:37:01.763003Z",
     "shell.execute_reply": "2022-03-23T15:37:01.762232Z"
    },
    "papermill": {
     "duration": 0.047064,
     "end_time": "2022-03-23T15:37:01.763158",
     "exception": false,
     "start_time": "2022-03-23T15:37:01.716094",
     "status": "completed"
    },
    "tags": []
   },
   "outputs": [],
   "source": [
    "# from steves_utils.ORACLE.utils_v2 import (\n",
    "#     ALL_DISTANCES_FEET,\n",
    "#     ALL_RUNS,\n",
    "#     ALL_SERIAL_NUMBERS,\n",
    "# )\n",
    "\n",
    "\n",
    "# add_dataset(\n",
    "#     labels=ALL_SERIAL_NUMBERS,\n",
    "#     domains = list(set(ALL_DISTANCES_FEET) - {2,62}),\n",
    "#     num_examples_per_domain_per_label=100,\n",
    "#     pickle_path=os.path.join(get_datasets_base_path(), \"oracle.Run2_framed_2000Examples_stratified_ds.2022A.pkl\"),\n",
    "#     source_or_target_dataset=\"source\",\n",
    "#     x_transform_func=global_x_transform_func,\n",
    "#     domain_modifier=lambda u: f\"oracle1_{u}\"\n",
    "# )\n"
   ]
  },
  {
   "cell_type": "code",
   "execution_count": 16,
   "id": "97dea9d2",
   "metadata": {
    "execution": {
     "iopub.execute_input": "2022-03-23T15:37:01.815034Z",
     "iopub.status.busy": "2022-03-23T15:37:01.814649Z",
     "iopub.status.idle": "2022-03-23T15:37:01.832649Z",
     "shell.execute_reply": "2022-03-23T15:37:01.831550Z"
    },
    "papermill": {
     "duration": 0.042928,
     "end_time": "2022-03-23T15:37:01.832883",
     "exception": false,
     "start_time": "2022-03-23T15:37:01.789955",
     "status": "completed"
    },
    "tags": []
   },
   "outputs": [],
   "source": [
    "# from steves_utils.ORACLE.utils_v2 import (\n",
    "#     ALL_DISTANCES_FEET,\n",
    "#     ALL_RUNS,\n",
    "#     ALL_SERIAL_NUMBERS,\n",
    "# )\n",
    "\n",
    "\n",
    "# add_dataset(\n",
    "#     labels=ALL_SERIAL_NUMBERS,\n",
    "#     domains = list(set(ALL_DISTANCES_FEET) - {2,62,56}),\n",
    "#     num_examples_per_domain_per_label=100,\n",
    "#     pickle_path=os.path.join(get_datasets_base_path(), \"oracle.Run2_framed_2000Examples_stratified_ds.2022A.pkl\"),\n",
    "#     source_or_target_dataset=\"source\",\n",
    "#     x_transform_func=global_x_transform_func,\n",
    "#     domain_modifier=lambda u: f\"oracle2_{u}\"\n",
    "# )"
   ]
  },
  {
   "cell_type": "code",
   "execution_count": 17,
   "id": "6f289866",
   "metadata": {
    "execution": {
     "iopub.execute_input": "2022-03-23T15:37:01.897401Z",
     "iopub.status.busy": "2022-03-23T15:37:01.896109Z",
     "iopub.status.idle": "2022-03-23T15:37:01.907945Z",
     "shell.execute_reply": "2022-03-23T15:37:01.907197Z"
    },
    "papermill": {
     "duration": 0.044511,
     "end_time": "2022-03-23T15:37:01.908101",
     "exception": false,
     "start_time": "2022-03-23T15:37:01.863590",
     "status": "completed"
    },
    "tags": []
   },
   "outputs": [],
   "source": [
    "# add_dataset(\n",
    "#     labels=list(range(19)),\n",
    "#     domains = [0,1,2],\n",
    "#     num_examples_per_domain_per_label=100,\n",
    "#     pickle_path=os.path.join(get_datasets_base_path(), \"metehan.stratified_ds.2022A.pkl\"),\n",
    "#     source_or_target_dataset=\"target\",\n",
    "#     x_transform_func=global_x_transform_func,\n",
    "#     domain_modifier=lambda u: f\"met_{u}\"\n",
    "# )"
   ]
  },
  {
   "cell_type": "code",
   "execution_count": 18,
   "id": "86a863c3",
   "metadata": {
    "execution": {
     "iopub.execute_input": "2022-03-23T15:37:01.959025Z",
     "iopub.status.busy": "2022-03-23T15:37:01.958205Z",
     "iopub.status.idle": "2022-03-23T15:37:01.980798Z",
     "shell.execute_reply": "2022-03-23T15:37:01.980046Z"
    },
    "papermill": {
     "duration": 0.046336,
     "end_time": "2022-03-23T15:37:01.980950",
     "exception": false,
     "start_time": "2022-03-23T15:37:01.934614",
     "status": "completed"
    },
    "tags": []
   },
   "outputs": [],
   "source": [
    "# # from steves_utils.wisig.utils import (\n",
    "# #     ALL_NODES_MINIMUM_100_EXAMPLES,\n",
    "# #     ALL_NODES_MINIMUM_500_EXAMPLES,\n",
    "# #     ALL_NODES_MINIMUM_1000_EXAMPLES,\n",
    "# #     ALL_DAYS\n",
    "# # )\n",
    "\n",
    "# import steves_utils.wisig.utils as wisig\n",
    "\n",
    "\n",
    "# add_dataset(\n",
    "#     labels=wisig.ALL_NODES_MINIMUM_100_EXAMPLES,\n",
    "#     domains = wisig.ALL_DAYS,\n",
    "#     num_examples_per_domain_per_label=100,\n",
    "#     pickle_path=os.path.join(get_datasets_base_path(), \"wisig.node3-19.stratified_ds.2022A.pkl\"),\n",
    "#     source_or_target_dataset=\"target\",\n",
    "#     x_transform_func=global_x_transform_func,\n",
    "#     domain_modifier=lambda u: f\"wisig_{u}\"\n",
    "# )"
   ]
  },
  {
   "cell_type": "code",
   "execution_count": 19,
   "id": "fd5442bc",
   "metadata": {
    "execution": {
     "iopub.execute_input": "2022-03-23T15:37:02.036268Z",
     "iopub.status.busy": "2022-03-23T15:37:02.035379Z",
     "iopub.status.idle": "2022-03-23T15:37:02.056032Z",
     "shell.execute_reply": "2022-03-23T15:37:02.055198Z"
    },
    "papermill": {
     "duration": 0.050633,
     "end_time": "2022-03-23T15:37:02.056184",
     "exception": false,
     "start_time": "2022-03-23T15:37:02.005551",
     "status": "completed"
    },
    "tags": []
   },
   "outputs": [],
   "source": [
    "###################################\n",
    "# Build the dataset\n",
    "###################################\n",
    "train_original_source = Iterable_Aggregator(train_original_source, p.seed)\n",
    "val_original_source = Iterable_Aggregator(val_original_source, p.seed)\n",
    "test_original_source = Iterable_Aggregator(test_original_source, p.seed)\n",
    "\n",
    "\n",
    "train_original_target = Iterable_Aggregator(train_original_target, p.seed)\n",
    "val_original_target = Iterable_Aggregator(val_original_target, p.seed)\n",
    "test_original_target = Iterable_Aggregator(test_original_target, p.seed)\n",
    "\n",
    "# For CNN We only use X and Y. And we only train on the source.\n",
    "# Properly form the data using a transform lambda and Lazy_Iterable_Wrapper. Finally wrap them in a dataloader\n",
    "\n",
    "transform_lambda = lambda ex: ex[1] # Original is (<domain>, <episode>) so we strip down to episode only\n",
    "\n",
    "train_processed_source = Lazy_Iterable_Wrapper(train_original_source, transform_lambda)\n",
    "val_processed_source   = Lazy_Iterable_Wrapper(val_original_source, transform_lambda)\n",
    "test_processed_source  = Lazy_Iterable_Wrapper(test_original_source, transform_lambda)\n",
    "\n",
    "train_processed_target = Lazy_Iterable_Wrapper(train_original_target, transform_lambda)\n",
    "val_processed_target   = Lazy_Iterable_Wrapper(val_original_target, transform_lambda)\n",
    "test_processed_target  = Lazy_Iterable_Wrapper(test_original_target, transform_lambda)\n",
    "\n",
    "datasets = EasyDict({\n",
    "    \"source\": {\n",
    "        \"original\": {\"train\":train_original_source, \"val\":val_original_source, \"test\":test_original_source},\n",
    "        \"processed\": {\"train\":train_processed_source, \"val\":val_processed_source, \"test\":test_processed_source}\n",
    "    },\n",
    "    \"target\": {\n",
    "        \"original\": {\"train\":train_original_target, \"val\":val_original_target, \"test\":test_original_target},\n",
    "        \"processed\": {\"train\":train_processed_target, \"val\":val_processed_target, \"test\":test_processed_target}\n",
    "    },\n",
    "})"
   ]
  },
  {
   "cell_type": "code",
   "execution_count": 20,
   "id": "5b3c01fc",
   "metadata": {
    "execution": {
     "iopub.execute_input": "2022-03-23T15:37:02.109046Z",
     "iopub.status.busy": "2022-03-23T15:37:02.108597Z",
     "iopub.status.idle": "2022-03-23T15:37:35.408787Z",
     "shell.execute_reply": "2022-03-23T15:37:35.409490Z"
    },
    "papermill": {
     "duration": 33.326216,
     "end_time": "2022-03-23T15:37:35.409706",
     "exception": false,
     "start_time": "2022-03-23T15:37:02.083490",
     "status": "completed"
    },
    "tags": []
   },
   "outputs": [
    {
     "name": "stdout",
     "output_type": "stream",
     "text": [
      "{'Wisig_4', 'Wisig_1', 'Wisig_3', 'Wisig_2'}\n"
     ]
    },
    {
     "name": "stdout",
     "output_type": "stream",
     "text": [
      "{'ORACLE.run120', 'ORACLE.run138', 'ORACLE.run114', 'ORACLE.run126', 'ORACLE.run132', 'ORACLE.run150', 'ORACLE.run144', 'ORACLE.run18'}\n"
     ]
    },
    {
     "name": "stdout",
     "output_type": "stream",
     "text": [
      "tensor([[[-0.4187,  1.1132,  0.5500,  ...,  0.3647,  1.0329,  1.3510],\n",
      "         [-0.7528, -0.7834,  0.9279,  ..., -0.8695, -1.0344,  0.2553]],\n",
      "\n",
      "        [[-1.2691, -1.6522,  0.0829,  ..., -0.2541, -0.3669, -0.1698],\n",
      "         [ 0.2391, -1.1807, -0.9036,  ..., -0.0734, -0.5788, -0.5177]],\n",
      "\n",
      "        [[ 0.1468, -1.1688, -0.6309,  ...,  0.8592, -0.5757, -0.6513],\n",
      "         [ 1.1717,  0.1628, -0.9144,  ...,  1.2735,  1.0525, -0.2704]],\n",
      "\n",
      "        ...,\n",
      "\n",
      "        [[-0.0922, -0.6696, -0.2874,  ..., -0.9887, -0.6152,  0.6388],\n",
      "         [ 0.5062, -0.2620, -0.7186,  ...,  0.3989, -1.0553, -1.0759]],\n",
      "\n",
      "        [[ 0.4114, -0.9146,  0.0646,  ..., -0.7434, -0.6593,  0.8477],\n",
      "         [ 0.6721, -0.0774, -1.1339,  ...,  0.3079, -0.9164, -0.9678]],\n",
      "\n",
      "        [[-0.6364,  0.7177,  0.0277,  ...,  0.8188,  0.7362, -0.5300],\n",
      "         [-0.4571, -0.0721,  1.1657,  ..., -0.5422,  0.9457,  1.1619]]])\n"
     ]
    }
   ],
   "source": [
    "from steves_utils.transforms import get_average_magnitude, get_average_power\n",
    "\n",
    "print(set([u for u,_ in val_original_source]))\n",
    "print(set([u for u,_ in val_original_target]))\n",
    "\n",
    "s_x, s_y, q_x, q_y, _ = next(iter(train_processed_source))\n",
    "print(s_x)\n",
    "\n",
    "# for ds in [\n",
    "#     train_processed_source,\n",
    "#     val_processed_source,\n",
    "#     test_processed_source,\n",
    "#     train_processed_target,\n",
    "#     val_processed_target,\n",
    "#     test_processed_target\n",
    "# ]:\n",
    "#     for s_x, s_y, q_x, q_y, _ in ds:\n",
    "#         for X in (s_x, q_x):\n",
    "#             for x in X:\n",
    "#                 assert np.isclose(get_average_magnitude(x.numpy()), 1.0)\n",
    "#                 assert np.isclose(get_average_power(x.numpy()), 1.0)\n",
    "                "
   ]
  },
  {
   "cell_type": "code",
   "execution_count": 21,
   "id": "bbdacba1",
   "metadata": {
    "execution": {
     "iopub.execute_input": "2022-03-23T15:37:35.462501Z",
     "iopub.status.busy": "2022-03-23T15:37:35.462115Z",
     "iopub.status.idle": "2022-03-23T15:37:35.671272Z",
     "shell.execute_reply": "2022-03-23T15:37:35.671971Z"
    },
    "papermill": {
     "duration": 0.235881,
     "end_time": "2022-03-23T15:37:35.672206",
     "exception": false,
     "start_time": "2022-03-23T15:37:35.436325",
     "status": "completed"
    },
    "tags": []
   },
   "outputs": [
    {
     "name": "stdout",
     "output_type": "stream",
     "text": [
      "(2, 256)\n"
     ]
    }
   ],
   "source": [
    "###################################\n",
    "# Build the model\n",
    "###################################\n",
    "# easfsl only wants a tuple for the shape\n",
    "model = Steves_Prototypical_Network(x_net, device=p.device, x_shape=tuple(p.x_shape))\n",
    "optimizer = Adam(params=model.parameters(), lr=p.lr)"
   ]
  },
  {
   "cell_type": "code",
   "execution_count": 22,
   "id": "22b39ac5",
   "metadata": {
    "execution": {
     "iopub.execute_input": "2022-03-23T15:37:35.725698Z",
     "iopub.status.busy": "2022-03-23T15:37:35.725324Z",
     "iopub.status.idle": "2022-03-23T16:00:34.632756Z",
     "shell.execute_reply": "2022-03-23T16:00:34.632237Z"
    },
    "papermill": {
     "duration": 1378.933422,
     "end_time": "2022-03-23T16:00:34.632881",
     "exception": false,
     "start_time": "2022-03-23T15:37:35.699459",
     "status": "completed"
    },
    "tags": []
   },
   "outputs": [
    {
     "name": "stdout",
     "output_type": "stream",
     "text": [
      "epoch: 1, [batch: 1 / 6847], examples_per_second: 29.8194, train_label_loss: 2.6070, \n"
     ]
    },
    {
     "name": "stdout",
     "output_type": "stream",
     "text": [
      "epoch: 1, [batch: 685 / 6847], examples_per_second: 2860.6268, train_label_loss: 0.3043, \n"
     ]
    },
    {
     "name": "stdout",
     "output_type": "stream",
     "text": [
      "epoch: 1, [batch: 1370 / 6847], examples_per_second: 3045.3570, train_label_loss: 0.1193, \n"
     ]
    },
    {
     "name": "stdout",
     "output_type": "stream",
     "text": [
      "epoch: 1, [batch: 2054 / 6847], examples_per_second: 3366.9834, train_label_loss: 0.0259, \n"
     ]
    },
    {
     "name": "stdout",
     "output_type": "stream",
     "text": [
      "epoch: 1, [batch: 2739 / 6847], examples_per_second: 3317.0634, train_label_loss: 0.0923, \n"
     ]
    },
    {
     "name": "stdout",
     "output_type": "stream",
     "text": [
      "epoch: 1, [batch: 3424 / 6847], examples_per_second: 3372.7329, train_label_loss: 0.0686, \n"
     ]
    },
    {
     "name": "stdout",
     "output_type": "stream",
     "text": [
      "epoch: 1, [batch: 4108 / 6847], examples_per_second: 3355.5631, train_label_loss: 0.3699, \n"
     ]
    },
    {
     "name": "stdout",
     "output_type": "stream",
     "text": [
      "epoch: 1, [batch: 4793 / 6847], examples_per_second: 3497.3534, train_label_loss: 0.1891, \n"
     ]
    },
    {
     "name": "stdout",
     "output_type": "stream",
     "text": [
      "epoch: 1, [batch: 5477 / 6847], examples_per_second: 3487.8766, train_label_loss: 0.1098, \n"
     ]
    },
    {
     "name": "stdout",
     "output_type": "stream",
     "text": [
      "epoch: 1, [batch: 6162 / 6847], examples_per_second: 4029.0213, train_label_loss: 0.2361, \n"
     ]
    },
    {
     "name": "stdout",
     "output_type": "stream",
     "text": [
      "=============================================================\n",
      "epoch: 1, source_val_acc_label: 0.9631, target_val_acc_label: 0.1060, source_val_label_loss: 0.1639, target_val_label_loss: 2.7290, \n",
      "=============================================================\n"
     ]
    },
    {
     "name": "stdout",
     "output_type": "stream",
     "text": [
      "New best\n"
     ]
    },
    {
     "name": "stdout",
     "output_type": "stream",
     "text": [
      "epoch: 2, [batch: 1 / 6860], examples_per_second: 1.5555, train_label_loss: 0.2797, \n"
     ]
    },
    {
     "name": "stdout",
     "output_type": "stream",
     "text": [
      "epoch: 2, [batch: 686 / 6860], examples_per_second: 2911.7931, train_label_loss: 0.2373, \n"
     ]
    },
    {
     "name": "stdout",
     "output_type": "stream",
     "text": [
      "epoch: 2, [batch: 1372 / 6860], examples_per_second: 2954.9888, train_label_loss: 0.4161, \n"
     ]
    },
    {
     "name": "stdout",
     "output_type": "stream",
     "text": [
      "epoch: 2, [batch: 2058 / 6860], examples_per_second: 2967.9755, train_label_loss: 0.2309, \n"
     ]
    },
    {
     "name": "stdout",
     "output_type": "stream",
     "text": [
      "epoch: 2, [batch: 2744 / 6860], examples_per_second: 2986.2448, train_label_loss: 0.0243, \n"
     ]
    },
    {
     "name": "stdout",
     "output_type": "stream",
     "text": [
      "epoch: 2, [batch: 3430 / 6860], examples_per_second: 2970.7260, train_label_loss: 0.0059, \n"
     ]
    },
    {
     "name": "stdout",
     "output_type": "stream",
     "text": [
      "epoch: 2, [batch: 4116 / 6860], examples_per_second: 2952.3766, train_label_loss: 0.1813, \n"
     ]
    },
    {
     "name": "stdout",
     "output_type": "stream",
     "text": [
      "epoch: 2, [batch: 4802 / 6860], examples_per_second: 3008.4994, train_label_loss: 0.4028, \n"
     ]
    },
    {
     "name": "stdout",
     "output_type": "stream",
     "text": [
      "epoch: 2, [batch: 5488 / 6860], examples_per_second: 2959.1016, train_label_loss: 0.0068, \n"
     ]
    },
    {
     "name": "stdout",
     "output_type": "stream",
     "text": [
      "epoch: 2, [batch: 6174 / 6860], examples_per_second: 2954.3383, train_label_loss: 0.0160, \n"
     ]
    },
    {
     "name": "stdout",
     "output_type": "stream",
     "text": [
      "=============================================================\n",
      "epoch: 2, source_val_acc_label: 0.9715, target_val_acc_label: 0.1004, source_val_label_loss: 0.1231, target_val_label_loss: 2.7531, \n",
      "=============================================================\n"
     ]
    },
    {
     "name": "stdout",
     "output_type": "stream",
     "text": [
      "epoch: 3, [batch: 1 / 6849], examples_per_second: 1.2597, train_label_loss: 0.0247, \n"
     ]
    },
    {
     "name": "stdout",
     "output_type": "stream",
     "text": [
      "epoch: 3, [batch: 685 / 6849], examples_per_second: 2942.1022, train_label_loss: 0.0648, \n"
     ]
    },
    {
     "name": "stdout",
     "output_type": "stream",
     "text": [
      "epoch: 3, [batch: 1370 / 6849], examples_per_second: 2996.9621, train_label_loss: 0.1100, \n"
     ]
    },
    {
     "name": "stdout",
     "output_type": "stream",
     "text": [
      "epoch: 3, [batch: 2055 / 6849], examples_per_second: 2981.7063, train_label_loss: 0.0022, \n"
     ]
    },
    {
     "name": "stdout",
     "output_type": "stream",
     "text": [
      "epoch: 3, [batch: 2740 / 6849], examples_per_second: 2996.5930, train_label_loss: 0.0075, \n"
     ]
    },
    {
     "name": "stdout",
     "output_type": "stream",
     "text": [
      "epoch: 3, [batch: 3425 / 6849], examples_per_second: 3055.8510, train_label_loss: 0.2246, \n"
     ]
    },
    {
     "name": "stdout",
     "output_type": "stream",
     "text": [
      "epoch: 3, [batch: 4109 / 6849], examples_per_second: 3009.1152, train_label_loss: 0.1712, \n"
     ]
    },
    {
     "name": "stdout",
     "output_type": "stream",
     "text": [
      "epoch: 3, [batch: 4794 / 6849], examples_per_second: 3005.2600, train_label_loss: 0.0291, \n"
     ]
    },
    {
     "name": "stdout",
     "output_type": "stream",
     "text": [
      "epoch: 3, [batch: 5479 / 6849], examples_per_second: 2986.0358, train_label_loss: 0.0048, \n"
     ]
    },
    {
     "name": "stdout",
     "output_type": "stream",
     "text": [
      "epoch: 3, [batch: 6164 / 6849], examples_per_second: 3027.5670, train_label_loss: 0.0031, \n"
     ]
    },
    {
     "name": "stdout",
     "output_type": "stream",
     "text": [
      "=============================================================\n",
      "epoch: 3, source_val_acc_label: 0.9734, target_val_acc_label: 0.1032, source_val_label_loss: 0.1173, target_val_label_loss: 2.7563, \n",
      "=============================================================\n"
     ]
    },
    {
     "name": "stdout",
     "output_type": "stream",
     "text": [
      "epoch: 4, [batch: 1 / 6845], examples_per_second: 1.2447, train_label_loss: 0.1430, \n"
     ]
    },
    {
     "name": "stdout",
     "output_type": "stream",
     "text": [
      "epoch: 4, [batch: 685 / 6845], examples_per_second: 2921.4475, train_label_loss: 0.0369, \n"
     ]
    },
    {
     "name": "stdout",
     "output_type": "stream",
     "text": [
      "epoch: 4, [batch: 1369 / 6845], examples_per_second: 2961.9956, train_label_loss: 0.0843, \n"
     ]
    },
    {
     "name": "stdout",
     "output_type": "stream",
     "text": [
      "epoch: 4, [batch: 2054 / 6845], examples_per_second: 3008.4119, train_label_loss: 0.0014, \n"
     ]
    },
    {
     "name": "stdout",
     "output_type": "stream",
     "text": [
      "epoch: 4, [batch: 2738 / 6845], examples_per_second: 2938.3418, train_label_loss: 0.1256, \n"
     ]
    },
    {
     "name": "stdout",
     "output_type": "stream",
     "text": [
      "epoch: 4, [batch: 3423 / 6845], examples_per_second: 2952.2224, train_label_loss: 0.0039, \n"
     ]
    },
    {
     "name": "stdout",
     "output_type": "stream",
     "text": [
      "epoch: 4, [batch: 4107 / 6845], examples_per_second: 2939.1733, train_label_loss: 0.0062, \n"
     ]
    },
    {
     "name": "stdout",
     "output_type": "stream",
     "text": [
      "epoch: 4, [batch: 4791 / 6845], examples_per_second: 2920.0723, train_label_loss: 0.0019, \n"
     ]
    },
    {
     "name": "stdout",
     "output_type": "stream",
     "text": [
      "epoch: 4, [batch: 5476 / 6845], examples_per_second: 2964.0486, train_label_loss: 0.1139, \n"
     ]
    },
    {
     "name": "stdout",
     "output_type": "stream",
     "text": [
      "epoch: 4, [batch: 6160 / 6845], examples_per_second: 3362.7773, train_label_loss: 0.0013, \n"
     ]
    },
    {
     "name": "stdout",
     "output_type": "stream",
     "text": [
      "=============================================================\n",
      "epoch: 4, source_val_acc_label: 0.9728, target_val_acc_label: 0.1013, source_val_label_loss: 0.1188, target_val_label_loss: 2.7878, \n",
      "=============================================================\n"
     ]
    },
    {
     "name": "stdout",
     "output_type": "stream",
     "text": [
      "epoch: 5, [batch: 1 / 6835], examples_per_second: 1.5658, train_label_loss: 0.0140, \n"
     ]
    },
    {
     "name": "stdout",
     "output_type": "stream",
     "text": [
      "epoch: 5, [batch: 684 / 6835], examples_per_second: 3337.7577, train_label_loss: 0.0094, \n"
     ]
    },
    {
     "name": "stdout",
     "output_type": "stream",
     "text": [
      "epoch: 5, [batch: 1367 / 6835], examples_per_second: 3428.6603, train_label_loss: 0.0027, \n"
     ]
    },
    {
     "name": "stdout",
     "output_type": "stream",
     "text": [
      "epoch: 5, [batch: 2051 / 6835], examples_per_second: 3424.1328, train_label_loss: 0.1089, \n"
     ]
    },
    {
     "name": "stdout",
     "output_type": "stream",
     "text": [
      "epoch: 5, [batch: 2734 / 6835], examples_per_second: 3460.2429, train_label_loss: 0.1902, \n"
     ]
    },
    {
     "name": "stdout",
     "output_type": "stream",
     "text": [
      "epoch: 5, [batch: 3418 / 6835], examples_per_second: 3852.9476, train_label_loss: 0.0965, \n"
     ]
    },
    {
     "name": "stdout",
     "output_type": "stream",
     "text": [
      "epoch: 5, [batch: 4101 / 6835], examples_per_second: 3819.4549, train_label_loss: 0.0016, \n"
     ]
    },
    {
     "name": "stdout",
     "output_type": "stream",
     "text": [
      "epoch: 5, [batch: 4784 / 6835], examples_per_second: 3034.4458, train_label_loss: 0.0207, \n"
     ]
    },
    {
     "name": "stdout",
     "output_type": "stream",
     "text": [
      "epoch: 5, [batch: 5468 / 6835], examples_per_second: 2979.3818, train_label_loss: 0.0050, \n"
     ]
    },
    {
     "name": "stdout",
     "output_type": "stream",
     "text": [
      "epoch: 5, [batch: 6151 / 6835], examples_per_second: 2995.4724, train_label_loss: 0.0065, \n"
     ]
    },
    {
     "name": "stdout",
     "output_type": "stream",
     "text": [
      "=============================================================\n",
      "epoch: 5, source_val_acc_label: 0.9741, target_val_acc_label: 0.0965, source_val_label_loss: 0.1171, target_val_label_loss: 2.8740, \n",
      "=============================================================\n"
     ]
    },
    {
     "name": "stdout",
     "output_type": "stream",
     "text": [
      "Patience (3) exhausted\n"
     ]
    }
   ],
   "source": [
    "###################################\n",
    "# train\n",
    "###################################\n",
    "jig = PTN_Train_Eval_Test_Jig(model, p.BEST_MODEL_PATH, p.device)\n",
    "\n",
    "jig.train(\n",
    "    train_iterable=datasets.source.processed.train,\n",
    "    source_val_iterable=datasets.source.processed.val,\n",
    "    target_val_iterable=datasets.target.processed.val,\n",
    "    num_epochs=p.n_epoch,\n",
    "    num_logs_per_epoch=p.NUM_LOGS_PER_EPOCH,\n",
    "    patience=p.patience,\n",
    "    optimizer=optimizer,\n",
    "    criteria_for_best=p.criteria_for_best,\n",
    ")"
   ]
  },
  {
   "cell_type": "code",
   "execution_count": 23,
   "id": "31e8fabf",
   "metadata": {
    "execution": {
     "iopub.execute_input": "2022-03-23T16:00:34.718434Z",
     "iopub.status.busy": "2022-03-23T16:00:34.717869Z",
     "iopub.status.idle": "2022-03-23T16:00:34.753066Z",
     "shell.execute_reply": "2022-03-23T16:00:34.752347Z"
    },
    "papermill": {
     "duration": 0.077,
     "end_time": "2022-03-23T16:00:34.753220",
     "exception": false,
     "start_time": "2022-03-23T16:00:34.676220",
     "status": "completed"
    },
    "tags": []
   },
   "outputs": [],
   "source": [
    "total_experiment_time_secs = time.time() - start_time_secs"
   ]
  },
  {
   "cell_type": "code",
   "execution_count": 24,
   "id": "87b9595b",
   "metadata": {
    "execution": {
     "iopub.execute_input": "2022-03-23T16:00:34.843704Z",
     "iopub.status.busy": "2022-03-23T16:00:34.838401Z",
     "iopub.status.idle": "2022-03-23T16:11:42.585791Z",
     "shell.execute_reply": "2022-03-23T16:11:42.586279Z"
    },
    "papermill": {
     "duration": 667.788868,
     "end_time": "2022-03-23T16:11:42.586493",
     "exception": false,
     "start_time": "2022-03-23T16:00:34.797625",
     "status": "completed"
    },
    "tags": []
   },
   "outputs": [],
   "source": [
    "###################################\n",
    "# Evaluate the model\n",
    "###################################\n",
    "source_test_label_accuracy, source_test_label_loss = jig.test(datasets.source.processed.test)\n",
    "target_test_label_accuracy, target_test_label_loss = jig.test(datasets.target.processed.test)\n",
    "\n",
    "source_val_label_accuracy, source_val_label_loss = jig.test(datasets.source.processed.val)\n",
    "target_val_label_accuracy, target_val_label_loss = jig.test(datasets.target.processed.val)\n",
    "\n",
    "history = jig.get_history()\n",
    "\n",
    "total_epochs_trained = len(history[\"epoch_indices\"])\n",
    "\n",
    "val_dl = Iterable_Aggregator((datasets.source.original.val,datasets.target.original.val))\n",
    "\n",
    "confusion = ptn_confusion_by_domain_over_dataloader(model, p.device, val_dl)\n",
    "per_domain_accuracy = per_domain_accuracy_from_confusion(confusion)\n",
    "\n",
    "# Add a key to per_domain_accuracy for if it was a source domain\n",
    "for domain, accuracy in per_domain_accuracy.items():\n",
    "    per_domain_accuracy[domain] = {\n",
    "        \"accuracy\": accuracy,\n",
    "        \"source?\": domain in p.domains_source\n",
    "    }\n",
    "\n",
    "# Do an independent accuracy assesment JUST TO BE SURE!\n",
    "# _source_test_label_accuracy = independent_accuracy_assesment(model, datasets.source.processed.test, p.device)\n",
    "# _target_test_label_accuracy = independent_accuracy_assesment(model, datasets.target.processed.test, p.device)\n",
    "# _source_val_label_accuracy = independent_accuracy_assesment(model, datasets.source.processed.val, p.device)\n",
    "# _target_val_label_accuracy = independent_accuracy_assesment(model, datasets.target.processed.val, p.device)\n",
    "\n",
    "# assert(_source_test_label_accuracy == source_test_label_accuracy)\n",
    "# assert(_target_test_label_accuracy == target_test_label_accuracy)\n",
    "# assert(_source_val_label_accuracy == source_val_label_accuracy)\n",
    "# assert(_target_val_label_accuracy == target_val_label_accuracy)\n",
    "\n",
    "experiment = {\n",
    "    \"experiment_name\": p.experiment_name,\n",
    "    \"parameters\": dict(p),\n",
    "    \"results\": {\n",
    "        \"source_test_label_accuracy\": source_test_label_accuracy,\n",
    "        \"source_test_label_loss\": source_test_label_loss,\n",
    "        \"target_test_label_accuracy\": target_test_label_accuracy,\n",
    "        \"target_test_label_loss\": target_test_label_loss,\n",
    "        \"source_val_label_accuracy\": source_val_label_accuracy,\n",
    "        \"source_val_label_loss\": source_val_label_loss,\n",
    "        \"target_val_label_accuracy\": target_val_label_accuracy,\n",
    "        \"target_val_label_loss\": target_val_label_loss,\n",
    "        \"total_epochs_trained\": total_epochs_trained,\n",
    "        \"total_experiment_time_secs\": total_experiment_time_secs,\n",
    "        \"confusion\": confusion,\n",
    "        \"per_domain_accuracy\": per_domain_accuracy,\n",
    "    },\n",
    "    \"history\": history,\n",
    "    \"dataset_metrics\": get_dataset_metrics(datasets, \"ptn\"),\n",
    "}"
   ]
  },
  {
   "cell_type": "code",
   "execution_count": 25,
   "id": "54a21829",
   "metadata": {
    "execution": {
     "iopub.execute_input": "2022-03-23T16:11:42.684427Z",
     "iopub.status.busy": "2022-03-23T16:11:42.684046Z",
     "iopub.status.idle": "2022-03-23T16:11:42.904669Z",
     "shell.execute_reply": "2022-03-23T16:11:42.905360Z"
    },
    "papermill": {
     "duration": 0.261929,
     "end_time": "2022-03-23T16:11:42.905580",
     "exception": false,
     "start_time": "2022-03-23T16:11:42.643651",
     "status": "completed"
    },
    "tags": []
   },
   "outputs": [
    {
     "data": {
      "image/png": "[encoded data removed]",
      "text/plain": [
       "<Figure size 1080x504 with 1 Axes>"
      ]
     },
     "metadata": {
      "needs_background": "light"
     },
     "output_type": "display_data"
    }
   ],
   "source": [
    "ax = get_loss_curve(experiment)\n",
    "plt.show()"
   ]
  },
  {
   "cell_type": "code",
   "execution_count": 26,
   "id": "fd8a0f60",
   "metadata": {
    "execution": {
     "iopub.execute_input": "2022-03-23T16:11:42.990665Z",
     "iopub.status.busy": "2022-03-23T16:11:42.990283Z",
     "iopub.status.idle": "2022-03-23T16:11:43.370057Z",
     "shell.execute_reply": "2022-03-23T16:11:43.370740Z"
    },
    "papermill": {
     "duration": 0.422751,
     "end_time": "2022-03-23T16:11:43.370959",
     "exception": false,
     "start_time": "2022-03-23T16:11:42.948208",
     "status": "completed"
    },
    "tags": []
   },
   "outputs": [
    {
     "data": {
      "text/plain": [
       "<AxesSubplot:title={'center':'Results'}>"
      ]
     },
     "execution_count": 26,
     "metadata": {},
     "output_type": "execute_result"
    },
    {
     "data": {
      "image/png": "[encoded data removed]",
      "text/plain": [
       "<Figure size 1080x504 with 1 Axes>"
      ]
     },
     "metadata": {
      "needs_background": "light"
     },
     "output_type": "display_data"
    }
   ],
   "source": [
    "get_results_table(experiment)"
   ]
  },
  {
   "cell_type": "code",
   "execution_count": 27,
   "id": "cf8dc689",
   "metadata": {
    "execution": {
     "iopub.execute_input": "2022-03-23T16:11:43.464328Z",
     "iopub.status.busy": "2022-03-23T16:11:43.463950Z",
     "iopub.status.idle": "2022-03-23T16:11:43.724264Z",
     "shell.execute_reply": "2022-03-23T16:11:43.724961Z"
    },
    "papermill": {
     "duration": 0.304727,
     "end_time": "2022-03-23T16:11:43.725166",
     "exception": false,
     "start_time": "2022-03-23T16:11:43.420439",
     "status": "completed"
    },
    "tags": []
   },
   "outputs": [
    {
     "data": {
      "text/plain": [
       "<AxesSubplot:title={'center':'Per Domain Validation Accuracy'}, xlabel='domain'>"
      ]
     },
     "execution_count": 27,
     "metadata": {},
     "output_type": "execute_result"
    },
    {
     "data": {
      "image/png": "[encoded data removed]",
      "text/plain": [
       "<Figure size 1080x504 with 1 Axes>"
      ]
     },
     "metadata": {
      "needs_background": "light"
     },
     "output_type": "display_data"
    }
   ],
   "source": [
    "get_domain_accuracies(experiment)"
   ]
  },
  {
   "cell_type": "code",
   "execution_count": 28,
   "id": "a74ae082",
   "metadata": {
    "execution": {
     "iopub.execute_input": "2022-03-23T16:11:43.818748Z",
     "iopub.status.busy": "2022-03-23T16:11:43.818100Z",
     "iopub.status.idle": "2022-03-23T16:11:43.839447Z",
     "shell.execute_reply": "2022-03-23T16:11:43.838740Z"
    },
    "papermill": {
     "duration": 0.067879,
     "end_time": "2022-03-23T16:11:43.839619",
     "exception": false,
     "start_time": "2022-03-23T16:11:43.771740",
     "status": "completed"
    },
    "tags": []
   },
   "outputs": [
    {
     "name": "stdout",
     "output_type": "stream",
     "text": [
      "Source Test Label Accuracy: 0.9623447204968945 Target Test Label Accuracy: 0.10587239583333333\n",
      "Source Val Label Accuracy: 0.9631342494714588 Target Val Label Accuracy: 0.10603515625\n"
     ]
    }
   ],
   "source": [
    "print(\"Source Test Label Accuracy:\", experiment[\"results\"][\"source_test_label_accuracy\"], \"Target Test Label Accuracy:\", experiment[\"results\"][\"target_test_label_accuracy\"])\n",
    "print(\"Source Val Label Accuracy:\", experiment[\"results\"][\"source_val_label_accuracy\"], \"Target Val Label Accuracy:\", experiment[\"results\"][\"target_val_label_accuracy\"])"
   ]
  },
  {
   "cell_type": "code",
   "execution_count": 29,
   "id": "dacca602",
   "metadata": {
    "execution": {
     "iopub.execute_input": "2022-03-23T16:11:43.932685Z",
     "iopub.status.busy": "2022-03-23T16:11:43.932309Z",
     "iopub.status.idle": "2022-03-23T16:11:43.954787Z",
     "shell.execute_reply": "2022-03-23T16:11:43.955479Z"
    },
    "papermill": {
     "duration": 0.068671,
     "end_time": "2022-03-23T16:11:43.955682",
     "exception": false,
     "start_time": "2022-03-23T16:11:43.887011",
     "status": "completed"
    },
    "tags": [
     "experiment_json"
    ]
   },
   "outputs": [
    {
     "data": {
      "text/plain": [
       "'{\"experiment_name\": \"tl_1v2:wisig-oracle.run1\", \"parameters\": {\"experiment_name\": \"tl_1v2:wisig-oracle.run1\", \"device\": \"cuda\", \"lr\": 0.0001, \"n_shot\": 3, \"n_query\": 2, \"train_k_factor\": 3, \"val_k_factor\": 2, \"test_k_factor\": 2, \"torch_default_dtype\": \"torch.float32\", \"n_epoch\": 50, \"patience\": 3, \"criteria_for_best\": \"target_accuracy\", \"x_net\": [{\"class\": \"nnReshape\", \"kargs\": {\"shape\": [-1, 1, 2, 256]}}, {\"class\": \"Conv2d\", \"kargs\": {\"in_channels\": 1, \"out_channels\": 256, \"kernel_size\": [1, 7], \"bias\": false, \"padding\": [0, 3]}}, {\"class\": \"ReLU\", \"kargs\": {\"inplace\": true}}, {\"class\": \"BatchNorm2d\", \"kargs\": {\"num_features\": 256}}, {\"class\": \"Conv2d\", \"kargs\": {\"in_channels\": 256, \"out_channels\": 80, \"kernel_size\": [2, 7], \"bias\": true, \"padding\": [0, 3]}}, {\"class\": \"ReLU\", \"kargs\": {\"inplace\": true}}, {\"class\": \"BatchNorm2d\", \"kargs\": {\"num_features\": 80}}, {\"class\": \"Flatten\", \"kargs\": {}}, {\"class\": \"Linear\", \"kargs\": {\"in_features\": 20480, \"out_features\": 256}}, {\"class\": \"ReLU\", \"kargs\": {\"inplace\": true}}, {\"class\": \"BatchNorm1d\", \"kargs\": {\"num_features\": 256}}, {\"class\": \"Linear\", \"kargs\": {\"in_features\": 256, \"out_features\": 256}}], \"NUM_LOGS_PER_EPOCH\": 10, \"BEST_MODEL_PATH\": \"./best_model.pth\", \"n_way\": 16, \"datasets\": [{\"labels\": [\"1-10\", \"1-12\", \"1-14\", \"1-16\", \"1-18\", \"1-19\", \"1-8\", \"10-11\", \"10-17\", \"10-4\", \"10-7\", \"11-1\", \"11-10\", \"11-19\", \"11-20\", \"11-4\", \"11-7\", \"12-19\", \"12-20\", \"12-7\", \"13-14\", \"13-18\", \"13-19\", \"13-20\", \"13-3\", \"13-7\", \"14-10\", \"14-11\", \"14-12\", \"14-13\", \"14-14\", \"14-19\", \"14-20\", \"14-7\", \"14-8\", \"14-9\", \"15-1\", \"15-19\", \"15-6\", \"16-1\", \"16-16\", \"16-19\", \"16-20\", \"17-10\", \"17-11\", \"18-1\", \"18-10\", \"18-11\", \"18-12\", \"18-13\", \"18-14\", \"18-15\", \"18-16\", \"18-17\", \"18-19\", \"18-2\", \"18-20\", \"18-4\", \"18-5\", \"18-7\", \"18-8\", \"18-9\", \"19-1\", \"19-10\", \"19-11\", \"19-12\", \"19-13\", \"19-14\", \"19-15\", \"19-19\", \"19-2\", \"19-20\", \"19-3\", \"19-4\", \"19-6\", \"19-7\", \"19-8\", \"19-9\", \"2-1\", \"2-13\", \"2-15\", \"2-3\", \"2-4\", \"2-5\", \"2-6\", \"2-7\", \"2-8\", \"20-1\", \"20-12\", \"20-14\", \"20-15\", \"20-16\", \"20-18\", \"20-19\", \"20-20\", \"20-3\", \"20-4\", \"20-5\", \"20-7\", \"20-8\", \"3-1\", \"3-13\", \"3-18\", \"3-2\", \"3-8\", \"4-1\", \"4-10\", \"4-11\", \"5-1\", \"5-5\", \"6-1\", \"6-15\", \"6-6\", \"7-10\", \"7-11\", \"7-12\", \"7-13\", \"7-14\", \"7-7\", \"7-8\", \"7-9\", \"8-1\", \"8-13\", \"8-14\", \"8-18\", \"8-20\", \"8-3\", \"8-8\", \"9-1\", \"9-7\"], \"domains\": [1, 2, 3, 4], \"num_examples_per_domain_per_label\": -1, \"pickle_path\": \"/root/csc500-main/datasets/wisig.node3-19.stratified_ds.2022A.pkl\", \"source_or_target_dataset\": \"source\", \"x_transforms\": [\"unit_power\"], \"episode_transforms\": [], \"domain_prefix\": \"Wisig_\"}, {\"labels\": [\"3123D52\", \"3123D65\", \"3123D79\", \"3123D80\", \"3123D54\", \"3123D70\", \"3123D7B\", \"3123D89\", \"3123D58\", \"3123D76\", \"3123D7D\", \"3123EFE\", \"3123D64\", \"3123D78\", \"3123D7E\", \"3124E4A\"], \"domains\": [32, 38, 8, 44, 14, 50, 20, 26], \"num_examples_per_domain_per_label\": 10000, \"pickle_path\": \"/root/csc500-main/datasets/oracle.Run1_10kExamples_stratified_ds.2022A.pkl\", \"source_or_target_dataset\": \"target\", \"x_transforms\": [\"unit_power\"], \"episode_transforms\": [], \"domain_prefix\": \"ORACLE.run1\"}], \"dataset_seed\": 420, \"seed\": 420, \"x_shape\": [2, 256], \"domains_source\": [\"Wisig_1\", \"Wisig_2\", \"Wisig_3\", \"Wisig_4\"], \"domains_target\": [\"ORACLE.run132\", \"ORACLE.run138\", \"ORACLE.run18\", \"ORACLE.run144\", \"ORACLE.run114\", \"ORACLE.run150\", \"ORACLE.run120\", \"ORACLE.run126\"]}, \"results\": {\"source_test_label_accuracy\": 0.9623447204968945, \"source_test_label_loss\": 0.16559064388275146, \"target_test_label_accuracy\": 0.10587239583333333, \"target_test_label_loss\": 2.7304370403289795, \"source_val_label_accuracy\": 0.9631342494714588, \"source_val_label_loss\": 0.16390997171401978, \"target_val_label_accuracy\": 0.10603515625, \"target_val_label_loss\": 2.72902512550354, \"total_epochs_trained\": 5, \"total_experiment_time_secs\": 1545.6507153511047, \"confusion\": {\"Wisig_3\": {\"110\": {\"110\": 88, \"91\": 1, \"8\": 2, \"129\": 1}, \"1\": {\"1\": 107, \"69\": 1}, \"2\": {\"2\": 25, \"26\": 2, \"117\": 1}, \"94\": {\"94\": 80, \"27\": 1, \"70\": 1, \"129\": 1, \"39\": 1}, \"64\": {\"64\": 20}, \"78\": {\"78\": 13, \"4\": 1, \"21\": 2}, \"47\": {\"47\": 11, \"69\": 1}, \"127\": {\"127\": 127, \"111\": 1}, \"89\": {\"89\": 28}, \"79\": {\"79\": 12}, \"22\": {\"22\": 16}, \"117\": {\"117\": 112}, \"49\": {\"49\": 21, \"47\": 1, \"108\": 1, \"63\": 1}, \"14\": {\"14\": 80}, \"103\": {\"103\": 16}, \"123\": {\"123\": 16}, \"98\": {\"98\": 126, \"26\": 1, \"90\": 1}, \"18\": {\"18\": 108}, \"61\": {\"61\": 16}, \"108\": {\"108\": 121, \"110\": 1, \"70\": 1, \"88\": 2, \"26\": 1}, \"100\": {\"100\": 16}, \"0\": {\"0\": 115, \"127\": 1}, \"107\": {\"107\": 130}, \"58\": {\"58\": 16}, \"8\": {\"8\": 119, \"85\": 1}, \"85\": {\"85\": 36}, \"31\": {\"31\": 19, \"129\": 1}, \"81\": {\"81\": 32}, \"60\": {\"60\": 18, \"31\": 1, \"70\": 1, \"23\": 2, \"110\": 1, \"85\": 1, \"73\": 1, \"116\": 1, \"122\": 2}, \"102\": {\"102\": 116}, \"19\": {\"19\": 29, \"28\": 1, \"128\": 1, \"46\": 1}, \"23\": {\"60\": 2, \"23\": 24, \"67\": 1, \"122\": 1, \"17\": 2, \"123\": 1, \"97\": 1}, \"32\": {\"32\": 27, \"66\": 1, \"14\": 1, \"107\": 1, \"9\": 1, \"62\": 1}, \"39\": {\"39\": 105, \"126\": 2, \"21\": 1}, \"129\": {\"129\": 31, \"110\": 1}, \"71\": {\"71\": 67, \"84\": 1}, \"91\": {\"91\": 20, \"57\": 1, \"58\": 1, \"70\": 1, \"42\": 1}, \"101\": {\"101\": 50, \"21\": 1, \"113\": 1}, \"62\": {\"62\": 120, \"0\": 1, \"118\": 1}, \"63\": {\"63\": 16}, \"125\": {\"125\": 117, \"69\": 1, \"10\": 1, \"4\": 1}, \"57\": {\"57\": 20}, \"28\": {\"28\": 16}, \"70\": {\"70\": 61, \"25\": 1, \"43\": 1, \"21\": 1, \"15\": 1, \"61\": 1, \"8\": 1, \"105\": 1, \"69\": 2, \"33\": 1, \"36\": 1}, \"99\": {\"99\": 33, \"21\": 1, \"27\": 1, \"42\": 1}, \"121\": {\"121\": 28, \"61\": 1, \"80\": 1, \"19\": 1, \"113\": 1}, \"4\": {\"4\": 95, \"94\": 1}, \"80\": {\"80\": 16}, \"51\": {\"97\": 1, \"51\": 12, \"82\": 1, \"21\": 1, \"73\": 1}, \"3\": {\"3\": 113, \"13\": 1, \"70\": 1, \"109\": 1}, \"9\": {\"9\": 32}, \"53\": {\"53\": 19, \"81\": 1}, \"30\": {\"30\": 83, \"69\": 1}, \"33\": {\"33\": 122}, \"15\": {\"15\": 103, \"102\": 1}, \"97\": {\"30\": 1, \"97\": 19}, \"86\": {\"86\": 27, \"84\": 1}, \"20\": {\"20\": 16}, \"66\": {\"66\": 16}, \"10\": {\"10\": 118, \"127\": 1, \"9\": 1, \"4\": 1, \"43\": 1}, \"29\": {\"29\": 31, \"9\": 1}, \"109\": {\"109\": 112, \"5\": 1, \"33\": 1}, \"52\": {\"52\": 16}, \"67\": {\"67\": 16}, \"83\": {\"83\": 22, \"69\": 1, \"43\": 1}, \"72\": {\"72\": 28}, \"90\": {\"90\": 124, \"26\": 2}, \"69\": {\"69\": 83, \"92\": 1}, \"88\": {\"88\": 109, \"8\": 1, \"39\": 1, \"36\": 1}, \"115\": {\"115\": 16}, \"73\": {\"73\": 35, \"22\": 1, \"24\": 1, \"25\": 1, \"69\": 1, \"89\": 1}, \"34\": {\"34\": 23, \"6\": 2, \"14\": 2, \"124\": 1, \"17\": 1, \"128\": 1, \"28\": 1, \"58\": 1}, \"25\": {\"25\": 16}, \"44\": {\"44\": 71, \"113\": 1}, \"112\": {\"112\": 16}, \"37\": {\"37\": 16}, \"77\": {\"77\": 16}, \"111\": {\"111\": 118, \"127\": 3, \"106\": 1}, \"119\": {\"119\": 16}, \"56\": {\"56\": 12}, \"5\": {\"5\": 110, \"122\": 1, \"21\": 1}, \"122\": {\"122\": 57, \"21\": 3}, \"74\": {\"74\": 16}, \"11\": {\"11\": 150, \"107\": 1, \"16\": 1}, \"41\": {\"41\": 16}, \"104\": {\"104\": 16}, \"21\": {\"21\": 46, \"101\": 2}, \"118\": {\"118\": 98, \"86\": 1, \"105\": 1}, \"40\": {\"40\": 121, \"21\": 1}, \"6\": {\"6\": 32}, \"27\": {\"27\": 89, \"24\": 1, \"36\": 5, \"61\": 1}, \"113\": {\"113\": 119, \"43\": 1}, \"68\": {\"68\": 16}, \"12\": {\"12\": 102}, \"54\": {\"54\": 16}, \"24\": {\"24\": 45, \"86\": 1, \"54\": 1, \"36\": 1}, \"106\": {\"106\": 98, \"87\": 1, \"6\": 1}, \"128\": {\"128\": 31, \"122\": 1}, \"48\": {\"48\": 7, \"65\": 1, \"10\": 1, \"11\": 1, \"79\": 2, \"95\": 2, \"33\": 2}, \"92\": {\"92\": 32}, \"35\": {\"35\": 10, \"24\": 1, \"27\": 1}, \"116\": {\"116\": 26, \"60\": 1, \"82\": 1}, \"38\": {\"38\": 15, \"25\": 1}, \"126\": {\"126\": 122, \"17\": 1, \"39\": 1}, \"46\": {\"46\": 16}, \"120\": {\"120\": 20}, \"7\": {\"7\": 111, \"84\": 1}, \"13\": {\"13\": 8, \"11\": 2, \"24\": 1, \"82\": 1, \"122\": 1, \"121\": 1, \"120\": 1, \"17\": 1}, \"43\": {\"43\": 45, \"33\": 5, \"84\": 1, \"83\": 1, \"30\": 1, \"102\": 1, \"87\": 1, \"105\": 1}, \"93\": {\"93\": 131, \"109\": 1}, \"26\": {\"26\": 131, \"69\": 1}, \"76\": {\"76\": 16}, \"59\": {\"59\": 12}, \"65\": {\"65\": 11, \"64\": 1}, \"87\": {\"87\": 119, \"26\": 1}, \"124\": {\"124\": 122, \"52\": 1, \"90\": 1}, \"84\": {\"84\": 107, \"110\": 1}, \"82\": {\"82\": 28}, \"75\": {\"75\": 16}, \"17\": {\"4\": 1, \"17\": 8, \"67\": 1, \"104\": 1, \"105\": 2, \"106\": 1, \"6\": 1, \"51\": 1}, \"105\": {\"105\": 124}, \"95\": {\"95\": 32}, \"42\": {\"42\": 24, \"124\": 1, \"88\": 1, \"83\": 2}, \"55\": {\"55\": 16}, \"16\": {\"16\": 115, \"6\": 1}, \"50\": {\"50\": 16}, \"96\": {\"96\": 19, \"83\": 1}, \"45\": {\"45\": 16}, \"36\": {\"36\": 117, \"27\": 3}, \"114\": {\"114\": 119, \"69\": 1, \"122\": 1, \"39\": 1, \"106\": 1, \"11\": 1}}, \"Wisig_4\": {\"113\": {\"113\": 122, \"27\": 1, \"69\": 1}, \"85\": {\"85\": 26, \"118\": 1, \"102\": 1}, \"34\": {\"34\": 24, \"72\": 1, \"75\": 1, \"47\": 2, \"91\": 2, \"45\": 1, \"120\": 1}, \"55\": {\"55\": 16}, \"42\": {\"42\": 19, \"20\": 2, \"8\": 3, \"34\": 1, \"79\": 2, \"112\": 1}, \"13\": {\"13\": 16}, \"69\": {\"69\": 118, \"70\": 1, \"8\": 1, \"1\": 1, \"78\": 1, \"88\": 1, \"16\": 1}, \"35\": {\"35\": 12}, \"83\": {\"83\": 26, \"21\": 1, \"88\": 1}, \"51\": {\"34\": 1, \"24\": 1, \"62\": 2, \"51\": 7, \"29\": 2, \"91\": 1, \"69\": 1, \"98\": 1}, \"72\": {\"72\": 32}, \"24\": {\"24\": 117, \"21\": 1, \"10\": 1, \"36\": 1}, \"53\": {\"53\": 15, \"49\": 1}, \"8\": {\"8\": 136, \"5\": 1, \"110\": 1, \"27\": 1, \"1\": 1, \"69\": 2, \"39\": 1, \"21\": 1}, \"49\": {\"49\": 30, \"88\": 1, \"5\": 1}, \"21\": {\"21\": 39, \"23\": 1}, \"18\": {\"18\": 118, \"24\": 1, \"39\": 1}, \"114\": {\"114\": 116, \"40\": 1, \"3\": 1}, \"58\": {\"58\": 15, \"31\": 1}, \"56\": {\"56\": 12}, \"80\": {\"80\": 16}, \"11\": {\"11\": 153, \"40\": 1}, \"15\": {\"15\": 123, \"105\": 1, \"10\": 2, \"40\": 1, \"69\": 1}, \"50\": {\"50\": 14, \"43\": 2}, \"111\": {\"111\": 137, \"27\": 1}, \"108\": {\"108\": 81, \"88\": 3, \"122\": 1, \"27\": 1, \"24\": 1, \"129\": 1, \"39\": 2, \"18\": 1, \"16\": 1}, \"104\": {\"104\": 16}, \"32\": {\"32\": 22, \"8\": 1, \"108\": 1, \"14\": 1, \"89\": 1, \"45\": 2}, \"68\": {\"68\": 15, \"122\": 1}, \"73\": {\"73\": 24}, \"92\": {\"92\": 28}, \"57\": {\"57\": 16}, \"40\": {\"40\": 132, \"107\": 1, \"8\": 1, \"122\": 1, \"126\": 1}, \"71\": {\"71\": 101, \"30\": 1, \"1\": 1, \"69\": 1}, \"121\": {\"121\": 26, \"80\": 1, \"27\": 1, \"90\": 1, \"38\": 1, \"115\": 2}, \"62\": {\"62\": 53, \"122\": 1, \"21\": 2, \"2\": 1, \"41\": 1, \"39\": 1, \"36\": 1}, \"39\": {\"39\": 92, \"88\": 1, \"23\": 1, \"81\": 2, \"10\": 1, \"105\": 1, \"24\": 1, \"122\": 1}, \"107\": {\"107\": 142, \"122\": 1, \"88\": 1}, \"60\": {\"60\": 29, \"129\": 1, \"50\": 1, \"122\": 1}, \"129\": {\"129\": 23, \"122\": 1, \"60\": 1, \"21\": 1, \"27\": 1, \"110\": 1}, \"84\": {\"84\": 127, \"88\": 2, \"122\": 1, \"39\": 1, \"118\": 1}, \"106\": {\"106\": 114, \"21\": 1, \"118\": 1}, \"87\": {\"87\": 128, \"105\": 3, \"43\": 1}, \"110\": {\"110\": 89, \"78\": 1, \"113\": 1, \"27\": 1, \"36\": 1, \"87\": 1}, \"118\": {\"118\": 108, \"22\": 1, \"107\": 1, \"129\": 1, \"40\": 1}, \"64\": {\"64\": 15, \"106\": 1}, \"82\": {\"60\": 1, \"82\": 30, \"17\": 1}, \"7\": {\"7\": 121, \"102\": 1, \"69\": 1, \"24\": 1}, \"0\": {\"0\": 111, \"84\": 1, \"107\": 1, \"21\": 2, \"101\": 1}, \"41\": {\"41\": 14, \"23\": 1, \"21\": 1}, \"102\": {\"102\": 127, \"98\": 1, \"117\": 1, \"20\": 1}, \"89\": {\"89\": 31, \"51\": 1}, \"26\": {\"26\": 125, \"69\": 1, \"59\": 1, \"8\": 1}, \"103\": {\"103\": 14, \"88\": 1, \"52\": 1}, \"90\": {\"90\": 114, \"98\": 1, \"121\": 1, \"113\": 1, \"88\": 1}, \"14\": {\"14\": 111, \"89\": 1}, \"9\": {\"9\": 28}, \"5\": {\"5\": 133, \"113\": 1, \"40\": 2}, \"22\": {\"22\": 16}, \"2\": {\"2\": 26, \"26\": 2}, \"77\": {\"77\": 12}, \"59\": {\"59\": 10, \"22\": 1, \"69\": 1}, \"127\": {\"127\": 95, \"23\": 1, \"16\": 1, \"8\": 1, \"105\": 2, \"81\": 1, \"69\": 1}, \"61\": {\"61\": 14, \"35\": 2}, \"17\": {\"17\": 19, \"116\": 1}, \"45\": {\"45\": 15, \"120\": 1}, \"19\": {\"19\": 28}, \"52\": {\"52\": 19, \"129\": 1}, \"123\": {\"84\": 1, \"123\": 13, \"23\": 2}, \"20\": {\"20\": 15, \"31\": 1}, \"112\": {\"112\": 14, \"53\": 1, \"52\": 1}, \"37\": {\"37\": 16}, \"29\": {\"29\": 32}, \"128\": {\"8\": 2, \"128\": 19, \"78\": 1, \"115\": 2}, \"100\": {\"100\": 20}, \"67\": {\"67\": 11, \"123\": 1, \"115\": 1, \"2\": 1, \"69\": 2}, \"12\": {\"12\": 96, \"106\": 1, \"88\": 1, \"71\": 1, \"16\": 1}, \"101\": {\"101\": 127, \"33\": 1}, \"76\": {\"76\": 16}, \"70\": {\"70\": 114, \"88\": 6, \"118\": 1, \"27\": 2, \"126\": 1}, \"31\": {\"70\": 1, \"31\": 15}, \"86\": {\"86\": 28}, \"88\": {\"70\": 3, \"88\": 126, \"69\": 1, \"94\": 1, \"108\": 1}, \"3\": {\"3\": 123, \"70\": 1, \"27\": 1, \"2\": 1}, \"117\": {\"117\": 117, \"122\": 1, \"114\": 1, \"69\": 1}, \"30\": {\"30\": 72, \"40\": 1, \"16\": 1, \"81\": 1, \"114\": 1}, \"96\": {\"96\": 20}, \"27\": {\"27\": 87, \"9\": 1, \"88\": 1, \"39\": 1, \"24\": 3, \"70\": 1, \"84\": 1, \"21\": 1, \"5\": 1, \"6\": 1, \"108\": 2}, \"122\": {\"122\": 84}, \"120\": {\"120\": 19, \"21\": 1}, \"44\": {\"44\": 60, \"121\": 2, \"90\": 1, \"73\": 1}, \"79\": {\"79\": 15, \"122\": 1}, \"105\": {\"105\": 92, \"122\": 1, \"40\": 3, \"87\": 2, \"108\": 1, \"24\": 1}, \"95\": {\"95\": 30, \"24\": 1, \"27\": 1}, \"109\": {\"109\": 112, \"88\": 1, \"69\": 1, \"14\": 2}, \"16\": {\"16\": 115, \"12\": 1, \"114\": 1, \"24\": 1}, \"36\": {\"36\": 89, \"21\": 2, \"105\": 1, \"24\": 4, \"27\": 2}, \"125\": {\"125\": 135, \"39\": 1}, \"97\": {\"97\": 17, \"10\": 2, \"108\": 1}, \"91\": {\"91\": 21, \"84\": 1, \"34\": 1, \"30\": 1}, \"28\": {\"28\": 20}, \"81\": {\"81\": 36}, \"126\": {\"126\": 114, \"69\": 1, \"78\": 1, \"106\": 1, \"107\": 1, \"113\": 1, \"51\": 1, \"39\": 2}, \"4\": {\"4\": 98, \"122\": 1, \"39\": 1, \"10\": 1, \"107\": 1, \"110\": 1, \"69\": 1}, \"10\": {\"10\": 120, \"94\": 1, \"30\": 1, \"106\": 1, \"24\": 1}, \"63\": {\"63\": 16}, \"43\": {\"43\": 117, \"87\": 1}, \"116\": {\"116\": 27, \"92\": 1}, \"1\": {\"1\": 100, \"0\": 1, \"10\": 1, \"110\": 1, \"7\": 1, \"122\": 1, \"70\": 1, \"27\": 1, \"12\": 1}, \"94\": {\"94\": 87, \"40\": 1}, \"38\": {\"38\": 16}, \"54\": {\"54\": 16}, \"74\": {\"74\": 16}, \"25\": {\"25\": 16}, \"75\": {\"75\": 16}, \"119\": {\"119\": 15, \"123\": 1}, \"46\": {\"46\": 18, \"22\": 1, \"79\": 1}, \"23\": {\"23\": 12, \"67\": 1, \"1\": 1, \"86\": 1, \"123\": 1}, \"99\": {\"99\": 40}, \"33\": {\"33\": 116, \"125\": 1, \"101\": 1}, \"47\": {\"47\": 9, \"112\": 1, \"49\": 1, \"27\": 1}, \"115\": {\"87\": 2, \"115\": 12, \"107\": 2}, \"6\": {\"85\": 1, \"6\": 20, \"58\": 1, \"12\": 1, \"27\": 1}, \"65\": {\"65\": 12}, \"66\": {\"66\": 14, \"44\": 2}, \"78\": {\"78\": 28, \"26\": 1, \"84\": 1, \"88\": 1, \"94\": 1, \"30\": 1, \"102\": 1, \"122\": 1, \"43\": 1}, \"98\": {\"98\": 116}, \"93\": {\"93\": 115, \"69\": 1}, \"48\": {\"48\": 15, \"62\": 1}, \"124\": {\"124\": 113, \"24\": 1}}, \"Wisig_2\": {\"115\": {\"115\": 12}, \"34\": {\"34\": 29, \"86\": 1, \"124\": 1, \"6\": 1}, \"97\": {\"97\": 18, \"15\": 1, \"77\": 1}, \"100\": {\"100\": 16}, \"129\": {\"129\": 32}, \"90\": {\"90\": 141, \"98\": 1}, \"125\": {\"125\": 131, \"2\": 1}, \"7\": {\"7\": 125, \"24\": 3}, \"92\": {\"92\": 27, \"89\": 1}, \"114\": {\"114\": 114, \"107\": 1, \"87\": 1}, \"80\": {\"80\": 15, \"83\": 1}, \"16\": {\"16\": 116, \"40\": 2, \"27\": 1, \"24\": 1, \"88\": 1, \"8\": 1}, \"69\": {\"69\": 113, \"24\": 1, \"70\": 1, \"87\": 1}, \"102\": {\"102\": 114}, \"33\": {\"33\": 130}, \"17\": {\"17\": 14, \"34\": 1, \"27\": 1}, \"27\": {\"27\": 61, \"36\": 2, \"24\": 2, \"102\": 1, \"112\": 1, \"94\": 1}, \"117\": {\"117\": 104, \"2\": 1, \"24\": 1}, \"14\": {\"14\": 46, \"58\": 1, \"21\": 1}, \"86\": {\"86\": 32}, \"0\": {\"0\": 113, \"21\": 1, \"69\": 1, \"24\": 1}, \"62\": {\"62\": 135, \"55\": 1, \"23\": 1, \"24\": 1}, \"39\": {\"39\": 105, \"110\": 1, \"78\": 1, \"94\": 2, \"18\": 1, \"69\": 1, \"70\": 1}, \"19\": {\"19\": 27, \"110\": 1}, \"44\": {\"44\": 100}, \"104\": {\"104\": 20}, \"3\": {\"3\": 125, \"87\": 1, \"24\": 1, \"62\": 1, \"21\": 1, \"36\": 1}, \"10\": {\"10\": 51, \"62\": 1, \"52\": 1, \"69\": 1, \"21\": 1, \"7\": 1, \"78\": 1, \"87\": 1, \"36\": 1, \"27\": 1}, \"61\": {\"61\": 16, \"51\": 1, \"27\": 1, \"58\": 2}, \"111\": {\"111\": 110, \"127\": 4}, \"68\": {\"68\": 15, \"4\": 1}, \"101\": {\"101\": 142, \"69\": 1, \"110\": 1}, \"36\": {\"36\": 121, \"51\": 1, \"18\": 1, \"106\": 1, \"70\": 1, \"73\": 1, \"4\": 1, \"30\": 1}, \"120\": {\"120\": 20}, \"103\": {\"103\": 15, \"86\": 1}, \"47\": {\"47\": 12}, \"98\": {\"98\": 119, \"60\": 1}, \"76\": {\"76\": 16}, \"88\": {\"88\": 121, \"126\": 2, \"27\": 1}, \"93\": {\"93\": 136, \"118\": 1, \"24\": 1}, \"23\": {\"23\": 37, \"54\": 1, \"19\": 1, \"29\": 1, \"36\": 1, \"124\": 1, \"60\": 1, \"99\": 1}, \"108\": {\"108\": 123, \"109\": 1}, \"51\": {\"51\": 13, \"14\": 1, \"98\": 1, \"41\": 2, \"58\": 1, \"39\": 1, \"24\": 1}, \"13\": {\"13\": 13, \"36\": 1, \"27\": 1, \"118\": 1}, \"77\": {\"77\": 16}, \"46\": {\"46\": 16}, \"96\": {\"96\": 20}, \"119\": {\"119\": 19, \"126\": 1}, \"121\": {\"121\": 36}, \"54\": {\"54\": 18, \"28\": 1, \"118\": 1}, \"82\": {\"82\": 35, \"78\": 1}, \"12\": {\"12\": 86, \"62\": 1, \"24\": 1}, \"74\": {\"74\": 15, \"22\": 1}, \"66\": {\"66\": 18, \"24\": 1, \"27\": 1}, \"28\": {\"28\": 20}, \"52\": {\"52\": 18, \"59\": 1, \"110\": 1}, \"41\": {\"41\": 18, \"15\": 1, \"110\": 1}, \"81\": {\"81\": 24}, \"48\": {\"48\": 20}, \"113\": {\"113\": 70, \"49\": 1, \"84\": 1}, \"53\": {\"53\": 16}, \"15\": {\"15\": 116, \"97\": 1, \"111\": 2, \"36\": 1}, \"30\": {\"30\": 109, \"24\": 1, \"107\": 1, \"36\": 1}, \"43\": {\"43\": 120, \"21\": 1, \"106\": 1, \"107\": 1, \"122\": 1}, \"29\": {\"29\": 32}, \"109\": {\"109\": 93, \"110\": 1, \"94\": 1, \"39\": 1, \"16\": 1, \"70\": 1, \"84\": 2}, \"60\": {\"60\": 23, \"122\": 1, \"21\": 1, \"87\": 1, \"27\": 1, \"23\": 1}, \"70\": {\"70\": 113, \"25\": 1, \"69\": 1, \"107\": 1, \"49\": 1, \"71\": 1, \"21\": 3, \"84\": 1}, \"127\": {\"127\": 121, \"111\": 2, \"16\": 1}, \"32\": {\"32\": 24, \"52\": 1, \"68\": 1, \"14\": 1, \"72\": 2, \"95\": 1, \"10\": 2, \"0\": 2, \"62\": 2}, \"73\": {\"73\": 27, \"88\": 1}, \"50\": {\"50\": 13, \"69\": 1, \"62\": 1, \"78\": 1}, \"1\": {\"1\": 119, \"105\": 1, \"12\": 1, \"87\": 1, \"36\": 1, \"26\": 1}, \"106\": {\"106\": 116, \"27\": 1, \"19\": 1, \"36\": 2}, \"123\": {\"123\": 16}, \"79\": {\"79\": 16}, \"4\": {\"4\": 84, \"94\": 1, \"112\": 1, \"62\": 1, \"40\": 1}, \"2\": {\"2\": 30, \"117\": 1, \"26\": 1}, \"8\": {\"8\": 124, \"69\": 2, \"12\": 1, \"84\": 1}, \"83\": {\"83\": 40}, \"105\": {\"105\": 129, \"23\": 1}, \"5\": {\"5\": 107, \"82\": 1, \"70\": 2, \"23\": 1, \"94\": 1}, \"99\": {\"99\": 32}, \"25\": {\"25\": 15, \"49\": 1}, \"59\": {\"59\": 16}, \"42\": {\"42\": 26, \"83\": 1, \"18\": 1}, \"55\": {\"55\": 16}, \"75\": {\"75\": 16}, \"118\": {\"118\": 66, \"39\": 1, \"36\": 1}, \"95\": {\"95\": 32, \"62\": 1, \"13\": 1, \"40\": 2}, \"122\": {\"122\": 116, \"24\": 1, \"12\": 1, \"70\": 1, \"5\": 1}, \"20\": {\"20\": 16}, \"110\": {\"110\": 34, \"34\": 1, \"35\": 1, \"21\": 1, \"89\": 1, \"14\": 1, \"36\": 1}, \"65\": {\"65\": 20}, \"37\": {\"79\": 1, \"37\": 14, \"104\": 1}, \"64\": {\"64\": 16}, \"63\": {\"63\": 19, \"118\": 1}, \"40\": {\"40\": 129, \"12\": 1, \"24\": 1, \"69\": 3, \"70\": 1, \"18\": 1, \"73\": 1, \"71\": 1, \"110\": 1, \"4\": 1}, \"21\": {\"21\": 43, \"70\": 2, \"82\": 1, \"62\": 1, \"78\": 1}, \"11\": {\"11\": 77, \"122\": 1, \"47\": 1, \"18\": 1}, \"67\": {\"67\": 16}, \"91\": {\"91\": 26, \"25\": 1, \"18\": 1}, \"87\": {\"87\": 104, \"70\": 1, \"102\": 2, \"24\": 1, \"107\": 1, \"39\": 1, \"36\": 1, \"94\": 1}, \"89\": {\"89\": 34, \"39\": 1, \"92\": 1}, \"9\": {\"9\": 32}, \"124\": {\"124\": 114}, \"56\": {\"56\": 10, \"12\": 1, \"30\": 1}, \"38\": {\"38\": 16}, \"94\": {\"94\": 57, \"102\": 1, \"113\": 1, \"26\": 1, \"12\": 1, \"39\": 2, \"36\": 1}, \"6\": {\"6\": 31, \"51\": 1}, \"58\": {\"58\": 19, \"42\": 1}, \"22\": {\"22\": 19, \"61\": 1}, \"24\": {\"24\": 101, \"118\": 1, \"107\": 1, \"36\": 2, \"71\": 1, \"69\": 4, \"98\": 1, \"109\": 1}, \"57\": {\"57\": 20}, \"112\": {\"112\": 10, \"53\": 1, \"111\": 1, \"49\": 1, \"24\": 2, \"94\": 1}, \"116\": {\"116\": 25, \"107\": 1, \"78\": 1, \"70\": 1}, \"18\": {\"18\": 118, \"1\": 1, \"117\": 1, \"94\": 1, \"69\": 1, \"24\": 3, \"70\": 1, \"39\": 2}, \"49\": {\"49\": 19, \"129\": 1, \"11\": 1, \"61\": 1, \"21\": 1, \"19\": 1}, \"45\": {\"45\": 16}, \"107\": {\"107\": 53, \"49\": 1, \"0\": 1, \"36\": 2, \"4\": 2, \"62\": 1, \"61\": 1, \"110\": 1, \"88\": 1, \"87\": 1}, \"35\": {\"35\": 12}, \"78\": {\"78\": 41, \"118\": 1, \"70\": 1, \"71\": 1, \"95\": 1, \"36\": 1, \"21\": 2}, \"126\": {\"126\": 120}, \"85\": {\"85\": 32}, \"72\": {\"72\": 27, \"36\": 1}, \"26\": {\"26\": 120, \"70\": 1, \"102\": 1, \"18\": 1, \"101\": 1}, \"84\": {\"84\": 89, \"118\": 1, \"87\": 1, \"106\": 1}, \"128\": {\"128\": 19, \"70\": 1, \"97\": 2, \"101\": 1, \"71\": 1}, \"31\": {\"31\": 20}, \"71\": {\"71\": 98, \"40\": 1, \"11\": 1}}, \"Wisig_1\": {\"22\": {\"22\": 16}, \"58\": {\"58\": 12}, \"109\": {\"109\": 122, \"126\": 1, \"44\": 1}, \"77\": {\"77\": 16}, \"74\": {\"74\": 16}, \"10\": {\"10\": 112, \"85\": 2, \"0\": 5, \"118\": 1}, \"70\": {\"70\": 125, \"12\": 1, \"72\": 1, \"62\": 1}, \"84\": {\"84\": 108}, \"52\": {\"52\": 20}, \"20\": {\"20\": 15, \"102\": 1}, \"14\": {\"14\": 95, \"27\": 1}, \"37\": {\"37\": 16}, \"42\": {\"42\": 25, \"109\": 1, \"2\": 1, \"91\": 1}, \"99\": {\"99\": 24}, \"35\": {\"35\": 12}, \"62\": {\"62\": 119, \"26\": 1}, \"61\": {\"61\": 12}, \"7\": {\"7\": 141, \"26\": 1}, \"69\": {\"69\": 99, \"26\": 2, \"27\": 1, \"118\": 1, \"36\": 1}, \"55\": {\"55\": 12}, \"41\": {\"41\": 16}, \"120\": {\"120\": 20}, \"123\": {\"123\": 16}, \"97\": {\"97\": 15, \"78\": 1, \"42\": 1, \"24\": 1, \"122\": 1, \"95\": 1}, \"102\": {\"102\": 119, \"16\": 1}, \"60\": {\"32\": 1, \"120\": 1, \"60\": 8, \"13\": 1, \"42\": 2, \"21\": 1, \"19\": 1, \"30\": 1}, \"127\": {\"127\": 104, \"4\": 1, \"122\": 2, \"78\": 1}, \"32\": {\"32\": 31, \"127\": 1}, \"3\": {\"3\": 82, \"7\": 1, \"4\": 1, \"94\": 2, \"75\": 1, \"0\": 1}, \"8\": {\"8\": 122}, \"129\": {\"129\": 25, \"2\": 1, \"39\": 1, \"123\": 1}, \"119\": {\"119\": 16}, \"21\": {\"21\": 36, \"70\": 1, \"78\": 1, \"23\": 1, \"83\": 1}, \"53\": {\"53\": 20}, \"28\": {\"28\": 20}, \"117\": {\"117\": 144}, \"112\": {\"112\": 16}, \"126\": {\"126\": 131, \"109\": 1, \"12\": 1, \"122\": 1}, \"30\": {\"30\": 52}, \"105\": {\"105\": 81, \"102\": 1, \"6\": 1, \"26\": 1}, \"29\": {\"29\": 28}, \"57\": {\"57\": 12}, \"93\": {\"93\": 139, \"87\": 1}, \"17\": {\"17\": 15, \"78\": 1}, \"44\": {\"44\": 76}, \"63\": {\"63\": 16}, \"87\": {\"87\": 106, \"69\": 1, \"108\": 1}, \"0\": {\"0\": 83, \"122\": 1}, \"96\": {\"96\": 19, \"91\": 1}, \"98\": {\"98\": 108}, \"75\": {\"75\": 16}, \"78\": {\"78\": 11, \"87\": 1, \"43\": 3, \"21\": 1}, \"116\": {\"116\": 30, \"21\": 1, \"94\": 1}, \"114\": {\"114\": 126, \"43\": 1, \"94\": 1}, \"103\": {\"103\": 15, \"9\": 1}, \"50\": {\"50\": 16}, \"124\": {\"124\": 128}, \"5\": {\"5\": 86, \"43\": 1, \"14\": 1}, \"73\": {\"73\": 19, \"93\": 1}, \"81\": {\"81\": 28}, \"49\": {\"49\": 15, \"70\": 3, \"30\": 1, \"5\": 1}, \"16\": {\"16\": 106, \"122\": 1, \"27\": 1}, \"101\": {\"101\": 124}, \"125\": {\"125\": 118}, \"65\": {\"66\": 1, \"65\": 5, \"45\": 2, \"3\": 1, \"74\": 2, \"115\": 1}, \"66\": {\"66\": 16}, \"79\": {\"79\": 12}, \"39\": {\"39\": 102, \"30\": 1, \"6\": 1}, \"104\": {\"104\": 16}, \"91\": {\"91\": 28}, \"25\": {\"25\": 16}, \"64\": {\"64\": 16}, \"34\": {\"60\": 2, \"34\": 23, \"83\": 2, \"70\": 1, \"6\": 2, \"125\": 1, \"122\": 1}, \"82\": {\"82\": 36}, \"18\": {\"18\": 124}, \"43\": {\"43\": 127, \"71\": 1}, \"47\": {\"47\": 12}, \"108\": {\"108\": 120, \"24\": 2, \"70\": 1, \"69\": 1}, \"111\": {\"111\": 107, \"93\": 1}, \"23\": {\"23\": 14, \"86\": 2, \"110\": 2, \"32\": 1, \"55\": 1, \"53\": 2, \"38\": 2}, \"90\": {\"90\": 157, \"122\": 1, \"124\": 1, \"102\": 1}, \"4\": {\"4\": 99, \"27\": 1}, \"92\": {\"92\": 28}, \"2\": {\"2\": 24, \"33\": 1, \"82\": 3, \"11\": 3, \"18\": 1}, \"45\": {\"2\": 1, \"45\": 6, \"104\": 1, \"42\": 1, \"102\": 1, \"21\": 1, \"124\": 1}, \"68\": {\"68\": 16}, \"26\": {\"26\": 128}, \"38\": {\"38\": 16}, \"40\": {\"40\": 141, \"105\": 1}, \"80\": {\"80\": 15, \"23\": 1}, \"107\": {\"107\": 118, \"65\": 1, \"102\": 1, \"39\": 1, \"87\": 1}, \"94\": {\"94\": 92}, \"115\": {\"115\": 12}, \"46\": {\"46\": 5, \"30\": 1, \"12\": 2, \"62\": 1, \"70\": 2, \"98\": 1}, \"72\": {\"72\": 32}, \"19\": {\"19\": 28}, \"100\": {\"100\": 14, \"65\": 1, \"24\": 1}, \"76\": {\"76\": 15, \"88\": 1}, \"106\": {\"106\": 132}, \"88\": {\"88\": 128, \"27\": 1, \"36\": 1}, \"15\": {\"15\": 97, \"71\": 1, \"12\": 2, \"111\": 3, \"122\": 1}, \"54\": {\"54\": 14, \"60\": 1, \"67\": 1}, \"13\": {\"13\": 16}, \"51\": {\"51\": 16}, \"24\": {\"24\": 91, \"34\": 1}, \"48\": {\"48\": 12}, \"85\": {\"85\": 32}, \"33\": {\"33\": 140}, \"71\": {\"71\": 104, \"126\": 2, \"117\": 1, \"6\": 1}, \"6\": {\"6\": 31, \"52\": 1}, \"83\": {\"83\": 26, \"69\": 1, \"118\": 1}, \"121\": {\"121\": 31, \"18\": 1}, \"31\": {\"31\": 15, \"122\": 1}, \"67\": {\"19\": 1, \"67\": 14, \"80\": 1}, \"1\": {\"1\": 135, \"18\": 1}, \"27\": {\"27\": 90, \"15\": 2}, \"118\": {\"118\": 82, \"87\": 1, \"103\": 1}, \"56\": {\"56\": 12}, \"36\": {\"36\": 127, \"43\": 1}, \"11\": {\"11\": 125, \"88\": 1}, \"110\": {\"110\": 120, \"26\": 1, \"18\": 1}, \"89\": {\"89\": 36}, \"113\": {\"113\": 112, \"43\": 1, \"40\": 2, \"69\": 1, \"87\": 1, \"102\": 1}, \"59\": {\"59\": 12}, \"9\": {\"9\": 31, \"26\": 1}, \"86\": {\"86\": 34, \"94\": 1, \"10\": 1}, \"12\": {\"12\": 101, \"109\": 1, \"24\": 1, \"43\": 1}, \"122\": {\"122\": 87, \"26\": 1}, \"128\": {\"128\": 21, \"70\": 2, \"83\": 1}, \"95\": {\"95\": 35, \"102\": 1}}, \"ORACLE.run114\": {\"15\": {\"14\": 69, \"10\": 94, \"15\": 134, \"2\": 83, \"5\": 93, \"11\": 55, \"4\": 102, \"0\": 60, \"6\": 109, \"9\": 25, \"13\": 88, \"1\": 76, \"7\": 99, \"8\": 23, \"3\": 74, \"12\": 16}, \"5\": {\"8\": 56, \"11\": 86, \"15\": 93, \"6\": 79, \"5\": 73, \"3\": 79, \"4\": 80, \"12\": 42, \"1\": 71, \"14\": 67, \"7\": 79, \"13\": 82, \"10\": 91, \"2\": 73, \"9\": 56, \"0\": 93}, \"7\": {\"10\": 81, \"1\": 68, \"3\": 65, \"2\": 91, \"11\": 76, \"9\": 39, \"6\": 86, \"15\": 106, \"7\": 116, \"8\": 47, \"13\": 91, \"12\": 31, \"4\": 83, \"0\": 74, \"5\": 85, \"14\": 61}, \"4\": {\"11\": 79, \"7\": 88, \"8\": 51, \"5\": 104, \"15\": 86, \"12\": 39, \"2\": 89, \"10\": 92, \"1\": 74, \"0\": 78, \"6\": 78, \"13\": 59, \"14\": 58, \"4\": 99, \"3\": 85, \"9\": 41}, \"10\": {\"0\": 100, \"14\": 87, \"6\": 83, \"3\": 77, \"12\": 29, \"11\": 100, \"5\": 73, \"2\": 78, \"1\": 74, \"9\": 69, \"8\": 47, \"15\": 79, \"4\": 79, \"13\": 72, \"10\": 85, \"7\": 68}, \"11\": {\"8\": 71, \"1\": 70, \"12\": 72, \"3\": 82, \"0\": 99, \"2\": 79, \"6\": 67, \"14\": 65, \"9\": 83, \"11\": 96, \"13\": 65, \"10\": 82, \"15\": 52, \"4\": 82, \"7\": 60, \"5\": 75}, \"12\": {\"10\": 64, \"9\": 197, \"4\": 37, \"12\": 234, \"8\": 148, \"1\": 62, \"15\": 25, \"13\": 26, \"5\": 59, \"3\": 61, \"2\": 34, \"0\": 85, \"14\": 33, \"11\": 87, \"7\": 34, \"6\": 14}, \"0\": {\"6\": 65, \"14\": 64, \"2\": 72, \"10\": 79, \"13\": 63, \"9\": 74, \"0\": 91, \"4\": 75, \"11\": 99, \"12\": 74, \"7\": 65, \"3\": 88, \"5\": 73, \"1\": 85, \"15\": 73, \"8\": 60}, \"14\": {\"13\": 111, \"10\": 93, \"5\": 82, \"3\": 79, \"0\": 61, \"15\": 78, \"14\": 110, \"7\": 63, \"6\": 103, \"4\": 77, \"9\": 37, \"2\": 97, \"11\": 90, \"8\": 33, \"1\": 67, \"12\": 19}, \"8\": {\"7\": 59, \"4\": 73, \"12\": 147, \"3\": 79, \"8\": 146, \"1\": 62, \"0\": 89, \"11\": 88, \"10\": 68, \"15\": 44, \"9\": 151, \"6\": 32, \"2\": 43, \"5\": 66, \"13\": 17, \"14\": 36}, \"13\": {\"4\": 85, \"15\": 113, \"13\": 122, \"1\": 52, \"7\": 78, \"2\": 118, \"9\": 13, \"12\": 11, \"0\": 65, \"5\": 84, \"14\": 98, \"10\": 71, \"3\": 71, \"6\": 140, \"11\": 63, \"8\": 16}, \"6\": {\"10\": 93, \"5\": 81, \"1\": 66, \"15\": 86, \"13\": 127, \"0\": 60, \"6\": 115, \"2\": 106, \"7\": 83, \"4\": 82, \"14\": 115, \"9\": 27, \"3\": 79, \"11\": 44, \"12\": 16, \"8\": 20}, \"1\": {\"10\": 75, \"4\": 81, \"1\": 79, \"3\": 90, \"6\": 61, \"8\": 70, \"7\": 90, \"12\": 53, \"9\": 75, \"13\": 61, \"11\": 85, \"5\": 84, \"0\": 94, \"2\": 75, \"14\": 63, \"15\": 64}, \"3\": {\"15\": 85, \"5\": 77, \"11\": 93, \"4\": 79, \"6\": 74, \"3\": 92, \"2\": 79, \"14\": 85, \"9\": 58, \"13\": 65, \"12\": 43, \"0\": 87, \"1\": 76, \"7\": 71, \"8\": 51, \"10\": 85}, \"9\": {\"10\": 62, \"13\": 30, \"3\": 73, \"9\": 146, \"14\": 37, \"7\": 49, \"4\": 64, \"11\": 103, \"12\": 163, \"2\": 40, \"1\": 68, \"8\": 131, \"5\": 68, \"6\": 35, \"0\": 95, \"15\": 36}, \"2\": {\"7\": 69, \"9\": 39, \"13\": 100, \"3\": 71, \"5\": 93, \"8\": 36, \"11\": 80, \"6\": 84, \"2\": 96, \"1\": 63, \"14\": 103, \"15\": 87, \"10\": 83, \"12\": 30, \"0\": 78, \"4\": 88}}, \"ORACLE.run120\": {\"4\": {\"11\": 66, \"3\": 75, \"5\": 82, \"15\": 63, \"14\": 89, \"13\": 67, \"6\": 89, \"9\": 70, \"8\": 83, \"7\": 80, \"2\": 61, \"4\": 91, \"10\": 94, \"12\": 61, \"0\": 67, \"1\": 62}, \"10\": {\"5\": 67, \"9\": 63, \"8\": 89, \"13\": 54, \"4\": 94, \"10\": 95, \"7\": 78, \"14\": 87, \"11\": 58, \"12\": 59, \"1\": 57, \"2\": 77, \"6\": 97, \"0\": 76, \"3\": 95, \"15\": 54}, \"15\": {\"13\": 84, \"3\": 89, \"10\": 62, \"8\": 60, \"4\": 62, \"7\": 70, \"2\": 86, \"11\": 83, \"5\": 95, \"1\": 93, \"15\": 91, \"6\": 51, \"9\": 88, \"14\": 42, \"12\": 68, \"0\": 76}, \"0\": {\"4\": 73, \"11\": 69, \"14\": 66, \"7\": 90, \"5\": 91, \"2\": 76, \"3\": 89, \"13\": 83, \"12\": 62, \"15\": 85, \"10\": 52, \"1\": 84, \"6\": 65, \"8\": 57, \"0\": 76, \"9\": 82}, \"6\": {\"12\": 73, \"11\": 65, \"0\": 69, \"3\": 89, \"8\": 98, \"4\": 84, \"6\": 83, \"5\": 77, \"1\": 61, \"2\": 71, \"14\": 76, \"10\": 98, \"7\": 73, \"9\": 79, \"15\": 49, \"13\": 55}, \"3\": {\"4\": 75, \"9\": 81, \"8\": 77, \"5\": 78, \"3\": 82, \"6\": 87, \"11\": 79, \"13\": 67, \"12\": 79, \"0\": 62, \"15\": 78, \"14\": 71, \"10\": 64, \"2\": 79, \"1\": 64, \"7\": 77}, \"7\": {\"3\": 65, \"9\": 86, \"12\": 75, \"14\": 86, \"0\": 73, \"1\": 69, \"2\": 89, \"15\": 63, \"13\": 83, \"11\": 69, \"10\": 70, \"5\": 67, \"4\": 92, \"6\": 80, \"8\": 58, \"7\": 75}, \"2\": {\"5\": 81, \"0\": 71, \"12\": 92, \"2\": 85, \"3\": 82, \"13\": 90, \"9\": 78, \"8\": 63, \"7\": 83, \"14\": 54, \"15\": 100, \"1\": 65, \"10\": 66, \"11\": 64, \"4\": 65, \"6\": 61}, \"8\": {\"6\": 97, \"12\": 75, \"10\": 88, \"0\": 60, \"1\": 63, \"13\": 73, \"2\": 73, \"8\": 77, \"5\": 67, \"14\": 74, \"9\": 72, \"15\": 66, \"11\": 61, \"4\": 87, \"3\": 70, \"7\": 97}, \"11\": {\"6\": 71, \"4\": 71, \"13\": 81, \"0\": 83, \"15\": 86, \"14\": 58, \"8\": 73, \"3\": 86, \"2\": 81, \"11\": 85, \"12\": 82, \"9\": 72, \"10\": 61, \"5\": 77, \"1\": 66, \"7\": 67}, \"14\": {\"9\": 73, \"1\": 60, \"6\": 97, \"15\": 44, \"8\": 90, \"11\": 63, \"14\": 83, \"5\": 67, \"0\": 67, \"4\": 85, \"13\": 45, \"10\": 118, \"3\": 73, \"2\": 74, \"12\": 78, \"7\": 83}, \"12\": {\"1\": 70, \"15\": 79, \"6\": 66, \"5\": 77, \"0\": 72, \"4\": 71, \"3\": 78, \"2\": 78, \"12\": 86, \"14\": 59, \"13\": 81, \"11\": 69, \"10\": 79, \"9\": 75, \"8\": 80, \"7\": 80}, \"13\": {\"0\": 83, \"5\": 90, \"2\": 76, \"1\": 95, \"12\": 82, \"7\": 53, \"13\": 94, \"15\": 97, \"10\": 62, \"11\": 78, \"9\": 80, \"3\": 74, \"6\": 51, \"14\": 47, \"4\": 77, \"8\": 61}, \"9\": {\"15\": 87, \"9\": 79, \"5\": 83, \"4\": 69, \"1\": 79, \"8\": 71, \"2\": 75, \"13\": 60, \"3\": 75, \"14\": 64, \"6\": 62, \"0\": 79, \"11\": 75, \"7\": 84, \"12\": 86, \"10\": 72}, \"5\": {\"2\": 79, \"8\": 87, \"12\": 78, \"7\": 62, \"5\": 96, \"1\": 80, \"10\": 46, \"4\": 64, \"0\": 80, \"9\": 80, \"3\": 71, \"15\": 78, \"14\": 73, \"6\": 74, \"11\": 70, \"13\": 82}, \"1\": {\"7\": 82, \"11\": 66, \"4\": 55, \"0\": 96, \"15\": 91, \"1\": 73, \"2\": 76, \"9\": 79, \"5\": 80, \"14\": 63, \"13\": 79, \"8\": 64, \"3\": 74, \"12\": 89, \"6\": 69, \"10\": 64}}, \"ORACLE.run150\": {\"5\": {\"8\": 56, \"7\": 99, \"10\": 72, \"1\": 94, \"12\": 61, \"5\": 102, \"14\": 68, \"13\": 101, \"11\": 84, \"9\": 78, \"6\": 73, \"4\": 99, \"3\": 46, \"0\": 45, \"2\": 38, \"15\": 84}, \"12\": {\"13\": 62, \"0\": 65, \"14\": 108, \"5\": 70, \"12\": 126, \"15\": 65, \"10\": 62, \"11\": 96, \"4\": 92, \"1\": 89, \"2\": 67, \"6\": 75, \"3\": 30, \"9\": 110, \"7\": 55, \"8\": 28}, \"14\": {\"4\": 60, \"13\": 87, \"14\": 98, \"7\": 70, \"8\": 57, \"12\": 85, \"10\": 73, \"2\": 79, \"15\": 70, \"11\": 94, \"0\": 71, \"1\": 88, \"3\": 35, \"6\": 82, \"5\": 63, \"9\": 88}, \"4\": {\"4\": 108, \"15\": 96, \"7\": 88, \"12\": 70, \"14\": 69, \"13\": 95, \"1\": 89, \"5\": 86, \"9\": 114, \"6\": 93, \"3\": 36, \"8\": 34, \"11\": 103, \"10\": 60, \"0\": 32, \"2\": 27}, \"13\": {\"2\": 50, \"14\": 95, \"9\": 58, \"3\": 51, \"5\": 98, \"11\": 72, \"1\": 88, \"8\": 52, \"10\": 83, \"6\": 94, \"7\": 73, \"4\": 106, \"0\": 52, \"15\": 92, \"13\": 81, \"12\": 55}, \"10\": {\"13\": 91, \"10\": 106, \"15\": 48, \"2\": 95, \"12\": 50, \"4\": 48, \"11\": 36, \"8\": 120, \"3\": 115, \"14\": 72, \"0\": 99, \"5\": 63, \"1\": 54, \"9\": 44, \"7\": 77, \"6\": 82}, \"9\": {\"4\": 102, \"9\": 124, \"12\": 98, \"11\": 112, \"5\": 100, \"15\": 90, \"6\": 99, \"14\": 80, \"7\": 71, \"3\": 24, \"2\": 35, \"0\": 29, \"13\": 69, \"1\": 100, \"10\": 46, \"8\": 21}, \"15\": {\"2\": 30, \"14\": 63, \"12\": 59, \"15\": 104, \"7\": 86, \"4\": 120, \"10\": 44, \"6\": 114, \"8\": 27, \"5\": 103, \"13\": 95, \"11\": 92, \"9\": 107, \"1\": 105, \"0\": 31, \"3\": 20}, \"6\": {\"9\": 86, \"7\": 89, \"6\": 99, \"12\": 63, \"8\": 33, \"14\": 69, \"3\": 45, \"15\": 99, \"5\": 94, \"10\": 77, \"1\": 93, \"13\": 92, \"11\": 88, \"0\": 46, \"4\": 81, \"2\": 46}, \"2\": {\"8\": 130, \"3\": 112, \"0\": 139, \"4\": 42, \"13\": 63, \"7\": 59, \"10\": 103, \"15\": 40, \"2\": 130, \"5\": 40, \"1\": 62, \"14\": 88, \"12\": 73, \"6\": 45, \"9\": 43, \"11\": 31}, \"0\": {\"8\": 132, \"14\": 67, \"9\": 45, \"5\": 66, \"4\": 36, \"0\": 119, \"7\": 66, \"12\": 73, \"2\": 112, \"10\": 113, \"1\": 59, \"13\": 69, \"6\": 63, \"11\": 47, \"15\": 23, \"3\": 110}, \"11\": {\"3\": 19, \"11\": 98, \"9\": 131, \"8\": 29, \"12\": 82, \"10\": 52, \"5\": 79, \"6\": 95, \"15\": 100, \"1\": 106, \"2\": 38, \"7\": 98, \"14\": 60, \"13\": 81, \"4\": 99, \"0\": 33}, \"3\": {\"7\": 52, \"8\": 160, \"12\": 48, \"0\": 116, \"2\": 118, \"10\": 124, \"3\": 201, \"1\": 38, \"6\": 58, \"4\": 44, \"15\": 39, \"5\": 61, \"14\": 45, \"13\": 53, \"11\": 29, \"9\": 14}, \"8\": {\"2\": 127, \"7\": 63, \"8\": 171, \"1\": 39, \"5\": 54, \"10\": 132, \"6\": 42, \"12\": 35, \"3\": 163, \"13\": 72, \"14\": 54, \"0\": 123, \"9\": 29, \"11\": 19, \"4\": 50, \"15\": 27}, \"7\": {\"5\": 100, \"3\": 58, \"12\": 54, \"1\": 87, \"13\": 100, \"14\": 76, \"15\": 75, \"7\": 112, \"8\": 54, \"9\": 63, \"11\": 51, \"10\": 78, \"4\": 89, \"0\": 67, \"6\": 76, \"2\": 60}, \"1\": {\"15\": 94, \"9\": 92, \"10\": 68, \"7\": 77, \"8\": 38, \"2\": 40, \"14\": 87, \"4\": 108, \"12\": 76, \"5\": 89, \"11\": 92, \"1\": 100, \"13\": 84, \"3\": 29, \"6\": 77, \"0\": 49}}, \"ORACLE.run126\": {\"7\": {\"8\": 81, \"9\": 77, \"14\": 81, \"15\": 71, \"11\": 28, \"0\": 95, \"10\": 84, \"2\": 84, \"5\": 53, \"13\": 59, \"3\": 81, \"4\": 78, \"6\": 82, \"1\": 97, \"7\": 101, \"12\": 48}, \"6\": {\"5\": 83, \"10\": 59, \"1\": 76, \"9\": 84, \"14\": 77, \"8\": 90, \"13\": 75, \"15\": 90, \"6\": 86, \"0\": 73, \"2\": 64, \"12\": 108, \"3\": 69, \"11\": 36, \"4\": 63, \"7\": 67}, \"14\": {\"0\": 104, \"1\": 98, \"6\": 66, \"4\": 100, \"3\": 91, \"10\": 80, \"2\": 85, \"12\": 58, \"14\": 100, \"8\": 98, \"13\": 50, \"7\": 75, \"15\": 70, \"9\": 52, \"5\": 57, \"11\": 16}, \"15\": {\"5\": 67, \"6\": 106, \"13\": 77, \"14\": 61, \"0\": 73, \"3\": 76, \"2\": 73, \"15\": 71, \"11\": 42, \"4\": 84, \"9\": 73, \"8\": 68, \"1\": 66, \"7\": 85, \"12\": 95, \"10\": 83}, \"5\": {\"1\": 62, \"8\": 80, \"10\": 73, \"9\": 81, \"6\": 82, \"13\": 97, \"5\": 97, \"11\": 62, \"14\": 46, \"4\": 65, \"0\": 66, \"15\": 85, \"7\": 76, \"12\": 73, \"2\": 89, \"3\": 66}, \"10\": {\"3\": 79, \"8\": 84, \"14\": 73, \"6\": 70, \"0\": 93, \"2\": 80, \"15\": 72, \"1\": 95, \"10\": 89, \"13\": 58, \"9\": 79, \"7\": 93, \"12\": 60, \"5\": 68, \"4\": 75, \"11\": 32}, \"4\": {\"6\": 70, \"3\": 93, \"9\": 61, \"2\": 88, \"10\": 81, \"14\": 91, \"1\": 88, \"4\": 93, \"12\": 53, \"0\": 103, \"8\": 87, \"13\": 48, \"5\": 56, \"15\": 71, \"7\": 95, \"11\": 22}, \"11\": {\"15\": 85, \"3\": 41, \"6\": 66, \"11\": 282, \"0\": 31, \"7\": 40, \"5\": 95, \"12\": 124, \"9\": 58, \"1\": 24, \"13\": 124, \"14\": 29, \"8\": 51, \"10\": 56, \"2\": 54, \"4\": 40}, \"13\": {\"3\": 74, \"6\": 79, \"1\": 53, \"9\": 87, \"10\": 61, \"12\": 105, \"7\": 75, \"13\": 98, \"8\": 63, \"11\": 110, \"14\": 56, \"15\": 81, \"0\": 55, \"5\": 97, \"2\": 55, \"4\": 51}, \"2\": {\"10\": 77, \"11\": 30, \"15\": 63, \"8\": 88, \"14\": 71, \"7\": 93, \"9\": 83, \"0\": 76, \"3\": 86, \"6\": 90, \"5\": 62, \"1\": 96, \"12\": 60, \"4\": 67, \"13\": 73, \"2\": 85}, \"0\": {\"13\": 57, \"3\": 80, \"10\": 71, \"2\": 91, \"14\": 89, \"0\": 85, \"5\": 51, \"4\": 93, \"1\": 108, \"15\": 66, \"12\": 66, \"9\": 68, \"11\": 26, \"8\": 91, \"6\": 80, \"7\": 78}, \"12\": {\"1\": 52, \"15\": 78, \"6\": 83, \"11\": 110, \"10\": 68, \"3\": 57, \"4\": 54, \"5\": 78, \"9\": 90, \"7\": 50, \"2\": 62, \"14\": 57, \"13\": 74, \"12\": 147, \"0\": 63, \"8\": 77}, \"3\": {\"2\": 96, \"3\": 91, \"10\": 76, \"1\": 93, \"0\": 94, \"5\": 63, \"13\": 58, \"9\": 68, \"6\": 69, \"14\": 85, \"15\": 78, \"12\": 53, \"7\": 90, \"4\": 89, \"8\": 73, \"11\": 24}, \"9\": {\"8\": 68, \"0\": 79, \"2\": 85, \"9\": 92, \"14\": 63, \"12\": 94, \"1\": 68, \"4\": 64, \"10\": 72, \"15\": 91, \"3\": 77, \"13\": 69, \"5\": 77, \"11\": 42, \"6\": 85, \"7\": 74}, \"8\": {\"12\": 64, \"1\": 90, \"4\": 86, \"15\": 65, \"7\": 72, \"6\": 83, \"13\": 54, \"14\": 85, \"0\": 104, \"10\": 96, \"9\": 61, \"5\": 65, \"2\": 90, \"3\": 69, \"8\": 80, \"11\": 36}, \"1\": {\"9\": 72, \"4\": 103, \"1\": 103, \"8\": 96, \"10\": 93, \"13\": 41, \"7\": 91, \"3\": 85, \"2\": 83, \"0\": 87, \"5\": 47, \"14\": 98, \"15\": 82, \"6\": 55, \"12\": 53, \"11\": 11}}, \"ORACLE.run132\": {\"7\": {\"8\": 95, \"13\": 84, \"14\": 97, \"0\": 143, \"4\": 115, \"7\": 113, \"9\": 77, \"2\": 105, \"3\": 63, \"11\": 95, \"5\": 92, \"10\": 17, \"12\": 42, \"1\": 7, \"15\": 49, \"6\": 6}, \"2\": {\"4\": 117, \"13\": 92, \"7\": 93, \"15\": 22, \"14\": 92, \"5\": 80, \"12\": 69, \"2\": 118, \"8\": 77, \"0\": 109, \"11\": 94, \"3\": 56, \"9\": 120, \"1\": 13, \"10\": 29, \"6\": 19}, \"5\": {\"8\": 117, \"3\": 95, \"7\": 121, \"5\": 116, \"4\": 83, \"2\": 81, \"0\": 120, \"14\": 104, \"11\": 102, \"9\": 50, \"13\": 99, \"12\": 38, \"15\": 56, \"10\": 14, \"1\": 2, \"6\": 2}, \"6\": {\"10\": 208, \"1\": 276, \"6\": 351, \"12\": 134, \"9\": 108, \"0\": 14, \"14\": 19, \"7\": 12, \"11\": 15, \"2\": 24, \"13\": 10, \"8\": 5, \"4\": 18, \"5\": 4, \"3\": 1, \"15\": 1}, \"13\": {\"8\": 88, \"4\": 119, \"9\": 64, \"7\": 95, \"0\": 105, \"11\": 95, \"13\": 100, \"14\": 92, \"5\": 125, \"3\": 111, \"15\": 59, \"2\": 90, \"12\": 41, \"6\": 5, \"10\": 10, \"1\": 1}, \"4\": {\"14\": 94, \"2\": 100, \"9\": 67, \"13\": 78, \"5\": 103, \"7\": 119, \"10\": 32, \"4\": 126, \"3\": 78, \"11\": 94, \"15\": 38, \"0\": 107, \"12\": 68, \"8\": 82, \"6\": 10, \"1\": 4}, \"3\": {\"2\": 57, \"5\": 100, \"0\": 111, \"3\": 138, \"11\": 105, \"13\": 108, \"8\": 116, \"7\": 85, \"14\": 96, \"10\": 5, \"15\": 138, \"4\": 85, \"9\": 32, \"12\": 23, \"6\": 1}, \"0\": {\"5\": 96, \"14\": 108, \"15\": 56, \"10\": 25, \"2\": 98, \"13\": 74, \"4\": 125, \"7\": 105, \"8\": 109, \"0\": 110, \"11\": 112, \"9\": 58, \"3\": 71, \"12\": 48, \"1\": 2, \"6\": 3}, \"9\": {\"12\": 180, \"6\": 63, \"5\": 50, \"9\": 184, \"2\": 100, \"7\": 71, \"1\": 63, \"0\": 72, \"10\": 86, \"14\": 76, \"13\": 63, \"11\": 45, \"8\": 41, \"4\": 83, \"15\": 8, \"3\": 15}, \"12\": {\"12\": 172, \"7\": 62, \"5\": 52, \"9\": 166, \"0\": 63, \"10\": 153, \"4\": 70, \"11\": 52, \"8\": 30, \"1\": 65, \"3\": 23, \"2\": 93, \"14\": 43, \"6\": 89, \"13\": 57, \"15\": 10}, \"8\": {\"13\": 120, \"15\": 90, \"8\": 130, \"7\": 98, \"5\": 119, \"4\": 89, \"0\": 94, \"3\": 118, \"14\": 91, \"11\": 102, \"2\": 73, \"12\": 33, \"9\": 35, \"10\": 8}, \"14\": {\"13\": 77, \"14\": 130, \"7\": 97, \"4\": 90, \"0\": 108, \"9\": 57, \"11\": 108, \"5\": 102, \"8\": 99, \"2\": 105, \"3\": 83, \"12\": 49, \"15\": 57, \"10\": 23, \"1\": 8, \"6\": 7}, \"15\": {\"14\": 56, \"15\": 405, \"4\": 39, \"5\": 83, \"13\": 88, \"3\": 152, \"2\": 37, \"8\": 133, \"0\": 76, \"11\": 63, \"12\": 7, \"9\": 10, \"7\": 42, \"10\": 8, \"6\": 1}, \"11\": {\"4\": 117, \"11\": 122, \"13\": 82, \"9\": 50, \"7\": 128, \"8\": 89, \"2\": 84, \"3\": 101, \"12\": 42, \"0\": 124, \"5\": 100, \"15\": 54, \"14\": 85, \"10\": 11, \"1\": 6, \"6\": 5}, \"10\": {\"6\": 173, \"9\": 132, \"1\": 209, \"10\": 281, \"12\": 184, \"2\": 46, \"7\": 27, \"0\": 28, \"8\": 8, \"13\": 20, \"11\": 18, \"5\": 15, \"14\": 22, \"4\": 26, \"15\": 7, \"3\": 4}, \"1\": {\"1\": 390, \"5\": 2, \"14\": 14, \"10\": 225, \"6\": 296, \"12\": 123, \"8\": 2, \"9\": 70, \"7\": 8, \"2\": 25, \"4\": 7, \"11\": 7, \"15\": 6, \"0\": 12, \"3\": 6, \"13\": 7}}, \"ORACLE.run144\": {\"11\": {\"11\": 201, \"1\": 96, \"6\": 153, \"9\": 102, \"2\": 99, \"7\": 102, \"10\": 114, \"3\": 44, \"12\": 82, \"14\": 24, \"13\": 135, \"0\": 6, \"4\": 27, \"5\": 7, \"15\": 7, \"8\": 1}, \"7\": {\"4\": 66, \"9\": 105, \"12\": 101, \"14\": 45, \"13\": 112, \"10\": 104, \"7\": 97, \"6\": 98, \"2\": 124, \"1\": 86, \"3\": 89, \"11\": 111, \"5\": 28, \"15\": 21, \"0\": 8, \"8\": 5}, \"6\": {\"2\": 108, \"12\": 94, \"11\": 150, \"14\": 34, \"1\": 70, \"3\": 55, \"6\": 139, \"9\": 97, \"10\": 107, \"5\": 18, \"7\": 126, \"13\": 139, \"4\": 43, \"0\": 7, \"8\": 2, \"15\": 11}, \"12\": {\"4\": 54, \"13\": 88, \"2\": 105, \"15\": 27, \"10\": 111, \"11\": 72, \"3\": 119, \"6\": 73, \"9\": 109, \"12\": 123, \"7\": 110, \"5\": 27, \"14\": 46, \"1\": 118, \"8\": 7, \"0\": 11}, \"4\": {\"14\": 136, \"3\": 84, \"5\": 106, \"10\": 25, \"4\": 150, \"0\": 83, \"6\": 42, \"2\": 37, \"12\": 55, \"8\": 56, \"13\": 60, \"9\": 69, \"15\": 118, \"1\": 75, \"7\": 70, \"11\": 34}, \"13\": {\"14\": 47, \"6\": 130, \"13\": 119, \"9\": 108, \"4\": 72, \"3\": 69, \"10\": 104, \"5\": 42, \"11\": 116, \"12\": 72, \"0\": 7, \"2\": 104, \"1\": 87, \"7\": 102, \"8\": 7, \"15\": 14}, \"8\": {\"8\": 277, \"15\": 173, \"5\": 197, \"0\": 238, \"4\": 73, \"14\": 98, \"11\": 11, \"3\": 41, \"13\": 15, \"12\": 13, \"9\": 19, \"6\": 7, \"1\": 19, \"2\": 4, \"7\": 8, \"10\": 7}, \"5\": {\"5\": 175, \"7\": 35, \"2\": 27, \"14\": 127, \"15\": 142, \"8\": 143, \"3\": 64, \"0\": 155, \"13\": 39, \"9\": 47, \"4\": 106, \"12\": 21, \"10\": 26, \"6\": 19, \"1\": 56, \"11\": 18}, \"14\": {\"9\": 46, \"3\": 83, \"5\": 128, \"12\": 53, \"6\": 32, \"8\": 75, \"4\": 150, \"1\": 56, \"2\": 33, \"13\": 66, \"0\": 91, \"15\": 131, \"7\": 57, \"14\": 144, \"11\": 22, \"10\": 33}, \"3\": {\"4\": 80, \"5\": 64, \"8\": 17, \"9\": 89, \"3\": 124, \"10\": 82, \"6\": 57, \"11\": 48, \"1\": 127, \"13\": 75, \"12\": 101, \"14\": 82, \"7\": 86, \"15\": 70, \"2\": 72, \"0\": 26}, \"10\": {\"2\": 128, \"11\": 121, \"14\": 30, \"7\": 117, \"3\": 75, \"1\": 94, \"13\": 105, \"6\": 116, \"12\": 114, \"9\": 115, \"10\": 108, \"0\": 9, \"5\": 20, \"4\": 33, \"15\": 15}, \"1\": {\"9\": 112, \"3\": 124, \"13\": 93, \"11\": 72, \"4\": 78, \"2\": 97, \"1\": 109, \"5\": 33, \"7\": 87, \"10\": 106, \"8\": 7, \"6\": 73, \"12\": 119, \"15\": 22, \"0\": 19, \"14\": 49}, \"2\": {\"4\": 61, \"1\": 100, \"9\": 103, \"10\": 123, \"7\": 123, \"12\": 110, \"13\": 126, \"11\": 81, \"15\": 12, \"14\": 34, \"6\": 109, \"3\": 78, \"2\": 105, \"0\": 7, \"5\": 27, \"8\": 1}, \"15\": {\"0\": 209, \"3\": 64, \"14\": 119, \"8\": 156, \"15\": 175, \"7\": 27, \"5\": 156, \"12\": 32, \"10\": 15, \"4\": 112, \"1\": 36, \"6\": 7, \"13\": 27, \"9\": 42, \"2\": 12, \"11\": 11}, \"9\": {\"9\": 111, \"14\": 54, \"12\": 93, \"11\": 92, \"3\": 87, \"4\": 70, \"6\": 113, \"13\": 118, \"15\": 30, \"2\": 106, \"7\": 108, \"10\": 75, \"1\": 93, \"5\": 31, \"8\": 8, \"0\": 11}, \"0\": {\"4\": 106, \"13\": 20, \"5\": 190, \"0\": 190, \"8\": 190, \"14\": 116, \"2\": 16, \"15\": 195, \"9\": 26, \"12\": 26, \"10\": 6, \"3\": 51, \"11\": 7, \"6\": 13, \"1\": 32, \"7\": 16}}, \"ORACLE.run18\": {\"10\": {\"14\": 88, \"7\": 86, \"11\": 55, \"3\": 51, \"15\": 54, \"5\": 86, \"10\": 106, \"8\": 77, \"1\": 80, \"2\": 74, \"0\": 106, \"6\": 74, \"12\": 59, \"13\": 70, \"9\": 45, \"4\": 89}, \"6\": {\"3\": 72, \"12\": 72, \"10\": 87, \"6\": 76, \"13\": 72, \"0\": 90, \"7\": 82, \"15\": 71, \"2\": 91, \"14\": 71, \"9\": 20, \"1\": 89, \"4\": 83, \"11\": 78, \"5\": 73, \"8\": 73}, \"13\": {\"5\": 97, \"13\": 88, \"11\": 69, \"15\": 58, \"0\": 76, \"10\": 107, \"7\": 81, \"6\": 64, \"14\": 94, \"2\": 68, \"9\": 38, \"8\": 77, \"12\": 51, \"1\": 86, \"4\": 84, \"3\": 62}, \"3\": {\"8\": 101, \"4\": 84, \"11\": 73, \"5\": 44, \"7\": 76, \"0\": 73, \"14\": 67, \"12\": 111, \"2\": 100, \"13\": 76, \"6\": 65, \"10\": 60, \"15\": 90, \"3\": 110, \"1\": 69, \"9\": 1}, \"9\": {\"9\": 463, \"5\": 122, \"14\": 67, \"1\": 36, \"2\": 21, \"4\": 57, \"7\": 46, \"13\": 85, \"6\": 54, \"10\": 83, \"0\": 91, \"8\": 15, \"12\": 8, \"15\": 7, \"3\": 16, \"11\": 29}, \"1\": {\"3\": 78, \"15\": 56, \"14\": 105, \"10\": 68, \"2\": 65, \"12\": 82, \"0\": 79, \"1\": 104, \"5\": 73, \"13\": 72, \"6\": 73, \"7\": 79, \"8\": 90, \"9\": 17, \"11\": 90, \"4\": 69}, \"5\": {\"0\": 99, \"10\": 80, \"11\": 83, \"5\": 93, \"13\": 82, \"9\": 55, \"7\": 78, \"1\": 85, \"8\": 57, \"12\": 58, \"14\": 83, \"6\": 75, \"15\": 57, \"4\": 79, \"2\": 74, \"3\": 62}, \"11\": {\"6\": 82, \"12\": 94, \"3\": 81, \"0\": 77, \"13\": 66, \"11\": 97, \"1\": 99, \"2\": 71, \"10\": 60, \"5\": 55, \"15\": 82, \"7\": 75, \"14\": 77, \"8\": 97, \"4\": 82, \"9\": 5}, \"4\": {\"5\": 75, \"0\": 89, \"4\": 99, \"8\": 61, \"10\": 96, \"6\": 67, \"11\": 81, \"9\": 28, \"1\": 86, \"14\": 71, \"15\": 59, \"13\": 74, \"3\": 62, \"2\": 75, \"7\": 104, \"12\": 73}, \"14\": {\"10\": 96, \"4\": 82, \"2\": 73, \"3\": 61, \"7\": 91, \"1\": 68, \"13\": 78, \"12\": 69, \"14\": 78, \"5\": 87, \"8\": 72, \"6\": 83, \"0\": 78, \"11\": 84, \"9\": 32, \"15\": 68}, \"12\": {\"15\": 114, \"5\": 49, \"3\": 114, \"7\": 63, \"11\": 75, \"2\": 97, \"4\": 71, \"12\": 124, \"0\": 53, \"8\": 114, \"13\": 48, \"6\": 67, \"14\": 75, \"1\": 89, \"10\": 44, \"9\": 3}, \"7\": {\"3\": 81, \"10\": 89, \"12\": 68, \"8\": 65, \"15\": 74, \"7\": 77, \"0\": 74, \"11\": 67, \"6\": 90, \"1\": 70, \"4\": 87, \"9\": 19, \"2\": 87, \"13\": 80, \"14\": 91, \"5\": 81}, \"0\": {\"0\": 102, \"5\": 81, \"15\": 64, \"11\": 74, \"8\": 56, \"10\": 82, \"1\": 81, \"6\": 86, \"2\": 91, \"7\": 84, \"13\": 92, \"9\": 51, \"12\": 44, \"3\": 44, \"4\": 81, \"14\": 87}, \"15\": {\"0\": 65, \"8\": 120, \"1\": 66, \"12\": 98, \"2\": 75, \"4\": 74, \"15\": 100, \"14\": 82, \"3\": 108, \"11\": 93, \"7\": 67, \"6\": 54, \"5\": 59, \"13\": 70, \"10\": 55, \"9\": 14}, \"2\": {\"3\": 105, \"15\": 96, \"8\": 105, \"6\": 73, \"13\": 79, \"1\": 70, \"2\": 110, \"11\": 76, \"4\": 64, \"12\": 83, \"7\": 93, \"0\": 55, \"14\": 82, \"5\": 52, \"10\": 49, \"9\": 8}, \"8\": {\"12\": 100, \"11\": 100, \"2\": 70, \"8\": 85, \"13\": 70, \"14\": 89, \"4\": 81, \"5\": 51, \"7\": 66, \"10\": 65, \"6\": 71, \"3\": 119, \"1\": 79, \"15\": 92, \"0\": 61, \"9\": 1}}, \"ORACLE.run138\": {\"4\": {\"4\": 363, \"12\": 235, \"14\": 60, \"11\": 75, \"0\": 60, \"7\": 107, \"10\": 64, \"8\": 50, \"5\": 50, \"15\": 18, \"6\": 19, \"3\": 42, \"2\": 14, \"13\": 13, \"1\": 10, \"9\": 20}, \"7\": {\"7\": 119, \"15\": 67, \"4\": 89, \"9\": 86, \"14\": 78, \"3\": 90, \"12\": 66, \"5\": 95, \"8\": 89, \"10\": 86, \"0\": 83, \"11\": 67, \"1\": 35, \"6\": 63, \"13\": 46, \"2\": 41}, \"12\": {\"8\": 68, \"5\": 60, \"11\": 92, \"4\": 198, \"12\": 200, \"7\": 106, \"0\": 76, \"14\": 104, \"2\": 39, \"10\": 75, \"6\": 19, \"15\": 39, \"9\": 34, \"3\": 51, \"1\": 15, \"13\": 24}, \"10\": {\"8\": 95, \"10\": 100, \"11\": 85, \"4\": 49, \"12\": 67, \"6\": 60, \"15\": 70, \"2\": 65, \"7\": 107, \"5\": 70, \"9\": 56, \"3\": 63, \"14\": 111, \"1\": 60, \"13\": 57, \"0\": 85}, \"0\": {\"14\": 76, \"0\": 113, \"7\": 119, \"2\": 38, \"3\": 99, \"8\": 87, \"9\": 71, \"13\": 63, \"10\": 95, \"6\": 74, \"11\": 44, \"1\": 40, \"12\": 70, \"15\": 66, \"4\": 56, \"5\": 89}, \"1\": {\"2\": 112, \"1\": 151, \"0\": 53, \"11\": 45, \"9\": 92, \"5\": 77, \"15\": 122, \"7\": 36, \"6\": 102, \"8\": 88, \"14\": 71, \"10\": 61, \"13\": 132, \"12\": 12, \"3\": 42, \"4\": 4}, \"5\": {\"8\": 94, \"1\": 73, \"0\": 95, \"7\": 90, \"3\": 75, \"5\": 102, \"15\": 76, \"4\": 26, \"13\": 79, \"10\": 87, \"6\": 102, \"9\": 81, \"2\": 63, \"14\": 69, \"11\": 50, \"12\": 38}, \"15\": {\"15\": 103, \"10\": 90, \"6\": 88, \"1\": 109, \"9\": 92, \"4\": 13, \"13\": 73, \"5\": 77, \"12\": 41, \"8\": 93, \"7\": 60, \"14\": 65, \"2\": 97, \"3\": 52, \"11\": 69, \"0\": 78}, \"9\": {\"4\": 15, \"8\": 82, \"9\": 136, \"0\": 92, \"3\": 87, \"2\": 67, \"13\": 92, \"5\": 101, \"7\": 74, \"6\": 119, \"10\": 70, \"1\": 75, \"15\": 84, \"11\": 38, \"12\": 20, \"14\": 48}, \"11\": {\"8\": 73, \"10\": 120, \"14\": 139, \"11\": 169, \"7\": 51, \"4\": 80, \"3\": 26, \"0\": 59, \"15\": 62, \"9\": 36, \"12\": 95, \"5\": 66, \"2\": 76, \"1\": 45, \"13\": 57, \"6\": 46}, \"14\": {\"11\": 140, \"1\": 57, \"15\": 78, \"14\": 124, \"7\": 80, \"6\": 64, \"4\": 49, \"8\": 90, \"12\": 81, \"3\": 49, \"10\": 86, \"2\": 86, \"0\": 65, \"13\": 56, \"5\": 55, \"9\": 40}, \"6\": {\"7\": 64, \"15\": 109, \"10\": 76, \"2\": 79, \"14\": 50, \"13\": 77, \"6\": 87, \"8\": 94, \"9\": 98, \"3\": 90, \"11\": 47, \"1\": 100, \"12\": 24, \"0\": 81, \"5\": 106, \"4\": 18}, \"8\": {\"3\": 97, \"15\": 96, \"6\": 86, \"0\": 96, \"8\": 90, \"11\": 55, \"5\": 100, \"9\": 74, \"1\": 68, \"12\": 40, \"2\": 62, \"7\": 78, \"10\": 82, \"4\": 25, \"14\": 74, \"13\": 77}, \"3\": {\"8\": 88, \"14\": 44, \"15\": 58, \"13\": 59, \"9\": 96, \"3\": 163, \"11\": 39, \"7\": 116, \"2\": 38, \"0\": 122, \"5\": 97, \"10\": 77, \"6\": 78, \"4\": 34, \"1\": 52, \"12\": 39}, \"2\": {\"8\": 91, \"9\": 73, \"15\": 101, \"10\": 79, \"6\": 61, \"14\": 111, \"5\": 46, \"0\": 62, \"13\": 118, \"4\": 14, \"2\": 156, \"12\": 24, \"7\": 49, \"11\": 69, \"3\": 41, \"1\": 105}, \"13\": {\"10\": 73, \"8\": 80, \"0\": 71, \"14\": 88, \"7\": 49, \"13\": 102, \"5\": 78, \"15\": 101, \"11\": 50, \"1\": 116, \"3\": 60, \"6\": 100, \"9\": 83, \"2\": 117, \"4\": 11, \"12\": 21}}}, \"per_domain_accuracy\": {\"Wisig_3\": {\"accuracy\": 0.9688864628820961, \"source?\": true}, \"Wisig_4\": {\"accuracy\": 0.9546745867768595, \"source?\": true}, \"Wisig_2\": {\"accuracy\": 0.9563554852320675, \"source?\": true}, \"Wisig_1\": {\"accuracy\": 0.9729516806722689, \"source?\": true}, \"ORACLE.run114\": {\"accuracy\": 0.09552083333333333, \"source?\": false}, \"ORACLE.run120\": {\"accuracy\": 0.07036458333333333, \"source?\": false}, \"ORACLE.run150\": {\"accuracy\": 0.09786458333333334, \"source?\": false}, \"ORACLE.run126\": {\"accuracy\": 0.08854166666666667, \"source?\": false}, \"ORACLE.run132\": {\"accuracy\": 0.15552083333333333, \"source?\": false}, \"ORACLE.run144\": {\"accuracy\": 0.12223958333333333, \"source?\": false}, \"ORACLE.run18\": {\"accuracy\": 0.09958333333333333, \"source?\": false}, \"ORACLE.run138\": {\"accuracy\": 0.11864583333333334, \"source?\": false}}}, \"history\": {\"epoch_indices\": [1, 2, 3, 4, 5], \"train_label_loss\": [0.18988156502273293, 0.11945647389727736, 0.09748917013543379, 0.08147713976369113, 0.06718109051998682], \"source_val_label_loss\": [0.16390997171401978, 0.12309501320123672, 0.11728736758232117, 0.11883465945720673, 0.11713158339262009], \"target_val_label_loss\": [2.72902512550354, 2.7531211376190186, 2.7562904357910156, 2.78781795501709, 2.8739511966705322], \"source_val_acc_label\": [0.9631342494714588, 0.9714918076109936, 0.9733747357293869, 0.9727801268498943, 0.9741345137420718], \"target_val_acc_label\": [0.10603515625, 0.10041666666666667, 0.10318359375, 0.10132161458333333, 0.09647786458333334]}, \"dataset_metrics\": {\"source\": {\"train\": {\"n_unique_x\": 189029, \"n_unique_y\": 130, \"n_batch/episode\": 6842}, \"val\": {\"n_unique_x\": 40049, \"n_unique_y\": 130, \"n_batch/episode\": 946}, \"test\": {\"n_unique_x\": 40794, \"n_unique_y\": 130, \"n_batch/episode\": 966}}, \"target\": {\"train\": {\"n_unique_x\": 896000, \"n_unique_y\": 16, \"n_batch/episode\": 33600}, \"val\": {\"n_unique_x\": 192000, \"n_unique_y\": 16, \"n_batch/episode\": 4800}, \"test\": {\"n_unique_x\": 192000, \"n_unique_y\": 16, \"n_batch/episode\": 4800}}}}'"
      ]
     },
     "execution_count": 29,
     "metadata": {},
     "output_type": "execute_result"
    }
   ],
   "source": [
    "json.dumps(experiment)"
   ]
  }
 ],
 "metadata": {
  "celltoolbar": "Tags",
  "kernelspec": {
   "display_name": "Python 3 (ipykernel)",
   "language": "python",
   "name": "python3"
  },
  "language_info": {
   "codemirror_mode": {
    "name": "ipython",
    "version": 3
   },
   "file_extension": ".py",
   "mimetype": "text/x-python",
   "name": "python",
   "nbconvert_exporter": "python",
   "pygments_lexer": "ipython3",
   "version": "3.8.12"
  },
  "papermill": {
   "default_parameters": {},
   "duration": 2223.63455,
   "end_time": "2022-03-23T16:11:47.724233",
   "environment_variables": {},
   "exception": null,
   "input_path": "/root/csc500-main/csc500-notebooks/templates/tl_ptn_template.ipynb",
   "output_path": "trial.ipynb",
   "parameters": {
    "parameters": {
     "BEST_MODEL_PATH": "./best_model.pth",
     "NUM_LOGS_PER_EPOCH": 10,
     "criteria_for_best": "target_accuracy",
     "dataset_seed": 420,
     "datasets": [
      {
       "domain_prefix": "Wisig_",
       "domains": [
        1,
        2,
        3,
        4
       ],
       "episode_transforms": [],
       "labels": [
        "1-10",
        "1-12",
        "1-14",
        "1-16",
        "1-18",
        "1-19",
        "1-8",
        "10-11",
        "10-17",
        "10-4",
        "10-7",
        "11-1",
        "11-10",
        "11-19",
        "11-20",
        "11-4",
        "11-7",
        "12-19",
        "12-20",
        "12-7",
        "13-14",
        "13-18",
        "13-19",
        "13-20",
        "13-3",
        "13-7",
        "14-10",
        "14-11",
        "14-12",
        "14-13",
        "14-14",
        "14-19",
        "14-20",
        "14-7",
        "14-8",
        "14-9",
        "15-1",
        "15-19",
        "15-6",
        "16-1",
        "16-16",
        "16-19",
        "16-20",
        "17-10",
        "17-11",
        "18-1",
        "18-10",
        "18-11",
        "18-12",
        "18-13",
        "18-14",
        "18-15",
        "18-16",
        "18-17",
        "18-19",
        "18-2",
        "18-20",
        "18-4",
        "18-5",
        "18-7",
        "18-8",
        "18-9",
        "19-1",
        "19-10",
        "19-11",
        "19-12",
        "19-13",
        "19-14",
        "19-15",
        "19-19",
        "19-2",
        "19-20",
        "19-3",
        "19-4",
        "19-6",
        "19-7",
        "19-8",
        "19-9",
        "2-1",
        "2-13",
        "2-15",
        "2-3",
        "2-4",
        "2-5",
        "2-6",
        "2-7",
        "2-8",
        "20-1",
        "20-12",
        "20-14",
        "20-15",
        "20-16",
        "20-18",
        "20-19",
        "20-20",
        "20-3",
        "20-4",
        "20-5",
        "20-7",
        "20-8",
        "3-1",
        "3-13",
        "3-18",
        "3-2",
        "3-8",
        "4-1",
        "4-10",
        "4-11",
        "5-1",
        "5-5",
        "6-1",
        "6-15",
        "6-6",
        "7-10",
        "7-11",
        "7-12",
        "7-13",
        "7-14",
        "7-7",
        "7-8",
        "7-9",
        "8-1",
        "8-13",
        "8-14",
        "8-18",
        "8-20",
        "8-3",
        "8-8",
        "9-1",
        "9-7"
       ],
       "num_examples_per_domain_per_label": -1,
       "pickle_path": "/root/csc500-main/datasets/wisig.node3-19.stratified_ds.2022A.pkl",
       "source_or_target_dataset": "source",
       "x_transforms": [
        "unit_power"
       ]
      },
      {
       "domain_prefix": "ORACLE.run1",
       "domains": [
        32,
        38,
        8,
        44,
        14,
        50,
        20,
        26
       ],
       "episode_transforms": [],
       "labels": [
        "3123D52",
        "3123D65",
        "3123D79",
        "3123D80",
        "3123D54",
        "3123D70",
        "3123D7B",
        "3123D89",
        "3123D58",
        "3123D76",
        "3123D7D",
        "3123EFE",
        "3123D64",
        "3123D78",
        "3123D7E",
        "3124E4A"
       ],
       "num_examples_per_domain_per_label": 10000,
       "pickle_path": "/root/csc500-main/datasets/oracle.Run1_10kExamples_stratified_ds.2022A.pkl",
       "source_or_target_dataset": "target",
       "x_transforms": [
        "unit_power"
       ]
      }
     ],
     "device": "cuda",
     "experiment_name": "tl_1v2:wisig-oracle.run1",
     "lr": 0.0001,
     "n_epoch": 50,
     "n_query": 2,
     "n_shot": 3,
     "n_way": 16,
     "patience": 3,
     "seed": 420,
     "test_k_factor": 2,
     "torch_default_dtype": "torch.float32",
     "train_k_factor": 3,
     "val_k_factor": 2,
     "x_net": [
      {
       "class": "nnReshape",
       "kargs": {
        "shape": [
         -1,
         1,
         2,
         256
        ]
       }
      },
      {
       "class": "Conv2d",
       "kargs": {
        "bias": false,
        "in_channels": 1,
        "kernel_size": [
         1,
         7
        ],
        "out_channels": 256,
        "padding": [
         0,
         3
        ]
       }
      },
      {
       "class": "ReLU",
       "kargs": {
        "inplace": true
       }
      },
      {
       "class": "BatchNorm2d",
       "kargs": {
        "num_features": 256
       }
      },
      {
       "class": "Conv2d",
       "kargs": {
        "bias": true,
        "in_channels": 256,
        "kernel_size": [
         2,
         7
        ],
        "out_channels": 80,
        "padding": [
         0,
         3
        ]
       }
      },
      {
       "class": "ReLU",
       "kargs": {
        "inplace": true
       }
      },
      {
       "class": "BatchNorm2d",
       "kargs": {
        "num_features": 80
       }
      },
      {
       "class": "Flatten",
       "kargs": {}
      },
      {
       "class": "Linear",
       "kargs": {
        "in_features": 20480,
        "out_features": 256
       }
      },
      {
       "class": "ReLU",
       "kargs": {
        "inplace": true
       }
      },
      {
       "class": "BatchNorm1d",
       "kargs": {
        "num_features": 256
       }
      },
      {
       "class": "Linear",
       "kargs": {
        "in_features": 256,
        "out_features": 256
       }
      }
     ]
    }
   },
   "start_time": "2022-03-23T15:34:44.089683",
   "version": "2.3.4"
  }
 },
 "nbformat": 4,
 "nbformat_minor": 5
}