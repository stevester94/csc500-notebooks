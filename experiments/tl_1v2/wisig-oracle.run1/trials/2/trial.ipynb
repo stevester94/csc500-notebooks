{
 "cells": [
  {
   "cell_type": "markdown",
   "id": "9fea5f46",
   "metadata": {
    "papermill": {
     "duration": 0.035657,
     "end_time": "2022-03-23T04:19:32.444699",
     "exception": false,
     "start_time": "2022-03-23T04:19:32.409042",
     "status": "completed"
    },
    "tags": []
   },
   "source": [
    "# Transfer Learning Template"
   ]
  },
  {
   "cell_type": "code",
   "execution_count": 1,
   "id": "0902182a",
   "metadata": {
    "execution": {
     "iopub.execute_input": "2022-03-23T04:19:32.505751Z",
     "iopub.status.busy": "2022-03-23T04:19:32.504883Z",
     "iopub.status.idle": "2022-03-23T04:19:34.316390Z",
     "shell.execute_reply": "2022-03-23T04:19:34.315522Z"
    },
    "papermill": {
     "duration": 1.849818,
     "end_time": "2022-03-23T04:19:34.316584",
     "exception": false,
     "start_time": "2022-03-23T04:19:32.466766",
     "status": "completed"
    },
    "tags": []
   },
   "outputs": [],
   "source": [
    "%load_ext autoreload\n",
    "%autoreload 2\n",
    "%matplotlib inline\n",
    "\n",
    "    \n",
    "import os, json, sys, time, random\n",
    "import numpy as np\n",
    "import torch\n",
    "from torch.optim import Adam\n",
    "from  easydict import EasyDict\n",
    "import matplotlib.pyplot as plt\n",
    "\n",
    "from steves_models.steves_ptn import Steves_Prototypical_Network\n",
    "\n",
    "from steves_utils.lazy_iterable_wrapper import Lazy_Iterable_Wrapper\n",
    "from steves_utils.iterable_aggregator import Iterable_Aggregator\n",
    "from steves_utils.ptn_train_eval_test_jig import  PTN_Train_Eval_Test_Jig\n",
    "from steves_utils.torch_sequential_builder import build_sequential\n",
    "from steves_utils.torch_utils import get_dataset_metrics, ptn_confusion_by_domain_over_dataloader\n",
    "from steves_utils.utils_v2 import (per_domain_accuracy_from_confusion, get_datasets_base_path)\n",
    "from steves_utils.PTN.utils import independent_accuracy_assesment\n",
    "\n",
    "from torch.utils.data import DataLoader\n",
    "\n",
    "from steves_utils.stratified_dataset.episodic_accessor import Episodic_Accessor_Factory\n",
    "\n",
    "from steves_utils.ptn_do_report import (\n",
    "    get_loss_curve,\n",
    "    get_results_table,\n",
    "    get_parameters_table,\n",
    "    get_domain_accuracies,\n",
    ")\n",
    "\n",
    "from steves_utils.transforms import get_chained_transform"
   ]
  },
  {
   "cell_type": "markdown",
   "id": "41c840b4",
   "metadata": {
    "papermill": {
     "duration": 0.019715,
     "end_time": "2022-03-23T04:19:34.360689",
     "exception": false,
     "start_time": "2022-03-23T04:19:34.340974",
     "status": "completed"
    },
    "tags": []
   },
   "source": [
    "# Allowed Parameters\n",
    "These are allowed parameters, not defaults\n",
    "Each of these values need to be present in the injected parameters (the notebook will raise an exception if they are not present)\n",
    "\n",
    "Papermill uses the cell tag \"parameters\" to inject the real parameters below this cell.\n",
    "Enable tags to see what I mean"
   ]
  },
  {
   "cell_type": "code",
   "execution_count": 2,
   "id": "fd44eb83",
   "metadata": {
    "execution": {
     "iopub.execute_input": "2022-03-23T04:19:34.406540Z",
     "iopub.status.busy": "2022-03-23T04:19:34.405874Z",
     "iopub.status.idle": "2022-03-23T04:19:34.428040Z",
     "shell.execute_reply": "2022-03-23T04:19:34.427303Z"
    },
    "papermill": {
     "duration": 0.047657,
     "end_time": "2022-03-23T04:19:34.428209",
     "exception": false,
     "start_time": "2022-03-23T04:19:34.380552",
     "status": "completed"
    },
    "tags": []
   },
   "outputs": [],
   "source": [
    "required_parameters = {\n",
    "    \"experiment_name\",\n",
    "    \"lr\",\n",
    "    \"device\",\n",
    "    \"seed\",\n",
    "    \"dataset_seed\",\n",
    "    \"n_shot\",\n",
    "    \"n_query\",\n",
    "    \"n_way\",\n",
    "    \"train_k_factor\",\n",
    "    \"val_k_factor\",\n",
    "    \"test_k_factor\",\n",
    "    \"n_epoch\",\n",
    "    \"patience\",\n",
    "    \"criteria_for_best\",\n",
    "    \"x_net\",\n",
    "    \"datasets\",\n",
    "    \"torch_default_dtype\",\n",
    "    \"NUM_LOGS_PER_EPOCH\",\n",
    "    \"BEST_MODEL_PATH\",\n",
    "    \"x_shape\",\n",
    "}"
   ]
  },
  {
   "cell_type": "code",
   "execution_count": 3,
   "id": "fa3f0049",
   "metadata": {
    "execution": {
     "iopub.execute_input": "2022-03-23T04:19:34.491875Z",
     "iopub.status.busy": "2022-03-23T04:19:34.480021Z",
     "iopub.status.idle": "2022-03-23T04:19:34.511222Z",
     "shell.execute_reply": "2022-03-23T04:19:34.510398Z"
    },
    "papermill": {
     "duration": 0.053839,
     "end_time": "2022-03-23T04:19:34.511389",
     "exception": false,
     "start_time": "2022-03-23T04:19:34.457550",
     "status": "completed"
    },
    "tags": [
     "parameters"
    ]
   },
   "outputs": [],
   "source": [
    "from steves_utils.CORES.utils import (\n",
    "    ALL_NODES,\n",
    "    ALL_NODES_MINIMUM_1000_EXAMPLES,\n",
    "    ALL_DAYS\n",
    ")\n",
    "\n",
    "from steves_utils.ORACLE.utils_v2 import (\n",
    "    ALL_DISTANCES_FEET_NARROWED,\n",
    "    ALL_RUNS,\n",
    "    ALL_SERIAL_NUMBERS,\n",
    ")\n",
    "\n",
    "standalone_parameters = {}\n",
    "standalone_parameters[\"experiment_name\"] = \"STANDALONE PTN\"\n",
    "standalone_parameters[\"lr\"] = 0.001\n",
    "standalone_parameters[\"device\"] = \"cuda\"\n",
    "\n",
    "standalone_parameters[\"seed\"] = 1337\n",
    "standalone_parameters[\"dataset_seed\"] = 1337\n",
    "\n",
    "standalone_parameters[\"n_way\"] = 8\n",
    "standalone_parameters[\"n_shot\"] = 3\n",
    "standalone_parameters[\"n_query\"]  = 2\n",
    "standalone_parameters[\"train_k_factor\"] = 1\n",
    "standalone_parameters[\"val_k_factor\"] = 2\n",
    "standalone_parameters[\"test_k_factor\"] = 2\n",
    "\n",
    "\n",
    "standalone_parameters[\"n_epoch\"] = 50\n",
    "\n",
    "standalone_parameters[\"patience\"] = 10\n",
    "standalone_parameters[\"criteria_for_best\"] = \"source_loss\"\n",
    "\n",
    "standalone_parameters[\"datasets\"] = [\n",
    "    {\n",
    "        \"labels\": ALL_SERIAL_NUMBERS,\n",
    "        \"domains\": ALL_DISTANCES_FEET_NARROWED,\n",
    "        \"num_examples_per_domain_per_label\": 100,\n",
    "        \"pickle_path\": os.path.join(get_datasets_base_path(), \"oracle.Run1_framed_2000Examples_stratified_ds.2022A.pkl\"),\n",
    "        \"source_or_target_dataset\": \"source\",\n",
    "        \"x_transforms\": [\"unit_mag\", \"minus_two\"],\n",
    "        \"episode_transforms\": [],\n",
    "        \"domain_prefix\": \"ORACLE_\"\n",
    "    },\n",
    "    {\n",
    "        \"labels\": ALL_NODES,\n",
    "        \"domains\": ALL_DAYS,\n",
    "        \"num_examples_per_domain_per_label\": 100,\n",
    "        \"pickle_path\": os.path.join(get_datasets_base_path(), \"cores.stratified_ds.2022A.pkl\"),\n",
    "        \"source_or_target_dataset\": \"target\",\n",
    "        \"x_transforms\": [\"unit_power\", \"times_zero\"],\n",
    "        \"episode_transforms\": [],\n",
    "        \"domain_prefix\": \"CORES_\"\n",
    "    }   \n",
    "]\n",
    "\n",
    "standalone_parameters[\"torch_default_dtype\"] = \"torch.float32\" \n",
    "\n",
    "\n",
    "\n",
    "standalone_parameters[\"x_net\"] =     [\n",
    "    {\"class\": \"nnReshape\", \"kargs\": {\"shape\":[-1, 1, 2, 256]}},\n",
    "    {\"class\": \"Conv2d\", \"kargs\": { \"in_channels\":1, \"out_channels\":256, \"kernel_size\":(1,7), \"bias\":False, \"padding\":(0,3), },},\n",
    "    {\"class\": \"ReLU\", \"kargs\": {\"inplace\": True}},\n",
    "    {\"class\": \"BatchNorm2d\", \"kargs\": {\"num_features\":256}},\n",
    "\n",
    "    {\"class\": \"Conv2d\", \"kargs\": { \"in_channels\":256, \"out_channels\":80, \"kernel_size\":(2,7), \"bias\":True, \"padding\":(0,3), },},\n",
    "    {\"class\": \"ReLU\", \"kargs\": {\"inplace\": True}},\n",
    "    {\"class\": \"BatchNorm2d\", \"kargs\": {\"num_features\":80}},\n",
    "    {\"class\": \"Flatten\", \"kargs\": {}},\n",
    "\n",
    "    {\"class\": \"Linear\", \"kargs\": {\"in_features\": 80*256, \"out_features\": 256}}, # 80 units per IQ pair\n",
    "    {\"class\": \"ReLU\", \"kargs\": {\"inplace\": True}},\n",
    "    {\"class\": \"BatchNorm1d\", \"kargs\": {\"num_features\":256}},\n",
    "\n",
    "    {\"class\": \"Linear\", \"kargs\": {\"in_features\": 256, \"out_features\": 256}},\n",
    "]\n",
    "\n",
    "# Parameters relevant to results\n",
    "# These parameters will basically never need to change\n",
    "standalone_parameters[\"NUM_LOGS_PER_EPOCH\"] = 10\n",
    "standalone_parameters[\"BEST_MODEL_PATH\"] = \"./best_model.pth\"\n",
    "\n",
    "\n",
    "\n",
    "\n"
   ]
  },
  {
   "cell_type": "code",
   "execution_count": 4,
   "id": "fc2b5453",
   "metadata": {
    "execution": {
     "iopub.execute_input": "2022-03-23T04:19:34.581067Z",
     "iopub.status.busy": "2022-03-23T04:19:34.576132Z",
     "iopub.status.idle": "2022-03-23T04:19:34.601585Z",
     "shell.execute_reply": "2022-03-23T04:19:34.600764Z"
    },
    "papermill": {
     "duration": 0.058539,
     "end_time": "2022-03-23T04:19:34.601748",
     "exception": false,
     "start_time": "2022-03-23T04:19:34.543209",
     "status": "completed"
    },
    "tags": [
     "injected-parameters"
    ]
   },
   "outputs": [],
   "source": [
    "# Parameters\n",
    "parameters = {\n",
    "    \"experiment_name\": \"tl_1v2:wisig-oracle.run1\",\n",
    "    \"device\": \"cuda\",\n",
    "    \"lr\": 0.0001,\n",
    "    \"n_shot\": 3,\n",
    "    \"n_query\": 2,\n",
    "    \"train_k_factor\": 3,\n",
    "    \"val_k_factor\": 2,\n",
    "    \"test_k_factor\": 2,\n",
    "    \"torch_default_dtype\": \"torch.float32\",\n",
    "    \"n_epoch\": 50,\n",
    "    \"patience\": 3,\n",
    "    \"criteria_for_best\": \"target_accuracy\",\n",
    "    \"x_net\": [\n",
    "        {\"class\": \"nnReshape\", \"kargs\": {\"shape\": [-1, 1, 2, 256]}},\n",
    "        {\n",
    "            \"class\": \"Conv2d\",\n",
    "            \"kargs\": {\n",
    "                \"in_channels\": 1,\n",
    "                \"out_channels\": 256,\n",
    "                \"kernel_size\": [1, 7],\n",
    "                \"bias\": False,\n",
    "                \"padding\": [0, 3],\n",
    "            },\n",
    "        },\n",
    "        {\"class\": \"ReLU\", \"kargs\": {\"inplace\": True}},\n",
    "        {\"class\": \"BatchNorm2d\", \"kargs\": {\"num_features\": 256}},\n",
    "        {\n",
    "            \"class\": \"Conv2d\",\n",
    "            \"kargs\": {\n",
    "                \"in_channels\": 256,\n",
    "                \"out_channels\": 80,\n",
    "                \"kernel_size\": [2, 7],\n",
    "                \"bias\": True,\n",
    "                \"padding\": [0, 3],\n",
    "            },\n",
    "        },\n",
    "        {\"class\": \"ReLU\", \"kargs\": {\"inplace\": True}},\n",
    "        {\"class\": \"BatchNorm2d\", \"kargs\": {\"num_features\": 80}},\n",
    "        {\"class\": \"Flatten\", \"kargs\": {}},\n",
    "        {\"class\": \"Linear\", \"kargs\": {\"in_features\": 20480, \"out_features\": 256}},\n",
    "        {\"class\": \"ReLU\", \"kargs\": {\"inplace\": True}},\n",
    "        {\"class\": \"BatchNorm1d\", \"kargs\": {\"num_features\": 256}},\n",
    "        {\"class\": \"Linear\", \"kargs\": {\"in_features\": 256, \"out_features\": 256}},\n",
    "    ],\n",
    "    \"NUM_LOGS_PER_EPOCH\": 10,\n",
    "    \"BEST_MODEL_PATH\": \"./best_model.pth\",\n",
    "    \"n_way\": 16,\n",
    "    \"datasets\": [\n",
    "        {\n",
    "            \"labels\": [\n",
    "                \"1-10\",\n",
    "                \"1-12\",\n",
    "                \"1-14\",\n",
    "                \"1-16\",\n",
    "                \"1-18\",\n",
    "                \"1-19\",\n",
    "                \"1-8\",\n",
    "                \"10-11\",\n",
    "                \"10-17\",\n",
    "                \"10-4\",\n",
    "                \"10-7\",\n",
    "                \"11-1\",\n",
    "                \"11-10\",\n",
    "                \"11-19\",\n",
    "                \"11-20\",\n",
    "                \"11-4\",\n",
    "                \"11-7\",\n",
    "                \"12-19\",\n",
    "                \"12-20\",\n",
    "                \"12-7\",\n",
    "                \"13-14\",\n",
    "                \"13-18\",\n",
    "                \"13-19\",\n",
    "                \"13-20\",\n",
    "                \"13-3\",\n",
    "                \"13-7\",\n",
    "                \"14-10\",\n",
    "                \"14-11\",\n",
    "                \"14-12\",\n",
    "                \"14-13\",\n",
    "                \"14-14\",\n",
    "                \"14-19\",\n",
    "                \"14-20\",\n",
    "                \"14-7\",\n",
    "                \"14-8\",\n",
    "                \"14-9\",\n",
    "                \"15-1\",\n",
    "                \"15-19\",\n",
    "                \"15-6\",\n",
    "                \"16-1\",\n",
    "                \"16-16\",\n",
    "                \"16-19\",\n",
    "                \"16-20\",\n",
    "                \"17-10\",\n",
    "                \"17-11\",\n",
    "                \"18-1\",\n",
    "                \"18-10\",\n",
    "                \"18-11\",\n",
    "                \"18-12\",\n",
    "                \"18-13\",\n",
    "                \"18-14\",\n",
    "                \"18-15\",\n",
    "                \"18-16\",\n",
    "                \"18-17\",\n",
    "                \"18-19\",\n",
    "                \"18-2\",\n",
    "                \"18-20\",\n",
    "                \"18-4\",\n",
    "                \"18-5\",\n",
    "                \"18-7\",\n",
    "                \"18-8\",\n",
    "                \"18-9\",\n",
    "                \"19-1\",\n",
    "                \"19-10\",\n",
    "                \"19-11\",\n",
    "                \"19-12\",\n",
    "                \"19-13\",\n",
    "                \"19-14\",\n",
    "                \"19-15\",\n",
    "                \"19-19\",\n",
    "                \"19-2\",\n",
    "                \"19-20\",\n",
    "                \"19-3\",\n",
    "                \"19-4\",\n",
    "                \"19-6\",\n",
    "                \"19-7\",\n",
    "                \"19-8\",\n",
    "                \"19-9\",\n",
    "                \"2-1\",\n",
    "                \"2-13\",\n",
    "                \"2-15\",\n",
    "                \"2-3\",\n",
    "                \"2-4\",\n",
    "                \"2-5\",\n",
    "                \"2-6\",\n",
    "                \"2-7\",\n",
    "                \"2-8\",\n",
    "                \"20-1\",\n",
    "                \"20-12\",\n",
    "                \"20-14\",\n",
    "                \"20-15\",\n",
    "                \"20-16\",\n",
    "                \"20-18\",\n",
    "                \"20-19\",\n",
    "                \"20-20\",\n",
    "                \"20-3\",\n",
    "                \"20-4\",\n",
    "                \"20-5\",\n",
    "                \"20-7\",\n",
    "                \"20-8\",\n",
    "                \"3-1\",\n",
    "                \"3-13\",\n",
    "                \"3-18\",\n",
    "                \"3-2\",\n",
    "                \"3-8\",\n",
    "                \"4-1\",\n",
    "                \"4-10\",\n",
    "                \"4-11\",\n",
    "                \"5-1\",\n",
    "                \"5-5\",\n",
    "                \"6-1\",\n",
    "                \"6-15\",\n",
    "                \"6-6\",\n",
    "                \"7-10\",\n",
    "                \"7-11\",\n",
    "                \"7-12\",\n",
    "                \"7-13\",\n",
    "                \"7-14\",\n",
    "                \"7-7\",\n",
    "                \"7-8\",\n",
    "                \"7-9\",\n",
    "                \"8-1\",\n",
    "                \"8-13\",\n",
    "                \"8-14\",\n",
    "                \"8-18\",\n",
    "                \"8-20\",\n",
    "                \"8-3\",\n",
    "                \"8-8\",\n",
    "                \"9-1\",\n",
    "                \"9-7\",\n",
    "            ],\n",
    "            \"domains\": [1, 2, 3, 4],\n",
    "            \"num_examples_per_domain_per_label\": -1,\n",
    "            \"pickle_path\": \"/root/csc500-main/datasets/wisig.node3-19.stratified_ds.2022A.pkl\",\n",
    "            \"source_or_target_dataset\": \"source\",\n",
    "            \"x_transforms\": [],\n",
    "            \"episode_transforms\": [],\n",
    "            \"domain_prefix\": \"Wisig_\",\n",
    "        },\n",
    "        {\n",
    "            \"labels\": [\n",
    "                \"3123D52\",\n",
    "                \"3123D65\",\n",
    "                \"3123D79\",\n",
    "                \"3123D80\",\n",
    "                \"3123D54\",\n",
    "                \"3123D70\",\n",
    "                \"3123D7B\",\n",
    "                \"3123D89\",\n",
    "                \"3123D58\",\n",
    "                \"3123D76\",\n",
    "                \"3123D7D\",\n",
    "                \"3123EFE\",\n",
    "                \"3123D64\",\n",
    "                \"3123D78\",\n",
    "                \"3123D7E\",\n",
    "                \"3124E4A\",\n",
    "            ],\n",
    "            \"domains\": [32, 38, 8, 44, 14, 50, 20, 26],\n",
    "            \"num_examples_per_domain_per_label\": 10000,\n",
    "            \"pickle_path\": \"/root/csc500-main/datasets/oracle.Run1_10kExamples_stratified_ds.2022A.pkl\",\n",
    "            \"source_or_target_dataset\": \"target\",\n",
    "            \"x_transforms\": [],\n",
    "            \"episode_transforms\": [],\n",
    "            \"domain_prefix\": \"ORACLE.run1\",\n",
    "        },\n",
    "    ],\n",
    "    \"dataset_seed\": 1337,\n",
    "    \"seed\": 1337,\n",
    "}\n"
   ]
  },
  {
   "cell_type": "code",
   "execution_count": 5,
   "id": "8fa1cc33",
   "metadata": {
    "execution": {
     "iopub.execute_input": "2022-03-23T04:19:34.660109Z",
     "iopub.status.busy": "2022-03-23T04:19:34.659515Z",
     "iopub.status.idle": "2022-03-23T04:19:34.674437Z",
     "shell.execute_reply": "2022-03-23T04:19:34.673612Z"
    },
    "papermill": {
     "duration": 0.045436,
     "end_time": "2022-03-23T04:19:34.674599",
     "exception": false,
     "start_time": "2022-03-23T04:19:34.629163",
     "status": "completed"
    },
    "tags": []
   },
   "outputs": [],
   "source": [
    "# Set this to True if you want to run this template directly\n",
    "STANDALONE = False\n",
    "if STANDALONE:\n",
    "    print(\"parameters not injected, running with standalone_parameters\")\n",
    "    parameters = standalone_parameters\n",
    "\n",
    "if not 'parameters' in locals() and not 'parameters' in globals():\n",
    "    raise Exception(\"Parameter injection failed\")\n",
    "\n",
    "#Use an easy dict for all the parameters\n",
    "p = EasyDict(parameters)\n",
    "\n",
    "if \"x_shape\" not in p:\n",
    "    p.x_shape = [2,256] # Default to this if we dont supply x_shape\n",
    "\n",
    "\n",
    "supplied_keys = set(p.keys())\n",
    "\n",
    "if  supplied_keys != required_parameters:\n",
    "    print(\"Parameters are incorrect\")\n",
    "    if len(supplied_keys - required_parameters)>0: print(\"Shouldn't have:\", str(supplied_keys - required_parameters))\n",
    "    if len(required_parameters - supplied_keys)>0: print(\"Need to have:\", str(required_parameters - supplied_keys))\n",
    "    raise RuntimeError(\"Parameters are incorrect\")"
   ]
  },
  {
   "cell_type": "code",
   "execution_count": 6,
   "id": "3a028d58",
   "metadata": {
    "execution": {
     "iopub.execute_input": "2022-03-23T04:19:34.728829Z",
     "iopub.status.busy": "2022-03-23T04:19:34.724827Z",
     "iopub.status.idle": "2022-03-23T04:19:34.745600Z",
     "shell.execute_reply": "2022-03-23T04:19:34.744777Z"
    },
    "papermill": {
     "duration": 0.043961,
     "end_time": "2022-03-23T04:19:34.745760",
     "exception": false,
     "start_time": "2022-03-23T04:19:34.701799",
     "status": "completed"
    },
    "tags": []
   },
   "outputs": [],
   "source": [
    "###################################\n",
    "# Set the RNGs and make it all deterministic\n",
    "###################################\n",
    "np.random.seed(p.seed)\n",
    "random.seed(p.seed)\n",
    "torch.manual_seed(p.seed)\n",
    "\n",
    "torch.use_deterministic_algorithms(True) "
   ]
  },
  {
   "cell_type": "code",
   "execution_count": 7,
   "id": "b691acf6",
   "metadata": {
    "execution": {
     "iopub.execute_input": "2022-03-23T04:19:34.794430Z",
     "iopub.status.busy": "2022-03-23T04:19:34.794059Z",
     "iopub.status.idle": "2022-03-23T04:19:34.816478Z",
     "shell.execute_reply": "2022-03-23T04:19:34.815662Z"
    },
    "papermill": {
     "duration": 0.045545,
     "end_time": "2022-03-23T04:19:34.816634",
     "exception": false,
     "start_time": "2022-03-23T04:19:34.771089",
     "status": "completed"
    },
    "tags": []
   },
   "outputs": [],
   "source": [
    "###########################################\n",
    "# The stratified datasets honor this\n",
    "###########################################\n",
    "torch.set_default_dtype(eval(p.torch_default_dtype))"
   ]
  },
  {
   "cell_type": "code",
   "execution_count": 8,
   "id": "b5fba671",
   "metadata": {
    "execution": {
     "iopub.execute_input": "2022-03-23T04:19:34.872435Z",
     "iopub.status.busy": "2022-03-23T04:19:34.865034Z",
     "iopub.status.idle": "2022-03-23T04:19:34.918078Z",
     "shell.execute_reply": "2022-03-23T04:19:34.918712Z"
    },
    "papermill": {
     "duration": 0.076024,
     "end_time": "2022-03-23T04:19:34.918897",
     "exception": false,
     "start_time": "2022-03-23T04:19:34.842873",
     "status": "completed"
    },
    "tags": []
   },
   "outputs": [],
   "source": [
    "###################################\n",
    "# Build the network(s)\n",
    "# Note: It's critical to do this AFTER setting the RNG\n",
    "###################################\n",
    "x_net = build_sequential(p.x_net)"
   ]
  },
  {
   "cell_type": "code",
   "execution_count": 9,
   "id": "5d7e61cc",
   "metadata": {
    "execution": {
     "iopub.execute_input": "2022-03-23T04:19:34.968324Z",
     "iopub.status.busy": "2022-03-23T04:19:34.967956Z",
     "iopub.status.idle": "2022-03-23T04:19:34.994765Z",
     "shell.execute_reply": "2022-03-23T04:19:34.993949Z"
    },
    "papermill": {
     "duration": 0.050799,
     "end_time": "2022-03-23T04:19:34.994922",
     "exception": false,
     "start_time": "2022-03-23T04:19:34.944123",
     "status": "completed"
    },
    "tags": []
   },
   "outputs": [],
   "source": [
    "start_time_secs = time.time()"
   ]
  },
  {
   "cell_type": "code",
   "execution_count": 10,
   "id": "c6b67dfd",
   "metadata": {
    "execution": {
     "iopub.execute_input": "2022-03-23T04:19:35.044384Z",
     "iopub.status.busy": "2022-03-23T04:19:35.043768Z",
     "iopub.status.idle": "2022-03-23T04:19:35.063918Z",
     "shell.execute_reply": "2022-03-23T04:19:35.063191Z"
    },
    "papermill": {
     "duration": 0.043963,
     "end_time": "2022-03-23T04:19:35.064074",
     "exception": false,
     "start_time": "2022-03-23T04:19:35.020111",
     "status": "completed"
    },
    "tags": []
   },
   "outputs": [],
   "source": [
    "p.domains_source = []\n",
    "p.domains_target = []\n",
    "\n",
    "\n",
    "train_original_source = []\n",
    "val_original_source   = []\n",
    "test_original_source  = []\n",
    "\n",
    "train_original_target = []\n",
    "val_original_target   = []\n",
    "test_original_target  = []"
   ]
  },
  {
   "cell_type": "code",
   "execution_count": 11,
   "id": "e3d9c3d3",
   "metadata": {
    "execution": {
     "iopub.execute_input": "2022-03-23T04:19:35.116933Z",
     "iopub.status.busy": "2022-03-23T04:19:35.116094Z",
     "iopub.status.idle": "2022-03-23T04:19:35.137115Z",
     "shell.execute_reply": "2022-03-23T04:19:35.136315Z"
    },
    "papermill": {
     "duration": 0.044275,
     "end_time": "2022-03-23T04:19:35.137272",
     "exception": false,
     "start_time": "2022-03-23T04:19:35.092997",
     "status": "completed"
    },
    "tags": []
   },
   "outputs": [],
   "source": [
    "# global_x_transform_func = lambda x: normalize(x.to(torch.get_default_dtype()), \"unit_power\") # unit_power, unit_mag\n",
    "# global_x_transform_func = lambda x: normalize(x, \"unit_power\") # unit_power, unit_mag"
   ]
  },
  {
   "cell_type": "code",
   "execution_count": 12,
   "id": "acb78fd2",
   "metadata": {
    "execution": {
     "iopub.execute_input": "2022-03-23T04:19:35.189817Z",
     "iopub.status.busy": "2022-03-23T04:19:35.189241Z",
     "iopub.status.idle": "2022-03-23T04:19:35.206392Z",
     "shell.execute_reply": "2022-03-23T04:19:35.207057Z"
    },
    "papermill": {
     "duration": 0.044273,
     "end_time": "2022-03-23T04:19:35.207234",
     "exception": false,
     "start_time": "2022-03-23T04:19:35.162961",
     "status": "completed"
    },
    "tags": []
   },
   "outputs": [],
   "source": [
    "def add_dataset(\n",
    "    labels,\n",
    "    domains,\n",
    "    pickle_path,\n",
    "    x_transforms,\n",
    "    episode_transforms,\n",
    "    domain_prefix,\n",
    "    num_examples_per_domain_per_label,\n",
    "    source_or_target_dataset:str,\n",
    "    iterator_seed=p.seed,\n",
    "    dataset_seed=p.dataset_seed,\n",
    "    n_shot=p.n_shot,\n",
    "    n_way=p.n_way,\n",
    "    n_query=p.n_query,\n",
    "    train_val_test_k_factors=(p.train_k_factor,p.val_k_factor,p.test_k_factor),\n",
    "):\n",
    "   \n",
    "    if x_transforms == []: x_transform = None\n",
    "    else: x_transform = get_chained_transform(x_transforms)\n",
    "    \n",
    "    if episode_transforms == []: episode_transform = None\n",
    "    else: raise Exception(\"episode_transforms not implemented\")\n",
    "    \n",
    "    episode_transform = lambda tup, _prefix=domain_prefix: (_prefix + str(tup[0]), tup[1])\n",
    "\n",
    "\n",
    "    eaf = Episodic_Accessor_Factory(\n",
    "        labels=labels,\n",
    "        domains=domains,\n",
    "        num_examples_per_domain_per_label=num_examples_per_domain_per_label,\n",
    "        iterator_seed=iterator_seed,\n",
    "        dataset_seed=dataset_seed,\n",
    "        n_shot=n_shot,\n",
    "        n_way=n_way,\n",
    "        n_query=n_query,\n",
    "        train_val_test_k_factors=train_val_test_k_factors,\n",
    "        pickle_path=pickle_path,\n",
    "        x_transform_func=x_transform,\n",
    "    )\n",
    "\n",
    "    train, val, test = eaf.get_train(), eaf.get_val(), eaf.get_test()\n",
    "    train = Lazy_Iterable_Wrapper(train, episode_transform)\n",
    "    val = Lazy_Iterable_Wrapper(val, episode_transform)\n",
    "    test = Lazy_Iterable_Wrapper(test, episode_transform)\n",
    "\n",
    "    if source_or_target_dataset==\"source\":\n",
    "        train_original_source.append(train)\n",
    "        val_original_source.append(val)\n",
    "        test_original_source.append(test)\n",
    "\n",
    "        p.domains_source.extend(\n",
    "            [domain_prefix + str(u) for u in domains]\n",
    "        )\n",
    "    elif source_or_target_dataset==\"target\":\n",
    "        train_original_target.append(train)\n",
    "        val_original_target.append(val)\n",
    "        test_original_target.append(test)\n",
    "        p.domains_target.extend(\n",
    "            [domain_prefix + str(u) for u in domains]\n",
    "        )\n",
    "    else:\n",
    "        raise Exception(f\"invalid source_or_target_dataset: {source_or_target_dataset}\")\n",
    "    "
   ]
  },
  {
   "cell_type": "code",
   "execution_count": 13,
   "id": "fe266617",
   "metadata": {
    "execution": {
     "iopub.execute_input": "2022-03-23T04:19:35.258427Z",
     "iopub.status.busy": "2022-03-23T04:19:35.257552Z",
     "iopub.status.idle": "2022-03-23T04:19:45.876366Z",
     "shell.execute_reply": "2022-03-23T04:19:45.875614Z"
    },
    "papermill": {
     "duration": 10.64219,
     "end_time": "2022-03-23T04:19:45.876561",
     "exception": false,
     "start_time": "2022-03-23T04:19:35.234371",
     "status": "completed"
    },
    "tags": []
   },
   "outputs": [],
   "source": [
    "for ds in p.datasets:\n",
    "    add_dataset(**ds)"
   ]
  },
  {
   "cell_type": "code",
   "execution_count": 14,
   "id": "b90d65ac",
   "metadata": {
    "execution": {
     "iopub.execute_input": "2022-03-23T04:19:45.925274Z",
     "iopub.status.busy": "2022-03-23T04:19:45.924387Z",
     "iopub.status.idle": "2022-03-23T04:19:45.949881Z",
     "shell.execute_reply": "2022-03-23T04:19:45.949064Z"
    },
    "papermill": {
     "duration": 0.048442,
     "end_time": "2022-03-23T04:19:45.950037",
     "exception": false,
     "start_time": "2022-03-23T04:19:45.901595",
     "status": "completed"
    },
    "tags": []
   },
   "outputs": [],
   "source": [
    "# from steves_utils.CORES.utils import (\n",
    "#     ALL_NODES,\n",
    "#     ALL_NODES_MINIMUM_1000_EXAMPLES,\n",
    "#     ALL_DAYS\n",
    "# )\n",
    "\n",
    "# add_dataset(\n",
    "#     labels=ALL_NODES,\n",
    "#     domains = ALL_DAYS,\n",
    "#     num_examples_per_domain_per_label=100,\n",
    "#     pickle_path=os.path.join(get_datasets_base_path(), \"cores.stratified_ds.2022A.pkl\"),\n",
    "#     source_or_target_dataset=\"target\",\n",
    "#     x_transform_func=global_x_transform_func,\n",
    "#     domain_modifier=lambda u: f\"cores_{u}\"\n",
    "# )"
   ]
  },
  {
   "cell_type": "code",
   "execution_count": 15,
   "id": "76db484d",
   "metadata": {
    "execution": {
     "iopub.execute_input": "2022-03-23T04:19:46.000508Z",
     "iopub.status.busy": "2022-03-23T04:19:46.000131Z",
     "iopub.status.idle": "2022-03-23T04:19:46.026169Z",
     "shell.execute_reply": "2022-03-23T04:19:46.026818Z"
    },
    "papermill": {
     "duration": 0.051077,
     "end_time": "2022-03-23T04:19:46.027002",
     "exception": false,
     "start_time": "2022-03-23T04:19:45.975925",
     "status": "completed"
    },
    "tags": []
   },
   "outputs": [],
   "source": [
    "# from steves_utils.ORACLE.utils_v2 import (\n",
    "#     ALL_DISTANCES_FEET,\n",
    "#     ALL_RUNS,\n",
    "#     ALL_SERIAL_NUMBERS,\n",
    "# )\n",
    "\n",
    "\n",
    "# add_dataset(\n",
    "#     labels=ALL_SERIAL_NUMBERS,\n",
    "#     domains = list(set(ALL_DISTANCES_FEET) - {2,62}),\n",
    "#     num_examples_per_domain_per_label=100,\n",
    "#     pickle_path=os.path.join(get_datasets_base_path(), \"oracle.Run2_framed_2000Examples_stratified_ds.2022A.pkl\"),\n",
    "#     source_or_target_dataset=\"source\",\n",
    "#     x_transform_func=global_x_transform_func,\n",
    "#     domain_modifier=lambda u: f\"oracle1_{u}\"\n",
    "# )\n"
   ]
  },
  {
   "cell_type": "code",
   "execution_count": 16,
   "id": "97dea9d2",
   "metadata": {
    "execution": {
     "iopub.execute_input": "2022-03-23T04:19:46.075740Z",
     "iopub.status.busy": "2022-03-23T04:19:46.074776Z",
     "iopub.status.idle": "2022-03-23T04:19:46.095128Z",
     "shell.execute_reply": "2022-03-23T04:19:46.094427Z"
    },
    "papermill": {
     "duration": 0.042841,
     "end_time": "2022-03-23T04:19:46.095282",
     "exception": false,
     "start_time": "2022-03-23T04:19:46.052441",
     "status": "completed"
    },
    "tags": []
   },
   "outputs": [],
   "source": [
    "# from steves_utils.ORACLE.utils_v2 import (\n",
    "#     ALL_DISTANCES_FEET,\n",
    "#     ALL_RUNS,\n",
    "#     ALL_SERIAL_NUMBERS,\n",
    "# )\n",
    "\n",
    "\n",
    "# add_dataset(\n",
    "#     labels=ALL_SERIAL_NUMBERS,\n",
    "#     domains = list(set(ALL_DISTANCES_FEET) - {2,62,56}),\n",
    "#     num_examples_per_domain_per_label=100,\n",
    "#     pickle_path=os.path.join(get_datasets_base_path(), \"oracle.Run2_framed_2000Examples_stratified_ds.2022A.pkl\"),\n",
    "#     source_or_target_dataset=\"source\",\n",
    "#     x_transform_func=global_x_transform_func,\n",
    "#     domain_modifier=lambda u: f\"oracle2_{u}\"\n",
    "# )"
   ]
  },
  {
   "cell_type": "code",
   "execution_count": 17,
   "id": "6f289866",
   "metadata": {
    "execution": {
     "iopub.execute_input": "2022-03-23T04:19:46.149828Z",
     "iopub.status.busy": "2022-03-23T04:19:46.149270Z",
     "iopub.status.idle": "2022-03-23T04:19:46.168945Z",
     "shell.execute_reply": "2022-03-23T04:19:46.169621Z"
    },
    "papermill": {
     "duration": 0.044916,
     "end_time": "2022-03-23T04:19:46.169802",
     "exception": false,
     "start_time": "2022-03-23T04:19:46.124886",
     "status": "completed"
    },
    "tags": []
   },
   "outputs": [],
   "source": [
    "# add_dataset(\n",
    "#     labels=list(range(19)),\n",
    "#     domains = [0,1,2],\n",
    "#     num_examples_per_domain_per_label=100,\n",
    "#     pickle_path=os.path.join(get_datasets_base_path(), \"metehan.stratified_ds.2022A.pkl\"),\n",
    "#     source_or_target_dataset=\"target\",\n",
    "#     x_transform_func=global_x_transform_func,\n",
    "#     domain_modifier=lambda u: f\"met_{u}\"\n",
    "# )"
   ]
  },
  {
   "cell_type": "code",
   "execution_count": 18,
   "id": "86a863c3",
   "metadata": {
    "execution": {
     "iopub.execute_input": "2022-03-23T04:19:46.221778Z",
     "iopub.status.busy": "2022-03-23T04:19:46.220417Z",
     "iopub.status.idle": "2022-03-23T04:19:46.243701Z",
     "shell.execute_reply": "2022-03-23T04:19:46.242960Z"
    },
    "papermill": {
     "duration": 0.046224,
     "end_time": "2022-03-23T04:19:46.243856",
     "exception": false,
     "start_time": "2022-03-23T04:19:46.197632",
     "status": "completed"
    },
    "tags": []
   },
   "outputs": [],
   "source": [
    "# # from steves_utils.wisig.utils import (\n",
    "# #     ALL_NODES_MINIMUM_100_EXAMPLES,\n",
    "# #     ALL_NODES_MINIMUM_500_EXAMPLES,\n",
    "# #     ALL_NODES_MINIMUM_1000_EXAMPLES,\n",
    "# #     ALL_DAYS\n",
    "# # )\n",
    "\n",
    "# import steves_utils.wisig.utils as wisig\n",
    "\n",
    "\n",
    "# add_dataset(\n",
    "#     labels=wisig.ALL_NODES_MINIMUM_100_EXAMPLES,\n",
    "#     domains = wisig.ALL_DAYS,\n",
    "#     num_examples_per_domain_per_label=100,\n",
    "#     pickle_path=os.path.join(get_datasets_base_path(), \"wisig.node3-19.stratified_ds.2022A.pkl\"),\n",
    "#     source_or_target_dataset=\"target\",\n",
    "#     x_transform_func=global_x_transform_func,\n",
    "#     domain_modifier=lambda u: f\"wisig_{u}\"\n",
    "# )"
   ]
  },
  {
   "cell_type": "code",
   "execution_count": 19,
   "id": "fd5442bc",
   "metadata": {
    "execution": {
     "iopub.execute_input": "2022-03-23T04:19:46.300998Z",
     "iopub.status.busy": "2022-03-23T04:19:46.299968Z",
     "iopub.status.idle": "2022-03-23T04:19:46.320987Z",
     "shell.execute_reply": "2022-03-23T04:19:46.320179Z"
    },
    "papermill": {
     "duration": 0.049856,
     "end_time": "2022-03-23T04:19:46.321139",
     "exception": false,
     "start_time": "2022-03-23T04:19:46.271283",
     "status": "completed"
    },
    "tags": []
   },
   "outputs": [],
   "source": [
    "###################################\n",
    "# Build the dataset\n",
    "###################################\n",
    "train_original_source = Iterable_Aggregator(train_original_source, p.seed)\n",
    "val_original_source = Iterable_Aggregator(val_original_source, p.seed)\n",
    "test_original_source = Iterable_Aggregator(test_original_source, p.seed)\n",
    "\n",
    "\n",
    "train_original_target = Iterable_Aggregator(train_original_target, p.seed)\n",
    "val_original_target = Iterable_Aggregator(val_original_target, p.seed)\n",
    "test_original_target = Iterable_Aggregator(test_original_target, p.seed)\n",
    "\n",
    "# For CNN We only use X and Y. And we only train on the source.\n",
    "# Properly form the data using a transform lambda and Lazy_Iterable_Wrapper. Finally wrap them in a dataloader\n",
    "\n",
    "transform_lambda = lambda ex: ex[1] # Original is (<domain>, <episode>) so we strip down to episode only\n",
    "\n",
    "train_processed_source = Lazy_Iterable_Wrapper(train_original_source, transform_lambda)\n",
    "val_processed_source   = Lazy_Iterable_Wrapper(val_original_source, transform_lambda)\n",
    "test_processed_source  = Lazy_Iterable_Wrapper(test_original_source, transform_lambda)\n",
    "\n",
    "train_processed_target = Lazy_Iterable_Wrapper(train_original_target, transform_lambda)\n",
    "val_processed_target   = Lazy_Iterable_Wrapper(val_original_target, transform_lambda)\n",
    "test_processed_target  = Lazy_Iterable_Wrapper(test_original_target, transform_lambda)\n",
    "\n",
    "datasets = EasyDict({\n",
    "    \"source\": {\n",
    "        \"original\": {\"train\":train_original_source, \"val\":val_original_source, \"test\":test_original_source},\n",
    "        \"processed\": {\"train\":train_processed_source, \"val\":val_processed_source, \"test\":test_processed_source}\n",
    "    },\n",
    "    \"target\": {\n",
    "        \"original\": {\"train\":train_original_target, \"val\":val_original_target, \"test\":test_original_target},\n",
    "        \"processed\": {\"train\":train_processed_target, \"val\":val_processed_target, \"test\":test_processed_target}\n",
    "    },\n",
    "})"
   ]
  },
  {
   "cell_type": "code",
   "execution_count": 20,
   "id": "5b3c01fc",
   "metadata": {
    "execution": {
     "iopub.execute_input": "2022-03-23T04:19:46.376014Z",
     "iopub.status.busy": "2022-03-23T04:19:46.372328Z",
     "iopub.status.idle": "2022-03-23T04:20:18.230332Z",
     "shell.execute_reply": "2022-03-23T04:20:18.229483Z"
    },
    "papermill": {
     "duration": 31.880744,
     "end_time": "2022-03-23T04:20:18.230507",
     "exception": false,
     "start_time": "2022-03-23T04:19:46.349763",
     "status": "completed"
    },
    "tags": []
   },
   "outputs": [
    {
     "name": "stdout",
     "output_type": "stream",
     "text": [
      "{'Wisig_3', 'Wisig_2', 'Wisig_4', 'Wisig_1'}\n"
     ]
    },
    {
     "name": "stdout",
     "output_type": "stream",
     "text": [
      "{'ORACLE.run126', 'ORACLE.run138', 'ORACLE.run144', 'ORACLE.run120', 'ORACLE.run114', 'ORACLE.run18', 'ORACLE.run132', 'ORACLE.run150'}\n"
     ]
    },
    {
     "name": "stdout",
     "output_type": "stream",
     "text": [
      "tensor([[[-6.7141e-04,  1.7121e-02,  6.7141e-04,  ...,  5.0966e-03,\n",
      "           1.0224e-02, -2.4720e-03],\n",
      "         [-1.2970e-02,  1.7090e-03,  2.0661e-02,  ..., -6.2258e-03,\n",
      "           2.8382e-03,  1.7151e-02]],\n",
      "\n",
      "        [[ 6.7751e-03,  1.0804e-02, -1.4863e-02,  ...,  6.1342e-03,\n",
      "           2.8077e-03, -1.1902e-02],\n",
      "         [-8.1179e-03,  6.8361e-03,  1.3276e-02,  ...,  4.4557e-03,\n",
      "           6.7751e-03,  6.8667e-03]],\n",
      "\n",
      "        [[ 5.1271e-03,  1.8799e-02,  6.0121e-03,  ...,  7.9958e-03,\n",
      "           1.5809e-02, -4.5778e-04],\n",
      "         [-1.3062e-02,  5.6459e-03,  1.7151e-02,  ..., -8.5452e-03,\n",
      "           9.6133e-03,  1.9318e-02]],\n",
      "\n",
      "        ...,\n",
      "\n",
      "        [[-3.2502e-02, -3.3082e-02,  5.1576e-03,  ..., -5.8046e-02,\n",
      "          -3.1739e-02, -1.9837e-02],\n",
      "         [ 3.3357e-02, -1.3733e-03, -4.8677e-02,  ..., -1.5564e-02,\n",
      "          -2.7680e-02,  2.7467e-04]],\n",
      "\n",
      "        [[-2.1363e-03, -2.2279e-03, -2.8382e-03,  ...,  3.2655e-02,\n",
      "          -6.0121e-03, -6.4211e-02],\n",
      "         [-3.5096e-03, -3.9064e-03, -3.0519e-04,  ..., -9.8575e-03,\n",
      "           4.3397e-02,  4.8219e-03]],\n",
      "\n",
      "        [[-4.4557e-03, -1.4985e-02,  9.1556e-05,  ..., -2.4842e-02,\n",
      "           1.3245e-02,  2.4659e-02],\n",
      "         [-7.5991e-03, -7.8738e-03, -3.4181e-02,  ..., -3.2563e-02,\n",
      "          -4.4832e-02, -1.2604e-02]]])\n"
     ]
    }
   ],
   "source": [
    "from steves_utils.transforms import get_average_magnitude, get_average_power\n",
    "\n",
    "print(set([u for u,_ in val_original_source]))\n",
    "print(set([u for u,_ in val_original_target]))\n",
    "\n",
    "s_x, s_y, q_x, q_y, _ = next(iter(train_processed_source))\n",
    "print(s_x)\n",
    "\n",
    "# for ds in [\n",
    "#     train_processed_source,\n",
    "#     val_processed_source,\n",
    "#     test_processed_source,\n",
    "#     train_processed_target,\n",
    "#     val_processed_target,\n",
    "#     test_processed_target\n",
    "# ]:\n",
    "#     for s_x, s_y, q_x, q_y, _ in ds:\n",
    "#         for X in (s_x, q_x):\n",
    "#             for x in X:\n",
    "#                 assert np.isclose(get_average_magnitude(x.numpy()), 1.0)\n",
    "#                 assert np.isclose(get_average_power(x.numpy()), 1.0)\n",
    "                "
   ]
  },
  {
   "cell_type": "code",
   "execution_count": 21,
   "id": "bbdacba1",
   "metadata": {
    "execution": {
     "iopub.execute_input": "2022-03-23T04:20:18.283402Z",
     "iopub.status.busy": "2022-03-23T04:20:18.282833Z",
     "iopub.status.idle": "2022-03-23T04:20:18.479931Z",
     "shell.execute_reply": "2022-03-23T04:20:18.480603Z"
    },
    "papermill": {
     "duration": 0.224333,
     "end_time": "2022-03-23T04:20:18.480842",
     "exception": false,
     "start_time": "2022-03-23T04:20:18.256509",
     "status": "completed"
    },
    "tags": []
   },
   "outputs": [
    {
     "name": "stdout",
     "output_type": "stream",
     "text": [
      "(2, 256)\n"
     ]
    }
   ],
   "source": [
    "###################################\n",
    "# Build the model\n",
    "###################################\n",
    "# easfsl only wants a tuple for the shape\n",
    "model = Steves_Prototypical_Network(x_net, device=p.device, x_shape=tuple(p.x_shape))\n",
    "optimizer = Adam(params=model.parameters(), lr=p.lr)"
   ]
  },
  {
   "cell_type": "code",
   "execution_count": 22,
   "id": "22b39ac5",
   "metadata": {
    "execution": {
     "iopub.execute_input": "2022-03-23T04:20:18.537986Z",
     "iopub.status.busy": "2022-03-23T04:20:18.537328Z",
     "iopub.status.idle": "2022-03-23T04:47:40.436818Z",
     "shell.execute_reply": "2022-03-23T04:47:40.436385Z"
    },
    "papermill": {
     "duration": 1641.928713,
     "end_time": "2022-03-23T04:47:40.436918",
     "exception": false,
     "start_time": "2022-03-23T04:20:18.508205",
     "status": "completed"
    },
    "tags": []
   },
   "outputs": [
    {
     "name": "stdout",
     "output_type": "stream",
     "text": [
      "epoch: 1, [batch: 1 / 6866], examples_per_second: 31.0126, train_label_loss: 2.1413, \n"
     ]
    },
    {
     "name": "stdout",
     "output_type": "stream",
     "text": [
      "epoch: 1, [batch: 687 / 6866], examples_per_second: 2933.8919, train_label_loss: 0.4094, \n"
     ]
    },
    {
     "name": "stdout",
     "output_type": "stream",
     "text": [
      "epoch: 1, [batch: 1374 / 6866], examples_per_second: 2983.5040, train_label_loss: 0.2622, \n"
     ]
    },
    {
     "name": "stdout",
     "output_type": "stream",
     "text": [
      "epoch: 1, [batch: 2060 / 6866], examples_per_second: 2953.2505, train_label_loss: 0.0322, \n"
     ]
    },
    {
     "name": "stdout",
     "output_type": "stream",
     "text": [
      "epoch: 1, [batch: 2747 / 6866], examples_per_second: 2895.1151, train_label_loss: 0.0301, \n"
     ]
    },
    {
     "name": "stdout",
     "output_type": "stream",
     "text": [
      "epoch: 1, [batch: 3433 / 6866], examples_per_second: 2963.7336, train_label_loss: 0.0607, \n"
     ]
    },
    {
     "name": "stdout",
     "output_type": "stream",
     "text": [
      "epoch: 1, [batch: 4120 / 6866], examples_per_second: 2983.8559, train_label_loss: 0.0235, \n"
     ]
    },
    {
     "name": "stdout",
     "output_type": "stream",
     "text": [
      "epoch: 1, [batch: 4806 / 6866], examples_per_second: 2933.4607, train_label_loss: 0.1832, \n"
     ]
    },
    {
     "name": "stdout",
     "output_type": "stream",
     "text": [
      "epoch: 1, [batch: 5493 / 6866], examples_per_second: 2975.3014, train_label_loss: 0.0412, \n"
     ]
    },
    {
     "name": "stdout",
     "output_type": "stream",
     "text": [
      "epoch: 1, [batch: 6179 / 6866], examples_per_second: 2989.8682, train_label_loss: 0.0165, \n"
     ]
    },
    {
     "name": "stdout",
     "output_type": "stream",
     "text": [
      "=============================================================\n",
      "epoch: 1, source_val_acc_label: 0.9558, target_val_acc_label: 0.2421, source_val_label_loss: 0.2134, target_val_label_loss: 2.5292, \n",
      "=============================================================\n"
     ]
    },
    {
     "name": "stdout",
     "output_type": "stream",
     "text": [
      "New best\n"
     ]
    },
    {
     "name": "stdout",
     "output_type": "stream",
     "text": [
      "epoch: 2, [batch: 1 / 6837], examples_per_second: 1.3449, train_label_loss: 0.4973, \n"
     ]
    },
    {
     "name": "stdout",
     "output_type": "stream",
     "text": [
      "epoch: 2, [batch: 684 / 6837], examples_per_second: 2970.8081, train_label_loss: 0.0990, \n"
     ]
    },
    {
     "name": "stdout",
     "output_type": "stream",
     "text": [
      "epoch: 2, [batch: 1368 / 6837], examples_per_second: 3443.6808, train_label_loss: 0.1684, \n"
     ]
    },
    {
     "name": "stdout",
     "output_type": "stream",
     "text": [
      "epoch: 2, [batch: 2051 / 6837], examples_per_second: 3433.8460, train_label_loss: 0.2053, \n"
     ]
    },
    {
     "name": "stdout",
     "output_type": "stream",
     "text": [
      "epoch: 2, [batch: 2735 / 6837], examples_per_second: 3435.1814, train_label_loss: 0.2270, \n"
     ]
    },
    {
     "name": "stdout",
     "output_type": "stream",
     "text": [
      "epoch: 2, [batch: 3419 / 6837], examples_per_second: 3548.4155, train_label_loss: 0.0383, \n"
     ]
    },
    {
     "name": "stdout",
     "output_type": "stream",
     "text": [
      "epoch: 2, [batch: 4102 / 6837], examples_per_second: 3891.6431, train_label_loss: 0.0029, \n"
     ]
    },
    {
     "name": "stdout",
     "output_type": "stream",
     "text": [
      "epoch: 2, [batch: 4786 / 6837], examples_per_second: 4071.8596, train_label_loss: 0.2635, \n"
     ]
    },
    {
     "name": "stdout",
     "output_type": "stream",
     "text": [
      "epoch: 2, [batch: 5469 / 6837], examples_per_second: 3890.8006, train_label_loss: 0.4059, \n"
     ]
    },
    {
     "name": "stdout",
     "output_type": "stream",
     "text": [
      "epoch: 2, [batch: 6153 / 6837], examples_per_second: 3887.0274, train_label_loss: 0.1325, \n"
     ]
    },
    {
     "name": "stdout",
     "output_type": "stream",
     "text": [
      "=============================================================\n",
      "epoch: 2, source_val_acc_label: 0.9703, target_val_acc_label: 0.2972, source_val_label_loss: 0.1279, target_val_label_loss: 2.4858, \n",
      "=============================================================\n"
     ]
    },
    {
     "name": "stdout",
     "output_type": "stream",
     "text": [
      "New best\n"
     ]
    },
    {
     "name": "stdout",
     "output_type": "stream",
     "text": [
      "epoch: 3, [batch: 1 / 6844], examples_per_second: 1.2645, train_label_loss: 0.4225, \n"
     ]
    },
    {
     "name": "stdout",
     "output_type": "stream",
     "text": [
      "epoch: 3, [batch: 685 / 6844], examples_per_second: 3388.5187, train_label_loss: 0.0246, \n"
     ]
    },
    {
     "name": "stdout",
     "output_type": "stream",
     "text": [
      "epoch: 3, [batch: 1369 / 6844], examples_per_second: 3430.1352, train_label_loss: 0.1253, \n"
     ]
    },
    {
     "name": "stdout",
     "output_type": "stream",
     "text": [
      "epoch: 3, [batch: 2053 / 6844], examples_per_second: 3464.5726, train_label_loss: 0.2112, \n"
     ]
    },
    {
     "name": "stdout",
     "output_type": "stream",
     "text": [
      "epoch: 3, [batch: 2738 / 6844], examples_per_second: 2955.2860, train_label_loss: 0.0045, \n"
     ]
    },
    {
     "name": "stdout",
     "output_type": "stream",
     "text": [
      "epoch: 3, [batch: 3422 / 6844], examples_per_second: 2999.4036, train_label_loss: 0.2809, \n"
     ]
    },
    {
     "name": "stdout",
     "output_type": "stream",
     "text": [
      "epoch: 3, [batch: 4106 / 6844], examples_per_second: 2959.5539, train_label_loss: 0.0071, \n"
     ]
    },
    {
     "name": "stdout",
     "output_type": "stream",
     "text": [
      "epoch: 3, [batch: 4791 / 6844], examples_per_second: 2972.6546, train_label_loss: 0.3812, \n"
     ]
    },
    {
     "name": "stdout",
     "output_type": "stream",
     "text": [
      "epoch: 3, [batch: 5475 / 6844], examples_per_second: 3022.3097, train_label_loss: 0.0137, \n"
     ]
    },
    {
     "name": "stdout",
     "output_type": "stream",
     "text": [
      "epoch: 3, [batch: 6159 / 6844], examples_per_second: 3025.6312, train_label_loss: 0.2582, \n"
     ]
    },
    {
     "name": "stdout",
     "output_type": "stream",
     "text": [
      "=============================================================\n",
      "epoch: 3, source_val_acc_label: 0.9729, target_val_acc_label: 0.2803, source_val_label_loss: 0.1165, target_val_label_loss: 2.4534, \n",
      "=============================================================\n"
     ]
    },
    {
     "name": "stdout",
     "output_type": "stream",
     "text": [
      "epoch: 4, [batch: 1 / 6836], examples_per_second: 1.3562, train_label_loss: 0.1580, \n"
     ]
    },
    {
     "name": "stdout",
     "output_type": "stream",
     "text": [
      "epoch: 4, [batch: 684 / 6836], examples_per_second: 2958.8522, train_label_loss: 0.3514, \n"
     ]
    },
    {
     "name": "stdout",
     "output_type": "stream",
     "text": [
      "epoch: 4, [batch: 1368 / 6836], examples_per_second: 2963.0588, train_label_loss: 0.0866, \n"
     ]
    },
    {
     "name": "stdout",
     "output_type": "stream",
     "text": [
      "epoch: 4, [batch: 2051 / 6836], examples_per_second: 2967.9940, train_label_loss: 0.0680, \n"
     ]
    },
    {
     "name": "stdout",
     "output_type": "stream",
     "text": [
      "epoch: 4, [batch: 2735 / 6836], examples_per_second: 2943.8466, train_label_loss: 0.0411, \n"
     ]
    },
    {
     "name": "stdout",
     "output_type": "stream",
     "text": [
      "epoch: 4, [batch: 3418 / 6836], examples_per_second: 2998.3436, train_label_loss: 0.4785, \n"
     ]
    },
    {
     "name": "stdout",
     "output_type": "stream",
     "text": [
      "epoch: 4, [batch: 4102 / 6836], examples_per_second: 3032.2820, train_label_loss: 0.0047, \n"
     ]
    },
    {
     "name": "stdout",
     "output_type": "stream",
     "text": [
      "epoch: 4, [batch: 4785 / 6836], examples_per_second: 2996.5630, train_label_loss: 0.3119, \n"
     ]
    },
    {
     "name": "stdout",
     "output_type": "stream",
     "text": [
      "epoch: 4, [batch: 5469 / 6836], examples_per_second: 2979.1923, train_label_loss: 0.1708, \n"
     ]
    },
    {
     "name": "stdout",
     "output_type": "stream",
     "text": [
      "epoch: 4, [batch: 6152 / 6836], examples_per_second: 3390.4148, train_label_loss: 0.0951, \n"
     ]
    },
    {
     "name": "stdout",
     "output_type": "stream",
     "text": [
      "=============================================================\n",
      "epoch: 4, source_val_acc_label: 0.9731, target_val_acc_label: 0.2173, source_val_label_loss: 0.1177, target_val_label_loss: 2.5373, \n",
      "=============================================================\n"
     ]
    },
    {
     "name": "stdout",
     "output_type": "stream",
     "text": [
      "epoch: 5, [batch: 1 / 6857], examples_per_second: 1.3261, train_label_loss: 0.0537, \n"
     ]
    },
    {
     "name": "stdout",
     "output_type": "stream",
     "text": [
      "epoch: 5, [batch: 686 / 6857], examples_per_second: 3008.7193, train_label_loss: 0.1207, \n"
     ]
    },
    {
     "name": "stdout",
     "output_type": "stream",
     "text": [
      "epoch: 5, [batch: 1372 / 6857], examples_per_second: 2980.9411, train_label_loss: 0.1210, \n"
     ]
    },
    {
     "name": "stdout",
     "output_type": "stream",
     "text": [
      "epoch: 5, [batch: 2057 / 6857], examples_per_second: 3013.1420, train_label_loss: 0.0022, \n"
     ]
    },
    {
     "name": "stdout",
     "output_type": "stream",
     "text": [
      "epoch: 5, [batch: 2743 / 6857], examples_per_second: 3033.9645, train_label_loss: 0.1314, \n"
     ]
    },
    {
     "name": "stdout",
     "output_type": "stream",
     "text": [
      "epoch: 5, [batch: 3429 / 6857], examples_per_second: 3441.7957, train_label_loss: 0.0796, \n"
     ]
    },
    {
     "name": "stdout",
     "output_type": "stream",
     "text": [
      "epoch: 5, [batch: 4114 / 6857], examples_per_second: 3480.7302, train_label_loss: 0.1641, \n"
     ]
    },
    {
     "name": "stdout",
     "output_type": "stream",
     "text": [
      "epoch: 5, [batch: 4800 / 6857], examples_per_second: 3409.6926, train_label_loss: 0.0155, \n"
     ]
    },
    {
     "name": "stdout",
     "output_type": "stream",
     "text": [
      "epoch: 5, [batch: 5485 / 6857], examples_per_second: 3128.6132, train_label_loss: 0.2611, \n"
     ]
    },
    {
     "name": "stdout",
     "output_type": "stream",
     "text": [
      "epoch: 5, [batch: 6171 / 6857], examples_per_second: 3424.1088, train_label_loss: 0.1007, \n"
     ]
    },
    {
     "name": "stdout",
     "output_type": "stream",
     "text": [
      "=============================================================\n",
      "epoch: 5, source_val_acc_label: 0.9733, target_val_acc_label: 0.2063, source_val_label_loss: 0.1125, target_val_label_loss: 2.5493, \n",
      "=============================================================\n"
     ]
    },
    {
     "name": "stdout",
     "output_type": "stream",
     "text": [
      "epoch: 6, [batch: 1 / 6831], examples_per_second: 1.5659, train_label_loss: 0.1303, \n"
     ]
    },
    {
     "name": "stdout",
     "output_type": "stream",
     "text": [
      "epoch: 6, [batch: 684 / 6831], examples_per_second: 3410.8518, train_label_loss: 0.0051, \n"
     ]
    },
    {
     "name": "stdout",
     "output_type": "stream",
     "text": [
      "epoch: 6, [batch: 1367 / 6831], examples_per_second: 3368.3885, train_label_loss: 0.0046, \n"
     ]
    },
    {
     "name": "stdout",
     "output_type": "stream",
     "text": [
      "epoch: 6, [batch: 2050 / 6831], examples_per_second: 3336.2490, train_label_loss: 0.0031, \n"
     ]
    },
    {
     "name": "stdout",
     "output_type": "stream",
     "text": [
      "epoch: 6, [batch: 2733 / 6831], examples_per_second: 3003.7874, train_label_loss: 0.0074, \n"
     ]
    },
    {
     "name": "stdout",
     "output_type": "stream",
     "text": [
      "epoch: 6, [batch: 3416 / 6831], examples_per_second: 2975.0597, train_label_loss: 0.0016, \n"
     ]
    },
    {
     "name": "stdout",
     "output_type": "stream",
     "text": [
      "epoch: 6, [batch: 4099 / 6831], examples_per_second: 3002.1546, train_label_loss: 0.1249, \n"
     ]
    },
    {
     "name": "stdout",
     "output_type": "stream",
     "text": [
      "epoch: 6, [batch: 4782 / 6831], examples_per_second: 2973.7678, train_label_loss: 0.0015, \n"
     ]
    },
    {
     "name": "stdout",
     "output_type": "stream",
     "text": [
      "epoch: 6, [batch: 5465 / 6831], examples_per_second: 2958.7734, train_label_loss: 0.3554, \n"
     ]
    },
    {
     "name": "stdout",
     "output_type": "stream",
     "text": [
      "epoch: 6, [batch: 6148 / 6831], examples_per_second: 3026.6258, train_label_loss: 0.0552, \n"
     ]
    },
    {
     "name": "stdout",
     "output_type": "stream",
     "text": [
      "=============================================================\n",
      "epoch: 6, source_val_acc_label: 0.9740, target_val_acc_label: 0.2339, source_val_label_loss: 0.1070, target_val_label_loss: 2.4463, \n",
      "=============================================================\n"
     ]
    },
    {
     "name": "stdout",
     "output_type": "stream",
     "text": [
      "Patience (3) exhausted\n"
     ]
    }
   ],
   "source": [
    "###################################\n",
    "# train\n",
    "###################################\n",
    "jig = PTN_Train_Eval_Test_Jig(model, p.BEST_MODEL_PATH, p.device)\n",
    "\n",
    "jig.train(\n",
    "    train_iterable=datasets.source.processed.train,\n",
    "    source_val_iterable=datasets.source.processed.val,\n",
    "    target_val_iterable=datasets.target.processed.val,\n",
    "    num_epochs=p.n_epoch,\n",
    "    num_logs_per_epoch=p.NUM_LOGS_PER_EPOCH,\n",
    "    patience=p.patience,\n",
    "    optimizer=optimizer,\n",
    "    criteria_for_best=p.criteria_for_best,\n",
    ")"
   ]
  },
  {
   "cell_type": "code",
   "execution_count": 23,
   "id": "31e8fabf",
   "metadata": {
    "execution": {
     "iopub.execute_input": "2022-03-23T04:47:40.526859Z",
     "iopub.status.busy": "2022-03-23T04:47:40.526476Z",
     "iopub.status.idle": "2022-03-23T04:47:40.559993Z",
     "shell.execute_reply": "2022-03-23T04:47:40.559265Z"
    },
    "papermill": {
     "duration": 0.080928,
     "end_time": "2022-03-23T04:47:40.560164",
     "exception": false,
     "start_time": "2022-03-23T04:47:40.479236",
     "status": "completed"
    },
    "tags": []
   },
   "outputs": [],
   "source": [
    "total_experiment_time_secs = time.time() - start_time_secs"
   ]
  },
  {
   "cell_type": "code",
   "execution_count": 24,
   "id": "87b9595b",
   "metadata": {
    "execution": {
     "iopub.execute_input": "2022-03-23T04:47:40.659145Z",
     "iopub.status.busy": "2022-03-23T04:47:40.658204Z",
     "iopub.status.idle": "2022-03-23T04:58:27.938942Z",
     "shell.execute_reply": "2022-03-23T04:58:27.938103Z"
    },
    "papermill": {
     "duration": 647.332732,
     "end_time": "2022-03-23T04:58:27.939133",
     "exception": false,
     "start_time": "2022-03-23T04:47:40.606401",
     "status": "completed"
    },
    "tags": []
   },
   "outputs": [],
   "source": [
    "###################################\n",
    "# Evaluate the model\n",
    "###################################\n",
    "source_test_label_accuracy, source_test_label_loss = jig.test(datasets.source.processed.test)\n",
    "target_test_label_accuracy, target_test_label_loss = jig.test(datasets.target.processed.test)\n",
    "\n",
    "source_val_label_accuracy, source_val_label_loss = jig.test(datasets.source.processed.val)\n",
    "target_val_label_accuracy, target_val_label_loss = jig.test(datasets.target.processed.val)\n",
    "\n",
    "history = jig.get_history()\n",
    "\n",
    "total_epochs_trained = len(history[\"epoch_indices\"])\n",
    "\n",
    "val_dl = Iterable_Aggregator((datasets.source.original.val,datasets.target.original.val))\n",
    "\n",
    "confusion = ptn_confusion_by_domain_over_dataloader(model, p.device, val_dl)\n",
    "per_domain_accuracy = per_domain_accuracy_from_confusion(confusion)\n",
    "\n",
    "# Add a key to per_domain_accuracy for if it was a source domain\n",
    "for domain, accuracy in per_domain_accuracy.items():\n",
    "    per_domain_accuracy[domain] = {\n",
    "        \"accuracy\": accuracy,\n",
    "        \"source?\": domain in p.domains_source\n",
    "    }\n",
    "\n",
    "# Do an independent accuracy assesment JUST TO BE SURE!\n",
    "# _source_test_label_accuracy = independent_accuracy_assesment(model, datasets.source.processed.test, p.device)\n",
    "# _target_test_label_accuracy = independent_accuracy_assesment(model, datasets.target.processed.test, p.device)\n",
    "# _source_val_label_accuracy = independent_accuracy_assesment(model, datasets.source.processed.val, p.device)\n",
    "# _target_val_label_accuracy = independent_accuracy_assesment(model, datasets.target.processed.val, p.device)\n",
    "\n",
    "# assert(_source_test_label_accuracy == source_test_label_accuracy)\n",
    "# assert(_target_test_label_accuracy == target_test_label_accuracy)\n",
    "# assert(_source_val_label_accuracy == source_val_label_accuracy)\n",
    "# assert(_target_val_label_accuracy == target_val_label_accuracy)\n",
    "\n",
    "experiment = {\n",
    "    \"experiment_name\": p.experiment_name,\n",
    "    \"parameters\": dict(p),\n",
    "    \"results\": {\n",
    "        \"source_test_label_accuracy\": source_test_label_accuracy,\n",
    "        \"source_test_label_loss\": source_test_label_loss,\n",
    "        \"target_test_label_accuracy\": target_test_label_accuracy,\n",
    "        \"target_test_label_loss\": target_test_label_loss,\n",
    "        \"source_val_label_accuracy\": source_val_label_accuracy,\n",
    "        \"source_val_label_loss\": source_val_label_loss,\n",
    "        \"target_val_label_accuracy\": target_val_label_accuracy,\n",
    "        \"target_val_label_loss\": target_val_label_loss,\n",
    "        \"total_epochs_trained\": total_epochs_trained,\n",
    "        \"total_experiment_time_secs\": total_experiment_time_secs,\n",
    "        \"confusion\": confusion,\n",
    "        \"per_domain_accuracy\": per_domain_accuracy,\n",
    "    },\n",
    "    \"history\": history,\n",
    "    \"dataset_metrics\": get_dataset_metrics(datasets, \"ptn\"),\n",
    "}"
   ]
  },
  {
   "cell_type": "code",
   "execution_count": 25,
   "id": "54a21829",
   "metadata": {
    "execution": {
     "iopub.execute_input": "2022-03-23T04:58:28.032744Z",
     "iopub.status.busy": "2022-03-23T04:58:28.032033Z",
     "iopub.status.idle": "2022-03-23T04:58:28.247387Z",
     "shell.execute_reply": "2022-03-23T04:58:28.248109Z"
    },
    "papermill": {
     "duration": 0.261779,
     "end_time": "2022-03-23T04:58:28.248351",
     "exception": false,
     "start_time": "2022-03-23T04:58:27.986572",
     "status": "completed"
    },
    "tags": []
   },
   "outputs": [
    {
     "data": {
      "image/png": "[encoded data removed]",
      "text/plain": [
       "<Figure size 1080x504 with 1 Axes>"
      ]
     },
     "metadata": {
      "needs_background": "light"
     },
     "output_type": "display_data"
    }
   ],
   "source": [
    "ax = get_loss_curve(experiment)\n",
    "plt.show()"
   ]
  },
  {
   "cell_type": "code",
   "execution_count": 26,
   "id": "fd8a0f60",
   "metadata": {
    "execution": {
     "iopub.execute_input": "2022-03-23T04:58:28.342385Z",
     "iopub.status.busy": "2022-03-23T04:58:28.342009Z",
     "iopub.status.idle": "2022-03-23T04:58:28.679328Z",
     "shell.execute_reply": "2022-03-23T04:58:28.679968Z"
    },
    "papermill": {
     "duration": 0.384436,
     "end_time": "2022-03-23T04:58:28.680166",
     "exception": false,
     "start_time": "2022-03-23T04:58:28.295730",
     "status": "completed"
    },
    "tags": []
   },
   "outputs": [
    {
     "data": {
      "text/plain": [
       "<AxesSubplot:title={'center':'Results'}>"
      ]
     },
     "execution_count": 26,
     "metadata": {},
     "output_type": "execute_result"
    },
    {
     "data": {
      "image/png": "[encoded data removed]",
      "text/plain": [
       "<Figure size 1080x504 with 1 Axes>"
      ]
     },
     "metadata": {
      "needs_background": "light"
     },
     "output_type": "display_data"
    }
   ],
   "source": [
    "get_results_table(experiment)"
   ]
  },
  {
   "cell_type": "code",
   "execution_count": 27,
   "id": "cf8dc689",
   "metadata": {
    "execution": {
     "iopub.execute_input": "2022-03-23T04:58:28.778764Z",
     "iopub.status.busy": "2022-03-23T04:58:28.778382Z",
     "iopub.status.idle": "2022-03-23T04:58:29.039460Z",
     "shell.execute_reply": "2022-03-23T04:58:29.040195Z"
    },
    "papermill": {
     "duration": 0.310226,
     "end_time": "2022-03-23T04:58:29.040420",
     "exception": false,
     "start_time": "2022-03-23T04:58:28.730194",
     "status": "completed"
    },
    "tags": []
   },
   "outputs": [
    {
     "data": {
      "text/plain": [
       "<AxesSubplot:title={'center':'Per Domain Validation Accuracy'}, xlabel='domain'>"
      ]
     },
     "execution_count": 27,
     "metadata": {},
     "output_type": "execute_result"
    },
    {
     "data": {
      "image/png": "[encoded data removed]",
      "text/plain": [
       "<Figure size 1080x504 with 1 Axes>"
      ]
     },
     "metadata": {
      "needs_background": "light"
     },
     "output_type": "display_data"
    }
   ],
   "source": [
    "get_domain_accuracies(experiment)"
   ]
  },
  {
   "cell_type": "code",
   "execution_count": 28,
   "id": "a74ae082",
   "metadata": {
    "execution": {
     "iopub.execute_input": "2022-03-23T04:58:29.143541Z",
     "iopub.status.busy": "2022-03-23T04:58:29.142941Z",
     "iopub.status.idle": "2022-03-23T04:58:29.170021Z",
     "shell.execute_reply": "2022-03-23T04:58:29.169288Z"
    },
    "papermill": {
     "duration": 0.077482,
     "end_time": "2022-03-23T04:58:29.170193",
     "exception": false,
     "start_time": "2022-03-23T04:58:29.092711",
     "status": "completed"
    },
    "tags": []
   },
   "outputs": [
    {
     "name": "stdout",
     "output_type": "stream",
     "text": [
      "Source Test Label Accuracy: 0.9713622291021672 Target Test Label Accuracy: 0.29753255208333335\n",
      "Source Val Label Accuracy: 0.9702727754237288 Target Val Label Accuracy: 0.29716796875\n"
     ]
    }
   ],
   "source": [
    "print(\"Source Test Label Accuracy:\", experiment[\"results\"][\"source_test_label_accuracy\"], \"Target Test Label Accuracy:\", experiment[\"results\"][\"target_test_label_accuracy\"])\n",
    "print(\"Source Val Label Accuracy:\", experiment[\"results\"][\"source_val_label_accuracy\"], \"Target Val Label Accuracy:\", experiment[\"results\"][\"target_val_label_accuracy\"])"
   ]
  },
  {
   "cell_type": "code",
   "execution_count": 29,
   "id": "dacca602",
   "metadata": {
    "execution": {
     "iopub.execute_input": "2022-03-23T04:58:29.271127Z",
     "iopub.status.busy": "2022-03-23T04:58:29.270751Z",
     "iopub.status.idle": "2022-03-23T04:58:29.295368Z",
     "shell.execute_reply": "2022-03-23T04:58:29.296073Z"
    },
    "papermill": {
     "duration": 0.074505,
     "end_time": "2022-03-23T04:58:29.296283",
     "exception": false,
     "start_time": "2022-03-23T04:58:29.221778",
     "status": "completed"
    },
    "tags": [
     "experiment_json"
    ]
   },
   "outputs": [
    {
     "data": {
      "text/plain": [
       "'{\"experiment_name\": \"tl_1v2:wisig-oracle.run1\", \"parameters\": {\"experiment_name\": \"tl_1v2:wisig-oracle.run1\", \"device\": \"cuda\", \"lr\": 0.0001, \"n_shot\": 3, \"n_query\": 2, \"train_k_factor\": 3, \"val_k_factor\": 2, \"test_k_factor\": 2, \"torch_default_dtype\": \"torch.float32\", \"n_epoch\": 50, \"patience\": 3, \"criteria_for_best\": \"target_accuracy\", \"x_net\": [{\"class\": \"nnReshape\", \"kargs\": {\"shape\": [-1, 1, 2, 256]}}, {\"class\": \"Conv2d\", \"kargs\": {\"in_channels\": 1, \"out_channels\": 256, \"kernel_size\": [1, 7], \"bias\": false, \"padding\": [0, 3]}}, {\"class\": \"ReLU\", \"kargs\": {\"inplace\": true}}, {\"class\": \"BatchNorm2d\", \"kargs\": {\"num_features\": 256}}, {\"class\": \"Conv2d\", \"kargs\": {\"in_channels\": 256, \"out_channels\": 80, \"kernel_size\": [2, 7], \"bias\": true, \"padding\": [0, 3]}}, {\"class\": \"ReLU\", \"kargs\": {\"inplace\": true}}, {\"class\": \"BatchNorm2d\", \"kargs\": {\"num_features\": 80}}, {\"class\": \"Flatten\", \"kargs\": {}}, {\"class\": \"Linear\", \"kargs\": {\"in_features\": 20480, \"out_features\": 256}}, {\"class\": \"ReLU\", \"kargs\": {\"inplace\": true}}, {\"class\": \"BatchNorm1d\", \"kargs\": {\"num_features\": 256}}, {\"class\": \"Linear\", \"kargs\": {\"in_features\": 256, \"out_features\": 256}}], \"NUM_LOGS_PER_EPOCH\": 10, \"BEST_MODEL_PATH\": \"./best_model.pth\", \"n_way\": 16, \"datasets\": [{\"labels\": [\"1-10\", \"1-12\", \"1-14\", \"1-16\", \"1-18\", \"1-19\", \"1-8\", \"10-11\", \"10-17\", \"10-4\", \"10-7\", \"11-1\", \"11-10\", \"11-19\", \"11-20\", \"11-4\", \"11-7\", \"12-19\", \"12-20\", \"12-7\", \"13-14\", \"13-18\", \"13-19\", \"13-20\", \"13-3\", \"13-7\", \"14-10\", \"14-11\", \"14-12\", \"14-13\", \"14-14\", \"14-19\", \"14-20\", \"14-7\", \"14-8\", \"14-9\", \"15-1\", \"15-19\", \"15-6\", \"16-1\", \"16-16\", \"16-19\", \"16-20\", \"17-10\", \"17-11\", \"18-1\", \"18-10\", \"18-11\", \"18-12\", \"18-13\", \"18-14\", \"18-15\", \"18-16\", \"18-17\", \"18-19\", \"18-2\", \"18-20\", \"18-4\", \"18-5\", \"18-7\", \"18-8\", \"18-9\", \"19-1\", \"19-10\", \"19-11\", \"19-12\", \"19-13\", \"19-14\", \"19-15\", \"19-19\", \"19-2\", \"19-20\", \"19-3\", \"19-4\", \"19-6\", \"19-7\", \"19-8\", \"19-9\", \"2-1\", \"2-13\", \"2-15\", \"2-3\", \"2-4\", \"2-5\", \"2-6\", \"2-7\", \"2-8\", \"20-1\", \"20-12\", \"20-14\", \"20-15\", \"20-16\", \"20-18\", \"20-19\", \"20-20\", \"20-3\", \"20-4\", \"20-5\", \"20-7\", \"20-8\", \"3-1\", \"3-13\", \"3-18\", \"3-2\", \"3-8\", \"4-1\", \"4-10\", \"4-11\", \"5-1\", \"5-5\", \"6-1\", \"6-15\", \"6-6\", \"7-10\", \"7-11\", \"7-12\", \"7-13\", \"7-14\", \"7-7\", \"7-8\", \"7-9\", \"8-1\", \"8-13\", \"8-14\", \"8-18\", \"8-20\", \"8-3\", \"8-8\", \"9-1\", \"9-7\"], \"domains\": [1, 2, 3, 4], \"num_examples_per_domain_per_label\": -1, \"pickle_path\": \"/root/csc500-main/datasets/wisig.node3-19.stratified_ds.2022A.pkl\", \"source_or_target_dataset\": \"source\", \"x_transforms\": [], \"episode_transforms\": [], \"domain_prefix\": \"Wisig_\"}, {\"labels\": [\"3123D52\", \"3123D65\", \"3123D79\", \"3123D80\", \"3123D54\", \"3123D70\", \"3123D7B\", \"3123D89\", \"3123D58\", \"3123D76\", \"3123D7D\", \"3123EFE\", \"3123D64\", \"3123D78\", \"3123D7E\", \"3124E4A\"], \"domains\": [32, 38, 8, 44, 14, 50, 20, 26], \"num_examples_per_domain_per_label\": 10000, \"pickle_path\": \"/root/csc500-main/datasets/oracle.Run1_10kExamples_stratified_ds.2022A.pkl\", \"source_or_target_dataset\": \"target\", \"x_transforms\": [], \"episode_transforms\": [], \"domain_prefix\": \"ORACLE.run1\"}], \"dataset_seed\": 1337, \"seed\": 1337, \"x_shape\": [2, 256], \"domains_source\": [\"Wisig_1\", \"Wisig_2\", \"Wisig_3\", \"Wisig_4\"], \"domains_target\": [\"ORACLE.run132\", \"ORACLE.run138\", \"ORACLE.run18\", \"ORACLE.run144\", \"ORACLE.run114\", \"ORACLE.run150\", \"ORACLE.run120\", \"ORACLE.run126\"]}, \"results\": {\"source_test_label_accuracy\": 0.9713622291021672, \"source_test_label_loss\": 0.12398182600736618, \"target_test_label_accuracy\": 0.29753255208333335, \"target_test_label_loss\": 2.4851460456848145, \"source_val_label_accuracy\": 0.9702727754237288, \"source_val_label_loss\": 0.12791801989078522, \"target_val_label_accuracy\": 0.29716796875, \"target_val_label_loss\": 2.4858286380767822, \"total_epochs_trained\": 6, \"total_experiment_time_secs\": 1685.5648667812347, \"confusion\": {\"Wisig_3\": {\"109\": {\"109\": 127, \"113\": 1}, \"127\": {\"127\": 126, \"110\": 1, \"69\": 1}, \"14\": {\"14\": 80}, \"7\": {\"7\": 111, \"111\": 1}, \"129\": {\"129\": 31, \"5\": 1}, \"57\": {\"57\": 20}, \"84\": {\"84\": 107, \"118\": 1}, \"114\": {\"114\": 121, \"29\": 1, \"64\": 1, \"106\": 1}, \"44\": {\"44\": 72}, \"21\": {\"21\": 47, \"101\": 1}, \"46\": {\"46\": 16}, \"100\": {\"100\": 16}, \"63\": {\"63\": 15, \"19\": 1}, \"24\": {\"24\": 47, \"71\": 1}, \"107\": {\"107\": 117, \"62\": 1}, \"35\": {\"35\": 11, \"69\": 1}, \"81\": {\"81\": 32}, \"64\": {\"64\": 20}, \"59\": {\"59\": 12}, \"33\": {\"33\": 113, \"90\": 1}, \"34\": {\"34\": 31, \"77\": 1}, \"36\": {\"36\": 118, \"125\": 1, \"111\": 1}, \"79\": {\"79\": 12}, \"80\": {\"80\": 16}, \"77\": {\"77\": 15, \"105\": 1}, \"22\": {\"22\": 16}, \"124\": {\"124\": 122, \"98\": 1, \"32\": 1}, \"2\": {\"2\": 27, \"117\": 1}, \"87\": {\"87\": 111, \"127\": 1}, \"105\": {\"105\": 122}, \"95\": {\"95\": 32}, \"43\": {\"43\": 52, \"21\": 1, \"127\": 1, \"113\": 1, \"11\": 1}, \"56\": {\"56\": 12}, \"18\": {\"18\": 121, \"88\": 1, \"21\": 1, \"33\": 1}, \"85\": {\"85\": 36}, \"113\": {\"113\": 119, \"105\": 1}, \"97\": {\"97\": 18, \"27\": 1, \"105\": 1}, \"86\": {\"86\": 26, \"84\": 1, \"55\": 1}, \"128\": {\"128\": 30, \"17\": 1, \"88\": 1}, \"123\": {\"123\": 16}, \"8\": {\"8\": 129, \"49\": 1}, \"110\": {\"110\": 82, \"88\": 1, \"17\": 1, \"70\": 1, \"44\": 1, \"98\": 1, \"82\": 1, \"69\": 1, \"106\": 1}, \"126\": {\"21\": 1, \"126\": 99, \"94\": 1, \"44\": 1, \"88\": 2}, \"42\": {\"42\": 28}, \"96\": {\"96\": 20}, \"83\": {\"83\": 24}, \"54\": {\"54\": 16}, \"65\": {\"65\": 9, \"121\": 1, \"55\": 1, \"48\": 1}, \"30\": {\"30\": 81, \"106\": 1, \"69\": 1, \"70\": 1}, \"121\": {\"121\": 27, \"127\": 3, \"21\": 1, \"100\": 1}, \"68\": {\"68\": 16}, \"45\": {\"45\": 16}, \"48\": {\"48\": 12, \"13\": 2, \"79\": 2}, \"4\": {\"4\": 94, \"105\": 1, \"87\": 1}, \"67\": {\"67\": 16}, \"103\": {\"103\": 15, \"81\": 1}, \"74\": {\"74\": 16}, \"1\": {\"1\": 106, \"16\": 1, \"3\": 1}, \"61\": {\"61\": 16}, \"101\": {\"101\": 48, \"57\": 1, \"21\": 1, \"84\": 1, \"3\": 1}, \"93\": {\"93\": 138}, \"26\": {\"26\": 130}, \"71\": {\"71\": 66, \"113\": 1, \"127\": 1}, \"15\": {\"15\": 102, \"40\": 1, \"88\": 1}, \"55\": {\"55\": 16}, \"104\": {\"104\": 16}, \"112\": {\"112\": 15, \"5\": 1}, \"102\": {\"102\": 122}, \"117\": {\"117\": 112}, \"119\": {\"119\": 16}, \"20\": {\"20\": 15, \"106\": 1}, \"120\": {\"120\": 20}, \"39\": {\"39\": 101, \"101\": 1, \"88\": 1, \"12\": 1, \"13\": 1, \"70\": 1, \"24\": 1, \"8\": 1}, \"49\": {\"49\": 24}, \"53\": {\"53\": 20}, \"92\": {\"92\": 31, \"3\": 1}, \"3\": {\"3\": 116}, \"47\": {\"47\": 12}, \"115\": {\"115\": 16}, \"58\": {\"58\": 16}, \"29\": {\"29\": 32}, \"12\": {\"12\": 104}, \"62\": {\"62\": 117, \"127\": 1}, \"11\": {\"11\": 140}, \"72\": {\"72\": 28}, \"98\": {\"98\": 106}, \"122\": {\"122\": 57, \"39\": 1, \"82\": 1, \"21\": 1}, \"17\": {\"100\": 1, \"17\": 8, \"88\": 1, \"63\": 1, \"126\": 1, \"86\": 1, \"68\": 1, \"104\": 1, \"128\": 1}, \"94\": {\"94\": 84}, \"106\": {\"106\": 88, \"94\": 1, \"126\": 1}, \"28\": {\"28\": 16}, \"69\": {\"69\": 78, \"87\": 2, \"106\": 1, \"109\": 1, \"70\": 1, \"27\": 1}, \"125\": {\"125\": 113, \"117\": 1}, \"19\": {\"19\": 32}, \"41\": {\"41\": 15, \"6\": 1}, \"60\": {\"60\": 28}, \"70\": {\"70\": 67, \"105\": 1, \"3\": 2, \"92\": 1, \"106\": 1}, \"27\": {\"27\": 93, \"6\": 1, \"24\": 2}, \"10\": {\"10\": 116, \"113\": 2}, \"108\": {\"108\": 138, \"84\": 1, \"87\": 1}, \"9\": {\"9\": 32}, \"25\": {\"25\": 15, \"68\": 1}, \"37\": {\"37\": 15, \"73\": 1}, \"0\": {\"0\": 116}, \"66\": {\"66\": 16}, \"51\": {\"51\": 16}, \"76\": {\"76\": 16}, \"32\": {\"32\": 30, \"67\": 1, \"69\": 1}, \"88\": {\"88\": 109, \"73\": 1, \"84\": 1, \"114\": 1}, \"31\": {\"31\": 20}, \"91\": {\"91\": 21, \"103\": 3}, \"90\": {\"90\": 126}, \"13\": {\"13\": 11, \"67\": 1, \"126\": 1, \"2\": 1, \"101\": 1, \"44\": 1}, \"50\": {\"50\": 16}, \"78\": {\"78\": 16}, \"116\": {\"116\": 28}, \"5\": {\"5\": 110, \"40\": 1, \"70\": 1}, \"75\": {\"75\": 16}, \"89\": {\"89\": 28}, \"16\": {\"16\": 114, \"84\": 1, \"33\": 1}, \"38\": {\"38\": 15, \"89\": 1}, \"118\": {\"118\": 97, \"62\": 1, \"105\": 1, \"16\": 1}, \"99\": {\"99\": 35, \"36\": 1}, \"52\": {\"52\": 16}, \"111\": {\"111\": 128}, \"23\": {\"23\": 28, \"110\": 2, \"30\": 1, \"87\": 1}, \"73\": {\"73\": 38, \"21\": 1, \"85\": 1}, \"82\": {\"91\": 1, \"82\": 24, \"39\": 1, \"45\": 1, \"122\": 1}, \"40\": {\"40\": 126, \"88\": 2}, \"6\": {\"6\": 31, \"58\": 1}}, \"Wisig_4\": {\"28\": {\"28\": 20}, \"4\": {\"4\": 101, \"3\": 2, \"71\": 1}, \"72\": {\"72\": 30, \"57\": 1, \"55\": 1}, \"111\": {\"111\": 132, \"24\": 1, \"122\": 1, \"0\": 1, \"1\": 1}, \"108\": {\"108\": 86, \"122\": 1, \"3\": 1, \"107\": 1, \"27\": 1, \"39\": 1, \"84\": 1}, \"43\": {\"43\": 116, \"87\": 2, \"70\": 1, \"7\": 1}, \"96\": {\"96\": 20}, \"89\": {\"89\": 29, \"1\": 1, \"72\": 1, \"81\": 1}, \"31\": {\"31\": 16}, \"45\": {\"45\": 16}, \"2\": {\"2\": 28}, \"114\": {\"114\": 126, \"12\": 1, \"105\": 1}, \"11\": {\"11\": 135, \"98\": 1}, \"12\": {\"12\": 97, \"21\": 1, \"62\": 1, \"72\": 1}, \"14\": {\"14\": 111, \"8\": 1}, \"90\": {\"90\": 153, \"33\": 1}, \"10\": {\"10\": 116, \"24\": 1, \"7\": 1, \"88\": 2, \"70\": 1, \"27\": 1}, \"63\": {\"63\": 16}, \"85\": {\"85\": 27, \"1\": 1}, \"64\": {\"64\": 14, \"84\": 1, \"71\": 1}, \"82\": {\"82\": 31, \"100\": 1}, \"58\": {\"58\": 15, \"27\": 1}, \"3\": {\"3\": 133, \"21\": 2, \"27\": 1}, \"54\": {\"54\": 14, \"47\": 1, \"108\": 1}, \"121\": {\"121\": 32}, \"42\": {\"42\": 28}, \"98\": {\"98\": 115, \"121\": 2, \"109\": 1, \"81\": 1, \"25\": 1}, \"123\": {\"123\": 16}, \"91\": {\"91\": 23, \"77\": 1}, \"83\": {\"83\": 27, \"105\": 1}, \"99\": {\"99\": 38, \"72\": 1, \"74\": 1}, \"112\": {\"112\": 16}, \"119\": {\"119\": 16}, \"70\": {\"70\": 114, \"27\": 1, \"11\": 2, \"88\": 3, \"105\": 1, \"67\": 1, \"117\": 1, \"108\": 1}, \"20\": {\"20\": 15, \"1\": 1}, \"120\": {\"120\": 18, \"64\": 2}, \"7\": {\"7\": 122, \"108\": 1, \"1\": 1}, \"60\": {\"60\": 32}, \"113\": {\"113\": 116, \"105\": 1, \"108\": 1}, \"37\": {\"37\": 14, \"84\": 1, \"71\": 1}, \"124\": {\"124\": 110}, \"27\": {\"27\": 96, \"111\": 1, \"32\": 1, \"122\": 1, \"71\": 1}, \"86\": {\"86\": 28}, \"127\": {\"127\": 102, \"105\": 1, \"3\": 1, \"111\": 1, \"0\": 1, \"122\": 1, \"1\": 1}, \"62\": {\"62\": 55, \"71\": 1, \"122\": 1, \"14\": 1, \"55\": 1, \"3\": 1}, \"122\": {\"122\": 80, \"3\": 1, \"121\": 1, \"1\": 1, \"43\": 1}, \"51\": {\"51\": 12, \"21\": 1, \"23\": 1, \"62\": 1, \"17\": 1}, \"109\": {\"109\": 113, \"122\": 1}, \"106\": {\"106\": 109, \"3\": 1, \"78\": 1, \"1\": 1, \"117\": 1, \"88\": 1}, \"94\": {\"94\": 88}, \"38\": {\"38\": 16}, \"129\": {\"129\": 27, \"21\": 1}, \"116\": {\"116\": 28}, \"107\": {\"107\": 118}, \"30\": {\"30\": 73, \"7\": 1, \"10\": 1, \"27\": 1}, \"102\": {\"102\": 131, \"62\": 1}, \"74\": {\"74\": 16}, \"101\": {\"101\": 130, \"107\": 1, \"0\": 1}, \"117\": {\"117\": 118, \"71\": 1, \"1\": 1, \"16\": 1, \"90\": 1, \"81\": 2}, \"1\": {\"1\": 95, \"71\": 2, \"88\": 2, \"24\": 2, \"18\": 1, \"128\": 3, \"21\": 2, \"14\": 1}, \"84\": {\"84\": 128, \"0\": 1, \"118\": 1, \"14\": 1, \"88\": 1}, \"17\": {\"17\": 20}, \"6\": {\"6\": 23, \"91\": 1}, \"110\": {\"110\": 122, \"84\": 1, \"1\": 1}, \"77\": {\"77\": 12}, \"8\": {\"8\": 128, \"3\": 1, \"82\": 1, \"127\": 1, \"12\": 1}, \"73\": {\"73\": 20, \"115\": 1, \"3\": 1, \"120\": 1, \"46\": 1}, \"126\": {\"126\": 121, \"27\": 1, \"106\": 1, \"88\": 1}, \"57\": {\"57\": 16}, \"95\": {\"95\": 32}, \"103\": {\"103\": 15, \"124\": 1}, \"97\": {\"97\": 17, \"8\": 1, \"10\": 1, \"78\": 1}, \"39\": {\"8\": 1, \"39\": 92, \"7\": 1, \"106\": 2, \"21\": 2, \"108\": 1, \"27\": 1}, \"100\": {\"100\": 20}, \"40\": {\"40\": 108, \"128\": 1, \"69\": 1}, \"36\": {\"36\": 124, \"84\": 1, \"21\": 1}, \"19\": {\"19\": 26, \"73\": 1, \"50\": 1}, \"118\": {\"118\": 109, \"3\": 1, \"24\": 1, \"105\": 1}, \"56\": {\"56\": 11, \"86\": 1}, \"26\": {\"26\": 125, \"84\": 1}, \"5\": {\"5\": 134, \"106\": 1, \"1\": 1}, \"21\": {\"21\": 35, \"7\": 1, \"23\": 1, \"78\": 2, \"84\": 1}, \"22\": {\"22\": 15, \"36\": 1}, \"68\": {\"68\": 16}, \"9\": {\"9\": 26, \"83\": 2}, \"66\": {\"66\": 15, \"56\": 1}, \"87\": {\"87\": 121, \"43\": 2, \"106\": 1}, \"71\": {\"71\": 103, \"21\": 1}, \"115\": {\"115\": 16}, \"23\": {\"17\": 2, \"23\": 9, \"21\": 1, \"15\": 1, \"105\": 2, \"40\": 1}, \"33\": {\"33\": 116, \"0\": 1, \"90\": 1}, \"35\": {\"35\": 11, \"3\": 1}, \"125\": {\"125\": 127, \"90\": 2, \"92\": 1, \"88\": 1, \"106\": 1}, \"47\": {\"95\": 2, \"47\": 10}, \"79\": {\"79\": 16}, \"53\": {\"53\": 16}, \"67\": {\"67\": 14, \"38\": 1, \"104\": 1}, \"80\": {\"80\": 16}, \"105\": {\"105\": 93, \"71\": 2, \"3\": 1, \"108\": 3, \"40\": 1}, \"76\": {\"76\": 16}, \"46\": {\"46\": 19, \"129\": 1}, \"34\": {\"32\": 1, \"77\": 1, \"34\": 28, \"75\": 1, \"54\": 1}, \"32\": {\"32\": 27, \"21\": 1}, \"13\": {\"13\": 16}, \"78\": {\"78\": 34, \"4\": 1, \"1\": 1}, \"41\": {\"41\": 16}, \"69\": {\"69\": 124, \"126\": 2, \"3\": 1, \"88\": 1}, \"88\": {\"88\": 123, \"74\": 1, \"70\": 5, \"3\": 1, \"122\": 1, \"90\": 1}, \"15\": {\"15\": 123, \"106\": 1, \"126\": 1, \"88\": 1, \"21\": 1, \"24\": 1}, \"61\": {\"61\": 16}, \"0\": {\"0\": 112, \"24\": 1, \"105\": 1, \"27\": 1, \"4\": 1}, \"104\": {\"104\": 15, \"70\": 1}, \"48\": {\"48\": 13, \"79\": 2, \"74\": 1}, \"25\": {\"25\": 16}, \"75\": {\"75\": 16}, \"81\": {\"81\": 36}, \"50\": {\"50\": 16}, \"52\": {\"52\": 20}, \"16\": {\"16\": 118, \"98\": 1, \"106\": 1}, \"44\": {\"44\": 63, \"88\": 1}, \"29\": {\"29\": 30, \"21\": 1, \"1\": 1}, \"93\": {\"93\": 123, \"14\": 1}, \"18\": {\"18\": 114}, \"49\": {\"49\": 32}, \"55\": {\"55\": 16}, \"59\": {\"59\": 11, \"21\": 1}, \"128\": {\"128\": 19, \"99\": 2, \"98\": 3}, \"24\": {\"24\": 114, \"27\": 3, \"7\": 1, \"10\": 2}, \"65\": {\"65\": 12}, \"92\": {\"92\": 28}}, \"Wisig_1\": {\"108\": {\"108\": 124}, \"40\": {\"40\": 136}, \"68\": {\"68\": 15, \"57\": 1}, \"23\": {\"23\": 18, \"110\": 1, \"93\": 2, \"44\": 1, \"99\": 1, \"3\": 1}, \"26\": {\"26\": 118, \"3\": 1, \"21\": 1}, \"64\": {\"64\": 16}, \"22\": {\"22\": 12, \"116\": 2, \"86\": 1, \"3\": 1}, \"3\": {\"3\": 84, \"94\": 1, \"109\": 1, \"18\": 1, \"62\": 1}, \"4\": {\"4\": 99, \"12\": 1}, \"70\": {\"70\": 119, \"84\": 1}, \"57\": {\"57\": 11, \"3\": 1}, \"79\": {\"79\": 12}, \"9\": {\"9\": 32}, \"89\": {\"89\": 36}, \"110\": {\"110\": 128}, \"102\": {\"102\": 118, \"14\": 1, \"18\": 1}, \"31\": {\"31\": 16}, \"58\": {\"58\": 11, \"42\": 1}, \"47\": {\"47\": 12}, \"24\": {\"24\": 88, \"12\": 2, \"84\": 1, \"108\": 1}, \"19\": {\"19\": 28}, \"11\": {\"11\": 132}, \"52\": {\"52\": 20}, \"17\": {\"17\": 14, \"111\": 1, \"4\": 1}, \"25\": {\"25\": 16}, \"69\": {\"69\": 105, \"62\": 1, \"12\": 1, \"14\": 1}, \"96\": {\"96\": 15, \"17\": 1, \"65\": 1, \"49\": 1, \"35\": 1, \"10\": 1}, \"109\": {\"109\": 113, \"3\": 1}, \"115\": {\"115\": 12}, \"83\": {\"83\": 27, \"114\": 1}, \"84\": {\"84\": 127, \"88\": 1}, \"119\": {\"119\": 16}, \"122\": {\"122\": 83, \"14\": 1, \"1\": 1, \"105\": 1, \"21\": 1, \"12\": 1}, \"99\": {\"99\": 24}, \"1\": {\"1\": 133, \"105\": 1, \"84\": 1, \"127\": 1}, \"74\": {\"74\": 16}, \"85\": {\"85\": 32}, \"127\": {\"127\": 106, \"114\": 1, \"105\": 1}, \"111\": {\"111\": 117, \"5\": 2, \"24\": 1}, \"53\": {\"53\": 19, \"64\": 1}, \"88\": {\"88\": 132}, \"65\": {\"65\": 9, \"55\": 1, \"28\": 1, \"67\": 1}, \"7\": {\"7\": 134}, \"16\": {\"16\": 107, \"127\": 1}, \"128\": {\"128\": 23, \"86\": 1}, \"34\": {\"34\": 30, \"52\": 1, \"77\": 1}, \"129\": {\"129\": 28}, \"43\": {\"43\": 125, \"105\": 1, \"122\": 1, \"106\": 1}, \"92\": {\"92\": 28}, \"28\": {\"28\": 18, \"41\": 1, \"78\": 1}, \"27\": {\"27\": 92}, \"114\": {\"114\": 123, \"71\": 1}, \"73\": {\"73\": 20}, \"0\": {\"0\": 84}, \"104\": {\"104\": 16}, \"118\": {\"118\": 83, \"107\": 1}, \"41\": {\"41\": 16}, \"91\": {\"91\": 28}, \"124\": {\"124\": 122}, \"81\": {\"81\": 28}, \"63\": {\"63\": 16}, \"76\": {\"76\": 16}, \"10\": {\"10\": 118, \"111\": 1, \"27\": 1}, \"51\": {\"51\": 15, \"50\": 1}, \"82\": {\"82\": 36}, \"56\": {\"56\": 12}, \"30\": {\"30\": 52}, \"21\": {\"21\": 35, \"110\": 1, \"41\": 1, \"68\": 1, \"94\": 1, \"3\": 1}, \"46\": {\"46\": 12}, \"33\": {\"33\": 138}, \"101\": {\"101\": 121, \"12\": 1, \"14\": 1, \"117\": 1}, \"105\": {\"105\": 82, \"36\": 1, \"40\": 1}, \"50\": {\"50\": 15, \"113\": 1}, \"116\": {\"116\": 32}, \"77\": {\"77\": 16}, \"75\": {\"75\": 16}, \"95\": {\"95\": 36}, \"120\": {\"120\": 20}, \"18\": {\"18\": 108}, \"14\": {\"14\": 96}, \"44\": {\"44\": 76}, \"98\": {\"98\": 96}, \"121\": {\"121\": 32}, \"113\": {\"113\": 108}, \"103\": {\"103\": 16}, \"62\": {\"62\": 116, \"84\": 2, \"7\": 1, \"107\": 1}, \"32\": {\"32\": 32}, \"71\": {\"71\": 104, \"127\": 2, \"84\": 1, \"109\": 1}, \"94\": {\"94\": 89, \"105\": 1, \"88\": 1, \"7\": 1}, \"49\": {\"49\": 17, \"77\": 1, \"31\": 1, \"72\": 1}, \"12\": {\"12\": 100, \"109\": 1, \"105\": 1, \"106\": 1, \"70\": 1}, \"90\": {\"90\": 124}, \"93\": {\"93\": 122, \"43\": 1, \"87\": 1}, \"13\": {\"13\": 16}, \"67\": {\"23\": 1, \"67\": 15}, \"20\": {\"20\": 14, \"3\": 1, \"122\": 1}, \"2\": {\"2\": 32}, \"5\": {\"5\": 87, \"36\": 1}, \"54\": {\"54\": 15, \"122\": 1}, \"37\": {\"37\": 16}, \"38\": {\"38\": 16}, \"86\": {\"86\": 32, \"6\": 2, \"84\": 1, \"33\": 1}, \"55\": {\"55\": 12}, \"97\": {\"97\": 18, \"31\": 1, \"42\": 1}, \"29\": {\"29\": 28}, \"48\": {\"63\": 1, \"48\": 11}, \"60\": {\"60\": 16}, \"36\": {\"36\": 120, \"107\": 1, \"101\": 1}, \"42\": {\"42\": 24, \"91\": 3, \"105\": 1}, \"66\": {\"66\": 16}, \"126\": {\"126\": 127, \"5\": 1}, \"39\": {\"39\": 103, \"11\": 1}, \"107\": {\"107\": 123, \"18\": 1}, \"59\": {\"59\": 9, \"111\": 1, \"95\": 1, \"66\": 1}, \"117\": {\"117\": 138}, \"6\": {\"6\": 32}, \"123\": {\"123\": 16}, \"8\": {\"8\": 123, \"24\": 1}, \"112\": {\"112\": 15, \"24\": 1}, \"80\": {\"80\": 15, \"6\": 1}, \"125\": {\"125\": 136}, \"61\": {\"61\": 12}, \"45\": {\"45\": 7, \"124\": 1, \"86\": 2, \"64\": 2}, \"72\": {\"72\": 31, \"101\": 1}, \"87\": {\"87\": 106, \"84\": 1, \"11\": 1}, \"106\": {\"106\": 124}, \"35\": {\"35\": 8, \"27\": 1, \"105\": 1, \"61\": 1, \"93\": 1}, \"78\": {\"78\": 13, \"3\": 1, \"40\": 1, \"21\": 1}, \"15\": {\"15\": 98, \"62\": 1, \"12\": 2, \"95\": 1, \"21\": 1, \"36\": 1}, \"100\": {\"100\": 15, \"99\": 1}}, \"Wisig_2\": {\"91\": {\"91\": 23, \"58\": 1, \"6\": 2, \"14\": 1, \"115\": 1}, \"12\": {\"12\": 83, \"117\": 1, \"105\": 1, \"106\": 1, \"71\": 1, \"10\": 1}, \"101\": {\"101\": 147, \"114\": 1}, \"121\": {\"121\": 35, \"109\": 1}, \"118\": {\"118\": 66, \"14\": 1, \"87\": 1}, \"10\": {\"10\": 50, \"70\": 1, \"11\": 1, \"12\": 1, \"78\": 4, \"127\": 2, \"18\": 1}, \"117\": {\"117\": 116, \"2\": 2, \"31\": 1, \"44\": 1}, \"110\": {\"110\": 33, \"120\": 1, \"8\": 1, \"114\": 1, \"14\": 1, \"90\": 1, \"84\": 1, \"95\": 1}, \"97\": {\"97\": 18, \"15\": 2}, \"28\": {\"28\": 20}, \"88\": {\"88\": 119, \"71\": 1, \"24\": 1, \"105\": 1, \"3\": 1, \"1\": 1}, \"17\": {\"17\": 16}, \"126\": {\"126\": 112, \"93\": 1, \"22\": 1}, \"33\": {\"33\": 125, \"105\": 1, \"3\": 1, \"70\": 1}, \"86\": {\"86\": 32}, \"106\": {\"106\": 117, \"21\": 1, \"70\": 1, \"62\": 1}, \"54\": {\"54\": 20}, \"125\": {\"125\": 131, \"98\": 1}, \"83\": {\"83\": 39, \"71\": 1}, \"98\": {\"98\": 119, \"117\": 1}, \"11\": {\"11\": 76, \"3\": 1, \"69\": 1, \"12\": 1, \"109\": 1}, \"32\": {\"32\": 29, \"56\": 1, \"14\": 1, \"62\": 1, \"64\": 2, \"12\": 1, \"95\": 1}, \"42\": {\"42\": 26, \"46\": 2}, \"103\": {\"103\": 16}, \"87\": {\"87\": 98, \"61\": 1, \"39\": 1, \"7\": 1, \"43\": 2, \"106\": 1, \"24\": 2, \"8\": 1, \"105\": 1, \"94\": 2, \"127\": 1, \"11\": 1}, \"61\": {\"61\": 16, \"87\": 1, \"69\": 1, \"71\": 1, \"21\": 1}, \"13\": {\"13\": 13, \"59\": 1, \"78\": 1, \"98\": 1}, \"4\": {\"4\": 83, \"0\": 1, \"69\": 1, \"109\": 1}, \"15\": {\"15\": 116, \"68\": 1, \"0\": 2, \"105\": 1}, \"120\": {\"120\": 20}, \"80\": {\"80\": 16}, \"72\": {\"72\": 28}, \"64\": {\"64\": 15, \"3\": 1}, \"81\": {\"81\": 22, \"1\": 1, \"12\": 1}, \"102\": {\"102\": 112}, \"76\": {\"76\": 16}, \"49\": {\"49\": 18, \"58\": 1, \"81\": 1, \"75\": 1, \"7\": 1, \"85\": 1, \"98\": 1}, \"129\": {\"129\": 32}, \"89\": {\"89\": 34, \"112\": 1, \"82\": 1}, \"52\": {\"52\": 18, \"72\": 1, \"91\": 1}, \"35\": {\"35\": 12}, \"53\": {\"53\": 16}, \"26\": {\"26\": 124, \"87\": 1, \"3\": 1, \"107\": 1, \"71\": 1}, \"96\": {\"96\": 20}, \"27\": {\"27\": 55, \"94\": 1, \"110\": 1, \"109\": 1, \"3\": 1, \"84\": 1, \"62\": 1, \"113\": 1, \"21\": 2, \"7\": 1, \"127\": 1, \"88\": 1, \"36\": 1}, \"24\": {\"24\": 103, \"71\": 1, \"69\": 1, \"39\": 1, \"70\": 1, \"14\": 1, \"107\": 1, \"10\": 1, \"3\": 2}, \"82\": {\"82\": 32, \"107\": 2, \"104\": 1, \"21\": 1}, \"18\": {\"18\": 123, \"109\": 1, \"14\": 2, \"16\": 1, \"61\": 1}, \"69\": {\"69\": 119, \"110\": 1, \"118\": 1, \"106\": 1}, \"47\": {\"47\": 11, \"123\": 1}, \"85\": {\"85\": 32}, \"2\": {\"2\": 32}, \"67\": {\"67\": 15, \"71\": 1}, \"39\": {\"39\": 101, \"105\": 1, \"14\": 1, \"88\": 1, \"109\": 4, \"17\": 1, \"71\": 1, \"44\": 1, \"70\": 1}, \"99\": {\"99\": 32}, \"74\": {\"74\": 13, \"24\": 1, \"34\": 1, \"33\": 1}, \"105\": {\"105\": 130, \"5\": 1, \"114\": 1}, \"70\": {\"70\": 112, \"78\": 2, \"88\": 2, \"3\": 1, \"109\": 1, \"71\": 1, \"90\": 1, \"40\": 1, \"106\": 1}, \"55\": {\"55\": 16}, \"30\": {\"30\": 108, \"122\": 1, \"71\": 1, \"61\": 1, \"1\": 1}, \"60\": {\"60\": 26, \"24\": 1, \"23\": 1}, \"92\": {\"92\": 23, \"128\": 1, \"76\": 2, \"115\": 1, \"69\": 1}, \"45\": {\"45\": 15, \"105\": 1}, \"127\": {\"127\": 111, \"89\": 1}, \"9\": {\"110\": 1, \"9\": 30, \"12\": 1}, \"115\": {\"115\": 12}, \"73\": {\"73\": 28}, \"108\": {\"108\": 138}, \"114\": {\"114\": 113, \"10\": 1, \"71\": 1, \"3\": 1}, \"63\": {\"63\": 19, \"41\": 1}, \"93\": {\"93\": 128}, \"7\": {\"7\": 132}, \"31\": {\"31\": 19, \"14\": 1}, \"123\": {\"123\": 16}, \"128\": {\"128\": 22, \"114\": 2}, \"0\": {\"0\": 109, \"24\": 1, \"7\": 1, \"30\": 1, \"69\": 1, \"39\": 1, \"83\": 1, \"3\": 1}, \"3\": {\"3\": 134, \"18\": 1, \"84\": 1}, \"19\": {\"19\": 28}, \"57\": {\"57\": 19, \"84\": 1}, \"78\": {\"78\": 46, \"49\": 1, \"39\": 1}, \"95\": {\"95\": 35, \"3\": 1}, \"40\": {\"40\": 132, \"71\": 2, \"7\": 1, \"69\": 2, \"3\": 1, \"114\": 1, \"105\": 1}, \"14\": {\"14\": 42, \"3\": 1, \"62\": 1, \"18\": 1, \"88\": 1, \"71\": 1, \"118\": 1}, \"36\": {\"36\": 119, \"21\": 1, \"118\": 1, \"70\": 1, \"24\": 1, \"71\": 2, \"107\": 1, \"105\": 1, \"3\": 1}, \"56\": {\"56\": 12}, \"111\": {\"111\": 127, \"24\": 1}, \"59\": {\"59\": 14, \"19\": 1, \"24\": 1}, \"79\": {\"79\": 14, \"11\": 1, \"88\": 1}, \"62\": {\"62\": 121, \"24\": 1}, \"21\": {\"21\": 46, \"24\": 1, \"40\": 1}, \"48\": {\"48\": 20}, \"16\": {\"16\": 118, \"12\": 1, \"3\": 1, \"70\": 1, \"18\": 1, \"1\": 1, \"93\": 1}, \"50\": {\"50\": 15, \"37\": 1}, \"44\": {\"44\": 95, \"98\": 1}, \"5\": {\"5\": 107, \"3\": 1, \"73\": 1, \"12\": 1}, \"20\": {\"20\": 15, \"24\": 1}, \"1\": {\"1\": 118, \"3\": 1, \"108\": 1}, \"65\": {\"65\": 18, \"84\": 1, \"71\": 1}, \"116\": {\"116\": 28}, \"51\": {\"51\": 17, \"127\": 1, \"9\": 1, \"71\": 1}, \"75\": {\"75\": 15, \"71\": 1}, \"100\": {\"100\": 16}, \"113\": {\"113\": 72}, \"41\": {\"41\": 20}, \"29\": {\"29\": 32}, \"23\": {\"23\": 42, \"122\": 1, \"110\": 1}, \"124\": {\"124\": 122, \"21\": 1, \"44\": 1}, \"68\": {\"68\": 15, \"127\": 1}, \"71\": {\"71\": 99, \"94\": 1}, \"107\": {\"107\": 54, \"90\": 1, \"15\": 1, \"109\": 1, \"70\": 1, \"16\": 1, \"26\": 1, \"3\": 1, \"91\": 1, \"10\": 1, \"82\": 1}, \"94\": {\"94\": 58, \"109\": 1, \"118\": 1, \"18\": 1, \"36\": 2, \"110\": 1}, \"77\": {\"77\": 15, \"17\": 1}, \"8\": {\"8\": 120, \"71\": 1, \"15\": 1}, \"46\": {\"46\": 16}, \"25\": {\"25\": 14, \"6\": 1, \"61\": 1}, \"122\": {\"122\": 136, \"40\": 1, \"106\": 1, \"81\": 1, \"43\": 1}, \"58\": {\"58\": 15, \"77\": 2, \"17\": 1, \"110\": 1, \"24\": 1}, \"6\": {\"6\": 32}, \"109\": {\"109\": 91, \"39\": 3, \"24\": 1, \"70\": 4, \"88\": 1}, \"119\": {\"119\": 19, \"82\": 1}, \"34\": {\"34\": 29, \"40\": 1, \"91\": 1, \"71\": 1}, \"90\": {\"90\": 139, \"6\": 1}, \"38\": {\"38\": 16}, \"104\": {\"3\": 2, \"104\": 17, \"6\": 1}, \"84\": {\"84\": 90, \"58\": 1, \"106\": 1}, \"112\": {\"112\": 16}, \"66\": {\"66\": 17, \"71\": 2, \"21\": 1}, \"22\": {\"22\": 20}, \"37\": {\"37\": 16}, \"43\": {\"43\": 117, \"0\": 1, \"1\": 1, \"71\": 1, \"84\": 1, \"105\": 1, \"3\": 1, \"70\": 1}}, \"ORACLE.run114\": {\"15\": {\"15\": 1193, \"3\": 1, \"13\": 6}, \"3\": {\"7\": 158, \"6\": 210, \"14\": 111, \"5\": 56, \"0\": 126, \"13\": 127, \"3\": 246, \"8\": 58, \"2\": 81, \"12\": 20, \"4\": 5, \"15\": 2}, \"6\": {\"0\": 89, \"6\": 331, \"14\": 122, \"13\": 254, \"7\": 78, \"3\": 201, \"4\": 5, \"2\": 60, \"5\": 34, \"12\": 8, \"15\": 12, \"8\": 6}, \"1\": {\"9\": 418, \"10\": 181, \"1\": 510, \"4\": 52, \"12\": 25, \"8\": 4, \"2\": 4, \"5\": 2, \"14\": 2, \"6\": 1, \"13\": 1}, \"8\": {\"12\": 240, \"5\": 122, \"7\": 142, \"8\": 423, \"0\": 84, \"14\": 22, \"2\": 34, \"13\": 15, \"6\": 7, \"3\": 43, \"4\": 53, \"10\": 4, \"9\": 9, \"1\": 2}, \"10\": {\"5\": 53, \"4\": 258, \"9\": 131, \"1\": 161, \"13\": 11, \"10\": 406, \"12\": 73, \"0\": 22, \"2\": 54, \"8\": 10, \"7\": 4, \"14\": 15, \"3\": 2}, \"9\": {\"9\": 452, \"10\": 160, \"1\": 410, \"4\": 79, \"12\": 72, \"8\": 9, \"2\": 6, \"14\": 1, \"5\": 6, \"0\": 4, \"3\": 1}, \"13\": {\"3\": 125, \"6\": 283, \"15\": 97, \"13\": 206, \"5\": 58, \"2\": 82, \"0\": 77, \"7\": 58, \"12\": 21, \"14\": 127, \"8\": 18, \"10\": 22, \"4\": 25, \"1\": 1}, \"12\": {\"8\": 251, \"4\": 133, \"0\": 85, \"3\": 21, \"7\": 54, \"5\": 132, \"10\": 44, \"14\": 38, \"12\": 309, \"9\": 40, \"13\": 12, \"6\": 8, \"2\": 62, \"1\": 11}, \"5\": {\"8\": 137, \"4\": 110, \"13\": 48, \"3\": 63, \"12\": 125, \"5\": 172, \"14\": 129, \"7\": 105, \"10\": 30, \"2\": 118, \"6\": 33, \"0\": 123, \"1\": 4, \"9\": 3}, \"0\": {\"5\": 107, \"8\": 95, \"14\": 120, \"12\": 86, \"13\": 80, \"7\": 136, \"3\": 144, \"2\": 114, \"6\": 98, \"4\": 53, \"0\": 146, \"10\": 17, \"1\": 2, \"9\": 1, \"15\": 1}, \"2\": {\"2\": 168, \"14\": 160, \"8\": 56, \"13\": 99, \"6\": 80, \"5\": 126, \"3\": 95, \"4\": 99, \"12\": 58, \"0\": 117, \"7\": 81, \"10\": 50, \"9\": 6, \"1\": 2, \"15\": 3}, \"11\": {\"11\": 1138, \"9\": 15, \"1\": 40, \"10\": 7}, \"14\": {\"2\": 164, \"7\": 88, \"14\": 195, \"6\": 147, \"13\": 171, \"12\": 25, \"4\": 26, \"3\": 104, \"0\": 127, \"5\": 116, \"10\": 6, \"8\": 30, \"1\": 1}, \"7\": {\"14\": 95, \"8\": 168, \"7\": 220, \"12\": 71, \"6\": 71, \"2\": 76, \"13\": 77, \"4\": 15, \"3\": 144, \"5\": 122, \"0\": 141}, \"4\": {\"9\": 73, \"2\": 98, \"10\": 211, \"14\": 43, \"5\": 116, \"4\": 286, \"1\": 70, \"12\": 147, \"13\": 31, \"8\": 57, \"0\": 42, \"7\": 15, \"3\": 8, \"6\": 3}}, \"ORACLE.run120\": {\"3\": {\"12\": 51, \"5\": 122, \"9\": 116, \"14\": 123, \"6\": 81, \"13\": 32, \"8\": 124, \"1\": 107, \"7\": 76, \"3\": 108, \"2\": 63, \"0\": 61, \"15\": 59, \"4\": 43, \"11\": 24, \"10\": 10}, \"15\": {\"1\": 109, \"4\": 78, \"2\": 122, \"3\": 61, \"8\": 34, \"15\": 130, \"13\": 155, \"7\": 95, \"9\": 93, \"5\": 70, \"14\": 35, \"10\": 51, \"12\": 102, \"6\": 55, \"0\": 8, \"11\": 2}, \"8\": {\"14\": 193, \"4\": 20, \"5\": 96, \"3\": 138, \"11\": 53, \"0\": 126, \"7\": 45, \"8\": 214, \"9\": 77, \"1\": 76, \"6\": 64, \"15\": 34, \"12\": 20, \"2\": 33, \"13\": 6, \"10\": 5}, \"4\": {\"13\": 87, \"6\": 146, \"4\": 164, \"7\": 92, \"2\": 91, \"14\": 48, \"15\": 87, \"12\": 110, \"5\": 44, \"10\": 141, \"9\": 73, \"8\": 33, \"1\": 47, \"3\": 32, \"0\": 5}, \"14\": {\"14\": 257, \"4\": 37, \"6\": 88, \"8\": 185, \"3\": 124, \"0\": 80, \"7\": 70, \"12\": 34, \"5\": 105, \"9\": 66, \"15\": 30, \"1\": 53, \"2\": 23, \"11\": 29, \"13\": 5, \"10\": 14}, \"0\": {\"5\": 74, \"3\": 75, \"9\": 36, \"0\": 324, \"11\": 325, \"15\": 10, \"8\": 166, \"1\": 35, \"6\": 15, \"14\": 112, \"2\": 6, \"7\": 15, \"13\": 3, \"4\": 2, \"12\": 2}, \"7\": {\"4\": 86, \"14\": 60, \"9\": 109, \"6\": 112, \"13\": 80, \"15\": 94, \"8\": 69, \"3\": 65, \"7\": 75, \"1\": 97, \"10\": 56, \"5\": 88, \"12\": 87, \"0\": 15, \"2\": 102, \"11\": 5}, \"6\": {\"5\": 79, \"12\": 92, \"1\": 64, \"4\": 99, \"2\": 87, \"15\": 85, \"9\": 75, \"14\": 98, \"8\": 66, \"7\": 107, \"6\": 129, \"13\": 66, \"10\": 77, \"0\": 10, \"3\": 64, \"11\": 2}, \"10\": {\"15\": 69, \"4\": 187, \"1\": 34, \"10\": 315, \"13\": 125, \"12\": 106, \"5\": 20, \"7\": 72, \"9\": 34, \"2\": 95, \"6\": 101, \"14\": 26, \"3\": 6, \"8\": 10}, \"5\": {\"15\": 79, \"5\": 110, \"2\": 68, \"14\": 94, \"9\": 122, \"8\": 99, \"12\": 58, \"13\": 26, \"0\": 64, \"4\": 53, \"1\": 137, \"3\": 113, \"7\": 88, \"6\": 63, \"11\": 21, \"10\": 5}, \"2\": {\"14\": 40, \"12\": 109, \"6\": 81, \"1\": 94, \"15\": 114, \"10\": 74, \"4\": 98, \"8\": 30, \"13\": 123, \"3\": 52, \"5\": 80, \"2\": 120, \"9\": 69, \"11\": 3, \"7\": 107, \"0\": 6}, \"12\": {\"6\": 95, \"9\": 82, \"1\": 83, \"12\": 120, \"13\": 148, \"7\": 100, \"15\": 101, \"5\": 62, \"14\": 35, \"4\": 87, \"3\": 48, \"2\": 119, \"10\": 84, \"8\": 26, \"11\": 3, \"0\": 7}, \"9\": {\"11\": 13, \"4\": 65, \"5\": 109, \"3\": 78, \"9\": 114, \"2\": 99, \"6\": 79, \"14\": 75, \"15\": 77, \"8\": 74, \"10\": 26, \"12\": 69, \"13\": 76, \"1\": 113, \"0\": 36, \"7\": 97}, \"1\": {\"12\": 71, \"8\": 90, \"10\": 16, \"5\": 112, \"4\": 55, \"9\": 121, \"14\": 85, \"15\": 90, \"3\": 89, \"1\": 114, \"0\": 29, \"6\": 66, \"11\": 14, \"2\": 104, \"7\": 85, \"13\": 59}, \"11\": {\"11\": 586, \"0\": 382, \"2\": 4, \"8\": 60, \"1\": 23, \"5\": 31, \"3\": 47, \"9\": 12, \"13\": 1, \"7\": 5, \"14\": 38, \"15\": 6, \"6\": 4, \"4\": 1}, \"13\": {\"12\": 130, \"1\": 75, \"9\": 60, \"5\": 45, \"7\": 76, \"13\": 243, \"2\": 129, \"4\": 97, \"15\": 158, \"10\": 81, \"6\": 62, \"3\": 26, \"8\": 11, \"14\": 6, \"11\": 1}}, \"ORACLE.run138\": {\"5\": {\"14\": 46, \"8\": 227, \"2\": 112, \"9\": 194, \"12\": 81, \"7\": 75, \"5\": 295, \"15\": 136, \"4\": 6, \"13\": 9, \"6\": 4, \"1\": 7, \"0\": 7, \"10\": 1}, \"8\": {\"14\": 76, \"7\": 107, \"15\": 160, \"9\": 118, \"5\": 244, \"13\": 14, \"2\": 122, \"8\": 226, \"4\": 7, \"12\": 109, \"0\": 8, \"10\": 4, \"6\": 2, \"1\": 3}, \"11\": {\"11\": 986, \"3\": 210, \"10\": 4}, \"1\": {\"1\": 576, \"6\": 500, \"15\": 111, \"12\": 8, \"5\": 2, \"8\": 2, \"9\": 1}, \"10\": {\"10\": 511, \"13\": 191, \"0\": 313, \"2\": 5, \"4\": 83, \"3\": 60, \"11\": 7, \"14\": 17, \"7\": 11, \"5\": 1, \"9\": 1}, \"15\": {\"15\": 524, \"8\": 120, \"9\": 39, \"6\": 107, \"5\": 165, \"12\": 112, \"1\": 120, \"2\": 6, \"14\": 3, \"7\": 3, \"0\": 1}, \"3\": {\"3\": 937, \"11\": 221, \"10\": 31, \"0\": 8, \"13\": 3}, \"7\": {\"2\": 249, \"14\": 252, \"5\": 45, \"7\": 261, \"4\": 76, \"13\": 63, \"9\": 112, \"0\": 40, \"8\": 78, \"12\": 14, \"10\": 10}, \"4\": {\"10\": 88, \"4\": 778, \"7\": 76, \"14\": 131, \"2\": 22, \"0\": 75, \"13\": 26, \"9\": 1, \"12\": 3}, \"14\": {\"4\": 166, \"0\": 60, \"14\": 313, \"7\": 230, \"2\": 184, \"5\": 39, \"13\": 48, \"9\": 43, \"12\": 27, \"8\": 68, \"10\": 21, \"15\": 1}, \"9\": {\"5\": 153, \"9\": 522, \"13\": 53, \"8\": 137, \"2\": 180, \"7\": 75, \"15\": 6, \"14\": 38, \"0\": 24, \"10\": 2, \"12\": 6, \"4\": 4}, \"12\": {\"12\": 835, \"5\": 84, \"8\": 116, \"4\": 11, \"15\": 80, \"14\": 35, \"7\": 27, \"9\": 5, \"2\": 7}, \"6\": {\"6\": 523, \"1\": 555, \"15\": 106, \"12\": 7, \"2\": 1, \"5\": 5, \"8\": 3}, \"2\": {\"9\": 186, \"2\": 254, \"14\": 172, \"8\": 90, \"0\": 42, \"13\": 84, \"7\": 248, \"5\": 69, \"12\": 11, \"4\": 27, \"10\": 16, \"15\": 1}, \"0\": {\"0\": 278, \"4\": 66, \"14\": 48, \"7\": 78, \"13\": 245, \"10\": 318, \"11\": 7, \"2\": 68, \"3\": 58, \"9\": 23, \"8\": 7, \"5\": 4}, \"13\": {\"13\": 413, \"10\": 212, \"7\": 53, \"14\": 40, \"2\": 76, \"0\": 302, \"3\": 16, \"4\": 40, \"9\": 42, \"8\": 4, \"5\": 2}}, \"ORACLE.run18\": {\"9\": {\"9\": 929, \"3\": 211, \"15\": 3, \"2\": 56, \"12\": 1}, \"10\": {\"1\": 128, \"13\": 182, \"4\": 62, \"8\": 48, \"7\": 167, \"5\": 192, \"10\": 153, \"2\": 2, \"6\": 150, \"11\": 79, \"15\": 7, \"12\": 8, \"14\": 22}, \"13\": {\"7\": 188, \"8\": 29, \"6\": 123, \"10\": 200, \"1\": 117, \"13\": 229, \"5\": 200, \"4\": 14, \"11\": 60, \"12\": 22, \"15\": 12, \"14\": 5, \"2\": 1}, \"0\": {\"0\": 1105, \"14\": 73, \"4\": 11, \"8\": 6, \"11\": 4, \"1\": 1}, \"1\": {\"1\": 187, \"13\": 109, \"4\": 86, \"10\": 144, \"6\": 139, \"11\": 126, \"8\": 106, \"5\": 130, \"7\": 126, \"14\": 35, \"15\": 4, \"12\": 6, \"2\": 2}, \"15\": {\"12\": 384, \"15\": 406, \"2\": 311, \"3\": 87, \"1\": 2, \"6\": 1, \"9\": 5, \"7\": 1, \"5\": 2, \"13\": 1}, \"5\": {\"1\": 139, \"11\": 86, \"13\": 180, \"5\": 179, \"8\": 40, \"10\": 160, \"7\": 166, \"12\": 43, \"4\": 47, \"6\": 123, \"15\": 12, \"14\": 21, \"2\": 4}, \"3\": {\"2\": 188, \"3\": 782, \"15\": 47, \"9\": 168, \"12\": 15}, \"6\": {\"4\": 112, \"6\": 179, \"13\": 113, \"5\": 123, \"7\": 135, \"1\": 121, \"14\": 32, \"8\": 118, \"10\": 163, \"11\": 101, \"15\": 1, \"12\": 2}, \"11\": {\"8\": 161, \"1\": 167, \"11\": 154, \"4\": 140, \"12\": 4, \"6\": 131, \"13\": 63, \"7\": 102, \"5\": 98, \"10\": 85, \"14\": 95}, \"8\": {\"7\": 56, \"4\": 192, \"10\": 57, \"8\": 261, \"11\": 199, \"6\": 78, \"14\": 156, \"1\": 132, \"5\": 42, \"12\": 1, \"13\": 24, \"0\": 1, \"15\": 1}, \"4\": {\"8\": 186, \"14\": 215, \"4\": 253, \"7\": 74, \"13\": 36, \"11\": 120, \"6\": 112, \"10\": 77, \"1\": 87, \"5\": 39, \"0\": 1}, \"12\": {\"15\": 407, \"2\": 230, \"12\": 484, \"13\": 15, \"3\": 36, \"10\": 7, \"7\": 5, \"5\": 11, \"1\": 2, \"9\": 2, \"6\": 1}, \"14\": {\"6\": 46, \"14\": 460, \"4\": 249, \"1\": 46, \"5\": 23, \"8\": 182, \"11\": 103, \"7\": 21, \"10\": 33, \"0\": 26, \"13\": 11}, \"2\": {\"15\": 269, \"2\": 455, \"12\": 187, \"9\": 49, \"3\": 221, \"5\": 4, \"13\": 8, \"1\": 1, \"7\": 3, \"10\": 3}, \"7\": {\"7\": 181, \"11\": 97, \"13\": 156, \"5\": 153, \"1\": 153, \"10\": 153, \"4\": 82, \"6\": 157, \"8\": 50, \"12\": 6, \"14\": 10, \"15\": 2}}, \"ORACLE.run150\": {\"7\": {\"4\": 393, \"6\": 44, \"7\": 425, \"5\": 161, \"9\": 63, \"3\": 24, \"12\": 29, \"15\": 55, \"11\": 6}, \"3\": {\"9\": 129, \"11\": 177, \"15\": 151, \"6\": 168, \"5\": 107, \"12\": 96, \"3\": 206, \"7\": 25, \"13\": 86, \"1\": 21, \"4\": 30, \"10\": 1, \"8\": 3}, \"8\": {\"1\": 268, \"13\": 160, \"10\": 232, \"8\": 345, \"2\": 26, \"12\": 14, \"6\": 6, \"14\": 24, \"11\": 36, \"9\": 3, \"0\": 68, \"3\": 14, \"15\": 2, \"5\": 2}, \"2\": {\"14\": 383, \"10\": 100, \"2\": 369, \"0\": 306, \"8\": 30, \"1\": 9, \"13\": 3}, \"14\": {\"0\": 293, \"14\": 377, \"2\": 371, \"13\": 3, \"10\": 121, \"1\": 9, \"8\": 26}, \"4\": {\"5\": 138, \"9\": 68, \"6\": 68, \"7\": 396, \"4\": 428, \"15\": 61, \"12\": 21, \"3\": 17, \"11\": 3}, \"6\": {\"9\": 147, \"15\": 203, \"12\": 92, \"3\": 153, \"11\": 142, \"6\": 204, \"4\": 41, \"13\": 20, \"5\": 154, \"7\": 41, \"1\": 3}, \"15\": {\"3\": 151, \"11\": 115, \"15\": 190, \"5\": 185, \"9\": 143, \"12\": 78, \"6\": 210, \"7\": 51, \"4\": 35, \"13\": 40, \"1\": 2}, \"10\": {\"8\": 222, \"1\": 151, \"14\": 95, \"0\": 177, \"2\": 95, \"10\": 391, \"13\": 60, \"3\": 2, \"12\": 1, \"11\": 5, \"5\": 1}, \"11\": {\"15\": 114, \"12\": 160, \"3\": 201, \"5\": 52, \"11\": 254, \"9\": 115, \"13\": 130, \"1\": 42, \"6\": 100, \"8\": 23, \"7\": 3, \"4\": 5, \"10\": 1}, \"13\": {\"11\": 169, \"12\": 28, \"13\": 387, \"15\": 33, \"8\": 115, \"3\": 89, \"1\": 267, \"9\": 16, \"10\": 30, \"6\": 35, \"5\": 27, \"0\": 2, \"7\": 2}, \"9\": {\"6\": 138, \"15\": 153, \"4\": 49, \"9\": 218, \"11\": 105, \"5\": 125, \"3\": 103, \"12\": 232, \"7\": 59, \"13\": 15, \"1\": 2, \"8\": 1}, \"0\": {\"0\": 309, \"10\": 221, \"14\": 267, \"2\": 274, \"8\": 85, \"1\": 35, \"12\": 1, \"13\": 8}, \"1\": {\"1\": 336, \"11\": 65, \"15\": 4, \"13\": 283, \"8\": 239, \"10\": 151, \"9\": 9, \"0\": 27, \"14\": 11, \"3\": 34, \"2\": 8, \"12\": 22, \"6\": 8, \"5\": 3}, \"12\": {\"3\": 81, \"12\": 505, \"11\": 169, \"7\": 13, \"6\": 84, \"9\": 212, \"4\": 14, \"15\": 53, \"5\": 38, \"13\": 20, \"8\": 9, \"1\": 2}, \"5\": {\"11\": 70, \"6\": 144, \"3\": 86, \"9\": 125, \"12\": 37, \"7\": 181, \"13\": 31, \"8\": 6, \"5\": 198, \"4\": 170, \"1\": 8, \"15\": 144}}, \"ORACLE.run132\": {\"8\": {\"13\": 13, \"5\": 130, \"15\": 167, \"7\": 114, \"8\": 241, \"4\": 47, \"2\": 65, \"14\": 126, \"0\": 183, \"1\": 80, \"3\": 34}, \"14\": {\"5\": 138, \"13\": 6, \"2\": 116, \"7\": 247, \"14\": 270, \"8\": 123, \"15\": 26, \"0\": 183, \"1\": 42, \"4\": 40, \"3\": 7, \"11\": 1, \"9\": 1}, \"2\": {\"3\": 81, \"2\": 326, \"1\": 148, \"7\": 34, \"4\": 233, \"13\": 83, \"8\": 80, \"0\": 57, \"14\": 100, \"15\": 8, \"9\": 24, \"5\": 17, \"11\": 9}, \"0\": {\"14\": 194, \"0\": 233, \"5\": 191, \"15\": 87, \"8\": 171, \"7\": 210, \"2\": 59, \"4\": 20, \"1\": 26, \"3\": 5, \"13\": 4}, \"1\": {\"4\": 178, \"2\": 176, \"7\": 35, \"1\": 244, \"14\": 68, \"0\": 55, \"8\": 118, \"13\": 95, \"15\": 32, \"3\": 142, \"5\": 17, \"9\": 27, \"11\": 12, \"10\": 1}, \"10\": {\"12\": 371, \"10\": 580, \"6\": 125, \"11\": 71, \"9\": 39, \"13\": 10, \"3\": 3, \"4\": 1}, \"11\": {\"9\": 261, \"10\": 43, \"3\": 72, \"11\": 462, \"4\": 30, \"12\": 175, \"13\": 123, \"1\": 14, \"8\": 1, \"2\": 13, \"6\": 6}, \"5\": {\"0\": 207, \"5\": 357, \"14\": 128, \"7\": 236, \"8\": 136, \"15\": 98, \"1\": 6, \"4\": 7, \"2\": 23, \"3\": 2}, \"15\": {\"15\": 785, \"14\": 20, \"8\": 132, \"5\": 131, \"0\": 71, \"7\": 44, \"1\": 10, \"4\": 2, \"3\": 5}, \"3\": {\"3\": 353, \"8\": 36, \"13\": 240, \"1\": 141, \"9\": 87, \"11\": 50, \"4\": 173, \"0\": 7, \"2\": 85, \"12\": 11, \"5\": 1, \"15\": 10, \"14\": 6}, \"12\": {\"9\": 163, \"11\": 229, \"10\": 244, \"12\": 426, \"13\": 75, \"3\": 23, \"6\": 24, \"1\": 6, \"4\": 9, \"2\": 1}, \"7\": {\"7\": 281, \"0\": 220, \"14\": 234, \"5\": 245, \"8\": 110, \"2\": 34, \"15\": 51, \"1\": 14, \"4\": 10, \"3\": 1}, \"13\": {\"4\": 136, \"9\": 162, \"1\": 109, \"3\": 265, \"12\": 45, \"13\": 259, \"11\": 107, \"14\": 8, \"10\": 3, \"2\": 77, \"8\": 16, \"7\": 3, \"15\": 4, \"0\": 5, \"5\": 1}, \"6\": {\"6\": 896, \"10\": 225, \"9\": 10, \"12\": 56, \"11\": 13}, \"4\": {\"3\": 188, \"7\": 10, \"2\": 214, \"9\": 59, \"1\": 168, \"4\": 262, \"13\": 129, \"8\": 51, \"0\": 31, \"14\": 48, \"11\": 24, \"12\": 3, \"5\": 9, \"15\": 4}, \"9\": {\"11\": 256, \"2\": 58, \"9\": 256, \"12\": 134, \"13\": 163, \"3\": 124, \"6\": 17, \"4\": 95, \"8\": 7, \"14\": 8, \"10\": 30, \"1\": 49, \"0\": 2, \"5\": 1}}, \"ORACLE.run126\": {\"4\": {\"4\": 645, \"7\": 54, \"13\": 156, \"3\": 170, \"12\": 68, \"9\": 58, \"8\": 33, \"2\": 13, \"0\": 3}, \"12\": {\"3\": 135, \"9\": 172, \"8\": 128, \"7\": 148, \"4\": 34, \"2\": 129, \"12\": 190, \"10\": 18, \"13\": 148, \"15\": 11, \"0\": 46, \"1\": 7, \"14\": 16, \"6\": 10, \"5\": 7, \"11\": 1}, \"10\": {\"6\": 133, \"14\": 208, \"11\": 27, \"0\": 159, \"15\": 116, \"1\": 136, \"12\": 15, \"9\": 24, \"10\": 179, \"8\": 42, \"5\": 81, \"2\": 57, \"7\": 18, \"13\": 3, \"3\": 2}, \"0\": {\"9\": 52, \"5\": 56, \"14\": 184, \"2\": 109, \"0\": 214, \"7\": 61, \"15\": 85, \"12\": 29, \"6\": 64, \"1\": 75, \"8\": 79, \"10\": 142, \"11\": 12, \"13\": 11, \"3\": 26, \"4\": 1}, \"13\": {\"3\": 185, \"12\": 157, \"4\": 106, \"13\": 336, \"9\": 140, \"2\": 75, \"7\": 90, \"8\": 81, \"14\": 3, \"10\": 7, \"0\": 11, \"6\": 1, \"15\": 5, \"5\": 3}, \"9\": {\"12\": 154, \"14\": 20, \"9\": 175, \"13\": 142, \"0\": 65, \"7\": 132, \"4\": 42, \"6\": 14, \"8\": 121, \"2\": 138, \"3\": 131, \"15\": 15, \"5\": 11, \"1\": 6, \"10\": 30, \"11\": 4}, \"3\": {\"13\": 166, \"3\": 208, \"12\": 167, \"9\": 139, \"2\": 88, \"7\": 164, \"8\": 123, \"4\": 105, \"0\": 17, \"15\": 7, \"14\": 5, \"10\": 6, \"6\": 2, \"5\": 2, \"1\": 1}, \"2\": {\"9\": 151, \"2\": 166, \"8\": 152, \"1\": 14, \"3\": 81, \"0\": 96, \"7\": 144, \"15\": 39, \"14\": 52, \"13\": 69, \"12\": 105, \"6\": 25, \"11\": 5, \"10\": 57, \"4\": 16, \"5\": 28}, \"5\": {\"11\": 223, \"14\": 70, \"1\": 119, \"15\": 190, \"6\": 188, \"0\": 35, \"5\": 255, \"8\": 6, \"10\": 84, \"9\": 6, \"7\": 2, \"2\": 18, \"12\": 3, \"13\": 1}, \"14\": {\"6\": 119, \"14\": 234, \"0\": 169, \"1\": 171, \"5\": 84, \"2\": 43, \"10\": 184, \"15\": 104, \"12\": 9, \"8\": 32, \"7\": 16, \"11\": 19, \"3\": 3, \"9\": 11, \"13\": 2}, \"8\": {\"7\": 134, \"8\": 178, \"12\": 145, \"9\": 127, \"13\": 77, \"6\": 16, \"5\": 16, \"1\": 6, \"3\": 126, \"10\": 36, \"2\": 153, \"0\": 96, \"14\": 51, \"4\": 15, \"15\": 21, \"11\": 3}, \"7\": {\"7\": 187, \"13\": 96, \"8\": 166, \"3\": 142, \"2\": 131, \"0\": 67, \"9\": 144, \"12\": 154, \"14\": 23, \"4\": 36, \"1\": 5, \"6\": 11, \"10\": 22, \"5\": 4, \"15\": 11, \"11\": 1}, \"6\": {\"6\": 200, \"15\": 168, \"11\": 131, \"1\": 165, \"8\": 9, \"0\": 73, \"14\": 127, \"10\": 119, \"5\": 186, \"9\": 4, \"2\": 14, \"7\": 2, \"12\": 1, \"13\": 1}, \"11\": {\"11\": 500, \"6\": 140, \"5\": 238, \"1\": 98, \"10\": 33, \"15\": 135, \"0\": 13, \"14\": 26, \"9\": 3, \"2\": 10, \"8\": 1, \"12\": 1, \"13\": 2}, \"15\": {\"0\": 71, \"8\": 13, \"11\": 121, \"14\": 112, \"5\": 187, \"10\": 134, \"2\": 39, \"6\": 168, \"15\": 201, \"1\": 122, \"9\": 13, \"12\": 6, \"13\": 7, \"7\": 5, \"3\": 1}, \"1\": {\"1\": 299, \"6\": 182, \"5\": 120, \"11\": 76, \"14\": 184, \"15\": 125, \"0\": 77, \"10\": 118, \"8\": 8, \"7\": 4, \"2\": 3, \"9\": 2, \"12\": 2}}, \"ORACLE.run144\": {\"12\": {\"3\": 491, \"12\": 594, \"0\": 55, \"1\": 27, \"2\": 22, \"8\": 10, \"15\": 1}, \"7\": {\"7\": 215, \"9\": 179, \"10\": 192, \"4\": 168, \"5\": 109, \"14\": 102, \"6\": 92, \"2\": 42, \"1\": 17, \"13\": 50, \"15\": 31, \"8\": 3}, \"5\": {\"7\": 107, \"10\": 117, \"14\": 157, \"5\": 156, \"8\": 76, \"4\": 150, \"0\": 11, \"2\": 99, \"15\": 157, \"9\": 73, \"1\": 53, \"13\": 14, \"6\": 29, \"12\": 1}, \"15\": {\"14\": 147, \"2\": 68, \"15\": 292, \"8\": 191, \"4\": 93, \"5\": 134, \"1\": 90, \"10\": 50, \"0\": 79, \"3\": 3, \"9\": 15, \"7\": 34, \"12\": 1, \"13\": 1, \"6\": 2}, \"8\": {\"0\": 232, \"8\": 342, \"4\": 35, \"2\": 54, \"15\": 187, \"12\": 9, \"5\": 57, \"14\": 64, \"1\": 158, \"7\": 9, \"3\": 19, \"10\": 25, \"9\": 8, \"13\": 1}, \"2\": {\"1\": 217, \"14\": 83, \"10\": 77, \"3\": 2, \"4\": 44, \"2\": 439, \"6\": 4, \"8\": 62, \"7\": 69, \"0\": 40, \"5\": 72, \"9\": 33, \"15\": 56, \"12\": 2}, \"13\": {\"13\": 493, \"6\": 366, \"9\": 125, \"7\": 43, \"10\": 25, \"11\": 102, \"4\": 34, \"5\": 8, \"15\": 1, \"14\": 3}, \"4\": {\"7\": 132, \"9\": 98, \"5\": 126, \"8\": 38, \"14\": 141, \"6\": 73, \"1\": 47, \"10\": 134, \"2\": 84, \"4\": 176, \"13\": 55, \"15\": 84, \"0\": 10, \"11\": 2}, \"0\": {\"1\": 211, \"8\": 263, \"15\": 88, \"0\": 371, \"2\": 77, \"3\": 84, \"7\": 6, \"12\": 37, \"5\": 28, \"4\": 11, \"14\": 17, \"10\": 6, \"9\": 1}, \"6\": {\"6\": 413, \"9\": 163, \"7\": 99, \"4\": 34, \"10\": 64, \"13\": 359, \"15\": 3, \"11\": 32, \"5\": 21, \"14\": 10, \"2\": 2}, \"9\": {\"7\": 159, \"4\": 102, \"10\": 146, \"6\": 204, \"5\": 65, \"14\": 88, \"1\": 14, \"9\": 161, \"13\": 145, \"15\": 27, \"2\": 55, \"8\": 8, \"11\": 26}, \"11\": {\"11\": 1076, \"9\": 1, \"6\": 21, \"13\": 102}, \"10\": {\"7\": 210, \"9\": 142, \"5\": 118, \"2\": 84, \"10\": 205, \"4\": 145, \"14\": 107, \"1\": 25, \"8\": 16, \"6\": 66, \"0\": 9, \"15\": 41, \"13\": 32}, \"14\": {\"14\": 218, \"9\": 85, \"2\": 70, \"8\": 49, \"10\": 140, \"7\": 115, \"5\": 158, \"15\": 141, \"1\": 40, \"4\": 148, \"6\": 23, \"13\": 8, \"0\": 5}, \"1\": {\"8\": 148, \"2\": 272, \"0\": 168, \"1\": 293, \"5\": 71, \"3\": 22, \"14\": 44, \"4\": 31, \"15\": 86, \"10\": 39, \"12\": 11, \"7\": 8, \"9\": 6, \"6\": 1}, \"3\": {\"0\": 105, \"3\": 508, \"1\": 29, \"12\": 509, \"2\": 15, \"8\": 29, \"15\": 4, \"5\": 1}}}, \"per_domain_accuracy\": {\"Wisig_3\": {\"accuracy\": 0.9780701754385965, \"source?\": true}, \"Wisig_4\": {\"accuracy\": 0.9661779835390947, \"source?\": true}, \"Wisig_1\": {\"accuracy\": 0.9799202127659574, \"source?\": true}, \"Wisig_2\": {\"accuracy\": 0.9574579831932774, \"source?\": true}, \"ORACLE.run114\": {\"accuracy\": 0.33338541666666666, \"source?\": false}, \"ORACLE.run120\": {\"accuracy\": 0.16265625, \"source?\": false}, \"ORACLE.run138\": {\"accuracy\": 0.42875, \"source?\": false}, \"ORACLE.run18\": {\"accuracy\": 0.33317708333333335, \"source?\": false}, \"ORACLE.run150\": {\"accuracy\": 0.2678125, \"source?\": false}, \"ORACLE.run132\": {\"accuracy\": 0.32453125, \"source?\": false}, \"ORACLE.run126\": {\"accuracy\": 0.21703125, \"source?\": false}, \"ORACLE.run144\": {\"accuracy\": 0.31, \"source?\": false}}}, \"history\": {\"epoch_indices\": [1, 2, 3, 4, 5, 6], \"train_label_loss\": [0.19309605404531419, 0.1356143972618903, 0.11446123216719815, 0.10256876093561774, 0.09493157288166856, 0.08943315478567912], \"source_val_label_loss\": [0.21337144076824188, 0.12791801989078522, 0.1165151447057724, 0.11766045540571213, 0.11247948557138443, 0.1070123240351677], \"target_val_label_loss\": [2.5292465686798096, 2.4858286380767822, 2.4533774852752686, 2.5372869968414307, 2.5493109226226807, 2.4463486671447754], \"source_val_acc_label\": [0.9558395127118644, 0.9702727754237288, 0.972854872881356, 0.9730865995762712, 0.9732521186440678, 0.9739804025423728], \"target_val_acc_label\": [0.24212890625, 0.29716796875, 0.28030598958333336, 0.21731770833333333, 0.206328125, 0.23390625]}, \"dataset_metrics\": {\"source\": {\"train\": {\"n_unique_x\": 188978, \"n_unique_y\": 130, \"n_batch/episode\": 6831}, \"val\": {\"n_unique_x\": 40068, \"n_unique_y\": 130, \"n_batch/episode\": 944}, \"test\": {\"n_unique_x\": 40816, \"n_unique_y\": 130, \"n_batch/episode\": 969}}, \"target\": {\"train\": {\"n_unique_x\": 896000, \"n_unique_y\": 16, \"n_batch/episode\": 33600}, \"val\": {\"n_unique_x\": 192000, \"n_unique_y\": 16, \"n_batch/episode\": 4800}, \"test\": {\"n_unique_x\": 192000, \"n_unique_y\": 16, \"n_batch/episode\": 4800}}}}'"
      ]
     },
     "execution_count": 29,
     "metadata": {},
     "output_type": "execute_result"
    }
   ],
   "source": [
    "json.dumps(experiment)"
   ]
  }
 ],
 "metadata": {
  "celltoolbar": "Tags",
  "kernelspec": {
   "display_name": "Python 3 (ipykernel)",
   "language": "python",
   "name": "python3"
  },
  "language_info": {
   "codemirror_mode": {
    "name": "ipython",
    "version": 3
   },
   "file_extension": ".py",
   "mimetype": "text/x-python",
   "name": "python",
   "nbconvert_exporter": "python",
   "pygments_lexer": "ipython3",
   "version": "3.8.12"
  },
  "papermill": {
   "default_parameters": {},
   "duration": 2341.956993,
   "end_time": "2022-03-23T04:58:33.431599",
   "environment_variables": {},
   "exception": null,
   "input_path": "/root/csc500-main/csc500-notebooks/templates/tl_ptn_template.ipynb",
   "output_path": "trial.ipynb",
   "parameters": {
    "parameters": {
     "BEST_MODEL_PATH": "./best_model.pth",
     "NUM_LOGS_PER_EPOCH": 10,
     "criteria_for_best": "target_accuracy",
     "dataset_seed": 1337,
     "datasets": [
      {
       "domain_prefix": "Wisig_",
       "domains": [
        1,
        2,
        3,
        4
       ],
       "episode_transforms": [],
       "labels": [
        "1-10",
        "1-12",
        "1-14",
        "1-16",
        "1-18",
        "1-19",
        "1-8",
        "10-11",
        "10-17",
        "10-4",
        "10-7",
        "11-1",
        "11-10",
        "11-19",
        "11-20",
        "11-4",
        "11-7",
        "12-19",
        "12-20",
        "12-7",
        "13-14",
        "13-18",
        "13-19",
        "13-20",
        "13-3",
        "13-7",
        "14-10",
        "14-11",
        "14-12",
        "14-13",
        "14-14",
        "14-19",
        "14-20",
        "14-7",
        "14-8",
        "14-9",
        "15-1",
        "15-19",
        "15-6",
        "16-1",
        "16-16",
        "16-19",
        "16-20",
        "17-10",
        "17-11",
        "18-1",
        "18-10",
        "18-11",
        "18-12",
        "18-13",
        "18-14",
        "18-15",
        "18-16",
        "18-17",
        "18-19",
        "18-2",
        "18-20",
        "18-4",
        "18-5",
        "18-7",
        "18-8",
        "18-9",
        "19-1",
        "19-10",
        "19-11",
        "19-12",
        "19-13",
        "19-14",
        "19-15",
        "19-19",
        "19-2",
        "19-20",
        "19-3",
        "19-4",
        "19-6",
        "19-7",
        "19-8",
        "19-9",
        "2-1",
        "2-13",
        "2-15",
        "2-3",
        "2-4",
        "2-5",
        "2-6",
        "2-7",
        "2-8",
        "20-1",
        "20-12",
        "20-14",
        "20-15",
        "20-16",
        "20-18",
        "20-19",
        "20-20",
        "20-3",
        "20-4",
        "20-5",
        "20-7",
        "20-8",
        "3-1",
        "3-13",
        "3-18",
        "3-2",
        "3-8",
        "4-1",
        "4-10",
        "4-11",
        "5-1",
        "5-5",
        "6-1",
        "6-15",
        "6-6",
        "7-10",
        "7-11",
        "7-12",
        "7-13",
        "7-14",
        "7-7",
        "7-8",
        "7-9",
        "8-1",
        "8-13",
        "8-14",
        "8-18",
        "8-20",
        "8-3",
        "8-8",
        "9-1",
        "9-7"
       ],
       "num_examples_per_domain_per_label": -1,
       "pickle_path": "/root/csc500-main/datasets/wisig.node3-19.stratified_ds.2022A.pkl",
       "source_or_target_dataset": "source",
       "x_transforms": []
      },
      {
       "domain_prefix": "ORACLE.run1",
       "domains": [
        32,
        38,
        8,
        44,
        14,
        50,
        20,
        26
       ],
       "episode_transforms": [],
       "labels": [
        "3123D52",
        "3123D65",
        "3123D79",
        "3123D80",
        "3123D54",
        "3123D70",
        "3123D7B",
        "3123D89",
        "3123D58",
        "3123D76",
        "3123D7D",
        "3123EFE",
        "3123D64",
        "3123D78",
        "3123D7E",
        "3124E4A"
       ],
       "num_examples_per_domain_per_label": 10000,
       "pickle_path": "/root/csc500-main/datasets/oracle.Run1_10kExamples_stratified_ds.2022A.pkl",
       "source_or_target_dataset": "target",
       "x_transforms": []
      }
     ],
     "device": "cuda",
     "experiment_name": "tl_1v2:wisig-oracle.run1",
     "lr": 0.0001,
     "n_epoch": 50,
     "n_query": 2,
     "n_shot": 3,
     "n_way": 16,
     "patience": 3,
     "seed": 1337,
     "test_k_factor": 2,
     "torch_default_dtype": "torch.float32",
     "train_k_factor": 3,
     "val_k_factor": 2,
     "x_net": [
      {
       "class": "nnReshape",
       "kargs": {
        "shape": [
         -1,
         1,
         2,
         256
        ]
       }
      },
      {
       "class": "Conv2d",
       "kargs": {
        "bias": false,
        "in_channels": 1,
        "kernel_size": [
         1,
         7
        ],
        "out_channels": 256,
        "padding": [
         0,
         3
        ]
       }
      },
      {
       "class": "ReLU",
       "kargs": {
        "inplace": true
       }
      },
      {
       "class": "BatchNorm2d",
       "kargs": {
        "num_features": 256
       }
      },
      {
       "class": "Conv2d",
       "kargs": {
        "bias": true,
        "in_channels": 256,
        "kernel_size": [
         2,
         7
        ],
        "out_channels": 80,
        "padding": [
         0,
         3
        ]
       }
      },
      {
       "class": "ReLU",
       "kargs": {
        "inplace": true
       }
      },
      {
       "class": "BatchNorm2d",
       "kargs": {
        "num_features": 80
       }
      },
      {
       "class": "Flatten",
       "kargs": {}
      },
      {
       "class": "Linear",
       "kargs": {
        "in_features": 20480,
        "out_features": 256
       }
      },
      {
       "class": "ReLU",
       "kargs": {
        "inplace": true
       }
      },
      {
       "class": "BatchNorm1d",
       "kargs": {
        "num_features": 256
       }
      },
      {
       "class": "Linear",
       "kargs": {
        "in_features": 256,
        "out_features": 256
       }
      }
     ]
    }
   },
   "start_time": "2022-03-23T04:19:31.474606",
   "version": "2.3.4"
  }
 },
 "nbformat": 4,
 "nbformat_minor": 5
}