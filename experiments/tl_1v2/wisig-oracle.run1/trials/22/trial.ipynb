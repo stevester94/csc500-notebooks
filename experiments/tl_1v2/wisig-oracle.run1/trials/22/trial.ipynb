{
 "cells": [
  {
   "cell_type": "markdown",
   "id": "9fea5f46",
   "metadata": {
    "papermill": {
     "duration": 0.024911,
     "end_time": "2022-03-24T03:58:11.832107",
     "exception": false,
     "start_time": "2022-03-24T03:58:11.807196",
     "status": "completed"
    },
    "tags": []
   },
   "source": [
    "# Transfer Learning Template"
   ]
  },
  {
   "cell_type": "code",
   "execution_count": 1,
   "id": "0902182a",
   "metadata": {
    "execution": {
     "iopub.execute_input": "2022-03-24T03:58:11.893117Z",
     "iopub.status.busy": "2022-03-24T03:58:11.892273Z",
     "iopub.status.idle": "2022-03-24T03:58:14.461585Z",
     "shell.execute_reply": "2022-03-24T03:58:14.460730Z"
    },
    "papermill": {
     "duration": 2.609753,
     "end_time": "2022-03-24T03:58:14.461780",
     "exception": false,
     "start_time": "2022-03-24T03:58:11.852027",
     "status": "completed"
    },
    "tags": []
   },
   "outputs": [],
   "source": [
    "%load_ext autoreload\n",
    "%autoreload 2\n",
    "%matplotlib inline\n",
    "\n",
    "    \n",
    "import os, json, sys, time, random\n",
    "import numpy as np\n",
    "import torch\n",
    "from torch.optim import Adam\n",
    "from  easydict import EasyDict\n",
    "import matplotlib.pyplot as plt\n",
    "\n",
    "from steves_models.steves_ptn import Steves_Prototypical_Network\n",
    "\n",
    "from steves_utils.lazy_iterable_wrapper import Lazy_Iterable_Wrapper\n",
    "from steves_utils.iterable_aggregator import Iterable_Aggregator\n",
    "from steves_utils.ptn_train_eval_test_jig import  PTN_Train_Eval_Test_Jig\n",
    "from steves_utils.torch_sequential_builder import build_sequential\n",
    "from steves_utils.torch_utils import get_dataset_metrics, ptn_confusion_by_domain_over_dataloader\n",
    "from steves_utils.utils_v2 import (per_domain_accuracy_from_confusion, get_datasets_base_path)\n",
    "from steves_utils.PTN.utils import independent_accuracy_assesment\n",
    "\n",
    "from torch.utils.data import DataLoader\n",
    "\n",
    "from steves_utils.stratified_dataset.episodic_accessor import Episodic_Accessor_Factory\n",
    "\n",
    "from steves_utils.ptn_do_report import (\n",
    "    get_loss_curve,\n",
    "    get_results_table,\n",
    "    get_parameters_table,\n",
    "    get_domain_accuracies,\n",
    ")\n",
    "\n",
    "from steves_utils.transforms import get_chained_transform"
   ]
  },
  {
   "cell_type": "markdown",
   "id": "41c840b4",
   "metadata": {
    "papermill": {
     "duration": 0.019542,
     "end_time": "2022-03-24T03:58:14.504993",
     "exception": false,
     "start_time": "2022-03-24T03:58:14.485451",
     "status": "completed"
    },
    "tags": []
   },
   "source": [
    "# Allowed Parameters\n",
    "These are allowed parameters, not defaults\n",
    "Each of these values need to be present in the injected parameters (the notebook will raise an exception if they are not present)\n",
    "\n",
    "Papermill uses the cell tag \"parameters\" to inject the real parameters below this cell.\n",
    "Enable tags to see what I mean"
   ]
  },
  {
   "cell_type": "code",
   "execution_count": 2,
   "id": "fd44eb83",
   "metadata": {
    "execution": {
     "iopub.execute_input": "2022-03-24T03:58:14.548841Z",
     "iopub.status.busy": "2022-03-24T03:58:14.548464Z",
     "iopub.status.idle": "2022-03-24T03:58:14.574069Z",
     "shell.execute_reply": "2022-03-24T03:58:14.573367Z"
    },
    "papermill": {
     "duration": 0.049781,
     "end_time": "2022-03-24T03:58:14.574222",
     "exception": false,
     "start_time": "2022-03-24T03:58:14.524441",
     "status": "completed"
    },
    "tags": []
   },
   "outputs": [],
   "source": [
    "required_parameters = {\n",
    "    \"experiment_name\",\n",
    "    \"lr\",\n",
    "    \"device\",\n",
    "    \"seed\",\n",
    "    \"dataset_seed\",\n",
    "    \"n_shot\",\n",
    "    \"n_query\",\n",
    "    \"n_way\",\n",
    "    \"train_k_factor\",\n",
    "    \"val_k_factor\",\n",
    "    \"test_k_factor\",\n",
    "    \"n_epoch\",\n",
    "    \"patience\",\n",
    "    \"criteria_for_best\",\n",
    "    \"x_net\",\n",
    "    \"datasets\",\n",
    "    \"torch_default_dtype\",\n",
    "    \"NUM_LOGS_PER_EPOCH\",\n",
    "    \"BEST_MODEL_PATH\",\n",
    "    \"x_shape\",\n",
    "}"
   ]
  },
  {
   "cell_type": "code",
   "execution_count": 3,
   "id": "fa3f0049",
   "metadata": {
    "execution": {
     "iopub.execute_input": "2022-03-24T03:58:14.629011Z",
     "iopub.status.busy": "2022-03-24T03:58:14.628390Z",
     "iopub.status.idle": "2022-03-24T03:58:14.650972Z",
     "shell.execute_reply": "2022-03-24T03:58:14.650271Z"
    },
    "papermill": {
     "duration": 0.051651,
     "end_time": "2022-03-24T03:58:14.651125",
     "exception": false,
     "start_time": "2022-03-24T03:58:14.599474",
     "status": "completed"
    },
    "tags": [
     "parameters"
    ]
   },
   "outputs": [],
   "source": [
    "from steves_utils.CORES.utils import (\n",
    "    ALL_NODES,\n",
    "    ALL_NODES_MINIMUM_1000_EXAMPLES,\n",
    "    ALL_DAYS\n",
    ")\n",
    "\n",
    "from steves_utils.ORACLE.utils_v2 import (\n",
    "    ALL_DISTANCES_FEET_NARROWED,\n",
    "    ALL_RUNS,\n",
    "    ALL_SERIAL_NUMBERS,\n",
    ")\n",
    "\n",
    "standalone_parameters = {}\n",
    "standalone_parameters[\"experiment_name\"] = \"STANDALONE PTN\"\n",
    "standalone_parameters[\"lr\"] = 0.001\n",
    "standalone_parameters[\"device\"] = \"cuda\"\n",
    "\n",
    "standalone_parameters[\"seed\"] = 1337\n",
    "standalone_parameters[\"dataset_seed\"] = 1337\n",
    "\n",
    "standalone_parameters[\"n_way\"] = 8\n",
    "standalone_parameters[\"n_shot\"] = 3\n",
    "standalone_parameters[\"n_query\"]  = 2\n",
    "standalone_parameters[\"train_k_factor\"] = 1\n",
    "standalone_parameters[\"val_k_factor\"] = 2\n",
    "standalone_parameters[\"test_k_factor\"] = 2\n",
    "\n",
    "\n",
    "standalone_parameters[\"n_epoch\"] = 50\n",
    "\n",
    "standalone_parameters[\"patience\"] = 10\n",
    "standalone_parameters[\"criteria_for_best\"] = \"source_loss\"\n",
    "\n",
    "standalone_parameters[\"datasets\"] = [\n",
    "    {\n",
    "        \"labels\": ALL_SERIAL_NUMBERS,\n",
    "        \"domains\": ALL_DISTANCES_FEET_NARROWED,\n",
    "        \"num_examples_per_domain_per_label\": 100,\n",
    "        \"pickle_path\": os.path.join(get_datasets_base_path(), \"oracle.Run1_framed_2000Examples_stratified_ds.2022A.pkl\"),\n",
    "        \"source_or_target_dataset\": \"source\",\n",
    "        \"x_transforms\": [\"unit_mag\", \"minus_two\"],\n",
    "        \"episode_transforms\": [],\n",
    "        \"domain_prefix\": \"ORACLE_\"\n",
    "    },\n",
    "    {\n",
    "        \"labels\": ALL_NODES,\n",
    "        \"domains\": ALL_DAYS,\n",
    "        \"num_examples_per_domain_per_label\": 100,\n",
    "        \"pickle_path\": os.path.join(get_datasets_base_path(), \"cores.stratified_ds.2022A.pkl\"),\n",
    "        \"source_or_target_dataset\": \"target\",\n",
    "        \"x_transforms\": [\"unit_power\", \"times_zero\"],\n",
    "        \"episode_transforms\": [],\n",
    "        \"domain_prefix\": \"CORES_\"\n",
    "    }   \n",
    "]\n",
    "\n",
    "standalone_parameters[\"torch_default_dtype\"] = \"torch.float32\" \n",
    "\n",
    "\n",
    "\n",
    "standalone_parameters[\"x_net\"] =     [\n",
    "    {\"class\": \"nnReshape\", \"kargs\": {\"shape\":[-1, 1, 2, 256]}},\n",
    "    {\"class\": \"Conv2d\", \"kargs\": { \"in_channels\":1, \"out_channels\":256, \"kernel_size\":(1,7), \"bias\":False, \"padding\":(0,3), },},\n",
    "    {\"class\": \"ReLU\", \"kargs\": {\"inplace\": True}},\n",
    "    {\"class\": \"BatchNorm2d\", \"kargs\": {\"num_features\":256}},\n",
    "\n",
    "    {\"class\": \"Conv2d\", \"kargs\": { \"in_channels\":256, \"out_channels\":80, \"kernel_size\":(2,7), \"bias\":True, \"padding\":(0,3), },},\n",
    "    {\"class\": \"ReLU\", \"kargs\": {\"inplace\": True}},\n",
    "    {\"class\": \"BatchNorm2d\", \"kargs\": {\"num_features\":80}},\n",
    "    {\"class\": \"Flatten\", \"kargs\": {}},\n",
    "\n",
    "    {\"class\": \"Linear\", \"kargs\": {\"in_features\": 80*256, \"out_features\": 256}}, # 80 units per IQ pair\n",
    "    {\"class\": \"ReLU\", \"kargs\": {\"inplace\": True}},\n",
    "    {\"class\": \"BatchNorm1d\", \"kargs\": {\"num_features\":256}},\n",
    "\n",
    "    {\"class\": \"Linear\", \"kargs\": {\"in_features\": 256, \"out_features\": 256}},\n",
    "]\n",
    "\n",
    "# Parameters relevant to results\n",
    "# These parameters will basically never need to change\n",
    "standalone_parameters[\"NUM_LOGS_PER_EPOCH\"] = 10\n",
    "standalone_parameters[\"BEST_MODEL_PATH\"] = \"./best_model.pth\"\n",
    "\n",
    "\n",
    "\n",
    "\n"
   ]
  },
  {
   "cell_type": "code",
   "execution_count": 4,
   "id": "788d0e61",
   "metadata": {
    "execution": {
     "iopub.execute_input": "2022-03-24T03:58:14.714998Z",
     "iopub.status.busy": "2022-03-24T03:58:14.700523Z",
     "iopub.status.idle": "2022-03-24T03:58:14.736126Z",
     "shell.execute_reply": "2022-03-24T03:58:14.735291Z"
    },
    "papermill": {
     "duration": 0.058291,
     "end_time": "2022-03-24T03:58:14.736278",
     "exception": false,
     "start_time": "2022-03-24T03:58:14.677987",
     "status": "completed"
    },
    "tags": [
     "injected-parameters"
    ]
   },
   "outputs": [],
   "source": [
    "# Parameters\n",
    "parameters = {\n",
    "    \"experiment_name\": \"tl_1v2:wisig-oracle.run1\",\n",
    "    \"device\": \"cuda\",\n",
    "    \"lr\": 0.0001,\n",
    "    \"n_shot\": 3,\n",
    "    \"n_query\": 2,\n",
    "    \"train_k_factor\": 3,\n",
    "    \"val_k_factor\": 2,\n",
    "    \"test_k_factor\": 2,\n",
    "    \"torch_default_dtype\": \"torch.float32\",\n",
    "    \"n_epoch\": 50,\n",
    "    \"patience\": 3,\n",
    "    \"criteria_for_best\": \"target_accuracy\",\n",
    "    \"x_net\": [\n",
    "        {\"class\": \"nnReshape\", \"kargs\": {\"shape\": [-1, 1, 2, 256]}},\n",
    "        {\n",
    "            \"class\": \"Conv2d\",\n",
    "            \"kargs\": {\n",
    "                \"in_channels\": 1,\n",
    "                \"out_channels\": 256,\n",
    "                \"kernel_size\": [1, 7],\n",
    "                \"bias\": False,\n",
    "                \"padding\": [0, 3],\n",
    "            },\n",
    "        },\n",
    "        {\"class\": \"ReLU\", \"kargs\": {\"inplace\": True}},\n",
    "        {\"class\": \"BatchNorm2d\", \"kargs\": {\"num_features\": 256}},\n",
    "        {\n",
    "            \"class\": \"Conv2d\",\n",
    "            \"kargs\": {\n",
    "                \"in_channels\": 256,\n",
    "                \"out_channels\": 80,\n",
    "                \"kernel_size\": [2, 7],\n",
    "                \"bias\": True,\n",
    "                \"padding\": [0, 3],\n",
    "            },\n",
    "        },\n",
    "        {\"class\": \"ReLU\", \"kargs\": {\"inplace\": True}},\n",
    "        {\"class\": \"BatchNorm2d\", \"kargs\": {\"num_features\": 80}},\n",
    "        {\"class\": \"Flatten\", \"kargs\": {}},\n",
    "        {\"class\": \"Linear\", \"kargs\": {\"in_features\": 20480, \"out_features\": 256}},\n",
    "        {\"class\": \"ReLU\", \"kargs\": {\"inplace\": True}},\n",
    "        {\"class\": \"BatchNorm1d\", \"kargs\": {\"num_features\": 256}},\n",
    "        {\"class\": \"Linear\", \"kargs\": {\"in_features\": 256, \"out_features\": 256}},\n",
    "    ],\n",
    "    \"NUM_LOGS_PER_EPOCH\": 10,\n",
    "    \"BEST_MODEL_PATH\": \"./best_model.pth\",\n",
    "    \"n_way\": 16,\n",
    "    \"datasets\": [\n",
    "        {\n",
    "            \"labels\": [\n",
    "                \"1-10\",\n",
    "                \"1-12\",\n",
    "                \"1-14\",\n",
    "                \"1-16\",\n",
    "                \"1-18\",\n",
    "                \"1-19\",\n",
    "                \"1-8\",\n",
    "                \"10-11\",\n",
    "                \"10-17\",\n",
    "                \"10-4\",\n",
    "                \"10-7\",\n",
    "                \"11-1\",\n",
    "                \"11-10\",\n",
    "                \"11-19\",\n",
    "                \"11-20\",\n",
    "                \"11-4\",\n",
    "                \"11-7\",\n",
    "                \"12-19\",\n",
    "                \"12-20\",\n",
    "                \"12-7\",\n",
    "                \"13-14\",\n",
    "                \"13-18\",\n",
    "                \"13-19\",\n",
    "                \"13-20\",\n",
    "                \"13-3\",\n",
    "                \"13-7\",\n",
    "                \"14-10\",\n",
    "                \"14-11\",\n",
    "                \"14-12\",\n",
    "                \"14-13\",\n",
    "                \"14-14\",\n",
    "                \"14-19\",\n",
    "                \"14-20\",\n",
    "                \"14-7\",\n",
    "                \"14-8\",\n",
    "                \"14-9\",\n",
    "                \"15-1\",\n",
    "                \"15-19\",\n",
    "                \"15-6\",\n",
    "                \"16-1\",\n",
    "                \"16-16\",\n",
    "                \"16-19\",\n",
    "                \"16-20\",\n",
    "                \"17-10\",\n",
    "                \"17-11\",\n",
    "                \"18-1\",\n",
    "                \"18-10\",\n",
    "                \"18-11\",\n",
    "                \"18-12\",\n",
    "                \"18-13\",\n",
    "                \"18-14\",\n",
    "                \"18-15\",\n",
    "                \"18-16\",\n",
    "                \"18-17\",\n",
    "                \"18-19\",\n",
    "                \"18-2\",\n",
    "                \"18-20\",\n",
    "                \"18-4\",\n",
    "                \"18-5\",\n",
    "                \"18-7\",\n",
    "                \"18-8\",\n",
    "                \"18-9\",\n",
    "                \"19-1\",\n",
    "                \"19-10\",\n",
    "                \"19-11\",\n",
    "                \"19-12\",\n",
    "                \"19-13\",\n",
    "                \"19-14\",\n",
    "                \"19-15\",\n",
    "                \"19-19\",\n",
    "                \"19-2\",\n",
    "                \"19-20\",\n",
    "                \"19-3\",\n",
    "                \"19-4\",\n",
    "                \"19-6\",\n",
    "                \"19-7\",\n",
    "                \"19-8\",\n",
    "                \"19-9\",\n",
    "                \"2-1\",\n",
    "                \"2-13\",\n",
    "                \"2-15\",\n",
    "                \"2-3\",\n",
    "                \"2-4\",\n",
    "                \"2-5\",\n",
    "                \"2-6\",\n",
    "                \"2-7\",\n",
    "                \"2-8\",\n",
    "                \"20-1\",\n",
    "                \"20-12\",\n",
    "                \"20-14\",\n",
    "                \"20-15\",\n",
    "                \"20-16\",\n",
    "                \"20-18\",\n",
    "                \"20-19\",\n",
    "                \"20-20\",\n",
    "                \"20-3\",\n",
    "                \"20-4\",\n",
    "                \"20-5\",\n",
    "                \"20-7\",\n",
    "                \"20-8\",\n",
    "                \"3-1\",\n",
    "                \"3-13\",\n",
    "                \"3-18\",\n",
    "                \"3-2\",\n",
    "                \"3-8\",\n",
    "                \"4-1\",\n",
    "                \"4-10\",\n",
    "                \"4-11\",\n",
    "                \"5-1\",\n",
    "                \"5-5\",\n",
    "                \"6-1\",\n",
    "                \"6-15\",\n",
    "                \"6-6\",\n",
    "                \"7-10\",\n",
    "                \"7-11\",\n",
    "                \"7-12\",\n",
    "                \"7-13\",\n",
    "                \"7-14\",\n",
    "                \"7-7\",\n",
    "                \"7-8\",\n",
    "                \"7-9\",\n",
    "                \"8-1\",\n",
    "                \"8-13\",\n",
    "                \"8-14\",\n",
    "                \"8-18\",\n",
    "                \"8-20\",\n",
    "                \"8-3\",\n",
    "                \"8-8\",\n",
    "                \"9-1\",\n",
    "                \"9-7\",\n",
    "            ],\n",
    "            \"domains\": [1, 2, 3, 4],\n",
    "            \"num_examples_per_domain_per_label\": -1,\n",
    "            \"pickle_path\": \"/root/csc500-main/datasets/wisig.node3-19.stratified_ds.2022A.pkl\",\n",
    "            \"source_or_target_dataset\": \"target\",\n",
    "            \"x_transforms\": [\"unit_mag\"],\n",
    "            \"episode_transforms\": [],\n",
    "            \"domain_prefix\": \"Wisig_\",\n",
    "        },\n",
    "        {\n",
    "            \"labels\": [\n",
    "                \"3123D52\",\n",
    "                \"3123D65\",\n",
    "                \"3123D79\",\n",
    "                \"3123D80\",\n",
    "                \"3123D54\",\n",
    "                \"3123D70\",\n",
    "                \"3123D7B\",\n",
    "                \"3123D89\",\n",
    "                \"3123D58\",\n",
    "                \"3123D76\",\n",
    "                \"3123D7D\",\n",
    "                \"3123EFE\",\n",
    "                \"3123D64\",\n",
    "                \"3123D78\",\n",
    "                \"3123D7E\",\n",
    "                \"3124E4A\",\n",
    "            ],\n",
    "            \"domains\": [32, 38, 8, 44, 14, 50, 20, 26],\n",
    "            \"num_examples_per_domain_per_label\": 10000,\n",
    "            \"pickle_path\": \"/root/csc500-main/datasets/oracle.Run1_10kExamples_stratified_ds.2022A.pkl\",\n",
    "            \"source_or_target_dataset\": \"source\",\n",
    "            \"x_transforms\": [\"unit_mag\"],\n",
    "            \"episode_transforms\": [],\n",
    "            \"domain_prefix\": \"ORACLE.run1\",\n",
    "        },\n",
    "    ],\n",
    "    \"dataset_seed\": 7,\n",
    "    \"seed\": 7,\n",
    "}\n"
   ]
  },
  {
   "cell_type": "code",
   "execution_count": 5,
   "id": "8fa1cc33",
   "metadata": {
    "execution": {
     "iopub.execute_input": "2022-03-24T03:58:14.790038Z",
     "iopub.status.busy": "2022-03-24T03:58:14.789479Z",
     "iopub.status.idle": "2022-03-24T03:58:14.809290Z",
     "shell.execute_reply": "2022-03-24T03:58:14.809960Z"
    },
    "papermill": {
     "duration": 0.047419,
     "end_time": "2022-03-24T03:58:14.810136",
     "exception": false,
     "start_time": "2022-03-24T03:58:14.762717",
     "status": "completed"
    },
    "tags": []
   },
   "outputs": [],
   "source": [
    "# Set this to True if you want to run this template directly\n",
    "STANDALONE = False\n",
    "if STANDALONE:\n",
    "    print(\"parameters not injected, running with standalone_parameters\")\n",
    "    parameters = standalone_parameters\n",
    "\n",
    "if not 'parameters' in locals() and not 'parameters' in globals():\n",
    "    raise Exception(\"Parameter injection failed\")\n",
    "\n",
    "#Use an easy dict for all the parameters\n",
    "p = EasyDict(parameters)\n",
    "\n",
    "if \"x_shape\" not in p:\n",
    "    p.x_shape = [2,256] # Default to this if we dont supply x_shape\n",
    "\n",
    "\n",
    "supplied_keys = set(p.keys())\n",
    "\n",
    "if  supplied_keys != required_parameters:\n",
    "    print(\"Parameters are incorrect\")\n",
    "    if len(supplied_keys - required_parameters)>0: print(\"Shouldn't have:\", str(supplied_keys - required_parameters))\n",
    "    if len(required_parameters - supplied_keys)>0: print(\"Need to have:\", str(required_parameters - supplied_keys))\n",
    "    raise RuntimeError(\"Parameters are incorrect\")"
   ]
  },
  {
   "cell_type": "code",
   "execution_count": 6,
   "id": "3a028d58",
   "metadata": {
    "execution": {
     "iopub.execute_input": "2022-03-24T03:58:14.859783Z",
     "iopub.status.busy": "2022-03-24T03:58:14.859404Z",
     "iopub.status.idle": "2022-03-24T03:58:14.881473Z",
     "shell.execute_reply": "2022-03-24T03:58:14.880771Z"
    },
    "papermill": {
     "duration": 0.046174,
     "end_time": "2022-03-24T03:58:14.881626",
     "exception": false,
     "start_time": "2022-03-24T03:58:14.835452",
     "status": "completed"
    },
    "tags": []
   },
   "outputs": [],
   "source": [
    "###################################\n",
    "# Set the RNGs and make it all deterministic\n",
    "###################################\n",
    "np.random.seed(p.seed)\n",
    "random.seed(p.seed)\n",
    "torch.manual_seed(p.seed)\n",
    "\n",
    "torch.use_deterministic_algorithms(True) "
   ]
  },
  {
   "cell_type": "code",
   "execution_count": 7,
   "id": "b691acf6",
   "metadata": {
    "execution": {
     "iopub.execute_input": "2022-03-24T03:58:14.931051Z",
     "iopub.status.busy": "2022-03-24T03:58:14.930688Z",
     "iopub.status.idle": "2022-03-24T03:58:14.953985Z",
     "shell.execute_reply": "2022-03-24T03:58:14.953188Z"
    },
    "papermill": {
     "duration": 0.046578,
     "end_time": "2022-03-24T03:58:14.954136",
     "exception": false,
     "start_time": "2022-03-24T03:58:14.907558",
     "status": "completed"
    },
    "tags": []
   },
   "outputs": [],
   "source": [
    "###########################################\n",
    "# The stratified datasets honor this\n",
    "###########################################\n",
    "torch.set_default_dtype(eval(p.torch_default_dtype))"
   ]
  },
  {
   "cell_type": "code",
   "execution_count": 8,
   "id": "b5fba671",
   "metadata": {
    "execution": {
     "iopub.execute_input": "2022-03-24T03:58:15.002465Z",
     "iopub.status.busy": "2022-03-24T03:58:15.001961Z",
     "iopub.status.idle": "2022-03-24T03:58:15.053158Z",
     "shell.execute_reply": "2022-03-24T03:58:15.052428Z"
    },
    "papermill": {
     "duration": 0.073918,
     "end_time": "2022-03-24T03:58:15.053309",
     "exception": false,
     "start_time": "2022-03-24T03:58:14.979391",
     "status": "completed"
    },
    "tags": []
   },
   "outputs": [],
   "source": [
    "###################################\n",
    "# Build the network(s)\n",
    "# Note: It's critical to do this AFTER setting the RNG\n",
    "###################################\n",
    "x_net = build_sequential(p.x_net)"
   ]
  },
  {
   "cell_type": "code",
   "execution_count": 9,
   "id": "5d7e61cc",
   "metadata": {
    "execution": {
     "iopub.execute_input": "2022-03-24T03:58:15.105396Z",
     "iopub.status.busy": "2022-03-24T03:58:15.105037Z",
     "iopub.status.idle": "2022-03-24T03:58:15.125889Z",
     "shell.execute_reply": "2022-03-24T03:58:15.125090Z"
    },
    "papermill": {
     "duration": 0.04419,
     "end_time": "2022-03-24T03:58:15.126041",
     "exception": false,
     "start_time": "2022-03-24T03:58:15.081851",
     "status": "completed"
    },
    "tags": []
   },
   "outputs": [],
   "source": [
    "start_time_secs = time.time()"
   ]
  },
  {
   "cell_type": "code",
   "execution_count": 10,
   "id": "c6b67dfd",
   "metadata": {
    "execution": {
     "iopub.execute_input": "2022-03-24T03:58:15.175653Z",
     "iopub.status.busy": "2022-03-24T03:58:15.175270Z",
     "iopub.status.idle": "2022-03-24T03:58:15.193898Z",
     "shell.execute_reply": "2022-03-24T03:58:15.193101Z"
    },
    "papermill": {
     "duration": 0.042099,
     "end_time": "2022-03-24T03:58:15.194048",
     "exception": false,
     "start_time": "2022-03-24T03:58:15.151949",
     "status": "completed"
    },
    "tags": []
   },
   "outputs": [],
   "source": [
    "p.domains_source = []\n",
    "p.domains_target = []\n",
    "\n",
    "\n",
    "train_original_source = []\n",
    "val_original_source   = []\n",
    "test_original_source  = []\n",
    "\n",
    "train_original_target = []\n",
    "val_original_target   = []\n",
    "test_original_target  = []"
   ]
  },
  {
   "cell_type": "code",
   "execution_count": 11,
   "id": "e3d9c3d3",
   "metadata": {
    "execution": {
     "iopub.execute_input": "2022-03-24T03:58:15.243066Z",
     "iopub.status.busy": "2022-03-24T03:58:15.242705Z",
     "iopub.status.idle": "2022-03-24T03:58:15.260929Z",
     "shell.execute_reply": "2022-03-24T03:58:15.260192Z"
    },
    "papermill": {
     "duration": 0.040825,
     "end_time": "2022-03-24T03:58:15.261079",
     "exception": false,
     "start_time": "2022-03-24T03:58:15.220254",
     "status": "completed"
    },
    "tags": []
   },
   "outputs": [],
   "source": [
    "# global_x_transform_func = lambda x: normalize(x.to(torch.get_default_dtype()), \"unit_power\") # unit_power, unit_mag\n",
    "# global_x_transform_func = lambda x: normalize(x, \"unit_power\") # unit_power, unit_mag"
   ]
  },
  {
   "cell_type": "code",
   "execution_count": 12,
   "id": "acb78fd2",
   "metadata": {
    "execution": {
     "iopub.execute_input": "2022-03-24T03:58:15.317631Z",
     "iopub.status.busy": "2022-03-24T03:58:15.317061Z",
     "iopub.status.idle": "2022-03-24T03:58:15.337336Z",
     "shell.execute_reply": "2022-03-24T03:58:15.336643Z"
    },
    "papermill": {
     "duration": 0.049764,
     "end_time": "2022-03-24T03:58:15.337487",
     "exception": false,
     "start_time": "2022-03-24T03:58:15.287723",
     "status": "completed"
    },
    "tags": []
   },
   "outputs": [],
   "source": [
    "def add_dataset(\n",
    "    labels,\n",
    "    domains,\n",
    "    pickle_path,\n",
    "    x_transforms,\n",
    "    episode_transforms,\n",
    "    domain_prefix,\n",
    "    num_examples_per_domain_per_label,\n",
    "    source_or_target_dataset:str,\n",
    "    iterator_seed=p.seed,\n",
    "    dataset_seed=p.dataset_seed,\n",
    "    n_shot=p.n_shot,\n",
    "    n_way=p.n_way,\n",
    "    n_query=p.n_query,\n",
    "    train_val_test_k_factors=(p.train_k_factor,p.val_k_factor,p.test_k_factor),\n",
    "):\n",
    "   \n",
    "    if x_transforms == []: x_transform = None\n",
    "    else: x_transform = get_chained_transform(x_transforms)\n",
    "    \n",
    "    if episode_transforms == []: episode_transform = None\n",
    "    else: raise Exception(\"episode_transforms not implemented\")\n",
    "    \n",
    "    episode_transform = lambda tup, _prefix=domain_prefix: (_prefix + str(tup[0]), tup[1])\n",
    "\n",
    "\n",
    "    eaf = Episodic_Accessor_Factory(\n",
    "        labels=labels,\n",
    "        domains=domains,\n",
    "        num_examples_per_domain_per_label=num_examples_per_domain_per_label,\n",
    "        iterator_seed=iterator_seed,\n",
    "        dataset_seed=dataset_seed,\n",
    "        n_shot=n_shot,\n",
    "        n_way=n_way,\n",
    "        n_query=n_query,\n",
    "        train_val_test_k_factors=train_val_test_k_factors,\n",
    "        pickle_path=pickle_path,\n",
    "        x_transform_func=x_transform,\n",
    "    )\n",
    "\n",
    "    train, val, test = eaf.get_train(), eaf.get_val(), eaf.get_test()\n",
    "    train = Lazy_Iterable_Wrapper(train, episode_transform)\n",
    "    val = Lazy_Iterable_Wrapper(val, episode_transform)\n",
    "    test = Lazy_Iterable_Wrapper(test, episode_transform)\n",
    "\n",
    "    if source_or_target_dataset==\"source\":\n",
    "        train_original_source.append(train)\n",
    "        val_original_source.append(val)\n",
    "        test_original_source.append(test)\n",
    "\n",
    "        p.domains_source.extend(\n",
    "            [domain_prefix + str(u) for u in domains]\n",
    "        )\n",
    "    elif source_or_target_dataset==\"target\":\n",
    "        train_original_target.append(train)\n",
    "        val_original_target.append(val)\n",
    "        test_original_target.append(test)\n",
    "        p.domains_target.extend(\n",
    "            [domain_prefix + str(u) for u in domains]\n",
    "        )\n",
    "    else:\n",
    "        raise Exception(f\"invalid source_or_target_dataset: {source_or_target_dataset}\")\n",
    "    "
   ]
  },
  {
   "cell_type": "code",
   "execution_count": 13,
   "id": "fe266617",
   "metadata": {
    "execution": {
     "iopub.execute_input": "2022-03-24T03:58:15.388840Z",
     "iopub.status.busy": "2022-03-24T03:58:15.388478Z",
     "iopub.status.idle": "2022-03-24T04:00:25.820438Z",
     "shell.execute_reply": "2022-03-24T04:00:25.821108Z"
    },
    "papermill": {
     "duration": 130.45718,
     "end_time": "2022-03-24T04:00:25.821337",
     "exception": false,
     "start_time": "2022-03-24T03:58:15.364157",
     "status": "completed"
    },
    "tags": []
   },
   "outputs": [],
   "source": [
    "for ds in p.datasets:\n",
    "    add_dataset(**ds)"
   ]
  },
  {
   "cell_type": "code",
   "execution_count": 14,
   "id": "b90d65ac",
   "metadata": {
    "execution": {
     "iopub.execute_input": "2022-03-24T04:00:25.872149Z",
     "iopub.status.busy": "2022-03-24T04:00:25.871757Z",
     "iopub.status.idle": "2022-03-24T04:00:25.897005Z",
     "shell.execute_reply": "2022-03-24T04:00:25.897649Z"
    },
    "papermill": {
     "duration": 0.051477,
     "end_time": "2022-03-24T04:00:25.897862",
     "exception": false,
     "start_time": "2022-03-24T04:00:25.846385",
     "status": "completed"
    },
    "tags": []
   },
   "outputs": [],
   "source": [
    "# from steves_utils.CORES.utils import (\n",
    "#     ALL_NODES,\n",
    "#     ALL_NODES_MINIMUM_1000_EXAMPLES,\n",
    "#     ALL_DAYS\n",
    "# )\n",
    "\n",
    "# add_dataset(\n",
    "#     labels=ALL_NODES,\n",
    "#     domains = ALL_DAYS,\n",
    "#     num_examples_per_domain_per_label=100,\n",
    "#     pickle_path=os.path.join(get_datasets_base_path(), \"cores.stratified_ds.2022A.pkl\"),\n",
    "#     source_or_target_dataset=\"target\",\n",
    "#     x_transform_func=global_x_transform_func,\n",
    "#     domain_modifier=lambda u: f\"cores_{u}\"\n",
    "# )"
   ]
  },
  {
   "cell_type": "code",
   "execution_count": 15,
   "id": "76db484d",
   "metadata": {
    "execution": {
     "iopub.execute_input": "2022-03-24T04:00:25.950120Z",
     "iopub.status.busy": "2022-03-24T04:00:25.949739Z",
     "iopub.status.idle": "2022-03-24T04:00:25.969058Z",
     "shell.execute_reply": "2022-03-24T04:00:25.969729Z"
    },
    "papermill": {
     "duration": 0.04492,
     "end_time": "2022-03-24T04:00:25.969937",
     "exception": false,
     "start_time": "2022-03-24T04:00:25.925017",
     "status": "completed"
    },
    "tags": []
   },
   "outputs": [],
   "source": [
    "# from steves_utils.ORACLE.utils_v2 import (\n",
    "#     ALL_DISTANCES_FEET,\n",
    "#     ALL_RUNS,\n",
    "#     ALL_SERIAL_NUMBERS,\n",
    "# )\n",
    "\n",
    "\n",
    "# add_dataset(\n",
    "#     labels=ALL_SERIAL_NUMBERS,\n",
    "#     domains = list(set(ALL_DISTANCES_FEET) - {2,62}),\n",
    "#     num_examples_per_domain_per_label=100,\n",
    "#     pickle_path=os.path.join(get_datasets_base_path(), \"oracle.Run2_framed_2000Examples_stratified_ds.2022A.pkl\"),\n",
    "#     source_or_target_dataset=\"source\",\n",
    "#     x_transform_func=global_x_transform_func,\n",
    "#     domain_modifier=lambda u: f\"oracle1_{u}\"\n",
    "# )\n"
   ]
  },
  {
   "cell_type": "code",
   "execution_count": 16,
   "id": "97dea9d2",
   "metadata": {
    "execution": {
     "iopub.execute_input": "2022-03-24T04:00:26.022648Z",
     "iopub.status.busy": "2022-03-24T04:00:26.022014Z",
     "iopub.status.idle": "2022-03-24T04:00:26.040827Z",
     "shell.execute_reply": "2022-03-24T04:00:26.041466Z"
    },
    "papermill": {
     "duration": 0.044474,
     "end_time": "2022-03-24T04:00:26.041675",
     "exception": false,
     "start_time": "2022-03-24T04:00:25.997201",
     "status": "completed"
    },
    "tags": []
   },
   "outputs": [],
   "source": [
    "# from steves_utils.ORACLE.utils_v2 import (\n",
    "#     ALL_DISTANCES_FEET,\n",
    "#     ALL_RUNS,\n",
    "#     ALL_SERIAL_NUMBERS,\n",
    "# )\n",
    "\n",
    "\n",
    "# add_dataset(\n",
    "#     labels=ALL_SERIAL_NUMBERS,\n",
    "#     domains = list(set(ALL_DISTANCES_FEET) - {2,62,56}),\n",
    "#     num_examples_per_domain_per_label=100,\n",
    "#     pickle_path=os.path.join(get_datasets_base_path(), \"oracle.Run2_framed_2000Examples_stratified_ds.2022A.pkl\"),\n",
    "#     source_or_target_dataset=\"source\",\n",
    "#     x_transform_func=global_x_transform_func,\n",
    "#     domain_modifier=lambda u: f\"oracle2_{u}\"\n",
    "# )"
   ]
  },
  {
   "cell_type": "code",
   "execution_count": 17,
   "id": "6f289866",
   "metadata": {
    "execution": {
     "iopub.execute_input": "2022-03-24T04:00:26.094144Z",
     "iopub.status.busy": "2022-03-24T04:00:26.093768Z",
     "iopub.status.idle": "2022-03-24T04:00:26.112826Z",
     "shell.execute_reply": "2022-03-24T04:00:26.113501Z"
    },
    "papermill": {
     "duration": 0.044403,
     "end_time": "2022-03-24T04:00:26.113705",
     "exception": false,
     "start_time": "2022-03-24T04:00:26.069302",
     "status": "completed"
    },
    "tags": []
   },
   "outputs": [],
   "source": [
    "# add_dataset(\n",
    "#     labels=list(range(19)),\n",
    "#     domains = [0,1,2],\n",
    "#     num_examples_per_domain_per_label=100,\n",
    "#     pickle_path=os.path.join(get_datasets_base_path(), \"metehan.stratified_ds.2022A.pkl\"),\n",
    "#     source_or_target_dataset=\"target\",\n",
    "#     x_transform_func=global_x_transform_func,\n",
    "#     domain_modifier=lambda u: f\"met_{u}\"\n",
    "# )"
   ]
  },
  {
   "cell_type": "code",
   "execution_count": 18,
   "id": "86a863c3",
   "metadata": {
    "execution": {
     "iopub.execute_input": "2022-03-24T04:00:26.167940Z",
     "iopub.status.busy": "2022-03-24T04:00:26.167205Z",
     "iopub.status.idle": "2022-03-24T04:00:26.187430Z",
     "shell.execute_reply": "2022-03-24T04:00:26.188074Z"
    },
    "papermill": {
     "duration": 0.046441,
     "end_time": "2022-03-24T04:00:26.188273",
     "exception": false,
     "start_time": "2022-03-24T04:00:26.141832",
     "status": "completed"
    },
    "tags": []
   },
   "outputs": [],
   "source": [
    "# # from steves_utils.wisig.utils import (\n",
    "# #     ALL_NODES_MINIMUM_100_EXAMPLES,\n",
    "# #     ALL_NODES_MINIMUM_500_EXAMPLES,\n",
    "# #     ALL_NODES_MINIMUM_1000_EXAMPLES,\n",
    "# #     ALL_DAYS\n",
    "# # )\n",
    "\n",
    "# import steves_utils.wisig.utils as wisig\n",
    "\n",
    "\n",
    "# add_dataset(\n",
    "#     labels=wisig.ALL_NODES_MINIMUM_100_EXAMPLES,\n",
    "#     domains = wisig.ALL_DAYS,\n",
    "#     num_examples_per_domain_per_label=100,\n",
    "#     pickle_path=os.path.join(get_datasets_base_path(), \"wisig.node3-19.stratified_ds.2022A.pkl\"),\n",
    "#     source_or_target_dataset=\"target\",\n",
    "#     x_transform_func=global_x_transform_func,\n",
    "#     domain_modifier=lambda u: f\"wisig_{u}\"\n",
    "# )"
   ]
  },
  {
   "cell_type": "code",
   "execution_count": 19,
   "id": "fd5442bc",
   "metadata": {
    "execution": {
     "iopub.execute_input": "2022-03-24T04:00:26.245100Z",
     "iopub.status.busy": "2022-03-24T04:00:26.244272Z",
     "iopub.status.idle": "2022-03-24T04:00:26.263210Z",
     "shell.execute_reply": "2022-03-24T04:00:26.263860Z"
    },
    "papermill": {
     "duration": 0.050007,
     "end_time": "2022-03-24T04:00:26.264035",
     "exception": false,
     "start_time": "2022-03-24T04:00:26.214028",
     "status": "completed"
    },
    "tags": []
   },
   "outputs": [],
   "source": [
    "###################################\n",
    "# Build the dataset\n",
    "###################################\n",
    "train_original_source = Iterable_Aggregator(train_original_source, p.seed)\n",
    "val_original_source = Iterable_Aggregator(val_original_source, p.seed)\n",
    "test_original_source = Iterable_Aggregator(test_original_source, p.seed)\n",
    "\n",
    "\n",
    "train_original_target = Iterable_Aggregator(train_original_target, p.seed)\n",
    "val_original_target = Iterable_Aggregator(val_original_target, p.seed)\n",
    "test_original_target = Iterable_Aggregator(test_original_target, p.seed)\n",
    "\n",
    "# For CNN We only use X and Y. And we only train on the source.\n",
    "# Properly form the data using a transform lambda and Lazy_Iterable_Wrapper. Finally wrap them in a dataloader\n",
    "\n",
    "transform_lambda = lambda ex: ex[1] # Original is (<domain>, <episode>) so we strip down to episode only\n",
    "\n",
    "train_processed_source = Lazy_Iterable_Wrapper(train_original_source, transform_lambda)\n",
    "val_processed_source   = Lazy_Iterable_Wrapper(val_original_source, transform_lambda)\n",
    "test_processed_source  = Lazy_Iterable_Wrapper(test_original_source, transform_lambda)\n",
    "\n",
    "train_processed_target = Lazy_Iterable_Wrapper(train_original_target, transform_lambda)\n",
    "val_processed_target   = Lazy_Iterable_Wrapper(val_original_target, transform_lambda)\n",
    "test_processed_target  = Lazy_Iterable_Wrapper(test_original_target, transform_lambda)\n",
    "\n",
    "datasets = EasyDict({\n",
    "    \"source\": {\n",
    "        \"original\": {\"train\":train_original_source, \"val\":val_original_source, \"test\":test_original_source},\n",
    "        \"processed\": {\"train\":train_processed_source, \"val\":val_processed_source, \"test\":test_processed_source}\n",
    "    },\n",
    "    \"target\": {\n",
    "        \"original\": {\"train\":train_original_target, \"val\":val_original_target, \"test\":test_original_target},\n",
    "        \"processed\": {\"train\":train_processed_target, \"val\":val_processed_target, \"test\":test_processed_target}\n",
    "    },\n",
    "})"
   ]
  },
  {
   "cell_type": "code",
   "execution_count": 20,
   "id": "5b3c01fc",
   "metadata": {
    "execution": {
     "iopub.execute_input": "2022-03-24T04:00:26.317538Z",
     "iopub.status.busy": "2022-03-24T04:00:26.316937Z",
     "iopub.status.idle": "2022-03-24T04:00:59.612682Z",
     "shell.execute_reply": "2022-03-24T04:00:59.611933Z"
    },
    "papermill": {
     "duration": 33.322975,
     "end_time": "2022-03-24T04:00:59.612858",
     "exception": false,
     "start_time": "2022-03-24T04:00:26.289883",
     "status": "completed"
    },
    "tags": []
   },
   "outputs": [
    {
     "name": "stdout",
     "output_type": "stream",
     "text": [
      "{'ORACLE.run18', 'ORACLE.run144', 'ORACLE.run126', 'ORACLE.run120', 'ORACLE.run138', 'ORACLE.run132', 'ORACLE.run150', 'ORACLE.run114'}\n"
     ]
    },
    {
     "name": "stdout",
     "output_type": "stream",
     "text": [
      "{'Wisig_1', 'Wisig_2', 'Wisig_3', 'Wisig_4'}\n"
     ]
    },
    {
     "name": "stdout",
     "output_type": "stream",
     "text": [
      "tensor([[[ 1.3646,  0.2454,  1.0112,  ..., -0.3043, -0.9228, -0.2945],\n",
      "         [ 0.3142,  0.4614, -0.0393,  ...,  1.2566,  0.2552, -1.2762]],\n",
      "\n",
      "        [[ 0.6683,  1.0614, -1.4840,  ..., -1.8182, -0.5602,  1.0319],\n",
      "         [ 0.5995,  0.5504, -0.1671,  ..., -1.1990, -0.4226, -0.2260]],\n",
      "\n",
      "        [[-0.8064, -0.1854,  0.7508,  ...,  0.1761, -0.2781, -0.1946],\n",
      "         [ 0.5098,  0.6488,  0.8527,  ..., -0.2410,  0.8620, -1.2513]],\n",
      "\n",
      "        ...,\n",
      "\n",
      "        [[ 0.5589, -0.2290, -1.0078,  ..., -0.1191, -0.7604, -1.4933],\n",
      "         [ 0.0550,  0.1741,  0.8795,  ...,  0.8429, -0.1283,  1.2826]],\n",
      "\n",
      "        [[ 0.3345,  0.6504, -0.6875,  ...,  2.0905,  1.3101,  0.4460],\n",
      "         [ 0.7433,  0.2137, -0.3066,  ...,  1.0313,  0.4738,  0.6132]],\n",
      "\n",
      "        [[ 0.2057, -0.5544, -1.2518,  ..., -0.3577,  0.7153,  1.0730],\n",
      "         [ 0.4381, -0.7600, -1.4396,  ...,  0.3666, -0.7690,  1.5826]]])\n"
     ]
    }
   ],
   "source": [
    "from steves_utils.transforms import get_average_magnitude, get_average_power\n",
    "\n",
    "print(set([u for u,_ in val_original_source]))\n",
    "print(set([u for u,_ in val_original_target]))\n",
    "\n",
    "s_x, s_y, q_x, q_y, _ = next(iter(train_processed_source))\n",
    "print(s_x)\n",
    "\n",
    "# for ds in [\n",
    "#     train_processed_source,\n",
    "#     val_processed_source,\n",
    "#     test_processed_source,\n",
    "#     train_processed_target,\n",
    "#     val_processed_target,\n",
    "#     test_processed_target\n",
    "# ]:\n",
    "#     for s_x, s_y, q_x, q_y, _ in ds:\n",
    "#         for X in (s_x, q_x):\n",
    "#             for x in X:\n",
    "#                 assert np.isclose(get_average_magnitude(x.numpy()), 1.0)\n",
    "#                 assert np.isclose(get_average_power(x.numpy()), 1.0)\n",
    "                "
   ]
  },
  {
   "cell_type": "code",
   "execution_count": 21,
   "id": "bbdacba1",
   "metadata": {
    "execution": {
     "iopub.execute_input": "2022-03-24T04:00:59.671067Z",
     "iopub.status.busy": "2022-03-24T04:00:59.670695Z",
     "iopub.status.idle": "2022-03-24T04:00:59.881592Z",
     "shell.execute_reply": "2022-03-24T04:00:59.882249Z"
    },
    "papermill": {
     "duration": 0.240157,
     "end_time": "2022-03-24T04:00:59.882512",
     "exception": false,
     "start_time": "2022-03-24T04:00:59.642355",
     "status": "completed"
    },
    "tags": []
   },
   "outputs": [
    {
     "name": "stdout",
     "output_type": "stream",
     "text": [
      "(2, 256)\n"
     ]
    }
   ],
   "source": [
    "###################################\n",
    "# Build the model\n",
    "###################################\n",
    "# easfsl only wants a tuple for the shape\n",
    "model = Steves_Prototypical_Network(x_net, device=p.device, x_shape=tuple(p.x_shape))\n",
    "optimizer = Adam(params=model.parameters(), lr=p.lr)"
   ]
  },
  {
   "cell_type": "code",
   "execution_count": 22,
   "id": "22b39ac5",
   "metadata": {
    "execution": {
     "iopub.execute_input": "2022-03-24T04:00:59.944748Z",
     "iopub.status.busy": "2022-03-24T04:00:59.944106Z",
     "iopub.status.idle": "2022-03-24T08:40:57.851828Z",
     "shell.execute_reply": "2022-03-24T08:40:57.851436Z"
    },
    "papermill": {
     "duration": 16797.936342,
     "end_time": "2022-03-24T08:40:57.851924",
     "exception": false,
     "start_time": "2022-03-24T04:00:59.915582",
     "status": "completed"
    },
    "tags": []
   },
   "outputs": [
    {
     "name": "stdout",
     "output_type": "stream",
     "text": [
      "epoch: 1, [batch: 1 / 33600], examples_per_second: 6.6068, train_label_loss: 2.7620, \n"
     ]
    },
    {
     "name": "stdout",
     "output_type": "stream",
     "text": [
      "epoch: 1, [batch: 3360 / 33600], examples_per_second: 3378.1643, train_label_loss: 2.0336, \n"
     ]
    },
    {
     "name": "stdout",
     "output_type": "stream",
     "text": [
      "epoch: 1, [batch: 6720 / 33600], examples_per_second: 3757.5313, train_label_loss: 0.8808, \n"
     ]
    },
    {
     "name": "stdout",
     "output_type": "stream",
     "text": [
      "epoch: 1, [batch: 10080 / 33600], examples_per_second: 3885.7758, train_label_loss: 0.6683, \n"
     ]
    },
    {
     "name": "stdout",
     "output_type": "stream",
     "text": [
      "epoch: 1, [batch: 13440 / 33600], examples_per_second: 3858.5267, train_label_loss: 1.2099, \n"
     ]
    },
    {
     "name": "stdout",
     "output_type": "stream",
     "text": [
      "epoch: 1, [batch: 16800 / 33600], examples_per_second: 3911.2316, train_label_loss: 0.9112, \n"
     ]
    },
    {
     "name": "stdout",
     "output_type": "stream",
     "text": [
      "epoch: 1, [batch: 20160 / 33600], examples_per_second: 3898.9046, train_label_loss: 0.5078, \n"
     ]
    },
    {
     "name": "stdout",
     "output_type": "stream",
     "text": [
      "epoch: 1, [batch: 23520 / 33600], examples_per_second: 3209.0750, train_label_loss: 0.4631, \n"
     ]
    },
    {
     "name": "stdout",
     "output_type": "stream",
     "text": [
      "epoch: 1, [batch: 26880 / 33600], examples_per_second: 3401.2169, train_label_loss: 0.6169, \n"
     ]
    },
    {
     "name": "stdout",
     "output_type": "stream",
     "text": [
      "epoch: 1, [batch: 30240 / 33600], examples_per_second: 3302.3710, train_label_loss: 1.4571, \n"
     ]
    },
    {
     "name": "stdout",
     "output_type": "stream",
     "text": [
      "=============================================================\n",
      "epoch: 1, source_val_acc_label: 0.6357, target_val_acc_label: 0.6760, source_val_label_loss: 1.0081, target_val_label_loss: 5.1106, \n",
      "=============================================================\n"
     ]
    },
    {
     "name": "stdout",
     "output_type": "stream",
     "text": [
      "New best\n"
     ]
    },
    {
     "name": "stdout",
     "output_type": "stream",
     "text": [
      "epoch: 2, [batch: 1 / 33600], examples_per_second: 0.7330, train_label_loss: 0.7598, \n"
     ]
    },
    {
     "name": "stdout",
     "output_type": "stream",
     "text": [
      "epoch: 2, [batch: 3360 / 33600], examples_per_second: 3004.9267, train_label_loss: 0.5723, \n"
     ]
    },
    {
     "name": "stdout",
     "output_type": "stream",
     "text": [
      "epoch: 2, [batch: 6720 / 33600], examples_per_second: 2998.8701, train_label_loss: 1.3428, \n"
     ]
    },
    {
     "name": "stdout",
     "output_type": "stream",
     "text": [
      "epoch: 2, [batch: 10080 / 33600], examples_per_second: 2989.2909, train_label_loss: 0.6241, \n"
     ]
    },
    {
     "name": "stdout",
     "output_type": "stream",
     "text": [
      "epoch: 2, [batch: 13440 / 33600], examples_per_second: 2962.1873, train_label_loss: 0.4782, \n"
     ]
    },
    {
     "name": "stdout",
     "output_type": "stream",
     "text": [
      "epoch: 2, [batch: 16800 / 33600], examples_per_second: 3174.5369, train_label_loss: 0.7703, \n"
     ]
    },
    {
     "name": "stdout",
     "output_type": "stream",
     "text": [
      "epoch: 2, [batch: 20160 / 33600], examples_per_second: 3537.7697, train_label_loss: 1.0998, \n"
     ]
    },
    {
     "name": "stdout",
     "output_type": "stream",
     "text": [
      "epoch: 2, [batch: 23520 / 33600], examples_per_second: 3213.9573, train_label_loss: 1.1130, \n"
     ]
    },
    {
     "name": "stdout",
     "output_type": "stream",
     "text": [
      "epoch: 2, [batch: 26880 / 33600], examples_per_second: 3435.8921, train_label_loss: 1.1018, \n"
     ]
    },
    {
     "name": "stdout",
     "output_type": "stream",
     "text": [
      "epoch: 2, [batch: 30240 / 33600], examples_per_second: 3504.1918, train_label_loss: 1.1910, \n"
     ]
    },
    {
     "name": "stdout",
     "output_type": "stream",
     "text": [
      "=============================================================\n",
      "epoch: 2, source_val_acc_label: 0.6771, target_val_acc_label: 0.7098, source_val_label_loss: 0.8555, target_val_label_loss: 6.4000, \n",
      "=============================================================\n"
     ]
    },
    {
     "name": "stdout",
     "output_type": "stream",
     "text": [
      "New best\n"
     ]
    },
    {
     "name": "stdout",
     "output_type": "stream",
     "text": [
      "epoch: 3, [batch: 1 / 33600], examples_per_second: 0.7313, train_label_loss: 0.5992, \n"
     ]
    },
    {
     "name": "stdout",
     "output_type": "stream",
     "text": [
      "epoch: 3, [batch: 3360 / 33600], examples_per_second: 2995.1896, train_label_loss: 1.1362, \n"
     ]
    },
    {
     "name": "stdout",
     "output_type": "stream",
     "text": [
      "epoch: 3, [batch: 6720 / 33600], examples_per_second: 3004.3570, train_label_loss: 1.0752, \n"
     ]
    },
    {
     "name": "stdout",
     "output_type": "stream",
     "text": [
      "epoch: 3, [batch: 10080 / 33600], examples_per_second: 3005.3432, train_label_loss: 0.6152, \n"
     ]
    },
    {
     "name": "stdout",
     "output_type": "stream",
     "text": [
      "epoch: 3, [batch: 13440 / 33600], examples_per_second: 2992.3284, train_label_loss: 0.5232, \n"
     ]
    },
    {
     "name": "stdout",
     "output_type": "stream",
     "text": [
      "epoch: 3, [batch: 16800 / 33600], examples_per_second: 3149.1435, train_label_loss: 0.7069, \n"
     ]
    },
    {
     "name": "stdout",
     "output_type": "stream",
     "text": [
      "epoch: 3, [batch: 20160 / 33600], examples_per_second: 3437.5383, train_label_loss: 0.9676, \n"
     ]
    },
    {
     "name": "stdout",
     "output_type": "stream",
     "text": [
      "epoch: 3, [batch: 23520 / 33600], examples_per_second: 3191.9131, train_label_loss: 0.9414, \n"
     ]
    },
    {
     "name": "stdout",
     "output_type": "stream",
     "text": [
      "epoch: 3, [batch: 26880 / 33600], examples_per_second: 3420.8993, train_label_loss: 0.9451, \n"
     ]
    },
    {
     "name": "stdout",
     "output_type": "stream",
     "text": [
      "epoch: 3, [batch: 30240 / 33600], examples_per_second: 3481.5712, train_label_loss: 0.5931, \n"
     ]
    },
    {
     "name": "stdout",
     "output_type": "stream",
     "text": [
      "=============================================================\n",
      "epoch: 3, source_val_acc_label: 0.7061, target_val_acc_label: 0.7319, source_val_label_loss: 0.7965, target_val_label_loss: 7.7189, \n",
      "=============================================================\n"
     ]
    },
    {
     "name": "stdout",
     "output_type": "stream",
     "text": [
      "New best\n"
     ]
    },
    {
     "name": "stdout",
     "output_type": "stream",
     "text": [
      "epoch: 4, [batch: 1 / 33600], examples_per_second: 0.7353, train_label_loss: 0.3726, \n"
     ]
    },
    {
     "name": "stdout",
     "output_type": "stream",
     "text": [
      "epoch: 4, [batch: 3360 / 33600], examples_per_second: 3025.3183, train_label_loss: 0.5024, \n"
     ]
    },
    {
     "name": "stdout",
     "output_type": "stream",
     "text": [
      "epoch: 4, [batch: 6720 / 33600], examples_per_second: 3021.5207, train_label_loss: 1.1172, \n"
     ]
    },
    {
     "name": "stdout",
     "output_type": "stream",
     "text": [
      "epoch: 4, [batch: 10080 / 33600], examples_per_second: 3013.9098, train_label_loss: 0.8416, \n"
     ]
    },
    {
     "name": "stdout",
     "output_type": "stream",
     "text": [
      "epoch: 4, [batch: 13440 / 33600], examples_per_second: 2982.5243, train_label_loss: 0.5112, \n"
     ]
    },
    {
     "name": "stdout",
     "output_type": "stream",
     "text": [
      "epoch: 4, [batch: 16800 / 33600], examples_per_second: 3122.5091, train_label_loss: 1.2326, \n"
     ]
    },
    {
     "name": "stdout",
     "output_type": "stream",
     "text": [
      "epoch: 4, [batch: 20160 / 33600], examples_per_second: 3453.5035, train_label_loss: 1.1392, \n"
     ]
    },
    {
     "name": "stdout",
     "output_type": "stream",
     "text": [
      "epoch: 4, [batch: 23520 / 33600], examples_per_second: 3197.7476, train_label_loss: 0.4427, \n"
     ]
    },
    {
     "name": "stdout",
     "output_type": "stream",
     "text": [
      "epoch: 4, [batch: 26880 / 33600], examples_per_second: 3332.3217, train_label_loss: 0.6367, \n"
     ]
    },
    {
     "name": "stdout",
     "output_type": "stream",
     "text": [
      "epoch: 4, [batch: 30240 / 33600], examples_per_second: 3547.0797, train_label_loss: 0.6533, \n"
     ]
    },
    {
     "name": "stdout",
     "output_type": "stream",
     "text": [
      "=============================================================\n",
      "epoch: 4, source_val_acc_label: 0.7148, target_val_acc_label: 0.7440, source_val_label_loss: 0.7721, target_val_label_loss: 7.9692, \n",
      "=============================================================\n"
     ]
    },
    {
     "name": "stdout",
     "output_type": "stream",
     "text": [
      "New best\n"
     ]
    },
    {
     "name": "stdout",
     "output_type": "stream",
     "text": [
      "epoch: 5, [batch: 1 / 33600], examples_per_second: 0.7357, train_label_loss: 0.5075, \n"
     ]
    },
    {
     "name": "stdout",
     "output_type": "stream",
     "text": [
      "epoch: 5, [batch: 3360 / 33600], examples_per_second: 2989.6221, train_label_loss: 0.7758, \n"
     ]
    },
    {
     "name": "stdout",
     "output_type": "stream",
     "text": [
      "epoch: 5, [batch: 6720 / 33600], examples_per_second: 2984.0725, train_label_loss: 0.6491, \n"
     ]
    },
    {
     "name": "stdout",
     "output_type": "stream",
     "text": [
      "epoch: 5, [batch: 10080 / 33600], examples_per_second: 2978.5052, train_label_loss: 0.4668, \n"
     ]
    },
    {
     "name": "stdout",
     "output_type": "stream",
     "text": [
      "epoch: 5, [batch: 13440 / 33600], examples_per_second: 3019.5907, train_label_loss: 0.6072, \n"
     ]
    },
    {
     "name": "stdout",
     "output_type": "stream",
     "text": [
      "epoch: 5, [batch: 16800 / 33600], examples_per_second: 3157.1433, train_label_loss: 0.8717, \n"
     ]
    },
    {
     "name": "stdout",
     "output_type": "stream",
     "text": [
      "epoch: 5, [batch: 20160 / 33600], examples_per_second: 3442.7317, train_label_loss: 0.6495, \n"
     ]
    },
    {
     "name": "stdout",
     "output_type": "stream",
     "text": [
      "epoch: 5, [batch: 23520 / 33600], examples_per_second: 3171.6480, train_label_loss: 0.3684, \n"
     ]
    },
    {
     "name": "stdout",
     "output_type": "stream",
     "text": [
      "epoch: 5, [batch: 26880 / 33600], examples_per_second: 3338.0094, train_label_loss: 0.6973, \n"
     ]
    },
    {
     "name": "stdout",
     "output_type": "stream",
     "text": [
      "epoch: 5, [batch: 30240 / 33600], examples_per_second: 3578.0668, train_label_loss: 0.5935, \n"
     ]
    },
    {
     "name": "stdout",
     "output_type": "stream",
     "text": [
      "=============================================================\n",
      "epoch: 5, source_val_acc_label: 0.7219, target_val_acc_label: 0.7500, source_val_label_loss: 0.7642, target_val_label_loss: 8.8432, \n",
      "=============================================================\n"
     ]
    },
    {
     "name": "stdout",
     "output_type": "stream",
     "text": [
      "New best\n"
     ]
    },
    {
     "name": "stdout",
     "output_type": "stream",
     "text": [
      "epoch: 6, [batch: 1 / 33600], examples_per_second: 0.7326, train_label_loss: 0.3960, \n"
     ]
    },
    {
     "name": "stdout",
     "output_type": "stream",
     "text": [
      "epoch: 6, [batch: 3360 / 33600], examples_per_second: 3030.2565, train_label_loss: 0.6520, \n"
     ]
    },
    {
     "name": "stdout",
     "output_type": "stream",
     "text": [
      "epoch: 6, [batch: 6720 / 33600], examples_per_second: 2997.9400, train_label_loss: 0.7552, \n"
     ]
    },
    {
     "name": "stdout",
     "output_type": "stream",
     "text": [
      "epoch: 6, [batch: 10080 / 33600], examples_per_second: 3048.6301, train_label_loss: 1.0837, \n"
     ]
    },
    {
     "name": "stdout",
     "output_type": "stream",
     "text": [
      "epoch: 6, [batch: 13440 / 33600], examples_per_second: 3026.0788, train_label_loss: 0.6116, \n"
     ]
    },
    {
     "name": "stdout",
     "output_type": "stream",
     "text": [
      "epoch: 6, [batch: 16800 / 33600], examples_per_second: 3112.4832, train_label_loss: 0.7277, \n"
     ]
    },
    {
     "name": "stdout",
     "output_type": "stream",
     "text": [
      "epoch: 6, [batch: 20160 / 33600], examples_per_second: 3447.0393, train_label_loss: 0.6334, \n"
     ]
    },
    {
     "name": "stdout",
     "output_type": "stream",
     "text": [
      "epoch: 6, [batch: 23520 / 33600], examples_per_second: 3175.6008, train_label_loss: 0.3959, \n"
     ]
    },
    {
     "name": "stdout",
     "output_type": "stream",
     "text": [
      "epoch: 6, [batch: 26880 / 33600], examples_per_second: 3259.2472, train_label_loss: 0.5836, \n"
     ]
    },
    {
     "name": "stdout",
     "output_type": "stream",
     "text": [
      "epoch: 6, [batch: 30240 / 33600], examples_per_second: 3569.3300, train_label_loss: 0.5489, \n"
     ]
    },
    {
     "name": "stdout",
     "output_type": "stream",
     "text": [
      "=============================================================\n",
      "epoch: 6, source_val_acc_label: 0.7263, target_val_acc_label: 0.7650, source_val_label_loss: 0.7647, target_val_label_loss: 9.0820, \n",
      "=============================================================\n"
     ]
    },
    {
     "name": "stdout",
     "output_type": "stream",
     "text": [
      "New best\n"
     ]
    },
    {
     "name": "stdout",
     "output_type": "stream",
     "text": [
      "epoch: 7, [batch: 1 / 33600], examples_per_second: 0.7397, train_label_loss: 0.9812, \n"
     ]
    },
    {
     "name": "stdout",
     "output_type": "stream",
     "text": [
      "epoch: 7, [batch: 3360 / 33600], examples_per_second: 2979.3709, train_label_loss: 0.4911, \n"
     ]
    },
    {
     "name": "stdout",
     "output_type": "stream",
     "text": [
      "epoch: 7, [batch: 6720 / 33600], examples_per_second: 3008.2462, train_label_loss: 0.3928, \n"
     ]
    },
    {
     "name": "stdout",
     "output_type": "stream",
     "text": [
      "epoch: 7, [batch: 10080 / 33600], examples_per_second: 2988.4657, train_label_loss: 0.4478, \n"
     ]
    },
    {
     "name": "stdout",
     "output_type": "stream",
     "text": [
      "epoch: 7, [batch: 13440 / 33600], examples_per_second: 2968.1931, train_label_loss: 0.2845, \n"
     ]
    },
    {
     "name": "stdout",
     "output_type": "stream",
     "text": [
      "epoch: 7, [batch: 16800 / 33600], examples_per_second: 3108.8136, train_label_loss: 0.6246, \n"
     ]
    },
    {
     "name": "stdout",
     "output_type": "stream",
     "text": [
      "epoch: 7, [batch: 20160 / 33600], examples_per_second: 3429.9778, train_label_loss: 0.3510, \n"
     ]
    },
    {
     "name": "stdout",
     "output_type": "stream",
     "text": [
      "epoch: 7, [batch: 23520 / 33600], examples_per_second: 3442.0382, train_label_loss: 0.3014, \n"
     ]
    },
    {
     "name": "stdout",
     "output_type": "stream",
     "text": [
      "epoch: 7, [batch: 26880 / 33600], examples_per_second: 3592.9307, train_label_loss: 0.5810, \n"
     ]
    },
    {
     "name": "stdout",
     "output_type": "stream",
     "text": [
      "epoch: 7, [batch: 30240 / 33600], examples_per_second: 4046.9800, train_label_loss: 0.5326, \n"
     ]
    },
    {
     "name": "stdout",
     "output_type": "stream",
     "text": [
      "=============================================================\n",
      "epoch: 7, source_val_acc_label: 0.7264, target_val_acc_label: 0.7751, source_val_label_loss: 0.7513, target_val_label_loss: 8.6691, \n",
      "=============================================================\n"
     ]
    },
    {
     "name": "stdout",
     "output_type": "stream",
     "text": [
      "New best\n"
     ]
    },
    {
     "name": "stdout",
     "output_type": "stream",
     "text": [
      "epoch: 8, [batch: 1 / 33600], examples_per_second: 0.8823, train_label_loss: 0.2341, \n"
     ]
    },
    {
     "name": "stdout",
     "output_type": "stream",
     "text": [
      "epoch: 8, [batch: 3360 / 33600], examples_per_second: 3933.5616, train_label_loss: 0.4630, \n"
     ]
    },
    {
     "name": "stdout",
     "output_type": "stream",
     "text": [
      "epoch: 8, [batch: 6720 / 33600], examples_per_second: 3979.0930, train_label_loss: 0.3781, \n"
     ]
    },
    {
     "name": "stdout",
     "output_type": "stream",
     "text": [
      "epoch: 8, [batch: 10080 / 33600], examples_per_second: 3864.5065, train_label_loss: 0.8440, \n"
     ]
    },
    {
     "name": "stdout",
     "output_type": "stream",
     "text": [
      "epoch: 8, [batch: 13440 / 33600], examples_per_second: 3834.5448, train_label_loss: 0.6660, \n"
     ]
    },
    {
     "name": "stdout",
     "output_type": "stream",
     "text": [
      "epoch: 8, [batch: 16800 / 33600], examples_per_second: 3949.5228, train_label_loss: 0.4194, \n"
     ]
    },
    {
     "name": "stdout",
     "output_type": "stream",
     "text": [
      "epoch: 8, [batch: 20160 / 33600], examples_per_second: 3682.3288, train_label_loss: 0.7646, \n"
     ]
    },
    {
     "name": "stdout",
     "output_type": "stream",
     "text": [
      "epoch: 8, [batch: 23520 / 33600], examples_per_second: 3010.3341, train_label_loss: 0.3897, \n"
     ]
    },
    {
     "name": "stdout",
     "output_type": "stream",
     "text": [
      "epoch: 8, [batch: 26880 / 33600], examples_per_second: 3275.7507, train_label_loss: 0.6363, \n"
     ]
    },
    {
     "name": "stdout",
     "output_type": "stream",
     "text": [
      "epoch: 8, [batch: 30240 / 33600], examples_per_second: 3969.3743, train_label_loss: 0.3024, \n"
     ]
    },
    {
     "name": "stdout",
     "output_type": "stream",
     "text": [
      "=============================================================\n",
      "epoch: 8, source_val_acc_label: 0.7302, target_val_acc_label: 0.7799, source_val_label_loss: 0.7569, target_val_label_loss: 9.5194, \n",
      "=============================================================\n"
     ]
    },
    {
     "name": "stdout",
     "output_type": "stream",
     "text": [
      "New best\n"
     ]
    },
    {
     "name": "stdout",
     "output_type": "stream",
     "text": [
      "epoch: 9, [batch: 1 / 33600], examples_per_second: 0.7561, train_label_loss: 0.3206, \n"
     ]
    },
    {
     "name": "stdout",
     "output_type": "stream",
     "text": [
      "epoch: 9, [batch: 3360 / 33600], examples_per_second: 3377.8379, train_label_loss: 0.3503, \n"
     ]
    },
    {
     "name": "stdout",
     "output_type": "stream",
     "text": [
      "epoch: 9, [batch: 6720 / 33600], examples_per_second: 3010.6341, train_label_loss: 0.3290, \n"
     ]
    },
    {
     "name": "stdout",
     "output_type": "stream",
     "text": [
      "epoch: 9, [batch: 10080 / 33600], examples_per_second: 3084.8515, train_label_loss: 0.7160, \n"
     ]
    },
    {
     "name": "stdout",
     "output_type": "stream",
     "text": [
      "epoch: 9, [batch: 13440 / 33600], examples_per_second: 3353.2324, train_label_loss: 0.4793, \n"
     ]
    },
    {
     "name": "stdout",
     "output_type": "stream",
     "text": [
      "epoch: 9, [batch: 16800 / 33600], examples_per_second: 3118.8543, train_label_loss: 0.3713, \n"
     ]
    },
    {
     "name": "stdout",
     "output_type": "stream",
     "text": [
      "epoch: 9, [batch: 20160 / 33600], examples_per_second: 2996.7471, train_label_loss: 0.3835, \n"
     ]
    },
    {
     "name": "stdout",
     "output_type": "stream",
     "text": [
      "epoch: 9, [batch: 23520 / 33600], examples_per_second: 3301.1619, train_label_loss: 0.4019, \n"
     ]
    },
    {
     "name": "stdout",
     "output_type": "stream",
     "text": [
      "epoch: 9, [batch: 26880 / 33600], examples_per_second: 3491.6951, train_label_loss: 0.4042, \n"
     ]
    },
    {
     "name": "stdout",
     "output_type": "stream",
     "text": [
      "epoch: 9, [batch: 30240 / 33600], examples_per_second: 3570.8341, train_label_loss: 0.4803, \n"
     ]
    },
    {
     "name": "stdout",
     "output_type": "stream",
     "text": [
      "=============================================================\n",
      "epoch: 9, source_val_acc_label: 0.7283, target_val_acc_label: 0.7819, source_val_label_loss: 0.7754, target_val_label_loss: 9.6977, \n",
      "=============================================================\n"
     ]
    },
    {
     "name": "stdout",
     "output_type": "stream",
     "text": [
      "New best\n"
     ]
    },
    {
     "name": "stdout",
     "output_type": "stream",
     "text": [
      "epoch: 10, [batch: 1 / 33600], examples_per_second: 0.8113, train_label_loss: 0.5416, \n"
     ]
    },
    {
     "name": "stdout",
     "output_type": "stream",
     "text": [
      "epoch: 10, [batch: 3360 / 33600], examples_per_second: 3420.9844, train_label_loss: 0.3729, \n"
     ]
    },
    {
     "name": "stdout",
     "output_type": "stream",
     "text": [
      "epoch: 10, [batch: 6720 / 33600], examples_per_second: 3424.4885, train_label_loss: 0.2245, \n"
     ]
    },
    {
     "name": "stdout",
     "output_type": "stream",
     "text": [
      "epoch: 10, [batch: 10080 / 33600], examples_per_second: 3411.4497, train_label_loss: 0.8177, \n"
     ]
    },
    {
     "name": "stdout",
     "output_type": "stream",
     "text": [
      "epoch: 10, [batch: 13440 / 33600], examples_per_second: 3384.2825, train_label_loss: 0.2709, \n"
     ]
    },
    {
     "name": "stdout",
     "output_type": "stream",
     "text": [
      "epoch: 10, [batch: 16800 / 33600], examples_per_second: 3821.5223, train_label_loss: 0.4593, \n"
     ]
    },
    {
     "name": "stdout",
     "output_type": "stream",
     "text": [
      "epoch: 10, [batch: 20160 / 33600], examples_per_second: 3908.7448, train_label_loss: 0.2012, \n"
     ]
    },
    {
     "name": "stdout",
     "output_type": "stream",
     "text": [
      "epoch: 10, [batch: 23520 / 33600], examples_per_second: 3842.3921, train_label_loss: 0.2304, \n"
     ]
    },
    {
     "name": "stdout",
     "output_type": "stream",
     "text": [
      "epoch: 10, [batch: 26880 / 33600], examples_per_second: 4040.7990, train_label_loss: 0.2351, \n"
     ]
    },
    {
     "name": "stdout",
     "output_type": "stream",
     "text": [
      "epoch: 10, [batch: 30240 / 33600], examples_per_second: 4645.1163, train_label_loss: 0.4816, \n"
     ]
    },
    {
     "name": "stdout",
     "output_type": "stream",
     "text": [
      "=============================================================\n",
      "epoch: 10, source_val_acc_label: 0.7296, target_val_acc_label: 0.7866, source_val_label_loss: 0.7892, target_val_label_loss: 10.3294, \n",
      "=============================================================\n"
     ]
    },
    {
     "name": "stdout",
     "output_type": "stream",
     "text": [
      "New best\n"
     ]
    },
    {
     "name": "stdout",
     "output_type": "stream",
     "text": [
      "epoch: 11, [batch: 1 / 33600], examples_per_second: 0.9759, train_label_loss: 0.4035, \n"
     ]
    },
    {
     "name": "stdout",
     "output_type": "stream",
     "text": [
      "epoch: 11, [batch: 3360 / 33600], examples_per_second: 3011.7959, train_label_loss: 0.3967, \n"
     ]
    },
    {
     "name": "stdout",
     "output_type": "stream",
     "text": [
      "epoch: 11, [batch: 6720 / 33600], examples_per_second: 3173.5676, train_label_loss: 0.1708, \n"
     ]
    },
    {
     "name": "stdout",
     "output_type": "stream",
     "text": [
      "epoch: 11, [batch: 10080 / 33600], examples_per_second: 3398.3418, train_label_loss: 0.4674, \n"
     ]
    },
    {
     "name": "stdout",
     "output_type": "stream",
     "text": [
      "epoch: 11, [batch: 13440 / 33600], examples_per_second: 2968.4438, train_label_loss: 0.1532, \n"
     ]
    },
    {
     "name": "stdout",
     "output_type": "stream",
     "text": [
      "epoch: 11, [batch: 16800 / 33600], examples_per_second: 3045.2776, train_label_loss: 0.3596, \n"
     ]
    },
    {
     "name": "stdout",
     "output_type": "stream",
     "text": [
      "epoch: 11, [batch: 20160 / 33600], examples_per_second: 3400.8841, train_label_loss: 0.2548, \n"
     ]
    },
    {
     "name": "stdout",
     "output_type": "stream",
     "text": [
      "epoch: 11, [batch: 23520 / 33600], examples_per_second: 3202.7139, train_label_loss: 0.3261, \n"
     ]
    },
    {
     "name": "stdout",
     "output_type": "stream",
     "text": [
      "epoch: 11, [batch: 26880 / 33600], examples_per_second: 3137.5325, train_label_loss: 0.3673, \n"
     ]
    },
    {
     "name": "stdout",
     "output_type": "stream",
     "text": [
      "epoch: 11, [batch: 30240 / 33600], examples_per_second: 3698.5476, train_label_loss: 0.6248, \n"
     ]
    },
    {
     "name": "stdout",
     "output_type": "stream",
     "text": [
      "=============================================================\n",
      "epoch: 11, source_val_acc_label: 0.7269, target_val_acc_label: 0.7938, source_val_label_loss: 0.7981, target_val_label_loss: 10.5069, \n",
      "=============================================================\n"
     ]
    },
    {
     "name": "stdout",
     "output_type": "stream",
     "text": [
      "New best\n"
     ]
    },
    {
     "name": "stdout",
     "output_type": "stream",
     "text": [
      "epoch: 12, [batch: 1 / 33600], examples_per_second: 0.7834, train_label_loss: 0.3944, \n"
     ]
    },
    {
     "name": "stdout",
     "output_type": "stream",
     "text": [
      "epoch: 12, [batch: 3360 / 33600], examples_per_second: 3397.4308, train_label_loss: 0.3803, \n"
     ]
    },
    {
     "name": "stdout",
     "output_type": "stream",
     "text": [
      "epoch: 12, [batch: 6720 / 33600], examples_per_second: 3250.3116, train_label_loss: 0.4701, \n"
     ]
    },
    {
     "name": "stdout",
     "output_type": "stream",
     "text": [
      "epoch: 12, [batch: 10080 / 33600], examples_per_second: 3015.2359, train_label_loss: 0.3543, \n"
     ]
    },
    {
     "name": "stdout",
     "output_type": "stream",
     "text": [
      "epoch: 12, [batch: 13440 / 33600], examples_per_second: 3200.9049, train_label_loss: 0.3315, \n"
     ]
    },
    {
     "name": "stdout",
     "output_type": "stream",
     "text": [
      "epoch: 12, [batch: 16800 / 33600], examples_per_second: 3453.4313, train_label_loss: 0.6873, \n"
     ]
    },
    {
     "name": "stdout",
     "output_type": "stream",
     "text": [
      "epoch: 12, [batch: 20160 / 33600], examples_per_second: 3012.9620, train_label_loss: 0.1015, \n"
     ]
    },
    {
     "name": "stdout",
     "output_type": "stream",
     "text": [
      "epoch: 12, [batch: 23520 / 33600], examples_per_second: 3018.1520, train_label_loss: 0.0953, \n"
     ]
    },
    {
     "name": "stdout",
     "output_type": "stream",
     "text": [
      "epoch: 12, [batch: 26880 / 33600], examples_per_second: 3520.5064, train_label_loss: 0.4367, \n"
     ]
    },
    {
     "name": "stdout",
     "output_type": "stream",
     "text": [
      "epoch: 12, [batch: 30240 / 33600], examples_per_second: 3885.4696, train_label_loss: 0.3864, \n"
     ]
    },
    {
     "name": "stdout",
     "output_type": "stream",
     "text": [
      "=============================================================\n",
      "epoch: 12, source_val_acc_label: 0.7284, target_val_acc_label: 0.7891, source_val_label_loss: 0.8204, target_val_label_loss: 11.1214, \n",
      "=============================================================\n"
     ]
    },
    {
     "name": "stdout",
     "output_type": "stream",
     "text": [
      "epoch: 13, [batch: 1 / 33600], examples_per_second: 0.8725, train_label_loss: 0.3404, \n"
     ]
    },
    {
     "name": "stdout",
     "output_type": "stream",
     "text": [
      "epoch: 13, [batch: 3360 / 33600], examples_per_second: 3393.9395, train_label_loss: 0.5471, \n"
     ]
    },
    {
     "name": "stdout",
     "output_type": "stream",
     "text": [
      "epoch: 13, [batch: 6720 / 33600], examples_per_second: 3667.2544, train_label_loss: 0.3564, \n"
     ]
    },
    {
     "name": "stdout",
     "output_type": "stream",
     "text": [
      "epoch: 13, [batch: 10080 / 33600], examples_per_second: 3932.2470, train_label_loss: 0.6278, \n"
     ]
    },
    {
     "name": "stdout",
     "output_type": "stream",
     "text": [
      "epoch: 13, [batch: 13440 / 33600], examples_per_second: 3845.3016, train_label_loss: 0.4632, \n"
     ]
    },
    {
     "name": "stdout",
     "output_type": "stream",
     "text": [
      "epoch: 13, [batch: 16800 / 33600], examples_per_second: 3957.9947, train_label_loss: 0.0720, \n"
     ]
    },
    {
     "name": "stdout",
     "output_type": "stream",
     "text": [
      "epoch: 13, [batch: 20160 / 33600], examples_per_second: 3876.7439, train_label_loss: 0.2808, \n"
     ]
    },
    {
     "name": "stdout",
     "output_type": "stream",
     "text": [
      "epoch: 13, [batch: 23520 / 33600], examples_per_second: 3012.4473, train_label_loss: 0.4707, \n"
     ]
    },
    {
     "name": "stdout",
     "output_type": "stream",
     "text": [
      "epoch: 13, [batch: 26880 / 33600], examples_per_second: 3061.0989, train_label_loss: 0.4296, \n"
     ]
    },
    {
     "name": "stdout",
     "output_type": "stream",
     "text": [
      "epoch: 13, [batch: 30240 / 33600], examples_per_second: 3721.5427, train_label_loss: 0.2643, \n"
     ]
    },
    {
     "name": "stdout",
     "output_type": "stream",
     "text": [
      "=============================================================\n",
      "epoch: 13, source_val_acc_label: 0.7243, target_val_acc_label: 0.7935, source_val_label_loss: 0.8476, target_val_label_loss: 11.3316, \n",
      "=============================================================\n"
     ]
    },
    {
     "name": "stdout",
     "output_type": "stream",
     "text": [
      "epoch: 14, [batch: 1 / 33600], examples_per_second: 0.7777, train_label_loss: 0.2317, \n"
     ]
    },
    {
     "name": "stdout",
     "output_type": "stream",
     "text": [
      "epoch: 14, [batch: 3360 / 33600], examples_per_second: 3477.8115, train_label_loss: 0.1284, \n"
     ]
    },
    {
     "name": "stdout",
     "output_type": "stream",
     "text": [
      "epoch: 14, [batch: 6720 / 33600], examples_per_second: 3005.9548, train_label_loss: 0.1250, \n"
     ]
    },
    {
     "name": "stdout",
     "output_type": "stream",
     "text": [
      "epoch: 14, [batch: 10080 / 33600], examples_per_second: 3000.1304, train_label_loss: 0.5937, \n"
     ]
    },
    {
     "name": "stdout",
     "output_type": "stream",
     "text": [
      "epoch: 14, [batch: 13440 / 33600], examples_per_second: 3388.8741, train_label_loss: 0.1871, \n"
     ]
    },
    {
     "name": "stdout",
     "output_type": "stream",
     "text": [
      "epoch: 14, [batch: 16800 / 33600], examples_per_second: 3204.4054, train_label_loss: 0.1146, \n"
     ]
    },
    {
     "name": "stdout",
     "output_type": "stream",
     "text": [
      "epoch: 14, [batch: 20160 / 33600], examples_per_second: 2991.8276, train_label_loss: 0.2966, \n"
     ]
    },
    {
     "name": "stdout",
     "output_type": "stream",
     "text": [
      "epoch: 14, [batch: 23520 / 33600], examples_per_second: 3177.0092, train_label_loss: 0.4558, \n"
     ]
    },
    {
     "name": "stdout",
     "output_type": "stream",
     "text": [
      "epoch: 14, [batch: 26880 / 33600], examples_per_second: 3525.9819, train_label_loss: 0.1101, \n"
     ]
    },
    {
     "name": "stdout",
     "output_type": "stream",
     "text": [
      "epoch: 14, [batch: 30240 / 33600], examples_per_second: 3449.7622, train_label_loss: 0.6533, \n"
     ]
    },
    {
     "name": "stdout",
     "output_type": "stream",
     "text": [
      "=============================================================\n",
      "epoch: 14, source_val_acc_label: 0.7252, target_val_acc_label: 0.7950, source_val_label_loss: 0.8593, target_val_label_loss: 11.7241, \n",
      "=============================================================\n"
     ]
    },
    {
     "name": "stdout",
     "output_type": "stream",
     "text": [
      "New best\n"
     ]
    },
    {
     "name": "stdout",
     "output_type": "stream",
     "text": [
      "epoch: 15, [batch: 1 / 33600], examples_per_second: 0.8282, train_label_loss: 0.2969, \n"
     ]
    },
    {
     "name": "stdout",
     "output_type": "stream",
     "text": [
      "epoch: 15, [batch: 3360 / 33600], examples_per_second: 3483.0831, train_label_loss: 0.5659, \n"
     ]
    },
    {
     "name": "stdout",
     "output_type": "stream",
     "text": [
      "epoch: 15, [batch: 6720 / 33600], examples_per_second: 3413.2792, train_label_loss: 0.4970, \n"
     ]
    },
    {
     "name": "stdout",
     "output_type": "stream",
     "text": [
      "epoch: 15, [batch: 10080 / 33600], examples_per_second: 3392.9659, train_label_loss: 0.1035, \n"
     ]
    },
    {
     "name": "stdout",
     "output_type": "stream",
     "text": [
      "epoch: 15, [batch: 13440 / 33600], examples_per_second: 3410.0689, train_label_loss: 0.1090, \n"
     ]
    },
    {
     "name": "stdout",
     "output_type": "stream",
     "text": [
      "epoch: 15, [batch: 16800 / 33600], examples_per_second: 3722.5319, train_label_loss: 0.1950, \n"
     ]
    },
    {
     "name": "stdout",
     "output_type": "stream",
     "text": [
      "epoch: 15, [batch: 20160 / 33600], examples_per_second: 3946.0392, train_label_loss: 0.2525, \n"
     ]
    },
    {
     "name": "stdout",
     "output_type": "stream",
     "text": [
      "epoch: 15, [batch: 23520 / 33600], examples_per_second: 3952.6161, train_label_loss: 0.2412, \n"
     ]
    },
    {
     "name": "stdout",
     "output_type": "stream",
     "text": [
      "epoch: 15, [batch: 26880 / 33600], examples_per_second: 3940.8566, train_label_loss: 0.0884, \n"
     ]
    },
    {
     "name": "stdout",
     "output_type": "stream",
     "text": [
      "epoch: 15, [batch: 30240 / 33600], examples_per_second: 4354.2551, train_label_loss: 0.3339, \n"
     ]
    },
    {
     "name": "stdout",
     "output_type": "stream",
     "text": [
      "=============================================================\n",
      "epoch: 15, source_val_acc_label: 0.7205, target_val_acc_label: 0.7915, source_val_label_loss: 0.8922, target_val_label_loss: 12.1495, \n",
      "=============================================================\n"
     ]
    },
    {
     "name": "stdout",
     "output_type": "stream",
     "text": [
      "epoch: 16, [batch: 1 / 33600], examples_per_second: 1.0678, train_label_loss: 0.2278, \n"
     ]
    },
    {
     "name": "stdout",
     "output_type": "stream",
     "text": [
      "epoch: 16, [batch: 3360 / 33600], examples_per_second: 3258.0331, train_label_loss: 0.4807, \n"
     ]
    },
    {
     "name": "stdout",
     "output_type": "stream",
     "text": [
      "epoch: 16, [batch: 6720 / 33600], examples_per_second: 2982.2061, train_label_loss: 0.1035, \n"
     ]
    },
    {
     "name": "stdout",
     "output_type": "stream",
     "text": [
      "epoch: 16, [batch: 10080 / 33600], examples_per_second: 2987.9909, train_label_loss: 0.4476, \n"
     ]
    },
    {
     "name": "stdout",
     "output_type": "stream",
     "text": [
      "epoch: 16, [batch: 13440 / 33600], examples_per_second: 3011.3579, train_label_loss: 0.1181, \n"
     ]
    },
    {
     "name": "stdout",
     "output_type": "stream",
     "text": [
      "epoch: 16, [batch: 16800 / 33600], examples_per_second: 2978.0261, train_label_loss: 0.2182, \n"
     ]
    },
    {
     "name": "stdout",
     "output_type": "stream",
     "text": [
      "epoch: 16, [batch: 20160 / 33600], examples_per_second: 2973.4424, train_label_loss: 0.0343, \n"
     ]
    },
    {
     "name": "stdout",
     "output_type": "stream",
     "text": [
      "epoch: 16, [batch: 23520 / 33600], examples_per_second: 2990.9529, train_label_loss: 0.5275, \n"
     ]
    },
    {
     "name": "stdout",
     "output_type": "stream",
     "text": [
      "epoch: 16, [batch: 26880 / 33600], examples_per_second: 3003.8083, train_label_loss: 0.1529, \n"
     ]
    },
    {
     "name": "stdout",
     "output_type": "stream",
     "text": [
      "epoch: 16, [batch: 30240 / 33600], examples_per_second: 3379.1650, train_label_loss: 0.1161, \n"
     ]
    },
    {
     "name": "stdout",
     "output_type": "stream",
     "text": [
      "=============================================================\n",
      "epoch: 16, source_val_acc_label: 0.7219, target_val_acc_label: 0.7910, source_val_label_loss: 0.9052, target_val_label_loss: 12.5591, \n",
      "=============================================================\n"
     ]
    },
    {
     "name": "stdout",
     "output_type": "stream",
     "text": [
      "epoch: 17, [batch: 1 / 33600], examples_per_second: 0.8057, train_label_loss: 0.2565, \n"
     ]
    },
    {
     "name": "stdout",
     "output_type": "stream",
     "text": [
      "epoch: 17, [batch: 3360 / 33600], examples_per_second: 3243.9635, train_label_loss: 0.4614, \n"
     ]
    },
    {
     "name": "stdout",
     "output_type": "stream",
     "text": [
      "epoch: 17, [batch: 6720 / 33600], examples_per_second: 3060.1261, train_label_loss: 0.2960, \n"
     ]
    },
    {
     "name": "stdout",
     "output_type": "stream",
     "text": [
      "epoch: 17, [batch: 10080 / 33600], examples_per_second: 2985.5656, train_label_loss: 0.4701, \n"
     ]
    },
    {
     "name": "stdout",
     "output_type": "stream",
     "text": [
      "epoch: 17, [batch: 13440 / 33600], examples_per_second: 2989.8912, train_label_loss: 0.3089, \n"
     ]
    },
    {
     "name": "stdout",
     "output_type": "stream",
     "text": [
      "epoch: 17, [batch: 16800 / 33600], examples_per_second: 3012.4453, train_label_loss: 0.1374, \n"
     ]
    },
    {
     "name": "stdout",
     "output_type": "stream",
     "text": [
      "epoch: 17, [batch: 20160 / 33600], examples_per_second: 2987.4403, train_label_loss: 0.3731, \n"
     ]
    },
    {
     "name": "stdout",
     "output_type": "stream",
     "text": [
      "epoch: 17, [batch: 23520 / 33600], examples_per_second: 2990.1386, train_label_loss: 0.1797, \n"
     ]
    },
    {
     "name": "stdout",
     "output_type": "stream",
     "text": [
      "epoch: 17, [batch: 26880 / 33600], examples_per_second: 2978.6702, train_label_loss: 0.2976, \n"
     ]
    },
    {
     "name": "stdout",
     "output_type": "stream",
     "text": [
      "epoch: 17, [batch: 30240 / 33600], examples_per_second: 3378.4694, train_label_loss: 0.2923, \n"
     ]
    },
    {
     "name": "stdout",
     "output_type": "stream",
     "text": [
      "=============================================================\n",
      "epoch: 17, source_val_acc_label: 0.7245, target_val_acc_label: 0.7903, source_val_label_loss: 0.9547, target_val_label_loss: 13.4034, \n",
      "=============================================================\n"
     ]
    },
    {
     "name": "stdout",
     "output_type": "stream",
     "text": [
      "epoch: 18, [batch: 1 / 33600], examples_per_second: 0.8254, train_label_loss: 0.1622, \n"
     ]
    },
    {
     "name": "stdout",
     "output_type": "stream",
     "text": [
      "epoch: 18, [batch: 3360 / 33600], examples_per_second: 3159.6746, train_label_loss: 0.2659, \n"
     ]
    },
    {
     "name": "stdout",
     "output_type": "stream",
     "text": [
      "epoch: 18, [batch: 6720 / 33600], examples_per_second: 2999.3334, train_label_loss: 0.4750, \n"
     ]
    },
    {
     "name": "stdout",
     "output_type": "stream",
     "text": [
      "epoch: 18, [batch: 10080 / 33600], examples_per_second: 2995.2293, train_label_loss: 0.3701, \n"
     ]
    },
    {
     "name": "stdout",
     "output_type": "stream",
     "text": [
      "epoch: 18, [batch: 13440 / 33600], examples_per_second: 2960.1523, train_label_loss: 0.0587, \n"
     ]
    },
    {
     "name": "stdout",
     "output_type": "stream",
     "text": [
      "epoch: 18, [batch: 16800 / 33600], examples_per_second: 3012.5492, train_label_loss: 0.0274, \n"
     ]
    },
    {
     "name": "stdout",
     "output_type": "stream",
     "text": [
      "epoch: 18, [batch: 20160 / 33600], examples_per_second: 2985.8231, train_label_loss: 0.5993, \n"
     ]
    },
    {
     "name": "stdout",
     "output_type": "stream",
     "text": [
      "epoch: 18, [batch: 23520 / 33600], examples_per_second: 2996.3614, train_label_loss: 0.2583, \n"
     ]
    },
    {
     "name": "stdout",
     "output_type": "stream",
     "text": [
      "epoch: 18, [batch: 26880 / 33600], examples_per_second: 3018.5852, train_label_loss: 0.2527, \n"
     ]
    },
    {
     "name": "stdout",
     "output_type": "stream",
     "text": [
      "epoch: 18, [batch: 30240 / 33600], examples_per_second: 3347.3735, train_label_loss: 0.1527, \n"
     ]
    },
    {
     "name": "stdout",
     "output_type": "stream",
     "text": [
      "=============================================================\n",
      "epoch: 18, source_val_acc_label: 0.7206, target_val_acc_label: 0.7915, source_val_label_loss: 0.9777, target_val_label_loss: 13.6926, \n",
      "=============================================================\n"
     ]
    },
    {
     "name": "stdout",
     "output_type": "stream",
     "text": [
      "Patience (3) exhausted\n"
     ]
    }
   ],
   "source": [
    "###################################\n",
    "# train\n",
    "###################################\n",
    "jig = PTN_Train_Eval_Test_Jig(model, p.BEST_MODEL_PATH, p.device)\n",
    "\n",
    "jig.train(\n",
    "    train_iterable=datasets.source.processed.train,\n",
    "    source_val_iterable=datasets.source.processed.val,\n",
    "    target_val_iterable=datasets.target.processed.val,\n",
    "    num_epochs=p.n_epoch,\n",
    "    num_logs_per_epoch=p.NUM_LOGS_PER_EPOCH,\n",
    "    patience=p.patience,\n",
    "    optimizer=optimizer,\n",
    "    criteria_for_best=p.criteria_for_best,\n",
    ")"
   ]
  },
  {
   "cell_type": "code",
   "execution_count": 23,
   "id": "31e8fabf",
   "metadata": {
    "execution": {
     "iopub.execute_input": "2022-03-24T08:40:58.013255Z",
     "iopub.status.busy": "2022-03-24T08:40:58.012892Z",
     "iopub.status.idle": "2022-03-24T08:40:58.044346Z",
     "shell.execute_reply": "2022-03-24T08:40:58.043544Z"
    },
    "papermill": {
     "duration": 0.112745,
     "end_time": "2022-03-24T08:40:58.044506",
     "exception": false,
     "start_time": "2022-03-24T08:40:57.931761",
     "status": "completed"
    },
    "tags": []
   },
   "outputs": [],
   "source": [
    "total_experiment_time_secs = time.time() - start_time_secs"
   ]
  },
  {
   "cell_type": "code",
   "execution_count": 24,
   "id": "87b9595b",
   "metadata": {
    "execution": {
     "iopub.execute_input": "2022-03-24T08:40:58.212577Z",
     "iopub.status.busy": "2022-03-24T08:40:58.211742Z",
     "iopub.status.idle": "2022-03-24T08:51:38.815031Z",
     "shell.execute_reply": "2022-03-24T08:51:38.815360Z"
    },
    "papermill": {
     "duration": 640.688682,
     "end_time": "2022-03-24T08:51:38.815480",
     "exception": false,
     "start_time": "2022-03-24T08:40:58.126798",
     "status": "completed"
    },
    "tags": []
   },
   "outputs": [],
   "source": [
    "###################################\n",
    "# Evaluate the model\n",
    "###################################\n",
    "source_test_label_accuracy, source_test_label_loss = jig.test(datasets.source.processed.test)\n",
    "target_test_label_accuracy, target_test_label_loss = jig.test(datasets.target.processed.test)\n",
    "\n",
    "source_val_label_accuracy, source_val_label_loss = jig.test(datasets.source.processed.val)\n",
    "target_val_label_accuracy, target_val_label_loss = jig.test(datasets.target.processed.val)\n",
    "\n",
    "history = jig.get_history()\n",
    "\n",
    "total_epochs_trained = len(history[\"epoch_indices\"])\n",
    "\n",
    "val_dl = Iterable_Aggregator((datasets.source.original.val,datasets.target.original.val))\n",
    "\n",
    "confusion = ptn_confusion_by_domain_over_dataloader(model, p.device, val_dl)\n",
    "per_domain_accuracy = per_domain_accuracy_from_confusion(confusion)\n",
    "\n",
    "# Add a key to per_domain_accuracy for if it was a source domain\n",
    "for domain, accuracy in per_domain_accuracy.items():\n",
    "    per_domain_accuracy[domain] = {\n",
    "        \"accuracy\": accuracy,\n",
    "        \"source?\": domain in p.domains_source\n",
    "    }\n",
    "\n",
    "# Do an independent accuracy assesment JUST TO BE SURE!\n",
    "# _source_test_label_accuracy = independent_accuracy_assesment(model, datasets.source.processed.test, p.device)\n",
    "# _target_test_label_accuracy = independent_accuracy_assesment(model, datasets.target.processed.test, p.device)\n",
    "# _source_val_label_accuracy = independent_accuracy_assesment(model, datasets.source.processed.val, p.device)\n",
    "# _target_val_label_accuracy = independent_accuracy_assesment(model, datasets.target.processed.val, p.device)\n",
    "\n",
    "# assert(_source_test_label_accuracy == source_test_label_accuracy)\n",
    "# assert(_target_test_label_accuracy == target_test_label_accuracy)\n",
    "# assert(_source_val_label_accuracy == source_val_label_accuracy)\n",
    "# assert(_target_val_label_accuracy == target_val_label_accuracy)\n",
    "\n",
    "experiment = {\n",
    "    \"experiment_name\": p.experiment_name,\n",
    "    \"parameters\": dict(p),\n",
    "    \"results\": {\n",
    "        \"source_test_label_accuracy\": source_test_label_accuracy,\n",
    "        \"source_test_label_loss\": source_test_label_loss,\n",
    "        \"target_test_label_accuracy\": target_test_label_accuracy,\n",
    "        \"target_test_label_loss\": target_test_label_loss,\n",
    "        \"source_val_label_accuracy\": source_val_label_accuracy,\n",
    "        \"source_val_label_loss\": source_val_label_loss,\n",
    "        \"target_val_label_accuracy\": target_val_label_accuracy,\n",
    "        \"target_val_label_loss\": target_val_label_loss,\n",
    "        \"total_epochs_trained\": total_epochs_trained,\n",
    "        \"total_experiment_time_secs\": total_experiment_time_secs,\n",
    "        \"confusion\": confusion,\n",
    "        \"per_domain_accuracy\": per_domain_accuracy,\n",
    "    },\n",
    "    \"history\": history,\n",
    "    \"dataset_metrics\": get_dataset_metrics(datasets, \"ptn\"),\n",
    "}"
   ]
  },
  {
   "cell_type": "code",
   "execution_count": 25,
   "id": "54a21829",
   "metadata": {
    "execution": {
     "iopub.execute_input": "2022-03-24T08:51:39.008599Z",
     "iopub.status.busy": "2022-03-24T08:51:39.008228Z",
     "iopub.status.idle": "2022-03-24T08:51:39.231519Z",
     "shell.execute_reply": "2022-03-24T08:51:39.232212Z"
    },
    "papermill": {
     "duration": 0.331595,
     "end_time": "2022-03-24T08:51:39.232443",
     "exception": false,
     "start_time": "2022-03-24T08:51:38.900848",
     "status": "completed"
    },
    "tags": []
   },
   "outputs": [
    {
     "data": {
      "image/png": "[encoded data removed]",
      "text/plain": [
       "<Figure size 1080x504 with 1 Axes>"
      ]
     },
     "metadata": {
      "needs_background": "light"
     },
     "output_type": "display_data"
    }
   ],
   "source": [
    "ax = get_loss_curve(experiment)\n",
    "plt.show()"
   ]
  },
  {
   "cell_type": "code",
   "execution_count": 26,
   "id": "fd8a0f60",
   "metadata": {
    "execution": {
     "iopub.execute_input": "2022-03-24T08:51:39.400543Z",
     "iopub.status.busy": "2022-03-24T08:51:39.399898Z",
     "iopub.status.idle": "2022-03-24T08:51:39.776756Z",
     "shell.execute_reply": "2022-03-24T08:51:39.777287Z"
    },
    "papermill": {
     "duration": 0.460173,
     "end_time": "2022-03-24T08:51:39.777487",
     "exception": false,
     "start_time": "2022-03-24T08:51:39.317314",
     "status": "completed"
    },
    "tags": []
   },
   "outputs": [
    {
     "data": {
      "text/plain": [
       "<AxesSubplot:title={'center':'Results'}>"
      ]
     },
     "execution_count": 26,
     "metadata": {},
     "output_type": "execute_result"
    },
    {
     "data": {
      "image/png": "[encoded data removed]",
      "text/plain": [
       "<Figure size 1080x504 with 1 Axes>"
      ]
     },
     "metadata": {
      "needs_background": "light"
     },
     "output_type": "display_data"
    }
   ],
   "source": [
    "get_results_table(experiment)"
   ]
  },
  {
   "cell_type": "code",
   "execution_count": 27,
   "id": "cf8dc689",
   "metadata": {
    "execution": {
     "iopub.execute_input": "2022-03-24T08:51:39.950693Z",
     "iopub.status.busy": "2022-03-24T08:51:39.950322Z",
     "iopub.status.idle": "2022-03-24T08:51:40.212592Z",
     "shell.execute_reply": "2022-03-24T08:51:40.213279Z"
    },
    "papermill": {
     "duration": 0.348456,
     "end_time": "2022-03-24T08:51:40.213494",
     "exception": false,
     "start_time": "2022-03-24T08:51:39.865038",
     "status": "completed"
    },
    "tags": []
   },
   "outputs": [
    {
     "data": {
      "text/plain": [
       "<AxesSubplot:title={'center':'Per Domain Validation Accuracy'}, xlabel='domain'>"
      ]
     },
     "execution_count": 27,
     "metadata": {},
     "output_type": "execute_result"
    },
    {
     "data": {
      "image/png": "[encoded data removed]",
      "text/plain": [
       "<Figure size 1080x504 with 1 Axes>"
      ]
     },
     "metadata": {
      "needs_background": "light"
     },
     "output_type": "display_data"
    }
   ],
   "source": [
    "get_domain_accuracies(experiment)"
   ]
  },
  {
   "cell_type": "code",
   "execution_count": 28,
   "id": "a74ae082",
   "metadata": {
    "execution": {
     "iopub.execute_input": "2022-03-24T08:51:40.391215Z",
     "iopub.status.busy": "2022-03-24T08:51:40.390648Z",
     "iopub.status.idle": "2022-03-24T08:51:40.417223Z",
     "shell.execute_reply": "2022-03-24T08:51:40.416419Z"
    },
    "papermill": {
     "duration": 0.114909,
     "end_time": "2022-03-24T08:51:40.417388",
     "exception": false,
     "start_time": "2022-03-24T08:51:40.302479",
     "status": "completed"
    },
    "tags": []
   },
   "outputs": [
    {
     "name": "stdout",
     "output_type": "stream",
     "text": [
      "Source Test Label Accuracy: 0.7254622395833333 Target Test Label Accuracy: 0.7937306501547987\n",
      "Source Val Label Accuracy: 0.7251953125 Target Val Label Accuracy: 0.7950435586061246\n"
     ]
    }
   ],
   "source": [
    "print(\"Source Test Label Accuracy:\", experiment[\"results\"][\"source_test_label_accuracy\"], \"Target Test Label Accuracy:\", experiment[\"results\"][\"target_test_label_accuracy\"])\n",
    "print(\"Source Val Label Accuracy:\", experiment[\"results\"][\"source_val_label_accuracy\"], \"Target Val Label Accuracy:\", experiment[\"results\"][\"target_val_label_accuracy\"])"
   ]
  },
  {
   "cell_type": "code",
   "execution_count": 29,
   "id": "dacca602",
   "metadata": {
    "execution": {
     "iopub.execute_input": "2022-03-24T08:51:40.597301Z",
     "iopub.status.busy": "2022-03-24T08:51:40.596931Z",
     "iopub.status.idle": "2022-03-24T08:51:40.627450Z",
     "shell.execute_reply": "2022-03-24T08:51:40.628133Z"
    },
    "papermill": {
     "duration": 0.119432,
     "end_time": "2022-03-24T08:51:40.628339",
     "exception": false,
     "start_time": "2022-03-24T08:51:40.508907",
     "status": "completed"
    },
    "tags": [
     "experiment_json"
    ]
   },
   "outputs": [
    {
     "data": {
      "text/plain": [
       "'{\"experiment_name\": \"tl_1v2:wisig-oracle.run1\", \"parameters\": {\"experiment_name\": \"tl_1v2:wisig-oracle.run1\", \"device\": \"cuda\", \"lr\": 0.0001, \"n_shot\": 3, \"n_query\": 2, \"train_k_factor\": 3, \"val_k_factor\": 2, \"test_k_factor\": 2, \"torch_default_dtype\": \"torch.float32\", \"n_epoch\": 50, \"patience\": 3, \"criteria_for_best\": \"target_accuracy\", \"x_net\": [{\"class\": \"nnReshape\", \"kargs\": {\"shape\": [-1, 1, 2, 256]}}, {\"class\": \"Conv2d\", \"kargs\": {\"in_channels\": 1, \"out_channels\": 256, \"kernel_size\": [1, 7], \"bias\": false, \"padding\": [0, 3]}}, {\"class\": \"ReLU\", \"kargs\": {\"inplace\": true}}, {\"class\": \"BatchNorm2d\", \"kargs\": {\"num_features\": 256}}, {\"class\": \"Conv2d\", \"kargs\": {\"in_channels\": 256, \"out_channels\": 80, \"kernel_size\": [2, 7], \"bias\": true, \"padding\": [0, 3]}}, {\"class\": \"ReLU\", \"kargs\": {\"inplace\": true}}, {\"class\": \"BatchNorm2d\", \"kargs\": {\"num_features\": 80}}, {\"class\": \"Flatten\", \"kargs\": {}}, {\"class\": \"Linear\", \"kargs\": {\"in_features\": 20480, \"out_features\": 256}}, {\"class\": \"ReLU\", \"kargs\": {\"inplace\": true}}, {\"class\": \"BatchNorm1d\", \"kargs\": {\"num_features\": 256}}, {\"class\": \"Linear\", \"kargs\": {\"in_features\": 256, \"out_features\": 256}}], \"NUM_LOGS_PER_EPOCH\": 10, \"BEST_MODEL_PATH\": \"./best_model.pth\", \"n_way\": 16, \"datasets\": [{\"labels\": [\"1-10\", \"1-12\", \"1-14\", \"1-16\", \"1-18\", \"1-19\", \"1-8\", \"10-11\", \"10-17\", \"10-4\", \"10-7\", \"11-1\", \"11-10\", \"11-19\", \"11-20\", \"11-4\", \"11-7\", \"12-19\", \"12-20\", \"12-7\", \"13-14\", \"13-18\", \"13-19\", \"13-20\", \"13-3\", \"13-7\", \"14-10\", \"14-11\", \"14-12\", \"14-13\", \"14-14\", \"14-19\", \"14-20\", \"14-7\", \"14-8\", \"14-9\", \"15-1\", \"15-19\", \"15-6\", \"16-1\", \"16-16\", \"16-19\", \"16-20\", \"17-10\", \"17-11\", \"18-1\", \"18-10\", \"18-11\", \"18-12\", \"18-13\", \"18-14\", \"18-15\", \"18-16\", \"18-17\", \"18-19\", \"18-2\", \"18-20\", \"18-4\", \"18-5\", \"18-7\", \"18-8\", \"18-9\", \"19-1\", \"19-10\", \"19-11\", \"19-12\", \"19-13\", \"19-14\", \"19-15\", \"19-19\", \"19-2\", \"19-20\", \"19-3\", \"19-4\", \"19-6\", \"19-7\", \"19-8\", \"19-9\", \"2-1\", \"2-13\", \"2-15\", \"2-3\", \"2-4\", \"2-5\", \"2-6\", \"2-7\", \"2-8\", \"20-1\", \"20-12\", \"20-14\", \"20-15\", \"20-16\", \"20-18\", \"20-19\", \"20-20\", \"20-3\", \"20-4\", \"20-5\", \"20-7\", \"20-8\", \"3-1\", \"3-13\", \"3-18\", \"3-2\", \"3-8\", \"4-1\", \"4-10\", \"4-11\", \"5-1\", \"5-5\", \"6-1\", \"6-15\", \"6-6\", \"7-10\", \"7-11\", \"7-12\", \"7-13\", \"7-14\", \"7-7\", \"7-8\", \"7-9\", \"8-1\", \"8-13\", \"8-14\", \"8-18\", \"8-20\", \"8-3\", \"8-8\", \"9-1\", \"9-7\"], \"domains\": [1, 2, 3, 4], \"num_examples_per_domain_per_label\": -1, \"pickle_path\": \"/root/csc500-main/datasets/wisig.node3-19.stratified_ds.2022A.pkl\", \"source_or_target_dataset\": \"target\", \"x_transforms\": [\"unit_mag\"], \"episode_transforms\": [], \"domain_prefix\": \"Wisig_\"}, {\"labels\": [\"3123D52\", \"3123D65\", \"3123D79\", \"3123D80\", \"3123D54\", \"3123D70\", \"3123D7B\", \"3123D89\", \"3123D58\", \"3123D76\", \"3123D7D\", \"3123EFE\", \"3123D64\", \"3123D78\", \"3123D7E\", \"3124E4A\"], \"domains\": [32, 38, 8, 44, 14, 50, 20, 26], \"num_examples_per_domain_per_label\": 10000, \"pickle_path\": \"/root/csc500-main/datasets/oracle.Run1_10kExamples_stratified_ds.2022A.pkl\", \"source_or_target_dataset\": \"source\", \"x_transforms\": [\"unit_mag\"], \"episode_transforms\": [], \"domain_prefix\": \"ORACLE.run1\"}], \"dataset_seed\": 7, \"seed\": 7, \"x_shape\": [2, 256], \"domains_source\": [\"ORACLE.run132\", \"ORACLE.run138\", \"ORACLE.run18\", \"ORACLE.run144\", \"ORACLE.run114\", \"ORACLE.run150\", \"ORACLE.run120\", \"ORACLE.run126\"], \"domains_target\": [\"Wisig_1\", \"Wisig_2\", \"Wisig_3\", \"Wisig_4\"]}, \"results\": {\"source_test_label_accuracy\": 0.7254622395833333, \"source_test_label_loss\": 0.8564363718032837, \"target_test_label_accuracy\": 0.7937306501547987, \"target_test_label_loss\": 11.911906242370605, \"source_val_label_accuracy\": 0.7251953125, \"source_val_label_loss\": 0.8592837452888489, \"target_val_label_accuracy\": 0.7950435586061246, \"target_val_label_loss\": 11.72407341003418, \"total_epochs_trained\": 18, \"total_experiment_time_secs\": 16962.91809463501, \"confusion\": {\"ORACLE.run126\": {\"0\": {\"14\": 198, \"0\": 348, \"8\": 127, \"10\": 271, \"4\": 158, \"9\": 8, \"7\": 21, \"15\": 3, \"6\": 35, \"1\": 31}, \"4\": {\"4\": 492, \"7\": 112, \"1\": 89, \"10\": 61, \"0\": 157, \"14\": 208, \"8\": 75, \"3\": 4, \"2\": 2}, \"14\": {\"14\": 435, \"1\": 225, \"0\": 187, \"4\": 199, \"8\": 28, \"10\": 114, \"7\": 11, \"15\": 1}, \"12\": {\"12\": 1199, \"11\": 1}, \"8\": {\"7\": 85, \"0\": 121, \"8\": 478, \"2\": 30, \"4\": 105, \"10\": 140, \"15\": 63, \"1\": 5, \"14\": 17, \"6\": 34, \"9\": 102, \"5\": 13, \"3\": 7}, \"7\": {\"3\": 189, \"7\": 643, \"2\": 126, \"4\": 101, \"8\": 87, \"1\": 9, \"14\": 7, \"0\": 18, \"15\": 10, \"10\": 5, \"9\": 3, \"5\": 2}, \"13\": {\"13\": 871, \"15\": 72, \"2\": 21, \"6\": 9, \"5\": 214, \"9\": 13}, \"5\": {\"5\": 751, \"13\": 139, \"8\": 33, \"2\": 75, \"15\": 145, \"3\": 3, \"9\": 44, \"7\": 6, \"4\": 1, \"6\": 1, \"10\": 2}, \"15\": {\"15\": 492, \"2\": 27, \"9\": 334, \"8\": 85, \"13\": 49, \"5\": 124, \"6\": 47, \"10\": 16, \"7\": 16, \"0\": 6, \"3\": 3, \"4\": 1}, \"10\": {\"0\": 251, \"10\": 461, \"8\": 181, \"14\": 115, \"1\": 23, \"6\": 59, \"4\": 77, \"15\": 7, \"9\": 16, \"7\": 6, \"5\": 4}, \"3\": {\"3\": 704, \"7\": 193, \"4\": 9, \"2\": 289, \"15\": 3, \"5\": 1, \"9\": 1}, \"9\": {\"15\": 340, \"9\": 485, \"8\": 111, \"6\": 156, \"4\": 3, \"10\": 16, \"0\": 12, \"13\": 27, \"5\": 34, \"2\": 6, \"7\": 9, \"14\": 1}, \"6\": {\"6\": 839, \"10\": 72, \"9\": 178, \"15\": 43, \"13\": 7, \"0\": 25, \"8\": 33, \"5\": 2, \"14\": 1}, \"1\": {\"10\": 30, \"14\": 231, \"1\": 746, \"4\": 146, \"7\": 12, \"0\": 30, \"8\": 5}, \"11\": {\"11\": 1192, \"12\": 8}, \"2\": {\"2\": 442, \"7\": 135, \"3\": 383, \"5\": 125, \"15\": 53, \"0\": 4, \"13\": 6, \"8\": 35, \"9\": 9, \"4\": 7, \"10\": 1}}, \"ORACLE.run144\": {\"1\": {\"10\": 105, \"1\": 672, \"2\": 47, \"3\": 185, \"12\": 191}, \"11\": {\"11\": 1104, \"13\": 70, \"6\": 26}, \"3\": {\"1\": 104, \"3\": 1072, \"12\": 21, \"2\": 1, \"10\": 1, \"7\": 1}, \"6\": {\"6\": 819, \"13\": 222, \"9\": 116, \"2\": 1, \"7\": 28, \"11\": 14}, \"7\": {\"9\": 237, \"7\": 760, \"2\": 152, \"6\": 42, \"13\": 5, \"1\": 2, \"3\": 1, \"10\": 1}, \"5\": {\"8\": 11, \"5\": 1017, \"0\": 105, \"15\": 34, \"14\": 30, \"4\": 3}, \"2\": {\"2\": 869, \"1\": 50, \"7\": 169, \"10\": 92, \"3\": 11, \"9\": 4, \"12\": 2, \"6\": 3}, \"15\": {\"8\": 12, \"15\": 994, \"14\": 81, \"0\": 73, \"4\": 12, \"5\": 28}, \"10\": {\"10\": 860, \"12\": 112, \"2\": 97, \"1\": 128, \"7\": 3}, \"13\": {\"7\": 7, \"13\": 817, \"6\": 201, \"9\": 143, \"11\": 25, \"4\": 6, \"14\": 1}, \"8\": {\"8\": 731, \"0\": 421, \"5\": 13, \"15\": 35}, \"4\": {\"4\": 887, \"14\": 298, \"13\": 4, \"15\": 7, \"9\": 3, \"5\": 1}, \"9\": {\"7\": 248, \"13\": 142, \"9\": 687, \"6\": 111, \"4\": 2, \"2\": 10}, \"14\": {\"14\": 780, \"4\": 318, \"5\": 35, \"15\": 67}, \"0\": {\"8\": 332, \"0\": 734, \"5\": 72, \"15\": 62}, \"12\": {\"12\": 917, \"1\": 214, \"10\": 54, \"3\": 14, \"2\": 1}}, \"ORACLE.run150\": {\"15\": {\"1\": 179, \"6\": 24, \"4\": 81, \"15\": 885, \"11\": 31}, \"4\": {\"15\": 172, \"7\": 30, \"4\": 571, \"6\": 105, \"5\": 147, \"1\": 155, \"13\": 19, \"11\": 1}, \"6\": {\"6\": 878, \"1\": 99, \"13\": 75, \"7\": 18, \"4\": 71, \"5\": 29, \"15\": 30}, \"2\": {\"2\": 1116, \"0\": 84}, \"5\": {\"5\": 511, \"7\": 216, \"13\": 161, \"4\": 165, \"1\": 65, \"6\": 75, \"10\": 6, \"15\": 1}, \"9\": {\"9\": 949, \"11\": 168, \"12\": 83}, \"8\": {\"8\": 1169, \"3\": 13, \"10\": 18}, \"12\": {\"12\": 1099, \"9\": 66, \"14\": 29, \"11\": 6}, \"10\": {\"10\": 1112, \"13\": 24, \"7\": 17, \"0\": 30, \"8\": 16, \"5\": 1}, \"1\": {\"1\": 804, \"4\": 80, \"15\": 207, \"6\": 90, \"5\": 10, \"2\": 1, \"14\": 2, \"11\": 5, \"13\": 1}, \"0\": {\"10\": 48, \"0\": 1030, \"2\": 118, \"13\": 2, \"6\": 2}, \"3\": {\"3\": 1172, \"8\": 28}, \"13\": {\"13\": 794, \"7\": 179, \"5\": 137, \"6\": 64, \"4\": 9, \"1\": 4, \"10\": 12, \"0\": 1}, \"11\": {\"11\": 1041, \"9\": 121, \"15\": 22, \"1\": 2, \"12\": 4, \"14\": 10}, \"7\": {\"7\": 786, \"13\": 229, \"5\": 148, \"10\": 18, \"4\": 6, \"6\": 13}, \"14\": {\"14\": 1181, \"12\": 16, \"11\": 3}}, \"ORACLE.run138\": {\"15\": {\"15\": 927, \"1\": 75, \"13\": 128, \"8\": 39, \"10\": 6, \"5\": 20, \"2\": 4, \"0\": 1}, \"11\": {\"11\": 1068, \"14\": 116, \"2\": 4, \"10\": 10, \"12\": 2}, \"10\": {\"10\": 956, \"13\": 120, \"4\": 8, \"8\": 31, \"11\": 7, \"0\": 25, \"12\": 14, \"7\": 16, \"14\": 10, \"2\": 1, \"5\": 4, \"15\": 8}, \"14\": {\"14\": 1087, \"2\": 66, \"11\": 28, \"10\": 10, \"13\": 4, \"12\": 4, \"15\": 1}, \"6\": {\"6\": 1038, \"9\": 152, \"5\": 9, \"0\": 1}, \"4\": {\"4\": 1137, \"12\": 54, \"10\": 3, \"7\": 4, \"0\": 2}, \"13\": {\"10\": 102, \"13\": 911, \"15\": 142, \"2\": 27, \"8\": 8, \"1\": 6, \"5\": 3, \"0\": 1}, \"3\": {\"3\": 1123, \"9\": 38, \"0\": 24, \"5\": 3, \"7\": 11, \"6\": 1}, \"7\": {\"7\": 976, \"0\": 130, \"5\": 53, \"8\": 40, \"10\": 1}, \"8\": {\"8\": 712, \"5\": 249, \"0\": 130, \"15\": 29, \"10\": 12, \"7\": 62, \"13\": 4, \"6\": 1, \"1\": 1}, \"1\": {\"1\": 1147, \"15\": 50, \"5\": 2, \"8\": 1}, \"5\": {\"5\": 562, \"6\": 36, \"8\": 341, \"3\": 5, \"15\": 46, \"7\": 102, \"13\": 7, \"10\": 2, \"9\": 31, \"0\": 57, \"1\": 11}, \"0\": {\"0\": 610, \"10\": 24, \"7\": 204, \"8\": 204, \"3\": 62, \"5\": 88, \"4\": 2, \"12\": 4, \"9\": 2}, \"2\": {\"2\": 1101, \"14\": 70, \"13\": 28, \"10\": 1}, \"12\": {\"12\": 1168, \"10\": 5, \"4\": 27}, \"9\": {\"9\": 898, \"6\": 245, \"3\": 23, \"5\": 31, \"7\": 2, \"8\": 1}}, \"ORACLE.run120\": {\"10\": {\"10\": 1099, \"14\": 70, \"4\": 13, \"8\": 11, \"6\": 5, \"7\": 2}, \"7\": {\"7\": 842, \"8\": 61, \"9\": 56, \"3\": 27, \"6\": 24, \"2\": 173, \"13\": 4, \"12\": 5, \"10\": 2, \"4\": 5, \"14\": 1}, \"4\": {\"4\": 938, \"3\": 63, \"8\": 140, \"10\": 34, \"9\": 2, \"12\": 12, \"5\": 6, \"7\": 2, \"14\": 1, \"0\": 2}, \"13\": {\"13\": 1080, \"2\": 68, \"9\": 10, \"15\": 24, \"1\": 5, \"12\": 4, \"0\": 3, \"7\": 6}, \"1\": {\"15\": 173, \"12\": 210, \"0\": 20, \"1\": 564, \"9\": 18, \"5\": 168, \"3\": 34, \"2\": 11, \"13\": 2}, \"0\": {\"0\": 706, \"5\": 305, \"4\": 10, \"15\": 113, \"9\": 4, \"12\": 12, \"8\": 7, \"3\": 13, \"13\": 6, \"1\": 18, \"2\": 3, \"7\": 3}, \"12\": {\"12\": 469, \"1\": 184, \"9\": 103, \"5\": 104, \"3\": 250, \"15\": 25, \"0\": 5, \"2\": 47, \"4\": 7, \"13\": 3, \"7\": 3}, \"5\": {\"12\": 117, \"0\": 229, \"5\": 527, \"15\": 114, \"1\": 163, \"9\": 4, \"3\": 38, \"8\": 1, \"2\": 3, \"4\": 4}, \"6\": {\"6\": 1052, \"14\": 129, \"7\": 8, \"8\": 7, \"10\": 3, \"11\": 1}, \"2\": {\"3\": 66, \"2\": 558, \"9\": 277, \"7\": 153, \"12\": 68, \"13\": 55, \"5\": 6, \"1\": 12, \"15\": 4, \"4\": 1}, \"8\": {\"8\": 893, \"4\": 151, \"14\": 38, \"7\": 64, \"9\": 3, \"6\": 19, \"10\": 8, \"3\": 15, \"2\": 6, \"5\": 2, \"0\": 1}, \"11\": {\"11\": 1199, \"6\": 1}, \"9\": {\"7\": 38, \"9\": 533, \"2\": 290, \"12\": 106, \"3\": 206, \"1\": 15, \"5\": 2, \"8\": 2, \"4\": 3, \"13\": 4, \"10\": 1}, \"14\": {\"14\": 961, \"6\": 140, \"10\": 73, \"8\": 24, \"4\": 2}, \"15\": {\"15\": 793, \"1\": 160, \"5\": 115, \"12\": 26, \"0\": 65, \"13\": 34, \"2\": 6, \"3\": 1}, \"3\": {\"8\": 12, \"9\": 193, \"3\": 475, \"5\": 33, \"12\": 250, \"2\": 93, \"4\": 75, \"1\": 21, \"7\": 38, \"0\": 4, \"15\": 3, \"10\": 3}}, \"ORACLE.run114\": {\"14\": {\"14\": 981, \"13\": 65, \"2\": 84, \"6\": 23, \"3\": 42, \"4\": 3, \"10\": 1, \"0\": 1}, \"0\": {\"0\": 1109, \"10\": 49, \"3\": 25, \"11\": 17}, \"4\": {\"3\": 95, \"4\": 882, \"2\": 65, \"5\": 133, \"1\": 19, \"14\": 3, \"13\": 3}, \"11\": {\"11\": 1081, \"9\": 66, \"0\": 51, \"10\": 2}, \"13\": {\"6\": 461, \"13\": 452, \"2\": 102, \"14\": 159, \"4\": 7, \"5\": 8, \"15\": 7, \"3\": 1, \"10\": 3}, \"9\": {\"9\": 1194, \"11\": 4, \"0\": 1, \"12\": 1}, \"3\": {\"3\": 1011, \"2\": 24, \"4\": 107, \"5\": 12, \"14\": 34, \"1\": 1, \"10\": 1, \"0\": 10}, \"6\": {\"13\": 422, \"6\": 686, \"14\": 44, \"2\": 46, \"3\": 1, \"4\": 1}, \"1\": {\"1\": 1093, \"5\": 98, \"4\": 7, \"7\": 2}, \"5\": {\"1\": 152, \"5\": 788, \"4\": 175, \"2\": 59, \"3\": 13, \"15\": 3, \"7\": 10}, \"12\": {\"12\": 1191, \"9\": 9}, \"10\": {\"10\": 1162, \"0\": 37, \"3\": 1}, \"8\": {\"8\": 1200}, \"7\": {\"7\": 1174, \"15\": 10, \"5\": 5, \"1\": 11}, \"15\": {\"15\": 1177, \"7\": 21, \"2\": 2}, \"2\": {\"5\": 115, \"2\": 604, \"14\": 171, \"6\": 73, \"4\": 88, \"13\": 60, \"3\": 57, \"15\": 29, \"7\": 2, \"1\": 1}}, \"ORACLE.run132\": {\"11\": {\"14\": 172, \"11\": 978, \"7\": 16, \"13\": 17, \"3\": 12, \"5\": 4, \"4\": 1}, \"1\": {\"1\": 1183, \"10\": 17}, \"2\": {\"2\": 974, \"4\": 183, \"7\": 18, \"5\": 5, \"0\": 18, \"13\": 2}, \"0\": {\"0\": 861, \"8\": 128, \"5\": 24, \"13\": 15, \"4\": 76, \"14\": 31, \"7\": 35, \"2\": 30}, \"3\": {\"3\": 1108, \"11\": 19, \"14\": 4, \"8\": 13, \"13\": 38, \"5\": 17, \"7\": 1}, \"8\": {\"8\": 918, \"3\": 11, \"0\": 117, \"5\": 60, \"13\": 81, \"4\": 3, \"14\": 6, \"7\": 4}, \"12\": {\"12\": 1200}, \"5\": {\"7\": 136, \"3\": 49, \"5\": 479, \"4\": 120, \"13\": 259, \"14\": 22, \"0\": 54, \"8\": 70, \"11\": 3, \"2\": 8}, \"15\": {\"15\": 1190, \"8\": 9, \"3\": 1}, \"7\": {\"7\": 551, \"14\": 157, \"13\": 84, \"11\": 25, \"5\": 160, \"4\": 162, \"2\": 31, \"8\": 5, \"0\": 23, \"3\": 2}, \"4\": {\"4\": 699, \"13\": 58, \"7\": 95, \"14\": 7, \"5\": 83, \"2\": 222, \"0\": 34, \"8\": 2}, \"14\": {\"2\": 11, \"14\": 579, \"7\": 167, \"11\": 278, \"13\": 50, \"5\": 34, \"0\": 47, \"8\": 9, \"4\": 13, \"3\": 12}, \"10\": {\"10\": 1194, \"1\": 6}, \"6\": {\"6\": 1200}, \"13\": {\"8\": 65, \"14\": 29, \"4\": 88, \"5\": 243, \"13\": 576, \"3\": 78, \"7\": 85, \"11\": 24, \"0\": 11, \"2\": 1}, \"9\": {\"9\": 1193, \"2\": 1, \"12\": 6}}, \"ORACLE.run18\": {\"9\": {\"9\": 1200}, \"11\": {\"11\": 816, \"1\": 343, \"5\": 13, \"14\": 18, \"8\": 8, \"4\": 1, \"10\": 1}, \"8\": {\"8\": 1125, \"15\": 54, \"6\": 10, \"7\": 3, \"12\": 6, \"11\": 2}, \"4\": {\"4\": 592, \"6\": 132, \"0\": 62, \"14\": 170, \"13\": 192, \"10\": 44, \"1\": 3, \"11\": 2, \"7\": 3}, \"13\": {\"13\": 387, \"10\": 134, \"4\": 212, \"0\": 313, \"14\": 104, \"6\": 40, \"1\": 4, \"7\": 6}, \"14\": {\"4\": 186, \"11\": 17, \"14\": 638, \"10\": 192, \"6\": 6, \"13\": 83, \"1\": 71, \"5\": 4, \"0\": 2, \"7\": 1}, \"2\": {\"2\": 1001, \"3\": 132, \"7\": 17, \"12\": 20, \"15\": 29, \"8\": 1}, \"3\": {\"3\": 1023, \"12\": 72, \"2\": 102, \"15\": 3}, \"1\": {\"1\": 846, \"11\": 259, \"14\": 65, \"5\": 15, \"10\": 12, \"6\": 2, \"4\": 1}, \"0\": {\"13\": 273, \"0\": 721, \"7\": 81, \"6\": 69, \"4\": 46, \"10\": 10}, \"5\": {\"5\": 1042, \"1\": 55, \"10\": 86, \"14\": 11, \"11\": 5, \"13\": 1}, \"15\": {\"15\": 817, \"8\": 66, \"12\": 300, \"3\": 9, \"2\": 8}, \"10\": {\"10\": 786, \"14\": 226, \"13\": 112, \"4\": 33, \"0\": 8, \"5\": 23, \"1\": 12}, \"12\": {\"3\": 169, \"15\": 364, \"12\": 636, \"8\": 22, \"2\": 9}, \"6\": {\"6\": 724, \"4\": 117, \"7\": 270, \"0\": 52, \"13\": 24, \"8\": 11, \"14\": 2}, \"7\": {\"7\": 862, \"6\": 279, \"0\": 44, \"13\": 5, \"4\": 6, \"8\": 3, \"2\": 1}}, \"Wisig_4\": {\"71\": {\"114\": 11, \"71\": 77, \"55\": 2, \"1\": 3, \"4\": 3, \"124\": 5, \"43\": 1, \"84\": 1, \"110\": 1}, \"17\": {\"17\": 20}, \"105\": {\"105\": 70, \"14\": 2, \"88\": 2, \"107\": 5, \"109\": 1, \"40\": 4, \"12\": 1, \"126\": 2, \"39\": 1, \"10\": 1, \"104\": 2, \"87\": 1, \"32\": 2, \"99\": 2, \"7\": 1, \"27\": 1, \"36\": 1, \"114\": 1}, \"92\": {\"92\": 25, \"15\": 1, \"45\": 2}, \"100\": {\"100\": 20}, \"6\": {\"6\": 16, \"68\": 1, \"94\": 2, \"12\": 2, \"111\": 1, \"125\": 2}, \"36\": {\"36\": 90, \"24\": 10, \"15\": 3, \"94\": 8, \"27\": 1, \"10\": 12, \"26\": 1, \"30\": 2, \"18\": 1}, \"35\": {\"35\": 9, \"63\": 1, \"117\": 2}, \"63\": {\"63\": 15, \"113\": 1}, \"104\": {\"104\": 16}, \"114\": {\"114\": 97, \"71\": 10, \"83\": 1, \"86\": 1, \"127\": 1, \"7\": 2, \"30\": 1, \"98\": 2, \"87\": 2, \"107\": 1, \"124\": 4, \"44\": 1, \"24\": 2, \"105\": 1, \"1\": 2}, \"68\": {\"68\": 11, \"91\": 1, \"127\": 1, \"95\": 1, \"111\": 1, \"12\": 1}, \"109\": {\"109\": 63, \"92\": 1, \"84\": 7, \"61\": 1, \"88\": 2, \"80\": 1, \"118\": 2, \"90\": 14, \"44\": 3, \"117\": 1, \"102\": 4, \"122\": 2, \"69\": 4, \"96\": 1, \"20\": 1, \"126\": 1, \"110\": 1, \"113\": 2, \"39\": 1, \"43\": 4}, \"27\": {\"27\": 74, \"81\": 1, \"10\": 3, \"78\": 1, \"8\": 6, \"111\": 1, \"106\": 1, \"30\": 6, \"0\": 2, \"126\": 1, \"88\": 1, \"24\": 3}, \"79\": {\"79\": 16}, \"0\": {\"0\": 76, \"53\": 2, \"111\": 2, \"101\": 11, \"10\": 1, \"70\": 2, \"118\": 1, \"8\": 3, \"39\": 1, \"126\": 2, \"27\": 1, \"106\": 1, \"107\": 1, \"1\": 1, \"14\": 1}, \"28\": {\"28\": 18, \"107\": 1, \"101\": 1}, \"4\": {\"4\": 99, \"26\": 1, \"109\": 1, \"85\": 1, \"98\": 2}, \"106\": {\"106\": 68, \"68\": 1, \"21\": 1, \"111\": 6, \"12\": 7, \"127\": 1, \"0\": 5, \"8\": 2, \"113\": 1, \"125\": 1, \"101\": 5, \"98\": 2, \"108\": 1, \"88\": 1}, \"40\": {\"40\": 125, \"107\": 3, \"62\": 1, \"16\": 1, \"43\": 1, \"33\": 1, \"69\": 1, \"18\": 1}, \"127\": {\"127\": 92, \"52\": 2, \"38\": 1, \"120\": 2, \"34\": 2, \"110\": 1, \"85\": 2, \"95\": 2, \"101\": 2, \"12\": 2}, \"57\": {\"57\": 12, \"88\": 1, \"67\": 1, \"102\": 1, \"27\": 1}, \"60\": {\"60\": 5, \"4\": 1, \"72\": 1, \"74\": 3, \"71\": 1, \"88\": 1, \"122\": 3, \"129\": 2, \"11\": 3, \"46\": 1, \"14\": 1, \"124\": 1, \"49\": 3, \"33\": 2, \"43\": 2, \"109\": 1, \"70\": 1}, \"69\": {\"69\": 108, \"84\": 3, \"62\": 6, \"27\": 1, \"126\": 1, \"102\": 4, \"3\": 1}, \"84\": {\"84\": 106, \"35\": 1, \"57\": 2, \"78\": 1, \"69\": 5, \"121\": 1, \"44\": 1, \"102\": 6, \"90\": 2, \"118\": 4, \"126\": 1, \"43\": 2}, \"24\": {\"24\": 73, \"25\": 2, \"10\": 13, \"21\": 1, \"97\": 1, \"18\": 3, \"27\": 8, \"94\": 2, \"30\": 7, \"108\": 1, \"15\": 3, \"9\": 1, \"84\": 1, \"8\": 1, \"36\": 2, \"127\": 1}, \"94\": {\"96\": 1, \"94\": 63, \"15\": 6, \"36\": 6, \"30\": 3, \"108\": 1, \"54\": 1, \"125\": 2, \"6\": 1, \"88\": 2, \"126\": 1, \"10\": 1}, \"7\": {\"7\": 105, \"96\": 1, \"105\": 6, \"109\": 1, \"126\": 1, \"10\": 1, \"87\": 3, \"80\": 1, \"5\": 1}, \"96\": {\"96\": 11, \"109\": 1, \"59\": 1, \"127\": 2, \"84\": 1, \"121\": 2, \"91\": 1, \"105\": 1}, \"116\": {\"116\": 17, \"76\": 1, \"33\": 3, \"99\": 1, \"32\": 1, \"90\": 1, \"44\": 2, \"102\": 2}, \"47\": {\"47\": 7, \"24\": 1, \"37\": 1, \"127\": 1, \"65\": 1, \"97\": 1}, \"119\": {\"119\": 13, \"25\": 1, \"66\": 1, \"95\": 1}, \"74\": {\"32\": 2, \"74\": 12, \"113\": 1, \"107\": 1}, \"93\": {\"93\": 144, \"5\": 2, \"39\": 1, \"14\": 2, \"108\": 1, \"110\": 2}, \"2\": {\"109\": 2, \"2\": 10, \"96\": 3, \"26\": 1, \"122\": 1, \"16\": 2, \"90\": 1, \"81\": 1, \"66\": 2, \"18\": 1, \"117\": 1, \"93\": 1, \"121\": 2}, \"37\": {\"37\": 13, \"51\": 1, \"125\": 2}, \"15\": {\"15\": 114, \"54\": 2, \"106\": 4, \"26\": 1, \"30\": 2, \"59\": 1, \"6\": 1, \"10\": 1, \"69\": 1, \"110\": 1}, \"102\": {\"102\": 130, \"109\": 2, \"48\": 1, \"90\": 2, \"84\": 1}, \"87\": {\"87\": 77, \"113\": 1, \"105\": 8, \"107\": 13, \"7\": 7, \"3\": 2, \"126\": 1, \"40\": 3, \"11\": 5, \"14\": 2, \"118\": 1, \"99\": 1, \"43\": 1}, \"107\": {\"107\": 136, \"33\": 1, \"40\": 3, \"108\": 1, \"5\": 1, \"11\": 2}, \"61\": {\"61\": 14, \"91\": 1, \"21\": 1}, \"78\": {\"74\": 1, \"119\": 1, \"43\": 1, \"93\": 2, \"78\": 12, \"50\": 1, \"26\": 1, \"7\": 2, \"13\": 1, \"107\": 1, \"8\": 1, \"87\": 1, \"3\": 1, \"105\": 1, \"51\": 1, \"88\": 1, \"79\": 1, \"89\": 1, \"73\": 1, \"23\": 2, \"72\": 1, \"110\": 1}, \"9\": {\"9\": 28}, \"32\": {\"32\": 26, \"107\": 1, \"82\": 1}, \"14\": {\"14\": 105, \"122\": 1, \"82\": 1, \"5\": 2, \"20\": 1, \"74\": 1, \"43\": 1}, \"62\": {\"62\": 46, \"48\": 2, \"116\": 2, \"118\": 1, \"81\": 1, \"88\": 1, \"102\": 4, \"117\": 1, \"69\": 1, \"108\": 1}, \"1\": {\"25\": 1, \"1\": 68, \"99\": 1, \"49\": 1, \"71\": 12, \"11\": 4, \"3\": 4, \"12\": 1, \"87\": 2, \"114\": 3, \"79\": 2, \"107\": 1, \"24\": 1, \"15\": 1}, \"23\": {\"23\": 3, \"62\": 1, \"103\": 1, \"63\": 1, \"91\": 2, \"113\": 2, \"110\": 1, \"2\": 1, \"117\": 1, \"0\": 1, \"12\": 2}, \"95\": {\"95\": 29, \"55\": 1, \"4\": 1, \"76\": 1}, \"56\": {\"56\": 12}, \"91\": {\"91\": 16, \"68\": 1, \"124\": 1, \"29\": 3, \"95\": 1, \"127\": 2}, \"34\": {\"34\": 6, \"1\": 1, \"83\": 6, \"119\": 2, \"86\": 2, \"49\": 2, \"125\": 1, \"8\": 1, \"114\": 1, \"29\": 3, \"46\": 1, \"4\": 1, \"93\": 1, \"120\": 1, \"129\": 2, \"127\": 1}, \"25\": {\"25\": 16}, \"33\": {\"33\": 118, \"62\": 1, \"122\": 1, \"118\": 2, \"38\": 1, \"116\": 1}, \"16\": {\"16\": 107, \"69\": 2, \"81\": 1, \"121\": 2, \"117\": 1, \"90\": 1, \"18\": 1, \"84\": 4, \"87\": 1, \"113\": 4}, \"26\": {\"26\": 100, \"113\": 4, \"21\": 1, \"117\": 5, \"3\": 1, \"18\": 11, \"121\": 2, \"126\": 2}, \"5\": {\"5\": 113, \"26\": 2, \"72\": 2, \"93\": 2, \"1\": 2, \"110\": 7, \"43\": 2, \"39\": 1, \"81\": 1, \"102\": 1, \"88\": 1, \"122\": 2}, \"123\": {\"123\": 13, \"6\": 1, \"63\": 2}, \"8\": {\"8\": 96, \"9\": 4, \"101\": 9, \"111\": 4, \"0\": 4, \"5\": 1}, \"83\": {\"83\": 18, \"71\": 4, \"46\": 1, \"19\": 1, \"50\": 1, \"51\": 1, \"105\": 1, \"7\": 1}, \"125\": {\"125\": 128, \"29\": 2, \"127\": 2, \"94\": 2}, \"51\": {\"111\": 3, \"127\": 1, \"26\": 1, \"51\": 3, \"71\": 1, \"106\": 2, \"75\": 2, \"68\": 1, \"23\": 1, \"59\": 1}, \"22\": {\"22\": 14, \"74\": 2}, \"54\": {\"54\": 16}, \"66\": {\"66\": 14, \"84\": 1, \"13\": 1}, \"59\": {\"54\": 1, \"77\": 1, \"59\": 7, \"111\": 1, \"52\": 1, \"21\": 1}, \"111\": {\"111\": 115, \"12\": 4, \"101\": 5, \"127\": 2, \"5\": 1, \"11\": 1}, \"77\": {\"77\": 11, \"58\": 1}, \"103\": {\"103\": 16}, \"20\": {\"20\": 15, \"28\": 1}, \"124\": {\"124\": 116, \"18\": 1, \"4\": 1, \"26\": 1, \"84\": 1}, \"99\": {\"76\": 2, \"99\": 31, \"115\": 2, \"50\": 2, \"107\": 1, \"69\": 1, \"40\": 1}, \"120\": {\"91\": 1, \"120\": 18, \"21\": 1}, \"76\": {\"76\": 13, \"5\": 1, \"107\": 2}, \"110\": {\"110\": 85, \"20\": 1, \"45\": 1, \"108\": 2, \"19\": 1, \"33\": 1, \"5\": 11, \"122\": 1, \"113\": 1, \"14\": 1, \"126\": 1, \"16\": 1, \"93\": 1, \"27\": 1, \"109\": 1, \"36\": 2, \"90\": 2, \"43\": 2}, \"29\": {\"29\": 29, \"24\": 1, \"12\": 2}, \"118\": {\"118\": 74, \"12\": 1, \"45\": 1, \"116\": 1, \"90\": 3, \"69\": 1, \"62\": 4, \"44\": 3, \"102\": 8, \"71\": 1, \"33\": 3, \"122\": 7, \"106\": 1, \"88\": 1, \"21\": 1, \"113\": 1, \"110\": 1}, \"58\": {\"58\": 13, \"88\": 2, \"106\": 1}, \"13\": {\"13\": 13, \"62\": 2, \"94\": 1}, \"89\": {\"99\": 2, \"89\": 27, \"87\": 1, \"1\": 2}, \"31\": {\"31\": 13, \"95\": 1, \"62\": 2}, \"64\": {\"99\": 2, \"64\": 13, \"85\": 1}, \"65\": {\"65\": 10, \"81\": 1, \"117\": 1}, \"101\": {\"101\": 97, \"18\": 1, \"0\": 5, \"91\": 1, \"42\": 2, \"111\": 8, \"93\": 2, \"88\": 1, \"8\": 5, \"106\": 2, \"108\": 1, \"12\": 5, \"5\": 1, \"117\": 1}, \"126\": {\"65\": 1, \"126\": 97, \"63\": 2, \"113\": 6, \"117\": 2, \"39\": 6, \"109\": 1, \"18\": 2, \"26\": 1}, \"108\": {\"5\": 10, \"108\": 39, \"88\": 8, \"62\": 1, \"39\": 1, \"73\": 1, \"93\": 7, \"109\": 2, \"94\": 1, \"111\": 1, \"98\": 1, \"126\": 1, \"3\": 3, \"70\": 1, \"11\": 1, \"14\": 3, \"49\": 2, \"19\": 2, \"30\": 1, \"18\": 1, \"43\": 2, \"110\": 2, \"107\": 1}, \"45\": {\"45\": 15, \"22\": 1}, \"21\": {\"21\": 36, \"88\": 2, \"22\": 1, \"81\": 1}, \"30\": {\"106\": 1, \"30\": 61, \"24\": 3, \"126\": 1, \"36\": 1, \"10\": 2, \"15\": 4, \"6\": 2, \"88\": 1}, \"82\": {\"82\": 27, \"87\": 1, \"12\": 1, \"40\": 2, \"60\": 1}, \"85\": {\"85\": 18, \"86\": 3, \"4\": 2, \"95\": 3, \"124\": 2}, \"88\": {\"88\": 70, \"101\": 2, \"122\": 1, \"83\": 1, \"27\": 5, \"78\": 4, \"0\": 4, \"129\": 1, \"70\": 6, \"42\": 2, \"8\": 1, \"108\": 6, \"87\": 1, \"113\": 1, \"3\": 5, \"1\": 1, \"124\": 2, \"118\": 3, \"15\": 2, \"51\": 1, \"119\": 1, \"98\": 1, \"7\": 1, \"11\": 1, \"5\": 3, \"105\": 1, \"114\": 2, \"71\": 1, \"110\": 1, \"93\": 1}, \"41\": {\"41\": 13, \"88\": 1, \"37\": 2}, \"128\": {\"85\": 3, \"4\": 2, \"128\": 8, \"7\": 2, \"129\": 1, \"82\": 1, \"40\": 1, \"87\": 1, \"34\": 1, \"107\": 1, \"111\": 1, \"114\": 2}, \"39\": {\"18\": 7, \"39\": 45, \"109\": 2, \"69\": 1, \"113\": 13, \"126\": 11, \"117\": 12, \"33\": 1, \"105\": 1, \"26\": 4, \"118\": 1, \"116\": 1, \"70\": 1}, \"18\": {\"18\": 101, \"81\": 1, \"126\": 3, \"26\": 8, \"39\": 2, \"108\": 1, \"113\": 3, \"16\": 1}, \"113\": {\"113\": 108, \"121\": 3, \"81\": 4, \"39\": 5, \"18\": 3, \"41\": 1, \"27\": 1, \"126\": 2, \"117\": 1}, \"11\": {\"32\": 2, \"11\": 86, \"14\": 7, \"60\": 1, \"5\": 1, \"43\": 2, \"107\": 13, \"3\": 9, \"114\": 2, \"33\": 2, \"126\": 2, \"99\": 1, \"79\": 1, \"115\": 2, \"98\": 2, \"87\": 1, \"7\": 3, \"109\": 1}, \"43\": {\"32\": 2, \"82\": 6, \"3\": 3, \"43\": 58, \"107\": 4, \"33\": 5, \"99\": 1, \"116\": 1, \"110\": 10, \"5\": 4, \"40\": 4, \"126\": 1, \"117\": 1, \"122\": 3, \"7\": 1, \"11\": 7, \"87\": 2, \"98\": 1, \"72\": 2, \"49\": 1, \"105\": 2, \"109\": 1}, \"12\": {\"12\": 89, \"81\": 1, \"15\": 2, \"111\": 3, \"68\": 1, \"101\": 1, \"109\": 1, \"106\": 1, \"39\": 1}, \"122\": {\"45\": 3, \"122\": 49, \"43\": 4, \"33\": 6, \"14\": 2, \"102\": 4, \"113\": 1, \"94\": 1, \"40\": 1, \"110\": 1, \"24\": 1, \"44\": 3, \"109\": 1, \"126\": 3, \"11\": 1, \"116\": 1, \"118\": 1, \"16\": 1}, \"52\": {\"52\": 20}, \"44\": {\"44\": 50, \"118\": 3, \"102\": 3, \"90\": 4, \"80\": 1, \"126\": 1, \"121\": 1, \"109\": 1}, \"90\": {\"90\": 129, \"102\": 2, \"44\": 2, \"18\": 1}, \"112\": {\"112\": 15, \"42\": 1}, \"86\": {\"86\": 26, \"4\": 2}, \"3\": {\"3\": 92, \"78\": 1, \"11\": 5, \"71\": 3, \"114\": 2, \"87\": 2, \"43\": 2, \"46\": 1, \"32\": 1, \"14\": 4, \"1\": 2, \"93\": 1}, \"38\": {\"38\": 15, \"67\": 1}, \"121\": {\"121\": 19, \"67\": 1, \"126\": 1, \"102\": 1, \"113\": 2, \"26\": 2, \"117\": 2, \"39\": 2, \"69\": 2}, \"46\": {\"108\": 1, \"116\": 1, \"46\": 17, \"124\": 1}, \"70\": {\"70\": 75, \"108\": 2, \"69\": 1, \"88\": 4, \"27\": 2, \"0\": 10, \"71\": 1, \"1\": 4, \"114\": 3, \"117\": 2, \"101\": 3, \"98\": 3, \"124\": 5, \"49\": 1, \"100\": 1, \"42\": 1, \"11\": 2, \"60\": 1, \"24\": 1, \"93\": 2}, \"67\": {\"116\": 1, \"121\": 1, \"81\": 2, \"18\": 1, \"74\": 1, \"16\": 1, \"67\": 3, \"113\": 3, \"102\": 1, \"123\": 2}, \"53\": {\"127\": 1, \"53\": 15}, \"49\": {\"14\": 3, \"49\": 4, \"127\": 1, \"112\": 2, \"53\": 1, \"34\": 4, \"110\": 1, \"8\": 1, \"98\": 2, \"60\": 2, \"122\": 2, \"43\": 2, \"73\": 1, \"101\": 2, \"72\": 2, \"91\": 1, \"5\": 1}, \"42\": {\"42\": 7, \"53\": 1, \"88\": 2, \"129\": 1, \"52\": 1, \"110\": 2, \"12\": 2, \"8\": 2, \"49\": 2, \"112\": 1, \"108\": 1, \"93\": 2, \"103\": 1, \"70\": 1, \"1\": 1, \"111\": 1}, \"10\": {\"9\": 2, \"24\": 12, \"101\": 3, \"94\": 2, \"10\": 65, \"30\": 6, \"27\": 4, \"36\": 9, \"15\": 10, \"108\": 2, \"98\": 1, \"39\": 1, \"26\": 1}, \"50\": {\"50\": 15, \"115\": 1}, \"73\": {\"73\": 16, \"49\": 2, \"5\": 1, \"101\": 1, \"3\": 2, \"119\": 2}, \"115\": {\"115\": 8, \"76\": 2, \"40\": 2, \"87\": 2, \"122\": 1, \"72\": 1}, \"80\": {\"80\": 13, \"106\": 1, \"66\": 2}, \"19\": {\"109\": 1, \"101\": 3, \"19\": 6, \"46\": 1, \"8\": 1, \"129\": 3, \"48\": 1, \"5\": 1, \"90\": 3, \"83\": 1, \"42\": 1, \"60\": 2, \"110\": 2, \"124\": 1, \"27\": 1}, \"55\": {\"55\": 16}, \"72\": {\"72\": 26, \"30\": 1, \"43\": 2, \"110\": 1, \"107\": 2}, \"117\": {\"117\": 107, \"63\": 1, \"126\": 2, \"18\": 1, \"26\": 2, \"113\": 1, \"122\": 2}, \"81\": {\"81\": 31, \"80\": 1, \"69\": 1, \"78\": 1, \"18\": 2}, \"75\": {\"75\": 14, \"77\": 2}, \"98\": {\"98\": 103, \"127\": 2, \"12\": 3, \"30\": 1, \"24\": 1, \"111\": 2, \"25\": 1, \"88\": 1, \"95\": 1, \"52\": 3, \"124\": 2}, \"48\": {\"48\": 12, \"72\": 2, \"62\": 2}, \"129\": {\"19\": 3, \"129\": 13, \"110\": 2, \"108\": 2, \"124\": 1, \"83\": 2, \"10\": 1, \"42\": 1, \"5\": 2, \"93\": 1}, \"97\": {\"97\": 12, \"9\": 2, \"24\": 2, \"15\": 1, \"8\": 1, \"94\": 1, \"25\": 1}}, \"Wisig_1\": {\"105\": {\"105\": 71, \"40\": 7, \"114\": 2, \"10\": 2, \"46\": 2}, \"100\": {\"100\": 14, \"82\": 2}, \"112\": {\"111\": 1, \"112\": 14, \"68\": 1}, \"123\": {\"123\": 16}, \"13\": {\"13\": 12, \"11\": 2, \"18\": 2}, \"81\": {\"81\": 28}, \"124\": {\"124\": 116, \"117\": 1, \"5\": 1, \"114\": 2}, \"122\": {\"122\": 66, \"28\": 1, \"25\": 1, \"43\": 10, \"7\": 7, \"11\": 1, \"14\": 1, \"1\": 1}, \"111\": {\"111\": 112, \"18\": 1, \"71\": 4, \"106\": 2, \"109\": 1}, \"93\": {\"93\": 112, \"41\": 1, \"109\": 2, \"124\": 1, \"4\": 4, \"8\": 5, \"10\": 14, \"15\": 1, \"87\": 5, \"11\": 2, \"40\": 4, \"1\": 1, \"114\": 1, \"86\": 2, \"70\": 1, \"107\": 2}, \"106\": {\"106\": 88, \"0\": 2, \"127\": 11, \"70\": 2, \"98\": 2, \"71\": 2, \"36\": 1, \"12\": 2, \"68\": 2, \"24\": 1, \"113\": 1, \"111\": 3, \"39\": 1}, \"113\": {\"113\": 113, \"18\": 4, \"16\": 5, \"117\": 2}, \"95\": {\"95\": 34, \"26\": 1, \"118\": 1}, \"87\": {\"105\": 9, \"122\": 4, \"87\": 69, \"118\": 1, \"1\": 5, \"114\": 5, \"84\": 2, \"43\": 3, \"40\": 7, \"18\": 1, \"8\": 1, \"14\": 1}, \"86\": {\"86\": 33, \"24\": 1, \"10\": 2}, \"67\": {\"67\": 16}, \"85\": {\"85\": 32}, \"82\": {\"82\": 35, \"100\": 1}, \"115\": {\"115\": 12}, \"7\": {\"7\": 134, \"129\": 1, \"122\": 1, \"11\": 1, \"43\": 4, \"40\": 1}, \"44\": {\"44\": 76}, \"65\": {\"16\": 1, \"28\": 2, \"65\": 2, \"7\": 1, \"95\": 2, \"11\": 1, \"63\": 2, \"26\": 1}, \"129\": {\"129\": 14, \"128\": 2, \"19\": 1, \"23\": 1, \"27\": 1, \"99\": 1, \"3\": 2, \"73\": 2, \"8\": 1, \"11\": 2, \"32\": 1}, \"42\": {\"129\": 2, \"85\": 1, \"0\": 1, \"93\": 1, \"60\": 2, \"86\": 2, \"83\": 2, \"4\": 1, \"42\": 6, \"1\": 1, \"8\": 1, \"3\": 1, \"31\": 1, \"64\": 1, \"20\": 1, \"114\": 2, \"82\": 2}, \"28\": {\"129\": 1, \"28\": 15, \"7\": 2, \"11\": 1, \"24\": 1}, \"0\": {\"0\": 68, \"39\": 1, \"110\": 6, \"10\": 2, \"98\": 4, \"107\": 1, \"24\": 1, \"87\": 1}, \"10\": {\"10\": 79, \"85\": 1, \"35\": 1, \"93\": 17, \"23\": 1, \"70\": 4, \"105\": 4, \"40\": 2, \"107\": 5, \"126\": 1, \"31\": 1, \"44\": 3, \"5\": 1}, \"76\": {\"76\": 12, \"33\": 1, \"126\": 1, \"80\": 2}, \"88\": {\"88\": 77, \"109\": 3, \"29\": 1, \"27\": 10, \"12\": 3, \"94\": 6, \"101\": 4, \"15\": 3, \"36\": 10, \"24\": 7, \"108\": 2}, \"29\": {\"29\": 27, \"72\": 1}, \"16\": {\"16\": 97, \"26\": 3, \"63\": 1, \"117\": 3, \"118\": 1, \"39\": 1, \"113\": 1, \"18\": 1}, \"41\": {\"41\": 16}, \"27\": {\"27\": 77, \"94\": 2, \"88\": 6, \"15\": 2, \"70\": 1, \"30\": 2, \"24\": 1, \"84\": 1}, \"33\": {\"33\": 116, \"62\": 2, \"121\": 1, \"87\": 1}, \"75\": {\"75\": 15, \"89\": 1}, \"48\": {\"48\": 11, \"57\": 1}, \"56\": {\"75\": 2, \"56\": 6, \"71\": 1, \"98\": 1, \"91\": 2}, \"9\": {\"9\": 27, \"44\": 1, \"35\": 1, \"23\": 2, \"117\": 1}, \"1\": {\"1\": 114, \"42\": 2, \"14\": 1, \"43\": 2, \"18\": 1, \"84\": 6}, \"39\": {\"39\": 64, \"65\": 1, \"18\": 23, \"117\": 6, \"25\": 1, \"26\": 1, \"129\": 1, \"33\": 1, \"2\": 2, \"13\": 1, \"121\": 1, \"16\": 2}, \"50\": {\"39\": 2, \"50\": 12, \"4\": 1, \"10\": 1}, \"99\": {\"99\": 19, \"39\": 1, \"23\": 1, \"82\": 3}, \"90\": {\"90\": 122}, \"45\": {\"45\": 5, \"112\": 1, \"84\": 1, \"64\": 2, \"115\": 2, \"39\": 1}, \"5\": {\"5\": 83, \"8\": 4, \"124\": 1}, \"128\": {\"128\": 10, \"119\": 2, \"7\": 3, \"114\": 1, \"43\": 1, \"25\": 2, \"47\": 1, \"115\": 1, \"81\": 1, \"11\": 1, \"101\": 1}, \"2\": {\"7\": 2, \"90\": 1, \"76\": 1, \"2\": 8, \"74\": 2, \"81\": 3, \"60\": 1, \"120\": 1, \"18\": 1, \"33\": 1, \"39\": 2, \"25\": 1, \"97\": 1, \"11\": 1, \"78\": 1, \"28\": 2, \"16\": 2, \"22\": 1}, \"53\": {\"53\": 15, \"6\": 1, \"32\": 1, \"75\": 3}, \"104\": {\"104\": 12, \"73\": 2, \"19\": 2}, \"32\": {\"53\": 3, \"91\": 3, \"32\": 17, \"58\": 2, \"89\": 1, \"106\": 2, \"111\": 1, \"125\": 1, \"110\": 2}, \"92\": {\"92\": 28}, \"78\": {\"129\": 2, \"7\": 2, \"78\": 6, \"87\": 1, \"122\": 1, \"11\": 1, \"74\": 1, \"22\": 1, \"90\": 1}, \"19\": {\"19\": 15, \"64\": 4, \"20\": 2, \"9\": 1, \"104\": 3, \"44\": 1, \"129\": 2}, \"120\": {\"120\": 17, \"20\": 1, \"81\": 1, \"114\": 1}, \"43\": {\"43\": 79, \"57\": 1, \"122\": 11, \"7\": 19, \"114\": 3, \"87\": 2, \"1\": 4, \"11\": 2, \"24\": 1, \"39\": 2, \"28\": 1, \"113\": 1, \"84\": 1, \"109\": 1}, \"74\": {\"74\": 16}, \"11\": {\"28\": 2, \"11\": 86, \"115\": 1, \"78\": 1, \"82\": 2, \"33\": 3, \"102\": 1, \"122\": 3, \"43\": 6, \"3\": 3, \"39\": 1, \"7\": 12, \"90\": 7, \"24\": 1, \"81\": 1}, \"26\": {\"26\": 119, \"69\": 3, \"39\": 2, \"18\": 2, \"118\": 3, \"16\": 3}, \"125\": {\"125\": 132}, \"64\": {\"64\": 16}, \"127\": {\"53\": 1, \"127\": 87, \"106\": 6, \"15\": 1, \"111\": 6, \"71\": 2, \"68\": 2, \"75\": 1, \"69\": 1, \"94\": 1}, \"83\": {\"83\": 22, \"114\": 2, \"30\": 1, \"124\": 2, \"34\": 1}, \"118\": {\"118\": 60, \"16\": 6, \"116\": 2, \"26\": 11, \"117\": 3, \"95\": 1, \"109\": 1}, \"103\": {\"103\": 13, \"29\": 1, \"12\": 1, \"68\": 1}, \"55\": {\"55\": 12}, \"110\": {\"110\": 110, \"98\": 5, \"0\": 6, \"4\": 1, \"12\": 2, \"6\": 2}, \"30\": {\"115\": 1, \"30\": 26, \"70\": 1, \"94\": 4, \"53\": 2, \"108\": 1, \"52\": 2, \"21\": 1, \"24\": 3, \"27\": 2, \"11\": 1, \"15\": 2, \"19\": 1, \"4\": 1, \"110\": 1, \"12\": 1, \"88\": 1, \"1\": 1}, \"51\": {\"51\": 16}, \"6\": {\"51\": 1, \"6\": 11, \"75\": 2, \"52\": 1, \"68\": 1, \"110\": 2, \"94\": 1, \"98\": 2, \"91\": 1, \"106\": 3, \"27\": 1, \"34\": 2, \"89\": 2, \"103\": 1, \"88\": 1}, \"96\": {\"60\": 2, \"96\": 11, \"70\": 2, \"20\": 2, \"12\": 1, \"126\": 2}, \"114\": {\"114\": 142, \"121\": 1, \"39\": 1}, \"69\": {\"69\": 99, \"62\": 6, \"117\": 1, \"76\": 2}, \"60\": {\"60\": 2, \"69\": 2, \"34\": 1, \"13\": 1, \"66\": 1, \"3\": 1, \"19\": 2, \"16\": 1, \"42\": 1, \"2\": 1, \"118\": 1, \"4\": 1, \"87\": 1}, \"94\": {\"94\": 68, \"27\": 9, \"6\": 2, \"36\": 2, \"30\": 5, \"101\": 1, \"15\": 1, \"109\": 1, \"108\": 1, \"70\": 1, \"88\": 1}, \"79\": {\"79\": 12}, \"126\": {\"126\": 120, \"70\": 3, \"12\": 1, \"104\": 1, \"109\": 2, \"108\": 1, \"124\": 1, \"39\": 1, \"44\": 4}, \"68\": {\"68\": 15, \"127\": 1}, \"72\": {\"72\": 31, \"29\": 1}, \"63\": {\"63\": 16}, \"22\": {\"22\": 13, \"1\": 2, \"6\": 1}, \"121\": {\"63\": 1, \"121\": 19, \"16\": 3, \"117\": 5, \"123\": 3, \"15\": 1}, \"71\": {\"111\": 10, \"71\": 81, \"24\": 2, \"16\": 1, \"53\": 1, \"127\": 1, \"12\": 6, \"43\": 1, \"106\": 1, \"52\": 1, \"44\": 1, \"102\": 1, \"113\": 1}, \"54\": {\"54\": 15, \"107\": 1}, \"102\": {\"102\": 117, \"113\": 1, \"2\": 2}, \"73\": {\"73\": 17, \"75\": 1, \"58\": 1, \"106\": 1}, \"38\": {\"38\": 16}, \"4\": {\"4\": 91, \"105\": 2, \"113\": 1, \"8\": 2, \"40\": 2, \"118\": 2}, \"52\": {\"52\": 20}, \"70\": {\"79\": 2, \"70\": 75, \"126\": 10, \"34\": 2, \"35\": 1, \"44\": 6, \"23\": 2, \"128\": 1, \"93\": 3, \"5\": 3, \"118\": 1, \"124\": 6, \"10\": 2, \"107\": 1, \"108\": 2, \"103\": 1, \"86\": 1, \"29\": 1, \"17\": 1, \"12\": 4, \"125\": 1, \"8\": 2}, \"91\": {\"91\": 17, \"17\": 1, \"127\": 4, \"32\": 1, \"46\": 2, \"68\": 2, \"89\": 1}, \"77\": {\"77\": 13, \"61\": 1, \"91\": 2}, \"20\": {\"20\": 16}, \"59\": {\"59\": 12}, \"40\": {\"40\": 126, \"87\": 1, \"118\": 1, \"105\": 4, \"7\": 1, \"11\": 1, \"114\": 1, \"109\": 1}, \"98\": {\"98\": 105, \"110\": 3}, \"46\": {\"40\": 1, \"59\": 3, \"94\": 1, \"38\": 1, \"107\": 1, \"71\": 1, \"53\": 1, \"105\": 1, \"54\": 1, \"32\": 1}, \"34\": {\"34\": 10, \"85\": 1, \"77\": 4, \"89\": 1, \"122\": 2, \"98\": 1, \"68\": 2, \"37\": 2, \"84\": 2, \"14\": 1, \"114\": 3, \"124\": 1, \"112\": 1, \"43\": 1}, \"24\": {\"24\": 70, \"113\": 2, \"97\": 3, \"101\": 1, \"36\": 2, \"27\": 2, \"88\": 8, \"94\": 2, \"108\": 1, \"39\": 1}, \"62\": {\"62\": 112, \"66\": 1, \"102\": 3, \"7\": 1, \"125\": 1, \"113\": 1, \"39\": 1}, \"14\": {\"14\": 91, \"1\": 4, \"42\": 1}, \"12\": {\"112\": 1, \"12\": 79, \"106\": 7, \"6\": 1, \"111\": 2, \"71\": 3, \"0\": 2, \"75\": 2, \"121\": 1, \"127\": 1, \"113\": 1, \"39\": 1, \"98\": 2, \"24\": 1}, \"84\": {\"84\": 119, \"114\": 2, \"1\": 5, \"107\": 1, \"14\": 1, \"124\": 2, \"87\": 2, \"109\": 1, \"39\": 1}, \"37\": {\"37\": 16}, \"97\": {\"27\": 1, \"97\": 15, \"101\": 2, \"128\": 2}, \"57\": {\"57\": 11, \"39\": 1}, \"49\": {\"49\": 7, \"103\": 1, \"53\": 1, \"35\": 2, \"124\": 2, \"12\": 1, \"31\": 3, \"15\": 2, \"71\": 1}, \"17\": {\"98\": 2, \"77\": 2, \"0\": 2, \"92\": 1, \"17\": 7, \"63\": 1, \"71\": 1}, \"109\": {\"109\": 94, \"39\": 1, \"43\": 2, \"5\": 1, \"126\": 2, \"62\": 2, \"70\": 1, \"113\": 1, \"3\": 1, \"1\": 1}, \"80\": {\"80\": 16}, \"66\": {\"66\": 16}, \"101\": {\"101\": 121, \"15\": 2, \"117\": 1}, \"89\": {\"89\": 34, \"23\": 1, \"42\": 1}, \"31\": {\"31\": 16}, \"21\": {\"94\": 1, \"21\": 18, \"44\": 3, \"1\": 3, \"87\": 1, \"12\": 1, \"70\": 1, \"113\": 1, \"127\": 1, \"39\": 2, \"14\": 2, \"71\": 1, \"126\": 1, \"122\": 1, \"109\": 2, \"84\": 1}, \"23\": {\"99\": 3, \"7\": 1, \"34\": 1, \"18\": 1, \"98\": 1, \"23\": 1, \"89\": 1, \"1\": 1, \"107\": 1, \"11\": 1, \"0\": 2, \"55\": 2, \"29\": 1, \"90\": 1, \"91\": 2, \"44\": 1, \"82\": 2, \"49\": 1}, \"25\": {\"25\": 12, \"43\": 2, \"30\": 1, \"115\": 1}, \"107\": {\"107\": 102, \"8\": 5, \"113\": 1, \"4\": 1, \"110\": 2, \"94\": 1}, \"3\": {\"60\": 2, \"3\": 80, \"24\": 1, \"126\": 1, \"88\": 2, \"102\": 2}, \"61\": {\"61\": 9, \"116\": 2, \"32\": 1}, \"117\": {\"117\": 123, \"16\": 3}, \"119\": {\"119\": 13, \"33\": 2, \"0\": 1}, \"58\": {\"58\": 12}, \"47\": {\"47\": 12}, \"116\": {\"116\": 12, \"120\": 1, \"33\": 6, \"69\": 2, \"62\": 5, \"102\": 1, \"67\": 1, \"119\": 2, \"7\": 1, \"3\": 1}, \"18\": {\"18\": 112, \"16\": 2, \"39\": 6, \"113\": 2, \"69\": 2}, \"36\": {\"36\": 111, \"118\": 1, \"6\": 2, \"88\": 2, \"39\": 1, \"97\": 2, \"24\": 2, \"113\": 1}, \"108\": {\"108\": 86, \"29\": 2, \"88\": 2, \"126\": 3, \"101\": 11, \"36\": 2, \"109\": 2, \"47\": 1, \"21\": 1, \"27\": 1, \"24\": 1}, \"15\": {\"15\": 83, \"111\": 5, \"127\": 6, \"71\": 4, \"12\": 3, \"112\": 1, \"106\": 1, \"117\": 1}, \"8\": {\"8\": 76, \"4\": 8, \"83\": 2, \"124\": 6, \"5\": 3, \"114\": 3, \"107\": 11, \"93\": 2, \"84\": 2, \"86\": 1}, \"35\": {\"35\": 12}}, \"Wisig_2\": {\"3\": {\"3\": 120, \"107\": 2, \"70\": 2, \"124\": 1, \"122\": 2, \"117\": 2, \"39\": 2, \"43\": 1}, \"127\": {\"127\": 104, \"21\": 1, \"12\": 9, \"98\": 2, \"124\": 1, \"122\": 1, \"111\": 2}, \"58\": {\"58\": 20}, \"114\": {\"86\": 2, \"114\": 98, \"5\": 4, \"4\": 2, \"71\": 4, \"46\": 1, \"21\": 1}, \"111\": {\"111\": 133, \"127\": 4, \"15\": 2, \"114\": 1, \"12\": 1, \"93\": 1, \"30\": 2}, \"105\": {\"105\": 118, \"40\": 8, \"38\": 1, \"74\": 1, \"122\": 1, \"1\": 1, \"7\": 1, \"33\": 1}, \"118\": {\"114\": 1, \"118\": 38, \"102\": 2, \"62\": 7, \"48\": 1, \"84\": 3, \"33\": 5, \"90\": 4, \"14\": 1, \"38\": 1, \"116\": 1, \"13\": 3, \"36\": 1}, \"23\": {\"86\": 1, \"99\": 2, \"37\": 1, \"117\": 5, \"113\": 4, \"5\": 1, \"122\": 4, \"78\": 1, \"124\": 1, \"23\": 7, \"2\": 3, \"18\": 1, \"12\": 1, \"70\": 1, \"34\": 2, \"26\": 2, \"121\": 1, \"87\": 1, \"44\": 1, \"71\": 3, \"85\": 1}, \"21\": {\"21\": 39, \"118\": 2, \"62\": 1, \"70\": 1, \"120\": 1, \"24\": 3, \"85\": 1}, \"20\": {\"20\": 13, \"16\": 2, \"21\": 1}, \"75\": {\"75\": 13, \"15\": 1, \"12\": 1, \"1\": 1}, \"86\": {\"86\": 32}, \"60\": {\"118\": 1, \"14\": 1, \"60\": 16, \"62\": 2, \"44\": 2, \"88\": 1, \"3\": 1, \"38\": 1, \"46\": 1, \"47\": 1, \"84\": 1}, \"69\": {\"69\": 111, \"120\": 2, \"72\": 2, \"102\": 3, \"90\": 1, \"18\": 4, \"121\": 1, \"88\": 1, \"43\": 1, \"117\": 1, \"26\": 7, \"31\": 1, \"57\": 1, \"94\": 1, \"39\": 2, \"62\": 1}, \"99\": {\"99\": 29, \"85\": 1, \"2\": 2}, \"14\": {\"14\": 23, \"60\": 4, \"33\": 2, \"45\": 2, \"116\": 2, \"72\": 2, \"61\": 2, \"96\": 1, \"16\": 1, \"107\": 1, \"40\": 1, \"73\": 2, \"88\": 1, \"1\": 2, \"126\": 1, \"21\": 1}, \"25\": {\"25\": 13, \"101\": 2, \"15\": 1}, \"52\": {\"52\": 16, \"94\": 2, \"30\": 2}, \"47\": {\"47\": 8, \"29\": 1, \"101\": 1, \"72\": 1, \"94\": 1}, \"48\": {\"48\": 16, \"125\": 1, \"82\": 1, \"90\": 1, \"92\": 1}, \"27\": {\"27\": 43, \"20\": 1, \"101\": 6, \"0\": 3, \"87\": 1, \"70\": 1, \"24\": 3, \"11\": 1, \"39\": 1, \"8\": 1, \"18\": 1, \"25\": 1, \"113\": 1, \"36\": 1, \"15\": 1, \"109\": 1, \"126\": 1}, \"78\": {\"78\": 13, \"66\": 1, \"115\": 3, \"126\": 3, \"105\": 4, \"49\": 1, \"61\": 2, \"88\": 2, \"43\": 3, \"121\": 1, \"10\": 2, \"107\": 1, \"118\": 1, \"7\": 1, \"14\": 1, \"60\": 2, \"1\": 4, \"113\": 1, \"70\": 1, \"62\": 1}, \"8\": {\"8\": 90, \"52\": 1, \"108\": 5, \"77\": 1, \"128\": 2, \"11\": 1, \"12\": 3, \"126\": 2, \"127\": 6, \"124\": 2, \"93\": 1, \"101\": 2, \"79\": 1, \"112\": 1, \"129\": 1, \"30\": 1, \"98\": 1, \"88\": 1}, \"90\": {\"90\": 153, \"99\": 1, \"102\": 2, \"26\": 1, \"82\": 1, \"117\": 1, \"33\": 1}, \"103\": {\"103\": 16}, \"120\": {\"120\": 20}, \"96\": {\"96\": 16, \"119\": 2, \"13\": 2}, \"30\": {\"30\": 73, \"6\": 2, \"35\": 1, \"125\": 3, \"111\": 4, \"106\": 9, \"8\": 2, \"15\": 1, \"122\": 1, \"11\": 1, \"49\": 1, \"54\": 1, \"108\": 1, \"83\": 1, \"24\": 1, \"5\": 1, \"43\": 1}, \"33\": {\"33\": 136, \"84\": 8, \"116\": 2}, \"35\": {\"35\": 11, \"103\": 1}, \"108\": {\"108\": 79, \"112\": 2, \"8\": 15, \"98\": 3, \"0\": 1, \"12\": 3, \"127\": 5, \"124\": 2, \"101\": 1, \"49\": 2, \"11\": 1, \"29\": 1, \"88\": 1}, \"112\": {\"112\": 13, \"124\": 2, \"11\": 1}, \"40\": {\"40\": 97, \"28\": 2, \"107\": 2, \"21\": 1, \"105\": 12, \"88\": 2, \"126\": 1, \"94\": 1, \"7\": 8, \"70\": 2, \"1\": 2, \"74\": 1, \"95\": 2, \"43\": 1, \"4\": 2, \"3\": 2, \"109\": 1, \"18\": 1}, \"102\": {\"102\": 107, \"90\": 4, \"88\": 1, \"122\": 1, \"26\": 2, \"70\": 1}, \"56\": {\"56\": 12}, \"93\": {\"93\": 120, \"16\": 12, \"90\": 1, \"109\": 2, \"39\": 1}, \"68\": {\"68\": 13, \"42\": 2, \"14\": 1}, \"70\": {\"70\": 53, \"43\": 16, \"23\": 1, \"84\": 2, \"88\": 8, \"3\": 6, \"44\": 5, \"110\": 2, \"109\": 2, \"1\": 9, \"10\": 1, \"16\": 2, \"126\": 4, \"33\": 3, \"117\": 1, \"62\": 1, \"78\": 3, \"121\": 1, \"14\": 1, \"93\": 1, \"87\": 1, \"26\": 1}, \"7\": {\"7\": 117, \"122\": 1, \"40\": 1, \"4\": 2, \"92\": 1, \"10\": 1, \"114\": 1}, \"87\": {\"87\": 59, \"38\": 1, \"88\": 1, \"116\": 1, \"100\": 1, \"93\": 3, \"83\": 3, \"82\": 2, \"62\": 2, \"10\": 1, \"33\": 6, \"84\": 6, \"102\": 4, \"90\": 6, \"109\": 6, \"13\": 1, \"43\": 1, \"113\": 1, \"1\": 2, \"39\": 1, \"2\": 1, \"40\": 1, \"70\": 1, \"16\": 1}, \"54\": {\"40\": 1, \"54\": 19}, \"71\": {\"71\": 69, \"85\": 1, \"107\": 2, \"11\": 1, \"12\": 1, \"122\": 7, \"5\": 3, \"114\": 4, \"88\": 1, \"36\": 1, \"39\": 2, \"53\": 1, \"21\": 1, \"3\": 2, \"19\": 2, \"4\": 1, \"98\": 1}, \"80\": {\"80\": 16}, \"18\": {\"18\": 103, \"65\": 2, \"117\": 8, \"87\": 2, \"69\": 4, \"62\": 2, \"26\": 1}, \"101\": {\"101\": 109, \"126\": 1, \"15\": 4, \"106\": 2, \"108\": 2, \"0\": 1, \"27\": 1, \"111\": 2}, \"92\": {\"92\": 25, \"71\": 1, \"13\": 1, \"40\": 1}, \"32\": {\"105\": 2, \"32\": 17, \"42\": 1, \"28\": 1, \"43\": 1, \"95\": 1, \"40\": 2, \"1\": 2, \"107\": 1, \"37\": 1, \"129\": 1, \"3\": 3, \"4\": 1, \"58\": 1, \"7\": 1}, \"128\": {\"30\": 4, \"3\": 1, \"40\": 1, \"128\": 3, \"1\": 2, \"107\": 5, \"114\": 2, \"5\": 1, \"8\": 1, \"53\": 1, \"56\": 1, \"37\": 2}, \"6\": {\"51\": 3, \"15\": 1, \"34\": 1, \"6\": 17, \"106\": 3, \"103\": 2, \"94\": 2, \"35\": 1, \"52\": 2}, \"51\": {\"6\": 2, \"51\": 12, \"54\": 2, \"125\": 1, \"127\": 1, \"35\": 1, \"10\": 1}, \"85\": {\"85\": 22, \"68\": 1, \"115\": 1, \"83\": 1, \"5\": 2, \"114\": 2, \"32\": 2, \"71\": 1}, \"46\": {\"22\": 2, \"46\": 12, \"45\": 2}, \"22\": {\"22\": 20}, \"1\": {\"1\": 108, \"60\": 2, \"61\": 2, \"78\": 1, \"18\": 1, \"62\": 2, \"43\": 2, \"16\": 1, \"87\": 1, \"126\": 1, \"44\": 1}, \"37\": {\"37\": 16}, \"44\": {\"44\": 92, \"109\": 1, \"43\": 2, \"0\": 1, \"47\": 1, \"60\": 2, \"23\": 1}, \"24\": {\"24\": 65, \"0\": 11, \"15\": 8, \"127\": 1, \"27\": 4, \"101\": 3, \"106\": 1, \"62\": 1, \"108\": 3, \"94\": 2, \"16\": 1, \"36\": 2, \"39\": 2, \"26\": 1, \"12\": 1, \"21\": 1, \"97\": 2, \"8\": 2, \"18\": 1}, \"9\": {\"9\": 30, \"111\": 2}, \"116\": {\"116\": 17, \"16\": 2, \"82\": 3, \"81\": 1, \"126\": 1, \"90\": 1, \"67\": 2, \"84\": 1}, \"64\": {\"64\": 16}, \"129\": {\"129\": 26, \"112\": 1, \"44\": 1, \"110\": 1, \"11\": 1, \"100\": 2}, \"42\": {\"47\": 2, \"42\": 12, \"97\": 1, \"69\": 1, \"3\": 2, \"30\": 2, \"46\": 1, \"5\": 1, \"8\": 1, \"77\": 1, \"123\": 1, \"66\": 1, \"58\": 1, \"11\": 1}, \"117\": {\"117\": 105, \"18\": 6, \"69\": 4, \"93\": 1, \"113\": 2, \"26\": 2}, \"88\": {\"88\": 61, \"83\": 2, \"109\": 11, \"60\": 1, \"90\": 3, \"126\": 5, \"44\": 3, \"93\": 8, \"87\": 4, \"23\": 1, \"21\": 1, \"70\": 3, \"19\": 1, \"16\": 9, \"36\": 1, \"12\": 1, \"42\": 1, \"14\": 1, \"71\": 1, \"100\": 1, \"84\": 1, \"10\": 1, \"117\": 2, \"124\": 1}, \"31\": {\"31\": 19, \"69\": 1}, \"113\": {\"113\": 70, \"117\": 1, \"102\": 1}, \"38\": {\"38\": 16}, \"83\": {\"83\": 36, \"29\": 1, \"119\": 1, \"13\": 1, \"125\": 1}, \"49\": {\"49\": 11, \"79\": 2, \"129\": 1, \"78\": 1, \"5\": 2, \"124\": 2, \"53\": 1, \"39\": 1, \"30\": 1, \"128\": 1, \"32\": 1}, \"97\": {\"101\": 2, \"97\": 14, \"0\": 3, \"108\": 1}, \"76\": {\"76\": 14, \"80\": 2}, \"29\": {\"29\": 30, \"98\": 2}, \"61\": {\"40\": 2, \"61\": 15, \"5\": 1, \"82\": 1, \"107\": 1}, \"125\": {\"125\": 145, \"102\": 1, \"91\": 2}, \"126\": {\"126\": 111, \"57\": 1, \"99\": 1, \"88\": 1, \"94\": 1, \"3\": 1, \"16\": 1, \"44\": 2, \"70\": 1}, \"55\": {\"55\": 16}, \"0\": {\"0\": 80, \"27\": 1, \"101\": 5, \"122\": 1, \"24\": 6, \"8\": 2, \"111\": 2, \"15\": 2, \"126\": 1, \"117\": 1, \"108\": 3, \"11\": 1, \"21\": 1, \"62\": 1, \"88\": 1}, \"15\": {\"15\": 99, \"94\": 2, \"24\": 1, \"6\": 2, \"40\": 1, \"106\": 6, \"0\": 1, \"30\": 2, \"111\": 2, \"101\": 4}, \"26\": {\"26\": 111, \"117\": 5, \"39\": 3, \"121\": 3, \"18\": 5, \"40\": 1, \"93\": 2, \"2\": 2, \"0\": 1, \"126\": 1, \"69\": 2, \"109\": 1, \"102\": 1}, \"63\": {\"63\": 20}, \"57\": {\"57\": 20}, \"39\": {\"39\": 55, \"27\": 1, \"102\": 5, \"18\": 5, \"109\": 8, \"69\": 10, \"62\": 1, \"26\": 15, \"88\": 2, \"16\": 1, \"90\": 1, \"93\": 2, \"70\": 3, \"99\": 1, \"84\": 1, \"2\": 1}, \"62\": {\"62\": 114, \"55\": 1, \"1\": 2, \"39\": 1, \"43\": 2, \"84\": 4, \"102\": 2, \"70\": 1, \"33\": 8, \"47\": 1, \"82\": 2, \"88\": 1, \"101\": 1}, \"82\": {\"82\": 32, \"116\": 1, \"45\": 1, \"87\": 1, \"53\": 1}, \"11\": {\"11\": 67, \"49\": 2, \"126\": 1, \"129\": 1, \"112\": 2, \"24\": 1, \"122\": 4, \"8\": 1, \"39\": 1}, \"4\": {\"4\": 85, \"107\": 2, \"53\": 1}, \"41\": {\"41\": 20}, \"72\": {\"72\": 20, \"99\": 2, \"87\": 1, \"14\": 1, \"31\": 1, \"13\": 1, \"118\": 2}, \"16\": {\"16\": 91, \"90\": 7, \"24\": 1, \"93\": 15, \"102\": 4, \"87\": 3, \"39\": 1, \"110\": 1, \"14\": 1}, \"81\": {\"81\": 19, \"65\": 1, \"122\": 1, \"20\": 2, \"54\": 1}, \"67\": {\"67\": 12, \"84\": 2, \"55\": 2}, \"123\": {\"123\": 16}, \"66\": {\"66\": 12, \"115\": 2, \"86\": 2, \"32\": 2, \"122\": 2}, \"36\": {\"36\": 98, \"1\": 1, \"9\": 1, \"0\": 3, \"96\": 1, \"43\": 1, \"27\": 5, \"101\": 4, \"6\": 2, \"94\": 1, \"39\": 1, \"24\": 5, \"121\": 1, \"117\": 2, \"18\": 1, \"69\": 1}, \"115\": {\"115\": 9, \"40\": 2, \"21\": 1}, \"77\": {\"77\": 11, \"106\": 2, \"91\": 1, \"128\": 2}, \"119\": {\"119\": 20}, \"65\": {\"120\": 2, \"65\": 17, \"126\": 1}, \"34\": {\"114\": 2, \"34\": 22, \"41\": 1, \"32\": 1, \"12\": 1, \"53\": 1, \"54\": 1, \"110\": 1, \"122\": 1, \"98\": 1}, \"107\": {\"114\": 2, \"107\": 52, \"71\": 1, \"10\": 1, \"5\": 1, \"32\": 3, \"40\": 1, \"86\": 1, \"70\": 1, \"101\": 1}, \"13\": {\"13\": 12, \"102\": 2, \"118\": 2}, \"110\": {\"106\": 1, \"110\": 21, \"3\": 4, \"68\": 1, \"2\": 1, \"5\": 3, \"122\": 1, \"73\": 1, \"129\": 2, \"120\": 1, \"107\": 2, \"105\": 2}, \"106\": {\"106\": 104, \"101\": 2, \"125\": 3, \"127\": 1, \"51\": 2, \"111\": 2, \"114\": 1, \"30\": 1, \"88\": 1, \"15\": 1}, \"89\": {\"89\": 34, \"63\": 2}, \"94\": {\"0\": 4, \"97\": 1, \"94\": 31, \"122\": 1, \"87\": 1, \"11\": 2, \"6\": 1, \"21\": 2, \"27\": 1, \"101\": 5, \"106\": 1, \"16\": 1, \"15\": 5, \"90\": 1, \"35\": 1, \"24\": 2, \"30\": 1, \"88\": 2, \"126\": 1}, \"98\": {\"98\": 95, \"29\": 1, \"79\": 1, \"102\": 1, \"96\": 1, \"12\": 1, \"113\": 1, \"111\": 1, \"26\": 1, \"127\": 2, \"84\": 1, \"21\": 1, \"90\": 1, \"71\": 2, \"124\": 2}, \"91\": {\"91\": 22, \"98\": 1, \"114\": 2, \"59\": 1, \"1\": 1, \"35\": 1}, \"84\": {\"84\": 72, \"33\": 12, \"62\": 3, \"90\": 2, \"83\": 2, \"88\": 1}, \"73\": {\"9\": 1, \"73\": 24, \"3\": 2, \"19\": 1}, \"104\": {\"37\": 5, \"52\": 1, \"104\": 11, \"46\": 1, \"56\": 1, \"126\": 1}, \"59\": {\"59\": 9, \"52\": 1, \"127\": 1, \"91\": 1, \"41\": 1, \"128\": 1, \"49\": 2}, \"74\": {\"74\": 15, \"105\": 1}, \"28\": {\"28\": 16, \"59\": 1, \"95\": 1, \"107\": 2}, \"95\": {\"95\": 31, \"108\": 1, \"105\": 1, \"22\": 1, \"10\": 2}, \"2\": {\"81\": 2, \"2\": 18, \"69\": 4, \"23\": 1, \"93\": 1, \"99\": 1, \"39\": 1, \"13\": 1, \"16\": 2, \"117\": 1}, \"5\": {\"5\": 106, \"110\": 2, \"113\": 1, \"122\": 1, \"88\": 1, \"117\": 1}, \"50\": {\"50\": 13, \"69\": 1, \"22\": 2}, \"109\": {\"88\": 10, \"109\": 57, \"6\": 1, \"70\": 2, \"16\": 6, \"39\": 4, \"113\": 1, \"87\": 6, \"69\": 1, \"26\": 1, \"71\": 1, \"96\": 1, \"118\": 1, \"84\": 2, \"23\": 1, \"40\": 1, \"90\": 2, \"102\": 1, \"93\": 1}, \"10\": {\"10\": 31, \"85\": 2, \"78\": 1, \"95\": 2, \"3\": 2, \"23\": 1, \"7\": 7, \"88\": 1, \"44\": 1, \"11\": 1, \"71\": 2, \"107\": 2, \"115\": 1, \"117\": 1, \"4\": 3, \"109\": 1, \"70\": 1}, \"45\": {\"45\": 14, \"87\": 1, \"119\": 1}, \"121\": {\"121\": 19, \"65\": 1, \"26\": 1, \"113\": 3, \"18\": 8, \"117\": 2, \"120\": 1, \"72\": 1}, \"124\": {\"124\": 106, \"122\": 2, \"98\": 2}, \"53\": {\"79\": 1, \"53\": 9, \"3\": 3, \"110\": 2, \"1\": 1}, \"79\": {\"79\": 16}, \"43\": {\"43\": 75, \"60\": 1, \"70\": 5, \"87\": 1, \"1\": 7, \"78\": 1, \"88\": 1, \"105\": 9, \"3\": 2, \"18\": 1, \"33\": 4, \"61\": 1, \"82\": 1, \"44\": 1, \"122\": 1, \"101\": 1, \"16\": 1, \"24\": 1}, \"122\": {\"110\": 2, \"122\": 69, \"71\": 11, \"49\": 1, \"120\": 1, \"19\": 2, \"88\": 2, \"107\": 3, \"12\": 2, \"21\": 1, \"11\": 2, \"70\": 1, \"5\": 9, \"43\": 2, \"114\": 3, \"4\": 5, \"39\": 1, \"98\": 3, \"124\": 10, \"101\": 1, \"100\": 1, \"93\": 1, \"3\": 3, \"1\": 1, \"18\": 1}, \"100\": {\"100\": 12, \"90\": 1, \"88\": 1, \"83\": 1, \"119\": 1}, \"19\": {\"19\": 13, \"71\": 2, \"5\": 3, \"44\": 5, \"11\": 1, \"23\": 2, \"60\": 1, \"100\": 1}, \"12\": {\"12\": 51, \"127\": 10, \"77\": 1, \"108\": 1, \"114\": 2, \"98\": 9, \"75\": 1, \"91\": 1, \"124\": 4, \"88\": 2, \"122\": 1, \"42\": 1, \"109\": 1, \"111\": 2, \"117\": 1}, \"17\": {\"17\": 9, \"34\": 2, \"12\": 2, \"24\": 1, \"125\": 2}}, \"Wisig_3\": {\"38\": {\"38\": 16}, \"88\": {\"3\": 3, \"88\": 49, \"92\": 1, \"110\": 18, \"94\": 1, \"19\": 1, \"86\": 1, \"67\": 2, \"5\": 2, \"60\": 2, \"108\": 3, \"122\": 2, \"70\": 3, \"114\": 5, \"8\": 2, \"1\": 1, \"109\": 1, \"30\": 1, \"28\": 2, \"21\": 2, \"49\": 1, \"128\": 1, \"10\": 2, \"93\": 3, \"11\": 2, \"117\": 1}, \"104\": {\"104\": 16}, \"11\": {\"11\": 84, \"14\": 3, \"90\": 23, \"16\": 7, \"84\": 7, \"93\": 7, \"107\": 3, \"126\": 1, \"31\": 1, \"62\": 2, \"33\": 1, \"18\": 1}, \"103\": {\"103\": 15, \"62\": 1}, \"124\": {\"124\": 100, \"85\": 4, \"10\": 1, \"12\": 1, \"98\": 5, \"111\": 1, \"127\": 3, \"90\": 1}, \"3\": {\"3\": 100, \"101\": 2, \"5\": 5, \"4\": 2, \"0\": 1, \"105\": 2, \"114\": 3, \"11\": 1}, \"74\": {\"74\": 11, \"87\": 2, \"25\": 1, \"57\": 2}, \"126\": {\"126\": 106, \"81\": 1, \"18\": 8, \"39\": 2, \"117\": 5}, \"123\": {\"123\": 15, \"120\": 1}, \"51\": {\"51\": 13, \"58\": 1, \"127\": 1, \"111\": 1}, \"14\": {\"14\": 72, \"107\": 1, \"62\": 1, \"87\": 2, \"45\": 1, \"113\": 1, \"90\": 2}, \"16\": {\"16\": 109, \"93\": 2, \"18\": 2, \"109\": 1, \"90\": 1, \"0\": 1}, \"22\": {\"22\": 16}, \"109\": {\"109\": 69, \"43\": 4, \"13\": 3, \"96\": 1, \"118\": 8, \"126\": 1, \"92\": 2, \"33\": 10, \"62\": 1, \"90\": 1, \"102\": 13, \"69\": 4, \"2\": 1, \"93\": 2, \"16\": 1, \"113\": 1}, \"27\": {\"27\": 74, \"94\": 2, \"24\": 6, \"36\": 8, \"30\": 3, \"15\": 1, \"8\": 1, \"113\": 1}, \"75\": {\"75\": 16}, \"66\": {\"53\": 1, \"66\": 15}, \"48\": {\"50\": 1, \"104\": 1, \"56\": 2, \"99\": 2, \"48\": 5, \"84\": 1, \"74\": 1, \"82\": 1, \"116\": 2}, \"6\": {\"54\": 3, \"6\": 10, \"51\": 1, \"12\": 2, \"106\": 2, \"111\": 4, \"94\": 2, \"15\": 1, \"125\": 1, \"91\": 2, \"59\": 1, \"72\": 1, \"97\": 1, \"127\": 1}, \"10\": {\"10\": 60, \"65\": 2, \"12\": 2, \"99\": 2, \"127\": 17, \"98\": 9, \"124\": 3, \"8\": 4, \"108\": 6, \"16\": 1, \"68\": 1, \"35\": 1, \"128\": 1, \"85\": 1, \"126\": 1, \"5\": 1}, \"99\": {\"99\": 32, \"97\": 1, \"71\": 2, \"7\": 1}, \"50\": {\"50\": 16}, \"54\": {\"54\": 16}, \"55\": {\"55\": 15, \"50\": 1}, \"53\": {\"53\": 16, \"107\": 2, \"66\": 1, \"20\": 1}, \"72\": {\"72\": 21, \"58\": 3, \"111\": 1, \"52\": 3}, \"64\": {\"64\": 20}, \"115\": {\"126\": 1, \"115\": 13, \"87\": 2}, \"23\": {\"126\": 2, \"23\": 6, \"81\": 1, \"46\": 1, \"63\": 1, \"2\": 2, \"89\": 1, \"69\": 1, \"52\": 1, \"85\": 3, \"39\": 1, \"19\": 1, \"5\": 2, \"77\": 1, \"96\": 1, \"66\": 1, \"121\": 2, \"127\": 1, \"118\": 1, \"18\": 1, \"10\": 1}, \"32\": {\"57\": 5, \"32\": 12, \"128\": 1, \"107\": 3, \"1\": 4, \"40\": 2, \"50\": 1, \"90\": 1, \"122\": 2, \"23\": 1}, \"15\": {\"15\": 91, \"73\": 1, \"92\": 1, \"106\": 5, \"18\": 1, \"39\": 1, \"94\": 2, \"0\": 1, \"8\": 1}, \"43\": {\"43\": 28, \"13\": 1, \"33\": 4, \"102\": 1, \"109\": 8, \"93\": 1, \"69\": 1, \"92\": 1, \"118\": 6, \"21\": 2, \"117\": 1, \"64\": 1, \"26\": 1}, \"114\": {\"114\": 114, \"3\": 7, \"93\": 1, \"126\": 1, \"30\": 1}, \"121\": {\"121\": 25, \"67\": 2, \"113\": 2, \"26\": 1, \"117\": 1, \"123\": 1}, \"79\": {\"79\": 12}, \"81\": {\"81\": 32}, \"8\": {\"8\": 104, \"101\": 2, \"73\": 2, \"15\": 2, \"0\": 2, \"12\": 8, \"108\": 4, \"85\": 2, \"124\": 2}, \"13\": {\"13\": 10, \"120\": 1, \"109\": 3, \"102\": 1, \"69\": 1}, \"90\": {\"90\": 148, \"14\": 3, \"11\": 5}, \"41\": {\"13\": 1, \"41\": 13, \"66\": 2}, \"107\": {\"107\": 136}, \"57\": {\"57\": 20}, \"33\": {\"33\": 106, \"69\": 1, \"102\": 5, \"90\": 2, \"43\": 1, \"116\": 1, \"62\": 3, \"118\": 1}, \"35\": {\"35\": 9, \"85\": 2, \"11\": 1}, \"29\": {\"29\": 30, \"31\": 1, \"44\": 1}, \"70\": {\"42\": 2, \"70\": 40, \"101\": 2, \"127\": 2, \"129\": 1, \"88\": 5, \"110\": 2, \"108\": 5, \"39\": 1, \"98\": 1, \"71\": 1, \"19\": 1, \"12\": 1, \"5\": 5, \"113\": 1, \"126\": 1, \"3\": 1}, \"42\": {\"43\": 1, \"42\": 11, \"97\": 2, \"106\": 1, \"101\": 1, \"15\": 2, \"111\": 2, \"19\": 1, \"58\": 2, \"73\": 3, \"117\": 1, \"49\": 1}, \"93\": {\"93\": 122, \"16\": 1, \"122\": 1, \"126\": 1, \"39\": 1}, \"86\": {\"86\": 24, \"122\": 1, \"119\": 2, \"128\": 1}, \"28\": {\"28\": 12, \"1\": 2, \"122\": 1, \"31\": 1}, \"1\": {\"1\": 94, \"55\": 2, \"105\": 3, \"18\": 1, \"3\": 2, \"101\": 1, \"122\": 3, \"87\": 1, \"39\": 1}, \"125\": {\"125\": 115, \"111\": 4, \"102\": 1, \"8\": 1, \"68\": 2, \"118\": 1}, \"69\": {\"69\": 78, \"89\": 1, \"18\": 1, \"117\": 1, \"39\": 1, \"62\": 2}, \"97\": {\"97\": 15, \"106\": 1, \"0\": 3, \"101\": 1}, \"117\": {\"117\": 112}, \"68\": {\"68\": 16}, \"30\": {\"93\": 1, \"30\": 51, \"0\": 13, \"80\": 1, \"83\": 2, \"101\": 1, \"70\": 2, \"8\": 2, \"24\": 1, \"73\": 1, \"15\": 4, \"39\": 1, \"97\": 1, \"21\": 1, \"36\": 2}, \"111\": {\"111\": 130, \"12\": 1, \"72\": 1}, \"47\": {\"47\": 12}, \"102\": {\"102\": 121, \"33\": 2, \"118\": 1}, \"65\": {\"65\": 11, \"77\": 1}, \"113\": {\"117\": 8, \"113\": 87, \"81\": 1, \"39\": 10, \"120\": 1, \"2\": 2, \"106\": 1, \"109\": 4, \"121\": 1, \"18\": 1, \"73\": 1, \"11\": 1, \"26\": 2}, \"36\": {\"36\": 90, \"94\": 7, \"30\": 2, \"27\": 13, \"126\": 1, \"24\": 1}, \"119\": {\"119\": 12, \"102\": 2, \"116\": 2}, \"46\": {\"46\": 16}, \"49\": {\"23\": 2, \"20\": 1, \"101\": 1, \"93\": 1, \"60\": 1, \"12\": 2, \"15\": 1, \"49\": 6, \"108\": 1, \"125\": 1, \"87\": 2, \"112\": 1, \"75\": 1, \"28\": 1, \"11\": 1, \"107\": 1}, \"0\": {\"0\": 94, \"42\": 1, \"73\": 1, \"15\": 5, \"101\": 3, \"30\": 5, \"113\": 1, \"97\": 3, \"8\": 3}, \"58\": {\"58\": 15, \"15\": 1}, \"63\": {\"63\": 12, \"117\": 2, \"61\": 2}, \"94\": {\"58\": 2, \"94\": 78, \"92\": 1, \"0\": 2, \"15\": 1}, \"17\": {\"103\": 1, \"17\": 9, \"113\": 1, \"120\": 1, \"95\": 1, \"56\": 1, \"67\": 1, \"86\": 1}, \"9\": {\"105\": 2, \"9\": 29, \"84\": 1}, \"87\": {\"87\": 111, \"14\": 3, \"44\": 2, \"90\": 1, \"107\": 2, \"84\": 1}, \"59\": {\"59\": 10, \"30\": 1, \"73\": 1}, \"105\": {\"105\": 118, \"4\": 1, \"103\": 1}, \"80\": {\"80\": 10, \"10\": 1, \"84\": 1, \"116\": 2, \"11\": 2}, \"120\": {\"120\": 19, \"76\": 1}, \"18\": {\"81\": 2, \"18\": 122, \"69\": 1, \"118\": 1, \"126\": 1, \"117\": 2, \"113\": 2, \"90\": 1}, \"78\": {\"78\": 6, \"20\": 1, \"90\": 1, \"21\": 1, \"28\": 1, \"10\": 1, \"79\": 1, \"101\": 1, \"57\": 1, \"32\": 1, \"96\": 1}, \"25\": {\"25\": 16}, \"19\": {\"129\": 1, \"111\": 1, \"85\": 3, \"16\": 1, \"35\": 1, \"19\": 8, \"124\": 4, \"60\": 2, \"122\": 1, \"14\": 3, \"12\": 2, \"49\": 1, \"112\": 1, \"20\": 1, \"91\": 1, \"128\": 1}, \"122\": {\"129\": 1, \"79\": 1, \"81\": 1, \"122\": 34, \"53\": 2, \"60\": 3, \"18\": 2, \"1\": 8, \"128\": 2, \"55\": 1, \"107\": 2, \"88\": 1, \"114\": 1, \"39\": 1}, \"39\": {\"39\": 67, \"117\": 4, \"81\": 2, \"113\": 14, \"26\": 3, \"126\": 4, \"109\": 4, \"93\": 3, \"88\": 1, \"67\": 1, \"18\": 3, \"1\": 2}, \"76\": {\"76\": 12, \"116\": 2, \"44\": 2}, \"89\": {\"89\": 27, \"121\": 1}, \"129\": {\"129\": 19, \"19\": 1, \"11\": 3, \"16\": 1, \"110\": 3, \"70\": 2, \"14\": 1, \"90\": 1, \"5\": 1}, \"26\": {\"26\": 91, \"2\": 1, \"81\": 1, \"117\": 2, \"80\": 1, \"70\": 1, \"39\": 1, \"118\": 2}, \"85\": {\"85\": 33, \"46\": 1, \"124\": 2}, \"71\": {\"71\": 55, \"66\": 2, \"127\": 1, \"114\": 3, \"105\": 1, \"18\": 2, \"3\": 2, \"128\": 1, \"5\": 1}, \"77\": {\"77\": 13, \"23\": 1, \"114\": 1, \"124\": 1}, \"128\": {\"47\": 1, \"103\": 2, \"128\": 12, \"85\": 1, \"46\": 3, \"32\": 1, \"1\": 1, \"111\": 1, \"10\": 1, \"59\": 1, \"55\": 3, \"91\": 1, \"4\": 1, \"124\": 2, \"86\": 1}, \"2\": {\"26\": 4, \"2\": 12, \"43\": 1, \"120\": 1, \"118\": 4, \"113\": 1, \"67\": 1, \"16\": 1, \"123\": 2, \"117\": 1}, \"56\": {\"56\": 12}, \"24\": {\"24\": 31, \"94\": 1, \"36\": 4, \"27\": 5, \"30\": 7}, \"101\": {\"2\": 2, \"52\": 1, \"101\": 25, \"42\": 1, \"51\": 2, \"8\": 5, \"0\": 4, \"73\": 3, \"18\": 1, \"58\": 2, \"97\": 2, \"106\": 2, \"9\": 1, \"124\": 1}, \"52\": {\"72\": 2, \"52\": 13, \"12\": 1}, \"84\": {\"84\": 92, \"44\": 1, \"90\": 8, \"39\": 1, \"82\": 2, \"1\": 2, \"14\": 2}, \"7\": {\"7\": 106, \"39\": 1, \"109\": 1, \"129\": 1, \"4\": 1, \"105\": 2}, \"82\": {\"82\": 28}, \"60\": {\"114\": 2, \"20\": 1, \"29\": 3, \"50\": 1, \"60\": 12, \"31\": 1, \"40\": 1, \"87\": 1, \"107\": 3, \"110\": 1, \"129\": 2}, \"45\": {\"24\": 1, \"45\": 10, \"18\": 1, \"107\": 1, \"87\": 2, \"117\": 1}, \"40\": {\"40\": 124}, \"20\": {\"20\": 16}, \"4\": {\"4\": 96}, \"116\": {\"116\": 18, \"43\": 2, \"33\": 1, \"48\": 1, \"84\": 2, \"76\": 1, \"87\": 1, \"14\": 1, \"22\": 1}, \"61\": {\"61\": 16}, \"5\": {\"5\": 99, \"3\": 3, \"71\": 1, \"127\": 3, \"114\": 4, \"18\": 1, \"39\": 1}, \"106\": {\"106\": 90, \"72\": 2, \"102\": 1, \"15\": 3, \"73\": 2, \"111\": 1, \"19\": 1}, \"12\": {\"12\": 98, \"98\": 1, \"101\": 2, \"52\": 1, \"35\": 1, \"111\": 1}, \"62\": {\"62\": 113, \"118\": 1, \"33\": 2, \"102\": 2, \"92\": 1, \"39\": 1}, \"34\": {\"1\": 3, \"72\": 1, \"19\": 1, \"41\": 1, \"60\": 2, \"107\": 3, \"34\": 6, \"106\": 1, \"100\": 1, \"14\": 4, \"125\": 1, \"122\": 1, \"64\": 1, \"42\": 2, \"11\": 1, \"58\": 1, \"12\": 1, \"111\": 1}, \"91\": {\"91\": 18, \"41\": 1, \"37\": 2, \"77\": 2, \"46\": 1}, \"112\": {\"112\": 13, \"96\": 1, \"47\": 2}, \"92\": {\"92\": 27, \"118\": 2, \"43\": 2, \"64\": 1}, \"95\": {\"95\": 32}, \"96\": {\"96\": 20}, \"127\": {\"127\": 100, \"93\": 1, \"109\": 1, \"5\": 2, \"46\": 2, \"39\": 1, \"126\": 1}, \"67\": {\"67\": 10, \"121\": 1, \"81\": 2, \"117\": 1, \"18\": 1, \"36\": 1}, \"83\": {\"83\": 24}, \"21\": {\"97\": 2, \"21\": 35, \"67\": 1, \"0\": 2, \"39\": 1, \"126\": 2, \"106\": 1, \"18\": 1, \"36\": 1, \"88\": 1, \"70\": 1}, \"98\": {\"98\": 106, \"12\": 2, \"124\": 9, \"127\": 4, \"16\": 1, \"46\": 1, \"111\": 1}, \"108\": {\"108\": 100, \"10\": 1, \"8\": 4, \"124\": 6, \"70\": 6, \"101\": 1, \"98\": 1, \"5\": 2, \"0\": 2, \"127\": 1, \"83\": 2, \"42\": 2, \"12\": 1, \"85\": 1, \"88\": 1, \"126\": 1}, \"31\": {\"31\": 17, \"84\": 1, \"29\": 1, \"11\": 1}, \"118\": {\"118\": 81, \"109\": 6, \"102\": 6, \"64\": 1, \"43\": 4, \"33\": 1, \"113\": 1}, \"110\": {\"110\": 84, \"129\": 2, \"3\": 2, \"70\": 1, \"122\": 2, \"108\": 1}, \"73\": {\"73\": 39, \"42\": 1}, \"44\": {\"44\": 65, \"43\": 1, \"29\": 1, \"117\": 1, \"26\": 1, \"40\": 1, \"90\": 1, \"16\": 1}, \"37\": {\"37\": 13, \"52\": 2, \"118\": 1}, \"100\": {\"100\": 16}}}, \"per_domain_accuracy\": {\"ORACLE.run126\": {\"accuracy\": 0.5509375, \"source?\": true}, \"ORACLE.run144\": {\"accuracy\": 0.7145833333333333, \"source?\": true}, \"ORACLE.run150\": {\"accuracy\": 0.7863541666666667, \"source?\": true}, \"ORACLE.run138\": {\"accuracy\": 0.8031770833333334, \"source?\": true}, \"ORACLE.run120\": {\"accuracy\": 0.6608854166666667, \"source?\": true}, \"ORACLE.run114\": {\"accuracy\": 0.8221354166666667, \"source?\": true}, \"ORACLE.run132\": {\"accuracy\": 0.77515625, \"source?\": true}, \"ORACLE.run18\": {\"accuracy\": 0.6883333333333334, \"source?\": true}, \"Wisig_4\": {\"accuracy\": 0.7656893004115226, \"source?\": false}, \"Wisig_1\": {\"accuracy\": 0.8205773305084746, \"source?\": false}, \"Wisig_2\": {\"accuracy\": 0.7732740585774058, \"source?\": false}, \"Wisig_3\": {\"accuracy\": 0.8225982532751092, \"source?\": false}}}, \"history\": {\"epoch_indices\": [1, 2, 3, 4, 5, 6, 7, 8, 9, 10, 11, 12, 13, 14, 15, 16, 17, 18], \"train_label_loss\": [1.0655772541259372, 0.8288381838847306, 0.7375623604092038, 0.6544173227412449, 0.5964163407140101, 0.5501551417763612, 0.5079983331417177, 0.4673254588177605, 0.4319059270289394, 0.39979087757905724, 0.37136770722589324, 0.3467522978524877, 0.32284108050951976, 0.30167474454762194, 0.28177729077944863, 0.26444325303758626, 0.2482001972849442, 0.23239979398277466], \"source_val_label_loss\": [1.0080902576446533, 0.8555025458335876, 0.796485185623169, 0.7721186280250549, 0.7642115950584412, 0.7647282481193542, 0.7512723803520203, 0.7568864822387695, 0.7754439115524292, 0.7892210483551025, 0.7980592846870422, 0.8203585743904114, 0.8475703597068787, 0.8592837452888489, 0.8921652436256409, 0.9051510691642761, 0.954685389995575, 0.9776654243469238], \"target_val_label_loss\": [5.110569000244141, 6.400001049041748, 7.718850135803223, 7.969228744506836, 8.843186378479004, 9.081988334655762, 8.669108390808105, 9.519354820251465, 9.697709083557129, 10.329428672790527, 10.506897926330566, 11.121427536010742, 11.331557273864746, 11.72407341003418, 12.149456977844238, 12.559101104736328, 13.403440475463867, 13.692620277404785], \"source_val_acc_label\": [0.6357421875, 0.6771158854166667, 0.7061197916666667, 0.7147786458333333, 0.72193359375, 0.7263151041666667, 0.72638671875, 0.7301692708333334, 0.7282682291666667, 0.72955078125, 0.7269270833333333, 0.7284114583333333, 0.72431640625, 0.7251953125, 0.7204557291666667, 0.72193359375, 0.72451171875, 0.7206315104166666], \"target_val_acc_label\": [0.6760163674762407, 0.7097742872228089, 0.7319165786694826, 0.7439611932418163, 0.75, 0.7650145195353749, 0.7751451953537487, 0.7798640443505808, 0.7818769799366421, 0.7865958289334741, 0.7937895987328405, 0.7890707497360084, 0.7934596092925026, 0.7950435586061246, 0.7914796726504751, 0.7910176874340021, 0.7903247096092925, 0.7914796726504751]}, \"dataset_metrics\": {\"source\": {\"train\": {\"n_unique_x\": 896000, \"n_unique_y\": 16, \"n_batch/episode\": 33600}, \"val\": {\"n_unique_x\": 192000, \"n_unique_y\": 16, \"n_batch/episode\": 4800}, \"test\": {\"n_unique_x\": 192000, \"n_unique_y\": 16, \"n_batch/episode\": 4800}}, \"target\": {\"train\": {\"n_unique_x\": 189001, \"n_unique_y\": 130, \"n_batch/episode\": 6847}, \"val\": {\"n_unique_x\": 40070, \"n_unique_y\": 130, \"n_batch/episode\": 947}, \"test\": {\"n_unique_x\": 40812, \"n_unique_y\": 130, \"n_batch/episode\": 969}}}}'"
      ]
     },
     "execution_count": 29,
     "metadata": {},
     "output_type": "execute_result"
    }
   ],
   "source": [
    "json.dumps(experiment)"
   ]
  }
 ],
 "metadata": {
  "celltoolbar": "Tags",
  "kernelspec": {
   "display_name": "Python 3 (ipykernel)",
   "language": "python",
   "name": "python3"
  },
  "language_info": {
   "codemirror_mode": {
    "name": "ipython",
    "version": 3
   },
   "file_extension": ".py",
   "mimetype": "text/x-python",
   "name": "python",
   "nbconvert_exporter": "python",
   "pygments_lexer": "ipython3",
   "version": "3.8.12"
  },
  "papermill": {
   "default_parameters": {},
   "duration": 17613.672123,
   "end_time": "2022-03-24T08:51:44.470801",
   "environment_variables": {},
   "exception": null,
   "input_path": "/root/csc500-main/csc500-notebooks/templates/tl_ptn_template.ipynb",
   "output_path": "trial.ipynb",
   "parameters": {
    "parameters": {
     "BEST_MODEL_PATH": "./best_model.pth",
     "NUM_LOGS_PER_EPOCH": 10,
     "criteria_for_best": "target_accuracy",
     "dataset_seed": 7,
     "datasets": [
      {
       "domain_prefix": "Wisig_",
       "domains": [
        1,
        2,
        3,
        4
       ],
       "episode_transforms": [],
       "labels": [
        "1-10",
        "1-12",
        "1-14",
        "1-16",
        "1-18",
        "1-19",
        "1-8",
        "10-11",
        "10-17",
        "10-4",
        "10-7",
        "11-1",
        "11-10",
        "11-19",
        "11-20",
        "11-4",
        "11-7",
        "12-19",
        "12-20",
        "12-7",
        "13-14",
        "13-18",
        "13-19",
        "13-20",
        "13-3",
        "13-7",
        "14-10",
        "14-11",
        "14-12",
        "14-13",
        "14-14",
        "14-19",
        "14-20",
        "14-7",
        "14-8",
        "14-9",
        "15-1",
        "15-19",
        "15-6",
        "16-1",
        "16-16",
        "16-19",
        "16-20",
        "17-10",
        "17-11",
        "18-1",
        "18-10",
        "18-11",
        "18-12",
        "18-13",
        "18-14",
        "18-15",
        "18-16",
        "18-17",
        "18-19",
        "18-2",
        "18-20",
        "18-4",
        "18-5",
        "18-7",
        "18-8",
        "18-9",
        "19-1",
        "19-10",
        "19-11",
        "19-12",
        "19-13",
        "19-14",
        "19-15",
        "19-19",
        "19-2",
        "19-20",
        "19-3",
        "19-4",
        "19-6",
        "19-7",
        "19-8",
        "19-9",
        "2-1",
        "2-13",
        "2-15",
        "2-3",
        "2-4",
        "2-5",
        "2-6",
        "2-7",
        "2-8",
        "20-1",
        "20-12",
        "20-14",
        "20-15",
        "20-16",
        "20-18",
        "20-19",
        "20-20",
        "20-3",
        "20-4",
        "20-5",
        "20-7",
        "20-8",
        "3-1",
        "3-13",
        "3-18",
        "3-2",
        "3-8",
        "4-1",
        "4-10",
        "4-11",
        "5-1",
        "5-5",
        "6-1",
        "6-15",
        "6-6",
        "7-10",
        "7-11",
        "7-12",
        "7-13",
        "7-14",
        "7-7",
        "7-8",
        "7-9",
        "8-1",
        "8-13",
        "8-14",
        "8-18",
        "8-20",
        "8-3",
        "8-8",
        "9-1",
        "9-7"
       ],
       "num_examples_per_domain_per_label": -1,
       "pickle_path": "/root/csc500-main/datasets/wisig.node3-19.stratified_ds.2022A.pkl",
       "source_or_target_dataset": "target",
       "x_transforms": [
        "unit_mag"
       ]
      },
      {
       "domain_prefix": "ORACLE.run1",
       "domains": [
        32,
        38,
        8,
        44,
        14,
        50,
        20,
        26
       ],
       "episode_transforms": [],
       "labels": [
        "3123D52",
        "3123D65",
        "3123D79",
        "3123D80",
        "3123D54",
        "3123D70",
        "3123D7B",
        "3123D89",
        "3123D58",
        "3123D76",
        "3123D7D",
        "3123EFE",
        "3123D64",
        "3123D78",
        "3123D7E",
        "3124E4A"
       ],
       "num_examples_per_domain_per_label": 10000,
       "pickle_path": "/root/csc500-main/datasets/oracle.Run1_10kExamples_stratified_ds.2022A.pkl",
       "source_or_target_dataset": "source",
       "x_transforms": [
        "unit_mag"
       ]
      }
     ],
     "device": "cuda",
     "experiment_name": "tl_1v2:wisig-oracle.run1",
     "lr": 0.0001,
     "n_epoch": 50,
     "n_query": 2,
     "n_shot": 3,
     "n_way": 16,
     "patience": 3,
     "seed": 7,
     "test_k_factor": 2,
     "torch_default_dtype": "torch.float32",
     "train_k_factor": 3,
     "val_k_factor": 2,
     "x_net": [
      {
       "class": "nnReshape",
       "kargs": {
        "shape": [
         -1,
         1,
         2,
         256
        ]
       }
      },
      {
       "class": "Conv2d",
       "kargs": {
        "bias": false,
        "in_channels": 1,
        "kernel_size": [
         1,
         7
        ],
        "out_channels": 256,
        "padding": [
         0,
         3
        ]
       }
      },
      {
       "class": "ReLU",
       "kargs": {
        "inplace": true
       }
      },
      {
       "class": "BatchNorm2d",
       "kargs": {
        "num_features": 256
       }
      },
      {
       "class": "Conv2d",
       "kargs": {
        "bias": true,
        "in_channels": 256,
        "kernel_size": [
         2,
         7
        ],
        "out_channels": 80,
        "padding": [
         0,
         3
        ]
       }
      },
      {
       "class": "ReLU",
       "kargs": {
        "inplace": true
       }
      },
      {
       "class": "BatchNorm2d",
       "kargs": {
        "num_features": 80
       }
      },
      {
       "class": "Flatten",
       "kargs": {}
      },
      {
       "class": "Linear",
       "kargs": {
        "in_features": 20480,
        "out_features": 256
       }
      },
      {
       "class": "ReLU",
       "kargs": {
        "inplace": true
       }
      },
      {
       "class": "BatchNorm1d",
       "kargs": {
        "num_features": 256
       }
      },
      {
       "class": "Linear",
       "kargs": {
        "in_features": 256,
        "out_features": 256
       }
      }
     ]
    }
   },
   "start_time": "2022-03-24T03:58:10.798678",
   "version": "2.3.4"
  }
 },
 "nbformat": 4,
 "nbformat_minor": 5
}