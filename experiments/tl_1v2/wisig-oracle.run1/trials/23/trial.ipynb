{
 "cells": [
  {
   "cell_type": "markdown",
   "id": "9fea5f46",
   "metadata": {
    "papermill": {
     "duration": 0.032169,
     "end_time": "2022-03-24T04:07:33.319525",
     "exception": false,
     "start_time": "2022-03-24T04:07:33.287356",
     "status": "completed"
    },
    "tags": []
   },
   "source": [
    "# Transfer Learning Template"
   ]
  },
  {
   "cell_type": "code",
   "execution_count": 1,
   "id": "0902182a",
   "metadata": {
    "execution": {
     "iopub.execute_input": "2022-03-24T04:07:33.384330Z",
     "iopub.status.busy": "2022-03-24T04:07:33.376776Z",
     "iopub.status.idle": "2022-03-24T04:07:35.499879Z",
     "shell.execute_reply": "2022-03-24T04:07:35.498973Z"
    },
    "papermill": {
     "duration": 2.15536,
     "end_time": "2022-03-24T04:07:35.500070",
     "exception": false,
     "start_time": "2022-03-24T04:07:33.344710",
     "status": "completed"
    },
    "tags": []
   },
   "outputs": [],
   "source": [
    "%load_ext autoreload\n",
    "%autoreload 2\n",
    "%matplotlib inline\n",
    "\n",
    "    \n",
    "import os, json, sys, time, random\n",
    "import numpy as np\n",
    "import torch\n",
    "from torch.optim import Adam\n",
    "from  easydict import EasyDict\n",
    "import matplotlib.pyplot as plt\n",
    "\n",
    "from steves_models.steves_ptn import Steves_Prototypical_Network\n",
    "\n",
    "from steves_utils.lazy_iterable_wrapper import Lazy_Iterable_Wrapper\n",
    "from steves_utils.iterable_aggregator import Iterable_Aggregator\n",
    "from steves_utils.ptn_train_eval_test_jig import  PTN_Train_Eval_Test_Jig\n",
    "from steves_utils.torch_sequential_builder import build_sequential\n",
    "from steves_utils.torch_utils import get_dataset_metrics, ptn_confusion_by_domain_over_dataloader\n",
    "from steves_utils.utils_v2 import (per_domain_accuracy_from_confusion, get_datasets_base_path)\n",
    "from steves_utils.PTN.utils import independent_accuracy_assesment\n",
    "\n",
    "from torch.utils.data import DataLoader\n",
    "\n",
    "from steves_utils.stratified_dataset.episodic_accessor import Episodic_Accessor_Factory\n",
    "\n",
    "from steves_utils.ptn_do_report import (\n",
    "    get_loss_curve,\n",
    "    get_results_table,\n",
    "    get_parameters_table,\n",
    "    get_domain_accuracies,\n",
    ")\n",
    "\n",
    "from steves_utils.transforms import get_chained_transform"
   ]
  },
  {
   "cell_type": "markdown",
   "id": "41c840b4",
   "metadata": {
    "papermill": {
     "duration": 0.018856,
     "end_time": "2022-03-24T04:07:35.543231",
     "exception": false,
     "start_time": "2022-03-24T04:07:35.524375",
     "status": "completed"
    },
    "tags": []
   },
   "source": [
    "# Allowed Parameters\n",
    "These are allowed parameters, not defaults\n",
    "Each of these values need to be present in the injected parameters (the notebook will raise an exception if they are not present)\n",
    "\n",
    "Papermill uses the cell tag \"parameters\" to inject the real parameters below this cell.\n",
    "Enable tags to see what I mean"
   ]
  },
  {
   "cell_type": "code",
   "execution_count": 2,
   "id": "fd44eb83",
   "metadata": {
    "execution": {
     "iopub.execute_input": "2022-03-24T04:07:35.587570Z",
     "iopub.status.busy": "2022-03-24T04:07:35.586906Z",
     "iopub.status.idle": "2022-03-24T04:07:35.609767Z",
     "shell.execute_reply": "2022-03-24T04:07:35.610434Z"
    },
    "papermill": {
     "duration": 0.048342,
     "end_time": "2022-03-24T04:07:35.610613",
     "exception": false,
     "start_time": "2022-03-24T04:07:35.562271",
     "status": "completed"
    },
    "tags": []
   },
   "outputs": [],
   "source": [
    "required_parameters = {\n",
    "    \"experiment_name\",\n",
    "    \"lr\",\n",
    "    \"device\",\n",
    "    \"seed\",\n",
    "    \"dataset_seed\",\n",
    "    \"n_shot\",\n",
    "    \"n_query\",\n",
    "    \"n_way\",\n",
    "    \"train_k_factor\",\n",
    "    \"val_k_factor\",\n",
    "    \"test_k_factor\",\n",
    "    \"n_epoch\",\n",
    "    \"patience\",\n",
    "    \"criteria_for_best\",\n",
    "    \"x_net\",\n",
    "    \"datasets\",\n",
    "    \"torch_default_dtype\",\n",
    "    \"NUM_LOGS_PER_EPOCH\",\n",
    "    \"BEST_MODEL_PATH\",\n",
    "    \"x_shape\",\n",
    "}"
   ]
  },
  {
   "cell_type": "code",
   "execution_count": 3,
   "id": "fa3f0049",
   "metadata": {
    "execution": {
     "iopub.execute_input": "2022-03-24T04:07:35.669296Z",
     "iopub.status.busy": "2022-03-24T04:07:35.663646Z",
     "iopub.status.idle": "2022-03-24T04:07:35.692506Z",
     "shell.execute_reply": "2022-03-24T04:07:35.691674Z"
    },
    "papermill": {
     "duration": 0.055601,
     "end_time": "2022-03-24T04:07:35.692658",
     "exception": false,
     "start_time": "2022-03-24T04:07:35.637057",
     "status": "completed"
    },
    "tags": [
     "parameters"
    ]
   },
   "outputs": [],
   "source": [
    "from steves_utils.CORES.utils import (\n",
    "    ALL_NODES,\n",
    "    ALL_NODES_MINIMUM_1000_EXAMPLES,\n",
    "    ALL_DAYS\n",
    ")\n",
    "\n",
    "from steves_utils.ORACLE.utils_v2 import (\n",
    "    ALL_DISTANCES_FEET_NARROWED,\n",
    "    ALL_RUNS,\n",
    "    ALL_SERIAL_NUMBERS,\n",
    ")\n",
    "\n",
    "standalone_parameters = {}\n",
    "standalone_parameters[\"experiment_name\"] = \"STANDALONE PTN\"\n",
    "standalone_parameters[\"lr\"] = 0.001\n",
    "standalone_parameters[\"device\"] = \"cuda\"\n",
    "\n",
    "standalone_parameters[\"seed\"] = 1337\n",
    "standalone_parameters[\"dataset_seed\"] = 1337\n",
    "\n",
    "standalone_parameters[\"n_way\"] = 8\n",
    "standalone_parameters[\"n_shot\"] = 3\n",
    "standalone_parameters[\"n_query\"]  = 2\n",
    "standalone_parameters[\"train_k_factor\"] = 1\n",
    "standalone_parameters[\"val_k_factor\"] = 2\n",
    "standalone_parameters[\"test_k_factor\"] = 2\n",
    "\n",
    "\n",
    "standalone_parameters[\"n_epoch\"] = 50\n",
    "\n",
    "standalone_parameters[\"patience\"] = 10\n",
    "standalone_parameters[\"criteria_for_best\"] = \"source_loss\"\n",
    "\n",
    "standalone_parameters[\"datasets\"] = [\n",
    "    {\n",
    "        \"labels\": ALL_SERIAL_NUMBERS,\n",
    "        \"domains\": ALL_DISTANCES_FEET_NARROWED,\n",
    "        \"num_examples_per_domain_per_label\": 100,\n",
    "        \"pickle_path\": os.path.join(get_datasets_base_path(), \"oracle.Run1_framed_2000Examples_stratified_ds.2022A.pkl\"),\n",
    "        \"source_or_target_dataset\": \"source\",\n",
    "        \"x_transforms\": [\"unit_mag\", \"minus_two\"],\n",
    "        \"episode_transforms\": [],\n",
    "        \"domain_prefix\": \"ORACLE_\"\n",
    "    },\n",
    "    {\n",
    "        \"labels\": ALL_NODES,\n",
    "        \"domains\": ALL_DAYS,\n",
    "        \"num_examples_per_domain_per_label\": 100,\n",
    "        \"pickle_path\": os.path.join(get_datasets_base_path(), \"cores.stratified_ds.2022A.pkl\"),\n",
    "        \"source_or_target_dataset\": \"target\",\n",
    "        \"x_transforms\": [\"unit_power\", \"times_zero\"],\n",
    "        \"episode_transforms\": [],\n",
    "        \"domain_prefix\": \"CORES_\"\n",
    "    }   \n",
    "]\n",
    "\n",
    "standalone_parameters[\"torch_default_dtype\"] = \"torch.float32\" \n",
    "\n",
    "\n",
    "\n",
    "standalone_parameters[\"x_net\"] =     [\n",
    "    {\"class\": \"nnReshape\", \"kargs\": {\"shape\":[-1, 1, 2, 256]}},\n",
    "    {\"class\": \"Conv2d\", \"kargs\": { \"in_channels\":1, \"out_channels\":256, \"kernel_size\":(1,7), \"bias\":False, \"padding\":(0,3), },},\n",
    "    {\"class\": \"ReLU\", \"kargs\": {\"inplace\": True}},\n",
    "    {\"class\": \"BatchNorm2d\", \"kargs\": {\"num_features\":256}},\n",
    "\n",
    "    {\"class\": \"Conv2d\", \"kargs\": { \"in_channels\":256, \"out_channels\":80, \"kernel_size\":(2,7), \"bias\":True, \"padding\":(0,3), },},\n",
    "    {\"class\": \"ReLU\", \"kargs\": {\"inplace\": True}},\n",
    "    {\"class\": \"BatchNorm2d\", \"kargs\": {\"num_features\":80}},\n",
    "    {\"class\": \"Flatten\", \"kargs\": {}},\n",
    "\n",
    "    {\"class\": \"Linear\", \"kargs\": {\"in_features\": 80*256, \"out_features\": 256}}, # 80 units per IQ pair\n",
    "    {\"class\": \"ReLU\", \"kargs\": {\"inplace\": True}},\n",
    "    {\"class\": \"BatchNorm1d\", \"kargs\": {\"num_features\":256}},\n",
    "\n",
    "    {\"class\": \"Linear\", \"kargs\": {\"in_features\": 256, \"out_features\": 256}},\n",
    "]\n",
    "\n",
    "# Parameters relevant to results\n",
    "# These parameters will basically never need to change\n",
    "standalone_parameters[\"NUM_LOGS_PER_EPOCH\"] = 10\n",
    "standalone_parameters[\"BEST_MODEL_PATH\"] = \"./best_model.pth\"\n",
    "\n",
    "\n",
    "\n",
    "\n"
   ]
  },
  {
   "cell_type": "code",
   "execution_count": 4,
   "id": "3711a4df",
   "metadata": {
    "execution": {
     "iopub.execute_input": "2022-03-24T04:07:35.754075Z",
     "iopub.status.busy": "2022-03-24T04:07:35.745126Z",
     "iopub.status.idle": "2022-03-24T04:07:35.777128Z",
     "shell.execute_reply": "2022-03-24T04:07:35.776417Z"
    },
    "papermill": {
     "duration": 0.059431,
     "end_time": "2022-03-24T04:07:35.777279",
     "exception": false,
     "start_time": "2022-03-24T04:07:35.717848",
     "status": "completed"
    },
    "tags": [
     "injected-parameters"
    ]
   },
   "outputs": [],
   "source": [
    "# Parameters\n",
    "parameters = {\n",
    "    \"experiment_name\": \"tl_1v2:wisig-oracle.run1\",\n",
    "    \"device\": \"cuda\",\n",
    "    \"lr\": 0.0001,\n",
    "    \"n_shot\": 3,\n",
    "    \"n_query\": 2,\n",
    "    \"train_k_factor\": 3,\n",
    "    \"val_k_factor\": 2,\n",
    "    \"test_k_factor\": 2,\n",
    "    \"torch_default_dtype\": \"torch.float32\",\n",
    "    \"n_epoch\": 50,\n",
    "    \"patience\": 3,\n",
    "    \"criteria_for_best\": \"target_accuracy\",\n",
    "    \"x_net\": [\n",
    "        {\"class\": \"nnReshape\", \"kargs\": {\"shape\": [-1, 1, 2, 256]}},\n",
    "        {\n",
    "            \"class\": \"Conv2d\",\n",
    "            \"kargs\": {\n",
    "                \"in_channels\": 1,\n",
    "                \"out_channels\": 256,\n",
    "                \"kernel_size\": [1, 7],\n",
    "                \"bias\": False,\n",
    "                \"padding\": [0, 3],\n",
    "            },\n",
    "        },\n",
    "        {\"class\": \"ReLU\", \"kargs\": {\"inplace\": True}},\n",
    "        {\"class\": \"BatchNorm2d\", \"kargs\": {\"num_features\": 256}},\n",
    "        {\n",
    "            \"class\": \"Conv2d\",\n",
    "            \"kargs\": {\n",
    "                \"in_channels\": 256,\n",
    "                \"out_channels\": 80,\n",
    "                \"kernel_size\": [2, 7],\n",
    "                \"bias\": True,\n",
    "                \"padding\": [0, 3],\n",
    "            },\n",
    "        },\n",
    "        {\"class\": \"ReLU\", \"kargs\": {\"inplace\": True}},\n",
    "        {\"class\": \"BatchNorm2d\", \"kargs\": {\"num_features\": 80}},\n",
    "        {\"class\": \"Flatten\", \"kargs\": {}},\n",
    "        {\"class\": \"Linear\", \"kargs\": {\"in_features\": 20480, \"out_features\": 256}},\n",
    "        {\"class\": \"ReLU\", \"kargs\": {\"inplace\": True}},\n",
    "        {\"class\": \"BatchNorm1d\", \"kargs\": {\"num_features\": 256}},\n",
    "        {\"class\": \"Linear\", \"kargs\": {\"in_features\": 256, \"out_features\": 256}},\n",
    "    ],\n",
    "    \"NUM_LOGS_PER_EPOCH\": 10,\n",
    "    \"BEST_MODEL_PATH\": \"./best_model.pth\",\n",
    "    \"n_way\": 16,\n",
    "    \"datasets\": [\n",
    "        {\n",
    "            \"labels\": [\n",
    "                \"1-10\",\n",
    "                \"1-12\",\n",
    "                \"1-14\",\n",
    "                \"1-16\",\n",
    "                \"1-18\",\n",
    "                \"1-19\",\n",
    "                \"1-8\",\n",
    "                \"10-11\",\n",
    "                \"10-17\",\n",
    "                \"10-4\",\n",
    "                \"10-7\",\n",
    "                \"11-1\",\n",
    "                \"11-10\",\n",
    "                \"11-19\",\n",
    "                \"11-20\",\n",
    "                \"11-4\",\n",
    "                \"11-7\",\n",
    "                \"12-19\",\n",
    "                \"12-20\",\n",
    "                \"12-7\",\n",
    "                \"13-14\",\n",
    "                \"13-18\",\n",
    "                \"13-19\",\n",
    "                \"13-20\",\n",
    "                \"13-3\",\n",
    "                \"13-7\",\n",
    "                \"14-10\",\n",
    "                \"14-11\",\n",
    "                \"14-12\",\n",
    "                \"14-13\",\n",
    "                \"14-14\",\n",
    "                \"14-19\",\n",
    "                \"14-20\",\n",
    "                \"14-7\",\n",
    "                \"14-8\",\n",
    "                \"14-9\",\n",
    "                \"15-1\",\n",
    "                \"15-19\",\n",
    "                \"15-6\",\n",
    "                \"16-1\",\n",
    "                \"16-16\",\n",
    "                \"16-19\",\n",
    "                \"16-20\",\n",
    "                \"17-10\",\n",
    "                \"17-11\",\n",
    "                \"18-1\",\n",
    "                \"18-10\",\n",
    "                \"18-11\",\n",
    "                \"18-12\",\n",
    "                \"18-13\",\n",
    "                \"18-14\",\n",
    "                \"18-15\",\n",
    "                \"18-16\",\n",
    "                \"18-17\",\n",
    "                \"18-19\",\n",
    "                \"18-2\",\n",
    "                \"18-20\",\n",
    "                \"18-4\",\n",
    "                \"18-5\",\n",
    "                \"18-7\",\n",
    "                \"18-8\",\n",
    "                \"18-9\",\n",
    "                \"19-1\",\n",
    "                \"19-10\",\n",
    "                \"19-11\",\n",
    "                \"19-12\",\n",
    "                \"19-13\",\n",
    "                \"19-14\",\n",
    "                \"19-15\",\n",
    "                \"19-19\",\n",
    "                \"19-2\",\n",
    "                \"19-20\",\n",
    "                \"19-3\",\n",
    "                \"19-4\",\n",
    "                \"19-6\",\n",
    "                \"19-7\",\n",
    "                \"19-8\",\n",
    "                \"19-9\",\n",
    "                \"2-1\",\n",
    "                \"2-13\",\n",
    "                \"2-15\",\n",
    "                \"2-3\",\n",
    "                \"2-4\",\n",
    "                \"2-5\",\n",
    "                \"2-6\",\n",
    "                \"2-7\",\n",
    "                \"2-8\",\n",
    "                \"20-1\",\n",
    "                \"20-12\",\n",
    "                \"20-14\",\n",
    "                \"20-15\",\n",
    "                \"20-16\",\n",
    "                \"20-18\",\n",
    "                \"20-19\",\n",
    "                \"20-20\",\n",
    "                \"20-3\",\n",
    "                \"20-4\",\n",
    "                \"20-5\",\n",
    "                \"20-7\",\n",
    "                \"20-8\",\n",
    "                \"3-1\",\n",
    "                \"3-13\",\n",
    "                \"3-18\",\n",
    "                \"3-2\",\n",
    "                \"3-8\",\n",
    "                \"4-1\",\n",
    "                \"4-10\",\n",
    "                \"4-11\",\n",
    "                \"5-1\",\n",
    "                \"5-5\",\n",
    "                \"6-1\",\n",
    "                \"6-15\",\n",
    "                \"6-6\",\n",
    "                \"7-10\",\n",
    "                \"7-11\",\n",
    "                \"7-12\",\n",
    "                \"7-13\",\n",
    "                \"7-14\",\n",
    "                \"7-7\",\n",
    "                \"7-8\",\n",
    "                \"7-9\",\n",
    "                \"8-1\",\n",
    "                \"8-13\",\n",
    "                \"8-14\",\n",
    "                \"8-18\",\n",
    "                \"8-20\",\n",
    "                \"8-3\",\n",
    "                \"8-8\",\n",
    "                \"9-1\",\n",
    "                \"9-7\",\n",
    "            ],\n",
    "            \"domains\": [1, 2, 3, 4],\n",
    "            \"num_examples_per_domain_per_label\": -1,\n",
    "            \"pickle_path\": \"/root/csc500-main/datasets/wisig.node3-19.stratified_ds.2022A.pkl\",\n",
    "            \"source_or_target_dataset\": \"target\",\n",
    "            \"x_transforms\": [],\n",
    "            \"episode_transforms\": [],\n",
    "            \"domain_prefix\": \"Wisig_\",\n",
    "        },\n",
    "        {\n",
    "            \"labels\": [\n",
    "                \"3123D52\",\n",
    "                \"3123D65\",\n",
    "                \"3123D79\",\n",
    "                \"3123D80\",\n",
    "                \"3123D54\",\n",
    "                \"3123D70\",\n",
    "                \"3123D7B\",\n",
    "                \"3123D89\",\n",
    "                \"3123D58\",\n",
    "                \"3123D76\",\n",
    "                \"3123D7D\",\n",
    "                \"3123EFE\",\n",
    "                \"3123D64\",\n",
    "                \"3123D78\",\n",
    "                \"3123D7E\",\n",
    "                \"3124E4A\",\n",
    "            ],\n",
    "            \"domains\": [32, 38, 8, 44, 14, 50, 20, 26],\n",
    "            \"num_examples_per_domain_per_label\": 10000,\n",
    "            \"pickle_path\": \"/root/csc500-main/datasets/oracle.Run1_10kExamples_stratified_ds.2022A.pkl\",\n",
    "            \"source_or_target_dataset\": \"source\",\n",
    "            \"x_transforms\": [],\n",
    "            \"episode_transforms\": [],\n",
    "            \"domain_prefix\": \"ORACLE.run1\",\n",
    "        },\n",
    "    ],\n",
    "    \"dataset_seed\": 7,\n",
    "    \"seed\": 7,\n",
    "}\n"
   ]
  },
  {
   "cell_type": "code",
   "execution_count": 5,
   "id": "8fa1cc33",
   "metadata": {
    "execution": {
     "iopub.execute_input": "2022-03-24T04:07:35.829180Z",
     "iopub.status.busy": "2022-03-24T04:07:35.828739Z",
     "iopub.status.idle": "2022-03-24T04:07:35.850517Z",
     "shell.execute_reply": "2022-03-24T04:07:35.849819Z"
    },
    "papermill": {
     "duration": 0.048162,
     "end_time": "2022-03-24T04:07:35.850669",
     "exception": false,
     "start_time": "2022-03-24T04:07:35.802507",
     "status": "completed"
    },
    "tags": []
   },
   "outputs": [],
   "source": [
    "# Set this to True if you want to run this template directly\n",
    "STANDALONE = False\n",
    "if STANDALONE:\n",
    "    print(\"parameters not injected, running with standalone_parameters\")\n",
    "    parameters = standalone_parameters\n",
    "\n",
    "if not 'parameters' in locals() and not 'parameters' in globals():\n",
    "    raise Exception(\"Parameter injection failed\")\n",
    "\n",
    "#Use an easy dict for all the parameters\n",
    "p = EasyDict(parameters)\n",
    "\n",
    "if \"x_shape\" not in p:\n",
    "    p.x_shape = [2,256] # Default to this if we dont supply x_shape\n",
    "\n",
    "\n",
    "supplied_keys = set(p.keys())\n",
    "\n",
    "if  supplied_keys != required_parameters:\n",
    "    print(\"Parameters are incorrect\")\n",
    "    if len(supplied_keys - required_parameters)>0: print(\"Shouldn't have:\", str(supplied_keys - required_parameters))\n",
    "    if len(required_parameters - supplied_keys)>0: print(\"Need to have:\", str(required_parameters - supplied_keys))\n",
    "    raise RuntimeError(\"Parameters are incorrect\")"
   ]
  },
  {
   "cell_type": "code",
   "execution_count": 6,
   "id": "3a028d58",
   "metadata": {
    "execution": {
     "iopub.execute_input": "2022-03-24T04:07:35.900126Z",
     "iopub.status.busy": "2022-03-24T04:07:35.899757Z",
     "iopub.status.idle": "2022-03-24T04:07:35.923280Z",
     "shell.execute_reply": "2022-03-24T04:07:35.922475Z"
    },
    "papermill": {
     "duration": 0.046405,
     "end_time": "2022-03-24T04:07:35.923431",
     "exception": false,
     "start_time": "2022-03-24T04:07:35.877026",
     "status": "completed"
    },
    "tags": []
   },
   "outputs": [],
   "source": [
    "###################################\n",
    "# Set the RNGs and make it all deterministic\n",
    "###################################\n",
    "np.random.seed(p.seed)\n",
    "random.seed(p.seed)\n",
    "torch.manual_seed(p.seed)\n",
    "\n",
    "torch.use_deterministic_algorithms(True) "
   ]
  },
  {
   "cell_type": "code",
   "execution_count": 7,
   "id": "b691acf6",
   "metadata": {
    "execution": {
     "iopub.execute_input": "2022-03-24T04:07:35.972701Z",
     "iopub.status.busy": "2022-03-24T04:07:35.972330Z",
     "iopub.status.idle": "2022-03-24T04:07:35.994698Z",
     "shell.execute_reply": "2022-03-24T04:07:35.993994Z"
    },
    "papermill": {
     "duration": 0.045094,
     "end_time": "2022-03-24T04:07:35.994852",
     "exception": false,
     "start_time": "2022-03-24T04:07:35.949758",
     "status": "completed"
    },
    "tags": []
   },
   "outputs": [],
   "source": [
    "###########################################\n",
    "# The stratified datasets honor this\n",
    "###########################################\n",
    "torch.set_default_dtype(eval(p.torch_default_dtype))"
   ]
  },
  {
   "cell_type": "code",
   "execution_count": 8,
   "id": "b5fba671",
   "metadata": {
    "execution": {
     "iopub.execute_input": "2022-03-24T04:07:36.042145Z",
     "iopub.status.busy": "2022-03-24T04:07:36.041776Z",
     "iopub.status.idle": "2022-03-24T04:07:36.096806Z",
     "shell.execute_reply": "2022-03-24T04:07:36.096094Z"
    },
    "papermill": {
     "duration": 0.077754,
     "end_time": "2022-03-24T04:07:36.096959",
     "exception": false,
     "start_time": "2022-03-24T04:07:36.019205",
     "status": "completed"
    },
    "tags": []
   },
   "outputs": [],
   "source": [
    "###################################\n",
    "# Build the network(s)\n",
    "# Note: It's critical to do this AFTER setting the RNG\n",
    "###################################\n",
    "x_net = build_sequential(p.x_net)"
   ]
  },
  {
   "cell_type": "code",
   "execution_count": 9,
   "id": "5d7e61cc",
   "metadata": {
    "execution": {
     "iopub.execute_input": "2022-03-24T04:07:36.146478Z",
     "iopub.status.busy": "2022-03-24T04:07:36.146107Z",
     "iopub.status.idle": "2022-03-24T04:07:36.171723Z",
     "shell.execute_reply": "2022-03-24T04:07:36.170987Z"
    },
    "papermill": {
     "duration": 0.049127,
     "end_time": "2022-03-24T04:07:36.171877",
     "exception": false,
     "start_time": "2022-03-24T04:07:36.122750",
     "status": "completed"
    },
    "tags": []
   },
   "outputs": [],
   "source": [
    "start_time_secs = time.time()"
   ]
  },
  {
   "cell_type": "code",
   "execution_count": 10,
   "id": "c6b67dfd",
   "metadata": {
    "execution": {
     "iopub.execute_input": "2022-03-24T04:07:36.221920Z",
     "iopub.status.busy": "2022-03-24T04:07:36.221552Z",
     "iopub.status.idle": "2022-03-24T04:07:36.247097Z",
     "shell.execute_reply": "2022-03-24T04:07:36.247788Z"
    },
    "papermill": {
     "duration": 0.0499,
     "end_time": "2022-03-24T04:07:36.247966",
     "exception": false,
     "start_time": "2022-03-24T04:07:36.198066",
     "status": "completed"
    },
    "tags": []
   },
   "outputs": [],
   "source": [
    "p.domains_source = []\n",
    "p.domains_target = []\n",
    "\n",
    "\n",
    "train_original_source = []\n",
    "val_original_source   = []\n",
    "test_original_source  = []\n",
    "\n",
    "train_original_target = []\n",
    "val_original_target   = []\n",
    "test_original_target  = []"
   ]
  },
  {
   "cell_type": "code",
   "execution_count": 11,
   "id": "e3d9c3d3",
   "metadata": {
    "execution": {
     "iopub.execute_input": "2022-03-24T04:07:36.297590Z",
     "iopub.status.busy": "2022-03-24T04:07:36.297219Z",
     "iopub.status.idle": "2022-03-24T04:07:36.318846Z",
     "shell.execute_reply": "2022-03-24T04:07:36.318037Z"
    },
    "papermill": {
     "duration": 0.044133,
     "end_time": "2022-03-24T04:07:36.318999",
     "exception": false,
     "start_time": "2022-03-24T04:07:36.274866",
     "status": "completed"
    },
    "tags": []
   },
   "outputs": [],
   "source": [
    "# global_x_transform_func = lambda x: normalize(x.to(torch.get_default_dtype()), \"unit_power\") # unit_power, unit_mag\n",
    "# global_x_transform_func = lambda x: normalize(x, \"unit_power\") # unit_power, unit_mag"
   ]
  },
  {
   "cell_type": "code",
   "execution_count": 12,
   "id": "acb78fd2",
   "metadata": {
    "execution": {
     "iopub.execute_input": "2022-03-24T04:07:36.374970Z",
     "iopub.status.busy": "2022-03-24T04:07:36.374381Z",
     "iopub.status.idle": "2022-03-24T04:07:36.397982Z",
     "shell.execute_reply": "2022-03-24T04:07:36.397171Z"
    },
    "papermill": {
     "duration": 0.054549,
     "end_time": "2022-03-24T04:07:36.398136",
     "exception": false,
     "start_time": "2022-03-24T04:07:36.343587",
     "status": "completed"
    },
    "tags": []
   },
   "outputs": [],
   "source": [
    "def add_dataset(\n",
    "    labels,\n",
    "    domains,\n",
    "    pickle_path,\n",
    "    x_transforms,\n",
    "    episode_transforms,\n",
    "    domain_prefix,\n",
    "    num_examples_per_domain_per_label,\n",
    "    source_or_target_dataset:str,\n",
    "    iterator_seed=p.seed,\n",
    "    dataset_seed=p.dataset_seed,\n",
    "    n_shot=p.n_shot,\n",
    "    n_way=p.n_way,\n",
    "    n_query=p.n_query,\n",
    "    train_val_test_k_factors=(p.train_k_factor,p.val_k_factor,p.test_k_factor),\n",
    "):\n",
    "   \n",
    "    if x_transforms == []: x_transform = None\n",
    "    else: x_transform = get_chained_transform(x_transforms)\n",
    "    \n",
    "    if episode_transforms == []: episode_transform = None\n",
    "    else: raise Exception(\"episode_transforms not implemented\")\n",
    "    \n",
    "    episode_transform = lambda tup, _prefix=domain_prefix: (_prefix + str(tup[0]), tup[1])\n",
    "\n",
    "\n",
    "    eaf = Episodic_Accessor_Factory(\n",
    "        labels=labels,\n",
    "        domains=domains,\n",
    "        num_examples_per_domain_per_label=num_examples_per_domain_per_label,\n",
    "        iterator_seed=iterator_seed,\n",
    "        dataset_seed=dataset_seed,\n",
    "        n_shot=n_shot,\n",
    "        n_way=n_way,\n",
    "        n_query=n_query,\n",
    "        train_val_test_k_factors=train_val_test_k_factors,\n",
    "        pickle_path=pickle_path,\n",
    "        x_transform_func=x_transform,\n",
    "    )\n",
    "\n",
    "    train, val, test = eaf.get_train(), eaf.get_val(), eaf.get_test()\n",
    "    train = Lazy_Iterable_Wrapper(train, episode_transform)\n",
    "    val = Lazy_Iterable_Wrapper(val, episode_transform)\n",
    "    test = Lazy_Iterable_Wrapper(test, episode_transform)\n",
    "\n",
    "    if source_or_target_dataset==\"source\":\n",
    "        train_original_source.append(train)\n",
    "        val_original_source.append(val)\n",
    "        test_original_source.append(test)\n",
    "\n",
    "        p.domains_source.extend(\n",
    "            [domain_prefix + str(u) for u in domains]\n",
    "        )\n",
    "    elif source_or_target_dataset==\"target\":\n",
    "        train_original_target.append(train)\n",
    "        val_original_target.append(val)\n",
    "        test_original_target.append(test)\n",
    "        p.domains_target.extend(\n",
    "            [domain_prefix + str(u) for u in domains]\n",
    "        )\n",
    "    else:\n",
    "        raise Exception(f\"invalid source_or_target_dataset: {source_or_target_dataset}\")\n",
    "    "
   ]
  },
  {
   "cell_type": "code",
   "execution_count": 13,
   "id": "fe266617",
   "metadata": {
    "execution": {
     "iopub.execute_input": "2022-03-24T04:07:36.447916Z",
     "iopub.status.busy": "2022-03-24T04:07:36.447457Z",
     "iopub.status.idle": "2022-03-24T04:07:47.390596Z",
     "shell.execute_reply": "2022-03-24T04:07:47.389777Z"
    },
    "papermill": {
     "duration": 10.967086,
     "end_time": "2022-03-24T04:07:47.390798",
     "exception": false,
     "start_time": "2022-03-24T04:07:36.423712",
     "status": "completed"
    },
    "tags": []
   },
   "outputs": [],
   "source": [
    "for ds in p.datasets:\n",
    "    add_dataset(**ds)"
   ]
  },
  {
   "cell_type": "code",
   "execution_count": 14,
   "id": "b90d65ac",
   "metadata": {
    "execution": {
     "iopub.execute_input": "2022-03-24T04:07:47.442550Z",
     "iopub.status.busy": "2022-03-24T04:07:47.442170Z",
     "iopub.status.idle": "2022-03-24T04:07:47.468831Z",
     "shell.execute_reply": "2022-03-24T04:07:47.468028Z"
    },
    "papermill": {
     "duration": 0.05008,
     "end_time": "2022-03-24T04:07:47.468987",
     "exception": false,
     "start_time": "2022-03-24T04:07:47.418907",
     "status": "completed"
    },
    "tags": []
   },
   "outputs": [],
   "source": [
    "# from steves_utils.CORES.utils import (\n",
    "#     ALL_NODES,\n",
    "#     ALL_NODES_MINIMUM_1000_EXAMPLES,\n",
    "#     ALL_DAYS\n",
    "# )\n",
    "\n",
    "# add_dataset(\n",
    "#     labels=ALL_NODES,\n",
    "#     domains = ALL_DAYS,\n",
    "#     num_examples_per_domain_per_label=100,\n",
    "#     pickle_path=os.path.join(get_datasets_base_path(), \"cores.stratified_ds.2022A.pkl\"),\n",
    "#     source_or_target_dataset=\"target\",\n",
    "#     x_transform_func=global_x_transform_func,\n",
    "#     domain_modifier=lambda u: f\"cores_{u}\"\n",
    "# )"
   ]
  },
  {
   "cell_type": "code",
   "execution_count": 15,
   "id": "76db484d",
   "metadata": {
    "execution": {
     "iopub.execute_input": "2022-03-24T04:07:47.518417Z",
     "iopub.status.busy": "2022-03-24T04:07:47.518047Z",
     "iopub.status.idle": "2022-03-24T04:07:47.534940Z",
     "shell.execute_reply": "2022-03-24T04:07:47.534132Z"
    },
    "papermill": {
     "duration": 0.039975,
     "end_time": "2022-03-24T04:07:47.535094",
     "exception": false,
     "start_time": "2022-03-24T04:07:47.495119",
     "status": "completed"
    },
    "tags": []
   },
   "outputs": [],
   "source": [
    "# from steves_utils.ORACLE.utils_v2 import (\n",
    "#     ALL_DISTANCES_FEET,\n",
    "#     ALL_RUNS,\n",
    "#     ALL_SERIAL_NUMBERS,\n",
    "# )\n",
    "\n",
    "\n",
    "# add_dataset(\n",
    "#     labels=ALL_SERIAL_NUMBERS,\n",
    "#     domains = list(set(ALL_DISTANCES_FEET) - {2,62}),\n",
    "#     num_examples_per_domain_per_label=100,\n",
    "#     pickle_path=os.path.join(get_datasets_base_path(), \"oracle.Run2_framed_2000Examples_stratified_ds.2022A.pkl\"),\n",
    "#     source_or_target_dataset=\"source\",\n",
    "#     x_transform_func=global_x_transform_func,\n",
    "#     domain_modifier=lambda u: f\"oracle1_{u}\"\n",
    "# )\n"
   ]
  },
  {
   "cell_type": "code",
   "execution_count": 16,
   "id": "97dea9d2",
   "metadata": {
    "execution": {
     "iopub.execute_input": "2022-03-24T04:07:47.584108Z",
     "iopub.status.busy": "2022-03-24T04:07:47.583734Z",
     "iopub.status.idle": "2022-03-24T04:07:47.599665Z",
     "shell.execute_reply": "2022-03-24T04:07:47.600163Z"
    },
    "papermill": {
     "duration": 0.038416,
     "end_time": "2022-03-24T04:07:47.600343",
     "exception": false,
     "start_time": "2022-03-24T04:07:47.561927",
     "status": "completed"
    },
    "tags": []
   },
   "outputs": [],
   "source": [
    "# from steves_utils.ORACLE.utils_v2 import (\n",
    "#     ALL_DISTANCES_FEET,\n",
    "#     ALL_RUNS,\n",
    "#     ALL_SERIAL_NUMBERS,\n",
    "# )\n",
    "\n",
    "\n",
    "# add_dataset(\n",
    "#     labels=ALL_SERIAL_NUMBERS,\n",
    "#     domains = list(set(ALL_DISTANCES_FEET) - {2,62,56}),\n",
    "#     num_examples_per_domain_per_label=100,\n",
    "#     pickle_path=os.path.join(get_datasets_base_path(), \"oracle.Run2_framed_2000Examples_stratified_ds.2022A.pkl\"),\n",
    "#     source_or_target_dataset=\"source\",\n",
    "#     x_transform_func=global_x_transform_func,\n",
    "#     domain_modifier=lambda u: f\"oracle2_{u}\"\n",
    "# )"
   ]
  },
  {
   "cell_type": "code",
   "execution_count": 17,
   "id": "6f289866",
   "metadata": {
    "execution": {
     "iopub.execute_input": "2022-03-24T04:07:47.651018Z",
     "iopub.status.busy": "2022-03-24T04:07:47.649702Z",
     "iopub.status.idle": "2022-03-24T04:07:47.669336Z",
     "shell.execute_reply": "2022-03-24T04:07:47.668591Z"
    },
    "papermill": {
     "duration": 0.042741,
     "end_time": "2022-03-24T04:07:47.669489",
     "exception": false,
     "start_time": "2022-03-24T04:07:47.626748",
     "status": "completed"
    },
    "tags": []
   },
   "outputs": [],
   "source": [
    "# add_dataset(\n",
    "#     labels=list(range(19)),\n",
    "#     domains = [0,1,2],\n",
    "#     num_examples_per_domain_per_label=100,\n",
    "#     pickle_path=os.path.join(get_datasets_base_path(), \"metehan.stratified_ds.2022A.pkl\"),\n",
    "#     source_or_target_dataset=\"target\",\n",
    "#     x_transform_func=global_x_transform_func,\n",
    "#     domain_modifier=lambda u: f\"met_{u}\"\n",
    "# )"
   ]
  },
  {
   "cell_type": "code",
   "execution_count": 18,
   "id": "86a863c3",
   "metadata": {
    "execution": {
     "iopub.execute_input": "2022-03-24T04:07:47.718474Z",
     "iopub.status.busy": "2022-03-24T04:07:47.717452Z",
     "iopub.status.idle": "2022-03-24T04:07:47.736976Z",
     "shell.execute_reply": "2022-03-24T04:07:47.736275Z"
    },
    "papermill": {
     "duration": 0.042059,
     "end_time": "2022-03-24T04:07:47.737132",
     "exception": false,
     "start_time": "2022-03-24T04:07:47.695073",
     "status": "completed"
    },
    "tags": []
   },
   "outputs": [],
   "source": [
    "# # from steves_utils.wisig.utils import (\n",
    "# #     ALL_NODES_MINIMUM_100_EXAMPLES,\n",
    "# #     ALL_NODES_MINIMUM_500_EXAMPLES,\n",
    "# #     ALL_NODES_MINIMUM_1000_EXAMPLES,\n",
    "# #     ALL_DAYS\n",
    "# # )\n",
    "\n",
    "# import steves_utils.wisig.utils as wisig\n",
    "\n",
    "\n",
    "# add_dataset(\n",
    "#     labels=wisig.ALL_NODES_MINIMUM_100_EXAMPLES,\n",
    "#     domains = wisig.ALL_DAYS,\n",
    "#     num_examples_per_domain_per_label=100,\n",
    "#     pickle_path=os.path.join(get_datasets_base_path(), \"wisig.node3-19.stratified_ds.2022A.pkl\"),\n",
    "#     source_or_target_dataset=\"target\",\n",
    "#     x_transform_func=global_x_transform_func,\n",
    "#     domain_modifier=lambda u: f\"wisig_{u}\"\n",
    "# )"
   ]
  },
  {
   "cell_type": "code",
   "execution_count": 19,
   "id": "fd5442bc",
   "metadata": {
    "execution": {
     "iopub.execute_input": "2022-03-24T04:07:47.788071Z",
     "iopub.status.busy": "2022-03-24T04:07:47.787687Z",
     "iopub.status.idle": "2022-03-24T04:07:47.806095Z",
     "shell.execute_reply": "2022-03-24T04:07:47.805288Z"
    },
    "papermill": {
     "duration": 0.043064,
     "end_time": "2022-03-24T04:07:47.806248",
     "exception": false,
     "start_time": "2022-03-24T04:07:47.763184",
     "status": "completed"
    },
    "tags": []
   },
   "outputs": [],
   "source": [
    "###################################\n",
    "# Build the dataset\n",
    "###################################\n",
    "train_original_source = Iterable_Aggregator(train_original_source, p.seed)\n",
    "val_original_source = Iterable_Aggregator(val_original_source, p.seed)\n",
    "test_original_source = Iterable_Aggregator(test_original_source, p.seed)\n",
    "\n",
    "\n",
    "train_original_target = Iterable_Aggregator(train_original_target, p.seed)\n",
    "val_original_target = Iterable_Aggregator(val_original_target, p.seed)\n",
    "test_original_target = Iterable_Aggregator(test_original_target, p.seed)\n",
    "\n",
    "# For CNN We only use X and Y. And we only train on the source.\n",
    "# Properly form the data using a transform lambda and Lazy_Iterable_Wrapper. Finally wrap them in a dataloader\n",
    "\n",
    "transform_lambda = lambda ex: ex[1] # Original is (<domain>, <episode>) so we strip down to episode only\n",
    "\n",
    "train_processed_source = Lazy_Iterable_Wrapper(train_original_source, transform_lambda)\n",
    "val_processed_source   = Lazy_Iterable_Wrapper(val_original_source, transform_lambda)\n",
    "test_processed_source  = Lazy_Iterable_Wrapper(test_original_source, transform_lambda)\n",
    "\n",
    "train_processed_target = Lazy_Iterable_Wrapper(train_original_target, transform_lambda)\n",
    "val_processed_target   = Lazy_Iterable_Wrapper(val_original_target, transform_lambda)\n",
    "test_processed_target  = Lazy_Iterable_Wrapper(test_original_target, transform_lambda)\n",
    "\n",
    "datasets = EasyDict({\n",
    "    \"source\": {\n",
    "        \"original\": {\"train\":train_original_source, \"val\":val_original_source, \"test\":test_original_source},\n",
    "        \"processed\": {\"train\":train_processed_source, \"val\":val_processed_source, \"test\":test_processed_source}\n",
    "    },\n",
    "    \"target\": {\n",
    "        \"original\": {\"train\":train_original_target, \"val\":val_original_target, \"test\":test_original_target},\n",
    "        \"processed\": {\"train\":train_processed_target, \"val\":val_processed_target, \"test\":test_processed_target}\n",
    "    },\n",
    "})"
   ]
  },
  {
   "cell_type": "code",
   "execution_count": 20,
   "id": "5b3c01fc",
   "metadata": {
    "execution": {
     "iopub.execute_input": "2022-03-24T04:07:47.859523Z",
     "iopub.status.busy": "2022-03-24T04:07:47.858687Z",
     "iopub.status.idle": "2022-03-24T04:08:21.853593Z",
     "shell.execute_reply": "2022-03-24T04:08:21.852723Z"
    },
    "papermill": {
     "duration": 34.019963,
     "end_time": "2022-03-24T04:08:21.853779",
     "exception": false,
     "start_time": "2022-03-24T04:07:47.833816",
     "status": "completed"
    },
    "tags": []
   },
   "outputs": [
    {
     "name": "stdout",
     "output_type": "stream",
     "text": [
      "{'ORACLE.run150', 'ORACLE.run132', 'ORACLE.run144', 'ORACLE.run138', 'ORACLE.run120', 'ORACLE.run126', 'ORACLE.run114', 'ORACLE.run18'}\n"
     ]
    },
    {
     "name": "stdout",
     "output_type": "stream",
     "text": [
      "{'Wisig_4', 'Wisig_3', 'Wisig_1', 'Wisig_2'}\n"
     ]
    },
    {
     "name": "stdout",
     "output_type": "stream",
     "text": [
      "tensor([[[ 0.0042,  0.0008,  0.0031,  ..., -0.0009, -0.0029, -0.0009],\n",
      "         [ 0.0010,  0.0014, -0.0001,  ...,  0.0039,  0.0008, -0.0040]],\n",
      "\n",
      "        [[ 0.0021,  0.0033, -0.0046,  ..., -0.0056, -0.0017,  0.0032],\n",
      "         [ 0.0019,  0.0017, -0.0005,  ..., -0.0037, -0.0013, -0.0007]],\n",
      "\n",
      "        [[-0.0027, -0.0006,  0.0025,  ...,  0.0006, -0.0009, -0.0006],\n",
      "         [ 0.0017,  0.0021,  0.0028,  ..., -0.0008,  0.0028, -0.0041]],\n",
      "\n",
      "        ...,\n",
      "\n",
      "        [[ 0.0019, -0.0008, -0.0034,  ..., -0.0004, -0.0025, -0.0050],\n",
      "         [ 0.0002,  0.0006,  0.0029,  ...,  0.0028, -0.0004,  0.0043]],\n",
      "\n",
      "        [[ 0.0011,  0.0021, -0.0023,  ...,  0.0069,  0.0043,  0.0015],\n",
      "         [ 0.0024,  0.0007, -0.0010,  ...,  0.0034,  0.0016,  0.0020]],\n",
      "\n",
      "        [[ 0.0007, -0.0019, -0.0043,  ..., -0.0012,  0.0024,  0.0037],\n",
      "         [ 0.0015, -0.0026, -0.0049,  ...,  0.0013, -0.0026,  0.0054]]])\n"
     ]
    }
   ],
   "source": [
    "from steves_utils.transforms import get_average_magnitude, get_average_power\n",
    "\n",
    "print(set([u for u,_ in val_original_source]))\n",
    "print(set([u for u,_ in val_original_target]))\n",
    "\n",
    "s_x, s_y, q_x, q_y, _ = next(iter(train_processed_source))\n",
    "print(s_x)\n",
    "\n",
    "# for ds in [\n",
    "#     train_processed_source,\n",
    "#     val_processed_source,\n",
    "#     test_processed_source,\n",
    "#     train_processed_target,\n",
    "#     val_processed_target,\n",
    "#     test_processed_target\n",
    "# ]:\n",
    "#     for s_x, s_y, q_x, q_y, _ in ds:\n",
    "#         for X in (s_x, q_x):\n",
    "#             for x in X:\n",
    "#                 assert np.isclose(get_average_magnitude(x.numpy()), 1.0)\n",
    "#                 assert np.isclose(get_average_power(x.numpy()), 1.0)\n",
    "                "
   ]
  },
  {
   "cell_type": "code",
   "execution_count": 21,
   "id": "bbdacba1",
   "metadata": {
    "execution": {
     "iopub.execute_input": "2022-03-24T04:08:21.916001Z",
     "iopub.status.busy": "2022-03-24T04:08:21.914147Z",
     "iopub.status.idle": "2022-03-24T04:08:22.182844Z",
     "shell.execute_reply": "2022-03-24T04:08:22.183555Z"
    },
    "papermill": {
     "duration": 0.299112,
     "end_time": "2022-03-24T04:08:22.183793",
     "exception": false,
     "start_time": "2022-03-24T04:08:21.884681",
     "status": "completed"
    },
    "tags": []
   },
   "outputs": [
    {
     "name": "stdout",
     "output_type": "stream",
     "text": [
      "(2, 256)\n"
     ]
    }
   ],
   "source": [
    "###################################\n",
    "# Build the model\n",
    "###################################\n",
    "# easfsl only wants a tuple for the shape\n",
    "model = Steves_Prototypical_Network(x_net, device=p.device, x_shape=tuple(p.x_shape))\n",
    "optimizer = Adam(params=model.parameters(), lr=p.lr)"
   ]
  },
  {
   "cell_type": "code",
   "execution_count": 22,
   "id": "22b39ac5",
   "metadata": {
    "execution": {
     "iopub.execute_input": "2022-03-24T04:08:22.240045Z",
     "iopub.status.busy": "2022-03-24T04:08:22.239669Z",
     "iopub.status.idle": "2022-03-24T05:46:23.807599Z",
     "shell.execute_reply": "2022-03-24T05:46:23.807247Z"
    },
    "papermill": {
     "duration": 5881.594228,
     "end_time": "2022-03-24T05:46:23.807684",
     "exception": false,
     "start_time": "2022-03-24T04:08:22.213456",
     "status": "completed"
    },
    "tags": []
   },
   "outputs": [
    {
     "name": "stdout",
     "output_type": "stream",
     "text": [
      "epoch: 1, [batch: 1 / 33600], examples_per_second: 6.5025, train_label_loss: 2.7185, \n"
     ]
    },
    {
     "name": "stdout",
     "output_type": "stream",
     "text": [
      "epoch: 1, [batch: 3360 / 33600], examples_per_second: 3124.0255, train_label_loss: 1.3135, \n"
     ]
    },
    {
     "name": "stdout",
     "output_type": "stream",
     "text": [
      "epoch: 1, [batch: 6720 / 33600], examples_per_second: 3467.7624, train_label_loss: 0.4022, \n"
     ]
    },
    {
     "name": "stdout",
     "output_type": "stream",
     "text": [
      "epoch: 1, [batch: 10080 / 33600], examples_per_second: 3209.9703, train_label_loss: 0.5090, \n"
     ]
    },
    {
     "name": "stdout",
     "output_type": "stream",
     "text": [
      "epoch: 1, [batch: 13440 / 33600], examples_per_second: 3037.1335, train_label_loss: 0.5892, \n"
     ]
    },
    {
     "name": "stdout",
     "output_type": "stream",
     "text": [
      "epoch: 1, [batch: 16800 / 33600], examples_per_second: 3386.8809, train_label_loss: 0.5547, \n"
     ]
    },
    {
     "name": "stdout",
     "output_type": "stream",
     "text": [
      "epoch: 1, [batch: 20160 / 33600], examples_per_second: 3290.8791, train_label_loss: 0.4511, \n"
     ]
    },
    {
     "name": "stdout",
     "output_type": "stream",
     "text": [
      "epoch: 1, [batch: 23520 / 33600], examples_per_second: 2977.1335, train_label_loss: 0.2630, \n"
     ]
    },
    {
     "name": "stdout",
     "output_type": "stream",
     "text": [
      "epoch: 1, [batch: 26880 / 33600], examples_per_second: 2976.0352, train_label_loss: 0.2564, \n"
     ]
    },
    {
     "name": "stdout",
     "output_type": "stream",
     "text": [
      "epoch: 1, [batch: 30240 / 33600], examples_per_second: 3022.8296, train_label_loss: 0.5967, \n"
     ]
    },
    {
     "name": "stdout",
     "output_type": "stream",
     "text": [
      "=============================================================\n",
      "epoch: 1, source_val_acc_label: 0.7171, target_val_acc_label: 0.7898, source_val_label_loss: 2.0353, target_val_label_loss: 331.1199, \n",
      "=============================================================\n"
     ]
    },
    {
     "name": "stdout",
     "output_type": "stream",
     "text": [
      "New best\n"
     ]
    },
    {
     "name": "stdout",
     "output_type": "stream",
     "text": [
      "epoch: 2, [batch: 1 / 33600], examples_per_second: 0.7326, train_label_loss: 0.3317, \n"
     ]
    },
    {
     "name": "stdout",
     "output_type": "stream",
     "text": [
      "epoch: 2, [batch: 3360 / 33600], examples_per_second: 3096.2381, train_label_loss: 0.3214, \n"
     ]
    },
    {
     "name": "stdout",
     "output_type": "stream",
     "text": [
      "epoch: 2, [batch: 6720 / 33600], examples_per_second: 3418.3505, train_label_loss: 0.8362, \n"
     ]
    },
    {
     "name": "stdout",
     "output_type": "stream",
     "text": [
      "epoch: 2, [batch: 10080 / 33600], examples_per_second: 3318.9065, train_label_loss: 0.7096, \n"
     ]
    },
    {
     "name": "stdout",
     "output_type": "stream",
     "text": [
      "epoch: 2, [batch: 13440 / 33600], examples_per_second: 3074.5223, train_label_loss: 0.1542, \n"
     ]
    },
    {
     "name": "stdout",
     "output_type": "stream",
     "text": [
      "epoch: 2, [batch: 16800 / 33600], examples_per_second: 3436.6959, train_label_loss: 0.2830, \n"
     ]
    },
    {
     "name": "stdout",
     "output_type": "stream",
     "text": [
      "epoch: 2, [batch: 20160 / 33600], examples_per_second: 3275.8127, train_label_loss: 0.5186, \n"
     ]
    },
    {
     "name": "stdout",
     "output_type": "stream",
     "text": [
      "epoch: 2, [batch: 23520 / 33600], examples_per_second: 2999.9766, train_label_loss: 0.4952, \n"
     ]
    },
    {
     "name": "stdout",
     "output_type": "stream",
     "text": [
      "epoch: 2, [batch: 26880 / 33600], examples_per_second: 2987.8685, train_label_loss: 0.3385, \n"
     ]
    },
    {
     "name": "stdout",
     "output_type": "stream",
     "text": [
      "epoch: 2, [batch: 30240 / 33600], examples_per_second: 2972.4687, train_label_loss: 0.6268, \n"
     ]
    },
    {
     "name": "stdout",
     "output_type": "stream",
     "text": [
      "=============================================================\n",
      "epoch: 2, source_val_acc_label: 0.8584, target_val_acc_label: 0.8534, source_val_label_loss: 0.3978, target_val_label_loss: 67.0419, \n",
      "=============================================================\n"
     ]
    },
    {
     "name": "stdout",
     "output_type": "stream",
     "text": [
      "New best\n"
     ]
    },
    {
     "name": "stdout",
     "output_type": "stream",
     "text": [
      "epoch: 3, [batch: 1 / 33600], examples_per_second: 0.7355, train_label_loss: 0.2994, \n"
     ]
    },
    {
     "name": "stdout",
     "output_type": "stream",
     "text": [
      "epoch: 3, [batch: 3360 / 33600], examples_per_second: 3083.1382, train_label_loss: 0.6997, \n"
     ]
    },
    {
     "name": "stdout",
     "output_type": "stream",
     "text": [
      "epoch: 3, [batch: 6720 / 33600], examples_per_second: 3455.7482, train_label_loss: 0.5863, \n"
     ]
    },
    {
     "name": "stdout",
     "output_type": "stream",
     "text": [
      "epoch: 3, [batch: 10080 / 33600], examples_per_second: 3379.7006, train_label_loss: 0.2364, \n"
     ]
    },
    {
     "name": "stdout",
     "output_type": "stream",
     "text": [
      "epoch: 3, [batch: 13440 / 33600], examples_per_second: 3064.9246, train_label_loss: 0.5570, \n"
     ]
    },
    {
     "name": "stdout",
     "output_type": "stream",
     "text": [
      "epoch: 3, [batch: 16800 / 33600], examples_per_second: 3434.2519, train_label_loss: 0.4239, \n"
     ]
    },
    {
     "name": "stdout",
     "output_type": "stream",
     "text": [
      "epoch: 3, [batch: 20160 / 33600], examples_per_second: 3313.7816, train_label_loss: 0.4492, \n"
     ]
    },
    {
     "name": "stdout",
     "output_type": "stream",
     "text": [
      "epoch: 3, [batch: 23520 / 33600], examples_per_second: 2963.5737, train_label_loss: 0.1724, \n"
     ]
    },
    {
     "name": "stdout",
     "output_type": "stream",
     "text": [
      "epoch: 3, [batch: 26880 / 33600], examples_per_second: 2969.6785, train_label_loss: 0.3216, \n"
     ]
    },
    {
     "name": "stdout",
     "output_type": "stream",
     "text": [
      "epoch: 3, [batch: 30240 / 33600], examples_per_second: 2970.7501, train_label_loss: 0.3068, \n"
     ]
    },
    {
     "name": "stdout",
     "output_type": "stream",
     "text": [
      "=============================================================\n",
      "epoch: 3, source_val_acc_label: 0.8687, target_val_acc_label: 0.8514, source_val_label_loss: 0.3675, target_val_label_loss: 102.6931, \n",
      "=============================================================\n"
     ]
    },
    {
     "name": "stdout",
     "output_type": "stream",
     "text": [
      "epoch: 4, [batch: 1 / 33600], examples_per_second: 0.7394, train_label_loss: 0.3704, \n"
     ]
    },
    {
     "name": "stdout",
     "output_type": "stream",
     "text": [
      "epoch: 4, [batch: 3360 / 33600], examples_per_second: 3042.0245, train_label_loss: 0.1965, \n"
     ]
    },
    {
     "name": "stdout",
     "output_type": "stream",
     "text": [
      "epoch: 4, [batch: 6720 / 33600], examples_per_second: 3391.6351, train_label_loss: 0.4890, \n"
     ]
    },
    {
     "name": "stdout",
     "output_type": "stream",
     "text": [
      "epoch: 4, [batch: 10080 / 33600], examples_per_second: 3365.9016, train_label_loss: 0.4848, \n"
     ]
    },
    {
     "name": "stdout",
     "output_type": "stream",
     "text": [
      "epoch: 4, [batch: 13440 / 33600], examples_per_second: 3117.8857, train_label_loss: 0.2051, \n"
     ]
    },
    {
     "name": "stdout",
     "output_type": "stream",
     "text": [
      "epoch: 4, [batch: 16800 / 33600], examples_per_second: 3414.3488, train_label_loss: 0.4560, \n"
     ]
    },
    {
     "name": "stdout",
     "output_type": "stream",
     "text": [
      "epoch: 4, [batch: 20160 / 33600], examples_per_second: 3344.6774, train_label_loss: 0.2188, \n"
     ]
    },
    {
     "name": "stdout",
     "output_type": "stream",
     "text": [
      "epoch: 4, [batch: 23520 / 33600], examples_per_second: 3006.9652, train_label_loss: 0.3482, \n"
     ]
    },
    {
     "name": "stdout",
     "output_type": "stream",
     "text": [
      "epoch: 4, [batch: 26880 / 33600], examples_per_second: 3023.0251, train_label_loss: 0.2362, \n"
     ]
    },
    {
     "name": "stdout",
     "output_type": "stream",
     "text": [
      "epoch: 4, [batch: 30240 / 33600], examples_per_second: 2990.4716, train_label_loss: 0.1991, \n"
     ]
    },
    {
     "name": "stdout",
     "output_type": "stream",
     "text": [
      "=============================================================\n",
      "epoch: 4, source_val_acc_label: 0.8746, target_val_acc_label: 0.8523, source_val_label_loss: 0.3458, target_val_label_loss: 120.8050, \n",
      "=============================================================\n"
     ]
    },
    {
     "name": "stdout",
     "output_type": "stream",
     "text": [
      "epoch: 5, [batch: 1 / 33600], examples_per_second: 0.7351, train_label_loss: 0.2516, \n"
     ]
    },
    {
     "name": "stdout",
     "output_type": "stream",
     "text": [
      "epoch: 5, [batch: 3360 / 33600], examples_per_second: 3024.5758, train_label_loss: 0.4583, \n"
     ]
    },
    {
     "name": "stdout",
     "output_type": "stream",
     "text": [
      "epoch: 5, [batch: 6720 / 33600], examples_per_second: 3432.8910, train_label_loss: 0.1349, \n"
     ]
    },
    {
     "name": "stdout",
     "output_type": "stream",
     "text": [
      "epoch: 5, [batch: 10080 / 33600], examples_per_second: 3398.0098, train_label_loss: 0.2622, \n"
     ]
    },
    {
     "name": "stdout",
     "output_type": "stream",
     "text": [
      "epoch: 5, [batch: 13440 / 33600], examples_per_second: 3081.2352, train_label_loss: 0.1467, \n"
     ]
    },
    {
     "name": "stdout",
     "output_type": "stream",
     "text": [
      "epoch: 5, [batch: 16800 / 33600], examples_per_second: 3466.6781, train_label_loss: 0.3555, \n"
     ]
    },
    {
     "name": "stdout",
     "output_type": "stream",
     "text": [
      "epoch: 5, [batch: 20160 / 33600], examples_per_second: 3323.0635, train_label_loss: 0.1877, \n"
     ]
    },
    {
     "name": "stdout",
     "output_type": "stream",
     "text": [
      "epoch: 5, [batch: 23520 / 33600], examples_per_second: 2989.4790, train_label_loss: 0.0758, \n"
     ]
    },
    {
     "name": "stdout",
     "output_type": "stream",
     "text": [
      "epoch: 5, [batch: 26880 / 33600], examples_per_second: 2988.3680, train_label_loss: 0.2253, \n"
     ]
    },
    {
     "name": "stdout",
     "output_type": "stream",
     "text": [
      "epoch: 5, [batch: 30240 / 33600], examples_per_second: 2987.1024, train_label_loss: 0.1465, \n"
     ]
    },
    {
     "name": "stdout",
     "output_type": "stream",
     "text": [
      "=============================================================\n",
      "epoch: 5, source_val_acc_label: 0.8780, target_val_acc_label: 0.8488, source_val_label_loss: 0.3435, target_val_label_loss: 144.5582, \n",
      "=============================================================\n"
     ]
    },
    {
     "name": "stdout",
     "output_type": "stream",
     "text": [
      "epoch: 6, [batch: 1 / 33600], examples_per_second: 0.7397, train_label_loss: 0.2645, \n"
     ]
    },
    {
     "name": "stdout",
     "output_type": "stream",
     "text": [
      "epoch: 6, [batch: 3360 / 33600], examples_per_second: 2988.5123, train_label_loss: 0.6283, \n"
     ]
    },
    {
     "name": "stdout",
     "output_type": "stream",
     "text": [
      "epoch: 6, [batch: 6720 / 33600], examples_per_second: 3396.7277, train_label_loss: 0.4492, \n"
     ]
    },
    {
     "name": "stdout",
     "output_type": "stream",
     "text": [
      "epoch: 6, [batch: 10080 / 33600], examples_per_second: 3449.9772, train_label_loss: 0.2072, \n"
     ]
    },
    {
     "name": "stdout",
     "output_type": "stream",
     "text": [
      "epoch: 6, [batch: 13440 / 33600], examples_per_second: 3069.5210, train_label_loss: 0.1311, \n"
     ]
    },
    {
     "name": "stdout",
     "output_type": "stream",
     "text": [
      "epoch: 6, [batch: 16800 / 33600], examples_per_second: 3406.2659, train_label_loss: 0.2847, \n"
     ]
    },
    {
     "name": "stdout",
     "output_type": "stream",
     "text": [
      "epoch: 6, [batch: 20160 / 33600], examples_per_second: 3294.3950, train_label_loss: 0.2340, \n"
     ]
    },
    {
     "name": "stdout",
     "output_type": "stream",
     "text": [
      "epoch: 6, [batch: 23520 / 33600], examples_per_second: 2990.7463, train_label_loss: 0.3040, \n"
     ]
    },
    {
     "name": "stdout",
     "output_type": "stream",
     "text": [
      "epoch: 6, [batch: 26880 / 33600], examples_per_second: 2991.6757, train_label_loss: 0.2378, \n"
     ]
    },
    {
     "name": "stdout",
     "output_type": "stream",
     "text": [
      "epoch: 6, [batch: 30240 / 33600], examples_per_second: 3020.2602, train_label_loss: 0.1182, \n"
     ]
    },
    {
     "name": "stdout",
     "output_type": "stream",
     "text": [
      "=============================================================\n",
      "epoch: 6, source_val_acc_label: 0.8839, target_val_acc_label: 0.8495, source_val_label_loss: 0.3270, target_val_label_loss: 167.2078, \n",
      "=============================================================\n"
     ]
    },
    {
     "name": "stdout",
     "output_type": "stream",
     "text": [
      "Patience (3) exhausted\n"
     ]
    }
   ],
   "source": [
    "###################################\n",
    "# train\n",
    "###################################\n",
    "jig = PTN_Train_Eval_Test_Jig(model, p.BEST_MODEL_PATH, p.device)\n",
    "\n",
    "jig.train(\n",
    "    train_iterable=datasets.source.processed.train,\n",
    "    source_val_iterable=datasets.source.processed.val,\n",
    "    target_val_iterable=datasets.target.processed.val,\n",
    "    num_epochs=p.n_epoch,\n",
    "    num_logs_per_epoch=p.NUM_LOGS_PER_EPOCH,\n",
    "    patience=p.patience,\n",
    "    optimizer=optimizer,\n",
    "    criteria_for_best=p.criteria_for_best,\n",
    ")"
   ]
  },
  {
   "cell_type": "code",
   "execution_count": 23,
   "id": "31e8fabf",
   "metadata": {
    "execution": {
     "iopub.execute_input": "2022-03-24T05:46:23.893631Z",
     "iopub.status.busy": "2022-03-24T05:46:23.893005Z",
     "iopub.status.idle": "2022-03-24T05:46:23.923510Z",
     "shell.execute_reply": "2022-03-24T05:46:23.922766Z"
    },
    "papermill": {
     "duration": 0.073211,
     "end_time": "2022-03-24T05:46:23.923711",
     "exception": false,
     "start_time": "2022-03-24T05:46:23.850500",
     "status": "completed"
    },
    "tags": []
   },
   "outputs": [],
   "source": [
    "total_experiment_time_secs = time.time() - start_time_secs"
   ]
  },
  {
   "cell_type": "code",
   "execution_count": 24,
   "id": "87b9595b",
   "metadata": {
    "execution": {
     "iopub.execute_input": "2022-03-24T05:46:24.018340Z",
     "iopub.status.busy": "2022-03-24T05:46:24.017684Z",
     "iopub.status.idle": "2022-03-24T05:56:48.567281Z",
     "shell.execute_reply": "2022-03-24T05:56:48.563044Z"
    },
    "papermill": {
     "duration": 624.594285,
     "end_time": "2022-03-24T05:56:48.567481",
     "exception": false,
     "start_time": "2022-03-24T05:46:23.973196",
     "status": "completed"
    },
    "tags": []
   },
   "outputs": [],
   "source": [
    "###################################\n",
    "# Evaluate the model\n",
    "###################################\n",
    "source_test_label_accuracy, source_test_label_loss = jig.test(datasets.source.processed.test)\n",
    "target_test_label_accuracy, target_test_label_loss = jig.test(datasets.target.processed.test)\n",
    "\n",
    "source_val_label_accuracy, source_val_label_loss = jig.test(datasets.source.processed.val)\n",
    "target_val_label_accuracy, target_val_label_loss = jig.test(datasets.target.processed.val)\n",
    "\n",
    "history = jig.get_history()\n",
    "\n",
    "total_epochs_trained = len(history[\"epoch_indices\"])\n",
    "\n",
    "val_dl = Iterable_Aggregator((datasets.source.original.val,datasets.target.original.val))\n",
    "\n",
    "confusion = ptn_confusion_by_domain_over_dataloader(model, p.device, val_dl)\n",
    "per_domain_accuracy = per_domain_accuracy_from_confusion(confusion)\n",
    "\n",
    "# Add a key to per_domain_accuracy for if it was a source domain\n",
    "for domain, accuracy in per_domain_accuracy.items():\n",
    "    per_domain_accuracy[domain] = {\n",
    "        \"accuracy\": accuracy,\n",
    "        \"source?\": domain in p.domains_source\n",
    "    }\n",
    "\n",
    "# Do an independent accuracy assesment JUST TO BE SURE!\n",
    "# _source_test_label_accuracy = independent_accuracy_assesment(model, datasets.source.processed.test, p.device)\n",
    "# _target_test_label_accuracy = independent_accuracy_assesment(model, datasets.target.processed.test, p.device)\n",
    "# _source_val_label_accuracy = independent_accuracy_assesment(model, datasets.source.processed.val, p.device)\n",
    "# _target_val_label_accuracy = independent_accuracy_assesment(model, datasets.target.processed.val, p.device)\n",
    "\n",
    "# assert(_source_test_label_accuracy == source_test_label_accuracy)\n",
    "# assert(_target_test_label_accuracy == target_test_label_accuracy)\n",
    "# assert(_source_val_label_accuracy == source_val_label_accuracy)\n",
    "# assert(_target_val_label_accuracy == target_val_label_accuracy)\n",
    "\n",
    "experiment = {\n",
    "    \"experiment_name\": p.experiment_name,\n",
    "    \"parameters\": dict(p),\n",
    "    \"results\": {\n",
    "        \"source_test_label_accuracy\": source_test_label_accuracy,\n",
    "        \"source_test_label_loss\": source_test_label_loss,\n",
    "        \"target_test_label_accuracy\": target_test_label_accuracy,\n",
    "        \"target_test_label_loss\": target_test_label_loss,\n",
    "        \"source_val_label_accuracy\": source_val_label_accuracy,\n",
    "        \"source_val_label_loss\": source_val_label_loss,\n",
    "        \"target_val_label_accuracy\": target_val_label_accuracy,\n",
    "        \"target_val_label_loss\": target_val_label_loss,\n",
    "        \"total_epochs_trained\": total_epochs_trained,\n",
    "        \"total_experiment_time_secs\": total_experiment_time_secs,\n",
    "        \"confusion\": confusion,\n",
    "        \"per_domain_accuracy\": per_domain_accuracy,\n",
    "    },\n",
    "    \"history\": history,\n",
    "    \"dataset_metrics\": get_dataset_metrics(datasets, \"ptn\"),\n",
    "}"
   ]
  },
  {
   "cell_type": "code",
   "execution_count": 25,
   "id": "54a21829",
   "metadata": {
    "execution": {
     "iopub.execute_input": "2022-03-24T05:56:48.669593Z",
     "iopub.status.busy": "2022-03-24T05:56:48.669006Z",
     "iopub.status.idle": "2022-03-24T05:56:48.900492Z",
     "shell.execute_reply": "2022-03-24T05:56:48.901198Z"
    },
    "papermill": {
     "duration": 0.282229,
     "end_time": "2022-03-24T05:56:48.901438",
     "exception": false,
     "start_time": "2022-03-24T05:56:48.619209",
     "status": "completed"
    },
    "tags": []
   },
   "outputs": [
    {
     "data": {
      "image/png": "[encoded data removed]",
      "text/plain": [
       "<Figure size 1080x504 with 1 Axes>"
      ]
     },
     "metadata": {
      "needs_background": "light"
     },
     "output_type": "display_data"
    }
   ],
   "source": [
    "ax = get_loss_curve(experiment)\n",
    "plt.show()"
   ]
  },
  {
   "cell_type": "code",
   "execution_count": 26,
   "id": "fd8a0f60",
   "metadata": {
    "execution": {
     "iopub.execute_input": "2022-03-24T05:56:48.995632Z",
     "iopub.status.busy": "2022-03-24T05:56:48.995233Z",
     "iopub.status.idle": "2022-03-24T05:56:49.376363Z",
     "shell.execute_reply": "2022-03-24T05:56:49.376843Z"
    },
    "papermill": {
     "duration": 0.427206,
     "end_time": "2022-03-24T05:56:49.377005",
     "exception": false,
     "start_time": "2022-03-24T05:56:48.949799",
     "status": "completed"
    },
    "tags": []
   },
   "outputs": [
    {
     "data": {
      "text/plain": [
       "<AxesSubplot:title={'center':'Results'}>"
      ]
     },
     "execution_count": 26,
     "metadata": {},
     "output_type": "execute_result"
    },
    {
     "data": {
      "image/png": "[encoded data removed]",
      "text/plain": [
       "<Figure size 1080x504 with 1 Axes>"
      ]
     },
     "metadata": {
      "needs_background": "light"
     },
     "output_type": "display_data"
    }
   ],
   "source": [
    "get_results_table(experiment)"
   ]
  },
  {
   "cell_type": "code",
   "execution_count": 27,
   "id": "cf8dc689",
   "metadata": {
    "execution": {
     "iopub.execute_input": "2022-03-24T05:56:49.471592Z",
     "iopub.status.busy": "2022-03-24T05:56:49.471199Z",
     "iopub.status.idle": "2022-03-24T05:56:49.737262Z",
     "shell.execute_reply": "2022-03-24T05:56:49.737966Z"
    },
    "papermill": {
     "duration": 0.313679,
     "end_time": "2022-03-24T05:56:49.738180",
     "exception": false,
     "start_time": "2022-03-24T05:56:49.424501",
     "status": "completed"
    },
    "tags": []
   },
   "outputs": [
    {
     "data": {
      "text/plain": [
       "<AxesSubplot:title={'center':'Per Domain Validation Accuracy'}, xlabel='domain'>"
      ]
     },
     "execution_count": 27,
     "metadata": {},
     "output_type": "execute_result"
    },
    {
     "data": {
      "image/png": "[encoded data removed]",
      "text/plain": [
       "<Figure size 1080x504 with 1 Axes>"
      ]
     },
     "metadata": {
      "needs_background": "light"
     },
     "output_type": "display_data"
    }
   ],
   "source": [
    "get_domain_accuracies(experiment)"
   ]
  },
  {
   "cell_type": "code",
   "execution_count": 28,
   "id": "a74ae082",
   "metadata": {
    "execution": {
     "iopub.execute_input": "2022-03-24T05:56:49.847371Z",
     "iopub.status.busy": "2022-03-24T05:56:49.846789Z",
     "iopub.status.idle": "2022-03-24T05:56:49.872045Z",
     "shell.execute_reply": "2022-03-24T05:56:49.871273Z"
    },
    "papermill": {
     "duration": 0.079459,
     "end_time": "2022-03-24T05:56:49.872216",
     "exception": false,
     "start_time": "2022-03-24T05:56:49.792757",
     "status": "completed"
    },
    "tags": []
   },
   "outputs": [
    {
     "name": "stdout",
     "output_type": "stream",
     "text": [
      "Source Test Label Accuracy: 0.8580143229166667 Target Test Label Accuracy: 0.8546181630546955\n",
      "Source Val Label Accuracy: 0.8584309895833333 Target Val Label Accuracy: 0.8533856916578669\n"
     ]
    }
   ],
   "source": [
    "print(\"Source Test Label Accuracy:\", experiment[\"results\"][\"source_test_label_accuracy\"], \"Target Test Label Accuracy:\", experiment[\"results\"][\"target_test_label_accuracy\"])\n",
    "print(\"Source Val Label Accuracy:\", experiment[\"results\"][\"source_val_label_accuracy\"], \"Target Val Label Accuracy:\", experiment[\"results\"][\"target_val_label_accuracy\"])"
   ]
  },
  {
   "cell_type": "code",
   "execution_count": 29,
   "id": "dacca602",
   "metadata": {
    "execution": {
     "iopub.execute_input": "2022-03-24T05:56:49.972654Z",
     "iopub.status.busy": "2022-03-24T05:56:49.972279Z",
     "iopub.status.idle": "2022-03-24T05:56:49.999163Z",
     "shell.execute_reply": "2022-03-24T05:56:49.999891Z"
    },
    "papermill": {
     "duration": 0.075665,
     "end_time": "2022-03-24T05:56:50.000093",
     "exception": false,
     "start_time": "2022-03-24T05:56:49.924428",
     "status": "completed"
    },
    "tags": [
     "experiment_json"
    ]
   },
   "outputs": [
    {
     "data": {
      "text/plain": [
       "'{\"experiment_name\": \"tl_1v2:wisig-oracle.run1\", \"parameters\": {\"experiment_name\": \"tl_1v2:wisig-oracle.run1\", \"device\": \"cuda\", \"lr\": 0.0001, \"n_shot\": 3, \"n_query\": 2, \"train_k_factor\": 3, \"val_k_factor\": 2, \"test_k_factor\": 2, \"torch_default_dtype\": \"torch.float32\", \"n_epoch\": 50, \"patience\": 3, \"criteria_for_best\": \"target_accuracy\", \"x_net\": [{\"class\": \"nnReshape\", \"kargs\": {\"shape\": [-1, 1, 2, 256]}}, {\"class\": \"Conv2d\", \"kargs\": {\"in_channels\": 1, \"out_channels\": 256, \"kernel_size\": [1, 7], \"bias\": false, \"padding\": [0, 3]}}, {\"class\": \"ReLU\", \"kargs\": {\"inplace\": true}}, {\"class\": \"BatchNorm2d\", \"kargs\": {\"num_features\": 256}}, {\"class\": \"Conv2d\", \"kargs\": {\"in_channels\": 256, \"out_channels\": 80, \"kernel_size\": [2, 7], \"bias\": true, \"padding\": [0, 3]}}, {\"class\": \"ReLU\", \"kargs\": {\"inplace\": true}}, {\"class\": \"BatchNorm2d\", \"kargs\": {\"num_features\": 80}}, {\"class\": \"Flatten\", \"kargs\": {}}, {\"class\": \"Linear\", \"kargs\": {\"in_features\": 20480, \"out_features\": 256}}, {\"class\": \"ReLU\", \"kargs\": {\"inplace\": true}}, {\"class\": \"BatchNorm1d\", \"kargs\": {\"num_features\": 256}}, {\"class\": \"Linear\", \"kargs\": {\"in_features\": 256, \"out_features\": 256}}], \"NUM_LOGS_PER_EPOCH\": 10, \"BEST_MODEL_PATH\": \"./best_model.pth\", \"n_way\": 16, \"datasets\": [{\"labels\": [\"1-10\", \"1-12\", \"1-14\", \"1-16\", \"1-18\", \"1-19\", \"1-8\", \"10-11\", \"10-17\", \"10-4\", \"10-7\", \"11-1\", \"11-10\", \"11-19\", \"11-20\", \"11-4\", \"11-7\", \"12-19\", \"12-20\", \"12-7\", \"13-14\", \"13-18\", \"13-19\", \"13-20\", \"13-3\", \"13-7\", \"14-10\", \"14-11\", \"14-12\", \"14-13\", \"14-14\", \"14-19\", \"14-20\", \"14-7\", \"14-8\", \"14-9\", \"15-1\", \"15-19\", \"15-6\", \"16-1\", \"16-16\", \"16-19\", \"16-20\", \"17-10\", \"17-11\", \"18-1\", \"18-10\", \"18-11\", \"18-12\", \"18-13\", \"18-14\", \"18-15\", \"18-16\", \"18-17\", \"18-19\", \"18-2\", \"18-20\", \"18-4\", \"18-5\", \"18-7\", \"18-8\", \"18-9\", \"19-1\", \"19-10\", \"19-11\", \"19-12\", \"19-13\", \"19-14\", \"19-15\", \"19-19\", \"19-2\", \"19-20\", \"19-3\", \"19-4\", \"19-6\", \"19-7\", \"19-8\", \"19-9\", \"2-1\", \"2-13\", \"2-15\", \"2-3\", \"2-4\", \"2-5\", \"2-6\", \"2-7\", \"2-8\", \"20-1\", \"20-12\", \"20-14\", \"20-15\", \"20-16\", \"20-18\", \"20-19\", \"20-20\", \"20-3\", \"20-4\", \"20-5\", \"20-7\", \"20-8\", \"3-1\", \"3-13\", \"3-18\", \"3-2\", \"3-8\", \"4-1\", \"4-10\", \"4-11\", \"5-1\", \"5-5\", \"6-1\", \"6-15\", \"6-6\", \"7-10\", \"7-11\", \"7-12\", \"7-13\", \"7-14\", \"7-7\", \"7-8\", \"7-9\", \"8-1\", \"8-13\", \"8-14\", \"8-18\", \"8-20\", \"8-3\", \"8-8\", \"9-1\", \"9-7\"], \"domains\": [1, 2, 3, 4], \"num_examples_per_domain_per_label\": -1, \"pickle_path\": \"/root/csc500-main/datasets/wisig.node3-19.stratified_ds.2022A.pkl\", \"source_or_target_dataset\": \"target\", \"x_transforms\": [], \"episode_transforms\": [], \"domain_prefix\": \"Wisig_\"}, {\"labels\": [\"3123D52\", \"3123D65\", \"3123D79\", \"3123D80\", \"3123D54\", \"3123D70\", \"3123D7B\", \"3123D89\", \"3123D58\", \"3123D76\", \"3123D7D\", \"3123EFE\", \"3123D64\", \"3123D78\", \"3123D7E\", \"3124E4A\"], \"domains\": [32, 38, 8, 44, 14, 50, 20, 26], \"num_examples_per_domain_per_label\": 10000, \"pickle_path\": \"/root/csc500-main/datasets/oracle.Run1_10kExamples_stratified_ds.2022A.pkl\", \"source_or_target_dataset\": \"source\", \"x_transforms\": [], \"episode_transforms\": [], \"domain_prefix\": \"ORACLE.run1\"}], \"dataset_seed\": 7, \"seed\": 7, \"x_shape\": [2, 256], \"domains_source\": [\"ORACLE.run132\", \"ORACLE.run138\", \"ORACLE.run18\", \"ORACLE.run144\", \"ORACLE.run114\", \"ORACLE.run150\", \"ORACLE.run120\", \"ORACLE.run126\"], \"domains_target\": [\"Wisig_1\", \"Wisig_2\", \"Wisig_3\", \"Wisig_4\"]}, \"results\": {\"source_test_label_accuracy\": 0.8580143229166667, \"source_test_label_loss\": 0.3992941379547119, \"target_test_label_accuracy\": 0.8546181630546955, \"target_test_label_loss\": 65.12344360351562, \"source_val_label_accuracy\": 0.8584309895833333, \"source_val_label_loss\": 0.3978451192378998, \"target_val_label_accuracy\": 0.8533856916578669, \"target_val_label_loss\": 67.04187774658203, \"total_epochs_trained\": 6, \"total_experiment_time_secs\": 5927.751271247864, \"confusion\": {\"ORACLE.run126\": {\"0\": {\"10\": 175, \"0\": 876, \"14\": 98, \"9\": 1, \"2\": 5, \"8\": 32, \"7\": 1, \"1\": 4, \"15\": 4, \"6\": 4}, \"4\": {\"4\": 1195, \"3\": 5}, \"14\": {\"14\": 830, \"10\": 221, \"0\": 67, \"1\": 67, \"6\": 5, \"15\": 10}, \"12\": {\"12\": 1200}, \"8\": {\"8\": 814, \"2\": 25, \"9\": 186, \"3\": 3, \"7\": 168, \"0\": 4}, \"7\": {\"7\": 913, \"2\": 84, \"3\": 63, \"8\": 123, \"9\": 17}, \"13\": {\"13\": 1047, \"9\": 87, \"3\": 11, \"2\": 49, \"7\": 2, \"8\": 4}, \"5\": {\"5\": 954, \"6\": 50, \"15\": 196}, \"15\": {\"5\": 263, \"15\": 741, \"6\": 130, \"10\": 49, \"14\": 4, \"0\": 8, \"2\": 2, \"1\": 3}, \"10\": {\"0\": 106, \"14\": 194, \"10\": 813, \"6\": 37, \"15\": 49, \"1\": 1}, \"3\": {\"3\": 1108, \"2\": 11, \"7\": 81}, \"9\": {\"9\": 803, \"8\": 261, \"13\": 74, \"7\": 22, \"2\": 38, \"3\": 1, \"0\": 1}, \"6\": {\"6\": 1039, \"5\": 51, \"15\": 69, \"10\": 30, \"1\": 7, \"14\": 4}, \"1\": {\"1\": 1003, \"14\": 131, \"0\": 1, \"10\": 19, \"6\": 37, \"15\": 7, \"5\": 2}, \"11\": {\"11\": 1200}, \"2\": {\"2\": 730, \"9\": 71, \"8\": 59, \"7\": 183, \"3\": 123, \"0\": 23, \"13\": 9, \"15\": 1, \"10\": 1}}, \"ORACLE.run144\": {\"1\": {\"1\": 1145, \"2\": 54, \"10\": 1}, \"11\": {\"11\": 1200}, \"3\": {\"3\": 1173, \"12\": 27}, \"6\": {\"6\": 1029, \"13\": 131, \"9\": 40}, \"7\": {\"9\": 133, \"7\": 1056, \"10\": 10, \"6\": 1}, \"5\": {\"8\": 15, \"5\": 1069, \"15\": 68, \"14\": 43, \"0\": 3, \"4\": 2}, \"2\": {\"2\": 1154, \"1\": 42, \"10\": 4}, \"15\": {\"8\": 36, \"15\": 1052, \"14\": 66, \"5\": 39, \"0\": 4, \"4\": 3}, \"10\": {\"10\": 1137, \"1\": 30, \"2\": 19, \"7\": 14}, \"13\": {\"13\": 998, \"6\": 180, \"9\": 19, \"11\": 3}, \"8\": {\"8\": 892, \"0\": 238, \"5\": 32, \"15\": 38}, \"4\": {\"4\": 795, \"14\": 394, \"5\": 2, \"15\": 6, \"13\": 2, \"9\": 1}, \"9\": {\"9\": 570, \"7\": 343, \"2\": 4, \"6\": 182, \"13\": 97, \"4\": 4}, \"14\": {\"14\": 914, \"4\": 221, \"5\": 37, \"15\": 28}, \"0\": {\"0\": 1057, \"8\": 138, \"15\": 5}, \"12\": {\"12\": 1168, \"3\": 32}}, \"ORACLE.run150\": {\"15\": {\"15\": 1149, \"6\": 40, \"9\": 2, \"11\": 8, \"4\": 1}, \"4\": {\"4\": 1011, \"7\": 100, \"5\": 45, \"15\": 34, \"6\": 10}, \"6\": {\"6\": 1015, \"5\": 122, \"15\": 63}, \"2\": {\"2\": 1165, \"0\": 33, \"14\": 2}, \"5\": {\"5\": 489, \"7\": 325, \"6\": 266, \"4\": 74, \"13\": 32, \"15\": 7, \"1\": 7}, \"9\": {\"9\": 1054, \"11\": 55, \"12\": 89, \"15\": 2}, \"8\": {\"8\": 1197, \"10\": 3}, \"12\": {\"12\": 1138, \"9\": 50, \"11\": 12}, \"10\": {\"10\": 1190, \"8\": 8, \"0\": 2}, \"1\": {\"1\": 1169, \"10\": 7, \"13\": 21, \"0\": 2, \"6\": 1}, \"0\": {\"0\": 1146, \"2\": 47, \"10\": 7}, \"3\": {\"3\": 1200}, \"13\": {\"13\": 1194, \"1\": 6}, \"11\": {\"11\": 1167, \"15\": 10, \"9\": 12, \"12\": 11}, \"7\": {\"7\": 1111, \"5\": 67, \"4\": 22}, \"14\": {\"14\": 1200}}, \"ORACLE.run138\": {\"15\": {\"15\": 1126, \"1\": 23, \"5\": 18, \"8\": 33}, \"11\": {\"11\": 1200}, \"10\": {\"10\": 1120, \"0\": 36, \"13\": 40, \"4\": 4}, \"14\": {\"14\": 1093, \"2\": 102, \"13\": 5}, \"6\": {\"6\": 1200}, \"4\": {\"4\": 1199, \"10\": 1}, \"13\": {\"13\": 1143, \"10\": 50, \"0\": 5, \"2\": 1, \"14\": 1}, \"3\": {\"3\": 1200}, \"7\": {\"7\": 1189, \"8\": 2, \"0\": 5, \"5\": 4}, \"8\": {\"5\": 386, \"8\": 645, \"12\": 5, \"7\": 111, \"15\": 21, \"13\": 21, \"0\": 7, \"9\": 4}, \"1\": {\"1\": 1200}, \"5\": {\"5\": 555, \"8\": 428, \"9\": 73, \"7\": 91, \"15\": 48, \"13\": 3, \"0\": 2}, \"0\": {\"10\": 113, \"0\": 830, \"3\": 74, \"13\": 40, \"7\": 137, \"4\": 1, \"8\": 5}, \"2\": {\"2\": 1130, \"14\": 70}, \"12\": {\"12\": 1196, \"8\": 3, \"15\": 1}, \"9\": {\"9\": 1168, \"7\": 4, \"8\": 4, \"5\": 24}}, \"ORACLE.run120\": {\"10\": {\"10\": 1175, \"4\": 24, \"2\": 1}, \"7\": {\"7\": 943, \"4\": 15, \"2\": 117, \"9\": 98, \"6\": 14, \"8\": 2, \"3\": 4, \"12\": 7}, \"4\": {\"4\": 1086, \"12\": 55, \"7\": 21, \"10\": 30, \"2\": 5, \"5\": 1, \"3\": 1, \"9\": 1}, \"13\": {\"13\": 1098, \"2\": 54, \"15\": 25, \"12\": 23}, \"1\": {\"1\": 721, \"5\": 340, \"15\": 60, \"3\": 19, \"9\": 50, \"12\": 8, \"2\": 2}, \"0\": {\"0\": 1139, \"8\": 9, \"3\": 22, \"5\": 24, \"1\": 5, \"9\": 1}, \"12\": {\"12\": 856, \"2\": 153, \"15\": 104, \"1\": 22, \"4\": 16, \"5\": 2, \"7\": 14, \"13\": 20, \"9\": 12, \"3\": 1}, \"5\": {\"5\": 685, \"3\": 111, \"1\": 355, \"9\": 43, \"0\": 1, \"2\": 1, \"15\": 3, \"12\": 1}, \"6\": {\"6\": 1169, \"8\": 2, \"10\": 2, \"7\": 16, \"14\": 11}, \"2\": {\"2\": 785, \"7\": 142, \"12\": 133, \"9\": 58, \"13\": 54, \"15\": 16, \"4\": 6, \"1\": 6}, \"8\": {\"8\": 1057, \"3\": 67, \"14\": 69, \"7\": 3, \"9\": 4}, \"11\": {\"11\": 1200}, \"9\": {\"9\": 768, \"3\": 147, \"2\": 53, \"5\": 43, \"7\": 101, \"4\": 2, \"1\": 61, \"12\": 18, \"13\": 2, \"8\": 4, \"15\": 1}, \"14\": {\"14\": 1127, \"8\": 65, \"6\": 8}, \"15\": {\"15\": 938, \"1\": 121, \"12\": 91, \"9\": 7, \"13\": 25, \"2\": 16, \"5\": 2}, \"3\": {\"5\": 122, \"3\": 762, \"9\": 192, \"0\": 21, \"8\": 66, \"7\": 10, \"1\": 24, \"2\": 2, \"4\": 1}}, \"ORACLE.run114\": {\"14\": {\"14\": 988, \"6\": 28, \"2\": 53, \"13\": 101, \"3\": 29, \"4\": 1}, \"0\": {\"0\": 1138, \"10\": 25, \"3\": 33, \"14\": 1, \"4\": 1, \"8\": 2}, \"4\": {\"4\": 1173, \"5\": 15, \"2\": 12}, \"11\": {\"11\": 1200}, \"13\": {\"6\": 460, \"13\": 334, \"14\": 315, \"2\": 48, \"15\": 39, \"3\": 2, \"4\": 2}, \"9\": {\"9\": 1200}, \"3\": {\"3\": 1158, \"2\": 4, \"6\": 2, \"14\": 32, \"0\": 4}, \"6\": {\"6\": 811, \"13\": 301, \"14\": 66, \"3\": 1, \"2\": 21}, \"1\": {\"1\": 1200}, \"5\": {\"5\": 1066, \"2\": 89, \"4\": 14, \"3\": 11, \"7\": 17, \"14\": 2, \"6\": 1}, \"12\": {\"12\": 1200}, \"10\": {\"10\": 1200}, \"8\": {\"8\": 1200}, \"7\": {\"7\": 1197, \"2\": 1, \"5\": 2}, \"15\": {\"15\": 1200}, \"2\": {\"2\": 560, \"14\": 182, \"5\": 181, \"13\": 57, \"4\": 84, \"6\": 81, \"3\": 42, \"7\": 13}}, \"ORACLE.run132\": {\"11\": {\"11\": 1198, \"13\": 2}, \"1\": {\"1\": 1200}, \"2\": {\"2\": 1085, \"4\": 115}, \"0\": {\"0\": 938, \"8\": 88, \"5\": 60, \"7\": 99, \"2\": 1, \"14\": 14}, \"3\": {\"3\": 1176, \"13\": 24}, \"8\": {\"8\": 974, \"0\": 97, \"5\": 85, \"7\": 19, \"4\": 12, \"14\": 11, \"2\": 1, \"15\": 1}, \"12\": {\"12\": 1200}, \"5\": {\"7\": 237, \"5\": 693, \"8\": 138, \"0\": 94, \"15\": 2, \"14\": 36}, \"15\": {\"15\": 1195, \"8\": 5}, \"7\": {\"5\": 168, \"7\": 790, \"14\": 132, \"0\": 98, \"8\": 12}, \"4\": {\"4\": 1031, \"2\": 136, \"13\": 30, \"3\": 2, \"14\": 1}, \"14\": {\"14\": 743, \"4\": 5, \"5\": 58, \"7\": 289, \"2\": 35, \"8\": 30, \"0\": 40}, \"10\": {\"10\": 1200}, \"6\": {\"6\": 1200}, \"13\": {\"13\": 936, \"4\": 125, \"3\": 115, \"11\": 23, \"14\": 1}, \"9\": {\"9\": 1185, \"12\": 14, \"2\": 1}}, \"ORACLE.run18\": {\"9\": {\"9\": 1200}, \"11\": {\"11\": 672, \"14\": 57, \"1\": 422, \"10\": 2, \"6\": 8, \"5\": 11, \"4\": 11, \"8\": 16, \"13\": 1}, \"8\": {\"8\": 1182, \"6\": 12, \"11\": 3, \"4\": 3}, \"4\": {\"4\": 1159, \"8\": 1, \"6\": 18, \"14\": 12, \"11\": 7, \"10\": 1, \"1\": 2}, \"13\": {\"13\": 1006, \"10\": 129, \"7\": 50, \"6\": 15}, \"14\": {\"14\": 1107, \"4\": 83, \"11\": 10}, \"2\": {\"12\": 53, \"2\": 933, \"3\": 156, \"15\": 58}, \"3\": {\"3\": 1199, \"2\": 1}, \"1\": {\"11\": 196, \"1\": 923, \"10\": 41, \"5\": 31, \"4\": 4, \"13\": 3, \"6\": 2}, \"0\": {\"0\": 1200}, \"5\": {\"1\": 92, \"10\": 123, \"5\": 947, \"11\": 20, \"4\": 2, \"13\": 5, \"14\": 11}, \"15\": {\"15\": 987, \"12\": 201, \"2\": 12}, \"10\": {\"10\": 928, \"13\": 162, \"5\": 52, \"6\": 7, \"1\": 44, \"4\": 4, \"11\": 3}, \"12\": {\"12\": 867, \"15\": 323, \"2\": 10}, \"6\": {\"6\": 997, \"7\": 178, \"13\": 14, \"10\": 6, \"4\": 4, \"8\": 1}, \"7\": {\"7\": 1006, \"6\": 169, \"13\": 25}}, \"Wisig_4\": {\"71\": {\"71\": 96, \"14\": 1, \"1\": 1, \"127\": 4, \"43\": 1, \"84\": 1}, \"17\": {\"104\": 2, \"17\": 11, \"86\": 1, \"102\": 2, \"79\": 2, \"115\": 2}, \"105\": {\"71\": 5, \"105\": 71, \"88\": 1, \"70\": 1, \"72\": 1, \"118\": 1, \"24\": 1, \"4\": 1, \"126\": 2, \"39\": 1, \"3\": 2, \"10\": 1, \"113\": 1, \"6\": 1, \"69\": 2, \"114\": 3, \"99\": 1, \"5\": 2, \"27\": 1, \"36\": 1}, \"92\": {\"92\": 15, \"95\": 1, \"64\": 1, \"31\": 3, \"107\": 1, \"15\": 1, \"128\": 1, \"45\": 2, \"89\": 2, \"98\": 1}, \"100\": {\"100\": 12, \"71\": 1, \"46\": 2, \"107\": 3, \"5\": 1, \"84\": 1}, \"6\": {\"6\": 19, \"104\": 1, \"111\": 2, \"82\": 1, \"125\": 1}, \"36\": {\"36\": 115, \"94\": 4, \"27\": 2, \"70\": 1, \"10\": 2, \"30\": 1, \"109\": 1, \"24\": 2}, \"35\": {\"35\": 10, \"38\": 2}, \"63\": {\"63\": 15, \"17\": 1}, \"104\": {\"104\": 12, \"37\": 2, \"86\": 1, \"17\": 1}, \"114\": {\"114\": 106, \"14\": 2, \"30\": 1, \"84\": 2, \"5\": 8, \"3\": 3, \"44\": 1, \"24\": 2, \"70\": 1, \"1\": 2}, \"68\": {\"68\": 15, \"42\": 1}, \"109\": {\"109\": 114, \"108\": 1, \"43\": 1}, \"27\": {\"27\": 84, \"113\": 1, \"78\": 1, \"108\": 2, \"70\": 2, \"88\": 4, \"126\": 1, \"30\": 1, \"24\": 3, \"10\": 1}, \"79\": {\"79\": 14, \"17\": 1, \"119\": 1}, \"0\": {\"0\": 91, \"10\": 1, \"70\": 1, \"87\": 4, \"88\": 1, \"11\": 1, \"8\": 1, \"39\": 2, \"60\": 1, \"126\": 1, \"108\": 1, \"24\": 1}, \"28\": {\"28\": 15, \"19\": 1, \"102\": 1, \"98\": 2, \"6\": 1}, \"4\": {\"4\": 101, \"122\": 1, \"108\": 1, \"106\": 1}, \"106\": {\"106\": 80, \"21\": 1, \"51\": 1, \"12\": 9, \"101\": 1, \"7\": 1, \"0\": 6, \"10\": 1, \"113\": 1, \"88\": 1}, \"40\": {\"40\": 115, \"107\": 4, \"5\": 2, \"105\": 3, \"11\": 1, \"69\": 3, \"33\": 1, \"24\": 1, \"113\": 1, \"1\": 2, \"114\": 1}, \"127\": {\"127\": 95, \"36\": 1, \"1\": 2, \"71\": 4, \"43\": 1, \"3\": 1, \"72\": 2, \"5\": 1, \"7\": 1}, \"57\": {\"57\": 14, \"88\": 2}, \"60\": {\"60\": 30, \"93\": 2}, \"69\": {\"69\": 106, \"84\": 2, \"108\": 1, \"105\": 2, \"44\": 3, \"27\": 1, \"70\": 1, \"20\": 2, \"40\": 3, \"99\": 2, \"10\": 1}, \"84\": {\"84\": 103, \"93\": 1, \"99\": 3, \"113\": 1, \"69\": 3, \"5\": 3, \"121\": 1, \"105\": 4, \"16\": 3, \"3\": 4, \"126\": 1, \"14\": 4, \"43\": 1}, \"24\": {\"24\": 93, \"10\": 14, \"21\": 1, \"97\": 1, \"110\": 1, \"113\": 1, \"27\": 4, \"43\": 2, \"70\": 2, \"88\": 1}, \"94\": {\"60\": 1, \"94\": 69, \"15\": 9, \"36\": 2, \"8\": 1, \"30\": 2, \"11\": 1, \"87\": 1, \"24\": 2}, \"7\": {\"7\": 107, \"24\": 1, \"127\": 3, \"62\": 2, \"36\": 1, \"126\": 1, \"10\": 1, \"96\": 2, \"85\": 1, \"27\": 1}, \"96\": {\"60\": 1, \"96\": 8, \"16\": 1, \"93\": 1, \"118\": 1, \"59\": 1, \"85\": 1, \"11\": 1, \"105\": 2, \"7\": 1, \"91\": 1, \"31\": 1}, \"116\": {\"116\": 25, \"102\": 2, \"90\": 1}, \"47\": {\"47\": 7, \"24\": 1, \"73\": 2, \"90\": 1, \"97\": 1}, \"119\": {\"119\": 10, \"102\": 1, \"25\": 1, \"64\": 2, \"50\": 2}, \"74\": {\"32\": 1, \"107\": 1, \"74\": 12, \"113\": 1, \"128\": 1}, \"93\": {\"93\": 143, \"11\": 3, \"62\": 1, \"113\": 1, \"118\": 2, \"110\": 2}, \"2\": {\"2\": 25, \"92\": 1, \"117\": 1, \"90\": 1}, \"37\": {\"119\": 1, \"104\": 1, \"37\": 7, \"88\": 1, \"55\": 2, \"124\": 2, \"6\": 2}, \"15\": {\"15\": 120, \"30\": 2, \"113\": 1, \"94\": 3, \"0\": 1, \"24\": 1}, \"102\": {\"102\": 134, \"48\": 1, \"50\": 1}, \"87\": {\"87\": 114, \"113\": 1, \"122\": 2, \"126\": 1, \"39\": 1, \"118\": 2, \"110\": 1}, \"107\": {\"107\": 140, \"98\": 1, \"88\": 1, \"40\": 2}, \"61\": {\"61\": 13, \"109\": 1, \"49\": 1, \"21\": 1}, \"78\": {\"78\": 21, \"109\": 1, \"70\": 3, \"122\": 1, \"88\": 7, \"97\": 2, \"21\": 1}, \"9\": {\"9\": 27, \"101\": 1}, \"32\": {\"32\": 21, \"107\": 1, \"89\": 3, \"85\": 2, \"45\": 1}, \"14\": {\"14\": 105, \"31\": 1, \"71\": 2, \"20\": 2, \"1\": 2}, \"62\": {\"62\": 53, \"7\": 2, \"113\": 1, \"88\": 2, \"109\": 1, \"10\": 1}, \"1\": {\"37\": 1, \"1\": 47, \"100\": 1, \"99\": 1, \"49\": 1, \"71\": 20, \"3\": 9, \"105\": 5, \"90\": 1, \"40\": 2, \"114\": 8, \"14\": 2, \"107\": 2, \"24\": 1, \"70\": 1}, \"23\": {\"24\": 1, \"23\": 4, \"93\": 1, \"106\": 2, \"33\": 1, \"108\": 1, \"30\": 1, \"38\": 1, \"0\": 1, \"113\": 1, \"101\": 2}, \"95\": {\"95\": 25, \"34\": 1, \"83\": 1, \"19\": 1, \"46\": 1, \"5\": 1, \"128\": 1, \"24\": 1}, \"56\": {\"56\": 12}, \"91\": {\"68\": 3, \"91\": 6, \"29\": 1, \"120\": 1, \"58\": 1, \"89\": 1, \"112\": 5, \"55\": 2, \"42\": 1, \"37\": 1, \"119\": 2}, \"34\": {\"34\": 11, \"1\": 1, \"83\": 1, \"20\": 2, \"99\": 2, \"3\": 2, \"107\": 1, \"46\": 1, \"71\": 1, \"52\": 1, \"43\": 1, \"76\": 2, \"101\": 1, \"114\": 2, \"105\": 2, \"127\": 1}, \"25\": {\"25\": 16}, \"33\": {\"33\": 123, \"121\": 1}, \"16\": {\"16\": 114, \"113\": 1, \"72\": 2, \"117\": 1, \"14\": 2, \"87\": 1, \"7\": 2, \"90\": 1}, \"26\": {\"26\": 119, \"78\": 2, \"21\": 1, \"24\": 1, \"16\": 2, \"43\": 1}, \"5\": {\"5\": 111, \"93\": 3, \"100\": 1, \"40\": 3, \"71\": 1, \"1\": 6, \"10\": 1, \"114\": 2, \"43\": 2, \"84\": 1, \"39\": 1, \"113\": 1, \"3\": 1, \"88\": 1, \"69\": 1}, \"123\": {\"123\": 12, \"127\": 1, \"80\": 1, \"63\": 2}, \"8\": {\"8\": 117, \"11\": 1}, \"83\": {\"83\": 10, \"5\": 1, \"71\": 2, \"52\": 2, \"36\": 1, \"50\": 1, \"114\": 3, \"51\": 1, \"78\": 1, \"34\": 1, \"20\": 1, \"128\": 1, \"7\": 2, \"127\": 1}, \"125\": {\"125\": 134}, \"51\": {\"51\": 6, \"61\": 1, \"53\": 1, \"88\": 1, \"114\": 2, \"9\": 2, \"54\": 1, \"97\": 1, \"73\": 1}, \"22\": {\"22\": 13, \"79\": 1, \"31\": 2}, \"54\": {\"54\": 11, \"77\": 2, \"29\": 2, \"120\": 1}, \"66\": {\"17\": 1, \"103\": 1, \"66\": 10, \"2\": 2, \"64\": 1, \"57\": 1}, \"59\": {\"111\": 2, \"59\": 8, \"46\": 1, \"21\": 1}, \"111\": {\"111\": 117, \"91\": 1, \"125\": 1, \"10\": 1, \"68\": 1, \"124\": 6, \"126\": 1}, \"77\": {\"77\": 12}, \"103\": {\"107\": 3, \"77\": 1, \"103\": 12}, \"20\": {\"20\": 12, \"99\": 1, \"64\": 1, \"84\": 2}, \"124\": {\"124\": 118, \"117\": 1, \"98\": 1}, \"99\": {\"99\": 21, \"89\": 1, \"40\": 6, \"84\": 1, \"107\": 1, \"49\": 2, \"127\": 4, \"69\": 1, \"71\": 1, \"70\": 1, \"14\": 1}, \"120\": {\"109\": 1, \"120\": 13, \"17\": 1, \"112\": 2, \"6\": 1, \"21\": 1, \"98\": 1}, \"76\": {\"91\": 2, \"127\": 1, \"76\": 9, \"30\": 1, \"55\": 1, \"107\": 2}, \"110\": {\"110\": 93, \"11\": 5, \"113\": 2, \"122\": 4, \"10\": 1, \"87\": 5, \"97\": 1, \"93\": 2, \"36\": 2, \"118\": 1}, \"29\": {\"29\": 29, \"24\": 1, \"82\": 2}, \"118\": {\"118\": 92, \"15\": 1, \"11\": 2, \"105\": 2, \"93\": 2, \"109\": 1, \"70\": 1, \"110\": 2, \"88\": 1, \"122\": 2, \"21\": 1, \"113\": 2, \"62\": 2, \"24\": 1}, \"58\": {\"58\": 11, \"77\": 1, \"88\": 2, \"47\": 2}, \"13\": {\"13\": 11, \"66\": 2, \"58\": 1, \"50\": 1, \"48\": 1}, \"89\": {\"92\": 2, \"89\": 28, \"33\": 2}, \"31\": {\"92\": 2, \"31\": 8, \"47\": 1, \"27\": 1, \"19\": 1, \"90\": 2, \"33\": 1}, \"64\": {\"92\": 2, \"31\": 1, \"28\": 1, \"64\": 7, \"82\": 1, \"102\": 1, \"41\": 1, \"103\": 1, \"106\": 1}, \"65\": {\"65\": 12}, \"101\": {\"101\": 121, \"31\": 1, \"16\": 1, \"12\": 6, \"43\": 1, \"69\": 1, \"117\": 1}, \"126\": {\"126\": 114, \"113\": 1, \"109\": 3}, \"108\": {\"30\": 2, \"108\": 61, \"113\": 2, \"70\": 9, \"88\": 6, \"107\": 1, \"3\": 1, \"109\": 2, \"43\": 3, \"10\": 4, \"129\": 1}, \"45\": {\"89\": 2, \"45\": 11, \"32\": 2, \"41\": 1}, \"21\": {\"21\": 34, \"88\": 3, \"102\": 1, \"43\": 1, \"108\": 1}, \"30\": {\"30\": 72, \"15\": 1, \"126\": 1, \"36\": 1, \"88\": 1}, \"82\": {\"82\": 21, \"55\": 2, \"64\": 1, \"41\": 1, \"29\": 2, \"98\": 3, \"32\": 1, \"124\": 1}, \"85\": {\"95\": 4, \"85\": 15, \"33\": 2, \"107\": 2, \"103\": 2, \"32\": 2, \"120\": 1}, \"88\": {\"88\": 117, \"24\": 2, \"78\": 4, \"70\": 5, \"10\": 1, \"108\": 1, \"39\": 1, \"27\": 1}, \"41\": {\"41\": 13, \"70\": 1, \"29\": 2}, \"128\": {\"127\": 2, \"40\": 2, \"128\": 12, \"95\": 1, \"52\": 1, \"33\": 1, \"85\": 1, \"34\": 1, \"107\": 1, \"114\": 2}, \"39\": {\"39\": 82, \"109\": 4, \"126\": 5, \"33\": 2, \"113\": 1, \"108\": 1, \"10\": 2, \"43\": 2, \"70\": 1}, \"18\": {\"18\": 111, \"113\": 2, \"126\": 3, \"5\": 1, \"84\": 1, \"39\": 1, \"43\": 1}, \"113\": {\"113\": 121, \"93\": 1, \"39\": 2, \"10\": 1, \"94\": 1, \"97\": 1, \"126\": 1}, \"11\": {\"11\": 120, \"93\": 6, \"110\": 3, \"0\": 2, \"90\": 1, \"126\": 2, \"87\": 3, \"70\": 1}, \"43\": {\"43\": 102, \"118\": 1, \"109\": 7, \"39\": 1, \"7\": 1, \"70\": 2, \"21\": 2, \"11\": 2, \"126\": 1, \"110\": 1}, \"12\": {\"12\": 84, \"30\": 1, \"60\": 2, \"101\": 4, \"106\": 7, \"109\": 1, \"113\": 1}, \"122\": {\"122\": 57, \"87\": 9, \"113\": 2, \"110\": 5, \"24\": 1, \"70\": 1, \"88\": 1, \"11\": 1, \"109\": 1, \"93\": 3, \"126\": 1, \"10\": 1, \"118\": 1}, \"52\": {\"52\": 12, \"34\": 3, \"71\": 1, \"98\": 1, \"9\": 1, \"1\": 2}, \"44\": {\"44\": 52, \"69\": 4, \"40\": 4, \"31\": 1, \"28\": 1, \"14\": 1, \"98\": 1}, \"90\": {\"90\": 134}, \"112\": {\"85\": 1, \"112\": 8, \"105\": 1, \"95\": 1, \"54\": 1, \"33\": 1, \"114\": 1, \"91\": 1, \"99\": 1}, \"86\": {\"86\": 27, \"4\": 1}, \"3\": {\"3\": 89, \"78\": 1, \"71\": 6, \"5\": 2, \"114\": 6, \"105\": 3, \"1\": 2, \"84\": 2, \"43\": 3, \"14\": 2}, \"38\": {\"38\": 16}, \"121\": {\"121\": 30, \"44\": 2}, \"46\": {\"46\": 14, \"121\": 1, \"114\": 2, \"41\": 1, \"107\": 1, \"50\": 1}, \"70\": {\"70\": 106, \"108\": 6, \"88\": 2, \"27\": 1, \"10\": 3, \"117\": 2, \"24\": 2, \"39\": 2}, \"67\": {\"111\": 1, \"67\": 7, \"117\": 4, \"55\": 2, \"63\": 1, \"89\": 1}, \"53\": {\"53\": 11, \"105\": 2, \"85\": 3}, \"49\": {\"14\": 3, \"49\": 13, \"127\": 3, \"1\": 3, \"34\": 1, \"105\": 2, \"51\": 1, \"72\": 2, \"71\": 1, \"108\": 1, \"60\": 1, \"12\": 1}, \"42\": {\"42\": 15, \"50\": 2, \"52\": 1, \"46\": 2, \"124\": 1, \"98\": 2, \"29\": 1, \"73\": 1, \"91\": 1, \"103\": 1, \"83\": 1}, \"10\": {\"10\": 91, \"24\": 15, \"88\": 2, \"36\": 2, \"70\": 5, \"39\": 1, \"110\": 1, \"27\": 1}, \"50\": {\"50\": 11, \"128\": 1, \"42\": 1, \"104\": 2, \"119\": 1}, \"73\": {\"73\": 15, \"112\": 2, \"125\": 1, \"107\": 1, \"46\": 2, \"120\": 1, \"28\": 1, \"95\": 1}, \"115\": {\"37\": 2, \"89\": 1, \"115\": 7, \"4\": 3, \"79\": 2, \"29\": 1}, \"80\": {\"80\": 15, \"19\": 1}, \"19\": {\"38\": 1, \"19\": 13, \"98\": 4, \"107\": 1, \"128\": 1, \"10\": 1, \"89\": 1, \"32\": 1, \"28\": 1, \"33\": 3, \"27\": 1}, \"55\": {\"55\": 12, \"98\": 1, \"41\": 1, \"45\": 1, \"29\": 1}, \"72\": {\"105\": 3, \"72\": 17, \"30\": 1, \"1\": 3, \"5\": 1, \"7\": 2, \"127\": 2, \"16\": 1, \"14\": 1, \"114\": 1}, \"117\": {\"117\": 114, \"63\": 2}, \"81\": {\"81\": 30, \"89\": 1, \"70\": 1, \"61\": 1, \"78\": 1, \"18\": 2}, \"75\": {\"9\": 1, \"75\": 8, \"52\": 1, \"29\": 1, \"34\": 1, \"53\": 1, \"77\": 2, \"95\": 1}, \"98\": {\"98\": 110, \"41\": 2, \"124\": 1, \"71\": 1, \"107\": 2, \"25\": 1, \"88\": 1, \"83\": 2}, \"48\": {\"48\": 12, \"90\": 1, \"129\": 2, \"92\": 1}, \"129\": {\"129\": 20, \"116\": 1, \"111\": 2, \"124\": 1, \"68\": 1, \"119\": 1, \"64\": 1, \"98\": 1}, \"97\": {\"97\": 11, \"36\": 1, \"24\": 2, \"73\": 1, \"27\": 1, \"70\": 2, \"88\": 2}}, \"Wisig_1\": {\"105\": {\"105\": 70, \"14\": 5, \"40\": 1, \"84\": 2, \"1\": 4, \"44\": 2}, \"100\": {\"81\": 2, \"100\": 9, \"128\": 2, \"20\": 1, \"114\": 1, \"1\": 1}, \"112\": {\"81\": 1, \"111\": 1, \"85\": 1, \"112\": 6, \"68\": 1, \"103\": 1, \"37\": 2, \"17\": 1, \"91\": 2}, \"123\": {\"123\": 16}, \"13\": {\"13\": 10, \"123\": 1, \"41\": 1, \"115\": 1, \"2\": 2, \"64\": 1}, \"81\": {\"81\": 14, \"105\": 3, \"19\": 5, \"127\": 1, \"34\": 1, \"3\": 1, \"33\": 1, \"9\": 2}, \"124\": {\"124\": 117, \"117\": 1, \"5\": 2}, \"122\": {\"122\": 86, \"43\": 1, \"87\": 1}, \"111\": {\"111\": 116, \"68\": 2, \"109\": 2}, \"93\": {\"93\": 150, \"8\": 2, \"21\": 1, \"122\": 1, \"87\": 3, \"11\": 1}, \"106\": {\"106\": 102, \"0\": 4, \"101\": 2, \"127\": 2, \"88\": 1, \"12\": 4, \"24\": 1, \"39\": 2}, \"113\": {\"113\": 114, \"18\": 9, \"11\": 1}, \"95\": {\"95\": 33, \"90\": 1, \"33\": 1, \"42\": 1}, \"87\": {\"122\": 8, \"87\": 78, \"16\": 1, \"93\": 5, \"8\": 6, \"43\": 9, \"18\": 1}, \"86\": {\"86\": 26, \"24\": 1, \"124\": 4, \"55\": 1, \"129\": 2, \"5\": 2}, \"67\": {\"67\": 16}, \"85\": {\"85\": 28, \"98\": 2, \"92\": 2}, \"82\": {\"82\": 29, \"28\": 1, \"25\": 3, \"83\": 2, \"5\": 1}, \"115\": {\"115\": 12}, \"7\": {\"7\": 142}, \"44\": {\"44\": 70, \"105\": 3, \"35\": 1, \"106\": 1, \"40\": 1}, \"65\": {\"129\": 1, \"65\": 9, \"17\": 1, \"119\": 1}, \"129\": {\"129\": 21, \"5\": 2, \"112\": 1, \"68\": 1, \"94\": 1, \"117\": 1, \"126\": 1}, \"42\": {\"42\": 14, \"82\": 1, \"75\": 1, \"56\": 1, \"90\": 2, \"25\": 3, \"73\": 2, \"83\": 1, \"54\": 1, \"64\": 1, \"114\": 1}, \"28\": {\"10\": 1, \"28\": 16, \"116\": 1, \"125\": 1, \"24\": 1}, \"0\": {\"0\": 82, \"27\": 1, \"24\": 1}, \"10\": {\"10\": 113, \"108\": 2, \"70\": 2, \"24\": 2, \"43\": 1}, \"76\": {\"76\": 14, \"126\": 1, \"25\": 1}, \"88\": {\"88\": 107, \"109\": 2, \"27\": 2, \"30\": 1, \"70\": 1, \"24\": 9, \"108\": 3, \"126\": 1}, \"29\": {\"29\": 28}, \"16\": {\"16\": 100, \"26\": 4, \"18\": 1, \"39\": 1, \"118\": 1, \"126\": 1}, \"41\": {\"41\": 10, \"5\": 1, \"55\": 2, \"57\": 1, \"22\": 1, \"80\": 1}, \"27\": {\"27\": 89, \"10\": 1, \"15\": 2}, \"33\": {\"33\": 113, \"114\": 5, \"121\": 1, \"90\": 1}, \"75\": {\"9\": 1, \"75\": 8, \"72\": 1, \"29\": 1, \"73\": 1, \"89\": 1, \"34\": 2, \"40\": 1}, \"48\": {\"48\": 12}, \"56\": {\"75\": 2, \"53\": 2, \"56\": 4, \"72\": 1, \"85\": 1, \"107\": 2}, \"9\": {\"9\": 28, \"44\": 1, \"127\": 2, \"10\": 1}, \"1\": {\"1\": 115, \"62\": 4, \"44\": 2, \"109\": 1, \"84\": 3, \"40\": 1}, \"39\": {\"39\": 103, \"126\": 1}, \"50\": {\"39\": 2, \"56\": 1, \"50\": 7, \"90\": 3, \"4\": 1, \"33\": 1, \"63\": 1}, \"99\": {\"99\": 17, \"34\": 2, \"33\": 2, \"39\": 1, \"69\": 1, \"23\": 1}, \"90\": {\"90\": 121, \"124\": 1}, \"45\": {\"45\": 7, \"112\": 1, \"129\": 1, \"64\": 2, \"39\": 1}, \"5\": {\"5\": 76, \"104\": 1, \"98\": 1, \"124\": 8, \"111\": 2}, \"128\": {\"128\": 10, \"19\": 3, \"95\": 1, \"89\": 1, \"25\": 1, \"47\": 1, \"73\": 2, \"114\": 1, \"81\": 1, \"75\": 1, \"107\": 2}, \"2\": {\"67\": 3, \"2\": 14, \"91\": 2, \"85\": 1, \"66\": 2, \"121\": 1, \"61\": 1, \"45\": 1, \"10\": 1, \"117\": 1, \"129\": 1, \"28\": 2, \"123\": 1, \"22\": 1}, \"53\": {\"53\": 11, \"89\": 2, \"81\": 1, \"114\": 1, \"32\": 2, \"128\": 1, \"103\": 1, \"75\": 1}, \"104\": {\"104\": 13, \"77\": 1, \"102\": 1, \"83\": 1}, \"32\": {\"32\": 31, \"51\": 1}, \"92\": {\"92\": 28}, \"78\": {\"78\": 13, \"108\": 1, \"10\": 1, \"24\": 1}, \"19\": {\"56\": 1, \"120\": 1, \"75\": 1, \"72\": 1, \"20\": 1, \"19\": 11, \"74\": 3, \"128\": 2, \"81\": 5, \"98\": 1, \"107\": 1}, \"120\": {\"120\": 13, \"93\": 1, \"83\": 2, \"5\": 2, \"28\": 2}, \"43\": {\"43\": 109, \"87\": 4, \"93\": 8, \"24\": 1, \"39\": 2, \"11\": 1, \"8\": 2, \"88\": 1}, \"74\": {\"74\": 13, \"77\": 1, \"128\": 1, \"65\": 1}, \"11\": {\"11\": 128, \"127\": 1, \"43\": 1}, \"26\": {\"26\": 123, \"69\": 2, \"39\": 2, \"18\": 2, \"21\": 1, \"16\": 2}, \"125\": {\"125\": 132}, \"64\": {\"64\": 12, \"102\": 1, \"45\": 2, \"28\": 1}, \"127\": {\"127\": 96, \"15\": 1, \"101\": 2, \"44\": 2, \"71\": 4, \"72\": 1, \"21\": 1, \"94\": 1}, \"83\": {\"83\": 8, \"85\": 1, \"73\": 2, \"90\": 1, \"114\": 1, \"98\": 2, \"30\": 1, \"42\": 2, \"3\": 1, \"33\": 2, \"28\": 1, \"95\": 1, \"77\": 1, \"104\": 1, \"91\": 2, \"82\": 1}, \"118\": {\"118\": 81, \"113\": 1, \"84\": 1, \"88\": 1}, \"103\": {\"103\": 14, \"29\": 1, \"75\": 1}, \"55\": {\"55\": 12}, \"110\": {\"110\": 118, \"0\": 4, \"106\": 2, \"12\": 2}, \"30\": {\"30\": 38, \"126\": 3, \"11\": 2, \"27\": 2, \"93\": 1, \"10\": 2, \"24\": 1, \"6\": 1, \"88\": 2}, \"51\": {\"51\": 14, \"34\": 1, \"32\": 1}, \"6\": {\"55\": 3, \"6\": 20, \"111\": 5, \"91\": 2, \"124\": 1, \"98\": 1}, \"96\": {\"122\": 3, \"60\": 1, \"30\": 2, \"96\": 12, \"47\": 1, \"11\": 1}, \"114\": {\"114\": 141, \"93\": 1, \"81\": 1, \"39\": 1}, \"69\": {\"69\": 99, \"16\": 2, \"109\": 1, \"84\": 2, \"26\": 2, \"18\": 1, \"62\": 1}, \"60\": {\"60\": 9, \"26\": 2, \"0\": 2, \"90\": 1, \"16\": 1, \"12\": 1}, \"94\": {\"94\": 82, \"15\": 6, \"8\": 1, \"88\": 1, \"87\": 1, \"12\": 1}, \"79\": {\"79\": 10, \"57\": 1, \"86\": 1}, \"126\": {\"126\": 127, \"109\": 2, \"108\": 2, \"39\": 1, \"30\": 2}, \"68\": {\"68\": 14, \"91\": 2}, \"72\": {\"75\": 2, \"72\": 19, \"29\": 1, \"1\": 2, \"34\": 2, \"71\": 1, \"101\": 3, \"84\": 1, \"0\": 1}, \"63\": {\"63\": 13, \"64\": 1, \"123\": 2}, \"22\": {\"111\": 1, \"102\": 1, \"22\": 10, \"124\": 2, \"96\": 1, \"45\": 1}, \"121\": {\"121\": 31, \"15\": 1}, \"71\": {\"71\": 85, \"70\": 1, \"101\": 6, \"127\": 8, \"24\": 1, \"43\": 1, \"12\": 1, \"44\": 2, \"105\": 1, \"114\": 1, \"109\": 1}, \"54\": {\"54\": 12, \"107\": 1, \"73\": 1, \"33\": 1, \"114\": 1}, \"102\": {\"102\": 117, \"39\": 1, \"129\": 2}, \"73\": {\"19\": 1, \"88\": 1, \"73\": 10, \"127\": 1, \"1\": 1, \"83\": 1, \"42\": 2, \"34\": 1, \"71\": 2}, \"38\": {\"38\": 16}, \"4\": {\"4\": 95, \"102\": 2, \"126\": 1, \"27\": 2}, \"52\": {\"52\": 20}, \"70\": {\"70\": 120, \"109\": 4, \"108\": 3, \"124\": 1}, \"91\": {\"91\": 20, \"42\": 1, \"53\": 1, \"124\": 1, \"98\": 1, \"73\": 1, \"77\": 1, \"54\": 2}, \"77\": {\"77\": 13, \"49\": 1, \"91\": 2}, \"20\": {\"20\": 16}, \"59\": {\"59\": 11, \"6\": 1}, \"40\": {\"40\": 82, \"20\": 1, \"81\": 2, \"105\": 3, \"34\": 2, \"114\": 12, \"127\": 1, \"109\": 2, \"14\": 12, \"3\": 4, \"1\": 5, \"107\": 2, \"33\": 5, \"62\": 1, \"35\": 1, \"7\": 1}, \"98\": {\"98\": 99, \"54\": 3, \"85\": 2, \"5\": 2, \"77\": 1, \"111\": 1}, \"46\": {\"55\": 1, \"46\": 7, \"111\": 1, \"59\": 2, \"22\": 1}, \"34\": {\"14\": 2, \"52\": 1, \"32\": 2, \"34\": 16, \"47\": 1, \"128\": 1, \"72\": 1, \"44\": 1, \"56\": 1, \"105\": 2, \"127\": 1, \"53\": 1, \"35\": 1, \"81\": 1}, \"24\": {\"24\": 67, \"70\": 1, \"88\": 14, \"10\": 2, \"108\": 2, \"97\": 3, \"27\": 1, \"39\": 2}, \"62\": {\"62\": 113, \"69\": 4, \"68\": 1, \"6\": 1, \"109\": 1}, \"14\": {\"14\": 85, \"34\": 1, \"1\": 1, \"40\": 7, \"105\": 1, \"62\": 1}, \"12\": {\"12\": 83, \"106\": 10, \"70\": 2, \"0\": 3, \"71\": 2, \"101\": 1, \"126\": 1, \"39\": 1, \"88\": 1}, \"84\": {\"84\": 111, \"35\": 2, \"7\": 14, \"27\": 1, \"105\": 1, \"0\": 1, \"44\": 1, \"24\": 1, \"39\": 1, \"1\": 1}, \"37\": {\"37\": 16}, \"97\": {\"27\": 2, \"97\": 15, \"15\": 1, \"11\": 1, \"108\": 1}, \"57\": {\"57\": 11, \"120\": 1}, \"49\": {\"49\": 13, \"9\": 1, \"72\": 2, \"127\": 2, \"73\": 1, \"29\": 1}, \"17\": {\"17\": 13, \"86\": 1, \"73\": 1, \"129\": 1}, \"109\": {\"109\": 102, \"39\": 1, \"70\": 3}, \"80\": {\"80\": 16}, \"66\": {\"64\": 2, \"66\": 11, \"45\": 1, \"82\": 1, \"28\": 1}, \"101\": {\"101\": 118, \"71\": 2, \"12\": 1, \"70\": 1, \"127\": 1, \"106\": 1}, \"89\": {\"89\": 29, \"66\": 1, \"128\": 2, \"1\": 1, \"42\": 2, \"83\": 1}, \"31\": {\"89\": 1, \"71\": 1, \"31\": 12, \"106\": 1, \"35\": 1}, \"21\": {\"21\": 29, \"108\": 2, \"85\": 1, \"109\": 4, \"39\": 1, \"126\": 1, \"98\": 1, \"70\": 1}, \"23\": {\"23\": 8, \"7\": 1, \"70\": 1, \"94\": 3, \"69\": 1, \"8\": 1, \"44\": 1, \"122\": 1, \"12\": 2, \"15\": 1, \"16\": 1, \"84\": 2, \"11\": 1}, \"25\": {\"38\": 1, \"25\": 7, \"42\": 3, \"98\": 2, \"82\": 1, \"128\": 1, \"30\": 1}, \"107\": {\"107\": 97, \"14\": 2, \"126\": 1, \"98\": 1, \"114\": 6, \"33\": 2, \"128\": 1, \"19\": 1, \"94\": 1}, \"3\": {\"60\": 2, \"3\": 80, \"110\": 1, \"10\": 1, \"12\": 1, \"125\": 1, \"69\": 2}, \"61\": {\"61\": 9, \"90\": 2, \"79\": 1}, \"117\": {\"117\": 125, \"126\": 1}, \"119\": {\"116\": 1, \"120\": 1, \"119\": 10, \"61\": 1, \"104\": 1, \"40\": 1, \"80\": 1}, \"58\": {\"58\": 12}, \"47\": {\"47\": 8, \"71\": 1, \"31\": 2, \"89\": 1}, \"116\": {\"116\": 29, \"22\": 1, \"124\": 1, \"119\": 1}, \"18\": {\"18\": 118, \"16\": 3, \"108\": 1, \"109\": 1, \"69\": 1}, \"36\": {\"36\": 115, \"109\": 1, \"15\": 1, \"39\": 1, \"97\": 2, \"94\": 1, \"10\": 1}, \"108\": {\"108\": 94, \"88\": 6, \"126\": 4, \"10\": 1, \"36\": 2, \"11\": 1, \"24\": 2, \"70\": 2}, \"15\": {\"15\": 96, \"94\": 4, \"36\": 3, \"11\": 1}, \"8\": {\"8\": 108, \"93\": 5, \"87\": 1}, \"35\": {\"35\": 12}}, \"Wisig_2\": {\"3\": {\"3\": 115, \"114\": 1, \"71\": 2, \"127\": 1, \"105\": 1, \"1\": 6, \"39\": 4, \"7\": 1, \"70\": 1}, \"127\": {\"127\": 115, \"21\": 1, \"12\": 2, \"105\": 2}, \"58\": {\"58\": 19, \"52\": 1}, \"114\": {\"14\": 2, \"114\": 98, \"32\": 1, \"1\": 1, \"3\": 1, \"40\": 1, \"71\": 5, \"118\": 1, \"33\": 2}, \"111\": {\"111\": 128, \"5\": 5, \"98\": 2, \"124\": 7, \"15\": 1, \"109\": 1}, \"105\": {\"105\": 125, \"3\": 1, \"60\": 1, \"24\": 1, \"110\": 2, \"71\": 1, \"7\": 1}, \"118\": {\"21\": 1, \"118\": 64, \"24\": 2, \"36\": 1}, \"23\": {\"118\": 3, \"23\": 15, \"96\": 1, \"122\": 4, \"127\": 1, \"113\": 3, \"93\": 3, \"110\": 2, \"69\": 1, \"18\": 1, \"26\": 4, \"8\": 1, \"12\": 1, \"84\": 1, \"3\": 1, \"43\": 1, \"0\": 1}, \"21\": {\"21\": 42, \"70\": 1, \"78\": 2, \"24\": 3}, \"20\": {\"20\": 11, \"99\": 2, \"21\": 1, \"1\": 2}, \"75\": {\"75\": 11, \"98\": 1, \"9\": 2, \"41\": 1, \"85\": 1}, \"86\": {\"86\": 32}, \"60\": {\"60\": 24, \"88\": 1, \"96\": 1, \"36\": 1, \"93\": 1}, \"69\": {\"69\": 109, \"3\": 3, \"72\": 3, \"62\": 3, \"18\": 1, \"40\": 2, \"39\": 3, \"109\": 2, \"114\": 1, \"88\": 2, \"8\": 2, \"70\": 2, \"33\": 3, \"1\": 1, \"44\": 2, \"26\": 1}, \"99\": {\"20\": 1, \"99\": 29, \"78\": 1, \"3\": 1}, \"14\": {\"14\": 23, \"107\": 3, \"3\": 2, \"93\": 1, \"100\": 1, \"43\": 2, \"1\": 5, \"71\": 1, \"84\": 1, \"70\": 1, \"40\": 2, \"78\": 1, \"88\": 2, \"62\": 1, \"126\": 1, \"21\": 1}, \"25\": {\"25\": 16}, \"52\": {\"25\": 2, \"9\": 1, \"104\": 1, \"52\": 12, \"124\": 1, \"75\": 2, \"68\": 1}, \"47\": {\"47\": 5, \"1\": 1, \"44\": 1, \"29\": 1, \"49\": 1, \"78\": 1, \"33\": 1, \"100\": 1}, \"48\": {\"48\": 15, \"90\": 1, \"119\": 1, \"123\": 1, \"115\": 1, \"116\": 1}, \"27\": {\"27\": 56, \"78\": 2, \"109\": 2, \"24\": 1, \"11\": 1, \"39\": 1, \"101\": 1, \"70\": 1, \"88\": 1, \"36\": 1, \"126\": 1}, \"78\": {\"78\": 41, \"109\": 1, \"88\": 2, \"87\": 1, \"126\": 1, \"70\": 2}, \"8\": {\"30\": 11, \"8\": 102, \"11\": 2, \"6\": 1, \"16\": 1, \"108\": 3, \"122\": 2}, \"90\": {\"90\": 155, \"126\": 1, \"5\": 1, \"117\": 2, \"82\": 1}, \"103\": {\"103\": 11, \"52\": 1, \"112\": 1, \"68\": 1, \"77\": 1, \"123\": 1}, \"120\": {\"120\": 19, \"57\": 1}, \"96\": {\"96\": 11, \"93\": 5, \"26\": 1, \"84\": 2, \"3\": 1}, \"30\": {\"30\": 89, \"8\": 5, \"108\": 2, \"43\": 2, \"90\": 1, \"0\": 4, \"11\": 1}, \"33\": {\"33\": 146}, \"35\": {\"35\": 12}, \"108\": {\"108\": 111, \"10\": 2, \"30\": 1, \"126\": 1, \"43\": 1}, \"112\": {\"54\": 1, \"112\": 10, \"64\": 1, \"98\": 1, \"124\": 1, \"103\": 1, \"104\": 1}, \"40\": {\"40\": 70, \"61\": 2, \"44\": 3, \"49\": 1, \"71\": 4, \"53\": 1, \"62\": 12, \"21\": 1, \"33\": 6, \"88\": 2, \"14\": 4, \"3\": 10, \"1\": 3, \"24\": 1, \"39\": 1, \"69\": 4, \"114\": 3, \"70\": 2, \"95\": 4, \"84\": 2, \"7\": 1, \"109\": 1, \"127\": 1, \"43\": 1}, \"102\": {\"102\": 113, \"88\": 1, \"24\": 2}, \"56\": {\"56\": 12}, \"93\": {\"93\": 118, \"96\": 2, \"16\": 13, \"90\": 1, \"39\": 1, \"69\": 1}, \"68\": {\"68\": 12, \"59\": 1, \"42\": 2, \"88\": 1}, \"70\": {\"70\": 98, \"126\": 10, \"109\": 7, \"88\": 4, \"101\": 1, \"78\": 2, \"87\": 2}, \"7\": {\"7\": 112, \"105\": 7, \"62\": 2, \"109\": 1, \"71\": 2}, \"87\": {\"87\": 95, \"109\": 2, \"10\": 4, \"43\": 6, \"0\": 1, \"126\": 1, \"39\": 2, \"36\": 1}, \"54\": {\"68\": 1, \"54\": 13, \"128\": 2, \"34\": 1, \"61\": 1, \"95\": 2}, \"71\": {\"71\": 75, \"3\": 6, \"62\": 1, \"84\": 1, \"1\": 8, \"88\": 1, \"101\": 1, \"8\": 1, \"14\": 4, \"21\": 1, \"39\": 1}, \"80\": {\"80\": 16}, \"18\": {\"18\": 112, \"72\": 2, \"69\": 6, \"33\": 1, \"39\": 1}, \"101\": {\"101\": 109, \"78\": 1, \"106\": 4, \"7\": 2, \"105\": 2, \"0\": 2, \"127\": 2}, \"92\": {\"92\": 20, \"10\": 1, \"82\": 2, \"98\": 1, \"29\": 1, \"49\": 1, \"73\": 2}, \"32\": {\"128\": 1, \"32\": 25, \"61\": 2, \"33\": 2, \"107\": 4, \"74\": 1, \"4\": 1}, \"128\": {\"51\": 3, \"128\": 10, \"107\": 5, \"114\": 1, \"56\": 1, \"53\": 1, \"33\": 1, \"32\": 2}, \"6\": {\"6\": 27, \"41\": 1, \"79\": 1, \"103\": 1, \"22\": 2}, \"51\": {\"51\": 7, \"101\": 1, \"105\": 1, \"54\": 1, \"52\": 1, \"58\": 1, \"32\": 1, \"64\": 1, \"127\": 2, \"9\": 1, \"103\": 1, \"27\": 1, \"62\": 1}, \"85\": {\"92\": 3, \"68\": 2, \"77\": 1, \"85\": 16, \"110\": 1, \"34\": 2, \"23\": 1, \"103\": 2, \"45\": 2, \"32\": 1, \"98\": 1}, \"46\": {\"85\": 2, \"46\": 9, \"119\": 1, \"89\": 4}, \"22\": {\"22\": 17, \"67\": 1, \"80\": 1, \"5\": 1}, \"1\": {\"1\": 101, \"14\": 2, \"78\": 2, \"109\": 2, \"3\": 9, \"71\": 1, \"7\": 2, \"126\": 1, \"44\": 1, \"84\": 1}, \"37\": {\"129\": 2, \"37\": 11, \"64\": 1, \"5\": 1, \"73\": 1}, \"44\": {\"44\": 90, \"82\": 1, \"70\": 1, \"84\": 1, \"69\": 2, \"24\": 1, \"114\": 2, \"32\": 1, \"118\": 1}, \"24\": {\"24\": 102, \"39\": 3, \"126\": 1, \"21\": 2, \"27\": 2, \"70\": 1, \"88\": 1}, \"9\": {\"9\": 31, \"114\": 1}, \"116\": {\"116\": 19, \"22\": 2, \"65\": 2, \"102\": 1, \"48\": 1, \"126\": 1, \"66\": 1, \"119\": 1}, \"64\": {\"112\": 1, \"47\": 1, \"64\": 10, \"66\": 1, \"56\": 1, \"123\": 2}, \"129\": {\"37\": 2, \"129\": 19, \"22\": 1, \"5\": 4, \"68\": 1, \"123\": 2, \"124\": 2, \"73\": 1}, \"42\": {\"129\": 2, \"42\": 12, \"98\": 1, \"37\": 1, \"70\": 1, \"116\": 1, \"90\": 1, \"73\": 1, \"118\": 1, \"5\": 2, \"25\": 1, \"123\": 1, \"36\": 1, \"58\": 1, \"124\": 1}, \"117\": {\"117\": 116, \"102\": 3, \"108\": 1}, \"88\": {\"88\": 104, \"70\": 7, \"126\": 4, \"24\": 3, \"109\": 4, \"10\": 1, \"39\": 1}, \"31\": {\"76\": 2, \"31\": 16, \"61\": 2}, \"113\": {\"113\": 69, \"118\": 2, \"92\": 1}, \"38\": {\"38\": 16}, \"83\": {\"69\": 1, \"29\": 1, \"83\": 35, \"33\": 1, \"98\": 1, \"42\": 1}, \"49\": {\"101\": 2, \"49\": 10, \"127\": 3, \"51\": 2, \"44\": 2, \"128\": 2, \"95\": 1, \"39\": 1, \"14\": 1}, \"97\": {\"97\": 9, \"15\": 3, \"0\": 4, \"91\": 1, \"28\": 1, \"108\": 1, \"16\": 1}, \"76\": {\"76\": 10, \"56\": 1, \"64\": 1, \"128\": 1, \"53\": 1, \"82\": 2}, \"29\": {\"29\": 29, \"28\": 1, \"77\": 1, \"85\": 1}, \"61\": {\"76\": 2, \"98\": 1, \"61\": 9, \"28\": 1, \"44\": 2, \"14\": 1, \"5\": 1, \"124\": 1, \"107\": 1, \"82\": 1}, \"125\": {\"125\": 145, \"121\": 1, \"79\": 2}, \"126\": {\"126\": 113, \"70\": 3, \"109\": 2, \"39\": 2}, \"55\": {\"55\": 15, \"74\": 1}, \"0\": {\"97\": 3, \"0\": 91, \"27\": 1, \"122\": 2, \"30\": 2, \"8\": 1, \"12\": 2, \"109\": 1, \"23\": 2, \"21\": 1, \"33\": 1, \"93\": 1}, \"15\": {\"15\": 102, \"27\": 1, \"94\": 3, \"24\": 1, \"10\": 1, \"88\": 1, \"30\": 4, \"106\": 2, \"8\": 2, \"36\": 1, \"0\": 2}, \"26\": {\"26\": 119, \"62\": 2, \"24\": 1, \"18\": 2, \"109\": 2, \"10\": 1, \"122\": 1, \"93\": 3, \"16\": 2, \"70\": 1, \"84\": 3, \"78\": 1}, \"63\": {\"63\": 18, \"89\": 2}, \"57\": {\"63\": 1, \"57\": 14, \"81\": 1, \"119\": 1, \"120\": 1, \"90\": 2}, \"39\": {\"39\": 93, \"27\": 1, \"109\": 8, \"122\": 2, \"70\": 2, \"88\": 4, \"126\": 2}, \"62\": {\"62\": 115, \"1\": 4, \"24\": 2, \"105\": 3, \"71\": 1, \"7\": 3, \"40\": 3, \"69\": 1, \"36\": 1, \"14\": 3, \"84\": 2, \"88\": 1, \"108\": 1}, \"82\": {\"46\": 2, \"82\": 24, \"45\": 2, \"119\": 1, \"21\": 1, \"90\": 1, \"19\": 1, \"89\": 1, \"126\": 1, \"107\": 1, \"23\": 1}, \"11\": {\"11\": 74, \"24\": 1, \"122\": 2, \"39\": 1, \"8\": 2}, \"4\": {\"4\": 87, \"126\": 1}, \"41\": {\"41\": 12, \"116\": 1, \"67\": 2, \"115\": 1, \"91\": 1, \"22\": 1, \"50\": 1, \"5\": 1}, \"72\": {\"72\": 20, \"69\": 4, \"26\": 1, \"40\": 1, \"87\": 1, \"62\": 1}, \"16\": {\"16\": 101, \"24\": 1, \"3\": 1, \"93\": 17, \"113\": 1, \"39\": 1, \"7\": 1, \"78\": 1}, \"81\": {\"81\": 19, \"116\": 1, \"14\": 1, \"31\": 1, \"92\": 1, \"73\": 1}, \"67\": {\"129\": 1, \"22\": 2, \"67\": 6, \"102\": 2, \"5\": 1, \"76\": 1, \"37\": 1, \"41\": 2}, \"123\": {\"123\": 9, \"129\": 1, \"28\": 1, \"5\": 1, \"98\": 1, \"83\": 1, \"46\": 2}, \"66\": {\"66\": 9, \"46\": 1, \"68\": 1, \"64\": 2, \"28\": 1, \"86\": 1, \"98\": 4, \"19\": 1}, \"36\": {\"36\": 116, \"78\": 2, \"70\": 1, \"94\": 1, \"39\": 1, \"126\": 2, \"108\": 1, \"21\": 1, \"27\": 2, \"43\": 1}, \"115\": {\"115\": 11, \"21\": 1}, \"77\": {\"77\": 11, \"85\": 2, \"103\": 1, \"123\": 1, \"19\": 1}, \"119\": {\"119\": 14, \"48\": 2, \"42\": 1, \"121\": 1, \"116\": 1, \"90\": 1}, \"65\": {\"48\": 2, \"65\": 17, \"126\": 1}, \"34\": {\"114\": 2, \"98\": 2, \"34\": 21, \"32\": 1, \"74\": 1, \"107\": 2, \"83\": 1, \"40\": 1, \"85\": 1}, \"107\": {\"34\": 3, \"107\": 51, \"10\": 2, \"32\": 3, \"114\": 2, \"28\": 1, \"70\": 1, \"58\": 1}, \"13\": {\"13\": 15, \"117\": 1}, \"110\": {\"111\": 1, \"110\": 25, \"40\": 1, \"102\": 1, \"12\": 3, \"122\": 2, \"16\": 4, \"126\": 1, \"7\": 2}, \"106\": {\"106\": 104, \"0\": 3, \"101\": 5, \"109\": 1, \"102\": 1, \"39\": 2, \"122\": 2}, \"89\": {\"89\": 32, \"38\": 1, \"110\": 1, \"82\": 2}, \"94\": {\"0\": 5, \"94\": 42, \"122\": 2, \"8\": 1, \"87\": 1, \"11\": 1, \"109\": 1, \"88\": 3, \"15\": 3, \"21\": 1, \"91\": 1, \"126\": 1, \"36\": 2}, \"98\": {\"98\": 100, \"83\": 2, \"92\": 1, \"111\": 1, \"122\": 1, \"124\": 4, \"44\": 1, \"21\": 1, \"100\": 1}, \"91\": {\"98\": 1, \"91\": 17, \"103\": 2, \"37\": 1, \"129\": 1, \"19\": 1, \"42\": 2, \"5\": 1, \"68\": 1, \"17\": 1}, \"84\": {\"84\": 77, \"40\": 2, \"105\": 2, \"62\": 3, \"1\": 3, \"7\": 2, \"87\": 1, \"3\": 2}, \"73\": {\"103\": 1, \"73\": 19, \"44\": 1, \"92\": 2, \"54\": 1, \"85\": 2, \"82\": 2}, \"104\": {\"37\": 3, \"8\": 1, \"119\": 1, \"104\": 8, \"80\": 1, \"118\": 1, \"67\": 2, \"126\": 1, \"5\": 2}, \"59\": {\"59\": 10, \"52\": 1, \"41\": 3, \"6\": 2}, \"74\": {\"74\": 8, \"73\": 1, \"5\": 1, \"95\": 2, \"40\": 1, \"32\": 2, \"34\": 1}, \"28\": {\"28\": 17, \"87\": 1, \"82\": 2}, \"95\": {\"95\": 25, \"108\": 1, \"40\": 5, \"32\": 1, \"83\": 1, \"23\": 1, \"74\": 1, \"71\": 1}, \"2\": {\"2\": 28, \"90\": 2, \"99\": 1, \"117\": 1}, \"5\": {\"5\": 100, \"123\": 1, \"129\": 3, \"111\": 2, \"10\": 1, \"91\": 1, \"124\": 2, \"70\": 1, \"39\": 1}, \"50\": {\"98\": 1, \"5\": 1, \"66\": 1, \"70\": 1, \"50\": 7, \"41\": 2, \"112\": 1, \"22\": 1, \"64\": 1}, \"109\": {\"109\": 84, \"6\": 1, \"88\": 4, \"111\": 1, \"24\": 1, \"70\": 5, \"39\": 3, \"5\": 1}, \"10\": {\"10\": 48, \"108\": 2, \"12\": 1, \"88\": 3, \"43\": 1, \"70\": 1, \"21\": 1, \"105\": 1, \"126\": 2}, \"45\": {\"45\": 12, \"87\": 1, \"85\": 1, \"50\": 1, \"21\": 1}, \"121\": {\"121\": 30, \"92\": 2, \"120\": 3, \"73\": 1}, \"124\": {\"124\": 102, \"85\": 1, \"91\": 2, \"111\": 4, \"129\": 1}, \"53\": {\"110\": 1, \"53\": 7, \"107\": 2, \"14\": 2, \"128\": 1, \"67\": 1, \"126\": 1, \"83\": 1}, \"79\": {\"79\": 16}, \"43\": {\"43\": 101, \"109\": 1, \"108\": 2, \"122\": 2, \"87\": 4, \"11\": 1, \"39\": 1, \"101\": 1, \"24\": 1}, \"122\": {\"122\": 111, \"88\": 3, \"118\": 1, \"11\": 7, \"70\": 1, \"8\": 5, \"43\": 4, \"39\": 1, \"108\": 1, \"30\": 1, \"15\": 2, \"16\": 1}, \"100\": {\"100\": 6, \"82\": 1, \"1\": 3, \"62\": 1, \"40\": 1, \"95\": 2, \"47\": 1, \"19\": 1}, \"19\": {\"107\": 3, \"19\": 20, \"44\": 4, \"100\": 1}, \"12\": {\"12\": 74, \"106\": 4, \"88\": 2, \"0\": 2, \"127\": 2, \"109\": 1, \"105\": 2, \"70\": 1}, \"17\": {\"17\": 10, \"86\": 1, \"102\": 1, \"24\": 1, \"22\": 1, \"79\": 2}}, \"Wisig_3\": {\"38\": {\"38\": 15, \"72\": 1}, \"88\": {\"88\": 102, \"70\": 8, \"21\": 1, \"36\": 1}, \"104\": {\"22\": 3, \"50\": 1, \"104\": 10, \"129\": 2}, \"11\": {\"11\": 133, \"109\": 4, \"93\": 1, \"126\": 1, \"118\": 1}, \"103\": {\"103\": 7, \"90\": 1, \"22\": 1, \"59\": 2, \"55\": 1, \"115\": 1, \"5\": 1, \"45\": 2}, \"124\": {\"124\": 111, \"111\": 4, \"90\": 1}, \"3\": {\"3\": 97, \"43\": 1, \"1\": 1, \"71\": 5, \"24\": 1, \"27\": 1, \"105\": 7, \"114\": 2, \"36\": 1}, \"74\": {\"74\": 5, \"38\": 3, \"128\": 2, \"107\": 1, \"100\": 2, \"25\": 1, \"57\": 2}, \"126\": {\"126\": 122}, \"123\": {\"123\": 16}, \"51\": {\"51\": 13, \"38\": 1, \"127\": 1, \"106\": 1}, \"14\": {\"14\": 72, \"33\": 1, \"114\": 2, \"84\": 1, \"30\": 2, \"69\": 1, \"62\": 1}, \"16\": {\"16\": 109, \"93\": 3, \"11\": 1, \"118\": 1, \"36\": 1, \"84\": 1}, \"22\": {\"22\": 15, \"116\": 1}, \"109\": {\"109\": 116, \"43\": 2, \"126\": 1, \"11\": 2, \"113\": 1}, \"27\": {\"27\": 78, \"70\": 2, \"24\": 4, \"36\": 7, \"30\": 2, \"10\": 2, \"113\": 1}, \"75\": {\"75\": 11, \"72\": 2, \"9\": 1, \"78\": 1, \"73\": 1}, \"66\": {\"66\": 9, \"28\": 1, \"77\": 2, \"85\": 1, \"98\": 1, \"55\": 1, \"65\": 1}, \"48\": {\"115\": 2, \"104\": 1, \"86\": 2, \"48\": 8, \"68\": 1, \"116\": 2}, \"6\": {\"6\": 25, \"98\": 1, \"37\": 2, \"111\": 2, \"59\": 1, \"104\": 1}, \"10\": {\"10\": 107, \"108\": 3, \"109\": 1, \"126\": 1}, \"99\": {\"99\": 20, \"28\": 1, \"97\": 1, \"107\": 4, \"19\": 1, \"105\": 3, \"34\": 2, \"72\": 1, \"32\": 1, \"44\": 1, \"9\": 1}, \"50\": {\"115\": 1, \"66\": 2, \"50\": 3, \"29\": 1, \"48\": 1, \"90\": 1, \"116\": 1, \"59\": 1, \"37\": 1, \"95\": 2, \"82\": 2}, \"54\": {\"54\": 16}, \"55\": {\"66\": 2, \"55\": 12, \"100\": 1, \"128\": 1}, \"53\": {\"53\": 15, \"107\": 2, \"20\": 3}, \"72\": {\"72\": 19, \"3\": 2, \"46\": 2, \"105\": 1, \"101\": 1, \"47\": 1, \"75\": 2}, \"64\": {\"64\": 17, \"61\": 1, \"89\": 1, \"120\": 1}, \"115\": {\"126\": 1, \"115\": 12, \"48\": 1, \"129\": 2}, \"23\": {\"126\": 2, \"23\": 12, \"43\": 1, \"0\": 2, \"26\": 2, \"93\": 2, \"110\": 1, \"84\": 1, \"8\": 2, \"87\": 1, \"15\": 1, \"94\": 3, \"12\": 1, \"18\": 1}, \"32\": {\"57\": 3, \"32\": 19, \"128\": 1, \"107\": 1, \"9\": 1, \"19\": 4, \"98\": 2, \"76\": 1}, \"15\": {\"15\": 98, \"94\": 3, \"109\": 1, \"113\": 1, \"39\": 1}, \"43\": {\"43\": 49, \"109\": 4, \"21\": 1, \"118\": 2}, \"114\": {\"114\": 111, \"107\": 2, \"70\": 1, \"109\": 1, \"98\": 1, \"3\": 6, \"105\": 1, \"40\": 1}, \"121\": {\"64\": 1, \"121\": 31}, \"79\": {\"90\": 1, \"79\": 11}, \"81\": {\"81\": 27, \"67\": 1, \"26\": 1, \"64\": 1, \"61\": 1, \"69\": 1}, \"8\": {\"8\": 108, \"15\": 7, \"0\": 3, \"110\": 2, \"94\": 3, \"30\": 3, \"108\": 2}, \"13\": {\"13\": 8, \"79\": 1, \"115\": 1, \"2\": 1, \"67\": 2, \"102\": 1, \"63\": 1, \"113\": 1}, \"90\": {\"90\": 149, \"107\": 1, \"82\": 1, \"29\": 4, \"89\": 1}, \"41\": {\"79\": 1, \"57\": 1, \"41\": 12, \"5\": 1, \"66\": 1}, \"107\": {\"38\": 2, \"107\": 125, \"44\": 5, \"40\": 2, \"105\": 1, \"114\": 1}, \"57\": {\"57\": 14, \"76\": 2, \"104\": 1, \"100\": 1, \"50\": 1, \"5\": 1}, \"33\": {\"33\": 109, \"31\": 1, \"69\": 4, \"40\": 2, \"92\": 2, \"1\": 2}, \"35\": {\"35\": 11, \"34\": 1}, \"29\": {\"29\": 31, \"90\": 1}, \"70\": {\"70\": 65, \"88\": 3, \"10\": 2, \"39\": 1, \"126\": 1}, \"42\": {\"43\": 1, \"42\": 16, \"38\": 1, \"25\": 1, \"90\": 1, \"52\": 1, \"124\": 2, \"58\": 2, \"118\": 1, \"46\": 1, \"66\": 1}, \"93\": {\"93\": 122, \"16\": 4}, \"86\": {\"86\": 26, \"22\": 2}, \"28\": {\"28\": 12, \"34\": 2, \"31\": 2}, \"1\": {\"1\": 86, \"3\": 6, \"114\": 3, \"71\": 5, \"14\": 3, \"10\": 1, \"101\": 1, \"127\": 1, \"40\": 1, \"7\": 1}, \"125\": {\"125\": 121, \"5\": 1, \"107\": 1, \"90\": 1}, \"69\": {\"69\": 79, \"93\": 1, \"113\": 1, \"118\": 1, \"107\": 2}, \"97\": {\"97\": 15, \"0\": 2, \"94\": 2, \"35\": 1}, \"117\": {\"117\": 108, \"2\": 4}, \"68\": {\"68\": 16}, \"30\": {\"43\": 1, \"30\": 71, \"122\": 1, \"10\": 1, \"8\": 3, \"36\": 2, \"39\": 1, \"109\": 1, \"15\": 2, \"70\": 1}, \"111\": {\"68\": 1, \"111\": 120, \"124\": 10, \"5\": 1}, \"47\": {\"47\": 12}, \"102\": {\"102\": 124}, \"65\": {\"65\": 11, \"66\": 1}, \"113\": {\"113\": 111, \"87\": 2, \"101\": 1, \"118\": 2, \"43\": 1, \"60\": 1, \"73\": 1, \"109\": 1}, \"36\": {\"36\": 106, \"27\": 7, \"126\": 1}, \"119\": {\"119\": 10, \"102\": 1, \"79\": 1, \"80\": 1, \"116\": 2, \"100\": 1}, \"46\": {\"46\": 9, \"103\": 1, \"9\": 1, \"19\": 2, \"107\": 1, \"98\": 2}, \"49\": {\"23\": 2, \"49\": 9, \"101\": 1, \"16\": 3, \"12\": 3, \"94\": 1, \"0\": 1, \"95\": 1, \"72\": 1, \"124\": 1, \"84\": 1}, \"0\": {\"0\": 110, \"15\": 1, \"113\": 1, \"8\": 3, \"94\": 1}, \"58\": {\"58\": 9, \"101\": 2, \"42\": 2, \"13\": 1, \"52\": 1, \"83\": 1}, \"63\": {\"63\": 16}, \"94\": {\"0\": 5, \"94\": 75, \"60\": 1, \"15\": 1, \"97\": 2}, \"17\": {\"22\": 1, \"94\": 2, \"39\": 2, \"109\": 1, \"79\": 1, \"70\": 1, \"86\": 2, \"17\": 1, \"67\": 1, \"108\": 2, \"126\": 2}, \"9\": {\"38\": 2, \"9\": 28, \"128\": 1, \"85\": 1}, \"87\": {\"87\": 120}, \"59\": {\"59\": 11, \"30\": 1}, \"105\": {\"105\": 100, \"107\": 2, \"3\": 8, \"127\": 1, \"71\": 3, \"40\": 4, \"114\": 2}, \"80\": {\"80\": 13, \"10\": 1, \"116\": 2}, \"120\": {\"80\": 1, \"120\": 11, \"117\": 1, \"79\": 1, \"32\": 1, \"82\": 2, \"13\": 2, \"64\": 1}, \"18\": {\"33\": 4, \"18\": 125, \"128\": 1, \"39\": 1, \"90\": 1}, \"78\": {\"78\": 10, \"21\": 2, \"10\": 2, \"118\": 2}, \"25\": {\"25\": 16}, \"19\": {\"19\": 21, \"66\": 2, \"56\": 2, \"73\": 2, \"52\": 1, \"57\": 1, \"128\": 3}, \"122\": {\"122\": 47, \"39\": 1, \"87\": 7, \"110\": 1, \"118\": 2, \"11\": 1, \"113\": 1}, \"39\": {\"39\": 108}, \"76\": {\"105\": 1, \"76\": 8, \"82\": 1, \"90\": 1, \"33\": 1, \"57\": 1, \"1\": 1, \"92\": 2}, \"89\": {\"89\": 23, \"90\": 2, \"116\": 1, \"129\": 1, \"29\": 1}, \"129\": {\"129\": 28, \"91\": 2, \"5\": 2}, \"26\": {\"26\": 96, \"11\": 1, \"109\": 1, \"70\": 1, \"43\": 1}, \"85\": {\"77\": 1, \"85\": 27, \"72\": 1, \"112\": 2, \"46\": 2, \"5\": 1, \"9\": 1, \"107\": 1}, \"71\": {\"71\": 51, \"62\": 2, \"3\": 9, \"118\": 1, \"114\": 2, \"1\": 1, \"113\": 1, \"127\": 1}, \"77\": {\"77\": 15, \"91\": 1}, \"128\": {\"128\": 21, \"32\": 2, \"9\": 2, \"19\": 3, \"74\": 1, \"52\": 1, \"38\": 1, \"34\": 1}, \"2\": {\"2\": 27, \"117\": 1}, \"56\": {\"56\": 11, \"46\": 1}, \"24\": {\"24\": 41, \"36\": 2, \"27\": 5}, \"101\": {\"23\": 1, \"101\": 37, \"43\": 1, \"51\": 1, \"12\": 5, \"106\": 4, \"87\": 1, \"7\": 1, \"60\": 1}, \"52\": {\"52\": 13, \"72\": 1, \"85\": 1, \"83\": 1}, \"84\": {\"84\": 93, \"14\": 4, \"127\": 2, \"7\": 4, \"24\": 1, \"62\": 4}, \"7\": {\"7\": 107, \"24\": 1, \"36\": 1, \"110\": 1, \"62\": 2}, \"82\": {\"82\": 23, \"29\": 2, \"90\": 2, \"31\": 1}, \"60\": {\"60\": 25, \"16\": 1, \"93\": 2}, \"45\": {\"24\": 1, \"45\": 6, \"5\": 5, \"118\": 2, \"32\": 1, \"115\": 1}, \"40\": {\"40\": 77, \"114\": 1, \"127\": 7, \"84\": 2, \"105\": 4, \"1\": 7, \"14\": 3, \"107\": 14, \"71\": 1, \"44\": 1, \"69\": 1, \"3\": 5, \"62\": 1}, \"20\": {\"20\": 10, \"71\": 2, \"53\": 2, \"114\": 2}, \"4\": {\"4\": 96}, \"116\": {\"116\": 26, \"45\": 1, \"89\": 1}, \"61\": {\"61\": 16}, \"5\": {\"45\": 1, \"5\": 95, \"41\": 1, \"85\": 2, \"111\": 2, \"124\": 6, \"129\": 1, \"98\": 2, \"118\": 1, \"88\": 1}, \"106\": {\"106\": 89, \"96\": 2, \"12\": 5, \"122\": 1, \"101\": 1, \"0\": 2}, \"12\": {\"12\": 104}, \"62\": {\"62\": 111, \"84\": 3, \"14\": 2, \"127\": 1, \"16\": 1, \"11\": 1, \"113\": 1}, \"34\": {\"28\": 2, \"34\": 10, \"3\": 1, \"114\": 2, \"107\": 2, \"128\": 6, \"40\": 1, \"99\": 1, \"53\": 1, \"74\": 1, \"69\": 2, \"71\": 1, \"32\": 1, \"44\": 1}, \"91\": {\"91\": 8, \"42\": 5, \"98\": 5, \"77\": 2, \"129\": 1, \"46\": 1, \"128\": 2}, \"112\": {\"112\": 8, \"85\": 1, \"96\": 1, \"5\": 1, \"57\": 1, \"46\": 2, \"52\": 2}, \"92\": {\"92\": 27, \"82\": 2, \"28\": 2, \"64\": 1}, \"95\": {\"95\": 29, \"98\": 1, \"28\": 1, \"128\": 1}, \"96\": {\"96\": 19, \"113\": 1}, \"127\": {\"127\": 90, \"105\": 1, \"70\": 1, \"109\": 1, \"3\": 4, \"7\": 4, \"114\": 2, \"71\": 3, \"36\": 1, \"126\": 1}, \"67\": {\"67\": 14, \"116\": 1, \"36\": 1}, \"83\": {\"83\": 17, \"106\": 1, \"51\": 1, \"47\": 2, \"71\": 1, \"12\": 1, \"105\": 1}, \"21\": {\"78\": 2, \"21\": 34, \"106\": 1, \"39\": 1, \"88\": 4, \"43\": 1, \"126\": 3, \"111\": 1, \"101\": 1}, \"98\": {\"46\": 1, \"98\": 121, \"44\": 1, \"124\": 1}, \"108\": {\"108\": 126, \"39\": 1, \"30\": 1, \"27\": 2, \"10\": 1, \"126\": 1}, \"31\": {\"77\": 1, \"31\": 10, \"40\": 2, \"29\": 1, \"121\": 1, \"28\": 2, \"89\": 1, \"90\": 1, \"99\": 1}, \"118\": {\"118\": 100}, \"110\": {\"110\": 82, \"122\": 6, \"87\": 2, \"8\": 2}, \"73\": {\"49\": 1, \"73\": 34, \"128\": 1, \"105\": 1, \"34\": 2, \"75\": 1}, \"44\": {\"44\": 70, \"117\": 2}, \"37\": {\"37\": 13, \"111\": 1, \"5\": 1, \"59\": 1}, \"100\": {\"100\": 13, \"90\": 2, \"57\": 1}}}, \"per_domain_accuracy\": {\"ORACLE.run126\": {\"accuracy\": 0.7951041666666666, \"source?\": true}, \"ORACLE.run144\": {\"accuracy\": 0.8546354166666666, \"source?\": true}, \"ORACLE.run150\": {\"accuracy\": 0.91640625, \"source?\": true}, \"ORACLE.run138\": {\"accuracy\": 0.8955208333333333, \"source?\": true}, \"ORACLE.run120\": {\"accuracy\": 0.8077604166666666, \"source?\": true}, \"ORACLE.run114\": {\"accuracy\": 0.8763020833333334, \"source?\": true}, \"ORACLE.run132\": {\"accuracy\": 0.8720833333333333, \"source?\": true}, \"ORACLE.run18\": {\"accuracy\": 0.8496354166666666, \"source?\": true}, \"Wisig_4\": {\"accuracy\": 0.8378343621399177, \"source?\": false}, \"Wisig_1\": {\"accuracy\": 0.8736758474576272, \"source?\": false}, \"Wisig_2\": {\"accuracy\": 0.8311976987447699, \"source?\": false}, \"Wisig_3\": {\"accuracy\": 0.8721342794759825, \"source?\": false}}}, \"history\": {\"epoch_indices\": [1, 2, 3, 4, 5, 6], \"train_label_loss\": [0.6898989716133413, 0.4192328221242254, 0.3403716976661789, 0.3019034665906137, 0.2719320615359937, 0.24720369544362517], \"source_val_label_loss\": [2.0352563858032227, 0.3978451192378998, 0.36750999093055725, 0.3458299934864044, 0.34351059794425964, 0.32704710960388184], \"target_val_label_loss\": [331.11993408203125, 67.04187774658203, 102.6930923461914, 120.80496978759766, 144.5582275390625, 167.2078399658203], \"source_val_acc_label\": [0.7170833333333333, 0.8584309895833333, 0.8687434895833334, 0.8746354166666667, 0.8780403645833333, 0.8838736979166667], \"target_val_acc_label\": [0.7898297254487856, 0.8533856916578669, 0.8514057550158395, 0.8522967265047519, 0.8487658394931362, 0.8494918162618796]}, \"dataset_metrics\": {\"source\": {\"train\": {\"n_unique_x\": 896000, \"n_unique_y\": 16, \"n_batch/episode\": 33600}, \"val\": {\"n_unique_x\": 192000, \"n_unique_y\": 16, \"n_batch/episode\": 4800}, \"test\": {\"n_unique_x\": 192000, \"n_unique_y\": 16, \"n_batch/episode\": 4800}}, \"target\": {\"train\": {\"n_unique_x\": 189001, \"n_unique_y\": 130, \"n_batch/episode\": 6847}, \"val\": {\"n_unique_x\": 40070, \"n_unique_y\": 130, \"n_batch/episode\": 947}, \"test\": {\"n_unique_x\": 40812, \"n_unique_y\": 130, \"n_batch/episode\": 969}}}}'"
      ]
     },
     "execution_count": 29,
     "metadata": {},
     "output_type": "execute_result"
    }
   ],
   "source": [
    "json.dumps(experiment)"
   ]
  }
 ],
 "metadata": {
  "celltoolbar": "Tags",
  "kernelspec": {
   "display_name": "Python 3 (ipykernel)",
   "language": "python",
   "name": "python3"
  },
  "language_info": {
   "codemirror_mode": {
    "name": "ipython",
    "version": 3
   },
   "file_extension": ".py",
   "mimetype": "text/x-python",
   "name": "python",
   "nbconvert_exporter": "python",
   "pygments_lexer": "ipython3",
   "version": "3.8.12"
  },
  "papermill": {
   "default_parameters": {},
   "duration": 6560.556793,
   "end_time": "2022-03-24T05:56:53.077709",
   "environment_variables": {},
   "exception": null,
   "input_path": "/root/csc500-main/csc500-notebooks/templates/tl_ptn_template.ipynb",
   "output_path": "trial.ipynb",
   "parameters": {
    "parameters": {
     "BEST_MODEL_PATH": "./best_model.pth",
     "NUM_LOGS_PER_EPOCH": 10,
     "criteria_for_best": "target_accuracy",
     "dataset_seed": 7,
     "datasets": [
      {
       "domain_prefix": "Wisig_",
       "domains": [
        1,
        2,
        3,
        4
       ],
       "episode_transforms": [],
       "labels": [
        "1-10",
        "1-12",
        "1-14",
        "1-16",
        "1-18",
        "1-19",
        "1-8",
        "10-11",
        "10-17",
        "10-4",
        "10-7",
        "11-1",
        "11-10",
        "11-19",
        "11-20",
        "11-4",
        "11-7",
        "12-19",
        "12-20",
        "12-7",
        "13-14",
        "13-18",
        "13-19",
        "13-20",
        "13-3",
        "13-7",
        "14-10",
        "14-11",
        "14-12",
        "14-13",
        "14-14",
        "14-19",
        "14-20",
        "14-7",
        "14-8",
        "14-9",
        "15-1",
        "15-19",
        "15-6",
        "16-1",
        "16-16",
        "16-19",
        "16-20",
        "17-10",
        "17-11",
        "18-1",
        "18-10",
        "18-11",
        "18-12",
        "18-13",
        "18-14",
        "18-15",
        "18-16",
        "18-17",
        "18-19",
        "18-2",
        "18-20",
        "18-4",
        "18-5",
        "18-7",
        "18-8",
        "18-9",
        "19-1",
        "19-10",
        "19-11",
        "19-12",
        "19-13",
        "19-14",
        "19-15",
        "19-19",
        "19-2",
        "19-20",
        "19-3",
        "19-4",
        "19-6",
        "19-7",
        "19-8",
        "19-9",
        "2-1",
        "2-13",
        "2-15",
        "2-3",
        "2-4",
        "2-5",
        "2-6",
        "2-7",
        "2-8",
        "20-1",
        "20-12",
        "20-14",
        "20-15",
        "20-16",
        "20-18",
        "20-19",
        "20-20",
        "20-3",
        "20-4",
        "20-5",
        "20-7",
        "20-8",
        "3-1",
        "3-13",
        "3-18",
        "3-2",
        "3-8",
        "4-1",
        "4-10",
        "4-11",
        "5-1",
        "5-5",
        "6-1",
        "6-15",
        "6-6",
        "7-10",
        "7-11",
        "7-12",
        "7-13",
        "7-14",
        "7-7",
        "7-8",
        "7-9",
        "8-1",
        "8-13",
        "8-14",
        "8-18",
        "8-20",
        "8-3",
        "8-8",
        "9-1",
        "9-7"
       ],
       "num_examples_per_domain_per_label": -1,
       "pickle_path": "/root/csc500-main/datasets/wisig.node3-19.stratified_ds.2022A.pkl",
       "source_or_target_dataset": "target",
       "x_transforms": []
      },
      {
       "domain_prefix": "ORACLE.run1",
       "domains": [
        32,
        38,
        8,
        44,
        14,
        50,
        20,
        26
       ],
       "episode_transforms": [],
       "labels": [
        "3123D52",
        "3123D65",
        "3123D79",
        "3123D80",
        "3123D54",
        "3123D70",
        "3123D7B",
        "3123D89",
        "3123D58",
        "3123D76",
        "3123D7D",
        "3123EFE",
        "3123D64",
        "3123D78",
        "3123D7E",
        "3124E4A"
       ],
       "num_examples_per_domain_per_label": 10000,
       "pickle_path": "/root/csc500-main/datasets/oracle.Run1_10kExamples_stratified_ds.2022A.pkl",
       "source_or_target_dataset": "source",
       "x_transforms": []
      }
     ],
     "device": "cuda",
     "experiment_name": "tl_1v2:wisig-oracle.run1",
     "lr": 0.0001,
     "n_epoch": 50,
     "n_query": 2,
     "n_shot": 3,
     "n_way": 16,
     "patience": 3,
     "seed": 7,
     "test_k_factor": 2,
     "torch_default_dtype": "torch.float32",
     "train_k_factor": 3,
     "val_k_factor": 2,
     "x_net": [
      {
       "class": "nnReshape",
       "kargs": {
        "shape": [
         -1,
         1,
         2,
         256
        ]
       }
      },
      {
       "class": "Conv2d",
       "kargs": {
        "bias": false,
        "in_channels": 1,
        "kernel_size": [
         1,
         7
        ],
        "out_channels": 256,
        "padding": [
         0,
         3
        ]
       }
      },
      {
       "class": "ReLU",
       "kargs": {
        "inplace": true
       }
      },
      {
       "class": "BatchNorm2d",
       "kargs": {
        "num_features": 256
       }
      },
      {
       "class": "Conv2d",
       "kargs": {
        "bias": true,
        "in_channels": 256,
        "kernel_size": [
         2,
         7
        ],
        "out_channels": 80,
        "padding": [
         0,
         3
        ]
       }
      },
      {
       "class": "ReLU",
       "kargs": {
        "inplace": true
       }
      },
      {
       "class": "BatchNorm2d",
       "kargs": {
        "num_features": 80
       }
      },
      {
       "class": "Flatten",
       "kargs": {}
      },
      {
       "class": "Linear",
       "kargs": {
        "in_features": 20480,
        "out_features": 256
       }
      },
      {
       "class": "ReLU",
       "kargs": {
        "inplace": true
       }
      },
      {
       "class": "BatchNorm1d",
       "kargs": {
        "num_features": 256
       }
      },
      {
       "class": "Linear",
       "kargs": {
        "in_features": 256,
        "out_features": 256
       }
      }
     ]
    }
   },
   "start_time": "2022-03-24T04:07:32.520916",
   "version": "2.3.4"
  }
 },
 "nbformat": 4,
 "nbformat_minor": 5
}