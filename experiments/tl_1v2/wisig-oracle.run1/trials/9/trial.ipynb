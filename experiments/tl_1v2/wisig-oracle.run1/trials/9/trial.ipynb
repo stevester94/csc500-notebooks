{
 "cells": [
  {
   "cell_type": "markdown",
   "id": "9fea5f46",
   "metadata": {
    "papermill": {
     "duration": 0.032506,
     "end_time": "2022-03-23T17:05:23.292661",
     "exception": false,
     "start_time": "2022-03-23T17:05:23.260155",
     "status": "completed"
    },
    "tags": []
   },
   "source": [
    "# Transfer Learning Template"
   ]
  },
  {
   "cell_type": "code",
   "execution_count": 1,
   "id": "0902182a",
   "metadata": {
    "execution": {
     "iopub.execute_input": "2022-03-23T17:05:23.360053Z",
     "iopub.status.busy": "2022-03-23T17:05:23.347688Z",
     "iopub.status.idle": "2022-03-23T17:05:25.220278Z",
     "shell.execute_reply": "2022-03-23T17:05:25.219827Z"
    },
    "papermill": {
     "duration": 1.89997,
     "end_time": "2022-03-23T17:05:25.220390",
     "exception": false,
     "start_time": "2022-03-23T17:05:23.320420",
     "status": "completed"
    },
    "tags": []
   },
   "outputs": [],
   "source": [
    "%load_ext autoreload\n",
    "%autoreload 2\n",
    "%matplotlib inline\n",
    "\n",
    "    \n",
    "import os, json, sys, time, random\n",
    "import numpy as np\n",
    "import torch\n",
    "from torch.optim import Adam\n",
    "from  easydict import EasyDict\n",
    "import matplotlib.pyplot as plt\n",
    "\n",
    "from steves_models.steves_ptn import Steves_Prototypical_Network\n",
    "\n",
    "from steves_utils.lazy_iterable_wrapper import Lazy_Iterable_Wrapper\n",
    "from steves_utils.iterable_aggregator import Iterable_Aggregator\n",
    "from steves_utils.ptn_train_eval_test_jig import  PTN_Train_Eval_Test_Jig\n",
    "from steves_utils.torch_sequential_builder import build_sequential\n",
    "from steves_utils.torch_utils import get_dataset_metrics, ptn_confusion_by_domain_over_dataloader\n",
    "from steves_utils.utils_v2 import (per_domain_accuracy_from_confusion, get_datasets_base_path)\n",
    "from steves_utils.PTN.utils import independent_accuracy_assesment\n",
    "\n",
    "from torch.utils.data import DataLoader\n",
    "\n",
    "from steves_utils.stratified_dataset.episodic_accessor import Episodic_Accessor_Factory\n",
    "\n",
    "from steves_utils.ptn_do_report import (\n",
    "    get_loss_curve,\n",
    "    get_results_table,\n",
    "    get_parameters_table,\n",
    "    get_domain_accuracies,\n",
    ")\n",
    "\n",
    "from steves_utils.transforms import get_chained_transform"
   ]
  },
  {
   "cell_type": "markdown",
   "id": "41c840b4",
   "metadata": {
    "papermill": {
     "duration": 0.01854,
     "end_time": "2022-03-23T17:05:25.258823",
     "exception": false,
     "start_time": "2022-03-23T17:05:25.240283",
     "status": "completed"
    },
    "tags": []
   },
   "source": [
    "# Allowed Parameters\n",
    "These are allowed parameters, not defaults\n",
    "Each of these values need to be present in the injected parameters (the notebook will raise an exception if they are not present)\n",
    "\n",
    "Papermill uses the cell tag \"parameters\" to inject the real parameters below this cell.\n",
    "Enable tags to see what I mean"
   ]
  },
  {
   "cell_type": "code",
   "execution_count": 2,
   "id": "fd44eb83",
   "metadata": {
    "execution": {
     "iopub.execute_input": "2022-03-23T17:05:25.300153Z",
     "iopub.status.busy": "2022-03-23T17:05:25.299278Z",
     "iopub.status.idle": "2022-03-23T17:05:25.318030Z",
     "shell.execute_reply": "2022-03-23T17:05:25.317650Z"
    },
    "papermill": {
     "duration": 0.040845,
     "end_time": "2022-03-23T17:05:25.318109",
     "exception": false,
     "start_time": "2022-03-23T17:05:25.277264",
     "status": "completed"
    },
    "tags": []
   },
   "outputs": [],
   "source": [
    "required_parameters = {\n",
    "    \"experiment_name\",\n",
    "    \"lr\",\n",
    "    \"device\",\n",
    "    \"seed\",\n",
    "    \"dataset_seed\",\n",
    "    \"n_shot\",\n",
    "    \"n_query\",\n",
    "    \"n_way\",\n",
    "    \"train_k_factor\",\n",
    "    \"val_k_factor\",\n",
    "    \"test_k_factor\",\n",
    "    \"n_epoch\",\n",
    "    \"patience\",\n",
    "    \"criteria_for_best\",\n",
    "    \"x_net\",\n",
    "    \"datasets\",\n",
    "    \"torch_default_dtype\",\n",
    "    \"NUM_LOGS_PER_EPOCH\",\n",
    "    \"BEST_MODEL_PATH\",\n",
    "    \"x_shape\",\n",
    "}"
   ]
  },
  {
   "cell_type": "code",
   "execution_count": 3,
   "id": "fa3f0049",
   "metadata": {
    "execution": {
     "iopub.execute_input": "2022-03-23T17:05:25.364931Z",
     "iopub.status.busy": "2022-03-23T17:05:25.357411Z",
     "iopub.status.idle": "2022-03-23T17:05:25.383940Z",
     "shell.execute_reply": "2022-03-23T17:05:25.383559Z"
    },
    "papermill": {
     "duration": 0.047128,
     "end_time": "2022-03-23T17:05:25.384014",
     "exception": false,
     "start_time": "2022-03-23T17:05:25.336886",
     "status": "completed"
    },
    "tags": [
     "parameters"
    ]
   },
   "outputs": [],
   "source": [
    "from steves_utils.CORES.utils import (\n",
    "    ALL_NODES,\n",
    "    ALL_NODES_MINIMUM_1000_EXAMPLES,\n",
    "    ALL_DAYS\n",
    ")\n",
    "\n",
    "from steves_utils.ORACLE.utils_v2 import (\n",
    "    ALL_DISTANCES_FEET_NARROWED,\n",
    "    ALL_RUNS,\n",
    "    ALL_SERIAL_NUMBERS,\n",
    ")\n",
    "\n",
    "standalone_parameters = {}\n",
    "standalone_parameters[\"experiment_name\"] = \"STANDALONE PTN\"\n",
    "standalone_parameters[\"lr\"] = 0.001\n",
    "standalone_parameters[\"device\"] = \"cuda\"\n",
    "\n",
    "standalone_parameters[\"seed\"] = 1337\n",
    "standalone_parameters[\"dataset_seed\"] = 1337\n",
    "\n",
    "standalone_parameters[\"n_way\"] = 8\n",
    "standalone_parameters[\"n_shot\"] = 3\n",
    "standalone_parameters[\"n_query\"]  = 2\n",
    "standalone_parameters[\"train_k_factor\"] = 1\n",
    "standalone_parameters[\"val_k_factor\"] = 2\n",
    "standalone_parameters[\"test_k_factor\"] = 2\n",
    "\n",
    "\n",
    "standalone_parameters[\"n_epoch\"] = 50\n",
    "\n",
    "standalone_parameters[\"patience\"] = 10\n",
    "standalone_parameters[\"criteria_for_best\"] = \"source_loss\"\n",
    "\n",
    "standalone_parameters[\"datasets\"] = [\n",
    "    {\n",
    "        \"labels\": ALL_SERIAL_NUMBERS,\n",
    "        \"domains\": ALL_DISTANCES_FEET_NARROWED,\n",
    "        \"num_examples_per_domain_per_label\": 100,\n",
    "        \"pickle_path\": os.path.join(get_datasets_base_path(), \"oracle.Run1_framed_2000Examples_stratified_ds.2022A.pkl\"),\n",
    "        \"source_or_target_dataset\": \"source\",\n",
    "        \"x_transforms\": [\"unit_mag\", \"minus_two\"],\n",
    "        \"episode_transforms\": [],\n",
    "        \"domain_prefix\": \"ORACLE_\"\n",
    "    },\n",
    "    {\n",
    "        \"labels\": ALL_NODES,\n",
    "        \"domains\": ALL_DAYS,\n",
    "        \"num_examples_per_domain_per_label\": 100,\n",
    "        \"pickle_path\": os.path.join(get_datasets_base_path(), \"cores.stratified_ds.2022A.pkl\"),\n",
    "        \"source_or_target_dataset\": \"target\",\n",
    "        \"x_transforms\": [\"unit_power\", \"times_zero\"],\n",
    "        \"episode_transforms\": [],\n",
    "        \"domain_prefix\": \"CORES_\"\n",
    "    }   \n",
    "]\n",
    "\n",
    "standalone_parameters[\"torch_default_dtype\"] = \"torch.float32\" \n",
    "\n",
    "\n",
    "\n",
    "standalone_parameters[\"x_net\"] =     [\n",
    "    {\"class\": \"nnReshape\", \"kargs\": {\"shape\":[-1, 1, 2, 256]}},\n",
    "    {\"class\": \"Conv2d\", \"kargs\": { \"in_channels\":1, \"out_channels\":256, \"kernel_size\":(1,7), \"bias\":False, \"padding\":(0,3), },},\n",
    "    {\"class\": \"ReLU\", \"kargs\": {\"inplace\": True}},\n",
    "    {\"class\": \"BatchNorm2d\", \"kargs\": {\"num_features\":256}},\n",
    "\n",
    "    {\"class\": \"Conv2d\", \"kargs\": { \"in_channels\":256, \"out_channels\":80, \"kernel_size\":(2,7), \"bias\":True, \"padding\":(0,3), },},\n",
    "    {\"class\": \"ReLU\", \"kargs\": {\"inplace\": True}},\n",
    "    {\"class\": \"BatchNorm2d\", \"kargs\": {\"num_features\":80}},\n",
    "    {\"class\": \"Flatten\", \"kargs\": {}},\n",
    "\n",
    "    {\"class\": \"Linear\", \"kargs\": {\"in_features\": 80*256, \"out_features\": 256}}, # 80 units per IQ pair\n",
    "    {\"class\": \"ReLU\", \"kargs\": {\"inplace\": True}},\n",
    "    {\"class\": \"BatchNorm1d\", \"kargs\": {\"num_features\":256}},\n",
    "\n",
    "    {\"class\": \"Linear\", \"kargs\": {\"in_features\": 256, \"out_features\": 256}},\n",
    "]\n",
    "\n",
    "# Parameters relevant to results\n",
    "# These parameters will basically never need to change\n",
    "standalone_parameters[\"NUM_LOGS_PER_EPOCH\"] = 10\n",
    "standalone_parameters[\"BEST_MODEL_PATH\"] = \"./best_model.pth\"\n",
    "\n",
    "\n",
    "\n",
    "\n"
   ]
  },
  {
   "cell_type": "code",
   "execution_count": 4,
   "id": "3ea21a23",
   "metadata": {
    "execution": {
     "iopub.execute_input": "2022-03-23T17:05:25.434457Z",
     "iopub.status.busy": "2022-03-23T17:05:25.433971Z",
     "iopub.status.idle": "2022-03-23T17:05:25.454159Z",
     "shell.execute_reply": "2022-03-23T17:05:25.453305Z"
    },
    "papermill": {
     "duration": 0.050203,
     "end_time": "2022-03-23T17:05:25.454330",
     "exception": false,
     "start_time": "2022-03-23T17:05:25.404127",
     "status": "completed"
    },
    "tags": [
     "injected-parameters"
    ]
   },
   "outputs": [],
   "source": [
    "# Parameters\n",
    "parameters = {\n",
    "    \"experiment_name\": \"tl_1v2:wisig-oracle.run1\",\n",
    "    \"device\": \"cuda\",\n",
    "    \"lr\": 0.0001,\n",
    "    \"n_shot\": 3,\n",
    "    \"n_query\": 2,\n",
    "    \"train_k_factor\": 3,\n",
    "    \"val_k_factor\": 2,\n",
    "    \"test_k_factor\": 2,\n",
    "    \"torch_default_dtype\": \"torch.float32\",\n",
    "    \"n_epoch\": 50,\n",
    "    \"patience\": 3,\n",
    "    \"criteria_for_best\": \"target_accuracy\",\n",
    "    \"x_net\": [\n",
    "        {\"class\": \"nnReshape\", \"kargs\": {\"shape\": [-1, 1, 2, 256]}},\n",
    "        {\n",
    "            \"class\": \"Conv2d\",\n",
    "            \"kargs\": {\n",
    "                \"in_channels\": 1,\n",
    "                \"out_channels\": 256,\n",
    "                \"kernel_size\": [1, 7],\n",
    "                \"bias\": False,\n",
    "                \"padding\": [0, 3],\n",
    "            },\n",
    "        },\n",
    "        {\"class\": \"ReLU\", \"kargs\": {\"inplace\": True}},\n",
    "        {\"class\": \"BatchNorm2d\", \"kargs\": {\"num_features\": 256}},\n",
    "        {\n",
    "            \"class\": \"Conv2d\",\n",
    "            \"kargs\": {\n",
    "                \"in_channels\": 256,\n",
    "                \"out_channels\": 80,\n",
    "                \"kernel_size\": [2, 7],\n",
    "                \"bias\": True,\n",
    "                \"padding\": [0, 3],\n",
    "            },\n",
    "        },\n",
    "        {\"class\": \"ReLU\", \"kargs\": {\"inplace\": True}},\n",
    "        {\"class\": \"BatchNorm2d\", \"kargs\": {\"num_features\": 80}},\n",
    "        {\"class\": \"Flatten\", \"kargs\": {}},\n",
    "        {\"class\": \"Linear\", \"kargs\": {\"in_features\": 20480, \"out_features\": 256}},\n",
    "        {\"class\": \"ReLU\", \"kargs\": {\"inplace\": True}},\n",
    "        {\"class\": \"BatchNorm1d\", \"kargs\": {\"num_features\": 256}},\n",
    "        {\"class\": \"Linear\", \"kargs\": {\"in_features\": 256, \"out_features\": 256}},\n",
    "    ],\n",
    "    \"NUM_LOGS_PER_EPOCH\": 10,\n",
    "    \"BEST_MODEL_PATH\": \"./best_model.pth\",\n",
    "    \"n_way\": 16,\n",
    "    \"datasets\": [\n",
    "        {\n",
    "            \"labels\": [\n",
    "                \"1-10\",\n",
    "                \"1-12\",\n",
    "                \"1-14\",\n",
    "                \"1-16\",\n",
    "                \"1-18\",\n",
    "                \"1-19\",\n",
    "                \"1-8\",\n",
    "                \"10-11\",\n",
    "                \"10-17\",\n",
    "                \"10-4\",\n",
    "                \"10-7\",\n",
    "                \"11-1\",\n",
    "                \"11-10\",\n",
    "                \"11-19\",\n",
    "                \"11-20\",\n",
    "                \"11-4\",\n",
    "                \"11-7\",\n",
    "                \"12-19\",\n",
    "                \"12-20\",\n",
    "                \"12-7\",\n",
    "                \"13-14\",\n",
    "                \"13-18\",\n",
    "                \"13-19\",\n",
    "                \"13-20\",\n",
    "                \"13-3\",\n",
    "                \"13-7\",\n",
    "                \"14-10\",\n",
    "                \"14-11\",\n",
    "                \"14-12\",\n",
    "                \"14-13\",\n",
    "                \"14-14\",\n",
    "                \"14-19\",\n",
    "                \"14-20\",\n",
    "                \"14-7\",\n",
    "                \"14-8\",\n",
    "                \"14-9\",\n",
    "                \"15-1\",\n",
    "                \"15-19\",\n",
    "                \"15-6\",\n",
    "                \"16-1\",\n",
    "                \"16-16\",\n",
    "                \"16-19\",\n",
    "                \"16-20\",\n",
    "                \"17-10\",\n",
    "                \"17-11\",\n",
    "                \"18-1\",\n",
    "                \"18-10\",\n",
    "                \"18-11\",\n",
    "                \"18-12\",\n",
    "                \"18-13\",\n",
    "                \"18-14\",\n",
    "                \"18-15\",\n",
    "                \"18-16\",\n",
    "                \"18-17\",\n",
    "                \"18-19\",\n",
    "                \"18-2\",\n",
    "                \"18-20\",\n",
    "                \"18-4\",\n",
    "                \"18-5\",\n",
    "                \"18-7\",\n",
    "                \"18-8\",\n",
    "                \"18-9\",\n",
    "                \"19-1\",\n",
    "                \"19-10\",\n",
    "                \"19-11\",\n",
    "                \"19-12\",\n",
    "                \"19-13\",\n",
    "                \"19-14\",\n",
    "                \"19-15\",\n",
    "                \"19-19\",\n",
    "                \"19-2\",\n",
    "                \"19-20\",\n",
    "                \"19-3\",\n",
    "                \"19-4\",\n",
    "                \"19-6\",\n",
    "                \"19-7\",\n",
    "                \"19-8\",\n",
    "                \"19-9\",\n",
    "                \"2-1\",\n",
    "                \"2-13\",\n",
    "                \"2-15\",\n",
    "                \"2-3\",\n",
    "                \"2-4\",\n",
    "                \"2-5\",\n",
    "                \"2-6\",\n",
    "                \"2-7\",\n",
    "                \"2-8\",\n",
    "                \"20-1\",\n",
    "                \"20-12\",\n",
    "                \"20-14\",\n",
    "                \"20-15\",\n",
    "                \"20-16\",\n",
    "                \"20-18\",\n",
    "                \"20-19\",\n",
    "                \"20-20\",\n",
    "                \"20-3\",\n",
    "                \"20-4\",\n",
    "                \"20-5\",\n",
    "                \"20-7\",\n",
    "                \"20-8\",\n",
    "                \"3-1\",\n",
    "                \"3-13\",\n",
    "                \"3-18\",\n",
    "                \"3-2\",\n",
    "                \"3-8\",\n",
    "                \"4-1\",\n",
    "                \"4-10\",\n",
    "                \"4-11\",\n",
    "                \"5-1\",\n",
    "                \"5-5\",\n",
    "                \"6-1\",\n",
    "                \"6-15\",\n",
    "                \"6-6\",\n",
    "                \"7-10\",\n",
    "                \"7-11\",\n",
    "                \"7-12\",\n",
    "                \"7-13\",\n",
    "                \"7-14\",\n",
    "                \"7-7\",\n",
    "                \"7-8\",\n",
    "                \"7-9\",\n",
    "                \"8-1\",\n",
    "                \"8-13\",\n",
    "                \"8-14\",\n",
    "                \"8-18\",\n",
    "                \"8-20\",\n",
    "                \"8-3\",\n",
    "                \"8-8\",\n",
    "                \"9-1\",\n",
    "                \"9-7\",\n",
    "            ],\n",
    "            \"domains\": [1, 2, 3, 4],\n",
    "            \"num_examples_per_domain_per_label\": -1,\n",
    "            \"pickle_path\": \"/root/csc500-main/datasets/wisig.node3-19.stratified_ds.2022A.pkl\",\n",
    "            \"source_or_target_dataset\": \"target\",\n",
    "            \"x_transforms\": [\"unit_power\"],\n",
    "            \"episode_transforms\": [],\n",
    "            \"domain_prefix\": \"Wisig_\",\n",
    "        },\n",
    "        {\n",
    "            \"labels\": [\n",
    "                \"3123D52\",\n",
    "                \"3123D65\",\n",
    "                \"3123D79\",\n",
    "                \"3123D80\",\n",
    "                \"3123D54\",\n",
    "                \"3123D70\",\n",
    "                \"3123D7B\",\n",
    "                \"3123D89\",\n",
    "                \"3123D58\",\n",
    "                \"3123D76\",\n",
    "                \"3123D7D\",\n",
    "                \"3123EFE\",\n",
    "                \"3123D64\",\n",
    "                \"3123D78\",\n",
    "                \"3123D7E\",\n",
    "                \"3124E4A\",\n",
    "            ],\n",
    "            \"domains\": [32, 38, 8, 44, 14, 50, 20, 26],\n",
    "            \"num_examples_per_domain_per_label\": 10000,\n",
    "            \"pickle_path\": \"/root/csc500-main/datasets/oracle.Run1_10kExamples_stratified_ds.2022A.pkl\",\n",
    "            \"source_or_target_dataset\": \"source\",\n",
    "            \"x_transforms\": [\"unit_power\"],\n",
    "            \"episode_transforms\": [],\n",
    "            \"domain_prefix\": \"ORACLE.run1\",\n",
    "        },\n",
    "    ],\n",
    "    \"dataset_seed\": 420,\n",
    "    \"seed\": 420,\n",
    "}\n"
   ]
  },
  {
   "cell_type": "code",
   "execution_count": 5,
   "id": "8fa1cc33",
   "metadata": {
    "execution": {
     "iopub.execute_input": "2022-03-23T17:05:25.509882Z",
     "iopub.status.busy": "2022-03-23T17:05:25.509274Z",
     "iopub.status.idle": "2022-03-23T17:05:25.526619Z",
     "shell.execute_reply": "2022-03-23T17:05:25.525778Z"
    },
    "papermill": {
     "duration": 0.041146,
     "end_time": "2022-03-23T17:05:25.526785",
     "exception": false,
     "start_time": "2022-03-23T17:05:25.485639",
     "status": "completed"
    },
    "tags": []
   },
   "outputs": [],
   "source": [
    "# Set this to True if you want to run this template directly\n",
    "STANDALONE = False\n",
    "if STANDALONE:\n",
    "    print(\"parameters not injected, running with standalone_parameters\")\n",
    "    parameters = standalone_parameters\n",
    "\n",
    "if not 'parameters' in locals() and not 'parameters' in globals():\n",
    "    raise Exception(\"Parameter injection failed\")\n",
    "\n",
    "#Use an easy dict for all the parameters\n",
    "p = EasyDict(parameters)\n",
    "\n",
    "if \"x_shape\" not in p:\n",
    "    p.x_shape = [2,256] # Default to this if we dont supply x_shape\n",
    "\n",
    "\n",
    "supplied_keys = set(p.keys())\n",
    "\n",
    "if  supplied_keys != required_parameters:\n",
    "    print(\"Parameters are incorrect\")\n",
    "    if len(supplied_keys - required_parameters)>0: print(\"Shouldn't have:\", str(supplied_keys - required_parameters))\n",
    "    if len(required_parameters - supplied_keys)>0: print(\"Need to have:\", str(required_parameters - supplied_keys))\n",
    "    raise RuntimeError(\"Parameters are incorrect\")"
   ]
  },
  {
   "cell_type": "code",
   "execution_count": 6,
   "id": "3a028d58",
   "metadata": {
    "execution": {
     "iopub.execute_input": "2022-03-23T17:05:25.576073Z",
     "iopub.status.busy": "2022-03-23T17:05:25.575693Z",
     "iopub.status.idle": "2022-03-23T17:05:25.593518Z",
     "shell.execute_reply": "2022-03-23T17:05:25.592670Z"
    },
    "papermill": {
     "duration": 0.039874,
     "end_time": "2022-03-23T17:05:25.593677",
     "exception": false,
     "start_time": "2022-03-23T17:05:25.553803",
     "status": "completed"
    },
    "tags": []
   },
   "outputs": [],
   "source": [
    "###################################\n",
    "# Set the RNGs and make it all deterministic\n",
    "###################################\n",
    "np.random.seed(p.seed)\n",
    "random.seed(p.seed)\n",
    "torch.manual_seed(p.seed)\n",
    "\n",
    "torch.use_deterministic_algorithms(True) "
   ]
  },
  {
   "cell_type": "code",
   "execution_count": 7,
   "id": "b691acf6",
   "metadata": {
    "execution": {
     "iopub.execute_input": "2022-03-23T17:05:25.641451Z",
     "iopub.status.busy": "2022-03-23T17:05:25.641073Z",
     "iopub.status.idle": "2022-03-23T17:05:25.657892Z",
     "shell.execute_reply": "2022-03-23T17:05:25.657065Z"
    },
    "papermill": {
     "duration": 0.038916,
     "end_time": "2022-03-23T17:05:25.658049",
     "exception": false,
     "start_time": "2022-03-23T17:05:25.619133",
     "status": "completed"
    },
    "tags": []
   },
   "outputs": [],
   "source": [
    "###########################################\n",
    "# The stratified datasets honor this\n",
    "###########################################\n",
    "torch.set_default_dtype(eval(p.torch_default_dtype))"
   ]
  },
  {
   "cell_type": "code",
   "execution_count": 8,
   "id": "b5fba671",
   "metadata": {
    "execution": {
     "iopub.execute_input": "2022-03-23T17:05:25.705654Z",
     "iopub.status.busy": "2022-03-23T17:05:25.705278Z",
     "iopub.status.idle": "2022-03-23T17:05:25.755766Z",
     "shell.execute_reply": "2022-03-23T17:05:25.755018Z"
    },
    "papermill": {
     "duration": 0.072536,
     "end_time": "2022-03-23T17:05:25.755923",
     "exception": false,
     "start_time": "2022-03-23T17:05:25.683387",
     "status": "completed"
    },
    "tags": []
   },
   "outputs": [],
   "source": [
    "###################################\n",
    "# Build the network(s)\n",
    "# Note: It's critical to do this AFTER setting the RNG\n",
    "###################################\n",
    "x_net = build_sequential(p.x_net)"
   ]
  },
  {
   "cell_type": "code",
   "execution_count": 9,
   "id": "5d7e61cc",
   "metadata": {
    "execution": {
     "iopub.execute_input": "2022-03-23T17:05:25.803345Z",
     "iopub.status.busy": "2022-03-23T17:05:25.802687Z",
     "iopub.status.idle": "2022-03-23T17:05:25.824768Z",
     "shell.execute_reply": "2022-03-23T17:05:25.823941Z"
    },
    "papermill": {
     "duration": 0.044703,
     "end_time": "2022-03-23T17:05:25.824924",
     "exception": false,
     "start_time": "2022-03-23T17:05:25.780221",
     "status": "completed"
    },
    "tags": []
   },
   "outputs": [],
   "source": [
    "start_time_secs = time.time()"
   ]
  },
  {
   "cell_type": "code",
   "execution_count": 10,
   "id": "c6b67dfd",
   "metadata": {
    "execution": {
     "iopub.execute_input": "2022-03-23T17:05:25.871771Z",
     "iopub.status.busy": "2022-03-23T17:05:25.871096Z",
     "iopub.status.idle": "2022-03-23T17:05:25.888367Z",
     "shell.execute_reply": "2022-03-23T17:05:25.887496Z"
    },
    "papermill": {
     "duration": 0.039758,
     "end_time": "2022-03-23T17:05:25.888525",
     "exception": false,
     "start_time": "2022-03-23T17:05:25.848767",
     "status": "completed"
    },
    "tags": []
   },
   "outputs": [],
   "source": [
    "p.domains_source = []\n",
    "p.domains_target = []\n",
    "\n",
    "\n",
    "train_original_source = []\n",
    "val_original_source   = []\n",
    "test_original_source  = []\n",
    "\n",
    "train_original_target = []\n",
    "val_original_target   = []\n",
    "test_original_target  = []"
   ]
  },
  {
   "cell_type": "code",
   "execution_count": 11,
   "id": "e3d9c3d3",
   "metadata": {
    "execution": {
     "iopub.execute_input": "2022-03-23T17:05:25.937763Z",
     "iopub.status.busy": "2022-03-23T17:05:25.937381Z",
     "iopub.status.idle": "2022-03-23T17:05:25.954239Z",
     "shell.execute_reply": "2022-03-23T17:05:25.953408Z"
    },
    "papermill": {
     "duration": 0.038928,
     "end_time": "2022-03-23T17:05:25.954396",
     "exception": false,
     "start_time": "2022-03-23T17:05:25.915468",
     "status": "completed"
    },
    "tags": []
   },
   "outputs": [],
   "source": [
    "# global_x_transform_func = lambda x: normalize(x.to(torch.get_default_dtype()), \"unit_power\") # unit_power, unit_mag\n",
    "# global_x_transform_func = lambda x: normalize(x, \"unit_power\") # unit_power, unit_mag"
   ]
  },
  {
   "cell_type": "code",
   "execution_count": 12,
   "id": "acb78fd2",
   "metadata": {
    "execution": {
     "iopub.execute_input": "2022-03-23T17:05:26.007250Z",
     "iopub.status.busy": "2022-03-23T17:05:26.006647Z",
     "iopub.status.idle": "2022-03-23T17:05:26.024585Z",
     "shell.execute_reply": "2022-03-23T17:05:26.023753Z"
    },
    "papermill": {
     "duration": 0.044688,
     "end_time": "2022-03-23T17:05:26.024742",
     "exception": false,
     "start_time": "2022-03-23T17:05:25.980054",
     "status": "completed"
    },
    "tags": []
   },
   "outputs": [],
   "source": [
    "def add_dataset(\n",
    "    labels,\n",
    "    domains,\n",
    "    pickle_path,\n",
    "    x_transforms,\n",
    "    episode_transforms,\n",
    "    domain_prefix,\n",
    "    num_examples_per_domain_per_label,\n",
    "    source_or_target_dataset:str,\n",
    "    iterator_seed=p.seed,\n",
    "    dataset_seed=p.dataset_seed,\n",
    "    n_shot=p.n_shot,\n",
    "    n_way=p.n_way,\n",
    "    n_query=p.n_query,\n",
    "    train_val_test_k_factors=(p.train_k_factor,p.val_k_factor,p.test_k_factor),\n",
    "):\n",
    "   \n",
    "    if x_transforms == []: x_transform = None\n",
    "    else: x_transform = get_chained_transform(x_transforms)\n",
    "    \n",
    "    if episode_transforms == []: episode_transform = None\n",
    "    else: raise Exception(\"episode_transforms not implemented\")\n",
    "    \n",
    "    episode_transform = lambda tup, _prefix=domain_prefix: (_prefix + str(tup[0]), tup[1])\n",
    "\n",
    "\n",
    "    eaf = Episodic_Accessor_Factory(\n",
    "        labels=labels,\n",
    "        domains=domains,\n",
    "        num_examples_per_domain_per_label=num_examples_per_domain_per_label,\n",
    "        iterator_seed=iterator_seed,\n",
    "        dataset_seed=dataset_seed,\n",
    "        n_shot=n_shot,\n",
    "        n_way=n_way,\n",
    "        n_query=n_query,\n",
    "        train_val_test_k_factors=train_val_test_k_factors,\n",
    "        pickle_path=pickle_path,\n",
    "        x_transform_func=x_transform,\n",
    "    )\n",
    "\n",
    "    train, val, test = eaf.get_train(), eaf.get_val(), eaf.get_test()\n",
    "    train = Lazy_Iterable_Wrapper(train, episode_transform)\n",
    "    val = Lazy_Iterable_Wrapper(val, episode_transform)\n",
    "    test = Lazy_Iterable_Wrapper(test, episode_transform)\n",
    "\n",
    "    if source_or_target_dataset==\"source\":\n",
    "        train_original_source.append(train)\n",
    "        val_original_source.append(val)\n",
    "        test_original_source.append(test)\n",
    "\n",
    "        p.domains_source.extend(\n",
    "            [domain_prefix + str(u) for u in domains]\n",
    "        )\n",
    "    elif source_or_target_dataset==\"target\":\n",
    "        train_original_target.append(train)\n",
    "        val_original_target.append(val)\n",
    "        test_original_target.append(test)\n",
    "        p.domains_target.extend(\n",
    "            [domain_prefix + str(u) for u in domains]\n",
    "        )\n",
    "    else:\n",
    "        raise Exception(f\"invalid source_or_target_dataset: {source_or_target_dataset}\")\n",
    "    "
   ]
  },
  {
   "cell_type": "code",
   "execution_count": 13,
   "id": "fe266617",
   "metadata": {
    "execution": {
     "iopub.execute_input": "2022-03-23T17:05:26.074015Z",
     "iopub.status.busy": "2022-03-23T17:05:26.073640Z",
     "iopub.status.idle": "2022-03-23T17:07:40.111854Z",
     "shell.execute_reply": "2022-03-23T17:07:40.111060Z"
    },
    "papermill": {
     "duration": 134.060942,
     "end_time": "2022-03-23T17:07:40.112045",
     "exception": false,
     "start_time": "2022-03-23T17:05:26.051103",
     "status": "completed"
    },
    "tags": []
   },
   "outputs": [],
   "source": [
    "for ds in p.datasets:\n",
    "    add_dataset(**ds)"
   ]
  },
  {
   "cell_type": "code",
   "execution_count": 14,
   "id": "b90d65ac",
   "metadata": {
    "execution": {
     "iopub.execute_input": "2022-03-23T17:07:40.161920Z",
     "iopub.status.busy": "2022-03-23T17:07:40.161327Z",
     "iopub.status.idle": "2022-03-23T17:07:40.186120Z",
     "shell.execute_reply": "2022-03-23T17:07:40.185393Z"
    },
    "papermill": {
     "duration": 0.049036,
     "end_time": "2022-03-23T17:07:40.186281",
     "exception": false,
     "start_time": "2022-03-23T17:07:40.137245",
     "status": "completed"
    },
    "tags": []
   },
   "outputs": [],
   "source": [
    "# from steves_utils.CORES.utils import (\n",
    "#     ALL_NODES,\n",
    "#     ALL_NODES_MINIMUM_1000_EXAMPLES,\n",
    "#     ALL_DAYS\n",
    "# )\n",
    "\n",
    "# add_dataset(\n",
    "#     labels=ALL_NODES,\n",
    "#     domains = ALL_DAYS,\n",
    "#     num_examples_per_domain_per_label=100,\n",
    "#     pickle_path=os.path.join(get_datasets_base_path(), \"cores.stratified_ds.2022A.pkl\"),\n",
    "#     source_or_target_dataset=\"target\",\n",
    "#     x_transform_func=global_x_transform_func,\n",
    "#     domain_modifier=lambda u: f\"cores_{u}\"\n",
    "# )"
   ]
  },
  {
   "cell_type": "code",
   "execution_count": 15,
   "id": "76db484d",
   "metadata": {
    "execution": {
     "iopub.execute_input": "2022-03-23T17:07:40.237498Z",
     "iopub.status.busy": "2022-03-23T17:07:40.236384Z",
     "iopub.status.idle": "2022-03-23T17:07:40.257559Z",
     "shell.execute_reply": "2022-03-23T17:07:40.256718Z"
    },
    "papermill": {
     "duration": 0.045745,
     "end_time": "2022-03-23T17:07:40.257718",
     "exception": false,
     "start_time": "2022-03-23T17:07:40.211973",
     "status": "completed"
    },
    "tags": []
   },
   "outputs": [],
   "source": [
    "# from steves_utils.ORACLE.utils_v2 import (\n",
    "#     ALL_DISTANCES_FEET,\n",
    "#     ALL_RUNS,\n",
    "#     ALL_SERIAL_NUMBERS,\n",
    "# )\n",
    "\n",
    "\n",
    "# add_dataset(\n",
    "#     labels=ALL_SERIAL_NUMBERS,\n",
    "#     domains = list(set(ALL_DISTANCES_FEET) - {2,62}),\n",
    "#     num_examples_per_domain_per_label=100,\n",
    "#     pickle_path=os.path.join(get_datasets_base_path(), \"oracle.Run2_framed_2000Examples_stratified_ds.2022A.pkl\"),\n",
    "#     source_or_target_dataset=\"source\",\n",
    "#     x_transform_func=global_x_transform_func,\n",
    "#     domain_modifier=lambda u: f\"oracle1_{u}\"\n",
    "# )\n"
   ]
  },
  {
   "cell_type": "code",
   "execution_count": 16,
   "id": "97dea9d2",
   "metadata": {
    "execution": {
     "iopub.execute_input": "2022-03-23T17:07:40.308920Z",
     "iopub.status.busy": "2022-03-23T17:07:40.307759Z",
     "iopub.status.idle": "2022-03-23T17:07:40.328998Z",
     "shell.execute_reply": "2022-03-23T17:07:40.328237Z"
    },
    "papermill": {
     "duration": 0.045522,
     "end_time": "2022-03-23T17:07:40.329154",
     "exception": false,
     "start_time": "2022-03-23T17:07:40.283632",
     "status": "completed"
    },
    "tags": []
   },
   "outputs": [],
   "source": [
    "# from steves_utils.ORACLE.utils_v2 import (\n",
    "#     ALL_DISTANCES_FEET,\n",
    "#     ALL_RUNS,\n",
    "#     ALL_SERIAL_NUMBERS,\n",
    "# )\n",
    "\n",
    "\n",
    "# add_dataset(\n",
    "#     labels=ALL_SERIAL_NUMBERS,\n",
    "#     domains = list(set(ALL_DISTANCES_FEET) - {2,62,56}),\n",
    "#     num_examples_per_domain_per_label=100,\n",
    "#     pickle_path=os.path.join(get_datasets_base_path(), \"oracle.Run2_framed_2000Examples_stratified_ds.2022A.pkl\"),\n",
    "#     source_or_target_dataset=\"source\",\n",
    "#     x_transform_func=global_x_transform_func,\n",
    "#     domain_modifier=lambda u: f\"oracle2_{u}\"\n",
    "# )"
   ]
  },
  {
   "cell_type": "code",
   "execution_count": 17,
   "id": "6f289866",
   "metadata": {
    "execution": {
     "iopub.execute_input": "2022-03-23T17:07:40.382855Z",
     "iopub.status.busy": "2022-03-23T17:07:40.381502Z",
     "iopub.status.idle": "2022-03-23T17:07:40.401282Z",
     "shell.execute_reply": "2022-03-23T17:07:40.401936Z"
    },
    "papermill": {
     "duration": 0.044629,
     "end_time": "2022-03-23T17:07:40.402118",
     "exception": false,
     "start_time": "2022-03-23T17:07:40.357489",
     "status": "completed"
    },
    "tags": []
   },
   "outputs": [],
   "source": [
    "# add_dataset(\n",
    "#     labels=list(range(19)),\n",
    "#     domains = [0,1,2],\n",
    "#     num_examples_per_domain_per_label=100,\n",
    "#     pickle_path=os.path.join(get_datasets_base_path(), \"metehan.stratified_ds.2022A.pkl\"),\n",
    "#     source_or_target_dataset=\"target\",\n",
    "#     x_transform_func=global_x_transform_func,\n",
    "#     domain_modifier=lambda u: f\"met_{u}\"\n",
    "# )"
   ]
  },
  {
   "cell_type": "code",
   "execution_count": 18,
   "id": "86a863c3",
   "metadata": {
    "execution": {
     "iopub.execute_input": "2022-03-23T17:07:40.457023Z",
     "iopub.status.busy": "2022-03-23T17:07:40.456217Z",
     "iopub.status.idle": "2022-03-23T17:07:40.475114Z",
     "shell.execute_reply": "2022-03-23T17:07:40.474350Z"
    },
    "papermill": {
     "duration": 0.047042,
     "end_time": "2022-03-23T17:07:40.475273",
     "exception": false,
     "start_time": "2022-03-23T17:07:40.428231",
     "status": "completed"
    },
    "tags": []
   },
   "outputs": [],
   "source": [
    "# # from steves_utils.wisig.utils import (\n",
    "# #     ALL_NODES_MINIMUM_100_EXAMPLES,\n",
    "# #     ALL_NODES_MINIMUM_500_EXAMPLES,\n",
    "# #     ALL_NODES_MINIMUM_1000_EXAMPLES,\n",
    "# #     ALL_DAYS\n",
    "# # )\n",
    "\n",
    "# import steves_utils.wisig.utils as wisig\n",
    "\n",
    "\n",
    "# add_dataset(\n",
    "#     labels=wisig.ALL_NODES_MINIMUM_100_EXAMPLES,\n",
    "#     domains = wisig.ALL_DAYS,\n",
    "#     num_examples_per_domain_per_label=100,\n",
    "#     pickle_path=os.path.join(get_datasets_base_path(), \"wisig.node3-19.stratified_ds.2022A.pkl\"),\n",
    "#     source_or_target_dataset=\"target\",\n",
    "#     x_transform_func=global_x_transform_func,\n",
    "#     domain_modifier=lambda u: f\"wisig_{u}\"\n",
    "# )"
   ]
  },
  {
   "cell_type": "code",
   "execution_count": 19,
   "id": "fd5442bc",
   "metadata": {
    "execution": {
     "iopub.execute_input": "2022-03-23T17:07:40.536622Z",
     "iopub.status.busy": "2022-03-23T17:07:40.535773Z",
     "iopub.status.idle": "2022-03-23T17:07:40.553890Z",
     "shell.execute_reply": "2022-03-23T17:07:40.553064Z"
    },
    "papermill": {
     "duration": 0.049206,
     "end_time": "2022-03-23T17:07:40.554046",
     "exception": false,
     "start_time": "2022-03-23T17:07:40.504840",
     "status": "completed"
    },
    "tags": []
   },
   "outputs": [],
   "source": [
    "###################################\n",
    "# Build the dataset\n",
    "###################################\n",
    "train_original_source = Iterable_Aggregator(train_original_source, p.seed)\n",
    "val_original_source = Iterable_Aggregator(val_original_source, p.seed)\n",
    "test_original_source = Iterable_Aggregator(test_original_source, p.seed)\n",
    "\n",
    "\n",
    "train_original_target = Iterable_Aggregator(train_original_target, p.seed)\n",
    "val_original_target = Iterable_Aggregator(val_original_target, p.seed)\n",
    "test_original_target = Iterable_Aggregator(test_original_target, p.seed)\n",
    "\n",
    "# For CNN We only use X and Y. And we only train on the source.\n",
    "# Properly form the data using a transform lambda and Lazy_Iterable_Wrapper. Finally wrap them in a dataloader\n",
    "\n",
    "transform_lambda = lambda ex: ex[1] # Original is (<domain>, <episode>) so we strip down to episode only\n",
    "\n",
    "train_processed_source = Lazy_Iterable_Wrapper(train_original_source, transform_lambda)\n",
    "val_processed_source   = Lazy_Iterable_Wrapper(val_original_source, transform_lambda)\n",
    "test_processed_source  = Lazy_Iterable_Wrapper(test_original_source, transform_lambda)\n",
    "\n",
    "train_processed_target = Lazy_Iterable_Wrapper(train_original_target, transform_lambda)\n",
    "val_processed_target   = Lazy_Iterable_Wrapper(val_original_target, transform_lambda)\n",
    "test_processed_target  = Lazy_Iterable_Wrapper(test_original_target, transform_lambda)\n",
    "\n",
    "datasets = EasyDict({\n",
    "    \"source\": {\n",
    "        \"original\": {\"train\":train_original_source, \"val\":val_original_source, \"test\":test_original_source},\n",
    "        \"processed\": {\"train\":train_processed_source, \"val\":val_processed_source, \"test\":test_processed_source}\n",
    "    },\n",
    "    \"target\": {\n",
    "        \"original\": {\"train\":train_original_target, \"val\":val_original_target, \"test\":test_original_target},\n",
    "        \"processed\": {\"train\":train_processed_target, \"val\":val_processed_target, \"test\":test_processed_target}\n",
    "    },\n",
    "})"
   ]
  },
  {
   "cell_type": "code",
   "execution_count": 20,
   "id": "5b3c01fc",
   "metadata": {
    "execution": {
     "iopub.execute_input": "2022-03-23T17:07:40.605488Z",
     "iopub.status.busy": "2022-03-23T17:07:40.604908Z",
     "iopub.status.idle": "2022-03-23T17:08:14.124983Z",
     "shell.execute_reply": "2022-03-23T17:08:14.124260Z"
    },
    "papermill": {
     "duration": 33.544702,
     "end_time": "2022-03-23T17:08:14.125164",
     "exception": false,
     "start_time": "2022-03-23T17:07:40.580462",
     "status": "completed"
    },
    "tags": []
   },
   "outputs": [
    {
     "name": "stdout",
     "output_type": "stream",
     "text": [
      "{'ORACLE.run114', 'ORACLE.run132', 'ORACLE.run120', 'ORACLE.run144', 'ORACLE.run18', 'ORACLE.run138', 'ORACLE.run150', 'ORACLE.run126'}\n"
     ]
    },
    {
     "name": "stdout",
     "output_type": "stream",
     "text": [
      "{'Wisig_2', 'Wisig_3', 'Wisig_4', 'Wisig_1'}\n"
     ]
    },
    {
     "name": "stdout",
     "output_type": "stream",
     "text": [
      "tensor([[[ 0.2037,  0.1759, -1.2224,  ..., -0.0556,  0.9168, -0.1111],\n",
      "         [ 0.2500,  0.3612, -0.4075,  ..., -1.0464, -0.5556,  0.1852]],\n",
      "\n",
      "        [[-0.9323, -1.0511,  0.4022,  ..., -0.9688,  0.1554,  1.1151],\n",
      "         [-1.0145,  0.4022, -0.7312,  ..., -1.1242, -0.7769, -0.5667]],\n",
      "\n",
      "        [[ 0.0381, -0.8183,  0.4282,  ...,  0.1808,  0.3901,  0.1522],\n",
      "         [ 1.3702, -0.5994, -0.0666,  ..., -0.0476, -0.2284, -0.8373]],\n",
      "\n",
      "        ...,\n",
      "\n",
      "        [[ 1.1086, -0.6166, -1.0890,  ...,  0.0787, -1.0299, -0.2755],\n",
      "         [ 0.9774, -0.3477, -0.6101,  ...,  0.9906,  0.6494,  0.2230]],\n",
      "\n",
      "        [[ 0.7334,  0.0498, -0.1638,  ..., -1.4384, -0.8972, -0.5127],\n",
      "         [-0.7121,  0.3418, -0.2635,  ...,  0.3133,  0.1638,  0.5839]],\n",
      "\n",
      "        [[ 0.1154,  1.1802,  0.5195,  ..., -0.4169, -1.6355, -0.6670],\n",
      "         [ 0.3463, -0.6927, -0.6414,  ..., -0.4554,  0.0192, -0.6927]]])\n"
     ]
    }
   ],
   "source": [
    "from steves_utils.transforms import get_average_magnitude, get_average_power\n",
    "\n",
    "print(set([u for u,_ in val_original_source]))\n",
    "print(set([u for u,_ in val_original_target]))\n",
    "\n",
    "s_x, s_y, q_x, q_y, _ = next(iter(train_processed_source))\n",
    "print(s_x)\n",
    "\n",
    "# for ds in [\n",
    "#     train_processed_source,\n",
    "#     val_processed_source,\n",
    "#     test_processed_source,\n",
    "#     train_processed_target,\n",
    "#     val_processed_target,\n",
    "#     test_processed_target\n",
    "# ]:\n",
    "#     for s_x, s_y, q_x, q_y, _ in ds:\n",
    "#         for X in (s_x, q_x):\n",
    "#             for x in X:\n",
    "#                 assert np.isclose(get_average_magnitude(x.numpy()), 1.0)\n",
    "#                 assert np.isclose(get_average_power(x.numpy()), 1.0)\n",
    "                "
   ]
  },
  {
   "cell_type": "code",
   "execution_count": 21,
   "id": "bbdacba1",
   "metadata": {
    "execution": {
     "iopub.execute_input": "2022-03-23T17:08:14.181426Z",
     "iopub.status.busy": "2022-03-23T17:08:14.180779Z",
     "iopub.status.idle": "2022-03-23T17:08:14.381184Z",
     "shell.execute_reply": "2022-03-23T17:08:14.381524Z"
    },
    "papermill": {
     "duration": 0.22798,
     "end_time": "2022-03-23T17:08:14.381678",
     "exception": false,
     "start_time": "2022-03-23T17:08:14.153698",
     "status": "completed"
    },
    "tags": []
   },
   "outputs": [
    {
     "name": "stdout",
     "output_type": "stream",
     "text": [
      "(2, 256)\n"
     ]
    }
   ],
   "source": [
    "###################################\n",
    "# Build the model\n",
    "###################################\n",
    "# easfsl only wants a tuple for the shape\n",
    "model = Steves_Prototypical_Network(x_net, device=p.device, x_shape=tuple(p.x_shape))\n",
    "optimizer = Adam(params=model.parameters(), lr=p.lr)"
   ]
  },
  {
   "cell_type": "code",
   "execution_count": 22,
   "id": "22b39ac5",
   "metadata": {
    "execution": {
     "iopub.execute_input": "2022-03-23T17:08:14.435885Z",
     "iopub.status.busy": "2022-03-23T17:08:14.435492Z",
     "iopub.status.idle": "2022-03-23T22:01:00.428849Z",
     "shell.execute_reply": "2022-03-23T22:01:00.428502Z"
    },
    "papermill": {
     "duration": 17566.018158,
     "end_time": "2022-03-23T22:01:00.428939",
     "exception": false,
     "start_time": "2022-03-23T17:08:14.410781",
     "status": "completed"
    },
    "tags": []
   },
   "outputs": [
    {
     "name": "stdout",
     "output_type": "stream",
     "text": [
      "epoch: 1, [batch: 1 / 33600], examples_per_second: 6.5443, train_label_loss: 2.7717, \n"
     ]
    },
    {
     "name": "stdout",
     "output_type": "stream",
     "text": [
      "epoch: 1, [batch: 3360 / 33600], examples_per_second: 3695.0492, train_label_loss: 1.3035, \n"
     ]
    },
    {
     "name": "stdout",
     "output_type": "stream",
     "text": [
      "epoch: 1, [batch: 6720 / 33600], examples_per_second: 3785.5903, train_label_loss: 0.9646, \n"
     ]
    },
    {
     "name": "stdout",
     "output_type": "stream",
     "text": [
      "epoch: 1, [batch: 10080 / 33600], examples_per_second: 3694.0346, train_label_loss: 0.7006, \n"
     ]
    },
    {
     "name": "stdout",
     "output_type": "stream",
     "text": [
      "epoch: 1, [batch: 13440 / 33600], examples_per_second: 3594.7949, train_label_loss: 1.0027, \n"
     ]
    },
    {
     "name": "stdout",
     "output_type": "stream",
     "text": [
      "epoch: 1, [batch: 16800 / 33600], examples_per_second: 4012.0113, train_label_loss: 1.1071, \n"
     ]
    },
    {
     "name": "stdout",
     "output_type": "stream",
     "text": [
      "epoch: 1, [batch: 20160 / 33600], examples_per_second: 5142.1946, train_label_loss: 1.4862, \n"
     ]
    },
    {
     "name": "stdout",
     "output_type": "stream",
     "text": [
      "epoch: 1, [batch: 23520 / 33600], examples_per_second: 4997.0456, train_label_loss: 0.6442, \n"
     ]
    },
    {
     "name": "stdout",
     "output_type": "stream",
     "text": [
      "epoch: 1, [batch: 26880 / 33600], examples_per_second: 4788.3508, train_label_loss: 0.8628, \n"
     ]
    },
    {
     "name": "stdout",
     "output_type": "stream",
     "text": [
      "epoch: 1, [batch: 30240 / 33600], examples_per_second: 4952.9770, train_label_loss: 0.7297, \n"
     ]
    },
    {
     "name": "stdout",
     "output_type": "stream",
     "text": [
      "=============================================================\n",
      "epoch: 1, source_val_acc_label: 0.6424, target_val_acc_label: 0.6605, source_val_label_loss: 0.9510, target_val_label_loss: 6.5260, \n",
      "=============================================================\n"
     ]
    },
    {
     "name": "stdout",
     "output_type": "stream",
     "text": [
      "New best\n"
     ]
    },
    {
     "name": "stdout",
     "output_type": "stream",
     "text": [
      "epoch: 2, [batch: 1 / 33600], examples_per_second: 1.2824, train_label_loss: 0.9319, \n"
     ]
    },
    {
     "name": "stdout",
     "output_type": "stream",
     "text": [
      "epoch: 2, [batch: 3360 / 33600], examples_per_second: 3903.8191, train_label_loss: 0.6807, \n"
     ]
    },
    {
     "name": "stdout",
     "output_type": "stream",
     "text": [
      "epoch: 2, [batch: 6720 / 33600], examples_per_second: 3361.4937, train_label_loss: 1.1037, \n"
     ]
    },
    {
     "name": "stdout",
     "output_type": "stream",
     "text": [
      "epoch: 2, [batch: 10080 / 33600], examples_per_second: 2962.0086, train_label_loss: 1.1774, \n"
     ]
    },
    {
     "name": "stdout",
     "output_type": "stream",
     "text": [
      "epoch: 2, [batch: 13440 / 33600], examples_per_second: 2940.3965, train_label_loss: 0.6628, \n"
     ]
    },
    {
     "name": "stdout",
     "output_type": "stream",
     "text": [
      "epoch: 2, [batch: 16800 / 33600], examples_per_second: 3003.6148, train_label_loss: 0.8000, \n"
     ]
    },
    {
     "name": "stdout",
     "output_type": "stream",
     "text": [
      "epoch: 2, [batch: 20160 / 33600], examples_per_second: 2966.0102, train_label_loss: 0.7355, \n"
     ]
    },
    {
     "name": "stdout",
     "output_type": "stream",
     "text": [
      "epoch: 2, [batch: 23520 / 33600], examples_per_second: 2960.4064, train_label_loss: 0.5050, \n"
     ]
    },
    {
     "name": "stdout",
     "output_type": "stream",
     "text": [
      "epoch: 2, [batch: 26880 / 33600], examples_per_second: 2967.1964, train_label_loss: 0.5327, \n"
     ]
    },
    {
     "name": "stdout",
     "output_type": "stream",
     "text": [
      "epoch: 2, [batch: 30240 / 33600], examples_per_second: 2964.6277, train_label_loss: 0.6224, \n"
     ]
    },
    {
     "name": "stdout",
     "output_type": "stream",
     "text": [
      "=============================================================\n",
      "epoch: 2, source_val_acc_label: 0.6815, target_val_acc_label: 0.6920, source_val_label_loss: 0.8443, target_val_label_loss: 7.5308, \n",
      "=============================================================\n"
     ]
    },
    {
     "name": "stdout",
     "output_type": "stream",
     "text": [
      "New best\n"
     ]
    },
    {
     "name": "stdout",
     "output_type": "stream",
     "text": [
      "epoch: 3, [batch: 1 / 33600], examples_per_second: 0.8071, train_label_loss: 0.5630, \n"
     ]
    },
    {
     "name": "stdout",
     "output_type": "stream",
     "text": [
      "epoch: 3, [batch: 3360 / 33600], examples_per_second: 3392.9982, train_label_loss: 1.2426, \n"
     ]
    },
    {
     "name": "stdout",
     "output_type": "stream",
     "text": [
      "epoch: 3, [batch: 6720 / 33600], examples_per_second: 3332.9557, train_label_loss: 0.5158, \n"
     ]
    },
    {
     "name": "stdout",
     "output_type": "stream",
     "text": [
      "epoch: 3, [batch: 10080 / 33600], examples_per_second: 3021.7209, train_label_loss: 0.9004, \n"
     ]
    },
    {
     "name": "stdout",
     "output_type": "stream",
     "text": [
      "epoch: 3, [batch: 13440 / 33600], examples_per_second: 2998.8801, train_label_loss: 0.4177, \n"
     ]
    },
    {
     "name": "stdout",
     "output_type": "stream",
     "text": [
      "epoch: 3, [batch: 16800 / 33600], examples_per_second: 2972.0404, train_label_loss: 1.0498, \n"
     ]
    },
    {
     "name": "stdout",
     "output_type": "stream",
     "text": [
      "epoch: 3, [batch: 20160 / 33600], examples_per_second: 2985.6129, train_label_loss: 1.0578, \n"
     ]
    },
    {
     "name": "stdout",
     "output_type": "stream",
     "text": [
      "epoch: 3, [batch: 23520 / 33600], examples_per_second: 2977.5171, train_label_loss: 0.6694, \n"
     ]
    },
    {
     "name": "stdout",
     "output_type": "stream",
     "text": [
      "epoch: 3, [batch: 26880 / 33600], examples_per_second: 2974.6907, train_label_loss: 0.5028, \n"
     ]
    },
    {
     "name": "stdout",
     "output_type": "stream",
     "text": [
      "epoch: 3, [batch: 30240 / 33600], examples_per_second: 3022.0502, train_label_loss: 0.5789, \n"
     ]
    },
    {
     "name": "stdout",
     "output_type": "stream",
     "text": [
      "=============================================================\n",
      "epoch: 3, source_val_acc_label: 0.7037, target_val_acc_label: 0.7321, source_val_label_loss: 0.7877, target_val_label_loss: 7.5996, \n",
      "=============================================================\n"
     ]
    },
    {
     "name": "stdout",
     "output_type": "stream",
     "text": [
      "New best\n"
     ]
    },
    {
     "name": "stdout",
     "output_type": "stream",
     "text": [
      "epoch: 4, [batch: 1 / 33600], examples_per_second: 0.8062, train_label_loss: 0.6162, \n"
     ]
    },
    {
     "name": "stdout",
     "output_type": "stream",
     "text": [
      "epoch: 4, [batch: 3360 / 33600], examples_per_second: 3460.3447, train_label_loss: 0.5528, \n"
     ]
    },
    {
     "name": "stdout",
     "output_type": "stream",
     "text": [
      "epoch: 4, [batch: 6720 / 33600], examples_per_second: 3381.5231, train_label_loss: 0.6650, \n"
     ]
    },
    {
     "name": "stdout",
     "output_type": "stream",
     "text": [
      "epoch: 4, [batch: 10080 / 33600], examples_per_second: 3023.5686, train_label_loss: 1.0321, \n"
     ]
    },
    {
     "name": "stdout",
     "output_type": "stream",
     "text": [
      "epoch: 4, [batch: 13440 / 33600], examples_per_second: 3012.6971, train_label_loss: 0.9535, \n"
     ]
    },
    {
     "name": "stdout",
     "output_type": "stream",
     "text": [
      "epoch: 4, [batch: 16800 / 33600], examples_per_second: 3010.6089, train_label_loss: 0.5555, \n"
     ]
    },
    {
     "name": "stdout",
     "output_type": "stream",
     "text": [
      "epoch: 4, [batch: 20160 / 33600], examples_per_second: 2982.4996, train_label_loss: 0.2253, \n"
     ]
    },
    {
     "name": "stdout",
     "output_type": "stream",
     "text": [
      "epoch: 4, [batch: 23520 / 33600], examples_per_second: 2982.2773, train_label_loss: 0.8651, \n"
     ]
    },
    {
     "name": "stdout",
     "output_type": "stream",
     "text": [
      "epoch: 4, [batch: 26880 / 33600], examples_per_second: 2962.1783, train_label_loss: 0.7713, \n"
     ]
    },
    {
     "name": "stdout",
     "output_type": "stream",
     "text": [
      "epoch: 4, [batch: 30240 / 33600], examples_per_second: 3003.4740, train_label_loss: 0.6417, \n"
     ]
    },
    {
     "name": "stdout",
     "output_type": "stream",
     "text": [
      "=============================================================\n",
      "epoch: 4, source_val_acc_label: 0.7254, target_val_acc_label: 0.7510, source_val_label_loss: 0.7395, target_val_label_loss: 7.8554, \n",
      "=============================================================\n"
     ]
    },
    {
     "name": "stdout",
     "output_type": "stream",
     "text": [
      "New best\n"
     ]
    },
    {
     "name": "stdout",
     "output_type": "stream",
     "text": [
      "epoch: 5, [batch: 1 / 33600], examples_per_second: 0.7999, train_label_loss: 0.5577, \n"
     ]
    },
    {
     "name": "stdout",
     "output_type": "stream",
     "text": [
      "epoch: 5, [batch: 3360 / 33600], examples_per_second: 3407.8301, train_label_loss: 0.3113, \n"
     ]
    },
    {
     "name": "stdout",
     "output_type": "stream",
     "text": [
      "epoch: 5, [batch: 6720 / 33600], examples_per_second: 3219.9387, train_label_loss: 0.2452, \n"
     ]
    },
    {
     "name": "stdout",
     "output_type": "stream",
     "text": [
      "epoch: 5, [batch: 10080 / 33600], examples_per_second: 3034.5737, train_label_loss: 1.0473, \n"
     ]
    },
    {
     "name": "stdout",
     "output_type": "stream",
     "text": [
      "epoch: 5, [batch: 13440 / 33600], examples_per_second: 2971.5484, train_label_loss: 0.6561, \n"
     ]
    },
    {
     "name": "stdout",
     "output_type": "stream",
     "text": [
      "epoch: 5, [batch: 16800 / 33600], examples_per_second: 2971.1836, train_label_loss: 0.8240, \n"
     ]
    },
    {
     "name": "stdout",
     "output_type": "stream",
     "text": [
      "epoch: 5, [batch: 20160 / 33600], examples_per_second: 2991.3506, train_label_loss: 0.7073, \n"
     ]
    },
    {
     "name": "stdout",
     "output_type": "stream",
     "text": [
      "epoch: 5, [batch: 23520 / 33600], examples_per_second: 2979.6146, train_label_loss: 0.4943, \n"
     ]
    },
    {
     "name": "stdout",
     "output_type": "stream",
     "text": [
      "epoch: 5, [batch: 26880 / 33600], examples_per_second: 2986.6975, train_label_loss: 0.3555, \n"
     ]
    },
    {
     "name": "stdout",
     "output_type": "stream",
     "text": [
      "epoch: 5, [batch: 30240 / 33600], examples_per_second: 2983.2386, train_label_loss: 0.9346, \n"
     ]
    },
    {
     "name": "stdout",
     "output_type": "stream",
     "text": [
      "=============================================================\n",
      "epoch: 5, source_val_acc_label: 0.7312, target_val_acc_label: 0.7635, source_val_label_loss: 0.7293, target_val_label_loss: 8.6841, \n",
      "=============================================================\n"
     ]
    },
    {
     "name": "stdout",
     "output_type": "stream",
     "text": [
      "New best\n"
     ]
    },
    {
     "name": "stdout",
     "output_type": "stream",
     "text": [
      "epoch: 6, [batch: 1 / 33600], examples_per_second: 0.7965, train_label_loss: 0.4158, \n"
     ]
    },
    {
     "name": "stdout",
     "output_type": "stream",
     "text": [
      "epoch: 6, [batch: 3360 / 33600], examples_per_second: 3475.8053, train_label_loss: 0.4764, \n"
     ]
    },
    {
     "name": "stdout",
     "output_type": "stream",
     "text": [
      "epoch: 6, [batch: 6720 / 33600], examples_per_second: 3009.8861, train_label_loss: 0.7904, \n"
     ]
    },
    {
     "name": "stdout",
     "output_type": "stream",
     "text": [
      "epoch: 6, [batch: 10080 / 33600], examples_per_second: 2989.0455, train_label_loss: 1.0855, \n"
     ]
    },
    {
     "name": "stdout",
     "output_type": "stream",
     "text": [
      "epoch: 6, [batch: 13440 / 33600], examples_per_second: 2966.2066, train_label_loss: 0.5566, \n"
     ]
    },
    {
     "name": "stdout",
     "output_type": "stream",
     "text": [
      "epoch: 6, [batch: 16800 / 33600], examples_per_second: 2983.9327, train_label_loss: 0.6476, \n"
     ]
    },
    {
     "name": "stdout",
     "output_type": "stream",
     "text": [
      "epoch: 6, [batch: 20160 / 33600], examples_per_second: 2973.6451, train_label_loss: 0.6647, \n"
     ]
    },
    {
     "name": "stdout",
     "output_type": "stream",
     "text": [
      "epoch: 6, [batch: 23520 / 33600], examples_per_second: 2968.2164, train_label_loss: 0.2455, \n"
     ]
    },
    {
     "name": "stdout",
     "output_type": "stream",
     "text": [
      "epoch: 6, [batch: 26880 / 33600], examples_per_second: 3011.8706, train_label_loss: 0.5405, \n"
     ]
    },
    {
     "name": "stdout",
     "output_type": "stream",
     "text": [
      "epoch: 6, [batch: 30240 / 33600], examples_per_second: 2963.4124, train_label_loss: 0.0953, \n"
     ]
    },
    {
     "name": "stdout",
     "output_type": "stream",
     "text": [
      "=============================================================\n",
      "epoch: 6, source_val_acc_label: 0.7361, target_val_acc_label: 0.7690, source_val_label_loss: 0.7376, target_val_label_loss: 9.1510, \n",
      "=============================================================\n"
     ]
    },
    {
     "name": "stdout",
     "output_type": "stream",
     "text": [
      "New best\n"
     ]
    },
    {
     "name": "stdout",
     "output_type": "stream",
     "text": [
      "epoch: 7, [batch: 1 / 33600], examples_per_second: 0.8192, train_label_loss: 0.4111, \n"
     ]
    },
    {
     "name": "stdout",
     "output_type": "stream",
     "text": [
      "epoch: 7, [batch: 3360 / 33600], examples_per_second: 3289.5798, train_label_loss: 0.4831, \n"
     ]
    },
    {
     "name": "stdout",
     "output_type": "stream",
     "text": [
      "epoch: 7, [batch: 6720 / 33600], examples_per_second: 2942.7936, train_label_loss: 0.8842, \n"
     ]
    },
    {
     "name": "stdout",
     "output_type": "stream",
     "text": [
      "epoch: 7, [batch: 10080 / 33600], examples_per_second: 2954.4505, train_label_loss: 0.5099, \n"
     ]
    },
    {
     "name": "stdout",
     "output_type": "stream",
     "text": [
      "epoch: 7, [batch: 13440 / 33600], examples_per_second: 2941.3189, train_label_loss: 0.6356, \n"
     ]
    },
    {
     "name": "stdout",
     "output_type": "stream",
     "text": [
      "epoch: 7, [batch: 16800 / 33600], examples_per_second: 3003.4214, train_label_loss: 0.7274, \n"
     ]
    },
    {
     "name": "stdout",
     "output_type": "stream",
     "text": [
      "epoch: 7, [batch: 20160 / 33600], examples_per_second: 2984.5773, train_label_loss: 0.2998, \n"
     ]
    },
    {
     "name": "stdout",
     "output_type": "stream",
     "text": [
      "epoch: 7, [batch: 23520 / 33600], examples_per_second: 2978.1044, train_label_loss: 0.4490, \n"
     ]
    },
    {
     "name": "stdout",
     "output_type": "stream",
     "text": [
      "epoch: 7, [batch: 26880 / 33600], examples_per_second: 3036.1617, train_label_loss: 0.6157, \n"
     ]
    },
    {
     "name": "stdout",
     "output_type": "stream",
     "text": [
      "epoch: 7, [batch: 30240 / 33600], examples_per_second: 3010.2081, train_label_loss: 0.8469, \n"
     ]
    },
    {
     "name": "stdout",
     "output_type": "stream",
     "text": [
      "=============================================================\n",
      "epoch: 7, source_val_acc_label: 0.7358, target_val_acc_label: 0.7743, source_val_label_loss: 0.7408, target_val_label_loss: 9.2758, \n",
      "=============================================================\n"
     ]
    },
    {
     "name": "stdout",
     "output_type": "stream",
     "text": [
      "New best\n"
     ]
    },
    {
     "name": "stdout",
     "output_type": "stream",
     "text": [
      "epoch: 8, [batch: 1 / 33600], examples_per_second: 0.8399, train_label_loss: 0.6155, \n"
     ]
    },
    {
     "name": "stdout",
     "output_type": "stream",
     "text": [
      "epoch: 8, [batch: 3360 / 33600], examples_per_second: 3115.6972, train_label_loss: 0.5243, \n"
     ]
    },
    {
     "name": "stdout",
     "output_type": "stream",
     "text": [
      "epoch: 8, [batch: 6720 / 33600], examples_per_second: 2992.4510, train_label_loss: 0.2110, \n"
     ]
    },
    {
     "name": "stdout",
     "output_type": "stream",
     "text": [
      "epoch: 8, [batch: 10080 / 33600], examples_per_second: 2980.2381, train_label_loss: 0.4514, \n"
     ]
    },
    {
     "name": "stdout",
     "output_type": "stream",
     "text": [
      "epoch: 8, [batch: 13440 / 33600], examples_per_second: 2995.2447, train_label_loss: 0.5136, \n"
     ]
    },
    {
     "name": "stdout",
     "output_type": "stream",
     "text": [
      "epoch: 8, [batch: 16800 / 33600], examples_per_second: 2981.7981, train_label_loss: 0.2296, \n"
     ]
    },
    {
     "name": "stdout",
     "output_type": "stream",
     "text": [
      "epoch: 8, [batch: 20160 / 33600], examples_per_second: 2987.0469, train_label_loss: 0.1885, \n"
     ]
    },
    {
     "name": "stdout",
     "output_type": "stream",
     "text": [
      "epoch: 8, [batch: 23520 / 33600], examples_per_second: 2982.0931, train_label_loss: 0.3408, \n"
     ]
    },
    {
     "name": "stdout",
     "output_type": "stream",
     "text": [
      "epoch: 8, [batch: 26880 / 33600], examples_per_second: 3006.9458, train_label_loss: 0.3862, \n"
     ]
    },
    {
     "name": "stdout",
     "output_type": "stream",
     "text": [
      "epoch: 8, [batch: 30240 / 33600], examples_per_second: 2990.6071, train_label_loss: 0.5586, \n"
     ]
    },
    {
     "name": "stdout",
     "output_type": "stream",
     "text": [
      "=============================================================\n",
      "epoch: 8, source_val_acc_label: 0.7372, target_val_acc_label: 0.7762, source_val_label_loss: 0.7543, target_val_label_loss: 9.9334, \n",
      "=============================================================\n"
     ]
    },
    {
     "name": "stdout",
     "output_type": "stream",
     "text": [
      "New best\n"
     ]
    },
    {
     "name": "stdout",
     "output_type": "stream",
     "text": [
      "epoch: 9, [batch: 1 / 33600], examples_per_second: 0.8578, train_label_loss: 0.3458, \n"
     ]
    },
    {
     "name": "stdout",
     "output_type": "stream",
     "text": [
      "epoch: 9, [batch: 3360 / 33600], examples_per_second: 3011.1503, train_label_loss: 0.3551, \n"
     ]
    },
    {
     "name": "stdout",
     "output_type": "stream",
     "text": [
      "epoch: 9, [batch: 6720 / 33600], examples_per_second: 2985.4696, train_label_loss: 0.5464, \n"
     ]
    },
    {
     "name": "stdout",
     "output_type": "stream",
     "text": [
      "epoch: 9, [batch: 10080 / 33600], examples_per_second: 2991.3261, train_label_loss: 0.2002, \n"
     ]
    },
    {
     "name": "stdout",
     "output_type": "stream",
     "text": [
      "epoch: 9, [batch: 13440 / 33600], examples_per_second: 2997.5891, train_label_loss: 0.5006, \n"
     ]
    },
    {
     "name": "stdout",
     "output_type": "stream",
     "text": [
      "epoch: 9, [batch: 16800 / 33600], examples_per_second: 3004.7518, train_label_loss: 0.4333, \n"
     ]
    },
    {
     "name": "stdout",
     "output_type": "stream",
     "text": [
      "epoch: 9, [batch: 20160 / 33600], examples_per_second: 3006.9837, train_label_loss: 0.3041, \n"
     ]
    },
    {
     "name": "stdout",
     "output_type": "stream",
     "text": [
      "epoch: 9, [batch: 23520 / 33600], examples_per_second: 2981.0631, train_label_loss: 0.5303, \n"
     ]
    },
    {
     "name": "stdout",
     "output_type": "stream",
     "text": [
      "epoch: 9, [batch: 26880 / 33600], examples_per_second: 2966.6314, train_label_loss: 0.3226, \n"
     ]
    },
    {
     "name": "stdout",
     "output_type": "stream",
     "text": [
      "epoch: 9, [batch: 30240 / 33600], examples_per_second: 2970.7455, train_label_loss: 0.2332, \n"
     ]
    },
    {
     "name": "stdout",
     "output_type": "stream",
     "text": [
      "=============================================================\n",
      "epoch: 9, source_val_acc_label: 0.7325, target_val_acc_label: 0.7829, source_val_label_loss: 0.7649, target_val_label_loss: 10.1213, \n",
      "=============================================================\n"
     ]
    },
    {
     "name": "stdout",
     "output_type": "stream",
     "text": [
      "New best\n"
     ]
    },
    {
     "name": "stdout",
     "output_type": "stream",
     "text": [
      "epoch: 10, [batch: 1 / 33600], examples_per_second: 0.8579, train_label_loss: 0.3317, \n"
     ]
    },
    {
     "name": "stdout",
     "output_type": "stream",
     "text": [
      "epoch: 10, [batch: 3360 / 33600], examples_per_second: 2967.9089, train_label_loss: 0.4201, \n"
     ]
    },
    {
     "name": "stdout",
     "output_type": "stream",
     "text": [
      "epoch: 10, [batch: 6720 / 33600], examples_per_second: 2986.0618, train_label_loss: 0.5541, \n"
     ]
    },
    {
     "name": "stdout",
     "output_type": "stream",
     "text": [
      "epoch: 10, [batch: 10080 / 33600], examples_per_second: 2941.6019, train_label_loss: 0.5554, \n"
     ]
    },
    {
     "name": "stdout",
     "output_type": "stream",
     "text": [
      "epoch: 10, [batch: 13440 / 33600], examples_per_second: 2964.9570, train_label_loss: 0.4920, \n"
     ]
    },
    {
     "name": "stdout",
     "output_type": "stream",
     "text": [
      "epoch: 10, [batch: 16800 / 33600], examples_per_second: 2986.4354, train_label_loss: 0.2391, \n"
     ]
    },
    {
     "name": "stdout",
     "output_type": "stream",
     "text": [
      "epoch: 10, [batch: 20160 / 33600], examples_per_second: 2986.1089, train_label_loss: 0.1256, \n"
     ]
    },
    {
     "name": "stdout",
     "output_type": "stream",
     "text": [
      "epoch: 10, [batch: 23520 / 33600], examples_per_second: 2953.5200, train_label_loss: 0.2017, \n"
     ]
    },
    {
     "name": "stdout",
     "output_type": "stream",
     "text": [
      "epoch: 10, [batch: 26880 / 33600], examples_per_second: 2994.0967, train_label_loss: 0.4111, \n"
     ]
    },
    {
     "name": "stdout",
     "output_type": "stream",
     "text": [
      "epoch: 10, [batch: 30240 / 33600], examples_per_second: 2968.1259, train_label_loss: 0.3950, \n"
     ]
    },
    {
     "name": "stdout",
     "output_type": "stream",
     "text": [
      "=============================================================\n",
      "epoch: 10, source_val_acc_label: 0.7285, target_val_acc_label: 0.7819, source_val_label_loss: 0.7851, target_val_label_loss: 10.6913, \n",
      "=============================================================\n"
     ]
    },
    {
     "name": "stdout",
     "output_type": "stream",
     "text": [
      "epoch: 11, [batch: 1 / 33600], examples_per_second: 0.8783, train_label_loss: 0.6473, \n"
     ]
    },
    {
     "name": "stdout",
     "output_type": "stream",
     "text": [
      "epoch: 11, [batch: 3360 / 33600], examples_per_second: 2975.3498, train_label_loss: 0.3223, \n"
     ]
    },
    {
     "name": "stdout",
     "output_type": "stream",
     "text": [
      "epoch: 11, [batch: 6720 / 33600], examples_per_second: 2963.6756, train_label_loss: 0.1311, \n"
     ]
    },
    {
     "name": "stdout",
     "output_type": "stream",
     "text": [
      "epoch: 11, [batch: 10080 / 33600], examples_per_second: 2984.5096, train_label_loss: 0.4604, \n"
     ]
    },
    {
     "name": "stdout",
     "output_type": "stream",
     "text": [
      "epoch: 11, [batch: 13440 / 33600], examples_per_second: 2993.6525, train_label_loss: 0.2395, \n"
     ]
    },
    {
     "name": "stdout",
     "output_type": "stream",
     "text": [
      "epoch: 11, [batch: 16800 / 33600], examples_per_second: 3006.4308, train_label_loss: 0.0786, \n"
     ]
    },
    {
     "name": "stdout",
     "output_type": "stream",
     "text": [
      "epoch: 11, [batch: 20160 / 33600], examples_per_second: 3002.9671, train_label_loss: 0.0565, \n"
     ]
    },
    {
     "name": "stdout",
     "output_type": "stream",
     "text": [
      "epoch: 11, [batch: 23520 / 33600], examples_per_second: 3024.2806, train_label_loss: 0.2580, \n"
     ]
    },
    {
     "name": "stdout",
     "output_type": "stream",
     "text": [
      "epoch: 11, [batch: 26880 / 33600], examples_per_second: 2992.9517, train_label_loss: 0.2270, \n"
     ]
    },
    {
     "name": "stdout",
     "output_type": "stream",
     "text": [
      "epoch: 11, [batch: 30240 / 33600], examples_per_second: 2970.7034, train_label_loss: 0.6544, \n"
     ]
    },
    {
     "name": "stdout",
     "output_type": "stream",
     "text": [
      "=============================================================\n",
      "epoch: 11, source_val_acc_label: 0.7330, target_val_acc_label: 0.7868, source_val_label_loss: 0.7983, target_val_label_loss: 11.0231, \n",
      "=============================================================\n"
     ]
    },
    {
     "name": "stdout",
     "output_type": "stream",
     "text": [
      "New best\n"
     ]
    },
    {
     "name": "stdout",
     "output_type": "stream",
     "text": [
      "epoch: 12, [batch: 1 / 33600], examples_per_second: 0.8789, train_label_loss: 0.3858, \n"
     ]
    },
    {
     "name": "stdout",
     "output_type": "stream",
     "text": [
      "epoch: 12, [batch: 3360 / 33600], examples_per_second: 2996.2057, train_label_loss: 0.3355, \n"
     ]
    },
    {
     "name": "stdout",
     "output_type": "stream",
     "text": [
      "epoch: 12, [batch: 6720 / 33600], examples_per_second: 3014.3507, train_label_loss: 0.2195, \n"
     ]
    },
    {
     "name": "stdout",
     "output_type": "stream",
     "text": [
      "epoch: 12, [batch: 10080 / 33600], examples_per_second: 3027.8268, train_label_loss: 0.3749, \n"
     ]
    },
    {
     "name": "stdout",
     "output_type": "stream",
     "text": [
      "epoch: 12, [batch: 13440 / 33600], examples_per_second: 2979.2433, train_label_loss: 0.3643, \n"
     ]
    },
    {
     "name": "stdout",
     "output_type": "stream",
     "text": [
      "epoch: 12, [batch: 16800 / 33600], examples_per_second: 2967.1267, train_label_loss: 0.3517, \n"
     ]
    },
    {
     "name": "stdout",
     "output_type": "stream",
     "text": [
      "epoch: 12, [batch: 20160 / 33600], examples_per_second: 3014.8312, train_label_loss: 0.1665, \n"
     ]
    },
    {
     "name": "stdout",
     "output_type": "stream",
     "text": [
      "epoch: 12, [batch: 23520 / 33600], examples_per_second: 3032.3831, train_label_loss: 0.0924, \n"
     ]
    },
    {
     "name": "stdout",
     "output_type": "stream",
     "text": [
      "epoch: 12, [batch: 26880 / 33600], examples_per_second: 2990.3637, train_label_loss: 0.3262, \n"
     ]
    },
    {
     "name": "stdout",
     "output_type": "stream",
     "text": [
      "epoch: 12, [batch: 30240 / 33600], examples_per_second: 3016.5910, train_label_loss: 0.5235, \n"
     ]
    },
    {
     "name": "stdout",
     "output_type": "stream",
     "text": [
      "=============================================================\n",
      "epoch: 12, source_val_acc_label: 0.7338, target_val_acc_label: 0.7834, source_val_label_loss: 0.8342, target_val_label_loss: 11.5707, \n",
      "=============================================================\n"
     ]
    },
    {
     "name": "stdout",
     "output_type": "stream",
     "text": [
      "epoch: 13, [batch: 1 / 33600], examples_per_second: 0.8701, train_label_loss: 0.1803, \n"
     ]
    },
    {
     "name": "stdout",
     "output_type": "stream",
     "text": [
      "epoch: 13, [batch: 3360 / 33600], examples_per_second: 2997.7937, train_label_loss: 0.6269, \n"
     ]
    },
    {
     "name": "stdout",
     "output_type": "stream",
     "text": [
      "epoch: 13, [batch: 6720 / 33600], examples_per_second: 2986.3090, train_label_loss: 0.5105, \n"
     ]
    },
    {
     "name": "stdout",
     "output_type": "stream",
     "text": [
      "epoch: 13, [batch: 10080 / 33600], examples_per_second: 2994.1934, train_label_loss: 0.1678, \n"
     ]
    },
    {
     "name": "stdout",
     "output_type": "stream",
     "text": [
      "epoch: 13, [batch: 13440 / 33600], examples_per_second: 2985.3436, train_label_loss: 0.2352, \n"
     ]
    },
    {
     "name": "stdout",
     "output_type": "stream",
     "text": [
      "epoch: 13, [batch: 16800 / 33600], examples_per_second: 3019.1205, train_label_loss: 0.3478, \n"
     ]
    },
    {
     "name": "stdout",
     "output_type": "stream",
     "text": [
      "epoch: 13, [batch: 20160 / 33600], examples_per_second: 3011.6160, train_label_loss: 0.3260, \n"
     ]
    },
    {
     "name": "stdout",
     "output_type": "stream",
     "text": [
      "epoch: 13, [batch: 23520 / 33600], examples_per_second: 2982.3138, train_label_loss: 0.1307, \n"
     ]
    },
    {
     "name": "stdout",
     "output_type": "stream",
     "text": [
      "epoch: 13, [batch: 26880 / 33600], examples_per_second: 2969.2496, train_label_loss: 0.2219, \n"
     ]
    },
    {
     "name": "stdout",
     "output_type": "stream",
     "text": [
      "epoch: 13, [batch: 30240 / 33600], examples_per_second: 2965.0528, train_label_loss: 0.6697, \n"
     ]
    },
    {
     "name": "stdout",
     "output_type": "stream",
     "text": [
      "=============================================================\n",
      "epoch: 13, source_val_acc_label: 0.7310, target_val_acc_label: 0.7836, source_val_label_loss: 0.8642, target_val_label_loss: 12.2798, \n",
      "=============================================================\n"
     ]
    },
    {
     "name": "stdout",
     "output_type": "stream",
     "text": [
      "epoch: 14, [batch: 1 / 33600], examples_per_second: 0.8634, train_label_loss: 0.2738, \n"
     ]
    },
    {
     "name": "stdout",
     "output_type": "stream",
     "text": [
      "epoch: 14, [batch: 3360 / 33600], examples_per_second: 2994.4958, train_label_loss: 0.1499, \n"
     ]
    },
    {
     "name": "stdout",
     "output_type": "stream",
     "text": [
      "epoch: 14, [batch: 6720 / 33600], examples_per_second: 3004.2295, train_label_loss: 0.1237, \n"
     ]
    },
    {
     "name": "stdout",
     "output_type": "stream",
     "text": [
      "epoch: 14, [batch: 10080 / 33600], examples_per_second: 2970.7722, train_label_loss: 0.5541, \n"
     ]
    },
    {
     "name": "stdout",
     "output_type": "stream",
     "text": [
      "epoch: 14, [batch: 13440 / 33600], examples_per_second: 2943.6124, train_label_loss: 0.3385, \n"
     ]
    },
    {
     "name": "stdout",
     "output_type": "stream",
     "text": [
      "epoch: 14, [batch: 16800 / 33600], examples_per_second: 2986.1131, train_label_loss: 0.1595, \n"
     ]
    },
    {
     "name": "stdout",
     "output_type": "stream",
     "text": [
      "epoch: 14, [batch: 20160 / 33600], examples_per_second: 3012.9586, train_label_loss: 0.5737, \n"
     ]
    },
    {
     "name": "stdout",
     "output_type": "stream",
     "text": [
      "epoch: 14, [batch: 23520 / 33600], examples_per_second: 3004.8401, train_label_loss: 0.1756, \n"
     ]
    },
    {
     "name": "stdout",
     "output_type": "stream",
     "text": [
      "epoch: 14, [batch: 26880 / 33600], examples_per_second: 2971.9287, train_label_loss: 0.4250, \n"
     ]
    },
    {
     "name": "stdout",
     "output_type": "stream",
     "text": [
      "epoch: 14, [batch: 30240 / 33600], examples_per_second: 2980.4544, train_label_loss: 0.1876, \n"
     ]
    },
    {
     "name": "stdout",
     "output_type": "stream",
     "text": [
      "=============================================================\n",
      "epoch: 14, source_val_acc_label: 0.7247, target_val_acc_label: 0.7884, source_val_label_loss: 0.8663, target_val_label_loss: 12.1589, \n",
      "=============================================================\n"
     ]
    },
    {
     "name": "stdout",
     "output_type": "stream",
     "text": [
      "New best\n"
     ]
    },
    {
     "name": "stdout",
     "output_type": "stream",
     "text": [
      "epoch: 15, [batch: 1 / 33600], examples_per_second: 0.8716, train_label_loss: 0.1226, \n"
     ]
    },
    {
     "name": "stdout",
     "output_type": "stream",
     "text": [
      "epoch: 15, [batch: 3360 / 33600], examples_per_second: 2989.8073, train_label_loss: 0.3576, \n"
     ]
    },
    {
     "name": "stdout",
     "output_type": "stream",
     "text": [
      "epoch: 15, [batch: 6720 / 33600], examples_per_second: 3019.5980, train_label_loss: 0.1907, \n"
     ]
    },
    {
     "name": "stdout",
     "output_type": "stream",
     "text": [
      "epoch: 15, [batch: 10080 / 33600], examples_per_second: 3032.4340, train_label_loss: 0.3971, \n"
     ]
    },
    {
     "name": "stdout",
     "output_type": "stream",
     "text": [
      "epoch: 15, [batch: 13440 / 33600], examples_per_second: 3008.7835, train_label_loss: 0.4569, \n"
     ]
    },
    {
     "name": "stdout",
     "output_type": "stream",
     "text": [
      "epoch: 15, [batch: 16800 / 33600], examples_per_second: 2985.0931, train_label_loss: 0.4610, \n"
     ]
    },
    {
     "name": "stdout",
     "output_type": "stream",
     "text": [
      "epoch: 15, [batch: 20160 / 33600], examples_per_second: 2963.9219, train_label_loss: 0.0840, \n"
     ]
    },
    {
     "name": "stdout",
     "output_type": "stream",
     "text": [
      "epoch: 15, [batch: 23520 / 33600], examples_per_second: 2986.7284, train_label_loss: 0.1885, \n"
     ]
    },
    {
     "name": "stdout",
     "output_type": "stream",
     "text": [
      "epoch: 15, [batch: 26880 / 33600], examples_per_second: 2989.4426, train_label_loss: 0.0862, \n"
     ]
    },
    {
     "name": "stdout",
     "output_type": "stream",
     "text": [
      "epoch: 15, [batch: 30240 / 33600], examples_per_second: 3026.6396, train_label_loss: 0.1073, \n"
     ]
    },
    {
     "name": "stdout",
     "output_type": "stream",
     "text": [
      "=============================================================\n",
      "epoch: 15, source_val_acc_label: 0.7246, target_val_acc_label: 0.7846, source_val_label_loss: 0.9141, target_val_label_loss: 13.1339, \n",
      "=============================================================\n"
     ]
    },
    {
     "name": "stdout",
     "output_type": "stream",
     "text": [
      "epoch: 16, [batch: 1 / 33600], examples_per_second: 0.8597, train_label_loss: 0.2392, \n"
     ]
    },
    {
     "name": "stdout",
     "output_type": "stream",
     "text": [
      "epoch: 16, [batch: 3360 / 33600], examples_per_second: 3004.8050, train_label_loss: 0.1862, \n"
     ]
    },
    {
     "name": "stdout",
     "output_type": "stream",
     "text": [
      "epoch: 16, [batch: 6720 / 33600], examples_per_second: 2993.2368, train_label_loss: 0.3346, \n"
     ]
    },
    {
     "name": "stdout",
     "output_type": "stream",
     "text": [
      "epoch: 16, [batch: 10080 / 33600], examples_per_second: 3005.3824, train_label_loss: 0.2866, \n"
     ]
    },
    {
     "name": "stdout",
     "output_type": "stream",
     "text": [
      "epoch: 16, [batch: 13440 / 33600], examples_per_second: 3009.7973, train_label_loss: 0.0718, \n"
     ]
    },
    {
     "name": "stdout",
     "output_type": "stream",
     "text": [
      "epoch: 16, [batch: 16800 / 33600], examples_per_second: 2980.2044, train_label_loss: 0.1171, \n"
     ]
    },
    {
     "name": "stdout",
     "output_type": "stream",
     "text": [
      "epoch: 16, [batch: 20160 / 33600], examples_per_second: 2987.2991, train_label_loss: 0.2836, \n"
     ]
    },
    {
     "name": "stdout",
     "output_type": "stream",
     "text": [
      "epoch: 16, [batch: 23520 / 33600], examples_per_second: 2979.7854, train_label_loss: 0.1335, \n"
     ]
    },
    {
     "name": "stdout",
     "output_type": "stream",
     "text": [
      "epoch: 16, [batch: 26880 / 33600], examples_per_second: 2998.3024, train_label_loss: 0.1625, \n"
     ]
    },
    {
     "name": "stdout",
     "output_type": "stream",
     "text": [
      "epoch: 16, [batch: 30240 / 33600], examples_per_second: 3000.4865, train_label_loss: 0.4238, \n"
     ]
    },
    {
     "name": "stdout",
     "output_type": "stream",
     "text": [
      "=============================================================\n",
      "epoch: 16, source_val_acc_label: 0.7227, target_val_acc_label: 0.7869, source_val_label_loss: 0.9322, target_val_label_loss: 13.2039, \n",
      "=============================================================\n"
     ]
    },
    {
     "name": "stdout",
     "output_type": "stream",
     "text": [
      "epoch: 17, [batch: 1 / 33600], examples_per_second: 0.8520, train_label_loss: 0.4384, \n"
     ]
    },
    {
     "name": "stdout",
     "output_type": "stream",
     "text": [
      "epoch: 17, [batch: 3360 / 33600], examples_per_second: 2974.0719, train_label_loss: 0.2154, \n"
     ]
    },
    {
     "name": "stdout",
     "output_type": "stream",
     "text": [
      "epoch: 17, [batch: 6720 / 33600], examples_per_second: 3011.7229, train_label_loss: 0.2395, \n"
     ]
    },
    {
     "name": "stdout",
     "output_type": "stream",
     "text": [
      "epoch: 17, [batch: 10080 / 33600], examples_per_second: 2966.6864, train_label_loss: 0.1718, \n"
     ]
    },
    {
     "name": "stdout",
     "output_type": "stream",
     "text": [
      "epoch: 17, [batch: 13440 / 33600], examples_per_second: 2940.5143, train_label_loss: 0.1519, \n"
     ]
    },
    {
     "name": "stdout",
     "output_type": "stream",
     "text": [
      "epoch: 17, [batch: 16800 / 33600], examples_per_second: 2979.8156, train_label_loss: 0.1168, \n"
     ]
    },
    {
     "name": "stdout",
     "output_type": "stream",
     "text": [
      "epoch: 17, [batch: 20160 / 33600], examples_per_second: 2964.5391, train_label_loss: 0.3885, \n"
     ]
    },
    {
     "name": "stdout",
     "output_type": "stream",
     "text": [
      "epoch: 17, [batch: 23520 / 33600], examples_per_second: 2976.9746, train_label_loss: 0.3042, \n"
     ]
    },
    {
     "name": "stdout",
     "output_type": "stream",
     "text": [
      "epoch: 17, [batch: 26880 / 33600], examples_per_second: 2968.6002, train_label_loss: 0.2389, \n"
     ]
    },
    {
     "name": "stdout",
     "output_type": "stream",
     "text": [
      "epoch: 17, [batch: 30240 / 33600], examples_per_second: 3007.5021, train_label_loss: 0.0866, \n"
     ]
    },
    {
     "name": "stdout",
     "output_type": "stream",
     "text": [
      "=============================================================\n",
      "epoch: 17, source_val_acc_label: 0.7217, target_val_acc_label: 0.7873, source_val_label_loss: 0.9452, target_val_label_loss: 13.7367, \n",
      "=============================================================\n"
     ]
    },
    {
     "name": "stdout",
     "output_type": "stream",
     "text": [
      "epoch: 18, [batch: 1 / 33600], examples_per_second: 0.8678, train_label_loss: 0.3728, \n"
     ]
    },
    {
     "name": "stdout",
     "output_type": "stream",
     "text": [
      "epoch: 18, [batch: 3360 / 33600], examples_per_second: 2986.9253, train_label_loss: 0.3212, \n"
     ]
    },
    {
     "name": "stdout",
     "output_type": "stream",
     "text": [
      "epoch: 18, [batch: 6720 / 33600], examples_per_second: 3007.7163, train_label_loss: 0.0555, \n"
     ]
    },
    {
     "name": "stdout",
     "output_type": "stream",
     "text": [
      "epoch: 18, [batch: 10080 / 33600], examples_per_second: 3018.9532, train_label_loss: 0.1745, \n"
     ]
    },
    {
     "name": "stdout",
     "output_type": "stream",
     "text": [
      "epoch: 18, [batch: 13440 / 33600], examples_per_second: 2993.9450, train_label_loss: 0.2904, \n"
     ]
    },
    {
     "name": "stdout",
     "output_type": "stream",
     "text": [
      "epoch: 18, [batch: 16800 / 33600], examples_per_second: 2989.9998, train_label_loss: 0.2807, \n"
     ]
    },
    {
     "name": "stdout",
     "output_type": "stream",
     "text": [
      "epoch: 18, [batch: 20160 / 33600], examples_per_second: 2970.8721, train_label_loss: 0.2818, \n"
     ]
    },
    {
     "name": "stdout",
     "output_type": "stream",
     "text": [
      "epoch: 18, [batch: 23520 / 33600], examples_per_second: 2998.9324, train_label_loss: 0.1073, \n"
     ]
    },
    {
     "name": "stdout",
     "output_type": "stream",
     "text": [
      "epoch: 18, [batch: 26880 / 33600], examples_per_second: 3006.5321, train_label_loss: 0.3906, \n"
     ]
    },
    {
     "name": "stdout",
     "output_type": "stream",
     "text": [
      "epoch: 18, [batch: 30240 / 33600], examples_per_second: 3010.7485, train_label_loss: 0.4626, \n"
     ]
    },
    {
     "name": "stdout",
     "output_type": "stream",
     "text": [
      "=============================================================\n",
      "epoch: 18, source_val_acc_label: 0.7191, target_val_acc_label: 0.7878, source_val_label_loss: 0.9867, target_val_label_loss: 14.3693, \n",
      "=============================================================\n"
     ]
    },
    {
     "name": "stdout",
     "output_type": "stream",
     "text": [
      "Patience (3) exhausted\n"
     ]
    }
   ],
   "source": [
    "###################################\n",
    "# train\n",
    "###################################\n",
    "jig = PTN_Train_Eval_Test_Jig(model, p.BEST_MODEL_PATH, p.device)\n",
    "\n",
    "jig.train(\n",
    "    train_iterable=datasets.source.processed.train,\n",
    "    source_val_iterable=datasets.source.processed.val,\n",
    "    target_val_iterable=datasets.target.processed.val,\n",
    "    num_epochs=p.n_epoch,\n",
    "    num_logs_per_epoch=p.NUM_LOGS_PER_EPOCH,\n",
    "    patience=p.patience,\n",
    "    optimizer=optimizer,\n",
    "    criteria_for_best=p.criteria_for_best,\n",
    ")"
   ]
  },
  {
   "cell_type": "code",
   "execution_count": 23,
   "id": "31e8fabf",
   "metadata": {
    "execution": {
     "iopub.execute_input": "2022-03-23T22:01:00.584804Z",
     "iopub.status.busy": "2022-03-23T22:01:00.584431Z",
     "iopub.status.idle": "2022-03-23T22:01:00.621151Z",
     "shell.execute_reply": "2022-03-23T22:01:00.620408Z"
    },
    "papermill": {
     "duration": 0.117348,
     "end_time": "2022-03-23T22:01:00.621349",
     "exception": false,
     "start_time": "2022-03-23T22:01:00.504001",
     "status": "completed"
    },
    "tags": []
   },
   "outputs": [],
   "source": [
    "total_experiment_time_secs = time.time() - start_time_secs"
   ]
  },
  {
   "cell_type": "code",
   "execution_count": 24,
   "id": "87b9595b",
   "metadata": {
    "execution": {
     "iopub.execute_input": "2022-03-23T22:01:00.786185Z",
     "iopub.status.busy": "2022-03-23T22:01:00.785316Z",
     "iopub.status.idle": "2022-03-23T22:11:36.041968Z",
     "shell.execute_reply": "2022-03-23T22:11:36.041170Z"
    },
    "papermill": {
     "duration": 635.341922,
     "end_time": "2022-03-23T22:11:36.042153",
     "exception": false,
     "start_time": "2022-03-23T22:01:00.700231",
     "status": "completed"
    },
    "tags": []
   },
   "outputs": [],
   "source": [
    "###################################\n",
    "# Evaluate the model\n",
    "###################################\n",
    "source_test_label_accuracy, source_test_label_loss = jig.test(datasets.source.processed.test)\n",
    "target_test_label_accuracy, target_test_label_loss = jig.test(datasets.target.processed.test)\n",
    "\n",
    "source_val_label_accuracy, source_val_label_loss = jig.test(datasets.source.processed.val)\n",
    "target_val_label_accuracy, target_val_label_loss = jig.test(datasets.target.processed.val)\n",
    "\n",
    "history = jig.get_history()\n",
    "\n",
    "total_epochs_trained = len(history[\"epoch_indices\"])\n",
    "\n",
    "val_dl = Iterable_Aggregator((datasets.source.original.val,datasets.target.original.val))\n",
    "\n",
    "confusion = ptn_confusion_by_domain_over_dataloader(model, p.device, val_dl)\n",
    "per_domain_accuracy = per_domain_accuracy_from_confusion(confusion)\n",
    "\n",
    "# Add a key to per_domain_accuracy for if it was a source domain\n",
    "for domain, accuracy in per_domain_accuracy.items():\n",
    "    per_domain_accuracy[domain] = {\n",
    "        \"accuracy\": accuracy,\n",
    "        \"source?\": domain in p.domains_source\n",
    "    }\n",
    "\n",
    "# Do an independent accuracy assesment JUST TO BE SURE!\n",
    "# _source_test_label_accuracy = independent_accuracy_assesment(model, datasets.source.processed.test, p.device)\n",
    "# _target_test_label_accuracy = independent_accuracy_assesment(model, datasets.target.processed.test, p.device)\n",
    "# _source_val_label_accuracy = independent_accuracy_assesment(model, datasets.source.processed.val, p.device)\n",
    "# _target_val_label_accuracy = independent_accuracy_assesment(model, datasets.target.processed.val, p.device)\n",
    "\n",
    "# assert(_source_test_label_accuracy == source_test_label_accuracy)\n",
    "# assert(_target_test_label_accuracy == target_test_label_accuracy)\n",
    "# assert(_source_val_label_accuracy == source_val_label_accuracy)\n",
    "# assert(_target_val_label_accuracy == target_val_label_accuracy)\n",
    "\n",
    "experiment = {\n",
    "    \"experiment_name\": p.experiment_name,\n",
    "    \"parameters\": dict(p),\n",
    "    \"results\": {\n",
    "        \"source_test_label_accuracy\": source_test_label_accuracy,\n",
    "        \"source_test_label_loss\": source_test_label_loss,\n",
    "        \"target_test_label_accuracy\": target_test_label_accuracy,\n",
    "        \"target_test_label_loss\": target_test_label_loss,\n",
    "        \"source_val_label_accuracy\": source_val_label_accuracy,\n",
    "        \"source_val_label_loss\": source_val_label_loss,\n",
    "        \"target_val_label_accuracy\": target_val_label_accuracy,\n",
    "        \"target_val_label_loss\": target_val_label_loss,\n",
    "        \"total_epochs_trained\": total_epochs_trained,\n",
    "        \"total_experiment_time_secs\": total_experiment_time_secs,\n",
    "        \"confusion\": confusion,\n",
    "        \"per_domain_accuracy\": per_domain_accuracy,\n",
    "    },\n",
    "    \"history\": history,\n",
    "    \"dataset_metrics\": get_dataset_metrics(datasets, \"ptn\"),\n",
    "}"
   ]
  },
  {
   "cell_type": "code",
   "execution_count": 25,
   "id": "54a21829",
   "metadata": {
    "execution": {
     "iopub.execute_input": "2022-03-23T22:11:36.202324Z",
     "iopub.status.busy": "2022-03-23T22:11:36.201939Z",
     "iopub.status.idle": "2022-03-23T22:11:36.423290Z",
     "shell.execute_reply": "2022-03-23T22:11:36.424032Z"
    },
    "papermill": {
     "duration": 0.300972,
     "end_time": "2022-03-23T22:11:36.424217",
     "exception": false,
     "start_time": "2022-03-23T22:11:36.123245",
     "status": "completed"
    },
    "tags": []
   },
   "outputs": [
    {
     "data": {
      "image/png": "[encoded data removed]",
      "text/plain": [
       "<Figure size 1080x504 with 1 Axes>"
      ]
     },
     "metadata": {
      "needs_background": "light"
     },
     "output_type": "display_data"
    }
   ],
   "source": [
    "ax = get_loss_curve(experiment)\n",
    "plt.show()"
   ]
  },
  {
   "cell_type": "code",
   "execution_count": 26,
   "id": "fd8a0f60",
   "metadata": {
    "execution": {
     "iopub.execute_input": "2022-03-23T22:11:36.590709Z",
     "iopub.status.busy": "2022-03-23T22:11:36.590328Z",
     "iopub.status.idle": "2022-03-23T22:11:36.974309Z",
     "shell.execute_reply": "2022-03-23T22:11:36.974685Z"
    },
    "papermill": {
     "duration": 0.465368,
     "end_time": "2022-03-23T22:11:36.974771",
     "exception": false,
     "start_time": "2022-03-23T22:11:36.509403",
     "status": "completed"
    },
    "tags": []
   },
   "outputs": [
    {
     "data": {
      "text/plain": [
       "<AxesSubplot:title={'center':'Results'}>"
      ]
     },
     "execution_count": 26,
     "metadata": {},
     "output_type": "execute_result"
    },
    {
     "data": {
      "image/png": "[encoded data removed]",
      "text/plain": [
       "<Figure size 1080x504 with 1 Axes>"
      ]
     },
     "metadata": {
      "needs_background": "light"
     },
     "output_type": "display_data"
    }
   ],
   "source": [
    "get_results_table(experiment)"
   ]
  },
  {
   "cell_type": "code",
   "execution_count": 27,
   "id": "cf8dc689",
   "metadata": {
    "execution": {
     "iopub.execute_input": "2022-03-23T22:11:37.139024Z",
     "iopub.status.busy": "2022-03-23T22:11:37.138642Z",
     "iopub.status.idle": "2022-03-23T22:11:37.436103Z",
     "shell.execute_reply": "2022-03-23T22:11:37.435752Z"
    },
    "papermill": {
     "duration": 0.381067,
     "end_time": "2022-03-23T22:11:37.436199",
     "exception": false,
     "start_time": "2022-03-23T22:11:37.055132",
     "status": "completed"
    },
    "tags": []
   },
   "outputs": [
    {
     "data": {
      "text/plain": [
       "<AxesSubplot:title={'center':'Per Domain Validation Accuracy'}, xlabel='domain'>"
      ]
     },
     "execution_count": 27,
     "metadata": {},
     "output_type": "execute_result"
    },
    {
     "data": {
      "image/png": "[encoded data removed]",
      "text/plain": [
       "<Figure size 1080x504 with 1 Axes>"
      ]
     },
     "metadata": {
      "needs_background": "light"
     },
     "output_type": "display_data"
    }
   ],
   "source": [
    "get_domain_accuracies(experiment)"
   ]
  },
  {
   "cell_type": "code",
   "execution_count": 28,
   "id": "a74ae082",
   "metadata": {
    "execution": {
     "iopub.execute_input": "2022-03-23T22:11:37.604556Z",
     "iopub.status.busy": "2022-03-23T22:11:37.604167Z",
     "iopub.status.idle": "2022-03-23T22:11:37.632012Z",
     "shell.execute_reply": "2022-03-23T22:11:37.631167Z"
    },
    "papermill": {
     "duration": 0.114001,
     "end_time": "2022-03-23T22:11:37.632170",
     "exception": false,
     "start_time": "2022-03-23T22:11:37.518169",
     "status": "completed"
    },
    "tags": []
   },
   "outputs": [
    {
     "name": "stdout",
     "output_type": "stream",
     "text": [
      "Source Test Label Accuracy: 0.7232682291666667 Target Test Label Accuracy: 0.7887228260869565\n",
      "Source Val Label Accuracy: 0.7247200520833333 Target Val Label Accuracy: 0.7884183403805497\n"
     ]
    }
   ],
   "source": [
    "print(\"Source Test Label Accuracy:\", experiment[\"results\"][\"source_test_label_accuracy\"], \"Target Test Label Accuracy:\", experiment[\"results\"][\"target_test_label_accuracy\"])\n",
    "print(\"Source Val Label Accuracy:\", experiment[\"results\"][\"source_val_label_accuracy\"], \"Target Val Label Accuracy:\", experiment[\"results\"][\"target_val_label_accuracy\"])"
   ]
  },
  {
   "cell_type": "code",
   "execution_count": 29,
   "id": "dacca602",
   "metadata": {
    "execution": {
     "iopub.execute_input": "2022-03-23T22:11:37.802684Z",
     "iopub.status.busy": "2022-03-23T22:11:37.802296Z",
     "iopub.status.idle": "2022-03-23T22:11:37.831640Z",
     "shell.execute_reply": "2022-03-23T22:11:37.832333Z"
    },
    "papermill": {
     "duration": 0.114513,
     "end_time": "2022-03-23T22:11:37.832514",
     "exception": false,
     "start_time": "2022-03-23T22:11:37.718001",
     "status": "completed"
    },
    "tags": [
     "experiment_json"
    ]
   },
   "outputs": [
    {
     "data": {
      "text/plain": [
       "'{\"experiment_name\": \"tl_1v2:wisig-oracle.run1\", \"parameters\": {\"experiment_name\": \"tl_1v2:wisig-oracle.run1\", \"device\": \"cuda\", \"lr\": 0.0001, \"n_shot\": 3, \"n_query\": 2, \"train_k_factor\": 3, \"val_k_factor\": 2, \"test_k_factor\": 2, \"torch_default_dtype\": \"torch.float32\", \"n_epoch\": 50, \"patience\": 3, \"criteria_for_best\": \"target_accuracy\", \"x_net\": [{\"class\": \"nnReshape\", \"kargs\": {\"shape\": [-1, 1, 2, 256]}}, {\"class\": \"Conv2d\", \"kargs\": {\"in_channels\": 1, \"out_channels\": 256, \"kernel_size\": [1, 7], \"bias\": false, \"padding\": [0, 3]}}, {\"class\": \"ReLU\", \"kargs\": {\"inplace\": true}}, {\"class\": \"BatchNorm2d\", \"kargs\": {\"num_features\": 256}}, {\"class\": \"Conv2d\", \"kargs\": {\"in_channels\": 256, \"out_channels\": 80, \"kernel_size\": [2, 7], \"bias\": true, \"padding\": [0, 3]}}, {\"class\": \"ReLU\", \"kargs\": {\"inplace\": true}}, {\"class\": \"BatchNorm2d\", \"kargs\": {\"num_features\": 80}}, {\"class\": \"Flatten\", \"kargs\": {}}, {\"class\": \"Linear\", \"kargs\": {\"in_features\": 20480, \"out_features\": 256}}, {\"class\": \"ReLU\", \"kargs\": {\"inplace\": true}}, {\"class\": \"BatchNorm1d\", \"kargs\": {\"num_features\": 256}}, {\"class\": \"Linear\", \"kargs\": {\"in_features\": 256, \"out_features\": 256}}], \"NUM_LOGS_PER_EPOCH\": 10, \"BEST_MODEL_PATH\": \"./best_model.pth\", \"n_way\": 16, \"datasets\": [{\"labels\": [\"1-10\", \"1-12\", \"1-14\", \"1-16\", \"1-18\", \"1-19\", \"1-8\", \"10-11\", \"10-17\", \"10-4\", \"10-7\", \"11-1\", \"11-10\", \"11-19\", \"11-20\", \"11-4\", \"11-7\", \"12-19\", \"12-20\", \"12-7\", \"13-14\", \"13-18\", \"13-19\", \"13-20\", \"13-3\", \"13-7\", \"14-10\", \"14-11\", \"14-12\", \"14-13\", \"14-14\", \"14-19\", \"14-20\", \"14-7\", \"14-8\", \"14-9\", \"15-1\", \"15-19\", \"15-6\", \"16-1\", \"16-16\", \"16-19\", \"16-20\", \"17-10\", \"17-11\", \"18-1\", \"18-10\", \"18-11\", \"18-12\", \"18-13\", \"18-14\", \"18-15\", \"18-16\", \"18-17\", \"18-19\", \"18-2\", \"18-20\", \"18-4\", \"18-5\", \"18-7\", \"18-8\", \"18-9\", \"19-1\", \"19-10\", \"19-11\", \"19-12\", \"19-13\", \"19-14\", \"19-15\", \"19-19\", \"19-2\", \"19-20\", \"19-3\", \"19-4\", \"19-6\", \"19-7\", \"19-8\", \"19-9\", \"2-1\", \"2-13\", \"2-15\", \"2-3\", \"2-4\", \"2-5\", \"2-6\", \"2-7\", \"2-8\", \"20-1\", \"20-12\", \"20-14\", \"20-15\", \"20-16\", \"20-18\", \"20-19\", \"20-20\", \"20-3\", \"20-4\", \"20-5\", \"20-7\", \"20-8\", \"3-1\", \"3-13\", \"3-18\", \"3-2\", \"3-8\", \"4-1\", \"4-10\", \"4-11\", \"5-1\", \"5-5\", \"6-1\", \"6-15\", \"6-6\", \"7-10\", \"7-11\", \"7-12\", \"7-13\", \"7-14\", \"7-7\", \"7-8\", \"7-9\", \"8-1\", \"8-13\", \"8-14\", \"8-18\", \"8-20\", \"8-3\", \"8-8\", \"9-1\", \"9-7\"], \"domains\": [1, 2, 3, 4], \"num_examples_per_domain_per_label\": -1, \"pickle_path\": \"/root/csc500-main/datasets/wisig.node3-19.stratified_ds.2022A.pkl\", \"source_or_target_dataset\": \"target\", \"x_transforms\": [\"unit_power\"], \"episode_transforms\": [], \"domain_prefix\": \"Wisig_\"}, {\"labels\": [\"3123D52\", \"3123D65\", \"3123D79\", \"3123D80\", \"3123D54\", \"3123D70\", \"3123D7B\", \"3123D89\", \"3123D58\", \"3123D76\", \"3123D7D\", \"3123EFE\", \"3123D64\", \"3123D78\", \"3123D7E\", \"3124E4A\"], \"domains\": [32, 38, 8, 44, 14, 50, 20, 26], \"num_examples_per_domain_per_label\": 10000, \"pickle_path\": \"/root/csc500-main/datasets/oracle.Run1_10kExamples_stratified_ds.2022A.pkl\", \"source_or_target_dataset\": \"source\", \"x_transforms\": [\"unit_power\"], \"episode_transforms\": [], \"domain_prefix\": \"ORACLE.run1\"}], \"dataset_seed\": 420, \"seed\": 420, \"x_shape\": [2, 256], \"domains_source\": [\"ORACLE.run132\", \"ORACLE.run138\", \"ORACLE.run18\", \"ORACLE.run144\", \"ORACLE.run114\", \"ORACLE.run150\", \"ORACLE.run120\", \"ORACLE.run126\"], \"domains_target\": [\"Wisig_1\", \"Wisig_2\", \"Wisig_3\", \"Wisig_4\"]}, \"results\": {\"source_test_label_accuracy\": 0.7232682291666667, \"source_test_label_loss\": 0.8675945997238159, \"target_test_label_accuracy\": 0.7887228260869565, \"target_test_label_loss\": 12.196473121643066, \"source_val_label_accuracy\": 0.7247200520833333, \"source_val_label_loss\": 0.8663299679756165, \"target_val_label_accuracy\": 0.7884183403805497, \"target_val_label_loss\": 12.158934593200684, \"total_epochs_trained\": 18, \"total_experiment_time_secs\": 17734.79564142227, \"confusion\": {\"ORACLE.run114\": {\"15\": {\"15\": 1172, \"7\": 23, \"5\": 5}, \"5\": {\"5\": 792, \"2\": 55, \"4\": 192, \"1\": 126, \"13\": 1, \"15\": 4, \"3\": 20, \"7\": 10}, \"7\": {\"7\": 1168, \"15\": 18, \"1\": 11, \"5\": 3}, \"4\": {\"4\": 883, \"5\": 138, \"3\": 103, \"2\": 50, \"13\": 2, \"1\": 16, \"14\": 7, \"6\": 1}, \"10\": {\"10\": 1163, \"0\": 36, \"14\": 1}, \"11\": {\"11\": 1089, \"0\": 51, \"9\": 60}, \"12\": {\"12\": 1194, \"9\": 5, \"11\": 1}, \"0\": {\"0\": 1099, \"10\": 64, \"11\": 15, \"3\": 21, \"14\": 1}, \"14\": {\"14\": 969, \"13\": 84, \"6\": 34, \"2\": 80, \"3\": 33}, \"8\": {\"8\": 1200}, \"13\": {\"14\": 170, \"13\": 409, \"6\": 500, \"2\": 98, \"5\": 15, \"4\": 5, \"10\": 3}, \"6\": {\"6\": 671, \"13\": 431, \"14\": 44, \"2\": 54}, \"1\": {\"1\": 1076, \"5\": 103, \"4\": 16, \"7\": 4, \"3\": 1}, \"3\": {\"3\": 994, \"4\": 120, \"0\": 11, \"14\": 37, \"10\": 4, \"2\": 26, \"5\": 7, \"1\": 1}, \"9\": {\"9\": 1195, \"12\": 2, \"11\": 3}, \"2\": {\"5\": 119, \"2\": 598, \"14\": 174, \"4\": 104, \"13\": 60, \"6\": 69, \"3\": 64, \"15\": 12}}, \"ORACLE.run120\": {\"4\": {\"8\": 142, \"4\": 950, \"10\": 28, \"12\": 12, \"3\": 58, \"0\": 3, \"7\": 3, \"14\": 1, \"5\": 3}, \"10\": {\"10\": 1052, \"14\": 105, \"4\": 29, \"7\": 3, \"8\": 7, \"6\": 3, \"9\": 1}, \"15\": {\"15\": 725, \"5\": 122, \"0\": 92, \"1\": 185, \"3\": 2, \"13\": 45, \"12\": 26, \"2\": 3}, \"0\": {\"15\": 111, \"0\": 709, \"5\": 299, \"3\": 13, \"7\": 2, \"12\": 12, \"1\": 36, \"2\": 7, \"8\": 6, \"13\": 3, \"9\": 1, \"4\": 1}, \"6\": {\"6\": 1047, \"14\": 133, \"8\": 6, \"7\": 12, \"10\": 2}, \"3\": {\"3\": 477, \"4\": 75, \"9\": 173, \"5\": 37, \"7\": 41, \"12\": 258, \"2\": 94, \"0\": 9, \"1\": 26, \"8\": 9, \"15\": 1}, \"7\": {\"7\": 884, \"2\": 132, \"9\": 52, \"3\": 46, \"8\": 61, \"4\": 6, \"13\": 5, \"6\": 13, \"14\": 1}, \"2\": {\"3\": 85, \"9\": 278, \"2\": 551, \"12\": 64, \"7\": 135, \"1\": 16, \"5\": 8, \"13\": 59, \"15\": 3, \"8\": 1}, \"8\": {\"8\": 908, \"7\": 60, \"4\": 143, \"14\": 40, \"3\": 18, \"6\": 9, \"10\": 16, \"5\": 3, \"2\": 3}, \"11\": {\"11\": 1199, \"6\": 1}, \"14\": {\"14\": 957, \"6\": 130, \"8\": 32, \"10\": 81}, \"12\": {\"9\": 116, \"12\": 427, \"2\": 50, \"5\": 98, \"0\": 7, \"3\": 260, \"1\": 205, \"4\": 16, \"15\": 15, \"13\": 4, \"8\": 1, \"7\": 1}, \"13\": {\"13\": 1101, \"2\": 61, \"15\": 20, \"1\": 7, \"7\": 1, \"3\": 1, \"9\": 3, \"5\": 2, \"12\": 3, \"0\": 1}, \"9\": {\"9\": 482, \"2\": 306, \"12\": 112, \"1\": 28, \"7\": 55, \"3\": 203, \"15\": 3, \"4\": 3, \"13\": 6, \"5\": 2}, \"5\": {\"15\": 98, \"1\": 189, \"5\": 520, \"0\": 237, \"12\": 107, \"3\": 32, \"4\": 10, \"13\": 3, \"9\": 1, \"8\": 2, \"2\": 1}, \"1\": {\"5\": 182, \"15\": 191, \"3\": 29, \"1\": 565, \"12\": 183, \"0\": 22, \"9\": 21, \"4\": 1, \"13\": 3, \"2\": 3}}, \"ORACLE.run150\": {\"5\": {\"4\": 167, \"5\": 495, \"13\": 178, \"1\": 71, \"7\": 209, \"6\": 70, \"0\": 2, \"10\": 4, \"15\": 4}, \"12\": {\"12\": 1081, \"9\": 81, \"14\": 32, \"11\": 6}, \"14\": {\"14\": 1183, \"12\": 8, \"15\": 1, \"11\": 7, \"9\": 1}, \"4\": {\"7\": 26, \"4\": 612, \"15\": 179, \"6\": 100, \"1\": 143, \"5\": 124, \"13\": 15, \"11\": 1}, \"13\": {\"7\": 157, \"13\": 786, \"6\": 72, \"10\": 13, \"5\": 157, \"4\": 10, \"0\": 2, \"1\": 3}, \"10\": {\"10\": 1102, \"0\": 47, \"7\": 11, \"8\": 14, \"13\": 23, \"5\": 3}, \"9\": {\"9\": 926, \"12\": 106, \"11\": 168}, \"15\": {\"15\": 888, \"6\": 23, \"1\": 176, \"4\": 80, \"11\": 33}, \"6\": {\"6\": 882, \"4\": 89, \"5\": 43, \"2\": 2, \"13\": 64, \"15\": 29, \"1\": 81, \"7\": 9, \"0\": 1}, \"2\": {\"2\": 1118, \"0\": 81, \"13\": 1}, \"0\": {\"0\": 1026, \"2\": 118, \"10\": 50, \"13\": 6}, \"11\": {\"9\": 107, \"11\": 1035, \"15\": 31, \"12\": 11, \"14\": 14, \"1\": 2}, \"3\": {\"3\": 1168, \"8\": 32}, \"8\": {\"8\": 1172, \"10\": 15, \"3\": 13}, \"7\": {\"7\": 768, \"13\": 221, \"10\": 29, \"5\": 167, \"6\": 12, \"4\": 3}, \"1\": {\"4\": 96, \"1\": 791, \"15\": 200, \"6\": 93, \"11\": 6, \"5\": 9, \"2\": 2, \"14\": 1, \"13\": 2}}, \"ORACLE.run126\": {\"7\": {\"7\": 594, \"1\": 9, \"4\": 106, \"2\": 127, \"8\": 98, \"0\": 20, \"3\": 209, \"14\": 14, \"9\": 4, \"15\": 13, \"5\": 4, \"10\": 2}, \"6\": {\"6\": 832, \"9\": 184, \"10\": 83, \"0\": 26, \"15\": 34, \"13\": 16, \"8\": 23, \"4\": 1, \"14\": 1}, \"14\": {\"0\": 155, \"14\": 434, \"1\": 228, \"4\": 222, \"8\": 37, \"10\": 108, \"7\": 14, \"9\": 1, \"2\": 1}, \"15\": {\"15\": 510, \"9\": 334, \"5\": 119, \"6\": 31, \"8\": 69, \"13\": 69, \"7\": 12, \"2\": 41, \"3\": 1, \"10\": 9, \"0\": 4, \"4\": 1}, \"5\": {\"5\": 787, \"8\": 27, \"13\": 141, \"2\": 59, \"15\": 137, \"3\": 3, \"9\": 38, \"7\": 3, \"6\": 1, \"10\": 4}, \"10\": {\"0\": 235, \"14\": 130, \"10\": 501, \"4\": 57, \"8\": 169, \"1\": 23, \"6\": 56, \"9\": 16, \"15\": 6, \"7\": 5, \"5\": 2}, \"4\": {\"4\": 466, \"7\": 84, \"8\": 106, \"0\": 163, \"10\": 55, \"1\": 122, \"14\": 188, \"3\": 8, \"2\": 5, \"9\": 2, \"15\": 1}, \"11\": {\"11\": 1198, \"12\": 2}, \"13\": {\"13\": 851, \"5\": 211, \"15\": 75, \"9\": 30, \"6\": 14, \"2\": 16, \"8\": 1, \"7\": 1, \"3\": 1}, \"2\": {\"3\": 372, \"5\": 112, \"8\": 32, \"2\": 462, \"7\": 151, \"15\": 44, \"9\": 9, \"13\": 6, \"4\": 9, \"0\": 2, \"10\": 1}, \"0\": {\"8\": 123, \"4\": 144, \"14\": 195, \"0\": 369, \"1\": 25, \"10\": 286, \"7\": 25, \"15\": 9, \"9\": 5, \"6\": 18, \"2\": 1}, \"12\": {\"12\": 1198, \"11\": 2}, \"3\": {\"7\": 187, \"3\": 715, \"2\": 290, \"4\": 5, \"8\": 3}, \"9\": {\"15\": 351, \"8\": 83, \"9\": 524, \"10\": 17, \"6\": 143, \"13\": 29, \"7\": 9, \"2\": 3, \"5\": 32, \"0\": 9}, \"8\": {\"15\": 77, \"9\": 87, \"4\": 95, \"8\": 455, \"10\": 145, \"1\": 13, \"2\": 18, \"0\": 126, \"6\": 40, \"7\": 99, \"14\": 23, \"3\": 4, \"5\": 17, \"13\": 1}, \"1\": {\"14\": 252, \"1\": 735, \"0\": 24, \"7\": 17, \"10\": 31, \"4\": 135, \"8\": 4, \"3\": 2}}, \"ORACLE.run132\": {\"7\": {\"7\": 605, \"5\": 184, \"14\": 115, \"4\": 127, \"8\": 6, \"0\": 29, \"13\": 67, \"2\": 42, \"11\": 24, \"3\": 1}, \"2\": {\"2\": 948, \"4\": 203, \"0\": 30, \"7\": 12, \"14\": 1, \"5\": 4, \"8\": 1, \"13\": 1}, \"5\": {\"5\": 472, \"13\": 216, \"8\": 76, \"4\": 117, \"7\": 177, \"2\": 19, \"3\": 48, \"14\": 30, \"0\": 41, \"11\": 4}, \"6\": {\"6\": 1200}, \"13\": {\"5\": 171, \"3\": 97, \"4\": 89, \"13\": 651, \"8\": 57, \"14\": 27, \"7\": 76, \"0\": 20, \"11\": 12}, \"4\": {\"4\": 702, \"7\": 105, \"2\": 206, \"13\": 44, \"5\": 86, \"0\": 49, \"8\": 6, \"14\": 2}, \"3\": {\"3\": 1092, \"13\": 48, \"11\": 19, \"5\": 17, \"8\": 18, \"14\": 6}, \"0\": {\"4\": 62, \"0\": 866, \"5\": 35, \"14\": 24, \"13\": 16, \"8\": 125, \"2\": 35, \"7\": 37}, \"9\": {\"9\": 1199, \"12\": 1}, \"12\": {\"12\": 1200}, \"8\": {\"0\": 93, \"8\": 931, \"5\": 69, \"13\": 77, \"7\": 4, \"14\": 8, \"3\": 11, \"4\": 7}, \"14\": {\"11\": 265, \"14\": 561, \"7\": 216, \"3\": 8, \"13\": 32, \"8\": 17, \"0\": 49, \"2\": 7, \"5\": 32, \"4\": 13}, \"15\": {\"15\": 1187, \"8\": 12, \"3\": 1}, \"11\": {\"14\": 164, \"11\": 982, \"3\": 17, \"13\": 20, \"7\": 17}, \"10\": {\"10\": 1196, \"1\": 4}, \"1\": {\"1\": 1191, \"10\": 9}}, \"ORACLE.run144\": {\"11\": {\"11\": 1122, \"9\": 1, \"13\": 65, \"6\": 12}, \"7\": {\"7\": 751, \"9\": 220, \"2\": 167, \"6\": 49, \"13\": 8, \"10\": 3, \"1\": 1, \"3\": 1}, \"6\": {\"6\": 851, \"9\": 109, \"13\": 196, \"7\": 30, \"2\": 4, \"11\": 10}, \"12\": {\"12\": 929, \"10\": 48, \"3\": 23, \"1\": 199, \"2\": 1}, \"4\": {\"14\": 328, \"4\": 862, \"15\": 5, \"13\": 4, \"5\": 1}, \"13\": {\"13\": 794, \"6\": 209, \"11\": 38, \"9\": 143, \"4\": 10, \"7\": 6}, \"8\": {\"0\": 367, \"8\": 781, \"15\": 33, \"5\": 19}, \"5\": {\"5\": 1039, \"0\": 83, \"14\": 34, \"15\": 34, \"4\": 4, \"8\": 6}, \"14\": {\"4\": 324, \"14\": 784, \"15\": 63, \"5\": 28, \"0\": 1}, \"3\": {\"3\": 1071, \"1\": 113, \"12\": 12, \"2\": 4}, \"10\": {\"10\": 869, \"12\": 110, \"1\": 118, \"2\": 97, \"3\": 4, \"7\": 2}, \"1\": {\"10\": 96, \"12\": 202, \"1\": 705, \"2\": 48, \"3\": 147, \"7\": 2}, \"2\": {\"2\": 859, \"10\": 90, \"7\": 166, \"1\": 67, \"9\": 7, \"3\": 7, \"12\": 4}, \"15\": {\"14\": 77, \"15\": 957, \"0\": 87, \"8\": 21, \"5\": 38, \"4\": 20}, \"9\": {\"7\": 260, \"6\": 117, \"13\": 129, \"9\": 682, \"2\": 10, \"4\": 1, \"3\": 1}, \"0\": {\"0\": 709, \"8\": 333, \"5\": 95, \"15\": 63}}, \"ORACLE.run18\": {\"10\": {\"14\": 222, \"10\": 810, \"13\": 91, \"5\": 26, \"4\": 44, \"1\": 6, \"0\": 1}, \"6\": {\"6\": 694, \"0\": 62, \"4\": 135, \"7\": 271, \"13\": 24, \"14\": 7, \"8\": 7}, \"13\": {\"13\": 403, \"0\": 312, \"4\": 194, \"14\": 116, \"6\": 36, \"10\": 130, \"7\": 7, \"5\": 2}, \"3\": {\"3\": 1043, \"2\": 101, \"12\": 53, \"15\": 3}, \"9\": {\"9\": 1200}, \"1\": {\"1\": 866, \"11\": 227, \"14\": 73, \"5\": 18, \"10\": 13, \"4\": 2, \"13\": 1}, \"5\": {\"5\": 1092, \"1\": 43, \"10\": 53, \"14\": 10, \"11\": 2}, \"11\": {\"1\": 338, \"11\": 834, \"14\": 5, \"8\": 8, \"5\": 12, \"6\": 2, \"10\": 1}, \"4\": {\"14\": 176, \"4\": 582, \"6\": 130, \"13\": 216, \"0\": 48, \"10\": 42, \"7\": 3, \"1\": 2, \"11\": 1}, \"14\": {\"14\": 657, \"4\": 178, \"10\": 197, \"1\": 68, \"13\": 85, \"6\": 6, \"5\": 3, \"11\": 2, \"0\": 4}, \"12\": {\"12\": 642, \"15\": 375, \"3\": 150, \"8\": 20, \"2\": 13}, \"7\": {\"7\": 835, \"6\": 296, \"0\": 54, \"8\": 6, \"2\": 2, \"13\": 2, \"4\": 3, \"15\": 2}, \"0\": {\"6\": 48, \"4\": 55, \"13\": 237, \"0\": 752, \"10\": 16, \"7\": 90, \"14\": 2}, \"15\": {\"12\": 254, \"15\": 874, \"2\": 9, \"8\": 59, \"3\": 3, \"7\": 1}, \"2\": {\"2\": 971, \"3\": 156, \"7\": 19, \"15\": 40, \"12\": 12, \"8\": 2}, \"8\": {\"8\": 1134, \"15\": 53, \"11\": 1, \"7\": 3, \"12\": 3, \"6\": 6}}, \"ORACLE.run138\": {\"4\": {\"4\": 1133, \"12\": 60, \"7\": 4, \"10\": 3}, \"7\": {\"0\": 143, \"7\": 961, \"5\": 54, \"8\": 40, \"3\": 1, \"10\": 1}, \"12\": {\"12\": 1166, \"4\": 28, \"10\": 5, \"0\": 1}, \"10\": {\"13\": 129, \"10\": 931, \"7\": 12, \"8\": 45, \"4\": 5, \"15\": 11, \"5\": 8, \"12\": 8, \"0\": 20, \"14\": 18, \"11\": 7, \"2\": 6}, \"0\": {\"7\": 156, \"0\": 625, \"5\": 103, \"8\": 210, \"3\": 55, \"10\": 33, \"12\": 4, \"9\": 5, \"13\": 5, \"15\": 3, \"6\": 1}, \"1\": {\"1\": 1138, \"15\": 61, \"5\": 1}, \"5\": {\"5\": 556, \"6\": 39, \"8\": 313, \"7\": 107, \"15\": 53, \"0\": 84, \"13\": 7, \"1\": 3, \"9\": 32, \"10\": 6}, \"15\": {\"5\": 31, \"15\": 919, \"1\": 92, \"13\": 98, \"8\": 45, \"10\": 10, \"2\": 5}, \"9\": {\"9\": 841, \"6\": 314, \"3\": 26, \"5\": 16, \"7\": 3}, \"11\": {\"11\": 1061, \"14\": 108, \"2\": 8, \"10\": 15, \"13\": 3, \"12\": 4, \"4\": 1}, \"14\": {\"14\": 1078, \"2\": 78, \"10\": 10, \"13\": 4, \"11\": 27, \"12\": 3}, \"6\": {\"6\": 1050, \"9\": 138, \"5\": 12}, \"8\": {\"0\": 118, \"8\": 720, \"5\": 250, \"13\": 4, \"7\": 53, \"10\": 23, \"15\": 31, \"1\": 1}, \"3\": {\"3\": 1138, \"9\": 30, \"7\": 12, \"5\": 2, \"0\": 17, \"8\": 1}, \"2\": {\"2\": 1100, \"13\": 30, \"14\": 68, \"15\": 2}, \"13\": {\"13\": 873, \"10\": 111, \"15\": 162, \"0\": 3, \"8\": 14, \"2\": 28, \"5\": 4, \"1\": 5}}, \"Wisig_3\": {\"110\": {\"110\": 78, \"44\": 1, \"114\": 5, \"3\": 1, \"1\": 1, \"70\": 1, \"87\": 1, \"11\": 1, \"88\": 2, \"43\": 1}, \"1\": {\"1\": 104, \"105\": 2, \"122\": 1, \"69\": 1}, \"2\": {\"123\": 2, \"2\": 15, \"18\": 1, \"26\": 2, \"64\": 2, \"113\": 1, \"89\": 1, \"121\": 2, \"69\": 1, \"23\": 1}, \"94\": {\"94\": 64, \"113\": 1, \"70\": 1, \"125\": 2, \"30\": 1, \"106\": 1, \"27\": 3, \"110\": 1, \"96\": 1, \"15\": 3, \"88\": 1, \"8\": 2, \"0\": 2, \"39\": 1}, \"64\": {\"64\": 20}, \"78\": {\"22\": 2, \"32\": 1, \"121\": 1, \"17\": 1, \"87\": 3, \"11\": 1, \"74\": 1, \"31\": 2, \"51\": 1, \"55\": 1, \"93\": 1, \"21\": 1}, \"47\": {\"47\": 9, \"12\": 2, \"18\": 1}, \"127\": {\"127\": 118, \"91\": 2, \"49\": 1, \"5\": 2, \"108\": 1, \"124\": 1, \"7\": 1, \"111\": 1, \"18\": 1}, \"89\": {\"89\": 28}, \"79\": {\"79\": 12}, \"22\": {\"22\": 16}, \"117\": {\"117\": 108, \"121\": 2, \"109\": 2}, \"49\": {\"14\": 4, \"47\": 1, \"124\": 3, \"1\": 2, \"107\": 3, \"49\": 3, \"101\": 1, \"114\": 1, \"83\": 1, \"73\": 3, \"96\": 1, \"0\": 1}, \"14\": {\"14\": 74, \"113\": 1, \"16\": 2, \"107\": 2, \"11\": 1}, \"103\": {\"103\": 15, \"105\": 1}, \"123\": {\"123\": 16}, \"98\": {\"98\": 113, \"52\": 2, \"118\": 1, \"124\": 3, \"12\": 1, \"127\": 2, \"77\": 1, \"23\": 1, \"33\": 1, \"117\": 1, \"10\": 1, \"102\": 1}, \"18\": {\"18\": 107, \"117\": 1}, \"61\": {\"61\": 16}, \"108\": {\"85\": 2, \"108\": 85, \"47\": 1, \"110\": 2, \"3\": 1, \"83\": 1, \"124\": 13, \"8\": 3, \"70\": 5, \"111\": 1, \"10\": 4, \"98\": 3, \"52\": 2, \"16\": 1, \"88\": 1, \"113\": 1}, \"100\": {\"107\": 2, \"100\": 14}, \"0\": {\"0\": 88, \"15\": 16, \"70\": 1, \"39\": 1, \"49\": 1, \"30\": 5, \"8\": 2, \"88\": 1, \"73\": 1}, \"107\": {\"107\": 129, \"80\": 1}, \"58\": {\"58\": 16}, \"8\": {\"8\": 100, \"0\": 4, \"108\": 1, \"124\": 1, \"101\": 2, \"12\": 3, \"106\": 5, \"98\": 2, \"30\": 2}, \"85\": {\"85\": 31, \"124\": 3, \"128\": 2}, \"31\": {\"31\": 16, \"29\": 3, \"36\": 1}, \"81\": {\"81\": 31, \"61\": 1}, \"60\": {\"107\": 2, \"32\": 1, \"60\": 12, \"31\": 2, \"86\": 1, \"48\": 2, \"98\": 2, \"53\": 1, \"1\": 1, \"3\": 1, \"100\": 1, \"69\": 1, \"122\": 1}, \"102\": {\"102\": 114, \"33\": 1, \"118\": 1}, \"19\": {\"98\": 2, \"129\": 3, \"19\": 8, \"32\": 2, \"100\": 2, \"77\": 1, \"15\": 1, \"107\": 2, \"124\": 3, \"14\": 1, \"85\": 1, \"51\": 1, \"34\": 1, \"46\": 1, \"60\": 1, \"49\": 1, \"106\": 1}, \"23\": {\"85\": 3, \"23\": 7, \"66\": 1, \"67\": 1, \"10\": 2, \"117\": 2, \"41\": 1, \"81\": 2, \"18\": 2, \"68\": 1, \"72\": 1, \"49\": 1, \"63\": 1, \"109\": 1, \"91\": 1, \"98\": 1, \"71\": 2, \"39\": 1, \"124\": 1}, \"32\": {\"32\": 22, \"57\": 1, \"48\": 1, \"60\": 1, \"129\": 1, \"107\": 2, \"28\": 1, \"74\": 1, \"79\": 1, \"38\": 1}, \"39\": {\"123\": 2, \"39\": 56, \"67\": 2, \"118\": 5, \"113\": 15, \"126\": 4, \"117\": 12, \"26\": 3, \"92\": 2, \"109\": 2, \"23\": 1, \"21\": 1, \"33\": 1, \"18\": 2}, \"129\": {\"100\": 1, \"129\": 20, \"107\": 1, \"23\": 1, \"49\": 4, \"5\": 1, \"34\": 1, \"19\": 1, \"53\": 1, \"1\": 1}, \"71\": {\"99\": 2, \"71\": 56, \"5\": 7, \"127\": 2, \"109\": 1}, \"91\": {\"91\": 17, \"62\": 1, \"111\": 2, \"72\": 2, \"70\": 1, \"44\": 1}, \"101\": {\"101\": 39, \"126\": 1, \"12\": 1, \"30\": 1, \"106\": 4, \"98\": 2, \"113\": 1, \"15\": 3}, \"62\": {\"62\": 115, \"84\": 2, \"102\": 1, \"88\": 1, \"26\": 1, \"36\": 1, \"118\": 1}, \"63\": {\"63\": 16}, \"125\": {\"125\": 107, \"111\": 6, \"26\": 1, \"101\": 2, \"12\": 1, \"15\": 1, \"72\": 2}, \"57\": {\"57\": 16, \"48\": 2, \"1\": 1, \"122\": 1}, \"28\": {\"28\": 16}, \"70\": {\"70\": 30, \"47\": 1, \"123\": 2, \"39\": 3, \"88\": 5, \"24\": 1, \"110\": 2, \"126\": 5, \"5\": 5, \"108\": 6, \"11\": 1, \"124\": 3, \"61\": 1, \"85\": 2, \"114\": 1, \"83\": 2, \"69\": 1, \"18\": 1}, \"99\": {\"99\": 29, \"7\": 2, \"21\": 1, \"27\": 1, \"71\": 2, \"42\": 1}, \"121\": {\"121\": 20, \"67\": 5, \"26\": 3, \"117\": 1, \"2\": 1, \"97\": 1, \"113\": 1}, \"4\": {\"86\": 3, \"4\": 83, \"103\": 2, \"105\": 3, \"34\": 2, \"117\": 1, \"5\": 2}, \"80\": {\"80\": 11, \"76\": 2, \"16\": 1, \"14\": 1, \"119\": 1}, \"51\": {\"15\": 1, \"51\": 12, \"106\": 1, \"111\": 1, \"73\": 1}, \"3\": {\"3\": 104, \"128\": 2, \"30\": 1, \"70\": 1, \"5\": 2, \"71\": 1, \"98\": 2, \"127\": 2, \"8\": 1}, \"9\": {\"66\": 1, \"9\": 28, \"99\": 2, \"103\": 1}, \"53\": {\"53\": 16, \"122\": 2, \"17\": 1, \"81\": 1}, \"30\": {\"30\": 61, \"101\": 1, \"97\": 1, \"24\": 1, \"83\": 1, \"0\": 7, \"94\": 2, \"112\": 1, \"69\": 1, \"42\": 1, \"15\": 4, \"88\": 1, \"36\": 1, \"110\": 1}, \"33\": {\"33\": 107, \"116\": 2, \"69\": 7, \"39\": 2, \"102\": 4}, \"15\": {\"15\": 90, \"94\": 1, \"6\": 1, \"0\": 3, \"101\": 1, \"30\": 3, \"8\": 2, \"97\": 1, \"12\": 1, \"88\": 1}, \"97\": {\"4\": 1, \"97\": 18, \"30\": 1}, \"86\": {\"86\": 25, \"105\": 2, \"81\": 1}, \"20\": {\"20\": 16}, \"66\": {\"66\": 13, \"80\": 1, \"3\": 2}, \"10\": {\"10\": 71, \"73\": 2, \"34\": 1, \"129\": 1, \"77\": 1, \"111\": 2, \"71\": 2, \"127\": 16, \"8\": 1, \"3\": 2, \"88\": 2, \"124\": 3, \"98\": 6, \"46\": 1, \"12\": 1, \"112\": 2, \"108\": 3, \"41\": 1, \"114\": 2, \"62\": 1, \"5\": 1}, \"29\": {\"29\": 30, \"44\": 1, \"31\": 1}, \"109\": {\"109\": 62, \"63\": 1, \"33\": 10, \"119\": 2, \"116\": 1, \"2\": 1, \"5\": 1, \"69\": 4, \"43\": 5, \"118\": 9, \"102\": 6, \"39\": 1, \"84\": 1, \"92\": 2, \"62\": 2, \"23\": 2, \"26\": 2, \"113\": 2}, \"52\": {\"58\": 1, \"52\": 15}, \"67\": {\"67\": 15, \"121\": 1}, \"83\": {\"83\": 18, \"121\": 1, \"43\": 1, \"128\": 2, \"15\": 2}, \"72\": {\"72\": 26, \"52\": 1, \"88\": 1}, \"90\": {\"90\": 123, \"18\": 1, \"117\": 1, \"29\": 1}, \"69\": {\"69\": 71, \"89\": 6, \"62\": 2, \"107\": 1, \"102\": 2, \"33\": 2}, \"88\": {\"70\": 4, \"88\": 59, \"11\": 4, \"49\": 6, \"110\": 11, \"113\": 1, \"122\": 2, \"114\": 8, \"126\": 1, \"108\": 2, \"129\": 2, \"78\": 1, \"19\": 1, \"66\": 1, \"85\": 1, \"5\": 5, \"39\": 1, \"3\": 1, \"36\": 1}, \"115\": {\"115\": 16}, \"73\": {\"73\": 30, \"92\": 1, \"72\": 2, \"88\": 1, \"42\": 1, \"27\": 1, \"108\": 1, \"76\": 1, \"30\": 2}, \"34\": {\"32\": 2, \"6\": 1, \"91\": 1, \"34\": 11, \"50\": 1, \"14\": 4, \"107\": 1, \"90\": 1, \"37\": 1, \"105\": 1, \"65\": 1, \"128\": 1, \"53\": 1, \"51\": 4, \"58\": 1}, \"25\": {\"25\": 16}, \"44\": {\"44\": 69, \"90\": 1, \"16\": 2}, \"112\": {\"112\": 15, \"30\": 1}, \"37\": {\"56\": 2, \"37\": 12, \"9\": 2}, \"77\": {\"77\": 16}, \"111\": {\"111\": 112, \"58\": 2, \"73\": 2, \"12\": 1, \"127\": 1, \"126\": 1, \"98\": 1, \"125\": 1, \"10\": 1}, \"119\": {\"119\": 16}, \"56\": {\"56\": 12}, \"5\": {\"5\": 95, \"3\": 10, \"128\": 1, \"126\": 1, \"105\": 2, \"4\": 2, \"87\": 1}, \"122\": {\"122\": 44, \"110\": 1, \"129\": 1, \"1\": 4, \"121\": 1, \"107\": 3, \"60\": 2, \"126\": 1, \"32\": 1, \"117\": 1, \"23\": 1}, \"74\": {\"74\": 14, \"116\": 1, \"57\": 1}, \"11\": {\"11\": 98, \"109\": 1, \"82\": 1, \"14\": 14, \"16\": 6, \"90\": 10, \"2\": 1, \"93\": 6, \"87\": 2, \"39\": 2, \"107\": 2, \"31\": 2, \"84\": 3, \"110\": 1, \"23\": 1, \"88\": 1, \"113\": 1}, \"41\": {\"41\": 15, \"127\": 1}, \"104\": {\"104\": 15, \"105\": 1}, \"21\": {\"21\": 45, \"101\": 2, \"117\": 1}, \"118\": {\"118\": 64, \"62\": 1, \"59\": 1, \"43\": 3, \"109\": 5, \"102\": 11, \"26\": 2, \"33\": 5, \"69\": 5, \"11\": 1, \"80\": 1, \"24\": 1}, \"40\": {\"40\": 117, \"81\": 1, \"62\": 3, \"87\": 1}, \"6\": {\"6\": 14, \"94\": 1, \"125\": 2, \"25\": 1, \"54\": 1, \"59\": 2, \"106\": 2, \"36\": 2, \"0\": 2, \"15\": 3, \"124\": 2}, \"27\": {\"94\": 1, \"15\": 1, \"25\": 3, \"27\": 68, \"54\": 2, \"24\": 2, \"30\": 1, \"36\": 15, \"61\": 1, \"0\": 2}, \"113\": {\"113\": 87, \"117\": 5, \"43\": 2, \"26\": 12, \"18\": 4, \"39\": 4, \"121\": 1, \"67\": 3, \"126\": 2}, \"68\": {\"68\": 16}, \"12\": {\"12\": 86, \"98\": 3, \"124\": 4, \"111\": 6, \"52\": 1, \"8\": 1, \"0\": 1}, \"54\": {\"54\": 16}, \"24\": {\"24\": 31, \"54\": 1, \"30\": 2, \"36\": 4, \"75\": 2, \"126\": 1, \"27\": 2, \"73\": 1, \"12\": 1, \"18\": 1, \"70\": 2}, \"106\": {\"106\": 86, \"59\": 1, \"58\": 2, \"101\": 1, \"125\": 1, \"85\": 1, \"6\": 1, \"111\": 2, \"87\": 1, \"73\": 1, \"113\": 1, \"15\": 2}, \"128\": {\"68\": 1, \"48\": 1, \"77\": 1, \"32\": 4, \"46\": 2, \"124\": 6, \"55\": 1, \"12\": 1, \"1\": 1, \"85\": 2, \"128\": 5, \"98\": 2, \"105\": 1, \"42\": 1, \"122\": 2, \"111\": 1}, \"48\": {\"4\": 2, \"116\": 1, \"104\": 1, \"60\": 1, \"33\": 3, \"92\": 1, \"86\": 1, \"84\": 2, \"95\": 3, \"103\": 1}, \"92\": {\"92\": 28, \"102\": 2, \"26\": 1, \"82\": 1}, \"35\": {\"35\": 10, \"24\": 1, \"27\": 1}, \"116\": {\"116\": 14, \"22\": 1, \"48\": 1, \"43\": 1, \"57\": 1, \"82\": 3, \"31\": 1, \"109\": 1, \"23\": 2, \"64\": 1, \"92\": 1, \"44\": 1}, \"38\": {\"38\": 13, \"13\": 1, \"48\": 2}, \"126\": {\"81\": 5, \"126\": 109, \"26\": 1, \"18\": 5, \"113\": 2, \"39\": 2}, \"46\": {\"46\": 15, \"77\": 1}, \"120\": {\"120\": 20}, \"7\": {\"7\": 101, \"4\": 6, \"105\": 2, \"34\": 2, \"16\": 1}, \"13\": {\"13\": 8, \"76\": 1, \"69\": 2, \"70\": 1, \"2\": 1, \"120\": 1, \"33\": 1, \"17\": 1}, \"43\": {\"102\": 1, \"43\": 23, \"118\": 6, \"31\": 1, \"33\": 2, \"109\": 4, \"92\": 2, \"2\": 1, \"96\": 2, \"62\": 3, \"82\": 1, \"113\": 3, \"18\": 1, \"69\": 1, \"83\": 1, \"23\": 1, \"126\": 2, \"39\": 1}, \"93\": {\"93\": 128, \"11\": 1, \"18\": 1, \"16\": 2}, \"26\": {\"26\": 129, \"126\": 1, \"81\": 2}, \"76\": {\"76\": 16}, \"59\": {\"59\": 11, \"106\": 1}, \"65\": {\"65\": 8, \"66\": 1, \"64\": 1, \"128\": 2}, \"87\": {\"87\": 85, \"32\": 2, \"14\": 2, \"60\": 1, \"29\": 3, \"50\": 1, \"11\": 4, \"84\": 3, \"40\": 4, \"90\": 3, \"44\": 5, \"107\": 1, \"62\": 1, \"22\": 1, \"74\": 1, \"28\": 1, \"126\": 1, \"1\": 1}, \"124\": {\"124\": 117, \"127\": 2, \"12\": 2, \"89\": 1, \"32\": 1, \"113\": 1}, \"84\": {\"84\": 98, \"44\": 5, \"94\": 1, \"69\": 2, \"29\": 1, \"62\": 1}, \"82\": {\"82\": 23, \"84\": 2, \"29\": 2, \"116\": 1}, \"75\": {\"75\": 16}, \"17\": {\"103\": 1, \"23\": 1, \"116\": 1, \"104\": 1, \"7\": 2, \"69\": 1, \"109\": 1, \"113\": 2, \"17\": 2, \"106\": 1, \"86\": 1, \"56\": 1, \"73\": 1}, \"105\": {\"4\": 3, \"105\": 119, \"103\": 1, \"122\": 1}, \"95\": {\"95\": 30, \"99\": 1, \"55\": 1}, \"42\": {\"0\": 1, \"15\": 1, \"42\": 10, \"73\": 1, \"97\": 1, \"106\": 2, \"59\": 2, \"94\": 1, \"70\": 1, \"128\": 1, \"112\": 2, \"46\": 1, \"101\": 1, \"85\": 2, \"83\": 1}, \"55\": {\"55\": 15, \"105\": 1}, \"16\": {\"16\": 108, \"11\": 5, \"93\": 2, \"113\": 1}, \"50\": {\"50\": 16}, \"96\": {\"96\": 20}, \"45\": {\"45\": 14, \"14\": 2}, \"36\": {\"36\": 104, \"24\": 2, \"27\": 9, \"125\": 2, \"30\": 3}, \"114\": {\"114\": 111, \"101\": 1, \"3\": 2, \"0\": 1, \"1\": 4, \"5\": 1, \"84\": 1, \"39\": 1, \"106\": 1, \"117\": 1}}, \"Wisig_4\": {\"113\": {\"35\": 2, \"113\": 88, \"18\": 3, \"2\": 2, \"121\": 1, \"117\": 10, \"26\": 7, \"39\": 1, \"109\": 2, \"123\": 1, \"63\": 1, \"126\": 2, \"27\": 1, \"106\": 1, \"16\": 2}, \"85\": {\"55\": 2, \"85\": 24, \"36\": 1, \"30\": 1}, \"34\": {\"49\": 3, \"34\": 5, \"71\": 2, \"62\": 1, \"119\": 1, \"60\": 2, \"23\": 1, \"75\": 1, \"47\": 4, \"114\": 1, \"91\": 2, \"46\": 1, \"124\": 3, \"58\": 2, \"120\": 1, \"12\": 2}, \"55\": {\"55\": 14, \"95\": 1, \"4\": 1}, \"42\": {\"42\": 11, \"8\": 3, \"20\": 1, \"111\": 4, \"6\": 2, \"129\": 1, \"100\": 1, \"47\": 1, \"0\": 2, \"112\": 1, \"19\": 1}, \"13\": {\"13\": 15, \"38\": 1}, \"69\": {\"13\": 2, \"69\": 94, \"39\": 1, \"7\": 1, \"84\": 6, \"90\": 4, \"88\": 1, \"102\": 6, \"26\": 1, \"44\": 2, \"62\": 1, \"118\": 2, \"21\": 1, \"40\": 1, \"16\": 1}, \"35\": {\"35\": 12}, \"83\": {\"83\": 20, \"21\": 1, \"73\": 1, \"71\": 3, \"128\": 2, \"88\": 1}, \"51\": {\"51\": 5, \"21\": 2, \"62\": 2, \"1\": 1, \"12\": 1, \"101\": 1, \"126\": 1, \"68\": 2, \"98\": 1}, \"72\": {\"72\": 27, \"99\": 3, \"40\": 1, \"11\": 1}, \"24\": {\"24\": 64, \"30\": 10, \"10\": 13, \"21\": 1, \"106\": 4, \"94\": 8, \"15\": 3, \"36\": 8, \"117\": 1, \"27\": 5, \"68\": 1, \"91\": 1, \"97\": 1}, \"53\": {\"53\": 13, \"92\": 1, \"111\": 2}, \"8\": {\"8\": 96, \"106\": 10, \"53\": 1, \"97\": 2, \"12\": 3, \"109\": 1, \"112\": 1, \"110\": 1, \"27\": 1, \"101\": 8, \"0\": 4, \"15\": 1, \"127\": 1, \"111\": 6, \"126\": 1, \"26\": 2, \"58\": 1, \"18\": 2, \"42\": 1, \"10\": 1}, \"49\": {\"72\": 2, \"11\": 5, \"8\": 4, \"32\": 1, \"5\": 3, \"15\": 1, \"42\": 1, \"12\": 1, \"3\": 1, \"89\": 2, \"111\": 2, \"122\": 1, \"129\": 1, \"49\": 5, \"82\": 1, \"14\": 1}, \"21\": {\"21\": 37, \"23\": 1, \"113\": 1, \"126\": 1}, \"18\": {\"18\": 102, \"84\": 2, \"63\": 1, \"35\": 1, \"26\": 10, \"24\": 1, \"16\": 2, \"108\": 1}, \"114\": {\"114\": 97, \"71\": 8, \"28\": 1, \"85\": 1, \"4\": 1, \"113\": 1, \"7\": 3, \"3\": 5, \"1\": 1}, \"58\": {\"58\": 13, \"45\": 1, \"12\": 2}, \"56\": {\"56\": 12}, \"80\": {\"80\": 16}, \"11\": {\"11\": 106, \"32\": 2, \"99\": 1, \"5\": 6, \"110\": 3, \"87\": 6, \"93\": 1, \"40\": 1, \"14\": 6, \"3\": 6, \"107\": 11, \"7\": 1, \"20\": 1, \"73\": 1, \"43\": 1, \"71\": 1}, \"15\": {\"15\": 106, \"9\": 1, \"97\": 1, \"105\": 1, \"94\": 2, \"106\": 1, \"36\": 1, \"8\": 6, \"30\": 4, \"40\": 1, \"6\": 1, \"12\": 2, \"69\": 1}, \"50\": {\"50\": 10, \"107\": 2, \"115\": 4}, \"111\": {\"111\": 127, \"106\": 5, \"101\": 2, \"12\": 1, \"98\": 2, \"27\": 1}, \"108\": {\"108\": 41, \"49\": 2, \"19\": 1, \"93\": 10, \"88\": 3, \"70\": 2, \"78\": 1, \"106\": 2, \"110\": 4, \"71\": 1, \"5\": 8, \"24\": 1, \"73\": 2, \"20\": 1, \"119\": 2, \"18\": 1, \"10\": 1, \"39\": 1, \"43\": 1, \"124\": 1, \"11\": 1, \"3\": 3, \"14\": 1, \"8\": 1}, \"104\": {\"104\": 14, \"40\": 1, \"87\": 1}, \"32\": {\"32\": 13, \"60\": 1, \"107\": 2, \"11\": 1, \"66\": 1, \"50\": 1, \"74\": 1, \"1\": 1, \"14\": 1, \"122\": 1, \"99\": 1, \"40\": 3, \"90\": 1}, \"68\": {\"111\": 2, \"68\": 13, \"51\": 1}, \"73\": {\"73\": 22, \"108\": 1, \"20\": 1}, \"92\": {\"92\": 22, \"44\": 2, \"69\": 2, \"118\": 2}, \"57\": {\"57\": 16}, \"40\": {\"40\": 123, \"82\": 1, \"108\": 1, \"81\": 1, \"87\": 2, \"107\": 2, \"126\": 2, \"72\": 2, \"11\": 2}, \"71\": {\"71\": 86, \"114\": 8, \"3\": 1, \"105\": 2, \"10\": 1, \"126\": 1, \"52\": 1, \"4\": 2, \"113\": 1, \"11\": 1}, \"121\": {\"121\": 17, \"84\": 4, \"117\": 1, \"21\": 1, \"90\": 1, \"39\": 1, \"123\": 1, \"63\": 1, \"44\": 2, \"67\": 1, \"18\": 2}, \"62\": {\"62\": 36, \"118\": 2, \"2\": 2, \"26\": 1, \"22\": 2, \"31\": 1, \"21\": 2, \"44\": 4, \"84\": 4, \"38\": 2, \"126\": 1, \"106\": 1, \"39\": 1, \"61\": 1}, \"39\": {\"39\": 59, \"109\": 5, \"88\": 1, \"126\": 4, \"102\": 2, \"81\": 3, \"26\": 2, \"113\": 9, \"18\": 6, \"117\": 6, \"84\": 1, \"16\": 1, \"94\": 1}, \"107\": {\"107\": 130, \"44\": 1, \"40\": 2, \"105\": 3, \"1\": 1, \"99\": 1, \"69\": 1, \"87\": 4, \"11\": 1}, \"60\": {\"129\": 2, \"18\": 1, \"60\": 5, \"83\": 1, \"96\": 1, \"22\": 2, \"46\": 2, \"11\": 1, \"120\": 1, \"71\": 1, \"112\": 1, \"32\": 2, \"19\": 1, \"14\": 1, \"74\": 2, \"23\": 1, \"33\": 1, \"44\": 1, \"40\": 1, \"90\": 2, \"70\": 1, \"87\": 1}, \"129\": {\"0\": 5, \"11\": 1, \"129\": 8, \"74\": 1, \"112\": 1, \"114\": 1, \"19\": 2, \"43\": 1, \"52\": 1, \"5\": 1, \"60\": 2, \"75\": 1, \"49\": 2, \"8\": 1}, \"84\": {\"84\": 108, \"69\": 9, \"13\": 3, \"95\": 1, \"113\": 1, \"88\": 2, \"106\": 1, \"92\": 1, \"108\": 2, \"118\": 2, \"16\": 2}, \"106\": {\"106\": 77, \"12\": 6, \"111\": 12, \"113\": 1, \"125\": 1, \"8\": 3, \"101\": 10, \"98\": 3, \"0\": 2, \"88\": 1}, \"87\": {\"60\": 1, \"87\": 87, \"89\": 2, \"105\": 9, \"40\": 6, \"7\": 5, \"107\": 5, \"43\": 1, \"3\": 3, \"14\": 2, \"5\": 1, \"115\": 1, \"76\": 1, \"11\": 5, \"82\": 1, \"110\": 2}, \"110\": {\"110\": 66, \"5\": 11, \"78\": 1, \"11\": 5, \"113\": 1, \"122\": 2, \"24\": 1, \"36\": 1, \"93\": 3, \"14\": 1, \"43\": 1, \"16\": 1}, \"118\": {\"118\": 63, \"57\": 3, \"31\": 1, \"102\": 5, \"62\": 1, \"96\": 1, \"74\": 1, \"32\": 1, \"116\": 2, \"44\": 8, \"33\": 8, \"90\": 5, \"122\": 2, \"69\": 4, \"22\": 1, \"43\": 1, \"94\": 1, \"40\": 1, \"107\": 2, \"109\": 1}, \"64\": {\"64\": 15, \"106\": 1}, \"82\": {\"129\": 1, \"82\": 21, \"76\": 2, \"23\": 1, \"102\": 1, \"105\": 1, \"40\": 2, \"99\": 2, \"104\": 1}, \"7\": {\"7\": 95, \"99\": 2, \"105\": 9, \"78\": 2, \"107\": 2, \"3\": 3, \"4\": 1, \"71\": 1, \"32\": 1, \"26\": 1, \"40\": 2, \"87\": 1, \"10\": 1, \"11\": 1, \"126\": 1, \"24\": 1}, \"0\": {\"0\": 65, \"12\": 5, \"91\": 1, \"111\": 10, \"101\": 19, \"8\": 4, \"88\": 1, \"98\": 3, \"126\": 1, \"93\": 1, \"112\": 2, \"21\": 2, \"114\": 2}, \"41\": {\"41\": 10, \"102\": 1, \"47\": 1, \"34\": 2, \"4\": 2}, \"102\": {\"102\": 113, \"66\": 1, \"48\": 3, \"44\": 4, \"69\": 3, \"16\": 2, \"126\": 1, \"90\": 1, \"107\": 2}, \"89\": {\"89\": 22, \"82\": 1, \"96\": 1, \"7\": 2, \"17\": 1, \"120\": 1, \"114\": 1, \"40\": 1, \"28\": 2}, \"26\": {\"18\": 8, \"113\": 2, \"26\": 108, \"61\": 1, \"117\": 7, \"69\": 1, \"8\": 1}, \"103\": {\"103\": 11, \"19\": 1, \"106\": 2, \"112\": 1, \"29\": 1}, \"90\": {\"102\": 3, \"90\": 105, \"66\": 2, \"40\": 2, \"69\": 4, \"117\": 1, \"113\": 1}, \"14\": {\"14\": 103, \"11\": 2, \"113\": 1, \"109\": 2, \"88\": 1, \"5\": 3}, \"9\": {\"9\": 28}, \"5\": {\"14\": 2, \"5\": 125, \"110\": 1, \"11\": 5, \"113\": 1, \"88\": 1, \"40\": 1}, \"22\": {\"22\": 12, \"118\": 2, \"107\": 2}, \"2\": {\"61\": 1, \"2\": 15, \"18\": 3, \"96\": 1, \"121\": 4, \"16\": 2, \"109\": 1, \"80\": 1}, \"77\": {\"77\": 12}, \"59\": {\"77\": 2, \"59\": 6, \"109\": 1, \"88\": 1, \"111\": 2}, \"127\": {\"127\": 89, \"113\": 1, \"66\": 1, \"8\": 1, \"111\": 2, \"0\": 1, \"124\": 1, \"103\": 2, \"81\": 1, \"10\": 1, \"4\": 2}, \"61\": {\"61\": 14, \"35\": 2}, \"17\": {\"17\": 17, \"81\": 1, \"99\": 2}, \"45\": {\"45\": 15, \"123\": 1}, \"19\": {\"20\": 3, \"19\": 7, \"128\": 1, \"0\": 2, \"14\": 3, \"106\": 1, \"8\": 2, \"52\": 1, \"110\": 1, \"53\": 1, \"5\": 3, \"49\": 1, \"124\": 2}, \"52\": {\"52\": 11, \"98\": 3, \"74\": 1, \"91\": 1, \"29\": 1, \"103\": 1, \"71\": 2}, \"123\": {\"77\": 1, \"123\": 11, \"113\": 2, \"54\": 1, \"75\": 1}, \"20\": {\"20\": 12, \"76\": 1, \"96\": 1, \"19\": 2}, \"112\": {\"112\": 12, \"77\": 1, \"71\": 2, \"61\": 1}, \"37\": {\"37\": 16}, \"29\": {\"29\": 32}, \"128\": {\"100\": 2, \"128\": 8, \"83\": 2, \"53\": 1, \"104\": 1, \"127\": 1, \"115\": 2, \"34\": 1, \"32\": 1, \"112\": 1, \"71\": 1, \"70\": 1, \"89\": 1, \"124\": 1}, \"100\": {\"100\": 15, \"128\": 2, \"11\": 1, \"42\": 2}, \"67\": {\"67\": 3, \"117\": 2, \"102\": 1, \"39\": 1, \"126\": 1, \"116\": 1, \"2\": 1, \"33\": 2, \"13\": 2, \"18\": 2}, \"12\": {\"12\": 82, \"113\": 1, \"8\": 1, \"15\": 1, \"111\": 5, \"99\": 1, \"27\": 1, \"101\": 3, \"106\": 1, \"0\": 1, \"16\": 1, \"70\": 1, \"124\": 1}, \"101\": {\"101\": 93, \"111\": 14, \"0\": 9, \"12\": 2, \"5\": 1, \"26\": 1, \"124\": 1, \"49\": 1, \"8\": 2, \"11\": 1, \"106\": 2, \"3\": 1}, \"76\": {\"76\": 16}, \"70\": {\"88\": 15, \"22\": 1, \"70\": 65, \"23\": 2, \"83\": 2, \"118\": 2, \"124\": 7, \"98\": 7, \"108\": 4, \"27\": 3, \"10\": 1, \"8\": 3, \"71\": 2, \"0\": 1, \"49\": 2, \"4\": 1, \"101\": 2, \"1\": 2, \"114\": 2}, \"31\": {\"39\": 1, \"31\": 11, \"45\": 2, \"44\": 2}, \"86\": {\"86\": 26, \"4\": 2}, \"88\": {\"39\": 2, \"88\": 67, \"19\": 2, \"119\": 1, \"93\": 2, \"49\": 3, \"95\": 1, \"101\": 3, \"124\": 10, \"3\": 5, \"0\": 2, \"114\": 5, \"70\": 9, \"108\": 3, \"71\": 1, \"98\": 1, \"94\": 2, \"69\": 1, \"112\": 2, \"8\": 1, \"83\": 1, \"109\": 1, \"60\": 1, \"10\": 1, \"78\": 1, \"24\": 1, \"5\": 1, \"11\": 2}, \"3\": {\"3\": 98, \"79\": 4, \"107\": 6, \"108\": 1, \"110\": 1, \"1\": 2, \"87\": 2, \"71\": 2, \"14\": 2, \"115\": 1, \"73\": 2, \"52\": 1, \"11\": 3, \"105\": 1}, \"117\": {\"117\": 108, \"126\": 2, \"114\": 1, \"16\": 2, \"63\": 1, \"123\": 1, \"113\": 3, \"26\": 2}, \"30\": {\"30\": 52, \"10\": 5, \"78\": 1, \"15\": 7, \"90\": 1, \"36\": 1, \"27\": 1, \"24\": 1, \"54\": 1, \"9\": 1, \"25\": 2, \"81\": 1, \"94\": 1, \"117\": 1}, \"96\": {\"96\": 17, \"19\": 1, \"48\": 2}, \"27\": {\"27\": 63, \"92\": 1, \"106\": 4, \"8\": 8, \"95\": 2, \"10\": 3, \"88\": 1, \"24\": 3, \"108\": 1, \"113\": 1, \"0\": 3, \"21\": 1, \"94\": 2, \"30\": 2, \"110\": 1, \"97\": 1, \"70\": 1, \"39\": 1, \"15\": 1}, \"122\": {\"122\": 50, \"44\": 8, \"119\": 1, \"116\": 2, \"43\": 4, \"48\": 1, \"33\": 6, \"118\": 3, \"108\": 1, \"90\": 2, \"17\": 2, \"62\": 1, \"109\": 1, \"40\": 1, \"127\": 1}, \"120\": {\"120\": 17, \"21\": 1, \"7\": 2}, \"44\": {\"122\": 1, \"44\": 50, \"48\": 2, \"33\": 2, \"117\": 2, \"18\": 1, \"38\": 2, \"16\": 1, \"118\": 2, \"84\": 1}, \"79\": {\"79\": 15, \"122\": 1}, \"105\": {\"105\": 82, \"40\": 3, \"30\": 1, \"86\": 2, \"88\": 1, \"87\": 2, \"115\": 2, \"89\": 1, \"64\": 2, \"99\": 1, \"81\": 1, \"107\": 1, \"24\": 1}, \"95\": {\"95\": 25, \"85\": 1, \"34\": 2, \"21\": 1, \"114\": 2, \"27\": 1}, \"109\": {\"109\": 67, \"96\": 2, \"43\": 1, \"74\": 1, \"90\": 7, \"48\": 1, \"102\": 13, \"44\": 6, \"5\": 2, \"84\": 5, \"92\": 2, \"93\": 1, \"129\": 1, \"122\": 2, \"39\": 1, \"69\": 2, \"110\": 2}, \"16\": {\"67\": 2, \"16\": 99, \"88\": 1, \"113\": 1, \"102\": 2, \"114\": 1, \"126\": 1, \"13\": 2, \"121\": 2, \"26\": 3, \"18\": 2, \"84\": 2}, \"36\": {\"36\": 80, \"113\": 1, \"70\": 1, \"6\": 1, \"27\": 3, \"24\": 5, \"10\": 3, \"108\": 1, \"39\": 1, \"26\": 1, \"15\": 1}, \"125\": {\"125\": 124, \"6\": 1, \"106\": 2, \"117\": 1, \"101\": 2, \"1\": 2, \"127\": 2, \"111\": 2}, \"97\": {\"9\": 2, \"112\": 1, \"97\": 10, \"10\": 2, \"15\": 1, \"18\": 1, \"24\": 1, \"11\": 2}, \"91\": {\"111\": 2, \"91\": 11, \"54\": 1, \"0\": 1, \"101\": 1, \"103\": 1, \"34\": 1, \"12\": 1, \"52\": 2, \"29\": 2, \"47\": 1}, \"28\": {\"28\": 20}, \"81\": {\"123\": 2, \"81\": 31, \"126\": 1, \"117\": 2}, \"126\": {\"123\": 2, \"126\": 76, \"2\": 1, \"117\": 11, \"78\": 1, \"109\": 3, \"26\": 7, \"18\": 4, \"93\": 1, \"16\": 1, \"39\": 3, \"65\": 1, \"61\": 1, \"113\": 10}, \"4\": {\"4\": 89, \"126\": 1, \"124\": 3, \"39\": 1, \"10\": 1, \"18\": 1, \"86\": 1, \"71\": 2, \"108\": 1, \"127\": 1, \"69\": 1, \"1\": 2}, \"10\": {\"10\": 59, \"36\": 6, \"6\": 1, \"126\": 1, \"15\": 14, \"8\": 4, \"94\": 4, \"27\": 5, \"30\": 10, \"88\": 3, \"24\": 8, \"106\": 1, \"70\": 3, \"0\": 2, \"52\": 1, \"97\": 1, \"39\": 1}, \"63\": {\"63\": 14, \"35\": 2}, \"43\": {\"72\": 4, \"74\": 2, \"22\": 1, \"43\": 54, \"118\": 4, \"78\": 1, \"33\": 10, \"40\": 10, \"5\": 4, \"122\": 4, \"44\": 2, \"10\": 1, \"11\": 6, \"109\": 2, \"107\": 2, \"87\": 4, \"14\": 1, \"105\": 2, \"64\": 1, \"102\": 1, \"110\": 2}, \"116\": {\"116\": 18, \"122\": 1, \"33\": 1, \"90\": 1, \"99\": 1, \"44\": 1, \"13\": 1, \"102\": 2, \"40\": 1, \"118\": 1}, \"1\": {\"1\": 76, \"49\": 1, \"23\": 2, \"99\": 1, \"10\": 1, \"111\": 1, \"114\": 3, \"107\": 4, \"71\": 2, \"3\": 4, \"93\": 1, \"120\": 2, \"87\": 3, \"98\": 1, \"7\": 3, \"108\": 1, \"70\": 1, \"88\": 1}, \"94\": {\"54\": 2, \"15\": 8, \"78\": 1, \"94\": 59, \"30\": 7, \"108\": 1, \"39\": 1, \"106\": 2, \"126\": 1, \"36\": 2, \"24\": 3, \"125\": 1}, \"38\": {\"38\": 12, \"62\": 2, \"13\": 2}, \"54\": {\"54\": 16}, \"74\": {\"74\": 12, \"14\": 2, \"33\": 1, \"122\": 1}, \"25\": {\"25\": 16}, \"75\": {\"75\": 16}, \"119\": {\"119\": 13, \"28\": 2, \"123\": 1}, \"46\": {\"46\": 14, \"128\": 2, \"124\": 2, \"41\": 1, \"44\": 1}, \"23\": {\"23\": 2, \"54\": 1, \"126\": 1, \"111\": 1, \"113\": 1, \"102\": 1, \"39\": 1, \"86\": 3, \"121\": 1, \"109\": 1, \"18\": 1, \"75\": 1, \"98\": 1}, \"99\": {\"99\": 34, \"107\": 3, \"32\": 2, \"40\": 1}, \"33\": {\"33\": 108, \"118\": 1, \"122\": 1, \"90\": 3, \"22\": 1, \"80\": 1, \"24\": 1, \"107\": 2}, \"47\": {\"47\": 9, \"30\": 2, \"10\": 1}, \"115\": {\"115\": 13, \"107\": 2, \"87\": 1}, \"6\": {\"125\": 2, \"6\": 10, \"25\": 1, \"71\": 1, \"58\": 2, \"8\": 2, \"15\": 2, \"12\": 1, \"98\": 1, \"29\": 1, \"27\": 1}, \"65\": {\"65\": 9, \"26\": 3}, \"66\": {\"90\": 3, \"66\": 8, \"84\": 1, \"62\": 2, \"38\": 2}, \"78\": {\"49\": 2, \"8\": 2, \"78\": 6, \"95\": 2, \"87\": 3, \"127\": 1, \"128\": 1, \"108\": 2, \"70\": 2, \"88\": 3, \"107\": 1, \"3\": 1, \"32\": 1, \"111\": 1, \"1\": 3, \"11\": 1, \"109\": 1, \"122\": 2, \"5\": 1}, \"98\": {\"98\": 108, \"71\": 1, \"114\": 1, \"111\": 2, \"1\": 2, \"127\": 1, \"124\": 1}, \"93\": {\"93\": 115, \"69\": 1}, \"48\": {\"48\": 13, \"44\": 2, \"50\": 1}, \"124\": {\"124\": 111, \"4\": 1, \"3\": 1, \"24\": 1}}, \"Wisig_2\": {\"115\": {\"115\": 12}, \"34\": {\"34\": 21, \"91\": 1, \"124\": 2, \"53\": 2, \"11\": 1, \"28\": 1, \"128\": 1, \"35\": 1, \"12\": 2}, \"97\": {\"97\": 16, \"127\": 1, \"90\": 1, \"6\": 1, \"77\": 1}, \"100\": {\"100\": 16}, \"129\": {\"129\": 29, \"73\": 1, \"53\": 1, \"19\": 1}, \"90\": {\"90\": 137, \"118\": 1, \"33\": 3, \"69\": 1}, \"125\": {\"125\": 127, \"98\": 2, \"2\": 1, \"101\": 2}, \"7\": {\"7\": 110, \"10\": 1, \"114\": 2, \"40\": 2, \"71\": 4, \"127\": 1, \"18\": 1, \"117\": 1, \"105\": 2, \"88\": 1, \"107\": 2, \"4\": 1}, \"92\": {\"33\": 2, \"92\": 24, \"48\": 1, \"67\": 1}, \"114\": {\"114\": 105, \"39\": 1, \"122\": 2, \"71\": 5, \"4\": 1, \"12\": 2}, \"80\": {\"80\": 13, \"33\": 1, \"62\": 1, \"26\": 1}, \"16\": {\"16\": 108, \"109\": 2, \"126\": 1, \"44\": 1, \"87\": 2, \"70\": 1, \"90\": 1, \"99\": 1, \"72\": 2, \"88\": 1, \"93\": 2}, \"69\": {\"69\": 102, \"113\": 1, \"18\": 2, \"26\": 5, \"117\": 1, \"84\": 1, \"21\": 1, \"88\": 1, \"90\": 2}, \"102\": {\"102\": 113, \"31\": 1}, \"33\": {\"33\": 118, \"118\": 2, \"90\": 3, \"84\": 5, \"62\": 2}, \"17\": {\"34\": 2, \"17\": 12, \"2\": 1, \"29\": 1}, \"27\": {\"27\": 48, \"25\": 1, \"36\": 8, \"24\": 1, \"126\": 1, \"101\": 1, \"9\": 2, \"30\": 1, \"15\": 3, \"87\": 1, \"94\": 1}, \"117\": {\"117\": 90, \"12\": 1, \"113\": 4, \"26\": 4, \"18\": 4, \"120\": 1, \"102\": 2}, \"14\": {\"14\": 40, \"78\": 1, \"110\": 1, \"129\": 2, \"88\": 1, \"58\": 1, \"46\": 1, \"21\": 1}, \"86\": {\"86\": 32}, \"0\": {\"0\": 100, \"21\": 1, \"52\": 1, \"100\": 1, \"101\": 3, \"106\": 1, \"126\": 1, \"11\": 1, \"8\": 4, \"24\": 1, \"111\": 1, \"94\": 1}, \"62\": {\"62\": 112, \"50\": 2, \"33\": 7, \"84\": 7, \"102\": 1, \"43\": 4, \"90\": 1, \"14\": 1, \"40\": 1, \"15\": 1, \"24\": 1}, \"39\": {\"39\": 55, \"81\": 1, \"78\": 2, \"110\": 1, \"26\": 10, \"118\": 1, \"69\": 6, \"88\": 4, \"93\": 3, \"89\": 1, \"87\": 1, \"94\": 1, \"113\": 1, \"102\": 3, \"18\": 6, \"16\": 2, \"109\": 9, \"121\": 1, \"96\": 1, \"31\": 1, \"90\": 2}, \"19\": {\"44\": 4, \"73\": 2, \"19\": 13, \"35\": 1, \"110\": 1, \"122\": 1, \"1\": 2, \"5\": 1, \"83\": 2, \"4\": 1}, \"44\": {\"44\": 100}, \"104\": {\"86\": 2, \"61\": 1, \"17\": 2, \"104\": 10, \"10\": 2, \"40\": 3}, \"3\": {\"19\": 1, \"86\": 1, \"3\": 108, \"107\": 2, \"109\": 1, \"5\": 7, \"87\": 1, \"24\": 1, \"122\": 3, \"26\": 1, \"21\": 1, \"36\": 1, \"1\": 2}, \"10\": {\"10\": 28, \"104\": 1, \"53\": 1, \"74\": 1, \"5\": 2, \"100\": 1, \"56\": 1, \"95\": 1, \"107\": 4, \"124\": 1, \"78\": 2, \"71\": 1, \"70\": 1, \"44\": 1, \"4\": 2, \"7\": 4, \"21\": 2, \"126\": 1, \"122\": 2, \"18\": 1, \"40\": 1, \"3\": 1}, \"61\": {\"76\": 2, \"61\": 10, \"104\": 1, \"70\": 1, \"64\": 2, \"50\": 2, \"58\": 2}, \"111\": {\"103\": 2, \"111\": 109, \"49\": 1, \"127\": 2}, \"68\": {\"98\": 2, \"68\": 9, \"122\": 1, \"86\": 2, \"54\": 2}, \"101\": {\"101\": 138, \"21\": 1, \"94\": 2, \"71\": 1, \"30\": 2}, \"36\": {\"36\": 106, \"121\": 1, \"27\": 5, \"18\": 1, \"30\": 1, \"24\": 3, \"117\": 2, \"93\": 1, \"16\": 1, \"9\": 1, \"101\": 4, \"4\": 1, \"109\": 1}, \"120\": {\"120\": 16, \"117\": 2, \"65\": 2}, \"103\": {\"103\": 14, \"54\": 2}, \"47\": {\"47\": 10, \"129\": 2}, \"98\": {\"98\": 97, \"35\": 3, \"91\": 3, \"12\": 6, \"8\": 2, \"127\": 3, \"71\": 2, \"33\": 1, \"114\": 2, \"122\": 1}, \"76\": {\"76\": 16}, \"88\": {\"88\": 69, \"93\": 7, \"16\": 5, \"19\": 2, \"14\": 2, \"18\": 1, \"1\": 2, \"109\": 12, \"83\": 2, \"118\": 3, \"44\": 3, \"126\": 4, \"70\": 4, \"87\": 3, \"119\": 1, \"78\": 2, \"23\": 1, \"3\": 1}, \"93\": {\"93\": 119, \"96\": 1, \"16\": 14, \"14\": 1, \"24\": 1, \"102\": 2}, \"23\": {\"120\": 1, \"98\": 3, \"11\": 2, \"19\": 1, \"99\": 4, \"71\": 3, \"72\": 1, \"29\": 2, \"18\": 2, \"12\": 1, \"124\": 5, \"69\": 1, \"126\": 1, \"117\": 3, \"114\": 3, \"84\": 1, \"116\": 2, \"121\": 1, \"34\": 2, \"129\": 1, \"113\": 1, \"5\": 1, \"23\": 2}, \"108\": {\"108\": 91, \"11\": 2, \"10\": 1, \"30\": 1, \"8\": 15, \"126\": 2, \"109\": 1, \"12\": 2, \"98\": 1, \"70\": 1, \"3\": 1, \"107\": 2, \"127\": 1, \"111\": 3}, \"51\": {\"77\": 2, \"79\": 2, \"90\": 1, \"51\": 7, \"8\": 1, \"30\": 1, \"58\": 1, \"54\": 1, \"6\": 1, \"83\": 1, \"127\": 1, \"21\": 1}, \"13\": {\"13\": 8, \"104\": 1, \"118\": 2, \"92\": 2, \"89\": 2, \"71\": 1}, \"77\": {\"77\": 16}, \"46\": {\"46\": 16}, \"96\": {\"96\": 20}, \"119\": {\"119\": 19, \"101\": 1}, \"121\": {\"13\": 2, \"121\": 26, \"117\": 4, \"65\": 2, \"120\": 1, \"102\": 1}, \"54\": {\"54\": 15, \"74\": 1, \"35\": 2, \"104\": 1, \"121\": 1}, \"82\": {\"82\": 32, \"33\": 1, \"60\": 2, \"65\": 1}, \"12\": {\"12\": 61, \"68\": 1, \"108\": 3, \"91\": 3, \"98\": 12, \"10\": 1, \"127\": 2, \"111\": 3, \"0\": 1, \"24\": 1}, \"74\": {\"74\": 13, \"32\": 1, \"43\": 1, \"22\": 1}, \"66\": {\"66\": 18, \"15\": 1, \"27\": 1}, \"28\": {\"28\": 15, \"66\": 1, \"73\": 2, \"32\": 2}, \"52\": {\"52\": 19, \"106\": 1}, \"41\": {\"41\": 18, \"15\": 1, \"125\": 1}, \"81\": {\"81\": 23, \"99\": 1}, \"48\": {\"48\": 20}, \"113\": {\"113\": 58, \"69\": 2, \"117\": 6, \"18\": 2, \"81\": 2, \"5\": 1, \"88\": 1}, \"53\": {\"53\": 16}, \"15\": {\"15\": 100, \"127\": 1, \"97\": 1, \"6\": 3, \"101\": 4, \"94\": 2, \"108\": 1, \"125\": 1, \"24\": 2, \"0\": 3, \"106\": 1, \"30\": 1}, \"30\": {\"30\": 68, \"8\": 7, \"52\": 2, \"97\": 2, \"0\": 2, \"24\": 3, \"10\": 1, \"111\": 3, \"106\": 12, \"94\": 1, \"109\": 1, \"108\": 2, \"58\": 2, \"110\": 1, \"15\": 3, \"84\": 1, \"126\": 1}, \"43\": {\"43\": 95, \"22\": 1, \"33\": 1, \"3\": 1, \"109\": 2, \"1\": 3, \"40\": 5, \"93\": 1, \"105\": 6, \"70\": 2, \"62\": 1, \"80\": 1, \"20\": 1, \"64\": 1, \"87\": 1, \"117\": 1, \"88\": 1}, \"29\": {\"29\": 31, \"91\": 1}, \"109\": {\"109\": 49, \"93\": 8, \"33\": 1, \"99\": 2, \"1\": 1, \"39\": 5, \"119\": 1, \"126\": 2, \"120\": 1, \"90\": 2, \"16\": 6, \"87\": 5, \"88\": 10, \"70\": 1, \"102\": 2, \"84\": 4}, \"60\": {\"43\": 1, \"60\": 11, \"110\": 3, \"46\": 1, \"129\": 1, \"1\": 2, \"99\": 1, \"3\": 3, \"116\": 1, \"70\": 1, \"44\": 1, \"73\": 2}, \"70\": {\"70\": 45, \"60\": 3, \"1\": 11, \"87\": 3, \"50\": 1, \"118\": 1, \"126\": 5, \"78\": 2, \"23\": 2, \"16\": 2, \"88\": 8, \"43\": 10, \"117\": 2, \"33\": 2, \"40\": 4, \"107\": 1, \"93\": 1, \"95\": 1, \"109\": 5, \"5\": 1, \"44\": 1, \"71\": 1, \"21\": 2, \"39\": 2, \"14\": 2, \"3\": 3, \"124\": 1}, \"127\": {\"127\": 105, \"59\": 2, \"91\": 1, \"111\": 2, \"98\": 7, \"12\": 4, \"114\": 2, \"16\": 1}, \"32\": {\"73\": 1, \"29\": 1, \"5\": 1, \"40\": 3, \"60\": 1, \"32\": 12, \"124\": 1, \"112\": 1, \"101\": 1, \"122\": 2, \"129\": 1, \"95\": 1, \"10\": 2, \"11\": 1, \"22\": 1, \"128\": 2, \"43\": 2, \"1\": 2}, \"73\": {\"73\": 19, \"88\": 1, \"71\": 2, \"3\": 6}, \"50\": {\"50\": 13, \"75\": 1, \"21\": 1, \"101\": 1}, \"1\": {\"1\": 112, \"105\": 1, \"117\": 1, \"60\": 3, \"40\": 2, \"93\": 1, \"109\": 1, \"126\": 1, \"33\": 2}, \"106\": {\"106\": 103, \"21\": 1, \"15\": 4, \"30\": 5, \"101\": 1, \"127\": 1, \"112\": 1, \"110\": 1, \"77\": 2, \"88\": 1}, \"123\": {\"123\": 16}, \"79\": {\"79\": 16}, \"4\": {\"4\": 79, \"105\": 2, \"7\": 2, \"94\": 1, \"126\": 1, \"108\": 1, \"5\": 2}, \"2\": {\"121\": 3, \"2\": 22, \"18\": 3, \"72\": 1, \"26\": 2, \"102\": 1}, \"8\": {\"8\": 92, \"42\": 1, \"127\": 2, \"108\": 17, \"126\": 2, \"88\": 2, \"3\": 2, \"70\": 1, \"0\": 1, \"98\": 1, \"11\": 4, \"12\": 1, \"84\": 1, \"71\": 1}, \"83\": {\"83\": 40}, \"105\": {\"74\": 2, \"105\": 103, \"22\": 2, \"40\": 20, \"21\": 1, \"1\": 2}, \"5\": {\"5\": 95, \"53\": 1, \"85\": 1, \"82\": 1, \"128\": 1, \"71\": 1, \"70\": 2, \"3\": 6, \"127\": 2, \"93\": 1, \"88\": 1}, \"99\": {\"99\": 28, \"121\": 2, \"2\": 2}, \"25\": {\"25\": 15, \"49\": 1}, \"59\": {\"59\": 6, \"17\": 1, \"21\": 2, \"103\": 2, \"98\": 2, \"12\": 1, \"93\": 1, \"29\": 1}, \"42\": {\"97\": 1, \"8\": 3, \"52\": 2, \"11\": 1, \"42\": 4, \"111\": 3, \"44\": 1, \"106\": 1, \"129\": 2, \"54\": 1, \"53\": 1, \"10\": 1, \"107\": 2, \"0\": 1, \"98\": 2, \"30\": 1, \"14\": 1}, \"55\": {\"118\": 2, \"55\": 12, \"33\": 2}, \"75\": {\"75\": 16}, \"118\": {\"118\": 36, \"82\": 6, \"90\": 5, \"55\": 1, \"48\": 2, \"84\": 6, \"62\": 2, \"87\": 2, \"89\": 1, \"99\": 1, \"43\": 1, \"83\": 1, \"116\": 2, \"33\": 1, \"102\": 1}, \"95\": {\"55\": 2, \"21\": 1, \"95\": 29, \"40\": 1, \"24\": 1, \"4\": 2}, \"122\": {\"122\": 72, \"68\": 1, \"128\": 1, \"114\": 9, \"88\": 1, \"24\": 1, \"98\": 1, \"10\": 3, \"11\": 2, \"124\": 7, \"8\": 2, \"125\": 1, \"44\": 1, \"5\": 5, \"3\": 6, \"49\": 1, \"4\": 1, \"110\": 2, \"29\": 1, \"71\": 1, \"108\": 1}, \"20\": {\"20\": 12, \"18\": 2, \"26\": 2}, \"110\": {\"110\": 24, \"53\": 1, \"28\": 1, \"26\": 1, \"35\": 1, \"6\": 1, \"21\": 1, \"5\": 3, \"85\": 1, \"39\": 1, \"14\": 1, \"17\": 1, \"99\": 1, \"4\": 2}, \"65\": {\"120\": 1, \"65\": 19}, \"37\": {\"66\": 1, \"37\": 14, \"5\": 1}, \"64\": {\"64\": 16}, \"63\": {\"63\": 19, \"18\": 1}, \"40\": {\"40\": 91, \"105\": 25, \"18\": 2, \"88\": 3, \"1\": 1, \"7\": 3, \"3\": 2, \"93\": 1, \"43\": 4, \"62\": 2, \"16\": 1, \"71\": 1, \"113\": 1, \"4\": 1, \"126\": 1, \"69\": 1}, \"21\": {\"21\": 39, \"117\": 1, \"109\": 2, \"82\": 1, \"88\": 2, \"39\": 1, \"11\": 1, \"18\": 1}, \"11\": {\"11\": 61, \"108\": 3, \"5\": 4, \"124\": 2, \"83\": 1, \"119\": 1, \"86\": 1, \"49\": 1, \"88\": 1, \"28\": 2, \"8\": 2, \"18\": 1}, \"67\": {\"67\": 14, \"62\": 2}, \"91\": {\"91\": 20, \"70\": 1, \"18\": 1, \"98\": 1, \"12\": 2, \"103\": 1, \"11\": 1, \"4\": 1}, \"87\": {\"87\": 60, \"82\": 1, \"62\": 3, \"89\": 1, \"1\": 1, \"90\": 10, \"118\": 5, \"84\": 8, \"93\": 3, \"33\": 5, \"88\": 2, \"109\": 5, \"24\": 1, \"39\": 2, \"10\": 1, \"16\": 2, \"102\": 2}, \"89\": {\"89\": 35, \"18\": 1}, \"9\": {\"9\": 32}, \"124\": {\"124\": 101, \"112\": 1, \"86\": 1, \"29\": 1, \"12\": 1, \"71\": 2, \"3\": 2, \"128\": 2, \"53\": 1, \"122\": 2}, \"56\": {\"56\": 10, \"6\": 1, \"125\": 1}, \"38\": {\"38\": 16}, \"94\": {\"94\": 23, \"9\": 2, \"101\": 9, \"106\": 5, \"88\": 1, \"15\": 11, \"30\": 3, \"36\": 1, \"27\": 1, \"98\": 1, \"0\": 1, \"87\": 1, \"117\": 1, \"7\": 1, \"109\": 1, \"18\": 1, \"8\": 1}, \"6\": {\"6\": 19, \"103\": 1, \"111\": 2, \"30\": 2, \"9\": 1, \"24\": 1, \"125\": 2, \"101\": 1, \"36\": 1, \"51\": 1, \"15\": 1}, \"58\": {\"58\": 13, \"125\": 2, \"42\": 1, \"30\": 2, \"6\": 2}, \"22\": {\"22\": 16, \"40\": 2, \"105\": 2}, \"24\": {\"24\": 73, \"108\": 3, \"118\": 1, \"101\": 5, \"36\": 2, \"42\": 1, \"94\": 3, \"18\": 2, \"30\": 2, \"8\": 2, \"27\": 3, \"70\": 1, \"0\": 3, \"69\": 1, \"15\": 2, \"25\": 1, \"114\": 1, \"117\": 1, \"107\": 1, \"109\": 1, \"126\": 2, \"3\": 1}, \"57\": {\"57\": 20}, \"112\": {\"112\": 10, \"53\": 1, \"24\": 1, \"122\": 3, \"23\": 1}, \"116\": {\"116\": 15, \"118\": 4, \"78\": 2, \"33\": 3, \"90\": 2, \"82\": 1, \"62\": 1}, \"18\": {\"18\": 93, \"99\": 2, \"2\": 1, \"1\": 1, \"89\": 2, \"117\": 3, \"102\": 2, \"26\": 10, \"94\": 1, \"70\": 1, \"16\": 1, \"121\": 2, \"113\": 2, \"90\": 4, \"0\": 1, \"69\": 2}, \"49\": {\"86\": 2, \"49\": 9, \"8\": 1, \"99\": 1, \"73\": 1, \"11\": 2, \"122\": 1, \"29\": 1, \"125\": 1, \"30\": 1, \"127\": 1, \"77\": 2, \"5\": 1}, \"45\": {\"45\": 14, \"44\": 2}, \"107\": {\"5\": 2, \"28\": 4, \"3\": 5, \"107\": 33, \"99\": 1, \"86\": 1, \"0\": 1, \"85\": 2, \"94\": 1, \"105\": 2, \"10\": 1, \"61\": 1, \"24\": 1, \"17\": 1, \"42\": 1, \"32\": 2, \"36\": 1, \"122\": 1, \"14\": 1, \"87\": 1, \"71\": 1}, \"35\": {\"35\": 10, \"127\": 1, \"98\": 1}, \"78\": {\"78\": 19, \"50\": 2, \"64\": 1, \"43\": 7, \"20\": 1, \"14\": 1, \"118\": 1, \"126\": 1, \"39\": 1, \"40\": 2, \"70\": 2, \"71\": 1, \"104\": 1, \"61\": 2, \"11\": 1, \"109\": 2, \"60\": 1, \"87\": 1, \"1\": 1}, \"126\": {\"126\": 112, \"19\": 2, \"44\": 3, \"70\": 1, \"88\": 2}, \"85\": {\"85\": 29, \"110\": 1, \"5\": 2}, \"72\": {\"72\": 23, \"26\": 1, \"116\": 3, \"21\": 1}, \"26\": {\"26\": 113, \"69\": 2, \"18\": 5, \"113\": 2, \"109\": 1, \"117\": 1}, \"84\": {\"84\": 67, \"111\": 1, \"90\": 7, \"33\": 11, \"62\": 2, \"87\": 1, \"113\": 1, \"102\": 1, \"1\": 1}, \"128\": {\"108\": 1, \"107\": 3, \"85\": 3, \"37\": 1, \"111\": 1, \"3\": 5, \"110\": 1, \"128\": 3, \"97\": 2, \"30\": 1, \"0\": 1, \"11\": 1, \"106\": 1}, \"31\": {\"31\": 16, \"72\": 1, \"102\": 1, \"48\": 2}, \"71\": {\"71\": 81, \"7\": 3, \"16\": 1, \"114\": 3, \"122\": 4, \"11\": 1, \"86\": 1, \"53\": 1, \"5\": 3, \"4\": 1, \"3\": 1}}, \"Wisig_1\": {\"22\": {\"22\": 16}, \"58\": {\"58\": 10, \"112\": 1, \"127\": 1}, \"109\": {\"20\": 2, \"109\": 109, \"126\": 9, \"21\": 1, \"3\": 1, \"12\": 2}, \"77\": {\"77\": 16}, \"74\": {\"74\": 16}, \"10\": {\"10\": 68, \"107\": 4, \"40\": 6, \"5\": 2, \"41\": 4, \"86\": 3, \"8\": 8, \"44\": 2, \"84\": 1, \"93\": 7, \"85\": 1, \"4\": 8, \"0\": 2, \"19\": 1, \"36\": 1, \"105\": 1, \"124\": 1}, \"70\": {\"109\": 6, \"70\": 90, \"126\": 8, \"21\": 1, \"2\": 1, \"44\": 6, \"5\": 1, \"93\": 3, \"8\": 4, \"18\": 1, \"10\": 2, \"73\": 1, \"125\": 1, \"124\": 1, \"108\": 2}, \"84\": {\"42\": 1, \"84\": 100, \"23\": 1, \"14\": 2, \"1\": 3, \"114\": 1}, \"52\": {\"52\": 17, \"72\": 1, \"27\": 2}, \"20\": {\"20\": 13, \"97\": 1, \"73\": 2}, \"14\": {\"84\": 5, \"14\": 88, \"113\": 1, \"1\": 2}, \"37\": {\"37\": 16}, \"42\": {\"84\": 2, \"99\": 2, \"60\": 1, \"54\": 1, \"83\": 2, \"42\": 11, \"107\": 1, \"82\": 1, \"33\": 1, \"124\": 1, \"93\": 1, \"114\": 1, \"86\": 1, \"14\": 1, \"109\": 1}, \"99\": {\"99\": 22, \"82\": 2}, \"35\": {\"35\": 11, \"46\": 1}, \"62\": {\"62\": 102, \"33\": 6, \"116\": 1, \"18\": 1, \"69\": 3, \"102\": 4, \"26\": 2, \"113\": 1}, \"61\": {\"61\": 10, \"90\": 2}, \"7\": {\"7\": 133, \"28\": 1, \"66\": 1, \"122\": 1, \"48\": 2, \"43\": 2, \"11\": 1, \"39\": 1}, \"69\": {\"69\": 96, \"102\": 1, \"18\": 2, \"117\": 2, \"39\": 1, \"26\": 2}, \"55\": {\"55\": 12}, \"41\": {\"41\": 16}, \"120\": {\"120\": 19, \"80\": 1}, \"123\": {\"123\": 16}, \"97\": {\"97\": 11, \"75\": 1, \"62\": 1, \"108\": 3, \"59\": 1, \"119\": 1, \"24\": 1, \"126\": 1}, \"102\": {\"102\": 115, \"16\": 1, \"18\": 1, \"113\": 1, \"33\": 1, \"69\": 1}, \"60\": {\"60\": 5, \"18\": 1, \"73\": 2, \"117\": 2, \"66\": 2, \"118\": 1, \"23\": 1, \"19\": 1, \"30\": 1}, \"127\": {\"127\": 94, \"32\": 2, \"4\": 1, \"26\": 1, \"11\": 1, \"78\": 1, \"111\": 6, \"106\": 2}, \"32\": {\"127\": 2, \"32\": 13, \"91\": 2, \"17\": 1, \"34\": 1, \"51\": 2, \"23\": 2, \"111\": 1, \"112\": 2, \"89\": 1, \"58\": 2, \"6\": 2, \"0\": 1}, \"3\": {\"102\": 1, \"61\": 1, \"3\": 68, \"88\": 1, \"15\": 2, \"11\": 7, \"90\": 3, \"36\": 1, \"43\": 1, \"30\": 1, \"33\": 1, \"113\": 1}, \"8\": {\"8\": 109, \"107\": 1, \"5\": 2, \"4\": 3, \"124\": 3, \"84\": 1, \"31\": 1, \"40\": 1, \"93\": 1}, \"129\": {\"119\": 1, \"8\": 1, \"129\": 9, \"100\": 1, \"2\": 1, \"44\": 4, \"128\": 1, \"5\": 1, \"84\": 1, \"3\": 1, \"83\": 2, \"64\": 1, \"19\": 1, \"73\": 1, \"20\": 1, \"33\": 1}, \"119\": {\"119\": 16}, \"21\": {\"109\": 3, \"8\": 1, \"21\": 26, \"78\": 1, \"108\": 1, \"44\": 1, \"89\": 1, \"14\": 1, \"99\": 1, \"31\": 1, \"111\": 1, \"87\": 1, \"9\": 1}, \"53\": {\"53\": 19, \"106\": 1}, \"28\": {\"28\": 19, \"80\": 1}, \"117\": {\"117\": 133, \"16\": 11}, \"112\": {\"58\": 2, \"112\": 14}, \"126\": {\"126\": 126, \"108\": 1, \"44\": 3, \"109\": 1, \"113\": 1, \"104\": 1, \"39\": 1}, \"30\": {\"30\": 38, \"49\": 1, \"24\": 1, \"52\": 2, \"88\": 2, \"108\": 3, \"94\": 1, \"111\": 1, \"27\": 1, \"21\": 1, \"15\": 1}, \"105\": {\"105\": 65, \"26\": 2, \"18\": 1, \"40\": 10, \"41\": 2, \"87\": 2, \"43\": 2}, \"29\": {\"29\": 28}, \"57\": {\"57\": 9, \"38\": 2, \"48\": 1}, \"93\": {\"93\": 83, \"8\": 9, \"105\": 4, \"4\": 7, \"34\": 1, \"86\": 6, \"10\": 6, \"5\": 2, \"87\": 3, \"114\": 2, \"14\": 1, \"43\": 1, \"12\": 1, \"107\": 4, \"40\": 6, \"46\": 1, \"124\": 2, \"109\": 1}, \"17\": {\"0\": 1, \"75\": 1, \"17\": 13, \"85\": 1}, \"44\": {\"44\": 73, \"124\": 2, \"70\": 1}, \"63\": {\"63\": 12, \"16\": 1, \"13\": 2, \"26\": 1}, \"87\": {\"57\": 1, \"87\": 78, \"40\": 5, \"7\": 2, \"8\": 1, \"43\": 5, \"124\": 1, \"109\": 1, \"114\": 10, \"105\": 3, \"126\": 1}, \"0\": {\"0\": 70, \"89\": 2, \"110\": 7, \"122\": 1, \"98\": 2, \"83\": 2}, \"96\": {\"96\": 15, \"25\": 1, \"126\": 1, \"19\": 1, \"18\": 1, \"20\": 1}, \"98\": {\"98\": 104, \"106\": 3, \"110\": 1}, \"75\": {\"75\": 13, \"32\": 2, \"53\": 1}, \"78\": {\"57\": 1, \"96\": 1, \"87\": 1, \"120\": 1, \"43\": 2, \"78\": 4, \"80\": 2, \"99\": 1, \"110\": 1, \"81\": 2}, \"116\": {\"116\": 13, \"119\": 3, \"50\": 2, \"90\": 7, \"102\": 1, \"48\": 1, \"62\": 1, \"33\": 1, \"80\": 1, \"67\": 1, \"70\": 1}, \"114\": {\"114\": 121, \"40\": 1, \"115\": 1, \"26\": 1, \"122\": 1, \"121\": 1, \"1\": 2}, \"103\": {\"103\": 11, \"12\": 1, \"29\": 2, \"106\": 2}, \"50\": {\"50\": 16}, \"124\": {\"124\": 127, \"79\": 1}, \"5\": {\"5\": 74, \"54\": 2, \"0\": 1, \"114\": 1, \"8\": 2, \"107\": 2, \"124\": 4, \"18\": 1, \"15\": 1}, \"73\": {\"73\": 18, \"103\": 1, \"5\": 1}, \"81\": {\"81\": 26, \"82\": 2}, \"49\": {\"49\": 11, \"124\": 2, \"93\": 2, \"32\": 2, \"89\": 1, \"34\": 1, \"31\": 1}, \"16\": {\"16\": 78, \"117\": 15, \"118\": 3, \"26\": 6, \"18\": 3, \"63\": 1, \"95\": 2}, \"101\": {\"101\": 122, \"108\": 1, \"70\": 1}, \"125\": {\"125\": 118}, \"65\": {\"16\": 1, \"28\": 1, \"112\": 1, \"67\": 1, \"82\": 2, \"33\": 2, \"38\": 2, \"109\": 1, \"65\": 1}, \"66\": {\"66\": 16}, \"79\": {\"79\": 12}, \"39\": {\"39\": 71, \"117\": 7, \"24\": 1, \"118\": 1, \"18\": 19, \"129\": 1, \"95\": 1, \"16\": 3}, \"104\": {\"104\": 15, \"19\": 1}, \"91\": {\"91\": 18, \"75\": 2, \"0\": 2, \"31\": 1, \"89\": 2, \"103\": 1, \"106\": 2}, \"25\": {\"25\": 15, \"22\": 1}, \"64\": {\"64\": 16}, \"34\": {\"60\": 2, \"98\": 3, \"8\": 1, \"56\": 1, \"1\": 3, \"110\": 2, \"127\": 1, \"30\": 1, \"89\": 1, \"125\": 1, \"43\": 1, \"5\": 2, \"17\": 2, \"77\": 2, \"79\": 2, \"53\": 1, \"14\": 1, \"107\": 3, \"84\": 2}, \"82\": {\"82\": 35, \"23\": 1}, \"18\": {\"18\": 118, \"95\": 2, \"39\": 2, \"63\": 2}, \"43\": {\"25\": 1, \"43\": 85, \"7\": 16, \"78\": 1, \"15\": 1, \"122\": 8, \"87\": 5, \"11\": 4, \"90\": 1, \"109\": 1, \"81\": 2, \"99\": 1, \"1\": 1, \"39\": 1}, \"47\": {\"47\": 12}, \"108\": {\"108\": 92, \"21\": 1, \"27\": 2, \"88\": 4, \"129\": 1, \"5\": 3, \"24\": 6, \"18\": 1, \"70\": 1, \"101\": 9, \"128\": 1, \"94\": 1, \"71\": 1, \"113\": 1}, \"111\": {\"111\": 105, \"70\": 1, \"112\": 2}, \"23\": {\"90\": 3, \"75\": 1, \"23\": 2, \"82\": 2, \"44\": 1, \"3\": 1, \"43\": 1, \"110\": 4, \"32\": 1, \"74\": 1, \"54\": 1, \"62\": 2, \"127\": 1, \"107\": 1, \"80\": 2}, \"90\": {\"90\": 155, \"66\": 1, \"36\": 2, \"33\": 1, \"113\": 1}, \"4\": {\"4\": 96, \"85\": 1, \"5\": 1, \"40\": 1, \"18\": 1}, \"92\": {\"92\": 28}, \"2\": {\"2\": 14, \"28\": 1, \"117\": 2, \"82\": 3, \"26\": 1, \"16\": 1, \"11\": 2, \"62\": 1, \"99\": 3, \"15\": 1, \"18\": 2, \"33\": 1}, \"45\": {\"23\": 1, \"2\": 1, \"80\": 1, \"84\": 1, \"79\": 1, \"19\": 1, \"1\": 1, \"100\": 1, \"70\": 1, \"45\": 2, \"117\": 1}, \"68\": {\"68\": 15, \"111\": 1}, \"26\": {\"26\": 113, \"63\": 2, \"16\": 4, \"95\": 2, \"117\": 2, \"118\": 3, \"39\": 2}, \"38\": {\"57\": 1, \"38\": 15}, \"40\": {\"40\": 124, \"105\": 10, \"7\": 1, \"107\": 2, \"4\": 3, \"43\": 1, \"93\": 1}, \"80\": {\"80\": 12, \"81\": 1, \"28\": 2, \"69\": 1}, \"107\": {\"107\": 109, \"65\": 1, \"89\": 2, \"108\": 1, \"110\": 4, \"8\": 1, \"86\": 2, \"39\": 1, \"126\": 1}, \"94\": {\"94\": 82, \"27\": 3, \"15\": 2, \"30\": 2, \"36\": 2, \"88\": 1}, \"115\": {\"115\": 12}, \"46\": {\"22\": 1, \"32\": 1, \"105\": 2, \"52\": 2, \"70\": 1, \"46\": 1, \"103\": 2, \"5\": 1, \"94\": 1}, \"72\": {\"72\": 30, \"89\": 1, \"9\": 1}, \"19\": {\"49\": 1, \"19\": 14, \"124\": 1, \"104\": 3, \"73\": 1, \"96\": 5, \"129\": 2, \"9\": 1}, \"100\": {\"100\": 13, \"72\": 1, \"36\": 1, \"81\": 1}, \"76\": {\"76\": 13, \"67\": 2, \"88\": 1}, \"106\": {\"106\": 123, \"98\": 2, \"112\": 2, \"91\": 2, \"53\": 1, \"127\": 2}, \"88\": {\"88\": 83, \"94\": 6, \"30\": 1, \"24\": 9, \"15\": 7, \"27\": 10, \"70\": 1, \"101\": 2, \"36\": 7, \"9\": 1, \"126\": 2, \"71\": 1}, \"15\": {\"15\": 87, \"12\": 4, \"71\": 8, \"27\": 1, \"101\": 1, \"111\": 1, \"94\": 1, \"113\": 1}, \"54\": {\"54\": 11, \"15\": 1, \"31\": 1, \"97\": 1, \"46\": 2}, \"13\": {\"13\": 16}, \"51\": {\"51\": 14, \"110\": 1, \"125\": 1}, \"24\": {\"24\": 72, \"88\": 11, \"27\": 4, \"108\": 3, \"101\": 1, \"118\": 1}, \"48\": {\"7\": 2, \"48\": 10}, \"85\": {\"85\": 32}, \"33\": {\"33\": 140}, \"71\": {\"71\": 85, \"122\": 1, \"127\": 3, \"6\": 1, \"110\": 1, \"111\": 4, \"117\": 1, \"12\": 6, \"112\": 1, \"123\": 1, \"39\": 1, \"125\": 3}, \"6\": {\"6\": 12, \"71\": 1, \"106\": 2, \"68\": 2, \"15\": 2, \"111\": 2, \"98\": 3, \"127\": 1, \"125\": 1, \"51\": 1, \"91\": 1, \"36\": 2, \"32\": 1, \"94\": 1}, \"83\": {\"83\": 24, \"18\": 1, \"5\": 1, \"118\": 1, \"79\": 1}, \"121\": {\"123\": 4, \"121\": 25, \"117\": 2, \"95\": 1}, \"31\": {\"31\": 13, \"122\": 1, \"55\": 2}, \"67\": {\"109\": 1, \"67\": 13, \"33\": 2}, \"1\": {\"1\": 133, \"14\": 2, \"18\": 1}, \"27\": {\"27\": 66, \"88\": 9, \"107\": 1, \"24\": 2, \"94\": 4, \"30\": 6, \"15\": 2, \"36\": 2}, \"118\": {\"118\": 73, \"63\": 1, \"26\": 2, \"95\": 3, \"16\": 3, \"39\": 1, \"117\": 1}, \"56\": {\"56\": 12}, \"36\": {\"36\": 125, \"39\": 1, \"88\": 2}, \"11\": {\"11\": 91, \"122\": 2, \"90\": 8, \"3\": 7, \"82\": 1, \"18\": 3, \"33\": 3, \"110\": 1, \"22\": 2, \"62\": 2, \"81\": 2, \"1\": 1, \"102\": 2, \"7\": 1}, \"110\": {\"110\": 102, \"0\": 5, \"18\": 2, \"98\": 4, \"107\": 4, \"10\": 1, \"111\": 1, \"17\": 2, \"89\": 1}, \"89\": {\"89\": 34, \"91\": 1, \"8\": 1}, \"113\": {\"113\": 109, \"108\": 1, \"117\": 4, \"106\": 1, \"125\": 1, \"107\": 1, \"39\": 1}, \"59\": {\"59\": 8, \"30\": 2, \"112\": 2}, \"9\": {\"9\": 28, \"26\": 1, \"49\": 1, \"12\": 1, \"5\": 1}, \"86\": {\"86\": 29, \"105\": 2, \"5\": 2, \"4\": 1, \"94\": 1, \"127\": 1}, \"12\": {\"12\": 86, \"127\": 1, \"71\": 4, \"113\": 1, \"108\": 1, \"111\": 5, \"106\": 2, \"24\": 1, \"15\": 1, \"98\": 1, \"39\": 1}, \"122\": {\"48\": 2, \"7\": 10, \"122\": 53, \"43\": 13, \"114\": 1, \"11\": 3, \"117\": 1, \"90\": 1, \"1\": 1, \"113\": 1, \"87\": 1, \"26\": 1}, \"128\": {\"128\": 6, \"89\": 1, \"99\": 2, \"9\": 5, \"82\": 1, \"115\": 2, \"22\": 2, \"43\": 1, \"72\": 2, \"73\": 2}, \"95\": {\"16\": 2, \"95\": 20, \"118\": 3, \"24\": 1, \"26\": 6, \"63\": 2, \"117\": 2}}}, \"per_domain_accuracy\": {\"ORACLE.run114\": {\"accuracy\": 0.81625, \"source?\": true}, \"ORACLE.run120\": {\"accuracy\": 0.6538541666666666, \"source?\": true}, \"ORACLE.run150\": {\"accuracy\": 0.78296875, \"source?\": true}, \"ORACLE.run126\": {\"accuracy\": 0.5536979166666667, \"source?\": true}, \"ORACLE.run132\": {\"accuracy\": 0.7803645833333334, \"source?\": true}, \"ORACLE.run144\": {\"accuracy\": 0.7169270833333333, \"source?\": true}, \"ORACLE.run18\": {\"accuracy\": 0.69734375, \"source?\": true}, \"ORACLE.run138\": {\"accuracy\": 0.7963541666666667, \"source?\": true}, \"Wisig_3\": {\"accuracy\": 0.8135917030567685, \"source?\": false}, \"Wisig_4\": {\"accuracy\": 0.7388946280991735, \"source?\": false}, \"Wisig_2\": {\"accuracy\": 0.773074894514768, \"source?\": false}, \"Wisig_1\": {\"accuracy\": 0.8298319327731093, \"source?\": false}}}, \"history\": {\"epoch_indices\": [1, 2, 3, 4, 5, 6, 7, 8, 9, 10, 11, 12, 13, 14, 15, 16, 17, 18], \"train_label_loss\": [1.0727726391986723, 0.8301503439096822, 0.7323755949735642, 0.6407079123031525, 0.57023524483943, 0.5189442696116332, 0.47851698957527766, 0.4423543797703903, 0.4090816826712606, 0.3814846193048427, 0.3536083288539556, 0.3293304603848983, 0.3069115510377811, 0.2872012634045123, 0.2674344055670233, 0.24852797803963766, 0.23441742579765906, 0.21879378593781787], \"source_val_label_loss\": [0.9510242938995361, 0.8443299531936646, 0.787722110748291, 0.7394912838935852, 0.7292797565460205, 0.7376478910446167, 0.7408085465431213, 0.7543299794197083, 0.7648647427558899, 0.78513103723526, 0.798308253288269, 0.8342046737670898, 0.8641791939735413, 0.8663299679756165, 0.9140745997428894, 0.9321972131729126, 0.945219874382019, 0.9867405295372009], \"target_val_label_loss\": [6.526024341583252, 7.530786514282227, 7.599571228027344, 7.855378150939941, 8.684104919433594, 9.150951385498047, 9.275839805603027, 9.933390617370605, 10.12133502960205, 10.691253662109375, 11.023143768310547, 11.570710182189941, 12.279794692993164, 12.158934593200684, 13.133915901184082, 13.203917503356934, 13.736655235290527, 14.369291305541992], \"source_val_acc_label\": [0.6424348958333334, 0.6815494791666666, 0.7036653645833333, 0.7254361979166667, 0.7312109375, 0.7360872395833333, 0.7358138020833334, 0.7372330729166666, 0.7324869791666667, 0.7284700520833334, 0.7330078125, 0.7337565104166667, 0.7309895833333333, 0.7247200520833333, 0.7246158854166667, 0.7227278645833334, 0.72171875, 0.7190625], \"target_val_acc_label\": [0.6605443974630021, 0.691992600422833, 0.7320626321353065, 0.7510240486257929, 0.763477801268499, 0.7689614164904862, 0.7743459302325582, 0.7761627906976745, 0.7828686575052854, 0.7819106765327696, 0.7867996828752643, 0.7833641649048626, 0.7835623678646935, 0.7884183403805497, 0.7845864164904862, 0.7868657505285412, 0.78732822410148, 0.7878237315010571]}, \"dataset_metrics\": {\"source\": {\"train\": {\"n_unique_x\": 896000, \"n_unique_y\": 16, \"n_batch/episode\": 33600}, \"val\": {\"n_unique_x\": 192000, \"n_unique_y\": 16, \"n_batch/episode\": 4800}, \"test\": {\"n_unique_x\": 192000, \"n_unique_y\": 16, \"n_batch/episode\": 4800}}, \"target\": {\"train\": {\"n_unique_x\": 189051, \"n_unique_y\": 130, \"n_batch/episode\": 6861}, \"val\": {\"n_unique_x\": 40049, \"n_unique_y\": 130, \"n_batch/episode\": 946}, \"test\": {\"n_unique_x\": 40794, \"n_unique_y\": 130, \"n_batch/episode\": 966}}}}'"
      ]
     },
     "execution_count": 29,
     "metadata": {},
     "output_type": "execute_result"
    }
   ],
   "source": [
    "json.dumps(experiment)"
   ]
  }
 ],
 "metadata": {
  "celltoolbar": "Tags",
  "kernelspec": {
   "display_name": "Python 3 (ipykernel)",
   "language": "python",
   "name": "python3"
  },
  "language_info": {
   "codemirror_mode": {
    "name": "ipython",
    "version": 3
   },
   "file_extension": ".py",
   "mimetype": "text/x-python",
   "name": "python",
   "nbconvert_exporter": "python",
   "pygments_lexer": "ipython3",
   "version": "3.8.12"
  },
  "papermill": {
   "default_parameters": {},
   "duration": 18379.697987,
   "end_time": "2022-03-23T22:11:41.664742",
   "environment_variables": {},
   "exception": null,
   "input_path": "/root/csc500-main/csc500-notebooks/templates/tl_ptn_template.ipynb",
   "output_path": "trial.ipynb",
   "parameters": {
    "parameters": {
     "BEST_MODEL_PATH": "./best_model.pth",
     "NUM_LOGS_PER_EPOCH": 10,
     "criteria_for_best": "target_accuracy",
     "dataset_seed": 420,
     "datasets": [
      {
       "domain_prefix": "Wisig_",
       "domains": [
        1,
        2,
        3,
        4
       ],
       "episode_transforms": [],
       "labels": [
        "1-10",
        "1-12",
        "1-14",
        "1-16",
        "1-18",
        "1-19",
        "1-8",
        "10-11",
        "10-17",
        "10-4",
        "10-7",
        "11-1",
        "11-10",
        "11-19",
        "11-20",
        "11-4",
        "11-7",
        "12-19",
        "12-20",
        "12-7",
        "13-14",
        "13-18",
        "13-19",
        "13-20",
        "13-3",
        "13-7",
        "14-10",
        "14-11",
        "14-12",
        "14-13",
        "14-14",
        "14-19",
        "14-20",
        "14-7",
        "14-8",
        "14-9",
        "15-1",
        "15-19",
        "15-6",
        "16-1",
        "16-16",
        "16-19",
        "16-20",
        "17-10",
        "17-11",
        "18-1",
        "18-10",
        "18-11",
        "18-12",
        "18-13",
        "18-14",
        "18-15",
        "18-16",
        "18-17",
        "18-19",
        "18-2",
        "18-20",
        "18-4",
        "18-5",
        "18-7",
        "18-8",
        "18-9",
        "19-1",
        "19-10",
        "19-11",
        "19-12",
        "19-13",
        "19-14",
        "19-15",
        "19-19",
        "19-2",
        "19-20",
        "19-3",
        "19-4",
        "19-6",
        "19-7",
        "19-8",
        "19-9",
        "2-1",
        "2-13",
        "2-15",
        "2-3",
        "2-4",
        "2-5",
        "2-6",
        "2-7",
        "2-8",
        "20-1",
        "20-12",
        "20-14",
        "20-15",
        "20-16",
        "20-18",
        "20-19",
        "20-20",
        "20-3",
        "20-4",
        "20-5",
        "20-7",
        "20-8",
        "3-1",
        "3-13",
        "3-18",
        "3-2",
        "3-8",
        "4-1",
        "4-10",
        "4-11",
        "5-1",
        "5-5",
        "6-1",
        "6-15",
        "6-6",
        "7-10",
        "7-11",
        "7-12",
        "7-13",
        "7-14",
        "7-7",
        "7-8",
        "7-9",
        "8-1",
        "8-13",
        "8-14",
        "8-18",
        "8-20",
        "8-3",
        "8-8",
        "9-1",
        "9-7"
       ],
       "num_examples_per_domain_per_label": -1,
       "pickle_path": "/root/csc500-main/datasets/wisig.node3-19.stratified_ds.2022A.pkl",
       "source_or_target_dataset": "target",
       "x_transforms": [
        "unit_power"
       ]
      },
      {
       "domain_prefix": "ORACLE.run1",
       "domains": [
        32,
        38,
        8,
        44,
        14,
        50,
        20,
        26
       ],
       "episode_transforms": [],
       "labels": [
        "3123D52",
        "3123D65",
        "3123D79",
        "3123D80",
        "3123D54",
        "3123D70",
        "3123D7B",
        "3123D89",
        "3123D58",
        "3123D76",
        "3123D7D",
        "3123EFE",
        "3123D64",
        "3123D78",
        "3123D7E",
        "3124E4A"
       ],
       "num_examples_per_domain_per_label": 10000,
       "pickle_path": "/root/csc500-main/datasets/oracle.Run1_10kExamples_stratified_ds.2022A.pkl",
       "source_or_target_dataset": "source",
       "x_transforms": [
        "unit_power"
       ]
      }
     ],
     "device": "cuda",
     "experiment_name": "tl_1v2:wisig-oracle.run1",
     "lr": 0.0001,
     "n_epoch": 50,
     "n_query": 2,
     "n_shot": 3,
     "n_way": 16,
     "patience": 3,
     "seed": 420,
     "test_k_factor": 2,
     "torch_default_dtype": "torch.float32",
     "train_k_factor": 3,
     "val_k_factor": 2,
     "x_net": [
      {
       "class": "nnReshape",
       "kargs": {
        "shape": [
         -1,
         1,
         2,
         256
        ]
       }
      },
      {
       "class": "Conv2d",
       "kargs": {
        "bias": false,
        "in_channels": 1,
        "kernel_size": [
         1,
         7
        ],
        "out_channels": 256,
        "padding": [
         0,
         3
        ]
       }
      },
      {
       "class": "ReLU",
       "kargs": {
        "inplace": true
       }
      },
      {
       "class": "BatchNorm2d",
       "kargs": {
        "num_features": 256
       }
      },
      {
       "class": "Conv2d",
       "kargs": {
        "bias": true,
        "in_channels": 256,
        "kernel_size": [
         2,
         7
        ],
        "out_channels": 80,
        "padding": [
         0,
         3
        ]
       }
      },
      {
       "class": "ReLU",
       "kargs": {
        "inplace": true
       }
      },
      {
       "class": "BatchNorm2d",
       "kargs": {
        "num_features": 80
       }
      },
      {
       "class": "Flatten",
       "kargs": {}
      },
      {
       "class": "Linear",
       "kargs": {
        "in_features": 20480,
        "out_features": 256
       }
      },
      {
       "class": "ReLU",
       "kargs": {
        "inplace": true
       }
      },
      {
       "class": "BatchNorm1d",
       "kargs": {
        "num_features": 256
       }
      },
      {
       "class": "Linear",
       "kargs": {
        "in_features": 256,
        "out_features": 256
       }
      }
     ]
    }
   },
   "start_time": "2022-03-23T17:05:21.966755",
   "version": "2.3.4"
  }
 },
 "nbformat": 4,
 "nbformat_minor": 5
}