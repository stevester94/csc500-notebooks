{
 "cells": [
  {
   "cell_type": "markdown",
   "id": "9fea5f46",
   "metadata": {
    "papermill": {
     "duration": 0.036074,
     "end_time": "2022-03-24T03:26:38.638481",
     "exception": false,
     "start_time": "2022-03-24T03:26:38.602407",
     "status": "completed"
    },
    "tags": []
   },
   "source": [
    "# Transfer Learning Template"
   ]
  },
  {
   "cell_type": "code",
   "execution_count": 1,
   "id": "0902182a",
   "metadata": {
    "execution": {
     "iopub.execute_input": "2022-03-24T03:26:38.700660Z",
     "iopub.status.busy": "2022-03-24T03:26:38.699111Z",
     "iopub.status.idle": "2022-03-24T03:26:40.965778Z",
     "shell.execute_reply": "2022-03-24T03:26:40.965314Z"
    },
    "papermill": {
     "duration": 2.304872,
     "end_time": "2022-03-24T03:26:40.965880",
     "exception": false,
     "start_time": "2022-03-24T03:26:38.661008",
     "status": "completed"
    },
    "tags": []
   },
   "outputs": [],
   "source": [
    "%load_ext autoreload\n",
    "%autoreload 2\n",
    "%matplotlib inline\n",
    "\n",
    "    \n",
    "import os, json, sys, time, random\n",
    "import numpy as np\n",
    "import torch\n",
    "from torch.optim import Adam\n",
    "from  easydict import EasyDict\n",
    "import matplotlib.pyplot as plt\n",
    "\n",
    "from steves_models.steves_ptn import Steves_Prototypical_Network\n",
    "\n",
    "from steves_utils.lazy_iterable_wrapper import Lazy_Iterable_Wrapper\n",
    "from steves_utils.iterable_aggregator import Iterable_Aggregator\n",
    "from steves_utils.ptn_train_eval_test_jig import  PTN_Train_Eval_Test_Jig\n",
    "from steves_utils.torch_sequential_builder import build_sequential\n",
    "from steves_utils.torch_utils import get_dataset_metrics, ptn_confusion_by_domain_over_dataloader\n",
    "from steves_utils.utils_v2 import (per_domain_accuracy_from_confusion, get_datasets_base_path)\n",
    "from steves_utils.PTN.utils import independent_accuracy_assesment\n",
    "\n",
    "from torch.utils.data import DataLoader\n",
    "\n",
    "from steves_utils.stratified_dataset.episodic_accessor import Episodic_Accessor_Factory\n",
    "\n",
    "from steves_utils.ptn_do_report import (\n",
    "    get_loss_curve,\n",
    "    get_results_table,\n",
    "    get_parameters_table,\n",
    "    get_domain_accuracies,\n",
    ")\n",
    "\n",
    "from steves_utils.transforms import get_chained_transform"
   ]
  },
  {
   "cell_type": "markdown",
   "id": "41c840b4",
   "metadata": {
    "papermill": {
     "duration": 0.019401,
     "end_time": "2022-03-24T03:26:41.005612",
     "exception": false,
     "start_time": "2022-03-24T03:26:40.986211",
     "status": "completed"
    },
    "tags": []
   },
   "source": [
    "# Allowed Parameters\n",
    "These are allowed parameters, not defaults\n",
    "Each of these values need to be present in the injected parameters (the notebook will raise an exception if they are not present)\n",
    "\n",
    "Papermill uses the cell tag \"parameters\" to inject the real parameters below this cell.\n",
    "Enable tags to see what I mean"
   ]
  },
  {
   "cell_type": "code",
   "execution_count": 2,
   "id": "fd44eb83",
   "metadata": {
    "execution": {
     "iopub.execute_input": "2022-03-24T03:26:41.050696Z",
     "iopub.status.busy": "2022-03-24T03:26:41.050258Z",
     "iopub.status.idle": "2022-03-24T03:26:41.073013Z",
     "shell.execute_reply": "2022-03-24T03:26:41.072650Z"
    },
    "papermill": {
     "duration": 0.047969,
     "end_time": "2022-03-24T03:26:41.073081",
     "exception": false,
     "start_time": "2022-03-24T03:26:41.025112",
     "status": "completed"
    },
    "tags": []
   },
   "outputs": [],
   "source": [
    "required_parameters = {\n",
    "    \"experiment_name\",\n",
    "    \"lr\",\n",
    "    \"device\",\n",
    "    \"seed\",\n",
    "    \"dataset_seed\",\n",
    "    \"n_shot\",\n",
    "    \"n_query\",\n",
    "    \"n_way\",\n",
    "    \"train_k_factor\",\n",
    "    \"val_k_factor\",\n",
    "    \"test_k_factor\",\n",
    "    \"n_epoch\",\n",
    "    \"patience\",\n",
    "    \"criteria_for_best\",\n",
    "    \"x_net\",\n",
    "    \"datasets\",\n",
    "    \"torch_default_dtype\",\n",
    "    \"NUM_LOGS_PER_EPOCH\",\n",
    "    \"BEST_MODEL_PATH\",\n",
    "    \"x_shape\",\n",
    "}"
   ]
  },
  {
   "cell_type": "code",
   "execution_count": 3,
   "id": "fa3f0049",
   "metadata": {
    "execution": {
     "iopub.execute_input": "2022-03-24T03:26:41.125714Z",
     "iopub.status.busy": "2022-03-24T03:26:41.125302Z",
     "iopub.status.idle": "2022-03-24T03:26:41.147760Z",
     "shell.execute_reply": "2022-03-24T03:26:41.147389Z"
    },
    "papermill": {
     "duration": 0.054804,
     "end_time": "2022-03-24T03:26:41.147829",
     "exception": false,
     "start_time": "2022-03-24T03:26:41.093025",
     "status": "completed"
    },
    "tags": [
     "parameters"
    ]
   },
   "outputs": [],
   "source": [
    "from steves_utils.CORES.utils import (\n",
    "    ALL_NODES,\n",
    "    ALL_NODES_MINIMUM_1000_EXAMPLES,\n",
    "    ALL_DAYS\n",
    ")\n",
    "\n",
    "from steves_utils.ORACLE.utils_v2 import (\n",
    "    ALL_DISTANCES_FEET_NARROWED,\n",
    "    ALL_RUNS,\n",
    "    ALL_SERIAL_NUMBERS,\n",
    ")\n",
    "\n",
    "standalone_parameters = {}\n",
    "standalone_parameters[\"experiment_name\"] = \"STANDALONE PTN\"\n",
    "standalone_parameters[\"lr\"] = 0.001\n",
    "standalone_parameters[\"device\"] = \"cuda\"\n",
    "\n",
    "standalone_parameters[\"seed\"] = 1337\n",
    "standalone_parameters[\"dataset_seed\"] = 1337\n",
    "\n",
    "standalone_parameters[\"n_way\"] = 8\n",
    "standalone_parameters[\"n_shot\"] = 3\n",
    "standalone_parameters[\"n_query\"]  = 2\n",
    "standalone_parameters[\"train_k_factor\"] = 1\n",
    "standalone_parameters[\"val_k_factor\"] = 2\n",
    "standalone_parameters[\"test_k_factor\"] = 2\n",
    "\n",
    "\n",
    "standalone_parameters[\"n_epoch\"] = 50\n",
    "\n",
    "standalone_parameters[\"patience\"] = 10\n",
    "standalone_parameters[\"criteria_for_best\"] = \"source_loss\"\n",
    "\n",
    "standalone_parameters[\"datasets\"] = [\n",
    "    {\n",
    "        \"labels\": ALL_SERIAL_NUMBERS,\n",
    "        \"domains\": ALL_DISTANCES_FEET_NARROWED,\n",
    "        \"num_examples_per_domain_per_label\": 100,\n",
    "        \"pickle_path\": os.path.join(get_datasets_base_path(), \"oracle.Run1_framed_2000Examples_stratified_ds.2022A.pkl\"),\n",
    "        \"source_or_target_dataset\": \"source\",\n",
    "        \"x_transforms\": [\"unit_mag\", \"minus_two\"],\n",
    "        \"episode_transforms\": [],\n",
    "        \"domain_prefix\": \"ORACLE_\"\n",
    "    },\n",
    "    {\n",
    "        \"labels\": ALL_NODES,\n",
    "        \"domains\": ALL_DAYS,\n",
    "        \"num_examples_per_domain_per_label\": 100,\n",
    "        \"pickle_path\": os.path.join(get_datasets_base_path(), \"cores.stratified_ds.2022A.pkl\"),\n",
    "        \"source_or_target_dataset\": \"target\",\n",
    "        \"x_transforms\": [\"unit_power\", \"times_zero\"],\n",
    "        \"episode_transforms\": [],\n",
    "        \"domain_prefix\": \"CORES_\"\n",
    "    }   \n",
    "]\n",
    "\n",
    "standalone_parameters[\"torch_default_dtype\"] = \"torch.float32\" \n",
    "\n",
    "\n",
    "\n",
    "standalone_parameters[\"x_net\"] =     [\n",
    "    {\"class\": \"nnReshape\", \"kargs\": {\"shape\":[-1, 1, 2, 256]}},\n",
    "    {\"class\": \"Conv2d\", \"kargs\": { \"in_channels\":1, \"out_channels\":256, \"kernel_size\":(1,7), \"bias\":False, \"padding\":(0,3), },},\n",
    "    {\"class\": \"ReLU\", \"kargs\": {\"inplace\": True}},\n",
    "    {\"class\": \"BatchNorm2d\", \"kargs\": {\"num_features\":256}},\n",
    "\n",
    "    {\"class\": \"Conv2d\", \"kargs\": { \"in_channels\":256, \"out_channels\":80, \"kernel_size\":(2,7), \"bias\":True, \"padding\":(0,3), },},\n",
    "    {\"class\": \"ReLU\", \"kargs\": {\"inplace\": True}},\n",
    "    {\"class\": \"BatchNorm2d\", \"kargs\": {\"num_features\":80}},\n",
    "    {\"class\": \"Flatten\", \"kargs\": {}},\n",
    "\n",
    "    {\"class\": \"Linear\", \"kargs\": {\"in_features\": 80*256, \"out_features\": 256}}, # 80 units per IQ pair\n",
    "    {\"class\": \"ReLU\", \"kargs\": {\"inplace\": True}},\n",
    "    {\"class\": \"BatchNorm1d\", \"kargs\": {\"num_features\":256}},\n",
    "\n",
    "    {\"class\": \"Linear\", \"kargs\": {\"in_features\": 256, \"out_features\": 256}},\n",
    "]\n",
    "\n",
    "# Parameters relevant to results\n",
    "# These parameters will basically never need to change\n",
    "standalone_parameters[\"NUM_LOGS_PER_EPOCH\"] = 10\n",
    "standalone_parameters[\"BEST_MODEL_PATH\"] = \"./best_model.pth\"\n",
    "\n",
    "\n",
    "\n",
    "\n"
   ]
  },
  {
   "cell_type": "code",
   "execution_count": 4,
   "id": "b0b607c0",
   "metadata": {
    "execution": {
     "iopub.execute_input": "2022-03-24T03:26:41.205009Z",
     "iopub.status.busy": "2022-03-24T03:26:41.204555Z",
     "iopub.status.idle": "2022-03-24T03:26:41.226432Z",
     "shell.execute_reply": "2022-03-24T03:26:41.226129Z"
    },
    "papermill": {
     "duration": 0.058903,
     "end_time": "2022-03-24T03:26:41.226502",
     "exception": false,
     "start_time": "2022-03-24T03:26:41.167599",
     "status": "completed"
    },
    "tags": [
     "injected-parameters"
    ]
   },
   "outputs": [],
   "source": [
    "# Parameters\n",
    "parameters = {\n",
    "    \"experiment_name\": \"tl_1v2:wisig-oracle.run1\",\n",
    "    \"device\": \"cuda\",\n",
    "    \"lr\": 0.0001,\n",
    "    \"n_shot\": 3,\n",
    "    \"n_query\": 2,\n",
    "    \"train_k_factor\": 3,\n",
    "    \"val_k_factor\": 2,\n",
    "    \"test_k_factor\": 2,\n",
    "    \"torch_default_dtype\": \"torch.float32\",\n",
    "    \"n_epoch\": 50,\n",
    "    \"patience\": 3,\n",
    "    \"criteria_for_best\": \"target_accuracy\",\n",
    "    \"x_net\": [\n",
    "        {\"class\": \"nnReshape\", \"kargs\": {\"shape\": [-1, 1, 2, 256]}},\n",
    "        {\n",
    "            \"class\": \"Conv2d\",\n",
    "            \"kargs\": {\n",
    "                \"in_channels\": 1,\n",
    "                \"out_channels\": 256,\n",
    "                \"kernel_size\": [1, 7],\n",
    "                \"bias\": False,\n",
    "                \"padding\": [0, 3],\n",
    "            },\n",
    "        },\n",
    "        {\"class\": \"ReLU\", \"kargs\": {\"inplace\": True}},\n",
    "        {\"class\": \"BatchNorm2d\", \"kargs\": {\"num_features\": 256}},\n",
    "        {\n",
    "            \"class\": \"Conv2d\",\n",
    "            \"kargs\": {\n",
    "                \"in_channels\": 256,\n",
    "                \"out_channels\": 80,\n",
    "                \"kernel_size\": [2, 7],\n",
    "                \"bias\": True,\n",
    "                \"padding\": [0, 3],\n",
    "            },\n",
    "        },\n",
    "        {\"class\": \"ReLU\", \"kargs\": {\"inplace\": True}},\n",
    "        {\"class\": \"BatchNorm2d\", \"kargs\": {\"num_features\": 80}},\n",
    "        {\"class\": \"Flatten\", \"kargs\": {}},\n",
    "        {\"class\": \"Linear\", \"kargs\": {\"in_features\": 20480, \"out_features\": 256}},\n",
    "        {\"class\": \"ReLU\", \"kargs\": {\"inplace\": True}},\n",
    "        {\"class\": \"BatchNorm1d\", \"kargs\": {\"num_features\": 256}},\n",
    "        {\"class\": \"Linear\", \"kargs\": {\"in_features\": 256, \"out_features\": 256}},\n",
    "    ],\n",
    "    \"NUM_LOGS_PER_EPOCH\": 10,\n",
    "    \"BEST_MODEL_PATH\": \"./best_model.pth\",\n",
    "    \"n_way\": 16,\n",
    "    \"datasets\": [\n",
    "        {\n",
    "            \"labels\": [\n",
    "                \"1-10\",\n",
    "                \"1-12\",\n",
    "                \"1-14\",\n",
    "                \"1-16\",\n",
    "                \"1-18\",\n",
    "                \"1-19\",\n",
    "                \"1-8\",\n",
    "                \"10-11\",\n",
    "                \"10-17\",\n",
    "                \"10-4\",\n",
    "                \"10-7\",\n",
    "                \"11-1\",\n",
    "                \"11-10\",\n",
    "                \"11-19\",\n",
    "                \"11-20\",\n",
    "                \"11-4\",\n",
    "                \"11-7\",\n",
    "                \"12-19\",\n",
    "                \"12-20\",\n",
    "                \"12-7\",\n",
    "                \"13-14\",\n",
    "                \"13-18\",\n",
    "                \"13-19\",\n",
    "                \"13-20\",\n",
    "                \"13-3\",\n",
    "                \"13-7\",\n",
    "                \"14-10\",\n",
    "                \"14-11\",\n",
    "                \"14-12\",\n",
    "                \"14-13\",\n",
    "                \"14-14\",\n",
    "                \"14-19\",\n",
    "                \"14-20\",\n",
    "                \"14-7\",\n",
    "                \"14-8\",\n",
    "                \"14-9\",\n",
    "                \"15-1\",\n",
    "                \"15-19\",\n",
    "                \"15-6\",\n",
    "                \"16-1\",\n",
    "                \"16-16\",\n",
    "                \"16-19\",\n",
    "                \"16-20\",\n",
    "                \"17-10\",\n",
    "                \"17-11\",\n",
    "                \"18-1\",\n",
    "                \"18-10\",\n",
    "                \"18-11\",\n",
    "                \"18-12\",\n",
    "                \"18-13\",\n",
    "                \"18-14\",\n",
    "                \"18-15\",\n",
    "                \"18-16\",\n",
    "                \"18-17\",\n",
    "                \"18-19\",\n",
    "                \"18-2\",\n",
    "                \"18-20\",\n",
    "                \"18-4\",\n",
    "                \"18-5\",\n",
    "                \"18-7\",\n",
    "                \"18-8\",\n",
    "                \"18-9\",\n",
    "                \"19-1\",\n",
    "                \"19-10\",\n",
    "                \"19-11\",\n",
    "                \"19-12\",\n",
    "                \"19-13\",\n",
    "                \"19-14\",\n",
    "                \"19-15\",\n",
    "                \"19-19\",\n",
    "                \"19-2\",\n",
    "                \"19-20\",\n",
    "                \"19-3\",\n",
    "                \"19-4\",\n",
    "                \"19-6\",\n",
    "                \"19-7\",\n",
    "                \"19-8\",\n",
    "                \"19-9\",\n",
    "                \"2-1\",\n",
    "                \"2-13\",\n",
    "                \"2-15\",\n",
    "                \"2-3\",\n",
    "                \"2-4\",\n",
    "                \"2-5\",\n",
    "                \"2-6\",\n",
    "                \"2-7\",\n",
    "                \"2-8\",\n",
    "                \"20-1\",\n",
    "                \"20-12\",\n",
    "                \"20-14\",\n",
    "                \"20-15\",\n",
    "                \"20-16\",\n",
    "                \"20-18\",\n",
    "                \"20-19\",\n",
    "                \"20-20\",\n",
    "                \"20-3\",\n",
    "                \"20-4\",\n",
    "                \"20-5\",\n",
    "                \"20-7\",\n",
    "                \"20-8\",\n",
    "                \"3-1\",\n",
    "                \"3-13\",\n",
    "                \"3-18\",\n",
    "                \"3-2\",\n",
    "                \"3-8\",\n",
    "                \"4-1\",\n",
    "                \"4-10\",\n",
    "                \"4-11\",\n",
    "                \"5-1\",\n",
    "                \"5-5\",\n",
    "                \"6-1\",\n",
    "                \"6-15\",\n",
    "                \"6-6\",\n",
    "                \"7-10\",\n",
    "                \"7-11\",\n",
    "                \"7-12\",\n",
    "                \"7-13\",\n",
    "                \"7-14\",\n",
    "                \"7-7\",\n",
    "                \"7-8\",\n",
    "                \"7-9\",\n",
    "                \"8-1\",\n",
    "                \"8-13\",\n",
    "                \"8-14\",\n",
    "                \"8-18\",\n",
    "                \"8-20\",\n",
    "                \"8-3\",\n",
    "                \"8-8\",\n",
    "                \"9-1\",\n",
    "                \"9-7\",\n",
    "            ],\n",
    "            \"domains\": [1, 2, 3, 4],\n",
    "            \"num_examples_per_domain_per_label\": -1,\n",
    "            \"pickle_path\": \"/root/csc500-main/datasets/wisig.node3-19.stratified_ds.2022A.pkl\",\n",
    "            \"source_or_target_dataset\": \"source\",\n",
    "            \"x_transforms\": [\"unit_mag\"],\n",
    "            \"episode_transforms\": [],\n",
    "            \"domain_prefix\": \"Wisig_\",\n",
    "        },\n",
    "        {\n",
    "            \"labels\": [\n",
    "                \"3123D52\",\n",
    "                \"3123D65\",\n",
    "                \"3123D79\",\n",
    "                \"3123D80\",\n",
    "                \"3123D54\",\n",
    "                \"3123D70\",\n",
    "                \"3123D7B\",\n",
    "                \"3123D89\",\n",
    "                \"3123D58\",\n",
    "                \"3123D76\",\n",
    "                \"3123D7D\",\n",
    "                \"3123EFE\",\n",
    "                \"3123D64\",\n",
    "                \"3123D78\",\n",
    "                \"3123D7E\",\n",
    "                \"3124E4A\",\n",
    "            ],\n",
    "            \"domains\": [32, 38, 8, 44, 14, 50, 20, 26],\n",
    "            \"num_examples_per_domain_per_label\": 10000,\n",
    "            \"pickle_path\": \"/root/csc500-main/datasets/oracle.Run1_10kExamples_stratified_ds.2022A.pkl\",\n",
    "            \"source_or_target_dataset\": \"target\",\n",
    "            \"x_transforms\": [\"unit_mag\"],\n",
    "            \"episode_transforms\": [],\n",
    "            \"domain_prefix\": \"ORACLE.run1\",\n",
    "        },\n",
    "    ],\n",
    "    \"dataset_seed\": 7,\n",
    "    \"seed\": 7,\n",
    "}\n"
   ]
  },
  {
   "cell_type": "code",
   "execution_count": 5,
   "id": "8fa1cc33",
   "metadata": {
    "execution": {
     "iopub.execute_input": "2022-03-24T03:26:41.273867Z",
     "iopub.status.busy": "2022-03-24T03:26:41.272954Z",
     "iopub.status.idle": "2022-03-24T03:26:41.294424Z",
     "shell.execute_reply": "2022-03-24T03:26:41.294066Z"
    },
    "papermill": {
     "duration": 0.047892,
     "end_time": "2022-03-24T03:26:41.294493",
     "exception": false,
     "start_time": "2022-03-24T03:26:41.246601",
     "status": "completed"
    },
    "tags": []
   },
   "outputs": [],
   "source": [
    "# Set this to True if you want to run this template directly\n",
    "STANDALONE = False\n",
    "if STANDALONE:\n",
    "    print(\"parameters not injected, running with standalone_parameters\")\n",
    "    parameters = standalone_parameters\n",
    "\n",
    "if not 'parameters' in locals() and not 'parameters' in globals():\n",
    "    raise Exception(\"Parameter injection failed\")\n",
    "\n",
    "#Use an easy dict for all the parameters\n",
    "p = EasyDict(parameters)\n",
    "\n",
    "if \"x_shape\" not in p:\n",
    "    p.x_shape = [2,256] # Default to this if we dont supply x_shape\n",
    "\n",
    "\n",
    "supplied_keys = set(p.keys())\n",
    "\n",
    "if  supplied_keys != required_parameters:\n",
    "    print(\"Parameters are incorrect\")\n",
    "    if len(supplied_keys - required_parameters)>0: print(\"Shouldn't have:\", str(supplied_keys - required_parameters))\n",
    "    if len(required_parameters - supplied_keys)>0: print(\"Need to have:\", str(required_parameters - supplied_keys))\n",
    "    raise RuntimeError(\"Parameters are incorrect\")"
   ]
  },
  {
   "cell_type": "code",
   "execution_count": 6,
   "id": "3a028d58",
   "metadata": {
    "execution": {
     "iopub.execute_input": "2022-03-24T03:26:41.342718Z",
     "iopub.status.busy": "2022-03-24T03:26:41.342078Z",
     "iopub.status.idle": "2022-03-24T03:26:41.358147Z",
     "shell.execute_reply": "2022-03-24T03:26:41.357789Z"
    },
    "papermill": {
     "duration": 0.044394,
     "end_time": "2022-03-24T03:26:41.358215",
     "exception": false,
     "start_time": "2022-03-24T03:26:41.313821",
     "status": "completed"
    },
    "tags": []
   },
   "outputs": [],
   "source": [
    "###################################\n",
    "# Set the RNGs and make it all deterministic\n",
    "###################################\n",
    "np.random.seed(p.seed)\n",
    "random.seed(p.seed)\n",
    "torch.manual_seed(p.seed)\n",
    "\n",
    "torch.use_deterministic_algorithms(True) "
   ]
  },
  {
   "cell_type": "code",
   "execution_count": 7,
   "id": "b691acf6",
   "metadata": {
    "execution": {
     "iopub.execute_input": "2022-03-24T03:26:41.401802Z",
     "iopub.status.busy": "2022-03-24T03:26:41.401390Z",
     "iopub.status.idle": "2022-03-24T03:26:41.423266Z",
     "shell.execute_reply": "2022-03-24T03:26:41.422906Z"
    },
    "papermill": {
     "duration": 0.045484,
     "end_time": "2022-03-24T03:26:41.423334",
     "exception": false,
     "start_time": "2022-03-24T03:26:41.377850",
     "status": "completed"
    },
    "tags": []
   },
   "outputs": [],
   "source": [
    "###########################################\n",
    "# The stratified datasets honor this\n",
    "###########################################\n",
    "torch.set_default_dtype(eval(p.torch_default_dtype))"
   ]
  },
  {
   "cell_type": "code",
   "execution_count": 8,
   "id": "b5fba671",
   "metadata": {
    "execution": {
     "iopub.execute_input": "2022-03-24T03:26:41.467143Z",
     "iopub.status.busy": "2022-03-24T03:26:41.466779Z",
     "iopub.status.idle": "2022-03-24T03:26:41.521386Z",
     "shell.execute_reply": "2022-03-24T03:26:41.521068Z"
    },
    "papermill": {
     "duration": 0.078403,
     "end_time": "2022-03-24T03:26:41.521453",
     "exception": false,
     "start_time": "2022-03-24T03:26:41.443050",
     "status": "completed"
    },
    "tags": []
   },
   "outputs": [],
   "source": [
    "###################################\n",
    "# Build the network(s)\n",
    "# Note: It's critical to do this AFTER setting the RNG\n",
    "###################################\n",
    "x_net = build_sequential(p.x_net)"
   ]
  },
  {
   "cell_type": "code",
   "execution_count": 9,
   "id": "5d7e61cc",
   "metadata": {
    "execution": {
     "iopub.execute_input": "2022-03-24T03:26:41.567605Z",
     "iopub.status.busy": "2022-03-24T03:26:41.566786Z",
     "iopub.status.idle": "2022-03-24T03:26:41.589395Z",
     "shell.execute_reply": "2022-03-24T03:26:41.588598Z"
    },
    "papermill": {
     "duration": 0.047022,
     "end_time": "2022-03-24T03:26:41.589543",
     "exception": false,
     "start_time": "2022-03-24T03:26:41.542521",
     "status": "completed"
    },
    "tags": []
   },
   "outputs": [],
   "source": [
    "start_time_secs = time.time()"
   ]
  },
  {
   "cell_type": "code",
   "execution_count": 10,
   "id": "c6b67dfd",
   "metadata": {
    "execution": {
     "iopub.execute_input": "2022-03-24T03:26:41.639969Z",
     "iopub.status.busy": "2022-03-24T03:26:41.639233Z",
     "iopub.status.idle": "2022-03-24T03:26:41.663235Z",
     "shell.execute_reply": "2022-03-24T03:26:41.662441Z"
    },
    "papermill": {
     "duration": 0.047815,
     "end_time": "2022-03-24T03:26:41.663385",
     "exception": false,
     "start_time": "2022-03-24T03:26:41.615570",
     "status": "completed"
    },
    "tags": []
   },
   "outputs": [],
   "source": [
    "p.domains_source = []\n",
    "p.domains_target = []\n",
    "\n",
    "\n",
    "train_original_source = []\n",
    "val_original_source   = []\n",
    "test_original_source  = []\n",
    "\n",
    "train_original_target = []\n",
    "val_original_target   = []\n",
    "test_original_target  = []"
   ]
  },
  {
   "cell_type": "code",
   "execution_count": 11,
   "id": "e3d9c3d3",
   "metadata": {
    "execution": {
     "iopub.execute_input": "2022-03-24T03:26:41.717866Z",
     "iopub.status.busy": "2022-03-24T03:26:41.717315Z",
     "iopub.status.idle": "2022-03-24T03:26:41.739327Z",
     "shell.execute_reply": "2022-03-24T03:26:41.738530Z"
    },
    "papermill": {
     "duration": 0.046497,
     "end_time": "2022-03-24T03:26:41.739476",
     "exception": false,
     "start_time": "2022-03-24T03:26:41.692979",
     "status": "completed"
    },
    "tags": []
   },
   "outputs": [],
   "source": [
    "# global_x_transform_func = lambda x: normalize(x.to(torch.get_default_dtype()), \"unit_power\") # unit_power, unit_mag\n",
    "# global_x_transform_func = lambda x: normalize(x, \"unit_power\") # unit_power, unit_mag"
   ]
  },
  {
   "cell_type": "code",
   "execution_count": 12,
   "id": "acb78fd2",
   "metadata": {
    "execution": {
     "iopub.execute_input": "2022-03-24T03:26:41.799846Z",
     "iopub.status.busy": "2022-03-24T03:26:41.799018Z",
     "iopub.status.idle": "2022-03-24T03:26:41.819123Z",
     "shell.execute_reply": "2022-03-24T03:26:41.818329Z"
    },
    "papermill": {
     "duration": 0.054408,
     "end_time": "2022-03-24T03:26:41.819277",
     "exception": false,
     "start_time": "2022-03-24T03:26:41.764869",
     "status": "completed"
    },
    "tags": []
   },
   "outputs": [],
   "source": [
    "def add_dataset(\n",
    "    labels,\n",
    "    domains,\n",
    "    pickle_path,\n",
    "    x_transforms,\n",
    "    episode_transforms,\n",
    "    domain_prefix,\n",
    "    num_examples_per_domain_per_label,\n",
    "    source_or_target_dataset:str,\n",
    "    iterator_seed=p.seed,\n",
    "    dataset_seed=p.dataset_seed,\n",
    "    n_shot=p.n_shot,\n",
    "    n_way=p.n_way,\n",
    "    n_query=p.n_query,\n",
    "    train_val_test_k_factors=(p.train_k_factor,p.val_k_factor,p.test_k_factor),\n",
    "):\n",
    "   \n",
    "    if x_transforms == []: x_transform = None\n",
    "    else: x_transform = get_chained_transform(x_transforms)\n",
    "    \n",
    "    if episode_transforms == []: episode_transform = None\n",
    "    else: raise Exception(\"episode_transforms not implemented\")\n",
    "    \n",
    "    episode_transform = lambda tup, _prefix=domain_prefix: (_prefix + str(tup[0]), tup[1])\n",
    "\n",
    "\n",
    "    eaf = Episodic_Accessor_Factory(\n",
    "        labels=labels,\n",
    "        domains=domains,\n",
    "        num_examples_per_domain_per_label=num_examples_per_domain_per_label,\n",
    "        iterator_seed=iterator_seed,\n",
    "        dataset_seed=dataset_seed,\n",
    "        n_shot=n_shot,\n",
    "        n_way=n_way,\n",
    "        n_query=n_query,\n",
    "        train_val_test_k_factors=train_val_test_k_factors,\n",
    "        pickle_path=pickle_path,\n",
    "        x_transform_func=x_transform,\n",
    "    )\n",
    "\n",
    "    train, val, test = eaf.get_train(), eaf.get_val(), eaf.get_test()\n",
    "    train = Lazy_Iterable_Wrapper(train, episode_transform)\n",
    "    val = Lazy_Iterable_Wrapper(val, episode_transform)\n",
    "    test = Lazy_Iterable_Wrapper(test, episode_transform)\n",
    "\n",
    "    if source_or_target_dataset==\"source\":\n",
    "        train_original_source.append(train)\n",
    "        val_original_source.append(val)\n",
    "        test_original_source.append(test)\n",
    "\n",
    "        p.domains_source.extend(\n",
    "            [domain_prefix + str(u) for u in domains]\n",
    "        )\n",
    "    elif source_or_target_dataset==\"target\":\n",
    "        train_original_target.append(train)\n",
    "        val_original_target.append(val)\n",
    "        test_original_target.append(test)\n",
    "        p.domains_target.extend(\n",
    "            [domain_prefix + str(u) for u in domains]\n",
    "        )\n",
    "    else:\n",
    "        raise Exception(f\"invalid source_or_target_dataset: {source_or_target_dataset}\")\n",
    "    "
   ]
  },
  {
   "cell_type": "code",
   "execution_count": 13,
   "id": "fe266617",
   "metadata": {
    "execution": {
     "iopub.execute_input": "2022-03-24T03:26:41.868881Z",
     "iopub.status.busy": "2022-03-24T03:26:41.868519Z",
     "iopub.status.idle": "2022-03-24T03:28:50.623878Z",
     "shell.execute_reply": "2022-03-24T03:28:50.624544Z"
    },
    "papermill": {
     "duration": 128.779754,
     "end_time": "2022-03-24T03:28:50.624776",
     "exception": false,
     "start_time": "2022-03-24T03:26:41.845022",
     "status": "completed"
    },
    "tags": []
   },
   "outputs": [],
   "source": [
    "for ds in p.datasets:\n",
    "    add_dataset(**ds)"
   ]
  },
  {
   "cell_type": "code",
   "execution_count": 14,
   "id": "b90d65ac",
   "metadata": {
    "execution": {
     "iopub.execute_input": "2022-03-24T03:28:50.675623Z",
     "iopub.status.busy": "2022-03-24T03:28:50.675209Z",
     "iopub.status.idle": "2022-03-24T03:28:50.701075Z",
     "shell.execute_reply": "2022-03-24T03:28:50.700359Z"
    },
    "papermill": {
     "duration": 0.051062,
     "end_time": "2022-03-24T03:28:50.701242",
     "exception": false,
     "start_time": "2022-03-24T03:28:50.650180",
     "status": "completed"
    },
    "tags": []
   },
   "outputs": [],
   "source": [
    "# from steves_utils.CORES.utils import (\n",
    "#     ALL_NODES,\n",
    "#     ALL_NODES_MINIMUM_1000_EXAMPLES,\n",
    "#     ALL_DAYS\n",
    "# )\n",
    "\n",
    "# add_dataset(\n",
    "#     labels=ALL_NODES,\n",
    "#     domains = ALL_DAYS,\n",
    "#     num_examples_per_domain_per_label=100,\n",
    "#     pickle_path=os.path.join(get_datasets_base_path(), \"cores.stratified_ds.2022A.pkl\"),\n",
    "#     source_or_target_dataset=\"target\",\n",
    "#     x_transform_func=global_x_transform_func,\n",
    "#     domain_modifier=lambda u: f\"cores_{u}\"\n",
    "# )"
   ]
  },
  {
   "cell_type": "code",
   "execution_count": 15,
   "id": "76db484d",
   "metadata": {
    "execution": {
     "iopub.execute_input": "2022-03-24T03:28:50.757612Z",
     "iopub.status.busy": "2022-03-24T03:28:50.756839Z",
     "iopub.status.idle": "2022-03-24T03:28:50.777233Z",
     "shell.execute_reply": "2022-03-24T03:28:50.776487Z"
    },
    "papermill": {
     "duration": 0.045921,
     "end_time": "2022-03-24T03:28:50.777398",
     "exception": false,
     "start_time": "2022-03-24T03:28:50.731477",
     "status": "completed"
    },
    "tags": []
   },
   "outputs": [],
   "source": [
    "# from steves_utils.ORACLE.utils_v2 import (\n",
    "#     ALL_DISTANCES_FEET,\n",
    "#     ALL_RUNS,\n",
    "#     ALL_SERIAL_NUMBERS,\n",
    "# )\n",
    "\n",
    "\n",
    "# add_dataset(\n",
    "#     labels=ALL_SERIAL_NUMBERS,\n",
    "#     domains = list(set(ALL_DISTANCES_FEET) - {2,62}),\n",
    "#     num_examples_per_domain_per_label=100,\n",
    "#     pickle_path=os.path.join(get_datasets_base_path(), \"oracle.Run2_framed_2000Examples_stratified_ds.2022A.pkl\"),\n",
    "#     source_or_target_dataset=\"source\",\n",
    "#     x_transform_func=global_x_transform_func,\n",
    "#     domain_modifier=lambda u: f\"oracle1_{u}\"\n",
    "# )\n"
   ]
  },
  {
   "cell_type": "code",
   "execution_count": 16,
   "id": "97dea9d2",
   "metadata": {
    "execution": {
     "iopub.execute_input": "2022-03-24T03:28:50.830944Z",
     "iopub.status.busy": "2022-03-24T03:28:50.830187Z",
     "iopub.status.idle": "2022-03-24T03:28:50.852180Z",
     "shell.execute_reply": "2022-03-24T03:28:50.851343Z"
    },
    "papermill": {
     "duration": 0.046937,
     "end_time": "2022-03-24T03:28:50.852345",
     "exception": false,
     "start_time": "2022-03-24T03:28:50.805408",
     "status": "completed"
    },
    "tags": []
   },
   "outputs": [],
   "source": [
    "# from steves_utils.ORACLE.utils_v2 import (\n",
    "#     ALL_DISTANCES_FEET,\n",
    "#     ALL_RUNS,\n",
    "#     ALL_SERIAL_NUMBERS,\n",
    "# )\n",
    "\n",
    "\n",
    "# add_dataset(\n",
    "#     labels=ALL_SERIAL_NUMBERS,\n",
    "#     domains = list(set(ALL_DISTANCES_FEET) - {2,62,56}),\n",
    "#     num_examples_per_domain_per_label=100,\n",
    "#     pickle_path=os.path.join(get_datasets_base_path(), \"oracle.Run2_framed_2000Examples_stratified_ds.2022A.pkl\"),\n",
    "#     source_or_target_dataset=\"source\",\n",
    "#     x_transform_func=global_x_transform_func,\n",
    "#     domain_modifier=lambda u: f\"oracle2_{u}\"\n",
    "# )"
   ]
  },
  {
   "cell_type": "code",
   "execution_count": 17,
   "id": "6f289866",
   "metadata": {
    "execution": {
     "iopub.execute_input": "2022-03-24T03:28:50.908540Z",
     "iopub.status.busy": "2022-03-24T03:28:50.908168Z",
     "iopub.status.idle": "2022-03-24T03:28:50.928926Z",
     "shell.execute_reply": "2022-03-24T03:28:50.928132Z"
    },
    "papermill": {
     "duration": 0.04608,
     "end_time": "2022-03-24T03:28:50.929093",
     "exception": false,
     "start_time": "2022-03-24T03:28:50.883013",
     "status": "completed"
    },
    "tags": []
   },
   "outputs": [],
   "source": [
    "# add_dataset(\n",
    "#     labels=list(range(19)),\n",
    "#     domains = [0,1,2],\n",
    "#     num_examples_per_domain_per_label=100,\n",
    "#     pickle_path=os.path.join(get_datasets_base_path(), \"metehan.stratified_ds.2022A.pkl\"),\n",
    "#     source_or_target_dataset=\"target\",\n",
    "#     x_transform_func=global_x_transform_func,\n",
    "#     domain_modifier=lambda u: f\"met_{u}\"\n",
    "# )"
   ]
  },
  {
   "cell_type": "code",
   "execution_count": 18,
   "id": "86a863c3",
   "metadata": {
    "execution": {
     "iopub.execute_input": "2022-03-24T03:28:50.989203Z",
     "iopub.status.busy": "2022-03-24T03:28:50.988826Z",
     "iopub.status.idle": "2022-03-24T03:28:51.011051Z",
     "shell.execute_reply": "2022-03-24T03:28:51.010248Z"
    },
    "papermill": {
     "duration": 0.047793,
     "end_time": "2022-03-24T03:28:51.011216",
     "exception": false,
     "start_time": "2022-03-24T03:28:50.963423",
     "status": "completed"
    },
    "tags": []
   },
   "outputs": [],
   "source": [
    "# # from steves_utils.wisig.utils import (\n",
    "# #     ALL_NODES_MINIMUM_100_EXAMPLES,\n",
    "# #     ALL_NODES_MINIMUM_500_EXAMPLES,\n",
    "# #     ALL_NODES_MINIMUM_1000_EXAMPLES,\n",
    "# #     ALL_DAYS\n",
    "# # )\n",
    "\n",
    "# import steves_utils.wisig.utils as wisig\n",
    "\n",
    "\n",
    "# add_dataset(\n",
    "#     labels=wisig.ALL_NODES_MINIMUM_100_EXAMPLES,\n",
    "#     domains = wisig.ALL_DAYS,\n",
    "#     num_examples_per_domain_per_label=100,\n",
    "#     pickle_path=os.path.join(get_datasets_base_path(), \"wisig.node3-19.stratified_ds.2022A.pkl\"),\n",
    "#     source_or_target_dataset=\"target\",\n",
    "#     x_transform_func=global_x_transform_func,\n",
    "#     domain_modifier=lambda u: f\"wisig_{u}\"\n",
    "# )"
   ]
  },
  {
   "cell_type": "code",
   "execution_count": 19,
   "id": "fd5442bc",
   "metadata": {
    "execution": {
     "iopub.execute_input": "2022-03-24T03:28:51.069043Z",
     "iopub.status.busy": "2022-03-24T03:28:51.068455Z",
     "iopub.status.idle": "2022-03-24T03:28:51.089640Z",
     "shell.execute_reply": "2022-03-24T03:28:51.088939Z"
    },
    "papermill": {
     "duration": 0.050743,
     "end_time": "2022-03-24T03:28:51.089798",
     "exception": false,
     "start_time": "2022-03-24T03:28:51.039055",
     "status": "completed"
    },
    "tags": []
   },
   "outputs": [],
   "source": [
    "###################################\n",
    "# Build the dataset\n",
    "###################################\n",
    "train_original_source = Iterable_Aggregator(train_original_source, p.seed)\n",
    "val_original_source = Iterable_Aggregator(val_original_source, p.seed)\n",
    "test_original_source = Iterable_Aggregator(test_original_source, p.seed)\n",
    "\n",
    "\n",
    "train_original_target = Iterable_Aggregator(train_original_target, p.seed)\n",
    "val_original_target = Iterable_Aggregator(val_original_target, p.seed)\n",
    "test_original_target = Iterable_Aggregator(test_original_target, p.seed)\n",
    "\n",
    "# For CNN We only use X and Y. And we only train on the source.\n",
    "# Properly form the data using a transform lambda and Lazy_Iterable_Wrapper. Finally wrap them in a dataloader\n",
    "\n",
    "transform_lambda = lambda ex: ex[1] # Original is (<domain>, <episode>) so we strip down to episode only\n",
    "\n",
    "train_processed_source = Lazy_Iterable_Wrapper(train_original_source, transform_lambda)\n",
    "val_processed_source   = Lazy_Iterable_Wrapper(val_original_source, transform_lambda)\n",
    "test_processed_source  = Lazy_Iterable_Wrapper(test_original_source, transform_lambda)\n",
    "\n",
    "train_processed_target = Lazy_Iterable_Wrapper(train_original_target, transform_lambda)\n",
    "val_processed_target   = Lazy_Iterable_Wrapper(val_original_target, transform_lambda)\n",
    "test_processed_target  = Lazy_Iterable_Wrapper(test_original_target, transform_lambda)\n",
    "\n",
    "datasets = EasyDict({\n",
    "    \"source\": {\n",
    "        \"original\": {\"train\":train_original_source, \"val\":val_original_source, \"test\":test_original_source},\n",
    "        \"processed\": {\"train\":train_processed_source, \"val\":val_processed_source, \"test\":test_processed_source}\n",
    "    },\n",
    "    \"target\": {\n",
    "        \"original\": {\"train\":train_original_target, \"val\":val_original_target, \"test\":test_original_target},\n",
    "        \"processed\": {\"train\":train_processed_target, \"val\":val_processed_target, \"test\":test_processed_target}\n",
    "    },\n",
    "})"
   ]
  },
  {
   "cell_type": "code",
   "execution_count": 20,
   "id": "5b3c01fc",
   "metadata": {
    "execution": {
     "iopub.execute_input": "2022-03-24T03:28:51.143402Z",
     "iopub.status.busy": "2022-03-24T03:28:51.143020Z",
     "iopub.status.idle": "2022-03-24T03:29:24.826799Z",
     "shell.execute_reply": "2022-03-24T03:29:24.826072Z"
    },
    "papermill": {
     "duration": 33.708632,
     "end_time": "2022-03-24T03:29:24.826980",
     "exception": false,
     "start_time": "2022-03-24T03:28:51.118348",
     "status": "completed"
    },
    "tags": []
   },
   "outputs": [
    {
     "name": "stdout",
     "output_type": "stream",
     "text": [
      "{'Wisig_2', 'Wisig_4', 'Wisig_1', 'Wisig_3'}\n"
     ]
    },
    {
     "name": "stdout",
     "output_type": "stream",
     "text": [
      "{'ORACLE.run150', 'ORACLE.run132', 'ORACLE.run18', 'ORACLE.run126', 'ORACLE.run138', 'ORACLE.run114', 'ORACLE.run120', 'ORACLE.run144'}\n"
     ]
    },
    {
     "name": "stdout",
     "output_type": "stream",
     "text": [
      "tensor([[[-0.4211,  0.5775,  1.1953,  ...,  0.1992,  0.4561,  1.0415],\n",
      "         [-0.4945, -1.0738,  0.2700,  ..., -0.2682, -0.6239, -0.0917]],\n",
      "\n",
      "        [[-0.3825,  0.7995,  1.2209,  ...,  0.1532,  0.5235,  1.1301],\n",
      "         [-0.9293, -0.9155,  0.5979,  ..., -0.3193, -0.5529, -0.0104]],\n",
      "\n",
      "        [[-0.6094,  0.8587,  1.0361,  ..., -0.4112,  0.3653,  0.9132],\n",
      "         [-0.8119, -1.0907,  0.4432,  ..., -0.5635, -1.0837, -0.0234]],\n",
      "\n",
      "        ...,\n",
      "\n",
      "        [[-0.2068,  1.1921,  1.8260,  ..., -0.3565,  1.2173,  1.1383],\n",
      "         [-0.2875, -1.2173, -0.4002,  ..., -0.4523,  0.2034,  0.5162]],\n",
      "\n",
      "        [[-0.6686,  1.1887,  1.9663,  ...,  0.2080,  0.9229,  0.1238],\n",
      "         [-0.1387, -0.2542,  0.5332,  ..., -0.2658, -0.2625,  0.8998]],\n",
      "\n",
      "        [[ 0.3971, -0.0899, -1.4323,  ...,  0.5125, -0.3292, -1.2185],\n",
      "         [-0.1527,  0.9588,  1.0929,  ...,  0.4022,  0.6449, -0.4277]]])\n"
     ]
    }
   ],
   "source": [
    "from steves_utils.transforms import get_average_magnitude, get_average_power\n",
    "\n",
    "print(set([u for u,_ in val_original_source]))\n",
    "print(set([u for u,_ in val_original_target]))\n",
    "\n",
    "s_x, s_y, q_x, q_y, _ = next(iter(train_processed_source))\n",
    "print(s_x)\n",
    "\n",
    "# for ds in [\n",
    "#     train_processed_source,\n",
    "#     val_processed_source,\n",
    "#     test_processed_source,\n",
    "#     train_processed_target,\n",
    "#     val_processed_target,\n",
    "#     test_processed_target\n",
    "# ]:\n",
    "#     for s_x, s_y, q_x, q_y, _ in ds:\n",
    "#         for X in (s_x, q_x):\n",
    "#             for x in X:\n",
    "#                 assert np.isclose(get_average_magnitude(x.numpy()), 1.0)\n",
    "#                 assert np.isclose(get_average_power(x.numpy()), 1.0)\n",
    "                "
   ]
  },
  {
   "cell_type": "code",
   "execution_count": 21,
   "id": "bbdacba1",
   "metadata": {
    "execution": {
     "iopub.execute_input": "2022-03-24T03:29:24.884721Z",
     "iopub.status.busy": "2022-03-24T03:29:24.884346Z",
     "iopub.status.idle": "2022-03-24T03:29:25.085091Z",
     "shell.execute_reply": "2022-03-24T03:29:25.084760Z"
    },
    "papermill": {
     "duration": 0.227815,
     "end_time": "2022-03-24T03:29:25.085178",
     "exception": false,
     "start_time": "2022-03-24T03:29:24.857363",
     "status": "completed"
    },
    "tags": []
   },
   "outputs": [
    {
     "name": "stdout",
     "output_type": "stream",
     "text": [
      "(2, 256)\n"
     ]
    }
   ],
   "source": [
    "###################################\n",
    "# Build the model\n",
    "###################################\n",
    "# easfsl only wants a tuple for the shape\n",
    "model = Steves_Prototypical_Network(x_net, device=p.device, x_shape=tuple(p.x_shape))\n",
    "optimizer = Adam(params=model.parameters(), lr=p.lr)"
   ]
  },
  {
   "cell_type": "code",
   "execution_count": 22,
   "id": "22b39ac5",
   "metadata": {
    "execution": {
     "iopub.execute_input": "2022-03-24T03:29:25.154832Z",
     "iopub.status.busy": "2022-03-24T03:29:25.154469Z",
     "iopub.status.idle": "2022-03-24T03:47:14.774154Z",
     "shell.execute_reply": "2022-03-24T03:47:14.773813Z"
    },
    "papermill": {
     "duration": 1069.64652,
     "end_time": "2022-03-24T03:47:14.774238",
     "exception": false,
     "start_time": "2022-03-24T03:29:25.127718",
     "status": "completed"
    },
    "tags": []
   },
   "outputs": [
    {
     "name": "stdout",
     "output_type": "stream",
     "text": [
      "epoch: 1, [batch: 1 / 6851], examples_per_second: 28.9374, train_label_loss: 2.5824, \n"
     ]
    },
    {
     "name": "stdout",
     "output_type": "stream",
     "text": [
      "epoch: 1, [batch: 686 / 6851], examples_per_second: 3316.1537, train_label_loss: 0.1845, \n"
     ]
    },
    {
     "name": "stdout",
     "output_type": "stream",
     "text": [
      "epoch: 1, [batch: 1371 / 6851], examples_per_second: 3328.1857, train_label_loss: 0.0509, \n"
     ]
    },
    {
     "name": "stdout",
     "output_type": "stream",
     "text": [
      "epoch: 1, [batch: 2056 / 6851], examples_per_second: 3322.3657, train_label_loss: 0.0095, \n"
     ]
    },
    {
     "name": "stdout",
     "output_type": "stream",
     "text": [
      "epoch: 1, [batch: 2741 / 6851], examples_per_second: 3352.1197, train_label_loss: 0.2274, \n"
     ]
    },
    {
     "name": "stdout",
     "output_type": "stream",
     "text": [
      "epoch: 1, [batch: 3426 / 6851], examples_per_second: 3564.0577, train_label_loss: 0.0296, \n"
     ]
    },
    {
     "name": "stdout",
     "output_type": "stream",
     "text": [
      "epoch: 1, [batch: 4111 / 6851], examples_per_second: 4006.7827, train_label_loss: 0.0319, \n"
     ]
    },
    {
     "name": "stdout",
     "output_type": "stream",
     "text": [
      "epoch: 1, [batch: 4796 / 6851], examples_per_second: 3955.0710, train_label_loss: 0.0385, \n"
     ]
    },
    {
     "name": "stdout",
     "output_type": "stream",
     "text": [
      "epoch: 1, [batch: 5481 / 6851], examples_per_second: 4290.6491, train_label_loss: 0.0655, \n"
     ]
    },
    {
     "name": "stdout",
     "output_type": "stream",
     "text": [
      "epoch: 1, [batch: 6166 / 6851], examples_per_second: 4263.5931, train_label_loss: 0.1249, \n"
     ]
    },
    {
     "name": "stdout",
     "output_type": "stream",
     "text": [
      "=============================================================\n",
      "epoch: 1, source_val_acc_label: 0.9599, target_val_acc_label: 0.1235, source_val_label_loss: 0.1728, target_val_label_loss: 2.6522, \n",
      "=============================================================\n"
     ]
    },
    {
     "name": "stdout",
     "output_type": "stream",
     "text": [
      "New best\n"
     ]
    },
    {
     "name": "stdout",
     "output_type": "stream",
     "text": [
      "epoch: 2, [batch: 1 / 6838], examples_per_second: 2.1244, train_label_loss: 0.1047, \n"
     ]
    },
    {
     "name": "stdout",
     "output_type": "stream",
     "text": [
      "epoch: 2, [batch: 684 / 6838], examples_per_second: 4325.1822, train_label_loss: 0.1975, \n"
     ]
    },
    {
     "name": "stdout",
     "output_type": "stream",
     "text": [
      "epoch: 2, [batch: 1368 / 6838], examples_per_second: 4231.3219, train_label_loss: 0.0663, \n"
     ]
    },
    {
     "name": "stdout",
     "output_type": "stream",
     "text": [
      "epoch: 2, [batch: 2052 / 6838], examples_per_second: 4100.9253, train_label_loss: 0.0392, \n"
     ]
    },
    {
     "name": "stdout",
     "output_type": "stream",
     "text": [
      "epoch: 2, [batch: 2735 / 6838], examples_per_second: 4187.3204, train_label_loss: 0.0668, \n"
     ]
    },
    {
     "name": "stdout",
     "output_type": "stream",
     "text": [
      "epoch: 2, [batch: 3419 / 6838], examples_per_second: 4291.2872, train_label_loss: 0.0208, \n"
     ]
    },
    {
     "name": "stdout",
     "output_type": "stream",
     "text": [
      "epoch: 2, [batch: 4103 / 6838], examples_per_second: 4625.5245, train_label_loss: 0.0087, \n"
     ]
    },
    {
     "name": "stdout",
     "output_type": "stream",
     "text": [
      "epoch: 2, [batch: 4786 / 6838], examples_per_second: 4362.0659, train_label_loss: 0.0129, \n"
     ]
    },
    {
     "name": "stdout",
     "output_type": "stream",
     "text": [
      "epoch: 2, [batch: 5470 / 6838], examples_per_second: 4160.4025, train_label_loss: 0.0819, \n"
     ]
    },
    {
     "name": "stdout",
     "output_type": "stream",
     "text": [
      "epoch: 2, [batch: 6154 / 6838], examples_per_second: 4339.0261, train_label_loss: 0.1425, \n"
     ]
    },
    {
     "name": "stdout",
     "output_type": "stream",
     "text": [
      "=============================================================\n",
      "epoch: 2, source_val_acc_label: 0.9690, target_val_acc_label: 0.1151, source_val_label_loss: 0.1374, target_val_label_loss: 2.6958, \n",
      "=============================================================\n"
     ]
    },
    {
     "name": "stdout",
     "output_type": "stream",
     "text": [
      "epoch: 3, [batch: 1 / 6850], examples_per_second: 2.0975, train_label_loss: 0.0526, \n"
     ]
    },
    {
     "name": "stdout",
     "output_type": "stream",
     "text": [
      "epoch: 3, [batch: 685 / 6850], examples_per_second: 4144.6971, train_label_loss: 0.0030, \n"
     ]
    },
    {
     "name": "stdout",
     "output_type": "stream",
     "text": [
      "epoch: 3, [batch: 1370 / 6850], examples_per_second: 3899.3932, train_label_loss: 0.0013, \n"
     ]
    },
    {
     "name": "stdout",
     "output_type": "stream",
     "text": [
      "epoch: 3, [batch: 2055 / 6850], examples_per_second: 3870.4053, train_label_loss: 0.0575, \n"
     ]
    },
    {
     "name": "stdout",
     "output_type": "stream",
     "text": [
      "epoch: 3, [batch: 2740 / 6850], examples_per_second: 3903.9881, train_label_loss: 0.0998, \n"
     ]
    },
    {
     "name": "stdout",
     "output_type": "stream",
     "text": [
      "epoch: 3, [batch: 3425 / 6850], examples_per_second: 3922.0617, train_label_loss: 0.0472, \n"
     ]
    },
    {
     "name": "stdout",
     "output_type": "stream",
     "text": [
      "epoch: 3, [batch: 4110 / 6850], examples_per_second: 3882.8624, train_label_loss: 0.3329, \n"
     ]
    },
    {
     "name": "stdout",
     "output_type": "stream",
     "text": [
      "epoch: 3, [batch: 4795 / 6850], examples_per_second: 3831.8731, train_label_loss: 0.1276, \n"
     ]
    },
    {
     "name": "stdout",
     "output_type": "stream",
     "text": [
      "epoch: 3, [batch: 5480 / 6850], examples_per_second: 3939.3426, train_label_loss: 0.0908, \n"
     ]
    },
    {
     "name": "stdout",
     "output_type": "stream",
     "text": [
      "epoch: 3, [batch: 6165 / 6850], examples_per_second: 4036.5290, train_label_loss: 0.0030, \n"
     ]
    },
    {
     "name": "stdout",
     "output_type": "stream",
     "text": [
      "=============================================================\n",
      "epoch: 3, source_val_acc_label: 0.9713, target_val_acc_label: 0.1013, source_val_label_loss: 0.1252, target_val_label_loss: 2.7600, \n",
      "=============================================================\n"
     ]
    },
    {
     "name": "stdout",
     "output_type": "stream",
     "text": [
      "epoch: 4, [batch: 1 / 6835], examples_per_second: 2.0527, train_label_loss: 0.0163, \n"
     ]
    },
    {
     "name": "stdout",
     "output_type": "stream",
     "text": [
      "epoch: 4, [batch: 684 / 6835], examples_per_second: 4075.7681, train_label_loss: 0.3286, \n"
     ]
    },
    {
     "name": "stdout",
     "output_type": "stream",
     "text": [
      "epoch: 4, [batch: 1367 / 6835], examples_per_second: 3957.7750, train_label_loss: 0.1234, \n"
     ]
    },
    {
     "name": "stdout",
     "output_type": "stream",
     "text": [
      "epoch: 4, [batch: 2051 / 6835], examples_per_second: 3852.8060, train_label_loss: 0.0034, \n"
     ]
    },
    {
     "name": "stdout",
     "output_type": "stream",
     "text": [
      "epoch: 4, [batch: 2734 / 6835], examples_per_second: 3958.1242, train_label_loss: 0.0090, \n"
     ]
    },
    {
     "name": "stdout",
     "output_type": "stream",
     "text": [
      "epoch: 4, [batch: 3418 / 6835], examples_per_second: 3937.5625, train_label_loss: 0.1588, \n"
     ]
    },
    {
     "name": "stdout",
     "output_type": "stream",
     "text": [
      "epoch: 4, [batch: 4101 / 6835], examples_per_second: 4000.5157, train_label_loss: 0.1066, \n"
     ]
    },
    {
     "name": "stdout",
     "output_type": "stream",
     "text": [
      "epoch: 4, [batch: 4784 / 6835], examples_per_second: 3886.9282, train_label_loss: 0.0029, \n"
     ]
    },
    {
     "name": "stdout",
     "output_type": "stream",
     "text": [
      "epoch: 4, [batch: 5468 / 6835], examples_per_second: 3863.1473, train_label_loss: 0.2238, \n"
     ]
    },
    {
     "name": "stdout",
     "output_type": "stream",
     "text": [
      "epoch: 4, [batch: 6151 / 6835], examples_per_second: 3969.1083, train_label_loss: 0.0128, \n"
     ]
    },
    {
     "name": "stdout",
     "output_type": "stream",
     "text": [
      "=============================================================\n",
      "epoch: 4, source_val_acc_label: 0.9730, target_val_acc_label: 0.0984, source_val_label_loss: 0.1234, target_val_label_loss: 2.7777, \n",
      "=============================================================\n"
     ]
    },
    {
     "name": "stdout",
     "output_type": "stream",
     "text": [
      "epoch: 5, [batch: 1 / 6849], examples_per_second: 2.0414, train_label_loss: 0.0248, \n"
     ]
    },
    {
     "name": "stdout",
     "output_type": "stream",
     "text": [
      "epoch: 5, [batch: 685 / 6849], examples_per_second: 3890.6894, train_label_loss: 0.0112, \n"
     ]
    },
    {
     "name": "stdout",
     "output_type": "stream",
     "text": [
      "epoch: 5, [batch: 1370 / 6849], examples_per_second: 3942.3471, train_label_loss: 0.0753, \n"
     ]
    },
    {
     "name": "stdout",
     "output_type": "stream",
     "text": [
      "epoch: 5, [batch: 2055 / 6849], examples_per_second: 3985.1339, train_label_loss: 0.1246, \n"
     ]
    },
    {
     "name": "stdout",
     "output_type": "stream",
     "text": [
      "epoch: 5, [batch: 2740 / 6849], examples_per_second: 3850.6352, train_label_loss: 0.0909, \n"
     ]
    },
    {
     "name": "stdout",
     "output_type": "stream",
     "text": [
      "epoch: 5, [batch: 3425 / 6849], examples_per_second: 2928.9786, train_label_loss: 0.1373, \n"
     ]
    },
    {
     "name": "stdout",
     "output_type": "stream",
     "text": [
      "epoch: 5, [batch: 4109 / 6849], examples_per_second: 2937.3319, train_label_loss: 0.0129, \n"
     ]
    },
    {
     "name": "stdout",
     "output_type": "stream",
     "text": [
      "epoch: 5, [batch: 4794 / 6849], examples_per_second: 2930.8326, train_label_loss: 0.0567, \n"
     ]
    },
    {
     "name": "stdout",
     "output_type": "stream",
     "text": [
      "epoch: 5, [batch: 5479 / 6849], examples_per_second: 2929.4942, train_label_loss: 0.0023, \n"
     ]
    },
    {
     "name": "stdout",
     "output_type": "stream",
     "text": [
      "epoch: 5, [batch: 6164 / 6849], examples_per_second: 2937.3501, train_label_loss: 0.0069, \n"
     ]
    },
    {
     "name": "stdout",
     "output_type": "stream",
     "text": [
      "=============================================================\n",
      "epoch: 5, source_val_acc_label: 0.9721, target_val_acc_label: 0.0944, source_val_label_loss: 0.1282, target_val_label_loss: 2.8228, \n",
      "=============================================================\n"
     ]
    },
    {
     "name": "stdout",
     "output_type": "stream",
     "text": [
      "Patience (3) exhausted\n"
     ]
    }
   ],
   "source": [
    "###################################\n",
    "# train\n",
    "###################################\n",
    "jig = PTN_Train_Eval_Test_Jig(model, p.BEST_MODEL_PATH, p.device)\n",
    "\n",
    "jig.train(\n",
    "    train_iterable=datasets.source.processed.train,\n",
    "    source_val_iterable=datasets.source.processed.val,\n",
    "    target_val_iterable=datasets.target.processed.val,\n",
    "    num_epochs=p.n_epoch,\n",
    "    num_logs_per_epoch=p.NUM_LOGS_PER_EPOCH,\n",
    "    patience=p.patience,\n",
    "    optimizer=optimizer,\n",
    "    criteria_for_best=p.criteria_for_best,\n",
    ")"
   ]
  },
  {
   "cell_type": "code",
   "execution_count": 23,
   "id": "31e8fabf",
   "metadata": {
    "execution": {
     "iopub.execute_input": "2022-03-24T03:47:14.857309Z",
     "iopub.status.busy": "2022-03-24T03:47:14.856877Z",
     "iopub.status.idle": "2022-03-24T03:47:14.890296Z",
     "shell.execute_reply": "2022-03-24T03:47:14.889483Z"
    },
    "papermill": {
     "duration": 0.077329,
     "end_time": "2022-03-24T03:47:14.890456",
     "exception": false,
     "start_time": "2022-03-24T03:47:14.813127",
     "status": "completed"
    },
    "tags": []
   },
   "outputs": [],
   "source": [
    "total_experiment_time_secs = time.time() - start_time_secs"
   ]
  },
  {
   "cell_type": "code",
   "execution_count": 24,
   "id": "87b9595b",
   "metadata": {
    "execution": {
     "iopub.execute_input": "2022-03-24T03:47:14.987290Z",
     "iopub.status.busy": "2022-03-24T03:47:14.986429Z",
     "iopub.status.idle": "2022-03-24T03:58:05.100016Z",
     "shell.execute_reply": "2022-03-24T03:58:05.098040Z"
    },
    "papermill": {
     "duration": 650.16321,
     "end_time": "2022-03-24T03:58:05.100331",
     "exception": false,
     "start_time": "2022-03-24T03:47:14.937121",
     "status": "completed"
    },
    "tags": []
   },
   "outputs": [],
   "source": [
    "###################################\n",
    "# Evaluate the model\n",
    "###################################\n",
    "source_test_label_accuracy, source_test_label_loss = jig.test(datasets.source.processed.test)\n",
    "target_test_label_accuracy, target_test_label_loss = jig.test(datasets.target.processed.test)\n",
    "\n",
    "source_val_label_accuracy, source_val_label_loss = jig.test(datasets.source.processed.val)\n",
    "target_val_label_accuracy, target_val_label_loss = jig.test(datasets.target.processed.val)\n",
    "\n",
    "history = jig.get_history()\n",
    "\n",
    "total_epochs_trained = len(history[\"epoch_indices\"])\n",
    "\n",
    "val_dl = Iterable_Aggregator((datasets.source.original.val,datasets.target.original.val))\n",
    "\n",
    "confusion = ptn_confusion_by_domain_over_dataloader(model, p.device, val_dl)\n",
    "per_domain_accuracy = per_domain_accuracy_from_confusion(confusion)\n",
    "\n",
    "# Add a key to per_domain_accuracy for if it was a source domain\n",
    "for domain, accuracy in per_domain_accuracy.items():\n",
    "    per_domain_accuracy[domain] = {\n",
    "        \"accuracy\": accuracy,\n",
    "        \"source?\": domain in p.domains_source\n",
    "    }\n",
    "\n",
    "# Do an independent accuracy assesment JUST TO BE SURE!\n",
    "# _source_test_label_accuracy = independent_accuracy_assesment(model, datasets.source.processed.test, p.device)\n",
    "# _target_test_label_accuracy = independent_accuracy_assesment(model, datasets.target.processed.test, p.device)\n",
    "# _source_val_label_accuracy = independent_accuracy_assesment(model, datasets.source.processed.val, p.device)\n",
    "# _target_val_label_accuracy = independent_accuracy_assesment(model, datasets.target.processed.val, p.device)\n",
    "\n",
    "# assert(_source_test_label_accuracy == source_test_label_accuracy)\n",
    "# assert(_target_test_label_accuracy == target_test_label_accuracy)\n",
    "# assert(_source_val_label_accuracy == source_val_label_accuracy)\n",
    "# assert(_target_val_label_accuracy == target_val_label_accuracy)\n",
    "\n",
    "experiment = {\n",
    "    \"experiment_name\": p.experiment_name,\n",
    "    \"parameters\": dict(p),\n",
    "    \"results\": {\n",
    "        \"source_test_label_accuracy\": source_test_label_accuracy,\n",
    "        \"source_test_label_loss\": source_test_label_loss,\n",
    "        \"target_test_label_accuracy\": target_test_label_accuracy,\n",
    "        \"target_test_label_loss\": target_test_label_loss,\n",
    "        \"source_val_label_accuracy\": source_val_label_accuracy,\n",
    "        \"source_val_label_loss\": source_val_label_loss,\n",
    "        \"target_val_label_accuracy\": target_val_label_accuracy,\n",
    "        \"target_val_label_loss\": target_val_label_loss,\n",
    "        \"total_epochs_trained\": total_epochs_trained,\n",
    "        \"total_experiment_time_secs\": total_experiment_time_secs,\n",
    "        \"confusion\": confusion,\n",
    "        \"per_domain_accuracy\": per_domain_accuracy,\n",
    "    },\n",
    "    \"history\": history,\n",
    "    \"dataset_metrics\": get_dataset_metrics(datasets, \"ptn\"),\n",
    "}"
   ]
  },
  {
   "cell_type": "code",
   "execution_count": 25,
   "id": "54a21829",
   "metadata": {
    "execution": {
     "iopub.execute_input": "2022-03-24T03:58:05.213534Z",
     "iopub.status.busy": "2022-03-24T03:58:05.212593Z",
     "iopub.status.idle": "2022-03-24T03:58:05.700150Z",
     "shell.execute_reply": "2022-03-24T03:58:05.700851Z"
    },
    "papermill": {
     "duration": 0.546976,
     "end_time": "2022-03-24T03:58:05.701071",
     "exception": false,
     "start_time": "2022-03-24T03:58:05.154095",
     "status": "completed"
    },
    "tags": []
   },
   "outputs": [
    {
     "data": {
      "image/png": "[encoded data removed]",
      "text/plain": [
       "<Figure size 1080x504 with 1 Axes>"
      ]
     },
     "metadata": {
      "needs_background": "light"
     },
     "output_type": "display_data"
    }
   ],
   "source": [
    "ax = get_loss_curve(experiment)\n",
    "plt.show()"
   ]
  },
  {
   "cell_type": "code",
   "execution_count": 26,
   "id": "fd8a0f60",
   "metadata": {
    "execution": {
     "iopub.execute_input": "2022-03-24T03:58:05.797300Z",
     "iopub.status.busy": "2022-03-24T03:58:05.796705Z",
     "iopub.status.idle": "2022-03-24T03:58:06.200570Z",
     "shell.execute_reply": "2022-03-24T03:58:06.201254Z"
    },
    "papermill": {
     "duration": 0.45493,
     "end_time": "2022-03-24T03:58:06.201464",
     "exception": false,
     "start_time": "2022-03-24T03:58:05.746534",
     "status": "completed"
    },
    "tags": []
   },
   "outputs": [
    {
     "data": {
      "text/plain": [
       "<AxesSubplot:title={'center':'Results'}>"
      ]
     },
     "execution_count": 26,
     "metadata": {},
     "output_type": "execute_result"
    },
    {
     "data": {
      "image/png": "[encoded data removed]",
      "text/plain": [
       "<Figure size 1080x504 with 1 Axes>"
      ]
     },
     "metadata": {
      "needs_background": "light"
     },
     "output_type": "display_data"
    }
   ],
   "source": [
    "get_results_table(experiment)"
   ]
  },
  {
   "cell_type": "code",
   "execution_count": 27,
   "id": "cf8dc689",
   "metadata": {
    "execution": {
     "iopub.execute_input": "2022-03-24T03:58:06.297000Z",
     "iopub.status.busy": "2022-03-24T03:58:06.296603Z",
     "iopub.status.idle": "2022-03-24T03:58:06.576810Z",
     "shell.execute_reply": "2022-03-24T03:58:06.577488Z"
    },
    "papermill": {
     "duration": 0.328881,
     "end_time": "2022-03-24T03:58:06.577720",
     "exception": false,
     "start_time": "2022-03-24T03:58:06.248839",
     "status": "completed"
    },
    "tags": []
   },
   "outputs": [
    {
     "data": {
      "text/plain": [
       "<AxesSubplot:title={'center':'Per Domain Validation Accuracy'}, xlabel='domain'>"
      ]
     },
     "execution_count": 27,
     "metadata": {},
     "output_type": "execute_result"
    },
    {
     "data": {
      "image/png": "[encoded data removed]",
      "text/plain": [
       "<Figure size 1080x504 with 1 Axes>"
      ]
     },
     "metadata": {
      "needs_background": "light"
     },
     "output_type": "display_data"
    }
   ],
   "source": [
    "get_domain_accuracies(experiment)"
   ]
  },
  {
   "cell_type": "code",
   "execution_count": 28,
   "id": "a74ae082",
   "metadata": {
    "execution": {
     "iopub.execute_input": "2022-03-24T03:58:06.671168Z",
     "iopub.status.busy": "2022-03-24T03:58:06.670792Z",
     "iopub.status.idle": "2022-03-24T03:58:06.696447Z",
     "shell.execute_reply": "2022-03-24T03:58:06.697112Z"
    },
    "papermill": {
     "duration": 0.072522,
     "end_time": "2022-03-24T03:58:06.697322",
     "exception": false,
     "start_time": "2022-03-24T03:58:06.624800",
     "status": "completed"
    },
    "tags": []
   },
   "outputs": [
    {
     "name": "stdout",
     "output_type": "stream",
     "text": [
      "Source Test Label Accuracy: 0.9597523219814241 Target Test Label Accuracy: 0.12564453125\n",
      "Source Val Label Accuracy: 0.9598732840549102 Target Val Label Accuracy: 0.123515625\n"
     ]
    }
   ],
   "source": [
    "print(\"Source Test Label Accuracy:\", experiment[\"results\"][\"source_test_label_accuracy\"], \"Target Test Label Accuracy:\", experiment[\"results\"][\"target_test_label_accuracy\"])\n",
    "print(\"Source Val Label Accuracy:\", experiment[\"results\"][\"source_val_label_accuracy\"], \"Target Val Label Accuracy:\", experiment[\"results\"][\"target_val_label_accuracy\"])"
   ]
  },
  {
   "cell_type": "code",
   "execution_count": 29,
   "id": "dacca602",
   "metadata": {
    "execution": {
     "iopub.execute_input": "2022-03-24T03:58:06.791589Z",
     "iopub.status.busy": "2022-03-24T03:58:06.791196Z",
     "iopub.status.idle": "2022-03-24T03:58:06.818789Z",
     "shell.execute_reply": "2022-03-24T03:58:06.819446Z"
    },
    "papermill": {
     "duration": 0.074289,
     "end_time": "2022-03-24T03:58:06.819675",
     "exception": false,
     "start_time": "2022-03-24T03:58:06.745386",
     "status": "completed"
    },
    "tags": [
     "experiment_json"
    ]
   },
   "outputs": [
    {
     "data": {
      "text/plain": [
       "'{\"experiment_name\": \"tl_1v2:wisig-oracle.run1\", \"parameters\": {\"experiment_name\": \"tl_1v2:wisig-oracle.run1\", \"device\": \"cuda\", \"lr\": 0.0001, \"n_shot\": 3, \"n_query\": 2, \"train_k_factor\": 3, \"val_k_factor\": 2, \"test_k_factor\": 2, \"torch_default_dtype\": \"torch.float32\", \"n_epoch\": 50, \"patience\": 3, \"criteria_for_best\": \"target_accuracy\", \"x_net\": [{\"class\": \"nnReshape\", \"kargs\": {\"shape\": [-1, 1, 2, 256]}}, {\"class\": \"Conv2d\", \"kargs\": {\"in_channels\": 1, \"out_channels\": 256, \"kernel_size\": [1, 7], \"bias\": false, \"padding\": [0, 3]}}, {\"class\": \"ReLU\", \"kargs\": {\"inplace\": true}}, {\"class\": \"BatchNorm2d\", \"kargs\": {\"num_features\": 256}}, {\"class\": \"Conv2d\", \"kargs\": {\"in_channels\": 256, \"out_channels\": 80, \"kernel_size\": [2, 7], \"bias\": true, \"padding\": [0, 3]}}, {\"class\": \"ReLU\", \"kargs\": {\"inplace\": true}}, {\"class\": \"BatchNorm2d\", \"kargs\": {\"num_features\": 80}}, {\"class\": \"Flatten\", \"kargs\": {}}, {\"class\": \"Linear\", \"kargs\": {\"in_features\": 20480, \"out_features\": 256}}, {\"class\": \"ReLU\", \"kargs\": {\"inplace\": true}}, {\"class\": \"BatchNorm1d\", \"kargs\": {\"num_features\": 256}}, {\"class\": \"Linear\", \"kargs\": {\"in_features\": 256, \"out_features\": 256}}], \"NUM_LOGS_PER_EPOCH\": 10, \"BEST_MODEL_PATH\": \"./best_model.pth\", \"n_way\": 16, \"datasets\": [{\"labels\": [\"1-10\", \"1-12\", \"1-14\", \"1-16\", \"1-18\", \"1-19\", \"1-8\", \"10-11\", \"10-17\", \"10-4\", \"10-7\", \"11-1\", \"11-10\", \"11-19\", \"11-20\", \"11-4\", \"11-7\", \"12-19\", \"12-20\", \"12-7\", \"13-14\", \"13-18\", \"13-19\", \"13-20\", \"13-3\", \"13-7\", \"14-10\", \"14-11\", \"14-12\", \"14-13\", \"14-14\", \"14-19\", \"14-20\", \"14-7\", \"14-8\", \"14-9\", \"15-1\", \"15-19\", \"15-6\", \"16-1\", \"16-16\", \"16-19\", \"16-20\", \"17-10\", \"17-11\", \"18-1\", \"18-10\", \"18-11\", \"18-12\", \"18-13\", \"18-14\", \"18-15\", \"18-16\", \"18-17\", \"18-19\", \"18-2\", \"18-20\", \"18-4\", \"18-5\", \"18-7\", \"18-8\", \"18-9\", \"19-1\", \"19-10\", \"19-11\", \"19-12\", \"19-13\", \"19-14\", \"19-15\", \"19-19\", \"19-2\", \"19-20\", \"19-3\", \"19-4\", \"19-6\", \"19-7\", \"19-8\", \"19-9\", \"2-1\", \"2-13\", \"2-15\", \"2-3\", \"2-4\", \"2-5\", \"2-6\", \"2-7\", \"2-8\", \"20-1\", \"20-12\", \"20-14\", \"20-15\", \"20-16\", \"20-18\", \"20-19\", \"20-20\", \"20-3\", \"20-4\", \"20-5\", \"20-7\", \"20-8\", \"3-1\", \"3-13\", \"3-18\", \"3-2\", \"3-8\", \"4-1\", \"4-10\", \"4-11\", \"5-1\", \"5-5\", \"6-1\", \"6-15\", \"6-6\", \"7-10\", \"7-11\", \"7-12\", \"7-13\", \"7-14\", \"7-7\", \"7-8\", \"7-9\", \"8-1\", \"8-13\", \"8-14\", \"8-18\", \"8-20\", \"8-3\", \"8-8\", \"9-1\", \"9-7\"], \"domains\": [1, 2, 3, 4], \"num_examples_per_domain_per_label\": -1, \"pickle_path\": \"/root/csc500-main/datasets/wisig.node3-19.stratified_ds.2022A.pkl\", \"source_or_target_dataset\": \"source\", \"x_transforms\": [\"unit_mag\"], \"episode_transforms\": [], \"domain_prefix\": \"Wisig_\"}, {\"labels\": [\"3123D52\", \"3123D65\", \"3123D79\", \"3123D80\", \"3123D54\", \"3123D70\", \"3123D7B\", \"3123D89\", \"3123D58\", \"3123D76\", \"3123D7D\", \"3123EFE\", \"3123D64\", \"3123D78\", \"3123D7E\", \"3124E4A\"], \"domains\": [32, 38, 8, 44, 14, 50, 20, 26], \"num_examples_per_domain_per_label\": 10000, \"pickle_path\": \"/root/csc500-main/datasets/oracle.Run1_10kExamples_stratified_ds.2022A.pkl\", \"source_or_target_dataset\": \"target\", \"x_transforms\": [\"unit_mag\"], \"episode_transforms\": [], \"domain_prefix\": \"ORACLE.run1\"}], \"dataset_seed\": 7, \"seed\": 7, \"x_shape\": [2, 256], \"domains_source\": [\"Wisig_1\", \"Wisig_2\", \"Wisig_3\", \"Wisig_4\"], \"domains_target\": [\"ORACLE.run132\", \"ORACLE.run138\", \"ORACLE.run18\", \"ORACLE.run144\", \"ORACLE.run114\", \"ORACLE.run150\", \"ORACLE.run120\", \"ORACLE.run126\"]}, \"results\": {\"source_test_label_accuracy\": 0.9597523219814241, \"source_test_label_loss\": 0.17693567276000977, \"target_test_label_accuracy\": 0.12564453125, \"target_test_label_loss\": 2.649181842803955, \"source_val_label_accuracy\": 0.9598732840549102, \"source_val_label_loss\": 0.1727716475725174, \"target_val_label_accuracy\": 0.123515625, \"target_val_label_loss\": 2.6522481441497803, \"total_epochs_trained\": 5, \"total_experiment_time_secs\": 1233.3009731769562, \"confusion\": {\"Wisig_4\": {\"71\": {\"71\": 103, \"84\": 1}, \"17\": {\"17\": 20}, \"105\": {\"105\": 81, \"12\": 2, \"71\": 2, \"40\": 4, \"87\": 4, \"126\": 1, \"111\": 1, \"69\": 1, \"53\": 1, \"128\": 1, \"7\": 1, \"36\": 1}, \"92\": {\"92\": 27, \"84\": 1}, \"100\": {\"100\": 20}, \"6\": {\"6\": 23, \"125\": 1}, \"36\": {\"36\": 124, \"24\": 2, \"26\": 1, \"1\": 1}, \"35\": {\"35\": 12}, \"63\": {\"63\": 16}, \"104\": {\"104\": 16}, \"114\": {\"114\": 123, \"98\": 1, \"71\": 1, \"26\": 1, \"3\": 1, \"105\": 1}, \"68\": {\"68\": 16}, \"109\": {\"109\": 114, \"91\": 1, \"39\": 1}, \"27\": {\"27\": 93, \"81\": 1, \"78\": 1, \"108\": 1, \"73\": 1, \"7\": 1, \"88\": 1, \"110\": 1}, \"79\": {\"79\": 16}, \"0\": {\"0\": 98, \"69\": 1, \"70\": 1, \"118\": 1, \"21\": 1, \"87\": 1, \"107\": 1, \"1\": 1, \"12\": 1}, \"28\": {\"28\": 19, \"10\": 1}, \"4\": {\"4\": 101, \"21\": 1, \"27\": 1, \"85\": 1}, \"106\": {\"106\": 98, \"21\": 1, \"39\": 2, \"69\": 1}, \"40\": {\"40\": 131, \"16\": 1, \"69\": 1, \"18\": 1}, \"127\": {\"127\": 105, \"67\": 1, \"12\": 1, \"4\": 1}, \"57\": {\"57\": 14, \"51\": 1, \"27\": 1}, \"60\": {\"60\": 28, \"19\": 2, \"98\": 1, \"43\": 1}, \"69\": {\"69\": 120, \"84\": 1, \"27\": 1, \"1\": 1, \"3\": 1}, \"84\": {\"84\": 128, \"21\": 1, \"78\": 1, \"118\": 1, \"3\": 1}, \"24\": {\"24\": 106, \"10\": 1, \"21\": 1, \"97\": 1, \"40\": 1, \"113\": 1, \"36\": 6, \"84\": 1, \"4\": 1, \"127\": 1}, \"94\": {\"84\": 1, \"94\": 83, \"36\": 1, \"12\": 1, \"15\": 1, \"26\": 1}, \"7\": {\"7\": 114, \"68\": 1, \"40\": 1, \"69\": 2, \"85\": 1, \"5\": 1}, \"96\": {\"96\": 16, \"91\": 2, \"85\": 1, \"21\": 1}, \"116\": {\"116\": 27, \"124\": 1}, \"47\": {\"47\": 7, \"69\": 1, \"127\": 2, \"65\": 1, \"70\": 1}, \"119\": {\"119\": 15, \"25\": 1}, \"74\": {\"74\": 15, \"113\": 1}, \"93\": {\"93\": 151, \"0\": 1}, \"2\": {\"93\": 3, \"2\": 21, \"26\": 3, \"92\": 1}, \"37\": {\"37\": 15, \"51\": 1}, \"15\": {\"15\": 125, \"26\": 1, \"106\": 1, \"110\": 1}, \"102\": {\"102\": 136}, \"87\": {\"87\": 115, \"59\": 1, \"105\": 3, \"126\": 1, \"26\": 1, \"43\": 1}, \"107\": {\"107\": 142, \"128\": 1, \"26\": 1}, \"61\": {\"61\": 14, \"91\": 1, \"21\": 1}, \"78\": {\"78\": 27, \"74\": 1, \"84\": 2, \"50\": 2, \"27\": 1, \"8\": 1, \"126\": 1, \"21\": 1}, \"9\": {\"9\": 28}, \"32\": {\"32\": 24, \"55\": 2, \"118\": 2}, \"14\": {\"14\": 111, \"31\": 1}, \"62\": {\"62\": 55, \"81\": 1, \"88\": 1, \"27\": 1, \"106\": 1, \"108\": 1}, \"1\": {\"24\": 1, \"1\": 95, \"126\": 1, \"33\": 3, \"111\": 2}, \"23\": {\"23\": 11, \"91\": 2, \"63\": 1, \"78\": 1, \"12\": 1}, \"95\": {\"95\": 31, \"1\": 1}, \"56\": {\"56\": 12}, \"91\": {\"91\": 22, \"34\": 1, \"85\": 1}, \"34\": {\"34\": 21, \"91\": 3, \"78\": 1, \"107\": 1, \"103\": 1, \"29\": 2, \"43\": 1, \"8\": 2}, \"25\": {\"25\": 16}, \"33\": {\"33\": 123, \"122\": 1}, \"16\": {\"16\": 120, \"69\": 1, \"107\": 1, \"87\": 1, \"8\": 1}, \"26\": {\"26\": 124, \"21\": 1, \"18\": 1}, \"5\": {\"5\": 128, \"26\": 2, \"3\": 1, \"39\": 1, \"81\": 1, \"29\": 1, \"16\": 1, \"93\": 1}, \"123\": {\"123\": 15, \"6\": 1}, \"8\": {\"8\": 118}, \"83\": {\"83\": 24, \"79\": 1, \"67\": 1, \"12\": 1, \"78\": 1}, \"125\": {\"125\": 134}, \"51\": {\"23\": 2, \"51\": 6, \"61\": 1, \"1\": 1, \"98\": 2, \"92\": 1, \"42\": 1, \"78\": 1, \"59\": 1}, \"22\": {\"22\": 16}, \"54\": {\"54\": 16}, \"66\": {\"66\": 16}, \"59\": {\"59\": 10, \"6\": 1, \"21\": 1}, \"111\": {\"111\": 126, \"5\": 1, \"110\": 1}, \"77\": {\"77\": 12}, \"103\": {\"103\": 16}, \"20\": {\"20\": 15, \"32\": 1}, \"124\": {\"124\": 117, \"98\": 1, \"26\": 1, \"70\": 1}, \"99\": {\"99\": 38, \"43\": 1, \"69\": 1}, \"120\": {\"91\": 1, \"120\": 18, \"21\": 1}, \"76\": {\"76\": 15, \"67\": 1}, \"110\": {\"110\": 111, \"26\": 1, \"39\": 1, \"68\": 1, \"36\": 2}, \"29\": {\"29\": 31, \"106\": 1}, \"118\": {\"118\": 105, \"12\": 1, \"71\": 1, \"106\": 1, \"78\": 2, \"21\": 1, \"11\": 1}, \"58\": {\"58\": 14, \"40\": 1, \"88\": 1}, \"13\": {\"13\": 15, \"85\": 1}, \"89\": {\"89\": 32}, \"31\": {\"31\": 15, \"95\": 1}, \"64\": {\"64\": 15, \"85\": 1}, \"65\": {\"65\": 12}, \"101\": {\"101\": 128, \"38\": 1, \"0\": 2, \"26\": 1}, \"126\": {\"126\": 117, \"111\": 1}, \"108\": {\"108\": 80, \"23\": 1, \"5\": 1, \"27\": 1, \"0\": 1, \"8\": 1, \"88\": 3, \"69\": 1, \"39\": 1, \"18\": 1, \"107\": 1}, \"45\": {\"45\": 16}, \"21\": {\"21\": 39, \"69\": 1}, \"30\": {\"30\": 73, \"21\": 1, \"15\": 1, \"127\": 1}, \"82\": {\"82\": 30, \"70\": 1, \"98\": 1}, \"85\": {\"85\": 28}, \"88\": {\"88\": 121, \"70\": 3, \"39\": 1, \"113\": 1, \"122\": 1, \"118\": 1, \"15\": 1, \"26\": 1, \"105\": 1, \"27\": 1}, \"41\": {\"41\": 15, \"88\": 1}, \"128\": {\"8\": 3, \"32\": 1, \"128\": 17, \"72\": 2, \"23\": 1}, \"39\": {\"39\": 94, \"114\": 1, \"69\": 1, \"81\": 2, \"2\": 1, \"116\": 1}, \"18\": {\"18\": 113, \"69\": 1, \"21\": 1, \"5\": 1, \"26\": 1, \"39\": 1, \"0\": 1, \"3\": 1}, \"113\": {\"113\": 122, \"114\": 1, \"39\": 1, \"0\": 1, \"41\": 1, \"68\": 1, \"3\": 1}, \"11\": {\"11\": 134, \"70\": 1, \"39\": 1, \"1\": 1, \"84\": 1}, \"43\": {\"43\": 113, \"87\": 2, \"26\": 1, \"10\": 1, \"3\": 1, \"72\": 1, \"105\": 1}, \"12\": {\"12\": 97, \"1\": 1, \"14\": 1, \"39\": 1}, \"122\": {\"122\": 81, \"69\": 1, \"109\": 1, \"7\": 1}, \"52\": {\"52\": 20}, \"44\": {\"44\": 64}, \"90\": {\"90\": 133, \"98\": 1}, \"112\": {\"112\": 16}, \"86\": {\"86\": 28}, \"3\": {\"3\": 114, \"84\": 1, \"1\": 1}, \"38\": {\"38\": 16}, \"121\": {\"121\": 26, \"113\": 2, \"44\": 2, \"51\": 2}, \"46\": {\"46\": 19, \"70\": 1}, \"70\": {\"70\": 121, \"117\": 1, \"126\": 1, \"5\": 1}, \"67\": {\"40\": 1, \"67\": 9, \"113\": 3, \"34\": 1, \"123\": 2}, \"53\": {\"53\": 16}, \"49\": {\"49\": 25, \"25\": 1, \"53\": 1, \"8\": 1, \"42\": 2, \"108\": 1, \"19\": 1}, \"42\": {\"42\": 25, \"8\": 2, \"83\": 1}, \"10\": {\"10\": 112, \"114\": 1, \"128\": 1, \"2\": 1, \"24\": 1, \"36\": 1, \"127\": 1}, \"50\": {\"50\": 16}, \"73\": {\"73\": 23, \"29\": 1}, \"115\": {\"115\": 11, \"89\": 1, \"50\": 1, \"99\": 1, \"109\": 1, \"72\": 1}, \"80\": {\"80\": 15, \"98\": 1}, \"19\": {\"19\": 26, \"26\": 1, \"126\": 1}, \"55\": {\"55\": 16}, \"72\": {\"72\": 31, \"27\": 1}, \"117\": {\"117\": 116}, \"81\": {\"81\": 33, \"72\": 1, \"69\": 1, \"78\": 1}, \"75\": {\"75\": 14, \"34\": 1, \"77\": 1}, \"98\": {\"98\": 116, \"16\": 1, \"24\": 1, \"25\": 2}, \"48\": {\"48\": 16}, \"129\": {\"19\": 2, \"129\": 24, \"108\": 1, \"22\": 1}, \"97\": {\"97\": 19, \"16\": 1}}, \"Wisig_1\": {\"105\": {\"105\": 82, \"40\": 2}, \"100\": {\"100\": 16}, \"112\": {\"112\": 16}, \"123\": {\"123\": 16}, \"13\": {\"13\": 16}, \"81\": {\"81\": 28}, \"124\": {\"124\": 119, \"125\": 1}, \"122\": {\"122\": 88}, \"111\": {\"111\": 118, \"26\": 1, \"70\": 1}, \"93\": {\"93\": 155, \"21\": 1, \"40\": 1, \"43\": 1}, \"106\": {\"106\": 112, \"17\": 2, \"12\": 1, \"98\": 1, \"39\": 2}, \"113\": {\"113\": 123, \"3\": 1}, \"95\": {\"95\": 36}, \"87\": {\"87\": 105, \"94\": 1, \"93\": 1, \"18\": 1}, \"86\": {\"86\": 35, \"52\": 1}, \"67\": {\"67\": 16}, \"85\": {\"85\": 32}, \"82\": {\"82\": 36}, \"115\": {\"115\": 12}, \"7\": {\"7\": 142}, \"44\": {\"44\": 76}, \"65\": {\"65\": 5, \"76\": 1, \"80\": 1, \"34\": 1, \"20\": 1, \"74\": 1, \"63\": 2}, \"129\": {\"129\": 25, \"84\": 1, \"94\": 1, \"111\": 1}, \"42\": {\"42\": 25, \"60\": 2, \"86\": 1}, \"28\": {\"65\": 1, \"28\": 18, \"52\": 1}, \"0\": {\"0\": 82, \"75\": 1, \"24\": 1}, \"10\": {\"10\": 116, \"0\": 2, \"57\": 1, \"85\": 1}, \"76\": {\"76\": 15, \"36\": 1}, \"88\": {\"88\": 123, \"36\": 3}, \"29\": {\"29\": 28}, \"16\": {\"16\": 105, \"109\": 1, \"23\": 1, \"12\": 1}, \"41\": {\"41\": 16}, \"27\": {\"27\": 91, \"94\": 1}, \"33\": {\"33\": 118, \"91\": 1, \"21\": 1}, \"75\": {\"75\": 16}, \"48\": {\"48\": 12}, \"56\": {\"56\": 11, \"71\": 1}, \"9\": {\"9\": 31, \"26\": 1}, \"1\": {\"1\": 125, \"5\": 1}, \"39\": {\"39\": 103, \"113\": 1}, \"50\": {\"75\": 1, \"50\": 12, \"91\": 1, \"65\": 2}, \"99\": {\"99\": 23, \"30\": 1}, \"90\": {\"90\": 122}, \"45\": {\"104\": 1, \"45\": 7, \"112\": 1, \"96\": 2, \"21\": 1}, \"5\": {\"5\": 88}, \"128\": {\"128\": 18, \"104\": 2, \"70\": 1, \"82\": 1, \"73\": 1, \"34\": 1}, \"2\": {\"2\": 25, \"70\": 1, \"82\": 1, \"60\": 1, \"34\": 1, \"100\": 2, \"54\": 1}, \"53\": {\"53\": 20}, \"104\": {\"104\": 16}, \"32\": {\"32\": 32}, \"92\": {\"92\": 28}, \"78\": {\"128\": 1, \"78\": 14, \"21\": 1}, \"19\": {\"19\": 28}, \"120\": {\"120\": 19, \"93\": 1}, \"43\": {\"43\": 122, \"106\": 2, \"93\": 1, \"113\": 1, \"12\": 1, \"84\": 1}, \"74\": {\"74\": 16}, \"11\": {\"11\": 129, \"127\": 1}, \"26\": {\"26\": 129, \"69\": 3}, \"125\": {\"125\": 132}, \"64\": {\"64\": 16}, \"127\": {\"127\": 105, \"26\": 1, \"69\": 1, \"94\": 1}, \"83\": {\"83\": 27, \"12\": 1}, \"118\": {\"118\": 83, \"93\": 1}, \"103\": {\"103\": 15, \"104\": 1}, \"55\": {\"55\": 12}, \"110\": {\"110\": 126}, \"30\": {\"30\": 50, \"91\": 1, \"108\": 1}, \"51\": {\"51\": 16}, \"6\": {\"6\": 26, \"52\": 1, \"34\": 3, \"91\": 2}, \"96\": {\"96\": 17, \"79\": 1, \"12\": 1, \"126\": 1}, \"114\": {\"114\": 142, \"71\": 1, \"39\": 1}, \"69\": {\"69\": 108}, \"60\": {\"60\": 6, \"100\": 1, \"34\": 1, \"2\": 1, \"120\": 1, \"81\": 2, \"123\": 1, \"21\": 1, \"119\": 1, \"72\": 1}, \"94\": {\"94\": 92}, \"79\": {\"79\": 12}, \"126\": {\"126\": 132, \"12\": 1, \"73\": 1}, \"68\": {\"68\": 16}, \"72\": {\"72\": 32}, \"63\": {\"63\": 16}, \"22\": {\"22\": 15, \"6\": 1}, \"121\": {\"121\": 31, \"70\": 1}, \"71\": {\"71\": 101, \"34\": 1, \"53\": 1, \"106\": 1, \"43\": 1, \"52\": 1, \"1\": 1, \"26\": 1}, \"54\": {\"54\": 16}, \"102\": {\"102\": 119, \"17\": 1}, \"73\": {\"73\": 17, \"6\": 1, \"98\": 1, \"104\": 1}, \"38\": {\"38\": 16}, \"4\": {\"4\": 95, \"105\": 2, \"3\": 1, \"69\": 2}, \"52\": {\"52\": 20}, \"70\": {\"70\": 123, \"12\": 2, \"83\": 1, \"34\": 1, \"113\": 1}, \"91\": {\"91\": 26, \"58\": 2}, \"77\": {\"77\": 15, \"17\": 1}, \"20\": {\"20\": 16}, \"59\": {\"59\": 12}, \"40\": {\"40\": 133, \"105\": 1, \"118\": 1, \"70\": 1}, \"98\": {\"98\": 108}, \"46\": {\"11\": 1, \"46\": 5, \"94\": 1, \"71\": 1, \"59\": 2, \"53\": 1, \"54\": 1}, \"34\": {\"34\": 25, \"86\": 1, \"13\": 2, \"95\": 1, \"29\": 1, \"80\": 1, \"53\": 1}, \"24\": {\"24\": 85, \"113\": 1, \"126\": 1, \"88\": 1, \"97\": 2, \"3\": 1, \"39\": 1}, \"62\": {\"62\": 118, \"6\": 1, \"113\": 1}, \"14\": {\"14\": 96}, \"12\": {\"12\": 100, \"3\": 1, \"113\": 1, \"39\": 1, \"70\": 1}, \"84\": {\"84\": 131, \"107\": 1, \"81\": 1, \"39\": 1}, \"37\": {\"37\": 16}, \"97\": {\"27\": 1, \"97\": 19}, \"57\": {\"57\": 11, \"89\": 1}, \"49\": {\"49\": 14, \"101\": 1, \"70\": 3, \"12\": 1, \"27\": 1}, \"17\": {\"17\": 14, \"123\": 1, \"71\": 1}, \"109\": {\"109\": 106}, \"80\": {\"80\": 16}, \"66\": {\"66\": 16}, \"101\": {\"101\": 123, \"70\": 1}, \"89\": {\"89\": 34, \"21\": 1, \"54\": 1}, \"31\": {\"31\": 16}, \"21\": {\"21\": 35, \"128\": 2, \"106\": 1, \"73\": 1, \"87\": 1}, \"23\": {\"23\": 14, \"18\": 1, \"44\": 1, \"55\": 3, \"83\": 1, \"52\": 1, \"61\": 1, \"66\": 2}, \"25\": {\"25\": 14, \"100\": 1, \"30\": 1}, \"107\": {\"107\": 109, \"105\": 1, \"113\": 1, \"94\": 1}, \"3\": {\"3\": 84, \"6\": 1, \"122\": 1, \"12\": 1, \"93\": 1}, \"61\": {\"61\": 11, \"65\": 1}, \"117\": {\"117\": 125, \"102\": 1}, \"119\": {\"119\": 15, \"65\": 1}, \"58\": {\"58\": 12}, \"47\": {\"47\": 12}, \"116\": {\"116\": 30, \"22\": 1, \"33\": 1}, \"18\": {\"18\": 122, \"113\": 2}, \"36\": {\"36\": 116, \"118\": 1, \"12\": 1, \"88\": 3, \"71\": 1}, \"108\": {\"108\": 110, \"47\": 1, \"70\": 1}, \"15\": {\"15\": 102, \"12\": 1, \"87\": 1}, \"8\": {\"8\": 114}, \"35\": {\"35\": 12}}, \"Wisig_2\": {\"3\": {\"3\": 128, \"26\": 1, \"61\": 1, \"39\": 1, \"70\": 1}, \"127\": {\"127\": 118, \"21\": 1, \"111\": 1}, \"58\": {\"58\": 20}, \"114\": {\"114\": 110, \"46\": 1, \"21\": 1}, \"111\": {\"111\": 139, \"127\": 3, \"15\": 1, \"93\": 1}, \"105\": {\"105\": 131, \"122\": 1}, \"118\": {\"21\": 1, \"118\": 65, \"13\": 1, \"36\": 1}, \"23\": {\"23\": 34, \"12\": 1, \"113\": 3, \"70\": 1, \"48\": 2, \"99\": 1, \"87\": 1, \"61\": 1}, \"21\": {\"21\": 41, \"118\": 1, \"5\": 1, \"84\": 1, \"85\": 1, \"24\": 1, \"70\": 1, \"71\": 1}, \"20\": {\"20\": 15, \"21\": 1}, \"75\": {\"75\": 15, \"85\": 1}, \"86\": {\"86\": 32}, \"60\": {\"60\": 25, \"83\": 1, \"88\": 1, \"87\": 1}, \"69\": {\"69\": 131, \"4\": 1, \"26\": 2, \"12\": 1, \"117\": 1, \"94\": 1, \"39\": 1, \"62\": 1, \"122\": 1}, \"99\": {\"99\": 31, \"115\": 1}, \"14\": {\"14\": 40, \"81\": 1, \"116\": 1, \"128\": 1, \"110\": 1, \"107\": 1, \"71\": 2, \"40\": 1}, \"25\": {\"25\": 15, \"52\": 1}, \"52\": {\"52\": 19, \"12\": 1}, \"47\": {\"47\": 10, \"49\": 1, \"118\": 1}, \"48\": {\"48\": 19, \"125\": 1}, \"27\": {\"27\": 57, \"78\": 1, \"101\": 1, \"24\": 2, \"84\": 1, \"39\": 1, \"36\": 1, \"0\": 1, \"85\": 1, \"113\": 1, \"62\": 1}, \"78\": {\"78\": 42, \"43\": 2, \"87\": 1, \"40\": 1, \"70\": 1, \"19\": 1}, \"8\": {\"8\": 119, \"23\": 1, \"69\": 1, \"30\": 1}, \"90\": {\"90\": 157, \"51\": 1, \"34\": 1, \"26\": 1}, \"103\": {\"103\": 16}, \"120\": {\"120\": 20}, \"96\": {\"96\": 20}, \"30\": {\"30\": 101, \"59\": 1, \"80\": 1, \"27\": 1}, \"33\": {\"33\": 146}, \"35\": {\"35\": 12}, \"108\": {\"108\": 116}, \"112\": {\"112\": 9, \"108\": 3, \"44\": 1, \"98\": 1, \"126\": 2}, \"40\": {\"40\": 125, \"21\": 1, \"100\": 1, \"105\": 4, \"62\": 1, \"94\": 1, \"127\": 1, \"95\": 1, \"70\": 1, \"4\": 1, \"12\": 2, \"18\": 1}, \"102\": {\"102\": 113, \"30\": 1, \"122\": 1, \"69\": 1}, \"56\": {\"56\": 12}, \"93\": {\"93\": 134, \"39\": 2}, \"68\": {\"68\": 15, \"31\": 1}, \"70\": {\"70\": 119, \"87\": 1, \"16\": 1, \"107\": 1, \"19\": 1, \"26\": 1}, \"7\": {\"7\": 123, \"92\": 1}, \"87\": {\"87\": 101, \"60\": 1, \"2\": 1, \"43\": 2, \"53\": 1, \"39\": 1, \"5\": 1, \"33\": 1, \"40\": 1, \"70\": 1, \"16\": 1}, \"54\": {\"56\": 1, \"54\": 19}, \"71\": {\"71\": 92, \"114\": 3, \"69\": 1, \"36\": 1, \"39\": 2, \"21\": 1}, \"80\": {\"80\": 16}, \"18\": {\"18\": 120, \"39\": 1, \"26\": 1}, \"101\": {\"101\": 119, \"78\": 1, \"0\": 2}, \"92\": {\"92\": 27, \"71\": 1}, \"32\": {\"22\": 1, \"32\": 24, \"61\": 1, \"52\": 1, \"62\": 4, \"79\": 1, \"107\": 2, \"127\": 1, \"14\": 1}, \"128\": {\"101\": 2, \"128\": 13, \"29\": 2, \"59\": 3, \"5\": 1, \"12\": 1, \"19\": 2}, \"6\": {\"6\": 31, \"103\": 1}, \"51\": {\"6\": 2, \"51\": 14, \"41\": 1, \"125\": 1, \"9\": 1, \"45\": 1}, \"85\": {\"85\": 31, \"53\": 1}, \"46\": {\"46\": 16}, \"22\": {\"22\": 20}, \"1\": {\"1\": 117, \"78\": 1, \"26\": 1, \"30\": 1, \"87\": 1, \"69\": 1}, \"37\": {\"37\": 16}, \"44\": {\"44\": 97, \"73\": 1, \"87\": 1, \"118\": 1}, \"24\": {\"24\": 100, \"78\": 1, \"62\": 1, \"94\": 1, \"39\": 1, \"70\": 1, \"21\": 1, \"8\": 1, \"27\": 1, \"110\": 1, \"36\": 2, \"122\": 1}, \"9\": {\"9\": 32}, \"116\": {\"60\": 2, \"116\": 22, \"87\": 1, \"82\": 2, \"70\": 1}, \"64\": {\"64\": 16}, \"129\": {\"129\": 32}, \"42\": {\"112\": 1, \"44\": 1, \"42\": 23, \"69\": 1, \"46\": 1, \"107\": 1}, \"117\": {\"117\": 119, \"93\": 1}, \"88\": {\"88\": 119, \"21\": 1, \"111\": 2, \"71\": 1, \"15\": 1}, \"31\": {\"31\": 20}, \"113\": {\"113\": 71, \"39\": 1}, \"38\": {\"38\": 16}, \"83\": {\"83\": 36, \"29\": 1, \"46\": 1, \"21\": 1, \"113\": 1}, \"49\": {\"49\": 19, \"11\": 1, \"44\": 1, \"53\": 1, \"71\": 1, \"47\": 1}, \"97\": {\"97\": 18, \"91\": 1, \"15\": 1}, \"76\": {\"76\": 16}, \"29\": {\"29\": 32}, \"61\": {\"61\": 19, \"12\": 1}, \"125\": {\"125\": 147, \"121\": 1}, \"126\": {\"126\": 118, \"78\": 1, \"26\": 1}, \"55\": {\"55\": 16}, \"0\": {\"0\": 104, \"27\": 1, \"92\": 1, \"21\": 1, \"18\": 1}, \"15\": {\"15\": 116, \"128\": 1, \"40\": 1, \"7\": 1, \"106\": 1}, \"26\": {\"26\": 134, \"40\": 1, \"122\": 1, \"0\": 1, \"12\": 1}, \"63\": {\"63\": 20}, \"57\": {\"57\": 20}, \"39\": {\"39\": 110, \"27\": 1, \"84\": 1}, \"62\": {\"62\": 134, \"39\": 1, \"69\": 1, \"60\": 1, \"10\": 1, \"12\": 1, \"102\": 1}, \"82\": {\"82\": 33, \"89\": 1, \"87\": 1, \"113\": 1}, \"11\": {\"11\": 78, \"12\": 1, \"122\": 1}, \"4\": {\"4\": 87, \"53\": 1}, \"41\": {\"41\": 20}, \"72\": {\"72\": 27, \"14\": 1}, \"16\": {\"16\": 118, \"3\": 1, \"93\": 3, \"39\": 1, \"110\": 1}, \"81\": {\"81\": 22, \"122\": 1, \"30\": 1}, \"67\": {\"67\": 16}, \"123\": {\"123\": 16}, \"66\": {\"66\": 19, \"86\": 1}, \"36\": {\"36\": 115, \"1\": 1, \"24\": 1, \"128\": 2, \"43\": 1, \"4\": 1, \"122\": 1, \"101\": 1, \"21\": 1, \"27\": 3, \"69\": 1}, \"115\": {\"115\": 11, \"21\": 1}, \"77\": {\"77\": 16}, \"119\": {\"119\": 20}, \"65\": {\"65\": 19, \"37\": 1}, \"34\": {\"14\": 2, \"34\": 23, \"32\": 1, \"6\": 1, \"8\": 1, \"29\": 1, \"52\": 1, \"86\": 1, \"107\": 1}, \"107\": {\"107\": 60, \"71\": 1, \"24\": 1, \"113\": 1, \"61\": 1}, \"13\": {\"13\": 16}, \"110\": {\"25\": 1, \"110\": 36, \"0\": 1, \"21\": 1, \"15\": 1}, \"106\": {\"106\": 114, \"98\": 1, \"114\": 1, \"39\": 1, \"15\": 1}, \"89\": {\"89\": 36}, \"94\": {\"27\": 1, \"94\": 55, \"122\": 1, \"14\": 1, \"21\": 2, \"31\": 1, \"71\": 1, \"49\": 1, \"88\": 1}, \"98\": {\"98\": 108, \"41\": 1, \"121\": 1, \"43\": 1, \"21\": 1}, \"91\": {\"91\": 26, \"41\": 1, \"117\": 1}, \"84\": {\"84\": 89, \"43\": 2, \"88\": 1}, \"73\": {\"59\": 1, \"73\": 27}, \"104\": {\"104\": 17, \"52\": 1, \"46\": 1, \"122\": 1}, \"59\": {\"59\": 15, \"52\": 1}, \"74\": {\"74\": 16}, \"28\": {\"28\": 19, \"59\": 1}, \"95\": {\"95\": 35, \"105\": 1}, \"2\": {\"2\": 27, \"69\": 2, \"100\": 2, \"115\": 1}, \"5\": {\"5\": 109, \"24\": 1, \"88\": 1, \"26\": 1}, \"50\": {\"50\": 15, \"69\": 1}, \"109\": {\"109\": 97, \"6\": 1, \"69\": 1, \"26\": 1}, \"10\": {\"10\": 56, \"113\": 1, \"26\": 1, \"62\": 2}, \"45\": {\"45\": 14, \"116\": 1, \"21\": 1}, \"121\": {\"65\": 2, \"121\": 28, \"18\": 1, \"23\": 1, \"26\": 1, \"89\": 2, \"113\": 1}, \"124\": {\"124\": 110}, \"53\": {\"53\": 14, \"128\": 1, \"25\": 1}, \"79\": {\"79\": 16}, \"43\": {\"43\": 106, \"87\": 1, \"78\": 2, \"26\": 1, \"122\": 1, \"101\": 1, \"70\": 1, \"16\": 1}, \"122\": {\"122\": 132, \"118\": 1, \"21\": 1, \"88\": 1, \"39\": 1, \"111\": 1, \"127\": 1}, \"100\": {\"100\": 15, \"83\": 1}, \"19\": {\"19\": 28}, \"12\": {\"12\": 85, \"128\": 2, \"69\": 1}, \"17\": {\"17\": 15, \"24\": 1}}, \"Wisig_3\": {\"38\": {\"38\": 16}, \"88\": {\"88\": 104, \"70\": 2, \"11\": 1, \"36\": 2, \"25\": 1, \"108\": 1, \"5\": 1}, \"104\": {\"104\": 16}, \"11\": {\"11\": 139, \"107\": 1}, \"103\": {\"103\": 15, \"62\": 1}, \"124\": {\"124\": 115, \"90\": 1}, \"3\": {\"3\": 112, \"43\": 1, \"101\": 1, \"27\": 1, \"114\": 1}, \"74\": {\"74\": 13, \"25\": 1, \"57\": 2}, \"126\": {\"126\": 120, \"127\": 1, \"39\": 1}, \"123\": {\"123\": 16}, \"51\": {\"51\": 15, \"111\": 1}, \"14\": {\"14\": 80}, \"16\": {\"16\": 112, \"93\": 1, \"110\": 1, \"26\": 1, \"0\": 1}, \"22\": {\"22\": 16}, \"109\": {\"109\": 121, \"62\": 1}, \"27\": {\"27\": 92, \"36\": 2, \"24\": 1, \"113\": 1}, \"75\": {\"75\": 16}, \"66\": {\"66\": 16}, \"48\": {\"53\": 3, \"48\": 7, \"86\": 2, \"99\": 1, \"76\": 1, \"20\": 1, \"74\": 1}, \"6\": {\"6\": 27, \"101\": 1, \"34\": 2, \"86\": 1, \"91\": 1}, \"10\": {\"10\": 109, \"16\": 1, \"86\": 1, \"12\": 1}, \"99\": {\"99\": 35, \"54\": 1}, \"50\": {\"50\": 16}, \"54\": {\"54\": 16}, \"55\": {\"55\": 16}, \"53\": {\"53\": 19, \"20\": 1}, \"72\": {\"72\": 28}, \"64\": {\"64\": 20}, \"115\": {\"23\": 1, \"115\": 15}, \"23\": {\"64\": 2, \"23\": 19, \"121\": 1, \"63\": 1, \"2\": 2, \"70\": 1, \"19\": 1, \"77\": 2, \"113\": 1, \"122\": 1, \"5\": 1}, \"32\": {\"57\": 3, \"32\": 20, \"107\": 2, \"14\": 1, \"115\": 1, \"82\": 2, \"11\": 2, \"50\": 1}, \"15\": {\"15\": 101, \"12\": 1, \"40\": 1, \"39\": 1}, \"43\": {\"23\": 1, \"43\": 50, \"84\": 1, \"21\": 3, \"33\": 1}, \"114\": {\"114\": 122, \"26\": 1, \"30\": 1}, \"121\": {\"81\": 1, \"121\": 28, \"80\": 2, \"64\": 1}, \"79\": {\"79\": 12}, \"81\": {\"81\": 32}, \"8\": {\"8\": 126, \"108\": 2}, \"13\": {\"121\": 1, \"13\": 9, \"115\": 2, \"2\": 1, \"116\": 1, \"103\": 1, \"124\": 1}, \"90\": {\"90\": 156}, \"41\": {\"57\": 1, \"41\": 15}, \"107\": {\"107\": 136}, \"57\": {\"57\": 20}, \"33\": {\"33\": 119, \"116\": 1}, \"35\": {\"35\": 12}, \"29\": {\"29\": 32}, \"70\": {\"70\": 68, \"39\": 1, \"69\": 1, \"71\": 1, \"8\": 1}, \"42\": {\"97\": 1, \"42\": 25, \"118\": 1, \"49\": 1}, \"93\": {\"93\": 126}, \"86\": {\"86\": 28}, \"28\": {\"28\": 16}, \"1\": {\"1\": 105, \"26\": 1, \"101\": 1, \"39\": 1}, \"125\": {\"125\": 122, \"44\": 1, \"117\": 1}, \"69\": {\"69\": 81, \"21\": 1, \"84\": 1, \"39\": 1}, \"97\": {\"97\": 20}, \"117\": {\"117\": 112}, \"68\": {\"68\": 16}, \"30\": {\"30\": 81, \"2\": 1, \"3\": 1, \"113\": 1}, \"111\": {\"111\": 132}, \"47\": {\"47\": 12}, \"102\": {\"102\": 124}, \"65\": {\"65\": 12}, \"113\": {\"113\": 118, \"106\": 1, \"30\": 1}, \"36\": {\"36\": 109, \"24\": 1, \"27\": 3, \"113\": 1}, \"119\": {\"119\": 16}, \"46\": {\"46\": 16}, \"49\": {\"49\": 20, \"70\": 1, \"81\": 1, \"112\": 1, \"75\": 1}, \"0\": {\"0\": 115, \"113\": 1}, \"58\": {\"58\": 16}, \"63\": {\"63\": 16}, \"94\": {\"94\": 84}, \"17\": {\"22\": 1, \"17\": 8, \"39\": 1, \"7\": 1, \"122\": 1, \"86\": 2, \"67\": 1, \"116\": 1}, \"9\": {\"9\": 31, \"71\": 1}, \"87\": {\"87\": 120}, \"59\": {\"59\": 11, \"30\": 1}, \"105\": {\"105\": 120}, \"80\": {\"80\": 14, \"128\": 1, \"31\": 1}, \"120\": {\"120\": 17, \"92\": 2, \"57\": 1}, \"18\": {\"18\": 129, \"34\": 1, \"127\": 1, \"90\": 1}, \"78\": {\"78\": 14, \"4\": 1, \"21\": 1}, \"25\": {\"25\": 16}, \"19\": {\"19\": 32}, \"122\": {\"122\": 55, \"17\": 1, \"92\": 1, \"2\": 1, \"71\": 1, \"39\": 1}, \"39\": {\"39\": 108}, \"76\": {\"76\": 16}, \"89\": {\"89\": 28}, \"129\": {\"129\": 29, \"110\": 3}, \"26\": {\"26\": 98, \"70\": 1, \"43\": 1}, \"85\": {\"85\": 35, \"108\": 1}, \"71\": {\"71\": 67, \"5\": 1}, \"77\": {\"77\": 16}, \"128\": {\"128\": 26, \"32\": 1, \"19\": 1, \"29\": 1, \"86\": 1, \"72\": 1, \"91\": 1}, \"2\": {\"2\": 26, \"26\": 2}, \"56\": {\"56\": 12}, \"24\": {\"24\": 46, \"36\": 2}, \"101\": {\"26\": 1, \"101\": 49, \"0\": 1, \"9\": 1}, \"52\": {\"52\": 16}, \"84\": {\"84\": 107, \"39\": 1}, \"7\": {\"7\": 109, \"39\": 1, \"5\": 1, \"91\": 1}, \"82\": {\"82\": 28}, \"60\": {\"60\": 20, \"122\": 1, \"19\": 1, \"29\": 3, \"82\": 2, \"5\": 1}, \"45\": {\"60\": 1, \"45\": 13, \"21\": 1, \"23\": 1}, \"40\": {\"40\": 124}, \"20\": {\"20\": 16}, \"4\": {\"4\": 96}, \"116\": {\"116\": 25, \"43\": 1, \"81\": 1, \"90\": 1}, \"61\": {\"61\": 16}, \"5\": {\"5\": 110, \"70\": 1, \"39\": 1}, \"106\": {\"106\": 100}, \"12\": {\"12\": 104}, \"62\": {\"62\": 118, \"69\": 1, \"39\": 1}, \"34\": {\"34\": 23, \"115\": 1, \"110\": 1, \"128\": 2, \"28\": 1, \"45\": 2, \"99\": 1, \"30\": 1}, \"91\": {\"91\": 24}, \"112\": {\"112\": 14, \"101\": 1, \"83\": 1}, \"92\": {\"92\": 32}, \"95\": {\"95\": 32}, \"96\": {\"96\": 20}, \"127\": {\"127\": 104, \"34\": 1, \"69\": 1, \"39\": 2}, \"67\": {\"67\": 15, \"114\": 1}, \"83\": {\"83\": 24}, \"21\": {\"43\": 1, \"78\": 1, \"21\": 44, \"106\": 1, \"59\": 1}, \"98\": {\"98\": 123, \"44\": 1}, \"108\": {\"108\": 128, \"8\": 4}, \"31\": {\"31\": 20}, \"118\": {\"118\": 100}, \"110\": {\"110\": 92}, \"73\": {\"73\": 40}, \"44\": {\"44\": 70, \"125\": 1, \"90\": 1}, \"37\": {\"37\": 15, \"118\": 1}, \"100\": {\"100\": 16}}, \"ORACLE.run126\": {\"0\": {\"7\": 90, \"3\": 85, \"2\": 87, \"5\": 51, \"4\": 116, \"10\": 92, \"13\": 42, \"14\": 87, \"15\": 75, \"12\": 53, \"9\": 66, \"11\": 14, \"6\": 74, \"1\": 96, \"0\": 76, \"8\": 96}, \"4\": {\"14\": 83, \"7\": 86, \"5\": 57, \"10\": 102, \"0\": 102, \"15\": 59, \"12\": 55, \"4\": 100, \"1\": 104, \"13\": 41, \"6\": 70, \"2\": 78, \"8\": 97, \"3\": 107, \"9\": 46, \"11\": 13}, \"14\": {\"0\": 107, \"4\": 114, \"8\": 94, \"10\": 98, \"9\": 61, \"2\": 67, \"1\": 117, \"3\": 84, \"7\": 93, \"12\": 47, \"15\": 77, \"6\": 63, \"14\": 96, \"5\": 42, \"13\": 24, \"11\": 16}, \"12\": {\"11\": 129, \"2\": 68, \"12\": 132, \"4\": 48, \"15\": 95, \"9\": 59, \"10\": 72, \"7\": 61, \"13\": 110, \"3\": 56, \"5\": 76, \"1\": 48, \"0\": 60, \"6\": 80, \"8\": 60, \"14\": 46}, \"8\": {\"11\": 38, \"15\": 71, \"3\": 71, \"7\": 82, \"6\": 86, \"5\": 75, \"9\": 64, \"14\": 72, \"0\": 90, \"4\": 90, \"8\": 94, \"1\": 86, \"12\": 71, \"13\": 50, \"2\": 74, \"10\": 86}, \"7\": {\"0\": 84, \"10\": 88, \"9\": 73, \"13\": 55, \"7\": 95, \"3\": 85, \"2\": 94, \"5\": 77, \"11\": 24, \"6\": 69, \"14\": 91, \"1\": 74, \"8\": 91, \"4\": 88, \"12\": 54, \"15\": 58}, \"13\": {\"10\": 54, \"11\": 145, \"12\": 103, \"0\": 40, \"2\": 70, \"15\": 103, \"5\": 114, \"1\": 29, \"14\": 43, \"9\": 81, \"6\": 82, \"8\": 72, \"13\": 114, \"3\": 48, \"7\": 60, \"4\": 42}, \"5\": {\"2\": 78, \"9\": 92, \"13\": 103, \"4\": 46, \"7\": 68, \"6\": 94, \"3\": 90, \"5\": 107, \"1\": 61, \"14\": 43, \"12\": 74, \"10\": 69, \"11\": 70, \"8\": 55, \"0\": 62, \"15\": 88}, \"15\": {\"15\": 78, \"4\": 82, \"13\": 72, \"6\": 92, \"7\": 82, \"3\": 84, \"9\": 74, \"1\": 64, \"11\": 62, \"5\": 100, \"12\": 92, \"14\": 51, \"10\": 67, \"8\": 61, \"0\": 62, \"2\": 77}, \"10\": {\"13\": 51, \"14\": 91, \"4\": 92, \"11\": 27, \"1\": 97, \"2\": 71, \"3\": 73, \"5\": 61, \"10\": 80, \"0\": 99, \"7\": 78, \"6\": 80, \"9\": 70, \"12\": 77, \"8\": 82, \"15\": 71}, \"3\": {\"6\": 80, \"2\": 85, \"9\": 68, \"7\": 77, \"10\": 85, \"14\": 76, \"3\": 97, \"12\": 45, \"5\": 75, \"4\": 88, \"1\": 85, \"13\": 53, \"0\": 90, \"8\": 83, \"15\": 87, \"11\": 26}, \"9\": {\"10\": 82, \"14\": 55, \"2\": 94, \"4\": 78, \"7\": 79, \"12\": 87, \"5\": 81, \"11\": 41, \"15\": 85, \"8\": 68, \"9\": 99, \"13\": 80, \"6\": 62, \"0\": 65, \"3\": 74, \"1\": 70}, \"6\": {\"0\": 88, \"9\": 83, \"7\": 54, \"14\": 81, \"10\": 81, \"13\": 60, \"11\": 54, \"2\": 75, \"6\": 84, \"5\": 83, \"3\": 83, \"8\": 93, \"1\": 76, \"4\": 63, \"12\": 67, \"15\": 75}, \"1\": {\"0\": 91, \"4\": 116, \"13\": 33, \"9\": 68, \"1\": 102, \"2\": 67, \"7\": 95, \"14\": 106, \"12\": 38, \"15\": 74, \"8\": 91, \"6\": 61, \"5\": 67, \"3\": 99, \"11\": 16, \"10\": 76}, \"11\": {\"12\": 140, \"11\": 409, \"8\": 34, \"7\": 30, \"3\": 32, \"14\": 19, \"2\": 44, \"0\": 14, \"10\": 33, \"5\": 86, \"13\": 139, \"6\": 62, \"15\": 71, \"9\": 57, \"4\": 18, \"1\": 12}, \"2\": {\"2\": 86, \"8\": 95, \"4\": 93, \"10\": 56, \"9\": 75, \"6\": 70, \"7\": 86, \"0\": 88, \"5\": 80, \"3\": 95, \"12\": 57, \"15\": 82, \"1\": 73, \"13\": 65, \"14\": 67, \"11\": 32}}, \"ORACLE.run144\": {\"1\": {\"9\": 107, \"13\": 67, \"2\": 111, \"14\": 72, \"3\": 136, \"1\": 123, \"12\": 123, \"7\": 99, \"4\": 66, \"10\": 110, \"5\": 34, \"11\": 46, \"6\": 54, \"15\": 33, \"8\": 13, \"0\": 6}, \"11\": {\"11\": 201, \"13\": 173, \"9\": 119, \"12\": 62, \"6\": 205, \"10\": 86, \"7\": 115, \"2\": 89, \"5\": 11, \"3\": 35, \"4\": 28, \"1\": 51, \"14\": 15, \"15\": 7, \"0\": 1, \"8\": 2}, \"3\": {\"7\": 89, \"6\": 38, \"3\": 171, \"2\": 77, \"4\": 97, \"9\": 93, \"10\": 74, \"1\": 126, \"15\": 47, \"12\": 131, \"11\": 26, \"0\": 24, \"14\": 76, \"13\": 55, \"5\": 51, \"8\": 25}, \"6\": {\"10\": 109, \"2\": 124, \"12\": 70, \"9\": 101, \"3\": 34, \"13\": 156, \"6\": 208, \"7\": 110, \"11\": 181, \"5\": 11, \"1\": 54, \"15\": 3, \"14\": 15, \"4\": 23, \"0\": 1}, \"7\": {\"3\": 91, \"6\": 121, \"12\": 98, \"10\": 106, \"13\": 94, \"7\": 115, \"9\": 115, \"2\": 121, \"1\": 94, \"4\": 61, \"15\": 10, \"0\": 7, \"11\": 106, \"5\": 15, \"14\": 46}, \"5\": {\"15\": 169, \"8\": 131, \"12\": 21, \"5\": 202, \"14\": 152, \"0\": 164, \"1\": 37, \"13\": 21, \"3\": 59, \"2\": 19, \"9\": 31, \"7\": 25, \"4\": 122, \"11\": 23, \"10\": 10, \"6\": 14}, \"2\": {\"2\": 116, \"13\": 111, \"9\": 104, \"6\": 153, \"1\": 94, \"10\": 119, \"7\": 126, \"11\": 108, \"14\": 30, \"4\": 55, \"12\": 83, \"3\": 71, \"5\": 18, \"15\": 6, \"8\": 2, \"0\": 4}, \"15\": {\"5\": 175, \"15\": 199, \"0\": 213, \"4\": 92, \"8\": 206, \"12\": 28, \"14\": 115, \"1\": 34, \"3\": 66, \"2\": 14, \"13\": 7, \"9\": 18, \"10\": 12, \"7\": 13, \"6\": 5, \"11\": 3}, \"10\": {\"1\": 134, \"6\": 114, \"12\": 130, \"14\": 28, \"3\": 85, \"5\": 8, \"9\": 120, \"7\": 118, \"11\": 89, \"2\": 121, \"10\": 115, \"13\": 93, \"15\": 6, \"4\": 33, \"8\": 2, \"0\": 4}, \"13\": {\"1\": 76, \"5\": 23, \"11\": 142, \"13\": 146, \"9\": 120, \"6\": 139, \"7\": 126, \"12\": 71, \"14\": 42, \"3\": 56, \"4\": 42, \"2\": 116, \"10\": 92, \"15\": 6, \"0\": 3}, \"8\": {\"15\": 214, \"8\": 347, \"5\": 151, \"4\": 45, \"14\": 91, \"0\": 283, \"1\": 11, \"7\": 5, \"11\": 2, \"9\": 15, \"3\": 20, \"13\": 6, \"12\": 7, \"10\": 2, \"6\": 1}, \"4\": {\"4\": 156, \"2\": 48, \"15\": 75, \"12\": 69, \"13\": 41, \"5\": 116, \"14\": 157, \"6\": 25, \"3\": 107, \"0\": 74, \"10\": 40, \"1\": 60, \"7\": 72, \"9\": 86, \"8\": 36, \"11\": 38}, \"9\": {\"4\": 65, \"7\": 104, \"9\": 123, \"14\": 52, \"2\": 98, \"6\": 116, \"12\": 104, \"13\": 92, \"3\": 72, \"11\": 104, \"1\": 97, \"10\": 122, \"5\": 28, \"15\": 11, \"0\": 7, \"8\": 5}, \"14\": {\"3\": 103, \"4\": 152, \"0\": 88, \"5\": 150, \"13\": 39, \"15\": 133, \"12\": 51, \"1\": 60, \"9\": 66, \"8\": 69, \"2\": 31, \"14\": 152, \"10\": 24, \"7\": 49, \"11\": 20, \"6\": 13}, \"0\": {\"15\": 220, \"14\": 117, \"5\": 167, \"0\": 243, \"8\": 248, \"4\": 84, \"2\": 9, \"12\": 25, \"3\": 40, \"9\": 10, \"1\": 19, \"13\": 3, \"7\": 9, \"11\": 1, \"6\": 1, \"10\": 4}, \"12\": {\"3\": 144, \"1\": 149, \"7\": 92, \"13\": 66, \"2\": 109, \"12\": 145, \"14\": 55, \"9\": 84, \"10\": 106, \"6\": 69, \"4\": 67, \"11\": 44, \"15\": 24, \"5\": 26, \"0\": 13, \"8\": 7}}, \"ORACLE.run150\": {\"15\": {\"0\": 26, \"4\": 143, \"15\": 140, \"13\": 97, \"6\": 115, \"10\": 36, \"7\": 82, \"14\": 54, \"5\": 95, \"8\": 10, \"12\": 52, \"9\": 99, \"1\": 100, \"11\": 120, \"2\": 18, \"3\": 13}, \"4\": {\"11\": 101, \"5\": 92, \"1\": 107, \"13\": 89, \"9\": 84, \"7\": 73, \"10\": 45, \"15\": 124, \"12\": 59, \"6\": 118, \"8\": 23, \"14\": 56, \"4\": 130, \"2\": 28, \"0\": 38, \"3\": 33}, \"6\": {\"5\": 106, \"13\": 104, \"11\": 94, \"6\": 116, \"3\": 40, \"7\": 75, \"15\": 114, \"4\": 111, \"12\": 62, \"9\": 67, \"8\": 33, \"1\": 90, \"14\": 68, \"0\": 32, \"2\": 20, \"10\": 68}, \"2\": {\"11\": 33, \"8\": 148, \"3\": 109, \"2\": 194, \"0\": 165, \"9\": 37, \"10\": 115, \"13\": 55, \"7\": 40, \"6\": 37, \"5\": 48, \"12\": 55, \"14\": 80, \"1\": 39, \"15\": 19, \"4\": 26}, \"5\": {\"15\": 108, \"13\": 103, \"7\": 118, \"11\": 77, \"3\": 63, \"2\": 33, \"8\": 39, \"5\": 105, \"0\": 50, \"6\": 101, \"1\": 112, \"14\": 49, \"10\": 68, \"4\": 78, \"9\": 57, \"12\": 39}, \"9\": {\"0\": 29, \"7\": 68, \"10\": 35, \"12\": 126, \"1\": 87, \"9\": 164, \"11\": 134, \"6\": 75, \"8\": 23, \"14\": 75, \"15\": 104, \"5\": 69, \"2\": 35, \"13\": 82, \"4\": 86, \"3\": 8}, \"8\": {\"8\": 207, \"13\": 47, \"6\": 33, \"2\": 144, \"0\": 138, \"3\": 211, \"10\": 142, \"12\": 37, \"7\": 65, \"5\": 36, \"11\": 15, \"4\": 28, \"14\": 38, \"15\": 15, \"1\": 28, \"9\": 16}, \"12\": {\"11\": 97, \"2\": 98, \"7\": 54, \"10\": 49, \"12\": 167, \"1\": 75, \"6\": 55, \"9\": 98, \"4\": 58, \"13\": 69, \"0\": 76, \"14\": 127, \"3\": 20, \"5\": 48, \"15\": 71, \"8\": 38}, \"10\": {\"5\": 76, \"7\": 70, \"2\": 108, \"8\": 122, \"11\": 45, \"14\": 70, \"0\": 108, \"4\": 34, \"6\": 56, \"10\": 110, \"3\": 125, \"12\": 59, \"9\": 41, \"1\": 57, \"15\": 41, \"13\": 78}, \"1\": {\"7\": 78, \"1\": 99, \"2\": 36, \"9\": 77, \"13\": 89, \"4\": 122, \"6\": 104, \"12\": 68, \"11\": 115, \"8\": 33, \"5\": 98, \"0\": 44, \"15\": 104, \"10\": 53, \"14\": 53, \"3\": 27}, \"0\": {\"8\": 120, \"10\": 115, \"7\": 62, \"2\": 129, \"0\": 129, \"13\": 58, \"6\": 52, \"5\": 59, \"1\": 58, \"14\": 91, \"3\": 137, \"11\": 40, \"9\": 31, \"12\": 69, \"4\": 28, \"15\": 22}, \"3\": {\"1\": 35, \"8\": 226, \"2\": 108, \"3\": 245, \"13\": 56, \"0\": 132, \"5\": 47, \"4\": 26, \"14\": 27, \"6\": 36, \"15\": 22, \"10\": 134, \"12\": 17, \"11\": 18, \"7\": 58, \"9\": 13}, \"13\": {\"0\": 59, \"13\": 96, \"1\": 96, \"15\": 91, \"5\": 96, \"11\": 78, \"12\": 47, \"6\": 99, \"7\": 92, \"4\": 100, \"8\": 72, \"10\": 65, \"9\": 62, \"3\": 55, \"14\": 55, \"2\": 37}, \"11\": {\"11\": 125, \"1\": 98, \"13\": 82, \"14\": 82, \"5\": 89, \"10\": 45, \"2\": 24, \"0\": 33, \"6\": 73, \"4\": 99, \"9\": 127, \"7\": 61, \"15\": 143, \"12\": 90, \"8\": 16, \"3\": 13}, \"7\": {\"12\": 48, \"5\": 102, \"2\": 53, \"13\": 90, \"6\": 87, \"9\": 57, \"0\": 48, \"10\": 66, \"3\": 68, \"11\": 79, \"15\": 84, \"4\": 109, \"7\": 103, \"1\": 95, \"14\": 65, \"8\": 46}, \"14\": {\"13\": 66, \"7\": 49, \"15\": 57, \"9\": 86, \"6\": 65, \"12\": 133, \"0\": 77, \"11\": 91, \"10\": 77, \"4\": 82, \"2\": 85, \"1\": 76, \"5\": 56, \"14\": 115, \"3\": 34, \"8\": 51}}, \"ORACLE.run138\": {\"15\": {\"1\": 130, \"15\": 118, \"9\": 94, \"14\": 66, \"2\": 112, \"8\": 80, \"6\": 110, \"3\": 63, \"5\": 72, \"11\": 51, \"4\": 8, \"13\": 108, \"0\": 67, \"7\": 41, \"10\": 65, \"12\": 15}, \"11\": {\"15\": 58, \"14\": 165, \"4\": 86, \"11\": 214, \"10\": 119, \"0\": 54, \"8\": 60, \"13\": 54, \"7\": 56, \"12\": 96, \"9\": 19, \"5\": 50, \"2\": 107, \"1\": 30, \"3\": 10, \"6\": 22}, \"10\": {\"12\": 80, \"14\": 114, \"4\": 40, \"2\": 80, \"15\": 75, \"10\": 109, \"6\": 52, \"8\": 96, \"9\": 46, \"7\": 81, \"13\": 54, \"0\": 95, \"11\": 100, \"5\": 75, \"3\": 70, \"1\": 33}, \"14\": {\"13\": 52, \"2\": 82, \"5\": 55, \"4\": 63, \"8\": 84, \"15\": 66, \"14\": 173, \"11\": 173, \"0\": 58, \"10\": 115, \"7\": 83, \"12\": 79, \"9\": 27, \"1\": 46, \"3\": 20, \"6\": 24}, \"6\": {\"6\": 137, \"0\": 68, \"1\": 113, \"15\": 109, \"7\": 53, \"13\": 97, \"5\": 100, \"9\": 117, \"10\": 54, \"8\": 88, \"4\": 8, \"2\": 75, \"11\": 23, \"14\": 36, \"3\": 108, \"12\": 14}, \"4\": {\"4\": 505, \"12\": 337, \"14\": 48, \"5\": 19, \"0\": 36, \"11\": 49, \"8\": 21, \"7\": 97, \"3\": 17, \"10\": 52, \"2\": 3, \"15\": 6, \"13\": 5, \"6\": 4, \"9\": 1}, \"13\": {\"7\": 38, \"2\": 164, \"1\": 122, \"10\": 59, \"11\": 52, \"15\": 113, \"14\": 54, \"6\": 93, \"8\": 86, \"5\": 79, \"0\": 51, \"9\": 92, \"3\": 65, \"13\": 115, \"12\": 13, \"4\": 4}, \"3\": {\"0\": 109, \"6\": 92, \"2\": 29, \"10\": 63, \"7\": 128, \"8\": 94, \"3\": 215, \"15\": 55, \"5\": 96, \"9\": 138, \"4\": 17, \"13\": 41, \"14\": 28, \"12\": 38, \"1\": 37, \"11\": 20}, \"7\": {\"9\": 60, \"0\": 113, \"10\": 99, \"5\": 84, \"12\": 107, \"7\": 158, \"8\": 94, \"14\": 77, \"4\": 53, \"2\": 29, \"3\": 112, \"1\": 31, \"15\": 43, \"6\": 42, \"13\": 44, \"11\": 54}, \"8\": {\"1\": 62, \"9\": 74, \"0\": 92, \"5\": 97, \"7\": 110, \"2\": 49, \"8\": 106, \"15\": 76, \"4\": 28, \"14\": 64, \"12\": 50, \"11\": 61, \"13\": 66, \"10\": 96, \"6\": 73, \"3\": 96}, \"1\": {\"9\": 110, \"1\": 168, \"2\": 127, \"7\": 20, \"10\": 51, \"0\": 44, \"8\": 68, \"6\": 121, \"5\": 80, \"3\": 60, \"15\": 133, \"11\": 26, \"13\": 142, \"14\": 44, \"12\": 6}, \"5\": {\"13\": 86, \"7\": 87, \"1\": 74, \"9\": 111, \"0\": 95, \"14\": 74, \"2\": 65, \"11\": 53, \"3\": 106, \"6\": 91, \"8\": 91, \"15\": 62, \"12\": 25, \"10\": 85, \"5\": 85, \"4\": 10}, \"0\": {\"9\": 78, \"7\": 138, \"10\": 99, \"2\": 38, \"5\": 105, \"13\": 44, \"8\": 95, \"1\": 30, \"6\": 63, \"0\": 113, \"11\": 41, \"15\": 60, \"12\": 71, \"14\": 57, \"4\": 49, \"3\": 119}, \"2\": {\"9\": 54, \"14\": 95, \"5\": 74, \"1\": 120, \"13\": 123, \"3\": 37, \"10\": 65, \"0\": 44, \"2\": 181, \"8\": 65, \"15\": 117, \"11\": 93, \"6\": 80, \"12\": 14, \"7\": 37, \"4\": 1}, \"12\": {\"12\": 312, \"4\": 303, \"7\": 122, \"10\": 82, \"6\": 11, \"14\": 75, \"11\": 71, \"0\": 74, \"8\": 53, \"5\": 29, \"15\": 19, \"3\": 24, \"13\": 6, \"9\": 6, \"2\": 10, \"1\": 3}, \"9\": {\"3\": 153, \"0\": 88, \"2\": 61, \"12\": 8, \"9\": 151, \"10\": 45, \"1\": 90, \"7\": 58, \"5\": 114, \"11\": 14, \"15\": 93, \"8\": 80, \"13\": 86, \"6\": 131, \"14\": 23, \"4\": 5}}, \"ORACLE.run120\": {\"10\": {\"5\": 92, \"9\": 73, \"14\": 126, \"6\": 98, \"11\": 48, \"0\": 67, \"7\": 90, \"3\": 58, \"1\": 62, \"2\": 49, \"8\": 91, \"4\": 104, \"13\": 36, \"10\": 115, \"12\": 52, \"15\": 39}, \"7\": {\"14\": 82, \"11\": 57, \"5\": 70, \"10\": 78, \"1\": 64, \"0\": 74, \"15\": 78, \"3\": 75, \"2\": 79, \"6\": 78, \"4\": 108, \"7\": 76, \"9\": 81, \"8\": 82, \"13\": 57, \"12\": 61}, \"4\": {\"10\": 74, \"8\": 95, \"11\": 67, \"13\": 59, \"3\": 87, \"9\": 92, \"2\": 74, \"0\": 63, \"1\": 70, \"14\": 93, \"6\": 95, \"15\": 47, \"4\": 83, \"5\": 55, \"7\": 66, \"12\": 80}, \"13\": {\"9\": 87, \"13\": 99, \"12\": 73, \"1\": 84, \"5\": 91, \"11\": 89, \"8\": 59, \"0\": 98, \"15\": 98, \"14\": 40, \"4\": 55, \"6\": 43, \"3\": 86, \"2\": 88, \"10\": 45, \"7\": 65}, \"1\": {\"11\": 82, \"9\": 76, \"1\": 110, \"13\": 98, \"4\": 72, \"5\": 98, \"3\": 75, \"8\": 53, \"6\": 45, \"7\": 69, \"10\": 63, \"0\": 77, \"15\": 91, \"2\": 78, \"12\": 68, \"14\": 45}, \"0\": {\"5\": 93, \"11\": 64, \"6\": 61, \"2\": 84, \"0\": 102, \"14\": 57, \"8\": 66, \"13\": 83, \"9\": 83, \"3\": 78, \"10\": 59, \"15\": 79, \"12\": 86, \"1\": 73, \"4\": 69, \"7\": 63}, \"12\": {\"14\": 64, \"3\": 80, \"9\": 78, \"6\": 59, \"13\": 83, \"5\": 84, \"10\": 59, \"8\": 65, \"2\": 91, \"15\": 87, \"1\": 75, \"11\": 80, \"12\": 75, \"0\": 85, \"4\": 67, \"7\": 68}, \"5\": {\"8\": 57, \"6\": 59, \"7\": 70, \"10\": 71, \"3\": 74, \"11\": 84, \"9\": 76, \"2\": 77, \"14\": 58, \"1\": 68, \"0\": 83, \"4\": 75, \"15\": 106, \"12\": 66, \"13\": 91, \"5\": 85}, \"6\": {\"10\": 102, \"7\": 65, \"0\": 70, \"13\": 39, \"15\": 55, \"5\": 72, \"9\": 63, \"14\": 130, \"6\": 107, \"11\": 63, \"1\": 45, \"3\": 67, \"12\": 61, \"2\": 65, \"4\": 100, \"8\": 96}, \"2\": {\"4\": 56, \"11\": 105, \"2\": 85, \"8\": 75, \"5\": 92, \"10\": 68, \"6\": 57, \"15\": 92, \"9\": 87, \"3\": 87, \"14\": 52, \"0\": 61, \"13\": 80, \"12\": 72, \"1\": 68, \"7\": 63}, \"8\": {\"9\": 65, \"6\": 105, \"7\": 86, \"3\": 79, \"4\": 95, \"0\": 60, \"15\": 60, \"8\": 80, \"12\": 67, \"5\": 85, \"2\": 59, \"11\": 60, \"14\": 102, \"10\": 86, \"13\": 49, \"1\": 62}, \"11\": {\"5\": 77, \"14\": 56, \"9\": 86, \"2\": 102, \"13\": 81, \"12\": 82, \"7\": 58, \"3\": 80, \"11\": 118, \"8\": 63, \"4\": 54, \"1\": 77, \"15\": 83, \"0\": 86, \"6\": 52, \"10\": 45}, \"9\": {\"4\": 87, \"0\": 77, \"7\": 81, \"12\": 91, \"13\": 77, \"8\": 64, \"10\": 63, \"6\": 63, \"14\": 60, \"11\": 88, \"2\": 65, \"5\": 64, \"1\": 75, \"9\": 73, \"3\": 83, \"15\": 89}, \"14\": {\"8\": 111, \"14\": 136, \"4\": 95, \"10\": 117, \"0\": 64, \"6\": 118, \"5\": 67, \"2\": 43, \"3\": 65, \"9\": 68, \"11\": 49, \"12\": 58, \"15\": 38, \"13\": 48, \"7\": 75, \"1\": 48}, \"15\": {\"8\": 50, \"0\": 87, \"5\": 76, \"4\": 66, \"11\": 77, \"3\": 94, \"2\": 81, \"15\": 99, \"12\": 81, \"9\": 79, \"13\": 99, \"1\": 83, \"6\": 61, \"14\": 43, \"10\": 49, \"7\": 75}, \"3\": {\"10\": 68, \"6\": 69, \"11\": 74, \"5\": 72, \"14\": 67, \"1\": 79, \"0\": 65, \"3\": 90, \"15\": 70, \"8\": 83, \"4\": 83, \"13\": 70, \"12\": 79, \"7\": 67, \"9\": 86, \"2\": 78}}, \"ORACLE.run114\": {\"14\": {\"7\": 63, \"6\": 122, \"15\": 95, \"14\": 134, \"0\": 72, \"2\": 115, \"11\": 78, \"13\": 103, \"4\": 76, \"10\": 75, \"5\": 71, \"1\": 59, \"3\": 68, \"9\": 32, \"12\": 18, \"8\": 19}, \"0\": {\"10\": 77, \"0\": 86, \"2\": 69, \"1\": 80, \"3\": 85, \"11\": 91, \"4\": 89, \"13\": 61, \"14\": 85, \"9\": 76, \"15\": 65, \"7\": 58, \"6\": 64, \"5\": 79, \"8\": 66, \"12\": 69}, \"4\": {\"12\": 39, \"13\": 72, \"15\": 108, \"11\": 85, \"8\": 56, \"6\": 64, \"10\": 97, \"4\": 90, \"0\": 73, \"7\": 92, \"5\": 76, \"3\": 82, \"1\": 83, \"14\": 64, \"2\": 67, \"9\": 52}, \"11\": {\"11\": 121, \"10\": 96, \"13\": 73, \"6\": 61, \"8\": 54, \"5\": 62, \"14\": 88, \"2\": 64, \"3\": 82, \"12\": 68, \"9\": 93, \"15\": 42, \"4\": 82, \"1\": 78, \"0\": 87, \"7\": 49}, \"13\": {\"14\": 124, \"1\": 52, \"5\": 72, \"13\": 130, \"15\": 106, \"7\": 81, \"4\": 92, \"0\": 66, \"11\": 75, \"3\": 61, \"2\": 104, \"6\": 128, \"12\": 12, \"9\": 15, \"8\": 14, \"10\": 68}, \"9\": {\"11\": 104, \"4\": 62, \"13\": 26, \"12\": 206, \"14\": 30, \"15\": 25, \"1\": 73, \"8\": 176, \"9\": 169, \"6\": 23, \"10\": 60, \"5\": 43, \"7\": 45, \"3\": 56, \"0\": 74, \"2\": 28}, \"3\": {\"12\": 47, \"7\": 67, \"5\": 87, \"0\": 84, \"8\": 37, \"2\": 87, \"6\": 71, \"3\": 81, \"4\": 93, \"11\": 79, \"9\": 66, \"14\": 81, \"13\": 85, \"1\": 81, \"10\": 75, \"15\": 79}, \"6\": {\"10\": 78, \"15\": 99, \"5\": 91, \"13\": 134, \"0\": 49, \"2\": 114, \"4\": 78, \"7\": 66, \"11\": 58, \"1\": 51, \"3\": 67, \"14\": 130, \"6\": 131, \"12\": 12, \"8\": 22, \"9\": 20}, \"1\": {\"12\": 62, \"4\": 90, \"5\": 85, \"14\": 58, \"8\": 79, \"7\": 103, \"10\": 69, \"9\": 68, \"15\": 104, \"0\": 95, \"3\": 60, \"6\": 52, \"2\": 69, \"1\": 94, \"13\": 55, \"11\": 57}, \"5\": {\"5\": 81, \"1\": 110, \"2\": 84, \"14\": 70, \"13\": 67, \"7\": 91, \"0\": 83, \"8\": 48, \"6\": 69, \"11\": 65, \"3\": 83, \"9\": 58, \"12\": 34, \"15\": 94, \"4\": 83, \"10\": 80}, \"12\": {\"6\": 9, \"1\": 55, \"0\": 66, \"9\": 209, \"13\": 17, \"12\": 308, \"11\": 76, \"4\": 49, \"10\": 51, \"3\": 48, \"8\": 184, \"2\": 26, \"5\": 35, \"14\": 24, \"7\": 26, \"15\": 17}, \"10\": {\"13\": 70, \"10\": 93, \"14\": 87, \"0\": 83, \"12\": 68, \"9\": 79, \"11\": 93, \"6\": 71, \"7\": 65, \"15\": 71, \"2\": 84, \"1\": 61, \"3\": 77, \"4\": 81, \"8\": 44, \"5\": 73}, \"8\": {\"8\": 192, \"5\": 61, \"9\": 177, \"10\": 53, \"3\": 66, \"11\": 68, \"12\": 189, \"6\": 22, \"13\": 23, \"4\": 69, \"0\": 67, \"1\": 77, \"7\": 56, \"15\": 46, \"14\": 13, \"2\": 21}, \"7\": {\"1\": 81, \"2\": 82, \"3\": 71, \"6\": 64, \"10\": 58, \"15\": 131, \"8\": 56, \"13\": 86, \"7\": 133, \"4\": 111, \"0\": 58, \"5\": 91, \"14\": 55, \"12\": 23, \"11\": 64, \"9\": 36}, \"15\": {\"13\": 80, \"5\": 90, \"8\": 32, \"14\": 78, \"3\": 65, \"15\": 150, \"2\": 91, \"6\": 112, \"4\": 85, \"9\": 26, \"7\": 117, \"1\": 83, \"11\": 60, \"0\": 59, \"12\": 19, \"10\": 53}, \"2\": {\"1\": 54, \"11\": 62, \"5\": 87, \"13\": 104, \"15\": 77, \"14\": 116, \"12\": 21, \"10\": 67, \"7\": 81, \"3\": 71, \"4\": 80, \"6\": 140, \"2\": 113, \"9\": 25, \"0\": 73, \"8\": 29}}, \"ORACLE.run132\": {\"11\": {\"13\": 93, \"2\": 103, \"0\": 106, \"11\": 128, \"14\": 130, \"4\": 111, \"8\": 100, \"5\": 109, \"12\": 46, \"7\": 103, \"15\": 31, \"9\": 53, \"6\": 6, \"3\": 75, \"10\": 5, \"1\": 1}, \"1\": {\"10\": 248, \"12\": 93, \"6\": 308, \"1\": 481, \"7\": 3, \"9\": 46, \"14\": 5, \"5\": 2, \"0\": 2, \"4\": 2, \"13\": 2, \"2\": 6, \"8\": 1, \"11\": 1}, \"2\": {\"14\": 141, \"11\": 96, \"2\": 136, \"4\": 118, \"6\": 19, \"7\": 103, \"9\": 114, \"12\": 65, \"1\": 8, \"5\": 85, \"8\": 64, \"13\": 62, \"0\": 99, \"15\": 17, \"3\": 45, \"10\": 28}, \"0\": {\"12\": 35, \"13\": 111, \"2\": 89, \"7\": 108, \"14\": 119, \"3\": 91, \"5\": 89, \"0\": 106, \"9\": 86, \"11\": 103, \"8\": 95, \"6\": 10, \"15\": 34, \"10\": 11, \"4\": 108, \"1\": 5}, \"3\": {\"14\": 69, \"5\": 117, \"8\": 132, \"0\": 86, \"7\": 79, \"15\": 160, \"11\": 87, \"3\": 166, \"13\": 112, \"9\": 20, \"4\": 93, \"2\": 65, \"12\": 10, \"10\": 3, \"6\": 1}, \"8\": {\"15\": 115, \"5\": 118, \"8\": 147, \"14\": 91, \"4\": 80, \"0\": 102, \"12\": 30, \"13\": 113, \"7\": 87, \"11\": 74, \"9\": 43, \"2\": 62, \"3\": 127, \"6\": 2, \"10\": 8, \"1\": 1}, \"12\": {\"10\": 209, \"12\": 208, \"4\": 63, \"9\": 184, \"6\": 85, \"14\": 40, \"13\": 26, \"2\": 64, \"5\": 32, \"1\": 81, \"0\": 64, \"8\": 38, \"7\": 45, \"11\": 32, \"15\": 13, \"3\": 16}, \"5\": {\"9\": 54, \"3\": 137, \"7\": 70, \"14\": 100, \"0\": 105, \"8\": 124, \"5\": 86, \"13\": 128, \"2\": 88, \"4\": 101, \"1\": 5, \"11\": 101, \"12\": 38, \"15\": 52, \"6\": 4, \"10\": 7}, \"15\": {\"15\": 504, \"4\": 34, \"8\": 131, \"3\": 180, \"0\": 47, \"13\": 107, \"5\": 66, \"7\": 20, \"14\": 39, \"2\": 20, \"11\": 38, \"12\": 9, \"9\": 4, \"10\": 1}, \"7\": {\"6\": 9, \"8\": 86, \"14\": 123, \"3\": 80, \"4\": 100, \"11\": 128, \"0\": 91, \"12\": 48, \"7\": 122, \"13\": 91, \"2\": 105, \"5\": 96, \"9\": 70, \"15\": 34, \"10\": 13, \"1\": 4}, \"4\": {\"11\": 118, \"14\": 103, \"2\": 104, \"9\": 70, \"0\": 113, \"12\": 69, \"7\": 95, \"6\": 5, \"4\": 108, \"5\": 86, \"8\": 82, \"13\": 105, \"10\": 15, \"3\": 86, \"15\": 36, \"1\": 5}, \"14\": {\"13\": 91, \"4\": 98, \"7\": 119, \"11\": 122, \"14\": 147, \"3\": 59, \"2\": 132, \"9\": 65, \"0\": 106, \"12\": 40, \"8\": 86, \"5\": 88, \"15\": 24, \"10\": 9, \"6\": 11, \"1\": 3}, \"10\": {\"12\": 197, \"6\": 180, \"10\": 324, \"2\": 21, \"1\": 265, \"9\": 107, \"0\": 14, \"5\": 6, \"7\": 17, \"11\": 9, \"15\": 4, \"13\": 11, \"4\": 19, \"8\": 4, \"14\": 16, \"3\": 6}, \"6\": {\"12\": 93, \"1\": 297, \"6\": 437, \"9\": 97, \"2\": 30, \"10\": 212, \"3\": 1, \"11\": 2, \"7\": 10, \"14\": 7, \"0\": 6, \"5\": 2, \"13\": 1, \"4\": 5}, \"13\": {\"13\": 119, \"11\": 101, \"8\": 121, \"2\": 67, \"3\": 117, \"14\": 82, \"9\": 48, \"4\": 117, \"5\": 104, \"7\": 91, \"15\": 77, \"12\": 27, \"0\": 112, \"1\": 3, \"10\": 9, \"6\": 5}, \"9\": {\"0\": 71, \"10\": 94, \"4\": 80, \"14\": 72, \"11\": 51, \"2\": 115, \"12\": 163, \"9\": 163, \"6\": 77, \"7\": 92, \"13\": 57, \"8\": 44, \"1\": 38, \"5\": 51, \"3\": 23, \"15\": 9}}, \"ORACLE.run18\": {\"9\": {\"9\": 679, \"12\": 8, \"0\": 70, \"5\": 71, \"4\": 49, \"14\": 52, \"13\": 60, \"2\": 13, \"10\": 75, \"7\": 38, \"6\": 30, \"15\": 4, \"1\": 25, \"3\": 5, \"11\": 17, \"8\": 4}, \"11\": {\"1\": 101, \"13\": 58, \"6\": 71, \"2\": 72, \"15\": 96, \"3\": 75, \"11\": 95, \"8\": 101, \"7\": 68, \"5\": 70, \"14\": 67, \"0\": 66, \"9\": 13, \"10\": 80, \"12\": 90, \"4\": 77}, \"8\": {\"5\": 60, \"0\": 51, \"14\": 68, \"13\": 64, \"11\": 91, \"12\": 110, \"3\": 107, \"1\": 82, \"15\": 113, \"8\": 129, \"7\": 70, \"6\": 70, \"10\": 48, \"2\": 80, \"4\": 47, \"9\": 10}, \"4\": {\"8\": 64, \"10\": 73, \"3\": 65, \"4\": 79, \"14\": 90, \"5\": 91, \"15\": 62, \"12\": 66, \"1\": 83, \"6\": 80, \"7\": 88, \"11\": 83, \"13\": 73, \"9\": 48, \"0\": 76, \"2\": 79}, \"13\": {\"3\": 80, \"14\": 95, \"9\": 63, \"6\": 85, \"4\": 81, \"11\": 61, \"0\": 99, \"10\": 100, \"2\": 74, \"12\": 47, \"1\": 72, \"7\": 80, \"15\": 49, \"5\": 79, \"8\": 40, \"13\": 95}, \"14\": {\"5\": 95, \"9\": 47, \"3\": 67, \"12\": 48, \"11\": 97, \"7\": 74, \"8\": 49, \"6\": 90, \"14\": 89, \"4\": 68, \"10\": 95, \"13\": 87, \"2\": 65, \"0\": 86, \"15\": 52, \"1\": 91}, \"2\": {\"5\": 62, \"3\": 102, \"12\": 85, \"8\": 74, \"4\": 78, \"6\": 77, \"0\": 74, \"13\": 74, \"11\": 69, \"2\": 109, \"1\": 71, \"14\": 72, \"15\": 94, \"7\": 80, \"10\": 61, \"9\": 18}, \"3\": {\"15\": 98, \"10\": 57, \"12\": 109, \"3\": 110, \"2\": 130, \"4\": 69, \"0\": 52, \"5\": 55, \"6\": 86, \"7\": 77, \"9\": 8, \"11\": 79, \"13\": 54, \"8\": 84, \"14\": 71, \"1\": 61}, \"1\": {\"12\": 89, \"7\": 76, \"13\": 53, \"8\": 101, \"11\": 99, \"1\": 90, \"2\": 72, \"15\": 84, \"9\": 19, \"5\": 82, \"14\": 75, \"4\": 79, \"0\": 62, \"6\": 82, \"10\": 66, \"3\": 71}, \"0\": {\"4\": 96, \"8\": 39, \"2\": 78, \"7\": 86, \"14\": 89, \"3\": 70, \"12\": 47, \"0\": 113, \"5\": 85, \"15\": 45, \"11\": 57, \"6\": 91, \"9\": 58, \"13\": 105, \"10\": 85, \"1\": 56}, \"5\": {\"8\": 50, \"0\": 75, \"1\": 96, \"11\": 72, \"14\": 104, \"4\": 90, \"10\": 73, \"2\": 62, \"3\": 53, \"6\": 64, \"7\": 73, \"9\": 75, \"15\": 54, \"5\": 111, \"13\": 100, \"12\": 48}, \"15\": {\"0\": 54, \"15\": 124, \"4\": 47, \"10\": 41, \"14\": 56, \"8\": 125, \"7\": 71, \"12\": 116, \"11\": 108, \"6\": 64, \"1\": 82, \"2\": 93, \"5\": 59, \"3\": 114, \"13\": 41, \"9\": 5}, \"10\": {\"11\": 71, \"0\": 90, \"7\": 75, \"1\": 79, \"5\": 97, \"14\": 89, \"12\": 45, \"15\": 49, \"4\": 81, \"3\": 49, \"6\": 84, \"9\": 61, \"13\": 102, \"10\": 108, \"8\": 56, \"2\": 64}, \"12\": {\"5\": 44, \"10\": 48, \"15\": 129, \"11\": 109, \"12\": 154, \"13\": 40, \"3\": 100, \"1\": 76, \"2\": 92, \"8\": 135, \"14\": 40, \"4\": 56, \"0\": 44, \"6\": 63, \"7\": 69, \"9\": 1}, \"6\": {\"5\": 76, \"0\": 75, \"3\": 73, \"13\": 86, \"4\": 84, \"15\": 89, \"8\": 56, \"6\": 78, \"1\": 89, \"12\": 61, \"7\": 77, \"11\": 88, \"9\": 29, \"2\": 80, \"14\": 82, \"10\": 77}, \"7\": {\"6\": 80, \"12\": 66, \"8\": 71, \"5\": 93, \"14\": 85, \"11\": 70, \"10\": 83, \"13\": 81, \"3\": 69, \"4\": 79, \"0\": 79, \"7\": 72, \"2\": 92, \"1\": 80, \"15\": 71, \"9\": 29}}}, \"per_domain_accuracy\": {\"Wisig_4\": {\"accuracy\": 0.9511316872427984, \"source?\": true}, \"Wisig_1\": {\"accuracy\": 0.9690148305084746, \"source?\": true}, \"Wisig_2\": {\"accuracy\": 0.950836820083682, \"source?\": true}, \"Wisig_3\": {\"accuracy\": 0.9691593886462883, \"source?\": true}, \"ORACLE.run126\": {\"accuracy\": 0.09630208333333333, \"source?\": false}, \"ORACLE.run144\": {\"accuracy\": 0.14385416666666667, \"source?\": false}, \"ORACLE.run150\": {\"accuracy\": 0.11692708333333333, \"source?\": false}, \"ORACLE.run138\": {\"accuracy\": 0.14895833333333333, \"source?\": false}, \"ORACLE.run120\": {\"accuracy\": 0.07984375, \"source?\": false}, \"ORACLE.run114\": {\"accuracy\": 0.1096875, \"source?\": false}, \"ORACLE.run132\": {\"accuracy\": 0.17614583333333333, \"source?\": false}, \"ORACLE.run18\": {\"accuracy\": 0.11640625, \"source?\": false}}}, \"history\": {\"epoch_indices\": [1, 2, 3, 4, 5], \"train_label_loss\": [0.19600612572452766, 0.12166275973236491, 0.09807072056732294, 0.08219879684629267, 0.06808623390987154], \"source_val_label_loss\": [0.1727716475725174, 0.13744215667247772, 0.12522684037685394, 0.12338679283857346, 0.12821125984191895], \"target_val_label_loss\": [2.6522481441497803, 2.695775270462036, 2.759950637817383, 2.7777140140533447, 2.822794198989868], \"source_val_acc_label\": [0.9598732840549102, 0.9689809926082366, 0.971257919746568, 0.9730398627243928, 0.9721158922914467], \"target_val_acc_label\": [0.123515625, 0.11514973958333333, 0.10126302083333333, 0.09837890625, 0.09444010416666666]}, \"dataset_metrics\": {\"source\": {\"train\": {\"n_unique_x\": 189042, \"n_unique_y\": 130, \"n_batch/episode\": 6851}, \"val\": {\"n_unique_x\": 40070, \"n_unique_y\": 130, \"n_batch/episode\": 947}, \"test\": {\"n_unique_x\": 40812, \"n_unique_y\": 130, \"n_batch/episode\": 969}}, \"target\": {\"train\": {\"n_unique_x\": 896000, \"n_unique_y\": 16, \"n_batch/episode\": 33600}, \"val\": {\"n_unique_x\": 192000, \"n_unique_y\": 16, \"n_batch/episode\": 4800}, \"test\": {\"n_unique_x\": 192000, \"n_unique_y\": 16, \"n_batch/episode\": 4800}}}}'"
      ]
     },
     "execution_count": 29,
     "metadata": {},
     "output_type": "execute_result"
    }
   ],
   "source": [
    "json.dumps(experiment)"
   ]
  }
 ],
 "metadata": {
  "celltoolbar": "Tags",
  "kernelspec": {
   "display_name": "Python 3 (ipykernel)",
   "language": "python",
   "name": "python3"
  },
  "language_info": {
   "codemirror_mode": {
    "name": "ipython",
    "version": 3
   },
   "file_extension": ".py",
   "mimetype": "text/x-python",
   "name": "python",
   "nbconvert_exporter": "python",
   "pygments_lexer": "ipython3",
   "version": "3.8.12"
  },
  "papermill": {
   "default_parameters": {},
   "duration": 1893.13984,
   "end_time": "2022-03-24T03:58:10.606696",
   "environment_variables": {},
   "exception": null,
   "input_path": "/root/csc500-main/csc500-notebooks/templates/tl_ptn_template.ipynb",
   "output_path": "trial.ipynb",
   "parameters": {
    "parameters": {
     "BEST_MODEL_PATH": "./best_model.pth",
     "NUM_LOGS_PER_EPOCH": 10,
     "criteria_for_best": "target_accuracy",
     "dataset_seed": 7,
     "datasets": [
      {
       "domain_prefix": "Wisig_",
       "domains": [
        1,
        2,
        3,
        4
       ],
       "episode_transforms": [],
       "labels": [
        "1-10",
        "1-12",
        "1-14",
        "1-16",
        "1-18",
        "1-19",
        "1-8",
        "10-11",
        "10-17",
        "10-4",
        "10-7",
        "11-1",
        "11-10",
        "11-19",
        "11-20",
        "11-4",
        "11-7",
        "12-19",
        "12-20",
        "12-7",
        "13-14",
        "13-18",
        "13-19",
        "13-20",
        "13-3",
        "13-7",
        "14-10",
        "14-11",
        "14-12",
        "14-13",
        "14-14",
        "14-19",
        "14-20",
        "14-7",
        "14-8",
        "14-9",
        "15-1",
        "15-19",
        "15-6",
        "16-1",
        "16-16",
        "16-19",
        "16-20",
        "17-10",
        "17-11",
        "18-1",
        "18-10",
        "18-11",
        "18-12",
        "18-13",
        "18-14",
        "18-15",
        "18-16",
        "18-17",
        "18-19",
        "18-2",
        "18-20",
        "18-4",
        "18-5",
        "18-7",
        "18-8",
        "18-9",
        "19-1",
        "19-10",
        "19-11",
        "19-12",
        "19-13",
        "19-14",
        "19-15",
        "19-19",
        "19-2",
        "19-20",
        "19-3",
        "19-4",
        "19-6",
        "19-7",
        "19-8",
        "19-9",
        "2-1",
        "2-13",
        "2-15",
        "2-3",
        "2-4",
        "2-5",
        "2-6",
        "2-7",
        "2-8",
        "20-1",
        "20-12",
        "20-14",
        "20-15",
        "20-16",
        "20-18",
        "20-19",
        "20-20",
        "20-3",
        "20-4",
        "20-5",
        "20-7",
        "20-8",
        "3-1",
        "3-13",
        "3-18",
        "3-2",
        "3-8",
        "4-1",
        "4-10",
        "4-11",
        "5-1",
        "5-5",
        "6-1",
        "6-15",
        "6-6",
        "7-10",
        "7-11",
        "7-12",
        "7-13",
        "7-14",
        "7-7",
        "7-8",
        "7-9",
        "8-1",
        "8-13",
        "8-14",
        "8-18",
        "8-20",
        "8-3",
        "8-8",
        "9-1",
        "9-7"
       ],
       "num_examples_per_domain_per_label": -1,
       "pickle_path": "/root/csc500-main/datasets/wisig.node3-19.stratified_ds.2022A.pkl",
       "source_or_target_dataset": "source",
       "x_transforms": [
        "unit_mag"
       ]
      },
      {
       "domain_prefix": "ORACLE.run1",
       "domains": [
        32,
        38,
        8,
        44,
        14,
        50,
        20,
        26
       ],
       "episode_transforms": [],
       "labels": [
        "3123D52",
        "3123D65",
        "3123D79",
        "3123D80",
        "3123D54",
        "3123D70",
        "3123D7B",
        "3123D89",
        "3123D58",
        "3123D76",
        "3123D7D",
        "3123EFE",
        "3123D64",
        "3123D78",
        "3123D7E",
        "3124E4A"
       ],
       "num_examples_per_domain_per_label": 10000,
       "pickle_path": "/root/csc500-main/datasets/oracle.Run1_10kExamples_stratified_ds.2022A.pkl",
       "source_or_target_dataset": "target",
       "x_transforms": [
        "unit_mag"
       ]
      }
     ],
     "device": "cuda",
     "experiment_name": "tl_1v2:wisig-oracle.run1",
     "lr": 0.0001,
     "n_epoch": 50,
     "n_query": 2,
     "n_shot": 3,
     "n_way": 16,
     "patience": 3,
     "seed": 7,
     "test_k_factor": 2,
     "torch_default_dtype": "torch.float32",
     "train_k_factor": 3,
     "val_k_factor": 2,
     "x_net": [
      {
       "class": "nnReshape",
       "kargs": {
        "shape": [
         -1,
         1,
         2,
         256
        ]
       }
      },
      {
       "class": "Conv2d",
       "kargs": {
        "bias": false,
        "in_channels": 1,
        "kernel_size": [
         1,
         7
        ],
        "out_channels": 256,
        "padding": [
         0,
         3
        ]
       }
      },
      {
       "class": "ReLU",
       "kargs": {
        "inplace": true
       }
      },
      {
       "class": "BatchNorm2d",
       "kargs": {
        "num_features": 256
       }
      },
      {
       "class": "Conv2d",
       "kargs": {
        "bias": true,
        "in_channels": 256,
        "kernel_size": [
         2,
         7
        ],
        "out_channels": 80,
        "padding": [
         0,
         3
        ]
       }
      },
      {
       "class": "ReLU",
       "kargs": {
        "inplace": true
       }
      },
      {
       "class": "BatchNorm2d",
       "kargs": {
        "num_features": 80
       }
      },
      {
       "class": "Flatten",
       "kargs": {}
      },
      {
       "class": "Linear",
       "kargs": {
        "in_features": 20480,
        "out_features": 256
       }
      },
      {
       "class": "ReLU",
       "kargs": {
        "inplace": true
       }
      },
      {
       "class": "BatchNorm1d",
       "kargs": {
        "num_features": 256
       }
      },
      {
       "class": "Linear",
       "kargs": {
        "in_features": 256,
        "out_features": 256
       }
      }
     ]
    }
   },
   "start_time": "2022-03-24T03:26:37.466856",
   "version": "2.3.4"
  }
 },
 "nbformat": 4,
 "nbformat_minor": 5
}