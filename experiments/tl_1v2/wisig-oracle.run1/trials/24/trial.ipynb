{
 "cells": [
  {
   "cell_type": "markdown",
   "id": "9fea5f46",
   "metadata": {
    "papermill": {
     "duration": 0.029657,
     "end_time": "2022-03-24T05:56:54.490093",
     "exception": false,
     "start_time": "2022-03-24T05:56:54.460436",
     "status": "completed"
    },
    "tags": []
   },
   "source": [
    "# Transfer Learning Template"
   ]
  },
  {
   "cell_type": "code",
   "execution_count": 1,
   "id": "0902182a",
   "metadata": {
    "execution": {
     "iopub.execute_input": "2022-03-24T05:56:54.554080Z",
     "iopub.status.busy": "2022-03-24T05:56:54.538382Z",
     "iopub.status.idle": "2022-03-24T05:56:57.064747Z",
     "shell.execute_reply": "2022-03-24T05:56:57.063915Z"
    },
    "papermill": {
     "duration": 2.552859,
     "end_time": "2022-03-24T05:56:57.064939",
     "exception": false,
     "start_time": "2022-03-24T05:56:54.512080",
     "status": "completed"
    },
    "tags": []
   },
   "outputs": [],
   "source": [
    "%load_ext autoreload\n",
    "%autoreload 2\n",
    "%matplotlib inline\n",
    "\n",
    "    \n",
    "import os, json, sys, time, random\n",
    "import numpy as np\n",
    "import torch\n",
    "from torch.optim import Adam\n",
    "from  easydict import EasyDict\n",
    "import matplotlib.pyplot as plt\n",
    "\n",
    "from steves_models.steves_ptn import Steves_Prototypical_Network\n",
    "\n",
    "from steves_utils.lazy_iterable_wrapper import Lazy_Iterable_Wrapper\n",
    "from steves_utils.iterable_aggregator import Iterable_Aggregator\n",
    "from steves_utils.ptn_train_eval_test_jig import  PTN_Train_Eval_Test_Jig\n",
    "from steves_utils.torch_sequential_builder import build_sequential\n",
    "from steves_utils.torch_utils import get_dataset_metrics, ptn_confusion_by_domain_over_dataloader\n",
    "from steves_utils.utils_v2 import (per_domain_accuracy_from_confusion, get_datasets_base_path)\n",
    "from steves_utils.PTN.utils import independent_accuracy_assesment\n",
    "\n",
    "from torch.utils.data import DataLoader\n",
    "\n",
    "from steves_utils.stratified_dataset.episodic_accessor import Episodic_Accessor_Factory\n",
    "\n",
    "from steves_utils.ptn_do_report import (\n",
    "    get_loss_curve,\n",
    "    get_results_table,\n",
    "    get_parameters_table,\n",
    "    get_domain_accuracies,\n",
    ")\n",
    "\n",
    "from steves_utils.transforms import get_chained_transform"
   ]
  },
  {
   "cell_type": "markdown",
   "id": "41c840b4",
   "metadata": {
    "papermill": {
     "duration": 0.018812,
     "end_time": "2022-03-24T05:56:57.107604",
     "exception": false,
     "start_time": "2022-03-24T05:56:57.088792",
     "status": "completed"
    },
    "tags": []
   },
   "source": [
    "# Allowed Parameters\n",
    "These are allowed parameters, not defaults\n",
    "Each of these values need to be present in the injected parameters (the notebook will raise an exception if they are not present)\n",
    "\n",
    "Papermill uses the cell tag \"parameters\" to inject the real parameters below this cell.\n",
    "Enable tags to see what I mean"
   ]
  },
  {
   "cell_type": "code",
   "execution_count": 2,
   "id": "fd44eb83",
   "metadata": {
    "execution": {
     "iopub.execute_input": "2022-03-24T05:56:57.150691Z",
     "iopub.status.busy": "2022-03-24T05:56:57.150107Z",
     "iopub.status.idle": "2022-03-24T05:56:57.175206Z",
     "shell.execute_reply": "2022-03-24T05:56:57.174494Z"
    },
    "papermill": {
     "duration": 0.048932,
     "end_time": "2022-03-24T05:56:57.175363",
     "exception": false,
     "start_time": "2022-03-24T05:56:57.126431",
     "status": "completed"
    },
    "tags": []
   },
   "outputs": [],
   "source": [
    "required_parameters = {\n",
    "    \"experiment_name\",\n",
    "    \"lr\",\n",
    "    \"device\",\n",
    "    \"seed\",\n",
    "    \"dataset_seed\",\n",
    "    \"n_shot\",\n",
    "    \"n_query\",\n",
    "    \"n_way\",\n",
    "    \"train_k_factor\",\n",
    "    \"val_k_factor\",\n",
    "    \"test_k_factor\",\n",
    "    \"n_epoch\",\n",
    "    \"patience\",\n",
    "    \"criteria_for_best\",\n",
    "    \"x_net\",\n",
    "    \"datasets\",\n",
    "    \"torch_default_dtype\",\n",
    "    \"NUM_LOGS_PER_EPOCH\",\n",
    "    \"BEST_MODEL_PATH\",\n",
    "    \"x_shape\",\n",
    "}"
   ]
  },
  {
   "cell_type": "code",
   "execution_count": 3,
   "id": "fa3f0049",
   "metadata": {
    "execution": {
     "iopub.execute_input": "2022-03-24T05:56:57.236445Z",
     "iopub.status.busy": "2022-03-24T05:56:57.223696Z",
     "iopub.status.idle": "2022-03-24T05:56:57.259277Z",
     "shell.execute_reply": "2022-03-24T05:56:57.260007Z"
    },
    "papermill": {
     "duration": 0.058216,
     "end_time": "2022-03-24T05:56:57.260210",
     "exception": false,
     "start_time": "2022-03-24T05:56:57.201994",
     "status": "completed"
    },
    "tags": [
     "parameters"
    ]
   },
   "outputs": [],
   "source": [
    "from steves_utils.CORES.utils import (\n",
    "    ALL_NODES,\n",
    "    ALL_NODES_MINIMUM_1000_EXAMPLES,\n",
    "    ALL_DAYS\n",
    ")\n",
    "\n",
    "from steves_utils.ORACLE.utils_v2 import (\n",
    "    ALL_DISTANCES_FEET_NARROWED,\n",
    "    ALL_RUNS,\n",
    "    ALL_SERIAL_NUMBERS,\n",
    ")\n",
    "\n",
    "standalone_parameters = {}\n",
    "standalone_parameters[\"experiment_name\"] = \"STANDALONE PTN\"\n",
    "standalone_parameters[\"lr\"] = 0.001\n",
    "standalone_parameters[\"device\"] = \"cuda\"\n",
    "\n",
    "standalone_parameters[\"seed\"] = 1337\n",
    "standalone_parameters[\"dataset_seed\"] = 1337\n",
    "\n",
    "standalone_parameters[\"n_way\"] = 8\n",
    "standalone_parameters[\"n_shot\"] = 3\n",
    "standalone_parameters[\"n_query\"]  = 2\n",
    "standalone_parameters[\"train_k_factor\"] = 1\n",
    "standalone_parameters[\"val_k_factor\"] = 2\n",
    "standalone_parameters[\"test_k_factor\"] = 2\n",
    "\n",
    "\n",
    "standalone_parameters[\"n_epoch\"] = 50\n",
    "\n",
    "standalone_parameters[\"patience\"] = 10\n",
    "standalone_parameters[\"criteria_for_best\"] = \"source_loss\"\n",
    "\n",
    "standalone_parameters[\"datasets\"] = [\n",
    "    {\n",
    "        \"labels\": ALL_SERIAL_NUMBERS,\n",
    "        \"domains\": ALL_DISTANCES_FEET_NARROWED,\n",
    "        \"num_examples_per_domain_per_label\": 100,\n",
    "        \"pickle_path\": os.path.join(get_datasets_base_path(), \"oracle.Run1_framed_2000Examples_stratified_ds.2022A.pkl\"),\n",
    "        \"source_or_target_dataset\": \"source\",\n",
    "        \"x_transforms\": [\"unit_mag\", \"minus_two\"],\n",
    "        \"episode_transforms\": [],\n",
    "        \"domain_prefix\": \"ORACLE_\"\n",
    "    },\n",
    "    {\n",
    "        \"labels\": ALL_NODES,\n",
    "        \"domains\": ALL_DAYS,\n",
    "        \"num_examples_per_domain_per_label\": 100,\n",
    "        \"pickle_path\": os.path.join(get_datasets_base_path(), \"cores.stratified_ds.2022A.pkl\"),\n",
    "        \"source_or_target_dataset\": \"target\",\n",
    "        \"x_transforms\": [\"unit_power\", \"times_zero\"],\n",
    "        \"episode_transforms\": [],\n",
    "        \"domain_prefix\": \"CORES_\"\n",
    "    }   \n",
    "]\n",
    "\n",
    "standalone_parameters[\"torch_default_dtype\"] = \"torch.float32\" \n",
    "\n",
    "\n",
    "\n",
    "standalone_parameters[\"x_net\"] =     [\n",
    "    {\"class\": \"nnReshape\", \"kargs\": {\"shape\":[-1, 1, 2, 256]}},\n",
    "    {\"class\": \"Conv2d\", \"kargs\": { \"in_channels\":1, \"out_channels\":256, \"kernel_size\":(1,7), \"bias\":False, \"padding\":(0,3), },},\n",
    "    {\"class\": \"ReLU\", \"kargs\": {\"inplace\": True}},\n",
    "    {\"class\": \"BatchNorm2d\", \"kargs\": {\"num_features\":256}},\n",
    "\n",
    "    {\"class\": \"Conv2d\", \"kargs\": { \"in_channels\":256, \"out_channels\":80, \"kernel_size\":(2,7), \"bias\":True, \"padding\":(0,3), },},\n",
    "    {\"class\": \"ReLU\", \"kargs\": {\"inplace\": True}},\n",
    "    {\"class\": \"BatchNorm2d\", \"kargs\": {\"num_features\":80}},\n",
    "    {\"class\": \"Flatten\", \"kargs\": {}},\n",
    "\n",
    "    {\"class\": \"Linear\", \"kargs\": {\"in_features\": 80*256, \"out_features\": 256}}, # 80 units per IQ pair\n",
    "    {\"class\": \"ReLU\", \"kargs\": {\"inplace\": True}},\n",
    "    {\"class\": \"BatchNorm1d\", \"kargs\": {\"num_features\":256}},\n",
    "\n",
    "    {\"class\": \"Linear\", \"kargs\": {\"in_features\": 256, \"out_features\": 256}},\n",
    "]\n",
    "\n",
    "# Parameters relevant to results\n",
    "# These parameters will basically never need to change\n",
    "standalone_parameters[\"NUM_LOGS_PER_EPOCH\"] = 10\n",
    "standalone_parameters[\"BEST_MODEL_PATH\"] = \"./best_model.pth\"\n",
    "\n",
    "\n",
    "\n",
    "\n"
   ]
  },
  {
   "cell_type": "code",
   "execution_count": 4,
   "id": "b9154727",
   "metadata": {
    "execution": {
     "iopub.execute_input": "2022-03-24T05:56:57.322956Z",
     "iopub.status.busy": "2022-03-24T05:56:57.319503Z",
     "iopub.status.idle": "2022-03-24T05:56:57.345361Z",
     "shell.execute_reply": "2022-03-24T05:56:57.344466Z"
    },
    "papermill": {
     "duration": 0.058965,
     "end_time": "2022-03-24T05:56:57.345537",
     "exception": false,
     "start_time": "2022-03-24T05:56:57.286572",
     "status": "completed"
    },
    "tags": [
     "injected-parameters"
    ]
   },
   "outputs": [],
   "source": [
    "# Parameters\n",
    "parameters = {\n",
    "    \"experiment_name\": \"tl_1v2:wisig-oracle.run1\",\n",
    "    \"device\": \"cuda\",\n",
    "    \"lr\": 0.0001,\n",
    "    \"n_shot\": 3,\n",
    "    \"n_query\": 2,\n",
    "    \"train_k_factor\": 3,\n",
    "    \"val_k_factor\": 2,\n",
    "    \"test_k_factor\": 2,\n",
    "    \"torch_default_dtype\": \"torch.float32\",\n",
    "    \"n_epoch\": 50,\n",
    "    \"patience\": 3,\n",
    "    \"criteria_for_best\": \"target_accuracy\",\n",
    "    \"x_net\": [\n",
    "        {\"class\": \"nnReshape\", \"kargs\": {\"shape\": [-1, 1, 2, 256]}},\n",
    "        {\n",
    "            \"class\": \"Conv2d\",\n",
    "            \"kargs\": {\n",
    "                \"in_channels\": 1,\n",
    "                \"out_channels\": 256,\n",
    "                \"kernel_size\": [1, 7],\n",
    "                \"bias\": False,\n",
    "                \"padding\": [0, 3],\n",
    "            },\n",
    "        },\n",
    "        {\"class\": \"ReLU\", \"kargs\": {\"inplace\": True}},\n",
    "        {\"class\": \"BatchNorm2d\", \"kargs\": {\"num_features\": 256}},\n",
    "        {\n",
    "            \"class\": \"Conv2d\",\n",
    "            \"kargs\": {\n",
    "                \"in_channels\": 256,\n",
    "                \"out_channels\": 80,\n",
    "                \"kernel_size\": [2, 7],\n",
    "                \"bias\": True,\n",
    "                \"padding\": [0, 3],\n",
    "            },\n",
    "        },\n",
    "        {\"class\": \"ReLU\", \"kargs\": {\"inplace\": True}},\n",
    "        {\"class\": \"BatchNorm2d\", \"kargs\": {\"num_features\": 80}},\n",
    "        {\"class\": \"Flatten\", \"kargs\": {}},\n",
    "        {\"class\": \"Linear\", \"kargs\": {\"in_features\": 20480, \"out_features\": 256}},\n",
    "        {\"class\": \"ReLU\", \"kargs\": {\"inplace\": True}},\n",
    "        {\"class\": \"BatchNorm1d\", \"kargs\": {\"num_features\": 256}},\n",
    "        {\"class\": \"Linear\", \"kargs\": {\"in_features\": 256, \"out_features\": 256}},\n",
    "    ],\n",
    "    \"NUM_LOGS_PER_EPOCH\": 10,\n",
    "    \"BEST_MODEL_PATH\": \"./best_model.pth\",\n",
    "    \"n_way\": 16,\n",
    "    \"datasets\": [\n",
    "        {\n",
    "            \"labels\": [\n",
    "                \"1-10\",\n",
    "                \"1-12\",\n",
    "                \"1-14\",\n",
    "                \"1-16\",\n",
    "                \"1-18\",\n",
    "                \"1-19\",\n",
    "                \"1-8\",\n",
    "                \"10-11\",\n",
    "                \"10-17\",\n",
    "                \"10-4\",\n",
    "                \"10-7\",\n",
    "                \"11-1\",\n",
    "                \"11-10\",\n",
    "                \"11-19\",\n",
    "                \"11-20\",\n",
    "                \"11-4\",\n",
    "                \"11-7\",\n",
    "                \"12-19\",\n",
    "                \"12-20\",\n",
    "                \"12-7\",\n",
    "                \"13-14\",\n",
    "                \"13-18\",\n",
    "                \"13-19\",\n",
    "                \"13-20\",\n",
    "                \"13-3\",\n",
    "                \"13-7\",\n",
    "                \"14-10\",\n",
    "                \"14-11\",\n",
    "                \"14-12\",\n",
    "                \"14-13\",\n",
    "                \"14-14\",\n",
    "                \"14-19\",\n",
    "                \"14-20\",\n",
    "                \"14-7\",\n",
    "                \"14-8\",\n",
    "                \"14-9\",\n",
    "                \"15-1\",\n",
    "                \"15-19\",\n",
    "                \"15-6\",\n",
    "                \"16-1\",\n",
    "                \"16-16\",\n",
    "                \"16-19\",\n",
    "                \"16-20\",\n",
    "                \"17-10\",\n",
    "                \"17-11\",\n",
    "                \"18-1\",\n",
    "                \"18-10\",\n",
    "                \"18-11\",\n",
    "                \"18-12\",\n",
    "                \"18-13\",\n",
    "                \"18-14\",\n",
    "                \"18-15\",\n",
    "                \"18-16\",\n",
    "                \"18-17\",\n",
    "                \"18-19\",\n",
    "                \"18-2\",\n",
    "                \"18-20\",\n",
    "                \"18-4\",\n",
    "                \"18-5\",\n",
    "                \"18-7\",\n",
    "                \"18-8\",\n",
    "                \"18-9\",\n",
    "                \"19-1\",\n",
    "                \"19-10\",\n",
    "                \"19-11\",\n",
    "                \"19-12\",\n",
    "                \"19-13\",\n",
    "                \"19-14\",\n",
    "                \"19-15\",\n",
    "                \"19-19\",\n",
    "                \"19-2\",\n",
    "                \"19-20\",\n",
    "                \"19-3\",\n",
    "                \"19-4\",\n",
    "                \"19-6\",\n",
    "                \"19-7\",\n",
    "                \"19-8\",\n",
    "                \"19-9\",\n",
    "                \"2-1\",\n",
    "                \"2-13\",\n",
    "                \"2-15\",\n",
    "                \"2-3\",\n",
    "                \"2-4\",\n",
    "                \"2-5\",\n",
    "                \"2-6\",\n",
    "                \"2-7\",\n",
    "                \"2-8\",\n",
    "                \"20-1\",\n",
    "                \"20-12\",\n",
    "                \"20-14\",\n",
    "                \"20-15\",\n",
    "                \"20-16\",\n",
    "                \"20-18\",\n",
    "                \"20-19\",\n",
    "                \"20-20\",\n",
    "                \"20-3\",\n",
    "                \"20-4\",\n",
    "                \"20-5\",\n",
    "                \"20-7\",\n",
    "                \"20-8\",\n",
    "                \"3-1\",\n",
    "                \"3-13\",\n",
    "                \"3-18\",\n",
    "                \"3-2\",\n",
    "                \"3-8\",\n",
    "                \"4-1\",\n",
    "                \"4-10\",\n",
    "                \"4-11\",\n",
    "                \"5-1\",\n",
    "                \"5-5\",\n",
    "                \"6-1\",\n",
    "                \"6-15\",\n",
    "                \"6-6\",\n",
    "                \"7-10\",\n",
    "                \"7-11\",\n",
    "                \"7-12\",\n",
    "                \"7-13\",\n",
    "                \"7-14\",\n",
    "                \"7-7\",\n",
    "                \"7-8\",\n",
    "                \"7-9\",\n",
    "                \"8-1\",\n",
    "                \"8-13\",\n",
    "                \"8-14\",\n",
    "                \"8-18\",\n",
    "                \"8-20\",\n",
    "                \"8-3\",\n",
    "                \"8-8\",\n",
    "                \"9-1\",\n",
    "                \"9-7\",\n",
    "            ],\n",
    "            \"domains\": [1, 2, 3, 4],\n",
    "            \"num_examples_per_domain_per_label\": -1,\n",
    "            \"pickle_path\": \"/root/csc500-main/datasets/wisig.node3-19.stratified_ds.2022A.pkl\",\n",
    "            \"source_or_target_dataset\": \"source\",\n",
    "            \"x_transforms\": [\"unit_power\"],\n",
    "            \"episode_transforms\": [],\n",
    "            \"domain_prefix\": \"Wisig_\",\n",
    "        },\n",
    "        {\n",
    "            \"labels\": [\n",
    "                \"3123D52\",\n",
    "                \"3123D65\",\n",
    "                \"3123D79\",\n",
    "                \"3123D80\",\n",
    "                \"3123D54\",\n",
    "                \"3123D70\",\n",
    "                \"3123D7B\",\n",
    "                \"3123D89\",\n",
    "                \"3123D58\",\n",
    "                \"3123D76\",\n",
    "                \"3123D7D\",\n",
    "                \"3123EFE\",\n",
    "                \"3123D64\",\n",
    "                \"3123D78\",\n",
    "                \"3123D7E\",\n",
    "                \"3124E4A\",\n",
    "            ],\n",
    "            \"domains\": [32, 38, 8, 44, 14, 50, 20, 26],\n",
    "            \"num_examples_per_domain_per_label\": 10000,\n",
    "            \"pickle_path\": \"/root/csc500-main/datasets/oracle.Run1_10kExamples_stratified_ds.2022A.pkl\",\n",
    "            \"source_or_target_dataset\": \"target\",\n",
    "            \"x_transforms\": [\"unit_power\"],\n",
    "            \"episode_transforms\": [],\n",
    "            \"domain_prefix\": \"ORACLE.run1\",\n",
    "        },\n",
    "    ],\n",
    "    \"dataset_seed\": 500,\n",
    "    \"seed\": 500,\n",
    "}\n"
   ]
  },
  {
   "cell_type": "code",
   "execution_count": 5,
   "id": "8fa1cc33",
   "metadata": {
    "execution": {
     "iopub.execute_input": "2022-03-24T05:56:57.397910Z",
     "iopub.status.busy": "2022-03-24T05:56:57.397333Z",
     "iopub.status.idle": "2022-03-24T05:56:57.419710Z",
     "shell.execute_reply": "2022-03-24T05:56:57.418980Z"
    },
    "papermill": {
     "duration": 0.048481,
     "end_time": "2022-03-24T05:56:57.419870",
     "exception": false,
     "start_time": "2022-03-24T05:56:57.371389",
     "status": "completed"
    },
    "tags": []
   },
   "outputs": [],
   "source": [
    "# Set this to True if you want to run this template directly\n",
    "STANDALONE = False\n",
    "if STANDALONE:\n",
    "    print(\"parameters not injected, running with standalone_parameters\")\n",
    "    parameters = standalone_parameters\n",
    "\n",
    "if not 'parameters' in locals() and not 'parameters' in globals():\n",
    "    raise Exception(\"Parameter injection failed\")\n",
    "\n",
    "#Use an easy dict for all the parameters\n",
    "p = EasyDict(parameters)\n",
    "\n",
    "if \"x_shape\" not in p:\n",
    "    p.x_shape = [2,256] # Default to this if we dont supply x_shape\n",
    "\n",
    "\n",
    "supplied_keys = set(p.keys())\n",
    "\n",
    "if  supplied_keys != required_parameters:\n",
    "    print(\"Parameters are incorrect\")\n",
    "    if len(supplied_keys - required_parameters)>0: print(\"Shouldn't have:\", str(supplied_keys - required_parameters))\n",
    "    if len(required_parameters - supplied_keys)>0: print(\"Need to have:\", str(required_parameters - supplied_keys))\n",
    "    raise RuntimeError(\"Parameters are incorrect\")"
   ]
  },
  {
   "cell_type": "code",
   "execution_count": 6,
   "id": "3a028d58",
   "metadata": {
    "execution": {
     "iopub.execute_input": "2022-03-24T05:56:57.472075Z",
     "iopub.status.busy": "2022-03-24T05:56:57.471703Z",
     "iopub.status.idle": "2022-03-24T05:56:57.497495Z",
     "shell.execute_reply": "2022-03-24T05:56:57.496688Z"
    },
    "papermill": {
     "duration": 0.049221,
     "end_time": "2022-03-24T05:56:57.497653",
     "exception": false,
     "start_time": "2022-03-24T05:56:57.448432",
     "status": "completed"
    },
    "tags": []
   },
   "outputs": [],
   "source": [
    "###################################\n",
    "# Set the RNGs and make it all deterministic\n",
    "###################################\n",
    "np.random.seed(p.seed)\n",
    "random.seed(p.seed)\n",
    "torch.manual_seed(p.seed)\n",
    "\n",
    "torch.use_deterministic_algorithms(True) "
   ]
  },
  {
   "cell_type": "code",
   "execution_count": 7,
   "id": "b691acf6",
   "metadata": {
    "execution": {
     "iopub.execute_input": "2022-03-24T05:56:57.548508Z",
     "iopub.status.busy": "2022-03-24T05:56:57.548065Z",
     "iopub.status.idle": "2022-03-24T05:56:57.569523Z",
     "shell.execute_reply": "2022-03-24T05:56:57.568719Z"
    },
    "papermill": {
     "duration": 0.046187,
     "end_time": "2022-03-24T05:56:57.569680",
     "exception": false,
     "start_time": "2022-03-24T05:56:57.523493",
     "status": "completed"
    },
    "tags": []
   },
   "outputs": [],
   "source": [
    "###########################################\n",
    "# The stratified datasets honor this\n",
    "###########################################\n",
    "torch.set_default_dtype(eval(p.torch_default_dtype))"
   ]
  },
  {
   "cell_type": "code",
   "execution_count": 8,
   "id": "b5fba671",
   "metadata": {
    "execution": {
     "iopub.execute_input": "2022-03-24T05:56:57.617995Z",
     "iopub.status.busy": "2022-03-24T05:56:57.617623Z",
     "iopub.status.idle": "2022-03-24T05:56:57.676261Z",
     "shell.execute_reply": "2022-03-24T05:56:57.675490Z"
    },
    "papermill": {
     "duration": 0.081293,
     "end_time": "2022-03-24T05:56:57.676440",
     "exception": false,
     "start_time": "2022-03-24T05:56:57.595147",
     "status": "completed"
    },
    "tags": []
   },
   "outputs": [],
   "source": [
    "###################################\n",
    "# Build the network(s)\n",
    "# Note: It's critical to do this AFTER setting the RNG\n",
    "###################################\n",
    "x_net = build_sequential(p.x_net)"
   ]
  },
  {
   "cell_type": "code",
   "execution_count": 9,
   "id": "5d7e61cc",
   "metadata": {
    "execution": {
     "iopub.execute_input": "2022-03-24T05:56:57.725042Z",
     "iopub.status.busy": "2022-03-24T05:56:57.723316Z",
     "iopub.status.idle": "2022-03-24T05:56:57.751411Z",
     "shell.execute_reply": "2022-03-24T05:56:57.750601Z"
    },
    "papermill": {
     "duration": 0.050181,
     "end_time": "2022-03-24T05:56:57.751581",
     "exception": false,
     "start_time": "2022-03-24T05:56:57.701400",
     "status": "completed"
    },
    "tags": []
   },
   "outputs": [],
   "source": [
    "start_time_secs = time.time()"
   ]
  },
  {
   "cell_type": "code",
   "execution_count": 10,
   "id": "c6b67dfd",
   "metadata": {
    "execution": {
     "iopub.execute_input": "2022-03-24T05:56:57.804243Z",
     "iopub.status.busy": "2022-03-24T05:56:57.802267Z",
     "iopub.status.idle": "2022-03-24T05:56:57.827724Z",
     "shell.execute_reply": "2022-03-24T05:56:57.826998Z"
    },
    "papermill": {
     "duration": 0.047441,
     "end_time": "2022-03-24T05:56:57.827878",
     "exception": false,
     "start_time": "2022-03-24T05:56:57.780437",
     "status": "completed"
    },
    "tags": []
   },
   "outputs": [],
   "source": [
    "p.domains_source = []\n",
    "p.domains_target = []\n",
    "\n",
    "\n",
    "train_original_source = []\n",
    "val_original_source   = []\n",
    "test_original_source  = []\n",
    "\n",
    "train_original_target = []\n",
    "val_original_target   = []\n",
    "test_original_target  = []"
   ]
  },
  {
   "cell_type": "code",
   "execution_count": 11,
   "id": "e3d9c3d3",
   "metadata": {
    "execution": {
     "iopub.execute_input": "2022-03-24T05:56:57.884835Z",
     "iopub.status.busy": "2022-03-24T05:56:57.884465Z",
     "iopub.status.idle": "2022-03-24T05:56:57.909028Z",
     "shell.execute_reply": "2022-03-24T05:56:57.908224Z"
    },
    "papermill": {
     "duration": 0.047312,
     "end_time": "2022-03-24T05:56:57.909186",
     "exception": false,
     "start_time": "2022-03-24T05:56:57.861874",
     "status": "completed"
    },
    "tags": []
   },
   "outputs": [],
   "source": [
    "# global_x_transform_func = lambda x: normalize(x.to(torch.get_default_dtype()), \"unit_power\") # unit_power, unit_mag\n",
    "# global_x_transform_func = lambda x: normalize(x, \"unit_power\") # unit_power, unit_mag"
   ]
  },
  {
   "cell_type": "code",
   "execution_count": 12,
   "id": "acb78fd2",
   "metadata": {
    "execution": {
     "iopub.execute_input": "2022-03-24T05:56:57.966808Z",
     "iopub.status.busy": "2022-03-24T05:56:57.965767Z",
     "iopub.status.idle": "2022-03-24T05:56:57.987621Z",
     "shell.execute_reply": "2022-03-24T05:56:57.986908Z"
    },
    "papermill": {
     "duration": 0.052912,
     "end_time": "2022-03-24T05:56:57.987774",
     "exception": false,
     "start_time": "2022-03-24T05:56:57.934862",
     "status": "completed"
    },
    "tags": []
   },
   "outputs": [],
   "source": [
    "def add_dataset(\n",
    "    labels,\n",
    "    domains,\n",
    "    pickle_path,\n",
    "    x_transforms,\n",
    "    episode_transforms,\n",
    "    domain_prefix,\n",
    "    num_examples_per_domain_per_label,\n",
    "    source_or_target_dataset:str,\n",
    "    iterator_seed=p.seed,\n",
    "    dataset_seed=p.dataset_seed,\n",
    "    n_shot=p.n_shot,\n",
    "    n_way=p.n_way,\n",
    "    n_query=p.n_query,\n",
    "    train_val_test_k_factors=(p.train_k_factor,p.val_k_factor,p.test_k_factor),\n",
    "):\n",
    "   \n",
    "    if x_transforms == []: x_transform = None\n",
    "    else: x_transform = get_chained_transform(x_transforms)\n",
    "    \n",
    "    if episode_transforms == []: episode_transform = None\n",
    "    else: raise Exception(\"episode_transforms not implemented\")\n",
    "    \n",
    "    episode_transform = lambda tup, _prefix=domain_prefix: (_prefix + str(tup[0]), tup[1])\n",
    "\n",
    "\n",
    "    eaf = Episodic_Accessor_Factory(\n",
    "        labels=labels,\n",
    "        domains=domains,\n",
    "        num_examples_per_domain_per_label=num_examples_per_domain_per_label,\n",
    "        iterator_seed=iterator_seed,\n",
    "        dataset_seed=dataset_seed,\n",
    "        n_shot=n_shot,\n",
    "        n_way=n_way,\n",
    "        n_query=n_query,\n",
    "        train_val_test_k_factors=train_val_test_k_factors,\n",
    "        pickle_path=pickle_path,\n",
    "        x_transform_func=x_transform,\n",
    "    )\n",
    "\n",
    "    train, val, test = eaf.get_train(), eaf.get_val(), eaf.get_test()\n",
    "    train = Lazy_Iterable_Wrapper(train, episode_transform)\n",
    "    val = Lazy_Iterable_Wrapper(val, episode_transform)\n",
    "    test = Lazy_Iterable_Wrapper(test, episode_transform)\n",
    "\n",
    "    if source_or_target_dataset==\"source\":\n",
    "        train_original_source.append(train)\n",
    "        val_original_source.append(val)\n",
    "        test_original_source.append(test)\n",
    "\n",
    "        p.domains_source.extend(\n",
    "            [domain_prefix + str(u) for u in domains]\n",
    "        )\n",
    "    elif source_or_target_dataset==\"target\":\n",
    "        train_original_target.append(train)\n",
    "        val_original_target.append(val)\n",
    "        test_original_target.append(test)\n",
    "        p.domains_target.extend(\n",
    "            [domain_prefix + str(u) for u in domains]\n",
    "        )\n",
    "    else:\n",
    "        raise Exception(f\"invalid source_or_target_dataset: {source_or_target_dataset}\")\n",
    "    "
   ]
  },
  {
   "cell_type": "code",
   "execution_count": 13,
   "id": "fe266617",
   "metadata": {
    "execution": {
     "iopub.execute_input": "2022-03-24T05:56:58.041537Z",
     "iopub.status.busy": "2022-03-24T05:56:58.040986Z",
     "iopub.status.idle": "2022-03-24T05:59:10.645249Z",
     "shell.execute_reply": "2022-03-24T05:59:10.644662Z"
    },
    "papermill": {
     "duration": 132.628996,
     "end_time": "2022-03-24T05:59:10.645402",
     "exception": false,
     "start_time": "2022-03-24T05:56:58.016406",
     "status": "completed"
    },
    "tags": []
   },
   "outputs": [],
   "source": [
    "for ds in p.datasets:\n",
    "    add_dataset(**ds)"
   ]
  },
  {
   "cell_type": "code",
   "execution_count": 14,
   "id": "b90d65ac",
   "metadata": {
    "execution": {
     "iopub.execute_input": "2022-03-24T05:59:10.694843Z",
     "iopub.status.busy": "2022-03-24T05:59:10.693832Z",
     "iopub.status.idle": "2022-03-24T05:59:10.720593Z",
     "shell.execute_reply": "2022-03-24T05:59:10.719739Z"
    },
    "papermill": {
     "duration": 0.050625,
     "end_time": "2022-03-24T05:59:10.720762",
     "exception": false,
     "start_time": "2022-03-24T05:59:10.670137",
     "status": "completed"
    },
    "tags": []
   },
   "outputs": [],
   "source": [
    "# from steves_utils.CORES.utils import (\n",
    "#     ALL_NODES,\n",
    "#     ALL_NODES_MINIMUM_1000_EXAMPLES,\n",
    "#     ALL_DAYS\n",
    "# )\n",
    "\n",
    "# add_dataset(\n",
    "#     labels=ALL_NODES,\n",
    "#     domains = ALL_DAYS,\n",
    "#     num_examples_per_domain_per_label=100,\n",
    "#     pickle_path=os.path.join(get_datasets_base_path(), \"cores.stratified_ds.2022A.pkl\"),\n",
    "#     source_or_target_dataset=\"target\",\n",
    "#     x_transform_func=global_x_transform_func,\n",
    "#     domain_modifier=lambda u: f\"cores_{u}\"\n",
    "# )"
   ]
  },
  {
   "cell_type": "code",
   "execution_count": 15,
   "id": "76db484d",
   "metadata": {
    "execution": {
     "iopub.execute_input": "2022-03-24T05:59:10.773699Z",
     "iopub.status.busy": "2022-03-24T05:59:10.772687Z",
     "iopub.status.idle": "2022-03-24T05:59:10.793838Z",
     "shell.execute_reply": "2022-03-24T05:59:10.793010Z"
    },
    "papermill": {
     "duration": 0.046141,
     "end_time": "2022-03-24T05:59:10.794002",
     "exception": false,
     "start_time": "2022-03-24T05:59:10.747861",
     "status": "completed"
    },
    "tags": []
   },
   "outputs": [],
   "source": [
    "# from steves_utils.ORACLE.utils_v2 import (\n",
    "#     ALL_DISTANCES_FEET,\n",
    "#     ALL_RUNS,\n",
    "#     ALL_SERIAL_NUMBERS,\n",
    "# )\n",
    "\n",
    "\n",
    "# add_dataset(\n",
    "#     labels=ALL_SERIAL_NUMBERS,\n",
    "#     domains = list(set(ALL_DISTANCES_FEET) - {2,62}),\n",
    "#     num_examples_per_domain_per_label=100,\n",
    "#     pickle_path=os.path.join(get_datasets_base_path(), \"oracle.Run2_framed_2000Examples_stratified_ds.2022A.pkl\"),\n",
    "#     source_or_target_dataset=\"source\",\n",
    "#     x_transform_func=global_x_transform_func,\n",
    "#     domain_modifier=lambda u: f\"oracle1_{u}\"\n",
    "# )\n"
   ]
  },
  {
   "cell_type": "code",
   "execution_count": 16,
   "id": "97dea9d2",
   "metadata": {
    "execution": {
     "iopub.execute_input": "2022-03-24T05:59:10.848124Z",
     "iopub.status.busy": "2022-03-24T05:59:10.843907Z",
     "iopub.status.idle": "2022-03-24T05:59:10.866263Z",
     "shell.execute_reply": "2022-03-24T05:59:10.865422Z"
    },
    "papermill": {
     "duration": 0.046549,
     "end_time": "2022-03-24T05:59:10.866438",
     "exception": false,
     "start_time": "2022-03-24T05:59:10.819889",
     "status": "completed"
    },
    "tags": []
   },
   "outputs": [],
   "source": [
    "# from steves_utils.ORACLE.utils_v2 import (\n",
    "#     ALL_DISTANCES_FEET,\n",
    "#     ALL_RUNS,\n",
    "#     ALL_SERIAL_NUMBERS,\n",
    "# )\n",
    "\n",
    "\n",
    "# add_dataset(\n",
    "#     labels=ALL_SERIAL_NUMBERS,\n",
    "#     domains = list(set(ALL_DISTANCES_FEET) - {2,62,56}),\n",
    "#     num_examples_per_domain_per_label=100,\n",
    "#     pickle_path=os.path.join(get_datasets_base_path(), \"oracle.Run2_framed_2000Examples_stratified_ds.2022A.pkl\"),\n",
    "#     source_or_target_dataset=\"source\",\n",
    "#     x_transform_func=global_x_transform_func,\n",
    "#     domain_modifier=lambda u: f\"oracle2_{u}\"\n",
    "# )"
   ]
  },
  {
   "cell_type": "code",
   "execution_count": 17,
   "id": "6f289866",
   "metadata": {
    "execution": {
     "iopub.execute_input": "2022-03-24T05:59:10.916764Z",
     "iopub.status.busy": "2022-03-24T05:59:10.916273Z",
     "iopub.status.idle": "2022-03-24T05:59:10.937178Z",
     "shell.execute_reply": "2022-03-24T05:59:10.936300Z"
    },
    "papermill": {
     "duration": 0.045442,
     "end_time": "2022-03-24T05:59:10.937343",
     "exception": false,
     "start_time": "2022-03-24T05:59:10.891901",
     "status": "completed"
    },
    "tags": []
   },
   "outputs": [],
   "source": [
    "# add_dataset(\n",
    "#     labels=list(range(19)),\n",
    "#     domains = [0,1,2],\n",
    "#     num_examples_per_domain_per_label=100,\n",
    "#     pickle_path=os.path.join(get_datasets_base_path(), \"metehan.stratified_ds.2022A.pkl\"),\n",
    "#     source_or_target_dataset=\"target\",\n",
    "#     x_transform_func=global_x_transform_func,\n",
    "#     domain_modifier=lambda u: f\"met_{u}\"\n",
    "# )"
   ]
  },
  {
   "cell_type": "code",
   "execution_count": 18,
   "id": "86a863c3",
   "metadata": {
    "execution": {
     "iopub.execute_input": "2022-03-24T05:59:10.987000Z",
     "iopub.status.busy": "2022-03-24T05:59:10.985834Z",
     "iopub.status.idle": "2022-03-24T05:59:11.007570Z",
     "shell.execute_reply": "2022-03-24T05:59:11.006735Z"
    },
    "papermill": {
     "duration": 0.046127,
     "end_time": "2022-03-24T05:59:11.007732",
     "exception": false,
     "start_time": "2022-03-24T05:59:10.961605",
     "status": "completed"
    },
    "tags": []
   },
   "outputs": [],
   "source": [
    "# # from steves_utils.wisig.utils import (\n",
    "# #     ALL_NODES_MINIMUM_100_EXAMPLES,\n",
    "# #     ALL_NODES_MINIMUM_500_EXAMPLES,\n",
    "# #     ALL_NODES_MINIMUM_1000_EXAMPLES,\n",
    "# #     ALL_DAYS\n",
    "# # )\n",
    "\n",
    "# import steves_utils.wisig.utils as wisig\n",
    "\n",
    "\n",
    "# add_dataset(\n",
    "#     labels=wisig.ALL_NODES_MINIMUM_100_EXAMPLES,\n",
    "#     domains = wisig.ALL_DAYS,\n",
    "#     num_examples_per_domain_per_label=100,\n",
    "#     pickle_path=os.path.join(get_datasets_base_path(), \"wisig.node3-19.stratified_ds.2022A.pkl\"),\n",
    "#     source_or_target_dataset=\"target\",\n",
    "#     x_transform_func=global_x_transform_func,\n",
    "#     domain_modifier=lambda u: f\"wisig_{u}\"\n",
    "# )"
   ]
  },
  {
   "cell_type": "code",
   "execution_count": 19,
   "id": "fd5442bc",
   "metadata": {
    "execution": {
     "iopub.execute_input": "2022-03-24T05:59:11.066158Z",
     "iopub.status.busy": "2022-03-24T05:59:11.064422Z",
     "iopub.status.idle": "2022-03-24T05:59:11.088104Z",
     "shell.execute_reply": "2022-03-24T05:59:11.087264Z"
    },
    "papermill": {
     "duration": 0.051538,
     "end_time": "2022-03-24T05:59:11.088268",
     "exception": false,
     "start_time": "2022-03-24T05:59:11.036730",
     "status": "completed"
    },
    "tags": []
   },
   "outputs": [],
   "source": [
    "###################################\n",
    "# Build the dataset\n",
    "###################################\n",
    "train_original_source = Iterable_Aggregator(train_original_source, p.seed)\n",
    "val_original_source = Iterable_Aggregator(val_original_source, p.seed)\n",
    "test_original_source = Iterable_Aggregator(test_original_source, p.seed)\n",
    "\n",
    "\n",
    "train_original_target = Iterable_Aggregator(train_original_target, p.seed)\n",
    "val_original_target = Iterable_Aggregator(val_original_target, p.seed)\n",
    "test_original_target = Iterable_Aggregator(test_original_target, p.seed)\n",
    "\n",
    "# For CNN We only use X and Y. And we only train on the source.\n",
    "# Properly form the data using a transform lambda and Lazy_Iterable_Wrapper. Finally wrap them in a dataloader\n",
    "\n",
    "transform_lambda = lambda ex: ex[1] # Original is (<domain>, <episode>) so we strip down to episode only\n",
    "\n",
    "train_processed_source = Lazy_Iterable_Wrapper(train_original_source, transform_lambda)\n",
    "val_processed_source   = Lazy_Iterable_Wrapper(val_original_source, transform_lambda)\n",
    "test_processed_source  = Lazy_Iterable_Wrapper(test_original_source, transform_lambda)\n",
    "\n",
    "train_processed_target = Lazy_Iterable_Wrapper(train_original_target, transform_lambda)\n",
    "val_processed_target   = Lazy_Iterable_Wrapper(val_original_target, transform_lambda)\n",
    "test_processed_target  = Lazy_Iterable_Wrapper(test_original_target, transform_lambda)\n",
    "\n",
    "datasets = EasyDict({\n",
    "    \"source\": {\n",
    "        \"original\": {\"train\":train_original_source, \"val\":val_original_source, \"test\":test_original_source},\n",
    "        \"processed\": {\"train\":train_processed_source, \"val\":val_processed_source, \"test\":test_processed_source}\n",
    "    },\n",
    "    \"target\": {\n",
    "        \"original\": {\"train\":train_original_target, \"val\":val_original_target, \"test\":test_original_target},\n",
    "        \"processed\": {\"train\":train_processed_target, \"val\":val_processed_target, \"test\":test_processed_target}\n",
    "    },\n",
    "})"
   ]
  },
  {
   "cell_type": "code",
   "execution_count": 20,
   "id": "5b3c01fc",
   "metadata": {
    "execution": {
     "iopub.execute_input": "2022-03-24T05:59:11.143712Z",
     "iopub.status.busy": "2022-03-24T05:59:11.143310Z",
     "iopub.status.idle": "2022-03-24T05:59:44.115675Z",
     "shell.execute_reply": "2022-03-24T05:59:44.114807Z"
    },
    "papermill": {
     "duration": 32.998142,
     "end_time": "2022-03-24T05:59:44.115850",
     "exception": false,
     "start_time": "2022-03-24T05:59:11.117708",
     "status": "completed"
    },
    "tags": []
   },
   "outputs": [
    {
     "name": "stdout",
     "output_type": "stream",
     "text": [
      "{'Wisig_1', 'Wisig_2', 'Wisig_4', 'Wisig_3'}\n"
     ]
    },
    {
     "name": "stdout",
     "output_type": "stream",
     "text": [
      "{'ORACLE.run120', 'ORACLE.run132', 'ORACLE.run18', 'ORACLE.run144', 'ORACLE.run126', 'ORACLE.run138', 'ORACLE.run150', 'ORACLE.run114'}\n"
     ]
    },
    {
     "name": "stdout",
     "output_type": "stream",
     "text": [
      "tensor([[[ 1.0826e+00, -1.6694e-01,  5.9985e-02,  ...,  1.2393e-01,\n",
      "           1.4430e-01,  3.1916e-01],\n",
      "         [ 4.8724e-01,  7.2095e-01,  2.4956e-01,  ...,  1.2393e-01,\n",
      "           2.2466e-01, -4.5272e-02]],\n",
      "\n",
      "        [[-3.3355e-01,  4.4856e-01,  1.2652e-01,  ..., -1.4952e-01,\n",
      "           3.7211e-02, -2.0162e-01],\n",
      "         [-1.2354e+00, -2.6927e-01,  2.1650e-02,  ..., -2.4086e-01,\n",
      "          -7.5775e-02, -1.2990e-01]],\n",
      "\n",
      "        [[ 4.9976e-01, -4.1552e-02,  1.1043e-01,  ...,  2.0093e-01,\n",
      "           8.3104e-02,  4.5821e-01],\n",
      "         [ 6.8817e-01,  1.6507e-01, -8.8227e-02,  ...,  1.8215e-02,\n",
      "          -5.9198e-02, -6.0336e-01]],\n",
      "\n",
      "        ...,\n",
      "\n",
      "        [[-5.0337e-01,  5.8255e-01,  9.2530e-01,  ..., -4.4681e-01,\n",
      "          -1.0746e+00,  3.4161e-01],\n",
      "         [-6.2101e-01, -8.9815e-01,  3.9817e-01,  ...,  7.2169e-01,\n",
      "           1.1312e-03, -7.4544e-01]],\n",
      "\n",
      "        [[ 1.2042e+00, -1.0255e-01, -8.4983e-01,  ..., -5.8889e-02,\n",
      "           9.4831e-01,  8.0312e-01],\n",
      "         [ 5.7670e-01,  1.2164e+00,  1.4316e-01,  ..., -1.1575e+00,\n",
      "          -9.5237e-01, -1.2184e-02]],\n",
      "\n",
      "        [[ 2.7699e-01, -5.3359e-01, -7.3864e-01,  ..., -3.4654e-01,\n",
      "           1.9905e-01, -4.0289e-01],\n",
      "         [ 1.7147e-01,  8.3696e-01, -5.6477e-01,  ...,  1.7507e-01,\n",
      "           5.5398e-01,  7.6981e-01]]])\n"
     ]
    }
   ],
   "source": [
    "from steves_utils.transforms import get_average_magnitude, get_average_power\n",
    "\n",
    "print(set([u for u,_ in val_original_source]))\n",
    "print(set([u for u,_ in val_original_target]))\n",
    "\n",
    "s_x, s_y, q_x, q_y, _ = next(iter(train_processed_source))\n",
    "print(s_x)\n",
    "\n",
    "# for ds in [\n",
    "#     train_processed_source,\n",
    "#     val_processed_source,\n",
    "#     test_processed_source,\n",
    "#     train_processed_target,\n",
    "#     val_processed_target,\n",
    "#     test_processed_target\n",
    "# ]:\n",
    "#     for s_x, s_y, q_x, q_y, _ in ds:\n",
    "#         for X in (s_x, q_x):\n",
    "#             for x in X:\n",
    "#                 assert np.isclose(get_average_magnitude(x.numpy()), 1.0)\n",
    "#                 assert np.isclose(get_average_power(x.numpy()), 1.0)\n",
    "                "
   ]
  },
  {
   "cell_type": "code",
   "execution_count": 21,
   "id": "bbdacba1",
   "metadata": {
    "execution": {
     "iopub.execute_input": "2022-03-24T05:59:44.167893Z",
     "iopub.status.busy": "2022-03-24T05:59:44.167235Z",
     "iopub.status.idle": "2022-03-24T05:59:44.379400Z",
     "shell.execute_reply": "2022-03-24T05:59:44.379727Z"
    },
    "papermill": {
     "duration": 0.239075,
     "end_time": "2022-03-24T05:59:44.379878",
     "exception": false,
     "start_time": "2022-03-24T05:59:44.140803",
     "status": "completed"
    },
    "tags": []
   },
   "outputs": [
    {
     "name": "stdout",
     "output_type": "stream",
     "text": [
      "(2, 256)\n"
     ]
    }
   ],
   "source": [
    "###################################\n",
    "# Build the model\n",
    "###################################\n",
    "# easfsl only wants a tuple for the shape\n",
    "model = Steves_Prototypical_Network(x_net, device=p.device, x_shape=tuple(p.x_shape))\n",
    "optimizer = Adam(params=model.parameters(), lr=p.lr)"
   ]
  },
  {
   "cell_type": "code",
   "execution_count": 22,
   "id": "22b39ac5",
   "metadata": {
    "execution": {
     "iopub.execute_input": "2022-03-24T05:59:44.429443Z",
     "iopub.status.busy": "2022-03-24T05:59:44.429060Z",
     "iopub.status.idle": "2022-03-24T06:22:44.109551Z",
     "shell.execute_reply": "2022-03-24T06:22:44.109191Z"
    },
    "papermill": {
     "duration": 1379.707026,
     "end_time": "2022-03-24T06:22:44.109649",
     "exception": false,
     "start_time": "2022-03-24T05:59:44.402623",
     "status": "completed"
    },
    "tags": []
   },
   "outputs": [
    {
     "name": "stdout",
     "output_type": "stream",
     "text": [
      "epoch: 1, [batch: 1 / 6843], examples_per_second: 30.3671, train_label_loss: 2.6630, \n"
     ]
    },
    {
     "name": "stdout",
     "output_type": "stream",
     "text": [
      "epoch: 1, [batch: 685 / 6843], examples_per_second: 2818.4160, train_label_loss: 0.4895, \n"
     ]
    },
    {
     "name": "stdout",
     "output_type": "stream",
     "text": [
      "epoch: 1, [batch: 1369 / 6843], examples_per_second: 2930.4298, train_label_loss: 0.3537, \n"
     ]
    },
    {
     "name": "stdout",
     "output_type": "stream",
     "text": [
      "epoch: 1, [batch: 2053 / 6843], examples_per_second: 2968.3117, train_label_loss: 0.0101, \n"
     ]
    },
    {
     "name": "stdout",
     "output_type": "stream",
     "text": [
      "epoch: 1, [batch: 2737 / 6843], examples_per_second: 2959.8950, train_label_loss: 0.1611, \n"
     ]
    },
    {
     "name": "stdout",
     "output_type": "stream",
     "text": [
      "epoch: 1, [batch: 3422 / 6843], examples_per_second: 2995.7248, train_label_loss: 0.3909, \n"
     ]
    },
    {
     "name": "stdout",
     "output_type": "stream",
     "text": [
      "epoch: 1, [batch: 4106 / 6843], examples_per_second: 2995.3004, train_label_loss: 0.2164, \n"
     ]
    },
    {
     "name": "stdout",
     "output_type": "stream",
     "text": [
      "epoch: 1, [batch: 4790 / 6843], examples_per_second: 2904.9401, train_label_loss: 0.5653, \n"
     ]
    },
    {
     "name": "stdout",
     "output_type": "stream",
     "text": [
      "epoch: 1, [batch: 5474 / 6843], examples_per_second: 2934.0370, train_label_loss: 0.0863, \n"
     ]
    },
    {
     "name": "stdout",
     "output_type": "stream",
     "text": [
      "epoch: 1, [batch: 6158 / 6843], examples_per_second: 3379.1559, train_label_loss: 0.2589, \n"
     ]
    },
    {
     "name": "stdout",
     "output_type": "stream",
     "text": [
      "=============================================================\n",
      "epoch: 1, source_val_acc_label: 0.9615, target_val_acc_label: 0.1168, source_val_label_loss: 0.1644, target_val_label_loss: 2.7025, \n",
      "=============================================================\n"
     ]
    },
    {
     "name": "stdout",
     "output_type": "stream",
     "text": [
      "New best\n"
     ]
    },
    {
     "name": "stdout",
     "output_type": "stream",
     "text": [
      "epoch: 2, [batch: 1 / 6824], examples_per_second: 1.5414, train_label_loss: 0.0226, \n"
     ]
    },
    {
     "name": "stdout",
     "output_type": "stream",
     "text": [
      "epoch: 2, [batch: 683 / 6824], examples_per_second: 2936.5493, train_label_loss: 0.1821, \n"
     ]
    },
    {
     "name": "stdout",
     "output_type": "stream",
     "text": [
      "epoch: 2, [batch: 1365 / 6824], examples_per_second: 2983.9297, train_label_loss: 0.2368, \n"
     ]
    },
    {
     "name": "stdout",
     "output_type": "stream",
     "text": [
      "epoch: 2, [batch: 2047 / 6824], examples_per_second: 2969.1062, train_label_loss: 0.1575, \n"
     ]
    },
    {
     "name": "stdout",
     "output_type": "stream",
     "text": [
      "epoch: 2, [batch: 2730 / 6824], examples_per_second: 2945.4451, train_label_loss: 0.0176, \n"
     ]
    },
    {
     "name": "stdout",
     "output_type": "stream",
     "text": [
      "epoch: 2, [batch: 3412 / 6824], examples_per_second: 3313.8723, train_label_loss: 0.0214, \n"
     ]
    },
    {
     "name": "stdout",
     "output_type": "stream",
     "text": [
      "epoch: 2, [batch: 4094 / 6824], examples_per_second: 3362.1487, train_label_loss: 0.0233, \n"
     ]
    },
    {
     "name": "stdout",
     "output_type": "stream",
     "text": [
      "epoch: 2, [batch: 4777 / 6824], examples_per_second: 3445.9952, train_label_loss: 0.0387, \n"
     ]
    },
    {
     "name": "stdout",
     "output_type": "stream",
     "text": [
      "epoch: 2, [batch: 5459 / 6824], examples_per_second: 3389.5413, train_label_loss: 0.0151, \n"
     ]
    },
    {
     "name": "stdout",
     "output_type": "stream",
     "text": [
      "epoch: 2, [batch: 6141 / 6824], examples_per_second: 3405.6170, train_label_loss: 0.0364, \n"
     ]
    },
    {
     "name": "stdout",
     "output_type": "stream",
     "text": [
      "=============================================================\n",
      "epoch: 2, source_val_acc_label: 0.9692, target_val_acc_label: 0.1168, source_val_label_loss: 0.1332, target_val_label_loss: 2.6875, \n",
      "=============================================================\n"
     ]
    },
    {
     "name": "stdout",
     "output_type": "stream",
     "text": [
      "epoch: 3, [batch: 1 / 6845], examples_per_second: 1.4879, train_label_loss: 0.0222, \n"
     ]
    },
    {
     "name": "stdout",
     "output_type": "stream",
     "text": [
      "epoch: 3, [batch: 685 / 6845], examples_per_second: 2901.1882, train_label_loss: 0.0053, \n"
     ]
    },
    {
     "name": "stdout",
     "output_type": "stream",
     "text": [
      "epoch: 3, [batch: 1369 / 6845], examples_per_second: 2940.1823, train_label_loss: 0.2036, \n"
     ]
    },
    {
     "name": "stdout",
     "output_type": "stream",
     "text": [
      "epoch: 3, [batch: 2054 / 6845], examples_per_second: 2938.7660, train_label_loss: 0.0956, \n"
     ]
    },
    {
     "name": "stdout",
     "output_type": "stream",
     "text": [
      "epoch: 3, [batch: 2738 / 6845], examples_per_second: 2936.2626, train_label_loss: 0.0062, \n"
     ]
    },
    {
     "name": "stdout",
     "output_type": "stream",
     "text": [
      "epoch: 3, [batch: 3423 / 6845], examples_per_second: 2963.8321, train_label_loss: 0.1861, \n"
     ]
    },
    {
     "name": "stdout",
     "output_type": "stream",
     "text": [
      "epoch: 3, [batch: 4107 / 6845], examples_per_second: 2960.0715, train_label_loss: 0.0103, \n"
     ]
    },
    {
     "name": "stdout",
     "output_type": "stream",
     "text": [
      "epoch: 3, [batch: 4791 / 6845], examples_per_second: 2952.2167, train_label_loss: 0.0975, \n"
     ]
    },
    {
     "name": "stdout",
     "output_type": "stream",
     "text": [
      "epoch: 3, [batch: 5476 / 6845], examples_per_second: 3031.9133, train_label_loss: 0.0085, \n"
     ]
    },
    {
     "name": "stdout",
     "output_type": "stream",
     "text": [
      "epoch: 3, [batch: 6160 / 6845], examples_per_second: 3009.3649, train_label_loss: 0.1169, \n"
     ]
    },
    {
     "name": "stdout",
     "output_type": "stream",
     "text": [
      "=============================================================\n",
      "epoch: 3, source_val_acc_label: 0.9706, target_val_acc_label: 0.1100, source_val_label_loss: 0.1220, target_val_label_loss: 2.7510, \n",
      "=============================================================\n"
     ]
    },
    {
     "name": "stdout",
     "output_type": "stream",
     "text": [
      "epoch: 4, [batch: 1 / 6840], examples_per_second: 1.2673, train_label_loss: 0.0189, \n"
     ]
    },
    {
     "name": "stdout",
     "output_type": "stream",
     "text": [
      "epoch: 4, [batch: 684 / 6840], examples_per_second: 2947.2886, train_label_loss: 0.2025, \n"
     ]
    },
    {
     "name": "stdout",
     "output_type": "stream",
     "text": [
      "epoch: 4, [batch: 1368 / 6840], examples_per_second: 3006.7006, train_label_loss: 0.0287, \n"
     ]
    },
    {
     "name": "stdout",
     "output_type": "stream",
     "text": [
      "epoch: 4, [batch: 2052 / 6840], examples_per_second: 2981.2974, train_label_loss: 0.0013, \n"
     ]
    },
    {
     "name": "stdout",
     "output_type": "stream",
     "text": [
      "epoch: 4, [batch: 2736 / 6840], examples_per_second: 3000.9865, train_label_loss: 0.2007, \n"
     ]
    },
    {
     "name": "stdout",
     "output_type": "stream",
     "text": [
      "epoch: 4, [batch: 3420 / 6840], examples_per_second: 3029.9295, train_label_loss: 0.0497, \n"
     ]
    },
    {
     "name": "stdout",
     "output_type": "stream",
     "text": [
      "epoch: 4, [batch: 4104 / 6840], examples_per_second: 2974.0439, train_label_loss: 0.0065, \n"
     ]
    },
    {
     "name": "stdout",
     "output_type": "stream",
     "text": [
      "epoch: 4, [batch: 4788 / 6840], examples_per_second: 2948.6388, train_label_loss: 0.0759, \n"
     ]
    },
    {
     "name": "stdout",
     "output_type": "stream",
     "text": [
      "epoch: 4, [batch: 5472 / 6840], examples_per_second: 2992.8709, train_label_loss: 0.0248, \n"
     ]
    },
    {
     "name": "stdout",
     "output_type": "stream",
     "text": [
      "epoch: 4, [batch: 6156 / 6840], examples_per_second: 3018.1488, train_label_loss: 0.0959, \n"
     ]
    },
    {
     "name": "stdout",
     "output_type": "stream",
     "text": [
      "=============================================================\n",
      "epoch: 4, source_val_acc_label: 0.9731, target_val_acc_label: 0.1047, source_val_label_loss: 0.1153, target_val_label_loss: 2.7979, \n",
      "=============================================================\n"
     ]
    },
    {
     "name": "stdout",
     "output_type": "stream",
     "text": [
      "epoch: 5, [batch: 1 / 6843], examples_per_second: 1.2563, train_label_loss: 0.2680, \n"
     ]
    },
    {
     "name": "stdout",
     "output_type": "stream",
     "text": [
      "epoch: 5, [batch: 685 / 6843], examples_per_second: 3230.2217, train_label_loss: 0.0006, \n"
     ]
    },
    {
     "name": "stdout",
     "output_type": "stream",
     "text": [
      "epoch: 5, [batch: 1369 / 6843], examples_per_second: 3337.5248, train_label_loss: 0.2027, \n"
     ]
    },
    {
     "name": "stdout",
     "output_type": "stream",
     "text": [
      "epoch: 5, [batch: 2053 / 6843], examples_per_second: 3350.4921, train_label_loss: 0.0020, \n"
     ]
    },
    {
     "name": "stdout",
     "output_type": "stream",
     "text": [
      "epoch: 5, [batch: 2737 / 6843], examples_per_second: 3359.0763, train_label_loss: 0.0148, \n"
     ]
    },
    {
     "name": "stdout",
     "output_type": "stream",
     "text": [
      "epoch: 5, [batch: 3422 / 6843], examples_per_second: 3411.2677, train_label_loss: 0.2724, \n"
     ]
    },
    {
     "name": "stdout",
     "output_type": "stream",
     "text": [
      "epoch: 5, [batch: 4106 / 6843], examples_per_second: 3812.1181, train_label_loss: 0.0728, \n"
     ]
    },
    {
     "name": "stdout",
     "output_type": "stream",
     "text": [
      "epoch: 5, [batch: 4790 / 6843], examples_per_second: 3830.1054, train_label_loss: 0.0021, \n"
     ]
    },
    {
     "name": "stdout",
     "output_type": "stream",
     "text": [
      "epoch: 5, [batch: 5474 / 6843], examples_per_second: 2950.2661, train_label_loss: 0.0010, \n"
     ]
    },
    {
     "name": "stdout",
     "output_type": "stream",
     "text": [
      "epoch: 5, [batch: 6158 / 6843], examples_per_second: 2955.1876, train_label_loss: 0.1726, \n"
     ]
    },
    {
     "name": "stdout",
     "output_type": "stream",
     "text": [
      "=============================================================\n",
      "epoch: 5, source_val_acc_label: 0.9736, target_val_acc_label: 0.1037, source_val_label_loss: 0.1173, target_val_label_loss: 2.8783, \n",
      "=============================================================\n"
     ]
    },
    {
     "name": "stdout",
     "output_type": "stream",
     "text": [
      "Patience (3) exhausted\n"
     ]
    }
   ],
   "source": [
    "###################################\n",
    "# train\n",
    "###################################\n",
    "jig = PTN_Train_Eval_Test_Jig(model, p.BEST_MODEL_PATH, p.device)\n",
    "\n",
    "jig.train(\n",
    "    train_iterable=datasets.source.processed.train,\n",
    "    source_val_iterable=datasets.source.processed.val,\n",
    "    target_val_iterable=datasets.target.processed.val,\n",
    "    num_epochs=p.n_epoch,\n",
    "    num_logs_per_epoch=p.NUM_LOGS_PER_EPOCH,\n",
    "    patience=p.patience,\n",
    "    optimizer=optimizer,\n",
    "    criteria_for_best=p.criteria_for_best,\n",
    ")"
   ]
  },
  {
   "cell_type": "code",
   "execution_count": 23,
   "id": "31e8fabf",
   "metadata": {
    "execution": {
     "iopub.execute_input": "2022-03-24T06:22:44.187655Z",
     "iopub.status.busy": "2022-03-24T06:22:44.187263Z",
     "iopub.status.idle": "2022-03-24T06:22:44.220353Z",
     "shell.execute_reply": "2022-03-24T06:22:44.219516Z"
    },
    "papermill": {
     "duration": 0.074395,
     "end_time": "2022-03-24T06:22:44.220531",
     "exception": false,
     "start_time": "2022-03-24T06:22:44.146136",
     "status": "completed"
    },
    "tags": []
   },
   "outputs": [],
   "source": [
    "total_experiment_time_secs = time.time() - start_time_secs"
   ]
  },
  {
   "cell_type": "code",
   "execution_count": 24,
   "id": "87b9595b",
   "metadata": {
    "execution": {
     "iopub.execute_input": "2022-03-24T06:22:44.322936Z",
     "iopub.status.busy": "2022-03-24T06:22:44.322030Z",
     "iopub.status.idle": "2022-03-24T06:33:26.451382Z",
     "shell.execute_reply": "2022-03-24T06:33:26.450636Z"
    },
    "papermill": {
     "duration": 642.186216,
     "end_time": "2022-03-24T06:33:26.451622",
     "exception": false,
     "start_time": "2022-03-24T06:22:44.265406",
     "status": "completed"
    },
    "tags": []
   },
   "outputs": [],
   "source": [
    "###################################\n",
    "# Evaluate the model\n",
    "###################################\n",
    "source_test_label_accuracy, source_test_label_loss = jig.test(datasets.source.processed.test)\n",
    "target_test_label_accuracy, target_test_label_loss = jig.test(datasets.target.processed.test)\n",
    "\n",
    "source_val_label_accuracy, source_val_label_loss = jig.test(datasets.source.processed.val)\n",
    "target_val_label_accuracy, target_val_label_loss = jig.test(datasets.target.processed.val)\n",
    "\n",
    "history = jig.get_history()\n",
    "\n",
    "total_epochs_trained = len(history[\"epoch_indices\"])\n",
    "\n",
    "val_dl = Iterable_Aggregator((datasets.source.original.val,datasets.target.original.val))\n",
    "\n",
    "confusion = ptn_confusion_by_domain_over_dataloader(model, p.device, val_dl)\n",
    "per_domain_accuracy = per_domain_accuracy_from_confusion(confusion)\n",
    "\n",
    "# Add a key to per_domain_accuracy for if it was a source domain\n",
    "for domain, accuracy in per_domain_accuracy.items():\n",
    "    per_domain_accuracy[domain] = {\n",
    "        \"accuracy\": accuracy,\n",
    "        \"source?\": domain in p.domains_source\n",
    "    }\n",
    "\n",
    "# Do an independent accuracy assesment JUST TO BE SURE!\n",
    "# _source_test_label_accuracy = independent_accuracy_assesment(model, datasets.source.processed.test, p.device)\n",
    "# _target_test_label_accuracy = independent_accuracy_assesment(model, datasets.target.processed.test, p.device)\n",
    "# _source_val_label_accuracy = independent_accuracy_assesment(model, datasets.source.processed.val, p.device)\n",
    "# _target_val_label_accuracy = independent_accuracy_assesment(model, datasets.target.processed.val, p.device)\n",
    "\n",
    "# assert(_source_test_label_accuracy == source_test_label_accuracy)\n",
    "# assert(_target_test_label_accuracy == target_test_label_accuracy)\n",
    "# assert(_source_val_label_accuracy == source_val_label_accuracy)\n",
    "# assert(_target_val_label_accuracy == target_val_label_accuracy)\n",
    "\n",
    "experiment = {\n",
    "    \"experiment_name\": p.experiment_name,\n",
    "    \"parameters\": dict(p),\n",
    "    \"results\": {\n",
    "        \"source_test_label_accuracy\": source_test_label_accuracy,\n",
    "        \"source_test_label_loss\": source_test_label_loss,\n",
    "        \"target_test_label_accuracy\": target_test_label_accuracy,\n",
    "        \"target_test_label_loss\": target_test_label_loss,\n",
    "        \"source_val_label_accuracy\": source_val_label_accuracy,\n",
    "        \"source_val_label_loss\": source_val_label_loss,\n",
    "        \"target_val_label_accuracy\": target_val_label_accuracy,\n",
    "        \"target_val_label_loss\": target_val_label_loss,\n",
    "        \"total_epochs_trained\": total_epochs_trained,\n",
    "        \"total_experiment_time_secs\": total_experiment_time_secs,\n",
    "        \"confusion\": confusion,\n",
    "        \"per_domain_accuracy\": per_domain_accuracy,\n",
    "    },\n",
    "    \"history\": history,\n",
    "    \"dataset_metrics\": get_dataset_metrics(datasets, \"ptn\"),\n",
    "}"
   ]
  },
  {
   "cell_type": "code",
   "execution_count": 25,
   "id": "54a21829",
   "metadata": {
    "execution": {
     "iopub.execute_input": "2022-03-24T06:33:26.544305Z",
     "iopub.status.busy": "2022-03-24T06:33:26.543787Z",
     "iopub.status.idle": "2022-03-24T06:33:26.770097Z",
     "shell.execute_reply": "2022-03-24T06:33:26.770783Z"
    },
    "papermill": {
     "duration": 0.271723,
     "end_time": "2022-03-24T06:33:26.770998",
     "exception": false,
     "start_time": "2022-03-24T06:33:26.499275",
     "status": "completed"
    },
    "tags": []
   },
   "outputs": [
    {
     "data": {
      "image/png": "[encoded data removed]",
      "text/plain": [
       "<Figure size 1080x504 with 1 Axes>"
      ]
     },
     "metadata": {
      "needs_background": "light"
     },
     "output_type": "display_data"
    }
   ],
   "source": [
    "ax = get_loss_curve(experiment)\n",
    "plt.show()"
   ]
  },
  {
   "cell_type": "code",
   "execution_count": 26,
   "id": "fd8a0f60",
   "metadata": {
    "execution": {
     "iopub.execute_input": "2022-03-24T06:33:26.855935Z",
     "iopub.status.busy": "2022-03-24T06:33:26.855542Z",
     "iopub.status.idle": "2022-03-24T06:33:27.181568Z",
     "shell.execute_reply": "2022-03-24T06:33:27.182618Z"
    },
    "papermill": {
     "duration": 0.369802,
     "end_time": "2022-03-24T06:33:27.182929",
     "exception": false,
     "start_time": "2022-03-24T06:33:26.813127",
     "status": "completed"
    },
    "tags": []
   },
   "outputs": [
    {
     "data": {
      "text/plain": [
       "<AxesSubplot:title={'center':'Results'}>"
      ]
     },
     "execution_count": 26,
     "metadata": {},
     "output_type": "execute_result"
    },
    {
     "data": {
      "image/png": "[encoded data removed]",
      "text/plain": [
       "<Figure size 1080x504 with 1 Axes>"
      ]
     },
     "metadata": {
      "needs_background": "light"
     },
     "output_type": "display_data"
    }
   ],
   "source": [
    "get_results_table(experiment)"
   ]
  },
  {
   "cell_type": "code",
   "execution_count": 27,
   "id": "cf8dc689",
   "metadata": {
    "execution": {
     "iopub.execute_input": "2022-03-24T06:33:27.283731Z",
     "iopub.status.busy": "2022-03-24T06:33:27.283048Z",
     "iopub.status.idle": "2022-03-24T06:33:27.546805Z",
     "shell.execute_reply": "2022-03-24T06:33:27.547519Z"
    },
    "papermill": {
     "duration": 0.315231,
     "end_time": "2022-03-24T06:33:27.547769",
     "exception": false,
     "start_time": "2022-03-24T06:33:27.232538",
     "status": "completed"
    },
    "tags": []
   },
   "outputs": [
    {
     "data": {
      "text/plain": [
       "<AxesSubplot:title={'center':'Per Domain Validation Accuracy'}, xlabel='domain'>"
      ]
     },
     "execution_count": 27,
     "metadata": {},
     "output_type": "execute_result"
    },
    {
     "data": {
      "image/png": "[encoded data removed]",
      "text/plain": [
       "<Figure size 1080x504 with 1 Axes>"
      ]
     },
     "metadata": {
      "needs_background": "light"
     },
     "output_type": "display_data"
    }
   ],
   "source": [
    "get_domain_accuracies(experiment)"
   ]
  },
  {
   "cell_type": "code",
   "execution_count": 28,
   "id": "a74ae082",
   "metadata": {
    "execution": {
     "iopub.execute_input": "2022-03-24T06:33:27.656416Z",
     "iopub.status.busy": "2022-03-24T06:33:27.656026Z",
     "iopub.status.idle": "2022-03-24T06:33:27.683443Z",
     "shell.execute_reply": "2022-03-24T06:33:27.682721Z"
    },
    "papermill": {
     "duration": 0.084901,
     "end_time": "2022-03-24T06:33:27.683646",
     "exception": false,
     "start_time": "2022-03-24T06:33:27.598745",
     "status": "completed"
    },
    "tags": []
   },
   "outputs": [
    {
     "name": "stdout",
     "output_type": "stream",
     "text": [
      "Source Test Label Accuracy: 0.9609294208893485 Target Test Label Accuracy: 0.11652994791666667\n",
      "Source Val Label Accuracy: 0.9614978902953587 Target Val Label Accuracy: 0.11679036458333333\n"
     ]
    }
   ],
   "source": [
    "print(\"Source Test Label Accuracy:\", experiment[\"results\"][\"source_test_label_accuracy\"], \"Target Test Label Accuracy:\", experiment[\"results\"][\"target_test_label_accuracy\"])\n",
    "print(\"Source Val Label Accuracy:\", experiment[\"results\"][\"source_val_label_accuracy\"], \"Target Val Label Accuracy:\", experiment[\"results\"][\"target_val_label_accuracy\"])"
   ]
  },
  {
   "cell_type": "code",
   "execution_count": 29,
   "id": "dacca602",
   "metadata": {
    "execution": {
     "iopub.execute_input": "2022-03-24T06:33:27.774629Z",
     "iopub.status.busy": "2022-03-24T06:33:27.773716Z",
     "iopub.status.idle": "2022-03-24T06:33:27.801384Z",
     "shell.execute_reply": "2022-03-24T06:33:27.802060Z"
    },
    "papermill": {
     "duration": 0.072896,
     "end_time": "2022-03-24T06:33:27.802241",
     "exception": false,
     "start_time": "2022-03-24T06:33:27.729345",
     "status": "completed"
    },
    "tags": [
     "experiment_json"
    ]
   },
   "outputs": [
    {
     "data": {
      "text/plain": [
       "'{\"experiment_name\": \"tl_1v2:wisig-oracle.run1\", \"parameters\": {\"experiment_name\": \"tl_1v2:wisig-oracle.run1\", \"device\": \"cuda\", \"lr\": 0.0001, \"n_shot\": 3, \"n_query\": 2, \"train_k_factor\": 3, \"val_k_factor\": 2, \"test_k_factor\": 2, \"torch_default_dtype\": \"torch.float32\", \"n_epoch\": 50, \"patience\": 3, \"criteria_for_best\": \"target_accuracy\", \"x_net\": [{\"class\": \"nnReshape\", \"kargs\": {\"shape\": [-1, 1, 2, 256]}}, {\"class\": \"Conv2d\", \"kargs\": {\"in_channels\": 1, \"out_channels\": 256, \"kernel_size\": [1, 7], \"bias\": false, \"padding\": [0, 3]}}, {\"class\": \"ReLU\", \"kargs\": {\"inplace\": true}}, {\"class\": \"BatchNorm2d\", \"kargs\": {\"num_features\": 256}}, {\"class\": \"Conv2d\", \"kargs\": {\"in_channels\": 256, \"out_channels\": 80, \"kernel_size\": [2, 7], \"bias\": true, \"padding\": [0, 3]}}, {\"class\": \"ReLU\", \"kargs\": {\"inplace\": true}}, {\"class\": \"BatchNorm2d\", \"kargs\": {\"num_features\": 80}}, {\"class\": \"Flatten\", \"kargs\": {}}, {\"class\": \"Linear\", \"kargs\": {\"in_features\": 20480, \"out_features\": 256}}, {\"class\": \"ReLU\", \"kargs\": {\"inplace\": true}}, {\"class\": \"BatchNorm1d\", \"kargs\": {\"num_features\": 256}}, {\"class\": \"Linear\", \"kargs\": {\"in_features\": 256, \"out_features\": 256}}], \"NUM_LOGS_PER_EPOCH\": 10, \"BEST_MODEL_PATH\": \"./best_model.pth\", \"n_way\": 16, \"datasets\": [{\"labels\": [\"1-10\", \"1-12\", \"1-14\", \"1-16\", \"1-18\", \"1-19\", \"1-8\", \"10-11\", \"10-17\", \"10-4\", \"10-7\", \"11-1\", \"11-10\", \"11-19\", \"11-20\", \"11-4\", \"11-7\", \"12-19\", \"12-20\", \"12-7\", \"13-14\", \"13-18\", \"13-19\", \"13-20\", \"13-3\", \"13-7\", \"14-10\", \"14-11\", \"14-12\", \"14-13\", \"14-14\", \"14-19\", \"14-20\", \"14-7\", \"14-8\", \"14-9\", \"15-1\", \"15-19\", \"15-6\", \"16-1\", \"16-16\", \"16-19\", \"16-20\", \"17-10\", \"17-11\", \"18-1\", \"18-10\", \"18-11\", \"18-12\", \"18-13\", \"18-14\", \"18-15\", \"18-16\", \"18-17\", \"18-19\", \"18-2\", \"18-20\", \"18-4\", \"18-5\", \"18-7\", \"18-8\", \"18-9\", \"19-1\", \"19-10\", \"19-11\", \"19-12\", \"19-13\", \"19-14\", \"19-15\", \"19-19\", \"19-2\", \"19-20\", \"19-3\", \"19-4\", \"19-6\", \"19-7\", \"19-8\", \"19-9\", \"2-1\", \"2-13\", \"2-15\", \"2-3\", \"2-4\", \"2-5\", \"2-6\", \"2-7\", \"2-8\", \"20-1\", \"20-12\", \"20-14\", \"20-15\", \"20-16\", \"20-18\", \"20-19\", \"20-20\", \"20-3\", \"20-4\", \"20-5\", \"20-7\", \"20-8\", \"3-1\", \"3-13\", \"3-18\", \"3-2\", \"3-8\", \"4-1\", \"4-10\", \"4-11\", \"5-1\", \"5-5\", \"6-1\", \"6-15\", \"6-6\", \"7-10\", \"7-11\", \"7-12\", \"7-13\", \"7-14\", \"7-7\", \"7-8\", \"7-9\", \"8-1\", \"8-13\", \"8-14\", \"8-18\", \"8-20\", \"8-3\", \"8-8\", \"9-1\", \"9-7\"], \"domains\": [1, 2, 3, 4], \"num_examples_per_domain_per_label\": -1, \"pickle_path\": \"/root/csc500-main/datasets/wisig.node3-19.stratified_ds.2022A.pkl\", \"source_or_target_dataset\": \"source\", \"x_transforms\": [\"unit_power\"], \"episode_transforms\": [], \"domain_prefix\": \"Wisig_\"}, {\"labels\": [\"3123D52\", \"3123D65\", \"3123D79\", \"3123D80\", \"3123D54\", \"3123D70\", \"3123D7B\", \"3123D89\", \"3123D58\", \"3123D76\", \"3123D7D\", \"3123EFE\", \"3123D64\", \"3123D78\", \"3123D7E\", \"3124E4A\"], \"domains\": [32, 38, 8, 44, 14, 50, 20, 26], \"num_examples_per_domain_per_label\": 10000, \"pickle_path\": \"/root/csc500-main/datasets/oracle.Run1_10kExamples_stratified_ds.2022A.pkl\", \"source_or_target_dataset\": \"target\", \"x_transforms\": [\"unit_power\"], \"episode_transforms\": [], \"domain_prefix\": \"ORACLE.run1\"}], \"dataset_seed\": 500, \"seed\": 500, \"x_shape\": [2, 256], \"domains_source\": [\"Wisig_1\", \"Wisig_2\", \"Wisig_3\", \"Wisig_4\"], \"domains_target\": [\"ORACLE.run132\", \"ORACLE.run138\", \"ORACLE.run18\", \"ORACLE.run144\", \"ORACLE.run114\", \"ORACLE.run150\", \"ORACLE.run120\", \"ORACLE.run126\"]}, \"results\": {\"source_test_label_accuracy\": 0.9609294208893485, \"source_test_label_loss\": 0.1722998470067978, \"target_test_label_accuracy\": 0.11652994791666667, \"target_test_label_loss\": 2.7031826972961426, \"source_val_label_accuracy\": 0.9614978902953587, \"source_val_label_loss\": 0.16439063847064972, \"target_val_label_accuracy\": 0.11679036458333333, \"target_val_label_loss\": 2.702467203140259, \"total_epochs_trained\": 5, \"total_experiment_time_secs\": 1546.4686033725739, \"confusion\": {\"Wisig_3\": {\"99\": {\"99\": 34, \"25\": 1, \"112\": 1}, \"8\": {\"8\": 124}, \"65\": {\"39\": 1, \"65\": 11}, \"117\": {\"117\": 110, \"39\": 1, \"3\": 1}, \"18\": {\"18\": 123, \"39\": 1}, \"39\": {\"39\": 107, \"16\": 1}, \"102\": {\"102\": 124}, \"76\": {\"47\": 1, \"76\": 15}, \"101\": {\"101\": 51, \"114\": 1}, \"57\": {\"57\": 20}, \"86\": {\"86\": 27, \"101\": 1}, \"11\": {\"11\": 129, \"110\": 2, \"70\": 1}, \"98\": {\"98\": 128}, \"42\": {\"42\": 23, \"49\": 3, \"53\": 1, \"88\": 1}, \"47\": {\"47\": 12}, \"49\": {\"42\": 2, \"49\": 21, \"70\": 1}, \"111\": {\"111\": 131, \"26\": 1}, \"36\": {\"36\": 111, \"27\": 5}, \"124\": {\"124\": 104, \"89\": 1, \"90\": 1}, \"122\": {\"122\": 55, \"21\": 1, \"18\": 2, \"70\": 2}, \"93\": {\"93\": 142}, \"89\": {\"89\": 28}, \"51\": {\"51\": 16}, \"73\": {\"73\": 40}, \"45\": {\"45\": 16}, \"5\": {\"5\": 107, \"18\": 1, \"71\": 1, \"93\": 1, \"101\": 1, \"125\": 1}, \"69\": {\"69\": 82, \"113\": 1, \"106\": 1}, \"26\": {\"26\": 130}, \"1\": {\"1\": 107, \"21\": 1}, \"92\": {\"92\": 32}, \"96\": {\"96\": 20}, \"85\": {\"85\": 36}, \"114\": {\"114\": 125, \"128\": 1}, \"50\": {\"50\": 16}, \"81\": {\"81\": 32}, \"2\": {\"2\": 26, \"92\": 1, \"26\": 1}, \"33\": {\"33\": 145, \"21\": 1}, \"31\": {\"31\": 20}, \"90\": {\"90\": 116, \"98\": 1, \"125\": 1}, \"17\": {\"86\": 2, \"23\": 3, \"63\": 1, \"43\": 1, \"17\": 6, \"75\": 1, \"73\": 1, \"105\": 1}, \"116\": {\"116\": 24, \"60\": 1, \"33\": 1, \"92\": 1, \"82\": 1}, \"91\": {\"91\": 23, \"12\": 1}, \"120\": {\"120\": 20}, \"128\": {\"128\": 26, \"91\": 1, \"19\": 2, \"30\": 2, \"29\": 1}, \"78\": {\"128\": 1, \"17\": 1, \"78\": 10, \"84\": 1, \"5\": 1, \"92\": 1, \"62\": 1}, \"58\": {\"58\": 16}, \"23\": {\"23\": 25, \"60\": 4, \"52\": 1, \"70\": 1, \"19\": 1}, \"15\": {\"15\": 102, \"10\": 1, \"21\": 1}, \"74\": {\"74\": 16}, \"34\": {\"34\": 24, \"6\": 2, \"82\": 1, \"125\": 1, \"66\": 1, \"43\": 1, \"91\": 2}, \"103\": {\"103\": 16}, \"106\": {\"106\": 100}, \"44\": {\"44\": 70, \"64\": 1, \"113\": 1}, \"9\": {\"9\": 30, \"2\": 1, \"80\": 1}, \"97\": {\"97\": 20}, \"123\": {\"123\": 14, \"86\": 1, \"47\": 1}, \"6\": {\"6\": 26, \"98\": 3, \"34\": 2, \"91\": 1}, \"68\": {\"68\": 16}, \"24\": {\"24\": 45, \"27\": 2, \"36\": 1}, \"21\": {\"21\": 44, \"92\": 1, \"81\": 1, \"23\": 1, \"17\": 1}, \"83\": {\"83\": 22, \"70\": 1, \"61\": 1}, \"60\": {\"60\": 25, \"19\": 1, \"28\": 1, \"110\": 1}, \"87\": {\"87\": 120}, \"30\": {\"30\": 79, \"116\": 1, \"98\": 1, \"94\": 1, \"73\": 1, \"69\": 1}, \"43\": {\"43\": 51, \"33\": 2, \"73\": 1, \"21\": 2}, \"115\": {\"115\": 16}, \"40\": {\"40\": 119, \"62\": 1}, \"112\": {\"112\": 14, \"48\": 1, \"92\": 1}, \"66\": {\"66\": 16}, \"110\": {\"110\": 91, \"73\": 1}, \"3\": {\"3\": 112, \"94\": 1, \"12\": 1}, \"20\": {\"20\": 16}, \"28\": {\"28\": 16}, \"84\": {\"84\": 104, \"26\": 3, \"109\": 1}, \"79\": {\"79\": 12}, \"118\": {\"118\": 97, \"113\": 1, \"70\": 1, \"5\": 1}, \"56\": {\"56\": 10, \"98\": 1, \"21\": 1}, \"48\": {\"48\": 10, \"20\": 2, \"13\": 1, \"87\": 1, \"37\": 1, \"79\": 1}, \"77\": {\"77\": 16}, \"14\": {\"14\": 80}, \"64\": {\"64\": 20}, \"67\": {\"67\": 15, \"39\": 1}, \"62\": {\"62\": 124}, \"75\": {\"75\": 16}, \"63\": {\"63\": 13, \"19\": 1, \"110\": 1, \"60\": 1}, \"7\": {\"7\": 112}, \"125\": {\"125\": 101, \"113\": 1, \"23\": 1, \"98\": 1}, \"37\": {\"37\": 16}, \"121\": {\"121\": 23, \"23\": 1, \"13\": 1, \"27\": 1, \"19\": 1, \"82\": 1, \"48\": 1, \"113\": 1, \"18\": 1, \"81\": 1}, \"16\": {\"16\": 101, \"113\": 1, \"94\": 2}, \"35\": {\"35\": 11, \"70\": 1}, \"32\": {\"32\": 30, \"57\": 1, \"14\": 1}, \"46\": {\"46\": 16}, \"70\": {\"70\": 68, \"30\": 1, \"71\": 1, \"67\": 1, \"81\": 1}, \"129\": {\"129\": 31, \"110\": 1}, \"95\": {\"95\": 31, \"3\": 1}, \"72\": {\"72\": 28}, \"19\": {\"19\": 32}, \"52\": {\"52\": 16}, \"100\": {\"100\": 14, \"69\": 1, \"11\": 1}, \"104\": {\"104\": 16}, \"59\": {\"59\": 12}, \"109\": {\"109\": 126}, \"88\": {\"88\": 107, \"81\": 1}, \"27\": {\"27\": 84, \"21\": 1, \"36\": 6, \"94\": 2, \"110\": 1}, \"113\": {\"113\": 118, \"127\": 1, \"82\": 1}, \"105\": {\"105\": 124}, \"71\": {\"71\": 67, \"39\": 1}, \"108\": {\"108\": 122, \"70\": 1, \"69\": 1}, \"41\": {\"41\": 16}, \"80\": {\"80\": 15, \"19\": 1}, \"13\": {\"44\": 1, \"13\": 7, \"18\": 2, \"115\": 1, \"118\": 2, \"48\": 1, \"120\": 1, \"21\": 1}, \"55\": {\"55\": 16}, \"0\": {\"0\": 103, \"39\": 1, \"98\": 2}, \"25\": {\"25\": 16}, \"53\": {\"53\": 20}, \"61\": {\"61\": 16}, \"38\": {\"38\": 16}, \"127\": {\"127\": 124, \"49\": 1, \"39\": 1, \"113\": 1, \"84\": 1}, \"4\": {\"4\": 94, \"18\": 1, \"26\": 1}, \"12\": {\"12\": 104}, \"126\": {\"126\": 121, \"88\": 1, \"70\": 1, \"18\": 1}, \"29\": {\"29\": 32}, \"107\": {\"107\": 136}, \"82\": {\"82\": 28}, \"94\": {\"94\": 83, \"18\": 1}, \"54\": {\"54\": 16}, \"10\": {\"10\": 127, \"106\": 1}, \"22\": {\"22\": 16}, \"119\": {\"119\": 16}}, \"Wisig_2\": {\"73\": {\"73\": 27, \"96\": 1}, \"40\": {\"40\": 128, \"69\": 1, \"16\": 1, \"3\": 1, \"26\": 1}, \"99\": {\"99\": 29, \"48\": 2, \"27\": 1}, \"5\": {\"5\": 107, \"69\": 1, \"105\": 1, \"39\": 1, \"88\": 1, \"106\": 1}, \"108\": {\"108\": 132}, \"128\": {\"53\": 1, \"128\": 14, \"29\": 2, \"71\": 2, \"5\": 2, \"19\": 1, \"17\": 1, \"0\": 1}, \"89\": {\"89\": 35, \"40\": 1}, \"107\": {\"107\": 47, \"128\": 1, \"94\": 2, \"4\": 3, \"21\": 2, \"2\": 1, \"70\": 1, \"59\": 1, \"71\": 1, \"118\": 1, \"110\": 2, \"101\": 1, \"40\": 1}, \"2\": {\"2\": 27, \"113\": 1, \"89\": 1, \"93\": 2, \"39\": 1}, \"78\": {\"78\": 42, \"21\": 3, \"43\": 1, \"70\": 2}, \"85\": {\"85\": 32}, \"44\": {\"44\": 100}, \"58\": {\"58\": 20}, \"57\": {\"57\": 18, \"10\": 1, \"87\": 1}, \"41\": {\"41\": 19, \"13\": 1}, \"53\": {\"53\": 16}, \"14\": {\"14\": 40, \"93\": 1, \"24\": 1, \"10\": 1, \"2\": 1, \"94\": 1, \"74\": 1, \"21\": 1, \"71\": 1}, \"83\": {\"83\": 38, \"69\": 1, \"118\": 1}, \"119\": {\"119\": 20}, \"95\": {\"95\": 35, \"87\": 1}, \"28\": {\"28\": 19, \"24\": 1}, \"19\": {\"19\": 28}, \"69\": {\"69\": 125, \"105\": 2, \"3\": 2, \"13\": 1, \"7\": 1, \"40\": 1}, \"93\": {\"93\": 132, \"58\": 1, \"109\": 1}, \"9\": {\"9\": 32}, \"118\": {\"118\": 66, \"14\": 1, \"1\": 1}, \"43\": {\"43\": 112, \"60\": 1, \"14\": 1, \"94\": 1, \"105\": 1}, \"47\": {\"47\": 12}, \"125\": {\"125\": 144}, \"29\": {\"29\": 32}, \"122\": {\"122\": 134, \"12\": 1, \"40\": 1, \"70\": 1, \"105\": 1, \"11\": 1, \"26\": 1}, \"46\": {\"46\": 16}, \"86\": {\"86\": 32}, \"70\": {\"70\": 108, \"87\": 1, \"84\": 1, \"60\": 2, \"93\": 1, \"21\": 3, \"107\": 1, \"122\": 1, \"18\": 1, \"19\": 1, \"110\": 1, \"3\": 1, \"15\": 1, \"7\": 1}, \"51\": {\"51\": 17, \"21\": 2, \"10\": 1}, \"23\": {\"23\": 31, \"8\": 1, \"49\": 1, \"121\": 1, \"29\": 2, \"82\": 1, \"70\": 2, \"12\": 1, \"77\": 1, \"110\": 1, \"44\": 2}, \"121\": {\"121\": 31, \"113\": 1, \"23\": 1, \"89\": 1, \"9\": 1, \"83\": 1}, \"63\": {\"46\": 1, \"63\": 17, \"13\": 1, \"87\": 1}, \"102\": {\"102\": 121, \"40\": 1}, \"21\": {\"21\": 46, \"26\": 1, \"39\": 1}, \"55\": {\"55\": 15, \"116\": 1}, \"54\": {\"54\": 20}, \"6\": {\"6\": 30, \"58\": 1, \"34\": 1}, \"109\": {\"109\": 92, \"81\": 1, \"118\": 2, \"75\": 1, \"107\": 1, \"88\": 1, \"110\": 1, \"39\": 1}, \"64\": {\"128\": 1, \"64\": 15}, \"20\": {\"20\": 16}, \"98\": {\"98\": 112, \"13\": 1, \"69\": 1}, \"92\": {\"92\": 26, \"75\": 1, \"31\": 1}, \"35\": {\"35\": 12}, \"113\": {\"113\": 65, \"128\": 1, \"109\": 1, \"19\": 1, \"24\": 1, \"39\": 1, \"21\": 1, \"11\": 1}, \"71\": {\"71\": 96, \"118\": 1, \"13\": 1, \"87\": 2}, \"94\": {\"94\": 56, \"71\": 1, \"87\": 2, \"51\": 1, \"26\": 2, \"11\": 1, \"74\": 1}, \"52\": {\"52\": 19, \"70\": 1}, \"116\": {\"116\": 24, \"87\": 1, \"34\": 1, \"96\": 1, \"82\": 1}, \"87\": {\"87\": 106, \"94\": 1, \"43\": 2, \"19\": 1, \"105\": 1, \"117\": 1}, \"90\": {\"90\": 147, \"26\": 1}, \"91\": {\"91\": 28}, \"84\": {\"84\": 87, \"71\": 1, \"107\": 1, \"7\": 1, \"11\": 1, \"1\": 1}, \"24\": {\"24\": 103, \"11\": 1, \"27\": 2, \"94\": 1, \"70\": 1, \"0\": 1, \"106\": 1, \"117\": 1, \"30\": 1}, \"33\": {\"33\": 131, \"87\": 1, \"69\": 1, \"40\": 1}, \"81\": {\"81\": 23, \"107\": 1}, \"115\": {\"115\": 9, \"104\": 1, \"13\": 1, \"34\": 1}, \"77\": {\"77\": 16}, \"106\": {\"106\": 117, \"21\": 1, \"87\": 1, \"14\": 1}, \"42\": {\"42\": 23, \"114\": 1, \"122\": 1, \"59\": 1, \"112\": 1, \"61\": 1}, \"38\": {\"38\": 16}, \"36\": {\"24\": 1, \"36\": 105, \"68\": 1, \"14\": 1, \"2\": 1, \"39\": 1, \"105\": 1, \"113\": 1, \"87\": 1, \"69\": 1}, \"79\": {\"79\": 16}, \"60\": {\"116\": 1, \"60\": 21, \"107\": 1, \"48\": 2, \"89\": 1, \"83\": 1, \"87\": 1}, \"80\": {\"80\": 15, \"29\": 1}, \"32\": {\"32\": 34, \"14\": 2}, \"0\": {\"0\": 116}, \"127\": {\"127\": 120, \"111\": 3, \"24\": 1}, \"114\": {\"114\": 114, \"13\": 1, \"109\": 1}, \"62\": {\"62\": 138, \"21\": 1, \"26\": 1}, \"129\": {\"129\": 32}, \"56\": {\"56\": 12}, \"76\": {\"76\": 16}, \"72\": {\"72\": 26, \"21\": 1, \"115\": 1}, \"88\": {\"88\": 121, \"71\": 1, \"11\": 1, \"83\": 1}, \"68\": {\"68\": 14, \"71\": 1, \"81\": 1}, \"67\": {\"67\": 13, \"82\": 1, \"75\": 2}, \"100\": {\"100\": 16}, \"34\": {\"34\": 19, \"14\": 1, \"86\": 2, \"91\": 2, \"21\": 1, \"92\": 1, \"32\": 1, \"13\": 1, \"52\": 2, \"66\": 1, \"82\": 1}, \"16\": {\"16\": 123, \"70\": 1}, \"126\": {\"126\": 120}, \"4\": {\"4\": 84, \"120\": 1, \"14\": 1, \"39\": 1, \"107\": 1}, \"101\": {\"101\": 146}, \"104\": {\"104\": 18, \"88\": 1, \"39\": 1}, \"30\": {\"67\": 1, \"30\": 105, \"0\": 2, \"71\": 1, \"40\": 1}, \"8\": {\"8\": 126, \"66\": 1, \"117\": 1}, \"82\": {\"82\": 34, \"75\": 1, \"15\": 1}, \"26\": {\"26\": 129, \"87\": 1, \"113\": 1, \"24\": 1, \"39\": 1, \"23\": 1, \"69\": 1, \"1\": 1, \"62\": 1, \"40\": 1}, \"96\": {\"96\": 19, \"72\": 1}, \"3\": {\"3\": 133, \"39\": 1, \"16\": 1, \"24\": 1}, \"25\": {\"25\": 14, \"21\": 1, \"78\": 1}, \"13\": {\"13\": 11, \"21\": 1, \"3\": 1, \"49\": 1, \"82\": 2}, \"37\": {\"37\": 15, \"13\": 1}, \"49\": {\"49\": 16, \"53\": 1, \"81\": 1, \"11\": 3, \"19\": 1, \"61\": 1, \"39\": 1}, \"111\": {\"111\": 136}, \"105\": {\"105\": 131, \"7\": 1}, \"17\": {\"17\": 13, \"42\": 1, \"87\": 1, \"70\": 1}, \"65\": {\"65\": 18, \"60\": 1, \"73\": 1}, \"123\": {\"123\": 15, \"22\": 1}, \"74\": {\"74\": 14, \"11\": 1, \"17\": 1}, \"97\": {\"97\": 16, \"122\": 1, \"32\": 1, \"109\": 1, \"91\": 1}, \"112\": {\"112\": 13, \"3\": 1, \"59\": 1, \"108\": 1}, \"120\": {\"120\": 20}, \"50\": {\"50\": 14, \"29\": 1, \"80\": 1}, \"59\": {\"59\": 15, \"24\": 1}, \"10\": {\"10\": 56, \"81\": 1, \"12\": 1, \"49\": 1, \"7\": 1}, \"45\": {\"45\": 15, \"107\": 1}, \"12\": {\"12\": 84, \"21\": 1, \"78\": 1, \"87\": 1, \"111\": 1}, \"75\": {\"75\": 15, \"30\": 1}, \"48\": {\"48\": 20}, \"61\": {\"61\": 17, \"10\": 1, \"71\": 1, \"94\": 1}, \"124\": {\"124\": 123, \"26\": 1}, \"11\": {\"11\": 77, \"117\": 1, \"126\": 1, \"69\": 1}, \"103\": {\"103\": 14, \"31\": 1, \"109\": 1}, \"7\": {\"7\": 128, \"109\": 1, \"110\": 1, \"39\": 1, \"100\": 1}, \"18\": {\"18\": 117, \"26\": 2, \"71\": 1}, \"31\": {\"31\": 19, \"118\": 1}, \"15\": {\"15\": 116, \"122\": 1, \"3\": 1}, \"1\": {\"1\": 119, \"94\": 1, \"39\": 1, \"75\": 1}, \"66\": {\"66\": 19, \"72\": 1}, \"110\": {\"110\": 31, \"114\": 1, \"94\": 1, \"24\": 2, \"122\": 2, \"18\": 1, \"27\": 1, \"87\": 1}, \"27\": {\"27\": 56, \"58\": 1, \"94\": 1, \"24\": 1, \"11\": 3, \"71\": 1, \"110\": 1, \"36\": 2, \"10\": 1, \"26\": 1}, \"22\": {\"22\": 18, \"3\": 1, \"75\": 1}, \"117\": {\"117\": 117, \"30\": 1, \"15\": 2}, \"39\": {\"39\": 107, \"26\": 1}}, \"Wisig_1\": {\"60\": {\"60\": 10, \"34\": 2, \"83\": 1, \"109\": 1, \"119\": 1, \"23\": 1}, \"59\": {\"60\": 1, \"59\": 10, \"28\": 1}, \"107\": {\"107\": 121, \"12\": 1, \"4\": 1, \"84\": 1}, \"113\": {\"113\": 123, \"69\": 1}, \"6\": {\"6\": 25, \"49\": 1, \"12\": 1, \"98\": 1, \"46\": 1, \"59\": 1, \"23\": 1, \"51\": 1}, \"24\": {\"24\": 87, \"108\": 2, \"73\": 1, \"88\": 1, \"3\": 1}, \"50\": {\"50\": 15, \"30\": 1}, \"62\": {\"62\": 119, \"1\": 1}, \"48\": {\"48\": 12}, \"104\": {\"104\": 16}, \"105\": {\"105\": 75, \"40\": 7, \"65\": 1, \"88\": 1}, \"44\": {\"44\": 76}, \"49\": {\"49\": 14, \"111\": 1, \"101\": 2, \"70\": 1, \"128\": 2}, \"55\": {\"55\": 12}, \"4\": {\"4\": 100}, \"76\": {\"76\": 16}, \"85\": {\"85\": 32}, \"89\": {\"89\": 36}, \"74\": {\"74\": 16}, \"112\": {\"112\": 16}, \"79\": {\"79\": 12}, \"0\": {\"0\": 83, \"112\": 1}, \"91\": {\"91\": 25, \"75\": 1, \"61\": 2}, \"118\": {\"118\": 83, \"94\": 1}, \"80\": {\"80\": 16}, \"64\": {\"64\": 16}, \"97\": {\"97\": 17, \"88\": 3}, \"84\": {\"84\": 124}, \"38\": {\"38\": 16}, \"30\": {\"30\": 51, \"52\": 1}, \"32\": {\"32\": 28, \"65\": 1, \"110\": 1, \"86\": 1, \"69\": 1}, \"72\": {\"72\": 32}, \"33\": {\"33\": 130, \"14\": 1, \"70\": 1}, \"34\": {\"34\": 25, \"46\": 1, \"91\": 1, \"98\": 3, \"14\": 1, \"86\": 1}, \"28\": {\"28\": 20}, \"123\": {\"123\": 15, \"83\": 1}, \"2\": {\"2\": 23, \"83\": 1, \"95\": 2, \"129\": 1, \"42\": 1, \"13\": 1, \"82\": 1, \"114\": 1, \"12\": 1}, \"70\": {\"70\": 120, \"128\": 2, \"108\": 1, \"12\": 1}, \"127\": {\"127\": 107, \"78\": 1}, \"110\": {\"110\": 125, \"39\": 1, \"113\": 1, \"69\": 1}, \"126\": {\"126\": 134, \"109\": 2}, \"13\": {\"13\": 16}, \"15\": {\"15\": 98, \"111\": 5, \"94\": 1}, \"29\": {\"29\": 28}, \"18\": {\"18\": 119, \"23\": 1}, \"7\": {\"7\": 142}, \"56\": {\"56\": 12}, \"98\": {\"98\": 108}, \"99\": {\"99\": 24}, \"77\": {\"77\": 15, \"20\": 1}, \"103\": {\"6\": 1, \"103\": 13, \"9\": 1, \"94\": 1}, \"128\": {\"128\": 19, \"49\": 1, \"72\": 2, \"42\": 1, \"5\": 1}, \"3\": {\"3\": 84, \"71\": 1, \"105\": 1, \"8\": 1, \"15\": 1}, \"121\": {\"121\": 32}, \"42\": {\"42\": 21, \"109\": 3, \"119\": 2, \"95\": 1, \"18\": 1}, \"90\": {\"90\": 120}, \"37\": {\"37\": 16}, \"120\": {\"128\": 1, \"120\": 17, \"21\": 1, \"127\": 1}, \"117\": {\"117\": 118}, \"9\": {\"9\": 32}, \"108\": {\"108\": 124}, \"83\": {\"83\": 27, \"128\": 1}, \"14\": {\"14\": 95, \"65\": 1}, \"63\": {\"63\": 16}, \"11\": {\"11\": 117, \"39\": 1}, \"95\": {\"95\": 36}, \"26\": {\"26\": 128, \"88\": 1, \"65\": 1}, \"22\": {\"22\": 15, \"98\": 1}, \"102\": {\"102\": 120}, \"69\": {\"69\": 101, \"94\": 1, \"39\": 3, \"88\": 1}, \"1\": {\"1\": 130}, \"67\": {\"67\": 16}, \"57\": {\"57\": 12}, \"8\": {\"8\": 132, \"40\": 1, \"49\": 1}, \"109\": {\"109\": 121, \"126\": 2, \"69\": 1}, \"129\": {\"129\": 25, \"13\": 1, \"19\": 1, \"2\": 1}, \"111\": {\"111\": 120}, \"71\": {\"71\": 102, \"102\": 2, \"109\": 1, \"113\": 2, \"124\": 1}, \"47\": {\"47\": 12}, \"82\": {\"82\": 35, \"128\": 1}, \"27\": {\"27\": 91, \"88\": 1}, \"19\": {\"19\": 28}, \"122\": {\"87\": 1, \"122\": 86, \"21\": 1}, \"53\": {\"53\": 20}, \"87\": {\"87\": 105, \"94\": 1, \"37\": 1, \"40\": 1}, \"100\": {\"100\": 16}, \"66\": {\"66\": 16}, \"31\": {\"31\": 16}, \"58\": {\"58\": 11, \"106\": 1}, \"68\": {\"68\": 16}, \"88\": {\"88\": 107, \"97\": 1, \"69\": 1, \"36\": 2, \"70\": 2, \"108\": 1}, \"45\": {\"45\": 5, \"44\": 1, \"109\": 2, \"124\": 1, \"95\": 1, \"120\": 1, \"14\": 1}, \"114\": {\"114\": 128}, \"23\": {\"58\": 4, \"23\": 18, \"65\": 1, \"34\": 1}, \"65\": {\"70\": 1, \"65\": 7, \"43\": 1, \"63\": 1, \"78\": 1, \"18\": 1}, \"124\": {\"124\": 118}, \"10\": {\"10\": 114, \"118\": 1, \"69\": 1, \"62\": 1, \"26\": 1, \"85\": 1, \"4\": 1}, \"92\": {\"92\": 28}, \"40\": {\"40\": 138, \"105\": 4, \"71\": 1, \"39\": 1}, \"73\": {\"73\": 18, \"94\": 1, \"30\": 1}, \"94\": {\"94\": 92}, \"81\": {\"81\": 28}, \"101\": {\"101\": 108, \"18\": 1, \"39\": 1}, \"86\": {\"86\": 33, \"69\": 2, \"2\": 1}, \"78\": {\"78\": 11, \"87\": 2, \"43\": 2, \"40\": 1}, \"96\": {\"96\": 20}, \"5\": {\"5\": 84, \"12\": 1, \"108\": 1, \"49\": 1, \"39\": 1}, \"16\": {\"16\": 104, \"10\": 1, \"21\": 1, \"88\": 1, \"69\": 1}, \"35\": {\"35\": 12}, \"51\": {\"51\": 16}, \"46\": {\"46\": 9, \"88\": 1, \"12\": 1, \"25\": 1}, \"20\": {\"20\": 16}, \"116\": {\"116\": 29, \"11\": 1, \"61\": 1, \"15\": 1}, \"75\": {\"75\": 16}, \"43\": {\"43\": 126, \"26\": 2}, \"17\": {\"17\": 16}, \"12\": {\"12\": 103, \"108\": 1}, \"25\": {\"25\": 16}, \"54\": {\"54\": 15, \"3\": 1}, \"36\": {\"36\": 107, \"127\": 1, \"113\": 1, \"88\": 2, \"71\": 1}, \"52\": {\"52\": 20}, \"61\": {\"61\": 12}, \"106\": {\"106\": 120}, \"39\": {\"39\": 100, \"10\": 1, \"62\": 1, \"21\": 1, \"87\": 1}, \"119\": {\"119\": 16}, \"125\": {\"125\": 148}, \"93\": {\"93\": 147, \"3\": 1}, \"115\": {\"115\": 12}, \"21\": {\"21\": 32, \"94\": 1, \"122\": 1, \"86\": 1, \"28\": 1, \"30\": 1, \"12\": 1, \"83\": 1, \"43\": 1}, \"41\": {\"41\": 16}}, \"Wisig_4\": {\"55\": {\"55\": 16}, \"9\": {\"9\": 28}, \"70\": {\"70\": 114, \"39\": 1, \"88\": 6, \"69\": 1}, \"112\": {\"112\": 16}, \"115\": {\"115\": 12, \"25\": 1, \"99\": 1, \"85\": 1, \"64\": 1}, \"56\": {\"56\": 11, \"72\": 1}, \"108\": {\"111\": 1, \"108\": 80, \"25\": 1, \"129\": 1, \"0\": 1, \"81\": 1, \"39\": 1, \"27\": 2, \"73\": 1, \"16\": 1, \"24\": 1, \"18\": 1}, \"117\": {\"117\": 122, \"110\": 1, \"100\": 1}, \"111\": {\"111\": 130, \"127\": 1, \"3\": 1}, \"71\": {\"71\": 93, \"67\": 1, \"114\": 3, \"26\": 1, \"122\": 1, \"36\": 1, \"113\": 1, \"118\": 1, \"10\": 1, \"126\": 1}, \"59\": {\"59\": 12}, \"10\": {\"10\": 122, \"15\": 1, \"84\": 1}, \"83\": {\"83\": 28}, \"116\": {\"116\": 28}, \"13\": {\"13\": 16}, \"4\": {\"4\": 103, \"126\": 1}, \"125\": {\"125\": 104, \"117\": 1, \"124\": 1}, \"102\": {\"102\": 122, \"105\": 1, \"26\": 1}, \"47\": {\"47\": 12}, \"28\": {\"28\": 20}, \"82\": {\"82\": 30, \"1\": 1, \"78\": 1}, \"60\": {\"60\": 32}, \"107\": {\"107\": 129, \"98\": 1, \"122\": 2, \"91\": 1, \"62\": 1}, \"75\": {\"75\": 16}, \"31\": {\"31\": 16}, \"92\": {\"92\": 28}, \"58\": {\"58\": 16}, \"113\": {\"113\": 125, \"84\": 1, \"26\": 1, \"1\": 1}, \"95\": {\"95\": 32}, \"14\": {\"14\": 109, \"126\": 1, \"111\": 1, \"118\": 1}, \"17\": {\"17\": 20}, \"104\": {\"104\": 16}, \"72\": {\"72\": 29, \"128\": 1, \"19\": 1, \"23\": 1}, \"69\": {\"69\": 124, \"88\": 1, \"21\": 1, \"39\": 1, \"84\": 1}, \"63\": {\"63\": 16}, \"12\": {\"12\": 97, \"118\": 1, \"19\": 1, \"62\": 1}, \"25\": {\"25\": 16}, \"67\": {\"67\": 6, \"69\": 1, \"76\": 1, \"44\": 1, \"40\": 2, \"92\": 2, \"123\": 2, \"78\": 1}, \"50\": {\"50\": 16}, \"43\": {\"43\": 110, \"23\": 1, \"70\": 1, \"87\": 5, \"129\": 1, \"118\": 1, \"98\": 1}, \"96\": {\"96\": 20}, \"128\": {\"128\": 22, \"72\": 1, \"78\": 1}, \"77\": {\"77\": 12}, \"54\": {\"54\": 16}, \"118\": {\"118\": 104, \"57\": 1, \"106\": 1, \"111\": 1, \"1\": 1, \"26\": 2, \"127\": 1, \"62\": 1}, \"30\": {\"30\": 73, \"10\": 3}, \"51\": {\"51\": 13, \"41\": 1, \"30\": 1, \"25\": 1}, \"122\": {\"122\": 77, \"107\": 1, \"126\": 1, \"88\": 1, \"43\": 1, \"30\": 1, \"111\": 1, \"24\": 1}, \"46\": {\"46\": 19, \"20\": 1}, \"79\": {\"79\": 16}, \"103\": {\"103\": 16}, \"74\": {\"31\": 1, \"74\": 15}, \"90\": {\"90\": 146}, \"8\": {\"8\": 138, \"71\": 1, \"15\": 1, \"26\": 1, \"114\": 1}, \"94\": {\"94\": 85, \"1\": 1, \"15\": 1, \"111\": 1}, \"7\": {\"7\": 119, \"36\": 1, \"0\": 1, \"24\": 1}, \"61\": {\"61\": 16}, \"26\": {\"26\": 119, \"30\": 1}, \"127\": {\"127\": 107, \"26\": 1}, \"23\": {\"23\": 12, \"21\": 1, \"122\": 1, \"111\": 1, \"68\": 1}, \"1\": {\"1\": 103, \"43\": 1, \"23\": 1, \"107\": 1, \"122\": 1, \"10\": 1}, \"93\": {\"93\": 133, \"110\": 1}, \"106\": {\"106\": 106, \"94\": 2, \"18\": 1, \"84\": 2, \"118\": 1, \"39\": 1, \"109\": 1, \"2\": 1, \"26\": 1}, \"110\": {\"110\": 117, \"39\": 1}, \"76\": {\"76\": 16}, \"36\": {\"36\": 116, \"24\": 2, \"94\": 1, \"1\": 1}, \"21\": {\"21\": 34, \"84\": 2, \"78\": 3, \"3\": 1}, \"37\": {\"37\": 16}, \"11\": {\"11\": 119, \"12\": 1}, \"109\": {\"109\": 112, \"24\": 1, \"14\": 1, \"118\": 1, \"16\": 1}, \"62\": {\"21\": 1, \"62\": 55, \"81\": 1, \"113\": 2, \"26\": 1}, \"89\": {\"89\": 31, \"51\": 1}, \"126\": {\"126\": 114, \"113\": 3, \"84\": 1, \"39\": 4, \"16\": 1, \"93\": 1}, \"101\": {\"101\": 123, \"111\": 1, \"4\": 1, \"88\": 1, \"108\": 1, \"84\": 1}, \"65\": {\"65\": 12}, \"19\": {\"19\": 26, \"100\": 2}, \"27\": {\"27\": 96, \"129\": 1, \"122\": 1, \"69\": 1, \"70\": 1}, \"5\": {\"5\": 133, \"23\": 1, \"71\": 1, \"118\": 1}, \"73\": {\"73\": 23, \"108\": 1}, \"6\": {\"6\": 23, \"58\": 1}, \"29\": {\"29\": 32}, \"114\": {\"114\": 127, \"113\": 1}, \"49\": {\"49\": 22, \"70\": 4, \"10\": 1, \"53\": 2, \"51\": 1, \"111\": 2}, \"16\": {\"16\": 115, \"70\": 1, \"20\": 1, \"69\": 1}, \"68\": {\"68\": 16}, \"98\": {\"98\": 117, \"16\": 1, \"101\": 1, \"3\": 1}, \"64\": {\"64\": 16}, \"121\": {\"90\": 1, \"121\": 17, \"116\": 2, \"6\": 2, \"38\": 2, \"91\": 1, \"18\": 2, \"92\": 1, \"44\": 2, \"89\": 2}, \"124\": {\"124\": 114}, \"97\": {\"97\": 20}, \"40\": {\"40\": 136}, \"119\": {\"119\": 16}, \"100\": {\"100\": 20}, \"87\": {\"87\": 115, \"105\": 1}, \"88\": {\"88\": 111, \"23\": 1, \"73\": 1, \"108\": 4, \"70\": 7, \"26\": 1, \"105\": 1, \"21\": 1, \"113\": 1}, \"52\": {\"52\": 17, \"16\": 1, \"31\": 1, \"35\": 1}, \"80\": {\"80\": 15, \"115\": 1}, \"105\": {\"105\": 94, \"87\": 1, \"91\": 1, \"26\": 1, \"118\": 1, \"4\": 1, \"5\": 1}, \"32\": {\"14\": 4, \"32\": 22, \"118\": 2}, \"35\": {\"35\": 12}, \"99\": {\"99\": 40}, \"18\": {\"18\": 118, \"7\": 1, \"30\": 1}, \"24\": {\"24\": 108, \"15\": 1, \"27\": 1, \"36\": 2}, \"85\": {\"85\": 27, \"26\": 1}, \"39\": {\"39\": 92, \"118\": 1, \"81\": 2, \"3\": 1, \"26\": 1, \"2\": 1, \"113\": 1, \"16\": 1}, \"123\": {\"123\": 16}, \"91\": {\"91\": 24}, \"78\": {\"78\": 28, \"21\": 2, \"100\": 1, \"95\": 1, \"122\": 1, \"39\": 1, \"26\": 1, \"107\": 1}, \"38\": {\"38\": 16}, \"15\": {\"15\": 124, \"84\": 1, \"18\": 1, \"26\": 1, \"105\": 1}, \"48\": {\"48\": 16}, \"45\": {\"45\": 16}, \"120\": {\"120\": 20}, \"44\": {\"44\": 63, \"113\": 1}, \"86\": {\"86\": 26, \"65\": 1, \"21\": 1}, \"20\": {\"20\": 16}, \"33\": {\"33\": 146, \"114\": 1, \"21\": 1, \"102\": 1, \"10\": 1}, \"129\": {\"129\": 23, \"73\": 4, \"108\": 1}, \"34\": {\"34\": 19, \"104\": 1, \"75\": 1, \"45\": 2, \"32\": 2, \"91\": 2, \"106\": 2, \"37\": 1, \"25\": 2}, \"81\": {\"81\": 35, \"21\": 1}, \"57\": {\"57\": 12, \"21\": 1, \"128\": 2, \"100\": 1}, \"0\": {\"0\": 113, \"26\": 1, \"95\": 1, \"63\": 1}, \"2\": {\"2\": 28}, \"42\": {\"42\": 24, \"70\": 1, \"106\": 1, \"61\": 1, \"8\": 1}, \"84\": {\"84\": 127, \"24\": 1, \"30\": 1, \"3\": 1, \"26\": 1, \"117\": 1}, \"3\": {\"3\": 119, \"21\": 1, \"69\": 1, \"55\": 1, \"12\": 1, \"84\": 1, \"24\": 1, \"98\": 1}, \"41\": {\"41\": 15, \"100\": 1}, \"53\": {\"53\": 15, \"122\": 1}, \"66\": {\"66\": 16}, \"22\": {\"22\": 16}}, \"ORACLE.run150\": {\"7\": {\"5\": 104, \"8\": 60, \"6\": 79, \"15\": 93, \"11\": 70, \"3\": 82, \"13\": 108, \"0\": 61, \"10\": 79, \"9\": 54, \"12\": 38, \"1\": 92, \"7\": 102, \"4\": 72, \"14\": 52, \"2\": 54}, \"10\": {\"5\": 73, \"8\": 110, \"4\": 68, \"6\": 82, \"15\": 41, \"7\": 99, \"12\": 45, \"10\": 99, \"0\": 111, \"3\": 114, \"1\": 61, \"14\": 48, \"13\": 67, \"2\": 104, \"9\": 32, \"11\": 46}, \"0\": {\"5\": 50, \"0\": 134, \"3\": 98, \"15\": 43, \"7\": 69, \"8\": 132, \"2\": 149, \"4\": 48, \"6\": 62, \"13\": 56, \"14\": 81, \"11\": 33, \"9\": 46, \"10\": 95, \"12\": 53, \"1\": 51}, \"11\": {\"4\": 87, \"11\": 126, \"13\": 83, \"12\": 84, \"0\": 27, \"6\": 78, \"7\": 84, \"9\": 123, \"1\": 108, \"14\": 87, \"5\": 86, \"2\": 40, \"15\": 111, \"8\": 15, \"10\": 44, \"3\": 17}, \"2\": {\"0\": 139, \"14\": 107, \"13\": 57, \"3\": 92, \"15\": 36, \"8\": 127, \"2\": 118, \"12\": 67, \"9\": 48, \"1\": 61, \"6\": 52, \"11\": 38, \"7\": 65, \"10\": 96, \"4\": 55, \"5\": 42}, \"14\": {\"4\": 56, \"6\": 86, \"1\": 70, \"7\": 60, \"10\": 55, \"9\": 104, \"2\": 85, \"15\": 63, \"11\": 85, \"12\": 118, \"5\": 61, \"14\": 129, \"13\": 65, \"8\": 54, \"0\": 82, \"3\": 27}, \"9\": {\"5\": 68, \"9\": 161, \"12\": 106, \"4\": 105, \"6\": 73, \"15\": 99, \"1\": 118, \"7\": 58, \"11\": 121, \"10\": 30, \"14\": 106, \"13\": 55, \"2\": 32, \"0\": 42, \"3\": 9, \"8\": 17}, \"13\": {\"9\": 67, \"13\": 97, \"3\": 58, \"4\": 111, \"0\": 70, \"7\": 84, \"5\": 118, \"6\": 83, \"11\": 69, \"15\": 63, \"10\": 69, \"14\": 60, \"2\": 57, \"1\": 103, \"12\": 44, \"8\": 47}, \"8\": {\"8\": 200, \"14\": 40, \"12\": 24, \"6\": 51, \"2\": 127, \"10\": 123, \"3\": 183, \"7\": 71, \"4\": 41, \"5\": 54, \"0\": 138, \"11\": 15, \"1\": 35, \"13\": 60, \"15\": 21, \"9\": 17}, \"15\": {\"15\": 131, \"1\": 102, \"6\": 117, \"13\": 90, \"11\": 107, \"0\": 32, \"10\": 47, \"12\": 64, \"4\": 112, \"9\": 99, \"2\": 29, \"14\": 59, \"7\": 85, \"5\": 86, \"3\": 16, \"8\": 24}, \"4\": {\"1\": 96, \"11\": 94, \"12\": 65, \"15\": 110, \"5\": 114, \"4\": 110, \"6\": 97, \"3\": 45, \"7\": 79, \"10\": 64, \"9\": 91, \"13\": 87, \"8\": 31, \"14\": 47, \"0\": 42, \"2\": 28}, \"5\": {\"9\": 69, \"15\": 62, \"14\": 60, \"1\": 89, \"5\": 107, \"6\": 100, \"12\": 30, \"10\": 66, \"4\": 125, \"13\": 108, \"3\": 59, \"2\": 43, \"11\": 68, \"8\": 50, \"7\": 111, \"0\": 53}, \"3\": {\"7\": 82, \"8\": 203, \"13\": 71, \"10\": 123, \"2\": 93, \"3\": 249, \"1\": 33, \"4\": 43, \"6\": 43, \"0\": 110, \"5\": 55, \"11\": 12, \"9\": 13, \"14\": 34, \"12\": 14, \"15\": 22}, \"1\": {\"11\": 95, \"15\": 102, \"7\": 95, \"14\": 70, \"6\": 93, \"4\": 102, \"9\": 91, \"0\": 42, \"12\": 56, \"2\": 46, \"5\": 89, \"3\": 26, \"13\": 110, \"1\": 89, \"10\": 56, \"8\": 38}, \"6\": {\"10\": 58, \"6\": 113, \"11\": 73, \"4\": 73, \"8\": 41, \"15\": 120, \"5\": 94, \"9\": 78, \"13\": 103, \"7\": 92, \"1\": 104, \"0\": 51, \"3\": 40, \"2\": 42, \"12\": 50, \"14\": 68}, \"12\": {\"4\": 66, \"10\": 45, \"2\": 84, \"12\": 152, \"14\": 140, \"11\": 117, \"0\": 58, \"1\": 74, \"9\": 128, \"7\": 56, \"5\": 57, \"13\": 57, \"6\": 63, \"15\": 73, \"8\": 18, \"3\": 12}}, \"ORACLE.run114\": {\"14\": {\"4\": 78, \"10\": 89, \"14\": 103, \"5\": 79, \"9\": 34, \"7\": 55, \"1\": 69, \"3\": 82, \"15\": 93, \"2\": 100, \"6\": 118, \"13\": 108, \"0\": 71, \"11\": 75, \"8\": 20, \"12\": 26}, \"6\": {\"3\": 80, \"13\": 142, \"6\": 124, \"4\": 77, \"11\": 62, \"15\": 88, \"5\": 77, \"10\": 85, \"14\": 107, \"2\": 114, \"0\": 66, \"1\": 53, \"7\": 75, \"9\": 17, \"8\": 19, \"12\": 14}, \"5\": {\"1\": 96, \"6\": 60, \"2\": 93, \"0\": 93, \"7\": 88, \"9\": 51, \"8\": 59, \"3\": 94, \"14\": 75, \"5\": 87, \"15\": 77, \"11\": 73, \"10\": 71, \"4\": 79, \"13\": 67, \"12\": 37}, \"15\": {\"4\": 77, \"1\": 84, \"15\": 159, \"6\": 102, \"8\": 30, \"3\": 72, \"14\": 75, \"7\": 117, \"13\": 110, \"2\": 91, \"0\": 52, \"10\": 63, \"5\": 87, \"11\": 36, \"9\": 27, \"12\": 18}, \"11\": {\"10\": 89, \"3\": 88, \"14\": 74, \"0\": 96, \"11\": 106, \"9\": 94, \"12\": 90, \"4\": 69, \"13\": 61, \"2\": 67, \"1\": 80, \"8\": 75, \"5\": 61, \"15\": 36, \"6\": 59, \"7\": 55}, \"8\": {\"1\": 102, \"7\": 59, \"11\": 86, \"0\": 76, \"2\": 39, \"8\": 165, \"3\": 58, \"12\": 153, \"5\": 55, \"9\": 150, \"15\": 61, \"10\": 64, \"6\": 21, \"4\": 64, \"13\": 32, \"14\": 15}, \"12\": {\"12\": 286, \"4\": 37, \"9\": 204, \"1\": 62, \"0\": 79, \"14\": 28, \"15\": 12, \"11\": 99, \"7\": 20, \"8\": 170, \"5\": 42, \"2\": 35, \"3\": 52, \"10\": 54, \"13\": 10, \"6\": 10}, \"1\": {\"15\": 89, \"10\": 78, \"0\": 74, \"7\": 103, \"11\": 84, \"14\": 75, \"8\": 74, \"9\": 58, \"4\": 77, \"2\": 83, \"5\": 96, \"12\": 41, \"3\": 81, \"1\": 85, \"13\": 57, \"6\": 45}, \"2\": {\"4\": 87, \"6\": 94, \"13\": 109, \"2\": 127, \"15\": 66, \"11\": 68, \"10\": 78, \"5\": 79, \"14\": 104, \"7\": 72, \"1\": 80, \"8\": 28, \"3\": 90, \"0\": 75, \"9\": 27, \"12\": 16}, \"13\": {\"13\": 128, \"1\": 61, \"14\": 124, \"5\": 63, \"10\": 87, \"11\": 62, \"2\": 110, \"7\": 73, \"12\": 18, \"0\": 55, \"9\": 14, \"4\": 79, \"3\": 75, \"6\": 118, \"8\": 29, \"15\": 104}, \"3\": {\"14\": 99, \"7\": 73, \"8\": 52, \"4\": 71, \"11\": 75, \"6\": 77, \"13\": 71, \"0\": 71, \"5\": 94, \"3\": 97, \"1\": 77, \"9\": 58, \"15\": 80, \"10\": 84, \"2\": 87, \"12\": 34}, \"0\": {\"2\": 78, \"1\": 90, \"8\": 54, \"4\": 87, \"9\": 72, \"5\": 74, \"10\": 71, \"15\": 49, \"11\": 91, \"6\": 69, \"14\": 81, \"0\": 101, \"7\": 59, \"13\": 76, \"12\": 65, \"3\": 83}, \"9\": {\"7\": 48, \"9\": 159, \"12\": 190, \"0\": 89, \"1\": 70, \"2\": 32, \"10\": 75, \"5\": 62, \"3\": 66, \"8\": 124, \"11\": 104, \"13\": 38, \"6\": 31, \"14\": 35, \"4\": 56, \"15\": 21}, \"4\": {\"10\": 67, \"1\": 85, \"15\": 84, \"7\": 84, \"5\": 100, \"3\": 83, \"4\": 81, \"14\": 87, \"13\": 84, \"2\": 72, \"11\": 65, \"12\": 36, \"9\": 57, \"0\": 83, \"6\": 70, \"8\": 62}, \"7\": {\"11\": 53, \"1\": 85, \"7\": 135, \"15\": 128, \"5\": 101, \"2\": 93, \"10\": 72, \"14\": 63, \"9\": 34, \"8\": 62, \"0\": 70, \"13\": 80, \"3\": 79, \"4\": 69, \"12\": 21, \"6\": 55}, \"10\": {\"14\": 100, \"9\": 63, \"2\": 74, \"5\": 75, \"3\": 89, \"11\": 99, \"0\": 85, \"7\": 46, \"1\": 63, \"6\": 91, \"10\": 87, \"4\": 84, \"8\": 54, \"13\": 79, \"15\": 63, \"12\": 48}}, \"ORACLE.run132\": {\"4\": {\"7\": 102, \"2\": 117, \"3\": 80, \"8\": 113, \"4\": 112, \"0\": 111, \"11\": 108, \"6\": 9, \"13\": 83, \"9\": 75, \"5\": 83, \"15\": 33, \"14\": 107, \"10\": 19, \"12\": 47, \"1\": 1}, \"14\": {\"0\": 106, \"13\": 93, \"14\": 153, \"11\": 123, \"3\": 87, \"7\": 118, \"8\": 94, \"12\": 22, \"15\": 29, \"2\": 103, \"5\": 112, \"9\": 44, \"1\": 1, \"4\": 104, \"10\": 6, \"6\": 5}, \"5\": {\"2\": 93, \"12\": 39, \"14\": 98, \"8\": 129, \"11\": 103, \"7\": 102, \"9\": 41, \"0\": 124, \"5\": 99, \"15\": 48, \"4\": 106, \"3\": 101, \"13\": 105, \"10\": 10, \"6\": 2}, \"10\": {\"6\": 146, \"1\": 292, \"12\": 210, \"11\": 12, \"10\": 339, \"9\": 87, \"4\": 20, \"3\": 2, \"7\": 10, \"5\": 6, \"2\": 26, \"8\": 7, \"15\": 10, \"0\": 14, \"13\": 10, \"14\": 9}, \"13\": {\"4\": 125, \"2\": 101, \"14\": 78, \"11\": 89, \"13\": 109, \"7\": 92, \"5\": 104, \"8\": 123, \"0\": 108, \"12\": 42, \"15\": 55, \"9\": 48, \"10\": 13, \"3\": 111, \"1\": 1, \"6\": 1}, \"9\": {\"6\": 83, \"9\": 190, \"12\": 159, \"4\": 80, \"2\": 124, \"7\": 71, \"11\": 57, \"14\": 59, \"10\": 88, \"5\": 65, \"8\": 58, \"1\": 30, \"0\": 52, \"15\": 9, \"13\": 49, \"3\": 26}, \"6\": {\"6\": 352, \"10\": 208, \"9\": 121, \"2\": 26, \"1\": 282, \"12\": 139, \"7\": 7, \"8\": 4, \"14\": 9, \"0\": 14, \"5\": 3, \"13\": 10, \"11\": 10, \"3\": 4, \"4\": 11}, \"3\": {\"14\": 89, \"3\": 164, \"0\": 105, \"13\": 111, \"6\": 1, \"5\": 101, \"15\": 129, \"2\": 62, \"11\": 91, \"9\": 30, \"8\": 143, \"7\": 68, \"4\": 91, \"10\": 3, \"12\": 12}, \"15\": {\"15\": 522, \"8\": 114, \"12\": 9, \"2\": 16, \"14\": 30, \"3\": 173, \"13\": 81, \"5\": 80, \"4\": 40, \"0\": 55, \"11\": 41, \"7\": 25, \"10\": 4, \"9\": 9, \"1\": 1}, \"7\": {\"10\": 11, \"4\": 109, \"7\": 128, \"2\": 96, \"3\": 89, \"15\": 22, \"11\": 115, \"14\": 105, \"8\": 101, \"9\": 70, \"5\": 124, \"1\": 2, \"0\": 87, \"12\": 38, \"13\": 88, \"6\": 15}, \"12\": {\"1\": 82, \"5\": 43, \"10\": 172, \"6\": 110, \"9\": 181, \"12\": 240, \"2\": 68, \"3\": 25, \"0\": 61, \"11\": 24, \"14\": 27, \"4\": 60, \"7\": 37, \"13\": 38, \"8\": 26, \"15\": 6}, \"8\": {\"5\": 103, \"0\": 108, \"9\": 55, \"13\": 137, \"7\": 70, \"2\": 68, \"11\": 102, \"4\": 112, \"3\": 127, \"15\": 80, \"8\": 123, \"14\": 86, \"12\": 22, \"10\": 6, \"1\": 1}, \"11\": {\"5\": 90, \"2\": 106, \"7\": 120, \"13\": 98, \"4\": 105, \"3\": 82, \"0\": 113, \"8\": 98, \"14\": 140, \"11\": 129, \"1\": 2, \"9\": 36, \"15\": 40, \"12\": 33, \"10\": 4, \"6\": 4}, \"2\": {\"2\": 119, \"0\": 111, \"4\": 127, \"12\": 82, \"7\": 110, \"5\": 90, \"6\": 20, \"9\": 122, \"14\": 80, \"13\": 80, \"11\": 91, \"10\": 19, \"15\": 15, \"8\": 70, \"3\": 57, \"1\": 7}, \"1\": {\"1\": 443, \"3\": 3, \"6\": 254, \"10\": 304, \"12\": 111, \"9\": 45, \"8\": 5, \"5\": 1, \"0\": 9, \"13\": 5, \"4\": 3, \"11\": 1, \"2\": 11, \"7\": 3, \"15\": 1, \"14\": 1}, \"0\": {\"13\": 88, \"9\": 62, \"15\": 42, \"5\": 98, \"2\": 99, \"4\": 91, \"6\": 10, \"11\": 120, \"3\": 94, \"0\": 102, \"7\": 115, \"14\": 90, \"8\": 116, \"10\": 20, \"12\": 48, \"1\": 5}}, \"ORACLE.run144\": {\"8\": {\"15\": 194, \"0\": 266, \"8\": 264, \"5\": 175, \"4\": 78, \"14\": 112, \"9\": 11, \"3\": 33, \"12\": 19, \"1\": 14, \"13\": 5, \"11\": 3, \"2\": 10, \"10\": 4, \"7\": 8, \"6\": 4}, \"11\": {\"2\": 82, \"6\": 169, \"10\": 104, \"5\": 11, \"9\": 97, \"7\": 119, \"1\": 54, \"11\": 261, \"13\": 175, \"12\": 55, \"0\": 3, \"3\": 27, \"14\": 22, \"4\": 18, \"15\": 3}, \"14\": {\"5\": 138, \"7\": 56, \"9\": 55, \"8\": 77, \"3\": 82, \"14\": 133, \"1\": 63, \"15\": 134, \"0\": 106, \"4\": 130, \"12\": 56, \"11\": 19, \"13\": 48, \"10\": 32, \"6\": 32, \"2\": 39}, \"10\": {\"6\": 117, \"7\": 109, \"11\": 88, \"2\": 130, \"1\": 99, \"3\": 85, \"12\": 118, \"9\": 120, \"10\": 128, \"13\": 104, \"15\": 6, \"4\": 40, \"14\": 29, \"0\": 8, \"5\": 15, \"8\": 4}, \"3\": {\"2\": 77, \"5\": 38, \"3\": 158, \"1\": 135, \"9\": 73, \"7\": 93, \"15\": 50, \"12\": 126, \"14\": 86, \"4\": 87, \"6\": 49, \"11\": 32, \"0\": 29, \"13\": 69, \"10\": 84, \"8\": 14}, \"15\": {\"14\": 137, \"15\": 187, \"0\": 180, \"4\": 117, \"5\": 184, \"8\": 192, \"1\": 31, \"10\": 16, \"3\": 51, \"12\": 23, \"9\": 26, \"13\": 17, \"2\": 13, \"6\": 4, \"11\": 6, \"7\": 16}, \"2\": {\"12\": 88, \"7\": 115, \"3\": 73, \"9\": 99, \"2\": 117, \"13\": 130, \"11\": 99, \"4\": 66, \"5\": 23, \"10\": 106, \"6\": 124, \"1\": 103, \"0\": 4, \"14\": 38, \"8\": 3, \"15\": 12}, \"12\": {\"4\": 57, \"13\": 76, \"1\": 142, \"11\": 63, \"9\": 104, \"10\": 116, \"12\": 139, \"15\": 16, \"3\": 112, \"6\": 57, \"7\": 128, \"2\": 124, \"14\": 40, \"0\": 7, \"5\": 13, \"8\": 6}, \"4\": {\"8\": 50, \"4\": 138, \"14\": 143, \"7\": 72, \"5\": 115, \"1\": 70, \"3\": 80, \"9\": 80, \"0\": 69, \"11\": 31, \"6\": 38, \"2\": 55, \"15\": 86, \"13\": 60, \"10\": 41, \"12\": 72}, \"1\": {\"6\": 51, \"9\": 108, \"2\": 82, \"12\": 123, \"1\": 131, \"10\": 119, \"14\": 52, \"4\": 73, \"3\": 138, \"13\": 80, \"8\": 9, \"11\": 65, \"7\": 96, \"15\": 20, \"5\": 31, \"0\": 22}, \"0\": {\"4\": 94, \"5\": 184, \"14\": 120, \"8\": 229, \"1\": 20, \"13\": 15, \"15\": 187, \"9\": 22, \"0\": 218, \"6\": 7, \"7\": 13, \"12\": 13, \"3\": 47, \"11\": 10, \"10\": 11, \"2\": 10}, \"9\": {\"4\": 72, \"15\": 18, \"7\": 107, \"10\": 111, \"5\": 26, \"1\": 95, \"3\": 68, \"2\": 122, \"6\": 135, \"9\": 98, \"12\": 87, \"11\": 97, \"13\": 108, \"14\": 34, \"8\": 10, \"0\": 12}, \"5\": {\"8\": 124, \"0\": 131, \"11\": 15, \"15\": 156, \"14\": 138, \"1\": 32, \"12\": 32, \"5\": 173, \"4\": 148, \"6\": 16, \"9\": 53, \"7\": 47, \"3\": 60, \"10\": 17, \"2\": 25, \"13\": 33}, \"6\": {\"6\": 201, \"11\": 186, \"1\": 52, \"9\": 92, \"2\": 104, \"10\": 107, \"13\": 140, \"0\": 2, \"7\": 121, \"14\": 25, \"15\": 8, \"4\": 34, \"12\": 79, \"3\": 42, \"5\": 6, \"8\": 1}, \"7\": {\"3\": 74, \"2\": 130, \"5\": 27, \"1\": 89, \"6\": 114, \"11\": 101, \"10\": 124, \"13\": 105, \"9\": 107, \"4\": 56, \"7\": 108, \"12\": 87, \"15\": 15, \"14\": 52, \"8\": 5, \"0\": 6}, \"13\": {\"11\": 145, \"2\": 106, \"5\": 29, \"6\": 139, \"13\": 153, \"3\": 58, \"12\": 71, \"15\": 17, \"14\": 53, \"1\": 62, \"9\": 121, \"7\": 93, \"8\": 7, \"10\": 85, \"4\": 51, \"0\": 10}}, \"ORACLE.run18\": {\"13\": {\"15\": 69, \"1\": 71, \"0\": 92, \"14\": 79, \"10\": 103, \"4\": 100, \"13\": 75, \"12\": 52, \"3\": 65, \"6\": 74, \"9\": 60, \"2\": 70, \"11\": 59, \"5\": 83, \"7\": 83, \"8\": 65}, \"3\": {\"2\": 90, \"15\": 104, \"3\": 125, \"12\": 117, \"7\": 77, \"10\": 56, \"11\": 71, \"5\": 48, \"6\": 76, \"0\": 62, \"8\": 102, \"1\": 68, \"13\": 69, \"14\": 67, \"4\": 64, \"9\": 4}, \"15\": {\"0\": 56, \"3\": 90, \"11\": 97, \"2\": 97, \"12\": 105, \"15\": 114, \"8\": 102, \"1\": 82, \"7\": 63, \"14\": 65, \"6\": 81, \"5\": 55, \"13\": 66, \"4\": 66, \"10\": 57, \"9\": 4}, \"4\": {\"1\": 85, \"2\": 73, \"14\": 82, \"8\": 70, \"11\": 83, \"7\": 76, \"0\": 79, \"15\": 68, \"9\": 41, \"4\": 89, \"3\": 77, \"5\": 93, \"13\": 85, \"12\": 39, \"6\": 78, \"10\": 82}, \"7\": {\"13\": 74, \"11\": 68, \"1\": 82, \"14\": 72, \"15\": 80, \"12\": 67, \"4\": 91, \"5\": 91, \"7\": 68, \"0\": 83, \"8\": 56, \"6\": 88, \"3\": 84, \"9\": 21, \"10\": 96, \"2\": 79}, \"2\": {\"15\": 94, \"7\": 96, \"11\": 70, \"5\": 69, \"2\": 114, \"0\": 79, \"1\": 63, \"14\": 56, \"12\": 83, \"13\": 79, \"3\": 88, \"6\": 88, \"4\": 76, \"10\": 50, \"8\": 80, \"9\": 15}, \"1\": {\"6\": 88, \"1\": 80, \"13\": 78, \"0\": 54, \"8\": 92, \"3\": 78, \"4\": 87, \"10\": 83, \"12\": 67, \"7\": 83, \"11\": 90, \"2\": 65, \"14\": 81, \"5\": 79, \"9\": 27, \"15\": 68}, \"0\": {\"7\": 78, \"13\": 97, \"9\": 55, \"11\": 64, \"0\": 99, \"10\": 96, \"14\": 76, \"15\": 67, \"4\": 94, \"2\": 68, \"6\": 86, \"1\": 68, \"3\": 58, \"8\": 65, \"5\": 78, \"12\": 51}, \"12\": {\"2\": 82, \"13\": 57, \"8\": 88, \"5\": 44, \"14\": 63, \"11\": 93, \"15\": 122, \"4\": 69, \"3\": 102, \"12\": 141, \"0\": 52, \"7\": 95, \"10\": 42, \"6\": 84, \"9\": 1, \"1\": 65}, \"6\": {\"8\": 86, \"15\": 72, \"10\": 72, \"1\": 69, \"2\": 98, \"5\": 81, \"4\": 77, \"14\": 88, \"0\": 79, \"11\": 84, \"6\": 71, \"3\": 75, \"13\": 84, \"12\": 58, \"9\": 37, \"7\": 69}, \"11\": {\"13\": 64, \"7\": 85, \"5\": 70, \"14\": 86, \"6\": 80, \"0\": 83, \"15\": 80, \"10\": 80, \"1\": 111, \"11\": 100, \"12\": 72, \"2\": 55, \"3\": 54, \"4\": 71, \"9\": 23, \"8\": 86}, \"9\": {\"14\": 72, \"10\": 114, \"9\": 483, \"7\": 46, \"1\": 40, \"8\": 14, \"11\": 37, \"5\": 105, \"4\": 60, \"13\": 81, \"3\": 8, \"0\": 74, \"6\": 31, \"2\": 20, \"12\": 4, \"15\": 11}, \"5\": {\"9\": 66, \"2\": 58, \"10\": 93, \"5\": 104, \"4\": 92, \"14\": 91, \"15\": 52, \"1\": 81, \"12\": 43, \"6\": 66, \"7\": 68, \"0\": 82, \"3\": 65, \"11\": 106, \"8\": 61, \"13\": 72}, \"10\": {\"1\": 75, \"5\": 91, \"13\": 97, \"0\": 90, \"3\": 46, \"11\": 63, \"2\": 65, \"8\": 50, \"15\": 61, \"9\": 70, \"14\": 78, \"10\": 112, \"7\": 83, \"12\": 42, \"6\": 81, \"4\": 96}, \"14\": {\"1\": 86, \"4\": 73, \"10\": 78, \"6\": 88, \"14\": 79, \"5\": 104, \"0\": 78, \"11\": 92, \"3\": 69, \"13\": 94, \"12\": 55, \"8\": 67, \"15\": 61, \"2\": 61, \"9\": 42, \"7\": 73}, \"8\": {\"12\": 118, \"10\": 69, \"11\": 98, \"15\": 106, \"6\": 83, \"3\": 89, \"5\": 76, \"2\": 69, \"4\": 73, \"7\": 72, \"8\": 98, \"14\": 55, \"13\": 58, \"0\": 55, \"1\": 75, \"9\": 6}}, \"ORACLE.run120\": {\"6\": {\"10\": 84, \"9\": 64, \"1\": 60, \"14\": 109, \"11\": 59, \"15\": 57, \"12\": 74, \"7\": 75, \"2\": 59, \"4\": 93, \"3\": 77, \"6\": 102, \"8\": 106, \"5\": 70, \"0\": 58, \"13\": 53}, \"11\": {\"9\": 76, \"0\": 76, \"12\": 81, \"14\": 64, \"3\": 69, \"5\": 87, \"6\": 81, \"4\": 62, \"11\": 112, \"10\": 44, \"1\": 82, \"2\": 86, \"15\": 77, \"13\": 87, \"7\": 57, \"8\": 59}, \"5\": {\"0\": 65, \"7\": 82, \"8\": 69, \"11\": 78, \"4\": 74, \"6\": 73, \"5\": 72, \"14\": 72, \"1\": 88, \"13\": 67, \"3\": 89, \"10\": 57, \"9\": 84, \"12\": 73, \"2\": 79, \"15\": 78}, \"14\": {\"15\": 51, \"9\": 62, \"2\": 53, \"8\": 101, \"12\": 67, \"11\": 58, \"6\": 106, \"10\": 98, \"0\": 71, \"7\": 81, \"14\": 117, \"1\": 61, \"5\": 48, \"3\": 72, \"13\": 55, \"4\": 99}, \"2\": {\"0\": 76, \"15\": 74, \"7\": 84, \"8\": 78, \"2\": 85, \"14\": 61, \"12\": 83, \"1\": 80, \"4\": 81, \"5\": 81, \"10\": 56, \"3\": 63, \"9\": 73, \"6\": 69, \"11\": 73, \"13\": 83}, \"7\": {\"0\": 71, \"12\": 69, \"9\": 66, \"8\": 83, \"14\": 80, \"11\": 69, \"3\": 83, \"5\": 75, \"15\": 81, \"7\": 73, \"10\": 83, \"2\": 76, \"4\": 68, \"1\": 81, \"6\": 71, \"13\": 71}, \"3\": {\"11\": 80, \"9\": 81, \"10\": 90, \"15\": 69, \"8\": 76, \"5\": 88, \"12\": 61, \"3\": 81, \"13\": 72, \"14\": 65, \"0\": 66, \"7\": 69, \"6\": 67, \"1\": 75, \"4\": 79, \"2\": 81}, \"4\": {\"9\": 77, \"4\": 98, \"1\": 61, \"8\": 86, \"12\": 72, \"7\": 89, \"10\": 102, \"3\": 83, \"13\": 57, \"2\": 71, \"5\": 75, \"0\": 63, \"15\": 54, \"14\": 83, \"6\": 72, \"11\": 57}, \"9\": {\"5\": 69, \"6\": 67, \"12\": 89, \"15\": 75, \"13\": 82, \"8\": 79, \"7\": 76, \"2\": 91, \"9\": 73, \"1\": 73, \"0\": 98, \"14\": 56, \"10\": 62, \"3\": 73, \"11\": 73, \"4\": 64}, \"12\": {\"13\": 76, \"1\": 80, \"15\": 77, \"3\": 82, \"6\": 61, \"9\": 99, \"5\": 92, \"2\": 73, \"8\": 73, \"4\": 76, \"11\": 61, \"12\": 67, \"14\": 49, \"10\": 77, \"7\": 82, \"0\": 75}, \"0\": {\"1\": 83, \"12\": 85, \"15\": 77, \"11\": 71, \"3\": 74, \"8\": 76, \"9\": 72, \"13\": 69, \"10\": 57, \"2\": 89, \"14\": 66, \"7\": 67, \"4\": 72, \"0\": 98, \"6\": 61, \"5\": 83}, \"10\": {\"1\": 54, \"6\": 101, \"9\": 72, \"15\": 46, \"2\": 60, \"5\": 59, \"3\": 67, \"14\": 95, \"8\": 96, \"4\": 95, \"13\": 50, \"10\": 115, \"0\": 71, \"7\": 78, \"12\": 74, \"11\": 67}, \"8\": {\"9\": 74, \"14\": 102, \"1\": 79, \"3\": 81, \"13\": 59, \"12\": 63, \"10\": 90, \"15\": 53, \"0\": 62, \"2\": 82, \"6\": 77, \"11\": 47, \"5\": 87, \"7\": 76, \"4\": 83, \"8\": 85}, \"13\": {\"10\": 42, \"9\": 59, \"14\": 43, \"3\": 74, \"1\": 96, \"15\": 106, \"0\": 85, \"13\": 96, \"5\": 85, \"4\": 58, \"7\": 100, \"2\": 78, \"11\": 86, \"8\": 63, \"12\": 79, \"6\": 50}, \"1\": {\"7\": 77, \"15\": 77, \"4\": 78, \"2\": 87, \"9\": 85, \"13\": 88, \"0\": 93, \"6\": 68, \"3\": 75, \"12\": 77, \"14\": 53, \"8\": 52, \"1\": 84, \"11\": 63, \"10\": 63, \"5\": 80}, \"15\": {\"15\": 101, \"3\": 72, \"0\": 82, \"1\": 94, \"5\": 99, \"9\": 78, \"7\": 77, \"13\": 90, \"11\": 73, \"12\": 76, \"2\": 82, \"6\": 58, \"8\": 76, \"4\": 48, \"14\": 43, \"10\": 51}}, \"ORACLE.run138\": {\"3\": {\"9\": 140, \"7\": 103, \"3\": 180, \"0\": 114, \"11\": 34, \"5\": 102, \"14\": 28, \"8\": 80, \"12\": 40, \"10\": 49, \"6\": 117, \"15\": 61, \"1\": 54, \"2\": 21, \"4\": 17, \"13\": 60}, \"8\": {\"10\": 84, \"13\": 82, \"3\": 89, \"5\": 100, \"14\": 74, \"6\": 93, \"2\": 48, \"11\": 56, \"9\": 78, \"12\": 61, \"8\": 102, \"15\": 77, \"7\": 84, \"0\": 102, \"1\": 50, \"4\": 20}, \"0\": {\"9\": 81, \"2\": 46, \"12\": 78, \"8\": 105, \"10\": 92, \"7\": 118, \"11\": 50, \"15\": 77, \"14\": 58, \"3\": 106, \"5\": 99, \"4\": 37, \"13\": 55, \"1\": 36, \"0\": 112, \"6\": 50}, \"2\": {\"15\": 93, \"14\": 113, \"5\": 75, \"10\": 93, \"2\": 177, \"0\": 53, \"6\": 60, \"1\": 107, \"3\": 22, \"9\": 47, \"13\": 128, \"8\": 72, \"11\": 95, \"7\": 30, \"4\": 12, \"12\": 23}, \"4\": {\"4\": 448, \"10\": 76, \"11\": 98, \"12\": 266, \"8\": 29, \"0\": 50, \"14\": 69, \"7\": 84, \"5\": 25, \"3\": 15, \"2\": 8, \"1\": 4, \"13\": 5, \"9\": 10, \"6\": 4, \"15\": 9}, \"7\": {\"3\": 88, \"8\": 106, \"7\": 132, \"12\": 79, \"2\": 32, \"11\": 62, \"9\": 78, \"4\": 70, \"14\": 67, \"10\": 105, \"5\": 102, \"0\": 91, \"15\": 59, \"6\": 55, \"1\": 33, \"13\": 41}, \"12\": {\"13\": 14, \"4\": 205, \"14\": 122, \"5\": 42, \"12\": 289, \"11\": 107, \"15\": 28, \"3\": 36, \"8\": 55, \"0\": 78, \"6\": 14, \"10\": 100, \"7\": 82, \"2\": 14, \"9\": 9, \"1\": 5}, \"6\": {\"13\": 97, \"3\": 105, \"2\": 58, \"7\": 61, \"1\": 118, \"15\": 98, \"9\": 123, \"10\": 49, \"8\": 98, \"14\": 32, \"0\": 72, \"6\": 130, \"5\": 98, \"12\": 23, \"11\": 33, \"4\": 5}, \"15\": {\"2\": 102, \"9\": 90, \"12\": 21, \"13\": 109, \"0\": 59, \"15\": 108, \"6\": 92, \"5\": 91, \"1\": 109, \"7\": 53, \"10\": 91, \"8\": 94, \"11\": 63, \"3\": 44, \"14\": 69, \"4\": 5}, \"11\": {\"1\": 47, \"14\": 151, \"11\": 194, \"2\": 87, \"12\": 108, \"4\": 98, \"10\": 113, \"15\": 55, \"0\": 55, \"5\": 54, \"13\": 55, \"9\": 17, \"3\": 20, \"7\": 64, \"8\": 60, \"6\": 22}, \"9\": {\"10\": 50, \"9\": 164, \"12\": 19, \"13\": 87, \"3\": 124, \"0\": 74, \"6\": 137, \"7\": 57, \"1\": 111, \"14\": 30, \"15\": 91, \"8\": 87, \"5\": 96, \"4\": 8, \"11\": 22, \"2\": 43}, \"14\": {\"13\": 60, \"10\": 121, \"14\": 160, \"11\": 152, \"6\": 43, \"0\": 68, \"12\": 92, \"4\": 55, \"15\": 55, \"1\": 43, \"5\": 56, \"2\": 116, \"8\": 71, \"3\": 17, \"7\": 71, \"9\": 20}, \"10\": {\"1\": 54, \"8\": 98, \"7\": 87, \"14\": 103, \"2\": 83, \"10\": 98, \"15\": 78, \"11\": 85, \"4\": 39, \"9\": 46, \"12\": 78, \"0\": 87, \"13\": 65, \"3\": 51, \"6\": 53, \"5\": 95}, \"5\": {\"6\": 87, \"1\": 60, \"0\": 98, \"3\": 103, \"9\": 72, \"7\": 84, \"13\": 67, \"5\": 110, \"15\": 99, \"10\": 88, \"8\": 105, \"4\": 17, \"11\": 49, \"2\": 64, \"12\": 36, \"14\": 61}, \"1\": {\"2\": 111, \"1\": 169, \"8\": 96, \"9\": 95, \"13\": 135, \"7\": 29, \"10\": 65, \"6\": 99, \"5\": 99, \"11\": 32, \"15\": 108, \"0\": 57, \"3\": 44, \"14\": 53, \"12\": 7, \"4\": 1}, \"13\": {\"14\": 80, \"6\": 80, \"3\": 57, \"9\": 61, \"8\": 97, \"13\": 144, \"4\": 10, \"15\": 101, \"12\": 18, \"10\": 68, \"7\": 62, \"2\": 109, \"1\": 94, \"0\": 70, \"5\": 99, \"11\": 50}}, \"ORACLE.run126\": {\"5\": {\"8\": 60, \"9\": 95, \"10\": 83, \"12\": 81, \"2\": 92, \"6\": 75, \"13\": 95, \"3\": 78, \"5\": 82, \"0\": 66, \"14\": 39, \"11\": 70, \"15\": 84, \"4\": 67, \"7\": 68, \"1\": 65}, \"8\": {\"0\": 99, \"3\": 68, \"9\": 65, \"6\": 77, \"7\": 87, \"14\": 101, \"15\": 68, \"2\": 76, \"13\": 59, \"10\": 85, \"8\": 82, \"12\": 54, \"4\": 115, \"1\": 73, \"5\": 64, \"11\": 27}, \"4\": {\"7\": 91, \"14\": 106, \"2\": 75, \"4\": 98, \"10\": 101, \"9\": 63, \"8\": 75, \"3\": 91, \"13\": 54, \"1\": 93, \"0\": 92, \"12\": 57, \"6\": 61, \"15\": 79, \"5\": 43, \"11\": 21}, \"12\": {\"2\": 45, \"7\": 63, \"12\": 141, \"11\": 132, \"1\": 57, \"0\": 66, \"5\": 74, \"14\": 55, \"15\": 79, \"8\": 49, \"10\": 78, \"6\": 98, \"13\": 92, \"3\": 58, \"9\": 69, \"4\": 44}, \"6\": {\"0\": 76, \"8\": 86, \"12\": 95, \"9\": 62, \"1\": 70, \"2\": 84, \"11\": 63, \"13\": 68, \"5\": 78, \"14\": 59, \"4\": 70, \"7\": 72, \"6\": 69, \"10\": 74, \"15\": 93, \"3\": 81}, \"7\": {\"7\": 90, \"0\": 76, \"9\": 90, \"12\": 55, \"15\": 77, \"5\": 62, \"2\": 79, \"8\": 82, \"1\": 98, \"13\": 61, \"3\": 83, \"4\": 99, \"6\": 75, \"14\": 69, \"10\": 82, \"11\": 22}, \"10\": {\"15\": 83, \"3\": 76, \"2\": 91, \"14\": 99, \"13\": 53, \"8\": 92, \"6\": 76, \"9\": 81, \"7\": 65, \"12\": 48, \"5\": 67, \"1\": 91, \"4\": 73, \"10\": 88, \"11\": 31, \"0\": 86}, \"0\": {\"15\": 65, \"14\": 74, \"11\": 17, \"6\": 76, \"1\": 108, \"2\": 86, \"9\": 58, \"4\": 102, \"7\": 75, \"3\": 83, \"10\": 84, \"8\": 86, \"0\": 96, \"12\": 76, \"5\": 62, \"13\": 52}, \"15\": {\"3\": 78, \"4\": 67, \"15\": 82, \"5\": 82, \"1\": 75, \"12\": 74, \"9\": 79, \"2\": 79, \"14\": 60, \"7\": 89, \"10\": 67, \"0\": 74, \"11\": 63, \"8\": 66, \"6\": 85, \"13\": 80}, \"9\": {\"8\": 70, \"7\": 74, \"13\": 76, \"1\": 68, \"2\": 109, \"3\": 80, \"6\": 83, \"5\": 81, \"11\": 50, \"4\": 52, \"10\": 79, \"12\": 96, \"14\": 58, \"15\": 70, \"0\": 68, \"9\": 86}, \"11\": {\"14\": 28, \"12\": 147, \"11\": 305, \"2\": 41, \"3\": 36, \"9\": 84, \"7\": 30, \"5\": 89, \"15\": 70, \"10\": 43, \"6\": 60, \"13\": 131, \"8\": 53, \"4\": 24, \"1\": 23, \"0\": 36}, \"14\": {\"0\": 101, \"4\": 108, \"15\": 73, \"12\": 45, \"2\": 70, \"6\": 81, \"5\": 53, \"7\": 84, \"14\": 113, \"10\": 101, \"3\": 62, \"1\": 103, \"13\": 43, \"8\": 87, \"11\": 15, \"9\": 61}, \"2\": {\"1\": 87, \"13\": 69, \"7\": 89, \"10\": 74, \"15\": 83, \"8\": 71, \"6\": 85, \"14\": 63, \"9\": 73, \"0\": 68, \"11\": 39, \"3\": 94, \"2\": 87, \"5\": 84, \"12\": 59, \"4\": 75}, \"13\": {\"6\": 92, \"5\": 100, \"13\": 113, \"3\": 63, \"2\": 86, \"8\": 49, \"12\": 104, \"7\": 71, \"1\": 37, \"9\": 86, \"4\": 60, \"14\": 48, \"15\": 88, \"0\": 51, \"11\": 83, \"10\": 69}, \"3\": {\"13\": 78, \"4\": 75, \"3\": 85, \"2\": 85, \"0\": 75, \"1\": 108, \"5\": 74, \"14\": 71, \"11\": 25, \"7\": 98, \"9\": 81, \"15\": 67, \"12\": 55, \"6\": 58, \"10\": 88, \"8\": 77}, \"1\": {\"1\": 116, \"4\": 87, \"9\": 61, \"12\": 65, \"5\": 57, \"7\": 103, \"6\": 55, \"2\": 74, \"14\": 90, \"3\": 88, \"8\": 86, \"10\": 99, \"15\": 62, \"13\": 46, \"0\": 88, \"11\": 23}}}, \"per_domain_accuracy\": {\"Wisig_3\": {\"accuracy\": 0.9703875545851528, \"source?\": true}, \"Wisig_2\": {\"accuracy\": 0.950390625, \"source?\": true}, \"Wisig_1\": {\"accuracy\": 0.9694120762711864, \"source?\": true}, \"Wisig_4\": {\"accuracy\": 0.9564043209876543, \"source?\": true}, \"ORACLE.run150\": {\"accuracy\": 0.11026041666666667, \"source?\": false}, \"ORACLE.run114\": {\"accuracy\": 0.10572916666666667, \"source?\": false}, \"ORACLE.run132\": {\"accuracy\": 0.173125, \"source?\": false}, \"ORACLE.run144\": {\"accuracy\": 0.13578125, \"source?\": false}, \"ORACLE.run18\": {\"accuracy\": 0.10166666666666667, \"source?\": false}, \"ORACLE.run120\": {\"accuracy\": 0.07598958333333333, \"source?\": false}, \"ORACLE.run138\": {\"accuracy\": 0.14151041666666667, \"source?\": false}, \"ORACLE.run126\": {\"accuracy\": 0.09026041666666666, \"source?\": false}}}, \"history\": {\"epoch_indices\": [1, 2, 3, 4, 5], \"train_label_loss\": [0.18809231441762417, 0.11993258692684752, 0.09921970271960873, 0.0803643230576465, 0.06881787507336226], \"source_val_label_loss\": [0.16439063847064972, 0.13319244980812073, 0.1220187321305275, 0.11531774699687958, 0.11734560132026672], \"target_val_label_loss\": [2.702467203140259, 2.687525510787964, 2.750971794128418, 2.7979207038879395, 2.878281354904175], \"source_val_acc_label\": [0.9614978902953587, 0.9692114978902954, 0.9705959915611815, 0.9730683016877637, 0.9735957278481012], \"target_val_acc_label\": [0.11679036458333333, 0.11675130208333333, 0.10998697916666667, 0.10474609375, 0.10371744791666666]}, \"dataset_metrics\": {\"source\": {\"train\": {\"n_unique_x\": 189055, \"n_unique_y\": 130, \"n_batch/episode\": 6854}, \"val\": {\"n_unique_x\": 40070, \"n_unique_y\": 130, \"n_batch/episode\": 948}, \"test\": {\"n_unique_x\": 40836, \"n_unique_y\": 130, \"n_batch/episode\": 967}}, \"target\": {\"train\": {\"n_unique_x\": 896000, \"n_unique_y\": 16, \"n_batch/episode\": 33600}, \"val\": {\"n_unique_x\": 192000, \"n_unique_y\": 16, \"n_batch/episode\": 4800}, \"test\": {\"n_unique_x\": 192000, \"n_unique_y\": 16, \"n_batch/episode\": 4800}}}}'"
      ]
     },
     "execution_count": 29,
     "metadata": {},
     "output_type": "execute_result"
    }
   ],
   "source": [
    "json.dumps(experiment)"
   ]
  }
 ],
 "metadata": {
  "celltoolbar": "Tags",
  "kernelspec": {
   "display_name": "Python 3 (ipykernel)",
   "language": "python",
   "name": "python3"
  },
  "language_info": {
   "codemirror_mode": {
    "name": "ipython",
    "version": 3
   },
   "file_extension": ".py",
   "mimetype": "text/x-python",
   "name": "python",
   "nbconvert_exporter": "python",
   "pygments_lexer": "ipython3",
   "version": "3.8.12"
  },
  "papermill": {
   "default_parameters": {},
   "duration": 2198.063487,
   "end_time": "2022-03-24T06:33:31.364683",
   "environment_variables": {},
   "exception": null,
   "input_path": "/root/csc500-main/csc500-notebooks/templates/tl_ptn_template.ipynb",
   "output_path": "trial.ipynb",
   "parameters": {
    "parameters": {
     "BEST_MODEL_PATH": "./best_model.pth",
     "NUM_LOGS_PER_EPOCH": 10,
     "criteria_for_best": "target_accuracy",
     "dataset_seed": 500,
     "datasets": [
      {
       "domain_prefix": "Wisig_",
       "domains": [
        1,
        2,
        3,
        4
       ],
       "episode_transforms": [],
       "labels": [
        "1-10",
        "1-12",
        "1-14",
        "1-16",
        "1-18",
        "1-19",
        "1-8",
        "10-11",
        "10-17",
        "10-4",
        "10-7",
        "11-1",
        "11-10",
        "11-19",
        "11-20",
        "11-4",
        "11-7",
        "12-19",
        "12-20",
        "12-7",
        "13-14",
        "13-18",
        "13-19",
        "13-20",
        "13-3",
        "13-7",
        "14-10",
        "14-11",
        "14-12",
        "14-13",
        "14-14",
        "14-19",
        "14-20",
        "14-7",
        "14-8",
        "14-9",
        "15-1",
        "15-19",
        "15-6",
        "16-1",
        "16-16",
        "16-19",
        "16-20",
        "17-10",
        "17-11",
        "18-1",
        "18-10",
        "18-11",
        "18-12",
        "18-13",
        "18-14",
        "18-15",
        "18-16",
        "18-17",
        "18-19",
        "18-2",
        "18-20",
        "18-4",
        "18-5",
        "18-7",
        "18-8",
        "18-9",
        "19-1",
        "19-10",
        "19-11",
        "19-12",
        "19-13",
        "19-14",
        "19-15",
        "19-19",
        "19-2",
        "19-20",
        "19-3",
        "19-4",
        "19-6",
        "19-7",
        "19-8",
        "19-9",
        "2-1",
        "2-13",
        "2-15",
        "2-3",
        "2-4",
        "2-5",
        "2-6",
        "2-7",
        "2-8",
        "20-1",
        "20-12",
        "20-14",
        "20-15",
        "20-16",
        "20-18",
        "20-19",
        "20-20",
        "20-3",
        "20-4",
        "20-5",
        "20-7",
        "20-8",
        "3-1",
        "3-13",
        "3-18",
        "3-2",
        "3-8",
        "4-1",
        "4-10",
        "4-11",
        "5-1",
        "5-5",
        "6-1",
        "6-15",
        "6-6",
        "7-10",
        "7-11",
        "7-12",
        "7-13",
        "7-14",
        "7-7",
        "7-8",
        "7-9",
        "8-1",
        "8-13",
        "8-14",
        "8-18",
        "8-20",
        "8-3",
        "8-8",
        "9-1",
        "9-7"
       ],
       "num_examples_per_domain_per_label": -1,
       "pickle_path": "/root/csc500-main/datasets/wisig.node3-19.stratified_ds.2022A.pkl",
       "source_or_target_dataset": "source",
       "x_transforms": [
        "unit_power"
       ]
      },
      {
       "domain_prefix": "ORACLE.run1",
       "domains": [
        32,
        38,
        8,
        44,
        14,
        50,
        20,
        26
       ],
       "episode_transforms": [],
       "labels": [
        "3123D52",
        "3123D65",
        "3123D79",
        "3123D80",
        "3123D54",
        "3123D70",
        "3123D7B",
        "3123D89",
        "3123D58",
        "3123D76",
        "3123D7D",
        "3123EFE",
        "3123D64",
        "3123D78",
        "3123D7E",
        "3124E4A"
       ],
       "num_examples_per_domain_per_label": 10000,
       "pickle_path": "/root/csc500-main/datasets/oracle.Run1_10kExamples_stratified_ds.2022A.pkl",
       "source_or_target_dataset": "target",
       "x_transforms": [
        "unit_power"
       ]
      }
     ],
     "device": "cuda",
     "experiment_name": "tl_1v2:wisig-oracle.run1",
     "lr": 0.0001,
     "n_epoch": 50,
     "n_query": 2,
     "n_shot": 3,
     "n_way": 16,
     "patience": 3,
     "seed": 500,
     "test_k_factor": 2,
     "torch_default_dtype": "torch.float32",
     "train_k_factor": 3,
     "val_k_factor": 2,
     "x_net": [
      {
       "class": "nnReshape",
       "kargs": {
        "shape": [
         -1,
         1,
         2,
         256
        ]
       }
      },
      {
       "class": "Conv2d",
       "kargs": {
        "bias": false,
        "in_channels": 1,
        "kernel_size": [
         1,
         7
        ],
        "out_channels": 256,
        "padding": [
         0,
         3
        ]
       }
      },
      {
       "class": "ReLU",
       "kargs": {
        "inplace": true
       }
      },
      {
       "class": "BatchNorm2d",
       "kargs": {
        "num_features": 256
       }
      },
      {
       "class": "Conv2d",
       "kargs": {
        "bias": true,
        "in_channels": 256,
        "kernel_size": [
         2,
         7
        ],
        "out_channels": 80,
        "padding": [
         0,
         3
        ]
       }
      },
      {
       "class": "ReLU",
       "kargs": {
        "inplace": true
       }
      },
      {
       "class": "BatchNorm2d",
       "kargs": {
        "num_features": 80
       }
      },
      {
       "class": "Flatten",
       "kargs": {}
      },
      {
       "class": "Linear",
       "kargs": {
        "in_features": 20480,
        "out_features": 256
       }
      },
      {
       "class": "ReLU",
       "kargs": {
        "inplace": true
       }
      },
      {
       "class": "BatchNorm1d",
       "kargs": {
        "num_features": 256
       }
      },
      {
       "class": "Linear",
       "kargs": {
        "in_features": 256,
        "out_features": 256
       }
      }
     ]
    }
   },
   "start_time": "2022-03-24T05:56:53.301196",
   "version": "2.3.4"
  }
 },
 "nbformat": 4,
 "nbformat_minor": 5
}