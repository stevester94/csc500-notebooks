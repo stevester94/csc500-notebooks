{
 "cells": [
  {
   "cell_type": "markdown",
   "id": "9fea5f46",
   "metadata": {
    "papermill": {
     "duration": 0.028018,
     "end_time": "2022-03-23T03:43:16.015734",
     "exception": false,
     "start_time": "2022-03-23T03:43:15.987716",
     "status": "completed"
    },
    "tags": []
   },
   "source": [
    "# Transfer Learning Template"
   ]
  },
  {
   "cell_type": "code",
   "execution_count": 1,
   "id": "0902182a",
   "metadata": {
    "execution": {
     "iopub.execute_input": "2022-03-23T03:43:16.077544Z",
     "iopub.status.busy": "2022-03-23T03:43:16.076541Z",
     "iopub.status.idle": "2022-03-23T03:43:17.927960Z",
     "shell.execute_reply": "2022-03-23T03:43:17.927446Z"
    },
    "papermill": {
     "duration": 1.888852,
     "end_time": "2022-03-23T03:43:17.928067",
     "exception": false,
     "start_time": "2022-03-23T03:43:16.039215",
     "status": "completed"
    },
    "tags": []
   },
   "outputs": [],
   "source": [
    "%load_ext autoreload\n",
    "%autoreload 2\n",
    "%matplotlib inline\n",
    "\n",
    "    \n",
    "import os, json, sys, time, random\n",
    "import numpy as np\n",
    "import torch\n",
    "from torch.optim import Adam\n",
    "from  easydict import EasyDict\n",
    "import matplotlib.pyplot as plt\n",
    "\n",
    "from steves_models.steves_ptn import Steves_Prototypical_Network\n",
    "\n",
    "from steves_utils.lazy_iterable_wrapper import Lazy_Iterable_Wrapper\n",
    "from steves_utils.iterable_aggregator import Iterable_Aggregator\n",
    "from steves_utils.ptn_train_eval_test_jig import  PTN_Train_Eval_Test_Jig\n",
    "from steves_utils.torch_sequential_builder import build_sequential\n",
    "from steves_utils.torch_utils import get_dataset_metrics, ptn_confusion_by_domain_over_dataloader\n",
    "from steves_utils.utils_v2 import (per_domain_accuracy_from_confusion, get_datasets_base_path)\n",
    "from steves_utils.PTN.utils import independent_accuracy_assesment\n",
    "\n",
    "from torch.utils.data import DataLoader\n",
    "\n",
    "from steves_utils.stratified_dataset.episodic_accessor import Episodic_Accessor_Factory\n",
    "\n",
    "from steves_utils.ptn_do_report import (\n",
    "    get_loss_curve,\n",
    "    get_results_table,\n",
    "    get_parameters_table,\n",
    "    get_domain_accuracies,\n",
    ")\n",
    "\n",
    "from steves_utils.transforms import get_chained_transform"
   ]
  },
  {
   "cell_type": "markdown",
   "id": "41c840b4",
   "metadata": {
    "papermill": {
     "duration": 0.019168,
     "end_time": "2022-03-23T03:43:17.967263",
     "exception": false,
     "start_time": "2022-03-23T03:43:17.948095",
     "status": "completed"
    },
    "tags": []
   },
   "source": [
    "# Allowed Parameters\n",
    "These are allowed parameters, not defaults\n",
    "Each of these values need to be present in the injected parameters (the notebook will raise an exception if they are not present)\n",
    "\n",
    "Papermill uses the cell tag \"parameters\" to inject the real parameters below this cell.\n",
    "Enable tags to see what I mean"
   ]
  },
  {
   "cell_type": "code",
   "execution_count": 2,
   "id": "fd44eb83",
   "metadata": {
    "execution": {
     "iopub.execute_input": "2022-03-23T03:43:18.009552Z",
     "iopub.status.busy": "2022-03-23T03:43:18.008914Z",
     "iopub.status.idle": "2022-03-23T03:43:18.028069Z",
     "shell.execute_reply": "2022-03-23T03:43:18.027697Z"
    },
    "papermill": {
     "duration": 0.041688,
     "end_time": "2022-03-23T03:43:18.028141",
     "exception": false,
     "start_time": "2022-03-23T03:43:17.986453",
     "status": "completed"
    },
    "tags": []
   },
   "outputs": [],
   "source": [
    "required_parameters = {\n",
    "    \"experiment_name\",\n",
    "    \"lr\",\n",
    "    \"device\",\n",
    "    \"seed\",\n",
    "    \"dataset_seed\",\n",
    "    \"n_shot\",\n",
    "    \"n_query\",\n",
    "    \"n_way\",\n",
    "    \"train_k_factor\",\n",
    "    \"val_k_factor\",\n",
    "    \"test_k_factor\",\n",
    "    \"n_epoch\",\n",
    "    \"patience\",\n",
    "    \"criteria_for_best\",\n",
    "    \"x_net\",\n",
    "    \"datasets\",\n",
    "    \"torch_default_dtype\",\n",
    "    \"NUM_LOGS_PER_EPOCH\",\n",
    "    \"BEST_MODEL_PATH\",\n",
    "    \"x_shape\",\n",
    "}"
   ]
  },
  {
   "cell_type": "code",
   "execution_count": 3,
   "id": "fa3f0049",
   "metadata": {
    "execution": {
     "iopub.execute_input": "2022-03-23T03:43:18.076814Z",
     "iopub.status.busy": "2022-03-23T03:43:18.076288Z",
     "iopub.status.idle": "2022-03-23T03:43:18.095615Z",
     "shell.execute_reply": "2022-03-23T03:43:18.095189Z"
    },
    "papermill": {
     "duration": 0.048333,
     "end_time": "2022-03-23T03:43:18.095722",
     "exception": false,
     "start_time": "2022-03-23T03:43:18.047389",
     "status": "completed"
    },
    "tags": [
     "parameters"
    ]
   },
   "outputs": [],
   "source": [
    "from steves_utils.CORES.utils import (\n",
    "    ALL_NODES,\n",
    "    ALL_NODES_MINIMUM_1000_EXAMPLES,\n",
    "    ALL_DAYS\n",
    ")\n",
    "\n",
    "from steves_utils.ORACLE.utils_v2 import (\n",
    "    ALL_DISTANCES_FEET_NARROWED,\n",
    "    ALL_RUNS,\n",
    "    ALL_SERIAL_NUMBERS,\n",
    ")\n",
    "\n",
    "standalone_parameters = {}\n",
    "standalone_parameters[\"experiment_name\"] = \"STANDALONE PTN\"\n",
    "standalone_parameters[\"lr\"] = 0.001\n",
    "standalone_parameters[\"device\"] = \"cuda\"\n",
    "\n",
    "standalone_parameters[\"seed\"] = 1337\n",
    "standalone_parameters[\"dataset_seed\"] = 1337\n",
    "\n",
    "standalone_parameters[\"n_way\"] = 8\n",
    "standalone_parameters[\"n_shot\"] = 3\n",
    "standalone_parameters[\"n_query\"]  = 2\n",
    "standalone_parameters[\"train_k_factor\"] = 1\n",
    "standalone_parameters[\"val_k_factor\"] = 2\n",
    "standalone_parameters[\"test_k_factor\"] = 2\n",
    "\n",
    "\n",
    "standalone_parameters[\"n_epoch\"] = 50\n",
    "\n",
    "standalone_parameters[\"patience\"] = 10\n",
    "standalone_parameters[\"criteria_for_best\"] = \"source_loss\"\n",
    "\n",
    "standalone_parameters[\"datasets\"] = [\n",
    "    {\n",
    "        \"labels\": ALL_SERIAL_NUMBERS,\n",
    "        \"domains\": ALL_DISTANCES_FEET_NARROWED,\n",
    "        \"num_examples_per_domain_per_label\": 100,\n",
    "        \"pickle_path\": os.path.join(get_datasets_base_path(), \"oracle.Run1_framed_2000Examples_stratified_ds.2022A.pkl\"),\n",
    "        \"source_or_target_dataset\": \"source\",\n",
    "        \"x_transforms\": [\"unit_mag\", \"minus_two\"],\n",
    "        \"episode_transforms\": [],\n",
    "        \"domain_prefix\": \"ORACLE_\"\n",
    "    },\n",
    "    {\n",
    "        \"labels\": ALL_NODES,\n",
    "        \"domains\": ALL_DAYS,\n",
    "        \"num_examples_per_domain_per_label\": 100,\n",
    "        \"pickle_path\": os.path.join(get_datasets_base_path(), \"cores.stratified_ds.2022A.pkl\"),\n",
    "        \"source_or_target_dataset\": \"target\",\n",
    "        \"x_transforms\": [\"unit_power\", \"times_zero\"],\n",
    "        \"episode_transforms\": [],\n",
    "        \"domain_prefix\": \"CORES_\"\n",
    "    }   \n",
    "]\n",
    "\n",
    "standalone_parameters[\"torch_default_dtype\"] = \"torch.float32\" \n",
    "\n",
    "\n",
    "\n",
    "standalone_parameters[\"x_net\"] =     [\n",
    "    {\"class\": \"nnReshape\", \"kargs\": {\"shape\":[-1, 1, 2, 256]}},\n",
    "    {\"class\": \"Conv2d\", \"kargs\": { \"in_channels\":1, \"out_channels\":256, \"kernel_size\":(1,7), \"bias\":False, \"padding\":(0,3), },},\n",
    "    {\"class\": \"ReLU\", \"kargs\": {\"inplace\": True}},\n",
    "    {\"class\": \"BatchNorm2d\", \"kargs\": {\"num_features\":256}},\n",
    "\n",
    "    {\"class\": \"Conv2d\", \"kargs\": { \"in_channels\":256, \"out_channels\":80, \"kernel_size\":(2,7), \"bias\":True, \"padding\":(0,3), },},\n",
    "    {\"class\": \"ReLU\", \"kargs\": {\"inplace\": True}},\n",
    "    {\"class\": \"BatchNorm2d\", \"kargs\": {\"num_features\":80}},\n",
    "    {\"class\": \"Flatten\", \"kargs\": {}},\n",
    "\n",
    "    {\"class\": \"Linear\", \"kargs\": {\"in_features\": 80*256, \"out_features\": 256}}, # 80 units per IQ pair\n",
    "    {\"class\": \"ReLU\", \"kargs\": {\"inplace\": True}},\n",
    "    {\"class\": \"BatchNorm1d\", \"kargs\": {\"num_features\":256}},\n",
    "\n",
    "    {\"class\": \"Linear\", \"kargs\": {\"in_features\": 256, \"out_features\": 256}},\n",
    "]\n",
    "\n",
    "# Parameters relevant to results\n",
    "# These parameters will basically never need to change\n",
    "standalone_parameters[\"NUM_LOGS_PER_EPOCH\"] = 10\n",
    "standalone_parameters[\"BEST_MODEL_PATH\"] = \"./best_model.pth\"\n",
    "\n",
    "\n",
    "\n",
    "\n"
   ]
  },
  {
   "cell_type": "code",
   "execution_count": 4,
   "id": "94497155",
   "metadata": {
    "execution": {
     "iopub.execute_input": "2022-03-23T03:43:18.147591Z",
     "iopub.status.busy": "2022-03-23T03:43:18.146879Z",
     "iopub.status.idle": "2022-03-23T03:43:18.167149Z",
     "shell.execute_reply": "2022-03-23T03:43:18.166340Z"
    },
    "papermill": {
     "duration": 0.051231,
     "end_time": "2022-03-23T03:43:18.167303",
     "exception": false,
     "start_time": "2022-03-23T03:43:18.116072",
     "status": "completed"
    },
    "tags": [
     "injected-parameters"
    ]
   },
   "outputs": [],
   "source": [
    "# Parameters\n",
    "parameters = {\n",
    "    \"experiment_name\": \"tl_1v2:wisig-oracle.run1\",\n",
    "    \"device\": \"cuda\",\n",
    "    \"lr\": 0.0001,\n",
    "    \"n_shot\": 3,\n",
    "    \"n_query\": 2,\n",
    "    \"train_k_factor\": 3,\n",
    "    \"val_k_factor\": 2,\n",
    "    \"test_k_factor\": 2,\n",
    "    \"torch_default_dtype\": \"torch.float32\",\n",
    "    \"n_epoch\": 50,\n",
    "    \"patience\": 3,\n",
    "    \"criteria_for_best\": \"target_accuracy\",\n",
    "    \"x_net\": [\n",
    "        {\"class\": \"nnReshape\", \"kargs\": {\"shape\": [-1, 1, 2, 256]}},\n",
    "        {\n",
    "            \"class\": \"Conv2d\",\n",
    "            \"kargs\": {\n",
    "                \"in_channels\": 1,\n",
    "                \"out_channels\": 256,\n",
    "                \"kernel_size\": [1, 7],\n",
    "                \"bias\": False,\n",
    "                \"padding\": [0, 3],\n",
    "            },\n",
    "        },\n",
    "        {\"class\": \"ReLU\", \"kargs\": {\"inplace\": True}},\n",
    "        {\"class\": \"BatchNorm2d\", \"kargs\": {\"num_features\": 256}},\n",
    "        {\n",
    "            \"class\": \"Conv2d\",\n",
    "            \"kargs\": {\n",
    "                \"in_channels\": 256,\n",
    "                \"out_channels\": 80,\n",
    "                \"kernel_size\": [2, 7],\n",
    "                \"bias\": True,\n",
    "                \"padding\": [0, 3],\n",
    "            },\n",
    "        },\n",
    "        {\"class\": \"ReLU\", \"kargs\": {\"inplace\": True}},\n",
    "        {\"class\": \"BatchNorm2d\", \"kargs\": {\"num_features\": 80}},\n",
    "        {\"class\": \"Flatten\", \"kargs\": {}},\n",
    "        {\"class\": \"Linear\", \"kargs\": {\"in_features\": 20480, \"out_features\": 256}},\n",
    "        {\"class\": \"ReLU\", \"kargs\": {\"inplace\": True}},\n",
    "        {\"class\": \"BatchNorm1d\", \"kargs\": {\"num_features\": 256}},\n",
    "        {\"class\": \"Linear\", \"kargs\": {\"in_features\": 256, \"out_features\": 256}},\n",
    "    ],\n",
    "    \"NUM_LOGS_PER_EPOCH\": 10,\n",
    "    \"BEST_MODEL_PATH\": \"./best_model.pth\",\n",
    "    \"n_way\": 16,\n",
    "    \"datasets\": [\n",
    "        {\n",
    "            \"labels\": [\n",
    "                \"1-10\",\n",
    "                \"1-12\",\n",
    "                \"1-14\",\n",
    "                \"1-16\",\n",
    "                \"1-18\",\n",
    "                \"1-19\",\n",
    "                \"1-8\",\n",
    "                \"10-11\",\n",
    "                \"10-17\",\n",
    "                \"10-4\",\n",
    "                \"10-7\",\n",
    "                \"11-1\",\n",
    "                \"11-10\",\n",
    "                \"11-19\",\n",
    "                \"11-20\",\n",
    "                \"11-4\",\n",
    "                \"11-7\",\n",
    "                \"12-19\",\n",
    "                \"12-20\",\n",
    "                \"12-7\",\n",
    "                \"13-14\",\n",
    "                \"13-18\",\n",
    "                \"13-19\",\n",
    "                \"13-20\",\n",
    "                \"13-3\",\n",
    "                \"13-7\",\n",
    "                \"14-10\",\n",
    "                \"14-11\",\n",
    "                \"14-12\",\n",
    "                \"14-13\",\n",
    "                \"14-14\",\n",
    "                \"14-19\",\n",
    "                \"14-20\",\n",
    "                \"14-7\",\n",
    "                \"14-8\",\n",
    "                \"14-9\",\n",
    "                \"15-1\",\n",
    "                \"15-19\",\n",
    "                \"15-6\",\n",
    "                \"16-1\",\n",
    "                \"16-16\",\n",
    "                \"16-19\",\n",
    "                \"16-20\",\n",
    "                \"17-10\",\n",
    "                \"17-11\",\n",
    "                \"18-1\",\n",
    "                \"18-10\",\n",
    "                \"18-11\",\n",
    "                \"18-12\",\n",
    "                \"18-13\",\n",
    "                \"18-14\",\n",
    "                \"18-15\",\n",
    "                \"18-16\",\n",
    "                \"18-17\",\n",
    "                \"18-19\",\n",
    "                \"18-2\",\n",
    "                \"18-20\",\n",
    "                \"18-4\",\n",
    "                \"18-5\",\n",
    "                \"18-7\",\n",
    "                \"18-8\",\n",
    "                \"18-9\",\n",
    "                \"19-1\",\n",
    "                \"19-10\",\n",
    "                \"19-11\",\n",
    "                \"19-12\",\n",
    "                \"19-13\",\n",
    "                \"19-14\",\n",
    "                \"19-15\",\n",
    "                \"19-19\",\n",
    "                \"19-2\",\n",
    "                \"19-20\",\n",
    "                \"19-3\",\n",
    "                \"19-4\",\n",
    "                \"19-6\",\n",
    "                \"19-7\",\n",
    "                \"19-8\",\n",
    "                \"19-9\",\n",
    "                \"2-1\",\n",
    "                \"2-13\",\n",
    "                \"2-15\",\n",
    "                \"2-3\",\n",
    "                \"2-4\",\n",
    "                \"2-5\",\n",
    "                \"2-6\",\n",
    "                \"2-7\",\n",
    "                \"2-8\",\n",
    "                \"20-1\",\n",
    "                \"20-12\",\n",
    "                \"20-14\",\n",
    "                \"20-15\",\n",
    "                \"20-16\",\n",
    "                \"20-18\",\n",
    "                \"20-19\",\n",
    "                \"20-20\",\n",
    "                \"20-3\",\n",
    "                \"20-4\",\n",
    "                \"20-5\",\n",
    "                \"20-7\",\n",
    "                \"20-8\",\n",
    "                \"3-1\",\n",
    "                \"3-13\",\n",
    "                \"3-18\",\n",
    "                \"3-2\",\n",
    "                \"3-8\",\n",
    "                \"4-1\",\n",
    "                \"4-10\",\n",
    "                \"4-11\",\n",
    "                \"5-1\",\n",
    "                \"5-5\",\n",
    "                \"6-1\",\n",
    "                \"6-15\",\n",
    "                \"6-6\",\n",
    "                \"7-10\",\n",
    "                \"7-11\",\n",
    "                \"7-12\",\n",
    "                \"7-13\",\n",
    "                \"7-14\",\n",
    "                \"7-7\",\n",
    "                \"7-8\",\n",
    "                \"7-9\",\n",
    "                \"8-1\",\n",
    "                \"8-13\",\n",
    "                \"8-14\",\n",
    "                \"8-18\",\n",
    "                \"8-20\",\n",
    "                \"8-3\",\n",
    "                \"8-8\",\n",
    "                \"9-1\",\n",
    "                \"9-7\",\n",
    "            ],\n",
    "            \"domains\": [1, 2, 3, 4],\n",
    "            \"num_examples_per_domain_per_label\": -1,\n",
    "            \"pickle_path\": \"/root/csc500-main/datasets/wisig.node3-19.stratified_ds.2022A.pkl\",\n",
    "            \"source_or_target_dataset\": \"source\",\n",
    "            \"x_transforms\": [\"unit_mag\"],\n",
    "            \"episode_transforms\": [],\n",
    "            \"domain_prefix\": \"Wisig_\",\n",
    "        },\n",
    "        {\n",
    "            \"labels\": [\n",
    "                \"3123D52\",\n",
    "                \"3123D65\",\n",
    "                \"3123D79\",\n",
    "                \"3123D80\",\n",
    "                \"3123D54\",\n",
    "                \"3123D70\",\n",
    "                \"3123D7B\",\n",
    "                \"3123D89\",\n",
    "                \"3123D58\",\n",
    "                \"3123D76\",\n",
    "                \"3123D7D\",\n",
    "                \"3123EFE\",\n",
    "                \"3123D64\",\n",
    "                \"3123D78\",\n",
    "                \"3123D7E\",\n",
    "                \"3124E4A\",\n",
    "            ],\n",
    "            \"domains\": [32, 38, 8, 44, 14, 50, 20, 26],\n",
    "            \"num_examples_per_domain_per_label\": 10000,\n",
    "            \"pickle_path\": \"/root/csc500-main/datasets/oracle.Run1_10kExamples_stratified_ds.2022A.pkl\",\n",
    "            \"source_or_target_dataset\": \"target\",\n",
    "            \"x_transforms\": [\"unit_mag\"],\n",
    "            \"episode_transforms\": [],\n",
    "            \"domain_prefix\": \"ORACLE.run1\",\n",
    "        },\n",
    "    ],\n",
    "    \"dataset_seed\": 1337,\n",
    "    \"seed\": 1337,\n",
    "}\n"
   ]
  },
  {
   "cell_type": "code",
   "execution_count": 5,
   "id": "8fa1cc33",
   "metadata": {
    "execution": {
     "iopub.execute_input": "2022-03-23T03:43:18.218910Z",
     "iopub.status.busy": "2022-03-23T03:43:18.218424Z",
     "iopub.status.idle": "2022-03-23T03:43:18.236651Z",
     "shell.execute_reply": "2022-03-23T03:43:18.235905Z"
    },
    "papermill": {
     "duration": 0.042421,
     "end_time": "2022-03-23T03:43:18.236805",
     "exception": false,
     "start_time": "2022-03-23T03:43:18.194384",
     "status": "completed"
    },
    "tags": []
   },
   "outputs": [],
   "source": [
    "# Set this to True if you want to run this template directly\n",
    "STANDALONE = False\n",
    "if STANDALONE:\n",
    "    print(\"parameters not injected, running with standalone_parameters\")\n",
    "    parameters = standalone_parameters\n",
    "\n",
    "if not 'parameters' in locals() and not 'parameters' in globals():\n",
    "    raise Exception(\"Parameter injection failed\")\n",
    "\n",
    "#Use an easy dict for all the parameters\n",
    "p = EasyDict(parameters)\n",
    "\n",
    "if \"x_shape\" not in p:\n",
    "    p.x_shape = [2,256] # Default to this if we dont supply x_shape\n",
    "\n",
    "\n",
    "supplied_keys = set(p.keys())\n",
    "\n",
    "if  supplied_keys != required_parameters:\n",
    "    print(\"Parameters are incorrect\")\n",
    "    if len(supplied_keys - required_parameters)>0: print(\"Shouldn't have:\", str(supplied_keys - required_parameters))\n",
    "    if len(required_parameters - supplied_keys)>0: print(\"Need to have:\", str(required_parameters - supplied_keys))\n",
    "    raise RuntimeError(\"Parameters are incorrect\")"
   ]
  },
  {
   "cell_type": "code",
   "execution_count": 6,
   "id": "3a028d58",
   "metadata": {
    "execution": {
     "iopub.execute_input": "2022-03-23T03:43:18.286190Z",
     "iopub.status.busy": "2022-03-23T03:43:18.285815Z",
     "iopub.status.idle": "2022-03-23T03:43:18.303640Z",
     "shell.execute_reply": "2022-03-23T03:43:18.302802Z"
    },
    "papermill": {
     "duration": 0.040605,
     "end_time": "2022-03-23T03:43:18.303812",
     "exception": false,
     "start_time": "2022-03-23T03:43:18.263207",
     "status": "completed"
    },
    "tags": []
   },
   "outputs": [],
   "source": [
    "###################################\n",
    "# Set the RNGs and make it all deterministic\n",
    "###################################\n",
    "np.random.seed(p.seed)\n",
    "random.seed(p.seed)\n",
    "torch.manual_seed(p.seed)\n",
    "\n",
    "torch.use_deterministic_algorithms(True) "
   ]
  },
  {
   "cell_type": "code",
   "execution_count": 7,
   "id": "b691acf6",
   "metadata": {
    "execution": {
     "iopub.execute_input": "2022-03-23T03:43:18.354941Z",
     "iopub.status.busy": "2022-03-23T03:43:18.354570Z",
     "iopub.status.idle": "2022-03-23T03:43:18.371862Z",
     "shell.execute_reply": "2022-03-23T03:43:18.371009Z"
    },
    "papermill": {
     "duration": 0.039562,
     "end_time": "2022-03-23T03:43:18.372018",
     "exception": false,
     "start_time": "2022-03-23T03:43:18.332456",
     "status": "completed"
    },
    "tags": []
   },
   "outputs": [],
   "source": [
    "###########################################\n",
    "# The stratified datasets honor this\n",
    "###########################################\n",
    "torch.set_default_dtype(eval(p.torch_default_dtype))"
   ]
  },
  {
   "cell_type": "code",
   "execution_count": 8,
   "id": "b5fba671",
   "metadata": {
    "execution": {
     "iopub.execute_input": "2022-03-23T03:43:18.421700Z",
     "iopub.status.busy": "2022-03-23T03:43:18.421326Z",
     "iopub.status.idle": "2022-03-23T03:43:18.472752Z",
     "shell.execute_reply": "2022-03-23T03:43:18.472030Z"
    },
    "papermill": {
     "duration": 0.073873,
     "end_time": "2022-03-23T03:43:18.472908",
     "exception": false,
     "start_time": "2022-03-23T03:43:18.399035",
     "status": "completed"
    },
    "tags": []
   },
   "outputs": [],
   "source": [
    "###################################\n",
    "# Build the network(s)\n",
    "# Note: It's critical to do this AFTER setting the RNG\n",
    "###################################\n",
    "x_net = build_sequential(p.x_net)"
   ]
  },
  {
   "cell_type": "code",
   "execution_count": 9,
   "id": "5d7e61cc",
   "metadata": {
    "execution": {
     "iopub.execute_input": "2022-03-23T03:43:18.523579Z",
     "iopub.status.busy": "2022-03-23T03:43:18.523193Z",
     "iopub.status.idle": "2022-03-23T03:43:18.545978Z",
     "shell.execute_reply": "2022-03-23T03:43:18.545149Z"
    },
    "papermill": {
     "duration": 0.046419,
     "end_time": "2022-03-23T03:43:18.546133",
     "exception": false,
     "start_time": "2022-03-23T03:43:18.499714",
     "status": "completed"
    },
    "tags": []
   },
   "outputs": [],
   "source": [
    "start_time_secs = time.time()"
   ]
  },
  {
   "cell_type": "code",
   "execution_count": 10,
   "id": "c6b67dfd",
   "metadata": {
    "execution": {
     "iopub.execute_input": "2022-03-23T03:43:18.597363Z",
     "iopub.status.busy": "2022-03-23T03:43:18.596993Z",
     "iopub.status.idle": "2022-03-23T03:43:18.622579Z",
     "shell.execute_reply": "2022-03-23T03:43:18.621866Z"
    },
    "papermill": {
     "duration": 0.050663,
     "end_time": "2022-03-23T03:43:18.622755",
     "exception": false,
     "start_time": "2022-03-23T03:43:18.572092",
     "status": "completed"
    },
    "tags": []
   },
   "outputs": [],
   "source": [
    "p.domains_source = []\n",
    "p.domains_target = []\n",
    "\n",
    "\n",
    "train_original_source = []\n",
    "val_original_source   = []\n",
    "test_original_source  = []\n",
    "\n",
    "train_original_target = []\n",
    "val_original_target   = []\n",
    "test_original_target  = []"
   ]
  },
  {
   "cell_type": "code",
   "execution_count": 11,
   "id": "e3d9c3d3",
   "metadata": {
    "execution": {
     "iopub.execute_input": "2022-03-23T03:43:18.674439Z",
     "iopub.status.busy": "2022-03-23T03:43:18.674069Z",
     "iopub.status.idle": "2022-03-23T03:43:18.699498Z",
     "shell.execute_reply": "2022-03-23T03:43:18.698786Z"
    },
    "papermill": {
     "duration": 0.048818,
     "end_time": "2022-03-23T03:43:18.699688",
     "exception": false,
     "start_time": "2022-03-23T03:43:18.650870",
     "status": "completed"
    },
    "tags": []
   },
   "outputs": [],
   "source": [
    "# global_x_transform_func = lambda x: normalize(x.to(torch.get_default_dtype()), \"unit_power\") # unit_power, unit_mag\n",
    "# global_x_transform_func = lambda x: normalize(x, \"unit_power\") # unit_power, unit_mag"
   ]
  },
  {
   "cell_type": "code",
   "execution_count": 12,
   "id": "acb78fd2",
   "metadata": {
    "execution": {
     "iopub.execute_input": "2022-03-23T03:43:18.760862Z",
     "iopub.status.busy": "2022-03-23T03:43:18.760271Z",
     "iopub.status.idle": "2022-03-23T03:43:18.783440Z",
     "shell.execute_reply": "2022-03-23T03:43:18.782724Z"
    },
    "papermill": {
     "duration": 0.056445,
     "end_time": "2022-03-23T03:43:18.783628",
     "exception": false,
     "start_time": "2022-03-23T03:43:18.727183",
     "status": "completed"
    },
    "tags": []
   },
   "outputs": [],
   "source": [
    "def add_dataset(\n",
    "    labels,\n",
    "    domains,\n",
    "    pickle_path,\n",
    "    x_transforms,\n",
    "    episode_transforms,\n",
    "    domain_prefix,\n",
    "    num_examples_per_domain_per_label,\n",
    "    source_or_target_dataset:str,\n",
    "    iterator_seed=p.seed,\n",
    "    dataset_seed=p.dataset_seed,\n",
    "    n_shot=p.n_shot,\n",
    "    n_way=p.n_way,\n",
    "    n_query=p.n_query,\n",
    "    train_val_test_k_factors=(p.train_k_factor,p.val_k_factor,p.test_k_factor),\n",
    "):\n",
    "   \n",
    "    if x_transforms == []: x_transform = None\n",
    "    else: x_transform = get_chained_transform(x_transforms)\n",
    "    \n",
    "    if episode_transforms == []: episode_transform = None\n",
    "    else: raise Exception(\"episode_transforms not implemented\")\n",
    "    \n",
    "    episode_transform = lambda tup, _prefix=domain_prefix: (_prefix + str(tup[0]), tup[1])\n",
    "\n",
    "\n",
    "    eaf = Episodic_Accessor_Factory(\n",
    "        labels=labels,\n",
    "        domains=domains,\n",
    "        num_examples_per_domain_per_label=num_examples_per_domain_per_label,\n",
    "        iterator_seed=iterator_seed,\n",
    "        dataset_seed=dataset_seed,\n",
    "        n_shot=n_shot,\n",
    "        n_way=n_way,\n",
    "        n_query=n_query,\n",
    "        train_val_test_k_factors=train_val_test_k_factors,\n",
    "        pickle_path=pickle_path,\n",
    "        x_transform_func=x_transform,\n",
    "    )\n",
    "\n",
    "    train, val, test = eaf.get_train(), eaf.get_val(), eaf.get_test()\n",
    "    train = Lazy_Iterable_Wrapper(train, episode_transform)\n",
    "    val = Lazy_Iterable_Wrapper(val, episode_transform)\n",
    "    test = Lazy_Iterable_Wrapper(test, episode_transform)\n",
    "\n",
    "    if source_or_target_dataset==\"source\":\n",
    "        train_original_source.append(train)\n",
    "        val_original_source.append(val)\n",
    "        test_original_source.append(test)\n",
    "\n",
    "        p.domains_source.extend(\n",
    "            [domain_prefix + str(u) for u in domains]\n",
    "        )\n",
    "    elif source_or_target_dataset==\"target\":\n",
    "        train_original_target.append(train)\n",
    "        val_original_target.append(val)\n",
    "        test_original_target.append(test)\n",
    "        p.domains_target.extend(\n",
    "            [domain_prefix + str(u) for u in domains]\n",
    "        )\n",
    "    else:\n",
    "        raise Exception(f\"invalid source_or_target_dataset: {source_or_target_dataset}\")\n",
    "    "
   ]
  },
  {
   "cell_type": "code",
   "execution_count": 13,
   "id": "fe266617",
   "metadata": {
    "execution": {
     "iopub.execute_input": "2022-03-23T03:43:18.835077Z",
     "iopub.status.busy": "2022-03-23T03:43:18.833853Z",
     "iopub.status.idle": "2022-03-23T03:45:26.823230Z",
     "shell.execute_reply": "2022-03-23T03:45:26.822413Z"
    },
    "papermill": {
     "duration": 128.012344,
     "end_time": "2022-03-23T03:45:26.823430",
     "exception": false,
     "start_time": "2022-03-23T03:43:18.811086",
     "status": "completed"
    },
    "tags": []
   },
   "outputs": [],
   "source": [
    "for ds in p.datasets:\n",
    "    add_dataset(**ds)"
   ]
  },
  {
   "cell_type": "code",
   "execution_count": 14,
   "id": "b90d65ac",
   "metadata": {
    "execution": {
     "iopub.execute_input": "2022-03-23T03:45:26.876706Z",
     "iopub.status.busy": "2022-03-23T03:45:26.876066Z",
     "iopub.status.idle": "2022-03-23T03:45:26.902840Z",
     "shell.execute_reply": "2022-03-23T03:45:26.902061Z"
    },
    "papermill": {
     "duration": 0.052463,
     "end_time": "2022-03-23T03:45:26.903013",
     "exception": false,
     "start_time": "2022-03-23T03:45:26.850550",
     "status": "completed"
    },
    "tags": []
   },
   "outputs": [],
   "source": [
    "# from steves_utils.CORES.utils import (\n",
    "#     ALL_NODES,\n",
    "#     ALL_NODES_MINIMUM_1000_EXAMPLES,\n",
    "#     ALL_DAYS\n",
    "# )\n",
    "\n",
    "# add_dataset(\n",
    "#     labels=ALL_NODES,\n",
    "#     domains = ALL_DAYS,\n",
    "#     num_examples_per_domain_per_label=100,\n",
    "#     pickle_path=os.path.join(get_datasets_base_path(), \"cores.stratified_ds.2022A.pkl\"),\n",
    "#     source_or_target_dataset=\"target\",\n",
    "#     x_transform_func=global_x_transform_func,\n",
    "#     domain_modifier=lambda u: f\"cores_{u}\"\n",
    "# )"
   ]
  },
  {
   "cell_type": "code",
   "execution_count": 15,
   "id": "76db484d",
   "metadata": {
    "execution": {
     "iopub.execute_input": "2022-03-23T03:45:26.955890Z",
     "iopub.status.busy": "2022-03-23T03:45:26.955212Z",
     "iopub.status.idle": "2022-03-23T03:45:26.978398Z",
     "shell.execute_reply": "2022-03-23T03:45:26.977612Z"
    },
    "papermill": {
     "duration": 0.048619,
     "end_time": "2022-03-23T03:45:26.978566",
     "exception": false,
     "start_time": "2022-03-23T03:45:26.929947",
     "status": "completed"
    },
    "tags": []
   },
   "outputs": [],
   "source": [
    "# from steves_utils.ORACLE.utils_v2 import (\n",
    "#     ALL_DISTANCES_FEET,\n",
    "#     ALL_RUNS,\n",
    "#     ALL_SERIAL_NUMBERS,\n",
    "# )\n",
    "\n",
    "\n",
    "# add_dataset(\n",
    "#     labels=ALL_SERIAL_NUMBERS,\n",
    "#     domains = list(set(ALL_DISTANCES_FEET) - {2,62}),\n",
    "#     num_examples_per_domain_per_label=100,\n",
    "#     pickle_path=os.path.join(get_datasets_base_path(), \"oracle.Run2_framed_2000Examples_stratified_ds.2022A.pkl\"),\n",
    "#     source_or_target_dataset=\"source\",\n",
    "#     x_transform_func=global_x_transform_func,\n",
    "#     domain_modifier=lambda u: f\"oracle1_{u}\"\n",
    "# )\n"
   ]
  },
  {
   "cell_type": "code",
   "execution_count": 16,
   "id": "97dea9d2",
   "metadata": {
    "execution": {
     "iopub.execute_input": "2022-03-23T03:45:27.034980Z",
     "iopub.status.busy": "2022-03-23T03:45:27.034245Z",
     "iopub.status.idle": "2022-03-23T03:45:27.056964Z",
     "shell.execute_reply": "2022-03-23T03:45:27.056267Z"
    },
    "papermill": {
     "duration": 0.048703,
     "end_time": "2022-03-23T03:45:27.057141",
     "exception": false,
     "start_time": "2022-03-23T03:45:27.008438",
     "status": "completed"
    },
    "tags": []
   },
   "outputs": [],
   "source": [
    "# from steves_utils.ORACLE.utils_v2 import (\n",
    "#     ALL_DISTANCES_FEET,\n",
    "#     ALL_RUNS,\n",
    "#     ALL_SERIAL_NUMBERS,\n",
    "# )\n",
    "\n",
    "\n",
    "# add_dataset(\n",
    "#     labels=ALL_SERIAL_NUMBERS,\n",
    "#     domains = list(set(ALL_DISTANCES_FEET) - {2,62,56}),\n",
    "#     num_examples_per_domain_per_label=100,\n",
    "#     pickle_path=os.path.join(get_datasets_base_path(), \"oracle.Run2_framed_2000Examples_stratified_ds.2022A.pkl\"),\n",
    "#     source_or_target_dataset=\"source\",\n",
    "#     x_transform_func=global_x_transform_func,\n",
    "#     domain_modifier=lambda u: f\"oracle2_{u}\"\n",
    "# )"
   ]
  },
  {
   "cell_type": "code",
   "execution_count": 17,
   "id": "6f289866",
   "metadata": {
    "execution": {
     "iopub.execute_input": "2022-03-23T03:45:27.117005Z",
     "iopub.status.busy": "2022-03-23T03:45:27.112195Z",
     "iopub.status.idle": "2022-03-23T03:45:27.131066Z",
     "shell.execute_reply": "2022-03-23T03:45:27.129948Z"
    },
    "papermill": {
     "duration": 0.045766,
     "end_time": "2022-03-23T03:45:27.131326",
     "exception": false,
     "start_time": "2022-03-23T03:45:27.085560",
     "status": "completed"
    },
    "tags": []
   },
   "outputs": [],
   "source": [
    "# add_dataset(\n",
    "#     labels=list(range(19)),\n",
    "#     domains = [0,1,2],\n",
    "#     num_examples_per_domain_per_label=100,\n",
    "#     pickle_path=os.path.join(get_datasets_base_path(), \"metehan.stratified_ds.2022A.pkl\"),\n",
    "#     source_or_target_dataset=\"target\",\n",
    "#     x_transform_func=global_x_transform_func,\n",
    "#     domain_modifier=lambda u: f\"met_{u}\"\n",
    "# )"
   ]
  },
  {
   "cell_type": "code",
   "execution_count": 18,
   "id": "86a863c3",
   "metadata": {
    "execution": {
     "iopub.execute_input": "2022-03-23T03:45:27.186641Z",
     "iopub.status.busy": "2022-03-23T03:45:27.185697Z",
     "iopub.status.idle": "2022-03-23T03:45:27.211809Z",
     "shell.execute_reply": "2022-03-23T03:45:27.211049Z"
    },
    "papermill": {
     "duration": 0.053339,
     "end_time": "2022-03-23T03:45:27.211983",
     "exception": false,
     "start_time": "2022-03-23T03:45:27.158644",
     "status": "completed"
    },
    "tags": []
   },
   "outputs": [],
   "source": [
    "# # from steves_utils.wisig.utils import (\n",
    "# #     ALL_NODES_MINIMUM_100_EXAMPLES,\n",
    "# #     ALL_NODES_MINIMUM_500_EXAMPLES,\n",
    "# #     ALL_NODES_MINIMUM_1000_EXAMPLES,\n",
    "# #     ALL_DAYS\n",
    "# # )\n",
    "\n",
    "# import steves_utils.wisig.utils as wisig\n",
    "\n",
    "\n",
    "# add_dataset(\n",
    "#     labels=wisig.ALL_NODES_MINIMUM_100_EXAMPLES,\n",
    "#     domains = wisig.ALL_DAYS,\n",
    "#     num_examples_per_domain_per_label=100,\n",
    "#     pickle_path=os.path.join(get_datasets_base_path(), \"wisig.node3-19.stratified_ds.2022A.pkl\"),\n",
    "#     source_or_target_dataset=\"target\",\n",
    "#     x_transform_func=global_x_transform_func,\n",
    "#     domain_modifier=lambda u: f\"wisig_{u}\"\n",
    "# )"
   ]
  },
  {
   "cell_type": "code",
   "execution_count": 19,
   "id": "fd5442bc",
   "metadata": {
    "execution": {
     "iopub.execute_input": "2022-03-23T03:45:27.272327Z",
     "iopub.status.busy": "2022-03-23T03:45:27.271922Z",
     "iopub.status.idle": "2022-03-23T03:45:27.292989Z",
     "shell.execute_reply": "2022-03-23T03:45:27.292195Z"
    },
    "papermill": {
     "duration": 0.052042,
     "end_time": "2022-03-23T03:45:27.293176",
     "exception": false,
     "start_time": "2022-03-23T03:45:27.241134",
     "status": "completed"
    },
    "tags": []
   },
   "outputs": [],
   "source": [
    "###################################\n",
    "# Build the dataset\n",
    "###################################\n",
    "train_original_source = Iterable_Aggregator(train_original_source, p.seed)\n",
    "val_original_source = Iterable_Aggregator(val_original_source, p.seed)\n",
    "test_original_source = Iterable_Aggregator(test_original_source, p.seed)\n",
    "\n",
    "\n",
    "train_original_target = Iterable_Aggregator(train_original_target, p.seed)\n",
    "val_original_target = Iterable_Aggregator(val_original_target, p.seed)\n",
    "test_original_target = Iterable_Aggregator(test_original_target, p.seed)\n",
    "\n",
    "# For CNN We only use X and Y. And we only train on the source.\n",
    "# Properly form the data using a transform lambda and Lazy_Iterable_Wrapper. Finally wrap them in a dataloader\n",
    "\n",
    "transform_lambda = lambda ex: ex[1] # Original is (<domain>, <episode>) so we strip down to episode only\n",
    "\n",
    "train_processed_source = Lazy_Iterable_Wrapper(train_original_source, transform_lambda)\n",
    "val_processed_source   = Lazy_Iterable_Wrapper(val_original_source, transform_lambda)\n",
    "test_processed_source  = Lazy_Iterable_Wrapper(test_original_source, transform_lambda)\n",
    "\n",
    "train_processed_target = Lazy_Iterable_Wrapper(train_original_target, transform_lambda)\n",
    "val_processed_target   = Lazy_Iterable_Wrapper(val_original_target, transform_lambda)\n",
    "test_processed_target  = Lazy_Iterable_Wrapper(test_original_target, transform_lambda)\n",
    "\n",
    "datasets = EasyDict({\n",
    "    \"source\": {\n",
    "        \"original\": {\"train\":train_original_source, \"val\":val_original_source, \"test\":test_original_source},\n",
    "        \"processed\": {\"train\":train_processed_source, \"val\":val_processed_source, \"test\":test_processed_source}\n",
    "    },\n",
    "    \"target\": {\n",
    "        \"original\": {\"train\":train_original_target, \"val\":val_original_target, \"test\":test_original_target},\n",
    "        \"processed\": {\"train\":train_processed_target, \"val\":val_processed_target, \"test\":test_processed_target}\n",
    "    },\n",
    "})"
   ]
  },
  {
   "cell_type": "code",
   "execution_count": 20,
   "id": "5b3c01fc",
   "metadata": {
    "execution": {
     "iopub.execute_input": "2022-03-23T03:45:27.350867Z",
     "iopub.status.busy": "2022-03-23T03:45:27.350213Z",
     "iopub.status.idle": "2022-03-23T03:46:00.852221Z",
     "shell.execute_reply": "2022-03-23T03:46:00.852792Z"
    },
    "papermill": {
     "duration": 33.530826,
     "end_time": "2022-03-23T03:46:00.852964",
     "exception": false,
     "start_time": "2022-03-23T03:45:27.322138",
     "status": "completed"
    },
    "tags": []
   },
   "outputs": [
    {
     "name": "stdout",
     "output_type": "stream",
     "text": [
      "{'Wisig_4', 'Wisig_2', 'Wisig_3', 'Wisig_1'}\n"
     ]
    },
    {
     "name": "stdout",
     "output_type": "stream",
     "text": [
      "{'ORACLE.run138', 'ORACLE.run144', 'ORACLE.run18', 'ORACLE.run150', 'ORACLE.run114', 'ORACLE.run126', 'ORACLE.run120', 'ORACLE.run132'}\n"
     ]
    },
    {
     "name": "stdout",
     "output_type": "stream",
     "text": [
      "tensor([[[-0.0552,  1.4067,  0.0552,  ...,  0.4187,  0.8400, -0.2031],\n",
      "         [-1.0657,  0.1404,  1.6975,  ..., -0.5115,  0.2332,  1.4092]],\n",
      "\n",
      "        [[ 0.5538,  0.8831, -1.2149,  ...,  0.5014,  0.2295, -0.9729],\n",
      "         [-0.6636,  0.5588,  1.0851,  ...,  0.3642,  0.5538,  0.5613]],\n",
      "\n",
      "        [[ 0.4174,  1.5304,  0.4894,  ...,  0.6509,  1.2869, -0.0373],\n",
      "         [-1.0633,  0.4596,  1.3963,  ..., -0.6956,  0.7826,  1.5727]],\n",
      "\n",
      "        ...,\n",
      "\n",
      "        [[-0.7961, -0.8103,  0.1263,  ..., -1.4218, -0.7774, -0.4859],\n",
      "         [ 0.8171, -0.0336, -1.1923,  ..., -0.3812, -0.6780,  0.0067]],\n",
      "\n",
      "        [[-0.0493, -0.0514, -0.0655,  ...,  0.7536, -0.1388, -1.4819],\n",
      "         [-0.0810, -0.0902, -0.0070,  ..., -0.2275,  1.0016,  0.1113]],\n",
      "\n",
      "        [[-0.1101, -0.3701,  0.0023,  ..., -0.6136,  0.3272,  0.6091],\n",
      "         [-0.1877, -0.1945, -0.8443,  ..., -0.8044, -1.1074, -0.3113]]])\n"
     ]
    }
   ],
   "source": [
    "from steves_utils.transforms import get_average_magnitude, get_average_power\n",
    "\n",
    "print(set([u for u,_ in val_original_source]))\n",
    "print(set([u for u,_ in val_original_target]))\n",
    "\n",
    "s_x, s_y, q_x, q_y, _ = next(iter(train_processed_source))\n",
    "print(s_x)\n",
    "\n",
    "# for ds in [\n",
    "#     train_processed_source,\n",
    "#     val_processed_source,\n",
    "#     test_processed_source,\n",
    "#     train_processed_target,\n",
    "#     val_processed_target,\n",
    "#     test_processed_target\n",
    "# ]:\n",
    "#     for s_x, s_y, q_x, q_y, _ in ds:\n",
    "#         for X in (s_x, q_x):\n",
    "#             for x in X:\n",
    "#                 assert np.isclose(get_average_magnitude(x.numpy()), 1.0)\n",
    "#                 assert np.isclose(get_average_power(x.numpy()), 1.0)\n",
    "                "
   ]
  },
  {
   "cell_type": "code",
   "execution_count": 21,
   "id": "bbdacba1",
   "metadata": {
    "execution": {
     "iopub.execute_input": "2022-03-23T03:46:00.905020Z",
     "iopub.status.busy": "2022-03-23T03:46:00.904648Z",
     "iopub.status.idle": "2022-03-23T03:46:01.136647Z",
     "shell.execute_reply": "2022-03-23T03:46:01.136014Z"
    },
    "papermill": {
     "duration": 0.259089,
     "end_time": "2022-03-23T03:46:01.136806",
     "exception": false,
     "start_time": "2022-03-23T03:46:00.877717",
     "status": "completed"
    },
    "tags": []
   },
   "outputs": [
    {
     "name": "stdout",
     "output_type": "stream",
     "text": [
      "(2, 256)\n"
     ]
    }
   ],
   "source": [
    "###################################\n",
    "# Build the model\n",
    "###################################\n",
    "# easfsl only wants a tuple for the shape\n",
    "model = Steves_Prototypical_Network(x_net, device=p.device, x_shape=tuple(p.x_shape))\n",
    "optimizer = Adam(params=model.parameters(), lr=p.lr)"
   ]
  },
  {
   "cell_type": "code",
   "execution_count": 22,
   "id": "22b39ac5",
   "metadata": {
    "execution": {
     "iopub.execute_input": "2022-03-23T03:46:01.193868Z",
     "iopub.status.busy": "2022-03-23T03:46:01.193203Z",
     "iopub.status.idle": "2022-03-23T04:09:12.251450Z",
     "shell.execute_reply": "2022-03-23T04:09:12.251837Z"
    },
    "papermill": {
     "duration": 1391.086682,
     "end_time": "2022-03-23T04:09:12.251953",
     "exception": false,
     "start_time": "2022-03-23T03:46:01.165271",
     "status": "completed"
    },
    "tags": []
   },
   "outputs": [
    {
     "name": "stdout",
     "output_type": "stream",
     "text": [
      "epoch: 1, [batch: 1 / 6866], examples_per_second: 29.8257, train_label_loss: 2.6028, \n"
     ]
    },
    {
     "name": "stdout",
     "output_type": "stream",
     "text": [
      "epoch: 1, [batch: 687 / 6866], examples_per_second: 3314.5778, train_label_loss: 0.6380, \n"
     ]
    },
    {
     "name": "stdout",
     "output_type": "stream",
     "text": [
      "epoch: 1, [batch: 1374 / 6866], examples_per_second: 2956.0197, train_label_loss: 0.3055, \n"
     ]
    },
    {
     "name": "stdout",
     "output_type": "stream",
     "text": [
      "epoch: 1, [batch: 2060 / 6866], examples_per_second: 2959.4202, train_label_loss: 0.0585, \n"
     ]
    },
    {
     "name": "stdout",
     "output_type": "stream",
     "text": [
      "epoch: 1, [batch: 2747 / 6866], examples_per_second: 2948.4287, train_label_loss: 0.1608, \n"
     ]
    },
    {
     "name": "stdout",
     "output_type": "stream",
     "text": [
      "epoch: 1, [batch: 3433 / 6866], examples_per_second: 2971.1364, train_label_loss: 0.0594, \n"
     ]
    },
    {
     "name": "stdout",
     "output_type": "stream",
     "text": [
      "epoch: 1, [batch: 4120 / 6866], examples_per_second: 2986.0414, train_label_loss: 0.0103, \n"
     ]
    },
    {
     "name": "stdout",
     "output_type": "stream",
     "text": [
      "epoch: 1, [batch: 4806 / 6866], examples_per_second: 2958.1463, train_label_loss: 0.0605, \n"
     ]
    },
    {
     "name": "stdout",
     "output_type": "stream",
     "text": [
      "epoch: 1, [batch: 5493 / 6866], examples_per_second: 2969.5160, train_label_loss: 0.0156, \n"
     ]
    },
    {
     "name": "stdout",
     "output_type": "stream",
     "text": [
      "epoch: 1, [batch: 6179 / 6866], examples_per_second: 2918.8787, train_label_loss: 0.0108, \n"
     ]
    },
    {
     "name": "stdout",
     "output_type": "stream",
     "text": [
      "=============================================================\n",
      "epoch: 1, source_val_acc_label: 0.9618, target_val_acc_label: 0.1186, source_val_label_loss: 0.1720, target_val_label_loss: 2.6868, \n",
      "=============================================================\n"
     ]
    },
    {
     "name": "stdout",
     "output_type": "stream",
     "text": [
      "New best\n"
     ]
    },
    {
     "name": "stdout",
     "output_type": "stream",
     "text": [
      "epoch: 2, [batch: 1 / 6837], examples_per_second: 1.3239, train_label_loss: 0.0631, \n"
     ]
    },
    {
     "name": "stdout",
     "output_type": "stream",
     "text": [
      "epoch: 2, [batch: 684 / 6837], examples_per_second: 2951.8326, train_label_loss: 0.1153, \n"
     ]
    },
    {
     "name": "stdout",
     "output_type": "stream",
     "text": [
      "epoch: 2, [batch: 1368 / 6837], examples_per_second: 2991.2055, train_label_loss: 0.1404, \n"
     ]
    },
    {
     "name": "stdout",
     "output_type": "stream",
     "text": [
      "epoch: 2, [batch: 2051 / 6837], examples_per_second: 3019.4414, train_label_loss: 0.1489, \n"
     ]
    },
    {
     "name": "stdout",
     "output_type": "stream",
     "text": [
      "epoch: 2, [batch: 2735 / 6837], examples_per_second: 2997.9557, train_label_loss: 0.1615, \n"
     ]
    },
    {
     "name": "stdout",
     "output_type": "stream",
     "text": [
      "epoch: 2, [batch: 3419 / 6837], examples_per_second: 3058.7289, train_label_loss: 0.0293, \n"
     ]
    },
    {
     "name": "stdout",
     "output_type": "stream",
     "text": [
      "epoch: 2, [batch: 4102 / 6837], examples_per_second: 3073.7597, train_label_loss: 0.0015, \n"
     ]
    },
    {
     "name": "stdout",
     "output_type": "stream",
     "text": [
      "epoch: 2, [batch: 4786 / 6837], examples_per_second: 3426.3517, train_label_loss: 0.1383, \n"
     ]
    },
    {
     "name": "stdout",
     "output_type": "stream",
     "text": [
      "epoch: 2, [batch: 5469 / 6837], examples_per_second: 3452.4194, train_label_loss: 0.4881, \n"
     ]
    },
    {
     "name": "stdout",
     "output_type": "stream",
     "text": [
      "epoch: 2, [batch: 6153 / 6837], examples_per_second: 3399.4665, train_label_loss: 0.0922, \n"
     ]
    },
    {
     "name": "stdout",
     "output_type": "stream",
     "text": [
      "=============================================================\n",
      "epoch: 2, source_val_acc_label: 0.9678, target_val_acc_label: 0.1172, source_val_label_loss: 0.1408, target_val_label_loss: 2.6800, \n",
      "=============================================================\n"
     ]
    },
    {
     "name": "stdout",
     "output_type": "stream",
     "text": [
      "epoch: 3, [batch: 1 / 6844], examples_per_second: 1.2455, train_label_loss: 0.3445, \n"
     ]
    },
    {
     "name": "stdout",
     "output_type": "stream",
     "text": [
      "epoch: 3, [batch: 685 / 6844], examples_per_second: 2967.3730, train_label_loss: 0.0068, \n"
     ]
    },
    {
     "name": "stdout",
     "output_type": "stream",
     "text": [
      "epoch: 3, [batch: 1369 / 6844], examples_per_second: 3264.2326, train_label_loss: 0.0380, \n"
     ]
    },
    {
     "name": "stdout",
     "output_type": "stream",
     "text": [
      "epoch: 3, [batch: 2053 / 6844], examples_per_second: 3478.4891, train_label_loss: 0.1410, \n"
     ]
    },
    {
     "name": "stdout",
     "output_type": "stream",
     "text": [
      "epoch: 3, [batch: 2738 / 6844], examples_per_second: 3641.4001, train_label_loss: 0.0053, \n"
     ]
    },
    {
     "name": "stdout",
     "output_type": "stream",
     "text": [
      "epoch: 3, [batch: 3422 / 6844], examples_per_second: 3355.5694, train_label_loss: 0.1317, \n"
     ]
    },
    {
     "name": "stdout",
     "output_type": "stream",
     "text": [
      "epoch: 3, [batch: 4106 / 6844], examples_per_second: 3359.4518, train_label_loss: 0.0619, \n"
     ]
    },
    {
     "name": "stdout",
     "output_type": "stream",
     "text": [
      "epoch: 3, [batch: 4791 / 6844], examples_per_second: 3423.6948, train_label_loss: 0.3272, \n"
     ]
    },
    {
     "name": "stdout",
     "output_type": "stream",
     "text": [
      "epoch: 3, [batch: 5475 / 6844], examples_per_second: 3428.5603, train_label_loss: 0.0028, \n"
     ]
    },
    {
     "name": "stdout",
     "output_type": "stream",
     "text": [
      "epoch: 3, [batch: 6159 / 6844], examples_per_second: 3434.3950, train_label_loss: 0.1810, \n"
     ]
    },
    {
     "name": "stdout",
     "output_type": "stream",
     "text": [
      "=============================================================\n",
      "epoch: 3, source_val_acc_label: 0.9721, target_val_acc_label: 0.1056, source_val_label_loss: 0.1220, target_val_label_loss: 2.7380, \n",
      "=============================================================\n"
     ]
    },
    {
     "name": "stdout",
     "output_type": "stream",
     "text": [
      "epoch: 4, [batch: 1 / 6836], examples_per_second: 1.5293, train_label_loss: 0.0797, \n"
     ]
    },
    {
     "name": "stdout",
     "output_type": "stream",
     "text": [
      "epoch: 4, [batch: 684 / 6836], examples_per_second: 2988.9453, train_label_loss: 0.1451, \n"
     ]
    },
    {
     "name": "stdout",
     "output_type": "stream",
     "text": [
      "epoch: 4, [batch: 1368 / 6836], examples_per_second: 2990.0361, train_label_loss: 0.0969, \n"
     ]
    },
    {
     "name": "stdout",
     "output_type": "stream",
     "text": [
      "epoch: 4, [batch: 2051 / 6836], examples_per_second: 3017.5996, train_label_loss: 0.1768, \n"
     ]
    },
    {
     "name": "stdout",
     "output_type": "stream",
     "text": [
      "epoch: 4, [batch: 2735 / 6836], examples_per_second: 2975.9986, train_label_loss: 0.0950, \n"
     ]
    },
    {
     "name": "stdout",
     "output_type": "stream",
     "text": [
      "epoch: 4, [batch: 3418 / 6836], examples_per_second: 2980.7728, train_label_loss: 0.4518, \n"
     ]
    },
    {
     "name": "stdout",
     "output_type": "stream",
     "text": [
      "epoch: 4, [batch: 4102 / 6836], examples_per_second: 2979.5553, train_label_loss: 0.0016, \n"
     ]
    },
    {
     "name": "stdout",
     "output_type": "stream",
     "text": [
      "epoch: 4, [batch: 4785 / 6836], examples_per_second: 2958.3084, train_label_loss: 0.2975, \n"
     ]
    },
    {
     "name": "stdout",
     "output_type": "stream",
     "text": [
      "epoch: 4, [batch: 5469 / 6836], examples_per_second: 2976.2773, train_label_loss: 0.2374, \n"
     ]
    },
    {
     "name": "stdout",
     "output_type": "stream",
     "text": [
      "epoch: 4, [batch: 6152 / 6836], examples_per_second: 2986.5109, train_label_loss: 0.0984, \n"
     ]
    },
    {
     "name": "stdout",
     "output_type": "stream",
     "text": [
      "=============================================================\n",
      "epoch: 4, source_val_acc_label: 0.9722, target_val_acc_label: 0.1047, source_val_label_loss: 0.1251, target_val_label_loss: 2.7510, \n",
      "=============================================================\n"
     ]
    },
    {
     "name": "stdout",
     "output_type": "stream",
     "text": [
      "epoch: 5, [batch: 1 / 6857], examples_per_second: 1.3431, train_label_loss: 0.0935, \n"
     ]
    },
    {
     "name": "stdout",
     "output_type": "stream",
     "text": [
      "epoch: 5, [batch: 686 / 6857], examples_per_second: 2948.8487, train_label_loss: 0.1065, \n"
     ]
    },
    {
     "name": "stdout",
     "output_type": "stream",
     "text": [
      "epoch: 5, [batch: 1372 / 6857], examples_per_second: 2981.3999, train_label_loss: 0.0764, \n"
     ]
    },
    {
     "name": "stdout",
     "output_type": "stream",
     "text": [
      "epoch: 5, [batch: 2057 / 6857], examples_per_second: 3020.3859, train_label_loss: 0.0039, \n"
     ]
    },
    {
     "name": "stdout",
     "output_type": "stream",
     "text": [
      "epoch: 5, [batch: 2743 / 6857], examples_per_second: 2972.0610, train_label_loss: 0.1650, \n"
     ]
    },
    {
     "name": "stdout",
     "output_type": "stream",
     "text": [
      "epoch: 5, [batch: 3429 / 6857], examples_per_second: 2973.9378, train_label_loss: 0.0384, \n"
     ]
    },
    {
     "name": "stdout",
     "output_type": "stream",
     "text": [
      "epoch: 5, [batch: 4114 / 6857], examples_per_second: 3231.6651, train_label_loss: 0.1964, \n"
     ]
    },
    {
     "name": "stdout",
     "output_type": "stream",
     "text": [
      "epoch: 5, [batch: 4800 / 6857], examples_per_second: 3437.9520, train_label_loss: 0.1013, \n"
     ]
    },
    {
     "name": "stdout",
     "output_type": "stream",
     "text": [
      "epoch: 5, [batch: 5485 / 6857], examples_per_second: 3604.1947, train_label_loss: 0.1787, \n"
     ]
    },
    {
     "name": "stdout",
     "output_type": "stream",
     "text": [
      "epoch: 5, [batch: 6171 / 6857], examples_per_second: 3014.8535, train_label_loss: 0.0690, \n"
     ]
    },
    {
     "name": "stdout",
     "output_type": "stream",
     "text": [
      "=============================================================\n",
      "epoch: 5, source_val_acc_label: 0.9728, target_val_acc_label: 0.0914, source_val_label_loss: 0.1262, target_val_label_loss: 2.8487, \n",
      "=============================================================\n"
     ]
    },
    {
     "name": "stdout",
     "output_type": "stream",
     "text": [
      "Patience (3) exhausted\n"
     ]
    }
   ],
   "source": [
    "###################################\n",
    "# train\n",
    "###################################\n",
    "jig = PTN_Train_Eval_Test_Jig(model, p.BEST_MODEL_PATH, p.device)\n",
    "\n",
    "jig.train(\n",
    "    train_iterable=datasets.source.processed.train,\n",
    "    source_val_iterable=datasets.source.processed.val,\n",
    "    target_val_iterable=datasets.target.processed.val,\n",
    "    num_epochs=p.n_epoch,\n",
    "    num_logs_per_epoch=p.NUM_LOGS_PER_EPOCH,\n",
    "    patience=p.patience,\n",
    "    optimizer=optimizer,\n",
    "    criteria_for_best=p.criteria_for_best,\n",
    ")"
   ]
  },
  {
   "cell_type": "code",
   "execution_count": 23,
   "id": "31e8fabf",
   "metadata": {
    "execution": {
     "iopub.execute_input": "2022-03-23T04:09:12.332255Z",
     "iopub.status.busy": "2022-03-23T04:09:12.331694Z",
     "iopub.status.idle": "2022-03-23T04:09:12.364224Z",
     "shell.execute_reply": "2022-03-23T04:09:12.363484Z"
    },
    "papermill": {
     "duration": 0.07553,
     "end_time": "2022-03-23T04:09:12.364388",
     "exception": false,
     "start_time": "2022-03-23T04:09:12.288858",
     "status": "completed"
    },
    "tags": []
   },
   "outputs": [],
   "source": [
    "total_experiment_time_secs = time.time() - start_time_secs"
   ]
  },
  {
   "cell_type": "code",
   "execution_count": 24,
   "id": "87b9595b",
   "metadata": {
    "execution": {
     "iopub.execute_input": "2022-03-23T04:09:12.452911Z",
     "iopub.status.busy": "2022-03-23T04:09:12.452304Z",
     "iopub.status.idle": "2022-03-23T04:19:26.112738Z",
     "shell.execute_reply": "2022-03-23T04:19:26.111980Z"
    },
    "papermill": {
     "duration": 613.703969,
     "end_time": "2022-03-23T04:19:26.112932",
     "exception": false,
     "start_time": "2022-03-23T04:09:12.408963",
     "status": "completed"
    },
    "tags": []
   },
   "outputs": [],
   "source": [
    "###################################\n",
    "# Evaluate the model\n",
    "###################################\n",
    "source_test_label_accuracy, source_test_label_loss = jig.test(datasets.source.processed.test)\n",
    "target_test_label_accuracy, target_test_label_loss = jig.test(datasets.target.processed.test)\n",
    "\n",
    "source_val_label_accuracy, source_val_label_loss = jig.test(datasets.source.processed.val)\n",
    "target_val_label_accuracy, target_val_label_loss = jig.test(datasets.target.processed.val)\n",
    "\n",
    "history = jig.get_history()\n",
    "\n",
    "total_epochs_trained = len(history[\"epoch_indices\"])\n",
    "\n",
    "val_dl = Iterable_Aggregator((datasets.source.original.val,datasets.target.original.val))\n",
    "\n",
    "confusion = ptn_confusion_by_domain_over_dataloader(model, p.device, val_dl)\n",
    "per_domain_accuracy = per_domain_accuracy_from_confusion(confusion)\n",
    "\n",
    "# Add a key to per_domain_accuracy for if it was a source domain\n",
    "for domain, accuracy in per_domain_accuracy.items():\n",
    "    per_domain_accuracy[domain] = {\n",
    "        \"accuracy\": accuracy,\n",
    "        \"source?\": domain in p.domains_source\n",
    "    }\n",
    "\n",
    "# Do an independent accuracy assesment JUST TO BE SURE!\n",
    "# _source_test_label_accuracy = independent_accuracy_assesment(model, datasets.source.processed.test, p.device)\n",
    "# _target_test_label_accuracy = independent_accuracy_assesment(model, datasets.target.processed.test, p.device)\n",
    "# _source_val_label_accuracy = independent_accuracy_assesment(model, datasets.source.processed.val, p.device)\n",
    "# _target_val_label_accuracy = independent_accuracy_assesment(model, datasets.target.processed.val, p.device)\n",
    "\n",
    "# assert(_source_test_label_accuracy == source_test_label_accuracy)\n",
    "# assert(_target_test_label_accuracy == target_test_label_accuracy)\n",
    "# assert(_source_val_label_accuracy == source_val_label_accuracy)\n",
    "# assert(_target_val_label_accuracy == target_val_label_accuracy)\n",
    "\n",
    "experiment = {\n",
    "    \"experiment_name\": p.experiment_name,\n",
    "    \"parameters\": dict(p),\n",
    "    \"results\": {\n",
    "        \"source_test_label_accuracy\": source_test_label_accuracy,\n",
    "        \"source_test_label_loss\": source_test_label_loss,\n",
    "        \"target_test_label_accuracy\": target_test_label_accuracy,\n",
    "        \"target_test_label_loss\": target_test_label_loss,\n",
    "        \"source_val_label_accuracy\": source_val_label_accuracy,\n",
    "        \"source_val_label_loss\": source_val_label_loss,\n",
    "        \"target_val_label_accuracy\": target_val_label_accuracy,\n",
    "        \"target_val_label_loss\": target_val_label_loss,\n",
    "        \"total_epochs_trained\": total_epochs_trained,\n",
    "        \"total_experiment_time_secs\": total_experiment_time_secs,\n",
    "        \"confusion\": confusion,\n",
    "        \"per_domain_accuracy\": per_domain_accuracy,\n",
    "    },\n",
    "    \"history\": history,\n",
    "    \"dataset_metrics\": get_dataset_metrics(datasets, \"ptn\"),\n",
    "}"
   ]
  },
  {
   "cell_type": "code",
   "execution_count": 25,
   "id": "54a21829",
   "metadata": {
    "execution": {
     "iopub.execute_input": "2022-03-23T04:19:26.198604Z",
     "iopub.status.busy": "2022-03-23T04:19:26.198184Z",
     "iopub.status.idle": "2022-03-23T04:19:26.406137Z",
     "shell.execute_reply": "2022-03-23T04:19:26.406833Z"
    },
    "papermill": {
     "duration": 0.249398,
     "end_time": "2022-03-23T04:19:26.407043",
     "exception": false,
     "start_time": "2022-03-23T04:19:26.157645",
     "status": "completed"
    },
    "tags": []
   },
   "outputs": [
    {
     "data": {
      "image/png": "[encoded data removed]",
      "text/plain": [
       "<Figure size 1080x504 with 1 Axes>"
      ]
     },
     "metadata": {
      "needs_background": "light"
     },
     "output_type": "display_data"
    }
   ],
   "source": [
    "ax = get_loss_curve(experiment)\n",
    "plt.show()"
   ]
  },
  {
   "cell_type": "code",
   "execution_count": 26,
   "id": "fd8a0f60",
   "metadata": {
    "execution": {
     "iopub.execute_input": "2022-03-23T04:19:26.493693Z",
     "iopub.status.busy": "2022-03-23T04:19:26.493128Z",
     "iopub.status.idle": "2022-03-23T04:19:26.875682Z",
     "shell.execute_reply": "2022-03-23T04:19:26.874851Z"
    },
    "papermill": {
     "duration": 0.424768,
     "end_time": "2022-03-23T04:19:26.875843",
     "exception": false,
     "start_time": "2022-03-23T04:19:26.451075",
     "status": "completed"
    },
    "tags": []
   },
   "outputs": [
    {
     "data": {
      "text/plain": [
       "<AxesSubplot:title={'center':'Results'}>"
      ]
     },
     "execution_count": 26,
     "metadata": {},
     "output_type": "execute_result"
    },
    {
     "data": {
      "image/png": "[encoded data removed]",
      "text/plain": [
       "<Figure size 1080x504 with 1 Axes>"
      ]
     },
     "metadata": {
      "needs_background": "light"
     },
     "output_type": "display_data"
    }
   ],
   "source": [
    "get_results_table(experiment)"
   ]
  },
  {
   "cell_type": "code",
   "execution_count": 27,
   "id": "cf8dc689",
   "metadata": {
    "execution": {
     "iopub.execute_input": "2022-03-23T04:19:26.966793Z",
     "iopub.status.busy": "2022-03-23T04:19:26.966154Z",
     "iopub.status.idle": "2022-03-23T04:19:27.216808Z",
     "shell.execute_reply": "2022-03-23T04:19:27.215984Z"
    },
    "papermill": {
     "duration": 0.295793,
     "end_time": "2022-03-23T04:19:27.216972",
     "exception": false,
     "start_time": "2022-03-23T04:19:26.921179",
     "status": "completed"
    },
    "tags": []
   },
   "outputs": [
    {
     "data": {
      "text/plain": [
       "<AxesSubplot:title={'center':'Per Domain Validation Accuracy'}, xlabel='domain'>"
      ]
     },
     "execution_count": 27,
     "metadata": {},
     "output_type": "execute_result"
    },
    {
     "data": {
      "image/png": "[encoded data removed]",
      "text/plain": [
       "<Figure size 1080x504 with 1 Axes>"
      ]
     },
     "metadata": {
      "needs_background": "light"
     },
     "output_type": "display_data"
    }
   ],
   "source": [
    "get_domain_accuracies(experiment)"
   ]
  },
  {
   "cell_type": "code",
   "execution_count": 28,
   "id": "a74ae082",
   "metadata": {
    "execution": {
     "iopub.execute_input": "2022-03-23T04:19:27.312148Z",
     "iopub.status.busy": "2022-03-23T04:19:27.311688Z",
     "iopub.status.idle": "2022-03-23T04:19:27.337704Z",
     "shell.execute_reply": "2022-03-23T04:19:27.336883Z"
    },
    "papermill": {
     "duration": 0.072804,
     "end_time": "2022-03-23T04:19:27.337861",
     "exception": false,
     "start_time": "2022-03-23T04:19:27.265057",
     "status": "completed"
    },
    "tags": []
   },
   "outputs": [
    {
     "name": "stdout",
     "output_type": "stream",
     "text": [
      "Source Test Label Accuracy: 0.9626547987616099 Target Test Label Accuracy: 0.12004557291666666\n",
      "Source Val Label Accuracy: 0.961765095338983 Target Val Label Accuracy: 0.11856770833333333\n"
     ]
    }
   ],
   "source": [
    "print(\"Source Test Label Accuracy:\", experiment[\"results\"][\"source_test_label_accuracy\"], \"Target Test Label Accuracy:\", experiment[\"results\"][\"target_test_label_accuracy\"])\n",
    "print(\"Source Val Label Accuracy:\", experiment[\"results\"][\"source_val_label_accuracy\"], \"Target Val Label Accuracy:\", experiment[\"results\"][\"target_val_label_accuracy\"])"
   ]
  },
  {
   "cell_type": "code",
   "execution_count": 29,
   "id": "dacca602",
   "metadata": {
    "execution": {
     "iopub.execute_input": "2022-03-23T04:19:27.431513Z",
     "iopub.status.busy": "2022-03-23T04:19:27.431142Z",
     "iopub.status.idle": "2022-03-23T04:19:27.457857Z",
     "shell.execute_reply": "2022-03-23T04:19:27.458542Z"
    },
    "papermill": {
     "duration": 0.073361,
     "end_time": "2022-03-23T04:19:27.458724",
     "exception": false,
     "start_time": "2022-03-23T04:19:27.385363",
     "status": "completed"
    },
    "tags": [
     "experiment_json"
    ]
   },
   "outputs": [
    {
     "data": {
      "text/plain": [
       "'{\"experiment_name\": \"tl_1v2:wisig-oracle.run1\", \"parameters\": {\"experiment_name\": \"tl_1v2:wisig-oracle.run1\", \"device\": \"cuda\", \"lr\": 0.0001, \"n_shot\": 3, \"n_query\": 2, \"train_k_factor\": 3, \"val_k_factor\": 2, \"test_k_factor\": 2, \"torch_default_dtype\": \"torch.float32\", \"n_epoch\": 50, \"patience\": 3, \"criteria_for_best\": \"target_accuracy\", \"x_net\": [{\"class\": \"nnReshape\", \"kargs\": {\"shape\": [-1, 1, 2, 256]}}, {\"class\": \"Conv2d\", \"kargs\": {\"in_channels\": 1, \"out_channels\": 256, \"kernel_size\": [1, 7], \"bias\": false, \"padding\": [0, 3]}}, {\"class\": \"ReLU\", \"kargs\": {\"inplace\": true}}, {\"class\": \"BatchNorm2d\", \"kargs\": {\"num_features\": 256}}, {\"class\": \"Conv2d\", \"kargs\": {\"in_channels\": 256, \"out_channels\": 80, \"kernel_size\": [2, 7], \"bias\": true, \"padding\": [0, 3]}}, {\"class\": \"ReLU\", \"kargs\": {\"inplace\": true}}, {\"class\": \"BatchNorm2d\", \"kargs\": {\"num_features\": 80}}, {\"class\": \"Flatten\", \"kargs\": {}}, {\"class\": \"Linear\", \"kargs\": {\"in_features\": 20480, \"out_features\": 256}}, {\"class\": \"ReLU\", \"kargs\": {\"inplace\": true}}, {\"class\": \"BatchNorm1d\", \"kargs\": {\"num_features\": 256}}, {\"class\": \"Linear\", \"kargs\": {\"in_features\": 256, \"out_features\": 256}}], \"NUM_LOGS_PER_EPOCH\": 10, \"BEST_MODEL_PATH\": \"./best_model.pth\", \"n_way\": 16, \"datasets\": [{\"labels\": [\"1-10\", \"1-12\", \"1-14\", \"1-16\", \"1-18\", \"1-19\", \"1-8\", \"10-11\", \"10-17\", \"10-4\", \"10-7\", \"11-1\", \"11-10\", \"11-19\", \"11-20\", \"11-4\", \"11-7\", \"12-19\", \"12-20\", \"12-7\", \"13-14\", \"13-18\", \"13-19\", \"13-20\", \"13-3\", \"13-7\", \"14-10\", \"14-11\", \"14-12\", \"14-13\", \"14-14\", \"14-19\", \"14-20\", \"14-7\", \"14-8\", \"14-9\", \"15-1\", \"15-19\", \"15-6\", \"16-1\", \"16-16\", \"16-19\", \"16-20\", \"17-10\", \"17-11\", \"18-1\", \"18-10\", \"18-11\", \"18-12\", \"18-13\", \"18-14\", \"18-15\", \"18-16\", \"18-17\", \"18-19\", \"18-2\", \"18-20\", \"18-4\", \"18-5\", \"18-7\", \"18-8\", \"18-9\", \"19-1\", \"19-10\", \"19-11\", \"19-12\", \"19-13\", \"19-14\", \"19-15\", \"19-19\", \"19-2\", \"19-20\", \"19-3\", \"19-4\", \"19-6\", \"19-7\", \"19-8\", \"19-9\", \"2-1\", \"2-13\", \"2-15\", \"2-3\", \"2-4\", \"2-5\", \"2-6\", \"2-7\", \"2-8\", \"20-1\", \"20-12\", \"20-14\", \"20-15\", \"20-16\", \"20-18\", \"20-19\", \"20-20\", \"20-3\", \"20-4\", \"20-5\", \"20-7\", \"20-8\", \"3-1\", \"3-13\", \"3-18\", \"3-2\", \"3-8\", \"4-1\", \"4-10\", \"4-11\", \"5-1\", \"5-5\", \"6-1\", \"6-15\", \"6-6\", \"7-10\", \"7-11\", \"7-12\", \"7-13\", \"7-14\", \"7-7\", \"7-8\", \"7-9\", \"8-1\", \"8-13\", \"8-14\", \"8-18\", \"8-20\", \"8-3\", \"8-8\", \"9-1\", \"9-7\"], \"domains\": [1, 2, 3, 4], \"num_examples_per_domain_per_label\": -1, \"pickle_path\": \"/root/csc500-main/datasets/wisig.node3-19.stratified_ds.2022A.pkl\", \"source_or_target_dataset\": \"source\", \"x_transforms\": [\"unit_mag\"], \"episode_transforms\": [], \"domain_prefix\": \"Wisig_\"}, {\"labels\": [\"3123D52\", \"3123D65\", \"3123D79\", \"3123D80\", \"3123D54\", \"3123D70\", \"3123D7B\", \"3123D89\", \"3123D58\", \"3123D76\", \"3123D7D\", \"3123EFE\", \"3123D64\", \"3123D78\", \"3123D7E\", \"3124E4A\"], \"domains\": [32, 38, 8, 44, 14, 50, 20, 26], \"num_examples_per_domain_per_label\": 10000, \"pickle_path\": \"/root/csc500-main/datasets/oracle.Run1_10kExamples_stratified_ds.2022A.pkl\", \"source_or_target_dataset\": \"target\", \"x_transforms\": [\"unit_mag\"], \"episode_transforms\": [], \"domain_prefix\": \"ORACLE.run1\"}], \"dataset_seed\": 1337, \"seed\": 1337, \"x_shape\": [2, 256], \"domains_source\": [\"Wisig_1\", \"Wisig_2\", \"Wisig_3\", \"Wisig_4\"], \"domains_target\": [\"ORACLE.run132\", \"ORACLE.run138\", \"ORACLE.run18\", \"ORACLE.run144\", \"ORACLE.run114\", \"ORACLE.run150\", \"ORACLE.run120\", \"ORACLE.run126\"]}, \"results\": {\"source_test_label_accuracy\": 0.9626547987616099, \"source_test_label_loss\": 0.16437682509422302, \"target_test_label_accuracy\": 0.12004557291666666, \"target_test_label_loss\": 2.6863276958465576, \"source_val_label_accuracy\": 0.961765095338983, \"source_val_label_loss\": 0.17195343971252441, \"target_val_label_accuracy\": 0.11856770833333333, \"target_val_label_loss\": 2.6868350505828857, \"total_epochs_trained\": 5, \"total_experiment_time_secs\": 1553.8184978961945, \"confusion\": {\"Wisig_3\": {\"109\": {\"109\": 126, \"70\": 1, \"118\": 1}, \"127\": {\"127\": 125, \"39\": 1, \"69\": 1, \"4\": 1}, \"14\": {\"14\": 80}, \"7\": {\"7\": 111, \"111\": 1}, \"129\": {\"129\": 29, \"110\": 2, \"70\": 1}, \"57\": {\"57\": 20}, \"84\": {\"84\": 107, \"118\": 1}, \"114\": {\"114\": 121, \"29\": 1, \"28\": 1, \"70\": 1}, \"44\": {\"44\": 72}, \"21\": {\"21\": 47, \"6\": 1}, \"46\": {\"46\": 16}, \"100\": {\"100\": 16}, \"63\": {\"63\": 15, \"21\": 1}, \"24\": {\"24\": 46, \"40\": 1, \"97\": 1}, \"107\": {\"107\": 117, \"8\": 1}, \"35\": {\"35\": 11, \"4\": 1}, \"81\": {\"81\": 32}, \"64\": {\"64\": 20}, \"59\": {\"59\": 12}, \"33\": {\"33\": 112, \"117\": 1, \"3\": 1}, \"34\": {\"34\": 23, \"8\": 1, \"110\": 1, \"124\": 1, \"77\": 1, \"128\": 1, \"32\": 3, \"91\": 1}, \"36\": {\"36\": 115, \"27\": 2, \"98\": 1, \"24\": 1, \"87\": 1}, \"79\": {\"79\": 12}, \"80\": {\"80\": 16}, \"77\": {\"77\": 15, \"34\": 1}, \"22\": {\"22\": 16}, \"124\": {\"124\": 123, \"60\": 1}, \"2\": {\"2\": 22, \"117\": 3, \"26\": 1, \"93\": 1, \"81\": 1}, \"87\": {\"87\": 111, \"127\": 1}, \"105\": {\"105\": 122}, \"95\": {\"95\": 32}, \"43\": {\"43\": 49, \"21\": 2, \"122\": 1, \"23\": 2, \"128\": 1, \"78\": 1}, \"56\": {\"56\": 12}, \"18\": {\"18\": 121, \"110\": 1, \"86\": 1, \"84\": 1}, \"85\": {\"85\": 35, \"108\": 1}, \"113\": {\"113\": 119, \"105\": 1}, \"97\": {\"97\": 18, \"60\": 1, \"122\": 1}, \"86\": {\"86\": 26, \"128\": 1, \"56\": 1}, \"128\": {\"128\": 30, \"17\": 1, \"43\": 1}, \"123\": {\"123\": 16}, \"8\": {\"8\": 129, \"124\": 1}, \"110\": {\"110\": 81, \"17\": 2, \"78\": 1, \"19\": 2, \"44\": 1, \"0\": 1, \"101\": 1, \"69\": 1}, \"126\": {\"21\": 1, \"126\": 98, \"5\": 1, \"101\": 1, \"39\": 1, \"105\": 1, \"114\": 1}, \"42\": {\"42\": 26, \"112\": 2}, \"96\": {\"96\": 20}, \"83\": {\"83\": 24}, \"54\": {\"54\": 16}, \"65\": {\"65\": 10, \"113\": 1, \"64\": 1}, \"30\": {\"30\": 81, \"36\": 1, \"69\": 1, \"70\": 1}, \"121\": {\"121\": 27, \"29\": 1, \"21\": 1, \"85\": 1, \"84\": 2}, \"68\": {\"68\": 15, \"128\": 1}, \"45\": {\"45\": 15, \"94\": 1}, \"48\": {\"48\": 6, \"65\": 2, \"78\": 2, \"53\": 3, \"79\": 3}, \"4\": {\"4\": 94, \"105\": 1, \"87\": 1}, \"67\": {\"67\": 16}, \"103\": {\"103\": 15, \"31\": 1}, \"74\": {\"74\": 16}, \"1\": {\"1\": 106, \"16\": 1, \"82\": 1}, \"61\": {\"61\": 16}, \"101\": {\"101\": 48, \"9\": 1, \"6\": 1, \"70\": 1, \"25\": 1}, \"93\": {\"93\": 138}, \"26\": {\"26\": 130}, \"71\": {\"71\": 66, \"113\": 1, \"86\": 1}, \"15\": {\"15\": 102, \"40\": 2}, \"55\": {\"55\": 16}, \"104\": {\"104\": 16}, \"112\": {\"112\": 15, \"118\": 1}, \"102\": {\"102\": 122}, \"117\": {\"117\": 112}, \"119\": {\"119\": 16}, \"20\": {\"20\": 15, \"106\": 1}, \"120\": {\"120\": 20}, \"39\": {\"39\": 101, \"40\": 1, \"5\": 2, \"13\": 1, \"70\": 1, \"19\": 1, \"8\": 1}, \"49\": {\"49\": 20, \"42\": 2, \"108\": 1, \"8\": 1}, \"53\": {\"53\": 20}, \"92\": {\"92\": 31, \"114\": 1}, \"3\": {\"3\": 116}, \"47\": {\"47\": 12}, \"115\": {\"115\": 16}, \"58\": {\"58\": 16}, \"29\": {\"29\": 32}, \"12\": {\"12\": 104}, \"62\": {\"62\": 116, \"26\": 1, \"127\": 1}, \"11\": {\"11\": 140}, \"72\": {\"72\": 28}, \"98\": {\"98\": 106}, \"122\": {\"122\": 56, \"19\": 1, \"21\": 2, \"82\": 1}, \"17\": {\"98\": 1, \"17\": 7, \"110\": 1, \"63\": 1, \"104\": 2, \"68\": 1, \"43\": 1, \"35\": 1, \"94\": 1}, \"94\": {\"94\": 84}, \"106\": {\"106\": 88, \"5\": 1, \"127\": 1}, \"28\": {\"28\": 16}, \"69\": {\"69\": 78, \"87\": 2, \"106\": 1, \"12\": 1, \"70\": 1, \"7\": 1}, \"125\": {\"125\": 112, \"98\": 1, \"11\": 1}, \"19\": {\"19\": 32}, \"41\": {\"41\": 15, \"99\": 1}, \"60\": {\"60\": 24, \"28\": 2, \"19\": 1, \"31\": 1}, \"70\": {\"70\": 68, \"86\": 1, \"92\": 1, \"106\": 1, \"110\": 1}, \"27\": {\"27\": 93, \"6\": 1, \"36\": 2}, \"10\": {\"10\": 114, \"9\": 1, \"5\": 1, \"0\": 1, \"92\": 1}, \"108\": {\"108\": 137, \"40\": 1, \"88\": 1, \"110\": 1}, \"9\": {\"9\": 32}, \"25\": {\"25\": 15, \"108\": 1}, \"37\": {\"37\": 15, \"73\": 1}, \"0\": {\"101\": 1, \"0\": 115}, \"66\": {\"66\": 16}, \"51\": {\"51\": 16}, \"76\": {\"76\": 16}, \"32\": {\"32\": 27, \"67\": 1, \"107\": 1, \"40\": 1, \"55\": 1, \"9\": 1}, \"88\": {\"88\": 100, \"108\": 6, \"49\": 1, \"85\": 1, \"70\": 1, \"19\": 1, \"113\": 1, \"114\": 1}, \"31\": {\"31\": 20}, \"91\": {\"91\": 23, \"4\": 1}, \"90\": {\"90\": 125, \"124\": 1}, \"13\": {\"13\": 10, \"90\": 1, \"30\": 1, \"44\": 3, \"101\": 1}, \"50\": {\"50\": 16}, \"78\": {\"78\": 15, \"122\": 1}, \"116\": {\"116\": 21, \"43\": 2, \"82\": 2, \"78\": 1, \"16\": 1, \"120\": 1}, \"5\": {\"5\": 111, \"40\": 1}, \"75\": {\"75\": 16}, \"89\": {\"89\": 28}, \"16\": {\"16\": 114, \"110\": 1, \"62\": 1}, \"38\": {\"38\": 15, \"126\": 1}, \"118\": {\"118\": 97, \"30\": 1, \"105\": 1, \"33\": 1}, \"99\": {\"99\": 35, \"36\": 1}, \"52\": {\"52\": 16}, \"111\": {\"111\": 128}, \"23\": {\"23\": 25, \"29\": 1, \"19\": 1, \"70\": 1, \"121\": 1, \"71\": 1, \"21\": 1, \"5\": 1}, \"73\": {\"73\": 39, \"30\": 1}, \"82\": {\"82\": 26, \"101\": 1, \"21\": 1}, \"40\": {\"40\": 128}, \"6\": {\"6\": 29, \"41\": 1, \"101\": 2}}, \"Wisig_4\": {\"28\": {\"28\": 20}, \"4\": {\"4\": 99, \"12\": 1, \"27\": 1, \"86\": 2, \"71\": 1}, \"72\": {\"72\": 31, \"115\": 1}, \"111\": {\"111\": 132, \"10\": 2, \"122\": 1, \"0\": 1}, \"108\": {\"108\": 81, \"129\": 2, \"88\": 3, \"122\": 1, \"36\": 1, \"125\": 1, \"27\": 1, \"39\": 1, \"10\": 1}, \"43\": {\"43\": 114, \"99\": 2, \"87\": 2, \"78\": 1, \"10\": 1}, \"96\": {\"96\": 20}, \"89\": {\"89\": 29, \"1\": 1, \"8\": 1, \"78\": 1}, \"31\": {\"31\": 16}, \"45\": {\"45\": 16}, \"2\": {\"2\": 25, \"26\": 3}, \"114\": {\"114\": 126, \"12\": 1, \"105\": 1}, \"11\": {\"11\": 135, \"87\": 1}, \"12\": {\"12\": 97, \"36\": 1, \"122\": 1, \"21\": 1}, \"14\": {\"14\": 111, \"8\": 1}, \"90\": {\"90\": 153, \"122\": 1}, \"10\": {\"10\": 117, \"24\": 1, \"87\": 1, \"88\": 1, \"12\": 1, \"30\": 1}, \"63\": {\"63\": 16}, \"85\": {\"85\": 27, \"1\": 1}, \"64\": {\"64\": 14, \"67\": 1, \"129\": 1}, \"82\": {\"82\": 31, \"62\": 1}, \"58\": {\"58\": 15, \"27\": 1}, \"3\": {\"3\": 131, \"101\": 1, \"21\": 2, \"43\": 1, \"27\": 1}, \"54\": {\"54\": 16}, \"121\": {\"121\": 30, \"63\": 1, \"11\": 1}, \"42\": {\"42\": 22, \"112\": 1, \"79\": 1, \"9\": 1, \"73\": 1, \"13\": 1, \"8\": 1}, \"98\": {\"98\": 114, \"26\": 1, \"44\": 1, \"3\": 1, \"81\": 1, \"24\": 1, \"39\": 1}, \"123\": {\"123\": 16}, \"91\": {\"91\": 24}, \"83\": {\"83\": 27, \"106\": 1}, \"99\": {\"99\": 40}, \"112\": {\"112\": 16}, \"119\": {\"119\": 16}, \"70\": {\"70\": 116, \"88\": 5, \"118\": 1, \"59\": 1, \"10\": 1}, \"20\": {\"20\": 15, \"1\": 1}, \"120\": {\"120\": 18, \"32\": 2}, \"7\": {\"7\": 122, \"108\": 1, \"1\": 1}, \"60\": {\"60\": 29, \"46\": 1, \"3\": 1, \"50\": 1}, \"113\": {\"113\": 115, \"21\": 1, \"40\": 1, \"0\": 1}, \"37\": {\"37\": 14, \"67\": 1, \"128\": 1}, \"124\": {\"124\": 110}, \"27\": {\"27\": 94, \"78\": 1, \"111\": 1, \"8\": 1, \"100\": 1, \"119\": 1, \"70\": 1}, \"86\": {\"86\": 28}, \"127\": {\"127\": 102, \"0\": 2, \"10\": 1, \"111\": 1, \"122\": 1, \"1\": 1}, \"62\": {\"62\": 54, \"71\": 1, \"122\": 1, \"118\": 1, \"108\": 1, \"41\": 1, \"110\": 1}, \"122\": {\"122\": 81, \"3\": 1, \"81\": 1, \"1\": 1}, \"51\": {\"51\": 7, \"85\": 1, \"30\": 1, \"21\": 1, \"10\": 1, \"53\": 1, \"9\": 1, \"23\": 1, \"62\": 1, \"55\": 1}, \"109\": {\"109\": 112, \"118\": 1, \"100\": 1}, \"106\": {\"106\": 107, \"111\": 2, \"78\": 1, \"1\": 2, \"12\": 1, \"88\": 1}, \"94\": {\"94\": 87, \"10\": 1}, \"38\": {\"38\": 16}, \"129\": {\"129\": 25, \"21\": 1, \"19\": 1, \"108\": 1}, \"116\": {\"116\": 25, \"33\": 1, \"57\": 1, \"108\": 1}, \"107\": {\"107\": 118}, \"30\": {\"30\": 73, \"0\": 1, \"36\": 1, \"27\": 1}, \"102\": {\"102\": 131, \"41\": 1}, \"74\": {\"74\": 16}, \"101\": {\"101\": 130, \"107\": 1, \"0\": 1}, \"117\": {\"117\": 119, \"71\": 1, \"1\": 1, \"10\": 1, \"26\": 1, \"81\": 1}, \"1\": {\"1\": 96, \"40\": 1, \"70\": 1, \"87\": 1, \"33\": 1, \"18\": 1, \"88\": 1, \"21\": 2, \"122\": 2, \"14\": 1, \"106\": 1}, \"84\": {\"84\": 128, \"0\": 1, \"105\": 1, \"14\": 1, \"40\": 1}, \"17\": {\"17\": 20}, \"6\": {\"6\": 24}, \"110\": {\"110\": 122, \"84\": 1, \"1\": 1}, \"77\": {\"77\": 12}, \"8\": {\"8\": 128, \"3\": 1, \"73\": 1, \"127\": 1, \"84\": 1}, \"73\": {\"73\": 21, \"10\": 1, \"3\": 1, \"36\": 1}, \"126\": {\"126\": 120, \"39\": 1, \"27\": 1, \"40\": 1, \"88\": 1}, \"57\": {\"57\": 16}, \"95\": {\"95\": 31, \"8\": 1}, \"103\": {\"103\": 16}, \"97\": {\"97\": 18, \"10\": 1, \"89\": 1}, \"39\": {\"8\": 1, \"39\": 88, \"4\": 1, \"81\": 3, \"84\": 2, \"113\": 1, \"21\": 2, \"108\": 1, \"27\": 1}, \"100\": {\"100\": 20}, \"40\": {\"40\": 109, \"69\": 1}, \"36\": {\"36\": 123, \"24\": 1, \"84\": 1, \"21\": 1}, \"19\": {\"19\": 28}, \"118\": {\"118\": 109, \"3\": 1, \"24\": 1, \"67\": 1}, \"56\": {\"56\": 12}, \"26\": {\"26\": 125, \"84\": 1}, \"5\": {\"5\": 134, \"26\": 1, \"4\": 1}, \"21\": {\"21\": 37, \"23\": 1, \"1\": 1, \"84\": 1}, \"22\": {\"22\": 15, \"94\": 1}, \"68\": {\"68\": 16}, \"9\": {\"9\": 28}, \"66\": {\"66\": 15, \"21\": 1}, \"87\": {\"87\": 122, \"105\": 1, \"0\": 1}, \"71\": {\"71\": 103, \"21\": 1}, \"115\": {\"115\": 12, \"103\": 1, \"116\": 1, \"72\": 1, \"43\": 1}, \"23\": {\"89\": 1, \"23\": 9, \"21\": 1, \"51\": 1, \"113\": 1, \"121\": 2, \"53\": 1}, \"33\": {\"33\": 116, \"0\": 1, \"84\": 1}, \"35\": {\"35\": 11, \"3\": 1}, \"125\": {\"125\": 127, \"43\": 2, \"108\": 1, \"117\": 1, \"10\": 1}, \"47\": {\"47\": 11, \"95\": 1}, \"79\": {\"79\": 16}, \"53\": {\"53\": 16}, \"67\": {\"113\": 4, \"23\": 1, \"120\": 1, \"33\": 1, \"67\": 6, \"123\": 1, \"8\": 1, \"107\": 1}, \"80\": {\"80\": 16}, \"105\": {\"105\": 95, \"70\": 1, \"81\": 1, \"10\": 1, \"60\": 1, \"71\": 1}, \"76\": {\"76\": 16}, \"46\": {\"46\": 20}, \"34\": {\"120\": 2, \"34\": 18, \"60\": 1, \"72\": 2, \"99\": 1, \"98\": 1, \"128\": 1, \"75\": 2, \"32\": 1, \"19\": 1, \"104\": 1, \"54\": 1}, \"32\": {\"32\": 25, \"120\": 1, \"29\": 1, \"8\": 1}, \"13\": {\"13\": 16}, \"78\": {\"78\": 33, \"128\": 1, \"4\": 1, \"1\": 1}, \"41\": {\"41\": 16}, \"69\": {\"69\": 124, \"87\": 1, \"4\": 1, \"88\": 1, \"27\": 1}, \"88\": {\"88\": 120, \"59\": 1, \"26\": 1, \"108\": 1, \"70\": 6, \"124\": 1, \"40\": 1, \"113\": 1}, \"15\": {\"15\": 123, \"122\": 1, \"106\": 1, \"21\": 1, \"10\": 1, \"87\": 1}, \"61\": {\"61\": 16}, \"0\": {\"0\": 112, \"84\": 1, \"105\": 1, \"27\": 1, \"4\": 1}, \"104\": {\"104\": 15, \"69\": 1}, \"48\": {\"48\": 15, \"105\": 1}, \"25\": {\"25\": 16}, \"75\": {\"75\": 16}, \"81\": {\"81\": 33, \"124\": 1, \"27\": 1, \"117\": 1}, \"50\": {\"50\": 16}, \"52\": {\"52\": 20}, \"16\": {\"16\": 117, \"108\": 1, \"3\": 1, \"43\": 1}, \"44\": {\"44\": 63, \"121\": 1}, \"29\": {\"29\": 30, \"21\": 1, \"1\": 1}, \"93\": {\"93\": 123, \"122\": 1}, \"18\": {\"18\": 114}, \"49\": {\"49\": 28, \"80\": 2, \"42\": 2}, \"55\": {\"55\": 16}, \"59\": {\"59\": 11, \"21\": 1}, \"128\": {\"128\": 16, \"26\": 1, \"122\": 1, \"8\": 1, \"43\": 1, \"41\": 1, \"98\": 1, \"91\": 1, \"99\": 1}, \"24\": {\"24\": 101, \"27\": 3, \"15\": 1, \"36\": 9, \"7\": 1, \"10\": 3, \"12\": 1, \"94\": 1}, \"65\": {\"65\": 12}, \"92\": {\"92\": 28}}, \"Wisig_1\": {\"108\": {\"108\": 124}, \"40\": {\"40\": 134, \"4\": 1, \"87\": 1}, \"68\": {\"68\": 15, \"57\": 1}, \"23\": {\"23\": 17, \"3\": 2, \"127\": 1, \"32\": 2, \"63\": 2}, \"26\": {\"26\": 118, \"27\": 1, \"6\": 1}, \"64\": {\"64\": 16}, \"22\": {\"22\": 15, \"94\": 1}, \"3\": {\"3\": 81, \"66\": 1, \"110\": 1, \"15\": 1, \"18\": 4}, \"4\": {\"4\": 99, \"68\": 1}, \"70\": {\"70\": 110, \"54\": 1, \"105\": 1, \"36\": 1, \"87\": 1, \"108\": 3, \"8\": 1, \"94\": 1, \"101\": 1}, \"57\": {\"57\": 11, \"23\": 1}, \"79\": {\"79\": 12}, \"9\": {\"9\": 32}, \"89\": {\"89\": 36}, \"110\": {\"110\": 128}, \"102\": {\"102\": 118, \"14\": 1, \"18\": 1}, \"31\": {\"31\": 16}, \"58\": {\"58\": 11, \"12\": 1}, \"47\": {\"47\": 12}, \"24\": {\"24\": 86, \"97\": 1, \"12\": 2, \"70\": 1, \"108\": 1, \"88\": 1}, \"19\": {\"19\": 28}, \"11\": {\"11\": 132}, \"52\": {\"52\": 20}, \"17\": {\"17\": 15, \"128\": 1}, \"25\": {\"25\": 16}, \"69\": {\"69\": 105, \"70\": 3}, \"96\": {\"96\": 14, \"51\": 1, \"19\": 1, \"82\": 1, \"126\": 1, \"34\": 1, \"5\": 1}, \"109\": {\"109\": 111, \"87\": 1, \"126\": 1, \"70\": 1}, \"115\": {\"115\": 12}, \"83\": {\"83\": 27, \"22\": 1}, \"84\": {\"84\": 126, \"88\": 1, \"43\": 1}, \"119\": {\"119\": 16}, \"122\": {\"122\": 84, \"70\": 2, \"105\": 1, \"21\": 1}, \"99\": {\"99\": 24}, \"1\": {\"1\": 133, \"105\": 1, \"122\": 1, \"127\": 1}, \"74\": {\"74\": 16}, \"85\": {\"85\": 32}, \"127\": {\"127\": 106, \"6\": 1, \"105\": 1}, \"111\": {\"111\": 117, \"71\": 2, \"107\": 1}, \"53\": {\"53\": 20}, \"88\": {\"88\": 125, \"97\": 1, \"36\": 2, \"24\": 1, \"27\": 3}, \"65\": {\"65\": 8, \"21\": 1, \"20\": 1, \"102\": 1, \"33\": 1}, \"7\": {\"7\": 134}, \"16\": {\"16\": 107, \"127\": 1}, \"128\": {\"128\": 20, \"52\": 1, \"72\": 2, \"21\": 1}, \"34\": {\"128\": 2, \"38\": 2, \"34\": 16, \"80\": 1, \"60\": 2, \"81\": 3, \"125\": 1, \"72\": 1, \"91\": 2, \"86\": 1, \"77\": 1}, \"129\": {\"129\": 20, \"14\": 1, \"1\": 2, \"2\": 2, \"19\": 1, \"72\": 2}, \"43\": {\"43\": 122, \"105\": 2, \"78\": 2, \"87\": 1, \"70\": 1}, \"92\": {\"92\": 28}, \"28\": {\"28\": 18, \"17\": 1, \"71\": 1}, \"27\": {\"27\": 92}, \"114\": {\"114\": 123, \"71\": 1}, \"73\": {\"73\": 20}, \"0\": {\"0\": 84}, \"104\": {\"104\": 14, \"109\": 2}, \"118\": {\"118\": 82, \"21\": 1, \"69\": 1}, \"41\": {\"41\": 16}, \"91\": {\"91\": 28}, \"124\": {\"124\": 122}, \"81\": {\"81\": 28}, \"63\": {\"63\": 16}, \"76\": {\"76\": 16}, \"10\": {\"10\": 116, \"51\": 1, \"85\": 1, \"0\": 1, \"70\": 1}, \"51\": {\"51\": 14, \"6\": 1, \"17\": 1}, \"82\": {\"82\": 36}, \"56\": {\"56\": 11, \"53\": 1}, \"30\": {\"30\": 52}, \"21\": {\"21\": 29, \"32\": 1, \"43\": 1, \"19\": 1, \"83\": 1, \"128\": 1, \"72\": 1, \"5\": 1, \"49\": 1, \"3\": 1, \"87\": 2}, \"46\": {\"46\": 9, \"6\": 1, \"94\": 1, \"83\": 1}, \"33\": {\"33\": 138}, \"101\": {\"101\": 121, \"12\": 1, \"124\": 1, \"70\": 1}, \"105\": {\"105\": 79, \"6\": 1, \"40\": 2, \"78\": 2}, \"50\": {\"50\": 15, \"107\": 1}, \"116\": {\"116\": 31, \"21\": 1}, \"77\": {\"77\": 16}, \"75\": {\"75\": 16}, \"95\": {\"95\": 36}, \"120\": {\"120\": 20}, \"18\": {\"18\": 108}, \"14\": {\"14\": 96}, \"44\": {\"44\": 76}, \"98\": {\"98\": 96}, \"121\": {\"121\": 32}, \"113\": {\"113\": 108}, \"103\": {\"103\": 16}, \"62\": {\"62\": 116, \"21\": 1, \"108\": 1, \"107\": 2}, \"32\": {\"32\": 28, \"23\": 2, \"110\": 2}, \"71\": {\"71\": 101, \"127\": 2, \"12\": 2, \"70\": 1, \"18\": 1, \"73\": 1}, \"94\": {\"94\": 89, \"105\": 1, \"122\": 1, \"87\": 1}, \"49\": {\"49\": 17, \"12\": 1, \"34\": 1, \"31\": 1}, \"12\": {\"12\": 101, \"122\": 1, \"105\": 1, \"40\": 1}, \"90\": {\"90\": 124}, \"93\": {\"93\": 124}, \"13\": {\"13\": 16}, \"67\": {\"88\": 1, \"67\": 15}, \"20\": {\"20\": 14, \"22\": 1, \"122\": 1}, \"2\": {\"54\": 1, \"2\": 29, \"25\": 1, \"11\": 1}, \"5\": {\"5\": 86, \"36\": 1, \"49\": 1}, \"54\": {\"54\": 15, \"122\": 1}, \"37\": {\"37\": 16}, \"38\": {\"38\": 16}, \"86\": {\"86\": 32, \"115\": 1, \"84\": 2, \"94\": 1}, \"55\": {\"55\": 12}, \"97\": {\"97\": 18, \"19\": 1, \"128\": 1}, \"29\": {\"29\": 28}, \"48\": {\"63\": 1, \"48\": 11}, \"60\": {\"60\": 10, \"34\": 1, \"119\": 1, \"45\": 2, \"100\": 1, \"81\": 1}, \"36\": {\"36\": 117, \"107\": 1, \"88\": 3, \"108\": 1}, \"42\": {\"42\": 25, \"91\": 2, \"105\": 1}, \"66\": {\"66\": 16}, \"126\": {\"126\": 127, \"5\": 1}, \"39\": {\"39\": 104}, \"107\": {\"107\": 123, \"70\": 1}, \"59\": {\"59\": 10, \"95\": 1, \"6\": 1}, \"117\": {\"117\": 138}, \"6\": {\"6\": 31, \"34\": 1}, \"123\": {\"123\": 16}, \"8\": {\"8\": 123, \"128\": 1}, \"112\": {\"112\": 15, \"27\": 1}, \"80\": {\"80\": 15, \"6\": 1}, \"125\": {\"125\": 136}, \"61\": {\"61\": 12}, \"45\": {\"45\": 8, \"124\": 1, \"3\": 1, \"19\": 1, \"64\": 1}, \"72\": {\"72\": 32}, \"87\": {\"87\": 107, \"122\": 1}, \"106\": {\"106\": 123, \"43\": 1}, \"35\": {\"35\": 9, \"30\": 1, \"6\": 2}, \"78\": {\"78\": 12, \"87\": 1, \"83\": 1, \"128\": 1, \"105\": 1}, \"15\": {\"15\": 97, \"111\": 2, \"87\": 1, \"40\": 1, \"70\": 1, \"30\": 1, \"21\": 1}, \"100\": {\"100\": 16}}, \"Wisig_2\": {\"91\": {\"91\": 26, \"49\": 1, \"18\": 1}, \"12\": {\"12\": 83, \"87\": 1, \"78\": 2, \"122\": 1, \"118\": 1}, \"101\": {\"101\": 147, \"87\": 1}, \"121\": {\"121\": 35, \"40\": 1}, \"118\": {\"118\": 66, \"32\": 1, \"87\": 1}, \"10\": {\"10\": 54, \"122\": 1, \"12\": 1, \"11\": 1, \"127\": 1, \"18\": 1, \"52\": 1}, \"117\": {\"117\": 118, \"31\": 1, \"18\": 1}, \"110\": {\"110\": 34, \"63\": 1, \"122\": 1, \"14\": 1, \"45\": 1, \"42\": 1, \"95\": 1}, \"97\": {\"97\": 19, \"15\": 1}, \"28\": {\"28\": 20}, \"88\": {\"88\": 117, \"122\": 2, \"43\": 1, \"40\": 1, \"3\": 1, \"96\": 1, \"30\": 1}, \"17\": {\"17\": 16}, \"126\": {\"126\": 112, \"98\": 1, \"37\": 1}, \"33\": {\"33\": 125, \"4\": 1, \"70\": 2}, \"86\": {\"86\": 32}, \"106\": {\"106\": 113, \"12\": 1, \"122\": 1, \"18\": 1, \"78\": 1, \"27\": 1, \"70\": 1, \"111\": 1}, \"54\": {\"54\": 20}, \"125\": {\"125\": 131, \"98\": 1}, \"83\": {\"83\": 39, \"4\": 1}, \"98\": {\"98\": 117, \"113\": 1, \"90\": 1, \"26\": 1}, \"11\": {\"11\": 76, \"3\": 1, \"69\": 1, \"12\": 1, \"109\": 1}, \"32\": {\"32\": 27, \"107\": 3, \"14\": 1, \"62\": 1, \"12\": 1, \"82\": 1, \"79\": 2}, \"42\": {\"42\": 27, \"46\": 1}, \"103\": {\"103\": 16}, \"87\": {\"87\": 105, \"60\": 1, \"39\": 1, \"40\": 1, \"8\": 1, \"94\": 2, \"24\": 1}, \"61\": {\"61\": 16, \"87\": 1, \"53\": 1, \"128\": 1, \"21\": 1}, \"13\": {\"13\": 13, \"14\": 2, \"122\": 1}, \"4\": {\"4\": 83, \"0\": 1, \"69\": 1, \"109\": 1}, \"15\": {\"15\": 116, \"40\": 1, \"0\": 2, \"105\": 1}, \"120\": {\"120\": 20}, \"80\": {\"80\": 16}, \"72\": {\"72\": 27, \"45\": 1}, \"64\": {\"64\": 15, \"129\": 1}, \"81\": {\"81\": 22, \"128\": 1, \"12\": 1}, \"102\": {\"102\": 112}, \"76\": {\"76\": 16}, \"49\": {\"49\": 15, \"3\": 2, \"58\": 1, \"39\": 1, \"41\": 1, \"24\": 1, \"42\": 1, \"30\": 1, \"53\": 1}, \"129\": {\"129\": 32}, \"89\": {\"89\": 34, \"112\": 1, \"37\": 1}, \"52\": {\"52\": 18, \"120\": 1, \"68\": 1}, \"35\": {\"35\": 12}, \"53\": {\"53\": 16}, \"26\": {\"26\": 124, \"87\": 1, \"129\": 1, \"128\": 1, \"78\": 1}, \"96\": {\"96\": 20}, \"27\": {\"27\": 53, \"21\": 3, \"122\": 1, \"40\": 2, \"3\": 1, \"84\": 1, \"62\": 1, \"128\": 1, \"7\": 1, \"36\": 3, \"87\": 1}, \"24\": {\"24\": 100, \"25\": 1, \"71\": 2, \"69\": 1, \"39\": 1, \"70\": 1, \"36\": 2, \"107\": 1, \"12\": 1, \"78\": 1, \"122\": 1}, \"82\": {\"82\": 32, \"107\": 2, \"104\": 1, \"87\": 1}, \"18\": {\"18\": 123, \"91\": 1, \"39\": 1, \"16\": 1, \"12\": 1, \"128\": 1}, \"69\": {\"69\": 118, \"12\": 1, \"5\": 1, \"109\": 1, \"70\": 1}, \"47\": {\"47\": 12}, \"85\": {\"85\": 31, \"73\": 1}, \"2\": {\"47\": 1, \"2\": 29, \"113\": 1, \"88\": 1}, \"67\": {\"67\": 15, \"49\": 1}, \"39\": {\"39\": 107, \"47\": 1, \"18\": 2, \"17\": 1, \"70\": 1}, \"99\": {\"99\": 32}, \"74\": {\"74\": 13, \"106\": 1, \"75\": 2}, \"105\": {\"105\": 128, \"5\": 2, \"43\": 1, \"87\": 1}, \"70\": {\"70\": 113, \"110\": 3, \"88\": 1, \"122\": 1, \"43\": 2, \"69\": 1, \"40\": 1}, \"55\": {\"55\": 16}, \"30\": {\"30\": 110, \"70\": 1, \"61\": 1}, \"60\": {\"60\": 21, \"123\": 2, \"87\": 2, \"21\": 1, \"116\": 1, \"57\": 1}, \"92\": {\"92\": 24, \"116\": 1, \"75\": 1, \"112\": 1, \"76\": 1}, \"45\": {\"45\": 15, \"105\": 1}, \"127\": {\"127\": 111, \"89\": 1}, \"9\": {\"110\": 1, \"9\": 30, \"61\": 1}, \"115\": {\"115\": 12}, \"73\": {\"73\": 28}, \"108\": {\"108\": 138}, \"114\": {\"114\": 113, \"83\": 1, \"118\": 1, \"39\": 1}, \"63\": {\"63\": 19, \"33\": 1}, \"93\": {\"93\": 127, \"88\": 1}, \"7\": {\"7\": 132}, \"31\": {\"31\": 19, \"78\": 1}, \"123\": {\"19\": 1, \"123\": 15}, \"128\": {\"128\": 17, \"111\": 1, \"14\": 1, \"23\": 1, \"21\": 1, \"30\": 1, \"49\": 1, \"122\": 1}, \"0\": {\"0\": 110, \"24\": 2, \"98\": 1, \"69\": 1, \"39\": 1, \"70\": 1}, \"3\": {\"3\": 134, \"18\": 1, \"39\": 1}, \"19\": {\"19\": 28}, \"57\": {\"57\": 19, \"84\": 1}, \"78\": {\"78\": 42, \"39\": 1, \"43\": 3, \"40\": 1, \"87\": 1}, \"95\": {\"95\": 35, \"70\": 1}, \"40\": {\"40\": 136, \"12\": 1, \"5\": 1, \"4\": 1, \"30\": 1}, \"14\": {\"78\": 1, \"14\": 40, \"85\": 1, \"12\": 1, \"18\": 1, \"122\": 1, \"88\": 1, \"118\": 2}, \"36\": {\"36\": 118, \"21\": 1, \"122\": 3, \"70\": 1, \"82\": 1, \"40\": 1, \"107\": 1, \"87\": 1, \"27\": 1}, \"56\": {\"56\": 12}, \"111\": {\"111\": 127, \"122\": 1}, \"59\": {\"59\": 14, \"13\": 1, \"24\": 1}, \"79\": {\"79\": 14, \"23\": 1, \"77\": 1}, \"62\": {\"62\": 121, \"40\": 1}, \"21\": {\"21\": 43, \"87\": 1, \"118\": 1, \"17\": 1, \"5\": 1, \"40\": 1}, \"48\": {\"48\": 20}, \"16\": {\"16\": 117, \"57\": 1, \"70\": 2, \"88\": 1, \"18\": 1, \"1\": 1, \"93\": 1}, \"50\": {\"50\": 15, \"109\": 1}, \"44\": {\"44\": 95, \"117\": 1}, \"5\": {\"5\": 109, \"12\": 1}, \"20\": {\"20\": 15, \"24\": 1}, \"1\": {\"1\": 118, \"85\": 1, \"126\": 1}, \"65\": {\"65\": 18, \"116\": 1, \"71\": 1}, \"116\": {\"116\": 27, \"80\": 1}, \"51\": {\"51\": 15, \"6\": 1, \"30\": 1, \"125\": 1, \"49\": 1, \"111\": 1}, \"75\": {\"75\": 15, \"71\": 1}, \"100\": {\"100\": 16}, \"113\": {\"113\": 71, \"65\": 1}, \"41\": {\"41\": 20}, \"29\": {\"29\": 32}, \"23\": {\"23\": 35, \"29\": 1, \"44\": 1, \"96\": 1, \"78\": 1, \"99\": 2, \"70\": 1, \"120\": 1, \"110\": 1}, \"124\": {\"124\": 122, \"21\": 1, \"117\": 1}, \"68\": {\"68\": 15, \"52\": 1}, \"71\": {\"71\": 99, \"94\": 1}, \"107\": {\"107\": 54, \"51\": 1, \"82\": 1, \"91\": 2, \"113\": 1, \"12\": 2, \"129\": 1, \"109\": 1, \"14\": 1}, \"94\": {\"94\": 60, \"12\": 1, \"118\": 1, \"36\": 1, \"110\": 1}, \"77\": {\"77\": 15, \"17\": 1}, \"8\": {\"8\": 119, \"52\": 1, \"24\": 1, \"18\": 1}, \"46\": {\"46\": 16}, \"25\": {\"25\": 14, \"109\": 1, \"39\": 1}, \"122\": {\"122\": 137, \"40\": 1, \"113\": 1, \"70\": 1}, \"58\": {\"58\": 16, \"77\": 1, \"17\": 1, \"87\": 1, \"24\": 1}, \"6\": {\"6\": 28, \"51\": 1, \"101\": 3}, \"109\": {\"109\": 94, \"84\": 1, \"93\": 2, \"122\": 1, \"70\": 2}, \"119\": {\"119\": 19, \"24\": 1}, \"34\": {\"34\": 26, \"8\": 1, \"40\": 1, \"6\": 1, \"91\": 1, \"71\": 1, \"66\": 1}, \"90\": {\"90\": 138, \"6\": 1, \"18\": 1}, \"38\": {\"38\": 16}, \"104\": {\"29\": 2, \"104\": 17, \"129\": 1}, \"84\": {\"84\": 90, \"58\": 1, \"93\": 1}, \"112\": {\"112\": 11, \"126\": 1, \"21\": 1, \"3\": 1, \"46\": 1, \"12\": 1}, \"66\": {\"66\": 17, \"107\": 1, \"13\": 1, \"27\": 1}, \"22\": {\"22\": 20}, \"37\": {\"37\": 16}, \"43\": {\"43\": 116, \"0\": 1, \"8\": 1, \"78\": 1, \"88\": 1, \"84\": 1, \"70\": 2, \"40\": 1}}, \"ORACLE.run114\": {\"15\": {\"11\": 58, \"7\": 120, \"15\": 122, \"13\": 93, \"3\": 88, \"14\": 76, \"0\": 63, \"4\": 106, \"6\": 87, \"2\": 70, \"1\": 97, \"8\": 39, \"9\": 23, \"10\": 60, \"5\": 83, \"12\": 15}, \"3\": {\"6\": 86, \"12\": 39, \"11\": 89, \"9\": 64, \"15\": 57, \"14\": 81, \"7\": 73, \"3\": 77, \"0\": 78, \"2\": 103, \"10\": 74, \"4\": 73, \"8\": 47, \"1\": 76, \"5\": 100, \"13\": 83}, \"6\": {\"3\": 79, \"11\": 71, \"4\": 84, \"6\": 137, \"2\": 120, \"14\": 129, \"15\": 91, \"10\": 86, \"13\": 109, \"7\": 59, \"0\": 65, \"1\": 57, \"5\": 72, \"9\": 21, \"8\": 12, \"12\": 8}, \"1\": {\"0\": 66, \"9\": 61, \"4\": 108, \"6\": 66, \"14\": 71, \"5\": 83, \"15\": 75, \"13\": 57, \"10\": 96, \"7\": 86, \"1\": 108, \"8\": 65, \"11\": 67, \"2\": 72, \"3\": 92, \"12\": 27}, \"8\": {\"12\": 185, \"5\": 56, \"15\": 47, \"8\": 164, \"11\": 57, \"0\": 76, \"1\": 93, \"4\": 61, \"14\": 43, \"9\": 155, \"10\": 50, \"7\": 65, \"3\": 69, \"2\": 29, \"13\": 32, \"6\": 18}, \"10\": {\"2\": 67, \"11\": 101, \"0\": 102, \"14\": 86, \"1\": 78, \"3\": 87, \"12\": 40, \"13\": 63, \"15\": 60, \"8\": 44, \"9\": 56, \"10\": 79, \"7\": 61, \"4\": 87, \"6\": 94, \"5\": 95}, \"9\": {\"12\": 181, \"9\": 156, \"13\": 31, \"3\": 53, \"8\": 138, \"14\": 39, \"5\": 56, \"15\": 35, \"7\": 42, \"1\": 90, \"6\": 28, \"11\": 95, \"2\": 44, \"10\": 68, \"4\": 52, \"0\": 92}, \"13\": {\"13\": 128, \"14\": 118, \"5\": 81, \"11\": 73, \"15\": 100, \"10\": 69, \"1\": 61, \"4\": 81, \"6\": 120, \"7\": 70, \"2\": 112, \"3\": 81, \"0\": 51, \"9\": 23, \"8\": 20, \"12\": 12}, \"12\": {\"9\": 205, \"1\": 57, \"10\": 62, \"8\": 172, \"12\": 281, \"3\": 38, \"0\": 89, \"11\": 82, \"2\": 23, \"6\": 19, \"5\": 29, \"4\": 36, \"14\": 32, \"13\": 20, \"15\": 24, \"7\": 31}, \"5\": {\"10\": 81, \"5\": 94, \"9\": 53, \"11\": 79, \"14\": 62, \"15\": 84, \"3\": 103, \"13\": 84, \"6\": 103, \"1\": 81, \"0\": 61, \"7\": 92, \"2\": 75, \"8\": 47, \"4\": 75, \"12\": 26}, \"0\": {\"1\": 83, \"12\": 56, \"13\": 60, \"6\": 74, \"0\": 96, \"4\": 71, \"8\": 77, \"14\": 75, \"3\": 83, \"5\": 69, \"9\": 70, \"2\": 73, \"10\": 95, \"11\": 110, \"15\": 58, \"7\": 50}, \"2\": {\"14\": 98, \"15\": 85, \"11\": 71, \"2\": 104, \"7\": 60, \"13\": 115, \"5\": 89, \"4\": 86, \"9\": 25, \"6\": 99, \"0\": 79, \"3\": 94, \"10\": 96, \"1\": 71, \"12\": 7, \"8\": 21}, \"11\": {\"10\": 91, \"8\": 63, \"6\": 74, \"12\": 69, \"0\": 91, \"5\": 67, \"7\": 53, \"13\": 67, \"3\": 83, \"1\": 69, \"4\": 78, \"15\": 63, \"11\": 114, \"14\": 77, \"9\": 78, \"2\": 63}, \"14\": {\"2\": 109, \"1\": 63, \"13\": 108, \"6\": 124, \"14\": 116, \"5\": 68, \"4\": 67, \"10\": 86, \"3\": 96, \"15\": 82, \"0\": 67, \"7\": 69, \"9\": 33, \"12\": 20, \"11\": 71, \"8\": 21}, \"7\": {\"7\": 112, \"4\": 77, \"10\": 81, \"1\": 99, \"3\": 86, \"6\": 67, \"11\": 62, \"2\": 91, \"13\": 71, \"14\": 57, \"15\": 125, \"5\": 90, \"0\": 60, \"9\": 44, \"8\": 54, \"12\": 24}, \"4\": {\"5\": 103, \"6\": 78, \"13\": 68, \"9\": 45, \"7\": 89, \"10\": 86, \"15\": 103, \"11\": 67, \"14\": 73, \"4\": 89, \"3\": 82, \"2\": 74, \"1\": 84, \"0\": 94, \"8\": 40, \"12\": 25}}, \"ORACLE.run120\": {\"3\": {\"7\": 81, \"5\": 69, \"0\": 86, \"9\": 67, \"15\": 70, \"1\": 83, \"12\": 89, \"8\": 63, \"13\": 55, \"3\": 70, \"2\": 92, \"14\": 67, \"4\": 65, \"6\": 82, \"11\": 71, \"10\": 90}, \"15\": {\"15\": 81, \"6\": 50, \"10\": 51, \"12\": 83, \"13\": 98, \"7\": 71, \"5\": 92, \"0\": 81, \"4\": 59, \"1\": 83, \"2\": 87, \"14\": 53, \"11\": 90, \"9\": 88, \"3\": 78, \"8\": 55}, \"8\": {\"7\": 72, \"8\": 116, \"14\": 88, \"4\": 96, \"11\": 61, \"10\": 91, \"15\": 57, \"6\": 92, \"5\": 66, \"2\": 71, \"12\": 63, \"13\": 54, \"3\": 75, \"9\": 69, \"0\": 65, \"1\": 64}, \"4\": {\"4\": 107, \"6\": 98, \"10\": 100, \"9\": 87, \"2\": 66, \"3\": 68, \"5\": 68, \"7\": 66, \"8\": 93, \"0\": 61, \"12\": 63, \"14\": 92, \"1\": 58, \"13\": 67, \"11\": 60, \"15\": 46}, \"14\": {\"3\": 66, \"1\": 38, \"14\": 133, \"4\": 102, \"5\": 64, \"0\": 65, \"7\": 81, \"10\": 131, \"11\": 52, \"8\": 100, \"12\": 70, \"6\": 94, \"13\": 43, \"2\": 62, \"9\": 57, \"15\": 42}, \"0\": {\"6\": 75, \"1\": 68, \"5\": 67, \"9\": 83, \"0\": 69, \"11\": 81, \"13\": 80, \"8\": 77, \"14\": 56, \"2\": 83, \"4\": 76, \"7\": 73, \"12\": 77, \"10\": 61, \"15\": 90, \"3\": 84}, \"7\": {\"13\": 79, \"0\": 68, \"1\": 61, \"15\": 67, \"7\": 85, \"11\": 96, \"12\": 75, \"8\": 79, \"5\": 56, \"4\": 76, \"9\": 75, \"6\": 85, \"10\": 83, \"2\": 70, \"14\": 75, \"3\": 70}, \"6\": {\"8\": 100, \"5\": 70, \"1\": 56, \"4\": 90, \"13\": 49, \"3\": 81, \"7\": 72, \"11\": 51, \"10\": 101, \"6\": 86, \"12\": 67, \"2\": 75, \"14\": 121, \"9\": 66, \"0\": 60, \"15\": 55}, \"10\": {\"2\": 57, \"8\": 87, \"10\": 94, \"5\": 63, \"6\": 106, \"14\": 143, \"7\": 78, \"3\": 81, \"1\": 60, \"4\": 95, \"12\": 48, \"9\": 69, \"15\": 53, \"0\": 51, \"11\": 64, \"13\": 51}, \"5\": {\"2\": 74, \"5\": 67, \"11\": 84, \"3\": 86, \"6\": 71, \"12\": 82, \"9\": 82, \"13\": 77, \"10\": 74, \"4\": 61, \"1\": 68, \"7\": 71, \"15\": 86, \"0\": 77, \"8\": 76, \"14\": 64}, \"2\": {\"4\": 64, \"5\": 79, \"15\": 72, \"13\": 84, \"12\": 84, \"3\": 73, \"2\": 73, \"9\": 85, \"6\": 68, \"0\": 85, \"10\": 66, \"1\": 86, \"7\": 67, \"14\": 71, \"11\": 93, \"8\": 50}, \"12\": {\"9\": 76, \"14\": 47, \"8\": 64, \"4\": 62, \"7\": 82, \"15\": 87, \"12\": 86, \"5\": 82, \"11\": 85, \"10\": 72, \"13\": 82, \"2\": 85, \"3\": 85, \"1\": 87, \"6\": 62, \"0\": 56}, \"9\": {\"1\": 86, \"11\": 89, \"10\": 62, \"2\": 78, \"14\": 62, \"8\": 79, \"0\": 73, \"12\": 78, \"7\": 76, \"13\": 78, \"5\": 73, \"6\": 69, \"15\": 63, \"3\": 89, \"4\": 77, \"9\": 68}, \"1\": {\"9\": 82, \"11\": 92, \"2\": 77, \"5\": 77, \"15\": 83, \"6\": 62, \"12\": 82, \"1\": 88, \"8\": 58, \"3\": 97, \"7\": 66, \"4\": 72, \"13\": 88, \"0\": 81, \"14\": 40, \"10\": 55}, \"11\": {\"13\": 98, \"15\": 91, \"6\": 57, \"10\": 59, \"8\": 69, \"9\": 80, \"12\": 69, \"2\": 88, \"7\": 75, \"3\": 86, \"5\": 70, \"14\": 46, \"11\": 109, \"1\": 86, \"4\": 60, \"0\": 57}, \"13\": {\"14\": 46, \"6\": 46, \"0\": 89, \"13\": 91, \"2\": 93, \"11\": 90, \"15\": 89, \"7\": 75, \"1\": 92, \"9\": 85, \"12\": 100, \"4\": 55, \"5\": 78, \"10\": 53, \"3\": 78, \"8\": 40}}, \"ORACLE.run138\": {\"5\": {\"15\": 79, \"1\": 67, \"11\": 53, \"0\": 75, \"6\": 86, \"13\": 82, \"9\": 104, \"4\": 21, \"12\": 38, \"2\": 62, \"8\": 100, \"5\": 114, \"14\": 61, \"10\": 86, \"7\": 76, \"3\": 96}, \"8\": {\"14\": 76, \"6\": 89, \"2\": 50, \"15\": 90, \"9\": 89, \"8\": 98, \"11\": 51, \"7\": 94, \"1\": 65, \"5\": 111, \"4\": 30, \"3\": 83, \"13\": 56, \"0\": 81, \"12\": 54, \"10\": 83}, \"11\": {\"14\": 171, \"5\": 50, \"4\": 85, \"10\": 110, \"8\": 63, \"12\": 103, \"11\": 227, \"13\": 56, \"2\": 80, \"15\": 64, \"7\": 51, \"6\": 23, \"9\": 17, \"0\": 47, \"3\": 17, \"1\": 36}, \"1\": {\"5\": 85, \"13\": 155, \"2\": 136, \"6\": 116, \"9\": 90, \"15\": 117, \"8\": 66, \"1\": 168, \"10\": 54, \"14\": 47, \"3\": 51, \"0\": 44, \"12\": 11, \"11\": 31, \"7\": 28, \"4\": 1}, \"10\": {\"15\": 64, \"8\": 83, \"4\": 62, \"11\": 118, \"3\": 56, \"9\": 55, \"12\": 90, \"10\": 82, \"13\": 58, \"2\": 81, \"5\": 67, \"7\": 81, \"0\": 96, \"14\": 110, \"6\": 61, \"1\": 36}, \"15\": {\"6\": 99, \"2\": 112, \"11\": 64, \"1\": 98, \"15\": 97, \"0\": 73, \"3\": 56, \"14\": 85, \"12\": 20, \"13\": 105, \"10\": 68, \"8\": 98, \"4\": 8, \"5\": 89, \"7\": 54, \"9\": 74}, \"3\": {\"0\": 110, \"7\": 81, \"14\": 30, \"9\": 143, \"3\": 189, \"5\": 108, \"15\": 50, \"8\": 92, \"11\": 24, \"6\": 110, \"12\": 38, \"1\": 44, \"13\": 65, \"10\": 55, \"2\": 33, \"4\": 28}, \"7\": {\"15\": 61, \"10\": 103, \"0\": 119, \"6\": 50, \"8\": 103, \"12\": 105, \"11\": 66, \"13\": 55, \"3\": 89, \"9\": 70, \"2\": 35, \"7\": 96, \"14\": 71, \"5\": 92, \"1\": 32, \"4\": 53}, \"4\": {\"12\": 309, \"10\": 56, \"5\": 19, \"4\": 438, \"14\": 67, \"11\": 108, \"3\": 19, \"7\": 79, \"0\": 46, \"2\": 9, \"8\": 23, \"13\": 2, \"15\": 13, \"6\": 4, \"1\": 4, \"9\": 4}, \"14\": {\"8\": 79, \"13\": 63, \"4\": 44, \"12\": 99, \"14\": 158, \"3\": 22, \"7\": 52, \"10\": 126, \"11\": 179, \"2\": 86, \"9\": 31, \"15\": 62, \"0\": 64, \"1\": 37, \"5\": 65, \"6\": 33}, \"9\": {\"15\": 98, \"8\": 79, \"2\": 71, \"13\": 96, \"6\": 140, \"0\": 81, \"5\": 100, \"11\": 17, \"3\": 109, \"9\": 164, \"14\": 30, \"7\": 64, \"10\": 52, \"1\": 82, \"4\": 7, \"12\": 10}, \"12\": {\"4\": 278, \"10\": 89, \"11\": 109, \"5\": 35, \"14\": 105, \"7\": 111, \"12\": 285, \"8\": 54, \"0\": 51, \"15\": 18, \"1\": 6, \"2\": 16, \"6\": 11, \"9\": 8, \"13\": 11, \"3\": 13}, \"6\": {\"13\": 90, \"1\": 101, \"2\": 63, \"14\": 37, \"0\": 68, \"9\": 163, \"10\": 58, \"11\": 26, \"4\": 8, \"6\": 134, \"15\": 84, \"3\": 102, \"5\": 109, \"8\": 89, \"12\": 14, \"7\": 54}, \"2\": {\"6\": 79, \"2\": 166, \"9\": 60, \"11\": 88, \"14\": 85, \"10\": 86, \"8\": 53, \"13\": 128, \"4\": 12, \"5\": 54, \"0\": 47, \"7\": 44, \"15\": 120, \"1\": 126, \"3\": 34, \"12\": 18}, \"0\": {\"9\": 75, \"0\": 115, \"7\": 129, \"10\": 77, \"3\": 107, \"15\": 64, \"11\": 55, \"6\": 76, \"14\": 53, \"12\": 87, \"1\": 46, \"8\": 91, \"5\": 78, \"13\": 56, \"2\": 39, \"4\": 52}, \"13\": {\"15\": 94, \"2\": 137, \"6\": 102, \"5\": 77, \"0\": 52, \"8\": 83, \"9\": 91, \"13\": 140, \"14\": 68, \"1\": 125, \"3\": 47, \"7\": 50, \"12\": 16, \"10\": 67, \"11\": 44, \"4\": 7}}, \"ORACLE.run18\": {\"9\": {\"9\": 688, \"0\": 69, \"7\": 29, \"1\": 21, \"13\": 66, \"3\": 5, \"10\": 69, \"11\": 20, \"5\": 80, \"6\": 25, \"4\": 42, \"14\": 59, \"2\": 13, \"15\": 5, \"8\": 6, \"12\": 3}, \"10\": {\"9\": 42, \"13\": 110, \"0\": 86, \"12\": 35, \"1\": 85, \"7\": 73, \"5\": 107, \"2\": 63, \"15\": 44, \"11\": 67, \"4\": 88, \"6\": 87, \"8\": 61, \"10\": 100, \"14\": 89, \"3\": 63}, \"13\": {\"11\": 77, \"13\": 91, \"0\": 96, \"4\": 92, \"1\": 68, \"15\": 47, \"5\": 90, \"7\": 77, \"10\": 98, \"8\": 73, \"3\": 55, \"6\": 97, \"14\": 89, \"12\": 61, \"2\": 64, \"9\": 25}, \"0\": {\"1\": 74, \"13\": 93, \"10\": 102, \"0\": 102, \"14\": 91, \"6\": 87, \"11\": 71, \"15\": 59, \"5\": 67, \"7\": 95, \"4\": 84, \"12\": 47, \"2\": 87, \"9\": 38, \"8\": 47, \"3\": 56}, \"1\": {\"11\": 115, \"8\": 86, \"15\": 74, \"0\": 67, \"1\": 107, \"5\": 86, \"2\": 61, \"4\": 78, \"6\": 84, \"12\": 79, \"7\": 65, \"13\": 80, \"3\": 63, \"10\": 70, \"14\": 75, \"9\": 10}, \"15\": {\"12\": 117, \"4\": 67, \"10\": 47, \"11\": 99, \"8\": 121, \"0\": 65, \"6\": 80, \"2\": 80, \"7\": 66, \"15\": 120, \"13\": 67, \"1\": 67, \"3\": 113, \"14\": 54, \"5\": 36, \"9\": 1}, \"5\": {\"13\": 98, \"6\": 84, \"5\": 99, \"3\": 48, \"14\": 86, \"11\": 93, \"15\": 55, \"8\": 66, \"1\": 95, \"10\": 108, \"0\": 82, \"2\": 45, \"7\": 75, \"4\": 72, \"9\": 49, \"12\": 45}, \"3\": {\"14\": 56, \"11\": 64, \"2\": 107, \"15\": 119, \"3\": 106, \"13\": 64, \"12\": 112, \"10\": 62, \"4\": 77, \"6\": 90, \"0\": 63, \"8\": 86, \"1\": 71, \"7\": 85, \"5\": 36, \"9\": 2}, \"6\": {\"6\": 88, \"1\": 97, \"10\": 73, \"5\": 61, \"15\": 68, \"4\": 92, \"13\": 71, \"3\": 81, \"7\": 91, \"12\": 70, \"8\": 79, \"0\": 77, \"2\": 72, \"14\": 80, \"11\": 84, \"9\": 16}, \"11\": {\"8\": 95, \"1\": 79, \"15\": 89, \"5\": 89, \"3\": 87, \"2\": 76, \"10\": 75, \"6\": 81, \"7\": 67, \"11\": 104, \"4\": 57, \"14\": 86, \"12\": 87, \"0\": 61, \"9\": 13, \"13\": 54}, \"8\": {\"13\": 55, \"3\": 108, \"8\": 110, \"11\": 101, \"7\": 49, \"1\": 92, \"14\": 79, \"4\": 62, \"15\": 109, \"12\": 113, \"2\": 84, \"6\": 76, \"5\": 57, \"10\": 49, \"0\": 55, \"9\": 1}, \"4\": {\"14\": 94, \"6\": 87, \"4\": 79, \"13\": 77, \"3\": 75, \"9\": 31, \"15\": 63, \"12\": 62, \"10\": 69, \"11\": 71, \"8\": 69, \"1\": 80, \"2\": 85, \"0\": 89, \"7\": 77, \"5\": 92}, \"12\": {\"4\": 59, \"3\": 100, \"1\": 73, \"8\": 128, \"12\": 135, \"15\": 126, \"13\": 48, \"11\": 102, \"5\": 36, \"0\": 56, \"2\": 78, \"6\": 85, \"14\": 59, \"10\": 43, \"7\": 72}, \"14\": {\"0\": 96, \"11\": 80, \"2\": 83, \"10\": 92, \"4\": 91, \"1\": 81, \"3\": 67, \"7\": 77, \"12\": 44, \"6\": 81, \"14\": 86, \"15\": 59, \"9\": 29, \"13\": 82, \"5\": 97, \"8\": 55}, \"2\": {\"12\": 91, \"4\": 83, \"3\": 83, \"6\": 92, \"13\": 69, \"0\": 87, \"2\": 107, \"15\": 93, \"14\": 60, \"9\": 10, \"10\": 67, \"7\": 86, \"8\": 71, \"1\": 63, \"11\": 83, \"5\": 55}, \"7\": {\"2\": 88, \"14\": 88, \"4\": 88, \"7\": 80, \"6\": 80, \"13\": 75, \"11\": 89, \"1\": 64, \"3\": 84, \"10\": 81, \"5\": 66, \"15\": 61, \"0\": 76, \"12\": 77, \"8\": 83, \"9\": 20}}, \"ORACLE.run150\": {\"7\": {\"13\": 112, \"14\": 69, \"15\": 76, \"10\": 74, \"6\": 105, \"0\": 73, \"7\": 98, \"4\": 90, \"11\": 67, \"9\": 56, \"1\": 84, \"3\": 47, \"12\": 50, \"5\": 114, \"2\": 55, \"8\": 30}, \"3\": {\"3\": 285, \"2\": 105, \"0\": 100, \"4\": 27, \"8\": 194, \"10\": 158, \"6\": 43, \"5\": 63, \"13\": 58, \"14\": 25, \"7\": 63, \"1\": 26, \"15\": 17, \"12\": 16, \"9\": 7, \"11\": 13}, \"8\": {\"2\": 153, \"8\": 214, \"0\": 140, \"3\": 201, \"5\": 43, \"13\": 50, \"7\": 49, \"12\": 29, \"10\": 145, \"14\": 41, \"6\": 33, \"4\": 25, \"1\": 33, \"9\": 15, \"15\": 15, \"11\": 14}, \"2\": {\"9\": 44, \"11\": 45, \"14\": 81, \"13\": 46, \"5\": 54, \"8\": 142, \"3\": 97, \"12\": 82, \"4\": 35, \"2\": 142, \"6\": 44, \"10\": 122, \"0\": 144, \"15\": 29, \"1\": 40, \"7\": 53}, \"14\": {\"11\": 64, \"7\": 72, \"9\": 91, \"2\": 91, \"5\": 69, \"4\": 74, \"12\": 118, \"14\": 106, \"3\": 22, \"6\": 85, \"0\": 84, \"1\": 73, \"13\": 80, \"15\": 51, \"8\": 51, \"10\": 69}, \"4\": {\"9\": 90, \"14\": 71, \"8\": 22, \"4\": 126, \"10\": 43, \"15\": 91, \"5\": 101, \"6\": 91, \"11\": 112, \"13\": 98, \"3\": 21, \"0\": 41, \"12\": 55, \"1\": 97, \"7\": 107, \"2\": 34}, \"6\": {\"7\": 112, \"15\": 89, \"13\": 99, \"2\": 31, \"14\": 76, \"0\": 41, \"6\": 124, \"1\": 99, \"10\": 58, \"4\": 108, \"5\": 93, \"9\": 81, \"11\": 75, \"8\": 28, \"12\": 63, \"3\": 23}, \"15\": {\"4\": 113, \"5\": 92, \"1\": 130, \"11\": 115, \"10\": 41, \"15\": 138, \"6\": 115, \"13\": 82, \"12\": 60, \"7\": 70, \"14\": 60, \"9\": 100, \"3\": 17, \"0\": 27, \"2\": 26, \"8\": 14}, \"10\": {\"13\": 82, \"14\": 71, \"2\": 86, \"3\": 125, \"4\": 52, \"10\": 132, \"8\": 116, \"0\": 111, \"12\": 58, \"7\": 102, \"6\": 40, \"11\": 36, \"5\": 60, \"15\": 38, \"1\": 59, \"9\": 32}, \"11\": {\"13\": 77, \"11\": 117, \"4\": 107, \"9\": 137, \"12\": 94, \"0\": 22, \"1\": 105, \"2\": 35, \"6\": 91, \"15\": 113, \"14\": 90, \"5\": 84, \"8\": 11, \"7\": 79, \"3\": 10, \"10\": 28}, \"13\": {\"4\": 99, \"13\": 99, \"9\": 60, \"1\": 85, \"10\": 81, \"3\": 48, \"5\": 107, \"7\": 113, \"15\": 94, \"14\": 84, \"12\": 43, \"6\": 88, \"0\": 48, \"8\": 43, \"11\": 71, \"2\": 37}, \"9\": {\"0\": 30, \"12\": 114, \"5\": 84, \"15\": 128, \"2\": 33, \"10\": 27, \"7\": 60, \"14\": 86, \"13\": 79, \"6\": 92, \"9\": 109, \"4\": 103, \"1\": 97, \"3\": 18, \"11\": 128, \"8\": 12}, \"0\": {\"10\": 137, \"11\": 39, \"14\": 70, \"0\": 125, \"9\": 39, \"2\": 126, \"3\": 117, \"8\": 130, \"13\": 69, \"4\": 35, \"7\": 62, \"12\": 60, \"1\": 58, \"6\": 47, \"5\": 50, \"15\": 36}, \"1\": {\"14\": 89, \"4\": 104, \"6\": 106, \"13\": 93, \"0\": 46, \"15\": 102, \"11\": 86, \"3\": 26, \"5\": 94, \"12\": 53, \"1\": 105, \"7\": 89, \"2\": 34, \"9\": 90, \"10\": 63, \"8\": 20}, \"12\": {\"3\": 17, \"2\": 77, \"4\": 69, \"15\": 71, \"5\": 48, \"9\": 102, \"7\": 60, \"13\": 71, \"12\": 171, \"6\": 68, \"11\": 107, \"1\": 74, \"14\": 117, \"0\": 66, \"10\": 50, \"8\": 32}, \"5\": {\"15\": 107, \"2\": 45, \"5\": 107, \"10\": 66, \"0\": 42, \"7\": 103, \"4\": 85, \"13\": 111, \"12\": 46, \"6\": 108, \"11\": 82, \"14\": 65, \"1\": 106, \"9\": 49, \"8\": 39, \"3\": 39}}, \"ORACLE.run132\": {\"8\": {\"10\": 9, \"15\": 100, \"11\": 100, \"5\": 132, \"0\": 101, \"7\": 97, \"4\": 91, \"13\": 116, \"3\": 118, \"12\": 34, \"9\": 38, \"8\": 112, \"14\": 71, \"2\": 79, \"6\": 1, \"1\": 1}, \"14\": {\"7\": 99, \"13\": 80, \"0\": 123, \"12\": 37, \"14\": 140, \"5\": 100, \"8\": 81, \"9\": 60, \"11\": 140, \"3\": 82, \"4\": 117, \"2\": 103, \"15\": 31, \"10\": 6, \"6\": 1}, \"2\": {\"11\": 99, \"14\": 127, \"2\": 125, \"13\": 84, \"5\": 102, \"0\": 90, \"3\": 67, \"4\": 117, \"10\": 28, \"7\": 108, \"8\": 86, \"9\": 88, \"12\": 51, \"15\": 18, \"6\": 7, \"1\": 3}, \"0\": {\"9\": 69, \"2\": 115, \"0\": 105, \"8\": 103, \"4\": 110, \"5\": 100, \"11\": 111, \"15\": 39, \"13\": 103, \"7\": 115, \"14\": 107, \"3\": 69, \"12\": 44, \"10\": 8, \"6\": 2}, \"1\": {\"6\": 305, \"1\": 454, \"10\": 287, \"12\": 90, \"9\": 34, \"7\": 1, \"14\": 3, \"2\": 8, \"8\": 3, \"13\": 3, \"0\": 3, \"4\": 2, \"11\": 4, \"15\": 2, \"5\": 1}, \"10\": {\"1\": 234, \"6\": 172, \"10\": 359, \"12\": 215, \"9\": 104, \"15\": 7, \"14\": 10, \"13\": 11, \"4\": 10, \"8\": 10, \"11\": 9, \"2\": 22, \"5\": 8, \"7\": 7, \"3\": 4, \"0\": 18}, \"11\": {\"7\": 121, \"4\": 101, \"14\": 133, \"0\": 125, \"11\": 131, \"8\": 95, \"5\": 85, \"3\": 70, \"12\": 36, \"9\": 54, \"13\": 90, \"2\": 113, \"15\": 34, \"1\": 1, \"10\": 6, \"6\": 5}, \"5\": {\"0\": 88, \"13\": 118, \"2\": 86, \"15\": 61, \"14\": 124, \"5\": 105, \"8\": 103, \"3\": 88, \"10\": 8, \"9\": 37, \"7\": 112, \"11\": 111, \"4\": 115, \"12\": 38, \"6\": 3, \"1\": 3}, \"15\": {\"13\": 111, \"15\": 403, \"8\": 136, \"4\": 47, \"3\": 190, \"12\": 15, \"5\": 75, \"0\": 50, \"14\": 43, \"11\": 49, \"7\": 44, \"2\": 24, \"10\": 6, \"9\": 7}, \"3\": {\"11\": 76, \"3\": 152, \"2\": 69, \"5\": 118, \"15\": 136, \"13\": 133, \"4\": 84, \"7\": 93, \"8\": 119, \"14\": 81, \"12\": 20, \"0\": 84, \"9\": 28, \"10\": 7}, \"12\": {\"7\": 42, \"9\": 171, \"12\": 239, \"4\": 61, \"5\": 38, \"8\": 50, \"6\": 77, \"10\": 159, \"2\": 75, \"14\": 42, \"3\": 29, \"1\": 57, \"0\": 52, \"13\": 57, \"11\": 39, \"15\": 12}, \"7\": {\"0\": 110, \"7\": 104, \"5\": 116, \"9\": 60, \"11\": 111, \"4\": 121, \"12\": 44, \"3\": 80, \"15\": 31, \"14\": 107, \"13\": 90, \"2\": 114, \"8\": 102, \"10\": 5, \"6\": 4, \"1\": 1}, \"13\": {\"9\": 58, \"0\": 104, \"15\": 90, \"13\": 128, \"3\": 114, \"5\": 96, \"8\": 102, \"4\": 115, \"10\": 13, \"7\": 90, \"12\": 38, \"2\": 72, \"11\": 85, \"14\": 95}, \"6\": {\"12\": 88, \"2\": 18, \"6\": 419, \"0\": 9, \"1\": 342, \"10\": 206, \"4\": 7, \"9\": 79, \"8\": 4, \"15\": 1, \"7\": 5, \"11\": 7, \"14\": 8, \"3\": 2, \"13\": 2, \"5\": 3}, \"4\": {\"11\": 91, \"7\": 113, \"9\": 77, \"4\": 109, \"5\": 98, \"2\": 129, \"8\": 104, \"0\": 106, \"14\": 94, \"10\": 15, \"3\": 74, \"13\": 89, \"12\": 51, \"15\": 46, \"1\": 3, \"6\": 1}, \"9\": {\"12\": 181, \"10\": 103, \"9\": 169, \"2\": 105, \"5\": 53, \"4\": 72, \"6\": 60, \"0\": 68, \"7\": 63, \"11\": 63, \"1\": 36, \"14\": 60, \"13\": 67, \"3\": 35, \"8\": 51, \"15\": 14}}, \"ORACLE.run126\": {\"4\": {\"14\": 107, \"12\": 40, \"8\": 100, \"7\": 92, \"6\": 68, \"13\": 42, \"1\": 111, \"10\": 87, \"4\": 98, \"3\": 84, \"11\": 16, \"5\": 53, \"9\": 67, \"0\": 97, \"2\": 75, \"15\": 63}, \"12\": {\"13\": 92, \"12\": 129, \"1\": 54, \"6\": 77, \"11\": 118, \"4\": 55, \"9\": 76, \"8\": 81, \"0\": 59, \"2\": 70, \"5\": 81, \"15\": 78, \"3\": 57, \"14\": 54, \"10\": 72, \"7\": 47}, \"10\": {\"9\": 65, \"7\": 71, \"1\": 99, \"8\": 79, \"10\": 81, \"4\": 110, \"12\": 72, \"0\": 83, \"13\": 58, \"15\": 81, \"6\": 76, \"3\": 67, \"5\": 57, \"14\": 106, \"2\": 71, \"11\": 24}, \"0\": {\"7\": 88, \"9\": 61, \"10\": 90, \"0\": 77, \"5\": 56, \"1\": 111, \"4\": 100, \"8\": 84, \"13\": 41, \"3\": 84, \"6\": 97, \"14\": 107, \"11\": 16, \"2\": 76, \"15\": 65, \"12\": 47}, \"13\": {\"15\": 74, \"2\": 88, \"13\": 104, \"4\": 48, \"12\": 99, \"8\": 66, \"5\": 109, \"11\": 107, \"3\": 75, \"6\": 79, \"10\": 72, \"0\": 58, \"7\": 61, \"9\": 71, \"1\": 54, \"14\": 35}, \"9\": {\"3\": 73, \"2\": 93, \"14\": 64, \"9\": 96, \"13\": 87, \"7\": 77, \"15\": 78, \"5\": 94, \"8\": 73, \"6\": 82, \"12\": 70, \"4\": 64, \"1\": 59, \"0\": 70, \"10\": 73, \"11\": 47}, \"3\": {\"3\": 99, \"4\": 83, \"5\": 68, \"9\": 84, \"7\": 86, \"10\": 85, \"1\": 84, \"15\": 71, \"6\": 79, \"0\": 67, \"12\": 55, \"13\": 65, \"2\": 90, \"14\": 81, \"8\": 79, \"11\": 24}, \"2\": {\"4\": 72, \"15\": 81, \"5\": 75, \"12\": 71, \"1\": 81, \"0\": 71, \"2\": 91, \"10\": 68, \"14\": 72, \"11\": 25, \"13\": 79, \"8\": 84, \"7\": 83, \"6\": 87, \"9\": 87, \"3\": 73}, \"5\": {\"12\": 77, \"5\": 102, \"10\": 52, \"3\": 88, \"13\": 107, \"15\": 68, \"2\": 85, \"11\": 85, \"6\": 85, \"4\": 63, \"9\": 104, \"1\": 56, \"14\": 43, \"8\": 60, \"0\": 50, \"7\": 75}, \"14\": {\"13\": 40, \"9\": 80, \"0\": 113, \"8\": 113, \"1\": 96, \"10\": 89, \"3\": 71, \"6\": 85, \"5\": 50, \"12\": 33, \"7\": 99, \"4\": 96, \"14\": 109, \"2\": 57, \"15\": 58, \"11\": 11}, \"8\": {\"4\": 104, \"7\": 79, \"14\": 83, \"5\": 76, \"2\": 61, \"12\": 54, \"13\": 76, \"3\": 76, \"8\": 89, \"1\": 99, \"15\": 84, \"10\": 74, \"0\": 66, \"9\": 80, \"6\": 75, \"11\": 24}, \"7\": {\"8\": 102, \"14\": 81, \"2\": 81, \"3\": 89, \"10\": 80, \"0\": 96, \"1\": 98, \"6\": 74, \"9\": 72, \"5\": 76, \"4\": 90, \"15\": 72, \"12\": 48, \"7\": 73, \"13\": 56, \"11\": 12}, \"6\": {\"4\": 68, \"12\": 94, \"11\": 44, \"6\": 79, \"15\": 96, \"2\": 72, \"8\": 76, \"13\": 78, \"9\": 65, \"5\": 73, \"0\": 76, \"1\": 82, \"10\": 83, \"14\": 74, \"7\": 66, \"3\": 74}, \"11\": {\"5\": 93, \"3\": 34, \"11\": 387, \"13\": 128, \"4\": 18, \"9\": 75, \"12\": 143, \"15\": 59, \"8\": 38, \"6\": 67, \"7\": 21, \"1\": 14, \"10\": 33, \"2\": 51, \"0\": 26, \"14\": 13}, \"15\": {\"9\": 85, \"13\": 79, \"1\": 64, \"11\": 47, \"5\": 86, \"8\": 76, \"6\": 77, \"10\": 78, \"2\": 76, \"12\": 82, \"14\": 67, \"3\": 73, \"15\": 81, \"7\": 83, \"4\": 66, \"0\": 80}, \"1\": {\"4\": 106, \"0\": 87, \"15\": 55, \"10\": 93, \"7\": 92, \"9\": 71, \"12\": 58, \"14\": 115, \"1\": 113, \"8\": 98, \"3\": 80, \"6\": 54, \"2\": 65, \"11\": 13, \"5\": 57, \"13\": 43}}, \"ORACLE.run144\": {\"12\": {\"3\": 128, \"9\": 95, \"7\": 100, \"15\": 37, \"13\": 76, \"11\": 60, \"12\": 130, \"4\": 66, \"1\": 124, \"14\": 71, \"2\": 82, \"10\": 112, \"5\": 26, \"6\": 71, \"0\": 17, \"8\": 5}, \"7\": {\"9\": 121, \"7\": 110, \"4\": 60, \"2\": 106, \"15\": 17, \"12\": 96, \"13\": 110, \"10\": 112, \"6\": 121, \"1\": 89, \"11\": 87, \"14\": 54, \"3\": 83, \"5\": 23, \"0\": 8, \"8\": 3}, \"5\": {\"13\": 32, \"4\": 134, \"0\": 176, \"15\": 144, \"3\": 59, \"9\": 49, \"8\": 121, \"12\": 23, \"5\": 167, \"11\": 17, \"1\": 33, \"2\": 25, \"14\": 149, \"7\": 40, \"6\": 14, \"10\": 17}, \"15\": {\"14\": 143, \"15\": 199, \"12\": 34, \"8\": 188, \"5\": 151, \"13\": 20, \"0\": 189, \"2\": 18, \"4\": 101, \"3\": 49, \"7\": 17, \"9\": 21, \"6\": 8, \"1\": 41, \"10\": 17, \"11\": 4}, \"8\": {\"8\": 324, \"5\": 143, \"0\": 265, \"15\": 201, \"4\": 60, \"14\": 112, \"3\": 29, \"12\": 12, \"13\": 8, \"9\": 9, \"1\": 13, \"7\": 9, \"2\": 4, \"10\": 5, \"6\": 2, \"11\": 4}, \"2\": {\"11\": 120, \"1\": 82, \"12\": 99, \"6\": 125, \"2\": 123, \"10\": 106, \"9\": 109, \"13\": 132, \"7\": 118, \"4\": 47, \"5\": 10, \"3\": 75, \"14\": 38, \"15\": 9, \"8\": 3, \"0\": 4}, \"13\": {\"4\": 52, \"3\": 62, \"12\": 68, \"1\": 73, \"11\": 140, \"6\": 144, \"14\": 41, \"10\": 79, \"13\": 126, \"9\": 114, \"7\": 121, \"2\": 129, \"5\": 28, \"8\": 3, \"0\": 7, \"15\": 13}, \"4\": {\"8\": 34, \"10\": 42, \"4\": 139, \"14\": 151, \"12\": 61, \"5\": 115, \"9\": 55, \"7\": 74, \"6\": 47, \"0\": 66, \"1\": 79, \"3\": 104, \"13\": 60, \"2\": 48, \"15\": 89, \"11\": 36}, \"0\": {\"5\": 160, \"15\": 182, \"4\": 95, \"0\": 256, \"8\": 253, \"9\": 27, \"14\": 112, \"10\": 7, \"3\": 41, \"7\": 10, \"6\": 7, \"1\": 20, \"13\": 8, \"12\": 15, \"2\": 5, \"11\": 2}, \"6\": {\"11\": 185, \"6\": 188, \"7\": 119, \"2\": 127, \"10\": 111, \"1\": 53, \"15\": 8, \"9\": 113, \"12\": 53, \"3\": 47, \"13\": 129, \"14\": 16, \"4\": 32, \"5\": 14, \"0\": 5}, \"9\": {\"12\": 104, \"7\": 104, \"15\": 19, \"3\": 75, \"13\": 93, \"1\": 93, \"14\": 64, \"9\": 112, \"11\": 100, \"10\": 93, \"4\": 73, \"2\": 101, \"6\": 128, \"8\": 5, \"5\": 25, \"0\": 11}, \"11\": {\"2\": 115, \"11\": 224, \"6\": 178, \"9\": 100, \"7\": 117, \"13\": 131, \"3\": 40, \"4\": 44, \"12\": 61, \"1\": 48, \"10\": 82, \"5\": 20, \"14\": 30, \"8\": 2, \"15\": 7, \"0\": 1}, \"10\": {\"4\": 49, \"9\": 100, \"6\": 113, \"7\": 112, \"2\": 120, \"10\": 121, \"12\": 114, \"11\": 102, \"13\": 104, \"3\": 82, \"1\": 109, \"15\": 19, \"5\": 9, \"14\": 36, \"0\": 6, \"8\": 4}, \"14\": {\"3\": 79, \"4\": 136, \"1\": 70, \"0\": 104, \"5\": 146, \"14\": 178, \"12\": 45, \"13\": 50, \"6\": 26, \"2\": 38, \"10\": 26, \"7\": 32, \"8\": 71, \"15\": 122, \"9\": 51, \"11\": 26}, \"1\": {\"9\": 106, \"13\": 76, \"2\": 110, \"11\": 58, \"12\": 126, \"10\": 101, \"3\": 104, \"7\": 87, \"6\": 69, \"4\": 82, \"1\": 133, \"15\": 30, \"14\": 62, \"0\": 23, \"5\": 24, \"8\": 9}, \"3\": {\"12\": 112, \"4\": 101, \"3\": 149, \"14\": 78, \"13\": 56, \"7\": 87, \"11\": 41, \"2\": 85, \"15\": 58, \"1\": 116, \"8\": 21, \"6\": 39, \"5\": 58, \"10\": 85, \"0\": 29, \"9\": 85}}}, \"per_domain_accuracy\": {\"Wisig_3\": {\"accuracy\": 0.9684758771929824, \"source?\": true}, \"Wisig_4\": {\"accuracy\": 0.9569187242798354, \"source?\": true}, \"Wisig_1\": {\"accuracy\": 0.96875, \"source?\": true}, \"Wisig_2\": {\"accuracy\": 0.9533876050420168, \"source?\": true}, \"ORACLE.run114\": {\"accuracy\": 0.10296875, \"source?\": false}, \"ORACLE.run120\": {\"accuracy\": 0.07411458333333333, \"source?\": false}, \"ORACLE.run138\": {\"accuracy\": 0.13911458333333335, \"source?\": false}, \"ORACLE.run18\": {\"accuracy\": 0.1146875, \"source?\": false}, \"ORACLE.run150\": {\"accuracy\": 0.11447916666666667, \"source?\": false}, \"ORACLE.run132\": {\"accuracy\": 0.16947916666666665, \"source?\": false}, \"ORACLE.run126\": {\"accuracy\": 0.09416666666666666, \"source?\": false}, \"ORACLE.run144\": {\"accuracy\": 0.13953125, \"source?\": false}}}, \"history\": {\"epoch_indices\": [1, 2, 3, 4, 5], \"train_label_loss\": [0.1938738649240638, 0.12507039258720276, 0.1000052752293235, 0.08488315792571376, 0.07176989001315166], \"source_val_label_loss\": [0.17195343971252441, 0.1408075988292694, 0.12198544293642044, 0.12514454126358032, 0.12615354359149933], \"target_val_label_loss\": [2.6868350505828857, 2.679959535598755, 2.738049030303955, 2.751021385192871, 2.848745584487915], \"source_val_acc_label\": [0.961765095338983, 0.9677899894067796, 0.9720603813559322, 0.9721927966101694, 0.9727886652542372], \"target_val_acc_label\": [0.11856770833333333, 0.11721354166666667, 0.10557942708333333, 0.10473958333333333, 0.09142578125]}, \"dataset_metrics\": {\"source\": {\"train\": {\"n_unique_x\": 189012, \"n_unique_y\": 130, \"n_batch/episode\": 6831}, \"val\": {\"n_unique_x\": 40068, \"n_unique_y\": 130, \"n_batch/episode\": 944}, \"test\": {\"n_unique_x\": 40816, \"n_unique_y\": 130, \"n_batch/episode\": 969}}, \"target\": {\"train\": {\"n_unique_x\": 896000, \"n_unique_y\": 16, \"n_batch/episode\": 33600}, \"val\": {\"n_unique_x\": 192000, \"n_unique_y\": 16, \"n_batch/episode\": 4800}, \"test\": {\"n_unique_x\": 192000, \"n_unique_y\": 16, \"n_batch/episode\": 4800}}}}'"
      ]
     },
     "execution_count": 29,
     "metadata": {},
     "output_type": "execute_result"
    }
   ],
   "source": [
    "json.dumps(experiment)"
   ]
  }
 ],
 "metadata": {
  "celltoolbar": "Tags",
  "kernelspec": {
   "display_name": "Python 3 (ipykernel)",
   "language": "python",
   "name": "python3"
  },
  "language_info": {
   "codemirror_mode": {
    "name": "ipython",
    "version": 3
   },
   "file_extension": ".py",
   "mimetype": "text/x-python",
   "name": "python",
   "nbconvert_exporter": "python",
   "pygments_lexer": "ipython3",
   "version": "3.8.12"
  },
  "papermill": {
   "default_parameters": {},
   "duration": 2176.291854,
   "end_time": "2022-03-23T04:19:31.324136",
   "environment_variables": {},
   "exception": null,
   "input_path": "/root/csc500-main/csc500-notebooks/templates/tl_ptn_template.ipynb",
   "output_path": "trial.ipynb",
   "parameters": {
    "parameters": {
     "BEST_MODEL_PATH": "./best_model.pth",
     "NUM_LOGS_PER_EPOCH": 10,
     "criteria_for_best": "target_accuracy",
     "dataset_seed": 1337,
     "datasets": [
      {
       "domain_prefix": "Wisig_",
       "domains": [
        1,
        2,
        3,
        4
       ],
       "episode_transforms": [],
       "labels": [
        "1-10",
        "1-12",
        "1-14",
        "1-16",
        "1-18",
        "1-19",
        "1-8",
        "10-11",
        "10-17",
        "10-4",
        "10-7",
        "11-1",
        "11-10",
        "11-19",
        "11-20",
        "11-4",
        "11-7",
        "12-19",
        "12-20",
        "12-7",
        "13-14",
        "13-18",
        "13-19",
        "13-20",
        "13-3",
        "13-7",
        "14-10",
        "14-11",
        "14-12",
        "14-13",
        "14-14",
        "14-19",
        "14-20",
        "14-7",
        "14-8",
        "14-9",
        "15-1",
        "15-19",
        "15-6",
        "16-1",
        "16-16",
        "16-19",
        "16-20",
        "17-10",
        "17-11",
        "18-1",
        "18-10",
        "18-11",
        "18-12",
        "18-13",
        "18-14",
        "18-15",
        "18-16",
        "18-17",
        "18-19",
        "18-2",
        "18-20",
        "18-4",
        "18-5",
        "18-7",
        "18-8",
        "18-9",
        "19-1",
        "19-10",
        "19-11",
        "19-12",
        "19-13",
        "19-14",
        "19-15",
        "19-19",
        "19-2",
        "19-20",
        "19-3",
        "19-4",
        "19-6",
        "19-7",
        "19-8",
        "19-9",
        "2-1",
        "2-13",
        "2-15",
        "2-3",
        "2-4",
        "2-5",
        "2-6",
        "2-7",
        "2-8",
        "20-1",
        "20-12",
        "20-14",
        "20-15",
        "20-16",
        "20-18",
        "20-19",
        "20-20",
        "20-3",
        "20-4",
        "20-5",
        "20-7",
        "20-8",
        "3-1",
        "3-13",
        "3-18",
        "3-2",
        "3-8",
        "4-1",
        "4-10",
        "4-11",
        "5-1",
        "5-5",
        "6-1",
        "6-15",
        "6-6",
        "7-10",
        "7-11",
        "7-12",
        "7-13",
        "7-14",
        "7-7",
        "7-8",
        "7-9",
        "8-1",
        "8-13",
        "8-14",
        "8-18",
        "8-20",
        "8-3",
        "8-8",
        "9-1",
        "9-7"
       ],
       "num_examples_per_domain_per_label": -1,
       "pickle_path": "/root/csc500-main/datasets/wisig.node3-19.stratified_ds.2022A.pkl",
       "source_or_target_dataset": "source",
       "x_transforms": [
        "unit_mag"
       ]
      },
      {
       "domain_prefix": "ORACLE.run1",
       "domains": [
        32,
        38,
        8,
        44,
        14,
        50,
        20,
        26
       ],
       "episode_transforms": [],
       "labels": [
        "3123D52",
        "3123D65",
        "3123D79",
        "3123D80",
        "3123D54",
        "3123D70",
        "3123D7B",
        "3123D89",
        "3123D58",
        "3123D76",
        "3123D7D",
        "3123EFE",
        "3123D64",
        "3123D78",
        "3123D7E",
        "3124E4A"
       ],
       "num_examples_per_domain_per_label": 10000,
       "pickle_path": "/root/csc500-main/datasets/oracle.Run1_10kExamples_stratified_ds.2022A.pkl",
       "source_or_target_dataset": "target",
       "x_transforms": [
        "unit_mag"
       ]
      }
     ],
     "device": "cuda",
     "experiment_name": "tl_1v2:wisig-oracle.run1",
     "lr": 0.0001,
     "n_epoch": 50,
     "n_query": 2,
     "n_shot": 3,
     "n_way": 16,
     "patience": 3,
     "seed": 1337,
     "test_k_factor": 2,
     "torch_default_dtype": "torch.float32",
     "train_k_factor": 3,
     "val_k_factor": 2,
     "x_net": [
      {
       "class": "nnReshape",
       "kargs": {
        "shape": [
         -1,
         1,
         2,
         256
        ]
       }
      },
      {
       "class": "Conv2d",
       "kargs": {
        "bias": false,
        "in_channels": 1,
        "kernel_size": [
         1,
         7
        ],
        "out_channels": 256,
        "padding": [
         0,
         3
        ]
       }
      },
      {
       "class": "ReLU",
       "kargs": {
        "inplace": true
       }
      },
      {
       "class": "BatchNorm2d",
       "kargs": {
        "num_features": 256
       }
      },
      {
       "class": "Conv2d",
       "kargs": {
        "bias": true,
        "in_channels": 256,
        "kernel_size": [
         2,
         7
        ],
        "out_channels": 80,
        "padding": [
         0,
         3
        ]
       }
      },
      {
       "class": "ReLU",
       "kargs": {
        "inplace": true
       }
      },
      {
       "class": "BatchNorm2d",
       "kargs": {
        "num_features": 80
       }
      },
      {
       "class": "Flatten",
       "kargs": {}
      },
      {
       "class": "Linear",
       "kargs": {
        "in_features": 20480,
        "out_features": 256
       }
      },
      {
       "class": "ReLU",
       "kargs": {
        "inplace": true
       }
      },
      {
       "class": "BatchNorm1d",
       "kargs": {
        "num_features": 256
       }
      },
      {
       "class": "Linear",
       "kargs": {
        "in_features": 256,
        "out_features": 256
       }
      }
     ]
    }
   },
   "start_time": "2022-03-23T03:43:15.032282",
   "version": "2.3.4"
  }
 },
 "nbformat": 4,
 "nbformat_minor": 5
}