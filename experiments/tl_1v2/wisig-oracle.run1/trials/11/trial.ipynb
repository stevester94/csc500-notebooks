{
 "cells": [
  {
   "cell_type": "markdown",
   "id": "9fea5f46",
   "metadata": {
    "papermill": {
     "duration": 0.029363,
     "end_time": "2022-03-23T17:18:53.039099",
     "exception": false,
     "start_time": "2022-03-23T17:18:53.009736",
     "status": "completed"
    },
    "tags": []
   },
   "source": [
    "# Transfer Learning Template"
   ]
  },
  {
   "cell_type": "code",
   "execution_count": 1,
   "id": "0902182a",
   "metadata": {
    "execution": {
     "iopub.execute_input": "2022-03-23T17:18:53.102572Z",
     "iopub.status.busy": "2022-03-23T17:18:53.101722Z",
     "iopub.status.idle": "2022-03-23T17:18:55.216870Z",
     "shell.execute_reply": "2022-03-23T17:18:55.217550Z"
    },
    "papermill": {
     "duration": 2.15503,
     "end_time": "2022-03-23T17:18:55.217861",
     "exception": false,
     "start_time": "2022-03-23T17:18:53.062831",
     "status": "completed"
    },
    "tags": []
   },
   "outputs": [],
   "source": [
    "%load_ext autoreload\n",
    "%autoreload 2\n",
    "%matplotlib inline\n",
    "\n",
    "    \n",
    "import os, json, sys, time, random\n",
    "import numpy as np\n",
    "import torch\n",
    "from torch.optim import Adam\n",
    "from  easydict import EasyDict\n",
    "import matplotlib.pyplot as plt\n",
    "\n",
    "from steves_models.steves_ptn import Steves_Prototypical_Network\n",
    "\n",
    "from steves_utils.lazy_iterable_wrapper import Lazy_Iterable_Wrapper\n",
    "from steves_utils.iterable_aggregator import Iterable_Aggregator\n",
    "from steves_utils.ptn_train_eval_test_jig import  PTN_Train_Eval_Test_Jig\n",
    "from steves_utils.torch_sequential_builder import build_sequential\n",
    "from steves_utils.torch_utils import get_dataset_metrics, ptn_confusion_by_domain_over_dataloader\n",
    "from steves_utils.utils_v2 import (per_domain_accuracy_from_confusion, get_datasets_base_path)\n",
    "from steves_utils.PTN.utils import independent_accuracy_assesment\n",
    "\n",
    "from torch.utils.data import DataLoader\n",
    "\n",
    "from steves_utils.stratified_dataset.episodic_accessor import Episodic_Accessor_Factory\n",
    "\n",
    "from steves_utils.ptn_do_report import (\n",
    "    get_loss_curve,\n",
    "    get_results_table,\n",
    "    get_parameters_table,\n",
    "    get_domain_accuracies,\n",
    ")\n",
    "\n",
    "from steves_utils.transforms import get_chained_transform"
   ]
  },
  {
   "cell_type": "markdown",
   "id": "41c840b4",
   "metadata": {
    "papermill": {
     "duration": 0.019261,
     "end_time": "2022-03-23T17:18:55.265068",
     "exception": false,
     "start_time": "2022-03-23T17:18:55.245807",
     "status": "completed"
    },
    "tags": []
   },
   "source": [
    "# Allowed Parameters\n",
    "These are allowed parameters, not defaults\n",
    "Each of these values need to be present in the injected parameters (the notebook will raise an exception if they are not present)\n",
    "\n",
    "Papermill uses the cell tag \"parameters\" to inject the real parameters below this cell.\n",
    "Enable tags to see what I mean"
   ]
  },
  {
   "cell_type": "code",
   "execution_count": 2,
   "id": "fd44eb83",
   "metadata": {
    "execution": {
     "iopub.execute_input": "2022-03-23T17:18:55.309435Z",
     "iopub.status.busy": "2022-03-23T17:18:55.309054Z",
     "iopub.status.idle": "2022-03-23T17:18:55.335793Z",
     "shell.execute_reply": "2022-03-23T17:18:55.336467Z"
    },
    "papermill": {
     "duration": 0.052303,
     "end_time": "2022-03-23T17:18:55.336643",
     "exception": false,
     "start_time": "2022-03-23T17:18:55.284340",
     "status": "completed"
    },
    "tags": []
   },
   "outputs": [],
   "source": [
    "required_parameters = {\n",
    "    \"experiment_name\",\n",
    "    \"lr\",\n",
    "    \"device\",\n",
    "    \"seed\",\n",
    "    \"dataset_seed\",\n",
    "    \"n_shot\",\n",
    "    \"n_query\",\n",
    "    \"n_way\",\n",
    "    \"train_k_factor\",\n",
    "    \"val_k_factor\",\n",
    "    \"test_k_factor\",\n",
    "    \"n_epoch\",\n",
    "    \"patience\",\n",
    "    \"criteria_for_best\",\n",
    "    \"x_net\",\n",
    "    \"datasets\",\n",
    "    \"torch_default_dtype\",\n",
    "    \"NUM_LOGS_PER_EPOCH\",\n",
    "    \"BEST_MODEL_PATH\",\n",
    "    \"x_shape\",\n",
    "}"
   ]
  },
  {
   "cell_type": "code",
   "execution_count": 3,
   "id": "fa3f0049",
   "metadata": {
    "execution": {
     "iopub.execute_input": "2022-03-23T17:18:55.396306Z",
     "iopub.status.busy": "2022-03-23T17:18:55.395685Z",
     "iopub.status.idle": "2022-03-23T17:18:55.421694Z",
     "shell.execute_reply": "2022-03-23T17:18:55.420993Z"
    },
    "papermill": {
     "duration": 0.061323,
     "end_time": "2022-03-23T17:18:55.421843",
     "exception": false,
     "start_time": "2022-03-23T17:18:55.360520",
     "status": "completed"
    },
    "tags": [
     "parameters"
    ]
   },
   "outputs": [],
   "source": [
    "from steves_utils.CORES.utils import (\n",
    "    ALL_NODES,\n",
    "    ALL_NODES_MINIMUM_1000_EXAMPLES,\n",
    "    ALL_DAYS\n",
    ")\n",
    "\n",
    "from steves_utils.ORACLE.utils_v2 import (\n",
    "    ALL_DISTANCES_FEET_NARROWED,\n",
    "    ALL_RUNS,\n",
    "    ALL_SERIAL_NUMBERS,\n",
    ")\n",
    "\n",
    "standalone_parameters = {}\n",
    "standalone_parameters[\"experiment_name\"] = \"STANDALONE PTN\"\n",
    "standalone_parameters[\"lr\"] = 0.001\n",
    "standalone_parameters[\"device\"] = \"cuda\"\n",
    "\n",
    "standalone_parameters[\"seed\"] = 1337\n",
    "standalone_parameters[\"dataset_seed\"] = 1337\n",
    "\n",
    "standalone_parameters[\"n_way\"] = 8\n",
    "standalone_parameters[\"n_shot\"] = 3\n",
    "standalone_parameters[\"n_query\"]  = 2\n",
    "standalone_parameters[\"train_k_factor\"] = 1\n",
    "standalone_parameters[\"val_k_factor\"] = 2\n",
    "standalone_parameters[\"test_k_factor\"] = 2\n",
    "\n",
    "\n",
    "standalone_parameters[\"n_epoch\"] = 50\n",
    "\n",
    "standalone_parameters[\"patience\"] = 10\n",
    "standalone_parameters[\"criteria_for_best\"] = \"source_loss\"\n",
    "\n",
    "standalone_parameters[\"datasets\"] = [\n",
    "    {\n",
    "        \"labels\": ALL_SERIAL_NUMBERS,\n",
    "        \"domains\": ALL_DISTANCES_FEET_NARROWED,\n",
    "        \"num_examples_per_domain_per_label\": 100,\n",
    "        \"pickle_path\": os.path.join(get_datasets_base_path(), \"oracle.Run1_framed_2000Examples_stratified_ds.2022A.pkl\"),\n",
    "        \"source_or_target_dataset\": \"source\",\n",
    "        \"x_transforms\": [\"unit_mag\", \"minus_two\"],\n",
    "        \"episode_transforms\": [],\n",
    "        \"domain_prefix\": \"ORACLE_\"\n",
    "    },\n",
    "    {\n",
    "        \"labels\": ALL_NODES,\n",
    "        \"domains\": ALL_DAYS,\n",
    "        \"num_examples_per_domain_per_label\": 100,\n",
    "        \"pickle_path\": os.path.join(get_datasets_base_path(), \"cores.stratified_ds.2022A.pkl\"),\n",
    "        \"source_or_target_dataset\": \"target\",\n",
    "        \"x_transforms\": [\"unit_power\", \"times_zero\"],\n",
    "        \"episode_transforms\": [],\n",
    "        \"domain_prefix\": \"CORES_\"\n",
    "    }   \n",
    "]\n",
    "\n",
    "standalone_parameters[\"torch_default_dtype\"] = \"torch.float32\" \n",
    "\n",
    "\n",
    "\n",
    "standalone_parameters[\"x_net\"] =     [\n",
    "    {\"class\": \"nnReshape\", \"kargs\": {\"shape\":[-1, 1, 2, 256]}},\n",
    "    {\"class\": \"Conv2d\", \"kargs\": { \"in_channels\":1, \"out_channels\":256, \"kernel_size\":(1,7), \"bias\":False, \"padding\":(0,3), },},\n",
    "    {\"class\": \"ReLU\", \"kargs\": {\"inplace\": True}},\n",
    "    {\"class\": \"BatchNorm2d\", \"kargs\": {\"num_features\":256}},\n",
    "\n",
    "    {\"class\": \"Conv2d\", \"kargs\": { \"in_channels\":256, \"out_channels\":80, \"kernel_size\":(2,7), \"bias\":True, \"padding\":(0,3), },},\n",
    "    {\"class\": \"ReLU\", \"kargs\": {\"inplace\": True}},\n",
    "    {\"class\": \"BatchNorm2d\", \"kargs\": {\"num_features\":80}},\n",
    "    {\"class\": \"Flatten\", \"kargs\": {}},\n",
    "\n",
    "    {\"class\": \"Linear\", \"kargs\": {\"in_features\": 80*256, \"out_features\": 256}}, # 80 units per IQ pair\n",
    "    {\"class\": \"ReLU\", \"kargs\": {\"inplace\": True}},\n",
    "    {\"class\": \"BatchNorm1d\", \"kargs\": {\"num_features\":256}},\n",
    "\n",
    "    {\"class\": \"Linear\", \"kargs\": {\"in_features\": 256, \"out_features\": 256}},\n",
    "]\n",
    "\n",
    "# Parameters relevant to results\n",
    "# These parameters will basically never need to change\n",
    "standalone_parameters[\"NUM_LOGS_PER_EPOCH\"] = 10\n",
    "standalone_parameters[\"BEST_MODEL_PATH\"] = \"./best_model.pth\"\n",
    "\n",
    "\n",
    "\n",
    "\n"
   ]
  },
  {
   "cell_type": "code",
   "execution_count": 4,
   "id": "2b7578d7",
   "metadata": {
    "execution": {
     "iopub.execute_input": "2022-03-23T17:18:55.483346Z",
     "iopub.status.busy": "2022-03-23T17:18:55.482671Z",
     "iopub.status.idle": "2022-03-23T17:18:55.509092Z",
     "shell.execute_reply": "2022-03-23T17:18:55.509756Z"
    },
    "papermill": {
     "duration": 0.062779,
     "end_time": "2022-03-23T17:18:55.509930",
     "exception": false,
     "start_time": "2022-03-23T17:18:55.447151",
     "status": "completed"
    },
    "tags": [
     "injected-parameters"
    ]
   },
   "outputs": [],
   "source": [
    "# Parameters\n",
    "parameters = {\n",
    "    \"experiment_name\": \"tl_1v2:wisig-oracle.run1\",\n",
    "    \"device\": \"cuda\",\n",
    "    \"lr\": 0.0001,\n",
    "    \"n_shot\": 3,\n",
    "    \"n_query\": 2,\n",
    "    \"train_k_factor\": 3,\n",
    "    \"val_k_factor\": 2,\n",
    "    \"test_k_factor\": 2,\n",
    "    \"torch_default_dtype\": \"torch.float32\",\n",
    "    \"n_epoch\": 50,\n",
    "    \"patience\": 3,\n",
    "    \"criteria_for_best\": \"target_accuracy\",\n",
    "    \"x_net\": [\n",
    "        {\"class\": \"nnReshape\", \"kargs\": {\"shape\": [-1, 1, 2, 256]}},\n",
    "        {\n",
    "            \"class\": \"Conv2d\",\n",
    "            \"kargs\": {\n",
    "                \"in_channels\": 1,\n",
    "                \"out_channels\": 256,\n",
    "                \"kernel_size\": [1, 7],\n",
    "                \"bias\": False,\n",
    "                \"padding\": [0, 3],\n",
    "            },\n",
    "        },\n",
    "        {\"class\": \"ReLU\", \"kargs\": {\"inplace\": True}},\n",
    "        {\"class\": \"BatchNorm2d\", \"kargs\": {\"num_features\": 256}},\n",
    "        {\n",
    "            \"class\": \"Conv2d\",\n",
    "            \"kargs\": {\n",
    "                \"in_channels\": 256,\n",
    "                \"out_channels\": 80,\n",
    "                \"kernel_size\": [2, 7],\n",
    "                \"bias\": True,\n",
    "                \"padding\": [0, 3],\n",
    "            },\n",
    "        },\n",
    "        {\"class\": \"ReLU\", \"kargs\": {\"inplace\": True}},\n",
    "        {\"class\": \"BatchNorm2d\", \"kargs\": {\"num_features\": 80}},\n",
    "        {\"class\": \"Flatten\", \"kargs\": {}},\n",
    "        {\"class\": \"Linear\", \"kargs\": {\"in_features\": 20480, \"out_features\": 256}},\n",
    "        {\"class\": \"ReLU\", \"kargs\": {\"inplace\": True}},\n",
    "        {\"class\": \"BatchNorm1d\", \"kargs\": {\"num_features\": 256}},\n",
    "        {\"class\": \"Linear\", \"kargs\": {\"in_features\": 256, \"out_features\": 256}},\n",
    "    ],\n",
    "    \"NUM_LOGS_PER_EPOCH\": 10,\n",
    "    \"BEST_MODEL_PATH\": \"./best_model.pth\",\n",
    "    \"n_way\": 16,\n",
    "    \"datasets\": [\n",
    "        {\n",
    "            \"labels\": [\n",
    "                \"1-10\",\n",
    "                \"1-12\",\n",
    "                \"1-14\",\n",
    "                \"1-16\",\n",
    "                \"1-18\",\n",
    "                \"1-19\",\n",
    "                \"1-8\",\n",
    "                \"10-11\",\n",
    "                \"10-17\",\n",
    "                \"10-4\",\n",
    "                \"10-7\",\n",
    "                \"11-1\",\n",
    "                \"11-10\",\n",
    "                \"11-19\",\n",
    "                \"11-20\",\n",
    "                \"11-4\",\n",
    "                \"11-7\",\n",
    "                \"12-19\",\n",
    "                \"12-20\",\n",
    "                \"12-7\",\n",
    "                \"13-14\",\n",
    "                \"13-18\",\n",
    "                \"13-19\",\n",
    "                \"13-20\",\n",
    "                \"13-3\",\n",
    "                \"13-7\",\n",
    "                \"14-10\",\n",
    "                \"14-11\",\n",
    "                \"14-12\",\n",
    "                \"14-13\",\n",
    "                \"14-14\",\n",
    "                \"14-19\",\n",
    "                \"14-20\",\n",
    "                \"14-7\",\n",
    "                \"14-8\",\n",
    "                \"14-9\",\n",
    "                \"15-1\",\n",
    "                \"15-19\",\n",
    "                \"15-6\",\n",
    "                \"16-1\",\n",
    "                \"16-16\",\n",
    "                \"16-19\",\n",
    "                \"16-20\",\n",
    "                \"17-10\",\n",
    "                \"17-11\",\n",
    "                \"18-1\",\n",
    "                \"18-10\",\n",
    "                \"18-11\",\n",
    "                \"18-12\",\n",
    "                \"18-13\",\n",
    "                \"18-14\",\n",
    "                \"18-15\",\n",
    "                \"18-16\",\n",
    "                \"18-17\",\n",
    "                \"18-19\",\n",
    "                \"18-2\",\n",
    "                \"18-20\",\n",
    "                \"18-4\",\n",
    "                \"18-5\",\n",
    "                \"18-7\",\n",
    "                \"18-8\",\n",
    "                \"18-9\",\n",
    "                \"19-1\",\n",
    "                \"19-10\",\n",
    "                \"19-11\",\n",
    "                \"19-12\",\n",
    "                \"19-13\",\n",
    "                \"19-14\",\n",
    "                \"19-15\",\n",
    "                \"19-19\",\n",
    "                \"19-2\",\n",
    "                \"19-20\",\n",
    "                \"19-3\",\n",
    "                \"19-4\",\n",
    "                \"19-6\",\n",
    "                \"19-7\",\n",
    "                \"19-8\",\n",
    "                \"19-9\",\n",
    "                \"2-1\",\n",
    "                \"2-13\",\n",
    "                \"2-15\",\n",
    "                \"2-3\",\n",
    "                \"2-4\",\n",
    "                \"2-5\",\n",
    "                \"2-6\",\n",
    "                \"2-7\",\n",
    "                \"2-8\",\n",
    "                \"20-1\",\n",
    "                \"20-12\",\n",
    "                \"20-14\",\n",
    "                \"20-15\",\n",
    "                \"20-16\",\n",
    "                \"20-18\",\n",
    "                \"20-19\",\n",
    "                \"20-20\",\n",
    "                \"20-3\",\n",
    "                \"20-4\",\n",
    "                \"20-5\",\n",
    "                \"20-7\",\n",
    "                \"20-8\",\n",
    "                \"3-1\",\n",
    "                \"3-13\",\n",
    "                \"3-18\",\n",
    "                \"3-2\",\n",
    "                \"3-8\",\n",
    "                \"4-1\",\n",
    "                \"4-10\",\n",
    "                \"4-11\",\n",
    "                \"5-1\",\n",
    "                \"5-5\",\n",
    "                \"6-1\",\n",
    "                \"6-15\",\n",
    "                \"6-6\",\n",
    "                \"7-10\",\n",
    "                \"7-11\",\n",
    "                \"7-12\",\n",
    "                \"7-13\",\n",
    "                \"7-14\",\n",
    "                \"7-7\",\n",
    "                \"7-8\",\n",
    "                \"7-9\",\n",
    "                \"8-1\",\n",
    "                \"8-13\",\n",
    "                \"8-14\",\n",
    "                \"8-18\",\n",
    "                \"8-20\",\n",
    "                \"8-3\",\n",
    "                \"8-8\",\n",
    "                \"9-1\",\n",
    "                \"9-7\",\n",
    "            ],\n",
    "            \"domains\": [1, 2, 3, 4],\n",
    "            \"num_examples_per_domain_per_label\": -1,\n",
    "            \"pickle_path\": \"/root/csc500-main/datasets/wisig.node3-19.stratified_ds.2022A.pkl\",\n",
    "            \"source_or_target_dataset\": \"target\",\n",
    "            \"x_transforms\": [],\n",
    "            \"episode_transforms\": [],\n",
    "            \"domain_prefix\": \"Wisig_\",\n",
    "        },\n",
    "        {\n",
    "            \"labels\": [\n",
    "                \"3123D52\",\n",
    "                \"3123D65\",\n",
    "                \"3123D79\",\n",
    "                \"3123D80\",\n",
    "                \"3123D54\",\n",
    "                \"3123D70\",\n",
    "                \"3123D7B\",\n",
    "                \"3123D89\",\n",
    "                \"3123D58\",\n",
    "                \"3123D76\",\n",
    "                \"3123D7D\",\n",
    "                \"3123EFE\",\n",
    "                \"3123D64\",\n",
    "                \"3123D78\",\n",
    "                \"3123D7E\",\n",
    "                \"3124E4A\",\n",
    "            ],\n",
    "            \"domains\": [32, 38, 8, 44, 14, 50, 20, 26],\n",
    "            \"num_examples_per_domain_per_label\": 10000,\n",
    "            \"pickle_path\": \"/root/csc500-main/datasets/oracle.Run1_10kExamples_stratified_ds.2022A.pkl\",\n",
    "            \"source_or_target_dataset\": \"source\",\n",
    "            \"x_transforms\": [],\n",
    "            \"episode_transforms\": [],\n",
    "            \"domain_prefix\": \"ORACLE.run1\",\n",
    "        },\n",
    "    ],\n",
    "    \"dataset_seed\": 420,\n",
    "    \"seed\": 420,\n",
    "}\n"
   ]
  },
  {
   "cell_type": "code",
   "execution_count": 5,
   "id": "8fa1cc33",
   "metadata": {
    "execution": {
     "iopub.execute_input": "2022-03-23T17:18:55.564549Z",
     "iopub.status.busy": "2022-03-23T17:18:55.563986Z",
     "iopub.status.idle": "2022-03-23T17:18:55.587284Z",
     "shell.execute_reply": "2022-03-23T17:18:55.586584Z"
    },
    "papermill": {
     "duration": 0.049671,
     "end_time": "2022-03-23T17:18:55.587433",
     "exception": false,
     "start_time": "2022-03-23T17:18:55.537762",
     "status": "completed"
    },
    "tags": []
   },
   "outputs": [],
   "source": [
    "# Set this to True if you want to run this template directly\n",
    "STANDALONE = False\n",
    "if STANDALONE:\n",
    "    print(\"parameters not injected, running with standalone_parameters\")\n",
    "    parameters = standalone_parameters\n",
    "\n",
    "if not 'parameters' in locals() and not 'parameters' in globals():\n",
    "    raise Exception(\"Parameter injection failed\")\n",
    "\n",
    "#Use an easy dict for all the parameters\n",
    "p = EasyDict(parameters)\n",
    "\n",
    "if \"x_shape\" not in p:\n",
    "    p.x_shape = [2,256] # Default to this if we dont supply x_shape\n",
    "\n",
    "\n",
    "supplied_keys = set(p.keys())\n",
    "\n",
    "if  supplied_keys != required_parameters:\n",
    "    print(\"Parameters are incorrect\")\n",
    "    if len(supplied_keys - required_parameters)>0: print(\"Shouldn't have:\", str(supplied_keys - required_parameters))\n",
    "    if len(required_parameters - supplied_keys)>0: print(\"Need to have:\", str(required_parameters - supplied_keys))\n",
    "    raise RuntimeError(\"Parameters are incorrect\")"
   ]
  },
  {
   "cell_type": "code",
   "execution_count": 6,
   "id": "3a028d58",
   "metadata": {
    "execution": {
     "iopub.execute_input": "2022-03-23T17:18:55.636980Z",
     "iopub.status.busy": "2022-03-23T17:18:55.636623Z",
     "iopub.status.idle": "2022-03-23T17:18:55.662229Z",
     "shell.execute_reply": "2022-03-23T17:18:55.661528Z"
    },
    "papermill": {
     "duration": 0.048672,
     "end_time": "2022-03-23T17:18:55.662380",
     "exception": false,
     "start_time": "2022-03-23T17:18:55.613708",
     "status": "completed"
    },
    "tags": []
   },
   "outputs": [],
   "source": [
    "###################################\n",
    "# Set the RNGs and make it all deterministic\n",
    "###################################\n",
    "np.random.seed(p.seed)\n",
    "random.seed(p.seed)\n",
    "torch.manual_seed(p.seed)\n",
    "\n",
    "torch.use_deterministic_algorithms(True) "
   ]
  },
  {
   "cell_type": "code",
   "execution_count": 7,
   "id": "b691acf6",
   "metadata": {
    "execution": {
     "iopub.execute_input": "2022-03-23T17:18:55.710653Z",
     "iopub.status.busy": "2022-03-23T17:18:55.710294Z",
     "iopub.status.idle": "2022-03-23T17:18:55.738586Z",
     "shell.execute_reply": "2022-03-23T17:18:55.737641Z"
    },
    "papermill": {
     "duration": 0.051365,
     "end_time": "2022-03-23T17:18:55.738785",
     "exception": false,
     "start_time": "2022-03-23T17:18:55.687420",
     "status": "completed"
    },
    "tags": []
   },
   "outputs": [],
   "source": [
    "###########################################\n",
    "# The stratified datasets honor this\n",
    "###########################################\n",
    "torch.set_default_dtype(eval(p.torch_default_dtype))"
   ]
  },
  {
   "cell_type": "code",
   "execution_count": 8,
   "id": "b5fba671",
   "metadata": {
    "execution": {
     "iopub.execute_input": "2022-03-23T17:18:55.784690Z",
     "iopub.status.busy": "2022-03-23T17:18:55.784328Z",
     "iopub.status.idle": "2022-03-23T17:18:55.844400Z",
     "shell.execute_reply": "2022-03-23T17:18:55.843704Z"
    },
    "papermill": {
     "duration": 0.082463,
     "end_time": "2022-03-23T17:18:55.844550",
     "exception": false,
     "start_time": "2022-03-23T17:18:55.762087",
     "status": "completed"
    },
    "tags": []
   },
   "outputs": [],
   "source": [
    "###################################\n",
    "# Build the network(s)\n",
    "# Note: It's critical to do this AFTER setting the RNG\n",
    "###################################\n",
    "x_net = build_sequential(p.x_net)"
   ]
  },
  {
   "cell_type": "code",
   "execution_count": 9,
   "id": "5d7e61cc",
   "metadata": {
    "execution": {
     "iopub.execute_input": "2022-03-23T17:18:55.894003Z",
     "iopub.status.busy": "2022-03-23T17:18:55.893646Z",
     "iopub.status.idle": "2022-03-23T17:18:55.917484Z",
     "shell.execute_reply": "2022-03-23T17:18:55.916788Z"
    },
    "papermill": {
     "duration": 0.046939,
     "end_time": "2022-03-23T17:18:55.917633",
     "exception": false,
     "start_time": "2022-03-23T17:18:55.870694",
     "status": "completed"
    },
    "tags": []
   },
   "outputs": [],
   "source": [
    "start_time_secs = time.time()"
   ]
  },
  {
   "cell_type": "code",
   "execution_count": 10,
   "id": "c6b67dfd",
   "metadata": {
    "execution": {
     "iopub.execute_input": "2022-03-23T17:18:55.967137Z",
     "iopub.status.busy": "2022-03-23T17:18:55.966777Z",
     "iopub.status.idle": "2022-03-23T17:18:55.992592Z",
     "shell.execute_reply": "2022-03-23T17:18:55.991889Z"
    },
    "papermill": {
     "duration": 0.049572,
     "end_time": "2022-03-23T17:18:55.992740",
     "exception": false,
     "start_time": "2022-03-23T17:18:55.943168",
     "status": "completed"
    },
    "tags": []
   },
   "outputs": [],
   "source": [
    "p.domains_source = []\n",
    "p.domains_target = []\n",
    "\n",
    "\n",
    "train_original_source = []\n",
    "val_original_source   = []\n",
    "test_original_source  = []\n",
    "\n",
    "train_original_target = []\n",
    "val_original_target   = []\n",
    "test_original_target  = []"
   ]
  },
  {
   "cell_type": "code",
   "execution_count": 11,
   "id": "e3d9c3d3",
   "metadata": {
    "execution": {
     "iopub.execute_input": "2022-03-23T17:18:56.044253Z",
     "iopub.status.busy": "2022-03-23T17:18:56.043893Z",
     "iopub.status.idle": "2022-03-23T17:18:56.069568Z",
     "shell.execute_reply": "2022-03-23T17:18:56.068872Z"
    },
    "papermill": {
     "duration": 0.048787,
     "end_time": "2022-03-23T17:18:56.069716",
     "exception": false,
     "start_time": "2022-03-23T17:18:56.020929",
     "status": "completed"
    },
    "tags": []
   },
   "outputs": [],
   "source": [
    "# global_x_transform_func = lambda x: normalize(x.to(torch.get_default_dtype()), \"unit_power\") # unit_power, unit_mag\n",
    "# global_x_transform_func = lambda x: normalize(x, \"unit_power\") # unit_power, unit_mag"
   ]
  },
  {
   "cell_type": "code",
   "execution_count": 12,
   "id": "acb78fd2",
   "metadata": {
    "execution": {
     "iopub.execute_input": "2022-03-23T17:18:56.127479Z",
     "iopub.status.busy": "2022-03-23T17:18:56.126639Z",
     "iopub.status.idle": "2022-03-23T17:18:56.147477Z",
     "shell.execute_reply": "2022-03-23T17:18:56.148166Z"
    },
    "papermill": {
     "duration": 0.053348,
     "end_time": "2022-03-23T17:18:56.148339",
     "exception": false,
     "start_time": "2022-03-23T17:18:56.094991",
     "status": "completed"
    },
    "tags": []
   },
   "outputs": [],
   "source": [
    "def add_dataset(\n",
    "    labels,\n",
    "    domains,\n",
    "    pickle_path,\n",
    "    x_transforms,\n",
    "    episode_transforms,\n",
    "    domain_prefix,\n",
    "    num_examples_per_domain_per_label,\n",
    "    source_or_target_dataset:str,\n",
    "    iterator_seed=p.seed,\n",
    "    dataset_seed=p.dataset_seed,\n",
    "    n_shot=p.n_shot,\n",
    "    n_way=p.n_way,\n",
    "    n_query=p.n_query,\n",
    "    train_val_test_k_factors=(p.train_k_factor,p.val_k_factor,p.test_k_factor),\n",
    "):\n",
    "   \n",
    "    if x_transforms == []: x_transform = None\n",
    "    else: x_transform = get_chained_transform(x_transforms)\n",
    "    \n",
    "    if episode_transforms == []: episode_transform = None\n",
    "    else: raise Exception(\"episode_transforms not implemented\")\n",
    "    \n",
    "    episode_transform = lambda tup, _prefix=domain_prefix: (_prefix + str(tup[0]), tup[1])\n",
    "\n",
    "\n",
    "    eaf = Episodic_Accessor_Factory(\n",
    "        labels=labels,\n",
    "        domains=domains,\n",
    "        num_examples_per_domain_per_label=num_examples_per_domain_per_label,\n",
    "        iterator_seed=iterator_seed,\n",
    "        dataset_seed=dataset_seed,\n",
    "        n_shot=n_shot,\n",
    "        n_way=n_way,\n",
    "        n_query=n_query,\n",
    "        train_val_test_k_factors=train_val_test_k_factors,\n",
    "        pickle_path=pickle_path,\n",
    "        x_transform_func=x_transform,\n",
    "    )\n",
    "\n",
    "    train, val, test = eaf.get_train(), eaf.get_val(), eaf.get_test()\n",
    "    train = Lazy_Iterable_Wrapper(train, episode_transform)\n",
    "    val = Lazy_Iterable_Wrapper(val, episode_transform)\n",
    "    test = Lazy_Iterable_Wrapper(test, episode_transform)\n",
    "\n",
    "    if source_or_target_dataset==\"source\":\n",
    "        train_original_source.append(train)\n",
    "        val_original_source.append(val)\n",
    "        test_original_source.append(test)\n",
    "\n",
    "        p.domains_source.extend(\n",
    "            [domain_prefix + str(u) for u in domains]\n",
    "        )\n",
    "    elif source_or_target_dataset==\"target\":\n",
    "        train_original_target.append(train)\n",
    "        val_original_target.append(val)\n",
    "        test_original_target.append(test)\n",
    "        p.domains_target.extend(\n",
    "            [domain_prefix + str(u) for u in domains]\n",
    "        )\n",
    "    else:\n",
    "        raise Exception(f\"invalid source_or_target_dataset: {source_or_target_dataset}\")\n",
    "    "
   ]
  },
  {
   "cell_type": "code",
   "execution_count": 13,
   "id": "fe266617",
   "metadata": {
    "execution": {
     "iopub.execute_input": "2022-03-23T17:18:56.199138Z",
     "iopub.status.busy": "2022-03-23T17:18:56.198775Z",
     "iopub.status.idle": "2022-03-23T17:19:06.528240Z",
     "shell.execute_reply": "2022-03-23T17:19:06.528913Z"
    },
    "papermill": {
     "duration": 10.354168,
     "end_time": "2022-03-23T17:19:06.529135",
     "exception": false,
     "start_time": "2022-03-23T17:18:56.174967",
     "status": "completed"
    },
    "tags": []
   },
   "outputs": [],
   "source": [
    "for ds in p.datasets:\n",
    "    add_dataset(**ds)"
   ]
  },
  {
   "cell_type": "code",
   "execution_count": 14,
   "id": "b90d65ac",
   "metadata": {
    "execution": {
     "iopub.execute_input": "2022-03-23T17:19:06.579987Z",
     "iopub.status.busy": "2022-03-23T17:19:06.579616Z",
     "iopub.status.idle": "2022-03-23T17:19:06.602854Z",
     "shell.execute_reply": "2022-03-23T17:19:06.602483Z"
    },
    "papermill": {
     "duration": 0.046832,
     "end_time": "2022-03-23T17:19:06.602930",
     "exception": false,
     "start_time": "2022-03-23T17:19:06.556098",
     "status": "completed"
    },
    "tags": []
   },
   "outputs": [],
   "source": [
    "# from steves_utils.CORES.utils import (\n",
    "#     ALL_NODES,\n",
    "#     ALL_NODES_MINIMUM_1000_EXAMPLES,\n",
    "#     ALL_DAYS\n",
    "# )\n",
    "\n",
    "# add_dataset(\n",
    "#     labels=ALL_NODES,\n",
    "#     domains = ALL_DAYS,\n",
    "#     num_examples_per_domain_per_label=100,\n",
    "#     pickle_path=os.path.join(get_datasets_base_path(), \"cores.stratified_ds.2022A.pkl\"),\n",
    "#     source_or_target_dataset=\"target\",\n",
    "#     x_transform_func=global_x_transform_func,\n",
    "#     domain_modifier=lambda u: f\"cores_{u}\"\n",
    "# )"
   ]
  },
  {
   "cell_type": "code",
   "execution_count": 15,
   "id": "76db484d",
   "metadata": {
    "execution": {
     "iopub.execute_input": "2022-03-23T17:19:06.652628Z",
     "iopub.status.busy": "2022-03-23T17:19:06.651471Z",
     "iopub.status.idle": "2022-03-23T17:19:06.670994Z",
     "shell.execute_reply": "2022-03-23T17:19:06.670203Z"
    },
    "papermill": {
     "duration": 0.043602,
     "end_time": "2022-03-23T17:19:06.671150",
     "exception": false,
     "start_time": "2022-03-23T17:19:06.627548",
     "status": "completed"
    },
    "tags": []
   },
   "outputs": [],
   "source": [
    "# from steves_utils.ORACLE.utils_v2 import (\n",
    "#     ALL_DISTANCES_FEET,\n",
    "#     ALL_RUNS,\n",
    "#     ALL_SERIAL_NUMBERS,\n",
    "# )\n",
    "\n",
    "\n",
    "# add_dataset(\n",
    "#     labels=ALL_SERIAL_NUMBERS,\n",
    "#     domains = list(set(ALL_DISTANCES_FEET) - {2,62}),\n",
    "#     num_examples_per_domain_per_label=100,\n",
    "#     pickle_path=os.path.join(get_datasets_base_path(), \"oracle.Run2_framed_2000Examples_stratified_ds.2022A.pkl\"),\n",
    "#     source_or_target_dataset=\"source\",\n",
    "#     x_transform_func=global_x_transform_func,\n",
    "#     domain_modifier=lambda u: f\"oracle1_{u}\"\n",
    "# )\n"
   ]
  },
  {
   "cell_type": "code",
   "execution_count": 16,
   "id": "97dea9d2",
   "metadata": {
    "execution": {
     "iopub.execute_input": "2022-03-23T17:19:06.723902Z",
     "iopub.status.busy": "2022-03-23T17:19:06.723518Z",
     "iopub.status.idle": "2022-03-23T17:19:06.742463Z",
     "shell.execute_reply": "2022-03-23T17:19:06.741676Z"
    },
    "papermill": {
     "duration": 0.043884,
     "end_time": "2022-03-23T17:19:06.742618",
     "exception": false,
     "start_time": "2022-03-23T17:19:06.698734",
     "status": "completed"
    },
    "tags": []
   },
   "outputs": [],
   "source": [
    "# from steves_utils.ORACLE.utils_v2 import (\n",
    "#     ALL_DISTANCES_FEET,\n",
    "#     ALL_RUNS,\n",
    "#     ALL_SERIAL_NUMBERS,\n",
    "# )\n",
    "\n",
    "\n",
    "# add_dataset(\n",
    "#     labels=ALL_SERIAL_NUMBERS,\n",
    "#     domains = list(set(ALL_DISTANCES_FEET) - {2,62,56}),\n",
    "#     num_examples_per_domain_per_label=100,\n",
    "#     pickle_path=os.path.join(get_datasets_base_path(), \"oracle.Run2_framed_2000Examples_stratified_ds.2022A.pkl\"),\n",
    "#     source_or_target_dataset=\"source\",\n",
    "#     x_transform_func=global_x_transform_func,\n",
    "#     domain_modifier=lambda u: f\"oracle2_{u}\"\n",
    "# )"
   ]
  },
  {
   "cell_type": "code",
   "execution_count": 17,
   "id": "6f289866",
   "metadata": {
    "execution": {
     "iopub.execute_input": "2022-03-23T17:19:06.796194Z",
     "iopub.status.busy": "2022-03-23T17:19:06.795115Z",
     "iopub.status.idle": "2022-03-23T17:19:06.814376Z",
     "shell.execute_reply": "2022-03-23T17:19:06.813693Z"
    },
    "papermill": {
     "duration": 0.043627,
     "end_time": "2022-03-23T17:19:06.814528",
     "exception": false,
     "start_time": "2022-03-23T17:19:06.770901",
     "status": "completed"
    },
    "tags": []
   },
   "outputs": [],
   "source": [
    "# add_dataset(\n",
    "#     labels=list(range(19)),\n",
    "#     domains = [0,1,2],\n",
    "#     num_examples_per_domain_per_label=100,\n",
    "#     pickle_path=os.path.join(get_datasets_base_path(), \"metehan.stratified_ds.2022A.pkl\"),\n",
    "#     source_or_target_dataset=\"target\",\n",
    "#     x_transform_func=global_x_transform_func,\n",
    "#     domain_modifier=lambda u: f\"met_{u}\"\n",
    "# )"
   ]
  },
  {
   "cell_type": "code",
   "execution_count": 18,
   "id": "86a863c3",
   "metadata": {
    "execution": {
     "iopub.execute_input": "2022-03-23T17:19:06.865458Z",
     "iopub.status.busy": "2022-03-23T17:19:06.864387Z",
     "iopub.status.idle": "2022-03-23T17:19:06.885188Z",
     "shell.execute_reply": "2022-03-23T17:19:06.884395Z"
    },
    "papermill": {
     "duration": 0.045061,
     "end_time": "2022-03-23T17:19:06.885342",
     "exception": false,
     "start_time": "2022-03-23T17:19:06.840281",
     "status": "completed"
    },
    "tags": []
   },
   "outputs": [],
   "source": [
    "# # from steves_utils.wisig.utils import (\n",
    "# #     ALL_NODES_MINIMUM_100_EXAMPLES,\n",
    "# #     ALL_NODES_MINIMUM_500_EXAMPLES,\n",
    "# #     ALL_NODES_MINIMUM_1000_EXAMPLES,\n",
    "# #     ALL_DAYS\n",
    "# # )\n",
    "\n",
    "# import steves_utils.wisig.utils as wisig\n",
    "\n",
    "\n",
    "# add_dataset(\n",
    "#     labels=wisig.ALL_NODES_MINIMUM_100_EXAMPLES,\n",
    "#     domains = wisig.ALL_DAYS,\n",
    "#     num_examples_per_domain_per_label=100,\n",
    "#     pickle_path=os.path.join(get_datasets_base_path(), \"wisig.node3-19.stratified_ds.2022A.pkl\"),\n",
    "#     source_or_target_dataset=\"target\",\n",
    "#     x_transform_func=global_x_transform_func,\n",
    "#     domain_modifier=lambda u: f\"wisig_{u}\"\n",
    "# )"
   ]
  },
  {
   "cell_type": "code",
   "execution_count": 19,
   "id": "fd5442bc",
   "metadata": {
    "execution": {
     "iopub.execute_input": "2022-03-23T17:19:06.941884Z",
     "iopub.status.busy": "2022-03-23T17:19:06.939954Z",
     "iopub.status.idle": "2022-03-23T17:19:06.959813Z",
     "shell.execute_reply": "2022-03-23T17:19:06.958982Z"
    },
    "papermill": {
     "duration": 0.048089,
     "end_time": "2022-03-23T17:19:06.959973",
     "exception": false,
     "start_time": "2022-03-23T17:19:06.911884",
     "status": "completed"
    },
    "tags": []
   },
   "outputs": [],
   "source": [
    "###################################\n",
    "# Build the dataset\n",
    "###################################\n",
    "train_original_source = Iterable_Aggregator(train_original_source, p.seed)\n",
    "val_original_source = Iterable_Aggregator(val_original_source, p.seed)\n",
    "test_original_source = Iterable_Aggregator(test_original_source, p.seed)\n",
    "\n",
    "\n",
    "train_original_target = Iterable_Aggregator(train_original_target, p.seed)\n",
    "val_original_target = Iterable_Aggregator(val_original_target, p.seed)\n",
    "test_original_target = Iterable_Aggregator(test_original_target, p.seed)\n",
    "\n",
    "# For CNN We only use X and Y. And we only train on the source.\n",
    "# Properly form the data using a transform lambda and Lazy_Iterable_Wrapper. Finally wrap them in a dataloader\n",
    "\n",
    "transform_lambda = lambda ex: ex[1] # Original is (<domain>, <episode>) so we strip down to episode only\n",
    "\n",
    "train_processed_source = Lazy_Iterable_Wrapper(train_original_source, transform_lambda)\n",
    "val_processed_source   = Lazy_Iterable_Wrapper(val_original_source, transform_lambda)\n",
    "test_processed_source  = Lazy_Iterable_Wrapper(test_original_source, transform_lambda)\n",
    "\n",
    "train_processed_target = Lazy_Iterable_Wrapper(train_original_target, transform_lambda)\n",
    "val_processed_target   = Lazy_Iterable_Wrapper(val_original_target, transform_lambda)\n",
    "test_processed_target  = Lazy_Iterable_Wrapper(test_original_target, transform_lambda)\n",
    "\n",
    "datasets = EasyDict({\n",
    "    \"source\": {\n",
    "        \"original\": {\"train\":train_original_source, \"val\":val_original_source, \"test\":test_original_source},\n",
    "        \"processed\": {\"train\":train_processed_source, \"val\":val_processed_source, \"test\":test_processed_source}\n",
    "    },\n",
    "    \"target\": {\n",
    "        \"original\": {\"train\":train_original_target, \"val\":val_original_target, \"test\":test_original_target},\n",
    "        \"processed\": {\"train\":train_processed_target, \"val\":val_processed_target, \"test\":test_processed_target}\n",
    "    },\n",
    "})"
   ]
  },
  {
   "cell_type": "code",
   "execution_count": 20,
   "id": "5b3c01fc",
   "metadata": {
    "execution": {
     "iopub.execute_input": "2022-03-23T17:19:07.012010Z",
     "iopub.status.busy": "2022-03-23T17:19:07.011613Z",
     "iopub.status.idle": "2022-03-23T17:19:38.589357Z",
     "shell.execute_reply": "2022-03-23T17:19:38.590177Z"
    },
    "papermill": {
     "duration": 31.602831,
     "end_time": "2022-03-23T17:19:38.590398",
     "exception": false,
     "start_time": "2022-03-23T17:19:06.987567",
     "status": "completed"
    },
    "tags": []
   },
   "outputs": [
    {
     "name": "stdout",
     "output_type": "stream",
     "text": [
      "{'ORACLE.run126', 'ORACLE.run150', 'ORACLE.run120', 'ORACLE.run138', 'ORACLE.run18', 'ORACLE.run144', 'ORACLE.run132', 'ORACLE.run114'}\n"
     ]
    },
    {
     "name": "stdout",
     "output_type": "stream",
     "text": [
      "{'Wisig_4', 'Wisig_3', 'Wisig_1', 'Wisig_2'}\n"
     ]
    },
    {
     "name": "stdout",
     "output_type": "stream",
     "text": [
      "tensor([[[ 6.7141e-04,  5.7985e-04, -4.0284e-03,  ..., -1.8311e-04,\n",
      "           3.0213e-03, -3.6622e-04],\n",
      "         [ 8.2400e-04,  1.1902e-03, -1.3428e-03,  ..., -3.4486e-03,\n",
      "          -1.8311e-03,  6.1037e-04]],\n",
      "\n",
      "        [[-3.1129e-03, -3.5096e-03,  1.3428e-03,  ..., -3.2350e-03,\n",
      "           5.1881e-04,  3.7233e-03],\n",
      "         [-3.3876e-03,  1.3428e-03, -2.4415e-03,  ..., -3.7538e-03,\n",
      "          -2.5941e-03, -1.8921e-03]],\n",
      "\n",
      "        [[ 1.2207e-04, -2.6246e-03,  1.3733e-03,  ...,  5.7985e-04,\n",
      "           1.2513e-03,  4.8830e-04],\n",
      "         [ 4.3947e-03, -1.9227e-03, -2.1363e-04,  ..., -1.5259e-04,\n",
      "          -7.3244e-04, -2.6856e-03]],\n",
      "\n",
      "        ...,\n",
      "\n",
      "        [[ 5.1576e-03, -2.8687e-03, -5.0661e-03,  ...,  3.6622e-04,\n",
      "          -4.7914e-03, -1.2818e-03],\n",
      "         [ 4.5473e-03, -1.6175e-03, -2.8382e-03,  ...,  4.6083e-03,\n",
      "           3.0213e-03,  1.0376e-03]],\n",
      "\n",
      "        [[ 3.1434e-03,  2.1363e-04, -7.0193e-04,  ..., -6.1647e-03,\n",
      "          -3.8453e-03, -2.1973e-03],\n",
      "         [-3.0519e-03,  1.4649e-03, -1.1292e-03,  ...,  1.3428e-03,\n",
      "           7.0193e-04,  2.5025e-03]],\n",
      "\n",
      "        [[ 5.4933e-04,  5.6154e-03,  2.4720e-03,  ..., -1.9837e-03,\n",
      "          -7.7822e-03, -3.1739e-03],\n",
      "         [ 1.6480e-03, -3.2960e-03, -3.0519e-03,  ..., -2.1668e-03,\n",
      "           9.1556e-05, -3.2960e-03]]])\n"
     ]
    }
   ],
   "source": [
    "from steves_utils.transforms import get_average_magnitude, get_average_power\n",
    "\n",
    "print(set([u for u,_ in val_original_source]))\n",
    "print(set([u for u,_ in val_original_target]))\n",
    "\n",
    "s_x, s_y, q_x, q_y, _ = next(iter(train_processed_source))\n",
    "print(s_x)\n",
    "\n",
    "# for ds in [\n",
    "#     train_processed_source,\n",
    "#     val_processed_source,\n",
    "#     test_processed_source,\n",
    "#     train_processed_target,\n",
    "#     val_processed_target,\n",
    "#     test_processed_target\n",
    "# ]:\n",
    "#     for s_x, s_y, q_x, q_y, _ in ds:\n",
    "#         for X in (s_x, q_x):\n",
    "#             for x in X:\n",
    "#                 assert np.isclose(get_average_magnitude(x.numpy()), 1.0)\n",
    "#                 assert np.isclose(get_average_power(x.numpy()), 1.0)\n",
    "                "
   ]
  },
  {
   "cell_type": "code",
   "execution_count": 21,
   "id": "bbdacba1",
   "metadata": {
    "execution": {
     "iopub.execute_input": "2022-03-23T17:19:38.642809Z",
     "iopub.status.busy": "2022-03-23T17:19:38.642437Z",
     "iopub.status.idle": "2022-03-23T17:19:38.862759Z",
     "shell.execute_reply": "2022-03-23T17:19:38.863084Z"
    },
    "papermill": {
     "duration": 0.246867,
     "end_time": "2022-03-23T17:19:38.863225",
     "exception": false,
     "start_time": "2022-03-23T17:19:38.616358",
     "status": "completed"
    },
    "tags": []
   },
   "outputs": [
    {
     "name": "stdout",
     "output_type": "stream",
     "text": [
      "(2, 256)\n"
     ]
    }
   ],
   "source": [
    "###################################\n",
    "# Build the model\n",
    "###################################\n",
    "# easfsl only wants a tuple for the shape\n",
    "model = Steves_Prototypical_Network(x_net, device=p.device, x_shape=tuple(p.x_shape))\n",
    "optimizer = Adam(params=model.parameters(), lr=p.lr)"
   ]
  },
  {
   "cell_type": "code",
   "execution_count": 22,
   "id": "22b39ac5",
   "metadata": {
    "execution": {
     "iopub.execute_input": "2022-03-23T17:19:38.913630Z",
     "iopub.status.busy": "2022-03-23T17:19:38.913262Z",
     "iopub.status.idle": "2022-03-24T00:28:30.236003Z",
     "shell.execute_reply": "2022-03-24T00:28:30.235253Z"
    },
    "papermill": {
     "duration": 25731.350234,
     "end_time": "2022-03-24T00:28:30.236101",
     "exception": false,
     "start_time": "2022-03-23T17:19:38.885867",
     "status": "completed"
    },
    "tags": []
   },
   "outputs": [
    {
     "name": "stdout",
     "output_type": "stream",
     "text": [
      "epoch: 1, [batch: 1 / 33600], examples_per_second: 6.6007, train_label_loss: 2.7102, \n"
     ]
    },
    {
     "name": "stdout",
     "output_type": "stream",
     "text": [
      "epoch: 1, [batch: 3360 / 33600], examples_per_second: 4163.1451, train_label_loss: 1.6411, \n"
     ]
    },
    {
     "name": "stdout",
     "output_type": "stream",
     "text": [
      "epoch: 1, [batch: 6720 / 33600], examples_per_second: 3633.0924, train_label_loss: 1.1501, \n"
     ]
    },
    {
     "name": "stdout",
     "output_type": "stream",
     "text": [
      "epoch: 1, [batch: 10080 / 33600], examples_per_second: 2972.0325, train_label_loss: 0.5994, \n"
     ]
    },
    {
     "name": "stdout",
     "output_type": "stream",
     "text": [
      "epoch: 1, [batch: 13440 / 33600], examples_per_second: 2918.5416, train_label_loss: 0.5839, \n"
     ]
    },
    {
     "name": "stdout",
     "output_type": "stream",
     "text": [
      "epoch: 1, [batch: 16800 / 33600], examples_per_second: 2948.3686, train_label_loss: 0.4204, \n"
     ]
    },
    {
     "name": "stdout",
     "output_type": "stream",
     "text": [
      "epoch: 1, [batch: 20160 / 33600], examples_per_second: 2979.1608, train_label_loss: 0.7932, \n"
     ]
    },
    {
     "name": "stdout",
     "output_type": "stream",
     "text": [
      "epoch: 1, [batch: 23520 / 33600], examples_per_second: 2925.5360, train_label_loss: 0.2815, \n"
     ]
    },
    {
     "name": "stdout",
     "output_type": "stream",
     "text": [
      "epoch: 1, [batch: 26880 / 33600], examples_per_second: 2937.7443, train_label_loss: 0.1786, \n"
     ]
    },
    {
     "name": "stdout",
     "output_type": "stream",
     "text": [
      "epoch: 1, [batch: 30240 / 33600], examples_per_second: 2966.1539, train_label_loss: 0.1142, \n"
     ]
    },
    {
     "name": "stdout",
     "output_type": "stream",
     "text": [
      "=============================================================\n",
      "epoch: 1, source_val_acc_label: 0.7421, target_val_acc_label: 0.7926, source_val_label_loss: 1.8515, target_val_label_loss: 309.2335, \n",
      "=============================================================\n"
     ]
    },
    {
     "name": "stdout",
     "output_type": "stream",
     "text": [
      "New best\n"
     ]
    },
    {
     "name": "stdout",
     "output_type": "stream",
     "text": [
      "epoch: 2, [batch: 1 / 33600], examples_per_second: 0.7693, train_label_loss: 0.3631, \n"
     ]
    },
    {
     "name": "stdout",
     "output_type": "stream",
     "text": [
      "epoch: 2, [batch: 3360 / 33600], examples_per_second: 3490.5104, train_label_loss: 0.4209, \n"
     ]
    },
    {
     "name": "stdout",
     "output_type": "stream",
     "text": [
      "epoch: 2, [batch: 6720 / 33600], examples_per_second: 3449.5519, train_label_loss: 0.5275, \n"
     ]
    },
    {
     "name": "stdout",
     "output_type": "stream",
     "text": [
      "epoch: 2, [batch: 10080 / 33600], examples_per_second: 3002.5523, train_label_loss: 0.5343, \n"
     ]
    },
    {
     "name": "stdout",
     "output_type": "stream",
     "text": [
      "epoch: 2, [batch: 13440 / 33600], examples_per_second: 2961.3259, train_label_loss: 0.4881, \n"
     ]
    },
    {
     "name": "stdout",
     "output_type": "stream",
     "text": [
      "epoch: 2, [batch: 16800 / 33600], examples_per_second: 2980.7246, train_label_loss: 0.2715, \n"
     ]
    },
    {
     "name": "stdout",
     "output_type": "stream",
     "text": [
      "epoch: 2, [batch: 20160 / 33600], examples_per_second: 3009.7749, train_label_loss: 0.3314, \n"
     ]
    },
    {
     "name": "stdout",
     "output_type": "stream",
     "text": [
      "epoch: 2, [batch: 23520 / 33600], examples_per_second: 2973.7685, train_label_loss: 0.1076, \n"
     ]
    },
    {
     "name": "stdout",
     "output_type": "stream",
     "text": [
      "epoch: 2, [batch: 26880 / 33600], examples_per_second: 3016.0917, train_label_loss: 0.1602, \n"
     ]
    },
    {
     "name": "stdout",
     "output_type": "stream",
     "text": [
      "epoch: 2, [batch: 30240 / 33600], examples_per_second: 3007.9224, train_label_loss: 0.3168, \n"
     ]
    },
    {
     "name": "stdout",
     "output_type": "stream",
     "text": [
      "=============================================================\n",
      "epoch: 2, source_val_acc_label: 0.8660, target_val_acc_label: 0.8564, source_val_label_loss: 0.3740, target_val_label_loss: 89.8475, \n",
      "=============================================================\n"
     ]
    },
    {
     "name": "stdout",
     "output_type": "stream",
     "text": [
      "New best\n"
     ]
    },
    {
     "name": "stdout",
     "output_type": "stream",
     "text": [
      "epoch: 3, [batch: 1 / 33600], examples_per_second: 0.7838, train_label_loss: 0.5059, \n"
     ]
    },
    {
     "name": "stdout",
     "output_type": "stream",
     "text": [
      "epoch: 3, [batch: 3360 / 33600], examples_per_second: 3542.9188, train_label_loss: 0.7412, \n"
     ]
    },
    {
     "name": "stdout",
     "output_type": "stream",
     "text": [
      "epoch: 3, [batch: 6720 / 33600], examples_per_second: 3463.4306, train_label_loss: 0.4553, \n"
     ]
    },
    {
     "name": "stdout",
     "output_type": "stream",
     "text": [
      "epoch: 3, [batch: 10080 / 33600], examples_per_second: 2975.5187, train_label_loss: 0.3294, \n"
     ]
    },
    {
     "name": "stdout",
     "output_type": "stream",
     "text": [
      "epoch: 3, [batch: 13440 / 33600], examples_per_second: 2970.0971, train_label_loss: 0.1406, \n"
     ]
    },
    {
     "name": "stdout",
     "output_type": "stream",
     "text": [
      "epoch: 3, [batch: 16800 / 33600], examples_per_second: 2952.1386, train_label_loss: 0.1851, \n"
     ]
    },
    {
     "name": "stdout",
     "output_type": "stream",
     "text": [
      "epoch: 3, [batch: 20160 / 33600], examples_per_second: 2979.9588, train_label_loss: 0.3458, \n"
     ]
    },
    {
     "name": "stdout",
     "output_type": "stream",
     "text": [
      "epoch: 3, [batch: 23520 / 33600], examples_per_second: 2976.2194, train_label_loss: 0.1238, \n"
     ]
    },
    {
     "name": "stdout",
     "output_type": "stream",
     "text": [
      "epoch: 3, [batch: 26880 / 33600], examples_per_second: 3001.6840, train_label_loss: 0.2634, \n"
     ]
    },
    {
     "name": "stdout",
     "output_type": "stream",
     "text": [
      "epoch: 3, [batch: 30240 / 33600], examples_per_second: 2998.6161, train_label_loss: 0.3513, \n"
     ]
    },
    {
     "name": "stdout",
     "output_type": "stream",
     "text": [
      "=============================================================\n",
      "epoch: 3, source_val_acc_label: 0.8690, target_val_acc_label: 0.8581, source_val_label_loss: 0.3565, target_val_label_loss: 86.1910, \n",
      "=============================================================\n"
     ]
    },
    {
     "name": "stdout",
     "output_type": "stream",
     "text": [
      "New best\n"
     ]
    },
    {
     "name": "stdout",
     "output_type": "stream",
     "text": [
      "epoch: 4, [batch: 1 / 33600], examples_per_second: 0.7802, train_label_loss: 0.0488, \n"
     ]
    },
    {
     "name": "stdout",
     "output_type": "stream",
     "text": [
      "epoch: 4, [batch: 3360 / 33600], examples_per_second: 3443.6681, train_label_loss: 0.2676, \n"
     ]
    },
    {
     "name": "stdout",
     "output_type": "stream",
     "text": [
      "epoch: 4, [batch: 6720 / 33600], examples_per_second: 3273.5776, train_label_loss: 0.2807, \n"
     ]
    },
    {
     "name": "stdout",
     "output_type": "stream",
     "text": [
      "epoch: 4, [batch: 10080 / 33600], examples_per_second: 2983.8655, train_label_loss: 0.2719, \n"
     ]
    },
    {
     "name": "stdout",
     "output_type": "stream",
     "text": [
      "epoch: 4, [batch: 13440 / 33600], examples_per_second: 2977.5782, train_label_loss: 0.2645, \n"
     ]
    },
    {
     "name": "stdout",
     "output_type": "stream",
     "text": [
      "epoch: 4, [batch: 16800 / 33600], examples_per_second: 3001.4958, train_label_loss: 0.2816, \n"
     ]
    },
    {
     "name": "stdout",
     "output_type": "stream",
     "text": [
      "epoch: 4, [batch: 20160 / 33600], examples_per_second: 3001.1819, train_label_loss: 0.5646, \n"
     ]
    },
    {
     "name": "stdout",
     "output_type": "stream",
     "text": [
      "epoch: 4, [batch: 23520 / 33600], examples_per_second: 2979.8826, train_label_loss: 0.2742, \n"
     ]
    },
    {
     "name": "stdout",
     "output_type": "stream",
     "text": [
      "epoch: 4, [batch: 26880 / 33600], examples_per_second: 2982.6483, train_label_loss: 0.2793, \n"
     ]
    },
    {
     "name": "stdout",
     "output_type": "stream",
     "text": [
      "epoch: 4, [batch: 30240 / 33600], examples_per_second: 3007.2901, train_label_loss: 0.0721, \n"
     ]
    },
    {
     "name": "stdout",
     "output_type": "stream",
     "text": [
      "=============================================================\n",
      "epoch: 4, source_val_acc_label: 0.8811, target_val_acc_label: 0.8545, source_val_label_loss: 0.3281, target_val_label_loss: 114.9051, \n",
      "=============================================================\n"
     ]
    },
    {
     "name": "stdout",
     "output_type": "stream",
     "text": [
      "epoch: 5, [batch: 1 / 33600], examples_per_second: 0.7875, train_label_loss: 0.1145, \n"
     ]
    },
    {
     "name": "stdout",
     "output_type": "stream",
     "text": [
      "epoch: 5, [batch: 3360 / 33600], examples_per_second: 3603.1161, train_label_loss: 0.1980, \n"
     ]
    },
    {
     "name": "stdout",
     "output_type": "stream",
     "text": [
      "epoch: 5, [batch: 6720 / 33600], examples_per_second: 2987.6906, train_label_loss: 0.1740, \n"
     ]
    },
    {
     "name": "stdout",
     "output_type": "stream",
     "text": [
      "epoch: 5, [batch: 10080 / 33600], examples_per_second: 2993.8443, train_label_loss: 0.2826, \n"
     ]
    },
    {
     "name": "stdout",
     "output_type": "stream",
     "text": [
      "epoch: 5, [batch: 13440 / 33600], examples_per_second: 3003.3557, train_label_loss: 0.1531, \n"
     ]
    },
    {
     "name": "stdout",
     "output_type": "stream",
     "text": [
      "epoch: 5, [batch: 16800 / 33600], examples_per_second: 2998.9519, train_label_loss: 0.2831, \n"
     ]
    },
    {
     "name": "stdout",
     "output_type": "stream",
     "text": [
      "epoch: 5, [batch: 20160 / 33600], examples_per_second: 3017.4342, train_label_loss: 0.2714, \n"
     ]
    },
    {
     "name": "stdout",
     "output_type": "stream",
     "text": [
      "epoch: 5, [batch: 23520 / 33600], examples_per_second: 2991.8029, train_label_loss: 0.2529, \n"
     ]
    },
    {
     "name": "stdout",
     "output_type": "stream",
     "text": [
      "epoch: 5, [batch: 26880 / 33600], examples_per_second: 2963.2741, train_label_loss: 0.2364, \n"
     ]
    },
    {
     "name": "stdout",
     "output_type": "stream",
     "text": [
      "epoch: 5, [batch: 30240 / 33600], examples_per_second: 3002.8764, train_label_loss: 0.3034, \n"
     ]
    },
    {
     "name": "stdout",
     "output_type": "stream",
     "text": [
      "=============================================================\n",
      "epoch: 5, source_val_acc_label: 0.8824, target_val_acc_label: 0.8565, source_val_label_loss: 0.3238, target_val_label_loss: 119.2081, \n",
      "=============================================================\n"
     ]
    },
    {
     "name": "stdout",
     "output_type": "stream",
     "text": [
      "epoch: 6, [batch: 1 / 33600], examples_per_second: 0.7966, train_label_loss: 0.1462, \n"
     ]
    },
    {
     "name": "stdout",
     "output_type": "stream",
     "text": [
      "epoch: 6, [batch: 3360 / 33600], examples_per_second: 3528.3751, train_label_loss: 0.2250, \n"
     ]
    },
    {
     "name": "stdout",
     "output_type": "stream",
     "text": [
      "epoch: 6, [batch: 6720 / 33600], examples_per_second: 3039.1021, train_label_loss: 0.3684, \n"
     ]
    },
    {
     "name": "stdout",
     "output_type": "stream",
     "text": [
      "epoch: 6, [batch: 10080 / 33600], examples_per_second: 2999.1389, train_label_loss: 0.5035, \n"
     ]
    },
    {
     "name": "stdout",
     "output_type": "stream",
     "text": [
      "epoch: 6, [batch: 13440 / 33600], examples_per_second: 3008.8698, train_label_loss: 0.2990, \n"
     ]
    },
    {
     "name": "stdout",
     "output_type": "stream",
     "text": [
      "epoch: 6, [batch: 16800 / 33600], examples_per_second: 2996.2960, train_label_loss: 0.1920, \n"
     ]
    },
    {
     "name": "stdout",
     "output_type": "stream",
     "text": [
      "epoch: 6, [batch: 20160 / 33600], examples_per_second: 2985.1274, train_label_loss: 0.1112, \n"
     ]
    },
    {
     "name": "stdout",
     "output_type": "stream",
     "text": [
      "epoch: 6, [batch: 23520 / 33600], examples_per_second: 2976.6036, train_label_loss: 0.1797, \n"
     ]
    },
    {
     "name": "stdout",
     "output_type": "stream",
     "text": [
      "epoch: 6, [batch: 26880 / 33600], examples_per_second: 2979.7951, train_label_loss: 0.2807, \n"
     ]
    },
    {
     "name": "stdout",
     "output_type": "stream",
     "text": [
      "epoch: 6, [batch: 30240 / 33600], examples_per_second: 2988.8054, train_label_loss: 0.1347, \n"
     ]
    },
    {
     "name": "stdout",
     "output_type": "stream",
     "text": [
      "=============================================================\n",
      "epoch: 6, source_val_acc_label: 0.8855, target_val_acc_label: 0.8600, source_val_label_loss: 0.3241, target_val_label_loss: 117.2791, \n",
      "=============================================================\n"
     ]
    },
    {
     "name": "stdout",
     "output_type": "stream",
     "text": [
      "New best\n"
     ]
    },
    {
     "name": "stdout",
     "output_type": "stream",
     "text": [
      "epoch: 7, [batch: 1 / 33600], examples_per_second: 0.8078, train_label_loss: 0.2000, \n"
     ]
    },
    {
     "name": "stdout",
     "output_type": "stream",
     "text": [
      "epoch: 7, [batch: 3360 / 33600], examples_per_second: 3366.5706, train_label_loss: 0.3681, \n"
     ]
    },
    {
     "name": "stdout",
     "output_type": "stream",
     "text": [
      "epoch: 7, [batch: 6720 / 33600], examples_per_second: 3037.0805, train_label_loss: 0.2579, \n"
     ]
    },
    {
     "name": "stdout",
     "output_type": "stream",
     "text": [
      "epoch: 7, [batch: 10080 / 33600], examples_per_second: 3013.4273, train_label_loss: 0.2578, \n"
     ]
    },
    {
     "name": "stdout",
     "output_type": "stream",
     "text": [
      "epoch: 7, [batch: 13440 / 33600], examples_per_second: 2997.8535, train_label_loss: 0.2050, \n"
     ]
    },
    {
     "name": "stdout",
     "output_type": "stream",
     "text": [
      "epoch: 7, [batch: 16800 / 33600], examples_per_second: 2992.3599, train_label_loss: 0.2902, \n"
     ]
    },
    {
     "name": "stdout",
     "output_type": "stream",
     "text": [
      "epoch: 7, [batch: 20160 / 33600], examples_per_second: 3013.3722, train_label_loss: 0.0657, \n"
     ]
    },
    {
     "name": "stdout",
     "output_type": "stream",
     "text": [
      "epoch: 7, [batch: 23520 / 33600], examples_per_second: 2980.8086, train_label_loss: 0.1124, \n"
     ]
    },
    {
     "name": "stdout",
     "output_type": "stream",
     "text": [
      "epoch: 7, [batch: 26880 / 33600], examples_per_second: 2999.8232, train_label_loss: 0.2117, \n"
     ]
    },
    {
     "name": "stdout",
     "output_type": "stream",
     "text": [
      "epoch: 7, [batch: 30240 / 33600], examples_per_second: 3005.6629, train_label_loss: 0.1955, \n"
     ]
    },
    {
     "name": "stdout",
     "output_type": "stream",
     "text": [
      "=============================================================\n",
      "epoch: 7, source_val_acc_label: 0.8857, target_val_acc_label: 0.8599, source_val_label_loss: 0.3186, target_val_label_loss: 115.1947, \n",
      "=============================================================\n"
     ]
    },
    {
     "name": "stdout",
     "output_type": "stream",
     "text": [
      "epoch: 8, [batch: 1 / 33600], examples_per_second: 0.8107, train_label_loss: 0.2414, \n"
     ]
    },
    {
     "name": "stdout",
     "output_type": "stream",
     "text": [
      "epoch: 8, [batch: 3360 / 33600], examples_per_second: 3288.6547, train_label_loss: 0.2134, \n"
     ]
    },
    {
     "name": "stdout",
     "output_type": "stream",
     "text": [
      "epoch: 8, [batch: 6720 / 33600], examples_per_second: 3013.5580, train_label_loss: 0.2193, \n"
     ]
    },
    {
     "name": "stdout",
     "output_type": "stream",
     "text": [
      "epoch: 8, [batch: 10080 / 33600], examples_per_second: 2987.5145, train_label_loss: 0.1013, \n"
     ]
    },
    {
     "name": "stdout",
     "output_type": "stream",
     "text": [
      "epoch: 8, [batch: 13440 / 33600], examples_per_second: 2957.5297, train_label_loss: 0.0817, \n"
     ]
    },
    {
     "name": "stdout",
     "output_type": "stream",
     "text": [
      "epoch: 8, [batch: 16800 / 33600], examples_per_second: 3006.8796, train_label_loss: 0.2047, \n"
     ]
    },
    {
     "name": "stdout",
     "output_type": "stream",
     "text": [
      "epoch: 8, [batch: 20160 / 33600], examples_per_second: 3011.9219, train_label_loss: 0.1601, \n"
     ]
    },
    {
     "name": "stdout",
     "output_type": "stream",
     "text": [
      "epoch: 8, [batch: 23520 / 33600], examples_per_second: 2994.4969, train_label_loss: 0.1689, \n"
     ]
    },
    {
     "name": "stdout",
     "output_type": "stream",
     "text": [
      "epoch: 8, [batch: 26880 / 33600], examples_per_second: 3007.9170, train_label_loss: 0.1672, \n"
     ]
    },
    {
     "name": "stdout",
     "output_type": "stream",
     "text": [
      "epoch: 8, [batch: 30240 / 33600], examples_per_second: 2978.6271, train_label_loss: 0.1711, \n"
     ]
    },
    {
     "name": "stdout",
     "output_type": "stream",
     "text": [
      "=============================================================\n",
      "epoch: 8, source_val_acc_label: 0.8903, target_val_acc_label: 0.8615, source_val_label_loss: 0.3152, target_val_label_loss: 112.6509, \n",
      "=============================================================\n"
     ]
    },
    {
     "name": "stdout",
     "output_type": "stream",
     "text": [
      "New best\n"
     ]
    },
    {
     "name": "stdout",
     "output_type": "stream",
     "text": [
      "epoch: 9, [batch: 1 / 33600], examples_per_second: 0.8247, train_label_loss: 0.1342, \n"
     ]
    },
    {
     "name": "stdout",
     "output_type": "stream",
     "text": [
      "epoch: 9, [batch: 3360 / 33600], examples_per_second: 3297.4486, train_label_loss: 0.3984, \n"
     ]
    },
    {
     "name": "stdout",
     "output_type": "stream",
     "text": [
      "epoch: 9, [batch: 6720 / 33600], examples_per_second: 2989.6248, train_label_loss: 0.3170, \n"
     ]
    },
    {
     "name": "stdout",
     "output_type": "stream",
     "text": [
      "epoch: 9, [batch: 10080 / 33600], examples_per_second: 2957.2135, train_label_loss: 0.1255, \n"
     ]
    },
    {
     "name": "stdout",
     "output_type": "stream",
     "text": [
      "epoch: 9, [batch: 13440 / 33600], examples_per_second: 3000.3332, train_label_loss: 0.2251, \n"
     ]
    },
    {
     "name": "stdout",
     "output_type": "stream",
     "text": [
      "epoch: 9, [batch: 16800 / 33600], examples_per_second: 2981.5116, train_label_loss: 0.0572, \n"
     ]
    },
    {
     "name": "stdout",
     "output_type": "stream",
     "text": [
      "epoch: 9, [batch: 20160 / 33600], examples_per_second: 2992.2034, train_label_loss: 0.2173, \n"
     ]
    },
    {
     "name": "stdout",
     "output_type": "stream",
     "text": [
      "epoch: 9, [batch: 23520 / 33600], examples_per_second: 3013.3771, train_label_loss: 0.0892, \n"
     ]
    },
    {
     "name": "stdout",
     "output_type": "stream",
     "text": [
      "epoch: 9, [batch: 26880 / 33600], examples_per_second: 3014.6691, train_label_loss: 0.2631, \n"
     ]
    },
    {
     "name": "stdout",
     "output_type": "stream",
     "text": [
      "epoch: 9, [batch: 30240 / 33600], examples_per_second: 3009.2729, train_label_loss: 0.1616, \n"
     ]
    },
    {
     "name": "stdout",
     "output_type": "stream",
     "text": [
      "=============================================================\n",
      "epoch: 9, source_val_acc_label: 0.8917, target_val_acc_label: 0.8616, source_val_label_loss: 0.3167, target_val_label_loss: 115.8759, \n",
      "=============================================================\n"
     ]
    },
    {
     "name": "stdout",
     "output_type": "stream",
     "text": [
      "New best\n"
     ]
    },
    {
     "name": "stdout",
     "output_type": "stream",
     "text": [
      "epoch: 10, [batch: 1 / 33600], examples_per_second: 0.8214, train_label_loss: 0.2377, \n"
     ]
    },
    {
     "name": "stdout",
     "output_type": "stream",
     "text": [
      "epoch: 10, [batch: 3360 / 33600], examples_per_second: 3217.4803, train_label_loss: 0.1017, \n"
     ]
    },
    {
     "name": "stdout",
     "output_type": "stream",
     "text": [
      "epoch: 10, [batch: 6720 / 33600], examples_per_second: 3017.3494, train_label_loss: 0.0626, \n"
     ]
    },
    {
     "name": "stdout",
     "output_type": "stream",
     "text": [
      "epoch: 10, [batch: 10080 / 33600], examples_per_second: 3014.1380, train_label_loss: 0.0447, \n"
     ]
    },
    {
     "name": "stdout",
     "output_type": "stream",
     "text": [
      "epoch: 10, [batch: 13440 / 33600], examples_per_second: 3011.4706, train_label_loss: 0.1973, \n"
     ]
    },
    {
     "name": "stdout",
     "output_type": "stream",
     "text": [
      "epoch: 10, [batch: 16800 / 33600], examples_per_second: 3041.6114, train_label_loss: 0.1074, \n"
     ]
    },
    {
     "name": "stdout",
     "output_type": "stream",
     "text": [
      "epoch: 10, [batch: 20160 / 33600], examples_per_second: 3037.6838, train_label_loss: 0.1273, \n"
     ]
    },
    {
     "name": "stdout",
     "output_type": "stream",
     "text": [
      "epoch: 10, [batch: 23520 / 33600], examples_per_second: 2977.9250, train_label_loss: 0.0615, \n"
     ]
    },
    {
     "name": "stdout",
     "output_type": "stream",
     "text": [
      "epoch: 10, [batch: 26880 / 33600], examples_per_second: 2983.0479, train_label_loss: 0.1241, \n"
     ]
    },
    {
     "name": "stdout",
     "output_type": "stream",
     "text": [
      "epoch: 10, [batch: 30240 / 33600], examples_per_second: 2977.0605, train_label_loss: 0.3238, \n"
     ]
    },
    {
     "name": "stdout",
     "output_type": "stream",
     "text": [
      "=============================================================\n",
      "epoch: 10, source_val_acc_label: 0.8871, target_val_acc_label: 0.8639, source_val_label_loss: 0.3266, target_val_label_loss: 113.4318, \n",
      "=============================================================\n"
     ]
    },
    {
     "name": "stdout",
     "output_type": "stream",
     "text": [
      "New best\n"
     ]
    },
    {
     "name": "stdout",
     "output_type": "stream",
     "text": [
      "epoch: 11, [batch: 1 / 33600], examples_per_second: 0.8249, train_label_loss: 0.2249, \n"
     ]
    },
    {
     "name": "stdout",
     "output_type": "stream",
     "text": [
      "epoch: 11, [batch: 3360 / 33600], examples_per_second: 3179.3684, train_label_loss: 0.1463, \n"
     ]
    },
    {
     "name": "stdout",
     "output_type": "stream",
     "text": [
      "epoch: 11, [batch: 6720 / 33600], examples_per_second: 3019.0552, train_label_loss: 0.0483, \n"
     ]
    },
    {
     "name": "stdout",
     "output_type": "stream",
     "text": [
      "epoch: 11, [batch: 10080 / 33600], examples_per_second: 3020.4129, train_label_loss: 0.1930, \n"
     ]
    },
    {
     "name": "stdout",
     "output_type": "stream",
     "text": [
      "epoch: 11, [batch: 13440 / 33600], examples_per_second: 3014.7358, train_label_loss: 0.1292, \n"
     ]
    },
    {
     "name": "stdout",
     "output_type": "stream",
     "text": [
      "epoch: 11, [batch: 16800 / 33600], examples_per_second: 3019.8730, train_label_loss: 0.0218, \n"
     ]
    },
    {
     "name": "stdout",
     "output_type": "stream",
     "text": [
      "epoch: 11, [batch: 20160 / 33600], examples_per_second: 2991.2946, train_label_loss: 0.0325, \n"
     ]
    },
    {
     "name": "stdout",
     "output_type": "stream",
     "text": [
      "epoch: 11, [batch: 23520 / 33600], examples_per_second: 2969.7161, train_label_loss: 0.2324, \n"
     ]
    },
    {
     "name": "stdout",
     "output_type": "stream",
     "text": [
      "epoch: 11, [batch: 26880 / 33600], examples_per_second: 3011.8458, train_label_loss: 0.0438, \n"
     ]
    },
    {
     "name": "stdout",
     "output_type": "stream",
     "text": [
      "epoch: 11, [batch: 30240 / 33600], examples_per_second: 2980.4796, train_label_loss: 0.2056, \n"
     ]
    },
    {
     "name": "stdout",
     "output_type": "stream",
     "text": [
      "=============================================================\n",
      "epoch: 11, source_val_acc_label: 0.8955, target_val_acc_label: 0.8693, source_val_label_loss: 0.3139, target_val_label_loss: 114.9686, \n",
      "=============================================================\n"
     ]
    },
    {
     "name": "stdout",
     "output_type": "stream",
     "text": [
      "New best\n"
     ]
    },
    {
     "name": "stdout",
     "output_type": "stream",
     "text": [
      "epoch: 12, [batch: 1 / 33600], examples_per_second: 0.8410, train_label_loss: 0.1317, \n"
     ]
    },
    {
     "name": "stdout",
     "output_type": "stream",
     "text": [
      "epoch: 12, [batch: 3360 / 33600], examples_per_second: 3188.3354, train_label_loss: 0.0530, \n"
     ]
    },
    {
     "name": "stdout",
     "output_type": "stream",
     "text": [
      "epoch: 12, [batch: 6720 / 33600], examples_per_second: 3009.4060, train_label_loss: 0.2283, \n"
     ]
    },
    {
     "name": "stdout",
     "output_type": "stream",
     "text": [
      "epoch: 12, [batch: 10080 / 33600], examples_per_second: 2997.9083, train_label_loss: 0.0851, \n"
     ]
    },
    {
     "name": "stdout",
     "output_type": "stream",
     "text": [
      "epoch: 12, [batch: 13440 / 33600], examples_per_second: 2996.3083, train_label_loss: 0.0463, \n"
     ]
    },
    {
     "name": "stdout",
     "output_type": "stream",
     "text": [
      "epoch: 12, [batch: 16800 / 33600], examples_per_second: 2947.5910, train_label_loss: 0.0592, \n"
     ]
    },
    {
     "name": "stdout",
     "output_type": "stream",
     "text": [
      "epoch: 12, [batch: 20160 / 33600], examples_per_second: 2991.7096, train_label_loss: 0.0142, \n"
     ]
    },
    {
     "name": "stdout",
     "output_type": "stream",
     "text": [
      "epoch: 12, [batch: 23520 / 33600], examples_per_second: 2993.2949, train_label_loss: 0.1507, \n"
     ]
    },
    {
     "name": "stdout",
     "output_type": "stream",
     "text": [
      "epoch: 12, [batch: 26880 / 33600], examples_per_second: 2971.8015, train_label_loss: 0.0326, \n"
     ]
    },
    {
     "name": "stdout",
     "output_type": "stream",
     "text": [
      "epoch: 12, [batch: 30240 / 33600], examples_per_second: 3003.9424, train_label_loss: 0.1313, \n"
     ]
    },
    {
     "name": "stdout",
     "output_type": "stream",
     "text": [
      "=============================================================\n",
      "epoch: 12, source_val_acc_label: 0.8951, target_val_acc_label: 0.8693, source_val_label_loss: 0.3216, target_val_label_loss: 124.8737, \n",
      "=============================================================\n"
     ]
    },
    {
     "name": "stdout",
     "output_type": "stream",
     "text": [
      "New best\n"
     ]
    },
    {
     "name": "stdout",
     "output_type": "stream",
     "text": [
      "epoch: 13, [batch: 1 / 33600], examples_per_second: 0.8350, train_label_loss: 0.3016, \n"
     ]
    },
    {
     "name": "stdout",
     "output_type": "stream",
     "text": [
      "epoch: 13, [batch: 3360 / 33600], examples_per_second: 3140.4835, train_label_loss: 0.1115, \n"
     ]
    },
    {
     "name": "stdout",
     "output_type": "stream",
     "text": [
      "epoch: 13, [batch: 6720 / 33600], examples_per_second: 2967.9777, train_label_loss: 0.0734, \n"
     ]
    },
    {
     "name": "stdout",
     "output_type": "stream",
     "text": [
      "epoch: 13, [batch: 10080 / 33600], examples_per_second: 3010.3032, train_label_loss: 0.0831, \n"
     ]
    },
    {
     "name": "stdout",
     "output_type": "stream",
     "text": [
      "epoch: 13, [batch: 13440 / 33600], examples_per_second: 3032.6619, train_label_loss: 0.1143, \n"
     ]
    },
    {
     "name": "stdout",
     "output_type": "stream",
     "text": [
      "epoch: 13, [batch: 16800 / 33600], examples_per_second: 2992.6236, train_label_loss: 0.2656, \n"
     ]
    },
    {
     "name": "stdout",
     "output_type": "stream",
     "text": [
      "epoch: 13, [batch: 20160 / 33600], examples_per_second: 3035.7586, train_label_loss: 0.0904, \n"
     ]
    },
    {
     "name": "stdout",
     "output_type": "stream",
     "text": [
      "epoch: 13, [batch: 23520 / 33600], examples_per_second: 2994.9437, train_label_loss: 0.1556, \n"
     ]
    },
    {
     "name": "stdout",
     "output_type": "stream",
     "text": [
      "epoch: 13, [batch: 26880 / 33600], examples_per_second: 3021.7599, train_label_loss: 0.1675, \n"
     ]
    },
    {
     "name": "stdout",
     "output_type": "stream",
     "text": [
      "epoch: 13, [batch: 30240 / 33600], examples_per_second: 3014.9970, train_label_loss: 0.1689, \n"
     ]
    },
    {
     "name": "stdout",
     "output_type": "stream",
     "text": [
      "=============================================================\n",
      "epoch: 13, source_val_acc_label: 0.8956, target_val_acc_label: 0.8721, source_val_label_loss: 0.3295, target_val_label_loss: 121.9339, \n",
      "=============================================================\n"
     ]
    },
    {
     "name": "stdout",
     "output_type": "stream",
     "text": [
      "New best\n"
     ]
    },
    {
     "name": "stdout",
     "output_type": "stream",
     "text": [
      "epoch: 14, [batch: 1 / 33600], examples_per_second: 0.8346, train_label_loss: 0.0763, \n"
     ]
    },
    {
     "name": "stdout",
     "output_type": "stream",
     "text": [
      "epoch: 14, [batch: 3360 / 33600], examples_per_second: 3155.4065, train_label_loss: 0.0165, \n"
     ]
    },
    {
     "name": "stdout",
     "output_type": "stream",
     "text": [
      "epoch: 14, [batch: 6720 / 33600], examples_per_second: 2966.4127, train_label_loss: 0.0870, \n"
     ]
    },
    {
     "name": "stdout",
     "output_type": "stream",
     "text": [
      "epoch: 14, [batch: 10080 / 33600], examples_per_second: 2971.7000, train_label_loss: 0.1784, \n"
     ]
    },
    {
     "name": "stdout",
     "output_type": "stream",
     "text": [
      "epoch: 14, [batch: 13440 / 33600], examples_per_second: 2988.3834, train_label_loss: 0.0593, \n"
     ]
    },
    {
     "name": "stdout",
     "output_type": "stream",
     "text": [
      "epoch: 14, [batch: 16800 / 33600], examples_per_second: 2966.1039, train_label_loss: 0.0440, \n"
     ]
    },
    {
     "name": "stdout",
     "output_type": "stream",
     "text": [
      "epoch: 14, [batch: 20160 / 33600], examples_per_second: 2999.2673, train_label_loss: 0.1562, \n"
     ]
    },
    {
     "name": "stdout",
     "output_type": "stream",
     "text": [
      "epoch: 14, [batch: 23520 / 33600], examples_per_second: 2987.6952, train_label_loss: 0.0167, \n"
     ]
    },
    {
     "name": "stdout",
     "output_type": "stream",
     "text": [
      "epoch: 14, [batch: 26880 / 33600], examples_per_second: 2994.1966, train_label_loss: 0.0558, \n"
     ]
    },
    {
     "name": "stdout",
     "output_type": "stream",
     "text": [
      "epoch: 14, [batch: 30240 / 33600], examples_per_second: 3017.3912, train_label_loss: 0.1334, \n"
     ]
    },
    {
     "name": "stdout",
     "output_type": "stream",
     "text": [
      "=============================================================\n",
      "epoch: 14, source_val_acc_label: 0.8926, target_val_acc_label: 0.8734, source_val_label_loss: 0.3303, target_val_label_loss: 120.2560, \n",
      "=============================================================\n"
     ]
    },
    {
     "name": "stdout",
     "output_type": "stream",
     "text": [
      "New best\n"
     ]
    },
    {
     "name": "stdout",
     "output_type": "stream",
     "text": [
      "epoch: 15, [batch: 1 / 33600], examples_per_second: 0.8335, train_label_loss: 0.0270, \n"
     ]
    },
    {
     "name": "stdout",
     "output_type": "stream",
     "text": [
      "epoch: 15, [batch: 3360 / 33600], examples_per_second: 3123.7830, train_label_loss: 0.1274, \n"
     ]
    },
    {
     "name": "stdout",
     "output_type": "stream",
     "text": [
      "epoch: 15, [batch: 6720 / 33600], examples_per_second: 2996.3163, train_label_loss: 0.2464, \n"
     ]
    },
    {
     "name": "stdout",
     "output_type": "stream",
     "text": [
      "epoch: 15, [batch: 10080 / 33600], examples_per_second: 2982.7782, train_label_loss: 0.1936, \n"
     ]
    },
    {
     "name": "stdout",
     "output_type": "stream",
     "text": [
      "epoch: 15, [batch: 13440 / 33600], examples_per_second: 2979.1312, train_label_loss: 0.1268, \n"
     ]
    },
    {
     "name": "stdout",
     "output_type": "stream",
     "text": [
      "epoch: 15, [batch: 16800 / 33600], examples_per_second: 2962.6215, train_label_loss: 0.1239, \n"
     ]
    },
    {
     "name": "stdout",
     "output_type": "stream",
     "text": [
      "epoch: 15, [batch: 20160 / 33600], examples_per_second: 3010.1516, train_label_loss: 0.2986, \n"
     ]
    },
    {
     "name": "stdout",
     "output_type": "stream",
     "text": [
      "epoch: 15, [batch: 23520 / 33600], examples_per_second: 3001.4690, train_label_loss: 0.0941, \n"
     ]
    },
    {
     "name": "stdout",
     "output_type": "stream",
     "text": [
      "epoch: 15, [batch: 26880 / 33600], examples_per_second: 2990.9266, train_label_loss: 0.2013, \n"
     ]
    },
    {
     "name": "stdout",
     "output_type": "stream",
     "text": [
      "epoch: 15, [batch: 30240 / 33600], examples_per_second: 2971.8941, train_label_loss: 0.0199, \n"
     ]
    },
    {
     "name": "stdout",
     "output_type": "stream",
     "text": [
      "=============================================================\n",
      "epoch: 15, source_val_acc_label: 0.8943, target_val_acc_label: 0.8716, source_val_label_loss: 0.3480, target_val_label_loss: 131.5049, \n",
      "=============================================================\n"
     ]
    },
    {
     "name": "stdout",
     "output_type": "stream",
     "text": [
      "epoch: 16, [batch: 1 / 33600], examples_per_second: 0.8394, train_label_loss: 0.1316, \n"
     ]
    },
    {
     "name": "stdout",
     "output_type": "stream",
     "text": [
      "epoch: 16, [batch: 3360 / 33600], examples_per_second: 3093.5463, train_label_loss: 0.0505, \n"
     ]
    },
    {
     "name": "stdout",
     "output_type": "stream",
     "text": [
      "epoch: 16, [batch: 6720 / 33600], examples_per_second: 2977.3874, train_label_loss: 0.1042, \n"
     ]
    },
    {
     "name": "stdout",
     "output_type": "stream",
     "text": [
      "epoch: 16, [batch: 10080 / 33600], examples_per_second: 3027.0189, train_label_loss: 0.1447, \n"
     ]
    },
    {
     "name": "stdout",
     "output_type": "stream",
     "text": [
      "epoch: 16, [batch: 13440 / 33600], examples_per_second: 3033.2282, train_label_loss: 0.0619, \n"
     ]
    },
    {
     "name": "stdout",
     "output_type": "stream",
     "text": [
      "epoch: 16, [batch: 16800 / 33600], examples_per_second: 2999.0804, train_label_loss: 0.0985, \n"
     ]
    },
    {
     "name": "stdout",
     "output_type": "stream",
     "text": [
      "epoch: 16, [batch: 20160 / 33600], examples_per_second: 2981.6160, train_label_loss: 0.0192, \n"
     ]
    },
    {
     "name": "stdout",
     "output_type": "stream",
     "text": [
      "epoch: 16, [batch: 23520 / 33600], examples_per_second: 2963.9786, train_label_loss: 0.0201, \n"
     ]
    },
    {
     "name": "stdout",
     "output_type": "stream",
     "text": [
      "epoch: 16, [batch: 26880 / 33600], examples_per_second: 2987.8913, train_label_loss: 0.0717, \n"
     ]
    },
    {
     "name": "stdout",
     "output_type": "stream",
     "text": [
      "epoch: 16, [batch: 30240 / 33600], examples_per_second: 2999.6832, train_label_loss: 0.0659, \n"
     ]
    },
    {
     "name": "stdout",
     "output_type": "stream",
     "text": [
      "=============================================================\n",
      "epoch: 16, source_val_acc_label: 0.8957, target_val_acc_label: 0.8749, source_val_label_loss: 0.3446, target_val_label_loss: 144.7315, \n",
      "=============================================================\n"
     ]
    },
    {
     "name": "stdout",
     "output_type": "stream",
     "text": [
      "New best\n"
     ]
    },
    {
     "name": "stdout",
     "output_type": "stream",
     "text": [
      "epoch: 17, [batch: 1 / 33600], examples_per_second: 0.8368, train_label_loss: 0.0813, \n"
     ]
    },
    {
     "name": "stdout",
     "output_type": "stream",
     "text": [
      "epoch: 17, [batch: 3360 / 33600], examples_per_second: 2995.9204, train_label_loss: 0.0748, \n"
     ]
    },
    {
     "name": "stdout",
     "output_type": "stream",
     "text": [
      "epoch: 17, [batch: 6720 / 33600], examples_per_second: 2979.0996, train_label_loss: 0.2037, \n"
     ]
    },
    {
     "name": "stdout",
     "output_type": "stream",
     "text": [
      "epoch: 17, [batch: 10080 / 33600], examples_per_second: 3001.0945, train_label_loss: 0.2300, \n"
     ]
    },
    {
     "name": "stdout",
     "output_type": "stream",
     "text": [
      "epoch: 17, [batch: 13440 / 33600], examples_per_second: 3004.9764, train_label_loss: 0.0732, \n"
     ]
    },
    {
     "name": "stdout",
     "output_type": "stream",
     "text": [
      "epoch: 17, [batch: 16800 / 33600], examples_per_second: 2971.5256, train_label_loss: 0.0368, \n"
     ]
    },
    {
     "name": "stdout",
     "output_type": "stream",
     "text": [
      "epoch: 17, [batch: 20160 / 33600], examples_per_second: 2977.2288, train_label_loss: 0.0707, \n"
     ]
    },
    {
     "name": "stdout",
     "output_type": "stream",
     "text": [
      "epoch: 17, [batch: 23520 / 33600], examples_per_second: 2997.7684, train_label_loss: 0.0392, \n"
     ]
    },
    {
     "name": "stdout",
     "output_type": "stream",
     "text": [
      "epoch: 17, [batch: 26880 / 33600], examples_per_second: 2946.9903, train_label_loss: 0.0138, \n"
     ]
    },
    {
     "name": "stdout",
     "output_type": "stream",
     "text": [
      "epoch: 17, [batch: 30240 / 33600], examples_per_second: 3003.4366, train_label_loss: 0.1886, \n"
     ]
    },
    {
     "name": "stdout",
     "output_type": "stream",
     "text": [
      "=============================================================\n",
      "epoch: 17, source_val_acc_label: 0.8913, target_val_acc_label: 0.8743, source_val_label_loss: 0.3607, target_val_label_loss: 141.7478, \n",
      "=============================================================\n"
     ]
    },
    {
     "name": "stdout",
     "output_type": "stream",
     "text": [
      "epoch: 18, [batch: 1 / 33600], examples_per_second: 0.8479, train_label_loss: 0.2822, \n"
     ]
    },
    {
     "name": "stdout",
     "output_type": "stream",
     "text": [
      "epoch: 18, [batch: 3360 / 33600], examples_per_second: 3462.9091, train_label_loss: 0.1358, \n"
     ]
    },
    {
     "name": "stdout",
     "output_type": "stream",
     "text": [
      "epoch: 18, [batch: 6720 / 33600], examples_per_second: 3422.4842, train_label_loss: 0.0257, \n"
     ]
    },
    {
     "name": "stdout",
     "output_type": "stream",
     "text": [
      "epoch: 18, [batch: 10080 / 33600], examples_per_second: 3426.9493, train_label_loss: 0.1631, \n"
     ]
    },
    {
     "name": "stdout",
     "output_type": "stream",
     "text": [
      "epoch: 18, [batch: 13440 / 33600], examples_per_second: 3423.8074, train_label_loss: 0.1652, \n"
     ]
    },
    {
     "name": "stdout",
     "output_type": "stream",
     "text": [
      "epoch: 18, [batch: 16800 / 33600], examples_per_second: 3783.1060, train_label_loss: 0.0478, \n"
     ]
    },
    {
     "name": "stdout",
     "output_type": "stream",
     "text": [
      "epoch: 18, [batch: 20160 / 33600], examples_per_second: 3996.7528, train_label_loss: 0.0884, \n"
     ]
    },
    {
     "name": "stdout",
     "output_type": "stream",
     "text": [
      "epoch: 18, [batch: 23520 / 33600], examples_per_second: 3935.0358, train_label_loss: 0.1150, \n"
     ]
    },
    {
     "name": "stdout",
     "output_type": "stream",
     "text": [
      "epoch: 18, [batch: 26880 / 33600], examples_per_second: 3967.3460, train_label_loss: 0.2015, \n"
     ]
    },
    {
     "name": "stdout",
     "output_type": "stream",
     "text": [
      "epoch: 18, [batch: 30240 / 33600], examples_per_second: 3915.8922, train_label_loss: 0.2002, \n"
     ]
    },
    {
     "name": "stdout",
     "output_type": "stream",
     "text": [
      "=============================================================\n",
      "epoch: 18, source_val_acc_label: 0.8950, target_val_acc_label: 0.8754, source_val_label_loss: 0.3621, target_val_label_loss: 149.6501, \n",
      "=============================================================\n"
     ]
    },
    {
     "name": "stdout",
     "output_type": "stream",
     "text": [
      "New best\n"
     ]
    },
    {
     "name": "stdout",
     "output_type": "stream",
     "text": [
      "epoch: 19, [batch: 1 / 33600], examples_per_second: 1.0603, train_label_loss: 0.0154, \n"
     ]
    },
    {
     "name": "stdout",
     "output_type": "stream",
     "text": [
      "epoch: 19, [batch: 3360 / 33600], examples_per_second: 3403.8303, train_label_loss: 0.0341, \n"
     ]
    },
    {
     "name": "stdout",
     "output_type": "stream",
     "text": [
      "epoch: 19, [batch: 6720 / 33600], examples_per_second: 3476.5726, train_label_loss: 0.0581, \n"
     ]
    },
    {
     "name": "stdout",
     "output_type": "stream",
     "text": [
      "epoch: 19, [batch: 10080 / 33600], examples_per_second: 3697.8702, train_label_loss: 0.0747, \n"
     ]
    },
    {
     "name": "stdout",
     "output_type": "stream",
     "text": [
      "epoch: 19, [batch: 13440 / 33600], examples_per_second: 3480.8161, train_label_loss: 0.0310, \n"
     ]
    },
    {
     "name": "stdout",
     "output_type": "stream",
     "text": [
      "epoch: 19, [batch: 16800 / 33600], examples_per_second: 3787.1192, train_label_loss: 0.0421, \n"
     ]
    },
    {
     "name": "stdout",
     "output_type": "stream",
     "text": [
      "epoch: 19, [batch: 20160 / 33600], examples_per_second: 4290.2193, train_label_loss: 0.0870, \n"
     ]
    },
    {
     "name": "stdout",
     "output_type": "stream",
     "text": [
      "epoch: 19, [batch: 23520 / 33600], examples_per_second: 4099.3129, train_label_loss: 0.0982, \n"
     ]
    },
    {
     "name": "stdout",
     "output_type": "stream",
     "text": [
      "epoch: 19, [batch: 26880 / 33600], examples_per_second: 3971.4776, train_label_loss: 0.0419, \n"
     ]
    },
    {
     "name": "stdout",
     "output_type": "stream",
     "text": [
      "epoch: 19, [batch: 30240 / 33600], examples_per_second: 4130.9284, train_label_loss: 0.2271, \n"
     ]
    },
    {
     "name": "stdout",
     "output_type": "stream",
     "text": [
      "=============================================================\n",
      "epoch: 19, source_val_acc_label: 0.8939, target_val_acc_label: 0.8772, source_val_label_loss: 0.3642, target_val_label_loss: 148.1866, \n",
      "=============================================================\n"
     ]
    },
    {
     "name": "stdout",
     "output_type": "stream",
     "text": [
      "New best\n"
     ]
    },
    {
     "name": "stdout",
     "output_type": "stream",
     "text": [
      "epoch: 20, [batch: 1 / 33600], examples_per_second: 1.0685, train_label_loss: 0.1168, \n"
     ]
    },
    {
     "name": "stdout",
     "output_type": "stream",
     "text": [
      "epoch: 20, [batch: 3360 / 33600], examples_per_second: 3269.8143, train_label_loss: 0.1010, \n"
     ]
    },
    {
     "name": "stdout",
     "output_type": "stream",
     "text": [
      "epoch: 20, [batch: 6720 / 33600], examples_per_second: 3438.2110, train_label_loss: 0.0652, \n"
     ]
    },
    {
     "name": "stdout",
     "output_type": "stream",
     "text": [
      "epoch: 20, [batch: 10080 / 33600], examples_per_second: 3457.2698, train_label_loss: 0.1863, \n"
     ]
    },
    {
     "name": "stdout",
     "output_type": "stream",
     "text": [
      "epoch: 20, [batch: 13440 / 33600], examples_per_second: 3206.8137, train_label_loss: 0.0037, \n"
     ]
    },
    {
     "name": "stdout",
     "output_type": "stream",
     "text": [
      "epoch: 20, [batch: 16800 / 33600], examples_per_second: 3398.7429, train_label_loss: 0.0731, \n"
     ]
    },
    {
     "name": "stdout",
     "output_type": "stream",
     "text": [
      "epoch: 20, [batch: 20160 / 33600], examples_per_second: 3754.4358, train_label_loss: 0.0177, \n"
     ]
    },
    {
     "name": "stdout",
     "output_type": "stream",
     "text": [
      "epoch: 20, [batch: 23520 / 33600], examples_per_second: 3652.7055, train_label_loss: 0.0633, \n"
     ]
    },
    {
     "name": "stdout",
     "output_type": "stream",
     "text": [
      "epoch: 20, [batch: 26880 / 33600], examples_per_second: 3388.9745, train_label_loss: 0.1080, \n"
     ]
    },
    {
     "name": "stdout",
     "output_type": "stream",
     "text": [
      "epoch: 20, [batch: 30240 / 33600], examples_per_second: 3504.7810, train_label_loss: 0.1907, \n"
     ]
    },
    {
     "name": "stdout",
     "output_type": "stream",
     "text": [
      "=============================================================\n",
      "epoch: 20, source_val_acc_label: 0.8962, target_val_acc_label: 0.8763, source_val_label_loss: 0.3592, target_val_label_loss: 143.2985, \n",
      "=============================================================\n"
     ]
    },
    {
     "name": "stdout",
     "output_type": "stream",
     "text": [
      "epoch: 21, [batch: 1 / 33600], examples_per_second: 1.0264, train_label_loss: 0.0005, \n"
     ]
    },
    {
     "name": "stdout",
     "output_type": "stream",
     "text": [
      "epoch: 21, [batch: 3360 / 33600], examples_per_second: 4057.0497, train_label_loss: 0.0373, \n"
     ]
    },
    {
     "name": "stdout",
     "output_type": "stream",
     "text": [
      "epoch: 21, [batch: 6720 / 33600], examples_per_second: 4262.8972, train_label_loss: 0.0127, \n"
     ]
    },
    {
     "name": "stdout",
     "output_type": "stream",
     "text": [
      "epoch: 21, [batch: 10080 / 33600], examples_per_second: 3970.5113, train_label_loss: 0.0491, \n"
     ]
    },
    {
     "name": "stdout",
     "output_type": "stream",
     "text": [
      "epoch: 21, [batch: 13440 / 33600], examples_per_second: 3603.1212, train_label_loss: 0.1505, \n"
     ]
    },
    {
     "name": "stdout",
     "output_type": "stream",
     "text": [
      "epoch: 21, [batch: 16800 / 33600], examples_per_second: 3377.2216, train_label_loss: 0.0982, \n"
     ]
    },
    {
     "name": "stdout",
     "output_type": "stream",
     "text": [
      "epoch: 21, [batch: 20160 / 33600], examples_per_second: 3580.2891, train_label_loss: 0.0189, \n"
     ]
    },
    {
     "name": "stdout",
     "output_type": "stream",
     "text": [
      "epoch: 21, [batch: 23520 / 33600], examples_per_second: 3866.1455, train_label_loss: 0.0027, \n"
     ]
    },
    {
     "name": "stdout",
     "output_type": "stream",
     "text": [
      "epoch: 21, [batch: 26880 / 33600], examples_per_second: 3467.9923, train_label_loss: 0.1332, \n"
     ]
    },
    {
     "name": "stdout",
     "output_type": "stream",
     "text": [
      "epoch: 21, [batch: 30240 / 33600], examples_per_second: 3425.5214, train_label_loss: 0.0594, \n"
     ]
    },
    {
     "name": "stdout",
     "output_type": "stream",
     "text": [
      "=============================================================\n",
      "epoch: 21, source_val_acc_label: 0.8936, target_val_acc_label: 0.8763, source_val_label_loss: 0.3712, target_val_label_loss: 146.8180, \n",
      "=============================================================\n"
     ]
    },
    {
     "name": "stdout",
     "output_type": "stream",
     "text": [
      "epoch: 22, [batch: 1 / 33600], examples_per_second: 1.0364, train_label_loss: 0.0051, \n"
     ]
    },
    {
     "name": "stdout",
     "output_type": "stream",
     "text": [
      "epoch: 22, [batch: 3360 / 33600], examples_per_second: 3954.2248, train_label_loss: 0.1226, \n"
     ]
    },
    {
     "name": "stdout",
     "output_type": "stream",
     "text": [
      "epoch: 22, [batch: 6720 / 33600], examples_per_second: 4458.2426, train_label_loss: 0.1036, \n"
     ]
    },
    {
     "name": "stdout",
     "output_type": "stream",
     "text": [
      "epoch: 22, [batch: 10080 / 33600], examples_per_second: 4093.9942, train_label_loss: 0.1069, \n"
     ]
    },
    {
     "name": "stdout",
     "output_type": "stream",
     "text": [
      "epoch: 22, [batch: 13440 / 33600], examples_per_second: 3949.5527, train_label_loss: 0.0245, \n"
     ]
    },
    {
     "name": "stdout",
     "output_type": "stream",
     "text": [
      "epoch: 22, [batch: 16800 / 33600], examples_per_second: 4297.8682, train_label_loss: 0.1240, \n"
     ]
    },
    {
     "name": "stdout",
     "output_type": "stream",
     "text": [
      "epoch: 22, [batch: 20160 / 33600], examples_per_second: 4076.7988, train_label_loss: 0.0626, \n"
     ]
    },
    {
     "name": "stdout",
     "output_type": "stream",
     "text": [
      "epoch: 22, [batch: 23520 / 33600], examples_per_second: 2954.6882, train_label_loss: 0.0334, \n"
     ]
    },
    {
     "name": "stdout",
     "output_type": "stream",
     "text": [
      "epoch: 22, [batch: 26880 / 33600], examples_per_second: 3192.6606, train_label_loss: 0.0180, \n"
     ]
    },
    {
     "name": "stdout",
     "output_type": "stream",
     "text": [
      "epoch: 22, [batch: 30240 / 33600], examples_per_second: 3447.3700, train_label_loss: 0.1527, \n"
     ]
    },
    {
     "name": "stdout",
     "output_type": "stream",
     "text": [
      "=============================================================\n",
      "epoch: 22, source_val_acc_label: 0.8958, target_val_acc_label: 0.8750, source_val_label_loss: 0.3836, target_val_label_loss: 148.2742, \n",
      "=============================================================\n"
     ]
    },
    {
     "name": "stdout",
     "output_type": "stream",
     "text": [
      "epoch: 23, [batch: 1 / 33600], examples_per_second: 0.8338, train_label_loss: 0.0059, \n"
     ]
    },
    {
     "name": "stdout",
     "output_type": "stream",
     "text": [
      "epoch: 23, [batch: 3360 / 33600], examples_per_second: 3417.8550, train_label_loss: 0.0950, \n"
     ]
    },
    {
     "name": "stdout",
     "output_type": "stream",
     "text": [
      "epoch: 23, [batch: 6720 / 33600], examples_per_second: 3399.0632, train_label_loss: 0.0372, \n"
     ]
    },
    {
     "name": "stdout",
     "output_type": "stream",
     "text": [
      "epoch: 23, [batch: 10080 / 33600], examples_per_second: 3943.5697, train_label_loss: 0.0386, \n"
     ]
    },
    {
     "name": "stdout",
     "output_type": "stream",
     "text": [
      "epoch: 23, [batch: 13440 / 33600], examples_per_second: 3879.8527, train_label_loss: 0.0387, \n"
     ]
    },
    {
     "name": "stdout",
     "output_type": "stream",
     "text": [
      "epoch: 23, [batch: 16800 / 33600], examples_per_second: 4167.1823, train_label_loss: 0.0192, \n"
     ]
    },
    {
     "name": "stdout",
     "output_type": "stream",
     "text": [
      "epoch: 23, [batch: 20160 / 33600], examples_per_second: 4722.4986, train_label_loss: 0.0417, \n"
     ]
    },
    {
     "name": "stdout",
     "output_type": "stream",
     "text": [
      "epoch: 23, [batch: 23520 / 33600], examples_per_second: 3822.5457, train_label_loss: 0.0617, \n"
     ]
    },
    {
     "name": "stdout",
     "output_type": "stream",
     "text": [
      "epoch: 23, [batch: 26880 / 33600], examples_per_second: 3867.7841, train_label_loss: 0.0377, \n"
     ]
    },
    {
     "name": "stdout",
     "output_type": "stream",
     "text": [
      "epoch: 23, [batch: 30240 / 33600], examples_per_second: 3819.2982, train_label_loss: 0.0267, \n"
     ]
    },
    {
     "name": "stdout",
     "output_type": "stream",
     "text": [
      "=============================================================\n",
      "epoch: 23, source_val_acc_label: 0.8956, target_val_acc_label: 0.8784, source_val_label_loss: 0.3789, target_val_label_loss: 146.1480, \n",
      "=============================================================\n"
     ]
    },
    {
     "name": "stdout",
     "output_type": "stream",
     "text": [
      "New best\n"
     ]
    },
    {
     "name": "stdout",
     "output_type": "stream",
     "text": [
      "epoch: 24, [batch: 1 / 33600], examples_per_second: 0.7382, train_label_loss: 0.1378, \n"
     ]
    },
    {
     "name": "stdout",
     "output_type": "stream",
     "text": [
      "epoch: 24, [batch: 3360 / 33600], examples_per_second: 2989.6211, train_label_loss: 0.0100, \n"
     ]
    },
    {
     "name": "stdout",
     "output_type": "stream",
     "text": [
      "epoch: 24, [batch: 6720 / 33600], examples_per_second: 2994.6732, train_label_loss: 0.1161, \n"
     ]
    },
    {
     "name": "stdout",
     "output_type": "stream",
     "text": [
      "epoch: 24, [batch: 10080 / 33600], examples_per_second: 2966.9910, train_label_loss: 0.0744, \n"
     ]
    },
    {
     "name": "stdout",
     "output_type": "stream",
     "text": [
      "epoch: 24, [batch: 13440 / 33600], examples_per_second: 2974.1693, train_label_loss: 0.0823, \n"
     ]
    },
    {
     "name": "stdout",
     "output_type": "stream",
     "text": [
      "epoch: 24, [batch: 16800 / 33600], examples_per_second: 3272.1493, train_label_loss: 0.0230, \n"
     ]
    },
    {
     "name": "stdout",
     "output_type": "stream",
     "text": [
      "epoch: 24, [batch: 20160 / 33600], examples_per_second: 3609.4789, train_label_loss: 0.0023, \n"
     ]
    },
    {
     "name": "stdout",
     "output_type": "stream",
     "text": [
      "epoch: 24, [batch: 23520 / 33600], examples_per_second: 2975.7873, train_label_loss: 0.0218, \n"
     ]
    },
    {
     "name": "stdout",
     "output_type": "stream",
     "text": [
      "epoch: 24, [batch: 26880 / 33600], examples_per_second: 3216.9671, train_label_loss: 0.0364, \n"
     ]
    },
    {
     "name": "stdout",
     "output_type": "stream",
     "text": [
      "epoch: 24, [batch: 30240 / 33600], examples_per_second: 3570.4163, train_label_loss: 0.1395, \n"
     ]
    },
    {
     "name": "stdout",
     "output_type": "stream",
     "text": [
      "=============================================================\n",
      "epoch: 24, source_val_acc_label: 0.8926, target_val_acc_label: 0.8709, source_val_label_loss: 0.3951, target_val_label_loss: 146.0559, \n",
      "=============================================================\n"
     ]
    },
    {
     "name": "stdout",
     "output_type": "stream",
     "text": [
      "epoch: 25, [batch: 1 / 33600], examples_per_second: 0.7386, train_label_loss: 0.0359, \n"
     ]
    },
    {
     "name": "stdout",
     "output_type": "stream",
     "text": [
      "epoch: 25, [batch: 3360 / 33600], examples_per_second: 3020.5472, train_label_loss: 0.0127, \n"
     ]
    },
    {
     "name": "stdout",
     "output_type": "stream",
     "text": [
      "epoch: 25, [batch: 6720 / 33600], examples_per_second: 3041.5944, train_label_loss: 0.0083, \n"
     ]
    },
    {
     "name": "stdout",
     "output_type": "stream",
     "text": [
      "epoch: 25, [batch: 10080 / 33600], examples_per_second: 2960.9455, train_label_loss: 0.0171, \n"
     ]
    },
    {
     "name": "stdout",
     "output_type": "stream",
     "text": [
      "epoch: 25, [batch: 13440 / 33600], examples_per_second: 2963.6520, train_label_loss: 0.0202, \n"
     ]
    },
    {
     "name": "stdout",
     "output_type": "stream",
     "text": [
      "epoch: 25, [batch: 16800 / 33600], examples_per_second: 3236.3043, train_label_loss: 0.0378, \n"
     ]
    },
    {
     "name": "stdout",
     "output_type": "stream",
     "text": [
      "epoch: 25, [batch: 20160 / 33600], examples_per_second: 3558.0293, train_label_loss: 0.0363, \n"
     ]
    },
    {
     "name": "stdout",
     "output_type": "stream",
     "text": [
      "epoch: 25, [batch: 23520 / 33600], examples_per_second: 3075.1811, train_label_loss: 0.0442, \n"
     ]
    },
    {
     "name": "stdout",
     "output_type": "stream",
     "text": [
      "epoch: 25, [batch: 26880 / 33600], examples_per_second: 3267.5134, train_label_loss: 0.1488, \n"
     ]
    },
    {
     "name": "stdout",
     "output_type": "stream",
     "text": [
      "epoch: 25, [batch: 30240 / 33600], examples_per_second: 3588.0404, train_label_loss: 0.0260, \n"
     ]
    },
    {
     "name": "stdout",
     "output_type": "stream",
     "text": [
      "=============================================================\n",
      "epoch: 25, source_val_acc_label: 0.8952, target_val_acc_label: 0.8736, source_val_label_loss: 0.3907, target_val_label_loss: 160.0316, \n",
      "=============================================================\n"
     ]
    },
    {
     "name": "stdout",
     "output_type": "stream",
     "text": [
      "epoch: 26, [batch: 1 / 33600], examples_per_second: 0.7482, train_label_loss: 0.0412, \n"
     ]
    },
    {
     "name": "stdout",
     "output_type": "stream",
     "text": [
      "epoch: 26, [batch: 3360 / 33600], examples_per_second: 2965.1690, train_label_loss: 0.0041, \n"
     ]
    },
    {
     "name": "stdout",
     "output_type": "stream",
     "text": [
      "epoch: 26, [batch: 6720 / 33600], examples_per_second: 2990.8355, train_label_loss: 0.0072, \n"
     ]
    },
    {
     "name": "stdout",
     "output_type": "stream",
     "text": [
      "epoch: 26, [batch: 10080 / 33600], examples_per_second: 3010.2935, train_label_loss: 0.0309, \n"
     ]
    },
    {
     "name": "stdout",
     "output_type": "stream",
     "text": [
      "epoch: 26, [batch: 13440 / 33600], examples_per_second: 2966.4841, train_label_loss: 0.0185, \n"
     ]
    },
    {
     "name": "stdout",
     "output_type": "stream",
     "text": [
      "epoch: 26, [batch: 16800 / 33600], examples_per_second: 3218.5847, train_label_loss: 0.1197, \n"
     ]
    },
    {
     "name": "stdout",
     "output_type": "stream",
     "text": [
      "epoch: 26, [batch: 20160 / 33600], examples_per_second: 3596.6118, train_label_loss: 0.0071, \n"
     ]
    },
    {
     "name": "stdout",
     "output_type": "stream",
     "text": [
      "epoch: 26, [batch: 23520 / 33600], examples_per_second: 3088.2786, train_label_loss: 0.0389, \n"
     ]
    },
    {
     "name": "stdout",
     "output_type": "stream",
     "text": [
      "epoch: 26, [batch: 26880 / 33600], examples_per_second: 3233.2326, train_label_loss: 0.0776, \n"
     ]
    },
    {
     "name": "stdout",
     "output_type": "stream",
     "text": [
      "epoch: 26, [batch: 30240 / 33600], examples_per_second: 3550.2054, train_label_loss: 0.0194, \n"
     ]
    },
    {
     "name": "stdout",
     "output_type": "stream",
     "text": [
      "=============================================================\n",
      "epoch: 26, source_val_acc_label: 0.8949, target_val_acc_label: 0.8731, source_val_label_loss: 0.3888, target_val_label_loss: 172.0411, \n",
      "=============================================================\n"
     ]
    },
    {
     "name": "stdout",
     "output_type": "stream",
     "text": [
      "epoch: 27, [batch: 1 / 33600], examples_per_second: 0.7459, train_label_loss: 0.1133, \n"
     ]
    },
    {
     "name": "stdout",
     "output_type": "stream",
     "text": [
      "epoch: 27, [batch: 3360 / 33600], examples_per_second: 2993.0096, train_label_loss: 0.0067, \n"
     ]
    },
    {
     "name": "stdout",
     "output_type": "stream",
     "text": [
      "epoch: 27, [batch: 6720 / 33600], examples_per_second: 2977.2971, train_label_loss: 0.2406, \n"
     ]
    },
    {
     "name": "stdout",
     "output_type": "stream",
     "text": [
      "epoch: 27, [batch: 10080 / 33600], examples_per_second: 3011.4351, train_label_loss: 0.0050, \n"
     ]
    },
    {
     "name": "stdout",
     "output_type": "stream",
     "text": [
      "epoch: 27, [batch: 13440 / 33600], examples_per_second: 3007.0514, train_label_loss: 0.0153, \n"
     ]
    },
    {
     "name": "stdout",
     "output_type": "stream",
     "text": [
      "epoch: 27, [batch: 16800 / 33600], examples_per_second: 3171.3528, train_label_loss: 0.1642, \n"
     ]
    },
    {
     "name": "stdout",
     "output_type": "stream",
     "text": [
      "epoch: 27, [batch: 20160 / 33600], examples_per_second: 3547.6029, train_label_loss: 0.0100, \n"
     ]
    },
    {
     "name": "stdout",
     "output_type": "stream",
     "text": [
      "epoch: 27, [batch: 23520 / 33600], examples_per_second: 3138.1702, train_label_loss: 0.0113, \n"
     ]
    },
    {
     "name": "stdout",
     "output_type": "stream",
     "text": [
      "epoch: 27, [batch: 26880 / 33600], examples_per_second: 3191.4258, train_label_loss: 0.0142, \n"
     ]
    },
    {
     "name": "stdout",
     "output_type": "stream",
     "text": [
      "epoch: 27, [batch: 30240 / 33600], examples_per_second: 3569.2426, train_label_loss: 0.0456, \n"
     ]
    },
    {
     "name": "stdout",
     "output_type": "stream",
     "text": [
      "=============================================================\n",
      "epoch: 27, source_val_acc_label: 0.8931, target_val_acc_label: 0.8728, source_val_label_loss: 0.4025, target_val_label_loss: 163.5089, \n",
      "=============================================================\n"
     ]
    },
    {
     "name": "stdout",
     "output_type": "stream",
     "text": [
      "Patience (3) exhausted\n"
     ]
    }
   ],
   "source": [
    "###################################\n",
    "# train\n",
    "###################################\n",
    "jig = PTN_Train_Eval_Test_Jig(model, p.BEST_MODEL_PATH, p.device)\n",
    "\n",
    "jig.train(\n",
    "    train_iterable=datasets.source.processed.train,\n",
    "    source_val_iterable=datasets.source.processed.val,\n",
    "    target_val_iterable=datasets.target.processed.val,\n",
    "    num_epochs=p.n_epoch,\n",
    "    num_logs_per_epoch=p.NUM_LOGS_PER_EPOCH,\n",
    "    patience=p.patience,\n",
    "    optimizer=optimizer,\n",
    "    criteria_for_best=p.criteria_for_best,\n",
    ")"
   ]
  },
  {
   "cell_type": "code",
   "execution_count": 23,
   "id": "31e8fabf",
   "metadata": {
    "execution": {
     "iopub.execute_input": "2022-03-24T00:28:30.463327Z",
     "iopub.status.busy": "2022-03-24T00:28:30.461043Z",
     "iopub.status.idle": "2022-03-24T00:28:30.666640Z",
     "shell.execute_reply": "2022-03-24T00:28:30.665909Z"
    },
    "papermill": {
     "duration": 0.327958,
     "end_time": "2022-03-24T00:28:30.666834",
     "exception": false,
     "start_time": "2022-03-24T00:28:30.338876",
     "status": "completed"
    },
    "tags": []
   },
   "outputs": [],
   "source": [
    "total_experiment_time_secs = time.time() - start_time_secs"
   ]
  },
  {
   "cell_type": "code",
   "execution_count": 24,
   "id": "87b9595b",
   "metadata": {
    "execution": {
     "iopub.execute_input": "2022-03-24T00:28:30.894585Z",
     "iopub.status.busy": "2022-03-24T00:28:30.893728Z",
     "iopub.status.idle": "2022-03-24T00:39:37.131645Z",
     "shell.execute_reply": "2022-03-24T00:39:37.132323Z"
    },
    "papermill": {
     "duration": 666.354545,
     "end_time": "2022-03-24T00:39:37.132551",
     "exception": false,
     "start_time": "2022-03-24T00:28:30.778006",
     "status": "completed"
    },
    "tags": []
   },
   "outputs": [],
   "source": [
    "###################################\n",
    "# Evaluate the model\n",
    "###################################\n",
    "source_test_label_accuracy, source_test_label_loss = jig.test(datasets.source.processed.test)\n",
    "target_test_label_accuracy, target_test_label_loss = jig.test(datasets.target.processed.test)\n",
    "\n",
    "source_val_label_accuracy, source_val_label_loss = jig.test(datasets.source.processed.val)\n",
    "target_val_label_accuracy, target_val_label_loss = jig.test(datasets.target.processed.val)\n",
    "\n",
    "history = jig.get_history()\n",
    "\n",
    "total_epochs_trained = len(history[\"epoch_indices\"])\n",
    "\n",
    "val_dl = Iterable_Aggregator((datasets.source.original.val,datasets.target.original.val))\n",
    "\n",
    "confusion = ptn_confusion_by_domain_over_dataloader(model, p.device, val_dl)\n",
    "per_domain_accuracy = per_domain_accuracy_from_confusion(confusion)\n",
    "\n",
    "# Add a key to per_domain_accuracy for if it was a source domain\n",
    "for domain, accuracy in per_domain_accuracy.items():\n",
    "    per_domain_accuracy[domain] = {\n",
    "        \"accuracy\": accuracy,\n",
    "        \"source?\": domain in p.domains_source\n",
    "    }\n",
    "\n",
    "# Do an independent accuracy assesment JUST TO BE SURE!\n",
    "# _source_test_label_accuracy = independent_accuracy_assesment(model, datasets.source.processed.test, p.device)\n",
    "# _target_test_label_accuracy = independent_accuracy_assesment(model, datasets.target.processed.test, p.device)\n",
    "# _source_val_label_accuracy = independent_accuracy_assesment(model, datasets.source.processed.val, p.device)\n",
    "# _target_val_label_accuracy = independent_accuracy_assesment(model, datasets.target.processed.val, p.device)\n",
    "\n",
    "# assert(_source_test_label_accuracy == source_test_label_accuracy)\n",
    "# assert(_target_test_label_accuracy == target_test_label_accuracy)\n",
    "# assert(_source_val_label_accuracy == source_val_label_accuracy)\n",
    "# assert(_target_val_label_accuracy == target_val_label_accuracy)\n",
    "\n",
    "experiment = {\n",
    "    \"experiment_name\": p.experiment_name,\n",
    "    \"parameters\": dict(p),\n",
    "    \"results\": {\n",
    "        \"source_test_label_accuracy\": source_test_label_accuracy,\n",
    "        \"source_test_label_loss\": source_test_label_loss,\n",
    "        \"target_test_label_accuracy\": target_test_label_accuracy,\n",
    "        \"target_test_label_loss\": target_test_label_loss,\n",
    "        \"source_val_label_accuracy\": source_val_label_accuracy,\n",
    "        \"source_val_label_loss\": source_val_label_loss,\n",
    "        \"target_val_label_accuracy\": target_val_label_accuracy,\n",
    "        \"target_val_label_loss\": target_val_label_loss,\n",
    "        \"total_epochs_trained\": total_epochs_trained,\n",
    "        \"total_experiment_time_secs\": total_experiment_time_secs,\n",
    "        \"confusion\": confusion,\n",
    "        \"per_domain_accuracy\": per_domain_accuracy,\n",
    "    },\n",
    "    \"history\": history,\n",
    "    \"dataset_metrics\": get_dataset_metrics(datasets, \"ptn\"),\n",
    "}"
   ]
  },
  {
   "cell_type": "code",
   "execution_count": 25,
   "id": "54a21829",
   "metadata": {
    "execution": {
     "iopub.execute_input": "2022-03-24T00:39:37.363642Z",
     "iopub.status.busy": "2022-03-24T00:39:37.363249Z",
     "iopub.status.idle": "2022-03-24T00:39:37.921498Z",
     "shell.execute_reply": "2022-03-24T00:39:37.922184Z"
    },
    "papermill": {
     "duration": 0.667783,
     "end_time": "2022-03-24T00:39:37.922379",
     "exception": false,
     "start_time": "2022-03-24T00:39:37.254596",
     "status": "completed"
    },
    "tags": []
   },
   "outputs": [
    {
     "data": {
      "image/png": "[encoded data removed]",
      "text/plain": [
       "<Figure size 1080x504 with 1 Axes>"
      ]
     },
     "metadata": {
      "needs_background": "light"
     },
     "output_type": "display_data"
    }
   ],
   "source": [
    "ax = get_loss_curve(experiment)\n",
    "plt.show()"
   ]
  },
  {
   "cell_type": "code",
   "execution_count": 26,
   "id": "fd8a0f60",
   "metadata": {
    "execution": {
     "iopub.execute_input": "2022-03-24T00:39:38.153165Z",
     "iopub.status.busy": "2022-03-24T00:39:38.152600Z",
     "iopub.status.idle": "2022-03-24T00:39:38.486375Z",
     "shell.execute_reply": "2022-03-24T00:39:38.487048Z"
    },
    "papermill": {
     "duration": 0.451001,
     "end_time": "2022-03-24T00:39:38.487232",
     "exception": false,
     "start_time": "2022-03-24T00:39:38.036231",
     "status": "completed"
    },
    "tags": []
   },
   "outputs": [
    {
     "data": {
      "text/plain": [
       "<AxesSubplot:title={'center':'Results'}>"
      ]
     },
     "execution_count": 26,
     "metadata": {},
     "output_type": "execute_result"
    },
    {
     "data": {
      "image/png": "[encoded data removed]",
      "text/plain": [
       "<Figure size 1080x504 with 1 Axes>"
      ]
     },
     "metadata": {
      "needs_background": "light"
     },
     "output_type": "display_data"
    }
   ],
   "source": [
    "get_results_table(experiment)"
   ]
  },
  {
   "cell_type": "code",
   "execution_count": 27,
   "id": "cf8dc689",
   "metadata": {
    "execution": {
     "iopub.execute_input": "2022-03-24T00:39:38.716836Z",
     "iopub.status.busy": "2022-03-24T00:39:38.716465Z",
     "iopub.status.idle": "2022-03-24T00:39:39.068707Z",
     "shell.execute_reply": "2022-03-24T00:39:39.069389Z"
    },
    "papermill": {
     "duration": 0.468206,
     "end_time": "2022-03-24T00:39:39.069582",
     "exception": false,
     "start_time": "2022-03-24T00:39:38.601376",
     "status": "completed"
    },
    "tags": []
   },
   "outputs": [
    {
     "data": {
      "text/plain": [
       "<AxesSubplot:title={'center':'Per Domain Validation Accuracy'}, xlabel='domain'>"
      ]
     },
     "execution_count": 27,
     "metadata": {},
     "output_type": "execute_result"
    },
    {
     "data": {
      "image/png": "[encoded data removed]",
      "text/plain": [
       "<Figure size 1080x504 with 1 Axes>"
      ]
     },
     "metadata": {
      "needs_background": "light"
     },
     "output_type": "display_data"
    }
   ],
   "source": [
    "get_domain_accuracies(experiment)"
   ]
  },
  {
   "cell_type": "code",
   "execution_count": 28,
   "id": "a74ae082",
   "metadata": {
    "execution": {
     "iopub.execute_input": "2022-03-24T00:39:39.310150Z",
     "iopub.status.busy": "2022-03-24T00:39:39.309581Z",
     "iopub.status.idle": "2022-03-24T00:39:39.335542Z",
     "shell.execute_reply": "2022-03-24T00:39:39.334822Z"
    },
    "papermill": {
     "duration": 0.146967,
     "end_time": "2022-03-24T00:39:39.335711",
     "exception": false,
     "start_time": "2022-03-24T00:39:39.188744",
     "status": "completed"
    },
    "tags": []
   },
   "outputs": [
    {
     "name": "stdout",
     "output_type": "stream",
     "text": [
      "Source Test Label Accuracy: 0.896015625 Target Test Label Accuracy: 0.8785908385093167\n",
      "Source Val Label Accuracy: 0.8955533854166666 Target Val Label Accuracy: 0.8784024841437632\n"
     ]
    }
   ],
   "source": [
    "print(\"Source Test Label Accuracy:\", experiment[\"results\"][\"source_test_label_accuracy\"], \"Target Test Label Accuracy:\", experiment[\"results\"][\"target_test_label_accuracy\"])\n",
    "print(\"Source Val Label Accuracy:\", experiment[\"results\"][\"source_val_label_accuracy\"], \"Target Val Label Accuracy:\", experiment[\"results\"][\"target_val_label_accuracy\"])"
   ]
  },
  {
   "cell_type": "code",
   "execution_count": 29,
   "id": "dacca602",
   "metadata": {
    "execution": {
     "iopub.execute_input": "2022-03-24T00:39:39.566982Z",
     "iopub.status.busy": "2022-03-24T00:39:39.566096Z",
     "iopub.status.idle": "2022-03-24T00:39:39.593682Z",
     "shell.execute_reply": "2022-03-24T00:39:39.594353Z"
    },
    "papermill": {
     "duration": 0.141936,
     "end_time": "2022-03-24T00:39:39.594534",
     "exception": false,
     "start_time": "2022-03-24T00:39:39.452598",
     "status": "completed"
    },
    "tags": [
     "experiment_json"
    ]
   },
   "outputs": [
    {
     "data": {
      "text/plain": [
       "'{\"experiment_name\": \"tl_1v2:wisig-oracle.run1\", \"parameters\": {\"experiment_name\": \"tl_1v2:wisig-oracle.run1\", \"device\": \"cuda\", \"lr\": 0.0001, \"n_shot\": 3, \"n_query\": 2, \"train_k_factor\": 3, \"val_k_factor\": 2, \"test_k_factor\": 2, \"torch_default_dtype\": \"torch.float32\", \"n_epoch\": 50, \"patience\": 3, \"criteria_for_best\": \"target_accuracy\", \"x_net\": [{\"class\": \"nnReshape\", \"kargs\": {\"shape\": [-1, 1, 2, 256]}}, {\"class\": \"Conv2d\", \"kargs\": {\"in_channels\": 1, \"out_channels\": 256, \"kernel_size\": [1, 7], \"bias\": false, \"padding\": [0, 3]}}, {\"class\": \"ReLU\", \"kargs\": {\"inplace\": true}}, {\"class\": \"BatchNorm2d\", \"kargs\": {\"num_features\": 256}}, {\"class\": \"Conv2d\", \"kargs\": {\"in_channels\": 256, \"out_channels\": 80, \"kernel_size\": [2, 7], \"bias\": true, \"padding\": [0, 3]}}, {\"class\": \"ReLU\", \"kargs\": {\"inplace\": true}}, {\"class\": \"BatchNorm2d\", \"kargs\": {\"num_features\": 80}}, {\"class\": \"Flatten\", \"kargs\": {}}, {\"class\": \"Linear\", \"kargs\": {\"in_features\": 20480, \"out_features\": 256}}, {\"class\": \"ReLU\", \"kargs\": {\"inplace\": true}}, {\"class\": \"BatchNorm1d\", \"kargs\": {\"num_features\": 256}}, {\"class\": \"Linear\", \"kargs\": {\"in_features\": 256, \"out_features\": 256}}], \"NUM_LOGS_PER_EPOCH\": 10, \"BEST_MODEL_PATH\": \"./best_model.pth\", \"n_way\": 16, \"datasets\": [{\"labels\": [\"1-10\", \"1-12\", \"1-14\", \"1-16\", \"1-18\", \"1-19\", \"1-8\", \"10-11\", \"10-17\", \"10-4\", \"10-7\", \"11-1\", \"11-10\", \"11-19\", \"11-20\", \"11-4\", \"11-7\", \"12-19\", \"12-20\", \"12-7\", \"13-14\", \"13-18\", \"13-19\", \"13-20\", \"13-3\", \"13-7\", \"14-10\", \"14-11\", \"14-12\", \"14-13\", \"14-14\", \"14-19\", \"14-20\", \"14-7\", \"14-8\", \"14-9\", \"15-1\", \"15-19\", \"15-6\", \"16-1\", \"16-16\", \"16-19\", \"16-20\", \"17-10\", \"17-11\", \"18-1\", \"18-10\", \"18-11\", \"18-12\", \"18-13\", \"18-14\", \"18-15\", \"18-16\", \"18-17\", \"18-19\", \"18-2\", \"18-20\", \"18-4\", \"18-5\", \"18-7\", \"18-8\", \"18-9\", \"19-1\", \"19-10\", \"19-11\", \"19-12\", \"19-13\", \"19-14\", \"19-15\", \"19-19\", \"19-2\", \"19-20\", \"19-3\", \"19-4\", \"19-6\", \"19-7\", \"19-8\", \"19-9\", \"2-1\", \"2-13\", \"2-15\", \"2-3\", \"2-4\", \"2-5\", \"2-6\", \"2-7\", \"2-8\", \"20-1\", \"20-12\", \"20-14\", \"20-15\", \"20-16\", \"20-18\", \"20-19\", \"20-20\", \"20-3\", \"20-4\", \"20-5\", \"20-7\", \"20-8\", \"3-1\", \"3-13\", \"3-18\", \"3-2\", \"3-8\", \"4-1\", \"4-10\", \"4-11\", \"5-1\", \"5-5\", \"6-1\", \"6-15\", \"6-6\", \"7-10\", \"7-11\", \"7-12\", \"7-13\", \"7-14\", \"7-7\", \"7-8\", \"7-9\", \"8-1\", \"8-13\", \"8-14\", \"8-18\", \"8-20\", \"8-3\", \"8-8\", \"9-1\", \"9-7\"], \"domains\": [1, 2, 3, 4], \"num_examples_per_domain_per_label\": -1, \"pickle_path\": \"/root/csc500-main/datasets/wisig.node3-19.stratified_ds.2022A.pkl\", \"source_or_target_dataset\": \"target\", \"x_transforms\": [], \"episode_transforms\": [], \"domain_prefix\": \"Wisig_\"}, {\"labels\": [\"3123D52\", \"3123D65\", \"3123D79\", \"3123D80\", \"3123D54\", \"3123D70\", \"3123D7B\", \"3123D89\", \"3123D58\", \"3123D76\", \"3123D7D\", \"3123EFE\", \"3123D64\", \"3123D78\", \"3123D7E\", \"3124E4A\"], \"domains\": [32, 38, 8, 44, 14, 50, 20, 26], \"num_examples_per_domain_per_label\": 10000, \"pickle_path\": \"/root/csc500-main/datasets/oracle.Run1_10kExamples_stratified_ds.2022A.pkl\", \"source_or_target_dataset\": \"source\", \"x_transforms\": [], \"episode_transforms\": [], \"domain_prefix\": \"ORACLE.run1\"}], \"dataset_seed\": 420, \"seed\": 420, \"x_shape\": [2, 256], \"domains_source\": [\"ORACLE.run132\", \"ORACLE.run138\", \"ORACLE.run18\", \"ORACLE.run144\", \"ORACLE.run114\", \"ORACLE.run150\", \"ORACLE.run120\", \"ORACLE.run126\"], \"domains_target\": [\"Wisig_1\", \"Wisig_2\", \"Wisig_3\", \"Wisig_4\"]}, \"results\": {\"source_test_label_accuracy\": 0.896015625, \"source_test_label_loss\": 0.38279834389686584, \"target_test_label_accuracy\": 0.8785908385093167, \"target_test_label_loss\": 143.06324768066406, \"source_val_label_accuracy\": 0.8955533854166666, \"source_val_label_loss\": 0.37887510657310486, \"target_val_label_accuracy\": 0.8784024841437632, \"target_val_label_loss\": 146.14801025390625, \"total_epochs_trained\": 27, \"total_experiment_time_secs\": 25774.74805378914, \"confusion\": {\"ORACLE.run114\": {\"15\": {\"15\": 1200}, \"5\": {\"5\": 1105, \"7\": 21, \"2\": 65, \"3\": 6, \"14\": 2, \"4\": 1}, \"7\": {\"7\": 1192, \"5\": 8}, \"4\": {\"4\": 1156, \"7\": 2, \"2\": 16, \"5\": 26}, \"10\": {\"10\": 1200}, \"11\": {\"11\": 1200}, \"12\": {\"12\": 1200}, \"0\": {\"0\": 1161, \"3\": 35, \"14\": 3, \"10\": 1}, \"14\": {\"14\": 1062, \"13\": 55, \"2\": 36, \"6\": 38, \"3\": 9}, \"8\": {\"8\": 1200}, \"13\": {\"14\": 161, \"13\": 549, \"6\": 423, \"2\": 65, \"3\": 1, \"4\": 1}, \"6\": {\"13\": 268, \"6\": 864, \"14\": 42, \"2\": 23, \"3\": 3}, \"1\": {\"1\": 1200}, \"3\": {\"3\": 1164, \"14\": 17, \"2\": 6, \"6\": 4, \"0\": 6, \"13\": 1, \"5\": 2}, \"9\": {\"9\": 1200}, \"2\": {\"2\": 845, \"14\": 99, \"4\": 26, \"5\": 103, \"13\": 51, \"6\": 53, \"3\": 21, \"7\": 2}}, \"ORACLE.run120\": {\"4\": {\"4\": 1168, \"12\": 19, \"2\": 3, \"10\": 5, \"7\": 5}, \"10\": {\"10\": 1199, \"4\": 1}, \"15\": {\"15\": 1011, \"12\": 96, \"2\": 9, \"1\": 74, \"13\": 6, \"9\": 4}, \"0\": {\"0\": 1161, \"3\": 15, \"5\": 19, \"1\": 2, \"8\": 3}, \"6\": {\"6\": 1187, \"7\": 13}, \"3\": {\"3\": 891, \"9\": 111, \"0\": 10, \"5\": 129, \"8\": 41, \"1\": 17, \"7\": 1}, \"7\": {\"9\": 52, \"2\": 72, \"7\": 1059, \"3\": 2, \"12\": 3, \"6\": 10, \"4\": 2}, \"2\": {\"12\": 142, \"2\": 926, \"15\": 7, \"7\": 97, \"9\": 17, \"13\": 8, \"4\": 3}, \"8\": {\"8\": 1113, \"3\": 28, \"14\": 59}, \"11\": {\"11\": 1200}, \"14\": {\"14\": 1169, \"8\": 31}, \"12\": {\"12\": 948, \"2\": 147, \"15\": 79, \"7\": 4, \"4\": 15, \"5\": 1, \"13\": 3, \"9\": 3}, \"13\": {\"13\": 1168, \"2\": 23, \"12\": 5, \"15\": 4}, \"9\": {\"9\": 969, \"1\": 55, \"7\": 60, \"3\": 90, \"2\": 11, \"5\": 12, \"15\": 1, \"12\": 2}, \"5\": {\"1\": 213, \"5\": 882, \"3\": 97, \"9\": 6, \"0\": 2}, \"1\": {\"5\": 219, \"1\": 900, \"9\": 51, \"15\": 19, \"12\": 2, \"3\": 9}}, \"ORACLE.run150\": {\"5\": {\"5\": 747, \"13\": 35, \"6\": 167, \"15\": 20, \"7\": 168, \"4\": 58, \"1\": 5}, \"12\": {\"12\": 1135, \"9\": 52, \"11\": 13}, \"14\": {\"14\": 1200}, \"4\": {\"4\": 960, \"15\": 58, \"5\": 75, \"7\": 89, \"6\": 18}, \"13\": {\"13\": 1192, \"5\": 3, \"1\": 5}, \"10\": {\"10\": 1183, \"8\": 11, \"0\": 3, \"13\": 3}, \"9\": {\"9\": 1042, \"11\": 97, \"12\": 57, \"15\": 4}, \"15\": {\"15\": 1126, \"6\": 50, \"11\": 19, \"4\": 3, \"5\": 2}, \"6\": {\"6\": 1055, \"5\": 73, \"15\": 72}, \"2\": {\"2\": 1168, \"0\": 32}, \"0\": {\"0\": 1157, \"2\": 40, \"10\": 3}, \"11\": {\"9\": 18, \"11\": 1147, \"12\": 19, \"15\": 16}, \"3\": {\"3\": 1200}, \"8\": {\"8\": 1199, \"10\": 1}, \"7\": {\"7\": 1085, \"4\": 35, \"5\": 80}, \"1\": {\"1\": 1184, \"13\": 7, \"4\": 1, \"6\": 1, \"11\": 5, \"5\": 2}}, \"ORACLE.run126\": {\"7\": {\"7\": 918, \"2\": 87, \"8\": 119, \"3\": 59, \"9\": 17}, \"6\": {\"6\": 1040, \"15\": 86, \"10\": 45, \"5\": 22, \"1\": 6, \"0\": 1}, \"14\": {\"14\": 873, \"0\": 107, \"10\": 168, \"1\": 48, \"15\": 2, \"6\": 2}, \"15\": {\"15\": 882, \"5\": 153, \"6\": 106, \"10\": 48, \"0\": 3, \"14\": 2, \"1\": 3, \"2\": 3}, \"5\": {\"5\": 1073, \"15\": 112, \"6\": 15}, \"10\": {\"10\": 818, \"15\": 30, \"6\": 35, \"0\": 123, \"14\": 183, \"1\": 11}, \"4\": {\"4\": 1198, \"3\": 2}, \"11\": {\"11\": 1200}, \"13\": {\"13\": 1106, \"2\": 39, \"9\": 40, \"3\": 10, \"7\": 3, \"8\": 1, \"4\": 1}, \"2\": {\"7\": 153, \"2\": 854, \"8\": 51, \"3\": 77, \"0\": 16, \"9\": 42, \"13\": 3, \"14\": 2, \"10\": 2}, \"0\": {\"0\": 864, \"2\": 8, \"14\": 88, \"15\": 6, \"8\": 61, \"10\": 164, \"1\": 2, \"6\": 2, \"7\": 4, \"9\": 1}, \"12\": {\"12\": 1200}, \"3\": {\"7\": 38, \"3\": 1147, \"4\": 2, \"2\": 13}, \"9\": {\"9\": 924, \"8\": 178, \"2\": 36, \"13\": 42, \"7\": 20}, \"8\": {\"8\": 876, \"7\": 165, \"9\": 126, \"2\": 22, \"0\": 10, \"3\": 1}, \"1\": {\"1\": 1071, \"14\": 84, \"15\": 5, \"6\": 16, \"10\": 21, \"5\": 3}}, \"ORACLE.run132\": {\"7\": {\"7\": 868, \"5\": 170, \"14\": 89, \"8\": 9, \"0\": 64}, \"2\": {\"2\": 1109, \"4\": 81, \"0\": 7, \"14\": 3}, \"5\": {\"5\": 786, \"8\": 120, \"7\": 201, \"14\": 15, \"0\": 78}, \"6\": {\"6\": 1200}, \"13\": {\"13\": 1046, \"3\": 75, \"4\": 66, \"11\": 13}, \"4\": {\"4\": 1087, \"13\": 26, \"2\": 87}, \"3\": {\"3\": 1164, \"13\": 36}, \"0\": {\"0\": 962, \"5\": 41, \"7\": 65, \"8\": 103, \"14\": 25, \"2\": 4}, \"9\": {\"9\": 1195, \"2\": 3, \"12\": 1, \"4\": 1}, \"12\": {\"12\": 1200}, \"8\": {\"0\": 116, \"8\": 992, \"4\": 3, \"5\": 63, \"14\": 19, \"15\": 2, \"7\": 5}, \"14\": {\"14\": 974, \"7\": 149, \"0\": 45, \"2\": 10, \"5\": 3, \"8\": 18, \"4\": 1}, \"15\": {\"15\": 1180, \"8\": 20}, \"11\": {\"11\": 1197, \"13\": 3}, \"10\": {\"10\": 1200}, \"1\": {\"1\": 1200}}, \"ORACLE.run144\": {\"11\": {\"11\": 1198, \"13\": 2}, \"7\": {\"7\": 1085, \"9\": 106, \"10\": 6, \"2\": 2, \"6\": 1}, \"6\": {\"6\": 964, \"7\": 7, \"13\": 149, \"9\": 80}, \"12\": {\"12\": 1170, \"3\": 30}, \"4\": {\"14\": 177, \"4\": 996, \"5\": 4, \"15\": 19, \"13\": 3, \"9\": 1}, \"13\": {\"13\": 1010, \"6\": 167, \"9\": 18, \"11\": 4, \"4\": 1}, \"8\": {\"8\": 933, \"0\": 196, \"15\": 50, \"5\": 21}, \"5\": {\"5\": 1090, \"15\": 49, \"14\": 43, \"4\": 3, \"8\": 13, \"0\": 2}, \"14\": {\"14\": 1015, \"15\": 27, \"4\": 113, \"5\": 45}, \"3\": {\"3\": 1189, \"12\": 11}, \"10\": {\"10\": 1125, \"2\": 24, \"1\": 33, \"7\": 18}, \"1\": {\"1\": 1141, \"2\": 53, \"3\": 2, \"10\": 4}, \"2\": {\"2\": 1160, \"1\": 29, \"10\": 8, \"7\": 3}, \"15\": {\"15\": 1051, \"5\": 44, \"8\": 34, \"14\": 51, \"4\": 14, \"0\": 6}, \"9\": {\"7\": 213, \"6\": 115, \"9\": 800, \"13\": 67, \"2\": 3, \"4\": 2}, \"0\": {\"0\": 1040, \"8\": 156, \"5\": 4}}, \"ORACLE.run18\": {\"10\": {\"10\": 995, \"5\": 40, \"11\": 1, \"13\": 130, \"1\": 27, \"6\": 4, \"4\": 3}, \"6\": {\"6\": 1038, \"7\": 145, \"4\": 5, \"13\": 5, \"1\": 2, \"10\": 5}, \"13\": {\"13\": 1045, \"10\": 111, \"7\": 38, \"6\": 6}, \"3\": {\"3\": 1197, \"2\": 3}, \"9\": {\"9\": 1200}, \"1\": {\"1\": 1044, \"11\": 140, \"10\": 7, \"5\": 5, \"4\": 4}, \"5\": {\"5\": 1052, \"10\": 82, \"1\": 53, \"13\": 2, \"11\": 9, \"4\": 1, \"14\": 1}, \"11\": {\"11\": 837, \"1\": 321, \"14\": 24, \"4\": 4, \"6\": 2, \"8\": 8, \"5\": 3, \"7\": 1}, \"4\": {\"4\": 1166, \"14\": 19, \"8\": 2, \"6\": 10, \"1\": 1, \"11\": 2}, \"14\": {\"14\": 1144, \"4\": 55, \"11\": 1}, \"12\": {\"12\": 936, \"15\": 261, \"2\": 3}, \"7\": {\"6\": 91, \"7\": 1100, \"13\": 9}, \"0\": {\"0\": 1200}, \"15\": {\"15\": 1084, \"12\": 112, \"2\": 4}, \"2\": {\"2\": 1008, \"3\": 129, \"12\": 39, \"15\": 24}, \"8\": {\"8\": 1185, \"6\": 8, \"4\": 4, \"11\": 2, \"7\": 1}}, \"ORACLE.run138\": {\"4\": {\"4\": 1195, \"10\": 5}, \"7\": {\"8\": 18, \"7\": 1158, \"5\": 11, \"0\": 13}, \"12\": {\"12\": 1200}, \"10\": {\"10\": 1121, \"13\": 45, \"4\": 8, \"0\": 26}, \"0\": {\"0\": 987, \"7\": 83, \"8\": 7, \"13\": 46, \"10\": 62, \"5\": 8, \"4\": 4, \"9\": 2, \"3\": 1}, \"1\": {\"1\": 1199, \"6\": 1}, \"5\": {\"8\": 364, \"9\": 55, \"5\": 696, \"7\": 50, \"15\": 34, \"0\": 1}, \"15\": {\"15\": 1154, \"5\": 17, \"8\": 26, \"2\": 3}, \"9\": {\"9\": 1178, \"5\": 19, \"8\": 2, \"7\": 1}, \"11\": {\"11\": 1200}, \"14\": {\"14\": 1130, \"2\": 64, \"13\": 6}, \"6\": {\"6\": 1200}, \"8\": {\"8\": 827, \"5\": 305, \"15\": 12, \"7\": 50, \"0\": 4, \"13\": 1, \"2\": 1}, \"3\": {\"3\": 1199, \"0\": 1}, \"2\": {\"2\": 1153, \"14\": 42, \"13\": 4, \"8\": 1}, \"13\": {\"13\": 1129, \"10\": 45, \"0\": 16, \"2\": 8, \"14\": 2}}, \"Wisig_3\": {\"110\": {\"110\": 73, \"44\": 1, \"122\": 2, \"87\": 9, \"107\": 1, \"11\": 2, \"118\": 2, \"8\": 1, \"40\": 1}, \"1\": {\"1\": 104, \"3\": 3, \"113\": 1}, \"2\": {\"117\": 3, \"2\": 23, \"92\": 1, \"121\": 1}, \"94\": {\"94\": 64, \"27\": 1, \"70\": 1, \"106\": 4, \"15\": 4, \"110\": 1, \"12\": 2, \"96\": 1, \"16\": 1, \"8\": 4, \"113\": 1}, \"64\": {\"64\": 20}, \"78\": {\"78\": 9, \"109\": 1, \"88\": 3, \"11\": 1, \"21\": 2}, \"47\": {\"47\": 9, \"3\": 2, \"100\": 1}, \"127\": {\"127\": 118, \"99\": 2, \"71\": 1, \"1\": 1, \"12\": 2, \"7\": 2, \"114\": 1, \"109\": 1}, \"89\": {\"89\": 22, \"120\": 1, \"82\": 1, \"92\": 2, \"121\": 2}, \"79\": {\"79\": 12}, \"22\": {\"22\": 12, \"29\": 2, \"55\": 1, \"48\": 1}, \"117\": {\"117\": 110, \"121\": 2}, \"49\": {\"14\": 3, \"94\": 3, \"49\": 11, \"16\": 3, \"127\": 1, \"83\": 1, \"15\": 2}, \"14\": {\"14\": 80}, \"103\": {\"22\": 1, \"103\": 14, \"37\": 1}, \"123\": {\"123\": 15, \"63\": 1}, \"98\": {\"98\": 124, \"40\": 1, \"33\": 1, \"117\": 1, \"107\": 1}, \"18\": {\"18\": 108}, \"61\": {\"61\": 16}, \"108\": {\"108\": 110, \"110\": 2, \"10\": 12, \"70\": 1, \"113\": 1}, \"100\": {\"100\": 12, \"28\": 1, \"32\": 1, \"107\": 1, \"105\": 1}, \"0\": {\"0\": 104, \"118\": 2, \"8\": 2, \"10\": 1, \"36\": 2, \"30\": 2, \"94\": 1, \"106\": 2}, \"107\": {\"107\": 129, \"114\": 1}, \"58\": {\"58\": 15, \"25\": 1}, \"8\": {\"0\": 3, \"8\": 104, \"108\": 4, \"15\": 2, \"30\": 3, \"23\": 2, \"94\": 2}, \"85\": {\"85\": 34, \"98\": 1, \"66\": 1}, \"31\": {\"107\": 2, \"31\": 14, \"44\": 2, \"33\": 1, \"10\": 1}, \"81\": {\"81\": 31, \"33\": 1}, \"60\": {\"60\": 26, \"23\": 1, \"16\": 1}, \"102\": {\"102\": 116}, \"19\": {\"98\": 1, \"85\": 2, \"28\": 1, \"19\": 13, \"32\": 2, \"100\": 2, \"66\": 1, \"107\": 2, \"5\": 2, \"128\": 1, \"77\": 1, \"103\": 1, \"46\": 1, \"44\": 2}, \"23\": {\"8\": 3, \"23\": 14, \"30\": 2, \"69\": 1, \"62\": 1, \"18\": 2, \"122\": 3, \"49\": 1, \"26\": 1, \"97\": 2, \"110\": 2}, \"32\": {\"32\": 25, \"107\": 2, \"28\": 1, \"74\": 1, \"19\": 1, \"38\": 1, \"9\": 1}, \"39\": {\"39\": 102, \"43\": 2, \"21\": 2, \"88\": 2}, \"129\": {\"129\": 32}, \"71\": {\"99\": 2, \"71\": 57, \"101\": 1, \"3\": 1, \"127\": 4, \"109\": 1, \"105\": 2}, \"91\": {\"91\": 13, \"57\": 3, \"111\": 1, \"5\": 2, \"72\": 2, \"52\": 2, \"70\": 1}, \"101\": {\"101\": 42, \"126\": 1, \"12\": 3, \"106\": 3, \"113\": 1, \"127\": 1, \"15\": 1}, \"62\": {\"62\": 116, \"84\": 4, \"88\": 2}, \"63\": {\"63\": 15, \"2\": 1}, \"125\": {\"125\": 117, \"102\": 1, \"90\": 1, \"19\": 1}, \"57\": {\"32\": 2, \"56\": 2, \"100\": 3, \"57\": 10, \"129\": 1, \"5\": 2}, \"28\": {\"28\": 15, \"74\": 1}, \"70\": {\"70\": 49, \"88\": 6, \"39\": 2, \"24\": 2, \"126\": 5, \"10\": 2, \"11\": 2, \"113\": 2, \"96\": 1, \"118\": 1}, \"99\": {\"99\": 26, \"32\": 1, \"105\": 2, \"21\": 1, \"27\": 1, \"72\": 1, \"71\": 2, \"12\": 1, \"34\": 1}, \"121\": {\"121\": 27, \"117\": 3, \"113\": 2}, \"4\": {\"86\": 2, \"4\": 93, \"94\": 1}, \"80\": {\"80\": 16}, \"51\": {\"51\": 13, \"111\": 1, \"101\": 1, \"124\": 1}, \"3\": {\"3\": 103, \"71\": 4, \"40\": 2, \"78\": 1, \"70\": 1, \"33\": 2, \"127\": 2, \"109\": 1}, \"9\": {\"9\": 32}, \"53\": {\"53\": 15, \"66\": 1, \"82\": 1, \"114\": 1, \"112\": 1, \"11\": 1}, \"30\": {\"30\": 75, \"27\": 1, \"43\": 1, \"87\": 2, \"10\": 1, \"0\": 2, \"8\": 1, \"69\": 1}, \"33\": {\"33\": 118, \"69\": 4}, \"15\": {\"15\": 90, \"94\": 9, \"97\": 2, \"12\": 1, \"36\": 1, \"88\": 1}, \"97\": {\"30\": 1, \"15\": 1, \"97\": 18}, \"86\": {\"4\": 2, \"86\": 25, \"84\": 1}, \"20\": {\"20\": 15, \"53\": 1}, \"66\": {\"9\": 1, \"66\": 9, \"65\": 4, \"77\": 1, \"111\": 1}, \"10\": {\"10\": 100, \"11\": 4, \"122\": 1, \"24\": 2, \"108\": 11, \"88\": 3, \"33\": 1}, \"29\": {\"29\": 32}, \"109\": {\"109\": 105, \"90\": 1, \"88\": 2, \"87\": 2, \"11\": 2, \"43\": 1, \"113\": 1}, \"52\": {\"52\": 15, \"72\": 1}, \"67\": {\"67\": 14, \"117\": 1, \"121\": 1}, \"83\": {\"83\": 19, \"78\": 1, \"43\": 1, \"128\": 1, \"98\": 2}, \"72\": {\"72\": 25, \"75\": 1, \"3\": 1, \"99\": 1}, \"90\": {\"90\": 124, \"117\": 2}, \"69\": {\"69\": 75, \"26\": 2, \"40\": 1, \"85\": 1, \"33\": 2, \"84\": 2, \"14\": 1}, \"88\": {\"70\": 4, \"88\": 101, \"10\": 3, \"126\": 1, \"78\": 1, \"39\": 2}, \"115\": {\"115\": 16}, \"73\": {\"73\": 33, \"38\": 1, \"88\": 1, \"42\": 1, \"27\": 1, \"109\": 1, \"9\": 1, \"89\": 1}, \"34\": {\"44\": 2, \"32\": 1, \"35\": 1, \"34\": 16, \"105\": 2, \"114\": 2, \"107\": 2, \"128\": 2, \"20\": 1, \"31\": 1, \"53\": 1, \"98\": 1}, \"25\": {\"25\": 16}, \"44\": {\"44\": 70, \"107\": 1, \"31\": 1}, \"112\": {\"5\": 2, \"112\": 9, \"97\": 1, \"85\": 1, \"59\": 1, \"66\": 1, \"42\": 1}, \"37\": {\"37\": 14, \"111\": 1, \"77\": 1}, \"77\": {\"77\": 16}, \"111\": {\"111\": 115, \"6\": 3, \"124\": 1, \"11\": 1, \"126\": 1, \"10\": 1}, \"119\": {\"119\": 13, \"102\": 1, \"89\": 2}, \"56\": {\"56\": 12}, \"5\": {\"5\": 104, \"126\": 1, \"98\": 2, \"77\": 1, \"124\": 1, \"21\": 1, \"111\": 2}, \"122\": {\"122\": 50, \"110\": 4, \"21\": 2, \"87\": 2, \"126\": 1, \"10\": 1}, \"74\": {\"74\": 14, \"28\": 1, \"57\": 1}, \"11\": {\"11\": 131, \"109\": 12, \"118\": 1, \"87\": 3, \"39\": 1, \"113\": 2, \"122\": 1, \"88\": 1}, \"41\": {\"52\": 1, \"41\": 13, \"85\": 1, \"98\": 1}, \"104\": {\"104\": 15, \"66\": 1}, \"21\": {\"21\": 46, \"101\": 2}, \"118\": {\"118\": 95, \"60\": 1, \"87\": 1, \"24\": 1, \"113\": 2}, \"40\": {\"40\": 111, \"21\": 1, \"1\": 2, \"84\": 3, \"105\": 1, \"107\": 1, \"114\": 1, \"127\": 1, \"7\": 1}, \"6\": {\"6\": 30, \"104\": 1, \"124\": 1}, \"27\": {\"15\": 2, \"27\": 78, \"24\": 3, \"30\": 1, \"36\": 10, \"118\": 1, \"108\": 1}, \"113\": {\"113\": 114, \"118\": 3, \"96\": 2, \"43\": 1}, \"68\": {\"68\": 16}, \"12\": {\"12\": 92, \"15\": 4, \"101\": 3, \"127\": 2, \"7\": 1}, \"54\": {\"54\": 16}, \"24\": {\"24\": 36, \"30\": 2, \"36\": 3, \"126\": 1, \"27\": 3, \"108\": 1, \"70\": 2}, \"106\": {\"101\": 1, \"106\": 93, \"15\": 4, \"87\": 1, \"113\": 1}, \"128\": {\"56\": 1, \"128\": 22, \"99\": 1, \"50\": 1, \"98\": 1, \"34\": 2, \"9\": 2, \"32\": 2}, \"48\": {\"86\": 4, \"48\": 5, \"91\": 1, \"79\": 2, \"37\": 2, \"2\": 1, \"115\": 1}, \"92\": {\"92\": 30, \"82\": 2}, \"35\": {\"35\": 10, \"54\": 1, \"91\": 1}, \"116\": {\"116\": 27, \"29\": 1}, \"38\": {\"9\": 2, \"129\": 1, \"38\": 10, \"57\": 1, \"95\": 1, \"99\": 1}, \"126\": {\"24\": 2, \"126\": 122}, \"46\": {\"46\": 12, \"128\": 2, \"1\": 1, \"77\": 1}, \"120\": {\"120\": 15, \"115\": 1, \"121\": 2, \"13\": 2}, \"7\": {\"7\": 103, \"14\": 2, \"12\": 4, \"105\": 2, \"113\": 1}, \"13\": {\"13\": 12, \"76\": 1, \"70\": 1, \"122\": 1, \"113\": 1}, \"43\": {\"43\": 41, \"109\": 2, \"118\": 4, \"122\": 2, \"11\": 3, \"113\": 1, \"39\": 2, \"126\": 1}, \"93\": {\"93\": 127, \"69\": 1, \"90\": 1, \"84\": 1, \"16\": 2}, \"26\": {\"26\": 129, \"126\": 1, \"16\": 2}, \"76\": {\"76\": 13, \"33\": 1, \"90\": 1, \"89\": 1}, \"59\": {\"59\": 12}, \"65\": {\"65\": 9, \"17\": 1, \"98\": 2}, \"87\": {\"87\": 109, \"122\": 1, \"110\": 4, \"11\": 5, \"126\": 1}, \"124\": {\"124\": 121, \"89\": 1, \"77\": 1, \"90\": 1}, \"84\": {\"84\": 98, \"111\": 1, \"16\": 2, \"62\": 3, \"93\": 2, \"40\": 1, \"69\": 1}, \"82\": {\"82\": 24, \"89\": 2, \"29\": 2}, \"75\": {\"75\": 16}, \"17\": {\"4\": 1, \"115\": 1, \"116\": 1, \"104\": 1, \"79\": 1, \"17\": 5, \"78\": 1, \"86\": 1, \"6\": 1, \"88\": 1, \"5\": 1, \"42\": 1}, \"105\": {\"105\": 122, \"71\": 2}, \"95\": {\"95\": 29, \"1\": 1, \"14\": 1, \"19\": 1}, \"42\": {\"42\": 16, \"73\": 3, \"124\": 1, \"58\": 2, \"54\": 1, \"5\": 3, \"129\": 1, \"85\": 1}, \"55\": {\"55\": 16}, \"16\": {\"16\": 109, \"14\": 1, \"93\": 3, \"113\": 1, \"23\": 2}, \"50\": {\"50\": 13, \"116\": 2, \"100\": 1}, \"96\": {\"43\": 2, \"96\": 16, \"126\": 2}, \"45\": {\"45\": 16}, \"36\": {\"36\": 110, \"30\": 6, \"27\": 4}, \"114\": {\"114\": 109, \"27\": 1, \"1\": 3, \"3\": 4, \"107\": 4, \"18\": 1, \"113\": 1, \"117\": 1}}, \"Wisig_4\": {\"113\": {\"113\": 121, \"39\": 1, \"109\": 1, \"24\": 1}, \"85\": {\"85\": 25, \"83\": 1, \"25\": 1, \"42\": 1}, \"34\": {\"49\": 2, \"34\": 19, \"71\": 3, \"72\": 1, \"12\": 1, \"75\": 1, \"114\": 3, \"95\": 2}, \"55\": {\"55\": 14, \"128\": 1, \"19\": 1}, \"42\": {\"42\": 16, \"120\": 2, \"29\": 1, \"41\": 2, \"119\": 1, \"91\": 1, \"56\": 1, \"95\": 1, \"111\": 1, \"112\": 1, \"102\": 1}, \"13\": {\"13\": 15, \"73\": 1}, \"69\": {\"72\": 2, \"69\": 101, \"39\": 1, \"7\": 1, \"84\": 8, \"88\": 3, \"16\": 3, \"74\": 2, \"93\": 2, \"21\": 1}, \"35\": {\"35\": 12}, \"83\": {\"83\": 17, \"21\": 1, \"107\": 2, \"73\": 1, \"14\": 1, \"12\": 1, \"34\": 1, \"88\": 1, \"49\": 2, \"95\": 1}, \"51\": {\"53\": 2, \"21\": 2, \"126\": 3, \"51\": 4, \"43\": 1, \"89\": 1, \"12\": 1, \"9\": 2}, \"72\": {\"72\": 24, \"99\": 2, \"43\": 1, \"14\": 1, \"3\": 3, \"40\": 1}, \"24\": {\"24\": 87, \"10\": 14, \"21\": 1, \"70\": 4, \"27\": 6, \"36\": 3, \"30\": 4, \"97\": 1}, \"53\": {\"53\": 8, \"71\": 1, \"27\": 1, \"114\": 2, \"1\": 2, \"127\": 2}, \"8\": {\"8\": 127, \"106\": 1, \"15\": 7, \"109\": 1, \"110\": 1, \"0\": 2, \"126\": 1, \"88\": 1, \"18\": 1, \"21\": 1, \"10\": 1}, \"49\": {\"49\": 18, \"12\": 2, \"106\": 1, \"105\": 1, \"34\": 2, \"44\": 1, \"95\": 1, \"40\": 2, \"53\": 1, \"71\": 1, \"5\": 2}, \"21\": {\"21\": 37, \"23\": 1, \"113\": 1, \"126\": 1}, \"18\": {\"18\": 113, \"84\": 2, \"35\": 1, \"24\": 1, \"39\": 1, \"26\": 2}, \"114\": {\"114\": 103, \"127\": 2, \"88\": 1, \"107\": 2, \"71\": 1, \"5\": 3, \"3\": 3, \"1\": 2, \"43\": 1}, \"58\": {\"58\": 14, \"45\": 1, \"108\": 1}, \"56\": {\"56\": 12}, \"80\": {\"80\": 16}, \"11\": {\"11\": 143, \"110\": 3, \"122\": 1, \"118\": 2, \"93\": 2, \"24\": 1, \"96\": 1, \"87\": 1}, \"15\": {\"15\": 108, \"36\": 1, \"94\": 5, \"12\": 2, \"7\": 1, \"8\": 7, \"88\": 1, \"11\": 2, \"109\": 1}, \"50\": {\"50\": 10, \"57\": 2, \"31\": 2, \"115\": 1, \"91\": 1}, \"111\": {\"111\": 136, \"59\": 1, \"27\": 1}, \"108\": {\"108\": 56, \"78\": 2, \"70\": 10, \"109\": 6, \"88\": 3, \"98\": 1, \"10\": 1, \"126\": 1, \"27\": 1, \"43\": 3, \"113\": 1, \"128\": 1, \"124\": 1, \"39\": 4, \"12\": 1}, \"104\": {\"104\": 13, \"67\": 1, \"17\": 1, \"82\": 1}, \"32\": {\"32\": 22, \"107\": 3, \"1\": 2, \"89\": 1}, \"68\": {\"111\": 2, \"68\": 13, \"108\": 1}, \"73\": {\"83\": 2, \"73\": 18, \"100\": 1, \"20\": 1, \"33\": 1, \"1\": 1}, \"92\": {\"107\": 2, \"92\": 22, \"45\": 2, \"44\": 1, \"33\": 1}, \"57\": {\"57\": 15, \"90\": 1}, \"40\": {\"40\": 119, \"108\": 1, \"70\": 1, \"105\": 2, \"114\": 2, \"3\": 4, \"32\": 1, \"126\": 2, \"33\": 1, \"14\": 1, \"71\": 2}, \"71\": {\"71\": 94, \"105\": 2, \"10\": 1, \"126\": 1, \"1\": 2, \"109\": 1, \"3\": 1, \"114\": 2}, \"121\": {\"121\": 26, \"21\": 1, \"90\": 1, \"33\": 3, \"81\": 1}, \"62\": {\"62\": 36, \"60\": 4, \"11\": 2, \"122\": 1, \"43\": 1, \"21\": 2, \"118\": 2, \"93\": 5, \"126\": 1, \"106\": 1, \"39\": 1, \"96\": 1, \"87\": 2, \"7\": 1}, \"39\": {\"39\": 90, \"109\": 2, \"88\": 2, \"126\": 3, \"78\": 1, \"93\": 1, \"10\": 1}, \"107\": {\"107\": 132, \"90\": 2, \"40\": 4, \"105\": 1, \"3\": 1, \"114\": 4}, \"60\": {\"60\": 27, \"96\": 1, \"11\": 1, \"84\": 1, \"62\": 1, \"23\": 1}, \"129\": {\"129\": 25, \"42\": 1, \"37\": 1, \"55\": 1}, \"84\": {\"84\": 118, \"72\": 2, \"88\": 3, \"69\": 4, \"108\": 3, \"16\": 2}, \"106\": {\"106\": 95, \"12\": 8, \"113\": 1, \"8\": 1, \"101\": 6, \"127\": 2, \"15\": 2, \"88\": 1}, \"87\": {\"110\": 2, \"87\": 126, \"122\": 2, \"11\": 2}, \"110\": {\"110\": 83, \"30\": 1, \"11\": 5, \"39\": 1, \"24\": 1, \"36\": 1, \"88\": 1, \"87\": 1}, \"118\": {\"118\": 95, \"22\": 1, \"11\": 2, \"122\": 3, \"110\": 3, \"88\": 2, \"87\": 2, \"113\": 2, \"93\": 2}, \"64\": {\"64\": 13, \"113\": 1, \"28\": 2}, \"82\": {\"129\": 1, \"32\": 1, \"82\": 19, \"17\": 1, \"56\": 1, \"76\": 2, \"1\": 2, \"89\": 1, \"55\": 1, \"85\": 1, \"29\": 1, \"44\": 1}, \"7\": {\"7\": 107, \"14\": 2, \"62\": 1, \"118\": 1, \"105\": 2, \"1\": 4, \"69\": 2, \"43\": 1, \"84\": 1, \"10\": 1, \"126\": 1, \"24\": 1}, \"0\": {\"0\": 100, \"106\": 1, \"8\": 4, \"88\": 1, \"126\": 1, \"24\": 1, \"21\": 2, \"122\": 2, \"87\": 2, \"101\": 2}, \"41\": {\"41\": 7, \"28\": 1, \"82\": 1, \"47\": 1, \"91\": 2, \"120\": 1, \"98\": 3}, \"102\": {\"102\": 123, \"40\": 1, \"126\": 1, \"19\": 1, \"48\": 2, \"2\": 2}, \"89\": {\"89\": 23, \"113\": 1, \"46\": 2, \"76\": 2, \"33\": 2, \"19\": 2}, \"26\": {\"18\": 1, \"26\": 122, \"113\": 1, \"70\": 1, \"8\": 1, \"16\": 2}, \"103\": {\"103\": 11, \"71\": 2, \"75\": 2, \"91\": 1}, \"90\": {\"90\": 114, \"66\": 1, \"117\": 2, \"57\": 1}, \"14\": {\"14\": 107, \"99\": 2, \"72\": 1, \"84\": 1, \"88\": 1}, \"9\": {\"9\": 28}, \"5\": {\"107\": 2, \"5\": 127, \"113\": 2, \"88\": 1, \"114\": 4}, \"22\": {\"22\": 14, \"28\": 2}, \"2\": {\"2\": 27, \"117\": 1}, \"77\": {\"77\": 12}, \"59\": {\"59\": 8, \"109\": 1, \"88\": 1, \"111\": 2}, \"127\": {\"127\": 89, \"113\": 1, \"90\": 1, \"70\": 1, \"105\": 5, \"3\": 2, \"80\": 1, \"10\": 1, \"1\": 1}, \"61\": {\"61\": 14, \"35\": 2}, \"17\": {\"17\": 15, \"86\": 2, \"81\": 1, \"124\": 2}, \"45\": {\"89\": 1, \"45\": 12, \"120\": 1, \"102\": 1, \"33\": 1}, \"19\": {\"32\": 2, \"19\": 16, \"100\": 1, \"38\": 1, \"74\": 2, \"56\": 1, \"85\": 2, \"28\": 1, \"33\": 1, \"1\": 1}, \"52\": {\"52\": 17, \"113\": 1, \"34\": 1, \"71\": 1}, \"123\": {\"77\": 1, \"123\": 11, \"117\": 2, \"54\": 1, \"111\": 1}, \"20\": {\"20\": 13, \"29\": 1, \"105\": 2}, \"112\": {\"112\": 9, \"77\": 1, \"120\": 2, \"1\": 1, \"85\": 2, \"2\": 1}, \"37\": {\"37\": 14, \"17\": 2}, \"29\": {\"29\": 32}, \"128\": {\"128\": 19, \"100\": 1, \"53\": 1, \"89\": 2, \"97\": 1}, \"100\": {\"100\": 16, \"105\": 1, \"128\": 1, \"114\": 1, \"44\": 1}, \"67\": {\"67\": 11, \"117\": 1, \"28\": 1, \"2\": 1, \"45\": 2}, \"12\": {\"12\": 88, \"113\": 1, \"15\": 4, \"98\": 1, \"127\": 2, \"0\": 1, \"16\": 1, \"14\": 1, \"126\": 1}, \"101\": {\"101\": 120, \"93\": 1, \"33\": 1, \"49\": 1, \"8\": 3, \"7\": 1, \"14\": 1}, \"76\": {\"76\": 16}, \"70\": {\"108\": 6, \"109\": 2, \"70\": 91, \"118\": 2, \"27\": 5, \"88\": 12, \"10\": 4, \"43\": 1, \"24\": 1}, \"31\": {\"39\": 1, \"57\": 1, \"31\": 12, \"45\": 1, \"100\": 1}, \"86\": {\"86\": 28}, \"88\": {\"39\": 3, \"88\": 101, \"78\": 3, \"10\": 4, \"70\": 10, \"108\": 6, \"109\": 3, \"24\": 1, \"43\": 1}, \"3\": {\"3\": 99, \"71\": 9, \"108\": 1, \"99\": 1, \"70\": 1, \"107\": 2, \"1\": 2, \"20\": 2, \"44\": 2, \"10\": 1, \"14\": 2, \"105\": 2, \"114\": 2}, \"117\": {\"117\": 117, \"126\": 2, \"70\": 1}, \"30\": {\"30\": 66, \"110\": 1, \"126\": 1, \"10\": 2, \"27\": 1, \"94\": 3, \"70\": 1, \"88\": 1}, \"96\": {\"96\": 11, \"122\": 1, \"118\": 2, \"16\": 1, \"62\": 3, \"7\": 2}, \"27\": {\"27\": 81, \"88\": 1, \"70\": 2, \"24\": 2, \"10\": 1, \"109\": 2, \"113\": 1, \"21\": 1, \"8\": 1, \"30\": 2, \"108\": 1, \"39\": 1, \"0\": 2, \"15\": 2}, \"122\": {\"122\": 66, \"43\": 4, \"110\": 4, \"39\": 1, \"87\": 4, \"118\": 5}, \"120\": {\"120\": 14, \"45\": 1, \"42\": 2, \"21\": 1, \"98\": 1, \"41\": 1}, \"44\": {\"40\": 2, \"44\": 54, \"121\": 2, \"5\": 2, \"107\": 2, \"73\": 1, \"72\": 1}, \"79\": {\"79\": 14, \"73\": 1, \"39\": 1}, \"105\": {\"105\": 87, \"40\": 4, \"39\": 1, \"88\": 1, \"14\": 1, \"71\": 1, \"44\": 1, \"99\": 1, \"122\": 1, \"124\": 1, \"24\": 1}, \"95\": {\"95\": 25, \"14\": 1, \"34\": 2, \"21\": 1, \"114\": 2, \"27\": 1}, \"109\": {\"109\": 109, \"43\": 2, \"90\": 1, \"108\": 2, \"107\": 1, \"39\": 1}, \"16\": {\"16\": 109, \"88\": 1, \"70\": 1, \"126\": 1, \"26\": 4, \"84\": 2}, \"36\": {\"36\": 88, \"113\": 1, \"27\": 3, \"10\": 1, \"108\": 1, \"21\": 1, \"94\": 1, \"24\": 1, \"15\": 1}, \"125\": {\"125\": 133, \"4\": 2, \"117\": 1}, \"97\": {\"36\": 2, \"84\": 1, \"97\": 11, \"10\": 2, \"18\": 1, \"24\": 1, \"124\": 2}, \"91\": {\"51\": 1, \"91\": 12, \"103\": 3, \"82\": 1, \"41\": 1, \"42\": 2, \"77\": 1, \"68\": 2, \"47\": 1}, \"28\": {\"28\": 16, \"115\": 1, \"82\": 1, \"64\": 2}, \"81\": {\"18\": 4, \"35\": 1, \"81\": 31}, \"126\": {\"126\": 109, \"109\": 5, \"78\": 1, \"39\": 3, \"113\": 4}, \"4\": {\"4\": 97, \"126\": 1, \"39\": 1, \"10\": 1, \"43\": 1, \"108\": 1, \"125\": 1, \"88\": 1}, \"10\": {\"10\": 98, \"97\": 1, \"126\": 1, \"27\": 4, \"88\": 3, \"24\": 6, \"70\": 7, \"78\": 1, \"30\": 1, \"108\": 1, \"39\": 1}, \"63\": {\"63\": 12, \"117\": 3, \"48\": 1}, \"43\": {\"43\": 109, \"118\": 2, \"10\": 1, \"109\": 4, \"87\": 1, \"122\": 1}, \"116\": {\"116\": 25, \"67\": 1, \"13\": 2}, \"1\": {\"1\": 67, \"105\": 4, \"49\": 2, \"95\": 1, \"111\": 2, \"114\": 7, \"107\": 4, \"71\": 6, \"3\": 4, \"24\": 1, \"40\": 5, \"99\": 2, \"108\": 1, \"70\": 1, \"88\": 1}, \"94\": {\"15\": 13, \"78\": 1, \"94\": 60, \"87\": 1, \"39\": 1, \"30\": 4, \"106\": 1, \"8\": 2, \"126\": 1, \"36\": 1, \"12\": 1, \"0\": 1, \"101\": 1}, \"38\": {\"121\": 1, \"38\": 7, \"5\": 3, \"81\": 1, \"83\": 1, \"44\": 2, \"40\": 1}, \"54\": {\"54\": 13, \"9\": 3}, \"74\": {\"74\": 12, \"32\": 1, \"50\": 1, \"33\": 2}, \"25\": {\"25\": 15, \"9\": 1}, \"75\": {\"103\": 1, \"75\": 15}, \"119\": {\"119\": 15, \"123\": 1}, \"46\": {\"46\": 10, \"119\": 1, \"128\": 2, \"114\": 1, \"120\": 1, \"34\": 1, \"129\": 1, \"19\": 1, \"89\": 1, \"111\": 1}, \"23\": {\"23\": 2, \"54\": 1, \"126\": 1, \"0\": 1, \"113\": 2, \"93\": 1, \"39\": 1, \"7\": 2, \"118\": 1, \"109\": 2, \"111\": 1, \"60\": 1}, \"99\": {\"99\": 32, \"14\": 2, \"72\": 1, \"3\": 3, \"114\": 1, \"40\": 1}, \"33\": {\"33\": 109, \"40\": 2, \"107\": 6, \"24\": 1}, \"47\": {\"47\": 12}, \"115\": {\"115\": 12, \"111\": 2, \"102\": 2}, \"6\": {\"91\": 1, \"6\": 17, \"79\": 1, \"58\": 2, \"37\": 1, \"124\": 1, \"39\": 1}, \"65\": {\"65\": 12}, \"66\": {\"66\": 8, \"90\": 3, \"38\": 1, \"89\": 1, \"121\": 1, \"22\": 2}, \"78\": {\"78\": 20, \"118\": 1, \"30\": 1, \"108\": 2, \"24\": 1, \"70\": 6, \"88\": 3, \"21\": 1, \"109\": 1}, \"98\": {\"98\": 116}, \"93\": {\"93\": 113, \"5\": 1, \"113\": 2}, \"48\": {\"48\": 13, \"90\": 1, \"37\": 1, \"13\": 1}, \"124\": {\"124\": 110, \"102\": 2, \"4\": 1, \"24\": 1}}, \"Wisig_2\": {\"115\": {\"115\": 12}, \"34\": {\"34\": 29, \"53\": 1, \"49\": 1, \"54\": 1}, \"97\": {\"7\": 2, \"97\": 14, \"0\": 1, \"90\": 1, \"101\": 2}, \"100\": {\"100\": 12, \"69\": 1, \"82\": 1, \"33\": 1, \"44\": 1}, \"129\": {\"129\": 32}, \"90\": {\"90\": 142}, \"125\": {\"125\": 131, \"2\": 1}, \"7\": {\"7\": 115, \"62\": 2, \"40\": 1, \"105\": 5, \"12\": 2, \"24\": 1, \"39\": 1, \"88\": 1}, \"92\": {\"92\": 18, \"90\": 1, \"74\": 1, \"107\": 1, \"128\": 1, \"89\": 2, \"82\": 3, \"76\": 1}, \"114\": {\"114\": 113, \"39\": 1, \"44\": 2}, \"80\": {\"80\": 15, \"82\": 1}, \"16\": {\"16\": 107, \"93\": 5, \"118\": 2, \"109\": 1, \"40\": 1, \"126\": 1, \"87\": 1, \"70\": 1, \"26\": 1, \"88\": 1, \"98\": 1}, \"69\": {\"69\": 102, \"87\": 1, \"18\": 4, \"26\": 4, \"84\": 2, \"108\": 1, \"21\": 1, \"88\": 1}, \"102\": {\"102\": 114}, \"33\": {\"33\": 130}, \"17\": {\"129\": 2, \"86\": 1, \"17\": 9, \"104\": 2, \"27\": 1, \"79\": 1}, \"27\": {\"27\": 55, \"24\": 1, \"126\": 1, \"94\": 1, \"109\": 1, \"8\": 2, \"78\": 1, \"30\": 1, \"36\": 4, \"87\": 1}, \"117\": {\"117\": 101, \"27\": 1, \"90\": 2, \"39\": 1, \"120\": 1}, \"14\": {\"14\": 38, \"71\": 3, \"40\": 2, \"69\": 1, \"39\": 1, \"1\": 2, \"21\": 1}, \"86\": {\"86\": 31, \"59\": 1}, \"0\": {\"0\": 101, \"21\": 1, \"10\": 1, \"30\": 2, \"16\": 1, \"122\": 1, \"8\": 4, \"12\": 2, \"94\": 2, \"39\": 1}, \"62\": {\"62\": 125, \"40\": 2, \"16\": 1, \"105\": 4, \"69\": 1, \"93\": 1, \"14\": 2, \"5\": 1, \"24\": 1}, \"39\": {\"39\": 88, \"109\": 12, \"87\": 1, \"113\": 1, \"126\": 2, \"88\": 4, \"70\": 4}, \"19\": {\"19\": 23, \"44\": 1, \"45\": 1, \"55\": 2, \"83\": 1}, \"44\": {\"14\": 1, \"44\": 97, \"3\": 1, \"62\": 1}, \"104\": {\"104\": 16, \"17\": 1, \"37\": 1, \"111\": 1, \"86\": 1}, \"3\": {\"14\": 2, \"3\": 115, \"87\": 1, \"24\": 1, \"43\": 1, \"21\": 1, \"36\": 1, \"71\": 4, \"40\": 1, \"1\": 3}, \"10\": {\"10\": 47, \"70\": 2, \"108\": 2, \"78\": 2, \"126\": 2, \"109\": 1, \"21\": 2, \"88\": 2}, \"61\": {\"61\": 11, \"76\": 1, \"36\": 1, \"70\": 1, \"114\": 1, \"64\": 1, \"107\": 2, \"39\": 2}, \"111\": {\"103\": 1, \"86\": 1, \"111\": 110, \"5\": 2}, \"68\": {\"111\": 1, \"68\": 10, \"54\": 1, \"76\": 2, \"103\": 2}, \"101\": {\"101\": 139, \"21\": 1, \"106\": 2, \"118\": 1, \"127\": 1}, \"36\": {\"36\": 113, \"96\": 1, \"15\": 3, \"88\": 1, \"30\": 1, \"8\": 2, \"39\": 1, \"109\": 3, \"27\": 1, \"16\": 1, \"126\": 1}, \"120\": {\"120\": 20}, \"103\": {\"103\": 16}, \"47\": {\"47\": 11, \"68\": 1}, \"98\": {\"98\": 117, \"34\": 2, \"33\": 1}, \"76\": {\"76\": 16}, \"88\": {\"88\": 99, \"126\": 4, \"78\": 3, \"109\": 11, \"39\": 2, \"70\": 5}, \"93\": {\"93\": 119, \"96\": 1, \"10\": 1, \"16\": 15, \"24\": 1, \"62\": 1}, \"23\": {\"93\": 1, \"108\": 1, \"11\": 3, \"118\": 1, \"18\": 3, \"110\": 2, \"72\": 3, \"8\": 3, \"23\": 10, \"0\": 1, \"69\": 1, \"10\": 1, \"16\": 1, \"30\": 2, \"78\": 1, \"62\": 2, \"15\": 2, \"94\": 3, \"113\": 3}, \"108\": {\"108\": 118, \"10\": 1, \"43\": 3, \"126\": 1, \"109\": 1}, \"51\": {\"54\": 2, \"106\": 2, \"90\": 2, \"51\": 7, \"34\": 1, \"49\": 2, \"103\": 1, \"127\": 2, \"21\": 1}, \"13\": {\"13\": 10, \"36\": 1, \"48\": 2, \"88\": 1, \"118\": 2}, \"77\": {\"77\": 16}, \"46\": {\"46\": 16}, \"96\": {\"96\": 16, \"1\": 1, \"93\": 2, \"69\": 1}, \"119\": {\"119\": 17, \"37\": 1, \"22\": 2}, \"121\": {\"121\": 34, \"81\": 1, \"117\": 1}, \"54\": {\"54\": 12, \"41\": 1, \"34\": 5, \"32\": 1, \"87\": 1}, \"82\": {\"82\": 32, \"90\": 1, \"99\": 2, \"78\": 1}, \"12\": {\"12\": 78, \"110\": 2, \"39\": 1, \"106\": 1, \"0\": 3, \"126\": 1, \"7\": 1, \"24\": 1}, \"74\": {\"74\": 13, \"32\": 2, \"105\": 1}, \"66\": {\"66\": 16, \"41\": 1, \"6\": 1, \"85\": 1, \"124\": 1}, \"28\": {\"28\": 16, \"73\": 1, \"66\": 1, \"98\": 2}, \"52\": {\"52\": 18, \"17\": 1, \"25\": 1}, \"41\": {\"41\": 15, \"52\": 1, \"5\": 1, \"17\": 1, \"124\": 1, \"114\": 1}, \"81\": {\"81\": 19, \"99\": 4, \"18\": 1}, \"48\": {\"48\": 19, \"90\": 1}, \"113\": {\"113\": 69, \"16\": 2, \"78\": 1}, \"53\": {\"53\": 15, \"1\": 1}, \"15\": {\"15\": 109, \"97\": 2, \"36\": 2, \"122\": 2, \"8\": 2, \"0\": 2, \"70\": 1}, \"30\": {\"30\": 90, \"8\": 5, \"0\": 2, \"24\": 2, \"118\": 2, \"94\": 2, \"16\": 1, \"27\": 1, \"122\": 1, \"12\": 2, \"84\": 1, \"70\": 1, \"36\": 1, \"126\": 1}, \"43\": {\"43\": 120, \"87\": 1, \"118\": 1, \"88\": 2}, \"29\": {\"29\": 30, \"91\": 2}, \"109\": {\"109\": 73, \"39\": 14, \"126\": 2, \"88\": 11}, \"60\": {\"60\": 21, \"110\": 3, \"11\": 1, \"26\": 1, \"72\": 1, \"70\": 1}, \"70\": {\"70\": 70, \"10\": 2, \"126\": 15, \"78\": 4, \"87\": 2, \"39\": 6, \"88\": 12, \"109\": 8, \"108\": 2, \"113\": 1}, \"127\": {\"127\": 117, \"101\": 2, \"40\": 2, \"16\": 1, \"12\": 2}, \"32\": {\"32\": 33, \"56\": 1, \"128\": 2}, \"73\": {\"73\": 21, \"88\": 1, \"89\": 2, \"98\": 3, \"90\": 1}, \"50\": {\"50\": 11, \"75\": 1, \"21\": 1, \"66\": 1, \"63\": 2}, \"1\": {\"1\": 108, \"105\": 1, \"93\": 1, \"69\": 2, \"84\": 2, \"40\": 4, \"14\": 1, \"87\": 1, \"33\": 2, \"109\": 1, \"126\": 1}, \"106\": {\"106\": 110, \"21\": 1, \"15\": 4, \"101\": 2, \"126\": 1, \"30\": 1, \"88\": 1}, \"123\": {\"83\": 2, \"123\": 10, \"28\": 2, \"129\": 1, \"53\": 1}, \"79\": {\"79\": 15, \"4\": 1}, \"4\": {\"4\": 79, \"125\": 4, \"109\": 1, \"126\": 1, \"108\": 1, \"5\": 2}, \"2\": {\"2\": 26, \"121\": 2, \"117\": 2, \"89\": 1, \"82\": 1}, \"8\": {\"8\": 112, \"118\": 2, \"30\": 3, \"122\": 4, \"88\": 2, \"11\": 2, \"126\": 1, \"109\": 1, \"108\": 1}, \"83\": {\"83\": 37, \"33\": 1, \"82\": 1, \"47\": 1}, \"105\": {\"105\": 127, \"21\": 1, \"7\": 2}, \"5\": {\"5\": 102, \"21\": 1, \"70\": 2, \"109\": 1, \"129\": 1, \"29\": 2, \"41\": 2, \"88\": 1}, \"99\": {\"99\": 28, \"121\": 2, \"120\": 1, \"26\": 1}, \"25\": {\"25\": 15, \"103\": 1}, \"59\": {\"59\": 7, \"17\": 1, \"21\": 2, \"124\": 2, \"5\": 2, \"86\": 1, \"70\": 1}, \"42\": {\"77\": 1, \"59\": 1, \"52\": 2, \"42\": 6, \"58\": 2, \"111\": 1, \"37\": 2, \"129\": 2, \"124\": 2, \"73\": 2, \"10\": 1, \"28\": 2, \"98\": 2, \"85\": 1, \"88\": 1}, \"55\": {\"95\": 2, \"55\": 8, \"1\": 1, \"14\": 1, \"45\": 1, \"61\": 2, \"38\": 1}, \"75\": {\"75\": 12, \"49\": 2, \"68\": 1, \"106\": 1}, \"118\": {\"118\": 59, \"43\": 3, \"39\": 2, \"87\": 4}, \"95\": {\"127\": 2, \"21\": 1, \"40\": 5, \"95\": 25, \"32\": 1, \"24\": 1, \"7\": 1}, \"122\": {\"122\": 99, \"11\": 6, \"113\": 1, \"24\": 1, \"8\": 9, \"43\": 1, \"94\": 2, \"108\": 1}, \"20\": {\"100\": 2, \"93\": 1, \"20\": 5, \"18\": 2, \"26\": 3, \"81\": 3}, \"110\": {\"110\": 26, \"11\": 1, \"57\": 1, \"84\": 1, \"6\": 1, \"21\": 1, \"105\": 1, \"122\": 1, \"88\": 1, \"87\": 2, \"118\": 2, \"71\": 1, \"7\": 1}, \"65\": {\"65\": 20}, \"37\": {\"37\": 14, \"5\": 1, \"86\": 1}, \"64\": {\"64\": 12, \"66\": 1, \"76\": 1, \"89\": 2}, \"63\": {\"92\": 2, \"63\": 17, \"116\": 1}, \"40\": {\"40\": 99, \"95\": 3, \"7\": 3, \"14\": 1, \"88\": 6, \"1\": 4, \"3\": 7, \"84\": 4, \"71\": 3, \"33\": 3, \"18\": 1, \"16\": 1, \"78\": 1, \"70\": 1, \"109\": 1, \"105\": 1, \"24\": 1}, \"21\": {\"21\": 46, \"109\": 2}, \"11\": {\"11\": 68, \"108\": 2, \"87\": 2, \"109\": 2, \"43\": 2, \"88\": 1, \"122\": 2, \"18\": 1}, \"67\": {\"67\": 15, \"89\": 1}, \"91\": {\"103\": 1, \"70\": 1, \"91\": 18, \"77\": 1, \"29\": 1, \"118\": 1, \"112\": 1, \"86\": 1, \"28\": 1, \"5\": 2}, \"87\": {\"87\": 90, \"43\": 5, \"118\": 1, \"39\": 5, \"126\": 2, \"108\": 1, \"16\": 1, \"70\": 2, \"109\": 4, \"24\": 1}, \"89\": {\"89\": 36}, \"9\": {\"9\": 32}, \"124\": {\"124\": 108, \"86\": 2, \"5\": 4}, \"56\": {\"56\": 11, \"103\": 1}, \"38\": {\"38\": 16}, \"94\": {\"94\": 35, \"97\": 1, \"0\": 2, \"110\": 1, \"101\": 1, \"108\": 1, \"36\": 2, \"8\": 3, \"27\": 2, \"30\": 3, \"106\": 1, \"15\": 7, \"87\": 1, \"118\": 1, \"39\": 2, \"109\": 1}, \"6\": {\"6\": 30, \"111\": 2}, \"58\": {\"58\": 17, \"51\": 2, \"109\": 1}, \"22\": {\"22\": 15, \"129\": 2, \"37\": 2, \"116\": 1}, \"24\": {\"10\": 1, \"108\": 2, \"118\": 2, \"24\": 86, \"27\": 2, \"109\": 2, \"36\": 2, \"21\": 1, \"78\": 3, \"70\": 1, \"126\": 3, \"111\": 1, \"39\": 2, \"88\": 3, \"101\": 1}, \"57\": {\"57\": 17, \"31\": 1, \"120\": 2}, \"112\": {\"112\": 13, \"53\": 1, \"49\": 1, \"19\": 1}, \"116\": {\"116\": 26, \"78\": 2}, \"18\": {\"18\": 103, \"109\": 1, \"87\": 1, \"84\": 2, \"26\": 8, \"78\": 1, \"70\": 2, \"88\": 1, \"24\": 1, \"69\": 4, \"96\": 1, \"93\": 2, \"39\": 1}, \"49\": {\"56\": 2, \"49\": 11, \"78\": 2, \"19\": 2, \"54\": 1, \"95\": 1, \"114\": 1, \"86\": 1, \"58\": 1, \"127\": 1, \"34\": 1}, \"45\": {\"45\": 13, \"19\": 1, \"37\": 1, \"102\": 1}, \"107\": {\"114\": 5, \"14\": 2, \"128\": 1, \"107\": 31, \"109\": 1, \"33\": 4, \"87\": 1, \"44\": 2, \"78\": 2, \"1\": 2, \"39\": 2, \"24\": 1, \"95\": 2, \"34\": 1, \"43\": 1, \"32\": 2, \"36\": 1, \"84\": 1, \"71\": 2}, \"35\": {\"35\": 10, \"1\": 2}, \"78\": {\"78\": 37, \"88\": 3, \"118\": 1, \"70\": 4, \"109\": 3}, \"126\": {\"126\": 107, \"109\": 3, \"70\": 7, \"87\": 1, \"88\": 2}, \"85\": {\"85\": 30, \"98\": 1, \"22\": 1}, \"72\": {\"72\": 27, \"21\": 1}, \"26\": {\"26\": 113, \"69\": 2, \"18\": 4, \"108\": 1, \"93\": 1, \"109\": 1, \"88\": 1, \"70\": 1}, \"84\": {\"84\": 78, \"118\": 1, \"71\": 1, \"87\": 1, \"62\": 4, \"40\": 2, \"113\": 1, \"1\": 4}, \"128\": {\"128\": 13, \"44\": 2, \"34\": 4, \"107\": 2, \"114\": 1, \"54\": 1, \"91\": 1}, \"31\": {\"31\": 20}, \"71\": {\"71\": 81, \"1\": 6, \"109\": 1, \"114\": 2, \"11\": 1, \"95\": 2, \"40\": 2, \"3\": 5}}, \"Wisig_1\": {\"22\": {\"22\": 16}, \"58\": {\"58\": 12}, \"109\": {\"109\": 123, \"70\": 1}, \"77\": {\"77\": 13, \"5\": 1, \"91\": 2}, \"74\": {\"74\": 16}, \"10\": {\"10\": 109, \"126\": 8, \"78\": 1, \"88\": 2}, \"70\": {\"109\": 6, \"70\": 118, \"126\": 2, \"107\": 1, \"108\": 1}, \"84\": {\"84\": 107, \"23\": 1}, \"52\": {\"52\": 16, \"49\": 4}, \"20\": {\"20\": 13, \"52\": 1, \"114\": 2}, \"14\": {\"14\": 92, \"108\": 1, \"1\": 1, \"44\": 2}, \"37\": {\"37\": 16}, \"42\": {\"42\": 15, \"22\": 1, \"54\": 1, \"83\": 4, \"98\": 1, \"82\": 1, \"56\": 1, \"77\": 1, \"2\": 1, \"89\": 1, \"107\": 1}, \"99\": {\"14\": 1, \"99\": 21, \"7\": 1, \"1\": 1}, \"35\": {\"35\": 12}, \"62\": {\"62\": 114, \"69\": 3, \"26\": 1, \"7\": 1, \"39\": 1}, \"61\": {\"61\": 12}, \"7\": {\"7\": 139, \"69\": 2, \"39\": 1}, \"69\": {\"69\": 96, \"11\": 2, \"108\": 1, \"7\": 2, \"109\": 1, \"26\": 2}, \"55\": {\"55\": 12}, \"41\": {\"41\": 13, \"5\": 2, \"22\": 1}, \"120\": {\"120\": 17, \"124\": 1, \"82\": 2}, \"123\": {\"123\": 16}, \"97\": {\"97\": 15, \"17\": 1, \"121\": 1, \"68\": 1, \"90\": 1, \"126\": 1}, \"102\": {\"102\": 117, \"39\": 1, \"11\": 1, \"109\": 1}, \"60\": {\"7\": 2, \"60\": 7, \"18\": 1, \"106\": 2, \"61\": 1, \"23\": 1, \"96\": 1, \"30\": 1}, \"127\": {\"127\": 92, \"10\": 2, \"71\": 8, \"11\": 1, \"78\": 1, \"40\": 2, \"12\": 2}, \"32\": {\"32\": 31, \"53\": 1}, \"3\": {\"20\": 2, \"3\": 75, \"88\": 1, \"85\": 1, \"126\": 1, \"1\": 3, \"30\": 1, \"14\": 1, \"33\": 1, \"111\": 1, \"39\": 1}, \"8\": {\"8\": 122}, \"129\": {\"129\": 20, \"55\": 1, \"13\": 1, \"2\": 1, \"5\": 2, \"54\": 1, \"116\": 1, \"123\": 1}, \"119\": {\"119\": 14, \"63\": 1, \"61\": 1}, \"21\": {\"21\": 36, \"108\": 2, \"109\": 1, \"5\": 1}, \"53\": {\"53\": 20}, \"28\": {\"28\": 15, \"65\": 1, \"66\": 2, \"73\": 2}, \"117\": {\"117\": 144}, \"112\": {\"112\": 11, \"53\": 1, \"98\": 2, \"59\": 1, \"91\": 1}, \"126\": {\"126\": 131, \"70\": 1, \"11\": 1, \"39\": 1}, \"30\": {\"30\": 35, \"96\": 2, \"97\": 5, \"24\": 1, \"108\": 4, \"88\": 1, \"27\": 3, \"11\": 1}, \"105\": {\"105\": 75, \"10\": 1, \"126\": 1, \"70\": 1, \"40\": 2, \"84\": 1, \"14\": 1, \"3\": 1, \"12\": 1}, \"29\": {\"29\": 28}, \"57\": {\"57\": 12}, \"93\": {\"93\": 130, \"8\": 4, \"43\": 2, \"87\": 2, \"126\": 1, \"11\": 1}, \"17\": {\"17\": 8, \"97\": 1, \"124\": 4, \"55\": 2, \"41\": 1}, \"44\": {\"44\": 71, \"1\": 3, \"105\": 1, \"114\": 1}, \"63\": {\"63\": 12, \"119\": 1, \"102\": 1, \"117\": 1, \"13\": 1}, \"87\": {\"87\": 91, \"43\": 7, \"109\": 1, \"122\": 5, \"8\": 3, \"10\": 1}, \"0\": {\"0\": 81, \"39\": 1, \"87\": 2}, \"96\": {\"96\": 15, \"25\": 1, \"126\": 1, \"8\": 1, \"117\": 1, \"93\": 1}, \"98\": {\"98\": 107, \"91\": 1}, \"75\": {\"75\": 14, \"53\": 1, \"34\": 1}, \"78\": {\"109\": 2, \"39\": 1, \"70\": 1, \"78\": 12}, \"116\": {\"116\": 26, \"102\": 1, \"119\": 1, \"90\": 2, \"22\": 1, \"70\": 1}, \"114\": {\"114\": 121, \"40\": 2, \"83\": 1, \"109\": 1, \"70\": 1, \"107\": 2}, \"103\": {\"103\": 14, \"29\": 2}, \"50\": {\"50\": 14, \"90\": 1, \"33\": 1}, \"124\": {\"124\": 127, \"46\": 1}, \"5\": {\"5\": 74, \"54\": 2, \"129\": 2, \"124\": 6, \"98\": 2, \"10\": 1, \"15\": 1}, \"73\": {\"114\": 1, \"49\": 1, \"54\": 2, \"73\": 15, \"44\": 1}, \"81\": {\"114\": 2, \"81\": 22, \"1\": 3, \"7\": 1}, \"49\": {\"49\": 14, \"73\": 1, \"72\": 1, \"34\": 2, \"89\": 1, \"75\": 1}, \"16\": {\"16\": 95, \"69\": 2, \"18\": 3, \"70\": 1, \"26\": 4, \"62\": 2, \"11\": 1}, \"101\": {\"101\": 121, \"29\": 1, \"127\": 1, \"107\": 1}, \"125\": {\"125\": 118}, \"65\": {\"66\": 4, \"17\": 1, \"67\": 1, \"42\": 2, \"109\": 1, \"55\": 1, \"65\": 2}, \"66\": {\"28\": 3, \"66\": 10, \"90\": 1, \"61\": 2}, \"79\": {\"104\": 1, \"79\": 11}, \"39\": {\"39\": 103, \"11\": 1}, \"104\": {\"98\": 1, \"104\": 12, \"5\": 2, \"59\": 1}, \"91\": {\"91\": 25, \"86\": 2, \"103\": 1}, \"25\": {\"82\": 1, \"25\": 11, \"42\": 1, \"100\": 1, \"107\": 1, \"22\": 1}, \"64\": {\"64\": 16}, \"34\": {\"34\": 12, \"75\": 2, \"20\": 1, \"56\": 1, \"89\": 4, \"36\": 1, \"40\": 4, \"1\": 2, \"107\": 3, \"84\": 1, \"33\": 1}, \"82\": {\"82\": 34, \"42\": 1, \"64\": 1}, \"18\": {\"18\": 117, \"16\": 5, \"26\": 2}, \"43\": {\"43\": 117, \"10\": 1, \"87\": 4, \"122\": 6}, \"47\": {\"47\": 12}, \"108\": {\"108\": 103, \"39\": 1, \"70\": 4, \"129\": 1, \"24\": 6, \"10\": 3, \"88\": 4, \"109\": 1, \"126\": 1}, \"111\": {\"111\": 105, \"70\": 1, \"59\": 2}, \"23\": {\"23\": 7, \"87\": 1, \"7\": 4, \"27\": 1, \"62\": 4, \"110\": 5, \"88\": 2}, \"90\": {\"90\": 156, \"66\": 2, \"127\": 1, \"71\": 1}, \"4\": {\"4\": 99, \"30\": 1}, \"92\": {\"92\": 28}, \"2\": {\"2\": 19, \"42\": 2, \"117\": 3, \"116\": 2, \"102\": 1, \"5\": 1, \"82\": 2, \"104\": 1, \"15\": 1}, \"45\": {\"116\": 2, \"80\": 1, \"42\": 1, \"104\": 3, \"25\": 1, \"70\": 1, \"45\": 2, \"21\": 1}, \"68\": {\"68\": 16}, \"26\": {\"26\": 126, \"18\": 1, \"69\": 1}, \"38\": {\"38\": 15, \"40\": 1}, \"40\": {\"40\": 120, \"107\": 2, \"105\": 8, \"35\": 1, \"114\": 6, \"14\": 3, \"71\": 1, \"1\": 1}, \"80\": {\"80\": 14, \"81\": 1, \"14\": 1}, \"107\": {\"107\": 111, \"93\": 1, \"34\": 1, \"114\": 4, \"108\": 1, \"40\": 2, \"39\": 1, \"126\": 1}, \"94\": {\"94\": 86, \"15\": 4, \"36\": 2}, \"115\": {\"115\": 12}, \"46\": {\"22\": 1, \"5\": 1, \"46\": 8, \"70\": 1, \"6\": 1}, \"72\": {\"72\": 27, \"44\": 1, \"107\": 2, \"101\": 1, \"35\": 1}, \"19\": {\"19\": 24, \"73\": 1, \"96\": 1, \"81\": 1, \"83\": 1}, \"100\": {\"100\": 13, \"98\": 1, \"124\": 1, \"16\": 1}, \"76\": {\"76\": 15, \"88\": 1}, \"106\": {\"106\": 125, \"12\": 7}, \"88\": {\"88\": 114, \"108\": 1, \"24\": 8, \"30\": 2, \"10\": 1, \"70\": 1, \"21\": 1, \"126\": 2}, \"15\": {\"15\": 92, \"94\": 11, \"11\": 1}, \"54\": {\"54\": 13, \"15\": 1, \"89\": 1, \"97\": 1}, \"13\": {\"13\": 16}, \"51\": {\"51\": 15, \"49\": 1}, \"24\": {\"24\": 67, \"88\": 17, \"108\": 6, \"39\": 1, \"126\": 1}, \"48\": {\"48\": 12}, \"85\": {\"85\": 32}, \"33\": {\"33\": 140}, \"71\": {\"71\": 99, \"18\": 1, \"127\": 5, \"117\": 1, \"82\": 1, \"3\": 1}, \"6\": {\"6\": 24, \"124\": 1, \"68\": 2, \"5\": 2, \"111\": 1, \"46\": 1, \"58\": 1}, \"83\": {\"83\": 21, \"42\": 1, \"31\": 1, \"2\": 2, \"61\": 1, \"107\": 1, \"34\": 1}, \"121\": {\"90\": 1, \"117\": 2, \"121\": 29}, \"31\": {\"31\": 10, \"1\": 1, \"122\": 1, \"75\": 1, \"9\": 2, \"106\": 1}, \"67\": {\"109\": 1, \"67\": 13, \"116\": 2}, \"1\": {\"1\": 132, \"14\": 2, \"33\": 1, \"18\": 1}, \"27\": {\"27\": 86, \"109\": 1, \"88\": 4, \"36\": 1}, \"118\": {\"118\": 82, \"39\": 1, \"70\": 1}, \"56\": {\"56\": 12}, \"36\": {\"36\": 124, \"39\": 1, \"15\": 1, \"94\": 2}, \"11\": {\"11\": 120, \"107\": 1, \"87\": 2, \"118\": 1, \"126\": 2}, \"110\": {\"110\": 110, \"11\": 1, \"12\": 1, \"8\": 3, \"0\": 1, \"94\": 2, \"36\": 1, \"18\": 1, \"27\": 2}, \"89\": {\"89\": 34, \"29\": 1, \"98\": 1}, \"113\": {\"113\": 110, \"108\": 1, \"12\": 1, \"16\": 2, \"127\": 1, \"126\": 1, \"110\": 1, \"39\": 1}, \"59\": {\"59\": 12}, \"9\": {\"9\": 30, \"70\": 1, \"12\": 1}, \"86\": {\"86\": 31, \"115\": 2, \"5\": 1, \"22\": 1, \"29\": 1}, \"12\": {\"12\": 89, \"106\": 7, \"71\": 2, \"70\": 1, \"109\": 1, \"39\": 2, \"101\": 2}, \"122\": {\"87\": 4, \"122\": 68, \"43\": 11, \"126\": 1, \"8\": 2, \"11\": 1, \"70\": 1}, \"128\": {\"128\": 13, \"51\": 1, \"19\": 3, \"98\": 1, \"82\": 1, \"50\": 1, \"107\": 2, \"53\": 1, \"34\": 1}, \"95\": {\"95\": 33, \"24\": 1, \"33\": 2}}}, \"per_domain_accuracy\": {\"ORACLE.run114\": {\"accuracy\": 0.9113541666666667, \"source?\": true}, \"ORACLE.run120\": {\"accuracy\": 0.8828645833333333, \"source?\": true}, \"ORACLE.run150\": {\"accuracy\": 0.9260416666666667, \"source?\": true}, \"ORACLE.run126\": {\"accuracy\": 0.835625, \"source?\": true}, \"ORACLE.run132\": {\"accuracy\": 0.9041666666666667, \"source?\": true}, \"ORACLE.run144\": {\"accuracy\": 0.8836979166666666, \"source?\": true}, \"ORACLE.run18\": {\"accuracy\": 0.8974479166666667, \"source?\": true}, \"ORACLE.run138\": {\"accuracy\": 0.9232291666666667, \"source?\": true}, \"Wisig_3\": {\"accuracy\": 0.894650655021834, \"source?\": false}, \"Wisig_4\": {\"accuracy\": 0.8540805785123967, \"source?\": false}, \"Wisig_2\": {\"accuracy\": 0.8577267932489452, \"source?\": false}, \"Wisig_1\": {\"accuracy\": 0.9080882352941176, \"source?\": false}}}, \"history\": {\"epoch_indices\": [1, 2, 3, 4, 5, 6, 7, 8, 9, 10, 11, 12, 13, 14, 15, 16, 17, 18, 19, 20, 21, 22, 23, 24, 25, 26, 27], \"train_label_loss\": [0.6308479313311788, 0.4018328600056425, 0.32712683845699453, 0.2829937283795083, 0.24870784011309124, 0.22161846916413022, 0.1993573621970912, 0.17994866113962157, 0.16272885564687645, 0.14928640760405826, 0.13669579917415658, 0.12571614440463538, 0.11598831755449976, 0.10798305503126704, 0.10113010802462062, 0.09478363045534588, 0.08893326128517055, 0.08390718703015843, 0.07971623921434132, 0.07512080169558523, 0.07178851954562951, 0.06849194200058897, 0.06533091773225004, 0.06237479456198492, 0.0603164138824014, 0.057015847813789905, 0.05535461538761221], \"source_val_label_loss\": [1.8514702320098877, 0.3739958703517914, 0.3565414547920227, 0.32810086011886597, 0.32375484704971313, 0.32410237193107605, 0.31861233711242676, 0.31524190306663513, 0.31666719913482666, 0.3265501856803894, 0.3138676881790161, 0.3215717375278473, 0.32952311635017395, 0.33028292655944824, 0.3480208218097687, 0.34461086988449097, 0.3607136309146881, 0.3620634078979492, 0.36424216628074646, 0.3591656982898712, 0.37117940187454224, 0.38355758786201477, 0.37887510657310486, 0.3950560688972473, 0.3906514346599579, 0.388763964176178, 0.40250304341316223], \"target_val_label_loss\": [309.2334899902344, 89.84752655029297, 86.1910400390625, 114.90509033203125, 119.2081298828125, 117.27910614013672, 115.1947021484375, 112.65089416503906, 115.87590789794922, 113.43183898925781, 114.96856689453125, 124.87367248535156, 121.93390655517578, 120.25596618652344, 131.50486755371094, 144.7315216064453, 141.74783325195312, 149.6501007080078, 148.18658447265625, 143.2985382080078, 146.81800842285156, 148.2742462158203, 146.14801025390625, 146.0558624267578, 160.0316162109375, 172.0410919189453, 163.50888061523438], \"source_val_acc_label\": [0.7420833333333333, 0.8660091145833333, 0.8690169270833333, 0.8811393229166666, 0.882421875, 0.8855208333333333, 0.8857161458333334, 0.8903385416666667, 0.8916536458333333, 0.8870703125, 0.8955208333333333, 0.8950520833333333, 0.8955924479166667, 0.8926171875, 0.89427734375, 0.8957356770833333, 0.8912955729166666, 0.8950455729166666, 0.89392578125, 0.89625, 0.8936458333333334, 0.8957682291666667, 0.8955533854166666, 0.8925651041666667, 0.89521484375, 0.8948893229166667, 0.8931315104166667], \"target_val_acc_label\": [0.7925806025369979, 0.8563689217758985, 0.8580866807610994, 0.8545190274841438, 0.8565010570824524, 0.8599696088794926, 0.8598705073995772, 0.861456131078224, 0.8615552325581395, 0.863867600422833, 0.8692521141649049, 0.8692851479915433, 0.872093023255814, 0.8734474101479915, 0.8715644820295984, 0.8748678646934461, 0.8742732558139535, 0.8754294397463002, 0.8772463002114165, 0.8762883192389006, 0.8762552854122622, 0.8750330338266384, 0.8784024841437632, 0.8709038054968288, 0.8736456131078224, 0.8730510042283298, 0.8728197674418605]}, \"dataset_metrics\": {\"source\": {\"train\": {\"n_unique_x\": 896000, \"n_unique_y\": 16, \"n_batch/episode\": 33600}, \"val\": {\"n_unique_x\": 192000, \"n_unique_y\": 16, \"n_batch/episode\": 4800}, \"test\": {\"n_unique_x\": 192000, \"n_unique_y\": 16, \"n_batch/episode\": 4800}}, \"target\": {\"train\": {\"n_unique_x\": 189051, \"n_unique_y\": 130, \"n_batch/episode\": 6861}, \"val\": {\"n_unique_x\": 40049, \"n_unique_y\": 130, \"n_batch/episode\": 946}, \"test\": {\"n_unique_x\": 40794, \"n_unique_y\": 130, \"n_batch/episode\": 966}}}}'"
      ]
     },
     "execution_count": 29,
     "metadata": {},
     "output_type": "execute_result"
    }
   ],
   "source": [
    "json.dumps(experiment)"
   ]
  }
 ],
 "metadata": {
  "celltoolbar": "Tags",
  "kernelspec": {
   "display_name": "Python 3 (ipykernel)",
   "language": "python",
   "name": "python3"
  },
  "language_info": {
   "codemirror_mode": {
    "name": "ipython",
    "version": 3
   },
   "file_extension": ".py",
   "mimetype": "text/x-python",
   "name": "python",
   "nbconvert_exporter": "python",
   "pygments_lexer": "ipython3",
   "version": "3.8.12"
  },
  "papermill": {
   "default_parameters": {},
   "duration": 26451.002181,
   "end_time": "2022-03-24T00:39:43.082269",
   "environment_variables": {},
   "exception": null,
   "input_path": "/root/csc500-main/csc500-notebooks/templates/tl_ptn_template.ipynb",
   "output_path": "trial.ipynb",
   "parameters": {
    "parameters": {
     "BEST_MODEL_PATH": "./best_model.pth",
     "NUM_LOGS_PER_EPOCH": 10,
     "criteria_for_best": "target_accuracy",
     "dataset_seed": 420,
     "datasets": [
      {
       "domain_prefix": "Wisig_",
       "domains": [
        1,
        2,
        3,
        4
       ],
       "episode_transforms": [],
       "labels": [
        "1-10",
        "1-12",
        "1-14",
        "1-16",
        "1-18",
        "1-19",
        "1-8",
        "10-11",
        "10-17",
        "10-4",
        "10-7",
        "11-1",
        "11-10",
        "11-19",
        "11-20",
        "11-4",
        "11-7",
        "12-19",
        "12-20",
        "12-7",
        "13-14",
        "13-18",
        "13-19",
        "13-20",
        "13-3",
        "13-7",
        "14-10",
        "14-11",
        "14-12",
        "14-13",
        "14-14",
        "14-19",
        "14-20",
        "14-7",
        "14-8",
        "14-9",
        "15-1",
        "15-19",
        "15-6",
        "16-1",
        "16-16",
        "16-19",
        "16-20",
        "17-10",
        "17-11",
        "18-1",
        "18-10",
        "18-11",
        "18-12",
        "18-13",
        "18-14",
        "18-15",
        "18-16",
        "18-17",
        "18-19",
        "18-2",
        "18-20",
        "18-4",
        "18-5",
        "18-7",
        "18-8",
        "18-9",
        "19-1",
        "19-10",
        "19-11",
        "19-12",
        "19-13",
        "19-14",
        "19-15",
        "19-19",
        "19-2",
        "19-20",
        "19-3",
        "19-4",
        "19-6",
        "19-7",
        "19-8",
        "19-9",
        "2-1",
        "2-13",
        "2-15",
        "2-3",
        "2-4",
        "2-5",
        "2-6",
        "2-7",
        "2-8",
        "20-1",
        "20-12",
        "20-14",
        "20-15",
        "20-16",
        "20-18",
        "20-19",
        "20-20",
        "20-3",
        "20-4",
        "20-5",
        "20-7",
        "20-8",
        "3-1",
        "3-13",
        "3-18",
        "3-2",
        "3-8",
        "4-1",
        "4-10",
        "4-11",
        "5-1",
        "5-5",
        "6-1",
        "6-15",
        "6-6",
        "7-10",
        "7-11",
        "7-12",
        "7-13",
        "7-14",
        "7-7",
        "7-8",
        "7-9",
        "8-1",
        "8-13",
        "8-14",
        "8-18",
        "8-20",
        "8-3",
        "8-8",
        "9-1",
        "9-7"
       ],
       "num_examples_per_domain_per_label": -1,
       "pickle_path": "/root/csc500-main/datasets/wisig.node3-19.stratified_ds.2022A.pkl",
       "source_or_target_dataset": "target",
       "x_transforms": []
      },
      {
       "domain_prefix": "ORACLE.run1",
       "domains": [
        32,
        38,
        8,
        44,
        14,
        50,
        20,
        26
       ],
       "episode_transforms": [],
       "labels": [
        "3123D52",
        "3123D65",
        "3123D79",
        "3123D80",
        "3123D54",
        "3123D70",
        "3123D7B",
        "3123D89",
        "3123D58",
        "3123D76",
        "3123D7D",
        "3123EFE",
        "3123D64",
        "3123D78",
        "3123D7E",
        "3124E4A"
       ],
       "num_examples_per_domain_per_label": 10000,
       "pickle_path": "/root/csc500-main/datasets/oracle.Run1_10kExamples_stratified_ds.2022A.pkl",
       "source_or_target_dataset": "source",
       "x_transforms": []
      }
     ],
     "device": "cuda",
     "experiment_name": "tl_1v2:wisig-oracle.run1",
     "lr": 0.0001,
     "n_epoch": 50,
     "n_query": 2,
     "n_shot": 3,
     "n_way": 16,
     "patience": 3,
     "seed": 420,
     "test_k_factor": 2,
     "torch_default_dtype": "torch.float32",
     "train_k_factor": 3,
     "val_k_factor": 2,
     "x_net": [
      {
       "class": "nnReshape",
       "kargs": {
        "shape": [
         -1,
         1,
         2,
         256
        ]
       }
      },
      {
       "class": "Conv2d",
       "kargs": {
        "bias": false,
        "in_channels": 1,
        "kernel_size": [
         1,
         7
        ],
        "out_channels": 256,
        "padding": [
         0,
         3
        ]
       }
      },
      {
       "class": "ReLU",
       "kargs": {
        "inplace": true
       }
      },
      {
       "class": "BatchNorm2d",
       "kargs": {
        "num_features": 256
       }
      },
      {
       "class": "Conv2d",
       "kargs": {
        "bias": true,
        "in_channels": 256,
        "kernel_size": [
         2,
         7
        ],
        "out_channels": 80,
        "padding": [
         0,
         3
        ]
       }
      },
      {
       "class": "ReLU",
       "kargs": {
        "inplace": true
       }
      },
      {
       "class": "BatchNorm2d",
       "kargs": {
        "num_features": 80
       }
      },
      {
       "class": "Flatten",
       "kargs": {}
      },
      {
       "class": "Linear",
       "kargs": {
        "in_features": 20480,
        "out_features": 256
       }
      },
      {
       "class": "ReLU",
       "kargs": {
        "inplace": true
       }
      },
      {
       "class": "BatchNorm1d",
       "kargs": {
        "num_features": 256
       }
      },
      {
       "class": "Linear",
       "kargs": {
        "in_features": 256,
        "out_features": 256
       }
      }
     ]
    }
   },
   "start_time": "2022-03-23T17:18:52.080088",
   "version": "2.3.4"
  }
 },
 "nbformat": 4,
 "nbformat_minor": 5
}