{
 "cells": [
  {
   "cell_type": "markdown",
   "id": "9fea5f46",
   "metadata": {
    "papermill": {
     "duration": 0.02648,
     "end_time": "2022-03-23T22:45:19.925975",
     "exception": false,
     "start_time": "2022-03-23T22:45:19.899495",
     "status": "completed"
    },
    "tags": []
   },
   "source": [
    "# Transfer Learning Template"
   ]
  },
  {
   "cell_type": "code",
   "execution_count": 1,
   "id": "0902182a",
   "metadata": {
    "execution": {
     "iopub.execute_input": "2022-03-23T22:45:19.987428Z",
     "iopub.status.busy": "2022-03-23T22:45:19.986563Z",
     "iopub.status.idle": "2022-03-23T22:45:22.009756Z",
     "shell.execute_reply": "2022-03-23T22:45:22.008778Z"
    },
    "papermill": {
     "duration": 2.061885,
     "end_time": "2022-03-23T22:45:22.009991",
     "exception": false,
     "start_time": "2022-03-23T22:45:19.948106",
     "status": "completed"
    },
    "tags": []
   },
   "outputs": [],
   "source": [
    "%load_ext autoreload\n",
    "%autoreload 2\n",
    "%matplotlib inline\n",
    "\n",
    "    \n",
    "import os, json, sys, time, random\n",
    "import numpy as np\n",
    "import torch\n",
    "from torch.optim import Adam\n",
    "from  easydict import EasyDict\n",
    "import matplotlib.pyplot as plt\n",
    "\n",
    "from steves_models.steves_ptn import Steves_Prototypical_Network\n",
    "\n",
    "from steves_utils.lazy_iterable_wrapper import Lazy_Iterable_Wrapper\n",
    "from steves_utils.iterable_aggregator import Iterable_Aggregator\n",
    "from steves_utils.ptn_train_eval_test_jig import  PTN_Train_Eval_Test_Jig\n",
    "from steves_utils.torch_sequential_builder import build_sequential\n",
    "from steves_utils.torch_utils import get_dataset_metrics, ptn_confusion_by_domain_over_dataloader\n",
    "from steves_utils.utils_v2 import (per_domain_accuracy_from_confusion, get_datasets_base_path)\n",
    "from steves_utils.PTN.utils import independent_accuracy_assesment\n",
    "\n",
    "from torch.utils.data import DataLoader\n",
    "\n",
    "from steves_utils.stratified_dataset.episodic_accessor import Episodic_Accessor_Factory\n",
    "\n",
    "from steves_utils.ptn_do_report import (\n",
    "    get_loss_curve,\n",
    "    get_results_table,\n",
    "    get_parameters_table,\n",
    "    get_domain_accuracies,\n",
    ")\n",
    "\n",
    "from steves_utils.transforms import get_chained_transform"
   ]
  },
  {
   "cell_type": "markdown",
   "id": "41c840b4",
   "metadata": {
    "papermill": {
     "duration": 0.022605,
     "end_time": "2022-03-23T22:45:22.059428",
     "exception": false,
     "start_time": "2022-03-23T22:45:22.036823",
     "status": "completed"
    },
    "tags": []
   },
   "source": [
    "# Allowed Parameters\n",
    "These are allowed parameters, not defaults\n",
    "Each of these values need to be present in the injected parameters (the notebook will raise an exception if they are not present)\n",
    "\n",
    "Papermill uses the cell tag \"parameters\" to inject the real parameters below this cell.\n",
    "Enable tags to see what I mean"
   ]
  },
  {
   "cell_type": "code",
   "execution_count": 2,
   "id": "fd44eb83",
   "metadata": {
    "execution": {
     "iopub.execute_input": "2022-03-23T22:45:22.102346Z",
     "iopub.status.busy": "2022-03-23T22:45:22.101949Z",
     "iopub.status.idle": "2022-03-23T22:45:22.125085Z",
     "shell.execute_reply": "2022-03-23T22:45:22.124311Z"
    },
    "papermill": {
     "duration": 0.047082,
     "end_time": "2022-03-23T22:45:22.125263",
     "exception": false,
     "start_time": "2022-03-23T22:45:22.078181",
     "status": "completed"
    },
    "tags": []
   },
   "outputs": [],
   "source": [
    "required_parameters = {\n",
    "    \"experiment_name\",\n",
    "    \"lr\",\n",
    "    \"device\",\n",
    "    \"seed\",\n",
    "    \"dataset_seed\",\n",
    "    \"n_shot\",\n",
    "    \"n_query\",\n",
    "    \"n_way\",\n",
    "    \"train_k_factor\",\n",
    "    \"val_k_factor\",\n",
    "    \"test_k_factor\",\n",
    "    \"n_epoch\",\n",
    "    \"patience\",\n",
    "    \"criteria_for_best\",\n",
    "    \"x_net\",\n",
    "    \"datasets\",\n",
    "    \"torch_default_dtype\",\n",
    "    \"NUM_LOGS_PER_EPOCH\",\n",
    "    \"BEST_MODEL_PATH\",\n",
    "    \"x_shape\",\n",
    "}"
   ]
  },
  {
   "cell_type": "code",
   "execution_count": 3,
   "id": "fa3f0049",
   "metadata": {
    "execution": {
     "iopub.execute_input": "2022-03-23T22:45:22.184706Z",
     "iopub.status.busy": "2022-03-23T22:45:22.183798Z",
     "iopub.status.idle": "2022-03-23T22:45:22.206238Z",
     "shell.execute_reply": "2022-03-23T22:45:22.205525Z"
    },
    "papermill": {
     "duration": 0.05578,
     "end_time": "2022-03-23T22:45:22.206407",
     "exception": false,
     "start_time": "2022-03-23T22:45:22.150627",
     "status": "completed"
    },
    "tags": [
     "parameters"
    ]
   },
   "outputs": [],
   "source": [
    "from steves_utils.CORES.utils import (\n",
    "    ALL_NODES,\n",
    "    ALL_NODES_MINIMUM_1000_EXAMPLES,\n",
    "    ALL_DAYS\n",
    ")\n",
    "\n",
    "from steves_utils.ORACLE.utils_v2 import (\n",
    "    ALL_DISTANCES_FEET_NARROWED,\n",
    "    ALL_RUNS,\n",
    "    ALL_SERIAL_NUMBERS,\n",
    ")\n",
    "\n",
    "standalone_parameters = {}\n",
    "standalone_parameters[\"experiment_name\"] = \"STANDALONE PTN\"\n",
    "standalone_parameters[\"lr\"] = 0.001\n",
    "standalone_parameters[\"device\"] = \"cuda\"\n",
    "\n",
    "standalone_parameters[\"seed\"] = 1337\n",
    "standalone_parameters[\"dataset_seed\"] = 1337\n",
    "\n",
    "standalone_parameters[\"n_way\"] = 8\n",
    "standalone_parameters[\"n_shot\"] = 3\n",
    "standalone_parameters[\"n_query\"]  = 2\n",
    "standalone_parameters[\"train_k_factor\"] = 1\n",
    "standalone_parameters[\"val_k_factor\"] = 2\n",
    "standalone_parameters[\"test_k_factor\"] = 2\n",
    "\n",
    "\n",
    "standalone_parameters[\"n_epoch\"] = 50\n",
    "\n",
    "standalone_parameters[\"patience\"] = 10\n",
    "standalone_parameters[\"criteria_for_best\"] = \"source_loss\"\n",
    "\n",
    "standalone_parameters[\"datasets\"] = [\n",
    "    {\n",
    "        \"labels\": ALL_SERIAL_NUMBERS,\n",
    "        \"domains\": ALL_DISTANCES_FEET_NARROWED,\n",
    "        \"num_examples_per_domain_per_label\": 100,\n",
    "        \"pickle_path\": os.path.join(get_datasets_base_path(), \"oracle.Run1_framed_2000Examples_stratified_ds.2022A.pkl\"),\n",
    "        \"source_or_target_dataset\": \"source\",\n",
    "        \"x_transforms\": [\"unit_mag\", \"minus_two\"],\n",
    "        \"episode_transforms\": [],\n",
    "        \"domain_prefix\": \"ORACLE_\"\n",
    "    },\n",
    "    {\n",
    "        \"labels\": ALL_NODES,\n",
    "        \"domains\": ALL_DAYS,\n",
    "        \"num_examples_per_domain_per_label\": 100,\n",
    "        \"pickle_path\": os.path.join(get_datasets_base_path(), \"cores.stratified_ds.2022A.pkl\"),\n",
    "        \"source_or_target_dataset\": \"target\",\n",
    "        \"x_transforms\": [\"unit_power\", \"times_zero\"],\n",
    "        \"episode_transforms\": [],\n",
    "        \"domain_prefix\": \"CORES_\"\n",
    "    }   \n",
    "]\n",
    "\n",
    "standalone_parameters[\"torch_default_dtype\"] = \"torch.float32\" \n",
    "\n",
    "\n",
    "\n",
    "standalone_parameters[\"x_net\"] =     [\n",
    "    {\"class\": \"nnReshape\", \"kargs\": {\"shape\":[-1, 1, 2, 256]}},\n",
    "    {\"class\": \"Conv2d\", \"kargs\": { \"in_channels\":1, \"out_channels\":256, \"kernel_size\":(1,7), \"bias\":False, \"padding\":(0,3), },},\n",
    "    {\"class\": \"ReLU\", \"kargs\": {\"inplace\": True}},\n",
    "    {\"class\": \"BatchNorm2d\", \"kargs\": {\"num_features\":256}},\n",
    "\n",
    "    {\"class\": \"Conv2d\", \"kargs\": { \"in_channels\":256, \"out_channels\":80, \"kernel_size\":(2,7), \"bias\":True, \"padding\":(0,3), },},\n",
    "    {\"class\": \"ReLU\", \"kargs\": {\"inplace\": True}},\n",
    "    {\"class\": \"BatchNorm2d\", \"kargs\": {\"num_features\":80}},\n",
    "    {\"class\": \"Flatten\", \"kargs\": {}},\n",
    "\n",
    "    {\"class\": \"Linear\", \"kargs\": {\"in_features\": 80*256, \"out_features\": 256}}, # 80 units per IQ pair\n",
    "    {\"class\": \"ReLU\", \"kargs\": {\"inplace\": True}},\n",
    "    {\"class\": \"BatchNorm1d\", \"kargs\": {\"num_features\":256}},\n",
    "\n",
    "    {\"class\": \"Linear\", \"kargs\": {\"in_features\": 256, \"out_features\": 256}},\n",
    "]\n",
    "\n",
    "# Parameters relevant to results\n",
    "# These parameters will basically never need to change\n",
    "standalone_parameters[\"NUM_LOGS_PER_EPOCH\"] = 10\n",
    "standalone_parameters[\"BEST_MODEL_PATH\"] = \"./best_model.pth\"\n",
    "\n",
    "\n",
    "\n",
    "\n"
   ]
  },
  {
   "cell_type": "code",
   "execution_count": 4,
   "id": "ddc63b3b",
   "metadata": {
    "execution": {
     "iopub.execute_input": "2022-03-23T22:45:22.266284Z",
     "iopub.status.busy": "2022-03-23T22:45:22.265295Z",
     "iopub.status.idle": "2022-03-23T22:45:22.287434Z",
     "shell.execute_reply": "2022-03-23T22:45:22.286727Z"
    },
    "papermill": {
     "duration": 0.057463,
     "end_time": "2022-03-23T22:45:22.287624",
     "exception": false,
     "start_time": "2022-03-23T22:45:22.230161",
     "status": "completed"
    },
    "tags": [
     "injected-parameters"
    ]
   },
   "outputs": [],
   "source": [
    "# Parameters\n",
    "parameters = {\n",
    "    \"experiment_name\": \"tl_1v2:wisig-oracle.run1\",\n",
    "    \"device\": \"cuda\",\n",
    "    \"lr\": 0.0001,\n",
    "    \"n_shot\": 3,\n",
    "    \"n_query\": 2,\n",
    "    \"train_k_factor\": 3,\n",
    "    \"val_k_factor\": 2,\n",
    "    \"test_k_factor\": 2,\n",
    "    \"torch_default_dtype\": \"torch.float32\",\n",
    "    \"n_epoch\": 50,\n",
    "    \"patience\": 3,\n",
    "    \"criteria_for_best\": \"target_accuracy\",\n",
    "    \"x_net\": [\n",
    "        {\"class\": \"nnReshape\", \"kargs\": {\"shape\": [-1, 1, 2, 256]}},\n",
    "        {\n",
    "            \"class\": \"Conv2d\",\n",
    "            \"kargs\": {\n",
    "                \"in_channels\": 1,\n",
    "                \"out_channels\": 256,\n",
    "                \"kernel_size\": [1, 7],\n",
    "                \"bias\": False,\n",
    "                \"padding\": [0, 3],\n",
    "            },\n",
    "        },\n",
    "        {\"class\": \"ReLU\", \"kargs\": {\"inplace\": True}},\n",
    "        {\"class\": \"BatchNorm2d\", \"kargs\": {\"num_features\": 256}},\n",
    "        {\n",
    "            \"class\": \"Conv2d\",\n",
    "            \"kargs\": {\n",
    "                \"in_channels\": 256,\n",
    "                \"out_channels\": 80,\n",
    "                \"kernel_size\": [2, 7],\n",
    "                \"bias\": True,\n",
    "                \"padding\": [0, 3],\n",
    "            },\n",
    "        },\n",
    "        {\"class\": \"ReLU\", \"kargs\": {\"inplace\": True}},\n",
    "        {\"class\": \"BatchNorm2d\", \"kargs\": {\"num_features\": 80}},\n",
    "        {\"class\": \"Flatten\", \"kargs\": {}},\n",
    "        {\"class\": \"Linear\", \"kargs\": {\"in_features\": 20480, \"out_features\": 256}},\n",
    "        {\"class\": \"ReLU\", \"kargs\": {\"inplace\": True}},\n",
    "        {\"class\": \"BatchNorm1d\", \"kargs\": {\"num_features\": 256}},\n",
    "        {\"class\": \"Linear\", \"kargs\": {\"in_features\": 256, \"out_features\": 256}},\n",
    "    ],\n",
    "    \"NUM_LOGS_PER_EPOCH\": 10,\n",
    "    \"BEST_MODEL_PATH\": \"./best_model.pth\",\n",
    "    \"n_way\": 16,\n",
    "    \"datasets\": [\n",
    "        {\n",
    "            \"labels\": [\n",
    "                \"1-10\",\n",
    "                \"1-12\",\n",
    "                \"1-14\",\n",
    "                \"1-16\",\n",
    "                \"1-18\",\n",
    "                \"1-19\",\n",
    "                \"1-8\",\n",
    "                \"10-11\",\n",
    "                \"10-17\",\n",
    "                \"10-4\",\n",
    "                \"10-7\",\n",
    "                \"11-1\",\n",
    "                \"11-10\",\n",
    "                \"11-19\",\n",
    "                \"11-20\",\n",
    "                \"11-4\",\n",
    "                \"11-7\",\n",
    "                \"12-19\",\n",
    "                \"12-20\",\n",
    "                \"12-7\",\n",
    "                \"13-14\",\n",
    "                \"13-18\",\n",
    "                \"13-19\",\n",
    "                \"13-20\",\n",
    "                \"13-3\",\n",
    "                \"13-7\",\n",
    "                \"14-10\",\n",
    "                \"14-11\",\n",
    "                \"14-12\",\n",
    "                \"14-13\",\n",
    "                \"14-14\",\n",
    "                \"14-19\",\n",
    "                \"14-20\",\n",
    "                \"14-7\",\n",
    "                \"14-8\",\n",
    "                \"14-9\",\n",
    "                \"15-1\",\n",
    "                \"15-19\",\n",
    "                \"15-6\",\n",
    "                \"16-1\",\n",
    "                \"16-16\",\n",
    "                \"16-19\",\n",
    "                \"16-20\",\n",
    "                \"17-10\",\n",
    "                \"17-11\",\n",
    "                \"18-1\",\n",
    "                \"18-10\",\n",
    "                \"18-11\",\n",
    "                \"18-12\",\n",
    "                \"18-13\",\n",
    "                \"18-14\",\n",
    "                \"18-15\",\n",
    "                \"18-16\",\n",
    "                \"18-17\",\n",
    "                \"18-19\",\n",
    "                \"18-2\",\n",
    "                \"18-20\",\n",
    "                \"18-4\",\n",
    "                \"18-5\",\n",
    "                \"18-7\",\n",
    "                \"18-8\",\n",
    "                \"18-9\",\n",
    "                \"19-1\",\n",
    "                \"19-10\",\n",
    "                \"19-11\",\n",
    "                \"19-12\",\n",
    "                \"19-13\",\n",
    "                \"19-14\",\n",
    "                \"19-15\",\n",
    "                \"19-19\",\n",
    "                \"19-2\",\n",
    "                \"19-20\",\n",
    "                \"19-3\",\n",
    "                \"19-4\",\n",
    "                \"19-6\",\n",
    "                \"19-7\",\n",
    "                \"19-8\",\n",
    "                \"19-9\",\n",
    "                \"2-1\",\n",
    "                \"2-13\",\n",
    "                \"2-15\",\n",
    "                \"2-3\",\n",
    "                \"2-4\",\n",
    "                \"2-5\",\n",
    "                \"2-6\",\n",
    "                \"2-7\",\n",
    "                \"2-8\",\n",
    "                \"20-1\",\n",
    "                \"20-12\",\n",
    "                \"20-14\",\n",
    "                \"20-15\",\n",
    "                \"20-16\",\n",
    "                \"20-18\",\n",
    "                \"20-19\",\n",
    "                \"20-20\",\n",
    "                \"20-3\",\n",
    "                \"20-4\",\n",
    "                \"20-5\",\n",
    "                \"20-7\",\n",
    "                \"20-8\",\n",
    "                \"3-1\",\n",
    "                \"3-13\",\n",
    "                \"3-18\",\n",
    "                \"3-2\",\n",
    "                \"3-8\",\n",
    "                \"4-1\",\n",
    "                \"4-10\",\n",
    "                \"4-11\",\n",
    "                \"5-1\",\n",
    "                \"5-5\",\n",
    "                \"6-1\",\n",
    "                \"6-15\",\n",
    "                \"6-6\",\n",
    "                \"7-10\",\n",
    "                \"7-11\",\n",
    "                \"7-12\",\n",
    "                \"7-13\",\n",
    "                \"7-14\",\n",
    "                \"7-7\",\n",
    "                \"7-8\",\n",
    "                \"7-9\",\n",
    "                \"8-1\",\n",
    "                \"8-13\",\n",
    "                \"8-14\",\n",
    "                \"8-18\",\n",
    "                \"8-20\",\n",
    "                \"8-3\",\n",
    "                \"8-8\",\n",
    "                \"9-1\",\n",
    "                \"9-7\",\n",
    "            ],\n",
    "            \"domains\": [1, 2, 3, 4],\n",
    "            \"num_examples_per_domain_per_label\": -1,\n",
    "            \"pickle_path\": \"/root/csc500-main/datasets/wisig.node3-19.stratified_ds.2022A.pkl\",\n",
    "            \"source_or_target_dataset\": \"source\",\n",
    "            \"x_transforms\": [],\n",
    "            \"episode_transforms\": [],\n",
    "            \"domain_prefix\": \"Wisig_\",\n",
    "        },\n",
    "        {\n",
    "            \"labels\": [\n",
    "                \"3123D52\",\n",
    "                \"3123D65\",\n",
    "                \"3123D79\",\n",
    "                \"3123D80\",\n",
    "                \"3123D54\",\n",
    "                \"3123D70\",\n",
    "                \"3123D7B\",\n",
    "                \"3123D89\",\n",
    "                \"3123D58\",\n",
    "                \"3123D76\",\n",
    "                \"3123D7D\",\n",
    "                \"3123EFE\",\n",
    "                \"3123D64\",\n",
    "                \"3123D78\",\n",
    "                \"3123D7E\",\n",
    "                \"3124E4A\",\n",
    "            ],\n",
    "            \"domains\": [32, 38, 8, 44, 14, 50, 20, 26],\n",
    "            \"num_examples_per_domain_per_label\": 10000,\n",
    "            \"pickle_path\": \"/root/csc500-main/datasets/oracle.Run1_10kExamples_stratified_ds.2022A.pkl\",\n",
    "            \"source_or_target_dataset\": \"target\",\n",
    "            \"x_transforms\": [],\n",
    "            \"episode_transforms\": [],\n",
    "            \"domain_prefix\": \"ORACLE.run1\",\n",
    "        },\n",
    "    ],\n",
    "    \"dataset_seed\": 154325,\n",
    "    \"seed\": 154325,\n",
    "}\n"
   ]
  },
  {
   "cell_type": "code",
   "execution_count": 5,
   "id": "8fa1cc33",
   "metadata": {
    "execution": {
     "iopub.execute_input": "2022-03-23T22:45:22.338172Z",
     "iopub.status.busy": "2022-03-23T22:45:22.337604Z",
     "iopub.status.idle": "2022-03-23T22:45:22.360349Z",
     "shell.execute_reply": "2022-03-23T22:45:22.359653Z"
    },
    "papermill": {
     "duration": 0.047058,
     "end_time": "2022-03-23T22:45:22.360503",
     "exception": false,
     "start_time": "2022-03-23T22:45:22.313445",
     "status": "completed"
    },
    "tags": []
   },
   "outputs": [],
   "source": [
    "# Set this to True if you want to run this template directly\n",
    "STANDALONE = False\n",
    "if STANDALONE:\n",
    "    print(\"parameters not injected, running with standalone_parameters\")\n",
    "    parameters = standalone_parameters\n",
    "\n",
    "if not 'parameters' in locals() and not 'parameters' in globals():\n",
    "    raise Exception(\"Parameter injection failed\")\n",
    "\n",
    "#Use an easy dict for all the parameters\n",
    "p = EasyDict(parameters)\n",
    "\n",
    "if \"x_shape\" not in p:\n",
    "    p.x_shape = [2,256] # Default to this if we dont supply x_shape\n",
    "\n",
    "\n",
    "supplied_keys = set(p.keys())\n",
    "\n",
    "if  supplied_keys != required_parameters:\n",
    "    print(\"Parameters are incorrect\")\n",
    "    if len(supplied_keys - required_parameters)>0: print(\"Shouldn't have:\", str(supplied_keys - required_parameters))\n",
    "    if len(required_parameters - supplied_keys)>0: print(\"Need to have:\", str(required_parameters - supplied_keys))\n",
    "    raise RuntimeError(\"Parameters are incorrect\")"
   ]
  },
  {
   "cell_type": "code",
   "execution_count": 6,
   "id": "3a028d58",
   "metadata": {
    "execution": {
     "iopub.execute_input": "2022-03-23T22:45:22.411112Z",
     "iopub.status.busy": "2022-03-23T22:45:22.410517Z",
     "iopub.status.idle": "2022-03-23T22:45:22.432535Z",
     "shell.execute_reply": "2022-03-23T22:45:22.431829Z"
    },
    "papermill": {
     "duration": 0.04442,
     "end_time": "2022-03-23T22:45:22.432689",
     "exception": false,
     "start_time": "2022-03-23T22:45:22.388269",
     "status": "completed"
    },
    "tags": []
   },
   "outputs": [],
   "source": [
    "###################################\n",
    "# Set the RNGs and make it all deterministic\n",
    "###################################\n",
    "np.random.seed(p.seed)\n",
    "random.seed(p.seed)\n",
    "torch.manual_seed(p.seed)\n",
    "\n",
    "torch.use_deterministic_algorithms(True) "
   ]
  },
  {
   "cell_type": "code",
   "execution_count": 7,
   "id": "b691acf6",
   "metadata": {
    "execution": {
     "iopub.execute_input": "2022-03-23T22:45:22.480075Z",
     "iopub.status.busy": "2022-03-23T22:45:22.479604Z",
     "iopub.status.idle": "2022-03-23T22:45:22.502307Z",
     "shell.execute_reply": "2022-03-23T22:45:22.501572Z"
    },
    "papermill": {
     "duration": 0.044977,
     "end_time": "2022-03-23T22:45:22.502459",
     "exception": false,
     "start_time": "2022-03-23T22:45:22.457482",
     "status": "completed"
    },
    "tags": []
   },
   "outputs": [],
   "source": [
    "###########################################\n",
    "# The stratified datasets honor this\n",
    "###########################################\n",
    "torch.set_default_dtype(eval(p.torch_default_dtype))"
   ]
  },
  {
   "cell_type": "code",
   "execution_count": 8,
   "id": "b5fba671",
   "metadata": {
    "execution": {
     "iopub.execute_input": "2022-03-23T22:45:22.549045Z",
     "iopub.status.busy": "2022-03-23T22:45:22.548682Z",
     "iopub.status.idle": "2022-03-23T22:45:22.604973Z",
     "shell.execute_reply": "2022-03-23T22:45:22.605655Z"
    },
    "papermill": {
     "duration": 0.078825,
     "end_time": "2022-03-23T22:45:22.605889",
     "exception": false,
     "start_time": "2022-03-23T22:45:22.527064",
     "status": "completed"
    },
    "tags": []
   },
   "outputs": [],
   "source": [
    "###################################\n",
    "# Build the network(s)\n",
    "# Note: It's critical to do this AFTER setting the RNG\n",
    "###################################\n",
    "x_net = build_sequential(p.x_net)"
   ]
  },
  {
   "cell_type": "code",
   "execution_count": 9,
   "id": "5d7e61cc",
   "metadata": {
    "execution": {
     "iopub.execute_input": "2022-03-23T22:45:22.656584Z",
     "iopub.status.busy": "2022-03-23T22:45:22.656221Z",
     "iopub.status.idle": "2022-03-23T22:45:22.681366Z",
     "shell.execute_reply": "2022-03-23T22:45:22.680664Z"
    },
    "papermill": {
     "duration": 0.04801,
     "end_time": "2022-03-23T22:45:22.681520",
     "exception": false,
     "start_time": "2022-03-23T22:45:22.633510",
     "status": "completed"
    },
    "tags": []
   },
   "outputs": [],
   "source": [
    "start_time_secs = time.time()"
   ]
  },
  {
   "cell_type": "code",
   "execution_count": 10,
   "id": "c6b67dfd",
   "metadata": {
    "execution": {
     "iopub.execute_input": "2022-03-23T22:45:22.729549Z",
     "iopub.status.busy": "2022-03-23T22:45:22.729184Z",
     "iopub.status.idle": "2022-03-23T22:45:22.751301Z",
     "shell.execute_reply": "2022-03-23T22:45:22.750509Z"
    },
    "papermill": {
     "duration": 0.044956,
     "end_time": "2022-03-23T22:45:22.751454",
     "exception": false,
     "start_time": "2022-03-23T22:45:22.706498",
     "status": "completed"
    },
    "tags": []
   },
   "outputs": [],
   "source": [
    "p.domains_source = []\n",
    "p.domains_target = []\n",
    "\n",
    "\n",
    "train_original_source = []\n",
    "val_original_source   = []\n",
    "test_original_source  = []\n",
    "\n",
    "train_original_target = []\n",
    "val_original_target   = []\n",
    "test_original_target  = []"
   ]
  },
  {
   "cell_type": "code",
   "execution_count": 11,
   "id": "e3d9c3d3",
   "metadata": {
    "execution": {
     "iopub.execute_input": "2022-03-23T22:45:22.799613Z",
     "iopub.status.busy": "2022-03-23T22:45:22.799196Z",
     "iopub.status.idle": "2022-03-23T22:45:22.822276Z",
     "shell.execute_reply": "2022-03-23T22:45:22.821579Z"
    },
    "papermill": {
     "duration": 0.044544,
     "end_time": "2022-03-23T22:45:22.822431",
     "exception": false,
     "start_time": "2022-03-23T22:45:22.777887",
     "status": "completed"
    },
    "tags": []
   },
   "outputs": [],
   "source": [
    "# global_x_transform_func = lambda x: normalize(x.to(torch.get_default_dtype()), \"unit_power\") # unit_power, unit_mag\n",
    "# global_x_transform_func = lambda x: normalize(x, \"unit_power\") # unit_power, unit_mag"
   ]
  },
  {
   "cell_type": "code",
   "execution_count": 12,
   "id": "acb78fd2",
   "metadata": {
    "execution": {
     "iopub.execute_input": "2022-03-23T22:45:22.877996Z",
     "iopub.status.busy": "2022-03-23T22:45:22.868817Z",
     "iopub.status.idle": "2022-03-23T22:45:22.897553Z",
     "shell.execute_reply": "2022-03-23T22:45:22.896854Z"
    },
    "papermill": {
     "duration": 0.050199,
     "end_time": "2022-03-23T22:45:22.897707",
     "exception": false,
     "start_time": "2022-03-23T22:45:22.847508",
     "status": "completed"
    },
    "tags": []
   },
   "outputs": [],
   "source": [
    "def add_dataset(\n",
    "    labels,\n",
    "    domains,\n",
    "    pickle_path,\n",
    "    x_transforms,\n",
    "    episode_transforms,\n",
    "    domain_prefix,\n",
    "    num_examples_per_domain_per_label,\n",
    "    source_or_target_dataset:str,\n",
    "    iterator_seed=p.seed,\n",
    "    dataset_seed=p.dataset_seed,\n",
    "    n_shot=p.n_shot,\n",
    "    n_way=p.n_way,\n",
    "    n_query=p.n_query,\n",
    "    train_val_test_k_factors=(p.train_k_factor,p.val_k_factor,p.test_k_factor),\n",
    "):\n",
    "   \n",
    "    if x_transforms == []: x_transform = None\n",
    "    else: x_transform = get_chained_transform(x_transforms)\n",
    "    \n",
    "    if episode_transforms == []: episode_transform = None\n",
    "    else: raise Exception(\"episode_transforms not implemented\")\n",
    "    \n",
    "    episode_transform = lambda tup, _prefix=domain_prefix: (_prefix + str(tup[0]), tup[1])\n",
    "\n",
    "\n",
    "    eaf = Episodic_Accessor_Factory(\n",
    "        labels=labels,\n",
    "        domains=domains,\n",
    "        num_examples_per_domain_per_label=num_examples_per_domain_per_label,\n",
    "        iterator_seed=iterator_seed,\n",
    "        dataset_seed=dataset_seed,\n",
    "        n_shot=n_shot,\n",
    "        n_way=n_way,\n",
    "        n_query=n_query,\n",
    "        train_val_test_k_factors=train_val_test_k_factors,\n",
    "        pickle_path=pickle_path,\n",
    "        x_transform_func=x_transform,\n",
    "    )\n",
    "\n",
    "    train, val, test = eaf.get_train(), eaf.get_val(), eaf.get_test()\n",
    "    train = Lazy_Iterable_Wrapper(train, episode_transform)\n",
    "    val = Lazy_Iterable_Wrapper(val, episode_transform)\n",
    "    test = Lazy_Iterable_Wrapper(test, episode_transform)\n",
    "\n",
    "    if source_or_target_dataset==\"source\":\n",
    "        train_original_source.append(train)\n",
    "        val_original_source.append(val)\n",
    "        test_original_source.append(test)\n",
    "\n",
    "        p.domains_source.extend(\n",
    "            [domain_prefix + str(u) for u in domains]\n",
    "        )\n",
    "    elif source_or_target_dataset==\"target\":\n",
    "        train_original_target.append(train)\n",
    "        val_original_target.append(val)\n",
    "        test_original_target.append(test)\n",
    "        p.domains_target.extend(\n",
    "            [domain_prefix + str(u) for u in domains]\n",
    "        )\n",
    "    else:\n",
    "        raise Exception(f\"invalid source_or_target_dataset: {source_or_target_dataset}\")\n",
    "    "
   ]
  },
  {
   "cell_type": "code",
   "execution_count": 13,
   "id": "fe266617",
   "metadata": {
    "execution": {
     "iopub.execute_input": "2022-03-23T22:45:22.944823Z",
     "iopub.status.busy": "2022-03-23T22:45:22.944206Z",
     "iopub.status.idle": "2022-03-23T22:45:33.197112Z",
     "shell.execute_reply": "2022-03-23T22:45:33.196542Z"
    },
    "papermill": {
     "duration": 10.274314,
     "end_time": "2022-03-23T22:45:33.197257",
     "exception": false,
     "start_time": "2022-03-23T22:45:22.922943",
     "status": "completed"
    },
    "tags": []
   },
   "outputs": [],
   "source": [
    "for ds in p.datasets:\n",
    "    add_dataset(**ds)"
   ]
  },
  {
   "cell_type": "code",
   "execution_count": 14,
   "id": "b90d65ac",
   "metadata": {
    "execution": {
     "iopub.execute_input": "2022-03-23T22:45:33.245828Z",
     "iopub.status.busy": "2022-03-23T22:45:33.244962Z",
     "iopub.status.idle": "2022-03-23T22:45:33.267830Z",
     "shell.execute_reply": "2022-03-23T22:45:33.267485Z"
    },
    "papermill": {
     "duration": 0.045358,
     "end_time": "2022-03-23T22:45:33.267910",
     "exception": false,
     "start_time": "2022-03-23T22:45:33.222552",
     "status": "completed"
    },
    "tags": []
   },
   "outputs": [],
   "source": [
    "# from steves_utils.CORES.utils import (\n",
    "#     ALL_NODES,\n",
    "#     ALL_NODES_MINIMUM_1000_EXAMPLES,\n",
    "#     ALL_DAYS\n",
    "# )\n",
    "\n",
    "# add_dataset(\n",
    "#     labels=ALL_NODES,\n",
    "#     domains = ALL_DAYS,\n",
    "#     num_examples_per_domain_per_label=100,\n",
    "#     pickle_path=os.path.join(get_datasets_base_path(), \"cores.stratified_ds.2022A.pkl\"),\n",
    "#     source_or_target_dataset=\"target\",\n",
    "#     x_transform_func=global_x_transform_func,\n",
    "#     domain_modifier=lambda u: f\"cores_{u}\"\n",
    "# )"
   ]
  },
  {
   "cell_type": "code",
   "execution_count": 15,
   "id": "76db484d",
   "metadata": {
    "execution": {
     "iopub.execute_input": "2022-03-23T22:45:33.310076Z",
     "iopub.status.busy": "2022-03-23T22:45:33.309522Z",
     "iopub.status.idle": "2022-03-23T22:45:33.328312Z",
     "shell.execute_reply": "2022-03-23T22:45:33.328632Z"
    },
    "papermill": {
     "duration": 0.041099,
     "end_time": "2022-03-23T22:45:33.328733",
     "exception": false,
     "start_time": "2022-03-23T22:45:33.287634",
     "status": "completed"
    },
    "tags": []
   },
   "outputs": [],
   "source": [
    "# from steves_utils.ORACLE.utils_v2 import (\n",
    "#     ALL_DISTANCES_FEET,\n",
    "#     ALL_RUNS,\n",
    "#     ALL_SERIAL_NUMBERS,\n",
    "# )\n",
    "\n",
    "\n",
    "# add_dataset(\n",
    "#     labels=ALL_SERIAL_NUMBERS,\n",
    "#     domains = list(set(ALL_DISTANCES_FEET) - {2,62}),\n",
    "#     num_examples_per_domain_per_label=100,\n",
    "#     pickle_path=os.path.join(get_datasets_base_path(), \"oracle.Run2_framed_2000Examples_stratified_ds.2022A.pkl\"),\n",
    "#     source_or_target_dataset=\"source\",\n",
    "#     x_transform_func=global_x_transform_func,\n",
    "#     domain_modifier=lambda u: f\"oracle1_{u}\"\n",
    "# )\n"
   ]
  },
  {
   "cell_type": "code",
   "execution_count": 16,
   "id": "97dea9d2",
   "metadata": {
    "execution": {
     "iopub.execute_input": "2022-03-23T22:45:33.371149Z",
     "iopub.status.busy": "2022-03-23T22:45:33.370591Z",
     "iopub.status.idle": "2022-03-23T22:45:33.389749Z",
     "shell.execute_reply": "2022-03-23T22:45:33.389366Z"
    },
    "papermill": {
     "duration": 0.041368,
     "end_time": "2022-03-23T22:45:33.389833",
     "exception": false,
     "start_time": "2022-03-23T22:45:33.348465",
     "status": "completed"
    },
    "tags": []
   },
   "outputs": [],
   "source": [
    "# from steves_utils.ORACLE.utils_v2 import (\n",
    "#     ALL_DISTANCES_FEET,\n",
    "#     ALL_RUNS,\n",
    "#     ALL_SERIAL_NUMBERS,\n",
    "# )\n",
    "\n",
    "\n",
    "# add_dataset(\n",
    "#     labels=ALL_SERIAL_NUMBERS,\n",
    "#     domains = list(set(ALL_DISTANCES_FEET) - {2,62,56}),\n",
    "#     num_examples_per_domain_per_label=100,\n",
    "#     pickle_path=os.path.join(get_datasets_base_path(), \"oracle.Run2_framed_2000Examples_stratified_ds.2022A.pkl\"),\n",
    "#     source_or_target_dataset=\"source\",\n",
    "#     x_transform_func=global_x_transform_func,\n",
    "#     domain_modifier=lambda u: f\"oracle2_{u}\"\n",
    "# )"
   ]
  },
  {
   "cell_type": "code",
   "execution_count": 17,
   "id": "6f289866",
   "metadata": {
    "execution": {
     "iopub.execute_input": "2022-03-23T22:45:33.432649Z",
     "iopub.status.busy": "2022-03-23T22:45:33.432098Z",
     "iopub.status.idle": "2022-03-23T22:45:33.449649Z",
     "shell.execute_reply": "2022-03-23T22:45:33.449962Z"
    },
    "papermill": {
     "duration": 0.040103,
     "end_time": "2022-03-23T22:45:33.450054",
     "exception": false,
     "start_time": "2022-03-23T22:45:33.409951",
     "status": "completed"
    },
    "tags": []
   },
   "outputs": [],
   "source": [
    "# add_dataset(\n",
    "#     labels=list(range(19)),\n",
    "#     domains = [0,1,2],\n",
    "#     num_examples_per_domain_per_label=100,\n",
    "#     pickle_path=os.path.join(get_datasets_base_path(), \"metehan.stratified_ds.2022A.pkl\"),\n",
    "#     source_or_target_dataset=\"target\",\n",
    "#     x_transform_func=global_x_transform_func,\n",
    "#     domain_modifier=lambda u: f\"met_{u}\"\n",
    "# )"
   ]
  },
  {
   "cell_type": "code",
   "execution_count": 18,
   "id": "86a863c3",
   "metadata": {
    "execution": {
     "iopub.execute_input": "2022-03-23T22:45:33.492973Z",
     "iopub.status.busy": "2022-03-23T22:45:33.492420Z",
     "iopub.status.idle": "2022-03-23T22:45:33.511878Z",
     "shell.execute_reply": "2022-03-23T22:45:33.512192Z"
    },
    "papermill": {
     "duration": 0.042294,
     "end_time": "2022-03-23T22:45:33.512300",
     "exception": false,
     "start_time": "2022-03-23T22:45:33.470006",
     "status": "completed"
    },
    "tags": []
   },
   "outputs": [],
   "source": [
    "# # from steves_utils.wisig.utils import (\n",
    "# #     ALL_NODES_MINIMUM_100_EXAMPLES,\n",
    "# #     ALL_NODES_MINIMUM_500_EXAMPLES,\n",
    "# #     ALL_NODES_MINIMUM_1000_EXAMPLES,\n",
    "# #     ALL_DAYS\n",
    "# # )\n",
    "\n",
    "# import steves_utils.wisig.utils as wisig\n",
    "\n",
    "\n",
    "# add_dataset(\n",
    "#     labels=wisig.ALL_NODES_MINIMUM_100_EXAMPLES,\n",
    "#     domains = wisig.ALL_DAYS,\n",
    "#     num_examples_per_domain_per_label=100,\n",
    "#     pickle_path=os.path.join(get_datasets_base_path(), \"wisig.node3-19.stratified_ds.2022A.pkl\"),\n",
    "#     source_or_target_dataset=\"target\",\n",
    "#     x_transform_func=global_x_transform_func,\n",
    "#     domain_modifier=lambda u: f\"wisig_{u}\"\n",
    "# )"
   ]
  },
  {
   "cell_type": "code",
   "execution_count": 19,
   "id": "fd5442bc",
   "metadata": {
    "execution": {
     "iopub.execute_input": "2022-03-23T22:45:33.557956Z",
     "iopub.status.busy": "2022-03-23T22:45:33.557404Z",
     "iopub.status.idle": "2022-03-23T22:45:33.577530Z",
     "shell.execute_reply": "2022-03-23T22:45:33.577847Z"
    },
    "papermill": {
     "duration": 0.045147,
     "end_time": "2022-03-23T22:45:33.577954",
     "exception": false,
     "start_time": "2022-03-23T22:45:33.532807",
     "status": "completed"
    },
    "tags": []
   },
   "outputs": [],
   "source": [
    "###################################\n",
    "# Build the dataset\n",
    "###################################\n",
    "train_original_source = Iterable_Aggregator(train_original_source, p.seed)\n",
    "val_original_source = Iterable_Aggregator(val_original_source, p.seed)\n",
    "test_original_source = Iterable_Aggregator(test_original_source, p.seed)\n",
    "\n",
    "\n",
    "train_original_target = Iterable_Aggregator(train_original_target, p.seed)\n",
    "val_original_target = Iterable_Aggregator(val_original_target, p.seed)\n",
    "test_original_target = Iterable_Aggregator(test_original_target, p.seed)\n",
    "\n",
    "# For CNN We only use X and Y. And we only train on the source.\n",
    "# Properly form the data using a transform lambda and Lazy_Iterable_Wrapper. Finally wrap them in a dataloader\n",
    "\n",
    "transform_lambda = lambda ex: ex[1] # Original is (<domain>, <episode>) so we strip down to episode only\n",
    "\n",
    "train_processed_source = Lazy_Iterable_Wrapper(train_original_source, transform_lambda)\n",
    "val_processed_source   = Lazy_Iterable_Wrapper(val_original_source, transform_lambda)\n",
    "test_processed_source  = Lazy_Iterable_Wrapper(test_original_source, transform_lambda)\n",
    "\n",
    "train_processed_target = Lazy_Iterable_Wrapper(train_original_target, transform_lambda)\n",
    "val_processed_target   = Lazy_Iterable_Wrapper(val_original_target, transform_lambda)\n",
    "test_processed_target  = Lazy_Iterable_Wrapper(test_original_target, transform_lambda)\n",
    "\n",
    "datasets = EasyDict({\n",
    "    \"source\": {\n",
    "        \"original\": {\"train\":train_original_source, \"val\":val_original_source, \"test\":test_original_source},\n",
    "        \"processed\": {\"train\":train_processed_source, \"val\":val_processed_source, \"test\":test_processed_source}\n",
    "    },\n",
    "    \"target\": {\n",
    "        \"original\": {\"train\":train_original_target, \"val\":val_original_target, \"test\":test_original_target},\n",
    "        \"processed\": {\"train\":train_processed_target, \"val\":val_processed_target, \"test\":test_processed_target}\n",
    "    },\n",
    "})"
   ]
  },
  {
   "cell_type": "code",
   "execution_count": 20,
   "id": "5b3c01fc",
   "metadata": {
    "execution": {
     "iopub.execute_input": "2022-03-23T22:45:33.622409Z",
     "iopub.status.busy": "2022-03-23T22:45:33.621852Z",
     "iopub.status.idle": "2022-03-23T22:46:06.475378Z",
     "shell.execute_reply": "2022-03-23T22:46:06.476717Z"
    },
    "papermill": {
     "duration": 32.878605,
     "end_time": "2022-03-23T22:46:06.477054",
     "exception": false,
     "start_time": "2022-03-23T22:45:33.598449",
     "status": "completed"
    },
    "tags": []
   },
   "outputs": [
    {
     "name": "stdout",
     "output_type": "stream",
     "text": [
      "{'Wisig_1', 'Wisig_4', 'Wisig_3', 'Wisig_2'}\n"
     ]
    },
    {
     "name": "stdout",
     "output_type": "stream",
     "text": [
      "{'ORACLE.run144', 'ORACLE.run120', 'ORACLE.run126', 'ORACLE.run132', 'ORACLE.run114', 'ORACLE.run18', 'ORACLE.run138', 'ORACLE.run150'}\n"
     ]
    },
    {
     "name": "stdout",
     "output_type": "stream",
     "text": [
      "tensor([[[-0.0074, -0.0215, -0.0575,  ..., -0.0521, -0.0450,  0.0022],\n",
      "         [-0.0007,  0.0493,  0.0449,  ...,  0.0397, -0.0170, -0.0275]],\n",
      "\n",
      "        [[ 0.0714,  0.0403, -0.0127,  ...,  0.0303,  0.0087, -0.0710],\n",
      "         [-0.0292,  0.0108, -0.0111,  ..., -0.0518,  0.0095,  0.0026]],\n",
      "\n",
      "        [[ 0.0192,  0.0521,  0.0573,  ...,  0.0262, -0.0272, -0.0085],\n",
      "         [ 0.0180,  0.0028,  0.0164,  ...,  0.0459,  0.0259,  0.0057]],\n",
      "\n",
      "        ...,\n",
      "\n",
      "        [[ 0.0159, -0.0259, -0.0235,  ...,  0.0089, -0.0094, -0.0158],\n",
      "         [ 0.0078,  0.0129, -0.0213,  ...,  0.0075, -0.0020, -0.0216]],\n",
      "\n",
      "        [[ 0.0067,  0.0143, -0.0194,  ..., -0.0049,  0.0078, -0.0149],\n",
      "         [-0.0147,  0.0107,  0.0205,  ..., -0.0034,  0.0058,  0.0083]],\n",
      "\n",
      "        [[-0.0067,  0.0143,  0.0092,  ..., -0.0043,  0.0050,  0.0032],\n",
      "         [-0.0073, -0.0131,  0.0213,  ...,  0.0054, -0.0048,  0.0120]]])\n"
     ]
    }
   ],
   "source": [
    "from steves_utils.transforms import get_average_magnitude, get_average_power\n",
    "\n",
    "print(set([u for u,_ in val_original_source]))\n",
    "print(set([u for u,_ in val_original_target]))\n",
    "\n",
    "s_x, s_y, q_x, q_y, _ = next(iter(train_processed_source))\n",
    "print(s_x)\n",
    "\n",
    "# for ds in [\n",
    "#     train_processed_source,\n",
    "#     val_processed_source,\n",
    "#     test_processed_source,\n",
    "#     train_processed_target,\n",
    "#     val_processed_target,\n",
    "#     test_processed_target\n",
    "# ]:\n",
    "#     for s_x, s_y, q_x, q_y, _ in ds:\n",
    "#         for X in (s_x, q_x):\n",
    "#             for x in X:\n",
    "#                 assert np.isclose(get_average_magnitude(x.numpy()), 1.0)\n",
    "#                 assert np.isclose(get_average_power(x.numpy()), 1.0)\n",
    "                "
   ]
  },
  {
   "cell_type": "code",
   "execution_count": 21,
   "id": "bbdacba1",
   "metadata": {
    "execution": {
     "iopub.execute_input": "2022-03-23T22:46:06.533022Z",
     "iopub.status.busy": "2022-03-23T22:46:06.532462Z",
     "iopub.status.idle": "2022-03-23T22:46:06.777780Z",
     "shell.execute_reply": "2022-03-23T22:46:06.777391Z"
    },
    "papermill": {
     "duration": 0.27484,
     "end_time": "2022-03-23T22:46:06.777872",
     "exception": false,
     "start_time": "2022-03-23T22:46:06.503032",
     "status": "completed"
    },
    "tags": []
   },
   "outputs": [
    {
     "name": "stdout",
     "output_type": "stream",
     "text": [
      "(2, 256)\n"
     ]
    }
   ],
   "source": [
    "###################################\n",
    "# Build the model\n",
    "###################################\n",
    "# easfsl only wants a tuple for the shape\n",
    "model = Steves_Prototypical_Network(x_net, device=p.device, x_shape=tuple(p.x_shape))\n",
    "optimizer = Adam(params=model.parameters(), lr=p.lr)"
   ]
  },
  {
   "cell_type": "code",
   "execution_count": 22,
   "id": "22b39ac5",
   "metadata": {
    "execution": {
     "iopub.execute_input": "2022-03-23T22:46:06.825361Z",
     "iopub.status.busy": "2022-03-23T22:46:06.824988Z",
     "iopub.status.idle": "2022-03-23T23:06:00.371235Z",
     "shell.execute_reply": "2022-03-23T23:06:00.370881Z"
    },
    "papermill": {
     "duration": 1193.571531,
     "end_time": "2022-03-23T23:06:00.371325",
     "exception": false,
     "start_time": "2022-03-23T22:46:06.799794",
     "status": "completed"
    },
    "tags": []
   },
   "outputs": [
    {
     "name": "stdout",
     "output_type": "stream",
     "text": [
      "epoch: 1, [batch: 1 / 6847], examples_per_second: 30.7924, train_label_loss: 2.1681, \n"
     ]
    },
    {
     "name": "stdout",
     "output_type": "stream",
     "text": [
      "epoch: 1, [batch: 685 / 6847], examples_per_second: 2936.0170, train_label_loss: 0.2839, \n"
     ]
    },
    {
     "name": "stdout",
     "output_type": "stream",
     "text": [
      "epoch: 1, [batch: 1370 / 6847], examples_per_second: 3340.3007, train_label_loss: 0.2547, \n"
     ]
    },
    {
     "name": "stdout",
     "output_type": "stream",
     "text": [
      "epoch: 1, [batch: 2054 / 6847], examples_per_second: 3356.5210, train_label_loss: 0.0172, \n"
     ]
    },
    {
     "name": "stdout",
     "output_type": "stream",
     "text": [
      "epoch: 1, [batch: 2739 / 6847], examples_per_second: 3324.8464, train_label_loss: 0.0684, \n"
     ]
    },
    {
     "name": "stdout",
     "output_type": "stream",
     "text": [
      "epoch: 1, [batch: 3424 / 6847], examples_per_second: 3359.7061, train_label_loss: 0.3437, \n"
     ]
    },
    {
     "name": "stdout",
     "output_type": "stream",
     "text": [
      "epoch: 1, [batch: 4108 / 6847], examples_per_second: 3368.2166, train_label_loss: 0.1669, \n"
     ]
    },
    {
     "name": "stdout",
     "output_type": "stream",
     "text": [
      "epoch: 1, [batch: 4793 / 6847], examples_per_second: 3289.7551, train_label_loss: 0.1963, \n"
     ]
    },
    {
     "name": "stdout",
     "output_type": "stream",
     "text": [
      "epoch: 1, [batch: 5477 / 6847], examples_per_second: 3489.7194, train_label_loss: 0.0488, \n"
     ]
    },
    {
     "name": "stdout",
     "output_type": "stream",
     "text": [
      "epoch: 1, [batch: 6162 / 6847], examples_per_second: 3391.2211, train_label_loss: 0.1422, \n"
     ]
    },
    {
     "name": "stdout",
     "output_type": "stream",
     "text": [
      "=============================================================\n",
      "epoch: 1, source_val_acc_label: 0.9655, target_val_acc_label: 0.2817, source_val_label_loss: 0.1514, target_val_label_loss: 2.5564, \n",
      "=============================================================\n"
     ]
    },
    {
     "name": "stdout",
     "output_type": "stream",
     "text": [
      "New best\n"
     ]
    },
    {
     "name": "stdout",
     "output_type": "stream",
     "text": [
      "epoch: 2, [batch: 1 / 6848], examples_per_second: 1.4533, train_label_loss: 0.1486, \n"
     ]
    },
    {
     "name": "stdout",
     "output_type": "stream",
     "text": [
      "epoch: 2, [batch: 685 / 6848], examples_per_second: 3384.9045, train_label_loss: 0.0175, \n"
     ]
    },
    {
     "name": "stdout",
     "output_type": "stream",
     "text": [
      "epoch: 2, [batch: 1370 / 6848], examples_per_second: 3392.9970, train_label_loss: 0.0477, \n"
     ]
    },
    {
     "name": "stdout",
     "output_type": "stream",
     "text": [
      "epoch: 2, [batch: 2055 / 6848], examples_per_second: 3361.8055, train_label_loss: 0.0130, \n"
     ]
    },
    {
     "name": "stdout",
     "output_type": "stream",
     "text": [
      "epoch: 2, [batch: 2739 / 6848], examples_per_second: 3482.2302, train_label_loss: 0.2262, \n"
     ]
    },
    {
     "name": "stdout",
     "output_type": "stream",
     "text": [
      "epoch: 2, [batch: 3424 / 6848], examples_per_second: 3412.9253, train_label_loss: 0.1946, \n"
     ]
    },
    {
     "name": "stdout",
     "output_type": "stream",
     "text": [
      "epoch: 2, [batch: 4109 / 6848], examples_per_second: 3429.4713, train_label_loss: 0.0711, \n"
     ]
    },
    {
     "name": "stdout",
     "output_type": "stream",
     "text": [
      "epoch: 2, [batch: 4793 / 6848], examples_per_second: 3361.6813, train_label_loss: 0.4345, \n"
     ]
    },
    {
     "name": "stdout",
     "output_type": "stream",
     "text": [
      "epoch: 2, [batch: 5478 / 6848], examples_per_second: 3335.9216, train_label_loss: 0.0043, \n"
     ]
    },
    {
     "name": "stdout",
     "output_type": "stream",
     "text": [
      "epoch: 2, [batch: 6163 / 6848], examples_per_second: 3354.4874, train_label_loss: 0.0331, \n"
     ]
    },
    {
     "name": "stdout",
     "output_type": "stream",
     "text": [
      "=============================================================\n",
      "epoch: 2, source_val_acc_label: 0.9717, target_val_acc_label: 0.2699, source_val_label_loss: 0.1220, target_val_label_loss: 2.5999, \n",
      "=============================================================\n"
     ]
    },
    {
     "name": "stdout",
     "output_type": "stream",
     "text": [
      "epoch: 3, [batch: 1 / 6841], examples_per_second: 1.5454, train_label_loss: 0.0914, \n"
     ]
    },
    {
     "name": "stdout",
     "output_type": "stream",
     "text": [
      "epoch: 3, [batch: 685 / 6841], examples_per_second: 4371.9060, train_label_loss: 0.0095, \n"
     ]
    },
    {
     "name": "stdout",
     "output_type": "stream",
     "text": [
      "epoch: 3, [batch: 1369 / 6841], examples_per_second: 4441.8484, train_label_loss: 0.3430, \n"
     ]
    },
    {
     "name": "stdout",
     "output_type": "stream",
     "text": [
      "epoch: 3, [batch: 2053 / 6841], examples_per_second: 4639.8000, train_label_loss: 0.1093, \n"
     ]
    },
    {
     "name": "stdout",
     "output_type": "stream",
     "text": [
      "epoch: 3, [batch: 2737 / 6841], examples_per_second: 5142.2503, train_label_loss: 0.0044, \n"
     ]
    },
    {
     "name": "stdout",
     "output_type": "stream",
     "text": [
      "epoch: 3, [batch: 3421 / 6841], examples_per_second: 5142.0352, train_label_loss: 0.4475, \n"
     ]
    },
    {
     "name": "stdout",
     "output_type": "stream",
     "text": [
      "epoch: 3, [batch: 4105 / 6841], examples_per_second: 4452.6149, train_label_loss: 0.0114, \n"
     ]
    },
    {
     "name": "stdout",
     "output_type": "stream",
     "text": [
      "epoch: 3, [batch: 4789 / 6841], examples_per_second: 4018.2160, train_label_loss: 0.1829, \n"
     ]
    },
    {
     "name": "stdout",
     "output_type": "stream",
     "text": [
      "epoch: 3, [batch: 5473 / 6841], examples_per_second: 3904.1446, train_label_loss: 0.5894, \n"
     ]
    },
    {
     "name": "stdout",
     "output_type": "stream",
     "text": [
      "epoch: 3, [batch: 6157 / 6841], examples_per_second: 3933.7975, train_label_loss: 0.0784, \n"
     ]
    },
    {
     "name": "stdout",
     "output_type": "stream",
     "text": [
      "=============================================================\n",
      "epoch: 3, source_val_acc_label: 0.9743, target_val_acc_label: 0.2811, source_val_label_loss: 0.1083, target_val_label_loss: 2.4971, \n",
      "=============================================================\n"
     ]
    },
    {
     "name": "stdout",
     "output_type": "stream",
     "text": [
      "epoch: 4, [batch: 1 / 6852], examples_per_second: 1.8918, train_label_loss: 0.3154, \n"
     ]
    },
    {
     "name": "stdout",
     "output_type": "stream",
     "text": [
      "epoch: 4, [batch: 686 / 6852], examples_per_second: 3977.2422, train_label_loss: 0.2252, \n"
     ]
    },
    {
     "name": "stdout",
     "output_type": "stream",
     "text": [
      "epoch: 4, [batch: 1371 / 6852], examples_per_second: 3922.5182, train_label_loss: 0.1904, \n"
     ]
    },
    {
     "name": "stdout",
     "output_type": "stream",
     "text": [
      "epoch: 4, [batch: 2056 / 6852], examples_per_second: 3994.2378, train_label_loss: 0.0051, \n"
     ]
    },
    {
     "name": "stdout",
     "output_type": "stream",
     "text": [
      "epoch: 4, [batch: 2741 / 6852], examples_per_second: 3804.0786, train_label_loss: 0.0680, \n"
     ]
    },
    {
     "name": "stdout",
     "output_type": "stream",
     "text": [
      "epoch: 4, [batch: 3426 / 6852], examples_per_second: 3896.0761, train_label_loss: 0.0015, \n"
     ]
    },
    {
     "name": "stdout",
     "output_type": "stream",
     "text": [
      "epoch: 4, [batch: 4111 / 6852], examples_per_second: 4001.4692, train_label_loss: 0.0362, \n"
     ]
    },
    {
     "name": "stdout",
     "output_type": "stream",
     "text": [
      "epoch: 4, [batch: 4796 / 6852], examples_per_second: 3940.3685, train_label_loss: 0.0322, \n"
     ]
    },
    {
     "name": "stdout",
     "output_type": "stream",
     "text": [
      "epoch: 4, [batch: 5481 / 6852], examples_per_second: 3918.1429, train_label_loss: 0.0140, \n"
     ]
    },
    {
     "name": "stdout",
     "output_type": "stream",
     "text": [
      "epoch: 4, [batch: 6166 / 6852], examples_per_second: 4007.8357, train_label_loss: 0.1563, \n"
     ]
    },
    {
     "name": "stdout",
     "output_type": "stream",
     "text": [
      "=============================================================\n",
      "epoch: 4, source_val_acc_label: 0.9746, target_val_acc_label: 0.2544, source_val_label_loss: 0.1105, target_val_label_loss: 2.5528, \n",
      "=============================================================\n"
     ]
    },
    {
     "name": "stdout",
     "output_type": "stream",
     "text": [
      "epoch: 5, [batch: 1 / 6838], examples_per_second: 1.8860, train_label_loss: 0.3571, \n"
     ]
    },
    {
     "name": "stdout",
     "output_type": "stream",
     "text": [
      "epoch: 5, [batch: 684 / 6838], examples_per_second: 3974.1437, train_label_loss: 0.0928, \n"
     ]
    },
    {
     "name": "stdout",
     "output_type": "stream",
     "text": [
      "epoch: 5, [batch: 1368 / 6838], examples_per_second: 3956.2093, train_label_loss: 0.1846, \n"
     ]
    },
    {
     "name": "stdout",
     "output_type": "stream",
     "text": [
      "epoch: 5, [batch: 2052 / 6838], examples_per_second: 3960.2515, train_label_loss: 0.0563, \n"
     ]
    },
    {
     "name": "stdout",
     "output_type": "stream",
     "text": [
      "epoch: 5, [batch: 2735 / 6838], examples_per_second: 3004.9524, train_label_loss: 0.0156, \n"
     ]
    },
    {
     "name": "stdout",
     "output_type": "stream",
     "text": [
      "epoch: 5, [batch: 3419 / 6838], examples_per_second: 2981.7395, train_label_loss: 0.4744, \n"
     ]
    },
    {
     "name": "stdout",
     "output_type": "stream",
     "text": [
      "epoch: 5, [batch: 4103 / 6838], examples_per_second: 3049.6314, train_label_loss: 0.0046, \n"
     ]
    },
    {
     "name": "stdout",
     "output_type": "stream",
     "text": [
      "epoch: 5, [batch: 4786 / 6838], examples_per_second: 2977.2473, train_label_loss: 0.0026, \n"
     ]
    },
    {
     "name": "stdout",
     "output_type": "stream",
     "text": [
      "epoch: 5, [batch: 5470 / 6838], examples_per_second: 2961.0055, train_label_loss: 0.0064, \n"
     ]
    },
    {
     "name": "stdout",
     "output_type": "stream",
     "text": [
      "epoch: 5, [batch: 6154 / 6838], examples_per_second: 2974.1200, train_label_loss: 0.1964, \n"
     ]
    },
    {
     "name": "stdout",
     "output_type": "stream",
     "text": [
      "=============================================================\n",
      "epoch: 5, source_val_acc_label: 0.9755, target_val_acc_label: 0.2622, source_val_label_loss: 0.1033, target_val_label_loss: 2.4862, \n",
      "=============================================================\n"
     ]
    },
    {
     "name": "stdout",
     "output_type": "stream",
     "text": [
      "Patience (3) exhausted\n"
     ]
    }
   ],
   "source": [
    "###################################\n",
    "# train\n",
    "###################################\n",
    "jig = PTN_Train_Eval_Test_Jig(model, p.BEST_MODEL_PATH, p.device)\n",
    "\n",
    "jig.train(\n",
    "    train_iterable=datasets.source.processed.train,\n",
    "    source_val_iterable=datasets.source.processed.val,\n",
    "    target_val_iterable=datasets.target.processed.val,\n",
    "    num_epochs=p.n_epoch,\n",
    "    num_logs_per_epoch=p.NUM_LOGS_PER_EPOCH,\n",
    "    patience=p.patience,\n",
    "    optimizer=optimizer,\n",
    "    criteria_for_best=p.criteria_for_best,\n",
    ")"
   ]
  },
  {
   "cell_type": "code",
   "execution_count": 23,
   "id": "31e8fabf",
   "metadata": {
    "execution": {
     "iopub.execute_input": "2022-03-23T23:06:00.450612Z",
     "iopub.status.busy": "2022-03-23T23:06:00.450235Z",
     "iopub.status.idle": "2022-03-23T23:06:00.482629Z",
     "shell.execute_reply": "2022-03-23T23:06:00.481913Z"
    },
    "papermill": {
     "duration": 0.074152,
     "end_time": "2022-03-23T23:06:00.482786",
     "exception": false,
     "start_time": "2022-03-23T23:06:00.408634",
     "status": "completed"
    },
    "tags": []
   },
   "outputs": [],
   "source": [
    "total_experiment_time_secs = time.time() - start_time_secs"
   ]
  },
  {
   "cell_type": "code",
   "execution_count": 24,
   "id": "87b9595b",
   "metadata": {
    "execution": {
     "iopub.execute_input": "2022-03-23T23:06:00.572405Z",
     "iopub.status.busy": "2022-03-23T23:06:00.571804Z",
     "iopub.status.idle": "2022-03-23T23:16:34.517564Z",
     "shell.execute_reply": "2022-03-23T23:16:34.518245Z"
    },
    "papermill": {
     "duration": 633.990171,
     "end_time": "2022-03-23T23:16:34.518477",
     "exception": false,
     "start_time": "2022-03-23T23:06:00.528306",
     "status": "completed"
    },
    "tags": []
   },
   "outputs": [],
   "source": [
    "###################################\n",
    "# Evaluate the model\n",
    "###################################\n",
    "source_test_label_accuracy, source_test_label_loss = jig.test(datasets.source.processed.test)\n",
    "target_test_label_accuracy, target_test_label_loss = jig.test(datasets.target.processed.test)\n",
    "\n",
    "source_val_label_accuracy, source_val_label_loss = jig.test(datasets.source.processed.val)\n",
    "target_val_label_accuracy, target_val_label_loss = jig.test(datasets.target.processed.val)\n",
    "\n",
    "history = jig.get_history()\n",
    "\n",
    "total_epochs_trained = len(history[\"epoch_indices\"])\n",
    "\n",
    "val_dl = Iterable_Aggregator((datasets.source.original.val,datasets.target.original.val))\n",
    "\n",
    "confusion = ptn_confusion_by_domain_over_dataloader(model, p.device, val_dl)\n",
    "per_domain_accuracy = per_domain_accuracy_from_confusion(confusion)\n",
    "\n",
    "# Add a key to per_domain_accuracy for if it was a source domain\n",
    "for domain, accuracy in per_domain_accuracy.items():\n",
    "    per_domain_accuracy[domain] = {\n",
    "        \"accuracy\": accuracy,\n",
    "        \"source?\": domain in p.domains_source\n",
    "    }\n",
    "\n",
    "# Do an independent accuracy assesment JUST TO BE SURE!\n",
    "# _source_test_label_accuracy = independent_accuracy_assesment(model, datasets.source.processed.test, p.device)\n",
    "# _target_test_label_accuracy = independent_accuracy_assesment(model, datasets.target.processed.test, p.device)\n",
    "# _source_val_label_accuracy = independent_accuracy_assesment(model, datasets.source.processed.val, p.device)\n",
    "# _target_val_label_accuracy = independent_accuracy_assesment(model, datasets.target.processed.val, p.device)\n",
    "\n",
    "# assert(_source_test_label_accuracy == source_test_label_accuracy)\n",
    "# assert(_target_test_label_accuracy == target_test_label_accuracy)\n",
    "# assert(_source_val_label_accuracy == source_val_label_accuracy)\n",
    "# assert(_target_val_label_accuracy == target_val_label_accuracy)\n",
    "\n",
    "experiment = {\n",
    "    \"experiment_name\": p.experiment_name,\n",
    "    \"parameters\": dict(p),\n",
    "    \"results\": {\n",
    "        \"source_test_label_accuracy\": source_test_label_accuracy,\n",
    "        \"source_test_label_loss\": source_test_label_loss,\n",
    "        \"target_test_label_accuracy\": target_test_label_accuracy,\n",
    "        \"target_test_label_loss\": target_test_label_loss,\n",
    "        \"source_val_label_accuracy\": source_val_label_accuracy,\n",
    "        \"source_val_label_loss\": source_val_label_loss,\n",
    "        \"target_val_label_accuracy\": target_val_label_accuracy,\n",
    "        \"target_val_label_loss\": target_val_label_loss,\n",
    "        \"total_epochs_trained\": total_epochs_trained,\n",
    "        \"total_experiment_time_secs\": total_experiment_time_secs,\n",
    "        \"confusion\": confusion,\n",
    "        \"per_domain_accuracy\": per_domain_accuracy,\n",
    "    },\n",
    "    \"history\": history,\n",
    "    \"dataset_metrics\": get_dataset_metrics(datasets, \"ptn\"),\n",
    "}"
   ]
  },
  {
   "cell_type": "code",
   "execution_count": 25,
   "id": "54a21829",
   "metadata": {
    "execution": {
     "iopub.execute_input": "2022-03-23T23:16:34.603239Z",
     "iopub.status.busy": "2022-03-23T23:16:34.602857Z",
     "iopub.status.idle": "2022-03-23T23:16:34.812811Z",
     "shell.execute_reply": "2022-03-23T23:16:34.813519Z"
    },
    "papermill": {
     "duration": 0.251495,
     "end_time": "2022-03-23T23:16:34.813740",
     "exception": false,
     "start_time": "2022-03-23T23:16:34.562245",
     "status": "completed"
    },
    "tags": []
   },
   "outputs": [
    {
     "data": {
      "image/png": "[encoded data removed]",
      "text/plain": [
       "<Figure size 1080x504 with 1 Axes>"
      ]
     },
     "metadata": {
      "needs_background": "light"
     },
     "output_type": "display_data"
    }
   ],
   "source": [
    "ax = get_loss_curve(experiment)\n",
    "plt.show()"
   ]
  },
  {
   "cell_type": "code",
   "execution_count": 26,
   "id": "fd8a0f60",
   "metadata": {
    "execution": {
     "iopub.execute_input": "2022-03-23T23:16:34.902520Z",
     "iopub.status.busy": "2022-03-23T23:16:34.902124Z",
     "iopub.status.idle": "2022-03-23T23:16:35.273435Z",
     "shell.execute_reply": "2022-03-23T23:16:35.274310Z"
    },
    "papermill": {
     "duration": 0.416073,
     "end_time": "2022-03-23T23:16:35.274616",
     "exception": false,
     "start_time": "2022-03-23T23:16:34.858543",
     "status": "completed"
    },
    "tags": []
   },
   "outputs": [
    {
     "data": {
      "text/plain": [
       "<AxesSubplot:title={'center':'Results'}>"
      ]
     },
     "execution_count": 26,
     "metadata": {},
     "output_type": "execute_result"
    },
    {
     "data": {
      "image/png": "[encoded data removed]",
      "text/plain": [
       "<Figure size 1080x504 with 1 Axes>"
      ]
     },
     "metadata": {
      "needs_background": "light"
     },
     "output_type": "display_data"
    }
   ],
   "source": [
    "get_results_table(experiment)"
   ]
  },
  {
   "cell_type": "code",
   "execution_count": 27,
   "id": "cf8dc689",
   "metadata": {
    "execution": {
     "iopub.execute_input": "2022-03-23T23:16:35.372423Z",
     "iopub.status.busy": "2022-03-23T23:16:35.372030Z",
     "iopub.status.idle": "2022-03-23T23:16:35.622725Z",
     "shell.execute_reply": "2022-03-23T23:16:35.621621Z"
    },
    "papermill": {
     "duration": 0.297007,
     "end_time": "2022-03-23T23:16:35.622995",
     "exception": false,
     "start_time": "2022-03-23T23:16:35.325988",
     "status": "completed"
    },
    "tags": []
   },
   "outputs": [
    {
     "data": {
      "text/plain": [
       "<AxesSubplot:title={'center':'Per Domain Validation Accuracy'}, xlabel='domain'>"
      ]
     },
     "execution_count": 27,
     "metadata": {},
     "output_type": "execute_result"
    },
    {
     "data": {
      "image/png": "[encoded data removed]",
      "text/plain": [
       "<Figure size 1080x504 with 1 Axes>"
      ]
     },
     "metadata": {
      "needs_background": "light"
     },
     "output_type": "display_data"
    }
   ],
   "source": [
    "get_domain_accuracies(experiment)"
   ]
  },
  {
   "cell_type": "code",
   "execution_count": 28,
   "id": "a74ae082",
   "metadata": {
    "execution": {
     "iopub.execute_input": "2022-03-23T23:16:35.724310Z",
     "iopub.status.busy": "2022-03-23T23:16:35.723900Z",
     "iopub.status.idle": "2022-03-23T23:16:35.750514Z",
     "shell.execute_reply": "2022-03-23T23:16:35.749674Z"
    },
    "papermill": {
     "duration": 0.075491,
     "end_time": "2022-03-23T23:16:35.750690",
     "exception": false,
     "start_time": "2022-03-23T23:16:35.675199",
     "status": "completed"
    },
    "tags": []
   },
   "outputs": [
    {
     "name": "stdout",
     "output_type": "stream",
     "text": [
      "Source Test Label Accuracy: 0.962890625 Target Test Label Accuracy: 0.28051432291666667\n",
      "Source Val Label Accuracy: 0.9654692470837752 Target Val Label Accuracy: 0.28169921875\n"
     ]
    }
   ],
   "source": [
    "print(\"Source Test Label Accuracy:\", experiment[\"results\"][\"source_test_label_accuracy\"], \"Target Test Label Accuracy:\", experiment[\"results\"][\"target_test_label_accuracy\"])\n",
    "print(\"Source Val Label Accuracy:\", experiment[\"results\"][\"source_val_label_accuracy\"], \"Target Val Label Accuracy:\", experiment[\"results\"][\"target_val_label_accuracy\"])"
   ]
  },
  {
   "cell_type": "code",
   "execution_count": 29,
   "id": "dacca602",
   "metadata": {
    "execution": {
     "iopub.execute_input": "2022-03-23T23:16:35.847090Z",
     "iopub.status.busy": "2022-03-23T23:16:35.846525Z",
     "iopub.status.idle": "2022-03-23T23:16:35.868720Z",
     "shell.execute_reply": "2022-03-23T23:16:35.869533Z"
    },
    "papermill": {
     "duration": 0.069577,
     "end_time": "2022-03-23T23:16:35.869788",
     "exception": false,
     "start_time": "2022-03-23T23:16:35.800211",
     "status": "completed"
    },
    "tags": [
     "experiment_json"
    ]
   },
   "outputs": [
    {
     "data": {
      "text/plain": [
       "'{\"experiment_name\": \"tl_1v2:wisig-oracle.run1\", \"parameters\": {\"experiment_name\": \"tl_1v2:wisig-oracle.run1\", \"device\": \"cuda\", \"lr\": 0.0001, \"n_shot\": 3, \"n_query\": 2, \"train_k_factor\": 3, \"val_k_factor\": 2, \"test_k_factor\": 2, \"torch_default_dtype\": \"torch.float32\", \"n_epoch\": 50, \"patience\": 3, \"criteria_for_best\": \"target_accuracy\", \"x_net\": [{\"class\": \"nnReshape\", \"kargs\": {\"shape\": [-1, 1, 2, 256]}}, {\"class\": \"Conv2d\", \"kargs\": {\"in_channels\": 1, \"out_channels\": 256, \"kernel_size\": [1, 7], \"bias\": false, \"padding\": [0, 3]}}, {\"class\": \"ReLU\", \"kargs\": {\"inplace\": true}}, {\"class\": \"BatchNorm2d\", \"kargs\": {\"num_features\": 256}}, {\"class\": \"Conv2d\", \"kargs\": {\"in_channels\": 256, \"out_channels\": 80, \"kernel_size\": [2, 7], \"bias\": true, \"padding\": [0, 3]}}, {\"class\": \"ReLU\", \"kargs\": {\"inplace\": true}}, {\"class\": \"BatchNorm2d\", \"kargs\": {\"num_features\": 80}}, {\"class\": \"Flatten\", \"kargs\": {}}, {\"class\": \"Linear\", \"kargs\": {\"in_features\": 20480, \"out_features\": 256}}, {\"class\": \"ReLU\", \"kargs\": {\"inplace\": true}}, {\"class\": \"BatchNorm1d\", \"kargs\": {\"num_features\": 256}}, {\"class\": \"Linear\", \"kargs\": {\"in_features\": 256, \"out_features\": 256}}], \"NUM_LOGS_PER_EPOCH\": 10, \"BEST_MODEL_PATH\": \"./best_model.pth\", \"n_way\": 16, \"datasets\": [{\"labels\": [\"1-10\", \"1-12\", \"1-14\", \"1-16\", \"1-18\", \"1-19\", \"1-8\", \"10-11\", \"10-17\", \"10-4\", \"10-7\", \"11-1\", \"11-10\", \"11-19\", \"11-20\", \"11-4\", \"11-7\", \"12-19\", \"12-20\", \"12-7\", \"13-14\", \"13-18\", \"13-19\", \"13-20\", \"13-3\", \"13-7\", \"14-10\", \"14-11\", \"14-12\", \"14-13\", \"14-14\", \"14-19\", \"14-20\", \"14-7\", \"14-8\", \"14-9\", \"15-1\", \"15-19\", \"15-6\", \"16-1\", \"16-16\", \"16-19\", \"16-20\", \"17-10\", \"17-11\", \"18-1\", \"18-10\", \"18-11\", \"18-12\", \"18-13\", \"18-14\", \"18-15\", \"18-16\", \"18-17\", \"18-19\", \"18-2\", \"18-20\", \"18-4\", \"18-5\", \"18-7\", \"18-8\", \"18-9\", \"19-1\", \"19-10\", \"19-11\", \"19-12\", \"19-13\", \"19-14\", \"19-15\", \"19-19\", \"19-2\", \"19-20\", \"19-3\", \"19-4\", \"19-6\", \"19-7\", \"19-8\", \"19-9\", \"2-1\", \"2-13\", \"2-15\", \"2-3\", \"2-4\", \"2-5\", \"2-6\", \"2-7\", \"2-8\", \"20-1\", \"20-12\", \"20-14\", \"20-15\", \"20-16\", \"20-18\", \"20-19\", \"20-20\", \"20-3\", \"20-4\", \"20-5\", \"20-7\", \"20-8\", \"3-1\", \"3-13\", \"3-18\", \"3-2\", \"3-8\", \"4-1\", \"4-10\", \"4-11\", \"5-1\", \"5-5\", \"6-1\", \"6-15\", \"6-6\", \"7-10\", \"7-11\", \"7-12\", \"7-13\", \"7-14\", \"7-7\", \"7-8\", \"7-9\", \"8-1\", \"8-13\", \"8-14\", \"8-18\", \"8-20\", \"8-3\", \"8-8\", \"9-1\", \"9-7\"], \"domains\": [1, 2, 3, 4], \"num_examples_per_domain_per_label\": -1, \"pickle_path\": \"/root/csc500-main/datasets/wisig.node3-19.stratified_ds.2022A.pkl\", \"source_or_target_dataset\": \"source\", \"x_transforms\": [], \"episode_transforms\": [], \"domain_prefix\": \"Wisig_\"}, {\"labels\": [\"3123D52\", \"3123D65\", \"3123D79\", \"3123D80\", \"3123D54\", \"3123D70\", \"3123D7B\", \"3123D89\", \"3123D58\", \"3123D76\", \"3123D7D\", \"3123EFE\", \"3123D64\", \"3123D78\", \"3123D7E\", \"3124E4A\"], \"domains\": [32, 38, 8, 44, 14, 50, 20, 26], \"num_examples_per_domain_per_label\": 10000, \"pickle_path\": \"/root/csc500-main/datasets/oracle.Run1_10kExamples_stratified_ds.2022A.pkl\", \"source_or_target_dataset\": \"target\", \"x_transforms\": [], \"episode_transforms\": [], \"domain_prefix\": \"ORACLE.run1\"}], \"dataset_seed\": 154325, \"seed\": 154325, \"x_shape\": [2, 256], \"domains_source\": [\"Wisig_1\", \"Wisig_2\", \"Wisig_3\", \"Wisig_4\"], \"domains_target\": [\"ORACLE.run132\", \"ORACLE.run138\", \"ORACLE.run18\", \"ORACLE.run144\", \"ORACLE.run114\", \"ORACLE.run150\", \"ORACLE.run120\", \"ORACLE.run126\"]}, \"results\": {\"source_test_label_accuracy\": 0.962890625, \"source_test_label_loss\": 0.16436585783958435, \"target_test_label_accuracy\": 0.28051432291666667, \"target_test_label_loss\": 2.556436061859131, \"source_val_label_accuracy\": 0.9654692470837752, \"source_val_label_loss\": 0.15135584771633148, \"target_val_label_accuracy\": 0.28169921875, \"target_val_label_loss\": 2.5563533306121826, \"total_epochs_trained\": 5, \"total_experiment_time_secs\": 1237.8005526065826, \"confusion\": {\"Wisig_2\": {\"56\": {\"56\": 12}, \"12\": {\"12\": 84, \"88\": 1, \"23\": 1, \"94\": 1, \"70\": 1}, \"15\": {\"15\": 114, \"26\": 1, \"0\": 1}, \"26\": {\"26\": 128, \"24\": 2, \"21\": 1, \"84\": 1}, \"82\": {\"82\": 36}, \"9\": {\"9\": 32}, \"49\": {\"47\": 2, \"49\": 18, \"0\": 1, \"98\": 3}, \"55\": {\"55\": 16}, \"102\": {\"102\": 124}, \"85\": {\"85\": 32}, \"73\": {\"73\": 28}, \"47\": {\"47\": 9, \"15\": 1, \"84\": 1, \"17\": 1}, \"20\": {\"20\": 14, \"100\": 1, \"24\": 1}, \"117\": {\"117\": 112, \"87\": 1, \"21\": 2, \"70\": 1}, \"122\": {\"122\": 132, \"21\": 1, \"7\": 1, \"71\": 1, \"0\": 2, \"70\": 1, \"27\": 2}, \"113\": {\"113\": 70, \"124\": 1, \"106\": 1}, \"87\": {\"87\": 102, \"69\": 2, \"88\": 1, \"21\": 1, \"43\": 3, \"24\": 2, \"26\": 1}, \"21\": {\"21\": 48}, \"106\": {\"106\": 115, \"12\": 1, \"70\": 1, \"27\": 1, \"21\": 1, \"0\": 1}, \"3\": {\"3\": 132, \"88\": 1, \"7\": 1, \"26\": 1, \"106\": 1}, \"126\": {\"126\": 120}, \"41\": {\"41\": 20}, \"76\": {\"76\": 16}, \"60\": {\"60\": 27, \"23\": 1}, \"94\": {\"94\": 57, \"88\": 1, \"24\": 1, \"36\": 2, \"6\": 1, \"122\": 1, \"106\": 1}, \"50\": {\"50\": 16}, \"97\": {\"97\": 20}, \"115\": {\"115\": 12}, \"38\": {\"38\": 16}, \"43\": {\"43\": 117, \"0\": 1, \"94\": 1, \"106\": 2, \"5\": 1, \"78\": 1, \"24\": 1}, \"67\": {\"67\": 16}, \"18\": {\"18\": 121, \"21\": 1, \"0\": 2, \"97\": 1, \"27\": 1, \"94\": 1, \"88\": 1}, \"23\": {\"23\": 34, \"93\": 2, \"43\": 2, \"60\": 1, \"122\": 2, \"20\": 1, \"0\": 2}, \"63\": {\"63\": 20}, \"127\": {\"127\": 121, \"7\": 1, \"26\": 1, \"43\": 1}, \"72\": {\"72\": 26, \"77\": 1, \"31\": 1}, \"128\": {\"127\": 1, \"128\": 15, \"101\": 1, \"49\": 3, \"54\": 2, \"3\": 1, \"47\": 1}, \"7\": {\"7\": 124, \"88\": 1, \"26\": 1, \"18\": 1, \"33\": 1}, \"108\": {\"108\": 133, \"126\": 1}, \"16\": {\"16\": 102, \"88\": 1, \"93\": 2, \"24\": 1, \"69\": 1, \"115\": 1, \"84\": 1, \"59\": 1, \"77\": 1, \"21\": 2, \"70\": 1}, \"29\": {\"29\": 32}, \"61\": {\"61\": 19, \"6\": 1}, \"104\": {\"104\": 18, \"86\": 2}, \"120\": {\"120\": 20}, \"124\": {\"124\": 123, \"82\": 1}, \"34\": {\"29\": 1, \"34\": 24, \"45\": 2, \"41\": 2, \"66\": 2, \"91\": 1}, \"84\": {\"84\": 86, \"21\": 1, \"30\": 1, \"33\": 1, \"109\": 1, \"126\": 1, \"98\": 1}, \"103\": {\"103\": 15, \"104\": 1}, \"100\": {\"100\": 16}, \"40\": {\"40\": 130, \"24\": 2, \"33\": 1, \"88\": 2, \"106\": 2, \"69\": 1, \"21\": 1, \"36\": 1}, \"35\": {\"35\": 12}, \"96\": {\"96\": 20}, \"101\": {\"101\": 119, \"70\": 1}, \"71\": {\"71\": 95, \"107\": 1, \"0\": 2, \"78\": 1, \"105\": 1}, \"81\": {\"81\": 22, \"110\": 1, \"16\": 1}, \"74\": {\"74\": 14, \"36\": 1, \"122\": 1}, \"119\": {\"119\": 19, \"2\": 1}, \"5\": {\"5\": 108, \"106\": 2, \"18\": 1, \"107\": 1}, \"68\": {\"68\": 16}, \"37\": {\"13\": 1, \"37\": 15}, \"58\": {\"58\": 20}, \"109\": {\"13\": 1, \"109\": 91, \"78\": 1, \"39\": 2, \"16\": 1, \"0\": 1, \"105\": 1, \"88\": 2}, \"107\": {\"107\": 57, \"21\": 2, \"36\": 1, \"3\": 1, \"43\": 1, \"29\": 2}, \"13\": {\"13\": 13, \"94\": 1, \"120\": 1, \"87\": 1}, \"52\": {\"52\": 19, \"124\": 1}, \"77\": {\"77\": 15, \"81\": 1}, \"95\": {\"95\": 36}, \"44\": {\"44\": 100}, \"88\": {\"88\": 116, \"70\": 4, \"24\": 2}, \"91\": {\"91\": 21, \"61\": 1, \"103\": 1, \"29\": 1, \"6\": 1, \"34\": 2, \"107\": 1}, \"93\": {\"93\": 136, \"21\": 1, \"7\": 1}, \"8\": {\"8\": 121, \"12\": 1, \"18\": 1, \"26\": 1}, \"1\": {\"1\": 111, \"24\": 2, \"39\": 1}, \"45\": {\"45\": 14, \"21\": 1, \"88\": 1}, \"111\": {\"111\": 124, \"62\": 1, \"21\": 1}, \"116\": {\"116\": 28}, \"48\": {\"48\": 19, \"129\": 1}, \"57\": {\"57\": 18, \"78\": 1, \"88\": 1}, \"10\": {\"10\": 58, \"12\": 1, \"26\": 1}, \"129\": {\"129\": 32}, \"98\": {\"98\": 115, \"26\": 1, \"18\": 1, \"106\": 1}, \"65\": {\"65\": 19, \"12\": 1}, \"6\": {\"6\": 30, \"91\": 2}, \"75\": {\"75\": 15, \"126\": 1}, \"14\": {\"14\": 46, \"78\": 1, \"0\": 1}, \"30\": {\"30\": 105, \"40\": 2, \"88\": 1, \"24\": 1, \"59\": 2, \"39\": 1}, \"83\": {\"83\": 39, \"100\": 1}, \"69\": {\"69\": 124, \"106\": 1, \"7\": 1, \"26\": 1, \"126\": 1}, \"125\": {\"125\": 145, \"109\": 1}, \"31\": {\"31\": 18, \"67\": 1, \"89\": 1}, \"118\": {\"118\": 67, \"43\": 1}, \"53\": {\"53\": 16}, \"54\": {\"54\": 19, \"29\": 1}, \"92\": {\"92\": 28}, \"19\": {\"19\": 28}, \"27\": {\"27\": 61, \"94\": 2, \"77\": 2, \"36\": 3}, \"17\": {\"17\": 14, \"21\": 1, \"106\": 1}, \"4\": {\"4\": 87, \"16\": 1}, \"36\": {\"27\": 4, \"36\": 117, \"84\": 1, \"3\": 1, \"88\": 2, \"30\": 1, \"0\": 1, \"43\": 1}, \"90\": {\"90\": 132, \"2\": 1, \"70\": 1, \"21\": 1, \"88\": 1}, \"64\": {\"64\": 15, \"24\": 1}, \"66\": {\"66\": 20}, \"46\": {\"46\": 14, \"16\": 1, \"24\": 1}, \"86\": {\"86\": 32}, \"114\": {\"114\": 108, \"0\": 1, \"126\": 1}, \"32\": {\"74\": 1, \"32\": 22, \"101\": 1, \"28\": 1, \"75\": 1, \"104\": 2, \"95\": 1, \"64\": 2, \"34\": 1, \"107\": 1, \"14\": 2, \"4\": 1}, \"78\": {\"78\": 44, \"70\": 1, \"109\": 2, \"21\": 1}, \"33\": {\"33\": 136, \"40\": 1, \"23\": 1}, \"70\": {\"70\": 110, \"116\": 1, \"78\": 1, \"87\": 1, \"88\": 6, \"106\": 1, \"24\": 2, \"69\": 1, \"15\": 1}, \"0\": {\"0\": 109, \"88\": 1, \"12\": 1, \"69\": 1, \"70\": 1, \"8\": 1, \"15\": 2}, \"110\": {\"110\": 38, \"61\": 1, \"57\": 1}, \"2\": {\"2\": 28, \"117\": 1, \"46\": 1, \"40\": 1, \"81\": 1}, \"28\": {\"28\": 18, \"88\": 1, \"19\": 1}, \"51\": {\"51\": 16, \"75\": 1, \"9\": 3}, \"79\": {\"79\": 16}, \"42\": {\"42\": 28}, \"112\": {\"112\": 13, \"73\": 1, \"25\": 1, \"5\": 1}, \"89\": {\"89\": 34, \"92\": 2}, \"59\": {\"59\": 16}, \"105\": {\"105\": 126, \"24\": 1, \"62\": 1}, \"121\": {\"121\": 34, \"65\": 1, \"36\": 1}, \"11\": {\"11\": 76, \"12\": 1, \"126\": 1, \"88\": 1, \"106\": 1}, \"99\": {\"99\": 30, \"12\": 1, \"33\": 1}, \"25\": {\"25\": 16}, \"62\": {\"62\": 120, \"94\": 1, \"105\": 2, \"7\": 1, \"12\": 1, \"24\": 2, \"126\": 1}, \"123\": {\"123\": 16}, \"24\": {\"24\": 106, \"106\": 4, \"108\": 2}, \"80\": {\"80\": 16}, \"39\": {\"39\": 85, \"117\": 1, \"109\": 8, \"0\": 1, \"24\": 1, \"88\": 3, \"26\": 1}, \"22\": {\"22\": 19, \"0\": 1}}, \"Wisig_4\": {\"32\": {\"32\": 19, \"22\": 1, \"92\": 1, \"66\": 1, \"105\": 1, \"76\": 1, \"34\": 1, \"40\": 3}, \"22\": {\"22\": 15, \"88\": 1}, \"69\": {\"69\": 113, \"41\": 1, \"24\": 1, \"113\": 1, \"70\": 2, \"126\": 1, \"105\": 1}, \"65\": {\"65\": 12}, \"91\": {\"91\": 22, \"77\": 1, \"6\": 1}, \"63\": {\"63\": 16}, \"127\": {\"12\": 1, \"127\": 105, \"106\": 1, \"84\": 1}, \"11\": {\"11\": 135, \"84\": 1, \"81\": 1, \"93\": 1}, \"12\": {\"12\": 93, \"78\": 1, \"15\": 1, \"106\": 1, \"88\": 1, \"105\": 1, \"84\": 2}, \"111\": {\"111\": 127, \"126\": 1}, \"53\": {\"53\": 15, \"121\": 1}, \"73\": {\"73\": 22, \"98\": 1, \"110\": 1}, \"3\": {\"3\": 134, \"21\": 1, \"101\": 1}, \"83\": {\"83\": 27, \"38\": 1}, \"88\": {\"88\": 124, \"70\": 6}, \"87\": {\"87\": 131, \"108\": 1}, \"2\": {\"2\": 28}, \"86\": {\"86\": 28}, \"16\": {\"16\": 117, \"88\": 1, \"118\": 1, \"10\": 1, \"106\": 1, \"84\": 1}, \"21\": {\"21\": 37, \"88\": 1, \"128\": 1, \"23\": 1}, \"96\": {\"96\": 19, \"110\": 1}, \"100\": {\"100\": 19, \"114\": 1}, \"7\": {\"7\": 119, \"108\": 1}, \"75\": {\"75\": 14, \"29\": 1, \"15\": 1}, \"10\": {\"10\": 116, \"111\": 1, \"122\": 1, \"24\": 2, \"1\": 1, \"106\": 1, \"27\": 1, \"70\": 1}, \"43\": {\"43\": 115, \"6\": 1, \"0\": 1, \"88\": 1, \"30\": 1, \"14\": 1}, \"92\": {\"92\": 27, \"122\": 1}, \"62\": {\"62\": 54, \"12\": 1, \"88\": 1, \"106\": 1, \"84\": 1, \"69\": 2}, \"31\": {\"31\": 16}, \"0\": {\"0\": 113, \"122\": 1}, \"45\": {\"45\": 16}, \"85\": {\"85\": 27, \"54\": 1}, \"119\": {\"119\": 16}, \"46\": {\"46\": 20}, \"71\": {\"71\": 101, \"84\": 1, \"114\": 1, \"109\": 1}, \"8\": {\"8\": 130, \"10\": 1, \"7\": 1, \"84\": 2}, \"118\": {\"118\": 104, \"16\": 2, \"106\": 2, \"39\": 1, \"36\": 1, \"70\": 1, \"15\": 1}, \"1\": {\"1\": 99, \"85\": 1, \"108\": 1, \"106\": 2, \"126\": 1, \"21\": 1, \"15\": 1, \"127\": 2}, \"38\": {\"38\": 15, \"15\": 1}, \"30\": {\"30\": 71, \"15\": 2, \"24\": 1, \"51\": 1, \"21\": 1}, \"66\": {\"66\": 15, \"90\": 1}, \"9\": {\"9\": 28}, \"5\": {\"5\": 135, \"81\": 1}, \"24\": {\"24\": 113, \"97\": 1, \"72\": 1, \"27\": 2, \"84\": 1, \"36\": 1, \"10\": 1}, \"97\": {\"88\": 1, \"24\": 2, \"97\": 17}, \"67\": {\"67\": 11, \"92\": 1, \"48\": 1, \"88\": 1, \"82\": 1, \"90\": 1}, \"19\": {\"19\": 28}, \"77\": {\"77\": 12}, \"26\": {\"26\": 117, \"111\": 1}, \"115\": {\"24\": 1, \"115\": 14, \"86\": 1}, \"50\": {\"50\": 16}, \"120\": {\"120\": 20}, \"102\": {\"102\": 127, \"14\": 1}, \"29\": {\"29\": 32}, \"44\": {\"44\": 63, \"63\": 1}, \"124\": {\"124\": 117, \"118\": 1}, \"78\": {\"78\": 27, \"6\": 1, \"21\": 2, \"0\": 1, \"84\": 1, \"111\": 2, \"88\": 2}, \"104\": {\"104\": 16}, \"105\": {\"105\": 93, \"128\": 1, \"15\": 1, \"14\": 2, \"78\": 1, \"88\": 1, \"12\": 1}, \"28\": {\"28\": 20}, \"37\": {\"37\": 16}, \"107\": {\"107\": 128, \"122\": 1, \"108\": 1, \"88\": 2}, \"6\": {\"6\": 24}, \"17\": {\"17\": 20}, \"57\": {\"57\": 16}, \"121\": {\"121\": 30, \"21\": 1, \"19\": 1}, \"58\": {\"58\": 16}, \"64\": {\"64\": 16}, \"82\": {\"82\": 32}, \"39\": {\"39\": 98, \"122\": 1, \"126\": 1}, \"110\": {\"110\": 116, \"90\": 1, \"81\": 1, \"39\": 1, \"21\": 1, \"9\": 1, \"0\": 1, \"8\": 1, \"88\": 1}, \"114\": {\"114\": 126, \"12\": 1, \"71\": 1}, \"20\": {\"20\": 16}, \"117\": {\"117\": 114}, \"18\": {\"18\": 119, \"88\": 1}, \"99\": {\"99\": 40}, \"23\": {\"23\": 13, \"51\": 1, \"70\": 1, \"7\": 1}, \"128\": {\"128\": 18, \"88\": 2, \"34\": 1, \"50\": 1, \"21\": 1, \"100\": 1}, \"60\": {\"60\": 32}, \"70\": {\"70\": 109, \"110\": 2, \"88\": 5, \"111\": 1, \"27\": 1, \"108\": 1, \"84\": 1}, \"122\": {\"122\": 80, \"10\": 1, \"126\": 1, \"109\": 1, \"43\": 1}, \"101\": {\"101\": 129, \"7\": 1, \"113\": 1, \"88\": 1}, \"33\": {\"33\": 129, \"67\": 1, \"116\": 1, \"43\": 1}, \"40\": {\"40\": 124, \"12\": 1, \"84\": 2, \"106\": 1, \"88\": 1, \"7\": 1}, \"41\": {\"41\": 13, \"36\": 1, \"78\": 1, \"21\": 1}, \"59\": {\"59\": 12}, \"4\": {\"4\": 96, \"98\": 1, \"39\": 1, \"72\": 1, \"108\": 1, \"15\": 1, \"106\": 1, \"105\": 1, \"101\": 1}, \"112\": {\"112\": 14, \"42\": 1, \"27\": 1}, \"36\": {\"36\": 125, \"24\": 1, \"1\": 1, \"88\": 1}, \"48\": {\"48\": 13, \"42\": 2, \"23\": 1}, \"126\": {\"59\": 1, \"126\": 113, \"10\": 1, \"84\": 1}, \"125\": {\"125\": 119, \"109\": 1, \"10\": 1, \"88\": 1}, \"84\": {\"84\": 119, \"21\": 1, \"36\": 1, \"88\": 3, \"106\": 2, \"126\": 1, \"15\": 1}, \"80\": {\"80\": 16}, \"49\": {\"49\": 28, \"5\": 4}, \"47\": {\"25\": 1, \"47\": 10, \"91\": 1}, \"95\": {\"95\": 32}, \"54\": {\"54\": 16}, \"25\": {\"25\": 16}, \"116\": {\"116\": 27, \"0\": 1}, \"74\": {\"74\": 16}, \"35\": {\"35\": 12}, \"15\": {\"15\": 125, \"0\": 1, \"105\": 1, \"88\": 1}, \"108\": {\"108\": 80, \"70\": 3, \"88\": 1, \"94\": 1, \"27\": 1, \"98\": 1, \"106\": 1, \"41\": 1, \"23\": 1, \"84\": 1, \"9\": 1}, \"34\": {\"34\": 27, \"6\": 2, \"103\": 1, \"85\": 1, \"75\": 1}, \"81\": {\"81\": 35, \"67\": 1}, \"93\": {\"93\": 127, \"11\": 1}, \"55\": {\"55\": 16}, \"27\": {\"27\": 93, \"97\": 1, \"88\": 1, \"24\": 1, \"36\": 2, \"84\": 1, \"70\": 1}, \"109\": {\"109\": 107, \"106\": 1, \"70\": 1, \"43\": 1}, \"106\": {\"106\": 111, \"12\": 1, \"127\": 1, \"15\": 2, \"126\": 1}, \"68\": {\"68\": 15, \"108\": 1}, \"76\": {\"106\": 1, \"76\": 14, \"78\": 1}, \"103\": {\"103\": 15, \"106\": 1}, \"42\": {\"42\": 25, \"9\": 1, \"124\": 2}, \"129\": {\"129\": 28}, \"94\": {\"94\": 81, \"23\": 1, \"81\": 1, \"3\": 1, \"21\": 1, \"8\": 1, \"7\": 1, \"84\": 1}, \"123\": {\"123\": 16}, \"61\": {\"61\": 16}, \"51\": {\"98\": 1, \"51\": 6, \"68\": 1, \"12\": 1, \"72\": 1, \"36\": 1, \"58\": 1, \"23\": 1, \"21\": 1, \"47\": 2}, \"98\": {\"35\": 1, \"98\": 113, \"70\": 1, \"74\": 1, \"109\": 1, \"121\": 1}, \"56\": {\"56\": 9, \"29\": 2, \"91\": 1}, \"14\": {\"14\": 109, \"81\": 1, \"23\": 1, \"101\": 1}, \"90\": {\"90\": 138}, \"13\": {\"13\": 16}, \"89\": {\"89\": 31, \"105\": 1}, \"52\": {\"52\": 17, \"110\": 1, \"114\": 1, \"119\": 1}, \"72\": {\"72\": 31, \"21\": 1}, \"79\": {\"79\": 16}, \"113\": {\"113\": 119, \"24\": 1, \"84\": 2, \"108\": 1, \"126\": 3}}, \"Wisig_1\": {\"68\": {\"68\": 16}, \"7\": {\"7\": 142}, \"125\": {\"125\": 118}, \"111\": {\"111\": 116, \"68\": 1, \"21\": 2, \"126\": 1}, \"101\": {\"101\": 123, \"28\": 1}, \"11\": {\"11\": 136}, \"76\": {\"76\": 16}, \"5\": {\"5\": 86, \"84\": 1, \"40\": 1}, \"123\": {\"123\": 14, \"83\": 1, \"95\": 1}, \"85\": {\"85\": 32}, \"34\": {\"34\": 25, \"89\": 2, \"14\": 2, \"56\": 1, \"105\": 1, \"91\": 1}, \"42\": {\"101\": 2, \"42\": 22, \"124\": 2, \"91\": 2}, \"81\": {\"81\": 28}, \"127\": {\"127\": 106, \"84\": 1, \"88\": 1}, \"60\": {\"60\": 12, \"105\": 1, \"18\": 1, \"109\": 1, \"14\": 1}, \"77\": {\"77\": 16}, \"65\": {\"90\": 2, \"65\": 3, \"6\": 1, \"22\": 3, \"116\": 1, \"43\": 2}, \"44\": {\"44\": 76}, \"100\": {\"100\": 16}, \"80\": {\"80\": 16}, \"83\": {\"83\": 25, \"54\": 1, \"88\": 1, \"0\": 1}, \"51\": {\"51\": 16}, \"93\": {\"93\": 133, \"70\": 1}, \"31\": {\"31\": 15, \"89\": 1}, \"33\": {\"33\": 124, \"2\": 1, \"45\": 1}, \"113\": {\"113\": 121, \"69\": 1, \"16\": 1, \"43\": 1}, \"126\": {\"126\": 122, \"27\": 1, \"106\": 1}, \"10\": {\"10\": 120}, \"21\": {\"21\": 39, \"109\": 1}, \"90\": {\"90\": 131, \"124\": 1}, \"38\": {\"38\": 16}, \"96\": {\"96\": 18, \"99\": 1, \"30\": 1}, \"6\": {\"6\": 27, \"51\": 1, \"61\": 1, \"124\": 2, \"91\": 1}, \"121\": {\"121\": 32}, \"37\": {\"37\": 16}, \"88\": {\"88\": 125, \"24\": 1}, \"54\": {\"54\": 15, \"83\": 1}, \"92\": {\"92\": 28}, \"19\": {\"19\": 28}, \"47\": {\"47\": 12}, \"94\": {\"94\": 89, \"84\": 1, \"88\": 1, \"113\": 1}, \"66\": {\"66\": 16}, \"73\": {\"73\": 19, \"22\": 1}, \"75\": {\"75\": 16}, \"28\": {\"28\": 19, \"86\": 1}, \"20\": {\"20\": 16}, \"78\": {\"21\": 1, \"78\": 15}, \"71\": {\"71\": 99, \"109\": 1, \"106\": 1, \"21\": 1, \"12\": 2}, \"13\": {\"13\": 16}, \"118\": {\"118\": 83, \"106\": 1}, \"72\": {\"72\": 32}, \"24\": {\"24\": 86, \"111\": 1, \"108\": 3, \"12\": 1, \"27\": 1}, \"41\": {\"41\": 16}, \"102\": {\"102\": 119, \"70\": 1}, \"8\": {\"21\": 1, \"8\": 137}, \"39\": {\"39\": 90, \"11\": 3, \"111\": 1, \"70\": 1, \"110\": 1}, \"97\": {\"97\": 17, \"24\": 2, \"2\": 1}, \"48\": {\"48\": 12}, \"57\": {\"57\": 12}, \"29\": {\"29\": 27, \"89\": 1}, \"119\": {\"119\": 16}, \"89\": {\"89\": 36}, \"40\": {\"40\": 139, \"105\": 1}, \"22\": {\"108\": 1, \"22\": 15}, \"53\": {\"53\": 18, \"70\": 1, \"86\": 1}, \"108\": {\"108\": 124}, \"23\": {\"23\": 13, \"3\": 1, \"25\": 1, \"94\": 1, \"8\": 3, \"110\": 1, \"105\": 1, \"45\": 1, \"70\": 2}, \"109\": {\"109\": 115, \"70\": 1}, \"112\": {\"112\": 16}, \"35\": {\"35\": 12}, \"3\": {\"3\": 84, \"84\": 3, \"93\": 1}, \"103\": {\"103\": 14, \"15\": 1, \"48\": 1}, \"4\": {\"4\": 98, \"109\": 1, \"84\": 1}, \"87\": {\"87\": 107, \"109\": 1}, \"25\": {\"25\": 14, \"104\": 1, \"61\": 1}, \"15\": {\"15\": 99, \"94\": 3, \"69\": 1, \"109\": 1}, \"95\": {\"95\": 36}, \"120\": {\"120\": 18, \"123\": 1, \"15\": 1}, \"59\": {\"59\": 11, \"86\": 1}, \"49\": {\"49\": 12, \"52\": 2, \"1\": 1, \"70\": 1, \"53\": 2, \"72\": 1, \"11\": 1}, \"52\": {\"52\": 18, \"70\": 1, \"24\": 1}, \"45\": {\"45\": 8, \"46\": 1, \"47\": 1, \"87\": 1, \"25\": 1}, \"107\": {\"107\": 124}, \"106\": {\"106\": 133, \"10\": 1}, \"18\": {\"18\": 124}, \"64\": {\"64\": 16}, \"86\": {\"86\": 35, \"108\": 1}, \"14\": {\"14\": 96}, \"115\": {\"115\": 12}, \"0\": {\"0\": 83, \"28\": 1}, \"104\": {\"104\": 16}, \"61\": {\"61\": 12}, \"129\": {\"129\": 27, \"5\": 1}, \"122\": {\"122\": 86, \"70\": 1, \"3\": 1}, \"67\": {\"67\": 14, \"21\": 1, \"115\": 1}, \"128\": {\"128\": 24}, \"26\": {\"26\": 131, \"105\": 1, \"84\": 1, \"12\": 1}, \"117\": {\"117\": 136}, \"91\": {\"91\": 26, \"54\": 1, \"86\": 1}, \"12\": {\"12\": 99, \"70\": 2, \"108\": 3}, \"50\": {\"50\": 16}, \"99\": {\"99\": 24}, \"110\": {\"110\": 104}, \"43\": {\"43\": 112, \"24\": 1, \"36\": 1, \"94\": 1, \"93\": 1}, \"82\": {\"82\": 36}, \"1\": {\"1\": 96}, \"46\": {\"111\": 1, \"46\": 10, \"86\": 1}, \"16\": {\"16\": 106, \"94\": 1, \"106\": 1}, \"74\": {\"74\": 16}, \"32\": {\"32\": 32}, \"62\": {\"62\": 118, \"109\": 1, \"0\": 1}, \"27\": {\"27\": 90, \"15\": 1, \"21\": 1}, \"17\": {\"17\": 16}, \"36\": {\"36\": 133, \"122\": 1}, \"2\": {\"2\": 29, \"129\": 2, \"13\": 1}, \"70\": {\"70\": 128}, \"9\": {\"9\": 32}, \"114\": {\"114\": 130}, \"79\": {\"79\": 12}, \"56\": {\"56\": 12}, \"124\": {\"124\": 102}, \"84\": {\"84\": 134}, \"69\": {\"69\": 106, \"6\": 1, \"70\": 1}, \"58\": {\"58\": 10, \"125\": 1, \"111\": 1}, \"30\": {\"30\": 52}, \"55\": {\"55\": 12}, \"105\": {\"105\": 84}, \"63\": {\"63\": 16}, \"98\": {\"98\": 107, \"109\": 1}, \"116\": {\"116\": 31, \"21\": 1}}, \"Wisig_3\": {\"76\": {\"76\": 14, \"50\": 1, \"74\": 1}, \"6\": {\"6\": 27, \"58\": 2, \"125\": 1, \"19\": 1, \"69\": 1}, \"108\": {\"108\": 106}, \"29\": {\"29\": 30, \"67\": 1, \"88\": 1}, \"83\": {\"83\": 24}, \"18\": {\"18\": 126, \"88\": 1, \"78\": 1}, \"54\": {\"54\": 16}, \"15\": {\"15\": 104}, \"100\": {\"100\": 16}, \"90\": {\"90\": 132, \"86\": 1, \"94\": 1, \"82\": 1, \"62\": 1}, \"26\": {\"26\": 130, \"88\": 1, \"90\": 1}, \"115\": {\"115\": 16}, \"94\": {\"94\": 83, \"30\": 1}, \"46\": {\"46\": 16}, \"121\": {\"121\": 32}, \"109\": {\"109\": 126, \"118\": 1, \"21\": 1}, \"101\": {\"101\": 51, \"88\": 1}, \"99\": {\"99\": 36}, \"8\": {\"8\": 126, \"26\": 1, \"27\": 1}, \"102\": {\"102\": 104}, \"122\": {\"113\": 1, \"122\": 55, \"2\": 1, \"106\": 1, \"84\": 1, \"14\": 1}, \"36\": {\"36\": 112, \"24\": 2, \"27\": 1, \"114\": 1}, \"113\": {\"113\": 119, \"106\": 1}, \"123\": {\"123\": 16}, \"120\": {\"120\": 19, \"92\": 1}, \"125\": {\"125\": 108}, \"89\": {\"89\": 27, \"73\": 1}, \"9\": {\"9\": 32}, \"31\": {\"31\": 20}, \"62\": {\"62\": 112, \"106\": 2}, \"49\": {\"49\": 23, \"29\": 1}, \"23\": {\"23\": 28, \"60\": 3, \"8\": 1}, \"55\": {\"55\": 16}, \"128\": {\"128\": 29, \"107\": 2, \"99\": 1}, \"71\": {\"71\": 66, \"114\": 2}, \"51\": {\"51\": 16}, \"7\": {\"7\": 106}, \"117\": {\"117\": 102, \"70\": 1, \"39\": 1}, \"28\": {\"28\": 16}, \"127\": {\"127\": 127, \"17\": 1}, \"57\": {\"57\": 20}, \"78\": {\"78\": 15, \"54\": 1}, \"87\": {\"87\": 119, \"15\": 1}, \"40\": {\"40\": 127, \"69\": 1}, \"81\": {\"81\": 32}, \"2\": {\"2\": 28}, \"58\": {\"58\": 16}, \"68\": {\"68\": 15, \"59\": 1}, \"20\": {\"20\": 15, \"33\": 1}, \"35\": {\"35\": 12}, \"96\": {\"96\": 20}, \"84\": {\"84\": 108}, \"13\": {\"88\": 2, \"13\": 8, \"63\": 1, \"80\": 1, \"119\": 2, \"43\": 1, \"21\": 1}, \"64\": {\"64\": 20}, \"112\": {\"112\": 13, \"69\": 1, \"7\": 1, \"42\": 1}, \"103\": {\"103\": 15, \"13\": 1}, \"65\": {\"65\": 11, \"63\": 1}, \"118\": {\"118\": 100}, \"88\": {\"88\": 108, \"26\": 1, \"108\": 1, \"70\": 2}, \"85\": {\"85\": 36}, \"5\": {\"5\": 109, \"21\": 1, \"84\": 1, \"88\": 1}, \"93\": {\"93\": 137, \"88\": 1}, \"43\": {\"43\": 50, \"7\": 1, \"106\": 1, \"21\": 1, \"84\": 1, \"11\": 2}, \"67\": {\"67\": 15, \"19\": 1}, \"48\": {\"48\": 13, \"124\": 1, \"67\": 1, \"95\": 1}, \"73\": {\"73\": 38, \"106\": 1, \"110\": 1}, \"34\": {\"91\": 3, \"34\": 27, \"7\": 1, \"32\": 1}, \"91\": {\"91\": 20, \"88\": 1, \"69\": 1, \"58\": 1, \"68\": 1}, \"105\": {\"105\": 124}, \"10\": {\"10\": 105, \"5\": 1}, \"61\": {\"61\": 16}, \"74\": {\"74\": 15, \"124\": 1}, \"4\": {\"4\": 95, \"106\": 1}, \"37\": {\"37\": 16}, \"19\": {\"19\": 30, \"129\": 1, \"77\": 1}, \"44\": {\"44\": 72}, \"52\": {\"52\": 16}, \"92\": {\"92\": 32}, \"33\": {\"33\": 128}, \"45\": {\"45\": 16}, \"11\": {\"11\": 127, \"39\": 1}, \"129\": {\"129\": 32}, \"116\": {\"116\": 28}, \"75\": {\"75\": 16}, \"41\": {\"41\": 16}, \"21\": {\"21\": 47, \"33\": 1}, \"69\": {\"69\": 82, \"97\": 1, \"84\": 1}, \"16\": {\"16\": 107, \"21\": 1}, \"25\": {\"25\": 15, \"85\": 1}, \"12\": {\"12\": 103, \"88\": 1}, \"72\": {\"72\": 28}, \"0\": {\"0\": 115, \"26\": 1}, \"50\": {\"50\": 16}, \"107\": {\"107\": 140}, \"124\": {\"124\": 124}, \"53\": {\"53\": 19, \"88\": 1}, \"66\": {\"66\": 15, \"38\": 1}, \"47\": {\"47\": 12}, \"24\": {\"24\": 44, \"27\": 3, \"26\": 1}, \"95\": {\"95\": 31, \"25\": 1}, \"98\": {\"98\": 104, \"44\": 1, \"124\": 1}, \"63\": {\"63\": 16}, \"3\": {\"3\": 114, \"12\": 1, \"114\": 1}, \"14\": {\"14\": 80}, \"1\": {\"1\": 108}, \"38\": {\"38\": 16}, \"110\": {\"110\": 87, \"88\": 2, \"26\": 2, \"84\": 1}, \"17\": {\"67\": 1, \"17\": 8, \"95\": 1, \"40\": 1, \"2\": 1, \"68\": 1, \"65\": 1, \"55\": 1, \"78\": 1}, \"30\": {\"30\": 83, \"106\": 1}, \"56\": {\"56\": 11, \"75\": 1}, \"27\": {\"27\": 89, \"36\": 4, \"106\": 1, \"21\": 1, \"73\": 1}, \"104\": {\"104\": 16}, \"97\": {\"97\": 18, \"15\": 2}, \"42\": {\"42\": 27, \"25\": 1}, \"39\": {\"39\": 107, \"126\": 1}, \"70\": {\"70\": 67, \"88\": 4, \"21\": 1}, \"86\": {\"86\": 28}, \"119\": {\"119\": 16}, \"77\": {\"77\": 16}, \"59\": {\"59\": 12}, \"22\": {\"22\": 15, \"55\": 1}, \"79\": {\"79\": 12}, \"80\": {\"80\": 16}, \"111\": {\"111\": 130, \"77\": 1, \"124\": 1}, \"82\": {\"82\": 28}, \"126\": {\"126\": 121, \"39\": 1, \"21\": 1, \"84\": 1}, \"32\": {\"32\": 27, \"107\": 1, \"69\": 1, \"99\": 1, \"66\": 1, \"9\": 1}, \"106\": {\"106\": 100}, \"60\": {\"60\": 27, \"110\": 1}, \"114\": {\"114\": 106, \"87\": 1, \"39\": 1}}, \"ORACLE.run18\": {\"13\": {\"5\": 186, \"4\": 45, \"7\": 188, \"10\": 212, \"13\": 239, \"6\": 113, \"1\": 100, \"12\": 21, \"2\": 4, \"14\": 8, \"11\": 50, \"8\": 25, \"15\": 9}, \"9\": {\"9\": 1013, \"3\": 148, \"2\": 38, \"15\": 1}, \"15\": {\"12\": 386, \"15\": 441, \"3\": 66, \"2\": 273, \"1\": 2, \"5\": 11, \"9\": 1, \"13\": 12, \"11\": 2, \"10\": 3, \"7\": 3}, \"2\": {\"15\": 234, \"3\": 271, \"12\": 170, \"2\": 441, \"7\": 4, \"9\": 46, \"13\": 14, \"10\": 9, \"5\": 7, \"1\": 2, \"11\": 1, \"6\": 1}, \"3\": {\"2\": 259, \"3\": 715, \"9\": 122, \"15\": 77, \"12\": 27}, \"8\": {\"14\": 153, \"11\": 211, \"4\": 135, \"6\": 104, \"1\": 133, \"8\": 277, \"5\": 51, \"7\": 58, \"10\": 46, \"0\": 7, \"13\": 25}, \"5\": {\"7\": 151, \"11\": 71, \"10\": 209, \"8\": 45, \"5\": 180, \"15\": 19, \"13\": 175, \"1\": 127, \"12\": 30, \"6\": 124, \"2\": 11, \"4\": 43, \"14\": 15}, \"14\": {\"14\": 329, \"8\": 213, \"5\": 27, \"6\": 74, \"0\": 41, \"11\": 108, \"10\": 33, \"1\": 72, \"4\": 241, \"7\": 48, \"13\": 14}, \"1\": {\"6\": 136, \"8\": 114, \"5\": 143, \"1\": 179, \"11\": 150, \"4\": 96, \"10\": 103, \"7\": 144, \"13\": 96, \"14\": 34, \"12\": 4, \"15\": 1}, \"0\": {\"0\": 1005, \"14\": 135, \"4\": 25, \"8\": 25, \"10\": 1, \"11\": 8, \"7\": 1}, \"10\": {\"7\": 176, \"13\": 197, \"5\": 166, \"1\": 125, \"6\": 138, \"10\": 172, \"11\": 79, \"12\": 14, \"8\": 50, \"4\": 58, \"14\": 18, \"15\": 4, \"2\": 3}, \"6\": {\"8\": 103, \"13\": 113, \"4\": 117, \"10\": 148, \"7\": 160, \"1\": 134, \"5\": 120, \"11\": 128, \"6\": 138, \"14\": 35, \"15\": 4}, \"11\": {\"8\": 209, \"11\": 186, \"10\": 83, \"1\": 177, \"7\": 89, \"5\": 77, \"6\": 104, \"14\": 91, \"4\": 128, \"13\": 55, \"12\": 1}, \"7\": {\"7\": 187, \"10\": 163, \"6\": 144, \"13\": 166, \"14\": 14, \"11\": 83, \"4\": 70, \"5\": 158, \"1\": 139, \"8\": 69, \"2\": 2, \"12\": 3, \"15\": 2}, \"4\": {\"11\": 139, \"10\": 76, \"1\": 104, \"6\": 126, \"4\": 222, \"14\": 164, \"5\": 59, \"7\": 80, \"13\": 39, \"8\": 187, \"0\": 4}, \"12\": {\"2\": 206, \"13\": 30, \"12\": 470, \"15\": 422, \"5\": 19, \"3\": 29, \"7\": 11, \"10\": 6, \"11\": 5, \"1\": 2}}, \"ORACLE.run138\": {\"13\": {\"0\": 310, \"13\": 432, \"10\": 195, \"14\": 23, \"9\": 42, \"7\": 64, \"4\": 29, \"2\": 79, \"3\": 17, \"5\": 2, \"8\": 6, \"11\": 1}, \"12\": {\"12\": 850, \"7\": 14, \"5\": 79, \"8\": 88, \"15\": 104, \"14\": 41, \"2\": 9, \"6\": 4, \"1\": 6, \"4\": 5}, \"2\": {\"13\": 84, \"15\": 5, \"2\": 224, \"8\": 115, \"14\": 158, \"9\": 164, \"0\": 73, \"4\": 47, \"10\": 19, \"7\": 204, \"5\": 100, \"12\": 7}, \"9\": {\"9\": 515, \"5\": 143, \"8\": 114, \"14\": 35, \"0\": 41, \"2\": 166, \"7\": 104, \"13\": 69, \"4\": 3, \"15\": 5, \"10\": 3, \"3\": 1, \"12\": 1}, \"15\": {\"8\": 140, \"5\": 176, \"6\": 135, \"12\": 113, \"1\": 130, \"15\": 446, \"7\": 12, \"9\": 34, \"2\": 11, \"14\": 3}, \"5\": {\"15\": 154, \"8\": 257, \"5\": 237, \"9\": 162, \"0\": 8, \"7\": 81, \"14\": 75, \"12\": 63, \"2\": 115, \"6\": 9, \"1\": 12, \"4\": 8, \"13\": 17, \"10\": 2}, \"14\": {\"2\": 145, \"13\": 49, \"14\": 306, \"4\": 194, \"10\": 19, \"7\": 230, \"5\": 55, \"12\": 36, \"8\": 83, \"0\": 45, \"9\": 38}, \"0\": {\"0\": 312, \"13\": 261, \"3\": 62, \"10\": 284, \"4\": 52, \"2\": 55, \"9\": 36, \"14\": 48, \"5\": 4, \"11\": 13, \"7\": 59, \"8\": 14}, \"3\": {\"3\": 968, \"10\": 22, \"13\": 6, \"11\": 195, \"0\": 9}, \"1\": {\"6\": 516, \"1\": 501, \"15\": 154, \"12\": 18, \"5\": 8, \"8\": 3}, \"11\": {\"11\": 975, \"3\": 216, \"10\": 5, \"0\": 4}, \"7\": {\"9\": 112, \"14\": 199, \"2\": 244, \"4\": 85, \"7\": 248, \"5\": 77, \"8\": 98, \"13\": 61, \"0\": 50, \"10\": 9, \"12\": 15, \"15\": 2}, \"8\": {\"8\": 226, \"2\": 133, \"7\": 121, \"5\": 194, \"12\": 118, \"14\": 90, \"1\": 16, \"15\": 156, \"9\": 103, \"0\": 10, \"4\": 9, \"13\": 14, \"10\": 4, \"6\": 6}, \"4\": {\"4\": 703, \"14\": 187, \"0\": 65, \"10\": 69, \"7\": 92, \"13\": 39, \"2\": 35, \"12\": 3, \"8\": 4, \"5\": 3}, \"10\": {\"0\": 345, \"10\": 487, \"2\": 12, \"13\": 190, \"14\": 13, \"3\": 47, \"7\": 16, \"4\": 73, \"11\": 12, \"9\": 5}, \"6\": {\"6\": 554, \"1\": 493, \"15\": 122, \"8\": 5, \"12\": 17, \"5\": 5, \"9\": 4}}, \"ORACLE.run126\": {\"10\": {\"14\": 177, \"0\": 150, \"5\": 91, \"3\": 14, \"1\": 133, \"10\": 163, \"11\": 42, \"6\": 114, \"8\": 50, \"15\": 126, \"2\": 62, \"9\": 36, \"13\": 2, \"7\": 24, \"12\": 16}, \"12\": {\"15\": 20, \"13\": 127, \"2\": 123, \"8\": 133, \"9\": 162, \"12\": 187, \"3\": 129, \"7\": 144, \"4\": 46, \"6\": 11, \"14\": 25, \"0\": 48, \"10\": 22, \"1\": 9, \"5\": 10, \"11\": 4}, \"1\": {\"1\": 267, \"14\": 166, \"0\": 82, \"6\": 161, \"5\": 141, \"11\": 91, \"10\": 138, \"7\": 8, \"15\": 107, \"8\": 12, \"12\": 4, \"2\": 13, \"9\": 9, \"3\": 1}, \"0\": {\"14\": 144, \"2\": 95, \"9\": 63, \"12\": 46, \"3\": 34, \"0\": 158, \"7\": 85, \"8\": 98, \"1\": 87, \"10\": 160, \"5\": 46, \"4\": 7, \"6\": 67, \"15\": 81, \"11\": 16, \"13\": 13}, \"15\": {\"11\": 121, \"14\": 89, \"5\": 189, \"1\": 129, \"8\": 20, \"0\": 85, \"6\": 190, \"3\": 5, \"10\": 108, \"15\": 201, \"13\": 5, \"2\": 29, \"12\": 9, \"7\": 11, \"9\": 9}, \"13\": {\"6\": 5, \"3\": 160, \"2\": 106, \"12\": 151, \"9\": 140, \"8\": 86, \"11\": 4, \"7\": 103, \"13\": 277, \"4\": 107, \"15\": 13, \"0\": 23, \"14\": 8, \"10\": 8, \"1\": 2, \"5\": 7}, \"8\": {\"8\": 166, \"2\": 124, \"3\": 135, \"12\": 122, \"13\": 84, \"7\": 146, \"10\": 45, \"15\": 20, \"9\": 129, \"5\": 9, \"0\": 110, \"14\": 48, \"4\": 26, \"6\": 19, \"11\": 5, \"1\": 12}, \"3\": {\"13\": 129, \"12\": 144, \"2\": 99, \"3\": 217, \"7\": 150, \"4\": 130, \"8\": 128, \"0\": 40, \"9\": 123, \"10\": 12, \"14\": 10, \"15\": 9, \"1\": 3, \"6\": 3, \"5\": 3}, \"11\": {\"11\": 542, \"5\": 225, \"0\": 15, \"14\": 25, \"15\": 136, \"6\": 142, \"1\": 71, \"2\": 6, \"10\": 36, \"8\": 1, \"9\": 1}, \"4\": {\"13\": 128, \"3\": 195, \"4\": 609, \"7\": 80, \"9\": 46, \"0\": 6, \"12\": 80, \"14\": 1, \"8\": 41, \"2\": 13, \"10\": 1}, \"6\": {\"6\": 191, \"5\": 173, \"0\": 73, \"1\": 138, \"10\": 130, \"15\": 170, \"14\": 124, \"11\": 139, \"7\": 7, \"2\": 27, \"8\": 18, \"3\": 2, \"12\": 5, \"9\": 3}, \"7\": {\"8\": 171, \"6\": 8, \"12\": 133, \"7\": 191, \"2\": 118, \"4\": 67, \"9\": 121, \"3\": 156, \"0\": 59, \"14\": 38, \"13\": 88, \"10\": 28, \"15\": 17, \"5\": 3, \"1\": 2}, \"14\": {\"0\": 168, \"8\": 52, \"14\": 188, \"7\": 44, \"10\": 187, \"1\": 149, \"5\": 69, \"6\": 106, \"11\": 30, \"2\": 49, \"15\": 113, \"3\": 6, \"9\": 25, \"12\": 12, \"13\": 1, \"4\": 1}, \"2\": {\"9\": 125, \"0\": 87, \"3\": 96, \"13\": 93, \"8\": 130, \"4\": 16, \"12\": 97, \"1\": 22, \"7\": 137, \"14\": 63, \"5\": 39, \"6\": 23, \"2\": 155, \"10\": 57, \"15\": 55, \"11\": 5}, \"5\": {\"2\": 27, \"6\": 168, \"5\": 246, \"1\": 111, \"10\": 106, \"15\": 187, \"11\": 229, \"14\": 61, \"0\": 44, \"3\": 1, \"8\": 7, \"9\": 8, \"13\": 2, \"7\": 2, \"12\": 1}, \"9\": {\"7\": 144, \"3\": 124, \"15\": 26, \"8\": 115, \"1\": 6, \"0\": 58, \"12\": 154, \"13\": 136, \"9\": 147, \"14\": 41, \"2\": 116, \"4\": 45, \"6\": 17, \"5\": 21, \"10\": 41, \"11\": 9}}, \"ORACLE.run120\": {\"5\": {\"2\": 75, \"8\": 102, \"6\": 69, \"9\": 113, \"1\": 101, \"3\": 87, \"5\": 126, \"12\": 58, \"14\": 88, \"0\": 77, \"15\": 70, \"7\": 86, \"13\": 52, \"11\": 33, \"10\": 23, \"4\": 40}, \"15\": {\"9\": 83, \"15\": 105, \"3\": 71, \"11\": 7, \"12\": 111, \"13\": 123, \"6\": 84, \"2\": 97, \"7\": 109, \"14\": 39, \"1\": 96, \"5\": 80, \"4\": 74, \"0\": 17, \"8\": 48, \"10\": 56}, \"9\": {\"6\": 66, \"4\": 81, \"12\": 82, \"9\": 95, \"0\": 40, \"5\": 103, \"2\": 90, \"15\": 75, \"8\": 77, \"3\": 89, \"11\": 21, \"14\": 83, \"1\": 104, \"13\": 52, \"7\": 114, \"10\": 28}, \"7\": {\"13\": 75, \"15\": 90, \"5\": 89, \"14\": 70, \"1\": 80, \"9\": 94, \"12\": 101, \"7\": 98, \"3\": 80, \"8\": 60, \"2\": 82, \"4\": 84, \"0\": 18, \"10\": 68, \"6\": 99, \"11\": 12}, \"3\": {\"1\": 107, \"3\": 117, \"10\": 16, \"11\": 35, \"9\": 110, \"8\": 107, \"2\": 65, \"12\": 46, \"0\": 88, \"13\": 37, \"15\": 71, \"6\": 72, \"5\": 107, \"14\": 91, \"7\": 76, \"4\": 55}, \"8\": {\"7\": 69, \"4\": 46, \"14\": 131, \"3\": 118, \"1\": 92, \"5\": 103, \"8\": 148, \"12\": 48, \"11\": 54, \"0\": 117, \"9\": 91, \"6\": 69, \"15\": 40, \"13\": 18, \"2\": 41, \"10\": 15}, \"4\": {\"8\": 35, \"12\": 100, \"2\": 93, \"1\": 57, \"6\": 130, \"4\": 143, \"7\": 95, \"10\": 179, \"15\": 80, \"14\": 66, \"13\": 58, \"9\": 66, \"3\": 46, \"11\": 2, \"5\": 46, \"0\": 4}, \"6\": {\"14\": 74, \"12\": 76, \"6\": 136, \"4\": 118, \"1\": 66, \"9\": 60, \"13\": 74, \"7\": 103, \"10\": 121, \"2\": 87, \"3\": 65, \"8\": 68, \"5\": 63, \"15\": 69, \"0\": 15, \"11\": 5}, \"2\": {\"4\": 105, \"1\": 76, \"12\": 110, \"13\": 132, \"15\": 109, \"9\": 83, \"6\": 101, \"5\": 55, \"2\": 103, \"7\": 99, \"3\": 58, \"14\": 43, \"10\": 65, \"11\": 8, \"8\": 39, \"0\": 14}, \"12\": {\"7\": 91, \"13\": 106, \"8\": 35, \"6\": 98, \"9\": 103, \"1\": 85, \"12\": 105, \"3\": 61, \"4\": 87, \"11\": 6, \"2\": 97, \"5\": 61, \"15\": 111, \"14\": 55, \"10\": 83, \"0\": 16}, \"0\": {\"14\": 75, \"8\": 107, \"0\": 348, \"11\": 318, \"3\": 76, \"5\": 87, \"1\": 52, \"9\": 51, \"7\": 33, \"12\": 7, \"15\": 17, \"6\": 9, \"2\": 14, \"4\": 2, \"13\": 4}, \"13\": {\"9\": 65, \"12\": 122, \"7\": 100, \"8\": 15, \"6\": 79, \"10\": 89, \"1\": 89, \"13\": 196, \"5\": 63, \"14\": 18, \"2\": 119, \"0\": 8, \"15\": 117, \"4\": 83, \"3\": 31, \"11\": 6}, \"10\": {\"10\": 381, \"13\": 75, \"12\": 85, \"4\": 211, \"6\": 110, \"9\": 31, \"15\": 47, \"7\": 68, \"2\": 86, \"14\": 19, \"3\": 26, \"1\": 29, \"5\": 21, \"8\": 10, \"0\": 1}, \"11\": {\"11\": 604, \"0\": 333, \"3\": 53, \"2\": 4, \"6\": 3, \"8\": 66, \"1\": 25, \"5\": 37, \"7\": 10, \"9\": 23, \"14\": 32, \"15\": 4, \"13\": 2, \"4\": 3, \"12\": 1}, \"14\": {\"14\": 160, \"3\": 112, \"7\": 72, \"9\": 76, \"5\": 88, \"8\": 151, \"1\": 86, \"2\": 60, \"6\": 112, \"4\": 56, \"11\": 29, \"15\": 36, \"12\": 34, \"0\": 74, \"13\": 21, \"10\": 33}, \"1\": {\"3\": 110, \"9\": 97, \"14\": 54, \"6\": 70, \"8\": 94, \"10\": 24, \"0\": 46, \"11\": 31, \"15\": 90, \"13\": 60, \"1\": 115, \"12\": 82, \"4\": 76, \"2\": 69, \"7\": 90, \"5\": 92}}, \"ORACLE.run150\": {\"1\": {\"13\": 219, \"10\": 177, \"1\": 321, \"8\": 233, \"3\": 46, \"11\": 80, \"9\": 8, \"5\": 7, \"6\": 21, \"0\": 41, \"2\": 15, \"15\": 8, \"12\": 11, \"14\": 13}, \"2\": {\"0\": 253, \"10\": 121, \"2\": 368, \"14\": 361, \"8\": 65, \"12\": 2, \"11\": 1, \"9\": 1, \"13\": 6, \"1\": 22}, \"8\": {\"9\": 8, \"1\": 294, \"10\": 176, \"8\": 314, \"6\": 6, \"11\": 44, \"2\": 21, \"3\": 22, \"14\": 27, \"13\": 182, \"0\": 69, \"5\": 5, \"12\": 25, \"15\": 7}, \"7\": {\"15\": 77, \"4\": 364, \"7\": 379, \"6\": 68, \"5\": 170, \"3\": 32, \"9\": 71, \"12\": 32, \"11\": 7}, \"14\": {\"14\": 453, \"0\": 249, \"2\": 319, \"10\": 128, \"1\": 18, \"13\": 4, \"8\": 28, \"12\": 1}, \"6\": {\"7\": 69, \"5\": 139, \"9\": 142, \"6\": 191, \"3\": 152, \"12\": 88, \"4\": 59, \"15\": 175, \"13\": 39, \"11\": 132, \"1\": 12, \"8\": 2}, \"3\": {\"3\": 179, \"5\": 133, \"6\": 166, \"15\": 163, \"9\": 94, \"12\": 66, \"11\": 173, \"13\": 112, \"4\": 27, \"1\": 30, \"7\": 41, \"8\": 15, \"10\": 1}, \"4\": {\"7\": 366, \"6\": 74, \"4\": 410, \"9\": 72, \"15\": 66, \"5\": 146, \"11\": 11, \"12\": 21, \"3\": 33, \"13\": 1}, \"12\": {\"11\": 121, \"5\": 49, \"12\": 444, \"3\": 61, \"6\": 103, \"9\": 269, \"4\": 43, \"15\": 73, \"7\": 28, \"13\": 5, \"8\": 2, \"1\": 2}, \"15\": {\"5\": 157, \"3\": 167, \"12\": 59, \"7\": 58, \"15\": 204, \"11\": 131, \"4\": 75, \"6\": 177, \"9\": 117, \"13\": 40, \"1\": 12, \"8\": 3}, \"11\": {\"11\": 224, \"3\": 167, \"13\": 115, \"6\": 115, \"9\": 127, \"12\": 140, \"1\": 51, \"8\": 23, \"15\": 138, \"7\": 12, \"5\": 70, \"10\": 3, \"4\": 15}, \"0\": {\"0\": 281, \"2\": 272, \"14\": 279, \"8\": 95, \"10\": 196, \"12\": 3, \"1\": 57, \"13\": 13, \"9\": 1, \"3\": 2, \"11\": 1}, \"9\": {\"9\": 230, \"3\": 104, \"15\": 135, \"12\": 211, \"11\": 104, \"4\": 84, \"5\": 104, \"6\": 135, \"13\": 9, \"7\": 76, \"1\": 5, \"8\": 3}, \"10\": {\"0\": 228, \"10\": 342, \"2\": 120, \"13\": 66, \"8\": 164, \"14\": 103, \"1\": 159, \"11\": 9, \"3\": 7, \"12\": 2}, \"5\": {\"15\": 152, \"3\": 94, \"9\": 103, \"7\": 170, \"11\": 62, \"12\": 47, \"5\": 186, \"13\": 44, \"4\": 174, \"6\": 142, \"1\": 20, \"8\": 6}, \"13\": {\"13\": 337, \"1\": 270, \"10\": 63, \"11\": 123, \"9\": 11, \"3\": 95, \"8\": 155, \"15\": 43, \"6\": 46, \"5\": 24, \"12\": 19, \"0\": 6, \"2\": 4, \"14\": 3, \"4\": 1}}, \"ORACLE.run132\": {\"2\": {\"0\": 69, \"4\": 225, \"13\": 81, \"2\": 251, \"1\": 116, \"14\": 154, \"3\": 70, \"7\": 46, \"5\": 27, \"8\": 85, \"9\": 40, \"15\": 13, \"11\": 22, \"12\": 1}, \"6\": {\"6\": 777, \"12\": 107, \"10\": 224, \"9\": 36, \"11\": 53, \"13\": 1, \"3\": 2}, \"5\": {\"7\": 283, \"5\": 285, \"0\": 201, \"1\": 17, \"8\": 135, \"14\": 151, \"2\": 27, \"15\": 84, \"4\": 12, \"3\": 5}, \"12\": {\"10\": 263, \"12\": 405, \"9\": 152, \"13\": 67, \"2\": 5, \"11\": 193, \"6\": 62, \"3\": 32, \"1\": 10, \"4\": 11}, \"13\": {\"4\": 143, \"9\": 163, \"3\": 257, \"8\": 12, \"13\": 238, \"2\": 79, \"11\": 120, \"1\": 99, \"12\": 67, \"5\": 1, \"10\": 3, \"14\": 8, \"15\": 2, \"0\": 5, \"7\": 3}, \"9\": {\"11\": 242, \"1\": 52, \"9\": 255, \"3\": 119, \"13\": 184, \"6\": 10, \"12\": 124, \"4\": 95, \"2\": 64, \"10\": 37, \"14\": 9, \"8\": 7, \"7\": 2}, \"11\": {\"11\": 413, \"13\": 124, \"9\": 265, \"3\": 91, \"12\": 182, \"4\": 58, \"10\": 29, \"2\": 20, \"1\": 11, \"14\": 1, \"6\": 6}, \"1\": {\"15\": 52, \"4\": 158, \"1\": 268, \"2\": 120, \"13\": 98, \"3\": 118, \"8\": 136, \"7\": 29, \"14\": 68, \"0\": 61, \"5\": 40, \"11\": 14, \"9\": 36, \"12\": 2}, \"3\": {\"3\": 291, \"9\": 139, \"1\": 119, \"13\": 245, \"4\": 150, \"11\": 80, \"2\": 90, \"14\": 6, \"8\": 30, \"12\": 31, \"0\": 8, \"10\": 3, \"7\": 1, \"15\": 7}, \"7\": {\"14\": 225, \"15\": 29, \"0\": 201, \"4\": 12, \"5\": 274, \"7\": 312, \"2\": 31, \"8\": 100, \"1\": 14, \"13\": 1, \"3\": 1}, \"14\": {\"8\": 129, \"0\": 191, \"5\": 147, \"7\": 269, \"14\": 237, \"2\": 103, \"1\": 33, \"15\": 24, \"4\": 45, \"13\": 7, \"3\": 14, \"9\": 1}, \"8\": {\"4\": 66, \"8\": 215, \"5\": 114, \"15\": 141, \"2\": 85, \"0\": 179, \"14\": 143, \"1\": 95, \"3\": 37, \"7\": 100, \"13\": 17, \"9\": 8}, \"4\": {\"1\": 151, \"0\": 26, \"8\": 52, \"14\": 68, \"4\": 222, \"2\": 227, \"7\": 15, \"13\": 153, \"9\": 76, \"3\": 167, \"11\": 28, \"15\": 7, \"12\": 3, \"5\": 5}, \"0\": {\"0\": 200, \"8\": 181, \"14\": 195, \"7\": 211, \"5\": 181, \"15\": 95, \"4\": 28, \"3\": 4, \"1\": 41, \"2\": 60, \"13\": 3, \"9\": 1}, \"10\": {\"6\": 154, \"10\": 608, \"12\": 323, \"9\": 43, \"11\": 50, \"3\": 5, \"1\": 3, \"4\": 6, \"13\": 7, \"2\": 1}, \"15\": {\"15\": 713, \"5\": 112, \"1\": 34, \"0\": 85, \"8\": 182, \"4\": 6, \"7\": 34, \"3\": 9, \"14\": 18, \"13\": 2, \"2\": 4, \"9\": 1}}, \"ORACLE.run144\": {\"13\": {\"9\": 120, \"6\": 331, \"13\": 465, \"11\": 142, \"7\": 52, \"10\": 22, \"5\": 13, \"4\": 42, \"15\": 1, \"14\": 12}, \"4\": {\"9\": 123, \"15\": 98, \"10\": 135, \"7\": 134, \"13\": 69, \"4\": 148, \"1\": 51, \"5\": 122, \"8\": 39, \"14\": 114, \"2\": 74, \"6\": 73, \"11\": 7, \"0\": 12, \"12\": 1}, \"6\": {\"7\": 124, \"6\": 396, \"9\": 151, \"4\": 63, \"13\": 324, \"10\": 71, \"5\": 21, \"11\": 35, \"14\": 12, \"15\": 2, \"2\": 1}, \"0\": {\"0\": 326, \"8\": 214, \"15\": 102, \"10\": 9, \"1\": 234, \"7\": 11, \"2\": 98, \"12\": 49, \"3\": 76, \"14\": 34, \"5\": 34, \"4\": 10, \"9\": 3}, \"10\": {\"7\": 180, \"15\": 71, \"14\": 141, \"8\": 27, \"10\": 161, \"5\": 126, \"2\": 78, \"1\": 26, \"4\": 149, \"6\": 56, \"9\": 122, \"13\": 48, \"0\": 13, \"3\": 2}, \"7\": {\"4\": 151, \"14\": 129, \"7\": 218, \"9\": 172, \"2\": 60, \"6\": 95, \"5\": 94, \"10\": 171, \"13\": 49, \"15\": 27, \"8\": 15, \"0\": 4, \"1\": 13, \"11\": 2}, \"14\": {\"5\": 122, \"15\": 120, \"1\": 60, \"10\": 150, \"7\": 137, \"9\": 98, \"14\": 164, \"2\": 86, \"6\": 36, \"4\": 140, \"8\": 59, \"0\": 15, \"13\": 12, \"11\": 1}, \"15\": {\"0\": 70, \"1\": 109, \"4\": 98, \"15\": 227, \"2\": 73, \"9\": 47, \"14\": 132, \"5\": 129, \"7\": 48, \"8\": 186, \"10\": 71, \"13\": 4, \"6\": 3, \"3\": 3}, \"5\": {\"14\": 171, \"6\": 31, \"10\": 129, \"8\": 79, \"4\": 121, \"7\": 118, \"5\": 147, \"2\": 94, \"0\": 30, \"15\": 126, \"1\": 63, \"9\": 72, \"13\": 17, \"11\": 2}, \"2\": {\"15\": 59, \"1\": 220, \"2\": 400, \"7\": 39, \"14\": 81, \"10\": 46, \"8\": 67, \"4\": 68, \"0\": 88, \"5\": 78, \"9\": 34, \"6\": 3, \"3\": 8, \"12\": 9}, \"9\": {\"11\": 23, \"1\": 29, \"8\": 6, \"4\": 125, \"5\": 68, \"10\": 119, \"13\": 177, \"9\": 163, \"2\": 61, \"7\": 162, \"14\": 76, \"6\": 160, \"15\": 26, \"0\": 5}, \"12\": {\"8\": 10, \"12\": 584, \"3\": 502, \"1\": 27, \"0\": 61, \"2\": 14, \"14\": 1, \"4\": 1}, \"8\": {\"0\": 194, \"14\": 77, \"4\": 43, \"3\": 17, \"5\": 89, \"15\": 218, \"10\": 30, \"9\": 18, \"1\": 150, \"8\": 256, \"7\": 18, \"2\": 74, \"12\": 13, \"6\": 1, \"13\": 2}, \"3\": {\"12\": 484, \"3\": 509, \"8\": 30, \"1\": 39, \"15\": 3, \"0\": 104, \"5\": 1, \"2\": 28, \"4\": 1, \"14\": 1}, \"1\": {\"1\": 266, \"5\": 65, \"7\": 19, \"12\": 21, \"10\": 25, \"15\": 117, \"8\": 149, \"0\": 186, \"2\": 217, \"9\": 15, \"3\": 38, \"4\": 24, \"14\": 58}, \"11\": {\"11\": 1066, \"13\": 109, \"6\": 23, \"9\": 2}}, \"ORACLE.run114\": {\"1\": {\"9\": 341, \"4\": 87, \"1\": 529, \"10\": 185, \"7\": 2, \"14\": 1, \"12\": 25, \"5\": 9, \"2\": 9, \"8\": 8, \"0\": 3, \"6\": 1}, \"15\": {\"15\": 1184, \"13\": 12, \"6\": 4}, \"10\": {\"1\": 163, \"5\": 41, \"4\": 213, \"10\": 401, \"9\": 157, \"2\": 63, \"0\": 23, \"12\": 65, \"8\": 19, \"14\": 32, \"7\": 4, \"13\": 15, \"6\": 3, \"3\": 1}, \"2\": {\"10\": 70, \"7\": 69, \"13\": 101, \"12\": 55, \"6\": 90, \"4\": 114, \"14\": 151, \"3\": 77, \"2\": 177, \"5\": 116, \"0\": 104, \"8\": 57, \"9\": 9, \"1\": 10}, \"9\": {\"9\": 425, \"10\": 185, \"12\": 84, \"1\": 305, \"4\": 123, \"8\": 39, \"2\": 13, \"5\": 13, \"0\": 6, \"7\": 2, \"14\": 3, \"13\": 2}, \"5\": {\"5\": 162, \"8\": 111, \"7\": 100, \"4\": 131, \"13\": 67, \"2\": 136, \"0\": 117, \"14\": 123, \"6\": 35, \"3\": 68, \"12\": 102, \"10\": 34, \"1\": 9, \"9\": 5}, \"7\": {\"7\": 240, \"5\": 111, \"8\": 165, \"6\": 76, \"0\": 122, \"3\": 172, \"10\": 2, \"13\": 87, \"12\": 64, \"14\": 71, \"2\": 74, \"4\": 15, \"15\": 1}, \"13\": {\"0\": 77, \"3\": 137, \"7\": 62, \"6\": 216, \"15\": 90, \"13\": 182, \"2\": 95, \"14\": 140, \"4\": 47, \"5\": 86, \"10\": 27, \"8\": 16, \"12\": 17, \"1\": 4, \"9\": 4}, \"8\": {\"8\": 353, \"12\": 191, \"3\": 96, \"4\": 43, \"7\": 173, \"5\": 100, \"6\": 21, \"13\": 35, \"0\": 79, \"14\": 35, \"2\": 56, \"10\": 9, \"9\": 6, \"1\": 3}, \"6\": {\"8\": 23, \"3\": 181, \"0\": 91, \"6\": 271, \"13\": 226, \"5\": 45, \"14\": 168, \"4\": 12, \"2\": 86, \"7\": 74, \"12\": 9, \"15\": 12, \"10\": 2}, \"3\": {\"10\": 1, \"2\": 87, \"7\": 153, \"5\": 76, \"13\": 126, \"0\": 122, \"14\": 127, \"3\": 217, \"8\": 77, \"6\": 168, \"12\": 36, \"15\": 3, \"4\": 7}, \"12\": {\"8\": 230, \"10\": 42, \"5\": 132, \"12\": 256, \"0\": 107, \"4\": 94, \"6\": 23, \"2\": 65, \"14\": 52, \"13\": 30, \"7\": 90, \"3\": 42, \"1\": 8, \"9\": 28, \"15\": 1}, \"0\": {\"10\": 19, \"8\": 92, \"14\": 121, \"5\": 116, \"0\": 128, \"7\": 105, \"3\": 146, \"6\": 105, \"4\": 70, \"12\": 64, \"13\": 103, \"2\": 124, \"1\": 2, \"15\": 3, \"9\": 2}, \"4\": {\"4\": 276, \"13\": 28, \"0\": 58, \"10\": 219, \"2\": 82, \"1\": 80, \"14\": 44, \"5\": 125, \"12\": 110, \"9\": 87, \"7\": 23, \"8\": 52, \"3\": 7, \"6\": 9}, \"14\": {\"2\": 182, \"0\": 107, \"5\": 112, \"4\": 31, \"3\": 93, \"6\": 139, \"14\": 217, \"13\": 149, \"7\": 86, \"8\": 34, \"12\": 33, \"10\": 16, \"9\": 1}, \"11\": {\"11\": 1139, \"1\": 40, \"10\": 7, \"9\": 14}}}, \"per_domain_accuracy\": {\"Wisig_2\": {\"accuracy\": 0.951811974789916, \"source?\": true}, \"Wisig_4\": {\"accuracy\": 0.9575617283950617, \"source?\": true}, \"Wisig_1\": {\"accuracy\": 0.9761968085106383, \"source?\": true}, \"Wisig_3\": {\"accuracy\": 0.977147577092511, \"source?\": true}, \"ORACLE.run18\": {\"accuracy\": 0.3226041666666667, \"source?\": false}, \"ORACLE.run138\": {\"accuracy\": 0.41583333333333333, \"source?\": false}, \"ORACLE.run126\": {\"accuracy\": 0.20338541666666668, \"source?\": false}, \"ORACLE.run120\": {\"accuracy\": 0.15520833333333334, \"source?\": false}, \"ORACLE.run150\": {\"accuracy\": 0.25328125, \"source?\": false}, \"ORACLE.run132\": {\"accuracy\": 0.29635416666666664, \"source?\": false}, \"ORACLE.run144\": {\"accuracy\": 0.28625, \"source?\": false}, \"ORACLE.run114\": {\"accuracy\": 0.32067708333333333, \"source?\": false}}}, \"history\": {\"epoch_indices\": [1, 2, 3, 4, 5], \"train_label_loss\": [0.1973302754486914, 0.13644193282818598, 0.11449779158473021, 0.10443120980075975, 0.09555365817261907], \"source_val_label_loss\": [0.15135584771633148, 0.12197510153055191, 0.10834415256977081, 0.1104787141084671, 0.10332054644823074], \"target_val_label_loss\": [2.5563533306121826, 2.599886655807495, 2.497093915939331, 2.552788734436035, 2.486185073852539], \"source_val_acc_label\": [0.9654692470837752, 0.9716993637327678, 0.9742841993637328, 0.9745824496288441, 0.9755103393425238], \"target_val_acc_label\": [0.28169921875, 0.2698893229166667, 0.2810546875, 0.25442057291666664, 0.26223958333333336]}, \"dataset_metrics\": {\"source\": {\"train\": {\"n_unique_x\": 189012, \"n_unique_y\": 130, \"n_batch/episode\": 6843}, \"val\": {\"n_unique_x\": 40019, \"n_unique_y\": 130, \"n_batch/episode\": 943}, \"test\": {\"n_unique_x\": 40738, \"n_unique_y\": 130, \"n_batch/episode\": 960}}, \"target\": {\"train\": {\"n_unique_x\": 896000, \"n_unique_y\": 16, \"n_batch/episode\": 33600}, \"val\": {\"n_unique_x\": 192000, \"n_unique_y\": 16, \"n_batch/episode\": 4800}, \"test\": {\"n_unique_x\": 192000, \"n_unique_y\": 16, \"n_batch/episode\": 4800}}}}'"
      ]
     },
     "execution_count": 29,
     "metadata": {},
     "output_type": "execute_result"
    }
   ],
   "source": [
    "json.dumps(experiment)"
   ]
  }
 ],
 "metadata": {
  "celltoolbar": "Tags",
  "kernelspec": {
   "display_name": "Python 3 (ipykernel)",
   "language": "python",
   "name": "python3"
  },
  "language_info": {
   "codemirror_mode": {
    "name": "ipython",
    "version": 3
   },
   "file_extension": ".py",
   "mimetype": "text/x-python",
   "name": "python",
   "nbconvert_exporter": "python",
   "pygments_lexer": "ipython3",
   "version": "3.8.12"
  },
  "papermill": {
   "default_parameters": {},
   "duration": 1880.834532,
   "end_time": "2022-03-23T23:16:39.800329",
   "environment_variables": {},
   "exception": null,
   "input_path": "/root/csc500-main/csc500-notebooks/templates/tl_ptn_template.ipynb",
   "output_path": "trial.ipynb",
   "parameters": {
    "parameters": {
     "BEST_MODEL_PATH": "./best_model.pth",
     "NUM_LOGS_PER_EPOCH": 10,
     "criteria_for_best": "target_accuracy",
     "dataset_seed": 154325,
     "datasets": [
      {
       "domain_prefix": "Wisig_",
       "domains": [
        1,
        2,
        3,
        4
       ],
       "episode_transforms": [],
       "labels": [
        "1-10",
        "1-12",
        "1-14",
        "1-16",
        "1-18",
        "1-19",
        "1-8",
        "10-11",
        "10-17",
        "10-4",
        "10-7",
        "11-1",
        "11-10",
        "11-19",
        "11-20",
        "11-4",
        "11-7",
        "12-19",
        "12-20",
        "12-7",
        "13-14",
        "13-18",
        "13-19",
        "13-20",
        "13-3",
        "13-7",
        "14-10",
        "14-11",
        "14-12",
        "14-13",
        "14-14",
        "14-19",
        "14-20",
        "14-7",
        "14-8",
        "14-9",
        "15-1",
        "15-19",
        "15-6",
        "16-1",
        "16-16",
        "16-19",
        "16-20",
        "17-10",
        "17-11",
        "18-1",
        "18-10",
        "18-11",
        "18-12",
        "18-13",
        "18-14",
        "18-15",
        "18-16",
        "18-17",
        "18-19",
        "18-2",
        "18-20",
        "18-4",
        "18-5",
        "18-7",
        "18-8",
        "18-9",
        "19-1",
        "19-10",
        "19-11",
        "19-12",
        "19-13",
        "19-14",
        "19-15",
        "19-19",
        "19-2",
        "19-20",
        "19-3",
        "19-4",
        "19-6",
        "19-7",
        "19-8",
        "19-9",
        "2-1",
        "2-13",
        "2-15",
        "2-3",
        "2-4",
        "2-5",
        "2-6",
        "2-7",
        "2-8",
        "20-1",
        "20-12",
        "20-14",
        "20-15",
        "20-16",
        "20-18",
        "20-19",
        "20-20",
        "20-3",
        "20-4",
        "20-5",
        "20-7",
        "20-8",
        "3-1",
        "3-13",
        "3-18",
        "3-2",
        "3-8",
        "4-1",
        "4-10",
        "4-11",
        "5-1",
        "5-5",
        "6-1",
        "6-15",
        "6-6",
        "7-10",
        "7-11",
        "7-12",
        "7-13",
        "7-14",
        "7-7",
        "7-8",
        "7-9",
        "8-1",
        "8-13",
        "8-14",
        "8-18",
        "8-20",
        "8-3",
        "8-8",
        "9-1",
        "9-7"
       ],
       "num_examples_per_domain_per_label": -1,
       "pickle_path": "/root/csc500-main/datasets/wisig.node3-19.stratified_ds.2022A.pkl",
       "source_or_target_dataset": "source",
       "x_transforms": []
      },
      {
       "domain_prefix": "ORACLE.run1",
       "domains": [
        32,
        38,
        8,
        44,
        14,
        50,
        20,
        26
       ],
       "episode_transforms": [],
       "labels": [
        "3123D52",
        "3123D65",
        "3123D79",
        "3123D80",
        "3123D54",
        "3123D70",
        "3123D7B",
        "3123D89",
        "3123D58",
        "3123D76",
        "3123D7D",
        "3123EFE",
        "3123D64",
        "3123D78",
        "3123D7E",
        "3124E4A"
       ],
       "num_examples_per_domain_per_label": 10000,
       "pickle_path": "/root/csc500-main/datasets/oracle.Run1_10kExamples_stratified_ds.2022A.pkl",
       "source_or_target_dataset": "target",
       "x_transforms": []
      }
     ],
     "device": "cuda",
     "experiment_name": "tl_1v2:wisig-oracle.run1",
     "lr": 0.0001,
     "n_epoch": 50,
     "n_query": 2,
     "n_shot": 3,
     "n_way": 16,
     "patience": 3,
     "seed": 154325,
     "test_k_factor": 2,
     "torch_default_dtype": "torch.float32",
     "train_k_factor": 3,
     "val_k_factor": 2,
     "x_net": [
      {
       "class": "nnReshape",
       "kargs": {
        "shape": [
         -1,
         1,
         2,
         256
        ]
       }
      },
      {
       "class": "Conv2d",
       "kargs": {
        "bias": false,
        "in_channels": 1,
        "kernel_size": [
         1,
         7
        ],
        "out_channels": 256,
        "padding": [
         0,
         3
        ]
       }
      },
      {
       "class": "ReLU",
       "kargs": {
        "inplace": true
       }
      },
      {
       "class": "BatchNorm2d",
       "kargs": {
        "num_features": 256
       }
      },
      {
       "class": "Conv2d",
       "kargs": {
        "bias": true,
        "in_channels": 256,
        "kernel_size": [
         2,
         7
        ],
        "out_channels": 80,
        "padding": [
         0,
         3
        ]
       }
      },
      {
       "class": "ReLU",
       "kargs": {
        "inplace": true
       }
      },
      {
       "class": "BatchNorm2d",
       "kargs": {
        "num_features": 80
       }
      },
      {
       "class": "Flatten",
       "kargs": {}
      },
      {
       "class": "Linear",
       "kargs": {
        "in_features": 20480,
        "out_features": 256
       }
      },
      {
       "class": "ReLU",
       "kargs": {
        "inplace": true
       }
      },
      {
       "class": "BatchNorm1d",
       "kargs": {
        "num_features": 256
       }
      },
      {
       "class": "Linear",
       "kargs": {
        "in_features": 256,
        "out_features": 256
       }
      }
     ]
    }
   },
   "start_time": "2022-03-23T22:45:18.965797",
   "version": "2.3.4"
  }
 },
 "nbformat": 4,
 "nbformat_minor": 5
}