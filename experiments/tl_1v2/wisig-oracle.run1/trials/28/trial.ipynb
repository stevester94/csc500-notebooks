{
 "cells": [
  {
   "cell_type": "markdown",
   "id": "9fea5f46",
   "metadata": {
    "papermill": {
     "duration": 0.033698,
     "end_time": "2022-03-24T08:51:45.896404",
     "exception": false,
     "start_time": "2022-03-24T08:51:45.862706",
     "status": "completed"
    },
    "tags": []
   },
   "source": [
    "# Transfer Learning Template"
   ]
  },
  {
   "cell_type": "code",
   "execution_count": 1,
   "id": "0902182a",
   "metadata": {
    "execution": {
     "iopub.execute_input": "2022-03-24T08:51:45.960639Z",
     "iopub.status.busy": "2022-03-24T08:51:45.959794Z",
     "iopub.status.idle": "2022-03-24T08:51:48.439143Z",
     "shell.execute_reply": "2022-03-24T08:51:48.438266Z"
    },
    "papermill": {
     "duration": 2.517553,
     "end_time": "2022-03-24T08:51:48.439329",
     "exception": false,
     "start_time": "2022-03-24T08:51:45.921776",
     "status": "completed"
    },
    "tags": []
   },
   "outputs": [],
   "source": [
    "%load_ext autoreload\n",
    "%autoreload 2\n",
    "%matplotlib inline\n",
    "\n",
    "    \n",
    "import os, json, sys, time, random\n",
    "import numpy as np\n",
    "import torch\n",
    "from torch.optim import Adam\n",
    "from  easydict import EasyDict\n",
    "import matplotlib.pyplot as plt\n",
    "\n",
    "from steves_models.steves_ptn import Steves_Prototypical_Network\n",
    "\n",
    "from steves_utils.lazy_iterable_wrapper import Lazy_Iterable_Wrapper\n",
    "from steves_utils.iterable_aggregator import Iterable_Aggregator\n",
    "from steves_utils.ptn_train_eval_test_jig import  PTN_Train_Eval_Test_Jig\n",
    "from steves_utils.torch_sequential_builder import build_sequential\n",
    "from steves_utils.torch_utils import get_dataset_metrics, ptn_confusion_by_domain_over_dataloader\n",
    "from steves_utils.utils_v2 import (per_domain_accuracy_from_confusion, get_datasets_base_path)\n",
    "from steves_utils.PTN.utils import independent_accuracy_assesment\n",
    "\n",
    "from torch.utils.data import DataLoader\n",
    "\n",
    "from steves_utils.stratified_dataset.episodic_accessor import Episodic_Accessor_Factory\n",
    "\n",
    "from steves_utils.ptn_do_report import (\n",
    "    get_loss_curve,\n",
    "    get_results_table,\n",
    "    get_parameters_table,\n",
    "    get_domain_accuracies,\n",
    ")\n",
    "\n",
    "from steves_utils.transforms import get_chained_transform"
   ]
  },
  {
   "cell_type": "markdown",
   "id": "41c840b4",
   "metadata": {
    "papermill": {
     "duration": 0.019498,
     "end_time": "2022-03-24T08:51:48.483674",
     "exception": false,
     "start_time": "2022-03-24T08:51:48.464176",
     "status": "completed"
    },
    "tags": []
   },
   "source": [
    "# Allowed Parameters\n",
    "These are allowed parameters, not defaults\n",
    "Each of these values need to be present in the injected parameters (the notebook will raise an exception if they are not present)\n",
    "\n",
    "Papermill uses the cell tag \"parameters\" to inject the real parameters below this cell.\n",
    "Enable tags to see what I mean"
   ]
  },
  {
   "cell_type": "code",
   "execution_count": 2,
   "id": "fd44eb83",
   "metadata": {
    "execution": {
     "iopub.execute_input": "2022-03-24T08:51:48.527193Z",
     "iopub.status.busy": "2022-03-24T08:51:48.526815Z",
     "iopub.status.idle": "2022-03-24T08:51:48.548393Z",
     "shell.execute_reply": "2022-03-24T08:51:48.547586Z"
    },
    "papermill": {
     "duration": 0.045451,
     "end_time": "2022-03-24T08:51:48.548548",
     "exception": false,
     "start_time": "2022-03-24T08:51:48.503097",
     "status": "completed"
    },
    "tags": []
   },
   "outputs": [],
   "source": [
    "required_parameters = {\n",
    "    \"experiment_name\",\n",
    "    \"lr\",\n",
    "    \"device\",\n",
    "    \"seed\",\n",
    "    \"dataset_seed\",\n",
    "    \"n_shot\",\n",
    "    \"n_query\",\n",
    "    \"n_way\",\n",
    "    \"train_k_factor\",\n",
    "    \"val_k_factor\",\n",
    "    \"test_k_factor\",\n",
    "    \"n_epoch\",\n",
    "    \"patience\",\n",
    "    \"criteria_for_best\",\n",
    "    \"x_net\",\n",
    "    \"datasets\",\n",
    "    \"torch_default_dtype\",\n",
    "    \"NUM_LOGS_PER_EPOCH\",\n",
    "    \"BEST_MODEL_PATH\",\n",
    "    \"x_shape\",\n",
    "}"
   ]
  },
  {
   "cell_type": "code",
   "execution_count": 3,
   "id": "fa3f0049",
   "metadata": {
    "execution": {
     "iopub.execute_input": "2022-03-24T08:51:48.610122Z",
     "iopub.status.busy": "2022-03-24T08:51:48.609213Z",
     "iopub.status.idle": "2022-03-24T08:51:48.631111Z",
     "shell.execute_reply": "2022-03-24T08:51:48.630305Z"
    },
    "papermill": {
     "duration": 0.054773,
     "end_time": "2022-03-24T08:51:48.631263",
     "exception": false,
     "start_time": "2022-03-24T08:51:48.576490",
     "status": "completed"
    },
    "tags": [
     "parameters"
    ]
   },
   "outputs": [],
   "source": [
    "from steves_utils.CORES.utils import (\n",
    "    ALL_NODES,\n",
    "    ALL_NODES_MINIMUM_1000_EXAMPLES,\n",
    "    ALL_DAYS\n",
    ")\n",
    "\n",
    "from steves_utils.ORACLE.utils_v2 import (\n",
    "    ALL_DISTANCES_FEET_NARROWED,\n",
    "    ALL_RUNS,\n",
    "    ALL_SERIAL_NUMBERS,\n",
    ")\n",
    "\n",
    "standalone_parameters = {}\n",
    "standalone_parameters[\"experiment_name\"] = \"STANDALONE PTN\"\n",
    "standalone_parameters[\"lr\"] = 0.001\n",
    "standalone_parameters[\"device\"] = \"cuda\"\n",
    "\n",
    "standalone_parameters[\"seed\"] = 1337\n",
    "standalone_parameters[\"dataset_seed\"] = 1337\n",
    "\n",
    "standalone_parameters[\"n_way\"] = 8\n",
    "standalone_parameters[\"n_shot\"] = 3\n",
    "standalone_parameters[\"n_query\"]  = 2\n",
    "standalone_parameters[\"train_k_factor\"] = 1\n",
    "standalone_parameters[\"val_k_factor\"] = 2\n",
    "standalone_parameters[\"test_k_factor\"] = 2\n",
    "\n",
    "\n",
    "standalone_parameters[\"n_epoch\"] = 50\n",
    "\n",
    "standalone_parameters[\"patience\"] = 10\n",
    "standalone_parameters[\"criteria_for_best\"] = \"source_loss\"\n",
    "\n",
    "standalone_parameters[\"datasets\"] = [\n",
    "    {\n",
    "        \"labels\": ALL_SERIAL_NUMBERS,\n",
    "        \"domains\": ALL_DISTANCES_FEET_NARROWED,\n",
    "        \"num_examples_per_domain_per_label\": 100,\n",
    "        \"pickle_path\": os.path.join(get_datasets_base_path(), \"oracle.Run1_framed_2000Examples_stratified_ds.2022A.pkl\"),\n",
    "        \"source_or_target_dataset\": \"source\",\n",
    "        \"x_transforms\": [\"unit_mag\", \"minus_two\"],\n",
    "        \"episode_transforms\": [],\n",
    "        \"domain_prefix\": \"ORACLE_\"\n",
    "    },\n",
    "    {\n",
    "        \"labels\": ALL_NODES,\n",
    "        \"domains\": ALL_DAYS,\n",
    "        \"num_examples_per_domain_per_label\": 100,\n",
    "        \"pickle_path\": os.path.join(get_datasets_base_path(), \"cores.stratified_ds.2022A.pkl\"),\n",
    "        \"source_or_target_dataset\": \"target\",\n",
    "        \"x_transforms\": [\"unit_power\", \"times_zero\"],\n",
    "        \"episode_transforms\": [],\n",
    "        \"domain_prefix\": \"CORES_\"\n",
    "    }   \n",
    "]\n",
    "\n",
    "standalone_parameters[\"torch_default_dtype\"] = \"torch.float32\" \n",
    "\n",
    "\n",
    "\n",
    "standalone_parameters[\"x_net\"] =     [\n",
    "    {\"class\": \"nnReshape\", \"kargs\": {\"shape\":[-1, 1, 2, 256]}},\n",
    "    {\"class\": \"Conv2d\", \"kargs\": { \"in_channels\":1, \"out_channels\":256, \"kernel_size\":(1,7), \"bias\":False, \"padding\":(0,3), },},\n",
    "    {\"class\": \"ReLU\", \"kargs\": {\"inplace\": True}},\n",
    "    {\"class\": \"BatchNorm2d\", \"kargs\": {\"num_features\":256}},\n",
    "\n",
    "    {\"class\": \"Conv2d\", \"kargs\": { \"in_channels\":256, \"out_channels\":80, \"kernel_size\":(2,7), \"bias\":True, \"padding\":(0,3), },},\n",
    "    {\"class\": \"ReLU\", \"kargs\": {\"inplace\": True}},\n",
    "    {\"class\": \"BatchNorm2d\", \"kargs\": {\"num_features\":80}},\n",
    "    {\"class\": \"Flatten\", \"kargs\": {}},\n",
    "\n",
    "    {\"class\": \"Linear\", \"kargs\": {\"in_features\": 80*256, \"out_features\": 256}}, # 80 units per IQ pair\n",
    "    {\"class\": \"ReLU\", \"kargs\": {\"inplace\": True}},\n",
    "    {\"class\": \"BatchNorm1d\", \"kargs\": {\"num_features\":256}},\n",
    "\n",
    "    {\"class\": \"Linear\", \"kargs\": {\"in_features\": 256, \"out_features\": 256}},\n",
    "]\n",
    "\n",
    "# Parameters relevant to results\n",
    "# These parameters will basically never need to change\n",
    "standalone_parameters[\"NUM_LOGS_PER_EPOCH\"] = 10\n",
    "standalone_parameters[\"BEST_MODEL_PATH\"] = \"./best_model.pth\"\n",
    "\n",
    "\n",
    "\n",
    "\n"
   ]
  },
  {
   "cell_type": "code",
   "execution_count": 4,
   "id": "8f3f6ec3",
   "metadata": {
    "execution": {
     "iopub.execute_input": "2022-03-24T08:51:48.695882Z",
     "iopub.status.busy": "2022-03-24T08:51:48.694855Z",
     "iopub.status.idle": "2022-03-24T08:51:48.717737Z",
     "shell.execute_reply": "2022-03-24T08:51:48.718402Z"
    },
    "papermill": {
     "duration": 0.058766,
     "end_time": "2022-03-24T08:51:48.718579",
     "exception": false,
     "start_time": "2022-03-24T08:51:48.659813",
     "status": "completed"
    },
    "tags": [
     "injected-parameters"
    ]
   },
   "outputs": [],
   "source": [
    "# Parameters\n",
    "parameters = {\n",
    "    \"experiment_name\": \"tl_1v2:wisig-oracle.run1\",\n",
    "    \"device\": \"cuda\",\n",
    "    \"lr\": 0.0001,\n",
    "    \"n_shot\": 3,\n",
    "    \"n_query\": 2,\n",
    "    \"train_k_factor\": 3,\n",
    "    \"val_k_factor\": 2,\n",
    "    \"test_k_factor\": 2,\n",
    "    \"torch_default_dtype\": \"torch.float32\",\n",
    "    \"n_epoch\": 50,\n",
    "    \"patience\": 3,\n",
    "    \"criteria_for_best\": \"target_accuracy\",\n",
    "    \"x_net\": [\n",
    "        {\"class\": \"nnReshape\", \"kargs\": {\"shape\": [-1, 1, 2, 256]}},\n",
    "        {\n",
    "            \"class\": \"Conv2d\",\n",
    "            \"kargs\": {\n",
    "                \"in_channels\": 1,\n",
    "                \"out_channels\": 256,\n",
    "                \"kernel_size\": [1, 7],\n",
    "                \"bias\": False,\n",
    "                \"padding\": [0, 3],\n",
    "            },\n",
    "        },\n",
    "        {\"class\": \"ReLU\", \"kargs\": {\"inplace\": True}},\n",
    "        {\"class\": \"BatchNorm2d\", \"kargs\": {\"num_features\": 256}},\n",
    "        {\n",
    "            \"class\": \"Conv2d\",\n",
    "            \"kargs\": {\n",
    "                \"in_channels\": 256,\n",
    "                \"out_channels\": 80,\n",
    "                \"kernel_size\": [2, 7],\n",
    "                \"bias\": True,\n",
    "                \"padding\": [0, 3],\n",
    "            },\n",
    "        },\n",
    "        {\"class\": \"ReLU\", \"kargs\": {\"inplace\": True}},\n",
    "        {\"class\": \"BatchNorm2d\", \"kargs\": {\"num_features\": 80}},\n",
    "        {\"class\": \"Flatten\", \"kargs\": {}},\n",
    "        {\"class\": \"Linear\", \"kargs\": {\"in_features\": 20480, \"out_features\": 256}},\n",
    "        {\"class\": \"ReLU\", \"kargs\": {\"inplace\": True}},\n",
    "        {\"class\": \"BatchNorm1d\", \"kargs\": {\"num_features\": 256}},\n",
    "        {\"class\": \"Linear\", \"kargs\": {\"in_features\": 256, \"out_features\": 256}},\n",
    "    ],\n",
    "    \"NUM_LOGS_PER_EPOCH\": 10,\n",
    "    \"BEST_MODEL_PATH\": \"./best_model.pth\",\n",
    "    \"n_way\": 16,\n",
    "    \"datasets\": [\n",
    "        {\n",
    "            \"labels\": [\n",
    "                \"1-10\",\n",
    "                \"1-12\",\n",
    "                \"1-14\",\n",
    "                \"1-16\",\n",
    "                \"1-18\",\n",
    "                \"1-19\",\n",
    "                \"1-8\",\n",
    "                \"10-11\",\n",
    "                \"10-17\",\n",
    "                \"10-4\",\n",
    "                \"10-7\",\n",
    "                \"11-1\",\n",
    "                \"11-10\",\n",
    "                \"11-19\",\n",
    "                \"11-20\",\n",
    "                \"11-4\",\n",
    "                \"11-7\",\n",
    "                \"12-19\",\n",
    "                \"12-20\",\n",
    "                \"12-7\",\n",
    "                \"13-14\",\n",
    "                \"13-18\",\n",
    "                \"13-19\",\n",
    "                \"13-20\",\n",
    "                \"13-3\",\n",
    "                \"13-7\",\n",
    "                \"14-10\",\n",
    "                \"14-11\",\n",
    "                \"14-12\",\n",
    "                \"14-13\",\n",
    "                \"14-14\",\n",
    "                \"14-19\",\n",
    "                \"14-20\",\n",
    "                \"14-7\",\n",
    "                \"14-8\",\n",
    "                \"14-9\",\n",
    "                \"15-1\",\n",
    "                \"15-19\",\n",
    "                \"15-6\",\n",
    "                \"16-1\",\n",
    "                \"16-16\",\n",
    "                \"16-19\",\n",
    "                \"16-20\",\n",
    "                \"17-10\",\n",
    "                \"17-11\",\n",
    "                \"18-1\",\n",
    "                \"18-10\",\n",
    "                \"18-11\",\n",
    "                \"18-12\",\n",
    "                \"18-13\",\n",
    "                \"18-14\",\n",
    "                \"18-15\",\n",
    "                \"18-16\",\n",
    "                \"18-17\",\n",
    "                \"18-19\",\n",
    "                \"18-2\",\n",
    "                \"18-20\",\n",
    "                \"18-4\",\n",
    "                \"18-5\",\n",
    "                \"18-7\",\n",
    "                \"18-8\",\n",
    "                \"18-9\",\n",
    "                \"19-1\",\n",
    "                \"19-10\",\n",
    "                \"19-11\",\n",
    "                \"19-12\",\n",
    "                \"19-13\",\n",
    "                \"19-14\",\n",
    "                \"19-15\",\n",
    "                \"19-19\",\n",
    "                \"19-2\",\n",
    "                \"19-20\",\n",
    "                \"19-3\",\n",
    "                \"19-4\",\n",
    "                \"19-6\",\n",
    "                \"19-7\",\n",
    "                \"19-8\",\n",
    "                \"19-9\",\n",
    "                \"2-1\",\n",
    "                \"2-13\",\n",
    "                \"2-15\",\n",
    "                \"2-3\",\n",
    "                \"2-4\",\n",
    "                \"2-5\",\n",
    "                \"2-6\",\n",
    "                \"2-7\",\n",
    "                \"2-8\",\n",
    "                \"20-1\",\n",
    "                \"20-12\",\n",
    "                \"20-14\",\n",
    "                \"20-15\",\n",
    "                \"20-16\",\n",
    "                \"20-18\",\n",
    "                \"20-19\",\n",
    "                \"20-20\",\n",
    "                \"20-3\",\n",
    "                \"20-4\",\n",
    "                \"20-5\",\n",
    "                \"20-7\",\n",
    "                \"20-8\",\n",
    "                \"3-1\",\n",
    "                \"3-13\",\n",
    "                \"3-18\",\n",
    "                \"3-2\",\n",
    "                \"3-8\",\n",
    "                \"4-1\",\n",
    "                \"4-10\",\n",
    "                \"4-11\",\n",
    "                \"5-1\",\n",
    "                \"5-5\",\n",
    "                \"6-1\",\n",
    "                \"6-15\",\n",
    "                \"6-6\",\n",
    "                \"7-10\",\n",
    "                \"7-11\",\n",
    "                \"7-12\",\n",
    "                \"7-13\",\n",
    "                \"7-14\",\n",
    "                \"7-7\",\n",
    "                \"7-8\",\n",
    "                \"7-9\",\n",
    "                \"8-1\",\n",
    "                \"8-13\",\n",
    "                \"8-14\",\n",
    "                \"8-18\",\n",
    "                \"8-20\",\n",
    "                \"8-3\",\n",
    "                \"8-8\",\n",
    "                \"9-1\",\n",
    "                \"9-7\",\n",
    "            ],\n",
    "            \"domains\": [1, 2, 3, 4],\n",
    "            \"num_examples_per_domain_per_label\": -1,\n",
    "            \"pickle_path\": \"/root/csc500-main/datasets/wisig.node3-19.stratified_ds.2022A.pkl\",\n",
    "            \"source_or_target_dataset\": \"target\",\n",
    "            \"x_transforms\": [\"unit_mag\"],\n",
    "            \"episode_transforms\": [],\n",
    "            \"domain_prefix\": \"Wisig_\",\n",
    "        },\n",
    "        {\n",
    "            \"labels\": [\n",
    "                \"3123D52\",\n",
    "                \"3123D65\",\n",
    "                \"3123D79\",\n",
    "                \"3123D80\",\n",
    "                \"3123D54\",\n",
    "                \"3123D70\",\n",
    "                \"3123D7B\",\n",
    "                \"3123D89\",\n",
    "                \"3123D58\",\n",
    "                \"3123D76\",\n",
    "                \"3123D7D\",\n",
    "                \"3123EFE\",\n",
    "                \"3123D64\",\n",
    "                \"3123D78\",\n",
    "                \"3123D7E\",\n",
    "                \"3124E4A\",\n",
    "            ],\n",
    "            \"domains\": [32, 38, 8, 44, 14, 50, 20, 26],\n",
    "            \"num_examples_per_domain_per_label\": 10000,\n",
    "            \"pickle_path\": \"/root/csc500-main/datasets/oracle.Run1_10kExamples_stratified_ds.2022A.pkl\",\n",
    "            \"source_or_target_dataset\": \"source\",\n",
    "            \"x_transforms\": [\"unit_mag\"],\n",
    "            \"episode_transforms\": [],\n",
    "            \"domain_prefix\": \"ORACLE.run1\",\n",
    "        },\n",
    "    ],\n",
    "    \"dataset_seed\": 500,\n",
    "    \"seed\": 500,\n",
    "}\n"
   ]
  },
  {
   "cell_type": "code",
   "execution_count": 5,
   "id": "8fa1cc33",
   "metadata": {
    "execution": {
     "iopub.execute_input": "2022-03-24T08:51:48.772140Z",
     "iopub.status.busy": "2022-03-24T08:51:48.771769Z",
     "iopub.status.idle": "2022-03-24T08:51:48.795520Z",
     "shell.execute_reply": "2022-03-24T08:51:48.794853Z"
    },
    "papermill": {
     "duration": 0.049624,
     "end_time": "2022-03-24T08:51:48.795693",
     "exception": false,
     "start_time": "2022-03-24T08:51:48.746069",
     "status": "completed"
    },
    "tags": []
   },
   "outputs": [],
   "source": [
    "# Set this to True if you want to run this template directly\n",
    "STANDALONE = False\n",
    "if STANDALONE:\n",
    "    print(\"parameters not injected, running with standalone_parameters\")\n",
    "    parameters = standalone_parameters\n",
    "\n",
    "if not 'parameters' in locals() and not 'parameters' in globals():\n",
    "    raise Exception(\"Parameter injection failed\")\n",
    "\n",
    "#Use an easy dict for all the parameters\n",
    "p = EasyDict(parameters)\n",
    "\n",
    "if \"x_shape\" not in p:\n",
    "    p.x_shape = [2,256] # Default to this if we dont supply x_shape\n",
    "\n",
    "\n",
    "supplied_keys = set(p.keys())\n",
    "\n",
    "if  supplied_keys != required_parameters:\n",
    "    print(\"Parameters are incorrect\")\n",
    "    if len(supplied_keys - required_parameters)>0: print(\"Shouldn't have:\", str(supplied_keys - required_parameters))\n",
    "    if len(required_parameters - supplied_keys)>0: print(\"Need to have:\", str(required_parameters - supplied_keys))\n",
    "    raise RuntimeError(\"Parameters are incorrect\")"
   ]
  },
  {
   "cell_type": "code",
   "execution_count": 6,
   "id": "3a028d58",
   "metadata": {
    "execution": {
     "iopub.execute_input": "2022-03-24T08:51:48.847242Z",
     "iopub.status.busy": "2022-03-24T08:51:48.846695Z",
     "iopub.status.idle": "2022-03-24T08:51:48.872078Z",
     "shell.execute_reply": "2022-03-24T08:51:48.871254Z"
    },
    "papermill": {
     "duration": 0.050777,
     "end_time": "2022-03-24T08:51:48.872237",
     "exception": false,
     "start_time": "2022-03-24T08:51:48.821460",
     "status": "completed"
    },
    "tags": []
   },
   "outputs": [],
   "source": [
    "###################################\n",
    "# Set the RNGs and make it all deterministic\n",
    "###################################\n",
    "np.random.seed(p.seed)\n",
    "random.seed(p.seed)\n",
    "torch.manual_seed(p.seed)\n",
    "\n",
    "torch.use_deterministic_algorithms(True) "
   ]
  },
  {
   "cell_type": "code",
   "execution_count": 7,
   "id": "b691acf6",
   "metadata": {
    "execution": {
     "iopub.execute_input": "2022-03-24T08:51:48.922671Z",
     "iopub.status.busy": "2022-03-24T08:51:48.922140Z",
     "iopub.status.idle": "2022-03-24T08:51:48.944079Z",
     "shell.execute_reply": "2022-03-24T08:51:48.943338Z"
    },
    "papermill": {
     "duration": 0.04565,
     "end_time": "2022-03-24T08:51:48.944227",
     "exception": false,
     "start_time": "2022-03-24T08:51:48.898577",
     "status": "completed"
    },
    "tags": []
   },
   "outputs": [],
   "source": [
    "###########################################\n",
    "# The stratified datasets honor this\n",
    "###########################################\n",
    "torch.set_default_dtype(eval(p.torch_default_dtype))"
   ]
  },
  {
   "cell_type": "code",
   "execution_count": 8,
   "id": "b5fba671",
   "metadata": {
    "execution": {
     "iopub.execute_input": "2022-03-24T08:51:48.994231Z",
     "iopub.status.busy": "2022-03-24T08:51:48.993876Z",
     "iopub.status.idle": "2022-03-24T08:51:49.044732Z",
     "shell.execute_reply": "2022-03-24T08:51:49.044040Z"
    },
    "papermill": {
     "duration": 0.0727,
     "end_time": "2022-03-24T08:51:49.044880",
     "exception": false,
     "start_time": "2022-03-24T08:51:48.972180",
     "status": "completed"
    },
    "tags": []
   },
   "outputs": [],
   "source": [
    "###################################\n",
    "# Build the network(s)\n",
    "# Note: It's critical to do this AFTER setting the RNG\n",
    "###################################\n",
    "x_net = build_sequential(p.x_net)"
   ]
  },
  {
   "cell_type": "code",
   "execution_count": 9,
   "id": "5d7e61cc",
   "metadata": {
    "execution": {
     "iopub.execute_input": "2022-03-24T08:51:49.092218Z",
     "iopub.status.busy": "2022-03-24T08:51:49.091864Z",
     "iopub.status.idle": "2022-03-24T08:51:49.118019Z",
     "shell.execute_reply": "2022-03-24T08:51:49.117324Z"
    },
    "papermill": {
     "duration": 0.049573,
     "end_time": "2022-03-24T08:51:49.118166",
     "exception": false,
     "start_time": "2022-03-24T08:51:49.068593",
     "status": "completed"
    },
    "tags": []
   },
   "outputs": [],
   "source": [
    "start_time_secs = time.time()"
   ]
  },
  {
   "cell_type": "code",
   "execution_count": 10,
   "id": "c6b67dfd",
   "metadata": {
    "execution": {
     "iopub.execute_input": "2022-03-24T08:51:49.166705Z",
     "iopub.status.busy": "2022-03-24T08:51:49.166346Z",
     "iopub.status.idle": "2022-03-24T08:51:49.185503Z",
     "shell.execute_reply": "2022-03-24T08:51:49.184713Z"
    },
    "papermill": {
     "duration": 0.042084,
     "end_time": "2022-03-24T08:51:49.185651",
     "exception": false,
     "start_time": "2022-03-24T08:51:49.143567",
     "status": "completed"
    },
    "tags": []
   },
   "outputs": [],
   "source": [
    "p.domains_source = []\n",
    "p.domains_target = []\n",
    "\n",
    "\n",
    "train_original_source = []\n",
    "val_original_source   = []\n",
    "test_original_source  = []\n",
    "\n",
    "train_original_target = []\n",
    "val_original_target   = []\n",
    "test_original_target  = []"
   ]
  },
  {
   "cell_type": "code",
   "execution_count": 11,
   "id": "e3d9c3d3",
   "metadata": {
    "execution": {
     "iopub.execute_input": "2022-03-24T08:51:49.233708Z",
     "iopub.status.busy": "2022-03-24T08:51:49.233246Z",
     "iopub.status.idle": "2022-03-24T08:51:49.250272Z",
     "shell.execute_reply": "2022-03-24T08:51:49.249546Z"
    },
    "papermill": {
     "duration": 0.039047,
     "end_time": "2022-03-24T08:51:49.250420",
     "exception": false,
     "start_time": "2022-03-24T08:51:49.211373",
     "status": "completed"
    },
    "tags": []
   },
   "outputs": [],
   "source": [
    "# global_x_transform_func = lambda x: normalize(x.to(torch.get_default_dtype()), \"unit_power\") # unit_power, unit_mag\n",
    "# global_x_transform_func = lambda x: normalize(x, \"unit_power\") # unit_power, unit_mag"
   ]
  },
  {
   "cell_type": "code",
   "execution_count": 12,
   "id": "acb78fd2",
   "metadata": {
    "execution": {
     "iopub.execute_input": "2022-03-24T08:51:49.302339Z",
     "iopub.status.busy": "2022-03-24T08:51:49.301964Z",
     "iopub.status.idle": "2022-03-24T08:51:49.319063Z",
     "shell.execute_reply": "2022-03-24T08:51:49.319745Z"
    },
    "papermill": {
     "duration": 0.04464,
     "end_time": "2022-03-24T08:51:49.319925",
     "exception": false,
     "start_time": "2022-03-24T08:51:49.275285",
     "status": "completed"
    },
    "tags": []
   },
   "outputs": [],
   "source": [
    "def add_dataset(\n",
    "    labels,\n",
    "    domains,\n",
    "    pickle_path,\n",
    "    x_transforms,\n",
    "    episode_transforms,\n",
    "    domain_prefix,\n",
    "    num_examples_per_domain_per_label,\n",
    "    source_or_target_dataset:str,\n",
    "    iterator_seed=p.seed,\n",
    "    dataset_seed=p.dataset_seed,\n",
    "    n_shot=p.n_shot,\n",
    "    n_way=p.n_way,\n",
    "    n_query=p.n_query,\n",
    "    train_val_test_k_factors=(p.train_k_factor,p.val_k_factor,p.test_k_factor),\n",
    "):\n",
    "   \n",
    "    if x_transforms == []: x_transform = None\n",
    "    else: x_transform = get_chained_transform(x_transforms)\n",
    "    \n",
    "    if episode_transforms == []: episode_transform = None\n",
    "    else: raise Exception(\"episode_transforms not implemented\")\n",
    "    \n",
    "    episode_transform = lambda tup, _prefix=domain_prefix: (_prefix + str(tup[0]), tup[1])\n",
    "\n",
    "\n",
    "    eaf = Episodic_Accessor_Factory(\n",
    "        labels=labels,\n",
    "        domains=domains,\n",
    "        num_examples_per_domain_per_label=num_examples_per_domain_per_label,\n",
    "        iterator_seed=iterator_seed,\n",
    "        dataset_seed=dataset_seed,\n",
    "        n_shot=n_shot,\n",
    "        n_way=n_way,\n",
    "        n_query=n_query,\n",
    "        train_val_test_k_factors=train_val_test_k_factors,\n",
    "        pickle_path=pickle_path,\n",
    "        x_transform_func=x_transform,\n",
    "    )\n",
    "\n",
    "    train, val, test = eaf.get_train(), eaf.get_val(), eaf.get_test()\n",
    "    train = Lazy_Iterable_Wrapper(train, episode_transform)\n",
    "    val = Lazy_Iterable_Wrapper(val, episode_transform)\n",
    "    test = Lazy_Iterable_Wrapper(test, episode_transform)\n",
    "\n",
    "    if source_or_target_dataset==\"source\":\n",
    "        train_original_source.append(train)\n",
    "        val_original_source.append(val)\n",
    "        test_original_source.append(test)\n",
    "\n",
    "        p.domains_source.extend(\n",
    "            [domain_prefix + str(u) for u in domains]\n",
    "        )\n",
    "    elif source_or_target_dataset==\"target\":\n",
    "        train_original_target.append(train)\n",
    "        val_original_target.append(val)\n",
    "        test_original_target.append(test)\n",
    "        p.domains_target.extend(\n",
    "            [domain_prefix + str(u) for u in domains]\n",
    "        )\n",
    "    else:\n",
    "        raise Exception(f\"invalid source_or_target_dataset: {source_or_target_dataset}\")\n",
    "    "
   ]
  },
  {
   "cell_type": "code",
   "execution_count": 13,
   "id": "fe266617",
   "metadata": {
    "execution": {
     "iopub.execute_input": "2022-03-24T08:51:49.372177Z",
     "iopub.status.busy": "2022-03-24T08:51:49.371665Z",
     "iopub.status.idle": "2022-03-24T08:53:59.161923Z",
     "shell.execute_reply": "2022-03-24T08:53:59.161194Z"
    },
    "papermill": {
     "duration": 129.813625,
     "end_time": "2022-03-24T08:53:59.162139",
     "exception": false,
     "start_time": "2022-03-24T08:51:49.348514",
     "status": "completed"
    },
    "tags": []
   },
   "outputs": [],
   "source": [
    "for ds in p.datasets:\n",
    "    add_dataset(**ds)"
   ]
  },
  {
   "cell_type": "code",
   "execution_count": 14,
   "id": "b90d65ac",
   "metadata": {
    "execution": {
     "iopub.execute_input": "2022-03-24T08:53:59.217149Z",
     "iopub.status.busy": "2022-03-24T08:53:59.216473Z",
     "iopub.status.idle": "2022-03-24T08:53:59.242863Z",
     "shell.execute_reply": "2022-03-24T08:53:59.242020Z"
    },
    "papermill": {
     "duration": 0.052607,
     "end_time": "2022-03-24T08:53:59.243035",
     "exception": false,
     "start_time": "2022-03-24T08:53:59.190428",
     "status": "completed"
    },
    "tags": []
   },
   "outputs": [],
   "source": [
    "# from steves_utils.CORES.utils import (\n",
    "#     ALL_NODES,\n",
    "#     ALL_NODES_MINIMUM_1000_EXAMPLES,\n",
    "#     ALL_DAYS\n",
    "# )\n",
    "\n",
    "# add_dataset(\n",
    "#     labels=ALL_NODES,\n",
    "#     domains = ALL_DAYS,\n",
    "#     num_examples_per_domain_per_label=100,\n",
    "#     pickle_path=os.path.join(get_datasets_base_path(), \"cores.stratified_ds.2022A.pkl\"),\n",
    "#     source_or_target_dataset=\"target\",\n",
    "#     x_transform_func=global_x_transform_func,\n",
    "#     domain_modifier=lambda u: f\"cores_{u}\"\n",
    "# )"
   ]
  },
  {
   "cell_type": "code",
   "execution_count": 15,
   "id": "76db484d",
   "metadata": {
    "execution": {
     "iopub.execute_input": "2022-03-24T08:53:59.298907Z",
     "iopub.status.busy": "2022-03-24T08:53:59.297566Z",
     "iopub.status.idle": "2022-03-24T08:53:59.318837Z",
     "shell.execute_reply": "2022-03-24T08:53:59.318046Z"
    },
    "papermill": {
     "duration": 0.047184,
     "end_time": "2022-03-24T08:53:59.319013",
     "exception": false,
     "start_time": "2022-03-24T08:53:59.271829",
     "status": "completed"
    },
    "tags": []
   },
   "outputs": [],
   "source": [
    "# from steves_utils.ORACLE.utils_v2 import (\n",
    "#     ALL_DISTANCES_FEET,\n",
    "#     ALL_RUNS,\n",
    "#     ALL_SERIAL_NUMBERS,\n",
    "# )\n",
    "\n",
    "\n",
    "# add_dataset(\n",
    "#     labels=ALL_SERIAL_NUMBERS,\n",
    "#     domains = list(set(ALL_DISTANCES_FEET) - {2,62}),\n",
    "#     num_examples_per_domain_per_label=100,\n",
    "#     pickle_path=os.path.join(get_datasets_base_path(), \"oracle.Run2_framed_2000Examples_stratified_ds.2022A.pkl\"),\n",
    "#     source_or_target_dataset=\"source\",\n",
    "#     x_transform_func=global_x_transform_func,\n",
    "#     domain_modifier=lambda u: f\"oracle1_{u}\"\n",
    "# )\n"
   ]
  },
  {
   "cell_type": "code",
   "execution_count": 16,
   "id": "97dea9d2",
   "metadata": {
    "execution": {
     "iopub.execute_input": "2022-03-24T08:53:59.372387Z",
     "iopub.status.busy": "2022-03-24T08:53:59.371829Z",
     "iopub.status.idle": "2022-03-24T08:53:59.396945Z",
     "shell.execute_reply": "2022-03-24T08:53:59.396144Z"
    },
    "papermill": {
     "duration": 0.050862,
     "end_time": "2022-03-24T08:53:59.397104",
     "exception": false,
     "start_time": "2022-03-24T08:53:59.346242",
     "status": "completed"
    },
    "tags": []
   },
   "outputs": [],
   "source": [
    "# from steves_utils.ORACLE.utils_v2 import (\n",
    "#     ALL_DISTANCES_FEET,\n",
    "#     ALL_RUNS,\n",
    "#     ALL_SERIAL_NUMBERS,\n",
    "# )\n",
    "\n",
    "\n",
    "# add_dataset(\n",
    "#     labels=ALL_SERIAL_NUMBERS,\n",
    "#     domains = list(set(ALL_DISTANCES_FEET) - {2,62,56}),\n",
    "#     num_examples_per_domain_per_label=100,\n",
    "#     pickle_path=os.path.join(get_datasets_base_path(), \"oracle.Run2_framed_2000Examples_stratified_ds.2022A.pkl\"),\n",
    "#     source_or_target_dataset=\"source\",\n",
    "#     x_transform_func=global_x_transform_func,\n",
    "#     domain_modifier=lambda u: f\"oracle2_{u}\"\n",
    "# )"
   ]
  },
  {
   "cell_type": "code",
   "execution_count": 17,
   "id": "6f289866",
   "metadata": {
    "execution": {
     "iopub.execute_input": "2022-03-24T08:53:59.452907Z",
     "iopub.status.busy": "2022-03-24T08:53:59.452511Z",
     "iopub.status.idle": "2022-03-24T08:53:59.477018Z",
     "shell.execute_reply": "2022-03-24T08:53:59.476213Z"
    },
    "papermill": {
     "duration": 0.049588,
     "end_time": "2022-03-24T08:53:59.477177",
     "exception": false,
     "start_time": "2022-03-24T08:53:59.427589",
     "status": "completed"
    },
    "tags": []
   },
   "outputs": [],
   "source": [
    "# add_dataset(\n",
    "#     labels=list(range(19)),\n",
    "#     domains = [0,1,2],\n",
    "#     num_examples_per_domain_per_label=100,\n",
    "#     pickle_path=os.path.join(get_datasets_base_path(), \"metehan.stratified_ds.2022A.pkl\"),\n",
    "#     source_or_target_dataset=\"target\",\n",
    "#     x_transform_func=global_x_transform_func,\n",
    "#     domain_modifier=lambda u: f\"met_{u}\"\n",
    "# )"
   ]
  },
  {
   "cell_type": "code",
   "execution_count": 18,
   "id": "86a863c3",
   "metadata": {
    "execution": {
     "iopub.execute_input": "2022-03-24T08:53:59.530732Z",
     "iopub.status.busy": "2022-03-24T08:53:59.530358Z",
     "iopub.status.idle": "2022-03-24T08:53:59.554328Z",
     "shell.execute_reply": "2022-03-24T08:53:59.553531Z"
    },
    "papermill": {
     "duration": 0.04869,
     "end_time": "2022-03-24T08:53:59.554483",
     "exception": false,
     "start_time": "2022-03-24T08:53:59.505793",
     "status": "completed"
    },
    "tags": []
   },
   "outputs": [],
   "source": [
    "# # from steves_utils.wisig.utils import (\n",
    "# #     ALL_NODES_MINIMUM_100_EXAMPLES,\n",
    "# #     ALL_NODES_MINIMUM_500_EXAMPLES,\n",
    "# #     ALL_NODES_MINIMUM_1000_EXAMPLES,\n",
    "# #     ALL_DAYS\n",
    "# # )\n",
    "\n",
    "# import steves_utils.wisig.utils as wisig\n",
    "\n",
    "\n",
    "# add_dataset(\n",
    "#     labels=wisig.ALL_NODES_MINIMUM_100_EXAMPLES,\n",
    "#     domains = wisig.ALL_DAYS,\n",
    "#     num_examples_per_domain_per_label=100,\n",
    "#     pickle_path=os.path.join(get_datasets_base_path(), \"wisig.node3-19.stratified_ds.2022A.pkl\"),\n",
    "#     source_or_target_dataset=\"target\",\n",
    "#     x_transform_func=global_x_transform_func,\n",
    "#     domain_modifier=lambda u: f\"wisig_{u}\"\n",
    "# )"
   ]
  },
  {
   "cell_type": "code",
   "execution_count": 19,
   "id": "fd5442bc",
   "metadata": {
    "execution": {
     "iopub.execute_input": "2022-03-24T08:53:59.613237Z",
     "iopub.status.busy": "2022-03-24T08:53:59.611879Z",
     "iopub.status.idle": "2022-03-24T08:53:59.635071Z",
     "shell.execute_reply": "2022-03-24T08:53:59.634360Z"
    },
    "papermill": {
     "duration": 0.052866,
     "end_time": "2022-03-24T08:53:59.635230",
     "exception": false,
     "start_time": "2022-03-24T08:53:59.582364",
     "status": "completed"
    },
    "tags": []
   },
   "outputs": [],
   "source": [
    "###################################\n",
    "# Build the dataset\n",
    "###################################\n",
    "train_original_source = Iterable_Aggregator(train_original_source, p.seed)\n",
    "val_original_source = Iterable_Aggregator(val_original_source, p.seed)\n",
    "test_original_source = Iterable_Aggregator(test_original_source, p.seed)\n",
    "\n",
    "\n",
    "train_original_target = Iterable_Aggregator(train_original_target, p.seed)\n",
    "val_original_target = Iterable_Aggregator(val_original_target, p.seed)\n",
    "test_original_target = Iterable_Aggregator(test_original_target, p.seed)\n",
    "\n",
    "# For CNN We only use X and Y. And we only train on the source.\n",
    "# Properly form the data using a transform lambda and Lazy_Iterable_Wrapper. Finally wrap them in a dataloader\n",
    "\n",
    "transform_lambda = lambda ex: ex[1] # Original is (<domain>, <episode>) so we strip down to episode only\n",
    "\n",
    "train_processed_source = Lazy_Iterable_Wrapper(train_original_source, transform_lambda)\n",
    "val_processed_source   = Lazy_Iterable_Wrapper(val_original_source, transform_lambda)\n",
    "test_processed_source  = Lazy_Iterable_Wrapper(test_original_source, transform_lambda)\n",
    "\n",
    "train_processed_target = Lazy_Iterable_Wrapper(train_original_target, transform_lambda)\n",
    "val_processed_target   = Lazy_Iterable_Wrapper(val_original_target, transform_lambda)\n",
    "test_processed_target  = Lazy_Iterable_Wrapper(test_original_target, transform_lambda)\n",
    "\n",
    "datasets = EasyDict({\n",
    "    \"source\": {\n",
    "        \"original\": {\"train\":train_original_source, \"val\":val_original_source, \"test\":test_original_source},\n",
    "        \"processed\": {\"train\":train_processed_source, \"val\":val_processed_source, \"test\":test_processed_source}\n",
    "    },\n",
    "    \"target\": {\n",
    "        \"original\": {\"train\":train_original_target, \"val\":val_original_target, \"test\":test_original_target},\n",
    "        \"processed\": {\"train\":train_processed_target, \"val\":val_processed_target, \"test\":test_processed_target}\n",
    "    },\n",
    "})"
   ]
  },
  {
   "cell_type": "code",
   "execution_count": 20,
   "id": "5b3c01fc",
   "metadata": {
    "execution": {
     "iopub.execute_input": "2022-03-24T08:53:59.692612Z",
     "iopub.status.busy": "2022-03-24T08:53:59.689579Z",
     "iopub.status.idle": "2022-03-24T08:54:32.987432Z",
     "shell.execute_reply": "2022-03-24T08:54:32.988132Z"
    },
    "papermill": {
     "duration": 33.324,
     "end_time": "2022-03-24T08:54:32.988347",
     "exception": false,
     "start_time": "2022-03-24T08:53:59.664347",
     "status": "completed"
    },
    "tags": []
   },
   "outputs": [
    {
     "name": "stdout",
     "output_type": "stream",
     "text": [
      "{'ORACLE.run144', 'ORACLE.run138', 'ORACLE.run150', 'ORACLE.run120', 'ORACLE.run126', 'ORACLE.run114', 'ORACLE.run18', 'ORACLE.run132'}\n"
     ]
    },
    {
     "name": "stdout",
     "output_type": "stream",
     "text": [
      "{'Wisig_3', 'Wisig_1', 'Wisig_4', 'Wisig_2'}\n"
     ]
    },
    {
     "name": "stdout",
     "output_type": "stream",
     "text": [
      "tensor([[[-1.5184,  0.4536, -0.1972,  ...,  1.0057, -0.0789, -0.4141],\n",
      "         [-0.4141,  0.8085,  0.0592,  ...,  1.8931,  0.3352,  1.4395]],\n",
      "\n",
      "        [[-0.0573,  1.6054, -0.1720,  ..., -0.9174, -0.4969,  0.7071],\n",
      "         [ 0.4396, -2.2552, -1.3570,  ...,  0.1147, -1.2232,  0.9174]],\n",
      "\n",
      "        [[ 0.3796,  0.2797, -0.2198,  ...,  0.3196,  0.1998, -0.2397],\n",
      "         [-1.2985, -1.3585,  0.6792,  ...,  0.0599,  0.2597,  0.1398]],\n",
      "\n",
      "        ...,\n",
      "\n",
      "        [[ 1.4444, -0.2015,  0.4703,  ..., -1.1085, -0.1344,  1.3772],\n",
      "         [ 0.2351,  1.9315,  0.1680,  ...,  0.3863, -0.5543, -1.2429]],\n",
      "\n",
      "        [[ 0.7070, -0.8080, -0.2357,  ...,  0.3367,  0.3872,  0.1178],\n",
      "         [ 0.4882, -1.1447,  0.7407,  ..., -1.8517, -0.9763,  0.1178]],\n",
      "\n",
      "        [[ 0.9297,  0.7776, -0.7099,  ...,  0.5747,  0.5747,  1.0818],\n",
      "         [-0.1014, -0.5578, -0.3381,  ...,  0.1521, -0.0169, -0.4733]]])\n"
     ]
    }
   ],
   "source": [
    "from steves_utils.transforms import get_average_magnitude, get_average_power\n",
    "\n",
    "print(set([u for u,_ in val_original_source]))\n",
    "print(set([u for u,_ in val_original_target]))\n",
    "\n",
    "s_x, s_y, q_x, q_y, _ = next(iter(train_processed_source))\n",
    "print(s_x)\n",
    "\n",
    "# for ds in [\n",
    "#     train_processed_source,\n",
    "#     val_processed_source,\n",
    "#     test_processed_source,\n",
    "#     train_processed_target,\n",
    "#     val_processed_target,\n",
    "#     test_processed_target\n",
    "# ]:\n",
    "#     for s_x, s_y, q_x, q_y, _ in ds:\n",
    "#         for X in (s_x, q_x):\n",
    "#             for x in X:\n",
    "#                 assert np.isclose(get_average_magnitude(x.numpy()), 1.0)\n",
    "#                 assert np.isclose(get_average_power(x.numpy()), 1.0)\n",
    "                "
   ]
  },
  {
   "cell_type": "code",
   "execution_count": 21,
   "id": "bbdacba1",
   "metadata": {
    "execution": {
     "iopub.execute_input": "2022-03-24T08:54:33.047071Z",
     "iopub.status.busy": "2022-03-24T08:54:33.046199Z",
     "iopub.status.idle": "2022-03-24T08:54:33.278786Z",
     "shell.execute_reply": "2022-03-24T08:54:33.278047Z"
    },
    "papermill": {
     "duration": 0.261901,
     "end_time": "2022-03-24T08:54:33.278970",
     "exception": false,
     "start_time": "2022-03-24T08:54:33.017069",
     "status": "completed"
    },
    "tags": []
   },
   "outputs": [
    {
     "name": "stdout",
     "output_type": "stream",
     "text": [
      "(2, 256)\n"
     ]
    }
   ],
   "source": [
    "###################################\n",
    "# Build the model\n",
    "###################################\n",
    "# easfsl only wants a tuple for the shape\n",
    "model = Steves_Prototypical_Network(x_net, device=p.device, x_shape=tuple(p.x_shape))\n",
    "optimizer = Adam(params=model.parameters(), lr=p.lr)"
   ]
  },
  {
   "cell_type": "code",
   "execution_count": 22,
   "id": "22b39ac5",
   "metadata": {
    "execution": {
     "iopub.execute_input": "2022-03-24T08:54:33.336553Z",
     "iopub.status.busy": "2022-03-24T08:54:33.336179Z",
     "iopub.status.idle": "2022-03-24T12:38:00.633814Z",
     "shell.execute_reply": "2022-03-24T12:38:00.633472Z"
    },
    "papermill": {
     "duration": 13407.323921,
     "end_time": "2022-03-24T12:38:00.633901",
     "exception": false,
     "start_time": "2022-03-24T08:54:33.309980",
     "status": "completed"
    },
    "tags": []
   },
   "outputs": [
    {
     "name": "stdout",
     "output_type": "stream",
     "text": [
      "epoch: 1, [batch: 1 / 33600], examples_per_second: 6.5064, train_label_loss: 2.8092, \n"
     ]
    },
    {
     "name": "stdout",
     "output_type": "stream",
     "text": [
      "epoch: 1, [batch: 3360 / 33600], examples_per_second: 3029.3305, train_label_loss: 1.3686, \n"
     ]
    },
    {
     "name": "stdout",
     "output_type": "stream",
     "text": [
      "epoch: 1, [batch: 6720 / 33600], examples_per_second: 2983.3433, train_label_loss: 0.6404, \n"
     ]
    },
    {
     "name": "stdout",
     "output_type": "stream",
     "text": [
      "epoch: 1, [batch: 10080 / 33600], examples_per_second: 2976.5789, train_label_loss: 1.6940, \n"
     ]
    },
    {
     "name": "stdout",
     "output_type": "stream",
     "text": [
      "epoch: 1, [batch: 13440 / 33600], examples_per_second: 2939.4042, train_label_loss: 0.9117, \n"
     ]
    },
    {
     "name": "stdout",
     "output_type": "stream",
     "text": [
      "epoch: 1, [batch: 16800 / 33600], examples_per_second: 2972.8578, train_label_loss: 0.6367, \n"
     ]
    },
    {
     "name": "stdout",
     "output_type": "stream",
     "text": [
      "epoch: 1, [batch: 20160 / 33600], examples_per_second: 2966.7480, train_label_loss: 0.9154, \n"
     ]
    },
    {
     "name": "stdout",
     "output_type": "stream",
     "text": [
      "epoch: 1, [batch: 23520 / 33600], examples_per_second: 2955.7240, train_label_loss: 1.1267, \n"
     ]
    },
    {
     "name": "stdout",
     "output_type": "stream",
     "text": [
      "epoch: 1, [batch: 26880 / 33600], examples_per_second: 2988.6621, train_label_loss: 0.4916, \n"
     ]
    },
    {
     "name": "stdout",
     "output_type": "stream",
     "text": [
      "epoch: 1, [batch: 30240 / 33600], examples_per_second: 3306.5111, train_label_loss: 0.6608, \n"
     ]
    },
    {
     "name": "stdout",
     "output_type": "stream",
     "text": [
      "=============================================================\n",
      "epoch: 1, source_val_acc_label: 0.6495, target_val_acc_label: 0.6922, source_val_label_loss: 0.9389, target_val_label_loss: 5.9937, \n",
      "=============================================================\n"
     ]
    },
    {
     "name": "stdout",
     "output_type": "stream",
     "text": [
      "New best\n"
     ]
    },
    {
     "name": "stdout",
     "output_type": "stream",
     "text": [
      "epoch: 2, [batch: 1 / 33600], examples_per_second: 0.8936, train_label_loss: 1.2452, \n"
     ]
    },
    {
     "name": "stdout",
     "output_type": "stream",
     "text": [
      "epoch: 2, [batch: 3360 / 33600], examples_per_second: 3451.1084, train_label_loss: 0.5191, \n"
     ]
    },
    {
     "name": "stdout",
     "output_type": "stream",
     "text": [
      "epoch: 2, [batch: 6720 / 33600], examples_per_second: 3406.3142, train_label_loss: 0.8456, \n"
     ]
    },
    {
     "name": "stdout",
     "output_type": "stream",
     "text": [
      "epoch: 2, [batch: 10080 / 33600], examples_per_second: 3694.2582, train_label_loss: 0.7038, \n"
     ]
    },
    {
     "name": "stdout",
     "output_type": "stream",
     "text": [
      "epoch: 2, [batch: 13440 / 33600], examples_per_second: 3925.6385, train_label_loss: 0.5900, \n"
     ]
    },
    {
     "name": "stdout",
     "output_type": "stream",
     "text": [
      "epoch: 2, [batch: 16800 / 33600], examples_per_second: 3975.0977, train_label_loss: 0.7379, \n"
     ]
    },
    {
     "name": "stdout",
     "output_type": "stream",
     "text": [
      "epoch: 2, [batch: 20160 / 33600], examples_per_second: 3941.8386, train_label_loss: 0.6102, \n"
     ]
    },
    {
     "name": "stdout",
     "output_type": "stream",
     "text": [
      "epoch: 2, [batch: 23520 / 33600], examples_per_second: 3945.2788, train_label_loss: 0.5039, \n"
     ]
    },
    {
     "name": "stdout",
     "output_type": "stream",
     "text": [
      "epoch: 2, [batch: 26880 / 33600], examples_per_second: 3681.9746, train_label_loss: 1.3458, \n"
     ]
    },
    {
     "name": "stdout",
     "output_type": "stream",
     "text": [
      "epoch: 2, [batch: 30240 / 33600], examples_per_second: 3000.2981, train_label_loss: 0.4769, \n"
     ]
    },
    {
     "name": "stdout",
     "output_type": "stream",
     "text": [
      "=============================================================\n",
      "epoch: 2, source_val_acc_label: 0.6722, target_val_acc_label: 0.6998, source_val_label_loss: 0.8637, target_val_label_loss: 6.8602, \n",
      "=============================================================\n"
     ]
    },
    {
     "name": "stdout",
     "output_type": "stream",
     "text": [
      "New best\n"
     ]
    },
    {
     "name": "stdout",
     "output_type": "stream",
     "text": [
      "epoch: 3, [batch: 1 / 33600], examples_per_second: 0.7791, train_label_loss: 0.4955, \n"
     ]
    },
    {
     "name": "stdout",
     "output_type": "stream",
     "text": [
      "epoch: 3, [batch: 3360 / 33600], examples_per_second: 3114.1331, train_label_loss: 0.5842, \n"
     ]
    },
    {
     "name": "stdout",
     "output_type": "stream",
     "text": [
      "epoch: 3, [batch: 6720 / 33600], examples_per_second: 2989.1075, train_label_loss: 1.3805, \n"
     ]
    },
    {
     "name": "stdout",
     "output_type": "stream",
     "text": [
      "epoch: 3, [batch: 10080 / 33600], examples_per_second: 2986.0784, train_label_loss: 0.5974, \n"
     ]
    },
    {
     "name": "stdout",
     "output_type": "stream",
     "text": [
      "epoch: 3, [batch: 13440 / 33600], examples_per_second: 2975.8980, train_label_loss: 0.6755, \n"
     ]
    },
    {
     "name": "stdout",
     "output_type": "stream",
     "text": [
      "epoch: 3, [batch: 16800 / 33600], examples_per_second: 2969.5858, train_label_loss: 0.7334, \n"
     ]
    },
    {
     "name": "stdout",
     "output_type": "stream",
     "text": [
      "epoch: 3, [batch: 20160 / 33600], examples_per_second: 2945.0186, train_label_loss: 0.5339, \n"
     ]
    },
    {
     "name": "stdout",
     "output_type": "stream",
     "text": [
      "epoch: 3, [batch: 23520 / 33600], examples_per_second: 3357.7617, train_label_loss: 0.9714, \n"
     ]
    },
    {
     "name": "stdout",
     "output_type": "stream",
     "text": [
      "epoch: 3, [batch: 26880 / 33600], examples_per_second: 3617.0589, train_label_loss: 0.6144, \n"
     ]
    },
    {
     "name": "stdout",
     "output_type": "stream",
     "text": [
      "epoch: 3, [batch: 30240 / 33600], examples_per_second: 3008.9234, train_label_loss: 0.9871, \n"
     ]
    },
    {
     "name": "stdout",
     "output_type": "stream",
     "text": [
      "=============================================================\n",
      "epoch: 3, source_val_acc_label: 0.6993, target_val_acc_label: 0.7326, source_val_label_loss: 0.8040, target_val_label_loss: 7.4240, \n",
      "=============================================================\n"
     ]
    },
    {
     "name": "stdout",
     "output_type": "stream",
     "text": [
      "New best\n"
     ]
    },
    {
     "name": "stdout",
     "output_type": "stream",
     "text": [
      "epoch: 4, [batch: 1 / 33600], examples_per_second: 0.7890, train_label_loss: 0.9691, \n"
     ]
    },
    {
     "name": "stdout",
     "output_type": "stream",
     "text": [
      "epoch: 4, [batch: 3360 / 33600], examples_per_second: 3067.3348, train_label_loss: 0.4637, \n"
     ]
    },
    {
     "name": "stdout",
     "output_type": "stream",
     "text": [
      "epoch: 4, [batch: 6720 / 33600], examples_per_second: 3025.8929, train_label_loss: 0.9969, \n"
     ]
    },
    {
     "name": "stdout",
     "output_type": "stream",
     "text": [
      "epoch: 4, [batch: 10080 / 33600], examples_per_second: 3018.7022, train_label_loss: 0.3755, \n"
     ]
    },
    {
     "name": "stdout",
     "output_type": "stream",
     "text": [
      "epoch: 4, [batch: 13440 / 33600], examples_per_second: 2999.0023, train_label_loss: 0.6141, \n"
     ]
    },
    {
     "name": "stdout",
     "output_type": "stream",
     "text": [
      "epoch: 4, [batch: 16800 / 33600], examples_per_second: 3021.2623, train_label_loss: 0.6888, \n"
     ]
    },
    {
     "name": "stdout",
     "output_type": "stream",
     "text": [
      "epoch: 4, [batch: 20160 / 33600], examples_per_second: 3021.8786, train_label_loss: 0.6870, \n"
     ]
    },
    {
     "name": "stdout",
     "output_type": "stream",
     "text": [
      "epoch: 4, [batch: 23520 / 33600], examples_per_second: 3303.0445, train_label_loss: 0.8040, \n"
     ]
    },
    {
     "name": "stdout",
     "output_type": "stream",
     "text": [
      "epoch: 4, [batch: 26880 / 33600], examples_per_second: 3656.3005, train_label_loss: 0.2745, \n"
     ]
    },
    {
     "name": "stdout",
     "output_type": "stream",
     "text": [
      "epoch: 4, [batch: 30240 / 33600], examples_per_second: 3014.4711, train_label_loss: 0.5731, \n"
     ]
    },
    {
     "name": "stdout",
     "output_type": "stream",
     "text": [
      "=============================================================\n",
      "epoch: 4, source_val_acc_label: 0.7168, target_val_acc_label: 0.7439, source_val_label_loss: 0.7742, target_val_label_loss: 8.7228, \n",
      "=============================================================\n"
     ]
    },
    {
     "name": "stdout",
     "output_type": "stream",
     "text": [
      "New best\n"
     ]
    },
    {
     "name": "stdout",
     "output_type": "stream",
     "text": [
      "epoch: 5, [batch: 1 / 33600], examples_per_second: 0.7771, train_label_loss: 0.5738, \n"
     ]
    },
    {
     "name": "stdout",
     "output_type": "stream",
     "text": [
      "epoch: 5, [batch: 3360 / 33600], examples_per_second: 3072.2821, train_label_loss: 0.5233, \n"
     ]
    },
    {
     "name": "stdout",
     "output_type": "stream",
     "text": [
      "epoch: 5, [batch: 6720 / 33600], examples_per_second: 3030.2027, train_label_loss: 0.4340, \n"
     ]
    },
    {
     "name": "stdout",
     "output_type": "stream",
     "text": [
      "epoch: 5, [batch: 10080 / 33600], examples_per_second: 3033.0303, train_label_loss: 0.7980, \n"
     ]
    },
    {
     "name": "stdout",
     "output_type": "stream",
     "text": [
      "epoch: 5, [batch: 13440 / 33600], examples_per_second: 3011.8065, train_label_loss: 0.5025, \n"
     ]
    },
    {
     "name": "stdout",
     "output_type": "stream",
     "text": [
      "epoch: 5, [batch: 16800 / 33600], examples_per_second: 3041.8708, train_label_loss: 0.8668, \n"
     ]
    },
    {
     "name": "stdout",
     "output_type": "stream",
     "text": [
      "epoch: 5, [batch: 20160 / 33600], examples_per_second: 3030.3865, train_label_loss: 0.6637, \n"
     ]
    },
    {
     "name": "stdout",
     "output_type": "stream",
     "text": [
      "epoch: 5, [batch: 23520 / 33600], examples_per_second: 3242.9642, train_label_loss: 0.5921, \n"
     ]
    },
    {
     "name": "stdout",
     "output_type": "stream",
     "text": [
      "epoch: 5, [batch: 26880 / 33600], examples_per_second: 3598.8224, train_label_loss: 0.7068, \n"
     ]
    },
    {
     "name": "stdout",
     "output_type": "stream",
     "text": [
      "epoch: 5, [batch: 30240 / 33600], examples_per_second: 2991.4178, train_label_loss: 0.2674, \n"
     ]
    },
    {
     "name": "stdout",
     "output_type": "stream",
     "text": [
      "=============================================================\n",
      "epoch: 5, source_val_acc_label: 0.7169, target_val_acc_label: 0.7600, source_val_label_loss: 0.7701, target_val_label_loss: 8.8087, \n",
      "=============================================================\n"
     ]
    },
    {
     "name": "stdout",
     "output_type": "stream",
     "text": [
      "New best\n"
     ]
    },
    {
     "name": "stdout",
     "output_type": "stream",
     "text": [
      "epoch: 6, [batch: 1 / 33600], examples_per_second: 0.7788, train_label_loss: 0.3960, \n"
     ]
    },
    {
     "name": "stdout",
     "output_type": "stream",
     "text": [
      "epoch: 6, [batch: 3360 / 33600], examples_per_second: 3147.6664, train_label_loss: 0.9769, \n"
     ]
    },
    {
     "name": "stdout",
     "output_type": "stream",
     "text": [
      "epoch: 6, [batch: 6720 / 33600], examples_per_second: 3026.8707, train_label_loss: 0.6890, \n"
     ]
    },
    {
     "name": "stdout",
     "output_type": "stream",
     "text": [
      "epoch: 6, [batch: 10080 / 33600], examples_per_second: 2990.3989, train_label_loss: 0.5120, \n"
     ]
    },
    {
     "name": "stdout",
     "output_type": "stream",
     "text": [
      "epoch: 6, [batch: 13440 / 33600], examples_per_second: 2977.4839, train_label_loss: 0.4980, \n"
     ]
    },
    {
     "name": "stdout",
     "output_type": "stream",
     "text": [
      "epoch: 6, [batch: 16800 / 33600], examples_per_second: 3031.6059, train_label_loss: 0.3607, \n"
     ]
    },
    {
     "name": "stdout",
     "output_type": "stream",
     "text": [
      "epoch: 6, [batch: 20160 / 33600], examples_per_second: 3033.3338, train_label_loss: 0.5851, \n"
     ]
    },
    {
     "name": "stdout",
     "output_type": "stream",
     "text": [
      "epoch: 6, [batch: 23520 / 33600], examples_per_second: 3302.7431, train_label_loss: 0.2965, \n"
     ]
    },
    {
     "name": "stdout",
     "output_type": "stream",
     "text": [
      "epoch: 6, [batch: 26880 / 33600], examples_per_second: 3611.0083, train_label_loss: 0.8905, \n"
     ]
    },
    {
     "name": "stdout",
     "output_type": "stream",
     "text": [
      "epoch: 6, [batch: 30240 / 33600], examples_per_second: 3014.4995, train_label_loss: 0.6342, \n"
     ]
    },
    {
     "name": "stdout",
     "output_type": "stream",
     "text": [
      "=============================================================\n",
      "epoch: 6, source_val_acc_label: 0.7249, target_val_acc_label: 0.7662, source_val_label_loss: 0.7591, target_val_label_loss: 9.1544, \n",
      "=============================================================\n"
     ]
    },
    {
     "name": "stdout",
     "output_type": "stream",
     "text": [
      "New best\n"
     ]
    },
    {
     "name": "stdout",
     "output_type": "stream",
     "text": [
      "epoch: 7, [batch: 1 / 33600], examples_per_second: 0.7733, train_label_loss: 0.4266, \n"
     ]
    },
    {
     "name": "stdout",
     "output_type": "stream",
     "text": [
      "epoch: 7, [batch: 3360 / 33600], examples_per_second: 3181.7117, train_label_loss: 0.4066, \n"
     ]
    },
    {
     "name": "stdout",
     "output_type": "stream",
     "text": [
      "epoch: 7, [batch: 6720 / 33600], examples_per_second: 3050.9320, train_label_loss: 0.4632, \n"
     ]
    },
    {
     "name": "stdout",
     "output_type": "stream",
     "text": [
      "epoch: 7, [batch: 10080 / 33600], examples_per_second: 2997.9770, train_label_loss: 0.6882, \n"
     ]
    },
    {
     "name": "stdout",
     "output_type": "stream",
     "text": [
      "epoch: 7, [batch: 13440 / 33600], examples_per_second: 2988.3962, train_label_loss: 0.2274, \n"
     ]
    },
    {
     "name": "stdout",
     "output_type": "stream",
     "text": [
      "epoch: 7, [batch: 16800 / 33600], examples_per_second: 2973.4950, train_label_loss: 0.4347, \n"
     ]
    },
    {
     "name": "stdout",
     "output_type": "stream",
     "text": [
      "epoch: 7, [batch: 20160 / 33600], examples_per_second: 2977.5938, train_label_loss: 0.3463, \n"
     ]
    },
    {
     "name": "stdout",
     "output_type": "stream",
     "text": [
      "epoch: 7, [batch: 23520 / 33600], examples_per_second: 3272.4660, train_label_loss: 0.7823, \n"
     ]
    },
    {
     "name": "stdout",
     "output_type": "stream",
     "text": [
      "epoch: 7, [batch: 26880 / 33600], examples_per_second: 3600.4908, train_label_loss: 0.4591, \n"
     ]
    },
    {
     "name": "stdout",
     "output_type": "stream",
     "text": [
      "epoch: 7, [batch: 30240 / 33600], examples_per_second: 3021.6426, train_label_loss: 0.4728, \n"
     ]
    },
    {
     "name": "stdout",
     "output_type": "stream",
     "text": [
      "=============================================================\n",
      "epoch: 7, source_val_acc_label: 0.7339, target_val_acc_label: 0.7797, source_val_label_loss: 0.7519, target_val_label_loss: 9.4404, \n",
      "=============================================================\n"
     ]
    },
    {
     "name": "stdout",
     "output_type": "stream",
     "text": [
      "New best\n"
     ]
    },
    {
     "name": "stdout",
     "output_type": "stream",
     "text": [
      "epoch: 8, [batch: 1 / 33600], examples_per_second: 0.7693, train_label_loss: 0.3286, \n"
     ]
    },
    {
     "name": "stdout",
     "output_type": "stream",
     "text": [
      "epoch: 8, [batch: 3360 / 33600], examples_per_second: 3166.9188, train_label_loss: 0.3370, \n"
     ]
    },
    {
     "name": "stdout",
     "output_type": "stream",
     "text": [
      "epoch: 8, [batch: 6720 / 33600], examples_per_second: 2986.2761, train_label_loss: 0.1197, \n"
     ]
    },
    {
     "name": "stdout",
     "output_type": "stream",
     "text": [
      "epoch: 8, [batch: 10080 / 33600], examples_per_second: 3028.2623, train_label_loss: 0.3306, \n"
     ]
    },
    {
     "name": "stdout",
     "output_type": "stream",
     "text": [
      "epoch: 8, [batch: 13440 / 33600], examples_per_second: 2979.6665, train_label_loss: 0.4368, \n"
     ]
    },
    {
     "name": "stdout",
     "output_type": "stream",
     "text": [
      "epoch: 8, [batch: 16800 / 33600], examples_per_second: 3013.1467, train_label_loss: 0.5625, \n"
     ]
    },
    {
     "name": "stdout",
     "output_type": "stream",
     "text": [
      "epoch: 8, [batch: 20160 / 33600], examples_per_second: 3012.1610, train_label_loss: 0.3761, \n"
     ]
    },
    {
     "name": "stdout",
     "output_type": "stream",
     "text": [
      "epoch: 8, [batch: 23520 / 33600], examples_per_second: 3318.6010, train_label_loss: 0.2612, \n"
     ]
    },
    {
     "name": "stdout",
     "output_type": "stream",
     "text": [
      "epoch: 8, [batch: 26880 / 33600], examples_per_second: 3551.6563, train_label_loss: 0.3889, \n"
     ]
    },
    {
     "name": "stdout",
     "output_type": "stream",
     "text": [
      "epoch: 8, [batch: 30240 / 33600], examples_per_second: 3037.3581, train_label_loss: 0.1602, \n"
     ]
    },
    {
     "name": "stdout",
     "output_type": "stream",
     "text": [
      "=============================================================\n",
      "epoch: 8, source_val_acc_label: 0.7341, target_val_acc_label: 0.7800, source_val_label_loss: 0.7540, target_val_label_loss: 9.8155, \n",
      "=============================================================\n"
     ]
    },
    {
     "name": "stdout",
     "output_type": "stream",
     "text": [
      "New best\n"
     ]
    },
    {
     "name": "stdout",
     "output_type": "stream",
     "text": [
      "epoch: 9, [batch: 1 / 33600], examples_per_second: 0.7753, train_label_loss: 0.3946, \n"
     ]
    },
    {
     "name": "stdout",
     "output_type": "stream",
     "text": [
      "epoch: 9, [batch: 3360 / 33600], examples_per_second: 3194.0836, train_label_loss: 0.3649, \n"
     ]
    },
    {
     "name": "stdout",
     "output_type": "stream",
     "text": [
      "epoch: 9, [batch: 6720 / 33600], examples_per_second: 3018.3135, train_label_loss: 0.3943, \n"
     ]
    },
    {
     "name": "stdout",
     "output_type": "stream",
     "text": [
      "epoch: 9, [batch: 10080 / 33600], examples_per_second: 3025.6480, train_label_loss: 0.4119, \n"
     ]
    },
    {
     "name": "stdout",
     "output_type": "stream",
     "text": [
      "epoch: 9, [batch: 13440 / 33600], examples_per_second: 3013.6577, train_label_loss: 0.5345, \n"
     ]
    },
    {
     "name": "stdout",
     "output_type": "stream",
     "text": [
      "epoch: 9, [batch: 16800 / 33600], examples_per_second: 3004.5628, train_label_loss: 0.3800, \n"
     ]
    },
    {
     "name": "stdout",
     "output_type": "stream",
     "text": [
      "epoch: 9, [batch: 20160 / 33600], examples_per_second: 2991.5118, train_label_loss: 0.2465, \n"
     ]
    },
    {
     "name": "stdout",
     "output_type": "stream",
     "text": [
      "epoch: 9, [batch: 23520 / 33600], examples_per_second: 3330.9891, train_label_loss: 0.2746, \n"
     ]
    },
    {
     "name": "stdout",
     "output_type": "stream",
     "text": [
      "epoch: 9, [batch: 26880 / 33600], examples_per_second: 3442.9618, train_label_loss: 0.7453, \n"
     ]
    },
    {
     "name": "stdout",
     "output_type": "stream",
     "text": [
      "epoch: 9, [batch: 30240 / 33600], examples_per_second: 3396.8214, train_label_loss: 0.5338, \n"
     ]
    },
    {
     "name": "stdout",
     "output_type": "stream",
     "text": [
      "=============================================================\n",
      "epoch: 9, source_val_acc_label: 0.7316, target_val_acc_label: 0.7804, source_val_label_loss: 0.7758, target_val_label_loss: 10.4158, \n",
      "=============================================================\n"
     ]
    },
    {
     "name": "stdout",
     "output_type": "stream",
     "text": [
      "New best\n"
     ]
    },
    {
     "name": "stdout",
     "output_type": "stream",
     "text": [
      "epoch: 10, [batch: 1 / 33600], examples_per_second: 0.8699, train_label_loss: 0.4366, \n"
     ]
    },
    {
     "name": "stdout",
     "output_type": "stream",
     "text": [
      "epoch: 10, [batch: 3360 / 33600], examples_per_second: 4061.7184, train_label_loss: 0.3120, \n"
     ]
    },
    {
     "name": "stdout",
     "output_type": "stream",
     "text": [
      "epoch: 10, [batch: 6720 / 33600], examples_per_second: 3939.6301, train_label_loss: 0.4929, \n"
     ]
    },
    {
     "name": "stdout",
     "output_type": "stream",
     "text": [
      "epoch: 10, [batch: 10080 / 33600], examples_per_second: 3933.0704, train_label_loss: 0.2752, \n"
     ]
    },
    {
     "name": "stdout",
     "output_type": "stream",
     "text": [
      "epoch: 10, [batch: 13440 / 33600], examples_per_second: 3907.6126, train_label_loss: 0.1848, \n"
     ]
    },
    {
     "name": "stdout",
     "output_type": "stream",
     "text": [
      "epoch: 10, [batch: 16800 / 33600], examples_per_second: 3999.1511, train_label_loss: 0.3106, \n"
     ]
    },
    {
     "name": "stdout",
     "output_type": "stream",
     "text": [
      "epoch: 10, [batch: 20160 / 33600], examples_per_second: 3991.4671, train_label_loss: 0.5829, \n"
     ]
    },
    {
     "name": "stdout",
     "output_type": "stream",
     "text": [
      "epoch: 10, [batch: 23520 / 33600], examples_per_second: 3859.0421, train_label_loss: 0.4314, \n"
     ]
    },
    {
     "name": "stdout",
     "output_type": "stream",
     "text": [
      "epoch: 10, [batch: 26880 / 33600], examples_per_second: 3932.6638, train_label_loss: 0.2929, \n"
     ]
    },
    {
     "name": "stdout",
     "output_type": "stream",
     "text": [
      "epoch: 10, [batch: 30240 / 33600], examples_per_second: 3931.6013, train_label_loss: 0.4836, \n"
     ]
    },
    {
     "name": "stdout",
     "output_type": "stream",
     "text": [
      "=============================================================\n",
      "epoch: 10, source_val_acc_label: 0.7328, target_val_acc_label: 0.7852, source_val_label_loss: 0.7790, target_val_label_loss: 10.2681, \n",
      "=============================================================\n"
     ]
    },
    {
     "name": "stdout",
     "output_type": "stream",
     "text": [
      "New best\n"
     ]
    },
    {
     "name": "stdout",
     "output_type": "stream",
     "text": [
      "epoch: 11, [batch: 1 / 33600], examples_per_second: 1.0453, train_label_loss: 0.2937, \n"
     ]
    },
    {
     "name": "stdout",
     "output_type": "stream",
     "text": [
      "epoch: 11, [batch: 3360 / 33600], examples_per_second: 4224.4613, train_label_loss: 0.5711, \n"
     ]
    },
    {
     "name": "stdout",
     "output_type": "stream",
     "text": [
      "epoch: 11, [batch: 6720 / 33600], examples_per_second: 4005.7615, train_label_loss: 0.2292, \n"
     ]
    },
    {
     "name": "stdout",
     "output_type": "stream",
     "text": [
      "epoch: 11, [batch: 10080 / 33600], examples_per_second: 4029.5449, train_label_loss: 0.3533, \n"
     ]
    },
    {
     "name": "stdout",
     "output_type": "stream",
     "text": [
      "epoch: 11, [batch: 13440 / 33600], examples_per_second: 3954.3015, train_label_loss: 0.2007, \n"
     ]
    },
    {
     "name": "stdout",
     "output_type": "stream",
     "text": [
      "epoch: 11, [batch: 16800 / 33600], examples_per_second: 3969.1836, train_label_loss: 0.4863, \n"
     ]
    },
    {
     "name": "stdout",
     "output_type": "stream",
     "text": [
      "epoch: 11, [batch: 20160 / 33600], examples_per_second: 4029.3793, train_label_loss: 0.2878, \n"
     ]
    },
    {
     "name": "stdout",
     "output_type": "stream",
     "text": [
      "epoch: 11, [batch: 23520 / 33600], examples_per_second: 3935.7174, train_label_loss: 0.4684, \n"
     ]
    },
    {
     "name": "stdout",
     "output_type": "stream",
     "text": [
      "epoch: 11, [batch: 26880 / 33600], examples_per_second: 3956.6763, train_label_loss: 0.4780, \n"
     ]
    },
    {
     "name": "stdout",
     "output_type": "stream",
     "text": [
      "epoch: 11, [batch: 30240 / 33600], examples_per_second: 4032.4929, train_label_loss: 0.5124, \n"
     ]
    },
    {
     "name": "stdout",
     "output_type": "stream",
     "text": [
      "=============================================================\n",
      "epoch: 11, source_val_acc_label: 0.7298, target_val_acc_label: 0.7824, source_val_label_loss: 0.8116, target_val_label_loss: 11.0583, \n",
      "=============================================================\n"
     ]
    },
    {
     "name": "stdout",
     "output_type": "stream",
     "text": [
      "epoch: 12, [batch: 1 / 33600], examples_per_second: 1.0406, train_label_loss: 0.4504, \n"
     ]
    },
    {
     "name": "stdout",
     "output_type": "stream",
     "text": [
      "epoch: 12, [batch: 3360 / 33600], examples_per_second: 4233.4127, train_label_loss: 0.1320, \n"
     ]
    },
    {
     "name": "stdout",
     "output_type": "stream",
     "text": [
      "epoch: 12, [batch: 6720 / 33600], examples_per_second: 3894.3159, train_label_loss: 0.3912, \n"
     ]
    },
    {
     "name": "stdout",
     "output_type": "stream",
     "text": [
      "epoch: 12, [batch: 10080 / 33600], examples_per_second: 3981.1789, train_label_loss: 0.2469, \n"
     ]
    },
    {
     "name": "stdout",
     "output_type": "stream",
     "text": [
      "epoch: 12, [batch: 13440 / 33600], examples_per_second: 3988.8971, train_label_loss: 0.2647, \n"
     ]
    },
    {
     "name": "stdout",
     "output_type": "stream",
     "text": [
      "epoch: 12, [batch: 16800 / 33600], examples_per_second: 4017.2067, train_label_loss: 0.2194, \n"
     ]
    },
    {
     "name": "stdout",
     "output_type": "stream",
     "text": [
      "epoch: 12, [batch: 20160 / 33600], examples_per_second: 3953.1248, train_label_loss: 0.4298, \n"
     ]
    },
    {
     "name": "stdout",
     "output_type": "stream",
     "text": [
      "epoch: 12, [batch: 23520 / 33600], examples_per_second: 3916.8135, train_label_loss: 0.0718, \n"
     ]
    },
    {
     "name": "stdout",
     "output_type": "stream",
     "text": [
      "epoch: 12, [batch: 26880 / 33600], examples_per_second: 3925.2979, train_label_loss: 0.4000, \n"
     ]
    },
    {
     "name": "stdout",
     "output_type": "stream",
     "text": [
      "epoch: 12, [batch: 30240 / 33600], examples_per_second: 3928.2331, train_label_loss: 0.5784, \n"
     ]
    },
    {
     "name": "stdout",
     "output_type": "stream",
     "text": [
      "=============================================================\n",
      "epoch: 12, source_val_acc_label: 0.7279, target_val_acc_label: 0.7911, source_val_label_loss: 0.8233, target_val_label_loss: 11.0772, \n",
      "=============================================================\n"
     ]
    },
    {
     "name": "stdout",
     "output_type": "stream",
     "text": [
      "New best\n"
     ]
    },
    {
     "name": "stdout",
     "output_type": "stream",
     "text": [
      "epoch: 13, [batch: 1 / 33600], examples_per_second: 1.0392, train_label_loss: 0.2941, \n"
     ]
    },
    {
     "name": "stdout",
     "output_type": "stream",
     "text": [
      "epoch: 13, [batch: 3360 / 33600], examples_per_second: 4406.9707, train_label_loss: 0.5273, \n"
     ]
    },
    {
     "name": "stdout",
     "output_type": "stream",
     "text": [
      "epoch: 13, [batch: 6720 / 33600], examples_per_second: 4404.0827, train_label_loss: 0.2456, \n"
     ]
    },
    {
     "name": "stdout",
     "output_type": "stream",
     "text": [
      "epoch: 13, [batch: 10080 / 33600], examples_per_second: 4246.9306, train_label_loss: 0.2272, \n"
     ]
    },
    {
     "name": "stdout",
     "output_type": "stream",
     "text": [
      "epoch: 13, [batch: 13440 / 33600], examples_per_second: 4498.7601, train_label_loss: 0.3757, \n"
     ]
    },
    {
     "name": "stdout",
     "output_type": "stream",
     "text": [
      "epoch: 13, [batch: 16800 / 33600], examples_per_second: 4972.7943, train_label_loss: 0.2085, \n"
     ]
    },
    {
     "name": "stdout",
     "output_type": "stream",
     "text": [
      "epoch: 13, [batch: 20160 / 33600], examples_per_second: 4944.2021, train_label_loss: 0.7592, \n"
     ]
    },
    {
     "name": "stdout",
     "output_type": "stream",
     "text": [
      "epoch: 13, [batch: 23520 / 33600], examples_per_second: 4976.8864, train_label_loss: 0.2037, \n"
     ]
    },
    {
     "name": "stdout",
     "output_type": "stream",
     "text": [
      "epoch: 13, [batch: 26880 / 33600], examples_per_second: 5143.7195, train_label_loss: 0.1758, \n"
     ]
    },
    {
     "name": "stdout",
     "output_type": "stream",
     "text": [
      "epoch: 13, [batch: 30240 / 33600], examples_per_second: 5361.9119, train_label_loss: 0.2222, \n"
     ]
    },
    {
     "name": "stdout",
     "output_type": "stream",
     "text": [
      "=============================================================\n",
      "epoch: 13, source_val_acc_label: 0.7233, target_val_acc_label: 0.7908, source_val_label_loss: 0.8562, target_val_label_loss: 11.3869, \n",
      "=============================================================\n"
     ]
    },
    {
     "name": "stdout",
     "output_type": "stream",
     "text": [
      "epoch: 14, [batch: 1 / 33600], examples_per_second: 1.3042, train_label_loss: 0.3979, \n"
     ]
    },
    {
     "name": "stdout",
     "output_type": "stream",
     "text": [
      "epoch: 14, [batch: 3360 / 33600], examples_per_second: 5096.0752, train_label_loss: 0.2672, \n"
     ]
    },
    {
     "name": "stdout",
     "output_type": "stream",
     "text": [
      "epoch: 14, [batch: 6720 / 33600], examples_per_second: 5129.7342, train_label_loss: 0.3193, \n"
     ]
    },
    {
     "name": "stdout",
     "output_type": "stream",
     "text": [
      "epoch: 14, [batch: 10080 / 33600], examples_per_second: 5207.7647, train_label_loss: 0.1662, \n"
     ]
    },
    {
     "name": "stdout",
     "output_type": "stream",
     "text": [
      "epoch: 14, [batch: 13440 / 33600], examples_per_second: 4969.9029, train_label_loss: 0.5498, \n"
     ]
    },
    {
     "name": "stdout",
     "output_type": "stream",
     "text": [
      "epoch: 14, [batch: 16800 / 33600], examples_per_second: 5343.5768, train_label_loss: 0.4481, \n"
     ]
    },
    {
     "name": "stdout",
     "output_type": "stream",
     "text": [
      "epoch: 14, [batch: 20160 / 33600], examples_per_second: 4973.8475, train_label_loss: 0.1264, \n"
     ]
    },
    {
     "name": "stdout",
     "output_type": "stream",
     "text": [
      "epoch: 14, [batch: 23520 / 33600], examples_per_second: 4993.2501, train_label_loss: 0.2804, \n"
     ]
    },
    {
     "name": "stdout",
     "output_type": "stream",
     "text": [
      "epoch: 14, [batch: 26880 / 33600], examples_per_second: 4997.2629, train_label_loss: 0.2344, \n"
     ]
    },
    {
     "name": "stdout",
     "output_type": "stream",
     "text": [
      "epoch: 14, [batch: 30240 / 33600], examples_per_second: 5258.7838, train_label_loss: 0.3704, \n"
     ]
    },
    {
     "name": "stdout",
     "output_type": "stream",
     "text": [
      "=============================================================\n",
      "epoch: 14, source_val_acc_label: 0.7244, target_val_acc_label: 0.7898, source_val_label_loss: 0.8676, target_val_label_loss: 11.9761, \n",
      "=============================================================\n"
     ]
    },
    {
     "name": "stdout",
     "output_type": "stream",
     "text": [
      "epoch: 15, [batch: 1 / 33600], examples_per_second: 1.3266, train_label_loss: 0.2788, \n"
     ]
    },
    {
     "name": "stdout",
     "output_type": "stream",
     "text": [
      "epoch: 15, [batch: 3360 / 33600], examples_per_second: 5415.3709, train_label_loss: 0.2766, \n"
     ]
    },
    {
     "name": "stdout",
     "output_type": "stream",
     "text": [
      "epoch: 15, [batch: 6720 / 33600], examples_per_second: 5409.1181, train_label_loss: 0.2060, \n"
     ]
    },
    {
     "name": "stdout",
     "output_type": "stream",
     "text": [
      "epoch: 15, [batch: 10080 / 33600], examples_per_second: 5116.8994, train_label_loss: 0.3269, \n"
     ]
    },
    {
     "name": "stdout",
     "output_type": "stream",
     "text": [
      "epoch: 15, [batch: 13440 / 33600], examples_per_second: 4977.9874, train_label_loss: 0.0564, \n"
     ]
    },
    {
     "name": "stdout",
     "output_type": "stream",
     "text": [
      "epoch: 15, [batch: 16800 / 33600], examples_per_second: 5045.3573, train_label_loss: 0.0324, \n"
     ]
    },
    {
     "name": "stdout",
     "output_type": "stream",
     "text": [
      "epoch: 15, [batch: 20160 / 33600], examples_per_second: 5100.8454, train_label_loss: 0.2945, \n"
     ]
    },
    {
     "name": "stdout",
     "output_type": "stream",
     "text": [
      "epoch: 15, [batch: 23520 / 33600], examples_per_second: 5104.9805, train_label_loss: 0.2574, \n"
     ]
    },
    {
     "name": "stdout",
     "output_type": "stream",
     "text": [
      "epoch: 15, [batch: 26880 / 33600], examples_per_second: 4925.1854, train_label_loss: 0.4222, \n"
     ]
    },
    {
     "name": "stdout",
     "output_type": "stream",
     "text": [
      "epoch: 15, [batch: 30240 / 33600], examples_per_second: 5017.4739, train_label_loss: 0.2263, \n"
     ]
    },
    {
     "name": "stdout",
     "output_type": "stream",
     "text": [
      "=============================================================\n",
      "epoch: 15, source_val_acc_label: 0.7274, target_val_acc_label: 0.7903, source_val_label_loss: 0.9066, target_val_label_loss: 12.4954, \n",
      "=============================================================\n"
     ]
    },
    {
     "name": "stdout",
     "output_type": "stream",
     "text": [
      "epoch: 16, [batch: 1 / 33600], examples_per_second: 1.3331, train_label_loss: 0.1528, \n"
     ]
    },
    {
     "name": "stdout",
     "output_type": "stream",
     "text": [
      "epoch: 16, [batch: 3360 / 33600], examples_per_second: 5053.8795, train_label_loss: 0.1483, \n"
     ]
    },
    {
     "name": "stdout",
     "output_type": "stream",
     "text": [
      "epoch: 16, [batch: 6720 / 33600], examples_per_second: 5112.9484, train_label_loss: 0.5154, \n"
     ]
    },
    {
     "name": "stdout",
     "output_type": "stream",
     "text": [
      "epoch: 16, [batch: 10080 / 33600], examples_per_second: 5171.6844, train_label_loss: 0.7067, \n"
     ]
    },
    {
     "name": "stdout",
     "output_type": "stream",
     "text": [
      "epoch: 16, [batch: 13440 / 33600], examples_per_second: 5416.9790, train_label_loss: 0.2127, \n"
     ]
    },
    {
     "name": "stdout",
     "output_type": "stream",
     "text": [
      "epoch: 16, [batch: 16800 / 33600], examples_per_second: 5170.8250, train_label_loss: 0.2707, \n"
     ]
    },
    {
     "name": "stdout",
     "output_type": "stream",
     "text": [
      "epoch: 16, [batch: 20160 / 33600], examples_per_second: 5336.3892, train_label_loss: 0.4284, \n"
     ]
    },
    {
     "name": "stdout",
     "output_type": "stream",
     "text": [
      "epoch: 16, [batch: 23520 / 33600], examples_per_second: 4999.0044, train_label_loss: 0.3839, \n"
     ]
    },
    {
     "name": "stdout",
     "output_type": "stream",
     "text": [
      "epoch: 16, [batch: 26880 / 33600], examples_per_second: 4959.2713, train_label_loss: 0.0868, \n"
     ]
    },
    {
     "name": "stdout",
     "output_type": "stream",
     "text": [
      "epoch: 16, [batch: 30240 / 33600], examples_per_second: 4973.3953, train_label_loss: 0.0866, \n"
     ]
    },
    {
     "name": "stdout",
     "output_type": "stream",
     "text": [
      "=============================================================\n",
      "epoch: 16, source_val_acc_label: 0.7216, target_val_acc_label: 0.7906, source_val_label_loss: 0.9344, target_val_label_loss: 12.9179, \n",
      "=============================================================\n"
     ]
    },
    {
     "name": "stdout",
     "output_type": "stream",
     "text": [
      "Patience (3) exhausted\n"
     ]
    }
   ],
   "source": [
    "###################################\n",
    "# train\n",
    "###################################\n",
    "jig = PTN_Train_Eval_Test_Jig(model, p.BEST_MODEL_PATH, p.device)\n",
    "\n",
    "jig.train(\n",
    "    train_iterable=datasets.source.processed.train,\n",
    "    source_val_iterable=datasets.source.processed.val,\n",
    "    target_val_iterable=datasets.target.processed.val,\n",
    "    num_epochs=p.n_epoch,\n",
    "    num_logs_per_epoch=p.NUM_LOGS_PER_EPOCH,\n",
    "    patience=p.patience,\n",
    "    optimizer=optimizer,\n",
    "    criteria_for_best=p.criteria_for_best,\n",
    ")"
   ]
  },
  {
   "cell_type": "code",
   "execution_count": 23,
   "id": "31e8fabf",
   "metadata": {
    "execution": {
     "iopub.execute_input": "2022-03-24T12:38:00.786919Z",
     "iopub.status.busy": "2022-03-24T12:38:00.786555Z",
     "iopub.status.idle": "2022-03-24T12:38:00.818616Z",
     "shell.execute_reply": "2022-03-24T12:38:00.819288Z"
    },
    "papermill": {
     "duration": 0.111801,
     "end_time": "2022-03-24T12:38:00.819470",
     "exception": false,
     "start_time": "2022-03-24T12:38:00.707669",
     "status": "completed"
    },
    "tags": []
   },
   "outputs": [],
   "source": [
    "total_experiment_time_secs = time.time() - start_time_secs"
   ]
  },
  {
   "cell_type": "code",
   "execution_count": 24,
   "id": "87b9595b",
   "metadata": {
    "execution": {
     "iopub.execute_input": "2022-03-24T12:38:00.983944Z",
     "iopub.status.busy": "2022-03-24T12:38:00.981513Z",
     "iopub.status.idle": "2022-03-24T12:45:01.897835Z",
     "shell.execute_reply": "2022-03-24T12:45:01.898546Z"
    },
    "papermill": {
     "duration": 420.998301,
     "end_time": "2022-03-24T12:45:01.898760",
     "exception": false,
     "start_time": "2022-03-24T12:38:00.900459",
     "status": "completed"
    },
    "tags": []
   },
   "outputs": [],
   "source": [
    "###################################\n",
    "# Evaluate the model\n",
    "###################################\n",
    "source_test_label_accuracy, source_test_label_loss = jig.test(datasets.source.processed.test)\n",
    "target_test_label_accuracy, target_test_label_loss = jig.test(datasets.target.processed.test)\n",
    "\n",
    "source_val_label_accuracy, source_val_label_loss = jig.test(datasets.source.processed.val)\n",
    "target_val_label_accuracy, target_val_label_loss = jig.test(datasets.target.processed.val)\n",
    "\n",
    "history = jig.get_history()\n",
    "\n",
    "total_epochs_trained = len(history[\"epoch_indices\"])\n",
    "\n",
    "val_dl = Iterable_Aggregator((datasets.source.original.val,datasets.target.original.val))\n",
    "\n",
    "confusion = ptn_confusion_by_domain_over_dataloader(model, p.device, val_dl)\n",
    "per_domain_accuracy = per_domain_accuracy_from_confusion(confusion)\n",
    "\n",
    "# Add a key to per_domain_accuracy for if it was a source domain\n",
    "for domain, accuracy in per_domain_accuracy.items():\n",
    "    per_domain_accuracy[domain] = {\n",
    "        \"accuracy\": accuracy,\n",
    "        \"source?\": domain in p.domains_source\n",
    "    }\n",
    "\n",
    "# Do an independent accuracy assesment JUST TO BE SURE!\n",
    "# _source_test_label_accuracy = independent_accuracy_assesment(model, datasets.source.processed.test, p.device)\n",
    "# _target_test_label_accuracy = independent_accuracy_assesment(model, datasets.target.processed.test, p.device)\n",
    "# _source_val_label_accuracy = independent_accuracy_assesment(model, datasets.source.processed.val, p.device)\n",
    "# _target_val_label_accuracy = independent_accuracy_assesment(model, datasets.target.processed.val, p.device)\n",
    "\n",
    "# assert(_source_test_label_accuracy == source_test_label_accuracy)\n",
    "# assert(_target_test_label_accuracy == target_test_label_accuracy)\n",
    "# assert(_source_val_label_accuracy == source_val_label_accuracy)\n",
    "# assert(_target_val_label_accuracy == target_val_label_accuracy)\n",
    "\n",
    "experiment = {\n",
    "    \"experiment_name\": p.experiment_name,\n",
    "    \"parameters\": dict(p),\n",
    "    \"results\": {\n",
    "        \"source_test_label_accuracy\": source_test_label_accuracy,\n",
    "        \"source_test_label_loss\": source_test_label_loss,\n",
    "        \"target_test_label_accuracy\": target_test_label_accuracy,\n",
    "        \"target_test_label_loss\": target_test_label_loss,\n",
    "        \"source_val_label_accuracy\": source_val_label_accuracy,\n",
    "        \"source_val_label_loss\": source_val_label_loss,\n",
    "        \"target_val_label_accuracy\": target_val_label_accuracy,\n",
    "        \"target_val_label_loss\": target_val_label_loss,\n",
    "        \"total_epochs_trained\": total_epochs_trained,\n",
    "        \"total_experiment_time_secs\": total_experiment_time_secs,\n",
    "        \"confusion\": confusion,\n",
    "        \"per_domain_accuracy\": per_domain_accuracy,\n",
    "    },\n",
    "    \"history\": history,\n",
    "    \"dataset_metrics\": get_dataset_metrics(datasets, \"ptn\"),\n",
    "}"
   ]
  },
  {
   "cell_type": "code",
   "execution_count": 25,
   "id": "54a21829",
   "metadata": {
    "execution": {
     "iopub.execute_input": "2022-03-24T12:45:02.066055Z",
     "iopub.status.busy": "2022-03-24T12:45:02.065686Z",
     "iopub.status.idle": "2022-03-24T12:45:02.303178Z",
     "shell.execute_reply": "2022-03-24T12:45:02.302455Z"
    },
    "papermill": {
     "duration": 0.318768,
     "end_time": "2022-03-24T12:45:02.303333",
     "exception": false,
     "start_time": "2022-03-24T12:45:01.984565",
     "status": "completed"
    },
    "tags": []
   },
   "outputs": [
    {
     "data": {
      "image/png": "[encoded data removed]",
      "text/plain": [
       "<Figure size 1080x504 with 1 Axes>"
      ]
     },
     "metadata": {
      "needs_background": "light"
     },
     "output_type": "display_data"
    }
   ],
   "source": [
    "ax = get_loss_curve(experiment)\n",
    "plt.show()"
   ]
  },
  {
   "cell_type": "code",
   "execution_count": 26,
   "id": "fd8a0f60",
   "metadata": {
    "execution": {
     "iopub.execute_input": "2022-03-24T12:45:02.463861Z",
     "iopub.status.busy": "2022-03-24T12:45:02.463474Z",
     "iopub.status.idle": "2022-03-24T12:45:02.773603Z",
     "shell.execute_reply": "2022-03-24T12:45:02.770389Z"
    },
    "papermill": {
     "duration": 0.389113,
     "end_time": "2022-03-24T12:45:02.773760",
     "exception": false,
     "start_time": "2022-03-24T12:45:02.384647",
     "status": "completed"
    },
    "tags": []
   },
   "outputs": [
    {
     "data": {
      "text/plain": [
       "<AxesSubplot:title={'center':'Results'}>"
      ]
     },
     "execution_count": 26,
     "metadata": {},
     "output_type": "execute_result"
    },
    {
     "data": {
      "image/png": "[encoded data removed]",
      "text/plain": [
       "<Figure size 1080x504 with 1 Axes>"
      ]
     },
     "metadata": {
      "needs_background": "light"
     },
     "output_type": "display_data"
    }
   ],
   "source": [
    "get_results_table(experiment)"
   ]
  },
  {
   "cell_type": "code",
   "execution_count": 27,
   "id": "cf8dc689",
   "metadata": {
    "execution": {
     "iopub.execute_input": "2022-03-24T12:45:02.943190Z",
     "iopub.status.busy": "2022-03-24T12:45:02.942814Z",
     "iopub.status.idle": "2022-03-24T12:45:03.189872Z",
     "shell.execute_reply": "2022-03-24T12:45:03.190570Z"
    },
    "papermill": {
     "duration": 0.329394,
     "end_time": "2022-03-24T12:45:03.190803",
     "exception": false,
     "start_time": "2022-03-24T12:45:02.861409",
     "status": "completed"
    },
    "tags": []
   },
   "outputs": [
    {
     "data": {
      "text/plain": [
       "<AxesSubplot:title={'center':'Per Domain Validation Accuracy'}, xlabel='domain'>"
      ]
     },
     "execution_count": 27,
     "metadata": {},
     "output_type": "execute_result"
    },
    {
     "data": {
      "image/png": "[encoded data removed]",
      "text/plain": [
       "<Figure size 1080x504 with 1 Axes>"
      ]
     },
     "metadata": {
      "needs_background": "light"
     },
     "output_type": "display_data"
    }
   ],
   "source": [
    "get_domain_accuracies(experiment)"
   ]
  },
  {
   "cell_type": "code",
   "execution_count": 28,
   "id": "a74ae082",
   "metadata": {
    "execution": {
     "iopub.execute_input": "2022-03-24T12:45:03.355932Z",
     "iopub.status.busy": "2022-03-24T12:45:03.355230Z",
     "iopub.status.idle": "2022-03-24T12:45:03.377925Z",
     "shell.execute_reply": "2022-03-24T12:45:03.378560Z"
    },
    "papermill": {
     "duration": 0.105791,
     "end_time": "2022-03-24T12:45:03.378751",
     "exception": false,
     "start_time": "2022-03-24T12:45:03.272960",
     "status": "completed"
    },
    "tags": []
   },
   "outputs": [
    {
     "name": "stdout",
     "output_type": "stream",
     "text": [
      "Source Test Label Accuracy: 0.72720703125 Target Test Label Accuracy: 0.7826719234746639\n",
      "Source Val Label Accuracy: 0.7278580729166667 Target Val Label Accuracy: 0.791106276371308\n"
     ]
    }
   ],
   "source": [
    "print(\"Source Test Label Accuracy:\", experiment[\"results\"][\"source_test_label_accuracy\"], \"Target Test Label Accuracy:\", experiment[\"results\"][\"target_test_label_accuracy\"])\n",
    "print(\"Source Val Label Accuracy:\", experiment[\"results\"][\"source_val_label_accuracy\"], \"Target Val Label Accuracy:\", experiment[\"results\"][\"target_val_label_accuracy\"])"
   ]
  },
  {
   "cell_type": "code",
   "execution_count": 29,
   "id": "dacca602",
   "metadata": {
    "execution": {
     "iopub.execute_input": "2022-03-24T12:45:03.543791Z",
     "iopub.status.busy": "2022-03-24T12:45:03.542806Z",
     "iopub.status.idle": "2022-03-24T12:45:03.570447Z",
     "shell.execute_reply": "2022-03-24T12:45:03.571125Z"
    },
    "papermill": {
     "duration": 0.108936,
     "end_time": "2022-03-24T12:45:03.571306",
     "exception": false,
     "start_time": "2022-03-24T12:45:03.462370",
     "status": "completed"
    },
    "tags": [
     "experiment_json"
    ]
   },
   "outputs": [
    {
     "data": {
      "text/plain": [
       "'{\"experiment_name\": \"tl_1v2:wisig-oracle.run1\", \"parameters\": {\"experiment_name\": \"tl_1v2:wisig-oracle.run1\", \"device\": \"cuda\", \"lr\": 0.0001, \"n_shot\": 3, \"n_query\": 2, \"train_k_factor\": 3, \"val_k_factor\": 2, \"test_k_factor\": 2, \"torch_default_dtype\": \"torch.float32\", \"n_epoch\": 50, \"patience\": 3, \"criteria_for_best\": \"target_accuracy\", \"x_net\": [{\"class\": \"nnReshape\", \"kargs\": {\"shape\": [-1, 1, 2, 256]}}, {\"class\": \"Conv2d\", \"kargs\": {\"in_channels\": 1, \"out_channels\": 256, \"kernel_size\": [1, 7], \"bias\": false, \"padding\": [0, 3]}}, {\"class\": \"ReLU\", \"kargs\": {\"inplace\": true}}, {\"class\": \"BatchNorm2d\", \"kargs\": {\"num_features\": 256}}, {\"class\": \"Conv2d\", \"kargs\": {\"in_channels\": 256, \"out_channels\": 80, \"kernel_size\": [2, 7], \"bias\": true, \"padding\": [0, 3]}}, {\"class\": \"ReLU\", \"kargs\": {\"inplace\": true}}, {\"class\": \"BatchNorm2d\", \"kargs\": {\"num_features\": 80}}, {\"class\": \"Flatten\", \"kargs\": {}}, {\"class\": \"Linear\", \"kargs\": {\"in_features\": 20480, \"out_features\": 256}}, {\"class\": \"ReLU\", \"kargs\": {\"inplace\": true}}, {\"class\": \"BatchNorm1d\", \"kargs\": {\"num_features\": 256}}, {\"class\": \"Linear\", \"kargs\": {\"in_features\": 256, \"out_features\": 256}}], \"NUM_LOGS_PER_EPOCH\": 10, \"BEST_MODEL_PATH\": \"./best_model.pth\", \"n_way\": 16, \"datasets\": [{\"labels\": [\"1-10\", \"1-12\", \"1-14\", \"1-16\", \"1-18\", \"1-19\", \"1-8\", \"10-11\", \"10-17\", \"10-4\", \"10-7\", \"11-1\", \"11-10\", \"11-19\", \"11-20\", \"11-4\", \"11-7\", \"12-19\", \"12-20\", \"12-7\", \"13-14\", \"13-18\", \"13-19\", \"13-20\", \"13-3\", \"13-7\", \"14-10\", \"14-11\", \"14-12\", \"14-13\", \"14-14\", \"14-19\", \"14-20\", \"14-7\", \"14-8\", \"14-9\", \"15-1\", \"15-19\", \"15-6\", \"16-1\", \"16-16\", \"16-19\", \"16-20\", \"17-10\", \"17-11\", \"18-1\", \"18-10\", \"18-11\", \"18-12\", \"18-13\", \"18-14\", \"18-15\", \"18-16\", \"18-17\", \"18-19\", \"18-2\", \"18-20\", \"18-4\", \"18-5\", \"18-7\", \"18-8\", \"18-9\", \"19-1\", \"19-10\", \"19-11\", \"19-12\", \"19-13\", \"19-14\", \"19-15\", \"19-19\", \"19-2\", \"19-20\", \"19-3\", \"19-4\", \"19-6\", \"19-7\", \"19-8\", \"19-9\", \"2-1\", \"2-13\", \"2-15\", \"2-3\", \"2-4\", \"2-5\", \"2-6\", \"2-7\", \"2-8\", \"20-1\", \"20-12\", \"20-14\", \"20-15\", \"20-16\", \"20-18\", \"20-19\", \"20-20\", \"20-3\", \"20-4\", \"20-5\", \"20-7\", \"20-8\", \"3-1\", \"3-13\", \"3-18\", \"3-2\", \"3-8\", \"4-1\", \"4-10\", \"4-11\", \"5-1\", \"5-5\", \"6-1\", \"6-15\", \"6-6\", \"7-10\", \"7-11\", \"7-12\", \"7-13\", \"7-14\", \"7-7\", \"7-8\", \"7-9\", \"8-1\", \"8-13\", \"8-14\", \"8-18\", \"8-20\", \"8-3\", \"8-8\", \"9-1\", \"9-7\"], \"domains\": [1, 2, 3, 4], \"num_examples_per_domain_per_label\": -1, \"pickle_path\": \"/root/csc500-main/datasets/wisig.node3-19.stratified_ds.2022A.pkl\", \"source_or_target_dataset\": \"target\", \"x_transforms\": [\"unit_mag\"], \"episode_transforms\": [], \"domain_prefix\": \"Wisig_\"}, {\"labels\": [\"3123D52\", \"3123D65\", \"3123D79\", \"3123D80\", \"3123D54\", \"3123D70\", \"3123D7B\", \"3123D89\", \"3123D58\", \"3123D76\", \"3123D7D\", \"3123EFE\", \"3123D64\", \"3123D78\", \"3123D7E\", \"3124E4A\"], \"domains\": [32, 38, 8, 44, 14, 50, 20, 26], \"num_examples_per_domain_per_label\": 10000, \"pickle_path\": \"/root/csc500-main/datasets/oracle.Run1_10kExamples_stratified_ds.2022A.pkl\", \"source_or_target_dataset\": \"source\", \"x_transforms\": [\"unit_mag\"], \"episode_transforms\": [], \"domain_prefix\": \"ORACLE.run1\"}], \"dataset_seed\": 500, \"seed\": 500, \"x_shape\": [2, 256], \"domains_source\": [\"ORACLE.run132\", \"ORACLE.run138\", \"ORACLE.run18\", \"ORACLE.run144\", \"ORACLE.run114\", \"ORACLE.run150\", \"ORACLE.run120\", \"ORACLE.run126\"], \"domains_target\": [\"Wisig_1\", \"Wisig_2\", \"Wisig_3\", \"Wisig_4\"]}, \"results\": {\"source_test_label_accuracy\": 0.72720703125, \"source_test_label_loss\": 0.8290343284606934, \"target_test_label_accuracy\": 0.7826719234746639, \"target_test_label_loss\": 11.029900550842285, \"source_val_label_accuracy\": 0.7278580729166667, \"source_val_label_loss\": 0.8233396410942078, \"target_val_label_accuracy\": 0.791106276371308, \"target_val_label_loss\": 11.077235221862793, \"total_epochs_trained\": 16, \"total_experiment_time_secs\": 13571.70064663887, \"confusion\": {\"ORACLE.run150\": {\"7\": {\"7\": 786, \"13\": 217, \"5\": 156, \"4\": 8, \"6\": 11, \"10\": 22}, \"10\": {\"10\": 1112, \"7\": 12, \"8\": 14, \"13\": 18, \"0\": 43, \"5\": 1}, \"0\": {\"0\": 1046, \"2\": 98, \"10\": 49, \"13\": 6, \"6\": 1}, \"11\": {\"11\": 1061, \"9\": 95, \"12\": 4, \"15\": 30, \"14\": 6, \"1\": 4}, \"2\": {\"0\": 84, \"2\": 1116}, \"14\": {\"14\": 1180, \"12\": 13, \"11\": 7}, \"9\": {\"9\": 946, \"11\": 173, \"12\": 77, \"14\": 4}, \"13\": {\"13\": 781, \"5\": 166, \"7\": 164, \"6\": 56, \"10\": 15, \"0\": 5, \"1\": 4, \"4\": 9}, \"8\": {\"8\": 1161, \"10\": 29, \"3\": 10}, \"15\": {\"15\": 914, \"1\": 162, \"4\": 81, \"11\": 26, \"6\": 16, \"5\": 1}, \"4\": {\"4\": 633, \"1\": 159, \"6\": 93, \"15\": 159, \"13\": 26, \"5\": 107, \"11\": 2, \"7\": 21}, \"5\": {\"6\": 60, \"5\": 508, \"13\": 152, \"4\": 188, \"7\": 246, \"1\": 39, \"10\": 6, \"0\": 1}, \"3\": {\"3\": 1169, \"8\": 31}, \"1\": {\"6\": 89, \"1\": 782, \"4\": 89, \"15\": 215, \"13\": 3, \"11\": 7, \"5\": 12, \"0\": 2, \"14\": 1}, \"6\": {\"5\": 38, \"6\": 871, \"13\": 70, \"4\": 123, \"15\": 27, \"1\": 66, \"7\": 4, \"0\": 1}, \"12\": {\"12\": 1094, \"9\": 80, \"14\": 21, \"11\": 5}}, \"ORACLE.run114\": {\"14\": {\"14\": 988, \"2\": 74, \"13\": 80, \"3\": 26, \"6\": 31, \"4\": 1}, \"6\": {\"6\": 714, \"14\": 48, \"13\": 399, \"2\": 39}, \"5\": {\"5\": 833, \"4\": 185, \"7\": 15, \"1\": 105, \"2\": 43, \"3\": 15, \"15\": 3, \"13\": 1}, \"15\": {\"15\": 1176, \"7\": 21, \"5\": 3}, \"11\": {\"11\": 1067, \"9\": 78, \"0\": 54, \"10\": 1}, \"8\": {\"8\": 1200}, \"12\": {\"12\": 1194, \"9\": 6}, \"1\": {\"1\": 1110, \"5\": 84, \"4\": 5, \"7\": 1}, \"2\": {\"2\": 601, \"14\": 195, \"5\": 134, \"4\": 62, \"3\": 49, \"6\": 77, \"13\": 63, \"15\": 18, \"1\": 1}, \"13\": {\"13\": 411, \"6\": 513, \"14\": 163, \"2\": 100, \"5\": 11, \"4\": 1, \"15\": 1}, \"3\": {\"3\": 1021, \"1\": 3, \"5\": 5, \"4\": 105, \"2\": 35, \"14\": 24, \"13\": 1, \"0\": 6}, \"0\": {\"0\": 1095, \"10\": 60, \"3\": 25, \"11\": 19, \"14\": 1}, \"9\": {\"9\": 1193, \"12\": 3, \"11\": 4}, \"4\": {\"3\": 108, \"4\": 861, \"5\": 152, \"2\": 61, \"1\": 12, \"14\": 4, \"13\": 1, \"6\": 1}, \"7\": {\"7\": 1182, \"15\": 10, \"1\": 6, \"5\": 2}, \"10\": {\"10\": 1168, \"0\": 31, \"3\": 1}}, \"ORACLE.run132\": {\"4\": {\"8\": 7, \"7\": 120, \"4\": 704, \"2\": 207, \"5\": 80, \"13\": 44, \"0\": 37, \"14\": 1}, \"14\": {\"14\": 582, \"11\": 262, \"7\": 184, \"5\": 44, \"2\": 10, \"13\": 47, \"0\": 44, \"8\": 7, \"4\": 13, \"3\": 7}, \"5\": {\"13\": 254, \"4\": 123, \"8\": 85, \"7\": 150, \"5\": 465, \"2\": 13, \"0\": 32, \"14\": 27, \"11\": 5, \"3\": 46}, \"10\": {\"10\": 1191, \"1\": 9}, \"13\": {\"5\": 218, \"13\": 623, \"2\": 4, \"7\": 85, \"8\": 65, \"0\": 22, \"14\": 14, \"3\": 68, \"4\": 88, \"11\": 13}, \"9\": {\"9\": 1197, \"12\": 3}, \"6\": {\"6\": 1200}, \"3\": {\"3\": 1112, \"13\": 42, \"5\": 14, \"14\": 7, \"8\": 2, \"11\": 21, \"7\": 2}, \"15\": {\"15\": 1193, \"8\": 7}, \"7\": {\"7\": 563, \"14\": 164, \"13\": 90, \"5\": 180, \"4\": 120, \"2\": 22, \"0\": 30, \"11\": 29, \"8\": 2}, \"12\": {\"12\": 1199, \"9\": 1}, \"8\": {\"8\": 922, \"0\": 101, \"5\": 61, \"3\": 15, \"13\": 92, \"7\": 2, \"15\": 1, \"14\": 4, \"4\": 2}, \"11\": {\"11\": 937, \"14\": 203, \"13\": 16, \"3\": 19, \"7\": 21, \"8\": 1, \"5\": 3}, \"2\": {\"2\": 948, \"4\": 200, \"5\": 4, \"0\": 31, \"7\": 17}, \"1\": {\"1\": 1186, \"10\": 14}, \"0\": {\"0\": 865, \"14\": 21, \"4\": 56, \"13\": 21, \"8\": 133, \"7\": 35, \"5\": 35, \"2\": 34}}, \"ORACLE.run144\": {\"8\": {\"8\": 748, \"0\": 396, \"5\": 16, \"15\": 40}, \"11\": {\"11\": 1100, \"6\": 23, \"13\": 76, \"7\": 1}, \"14\": {\"14\": 759, \"4\": 350, \"15\": 62, \"5\": 28, \"0\": 1}, \"10\": {\"10\": 912, \"2\": 103, \"1\": 119, \"12\": 65, \"7\": 1}, \"3\": {\"3\": 1063, \"1\": 117, \"2\": 3, \"12\": 17}, \"15\": {\"14\": 99, \"15\": 953, \"8\": 17, \"4\": 9, \"5\": 30, \"0\": 92}, \"2\": {\"2\": 862, \"1\": 56, \"10\": 105, \"7\": 165, \"12\": 2, \"3\": 8, \"9\": 2}, \"12\": {\"12\": 949, \"1\": 177, \"10\": 60, \"3\": 13, \"2\": 1}, \"4\": {\"4\": 873, \"14\": 317, \"15\": 7, \"13\": 1, \"9\": 1, \"5\": 1}, \"1\": {\"12\": 196, \"1\": 749, \"3\": 120, \"10\": 97, \"2\": 38}, \"0\": {\"15\": 59, \"0\": 732, \"8\": 315, \"5\": 94}, \"9\": {\"9\": 669, \"7\": 259, \"2\": 7, \"6\": 116, \"13\": 147, \"4\": 1, \"11\": 1}, \"5\": {\"5\": 1026, \"0\": 78, \"14\": 44, \"8\": 8, \"15\": 39, \"4\": 5}, \"6\": {\"6\": 826, \"13\": 200, \"7\": 28, \"9\": 127, \"11\": 18, \"2\": 1}, \"7\": {\"7\": 781, \"9\": 206, \"2\": 176, \"6\": 32, \"13\": 2, \"1\": 1, \"3\": 1, \"10\": 1}, \"13\": {\"7\": 9, \"13\": 798, \"6\": 192, \"9\": 154, \"11\": 41, \"4\": 5, \"14\": 1}}, \"ORACLE.run18\": {\"13\": {\"13\": 433, \"6\": 41, \"0\": 293, \"4\": 202, \"10\": 144, \"14\": 84, \"1\": 1, \"7\": 2}, \"3\": {\"3\": 1027, \"2\": 113, \"12\": 53, \"15\": 7}, \"15\": {\"15\": 883, \"12\": 227, \"8\": 66, \"2\": 9, \"3\": 12, \"7\": 2, \"6\": 1}, \"4\": {\"4\": 569, \"14\": 195, \"13\": 205, \"6\": 152, \"10\": 36, \"0\": 37, \"7\": 4, \"11\": 1, \"1\": 1}, \"7\": {\"7\": 837, \"4\": 6, \"6\": 292, \"0\": 54, \"13\": 5, \"8\": 3, \"2\": 3}, \"2\": {\"2\": 973, \"3\": 161, \"7\": 15, \"15\": 36, \"12\": 11, \"8\": 4}, \"1\": {\"1\": 877, \"14\": 52, \"11\": 242, \"5\": 16, \"10\": 9, \"13\": 1, \"4\": 3}, \"0\": {\"0\": 782, \"7\": 68, \"13\": 208, \"6\": 80, \"4\": 52, \"10\": 9, \"14\": 1}, \"12\": {\"12\": 641, \"15\": 363, \"3\": 159, \"8\": 18, \"2\": 19}, \"6\": {\"6\": 693, \"0\": 60, \"4\": 133, \"8\": 11, \"7\": 267, \"14\": 4, \"13\": 31, \"10\": 1}, \"11\": {\"11\": 808, \"1\": 360, \"14\": 17, \"8\": 5, \"5\": 8, \"10\": 2}, \"9\": {\"9\": 1200}, \"5\": {\"5\": 1056, \"1\": 50, \"10\": 70, \"14\": 17, \"11\": 6, \"13\": 1}, \"10\": {\"10\": 783, \"14\": 212, \"13\": 119, \"4\": 44, \"5\": 27, \"1\": 8, \"0\": 6, \"11\": 1}, \"14\": {\"14\": 641, \"10\": 189, \"13\": 77, \"6\": 6, \"4\": 192, \"1\": 83, \"11\": 9, \"5\": 2, \"0\": 1}, \"8\": {\"8\": 1121, \"7\": 6, \"15\": 63, \"6\": 6, \"12\": 3, \"11\": 1}}, \"ORACLE.run120\": {\"6\": {\"6\": 1070, \"14\": 111, \"7\": 13, \"10\": 1, \"8\": 4, \"11\": 1}, \"11\": {\"11\": 1200}, \"5\": {\"5\": 549, \"0\": 207, \"4\": 8, \"15\": 101, \"13\": 3, \"1\": 170, \"12\": 119, \"3\": 39, \"2\": 3, \"9\": 1}, \"14\": {\"10\": 82, \"14\": 961, \"6\": 128, \"8\": 29}, \"2\": {\"2\": 560, \"9\": 261, \"12\": 53, \"7\": 155, \"13\": 66, \"3\": 77, \"1\": 14, \"5\": 6, \"8\": 3, \"15\": 4, \"0\": 1}, \"7\": {\"8\": 73, \"7\": 905, \"2\": 121, \"5\": 1, \"3\": 38, \"6\": 13, \"9\": 33, \"4\": 3, \"0\": 1, \"13\": 8, \"10\": 2, \"12\": 2}, \"3\": {\"7\": 32, \"3\": 504, \"9\": 178, \"2\": 89, \"12\": 226, \"4\": 86, \"5\": 40, \"1\": 33, \"8\": 9, \"10\": 1, \"15\": 1, \"13\": 1}, \"4\": {\"4\": 976, \"3\": 50, \"8\": 125, \"5\": 2, \"10\": 30, \"7\": 6, \"12\": 5, \"9\": 3, \"2\": 2, \"14\": 1}, \"9\": {\"2\": 293, \"3\": 213, \"12\": 106, \"9\": 500, \"7\": 47, \"1\": 17, \"15\": 3, \"4\": 6, \"13\": 12, \"5\": 3}, \"12\": {\"3\": 256, \"12\": 442, \"1\": 183, \"5\": 110, \"15\": 20, \"9\": 121, \"2\": 52, \"13\": 1, \"8\": 1, \"7\": 2, \"4\": 7, \"0\": 5}, \"0\": {\"0\": 689, \"5\": 327, \"8\": 6, \"15\": 116, \"2\": 8, \"1\": 16, \"3\": 11, \"12\": 15, \"4\": 4, \"13\": 2, \"7\": 6}, \"10\": {\"10\": 1095, \"14\": 63, \"4\": 18, \"8\": 18, \"3\": 1, \"7\": 2, \"6\": 3}, \"8\": {\"8\": 931, \"4\": 123, \"7\": 78, \"3\": 7, \"14\": 40, \"0\": 2, \"12\": 1, \"6\": 10, \"10\": 7, \"2\": 1}, \"13\": {\"13\": 1111, \"12\": 4, \"2\": 41, \"9\": 8, \"15\": 22, \"7\": 3, \"5\": 2, \"0\": 4, \"1\": 4, \"11\": 1}, \"1\": {\"5\": 185, \"1\": 575, \"13\": 4, \"3\": 23, \"12\": 184, \"15\": 187, \"0\": 20, \"9\": 18, \"2\": 3, \"7\": 1}, \"15\": {\"15\": 736, \"1\": 189, \"5\": 117, \"13\": 42, \"12\": 19, \"0\": 78, \"2\": 10, \"9\": 5, \"3\": 4}}, \"ORACLE.run138\": {\"3\": {\"3\": 1133, \"0\": 20, \"9\": 35, \"6\": 2, \"7\": 9, \"5\": 1}, \"8\": {\"8\": 761, \"10\": 24, \"5\": 239, \"15\": 29, \"13\": 3, \"0\": 106, \"7\": 37, \"1\": 1}, \"0\": {\"3\": 64, \"0\": 614, \"7\": 191, \"5\": 58, \"10\": 36, \"8\": 227, \"12\": 1, \"9\": 3, \"15\": 2, \"13\": 2, \"4\": 2}, \"2\": {\"14\": 101, \"2\": 1056, \"13\": 40, \"15\": 3}, \"4\": {\"4\": 1152, \"12\": 45, \"7\": 2, \"0\": 1}, \"7\": {\"7\": 968, \"0\": 139, \"8\": 33, \"5\": 59, \"3\": 1}, \"12\": {\"4\": 18, \"12\": 1171, \"10\": 9, \"0\": 2}, \"6\": {\"5\": 11, \"6\": 1047, \"9\": 142}, \"15\": {\"15\": 911, \"1\": 99, \"13\": 113, \"8\": 38, \"5\": 27, \"0\": 3, \"10\": 8, \"2\": 1}, \"11\": {\"11\": 1069, \"14\": 112, \"2\": 5, \"10\": 9, \"12\": 3, \"13\": 2}, \"9\": {\"9\": 890, \"6\": 273, \"5\": 12, \"0\": 4, \"7\": 2, \"3\": 19}, \"14\": {\"14\": 1092, \"2\": 65, \"11\": 24, \"13\": 7, \"10\": 8, \"12\": 4}, \"10\": {\"13\": 126, \"10\": 949, \"2\": 4, \"8\": 43, \"5\": 5, \"0\": 29, \"15\": 9, \"4\": 3, \"12\": 7, \"7\": 7, \"11\": 7, \"14\": 11}, \"5\": {\"5\": 560, \"8\": 314, \"9\": 32, \"15\": 44, \"7\": 106, \"6\": 57, \"0\": 63, \"10\": 7, \"13\": 10, \"1\": 6, \"3\": 1}, \"1\": {\"1\": 1135, \"15\": 62, \"8\": 1, \"5\": 1, \"6\": 1}, \"13\": {\"13\": 847, \"15\": 146, \"10\": 145, \"2\": 31, \"5\": 7, \"14\": 1, \"1\": 5, \"8\": 14, \"0\": 4}}, \"ORACLE.run126\": {\"5\": {\"5\": 780, \"8\": 27, \"2\": 59, \"13\": 146, \"15\": 128, \"9\": 45, \"7\": 7, \"3\": 3, \"10\": 3, \"6\": 2}, \"8\": {\"3\": 3, \"15\": 86, \"4\": 99, \"9\": 87, \"0\": 95, \"7\": 105, \"8\": 475, \"10\": 154, \"5\": 21, \"14\": 22, \"6\": 33, \"1\": 6, \"2\": 14}, \"4\": {\"1\": 101, \"8\": 87, \"0\": 142, \"4\": 471, \"14\": 228, \"10\": 62, \"7\": 97, \"15\": 4, \"9\": 2, \"3\": 2, \"2\": 4}, \"12\": {\"12\": 1198, \"11\": 2}, \"6\": {\"15\": 36, \"6\": 842, \"9\": 164, \"0\": 28, \"10\": 78, \"8\": 38, \"5\": 6, \"13\": 6, \"4\": 1, \"14\": 1}, \"7\": {\"7\": 625, \"4\": 108, \"8\": 82, \"2\": 135, \"3\": 180, \"0\": 22, \"10\": 4, \"14\": 21, \"15\": 11, \"5\": 4, \"9\": 1, \"1\": 7}, \"10\": {\"0\": 268, \"8\": 175, \"4\": 76, \"6\": 51, \"10\": 467, \"14\": 118, \"9\": 11, \"1\": 24, \"15\": 5, \"7\": 5}, \"0\": {\"10\": 254, \"0\": 367, \"6\": 22, \"14\": 218, \"7\": 25, \"1\": 12, \"8\": 136, \"9\": 6, \"4\": 155, \"15\": 4, \"3\": 1}, \"15\": {\"5\": 151, \"15\": 447, \"13\": 56, \"9\": 327, \"6\": 47, \"8\": 110, \"7\": 15, \"2\": 32, \"10\": 6, \"4\": 5, \"0\": 3, \"14\": 1}, \"9\": {\"15\": 343, \"9\": 517, \"13\": 24, \"6\": 146, \"8\": 103, \"10\": 13, \"7\": 6, \"5\": 36, \"2\": 4, \"0\": 7, \"4\": 1}, \"11\": {\"11\": 1195, \"12\": 5}, \"14\": {\"1\": 240, \"14\": 429, \"0\": 189, \"10\": 95, \"4\": 210, \"8\": 22, \"7\": 11, \"15\": 1, \"6\": 2, \"9\": 1}, \"2\": {\"3\": 365, \"7\": 135, \"2\": 465, \"8\": 30, \"5\": 126, \"15\": 54, \"13\": 7, \"10\": 3, \"4\": 4, \"9\": 10, \"0\": 1}, \"13\": {\"13\": 884, \"5\": 202, \"2\": 18, \"3\": 3, \"15\": 60, \"9\": 26, \"6\": 7}, \"3\": {\"3\": 731, \"7\": 184, \"2\": 278, \"4\": 3, \"5\": 1, \"0\": 1, \"14\": 1, \"9\": 1}, \"1\": {\"1\": 762, \"14\": 220, \"4\": 134, \"8\": 14, \"7\": 11, \"10\": 36, \"0\": 23}}, \"Wisig_3\": {\"99\": {\"99\": 32, \"25\": 1, \"4\": 2, \"97\": 1}, \"8\": {\"8\": 110, \"42\": 1, \"12\": 5, \"30\": 1, \"0\": 2, \"108\": 3, \"15\": 2}, \"65\": {\"117\": 1, \"65\": 9, \"71\": 2}, \"117\": {\"117\": 109, \"7\": 1, \"121\": 1, \"88\": 1}, \"18\": {\"18\": 113, \"11\": 1, \"69\": 2, \"39\": 3, \"117\": 2, \"81\": 2, \"93\": 1}, \"39\": {\"117\": 7, \"39\": 70, \"23\": 2, \"18\": 4, \"2\": 1, \"67\": 3, \"120\": 1, \"113\": 11, \"93\": 2, \"118\": 2, \"109\": 1, \"126\": 2, \"16\": 1, \"11\": 1}, \"102\": {\"102\": 117, \"33\": 6, \"118\": 1}, \"76\": {\"102\": 1, \"76\": 15}, \"101\": {\"101\": 36, \"59\": 2, \"8\": 2, \"73\": 3, \"12\": 2, \"85\": 1, \"18\": 1, \"15\": 2, \"42\": 2, \"113\": 1}, \"57\": {\"57\": 19, \"55\": 1}, \"86\": {\"86\": 25, \"50\": 1, \"110\": 1, \"101\": 1}, \"11\": {\"11\": 66, \"44\": 5, \"84\": 6, \"14\": 8, \"62\": 2, \"110\": 2, \"116\": 2, \"90\": 18, \"129\": 1, \"87\": 6, \"16\": 11, \"88\": 1, \"107\": 1, \"100\": 1, \"93\": 2}, \"98\": {\"98\": 106, \"68\": 1, \"12\": 3, \"124\": 3, \"110\": 1, \"34\": 2, \"85\": 1, \"11\": 1, \"111\": 3, \"127\": 3, \"125\": 1, \"72\": 2, \"23\": 1}, \"42\": {\"47\": 1, \"101\": 2, \"15\": 3, \"108\": 2, \"42\": 9, \"75\": 1, \"106\": 1, \"73\": 2, \"85\": 1, \"111\": 1, \"124\": 3, \"70\": 2}, \"47\": {\"47\": 12}, \"49\": {\"11\": 2, \"42\": 5, \"87\": 2, \"92\": 1, \"49\": 5, \"113\": 1, \"70\": 2, \"29\": 2, \"60\": 1, \"0\": 1, \"98\": 1, \"14\": 1}, \"111\": {\"111\": 123, \"106\": 3, \"125\": 3, \"26\": 1, \"12\": 2}, \"36\": {\"36\": 98, \"24\": 3, \"27\": 9, \"30\": 4, \"0\": 2}, \"124\": {\"124\": 103, \"69\": 1, \"85\": 1, \"33\": 1}, \"122\": {\"122\": 35, \"55\": 1, \"117\": 1, \"9\": 2, \"114\": 4, \"1\": 5, \"5\": 1, \"110\": 1, \"18\": 1, \"3\": 2, \"107\": 1, \"34\": 2, \"90\": 1, \"126\": 2, \"26\": 1}, \"93\": {\"93\": 141, \"17\": 1}, \"89\": {\"89\": 27, \"69\": 1}, \"51\": {\"51\": 14, \"52\": 2}, \"73\": {\"73\": 34, \"15\": 2, \"58\": 1, \"101\": 2, \"21\": 1}, \"45\": {\"45\": 16}, \"5\": {\"5\": 90, \"121\": 1, \"128\": 1, \"3\": 13, \"71\": 1, \"126\": 1, \"105\": 1, \"49\": 1, \"18\": 1, \"113\": 1, \"127\": 1}, \"69\": {\"69\": 80, \"122\": 1, \"106\": 1, \"84\": 2}, \"26\": {\"26\": 129, \"2\": 1}, \"1\": {\"1\": 99, \"28\": 1, \"128\": 1, \"32\": 4, \"21\": 1, \"87\": 2}, \"92\": {\"92\": 27, \"2\": 2, \"120\": 1, \"113\": 2}, \"96\": {\"96\": 18, \"64\": 2}, \"85\": {\"85\": 33, \"98\": 3}, \"114\": {\"114\": 121, \"102\": 1, \"4\": 1, \"1\": 1, \"110\": 1, \"3\": 1}, \"50\": {\"50\": 16}, \"81\": {\"81\": 32}, \"2\": {\"2\": 8, \"33\": 1, \"92\": 2, \"96\": 2, \"39\": 2, \"23\": 2, \"26\": 3, \"120\": 1, \"64\": 1, \"18\": 1, \"121\": 1, \"67\": 2, \"117\": 2}, \"33\": {\"33\": 138, \"69\": 2, \"102\": 3, \"119\": 1, \"21\": 1, \"113\": 1}, \"31\": {\"31\": 19, \"92\": 1}, \"90\": {\"90\": 112, \"33\": 1, \"14\": 2, \"1\": 1, \"26\": 1, \"82\": 1}, \"17\": {\"86\": 2, \"120\": 2, \"43\": 3, \"17\": 3, \"113\": 1, \"95\": 1, \"102\": 1, \"99\": 1, \"23\": 1, \"7\": 1}, \"116\": {\"116\": 9, \"33\": 3, \"22\": 1, \"107\": 1, \"102\": 1, \"109\": 2, \"23\": 1, \"74\": 1, \"43\": 1, \"62\": 1, \"118\": 1, \"119\": 1, \"92\": 3, \"82\": 2}, \"91\": {\"98\": 3, \"91\": 16, \"68\": 2, \"43\": 1, \"85\": 2}, \"120\": {\"120\": 20}, \"128\": {\"11\": 2, \"91\": 1, \"128\": 7, \"127\": 4, \"103\": 1, \"48\": 2, \"22\": 1, \"85\": 1, \"1\": 1, \"124\": 1, \"4\": 1, \"55\": 4, \"80\": 1, \"32\": 1, \"108\": 2, \"105\": 2}, \"78\": {\"11\": 1, \"17\": 1, \"78\": 4, \"79\": 1, \"88\": 1, \"32\": 1, \"60\": 1, \"87\": 1, \"116\": 2, \"39\": 1, \"28\": 1, \"113\": 1}, \"58\": {\"58\": 12, \"73\": 2, \"35\": 2}, \"23\": {\"34\": 1, \"120\": 1, \"98\": 2, \"121\": 1, \"46\": 1, \"19\": 2, \"117\": 4, \"5\": 1, \"126\": 1, \"81\": 2, \"108\": 1, \"127\": 2, \"18\": 2, \"70\": 1, \"43\": 2, \"112\": 1, \"105\": 1, \"2\": 1, \"12\": 1, \"123\": 1, \"3\": 1, \"85\": 1, \"113\": 1}, \"15\": {\"15\": 94, \"6\": 1, \"10\": 1, \"106\": 3, \"12\": 3, \"8\": 1, \"21\": 1}, \"74\": {\"74\": 16}, \"34\": {\"23\": 1, \"58\": 1, \"100\": 2, \"52\": 1, \"34\": 10, \"6\": 2, \"91\": 2, \"111\": 4, \"106\": 1, \"60\": 2, \"41\": 1, \"0\": 1, \"11\": 1, \"53\": 1, \"45\": 1, \"107\": 1}, \"103\": {\"103\": 12, \"114\": 1, \"9\": 1, \"86\": 2}, \"106\": {\"106\": 87, \"73\": 2, \"8\": 1, \"30\": 1, \"15\": 4, \"59\": 2, \"6\": 1, \"0\": 2}, \"44\": {\"44\": 68, \"120\": 1, \"64\": 1, \"16\": 1, \"113\": 1}, \"9\": {\"9\": 27, \"101\": 1, \"127\": 2, \"82\": 1, \"86\": 1}, \"97\": {\"97\": 18, \"0\": 1, \"88\": 1}, \"123\": {\"123\": 14, \"106\": 1, \"68\": 1}, \"6\": {\"6\": 13, \"101\": 1, \"54\": 4, \"98\": 5, \"72\": 1, \"125\": 1, \"82\": 1, \"34\": 2, \"91\": 2, \"73\": 1, \"30\": 1}, \"68\": {\"68\": 15, \"98\": 1}, \"24\": {\"24\": 28, \"83\": 1, \"27\": 5, \"36\": 4, \"30\": 4, \"97\": 1, \"25\": 1, \"94\": 3, \"8\": 1}, \"21\": {\"21\": 42, \"69\": 1, \"71\": 1, \"43\": 2, \"84\": 1, \"108\": 1}, \"83\": {\"83\": 22, \"70\": 1, \"113\": 1}, \"60\": {\"60\": 13, \"48\": 1, \"64\": 1, \"87\": 3, \"84\": 1, \"115\": 1, \"114\": 2, \"28\": 1, \"20\": 2, \"96\": 1, \"79\": 2}, \"87\": {\"87\": 99, \"14\": 3, \"44\": 5, \"32\": 1, \"107\": 1, \"40\": 6, \"28\": 1, \"90\": 4}, \"30\": {\"15\": 2, \"42\": 2, \"30\": 66, \"18\": 1, \"117\": 1, \"94\": 1, \"101\": 3, \"0\": 2, \"17\": 2, \"26\": 1, \"88\": 1, \"8\": 2}, \"43\": {\"123\": 2, \"118\": 3, \"43\": 38, \"102\": 1, \"33\": 2, \"109\": 5, \"120\": 1, \"62\": 2, \"21\": 2}, \"115\": {\"115\": 14, \"74\": 1, \"32\": 1}, \"40\": {\"40\": 111, \"103\": 2, \"126\": 1, \"87\": 1, \"80\": 1, \"116\": 2, \"44\": 2}, \"112\": {\"112\": 10, \"59\": 2, \"108\": 1, \"19\": 2, \"10\": 1}, \"66\": {\"65\": 2, \"34\": 1, \"66\": 11, \"3\": 2}, \"110\": {\"110\": 84, \"53\": 2, \"93\": 1, \"27\": 1, \"101\": 1, \"70\": 2, \"127\": 1}, \"3\": {\"3\": 88, \"66\": 1, \"56\": 1, \"5\": 13, \"0\": 1, \"10\": 3, \"114\": 2, \"86\": 2, \"88\": 2, \"127\": 1}, \"20\": {\"110\": 2, \"20\": 12, \"19\": 1, \"88\": 1}, \"28\": {\"28\": 16}, \"84\": {\"84\": 92, \"33\": 7, \"126\": 2, \"69\": 1, \"90\": 2, \"87\": 2, \"16\": 1, \"14\": 1}, \"79\": {\"79\": 9, \"28\": 1, \"115\": 1, \"40\": 1}, \"118\": {\"43\": 6, \"118\": 58, \"92\": 2, \"23\": 1, \"102\": 9, \"84\": 2, \"64\": 1, \"109\": 12, \"69\": 2, \"8\": 1, \"113\": 1, \"33\": 3, \"16\": 1, \"126\": 1}, \"56\": {\"56\": 7, \"7\": 2, \"72\": 1, \"9\": 1, \"75\": 1}, \"48\": {\"62\": 2, \"43\": 4, \"13\": 1, \"48\": 3, \"99\": 1, \"95\": 1, \"71\": 1, \"90\": 1, \"119\": 2}, \"77\": {\"77\": 15, \"35\": 1}, \"14\": {\"14\": 75, \"103\": 2, \"40\": 1, \"33\": 1, \"107\": 1}, \"64\": {\"64\": 20}, \"67\": {\"67\": 13, \"27\": 1, \"118\": 2}, \"62\": {\"62\": 115, \"102\": 2, \"119\": 1, \"87\": 2, \"84\": 3, \"109\": 1}, \"75\": {\"75\": 16}, \"63\": {\"63\": 13, \"109\": 1, \"101\": 1, \"64\": 1}, \"7\": {\"7\": 103, \"95\": 1, \"40\": 2, \"105\": 2, \"86\": 2, \"127\": 2}, \"125\": {\"125\": 91, \"106\": 2, \"111\": 3, \"127\": 2, \"94\": 1, \"18\": 1, \"118\": 1, \"62\": 1, \"124\": 2}, \"37\": {\"37\": 16}, \"121\": {\"121\": 20, \"120\": 2, \"27\": 1, \"82\": 1, \"117\": 1, \"113\": 1, \"39\": 1, \"81\": 1, \"26\": 2, \"102\": 2}, \"16\": {\"16\": 95, \"11\": 2, \"109\": 2, \"113\": 1, \"117\": 1, \"93\": 2, \"18\": 1}, \"35\": {\"35\": 9, \"51\": 2, \"70\": 1}, \"32\": {\"32\": 27, \"57\": 1, \"107\": 1, \"40\": 1, \"98\": 1, \"128\": 1}, \"46\": {\"46\": 16}, \"70\": {\"129\": 1, \"70\": 43, \"60\": 3, \"108\": 9, \"53\": 1, \"88\": 2, \"10\": 2, \"110\": 1, \"113\": 1, \"42\": 2, \"67\": 1, \"71\": 2, \"81\": 1, \"8\": 1, \"5\": 1, \"19\": 1}, \"129\": {\"129\": 21, \"110\": 3, \"100\": 2, \"11\": 1, \"107\": 2, \"114\": 2, \"44\": 1}, \"95\": {\"95\": 29, \"64\": 1, \"9\": 2}, \"72\": {\"72\": 27, \"111\": 1}, \"19\": {\"28\": 1, \"98\": 3, \"52\": 2, \"100\": 1, \"19\": 8, \"51\": 2, \"110\": 1, \"124\": 4, \"10\": 1, \"72\": 1, \"127\": 2, \"34\": 1, \"108\": 1, \"129\": 2, \"12\": 2}, \"52\": {\"52\": 16}, \"100\": {\"100\": 11, \"16\": 2, \"29\": 1, \"79\": 2}, \"104\": {\"104\": 16}, \"59\": {\"59\": 12}, \"109\": {\"43\": 7, \"109\": 77, \"117\": 1, \"102\": 8, \"33\": 4, \"69\": 4, \"39\": 4, \"118\": 10, \"62\": 1, \"16\": 2, \"113\": 3, \"64\": 1, \"2\": 1, \"84\": 2, \"26\": 1}, \"88\": {\"88\": 66, \"110\": 5, \"49\": 1, \"11\": 3, \"70\": 3, \"60\": 1, \"128\": 1, \"3\": 9, \"107\": 1, \"1\": 2, \"114\": 3, \"93\": 2, \"10\": 3, \"67\": 1, \"71\": 1, \"81\": 1, \"53\": 1, \"5\": 2, \"108\": 2}, \"27\": {\"27\": 63, \"49\": 2, \"24\": 4, \"30\": 2, \"21\": 1, \"36\": 14, \"94\": 2, \"117\": 1, \"26\": 1, \"25\": 1, \"98\": 2, \"110\": 1}, \"113\": {\"113\": 108, \"117\": 6, \"109\": 1, \"93\": 1, \"26\": 1, \"64\": 1, \"121\": 1, \"39\": 1}, \"105\": {\"105\": 115, \"28\": 1, \"4\": 2, \"3\": 4, \"87\": 2}, \"71\": {\"71\": 48, \"84\": 1, \"4\": 1, \"41\": 1, \"122\": 1, \"5\": 5, \"125\": 1, \"99\": 2, \"3\": 3, \"93\": 1, \"127\": 2, \"126\": 1, \"11\": 1}, \"108\": {\"108\": 87, \"42\": 1, \"70\": 2, \"127\": 1, \"88\": 3, \"110\": 1, \"10\": 4, \"8\": 7, \"124\": 8, \"7\": 1, \"52\": 1, \"98\": 3, \"65\": 1, \"35\": 2, \"3\": 1, \"0\": 1}, \"41\": {\"41\": 16}, \"80\": {\"80\": 15, \"76\": 1}, \"13\": {\"13\": 5, \"69\": 2, \"33\": 2, \"89\": 2, \"23\": 2, \"43\": 2, \"118\": 1}, \"55\": {\"55\": 15, \"122\": 1}, \"0\": {\"0\": 91, \"15\": 3, \"8\": 5, \"39\": 1, \"101\": 2, \"12\": 2, \"84\": 1, \"62\": 1}, \"25\": {\"25\": 16}, \"53\": {\"53\": 15, \"5\": 2, \"122\": 1, \"114\": 2}, \"61\": {\"61\": 16}, \"38\": {\"38\": 16}, \"127\": {\"127\": 116, \"113\": 2, \"126\": 1, \"3\": 5, \"4\": 2, \"10\": 1, \"84\": 1}, \"4\": {\"71\": 2, \"4\": 85, \"9\": 2, \"122\": 1, \"5\": 1, \"105\": 1, \"86\": 1, \"113\": 1, \"26\": 1, \"88\": 1}, \"12\": {\"12\": 94, \"58\": 1, \"124\": 2, \"8\": 4, \"98\": 1, \"106\": 2}, \"126\": {\"126\": 108, \"81\": 3, \"18\": 3, \"109\": 1, \"118\": 1, \"113\": 1, \"88\": 1, \"8\": 1, \"39\": 3, \"117\": 2}, \"29\": {\"29\": 32}, \"107\": {\"107\": 132, \"44\": 1, \"90\": 2, \"109\": 1}, \"82\": {\"82\": 28}, \"94\": {\"94\": 71, \"15\": 4, \"0\": 7, \"30\": 1, \"18\": 1}, \"54\": {\"54\": 16}, \"10\": {\"124\": 6, \"110\": 1, \"10\": 82, \"77\": 2, \"3\": 3, \"108\": 6, \"98\": 5, \"127\": 13, \"26\": 1, \"71\": 4, \"85\": 2, \"8\": 1, \"5\": 2}, \"22\": {\"22\": 16}, \"119\": {\"119\": 14, \"62\": 2}}, \"Wisig_2\": {\"73\": {\"73\": 21, \"5\": 1, \"122\": 2, \"19\": 1, \"96\": 1, \"66\": 2}, \"40\": {\"40\": 98, \"105\": 14, \"58\": 1, \"7\": 4, \"1\": 1, \"43\": 4, \"16\": 1, \"74\": 1, \"95\": 2, \"14\": 1, \"3\": 1, \"117\": 1, \"5\": 2, \"108\": 1}, \"99\": {\"99\": 27, \"26\": 2, \"82\": 2, \"27\": 1}, \"5\": {\"53\": 1, \"5\": 103, \"24\": 1, \"1\": 1, \"39\": 1, \"110\": 1, \"88\": 1, \"71\": 1, \"122\": 1, \"0\": 1}, \"108\": {\"44\": 1, \"128\": 2, \"108\": 87, \"12\": 6, \"111\": 1, \"79\": 2, \"107\": 2, \"8\": 17, \"11\": 1, \"124\": 1, \"127\": 2, \"88\": 2, \"75\": 1, \"30\": 2, \"0\": 1, \"70\": 1, \"98\": 3}, \"128\": {\"107\": 1, \"58\": 1, \"95\": 2, \"7\": 2, \"105\": 1, \"5\": 2, \"114\": 2, \"91\": 1, \"4\": 3, \"128\": 1, \"57\": 1, \"21\": 1, \"8\": 1, \"40\": 1, \"108\": 2, \"106\": 2}, \"89\": {\"89\": 31, \"90\": 2, \"60\": 2, \"81\": 1}, \"107\": {\"107\": 36, \"58\": 1, \"71\": 4, \"86\": 3, \"73\": 1, \"122\": 1, \"32\": 4, \"114\": 1, \"4\": 1, \"21\": 2, \"2\": 1, \"106\": 1, \"5\": 2, \"126\": 1, \"15\": 1, \"110\": 1, \"108\": 1, \"14\": 2}, \"2\": {\"57\": 1, \"2\": 17, \"116\": 1, \"121\": 2, \"89\": 1, \"96\": 1, \"117\": 2, \"93\": 2, \"26\": 2, \"97\": 1, \"109\": 2}, \"78\": {\"78\": 19, \"21\": 2, \"82\": 1, \"95\": 3, \"1\": 8, \"126\": 1, \"70\": 3, \"10\": 1, \"40\": 2, \"43\": 2, \"105\": 2, \"118\": 1, \"114\": 1, \"87\": 1, \"62\": 1}, \"85\": {\"85\": 28, \"53\": 1, \"71\": 2, \"122\": 1}, \"44\": {\"44\": 95, \"19\": 2, \"107\": 2, \"126\": 1}, \"58\": {\"58\": 16, \"30\": 2, \"6\": 2}, \"57\": {\"57\": 15, \"10\": 1, \"69\": 2, \"82\": 1, \"88\": 1}, \"41\": {\"41\": 17, \"13\": 1, \"7\": 1, \"91\": 1}, \"53\": {\"53\": 15, \"110\": 1}, \"14\": {\"19\": 2, \"70\": 3, \"24\": 2, \"14\": 25, \"20\": 1, \"43\": 7, \"83\": 1, \"129\": 1, \"21\": 2, \"96\": 1, \"50\": 1, \"90\": 1, \"74\": 1}, \"83\": {\"83\": 38, \"125\": 1, \"127\": 1}, \"119\": {\"119\": 19, \"83\": 1}, \"95\": {\"28\": 2, \"95\": 32, \"7\": 1, \"88\": 1}, \"28\": {\"28\": 19, \"97\": 1}, \"19\": {\"19\": 14, \"5\": 1, \"86\": 1, \"23\": 1, \"128\": 1, \"71\": 4, \"53\": 2, \"1\": 1, \"3\": 1, \"73\": 2}, \"69\": {\"118\": 2, \"69\": 121, \"102\": 2, \"16\": 2, \"3\": 2, \"26\": 1, \"39\": 1, \"40\": 1}, \"93\": {\"93\": 126, \"26\": 2, \"109\": 3, \"18\": 1, \"16\": 2}, \"9\": {\"9\": 32}, \"118\": {\"118\": 46, \"82\": 4, \"102\": 2, \"84\": 7, \"90\": 3, \"48\": 1, \"116\": 2, \"14\": 1, \"33\": 1, \"1\": 1}, \"43\": {\"43\": 71, \"60\": 1, \"16\": 2, \"22\": 1, \"14\": 1, \"1\": 20, \"40\": 3, \"2\": 1, \"62\": 2, \"70\": 3, \"109\": 4, \"23\": 1, \"38\": 1, \"83\": 1, \"78\": 1, \"88\": 1, \"33\": 1, \"3\": 1}, \"47\": {\"47\": 11, \"129\": 1}, \"125\": {\"125\": 141, \"127\": 2, \"18\": 1}, \"29\": {\"29\": 31, \"68\": 1}, \"122\": {\"86\": 4, \"95\": 1, \"122\": 63, \"12\": 4, \"110\": 1, \"4\": 3, \"128\": 1, \"3\": 11, \"70\": 3, \"71\": 8, \"114\": 10, \"107\": 2, \"5\": 6, \"10\": 2, \"124\": 7, \"16\": 1, \"40\": 1, \"53\": 2, \"34\": 1, \"29\": 2, \"73\": 1, \"93\": 1, \"109\": 1, \"126\": 1, \"44\": 1, \"18\": 1, \"7\": 1}, \"46\": {\"70\": 2, \"46\": 9, \"14\": 3, \"60\": 2}, \"86\": {\"86\": 32}, \"70\": {\"78\": 5, \"70\": 45, \"93\": 3, \"126\": 5, \"14\": 4, \"17\": 2, \"10\": 4, \"43\": 7, \"60\": 4, \"62\": 6, \"21\": 2, \"1\": 7, \"88\": 5, \"87\": 4, \"109\": 1, \"33\": 2, \"122\": 1, \"39\": 1, \"11\": 1, \"18\": 1, \"23\": 3, \"123\": 1, \"16\": 2, \"127\": 1, \"3\": 3, \"45\": 1, \"4\": 1, \"44\": 2}, \"51\": {\"51\": 15, \"99\": 1, \"94\": 1, \"58\": 2, \"16\": 1}, \"23\": {\"86\": 2, \"23\": 2, \"3\": 1, \"120\": 1, \"49\": 1, \"121\": 1, \"114\": 1, \"19\": 2, \"127\": 1, \"5\": 3, \"69\": 2, \"29\": 2, \"71\": 4, \"70\": 1, \"4\": 4, \"124\": 4, \"109\": 1, \"65\": 1, \"26\": 1, \"53\": 1, \"128\": 3, \"2\": 1, \"12\": 1, \"63\": 1, \"117\": 1, \"99\": 1}, \"121\": {\"23\": 2, \"57\": 1, \"121\": 24, \"113\": 2, \"120\": 1, \"117\": 5, \"18\": 1}, \"63\": {\"21\": 1, \"57\": 1, \"63\": 16, \"90\": 1, \"49\": 1}, \"102\": {\"102\": 121, \"40\": 1}, \"21\": {\"21\": 46, \"88\": 2}, \"55\": {\"55\": 14, \"118\": 1, \"62\": 1}, \"54\": {\"54\": 20}, \"6\": {\"6\": 13, \"15\": 3, \"51\": 1, \"94\": 3, \"54\": 1, \"34\": 1, \"75\": 3, \"111\": 4, \"91\": 2, \"9\": 1}, \"109\": {\"109\": 55, \"83\": 1, \"23\": 1, \"87\": 4, \"88\": 14, \"93\": 8, \"84\": 1, \"126\": 3, \"90\": 2, \"16\": 6, \"70\": 1, \"43\": 1, \"117\": 1, \"71\": 1, \"39\": 1}, \"64\": {\"109\": 1, \"64\": 15}, \"20\": {\"20\": 16}, \"98\": {\"35\": 3, \"98\": 90, \"121\": 1, \"59\": 1, \"12\": 2, \"124\": 2, \"91\": 3, \"127\": 6, \"11\": 2, \"62\": 1, \"93\": 1, \"30\": 1, \"122\": 1}, \"92\": {\"92\": 21, \"118\": 2, \"76\": 2, \"113\": 1, \"84\": 2}, \"35\": {\"35\": 5, \"97\": 2, \"122\": 1, \"111\": 2, \"12\": 2}, \"113\": {\"113\": 53, \"109\": 1, \"40\": 2, \"2\": 2, \"117\": 5, \"26\": 2, \"65\": 1, \"78\": 1, \"48\": 2, \"21\": 2, \"11\": 1}, \"71\": {\"122\": 4, \"71\": 76, \"114\": 4, \"53\": 1, \"85\": 1, \"84\": 1, \"68\": 1, \"28\": 1, \"118\": 1, \"5\": 2, \"107\": 2, \"13\": 1, \"86\": 1, \"109\": 1, \"124\": 2, \"27\": 1}, \"94\": {\"94\": 32, \"71\": 1, \"101\": 8, \"6\": 1, \"42\": 2, \"99\": 1, \"26\": 2, \"89\": 1, \"24\": 3, \"97\": 2, \"10\": 1, \"65\": 1, \"9\": 2, \"8\": 1, \"88\": 1, \"11\": 1, \"74\": 1, \"15\": 1, \"108\": 1, \"111\": 1}, \"52\": {\"52\": 17, \"30\": 2, \"70\": 1}, \"116\": {\"87\": 2, \"80\": 3, \"116\": 13, \"89\": 1, \"84\": 1, \"90\": 2, \"23\": 1, \"57\": 1, \"31\": 2, \"118\": 1, \"102\": 1}, \"87\": {\"87\": 47, \"116\": 1, \"118\": 8, \"113\": 1, \"83\": 1, \"82\": 4, \"33\": 7, \"88\": 1, \"16\": 3, \"84\": 11, \"93\": 3, \"90\": 11, \"43\": 2, \"0\": 1, \"1\": 1, \"109\": 1, \"119\": 1, \"62\": 4, \"78\": 1, \"24\": 1, \"10\": 1, \"117\": 1}, \"90\": {\"116\": 3, \"90\": 140, \"102\": 3, \"84\": 2}, \"91\": {\"91\": 24, \"29\": 1, \"127\": 1, \"54\": 2}, \"84\": {\"84\": 75, \"62\": 6, \"109\": 2, \"33\": 7, \"7\": 1, \"1\": 1}, \"24\": {\"24\": 53, \"36\": 2, \"79\": 1, \"0\": 16, \"94\": 3, \"15\": 3, \"25\": 1, \"101\": 12, \"109\": 2, \"97\": 1, \"70\": 1, \"30\": 2, \"106\": 4, \"88\": 3, \"17\": 2, \"11\": 1, \"108\": 1, \"8\": 1, \"117\": 1, \"26\": 1, \"111\": 1}, \"33\": {\"90\": 5, \"33\": 102, \"84\": 11, \"87\": 1, \"62\": 11, \"88\": 1, \"39\": 1, \"80\": 1, \"108\": 1}, \"81\": {\"81\": 21, \"72\": 2, \"97\": 1}, \"115\": {\"115\": 8, \"60\": 1, \"49\": 1, \"5\": 1, \"122\": 1}, \"77\": {\"77\": 15, \"127\": 1}, \"106\": {\"106\": 100, \"98\": 1, \"21\": 1, \"24\": 1, \"30\": 8, \"125\": 1, \"111\": 3, \"7\": 1, \"15\": 2, \"94\": 2}, \"42\": {\"14\": 1, \"79\": 3, \"114\": 2, \"30\": 2, \"52\": 1, \"81\": 1, \"106\": 3, \"109\": 1, \"12\": 1, \"47\": 1, \"107\": 1, \"112\": 1, \"42\": 3, \"11\": 2, \"3\": 1, \"127\": 1, \"117\": 1, \"73\": 2}, \"38\": {\"38\": 16}, \"36\": {\"36\": 84, \"121\": 1, \"27\": 9, \"14\": 1, \"24\": 2, \"2\": 1, \"30\": 1, \"101\": 8, \"126\": 1, \"113\": 1, \"106\": 1, \"87\": 1, \"111\": 2, \"88\": 1}, \"79\": {\"79\": 16}, \"60\": {\"14\": 2, \"116\": 1, \"38\": 1, \"90\": 1, \"60\": 15, \"127\": 1, \"62\": 2, \"44\": 1, \"70\": 2, \"84\": 1, \"78\": 1}, \"80\": {\"80\": 8, \"1\": 4, \"120\": 1, \"33\": 1, \"50\": 2}, \"32\": {\"129\": 2, \"66\": 1, \"32\": 8, \"34\": 1, \"122\": 1, \"124\": 5, \"105\": 4, \"43\": 2, \"4\": 3, \"3\": 2, \"114\": 1, \"86\": 1, \"47\": 1, \"11\": 1, \"104\": 2, \"107\": 1}, \"0\": {\"0\": 100, \"111\": 2, \"24\": 2, \"108\": 4, \"101\": 5, \"30\": 2, \"10\": 1}, \"127\": {\"127\": 109, \"98\": 4, \"24\": 1, \"12\": 2, \"86\": 2, \"79\": 2, \"122\": 1, \"124\": 1, \"111\": 2}, \"114\": {\"114\": 105, \"69\": 1, \"86\": 3, \"71\": 1, \"5\": 1, \"18\": 1, \"122\": 4}, \"62\": {\"62\": 116, \"21\": 1, \"87\": 1, \"33\": 11, \"84\": 5, \"55\": 1, \"118\": 2, \"1\": 2, \"90\": 1}, \"129\": {\"129\": 26, \"73\": 1, \"19\": 2, \"44\": 1, \"0\": 2}, \"56\": {\"56\": 12}, \"76\": {\"76\": 16}, \"72\": {\"72\": 21, \"31\": 1, \"90\": 2, \"70\": 1, \"21\": 1, \"57\": 1, \"125\": 1}, \"88\": {\"90\": 3, \"71\": 3, \"88\": 56, \"109\": 9, \"23\": 1, \"87\": 3, \"3\": 1, \"93\": 19, \"16\": 6, \"39\": 1, \"43\": 2, \"126\": 4, \"11\": 2, \"70\": 6, \"33\": 1, \"57\": 1, \"40\": 1, \"83\": 1, \"62\": 2, \"44\": 1, \"21\": 1}, \"68\": {\"68\": 10, \"54\": 2, \"21\": 1, \"29\": 2, \"12\": 1}, \"67\": {\"67\": 7, \"82\": 3, \"21\": 1, \"1\": 2, \"76\": 1, \"90\": 1, \"75\": 1}, \"100\": {\"100\": 16}, \"34\": {\"34\": 9, \"68\": 3, \"29\": 1, \"124\": 5, \"17\": 2, \"21\": 1, \"12\": 1, \"110\": 1, \"24\": 1, \"71\": 3, \"98\": 1, \"11\": 1, \"54\": 1, \"3\": 2}, \"16\": {\"16\": 113, \"93\": 3, \"90\": 3, \"43\": 2, \"13\": 2, \"88\": 1}, \"126\": {\"126\": 119, \"70\": 1}, \"4\": {\"4\": 79, \"120\": 1, \"14\": 1, \"39\": 1, \"41\": 2, \"107\": 1, \"71\": 1, \"95\": 2}, \"101\": {\"101\": 139, \"129\": 1, \"108\": 1, \"0\": 3, \"3\": 1, \"106\": 1}, \"104\": {\"4\": 4, \"104\": 11, \"95\": 1, \"74\": 2, \"15\": 1, \"24\": 1}, \"30\": {\"67\": 1, \"8\": 1, \"30\": 67, \"106\": 15, \"98\": 1, \"58\": 2, \"49\": 1, \"125\": 2, \"111\": 5, \"108\": 5, \"127\": 2, \"11\": 1, \"3\": 1, \"93\": 1, \"79\": 1, \"44\": 1, \"24\": 1, \"15\": 1, \"40\": 1}, \"8\": {\"8\": 94, \"77\": 3, \"12\": 3, \"98\": 2, \"108\": 11, \"3\": 1, \"126\": 2, \"0\": 2, \"124\": 1, \"127\": 2, \"128\": 1, \"94\": 1, \"79\": 2, \"49\": 1, \"42\": 1, \"113\": 1}, \"82\": {\"82\": 28, \"16\": 1, \"62\": 1, \"33\": 2, \"90\": 3, \"70\": 1}, \"26\": {\"26\": 121, \"87\": 1, \"113\": 3, \"117\": 3, \"24\": 1, \"126\": 1, \"69\": 3, \"1\": 1, \"18\": 2, \"43\": 1, \"40\": 1}, \"96\": {\"96\": 20}, \"3\": {\"3\": 109, \"73\": 3, \"32\": 1, \"110\": 1, \"5\": 6, \"44\": 2, \"11\": 2, \"122\": 3, \"30\": 1, \"86\": 1, \"71\": 3, \"111\": 1, \"88\": 1, \"114\": 1, \"124\": 1}, \"25\": {\"25\": 14, \"21\": 1, \"126\": 1}, \"13\": {\"62\": 2, \"13\": 6, \"93\": 1, \"124\": 1, \"82\": 1, \"43\": 1, \"119\": 1, \"113\": 1, \"90\": 1, \"69\": 1}, \"37\": {\"95\": 2, \"37\": 9, \"40\": 2, \"13\": 1, \"50\": 1, \"3\": 1}, \"49\": {\"47\": 1, \"53\": 1, \"87\": 1, \"101\": 1, \"49\": 2, \"4\": 1, \"0\": 1, \"86\": 1, \"82\": 1, \"71\": 3, \"124\": 3, \"8\": 2, \"85\": 2, \"127\": 1, \"5\": 1, \"61\": 1, \"110\": 1}, \"111\": {\"111\": 133, \"127\": 1, \"125\": 2}, \"105\": {\"105\": 114, \"40\": 13, \"33\": 2, \"7\": 3}, \"17\": {\"35\": 2, \"114\": 1, \"42\": 1, \"87\": 1, \"19\": 1, \"17\": 3, \"56\": 2, \"26\": 1, \"29\": 2, \"91\": 2}, \"65\": {\"65\": 16, \"10\": 1, \"117\": 2, \"126\": 1}, \"123\": {\"112\": 1, \"3\": 1, \"123\": 13, \"111\": 1}, \"74\": {\"37\": 2, \"11\": 1, \"74\": 10, \"17\": 1, \"95\": 2}, \"97\": {\"97\": 15, \"1\": 1, \"58\": 1, \"119\": 1, \"8\": 1, \"90\": 1}, \"112\": {\"112\": 13, \"123\": 1, \"47\": 1, \"108\": 1}, \"120\": {\"120\": 19, \"117\": 1}, \"50\": {\"14\": 2, \"50\": 12, \"84\": 1, \"125\": 1}, \"59\": {\"59\": 9, \"24\": 1, \"91\": 2, \"86\": 2, \"29\": 2}, \"10\": {\"10\": 35, \"4\": 3, \"46\": 1, \"7\": 2, \"81\": 1, \"122\": 2, \"21\": 1, \"5\": 1, \"3\": 5, \"98\": 1, \"39\": 1, \"107\": 3, \"114\": 1, \"73\": 2, \"71\": 1}, \"45\": {\"14\": 2, \"45\": 9, \"33\": 2, \"127\": 1, \"1\": 2}, \"12\": {\"12\": 69, \"35\": 1, \"91\": 1, \"21\": 2, \"111\": 3, \"117\": 1, \"127\": 2, \"97\": 2, \"59\": 1, \"68\": 1, \"29\": 2, \"8\": 2, \"98\": 1}, \"75\": {\"51\": 2, \"75\": 9, \"40\": 1, \"103\": 1, \"125\": 1, \"108\": 1, \"101\": 1}, \"48\": {\"48\": 20}, \"61\": {\"61\": 15, \"10\": 1, \"93\": 1, \"89\": 1, \"95\": 2}, \"124\": {\"124\": 116, \"86\": 1, \"12\": 1, \"108\": 1, \"114\": 1, \"122\": 1, \"34\": 2, \"26\": 1}, \"11\": {\"124\": 8, \"11\": 61, \"117\": 1, \"39\": 1, \"108\": 2, \"49\": 2, \"8\": 4, \"69\": 1}, \"103\": {\"103\": 13, \"45\": 1, \"127\": 1, \"83\": 1}, \"7\": {\"7\": 114, \"29\": 2, \"109\": 2, \"105\": 7, \"39\": 1, \"40\": 2, \"78\": 1, \"107\": 3}, \"18\": {\"18\": 94, \"121\": 2, \"117\": 4, \"26\": 5, \"87\": 2, \"102\": 6, \"113\": 2, \"16\": 1, \"24\": 1, \"30\": 1, \"69\": 2}, \"31\": {\"31\": 12, \"69\": 2, \"102\": 2, \"62\": 1, \"16\": 1, \"13\": 2}, \"15\": {\"6\": 4, \"15\": 90, \"40\": 1, \"36\": 1, \"106\": 7, \"30\": 4, \"101\": 5, \"3\": 1, \"127\": 3, \"8\": 1, \"94\": 1}, \"1\": {\"1\": 115, \"99\": 1, \"60\": 1, \"126\": 1, \"43\": 1, \"75\": 1, \"62\": 1, \"70\": 1}, \"66\": {\"66\": 17, \"90\": 1, \"4\": 2}, \"110\": {\"110\": 26, \"81\": 1, \"107\": 1, \"65\": 1, \"109\": 1, \"122\": 1, \"3\": 2, \"26\": 1, \"5\": 2, \"47\": 1, \"12\": 1, \"113\": 1, \"88\": 1}, \"27\": {\"27\": 35, \"25\": 1, \"36\": 8, \"117\": 1, \"96\": 1, \"24\": 3, \"15\": 1, \"2\": 1, \"101\": 8, \"71\": 1, \"126\": 1, \"9\": 1, \"12\": 2, \"10\": 1, \"11\": 2, \"39\": 1}, \"22\": {\"50\": 1, \"22\": 17, \"124\": 1, \"27\": 1}, \"117\": {\"117\": 103, \"121\": 2, \"113\": 4, \"26\": 4, \"30\": 1, \"69\": 2, \"109\": 1, \"87\": 1, \"90\": 2}, \"39\": {\"39\": 60, \"31\": 2, \"26\": 8, \"16\": 2, \"93\": 2, \"109\": 7, \"118\": 1, \"69\": 4, \"102\": 4, \"88\": 5, \"120\": 1, \"82\": 2, \"89\": 2, \"87\": 2, \"18\": 3, \"78\": 1, \"113\": 1, \"62\": 1}}, \"Wisig_1\": {\"60\": {\"44\": 2, \"96\": 2, \"23\": 3, \"95\": 1, \"83\": 1, \"107\": 1, \"60\": 3, \"116\": 1, \"26\": 1, \"13\": 1}, \"59\": {\"62\": 1, \"59\": 7, \"127\": 1, \"6\": 1, \"125\": 1, \"102\": 1}, \"107\": {\"107\": 114, \"110\": 4, \"0\": 2, \"8\": 2, \"94\": 1, \"93\": 1}, \"113\": {\"113\": 120, \"117\": 2, \"18\": 1, \"118\": 1}, \"6\": {\"6\": 6, \"59\": 1, \"18\": 1, \"91\": 1, \"27\": 2, \"75\": 1, \"15\": 2, \"71\": 1, \"94\": 4, \"88\": 1, \"12\": 1, \"36\": 1, \"112\": 1, \"21\": 1, \"98\": 1, \"53\": 1, \"103\": 1, \"23\": 1, \"52\": 1, \"49\": 1, \"32\": 1, \"68\": 1}, \"24\": {\"24\": 81, \"108\": 4, \"27\": 2, \"101\": 2, \"30\": 1, \"36\": 1, \"117\": 1}, \"50\": {\"50\": 13, \"65\": 2, \"30\": 1}, \"62\": {\"62\": 103, \"50\": 1, \"33\": 8, \"102\": 2, \"69\": 3, \"39\": 1, \"70\": 1, \"18\": 1}, \"48\": {\"48\": 12}, \"104\": {\"104\": 16}, \"105\": {\"105\": 66, \"40\": 13, \"65\": 1, \"87\": 1, \"43\": 2, \"15\": 1}, \"44\": {\"44\": 76}, \"49\": {\"49\": 9, \"6\": 2, \"15\": 1, \"111\": 1, \"31\": 2, \"101\": 2, \"127\": 2, \"110\": 1}, \"55\": {\"55\": 12}, \"4\": {\"4\": 96, \"22\": 2, \"93\": 2}, \"76\": {\"76\": 16}, \"85\": {\"85\": 32}, \"89\": {\"89\": 34, \"110\": 2}, \"74\": {\"74\": 16}, \"112\": {\"112\": 11, \"127\": 2, \"58\": 1, \"111\": 1, \"106\": 1}, \"79\": {\"79\": 12}, \"0\": {\"89\": 1, \"118\": 1, \"0\": 68, \"110\": 6, \"23\": 1, \"1\": 1, \"55\": 2, \"9\": 1, \"107\": 2, \"98\": 1}, \"91\": {\"112\": 1, \"89\": 1, \"91\": 17, \"111\": 1, \"127\": 1, \"110\": 2, \"32\": 1, \"71\": 1, \"75\": 1, \"103\": 1, \"31\": 1}, \"118\": {\"118\": 66, \"95\": 3, \"69\": 2, \"26\": 8, \"16\": 3, \"110\": 1, \"33\": 1}, \"80\": {\"80\": 16}, \"64\": {\"64\": 16}, \"97\": {\"97\": 15, \"88\": 1, \"72\": 1, \"101\": 1, \"94\": 2}, \"84\": {\"84\": 114, \"42\": 2, \"128\": 1, \"1\": 4, \"14\": 3}, \"38\": {\"38\": 15, \"40\": 1}, \"30\": {\"30\": 36, \"27\": 4, \"24\": 2, \"94\": 3, \"15\": 2, \"101\": 1, \"29\": 1, \"42\": 1, \"88\": 1, \"36\": 1}, \"32\": {\"32\": 15, \"59\": 1, \"65\": 1, \"68\": 1, \"51\": 1, \"31\": 1, \"106\": 1, \"71\": 3, \"98\": 1, \"53\": 1, \"127\": 2, \"121\": 1, \"113\": 1, \"0\": 1, \"110\": 1}, \"72\": {\"72\": 31, \"9\": 1}, \"33\": {\"33\": 124, \"14\": 1, \"62\": 4, \"90\": 2, \"102\": 1}, \"34\": {\"110\": 1, \"79\": 1, \"34\": 6, \"91\": 2, \"98\": 2, \"124\": 4, \"84\": 3, \"53\": 2, \"0\": 2, \"87\": 2, \"56\": 1, \"14\": 1, \"92\": 1, \"82\": 1, \"111\": 1, \"81\": 1, \"42\": 1}, \"28\": {\"38\": 2, \"28\": 14, \"7\": 2, \"128\": 2}, \"123\": {\"123\": 15, \"44\": 1}, \"2\": {\"33\": 1, \"2\": 12, \"90\": 1, \"28\": 1, \"16\": 1, \"39\": 1, \"3\": 1, \"109\": 1, \"99\": 1, \"95\": 2, \"18\": 2, \"13\": 1, \"22\": 1, \"82\": 1, \"116\": 1, \"69\": 1, \"21\": 1, \"102\": 1, \"11\": 1}, \"70\": {\"70\": 75, \"50\": 1, \"128\": 1, \"21\": 1, \"93\": 4, \"44\": 3, \"124\": 3, \"39\": 3, \"109\": 1, \"108\": 5, \"126\": 13, \"8\": 2, \"10\": 4, \"5\": 3, \"31\": 1, \"84\": 1, \"0\": 2, \"15\": 1}, \"127\": {\"112\": 1, \"127\": 93, \"53\": 1, \"68\": 2, \"78\": 1, \"103\": 1, \"111\": 5, \"125\": 2, \"106\": 2}, \"110\": {\"110\": 104, \"0\": 6, \"89\": 3, \"93\": 1, \"98\": 7, \"127\": 2, \"39\": 1, \"113\": 1, \"87\": 1, \"109\": 1, \"16\": 1}, \"126\": {\"126\": 134, \"104\": 1, \"14\": 1}, \"13\": {\"13\": 16}, \"15\": {\"15\": 87, \"30\": 1, \"127\": 1, \"27\": 1, \"12\": 5, \"106\": 2, \"71\": 6, \"68\": 1}, \"29\": {\"128\": 1, \"29\": 27}, \"18\": {\"18\": 112, \"23\": 1, \"33\": 2, \"2\": 2, \"39\": 1, \"62\": 2}, \"7\": {\"7\": 135, \"122\": 1, \"43\": 4, \"25\": 2}, \"56\": {\"56\": 12}, \"98\": {\"98\": 104, \"0\": 1, \"110\": 3}, \"99\": {\"99\": 21, \"23\": 1, \"81\": 1, \"3\": 1}, \"77\": {\"77\": 11, \"17\": 2, \"26\": 1, \"110\": 2}, \"103\": {\"15\": 1, \"103\": 13, \"27\": 1, \"75\": 1}, \"128\": {\"128\": 7, \"7\": 2, \"9\": 1, \"80\": 1, \"57\": 2, \"72\": 2, \"29\": 2, \"28\": 2, \"82\": 1, \"15\": 1, \"49\": 1, \"101\": 1, \"43\": 1}, \"3\": {\"3\": 72, \"81\": 2, \"122\": 2, \"88\": 1, \"127\": 2, \"102\": 3, \"11\": 3, \"69\": 2, \"15\": 1}, \"121\": {\"121\": 25, \"123\": 2, \"16\": 2, \"18\": 2, \"63\": 1}, \"42\": {\"9\": 1, \"3\": 3, \"22\": 2, \"0\": 1, \"42\": 6, \"84\": 2, \"31\": 1, \"20\": 2, \"4\": 1, \"129\": 4, \"55\": 1, \"124\": 1, \"109\": 1, \"107\": 1, \"43\": 1}, \"90\": {\"90\": 120}, \"37\": {\"37\": 16}, \"120\": {\"117\": 1, \"120\": 15, \"82\": 1, \"87\": 1, \"21\": 1, \"78\": 1}, \"117\": {\"117\": 114, \"16\": 4}, \"9\": {\"9\": 31, \"60\": 1}, \"108\": {\"108\": 102, \"96\": 2, \"71\": 1, \"101\": 9, \"126\": 2, \"12\": 2, \"24\": 1, \"72\": 1, \"88\": 1, \"87\": 1, \"27\": 2}, \"83\": {\"84\": 2, \"83\": 16, \"40\": 2, \"4\": 1, \"124\": 1, \"5\": 2, \"107\": 1, \"114\": 1, \"93\": 2}, \"14\": {\"14\": 80, \"83\": 1, \"65\": 1, \"84\": 3, \"124\": 3, \"1\": 3, \"42\": 2, \"8\": 2, \"11\": 1}, \"63\": {\"63\": 16}, \"11\": {\"11\": 86, \"122\": 3, \"82\": 2, \"39\": 1, \"90\": 6, \"7\": 6, \"43\": 2, \"1\": 1, \"80\": 2, \"45\": 1, \"2\": 1, \"99\": 1, \"3\": 5, \"114\": 1}, \"95\": {\"95\": 35, \"26\": 1}, \"26\": {\"95\": 1, \"26\": 117, \"118\": 3, \"36\": 1, \"117\": 5, \"97\": 1, \"16\": 2}, \"22\": {\"22\": 10, \"123\": 1, \"80\": 1, \"7\": 1, \"84\": 1, \"28\": 2}, \"102\": {\"102\": 110, \"67\": 2, \"116\": 2, \"33\": 6}, \"69\": {\"102\": 5, \"69\": 88, \"2\": 1, \"113\": 2, \"39\": 3, \"18\": 1, \"26\": 2, \"62\": 4}, \"1\": {\"1\": 127, \"84\": 3}, \"67\": {\"67\": 16}, \"57\": {\"57\": 12}, \"8\": {\"8\": 97, \"107\": 5, \"89\": 1, \"4\": 3, \"86\": 1, \"93\": 9, \"114\": 1, \"40\": 1, \"10\": 1, \"70\": 1, \"1\": 1, \"5\": 2, \"44\": 2, \"66\": 1, \"84\": 1, \"124\": 5, \"105\": 1, \"87\": 1}, \"109\": {\"109\": 112, \"126\": 2, \"96\": 2, \"39\": 1, \"108\": 2, \"84\": 1, \"70\": 1, \"3\": 1, \"11\": 1, \"18\": 1}, \"129\": {\"44\": 4, \"128\": 2, \"129\": 10, \"102\": 3, \"18\": 1, \"65\": 2, \"66\": 1, \"99\": 1, \"34\": 1, \"2\": 1, \"84\": 2}, \"111\": {\"91\": 1, \"111\": 107, \"125\": 1, \"53\": 1, \"127\": 3, \"112\": 1, \"71\": 2, \"32\": 2, \"68\": 2}, \"71\": {\"71\": 82, \"102\": 1, \"52\": 1, \"12\": 4, \"53\": 2, \"69\": 1, \"98\": 2, \"127\": 2, \"113\": 2, \"101\": 2, \"106\": 3, \"70\": 1, \"39\": 1, \"111\": 2, \"126\": 1, \"62\": 1}, \"47\": {\"47\": 12}, \"82\": {\"82\": 31, \"122\": 1, \"81\": 4}, \"27\": {\"27\": 72, \"30\": 3, \"88\": 6, \"24\": 1, \"52\": 1, \"94\": 5, \"108\": 1, \"101\": 1, \"15\": 2}, \"19\": {\"104\": 2, \"19\": 20, \"73\": 1, \"64\": 1, \"42\": 1, \"34\": 1, \"44\": 1, \"124\": 1}, \"122\": {\"87\": 2, \"122\": 55, \"82\": 1, \"7\": 10, \"39\": 1, \"43\": 14, \"14\": 2, \"25\": 2, \"90\": 1}, \"53\": {\"53\": 17, \"111\": 1, \"103\": 2}, \"87\": {\"122\": 3, \"87\": 76, \"79\": 1, \"114\": 6, \"4\": 1, \"40\": 7, \"108\": 1, \"84\": 1, \"1\": 3, \"60\": 1, \"37\": 1, \"7\": 1, \"105\": 1, \"43\": 3, \"14\": 2}, \"100\": {\"100\": 12, \"82\": 2, \"23\": 2}, \"66\": {\"66\": 16}, \"31\": {\"31\": 16}, \"58\": {\"58\": 12}, \"68\": {\"68\": 15, \"127\": 1}, \"88\": {\"112\": 1, \"88\": 71, \"27\": 9, \"78\": 1, \"111\": 1, \"36\": 3, \"94\": 4, \"14\": 1, \"105\": 1, \"15\": 5, \"108\": 3, \"101\": 4, \"126\": 1, \"70\": 2, \"24\": 3, \"3\": 1, \"96\": 1, \"30\": 1, \"109\": 1}, \"45\": {\"128\": 1, \"129\": 1, \"122\": 3, \"3\": 1, \"45\": 4, \"109\": 1, \"127\": 1}, \"114\": {\"114\": 124, \"4\": 2, \"84\": 2}, \"23\": {\"124\": 1, \"23\": 6, \"0\": 2, \"99\": 2, \"2\": 1, \"90\": 2, \"62\": 1, \"54\": 1, \"110\": 1, \"9\": 1, \"82\": 1, \"11\": 3, \"106\": 2}, \"65\": {\"58\": 1, \"102\": 1, \"80\": 1, \"16\": 1, \"25\": 2, \"74\": 1, \"97\": 1, \"63\": 1, \"65\": 1, \"118\": 1, \"18\": 1}, \"124\": {\"124\": 116, \"34\": 2}, \"10\": {\"10\": 59, \"85\": 5, \"79\": 2, \"4\": 6, \"70\": 5, \"105\": 2, \"8\": 6, \"41\": 1, \"40\": 2, \"15\": 1, \"7\": 1, \"93\": 12, \"107\": 2, \"94\": 1, \"122\": 1, \"98\": 1, \"114\": 2, \"77\": 2, \"87\": 3, \"86\": 1, \"5\": 2, \"11\": 2, \"44\": 1}, \"92\": {\"92\": 28}, \"40\": {\"40\": 128, \"7\": 2, \"114\": 2, \"43\": 1, \"105\": 7, \"26\": 1, \"4\": 2, \"39\": 1}, \"73\": {\"73\": 18, \"24\": 1, \"108\": 1}, \"94\": {\"94\": 66, \"36\": 2, \"6\": 2, \"27\": 9, \"30\": 3, \"88\": 2, \"101\": 1, \"15\": 4, \"60\": 1, \"29\": 1, \"118\": 1}, \"81\": {\"81\": 22, \"43\": 1, \"82\": 4, \"23\": 1}, \"101\": {\"101\": 108, \"62\": 1, \"33\": 1}, \"86\": {\"86\": 33, \"71\": 1, \"29\": 1, \"101\": 1}, \"78\": {\"78\": 3, \"38\": 1, \"74\": 1, \"25\": 3, \"34\": 1, \"115\": 1, \"87\": 1, \"23\": 2, \"11\": 2, \"43\": 1}, \"96\": {\"96\": 15, \"14\": 2, \"21\": 1, \"129\": 2}, \"5\": {\"5\": 78, \"124\": 2, \"107\": 2, \"108\": 1, \"109\": 2, \"31\": 1, \"93\": 2}, \"16\": {\"26\": 7, \"16\": 76, \"63\": 4, \"117\": 10, \"69\": 2, \"21\": 1, \"118\": 4, \"39\": 1, \"18\": 2, \"113\": 1}, \"35\": {\"35\": 12}, \"51\": {\"51\": 15, \"127\": 1}, \"46\": {\"46\": 8, \"27\": 1, \"12\": 1, \"8\": 1, \"85\": 1}, \"20\": {\"20\": 16}, \"116\": {\"74\": 3, \"116\": 17, \"7\": 1, \"102\": 1, \"105\": 1, \"122\": 2, \"66\": 2, \"62\": 1, \"61\": 1, \"50\": 1, \"2\": 1, \"15\": 1}, \"75\": {\"75\": 16}, \"43\": {\"7\": 22, \"43\": 74, \"80\": 1, \"11\": 4, \"39\": 2, \"122\": 11, \"105\": 2, \"1\": 4, \"40\": 1, \"114\": 1, \"100\": 1, \"82\": 1, \"120\": 1, \"87\": 1, \"90\": 1, \"84\": 1}, \"17\": {\"17\": 11, \"54\": 2, \"110\": 1, \"98\": 2}, \"12\": {\"12\": 100, \"71\": 1, \"107\": 1, \"101\": 2}, \"25\": {\"25\": 16}, \"54\": {\"17\": 2, \"54\": 13, \"58\": 1}, \"36\": {\"36\": 102, \"39\": 1, \"113\": 1, \"94\": 3, \"101\": 2, \"9\": 1, \"18\": 1, \"24\": 1}, \"52\": {\"52\": 20}, \"61\": {\"61\": 12}, \"106\": {\"91\": 1, \"106\": 111, \"53\": 2, \"127\": 3, \"111\": 1, \"32\": 2}, \"39\": {\"39\": 69, \"18\": 10, \"10\": 1, \"117\": 13, \"26\": 3, \"122\": 1, \"118\": 1, \"16\": 3, \"113\": 3}, \"119\": {\"119\": 16}, \"125\": {\"125\": 145, \"111\": 2, \"51\": 1}, \"93\": {\"93\": 101, \"84\": 2, \"4\": 6, \"0\": 3, \"44\": 2, \"10\": 7, \"8\": 10, \"107\": 4, \"40\": 2, \"124\": 2, \"109\": 1, \"121\": 1, \"86\": 2, \"71\": 1, \"70\": 1, \"1\": 1, \"114\": 2}, \"115\": {\"115\": 12}, \"21\": {\"21\": 22, \"96\": 2, \"42\": 1, \"70\": 1, \"7\": 1, \"39\": 1, \"43\": 1, \"94\": 1, \"11\": 2, \"44\": 1, \"90\": 1, \"34\": 1, \"14\": 1, \"109\": 1, \"83\": 1, \"8\": 2}, \"41\": {\"41\": 16}}, \"Wisig_4\": {\"55\": {\"55\": 16}, \"9\": {\"9\": 26, \"15\": 2}, \"70\": {\"70\": 74, \"111\": 1, \"23\": 2, \"128\": 2, \"108\": 1, \"27\": 4, \"100\": 3, \"49\": 1, \"0\": 4, \"124\": 8, \"110\": 2, \"39\": 1, \"88\": 4, \"114\": 1, \"129\": 2, \"112\": 1, \"93\": 2, \"85\": 1, \"102\": 1, \"8\": 3, \"84\": 1, \"101\": 1, \"71\": 1, \"3\": 1}, \"112\": {\"112\": 12, \"88\": 1, \"52\": 1, \"0\": 2}, \"115\": {\"115\": 6, \"10\": 1, \"76\": 3, \"99\": 1, \"18\": 2, \"107\": 1, \"28\": 1, \"64\": 1}, \"56\": {\"56\": 9, \"43\": 1, \"86\": 2}, \"108\": {\"111\": 1, \"108\": 49, \"25\": 1, \"11\": 1, \"109\": 1, \"112\": 1, \"129\": 1, \"57\": 1, \"19\": 1, \"26\": 1, \"10\": 1, \"88\": 2, \"5\": 11, \"93\": 9, \"15\": 1, \"51\": 1, \"79\": 1, \"14\": 2, \"78\": 1, \"43\": 1, \"24\": 1, \"36\": 1, \"110\": 2}, \"117\": {\"117\": 122, \"107\": 1, \"104\": 1}, \"111\": {\"59\": 2, \"111\": 110, \"103\": 2, \"101\": 2, \"106\": 4, \"12\": 1, \"98\": 1, \"125\": 4, \"127\": 5, \"113\": 1}, \"71\": {\"71\": 79, \"55\": 1, \"108\": 1, \"4\": 4, \"114\": 6, \"83\": 1, \"86\": 1, \"15\": 1, \"7\": 2, \"12\": 1, \"36\": 1, \"126\": 3, \"87\": 1, \"10\": 1, \"1\": 1}, \"59\": {\"59\": 10, \"6\": 2}, \"10\": {\"9\": 2, \"10\": 68, \"25\": 1, \"15\": 15, \"27\": 5, \"6\": 1, \"30\": 6, \"70\": 2, \"36\": 5, \"24\": 6, \"88\": 2, \"94\": 1, \"0\": 2, \"1\": 1, \"111\": 3, \"37\": 1, \"8\": 2, \"126\": 1}, \"83\": {\"83\": 22, \"124\": 1, \"128\": 3, \"86\": 1, \"119\": 1}, \"116\": {\"116\": 10, \"48\": 1, \"66\": 4, \"99\": 2, \"84\": 1, \"69\": 1, \"33\": 3, \"90\": 1, \"121\": 1, \"32\": 2, \"44\": 1, \"118\": 1}, \"13\": {\"13\": 16}, \"4\": {\"55\": 2, \"4\": 93, \"124\": 2, \"71\": 2, \"85\": 2, \"98\": 2, \"126\": 1}, \"125\": {\"125\": 102, \"117\": 1, \"113\": 1, \"98\": 2}, \"102\": {\"102\": 119, \"1\": 1, \"69\": 1, \"90\": 2, \"108\": 1}, \"47\": {\"75\": 1, \"47\": 11}, \"28\": {\"28\": 20}, \"82\": {\"82\": 30, \"3\": 1, \"14\": 1}, \"60\": {\"14\": 1, \"28\": 1, \"82\": 2, \"122\": 2, \"100\": 2, \"45\": 1, \"8\": 1, \"43\": 3, \"60\": 9, \"44\": 1, \"116\": 1, \"83\": 1, \"20\": 1, \"118\": 1, \"124\": 2, \"46\": 2, \"86\": 1}, \"107\": {\"107\": 123, \"32\": 1, \"2\": 1, \"11\": 2, \"87\": 4, \"84\": 1, \"44\": 1, \"102\": 1}, \"75\": {\"75\": 16}, \"31\": {\"31\": 16}, \"92\": {\"92\": 28}, \"58\": {\"58\": 16}, \"113\": {\"113\": 102, \"117\": 10, \"21\": 1, \"121\": 1, \"10\": 1, \"84\": 2, \"26\": 2, \"39\": 3, \"118\": 1, \"126\": 1, \"67\": 2, \"1\": 1, \"18\": 1}, \"95\": {\"125\": 1, \"17\": 1, \"95\": 25, \"73\": 2, \"29\": 1, \"98\": 2}, \"14\": {\"14\": 93, \"126\": 1, \"5\": 4, \"107\": 1, \"109\": 2, \"11\": 2, \"73\": 2, \"20\": 1, \"43\": 2, \"3\": 1, \"33\": 1, \"118\": 1, \"113\": 1}, \"17\": {\"17\": 20}, \"104\": {\"104\": 14, \"40\": 1, \"107\": 1}, \"72\": {\"72\": 24, \"50\": 1, \"87\": 1, \"49\": 1, \"74\": 1, \"32\": 1, \"28\": 1, \"102\": 1, \"43\": 1}, \"69\": {\"69\": 106, \"88\": 1, \"44\": 2, \"102\": 6, \"90\": 6, \"118\": 2, \"21\": 1, \"39\": 1, \"33\": 2, \"109\": 1}, \"63\": {\"63\": 14, \"123\": 2}, \"12\": {\"12\": 75, \"103\": 2, \"111\": 5, \"106\": 8, \"8\": 1, \"98\": 1, \"101\": 2, \"3\": 1, \"91\": 1, \"105\": 1, \"30\": 1, \"0\": 1, \"62\": 1}, \"25\": {\"25\": 16}, \"67\": {\"63\": 1, \"13\": 1, \"74\": 3, \"26\": 1, \"44\": 2, \"92\": 2, \"67\": 2, \"123\": 2, \"33\": 1, \"117\": 1}, \"50\": {\"50\": 16}, \"43\": {\"43\": 60, \"72\": 2, \"74\": 2, \"23\": 1, \"33\": 19, \"22\": 2, \"70\": 1, \"1\": 1, \"107\": 3, \"109\": 2, \"126\": 1, \"122\": 4, \"40\": 8, \"87\": 2, \"110\": 2, \"11\": 2, \"32\": 2, \"88\": 1, \"5\": 2, \"118\": 1, \"102\": 1, \"15\": 1}, \"96\": {\"96\": 19, \"2\": 1}, \"128\": {\"71\": 3, \"50\": 1, \"114\": 1, \"98\": 1, \"79\": 1, \"128\": 5, \"11\": 1, \"93\": 1, \"46\": 2, \"41\": 1, \"73\": 1, \"108\": 1, \"76\": 1, \"52\": 1, \"124\": 2, \"60\": 1}, \"77\": {\"77\": 12}, \"54\": {\"54\": 15, \"70\": 1}, \"118\": {\"122\": 10, \"118\": 57, \"102\": 5, \"108\": 1, \"11\": 1, \"44\": 4, \"69\": 7, \"62\": 4, \"15\": 1, \"39\": 2, \"33\": 8, \"43\": 1, \"90\": 5, \"48\": 2, \"126\": 1, \"127\": 1, \"21\": 1, \"110\": 1}, \"30\": {\"30\": 48, \"93\": 1, \"27\": 5, \"15\": 8, \"8\": 2, \"10\": 3, \"94\": 2, \"24\": 1, \"9\": 1, \"36\": 2, \"0\": 2, \"39\": 1}, \"51\": {\"103\": 2, \"111\": 3, \"75\": 1, \"34\": 1, \"0\": 1, \"51\": 3, \"9\": 2, \"106\": 2, \"25\": 1}, \"122\": {\"122\": 46, \"74\": 3, \"45\": 1, \"102\": 1, \"5\": 1, \"38\": 2, \"118\": 1, \"22\": 1, \"44\": 6, \"90\": 2, \"110\": 1, \"126\": 1, \"33\": 6, \"39\": 1, \"43\": 5, \"88\": 1, \"14\": 1, \"30\": 1, \"109\": 1, \"113\": 1, \"7\": 1}, \"46\": {\"46\": 19, \"20\": 1}, \"79\": {\"79\": 15, \"32\": 1}, \"103\": {\"103\": 14, \"12\": 2}, \"74\": {\"79\": 1, \"74\": 14, \"72\": 1}, \"90\": {\"90\": 141, \"44\": 2, \"102\": 3}, \"8\": {\"8\": 105, \"12\": 2, \"1\": 1, \"101\": 16, \"106\": 9, \"0\": 3, \"15\": 1, \"91\": 2, \"26\": 1, \"111\": 1, \"114\": 1}, \"94\": {\"94\": 53, \"97\": 2, \"9\": 3, \"57\": 1, \"27\": 3, \"125\": 1, \"12\": 2, \"15\": 4, \"30\": 2, \"106\": 3, \"24\": 1, \"36\": 5, \"54\": 1, \"10\": 1, \"126\": 2, \"78\": 1, \"0\": 1, \"8\": 2}, \"7\": {\"7\": 107, \"36\": 1, \"10\": 1, \"3\": 2, \"126\": 1, \"17\": 2, \"82\": 2, \"50\": 1, \"105\": 1, \"107\": 4}, \"61\": {\"61\": 12, \"18\": 4}, \"26\": {\"26\": 96, \"18\": 15, \"126\": 2, \"113\": 4, \"30\": 1, \"84\": 2}, \"127\": {\"127\": 101, \"106\": 2, \"126\": 1, \"103\": 2, \"114\": 1, \"8\": 1}, \"23\": {\"127\": 1, \"26\": 1, \"21\": 1, \"65\": 2, \"52\": 2, \"112\": 1, \"23\": 4, \"123\": 1, \"122\": 1, \"55\": 2}, \"1\": {\"1\": 62, \"89\": 2, \"114\": 8, \"3\": 11, \"87\": 2, \"71\": 4, \"14\": 4, \"105\": 3, \"86\": 1, \"7\": 6, \"107\": 1, \"23\": 1, \"5\": 1, \"11\": 1, \"10\": 1}, \"93\": {\"93\": 133, \"110\": 1}, \"106\": {\"106\": 81, \"123\": 1, \"12\": 7, \"18\": 1, \"34\": 2, \"111\": 7, \"126\": 1, \"39\": 2, \"8\": 1, \"0\": 4, \"118\": 1, \"101\": 1, \"42\": 2, \"109\": 1, \"113\": 1, \"27\": 1, \"21\": 1, \"26\": 1}, \"110\": {\"110\": 100, \"5\": 12, \"3\": 2, \"93\": 3, \"10\": 1}, \"76\": {\"76\": 15, \"115\": 1}, \"36\": {\"36\": 93, \"24\": 8, \"6\": 2, \"97\": 1, \"10\": 8, \"30\": 4, \"27\": 3, \"109\": 1}, \"21\": {\"21\": 35, \"23\": 2, \"84\": 1, \"78\": 1, \"62\": 1}, \"37\": {\"37\": 12, \"127\": 2, \"86\": 2}, \"11\": {\"11\": 76, \"82\": 3, \"107\": 6, \"79\": 2, \"40\": 7, \"87\": 8, \"5\": 3, \"7\": 1, \"99\": 3, \"33\": 1, \"20\": 2, \"43\": 4, \"109\": 1, \"14\": 3}, \"109\": {\"109\": 69, \"80\": 3, \"22\": 1, \"118\": 5, \"84\": 2, \"110\": 1, \"90\": 14, \"44\": 5, \"16\": 1, \"126\": 1, \"93\": 4, \"67\": 2, \"62\": 2, \"102\": 2, \"5\": 2, \"69\": 2}, \"62\": {\"21\": 1, \"82\": 1, \"92\": 2, \"81\": 1, \"62\": 30, \"84\": 4, \"118\": 8, \"66\": 2, \"90\": 2, \"113\": 2, \"31\": 2, \"69\": 2, \"102\": 1, \"126\": 1, \"44\": 1}, \"89\": {\"89\": 28, \"48\": 1, \"60\": 1, \"107\": 1, \"99\": 1}, \"126\": {\"126\": 91, \"113\": 9, \"18\": 3, \"81\": 2, \"39\": 6, \"16\": 3, \"65\": 2, \"35\": 1, \"109\": 2, \"84\": 1, \"26\": 2, \"122\": 1, \"69\": 1}, \"101\": {\"101\": 95, \"53\": 2, \"8\": 10, \"68\": 1, \"15\": 1, \"111\": 6, \"1\": 1, \"12\": 1, \"106\": 3, \"0\": 2, \"24\": 1, \"91\": 1, \"70\": 1, \"117\": 1, \"18\": 1, \"88\": 1}, \"65\": {\"65\": 12}, \"19\": {\"5\": 1, \"73\": 1, \"19\": 10, \"98\": 1, \"112\": 1, \"8\": 1, \"0\": 3, \"43\": 1, \"129\": 2, \"14\": 1, \"45\": 1, \"110\": 1, \"20\": 2, \"101\": 1, \"118\": 1}, \"27\": {\"27\": 82, \"101\": 1, \"9\": 2, \"129\": 1, \"8\": 2, \"0\": 1, \"10\": 6, \"57\": 1, \"24\": 2, \"30\": 1, \"126\": 1}, \"5\": {\"5\": 127, \"23\": 1, \"3\": 2, \"88\": 1, \"11\": 2, \"1\": 1, \"87\": 2}, \"73\": {\"19\": 4, \"5\": 2, \"73\": 14, \"9\": 1, \"79\": 3}, \"6\": {\"6\": 8, \"25\": 1, \"29\": 3, \"68\": 1, \"98\": 1, \"111\": 1, \"94\": 1, \"59\": 1, \"77\": 1, \"54\": 1, \"12\": 2, \"24\": 1, \"15\": 2}, \"29\": {\"29\": 32}, \"114\": {\"114\": 110, \"83\": 1, \"71\": 6, \"124\": 4, \"7\": 2, \"120\": 2, \"27\": 1, \"1\": 2}, \"49\": {\"90\": 1, \"19\": 1, \"49\": 6, \"32\": 2, \"37\": 1, \"0\": 5, \"5\": 1, \"30\": 1, \"12\": 1, \"14\": 3, \"53\": 1, \"60\": 2, \"106\": 3, \"15\": 1, \"111\": 1, \"11\": 2}, \"16\": {\"16\": 109, \"39\": 1, \"117\": 2, \"113\": 1, \"2\": 1, \"108\": 1, \"84\": 2, \"126\": 1}, \"68\": {\"68\": 16}, \"98\": {\"98\": 97, \"58\": 1, \"73\": 2, \"18\": 1, \"91\": 1, \"69\": 1, \"127\": 5, \"90\": 1, \"52\": 2, \"29\": 1, \"111\": 1, \"85\": 1, \"124\": 2, \"106\": 2, \"101\": 2}, \"64\": {\"64\": 16}, \"121\": {\"121\": 12, \"48\": 2, \"113\": 3, \"116\": 1, \"117\": 4, \"16\": 1, \"67\": 1, \"63\": 1, \"81\": 1, \"18\": 1, \"65\": 2, \"84\": 1, \"39\": 2}, \"124\": {\"124\": 111, \"127\": 2, \"128\": 1}, \"97\": {\"94\": 1, \"97\": 16, \"36\": 1, \"25\": 2}, \"40\": {\"40\": 128, \"72\": 2, \"107\": 4, \"99\": 2}, \"119\": {\"119\": 16}, \"100\": {\"124\": 2, \"100\": 15, \"15\": 1, \"46\": 2}, \"87\": {\"87\": 71, \"76\": 1, \"40\": 11, \"99\": 3, \"82\": 1, \"105\": 7, \"107\": 7, \"3\": 1, \"11\": 6, \"7\": 4, \"50\": 1, \"43\": 3}, \"88\": {\"83\": 1, \"112\": 1, \"88\": 56, \"60\": 1, \"19\": 3, \"101\": 2, \"27\": 1, \"89\": 1, \"5\": 3, \"14\": 2, \"100\": 1, \"114\": 9, \"70\": 11, \"124\": 5, \"1\": 2, \"122\": 1, \"24\": 1, \"69\": 1, \"26\": 1, \"105\": 1, \"3\": 4, \"93\": 2, \"107\": 1, \"91\": 1, \"21\": 2, \"46\": 1, \"36\": 1, \"108\": 3, \"78\": 2, \"113\": 1, \"30\": 1, \"110\": 2, \"15\": 2, \"71\": 1}, \"52\": {\"52\": 15, \"91\": 1, \"73\": 1, \"105\": 1, \"53\": 1, \"30\": 1}, \"80\": {\"80\": 13, \"90\": 2, \"6\": 1}, \"105\": {\"105\": 79, \"120\": 2, \"89\": 1, \"91\": 1, \"39\": 1, \"7\": 3, \"40\": 2, \"3\": 2, \"33\": 2, \"14\": 1, \"56\": 1, \"11\": 1, \"88\": 1, \"117\": 1, \"4\": 1, \"126\": 1}, \"32\": {\"74\": 2, \"32\": 18, \"107\": 1, \"22\": 1, \"99\": 2, \"28\": 1, \"60\": 1, \"3\": 2}, \"35\": {\"26\": 5, \"35\": 5, \"81\": 2}, \"99\": {\"99\": 28, \"43\": 1, \"87\": 1, \"40\": 5, \"107\": 2, \"32\": 2, \"82\": 1}, \"18\": {\"18\": 104, \"35\": 2, \"123\": 2, \"26\": 7, \"39\": 2, \"117\": 2, \"126\": 1}, \"24\": {\"24\": 71, \"10\": 14, \"71\": 1, \"36\": 6, \"15\": 8, \"30\": 2, \"94\": 1, \"25\": 1, \"88\": 1, \"9\": 1, \"27\": 2, \"8\": 4}, \"85\": {\"85\": 22, \"26\": 1, \"86\": 2, \"11\": 1, \"4\": 2}, \"39\": {\"18\": 7, \"26\": 5, \"117\": 18, \"39\": 38, \"126\": 11, \"2\": 1, \"109\": 5, \"113\": 4, \"108\": 1, \"93\": 1, \"118\": 2, \"81\": 1, \"67\": 1, \"65\": 2, \"123\": 1, \"16\": 2}, \"123\": {\"123\": 16}, \"91\": {\"52\": 1, \"91\": 16, \"8\": 1, \"34\": 1, \"98\": 2, \"58\": 2, \"12\": 1}, \"78\": {\"78\": 13, \"5\": 1, \"21\": 1, \"7\": 2, \"62\": 1, \"53\": 1, \"88\": 2, \"3\": 3, \"98\": 1, \"89\": 1, \"43\": 3, \"122\": 1, \"114\": 1, \"101\": 1, \"14\": 1, \"82\": 1, \"26\": 1, \"71\": 1}, \"38\": {\"38\": 16}, \"15\": {\"30\": 2, \"8\": 6, \"15\": 101, \"94\": 6, \"126\": 1, \"18\": 1, \"10\": 2, \"111\": 2, \"0\": 1, \"106\": 2, \"26\": 1, \"24\": 1, \"98\": 2}, \"48\": {\"48\": 16}, \"45\": {\"45\": 16}, \"120\": {\"120\": 20}, \"44\": {\"102\": 8, \"44\": 55, \"117\": 1}, \"86\": {\"86\": 26, \"110\": 1, \"21\": 1}, \"20\": {\"20\": 13, \"110\": 1, \"14\": 2}, \"33\": {\"33\": 138, \"113\": 1, \"102\": 2, \"118\": 2, \"11\": 2, \"43\": 2, \"90\": 1, \"21\": 1, \"10\": 1}, \"129\": {\"34\": 1, \"129\": 7, \"52\": 2, \"43\": 2, \"100\": 1, \"5\": 4, \"0\": 2, \"110\": 2, \"70\": 1, \"14\": 1, \"98\": 1, \"108\": 1, \"80\": 2, \"60\": 1}, \"34\": {\"106\": 2, \"34\": 6, \"128\": 1, \"75\": 1, \"83\": 1, \"49\": 2, \"114\": 3, \"89\": 2, \"91\": 2, \"14\": 1, \"125\": 1, \"100\": 1, \"29\": 2, \"98\": 2, \"127\": 2, \"1\": 2, \"129\": 1}, \"81\": {\"81\": 31, \"113\": 1, \"117\": 2, \"39\": 1, \"21\": 1}, \"57\": {\"118\": 3, \"84\": 1, \"24\": 1, \"57\": 8, \"90\": 2, \"70\": 1}, \"0\": {\"0\": 83, \"53\": 3, \"101\": 9, \"8\": 10, \"126\": 1, \"111\": 1, \"88\": 3, \"95\": 1, \"19\": 1, \"81\": 1, \"12\": 1, \"62\": 1, \"106\": 1}, \"2\": {\"2\": 16, \"113\": 1, \"80\": 1, \"110\": 1, \"117\": 3, \"96\": 1, \"18\": 1, \"102\": 2, \"109\": 1, \"84\": 1}, \"42\": {\"42\": 10, \"49\": 1, \"34\": 2, \"106\": 1, \"100\": 1, \"70\": 1, \"73\": 1, \"129\": 2, \"12\": 3, \"88\": 1, \"29\": 1, \"19\": 1, \"8\": 2, \"125\": 1}, \"84\": {\"69\": 7, \"84\": 110, \"39\": 1, \"113\": 1, \"44\": 2, \"30\": 1, \"102\": 2, \"88\": 1, \"92\": 2, \"116\": 1, \"26\": 2, \"117\": 1, \"16\": 1}, \"3\": {\"3\": 104, \"79\": 2, \"107\": 6, \"21\": 1, \"126\": 1, \"5\": 1, \"7\": 2, \"60\": 1, \"49\": 2, \"23\": 1, \"39\": 1, \"1\": 1, \"88\": 1, \"24\": 1, \"33\": 1}, \"41\": {\"127\": 1, \"86\": 1, \"41\": 12, \"37\": 1, \"48\": 1}, \"53\": {\"53\": 10, \"101\": 3, \"0\": 1, \"5\": 2}, \"66\": {\"66\": 15, \"116\": 1}, \"22\": {\"33\": 2, \"22\": 12, \"43\": 2}}}, \"per_domain_accuracy\": {\"ORACLE.run150\": {\"accuracy\": 0.7895833333333333, \"source?\": true}, \"ORACLE.run114\": {\"accuracy\": 0.8236458333333333, \"source?\": true}, \"ORACLE.run132\": {\"accuracy\": 0.7753645833333334, \"source?\": true}, \"ORACLE.run144\": {\"accuracy\": 0.71875, \"source?\": true}, \"ORACLE.run18\": {\"accuracy\": 0.6939583333333333, \"source?\": true}, \"ORACLE.run120\": {\"accuracy\": 0.666875, \"source?\": true}, \"ORACLE.run138\": {\"accuracy\": 0.7997395833333333, \"source?\": true}, \"ORACLE.run126\": {\"accuracy\": 0.5549479166666667, \"source?\": true}, \"Wisig_3\": {\"accuracy\": 0.8220524017467249, \"source?\": false}, \"Wisig_2\": {\"accuracy\": 0.7579427083333333, \"source?\": false}, \"Wisig_1\": {\"accuracy\": 0.8265360169491526, \"source?\": false}, \"Wisig_4\": {\"accuracy\": 0.7602880658436214, \"source?\": false}}}, \"history\": {\"epoch_indices\": [1, 2, 3, 4, 5, 6, 7, 8, 9, 10, 11, 12, 13, 14, 15, 16], \"train_label_loss\": [1.0646398013266956, 0.8320889508626645, 0.7471519920212172, 0.6652263376644502, 0.6015250508904102, 0.5511697432852262, 0.5046380848212478, 0.4630167883195515, 0.4271071922037351, 0.39663281252130955, 0.3681391169060676, 0.3425393731429497, 0.31935321525175825, 0.2970676650663899, 0.2787210731686112, 0.2609053188437385], \"source_val_label_loss\": [0.9388975501060486, 0.863720715045929, 0.8040153384208679, 0.7741559743881226, 0.7701466083526611, 0.759059488773346, 0.7518810629844666, 0.7540168166160583, 0.775776207447052, 0.7789822816848755, 0.8115675449371338, 0.8233396410942078, 0.8562068939208984, 0.8676495552062988, 0.9065971970558167, 0.9343529343605042], \"target_val_label_loss\": [5.993691921234131, 6.86021089553833, 7.424043655395508, 8.722823143005371, 8.808693885803223, 9.15444564819336, 9.44039249420166, 9.815546035766602, 10.415821075439453, 10.268086433410645, 11.058255195617676, 11.077235221862793, 11.386878967285156, 11.976065635681152, 12.49543285369873, 12.917926788330078], \"source_val_acc_label\": [0.6495377604166667, 0.67220703125, 0.6992513020833333, 0.7167838541666667, 0.7168880208333334, 0.7248958333333333, 0.7338606770833334, 0.73408203125, 0.7316341145833334, 0.73279296875, 0.7297526041666667, 0.7278580729166667, 0.72333984375, 0.7244401041666667, 0.7274348958333333, 0.7216471354166667], \"target_val_acc_label\": [0.6921809071729957, 0.6997956223628692, 0.7325949367088608, 0.743868670886076, 0.7599881329113924, 0.7662183544303798, 0.7797006856540084, 0.7800303270042194, 0.7804258966244726, 0.7852386603375527, 0.7824037447257384, 0.791106276371308, 0.7908095991561181, 0.789754746835443, 0.7903481012658228, 0.7906447784810127]}, \"dataset_metrics\": {\"source\": {\"train\": {\"n_unique_x\": 896000, \"n_unique_y\": 16, \"n_batch/episode\": 33600}, \"val\": {\"n_unique_x\": 192000, \"n_unique_y\": 16, \"n_batch/episode\": 4800}, \"test\": {\"n_unique_x\": 192000, \"n_unique_y\": 16, \"n_batch/episode\": 4800}}, \"target\": {\"train\": {\"n_unique_x\": 189008, \"n_unique_y\": 130, \"n_batch/episode\": 6831}, \"val\": {\"n_unique_x\": 40070, \"n_unique_y\": 130, \"n_batch/episode\": 948}, \"test\": {\"n_unique_x\": 40836, \"n_unique_y\": 130, \"n_batch/episode\": 967}}}}'"
      ]
     },
     "execution_count": 29,
     "metadata": {},
     "output_type": "execute_result"
    }
   ],
   "source": [
    "json.dumps(experiment)"
   ]
  }
 ],
 "metadata": {
  "celltoolbar": "Tags",
  "kernelspec": {
   "display_name": "Python 3 (ipykernel)",
   "language": "python",
   "name": "python3"
  },
  "language_info": {
   "codemirror_mode": {
    "name": "ipython",
    "version": 3
   },
   "file_extension": ".py",
   "mimetype": "text/x-python",
   "name": "python",
   "nbconvert_exporter": "python",
   "pygments_lexer": "ipython3",
   "version": "3.8.12"
  },
  "papermill": {
   "default_parameters": {},
   "duration": 14002.580906,
   "end_time": "2022-03-24T12:45:07.290843",
   "environment_variables": {},
   "exception": null,
   "input_path": "/root/csc500-main/csc500-notebooks/templates/tl_ptn_template.ipynb",
   "output_path": "trial.ipynb",
   "parameters": {
    "parameters": {
     "BEST_MODEL_PATH": "./best_model.pth",
     "NUM_LOGS_PER_EPOCH": 10,
     "criteria_for_best": "target_accuracy",
     "dataset_seed": 500,
     "datasets": [
      {
       "domain_prefix": "Wisig_",
       "domains": [
        1,
        2,
        3,
        4
       ],
       "episode_transforms": [],
       "labels": [
        "1-10",
        "1-12",
        "1-14",
        "1-16",
        "1-18",
        "1-19",
        "1-8",
        "10-11",
        "10-17",
        "10-4",
        "10-7",
        "11-1",
        "11-10",
        "11-19",
        "11-20",
        "11-4",
        "11-7",
        "12-19",
        "12-20",
        "12-7",
        "13-14",
        "13-18",
        "13-19",
        "13-20",
        "13-3",
        "13-7",
        "14-10",
        "14-11",
        "14-12",
        "14-13",
        "14-14",
        "14-19",
        "14-20",
        "14-7",
        "14-8",
        "14-9",
        "15-1",
        "15-19",
        "15-6",
        "16-1",
        "16-16",
        "16-19",
        "16-20",
        "17-10",
        "17-11",
        "18-1",
        "18-10",
        "18-11",
        "18-12",
        "18-13",
        "18-14",
        "18-15",
        "18-16",
        "18-17",
        "18-19",
        "18-2",
        "18-20",
        "18-4",
        "18-5",
        "18-7",
        "18-8",
        "18-9",
        "19-1",
        "19-10",
        "19-11",
        "19-12",
        "19-13",
        "19-14",
        "19-15",
        "19-19",
        "19-2",
        "19-20",
        "19-3",
        "19-4",
        "19-6",
        "19-7",
        "19-8",
        "19-9",
        "2-1",
        "2-13",
        "2-15",
        "2-3",
        "2-4",
        "2-5",
        "2-6",
        "2-7",
        "2-8",
        "20-1",
        "20-12",
        "20-14",
        "20-15",
        "20-16",
        "20-18",
        "20-19",
        "20-20",
        "20-3",
        "20-4",
        "20-5",
        "20-7",
        "20-8",
        "3-1",
        "3-13",
        "3-18",
        "3-2",
        "3-8",
        "4-1",
        "4-10",
        "4-11",
        "5-1",
        "5-5",
        "6-1",
        "6-15",
        "6-6",
        "7-10",
        "7-11",
        "7-12",
        "7-13",
        "7-14",
        "7-7",
        "7-8",
        "7-9",
        "8-1",
        "8-13",
        "8-14",
        "8-18",
        "8-20",
        "8-3",
        "8-8",
        "9-1",
        "9-7"
       ],
       "num_examples_per_domain_per_label": -1,
       "pickle_path": "/root/csc500-main/datasets/wisig.node3-19.stratified_ds.2022A.pkl",
       "source_or_target_dataset": "target",
       "x_transforms": [
        "unit_mag"
       ]
      },
      {
       "domain_prefix": "ORACLE.run1",
       "domains": [
        32,
        38,
        8,
        44,
        14,
        50,
        20,
        26
       ],
       "episode_transforms": [],
       "labels": [
        "3123D52",
        "3123D65",
        "3123D79",
        "3123D80",
        "3123D54",
        "3123D70",
        "3123D7B",
        "3123D89",
        "3123D58",
        "3123D76",
        "3123D7D",
        "3123EFE",
        "3123D64",
        "3123D78",
        "3123D7E",
        "3124E4A"
       ],
       "num_examples_per_domain_per_label": 10000,
       "pickle_path": "/root/csc500-main/datasets/oracle.Run1_10kExamples_stratified_ds.2022A.pkl",
       "source_or_target_dataset": "source",
       "x_transforms": [
        "unit_mag"
       ]
      }
     ],
     "device": "cuda",
     "experiment_name": "tl_1v2:wisig-oracle.run1",
     "lr": 0.0001,
     "n_epoch": 50,
     "n_query": 2,
     "n_shot": 3,
     "n_way": 16,
     "patience": 3,
     "seed": 500,
     "test_k_factor": 2,
     "torch_default_dtype": "torch.float32",
     "train_k_factor": 3,
     "val_k_factor": 2,
     "x_net": [
      {
       "class": "nnReshape",
       "kargs": {
        "shape": [
         -1,
         1,
         2,
         256
        ]
       }
      },
      {
       "class": "Conv2d",
       "kargs": {
        "bias": false,
        "in_channels": 1,
        "kernel_size": [
         1,
         7
        ],
        "out_channels": 256,
        "padding": [
         0,
         3
        ]
       }
      },
      {
       "class": "ReLU",
       "kargs": {
        "inplace": true
       }
      },
      {
       "class": "BatchNorm2d",
       "kargs": {
        "num_features": 256
       }
      },
      {
       "class": "Conv2d",
       "kargs": {
        "bias": true,
        "in_channels": 256,
        "kernel_size": [
         2,
         7
        ],
        "out_channels": 80,
        "padding": [
         0,
         3
        ]
       }
      },
      {
       "class": "ReLU",
       "kargs": {
        "inplace": true
       }
      },
      {
       "class": "BatchNorm2d",
       "kargs": {
        "num_features": 80
       }
      },
      {
       "class": "Flatten",
       "kargs": {}
      },
      {
       "class": "Linear",
       "kargs": {
        "in_features": 20480,
        "out_features": 256
       }
      },
      {
       "class": "ReLU",
       "kargs": {
        "inplace": true
       }
      },
      {
       "class": "BatchNorm1d",
       "kargs": {
        "num_features": 256
       }
      },
      {
       "class": "Linear",
       "kargs": {
        "in_features": 256,
        "out_features": 256
       }
      }
     ]
    }
   },
   "start_time": "2022-03-24T08:51:44.709937",
   "version": "2.3.4"
  }
 },
 "nbformat": 4,
 "nbformat_minor": 5
}