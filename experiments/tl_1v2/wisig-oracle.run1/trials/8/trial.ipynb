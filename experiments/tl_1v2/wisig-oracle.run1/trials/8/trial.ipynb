{
 "cells": [
  {
   "cell_type": "markdown",
   "id": "9fea5f46",
   "metadata": {
    "papermill": {
     "duration": 0.029228,
     "end_time": "2022-03-23T16:48:28.062652",
     "exception": false,
     "start_time": "2022-03-23T16:48:28.033424",
     "status": "completed"
    },
    "tags": []
   },
   "source": [
    "# Transfer Learning Template"
   ]
  },
  {
   "cell_type": "code",
   "execution_count": 1,
   "id": "0902182a",
   "metadata": {
    "execution": {
     "iopub.execute_input": "2022-03-23T16:48:28.124095Z",
     "iopub.status.busy": "2022-03-23T16:48:28.123209Z",
     "iopub.status.idle": "2022-03-23T16:48:30.418358Z",
     "shell.execute_reply": "2022-03-23T16:48:30.417488Z"
    },
    "papermill": {
     "duration": 2.333569,
     "end_time": "2022-03-23T16:48:30.418544",
     "exception": false,
     "start_time": "2022-03-23T16:48:28.084975",
     "status": "completed"
    },
    "tags": []
   },
   "outputs": [],
   "source": [
    "%load_ext autoreload\n",
    "%autoreload 2\n",
    "%matplotlib inline\n",
    "\n",
    "    \n",
    "import os, json, sys, time, random\n",
    "import numpy as np\n",
    "import torch\n",
    "from torch.optim import Adam\n",
    "from  easydict import EasyDict\n",
    "import matplotlib.pyplot as plt\n",
    "\n",
    "from steves_models.steves_ptn import Steves_Prototypical_Network\n",
    "\n",
    "from steves_utils.lazy_iterable_wrapper import Lazy_Iterable_Wrapper\n",
    "from steves_utils.iterable_aggregator import Iterable_Aggregator\n",
    "from steves_utils.ptn_train_eval_test_jig import  PTN_Train_Eval_Test_Jig\n",
    "from steves_utils.torch_sequential_builder import build_sequential\n",
    "from steves_utils.torch_utils import get_dataset_metrics, ptn_confusion_by_domain_over_dataloader\n",
    "from steves_utils.utils_v2 import (per_domain_accuracy_from_confusion, get_datasets_base_path)\n",
    "from steves_utils.PTN.utils import independent_accuracy_assesment\n",
    "\n",
    "from torch.utils.data import DataLoader\n",
    "\n",
    "from steves_utils.stratified_dataset.episodic_accessor import Episodic_Accessor_Factory\n",
    "\n",
    "from steves_utils.ptn_do_report import (\n",
    "    get_loss_curve,\n",
    "    get_results_table,\n",
    "    get_parameters_table,\n",
    "    get_domain_accuracies,\n",
    ")\n",
    "\n",
    "from steves_utils.transforms import get_chained_transform"
   ]
  },
  {
   "cell_type": "markdown",
   "id": "41c840b4",
   "metadata": {
    "papermill": {
     "duration": 0.019391,
     "end_time": "2022-03-23T16:48:30.463127",
     "exception": false,
     "start_time": "2022-03-23T16:48:30.443736",
     "status": "completed"
    },
    "tags": []
   },
   "source": [
    "# Allowed Parameters\n",
    "These are allowed parameters, not defaults\n",
    "Each of these values need to be present in the injected parameters (the notebook will raise an exception if they are not present)\n",
    "\n",
    "Papermill uses the cell tag \"parameters\" to inject the real parameters below this cell.\n",
    "Enable tags to see what I mean"
   ]
  },
  {
   "cell_type": "code",
   "execution_count": 2,
   "id": "fd44eb83",
   "metadata": {
    "execution": {
     "iopub.execute_input": "2022-03-23T16:48:30.507283Z",
     "iopub.status.busy": "2022-03-23T16:48:30.506705Z",
     "iopub.status.idle": "2022-03-23T16:48:30.532359Z",
     "shell.execute_reply": "2022-03-23T16:48:30.531628Z"
    },
    "papermill": {
     "duration": 0.049951,
     "end_time": "2022-03-23T16:48:30.532513",
     "exception": false,
     "start_time": "2022-03-23T16:48:30.482562",
     "status": "completed"
    },
    "tags": []
   },
   "outputs": [],
   "source": [
    "required_parameters = {\n",
    "    \"experiment_name\",\n",
    "    \"lr\",\n",
    "    \"device\",\n",
    "    \"seed\",\n",
    "    \"dataset_seed\",\n",
    "    \"n_shot\",\n",
    "    \"n_query\",\n",
    "    \"n_way\",\n",
    "    \"train_k_factor\",\n",
    "    \"val_k_factor\",\n",
    "    \"test_k_factor\",\n",
    "    \"n_epoch\",\n",
    "    \"patience\",\n",
    "    \"criteria_for_best\",\n",
    "    \"x_net\",\n",
    "    \"datasets\",\n",
    "    \"torch_default_dtype\",\n",
    "    \"NUM_LOGS_PER_EPOCH\",\n",
    "    \"BEST_MODEL_PATH\",\n",
    "    \"x_shape\",\n",
    "}"
   ]
  },
  {
   "cell_type": "code",
   "execution_count": 3,
   "id": "fa3f0049",
   "metadata": {
    "execution": {
     "iopub.execute_input": "2022-03-23T16:48:30.590680Z",
     "iopub.status.busy": "2022-03-23T16:48:30.584984Z",
     "iopub.status.idle": "2022-03-23T16:48:30.610596Z",
     "shell.execute_reply": "2022-03-23T16:48:30.609782Z"
    },
    "papermill": {
     "duration": 0.052408,
     "end_time": "2022-03-23T16:48:30.610749",
     "exception": false,
     "start_time": "2022-03-23T16:48:30.558341",
     "status": "completed"
    },
    "tags": [
     "parameters"
    ]
   },
   "outputs": [],
   "source": [
    "from steves_utils.CORES.utils import (\n",
    "    ALL_NODES,\n",
    "    ALL_NODES_MINIMUM_1000_EXAMPLES,\n",
    "    ALL_DAYS\n",
    ")\n",
    "\n",
    "from steves_utils.ORACLE.utils_v2 import (\n",
    "    ALL_DISTANCES_FEET_NARROWED,\n",
    "    ALL_RUNS,\n",
    "    ALL_SERIAL_NUMBERS,\n",
    ")\n",
    "\n",
    "standalone_parameters = {}\n",
    "standalone_parameters[\"experiment_name\"] = \"STANDALONE PTN\"\n",
    "standalone_parameters[\"lr\"] = 0.001\n",
    "standalone_parameters[\"device\"] = \"cuda\"\n",
    "\n",
    "standalone_parameters[\"seed\"] = 1337\n",
    "standalone_parameters[\"dataset_seed\"] = 1337\n",
    "\n",
    "standalone_parameters[\"n_way\"] = 8\n",
    "standalone_parameters[\"n_shot\"] = 3\n",
    "standalone_parameters[\"n_query\"]  = 2\n",
    "standalone_parameters[\"train_k_factor\"] = 1\n",
    "standalone_parameters[\"val_k_factor\"] = 2\n",
    "standalone_parameters[\"test_k_factor\"] = 2\n",
    "\n",
    "\n",
    "standalone_parameters[\"n_epoch\"] = 50\n",
    "\n",
    "standalone_parameters[\"patience\"] = 10\n",
    "standalone_parameters[\"criteria_for_best\"] = \"source_loss\"\n",
    "\n",
    "standalone_parameters[\"datasets\"] = [\n",
    "    {\n",
    "        \"labels\": ALL_SERIAL_NUMBERS,\n",
    "        \"domains\": ALL_DISTANCES_FEET_NARROWED,\n",
    "        \"num_examples_per_domain_per_label\": 100,\n",
    "        \"pickle_path\": os.path.join(get_datasets_base_path(), \"oracle.Run1_framed_2000Examples_stratified_ds.2022A.pkl\"),\n",
    "        \"source_or_target_dataset\": \"source\",\n",
    "        \"x_transforms\": [\"unit_mag\", \"minus_two\"],\n",
    "        \"episode_transforms\": [],\n",
    "        \"domain_prefix\": \"ORACLE_\"\n",
    "    },\n",
    "    {\n",
    "        \"labels\": ALL_NODES,\n",
    "        \"domains\": ALL_DAYS,\n",
    "        \"num_examples_per_domain_per_label\": 100,\n",
    "        \"pickle_path\": os.path.join(get_datasets_base_path(), \"cores.stratified_ds.2022A.pkl\"),\n",
    "        \"source_or_target_dataset\": \"target\",\n",
    "        \"x_transforms\": [\"unit_power\", \"times_zero\"],\n",
    "        \"episode_transforms\": [],\n",
    "        \"domain_prefix\": \"CORES_\"\n",
    "    }   \n",
    "]\n",
    "\n",
    "standalone_parameters[\"torch_default_dtype\"] = \"torch.float32\" \n",
    "\n",
    "\n",
    "\n",
    "standalone_parameters[\"x_net\"] =     [\n",
    "    {\"class\": \"nnReshape\", \"kargs\": {\"shape\":[-1, 1, 2, 256]}},\n",
    "    {\"class\": \"Conv2d\", \"kargs\": { \"in_channels\":1, \"out_channels\":256, \"kernel_size\":(1,7), \"bias\":False, \"padding\":(0,3), },},\n",
    "    {\"class\": \"ReLU\", \"kargs\": {\"inplace\": True}},\n",
    "    {\"class\": \"BatchNorm2d\", \"kargs\": {\"num_features\":256}},\n",
    "\n",
    "    {\"class\": \"Conv2d\", \"kargs\": { \"in_channels\":256, \"out_channels\":80, \"kernel_size\":(2,7), \"bias\":True, \"padding\":(0,3), },},\n",
    "    {\"class\": \"ReLU\", \"kargs\": {\"inplace\": True}},\n",
    "    {\"class\": \"BatchNorm2d\", \"kargs\": {\"num_features\":80}},\n",
    "    {\"class\": \"Flatten\", \"kargs\": {}},\n",
    "\n",
    "    {\"class\": \"Linear\", \"kargs\": {\"in_features\": 80*256, \"out_features\": 256}}, # 80 units per IQ pair\n",
    "    {\"class\": \"ReLU\", \"kargs\": {\"inplace\": True}},\n",
    "    {\"class\": \"BatchNorm1d\", \"kargs\": {\"num_features\":256}},\n",
    "\n",
    "    {\"class\": \"Linear\", \"kargs\": {\"in_features\": 256, \"out_features\": 256}},\n",
    "]\n",
    "\n",
    "# Parameters relevant to results\n",
    "# These parameters will basically never need to change\n",
    "standalone_parameters[\"NUM_LOGS_PER_EPOCH\"] = 10\n",
    "standalone_parameters[\"BEST_MODEL_PATH\"] = \"./best_model.pth\"\n",
    "\n",
    "\n",
    "\n",
    "\n"
   ]
  },
  {
   "cell_type": "code",
   "execution_count": 4,
   "id": "1e65bb41",
   "metadata": {
    "execution": {
     "iopub.execute_input": "2022-03-23T16:48:30.672738Z",
     "iopub.status.busy": "2022-03-23T16:48:30.663034Z",
     "iopub.status.idle": "2022-03-23T16:48:30.692327Z",
     "shell.execute_reply": "2022-03-23T16:48:30.691614Z"
    },
    "papermill": {
     "duration": 0.056968,
     "end_time": "2022-03-23T16:48:30.692479",
     "exception": false,
     "start_time": "2022-03-23T16:48:30.635511",
     "status": "completed"
    },
    "tags": [
     "injected-parameters"
    ]
   },
   "outputs": [],
   "source": [
    "# Parameters\n",
    "parameters = {\n",
    "    \"experiment_name\": \"tl_1v2:wisig-oracle.run1\",\n",
    "    \"device\": \"cuda\",\n",
    "    \"lr\": 0.0001,\n",
    "    \"n_shot\": 3,\n",
    "    \"n_query\": 2,\n",
    "    \"train_k_factor\": 3,\n",
    "    \"val_k_factor\": 2,\n",
    "    \"test_k_factor\": 2,\n",
    "    \"torch_default_dtype\": \"torch.float32\",\n",
    "    \"n_epoch\": 50,\n",
    "    \"patience\": 3,\n",
    "    \"criteria_for_best\": \"target_accuracy\",\n",
    "    \"x_net\": [\n",
    "        {\"class\": \"nnReshape\", \"kargs\": {\"shape\": [-1, 1, 2, 256]}},\n",
    "        {\n",
    "            \"class\": \"Conv2d\",\n",
    "            \"kargs\": {\n",
    "                \"in_channels\": 1,\n",
    "                \"out_channels\": 256,\n",
    "                \"kernel_size\": [1, 7],\n",
    "                \"bias\": False,\n",
    "                \"padding\": [0, 3],\n",
    "            },\n",
    "        },\n",
    "        {\"class\": \"ReLU\", \"kargs\": {\"inplace\": True}},\n",
    "        {\"class\": \"BatchNorm2d\", \"kargs\": {\"num_features\": 256}},\n",
    "        {\n",
    "            \"class\": \"Conv2d\",\n",
    "            \"kargs\": {\n",
    "                \"in_channels\": 256,\n",
    "                \"out_channels\": 80,\n",
    "                \"kernel_size\": [2, 7],\n",
    "                \"bias\": True,\n",
    "                \"padding\": [0, 3],\n",
    "            },\n",
    "        },\n",
    "        {\"class\": \"ReLU\", \"kargs\": {\"inplace\": True}},\n",
    "        {\"class\": \"BatchNorm2d\", \"kargs\": {\"num_features\": 80}},\n",
    "        {\"class\": \"Flatten\", \"kargs\": {}},\n",
    "        {\"class\": \"Linear\", \"kargs\": {\"in_features\": 20480, \"out_features\": 256}},\n",
    "        {\"class\": \"ReLU\", \"kargs\": {\"inplace\": True}},\n",
    "        {\"class\": \"BatchNorm1d\", \"kargs\": {\"num_features\": 256}},\n",
    "        {\"class\": \"Linear\", \"kargs\": {\"in_features\": 256, \"out_features\": 256}},\n",
    "    ],\n",
    "    \"NUM_LOGS_PER_EPOCH\": 10,\n",
    "    \"BEST_MODEL_PATH\": \"./best_model.pth\",\n",
    "    \"n_way\": 16,\n",
    "    \"datasets\": [\n",
    "        {\n",
    "            \"labels\": [\n",
    "                \"1-10\",\n",
    "                \"1-12\",\n",
    "                \"1-14\",\n",
    "                \"1-16\",\n",
    "                \"1-18\",\n",
    "                \"1-19\",\n",
    "                \"1-8\",\n",
    "                \"10-11\",\n",
    "                \"10-17\",\n",
    "                \"10-4\",\n",
    "                \"10-7\",\n",
    "                \"11-1\",\n",
    "                \"11-10\",\n",
    "                \"11-19\",\n",
    "                \"11-20\",\n",
    "                \"11-4\",\n",
    "                \"11-7\",\n",
    "                \"12-19\",\n",
    "                \"12-20\",\n",
    "                \"12-7\",\n",
    "                \"13-14\",\n",
    "                \"13-18\",\n",
    "                \"13-19\",\n",
    "                \"13-20\",\n",
    "                \"13-3\",\n",
    "                \"13-7\",\n",
    "                \"14-10\",\n",
    "                \"14-11\",\n",
    "                \"14-12\",\n",
    "                \"14-13\",\n",
    "                \"14-14\",\n",
    "                \"14-19\",\n",
    "                \"14-20\",\n",
    "                \"14-7\",\n",
    "                \"14-8\",\n",
    "                \"14-9\",\n",
    "                \"15-1\",\n",
    "                \"15-19\",\n",
    "                \"15-6\",\n",
    "                \"16-1\",\n",
    "                \"16-16\",\n",
    "                \"16-19\",\n",
    "                \"16-20\",\n",
    "                \"17-10\",\n",
    "                \"17-11\",\n",
    "                \"18-1\",\n",
    "                \"18-10\",\n",
    "                \"18-11\",\n",
    "                \"18-12\",\n",
    "                \"18-13\",\n",
    "                \"18-14\",\n",
    "                \"18-15\",\n",
    "                \"18-16\",\n",
    "                \"18-17\",\n",
    "                \"18-19\",\n",
    "                \"18-2\",\n",
    "                \"18-20\",\n",
    "                \"18-4\",\n",
    "                \"18-5\",\n",
    "                \"18-7\",\n",
    "                \"18-8\",\n",
    "                \"18-9\",\n",
    "                \"19-1\",\n",
    "                \"19-10\",\n",
    "                \"19-11\",\n",
    "                \"19-12\",\n",
    "                \"19-13\",\n",
    "                \"19-14\",\n",
    "                \"19-15\",\n",
    "                \"19-19\",\n",
    "                \"19-2\",\n",
    "                \"19-20\",\n",
    "                \"19-3\",\n",
    "                \"19-4\",\n",
    "                \"19-6\",\n",
    "                \"19-7\",\n",
    "                \"19-8\",\n",
    "                \"19-9\",\n",
    "                \"2-1\",\n",
    "                \"2-13\",\n",
    "                \"2-15\",\n",
    "                \"2-3\",\n",
    "                \"2-4\",\n",
    "                \"2-5\",\n",
    "                \"2-6\",\n",
    "                \"2-7\",\n",
    "                \"2-8\",\n",
    "                \"20-1\",\n",
    "                \"20-12\",\n",
    "                \"20-14\",\n",
    "                \"20-15\",\n",
    "                \"20-16\",\n",
    "                \"20-18\",\n",
    "                \"20-19\",\n",
    "                \"20-20\",\n",
    "                \"20-3\",\n",
    "                \"20-4\",\n",
    "                \"20-5\",\n",
    "                \"20-7\",\n",
    "                \"20-8\",\n",
    "                \"3-1\",\n",
    "                \"3-13\",\n",
    "                \"3-18\",\n",
    "                \"3-2\",\n",
    "                \"3-8\",\n",
    "                \"4-1\",\n",
    "                \"4-10\",\n",
    "                \"4-11\",\n",
    "                \"5-1\",\n",
    "                \"5-5\",\n",
    "                \"6-1\",\n",
    "                \"6-15\",\n",
    "                \"6-6\",\n",
    "                \"7-10\",\n",
    "                \"7-11\",\n",
    "                \"7-12\",\n",
    "                \"7-13\",\n",
    "                \"7-14\",\n",
    "                \"7-7\",\n",
    "                \"7-8\",\n",
    "                \"7-9\",\n",
    "                \"8-1\",\n",
    "                \"8-13\",\n",
    "                \"8-14\",\n",
    "                \"8-18\",\n",
    "                \"8-20\",\n",
    "                \"8-3\",\n",
    "                \"8-8\",\n",
    "                \"9-1\",\n",
    "                \"9-7\",\n",
    "            ],\n",
    "            \"domains\": [1, 2, 3, 4],\n",
    "            \"num_examples_per_domain_per_label\": -1,\n",
    "            \"pickle_path\": \"/root/csc500-main/datasets/wisig.node3-19.stratified_ds.2022A.pkl\",\n",
    "            \"source_or_target_dataset\": \"source\",\n",
    "            \"x_transforms\": [],\n",
    "            \"episode_transforms\": [],\n",
    "            \"domain_prefix\": \"Wisig_\",\n",
    "        },\n",
    "        {\n",
    "            \"labels\": [\n",
    "                \"3123D52\",\n",
    "                \"3123D65\",\n",
    "                \"3123D79\",\n",
    "                \"3123D80\",\n",
    "                \"3123D54\",\n",
    "                \"3123D70\",\n",
    "                \"3123D7B\",\n",
    "                \"3123D89\",\n",
    "                \"3123D58\",\n",
    "                \"3123D76\",\n",
    "                \"3123D7D\",\n",
    "                \"3123EFE\",\n",
    "                \"3123D64\",\n",
    "                \"3123D78\",\n",
    "                \"3123D7E\",\n",
    "                \"3124E4A\",\n",
    "            ],\n",
    "            \"domains\": [32, 38, 8, 44, 14, 50, 20, 26],\n",
    "            \"num_examples_per_domain_per_label\": 10000,\n",
    "            \"pickle_path\": \"/root/csc500-main/datasets/oracle.Run1_10kExamples_stratified_ds.2022A.pkl\",\n",
    "            \"source_or_target_dataset\": \"target\",\n",
    "            \"x_transforms\": [],\n",
    "            \"episode_transforms\": [],\n",
    "            \"domain_prefix\": \"ORACLE.run1\",\n",
    "        },\n",
    "    ],\n",
    "    \"dataset_seed\": 420,\n",
    "    \"seed\": 420,\n",
    "}\n"
   ]
  },
  {
   "cell_type": "code",
   "execution_count": 5,
   "id": "8fa1cc33",
   "metadata": {
    "execution": {
     "iopub.execute_input": "2022-03-23T16:48:30.742826Z",
     "iopub.status.busy": "2022-03-23T16:48:30.742451Z",
     "iopub.status.idle": "2022-03-23T16:48:30.762913Z",
     "shell.execute_reply": "2022-03-23T16:48:30.763626Z"
    },
    "papermill": {
     "duration": 0.04717,
     "end_time": "2022-03-23T16:48:30.763810",
     "exception": false,
     "start_time": "2022-03-23T16:48:30.716640",
     "status": "completed"
    },
    "tags": []
   },
   "outputs": [],
   "source": [
    "# Set this to True if you want to run this template directly\n",
    "STANDALONE = False\n",
    "if STANDALONE:\n",
    "    print(\"parameters not injected, running with standalone_parameters\")\n",
    "    parameters = standalone_parameters\n",
    "\n",
    "if not 'parameters' in locals() and not 'parameters' in globals():\n",
    "    raise Exception(\"Parameter injection failed\")\n",
    "\n",
    "#Use an easy dict for all the parameters\n",
    "p = EasyDict(parameters)\n",
    "\n",
    "if \"x_shape\" not in p:\n",
    "    p.x_shape = [2,256] # Default to this if we dont supply x_shape\n",
    "\n",
    "\n",
    "supplied_keys = set(p.keys())\n",
    "\n",
    "if  supplied_keys != required_parameters:\n",
    "    print(\"Parameters are incorrect\")\n",
    "    if len(supplied_keys - required_parameters)>0: print(\"Shouldn't have:\", str(supplied_keys - required_parameters))\n",
    "    if len(required_parameters - supplied_keys)>0: print(\"Need to have:\", str(required_parameters - supplied_keys))\n",
    "    raise RuntimeError(\"Parameters are incorrect\")"
   ]
  },
  {
   "cell_type": "code",
   "execution_count": 6,
   "id": "3a028d58",
   "metadata": {
    "execution": {
     "iopub.execute_input": "2022-03-23T16:48:30.813301Z",
     "iopub.status.busy": "2022-03-23T16:48:30.812410Z",
     "iopub.status.idle": "2022-03-23T16:48:30.831295Z",
     "shell.execute_reply": "2022-03-23T16:48:30.830549Z"
    },
    "papermill": {
     "duration": 0.041002,
     "end_time": "2022-03-23T16:48:30.831447",
     "exception": false,
     "start_time": "2022-03-23T16:48:30.790445",
     "status": "completed"
    },
    "tags": []
   },
   "outputs": [],
   "source": [
    "###################################\n",
    "# Set the RNGs and make it all deterministic\n",
    "###################################\n",
    "np.random.seed(p.seed)\n",
    "random.seed(p.seed)\n",
    "torch.manual_seed(p.seed)\n",
    "\n",
    "torch.use_deterministic_algorithms(True) "
   ]
  },
  {
   "cell_type": "code",
   "execution_count": 7,
   "id": "b691acf6",
   "metadata": {
    "execution": {
     "iopub.execute_input": "2022-03-23T16:48:30.879561Z",
     "iopub.status.busy": "2022-03-23T16:48:30.879186Z",
     "iopub.status.idle": "2022-03-23T16:48:30.901078Z",
     "shell.execute_reply": "2022-03-23T16:48:30.900352Z"
    },
    "papermill": {
     "duration": 0.044937,
     "end_time": "2022-03-23T16:48:30.901251",
     "exception": false,
     "start_time": "2022-03-23T16:48:30.856314",
     "status": "completed"
    },
    "tags": []
   },
   "outputs": [],
   "source": [
    "###########################################\n",
    "# The stratified datasets honor this\n",
    "###########################################\n",
    "torch.set_default_dtype(eval(p.torch_default_dtype))"
   ]
  },
  {
   "cell_type": "code",
   "execution_count": 8,
   "id": "b5fba671",
   "metadata": {
    "execution": {
     "iopub.execute_input": "2022-03-23T16:48:30.969226Z",
     "iopub.status.busy": "2022-03-23T16:48:30.952032Z",
     "iopub.status.idle": "2022-03-23T16:48:31.004417Z",
     "shell.execute_reply": "2022-03-23T16:48:31.005057Z"
    },
    "papermill": {
     "duration": 0.075769,
     "end_time": "2022-03-23T16:48:31.005239",
     "exception": false,
     "start_time": "2022-03-23T16:48:30.929470",
     "status": "completed"
    },
    "tags": []
   },
   "outputs": [],
   "source": [
    "###################################\n",
    "# Build the network(s)\n",
    "# Note: It's critical to do this AFTER setting the RNG\n",
    "###################################\n",
    "x_net = build_sequential(p.x_net)"
   ]
  },
  {
   "cell_type": "code",
   "execution_count": 9,
   "id": "5d7e61cc",
   "metadata": {
    "execution": {
     "iopub.execute_input": "2022-03-23T16:48:31.055169Z",
     "iopub.status.busy": "2022-03-23T16:48:31.054802Z",
     "iopub.status.idle": "2022-03-23T16:48:31.080506Z",
     "shell.execute_reply": "2022-03-23T16:48:31.079789Z"
    },
    "papermill": {
     "duration": 0.049063,
     "end_time": "2022-03-23T16:48:31.080657",
     "exception": false,
     "start_time": "2022-03-23T16:48:31.031594",
     "status": "completed"
    },
    "tags": []
   },
   "outputs": [],
   "source": [
    "start_time_secs = time.time()"
   ]
  },
  {
   "cell_type": "code",
   "execution_count": 10,
   "id": "c6b67dfd",
   "metadata": {
    "execution": {
     "iopub.execute_input": "2022-03-23T16:48:31.132496Z",
     "iopub.status.busy": "2022-03-23T16:48:31.131963Z",
     "iopub.status.idle": "2022-03-23T16:48:31.149318Z",
     "shell.execute_reply": "2022-03-23T16:48:31.148603Z"
    },
    "papermill": {
     "duration": 0.040282,
     "end_time": "2022-03-23T16:48:31.149468",
     "exception": false,
     "start_time": "2022-03-23T16:48:31.109186",
     "status": "completed"
    },
    "tags": []
   },
   "outputs": [],
   "source": [
    "p.domains_source = []\n",
    "p.domains_target = []\n",
    "\n",
    "\n",
    "train_original_source = []\n",
    "val_original_source   = []\n",
    "test_original_source  = []\n",
    "\n",
    "train_original_target = []\n",
    "val_original_target   = []\n",
    "test_original_target  = []"
   ]
  },
  {
   "cell_type": "code",
   "execution_count": 11,
   "id": "e3d9c3d3",
   "metadata": {
    "execution": {
     "iopub.execute_input": "2022-03-23T16:48:31.214025Z",
     "iopub.status.busy": "2022-03-23T16:48:31.197985Z",
     "iopub.status.idle": "2022-03-23T16:48:31.217768Z",
     "shell.execute_reply": "2022-03-23T16:48:31.217059Z"
    },
    "papermill": {
     "duration": 0.042337,
     "end_time": "2022-03-23T16:48:31.217919",
     "exception": false,
     "start_time": "2022-03-23T16:48:31.175582",
     "status": "completed"
    },
    "tags": []
   },
   "outputs": [],
   "source": [
    "# global_x_transform_func = lambda x: normalize(x.to(torch.get_default_dtype()), \"unit_power\") # unit_power, unit_mag\n",
    "# global_x_transform_func = lambda x: normalize(x, \"unit_power\") # unit_power, unit_mag"
   ]
  },
  {
   "cell_type": "code",
   "execution_count": 12,
   "id": "acb78fd2",
   "metadata": {
    "execution": {
     "iopub.execute_input": "2022-03-23T16:48:31.281017Z",
     "iopub.status.busy": "2022-03-23T16:48:31.273445Z",
     "iopub.status.idle": "2022-03-23T16:48:31.292198Z",
     "shell.execute_reply": "2022-03-23T16:48:31.291469Z"
    },
    "papermill": {
     "duration": 0.05101,
     "end_time": "2022-03-23T16:48:31.292349",
     "exception": false,
     "start_time": "2022-03-23T16:48:31.241339",
     "status": "completed"
    },
    "tags": []
   },
   "outputs": [],
   "source": [
    "def add_dataset(\n",
    "    labels,\n",
    "    domains,\n",
    "    pickle_path,\n",
    "    x_transforms,\n",
    "    episode_transforms,\n",
    "    domain_prefix,\n",
    "    num_examples_per_domain_per_label,\n",
    "    source_or_target_dataset:str,\n",
    "    iterator_seed=p.seed,\n",
    "    dataset_seed=p.dataset_seed,\n",
    "    n_shot=p.n_shot,\n",
    "    n_way=p.n_way,\n",
    "    n_query=p.n_query,\n",
    "    train_val_test_k_factors=(p.train_k_factor,p.val_k_factor,p.test_k_factor),\n",
    "):\n",
    "   \n",
    "    if x_transforms == []: x_transform = None\n",
    "    else: x_transform = get_chained_transform(x_transforms)\n",
    "    \n",
    "    if episode_transforms == []: episode_transform = None\n",
    "    else: raise Exception(\"episode_transforms not implemented\")\n",
    "    \n",
    "    episode_transform = lambda tup, _prefix=domain_prefix: (_prefix + str(tup[0]), tup[1])\n",
    "\n",
    "\n",
    "    eaf = Episodic_Accessor_Factory(\n",
    "        labels=labels,\n",
    "        domains=domains,\n",
    "        num_examples_per_domain_per_label=num_examples_per_domain_per_label,\n",
    "        iterator_seed=iterator_seed,\n",
    "        dataset_seed=dataset_seed,\n",
    "        n_shot=n_shot,\n",
    "        n_way=n_way,\n",
    "        n_query=n_query,\n",
    "        train_val_test_k_factors=train_val_test_k_factors,\n",
    "        pickle_path=pickle_path,\n",
    "        x_transform_func=x_transform,\n",
    "    )\n",
    "\n",
    "    train, val, test = eaf.get_train(), eaf.get_val(), eaf.get_test()\n",
    "    train = Lazy_Iterable_Wrapper(train, episode_transform)\n",
    "    val = Lazy_Iterable_Wrapper(val, episode_transform)\n",
    "    test = Lazy_Iterable_Wrapper(test, episode_transform)\n",
    "\n",
    "    if source_or_target_dataset==\"source\":\n",
    "        train_original_source.append(train)\n",
    "        val_original_source.append(val)\n",
    "        test_original_source.append(test)\n",
    "\n",
    "        p.domains_source.extend(\n",
    "            [domain_prefix + str(u) for u in domains]\n",
    "        )\n",
    "    elif source_or_target_dataset==\"target\":\n",
    "        train_original_target.append(train)\n",
    "        val_original_target.append(val)\n",
    "        test_original_target.append(test)\n",
    "        p.domains_target.extend(\n",
    "            [domain_prefix + str(u) for u in domains]\n",
    "        )\n",
    "    else:\n",
    "        raise Exception(f\"invalid source_or_target_dataset: {source_or_target_dataset}\")\n",
    "    "
   ]
  },
  {
   "cell_type": "code",
   "execution_count": 13,
   "id": "fe266617",
   "metadata": {
    "execution": {
     "iopub.execute_input": "2022-03-23T16:48:31.340171Z",
     "iopub.status.busy": "2022-03-23T16:48:31.339453Z",
     "iopub.status.idle": "2022-03-23T16:48:42.836388Z",
     "shell.execute_reply": "2022-03-23T16:48:42.835635Z"
    },
    "papermill": {
     "duration": 11.519631,
     "end_time": "2022-03-23T16:48:42.836589",
     "exception": false,
     "start_time": "2022-03-23T16:48:31.316958",
     "status": "completed"
    },
    "tags": []
   },
   "outputs": [],
   "source": [
    "for ds in p.datasets:\n",
    "    add_dataset(**ds)"
   ]
  },
  {
   "cell_type": "code",
   "execution_count": 14,
   "id": "b90d65ac",
   "metadata": {
    "execution": {
     "iopub.execute_input": "2022-03-23T16:48:42.889336Z",
     "iopub.status.busy": "2022-03-23T16:48:42.888760Z",
     "iopub.status.idle": "2022-03-23T16:48:42.915472Z",
     "shell.execute_reply": "2022-03-23T16:48:42.914652Z"
    },
    "papermill": {
     "duration": 0.051558,
     "end_time": "2022-03-23T16:48:42.915659",
     "exception": false,
     "start_time": "2022-03-23T16:48:42.864101",
     "status": "completed"
    },
    "tags": []
   },
   "outputs": [],
   "source": [
    "# from steves_utils.CORES.utils import (\n",
    "#     ALL_NODES,\n",
    "#     ALL_NODES_MINIMUM_1000_EXAMPLES,\n",
    "#     ALL_DAYS\n",
    "# )\n",
    "\n",
    "# add_dataset(\n",
    "#     labels=ALL_NODES,\n",
    "#     domains = ALL_DAYS,\n",
    "#     num_examples_per_domain_per_label=100,\n",
    "#     pickle_path=os.path.join(get_datasets_base_path(), \"cores.stratified_ds.2022A.pkl\"),\n",
    "#     source_or_target_dataset=\"target\",\n",
    "#     x_transform_func=global_x_transform_func,\n",
    "#     domain_modifier=lambda u: f\"cores_{u}\"\n",
    "# )"
   ]
  },
  {
   "cell_type": "code",
   "execution_count": 15,
   "id": "76db484d",
   "metadata": {
    "execution": {
     "iopub.execute_input": "2022-03-23T16:48:42.967983Z",
     "iopub.status.busy": "2022-03-23T16:48:42.966704Z",
     "iopub.status.idle": "2022-03-23T16:48:42.990110Z",
     "shell.execute_reply": "2022-03-23T16:48:42.989302Z"
    },
    "papermill": {
     "duration": 0.046507,
     "end_time": "2022-03-23T16:48:42.990262",
     "exception": false,
     "start_time": "2022-03-23T16:48:42.943755",
     "status": "completed"
    },
    "tags": []
   },
   "outputs": [],
   "source": [
    "# from steves_utils.ORACLE.utils_v2 import (\n",
    "#     ALL_DISTANCES_FEET,\n",
    "#     ALL_RUNS,\n",
    "#     ALL_SERIAL_NUMBERS,\n",
    "# )\n",
    "\n",
    "\n",
    "# add_dataset(\n",
    "#     labels=ALL_SERIAL_NUMBERS,\n",
    "#     domains = list(set(ALL_DISTANCES_FEET) - {2,62}),\n",
    "#     num_examples_per_domain_per_label=100,\n",
    "#     pickle_path=os.path.join(get_datasets_base_path(), \"oracle.Run2_framed_2000Examples_stratified_ds.2022A.pkl\"),\n",
    "#     source_or_target_dataset=\"source\",\n",
    "#     x_transform_func=global_x_transform_func,\n",
    "#     domain_modifier=lambda u: f\"oracle1_{u}\"\n",
    "# )\n"
   ]
  },
  {
   "cell_type": "code",
   "execution_count": 16,
   "id": "97dea9d2",
   "metadata": {
    "execution": {
     "iopub.execute_input": "2022-03-23T16:48:43.040384Z",
     "iopub.status.busy": "2022-03-23T16:48:43.040003Z",
     "iopub.status.idle": "2022-03-23T16:48:43.057352Z",
     "shell.execute_reply": "2022-03-23T16:48:43.056541Z"
    },
    "papermill": {
     "duration": 0.040695,
     "end_time": "2022-03-23T16:48:43.057504",
     "exception": false,
     "start_time": "2022-03-23T16:48:43.016809",
     "status": "completed"
    },
    "tags": []
   },
   "outputs": [],
   "source": [
    "# from steves_utils.ORACLE.utils_v2 import (\n",
    "#     ALL_DISTANCES_FEET,\n",
    "#     ALL_RUNS,\n",
    "#     ALL_SERIAL_NUMBERS,\n",
    "# )\n",
    "\n",
    "\n",
    "# add_dataset(\n",
    "#     labels=ALL_SERIAL_NUMBERS,\n",
    "#     domains = list(set(ALL_DISTANCES_FEET) - {2,62,56}),\n",
    "#     num_examples_per_domain_per_label=100,\n",
    "#     pickle_path=os.path.join(get_datasets_base_path(), \"oracle.Run2_framed_2000Examples_stratified_ds.2022A.pkl\"),\n",
    "#     source_or_target_dataset=\"source\",\n",
    "#     x_transform_func=global_x_transform_func,\n",
    "#     domain_modifier=lambda u: f\"oracle2_{u}\"\n",
    "# )"
   ]
  },
  {
   "cell_type": "code",
   "execution_count": 17,
   "id": "6f289866",
   "metadata": {
    "execution": {
     "iopub.execute_input": "2022-03-23T16:48:43.109405Z",
     "iopub.status.busy": "2022-03-23T16:48:43.108866Z",
     "iopub.status.idle": "2022-03-23T16:48:43.128280Z",
     "shell.execute_reply": "2022-03-23T16:48:43.127437Z"
    },
    "papermill": {
     "duration": 0.043713,
     "end_time": "2022-03-23T16:48:43.128435",
     "exception": false,
     "start_time": "2022-03-23T16:48:43.084722",
     "status": "completed"
    },
    "tags": []
   },
   "outputs": [],
   "source": [
    "# add_dataset(\n",
    "#     labels=list(range(19)),\n",
    "#     domains = [0,1,2],\n",
    "#     num_examples_per_domain_per_label=100,\n",
    "#     pickle_path=os.path.join(get_datasets_base_path(), \"metehan.stratified_ds.2022A.pkl\"),\n",
    "#     source_or_target_dataset=\"target\",\n",
    "#     x_transform_func=global_x_transform_func,\n",
    "#     domain_modifier=lambda u: f\"met_{u}\"\n",
    "# )"
   ]
  },
  {
   "cell_type": "code",
   "execution_count": 18,
   "id": "86a863c3",
   "metadata": {
    "execution": {
     "iopub.execute_input": "2022-03-23T16:48:43.179431Z",
     "iopub.status.busy": "2022-03-23T16:48:43.179057Z",
     "iopub.status.idle": "2022-03-23T16:48:43.197095Z",
     "shell.execute_reply": "2022-03-23T16:48:43.196383Z"
    },
    "papermill": {
     "duration": 0.041913,
     "end_time": "2022-03-23T16:48:43.197247",
     "exception": false,
     "start_time": "2022-03-23T16:48:43.155334",
     "status": "completed"
    },
    "tags": []
   },
   "outputs": [],
   "source": [
    "# # from steves_utils.wisig.utils import (\n",
    "# #     ALL_NODES_MINIMUM_100_EXAMPLES,\n",
    "# #     ALL_NODES_MINIMUM_500_EXAMPLES,\n",
    "# #     ALL_NODES_MINIMUM_1000_EXAMPLES,\n",
    "# #     ALL_DAYS\n",
    "# # )\n",
    "\n",
    "# import steves_utils.wisig.utils as wisig\n",
    "\n",
    "\n",
    "# add_dataset(\n",
    "#     labels=wisig.ALL_NODES_MINIMUM_100_EXAMPLES,\n",
    "#     domains = wisig.ALL_DAYS,\n",
    "#     num_examples_per_domain_per_label=100,\n",
    "#     pickle_path=os.path.join(get_datasets_base_path(), \"wisig.node3-19.stratified_ds.2022A.pkl\"),\n",
    "#     source_or_target_dataset=\"target\",\n",
    "#     x_transform_func=global_x_transform_func,\n",
    "#     domain_modifier=lambda u: f\"wisig_{u}\"\n",
    "# )"
   ]
  },
  {
   "cell_type": "code",
   "execution_count": 19,
   "id": "fd5442bc",
   "metadata": {
    "execution": {
     "iopub.execute_input": "2022-03-23T16:48:43.255944Z",
     "iopub.status.busy": "2022-03-23T16:48:43.255337Z",
     "iopub.status.idle": "2022-03-23T16:48:43.273912Z",
     "shell.execute_reply": "2022-03-23T16:48:43.273207Z"
    },
    "papermill": {
     "duration": 0.049249,
     "end_time": "2022-03-23T16:48:43.274060",
     "exception": false,
     "start_time": "2022-03-23T16:48:43.224811",
     "status": "completed"
    },
    "tags": []
   },
   "outputs": [],
   "source": [
    "###################################\n",
    "# Build the dataset\n",
    "###################################\n",
    "train_original_source = Iterable_Aggregator(train_original_source, p.seed)\n",
    "val_original_source = Iterable_Aggregator(val_original_source, p.seed)\n",
    "test_original_source = Iterable_Aggregator(test_original_source, p.seed)\n",
    "\n",
    "\n",
    "train_original_target = Iterable_Aggregator(train_original_target, p.seed)\n",
    "val_original_target = Iterable_Aggregator(val_original_target, p.seed)\n",
    "test_original_target = Iterable_Aggregator(test_original_target, p.seed)\n",
    "\n",
    "# For CNN We only use X and Y. And we only train on the source.\n",
    "# Properly form the data using a transform lambda and Lazy_Iterable_Wrapper. Finally wrap them in a dataloader\n",
    "\n",
    "transform_lambda = lambda ex: ex[1] # Original is (<domain>, <episode>) so we strip down to episode only\n",
    "\n",
    "train_processed_source = Lazy_Iterable_Wrapper(train_original_source, transform_lambda)\n",
    "val_processed_source   = Lazy_Iterable_Wrapper(val_original_source, transform_lambda)\n",
    "test_processed_source  = Lazy_Iterable_Wrapper(test_original_source, transform_lambda)\n",
    "\n",
    "train_processed_target = Lazy_Iterable_Wrapper(train_original_target, transform_lambda)\n",
    "val_processed_target   = Lazy_Iterable_Wrapper(val_original_target, transform_lambda)\n",
    "test_processed_target  = Lazy_Iterable_Wrapper(test_original_target, transform_lambda)\n",
    "\n",
    "datasets = EasyDict({\n",
    "    \"source\": {\n",
    "        \"original\": {\"train\":train_original_source, \"val\":val_original_source, \"test\":test_original_source},\n",
    "        \"processed\": {\"train\":train_processed_source, \"val\":val_processed_source, \"test\":test_processed_source}\n",
    "    },\n",
    "    \"target\": {\n",
    "        \"original\": {\"train\":train_original_target, \"val\":val_original_target, \"test\":test_original_target},\n",
    "        \"processed\": {\"train\":train_processed_target, \"val\":val_processed_target, \"test\":test_processed_target}\n",
    "    },\n",
    "})"
   ]
  },
  {
   "cell_type": "code",
   "execution_count": 20,
   "id": "5b3c01fc",
   "metadata": {
    "execution": {
     "iopub.execute_input": "2022-03-23T16:48:43.329244Z",
     "iopub.status.busy": "2022-03-23T16:48:43.327817Z",
     "iopub.status.idle": "2022-03-23T16:49:15.990654Z",
     "shell.execute_reply": "2022-03-23T16:49:15.991480Z"
    },
    "papermill": {
     "duration": 32.690832,
     "end_time": "2022-03-23T16:49:15.991754",
     "exception": false,
     "start_time": "2022-03-23T16:48:43.300922",
     "status": "completed"
    },
    "tags": []
   },
   "outputs": [
    {
     "name": "stdout",
     "output_type": "stream",
     "text": [
      "{'Wisig_3', 'Wisig_2', 'Wisig_1', 'Wisig_4'}\n"
     ]
    },
    {
     "name": "stdout",
     "output_type": "stream",
     "text": [
      "{'ORACLE.run144', 'ORACLE.run132', 'ORACLE.run114', 'ORACLE.run126', 'ORACLE.run138', 'ORACLE.run18', 'ORACLE.run150', 'ORACLE.run120'}\n"
     ]
    },
    {
     "name": "stdout",
     "output_type": "stream",
     "text": [
      "tensor([[[-0.0088,  0.0233,  0.0115,  ...,  0.0076,  0.0216,  0.0283],\n",
      "         [-0.0157, -0.0164,  0.0194,  ..., -0.0182, -0.0216,  0.0053]],\n",
      "\n",
      "        [[-0.0285, -0.0371,  0.0019,  ..., -0.0057, -0.0082, -0.0038],\n",
      "         [ 0.0054, -0.0265, -0.0203,  ..., -0.0016, -0.0130, -0.0116]],\n",
      "\n",
      "        [[ 0.0031, -0.0245, -0.0132,  ...,  0.0180, -0.0121, -0.0137],\n",
      "         [ 0.0246,  0.0034, -0.0192,  ...,  0.0267,  0.0221, -0.0057]],\n",
      "\n",
      "        ...,\n",
      "\n",
      "        [[-0.0111, -0.0804, -0.0345,  ..., -0.1187, -0.0739,  0.0767],\n",
      "         [ 0.0608, -0.0315, -0.0863,  ...,  0.0479, -0.1267, -0.1292]],\n",
      "\n",
      "        [[ 0.0636, -0.1413,  0.0100,  ..., -0.1149, -0.1019,  0.1310],\n",
      "         [ 0.1039, -0.0120, -0.1752,  ...,  0.0476, -0.1416, -0.1495]],\n",
      "\n",
      "        [[-0.0765,  0.0862,  0.0033,  ...,  0.0984,  0.0885, -0.0637],\n",
      "         [-0.0549, -0.0087,  0.1401,  ..., -0.0652,  0.1137,  0.1396]]])\n"
     ]
    }
   ],
   "source": [
    "from steves_utils.transforms import get_average_magnitude, get_average_power\n",
    "\n",
    "print(set([u for u,_ in val_original_source]))\n",
    "print(set([u for u,_ in val_original_target]))\n",
    "\n",
    "s_x, s_y, q_x, q_y, _ = next(iter(train_processed_source))\n",
    "print(s_x)\n",
    "\n",
    "# for ds in [\n",
    "#     train_processed_source,\n",
    "#     val_processed_source,\n",
    "#     test_processed_source,\n",
    "#     train_processed_target,\n",
    "#     val_processed_target,\n",
    "#     test_processed_target\n",
    "# ]:\n",
    "#     for s_x, s_y, q_x, q_y, _ in ds:\n",
    "#         for X in (s_x, q_x):\n",
    "#             for x in X:\n",
    "#                 assert np.isclose(get_average_magnitude(x.numpy()), 1.0)\n",
    "#                 assert np.isclose(get_average_power(x.numpy()), 1.0)\n",
    "                "
   ]
  },
  {
   "cell_type": "code",
   "execution_count": 21,
   "id": "bbdacba1",
   "metadata": {
    "execution": {
     "iopub.execute_input": "2022-03-23T16:49:16.049816Z",
     "iopub.status.busy": "2022-03-23T16:49:16.049435Z",
     "iopub.status.idle": "2022-03-23T16:49:16.278631Z",
     "shell.execute_reply": "2022-03-23T16:49:16.277916Z"
    },
    "papermill": {
     "duration": 0.256881,
     "end_time": "2022-03-23T16:49:16.278796",
     "exception": false,
     "start_time": "2022-03-23T16:49:16.021915",
     "status": "completed"
    },
    "tags": []
   },
   "outputs": [
    {
     "name": "stdout",
     "output_type": "stream",
     "text": [
      "(2, 256)\n"
     ]
    }
   ],
   "source": [
    "###################################\n",
    "# Build the model\n",
    "###################################\n",
    "# easfsl only wants a tuple for the shape\n",
    "model = Steves_Prototypical_Network(x_net, device=p.device, x_shape=tuple(p.x_shape))\n",
    "optimizer = Adam(params=model.parameters(), lr=p.lr)"
   ]
  },
  {
   "cell_type": "code",
   "execution_count": 22,
   "id": "22b39ac5",
   "metadata": {
    "execution": {
     "iopub.execute_input": "2022-03-23T16:49:16.334742Z",
     "iopub.status.busy": "2022-03-23T16:49:16.334003Z",
     "iopub.status.idle": "2022-03-23T17:08:41.565134Z",
     "shell.execute_reply": "2022-03-23T17:08:41.564787Z"
    },
    "papermill": {
     "duration": 1165.256449,
     "end_time": "2022-03-23T17:08:41.565229",
     "exception": false,
     "start_time": "2022-03-23T16:49:16.308780",
     "status": "completed"
    },
    "tags": []
   },
   "outputs": [
    {
     "name": "stdout",
     "output_type": "stream",
     "text": [
      "epoch: 1, [batch: 1 / 6847], examples_per_second: 31.0444, train_label_loss: 2.1014, \n"
     ]
    },
    {
     "name": "stdout",
     "output_type": "stream",
     "text": [
      "epoch: 1, [batch: 685 / 6847], examples_per_second: 2948.0781, train_label_loss: 0.4009, \n"
     ]
    },
    {
     "name": "stdout",
     "output_type": "stream",
     "text": [
      "epoch: 1, [batch: 1370 / 6847], examples_per_second: 2938.4089, train_label_loss: 0.1516, \n"
     ]
    },
    {
     "name": "stdout",
     "output_type": "stream",
     "text": [
      "epoch: 1, [batch: 2054 / 6847], examples_per_second: 2949.1463, train_label_loss: 0.0057, \n"
     ]
    },
    {
     "name": "stdout",
     "output_type": "stream",
     "text": [
      "epoch: 1, [batch: 2739 / 6847], examples_per_second: 3023.7594, train_label_loss: 0.1404, \n"
     ]
    },
    {
     "name": "stdout",
     "output_type": "stream",
     "text": [
      "epoch: 1, [batch: 3424 / 6847], examples_per_second: 3007.0090, train_label_loss: 0.0137, \n"
     ]
    },
    {
     "name": "stdout",
     "output_type": "stream",
     "text": [
      "epoch: 1, [batch: 4108 / 6847], examples_per_second: 2974.1739, train_label_loss: 0.4604, \n"
     ]
    },
    {
     "name": "stdout",
     "output_type": "stream",
     "text": [
      "epoch: 1, [batch: 4793 / 6847], examples_per_second: 2930.3068, train_label_loss: 0.1919, \n"
     ]
    },
    {
     "name": "stdout",
     "output_type": "stream",
     "text": [
      "epoch: 1, [batch: 5477 / 6847], examples_per_second: 2931.6015, train_label_loss: 0.1233, \n"
     ]
    },
    {
     "name": "stdout",
     "output_type": "stream",
     "text": [
      "epoch: 1, [batch: 6162 / 6847], examples_per_second: 2948.1907, train_label_loss: 0.3522, \n"
     ]
    },
    {
     "name": "stdout",
     "output_type": "stream",
     "text": [
      "=============================================================\n",
      "epoch: 1, source_val_acc_label: 0.9625, target_val_acc_label: 0.2887, source_val_label_loss: 0.1647, target_val_label_loss: 2.5803, \n",
      "=============================================================\n"
     ]
    },
    {
     "name": "stdout",
     "output_type": "stream",
     "text": [
      "New best\n"
     ]
    },
    {
     "name": "stdout",
     "output_type": "stream",
     "text": [
      "epoch: 2, [batch: 1 / 6860], examples_per_second: 1.3238, train_label_loss: 0.3727, \n"
     ]
    },
    {
     "name": "stdout",
     "output_type": "stream",
     "text": [
      "epoch: 2, [batch: 686 / 6860], examples_per_second: 3465.5031, train_label_loss: 0.3643, \n"
     ]
    },
    {
     "name": "stdout",
     "output_type": "stream",
     "text": [
      "epoch: 2, [batch: 1372 / 6860], examples_per_second: 3955.1432, train_label_loss: 0.4901, \n"
     ]
    },
    {
     "name": "stdout",
     "output_type": "stream",
     "text": [
      "epoch: 2, [batch: 2058 / 6860], examples_per_second: 3845.5042, train_label_loss: 0.3807, \n"
     ]
    },
    {
     "name": "stdout",
     "output_type": "stream",
     "text": [
      "epoch: 2, [batch: 2744 / 6860], examples_per_second: 3711.8508, train_label_loss: 0.0300, \n"
     ]
    },
    {
     "name": "stdout",
     "output_type": "stream",
     "text": [
      "epoch: 2, [batch: 3430 / 6860], examples_per_second: 3770.0369, train_label_loss: 0.0187, \n"
     ]
    },
    {
     "name": "stdout",
     "output_type": "stream",
     "text": [
      "epoch: 2, [batch: 4116 / 6860], examples_per_second: 3793.0360, train_label_loss: 0.1969, \n"
     ]
    },
    {
     "name": "stdout",
     "output_type": "stream",
     "text": [
      "epoch: 2, [batch: 4802 / 6860], examples_per_second: 3815.0092, train_label_loss: 0.2950, \n"
     ]
    },
    {
     "name": "stdout",
     "output_type": "stream",
     "text": [
      "epoch: 2, [batch: 5488 / 6860], examples_per_second: 4711.3194, train_label_loss: 0.0365, \n"
     ]
    },
    {
     "name": "stdout",
     "output_type": "stream",
     "text": [
      "epoch: 2, [batch: 6174 / 6860], examples_per_second: 4511.2471, train_label_loss: 0.0420, \n"
     ]
    },
    {
     "name": "stdout",
     "output_type": "stream",
     "text": [
      "=============================================================\n",
      "epoch: 2, source_val_acc_label: 0.9714, target_val_acc_label: 0.2852, source_val_label_loss: 0.1358, target_val_label_loss: 2.5821, \n",
      "=============================================================\n"
     ]
    },
    {
     "name": "stdout",
     "output_type": "stream",
     "text": [
      "epoch: 3, [batch: 1 / 6849], examples_per_second: 1.4779, train_label_loss: 0.0523, \n"
     ]
    },
    {
     "name": "stdout",
     "output_type": "stream",
     "text": [
      "epoch: 3, [batch: 685 / 6849], examples_per_second: 3327.6061, train_label_loss: 0.0151, \n"
     ]
    },
    {
     "name": "stdout",
     "output_type": "stream",
     "text": [
      "epoch: 3, [batch: 1370 / 6849], examples_per_second: 3345.0594, train_label_loss: 0.1436, \n"
     ]
    },
    {
     "name": "stdout",
     "output_type": "stream",
     "text": [
      "epoch: 3, [batch: 2055 / 6849], examples_per_second: 3380.3161, train_label_loss: 0.0043, \n"
     ]
    },
    {
     "name": "stdout",
     "output_type": "stream",
     "text": [
      "epoch: 3, [batch: 2740 / 6849], examples_per_second: 3390.6666, train_label_loss: 0.0021, \n"
     ]
    },
    {
     "name": "stdout",
     "output_type": "stream",
     "text": [
      "epoch: 3, [batch: 3425 / 6849], examples_per_second: 3425.0430, train_label_loss: 0.2586, \n"
     ]
    },
    {
     "name": "stdout",
     "output_type": "stream",
     "text": [
      "epoch: 3, [batch: 4109 / 6849], examples_per_second: 3401.8374, train_label_loss: 0.1070, \n"
     ]
    },
    {
     "name": "stdout",
     "output_type": "stream",
     "text": [
      "epoch: 3, [batch: 4794 / 6849], examples_per_second: 3439.5597, train_label_loss: 0.0433, \n"
     ]
    },
    {
     "name": "stdout",
     "output_type": "stream",
     "text": [
      "epoch: 3, [batch: 5479 / 6849], examples_per_second: 3346.5894, train_label_loss: 0.0074, \n"
     ]
    },
    {
     "name": "stdout",
     "output_type": "stream",
     "text": [
      "epoch: 3, [batch: 6164 / 6849], examples_per_second: 3443.7557, train_label_loss: 0.0079, \n"
     ]
    },
    {
     "name": "stdout",
     "output_type": "stream",
     "text": [
      "=============================================================\n",
      "epoch: 3, source_val_acc_label: 0.9728, target_val_acc_label: 0.2393, source_val_label_loss: 0.1278, target_val_label_loss: 2.5680, \n",
      "=============================================================\n"
     ]
    },
    {
     "name": "stdout",
     "output_type": "stream",
     "text": [
      "epoch: 4, [batch: 1 / 6845], examples_per_second: 1.8612, train_label_loss: 0.1699, \n"
     ]
    },
    {
     "name": "stdout",
     "output_type": "stream",
     "text": [
      "epoch: 4, [batch: 685 / 6845], examples_per_second: 3985.5540, train_label_loss: 0.0561, \n"
     ]
    },
    {
     "name": "stdout",
     "output_type": "stream",
     "text": [
      "epoch: 4, [batch: 1369 / 6845], examples_per_second: 3959.8623, train_label_loss: 0.1388, \n"
     ]
    },
    {
     "name": "stdout",
     "output_type": "stream",
     "text": [
      "epoch: 4, [batch: 2054 / 6845], examples_per_second: 3924.3027, train_label_loss: 0.0069, \n"
     ]
    },
    {
     "name": "stdout",
     "output_type": "stream",
     "text": [
      "epoch: 4, [batch: 2738 / 6845], examples_per_second: 3876.2749, train_label_loss: 0.3789, \n"
     ]
    },
    {
     "name": "stdout",
     "output_type": "stream",
     "text": [
      "epoch: 4, [batch: 3423 / 6845], examples_per_second: 3934.8674, train_label_loss: 0.0479, \n"
     ]
    },
    {
     "name": "stdout",
     "output_type": "stream",
     "text": [
      "epoch: 4, [batch: 4107 / 6845], examples_per_second: 3968.5872, train_label_loss: 0.0185, \n"
     ]
    },
    {
     "name": "stdout",
     "output_type": "stream",
     "text": [
      "epoch: 4, [batch: 4791 / 6845], examples_per_second: 3886.8989, train_label_loss: 0.0135, \n"
     ]
    },
    {
     "name": "stdout",
     "output_type": "stream",
     "text": [
      "epoch: 4, [batch: 5476 / 6845], examples_per_second: 3905.4222, train_label_loss: 0.1853, \n"
     ]
    },
    {
     "name": "stdout",
     "output_type": "stream",
     "text": [
      "epoch: 4, [batch: 6160 / 6845], examples_per_second: 3918.7760, train_label_loss: 0.0036, \n"
     ]
    },
    {
     "name": "stdout",
     "output_type": "stream",
     "text": [
      "=============================================================\n",
      "epoch: 4, source_val_acc_label: 0.9741, target_val_acc_label: 0.2460, source_val_label_loss: 0.1097, target_val_label_loss: 2.5822, \n",
      "=============================================================\n"
     ]
    },
    {
     "name": "stdout",
     "output_type": "stream",
     "text": [
      "epoch: 5, [batch: 1 / 6835], examples_per_second: 1.8963, train_label_loss: 0.0219, \n"
     ]
    },
    {
     "name": "stdout",
     "output_type": "stream",
     "text": [
      "epoch: 5, [batch: 684 / 6835], examples_per_second: 3859.1313, train_label_loss: 0.0503, \n"
     ]
    },
    {
     "name": "stdout",
     "output_type": "stream",
     "text": [
      "epoch: 5, [batch: 1367 / 6835], examples_per_second: 3877.9839, train_label_loss: 0.0042, \n"
     ]
    },
    {
     "name": "stdout",
     "output_type": "stream",
     "text": [
      "epoch: 5, [batch: 2051 / 6835], examples_per_second: 3877.1864, train_label_loss: 0.1571, \n"
     ]
    },
    {
     "name": "stdout",
     "output_type": "stream",
     "text": [
      "epoch: 5, [batch: 2734 / 6835], examples_per_second: 3930.9145, train_label_loss: 0.3041, \n"
     ]
    },
    {
     "name": "stdout",
     "output_type": "stream",
     "text": [
      "epoch: 5, [batch: 3418 / 6835], examples_per_second: 4095.9577, train_label_loss: 0.1959, \n"
     ]
    },
    {
     "name": "stdout",
     "output_type": "stream",
     "text": [
      "epoch: 5, [batch: 4101 / 6835], examples_per_second: 3978.8749, train_label_loss: 0.0019, \n"
     ]
    },
    {
     "name": "stdout",
     "output_type": "stream",
     "text": [
      "epoch: 5, [batch: 4784 / 6835], examples_per_second: 3816.4336, train_label_loss: 0.0655, \n"
     ]
    },
    {
     "name": "stdout",
     "output_type": "stream",
     "text": [
      "epoch: 5, [batch: 5468 / 6835], examples_per_second: 3884.1587, train_label_loss: 0.0182, \n"
     ]
    },
    {
     "name": "stdout",
     "output_type": "stream",
     "text": [
      "epoch: 5, [batch: 6151 / 6835], examples_per_second: 4029.9850, train_label_loss: 0.0119, \n"
     ]
    },
    {
     "name": "stdout",
     "output_type": "stream",
     "text": [
      "=============================================================\n",
      "epoch: 5, source_val_acc_label: 0.9749, target_val_acc_label: 0.2627, source_val_label_loss: 0.1072, target_val_label_loss: 2.5598, \n",
      "=============================================================\n"
     ]
    },
    {
     "name": "stdout",
     "output_type": "stream",
     "text": [
      "Patience (3) exhausted\n"
     ]
    }
   ],
   "source": [
    "###################################\n",
    "# train\n",
    "###################################\n",
    "jig = PTN_Train_Eval_Test_Jig(model, p.BEST_MODEL_PATH, p.device)\n",
    "\n",
    "jig.train(\n",
    "    train_iterable=datasets.source.processed.train,\n",
    "    source_val_iterable=datasets.source.processed.val,\n",
    "    target_val_iterable=datasets.target.processed.val,\n",
    "    num_epochs=p.n_epoch,\n",
    "    num_logs_per_epoch=p.NUM_LOGS_PER_EPOCH,\n",
    "    patience=p.patience,\n",
    "    optimizer=optimizer,\n",
    "    criteria_for_best=p.criteria_for_best,\n",
    ")"
   ]
  },
  {
   "cell_type": "code",
   "execution_count": 23,
   "id": "31e8fabf",
   "metadata": {
    "execution": {
     "iopub.execute_input": "2022-03-23T17:08:41.642270Z",
     "iopub.status.busy": "2022-03-23T17:08:41.641716Z",
     "iopub.status.idle": "2022-03-23T17:08:41.674169Z",
     "shell.execute_reply": "2022-03-23T17:08:41.673453Z"
    },
    "papermill": {
     "duration": 0.07321,
     "end_time": "2022-03-23T17:08:41.674338",
     "exception": false,
     "start_time": "2022-03-23T17:08:41.601128",
     "status": "completed"
    },
    "tags": []
   },
   "outputs": [],
   "source": [
    "total_experiment_time_secs = time.time() - start_time_secs"
   ]
  },
  {
   "cell_type": "code",
   "execution_count": 24,
   "id": "87b9595b",
   "metadata": {
    "execution": {
     "iopub.execute_input": "2022-03-23T17:08:41.763494Z",
     "iopub.status.busy": "2022-03-23T17:08:41.763108Z",
     "iopub.status.idle": "2022-03-23T17:18:46.424096Z",
     "shell.execute_reply": "2022-03-23T17:18:46.423669Z"
    },
    "papermill": {
     "duration": 604.706443,
     "end_time": "2022-03-23T17:18:46.424188",
     "exception": false,
     "start_time": "2022-03-23T17:08:41.717745",
     "status": "completed"
    },
    "tags": []
   },
   "outputs": [],
   "source": [
    "###################################\n",
    "# Evaluate the model\n",
    "###################################\n",
    "source_test_label_accuracy, source_test_label_loss = jig.test(datasets.source.processed.test)\n",
    "target_test_label_accuracy, target_test_label_loss = jig.test(datasets.target.processed.test)\n",
    "\n",
    "source_val_label_accuracy, source_val_label_loss = jig.test(datasets.source.processed.val)\n",
    "target_val_label_accuracy, target_val_label_loss = jig.test(datasets.target.processed.val)\n",
    "\n",
    "history = jig.get_history()\n",
    "\n",
    "total_epochs_trained = len(history[\"epoch_indices\"])\n",
    "\n",
    "val_dl = Iterable_Aggregator((datasets.source.original.val,datasets.target.original.val))\n",
    "\n",
    "confusion = ptn_confusion_by_domain_over_dataloader(model, p.device, val_dl)\n",
    "per_domain_accuracy = per_domain_accuracy_from_confusion(confusion)\n",
    "\n",
    "# Add a key to per_domain_accuracy for if it was a source domain\n",
    "for domain, accuracy in per_domain_accuracy.items():\n",
    "    per_domain_accuracy[domain] = {\n",
    "        \"accuracy\": accuracy,\n",
    "        \"source?\": domain in p.domains_source\n",
    "    }\n",
    "\n",
    "# Do an independent accuracy assesment JUST TO BE SURE!\n",
    "# _source_test_label_accuracy = independent_accuracy_assesment(model, datasets.source.processed.test, p.device)\n",
    "# _target_test_label_accuracy = independent_accuracy_assesment(model, datasets.target.processed.test, p.device)\n",
    "# _source_val_label_accuracy = independent_accuracy_assesment(model, datasets.source.processed.val, p.device)\n",
    "# _target_val_label_accuracy = independent_accuracy_assesment(model, datasets.target.processed.val, p.device)\n",
    "\n",
    "# assert(_source_test_label_accuracy == source_test_label_accuracy)\n",
    "# assert(_target_test_label_accuracy == target_test_label_accuracy)\n",
    "# assert(_source_val_label_accuracy == source_val_label_accuracy)\n",
    "# assert(_target_val_label_accuracy == target_val_label_accuracy)\n",
    "\n",
    "experiment = {\n",
    "    \"experiment_name\": p.experiment_name,\n",
    "    \"parameters\": dict(p),\n",
    "    \"results\": {\n",
    "        \"source_test_label_accuracy\": source_test_label_accuracy,\n",
    "        \"source_test_label_loss\": source_test_label_loss,\n",
    "        \"target_test_label_accuracy\": target_test_label_accuracy,\n",
    "        \"target_test_label_loss\": target_test_label_loss,\n",
    "        \"source_val_label_accuracy\": source_val_label_accuracy,\n",
    "        \"source_val_label_loss\": source_val_label_loss,\n",
    "        \"target_val_label_accuracy\": target_val_label_accuracy,\n",
    "        \"target_val_label_loss\": target_val_label_loss,\n",
    "        \"total_epochs_trained\": total_epochs_trained,\n",
    "        \"total_experiment_time_secs\": total_experiment_time_secs,\n",
    "        \"confusion\": confusion,\n",
    "        \"per_domain_accuracy\": per_domain_accuracy,\n",
    "    },\n",
    "    \"history\": history,\n",
    "    \"dataset_metrics\": get_dataset_metrics(datasets, \"ptn\"),\n",
    "}"
   ]
  },
  {
   "cell_type": "code",
   "execution_count": 25,
   "id": "54a21829",
   "metadata": {
    "execution": {
     "iopub.execute_input": "2022-03-23T17:18:46.506628Z",
     "iopub.status.busy": "2022-03-23T17:18:46.505798Z",
     "iopub.status.idle": "2022-03-23T17:18:46.716989Z",
     "shell.execute_reply": "2022-03-23T17:18:46.716620Z"
    },
    "papermill": {
     "duration": 0.253953,
     "end_time": "2022-03-23T17:18:46.717093",
     "exception": false,
     "start_time": "2022-03-23T17:18:46.463140",
     "status": "completed"
    },
    "tags": []
   },
   "outputs": [
    {
     "data": {
      "image/png": "[encoded data removed]",
      "text/plain": [
       "<Figure size 1080x504 with 1 Axes>"
      ]
     },
     "metadata": {
      "needs_background": "light"
     },
     "output_type": "display_data"
    }
   ],
   "source": [
    "ax = get_loss_curve(experiment)\n",
    "plt.show()"
   ]
  },
  {
   "cell_type": "code",
   "execution_count": 26,
   "id": "fd8a0f60",
   "metadata": {
    "execution": {
     "iopub.execute_input": "2022-03-23T17:18:46.797327Z",
     "iopub.status.busy": "2022-03-23T17:18:46.796656Z",
     "iopub.status.idle": "2022-03-23T17:18:47.171021Z",
     "shell.execute_reply": "2022-03-23T17:18:47.171339Z"
    },
    "papermill": {
     "duration": 0.415492,
     "end_time": "2022-03-23T17:18:47.171452",
     "exception": false,
     "start_time": "2022-03-23T17:18:46.755960",
     "status": "completed"
    },
    "tags": []
   },
   "outputs": [
    {
     "data": {
      "text/plain": [
       "<AxesSubplot:title={'center':'Results'}>"
      ]
     },
     "execution_count": 26,
     "metadata": {},
     "output_type": "execute_result"
    },
    {
     "data": {
      "image/png": "[encoded data removed]",
      "text/plain": [
       "<Figure size 1080x504 with 1 Axes>"
      ]
     },
     "metadata": {
      "needs_background": "light"
     },
     "output_type": "display_data"
    }
   ],
   "source": [
    "get_results_table(experiment)"
   ]
  },
  {
   "cell_type": "code",
   "execution_count": 27,
   "id": "cf8dc689",
   "metadata": {
    "execution": {
     "iopub.execute_input": "2022-03-23T17:18:47.255465Z",
     "iopub.status.busy": "2022-03-23T17:18:47.254919Z",
     "iopub.status.idle": "2022-03-23T17:18:47.503471Z",
     "shell.execute_reply": "2022-03-23T17:18:47.503099Z"
    },
    "papermill": {
     "duration": 0.291595,
     "end_time": "2022-03-23T17:18:47.503586",
     "exception": false,
     "start_time": "2022-03-23T17:18:47.211991",
     "status": "completed"
    },
    "tags": []
   },
   "outputs": [
    {
     "data": {
      "text/plain": [
       "<AxesSubplot:title={'center':'Per Domain Validation Accuracy'}, xlabel='domain'>"
      ]
     },
     "execution_count": 27,
     "metadata": {},
     "output_type": "execute_result"
    },
    {
     "data": {
      "image/png": "[encoded data removed]",
      "text/plain": [
       "<Figure size 1080x504 with 1 Axes>"
      ]
     },
     "metadata": {
      "needs_background": "light"
     },
     "output_type": "display_data"
    }
   ],
   "source": [
    "get_domain_accuracies(experiment)"
   ]
  },
  {
   "cell_type": "code",
   "execution_count": 28,
   "id": "a74ae082",
   "metadata": {
    "execution": {
     "iopub.execute_input": "2022-03-23T17:18:47.590945Z",
     "iopub.status.busy": "2022-03-23T17:18:47.590383Z",
     "iopub.status.idle": "2022-03-23T17:18:47.614352Z",
     "shell.execute_reply": "2022-03-23T17:18:47.613967Z"
    },
    "papermill": {
     "duration": 0.068845,
     "end_time": "2022-03-23T17:18:47.614435",
     "exception": false,
     "start_time": "2022-03-23T17:18:47.545590",
     "status": "completed"
    },
    "tags": []
   },
   "outputs": [
    {
     "name": "stdout",
     "output_type": "stream",
     "text": [
      "Source Test Label Accuracy: 0.9631211180124224 Target Test Label Accuracy: 0.28843098958333335\n",
      "Source Val Label Accuracy: 0.9625396405919662 Target Val Label Accuracy: 0.2887044270833333\n"
     ]
    }
   ],
   "source": [
    "print(\"Source Test Label Accuracy:\", experiment[\"results\"][\"source_test_label_accuracy\"], \"Target Test Label Accuracy:\", experiment[\"results\"][\"target_test_label_accuracy\"])\n",
    "print(\"Source Val Label Accuracy:\", experiment[\"results\"][\"source_val_label_accuracy\"], \"Target Val Label Accuracy:\", experiment[\"results\"][\"target_val_label_accuracy\"])"
   ]
  },
  {
   "cell_type": "code",
   "execution_count": 29,
   "id": "dacca602",
   "metadata": {
    "execution": {
     "iopub.execute_input": "2022-03-23T17:18:47.697729Z",
     "iopub.status.busy": "2022-03-23T17:18:47.697195Z",
     "iopub.status.idle": "2022-03-23T17:18:47.720185Z",
     "shell.execute_reply": "2022-03-23T17:18:47.719793Z"
    },
    "papermill": {
     "duration": 0.065161,
     "end_time": "2022-03-23T17:18:47.720269",
     "exception": false,
     "start_time": "2022-03-23T17:18:47.655108",
     "status": "completed"
    },
    "tags": [
     "experiment_json"
    ]
   },
   "outputs": [
    {
     "data": {
      "text/plain": [
       "'{\"experiment_name\": \"tl_1v2:wisig-oracle.run1\", \"parameters\": {\"experiment_name\": \"tl_1v2:wisig-oracle.run1\", \"device\": \"cuda\", \"lr\": 0.0001, \"n_shot\": 3, \"n_query\": 2, \"train_k_factor\": 3, \"val_k_factor\": 2, \"test_k_factor\": 2, \"torch_default_dtype\": \"torch.float32\", \"n_epoch\": 50, \"patience\": 3, \"criteria_for_best\": \"target_accuracy\", \"x_net\": [{\"class\": \"nnReshape\", \"kargs\": {\"shape\": [-1, 1, 2, 256]}}, {\"class\": \"Conv2d\", \"kargs\": {\"in_channels\": 1, \"out_channels\": 256, \"kernel_size\": [1, 7], \"bias\": false, \"padding\": [0, 3]}}, {\"class\": \"ReLU\", \"kargs\": {\"inplace\": true}}, {\"class\": \"BatchNorm2d\", \"kargs\": {\"num_features\": 256}}, {\"class\": \"Conv2d\", \"kargs\": {\"in_channels\": 256, \"out_channels\": 80, \"kernel_size\": [2, 7], \"bias\": true, \"padding\": [0, 3]}}, {\"class\": \"ReLU\", \"kargs\": {\"inplace\": true}}, {\"class\": \"BatchNorm2d\", \"kargs\": {\"num_features\": 80}}, {\"class\": \"Flatten\", \"kargs\": {}}, {\"class\": \"Linear\", \"kargs\": {\"in_features\": 20480, \"out_features\": 256}}, {\"class\": \"ReLU\", \"kargs\": {\"inplace\": true}}, {\"class\": \"BatchNorm1d\", \"kargs\": {\"num_features\": 256}}, {\"class\": \"Linear\", \"kargs\": {\"in_features\": 256, \"out_features\": 256}}], \"NUM_LOGS_PER_EPOCH\": 10, \"BEST_MODEL_PATH\": \"./best_model.pth\", \"n_way\": 16, \"datasets\": [{\"labels\": [\"1-10\", \"1-12\", \"1-14\", \"1-16\", \"1-18\", \"1-19\", \"1-8\", \"10-11\", \"10-17\", \"10-4\", \"10-7\", \"11-1\", \"11-10\", \"11-19\", \"11-20\", \"11-4\", \"11-7\", \"12-19\", \"12-20\", \"12-7\", \"13-14\", \"13-18\", \"13-19\", \"13-20\", \"13-3\", \"13-7\", \"14-10\", \"14-11\", \"14-12\", \"14-13\", \"14-14\", \"14-19\", \"14-20\", \"14-7\", \"14-8\", \"14-9\", \"15-1\", \"15-19\", \"15-6\", \"16-1\", \"16-16\", \"16-19\", \"16-20\", \"17-10\", \"17-11\", \"18-1\", \"18-10\", \"18-11\", \"18-12\", \"18-13\", \"18-14\", \"18-15\", \"18-16\", \"18-17\", \"18-19\", \"18-2\", \"18-20\", \"18-4\", \"18-5\", \"18-7\", \"18-8\", \"18-9\", \"19-1\", \"19-10\", \"19-11\", \"19-12\", \"19-13\", \"19-14\", \"19-15\", \"19-19\", \"19-2\", \"19-20\", \"19-3\", \"19-4\", \"19-6\", \"19-7\", \"19-8\", \"19-9\", \"2-1\", \"2-13\", \"2-15\", \"2-3\", \"2-4\", \"2-5\", \"2-6\", \"2-7\", \"2-8\", \"20-1\", \"20-12\", \"20-14\", \"20-15\", \"20-16\", \"20-18\", \"20-19\", \"20-20\", \"20-3\", \"20-4\", \"20-5\", \"20-7\", \"20-8\", \"3-1\", \"3-13\", \"3-18\", \"3-2\", \"3-8\", \"4-1\", \"4-10\", \"4-11\", \"5-1\", \"5-5\", \"6-1\", \"6-15\", \"6-6\", \"7-10\", \"7-11\", \"7-12\", \"7-13\", \"7-14\", \"7-7\", \"7-8\", \"7-9\", \"8-1\", \"8-13\", \"8-14\", \"8-18\", \"8-20\", \"8-3\", \"8-8\", \"9-1\", \"9-7\"], \"domains\": [1, 2, 3, 4], \"num_examples_per_domain_per_label\": -1, \"pickle_path\": \"/root/csc500-main/datasets/wisig.node3-19.stratified_ds.2022A.pkl\", \"source_or_target_dataset\": \"source\", \"x_transforms\": [], \"episode_transforms\": [], \"domain_prefix\": \"Wisig_\"}, {\"labels\": [\"3123D52\", \"3123D65\", \"3123D79\", \"3123D80\", \"3123D54\", \"3123D70\", \"3123D7B\", \"3123D89\", \"3123D58\", \"3123D76\", \"3123D7D\", \"3123EFE\", \"3123D64\", \"3123D78\", \"3123D7E\", \"3124E4A\"], \"domains\": [32, 38, 8, 44, 14, 50, 20, 26], \"num_examples_per_domain_per_label\": 10000, \"pickle_path\": \"/root/csc500-main/datasets/oracle.Run1_10kExamples_stratified_ds.2022A.pkl\", \"source_or_target_dataset\": \"target\", \"x_transforms\": [], \"episode_transforms\": [], \"domain_prefix\": \"ORACLE.run1\"}], \"dataset_seed\": 420, \"seed\": 420, \"x_shape\": [2, 256], \"domains_source\": [\"Wisig_1\", \"Wisig_2\", \"Wisig_3\", \"Wisig_4\"], \"domains_target\": [\"ORACLE.run132\", \"ORACLE.run138\", \"ORACLE.run18\", \"ORACLE.run144\", \"ORACLE.run114\", \"ORACLE.run150\", \"ORACLE.run120\", \"ORACLE.run126\"]}, \"results\": {\"source_test_label_accuracy\": 0.9631211180124224, \"source_test_label_loss\": 0.16136573255062103, \"target_test_label_accuracy\": 0.28843098958333335, \"target_test_label_loss\": 2.5806896686553955, \"source_val_label_accuracy\": 0.9625396405919662, \"source_val_label_loss\": 0.16472986340522766, \"target_val_label_accuracy\": 0.2887044270833333, \"target_val_label_loss\": 2.58034610748291, \"total_epochs_trained\": 5, \"total_experiment_time_secs\": 1210.5928347110748, \"confusion\": {\"Wisig_3\": {\"110\": {\"110\": 88, \"44\": 1, \"111\": 1, \"11\": 1, \"98\": 1}, \"1\": {\"1\": 107, \"69\": 1}, \"2\": {\"117\": 1, \"2\": 26, \"102\": 1}, \"94\": {\"94\": 81, \"27\": 1, \"70\": 1, \"108\": 1}, \"64\": {\"64\": 20}, \"78\": {\"78\": 14, \"21\": 2}, \"47\": {\"47\": 11, \"103\": 1}, \"127\": {\"127\": 127, \"102\": 1}, \"89\": {\"89\": 28}, \"79\": {\"79\": 12}, \"22\": {\"22\": 16}, \"117\": {\"117\": 112}, \"49\": {\"49\": 20, \"94\": 1, \"8\": 1, \"108\": 1, \"82\": 1}, \"14\": {\"14\": 80}, \"103\": {\"103\": 16}, \"123\": {\"123\": 15, \"63\": 1}, \"98\": {\"98\": 127, \"117\": 1}, \"18\": {\"18\": 108}, \"61\": {\"61\": 16}, \"108\": {\"108\": 125, \"110\": 1}, \"100\": {\"100\": 16}, \"0\": {\"0\": 115, \"10\": 1}, \"107\": {\"107\": 130}, \"58\": {\"58\": 16}, \"8\": {\"8\": 120}, \"85\": {\"85\": 35, \"52\": 1}, \"31\": {\"31\": 19, \"122\": 1}, \"81\": {\"81\": 32}, \"60\": {\"60\": 26, \"23\": 2}, \"102\": {\"102\": 116}, \"19\": {\"19\": 26, \"28\": 1, \"100\": 1, \"77\": 1, \"5\": 1, \"124\": 1, \"46\": 1}, \"23\": {\"8\": 1, \"60\": 1, \"23\": 22, \"30\": 4, \"122\": 2, \"87\": 2}, \"32\": {\"32\": 28, \"65\": 1, \"107\": 1, \"14\": 2}, \"39\": {\"39\": 105, \"43\": 1, \"2\": 1, \"126\": 1}, \"129\": {\"129\": 32}, \"71\": {\"71\": 67, \"84\": 1}, \"91\": {\"91\": 17, \"57\": 1, \"29\": 1, \"58\": 1, \"82\": 1, \"6\": 2, \"70\": 1}, \"101\": {\"101\": 48, \"24\": 1, \"12\": 2, \"81\": 1}, \"62\": {\"62\": 120, \"88\": 2}, \"63\": {\"63\": 16}, \"125\": {\"125\": 116, \"112\": 1, \"102\": 1, \"88\": 1, \"24\": 1}, \"57\": {\"57\": 20}, \"28\": {\"28\": 16}, \"70\": {\"70\": 62, \"88\": 3, \"2\": 1, \"84\": 2, \"15\": 1, \"54\": 1, \"69\": 1, \"108\": 1}, \"99\": {\"99\": 33, \"21\": 1, \"27\": 1, \"12\": 1}, \"121\": {\"121\": 30, \"19\": 1, \"81\": 1}, \"4\": {\"4\": 95, \"94\": 1}, \"80\": {\"80\": 16}, \"51\": {\"97\": 1, \"51\": 13, \"33\": 1, \"57\": 1}, \"3\": {\"3\": 113, \"78\": 1, \"70\": 1, \"33\": 1}, \"9\": {\"9\": 32}, \"53\": {\"53\": 17, \"42\": 1, \"112\": 1, \"69\": 1}, \"30\": {\"30\": 83, \"116\": 1}, \"33\": {\"33\": 122}, \"15\": {\"15\": 103, \"88\": 1}, \"97\": {\"4\": 1, \"97\": 19}, \"86\": {\"86\": 27, \"84\": 1}, \"20\": {\"20\": 16}, \"66\": {\"66\": 15, \"65\": 1}, \"10\": {\"10\": 121, \"33\": 1}, \"29\": {\"29\": 31, \"83\": 1}, \"109\": {\"109\": 112, \"5\": 1, \"98\": 1}, \"52\": {\"52\": 16}, \"67\": {\"67\": 16}, \"83\": {\"83\": 22, \"69\": 1, \"43\": 1}, \"72\": {\"72\": 28}, \"90\": {\"90\": 124, \"117\": 1, \"102\": 1}, \"69\": {\"69\": 83, \"90\": 1}, \"88\": {\"88\": 111, \"8\": 1}, \"115\": {\"115\": 16}, \"73\": {\"73\": 35, \"22\": 1, \"88\": 1, \"100\": 1, \"69\": 1, \"89\": 1}, \"34\": {\"34\": 28, \"35\": 2, \"14\": 1, \"58\": 1}, \"25\": {\"25\": 16}, \"44\": {\"44\": 72}, \"112\": {\"112\": 12, \"97\": 1, \"85\": 1, \"59\": 2}, \"37\": {\"37\": 16}, \"77\": {\"77\": 16}, \"111\": {\"111\": 119, \"127\": 1, \"8\": 1, \"10\": 1}, \"119\": {\"119\": 16}, \"56\": {\"56\": 12}, \"5\": {\"5\": 109, \"70\": 1, \"98\": 1, \"87\": 1}, \"122\": {\"122\": 57, \"8\": 1, \"60\": 1, \"84\": 1}, \"74\": {\"74\": 15, \"54\": 1}, \"11\": {\"11\": 151, \"108\": 1}, \"41\": {\"41\": 16}, \"104\": {\"104\": 16}, \"21\": {\"21\": 45, \"101\": 2, \"84\": 1}, \"118\": {\"118\": 98, \"86\": 1, \"44\": 1}, \"40\": {\"40\": 121, \"21\": 1}, \"6\": {\"6\": 29, \"19\": 2, \"91\": 1}, \"27\": {\"27\": 91, \"36\": 4, \"54\": 1}, \"113\": {\"113\": 119, \"21\": 1}, \"68\": {\"68\": 16}, \"12\": {\"12\": 102}, \"54\": {\"54\": 16}, \"24\": {\"24\": 46, \"86\": 1, \"108\": 1}, \"106\": {\"106\": 96, \"87\": 1, \"84\": 1, \"97\": 1, \"15\": 1}, \"128\": {\"128\": 32}, \"48\": {\"48\": 11, \"86\": 1, \"79\": 2, \"37\": 1, \"22\": 1}, \"92\": {\"92\": 32}, \"35\": {\"35\": 10, \"26\": 1, \"6\": 1}, \"116\": {\"116\": 28}, \"38\": {\"38\": 15, \"6\": 1}, \"126\": {\"126\": 121, \"17\": 1, \"39\": 2}, \"46\": {\"46\": 15, \"77\": 1}, \"120\": {\"120\": 19, \"13\": 1}, \"7\": {\"7\": 111, \"26\": 1}, \"13\": {\"13\": 12, \"83\": 1, \"70\": 1, \"122\": 1, \"108\": 1}, \"43\": {\"43\": 52, \"70\": 1, \"30\": 1, \"69\": 1, \"108\": 1}, \"93\": {\"93\": 131, \"88\": 1}, \"26\": {\"26\": 131, \"69\": 1}, \"76\": {\"76\": 16}, \"59\": {\"59\": 12}, \"65\": {\"65\": 11, \"17\": 1}, \"87\": {\"87\": 119, \"108\": 1}, \"124\": {\"124\": 122, \"17\": 1, \"90\": 1}, \"84\": {\"84\": 108}, \"82\": {\"82\": 28}, \"75\": {\"75\": 16}, \"17\": {\"89\": 1, \"17\": 7, \"67\": 1, \"104\": 1, \"55\": 1, \"106\": 1, \"86\": 1, \"13\": 1, \"88\": 1, \"114\": 1}, \"105\": {\"105\": 124}, \"95\": {\"95\": 31, \"9\": 1}, \"42\": {\"42\": 25, \"124\": 3}, \"55\": {\"55\": 16}, \"16\": {\"16\": 115, \"84\": 1}, \"50\": {\"50\": 16}, \"96\": {\"96\": 20}, \"45\": {\"45\": 16}, \"36\": {\"36\": 118, \"27\": 2}, \"114\": {\"114\": 119, \"69\": 1, \"88\": 1, \"3\": 1, \"106\": 1, \"102\": 1}}, \"Wisig_4\": {\"113\": {\"113\": 121, \"126\": 1, \"69\": 2}, \"85\": {\"85\": 26, \"118\": 1, \"14\": 1}, \"34\": {\"34\": 28, \"91\": 1, \"106\": 1, \"47\": 2}, \"55\": {\"55\": 16}, \"42\": {\"42\": 24, \"124\": 1, \"79\": 2, \"112\": 1}, \"13\": {\"13\": 15, \"73\": 1}, \"69\": {\"69\": 117, \"39\": 1, \"7\": 1, \"88\": 2, \"1\": 1, \"21\": 1, \"16\": 1}, \"35\": {\"35\": 12}, \"83\": {\"83\": 26, \"21\": 1, \"88\": 1}, \"51\": {\"51\": 11, \"24\": 1, \"62\": 1, \"81\": 1, \"12\": 1, \"100\": 1}, \"72\": {\"72\": 32}, \"24\": {\"24\": 117, \"21\": 1, \"10\": 1, \"97\": 1}, \"53\": {\"53\": 15, \"92\": 1}, \"8\": {\"8\": 136, \"5\": 1, \"108\": 1, \"1\": 1, \"69\": 2, \"66\": 1, \"15\": 1, \"10\": 1}, \"49\": {\"49\": 23, \"12\": 1, \"106\": 3, \"114\": 1, \"25\": 2, \"52\": 1, \"5\": 1}, \"21\": {\"21\": 37, \"23\": 1, \"108\": 1, \"70\": 1}, \"18\": {\"18\": 118, \"24\": 1, \"84\": 1}, \"114\": {\"114\": 116, \"88\": 1, \"3\": 1}, \"58\": {\"58\": 15, \"2\": 1}, \"56\": {\"56\": 12}, \"80\": {\"80\": 16}, \"11\": {\"11\": 152, \"1\": 1, \"93\": 1}, \"15\": {\"15\": 124, \"36\": 1, \"105\": 1, \"40\": 1, \"69\": 1}, \"50\": {\"50\": 16}, \"111\": {\"111\": 137, \"27\": 1}, \"108\": {\"108\": 80, \"88\": 4, \"70\": 3, \"27\": 1, \"10\": 1, \"18\": 1, \"39\": 1, \"69\": 1}, \"104\": {\"104\": 16}, \"32\": {\"32\": 19, \"64\": 3, \"108\": 1, \"14\": 1, \"89\": 1, \"120\": 1, \"40\": 2}, \"68\": {\"68\": 15, \"108\": 1}, \"73\": {\"83\": 1, \"73\": 23}, \"92\": {\"92\": 28}, \"57\": {\"57\": 16}, \"40\": {\"40\": 132, \"108\": 1, \"70\": 2, \"126\": 1}, \"71\": {\"71\": 99, \"12\": 1, \"108\": 1, \"1\": 1, \"52\": 1, \"69\": 1}, \"121\": {\"121\": 29, \"21\": 1, \"41\": 1, \"38\": 1}, \"62\": {\"62\": 53, \"54\": 1, \"27\": 1, \"2\": 1, \"106\": 1, \"39\": 1, \"10\": 1, \"21\": 1}, \"39\": {\"39\": 94, \"88\": 1, \"72\": 1, \"10\": 1, \"105\": 1, \"24\": 1, \"69\": 1}, \"107\": {\"107\": 142, \"10\": 1, \"102\": 1}, \"60\": {\"60\": 29, \"72\": 1, \"106\": 1, \"23\": 1}, \"129\": {\"129\": 26, \"105\": 1, \"121\": 1}, \"84\": {\"84\": 126, \"88\": 4, \"109\": 1, \"108\": 1}, \"106\": {\"106\": 114, \"88\": 2}, \"87\": {\"87\": 131, \"43\": 1}, \"110\": {\"110\": 89, \"78\": 1, \"113\": 1, \"24\": 1, \"36\": 1, \"88\": 1}, \"118\": {\"118\": 107, \"22\": 1, \"88\": 2, \"87\": 2}, \"64\": {\"64\": 15, \"106\": 1}, \"82\": {\"129\": 1, \"82\": 30, \"17\": 1}, \"7\": {\"7\": 120, \"72\": 1, \"69\": 1, \"70\": 1, \"24\": 1}, \"0\": {\"0\": 112, \"88\": 1, \"84\": 1, \"21\": 2}, \"41\": {\"41\": 12, \"102\": 1, \"100\": 1, \"98\": 2}, \"102\": {\"102\": 127, \"70\": 1, \"126\": 1, \"2\": 1}, \"89\": {\"89\": 31, \"51\": 1}, \"26\": {\"26\": 125, \"69\": 1, \"70\": 1, \"8\": 1}, \"103\": {\"103\": 13, \"88\": 1, \"91\": 1, \"27\": 1}, \"90\": {\"90\": 114, \"98\": 1, \"63\": 1, \"117\": 1, \"88\": 1}, \"14\": {\"14\": 111, \"78\": 1}, \"9\": {\"9\": 28}, \"5\": {\"5\": 133, \"113\": 1, \"88\": 1, \"117\": 1}, \"22\": {\"22\": 16}, \"2\": {\"2\": 28}, \"77\": {\"77\": 12}, \"59\": {\"59\": 10, \"70\": 1, \"88\": 1}, \"127\": {\"127\": 95, \"23\": 1, \"4\": 1, \"88\": 1, \"105\": 2, \"80\": 1, \"10\": 1}, \"61\": {\"61\": 15, \"35\": 1}, \"17\": {\"17\": 18, \"81\": 1, \"82\": 1}, \"45\": {\"45\": 16}, \"19\": {\"19\": 27, \"129\": 1}, \"52\": {\"52\": 19, \"70\": 1}, \"123\": {\"84\": 1, \"123\": 13, \"23\": 1, \"33\": 1}, \"20\": {\"20\": 15, \"86\": 1}, \"112\": {\"112\": 13, \"6\": 1, \"79\": 1, \"71\": 1}, \"37\": {\"37\": 16}, \"29\": {\"29\": 32}, \"128\": {\"100\": 2, \"128\": 17, \"85\": 1, \"107\": 1, \"91\": 1, \"77\": 1, \"98\": 1}, \"100\": {\"100\": 20}, \"67\": {\"67\": 14, \"115\": 1, \"2\": 1}, \"12\": {\"12\": 95, \"106\": 1, \"102\": 1, \"16\": 1, \"88\": 1, \"15\": 1}, \"101\": {\"101\": 127, \"5\": 1}, \"76\": {\"76\": 16}, \"70\": {\"70\": 113, \"108\": 4, \"27\": 2, \"10\": 3, \"36\": 1, \"88\": 1}, \"31\": {\"88\": 1, \"31\": 15}, \"86\": {\"86\": 28}, \"88\": {\"88\": 127, \"78\": 1, \"69\": 1, \"70\": 1, \"94\": 1, \"108\": 1}, \"3\": {\"3\": 123, \"108\": 1, \"70\": 1, \"52\": 1}, \"117\": {\"117\": 117, \"1\": 1, \"114\": 1, \"69\": 1}, \"30\": {\"30\": 72, \"10\": 3, \"114\": 1}, \"96\": {\"96\": 18, \"122\": 2}, \"27\": {\"27\": 91, \"92\": 1, \"88\": 2, \"108\": 2, \"10\": 1, \"84\": 1, \"21\": 1, \"24\": 1}, \"122\": {\"122\": 79, \"43\": 2, \"110\": 2, \"39\": 1}, \"120\": {\"120\": 18, \"21\": 1, \"45\": 1}, \"44\": {\"44\": 60, \"121\": 2, \"90\": 1, \"127\": 1}, \"79\": {\"79\": 14, \"73\": 1, \"122\": 1}, \"105\": {\"105\": 96, \"69\": 1, \"88\": 1, \"102\": 1, \"16\": 1}, \"95\": {\"95\": 30, \"21\": 1, \"27\": 1}, \"109\": {\"109\": 114, \"121\": 1, \"102\": 1}, \"16\": {\"16\": 115, \"88\": 1, \"114\": 1, \"70\": 1}, \"36\": {\"36\": 92, \"113\": 1, \"108\": 1, \"24\": 1, \"27\": 3}, \"125\": {\"125\": 135, \"117\": 1}, \"97\": {\"36\": 2, \"97\": 15, \"10\": 2, \"102\": 1}, \"91\": {\"28\": 1, \"91\": 19, \"88\": 1, \"34\": 1, \"128\": 1, \"83\": 1}, \"28\": {\"28\": 18, \"103\": 1, \"91\": 1}, \"81\": {\"81\": 36}, \"126\": {\"126\": 113, \"88\": 1, \"78\": 1, \"106\": 1, \"84\": 1, \"81\": 1, \"22\": 1, \"113\": 3}, \"4\": {\"4\": 98, \"33\": 1, \"39\": 1, \"88\": 1, \"24\": 1, \"108\": 1, \"69\": 1}, \"10\": {\"10\": 121, \"94\": 1, \"70\": 1, \"43\": 1}, \"63\": {\"63\": 16}, \"43\": {\"43\": 118}, \"116\": {\"116\": 28}, \"1\": {\"1\": 98, \"116\": 1, \"71\": 2, \"110\": 1, \"40\": 1, \"108\": 1, \"70\": 1, \"27\": 1, \"114\": 1, \"88\": 1}, \"94\": {\"94\": 84, \"15\": 1, \"78\": 1, \"40\": 1, \"70\": 1}, \"38\": {\"38\": 16}, \"54\": {\"54\": 14, \"51\": 2}, \"74\": {\"74\": 15, \"119\": 1}, \"25\": {\"25\": 16}, \"75\": {\"75\": 16}, \"119\": {\"119\": 15, \"22\": 1}, \"46\": {\"46\": 16, \"73\": 1, \"22\": 1, \"19\": 2}, \"23\": {\"23\": 9, \"72\": 1, \"93\": 1, \"1\": 1, \"60\": 1, \"113\": 1, \"102\": 1, \"34\": 1}, \"99\": {\"99\": 40}, \"33\": {\"33\": 116, \"102\": 1, \"16\": 1}, \"47\": {\"47\": 9, \"112\": 1, \"49\": 1, \"83\": 1}, \"115\": {\"102\": 1, \"115\": 12, \"111\": 2, \"42\": 1}, \"6\": {\"6\": 21, \"58\": 1, \"91\": 1, \"84\": 1}, \"65\": {\"65\": 12}, \"66\": {\"66\": 15, \"90\": 1}, \"78\": {\"78\": 34, \"88\": 1, \"109\": 1}, \"98\": {\"98\": 116}, \"93\": {\"93\": 113, \"11\": 2, \"24\": 1}, \"48\": {\"48\": 15, \"102\": 1}, \"124\": {\"124\": 113, \"117\": 1}}, \"Wisig_2\": {\"115\": {\"115\": 12}, \"34\": {\"34\": 25, \"28\": 3, \"64\": 2, \"86\": 1, \"52\": 1}, \"97\": {\"97\": 17, \"89\": 1, \"101\": 2}, \"100\": {\"100\": 16}, \"129\": {\"129\": 31, \"73\": 1}, \"90\": {\"90\": 140, \"98\": 1, \"102\": 1}, \"125\": {\"125\": 131, \"2\": 1}, \"7\": {\"7\": 125, \"24\": 3}, \"92\": {\"92\": 25, \"55\": 2, \"89\": 1}, \"114\": {\"114\": 115, \"107\": 1}, \"80\": {\"80\": 15, \"83\": 1}, \"16\": {\"16\": 114, \"40\": 2, \"24\": 2, \"26\": 1, \"88\": 1, \"102\": 1, \"93\": 1}, \"69\": {\"69\": 112, \"24\": 2, \"70\": 1, \"88\": 1}, \"102\": {\"102\": 114}, \"33\": {\"33\": 130}, \"17\": {\"17\": 14, \"27\": 1, \"104\": 1}, \"27\": {\"27\": 64, \"24\": 2, \"109\": 1, \"26\": 1}, \"117\": {\"117\": 104, \"12\": 1, \"39\": 1}, \"14\": {\"14\": 46, \"126\": 1, \"21\": 1}, \"86\": {\"86\": 32}, \"0\": {\"0\": 113, \"21\": 1, \"69\": 1, \"24\": 1}, \"62\": {\"62\": 136, \"23\": 1, \"24\": 1}, \"39\": {\"39\": 100, \"109\": 6, \"1\": 1, \"24\": 1, \"94\": 1, \"69\": 1, \"84\": 1, \"70\": 1}, \"19\": {\"19\": 28}, \"44\": {\"44\": 100}, \"104\": {\"104\": 20}, \"3\": {\"3\": 125, \"69\": 1, \"24\": 1, \"62\": 1, \"21\": 1, \"36\": 1}, \"10\": {\"10\": 55, \"69\": 1, \"21\": 1, \"24\": 1, \"88\": 1, \"102\": 1}, \"61\": {\"61\": 16, \"121\": 1, \"70\": 1, \"126\": 2}, \"111\": {\"111\": 114}, \"68\": {\"68\": 16}, \"101\": {\"101\": 142, \"21\": 1, \"71\": 1}, \"36\": {\"36\": 119, \"121\": 1, \"18\": 1, \"62\": 1, \"70\": 1, \"16\": 1, \"24\": 2, \"4\": 1, \"117\": 1}, \"120\": {\"120\": 20}, \"103\": {\"103\": 16}, \"47\": {\"47\": 12}, \"98\": {\"98\": 119, \"3\": 1}, \"76\": {\"76\": 16}, \"88\": {\"88\": 121, \"70\": 2, \"109\": 1}, \"93\": {\"93\": 136, \"14\": 1, \"24\": 1}, \"23\": {\"93\": 2, \"23\": 30, \"14\": 1, \"87\": 1, \"126\": 2, \"16\": 2, \"101\": 1, \"110\": 1, \"96\": 1, \"60\": 2, \"113\": 1}, \"108\": {\"108\": 123, \"109\": 1}, \"51\": {\"51\": 16, \"89\": 1, \"58\": 1, \"116\": 1, \"24\": 1}, \"13\": {\"13\": 12, \"121\": 1, \"15\": 1, \"71\": 1, \"110\": 1}, \"77\": {\"77\": 16}, \"46\": {\"46\": 16}, \"96\": {\"96\": 20}, \"119\": {\"119\": 19, \"1\": 1}, \"121\": {\"121\": 36}, \"54\": {\"54\": 18, \"28\": 1, \"104\": 1}, \"82\": {\"82\": 34, \"123\": 1, \"33\": 1}, \"12\": {\"12\": 83, \"33\": 1, \"0\": 2, \"126\": 1, \"24\": 1}, \"74\": {\"74\": 15, \"22\": 1}, \"66\": {\"66\": 18, \"49\": 1, \"82\": 1}, \"28\": {\"28\": 17, \"73\": 1, \"91\": 2}, \"52\": {\"52\": 18, \"59\": 1, \"107\": 1}, \"41\": {\"41\": 18, \"52\": 1, \"98\": 1}, \"81\": {\"81\": 24}, \"48\": {\"48\": 20}, \"113\": {\"113\": 70, \"78\": 1, \"11\": 1}, \"53\": {\"53\": 16}, \"15\": {\"15\": 117, \"97\": 2, \"126\": 1}, \"30\": {\"30\": 108, \"24\": 1, \"122\": 1, \"0\": 1, \"108\": 1}, \"43\": {\"43\": 121, \"88\": 2, \"15\": 1}, \"29\": {\"29\": 31, \"91\": 1}, \"109\": {\"109\": 84, \"78\": 1, \"39\": 10, \"94\": 1, \"70\": 1, \"88\": 2, \"84\": 1}, \"60\": {\"60\": 23, \"122\": 2, \"93\": 1, \"70\": 1, \"84\": 1}, \"70\": {\"70\": 108, \"67\": 1, \"109\": 5, \"11\": 1, \"69\": 1, \"107\": 1, \"78\": 1, \"71\": 1, \"39\": 2, \"30\": 1}, \"127\": {\"127\": 123, \"16\": 1}, \"32\": {\"32\": 29, \"56\": 2, \"95\": 1, \"104\": 2, \"34\": 2}, \"73\": {\"73\": 27, \"88\": 1}, \"50\": {\"50\": 13, \"69\": 1, \"21\": 1, \"33\": 1}, \"1\": {\"1\": 119, \"69\": 1, \"12\": 1, \"102\": 1, \"88\": 1, \"126\": 1}, \"106\": {\"106\": 116, \"21\": 1, \"126\": 1, \"84\": 1, \"88\": 1}, \"123\": {\"123\": 15, \"83\": 1}, \"79\": {\"79\": 16}, \"4\": {\"4\": 85, \"84\": 1, \"126\": 1, \"31\": 1}, \"2\": {\"2\": 31, \"13\": 1}, \"8\": {\"8\": 124, \"88\": 2, \"12\": 1, \"84\": 1}, \"83\": {\"83\": 40}, \"105\": {\"105\": 129, \"21\": 1}, \"5\": {\"5\": 107, \"21\": 1, \"70\": 3, \"88\": 1}, \"99\": {\"99\": 32}, \"25\": {\"25\": 15, \"28\": 1}, \"59\": {\"59\": 13, \"21\": 2, \"126\": 1}, \"42\": {\"42\": 22, \"129\": 1, \"83\": 1, \"124\": 2, \"18\": 1, \"88\": 1}, \"55\": {\"55\": 16}, \"75\": {\"75\": 16}, \"118\": {\"118\": 65, \"39\": 1, \"31\": 1, \"43\": 1}, \"95\": {\"95\": 32, \"21\": 1, \"24\": 1, \"40\": 2}, \"122\": {\"122\": 118, \"24\": 1, \"0\": 1}, \"20\": {\"20\": 16}, \"110\": {\"110\": 31, \"123\": 1, \"1\": 1, \"6\": 1, \"21\": 1, \"24\": 1, \"14\": 2, \"31\": 1, \"19\": 1}, \"65\": {\"65\": 20}, \"37\": {\"79\": 1, \"37\": 13, \"104\": 1, \"86\": 1}, \"64\": {\"64\": 15, \"66\": 1}, \"63\": {\"63\": 19, \"49\": 1}, \"40\": {\"40\": 126, \"95\": 2, \"18\": 2, \"88\": 3, \"69\": 3, \"73\": 1, \"71\": 1, \"84\": 1, \"24\": 1}, \"21\": {\"21\": 47, \"109\": 1}, \"11\": {\"11\": 77, \"67\": 1, \"88\": 1, \"27\": 1}, \"67\": {\"67\": 16}, \"91\": {\"103\": 1, \"67\": 1, \"91\": 20, \"34\": 1, \"29\": 1, \"18\": 1, \"6\": 3}, \"87\": {\"87\": 101, \"43\": 2, \"39\": 2, \"88\": 2, \"24\": 2, \"31\": 1, \"102\": 1, \"69\": 1}, \"89\": {\"89\": 34, \"92\": 1, \"119\": 1}, \"9\": {\"9\": 32}, \"124\": {\"124\": 113, \"45\": 1}, \"56\": {\"56\": 11, \"103\": 1}, \"38\": {\"38\": 16}, \"94\": {\"94\": 57, \"109\": 1, \"108\": 1, \"26\": 1, \"118\": 1, \"102\": 1, \"24\": 1, \"39\": 1}, \"6\": {\"6\": 30, \"124\": 1, \"91\": 1}, \"58\": {\"58\": 17, \"51\": 1, \"42\": 1, \"28\": 1}, \"22\": {\"22\": 20}, \"24\": {\"108\": 2, \"24\": 102, \"118\": 1, \"70\": 1, \"69\": 1, \"98\": 1, \"109\": 1, \"39\": 1, \"15\": 1, \"88\": 1}, \"57\": {\"57\": 20}, \"112\": {\"112\": 12, \"53\": 1, \"15\": 1, \"129\": 1, \"85\": 1}, \"116\": {\"116\": 26, \"78\": 2}, \"18\": {\"18\": 120, \"42\": 1, \"7\": 1, \"84\": 1, \"70\": 1, \"24\": 3, \"71\": 1}, \"49\": {\"49\": 16, \"51\": 1, \"67\": 1, \"44\": 1, \"91\": 1, \"114\": 1, \"68\": 1, \"58\": 1, \"88\": 1}, \"45\": {\"45\": 14, \"124\": 2}, \"107\": {\"107\": 55, \"67\": 1, \"110\": 2, \"126\": 1, \"33\": 1, \"61\": 1, \"108\": 1, \"36\": 1, \"102\": 1}, \"35\": {\"35\": 12}, \"78\": {\"78\": 42, \"118\": 1, \"70\": 2, \"109\": 2, \"69\": 1}, \"126\": {\"126\": 119, \"108\": 1}, \"85\": {\"85\": 32}, \"72\": {\"72\": 27, \"24\": 1}, \"26\": {\"26\": 120, \"70\": 1, \"69\": 1, \"18\": 1, \"122\": 1}, \"84\": {\"84\": 90, \"118\": 1, \"87\": 1}, \"128\": {\"128\": 19, \"114\": 2, \"34\": 2, \"101\": 1}, \"31\": {\"31\": 20}, \"71\": {\"71\": 98, \"40\": 1, \"11\": 1}}, \"Wisig_1\": {\"22\": {\"22\": 16}, \"58\": {\"58\": 12}, \"109\": {\"109\": 123, \"108\": 1}, \"77\": {\"77\": 16}, \"74\": {\"74\": 16}, \"10\": {\"10\": 119, \"109\": 1}, \"70\": {\"70\": 126, \"126\": 1, \"108\": 1}, \"84\": {\"84\": 108}, \"52\": {\"52\": 20}, \"20\": {\"20\": 16}, \"14\": {\"14\": 95, \"108\": 1}, \"37\": {\"37\": 16}, \"42\": {\"42\": 22, \"22\": 1, \"72\": 1, \"91\": 1, \"2\": 1, \"29\": 1, \"86\": 1}, \"99\": {\"99\": 24}, \"35\": {\"35\": 12}, \"62\": {\"62\": 119, \"108\": 1}, \"61\": {\"61\": 11, \"66\": 1}, \"7\": {\"7\": 141, \"70\": 1}, \"69\": {\"69\": 100, \"88\": 1, \"108\": 1, \"102\": 1, \"36\": 1}, \"55\": {\"55\": 12}, \"41\": {\"41\": 16}, \"120\": {\"120\": 20}, \"123\": {\"123\": 16}, \"97\": {\"97\": 16, \"55\": 1, \"42\": 1, \"59\": 1, \"95\": 1}, \"102\": {\"102\": 117, \"16\": 1, \"108\": 1, \"109\": 1}, \"60\": {\"20\": 2, \"60\": 7, \"18\": 1, \"106\": 2, \"61\": 1, \"110\": 1, \"8\": 1, \"30\": 1}, \"127\": {\"127\": 104, \"114\": 1, \"88\": 1, \"11\": 1, \"43\": 1}, \"32\": {\"32\": 32}, \"3\": {\"3\": 82, \"15\": 1, \"86\": 1, \"93\": 1, \"30\": 1, \"111\": 1, \"108\": 1}, \"8\": {\"8\": 122}, \"129\": {\"129\": 24, \"13\": 1, \"2\": 1, \"5\": 2}, \"119\": {\"119\": 16}, \"21\": {\"21\": 38, \"108\": 1, \"5\": 1}, \"53\": {\"53\": 20}, \"28\": {\"28\": 20}, \"117\": {\"117\": 144}, \"112\": {\"112\": 15, \"59\": 1}, \"126\": {\"126\": 129, \"108\": 1, \"88\": 1, \"24\": 2, \"102\": 1}, \"30\": {\"30\": 52}, \"105\": {\"105\": 81, \"88\": 1, \"102\": 1, \"70\": 1}, \"29\": {\"29\": 28}, \"57\": {\"57\": 12}, \"93\": {\"93\": 140}, \"17\": {\"17\": 14, \"97\": 1, \"124\": 1}, \"44\": {\"44\": 76}, \"63\": {\"63\": 15, \"116\": 1}, \"87\": {\"87\": 106, \"109\": 1, \"108\": 1}, \"0\": {\"0\": 83, \"122\": 1}, \"96\": {\"96\": 19, \"91\": 1}, \"98\": {\"98\": 108}, \"75\": {\"75\": 16}, \"78\": {\"78\": 15, \"110\": 1}, \"116\": {\"116\": 31, \"70\": 1}, \"114\": {\"114\": 126, \"109\": 1, \"70\": 1}, \"103\": {\"103\": 16}, \"50\": {\"50\": 16}, \"124\": {\"124\": 128}, \"5\": {\"5\": 85, \"82\": 1, \"16\": 1, \"15\": 1}, \"73\": {\"73\": 19, \"49\": 1}, \"81\": {\"81\": 28}, \"49\": {\"49\": 15, \"124\": 1, \"72\": 1, \"1\": 1, \"89\": 1, \"6\": 1}, \"16\": {\"16\": 106, \"70\": 1, \"108\": 1}, \"101\": {\"101\": 124}, \"125\": {\"125\": 118}, \"65\": {\"66\": 1, \"65\": 6, \"76\": 1, \"45\": 1, \"42\": 1, \"61\": 1, \"23\": 1}, \"66\": {\"66\": 15, \"28\": 1}, \"79\": {\"79\": 12}, \"39\": {\"39\": 101, \"30\": 1, \"11\": 2}, \"104\": {\"104\": 16}, \"91\": {\"91\": 26, \"86\": 2}, \"25\": {\"25\": 15, \"42\": 1}, \"64\": {\"64\": 16}, \"34\": {\"34\": 27, \"83\": 2, \"30\": 1, \"6\": 1, \"98\": 1}, \"82\": {\"82\": 36}, \"18\": {\"18\": 124}, \"43\": {\"43\": 127, \"78\": 1}, \"47\": {\"47\": 12}, \"108\": {\"108\": 123, \"50\": 1}, \"111\": {\"111\": 107, \"70\": 1}, \"23\": {\"23\": 14, \"87\": 1, \"44\": 1, \"110\": 2, \"122\": 1, \"18\": 1, \"11\": 2, \"88\": 2}, \"90\": {\"90\": 158, \"108\": 2}, \"4\": {\"4\": 99, \"1\": 1}, \"92\": {\"92\": 28}, \"2\": {\"2\": 27, \"42\": 1, \"129\": 1, \"5\": 1, \"82\": 1, \"15\": 1}, \"45\": {\"116\": 2, \"45\": 4, \"104\": 2, \"124\": 2, \"70\": 1, \"21\": 1}, \"68\": {\"68\": 16}, \"26\": {\"26\": 128}, \"38\": {\"38\": 16}, \"40\": {\"40\": 140, \"105\": 1, \"110\": 1}, \"80\": {\"80\": 14, \"20\": 1, \"73\": 1}, \"107\": {\"107\": 118, \"65\": 1, \"108\": 1, \"39\": 1, \"16\": 1}, \"94\": {\"94\": 91, \"15\": 1}, \"115\": {\"115\": 12}, \"46\": {\"46\": 10, \"70\": 1, \"91\": 1}, \"72\": {\"72\": 32}, \"19\": {\"19\": 27, \"73\": 1}, \"100\": {\"100\": 15, \"9\": 1}, \"76\": {\"76\": 15, \"88\": 1}, \"106\": {\"106\": 132}, \"88\": {\"88\": 128, \"24\": 1, \"108\": 1}, \"15\": {\"15\": 96, \"94\": 7, \"70\": 1}, \"54\": {\"54\": 14, \"15\": 1, \"30\": 1}, \"13\": {\"13\": 16}, \"51\": {\"51\": 16}, \"24\": {\"24\": 86, \"88\": 5, \"34\": 1}, \"48\": {\"48\": 12}, \"85\": {\"85\": 32}, \"33\": {\"33\": 140}, \"71\": {\"71\": 102, \"64\": 1, \"117\": 1, \"12\": 2, \"5\": 1, \"126\": 1}, \"6\": {\"6\": 29, \"55\": 1, \"65\": 1, \"58\": 1}, \"83\": {\"83\": 26, \"102\": 1, \"2\": 1}, \"121\": {\"121\": 32}, \"31\": {\"31\": 15, \"122\": 1}, \"67\": {\"109\": 1, \"67\": 15}, \"1\": {\"1\": 135, \"110\": 1}, \"27\": {\"27\": 91, \"109\": 1}, \"118\": {\"118\": 82, \"108\": 1, \"103\": 1}, \"56\": {\"56\": 12}, \"36\": {\"36\": 127, \"70\": 1}, \"11\": {\"11\": 125, \"111\": 1}, \"110\": {\"110\": 121, \"88\": 1}, \"89\": {\"89\": 36}, \"113\": {\"113\": 112, \"43\": 1, \"110\": 2, \"33\": 1, \"108\": 1, \"39\": 1}, \"59\": {\"59\": 12}, \"9\": {\"9\": 31, \"70\": 1}, \"86\": {\"86\": 34, \"94\": 1, \"114\": 1}, \"12\": {\"12\": 98, \"70\": 2, \"109\": 1, \"106\": 2, \"24\": 1}, \"122\": {\"122\": 79, \"21\": 1, \"43\": 5, \"27\": 1, \"70\": 2}, \"128\": {\"128\": 20, \"89\": 1, \"19\": 1, \"82\": 1, \"83\": 1}, \"95\": {\"95\": 35, \"24\": 1}}, \"ORACLE.run114\": {\"15\": {\"15\": 1181, \"13\": 11, \"6\": 7, \"3\": 1}, \"5\": {\"4\": 127, \"3\": 68, \"0\": 123, \"5\": 194, \"12\": 96, \"10\": 16, \"8\": 131, \"7\": 108, \"14\": 104, \"13\": 46, \"2\": 149, \"6\": 30, \"1\": 4, \"9\": 4}, \"7\": {\"0\": 132, \"12\": 38, \"3\": 165, \"2\": 101, \"7\": 231, \"5\": 138, \"14\": 100, \"13\": 73, \"4\": 37, \"8\": 106, \"6\": 74, \"10\": 4, \"9\": 1}, \"4\": {\"14\": 39, \"10\": 220, \"12\": 117, \"13\": 24, \"1\": 82, \"0\": 48, \"5\": 121, \"2\": 104, \"4\": 267, \"7\": 41, \"8\": 60, \"3\": 14, \"9\": 57, \"6\": 6}, \"10\": {\"9\": 132, \"4\": 259, \"5\": 76, \"10\": 344, \"14\": 26, \"2\": 58, \"12\": 95, \"1\": 130, \"8\": 24, \"13\": 11, \"7\": 8, \"6\": 1, \"0\": 34, \"3\": 2}, \"11\": {\"9\": 22, \"11\": 1134, \"1\": 39, \"10\": 5}, \"12\": {\"12\": 379, \"10\": 62, \"5\": 92, \"8\": 252, \"0\": 93, \"2\": 41, \"9\": 56, \"7\": 33, \"4\": 116, \"1\": 21, \"14\": 26, \"3\": 17, \"13\": 10, \"6\": 2}, \"0\": {\"13\": 103, \"4\": 58, \"2\": 113, \"5\": 114, \"14\": 131, \"3\": 128, \"0\": 164, \"7\": 117, \"8\": 87, \"12\": 79, \"6\": 83, \"10\": 18, \"1\": 3, \"9\": 2}, \"14\": {\"13\": 143, \"6\": 161, \"0\": 131, \"14\": 187, \"7\": 102, \"3\": 153, \"5\": 83, \"4\": 21, \"2\": 169, \"8\": 22, \"12\": 25, \"10\": 3}, \"8\": {\"8\": 388, \"12\": 234, \"5\": 132, \"3\": 46, \"4\": 63, \"0\": 104, \"2\": 55, \"13\": 11, \"14\": 25, \"7\": 96, \"1\": 10, \"9\": 13, \"10\": 13, \"6\": 10}, \"13\": {\"6\": 257, \"14\": 143, \"10\": 14, \"15\": 84, \"3\": 92, \"7\": 69, \"5\": 69, \"13\": 239, \"4\": 34, \"0\": 78, \"12\": 17, \"2\": 92, \"8\": 9, \"1\": 1, \"9\": 2}, \"6\": {\"13\": 288, \"6\": 336, \"14\": 133, \"5\": 27, \"7\": 81, \"3\": 159, \"0\": 69, \"2\": 75, \"15\": 18, \"8\": 11, \"4\": 1, \"12\": 1, \"10\": 1}, \"1\": {\"1\": 554, \"4\": 104, \"9\": 326, \"10\": 161, \"2\": 8, \"12\": 26, \"8\": 6, \"5\": 8, \"13\": 1, \"11\": 3, \"7\": 2, \"0\": 1}, \"3\": {\"13\": 118, \"3\": 238, \"14\": 148, \"7\": 169, \"5\": 61, \"0\": 143, \"12\": 21, \"8\": 60, \"2\": 89, \"6\": 145, \"4\": 8}, \"9\": {\"4\": 79, \"1\": 333, \"12\": 92, \"9\": 526, \"10\": 138, \"8\": 19, \"5\": 5, \"0\": 1, \"2\": 4, \"13\": 3}, \"2\": {\"2\": 168, \"3\": 106, \"13\": 104, \"0\": 116, \"5\": 135, \"12\": 49, \"14\": 154, \"7\": 88, \"6\": 93, \"4\": 92, \"8\": 44, \"10\": 39, \"1\": 7, \"9\": 5}}, \"ORACLE.run120\": {\"4\": {\"13\": 97, \"1\": 60, \"14\": 62, \"4\": 116, \"12\": 90, \"5\": 79, \"15\": 92, \"3\": 57, \"7\": 89, \"2\": 110, \"9\": 68, \"6\": 117, \"0\": 5, \"8\": 40, \"10\": 118}, \"10\": {\"5\": 28, \"6\": 114, \"4\": 147, \"12\": 91, \"14\": 31, \"10\": 299, \"13\": 118, \"1\": 38, \"2\": 94, \"15\": 79, \"8\": 17, \"7\": 82, \"9\": 39, \"3\": 21, \"0\": 2}, \"15\": {\"15\": 127, \"7\": 76, \"10\": 50, \"13\": 129, \"4\": 68, \"3\": 58, \"12\": 128, \"9\": 90, \"5\": 75, \"14\": 47, \"6\": 66, \"2\": 121, \"1\": 119, \"8\": 40, \"0\": 4, \"11\": 2}, \"0\": {\"0\": 293, \"8\": 146, \"11\": 299, \"5\": 87, \"14\": 126, \"1\": 49, \"9\": 37, \"3\": 84, \"13\": 5, \"7\": 22, \"2\": 18, \"12\": 12, \"15\": 12, \"6\": 8, \"4\": 2}, \"6\": {\"6\": 117, \"7\": 101, \"15\": 74, \"8\": 65, \"12\": 83, \"4\": 87, \"11\": 5, \"10\": 91, \"0\": 20, \"9\": 85, \"3\": 80, \"2\": 89, \"14\": 98, \"5\": 76, \"1\": 68, \"13\": 61}, \"3\": {\"0\": 81, \"4\": 43, \"8\": 113, \"9\": 102, \"6\": 87, \"14\": 127, \"7\": 75, \"15\": 49, \"2\": 67, \"5\": 111, \"11\": 25, \"3\": 136, \"12\": 54, \"1\": 88, \"13\": 28, \"10\": 14}, \"7\": {\"5\": 100, \"2\": 100, \"15\": 94, \"4\": 97, \"13\": 70, \"9\": 103, \"0\": 17, \"1\": 94, \"8\": 57, \"7\": 102, \"3\": 72, \"10\": 47, \"6\": 92, \"14\": 60, \"12\": 92, \"11\": 3}, \"2\": {\"6\": 83, \"15\": 104, \"1\": 102, \"2\": 117, \"5\": 71, \"14\": 41, \"3\": 58, \"7\": 114, \"9\": 95, \"8\": 36, \"12\": 99, \"10\": 57, \"13\": 126, \"4\": 92, \"0\": 4, \"11\": 1}, \"8\": {\"3\": 133, \"8\": 175, \"12\": 22, \"0\": 122, \"5\": 129, \"14\": 186, \"9\": 69, \"6\": 62, \"2\": 34, \"1\": 79, \"7\": 49, \"13\": 7, \"11\": 68, \"4\": 26, \"15\": 31, \"10\": 8}, \"11\": {\"5\": 47, \"9\": 32, \"8\": 82, \"0\": 371, \"11\": 499, \"3\": 49, \"14\": 58, \"1\": 24, \"7\": 9, \"6\": 7, \"2\": 8, \"15\": 7, \"12\": 2, \"13\": 3, \"4\": 2}, \"14\": {\"8\": 184, \"14\": 229, \"4\": 48, \"0\": 85, \"11\": 29, \"5\": 95, \"9\": 69, \"3\": 117, \"12\": 45, \"1\": 55, \"6\": 97, \"7\": 63, \"2\": 30, \"13\": 12, \"15\": 27, \"10\": 15}, \"12\": {\"15\": 111, \"12\": 110, \"6\": 87, \"13\": 139, \"7\": 93, \"2\": 124, \"5\": 63, \"14\": 38, \"3\": 57, \"4\": 86, \"10\": 71, \"1\": 79, \"0\": 10, \"9\": 86, \"8\": 46}, \"13\": {\"15\": 174, \"13\": 233, \"4\": 78, \"1\": 76, \"2\": 130, \"12\": 145, \"9\": 52, \"5\": 45, \"3\": 30, \"6\": 55, \"7\": 69, \"10\": 88, \"8\": 9, \"14\": 12, \"0\": 4}, \"9\": {\"15\": 110, \"8\": 80, \"12\": 70, \"1\": 115, \"2\": 80, \"7\": 91, \"5\": 94, \"4\": 73, \"6\": 94, \"14\": 61, \"0\": 35, \"3\": 84, \"9\": 112, \"13\": 63, \"11\": 14, \"10\": 24}, \"5\": {\"5\": 115, \"2\": 71, \"15\": 70, \"7\": 76, \"12\": 60, \"9\": 100, \"8\": 105, \"1\": 113, \"3\": 124, \"6\": 80, \"0\": 60, \"13\": 52, \"4\": 43, \"14\": 90, \"11\": 25, \"10\": 16}, \"1\": {\"4\": 57, \"6\": 61, \"1\": 127, \"5\": 115, \"15\": 85, \"11\": 14, \"12\": 92, \"3\": 87, \"8\": 84, \"9\": 105, \"14\": 59, \"2\": 99, \"10\": 17, \"13\": 62, \"7\": 96, \"0\": 40}}, \"ORACLE.run150\": {\"5\": {\"3\": 92, \"15\": 145, \"1\": 12, \"4\": 216, \"9\": 88, \"5\": 175, \"7\": 206, \"6\": 110, \"13\": 29, \"11\": 84, \"12\": 40, \"8\": 3}, \"12\": {\"3\": 111, \"15\": 77, \"12\": 414, \"11\": 188, \"9\": 183, \"13\": 39, \"6\": 97, \"7\": 11, \"4\": 11, \"1\": 16, \"8\": 18, \"5\": 34, \"10\": 1}, \"14\": {\"14\": 430, \"10\": 117, \"0\": 271, \"2\": 345, \"1\": 16, \"8\": 19, \"13\": 2}, \"4\": {\"7\": 379, \"15\": 70, \"6\": 73, \"4\": 391, \"9\": 73, \"5\": 171, \"3\": 19, \"12\": 16, \"11\": 8}, \"13\": {\"3\": 113, \"15\": 47, \"1\": 247, \"13\": 323, \"12\": 59, \"8\": 108, \"11\": 160, \"5\": 24, \"9\": 41, \"10\": 30, \"6\": 45, \"7\": 2, \"4\": 1}, \"10\": {\"6\": 1, \"14\": 95, \"10\": 345, \"2\": 99, \"1\": 170, \"8\": 229, \"13\": 58, \"0\": 194, \"3\": 4, \"11\": 4, \"12\": 1}, \"9\": {\"3\": 118, \"5\": 107, \"12\": 188, \"6\": 146, \"15\": 144, \"11\": 127, \"9\": 233, \"7\": 47, \"1\": 7, \"4\": 49, \"13\": 33, \"8\": 1}, \"15\": {\"12\": 81, \"15\": 218, \"4\": 54, \"6\": 200, \"9\": 168, \"5\": 172, \"13\": 21, \"3\": 111, \"11\": 106, \"7\": 66, \"1\": 2, \"8\": 1}, \"6\": {\"6\": 206, \"4\": 57, \"3\": 135, \"12\": 98, \"9\": 153, \"5\": 146, \"11\": 127, \"15\": 182, \"13\": 30, \"7\": 59, \"1\": 5, \"8\": 2}, \"2\": {\"2\": 380, \"14\": 379, \"0\": 304, \"8\": 30, \"10\": 101, \"13\": 2, \"1\": 4}, \"0\": {\"14\": 287, \"0\": 313, \"8\": 96, \"2\": 273, \"10\": 200, \"1\": 26, \"13\": 5}, \"11\": {\"15\": 141, \"3\": 132, \"11\": 212, \"6\": 124, \"12\": 164, \"1\": 49, \"13\": 150, \"9\": 134, \"5\": 56, \"7\": 8, \"8\": 24, \"4\": 4, \"10\": 2}, \"3\": {\"15\": 155, \"1\": 24, \"9\": 132, \"3\": 165, \"12\": 163, \"6\": 171, \"13\": 72, \"11\": 128, \"5\": 125, \"4\": 23, \"7\": 27, \"8\": 14, \"10\": 1}, \"8\": {\"1\": 240, \"8\": 348, \"13\": 130, \"10\": 238, \"12\": 27, \"3\": 23, \"0\": 94, \"11\": 31, \"14\": 25, \"2\": 32, \"6\": 3, \"5\": 2, \"15\": 2, \"9\": 5}, \"7\": {\"4\": 399, \"7\": 391, \"9\": 56, \"15\": 62, \"5\": 191, \"6\": 67, \"3\": 20, \"12\": 11, \"11\": 3}, \"1\": {\"8\": 244, \"1\": 380, \"13\": 236, \"11\": 69, \"10\": 125, \"15\": 17, \"0\": 22, \"3\": 52, \"12\": 11, \"9\": 12, \"6\": 11, \"5\": 9, \"14\": 6, \"2\": 6}}, \"ORACLE.run126\": {\"7\": {\"8\": 149, \"0\": 89, \"7\": 178, \"9\": 125, \"2\": 154, \"10\": 29, \"4\": 36, \"3\": 151, \"12\": 124, \"13\": 86, \"14\": 47, \"6\": 5, \"5\": 10, \"15\": 9, \"11\": 3, \"1\": 5}, \"6\": {\"11\": 129, \"5\": 161, \"15\": 138, \"1\": 159, \"14\": 147, \"0\": 71, \"10\": 142, \"6\": 195, \"2\": 20, \"8\": 16, \"9\": 12, \"13\": 1, \"7\": 4, \"12\": 5}, \"14\": {\"14\": 210, \"2\": 39, \"15\": 116, \"10\": 170, \"6\": 166, \"5\": 92, \"0\": 138, \"8\": 38, \"1\": 166, \"3\": 5, \"9\": 9, \"11\": 27, \"7\": 21, \"12\": 3}, \"15\": {\"11\": 120, \"10\": 139, \"1\": 107, \"3\": 8, \"14\": 118, \"5\": 176, \"6\": 156, \"0\": 90, \"2\": 40, \"15\": 178, \"9\": 10, \"8\": 31, \"7\": 16, \"13\": 5, \"12\": 6}, \"5\": {\"1\": 142, \"11\": 201, \"5\": 201, \"14\": 92, \"15\": 158, \"6\": 169, \"0\": 52, \"2\": 25, \"10\": 123, \"9\": 8, \"3\": 3, \"8\": 9, \"12\": 6, \"13\": 2, \"7\": 9}, \"10\": {\"14\": 162, \"10\": 169, \"9\": 20, \"6\": 143, \"15\": 145, \"5\": 117, \"0\": 145, \"1\": 120, \"2\": 44, \"7\": 31, \"11\": 48, \"8\": 37, \"3\": 6, \"13\": 5, \"12\": 8}, \"4\": {\"4\": 527, \"13\": 176, \"3\": 177, \"9\": 63, \"0\": 4, \"12\": 85, \"7\": 85, \"2\": 31, \"8\": 51, \"6\": 1}, \"11\": {\"11\": 430, \"5\": 227, \"6\": 166, \"15\": 148, \"1\": 99, \"0\": 28, \"14\": 35, \"10\": 51, \"2\": 6, \"13\": 3, \"12\": 3, \"9\": 2, \"8\": 2}, \"13\": {\"12\": 183, \"9\": 117, \"4\": 117, \"8\": 101, \"13\": 338, \"3\": 140, \"7\": 88, \"0\": 16, \"2\": 79, \"14\": 5, \"10\": 2, \"15\": 8, \"1\": 2, \"6\": 3, \"5\": 1}, \"2\": {\"0\": 96, \"3\": 99, \"14\": 43, \"8\": 147, \"12\": 116, \"7\": 132, \"13\": 81, \"2\": 165, \"5\": 17, \"10\": 67, \"9\": 132, \"6\": 27, \"15\": 45, \"4\": 12, \"11\": 9, \"1\": 12}, \"0\": {\"12\": 34, \"7\": 65, \"9\": 55, \"6\": 100, \"10\": 147, \"2\": 104, \"1\": 91, \"8\": 71, \"5\": 54, \"0\": 159, \"3\": 27, \"15\": 87, \"14\": 160, \"11\": 30, \"4\": 2, \"13\": 14}, \"12\": {\"2\": 113, \"8\": 106, \"12\": 201, \"7\": 121, \"3\": 146, \"9\": 188, \"14\": 11, \"13\": 159, \"0\": 50, \"4\": 49, \"10\": 19, \"15\": 13, \"5\": 8, \"6\": 7, \"1\": 5, \"11\": 4}, \"3\": {\"8\": 135, \"12\": 134, \"9\": 137, \"7\": 172, \"2\": 106, \"3\": 198, \"4\": 115, \"0\": 33, \"13\": 134, \"14\": 10, \"10\": 16, \"5\": 2, \"15\": 5, \"1\": 2, \"6\": 1}, \"9\": {\"5\": 14, \"2\": 141, \"12\": 158, \"0\": 58, \"8\": 121, \"11\": 6, \"3\": 147, \"7\": 143, \"4\": 44, \"9\": 151, \"13\": 131, \"14\": 19, \"6\": 10, \"10\": 29, \"15\": 23, \"1\": 5}, \"8\": {\"9\": 126, \"7\": 161, \"13\": 72, \"0\": 95, \"8\": 160, \"2\": 150, \"3\": 136, \"10\": 44, \"15\": 21, \"12\": 119, \"1\": 20, \"14\": 42, \"4\": 26, \"11\": 6, \"5\": 11, \"6\": 11}, \"1\": {\"1\": 329, \"2\": 10, \"5\": 119, \"0\": 50, \"15\": 128, \"11\": 79, \"6\": 154, \"10\": 161, \"14\": 153, \"8\": 6, \"7\": 5, \"9\": 4, \"12\": 2}}, \"ORACLE.run132\": {\"7\": {\"0\": 199, \"7\": 267, \"5\": 233, \"15\": 42, \"14\": 208, \"8\": 146, \"4\": 13, \"1\": 44, \"2\": 40, \"3\": 5, \"13\": 3}, \"2\": {\"4\": 219, \"1\": 156, \"11\": 13, \"13\": 98, \"14\": 107, \"8\": 88, \"2\": 265, \"3\": 90, \"5\": 14, \"0\": 61, \"7\": 36, \"9\": 48, \"12\": 1, \"15\": 4}, \"5\": {\"0\": 203, \"7\": 243, \"8\": 138, \"15\": 116, \"5\": 312, \"2\": 15, \"4\": 10, \"14\": 151, \"1\": 8, \"13\": 1, \"3\": 3}, \"6\": {\"6\": 934, \"10\": 200, \"9\": 4, \"12\": 50, \"11\": 12}, \"13\": {\"13\": 272, \"12\": 41, \"9\": 133, \"4\": 152, \"11\": 130, \"14\": 17, \"3\": 246, \"2\": 100, \"1\": 66, \"8\": 26, \"0\": 10, \"10\": 2, \"5\": 3, \"15\": 1, \"7\": 1}, \"4\": {\"11\": 33, \"4\": 241, \"8\": 46, \"2\": 237, \"3\": 176, \"1\": 138, \"13\": 155, \"9\": 79, \"14\": 41, \"5\": 9, \"0\": 30, \"12\": 4, \"15\": 2, \"7\": 9}, \"3\": {\"13\": 265, \"3\": 366, \"2\": 121, \"4\": 189, \"8\": 54, \"11\": 41, \"7\": 3, \"9\": 64, \"0\": 9, \"1\": 57, \"14\": 11, \"12\": 8, \"15\": 6, \"5\": 6}, \"0\": {\"8\": 183, \"7\": 236, \"14\": 164, \"0\": 210, \"5\": 197, \"1\": 51, \"3\": 17, \"15\": 66, \"2\": 54, \"4\": 19, \"13\": 3}, \"9\": {\"4\": 117, \"12\": 177, \"9\": 271, \"13\": 132, \"11\": 209, \"1\": 76, \"2\": 71, \"3\": 84, \"10\": 43, \"14\": 4, \"6\": 13, \"0\": 1, \"8\": 1, \"5\": 1}, \"12\": {\"11\": 243, \"12\": 402, \"10\": 234, \"9\": 189, \"3\": 28, \"13\": 48, \"6\": 30, \"1\": 15, \"2\": 7, \"14\": 1, \"4\": 3}, \"8\": {\"0\": 193, \"15\": 123, \"1\": 36, \"8\": 254, \"2\": 46, \"5\": 147, \"14\": 156, \"7\": 140, \"3\": 46, \"13\": 15, \"4\": 43, \"9\": 1}, \"14\": {\"14\": 240, \"7\": 207, \"5\": 120, \"2\": 120, \"1\": 75, \"8\": 136, \"0\": 168, \"4\": 72, \"15\": 28, \"13\": 11, \"3\": 20, \"9\": 3}, \"15\": {\"15\": 824, \"0\": 65, \"8\": 118, \"7\": 51, \"5\": 120, \"14\": 15, \"1\": 4, \"3\": 1, \"2\": 2}, \"11\": {\"12\": 219, \"4\": 39, \"11\": 398, \"13\": 140, \"3\": 70, \"9\": 254, \"10\": 47, \"2\": 18, \"1\": 12, \"6\": 2, \"7\": 1}, \"10\": {\"10\": 532, \"6\": 117, \"12\": 370, \"11\": 96, \"9\": 63, \"3\": 8, \"1\": 1, \"4\": 2, \"13\": 11}, \"1\": {\"1\": 350, \"0\": 78, \"5\": 29, \"13\": 63, \"4\": 144, \"7\": 60, \"14\": 111, \"2\": 168, \"9\": 39, \"3\": 52, \"8\": 91, \"15\": 8, \"12\": 2, \"11\": 5}}, \"ORACLE.run144\": {\"11\": {\"11\": 1055, \"13\": 122, \"6\": 15, \"9\": 8}, \"7\": {\"9\": 178, \"14\": 110, \"7\": 229, \"10\": 207, \"15\": 24, \"13\": 38, \"4\": 140, \"6\": 100, \"1\": 10, \"2\": 59, \"5\": 96, \"0\": 2, \"8\": 6, \"11\": 1}, \"6\": {\"13\": 370, \"11\": 28, \"6\": 401, \"9\": 180, \"7\": 100, \"10\": 51, \"4\": 44, \"5\": 12, \"14\": 10, \"2\": 1, \"15\": 2, \"1\": 1}, \"12\": {\"3\": 515, \"12\": 568, \"1\": 37, \"8\": 13, \"0\": 56, \"2\": 8, \"15\": 2, \"4\": 1}, \"4\": {\"1\": 48, \"7\": 118, \"10\": 131, \"6\": 71, \"13\": 52, \"4\": 187, \"14\": 156, \"2\": 68, \"9\": 124, \"15\": 74, \"5\": 126, \"8\": 30, \"0\": 12, \"12\": 1, \"11\": 2}, \"13\": {\"6\": 378, \"13\": 486, \"11\": 111, \"9\": 101, \"7\": 57, \"4\": 38, \"10\": 18, \"14\": 5, \"5\": 4, \"2\": 1, \"15\": 1}, \"8\": {\"8\": 343, \"0\": 254, \"3\": 25, \"15\": 207, \"14\": 52, \"4\": 29, \"5\": 73, \"1\": 135, \"2\": 43, \"7\": 10, \"12\": 7, \"10\": 18, \"9\": 3, \"6\": 1}, \"5\": {\"1\": 65, \"15\": 155, \"8\": 78, \"5\": 178, \"7\": 98, \"10\": 111, \"4\": 146, \"9\": 81, \"6\": 18, \"2\": 67, \"14\": 179, \"13\": 8, \"0\": 16}, \"14\": {\"6\": 13, \"7\": 140, \"0\": 14, \"10\": 111, \"5\": 168, \"4\": 159, \"1\": 56, \"15\": 145, \"14\": 174, \"2\": 80, \"8\": 55, \"9\": 80, \"13\": 5}, \"3\": {\"0\": 138, \"3\": 498, \"12\": 470, \"1\": 44, \"2\": 11, \"8\": 32, \"15\": 6, \"5\": 1}, \"10\": {\"2\": 110, \"14\": 130, \"5\": 123, \"13\": 26, \"9\": 129, \"10\": 186, \"4\": 140, \"7\": 193, \"1\": 56, \"6\": 57, \"8\": 7, \"15\": 38, \"0\": 5}, \"1\": {\"0\": 156, \"1\": 323, \"2\": 261, \"8\": 118, \"10\": 33, \"15\": 101, \"14\": 45, \"5\": 63, \"7\": 11, \"4\": 29, \"9\": 12, \"3\": 20, \"12\": 28}, \"2\": {\"1\": 221, \"2\": 364, \"5\": 98, \"7\": 81, \"15\": 86, \"14\": 89, \"10\": 102, \"9\": 36, \"0\": 33, \"8\": 30, \"4\": 52, \"6\": 2, \"12\": 3, \"3\": 3}, \"15\": {\"8\": 205, \"15\": 229, \"5\": 172, \"10\": 56, \"0\": 90, \"1\": 112, \"14\": 135, \"4\": 86, \"9\": 18, \"3\": 2, \"2\": 69, \"7\": 24, \"13\": 1, \"12\": 1}, \"9\": {\"6\": 174, \"4\": 124, \"9\": 176, \"10\": 132, \"14\": 80, \"7\": 170, \"5\": 71, \"13\": 170, \"1\": 19, \"15\": 22, \"8\": 3, \"2\": 47, \"11\": 12}, \"0\": {\"0\": 371, \"8\": 301, \"14\": 28, \"5\": 28, \"1\": 171, \"3\": 83, \"4\": 5, \"2\": 49, \"12\": 42, \"15\": 113, \"10\": 9}}, \"ORACLE.run18\": {\"10\": {\"5\": 165, \"10\": 178, \"1\": 124, \"13\": 164, \"7\": 194, \"8\": 60, \"6\": 129, \"14\": 18, \"11\": 94, \"4\": 66, \"12\": 6, \"15\": 1, \"2\": 1}, \"6\": {\"4\": 129, \"8\": 103, \"5\": 108, \"7\": 150, \"13\": 99, \"1\": 132, \"11\": 128, \"6\": 168, \"14\": 61, \"10\": 120, \"12\": 2}, \"13\": {\"10\": 189, \"11\": 64, \"7\": 192, \"13\": 214, \"5\": 195, \"1\": 122, \"6\": 121, \"14\": 3, \"15\": 10, \"4\": 28, \"12\": 21, \"8\": 36, \"2\": 5}, \"3\": {\"2\": 224, \"12\": 27, \"3\": 750, \"9\": 141, \"15\": 58}, \"9\": {\"9\": 939, \"3\": 188, \"2\": 65, \"15\": 6, \"12\": 2}, \"1\": {\"8\": 109, \"13\": 103, \"5\": 145, \"6\": 152, \"4\": 82, \"1\": 147, \"7\": 139, \"10\": 134, \"14\": 33, \"11\": 146, \"12\": 9, \"15\": 1}, \"5\": {\"4\": 55, \"13\": 173, \"10\": 154, \"5\": 225, \"6\": 134, \"1\": 126, \"7\": 129, \"12\": 26, \"11\": 89, \"15\": 13, \"8\": 55, \"14\": 17, \"2\": 4}, \"11\": {\"13\": 71, \"8\": 156, \"1\": 137, \"5\": 90, \"6\": 141, \"11\": 182, \"10\": 95, \"7\": 127, \"4\": 123, \"14\": 75, \"0\": 1, \"12\": 2}, \"4\": {\"14\": 218, \"4\": 230, \"1\": 83, \"7\": 75, \"5\": 54, \"6\": 124, \"13\": 44, \"10\": 64, \"11\": 146, \"8\": 160, \"0\": 2}, \"14\": {\"14\": 412, \"1\": 41, \"11\": 108, \"4\": 271, \"6\": 74, \"10\": 36, \"8\": 152, \"5\": 34, \"7\": 26, \"0\": 36, \"13\": 10}, \"12\": {\"15\": 425, \"12\": 457, \"2\": 241, \"3\": 27, \"13\": 22, \"6\": 2, \"5\": 13, \"9\": 3, \"7\": 4, \"10\": 6}, \"7\": {\"5\": 142, \"4\": 76, \"10\": 164, \"6\": 153, \"7\": 170, \"13\": 145, \"11\": 99, \"1\": 139, \"8\": 84, \"15\": 3, \"14\": 22, \"12\": 3}, \"0\": {\"0\": 1064, \"14\": 102, \"8\": 10, \"4\": 21, \"1\": 1, \"11\": 2}, \"15\": {\"9\": 14, \"15\": 425, \"3\": 76, \"2\": 316, \"12\": 353, \"13\": 7, \"5\": 6, \"10\": 2, \"7\": 1}, \"2\": {\"12\": 213, \"9\": 64, \"2\": 412, \"15\": 275, \"3\": 213, \"5\": 10, \"10\": 4, \"7\": 2, \"13\": 5, \"11\": 1, \"1\": 1}, \"8\": {\"8\": 256, \"4\": 159, \"13\": 38, \"6\": 136, \"10\": 54, \"1\": 134, \"11\": 155, \"5\": 65, \"14\": 129, \"7\": 73, \"12\": 1}}, \"ORACLE.run138\": {\"4\": {\"14\": 102, \"4\": 799, \"10\": 107, \"0\": 86, \"12\": 2, \"13\": 42, \"7\": 47, \"11\": 2, \"2\": 9, \"3\": 2, \"5\": 1, \"8\": 1}, \"7\": {\"9\": 68, \"7\": 280, \"14\": 245, \"12\": 35, \"2\": 222, \"13\": 73, \"5\": 65, \"0\": 54, \"8\": 87, \"4\": 61, \"10\": 9, \"15\": 1}, \"12\": {\"15\": 49, \"5\": 125, \"12\": 747, \"8\": 147, \"2\": 17, \"7\": 43, \"14\": 52, \"9\": 15, \"4\": 5}, \"10\": {\"10\": 458, \"13\": 167, \"4\": 163, \"0\": 269, \"3\": 86, \"2\": 15, \"11\": 7, \"14\": 22, \"7\": 13}, \"0\": {\"0\": 261, \"8\": 5, \"13\": 258, \"10\": 280, \"7\": 84, \"4\": 65, \"3\": 64, \"2\": 69, \"14\": 77, \"9\": 23, \"11\": 9, \"5\": 5}, \"1\": {\"1\": 531, \"15\": 112, \"6\": 546, \"8\": 4, \"5\": 4, \"9\": 1, \"12\": 2}, \"5\": {\"2\": 98, \"1\": 7, \"12\": 101, \"8\": 234, \"5\": 258, \"15\": 146, \"9\": 207, \"7\": 82, \"14\": 45, \"0\": 5, \"13\": 10, \"4\": 2, \"3\": 1, \"6\": 3, \"10\": 1}, \"15\": {\"8\": 122, \"15\": 542, \"6\": 117, \"5\": 161, \"1\": 115, \"2\": 6, \"9\": 62, \"12\": 68, \"14\": 3, \"7\": 4}, \"9\": {\"2\": 185, \"8\": 168, \"7\": 88, \"5\": 180, \"9\": 444, \"13\": 38, \"0\": 10, \"15\": 34, \"12\": 8, \"14\": 43, \"4\": 1, \"10\": 1}, \"11\": {\"11\": 1052, \"3\": 143, \"10\": 5}, \"14\": {\"5\": 39, \"2\": 176, \"13\": 75, \"10\": 27, \"8\": 56, \"14\": 261, \"7\": 291, \"0\": 60, \"4\": 143, \"9\": 45, \"12\": 26, \"3\": 1}, \"6\": {\"6\": 578, \"15\": 115, \"1\": 499, \"5\": 4, \"9\": 1, \"12\": 3}, \"8\": {\"13\": 24, \"8\": 223, \"15\": 129, \"14\": 76, \"12\": 101, \"5\": 246, \"2\": 118, \"9\": 146, \"6\": 4, \"7\": 116, \"4\": 4, \"0\": 7, \"10\": 4, \"1\": 2}, \"3\": {\"3\": 990, \"11\": 147, \"10\": 38, \"0\": 21, \"4\": 1, \"13\": 3}, \"2\": {\"13\": 96, \"0\": 62, \"2\": 262, \"7\": 211, \"9\": 180, \"14\": 163, \"5\": 72, \"8\": 113, \"10\": 15, \"4\": 17, \"12\": 7, \"15\": 2}, \"13\": {\"13\": 374, \"0\": 287, \"7\": 78, \"10\": 153, \"14\": 79, \"2\": 108, \"9\": 42, \"4\": 44, \"3\": 18, \"8\": 9, \"5\": 8}}}, \"per_domain_accuracy\": {\"Wisig_3\": {\"accuracy\": 0.97257096069869, \"source?\": true}, \"Wisig_4\": {\"accuracy\": 0.9541580578512396, \"source?\": true}, \"Wisig_2\": {\"accuracy\": 0.9513449367088608, \"source?\": true}, \"Wisig_1\": {\"accuracy\": 0.9725577731092437, \"source?\": true}, \"ORACLE.run114\": {\"accuracy\": 0.34010416666666665, \"source?\": false}, \"ORACLE.run120\": {\"accuracy\": 0.15140625, \"source?\": false}, \"ORACLE.run150\": {\"accuracy\": 0.25645833333333334, \"source?\": false}, \"ORACLE.run126\": {\"accuracy\": 0.19734375, \"source?\": false}, \"ORACLE.run132\": {\"accuracy\": 0.3196875, \"source?\": false}, \"ORACLE.run144\": {\"accuracy\": 0.30041666666666667, \"source?\": false}, \"ORACLE.run18\": {\"accuracy\": 0.3244270833333333, \"source?\": false}, \"ORACLE.run138\": {\"accuracy\": 0.4197916666666667, \"source?\": false}}}, \"history\": {\"epoch_indices\": [1, 2, 3, 4, 5], \"train_label_loss\": [0.19346860846398237, 0.13416187380828812, 0.114485990836176, 0.10482465122732687, 0.09741135596732599], \"source_val_label_loss\": [0.16472986340522766, 0.13577362895011902, 0.1278240829706192, 0.1097090095281601, 0.10724962502717972], \"target_val_label_loss\": [2.58034610748291, 2.582052230834961, 2.567970037460327, 2.5822057723999023, 2.55975079536438], \"source_val_acc_label\": [0.9625396405919662, 0.9713596723044398, 0.9728131606765328, 0.9741014799154334, 0.9748612579281184], \"target_val_acc_label\": [0.2887044270833333, 0.28521484375, 0.2392578125, 0.24603515625, 0.26271484375]}, \"dataset_metrics\": {\"source\": {\"train\": {\"n_unique_x\": 189029, \"n_unique_y\": 130, \"n_batch/episode\": 6842}, \"val\": {\"n_unique_x\": 40049, \"n_unique_y\": 130, \"n_batch/episode\": 946}, \"test\": {\"n_unique_x\": 40794, \"n_unique_y\": 130, \"n_batch/episode\": 966}}, \"target\": {\"train\": {\"n_unique_x\": 896000, \"n_unique_y\": 16, \"n_batch/episode\": 33600}, \"val\": {\"n_unique_x\": 192000, \"n_unique_y\": 16, \"n_batch/episode\": 4800}, \"test\": {\"n_unique_x\": 192000, \"n_unique_y\": 16, \"n_batch/episode\": 4800}}}}'"
      ]
     },
     "execution_count": 29,
     "metadata": {},
     "output_type": "execute_result"
    }
   ],
   "source": [
    "json.dumps(experiment)"
   ]
  }
 ],
 "metadata": {
  "celltoolbar": "Tags",
  "kernelspec": {
   "display_name": "Python 3 (ipykernel)",
   "language": "python",
   "name": "python3"
  },
  "language_info": {
   "codemirror_mode": {
    "name": "ipython",
    "version": 3
   },
   "file_extension": ".py",
   "mimetype": "text/x-python",
   "name": "python",
   "nbconvert_exporter": "python",
   "pygments_lexer": "ipython3",
   "version": "3.8.12"
  },
  "papermill": {
   "default_parameters": {},
   "duration": 1824.911454,
   "end_time": "2022-03-23T17:18:51.929557",
   "environment_variables": {},
   "exception": null,
   "input_path": "/root/csc500-main/csc500-notebooks/templates/tl_ptn_template.ipynb",
   "output_path": "trial.ipynb",
   "parameters": {
    "parameters": {
     "BEST_MODEL_PATH": "./best_model.pth",
     "NUM_LOGS_PER_EPOCH": 10,
     "criteria_for_best": "target_accuracy",
     "dataset_seed": 420,
     "datasets": [
      {
       "domain_prefix": "Wisig_",
       "domains": [
        1,
        2,
        3,
        4
       ],
       "episode_transforms": [],
       "labels": [
        "1-10",
        "1-12",
        "1-14",
        "1-16",
        "1-18",
        "1-19",
        "1-8",
        "10-11",
        "10-17",
        "10-4",
        "10-7",
        "11-1",
        "11-10",
        "11-19",
        "11-20",
        "11-4",
        "11-7",
        "12-19",
        "12-20",
        "12-7",
        "13-14",
        "13-18",
        "13-19",
        "13-20",
        "13-3",
        "13-7",
        "14-10",
        "14-11",
        "14-12",
        "14-13",
        "14-14",
        "14-19",
        "14-20",
        "14-7",
        "14-8",
        "14-9",
        "15-1",
        "15-19",
        "15-6",
        "16-1",
        "16-16",
        "16-19",
        "16-20",
        "17-10",
        "17-11",
        "18-1",
        "18-10",
        "18-11",
        "18-12",
        "18-13",
        "18-14",
        "18-15",
        "18-16",
        "18-17",
        "18-19",
        "18-2",
        "18-20",
        "18-4",
        "18-5",
        "18-7",
        "18-8",
        "18-9",
        "19-1",
        "19-10",
        "19-11",
        "19-12",
        "19-13",
        "19-14",
        "19-15",
        "19-19",
        "19-2",
        "19-20",
        "19-3",
        "19-4",
        "19-6",
        "19-7",
        "19-8",
        "19-9",
        "2-1",
        "2-13",
        "2-15",
        "2-3",
        "2-4",
        "2-5",
        "2-6",
        "2-7",
        "2-8",
        "20-1",
        "20-12",
        "20-14",
        "20-15",
        "20-16",
        "20-18",
        "20-19",
        "20-20",
        "20-3",
        "20-4",
        "20-5",
        "20-7",
        "20-8",
        "3-1",
        "3-13",
        "3-18",
        "3-2",
        "3-8",
        "4-1",
        "4-10",
        "4-11",
        "5-1",
        "5-5",
        "6-1",
        "6-15",
        "6-6",
        "7-10",
        "7-11",
        "7-12",
        "7-13",
        "7-14",
        "7-7",
        "7-8",
        "7-9",
        "8-1",
        "8-13",
        "8-14",
        "8-18",
        "8-20",
        "8-3",
        "8-8",
        "9-1",
        "9-7"
       ],
       "num_examples_per_domain_per_label": -1,
       "pickle_path": "/root/csc500-main/datasets/wisig.node3-19.stratified_ds.2022A.pkl",
       "source_or_target_dataset": "source",
       "x_transforms": []
      },
      {
       "domain_prefix": "ORACLE.run1",
       "domains": [
        32,
        38,
        8,
        44,
        14,
        50,
        20,
        26
       ],
       "episode_transforms": [],
       "labels": [
        "3123D52",
        "3123D65",
        "3123D79",
        "3123D80",
        "3123D54",
        "3123D70",
        "3123D7B",
        "3123D89",
        "3123D58",
        "3123D76",
        "3123D7D",
        "3123EFE",
        "3123D64",
        "3123D78",
        "3123D7E",
        "3124E4A"
       ],
       "num_examples_per_domain_per_label": 10000,
       "pickle_path": "/root/csc500-main/datasets/oracle.Run1_10kExamples_stratified_ds.2022A.pkl",
       "source_or_target_dataset": "target",
       "x_transforms": []
      }
     ],
     "device": "cuda",
     "experiment_name": "tl_1v2:wisig-oracle.run1",
     "lr": 0.0001,
     "n_epoch": 50,
     "n_query": 2,
     "n_shot": 3,
     "n_way": 16,
     "patience": 3,
     "seed": 420,
     "test_k_factor": 2,
     "torch_default_dtype": "torch.float32",
     "train_k_factor": 3,
     "val_k_factor": 2,
     "x_net": [
      {
       "class": "nnReshape",
       "kargs": {
        "shape": [
         -1,
         1,
         2,
         256
        ]
       }
      },
      {
       "class": "Conv2d",
       "kargs": {
        "bias": false,
        "in_channels": 1,
        "kernel_size": [
         1,
         7
        ],
        "out_channels": 256,
        "padding": [
         0,
         3
        ]
       }
      },
      {
       "class": "ReLU",
       "kargs": {
        "inplace": true
       }
      },
      {
       "class": "BatchNorm2d",
       "kargs": {
        "num_features": 256
       }
      },
      {
       "class": "Conv2d",
       "kargs": {
        "bias": true,
        "in_channels": 256,
        "kernel_size": [
         2,
         7
        ],
        "out_channels": 80,
        "padding": [
         0,
         3
        ]
       }
      },
      {
       "class": "ReLU",
       "kargs": {
        "inplace": true
       }
      },
      {
       "class": "BatchNorm2d",
       "kargs": {
        "num_features": 80
       }
      },
      {
       "class": "Flatten",
       "kargs": {}
      },
      {
       "class": "Linear",
       "kargs": {
        "in_features": 20480,
        "out_features": 256
       }
      },
      {
       "class": "ReLU",
       "kargs": {
        "inplace": true
       }
      },
      {
       "class": "BatchNorm1d",
       "kargs": {
        "num_features": 256
       }
      },
      {
       "class": "Linear",
       "kargs": {
        "in_features": 256,
        "out_features": 256
       }
      }
     ]
    }
   },
   "start_time": "2022-03-23T16:48:27.018103",
   "version": "2.3.4"
  }
 },
 "nbformat": 4,
 "nbformat_minor": 5
}