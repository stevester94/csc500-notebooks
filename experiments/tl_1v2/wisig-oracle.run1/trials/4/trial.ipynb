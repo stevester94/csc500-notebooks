{
 "cells": [
  {
   "cell_type": "markdown",
   "id": "9fea5f46",
   "metadata": {
    "papermill": {
     "duration": 0.030685,
     "end_time": "2022-03-23T09:00:33.258408",
     "exception": false,
     "start_time": "2022-03-23T09:00:33.227723",
     "status": "completed"
    },
    "tags": []
   },
   "source": [
    "# Transfer Learning Template"
   ]
  },
  {
   "cell_type": "code",
   "execution_count": 1,
   "id": "0902182a",
   "metadata": {
    "execution": {
     "iopub.execute_input": "2022-03-23T09:00:33.320624Z",
     "iopub.status.busy": "2022-03-23T09:00:33.319753Z",
     "iopub.status.idle": "2022-03-23T09:00:35.230565Z",
     "shell.execute_reply": "2022-03-23T09:00:35.230072Z"
    },
    "papermill": {
     "duration": 1.950006,
     "end_time": "2022-03-23T09:00:35.230670",
     "exception": false,
     "start_time": "2022-03-23T09:00:33.280664",
     "status": "completed"
    },
    "tags": []
   },
   "outputs": [],
   "source": [
    "%load_ext autoreload\n",
    "%autoreload 2\n",
    "%matplotlib inline\n",
    "\n",
    "    \n",
    "import os, json, sys, time, random\n",
    "import numpy as np\n",
    "import torch\n",
    "from torch.optim import Adam\n",
    "from  easydict import EasyDict\n",
    "import matplotlib.pyplot as plt\n",
    "\n",
    "from steves_models.steves_ptn import Steves_Prototypical_Network\n",
    "\n",
    "from steves_utils.lazy_iterable_wrapper import Lazy_Iterable_Wrapper\n",
    "from steves_utils.iterable_aggregator import Iterable_Aggregator\n",
    "from steves_utils.ptn_train_eval_test_jig import  PTN_Train_Eval_Test_Jig\n",
    "from steves_utils.torch_sequential_builder import build_sequential\n",
    "from steves_utils.torch_utils import get_dataset_metrics, ptn_confusion_by_domain_over_dataloader\n",
    "from steves_utils.utils_v2 import (per_domain_accuracy_from_confusion, get_datasets_base_path)\n",
    "from steves_utils.PTN.utils import independent_accuracy_assesment\n",
    "\n",
    "from torch.utils.data import DataLoader\n",
    "\n",
    "from steves_utils.stratified_dataset.episodic_accessor import Episodic_Accessor_Factory\n",
    "\n",
    "from steves_utils.ptn_do_report import (\n",
    "    get_loss_curve,\n",
    "    get_results_table,\n",
    "    get_parameters_table,\n",
    "    get_domain_accuracies,\n",
    ")\n",
    "\n",
    "from steves_utils.transforms import get_chained_transform"
   ]
  },
  {
   "cell_type": "markdown",
   "id": "41c840b4",
   "metadata": {
    "papermill": {
     "duration": 0.019211,
     "end_time": "2022-03-23T09:00:35.269994",
     "exception": false,
     "start_time": "2022-03-23T09:00:35.250783",
     "status": "completed"
    },
    "tags": []
   },
   "source": [
    "# Allowed Parameters\n",
    "These are allowed parameters, not defaults\n",
    "Each of these values need to be present in the injected parameters (the notebook will raise an exception if they are not present)\n",
    "\n",
    "Papermill uses the cell tag \"parameters\" to inject the real parameters below this cell.\n",
    "Enable tags to see what I mean"
   ]
  },
  {
   "cell_type": "code",
   "execution_count": 2,
   "id": "fd44eb83",
   "metadata": {
    "execution": {
     "iopub.execute_input": "2022-03-23T09:00:35.314036Z",
     "iopub.status.busy": "2022-03-23T09:00:35.313648Z",
     "iopub.status.idle": "2022-03-23T09:00:35.335324Z",
     "shell.execute_reply": "2022-03-23T09:00:35.334952Z"
    },
    "papermill": {
     "duration": 0.046253,
     "end_time": "2022-03-23T09:00:35.335399",
     "exception": false,
     "start_time": "2022-03-23T09:00:35.289146",
     "status": "completed"
    },
    "tags": []
   },
   "outputs": [],
   "source": [
    "required_parameters = {\n",
    "    \"experiment_name\",\n",
    "    \"lr\",\n",
    "    \"device\",\n",
    "    \"seed\",\n",
    "    \"dataset_seed\",\n",
    "    \"n_shot\",\n",
    "    \"n_query\",\n",
    "    \"n_way\",\n",
    "    \"train_k_factor\",\n",
    "    \"val_k_factor\",\n",
    "    \"test_k_factor\",\n",
    "    \"n_epoch\",\n",
    "    \"patience\",\n",
    "    \"criteria_for_best\",\n",
    "    \"x_net\",\n",
    "    \"datasets\",\n",
    "    \"torch_default_dtype\",\n",
    "    \"NUM_LOGS_PER_EPOCH\",\n",
    "    \"BEST_MODEL_PATH\",\n",
    "    \"x_shape\",\n",
    "}"
   ]
  },
  {
   "cell_type": "code",
   "execution_count": 3,
   "id": "fa3f0049",
   "metadata": {
    "execution": {
     "iopub.execute_input": "2022-03-23T09:00:35.388584Z",
     "iopub.status.busy": "2022-03-23T09:00:35.388172Z",
     "iopub.status.idle": "2022-03-23T09:00:35.407938Z",
     "shell.execute_reply": "2022-03-23T09:00:35.407568Z"
    },
    "papermill": {
     "duration": 0.053053,
     "end_time": "2022-03-23T09:00:35.408011",
     "exception": false,
     "start_time": "2022-03-23T09:00:35.354958",
     "status": "completed"
    },
    "tags": [
     "parameters"
    ]
   },
   "outputs": [],
   "source": [
    "from steves_utils.CORES.utils import (\n",
    "    ALL_NODES,\n",
    "    ALL_NODES_MINIMUM_1000_EXAMPLES,\n",
    "    ALL_DAYS\n",
    ")\n",
    "\n",
    "from steves_utils.ORACLE.utils_v2 import (\n",
    "    ALL_DISTANCES_FEET_NARROWED,\n",
    "    ALL_RUNS,\n",
    "    ALL_SERIAL_NUMBERS,\n",
    ")\n",
    "\n",
    "standalone_parameters = {}\n",
    "standalone_parameters[\"experiment_name\"] = \"STANDALONE PTN\"\n",
    "standalone_parameters[\"lr\"] = 0.001\n",
    "standalone_parameters[\"device\"] = \"cuda\"\n",
    "\n",
    "standalone_parameters[\"seed\"] = 1337\n",
    "standalone_parameters[\"dataset_seed\"] = 1337\n",
    "\n",
    "standalone_parameters[\"n_way\"] = 8\n",
    "standalone_parameters[\"n_shot\"] = 3\n",
    "standalone_parameters[\"n_query\"]  = 2\n",
    "standalone_parameters[\"train_k_factor\"] = 1\n",
    "standalone_parameters[\"val_k_factor\"] = 2\n",
    "standalone_parameters[\"test_k_factor\"] = 2\n",
    "\n",
    "\n",
    "standalone_parameters[\"n_epoch\"] = 50\n",
    "\n",
    "standalone_parameters[\"patience\"] = 10\n",
    "standalone_parameters[\"criteria_for_best\"] = \"source_loss\"\n",
    "\n",
    "standalone_parameters[\"datasets\"] = [\n",
    "    {\n",
    "        \"labels\": ALL_SERIAL_NUMBERS,\n",
    "        \"domains\": ALL_DISTANCES_FEET_NARROWED,\n",
    "        \"num_examples_per_domain_per_label\": 100,\n",
    "        \"pickle_path\": os.path.join(get_datasets_base_path(), \"oracle.Run1_framed_2000Examples_stratified_ds.2022A.pkl\"),\n",
    "        \"source_or_target_dataset\": \"source\",\n",
    "        \"x_transforms\": [\"unit_mag\", \"minus_two\"],\n",
    "        \"episode_transforms\": [],\n",
    "        \"domain_prefix\": \"ORACLE_\"\n",
    "    },\n",
    "    {\n",
    "        \"labels\": ALL_NODES,\n",
    "        \"domains\": ALL_DAYS,\n",
    "        \"num_examples_per_domain_per_label\": 100,\n",
    "        \"pickle_path\": os.path.join(get_datasets_base_path(), \"cores.stratified_ds.2022A.pkl\"),\n",
    "        \"source_or_target_dataset\": \"target\",\n",
    "        \"x_transforms\": [\"unit_power\", \"times_zero\"],\n",
    "        \"episode_transforms\": [],\n",
    "        \"domain_prefix\": \"CORES_\"\n",
    "    }   \n",
    "]\n",
    "\n",
    "standalone_parameters[\"torch_default_dtype\"] = \"torch.float32\" \n",
    "\n",
    "\n",
    "\n",
    "standalone_parameters[\"x_net\"] =     [\n",
    "    {\"class\": \"nnReshape\", \"kargs\": {\"shape\":[-1, 1, 2, 256]}},\n",
    "    {\"class\": \"Conv2d\", \"kargs\": { \"in_channels\":1, \"out_channels\":256, \"kernel_size\":(1,7), \"bias\":False, \"padding\":(0,3), },},\n",
    "    {\"class\": \"ReLU\", \"kargs\": {\"inplace\": True}},\n",
    "    {\"class\": \"BatchNorm2d\", \"kargs\": {\"num_features\":256}},\n",
    "\n",
    "    {\"class\": \"Conv2d\", \"kargs\": { \"in_channels\":256, \"out_channels\":80, \"kernel_size\":(2,7), \"bias\":True, \"padding\":(0,3), },},\n",
    "    {\"class\": \"ReLU\", \"kargs\": {\"inplace\": True}},\n",
    "    {\"class\": \"BatchNorm2d\", \"kargs\": {\"num_features\":80}},\n",
    "    {\"class\": \"Flatten\", \"kargs\": {}},\n",
    "\n",
    "    {\"class\": \"Linear\", \"kargs\": {\"in_features\": 80*256, \"out_features\": 256}}, # 80 units per IQ pair\n",
    "    {\"class\": \"ReLU\", \"kargs\": {\"inplace\": True}},\n",
    "    {\"class\": \"BatchNorm1d\", \"kargs\": {\"num_features\":256}},\n",
    "\n",
    "    {\"class\": \"Linear\", \"kargs\": {\"in_features\": 256, \"out_features\": 256}},\n",
    "]\n",
    "\n",
    "# Parameters relevant to results\n",
    "# These parameters will basically never need to change\n",
    "standalone_parameters[\"NUM_LOGS_PER_EPOCH\"] = 10\n",
    "standalone_parameters[\"BEST_MODEL_PATH\"] = \"./best_model.pth\"\n",
    "\n",
    "\n",
    "\n",
    "\n"
   ]
  },
  {
   "cell_type": "code",
   "execution_count": 4,
   "id": "4058e4f6",
   "metadata": {
    "execution": {
     "iopub.execute_input": "2022-03-23T09:00:35.462293Z",
     "iopub.status.busy": "2022-03-23T09:00:35.449674Z",
     "iopub.status.idle": "2022-03-23T09:00:35.481386Z",
     "shell.execute_reply": "2022-03-23T09:00:35.481022Z"
    },
    "papermill": {
     "duration": 0.053939,
     "end_time": "2022-03-23T09:00:35.481458",
     "exception": false,
     "start_time": "2022-03-23T09:00:35.427519",
     "status": "completed"
    },
    "tags": [
     "injected-parameters"
    ]
   },
   "outputs": [],
   "source": [
    "# Parameters\n",
    "parameters = {\n",
    "    \"experiment_name\": \"tl_1v2:wisig-oracle.run1\",\n",
    "    \"device\": \"cuda\",\n",
    "    \"lr\": 0.0001,\n",
    "    \"n_shot\": 3,\n",
    "    \"n_query\": 2,\n",
    "    \"train_k_factor\": 3,\n",
    "    \"val_k_factor\": 2,\n",
    "    \"test_k_factor\": 2,\n",
    "    \"torch_default_dtype\": \"torch.float32\",\n",
    "    \"n_epoch\": 50,\n",
    "    \"patience\": 3,\n",
    "    \"criteria_for_best\": \"target_accuracy\",\n",
    "    \"x_net\": [\n",
    "        {\"class\": \"nnReshape\", \"kargs\": {\"shape\": [-1, 1, 2, 256]}},\n",
    "        {\n",
    "            \"class\": \"Conv2d\",\n",
    "            \"kargs\": {\n",
    "                \"in_channels\": 1,\n",
    "                \"out_channels\": 256,\n",
    "                \"kernel_size\": [1, 7],\n",
    "                \"bias\": False,\n",
    "                \"padding\": [0, 3],\n",
    "            },\n",
    "        },\n",
    "        {\"class\": \"ReLU\", \"kargs\": {\"inplace\": True}},\n",
    "        {\"class\": \"BatchNorm2d\", \"kargs\": {\"num_features\": 256}},\n",
    "        {\n",
    "            \"class\": \"Conv2d\",\n",
    "            \"kargs\": {\n",
    "                \"in_channels\": 256,\n",
    "                \"out_channels\": 80,\n",
    "                \"kernel_size\": [2, 7],\n",
    "                \"bias\": True,\n",
    "                \"padding\": [0, 3],\n",
    "            },\n",
    "        },\n",
    "        {\"class\": \"ReLU\", \"kargs\": {\"inplace\": True}},\n",
    "        {\"class\": \"BatchNorm2d\", \"kargs\": {\"num_features\": 80}},\n",
    "        {\"class\": \"Flatten\", \"kargs\": {}},\n",
    "        {\"class\": \"Linear\", \"kargs\": {\"in_features\": 20480, \"out_features\": 256}},\n",
    "        {\"class\": \"ReLU\", \"kargs\": {\"inplace\": True}},\n",
    "        {\"class\": \"BatchNorm1d\", \"kargs\": {\"num_features\": 256}},\n",
    "        {\"class\": \"Linear\", \"kargs\": {\"in_features\": 256, \"out_features\": 256}},\n",
    "    ],\n",
    "    \"NUM_LOGS_PER_EPOCH\": 10,\n",
    "    \"BEST_MODEL_PATH\": \"./best_model.pth\",\n",
    "    \"n_way\": 16,\n",
    "    \"datasets\": [\n",
    "        {\n",
    "            \"labels\": [\n",
    "                \"1-10\",\n",
    "                \"1-12\",\n",
    "                \"1-14\",\n",
    "                \"1-16\",\n",
    "                \"1-18\",\n",
    "                \"1-19\",\n",
    "                \"1-8\",\n",
    "                \"10-11\",\n",
    "                \"10-17\",\n",
    "                \"10-4\",\n",
    "                \"10-7\",\n",
    "                \"11-1\",\n",
    "                \"11-10\",\n",
    "                \"11-19\",\n",
    "                \"11-20\",\n",
    "                \"11-4\",\n",
    "                \"11-7\",\n",
    "                \"12-19\",\n",
    "                \"12-20\",\n",
    "                \"12-7\",\n",
    "                \"13-14\",\n",
    "                \"13-18\",\n",
    "                \"13-19\",\n",
    "                \"13-20\",\n",
    "                \"13-3\",\n",
    "                \"13-7\",\n",
    "                \"14-10\",\n",
    "                \"14-11\",\n",
    "                \"14-12\",\n",
    "                \"14-13\",\n",
    "                \"14-14\",\n",
    "                \"14-19\",\n",
    "                \"14-20\",\n",
    "                \"14-7\",\n",
    "                \"14-8\",\n",
    "                \"14-9\",\n",
    "                \"15-1\",\n",
    "                \"15-19\",\n",
    "                \"15-6\",\n",
    "                \"16-1\",\n",
    "                \"16-16\",\n",
    "                \"16-19\",\n",
    "                \"16-20\",\n",
    "                \"17-10\",\n",
    "                \"17-11\",\n",
    "                \"18-1\",\n",
    "                \"18-10\",\n",
    "                \"18-11\",\n",
    "                \"18-12\",\n",
    "                \"18-13\",\n",
    "                \"18-14\",\n",
    "                \"18-15\",\n",
    "                \"18-16\",\n",
    "                \"18-17\",\n",
    "                \"18-19\",\n",
    "                \"18-2\",\n",
    "                \"18-20\",\n",
    "                \"18-4\",\n",
    "                \"18-5\",\n",
    "                \"18-7\",\n",
    "                \"18-8\",\n",
    "                \"18-9\",\n",
    "                \"19-1\",\n",
    "                \"19-10\",\n",
    "                \"19-11\",\n",
    "                \"19-12\",\n",
    "                \"19-13\",\n",
    "                \"19-14\",\n",
    "                \"19-15\",\n",
    "                \"19-19\",\n",
    "                \"19-2\",\n",
    "                \"19-20\",\n",
    "                \"19-3\",\n",
    "                \"19-4\",\n",
    "                \"19-6\",\n",
    "                \"19-7\",\n",
    "                \"19-8\",\n",
    "                \"19-9\",\n",
    "                \"2-1\",\n",
    "                \"2-13\",\n",
    "                \"2-15\",\n",
    "                \"2-3\",\n",
    "                \"2-4\",\n",
    "                \"2-5\",\n",
    "                \"2-6\",\n",
    "                \"2-7\",\n",
    "                \"2-8\",\n",
    "                \"20-1\",\n",
    "                \"20-12\",\n",
    "                \"20-14\",\n",
    "                \"20-15\",\n",
    "                \"20-16\",\n",
    "                \"20-18\",\n",
    "                \"20-19\",\n",
    "                \"20-20\",\n",
    "                \"20-3\",\n",
    "                \"20-4\",\n",
    "                \"20-5\",\n",
    "                \"20-7\",\n",
    "                \"20-8\",\n",
    "                \"3-1\",\n",
    "                \"3-13\",\n",
    "                \"3-18\",\n",
    "                \"3-2\",\n",
    "                \"3-8\",\n",
    "                \"4-1\",\n",
    "                \"4-10\",\n",
    "                \"4-11\",\n",
    "                \"5-1\",\n",
    "                \"5-5\",\n",
    "                \"6-1\",\n",
    "                \"6-15\",\n",
    "                \"6-6\",\n",
    "                \"7-10\",\n",
    "                \"7-11\",\n",
    "                \"7-12\",\n",
    "                \"7-13\",\n",
    "                \"7-14\",\n",
    "                \"7-7\",\n",
    "                \"7-8\",\n",
    "                \"7-9\",\n",
    "                \"8-1\",\n",
    "                \"8-13\",\n",
    "                \"8-14\",\n",
    "                \"8-18\",\n",
    "                \"8-20\",\n",
    "                \"8-3\",\n",
    "                \"8-8\",\n",
    "                \"9-1\",\n",
    "                \"9-7\",\n",
    "            ],\n",
    "            \"domains\": [1, 2, 3, 4],\n",
    "            \"num_examples_per_domain_per_label\": -1,\n",
    "            \"pickle_path\": \"/root/csc500-main/datasets/wisig.node3-19.stratified_ds.2022A.pkl\",\n",
    "            \"source_or_target_dataset\": \"target\",\n",
    "            \"x_transforms\": [\"unit_mag\"],\n",
    "            \"episode_transforms\": [],\n",
    "            \"domain_prefix\": \"Wisig_\",\n",
    "        },\n",
    "        {\n",
    "            \"labels\": [\n",
    "                \"3123D52\",\n",
    "                \"3123D65\",\n",
    "                \"3123D79\",\n",
    "                \"3123D80\",\n",
    "                \"3123D54\",\n",
    "                \"3123D70\",\n",
    "                \"3123D7B\",\n",
    "                \"3123D89\",\n",
    "                \"3123D58\",\n",
    "                \"3123D76\",\n",
    "                \"3123D7D\",\n",
    "                \"3123EFE\",\n",
    "                \"3123D64\",\n",
    "                \"3123D78\",\n",
    "                \"3123D7E\",\n",
    "                \"3124E4A\",\n",
    "            ],\n",
    "            \"domains\": [32, 38, 8, 44, 14, 50, 20, 26],\n",
    "            \"num_examples_per_domain_per_label\": 10000,\n",
    "            \"pickle_path\": \"/root/csc500-main/datasets/oracle.Run1_10kExamples_stratified_ds.2022A.pkl\",\n",
    "            \"source_or_target_dataset\": \"source\",\n",
    "            \"x_transforms\": [\"unit_mag\"],\n",
    "            \"episode_transforms\": [],\n",
    "            \"domain_prefix\": \"ORACLE.run1\",\n",
    "        },\n",
    "    ],\n",
    "    \"dataset_seed\": 1337,\n",
    "    \"seed\": 1337,\n",
    "}\n"
   ]
  },
  {
   "cell_type": "code",
   "execution_count": 5,
   "id": "8fa1cc33",
   "metadata": {
    "execution": {
     "iopub.execute_input": "2022-03-23T09:00:35.525700Z",
     "iopub.status.busy": "2022-03-23T09:00:35.525154Z",
     "iopub.status.idle": "2022-03-23T09:00:35.544706Z",
     "shell.execute_reply": "2022-03-23T09:00:35.544342Z"
    },
    "papermill": {
     "duration": 0.043675,
     "end_time": "2022-03-23T09:00:35.544777",
     "exception": false,
     "start_time": "2022-03-23T09:00:35.501102",
     "status": "completed"
    },
    "tags": []
   },
   "outputs": [],
   "source": [
    "# Set this to True if you want to run this template directly\n",
    "STANDALONE = False\n",
    "if STANDALONE:\n",
    "    print(\"parameters not injected, running with standalone_parameters\")\n",
    "    parameters = standalone_parameters\n",
    "\n",
    "if not 'parameters' in locals() and not 'parameters' in globals():\n",
    "    raise Exception(\"Parameter injection failed\")\n",
    "\n",
    "#Use an easy dict for all the parameters\n",
    "p = EasyDict(parameters)\n",
    "\n",
    "if \"x_shape\" not in p:\n",
    "    p.x_shape = [2,256] # Default to this if we dont supply x_shape\n",
    "\n",
    "\n",
    "supplied_keys = set(p.keys())\n",
    "\n",
    "if  supplied_keys != required_parameters:\n",
    "    print(\"Parameters are incorrect\")\n",
    "    if len(supplied_keys - required_parameters)>0: print(\"Shouldn't have:\", str(supplied_keys - required_parameters))\n",
    "    if len(required_parameters - supplied_keys)>0: print(\"Need to have:\", str(required_parameters - supplied_keys))\n",
    "    raise RuntimeError(\"Parameters are incorrect\")"
   ]
  },
  {
   "cell_type": "code",
   "execution_count": 6,
   "id": "3a028d58",
   "metadata": {
    "execution": {
     "iopub.execute_input": "2022-03-23T09:00:35.587968Z",
     "iopub.status.busy": "2022-03-23T09:00:35.587599Z",
     "iopub.status.idle": "2022-03-23T09:00:35.608754Z",
     "shell.execute_reply": "2022-03-23T09:00:35.609056Z"
    },
    "papermill": {
     "duration": 0.044796,
     "end_time": "2022-03-23T09:00:35.609139",
     "exception": false,
     "start_time": "2022-03-23T09:00:35.564343",
     "status": "completed"
    },
    "tags": []
   },
   "outputs": [],
   "source": [
    "###################################\n",
    "# Set the RNGs and make it all deterministic\n",
    "###################################\n",
    "np.random.seed(p.seed)\n",
    "random.seed(p.seed)\n",
    "torch.manual_seed(p.seed)\n",
    "\n",
    "torch.use_deterministic_algorithms(True) "
   ]
  },
  {
   "cell_type": "code",
   "execution_count": 7,
   "id": "b691acf6",
   "metadata": {
    "execution": {
     "iopub.execute_input": "2022-03-23T09:00:35.652210Z",
     "iopub.status.busy": "2022-03-23T09:00:35.651844Z",
     "iopub.status.idle": "2022-03-23T09:00:35.674535Z",
     "shell.execute_reply": "2022-03-23T09:00:35.674217Z"
    },
    "papermill": {
     "duration": 0.045584,
     "end_time": "2022-03-23T09:00:35.674605",
     "exception": false,
     "start_time": "2022-03-23T09:00:35.629021",
     "status": "completed"
    },
    "tags": []
   },
   "outputs": [],
   "source": [
    "###########################################\n",
    "# The stratified datasets honor this\n",
    "###########################################\n",
    "torch.set_default_dtype(eval(p.torch_default_dtype))"
   ]
  },
  {
   "cell_type": "code",
   "execution_count": 8,
   "id": "b5fba671",
   "metadata": {
    "execution": {
     "iopub.execute_input": "2022-03-23T09:00:35.719527Z",
     "iopub.status.busy": "2022-03-23T09:00:35.718028Z",
     "iopub.status.idle": "2022-03-23T09:00:35.772076Z",
     "shell.execute_reply": "2022-03-23T09:00:35.771709Z"
    },
    "papermill": {
     "duration": 0.077667,
     "end_time": "2022-03-23T09:00:35.772147",
     "exception": false,
     "start_time": "2022-03-23T09:00:35.694480",
     "status": "completed"
    },
    "tags": []
   },
   "outputs": [],
   "source": [
    "###################################\n",
    "# Build the network(s)\n",
    "# Note: It's critical to do this AFTER setting the RNG\n",
    "###################################\n",
    "x_net = build_sequential(p.x_net)"
   ]
  },
  {
   "cell_type": "code",
   "execution_count": 9,
   "id": "5d7e61cc",
   "metadata": {
    "execution": {
     "iopub.execute_input": "2022-03-23T09:00:35.816607Z",
     "iopub.status.busy": "2022-03-23T09:00:35.816242Z",
     "iopub.status.idle": "2022-03-23T09:00:35.841794Z",
     "shell.execute_reply": "2022-03-23T09:00:35.841431Z"
    },
    "papermill": {
     "duration": 0.049551,
     "end_time": "2022-03-23T09:00:35.841865",
     "exception": false,
     "start_time": "2022-03-23T09:00:35.792314",
     "status": "completed"
    },
    "tags": []
   },
   "outputs": [],
   "source": [
    "start_time_secs = time.time()"
   ]
  },
  {
   "cell_type": "code",
   "execution_count": 10,
   "id": "c6b67dfd",
   "metadata": {
    "execution": {
     "iopub.execute_input": "2022-03-23T09:00:35.891934Z",
     "iopub.status.busy": "2022-03-23T09:00:35.891562Z",
     "iopub.status.idle": "2022-03-23T09:00:35.909620Z",
     "shell.execute_reply": "2022-03-23T09:00:35.909257Z"
    },
    "papermill": {
     "duration": 0.047663,
     "end_time": "2022-03-23T09:00:35.909691",
     "exception": false,
     "start_time": "2022-03-23T09:00:35.862028",
     "status": "completed"
    },
    "tags": []
   },
   "outputs": [],
   "source": [
    "p.domains_source = []\n",
    "p.domains_target = []\n",
    "\n",
    "\n",
    "train_original_source = []\n",
    "val_original_source   = []\n",
    "test_original_source  = []\n",
    "\n",
    "train_original_target = []\n",
    "val_original_target   = []\n",
    "test_original_target  = []"
   ]
  },
  {
   "cell_type": "code",
   "execution_count": 11,
   "id": "e3d9c3d3",
   "metadata": {
    "execution": {
     "iopub.execute_input": "2022-03-23T09:00:35.953946Z",
     "iopub.status.busy": "2022-03-23T09:00:35.953580Z",
     "iopub.status.idle": "2022-03-23T09:00:35.970857Z",
     "shell.execute_reply": "2022-03-23T09:00:35.970496Z"
    },
    "papermill": {
     "duration": 0.039638,
     "end_time": "2022-03-23T09:00:35.970928",
     "exception": false,
     "start_time": "2022-03-23T09:00:35.931290",
     "status": "completed"
    },
    "tags": []
   },
   "outputs": [],
   "source": [
    "# global_x_transform_func = lambda x: normalize(x.to(torch.get_default_dtype()), \"unit_power\") # unit_power, unit_mag\n",
    "# global_x_transform_func = lambda x: normalize(x, \"unit_power\") # unit_power, unit_mag"
   ]
  },
  {
   "cell_type": "code",
   "execution_count": 12,
   "id": "acb78fd2",
   "metadata": {
    "execution": {
     "iopub.execute_input": "2022-03-23T09:00:36.022535Z",
     "iopub.status.busy": "2022-03-23T09:00:36.021458Z",
     "iopub.status.idle": "2022-03-23T09:00:36.040621Z",
     "shell.execute_reply": "2022-03-23T09:00:36.040253Z"
    },
    "papermill": {
     "duration": 0.04951,
     "end_time": "2022-03-23T09:00:36.040693",
     "exception": false,
     "start_time": "2022-03-23T09:00:35.991183",
     "status": "completed"
    },
    "tags": []
   },
   "outputs": [],
   "source": [
    "def add_dataset(\n",
    "    labels,\n",
    "    domains,\n",
    "    pickle_path,\n",
    "    x_transforms,\n",
    "    episode_transforms,\n",
    "    domain_prefix,\n",
    "    num_examples_per_domain_per_label,\n",
    "    source_or_target_dataset:str,\n",
    "    iterator_seed=p.seed,\n",
    "    dataset_seed=p.dataset_seed,\n",
    "    n_shot=p.n_shot,\n",
    "    n_way=p.n_way,\n",
    "    n_query=p.n_query,\n",
    "    train_val_test_k_factors=(p.train_k_factor,p.val_k_factor,p.test_k_factor),\n",
    "):\n",
    "   \n",
    "    if x_transforms == []: x_transform = None\n",
    "    else: x_transform = get_chained_transform(x_transforms)\n",
    "    \n",
    "    if episode_transforms == []: episode_transform = None\n",
    "    else: raise Exception(\"episode_transforms not implemented\")\n",
    "    \n",
    "    episode_transform = lambda tup, _prefix=domain_prefix: (_prefix + str(tup[0]), tup[1])\n",
    "\n",
    "\n",
    "    eaf = Episodic_Accessor_Factory(\n",
    "        labels=labels,\n",
    "        domains=domains,\n",
    "        num_examples_per_domain_per_label=num_examples_per_domain_per_label,\n",
    "        iterator_seed=iterator_seed,\n",
    "        dataset_seed=dataset_seed,\n",
    "        n_shot=n_shot,\n",
    "        n_way=n_way,\n",
    "        n_query=n_query,\n",
    "        train_val_test_k_factors=train_val_test_k_factors,\n",
    "        pickle_path=pickle_path,\n",
    "        x_transform_func=x_transform,\n",
    "    )\n",
    "\n",
    "    train, val, test = eaf.get_train(), eaf.get_val(), eaf.get_test()\n",
    "    train = Lazy_Iterable_Wrapper(train, episode_transform)\n",
    "    val = Lazy_Iterable_Wrapper(val, episode_transform)\n",
    "    test = Lazy_Iterable_Wrapper(test, episode_transform)\n",
    "\n",
    "    if source_or_target_dataset==\"source\":\n",
    "        train_original_source.append(train)\n",
    "        val_original_source.append(val)\n",
    "        test_original_source.append(test)\n",
    "\n",
    "        p.domains_source.extend(\n",
    "            [domain_prefix + str(u) for u in domains]\n",
    "        )\n",
    "    elif source_or_target_dataset==\"target\":\n",
    "        train_original_target.append(train)\n",
    "        val_original_target.append(val)\n",
    "        test_original_target.append(test)\n",
    "        p.domains_target.extend(\n",
    "            [domain_prefix + str(u) for u in domains]\n",
    "        )\n",
    "    else:\n",
    "        raise Exception(f\"invalid source_or_target_dataset: {source_or_target_dataset}\")\n",
    "    "
   ]
  },
  {
   "cell_type": "code",
   "execution_count": 13,
   "id": "fe266617",
   "metadata": {
    "execution": {
     "iopub.execute_input": "2022-03-23T09:00:36.097679Z",
     "iopub.status.busy": "2022-03-23T09:00:36.092982Z",
     "iopub.status.idle": "2022-03-23T09:02:48.340457Z",
     "shell.execute_reply": "2022-03-23T09:02:48.339640Z"
    },
    "papermill": {
     "duration": 132.27335,
     "end_time": "2022-03-23T09:02:48.340660",
     "exception": false,
     "start_time": "2022-03-23T09:00:36.067310",
     "status": "completed"
    },
    "tags": []
   },
   "outputs": [],
   "source": [
    "for ds in p.datasets:\n",
    "    add_dataset(**ds)"
   ]
  },
  {
   "cell_type": "code",
   "execution_count": 14,
   "id": "b90d65ac",
   "metadata": {
    "execution": {
     "iopub.execute_input": "2022-03-23T09:02:48.392033Z",
     "iopub.status.busy": "2022-03-23T09:02:48.391647Z",
     "iopub.status.idle": "2022-03-23T09:02:48.425710Z",
     "shell.execute_reply": "2022-03-23T09:02:48.424897Z"
    },
    "papermill": {
     "duration": 0.05755,
     "end_time": "2022-03-23T09:02:48.425867",
     "exception": false,
     "start_time": "2022-03-23T09:02:48.368317",
     "status": "completed"
    },
    "tags": []
   },
   "outputs": [],
   "source": [
    "# from steves_utils.CORES.utils import (\n",
    "#     ALL_NODES,\n",
    "#     ALL_NODES_MINIMUM_1000_EXAMPLES,\n",
    "#     ALL_DAYS\n",
    "# )\n",
    "\n",
    "# add_dataset(\n",
    "#     labels=ALL_NODES,\n",
    "#     domains = ALL_DAYS,\n",
    "#     num_examples_per_domain_per_label=100,\n",
    "#     pickle_path=os.path.join(get_datasets_base_path(), \"cores.stratified_ds.2022A.pkl\"),\n",
    "#     source_or_target_dataset=\"target\",\n",
    "#     x_transform_func=global_x_transform_func,\n",
    "#     domain_modifier=lambda u: f\"cores_{u}\"\n",
    "# )"
   ]
  },
  {
   "cell_type": "code",
   "execution_count": 15,
   "id": "76db484d",
   "metadata": {
    "execution": {
     "iopub.execute_input": "2022-03-23T09:02:48.474890Z",
     "iopub.status.busy": "2022-03-23T09:02:48.474260Z",
     "iopub.status.idle": "2022-03-23T09:02:48.496316Z",
     "shell.execute_reply": "2022-03-23T09:02:48.495465Z"
    },
    "papermill": {
     "duration": 0.044726,
     "end_time": "2022-03-23T09:02:48.496472",
     "exception": false,
     "start_time": "2022-03-23T09:02:48.451746",
     "status": "completed"
    },
    "tags": []
   },
   "outputs": [],
   "source": [
    "# from steves_utils.ORACLE.utils_v2 import (\n",
    "#     ALL_DISTANCES_FEET,\n",
    "#     ALL_RUNS,\n",
    "#     ALL_SERIAL_NUMBERS,\n",
    "# )\n",
    "\n",
    "\n",
    "# add_dataset(\n",
    "#     labels=ALL_SERIAL_NUMBERS,\n",
    "#     domains = list(set(ALL_DISTANCES_FEET) - {2,62}),\n",
    "#     num_examples_per_domain_per_label=100,\n",
    "#     pickle_path=os.path.join(get_datasets_base_path(), \"oracle.Run2_framed_2000Examples_stratified_ds.2022A.pkl\"),\n",
    "#     source_or_target_dataset=\"source\",\n",
    "#     x_transform_func=global_x_transform_func,\n",
    "#     domain_modifier=lambda u: f\"oracle1_{u}\"\n",
    "# )\n"
   ]
  },
  {
   "cell_type": "code",
   "execution_count": 16,
   "id": "97dea9d2",
   "metadata": {
    "execution": {
     "iopub.execute_input": "2022-03-23T09:02:48.546214Z",
     "iopub.status.busy": "2022-03-23T09:02:48.545846Z",
     "iopub.status.idle": "2022-03-23T09:02:48.563261Z",
     "shell.execute_reply": "2022-03-23T09:02:48.562453Z"
    },
    "papermill": {
     "duration": 0.039945,
     "end_time": "2022-03-23T09:02:48.563418",
     "exception": false,
     "start_time": "2022-03-23T09:02:48.523473",
     "status": "completed"
    },
    "tags": []
   },
   "outputs": [],
   "source": [
    "# from steves_utils.ORACLE.utils_v2 import (\n",
    "#     ALL_DISTANCES_FEET,\n",
    "#     ALL_RUNS,\n",
    "#     ALL_SERIAL_NUMBERS,\n",
    "# )\n",
    "\n",
    "\n",
    "# add_dataset(\n",
    "#     labels=ALL_SERIAL_NUMBERS,\n",
    "#     domains = list(set(ALL_DISTANCES_FEET) - {2,62,56}),\n",
    "#     num_examples_per_domain_per_label=100,\n",
    "#     pickle_path=os.path.join(get_datasets_base_path(), \"oracle.Run2_framed_2000Examples_stratified_ds.2022A.pkl\"),\n",
    "#     source_or_target_dataset=\"source\",\n",
    "#     x_transform_func=global_x_transform_func,\n",
    "#     domain_modifier=lambda u: f\"oracle2_{u}\"\n",
    "# )"
   ]
  },
  {
   "cell_type": "code",
   "execution_count": 17,
   "id": "6f289866",
   "metadata": {
    "execution": {
     "iopub.execute_input": "2022-03-23T09:02:48.613902Z",
     "iopub.status.busy": "2022-03-23T09:02:48.613532Z",
     "iopub.status.idle": "2022-03-23T09:02:48.634300Z",
     "shell.execute_reply": "2022-03-23T09:02:48.633505Z"
    },
    "papermill": {
     "duration": 0.043457,
     "end_time": "2022-03-23T09:02:48.634455",
     "exception": false,
     "start_time": "2022-03-23T09:02:48.590998",
     "status": "completed"
    },
    "tags": []
   },
   "outputs": [],
   "source": [
    "# add_dataset(\n",
    "#     labels=list(range(19)),\n",
    "#     domains = [0,1,2],\n",
    "#     num_examples_per_domain_per_label=100,\n",
    "#     pickle_path=os.path.join(get_datasets_base_path(), \"metehan.stratified_ds.2022A.pkl\"),\n",
    "#     source_or_target_dataset=\"target\",\n",
    "#     x_transform_func=global_x_transform_func,\n",
    "#     domain_modifier=lambda u: f\"met_{u}\"\n",
    "# )"
   ]
  },
  {
   "cell_type": "code",
   "execution_count": 18,
   "id": "86a863c3",
   "metadata": {
    "execution": {
     "iopub.execute_input": "2022-03-23T09:02:48.684966Z",
     "iopub.status.busy": "2022-03-23T09:02:48.684110Z",
     "iopub.status.idle": "2022-03-23T09:02:48.705812Z",
     "shell.execute_reply": "2022-03-23T09:02:48.705018Z"
    },
    "papermill": {
     "duration": 0.045562,
     "end_time": "2022-03-23T09:02:48.705967",
     "exception": false,
     "start_time": "2022-03-23T09:02:48.660405",
     "status": "completed"
    },
    "tags": []
   },
   "outputs": [],
   "source": [
    "# # from steves_utils.wisig.utils import (\n",
    "# #     ALL_NODES_MINIMUM_100_EXAMPLES,\n",
    "# #     ALL_NODES_MINIMUM_500_EXAMPLES,\n",
    "# #     ALL_NODES_MINIMUM_1000_EXAMPLES,\n",
    "# #     ALL_DAYS\n",
    "# # )\n",
    "\n",
    "# import steves_utils.wisig.utils as wisig\n",
    "\n",
    "\n",
    "# add_dataset(\n",
    "#     labels=wisig.ALL_NODES_MINIMUM_100_EXAMPLES,\n",
    "#     domains = wisig.ALL_DAYS,\n",
    "#     num_examples_per_domain_per_label=100,\n",
    "#     pickle_path=os.path.join(get_datasets_base_path(), \"wisig.node3-19.stratified_ds.2022A.pkl\"),\n",
    "#     source_or_target_dataset=\"target\",\n",
    "#     x_transform_func=global_x_transform_func,\n",
    "#     domain_modifier=lambda u: f\"wisig_{u}\"\n",
    "# )"
   ]
  },
  {
   "cell_type": "code",
   "execution_count": 19,
   "id": "fd5442bc",
   "metadata": {
    "execution": {
     "iopub.execute_input": "2022-03-23T09:02:48.761910Z",
     "iopub.status.busy": "2022-03-23T09:02:48.761379Z",
     "iopub.status.idle": "2022-03-23T09:02:48.780782Z",
     "shell.execute_reply": "2022-03-23T09:02:48.779987Z"
    },
    "papermill": {
     "duration": 0.048884,
     "end_time": "2022-03-23T09:02:48.780935",
     "exception": false,
     "start_time": "2022-03-23T09:02:48.732051",
     "status": "completed"
    },
    "tags": []
   },
   "outputs": [],
   "source": [
    "###################################\n",
    "# Build the dataset\n",
    "###################################\n",
    "train_original_source = Iterable_Aggregator(train_original_source, p.seed)\n",
    "val_original_source = Iterable_Aggregator(val_original_source, p.seed)\n",
    "test_original_source = Iterable_Aggregator(test_original_source, p.seed)\n",
    "\n",
    "\n",
    "train_original_target = Iterable_Aggregator(train_original_target, p.seed)\n",
    "val_original_target = Iterable_Aggregator(val_original_target, p.seed)\n",
    "test_original_target = Iterable_Aggregator(test_original_target, p.seed)\n",
    "\n",
    "# For CNN We only use X and Y. And we only train on the source.\n",
    "# Properly form the data using a transform lambda and Lazy_Iterable_Wrapper. Finally wrap them in a dataloader\n",
    "\n",
    "transform_lambda = lambda ex: ex[1] # Original is (<domain>, <episode>) so we strip down to episode only\n",
    "\n",
    "train_processed_source = Lazy_Iterable_Wrapper(train_original_source, transform_lambda)\n",
    "val_processed_source   = Lazy_Iterable_Wrapper(val_original_source, transform_lambda)\n",
    "test_processed_source  = Lazy_Iterable_Wrapper(test_original_source, transform_lambda)\n",
    "\n",
    "train_processed_target = Lazy_Iterable_Wrapper(train_original_target, transform_lambda)\n",
    "val_processed_target   = Lazy_Iterable_Wrapper(val_original_target, transform_lambda)\n",
    "test_processed_target  = Lazy_Iterable_Wrapper(test_original_target, transform_lambda)\n",
    "\n",
    "datasets = EasyDict({\n",
    "    \"source\": {\n",
    "        \"original\": {\"train\":train_original_source, \"val\":val_original_source, \"test\":test_original_source},\n",
    "        \"processed\": {\"train\":train_processed_source, \"val\":val_processed_source, \"test\":test_processed_source}\n",
    "    },\n",
    "    \"target\": {\n",
    "        \"original\": {\"train\":train_original_target, \"val\":val_original_target, \"test\":test_original_target},\n",
    "        \"processed\": {\"train\":train_processed_target, \"val\":val_processed_target, \"test\":test_processed_target}\n",
    "    },\n",
    "})"
   ]
  },
  {
   "cell_type": "code",
   "execution_count": 20,
   "id": "5b3c01fc",
   "metadata": {
    "execution": {
     "iopub.execute_input": "2022-03-23T09:02:48.840584Z",
     "iopub.status.busy": "2022-03-23T09:02:48.832592Z",
     "iopub.status.idle": "2022-03-23T09:03:23.243166Z",
     "shell.execute_reply": "2022-03-23T09:03:23.243991Z"
    },
    "papermill": {
     "duration": 34.436009,
     "end_time": "2022-03-23T09:03:23.244205",
     "exception": false,
     "start_time": "2022-03-23T09:02:48.808196",
     "status": "completed"
    },
    "tags": []
   },
   "outputs": [
    {
     "name": "stdout",
     "output_type": "stream",
     "text": [
      "{'ORACLE.run126', 'ORACLE.run138', 'ORACLE.run144', 'ORACLE.run132', 'ORACLE.run120', 'ORACLE.run18', 'ORACLE.run150', 'ORACLE.run114'}\n"
     ]
    },
    {
     "name": "stdout",
     "output_type": "stream",
     "text": [
      "{'Wisig_3', 'Wisig_4', 'Wisig_2', 'Wisig_1'}\n"
     ]
    },
    {
     "name": "stdout",
     "output_type": "stream",
     "text": [
      "tensor([[[-0.0219, -0.3946,  0.4055,  ..., -0.3726, -0.3178,  0.6357],\n",
      "         [-0.6685,  0.2630, -0.1425,  ...,  0.0767, -1.0960,  0.1534]],\n",
      "\n",
      "        [[ 0.4965, -0.7904, -1.5302,  ...,  0.4864,  0.0608, -0.3445],\n",
      "         [-0.1520, -0.4459, -1.5808,  ..., -0.5168,  0.3344, -0.5675]],\n",
      "\n",
      "        [[-0.9659, -0.5089,  0.1142,  ...,  0.1350,  1.5786,  1.2151],\n",
      "         [-0.2181,  0.3739, -0.4154,  ..., -1.6721,  0.0000, -0.0312]],\n",
      "\n",
      "        ...,\n",
      "\n",
      "        [[-0.0140,  0.7067, -0.0840,  ..., -0.9517, -1.5324,  0.9866],\n",
      "         [ 1.3435, -0.9656, -0.5948,  ..., -0.1539,  0.2309, -1.0426]],\n",
      "\n",
      "        [[-0.9809, -1.5211, -1.8267,  ..., -0.9454,  0.6113,  0.2203],\n",
      "         [ 1.2581,  0.0355,  1.2581,  ..., -0.3554,  0.8174, -0.2132]],\n",
      "\n",
      "        [[ 1.4691, -0.7845, -0.6632,  ..., -0.8915, -0.4422, -0.0071],\n",
      "         [-0.5206,  1.0983,  0.0071,  ...,  1.6973,  0.2496,  1.1839]]])\n"
     ]
    }
   ],
   "source": [
    "from steves_utils.transforms import get_average_magnitude, get_average_power\n",
    "\n",
    "print(set([u for u,_ in val_original_source]))\n",
    "print(set([u for u,_ in val_original_target]))\n",
    "\n",
    "s_x, s_y, q_x, q_y, _ = next(iter(train_processed_source))\n",
    "print(s_x)\n",
    "\n",
    "# for ds in [\n",
    "#     train_processed_source,\n",
    "#     val_processed_source,\n",
    "#     test_processed_source,\n",
    "#     train_processed_target,\n",
    "#     val_processed_target,\n",
    "#     test_processed_target\n",
    "# ]:\n",
    "#     for s_x, s_y, q_x, q_y, _ in ds:\n",
    "#         for X in (s_x, q_x):\n",
    "#             for x in X:\n",
    "#                 assert np.isclose(get_average_magnitude(x.numpy()), 1.0)\n",
    "#                 assert np.isclose(get_average_power(x.numpy()), 1.0)\n",
    "                "
   ]
  },
  {
   "cell_type": "code",
   "execution_count": 21,
   "id": "bbdacba1",
   "metadata": {
    "execution": {
     "iopub.execute_input": "2022-03-23T09:03:23.298184Z",
     "iopub.status.busy": "2022-03-23T09:03:23.297540Z",
     "iopub.status.idle": "2022-03-23T09:03:23.478697Z",
     "shell.execute_reply": "2022-03-23T09:03:23.479335Z"
    },
    "papermill": {
     "duration": 0.208275,
     "end_time": "2022-03-23T09:03:23.479555",
     "exception": false,
     "start_time": "2022-03-23T09:03:23.271280",
     "status": "completed"
    },
    "tags": []
   },
   "outputs": [
    {
     "name": "stdout",
     "output_type": "stream",
     "text": [
      "(2, 256)\n"
     ]
    }
   ],
   "source": [
    "###################################\n",
    "# Build the model\n",
    "###################################\n",
    "# easfsl only wants a tuple for the shape\n",
    "model = Steves_Prototypical_Network(x_net, device=p.device, x_shape=tuple(p.x_shape))\n",
    "optimizer = Adam(params=model.parameters(), lr=p.lr)"
   ]
  },
  {
   "cell_type": "code",
   "execution_count": 22,
   "id": "22b39ac5",
   "metadata": {
    "execution": {
     "iopub.execute_input": "2022-03-23T09:03:23.539417Z",
     "iopub.status.busy": "2022-03-23T09:03:23.539022Z",
     "iopub.status.idle": "2022-03-23T12:15:52.483999Z",
     "shell.execute_reply": "2022-03-23T12:15:52.483654Z"
    },
    "papermill": {
     "duration": 11548.971686,
     "end_time": "2022-03-23T12:15:52.484084",
     "exception": false,
     "start_time": "2022-03-23T09:03:23.512398",
     "status": "completed"
    },
    "tags": []
   },
   "outputs": [
    {
     "name": "stdout",
     "output_type": "stream",
     "text": [
      "epoch: 1, [batch: 1 / 33600], examples_per_second: 6.3752, train_label_loss: 2.8103, \n"
     ]
    },
    {
     "name": "stdout",
     "output_type": "stream",
     "text": [
      "epoch: 1, [batch: 3360 / 33600], examples_per_second: 3126.0603, train_label_loss: 1.2438, \n"
     ]
    },
    {
     "name": "stdout",
     "output_type": "stream",
     "text": [
      "epoch: 1, [batch: 6720 / 33600], examples_per_second: 3163.0056, train_label_loss: 2.0213, \n"
     ]
    },
    {
     "name": "stdout",
     "output_type": "stream",
     "text": [
      "epoch: 1, [batch: 10080 / 33600], examples_per_second: 3400.0833, train_label_loss: 0.8041, \n"
     ]
    },
    {
     "name": "stdout",
     "output_type": "stream",
     "text": [
      "epoch: 1, [batch: 13440 / 33600], examples_per_second: 3628.8690, train_label_loss: 0.9733, \n"
     ]
    },
    {
     "name": "stdout",
     "output_type": "stream",
     "text": [
      "epoch: 1, [batch: 16800 / 33600], examples_per_second: 3398.1052, train_label_loss: 0.7672, \n"
     ]
    },
    {
     "name": "stdout",
     "output_type": "stream",
     "text": [
      "epoch: 1, [batch: 20160 / 33600], examples_per_second: 3405.7620, train_label_loss: 0.6667, \n"
     ]
    },
    {
     "name": "stdout",
     "output_type": "stream",
     "text": [
      "epoch: 1, [batch: 23520 / 33600], examples_per_second: 3534.3901, train_label_loss: 0.6469, \n"
     ]
    },
    {
     "name": "stdout",
     "output_type": "stream",
     "text": [
      "epoch: 1, [batch: 26880 / 33600], examples_per_second: 3377.0970, train_label_loss: 0.7418, \n"
     ]
    },
    {
     "name": "stdout",
     "output_type": "stream",
     "text": [
      "epoch: 1, [batch: 30240 / 33600], examples_per_second: 4065.9258, train_label_loss: 1.2319, \n"
     ]
    },
    {
     "name": "stdout",
     "output_type": "stream",
     "text": [
      "=============================================================\n",
      "epoch: 1, source_val_acc_label: 0.6512, target_val_acc_label: 0.6898, source_val_label_loss: 0.9300, target_val_label_loss: 6.6988, \n",
      "=============================================================\n"
     ]
    },
    {
     "name": "stdout",
     "output_type": "stream",
     "text": [
      "New best\n"
     ]
    },
    {
     "name": "stdout",
     "output_type": "stream",
     "text": [
      "epoch: 2, [batch: 1 / 33600], examples_per_second: 1.0051, train_label_loss: 1.0694, \n"
     ]
    },
    {
     "name": "stdout",
     "output_type": "stream",
     "text": [
      "epoch: 2, [batch: 3360 / 33600], examples_per_second: 3934.2391, train_label_loss: 0.7497, \n"
     ]
    },
    {
     "name": "stdout",
     "output_type": "stream",
     "text": [
      "epoch: 2, [batch: 6720 / 33600], examples_per_second: 4095.4201, train_label_loss: 0.9700, \n"
     ]
    },
    {
     "name": "stdout",
     "output_type": "stream",
     "text": [
      "epoch: 2, [batch: 10080 / 33600], examples_per_second: 4155.6745, train_label_loss: 0.5703, \n"
     ]
    },
    {
     "name": "stdout",
     "output_type": "stream",
     "text": [
      "epoch: 2, [batch: 13440 / 33600], examples_per_second: 3646.2409, train_label_loss: 0.5381, \n"
     ]
    },
    {
     "name": "stdout",
     "output_type": "stream",
     "text": [
      "epoch: 2, [batch: 16800 / 33600], examples_per_second: 3315.2301, train_label_loss: 1.2178, \n"
     ]
    },
    {
     "name": "stdout",
     "output_type": "stream",
     "text": [
      "epoch: 2, [batch: 20160 / 33600], examples_per_second: 3426.7692, train_label_loss: 1.2827, \n"
     ]
    },
    {
     "name": "stdout",
     "output_type": "stream",
     "text": [
      "epoch: 2, [batch: 23520 / 33600], examples_per_second: 3744.5676, train_label_loss: 0.4718, \n"
     ]
    },
    {
     "name": "stdout",
     "output_type": "stream",
     "text": [
      "epoch: 2, [batch: 26880 / 33600], examples_per_second: 3917.4692, train_label_loss: 0.3521, \n"
     ]
    },
    {
     "name": "stdout",
     "output_type": "stream",
     "text": [
      "epoch: 2, [batch: 30240 / 33600], examples_per_second: 3889.5344, train_label_loss: 1.0859, \n"
     ]
    },
    {
     "name": "stdout",
     "output_type": "stream",
     "text": [
      "=============================================================\n",
      "epoch: 2, source_val_acc_label: 0.6711, target_val_acc_label: 0.7073, source_val_label_loss: 0.8647, target_val_label_loss: 6.8332, \n",
      "=============================================================\n"
     ]
    },
    {
     "name": "stdout",
     "output_type": "stream",
     "text": [
      "New best\n"
     ]
    },
    {
     "name": "stdout",
     "output_type": "stream",
     "text": [
      "epoch: 3, [batch: 1 / 33600], examples_per_second: 0.9939, train_label_loss: 0.5696, \n"
     ]
    },
    {
     "name": "stdout",
     "output_type": "stream",
     "text": [
      "epoch: 3, [batch: 3360 / 33600], examples_per_second: 3855.2895, train_label_loss: 0.8402, \n"
     ]
    },
    {
     "name": "stdout",
     "output_type": "stream",
     "text": [
      "epoch: 3, [batch: 6720 / 33600], examples_per_second: 3963.4695, train_label_loss: 0.7737, \n"
     ]
    },
    {
     "name": "stdout",
     "output_type": "stream",
     "text": [
      "epoch: 3, [batch: 10080 / 33600], examples_per_second: 4105.7307, train_label_loss: 0.6172, \n"
     ]
    },
    {
     "name": "stdout",
     "output_type": "stream",
     "text": [
      "epoch: 3, [batch: 13440 / 33600], examples_per_second: 4574.3704, train_label_loss: 0.5487, \n"
     ]
    },
    {
     "name": "stdout",
     "output_type": "stream",
     "text": [
      "epoch: 3, [batch: 16800 / 33600], examples_per_second: 3966.0157, train_label_loss: 0.9106, \n"
     ]
    },
    {
     "name": "stdout",
     "output_type": "stream",
     "text": [
      "epoch: 3, [batch: 20160 / 33600], examples_per_second: 3972.1883, train_label_loss: 1.3099, \n"
     ]
    },
    {
     "name": "stdout",
     "output_type": "stream",
     "text": [
      "epoch: 3, [batch: 23520 / 33600], examples_per_second: 3925.1794, train_label_loss: 0.9481, \n"
     ]
    },
    {
     "name": "stdout",
     "output_type": "stream",
     "text": [
      "epoch: 3, [batch: 26880 / 33600], examples_per_second: 3914.0634, train_label_loss: 0.4718, \n"
     ]
    },
    {
     "name": "stdout",
     "output_type": "stream",
     "text": [
      "epoch: 3, [batch: 30240 / 33600], examples_per_second: 3959.8821, train_label_loss: 0.7954, \n"
     ]
    },
    {
     "name": "stdout",
     "output_type": "stream",
     "text": [
      "=============================================================\n",
      "epoch: 3, source_val_acc_label: 0.7027, target_val_acc_label: 0.7363, source_val_label_loss: 0.8022, target_val_label_loss: 7.8454, \n",
      "=============================================================\n"
     ]
    },
    {
     "name": "stdout",
     "output_type": "stream",
     "text": [
      "New best\n"
     ]
    },
    {
     "name": "stdout",
     "output_type": "stream",
     "text": [
      "epoch: 4, [batch: 1 / 33600], examples_per_second: 1.0014, train_label_loss: 0.3698, \n"
     ]
    },
    {
     "name": "stdout",
     "output_type": "stream",
     "text": [
      "epoch: 4, [batch: 3360 / 33600], examples_per_second: 3928.3326, train_label_loss: 0.5861, \n"
     ]
    },
    {
     "name": "stdout",
     "output_type": "stream",
     "text": [
      "epoch: 4, [batch: 6720 / 33600], examples_per_second: 3975.8005, train_label_loss: 1.1731, \n"
     ]
    },
    {
     "name": "stdout",
     "output_type": "stream",
     "text": [
      "epoch: 4, [batch: 10080 / 33600], examples_per_second: 4208.2970, train_label_loss: 0.4417, \n"
     ]
    },
    {
     "name": "stdout",
     "output_type": "stream",
     "text": [
      "epoch: 4, [batch: 13440 / 33600], examples_per_second: 4818.7466, train_label_loss: 0.4272, \n"
     ]
    },
    {
     "name": "stdout",
     "output_type": "stream",
     "text": [
      "epoch: 4, [batch: 16800 / 33600], examples_per_second: 3841.7988, train_label_loss: 0.6903, \n"
     ]
    },
    {
     "name": "stdout",
     "output_type": "stream",
     "text": [
      "epoch: 4, [batch: 20160 / 33600], examples_per_second: 3902.4504, train_label_loss: 0.5159, \n"
     ]
    },
    {
     "name": "stdout",
     "output_type": "stream",
     "text": [
      "epoch: 4, [batch: 23520 / 33600], examples_per_second: 3881.6701, train_label_loss: 0.3396, \n"
     ]
    },
    {
     "name": "stdout",
     "output_type": "stream",
     "text": [
      "epoch: 4, [batch: 26880 / 33600], examples_per_second: 3968.7281, train_label_loss: 0.7340, \n"
     ]
    },
    {
     "name": "stdout",
     "output_type": "stream",
     "text": [
      "epoch: 4, [batch: 30240 / 33600], examples_per_second: 3993.0262, train_label_loss: 0.3397, \n"
     ]
    },
    {
     "name": "stdout",
     "output_type": "stream",
     "text": [
      "=============================================================\n",
      "epoch: 4, source_val_acc_label: 0.7218, target_val_acc_label: 0.7523, source_val_label_loss: 0.7596, target_val_label_loss: 8.1421, \n",
      "=============================================================\n"
     ]
    },
    {
     "name": "stdout",
     "output_type": "stream",
     "text": [
      "New best\n"
     ]
    },
    {
     "name": "stdout",
     "output_type": "stream",
     "text": [
      "epoch: 5, [batch: 1 / 33600], examples_per_second: 1.0189, train_label_loss: 1.0105, \n"
     ]
    },
    {
     "name": "stdout",
     "output_type": "stream",
     "text": [
      "epoch: 5, [batch: 3360 / 33600], examples_per_second: 3924.7368, train_label_loss: 0.4777, \n"
     ]
    },
    {
     "name": "stdout",
     "output_type": "stream",
     "text": [
      "epoch: 5, [batch: 6720 / 33600], examples_per_second: 3989.2052, train_label_loss: 0.3167, \n"
     ]
    },
    {
     "name": "stdout",
     "output_type": "stream",
     "text": [
      "epoch: 5, [batch: 10080 / 33600], examples_per_second: 4158.1270, train_label_loss: 0.5368, \n"
     ]
    },
    {
     "name": "stdout",
     "output_type": "stream",
     "text": [
      "epoch: 5, [batch: 13440 / 33600], examples_per_second: 4540.3604, train_label_loss: 0.8071, \n"
     ]
    },
    {
     "name": "stdout",
     "output_type": "stream",
     "text": [
      "epoch: 5, [batch: 16800 / 33600], examples_per_second: 3883.1334, train_label_loss: 0.7366, \n"
     ]
    },
    {
     "name": "stdout",
     "output_type": "stream",
     "text": [
      "epoch: 5, [batch: 20160 / 33600], examples_per_second: 3893.5690, train_label_loss: 0.7516, \n"
     ]
    },
    {
     "name": "stdout",
     "output_type": "stream",
     "text": [
      "epoch: 5, [batch: 23520 / 33600], examples_per_second: 3916.4187, train_label_loss: 0.4857, \n"
     ]
    },
    {
     "name": "stdout",
     "output_type": "stream",
     "text": [
      "epoch: 5, [batch: 26880 / 33600], examples_per_second: 4017.4796, train_label_loss: 0.2433, \n"
     ]
    },
    {
     "name": "stdout",
     "output_type": "stream",
     "text": [
      "epoch: 5, [batch: 30240 / 33600], examples_per_second: 3896.2144, train_label_loss: 0.7171, \n"
     ]
    },
    {
     "name": "stdout",
     "output_type": "stream",
     "text": [
      "=============================================================\n",
      "epoch: 5, source_val_acc_label: 0.7260, target_val_acc_label: 0.7655, source_val_label_loss: 0.7536, target_val_label_loss: 8.5890, \n",
      "=============================================================\n"
     ]
    },
    {
     "name": "stdout",
     "output_type": "stream",
     "text": [
      "New best\n"
     ]
    },
    {
     "name": "stdout",
     "output_type": "stream",
     "text": [
      "epoch: 6, [batch: 1 / 33600], examples_per_second: 1.0069, train_label_loss: 0.3931, \n"
     ]
    },
    {
     "name": "stdout",
     "output_type": "stream",
     "text": [
      "epoch: 6, [batch: 3360 / 33600], examples_per_second: 3899.6709, train_label_loss: 0.7927, \n"
     ]
    },
    {
     "name": "stdout",
     "output_type": "stream",
     "text": [
      "epoch: 6, [batch: 6720 / 33600], examples_per_second: 3899.3296, train_label_loss: 0.5254, \n"
     ]
    },
    {
     "name": "stdout",
     "output_type": "stream",
     "text": [
      "epoch: 6, [batch: 10080 / 33600], examples_per_second: 4199.5922, train_label_loss: 0.4685, \n"
     ]
    },
    {
     "name": "stdout",
     "output_type": "stream",
     "text": [
      "epoch: 6, [batch: 13440 / 33600], examples_per_second: 4742.1464, train_label_loss: 0.3591, \n"
     ]
    },
    {
     "name": "stdout",
     "output_type": "stream",
     "text": [
      "epoch: 6, [batch: 16800 / 33600], examples_per_second: 3845.2154, train_label_loss: 0.5016, \n"
     ]
    },
    {
     "name": "stdout",
     "output_type": "stream",
     "text": [
      "epoch: 6, [batch: 20160 / 33600], examples_per_second: 3992.4732, train_label_loss: 0.5948, \n"
     ]
    },
    {
     "name": "stdout",
     "output_type": "stream",
     "text": [
      "epoch: 6, [batch: 23520 / 33600], examples_per_second: 3922.1966, train_label_loss: 0.5858, \n"
     ]
    },
    {
     "name": "stdout",
     "output_type": "stream",
     "text": [
      "epoch: 6, [batch: 26880 / 33600], examples_per_second: 3952.5721, train_label_loss: 0.5016, \n"
     ]
    },
    {
     "name": "stdout",
     "output_type": "stream",
     "text": [
      "epoch: 6, [batch: 30240 / 33600], examples_per_second: 3973.3888, train_label_loss: 0.5005, \n"
     ]
    },
    {
     "name": "stdout",
     "output_type": "stream",
     "text": [
      "=============================================================\n",
      "epoch: 6, source_val_acc_label: 0.7277, target_val_acc_label: 0.7632, source_val_label_loss: 0.7546, target_val_label_loss: 9.4666, \n",
      "=============================================================\n"
     ]
    },
    {
     "name": "stdout",
     "output_type": "stream",
     "text": [
      "epoch: 7, [batch: 1 / 33600], examples_per_second: 1.0037, train_label_loss: 0.5129, \n"
     ]
    },
    {
     "name": "stdout",
     "output_type": "stream",
     "text": [
      "epoch: 7, [batch: 3360 / 33600], examples_per_second: 3944.0573, train_label_loss: 1.0550, \n"
     ]
    },
    {
     "name": "stdout",
     "output_type": "stream",
     "text": [
      "epoch: 7, [batch: 6720 / 33600], examples_per_second: 3919.2013, train_label_loss: 0.2707, \n"
     ]
    },
    {
     "name": "stdout",
     "output_type": "stream",
     "text": [
      "epoch: 7, [batch: 10080 / 33600], examples_per_second: 4143.3368, train_label_loss: 0.3171, \n"
     ]
    },
    {
     "name": "stdout",
     "output_type": "stream",
     "text": [
      "epoch: 7, [batch: 13440 / 33600], examples_per_second: 4638.3575, train_label_loss: 0.2872, \n"
     ]
    },
    {
     "name": "stdout",
     "output_type": "stream",
     "text": [
      "epoch: 7, [batch: 16800 / 33600], examples_per_second: 4102.4081, train_label_loss: 0.5922, \n"
     ]
    },
    {
     "name": "stdout",
     "output_type": "stream",
     "text": [
      "epoch: 7, [batch: 20160 / 33600], examples_per_second: 4026.1318, train_label_loss: 0.3715, \n"
     ]
    },
    {
     "name": "stdout",
     "output_type": "stream",
     "text": [
      "epoch: 7, [batch: 23520 / 33600], examples_per_second: 3929.5748, train_label_loss: 0.3979, \n"
     ]
    },
    {
     "name": "stdout",
     "output_type": "stream",
     "text": [
      "epoch: 7, [batch: 26880 / 33600], examples_per_second: 3878.4477, train_label_loss: 0.3365, \n"
     ]
    },
    {
     "name": "stdout",
     "output_type": "stream",
     "text": [
      "epoch: 7, [batch: 30240 / 33600], examples_per_second: 3927.3858, train_label_loss: 0.5576, \n"
     ]
    },
    {
     "name": "stdout",
     "output_type": "stream",
     "text": [
      "=============================================================\n",
      "epoch: 7, source_val_acc_label: 0.7332, target_val_acc_label: 0.7697, source_val_label_loss: 0.7521, target_val_label_loss: 9.8223, \n",
      "=============================================================\n"
     ]
    },
    {
     "name": "stdout",
     "output_type": "stream",
     "text": [
      "New best\n"
     ]
    },
    {
     "name": "stdout",
     "output_type": "stream",
     "text": [
      "epoch: 8, [batch: 1 / 33600], examples_per_second: 1.0054, train_label_loss: 0.4787, \n"
     ]
    },
    {
     "name": "stdout",
     "output_type": "stream",
     "text": [
      "epoch: 8, [batch: 3360 / 33600], examples_per_second: 3848.8935, train_label_loss: 0.2987, \n"
     ]
    },
    {
     "name": "stdout",
     "output_type": "stream",
     "text": [
      "epoch: 8, [batch: 6720 / 33600], examples_per_second: 3871.5714, train_label_loss: 0.5223, \n"
     ]
    },
    {
     "name": "stdout",
     "output_type": "stream",
     "text": [
      "epoch: 8, [batch: 10080 / 33600], examples_per_second: 4007.4955, train_label_loss: 0.2347, \n"
     ]
    },
    {
     "name": "stdout",
     "output_type": "stream",
     "text": [
      "epoch: 8, [batch: 13440 / 33600], examples_per_second: 4489.9477, train_label_loss: 0.4452, \n"
     ]
    },
    {
     "name": "stdout",
     "output_type": "stream",
     "text": [
      "epoch: 8, [batch: 16800 / 33600], examples_per_second: 3916.9047, train_label_loss: 0.1533, \n"
     ]
    },
    {
     "name": "stdout",
     "output_type": "stream",
     "text": [
      "epoch: 8, [batch: 20160 / 33600], examples_per_second: 3971.8498, train_label_loss: 0.1694, \n"
     ]
    },
    {
     "name": "stdout",
     "output_type": "stream",
     "text": [
      "epoch: 8, [batch: 23520 / 33600], examples_per_second: 3961.8305, train_label_loss: 0.9044, \n"
     ]
    },
    {
     "name": "stdout",
     "output_type": "stream",
     "text": [
      "epoch: 8, [batch: 26880 / 33600], examples_per_second: 3955.5783, train_label_loss: 0.4844, \n"
     ]
    },
    {
     "name": "stdout",
     "output_type": "stream",
     "text": [
      "epoch: 8, [batch: 30240 / 33600], examples_per_second: 3975.7859, train_label_loss: 0.6778, \n"
     ]
    },
    {
     "name": "stdout",
     "output_type": "stream",
     "text": [
      "=============================================================\n",
      "epoch: 8, source_val_acc_label: 0.7322, target_val_acc_label: 0.7741, source_val_label_loss: 0.7578, target_val_label_loss: 9.9375, \n",
      "=============================================================\n"
     ]
    },
    {
     "name": "stdout",
     "output_type": "stream",
     "text": [
      "New best\n"
     ]
    },
    {
     "name": "stdout",
     "output_type": "stream",
     "text": [
      "epoch: 9, [batch: 1 / 33600], examples_per_second: 1.0123, train_label_loss: 0.6574, \n"
     ]
    },
    {
     "name": "stdout",
     "output_type": "stream",
     "text": [
      "epoch: 9, [batch: 3360 / 33600], examples_per_second: 3888.5138, train_label_loss: 0.1212, \n"
     ]
    },
    {
     "name": "stdout",
     "output_type": "stream",
     "text": [
      "epoch: 9, [batch: 6720 / 33600], examples_per_second: 4024.2579, train_label_loss: 0.4918, \n"
     ]
    },
    {
     "name": "stdout",
     "output_type": "stream",
     "text": [
      "epoch: 9, [batch: 10080 / 33600], examples_per_second: 4058.1837, train_label_loss: 0.2970, \n"
     ]
    },
    {
     "name": "stdout",
     "output_type": "stream",
     "text": [
      "epoch: 9, [batch: 13440 / 33600], examples_per_second: 4665.3480, train_label_loss: 0.4480, \n"
     ]
    },
    {
     "name": "stdout",
     "output_type": "stream",
     "text": [
      "epoch: 9, [batch: 16800 / 33600], examples_per_second: 4005.6581, train_label_loss: 0.6659, \n"
     ]
    },
    {
     "name": "stdout",
     "output_type": "stream",
     "text": [
      "epoch: 9, [batch: 20160 / 33600], examples_per_second: 3992.3208, train_label_loss: 0.2924, \n"
     ]
    },
    {
     "name": "stdout",
     "output_type": "stream",
     "text": [
      "epoch: 9, [batch: 23520 / 33600], examples_per_second: 3928.4667, train_label_loss: 0.5465, \n"
     ]
    },
    {
     "name": "stdout",
     "output_type": "stream",
     "text": [
      "epoch: 9, [batch: 26880 / 33600], examples_per_second: 3913.0445, train_label_loss: 0.2779, \n"
     ]
    },
    {
     "name": "stdout",
     "output_type": "stream",
     "text": [
      "epoch: 9, [batch: 30240 / 33600], examples_per_second: 3934.5992, train_label_loss: 0.2478, \n"
     ]
    },
    {
     "name": "stdout",
     "output_type": "stream",
     "text": [
      "=============================================================\n",
      "epoch: 9, source_val_acc_label: 0.7338, target_val_acc_label: 0.7804, source_val_label_loss: 0.7644, target_val_label_loss: 10.3858, \n",
      "=============================================================\n"
     ]
    },
    {
     "name": "stdout",
     "output_type": "stream",
     "text": [
      "New best\n"
     ]
    },
    {
     "name": "stdout",
     "output_type": "stream",
     "text": [
      "epoch: 10, [batch: 1 / 33600], examples_per_second: 1.0057, train_label_loss: 0.4397, \n"
     ]
    },
    {
     "name": "stdout",
     "output_type": "stream",
     "text": [
      "epoch: 10, [batch: 3360 / 33600], examples_per_second: 3914.6404, train_label_loss: 0.2294, \n"
     ]
    },
    {
     "name": "stdout",
     "output_type": "stream",
     "text": [
      "epoch: 10, [batch: 6720 / 33600], examples_per_second: 3926.9350, train_label_loss: 0.3516, \n"
     ]
    },
    {
     "name": "stdout",
     "output_type": "stream",
     "text": [
      "epoch: 10, [batch: 10080 / 33600], examples_per_second: 4084.4565, train_label_loss: 0.5094, \n"
     ]
    },
    {
     "name": "stdout",
     "output_type": "stream",
     "text": [
      "epoch: 10, [batch: 13440 / 33600], examples_per_second: 4705.4091, train_label_loss: 0.5532, \n"
     ]
    },
    {
     "name": "stdout",
     "output_type": "stream",
     "text": [
      "epoch: 10, [batch: 16800 / 33600], examples_per_second: 4078.6817, train_label_loss: 0.4050, \n"
     ]
    },
    {
     "name": "stdout",
     "output_type": "stream",
     "text": [
      "epoch: 10, [batch: 20160 / 33600], examples_per_second: 3911.8258, train_label_loss: 0.8584, \n"
     ]
    },
    {
     "name": "stdout",
     "output_type": "stream",
     "text": [
      "epoch: 10, [batch: 23520 / 33600], examples_per_second: 3933.4677, train_label_loss: 0.2587, \n"
     ]
    },
    {
     "name": "stdout",
     "output_type": "stream",
     "text": [
      "epoch: 10, [batch: 26880 / 33600], examples_per_second: 3915.4612, train_label_loss: 0.3124, \n"
     ]
    },
    {
     "name": "stdout",
     "output_type": "stream",
     "text": [
      "epoch: 10, [batch: 30240 / 33600], examples_per_second: 3826.6168, train_label_loss: 0.4052, \n"
     ]
    },
    {
     "name": "stdout",
     "output_type": "stream",
     "text": [
      "=============================================================\n",
      "epoch: 10, source_val_acc_label: 0.7317, target_val_acc_label: 0.7804, source_val_label_loss: 0.7837, target_val_label_loss: 10.7371, \n",
      "=============================================================\n"
     ]
    },
    {
     "name": "stdout",
     "output_type": "stream",
     "text": [
      "epoch: 11, [batch: 1 / 33600], examples_per_second: 0.9994, train_label_loss: 0.2525, \n"
     ]
    },
    {
     "name": "stdout",
     "output_type": "stream",
     "text": [
      "epoch: 11, [batch: 3360 / 33600], examples_per_second: 3906.6129, train_label_loss: 0.2952, \n"
     ]
    },
    {
     "name": "stdout",
     "output_type": "stream",
     "text": [
      "epoch: 11, [batch: 6720 / 33600], examples_per_second: 3938.7795, train_label_loss: 0.3394, \n"
     ]
    },
    {
     "name": "stdout",
     "output_type": "stream",
     "text": [
      "epoch: 11, [batch: 10080 / 33600], examples_per_second: 4081.6715, train_label_loss: 0.3640, \n"
     ]
    },
    {
     "name": "stdout",
     "output_type": "stream",
     "text": [
      "epoch: 11, [batch: 13440 / 33600], examples_per_second: 4498.6958, train_label_loss: 0.2301, \n"
     ]
    },
    {
     "name": "stdout",
     "output_type": "stream",
     "text": [
      "epoch: 11, [batch: 16800 / 33600], examples_per_second: 4032.4113, train_label_loss: 0.1279, \n"
     ]
    },
    {
     "name": "stdout",
     "output_type": "stream",
     "text": [
      "epoch: 11, [batch: 20160 / 33600], examples_per_second: 3967.3784, train_label_loss: 0.3902, \n"
     ]
    },
    {
     "name": "stdout",
     "output_type": "stream",
     "text": [
      "epoch: 11, [batch: 23520 / 33600], examples_per_second: 3871.3345, train_label_loss: 0.6347, \n"
     ]
    },
    {
     "name": "stdout",
     "output_type": "stream",
     "text": [
      "epoch: 11, [batch: 26880 / 33600], examples_per_second: 3926.4409, train_label_loss: 0.3922, \n"
     ]
    },
    {
     "name": "stdout",
     "output_type": "stream",
     "text": [
      "epoch: 11, [batch: 30240 / 33600], examples_per_second: 4019.4186, train_label_loss: 0.4256, \n"
     ]
    },
    {
     "name": "stdout",
     "output_type": "stream",
     "text": [
      "=============================================================\n",
      "epoch: 11, source_val_acc_label: 0.7280, target_val_acc_label: 0.7820, source_val_label_loss: 0.8100, target_val_label_loss: 11.3599, \n",
      "=============================================================\n"
     ]
    },
    {
     "name": "stdout",
     "output_type": "stream",
     "text": [
      "New best\n"
     ]
    },
    {
     "name": "stdout",
     "output_type": "stream",
     "text": [
      "epoch: 12, [batch: 1 / 33600], examples_per_second: 1.0128, train_label_loss: 0.3098, \n"
     ]
    },
    {
     "name": "stdout",
     "output_type": "stream",
     "text": [
      "epoch: 12, [batch: 3360 / 33600], examples_per_second: 3884.0612, train_label_loss: 0.2983, \n"
     ]
    },
    {
     "name": "stdout",
     "output_type": "stream",
     "text": [
      "epoch: 12, [batch: 6720 / 33600], examples_per_second: 3932.3649, train_label_loss: 0.4344, \n"
     ]
    },
    {
     "name": "stdout",
     "output_type": "stream",
     "text": [
      "epoch: 12, [batch: 10080 / 33600], examples_per_second: 4118.7286, train_label_loss: 0.3960, \n"
     ]
    },
    {
     "name": "stdout",
     "output_type": "stream",
     "text": [
      "epoch: 12, [batch: 13440 / 33600], examples_per_second: 4572.8960, train_label_loss: 0.2212, \n"
     ]
    },
    {
     "name": "stdout",
     "output_type": "stream",
     "text": [
      "epoch: 12, [batch: 16800 / 33600], examples_per_second: 4336.6757, train_label_loss: 0.5657, \n"
     ]
    },
    {
     "name": "stdout",
     "output_type": "stream",
     "text": [
      "epoch: 12, [batch: 20160 / 33600], examples_per_second: 3911.5554, train_label_loss: 0.2167, \n"
     ]
    },
    {
     "name": "stdout",
     "output_type": "stream",
     "text": [
      "epoch: 12, [batch: 23520 / 33600], examples_per_second: 3847.0948, train_label_loss: 0.4217, \n"
     ]
    },
    {
     "name": "stdout",
     "output_type": "stream",
     "text": [
      "epoch: 12, [batch: 26880 / 33600], examples_per_second: 3911.0313, train_label_loss: 0.3412, \n"
     ]
    },
    {
     "name": "stdout",
     "output_type": "stream",
     "text": [
      "epoch: 12, [batch: 30240 / 33600], examples_per_second: 3959.7737, train_label_loss: 0.6348, \n"
     ]
    },
    {
     "name": "stdout",
     "output_type": "stream",
     "text": [
      "=============================================================\n",
      "epoch: 12, source_val_acc_label: 0.7303, target_val_acc_label: 0.7764, source_val_label_loss: 0.8377, target_val_label_loss: 12.1621, \n",
      "=============================================================\n"
     ]
    },
    {
     "name": "stdout",
     "output_type": "stream",
     "text": [
      "epoch: 13, [batch: 1 / 33600], examples_per_second: 1.0159, train_label_loss: 0.4040, \n"
     ]
    },
    {
     "name": "stdout",
     "output_type": "stream",
     "text": [
      "epoch: 13, [batch: 3360 / 33600], examples_per_second: 3846.8134, train_label_loss: 0.2962, \n"
     ]
    },
    {
     "name": "stdout",
     "output_type": "stream",
     "text": [
      "epoch: 13, [batch: 6720 / 33600], examples_per_second: 3918.9504, train_label_loss: 0.3226, \n"
     ]
    },
    {
     "name": "stdout",
     "output_type": "stream",
     "text": [
      "epoch: 13, [batch: 10080 / 33600], examples_per_second: 4049.6694, train_label_loss: 0.3615, \n"
     ]
    },
    {
     "name": "stdout",
     "output_type": "stream",
     "text": [
      "epoch: 13, [batch: 13440 / 33600], examples_per_second: 4398.0443, train_label_loss: 0.4636, \n"
     ]
    },
    {
     "name": "stdout",
     "output_type": "stream",
     "text": [
      "epoch: 13, [batch: 16800 / 33600], examples_per_second: 4257.6464, train_label_loss: 0.3794, \n"
     ]
    },
    {
     "name": "stdout",
     "output_type": "stream",
     "text": [
      "epoch: 13, [batch: 20160 / 33600], examples_per_second: 4022.7582, train_label_loss: 0.6637, \n"
     ]
    },
    {
     "name": "stdout",
     "output_type": "stream",
     "text": [
      "epoch: 13, [batch: 23520 / 33600], examples_per_second: 3951.9509, train_label_loss: 0.3592, \n"
     ]
    },
    {
     "name": "stdout",
     "output_type": "stream",
     "text": [
      "epoch: 13, [batch: 26880 / 33600], examples_per_second: 3917.4213, train_label_loss: 0.1784, \n"
     ]
    },
    {
     "name": "stdout",
     "output_type": "stream",
     "text": [
      "epoch: 13, [batch: 30240 / 33600], examples_per_second: 3905.6081, train_label_loss: 0.0252, \n"
     ]
    },
    {
     "name": "stdout",
     "output_type": "stream",
     "text": [
      "=============================================================\n",
      "epoch: 13, source_val_acc_label: 0.7259, target_val_acc_label: 0.7808, source_val_label_loss: 0.8554, target_val_label_loss: 11.9249, \n",
      "=============================================================\n"
     ]
    },
    {
     "name": "stdout",
     "output_type": "stream",
     "text": [
      "epoch: 14, [batch: 1 / 33600], examples_per_second: 1.0044, train_label_loss: 0.3444, \n"
     ]
    },
    {
     "name": "stdout",
     "output_type": "stream",
     "text": [
      "epoch: 14, [batch: 3360 / 33600], examples_per_second: 3966.5994, train_label_loss: 0.2374, \n"
     ]
    },
    {
     "name": "stdout",
     "output_type": "stream",
     "text": [
      "epoch: 14, [batch: 6720 / 33600], examples_per_second: 3937.9064, train_label_loss: 0.6206, \n"
     ]
    },
    {
     "name": "stdout",
     "output_type": "stream",
     "text": [
      "epoch: 14, [batch: 10080 / 33600], examples_per_second: 3998.3089, train_label_loss: 0.2720, \n"
     ]
    },
    {
     "name": "stdout",
     "output_type": "stream",
     "text": [
      "epoch: 14, [batch: 13440 / 33600], examples_per_second: 4399.8444, train_label_loss: 0.3169, \n"
     ]
    },
    {
     "name": "stdout",
     "output_type": "stream",
     "text": [
      "epoch: 14, [batch: 16800 / 33600], examples_per_second: 4155.9603, train_label_loss: 0.0576, \n"
     ]
    },
    {
     "name": "stdout",
     "output_type": "stream",
     "text": [
      "epoch: 14, [batch: 20160 / 33600], examples_per_second: 3930.2842, train_label_loss: 0.1573, \n"
     ]
    },
    {
     "name": "stdout",
     "output_type": "stream",
     "text": [
      "epoch: 14, [batch: 23520 / 33600], examples_per_second: 3926.1200, train_label_loss: 0.3363, \n"
     ]
    },
    {
     "name": "stdout",
     "output_type": "stream",
     "text": [
      "epoch: 14, [batch: 26880 / 33600], examples_per_second: 3954.4292, train_label_loss: 0.1209, \n"
     ]
    },
    {
     "name": "stdout",
     "output_type": "stream",
     "text": [
      "epoch: 14, [batch: 30240 / 33600], examples_per_second: 3973.6656, train_label_loss: 0.4193, \n"
     ]
    },
    {
     "name": "stdout",
     "output_type": "stream",
     "text": [
      "=============================================================\n",
      "epoch: 14, source_val_acc_label: 0.7290, target_val_acc_label: 0.7769, source_val_label_loss: 0.8764, target_val_label_loss: 12.7454, \n",
      "=============================================================\n"
     ]
    },
    {
     "name": "stdout",
     "output_type": "stream",
     "text": [
      "epoch: 15, [batch: 1 / 33600], examples_per_second: 1.0006, train_label_loss: 0.3851, \n"
     ]
    },
    {
     "name": "stdout",
     "output_type": "stream",
     "text": [
      "epoch: 15, [batch: 3360 / 33600], examples_per_second: 3886.2287, train_label_loss: 0.0443, \n"
     ]
    },
    {
     "name": "stdout",
     "output_type": "stream",
     "text": [
      "epoch: 15, [batch: 6720 / 33600], examples_per_second: 3893.1425, train_label_loss: 0.2034, \n"
     ]
    },
    {
     "name": "stdout",
     "output_type": "stream",
     "text": [
      "epoch: 15, [batch: 10080 / 33600], examples_per_second: 3958.0750, train_label_loss: 0.2365, \n"
     ]
    },
    {
     "name": "stdout",
     "output_type": "stream",
     "text": [
      "epoch: 15, [batch: 13440 / 33600], examples_per_second: 4469.9076, train_label_loss: 0.4024, \n"
     ]
    },
    {
     "name": "stdout",
     "output_type": "stream",
     "text": [
      "epoch: 15, [batch: 16800 / 33600], examples_per_second: 3941.5086, train_label_loss: 0.2095, \n"
     ]
    },
    {
     "name": "stdout",
     "output_type": "stream",
     "text": [
      "epoch: 15, [batch: 20160 / 33600], examples_per_second: 3904.1320, train_label_loss: 0.1453, \n"
     ]
    },
    {
     "name": "stdout",
     "output_type": "stream",
     "text": [
      "epoch: 15, [batch: 23520 / 33600], examples_per_second: 3868.0531, train_label_loss: 0.3571, \n"
     ]
    },
    {
     "name": "stdout",
     "output_type": "stream",
     "text": [
      "epoch: 15, [batch: 26880 / 33600], examples_per_second: 4024.6528, train_label_loss: 0.3546, \n"
     ]
    },
    {
     "name": "stdout",
     "output_type": "stream",
     "text": [
      "epoch: 15, [batch: 30240 / 33600], examples_per_second: 4008.9415, train_label_loss: 0.3203, \n"
     ]
    },
    {
     "name": "stdout",
     "output_type": "stream",
     "text": [
      "=============================================================\n",
      "epoch: 15, source_val_acc_label: 0.7238, target_val_acc_label: 0.7787, source_val_label_loss: 0.8974, target_val_label_loss: 13.1971, \n",
      "=============================================================\n"
     ]
    },
    {
     "name": "stdout",
     "output_type": "stream",
     "text": [
      "Patience (3) exhausted\n"
     ]
    }
   ],
   "source": [
    "###################################\n",
    "# train\n",
    "###################################\n",
    "jig = PTN_Train_Eval_Test_Jig(model, p.BEST_MODEL_PATH, p.device)\n",
    "\n",
    "jig.train(\n",
    "    train_iterable=datasets.source.processed.train,\n",
    "    source_val_iterable=datasets.source.processed.val,\n",
    "    target_val_iterable=datasets.target.processed.val,\n",
    "    num_epochs=p.n_epoch,\n",
    "    num_logs_per_epoch=p.NUM_LOGS_PER_EPOCH,\n",
    "    patience=p.patience,\n",
    "    optimizer=optimizer,\n",
    "    criteria_for_best=p.criteria_for_best,\n",
    ")"
   ]
  },
  {
   "cell_type": "code",
   "execution_count": 23,
   "id": "31e8fabf",
   "metadata": {
    "execution": {
     "iopub.execute_input": "2022-03-23T12:15:52.626195Z",
     "iopub.status.busy": "2022-03-23T12:15:52.625643Z",
     "iopub.status.idle": "2022-03-23T12:15:52.659802Z",
     "shell.execute_reply": "2022-03-23T12:15:52.659020Z"
    },
    "papermill": {
     "duration": 0.106489,
     "end_time": "2022-03-23T12:15:52.659990",
     "exception": false,
     "start_time": "2022-03-23T12:15:52.553501",
     "status": "completed"
    },
    "tags": []
   },
   "outputs": [],
   "source": [
    "total_experiment_time_secs = time.time() - start_time_secs"
   ]
  },
  {
   "cell_type": "code",
   "execution_count": 24,
   "id": "87b9595b",
   "metadata": {
    "execution": {
     "iopub.execute_input": "2022-03-23T12:15:52.814941Z",
     "iopub.status.busy": "2022-03-23T12:15:52.814069Z",
     "iopub.status.idle": "2022-03-23T12:24:16.810910Z",
     "shell.execute_reply": "2022-03-23T12:24:16.810119Z"
    },
    "papermill": {
     "duration": 504.075514,
     "end_time": "2022-03-23T12:24:16.811107",
     "exception": false,
     "start_time": "2022-03-23T12:15:52.735593",
     "status": "completed"
    },
    "tags": []
   },
   "outputs": [],
   "source": [
    "###################################\n",
    "# Evaluate the model\n",
    "###################################\n",
    "source_test_label_accuracy, source_test_label_loss = jig.test(datasets.source.processed.test)\n",
    "target_test_label_accuracy, target_test_label_loss = jig.test(datasets.target.processed.test)\n",
    "\n",
    "source_val_label_accuracy, source_val_label_loss = jig.test(datasets.source.processed.val)\n",
    "target_val_label_accuracy, target_val_label_loss = jig.test(datasets.target.processed.val)\n",
    "\n",
    "history = jig.get_history()\n",
    "\n",
    "total_epochs_trained = len(history[\"epoch_indices\"])\n",
    "\n",
    "val_dl = Iterable_Aggregator((datasets.source.original.val,datasets.target.original.val))\n",
    "\n",
    "confusion = ptn_confusion_by_domain_over_dataloader(model, p.device, val_dl)\n",
    "per_domain_accuracy = per_domain_accuracy_from_confusion(confusion)\n",
    "\n",
    "# Add a key to per_domain_accuracy for if it was a source domain\n",
    "for domain, accuracy in per_domain_accuracy.items():\n",
    "    per_domain_accuracy[domain] = {\n",
    "        \"accuracy\": accuracy,\n",
    "        \"source?\": domain in p.domains_source\n",
    "    }\n",
    "\n",
    "# Do an independent accuracy assesment JUST TO BE SURE!\n",
    "# _source_test_label_accuracy = independent_accuracy_assesment(model, datasets.source.processed.test, p.device)\n",
    "# _target_test_label_accuracy = independent_accuracy_assesment(model, datasets.target.processed.test, p.device)\n",
    "# _source_val_label_accuracy = independent_accuracy_assesment(model, datasets.source.processed.val, p.device)\n",
    "# _target_val_label_accuracy = independent_accuracy_assesment(model, datasets.target.processed.val, p.device)\n",
    "\n",
    "# assert(_source_test_label_accuracy == source_test_label_accuracy)\n",
    "# assert(_target_test_label_accuracy == target_test_label_accuracy)\n",
    "# assert(_source_val_label_accuracy == source_val_label_accuracy)\n",
    "# assert(_target_val_label_accuracy == target_val_label_accuracy)\n",
    "\n",
    "experiment = {\n",
    "    \"experiment_name\": p.experiment_name,\n",
    "    \"parameters\": dict(p),\n",
    "    \"results\": {\n",
    "        \"source_test_label_accuracy\": source_test_label_accuracy,\n",
    "        \"source_test_label_loss\": source_test_label_loss,\n",
    "        \"target_test_label_accuracy\": target_test_label_accuracy,\n",
    "        \"target_test_label_loss\": target_test_label_loss,\n",
    "        \"source_val_label_accuracy\": source_val_label_accuracy,\n",
    "        \"source_val_label_loss\": source_val_label_loss,\n",
    "        \"target_val_label_accuracy\": target_val_label_accuracy,\n",
    "        \"target_val_label_loss\": target_val_label_loss,\n",
    "        \"total_epochs_trained\": total_epochs_trained,\n",
    "        \"total_experiment_time_secs\": total_experiment_time_secs,\n",
    "        \"confusion\": confusion,\n",
    "        \"per_domain_accuracy\": per_domain_accuracy,\n",
    "    },\n",
    "    \"history\": history,\n",
    "    \"dataset_metrics\": get_dataset_metrics(datasets, \"ptn\"),\n",
    "}"
   ]
  },
  {
   "cell_type": "code",
   "execution_count": 25,
   "id": "54a21829",
   "metadata": {
    "execution": {
     "iopub.execute_input": "2022-03-23T12:24:16.962162Z",
     "iopub.status.busy": "2022-03-23T12:24:16.961374Z",
     "iopub.status.idle": "2022-03-23T12:24:17.182002Z",
     "shell.execute_reply": "2022-03-23T12:24:17.181014Z"
    },
    "papermill": {
     "duration": 0.29386,
     "end_time": "2022-03-23T12:24:17.182184",
     "exception": false,
     "start_time": "2022-03-23T12:24:16.888324",
     "status": "completed"
    },
    "tags": []
   },
   "outputs": [
    {
     "data": {
      "image/png": "[encoded data removed]",
      "text/plain": [
       "<Figure size 1080x504 with 1 Axes>"
      ]
     },
     "metadata": {
      "needs_background": "light"
     },
     "output_type": "display_data"
    }
   ],
   "source": [
    "ax = get_loss_curve(experiment)\n",
    "plt.show()"
   ]
  },
  {
   "cell_type": "code",
   "execution_count": 26,
   "id": "fd8a0f60",
   "metadata": {
    "execution": {
     "iopub.execute_input": "2022-03-23T12:24:17.330940Z",
     "iopub.status.busy": "2022-03-23T12:24:17.330564Z",
     "iopub.status.idle": "2022-03-23T12:24:17.676943Z",
     "shell.execute_reply": "2022-03-23T12:24:17.677625Z"
    },
    "papermill": {
     "duration": 0.419664,
     "end_time": "2022-03-23T12:24:17.677831",
     "exception": false,
     "start_time": "2022-03-23T12:24:17.258167",
     "status": "completed"
    },
    "tags": []
   },
   "outputs": [
    {
     "data": {
      "text/plain": [
       "<AxesSubplot:title={'center':'Results'}>"
      ]
     },
     "execution_count": 26,
     "metadata": {},
     "output_type": "execute_result"
    },
    {
     "data": {
      "image/png": "[encoded data removed]",
      "text/plain": [
       "<Figure size 1080x504 with 1 Axes>"
      ]
     },
     "metadata": {
      "needs_background": "light"
     },
     "output_type": "display_data"
    }
   ],
   "source": [
    "get_results_table(experiment)"
   ]
  },
  {
   "cell_type": "code",
   "execution_count": 27,
   "id": "cf8dc689",
   "metadata": {
    "execution": {
     "iopub.execute_input": "2022-03-23T12:24:17.830057Z",
     "iopub.status.busy": "2022-03-23T12:24:17.829693Z",
     "iopub.status.idle": "2022-03-23T12:24:18.082025Z",
     "shell.execute_reply": "2022-03-23T12:24:18.081219Z"
    },
    "papermill": {
     "duration": 0.326028,
     "end_time": "2022-03-23T12:24:18.082197",
     "exception": false,
     "start_time": "2022-03-23T12:24:17.756169",
     "status": "completed"
    },
    "tags": []
   },
   "outputs": [
    {
     "data": {
      "text/plain": [
       "<AxesSubplot:title={'center':'Per Domain Validation Accuracy'}, xlabel='domain'>"
      ]
     },
     "execution_count": 27,
     "metadata": {},
     "output_type": "execute_result"
    },
    {
     "data": {
      "image/png": "[encoded data removed]",
      "text/plain": [
       "<Figure size 1080x504 with 1 Axes>"
      ]
     },
     "metadata": {
      "needs_background": "light"
     },
     "output_type": "display_data"
    }
   ],
   "source": [
    "get_domain_accuracies(experiment)"
   ]
  },
  {
   "cell_type": "code",
   "execution_count": 28,
   "id": "a74ae082",
   "metadata": {
    "execution": {
     "iopub.execute_input": "2022-03-23T12:24:18.239587Z",
     "iopub.status.busy": "2022-03-23T12:24:18.239197Z",
     "iopub.status.idle": "2022-03-23T12:24:18.262893Z",
     "shell.execute_reply": "2022-03-23T12:24:18.262084Z"
    },
    "papermill": {
     "duration": 0.100932,
     "end_time": "2022-03-23T12:24:18.263054",
     "exception": false,
     "start_time": "2022-03-23T12:24:18.162122",
     "status": "completed"
    },
    "tags": []
   },
   "outputs": [
    {
     "name": "stdout",
     "output_type": "stream",
     "text": [
      "Source Test Label Accuracy: 0.7289908854166667 Target Test Label Accuracy: 0.78531346749226\n",
      "Source Val Label Accuracy: 0.7280403645833333 Target Val Label Accuracy: 0.7820113877118644\n"
     ]
    }
   ],
   "source": [
    "print(\"Source Test Label Accuracy:\", experiment[\"results\"][\"source_test_label_accuracy\"], \"Target Test Label Accuracy:\", experiment[\"results\"][\"target_test_label_accuracy\"])\n",
    "print(\"Source Val Label Accuracy:\", experiment[\"results\"][\"source_val_label_accuracy\"], \"Target Val Label Accuracy:\", experiment[\"results\"][\"target_val_label_accuracy\"])"
   ]
  },
  {
   "cell_type": "code",
   "execution_count": 29,
   "id": "dacca602",
   "metadata": {
    "execution": {
     "iopub.execute_input": "2022-03-23T12:24:18.418690Z",
     "iopub.status.busy": "2022-03-23T12:24:18.418325Z",
     "iopub.status.idle": "2022-03-23T12:24:18.443440Z",
     "shell.execute_reply": "2022-03-23T12:24:18.444152Z"
    },
    "papermill": {
     "duration": 0.102373,
     "end_time": "2022-03-23T12:24:18.444340",
     "exception": false,
     "start_time": "2022-03-23T12:24:18.341967",
     "status": "completed"
    },
    "tags": [
     "experiment_json"
    ]
   },
   "outputs": [
    {
     "data": {
      "text/plain": [
       "'{\"experiment_name\": \"tl_1v2:wisig-oracle.run1\", \"parameters\": {\"experiment_name\": \"tl_1v2:wisig-oracle.run1\", \"device\": \"cuda\", \"lr\": 0.0001, \"n_shot\": 3, \"n_query\": 2, \"train_k_factor\": 3, \"val_k_factor\": 2, \"test_k_factor\": 2, \"torch_default_dtype\": \"torch.float32\", \"n_epoch\": 50, \"patience\": 3, \"criteria_for_best\": \"target_accuracy\", \"x_net\": [{\"class\": \"nnReshape\", \"kargs\": {\"shape\": [-1, 1, 2, 256]}}, {\"class\": \"Conv2d\", \"kargs\": {\"in_channels\": 1, \"out_channels\": 256, \"kernel_size\": [1, 7], \"bias\": false, \"padding\": [0, 3]}}, {\"class\": \"ReLU\", \"kargs\": {\"inplace\": true}}, {\"class\": \"BatchNorm2d\", \"kargs\": {\"num_features\": 256}}, {\"class\": \"Conv2d\", \"kargs\": {\"in_channels\": 256, \"out_channels\": 80, \"kernel_size\": [2, 7], \"bias\": true, \"padding\": [0, 3]}}, {\"class\": \"ReLU\", \"kargs\": {\"inplace\": true}}, {\"class\": \"BatchNorm2d\", \"kargs\": {\"num_features\": 80}}, {\"class\": \"Flatten\", \"kargs\": {}}, {\"class\": \"Linear\", \"kargs\": {\"in_features\": 20480, \"out_features\": 256}}, {\"class\": \"ReLU\", \"kargs\": {\"inplace\": true}}, {\"class\": \"BatchNorm1d\", \"kargs\": {\"num_features\": 256}}, {\"class\": \"Linear\", \"kargs\": {\"in_features\": 256, \"out_features\": 256}}], \"NUM_LOGS_PER_EPOCH\": 10, \"BEST_MODEL_PATH\": \"./best_model.pth\", \"n_way\": 16, \"datasets\": [{\"labels\": [\"1-10\", \"1-12\", \"1-14\", \"1-16\", \"1-18\", \"1-19\", \"1-8\", \"10-11\", \"10-17\", \"10-4\", \"10-7\", \"11-1\", \"11-10\", \"11-19\", \"11-20\", \"11-4\", \"11-7\", \"12-19\", \"12-20\", \"12-7\", \"13-14\", \"13-18\", \"13-19\", \"13-20\", \"13-3\", \"13-7\", \"14-10\", \"14-11\", \"14-12\", \"14-13\", \"14-14\", \"14-19\", \"14-20\", \"14-7\", \"14-8\", \"14-9\", \"15-1\", \"15-19\", \"15-6\", \"16-1\", \"16-16\", \"16-19\", \"16-20\", \"17-10\", \"17-11\", \"18-1\", \"18-10\", \"18-11\", \"18-12\", \"18-13\", \"18-14\", \"18-15\", \"18-16\", \"18-17\", \"18-19\", \"18-2\", \"18-20\", \"18-4\", \"18-5\", \"18-7\", \"18-8\", \"18-9\", \"19-1\", \"19-10\", \"19-11\", \"19-12\", \"19-13\", \"19-14\", \"19-15\", \"19-19\", \"19-2\", \"19-20\", \"19-3\", \"19-4\", \"19-6\", \"19-7\", \"19-8\", \"19-9\", \"2-1\", \"2-13\", \"2-15\", \"2-3\", \"2-4\", \"2-5\", \"2-6\", \"2-7\", \"2-8\", \"20-1\", \"20-12\", \"20-14\", \"20-15\", \"20-16\", \"20-18\", \"20-19\", \"20-20\", \"20-3\", \"20-4\", \"20-5\", \"20-7\", \"20-8\", \"3-1\", \"3-13\", \"3-18\", \"3-2\", \"3-8\", \"4-1\", \"4-10\", \"4-11\", \"5-1\", \"5-5\", \"6-1\", \"6-15\", \"6-6\", \"7-10\", \"7-11\", \"7-12\", \"7-13\", \"7-14\", \"7-7\", \"7-8\", \"7-9\", \"8-1\", \"8-13\", \"8-14\", \"8-18\", \"8-20\", \"8-3\", \"8-8\", \"9-1\", \"9-7\"], \"domains\": [1, 2, 3, 4], \"num_examples_per_domain_per_label\": -1, \"pickle_path\": \"/root/csc500-main/datasets/wisig.node3-19.stratified_ds.2022A.pkl\", \"source_or_target_dataset\": \"target\", \"x_transforms\": [\"unit_mag\"], \"episode_transforms\": [], \"domain_prefix\": \"Wisig_\"}, {\"labels\": [\"3123D52\", \"3123D65\", \"3123D79\", \"3123D80\", \"3123D54\", \"3123D70\", \"3123D7B\", \"3123D89\", \"3123D58\", \"3123D76\", \"3123D7D\", \"3123EFE\", \"3123D64\", \"3123D78\", \"3123D7E\", \"3124E4A\"], \"domains\": [32, 38, 8, 44, 14, 50, 20, 26], \"num_examples_per_domain_per_label\": 10000, \"pickle_path\": \"/root/csc500-main/datasets/oracle.Run1_10kExamples_stratified_ds.2022A.pkl\", \"source_or_target_dataset\": \"source\", \"x_transforms\": [\"unit_mag\"], \"episode_transforms\": [], \"domain_prefix\": \"ORACLE.run1\"}], \"dataset_seed\": 1337, \"seed\": 1337, \"x_shape\": [2, 256], \"domains_source\": [\"ORACLE.run132\", \"ORACLE.run138\", \"ORACLE.run18\", \"ORACLE.run144\", \"ORACLE.run114\", \"ORACLE.run150\", \"ORACLE.run120\", \"ORACLE.run126\"], \"domains_target\": [\"Wisig_1\", \"Wisig_2\", \"Wisig_3\", \"Wisig_4\"]}, \"results\": {\"source_test_label_accuracy\": 0.7289908854166667, \"source_test_label_loss\": 0.8078845739364624, \"target_test_label_accuracy\": 0.78531346749226, \"target_test_label_loss\": 11.235443115234375, \"source_val_label_accuracy\": 0.7280403645833333, \"source_val_label_loss\": 0.8099909424781799, \"target_val_label_accuracy\": 0.7820113877118644, \"target_val_label_loss\": 11.359891891479492, \"total_epochs_trained\": 15, \"total_experiment_time_secs\": 11716.816468000412, \"confusion\": {\"ORACLE.run114\": {\"15\": {\"15\": 1163, \"7\": 33, \"5\": 2, \"13\": 1, \"2\": 1}, \"3\": {\"3\": 1042, \"4\": 96, \"14\": 28, \"2\": 22, \"13\": 2, \"5\": 4, \"0\": 5, \"1\": 1}, \"6\": {\"13\": 456, \"6\": 651, \"4\": 1, \"2\": 46, \"14\": 46}, \"1\": {\"1\": 1074, \"5\": 117, \"4\": 7, \"7\": 2}, \"8\": {\"8\": 1200}, \"10\": {\"10\": 1171, \"0\": 29}, \"9\": {\"9\": 1196, \"11\": 3, \"12\": 1}, \"13\": {\"13\": 411, \"2\": 109, \"6\": 483, \"14\": 178, \"5\": 14, \"4\": 3, \"15\": 1, \"3\": 1}, \"12\": {\"12\": 1196, \"9\": 4}, \"5\": {\"4\": 205, \"5\": 765, \"3\": 18, \"2\": 63, \"7\": 7, \"1\": 138, \"14\": 1, \"15\": 3}, \"0\": {\"10\": 61, \"0\": 1092, \"11\": 23, \"3\": 24}, \"2\": {\"2\": 620, \"13\": 81, \"14\": 168, \"3\": 50, \"4\": 81, \"15\": 28, \"5\": 114, \"6\": 58}, \"11\": {\"9\": 54, \"11\": 1091, \"0\": 52, \"10\": 3}, \"14\": {\"14\": 963, \"2\": 87, \"13\": 78, \"6\": 41, \"3\": 29, \"5\": 1, \"0\": 1}, \"7\": {\"7\": 1171, \"1\": 15, \"15\": 10, \"5\": 4}, \"4\": {\"4\": 864, \"5\": 154, \"3\": 96, \"1\": 18, \"2\": 65, \"14\": 1, \"13\": 2}}, \"ORACLE.run120\": {\"3\": {\"12\": 255, \"3\": 499, \"4\": 81, \"9\": 187, \"1\": 23, \"7\": 39, \"2\": 70, \"5\": 32, \"8\": 6, \"0\": 5, \"15\": 1, \"10\": 2}, \"15\": {\"1\": 227, \"15\": 752, \"5\": 103, \"0\": 50, \"13\": 26, \"3\": 3, \"12\": 29, \"2\": 6, \"9\": 3, \"7\": 1}, \"8\": {\"8\": 897, \"14\": 43, \"7\": 74, \"4\": 155, \"6\": 9, \"10\": 12, \"3\": 7, \"12\": 3}, \"4\": {\"4\": 971, \"8\": 108, \"3\": 69, \"10\": 25, \"12\": 11, \"7\": 5, \"0\": 5, \"14\": 2, \"9\": 2, \"5\": 2}, \"14\": {\"14\": 986, \"6\": 114, \"10\": 71, \"8\": 29}, \"0\": {\"0\": 720, \"5\": 284, \"12\": 17, \"15\": 107, \"1\": 28, \"4\": 7, \"3\": 17, \"2\": 9, \"7\": 5, \"8\": 1, \"13\": 3, \"9\": 2}, \"7\": {\"7\": 877, \"2\": 134, \"8\": 80, \"6\": 9, \"9\": 48, \"3\": 37, \"4\": 7, \"13\": 7, \"14\": 1}, \"6\": {\"6\": 1041, \"14\": 134, \"7\": 11, \"10\": 6, \"8\": 7, \"2\": 1}, \"10\": {\"10\": 1053, \"4\": 33, \"14\": 99, \"8\": 13, \"7\": 1, \"6\": 1}, \"5\": {\"5\": 528, \"12\": 123, \"15\": 103, \"0\": 216, \"1\": 176, \"3\": 36, \"13\": 4, \"9\": 6, \"4\": 4, \"2\": 3, \"8\": 1}, \"2\": {\"2\": 560, \"12\": 44, \"9\": 276, \"7\": 168, \"3\": 78, \"13\": 55, \"15\": 7, \"1\": 8, \"5\": 3, \"0\": 1}, \"12\": {\"12\": 454, \"5\": 113, \"3\": 224, \"0\": 12, \"1\": 217, \"2\": 42, \"15\": 26, \"9\": 101, \"7\": 4, \"4\": 4, \"13\": 3}, \"9\": {\"2\": 307, \"9\": 500, \"3\": 188, \"15\": 3, \"7\": 67, \"12\": 99, \"1\": 18, \"13\": 11, \"4\": 2, \"5\": 1, \"8\": 4}, \"1\": {\"1\": 548, \"12\": 194, \"5\": 188, \"15\": 200, \"0\": 23, \"3\": 27, \"2\": 9, \"9\": 11}, \"11\": {\"11\": 1200}, \"13\": {\"13\": 1092, \"15\": 25, \"9\": 6, \"2\": 66, \"12\": 3, \"0\": 2, \"1\": 4, \"7\": 2}}, \"ORACLE.run138\": {\"5\": {\"5\": 570, \"8\": 309, \"9\": 38, \"6\": 37, \"1\": 7, \"10\": 6, \"7\": 112, \"0\": 62, \"15\": 53, \"13\": 5, \"3\": 1}, \"8\": {\"8\": 742, \"5\": 244, \"0\": 123, \"15\": 28, \"10\": 20, \"7\": 37, \"13\": 6}, \"11\": {\"11\": 1070, \"14\": 107, \"13\": 1, \"10\": 15, \"2\": 5, \"12\": 2}, \"1\": {\"1\": 1149, \"15\": 47, \"5\": 4}, \"10\": {\"10\": 971, \"13\": 108, \"8\": 51, \"0\": 19, \"7\": 9, \"5\": 4, \"15\": 7, \"2\": 5, \"12\": 6, \"14\": 13, \"11\": 5, \"4\": 2}, \"15\": {\"2\": 3, \"15\": 974, \"13\": 93, \"5\": 15, \"1\": 73, \"8\": 37, \"10\": 5}, \"3\": {\"3\": 1126, \"0\": 25, \"9\": 32, \"7\": 14, \"5\": 3}, \"7\": {\"7\": 940, \"5\": 65, \"0\": 142, \"3\": 3, \"8\": 47, \"10\": 1, \"9\": 2}, \"4\": {\"4\": 1135, \"12\": 61, \"10\": 3, \"0\": 1}, \"14\": {\"14\": 1091, \"2\": 68, \"11\": 27, \"10\": 10, \"12\": 3, \"15\": 1}, \"9\": {\"9\": 912, \"6\": 251, \"5\": 16, \"3\": 18, \"0\": 2, \"7\": 1}, \"12\": {\"12\": 1159, \"4\": 40, \"10\": 1}, \"6\": {\"6\": 1042, \"9\": 148, \"8\": 2, \"5\": 8}, \"2\": {\"2\": 1101, \"14\": 72, \"13\": 24, \"15\": 2, \"10\": 1}, \"0\": {\"8\": 211, \"0\": 623, \"10\": 21, \"3\": 68, \"7\": 193, \"5\": 80, \"9\": 2, \"15\": 1, \"4\": 1}, \"13\": {\"13\": 893, \"10\": 92, \"15\": 173, \"8\": 16, \"2\": 18, \"1\": 4, \"14\": 1, \"0\": 1, \"5\": 2}}, \"ORACLE.run18\": {\"9\": {\"9\": 1200}, \"10\": {\"10\": 804, \"14\": 203, \"13\": 102, \"5\": 24, \"4\": 49, \"1\": 12, \"0\": 6}, \"13\": {\"6\": 42, \"13\": 409, \"0\": 310, \"4\": 209, \"14\": 98, \"10\": 118, \"7\": 12, \"1\": 1, \"5\": 1}, \"0\": {\"0\": 775, \"13\": 241, \"7\": 79, \"6\": 66, \"10\": 7, \"4\": 31, \"14\": 1}, \"1\": {\"1\": 878, \"11\": 253, \"14\": 47, \"5\": 17, \"10\": 5}, \"15\": {\"15\": 845, \"12\": 280, \"2\": 8, \"8\": 55, \"3\": 6, \"7\": 6}, \"5\": {\"10\": 54, \"5\": 1093, \"1\": 40, \"14\": 10, \"13\": 1, \"11\": 2}, \"3\": {\"3\": 1032, \"2\": 107, \"15\": 6, \"12\": 55}, \"6\": {\"7\": 270, \"6\": 726, \"4\": 108, \"0\": 56, \"13\": 27, \"8\": 11, \"14\": 2}, \"11\": {\"11\": 799, \"1\": 364, \"14\": 6, \"8\": 14, \"4\": 1, \"10\": 2, \"5\": 14}, \"8\": {\"8\": 1124, \"15\": 64, \"7\": 9, \"6\": 3}, \"4\": {\"10\": 26, \"4\": 596, \"13\": 216, \"0\": 52, \"14\": 178, \"6\": 118, \"1\": 4, \"7\": 9, \"11\": 1}, \"12\": {\"12\": 674, \"15\": 357, \"3\": 134, \"7\": 1, \"8\": 20, \"2\": 14}, \"14\": {\"10\": 187, \"14\": 683, \"1\": 53, \"4\": 191, \"13\": 68, \"5\": 3, \"0\": 2, \"11\": 6, \"6\": 7}, \"2\": {\"2\": 989, \"3\": 141, \"15\": 39, \"12\": 16, \"7\": 14, \"6\": 1}, \"7\": {\"6\": 277, \"7\": 869, \"0\": 40, \"2\": 2, \"8\": 4, \"15\": 2, \"13\": 3, \"4\": 3}}, \"ORACLE.run150\": {\"7\": {\"7\": 734, \"5\": 180, \"13\": 253, \"10\": 18, \"4\": 4, \"6\": 11}, \"3\": {\"3\": 1172, \"8\": 28}, \"8\": {\"8\": 1161, \"3\": 17, \"10\": 22}, \"2\": {\"2\": 1104, \"0\": 96}, \"14\": {\"14\": 1183, \"12\": 9, \"11\": 8}, \"4\": {\"4\": 577, \"5\": 120, \"1\": 152, \"15\": 188, \"6\": 114, \"7\": 31, \"13\": 17, \"11\": 1}, \"6\": {\"6\": 880, \"1\": 69, \"13\": 65, \"5\": 43, \"4\": 109, \"7\": 12, \"15\": 21, \"0\": 1}, \"15\": {\"15\": 903, \"1\": 175, \"11\": 22, \"4\": 77, \"6\": 21, \"5\": 2}, \"10\": {\"10\": 1101, \"7\": 17, \"13\": 30, \"8\": 15, \"0\": 35, \"5\": 2}, \"11\": {\"11\": 1074, \"9\": 85, \"15\": 25, \"14\": 9, \"1\": 3, \"12\": 4}, \"13\": {\"7\": 169, \"13\": 793, \"5\": 149, \"6\": 61, \"0\": 3, \"4\": 11, \"10\": 14}, \"9\": {\"9\": 948, \"12\": 86, \"11\": 164, \"14\": 1, \"15\": 1}, \"0\": {\"0\": 1039, \"2\": 102, \"10\": 54, \"5\": 2, \"13\": 3}, \"1\": {\"1\": 826, \"4\": 89, \"15\": 172, \"6\": 98, \"5\": 10, \"13\": 3, \"11\": 2}, \"12\": {\"12\": 1071, \"9\": 96, \"14\": 27, \"11\": 6}, \"5\": {\"1\": 54, \"5\": 486, \"13\": 197, \"10\": 9, \"7\": 230, \"4\": 133, \"6\": 90, \"15\": 1}}, \"ORACLE.run132\": {\"8\": {\"14\": 5, \"8\": 899, \"5\": 89, \"13\": 89, \"0\": 103, \"4\": 4, \"7\": 5, \"15\": 1, \"3\": 5}, \"14\": {\"14\": 603, \"11\": 282, \"7\": 189, \"0\": 46, \"5\": 16, \"13\": 41, \"3\": 6, \"8\": 6, \"2\": 3, \"4\": 8}, \"2\": {\"4\": 195, \"2\": 956, \"0\": 26, \"7\": 21, \"5\": 2}, \"0\": {\"14\": 15, \"0\": 874, \"8\": 106, \"5\": 25, \"7\": 48, \"4\": 69, \"2\": 45, \"13\": 18}, \"1\": {\"1\": 1191, \"10\": 9}, \"10\": {\"10\": 1195, \"1\": 5}, \"11\": {\"11\": 952, \"7\": 19, \"14\": 184, \"3\": 14, \"5\": 4, \"13\": 27}, \"5\": {\"7\": 147, \"5\": 465, \"8\": 78, \"3\": 48, \"13\": 258, \"4\": 125, \"11\": 4, \"14\": 21, \"0\": 40, \"2\": 14}, \"15\": {\"15\": 1195, \"8\": 5}, \"3\": {\"3\": 1111, \"13\": 42, \"11\": 13, \"5\": 20, \"14\": 4, \"8\": 10}, \"12\": {\"12\": 1200}, \"7\": {\"7\": 561, \"14\": 154, \"0\": 37, \"5\": 163, \"13\": 80, \"2\": 25, \"4\": 139, \"11\": 35, \"8\": 5, \"3\": 1}, \"13\": {\"8\": 68, \"5\": 230, \"0\": 26, \"13\": 567, \"4\": 107, \"7\": 71, \"14\": 19, \"3\": 91, \"11\": 19, \"2\": 2}, \"6\": {\"6\": 1200}, \"4\": {\"4\": 734, \"13\": 46, \"7\": 108, \"2\": 197, \"5\": 72, \"0\": 33, \"14\": 6, \"8\": 4}, \"9\": {\"9\": 1196, \"12\": 4}}, \"ORACLE.run126\": {\"4\": {\"7\": 78, \"4\": 482, \"0\": 153, \"10\": 60, \"14\": 205, \"8\": 115, \"1\": 103, \"3\": 3, \"9\": 1}, \"12\": {\"12\": 1200}, \"10\": {\"8\": 179, \"10\": 480, \"0\": 263, \"6\": 45, \"1\": 29, \"9\": 14, \"4\": 71, \"14\": 105, \"15\": 7, \"7\": 7}, \"0\": {\"10\": 277, \"0\": 360, \"6\": 19, \"14\": 212, \"4\": 169, \"1\": 26, \"8\": 107, \"7\": 17, \"9\": 10, \"15\": 3}, \"13\": {\"5\": 225, \"13\": 862, \"15\": 57, \"6\": 10, \"9\": 25, \"2\": 20, \"3\": 1}, \"9\": {\"9\": 517, \"15\": 321, \"8\": 85, \"4\": 2, \"6\": 158, \"5\": 55, \"2\": 7, \"7\": 4, \"13\": 21, \"10\": 21, \"3\": 1, \"0\": 7, \"14\": 1}, \"3\": {\"3\": 733, \"2\": 292, \"7\": 167, \"15\": 3, \"5\": 3, \"8\": 2}, \"2\": {\"15\": 61, \"2\": 450, \"7\": 115, \"3\": 384, \"5\": 120, \"8\": 34, \"9\": 19, \"13\": 12, \"4\": 5}, \"5\": {\"5\": 784, \"13\": 146, \"15\": 130, \"9\": 43, \"7\": 4, \"8\": 26, \"2\": 61, \"10\": 2, \"3\": 4}, \"14\": {\"14\": 454, \"1\": 212, \"0\": 180, \"4\": 217, \"10\": 104, \"7\": 8, \"8\": 24, \"9\": 1}, \"8\": {\"10\": 146, \"8\": 448, \"4\": 117, \"6\": 33, \"0\": 116, \"9\": 101, \"7\": 97, \"15\": 68, \"1\": 3, \"14\": 35, \"5\": 10, \"2\": 18, \"3\": 7, \"13\": 1}, \"7\": {\"7\": 641, \"2\": 118, \"4\": 111, \"0\": 21, \"8\": 79, \"3\": 177, \"14\": 15, \"15\": 9, \"9\": 12, \"1\": 8, \"10\": 5, \"5\": 4}, \"6\": {\"6\": 891, \"8\": 34, \"10\": 68, \"9\": 137, \"15\": 36, \"13\": 5, \"0\": 28, \"5\": 1}, \"11\": {\"11\": 1198, \"12\": 2}, \"15\": {\"7\": 23, \"9\": 343, \"8\": 90, \"15\": 457, \"5\": 149, \"6\": 29, \"13\": 58, \"2\": 35, \"10\": 9, \"0\": 5, \"4\": 2}, \"1\": {\"14\": 220, \"1\": 746, \"3\": 3, \"4\": 146, \"0\": 32, \"10\": 37, \"8\": 6, \"7\": 10}}, \"ORACLE.run144\": {\"12\": {\"10\": 48, \"12\": 929, \"1\": 206, \"3\": 17}, \"7\": {\"7\": 761, \"2\": 174, \"1\": 4, \"9\": 221, \"6\": 31, \"13\": 7, \"3\": 2}, \"5\": {\"5\": 1038, \"0\": 78, \"14\": 38, \"15\": 33, \"4\": 3, \"8\": 10}, \"15\": {\"15\": 953, \"14\": 95, \"0\": 72, \"5\": 42, \"8\": 25, \"4\": 13}, \"8\": {\"8\": 736, \"0\": 408, \"15\": 34, \"5\": 22}, \"2\": {\"2\": 924, \"3\": 4, \"7\": 164, \"10\": 76, \"1\": 30, \"9\": 2}, \"13\": {\"13\": 787, \"9\": 147, \"6\": 214, \"7\": 6, \"11\": 41, \"4\": 5}, \"4\": {\"4\": 908, \"14\": 277, \"13\": 4, \"15\": 10, \"5\": 1}, \"0\": {\"0\": 746, \"5\": 74, \"8\": 315, \"15\": 65}, \"6\": {\"6\": 822, \"13\": 203, \"7\": 33, \"9\": 130, \"11\": 10, \"2\": 2}, \"9\": {\"13\": 148, \"9\": 657, \"7\": 273, \"2\": 8, \"6\": 112, \"4\": 2}, \"11\": {\"11\": 1105, \"13\": 73, \"6\": 22}, \"10\": {\"10\": 900, \"1\": 115, \"12\": 78, \"2\": 103, \"3\": 3, \"7\": 1}, \"14\": {\"14\": 780, \"4\": 315, \"15\": 67, \"5\": 38}, \"1\": {\"10\": 86, \"1\": 728, \"12\": 176, \"2\": 64, \"3\": 145, \"7\": 1}, \"3\": {\"3\": 1057, \"1\": 126, \"2\": 4, \"12\": 12, \"7\": 1}}, \"Wisig_3\": {\"109\": {\"109\": 61, \"64\": 1, \"43\": 3, \"69\": 8, \"16\": 6, \"89\": 2, \"26\": 3, \"102\": 10, \"39\": 3, \"118\": 14, \"93\": 4, \"70\": 1, \"113\": 3, \"33\": 2, \"11\": 3, \"18\": 2, \"84\": 2}, \"127\": {\"127\": 119, \"46\": 1, \"88\": 1, \"69\": 1, \"77\": 2, \"71\": 1, \"98\": 1, \"10\": 2}, \"14\": {\"14\": 75, \"96\": 1, \"90\": 2, \"31\": 1, \"93\": 1}, \"7\": {\"7\": 104, \"105\": 5, \"4\": 1, \"117\": 1, \"108\": 1}, \"129\": {\"100\": 3, \"129\": 25, \"110\": 1, \"20\": 2, \"19\": 1}, \"57\": {\"57\": 20}, \"84\": {\"44\": 3, \"84\": 96, \"116\": 1, \"31\": 1, \"90\": 4, \"92\": 1, \"62\": 1, \"88\": 1}, \"114\": {\"114\": 110, \"3\": 6, \"128\": 1, \"116\": 1, \"1\": 3, \"5\": 1, \"119\": 1, \"113\": 1}, \"44\": {\"44\": 58, \"109\": 1, \"50\": 2, \"17\": 2, \"11\": 2, \"16\": 2, \"121\": 1, \"31\": 1, \"29\": 2, \"87\": 1}, \"21\": {\"21\": 42, \"88\": 1, \"39\": 2, \"8\": 1, \"101\": 1, \"30\": 1}, \"46\": {\"46\": 16}, \"100\": {\"100\": 15, \"14\": 1}, \"63\": {\"63\": 11, \"123\": 2, \"121\": 2, \"122\": 1}, \"24\": {\"24\": 35, \"93\": 1, \"36\": 4, \"27\": 2, \"30\": 4, \"94\": 2}, \"107\": {\"107\": 117, \"87\": 1}, \"35\": {\"46\": 2, \"35\": 9, \"129\": 1}, \"81\": {\"81\": 32}, \"64\": {\"64\": 20}, \"59\": {\"59\": 12}, \"33\": {\"33\": 109, \"117\": 1, \"113\": 1, \"118\": 1, \"102\": 2}, \"34\": {\"59\": 2, \"58\": 2, \"111\": 3, \"34\": 8, \"14\": 3, \"84\": 1, \"37\": 1, \"23\": 1, \"98\": 1, \"125\": 1, \"52\": 1, \"11\": 1, \"50\": 1, \"28\": 1, \"129\": 2, \"32\": 1, \"91\": 2}, \"36\": {\"36\": 103, \"25\": 2, \"27\": 6, \"24\": 2, \"111\": 1, \"30\": 4, \"97\": 1, \"127\": 1}, \"79\": {\"79\": 12}, \"80\": {\"80\": 16}, \"77\": {\"77\": 13, \"64\": 1, \"5\": 2}, \"22\": {\"22\": 16}, \"124\": {\"124\": 111, \"98\": 5, \"111\": 1, \"16\": 1, \"91\": 1, \"85\": 3, \"62\": 1, \"127\": 1}, \"2\": {\"2\": 11, \"64\": 1, \"117\": 4, \"18\": 2, \"26\": 3, \"102\": 1, \"43\": 1, \"113\": 1, \"96\": 1, \"93\": 2, \"118\": 1}, \"87\": {\"22\": 3, \"87\": 83, \"44\": 6, \"11\": 1, \"40\": 4, \"90\": 1, \"107\": 6, \"29\": 1, \"32\": 1, \"93\": 1, \"62\": 2, \"7\": 2, \"84\": 1}, \"105\": {\"105\": 115, \"48\": 1, \"5\": 2, \"4\": 4}, \"95\": {\"95\": 32}, \"43\": {\"43\": 25, \"113\": 5, \"33\": 3, \"117\": 1, \"50\": 2, \"109\": 3, \"29\": 1, \"118\": 4, \"102\": 1, \"119\": 1, \"64\": 1, \"69\": 1, \"80\": 2, \"93\": 1, \"121\": 1, \"11\": 3, \"16\": 1}, \"56\": {\"56\": 12}, \"18\": {\"18\": 117, \"26\": 2, \"118\": 1, \"126\": 2, \"21\": 1, \"110\": 1}, \"85\": {\"85\": 32, \"124\": 4}, \"113\": {\"123\": 2, \"113\": 104, \"120\": 2, \"117\": 7, \"43\": 1, \"64\": 1, \"93\": 1, \"26\": 1, \"109\": 1}, \"97\": {\"97\": 16, \"15\": 2, \"27\": 1, \"13\": 1}, \"86\": {\"95\": 1, \"128\": 1, \"86\": 19, \"32\": 1, \"26\": 1, \"103\": 2, \"114\": 1, \"15\": 1, \"124\": 1}, \"128\": {\"46\": 2, \"85\": 2, \"55\": 1, \"115\": 2, \"5\": 2, \"86\": 1, \"108\": 1, \"71\": 3, \"19\": 2, \"128\": 7, \"91\": 1, \"53\": 1, \"48\": 1, \"57\": 3, \"125\": 1, \"122\": 2}, \"123\": {\"123\": 12, \"67\": 4}, \"8\": {\"8\": 105, \"0\": 10, \"124\": 2, \"101\": 1, \"30\": 1, \"108\": 4, \"98\": 3, \"15\": 2, \"42\": 1, \"73\": 1}, \"110\": {\"110\": 71, \"67\": 1, \"63\": 1, \"78\": 1, \"71\": 1, \"11\": 2, \"19\": 2, \"102\": 1, \"111\": 1, \"101\": 1, \"114\": 2, \"5\": 1, \"69\": 1, \"3\": 2, \"93\": 1, \"126\": 1}, \"126\": {\"126\": 82, \"125\": 1, \"39\": 4, \"18\": 6, \"108\": 1, \"117\": 2, \"63\": 2, \"81\": 3, \"113\": 2, \"26\": 1}, \"42\": {\"42\": 14, \"83\": 1, \"106\": 1, \"70\": 1, \"47\": 1, \"91\": 1, \"58\": 1, \"49\": 1, \"112\": 2, \"20\": 1, \"108\": 1, \"15\": 1, \"8\": 2}, \"96\": {\"96\": 20}, \"83\": {\"83\": 24}, \"54\": {\"54\": 16}, \"65\": {\"45\": 1, \"113\": 1, \"4\": 2, \"65\": 4, \"49\": 2, \"72\": 1, \"64\": 1}, \"30\": {\"83\": 1, \"30\": 63, \"0\": 11, \"106\": 1, \"27\": 1, \"69\": 1, \"8\": 3, \"126\": 1, \"12\": 2}, \"121\": {\"113\": 1, \"121\": 20, \"11\": 3, \"90\": 2, \"21\": 1, \"117\": 3, \"123\": 1, \"109\": 1}, \"68\": {\"45\": 2, \"68\": 13, \"119\": 1}, \"45\": {\"14\": 3, \"45\": 12, \"94\": 1}, \"48\": {\"48\": 3, \"114\": 1, \"34\": 2, \"60\": 2, \"76\": 2, \"115\": 1, \"62\": 1, \"103\": 1, \"44\": 1, \"105\": 1, \"33\": 1}, \"4\": {\"4\": 85, \"114\": 5, \"105\": 3, \"39\": 1, \"3\": 1, \"81\": 1}, \"67\": {\"123\": 2, \"67\": 14}, \"103\": {\"103\": 13, \"5\": 2, \"33\": 1}, \"74\": {\"74\": 16}, \"1\": {\"1\": 105, \"122\": 1, \"16\": 1, \"93\": 1}, \"61\": {\"61\": 16}, \"101\": {\"101\": 35, \"9\": 1, \"0\": 4, \"8\": 4, \"109\": 1, \"25\": 1, \"58\": 1, \"12\": 2, \"15\": 1, \"42\": 2}, \"93\": {\"93\": 130, \"63\": 1, \"62\": 1, \"126\": 2, \"96\": 1, \"109\": 2, \"16\": 1}, \"26\": {\"26\": 128, \"120\": 1, \"2\": 1}, \"71\": {\"4\": 2, \"71\": 43, \"9\": 1, \"73\": 1, \"23\": 2, \"113\": 1, \"127\": 9, \"3\": 5, \"96\": 1, \"5\": 3}, \"15\": {\"15\": 95, \"97\": 1, \"73\": 1, \"126\": 1, \"8\": 2, \"106\": 1, \"0\": 2, \"18\": 1}, \"55\": {\"55\": 16}, \"104\": {\"104\": 16}, \"112\": {\"112\": 13, \"30\": 2, \"27\": 1}, \"102\": {\"102\": 122}, \"117\": {\"117\": 112}, \"119\": {\"119\": 16}, \"20\": {\"20\": 11, \"106\": 1, \"114\": 1, \"129\": 3}, \"120\": {\"120\": 20}, \"39\": {\"120\": 1, \"39\": 54, \"123\": 1, \"2\": 1, \"117\": 13, \"113\": 15, \"18\": 4, \"109\": 4, \"126\": 8, \"26\": 3, \"67\": 1, \"110\": 1, \"16\": 1, \"93\": 1}, \"49\": {\"49\": 6, \"8\": 3, \"35\": 1, \"10\": 1, \"32\": 1, \"11\": 1, \"122\": 2, \"108\": 1, \"29\": 1, \"65\": 1, \"129\": 1, \"103\": 1, \"14\": 1, \"28\": 2, \"1\": 1}, \"53\": {\"49\": 1, \"53\": 17, \"114\": 1, \"65\": 1}, \"92\": {\"92\": 25, \"39\": 1, \"16\": 2, \"31\": 2, \"118\": 2}, \"3\": {\"3\": 92, \"5\": 16, \"114\": 5, \"71\": 1, \"127\": 1, \"4\": 1}, \"47\": {\"47\": 11, \"112\": 1}, \"115\": {\"115\": 15, \"40\": 1}, \"58\": {\"58\": 16}, \"29\": {\"29\": 32}, \"12\": {\"12\": 96, \"111\": 6, \"99\": 1, \"124\": 1}, \"62\": {\"62\": 109, \"18\": 1, \"40\": 1, \"33\": 6, \"36\": 1}, \"11\": {\"11\": 71, \"29\": 2, \"64\": 1, \"22\": 1, \"81\": 1, \"93\": 5, \"14\": 4, \"23\": 1, \"90\": 28, \"44\": 4, \"16\": 8, \"84\": 3, \"43\": 1, \"31\": 1, \"87\": 3, \"107\": 6}, \"72\": {\"72\": 18, \"106\": 2, \"111\": 6, \"58\": 1, \"5\": 1}, \"98\": {\"98\": 92, \"77\": 2, \"3\": 2, \"124\": 5, \"111\": 2, \"91\": 1, \"108\": 1, \"12\": 1}, \"122\": {\"122\": 36, \"28\": 2, \"1\": 8, \"19\": 1, \"115\": 1, \"3\": 1, \"7\": 1, \"129\": 2, \"29\": 1, \"23\": 1, \"39\": 1, \"4\": 1, \"60\": 1, \"55\": 1, \"84\": 1, \"113\": 1}, \"17\": {\"121\": 1, \"80\": 1, \"88\": 1, \"64\": 3, \"63\": 1, \"126\": 1, \"104\": 1, \"17\": 2, \"71\": 2, \"41\": 1, \"113\": 2}, \"94\": {\"94\": 70, \"0\": 1, \"15\": 2, \"111\": 2, \"106\": 2, \"83\": 1, \"51\": 1, \"49\": 1, \"73\": 3, \"85\": 1}, \"106\": {\"106\": 76, \"73\": 1, \"126\": 1, \"15\": 4, \"124\": 1, \"125\": 1, \"58\": 1, \"111\": 2, \"94\": 2, \"88\": 1}, \"28\": {\"28\": 16}, \"69\": {\"69\": 68, \"81\": 1, \"89\": 2, \"117\": 1, \"118\": 2, \"102\": 2, \"33\": 1, \"82\": 1, \"87\": 1, \"93\": 1, \"70\": 1, \"113\": 1, \"109\": 2}, \"125\": {\"125\": 106, \"109\": 1, \"111\": 1, \"18\": 1, \"73\": 2, \"98\": 2, \"33\": 1}, \"19\": {\"19\": 6, \"85\": 8, \"16\": 1, \"52\": 2, \"12\": 1, \"110\": 2, \"107\": 3, \"90\": 1, \"124\": 1, \"100\": 1, \"129\": 1, \"98\": 1, \"29\": 2, \"11\": 2}, \"41\": {\"41\": 13, \"99\": 2, \"34\": 1}, \"60\": {\"28\": 4, \"60\": 14, \"87\": 1, \"44\": 2, \"1\": 1, \"93\": 1, \"50\": 2, \"129\": 1, \"31\": 1, \"32\": 1}, \"70\": {\"70\": 30, \"88\": 5, \"110\": 3, \"108\": 6, \"10\": 9, \"93\": 1, \"129\": 2, \"8\": 2, \"3\": 2, \"19\": 2, \"5\": 2, \"18\": 1, \"92\": 1, \"124\": 1, \"106\": 1, \"113\": 1, \"126\": 1, \"114\": 1, \"30\": 1}, \"27\": {\"27\": 76, \"25\": 3, \"88\": 1, \"97\": 1, \"36\": 4, \"30\": 5, \"94\": 1, \"15\": 1, \"24\": 1, \"70\": 1, \"0\": 2}, \"10\": {\"68\": 1, \"71\": 1, \"10\": 73, \"88\": 1, \"127\": 15, \"12\": 1, \"70\": 2, \"124\": 2, \"108\": 5, \"3\": 2, \"39\": 1, \"98\": 7, \"0\": 1, \"113\": 1, \"19\": 2, \"7\": 1, \"8\": 1, \"110\": 1}, \"108\": {\"108\": 98, \"47\": 1, \"10\": 3, \"128\": 1, \"124\": 6, \"85\": 2, \"70\": 3, \"39\": 1, \"98\": 6, \"8\": 10, \"127\": 1, \"88\": 2, \"42\": 1, \"3\": 2, \"111\": 1, \"126\": 1, \"0\": 1}, \"9\": {\"9\": 32}, \"25\": {\"25\": 13, \"30\": 2, \"39\": 1}, \"37\": {\"37\": 15, \"109\": 1}, \"0\": {\"0\": 106, \"8\": 4, \"101\": 1, \"30\": 4, \"15\": 1}, \"66\": {\"66\": 16}, \"51\": {\"51\": 16}, \"76\": {\"76\": 16}, \"32\": {\"32\": 14, \"17\": 1, \"14\": 1, \"107\": 2, \"23\": 1, \"1\": 4, \"55\": 3, \"82\": 2, \"100\": 1, \"129\": 1, \"60\": 1, \"40\": 1}, \"88\": {\"88\": 65, \"108\": 9, \"49\": 1, \"70\": 8, \"3\": 2, \"19\": 3, \"11\": 3, \"114\": 2, \"71\": 1, \"110\": 14, \"10\": 2, \"129\": 1, \"101\": 1}, \"31\": {\"31\": 18, \"29\": 2}, \"91\": {\"91\": 13, \"85\": 1, \"12\": 2, \"124\": 1, \"52\": 3, \"27\": 1, \"35\": 1, \"10\": 1, \"125\": 1}, \"90\": {\"90\": 117, \"31\": 1, \"29\": 1, \"14\": 2, \"84\": 3, \"11\": 1, \"126\": 1}, \"13\": {\"13\": 6, \"102\": 1, \"43\": 1, \"126\": 1, \"109\": 1, \"82\": 2, \"33\": 1, \"119\": 1, \"101\": 1, \"31\": 1}, \"50\": {\"50\": 16}, \"78\": {\"60\": 2, \"78\": 5, \"31\": 2, \"122\": 1, \"70\": 1, \"50\": 1, \"11\": 1, \"44\": 2, \"87\": 1}, \"116\": {\"11\": 4, \"116\": 7, \"109\": 3, \"31\": 1, \"92\": 2, \"84\": 1, \"82\": 2, \"33\": 2, \"40\": 1, \"14\": 1, \"16\": 2, \"43\": 1, \"118\": 1}, \"5\": {\"5\": 93, \"3\": 11, \"71\": 4, \"39\": 1, \"128\": 2, \"18\": 1}, \"75\": {\"75\": 15, \"106\": 1}, \"89\": {\"89\": 27, \"26\": 1}, \"16\": {\"16\": 103, \"11\": 4, \"39\": 1, \"90\": 3, \"27\": 1, \"23\": 2, \"93\": 2}, \"38\": {\"38\": 15, \"33\": 1}, \"118\": {\"64\": 2, \"118\": 62, \"102\": 12, \"113\": 1, \"16\": 1, \"26\": 4, \"109\": 6, \"117\": 1, \"92\": 2, \"33\": 3, \"120\": 4, \"5\": 1, \"126\": 1}, \"99\": {\"99\": 30, \"41\": 1, \"36\": 1, \"66\": 2, \"115\": 1, \"127\": 1}, \"52\": {\"52\": 15, \"111\": 1}, \"111\": {\"111\": 120, \"85\": 1, \"72\": 1, \"12\": 2, \"5\": 2, \"98\": 2}, \"23\": {\"126\": 2, \"5\": 2, \"13\": 1, \"18\": 2, \"128\": 1, \"121\": 2, \"113\": 4, \"105\": 2, \"10\": 4, \"23\": 4, \"127\": 4, \"12\": 1, \"114\": 1, \"26\": 1, \"124\": 1}, \"73\": {\"73\": 32, \"101\": 1, \"6\": 1, \"12\": 4, \"15\": 2}, \"82\": {\"82\": 24, \"116\": 2, \"110\": 1, \"14\": 1}, \"40\": {\"40\": 122, \"1\": 2, \"93\": 1, \"22\": 2, \"88\": 1}, \"6\": {\"6\": 8, \"91\": 2, \"97\": 1, \"73\": 2, \"111\": 4, \"15\": 1, \"24\": 2, \"94\": 8, \"58\": 1, \"101\": 1, \"12\": 1, \"99\": 1}}, \"Wisig_4\": {\"28\": {\"28\": 18, \"122\": 1, \"72\": 1}, \"4\": {\"4\": 84, \"10\": 1, \"114\": 5, \"86\": 3, \"71\": 3, \"124\": 2, \"27\": 1, \"85\": 2, \"24\": 1, \"1\": 2}, \"72\": {\"43\": 1, \"72\": 27, \"82\": 1, \"57\": 1, \"122\": 1, \"84\": 1}, \"111\": {\"111\": 122, \"16\": 2, \"106\": 6, \"127\": 2, \"58\": 1, \"0\": 1, \"12\": 1, \"10\": 1}, \"108\": {\"108\": 48, \"60\": 1, \"129\": 2, \"11\": 1, \"49\": 1, \"88\": 5, \"122\": 1, \"110\": 4, \"36\": 1, \"27\": 1, \"125\": 1, \"5\": 4, \"14\": 4, \"126\": 1, \"93\": 8, \"119\": 1, \"19\": 1, \"39\": 1, \"24\": 1, \"109\": 1, \"1\": 1, \"8\": 1, \"70\": 1, \"10\": 1}, \"43\": {\"72\": 6, \"14\": 3, \"43\": 54, \"116\": 1, \"33\": 13, \"82\": 1, \"32\": 3, \"44\": 1, \"107\": 1, \"87\": 4, \"99\": 1, \"110\": 10, \"118\": 1, \"11\": 5, \"122\": 4, \"40\": 2, \"5\": 3, \"3\": 1, \"73\": 1, \"98\": 1, \"127\": 1, \"7\": 1, \"108\": 1, \"109\": 1}, \"96\": {\"96\": 18, \"57\": 1, \"90\": 1}, \"89\": {\"28\": 3, \"89\": 24, \"74\": 1, \"79\": 1, \"8\": 1, \"102\": 1, \"99\": 1}, \"31\": {\"31\": 13, \"90\": 2, \"102\": 1}, \"45\": {\"45\": 16}, \"2\": {\"96\": 3, \"2\": 10, \"109\": 3, \"26\": 1, \"121\": 2, \"18\": 3, \"113\": 1, \"126\": 1, \"84\": 2, \"16\": 2}, \"114\": {\"114\": 95, \"108\": 1, \"4\": 7, \"128\": 2, \"95\": 1, \"7\": 1, \"89\": 1, \"124\": 2, \"71\": 9, \"98\": 2, \"11\": 1, \"3\": 1, \"5\": 2, \"88\": 1, \"105\": 1, \"127\": 1}, \"11\": {\"28\": 1, \"96\": 1, \"3\": 13, \"11\": 82, \"87\": 9, \"72\": 1, \"105\": 1, \"107\": 8, \"82\": 1, \"5\": 4, \"7\": 2, \"14\": 4, \"109\": 1, \"33\": 1, \"74\": 1, \"99\": 1, \"98\": 1, \"22\": 1, \"60\": 1, \"1\": 2}, \"12\": {\"111\": 8, \"91\": 1, \"58\": 1, \"12\": 80, \"36\": 1, \"62\": 1, \"106\": 3, \"113\": 1, \"95\": 1, \"98\": 1, \"8\": 2}, \"14\": {\"14\": 98, \"11\": 3, \"43\": 2, \"81\": 1, \"122\": 1, \"99\": 2, \"3\": 1, \"110\": 2, \"5\": 2}, \"90\": {\"90\": 151, \"102\": 2, \"57\": 1}, \"10\": {\"10\": 53, \"94\": 8, \"97\": 3, \"19\": 1, \"9\": 1, \"8\": 7, \"27\": 9, \"24\": 10, \"15\": 7, \"36\": 9, \"111\": 1, \"106\": 1, \"18\": 1, \"70\": 1, \"30\": 5, \"101\": 2, \"0\": 1, \"127\": 1, \"88\": 1}, \"63\": {\"63\": 16}, \"85\": {\"85\": 20, \"4\": 3, \"86\": 2, \"43\": 1, \"1\": 1, \"124\": 1}, \"64\": {\"64\": 14, \"20\": 1, \"126\": 1}, \"82\": {\"11\": 2, \"82\": 19, \"32\": 2, \"43\": 7, \"101\": 1, \"44\": 1}, \"58\": {\"58\": 15, \"27\": 1}, \"3\": {\"3\": 113, \"35\": 1, \"11\": 9, \"10\": 1, \"5\": 2, \"4\": 1, \"73\": 1, \"60\": 1, \"79\": 2, \"19\": 2, \"88\": 1, \"21\": 1, \"27\": 1}, \"54\": {\"54\": 13, \"94\": 2, \"12\": 1}, \"121\": {\"121\": 27, \"123\": 1, \"84\": 1, \"16\": 2, \"39\": 1}, \"42\": {\"58\": 3, \"112\": 1, \"106\": 1, \"9\": 2, \"100\": 1, \"75\": 1, \"111\": 1, \"42\": 4, \"6\": 1, \"49\": 1, \"19\": 2, \"52\": 2, \"98\": 2, \"5\": 1, \"93\": 1, \"70\": 1, \"89\": 1, \"8\": 2}, \"98\": {\"98\": 88, \"29\": 2, \"26\": 1, \"52\": 4, \"4\": 2, \"109\": 1, \"124\": 3, \"127\": 7, \"126\": 1, \"91\": 2, \"84\": 1, \"24\": 1, \"128\": 2, \"39\": 1, \"71\": 2, \"111\": 2}, \"123\": {\"123\": 16}, \"91\": {\"91\": 17, \"68\": 3, \"111\": 2, \"127\": 2}, \"83\": {\"124\": 2, \"119\": 1, \"114\": 1, \"83\": 18, \"32\": 1, \"71\": 3, \"106\": 1, \"11\": 1}, \"99\": {\"99\": 33, \"57\": 1, \"89\": 1, \"82\": 1, \"115\": 1, \"32\": 1, \"107\": 2}, \"112\": {\"112\": 14, \"42\": 2}, \"119\": {\"119\": 12, \"14\": 2, \"73\": 2}, \"70\": {\"112\": 1, \"27\": 2, \"70\": 52, \"19\": 1, \"42\": 3, \"29\": 1, \"0\": 14, \"101\": 13, \"122\": 2, \"8\": 4, \"118\": 1, \"102\": 1, \"88\": 7, \"98\": 2, \"126\": 1, \"24\": 2, \"129\": 1, \"124\": 4, \"119\": 1, \"60\": 1, \"91\": 1, \"49\": 1, \"117\": 1, \"12\": 1, \"15\": 2, \"30\": 1, \"108\": 1, \"3\": 2}, \"20\": {\"20\": 13, \"19\": 2, \"1\": 1}, \"120\": {\"120\": 15, \"86\": 1, \"55\": 2, \"17\": 1, \"3\": 1}, \"7\": {\"7\": 110, \"87\": 8, \"1\": 3, \"108\": 1, \"17\": 1, \"60\": 1}, \"60\": {\"60\": 12, \"87\": 1, \"19\": 1, \"86\": 1, \"43\": 3, \"129\": 2, \"14\": 1, \"32\": 1, \"72\": 1, \"44\": 1, \"88\": 1, \"61\": 2, \"100\": 2, \"79\": 1, \"22\": 1, \"66\": 1}, \"113\": {\"113\": 106, \"39\": 4, \"121\": 2, \"126\": 2, \"26\": 2, \"117\": 1, \"24\": 1}, \"37\": {\"37\": 14, \"20\": 1, \"128\": 1}, \"124\": {\"124\": 108, \"114\": 1, \"71\": 1}, \"27\": {\"70\": 2, \"112\": 1, \"27\": 71, \"88\": 3, \"59\": 2, \"78\": 1, \"111\": 1, \"0\": 1, \"8\": 2, \"30\": 4, \"24\": 4, \"126\": 2, \"48\": 1, \"12\": 2, \"10\": 3}, \"86\": {\"86\": 27, \"114\": 1}, \"127\": {\"127\": 86, \"98\": 8, \"88\": 1, \"113\": 1, \"111\": 4, \"126\": 1, \"0\": 1, \"122\": 1, \"101\": 2, \"12\": 2, \"39\": 1}, \"62\": {\"62\": 43, \"71\": 1, \"122\": 1, \"118\": 5, \"84\": 2, \"69\": 1, \"108\": 1, \"92\": 2, \"80\": 1, \"110\": 1, \"44\": 2}, \"122\": {\"122\": 37, \"109\": 1, \"118\": 4, \"22\": 2, \"93\": 1, \"33\": 6, \"44\": 4, \"14\": 5, \"99\": 1, \"90\": 5, \"5\": 2, \"110\": 6, \"84\": 3, \"81\": 1, \"43\": 2, \"126\": 1, \"11\": 1, \"3\": 1, \"107\": 1}, \"51\": {\"106\": 2, \"85\": 1, \"30\": 1, \"21\": 1, \"52\": 2, \"53\": 1, \"15\": 1, \"51\": 3, \"23\": 1, \"62\": 1, \"6\": 1, \"17\": 1}, \"109\": {\"38\": 3, \"109\": 59, \"84\": 8, \"90\": 15, \"44\": 3, \"102\": 8, \"108\": 2, \"93\": 2, \"60\": 1, \"80\": 3, \"100\": 1, \"113\": 1, \"39\": 2, \"110\": 2, \"126\": 1, \"43\": 2, \"122\": 1}, \"106\": {\"106\": 81, \"129\": 1, \"39\": 1, \"111\": 6, \"12\": 7, \"58\": 1, \"8\": 3, \"88\": 2, \"124\": 2, \"101\": 2, \"126\": 2, \"78\": 1, \"1\": 1, \"127\": 1, \"125\": 2, \"117\": 1}, \"94\": {\"94\": 56, \"54\": 3, \"25\": 2, \"21\": 1, \"36\": 7, \"15\": 7, \"30\": 3, \"24\": 1, \"10\": 1, \"1\": 1, \"27\": 1, \"6\": 1, \"97\": 1, \"88\": 1, \"111\": 1, \"125\": 1}, \"38\": {\"38\": 16}, \"129\": {\"42\": 2, \"129\": 11, \"3\": 3, \"128\": 1, \"101\": 2, \"59\": 1, \"110\": 2, \"71\": 2, \"124\": 2, \"53\": 1, \"19\": 1}, \"116\": {\"38\": 2, \"33\": 4, \"116\": 14, \"76\": 1, \"102\": 1, \"44\": 2, \"69\": 1, \"115\": 1, \"118\": 2}, \"107\": {\"107\": 112, \"99\": 1, \"11\": 2, \"33\": 1, \"105\": 2}, \"30\": {\"6\": 2, \"30\": 56, \"15\": 6, \"10\": 2, \"39\": 1, \"94\": 2, \"36\": 2, \"70\": 1, \"0\": 1, \"24\": 2, \"16\": 1}, \"102\": {\"102\": 121, \"118\": 2, \"90\": 2, \"69\": 1, \"66\": 1, \"80\": 1, \"84\": 3, \"16\": 1}, \"74\": {\"74\": 12, \"44\": 2, \"22\": 2}, \"101\": {\"101\": 112, \"95\": 1, \"47\": 1, \"51\": 1, \"0\": 8, \"127\": 2, \"110\": 1, \"111\": 1, \"122\": 1, \"106\": 1, \"70\": 1, \"8\": 2}, \"117\": {\"117\": 110, \"30\": 1, \"74\": 1, \"16\": 1, \"26\": 2, \"63\": 1, \"81\": 4, \"39\": 2, \"84\": 1, \"109\": 1}, \"1\": {\"1\": 65, \"107\": 1, \"3\": 1, \"7\": 8, \"89\": 2, \"43\": 2, \"108\": 1, \"24\": 2, \"114\": 2, \"109\": 1, \"88\": 2, \"118\": 2, \"105\": 4, \"15\": 2, \"71\": 4, \"99\": 1, \"21\": 1, \"14\": 1, \"5\": 1, \"4\": 2, \"11\": 3}, \"84\": {\"84\": 109, \"118\": 3, \"69\": 4, \"109\": 1, \"122\": 1, \"102\": 5, \"117\": 1, \"90\": 2, \"14\": 3, \"33\": 2, \"88\": 1}, \"17\": {\"17\": 16, \"107\": 2, \"55\": 2}, \"6\": {\"101\": 1, \"85\": 1, \"36\": 3, \"6\": 13, \"75\": 1, \"125\": 1, \"103\": 1, \"94\": 1, \"95\": 2}, \"110\": {\"110\": 99, \"129\": 1, \"14\": 3, \"5\": 13, \"108\": 1, \"24\": 1, \"88\": 1, \"118\": 1, \"43\": 2, \"90\": 1, \"93\": 1}, \"77\": {\"77\": 12}, \"8\": {\"111\": 4, \"112\": 1, \"8\": 106, \"93\": 1, \"0\": 6, \"127\": 2, \"70\": 2, \"27\": 2, \"129\": 1, \"82\": 1, \"30\": 1, \"108\": 1, \"101\": 2, \"26\": 1, \"90\": 1}, \"73\": {\"110\": 2, \"73\": 15, \"10\": 1, \"3\": 1, \"19\": 1, \"36\": 1, \"93\": 1, \"119\": 2}, \"126\": {\"39\": 9, \"126\": 86, \"70\": 1, \"81\": 4, \"122\": 1, \"16\": 1, \"113\": 11, \"26\": 1, \"117\": 4, \"109\": 1, \"88\": 1, \"123\": 2, \"67\": 1, \"2\": 1}, \"57\": {\"57\": 16}, \"95\": {\"95\": 30, \"8\": 1, \"127\": 1}, \"103\": {\"4\": 1, \"103\": 11, \"47\": 1, \"114\": 1, \"29\": 2}, \"97\": {\"97\": 15, \"10\": 3, \"9\": 1, \"29\": 1}, \"39\": {\"126\": 3, \"39\": 55, \"26\": 5, \"113\": 9, \"117\": 5, \"35\": 1, \"63\": 1, \"87\": 1, \"81\": 3, \"24\": 1, \"118\": 2, \"65\": 1, \"80\": 1, \"2\": 2, \"18\": 1, \"21\": 2, \"108\": 1, \"84\": 1, \"5\": 1, \"109\": 4}, \"100\": {\"1\": 1, \"114\": 1, \"100\": 15, \"119\": 1, \"129\": 2}, \"40\": {\"40\": 101, \"115\": 1, \"69\": 1, \"28\": 1, \"105\": 2, \"107\": 4}, \"36\": {\"36\": 97, \"27\": 1, \"94\": 5, \"10\": 5, \"15\": 5, \"24\": 8, \"101\": 2, \"30\": 2, \"21\": 1}, \"19\": {\"129\": 1, \"19\": 10, \"80\": 2, \"53\": 3, \"73\": 2, \"48\": 1, \"93\": 1, \"122\": 1, \"114\": 1, \"0\": 2, \"88\": 1, \"98\": 1, \"57\": 1, \"90\": 1}, \"118\": {\"122\": 2, \"118\": 80, \"90\": 4, \"84\": 4, \"110\": 2, \"102\": 5, \"44\": 4, \"31\": 1, \"33\": 3, \"108\": 1, \"12\": 1, \"107\": 1, \"14\": 1, \"62\": 3}, \"56\": {\"56\": 12}, \"26\": {\"26\": 103, \"18\": 16, \"84\": 1, \"117\": 4, \"69\": 2}, \"5\": {\"5\": 124, \"110\": 6, \"11\": 2, \"117\": 1, \"14\": 2, \"4\": 1}, \"21\": {\"21\": 31, \"81\": 2, \"10\": 2, \"88\": 2, \"84\": 1, \"105\": 2}, \"22\": {\"82\": 2, \"22\": 9, \"36\": 1, \"74\": 2, \"13\": 2}, \"68\": {\"68\": 14, \"111\": 2}, \"9\": {\"30\": 2, \"9\": 24, \"51\": 2}, \"66\": {\"66\": 12, \"50\": 1, \"90\": 1, \"44\": 2}, \"87\": {\"115\": 1, \"87\": 63, \"50\": 1, \"32\": 1, \"107\": 7, \"89\": 2, \"72\": 2, \"105\": 8, \"7\": 11, \"11\": 7, \"3\": 8, \"5\": 1, \"76\": 1, \"40\": 5, \"128\": 1, \"14\": 1, \"43\": 2, \"33\": 1, \"117\": 1}, \"71\": {\"71\": 84, \"19\": 1, \"86\": 1, \"83\": 2, \"114\": 9, \"55\": 1, \"4\": 2, \"87\": 1, \"1\": 1, \"21\": 1, \"39\": 1}, \"115\": {\"107\": 3, \"28\": 1, \"3\": 1, \"115\": 8, \"11\": 2, \"72\": 1}, \"23\": {\"68\": 1, \"23\": 2, \"67\": 2, \"21\": 1, \"81\": 1, \"101\": 1, \"113\": 3, \"121\": 2, \"108\": 2, \"98\": 1}, \"33\": {\"33\": 112, \"116\": 2, \"0\": 1, \"102\": 2, \"16\": 1}, \"35\": {\"35\": 9, \"70\": 1, \"117\": 2}, \"125\": {\"125\": 125, \"118\": 1, \"127\": 2, \"26\": 1, \"81\": 1, \"122\": 1, \"10\": 1}, \"47\": {\"125\": 2, \"47\": 10}, \"79\": {\"79\": 14, \"89\": 2}, \"53\": {\"53\": 13, \"51\": 1, \"129\": 2}, \"67\": {\"113\": 4, \"67\": 4, \"13\": 1, \"35\": 1, \"123\": 1, \"122\": 1, \"8\": 1, \"116\": 1, \"118\": 1, \"96\": 1}, \"80\": {\"80\": 16}, \"105\": {\"105\": 78, \"88\": 1, \"78\": 1, \"87\": 4, \"10\": 1, \"7\": 5, \"1\": 2, \"11\": 1, \"40\": 4, \"108\": 1, \"70\": 1, \"106\": 1}, \"76\": {\"76\": 16}, \"46\": {\"46\": 19, \"124\": 1}, \"34\": {\"46\": 2, \"71\": 3, \"34\": 5, \"12\": 4, \"55\": 1, \"3\": 2, \"60\": 1, \"106\": 2, \"11\": 1, \"128\": 2, \"75\": 2, \"51\": 1, \"86\": 1, \"49\": 1, \"19\": 1, \"111\": 2, \"114\": 1}, \"32\": {\"32\": 14, \"11\": 1, \"3\": 2, \"79\": 2, \"14\": 1, \"29\": 1, \"33\": 2, \"31\": 1, \"89\": 2, \"107\": 1, \"45\": 1}, \"13\": {\"13\": 15, \"102\": 1}, \"78\": {\"4\": 1, \"78\": 10, \"3\": 2, \"85\": 2, \"43\": 2, \"74\": 1, \"1\": 2, \"11\": 1, \"114\": 1, \"93\": 1, \"98\": 1, \"60\": 1, \"91\": 1, \"115\": 1, \"10\": 1, \"109\": 1, \"126\": 1, \"72\": 1, \"81\": 1, \"117\": 1, \"14\": 1, \"87\": 2}, \"41\": {\"41\": 15, \"55\": 1}, \"69\": {\"31\": 3, \"13\": 1, \"69\": 112, \"88\": 2, \"84\": 2, \"118\": 2, \"113\": 2, \"78\": 1, \"27\": 1, \"122\": 2}, \"88\": {\"100\": 1, \"88\": 54, \"112\": 2, \"48\": 2, \"98\": 1, \"128\": 1, \"85\": 1, \"96\": 1, \"27\": 3, \"26\": 1, \"1\": 2, \"70\": 20, \"101\": 4, \"0\": 10, \"108\": 4, \"5\": 4, \"3\": 2, \"124\": 3, \"10\": 2, \"110\": 1, \"19\": 4, \"74\": 2, \"49\": 1, \"126\": 1, \"94\": 1, \"11\": 2, \"105\": 1, \"113\": 1}, \"15\": {\"91\": 1, \"15\": 104, \"94\": 2, \"24\": 2, \"10\": 4, \"122\": 1, \"8\": 2, \"126\": 1, \"111\": 1, \"9\": 1, \"6\": 1, \"30\": 4, \"21\": 1, \"12\": 1, \"27\": 1, \"106\": 1}, \"61\": {\"63\": 2, \"61\": 8, \"26\": 2, \"117\": 2, \"18\": 2}, \"0\": {\"0\": 66, \"29\": 1, \"27\": 2, \"101\": 16, \"71\": 2, \"124\": 2, \"127\": 4, \"8\": 8, \"98\": 2, \"109\": 1, \"126\": 1, \"111\": 5, \"108\": 2, \"117\": 1, \"113\": 1, \"4\": 1, \"70\": 1}, \"104\": {\"104\": 13, \"39\": 1, \"50\": 2}, \"48\": {\"48\": 5, \"69\": 2, \"121\": 2, \"102\": 2, \"31\": 2, \"68\": 1, \"92\": 2}, \"25\": {\"25\": 16}, \"75\": {\"75\": 16}, \"81\": {\"81\": 32, \"44\": 1, \"27\": 1, \"126\": 2}, \"50\": {\"50\": 16}, \"52\": {\"52\": 19, \"5\": 1}, \"16\": {\"16\": 108, \"84\": 2, \"108\": 1, \"102\": 2, \"88\": 1, \"69\": 2, \"18\": 1, \"90\": 2, \"114\": 1}, \"44\": {\"44\": 56, \"96\": 1, \"102\": 5, \"43\": 2}, \"29\": {\"29\": 29, \"21\": 1, \"98\": 1, \"1\": 1}, \"93\": {\"93\": 122, \"84\": 1, \"70\": 1}, \"18\": {\"18\": 94, \"117\": 4, \"69\": 2, \"26\": 11, \"81\": 2, \"39\": 1}, \"49\": {\"49\": 2, \"43\": 3, \"73\": 1, \"3\": 5, \"101\": 5, \"14\": 6, \"106\": 1, \"8\": 1, \"5\": 1, \"122\": 1, \"24\": 1, \"32\": 2, \"9\": 2, \"88\": 1}, \"55\": {\"55\": 16}, \"59\": {\"59\": 9, \"58\": 2, \"21\": 1}, \"128\": {\"128\": 6, \"114\": 1, \"72\": 1, \"19\": 1, \"98\": 1, \"26\": 1, \"99\": 2, \"124\": 1, \"34\": 1, \"46\": 1, \"28\": 1, \"11\": 1, \"129\": 1, \"43\": 1, \"89\": 1, \"14\": 1, \"3\": 1, \"7\": 1}, \"24\": {\"25\": 4, \"24\": 60, \"27\": 4, \"30\": 2, \"113\": 1, \"15\": 11, \"10\": 14, \"111\": 1, \"26\": 1, \"70\": 4, \"36\": 13, \"7\": 1, \"108\": 1, \"94\": 1, \"39\": 1, \"8\": 1}, \"65\": {\"65\": 12}, \"92\": {\"92\": 28}}, \"Wisig_1\": {\"108\": {\"108\": 103, \"101\": 13, \"126\": 2, \"70\": 1, \"109\": 2, \"72\": 1, \"24\": 2}, \"40\": {\"40\": 122, \"4\": 5, \"105\": 7, \"7\": 1, \"43\": 1}, \"68\": {\"68\": 12, \"64\": 1, \"91\": 1, \"127\": 2}, \"23\": {\"3\": 2, \"53\": 3, \"46\": 1, \"82\": 1, \"98\": 1, \"9\": 1, \"32\": 1, \"0\": 2, \"43\": 2, \"89\": 1, \"99\": 2, \"23\": 1, \"81\": 2, \"110\": 2, \"93\": 2}, \"26\": {\"26\": 111, \"24\": 1, \"16\": 3, \"117\": 2, \"118\": 2, \"94\": 1}, \"64\": {\"64\": 16}, \"22\": {\"22\": 12, \"114\": 2, \"69\": 1, \"94\": 1}, \"3\": {\"3\": 66, \"2\": 2, \"94\": 2, \"50\": 2, \"129\": 1, \"102\": 2, \"90\": 5, \"82\": 4, \"15\": 1, \"18\": 1, \"7\": 1, \"27\": 1}, \"4\": {\"4\": 91, \"8\": 3, \"114\": 1, \"93\": 1, \"40\": 1, \"83\": 2, \"121\": 1}, \"70\": {\"70\": 66, \"108\": 5, \"86\": 1, \"9\": 2, \"72\": 1, \"98\": 1, \"39\": 2, \"36\": 1, \"44\": 9, \"10\": 2, \"8\": 4, \"124\": 7, \"5\": 3, \"109\": 4, \"110\": 1, \"21\": 2, \"0\": 1, \"107\": 1, \"126\": 3, \"94\": 1, \"71\": 1, \"43\": 1, \"93\": 1}, \"57\": {\"57\": 11, \"103\": 1}, \"79\": {\"79\": 12}, \"9\": {\"9\": 31, \"73\": 1}, \"89\": {\"89\": 30, \"0\": 2, \"110\": 3, \"32\": 1}, \"110\": {\"110\": 107, \"46\": 2, \"107\": 2, \"98\": 9, \"89\": 7, \"106\": 1}, \"102\": {\"102\": 116, \"126\": 1, \"90\": 2, \"106\": 1}, \"31\": {\"31\": 15, \"110\": 1}, \"58\": {\"58\": 12}, \"47\": {\"47\": 12}, \"24\": {\"47\": 2, \"24\": 71, \"27\": 3, \"26\": 1, \"12\": 1, \"113\": 1, \"108\": 4, \"36\": 3, \"88\": 2, \"94\": 2, \"111\": 2}, \"19\": {\"19\": 19, \"96\": 2, \"20\": 1, \"126\": 2, \"29\": 1, \"9\": 1, \"124\": 1, \"73\": 1}, \"11\": {\"11\": 85, \"82\": 1, \"43\": 8, \"2\": 1, \"122\": 3, \"102\": 2, \"7\": 6, \"39\": 1, \"1\": 5, \"33\": 2, \"100\": 1, \"10\": 1, \"14\": 2, \"18\": 2, \"50\": 1, \"123\": 1, \"118\": 1, \"3\": 2, \"90\": 6, \"127\": 1}, \"52\": {\"52\": 20}, \"17\": {\"17\": 6, \"34\": 3, \"73\": 1, \"91\": 2, \"37\": 2, \"0\": 2}, \"25\": {\"25\": 15, \"122\": 1}, \"69\": {\"69\": 103, \"16\": 1, \"18\": 1, \"14\": 1, \"102\": 2}, \"96\": {\"109\": 3, \"96\": 12, \"51\": 1, \"43\": 1, \"104\": 1, \"39\": 1, \"44\": 1}, \"109\": {\"109\": 101, \"3\": 1, \"70\": 1, \"1\": 3, \"14\": 1, \"126\": 6, \"16\": 1}, \"115\": {\"115\": 12}, \"83\": {\"83\": 24, \"109\": 1, \"4\": 3}, \"84\": {\"84\": 107, \"1\": 12, \"42\": 1, \"87\": 2, \"114\": 4, \"88\": 1, \"39\": 1}, \"119\": {\"119\": 16}, \"122\": {\"7\": 6, \"122\": 55, \"11\": 5, \"82\": 2, \"109\": 1, \"78\": 1, \"43\": 2, \"42\": 1, \"84\": 1, \"1\": 3, \"39\": 2, \"60\": 1, \"28\": 4, \"87\": 1, \"117\": 1, \"114\": 1, \"21\": 1}, \"99\": {\"99\": 16, \"122\": 1, \"81\": 2, \"7\": 1, \"100\": 2, \"11\": 2}, \"1\": {\"1\": 124, \"118\": 1, \"84\": 7, \"39\": 1, \"22\": 2, \"117\": 1}, \"74\": {\"74\": 16}, \"85\": {\"85\": 32}, \"127\": {\"127\": 79, \"39\": 1, \"112\": 2, \"111\": 4, \"71\": 6, \"106\": 11, \"27\": 1, \"16\": 1, \"75\": 1, \"98\": 2}, \"111\": {\"111\": 102, \"127\": 5, \"68\": 1, \"71\": 4, \"106\": 5, \"12\": 2, \"24\": 1}, \"53\": {\"53\": 18, \"103\": 1, \"112\": 1}, \"88\": {\"88\": 74, \"94\": 5, \"97\": 2, \"71\": 5, \"12\": 1, \"36\": 8, \"30\": 2, \"27\": 6, \"24\": 10, \"109\": 1, \"126\": 4, \"14\": 1, \"15\": 2, \"108\": 6, \"101\": 2, \"19\": 1, \"6\": 1, \"52\": 1}, \"65\": {\"122\": 1, \"16\": 2, \"65\": 3, \"63\": 1, \"99\": 1, \"28\": 1, \"13\": 1, \"11\": 1, \"121\": 1}, \"7\": {\"7\": 128, \"43\": 4, \"122\": 1, \"128\": 1}, \"16\": {\"16\": 93, \"61\": 2, \"26\": 9, \"117\": 4}, \"128\": {\"73\": 2, \"7\": 3, \"125\": 1, \"25\": 1, \"128\": 2, \"78\": 2, \"34\": 1, \"43\": 2, \"108\": 2, \"44\": 2, \"23\": 1, \"97\": 1, \"124\": 1, \"15\": 1, \"98\": 2}, \"34\": {\"129\": 2, \"56\": 3, \"34\": 8, \"1\": 2, \"60\": 1, \"128\": 1, \"125\": 1, \"42\": 2, \"84\": 1, \"110\": 3, \"25\": 1, \"64\": 1, \"120\": 1, \"37\": 1, \"10\": 1, \"100\": 1, \"6\": 1, \"77\": 1}, \"129\": {\"129\": 9, \"73\": 1, \"124\": 2, \"44\": 1, \"19\": 1, \"42\": 1, \"3\": 3, \"1\": 2, \"2\": 3, \"84\": 4, \"49\": 1}, \"43\": {\"28\": 2, \"43\": 87, \"65\": 1, \"117\": 2, \"63\": 1, \"7\": 17, \"122\": 5, \"78\": 1, \"87\": 4, \"102\": 1, \"26\": 1, \"93\": 1, \"128\": 1, \"11\": 1, \"114\": 3}, \"92\": {\"92\": 28}, \"28\": {\"28\": 18, \"68\": 1, \"111\": 1}, \"27\": {\"27\": 65, \"36\": 3, \"88\": 7, \"94\": 8, \"30\": 2, \"24\": 3, \"126\": 1, \"108\": 3}, \"114\": {\"114\": 114, \"71\": 1, \"87\": 4, \"5\": 1, \"83\": 1, \"105\": 1, \"84\": 1, \"124\": 1}, \"73\": {\"73\": 20}, \"0\": {\"0\": 68, \"89\": 1, \"4\": 1, \"35\": 1, \"32\": 2, \"110\": 6, \"98\": 3, \"5\": 1, \"107\": 1}, \"104\": {\"73\": 2, \"104\": 12, \"126\": 2}, \"118\": {\"118\": 64, \"109\": 1, \"26\": 11, \"113\": 2, \"95\": 2, \"16\": 2, \"69\": 2}, \"41\": {\"41\": 16}, \"91\": {\"53\": 1, \"91\": 15, \"127\": 2, \"75\": 1, \"98\": 1, \"106\": 1, \"111\": 1, \"0\": 3, \"23\": 1, \"71\": 1, \"32\": 1}, \"124\": {\"124\": 122}, \"81\": {\"81\": 27, \"82\": 1}, \"63\": {\"63\": 16}, \"76\": {\"76\": 16}, \"10\": {\"10\": 78, \"51\": 1, \"70\": 4, \"93\": 12, \"40\": 2, \"8\": 2, \"44\": 3, \"105\": 2, \"4\": 4, \"107\": 3, \"110\": 1, \"47\": 1, \"87\": 2, \"86\": 1, \"83\": 1, \"124\": 1, \"85\": 1, \"16\": 1}, \"51\": {\"51\": 13, \"6\": 2, \"50\": 1}, \"82\": {\"82\": 35, \"22\": 1}, \"56\": {\"56\": 9, \"111\": 1, \"17\": 2}, \"30\": {\"30\": 24, \"27\": 8, \"15\": 1, \"24\": 3, \"94\": 2, \"36\": 5, \"97\": 3, \"52\": 1, \"88\": 3, \"71\": 1, \"70\": 1}, \"21\": {\"21\": 18, \"43\": 1, \"15\": 2, \"109\": 2, \"19\": 1, \"3\": 1, \"126\": 2, \"1\": 3, \"39\": 1, \"44\": 1, \"9\": 1, \"11\": 1, \"87\": 1, \"100\": 1, \"18\": 1, \"70\": 2, \"78\": 1}, \"46\": {\"46\": 3, \"105\": 2, \"40\": 4, \"6\": 1, \"94\": 1, \"83\": 1}, \"33\": {\"33\": 138}, \"101\": {\"101\": 119, \"126\": 2, \"12\": 1, \"62\": 1, \"102\": 1}, \"105\": {\"105\": 65, \"36\": 1, \"40\": 12, \"87\": 2, \"4\": 2, \"114\": 2}, \"50\": {\"50\": 13, \"82\": 2, \"96\": 1}, \"116\": {\"120\": 1, \"116\": 27, \"62\": 1, \"102\": 1, \"76\": 1, \"128\": 1}, \"77\": {\"77\": 12, \"86\": 1, \"31\": 1, \"68\": 2}, \"75\": {\"75\": 10, \"112\": 2, \"127\": 4}, \"95\": {\"95\": 35, \"26\": 1}, \"120\": {\"120\": 20}, \"18\": {\"18\": 107, \"39\": 1}, \"14\": {\"14\": 90, \"11\": 2, \"84\": 4}, \"44\": {\"44\": 76}, \"98\": {\"98\": 89, \"110\": 3, \"106\": 3, \"107\": 1}, \"121\": {\"121\": 29, \"113\": 2, \"123\": 1}, \"113\": {\"113\": 108}, \"103\": {\"103\": 16}, \"62\": {\"62\": 107, \"69\": 3, \"102\": 4, \"39\": 2, \"16\": 1, \"33\": 2, \"107\": 1}, \"32\": {\"49\": 1, \"32\": 10, \"111\": 1, \"0\": 2, \"98\": 5, \"112\": 1, \"127\": 2, \"6\": 1, \"110\": 3, \"91\": 4, \"52\": 1, \"71\": 1}, \"71\": {\"71\": 83, \"12\": 4, \"127\": 6, \"16\": 1, \"18\": 1, \"125\": 2, \"118\": 1, \"6\": 2, \"32\": 1, \"94\": 2, \"88\": 1, \"89\": 1, \"15\": 2, \"111\": 1}, \"94\": {\"94\": 72, \"30\": 3, \"88\": 7, \"36\": 2, \"16\": 1, \"27\": 3, \"126\": 1, \"10\": 1, \"70\": 1, \"113\": 1}, \"49\": {\"49\": 11, \"12\": 1, \"5\": 1, \"8\": 1, \"34\": 1, \"91\": 1, \"6\": 3, \"9\": 1}, \"12\": {\"12\": 92, \"71\": 2, \"127\": 1, \"111\": 4, \"109\": 1, \"98\": 1, \"75\": 1, \"21\": 1, \"108\": 1}, \"90\": {\"90\": 116, \"66\": 2, \"33\": 6}, \"93\": {\"93\": 67, \"85\": 2, \"105\": 6, \"35\": 1, \"0\": 1, \"4\": 6, \"87\": 3, \"10\": 7, \"8\": 5, \"5\": 2, \"124\": 2, \"71\": 1, \"107\": 6, \"110\": 4, \"49\": 1, \"40\": 7, \"84\": 1, \"18\": 1, \"1\": 1}, \"13\": {\"13\": 16}, \"67\": {\"94\": 1, \"67\": 11, \"61\": 1, \"116\": 1, \"38\": 1, \"69\": 1}, \"20\": {\"20\": 14, \"121\": 1, \"65\": 1}, \"2\": {\"28\": 1, \"2\": 16, \"66\": 1, \"25\": 1, \"82\": 1, \"123\": 1, \"7\": 1, \"39\": 2, \"122\": 1, \"100\": 2, \"81\": 1, \"63\": 1, \"99\": 1, \"80\": 1, \"11\": 1}, \"5\": {\"5\": 83, \"114\": 1, \"107\": 1, \"88\": 1, \"21\": 1, \"31\": 1}, \"54\": {\"54\": 13, \"31\": 2, \"29\": 1}, \"37\": {\"37\": 16}, \"38\": {\"38\": 16}, \"86\": {\"86\": 24, \"4\": 3, \"107\": 2, \"83\": 2, \"114\": 2, \"1\": 1, \"2\": 1, \"27\": 1}, \"55\": {\"55\": 11, \"107\": 1}, \"97\": {\"97\": 15, \"19\": 1, \"101\": 1, \"42\": 1, \"71\": 1, \"30\": 1}, \"29\": {\"29\": 28}, \"48\": {\"16\": 1, \"48\": 9, \"114\": 2}, \"60\": {\"60\": 3, \"84\": 1, \"13\": 1, \"18\": 2, \"83\": 1, \"119\": 1, \"117\": 2, \"116\": 1, \"1\": 2, \"62\": 1, \"19\": 1}, \"36\": {\"36\": 115, \"16\": 1, \"88\": 3, \"113\": 1, \"101\": 2}, \"42\": {\"55\": 1, \"2\": 1, \"1\": 1, \"105\": 1, \"93\": 3, \"59\": 1, \"81\": 1, \"42\": 6, \"109\": 3, \"5\": 2, \"86\": 2, \"124\": 2, \"107\": 2, \"18\": 1, \"11\": 1}, \"66\": {\"66\": 16}, \"126\": {\"126\": 110, \"19\": 3, \"14\": 2, \"44\": 5, \"5\": 1, \"70\": 3, \"96\": 2, \"84\": 2}, \"39\": {\"13\": 1, \"39\": 80, \"117\": 4, \"121\": 1, \"122\": 2, \"18\": 7, \"3\": 1, \"69\": 3, \"26\": 2, \"16\": 2, \"14\": 1}, \"107\": {\"107\": 107, \"55\": 2, \"0\": 3, \"4\": 1, \"5\": 4, \"117\": 1, \"8\": 5, \"79\": 1}, \"59\": {\"71\": 2, \"59\": 6, \"32\": 2, \"95\": 1, \"69\": 1}, \"117\": {\"117\": 134, \"16\": 4}, \"6\": {\"127\": 1, \"88\": 3, \"27\": 1, \"6\": 9, \"106\": 3, \"98\": 1, \"36\": 1, \"110\": 3, \"30\": 2, \"111\": 2, \"101\": 2, \"112\": 1, \"93\": 1, \"59\": 1, \"94\": 1}, \"123\": {\"123\": 16}, \"8\": {\"23\": 2, \"8\": 70, \"86\": 2, \"129\": 1, \"39\": 1, \"124\": 11, \"5\": 5, \"84\": 2, \"4\": 7, \"107\": 13, \"114\": 2, \"93\": 3, \"104\": 1, \"49\": 1, \"44\": 1, \"3\": 1, \"105\": 1}, \"112\": {\"112\": 12, \"127\": 1, \"24\": 1, \"17\": 1, \"34\": 1}, \"80\": {\"80\": 13, \"120\": 2, \"82\": 1}, \"125\": {\"125\": 136}, \"61\": {\"61\": 10, \"33\": 2}, \"45\": {\"45\": 4, \"14\": 2, \"115\": 1, \"129\": 2, \"25\": 1, \"60\": 2}, \"72\": {\"72\": 28, \"15\": 2, \"44\": 1, \"128\": 1}, \"87\": {\"43\": 5, \"93\": 3, \"84\": 3, \"87\": 71, \"122\": 4, \"114\": 4, \"7\": 1, \"105\": 7, \"1\": 5, \"4\": 1, \"40\": 3, \"97\": 1}, \"106\": {\"106\": 104, \"111\": 6, \"32\": 2, \"98\": 4, \"127\": 6, \"91\": 1, \"113\": 1}, \"35\": {\"35\": 7, \"106\": 1, \"8\": 2, \"32\": 1, \"6\": 1}, \"78\": {\"14\": 3, \"3\": 3, \"122\": 2, \"11\": 1, \"114\": 1, \"78\": 3, \"43\": 1, \"28\": 1, \"108\": 1}, \"15\": {\"15\": 84, \"32\": 1, \"71\": 6, \"6\": 2, \"39\": 1, \"111\": 3, \"18\": 1, \"12\": 3, \"21\": 1, \"36\": 1, \"101\": 1}, \"100\": {\"100\": 15, \"82\": 1}}, \"Wisig_2\": {\"91\": {\"91\": 15, \"125\": 3, \"107\": 2, \"54\": 1, \"127\": 1, \"98\": 1, \"14\": 1, \"12\": 4}, \"12\": {\"91\": 2, \"12\": 61, \"114\": 2, \"117\": 1, \"111\": 4, \"98\": 1, \"16\": 1, \"127\": 3, \"106\": 1, \"24\": 1, \"97\": 2, \"128\": 2, \"124\": 4, \"54\": 1, \"10\": 1, \"94\": 1}, \"101\": {\"101\": 145, \"24\": 2, \"87\": 1}, \"121\": {\"117\": 3, \"120\": 1, \"121\": 22, \"26\": 2, \"65\": 2, \"109\": 1, \"18\": 2, \"2\": 1, \"57\": 2}, \"118\": {\"118\": 38, \"33\": 2, \"116\": 1, \"62\": 6, \"89\": 1, \"14\": 1, \"32\": 1, \"16\": 1, \"70\": 1, \"98\": 1, \"84\": 4, \"55\": 1, \"48\": 2, \"38\": 1, \"102\": 1, \"80\": 1, \"82\": 2, \"87\": 3}, \"10\": {\"110\": 3, \"12\": 1, \"10\": 28, \"5\": 5, \"121\": 1, \"3\": 3, \"126\": 1, \"95\": 2, \"7\": 5, \"117\": 1, \"63\": 1, \"86\": 1, \"85\": 1, \"24\": 1, \"18\": 1, \"71\": 1, \"78\": 1, \"44\": 1, \"34\": 1, \"1\": 1}, \"117\": {\"117\": 108, \"81\": 2, \"113\": 3, \"39\": 2, \"31\": 1, \"69\": 2, \"18\": 2}, \"110\": {\"110\": 25, \"73\": 2, \"120\": 1, \"5\": 2, \"109\": 1, \"14\": 1, \"90\": 1, \"53\": 1, \"42\": 1, \"95\": 1, \"129\": 1, \"3\": 1, \"122\": 2}, \"97\": {\"97\": 17, \"106\": 2, \"129\": 1}, \"28\": {\"28\": 14, \"66\": 5, \"86\": 1}, \"88\": {\"126\": 3, \"88\": 64, \"1\": 2, \"16\": 7, \"39\": 3, \"44\": 3, \"14\": 1, \"70\": 3, \"90\": 3, \"43\": 3, \"93\": 13, \"118\": 2, \"109\": 7, \"24\": 1, \"100\": 1, \"119\": 1, \"83\": 2, \"60\": 2, \"78\": 2, \"11\": 1}, \"17\": {\"17\": 10, \"41\": 2, \"111\": 2, \"4\": 2}, \"126\": {\"126\": 111, \"102\": 1, \"88\": 1, \"57\": 1}, \"33\": {\"33\": 110, \"23\": 1, \"84\": 10, \"87\": 1, \"93\": 1, \"38\": 2, \"117\": 1, \"90\": 2}, \"86\": {\"86\": 32}, \"106\": {\"106\": 106, \"81\": 1, \"12\": 1, \"30\": 3, \"111\": 3, \"87\": 1, \"58\": 1, \"121\": 1, \"21\": 1, \"70\": 1, \"126\": 1}, \"54\": {\"54\": 18, \"91\": 2}, \"125\": {\"106\": 1, \"103\": 1, \"125\": 127, \"58\": 2, \"105\": 1}, \"83\": {\"83\": 36, \"16\": 2, \"119\": 1, \"126\": 1}, \"98\": {\"98\": 96, \"111\": 5, \"84\": 1, \"113\": 1, \"127\": 5, \"122\": 1, \"108\": 5, \"87\": 1, \"3\": 1, \"90\": 1, \"26\": 1, \"124\": 2}, \"11\": {\"42\": 1, \"11\": 66, \"20\": 1, \"44\": 1, \"79\": 1, \"10\": 2, \"69\": 1, \"8\": 2, \"43\": 1, \"32\": 1, \"98\": 2, \"88\": 1}, \"32\": {\"42\": 1, \"61\": 2, \"3\": 5, \"32\": 7, \"129\": 1, \"107\": 1, \"123\": 1, \"128\": 1, \"95\": 1, \"86\": 2, \"19\": 2, \"98\": 1, \"40\": 2, \"112\": 1, \"44\": 3, \"115\": 1, \"122\": 1, \"105\": 2, \"7\": 1}, \"42\": {\"11\": 2, \"58\": 1, \"42\": 10, \"46\": 2, \"3\": 2, \"12\": 1, \"127\": 1, \"52\": 1, \"123\": 2, \"6\": 1, \"75\": 1, \"44\": 2, \"19\": 2}, \"103\": {\"103\": 12, \"77\": 2, \"59\": 2}, \"87\": {\"83\": 4, \"87\": 38, \"119\": 1, \"118\": 6, \"116\": 4, \"84\": 8, \"14\": 1, \"60\": 2, \"23\": 2, \"16\": 10, \"90\": 8, \"39\": 1, \"126\": 1, \"93\": 2, \"88\": 1, \"62\": 6, \"24\": 2, \"113\": 1, \"33\": 3, \"80\": 2, \"38\": 2, \"82\": 1, \"117\": 1, \"94\": 2, \"78\": 1, \"27\": 1, \"71\": 1}, \"61\": {\"61\": 14, \"32\": 1, \"27\": 1, \"39\": 1, \"21\": 1, \"105\": 2}, \"13\": {\"13\": 7, \"55\": 1, \"14\": 1, \"116\": 4, \"89\": 1, \"38\": 1, \"27\": 1}, \"4\": {\"4\": 74, \"114\": 1, \"39\": 1, \"69\": 1, \"71\": 2, \"122\": 1, \"5\": 2, \"88\": 1, \"7\": 3}, \"15\": {\"15\": 100, \"109\": 1, \"94\": 2, \"12\": 2, \"106\": 5, \"6\": 1, \"0\": 2, \"101\": 3, \"51\": 2, \"58\": 1, \"30\": 1}, \"120\": {\"120\": 20}, \"80\": {\"80\": 15, \"22\": 1}, \"72\": {\"72\": 21, \"120\": 1, \"16\": 1, \"48\": 1, \"13\": 2, \"60\": 2}, \"64\": {\"64\": 12, \"7\": 1, \"3\": 1, \"40\": 2}, \"81\": {\"81\": 19, \"88\": 1, \"2\": 3, \"43\": 1}, \"102\": {\"102\": 110, \"31\": 2}, \"76\": {\"76\": 16}, \"49\": {\"52\": 4, \"3\": 2, \"49\": 5, \"114\": 1, \"9\": 1, \"86\": 1, \"58\": 2, \"85\": 1, \"111\": 1, \"5\": 1, \"124\": 1, \"39\": 1, \"32\": 1, \"53\": 1, \"98\": 1}, \"129\": {\"129\": 24, \"47\": 1, \"123\": 3, \"44\": 1, \"3\": 2, \"112\": 1}, \"89\": {\"89\": 32, \"67\": 2, \"126\": 1, \"49\": 1}, \"52\": {\"52\": 16, \"97\": 2, \"111\": 1, \"101\": 1}, \"35\": {\"98\": 2, \"35\": 10}, \"53\": {\"53\": 16}, \"26\": {\"26\": 111, \"18\": 3, \"69\": 4, \"90\": 2, \"87\": 3, \"62\": 1, \"8\": 1, \"14\": 1, \"2\": 1, \"10\": 1}, \"96\": {\"96\": 20}, \"27\": {\"27\": 37, \"21\": 2, \"0\": 1, \"15\": 2, \"109\": 3, \"101\": 5, \"88\": 2, \"24\": 1, \"84\": 1, \"62\": 1, \"9\": 1, \"113\": 1, \"25\": 1, \"36\": 7, \"18\": 1, \"117\": 1, \"108\": 1}, \"24\": {\"24\": 56, \"88\": 2, \"108\": 1, \"0\": 14, \"15\": 6, \"101\": 11, \"94\": 4, \"27\": 4, \"36\": 2, \"69\": 1, \"106\": 1, \"39\": 2, \"70\": 2, \"30\": 1, \"126\": 1, \"8\": 2, \"14\": 1, \"10\": 1}, \"82\": {\"82\": 31, \"15\": 2, \"21\": 1, \"10\": 1, \"90\": 1}, \"18\": {\"18\": 109, \"109\": 1, \"26\": 6, \"39\": 1, \"117\": 4, \"113\": 2, \"14\": 1, \"2\": 1, \"23\": 2, \"69\": 1}, \"69\": {\"26\": 8, \"69\": 101, \"57\": 2, \"84\": 2, \"102\": 6, \"5\": 1, \"88\": 1, \"126\": 1}, \"47\": {\"129\": 4, \"47\": 5, \"123\": 1, \"19\": 2}, \"85\": {\"85\": 29, \"71\": 1, \"32\": 2}, \"2\": {\"99\": 1, \"2\": 23, \"65\": 2, \"81\": 3, \"113\": 1, \"18\": 1, \"109\": 1}, \"67\": {\"67\": 11, \"55\": 2, \"84\": 2, \"72\": 1}, \"39\": {\"39\": 60, \"70\": 2, \"88\": 4, \"81\": 2, \"120\": 1, \"90\": 3, \"18\": 4, \"102\": 3, \"109\": 9, \"69\": 6, \"62\": 1, \"93\": 3, \"87\": 2, \"65\": 2, \"16\": 2, \"2\": 1, \"122\": 2, \"89\": 1, \"26\": 2, \"105\": 1, \"117\": 1}, \"99\": {\"99\": 28, \"16\": 2, \"39\": 2}, \"74\": {\"74\": 11, \"7\": 2, \"108\": 1, \"75\": 2}, \"105\": {\"105\": 106, \"40\": 12, \"7\": 4, \"5\": 1, \"109\": 1, \"43\": 3, \"61\": 1, \"87\": 1, \"4\": 1, \"95\": 1, \"1\": 1}, \"70\": {\"70\": 36, \"10\": 1, \"38\": 1, \"88\": 11, \"40\": 2, \"126\": 7, \"43\": 16, \"14\": 2, \"3\": 9, \"78\": 1, \"16\": 2, \"44\": 4, \"84\": 3, \"1\": 8, \"109\": 1, \"87\": 3, \"33\": 5, \"19\": 2, \"129\": 1, \"118\": 1, \"105\": 1, \"90\": 1, \"93\": 2, \"62\": 1, \"102\": 1}, \"55\": {\"55\": 15, \"67\": 1}, \"30\": {\"30\": 66, \"75\": 2, \"97\": 2, \"42\": 2, \"106\": 15, \"0\": 2, \"44\": 1, \"101\": 2, \"98\": 3, \"8\": 2, \"126\": 1, \"70\": 1, \"111\": 2, \"108\": 6, \"12\": 1, \"6\": 1, \"58\": 1, \"49\": 1, \"1\": 1}, \"60\": {\"60\": 15, \"55\": 1, \"44\": 3, \"21\": 1, \"84\": 1, \"1\": 3, \"3\": 1, \"90\": 2, \"46\": 1}, \"92\": {\"92\": 19, \"51\": 1, \"75\": 1, \"69\": 1, \"76\": 1, \"55\": 1, \"48\": 2, \"80\": 2}, \"45\": {\"60\": 2, \"45\": 12, \"14\": 1, \"88\": 1}, \"127\": {\"127\": 92, \"111\": 9, \"3\": 1, \"106\": 1, \"108\": 1, \"5\": 1, \"89\": 1, \"35\": 1, \"54\": 1, \"114\": 1, \"98\": 1, \"124\": 2}, \"9\": {\"120\": 1, \"9\": 30, \"113\": 1}, \"115\": {\"73\": 2, \"115\": 10}, \"73\": {\"73\": 26, \"19\": 2}, \"108\": {\"108\": 96, \"45\": 1, \"49\": 1, \"8\": 12, \"124\": 3, \"11\": 6, \"0\": 6, \"111\": 2, \"98\": 3, \"30\": 2, \"126\": 1, \"79\": 1, \"101\": 2, \"70\": 2}, \"114\": {\"114\": 101, \"29\": 1, \"122\": 2, \"12\": 2, \"117\": 1, \"124\": 4, \"98\": 1, \"71\": 1, \"118\": 1, \"4\": 1, \"113\": 1}, \"63\": {\"92\": 1, \"63\": 16, \"116\": 2, \"35\": 1}, \"93\": {\"93\": 118, \"90\": 3, \"16\": 5, \"118\": 1, \"88\": 1}, \"7\": {\"7\": 127, \"114\": 2, \"71\": 2, \"95\": 1}, \"31\": {\"31\": 15, \"14\": 1, \"102\": 1, \"81\": 2, \"39\": 1}, \"123\": {\"123\": 16}, \"128\": {\"7\": 3, \"111\": 2, \"108\": 3, \"107\": 4, \"128\": 1, \"42\": 2, \"56\": 3, \"94\": 1, \"49\": 1, \"32\": 1, \"122\": 1, \"52\": 1, \"8\": 1}, \"0\": {\"0\": 95, \"112\": 2, \"24\": 2, \"101\": 5, \"69\": 2, \"8\": 3, \"11\": 3, \"27\": 2, \"87\": 1, \"70\": 1}, \"3\": {\"19\": 1, \"128\": 1, \"3\": 126, \"102\": 1, \"122\": 1, \"5\": 3, \"73\": 1, \"110\": 1, \"90\": 1}, \"19\": {\"129\": 1, \"47\": 1, \"3\": 2, \"32\": 1, \"19\": 5, \"83\": 4, \"71\": 2, \"107\": 1, \"122\": 2, \"46\": 3, \"85\": 2, \"34\": 1, \"110\": 1, \"5\": 2}, \"57\": {\"57\": 17, \"31\": 2, \"126\": 1}, \"78\": {\"78\": 15, \"61\": 1, \"33\": 1, \"39\": 1, \"43\": 6, \"105\": 3, \"70\": 3, \"1\": 1, \"62\": 1, \"87\": 2, \"14\": 3, \"74\": 1, \"11\": 1, \"85\": 1, \"82\": 1, \"88\": 1, \"40\": 1, \"44\": 3, \"5\": 1, \"109\": 1}, \"95\": {\"95\": 30, \"7\": 4, \"105\": 1, \"88\": 1}, \"40\": {\"40\": 104, \"1\": 4, \"105\": 16, \"98\": 2, \"7\": 2, \"39\": 1, \"126\": 1, \"43\": 2, \"37\": 1, \"27\": 1, \"5\": 1, \"70\": 1, \"0\": 1, \"117\": 1, \"33\": 1, \"26\": 1}, \"14\": {\"14\": 25, \"55\": 1, \"16\": 1, \"57\": 1, \"60\": 4, \"3\": 1, \"90\": 1, \"84\": 2, \"126\": 1, \"18\": 1, \"61\": 2, \"81\": 1, \"88\": 1, \"33\": 2, \"1\": 2, \"94\": 1, \"118\": 1}, \"36\": {\"36\": 106, \"21\": 1, \"27\": 8, \"118\": 1, \"109\": 1, \"15\": 2, \"8\": 1, \"117\": 1, \"20\": 1, \"96\": 1, \"107\": 1, \"87\": 1, \"101\": 2, \"88\": 1}, \"56\": {\"56\": 11, \"95\": 1}, \"111\": {\"111\": 124, \"24\": 1, \"127\": 1, \"124\": 2}, \"59\": {\"54\": 1, \"59\": 13, \"15\": 1, \"24\": 1}, \"79\": {\"79\": 15, \"77\": 1}, \"62\": {\"62\": 104, \"38\": 1, \"33\": 8, \"84\": 2, \"102\": 1, \"118\": 1, \"87\": 2, \"119\": 1, \"24\": 1, \"90\": 1}, \"21\": {\"21\": 42, \"39\": 4, \"0\": 2}, \"48\": {\"48\": 19, \"116\": 1}, \"16\": {\"16\": 105, \"57\": 1, \"88\": 1, \"83\": 2, \"93\": 8, \"109\": 1, \"90\": 2, \"102\": 2, \"39\": 1, \"1\": 1}, \"50\": {\"50\": 15, \"33\": 1}, \"44\": {\"44\": 94, \"117\": 1, \"124\": 1}, \"5\": {\"5\": 97, \"4\": 2, \"127\": 1, \"122\": 3, \"93\": 1, \"124\": 1, \"3\": 4, \"12\": 1}, \"20\": {\"20\": 13, \"23\": 2, \"24\": 1}, \"1\": {\"50\": 2, \"1\": 108, \"57\": 1, \"105\": 1, \"118\": 1, \"43\": 4, \"84\": 2, \"70\": 1}, \"65\": {\"65\": 18, \"27\": 1, \"71\": 1}, \"116\": {\"60\": 2, \"118\": 1, \"116\": 24, \"82\": 1}, \"51\": {\"51\": 15, \"106\": 1, \"125\": 2, \"127\": 1, \"0\": 1}, \"75\": {\"75\": 12, \"11\": 1, \"93\": 1, \"106\": 1, \"111\": 1}, \"100\": {\"100\": 16}, \"113\": {\"113\": 67, \"99\": 2, \"117\": 3}, \"41\": {\"41\": 20}, \"29\": {\"29\": 28, \"68\": 1, \"71\": 1, \"98\": 1, \"128\": 1}, \"23\": {\"114\": 6, \"3\": 3, \"23\": 6, \"85\": 1, \"81\": 1, \"121\": 2, \"34\": 1, \"32\": 1, \"124\": 3, \"102\": 1, \"122\": 3, \"26\": 2, \"113\": 1, \"18\": 3, \"2\": 1, \"99\": 1, \"39\": 2, \"127\": 2, \"71\": 1, \"120\": 1, \"110\": 1, \"98\": 1}, \"124\": {\"124\": 117, \"34\": 2, \"71\": 2, \"98\": 1, \"21\": 1, \"117\": 1}, \"68\": {\"68\": 11, \"114\": 2, \"52\": 1, \"19\": 2}, \"71\": {\"128\": 1, \"71\": 77, \"88\": 1, \"122\": 3, \"23\": 1, \"107\": 2, \"94\": 1, \"4\": 3, \"114\": 1, \"66\": 2, \"34\": 4, \"98\": 2, \"5\": 2}, \"107\": {\"107\": 42, \"128\": 2, \"117\": 1, \"32\": 2, \"39\": 1, \"109\": 2, \"34\": 1, \"1\": 1, \"114\": 1, \"26\": 1, \"5\": 5, \"99\": 1, \"7\": 1, \"14\": 1, \"95\": 1, \"3\": 1}, \"94\": {\"94\": 33, \"128\": 2, \"109\": 1, \"9\": 2, \"101\": 9, \"83\": 1, \"15\": 2, \"36\": 1, \"0\": 2, \"58\": 2, \"12\": 1, \"106\": 1, \"118\": 1, \"108\": 1, \"18\": 1, \"24\": 3, \"110\": 1}, \"77\": {\"77\": 13, \"66\": 2, \"39\": 1}, \"8\": {\"8\": 106, \"49\": 2, \"108\": 11, \"75\": 1, \"101\": 1, \"70\": 1}, \"46\": {\"46\": 16}, \"25\": {\"25\": 14, \"83\": 1, \"38\": 1}, \"122\": {\"122\": 65, \"19\": 2, \"110\": 2, \"10\": 1, \"88\": 1, \"5\": 9, \"71\": 11, \"4\": 2, \"124\": 9, \"11\": 1, \"98\": 5, \"70\": 2, \"12\": 1, \"114\": 5, \"3\": 8, \"107\": 1, \"126\": 1, \"39\": 1, \"43\": 3, \"53\": 1, \"85\": 1, \"34\": 2, \"113\": 1, \"128\": 1, \"87\": 1, \"23\": 1, \"7\": 1, \"108\": 1}, \"58\": {\"97\": 2, \"9\": 2, \"58\": 13, \"39\": 1, \"110\": 1, \"24\": 1}, \"6\": {\"51\": 5, \"94\": 1, \"36\": 1, \"6\": 11, \"101\": 4, \"15\": 1, \"9\": 2, \"111\": 2, \"25\": 2, \"97\": 1, \"17\": 1, \"125\": 1}, \"109\": {\"20\": 1, \"109\": 50, \"100\": 1, \"16\": 9, \"87\": 4, \"90\": 3, \"88\": 10, \"26\": 1, \"39\": 4, \"70\": 5, \"117\": 1, \"126\": 2, \"93\": 7, \"83\": 1, \"33\": 1}, \"119\": {\"119\": 17, \"90\": 2, \"27\": 1}, \"34\": {\"122\": 2, \"34\": 11, \"29\": 2, \"98\": 2, \"11\": 1, \"6\": 1, \"91\": 2, \"12\": 2, \"41\": 1, \"71\": 1, \"129\": 1, \"124\": 2, \"127\": 2, \"114\": 1, \"3\": 1}, \"90\": {\"90\": 131, \"60\": 1, \"102\": 3, \"26\": 1, \"118\": 2, \"18\": 1, \"69\": 1}, \"38\": {\"38\": 16}, \"104\": {\"29\": 2, \"104\": 15, \"86\": 2, \"8\": 1}, \"84\": {\"84\": 70, \"65\": 1, \"33\": 11, \"62\": 4, \"122\": 1, \"118\": 1, \"1\": 3, \"43\": 1}, \"112\": {\"112\": 10, \"8\": 1, \"10\": 1, \"34\": 1, \"3\": 1, \"19\": 1, \"73\": 1}, \"66\": {\"66\": 15, \"107\": 2, \"39\": 1, \"71\": 1, \"15\": 1}, \"22\": {\"22\": 20}, \"37\": {\"37\": 16}, \"43\": {\"78\": 5, \"105\": 12, \"83\": 1, \"43\": 72, \"88\": 1, \"1\": 10, \"32\": 1, \"62\": 3, \"90\": 2, \"39\": 2, \"70\": 4, \"8\": 1, \"122\": 2, \"87\": 2, \"109\": 1, \"118\": 1, \"84\": 1, \"33\": 2, \"126\": 1}}}, \"per_domain_accuracy\": {\"ORACLE.run114\": {\"accuracy\": 0.8161458333333333, \"source?\": true}, \"ORACLE.run120\": {\"accuracy\": 0.6603125, \"source?\": true}, \"ORACLE.run138\": {\"accuracy\": 0.8071875, \"source?\": true}, \"ORACLE.run18\": {\"accuracy\": 0.7029166666666666, \"source?\": true}, \"ORACLE.run150\": {\"accuracy\": 0.7839583333333333, \"source?\": true}, \"ORACLE.run132\": {\"accuracy\": 0.7759895833333333, \"source?\": true}, \"ORACLE.run126\": {\"accuracy\": 0.5574479166666667, \"source?\": true}, \"ORACLE.run144\": {\"accuracy\": 0.7203645833333333, \"source?\": true}, \"Wisig_3\": {\"accuracy\": 0.8067434210526315, \"source?\": false}, \"Wisig_4\": {\"accuracy\": 0.7463991769547325, \"source?\": false}, \"Wisig_1\": {\"accuracy\": 0.8121010638297872, \"source?\": false}, \"Wisig_2\": {\"accuracy\": 0.7649684873949579, \"source?\": false}}}, \"history\": {\"epoch_indices\": [1, 2, 3, 4, 5, 6, 7, 8, 9, 10, 11, 12, 13, 14, 15], \"train_label_loss\": [1.0881568495264011, 0.836507260268554, 0.7488346497949567, 0.6663349441833617, 0.6031668750496049, 0.5504404137241432, 0.5030147590044709, 0.4615316226171507, 0.42507125645526683, 0.3930638100019479, 0.36506199704181025, 0.33866372871154454, 0.31414519364691973, 0.2927861466256824, 0.27332043391297617], \"source_val_label_loss\": [0.9300221800804138, 0.8646792769432068, 0.802205502986908, 0.7595951557159424, 0.7536260485649109, 0.7546022534370422, 0.7521455883979797, 0.7577707171440125, 0.7644143104553223, 0.7837474346160889, 0.8099909424781799, 0.8376718759536743, 0.8553931713104248, 0.8764462471008301, 0.8974096775054932], \"target_val_label_loss\": [6.698774337768555, 6.833226680755615, 7.845350742340088, 8.142132759094238, 8.588951110839844, 9.466634750366211, 9.822341918945312, 9.937494277954102, 10.385839462280273, 10.737106323242188, 11.359891891479492, 12.162111282348633, 11.924861907958984, 12.745375633239746, 13.197127342224121], \"source_val_acc_label\": [0.651171875, 0.6711197916666667, 0.70271484375, 0.7217903645833333, 0.7260221354166667, 0.7276888020833333, 0.7331901041666666, 0.7321809895833333, 0.7337760416666667, 0.7317252604166666, 0.7280403645833333, 0.7302864583333334, 0.7258658854166666, 0.7289908854166667, 0.72380859375], \"target_val_acc_label\": [0.6898172669491526, 0.7072960805084746, 0.736328125, 0.7522510593220338, 0.7654594809322034, 0.7632084216101694, 0.7696636652542372, 0.7741326800847458, 0.7803893008474576, 0.7803561970338984, 0.7820113877118644, 0.776416843220339, 0.7807865466101694, 0.7768802966101694, 0.7786679025423728]}, \"dataset_metrics\": {\"source\": {\"train\": {\"n_unique_x\": 896000, \"n_unique_y\": 16, \"n_batch/episode\": 33600}, \"val\": {\"n_unique_x\": 192000, \"n_unique_y\": 16, \"n_batch/episode\": 4800}, \"test\": {\"n_unique_x\": 192000, \"n_unique_y\": 16, \"n_batch/episode\": 4800}}, \"target\": {\"train\": {\"n_unique_x\": 188967, \"n_unique_y\": 130, \"n_batch/episode\": 6837}, \"val\": {\"n_unique_x\": 40068, \"n_unique_y\": 130, \"n_batch/episode\": 944}, \"test\": {\"n_unique_x\": 40816, \"n_unique_y\": 130, \"n_batch/episode\": 969}}}}'"
      ]
     },
     "execution_count": 29,
     "metadata": {},
     "output_type": "execute_result"
    }
   ],
   "source": [
    "json.dumps(experiment)"
   ]
  }
 ],
 "metadata": {
  "celltoolbar": "Tags",
  "kernelspec": {
   "display_name": "Python 3 (ipykernel)",
   "language": "python",
   "name": "python3"
  },
  "language_info": {
   "codemirror_mode": {
    "name": "ipython",
    "version": 3
   },
   "file_extension": ".py",
   "mimetype": "text/x-python",
   "name": "python",
   "nbconvert_exporter": "python",
   "pygments_lexer": "ipython3",
   "version": "3.8.12"
  },
  "papermill": {
   "default_parameters": {},
   "duration": 12229.870129,
   "end_time": "2022-03-23T12:24:22.158728",
   "environment_variables": {},
   "exception": null,
   "input_path": "/root/csc500-main/csc500-notebooks/templates/tl_ptn_template.ipynb",
   "output_path": "trial.ipynb",
   "parameters": {
    "parameters": {
     "BEST_MODEL_PATH": "./best_model.pth",
     "NUM_LOGS_PER_EPOCH": 10,
     "criteria_for_best": "target_accuracy",
     "dataset_seed": 1337,
     "datasets": [
      {
       "domain_prefix": "Wisig_",
       "domains": [
        1,
        2,
        3,
        4
       ],
       "episode_transforms": [],
       "labels": [
        "1-10",
        "1-12",
        "1-14",
        "1-16",
        "1-18",
        "1-19",
        "1-8",
        "10-11",
        "10-17",
        "10-4",
        "10-7",
        "11-1",
        "11-10",
        "11-19",
        "11-20",
        "11-4",
        "11-7",
        "12-19",
        "12-20",
        "12-7",
        "13-14",
        "13-18",
        "13-19",
        "13-20",
        "13-3",
        "13-7",
        "14-10",
        "14-11",
        "14-12",
        "14-13",
        "14-14",
        "14-19",
        "14-20",
        "14-7",
        "14-8",
        "14-9",
        "15-1",
        "15-19",
        "15-6",
        "16-1",
        "16-16",
        "16-19",
        "16-20",
        "17-10",
        "17-11",
        "18-1",
        "18-10",
        "18-11",
        "18-12",
        "18-13",
        "18-14",
        "18-15",
        "18-16",
        "18-17",
        "18-19",
        "18-2",
        "18-20",
        "18-4",
        "18-5",
        "18-7",
        "18-8",
        "18-9",
        "19-1",
        "19-10",
        "19-11",
        "19-12",
        "19-13",
        "19-14",
        "19-15",
        "19-19",
        "19-2",
        "19-20",
        "19-3",
        "19-4",
        "19-6",
        "19-7",
        "19-8",
        "19-9",
        "2-1",
        "2-13",
        "2-15",
        "2-3",
        "2-4",
        "2-5",
        "2-6",
        "2-7",
        "2-8",
        "20-1",
        "20-12",
        "20-14",
        "20-15",
        "20-16",
        "20-18",
        "20-19",
        "20-20",
        "20-3",
        "20-4",
        "20-5",
        "20-7",
        "20-8",
        "3-1",
        "3-13",
        "3-18",
        "3-2",
        "3-8",
        "4-1",
        "4-10",
        "4-11",
        "5-1",
        "5-5",
        "6-1",
        "6-15",
        "6-6",
        "7-10",
        "7-11",
        "7-12",
        "7-13",
        "7-14",
        "7-7",
        "7-8",
        "7-9",
        "8-1",
        "8-13",
        "8-14",
        "8-18",
        "8-20",
        "8-3",
        "8-8",
        "9-1",
        "9-7"
       ],
       "num_examples_per_domain_per_label": -1,
       "pickle_path": "/root/csc500-main/datasets/wisig.node3-19.stratified_ds.2022A.pkl",
       "source_or_target_dataset": "target",
       "x_transforms": [
        "unit_mag"
       ]
      },
      {
       "domain_prefix": "ORACLE.run1",
       "domains": [
        32,
        38,
        8,
        44,
        14,
        50,
        20,
        26
       ],
       "episode_transforms": [],
       "labels": [
        "3123D52",
        "3123D65",
        "3123D79",
        "3123D80",
        "3123D54",
        "3123D70",
        "3123D7B",
        "3123D89",
        "3123D58",
        "3123D76",
        "3123D7D",
        "3123EFE",
        "3123D64",
        "3123D78",
        "3123D7E",
        "3124E4A"
       ],
       "num_examples_per_domain_per_label": 10000,
       "pickle_path": "/root/csc500-main/datasets/oracle.Run1_10kExamples_stratified_ds.2022A.pkl",
       "source_or_target_dataset": "source",
       "x_transforms": [
        "unit_mag"
       ]
      }
     ],
     "device": "cuda",
     "experiment_name": "tl_1v2:wisig-oracle.run1",
     "lr": 0.0001,
     "n_epoch": 50,
     "n_query": 2,
     "n_shot": 3,
     "n_way": 16,
     "patience": 3,
     "seed": 1337,
     "test_k_factor": 2,
     "torch_default_dtype": "torch.float32",
     "train_k_factor": 3,
     "val_k_factor": 2,
     "x_net": [
      {
       "class": "nnReshape",
       "kargs": {
        "shape": [
         -1,
         1,
         2,
         256
        ]
       }
      },
      {
       "class": "Conv2d",
       "kargs": {
        "bias": false,
        "in_channels": 1,
        "kernel_size": [
         1,
         7
        ],
        "out_channels": 256,
        "padding": [
         0,
         3
        ]
       }
      },
      {
       "class": "ReLU",
       "kargs": {
        "inplace": true
       }
      },
      {
       "class": "BatchNorm2d",
       "kargs": {
        "num_features": 256
       }
      },
      {
       "class": "Conv2d",
       "kargs": {
        "bias": true,
        "in_channels": 256,
        "kernel_size": [
         2,
         7
        ],
        "out_channels": 80,
        "padding": [
         0,
         3
        ]
       }
      },
      {
       "class": "ReLU",
       "kargs": {
        "inplace": true
       }
      },
      {
       "class": "BatchNorm2d",
       "kargs": {
        "num_features": 80
       }
      },
      {
       "class": "Flatten",
       "kargs": {}
      },
      {
       "class": "Linear",
       "kargs": {
        "in_features": 20480,
        "out_features": 256
       }
      },
      {
       "class": "ReLU",
       "kargs": {
        "inplace": true
       }
      },
      {
       "class": "BatchNorm1d",
       "kargs": {
        "num_features": 256
       }
      },
      {
       "class": "Linear",
       "kargs": {
        "in_features": 256,
        "out_features": 256
       }
      }
     ]
    }
   },
   "start_time": "2022-03-23T09:00:32.288599",
   "version": "2.3.4"
  }
 },
 "nbformat": 4,
 "nbformat_minor": 5
}