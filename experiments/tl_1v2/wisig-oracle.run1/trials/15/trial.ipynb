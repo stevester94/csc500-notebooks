{
 "cells": [
  {
   "cell_type": "markdown",
   "id": "9fea5f46",
   "metadata": {
    "papermill": {
     "duration": 0.029212,
     "end_time": "2022-03-23T22:58:55.616206",
     "exception": false,
     "start_time": "2022-03-23T22:58:55.586994",
     "status": "completed"
    },
    "tags": []
   },
   "source": [
    "# Transfer Learning Template"
   ]
  },
  {
   "cell_type": "code",
   "execution_count": 1,
   "id": "0902182a",
   "metadata": {
    "execution": {
     "iopub.execute_input": "2022-03-23T22:58:55.681376Z",
     "iopub.status.busy": "2022-03-23T22:58:55.680502Z",
     "iopub.status.idle": "2022-03-23T22:58:57.516453Z",
     "shell.execute_reply": "2022-03-23T22:58:57.516034Z"
    },
    "papermill": {
     "duration": 1.876085,
     "end_time": "2022-03-23T22:58:57.516554",
     "exception": false,
     "start_time": "2022-03-23T22:58:55.640469",
     "status": "completed"
    },
    "tags": []
   },
   "outputs": [],
   "source": [
    "%load_ext autoreload\n",
    "%autoreload 2\n",
    "%matplotlib inline\n",
    "\n",
    "    \n",
    "import os, json, sys, time, random\n",
    "import numpy as np\n",
    "import torch\n",
    "from torch.optim import Adam\n",
    "from  easydict import EasyDict\n",
    "import matplotlib.pyplot as plt\n",
    "\n",
    "from steves_models.steves_ptn import Steves_Prototypical_Network\n",
    "\n",
    "from steves_utils.lazy_iterable_wrapper import Lazy_Iterable_Wrapper\n",
    "from steves_utils.iterable_aggregator import Iterable_Aggregator\n",
    "from steves_utils.ptn_train_eval_test_jig import  PTN_Train_Eval_Test_Jig\n",
    "from steves_utils.torch_sequential_builder import build_sequential\n",
    "from steves_utils.torch_utils import get_dataset_metrics, ptn_confusion_by_domain_over_dataloader\n",
    "from steves_utils.utils_v2 import (per_domain_accuracy_from_confusion, get_datasets_base_path)\n",
    "from steves_utils.PTN.utils import independent_accuracy_assesment\n",
    "\n",
    "from torch.utils.data import DataLoader\n",
    "\n",
    "from steves_utils.stratified_dataset.episodic_accessor import Episodic_Accessor_Factory\n",
    "\n",
    "from steves_utils.ptn_do_report import (\n",
    "    get_loss_curve,\n",
    "    get_results_table,\n",
    "    get_parameters_table,\n",
    "    get_domain_accuracies,\n",
    ")\n",
    "\n",
    "from steves_utils.transforms import get_chained_transform"
   ]
  },
  {
   "cell_type": "markdown",
   "id": "41c840b4",
   "metadata": {
    "papermill": {
     "duration": 0.019424,
     "end_time": "2022-03-23T22:58:57.556178",
     "exception": false,
     "start_time": "2022-03-23T22:58:57.536754",
     "status": "completed"
    },
    "tags": []
   },
   "source": [
    "# Allowed Parameters\n",
    "These are allowed parameters, not defaults\n",
    "Each of these values need to be present in the injected parameters (the notebook will raise an exception if they are not present)\n",
    "\n",
    "Papermill uses the cell tag \"parameters\" to inject the real parameters below this cell.\n",
    "Enable tags to see what I mean"
   ]
  },
  {
   "cell_type": "code",
   "execution_count": 2,
   "id": "fd44eb83",
   "metadata": {
    "execution": {
     "iopub.execute_input": "2022-03-23T22:58:57.600387Z",
     "iopub.status.busy": "2022-03-23T22:58:57.599908Z",
     "iopub.status.idle": "2022-03-23T22:58:57.621350Z",
     "shell.execute_reply": "2022-03-23T22:58:57.621031Z"
    },
    "papermill": {
     "duration": 0.045719,
     "end_time": "2022-03-23T22:58:57.621419",
     "exception": false,
     "start_time": "2022-03-23T22:58:57.575700",
     "status": "completed"
    },
    "tags": []
   },
   "outputs": [],
   "source": [
    "required_parameters = {\n",
    "    \"experiment_name\",\n",
    "    \"lr\",\n",
    "    \"device\",\n",
    "    \"seed\",\n",
    "    \"dataset_seed\",\n",
    "    \"n_shot\",\n",
    "    \"n_query\",\n",
    "    \"n_way\",\n",
    "    \"train_k_factor\",\n",
    "    \"val_k_factor\",\n",
    "    \"test_k_factor\",\n",
    "    \"n_epoch\",\n",
    "    \"patience\",\n",
    "    \"criteria_for_best\",\n",
    "    \"x_net\",\n",
    "    \"datasets\",\n",
    "    \"torch_default_dtype\",\n",
    "    \"NUM_LOGS_PER_EPOCH\",\n",
    "    \"BEST_MODEL_PATH\",\n",
    "    \"x_shape\",\n",
    "}"
   ]
  },
  {
   "cell_type": "code",
   "execution_count": 3,
   "id": "fa3f0049",
   "metadata": {
    "execution": {
     "iopub.execute_input": "2022-03-23T22:58:57.675878Z",
     "iopub.status.busy": "2022-03-23T22:58:57.675456Z",
     "iopub.status.idle": "2022-03-23T22:58:57.694913Z",
     "shell.execute_reply": "2022-03-23T22:58:57.694551Z"
    },
    "papermill": {
     "duration": 0.053679,
     "end_time": "2022-03-23T22:58:57.694982",
     "exception": false,
     "start_time": "2022-03-23T22:58:57.641303",
     "status": "completed"
    },
    "tags": [
     "parameters"
    ]
   },
   "outputs": [],
   "source": [
    "from steves_utils.CORES.utils import (\n",
    "    ALL_NODES,\n",
    "    ALL_NODES_MINIMUM_1000_EXAMPLES,\n",
    "    ALL_DAYS\n",
    ")\n",
    "\n",
    "from steves_utils.ORACLE.utils_v2 import (\n",
    "    ALL_DISTANCES_FEET_NARROWED,\n",
    "    ALL_RUNS,\n",
    "    ALL_SERIAL_NUMBERS,\n",
    ")\n",
    "\n",
    "standalone_parameters = {}\n",
    "standalone_parameters[\"experiment_name\"] = \"STANDALONE PTN\"\n",
    "standalone_parameters[\"lr\"] = 0.001\n",
    "standalone_parameters[\"device\"] = \"cuda\"\n",
    "\n",
    "standalone_parameters[\"seed\"] = 1337\n",
    "standalone_parameters[\"dataset_seed\"] = 1337\n",
    "\n",
    "standalone_parameters[\"n_way\"] = 8\n",
    "standalone_parameters[\"n_shot\"] = 3\n",
    "standalone_parameters[\"n_query\"]  = 2\n",
    "standalone_parameters[\"train_k_factor\"] = 1\n",
    "standalone_parameters[\"val_k_factor\"] = 2\n",
    "standalone_parameters[\"test_k_factor\"] = 2\n",
    "\n",
    "\n",
    "standalone_parameters[\"n_epoch\"] = 50\n",
    "\n",
    "standalone_parameters[\"patience\"] = 10\n",
    "standalone_parameters[\"criteria_for_best\"] = \"source_loss\"\n",
    "\n",
    "standalone_parameters[\"datasets\"] = [\n",
    "    {\n",
    "        \"labels\": ALL_SERIAL_NUMBERS,\n",
    "        \"domains\": ALL_DISTANCES_FEET_NARROWED,\n",
    "        \"num_examples_per_domain_per_label\": 100,\n",
    "        \"pickle_path\": os.path.join(get_datasets_base_path(), \"oracle.Run1_framed_2000Examples_stratified_ds.2022A.pkl\"),\n",
    "        \"source_or_target_dataset\": \"source\",\n",
    "        \"x_transforms\": [\"unit_mag\", \"minus_two\"],\n",
    "        \"episode_transforms\": [],\n",
    "        \"domain_prefix\": \"ORACLE_\"\n",
    "    },\n",
    "    {\n",
    "        \"labels\": ALL_NODES,\n",
    "        \"domains\": ALL_DAYS,\n",
    "        \"num_examples_per_domain_per_label\": 100,\n",
    "        \"pickle_path\": os.path.join(get_datasets_base_path(), \"cores.stratified_ds.2022A.pkl\"),\n",
    "        \"source_or_target_dataset\": \"target\",\n",
    "        \"x_transforms\": [\"unit_power\", \"times_zero\"],\n",
    "        \"episode_transforms\": [],\n",
    "        \"domain_prefix\": \"CORES_\"\n",
    "    }   \n",
    "]\n",
    "\n",
    "standalone_parameters[\"torch_default_dtype\"] = \"torch.float32\" \n",
    "\n",
    "\n",
    "\n",
    "standalone_parameters[\"x_net\"] =     [\n",
    "    {\"class\": \"nnReshape\", \"kargs\": {\"shape\":[-1, 1, 2, 256]}},\n",
    "    {\"class\": \"Conv2d\", \"kargs\": { \"in_channels\":1, \"out_channels\":256, \"kernel_size\":(1,7), \"bias\":False, \"padding\":(0,3), },},\n",
    "    {\"class\": \"ReLU\", \"kargs\": {\"inplace\": True}},\n",
    "    {\"class\": \"BatchNorm2d\", \"kargs\": {\"num_features\":256}},\n",
    "\n",
    "    {\"class\": \"Conv2d\", \"kargs\": { \"in_channels\":256, \"out_channels\":80, \"kernel_size\":(2,7), \"bias\":True, \"padding\":(0,3), },},\n",
    "    {\"class\": \"ReLU\", \"kargs\": {\"inplace\": True}},\n",
    "    {\"class\": \"BatchNorm2d\", \"kargs\": {\"num_features\":80}},\n",
    "    {\"class\": \"Flatten\", \"kargs\": {}},\n",
    "\n",
    "    {\"class\": \"Linear\", \"kargs\": {\"in_features\": 80*256, \"out_features\": 256}}, # 80 units per IQ pair\n",
    "    {\"class\": \"ReLU\", \"kargs\": {\"inplace\": True}},\n",
    "    {\"class\": \"BatchNorm1d\", \"kargs\": {\"num_features\":256}},\n",
    "\n",
    "    {\"class\": \"Linear\", \"kargs\": {\"in_features\": 256, \"out_features\": 256}},\n",
    "]\n",
    "\n",
    "# Parameters relevant to results\n",
    "# These parameters will basically never need to change\n",
    "standalone_parameters[\"NUM_LOGS_PER_EPOCH\"] = 10\n",
    "standalone_parameters[\"BEST_MODEL_PATH\"] = \"./best_model.pth\"\n",
    "\n",
    "\n",
    "\n",
    "\n"
   ]
  },
  {
   "cell_type": "code",
   "execution_count": 4,
   "id": "618ee925",
   "metadata": {
    "execution": {
     "iopub.execute_input": "2022-03-23T22:58:57.751126Z",
     "iopub.status.busy": "2022-03-23T22:58:57.750681Z",
     "iopub.status.idle": "2022-03-23T22:58:57.769990Z",
     "shell.execute_reply": "2022-03-23T22:58:57.769631Z"
    },
    "papermill": {
     "duration": 0.055206,
     "end_time": "2022-03-23T22:58:57.770059",
     "exception": false,
     "start_time": "2022-03-23T22:58:57.714853",
     "status": "completed"
    },
    "tags": [
     "injected-parameters"
    ]
   },
   "outputs": [],
   "source": [
    "# Parameters\n",
    "parameters = {\n",
    "    \"experiment_name\": \"tl_1v2:wisig-oracle.run1\",\n",
    "    \"device\": \"cuda\",\n",
    "    \"lr\": 0.0001,\n",
    "    \"n_shot\": 3,\n",
    "    \"n_query\": 2,\n",
    "    \"train_k_factor\": 3,\n",
    "    \"val_k_factor\": 2,\n",
    "    \"test_k_factor\": 2,\n",
    "    \"torch_default_dtype\": \"torch.float32\",\n",
    "    \"n_epoch\": 50,\n",
    "    \"patience\": 3,\n",
    "    \"criteria_for_best\": \"target_accuracy\",\n",
    "    \"x_net\": [\n",
    "        {\"class\": \"nnReshape\", \"kargs\": {\"shape\": [-1, 1, 2, 256]}},\n",
    "        {\n",
    "            \"class\": \"Conv2d\",\n",
    "            \"kargs\": {\n",
    "                \"in_channels\": 1,\n",
    "                \"out_channels\": 256,\n",
    "                \"kernel_size\": [1, 7],\n",
    "                \"bias\": False,\n",
    "                \"padding\": [0, 3],\n",
    "            },\n",
    "        },\n",
    "        {\"class\": \"ReLU\", \"kargs\": {\"inplace\": True}},\n",
    "        {\"class\": \"BatchNorm2d\", \"kargs\": {\"num_features\": 256}},\n",
    "        {\n",
    "            \"class\": \"Conv2d\",\n",
    "            \"kargs\": {\n",
    "                \"in_channels\": 256,\n",
    "                \"out_channels\": 80,\n",
    "                \"kernel_size\": [2, 7],\n",
    "                \"bias\": True,\n",
    "                \"padding\": [0, 3],\n",
    "            },\n",
    "        },\n",
    "        {\"class\": \"ReLU\", \"kargs\": {\"inplace\": True}},\n",
    "        {\"class\": \"BatchNorm2d\", \"kargs\": {\"num_features\": 80}},\n",
    "        {\"class\": \"Flatten\", \"kargs\": {}},\n",
    "        {\"class\": \"Linear\", \"kargs\": {\"in_features\": 20480, \"out_features\": 256}},\n",
    "        {\"class\": \"ReLU\", \"kargs\": {\"inplace\": True}},\n",
    "        {\"class\": \"BatchNorm1d\", \"kargs\": {\"num_features\": 256}},\n",
    "        {\"class\": \"Linear\", \"kargs\": {\"in_features\": 256, \"out_features\": 256}},\n",
    "    ],\n",
    "    \"NUM_LOGS_PER_EPOCH\": 10,\n",
    "    \"BEST_MODEL_PATH\": \"./best_model.pth\",\n",
    "    \"n_way\": 16,\n",
    "    \"datasets\": [\n",
    "        {\n",
    "            \"labels\": [\n",
    "                \"1-10\",\n",
    "                \"1-12\",\n",
    "                \"1-14\",\n",
    "                \"1-16\",\n",
    "                \"1-18\",\n",
    "                \"1-19\",\n",
    "                \"1-8\",\n",
    "                \"10-11\",\n",
    "                \"10-17\",\n",
    "                \"10-4\",\n",
    "                \"10-7\",\n",
    "                \"11-1\",\n",
    "                \"11-10\",\n",
    "                \"11-19\",\n",
    "                \"11-20\",\n",
    "                \"11-4\",\n",
    "                \"11-7\",\n",
    "                \"12-19\",\n",
    "                \"12-20\",\n",
    "                \"12-7\",\n",
    "                \"13-14\",\n",
    "                \"13-18\",\n",
    "                \"13-19\",\n",
    "                \"13-20\",\n",
    "                \"13-3\",\n",
    "                \"13-7\",\n",
    "                \"14-10\",\n",
    "                \"14-11\",\n",
    "                \"14-12\",\n",
    "                \"14-13\",\n",
    "                \"14-14\",\n",
    "                \"14-19\",\n",
    "                \"14-20\",\n",
    "                \"14-7\",\n",
    "                \"14-8\",\n",
    "                \"14-9\",\n",
    "                \"15-1\",\n",
    "                \"15-19\",\n",
    "                \"15-6\",\n",
    "                \"16-1\",\n",
    "                \"16-16\",\n",
    "                \"16-19\",\n",
    "                \"16-20\",\n",
    "                \"17-10\",\n",
    "                \"17-11\",\n",
    "                \"18-1\",\n",
    "                \"18-10\",\n",
    "                \"18-11\",\n",
    "                \"18-12\",\n",
    "                \"18-13\",\n",
    "                \"18-14\",\n",
    "                \"18-15\",\n",
    "                \"18-16\",\n",
    "                \"18-17\",\n",
    "                \"18-19\",\n",
    "                \"18-2\",\n",
    "                \"18-20\",\n",
    "                \"18-4\",\n",
    "                \"18-5\",\n",
    "                \"18-7\",\n",
    "                \"18-8\",\n",
    "                \"18-9\",\n",
    "                \"19-1\",\n",
    "                \"19-10\",\n",
    "                \"19-11\",\n",
    "                \"19-12\",\n",
    "                \"19-13\",\n",
    "                \"19-14\",\n",
    "                \"19-15\",\n",
    "                \"19-19\",\n",
    "                \"19-2\",\n",
    "                \"19-20\",\n",
    "                \"19-3\",\n",
    "                \"19-4\",\n",
    "                \"19-6\",\n",
    "                \"19-7\",\n",
    "                \"19-8\",\n",
    "                \"19-9\",\n",
    "                \"2-1\",\n",
    "                \"2-13\",\n",
    "                \"2-15\",\n",
    "                \"2-3\",\n",
    "                \"2-4\",\n",
    "                \"2-5\",\n",
    "                \"2-6\",\n",
    "                \"2-7\",\n",
    "                \"2-8\",\n",
    "                \"20-1\",\n",
    "                \"20-12\",\n",
    "                \"20-14\",\n",
    "                \"20-15\",\n",
    "                \"20-16\",\n",
    "                \"20-18\",\n",
    "                \"20-19\",\n",
    "                \"20-20\",\n",
    "                \"20-3\",\n",
    "                \"20-4\",\n",
    "                \"20-5\",\n",
    "                \"20-7\",\n",
    "                \"20-8\",\n",
    "                \"3-1\",\n",
    "                \"3-13\",\n",
    "                \"3-18\",\n",
    "                \"3-2\",\n",
    "                \"3-8\",\n",
    "                \"4-1\",\n",
    "                \"4-10\",\n",
    "                \"4-11\",\n",
    "                \"5-1\",\n",
    "                \"5-5\",\n",
    "                \"6-1\",\n",
    "                \"6-15\",\n",
    "                \"6-6\",\n",
    "                \"7-10\",\n",
    "                \"7-11\",\n",
    "                \"7-12\",\n",
    "                \"7-13\",\n",
    "                \"7-14\",\n",
    "                \"7-7\",\n",
    "                \"7-8\",\n",
    "                \"7-9\",\n",
    "                \"8-1\",\n",
    "                \"8-13\",\n",
    "                \"8-14\",\n",
    "                \"8-18\",\n",
    "                \"8-20\",\n",
    "                \"8-3\",\n",
    "                \"8-8\",\n",
    "                \"9-1\",\n",
    "                \"9-7\",\n",
    "            ],\n",
    "            \"domains\": [1, 2, 3, 4],\n",
    "            \"num_examples_per_domain_per_label\": -1,\n",
    "            \"pickle_path\": \"/root/csc500-main/datasets/wisig.node3-19.stratified_ds.2022A.pkl\",\n",
    "            \"source_or_target_dataset\": \"target\",\n",
    "            \"x_transforms\": [\"unit_power\"],\n",
    "            \"episode_transforms\": [],\n",
    "            \"domain_prefix\": \"Wisig_\",\n",
    "        },\n",
    "        {\n",
    "            \"labels\": [\n",
    "                \"3123D52\",\n",
    "                \"3123D65\",\n",
    "                \"3123D79\",\n",
    "                \"3123D80\",\n",
    "                \"3123D54\",\n",
    "                \"3123D70\",\n",
    "                \"3123D7B\",\n",
    "                \"3123D89\",\n",
    "                \"3123D58\",\n",
    "                \"3123D76\",\n",
    "                \"3123D7D\",\n",
    "                \"3123EFE\",\n",
    "                \"3123D64\",\n",
    "                \"3123D78\",\n",
    "                \"3123D7E\",\n",
    "                \"3124E4A\",\n",
    "            ],\n",
    "            \"domains\": [32, 38, 8, 44, 14, 50, 20, 26],\n",
    "            \"num_examples_per_domain_per_label\": 10000,\n",
    "            \"pickle_path\": \"/root/csc500-main/datasets/oracle.Run1_10kExamples_stratified_ds.2022A.pkl\",\n",
    "            \"source_or_target_dataset\": \"source\",\n",
    "            \"x_transforms\": [\"unit_power\"],\n",
    "            \"episode_transforms\": [],\n",
    "            \"domain_prefix\": \"ORACLE.run1\",\n",
    "        },\n",
    "    ],\n",
    "    \"dataset_seed\": 154325,\n",
    "    \"seed\": 154325,\n",
    "}\n"
   ]
  },
  {
   "cell_type": "code",
   "execution_count": 5,
   "id": "8fa1cc33",
   "metadata": {
    "execution": {
     "iopub.execute_input": "2022-03-23T22:58:57.820207Z",
     "iopub.status.busy": "2022-03-23T22:58:57.819823Z",
     "iopub.status.idle": "2022-03-23T22:58:57.835008Z",
     "shell.execute_reply": "2022-03-23T22:58:57.834650Z"
    },
    "papermill": {
     "duration": 0.044692,
     "end_time": "2022-03-23T22:58:57.835076",
     "exception": false,
     "start_time": "2022-03-23T22:58:57.790384",
     "status": "completed"
    },
    "tags": []
   },
   "outputs": [],
   "source": [
    "# Set this to True if you want to run this template directly\n",
    "STANDALONE = False\n",
    "if STANDALONE:\n",
    "    print(\"parameters not injected, running with standalone_parameters\")\n",
    "    parameters = standalone_parameters\n",
    "\n",
    "if not 'parameters' in locals() and not 'parameters' in globals():\n",
    "    raise Exception(\"Parameter injection failed\")\n",
    "\n",
    "#Use an easy dict for all the parameters\n",
    "p = EasyDict(parameters)\n",
    "\n",
    "if \"x_shape\" not in p:\n",
    "    p.x_shape = [2,256] # Default to this if we dont supply x_shape\n",
    "\n",
    "\n",
    "supplied_keys = set(p.keys())\n",
    "\n",
    "if  supplied_keys != required_parameters:\n",
    "    print(\"Parameters are incorrect\")\n",
    "    if len(supplied_keys - required_parameters)>0: print(\"Shouldn't have:\", str(supplied_keys - required_parameters))\n",
    "    if len(required_parameters - supplied_keys)>0: print(\"Need to have:\", str(required_parameters - supplied_keys))\n",
    "    raise RuntimeError(\"Parameters are incorrect\")"
   ]
  },
  {
   "cell_type": "code",
   "execution_count": 6,
   "id": "3a028d58",
   "metadata": {
    "execution": {
     "iopub.execute_input": "2022-03-23T22:58:57.886210Z",
     "iopub.status.busy": "2022-03-23T22:58:57.885848Z",
     "iopub.status.idle": "2022-03-23T22:58:57.901287Z",
     "shell.execute_reply": "2022-03-23T22:58:57.900925Z"
    },
    "papermill": {
     "duration": 0.046298,
     "end_time": "2022-03-23T22:58:57.901356",
     "exception": false,
     "start_time": "2022-03-23T22:58:57.855058",
     "status": "completed"
    },
    "tags": []
   },
   "outputs": [],
   "source": [
    "###################################\n",
    "# Set the RNGs and make it all deterministic\n",
    "###################################\n",
    "np.random.seed(p.seed)\n",
    "random.seed(p.seed)\n",
    "torch.manual_seed(p.seed)\n",
    "\n",
    "torch.use_deterministic_algorithms(True) "
   ]
  },
  {
   "cell_type": "code",
   "execution_count": 7,
   "id": "b691acf6",
   "metadata": {
    "execution": {
     "iopub.execute_input": "2022-03-23T22:58:57.945790Z",
     "iopub.status.busy": "2022-03-23T22:58:57.945150Z",
     "iopub.status.idle": "2022-03-23T22:58:57.965671Z",
     "shell.execute_reply": "2022-03-23T22:58:57.965312Z"
    },
    "papermill": {
     "duration": 0.044097,
     "end_time": "2022-03-23T22:58:57.965740",
     "exception": false,
     "start_time": "2022-03-23T22:58:57.921643",
     "status": "completed"
    },
    "tags": []
   },
   "outputs": [],
   "source": [
    "###########################################\n",
    "# The stratified datasets honor this\n",
    "###########################################\n",
    "torch.set_default_dtype(eval(p.torch_default_dtype))"
   ]
  },
  {
   "cell_type": "code",
   "execution_count": 8,
   "id": "b5fba671",
   "metadata": {
    "execution": {
     "iopub.execute_input": "2022-03-23T22:58:58.009021Z",
     "iopub.status.busy": "2022-03-23T22:58:58.008645Z",
     "iopub.status.idle": "2022-03-23T22:58:58.058896Z",
     "shell.execute_reply": "2022-03-23T22:58:58.058565Z"
    },
    "papermill": {
     "duration": 0.072919,
     "end_time": "2022-03-23T22:58:58.058965",
     "exception": false,
     "start_time": "2022-03-23T22:58:57.986046",
     "status": "completed"
    },
    "tags": []
   },
   "outputs": [],
   "source": [
    "###################################\n",
    "# Build the network(s)\n",
    "# Note: It's critical to do this AFTER setting the RNG\n",
    "###################################\n",
    "x_net = build_sequential(p.x_net)"
   ]
  },
  {
   "cell_type": "code",
   "execution_count": 9,
   "id": "5d7e61cc",
   "metadata": {
    "execution": {
     "iopub.execute_input": "2022-03-23T22:58:58.103906Z",
     "iopub.status.busy": "2022-03-23T22:58:58.102279Z",
     "iopub.status.idle": "2022-03-23T22:58:58.129462Z",
     "shell.execute_reply": "2022-03-23T22:58:58.129106Z"
    },
    "papermill": {
     "duration": 0.049942,
     "end_time": "2022-03-23T22:58:58.129530",
     "exception": false,
     "start_time": "2022-03-23T22:58:58.079588",
     "status": "completed"
    },
    "tags": []
   },
   "outputs": [],
   "source": [
    "start_time_secs = time.time()"
   ]
  },
  {
   "cell_type": "code",
   "execution_count": 10,
   "id": "c6b67dfd",
   "metadata": {
    "execution": {
     "iopub.execute_input": "2022-03-23T22:58:58.181568Z",
     "iopub.status.busy": "2022-03-23T22:58:58.175567Z",
     "iopub.status.idle": "2022-03-23T22:58:58.193877Z",
     "shell.execute_reply": "2022-03-23T22:58:58.193518Z"
    },
    "papermill": {
     "duration": 0.043814,
     "end_time": "2022-03-23T22:58:58.193944",
     "exception": false,
     "start_time": "2022-03-23T22:58:58.150130",
     "status": "completed"
    },
    "tags": []
   },
   "outputs": [],
   "source": [
    "p.domains_source = []\n",
    "p.domains_target = []\n",
    "\n",
    "\n",
    "train_original_source = []\n",
    "val_original_source   = []\n",
    "test_original_source  = []\n",
    "\n",
    "train_original_target = []\n",
    "val_original_target   = []\n",
    "test_original_target  = []"
   ]
  },
  {
   "cell_type": "code",
   "execution_count": 11,
   "id": "e3d9c3d3",
   "metadata": {
    "execution": {
     "iopub.execute_input": "2022-03-23T22:58:58.238109Z",
     "iopub.status.busy": "2022-03-23T22:58:58.237746Z",
     "iopub.status.idle": "2022-03-23T22:58:58.254736Z",
     "shell.execute_reply": "2022-03-23T22:58:58.254162Z"
    },
    "papermill": {
     "duration": 0.039895,
     "end_time": "2022-03-23T22:58:58.254805",
     "exception": false,
     "start_time": "2022-03-23T22:58:58.214910",
     "status": "completed"
    },
    "tags": []
   },
   "outputs": [],
   "source": [
    "# global_x_transform_func = lambda x: normalize(x.to(torch.get_default_dtype()), \"unit_power\") # unit_power, unit_mag\n",
    "# global_x_transform_func = lambda x: normalize(x, \"unit_power\") # unit_power, unit_mag"
   ]
  },
  {
   "cell_type": "code",
   "execution_count": 12,
   "id": "acb78fd2",
   "metadata": {
    "execution": {
     "iopub.execute_input": "2022-03-23T22:58:58.309178Z",
     "iopub.status.busy": "2022-03-23T22:58:58.308788Z",
     "iopub.status.idle": "2022-03-23T22:58:58.326193Z",
     "shell.execute_reply": "2022-03-23T22:58:58.325835Z"
    },
    "papermill": {
     "duration": 0.050855,
     "end_time": "2022-03-23T22:58:58.326261",
     "exception": false,
     "start_time": "2022-03-23T22:58:58.275406",
     "status": "completed"
    },
    "tags": []
   },
   "outputs": [],
   "source": [
    "def add_dataset(\n",
    "    labels,\n",
    "    domains,\n",
    "    pickle_path,\n",
    "    x_transforms,\n",
    "    episode_transforms,\n",
    "    domain_prefix,\n",
    "    num_examples_per_domain_per_label,\n",
    "    source_or_target_dataset:str,\n",
    "    iterator_seed=p.seed,\n",
    "    dataset_seed=p.dataset_seed,\n",
    "    n_shot=p.n_shot,\n",
    "    n_way=p.n_way,\n",
    "    n_query=p.n_query,\n",
    "    train_val_test_k_factors=(p.train_k_factor,p.val_k_factor,p.test_k_factor),\n",
    "):\n",
    "   \n",
    "    if x_transforms == []: x_transform = None\n",
    "    else: x_transform = get_chained_transform(x_transforms)\n",
    "    \n",
    "    if episode_transforms == []: episode_transform = None\n",
    "    else: raise Exception(\"episode_transforms not implemented\")\n",
    "    \n",
    "    episode_transform = lambda tup, _prefix=domain_prefix: (_prefix + str(tup[0]), tup[1])\n",
    "\n",
    "\n",
    "    eaf = Episodic_Accessor_Factory(\n",
    "        labels=labels,\n",
    "        domains=domains,\n",
    "        num_examples_per_domain_per_label=num_examples_per_domain_per_label,\n",
    "        iterator_seed=iterator_seed,\n",
    "        dataset_seed=dataset_seed,\n",
    "        n_shot=n_shot,\n",
    "        n_way=n_way,\n",
    "        n_query=n_query,\n",
    "        train_val_test_k_factors=train_val_test_k_factors,\n",
    "        pickle_path=pickle_path,\n",
    "        x_transform_func=x_transform,\n",
    "    )\n",
    "\n",
    "    train, val, test = eaf.get_train(), eaf.get_val(), eaf.get_test()\n",
    "    train = Lazy_Iterable_Wrapper(train, episode_transform)\n",
    "    val = Lazy_Iterable_Wrapper(val, episode_transform)\n",
    "    test = Lazy_Iterable_Wrapper(test, episode_transform)\n",
    "\n",
    "    if source_or_target_dataset==\"source\":\n",
    "        train_original_source.append(train)\n",
    "        val_original_source.append(val)\n",
    "        test_original_source.append(test)\n",
    "\n",
    "        p.domains_source.extend(\n",
    "            [domain_prefix + str(u) for u in domains]\n",
    "        )\n",
    "    elif source_or_target_dataset==\"target\":\n",
    "        train_original_target.append(train)\n",
    "        val_original_target.append(val)\n",
    "        test_original_target.append(test)\n",
    "        p.domains_target.extend(\n",
    "            [domain_prefix + str(u) for u in domains]\n",
    "        )\n",
    "    else:\n",
    "        raise Exception(f\"invalid source_or_target_dataset: {source_or_target_dataset}\")\n",
    "    "
   ]
  },
  {
   "cell_type": "code",
   "execution_count": 13,
   "id": "fe266617",
   "metadata": {
    "execution": {
     "iopub.execute_input": "2022-03-23T22:58:58.375026Z",
     "iopub.status.busy": "2022-03-23T22:58:58.370713Z",
     "iopub.status.idle": "2022-03-23T23:01:09.166838Z",
     "shell.execute_reply": "2022-03-23T23:01:09.166109Z"
    },
    "papermill": {
     "duration": 130.820048,
     "end_time": "2022-03-23T23:01:09.167021",
     "exception": false,
     "start_time": "2022-03-23T22:58:58.346973",
     "status": "completed"
    },
    "tags": []
   },
   "outputs": [],
   "source": [
    "for ds in p.datasets:\n",
    "    add_dataset(**ds)"
   ]
  },
  {
   "cell_type": "code",
   "execution_count": 14,
   "id": "b90d65ac",
   "metadata": {
    "execution": {
     "iopub.execute_input": "2022-03-23T23:01:09.219766Z",
     "iopub.status.busy": "2022-03-23T23:01:09.218580Z",
     "iopub.status.idle": "2022-03-23T23:01:09.241495Z",
     "shell.execute_reply": "2022-03-23T23:01:09.240684Z"
    },
    "papermill": {
     "duration": 0.047693,
     "end_time": "2022-03-23T23:01:09.241654",
     "exception": false,
     "start_time": "2022-03-23T23:01:09.193961",
     "status": "completed"
    },
    "tags": []
   },
   "outputs": [],
   "source": [
    "# from steves_utils.CORES.utils import (\n",
    "#     ALL_NODES,\n",
    "#     ALL_NODES_MINIMUM_1000_EXAMPLES,\n",
    "#     ALL_DAYS\n",
    "# )\n",
    "\n",
    "# add_dataset(\n",
    "#     labels=ALL_NODES,\n",
    "#     domains = ALL_DAYS,\n",
    "#     num_examples_per_domain_per_label=100,\n",
    "#     pickle_path=os.path.join(get_datasets_base_path(), \"cores.stratified_ds.2022A.pkl\"),\n",
    "#     source_or_target_dataset=\"target\",\n",
    "#     x_transform_func=global_x_transform_func,\n",
    "#     domain_modifier=lambda u: f\"cores_{u}\"\n",
    "# )"
   ]
  },
  {
   "cell_type": "code",
   "execution_count": 15,
   "id": "76db484d",
   "metadata": {
    "execution": {
     "iopub.execute_input": "2022-03-23T23:01:09.293872Z",
     "iopub.status.busy": "2022-03-23T23:01:09.293500Z",
     "iopub.status.idle": "2022-03-23T23:01:09.313954Z",
     "shell.execute_reply": "2022-03-23T23:01:09.313250Z"
    },
    "papermill": {
     "duration": 0.044435,
     "end_time": "2022-03-23T23:01:09.314108",
     "exception": false,
     "start_time": "2022-03-23T23:01:09.269673",
     "status": "completed"
    },
    "tags": []
   },
   "outputs": [],
   "source": [
    "# from steves_utils.ORACLE.utils_v2 import (\n",
    "#     ALL_DISTANCES_FEET,\n",
    "#     ALL_RUNS,\n",
    "#     ALL_SERIAL_NUMBERS,\n",
    "# )\n",
    "\n",
    "\n",
    "# add_dataset(\n",
    "#     labels=ALL_SERIAL_NUMBERS,\n",
    "#     domains = list(set(ALL_DISTANCES_FEET) - {2,62}),\n",
    "#     num_examples_per_domain_per_label=100,\n",
    "#     pickle_path=os.path.join(get_datasets_base_path(), \"oracle.Run2_framed_2000Examples_stratified_ds.2022A.pkl\"),\n",
    "#     source_or_target_dataset=\"source\",\n",
    "#     x_transform_func=global_x_transform_func,\n",
    "#     domain_modifier=lambda u: f\"oracle1_{u}\"\n",
    "# )\n"
   ]
  },
  {
   "cell_type": "code",
   "execution_count": 16,
   "id": "97dea9d2",
   "metadata": {
    "execution": {
     "iopub.execute_input": "2022-03-23T23:01:09.365454Z",
     "iopub.status.busy": "2022-03-23T23:01:09.365082Z",
     "iopub.status.idle": "2022-03-23T23:01:09.384132Z",
     "shell.execute_reply": "2022-03-23T23:01:09.383320Z"
    },
    "papermill": {
     "duration": 0.04304,
     "end_time": "2022-03-23T23:01:09.384285",
     "exception": false,
     "start_time": "2022-03-23T23:01:09.341245",
     "status": "completed"
    },
    "tags": []
   },
   "outputs": [],
   "source": [
    "# from steves_utils.ORACLE.utils_v2 import (\n",
    "#     ALL_DISTANCES_FEET,\n",
    "#     ALL_RUNS,\n",
    "#     ALL_SERIAL_NUMBERS,\n",
    "# )\n",
    "\n",
    "\n",
    "# add_dataset(\n",
    "#     labels=ALL_SERIAL_NUMBERS,\n",
    "#     domains = list(set(ALL_DISTANCES_FEET) - {2,62,56}),\n",
    "#     num_examples_per_domain_per_label=100,\n",
    "#     pickle_path=os.path.join(get_datasets_base_path(), \"oracle.Run2_framed_2000Examples_stratified_ds.2022A.pkl\"),\n",
    "#     source_or_target_dataset=\"source\",\n",
    "#     x_transform_func=global_x_transform_func,\n",
    "#     domain_modifier=lambda u: f\"oracle2_{u}\"\n",
    "# )"
   ]
  },
  {
   "cell_type": "code",
   "execution_count": 17,
   "id": "6f289866",
   "metadata": {
    "execution": {
     "iopub.execute_input": "2022-03-23T23:01:09.439420Z",
     "iopub.status.busy": "2022-03-23T23:01:09.439052Z",
     "iopub.status.idle": "2022-03-23T23:01:09.458350Z",
     "shell.execute_reply": "2022-03-23T23:01:09.457557Z"
    },
    "papermill": {
     "duration": 0.043447,
     "end_time": "2022-03-23T23:01:09.458504",
     "exception": false,
     "start_time": "2022-03-23T23:01:09.415057",
     "status": "completed"
    },
    "tags": []
   },
   "outputs": [],
   "source": [
    "# add_dataset(\n",
    "#     labels=list(range(19)),\n",
    "#     domains = [0,1,2],\n",
    "#     num_examples_per_domain_per_label=100,\n",
    "#     pickle_path=os.path.join(get_datasets_base_path(), \"metehan.stratified_ds.2022A.pkl\"),\n",
    "#     source_or_target_dataset=\"target\",\n",
    "#     x_transform_func=global_x_transform_func,\n",
    "#     domain_modifier=lambda u: f\"met_{u}\"\n",
    "# )"
   ]
  },
  {
   "cell_type": "code",
   "execution_count": 18,
   "id": "86a863c3",
   "metadata": {
    "execution": {
     "iopub.execute_input": "2022-03-23T23:01:09.509953Z",
     "iopub.status.busy": "2022-03-23T23:01:09.509583Z",
     "iopub.status.idle": "2022-03-23T23:01:09.528700Z",
     "shell.execute_reply": "2022-03-23T23:01:09.527897Z"
    },
    "papermill": {
     "duration": 0.043191,
     "end_time": "2022-03-23T23:01:09.528854",
     "exception": false,
     "start_time": "2022-03-23T23:01:09.485663",
     "status": "completed"
    },
    "tags": []
   },
   "outputs": [],
   "source": [
    "# # from steves_utils.wisig.utils import (\n",
    "# #     ALL_NODES_MINIMUM_100_EXAMPLES,\n",
    "# #     ALL_NODES_MINIMUM_500_EXAMPLES,\n",
    "# #     ALL_NODES_MINIMUM_1000_EXAMPLES,\n",
    "# #     ALL_DAYS\n",
    "# # )\n",
    "\n",
    "# import steves_utils.wisig.utils as wisig\n",
    "\n",
    "\n",
    "# add_dataset(\n",
    "#     labels=wisig.ALL_NODES_MINIMUM_100_EXAMPLES,\n",
    "#     domains = wisig.ALL_DAYS,\n",
    "#     num_examples_per_domain_per_label=100,\n",
    "#     pickle_path=os.path.join(get_datasets_base_path(), \"wisig.node3-19.stratified_ds.2022A.pkl\"),\n",
    "#     source_or_target_dataset=\"target\",\n",
    "#     x_transform_func=global_x_transform_func,\n",
    "#     domain_modifier=lambda u: f\"wisig_{u}\"\n",
    "# )"
   ]
  },
  {
   "cell_type": "code",
   "execution_count": 19,
   "id": "fd5442bc",
   "metadata": {
    "execution": {
     "iopub.execute_input": "2022-03-23T23:01:09.586494Z",
     "iopub.status.busy": "2022-03-23T23:01:09.586112Z",
     "iopub.status.idle": "2022-03-23T23:01:09.606246Z",
     "shell.execute_reply": "2022-03-23T23:01:09.605445Z"
    },
    "papermill": {
     "duration": 0.046834,
     "end_time": "2022-03-23T23:01:09.606403",
     "exception": false,
     "start_time": "2022-03-23T23:01:09.559569",
     "status": "completed"
    },
    "tags": []
   },
   "outputs": [],
   "source": [
    "###################################\n",
    "# Build the dataset\n",
    "###################################\n",
    "train_original_source = Iterable_Aggregator(train_original_source, p.seed)\n",
    "val_original_source = Iterable_Aggregator(val_original_source, p.seed)\n",
    "test_original_source = Iterable_Aggregator(test_original_source, p.seed)\n",
    "\n",
    "\n",
    "train_original_target = Iterable_Aggregator(train_original_target, p.seed)\n",
    "val_original_target = Iterable_Aggregator(val_original_target, p.seed)\n",
    "test_original_target = Iterable_Aggregator(test_original_target, p.seed)\n",
    "\n",
    "# For CNN We only use X and Y. And we only train on the source.\n",
    "# Properly form the data using a transform lambda and Lazy_Iterable_Wrapper. Finally wrap them in a dataloader\n",
    "\n",
    "transform_lambda = lambda ex: ex[1] # Original is (<domain>, <episode>) so we strip down to episode only\n",
    "\n",
    "train_processed_source = Lazy_Iterable_Wrapper(train_original_source, transform_lambda)\n",
    "val_processed_source   = Lazy_Iterable_Wrapper(val_original_source, transform_lambda)\n",
    "test_processed_source  = Lazy_Iterable_Wrapper(test_original_source, transform_lambda)\n",
    "\n",
    "train_processed_target = Lazy_Iterable_Wrapper(train_original_target, transform_lambda)\n",
    "val_processed_target   = Lazy_Iterable_Wrapper(val_original_target, transform_lambda)\n",
    "test_processed_target  = Lazy_Iterable_Wrapper(test_original_target, transform_lambda)\n",
    "\n",
    "datasets = EasyDict({\n",
    "    \"source\": {\n",
    "        \"original\": {\"train\":train_original_source, \"val\":val_original_source, \"test\":test_original_source},\n",
    "        \"processed\": {\"train\":train_processed_source, \"val\":val_processed_source, \"test\":test_processed_source}\n",
    "    },\n",
    "    \"target\": {\n",
    "        \"original\": {\"train\":train_original_target, \"val\":val_original_target, \"test\":test_original_target},\n",
    "        \"processed\": {\"train\":train_processed_target, \"val\":val_processed_target, \"test\":test_processed_target}\n",
    "    },\n",
    "})"
   ]
  },
  {
   "cell_type": "code",
   "execution_count": 20,
   "id": "5b3c01fc",
   "metadata": {
    "execution": {
     "iopub.execute_input": "2022-03-23T23:01:09.659486Z",
     "iopub.status.busy": "2022-03-23T23:01:09.659116Z",
     "iopub.status.idle": "2022-03-23T23:01:43.407237Z",
     "shell.execute_reply": "2022-03-23T23:01:43.408084Z"
    },
    "papermill": {
     "duration": 33.774025,
     "end_time": "2022-03-23T23:01:43.408302",
     "exception": false,
     "start_time": "2022-03-23T23:01:09.634277",
     "status": "completed"
    },
    "tags": []
   },
   "outputs": [
    {
     "name": "stdout",
     "output_type": "stream",
     "text": [
      "{'ORACLE.run144', 'ORACLE.run120', 'ORACLE.run138', 'ORACLE.run150', 'ORACLE.run18', 'ORACLE.run132', 'ORACLE.run114', 'ORACLE.run126'}\n"
     ]
    },
    {
     "name": "stdout",
     "output_type": "stream",
     "text": [
      "{'Wisig_3', 'Wisig_2', 'Wisig_1', 'Wisig_4'}\n"
     ]
    },
    {
     "name": "stdout",
     "output_type": "stream",
     "text": [
      "tensor([[[ 0.5885, -0.3494, -0.6160,  ..., -0.0690,  0.4321, -1.1401],\n",
      "         [ 0.6390,  0.1793,  0.3310,  ...,  0.7448, -0.0138, -1.2918]],\n",
      "\n",
      "        [[ 1.1379,  0.9688, -0.7769,  ...,  0.3382,  0.0411, -1.0373],\n",
      "         [ 0.1554, -0.1554,  0.9688,  ...,  0.1280, -0.5347, -0.5438]],\n",
      "\n",
      "        [[-0.4306, -0.2792, -0.4968,  ..., -0.2981,  0.3076,  0.8281],\n",
      "         [ 1.0126, -0.2035, -0.6199,  ...,  0.9464, -0.0946, -0.5158]],\n",
      "\n",
      "        ...,\n",
      "\n",
      "        [[ 0.6796, -0.4440, -1.8032,  ..., -0.2302,  0.6522,  0.5700],\n",
      "         [-0.7180, -0.1151,  0.8276,  ...,  1.0195,  0.8934, -1.4963]],\n",
      "\n",
      "        [[-0.4151,  0.1479, -0.1308,  ..., -0.8701, -0.6881, -0.7051],\n",
      "         [-0.8530,  0.1535,  2.1666,  ...,  0.0341,  0.0853,  0.1990]],\n",
      "\n",
      "        [[ 0.3724,  0.3231, -0.5312,  ..., -1.0515, -0.6846,  1.3417],\n",
      "         [ 0.8105, -0.6900, -1.7305,  ..., -0.5203,  0.4764,  0.9803]]])\n"
     ]
    }
   ],
   "source": [
    "from steves_utils.transforms import get_average_magnitude, get_average_power\n",
    "\n",
    "print(set([u for u,_ in val_original_source]))\n",
    "print(set([u for u,_ in val_original_target]))\n",
    "\n",
    "s_x, s_y, q_x, q_y, _ = next(iter(train_processed_source))\n",
    "print(s_x)\n",
    "\n",
    "# for ds in [\n",
    "#     train_processed_source,\n",
    "#     val_processed_source,\n",
    "#     test_processed_source,\n",
    "#     train_processed_target,\n",
    "#     val_processed_target,\n",
    "#     test_processed_target\n",
    "# ]:\n",
    "#     for s_x, s_y, q_x, q_y, _ in ds:\n",
    "#         for X in (s_x, q_x):\n",
    "#             for x in X:\n",
    "#                 assert np.isclose(get_average_magnitude(x.numpy()), 1.0)\n",
    "#                 assert np.isclose(get_average_power(x.numpy()), 1.0)\n",
    "                "
   ]
  },
  {
   "cell_type": "code",
   "execution_count": 21,
   "id": "bbdacba1",
   "metadata": {
    "execution": {
     "iopub.execute_input": "2022-03-23T23:01:43.465538Z",
     "iopub.status.busy": "2022-03-23T23:01:43.464209Z",
     "iopub.status.idle": "2022-03-23T23:01:43.681595Z",
     "shell.execute_reply": "2022-03-23T23:01:43.680849Z"
    },
    "papermill": {
     "duration": 0.245781,
     "end_time": "2022-03-23T23:01:43.681773",
     "exception": false,
     "start_time": "2022-03-23T23:01:43.435992",
     "status": "completed"
    },
    "tags": []
   },
   "outputs": [
    {
     "name": "stdout",
     "output_type": "stream",
     "text": [
      "(2, 256)\n"
     ]
    }
   ],
   "source": [
    "###################################\n",
    "# Build the model\n",
    "###################################\n",
    "# easfsl only wants a tuple for the shape\n",
    "model = Steves_Prototypical_Network(x_net, device=p.device, x_shape=tuple(p.x_shape))\n",
    "optimizer = Adam(params=model.parameters(), lr=p.lr)"
   ]
  },
  {
   "cell_type": "code",
   "execution_count": 22,
   "id": "22b39ac5",
   "metadata": {
    "execution": {
     "iopub.execute_input": "2022-03-23T23:01:43.742367Z",
     "iopub.status.busy": "2022-03-23T23:01:43.741806Z",
     "iopub.status.idle": "2022-03-24T03:16:20.131708Z",
     "shell.execute_reply": "2022-03-24T03:16:20.131357Z"
    },
    "papermill": {
     "duration": 15276.418701,
     "end_time": "2022-03-24T03:16:20.131793",
     "exception": false,
     "start_time": "2022-03-23T23:01:43.713092",
     "status": "completed"
    },
    "tags": []
   },
   "outputs": [
    {
     "name": "stdout",
     "output_type": "stream",
     "text": [
      "epoch: 1, [batch: 1 / 33600], examples_per_second: 6.6581, train_label_loss: 2.7695, \n"
     ]
    },
    {
     "name": "stdout",
     "output_type": "stream",
     "text": [
      "epoch: 1, [batch: 3360 / 33600], examples_per_second: 2935.9608, train_label_loss: 1.1903, \n"
     ]
    },
    {
     "name": "stdout",
     "output_type": "stream",
     "text": [
      "epoch: 1, [batch: 6720 / 33600], examples_per_second: 3241.0715, train_label_loss: 0.7916, \n"
     ]
    },
    {
     "name": "stdout",
     "output_type": "stream",
     "text": [
      "epoch: 1, [batch: 10080 / 33600], examples_per_second: 3440.4350, train_label_loss: 1.1844, \n"
     ]
    },
    {
     "name": "stdout",
     "output_type": "stream",
     "text": [
      "epoch: 1, [batch: 13440 / 33600], examples_per_second: 3349.5870, train_label_loss: 0.6901, \n"
     ]
    },
    {
     "name": "stdout",
     "output_type": "stream",
     "text": [
      "epoch: 1, [batch: 16800 / 33600], examples_per_second: 3650.4396, train_label_loss: 0.8853, \n"
     ]
    },
    {
     "name": "stdout",
     "output_type": "stream",
     "text": [
      "epoch: 1, [batch: 20160 / 33600], examples_per_second: 3791.9448, train_label_loss: 0.5871, \n"
     ]
    },
    {
     "name": "stdout",
     "output_type": "stream",
     "text": [
      "epoch: 1, [batch: 23520 / 33600], examples_per_second: 3350.8149, train_label_loss: 0.4603, \n"
     ]
    },
    {
     "name": "stdout",
     "output_type": "stream",
     "text": [
      "epoch: 1, [batch: 26880 / 33600], examples_per_second: 3565.1027, train_label_loss: 0.6309, \n"
     ]
    },
    {
     "name": "stdout",
     "output_type": "stream",
     "text": [
      "epoch: 1, [batch: 30240 / 33600], examples_per_second: 3970.5759, train_label_loss: 1.1998, \n"
     ]
    },
    {
     "name": "stdout",
     "output_type": "stream",
     "text": [
      "=============================================================\n",
      "epoch: 1, source_val_acc_label: 0.6586, target_val_acc_label: 0.6952, source_val_label_loss: 0.9879, target_val_label_loss: 10.2198, \n",
      "=============================================================\n"
     ]
    },
    {
     "name": "stdout",
     "output_type": "stream",
     "text": [
      "New best\n"
     ]
    },
    {
     "name": "stdout",
     "output_type": "stream",
     "text": [
      "epoch: 2, [batch: 1 / 33600], examples_per_second: 0.9982, train_label_loss: 0.5370, \n"
     ]
    },
    {
     "name": "stdout",
     "output_type": "stream",
     "text": [
      "epoch: 2, [batch: 3360 / 33600], examples_per_second: 3811.1769, train_label_loss: 0.6179, \n"
     ]
    },
    {
     "name": "stdout",
     "output_type": "stream",
     "text": [
      "epoch: 2, [batch: 6720 / 33600], examples_per_second: 3857.1148, train_label_loss: 0.6914, \n"
     ]
    },
    {
     "name": "stdout",
     "output_type": "stream",
     "text": [
      "epoch: 2, [batch: 10080 / 33600], examples_per_second: 3914.0883, train_label_loss: 0.6772, \n"
     ]
    },
    {
     "name": "stdout",
     "output_type": "stream",
     "text": [
      "epoch: 2, [batch: 13440 / 33600], examples_per_second: 2945.3018, train_label_loss: 0.6670, \n"
     ]
    },
    {
     "name": "stdout",
     "output_type": "stream",
     "text": [
      "epoch: 2, [batch: 16800 / 33600], examples_per_second: 3333.7916, train_label_loss: 0.9828, \n"
     ]
    },
    {
     "name": "stdout",
     "output_type": "stream",
     "text": [
      "epoch: 2, [batch: 20160 / 33600], examples_per_second: 3408.7805, train_label_loss: 0.5964, \n"
     ]
    },
    {
     "name": "stdout",
     "output_type": "stream",
     "text": [
      "epoch: 2, [batch: 23520 / 33600], examples_per_second: 2981.5725, train_label_loss: 0.7884, \n"
     ]
    },
    {
     "name": "stdout",
     "output_type": "stream",
     "text": [
      "epoch: 2, [batch: 26880 / 33600], examples_per_second: 2948.3265, train_label_loss: 0.5990, \n"
     ]
    },
    {
     "name": "stdout",
     "output_type": "stream",
     "text": [
      "epoch: 2, [batch: 30240 / 33600], examples_per_second: 2972.5293, train_label_loss: 0.7543, \n"
     ]
    },
    {
     "name": "stdout",
     "output_type": "stream",
     "text": [
      "=============================================================\n",
      "epoch: 2, source_val_acc_label: 0.6715, target_val_acc_label: 0.7176, source_val_label_loss: 0.8632, target_val_label_loss: 7.2727, \n",
      "=============================================================\n"
     ]
    },
    {
     "name": "stdout",
     "output_type": "stream",
     "text": [
      "New best\n"
     ]
    },
    {
     "name": "stdout",
     "output_type": "stream",
     "text": [
      "epoch: 3, [batch: 1 / 33600], examples_per_second: 0.7308, train_label_loss: 1.2190, \n"
     ]
    },
    {
     "name": "stdout",
     "output_type": "stream",
     "text": [
      "epoch: 3, [batch: 3360 / 33600], examples_per_second: 2932.0394, train_label_loss: 0.7944, \n"
     ]
    },
    {
     "name": "stdout",
     "output_type": "stream",
     "text": [
      "epoch: 3, [batch: 6720 / 33600], examples_per_second: 3248.6034, train_label_loss: 0.8706, \n"
     ]
    },
    {
     "name": "stdout",
     "output_type": "stream",
     "text": [
      "epoch: 3, [batch: 10080 / 33600], examples_per_second: 3572.2334, train_label_loss: 1.2505, \n"
     ]
    },
    {
     "name": "stdout",
     "output_type": "stream",
     "text": [
      "epoch: 3, [batch: 13440 / 33600], examples_per_second: 2942.6930, train_label_loss: 0.5383, \n"
     ]
    },
    {
     "name": "stdout",
     "output_type": "stream",
     "text": [
      "epoch: 3, [batch: 16800 / 33600], examples_per_second: 3348.7024, train_label_loss: 0.6522, \n"
     ]
    },
    {
     "name": "stdout",
     "output_type": "stream",
     "text": [
      "epoch: 3, [batch: 20160 / 33600], examples_per_second: 3382.2339, train_label_loss: 0.8522, \n"
     ]
    },
    {
     "name": "stdout",
     "output_type": "stream",
     "text": [
      "epoch: 3, [batch: 23520 / 33600], examples_per_second: 2987.7458, train_label_loss: 0.9037, \n"
     ]
    },
    {
     "name": "stdout",
     "output_type": "stream",
     "text": [
      "epoch: 3, [batch: 26880 / 33600], examples_per_second: 3000.3532, train_label_loss: 0.6945, \n"
     ]
    },
    {
     "name": "stdout",
     "output_type": "stream",
     "text": [
      "epoch: 3, [batch: 30240 / 33600], examples_per_second: 2981.3393, train_label_loss: 0.5813, \n"
     ]
    },
    {
     "name": "stdout",
     "output_type": "stream",
     "text": [
      "=============================================================\n",
      "epoch: 3, source_val_acc_label: 0.7051, target_val_acc_label: 0.7336, source_val_label_loss: 0.8116, target_val_label_loss: 9.0715, \n",
      "=============================================================\n"
     ]
    },
    {
     "name": "stdout",
     "output_type": "stream",
     "text": [
      "New best\n"
     ]
    },
    {
     "name": "stdout",
     "output_type": "stream",
     "text": [
      "epoch: 4, [batch: 1 / 33600], examples_per_second: 0.7365, train_label_loss: 0.3795, \n"
     ]
    },
    {
     "name": "stdout",
     "output_type": "stream",
     "text": [
      "epoch: 4, [batch: 3360 / 33600], examples_per_second: 2955.5634, train_label_loss: 1.1919, \n"
     ]
    },
    {
     "name": "stdout",
     "output_type": "stream",
     "text": [
      "epoch: 4, [batch: 6720 / 33600], examples_per_second: 3286.6931, train_label_loss: 0.4557, \n"
     ]
    },
    {
     "name": "stdout",
     "output_type": "stream",
     "text": [
      "epoch: 4, [batch: 10080 / 33600], examples_per_second: 3653.2734, train_label_loss: 0.5304, \n"
     ]
    },
    {
     "name": "stdout",
     "output_type": "stream",
     "text": [
      "epoch: 4, [batch: 13440 / 33600], examples_per_second: 3009.3893, train_label_loss: 0.8622, \n"
     ]
    },
    {
     "name": "stdout",
     "output_type": "stream",
     "text": [
      "epoch: 4, [batch: 16800 / 33600], examples_per_second: 3423.8318, train_label_loss: 0.3780, \n"
     ]
    },
    {
     "name": "stdout",
     "output_type": "stream",
     "text": [
      "epoch: 4, [batch: 20160 / 33600], examples_per_second: 3370.5817, train_label_loss: 1.0255, \n"
     ]
    },
    {
     "name": "stdout",
     "output_type": "stream",
     "text": [
      "epoch: 4, [batch: 23520 / 33600], examples_per_second: 3002.2246, train_label_loss: 0.6269, \n"
     ]
    },
    {
     "name": "stdout",
     "output_type": "stream",
     "text": [
      "epoch: 4, [batch: 26880 / 33600], examples_per_second: 3006.0261, train_label_loss: 0.6661, \n"
     ]
    },
    {
     "name": "stdout",
     "output_type": "stream",
     "text": [
      "epoch: 4, [batch: 30240 / 33600], examples_per_second: 3008.6919, train_label_loss: 0.7664, \n"
     ]
    },
    {
     "name": "stdout",
     "output_type": "stream",
     "text": [
      "=============================================================\n",
      "epoch: 4, source_val_acc_label: 0.7206, target_val_acc_label: 0.7528, source_val_label_loss: 0.7622, target_val_label_loss: 9.2732, \n",
      "=============================================================\n"
     ]
    },
    {
     "name": "stdout",
     "output_type": "stream",
     "text": [
      "New best\n"
     ]
    },
    {
     "name": "stdout",
     "output_type": "stream",
     "text": [
      "epoch: 5, [batch: 1 / 33600], examples_per_second: 0.7312, train_label_loss: 0.8315, \n"
     ]
    },
    {
     "name": "stdout",
     "output_type": "stream",
     "text": [
      "epoch: 5, [batch: 3360 / 33600], examples_per_second: 2966.9626, train_label_loss: 0.4115, \n"
     ]
    },
    {
     "name": "stdout",
     "output_type": "stream",
     "text": [
      "epoch: 5, [batch: 6720 / 33600], examples_per_second: 3261.8932, train_label_loss: 0.4339, \n"
     ]
    },
    {
     "name": "stdout",
     "output_type": "stream",
     "text": [
      "epoch: 5, [batch: 10080 / 33600], examples_per_second: 3651.0959, train_label_loss: 0.9535, \n"
     ]
    },
    {
     "name": "stdout",
     "output_type": "stream",
     "text": [
      "epoch: 5, [batch: 13440 / 33600], examples_per_second: 3042.3148, train_label_loss: 0.7237, \n"
     ]
    },
    {
     "name": "stdout",
     "output_type": "stream",
     "text": [
      "epoch: 5, [batch: 16800 / 33600], examples_per_second: 3446.9627, train_label_loss: 0.2833, \n"
     ]
    },
    {
     "name": "stdout",
     "output_type": "stream",
     "text": [
      "epoch: 5, [batch: 20160 / 33600], examples_per_second: 3401.2772, train_label_loss: 0.5643, \n"
     ]
    },
    {
     "name": "stdout",
     "output_type": "stream",
     "text": [
      "epoch: 5, [batch: 23520 / 33600], examples_per_second: 2971.4883, train_label_loss: 0.5392, \n"
     ]
    },
    {
     "name": "stdout",
     "output_type": "stream",
     "text": [
      "epoch: 5, [batch: 26880 / 33600], examples_per_second: 2953.8899, train_label_loss: 0.1975, \n"
     ]
    },
    {
     "name": "stdout",
     "output_type": "stream",
     "text": [
      "epoch: 5, [batch: 30240 / 33600], examples_per_second: 2941.5269, train_label_loss: 0.6105, \n"
     ]
    },
    {
     "name": "stdout",
     "output_type": "stream",
     "text": [
      "=============================================================\n",
      "epoch: 5, source_val_acc_label: 0.7283, target_val_acc_label: 0.7537, source_val_label_loss: 0.7565, target_val_label_loss: 9.9645, \n",
      "=============================================================\n"
     ]
    },
    {
     "name": "stdout",
     "output_type": "stream",
     "text": [
      "New best\n"
     ]
    },
    {
     "name": "stdout",
     "output_type": "stream",
     "text": [
      "epoch: 6, [batch: 1 / 33600], examples_per_second: 0.7300, train_label_loss: 1.0838, \n"
     ]
    },
    {
     "name": "stdout",
     "output_type": "stream",
     "text": [
      "epoch: 6, [batch: 3360 / 33600], examples_per_second: 2954.0948, train_label_loss: 0.3470, \n"
     ]
    },
    {
     "name": "stdout",
     "output_type": "stream",
     "text": [
      "epoch: 6, [batch: 6720 / 33600], examples_per_second: 3263.9770, train_label_loss: 0.6921, \n"
     ]
    },
    {
     "name": "stdout",
     "output_type": "stream",
     "text": [
      "epoch: 6, [batch: 10080 / 33600], examples_per_second: 3668.6709, train_label_loss: 0.8961, \n"
     ]
    },
    {
     "name": "stdout",
     "output_type": "stream",
     "text": [
      "epoch: 6, [batch: 13440 / 33600], examples_per_second: 3060.6418, train_label_loss: 0.5146, \n"
     ]
    },
    {
     "name": "stdout",
     "output_type": "stream",
     "text": [
      "epoch: 6, [batch: 16800 / 33600], examples_per_second: 3420.3163, train_label_loss: 0.3872, \n"
     ]
    },
    {
     "name": "stdout",
     "output_type": "stream",
     "text": [
      "epoch: 6, [batch: 20160 / 33600], examples_per_second: 3360.2702, train_label_loss: 0.6168, \n"
     ]
    },
    {
     "name": "stdout",
     "output_type": "stream",
     "text": [
      "epoch: 6, [batch: 23520 / 33600], examples_per_second: 3416.0739, train_label_loss: 0.2341, \n"
     ]
    },
    {
     "name": "stdout",
     "output_type": "stream",
     "text": [
      "epoch: 6, [batch: 26880 / 33600], examples_per_second: 3427.0972, train_label_loss: 0.9287, \n"
     ]
    },
    {
     "name": "stdout",
     "output_type": "stream",
     "text": [
      "epoch: 6, [batch: 30240 / 33600], examples_per_second: 3380.7796, train_label_loss: 0.5386, \n"
     ]
    },
    {
     "name": "stdout",
     "output_type": "stream",
     "text": [
      "=============================================================\n",
      "epoch: 6, source_val_acc_label: 0.7204, target_val_acc_label: 0.7697, source_val_label_loss: 0.7508, target_val_label_loss: 9.3053, \n",
      "=============================================================\n"
     ]
    },
    {
     "name": "stdout",
     "output_type": "stream",
     "text": [
      "New best\n"
     ]
    },
    {
     "name": "stdout",
     "output_type": "stream",
     "text": [
      "epoch: 7, [batch: 1 / 33600], examples_per_second: 0.9427, train_label_loss: 0.5007, \n"
     ]
    },
    {
     "name": "stdout",
     "output_type": "stream",
     "text": [
      "epoch: 7, [batch: 3360 / 33600], examples_per_second: 3910.0510, train_label_loss: 0.5127, \n"
     ]
    },
    {
     "name": "stdout",
     "output_type": "stream",
     "text": [
      "epoch: 7, [batch: 6720 / 33600], examples_per_second: 4130.3192, train_label_loss: 0.4986, \n"
     ]
    },
    {
     "name": "stdout",
     "output_type": "stream",
     "text": [
      "epoch: 7, [batch: 10080 / 33600], examples_per_second: 4815.8960, train_label_loss: 0.4164, \n"
     ]
    },
    {
     "name": "stdout",
     "output_type": "stream",
     "text": [
      "epoch: 7, [batch: 13440 / 33600], examples_per_second: 3925.2107, train_label_loss: 0.3019, \n"
     ]
    },
    {
     "name": "stdout",
     "output_type": "stream",
     "text": [
      "epoch: 7, [batch: 16800 / 33600], examples_per_second: 3076.1233, train_label_loss: 0.2687, \n"
     ]
    },
    {
     "name": "stdout",
     "output_type": "stream",
     "text": [
      "epoch: 7, [batch: 20160 / 33600], examples_per_second: 2975.4469, train_label_loss: 0.4623, \n"
     ]
    },
    {
     "name": "stdout",
     "output_type": "stream",
     "text": [
      "epoch: 7, [batch: 23520 / 33600], examples_per_second: 2954.8984, train_label_loss: 0.4995, \n"
     ]
    },
    {
     "name": "stdout",
     "output_type": "stream",
     "text": [
      "epoch: 7, [batch: 26880 / 33600], examples_per_second: 2979.4895, train_label_loss: 0.6063, \n"
     ]
    },
    {
     "name": "stdout",
     "output_type": "stream",
     "text": [
      "epoch: 7, [batch: 30240 / 33600], examples_per_second: 2968.9724, train_label_loss: 0.2259, \n"
     ]
    },
    {
     "name": "stdout",
     "output_type": "stream",
     "text": [
      "=============================================================\n",
      "epoch: 7, source_val_acc_label: 0.7339, target_val_acc_label: 0.7754, source_val_label_loss: 0.7529, target_val_label_loss: 10.6975, \n",
      "=============================================================\n"
     ]
    },
    {
     "name": "stdout",
     "output_type": "stream",
     "text": [
      "New best\n"
     ]
    },
    {
     "name": "stdout",
     "output_type": "stream",
     "text": [
      "epoch: 8, [batch: 1 / 33600], examples_per_second: 0.7242, train_label_loss: 0.3902, \n"
     ]
    },
    {
     "name": "stdout",
     "output_type": "stream",
     "text": [
      "epoch: 8, [batch: 3360 / 33600], examples_per_second: 2980.7489, train_label_loss: 0.1779, \n"
     ]
    },
    {
     "name": "stdout",
     "output_type": "stream",
     "text": [
      "epoch: 8, [batch: 6720 / 33600], examples_per_second: 3253.7500, train_label_loss: 0.2452, \n"
     ]
    },
    {
     "name": "stdout",
     "output_type": "stream",
     "text": [
      "epoch: 8, [batch: 10080 / 33600], examples_per_second: 3790.5960, train_label_loss: 0.6192, \n"
     ]
    },
    {
     "name": "stdout",
     "output_type": "stream",
     "text": [
      "epoch: 8, [batch: 13440 / 33600], examples_per_second: 3569.4151, train_label_loss: 0.2960, \n"
     ]
    },
    {
     "name": "stdout",
     "output_type": "stream",
     "text": [
      "epoch: 8, [batch: 16800 / 33600], examples_per_second: 2977.0807, train_label_loss: 0.4071, \n"
     ]
    },
    {
     "name": "stdout",
     "output_type": "stream",
     "text": [
      "epoch: 8, [batch: 20160 / 33600], examples_per_second: 3015.8379, train_label_loss: 0.4107, \n"
     ]
    },
    {
     "name": "stdout",
     "output_type": "stream",
     "text": [
      "epoch: 8, [batch: 23520 / 33600], examples_per_second: 3005.3353, train_label_loss: 0.7339, \n"
     ]
    },
    {
     "name": "stdout",
     "output_type": "stream",
     "text": [
      "epoch: 8, [batch: 26880 / 33600], examples_per_second: 2989.2835, train_label_loss: 0.4376, \n"
     ]
    },
    {
     "name": "stdout",
     "output_type": "stream",
     "text": [
      "epoch: 8, [batch: 30240 / 33600], examples_per_second: 2963.6316, train_label_loss: 0.4160, \n"
     ]
    },
    {
     "name": "stdout",
     "output_type": "stream",
     "text": [
      "=============================================================\n",
      "epoch: 8, source_val_acc_label: 0.7256, target_val_acc_label: 0.7781, source_val_label_loss: 0.7671, target_val_label_loss: 10.6119, \n",
      "=============================================================\n"
     ]
    },
    {
     "name": "stdout",
     "output_type": "stream",
     "text": [
      "New best\n"
     ]
    },
    {
     "name": "stdout",
     "output_type": "stream",
     "text": [
      "epoch: 9, [batch: 1 / 33600], examples_per_second: 0.7374, train_label_loss: 0.3474, \n"
     ]
    },
    {
     "name": "stdout",
     "output_type": "stream",
     "text": [
      "epoch: 9, [batch: 3360 / 33600], examples_per_second: 2981.7800, train_label_loss: 0.1284, \n"
     ]
    },
    {
     "name": "stdout",
     "output_type": "stream",
     "text": [
      "epoch: 9, [batch: 6720 / 33600], examples_per_second: 3231.8664, train_label_loss: 0.3473, \n"
     ]
    },
    {
     "name": "stdout",
     "output_type": "stream",
     "text": [
      "epoch: 9, [batch: 10080 / 33600], examples_per_second: 3784.4934, train_label_loss: 0.5176, \n"
     ]
    },
    {
     "name": "stdout",
     "output_type": "stream",
     "text": [
      "epoch: 9, [batch: 13440 / 33600], examples_per_second: 3503.9934, train_label_loss: 0.4247, \n"
     ]
    },
    {
     "name": "stdout",
     "output_type": "stream",
     "text": [
      "epoch: 9, [batch: 16800 / 33600], examples_per_second: 2955.8713, train_label_loss: 0.4742, \n"
     ]
    },
    {
     "name": "stdout",
     "output_type": "stream",
     "text": [
      "epoch: 9, [batch: 20160 / 33600], examples_per_second: 2998.9895, train_label_loss: 0.2687, \n"
     ]
    },
    {
     "name": "stdout",
     "output_type": "stream",
     "text": [
      "epoch: 9, [batch: 23520 / 33600], examples_per_second: 2979.1302, train_label_loss: 0.3769, \n"
     ]
    },
    {
     "name": "stdout",
     "output_type": "stream",
     "text": [
      "epoch: 9, [batch: 26880 / 33600], examples_per_second: 3035.6863, train_label_loss: 1.0482, \n"
     ]
    },
    {
     "name": "stdout",
     "output_type": "stream",
     "text": [
      "epoch: 9, [batch: 30240 / 33600], examples_per_second: 3007.7535, train_label_loss: 0.4675, \n"
     ]
    },
    {
     "name": "stdout",
     "output_type": "stream",
     "text": [
      "=============================================================\n",
      "epoch: 9, source_val_acc_label: 0.7327, target_val_acc_label: 0.7794, source_val_label_loss: 0.7693, target_val_label_loss: 11.4370, \n",
      "=============================================================\n"
     ]
    },
    {
     "name": "stdout",
     "output_type": "stream",
     "text": [
      "New best\n"
     ]
    },
    {
     "name": "stdout",
     "output_type": "stream",
     "text": [
      "epoch: 10, [batch: 1 / 33600], examples_per_second: 0.7333, train_label_loss: 0.5119, \n"
     ]
    },
    {
     "name": "stdout",
     "output_type": "stream",
     "text": [
      "epoch: 10, [batch: 3360 / 33600], examples_per_second: 2977.1653, train_label_loss: 0.4579, \n"
     ]
    },
    {
     "name": "stdout",
     "output_type": "stream",
     "text": [
      "epoch: 10, [batch: 6720 / 33600], examples_per_second: 3227.7059, train_label_loss: 0.6307, \n"
     ]
    },
    {
     "name": "stdout",
     "output_type": "stream",
     "text": [
      "epoch: 10, [batch: 10080 / 33600], examples_per_second: 3828.0755, train_label_loss: 0.2643, \n"
     ]
    },
    {
     "name": "stdout",
     "output_type": "stream",
     "text": [
      "epoch: 10, [batch: 13440 / 33600], examples_per_second: 3425.7819, train_label_loss: 0.4689, \n"
     ]
    },
    {
     "name": "stdout",
     "output_type": "stream",
     "text": [
      "epoch: 10, [batch: 16800 / 33600], examples_per_second: 3000.6800, train_label_loss: 0.6421, \n"
     ]
    },
    {
     "name": "stdout",
     "output_type": "stream",
     "text": [
      "epoch: 10, [batch: 20160 / 33600], examples_per_second: 3008.9396, train_label_loss: 0.3607, \n"
     ]
    },
    {
     "name": "stdout",
     "output_type": "stream",
     "text": [
      "epoch: 10, [batch: 23520 / 33600], examples_per_second: 2985.5669, train_label_loss: 0.4911, \n"
     ]
    },
    {
     "name": "stdout",
     "output_type": "stream",
     "text": [
      "epoch: 10, [batch: 26880 / 33600], examples_per_second: 3006.1653, train_label_loss: 0.2298, \n"
     ]
    },
    {
     "name": "stdout",
     "output_type": "stream",
     "text": [
      "epoch: 10, [batch: 30240 / 33600], examples_per_second: 3001.3362, train_label_loss: 0.5535, \n"
     ]
    },
    {
     "name": "stdout",
     "output_type": "stream",
     "text": [
      "=============================================================\n",
      "epoch: 10, source_val_acc_label: 0.7336, target_val_acc_label: 0.7801, source_val_label_loss: 0.7818, target_val_label_loss: 12.2086, \n",
      "=============================================================\n"
     ]
    },
    {
     "name": "stdout",
     "output_type": "stream",
     "text": [
      "New best\n"
     ]
    },
    {
     "name": "stdout",
     "output_type": "stream",
     "text": [
      "epoch: 11, [batch: 1 / 33600], examples_per_second: 0.7309, train_label_loss: 0.5532, \n"
     ]
    },
    {
     "name": "stdout",
     "output_type": "stream",
     "text": [
      "epoch: 11, [batch: 3360 / 33600], examples_per_second: 2973.4381, train_label_loss: 0.4498, \n"
     ]
    },
    {
     "name": "stdout",
     "output_type": "stream",
     "text": [
      "epoch: 11, [batch: 6720 / 33600], examples_per_second: 3254.6651, train_label_loss: 0.2362, \n"
     ]
    },
    {
     "name": "stdout",
     "output_type": "stream",
     "text": [
      "epoch: 11, [batch: 10080 / 33600], examples_per_second: 3932.8145, train_label_loss: 0.3818, \n"
     ]
    },
    {
     "name": "stdout",
     "output_type": "stream",
     "text": [
      "epoch: 11, [batch: 13440 / 33600], examples_per_second: 3378.2454, train_label_loss: 0.7678, \n"
     ]
    },
    {
     "name": "stdout",
     "output_type": "stream",
     "text": [
      "epoch: 11, [batch: 16800 / 33600], examples_per_second: 2994.8225, train_label_loss: 0.4570, \n"
     ]
    },
    {
     "name": "stdout",
     "output_type": "stream",
     "text": [
      "epoch: 11, [batch: 20160 / 33600], examples_per_second: 3027.7095, train_label_loss: 0.1049, \n"
     ]
    },
    {
     "name": "stdout",
     "output_type": "stream",
     "text": [
      "epoch: 11, [batch: 23520 / 33600], examples_per_second: 2974.9129, train_label_loss: 0.3636, \n"
     ]
    },
    {
     "name": "stdout",
     "output_type": "stream",
     "text": [
      "epoch: 11, [batch: 26880 / 33600], examples_per_second: 2971.8766, train_label_loss: 0.2821, \n"
     ]
    },
    {
     "name": "stdout",
     "output_type": "stream",
     "text": [
      "epoch: 11, [batch: 30240 / 33600], examples_per_second: 3004.2686, train_label_loss: 0.2585, \n"
     ]
    },
    {
     "name": "stdout",
     "output_type": "stream",
     "text": [
      "=============================================================\n",
      "epoch: 11, source_val_acc_label: 0.7341, target_val_acc_label: 0.7811, source_val_label_loss: 0.8137, target_val_label_loss: 12.7076, \n",
      "=============================================================\n"
     ]
    },
    {
     "name": "stdout",
     "output_type": "stream",
     "text": [
      "New best\n"
     ]
    },
    {
     "name": "stdout",
     "output_type": "stream",
     "text": [
      "epoch: 12, [batch: 1 / 33600], examples_per_second: 0.7386, train_label_loss: 0.2458, \n"
     ]
    },
    {
     "name": "stdout",
     "output_type": "stream",
     "text": [
      "epoch: 12, [batch: 3360 / 33600], examples_per_second: 2935.7176, train_label_loss: 0.1777, \n"
     ]
    },
    {
     "name": "stdout",
     "output_type": "stream",
     "text": [
      "epoch: 12, [batch: 6720 / 33600], examples_per_second: 3238.3884, train_label_loss: 0.3915, \n"
     ]
    },
    {
     "name": "stdout",
     "output_type": "stream",
     "text": [
      "epoch: 12, [batch: 10080 / 33600], examples_per_second: 3996.0853, train_label_loss: 0.4462, \n"
     ]
    },
    {
     "name": "stdout",
     "output_type": "stream",
     "text": [
      "epoch: 12, [batch: 13440 / 33600], examples_per_second: 3320.5408, train_label_loss: 0.1380, \n"
     ]
    },
    {
     "name": "stdout",
     "output_type": "stream",
     "text": [
      "epoch: 12, [batch: 16800 / 33600], examples_per_second: 2994.9580, train_label_loss: 0.2612, \n"
     ]
    },
    {
     "name": "stdout",
     "output_type": "stream",
     "text": [
      "epoch: 12, [batch: 20160 / 33600], examples_per_second: 3008.9098, train_label_loss: 0.3283, \n"
     ]
    },
    {
     "name": "stdout",
     "output_type": "stream",
     "text": [
      "epoch: 12, [batch: 23520 / 33600], examples_per_second: 2961.9542, train_label_loss: 0.1343, \n"
     ]
    },
    {
     "name": "stdout",
     "output_type": "stream",
     "text": [
      "epoch: 12, [batch: 26880 / 33600], examples_per_second: 2962.1640, train_label_loss: 0.3101, \n"
     ]
    },
    {
     "name": "stdout",
     "output_type": "stream",
     "text": [
      "epoch: 12, [batch: 30240 / 33600], examples_per_second: 2965.9684, train_label_loss: 0.3893, \n"
     ]
    },
    {
     "name": "stdout",
     "output_type": "stream",
     "text": [
      "=============================================================\n",
      "epoch: 12, source_val_acc_label: 0.7290, target_val_acc_label: 0.7839, source_val_label_loss: 0.8274, target_val_label_loss: 13.0785, \n",
      "=============================================================\n"
     ]
    },
    {
     "name": "stdout",
     "output_type": "stream",
     "text": [
      "New best\n"
     ]
    },
    {
     "name": "stdout",
     "output_type": "stream",
     "text": [
      "epoch: 13, [batch: 1 / 33600], examples_per_second: 0.7368, train_label_loss: 0.5551, \n"
     ]
    },
    {
     "name": "stdout",
     "output_type": "stream",
     "text": [
      "epoch: 13, [batch: 3360 / 33600], examples_per_second: 2931.2050, train_label_loss: 0.2340, \n"
     ]
    },
    {
     "name": "stdout",
     "output_type": "stream",
     "text": [
      "epoch: 13, [batch: 6720 / 33600], examples_per_second: 3360.5865, train_label_loss: 0.4096, \n"
     ]
    },
    {
     "name": "stdout",
     "output_type": "stream",
     "text": [
      "epoch: 13, [batch: 10080 / 33600], examples_per_second: 4126.5153, train_label_loss: 0.0566, \n"
     ]
    },
    {
     "name": "stdout",
     "output_type": "stream",
     "text": [
      "epoch: 13, [batch: 13440 / 33600], examples_per_second: 3228.3847, train_label_loss: 0.5255, \n"
     ]
    },
    {
     "name": "stdout",
     "output_type": "stream",
     "text": [
      "epoch: 13, [batch: 16800 / 33600], examples_per_second: 2974.1968, train_label_loss: 0.3543, \n"
     ]
    },
    {
     "name": "stdout",
     "output_type": "stream",
     "text": [
      "epoch: 13, [batch: 20160 / 33600], examples_per_second: 3004.8625, train_label_loss: 0.3089, \n"
     ]
    },
    {
     "name": "stdout",
     "output_type": "stream",
     "text": [
      "epoch: 13, [batch: 23520 / 33600], examples_per_second: 2985.9433, train_label_loss: 0.2695, \n"
     ]
    },
    {
     "name": "stdout",
     "output_type": "stream",
     "text": [
      "epoch: 13, [batch: 26880 / 33600], examples_per_second: 2982.7718, train_label_loss: 0.2817, \n"
     ]
    },
    {
     "name": "stdout",
     "output_type": "stream",
     "text": [
      "epoch: 13, [batch: 30240 / 33600], examples_per_second: 2986.2894, train_label_loss: 0.1858, \n"
     ]
    },
    {
     "name": "stdout",
     "output_type": "stream",
     "text": [
      "=============================================================\n",
      "epoch: 13, source_val_acc_label: 0.7273, target_val_acc_label: 0.7768, source_val_label_loss: 0.8657, target_val_label_loss: 13.7396, \n",
      "=============================================================\n"
     ]
    },
    {
     "name": "stdout",
     "output_type": "stream",
     "text": [
      "epoch: 14, [batch: 1 / 33600], examples_per_second: 0.7318, train_label_loss: 0.2288, \n"
     ]
    },
    {
     "name": "stdout",
     "output_type": "stream",
     "text": [
      "epoch: 14, [batch: 3360 / 33600], examples_per_second: 2942.4757, train_label_loss: 0.3896, \n"
     ]
    },
    {
     "name": "stdout",
     "output_type": "stream",
     "text": [
      "epoch: 14, [batch: 6720 / 33600], examples_per_second: 3342.1840, train_label_loss: 0.1437, \n"
     ]
    },
    {
     "name": "stdout",
     "output_type": "stream",
     "text": [
      "epoch: 14, [batch: 10080 / 33600], examples_per_second: 4143.7371, train_label_loss: 0.3458, \n"
     ]
    },
    {
     "name": "stdout",
     "output_type": "stream",
     "text": [
      "epoch: 14, [batch: 13440 / 33600], examples_per_second: 3189.2069, train_label_loss: 0.1915, \n"
     ]
    },
    {
     "name": "stdout",
     "output_type": "stream",
     "text": [
      "epoch: 14, [batch: 16800 / 33600], examples_per_second: 2958.5287, train_label_loss: 0.0677, \n"
     ]
    },
    {
     "name": "stdout",
     "output_type": "stream",
     "text": [
      "epoch: 14, [batch: 20160 / 33600], examples_per_second: 3004.0572, train_label_loss: 0.2637, \n"
     ]
    },
    {
     "name": "stdout",
     "output_type": "stream",
     "text": [
      "epoch: 14, [batch: 23520 / 33600], examples_per_second: 3037.6933, train_label_loss: 0.0125, \n"
     ]
    },
    {
     "name": "stdout",
     "output_type": "stream",
     "text": [
      "epoch: 14, [batch: 26880 / 33600], examples_per_second: 3001.8414, train_label_loss: 0.3420, \n"
     ]
    },
    {
     "name": "stdout",
     "output_type": "stream",
     "text": [
      "epoch: 14, [batch: 30240 / 33600], examples_per_second: 2986.3197, train_label_loss: 0.0666, \n"
     ]
    },
    {
     "name": "stdout",
     "output_type": "stream",
     "text": [
      "=============================================================\n",
      "epoch: 14, source_val_acc_label: 0.7217, target_val_acc_label: 0.7809, source_val_label_loss: 0.8766, target_val_label_loss: 14.0469, \n",
      "=============================================================\n"
     ]
    },
    {
     "name": "stdout",
     "output_type": "stream",
     "text": [
      "epoch: 15, [batch: 1 / 33600], examples_per_second: 0.7308, train_label_loss: 0.3821, \n"
     ]
    },
    {
     "name": "stdout",
     "output_type": "stream",
     "text": [
      "epoch: 15, [batch: 3360 / 33600], examples_per_second: 2991.4591, train_label_loss: 0.3445, \n"
     ]
    },
    {
     "name": "stdout",
     "output_type": "stream",
     "text": [
      "epoch: 15, [batch: 6720 / 33600], examples_per_second: 3395.9305, train_label_loss: 0.2553, \n"
     ]
    },
    {
     "name": "stdout",
     "output_type": "stream",
     "text": [
      "epoch: 15, [batch: 10080 / 33600], examples_per_second: 3972.8942, train_label_loss: 0.1138, \n"
     ]
    },
    {
     "name": "stdout",
     "output_type": "stream",
     "text": [
      "epoch: 15, [batch: 13440 / 33600], examples_per_second: 3539.1838, train_label_loss: 0.2090, \n"
     ]
    },
    {
     "name": "stdout",
     "output_type": "stream",
     "text": [
      "epoch: 15, [batch: 16800 / 33600], examples_per_second: 3411.0752, train_label_loss: 0.2013, \n"
     ]
    },
    {
     "name": "stdout",
     "output_type": "stream",
     "text": [
      "epoch: 15, [batch: 20160 / 33600], examples_per_second: 3488.4538, train_label_loss: 0.2107, \n"
     ]
    },
    {
     "name": "stdout",
     "output_type": "stream",
     "text": [
      "epoch: 15, [batch: 23520 / 33600], examples_per_second: 3391.4880, train_label_loss: 0.0409, \n"
     ]
    },
    {
     "name": "stdout",
     "output_type": "stream",
     "text": [
      "epoch: 15, [batch: 26880 / 33600], examples_per_second: 3556.1525, train_label_loss: 0.0563, \n"
     ]
    },
    {
     "name": "stdout",
     "output_type": "stream",
     "text": [
      "epoch: 15, [batch: 30240 / 33600], examples_per_second: 3883.0041, train_label_loss: 0.0879, \n"
     ]
    },
    {
     "name": "stdout",
     "output_type": "stream",
     "text": [
      "=============================================================\n",
      "epoch: 15, source_val_acc_label: 0.7244, target_val_acc_label: 0.7807, source_val_label_loss: 0.9144, target_val_label_loss: 14.7896, \n",
      "=============================================================\n"
     ]
    },
    {
     "name": "stdout",
     "output_type": "stream",
     "text": [
      "epoch: 16, [batch: 1 / 33600], examples_per_second: 1.0068, train_label_loss: 0.1283, \n"
     ]
    },
    {
     "name": "stdout",
     "output_type": "stream",
     "text": [
      "epoch: 16, [batch: 3360 / 33600], examples_per_second: 3800.0904, train_label_loss: 0.2537, \n"
     ]
    },
    {
     "name": "stdout",
     "output_type": "stream",
     "text": [
      "epoch: 16, [batch: 6720 / 33600], examples_per_second: 3989.8314, train_label_loss: 0.1132, \n"
     ]
    },
    {
     "name": "stdout",
     "output_type": "stream",
     "text": [
      "epoch: 16, [batch: 10080 / 33600], examples_per_second: 4511.1113, train_label_loss: 0.1763, \n"
     ]
    },
    {
     "name": "stdout",
     "output_type": "stream",
     "text": [
      "epoch: 16, [batch: 13440 / 33600], examples_per_second: 3054.3968, train_label_loss: 0.1206, \n"
     ]
    },
    {
     "name": "stdout",
     "output_type": "stream",
     "text": [
      "epoch: 16, [batch: 16800 / 33600], examples_per_second: 2971.5548, train_label_loss: 0.2809, \n"
     ]
    },
    {
     "name": "stdout",
     "output_type": "stream",
     "text": [
      "epoch: 16, [batch: 20160 / 33600], examples_per_second: 3332.6456, train_label_loss: 0.2621, \n"
     ]
    },
    {
     "name": "stdout",
     "output_type": "stream",
     "text": [
      "epoch: 16, [batch: 23520 / 33600], examples_per_second: 3277.6883, train_label_loss: 0.4821, \n"
     ]
    },
    {
     "name": "stdout",
     "output_type": "stream",
     "text": [
      "epoch: 16, [batch: 26880 / 33600], examples_per_second: 2989.8803, train_label_loss: 0.4568, \n"
     ]
    },
    {
     "name": "stdout",
     "output_type": "stream",
     "text": [
      "epoch: 16, [batch: 30240 / 33600], examples_per_second: 3171.5706, train_label_loss: 0.0825, \n"
     ]
    },
    {
     "name": "stdout",
     "output_type": "stream",
     "text": [
      "=============================================================\n",
      "epoch: 16, source_val_acc_label: 0.7147, target_val_acc_label: 0.7827, source_val_label_loss: 0.9505, target_val_label_loss: 15.1950, \n",
      "=============================================================\n"
     ]
    },
    {
     "name": "stdout",
     "output_type": "stream",
     "text": [
      "Patience (3) exhausted\n"
     ]
    }
   ],
   "source": [
    "###################################\n",
    "# train\n",
    "###################################\n",
    "jig = PTN_Train_Eval_Test_Jig(model, p.BEST_MODEL_PATH, p.device)\n",
    "\n",
    "jig.train(\n",
    "    train_iterable=datasets.source.processed.train,\n",
    "    source_val_iterable=datasets.source.processed.val,\n",
    "    target_val_iterable=datasets.target.processed.val,\n",
    "    num_epochs=p.n_epoch,\n",
    "    num_logs_per_epoch=p.NUM_LOGS_PER_EPOCH,\n",
    "    patience=p.patience,\n",
    "    optimizer=optimizer,\n",
    "    criteria_for_best=p.criteria_for_best,\n",
    ")"
   ]
  },
  {
   "cell_type": "code",
   "execution_count": 23,
   "id": "31e8fabf",
   "metadata": {
    "execution": {
     "iopub.execute_input": "2022-03-24T03:16:20.282796Z",
     "iopub.status.busy": "2022-03-24T03:16:20.282436Z",
     "iopub.status.idle": "2022-03-24T03:16:20.313789Z",
     "shell.execute_reply": "2022-03-24T03:16:20.313091Z"
    },
    "papermill": {
     "duration": 0.108028,
     "end_time": "2022-03-24T03:16:20.313942",
     "exception": false,
     "start_time": "2022-03-24T03:16:20.205914",
     "status": "completed"
    },
    "tags": []
   },
   "outputs": [],
   "source": [
    "total_experiment_time_secs = time.time() - start_time_secs"
   ]
  },
  {
   "cell_type": "code",
   "execution_count": 24,
   "id": "87b9595b",
   "metadata": {
    "execution": {
     "iopub.execute_input": "2022-03-24T03:16:20.475065Z",
     "iopub.status.busy": "2022-03-24T03:16:20.474475Z",
     "iopub.status.idle": "2022-03-24T03:26:31.806843Z",
     "shell.execute_reply": "2022-03-24T03:26:31.806108Z"
    },
    "papermill": {
     "duration": 611.412071,
     "end_time": "2022-03-24T03:26:31.807035",
     "exception": false,
     "start_time": "2022-03-24T03:16:20.394964",
     "status": "completed"
    },
    "tags": []
   },
   "outputs": [],
   "source": [
    "###################################\n",
    "# Evaluate the model\n",
    "###################################\n",
    "source_test_label_accuracy, source_test_label_loss = jig.test(datasets.source.processed.test)\n",
    "target_test_label_accuracy, target_test_label_loss = jig.test(datasets.target.processed.test)\n",
    "\n",
    "source_val_label_accuracy, source_val_label_loss = jig.test(datasets.source.processed.val)\n",
    "target_val_label_accuracy, target_val_label_loss = jig.test(datasets.target.processed.val)\n",
    "\n",
    "history = jig.get_history()\n",
    "\n",
    "total_epochs_trained = len(history[\"epoch_indices\"])\n",
    "\n",
    "val_dl = Iterable_Aggregator((datasets.source.original.val,datasets.target.original.val))\n",
    "\n",
    "confusion = ptn_confusion_by_domain_over_dataloader(model, p.device, val_dl)\n",
    "per_domain_accuracy = per_domain_accuracy_from_confusion(confusion)\n",
    "\n",
    "# Add a key to per_domain_accuracy for if it was a source domain\n",
    "for domain, accuracy in per_domain_accuracy.items():\n",
    "    per_domain_accuracy[domain] = {\n",
    "        \"accuracy\": accuracy,\n",
    "        \"source?\": domain in p.domains_source\n",
    "    }\n",
    "\n",
    "# Do an independent accuracy assesment JUST TO BE SURE!\n",
    "# _source_test_label_accuracy = independent_accuracy_assesment(model, datasets.source.processed.test, p.device)\n",
    "# _target_test_label_accuracy = independent_accuracy_assesment(model, datasets.target.processed.test, p.device)\n",
    "# _source_val_label_accuracy = independent_accuracy_assesment(model, datasets.source.processed.val, p.device)\n",
    "# _target_val_label_accuracy = independent_accuracy_assesment(model, datasets.target.processed.val, p.device)\n",
    "\n",
    "# assert(_source_test_label_accuracy == source_test_label_accuracy)\n",
    "# assert(_target_test_label_accuracy == target_test_label_accuracy)\n",
    "# assert(_source_val_label_accuracy == source_val_label_accuracy)\n",
    "# assert(_target_val_label_accuracy == target_val_label_accuracy)\n",
    "\n",
    "experiment = {\n",
    "    \"experiment_name\": p.experiment_name,\n",
    "    \"parameters\": dict(p),\n",
    "    \"results\": {\n",
    "        \"source_test_label_accuracy\": source_test_label_accuracy,\n",
    "        \"source_test_label_loss\": source_test_label_loss,\n",
    "        \"target_test_label_accuracy\": target_test_label_accuracy,\n",
    "        \"target_test_label_loss\": target_test_label_loss,\n",
    "        \"source_val_label_accuracy\": source_val_label_accuracy,\n",
    "        \"source_val_label_loss\": source_val_label_loss,\n",
    "        \"target_val_label_accuracy\": target_val_label_accuracy,\n",
    "        \"target_val_label_loss\": target_val_label_loss,\n",
    "        \"total_epochs_trained\": total_epochs_trained,\n",
    "        \"total_experiment_time_secs\": total_experiment_time_secs,\n",
    "        \"confusion\": confusion,\n",
    "        \"per_domain_accuracy\": per_domain_accuracy,\n",
    "    },\n",
    "    \"history\": history,\n",
    "    \"dataset_metrics\": get_dataset_metrics(datasets, \"ptn\"),\n",
    "}"
   ]
  },
  {
   "cell_type": "code",
   "execution_count": 25,
   "id": "54a21829",
   "metadata": {
    "execution": {
     "iopub.execute_input": "2022-03-24T03:26:31.967978Z",
     "iopub.status.busy": "2022-03-24T03:26:31.967606Z",
     "iopub.status.idle": "2022-03-24T03:26:32.198923Z",
     "shell.execute_reply": "2022-03-24T03:26:32.198201Z"
    },
    "papermill": {
     "duration": 0.309902,
     "end_time": "2022-03-24T03:26:32.199080",
     "exception": false,
     "start_time": "2022-03-24T03:26:31.889178",
     "status": "completed"
    },
    "tags": []
   },
   "outputs": [
    {
     "data": {
      "image/png": "[encoded data removed]",
      "text/plain": [
       "<Figure size 1080x504 with 1 Axes>"
      ]
     },
     "metadata": {
      "needs_background": "light"
     },
     "output_type": "display_data"
    }
   ],
   "source": [
    "ax = get_loss_curve(experiment)\n",
    "plt.show()"
   ]
  },
  {
   "cell_type": "code",
   "execution_count": 26,
   "id": "fd8a0f60",
   "metadata": {
    "execution": {
     "iopub.execute_input": "2022-03-24T03:26:32.355928Z",
     "iopub.status.busy": "2022-03-24T03:26:32.355557Z",
     "iopub.status.idle": "2022-03-24T03:26:32.684036Z",
     "shell.execute_reply": "2022-03-24T03:26:32.683652Z"
    },
    "papermill": {
     "duration": 0.406459,
     "end_time": "2022-03-24T03:26:32.684112",
     "exception": false,
     "start_time": "2022-03-24T03:26:32.277653",
     "status": "completed"
    },
    "tags": []
   },
   "outputs": [
    {
     "data": {
      "text/plain": [
       "<AxesSubplot:title={'center':'Results'}>"
      ]
     },
     "execution_count": 26,
     "metadata": {},
     "output_type": "execute_result"
    },
    {
     "data": {
      "image/png": "[encoded data removed]",
      "text/plain": [
       "<Figure size 1080x504 with 1 Axes>"
      ]
     },
     "metadata": {
      "needs_background": "light"
     },
     "output_type": "display_data"
    }
   ],
   "source": [
    "get_results_table(experiment)"
   ]
  },
  {
   "cell_type": "code",
   "execution_count": 27,
   "id": "cf8dc689",
   "metadata": {
    "execution": {
     "iopub.execute_input": "2022-03-24T03:26:32.842973Z",
     "iopub.status.busy": "2022-03-24T03:26:32.842518Z",
     "iopub.status.idle": "2022-03-24T03:26:33.109744Z",
     "shell.execute_reply": "2022-03-24T03:26:33.110424Z"
    },
    "papermill": {
     "duration": 0.348903,
     "end_time": "2022-03-24T03:26:33.110637",
     "exception": false,
     "start_time": "2022-03-24T03:26:32.761734",
     "status": "completed"
    },
    "tags": []
   },
   "outputs": [
    {
     "data": {
      "text/plain": [
       "<AxesSubplot:title={'center':'Per Domain Validation Accuracy'}, xlabel='domain'>"
      ]
     },
     "execution_count": 27,
     "metadata": {},
     "output_type": "execute_result"
    },
    {
     "data": {
      "image/png": "[encoded data removed]",
      "text/plain": [
       "<Figure size 1080x504 with 1 Axes>"
      ]
     },
     "metadata": {
      "needs_background": "light"
     },
     "output_type": "display_data"
    }
   ],
   "source": [
    "get_domain_accuracies(experiment)"
   ]
  },
  {
   "cell_type": "code",
   "execution_count": 28,
   "id": "a74ae082",
   "metadata": {
    "execution": {
     "iopub.execute_input": "2022-03-24T03:26:33.273247Z",
     "iopub.status.busy": "2022-03-24T03:26:33.272648Z",
     "iopub.status.idle": "2022-03-24T03:26:33.297560Z",
     "shell.execute_reply": "2022-03-24T03:26:33.298226Z"
    },
    "papermill": {
     "duration": 0.10672,
     "end_time": "2022-03-24T03:26:33.298430",
     "exception": false,
     "start_time": "2022-03-24T03:26:33.191710",
     "status": "completed"
    },
    "tags": []
   },
   "outputs": [
    {
     "name": "stdout",
     "output_type": "stream",
     "text": [
      "Source Test Label Accuracy: 0.7265169270833334 Target Test Label Accuracy: 0.7806315104166667\n",
      "Source Val Label Accuracy: 0.7289713541666667 Target Val Label Accuracy: 0.7839342523860021\n"
     ]
    }
   ],
   "source": [
    "print(\"Source Test Label Accuracy:\", experiment[\"results\"][\"source_test_label_accuracy\"], \"Target Test Label Accuracy:\", experiment[\"results\"][\"target_test_label_accuracy\"])\n",
    "print(\"Source Val Label Accuracy:\", experiment[\"results\"][\"source_val_label_accuracy\"], \"Target Val Label Accuracy:\", experiment[\"results\"][\"target_val_label_accuracy\"])"
   ]
  },
  {
   "cell_type": "code",
   "execution_count": 29,
   "id": "dacca602",
   "metadata": {
    "execution": {
     "iopub.execute_input": "2022-03-24T03:26:33.466247Z",
     "iopub.status.busy": "2022-03-24T03:26:33.465880Z",
     "iopub.status.idle": "2022-03-24T03:26:33.497651Z",
     "shell.execute_reply": "2022-03-24T03:26:33.498325Z"
    },
    "papermill": {
     "duration": 0.115619,
     "end_time": "2022-03-24T03:26:33.498542",
     "exception": false,
     "start_time": "2022-03-24T03:26:33.382923",
     "status": "completed"
    },
    "tags": [
     "experiment_json"
    ]
   },
   "outputs": [
    {
     "data": {
      "text/plain": [
       "'{\"experiment_name\": \"tl_1v2:wisig-oracle.run1\", \"parameters\": {\"experiment_name\": \"tl_1v2:wisig-oracle.run1\", \"device\": \"cuda\", \"lr\": 0.0001, \"n_shot\": 3, \"n_query\": 2, \"train_k_factor\": 3, \"val_k_factor\": 2, \"test_k_factor\": 2, \"torch_default_dtype\": \"torch.float32\", \"n_epoch\": 50, \"patience\": 3, \"criteria_for_best\": \"target_accuracy\", \"x_net\": [{\"class\": \"nnReshape\", \"kargs\": {\"shape\": [-1, 1, 2, 256]}}, {\"class\": \"Conv2d\", \"kargs\": {\"in_channels\": 1, \"out_channels\": 256, \"kernel_size\": [1, 7], \"bias\": false, \"padding\": [0, 3]}}, {\"class\": \"ReLU\", \"kargs\": {\"inplace\": true}}, {\"class\": \"BatchNorm2d\", \"kargs\": {\"num_features\": 256}}, {\"class\": \"Conv2d\", \"kargs\": {\"in_channels\": 256, \"out_channels\": 80, \"kernel_size\": [2, 7], \"bias\": true, \"padding\": [0, 3]}}, {\"class\": \"ReLU\", \"kargs\": {\"inplace\": true}}, {\"class\": \"BatchNorm2d\", \"kargs\": {\"num_features\": 80}}, {\"class\": \"Flatten\", \"kargs\": {}}, {\"class\": \"Linear\", \"kargs\": {\"in_features\": 20480, \"out_features\": 256}}, {\"class\": \"ReLU\", \"kargs\": {\"inplace\": true}}, {\"class\": \"BatchNorm1d\", \"kargs\": {\"num_features\": 256}}, {\"class\": \"Linear\", \"kargs\": {\"in_features\": 256, \"out_features\": 256}}], \"NUM_LOGS_PER_EPOCH\": 10, \"BEST_MODEL_PATH\": \"./best_model.pth\", \"n_way\": 16, \"datasets\": [{\"labels\": [\"1-10\", \"1-12\", \"1-14\", \"1-16\", \"1-18\", \"1-19\", \"1-8\", \"10-11\", \"10-17\", \"10-4\", \"10-7\", \"11-1\", \"11-10\", \"11-19\", \"11-20\", \"11-4\", \"11-7\", \"12-19\", \"12-20\", \"12-7\", \"13-14\", \"13-18\", \"13-19\", \"13-20\", \"13-3\", \"13-7\", \"14-10\", \"14-11\", \"14-12\", \"14-13\", \"14-14\", \"14-19\", \"14-20\", \"14-7\", \"14-8\", \"14-9\", \"15-1\", \"15-19\", \"15-6\", \"16-1\", \"16-16\", \"16-19\", \"16-20\", \"17-10\", \"17-11\", \"18-1\", \"18-10\", \"18-11\", \"18-12\", \"18-13\", \"18-14\", \"18-15\", \"18-16\", \"18-17\", \"18-19\", \"18-2\", \"18-20\", \"18-4\", \"18-5\", \"18-7\", \"18-8\", \"18-9\", \"19-1\", \"19-10\", \"19-11\", \"19-12\", \"19-13\", \"19-14\", \"19-15\", \"19-19\", \"19-2\", \"19-20\", \"19-3\", \"19-4\", \"19-6\", \"19-7\", \"19-8\", \"19-9\", \"2-1\", \"2-13\", \"2-15\", \"2-3\", \"2-4\", \"2-5\", \"2-6\", \"2-7\", \"2-8\", \"20-1\", \"20-12\", \"20-14\", \"20-15\", \"20-16\", \"20-18\", \"20-19\", \"20-20\", \"20-3\", \"20-4\", \"20-5\", \"20-7\", \"20-8\", \"3-1\", \"3-13\", \"3-18\", \"3-2\", \"3-8\", \"4-1\", \"4-10\", \"4-11\", \"5-1\", \"5-5\", \"6-1\", \"6-15\", \"6-6\", \"7-10\", \"7-11\", \"7-12\", \"7-13\", \"7-14\", \"7-7\", \"7-8\", \"7-9\", \"8-1\", \"8-13\", \"8-14\", \"8-18\", \"8-20\", \"8-3\", \"8-8\", \"9-1\", \"9-7\"], \"domains\": [1, 2, 3, 4], \"num_examples_per_domain_per_label\": -1, \"pickle_path\": \"/root/csc500-main/datasets/wisig.node3-19.stratified_ds.2022A.pkl\", \"source_or_target_dataset\": \"target\", \"x_transforms\": [\"unit_power\"], \"episode_transforms\": [], \"domain_prefix\": \"Wisig_\"}, {\"labels\": [\"3123D52\", \"3123D65\", \"3123D79\", \"3123D80\", \"3123D54\", \"3123D70\", \"3123D7B\", \"3123D89\", \"3123D58\", \"3123D76\", \"3123D7D\", \"3123EFE\", \"3123D64\", \"3123D78\", \"3123D7E\", \"3124E4A\"], \"domains\": [32, 38, 8, 44, 14, 50, 20, 26], \"num_examples_per_domain_per_label\": 10000, \"pickle_path\": \"/root/csc500-main/datasets/oracle.Run1_10kExamples_stratified_ds.2022A.pkl\", \"source_or_target_dataset\": \"source\", \"x_transforms\": [\"unit_power\"], \"episode_transforms\": [], \"domain_prefix\": \"ORACLE.run1\"}], \"dataset_seed\": 154325, \"seed\": 154325, \"x_shape\": [2, 256], \"domains_source\": [\"ORACLE.run132\", \"ORACLE.run138\", \"ORACLE.run18\", \"ORACLE.run144\", \"ORACLE.run114\", \"ORACLE.run150\", \"ORACLE.run120\", \"ORACLE.run126\"], \"domains_target\": [\"Wisig_1\", \"Wisig_2\", \"Wisig_3\", \"Wisig_4\"]}, \"results\": {\"source_test_label_accuracy\": 0.7265169270833334, \"source_test_label_loss\": 0.8305190801620483, \"target_test_label_accuracy\": 0.7806315104166667, \"target_test_label_loss\": 13.230721473693848, \"source_val_label_accuracy\": 0.7289713541666667, \"source_val_label_loss\": 0.8273537158966064, \"target_val_label_accuracy\": 0.7839342523860021, \"target_val_label_loss\": 13.078493118286133, \"total_epochs_trained\": 16, \"total_experiment_time_secs\": 15442.183552265167, \"confusion\": {\"ORACLE.run18\": {\"13\": {\"0\": 331, \"14\": 92, \"4\": 176, \"10\": 137, \"13\": 407, \"7\": 10, \"6\": 46, \"1\": 1}, \"9\": {\"9\": 1200}, \"15\": {\"15\": 857, \"12\": 271, \"8\": 56, \"2\": 8, \"7\": 2, \"3\": 6}, \"2\": {\"2\": 958, \"3\": 165, \"7\": 16, \"15\": 38, \"12\": 19, \"8\": 4}, \"3\": {\"3\": 1025, \"12\": 66, \"2\": 106, \"15\": 3}, \"8\": {\"8\": 1121, \"15\": 64, \"7\": 4, \"6\": 8, \"4\": 1, \"12\": 2}, \"5\": {\"5\": 1047, \"10\": 79, \"1\": 49, \"14\": 19, \"11\": 5, \"13\": 1}, \"14\": {\"4\": 184, \"14\": 637, \"13\": 81, \"10\": 211, \"1\": 66, \"6\": 6, \"5\": 1, \"11\": 12, \"0\": 2}, \"1\": {\"1\": 882, \"14\": 52, \"5\": 12, \"11\": 247, \"10\": 7}, \"0\": {\"0\": 704, \"13\": 260, \"7\": 97, \"4\": 50, \"6\": 76, \"10\": 8, \"14\": 5}, \"10\": {\"10\": 808, \"14\": 225, \"13\": 89, \"4\": 27, \"5\": 39, \"1\": 6, \"0\": 6}, \"6\": {\"7\": 243, \"6\": 699, \"4\": 139, \"0\": 74, \"13\": 30, \"14\": 8, \"8\": 7}, \"11\": {\"10\": 1, \"1\": 364, \"11\": 805, \"14\": 13, \"8\": 6, \"5\": 8, \"6\": 2, \"4\": 1}, \"7\": {\"7\": 917, \"6\": 224, \"0\": 40, \"13\": 6, \"2\": 1, \"15\": 3, \"4\": 9}, \"4\": {\"4\": 576, \"6\": 132, \"14\": 177, \"0\": 51, \"13\": 215, \"10\": 38, \"7\": 5, \"1\": 4, \"8\": 1, \"11\": 1}, \"12\": {\"15\": 339, \"12\": 682, \"3\": 153, \"8\": 11, \"2\": 15}}, \"ORACLE.run138\": {\"13\": {\"13\": 881, \"10\": 109, \"15\": 155, \"2\": 27, \"14\": 2, \"0\": 5, \"8\": 14, \"1\": 6, \"5\": 1}, \"12\": {\"12\": 1162, \"4\": 31, \"8\": 2, \"10\": 4, \"0\": 1}, \"2\": {\"2\": 1105, \"14\": 75, \"13\": 18, \"10\": 2}, \"9\": {\"9\": 895, \"5\": 21, \"6\": 264, \"3\": 18, \"7\": 2}, \"15\": {\"15\": 935, \"8\": 51, \"13\": 119, \"1\": 73, \"5\": 18, \"10\": 1, \"2\": 3}, \"5\": {\"5\": 558, \"0\": 66, \"8\": 318, \"3\": 11, \"7\": 96, \"6\": 53, \"13\": 3, \"9\": 39, \"15\": 45, \"1\": 5, \"10\": 6}, \"14\": {\"14\": 1098, \"2\": 65, \"10\": 6, \"11\": 29, \"13\": 2}, \"0\": {\"0\": 612, \"3\": 79, \"8\": 221, \"7\": 179, \"5\": 87, \"10\": 14, \"15\": 4, \"9\": 3, \"13\": 1}, \"3\": {\"3\": 1145, \"9\": 25, \"0\": 24, \"5\": 3, \"7\": 3}, \"1\": {\"1\": 1155, \"15\": 41, \"8\": 2, \"5\": 1, \"13\": 1}, \"11\": {\"11\": 1085, \"13\": 3, \"2\": 6, \"10\": 15, \"14\": 87, \"12\": 4}, \"7\": {\"7\": 943, \"0\": 126, \"8\": 50, \"5\": 77, \"10\": 1, \"4\": 1, \"9\": 1, \"3\": 1}, \"8\": {\"8\": 735, \"5\": 247, \"15\": 39, \"0\": 103, \"7\": 50, \"10\": 23, \"1\": 2, \"13\": 1}, \"4\": {\"12\": 49, \"4\": 1143, \"7\": 4, \"10\": 4}, \"10\": {\"10\": 930, \"0\": 29, \"8\": 63, \"13\": 118, \"2\": 5, \"15\": 9, \"5\": 5, \"12\": 8, \"7\": 13, \"11\": 5, \"14\": 14, \"4\": 1}, \"6\": {\"6\": 1058, \"9\": 137, \"5\": 5}}, \"ORACLE.run126\": {\"10\": {\"10\": 486, \"1\": 34, \"8\": 155, \"0\": 247, \"14\": 119, \"6\": 50, \"4\": 75, \"7\": 7, \"9\": 16, \"15\": 10, \"2\": 1}, \"12\": {\"12\": 1195, \"11\": 5}, \"1\": {\"1\": 775, \"4\": 128, \"14\": 215, \"7\": 12, \"10\": 34, \"3\": 2, \"0\": 25, \"8\": 9}, \"0\": {\"10\": 279, \"4\": 154, \"0\": 373, \"8\": 127, \"14\": 184, \"7\": 15, \"1\": 33, \"15\": 3, \"6\": 19, \"9\": 12, \"2\": 1}, \"15\": {\"13\": 59, \"10\": 19, \"7\": 17, \"5\": 117, \"9\": 359, \"15\": 491, \"8\": 75, \"14\": 1, \"2\": 28, \"6\": 27, \"3\": 2, \"0\": 4, \"4\": 1}, \"13\": {\"5\": 188, \"13\": 902, \"2\": 20, \"15\": 59, \"8\": 1, \"9\": 21, \"6\": 8, \"7\": 1}, \"8\": {\"1\": 7, \"4\": 93, \"8\": 437, \"10\": 158, \"9\": 108, \"7\": 118, \"14\": 24, \"15\": 72, \"6\": 36, \"0\": 104, \"5\": 19, \"2\": 23, \"13\": 1}, \"3\": {\"3\": 704, \"2\": 289, \"7\": 198, \"4\": 3, \"8\": 2, \"1\": 1, \"15\": 1, \"9\": 1, \"0\": 1}, \"11\": {\"11\": 1197, \"12\": 3}, \"4\": {\"0\": 147, \"1\": 103, \"14\": 203, \"8\": 116, \"4\": 488, \"7\": 85, \"10\": 55, \"15\": 1, \"5\": 1, \"3\": 1}, \"6\": {\"6\": 827, \"0\": 17, \"9\": 184, \"10\": 84, \"8\": 43, \"15\": 38, \"14\": 1, \"5\": 2, \"13\": 3, \"4\": 1}, \"7\": {\"3\": 172, \"4\": 107, \"7\": 640, \"2\": 139, \"14\": 16, \"8\": 79, \"15\": 8, \"5\": 4, \"0\": 17, \"10\": 7, \"9\": 3, \"1\": 8}, \"14\": {\"14\": 409, \"0\": 204, \"4\": 212, \"1\": 213, \"8\": 36, \"10\": 119, \"7\": 7}, \"2\": {\"2\": 476, \"3\": 358, \"7\": 141, \"8\": 34, \"15\": 47, \"4\": 8, \"5\": 113, \"9\": 16, \"13\": 6, \"0\": 1}, \"5\": {\"5\": 754, \"15\": 138, \"13\": 155, \"9\": 44, \"8\": 36, \"7\": 10, \"2\": 55, \"3\": 5, \"10\": 1, \"6\": 2}, \"9\": {\"9\": 488, \"15\": 335, \"10\": 17, \"8\": 88, \"6\": 182, \"5\": 29, \"4\": 2, \"0\": 12, \"7\": 13, \"13\": 30, \"2\": 3, \"14\": 1}}, \"ORACLE.run120\": {\"5\": {\"1\": 178, \"5\": 528, \"0\": 191, \"12\": 110, \"15\": 126, \"3\": 46, \"9\": 5, \"2\": 5, \"4\": 7, \"13\": 3, \"8\": 1}, \"15\": {\"1\": 217, \"15\": 724, \"0\": 75, \"5\": 108, \"13\": 50, \"12\": 22, \"9\": 2, \"2\": 2}, \"9\": {\"9\": 507, \"2\": 315, \"7\": 44, \"3\": 206, \"13\": 7, \"12\": 96, \"1\": 18, \"8\": 1, \"5\": 2, \"4\": 3, \"15\": 1}, \"7\": {\"7\": 868, \"9\": 51, \"2\": 142, \"3\": 29, \"8\": 79, \"14\": 1, \"12\": 7, \"6\": 14, \"4\": 5, \"13\": 2, \"10\": 2}, \"3\": {\"3\": 453, \"12\": 246, \"9\": 210, \"5\": 38, \"1\": 32, \"2\": 75, \"4\": 71, \"7\": 46, \"8\": 18, \"15\": 3, \"0\": 5, \"10\": 3}, \"8\": {\"8\": 928, \"3\": 10, \"10\": 7, \"6\": 13, \"4\": 126, \"14\": 34, \"7\": 76, \"12\": 1, \"5\": 2, \"9\": 2, \"2\": 1}, \"4\": {\"4\": 945, \"8\": 125, \"3\": 79, \"10\": 26, \"12\": 14, \"5\": 2, \"9\": 2, \"0\": 3, \"14\": 3, \"7\": 1}, \"6\": {\"6\": 1023, \"14\": 149, \"8\": 6, \"7\": 19, \"10\": 3}, \"2\": {\"2\": 590, \"7\": 148, \"1\": 11, \"3\": 83, \"12\": 54, \"9\": 255, \"13\": 49, \"15\": 4, \"5\": 3, \"8\": 1, \"4\": 1, \"11\": 1}, \"12\": {\"12\": 464, \"2\": 39, \"3\": 229, \"5\": 109, \"1\": 186, \"9\": 124, \"15\": 24, \"7\": 4, \"4\": 8, \"8\": 1, \"13\": 3, \"0\": 9}, \"0\": {\"0\": 727, \"15\": 120, \"5\": 285, \"12\": 15, \"1\": 19, \"13\": 7, \"9\": 2, \"2\": 4, \"8\": 8, \"4\": 4, \"3\": 7, \"7\": 2}, \"13\": {\"13\": 1117, \"9\": 8, \"15\": 18, \"2\": 48, \"7\": 1, \"5\": 2, \"0\": 2, \"1\": 2, \"12\": 2}, \"10\": {\"10\": 1095, \"4\": 17, \"14\": 70, \"3\": 3, \"6\": 1, \"8\": 11, \"7\": 2, \"9\": 1}, \"11\": {\"11\": 1198, \"7\": 1, \"6\": 1}, \"14\": {\"14\": 977, \"10\": 73, \"6\": 118, \"8\": 31, \"7\": 1}, \"1\": {\"12\": 191, \"1\": 564, \"13\": 4, \"5\": 157, \"15\": 204, \"3\": 31, \"9\": 25, \"2\": 9, \"0\": 15}}, \"ORACLE.run150\": {\"1\": {\"1\": 795, \"4\": 101, \"6\": 81, \"15\": 207, \"5\": 9, \"13\": 2, \"11\": 3, \"14\": 2}, \"2\": {\"2\": 1120, \"0\": 80}, \"8\": {\"8\": 1172, \"3\": 8, \"10\": 20}, \"7\": {\"7\": 771, \"5\": 140, \"13\": 237, \"4\": 13, \"6\": 9, \"10\": 30}, \"14\": {\"14\": 1186, \"12\": 11, \"1\": 1, \"11\": 2}, \"6\": {\"13\": 66, \"6\": 897, \"1\": 70, \"5\": 38, \"15\": 32, \"4\": 85, \"7\": 11, \"0\": 1}, \"3\": {\"3\": 1172, \"8\": 28}, \"4\": {\"4\": 626, \"1\": 152, \"5\": 117, \"7\": 34, \"15\": 163, \"6\": 86, \"13\": 21, \"11\": 1}, \"12\": {\"12\": 1105, \"9\": 61, \"14\": 30, \"11\": 4}, \"15\": {\"15\": 887, \"1\": 170, \"4\": 99, \"11\": 27, \"6\": 17}, \"11\": {\"11\": 1084, \"9\": 75, \"15\": 24, \"1\": 4, \"14\": 9, \"12\": 4}, \"0\": {\"2\": 124, \"0\": 1028, \"10\": 44, \"5\": 2, \"13\": 1, \"1\": 1}, \"9\": {\"12\": 70, \"9\": 961, \"11\": 167, \"14\": 1, \"15\": 1}, \"10\": {\"10\": 1106, \"0\": 45, \"7\": 18, \"8\": 16, \"13\": 13, \"5\": 2}, \"5\": {\"7\": 224, \"6\": 62, \"5\": 526, \"4\": 149, \"1\": 47, \"13\": 183, \"15\": 2, \"10\": 7}, \"13\": {\"6\": 65, \"13\": 848, \"7\": 152, \"5\": 119, \"1\": 3, \"4\": 6, \"10\": 7}}, \"ORACLE.run132\": {\"2\": {\"2\": 982, \"4\": 186, \"0\": 17, \"14\": 1, \"7\": 13, \"5\": 1}, \"6\": {\"6\": 1200}, \"5\": {\"8\": 111, \"7\": 163, \"2\": 11, \"4\": 113, \"5\": 445, \"13\": 249, \"3\": 44, \"11\": 8, \"0\": 35, \"14\": 21}, \"12\": {\"12\": 1200}, \"13\": {\"13\": 612, \"11\": 20, \"8\": 69, \"4\": 90, \"14\": 20, \"5\": 197, \"7\": 96, \"3\": 79, \"0\": 16, \"2\": 1}, \"9\": {\"9\": 1196, \"12\": 3, \"2\": 1}, \"11\": {\"11\": 991, \"14\": 154, \"3\": 15, \"5\": 4, \"13\": 14, \"7\": 21, \"0\": 1}, \"1\": {\"1\": 1194, \"10\": 6}, \"3\": {\"3\": 1117, \"13\": 42, \"11\": 14, \"14\": 9, \"8\": 4, \"7\": 1, \"5\": 13}, \"7\": {\"13\": 98, \"4\": 136, \"14\": 145, \"7\": 579, \"11\": 24, \"8\": 5, \"0\": 21, \"2\": 44, \"5\": 146, \"3\": 2}, \"14\": {\"7\": 204, \"14\": 572, \"0\": 66, \"11\": 257, \"13\": 43, \"5\": 22, \"8\": 9, \"3\": 7, \"4\": 7, \"2\": 13}, \"8\": {\"8\": 897, \"0\": 131, \"13\": 77, \"5\": 67, \"3\": 13, \"4\": 11, \"7\": 2, \"15\": 2}, \"4\": {\"4\": 735, \"2\": 175, \"5\": 94, \"7\": 100, \"13\": 53, \"0\": 35, \"8\": 5, \"14\": 3}, \"0\": {\"0\": 897, \"8\": 119, \"2\": 38, \"5\": 38, \"4\": 52, \"13\": 9, \"7\": 27, \"14\": 20}, \"10\": {\"10\": 1198, \"1\": 2}, \"15\": {\"15\": 1188, \"8\": 8, \"3\": 4}}, \"ORACLE.run144\": {\"13\": {\"13\": 797, \"11\": 36, \"9\": 127, \"6\": 226, \"7\": 7, \"4\": 7}, \"4\": {\"4\": 854, \"14\": 326, \"15\": 15, \"13\": 3, \"9\": 2}, \"6\": {\"7\": 37, \"6\": 822, \"13\": 207, \"9\": 126, \"11\": 8}, \"0\": {\"0\": 742, \"8\": 309, \"5\": 88, \"15\": 61}, \"10\": {\"10\": 894, \"1\": 119, \"12\": 98, \"2\": 88, \"3\": 1}, \"7\": {\"7\": 760, \"6\": 36, \"9\": 231, \"2\": 169, \"1\": 1, \"3\": 1, \"13\": 2}, \"14\": {\"14\": 773, \"4\": 352, \"15\": 62, \"5\": 13}, \"15\": {\"15\": 946, \"0\": 85, \"14\": 91, \"5\": 40, \"8\": 21, \"4\": 17}, \"5\": {\"5\": 1049, \"8\": 5, \"0\": 69, \"14\": 49, \"15\": 26, \"4\": 2}, \"2\": {\"2\": 880, \"7\": 164, \"1\": 62, \"10\": 87, \"3\": 3, \"9\": 4}, \"9\": {\"9\": 690, \"6\": 121, \"13\": 121, \"7\": 255, \"4\": 1, \"2\": 11, \"11\": 1}, \"12\": {\"1\": 165, \"12\": 978, \"10\": 39, \"3\": 18}, \"8\": {\"8\": 747, \"0\": 409, \"5\": 17, \"15\": 27}, \"3\": {\"3\": 1041, \"1\": 130, \"12\": 25, \"2\": 2, \"10\": 1, \"7\": 1}, \"1\": {\"3\": 149, \"1\": 685, \"10\": 103, \"12\": 212, \"7\": 4, \"2\": 47}, \"11\": {\"11\": 1119, \"13\": 64, \"6\": 17}}, \"ORACLE.run114\": {\"1\": {\"1\": 1093, \"5\": 95, \"4\": 10, \"2\": 1, \"7\": 1}, \"15\": {\"15\": 1168, \"7\": 31, \"5\": 1}, \"10\": {\"10\": 1164, \"0\": 33, \"3\": 1, \"6\": 1, \"14\": 1}, \"2\": {\"2\": 608, \"5\": 129, \"14\": 164, \"4\": 71, \"13\": 69, \"6\": 68, \"3\": 65, \"15\": 25, \"1\": 1}, \"9\": {\"9\": 1194, \"11\": 1, \"12\": 5}, \"5\": {\"5\": 819, \"3\": 17, \"4\": 165, \"1\": 131, \"2\": 52, \"7\": 11, \"15\": 5}, \"7\": {\"7\": 1181, \"15\": 7, \"5\": 3, \"1\": 9}, \"13\": {\"14\": 169, \"6\": 490, \"13\": 413, \"2\": 102, \"5\": 13, \"10\": 5, \"4\": 6, \"15\": 2}, \"8\": {\"8\": 1200}, \"6\": {\"6\": 719, \"13\": 380, \"14\": 52, \"2\": 48, \"4\": 1}, \"3\": {\"3\": 1007, \"4\": 112, \"2\": 33, \"14\": 35, \"5\": 6, \"13\": 1, \"0\": 6}, \"12\": {\"12\": 1194, \"9\": 6}, \"0\": {\"0\": 1094, \"10\": 47, \"11\": 30, \"3\": 28, \"14\": 1}, \"4\": {\"4\": 881, \"3\": 98, \"5\": 147, \"1\": 13, \"2\": 52, \"14\": 6, \"13\": 2, \"6\": 1}, \"14\": {\"14\": 973, \"13\": 96, \"3\": 31, \"2\": 69, \"6\": 27, \"4\": 2, \"0\": 1, \"10\": 1}, \"11\": {\"11\": 1083, \"9\": 59, \"0\": 58}}, \"Wisig_2\": {\"56\": {\"56\": 12}, \"12\": {\"12\": 61, \"114\": 2, \"11\": 2, \"29\": 2, \"88\": 1, \"111\": 1, \"8\": 2, \"71\": 2, \"98\": 3, \"68\": 2, \"77\": 2, \"34\": 2, \"78\": 1, \"127\": 3, \"109\": 1, \"70\": 1}, \"15\": {\"15\": 92, \"26\": 1, \"127\": 4, \"111\": 2, \"94\": 4, \"106\": 7, \"44\": 1, \"0\": 2, \"70\": 1, \"101\": 1, \"117\": 1}, \"26\": {\"117\": 2, \"26\": 104, \"102\": 6, \"69\": 10, \"18\": 6, \"24\": 2, \"21\": 1, \"84\": 1}, \"82\": {\"82\": 36}, \"9\": {\"9\": 32}, \"49\": {\"12\": 2, \"122\": 2, \"97\": 1, \"3\": 1, \"49\": 1, \"70\": 1, \"29\": 2, \"58\": 1, \"86\": 1, \"128\": 2, \"44\": 1, \"110\": 1, \"73\": 2, \"98\": 1, \"28\": 1, \"71\": 1, \"42\": 1, \"85\": 2}, \"55\": {\"82\": 4, \"55\": 12}, \"102\": {\"102\": 123, \"48\": 1}, \"85\": {\"85\": 23, \"32\": 2, \"5\": 3, \"3\": 3, \"71\": 1}, \"73\": {\"73\": 28}, \"47\": {\"47\": 7, \"15\": 1, \"19\": 1, \"94\": 1, \"85\": 1, \"60\": 1}, \"20\": {\"20\": 13, \"65\": 2, \"88\": 1}, \"117\": {\"117\": 104, \"92\": 2, \"113\": 3, \"87\": 1, \"39\": 2, \"21\": 2, \"90\": 2}, \"122\": {\"122\": 65, \"87\": 1, \"53\": 1, \"20\": 1, \"71\": 10, \"19\": 1, \"129\": 1, \"117\": 1, \"32\": 1, \"5\": 12, \"12\": 1, \"110\": 2, \"98\": 3, \"114\": 8, \"7\": 5, \"124\": 6, \"8\": 1, \"3\": 2, \"43\": 1, \"70\": 2, \"86\": 1, \"34\": 2, \"29\": 1, \"54\": 1, \"85\": 1, \"11\": 3, \"10\": 1, \"39\": 1, \"27\": 2, \"1\": 1, \"0\": 1}, \"113\": {\"113\": 59, \"2\": 2, \"39\": 2, \"18\": 2, \"90\": 1, \"72\": 2, \"69\": 2, \"60\": 1, \"117\": 1}, \"87\": {\"21\": 2, \"60\": 1, \"87\": 41, \"33\": 10, \"23\": 1, \"83\": 1, \"84\": 5, \"118\": 9, \"16\": 4, \"102\": 5, \"62\": 2, \"90\": 7, \"71\": 1, \"69\": 2, \"93\": 6, \"43\": 1, \"88\": 1, \"70\": 2, \"116\": 2, \"44\": 1, \"13\": 2, \"119\": 1, \"109\": 4, \"24\": 1}, \"21\": {\"21\": 37, \"109\": 1, \"88\": 2, \"78\": 1, \"87\": 2, \"24\": 1, \"43\": 1, \"117\": 1, \"84\": 2}, \"106\": {\"106\": 103, \"52\": 1, \"97\": 1, \"15\": 2, \"12\": 1, \"6\": 2, \"0\": 1, \"27\": 1, \"29\": 2, \"94\": 2, \"21\": 1, \"30\": 2, \"70\": 1}, \"3\": {\"3\": 116, \"73\": 1, \"107\": 3, \"88\": 1, \"71\": 1, \"1\": 1, \"40\": 1, \"114\": 2, \"7\": 1, \"5\": 4, \"110\": 1, \"39\": 2, \"124\": 2}, \"126\": {\"126\": 115, \"100\": 2, \"88\": 1, \"119\": 1, \"16\": 1}, \"41\": {\"41\": 17, \"90\": 1, \"91\": 2}, \"76\": {\"76\": 12, \"116\": 2, \"37\": 1, \"33\": 1}, \"60\": {\"60\": 17, \"84\": 2, \"14\": 2, \"46\": 1, \"83\": 1, \"118\": 2, \"78\": 1, \"62\": 1, \"44\": 1}, \"94\": {\"94\": 33, \"88\": 1, \"18\": 1, \"108\": 3, \"101\": 2, \"52\": 1, \"20\": 1, \"127\": 2, \"107\": 1, \"15\": 6, \"0\": 2, \"24\": 1, \"25\": 1, \"126\": 2, \"8\": 2, \"106\": 1, \"36\": 1, \"27\": 1, \"12\": 2}, \"50\": {\"50\": 16}, \"97\": {\"97\": 20}, \"115\": {\"115\": 10, \"105\": 2}, \"38\": {\"38\": 16}, \"43\": {\"38\": 1, \"43\": 58, \"70\": 5, \"20\": 1, \"55\": 1, \"40\": 8, \"44\": 3, \"78\": 3, \"106\": 1, \"1\": 13, \"33\": 2, \"105\": 14, \"113\": 2, \"5\": 1, \"64\": 3, \"50\": 1, \"83\": 1, \"62\": 1, \"3\": 2, \"87\": 2, \"109\": 1}, \"67\": {\"67\": 12, \"76\": 2, \"50\": 2}, \"18\": {\"18\": 89, \"65\": 2, \"26\": 9, \"113\": 3, \"117\": 5, \"39\": 3, \"69\": 8, \"2\": 2, \"87\": 2, \"27\": 1, \"4\": 1, \"94\": 1, \"102\": 1, \"126\": 1}, \"23\": {\"127\": 1, \"18\": 1, \"23\": 11, \"48\": 1, \"121\": 2, \"71\": 5, \"122\": 3, \"117\": 2, \"12\": 1, \"81\": 1, \"72\": 1, \"34\": 1, \"124\": 2, \"29\": 2, \"69\": 1, \"19\": 1, \"41\": 2, \"20\": 1, \"107\": 1, \"98\": 1, \"39\": 1, \"113\": 1, \"11\": 1}, \"63\": {\"63\": 20}, \"127\": {\"127\": 102, \"98\": 11, \"126\": 1, \"124\": 1, \"30\": 1, \"39\": 1, \"91\": 1, \"113\": 1, \"122\": 2, \"12\": 1, \"26\": 1, \"125\": 1}, \"72\": {\"72\": 22, \"26\": 2, \"33\": 1, \"121\": 1, \"77\": 1, \"111\": 1}, \"128\": {\"108\": 2, \"3\": 4, \"128\": 6, \"101\": 1, \"53\": 1, \"52\": 1, \"24\": 1, \"107\": 1, \"79\": 2, \"5\": 1, \"71\": 1, \"42\": 1, \"85\": 1, \"47\": 1}, \"7\": {\"7\": 118, \"88\": 2, \"71\": 1, \"4\": 2, \"114\": 2, \"28\": 1, \"26\": 1, \"18\": 1}, \"108\": {\"108\": 98, \"8\": 13, \"112\": 1, \"12\": 3, \"124\": 3, \"107\": 3, \"30\": 2, \"109\": 1, \"11\": 6, \"14\": 1, \"70\": 1, \"111\": 1, \"27\": 1}, \"16\": {\"16\": 82, \"23\": 1, \"109\": 1, \"39\": 2, \"117\": 2, \"87\": 7, \"93\": 10, \"5\": 1, \"65\": 1, \"96\": 1, \"31\": 1, \"83\": 2, \"77\": 1, \"21\": 1, \"70\": 1}, \"29\": {\"29\": 32}, \"61\": {\"61\": 17, \"73\": 2, \"126\": 1}, \"104\": {\"104\": 18, \"95\": 2}, \"120\": {\"120\": 17, \"81\": 2, \"65\": 1}, \"124\": {\"124\": 120, \"102\": 1, \"11\": 2, \"122\": 1}, \"34\": {\"104\": 2, \"85\": 1, \"34\": 8, \"53\": 1, \"54\": 1, \"110\": 1, \"114\": 3, \"68\": 1, \"124\": 3, \"122\": 3, \"41\": 2, \"29\": 2, \"91\": 1, \"23\": 1, \"19\": 1, \"32\": 1}, \"84\": {\"84\": 55, \"9\": 1, \"48\": 2, \"62\": 5, \"33\": 14, \"118\": 2, \"11\": 1, \"87\": 2, \"109\": 1, \"30\": 1, \"23\": 2, \"126\": 1, \"92\": 1, \"116\": 1, \"70\": 2, \"101\": 1}, \"103\": {\"103\": 15, \"98\": 1}, \"100\": {\"100\": 16}, \"40\": {\"115\": 2, \"40\": 108, \"105\": 12, \"11\": 1, \"33\": 1, \"21\": 1, \"4\": 2, \"113\": 1, \"43\": 2, \"109\": 1, \"55\": 2, \"16\": 1, \"117\": 2, \"39\": 1, \"7\": 2, \"24\": 1}, \"35\": {\"35\": 10, \"77\": 1, \"127\": 1}, \"96\": {\"96\": 20}, \"101\": {\"101\": 107, \"36\": 2, \"30\": 1, \"3\": 1, \"8\": 2, \"94\": 2, \"108\": 1, \"69\": 1, \"44\": 1, \"0\": 2}, \"71\": {\"34\": 2, \"71\": 75, \"122\": 3, \"5\": 6, \"87\": 1, \"107\": 1, \"84\": 1, \"4\": 1, \"0\": 3, \"86\": 1, \"3\": 2, \"19\": 1, \"114\": 1, \"105\": 1, \"1\": 1}, \"81\": {\"81\": 19, \"90\": 1, \"121\": 2, \"102\": 1, \"51\": 1}, \"74\": {\"115\": 4, \"27\": 1, \"74\": 6, \"50\": 2, \"128\": 1, \"4\": 2}, \"119\": {\"119\": 20}, \"5\": {\"5\": 100, \"17\": 1, \"109\": 1, \"18\": 1, \"3\": 2, \"85\": 1, \"29\": 1, \"126\": 1, \"71\": 1, \"4\": 1, \"40\": 2}, \"68\": {\"68\": 10, \"114\": 2, \"91\": 1, \"127\": 2, \"71\": 1}, \"37\": {\"74\": 1, \"37\": 13, \"64\": 2}, \"58\": {\"58\": 18, \"111\": 2}, \"109\": {\"74\": 1, \"109\": 59, \"13\": 1, \"78\": 1, \"2\": 2, \"39\": 5, \"88\": 6, \"18\": 1, \"87\": 4, \"69\": 1, \"90\": 2, \"93\": 6, \"126\": 2, \"70\": 1, \"118\": 1, \"16\": 4, \"62\": 1, \"102\": 1, \"26\": 1}, \"107\": {\"5\": 8, \"107\": 35, \"125\": 1, \"28\": 4, \"36\": 1, \"42\": 1, \"110\": 4, \"4\": 1, \"0\": 1, \"3\": 4, \"106\": 1, \"53\": 1, \"115\": 2}, \"13\": {\"119\": 2, \"72\": 2, \"94\": 1, \"13\": 7, \"9\": 1, \"82\": 2, \"87\": 1}, \"52\": {\"52\": 18, \"94\": 1, \"34\": 1}, \"77\": {\"35\": 1, \"77\": 10, \"79\": 2, \"33\": 1, \"91\": 2}, \"95\": {\"95\": 28, \"78\": 1, \"104\": 3, \"107\": 1, \"61\": 1, \"55\": 1, \"4\": 1}, \"44\": {\"44\": 95, \"46\": 2, \"70\": 1, \"23\": 2}, \"88\": {\"126\": 8, \"44\": 3, \"88\": 62, \"93\": 20, \"70\": 9, \"83\": 3, \"16\": 4, \"109\": 6, \"69\": 1, \"47\": 1, \"84\": 3, \"39\": 2}, \"91\": {\"91\": 24, \"127\": 1, \"29\": 2, \"126\": 1}, \"93\": {\"93\": 124, \"16\": 4, \"21\": 1, \"87\": 4, \"39\": 2, \"117\": 1, \"70\": 2}, \"8\": {\"108\": 19, \"8\": 91, \"12\": 2, \"40\": 1, \"0\": 1, \"1\": 1, \"18\": 1, \"127\": 2, \"126\": 2, \"44\": 1, \"109\": 1, \"124\": 2}, \"1\": {\"1\": 99, \"24\": 1, \"43\": 6, \"62\": 5, \"40\": 1, \"111\": 1, \"117\": 1}, \"45\": {\"45\": 12, \"21\": 1, \"14\": 2, \"102\": 1}, \"111\": {\"111\": 112, \"79\": 2, \"62\": 1, \"98\": 2, \"127\": 6, \"21\": 1, \"8\": 2}, \"116\": {\"38\": 1, \"23\": 1, \"116\": 19, \"90\": 1, \"119\": 1, \"80\": 2, \"33\": 1, \"84\": 1, \"48\": 1}, \"48\": {\"48\": 20}, \"57\": {\"57\": 18, \"78\": 1, \"88\": 1}, \"10\": {\"129\": 1, \"10\": 27, \"3\": 1, \"37\": 1, \"66\": 2, \"4\": 5, \"107\": 1, \"123\": 1, \"95\": 2, \"12\": 1, \"7\": 5, \"71\": 2, \"122\": 1, \"32\": 1, \"110\": 3, \"115\": 1, \"28\": 1, \"5\": 1, \"26\": 1, \"98\": 1, \"11\": 1}, \"129\": {\"129\": 28, \"19\": 1, \"73\": 3}, \"98\": {\"98\": 95, \"127\": 5, \"26\": 1, \"114\": 2, \"12\": 4, \"18\": 1, \"111\": 2, \"49\": 1, \"122\": 2, \"39\": 1, \"30\": 2, \"124\": 2}, \"65\": {\"65\": 18, \"81\": 2}, \"6\": {\"9\": 3, \"75\": 1, \"101\": 2, \"6\": 9, \"0\": 2, \"125\": 5, \"94\": 3, \"106\": 3, \"25\": 1, \"30\": 1, \"103\": 2}, \"75\": {\"75\": 13, \"126\": 1, \"111\": 2}, \"14\": {\"14\": 36, \"70\": 1, \"23\": 1, \"43\": 1, \"1\": 2, \"87\": 1, \"37\": 2, \"82\": 2, \"3\": 1, \"0\": 1}, \"30\": {\"97\": 2, \"51\": 3, \"30\": 59, \"106\": 13, \"103\": 2, \"44\": 1, \"15\": 2, \"12\": 3, \"0\": 2, \"88\": 1, \"108\": 3, \"126\": 1, \"8\": 4, \"70\": 2, \"24\": 1, \"127\": 3, \"59\": 2, \"52\": 1, \"128\": 1, \"11\": 1, \"39\": 1, \"111\": 4}, \"83\": {\"83\": 39, \"109\": 1}, \"69\": {\"69\": 116, \"18\": 1, \"90\": 5, \"109\": 1, \"7\": 1, \"72\": 2, \"117\": 1, \"88\": 1}, \"125\": {\"125\": 139, \"106\": 2, \"114\": 4, \"16\": 1}, \"31\": {\"31\": 11, \"90\": 2, \"102\": 3, \"82\": 2, \"72\": 1, \"48\": 1}, \"118\": {\"87\": 4, \"80\": 1, \"118\": 49, \"84\": 7, \"33\": 2, \"90\": 4, \"43\": 1}, \"53\": {\"53\": 13, \"49\": 1, \"85\": 1, \"122\": 1}, \"54\": {\"54\": 20}, \"92\": {\"92\": 27, \"55\": 1}, \"19\": {\"128\": 2, \"19\": 15, \"53\": 2, \"85\": 1, \"122\": 1, \"14\": 1, \"32\": 1, \"124\": 1, \"114\": 2, \"70\": 1, \"43\": 1}, \"27\": {\"27\": 29, \"15\": 3, \"94\": 6, \"25\": 3, \"24\": 4, \"36\": 10, \"101\": 2, \"30\": 1, \"88\": 1, \"106\": 2, \"59\": 1, \"77\": 1, \"120\": 1, \"11\": 1, \"70\": 2, \"0\": 1}, \"17\": {\"17\": 8, \"21\": 1, \"59\": 1, \"91\": 2, \"95\": 2, \"54\": 2}, \"4\": {\"4\": 80, \"71\": 2, \"7\": 3, \"16\": 1, \"122\": 2}, \"36\": {\"94\": 2, \"36\": 100, \"101\": 8, \"15\": 4, \"27\": 4, \"126\": 1, \"102\": 1, \"58\": 1, \"18\": 1, \"24\": 3, \"70\": 1, \"0\": 1, \"43\": 1}, \"90\": {\"90\": 131, \"33\": 1, \"2\": 1, \"102\": 1, \"69\": 2}, \"64\": {\"64\": 13, \"76\": 2, \"24\": 1}, \"66\": {\"66\": 20}, \"46\": {\"46\": 14, \"16\": 1, \"24\": 1}, \"86\": {\"86\": 32}, \"114\": {\"114\": 91, \"128\": 1, \"34\": 3, \"71\": 7, \"117\": 1, \"122\": 2, \"98\": 2, \"127\": 2, \"126\": 1}, \"32\": {\"74\": 1, \"32\": 7, \"129\": 4, \"85\": 1, \"53\": 1, \"40\": 4, \"75\": 1, \"95\": 2, \"7\": 1, \"0\": 1, \"107\": 3, \"67\": 2, \"115\": 2, \"64\": 1, \"41\": 1, \"19\": 1, \"5\": 1, \"3\": 1, \"101\": 1}, \"78\": {\"44\": 2, \"3\": 1, \"32\": 1, \"78\": 16, \"14\": 4, \"40\": 6, \"109\": 4, \"87\": 1, \"1\": 3, \"76\": 1, \"37\": 1, \"10\": 1, \"21\": 1, \"19\": 1, \"93\": 1, \"70\": 1, \"88\": 1, \"43\": 1, \"62\": 1}, \"33\": {\"33\": 117, \"84\": 10, \"102\": 1, \"87\": 2, \"126\": 1, \"23\": 1, \"90\": 3, \"62\": 3}, \"70\": {\"43\": 8, \"109\": 3, \"70\": 52, \"90\": 2, \"14\": 2, \"78\": 3, \"1\": 10, \"87\": 3, \"88\": 9, \"18\": 1, \"10\": 2, \"71\": 1, \"44\": 3, \"33\": 4, \"126\": 2, \"24\": 1, \"3\": 2, \"93\": 3, \"62\": 3, \"76\": 1, \"74\": 1, \"60\": 2, \"5\": 1, \"84\": 2, \"117\": 2, \"16\": 1}, \"0\": {\"0\": 91, \"24\": 1, \"101\": 7, \"30\": 3, \"108\": 1, \"117\": 1, \"36\": 1, \"26\": 1, \"15\": 4, \"69\": 2, \"8\": 2, \"126\": 1, \"39\": 1}, \"110\": {\"110\": 29, \"122\": 2, \"28\": 2, \"70\": 1, \"75\": 1, \"3\": 1, \"53\": 2, \"85\": 1, \"5\": 1}, \"2\": {\"69\": 2, \"113\": 3, \"2\": 14, \"26\": 2, \"117\": 1, \"16\": 1, \"39\": 3, \"121\": 2, \"12\": 1, \"81\": 1, \"120\": 2}, \"28\": {\"28\": 16, \"118\": 1, \"32\": 1, \"86\": 1, \"60\": 1}, \"51\": {\"51\": 19, \"91\": 1}, \"79\": {\"79\": 16}, \"42\": {\"19\": 1, \"97\": 2, \"42\": 9, \"15\": 2, \"29\": 1, \"70\": 1, \"30\": 3, \"12\": 1, \"10\": 1, \"107\": 1, \"35\": 1, \"85\": 2, \"128\": 1, \"60\": 1, \"108\": 1}, \"112\": {\"112\": 13, \"5\": 1, \"124\": 1, \"49\": 1}, \"89\": {\"89\": 31, \"92\": 2, \"102\": 1, \"90\": 2}, \"59\": {\"98\": 2, \"59\": 7, \"54\": 3, \"12\": 2, \"79\": 1, \"91\": 1}, \"105\": {\"105\": 105, \"40\": 16, \"26\": 1, \"62\": 1, \"86\": 1, \"38\": 1, \"43\": 1, \"107\": 2}, \"121\": {\"121\": 25, \"81\": 4, \"113\": 2, \"36\": 1, \"23\": 1, \"65\": 1, \"117\": 2}, \"11\": {\"11\": 59, \"124\": 6, \"23\": 1, \"93\": 1, \"101\": 1, \"8\": 3, \"108\": 4, \"49\": 1, \"126\": 1, \"88\": 1, \"19\": 1, \"18\": 1}, \"99\": {\"99\": 30, \"28\": 1, \"33\": 1}, \"25\": {\"25\": 16}, \"62\": {\"62\": 107, \"20\": 1, \"67\": 1, \"22\": 1, \"80\": 1, \"87\": 2, \"33\": 5, \"84\": 2, \"113\": 1, \"78\": 3, \"24\": 2, \"126\": 1, \"90\": 1}, \"123\": {\"123\": 16}, \"24\": {\"24\": 59, \"36\": 4, \"15\": 4, \"12\": 1, \"87\": 1, \"0\": 7, \"106\": 1, \"11\": 2, \"108\": 5, \"30\": 2, \"101\": 10, \"114\": 1, \"111\": 2, \"9\": 2, \"94\": 3, \"42\": 2, \"126\": 2, \"8\": 2, \"88\": 1, \"109\": 1}, \"80\": {\"80\": 16}, \"39\": {\"26\": 8, \"99\": 1, \"109\": 4, \"39\": 54, \"102\": 5, \"88\": 7, \"69\": 3, \"126\": 1, \"93\": 6, \"90\": 2, \"18\": 5, \"24\": 1, \"16\": 2, \"72\": 1}, \"22\": {\"22\": 16, \"33\": 2, \"76\": 1, \"126\": 1}}, \"Wisig_4\": {\"32\": {\"32\": 16, \"22\": 1, \"33\": 3, \"69\": 1, \"71\": 1, \"72\": 2, \"74\": 1, \"11\": 1, \"118\": 1, \"60\": 1}, \"22\": {\"22\": 13, \"40\": 2, \"54\": 1}, \"69\": {\"69\": 106, \"23\": 1, \"36\": 2, \"13\": 1, \"113\": 1, \"84\": 2, \"44\": 2, \"70\": 1, \"126\": 1, \"24\": 1, \"16\": 2}, \"65\": {\"65\": 11, \"81\": 1}, \"91\": {\"127\": 1, \"91\": 18, \"68\": 1, \"0\": 1, \"103\": 1, \"42\": 1, \"111\": 1}, \"63\": {\"63\": 16}, \"127\": {\"65\": 1, \"127\": 85, \"95\": 1, \"52\": 1, \"128\": 2, \"12\": 4, \"106\": 2, \"98\": 2, \"103\": 2, \"29\": 1, \"16\": 1, \"41\": 1, \"86\": 2, \"124\": 2, \"18\": 1}, \"11\": {\"3\": 13, \"11\": 99, \"36\": 1, \"126\": 2, \"81\": 1, \"14\": 4, \"5\": 2, \"93\": 1, \"28\": 2, \"49\": 1, \"1\": 2, \"43\": 2, \"60\": 1, \"129\": 1, \"71\": 1, \"72\": 1, \"39\": 1, \"87\": 2, \"122\": 1}, \"12\": {\"12\": 72, \"111\": 12, \"88\": 1, \"101\": 2, \"109\": 1, \"128\": 2, \"126\": 1, \"87\": 1, \"77\": 1, \"106\": 4, \"107\": 1, \"26\": 2}, \"111\": {\"12\": 10, \"111\": 95, \"52\": 1, \"124\": 2, \"125\": 1, \"106\": 4, \"101\": 4, \"127\": 2, \"15\": 2, \"70\": 2, \"26\": 1, \"68\": 2, \"91\": 1, \"126\": 1}, \"53\": {\"53\": 15, \"121\": 1}, \"73\": {\"73\": 17, \"51\": 1, \"124\": 2, \"20\": 1, \"10\": 1, \"5\": 2}, \"3\": {\"3\": 111, \"11\": 7, \"79\": 1, \"21\": 1, \"105\": 2, \"1\": 4, \"111\": 2, \"49\": 1, \"29\": 2, \"101\": 1, \"114\": 2, \"107\": 2}, \"83\": {\"83\": 26, \"90\": 1, \"46\": 1}, \"88\": {\"88\": 75, \"100\": 1, \"128\": 1, \"70\": 17, \"23\": 1, \"73\": 1, \"19\": 2, \"11\": 3, \"108\": 3, \"98\": 2, \"101\": 2, \"114\": 4, \"124\": 9, \"5\": 3, \"83\": 2, \"49\": 1, \"0\": 2, \"93\": 1}, \"87\": {\"87\": 85, \"115\": 1, \"104\": 1, \"76\": 2, \"89\": 3, \"82\": 1, \"72\": 1, \"108\": 1, \"105\": 6, \"40\": 6, \"107\": 6, \"1\": 1, \"14\": 1, \"7\": 7, \"11\": 5, \"64\": 2, \"3\": 2, \"99\": 1}, \"2\": {\"16\": 3, \"5\": 1, \"2\": 16, \"126\": 1, \"90\": 1, \"18\": 3, \"84\": 1, \"109\": 2}, \"86\": {\"86\": 26, \"4\": 1, \"105\": 1}, \"16\": {\"16\": 95, \"21\": 1, \"35\": 2, \"102\": 6, \"117\": 2, \"69\": 4, \"84\": 5, \"63\": 1, \"96\": 1, \"92\": 2, \"18\": 2, \"39\": 1}, \"21\": {\"88\": 3, \"10\": 1, \"21\": 28, \"123\": 2, \"1\": 1, \"127\": 1, \"62\": 1, \"26\": 1, \"51\": 1, \"87\": 1}, \"96\": {\"96\": 17, \"87\": 1, \"109\": 2}, \"100\": {\"100\": 20}, \"7\": {\"7\": 89, \"3\": 3, \"71\": 2, \"108\": 1, \"43\": 1, \"4\": 1, \"105\": 7, \"40\": 2, \"87\": 3, \"89\": 1, \"50\": 2, \"1\": 4, \"107\": 3, \"113\": 1}, \"75\": {\"75\": 14, \"47\": 1, \"54\": 1}, \"10\": {\"10\": 68, \"24\": 9, \"9\": 2, \"25\": 3, \"0\": 2, \"88\": 2, \"30\": 8, \"5\": 1, \"27\": 3, \"94\": 1, \"15\": 6, \"36\": 9, \"97\": 2, \"78\": 1, \"106\": 2, \"126\": 1, \"111\": 1, \"117\": 1, \"70\": 2}, \"43\": {\"11\": 1, \"43\": 61, \"5\": 4, \"110\": 6, \"126\": 3, \"113\": 1, \"109\": 3, \"33\": 8, \"108\": 1, \"60\": 1, \"40\": 8, \"3\": 2, \"107\": 3, \"14\": 7, \"45\": 2, \"19\": 1, \"66\": 1, \"7\": 1, \"72\": 2, \"99\": 2, \"105\": 1, \"102\": 1}, \"92\": {\"92\": 25, \"66\": 1, \"57\": 1, \"102\": 1}, \"62\": {\"62\": 36, \"33\": 3, \"44\": 4, \"113\": 1, \"102\": 1, \"88\": 1, \"107\": 2, \"57\": 1, \"84\": 1, \"92\": 2, \"69\": 6, \"118\": 2}, \"31\": {\"118\": 1, \"38\": 1, \"31\": 12, \"84\": 2}, \"0\": {\"0\": 71, \"12\": 9, \"70\": 2, \"8\": 6, \"127\": 1, \"124\": 2, \"111\": 3, \"98\": 4, \"101\": 12, \"52\": 1, \"100\": 1, \"113\": 1, \"122\": 1}, \"45\": {\"45\": 16}, \"85\": {\"85\": 23, \"4\": 1, \"71\": 1, \"54\": 1, \"95\": 2}, \"119\": {\"119\": 16}, \"46\": {\"46\": 20}, \"71\": {\"71\": 71, \"114\": 12, \"83\": 2, \"129\": 1, \"105\": 1, \"4\": 7, \"89\": 1, \"5\": 1, \"124\": 1, \"1\": 2, \"55\": 2, \"18\": 1, \"110\": 1, \"109\": 1}, \"8\": {\"8\": 105, \"12\": 3, \"101\": 7, \"0\": 5, \"98\": 2, \"10\": 2, \"15\": 2, \"113\": 1, \"126\": 2, \"106\": 4, \"27\": 1}, \"118\": {\"118\": 81, \"31\": 1, \"96\": 1, \"99\": 1, \"122\": 3, \"62\": 3, \"33\": 3, \"90\": 6, \"39\": 1, \"69\": 6, \"102\": 1, \"38\": 1, \"36\": 1, \"0\": 1, \"16\": 1, \"117\": 1}, \"1\": {\"1\": 82, \"14\": 2, \"104\": 1, \"12\": 2, \"79\": 1, \"109\": 1, \"94\": 1, \"105\": 2, \"126\": 2, \"3\": 8, \"87\": 2, \"21\": 1, \"71\": 1, \"108\": 1, \"111\": 1}, \"38\": {\"38\": 13, \"57\": 2, \"93\": 1}, \"30\": {\"9\": 2, \"30\": 43, \"15\": 5, \"108\": 1, \"36\": 2, \"24\": 4, \"10\": 7, \"8\": 2, \"6\": 1, \"69\": 1, \"21\": 1, \"109\": 1, \"121\": 1, \"5\": 1, \"94\": 4}, \"66\": {\"66\": 14, \"90\": 2}, \"9\": {\"9\": 24, \"15\": 2, \"53\": 2}, \"5\": {\"5\": 119, \"43\": 2, \"33\": 1, \"93\": 2, \"110\": 7, \"113\": 1, \"14\": 1, \"11\": 2, \"3\": 1}, \"24\": {\"24\": 60, \"30\": 10, \"101\": 1, \"15\": 6, \"94\": 2, \"27\": 6, \"18\": 2, \"10\": 14, \"70\": 3, \"36\": 12, \"71\": 1, \"8\": 2, \"111\": 1}, \"97\": {\"115\": 1, \"24\": 1, \"27\": 2, \"97\": 13, \"25\": 3}, \"67\": {\"26\": 2, \"67\": 3, \"33\": 1, \"123\": 4, \"48\": 1, \"18\": 2, \"82\": 1, \"81\": 1, \"113\": 1}, \"19\": {\"97\": 2, \"110\": 4, \"27\": 1, \"19\": 7, \"98\": 1, \"0\": 2, \"70\": 3, \"108\": 1, \"91\": 1, \"8\": 2, \"20\": 2, \"53\": 1, \"44\": 1}, \"77\": {\"71\": 1, \"77\": 10, \"106\": 1}, \"26\": {\"26\": 95, \"121\": 2, \"61\": 1, \"117\": 12, \"18\": 6, \"81\": 1, \"93\": 1}, \"115\": {\"24\": 1, \"50\": 1, \"115\": 12, \"107\": 2}, \"50\": {\"50\": 14, \"14\": 2}, \"120\": {\"120\": 19, \"34\": 1}, \"102\": {\"102\": 108, \"57\": 1, \"90\": 7, \"14\": 1, \"84\": 6, \"13\": 2, \"44\": 1, \"16\": 2}, \"29\": {\"29\": 28, \"101\": 2, \"111\": 2}, \"44\": {\"44\": 49, \"113\": 2, \"122\": 2, \"118\": 3, \"90\": 3, \"26\": 1, \"66\": 1, \"33\": 2, \"13\": 1}, \"124\": {\"124\": 109, \"114\": 4, \"96\": 1, \"0\": 4}, \"78\": {\"78\": 8, \"102\": 1, \"21\": 2, \"36\": 1, \"113\": 2, \"99\": 3, \"93\": 2, \"82\": 1, \"84\": 1, \"3\": 1, \"111\": 1, \"26\": 1, \"14\": 1, \"33\": 1, \"88\": 2, \"60\": 1, \"43\": 2, \"120\": 1, \"50\": 2, \"83\": 1, \"87\": 1}, \"104\": {\"104\": 16}, \"105\": {\"107\": 6, \"104\": 1, \"105\": 77, \"40\": 2, \"128\": 1, \"0\": 1, \"110\": 1, \"72\": 1, \"78\": 1, \"7\": 4, \"101\": 2, \"87\": 2, \"113\": 1}, \"28\": {\"28\": 20}, \"37\": {\"37\": 15, \"95\": 1}, \"107\": {\"107\": 109, \"115\": 2, \"60\": 2, \"84\": 1, \"43\": 1, \"108\": 1, \"87\": 4, \"40\": 5, \"11\": 2, \"14\": 1, \"102\": 1, \"3\": 2, \"93\": 1}, \"6\": {\"6\": 12, \"75\": 2, \"25\": 1, \"91\": 2, \"101\": 1, \"98\": 1, \"68\": 1, \"24\": 1, \"12\": 2, \"111\": 1}, \"17\": {\"104\": 5, \"17\": 15}, \"57\": {\"57\": 9, \"102\": 2, \"90\": 2, \"13\": 1, \"33\": 2}, \"121\": {\"121\": 23, \"57\": 1, \"102\": 1, \"21\": 1, \"113\": 1, \"16\": 1, \"92\": 1, \"81\": 1, \"84\": 1, \"117\": 1}, \"58\": {\"58\": 12, \"91\": 2, \"15\": 2}, \"64\": {\"64\": 16}, \"82\": {\"82\": 28, \"40\": 2, \"87\": 2}, \"39\": {\"18\": 6, \"39\": 61, \"117\": 4, \"80\": 2, \"2\": 2, \"81\": 2, \"113\": 8, \"69\": 1, \"122\": 1, \"126\": 4, \"26\": 3, \"118\": 1, \"102\": 1, \"121\": 2, \"96\": 1, \"109\": 1}, \"110\": {\"110\": 100, \"129\": 1, \"96\": 1, \"26\": 1, \"5\": 4, \"122\": 1, \"16\": 1, \"33\": 1, \"93\": 2, \"14\": 1, \"108\": 1, \"21\": 1, \"9\": 1, \"43\": 2, \"0\": 1, \"24\": 1, \"126\": 1, \"11\": 1, \"109\": 1, \"88\": 1}, \"114\": {\"114\": 93, \"120\": 2, \"71\": 13, \"11\": 1, \"4\": 4, \"124\": 4, \"98\": 2, \"5\": 1, \"125\": 1, \"128\": 1, \"83\": 1, \"1\": 1, \"39\": 1, \"3\": 2, \"14\": 1}, \"20\": {\"20\": 16}, \"117\": {\"18\": 7, \"117\": 90, \"26\": 8, \"16\": 3, \"126\": 1, \"113\": 2, \"81\": 1, \"92\": 2}, \"18\": {\"18\": 110, \"26\": 6, \"16\": 2, \"117\": 2}, \"99\": {\"99\": 40}, \"23\": {\"117\": 1, \"124\": 1, \"91\": 1, \"123\": 1, \"55\": 1, \"122\": 1, \"39\": 2, \"23\": 3, \"129\": 1, \"63\": 1, \"51\": 1, \"70\": 2}, \"128\": {\"128\": 12, \"40\": 1, \"105\": 1, \"124\": 3, \"49\": 1, \"107\": 1, \"60\": 1, \"115\": 1, \"100\": 2, \"99\": 1}, \"60\": {\"60\": 10, \"33\": 3, \"99\": 1, \"3\": 1, \"88\": 1, \"42\": 1, \"14\": 2, \"127\": 1, \"46\": 3, \"114\": 2, \"83\": 1, \"71\": 1, \"124\": 1, \"118\": 1, \"129\": 1, \"49\": 2}, \"70\": {\"128\": 1, \"70\": 67, \"88\": 9, \"26\": 1, \"98\": 2, \"108\": 1, \"78\": 1, \"19\": 3, \"49\": 2, \"0\": 4, \"106\": 1, \"101\": 4, \"110\": 1, \"124\": 2, \"118\": 1, \"114\": 2, \"36\": 1, \"8\": 1, \"111\": 2, \"69\": 1, \"93\": 1, \"112\": 3, \"83\": 1, \"100\": 3, \"71\": 1, \"126\": 1, \"24\": 1, \"113\": 1, \"27\": 1}, \"122\": {\"122\": 53, \"44\": 2, \"43\": 9, \"33\": 6, \"110\": 2, \"126\": 2, \"107\": 2, \"22\": 1, \"14\": 1, \"5\": 1, \"114\": 1, \"116\": 1, \"118\": 2, \"102\": 1}, \"101\": {\"101\": 74, \"88\": 2, \"15\": 1, \"70\": 1, \"53\": 2, \"42\": 1, \"78\": 1, \"3\": 1, \"111\": 12, \"124\": 2, \"128\": 2, \"106\": 5, \"0\": 8, \"98\": 1, \"8\": 9, \"93\": 1, \"85\": 2, \"68\": 1, \"4\": 1, \"110\": 1, \"12\": 4}, \"33\": {\"44\": 2, \"84\": 1, \"33\": 117, \"122\": 5, \"14\": 2, \"107\": 2, \"116\": 1, \"90\": 1, \"43\": 1}, \"40\": {\"40\": 110, \"99\": 1, \"87\": 6, \"39\": 1, \"33\": 3, \"126\": 1, \"82\": 1, \"117\": 1, \"113\": 1, \"88\": 1, \"107\": 3, \"108\": 1}, \"41\": {\"41\": 11, \"56\": 1, \"106\": 1, \"95\": 2, \"21\": 1}, \"59\": {\"59\": 12}, \"4\": {\"4\": 88, \"55\": 1, \"39\": 1, \"38\": 1, \"86\": 3, \"85\": 1, \"27\": 1, \"108\": 2, \"62\": 1, \"71\": 3, \"109\": 1, \"36\": 1}, \"112\": {\"112\": 15, \"93\": 1}, \"36\": {\"30\": 4, \"36\": 96, \"10\": 4, \"27\": 1, \"24\": 10, \"18\": 1, \"15\": 3, \"94\": 5, \"39\": 1, \"8\": 3}, \"48\": {\"48\": 11, \"90\": 2, \"66\": 2, \"72\": 1}, \"126\": {\"126\": 86, \"123\": 1, \"81\": 2, \"39\": 6, \"18\": 3, \"26\": 2, \"113\": 12, \"109\": 1, \"84\": 3}, \"125\": {\"59\": 2, \"125\": 109, \"75\": 2, \"113\": 1, \"8\": 2, \"106\": 2, \"98\": 2, \"18\": 1, \"90\": 1}, \"84\": {\"84\": 105, \"21\": 1, \"44\": 2, \"36\": 1, \"102\": 2, \"39\": 1, \"90\": 3, \"27\": 1, \"126\": 2, \"69\": 2, \"96\": 1, \"88\": 2, \"5\": 1, \"113\": 1, \"33\": 1, \"107\": 1, \"93\": 1}, \"80\": {\"80\": 16}, \"49\": {\"122\": 2, \"49\": 3, \"0\": 1, \"116\": 1, \"11\": 3, \"14\": 1, \"8\": 3, \"60\": 2, \"3\": 1, \"72\": 2, \"74\": 1, \"5\": 5, \"106\": 1, \"19\": 1, \"33\": 1, \"111\": 1, \"32\": 3}, \"47\": {\"25\": 1, \"47\": 7, \"75\": 1, \"6\": 2, \"125\": 1}, \"95\": {\"95\": 29, \"85\": 2, \"127\": 1}, \"54\": {\"54\": 16}, \"25\": {\"25\": 16}, \"116\": {\"92\": 2, \"116\": 11, \"69\": 2, \"14\": 1, \"84\": 1, \"90\": 3, \"44\": 2, \"40\": 1, \"22\": 2, \"122\": 1, \"33\": 1, \"32\": 1}, \"74\": {\"74\": 16}, \"35\": {\"35\": 11, \"117\": 1}, \"15\": {\"15\": 101, \"9\": 2, \"94\": 8, \"8\": 2, \"30\": 8, \"0\": 1, \"108\": 1, \"36\": 1, \"12\": 2, \"101\": 2}, \"108\": {\"5\": 9, \"108\": 57, \"88\": 4, \"109\": 1, \"49\": 1, \"71\": 2, \"110\": 5, \"94\": 1, \"93\": 5, \"36\": 1, \"126\": 2, \"27\": 1, \"30\": 1, \"51\": 1, \"19\": 1}, \"34\": {\"3\": 4, \"6\": 2, \"49\": 3, \"83\": 1, \"127\": 1, \"1\": 2, \"46\": 1, \"34\": 4, \"124\": 3, \"125\": 1, \"114\": 2, \"71\": 3, \"103\": 2, \"75\": 1, \"68\": 2}, \"81\": {\"81\": 28, \"113\": 4, \"18\": 2, \"65\": 1, \"44\": 1}, \"93\": {\"93\": 124, \"126\": 1, \"108\": 1, \"88\": 2}, \"55\": {\"4\": 3, \"55\": 12, \"86\": 1}, \"27\": {\"27\": 82, \"10\": 2, \"8\": 4, \"122\": 1, \"24\": 3, \"71\": 2, \"36\": 2, \"5\": 1, \"94\": 2, \"70\": 1}, \"109\": {\"35\": 1, \"109\": 75, \"39\": 2, \"90\": 8, \"44\": 4, \"102\": 5, \"16\": 1, \"118\": 3, \"80\": 2, \"117\": 1, \"122\": 1, \"116\": 1, \"43\": 1, \"108\": 1, \"110\": 2, \"84\": 1, \"93\": 1}, \"106\": {\"47\": 2, \"106\": 77, \"103\": 2, \"127\": 2, \"98\": 1, \"12\": 12, \"111\": 4, \"101\": 3, \"108\": 1, \"113\": 1, \"8\": 3, \"58\": 3, \"26\": 1, \"10\": 1, \"126\": 1, \"93\": 1, \"24\": 1}, \"68\": {\"68\": 12, \"103\": 2, \"121\": 1, \"98\": 1}, \"76\": {\"93\": 1, \"76\": 14, \"78\": 1}, \"103\": {\"103\": 15, \"118\": 1}, \"42\": {\"110\": 1, \"103\": 1, \"53\": 2, \"42\": 7, \"56\": 1, \"48\": 2, \"83\": 1, \"101\": 3, \"100\": 2, \"108\": 1, \"8\": 1, \"127\": 1, \"30\": 1, \"68\": 1, \"52\": 2, \"129\": 1}, \"129\": {\"0\": 1, \"129\": 8, \"73\": 2, \"5\": 6, \"14\": 1, \"20\": 1, \"114\": 2, \"90\": 1, \"46\": 1, \"120\": 1, \"3\": 1, \"60\": 1, \"111\": 2}, \"94\": {\"94\": 67, \"39\": 1, \"88\": 1, \"6\": 2, \"10\": 1, \"36\": 3, \"15\": 4, \"3\": 2, \"24\": 1, \"21\": 1, \"108\": 1, \"8\": 1, \"109\": 1, \"117\": 1, \"113\": 1}, \"123\": {\"123\": 16}, \"61\": {\"61\": 14, \"26\": 2}, \"51\": {\"39\": 1, \"51\": 3, \"68\": 2, \"121\": 1, \"27\": 2, \"89\": 1, \"111\": 1, \"21\": 1, \"98\": 2, \"106\": 2}, \"98\": {\"33\": 1, \"53\": 1, \"98\": 99, \"39\": 3, \"67\": 1, \"127\": 2, \"93\": 1, \"18\": 1, \"109\": 1, \"4\": 2, \"90\": 1, \"102\": 1, \"124\": 1, \"111\": 1, \"84\": 1, \"0\": 1}, \"56\": {\"55\": 3, \"86\": 2, \"56\": 5, \"37\": 2}, \"14\": {\"14\": 88, \"32\": 2, \"66\": 1, \"60\": 1, \"11\": 4, \"43\": 4, \"5\": 2, \"122\": 1, \"16\": 1, \"110\": 2, \"23\": 1, \"45\": 2, \"44\": 1, \"39\": 1, \"90\": 1}, \"90\": {\"90\": 135, \"44\": 1, \"33\": 1, \"18\": 1}, \"13\": {\"13\": 16}, \"89\": {\"89\": 27, \"87\": 1, \"12\": 1, \"105\": 1, \"114\": 2}, \"52\": {\"52\": 14, \"99\": 1, \"3\": 1, \"101\": 1, \"46\": 1, \"127\": 2}, \"72\": {\"72\": 28, \"14\": 2, \"116\": 1, \"99\": 1}, \"79\": {\"79\": 16}, \"113\": {\"113\": 88, \"39\": 10, \"121\": 2, \"117\": 12, \"12\": 1, \"126\": 5, \"26\": 3, \"18\": 2, \"2\": 1, \"16\": 2}}, \"Wisig_1\": {\"68\": {\"68\": 16}, \"7\": {\"7\": 139, \"43\": 3}, \"125\": {\"125\": 117, \"51\": 1}, \"111\": {\"68\": 1, \"111\": 97, \"12\": 2, \"71\": 3, \"127\": 7, \"116\": 1, \"106\": 4, \"88\": 1, \"93\": 1, \"72\": 2, \"98\": 1}, \"101\": {\"101\": 120, \"97\": 1, \"108\": 2, \"113\": 1}, \"11\": {\"60\": 2, \"42\": 1, \"11\": 99, \"100\": 1, \"64\": 2, \"82\": 4, \"3\": 5, \"39\": 2, \"33\": 1, \"90\": 7, \"1\": 1, \"28\": 2, \"43\": 1, \"7\": 4, \"99\": 2, \"84\": 1, \"93\": 1}, \"76\": {\"76\": 16}, \"5\": {\"5\": 81, \"79\": 1, \"44\": 1, \"8\": 2, \"35\": 1, \"31\": 1, \"39\": 1}, \"123\": {\"123\": 14, \"44\": 1, \"19\": 1}, \"85\": {\"85\": 28, \"32\": 2, \"10\": 2}, \"34\": {\"77\": 2, \"51\": 2, \"34\": 7, \"41\": 1, \"22\": 1, \"87\": 1, \"57\": 1, \"17\": 2, \"84\": 1, \"56\": 1, \"124\": 1, \"37\": 2, \"14\": 3, \"68\": 1, \"115\": 1, \"11\": 1, \"128\": 1, \"125\": 1, \"92\": 2}, \"42\": {\"5\": 4, \"42\": 12, \"119\": 1, \"23\": 1, \"8\": 3, \"11\": 1, \"86\": 1, \"124\": 2, \"35\": 1, \"114\": 2}, \"81\": {\"81\": 27, \"100\": 1}, \"127\": {\"5\": 1, \"68\": 1, \"127\": 88, \"106\": 4, \"58\": 1, \"12\": 1, \"36\": 1, \"17\": 1, \"53\": 2, \"72\": 2, \"111\": 4, \"88\": 1, \"110\": 1}, \"60\": {\"5\": 1, \"34\": 1, \"117\": 2, \"83\": 2, \"1\": 2, \"95\": 1, \"18\": 1, \"124\": 1, \"10\": 1, \"118\": 1, \"16\": 1, \"102\": 1, \"14\": 1}, \"77\": {\"77\": 16}, \"65\": {\"123\": 2, \"65\": 4, \"38\": 1, \"121\": 1, \"18\": 1, \"28\": 1, \"43\": 2}, \"44\": {\"44\": 76}, \"100\": {\"100\": 16}, \"80\": {\"80\": 16}, \"83\": {\"83\": 26, \"0\": 1, \"98\": 1}, \"51\": {\"51\": 15, \"98\": 1}, \"93\": {\"10\": 12, \"93\": 80, \"128\": 1, \"86\": 1, \"5\": 3, \"40\": 5, \"105\": 1, \"122\": 1, \"4\": 11, \"87\": 2, \"8\": 6, \"117\": 1, \"18\": 1, \"107\": 3, \"114\": 1, \"45\": 1, \"41\": 1, \"79\": 2, \"70\": 1}, \"31\": {\"31\": 10, \"23\": 1, \"41\": 1, \"107\": 2, \"55\": 2}, \"33\": {\"33\": 123, \"19\": 1, \"90\": 1, \"93\": 1}, \"113\": {\"113\": 114, \"18\": 2, \"69\": 1, \"16\": 2, \"117\": 4, \"43\": 1}, \"126\": {\"126\": 112, \"19\": 2, \"117\": 1, \"44\": 2, \"111\": 2, \"26\": 1, \"2\": 2, \"70\": 2}, \"10\": {\"10\": 53, \"85\": 3, \"46\": 1, \"44\": 1, \"83\": 2, \"40\": 9, \"93\": 12, \"86\": 1, \"8\": 8, \"87\": 2, \"110\": 1, \"0\": 1, \"124\": 3, \"114\": 1, \"1\": 1, \"4\": 5, \"70\": 6, \"29\": 1, \"41\": 2, \"128\": 1, \"105\": 1, \"5\": 2, \"107\": 3}, \"21\": {\"21\": 19, \"42\": 2, \"126\": 3, \"1\": 1, \"44\": 2, \"84\": 1, \"109\": 1, \"18\": 1, \"72\": 1, \"64\": 1, \"103\": 1, \"108\": 1, \"87\": 3, \"14\": 1, \"127\": 1, \"111\": 1}, \"90\": {\"90\": 128, \"16\": 1, \"61\": 1, \"3\": 1, \"62\": 1}, \"38\": {\"38\": 16}, \"96\": {\"96\": 16, \"126\": 2, \"19\": 1, \"24\": 1}, \"6\": {\"37\": 1, \"94\": 3, \"53\": 2, \"92\": 1, \"110\": 1, \"6\": 12, \"112\": 1, \"27\": 1, \"98\": 3, \"71\": 2, \"56\": 1, \"52\": 1, \"125\": 1, \"36\": 2}, \"121\": {\"121\": 25, \"117\": 1, \"63\": 1, \"26\": 4, \"123\": 1}, \"37\": {\"37\": 16}, \"88\": {\"94\": 10, \"88\": 65, \"52\": 1, \"30\": 5, \"24\": 11, \"108\": 5, \"15\": 10, \"27\": 9, \"127\": 1, \"36\": 5, \"109\": 1, \"70\": 1, \"71\": 1, \"126\": 1}, \"54\": {\"54\": 15, \"5\": 1}, \"92\": {\"92\": 28}, \"19\": {\"96\": 2, \"19\": 18, \"20\": 2, \"9\": 1, \"124\": 2, \"104\": 1, \"129\": 1, \"14\": 1}, \"47\": {\"47\": 12}, \"94\": {\"94\": 77, \"30\": 1, \"36\": 3, \"88\": 6, \"18\": 1, \"27\": 2, \"52\": 1, \"113\": 1}, \"66\": {\"66\": 16}, \"73\": {\"73\": 17, \"59\": 1, \"22\": 2}, \"75\": {\"75\": 15, \"91\": 1}, \"28\": {\"28\": 17, \"61\": 1, \"78\": 1, \"75\": 1}, \"20\": {\"20\": 16}, \"78\": {\"39\": 1, \"78\": 9, \"22\": 1, \"57\": 1, \"87\": 1, \"64\": 2, \"11\": 1}, \"71\": {\"71\": 66, \"12\": 7, \"26\": 1, \"111\": 11, \"98\": 3, \"15\": 4, \"117\": 1, \"127\": 7, \"112\": 2, \"39\": 1, \"70\": 1}, \"13\": {\"13\": 16}, \"118\": {\"118\": 66, \"69\": 1, \"26\": 7, \"16\": 6, \"18\": 3, \"39\": 1}, \"72\": {\"72\": 29, \"9\": 1, \"29\": 2}, \"24\": {\"24\": 70, \"88\": 2, \"108\": 11, \"30\": 2, \"27\": 4, \"15\": 1, \"12\": 1, \"126\": 1}, \"41\": {\"41\": 14, \"38\": 1, \"40\": 1}, \"102\": {\"102\": 112, \"50\": 2, \"33\": 3, \"69\": 2, \"127\": 1}, \"8\": {\"123\": 1, \"8\": 110, \"35\": 1, \"124\": 12, \"5\": 6, \"86\": 2, \"4\": 2, \"105\": 2, \"84\": 1, \"1\": 1}, \"39\": {\"39\": 59, \"13\": 1, \"18\": 20, \"16\": 5, \"117\": 7, \"33\": 1, \"109\": 1, \"88\": 1, \"12\": 1}, \"97\": {\"108\": 1, \"97\": 14, \"30\": 1, \"24\": 1, \"101\": 2, \"2\": 1}, \"48\": {\"48\": 12}, \"57\": {\"57\": 12}, \"29\": {\"29\": 27, \"72\": 1}, \"119\": {\"119\": 16}, \"89\": {\"89\": 33, \"91\": 1, \"79\": 1, \"31\": 1}, \"40\": {\"40\": 130, \"105\": 6, \"4\": 1, \"43\": 3}, \"22\": {\"97\": 1, \"22\": 13, \"25\": 2}, \"53\": {\"53\": 15, \"92\": 1, \"106\": 2, \"127\": 2}, \"108\": {\"108\": 93, \"24\": 7, \"88\": 4, \"101\": 7, \"30\": 2, \"126\": 4, \"44\": 1, \"70\": 1, \"11\": 1, \"97\": 1, \"109\": 2, \"43\": 1}, \"23\": {\"23\": 2, \"100\": 1, \"25\": 1, \"28\": 1, \"107\": 1, \"35\": 1, \"81\": 3, \"110\": 1, \"99\": 2, \"5\": 4, \"82\": 1, \"33\": 1, \"11\": 1, \"29\": 1, \"89\": 2, \"91\": 1}, \"109\": {\"109\": 101, \"21\": 1, \"18\": 1, \"70\": 4, \"126\": 7, \"11\": 1, \"108\": 1}, \"112\": {\"112\": 14, \"111\": 1, \"58\": 1}, \"35\": {\"23\": 1, \"89\": 1, \"35\": 10}, \"3\": {\"3\": 80, \"119\": 2, \"125\": 1, \"36\": 1, \"61\": 1, \"129\": 1, \"71\": 1, \"111\": 1}, \"103\": {\"103\": 13, \"94\": 1, \"111\": 1, \"52\": 1}, \"4\": {\"4\": 95, \"40\": 2, \"93\": 1, \"109\": 1, \"123\": 1}, \"87\": {\"87\": 77, \"78\": 1, \"40\": 5, \"114\": 5, \"48\": 1, \"109\": 1, \"84\": 4, \"105\": 3, \"122\": 2, \"43\": 2, \"46\": 1, \"128\": 2, \"4\": 2, \"14\": 2}, \"25\": {\"25\": 12, \"87\": 1, \"84\": 2, \"113\": 1}, \"15\": {\"15\": 82, \"111\": 4, \"12\": 6, \"69\": 1, \"106\": 1, \"27\": 5, \"71\": 1, \"127\": 1, \"121\": 1, \"88\": 1, \"117\": 1}, \"95\": {\"95\": 29, \"13\": 1, \"16\": 3, \"117\": 1, \"26\": 2}, \"120\": {\"120\": 16, \"1\": 1, \"48\": 1, \"123\": 1, \"121\": 1}, \"59\": {\"59\": 9, \"92\": 1, \"36\": 1, \"118\": 1}, \"49\": {\"35\": 2, \"52\": 2, \"49\": 7, \"46\": 1, \"5\": 1, \"96\": 1, \"4\": 1, \"8\": 1, \"71\": 1, \"0\": 1, \"11\": 1, \"89\": 1}, \"52\": {\"52\": 18, \"109\": 1, \"24\": 1}, \"45\": {\"22\": 2, \"1\": 2, \"47\": 1, \"92\": 1, \"82\": 2, \"120\": 2, \"122\": 1, \"24\": 1}, \"107\": {\"107\": 119, \"46\": 2, \"54\": 2, \"55\": 1}, \"106\": {\"106\": 116, \"103\": 1, \"10\": 1, \"32\": 1, \"112\": 1, \"127\": 7, \"111\": 4, \"98\": 2, \"17\": 1}, \"18\": {\"18\": 123, \"39\": 1}, \"64\": {\"64\": 16}, \"86\": {\"86\": 30, \"14\": 1, \"127\": 1, \"108\": 1, \"4\": 3}, \"14\": {\"115\": 2, \"14\": 83, \"84\": 5, \"1\": 1, \"124\": 1, \"129\": 2, \"43\": 1, \"122\": 1}, \"115\": {\"115\": 12}, \"0\": {\"103\": 1, \"106\": 3, \"0\": 62, \"98\": 2, \"77\": 1, \"89\": 2, \"110\": 6, \"91\": 2, \"83\": 1, \"94\": 1, \"107\": 3}, \"104\": {\"104\": 16}, \"61\": {\"61\": 12}, \"129\": {\"129\": 8, \"8\": 1, \"60\": 5, \"128\": 2, \"119\": 1, \"62\": 1, \"44\": 2, \"90\": 1, \"18\": 2, \"83\": 1, \"3\": 3, \"16\": 1}, \"122\": {\"122\": 61, \"14\": 2, \"11\": 1, \"7\": 8, \"74\": 2, \"117\": 1, \"43\": 6, \"84\": 1, \"115\": 2, \"39\": 1, \"114\": 1, \"1\": 1, \"40\": 1}, \"67\": {\"67\": 14, \"21\": 1, \"97\": 1}, \"128\": {\"57\": 3, \"128\": 6, \"72\": 3, \"28\": 1, \"9\": 1, \"22\": 3, \"104\": 1, \"7\": 1, \"38\": 1, \"49\": 1, \"116\": 1, \"29\": 1, \"96\": 1}, \"26\": {\"26\": 122, \"118\": 3, \"16\": 5, \"113\": 1, \"117\": 2, \"121\": 1}, \"117\": {\"117\": 133, \"63\": 1, \"16\": 2}, \"91\": {\"91\": 15, \"12\": 1, \"110\": 2, \"53\": 1, \"0\": 2, \"32\": 1, \"112\": 1, \"75\": 3, \"106\": 1, \"89\": 1}, \"12\": {\"12\": 83, \"111\": 4, \"98\": 1, \"15\": 1, \"70\": 2, \"108\": 3, \"112\": 1, \"6\": 1, \"52\": 1, \"127\": 4, \"71\": 1, \"101\": 2}, \"50\": {\"50\": 15, \"81\": 1}, \"99\": {\"99\": 20, \"81\": 1, \"82\": 3}, \"110\": {\"110\": 93, \"89\": 1, \"98\": 3, \"0\": 3, \"106\": 4}, \"43\": {\"43\": 63, \"87\": 4, \"22\": 1, \"84\": 4, \"14\": 5, \"24\": 1, \"122\": 10, \"7\": 14, \"39\": 1, \"11\": 5, \"101\": 1, \"1\": 3, \"23\": 1, \"114\": 1, \"111\": 1, \"15\": 1}, \"82\": {\"82\": 33, \"99\": 3}, \"1\": {\"1\": 93, \"14\": 1, \"84\": 1, \"88\": 1}, \"46\": {\"6\": 1, \"40\": 1, \"46\": 3, \"38\": 1, \"32\": 1, \"107\": 2, \"127\": 1, \"105\": 1, \"94\": 1}, \"16\": {\"16\": 86, \"117\": 11, \"39\": 2, \"69\": 2, \"26\": 3, \"18\": 1, \"121\": 1, \"102\": 2}, \"74\": {\"74\": 16}, \"32\": {\"32\": 13, \"112\": 3, \"111\": 3, \"0\": 1, \"127\": 1, \"71\": 2, \"91\": 1, \"46\": 1, \"51\": 1, \"110\": 1, \"6\": 1, \"107\": 1, \"89\": 3}, \"62\": {\"62\": 110, \"33\": 4, \"70\": 1, \"94\": 1, \"69\": 2, \"90\": 2}, \"27\": {\"27\": 53, \"17\": 2, \"111\": 2, \"30\": 7, \"126\": 1, \"94\": 9, \"88\": 8, \"15\": 2, \"6\": 1, \"69\": 1, \"21\": 1, \"101\": 3, \"24\": 1, \"36\": 1}, \"17\": {\"17\": 12, \"34\": 2, \"89\": 2}, \"36\": {\"36\": 129, \"27\": 1, \"101\": 2, \"39\": 1, \"88\": 1}, \"2\": {\"18\": 5, \"66\": 1, \"90\": 2, \"2\": 8, \"116\": 2, \"11\": 2, \"102\": 2, \"39\": 4, \"114\": 1, \"13\": 1, \"81\": 2, \"82\": 1, \"28\": 1}, \"70\": {\"70\": 72, \"8\": 8, \"79\": 1, \"104\": 1, \"124\": 6, \"102\": 1, \"84\": 1, \"126\": 5, \"5\": 5, \"10\": 2, \"44\": 6, \"18\": 3, \"11\": 1, \"109\": 3, \"108\": 2, \"110\": 1, \"129\": 1, \"35\": 2, \"93\": 3, \"71\": 1, \"0\": 1, \"107\": 2}, \"9\": {\"9\": 32}, \"114\": {\"114\": 127, \"105\": 1, \"87\": 1, \"8\": 1}, \"79\": {\"79\": 12}, \"56\": {\"56\": 10, \"112\": 1, \"110\": 1}, \"124\": {\"124\": 102}, \"84\": {\"84\": 126, \"14\": 5, \"1\": 2, \"23\": 1}, \"69\": {\"69\": 100, \"16\": 1, \"102\": 4, \"118\": 3}, \"58\": {\"58\": 12}, \"30\": {\"24\": 2, \"94\": 1, \"30\": 36, \"27\": 8, \"126\": 2, \"88\": 1, \"58\": 1, \"15\": 1}, \"55\": {\"55\": 10, \"86\": 2}, \"105\": {\"105\": 70, \"43\": 2, \"114\": 4, \"40\": 5, \"8\": 2, \"87\": 1}, \"63\": {\"63\": 16}, \"98\": {\"98\": 105, \"110\": 3}, \"116\": {\"80\": 1, \"116\": 7, \"69\": 2, \"33\": 3, \"102\": 3, \"90\": 1, \"43\": 2, \"74\": 3, \"28\": 3, \"119\": 1, \"62\": 1, \"50\": 1, \"3\": 3, \"7\": 1}}, \"Wisig_3\": {\"76\": {\"76\": 16}, \"6\": {\"46\": 1, \"94\": 4, \"58\": 2, \"6\": 8, \"75\": 2, \"37\": 1, \"34\": 3, \"72\": 1, \"125\": 2, \"101\": 2, \"111\": 2, \"97\": 2, \"98\": 1, \"69\": 1}, \"108\": {\"46\": 3, \"85\": 2, \"108\": 71, \"127\": 1, \"94\": 2, \"10\": 2, \"124\": 7, \"70\": 8, \"8\": 6, \"0\": 1, \"98\": 2, \"114\": 1}, \"29\": {\"90\": 1, \"29\": 27, \"116\": 1, \"111\": 1, \"14\": 2}, \"83\": {\"83\": 24}, \"18\": {\"18\": 126, \"88\": 1, \"78\": 1}, \"54\": {\"54\": 16}, \"15\": {\"15\": 97, \"0\": 3, \"101\": 1, \"30\": 2, \"94\": 1}, \"100\": {\"100\": 16}, \"90\": {\"90\": 125, \"45\": 2, \"29\": 1, \"40\": 1, \"87\": 2, \"109\": 1, \"31\": 1, \"18\": 1, \"14\": 2}, \"26\": {\"26\": 125, \"39\": 1, \"5\": 1, \"18\": 1, \"113\": 2, \"109\": 2}, \"115\": {\"115\": 12, \"28\": 2, \"57\": 2}, \"94\": {\"94\": 73, \"24\": 1, \"15\": 5, \"125\": 2, \"0\": 1, \"30\": 1, \"102\": 1}, \"46\": {\"46\": 16}, \"121\": {\"121\": 23, \"113\": 3, \"26\": 1, \"117\": 3, \"18\": 2}, \"109\": {\"26\": 2, \"109\": 71, \"102\": 11, \"118\": 19, \"113\": 4, \"69\": 4, \"33\": 4, \"117\": 1, \"16\": 3, \"63\": 1, \"43\": 4, \"62\": 1, \"11\": 1, \"93\": 2}, \"101\": {\"101\": 41, \"0\": 2, \"36\": 1, \"15\": 3, \"12\": 1, \"97\": 1, \"124\": 1, \"72\": 1, \"8\": 1}, \"99\": {\"99\": 32, \"7\": 1, \"3\": 2, \"128\": 1}, \"8\": {\"8\": 108, \"12\": 1, \"108\": 3, \"10\": 1, \"30\": 2, \"0\": 5, \"101\": 2, \"5\": 1, \"15\": 2, \"117\": 1, \"124\": 2}, \"102\": {\"102\": 104}, \"122\": {\"123\": 1, \"122\": 40, \"84\": 1, \"53\": 1, \"105\": 1, \"4\": 3, \"1\": 1, \"26\": 1, \"32\": 1, \"65\": 1, \"40\": 1, \"48\": 1, \"126\": 1, \"107\": 1, \"23\": 1, \"128\": 2, \"19\": 2}, \"36\": {\"36\": 98, \"27\": 5, \"24\": 4, \"125\": 1, \"0\": 4, \"83\": 1, \"98\": 1, \"108\": 2}, \"113\": {\"123\": 2, \"113\": 100, \"117\": 6, \"26\": 6, \"126\": 1, \"64\": 1, \"109\": 1, \"39\": 2, \"93\": 1}, \"123\": {\"123\": 13, \"39\": 1, \"117\": 2}, \"120\": {\"120\": 19, \"64\": 1}, \"125\": {\"125\": 98, \"94\": 2, \"111\": 2, \"15\": 2, \"118\": 1, \"73\": 1, \"12\": 2}, \"89\": {\"89\": 25, \"30\": 1, \"120\": 2}, \"9\": {\"9\": 30, \"103\": 1, \"56\": 1}, \"31\": {\"31\": 18, \"90\": 2}, \"62\": {\"62\": 95, \"13\": 1, \"33\": 2, \"118\": 1, \"116\": 2, \"84\": 8, \"126\": 1, \"69\": 2, \"109\": 1, \"110\": 1}, \"49\": {\"23\": 1, \"101\": 2, \"14\": 2, \"19\": 1, \"45\": 3, \"0\": 1, \"22\": 1, \"122\": 1, \"60\": 3, \"85\": 1, \"42\": 2, \"49\": 3, \"6\": 1, \"90\": 1, \"11\": 1}, \"23\": {\"117\": 2, \"128\": 1, \"23\": 5, \"85\": 3, \"127\": 1, \"26\": 3, \"98\": 3, \"113\": 1, \"71\": 1, \"18\": 3, \"16\": 1, \"2\": 2, \"69\": 1, \"121\": 2, \"118\": 1, \"108\": 1, \"124\": 1}, \"55\": {\"55\": 16}, \"128\": {\"49\": 1, \"55\": 1, \"128\": 11, \"85\": 5, \"122\": 2, \"124\": 3, \"1\": 4, \"5\": 2, \"73\": 1, \"42\": 1, \"105\": 1}, \"71\": {\"71\": 56, \"9\": 1, \"65\": 1, \"26\": 1, \"3\": 3, \"127\": 2, \"114\": 2, \"5\": 2}, \"51\": {\"51\": 16}, \"7\": {\"7\": 97, \"99\": 3, \"127\": 4, \"9\": 2}, \"117\": {\"117\": 100, \"39\": 2, \"113\": 2}, \"28\": {\"28\": 15, \"11\": 1}, \"127\": {\"128\": 1, \"127\": 116, \"9\": 2, \"7\": 2, \"19\": 1, \"85\": 1, \"17\": 1, \"34\": 1, \"71\": 1, \"124\": 1, \"114\": 1}, \"57\": {\"57\": 20}, \"78\": {\"23\": 3, \"28\": 1, \"78\": 6, \"19\": 1, \"22\": 1, \"54\": 1, \"40\": 1, \"87\": 1, \"92\": 1}, \"87\": {\"87\": 103, \"40\": 4, \"44\": 3, \"107\": 7, \"14\": 2, \"27\": 1}, \"40\": {\"40\": 118, \"57\": 2, \"11\": 1, \"93\": 1, \"74\": 3, \"49\": 1, \"107\": 2}, \"81\": {\"81\": 32}, \"2\": {\"96\": 2, \"117\": 2, \"18\": 3, \"2\": 15, \"26\": 1, \"63\": 2, \"121\": 1, \"39\": 2}, \"58\": {\"58\": 16}, \"68\": {\"68\": 13, \"52\": 2, \"63\": 1}, \"20\": {\"20\": 12, \"129\": 3, \"125\": 1}, \"35\": {\"68\": 1, \"35\": 11}, \"96\": {\"96\": 18, \"93\": 2}, \"84\": {\"84\": 104, \"62\": 1, \"31\": 1, \"82\": 2}, \"13\": {\"88\": 1, \"13\": 8, \"80\": 2, \"119\": 2, \"43\": 1, \"69\": 1, \"26\": 1}, \"64\": {\"64\": 20}, \"112\": {\"112\": 9, \"42\": 2, \"111\": 1, \"8\": 1, \"94\": 1, \"108\": 2}, \"103\": {\"103\": 15, \"105\": 1}, \"65\": {\"65\": 9, \"10\": 1, \"127\": 1, \"63\": 1}, \"118\": {\"118\": 68, \"13\": 2, \"109\": 11, \"43\": 1, \"102\": 10, \"33\": 3, \"16\": 2, \"69\": 1, \"26\": 2}, \"88\": {\"88\": 65, \"112\": 1, \"21\": 4, \"20\": 2, \"110\": 8, \"107\": 2, \"1\": 4, \"126\": 1, \"5\": 1, \"109\": 1, \"70\": 7, \"12\": 1, \"114\": 1, \"15\": 1, \"47\": 1, \"16\": 2, \"11\": 4, \"129\": 2, \"62\": 1, \"32\": 1, \"3\": 1, \"106\": 1}, \"85\": {\"85\": 36}, \"5\": {\"5\": 93, \"66\": 1, \"3\": 6, \"21\": 1, \"7\": 2, \"105\": 2, \"18\": 1, \"1\": 1, \"114\": 2, \"88\": 1, \"4\": 2}, \"93\": {\"93\": 134, \"12\": 1, \"84\": 1, \"16\": 2}, \"43\": {\"2\": 2, \"43\": 33, \"119\": 1, \"109\": 5, \"26\": 2, \"69\": 2, \"64\": 2, \"92\": 1, \"118\": 3, \"102\": 2, \"81\": 1, \"16\": 1, \"11\": 1}, \"67\": {\"67\": 13, \"109\": 2, \"93\": 1}, \"48\": {\"48\": 2, \"82\": 1, \"105\": 1, \"104\": 4, \"31\": 1, \"86\": 1, \"43\": 1, \"3\": 1, \"119\": 2, \"102\": 1, \"7\": 1}, \"73\": {\"73\": 33, \"58\": 2, \"84\": 1, \"8\": 1, \"69\": 1, \"98\": 2}, \"34\": {\"28\": 1, \"34\": 7, \"37\": 1, \"107\": 4, \"68\": 4, \"91\": 1, \"125\": 1, \"92\": 1, \"111\": 2, \"48\": 2, \"87\": 1, \"100\": 1, \"77\": 2, \"29\": 1, \"72\": 2, \"106\": 1}, \"91\": {\"10\": 1, \"73\": 1, \"98\": 1, \"91\": 18, \"68\": 1, \"69\": 1, \"35\": 1}, \"105\": {\"105\": 120, \"86\": 1, \"4\": 3}, \"10\": {\"10\": 57, \"73\": 1, \"71\": 2, \"72\": 1, \"85\": 1, \"77\": 3, \"108\": 8, \"98\": 9, \"127\": 11, \"70\": 2, \"124\": 3, \"5\": 2, \"12\": 2, \"4\": 1, \"23\": 1, \"8\": 1, \"39\": 1}, \"61\": {\"61\": 12, \"81\": 2, \"18\": 2}, \"74\": {\"74\": 15, \"82\": 1}, \"4\": {\"4\": 77, \"9\": 2, \"3\": 3, \"105\": 13, \"110\": 1}, \"37\": {\"37\": 16}, \"19\": {\"19\": 11, \"107\": 2, \"124\": 3, \"66\": 1, \"129\": 4, \"14\": 1, \"85\": 3, \"20\": 2, \"51\": 1, \"110\": 2, \"122\": 1, \"28\": 1}, \"44\": {\"44\": 64, \"14\": 1, \"109\": 1, \"69\": 1, \"115\": 2, \"29\": 2, \"118\": 1}, \"52\": {\"52\": 15, \"111\": 1}, \"92\": {\"92\": 31, \"102\": 1}, \"33\": {\"33\": 121, \"102\": 3, \"69\": 3, \"117\": 1}, \"45\": {\"45\": 13, \"34\": 1, \"107\": 2}, \"11\": {\"11\": 96, \"129\": 2, \"23\": 1, \"27\": 1, \"29\": 1, \"16\": 7, \"87\": 1, \"93\": 2, \"60\": 2, \"100\": 1, \"107\": 4, \"90\": 6, \"14\": 4}, \"129\": {\"129\": 23, \"19\": 1, \"60\": 2, \"11\": 3, \"107\": 1, \"20\": 1, \"128\": 1}, \"116\": {\"116\": 14, \"50\": 1, \"29\": 1, \"33\": 1, \"87\": 3, \"44\": 1, \"107\": 1, \"26\": 1, \"90\": 1, \"84\": 2, \"62\": 1, \"14\": 1}, \"75\": {\"75\": 16}, \"41\": {\"41\": 16}, \"21\": {\"21\": 42, \"69\": 1, \"88\": 1, \"110\": 1, \"126\": 2, \"94\": 1}, \"69\": {\"69\": 74, \"61\": 1, \"26\": 1, \"43\": 1, \"109\": 2, \"33\": 2, \"92\": 2, \"126\": 1}, \"16\": {\"16\": 99, \"39\": 1, \"93\": 1, \"11\": 3, \"116\": 1, \"126\": 1, \"90\": 2}, \"25\": {\"25\": 13, \"58\": 1, \"27\": 2}, \"12\": {\"12\": 96, \"111\": 2, \"98\": 1, \"10\": 1, \"106\": 2, \"124\": 1, \"88\": 1}, \"72\": {\"72\": 20, \"12\": 2, \"52\": 2, \"110\": 1, \"111\": 1, \"98\": 2}, \"0\": {\"0\": 96, \"42\": 4, \"30\": 3, \"101\": 2, \"15\": 3, \"8\": 6, \"126\": 1, \"11\": 1}, \"50\": {\"50\": 15, \"87\": 1}, \"107\": {\"107\": 132, \"32\": 1, \"93\": 1, \"14\": 1, \"16\": 2, \"45\": 1, \"23\": 1, \"90\": 1}, \"124\": {\"124\": 120, \"85\": 2, \"98\": 1, \"10\": 1}, \"53\": {\"53\": 16, \"48\": 1, \"86\": 1, \"60\": 1, \"117\": 1}, \"66\": {\"66\": 15, \"53\": 1}, \"47\": {\"47\": 12}, \"24\": {\"24\": 32, \"25\": 1, \"30\": 6, \"83\": 1, \"36\": 6, \"27\": 1, \"43\": 1}, \"95\": {\"95\": 29, \"39\": 1, \"105\": 2}, \"98\": {\"98\": 91, \"111\": 2, \"85\": 1, \"12\": 5, \"44\": 1, \"124\": 3, \"72\": 1, \"51\": 1, \"113\": 1}, \"63\": {\"63\": 16}, \"3\": {\"3\": 101, \"98\": 1, \"128\": 1, \"4\": 4, \"113\": 1, \"5\": 2, \"127\": 2, \"71\": 1, \"7\": 1, \"1\": 1, \"18\": 1}, \"14\": {\"14\": 76, \"90\": 3, \"45\": 1}, \"1\": {\"1\": 108}, \"38\": {\"38\": 16}, \"110\": {\"110\": 74, \"88\": 4, \"1\": 2, \"18\": 2, \"108\": 1, \"129\": 2, \"19\": 1, \"114\": 3, \"70\": 1, \"106\": 1, \"126\": 1}, \"17\": {\"67\": 1, \"105\": 1, \"82\": 1, \"95\": 3, \"7\": 4, \"109\": 1, \"65\": 1, \"34\": 2, \"4\": 1, \"92\": 1}, \"30\": {\"30\": 58, \"97\": 2, \"0\": 4, \"15\": 3, \"94\": 5, \"108\": 1, \"8\": 2, \"36\": 1, \"102\": 1, \"101\": 1, \"24\": 3, \"23\": 1, \"125\": 1, \"11\": 1}, \"56\": {\"56\": 8, \"41\": 2, \"9\": 1, \"75\": 1}, \"27\": {\"27\": 55, \"24\": 2, \"83\": 2, \"0\": 4, \"36\": 17, \"70\": 1, \"12\": 1, \"106\": 1, \"8\": 2, \"25\": 2, \"30\": 2, \"126\": 1, \"15\": 3, \"39\": 1, \"94\": 2}, \"104\": {\"104\": 16}, \"97\": {\"112\": 2, \"30\": 1, \"97\": 14, \"42\": 1, \"15\": 1, \"101\": 1}, \"42\": {\"42\": 6, \"72\": 3, \"25\": 1, \"85\": 2, \"30\": 2, \"108\": 6, \"15\": 3, \"112\": 2, \"101\": 1, \"58\": 1, \"94\": 1}, \"39\": {\"96\": 1, \"39\": 56, \"43\": 2, \"123\": 1, \"81\": 3, \"121\": 5, \"126\": 6, \"117\": 11, \"109\": 3, \"18\": 1, \"113\": 9, \"93\": 4, \"26\": 3, \"64\": 1, \"23\": 1, \"118\": 1}, \"70\": {\"70\": 31, \"53\": 1, \"108\": 10, \"110\": 5, \"88\": 7, \"5\": 1, \"16\": 1, \"8\": 2, \"117\": 1, \"49\": 2, \"83\": 1, \"25\": 1, \"23\": 1, \"72\": 2, \"46\": 2, \"126\": 1, \"129\": 1, \"98\": 1, \"10\": 1}, \"86\": {\"86\": 21, \"3\": 4, \"115\": 1, \"127\": 1, \"4\": 1}, \"119\": {\"119\": 15, \"33\": 1}, \"77\": {\"77\": 16}, \"59\": {\"59\": 12}, \"22\": {\"57\": 1, \"44\": 1, \"22\": 12, \"40\": 2}, \"79\": {\"79\": 11, \"28\": 1}, \"80\": {\"80\": 15, \"119\": 1}, \"111\": {\"111\": 125, \"125\": 1, \"72\": 2, \"87\": 1, \"12\": 2, \"73\": 1}, \"82\": {\"82\": 28}, \"126\": {\"126\": 107, \"39\": 2, \"117\": 6, \"18\": 6, \"21\": 1, \"81\": 1, \"113\": 1}, \"32\": {\"32\": 19, \"45\": 1, \"1\": 1, \"62\": 1, \"107\": 4, \"94\": 1, \"114\": 1, \"60\": 2, \"28\": 1, \"38\": 1}, \"106\": {\"106\": 93, \"109\": 1, \"73\": 2, \"111\": 1, \"39\": 1, \"15\": 2}, \"60\": {\"57\": 1, \"101\": 1, \"122\": 1, \"22\": 1, \"87\": 3, \"60\": 11, \"74\": 1, \"32\": 1, \"110\": 3, \"107\": 1, \"90\": 1, \"1\": 2, \"79\": 1}, \"114\": {\"114\": 88, \"3\": 6, \"105\": 2, \"5\": 1, \"8\": 1, \"1\": 5, \"87\": 1, \"40\": 1, \"127\": 1, \"93\": 1, \"39\": 1}}}, \"per_domain_accuracy\": {\"ORACLE.run18\": {\"accuracy\": 0.6940104166666666, \"source?\": true}, \"ORACLE.run138\": {\"accuracy\": 0.8041666666666667, \"source?\": true}, \"ORACLE.run126\": {\"accuracy\": 0.5542708333333334, \"source?\": true}, \"ORACLE.run120\": {\"accuracy\": 0.661875, \"source?\": true}, \"ORACLE.run150\": {\"accuracy\": 0.7960416666666666, \"source?\": true}, \"ORACLE.run132\": {\"accuracy\": 0.78140625, \"source?\": true}, \"ORACLE.run144\": {\"accuracy\": 0.7175520833333333, \"source?\": true}, \"ORACLE.run114\": {\"accuracy\": 0.8224479166666666, \"source?\": true}, \"Wisig_2\": {\"accuracy\": 0.7552521008403361, \"source?\": false}, \"Wisig_4\": {\"accuracy\": 0.7456275720164609, \"source?\": false}, \"Wisig_1\": {\"accuracy\": 0.8172872340425532, \"source?\": false}, \"Wisig_3\": {\"accuracy\": 0.8204845814977973, \"source?\": false}}}, \"history\": {\"epoch_indices\": [1, 2, 3, 4, 5, 6, 7, 8, 9, 10, 11, 12, 13, 14, 15, 16], \"train_label_loss\": [1.0597809930886364, 0.8360955287538292, 0.7416648502319696, 0.6570871359890416, 0.592769605657751, 0.5371514241197811, 0.48931680605469624, 0.45008761720205215, 0.4164722374742684, 0.3866879574231626, 0.35756672515675225, 0.3314283548297161, 0.308514056928065, 0.2875837704952712, 0.26668337534008535, 0.2492700727389075], \"source_val_label_loss\": [0.9879443645477295, 0.8632048964500427, 0.8115710020065308, 0.7622206211090088, 0.7565338015556335, 0.7507861256599426, 0.7529133558273315, 0.7670908570289612, 0.7693364024162292, 0.7817505598068237, 0.8136915564537048, 0.8273537158966064, 0.865683913230896, 0.8765550851821899, 0.9143593311309814, 0.9505330920219421], \"target_val_label_loss\": [10.219841957092285, 7.272665023803711, 9.071493148803711, 9.273170471191406, 9.96452522277832, 9.30530834197998, 10.69754695892334, 10.611907958984375, 11.43704891204834, 12.208565711975098, 12.70755672454834, 13.078493118286133, 13.739605903625488, 14.046937942504883, 14.789572715759277, 15.19501781463623], \"source_val_acc_label\": [0.6585807291666667, 0.6715364583333333, 0.7050651041666667, 0.7205859375, 0.72828125, 0.7204296875, 0.7339127604166666, 0.7255989583333333, 0.7326627604166667, 0.7336263020833333, 0.7341276041666667, 0.7289713541666667, 0.7272526041666667, 0.7217057291666666, 0.7243684895833333, 0.71466796875], \"target_val_acc_label\": [0.6951550901378579, 0.7175569989395546, 0.7336293743372216, 0.7527836691410392, 0.7536784199363733, 0.7697176564156946, 0.7753512725344645, 0.778101802757158, 0.7793942205726405, 0.780123276776246, 0.7810511664899258, 0.7839342523860021, 0.7768425238600212, 0.7808523329798516, 0.7807197773064687, 0.7826749734888653]}, \"dataset_metrics\": {\"source\": {\"train\": {\"n_unique_x\": 896000, \"n_unique_y\": 16, \"n_batch/episode\": 33600}, \"val\": {\"n_unique_x\": 192000, \"n_unique_y\": 16, \"n_batch/episode\": 4800}, \"test\": {\"n_unique_x\": 192000, \"n_unique_y\": 16, \"n_batch/episode\": 4800}}, \"target\": {\"train\": {\"n_unique_x\": 188974, \"n_unique_y\": 130, \"n_batch/episode\": 6847}, \"val\": {\"n_unique_x\": 40019, \"n_unique_y\": 130, \"n_batch/episode\": 943}, \"test\": {\"n_unique_x\": 40738, \"n_unique_y\": 130, \"n_batch/episode\": 960}}}}'"
      ]
     },
     "execution_count": 29,
     "metadata": {},
     "output_type": "execute_result"
    }
   ],
   "source": [
    "json.dumps(experiment)"
   ]
  }
 ],
 "metadata": {
  "celltoolbar": "Tags",
  "kernelspec": {
   "display_name": "Python 3 (ipykernel)",
   "language": "python",
   "name": "python3"
  },
  "language_info": {
   "codemirror_mode": {
    "name": "ipython",
    "version": 3
   },
   "file_extension": ".py",
   "mimetype": "text/x-python",
   "name": "python",
   "nbconvert_exporter": "python",
   "pygments_lexer": "ipython3",
   "version": "3.8.12"
  },
  "papermill": {
   "default_parameters": {},
   "duration": 16062.419206,
   "end_time": "2022-03-24T03:26:37.237282",
   "environment_variables": {},
   "exception": null,
   "input_path": "/root/csc500-main/csc500-notebooks/templates/tl_ptn_template.ipynb",
   "output_path": "trial.ipynb",
   "parameters": {
    "parameters": {
     "BEST_MODEL_PATH": "./best_model.pth",
     "NUM_LOGS_PER_EPOCH": 10,
     "criteria_for_best": "target_accuracy",
     "dataset_seed": 154325,
     "datasets": [
      {
       "domain_prefix": "Wisig_",
       "domains": [
        1,
        2,
        3,
        4
       ],
       "episode_transforms": [],
       "labels": [
        "1-10",
        "1-12",
        "1-14",
        "1-16",
        "1-18",
        "1-19",
        "1-8",
        "10-11",
        "10-17",
        "10-4",
        "10-7",
        "11-1",
        "11-10",
        "11-19",
        "11-20",
        "11-4",
        "11-7",
        "12-19",
        "12-20",
        "12-7",
        "13-14",
        "13-18",
        "13-19",
        "13-20",
        "13-3",
        "13-7",
        "14-10",
        "14-11",
        "14-12",
        "14-13",
        "14-14",
        "14-19",
        "14-20",
        "14-7",
        "14-8",
        "14-9",
        "15-1",
        "15-19",
        "15-6",
        "16-1",
        "16-16",
        "16-19",
        "16-20",
        "17-10",
        "17-11",
        "18-1",
        "18-10",
        "18-11",
        "18-12",
        "18-13",
        "18-14",
        "18-15",
        "18-16",
        "18-17",
        "18-19",
        "18-2",
        "18-20",
        "18-4",
        "18-5",
        "18-7",
        "18-8",
        "18-9",
        "19-1",
        "19-10",
        "19-11",
        "19-12",
        "19-13",
        "19-14",
        "19-15",
        "19-19",
        "19-2",
        "19-20",
        "19-3",
        "19-4",
        "19-6",
        "19-7",
        "19-8",
        "19-9",
        "2-1",
        "2-13",
        "2-15",
        "2-3",
        "2-4",
        "2-5",
        "2-6",
        "2-7",
        "2-8",
        "20-1",
        "20-12",
        "20-14",
        "20-15",
        "20-16",
        "20-18",
        "20-19",
        "20-20",
        "20-3",
        "20-4",
        "20-5",
        "20-7",
        "20-8",
        "3-1",
        "3-13",
        "3-18",
        "3-2",
        "3-8",
        "4-1",
        "4-10",
        "4-11",
        "5-1",
        "5-5",
        "6-1",
        "6-15",
        "6-6",
        "7-10",
        "7-11",
        "7-12",
        "7-13",
        "7-14",
        "7-7",
        "7-8",
        "7-9",
        "8-1",
        "8-13",
        "8-14",
        "8-18",
        "8-20",
        "8-3",
        "8-8",
        "9-1",
        "9-7"
       ],
       "num_examples_per_domain_per_label": -1,
       "pickle_path": "/root/csc500-main/datasets/wisig.node3-19.stratified_ds.2022A.pkl",
       "source_or_target_dataset": "target",
       "x_transforms": [
        "unit_power"
       ]
      },
      {
       "domain_prefix": "ORACLE.run1",
       "domains": [
        32,
        38,
        8,
        44,
        14,
        50,
        20,
        26
       ],
       "episode_transforms": [],
       "labels": [
        "3123D52",
        "3123D65",
        "3123D79",
        "3123D80",
        "3123D54",
        "3123D70",
        "3123D7B",
        "3123D89",
        "3123D58",
        "3123D76",
        "3123D7D",
        "3123EFE",
        "3123D64",
        "3123D78",
        "3123D7E",
        "3124E4A"
       ],
       "num_examples_per_domain_per_label": 10000,
       "pickle_path": "/root/csc500-main/datasets/oracle.Run1_10kExamples_stratified_ds.2022A.pkl",
       "source_or_target_dataset": "source",
       "x_transforms": [
        "unit_power"
       ]
      }
     ],
     "device": "cuda",
     "experiment_name": "tl_1v2:wisig-oracle.run1",
     "lr": 0.0001,
     "n_epoch": 50,
     "n_query": 2,
     "n_shot": 3,
     "n_way": 16,
     "patience": 3,
     "seed": 154325,
     "test_k_factor": 2,
     "torch_default_dtype": "torch.float32",
     "train_k_factor": 3,
     "val_k_factor": 2,
     "x_net": [
      {
       "class": "nnReshape",
       "kargs": {
        "shape": [
         -1,
         1,
         2,
         256
        ]
       }
      },
      {
       "class": "Conv2d",
       "kargs": {
        "bias": false,
        "in_channels": 1,
        "kernel_size": [
         1,
         7
        ],
        "out_channels": 256,
        "padding": [
         0,
         3
        ]
       }
      },
      {
       "class": "ReLU",
       "kargs": {
        "inplace": true
       }
      },
      {
       "class": "BatchNorm2d",
       "kargs": {
        "num_features": 256
       }
      },
      {
       "class": "Conv2d",
       "kargs": {
        "bias": true,
        "in_channels": 256,
        "kernel_size": [
         2,
         7
        ],
        "out_channels": 80,
        "padding": [
         0,
         3
        ]
       }
      },
      {
       "class": "ReLU",
       "kargs": {
        "inplace": true
       }
      },
      {
       "class": "BatchNorm2d",
       "kargs": {
        "num_features": 80
       }
      },
      {
       "class": "Flatten",
       "kargs": {}
      },
      {
       "class": "Linear",
       "kargs": {
        "in_features": 20480,
        "out_features": 256
       }
      },
      {
       "class": "ReLU",
       "kargs": {
        "inplace": true
       }
      },
      {
       "class": "BatchNorm1d",
       "kargs": {
        "num_features": 256
       }
      },
      {
       "class": "Linear",
       "kargs": {
        "in_features": 256,
        "out_features": 256
       }
      }
     ]
    }
   },
   "start_time": "2022-03-23T22:58:54.818076",
   "version": "2.3.4"
  }
 },
 "nbformat": 4,
 "nbformat_minor": 5
}