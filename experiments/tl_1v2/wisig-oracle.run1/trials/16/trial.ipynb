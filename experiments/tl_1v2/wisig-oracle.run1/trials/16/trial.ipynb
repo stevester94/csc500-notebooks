{
 "cells": [
  {
   "cell_type": "markdown",
   "id": "9fea5f46",
   "metadata": {
    "papermill": {
     "duration": 0.027834,
     "end_time": "2022-03-23T23:16:40.758629",
     "exception": false,
     "start_time": "2022-03-23T23:16:40.730795",
     "status": "completed"
    },
    "tags": []
   },
   "source": [
    "# Transfer Learning Template"
   ]
  },
  {
   "cell_type": "code",
   "execution_count": 1,
   "id": "0902182a",
   "metadata": {
    "execution": {
     "iopub.execute_input": "2022-03-23T23:16:40.820770Z",
     "iopub.status.busy": "2022-03-23T23:16:40.819376Z",
     "iopub.status.idle": "2022-03-23T23:16:42.720665Z",
     "shell.execute_reply": "2022-03-23T23:16:42.720219Z"
    },
    "papermill": {
     "duration": 1.938934,
     "end_time": "2022-03-23T23:16:42.720770",
     "exception": false,
     "start_time": "2022-03-23T23:16:40.781836",
     "status": "completed"
    },
    "tags": []
   },
   "outputs": [],
   "source": [
    "%load_ext autoreload\n",
    "%autoreload 2\n",
    "%matplotlib inline\n",
    "\n",
    "    \n",
    "import os, json, sys, time, random\n",
    "import numpy as np\n",
    "import torch\n",
    "from torch.optim import Adam\n",
    "from  easydict import EasyDict\n",
    "import matplotlib.pyplot as plt\n",
    "\n",
    "from steves_models.steves_ptn import Steves_Prototypical_Network\n",
    "\n",
    "from steves_utils.lazy_iterable_wrapper import Lazy_Iterable_Wrapper\n",
    "from steves_utils.iterable_aggregator import Iterable_Aggregator\n",
    "from steves_utils.ptn_train_eval_test_jig import  PTN_Train_Eval_Test_Jig\n",
    "from steves_utils.torch_sequential_builder import build_sequential\n",
    "from steves_utils.torch_utils import get_dataset_metrics, ptn_confusion_by_domain_over_dataloader\n",
    "from steves_utils.utils_v2 import (per_domain_accuracy_from_confusion, get_datasets_base_path)\n",
    "from steves_utils.PTN.utils import independent_accuracy_assesment\n",
    "\n",
    "from torch.utils.data import DataLoader\n",
    "\n",
    "from steves_utils.stratified_dataset.episodic_accessor import Episodic_Accessor_Factory\n",
    "\n",
    "from steves_utils.ptn_do_report import (\n",
    "    get_loss_curve,\n",
    "    get_results_table,\n",
    "    get_parameters_table,\n",
    "    get_domain_accuracies,\n",
    ")\n",
    "\n",
    "from steves_utils.transforms import get_chained_transform"
   ]
  },
  {
   "cell_type": "markdown",
   "id": "41c840b4",
   "metadata": {
    "papermill": {
     "duration": 0.019495,
     "end_time": "2022-03-23T23:16:42.764109",
     "exception": false,
     "start_time": "2022-03-23T23:16:42.744614",
     "status": "completed"
    },
    "tags": []
   },
   "source": [
    "# Allowed Parameters\n",
    "These are allowed parameters, not defaults\n",
    "Each of these values need to be present in the injected parameters (the notebook will raise an exception if they are not present)\n",
    "\n",
    "Papermill uses the cell tag \"parameters\" to inject the real parameters below this cell.\n",
    "Enable tags to see what I mean"
   ]
  },
  {
   "cell_type": "code",
   "execution_count": 2,
   "id": "fd44eb83",
   "metadata": {
    "execution": {
     "iopub.execute_input": "2022-03-23T23:16:42.808225Z",
     "iopub.status.busy": "2022-03-23T23:16:42.807796Z",
     "iopub.status.idle": "2022-03-23T23:16:42.830159Z",
     "shell.execute_reply": "2022-03-23T23:16:42.829375Z"
    },
    "papermill": {
     "duration": 0.0469,
     "end_time": "2022-03-23T23:16:42.830344",
     "exception": false,
     "start_time": "2022-03-23T23:16:42.783444",
     "status": "completed"
    },
    "tags": []
   },
   "outputs": [],
   "source": [
    "required_parameters = {\n",
    "    \"experiment_name\",\n",
    "    \"lr\",\n",
    "    \"device\",\n",
    "    \"seed\",\n",
    "    \"dataset_seed\",\n",
    "    \"n_shot\",\n",
    "    \"n_query\",\n",
    "    \"n_way\",\n",
    "    \"train_k_factor\",\n",
    "    \"val_k_factor\",\n",
    "    \"test_k_factor\",\n",
    "    \"n_epoch\",\n",
    "    \"patience\",\n",
    "    \"criteria_for_best\",\n",
    "    \"x_net\",\n",
    "    \"datasets\",\n",
    "    \"torch_default_dtype\",\n",
    "    \"NUM_LOGS_PER_EPOCH\",\n",
    "    \"BEST_MODEL_PATH\",\n",
    "    \"x_shape\",\n",
    "}"
   ]
  },
  {
   "cell_type": "code",
   "execution_count": 3,
   "id": "fa3f0049",
   "metadata": {
    "execution": {
     "iopub.execute_input": "2022-03-23T23:16:42.887777Z",
     "iopub.status.busy": "2022-03-23T23:16:42.887320Z",
     "iopub.status.idle": "2022-03-23T23:16:42.908124Z",
     "shell.execute_reply": "2022-03-23T23:16:42.907297Z"
    },
    "papermill": {
     "duration": 0.052295,
     "end_time": "2022-03-23T23:16:42.908310",
     "exception": false,
     "start_time": "2022-03-23T23:16:42.856015",
     "status": "completed"
    },
    "tags": [
     "parameters"
    ]
   },
   "outputs": [],
   "source": [
    "from steves_utils.CORES.utils import (\n",
    "    ALL_NODES,\n",
    "    ALL_NODES_MINIMUM_1000_EXAMPLES,\n",
    "    ALL_DAYS\n",
    ")\n",
    "\n",
    "from steves_utils.ORACLE.utils_v2 import (\n",
    "    ALL_DISTANCES_FEET_NARROWED,\n",
    "    ALL_RUNS,\n",
    "    ALL_SERIAL_NUMBERS,\n",
    ")\n",
    "\n",
    "standalone_parameters = {}\n",
    "standalone_parameters[\"experiment_name\"] = \"STANDALONE PTN\"\n",
    "standalone_parameters[\"lr\"] = 0.001\n",
    "standalone_parameters[\"device\"] = \"cuda\"\n",
    "\n",
    "standalone_parameters[\"seed\"] = 1337\n",
    "standalone_parameters[\"dataset_seed\"] = 1337\n",
    "\n",
    "standalone_parameters[\"n_way\"] = 8\n",
    "standalone_parameters[\"n_shot\"] = 3\n",
    "standalone_parameters[\"n_query\"]  = 2\n",
    "standalone_parameters[\"train_k_factor\"] = 1\n",
    "standalone_parameters[\"val_k_factor\"] = 2\n",
    "standalone_parameters[\"test_k_factor\"] = 2\n",
    "\n",
    "\n",
    "standalone_parameters[\"n_epoch\"] = 50\n",
    "\n",
    "standalone_parameters[\"patience\"] = 10\n",
    "standalone_parameters[\"criteria_for_best\"] = \"source_loss\"\n",
    "\n",
    "standalone_parameters[\"datasets\"] = [\n",
    "    {\n",
    "        \"labels\": ALL_SERIAL_NUMBERS,\n",
    "        \"domains\": ALL_DISTANCES_FEET_NARROWED,\n",
    "        \"num_examples_per_domain_per_label\": 100,\n",
    "        \"pickle_path\": os.path.join(get_datasets_base_path(), \"oracle.Run1_framed_2000Examples_stratified_ds.2022A.pkl\"),\n",
    "        \"source_or_target_dataset\": \"source\",\n",
    "        \"x_transforms\": [\"unit_mag\", \"minus_two\"],\n",
    "        \"episode_transforms\": [],\n",
    "        \"domain_prefix\": \"ORACLE_\"\n",
    "    },\n",
    "    {\n",
    "        \"labels\": ALL_NODES,\n",
    "        \"domains\": ALL_DAYS,\n",
    "        \"num_examples_per_domain_per_label\": 100,\n",
    "        \"pickle_path\": os.path.join(get_datasets_base_path(), \"cores.stratified_ds.2022A.pkl\"),\n",
    "        \"source_or_target_dataset\": \"target\",\n",
    "        \"x_transforms\": [\"unit_power\", \"times_zero\"],\n",
    "        \"episode_transforms\": [],\n",
    "        \"domain_prefix\": \"CORES_\"\n",
    "    }   \n",
    "]\n",
    "\n",
    "standalone_parameters[\"torch_default_dtype\"] = \"torch.float32\" \n",
    "\n",
    "\n",
    "\n",
    "standalone_parameters[\"x_net\"] =     [\n",
    "    {\"class\": \"nnReshape\", \"kargs\": {\"shape\":[-1, 1, 2, 256]}},\n",
    "    {\"class\": \"Conv2d\", \"kargs\": { \"in_channels\":1, \"out_channels\":256, \"kernel_size\":(1,7), \"bias\":False, \"padding\":(0,3), },},\n",
    "    {\"class\": \"ReLU\", \"kargs\": {\"inplace\": True}},\n",
    "    {\"class\": \"BatchNorm2d\", \"kargs\": {\"num_features\":256}},\n",
    "\n",
    "    {\"class\": \"Conv2d\", \"kargs\": { \"in_channels\":256, \"out_channels\":80, \"kernel_size\":(2,7), \"bias\":True, \"padding\":(0,3), },},\n",
    "    {\"class\": \"ReLU\", \"kargs\": {\"inplace\": True}},\n",
    "    {\"class\": \"BatchNorm2d\", \"kargs\": {\"num_features\":80}},\n",
    "    {\"class\": \"Flatten\", \"kargs\": {}},\n",
    "\n",
    "    {\"class\": \"Linear\", \"kargs\": {\"in_features\": 80*256, \"out_features\": 256}}, # 80 units per IQ pair\n",
    "    {\"class\": \"ReLU\", \"kargs\": {\"inplace\": True}},\n",
    "    {\"class\": \"BatchNorm1d\", \"kargs\": {\"num_features\":256}},\n",
    "\n",
    "    {\"class\": \"Linear\", \"kargs\": {\"in_features\": 256, \"out_features\": 256}},\n",
    "]\n",
    "\n",
    "# Parameters relevant to results\n",
    "# These parameters will basically never need to change\n",
    "standalone_parameters[\"NUM_LOGS_PER_EPOCH\"] = 10\n",
    "standalone_parameters[\"BEST_MODEL_PATH\"] = \"./best_model.pth\"\n",
    "\n",
    "\n",
    "\n",
    "\n"
   ]
  },
  {
   "cell_type": "code",
   "execution_count": 4,
   "id": "538421cf",
   "metadata": {
    "execution": {
     "iopub.execute_input": "2022-03-23T23:16:42.967730Z",
     "iopub.status.busy": "2022-03-23T23:16:42.956428Z",
     "iopub.status.idle": "2022-03-23T23:16:42.993065Z",
     "shell.execute_reply": "2022-03-23T23:16:42.992218Z"
    },
    "papermill": {
     "duration": 0.058992,
     "end_time": "2022-03-23T23:16:42.993245",
     "exception": false,
     "start_time": "2022-03-23T23:16:42.934253",
     "status": "completed"
    },
    "tags": [
     "injected-parameters"
    ]
   },
   "outputs": [],
   "source": [
    "# Parameters\n",
    "parameters = {\n",
    "    \"experiment_name\": \"tl_1v2:wisig-oracle.run1\",\n",
    "    \"device\": \"cuda\",\n",
    "    \"lr\": 0.0001,\n",
    "    \"n_shot\": 3,\n",
    "    \"n_query\": 2,\n",
    "    \"train_k_factor\": 3,\n",
    "    \"val_k_factor\": 2,\n",
    "    \"test_k_factor\": 2,\n",
    "    \"torch_default_dtype\": \"torch.float32\",\n",
    "    \"n_epoch\": 50,\n",
    "    \"patience\": 3,\n",
    "    \"criteria_for_best\": \"target_accuracy\",\n",
    "    \"x_net\": [\n",
    "        {\"class\": \"nnReshape\", \"kargs\": {\"shape\": [-1, 1, 2, 256]}},\n",
    "        {\n",
    "            \"class\": \"Conv2d\",\n",
    "            \"kargs\": {\n",
    "                \"in_channels\": 1,\n",
    "                \"out_channels\": 256,\n",
    "                \"kernel_size\": [1, 7],\n",
    "                \"bias\": False,\n",
    "                \"padding\": [0, 3],\n",
    "            },\n",
    "        },\n",
    "        {\"class\": \"ReLU\", \"kargs\": {\"inplace\": True}},\n",
    "        {\"class\": \"BatchNorm2d\", \"kargs\": {\"num_features\": 256}},\n",
    "        {\n",
    "            \"class\": \"Conv2d\",\n",
    "            \"kargs\": {\n",
    "                \"in_channels\": 256,\n",
    "                \"out_channels\": 80,\n",
    "                \"kernel_size\": [2, 7],\n",
    "                \"bias\": True,\n",
    "                \"padding\": [0, 3],\n",
    "            },\n",
    "        },\n",
    "        {\"class\": \"ReLU\", \"kargs\": {\"inplace\": True}},\n",
    "        {\"class\": \"BatchNorm2d\", \"kargs\": {\"num_features\": 80}},\n",
    "        {\"class\": \"Flatten\", \"kargs\": {}},\n",
    "        {\"class\": \"Linear\", \"kargs\": {\"in_features\": 20480, \"out_features\": 256}},\n",
    "        {\"class\": \"ReLU\", \"kargs\": {\"inplace\": True}},\n",
    "        {\"class\": \"BatchNorm1d\", \"kargs\": {\"num_features\": 256}},\n",
    "        {\"class\": \"Linear\", \"kargs\": {\"in_features\": 256, \"out_features\": 256}},\n",
    "    ],\n",
    "    \"NUM_LOGS_PER_EPOCH\": 10,\n",
    "    \"BEST_MODEL_PATH\": \"./best_model.pth\",\n",
    "    \"n_way\": 16,\n",
    "    \"datasets\": [\n",
    "        {\n",
    "            \"labels\": [\n",
    "                \"1-10\",\n",
    "                \"1-12\",\n",
    "                \"1-14\",\n",
    "                \"1-16\",\n",
    "                \"1-18\",\n",
    "                \"1-19\",\n",
    "                \"1-8\",\n",
    "                \"10-11\",\n",
    "                \"10-17\",\n",
    "                \"10-4\",\n",
    "                \"10-7\",\n",
    "                \"11-1\",\n",
    "                \"11-10\",\n",
    "                \"11-19\",\n",
    "                \"11-20\",\n",
    "                \"11-4\",\n",
    "                \"11-7\",\n",
    "                \"12-19\",\n",
    "                \"12-20\",\n",
    "                \"12-7\",\n",
    "                \"13-14\",\n",
    "                \"13-18\",\n",
    "                \"13-19\",\n",
    "                \"13-20\",\n",
    "                \"13-3\",\n",
    "                \"13-7\",\n",
    "                \"14-10\",\n",
    "                \"14-11\",\n",
    "                \"14-12\",\n",
    "                \"14-13\",\n",
    "                \"14-14\",\n",
    "                \"14-19\",\n",
    "                \"14-20\",\n",
    "                \"14-7\",\n",
    "                \"14-8\",\n",
    "                \"14-9\",\n",
    "                \"15-1\",\n",
    "                \"15-19\",\n",
    "                \"15-6\",\n",
    "                \"16-1\",\n",
    "                \"16-16\",\n",
    "                \"16-19\",\n",
    "                \"16-20\",\n",
    "                \"17-10\",\n",
    "                \"17-11\",\n",
    "                \"18-1\",\n",
    "                \"18-10\",\n",
    "                \"18-11\",\n",
    "                \"18-12\",\n",
    "                \"18-13\",\n",
    "                \"18-14\",\n",
    "                \"18-15\",\n",
    "                \"18-16\",\n",
    "                \"18-17\",\n",
    "                \"18-19\",\n",
    "                \"18-2\",\n",
    "                \"18-20\",\n",
    "                \"18-4\",\n",
    "                \"18-5\",\n",
    "                \"18-7\",\n",
    "                \"18-8\",\n",
    "                \"18-9\",\n",
    "                \"19-1\",\n",
    "                \"19-10\",\n",
    "                \"19-11\",\n",
    "                \"19-12\",\n",
    "                \"19-13\",\n",
    "                \"19-14\",\n",
    "                \"19-15\",\n",
    "                \"19-19\",\n",
    "                \"19-2\",\n",
    "                \"19-20\",\n",
    "                \"19-3\",\n",
    "                \"19-4\",\n",
    "                \"19-6\",\n",
    "                \"19-7\",\n",
    "                \"19-8\",\n",
    "                \"19-9\",\n",
    "                \"2-1\",\n",
    "                \"2-13\",\n",
    "                \"2-15\",\n",
    "                \"2-3\",\n",
    "                \"2-4\",\n",
    "                \"2-5\",\n",
    "                \"2-6\",\n",
    "                \"2-7\",\n",
    "                \"2-8\",\n",
    "                \"20-1\",\n",
    "                \"20-12\",\n",
    "                \"20-14\",\n",
    "                \"20-15\",\n",
    "                \"20-16\",\n",
    "                \"20-18\",\n",
    "                \"20-19\",\n",
    "                \"20-20\",\n",
    "                \"20-3\",\n",
    "                \"20-4\",\n",
    "                \"20-5\",\n",
    "                \"20-7\",\n",
    "                \"20-8\",\n",
    "                \"3-1\",\n",
    "                \"3-13\",\n",
    "                \"3-18\",\n",
    "                \"3-2\",\n",
    "                \"3-8\",\n",
    "                \"4-1\",\n",
    "                \"4-10\",\n",
    "                \"4-11\",\n",
    "                \"5-1\",\n",
    "                \"5-5\",\n",
    "                \"6-1\",\n",
    "                \"6-15\",\n",
    "                \"6-6\",\n",
    "                \"7-10\",\n",
    "                \"7-11\",\n",
    "                \"7-12\",\n",
    "                \"7-13\",\n",
    "                \"7-14\",\n",
    "                \"7-7\",\n",
    "                \"7-8\",\n",
    "                \"7-9\",\n",
    "                \"8-1\",\n",
    "                \"8-13\",\n",
    "                \"8-14\",\n",
    "                \"8-18\",\n",
    "                \"8-20\",\n",
    "                \"8-3\",\n",
    "                \"8-8\",\n",
    "                \"9-1\",\n",
    "                \"9-7\",\n",
    "            ],\n",
    "            \"domains\": [1, 2, 3, 4],\n",
    "            \"num_examples_per_domain_per_label\": -1,\n",
    "            \"pickle_path\": \"/root/csc500-main/datasets/wisig.node3-19.stratified_ds.2022A.pkl\",\n",
    "            \"source_or_target_dataset\": \"target\",\n",
    "            \"x_transforms\": [\"unit_mag\"],\n",
    "            \"episode_transforms\": [],\n",
    "            \"domain_prefix\": \"Wisig_\",\n",
    "        },\n",
    "        {\n",
    "            \"labels\": [\n",
    "                \"3123D52\",\n",
    "                \"3123D65\",\n",
    "                \"3123D79\",\n",
    "                \"3123D80\",\n",
    "                \"3123D54\",\n",
    "                \"3123D70\",\n",
    "                \"3123D7B\",\n",
    "                \"3123D89\",\n",
    "                \"3123D58\",\n",
    "                \"3123D76\",\n",
    "                \"3123D7D\",\n",
    "                \"3123EFE\",\n",
    "                \"3123D64\",\n",
    "                \"3123D78\",\n",
    "                \"3123D7E\",\n",
    "                \"3124E4A\",\n",
    "            ],\n",
    "            \"domains\": [32, 38, 8, 44, 14, 50, 20, 26],\n",
    "            \"num_examples_per_domain_per_label\": 10000,\n",
    "            \"pickle_path\": \"/root/csc500-main/datasets/oracle.Run1_10kExamples_stratified_ds.2022A.pkl\",\n",
    "            \"source_or_target_dataset\": \"source\",\n",
    "            \"x_transforms\": [\"unit_mag\"],\n",
    "            \"episode_transforms\": [],\n",
    "            \"domain_prefix\": \"ORACLE.run1\",\n",
    "        },\n",
    "    ],\n",
    "    \"dataset_seed\": 154325,\n",
    "    \"seed\": 154325,\n",
    "}\n"
   ]
  },
  {
   "cell_type": "code",
   "execution_count": 5,
   "id": "8fa1cc33",
   "metadata": {
    "execution": {
     "iopub.execute_input": "2022-03-23T23:16:43.050200Z",
     "iopub.status.busy": "2022-03-23T23:16:43.049040Z",
     "iopub.status.idle": "2022-03-23T23:16:43.075084Z",
     "shell.execute_reply": "2022-03-23T23:16:43.074338Z"
    },
    "papermill": {
     "duration": 0.055984,
     "end_time": "2022-03-23T23:16:43.075261",
     "exception": false,
     "start_time": "2022-03-23T23:16:43.019277",
     "status": "completed"
    },
    "tags": []
   },
   "outputs": [],
   "source": [
    "# Set this to True if you want to run this template directly\n",
    "STANDALONE = False\n",
    "if STANDALONE:\n",
    "    print(\"parameters not injected, running with standalone_parameters\")\n",
    "    parameters = standalone_parameters\n",
    "\n",
    "if not 'parameters' in locals() and not 'parameters' in globals():\n",
    "    raise Exception(\"Parameter injection failed\")\n",
    "\n",
    "#Use an easy dict for all the parameters\n",
    "p = EasyDict(parameters)\n",
    "\n",
    "if \"x_shape\" not in p:\n",
    "    p.x_shape = [2,256] # Default to this if we dont supply x_shape\n",
    "\n",
    "\n",
    "supplied_keys = set(p.keys())\n",
    "\n",
    "if  supplied_keys != required_parameters:\n",
    "    print(\"Parameters are incorrect\")\n",
    "    if len(supplied_keys - required_parameters)>0: print(\"Shouldn't have:\", str(supplied_keys - required_parameters))\n",
    "    if len(required_parameters - supplied_keys)>0: print(\"Need to have:\", str(required_parameters - supplied_keys))\n",
    "    raise RuntimeError(\"Parameters are incorrect\")"
   ]
  },
  {
   "cell_type": "code",
   "execution_count": 6,
   "id": "3a028d58",
   "metadata": {
    "execution": {
     "iopub.execute_input": "2022-03-23T23:16:43.125696Z",
     "iopub.status.busy": "2022-03-23T23:16:43.125321Z",
     "iopub.status.idle": "2022-03-23T23:16:43.153623Z",
     "shell.execute_reply": "2022-03-23T23:16:43.152835Z"
    },
    "papermill": {
     "duration": 0.051661,
     "end_time": "2022-03-23T23:16:43.153807",
     "exception": false,
     "start_time": "2022-03-23T23:16:43.102146",
     "status": "completed"
    },
    "tags": []
   },
   "outputs": [],
   "source": [
    "###################################\n",
    "# Set the RNGs and make it all deterministic\n",
    "###################################\n",
    "np.random.seed(p.seed)\n",
    "random.seed(p.seed)\n",
    "torch.manual_seed(p.seed)\n",
    "\n",
    "torch.use_deterministic_algorithms(True) "
   ]
  },
  {
   "cell_type": "code",
   "execution_count": 7,
   "id": "b691acf6",
   "metadata": {
    "execution": {
     "iopub.execute_input": "2022-03-23T23:16:43.203033Z",
     "iopub.status.busy": "2022-03-23T23:16:43.202622Z",
     "iopub.status.idle": "2022-03-23T23:16:43.228103Z",
     "shell.execute_reply": "2022-03-23T23:16:43.228780Z"
    },
    "papermill": {
     "duration": 0.049924,
     "end_time": "2022-03-23T23:16:43.228994",
     "exception": false,
     "start_time": "2022-03-23T23:16:43.179070",
     "status": "completed"
    },
    "tags": []
   },
   "outputs": [],
   "source": [
    "###########################################\n",
    "# The stratified datasets honor this\n",
    "###########################################\n",
    "torch.set_default_dtype(eval(p.torch_default_dtype))"
   ]
  },
  {
   "cell_type": "code",
   "execution_count": 8,
   "id": "b5fba671",
   "metadata": {
    "execution": {
     "iopub.execute_input": "2022-03-23T23:16:43.278757Z",
     "iopub.status.busy": "2022-03-23T23:16:43.278382Z",
     "iopub.status.idle": "2022-03-23T23:16:43.338027Z",
     "shell.execute_reply": "2022-03-23T23:16:43.338720Z"
    },
    "papermill": {
     "duration": 0.083654,
     "end_time": "2022-03-23T23:16:43.338957",
     "exception": false,
     "start_time": "2022-03-23T23:16:43.255303",
     "status": "completed"
    },
    "tags": []
   },
   "outputs": [],
   "source": [
    "###################################\n",
    "# Build the network(s)\n",
    "# Note: It's critical to do this AFTER setting the RNG\n",
    "###################################\n",
    "x_net = build_sequential(p.x_net)"
   ]
  },
  {
   "cell_type": "code",
   "execution_count": 9,
   "id": "5d7e61cc",
   "metadata": {
    "execution": {
     "iopub.execute_input": "2022-03-23T23:16:43.393657Z",
     "iopub.status.busy": "2022-03-23T23:16:43.393064Z",
     "iopub.status.idle": "2022-03-23T23:16:43.415009Z",
     "shell.execute_reply": "2022-03-23T23:16:43.414251Z"
    },
    "papermill": {
     "duration": 0.051225,
     "end_time": "2022-03-23T23:16:43.415190",
     "exception": false,
     "start_time": "2022-03-23T23:16:43.363965",
     "status": "completed"
    },
    "tags": []
   },
   "outputs": [],
   "source": [
    "start_time_secs = time.time()"
   ]
  },
  {
   "cell_type": "code",
   "execution_count": 10,
   "id": "c6b67dfd",
   "metadata": {
    "execution": {
     "iopub.execute_input": "2022-03-23T23:16:43.462532Z",
     "iopub.status.busy": "2022-03-23T23:16:43.462148Z",
     "iopub.status.idle": "2022-03-23T23:16:43.482612Z",
     "shell.execute_reply": "2022-03-23T23:16:43.483309Z"
    },
    "papermill": {
     "duration": 0.04351,
     "end_time": "2022-03-23T23:16:43.483507",
     "exception": false,
     "start_time": "2022-03-23T23:16:43.439997",
     "status": "completed"
    },
    "tags": []
   },
   "outputs": [],
   "source": [
    "p.domains_source = []\n",
    "p.domains_target = []\n",
    "\n",
    "\n",
    "train_original_source = []\n",
    "val_original_source   = []\n",
    "test_original_source  = []\n",
    "\n",
    "train_original_target = []\n",
    "val_original_target   = []\n",
    "test_original_target  = []"
   ]
  },
  {
   "cell_type": "code",
   "execution_count": 11,
   "id": "e3d9c3d3",
   "metadata": {
    "execution": {
     "iopub.execute_input": "2022-03-23T23:16:43.532386Z",
     "iopub.status.busy": "2022-03-23T23:16:43.532006Z",
     "iopub.status.idle": "2022-03-23T23:16:43.556404Z",
     "shell.execute_reply": "2022-03-23T23:16:43.557098Z"
    },
    "papermill": {
     "duration": 0.047285,
     "end_time": "2022-03-23T23:16:43.557298",
     "exception": false,
     "start_time": "2022-03-23T23:16:43.510013",
     "status": "completed"
    },
    "tags": []
   },
   "outputs": [],
   "source": [
    "# global_x_transform_func = lambda x: normalize(x.to(torch.get_default_dtype()), \"unit_power\") # unit_power, unit_mag\n",
    "# global_x_transform_func = lambda x: normalize(x, \"unit_power\") # unit_power, unit_mag"
   ]
  },
  {
   "cell_type": "code",
   "execution_count": 12,
   "id": "acb78fd2",
   "metadata": {
    "execution": {
     "iopub.execute_input": "2022-03-23T23:16:43.611651Z",
     "iopub.status.busy": "2022-03-23T23:16:43.611248Z",
     "iopub.status.idle": "2022-03-23T23:16:43.632673Z",
     "shell.execute_reply": "2022-03-23T23:16:43.633362Z"
    },
    "papermill": {
     "duration": 0.048478,
     "end_time": "2022-03-23T23:16:43.633560",
     "exception": false,
     "start_time": "2022-03-23T23:16:43.585082",
     "status": "completed"
    },
    "tags": []
   },
   "outputs": [],
   "source": [
    "def add_dataset(\n",
    "    labels,\n",
    "    domains,\n",
    "    pickle_path,\n",
    "    x_transforms,\n",
    "    episode_transforms,\n",
    "    domain_prefix,\n",
    "    num_examples_per_domain_per_label,\n",
    "    source_or_target_dataset:str,\n",
    "    iterator_seed=p.seed,\n",
    "    dataset_seed=p.dataset_seed,\n",
    "    n_shot=p.n_shot,\n",
    "    n_way=p.n_way,\n",
    "    n_query=p.n_query,\n",
    "    train_val_test_k_factors=(p.train_k_factor,p.val_k_factor,p.test_k_factor),\n",
    "):\n",
    "   \n",
    "    if x_transforms == []: x_transform = None\n",
    "    else: x_transform = get_chained_transform(x_transforms)\n",
    "    \n",
    "    if episode_transforms == []: episode_transform = None\n",
    "    else: raise Exception(\"episode_transforms not implemented\")\n",
    "    \n",
    "    episode_transform = lambda tup, _prefix=domain_prefix: (_prefix + str(tup[0]), tup[1])\n",
    "\n",
    "\n",
    "    eaf = Episodic_Accessor_Factory(\n",
    "        labels=labels,\n",
    "        domains=domains,\n",
    "        num_examples_per_domain_per_label=num_examples_per_domain_per_label,\n",
    "        iterator_seed=iterator_seed,\n",
    "        dataset_seed=dataset_seed,\n",
    "        n_shot=n_shot,\n",
    "        n_way=n_way,\n",
    "        n_query=n_query,\n",
    "        train_val_test_k_factors=train_val_test_k_factors,\n",
    "        pickle_path=pickle_path,\n",
    "        x_transform_func=x_transform,\n",
    "    )\n",
    "\n",
    "    train, val, test = eaf.get_train(), eaf.get_val(), eaf.get_test()\n",
    "    train = Lazy_Iterable_Wrapper(train, episode_transform)\n",
    "    val = Lazy_Iterable_Wrapper(val, episode_transform)\n",
    "    test = Lazy_Iterable_Wrapper(test, episode_transform)\n",
    "\n",
    "    if source_or_target_dataset==\"source\":\n",
    "        train_original_source.append(train)\n",
    "        val_original_source.append(val)\n",
    "        test_original_source.append(test)\n",
    "\n",
    "        p.domains_source.extend(\n",
    "            [domain_prefix + str(u) for u in domains]\n",
    "        )\n",
    "    elif source_or_target_dataset==\"target\":\n",
    "        train_original_target.append(train)\n",
    "        val_original_target.append(val)\n",
    "        test_original_target.append(test)\n",
    "        p.domains_target.extend(\n",
    "            [domain_prefix + str(u) for u in domains]\n",
    "        )\n",
    "    else:\n",
    "        raise Exception(f\"invalid source_or_target_dataset: {source_or_target_dataset}\")\n",
    "    "
   ]
  },
  {
   "cell_type": "code",
   "execution_count": 13,
   "id": "fe266617",
   "metadata": {
    "execution": {
     "iopub.execute_input": "2022-03-23T23:16:43.681898Z",
     "iopub.status.busy": "2022-03-23T23:16:43.681520Z",
     "iopub.status.idle": "2022-03-23T23:18:58.516696Z",
     "shell.execute_reply": "2022-03-23T23:18:58.517384Z"
    },
    "papermill": {
     "duration": 134.858438,
     "end_time": "2022-03-23T23:18:58.517617",
     "exception": false,
     "start_time": "2022-03-23T23:16:43.659179",
     "status": "completed"
    },
    "tags": []
   },
   "outputs": [],
   "source": [
    "for ds in p.datasets:\n",
    "    add_dataset(**ds)"
   ]
  },
  {
   "cell_type": "code",
   "execution_count": 14,
   "id": "b90d65ac",
   "metadata": {
    "execution": {
     "iopub.execute_input": "2022-03-23T23:18:58.566361Z",
     "iopub.status.busy": "2022-03-23T23:18:58.565972Z",
     "iopub.status.idle": "2022-03-23T23:18:58.587419Z",
     "shell.execute_reply": "2022-03-23T23:18:58.586676Z"
    },
    "papermill": {
     "duration": 0.045203,
     "end_time": "2022-03-23T23:18:58.587631",
     "exception": false,
     "start_time": "2022-03-23T23:18:58.542428",
     "status": "completed"
    },
    "tags": []
   },
   "outputs": [],
   "source": [
    "# from steves_utils.CORES.utils import (\n",
    "#     ALL_NODES,\n",
    "#     ALL_NODES_MINIMUM_1000_EXAMPLES,\n",
    "#     ALL_DAYS\n",
    "# )\n",
    "\n",
    "# add_dataset(\n",
    "#     labels=ALL_NODES,\n",
    "#     domains = ALL_DAYS,\n",
    "#     num_examples_per_domain_per_label=100,\n",
    "#     pickle_path=os.path.join(get_datasets_base_path(), \"cores.stratified_ds.2022A.pkl\"),\n",
    "#     source_or_target_dataset=\"target\",\n",
    "#     x_transform_func=global_x_transform_func,\n",
    "#     domain_modifier=lambda u: f\"cores_{u}\"\n",
    "# )"
   ]
  },
  {
   "cell_type": "code",
   "execution_count": 15,
   "id": "76db484d",
   "metadata": {
    "execution": {
     "iopub.execute_input": "2022-03-23T23:18:58.640063Z",
     "iopub.status.busy": "2022-03-23T23:18:58.639672Z",
     "iopub.status.idle": "2022-03-23T23:18:58.656032Z",
     "shell.execute_reply": "2022-03-23T23:18:58.655158Z"
    },
    "papermill": {
     "duration": 0.040395,
     "end_time": "2022-03-23T23:18:58.656213",
     "exception": false,
     "start_time": "2022-03-23T23:18:58.615818",
     "status": "completed"
    },
    "tags": []
   },
   "outputs": [],
   "source": [
    "# from steves_utils.ORACLE.utils_v2 import (\n",
    "#     ALL_DISTANCES_FEET,\n",
    "#     ALL_RUNS,\n",
    "#     ALL_SERIAL_NUMBERS,\n",
    "# )\n",
    "\n",
    "\n",
    "# add_dataset(\n",
    "#     labels=ALL_SERIAL_NUMBERS,\n",
    "#     domains = list(set(ALL_DISTANCES_FEET) - {2,62}),\n",
    "#     num_examples_per_domain_per_label=100,\n",
    "#     pickle_path=os.path.join(get_datasets_base_path(), \"oracle.Run2_framed_2000Examples_stratified_ds.2022A.pkl\"),\n",
    "#     source_or_target_dataset=\"source\",\n",
    "#     x_transform_func=global_x_transform_func,\n",
    "#     domain_modifier=lambda u: f\"oracle1_{u}\"\n",
    "# )\n"
   ]
  },
  {
   "cell_type": "code",
   "execution_count": 16,
   "id": "97dea9d2",
   "metadata": {
    "execution": {
     "iopub.execute_input": "2022-03-23T23:18:58.705884Z",
     "iopub.status.busy": "2022-03-23T23:18:58.705496Z",
     "iopub.status.idle": "2022-03-23T23:18:58.725506Z",
     "shell.execute_reply": "2022-03-23T23:18:58.724770Z"
    },
    "papermill": {
     "duration": 0.04392,
     "end_time": "2022-03-23T23:18:58.725679",
     "exception": false,
     "start_time": "2022-03-23T23:18:58.681759",
     "status": "completed"
    },
    "tags": []
   },
   "outputs": [],
   "source": [
    "# from steves_utils.ORACLE.utils_v2 import (\n",
    "#     ALL_DISTANCES_FEET,\n",
    "#     ALL_RUNS,\n",
    "#     ALL_SERIAL_NUMBERS,\n",
    "# )\n",
    "\n",
    "\n",
    "# add_dataset(\n",
    "#     labels=ALL_SERIAL_NUMBERS,\n",
    "#     domains = list(set(ALL_DISTANCES_FEET) - {2,62,56}),\n",
    "#     num_examples_per_domain_per_label=100,\n",
    "#     pickle_path=os.path.join(get_datasets_base_path(), \"oracle.Run2_framed_2000Examples_stratified_ds.2022A.pkl\"),\n",
    "#     source_or_target_dataset=\"source\",\n",
    "#     x_transform_func=global_x_transform_func,\n",
    "#     domain_modifier=lambda u: f\"oracle2_{u}\"\n",
    "# )"
   ]
  },
  {
   "cell_type": "code",
   "execution_count": 17,
   "id": "6f289866",
   "metadata": {
    "execution": {
     "iopub.execute_input": "2022-03-23T23:18:58.775347Z",
     "iopub.status.busy": "2022-03-23T23:18:58.774969Z",
     "iopub.status.idle": "2022-03-23T23:18:58.790280Z",
     "shell.execute_reply": "2022-03-23T23:18:58.790974Z"
    },
    "papermill": {
     "duration": 0.038764,
     "end_time": "2022-03-23T23:18:58.791157",
     "exception": false,
     "start_time": "2022-03-23T23:18:58.752393",
     "status": "completed"
    },
    "tags": []
   },
   "outputs": [],
   "source": [
    "# add_dataset(\n",
    "#     labels=list(range(19)),\n",
    "#     domains = [0,1,2],\n",
    "#     num_examples_per_domain_per_label=100,\n",
    "#     pickle_path=os.path.join(get_datasets_base_path(), \"metehan.stratified_ds.2022A.pkl\"),\n",
    "#     source_or_target_dataset=\"target\",\n",
    "#     x_transform_func=global_x_transform_func,\n",
    "#     domain_modifier=lambda u: f\"met_{u}\"\n",
    "# )"
   ]
  },
  {
   "cell_type": "code",
   "execution_count": 18,
   "id": "86a863c3",
   "metadata": {
    "execution": {
     "iopub.execute_input": "2022-03-23T23:18:58.845524Z",
     "iopub.status.busy": "2022-03-23T23:18:58.844947Z",
     "iopub.status.idle": "2022-03-23T23:18:58.864455Z",
     "shell.execute_reply": "2022-03-23T23:18:58.865148Z"
    },
    "papermill": {
     "duration": 0.044371,
     "end_time": "2022-03-23T23:18:58.865330",
     "exception": false,
     "start_time": "2022-03-23T23:18:58.820959",
     "status": "completed"
    },
    "tags": []
   },
   "outputs": [],
   "source": [
    "# # from steves_utils.wisig.utils import (\n",
    "# #     ALL_NODES_MINIMUM_100_EXAMPLES,\n",
    "# #     ALL_NODES_MINIMUM_500_EXAMPLES,\n",
    "# #     ALL_NODES_MINIMUM_1000_EXAMPLES,\n",
    "# #     ALL_DAYS\n",
    "# # )\n",
    "\n",
    "# import steves_utils.wisig.utils as wisig\n",
    "\n",
    "\n",
    "# add_dataset(\n",
    "#     labels=wisig.ALL_NODES_MINIMUM_100_EXAMPLES,\n",
    "#     domains = wisig.ALL_DAYS,\n",
    "#     num_examples_per_domain_per_label=100,\n",
    "#     pickle_path=os.path.join(get_datasets_base_path(), \"wisig.node3-19.stratified_ds.2022A.pkl\"),\n",
    "#     source_or_target_dataset=\"target\",\n",
    "#     x_transform_func=global_x_transform_func,\n",
    "#     domain_modifier=lambda u: f\"wisig_{u}\"\n",
    "# )"
   ]
  },
  {
   "cell_type": "code",
   "execution_count": 19,
   "id": "fd5442bc",
   "metadata": {
    "execution": {
     "iopub.execute_input": "2022-03-23T23:18:58.917380Z",
     "iopub.status.busy": "2022-03-23T23:18:58.914303Z",
     "iopub.status.idle": "2022-03-23T23:18:58.934238Z",
     "shell.execute_reply": "2022-03-23T23:18:58.934925Z"
    },
    "papermill": {
     "duration": 0.043103,
     "end_time": "2022-03-23T23:18:58.935105",
     "exception": false,
     "start_time": "2022-03-23T23:18:58.892002",
     "status": "completed"
    },
    "tags": []
   },
   "outputs": [],
   "source": [
    "###################################\n",
    "# Build the dataset\n",
    "###################################\n",
    "train_original_source = Iterable_Aggregator(train_original_source, p.seed)\n",
    "val_original_source = Iterable_Aggregator(val_original_source, p.seed)\n",
    "test_original_source = Iterable_Aggregator(test_original_source, p.seed)\n",
    "\n",
    "\n",
    "train_original_target = Iterable_Aggregator(train_original_target, p.seed)\n",
    "val_original_target = Iterable_Aggregator(val_original_target, p.seed)\n",
    "test_original_target = Iterable_Aggregator(test_original_target, p.seed)\n",
    "\n",
    "# For CNN We only use X and Y. And we only train on the source.\n",
    "# Properly form the data using a transform lambda and Lazy_Iterable_Wrapper. Finally wrap them in a dataloader\n",
    "\n",
    "transform_lambda = lambda ex: ex[1] # Original is (<domain>, <episode>) so we strip down to episode only\n",
    "\n",
    "train_processed_source = Lazy_Iterable_Wrapper(train_original_source, transform_lambda)\n",
    "val_processed_source   = Lazy_Iterable_Wrapper(val_original_source, transform_lambda)\n",
    "test_processed_source  = Lazy_Iterable_Wrapper(test_original_source, transform_lambda)\n",
    "\n",
    "train_processed_target = Lazy_Iterable_Wrapper(train_original_target, transform_lambda)\n",
    "val_processed_target   = Lazy_Iterable_Wrapper(val_original_target, transform_lambda)\n",
    "test_processed_target  = Lazy_Iterable_Wrapper(test_original_target, transform_lambda)\n",
    "\n",
    "datasets = EasyDict({\n",
    "    \"source\": {\n",
    "        \"original\": {\"train\":train_original_source, \"val\":val_original_source, \"test\":test_original_source},\n",
    "        \"processed\": {\"train\":train_processed_source, \"val\":val_processed_source, \"test\":test_processed_source}\n",
    "    },\n",
    "    \"target\": {\n",
    "        \"original\": {\"train\":train_original_target, \"val\":val_original_target, \"test\":test_original_target},\n",
    "        \"processed\": {\"train\":train_processed_target, \"val\":val_processed_target, \"test\":test_processed_target}\n",
    "    },\n",
    "})"
   ]
  },
  {
   "cell_type": "code",
   "execution_count": 20,
   "id": "5b3c01fc",
   "metadata": {
    "execution": {
     "iopub.execute_input": "2022-03-23T23:18:58.988194Z",
     "iopub.status.busy": "2022-03-23T23:18:58.987810Z",
     "iopub.status.idle": "2022-03-23T23:19:32.712994Z",
     "shell.execute_reply": "2022-03-23T23:19:32.713819Z"
    },
    "papermill": {
     "duration": 33.750904,
     "end_time": "2022-03-23T23:19:32.714043",
     "exception": false,
     "start_time": "2022-03-23T23:18:58.963139",
     "status": "completed"
    },
    "tags": []
   },
   "outputs": [
    {
     "name": "stdout",
     "output_type": "stream",
     "text": [
      "{'ORACLE.run138', 'ORACLE.run132', 'ORACLE.run114', 'ORACLE.run18', 'ORACLE.run126', 'ORACLE.run150', 'ORACLE.run120', 'ORACLE.run144'}\n"
     ]
    },
    {
     "name": "stdout",
     "output_type": "stream",
     "text": [
      "{'Wisig_3', 'Wisig_4', 'Wisig_2', 'Wisig_1'}\n"
     ]
    },
    {
     "name": "stdout",
     "output_type": "stream",
     "text": [
      "tensor([[[ 0.6692, -0.3973, -0.7006,  ..., -0.0784,  0.4915, -1.2966],\n",
      "         [ 0.7267,  0.2039,  0.3764,  ...,  0.8470, -0.0157, -1.4691]],\n",
      "\n",
      "        [[ 1.2593,  1.0722, -0.8598,  ...,  0.3742,  0.0455, -1.1480],\n",
      "         [ 0.1720, -0.1720,  1.0722,  ...,  0.1416, -0.5917, -0.6018]],\n",
      "\n",
      "        [[-0.4634, -0.3004, -0.5347,  ..., -0.3208,  0.3310,  0.8911],\n",
      "         [ 1.0897, -0.2190, -0.6671,  ...,  1.0184, -0.1018, -0.5550]],\n",
      "\n",
      "        ...,\n",
      "\n",
      "        [[ 0.7662, -0.5005, -2.0328,  ..., -0.2595,  0.7353,  0.6426],\n",
      "         [-0.8094, -0.1298,  0.9330,  ...,  1.1492,  1.0071, -1.6868]],\n",
      "\n",
      "        [[-0.4735,  0.1686, -0.1492,  ..., -0.9923, -0.7848, -0.8042],\n",
      "         [-0.9729,  0.1751,  2.4711,  ...,  0.0389,  0.0973,  0.2270]],\n",
      "\n",
      "        [[ 0.4190,  0.3635, -0.5977,  ..., -1.1830, -0.7702,  1.5095],\n",
      "         [ 0.9119, -0.7763, -1.9470,  ..., -0.5853,  0.5360,  1.1029]]])\n"
     ]
    }
   ],
   "source": [
    "from steves_utils.transforms import get_average_magnitude, get_average_power\n",
    "\n",
    "print(set([u for u,_ in val_original_source]))\n",
    "print(set([u for u,_ in val_original_target]))\n",
    "\n",
    "s_x, s_y, q_x, q_y, _ = next(iter(train_processed_source))\n",
    "print(s_x)\n",
    "\n",
    "# for ds in [\n",
    "#     train_processed_source,\n",
    "#     val_processed_source,\n",
    "#     test_processed_source,\n",
    "#     train_processed_target,\n",
    "#     val_processed_target,\n",
    "#     test_processed_target\n",
    "# ]:\n",
    "#     for s_x, s_y, q_x, q_y, _ in ds:\n",
    "#         for X in (s_x, q_x):\n",
    "#             for x in X:\n",
    "#                 assert np.isclose(get_average_magnitude(x.numpy()), 1.0)\n",
    "#                 assert np.isclose(get_average_power(x.numpy()), 1.0)\n",
    "                "
   ]
  },
  {
   "cell_type": "code",
   "execution_count": 21,
   "id": "bbdacba1",
   "metadata": {
    "execution": {
     "iopub.execute_input": "2022-03-23T23:19:32.767227Z",
     "iopub.status.busy": "2022-03-23T23:19:32.766846Z",
     "iopub.status.idle": "2022-03-23T23:19:32.982399Z",
     "shell.execute_reply": "2022-03-23T23:19:32.983098Z"
    },
    "papermill": {
     "duration": 0.243771,
     "end_time": "2022-03-23T23:19:32.983349",
     "exception": false,
     "start_time": "2022-03-23T23:19:32.739578",
     "status": "completed"
    },
    "tags": []
   },
   "outputs": [
    {
     "name": "stdout",
     "output_type": "stream",
     "text": [
      "(2, 256)\n"
     ]
    }
   ],
   "source": [
    "###################################\n",
    "# Build the model\n",
    "###################################\n",
    "# easfsl only wants a tuple for the shape\n",
    "model = Steves_Prototypical_Network(x_net, device=p.device, x_shape=tuple(p.x_shape))\n",
    "optimizer = Adam(params=model.parameters(), lr=p.lr)"
   ]
  },
  {
   "cell_type": "code",
   "execution_count": 22,
   "id": "22b39ac5",
   "metadata": {
    "execution": {
     "iopub.execute_input": "2022-03-23T23:19:33.041402Z",
     "iopub.status.busy": "2022-03-23T23:19:33.040737Z",
     "iopub.status.idle": "2022-03-24T02:50:56.893159Z",
     "shell.execute_reply": "2022-03-24T02:50:56.892806Z"
    },
    "papermill": {
     "duration": 12683.879939,
     "end_time": "2022-03-24T02:50:56.893242",
     "exception": false,
     "start_time": "2022-03-23T23:19:33.013303",
     "status": "completed"
    },
    "tags": []
   },
   "outputs": [
    {
     "name": "stdout",
     "output_type": "stream",
     "text": [
      "epoch: 1, [batch: 1 / 33600], examples_per_second: 6.4674, train_label_loss: 2.7701, \n"
     ]
    },
    {
     "name": "stdout",
     "output_type": "stream",
     "text": [
      "epoch: 1, [batch: 3360 / 33600], examples_per_second: 2973.6516, train_label_loss: 1.3567, \n"
     ]
    },
    {
     "name": "stdout",
     "output_type": "stream",
     "text": [
      "epoch: 1, [batch: 6720 / 33600], examples_per_second: 3327.4329, train_label_loss: 0.7451, \n"
     ]
    },
    {
     "name": "stdout",
     "output_type": "stream",
     "text": [
      "epoch: 1, [batch: 10080 / 33600], examples_per_second: 3419.0170, train_label_loss: 1.3156, \n"
     ]
    },
    {
     "name": "stdout",
     "output_type": "stream",
     "text": [
      "epoch: 1, [batch: 13440 / 33600], examples_per_second: 2960.6091, train_label_loss: 0.7322, \n"
     ]
    },
    {
     "name": "stdout",
     "output_type": "stream",
     "text": [
      "epoch: 1, [batch: 16800 / 33600], examples_per_second: 2955.2972, train_label_loss: 0.9403, \n"
     ]
    },
    {
     "name": "stdout",
     "output_type": "stream",
     "text": [
      "epoch: 1, [batch: 20160 / 33600], examples_per_second: 2957.7432, train_label_loss: 0.6185, \n"
     ]
    },
    {
     "name": "stdout",
     "output_type": "stream",
     "text": [
      "epoch: 1, [batch: 23520 / 33600], examples_per_second: 2958.1893, train_label_loss: 0.4745, \n"
     ]
    },
    {
     "name": "stdout",
     "output_type": "stream",
     "text": [
      "epoch: 1, [batch: 26880 / 33600], examples_per_second: 3352.1530, train_label_loss: 0.5216, \n"
     ]
    },
    {
     "name": "stdout",
     "output_type": "stream",
     "text": [
      "epoch: 1, [batch: 30240 / 33600], examples_per_second: 3429.1106, train_label_loss: 1.1695, \n"
     ]
    },
    {
     "name": "stdout",
     "output_type": "stream",
     "text": [
      "=============================================================\n",
      "epoch: 1, source_val_acc_label: 0.6560, target_val_acc_label: 0.6894, source_val_label_loss: 0.9977, target_val_label_loss: 9.4951, \n",
      "=============================================================\n"
     ]
    },
    {
     "name": "stdout",
     "output_type": "stream",
     "text": [
      "New best\n"
     ]
    },
    {
     "name": "stdout",
     "output_type": "stream",
     "text": [
      "epoch: 2, [batch: 1 / 33600], examples_per_second: 0.7297, train_label_loss: 0.5371, \n"
     ]
    },
    {
     "name": "stdout",
     "output_type": "stream",
     "text": [
      "epoch: 2, [batch: 3360 / 33600], examples_per_second: 3061.0573, train_label_loss: 0.6407, \n"
     ]
    },
    {
     "name": "stdout",
     "output_type": "stream",
     "text": [
      "epoch: 2, [batch: 6720 / 33600], examples_per_second: 3383.0474, train_label_loss: 0.7006, \n"
     ]
    },
    {
     "name": "stdout",
     "output_type": "stream",
     "text": [
      "epoch: 2, [batch: 10080 / 33600], examples_per_second: 3441.9080, train_label_loss: 0.6429, \n"
     ]
    },
    {
     "name": "stdout",
     "output_type": "stream",
     "text": [
      "epoch: 2, [batch: 13440 / 33600], examples_per_second: 2979.9610, train_label_loss: 0.7273, \n"
     ]
    },
    {
     "name": "stdout",
     "output_type": "stream",
     "text": [
      "epoch: 2, [batch: 16800 / 33600], examples_per_second: 2969.1239, train_label_loss: 0.9292, \n"
     ]
    },
    {
     "name": "stdout",
     "output_type": "stream",
     "text": [
      "epoch: 2, [batch: 20160 / 33600], examples_per_second: 3019.1359, train_label_loss: 0.4843, \n"
     ]
    },
    {
     "name": "stdout",
     "output_type": "stream",
     "text": [
      "epoch: 2, [batch: 23520 / 33600], examples_per_second: 2988.2697, train_label_loss: 0.8385, \n"
     ]
    },
    {
     "name": "stdout",
     "output_type": "stream",
     "text": [
      "epoch: 2, [batch: 26880 / 33600], examples_per_second: 3341.5952, train_label_loss: 0.4784, \n"
     ]
    },
    {
     "name": "stdout",
     "output_type": "stream",
     "text": [
      "epoch: 2, [batch: 30240 / 33600], examples_per_second: 3509.6328, train_label_loss: 0.6585, \n"
     ]
    },
    {
     "name": "stdout",
     "output_type": "stream",
     "text": [
      "=============================================================\n",
      "epoch: 2, source_val_acc_label: 0.6737, target_val_acc_label: 0.7192, source_val_label_loss: 0.8563, target_val_label_loss: 6.8455, \n",
      "=============================================================\n"
     ]
    },
    {
     "name": "stdout",
     "output_type": "stream",
     "text": [
      "New best\n"
     ]
    },
    {
     "name": "stdout",
     "output_type": "stream",
     "text": [
      "epoch: 3, [batch: 1 / 33600], examples_per_second: 0.7228, train_label_loss: 1.2718, \n"
     ]
    },
    {
     "name": "stdout",
     "output_type": "stream",
     "text": [
      "epoch: 3, [batch: 3360 / 33600], examples_per_second: 3040.0422, train_label_loss: 0.7458, \n"
     ]
    },
    {
     "name": "stdout",
     "output_type": "stream",
     "text": [
      "epoch: 3, [batch: 6720 / 33600], examples_per_second: 3402.1434, train_label_loss: 0.9989, \n"
     ]
    },
    {
     "name": "stdout",
     "output_type": "stream",
     "text": [
      "epoch: 3, [batch: 10080 / 33600], examples_per_second: 3364.1505, train_label_loss: 1.2537, \n"
     ]
    },
    {
     "name": "stdout",
     "output_type": "stream",
     "text": [
      "epoch: 3, [batch: 13440 / 33600], examples_per_second: 2989.1936, train_label_loss: 0.4935, \n"
     ]
    },
    {
     "name": "stdout",
     "output_type": "stream",
     "text": [
      "epoch: 3, [batch: 16800 / 33600], examples_per_second: 2995.7042, train_label_loss: 0.5944, \n"
     ]
    },
    {
     "name": "stdout",
     "output_type": "stream",
     "text": [
      "epoch: 3, [batch: 20160 / 33600], examples_per_second: 3002.2156, train_label_loss: 0.7815, \n"
     ]
    },
    {
     "name": "stdout",
     "output_type": "stream",
     "text": [
      "epoch: 3, [batch: 23520 / 33600], examples_per_second: 2985.5401, train_label_loss: 1.0556, \n"
     ]
    },
    {
     "name": "stdout",
     "output_type": "stream",
     "text": [
      "epoch: 3, [batch: 26880 / 33600], examples_per_second: 3389.9016, train_label_loss: 0.8201, \n"
     ]
    },
    {
     "name": "stdout",
     "output_type": "stream",
     "text": [
      "epoch: 3, [batch: 30240 / 33600], examples_per_second: 3496.1290, train_label_loss: 0.5962, \n"
     ]
    },
    {
     "name": "stdout",
     "output_type": "stream",
     "text": [
      "=============================================================\n",
      "epoch: 3, source_val_acc_label: 0.7026, target_val_acc_label: 0.7411, source_val_label_loss: 0.8108, target_val_label_loss: 8.0566, \n",
      "=============================================================\n"
     ]
    },
    {
     "name": "stdout",
     "output_type": "stream",
     "text": [
      "New best\n"
     ]
    },
    {
     "name": "stdout",
     "output_type": "stream",
     "text": [
      "epoch: 4, [batch: 1 / 33600], examples_per_second: 0.7238, train_label_loss: 0.3628, \n"
     ]
    },
    {
     "name": "stdout",
     "output_type": "stream",
     "text": [
      "epoch: 4, [batch: 3360 / 33600], examples_per_second: 3060.9431, train_label_loss: 1.2887, \n"
     ]
    },
    {
     "name": "stdout",
     "output_type": "stream",
     "text": [
      "epoch: 4, [batch: 6720 / 33600], examples_per_second: 3393.5476, train_label_loss: 0.5265, \n"
     ]
    },
    {
     "name": "stdout",
     "output_type": "stream",
     "text": [
      "epoch: 4, [batch: 10080 / 33600], examples_per_second: 3345.6026, train_label_loss: 0.4481, \n"
     ]
    },
    {
     "name": "stdout",
     "output_type": "stream",
     "text": [
      "epoch: 4, [batch: 13440 / 33600], examples_per_second: 2978.1290, train_label_loss: 0.8365, \n"
     ]
    },
    {
     "name": "stdout",
     "output_type": "stream",
     "text": [
      "epoch: 4, [batch: 16800 / 33600], examples_per_second: 3005.3786, train_label_loss: 0.4416, \n"
     ]
    },
    {
     "name": "stdout",
     "output_type": "stream",
     "text": [
      "epoch: 4, [batch: 20160 / 33600], examples_per_second: 3036.8342, train_label_loss: 0.9686, \n"
     ]
    },
    {
     "name": "stdout",
     "output_type": "stream",
     "text": [
      "epoch: 4, [batch: 23520 / 33600], examples_per_second: 2973.8754, train_label_loss: 0.7156, \n"
     ]
    },
    {
     "name": "stdout",
     "output_type": "stream",
     "text": [
      "epoch: 4, [batch: 26880 / 33600], examples_per_second: 3388.9259, train_label_loss: 0.5305, \n"
     ]
    },
    {
     "name": "stdout",
     "output_type": "stream",
     "text": [
      "epoch: 4, [batch: 30240 / 33600], examples_per_second: 3491.6595, train_label_loss: 0.7455, \n"
     ]
    },
    {
     "name": "stdout",
     "output_type": "stream",
     "text": [
      "=============================================================\n",
      "epoch: 4, source_val_acc_label: 0.7248, target_val_acc_label: 0.7616, source_val_label_loss: 0.7553, target_val_label_loss: 8.0908, \n",
      "=============================================================\n"
     ]
    },
    {
     "name": "stdout",
     "output_type": "stream",
     "text": [
      "New best\n"
     ]
    },
    {
     "name": "stdout",
     "output_type": "stream",
     "text": [
      "epoch: 5, [batch: 1 / 33600], examples_per_second: 0.7301, train_label_loss: 0.8193, \n"
     ]
    },
    {
     "name": "stdout",
     "output_type": "stream",
     "text": [
      "epoch: 5, [batch: 3360 / 33600], examples_per_second: 3069.9560, train_label_loss: 0.4684, \n"
     ]
    },
    {
     "name": "stdout",
     "output_type": "stream",
     "text": [
      "epoch: 5, [batch: 6720 / 33600], examples_per_second: 3410.4306, train_label_loss: 0.6311, \n"
     ]
    },
    {
     "name": "stdout",
     "output_type": "stream",
     "text": [
      "epoch: 5, [batch: 10080 / 33600], examples_per_second: 3358.3769, train_label_loss: 0.8954, \n"
     ]
    },
    {
     "name": "stdout",
     "output_type": "stream",
     "text": [
      "epoch: 5, [batch: 13440 / 33600], examples_per_second: 3406.4947, train_label_loss: 0.6556, \n"
     ]
    },
    {
     "name": "stdout",
     "output_type": "stream",
     "text": [
      "epoch: 5, [batch: 16800 / 33600], examples_per_second: 3384.6534, train_label_loss: 0.2832, \n"
     ]
    },
    {
     "name": "stdout",
     "output_type": "stream",
     "text": [
      "epoch: 5, [batch: 20160 / 33600], examples_per_second: 3396.8476, train_label_loss: 0.5059, \n"
     ]
    },
    {
     "name": "stdout",
     "output_type": "stream",
     "text": [
      "epoch: 5, [batch: 23520 / 33600], examples_per_second: 3349.0252, train_label_loss: 0.5768, \n"
     ]
    },
    {
     "name": "stdout",
     "output_type": "stream",
     "text": [
      "epoch: 5, [batch: 26880 / 33600], examples_per_second: 4410.0244, train_label_loss: 0.2601, \n"
     ]
    },
    {
     "name": "stdout",
     "output_type": "stream",
     "text": [
      "epoch: 5, [batch: 30240 / 33600], examples_per_second: 4396.9793, train_label_loss: 0.5387, \n"
     ]
    },
    {
     "name": "stdout",
     "output_type": "stream",
     "text": [
      "=============================================================\n",
      "epoch: 5, source_val_acc_label: 0.7354, target_val_acc_label: 0.7693, source_val_label_loss: 0.7347, target_val_label_loss: 8.7434, \n",
      "=============================================================\n"
     ]
    },
    {
     "name": "stdout",
     "output_type": "stream",
     "text": [
      "New best\n"
     ]
    },
    {
     "name": "stdout",
     "output_type": "stream",
     "text": [
      "epoch: 6, [batch: 1 / 33600], examples_per_second: 1.0015, train_label_loss: 1.0489, \n"
     ]
    },
    {
     "name": "stdout",
     "output_type": "stream",
     "text": [
      "epoch: 6, [batch: 3360 / 33600], examples_per_second: 3909.4363, train_label_loss: 0.2993, \n"
     ]
    },
    {
     "name": "stdout",
     "output_type": "stream",
     "text": [
      "epoch: 6, [batch: 6720 / 33600], examples_per_second: 3062.0772, train_label_loss: 0.5711, \n"
     ]
    },
    {
     "name": "stdout",
     "output_type": "stream",
     "text": [
      "epoch: 6, [batch: 10080 / 33600], examples_per_second: 3001.2863, train_label_loss: 0.8070, \n"
     ]
    },
    {
     "name": "stdout",
     "output_type": "stream",
     "text": [
      "epoch: 6, [batch: 13440 / 33600], examples_per_second: 2981.6599, train_label_loss: 0.4307, \n"
     ]
    },
    {
     "name": "stdout",
     "output_type": "stream",
     "text": [
      "epoch: 6, [batch: 16800 / 33600], examples_per_second: 3008.5034, train_label_loss: 0.5333, \n"
     ]
    },
    {
     "name": "stdout",
     "output_type": "stream",
     "text": [
      "epoch: 6, [batch: 20160 / 33600], examples_per_second: 3014.0048, train_label_loss: 0.5441, \n"
     ]
    },
    {
     "name": "stdout",
     "output_type": "stream",
     "text": [
      "epoch: 6, [batch: 23520 / 33600], examples_per_second: 2984.7754, train_label_loss: 0.2919, \n"
     ]
    },
    {
     "name": "stdout",
     "output_type": "stream",
     "text": [
      "epoch: 6, [batch: 26880 / 33600], examples_per_second: 3395.3032, train_label_loss: 0.7663, \n"
     ]
    },
    {
     "name": "stdout",
     "output_type": "stream",
     "text": [
      "epoch: 6, [batch: 30240 / 33600], examples_per_second: 3430.4291, train_label_loss: 0.5172, \n"
     ]
    },
    {
     "name": "stdout",
     "output_type": "stream",
     "text": [
      "=============================================================\n",
      "epoch: 6, source_val_acc_label: 0.7274, target_val_acc_label: 0.7750, source_val_label_loss: 0.7346, target_val_label_loss: 8.4138, \n",
      "=============================================================\n"
     ]
    },
    {
     "name": "stdout",
     "output_type": "stream",
     "text": [
      "New best\n"
     ]
    },
    {
     "name": "stdout",
     "output_type": "stream",
     "text": [
      "epoch: 7, [batch: 1 / 33600], examples_per_second: 0.7269, train_label_loss: 0.7888, \n"
     ]
    },
    {
     "name": "stdout",
     "output_type": "stream",
     "text": [
      "epoch: 7, [batch: 3360 / 33600], examples_per_second: 3606.9156, train_label_loss: 0.3899, \n"
     ]
    },
    {
     "name": "stdout",
     "output_type": "stream",
     "text": [
      "epoch: 7, [batch: 6720 / 33600], examples_per_second: 3011.0591, train_label_loss: 0.5176, \n"
     ]
    },
    {
     "name": "stdout",
     "output_type": "stream",
     "text": [
      "epoch: 7, [batch: 10080 / 33600], examples_per_second: 2998.3164, train_label_loss: 0.3982, \n"
     ]
    },
    {
     "name": "stdout",
     "output_type": "stream",
     "text": [
      "epoch: 7, [batch: 13440 / 33600], examples_per_second: 2999.1174, train_label_loss: 0.2798, \n"
     ]
    },
    {
     "name": "stdout",
     "output_type": "stream",
     "text": [
      "epoch: 7, [batch: 16800 / 33600], examples_per_second: 2995.7025, train_label_loss: 0.2372, \n"
     ]
    },
    {
     "name": "stdout",
     "output_type": "stream",
     "text": [
      "epoch: 7, [batch: 20160 / 33600], examples_per_second: 2998.0227, train_label_loss: 0.3959, \n"
     ]
    },
    {
     "name": "stdout",
     "output_type": "stream",
     "text": [
      "epoch: 7, [batch: 23520 / 33600], examples_per_second: 2972.7750, train_label_loss: 0.5668, \n"
     ]
    },
    {
     "name": "stdout",
     "output_type": "stream",
     "text": [
      "epoch: 7, [batch: 26880 / 33600], examples_per_second: 3367.7224, train_label_loss: 0.5110, \n"
     ]
    },
    {
     "name": "stdout",
     "output_type": "stream",
     "text": [
      "epoch: 7, [batch: 30240 / 33600], examples_per_second: 3415.9756, train_label_loss: 0.2742, \n"
     ]
    },
    {
     "name": "stdout",
     "output_type": "stream",
     "text": [
      "=============================================================\n",
      "epoch: 7, source_val_acc_label: 0.7386, target_val_acc_label: 0.7757, source_val_label_loss: 0.7435, target_val_label_loss: 9.7744, \n",
      "=============================================================\n"
     ]
    },
    {
     "name": "stdout",
     "output_type": "stream",
     "text": [
      "New best\n"
     ]
    },
    {
     "name": "stdout",
     "output_type": "stream",
     "text": [
      "epoch: 8, [batch: 1 / 33600], examples_per_second: 0.7424, train_label_loss: 0.3218, \n"
     ]
    },
    {
     "name": "stdout",
     "output_type": "stream",
     "text": [
      "epoch: 8, [batch: 3360 / 33600], examples_per_second: 3474.5932, train_label_loss: 0.1406, \n"
     ]
    },
    {
     "name": "stdout",
     "output_type": "stream",
     "text": [
      "epoch: 8, [batch: 6720 / 33600], examples_per_second: 2984.0610, train_label_loss: 0.1975, \n"
     ]
    },
    {
     "name": "stdout",
     "output_type": "stream",
     "text": [
      "epoch: 8, [batch: 10080 / 33600], examples_per_second: 3008.0084, train_label_loss: 0.5794, \n"
     ]
    },
    {
     "name": "stdout",
     "output_type": "stream",
     "text": [
      "epoch: 8, [batch: 13440 / 33600], examples_per_second: 2993.7094, train_label_loss: 0.2096, \n"
     ]
    },
    {
     "name": "stdout",
     "output_type": "stream",
     "text": [
      "epoch: 8, [batch: 16800 / 33600], examples_per_second: 2975.6325, train_label_loss: 0.2547, \n"
     ]
    },
    {
     "name": "stdout",
     "output_type": "stream",
     "text": [
      "epoch: 8, [batch: 20160 / 33600], examples_per_second: 2973.7849, train_label_loss: 0.3640, \n"
     ]
    },
    {
     "name": "stdout",
     "output_type": "stream",
     "text": [
      "epoch: 8, [batch: 23520 / 33600], examples_per_second: 3007.5044, train_label_loss: 0.8978, \n"
     ]
    },
    {
     "name": "stdout",
     "output_type": "stream",
     "text": [
      "epoch: 8, [batch: 26880 / 33600], examples_per_second: 3361.3238, train_label_loss: 0.5216, \n"
     ]
    },
    {
     "name": "stdout",
     "output_type": "stream",
     "text": [
      "epoch: 8, [batch: 30240 / 33600], examples_per_second: 3372.1554, train_label_loss: 0.6421, \n"
     ]
    },
    {
     "name": "stdout",
     "output_type": "stream",
     "text": [
      "=============================================================\n",
      "epoch: 8, source_val_acc_label: 0.7308, target_val_acc_label: 0.7835, source_val_label_loss: 0.7511, target_val_label_loss: 9.4483, \n",
      "=============================================================\n"
     ]
    },
    {
     "name": "stdout",
     "output_type": "stream",
     "text": [
      "New best\n"
     ]
    },
    {
     "name": "stdout",
     "output_type": "stream",
     "text": [
      "epoch: 9, [batch: 1 / 33600], examples_per_second: 0.7488, train_label_loss: 0.4422, \n"
     ]
    },
    {
     "name": "stdout",
     "output_type": "stream",
     "text": [
      "epoch: 9, [batch: 3360 / 33600], examples_per_second: 3389.7904, train_label_loss: 0.0891, \n"
     ]
    },
    {
     "name": "stdout",
     "output_type": "stream",
     "text": [
      "epoch: 9, [batch: 6720 / 33600], examples_per_second: 2981.6820, train_label_loss: 0.4975, \n"
     ]
    },
    {
     "name": "stdout",
     "output_type": "stream",
     "text": [
      "epoch: 9, [batch: 10080 / 33600], examples_per_second: 2959.5374, train_label_loss: 0.5234, \n"
     ]
    },
    {
     "name": "stdout",
     "output_type": "stream",
     "text": [
      "epoch: 9, [batch: 13440 / 33600], examples_per_second: 2997.4364, train_label_loss: 0.2888, \n"
     ]
    },
    {
     "name": "stdout",
     "output_type": "stream",
     "text": [
      "epoch: 9, [batch: 16800 / 33600], examples_per_second: 3006.0017, train_label_loss: 0.4511, \n"
     ]
    },
    {
     "name": "stdout",
     "output_type": "stream",
     "text": [
      "epoch: 9, [batch: 20160 / 33600], examples_per_second: 2996.7273, train_label_loss: 0.1847, \n"
     ]
    },
    {
     "name": "stdout",
     "output_type": "stream",
     "text": [
      "epoch: 9, [batch: 23520 / 33600], examples_per_second: 3005.5901, train_label_loss: 0.2966, \n"
     ]
    },
    {
     "name": "stdout",
     "output_type": "stream",
     "text": [
      "epoch: 9, [batch: 26880 / 33600], examples_per_second: 3439.3300, train_label_loss: 0.8102, \n"
     ]
    },
    {
     "name": "stdout",
     "output_type": "stream",
     "text": [
      "epoch: 9, [batch: 30240 / 33600], examples_per_second: 3439.5473, train_label_loss: 0.7062, \n"
     ]
    },
    {
     "name": "stdout",
     "output_type": "stream",
     "text": [
      "=============================================================\n",
      "epoch: 9, source_val_acc_label: 0.7326, target_val_acc_label: 0.7843, source_val_label_loss: 0.7584, target_val_label_loss: 10.0506, \n",
      "=============================================================\n"
     ]
    },
    {
     "name": "stdout",
     "output_type": "stream",
     "text": [
      "New best\n"
     ]
    },
    {
     "name": "stdout",
     "output_type": "stream",
     "text": [
      "epoch: 10, [batch: 1 / 33600], examples_per_second: 0.7545, train_label_loss: 0.4978, \n"
     ]
    },
    {
     "name": "stdout",
     "output_type": "stream",
     "text": [
      "epoch: 10, [batch: 3360 / 33600], examples_per_second: 3264.9443, train_label_loss: 0.3940, \n"
     ]
    },
    {
     "name": "stdout",
     "output_type": "stream",
     "text": [
      "epoch: 10, [batch: 6720 / 33600], examples_per_second: 2978.5173, train_label_loss: 0.4961, \n"
     ]
    },
    {
     "name": "stdout",
     "output_type": "stream",
     "text": [
      "epoch: 10, [batch: 10080 / 33600], examples_per_second: 2961.8264, train_label_loss: 0.3012, \n"
     ]
    },
    {
     "name": "stdout",
     "output_type": "stream",
     "text": [
      "epoch: 10, [batch: 13440 / 33600], examples_per_second: 3019.9704, train_label_loss: 0.3575, \n"
     ]
    },
    {
     "name": "stdout",
     "output_type": "stream",
     "text": [
      "epoch: 10, [batch: 16800 / 33600], examples_per_second: 3008.0827, train_label_loss: 0.6060, \n"
     ]
    },
    {
     "name": "stdout",
     "output_type": "stream",
     "text": [
      "epoch: 10, [batch: 20160 / 33600], examples_per_second: 2979.5440, train_label_loss: 0.4493, \n"
     ]
    },
    {
     "name": "stdout",
     "output_type": "stream",
     "text": [
      "epoch: 10, [batch: 23520 / 33600], examples_per_second: 3025.2857, train_label_loss: 0.5689, \n"
     ]
    },
    {
     "name": "stdout",
     "output_type": "stream",
     "text": [
      "epoch: 10, [batch: 26880 / 33600], examples_per_second: 3402.7092, train_label_loss: 0.1926, \n"
     ]
    },
    {
     "name": "stdout",
     "output_type": "stream",
     "text": [
      "epoch: 10, [batch: 30240 / 33600], examples_per_second: 3363.6883, train_label_loss: 0.5537, \n"
     ]
    },
    {
     "name": "stdout",
     "output_type": "stream",
     "text": [
      "=============================================================\n",
      "epoch: 10, source_val_acc_label: 0.7337, target_val_acc_label: 0.7819, source_val_label_loss: 0.7842, target_val_label_loss: 10.8974, \n",
      "=============================================================\n"
     ]
    },
    {
     "name": "stdout",
     "output_type": "stream",
     "text": [
      "epoch: 11, [batch: 1 / 33600], examples_per_second: 0.7704, train_label_loss: 0.3441, \n"
     ]
    },
    {
     "name": "stdout",
     "output_type": "stream",
     "text": [
      "epoch: 11, [batch: 3360 / 33600], examples_per_second: 3197.7629, train_label_loss: 0.5371, \n"
     ]
    },
    {
     "name": "stdout",
     "output_type": "stream",
     "text": [
      "epoch: 11, [batch: 6720 / 33600], examples_per_second: 3018.4235, train_label_loss: 0.2572, \n"
     ]
    },
    {
     "name": "stdout",
     "output_type": "stream",
     "text": [
      "epoch: 11, [batch: 10080 / 33600], examples_per_second: 2970.0087, train_label_loss: 0.3239, \n"
     ]
    },
    {
     "name": "stdout",
     "output_type": "stream",
     "text": [
      "epoch: 11, [batch: 13440 / 33600], examples_per_second: 3002.8506, train_label_loss: 0.5897, \n"
     ]
    },
    {
     "name": "stdout",
     "output_type": "stream",
     "text": [
      "epoch: 11, [batch: 16800 / 33600], examples_per_second: 3025.7799, train_label_loss: 0.2652, \n"
     ]
    },
    {
     "name": "stdout",
     "output_type": "stream",
     "text": [
      "epoch: 11, [batch: 20160 / 33600], examples_per_second: 3022.8266, train_label_loss: 0.2147, \n"
     ]
    },
    {
     "name": "stdout",
     "output_type": "stream",
     "text": [
      "epoch: 11, [batch: 23520 / 33600], examples_per_second: 3014.5719, train_label_loss: 0.2772, \n"
     ]
    },
    {
     "name": "stdout",
     "output_type": "stream",
     "text": [
      "epoch: 11, [batch: 26880 / 33600], examples_per_second: 3381.9347, train_label_loss: 0.3073, \n"
     ]
    },
    {
     "name": "stdout",
     "output_type": "stream",
     "text": [
      "epoch: 11, [batch: 30240 / 33600], examples_per_second: 3401.9206, train_label_loss: 0.2109, \n"
     ]
    },
    {
     "name": "stdout",
     "output_type": "stream",
     "text": [
      "=============================================================\n",
      "epoch: 11, source_val_acc_label: 0.7344, target_val_acc_label: 0.7798, source_val_label_loss: 0.8111, target_val_label_loss: 11.3231, \n",
      "=============================================================\n"
     ]
    },
    {
     "name": "stdout",
     "output_type": "stream",
     "text": [
      "epoch: 12, [batch: 1 / 33600], examples_per_second: 0.7742, train_label_loss: 0.2506, \n"
     ]
    },
    {
     "name": "stdout",
     "output_type": "stream",
     "text": [
      "epoch: 12, [batch: 3360 / 33600], examples_per_second: 3135.3370, train_label_loss: 0.1676, \n"
     ]
    },
    {
     "name": "stdout",
     "output_type": "stream",
     "text": [
      "epoch: 12, [batch: 6720 / 33600], examples_per_second: 3012.0015, train_label_loss: 0.2093, \n"
     ]
    },
    {
     "name": "stdout",
     "output_type": "stream",
     "text": [
      "epoch: 12, [batch: 10080 / 33600], examples_per_second: 2961.7759, train_label_loss: 0.3227, \n"
     ]
    },
    {
     "name": "stdout",
     "output_type": "stream",
     "text": [
      "epoch: 12, [batch: 13440 / 33600], examples_per_second: 2980.4884, train_label_loss: 0.1435, \n"
     ]
    },
    {
     "name": "stdout",
     "output_type": "stream",
     "text": [
      "epoch: 12, [batch: 16800 / 33600], examples_per_second: 2996.5802, train_label_loss: 0.1772, \n"
     ]
    },
    {
     "name": "stdout",
     "output_type": "stream",
     "text": [
      "epoch: 12, [batch: 20160 / 33600], examples_per_second: 2971.7062, train_label_loss: 0.3456, \n"
     ]
    },
    {
     "name": "stdout",
     "output_type": "stream",
     "text": [
      "epoch: 12, [batch: 23520 / 33600], examples_per_second: 3045.0509, train_label_loss: 0.1224, \n"
     ]
    },
    {
     "name": "stdout",
     "output_type": "stream",
     "text": [
      "epoch: 12, [batch: 26880 / 33600], examples_per_second: 3424.2484, train_label_loss: 0.3633, \n"
     ]
    },
    {
     "name": "stdout",
     "output_type": "stream",
     "text": [
      "epoch: 12, [batch: 30240 / 33600], examples_per_second: 3387.7067, train_label_loss: 0.2591, \n"
     ]
    },
    {
     "name": "stdout",
     "output_type": "stream",
     "text": [
      "=============================================================\n",
      "epoch: 12, source_val_acc_label: 0.7268, target_val_acc_label: 0.7831, source_val_label_loss: 0.8252, target_val_label_loss: 11.5684, \n",
      "=============================================================\n"
     ]
    },
    {
     "name": "stdout",
     "output_type": "stream",
     "text": [
      "epoch: 13, [batch: 1 / 33600], examples_per_second: 0.7758, train_label_loss: 0.4213, \n"
     ]
    },
    {
     "name": "stdout",
     "output_type": "stream",
     "text": [
      "epoch: 13, [batch: 3360 / 33600], examples_per_second: 3053.0710, train_label_loss: 0.3683, \n"
     ]
    },
    {
     "name": "stdout",
     "output_type": "stream",
     "text": [
      "epoch: 13, [batch: 6720 / 33600], examples_per_second: 2997.7804, train_label_loss: 0.3731, \n"
     ]
    },
    {
     "name": "stdout",
     "output_type": "stream",
     "text": [
      "epoch: 13, [batch: 10080 / 33600], examples_per_second: 2978.4691, train_label_loss: 0.1078, \n"
     ]
    },
    {
     "name": "stdout",
     "output_type": "stream",
     "text": [
      "epoch: 13, [batch: 13440 / 33600], examples_per_second: 2962.5850, train_label_loss: 0.5593, \n"
     ]
    },
    {
     "name": "stdout",
     "output_type": "stream",
     "text": [
      "epoch: 13, [batch: 16800 / 33600], examples_per_second: 2977.0745, train_label_loss: 0.6616, \n"
     ]
    },
    {
     "name": "stdout",
     "output_type": "stream",
     "text": [
      "epoch: 13, [batch: 20160 / 33600], examples_per_second: 2981.1055, train_label_loss: 0.2333, \n"
     ]
    },
    {
     "name": "stdout",
     "output_type": "stream",
     "text": [
      "epoch: 13, [batch: 23520 / 33600], examples_per_second: 3041.6336, train_label_loss: 0.2894, \n"
     ]
    },
    {
     "name": "stdout",
     "output_type": "stream",
     "text": [
      "epoch: 13, [batch: 26880 / 33600], examples_per_second: 3454.7359, train_label_loss: 0.2975, \n"
     ]
    },
    {
     "name": "stdout",
     "output_type": "stream",
     "text": [
      "epoch: 13, [batch: 30240 / 33600], examples_per_second: 3393.1480, train_label_loss: 0.3235, \n"
     ]
    },
    {
     "name": "stdout",
     "output_type": "stream",
     "text": [
      "=============================================================\n",
      "epoch: 13, source_val_acc_label: 0.7281, target_val_acc_label: 0.7838, source_val_label_loss: 0.8654, target_val_label_loss: 12.1158, \n",
      "=============================================================\n"
     ]
    },
    {
     "name": "stdout",
     "output_type": "stream",
     "text": [
      "Patience (3) exhausted\n"
     ]
    }
   ],
   "source": [
    "###################################\n",
    "# train\n",
    "###################################\n",
    "jig = PTN_Train_Eval_Test_Jig(model, p.BEST_MODEL_PATH, p.device)\n",
    "\n",
    "jig.train(\n",
    "    train_iterable=datasets.source.processed.train,\n",
    "    source_val_iterable=datasets.source.processed.val,\n",
    "    target_val_iterable=datasets.target.processed.val,\n",
    "    num_epochs=p.n_epoch,\n",
    "    num_logs_per_epoch=p.NUM_LOGS_PER_EPOCH,\n",
    "    patience=p.patience,\n",
    "    optimizer=optimizer,\n",
    "    criteria_for_best=p.criteria_for_best,\n",
    ")"
   ]
  },
  {
   "cell_type": "code",
   "execution_count": 23,
   "id": "31e8fabf",
   "metadata": {
    "execution": {
     "iopub.execute_input": "2022-03-24T02:50:57.021520Z",
     "iopub.status.busy": "2022-03-24T02:50:57.021147Z",
     "iopub.status.idle": "2022-03-24T02:50:57.056800Z",
     "shell.execute_reply": "2022-03-24T02:50:57.055983Z"
    },
    "papermill": {
     "duration": 0.101498,
     "end_time": "2022-03-24T02:50:57.056955",
     "exception": false,
     "start_time": "2022-03-24T02:50:56.955457",
     "status": "completed"
    },
    "tags": []
   },
   "outputs": [],
   "source": [
    "total_experiment_time_secs = time.time() - start_time_secs"
   ]
  },
  {
   "cell_type": "code",
   "execution_count": 24,
   "id": "87b9595b",
   "metadata": {
    "execution": {
     "iopub.execute_input": "2022-03-24T02:50:57.197425Z",
     "iopub.status.busy": "2022-03-24T02:50:57.196521Z",
     "iopub.status.idle": "2022-03-24T03:01:48.522521Z",
     "shell.execute_reply": "2022-03-24T03:01:48.521777Z"
    },
    "papermill": {
     "duration": 651.396961,
     "end_time": "2022-03-24T03:01:48.522707",
     "exception": false,
     "start_time": "2022-03-24T02:50:57.125746",
     "status": "completed"
    },
    "tags": []
   },
   "outputs": [],
   "source": [
    "###################################\n",
    "# Evaluate the model\n",
    "###################################\n",
    "source_test_label_accuracy, source_test_label_loss = jig.test(datasets.source.processed.test)\n",
    "target_test_label_accuracy, target_test_label_loss = jig.test(datasets.target.processed.test)\n",
    "\n",
    "source_val_label_accuracy, source_val_label_loss = jig.test(datasets.source.processed.val)\n",
    "target_val_label_accuracy, target_val_label_loss = jig.test(datasets.target.processed.val)\n",
    "\n",
    "history = jig.get_history()\n",
    "\n",
    "total_epochs_trained = len(history[\"epoch_indices\"])\n",
    "\n",
    "val_dl = Iterable_Aggregator((datasets.source.original.val,datasets.target.original.val))\n",
    "\n",
    "confusion = ptn_confusion_by_domain_over_dataloader(model, p.device, val_dl)\n",
    "per_domain_accuracy = per_domain_accuracy_from_confusion(confusion)\n",
    "\n",
    "# Add a key to per_domain_accuracy for if it was a source domain\n",
    "for domain, accuracy in per_domain_accuracy.items():\n",
    "    per_domain_accuracy[domain] = {\n",
    "        \"accuracy\": accuracy,\n",
    "        \"source?\": domain in p.domains_source\n",
    "    }\n",
    "\n",
    "# Do an independent accuracy assesment JUST TO BE SURE!\n",
    "# _source_test_label_accuracy = independent_accuracy_assesment(model, datasets.source.processed.test, p.device)\n",
    "# _target_test_label_accuracy = independent_accuracy_assesment(model, datasets.target.processed.test, p.device)\n",
    "# _source_val_label_accuracy = independent_accuracy_assesment(model, datasets.source.processed.val, p.device)\n",
    "# _target_val_label_accuracy = independent_accuracy_assesment(model, datasets.target.processed.val, p.device)\n",
    "\n",
    "# assert(_source_test_label_accuracy == source_test_label_accuracy)\n",
    "# assert(_target_test_label_accuracy == target_test_label_accuracy)\n",
    "# assert(_source_val_label_accuracy == source_val_label_accuracy)\n",
    "# assert(_target_val_label_accuracy == target_val_label_accuracy)\n",
    "\n",
    "experiment = {\n",
    "    \"experiment_name\": p.experiment_name,\n",
    "    \"parameters\": dict(p),\n",
    "    \"results\": {\n",
    "        \"source_test_label_accuracy\": source_test_label_accuracy,\n",
    "        \"source_test_label_loss\": source_test_label_loss,\n",
    "        \"target_test_label_accuracy\": target_test_label_accuracy,\n",
    "        \"target_test_label_loss\": target_test_label_loss,\n",
    "        \"source_val_label_accuracy\": source_val_label_accuracy,\n",
    "        \"source_val_label_loss\": source_val_label_loss,\n",
    "        \"target_val_label_accuracy\": target_val_label_accuracy,\n",
    "        \"target_val_label_loss\": target_val_label_loss,\n",
    "        \"total_epochs_trained\": total_epochs_trained,\n",
    "        \"total_experiment_time_secs\": total_experiment_time_secs,\n",
    "        \"confusion\": confusion,\n",
    "        \"per_domain_accuracy\": per_domain_accuracy,\n",
    "    },\n",
    "    \"history\": history,\n",
    "    \"dataset_metrics\": get_dataset_metrics(datasets, \"ptn\"),\n",
    "}"
   ]
  },
  {
   "cell_type": "code",
   "execution_count": 25,
   "id": "54a21829",
   "metadata": {
    "execution": {
     "iopub.execute_input": "2022-03-24T03:01:48.658734Z",
     "iopub.status.busy": "2022-03-24T03:01:48.658352Z",
     "iopub.status.idle": "2022-03-24T03:01:48.882094Z",
     "shell.execute_reply": "2022-03-24T03:01:48.882792Z"
    },
    "papermill": {
     "duration": 0.291856,
     "end_time": "2022-03-24T03:01:48.882986",
     "exception": false,
     "start_time": "2022-03-24T03:01:48.591130",
     "status": "completed"
    },
    "tags": []
   },
   "outputs": [
    {
     "data": {
      "image/png": "[encoded data removed]",
      "text/plain": [
       "<Figure size 1080x504 with 1 Axes>"
      ]
     },
     "metadata": {
      "needs_background": "light"
     },
     "output_type": "display_data"
    }
   ],
   "source": [
    "ax = get_loss_curve(experiment)\n",
    "plt.show()"
   ]
  },
  {
   "cell_type": "code",
   "execution_count": 26,
   "id": "fd8a0f60",
   "metadata": {
    "execution": {
     "iopub.execute_input": "2022-03-24T03:01:49.016476Z",
     "iopub.status.busy": "2022-03-24T03:01:49.016103Z",
     "iopub.status.idle": "2022-03-24T03:01:49.388230Z",
     "shell.execute_reply": "2022-03-24T03:01:49.387504Z"
    },
    "papermill": {
     "duration": 0.439531,
     "end_time": "2022-03-24T03:01:49.388390",
     "exception": false,
     "start_time": "2022-03-24T03:01:48.948859",
     "status": "completed"
    },
    "tags": []
   },
   "outputs": [
    {
     "data": {
      "text/plain": [
       "<AxesSubplot:title={'center':'Results'}>"
      ]
     },
     "execution_count": 26,
     "metadata": {},
     "output_type": "execute_result"
    },
    {
     "data": {
      "image/png": "[encoded data removed]",
      "text/plain": [
       "<Figure size 1080x504 with 1 Axes>"
      ]
     },
     "metadata": {
      "needs_background": "light"
     },
     "output_type": "display_data"
    }
   ],
   "source": [
    "get_results_table(experiment)"
   ]
  },
  {
   "cell_type": "code",
   "execution_count": 27,
   "id": "cf8dc689",
   "metadata": {
    "execution": {
     "iopub.execute_input": "2022-03-24T03:01:49.528277Z",
     "iopub.status.busy": "2022-03-24T03:01:49.527776Z",
     "iopub.status.idle": "2022-03-24T03:01:49.785220Z",
     "shell.execute_reply": "2022-03-24T03:01:49.784392Z"
    },
    "papermill": {
     "duration": 0.326013,
     "end_time": "2022-03-24T03:01:49.785382",
     "exception": false,
     "start_time": "2022-03-24T03:01:49.459369",
     "status": "completed"
    },
    "tags": []
   },
   "outputs": [
    {
     "data": {
      "text/plain": [
       "<AxesSubplot:title={'center':'Per Domain Validation Accuracy'}, xlabel='domain'>"
      ]
     },
     "execution_count": 27,
     "metadata": {},
     "output_type": "execute_result"
    },
    {
     "data": {
      "image/png": "[encoded data removed]",
      "text/plain": [
       "<Figure size 1080x504 with 1 Axes>"
      ]
     },
     "metadata": {
      "needs_background": "light"
     },
     "output_type": "display_data"
    }
   ],
   "source": [
    "get_domain_accuracies(experiment)"
   ]
  },
  {
   "cell_type": "code",
   "execution_count": 28,
   "id": "a74ae082",
   "metadata": {
    "execution": {
     "iopub.execute_input": "2022-03-24T03:01:49.926260Z",
     "iopub.status.busy": "2022-03-24T03:01:49.925683Z",
     "iopub.status.idle": "2022-03-24T03:01:49.949915Z",
     "shell.execute_reply": "2022-03-24T03:01:49.949097Z"
    },
    "papermill": {
     "duration": 0.094488,
     "end_time": "2022-03-24T03:01:49.950072",
     "exception": false,
     "start_time": "2022-03-24T03:01:49.855584",
     "status": "completed"
    },
    "tags": []
   },
   "outputs": [
    {
     "name": "stdout",
     "output_type": "stream",
     "text": [
      "Source Test Label Accuracy: 0.7326692708333333 Target Test Label Accuracy: 0.7834309895833333\n",
      "Source Val Label Accuracy: 0.7326432291666667 Target Val Label Accuracy: 0.7843319194061505\n"
     ]
    }
   ],
   "source": [
    "print(\"Source Test Label Accuracy:\", experiment[\"results\"][\"source_test_label_accuracy\"], \"Target Test Label Accuracy:\", experiment[\"results\"][\"target_test_label_accuracy\"])\n",
    "print(\"Source Val Label Accuracy:\", experiment[\"results\"][\"source_val_label_accuracy\"], \"Target Val Label Accuracy:\", experiment[\"results\"][\"target_val_label_accuracy\"])"
   ]
  },
  {
   "cell_type": "code",
   "execution_count": 29,
   "id": "dacca602",
   "metadata": {
    "execution": {
     "iopub.execute_input": "2022-03-24T03:01:50.093052Z",
     "iopub.status.busy": "2022-03-24T03:01:50.090710Z",
     "iopub.status.idle": "2022-03-24T03:01:50.115289Z",
     "shell.execute_reply": "2022-03-24T03:01:50.115990Z"
    },
    "papermill": {
     "duration": 0.094265,
     "end_time": "2022-03-24T03:01:50.116172",
     "exception": false,
     "start_time": "2022-03-24T03:01:50.021907",
     "status": "completed"
    },
    "tags": [
     "experiment_json"
    ]
   },
   "outputs": [
    {
     "data": {
      "text/plain": [
       "'{\"experiment_name\": \"tl_1v2:wisig-oracle.run1\", \"parameters\": {\"experiment_name\": \"tl_1v2:wisig-oracle.run1\", \"device\": \"cuda\", \"lr\": 0.0001, \"n_shot\": 3, \"n_query\": 2, \"train_k_factor\": 3, \"val_k_factor\": 2, \"test_k_factor\": 2, \"torch_default_dtype\": \"torch.float32\", \"n_epoch\": 50, \"patience\": 3, \"criteria_for_best\": \"target_accuracy\", \"x_net\": [{\"class\": \"nnReshape\", \"kargs\": {\"shape\": [-1, 1, 2, 256]}}, {\"class\": \"Conv2d\", \"kargs\": {\"in_channels\": 1, \"out_channels\": 256, \"kernel_size\": [1, 7], \"bias\": false, \"padding\": [0, 3]}}, {\"class\": \"ReLU\", \"kargs\": {\"inplace\": true}}, {\"class\": \"BatchNorm2d\", \"kargs\": {\"num_features\": 256}}, {\"class\": \"Conv2d\", \"kargs\": {\"in_channels\": 256, \"out_channels\": 80, \"kernel_size\": [2, 7], \"bias\": true, \"padding\": [0, 3]}}, {\"class\": \"ReLU\", \"kargs\": {\"inplace\": true}}, {\"class\": \"BatchNorm2d\", \"kargs\": {\"num_features\": 80}}, {\"class\": \"Flatten\", \"kargs\": {}}, {\"class\": \"Linear\", \"kargs\": {\"in_features\": 20480, \"out_features\": 256}}, {\"class\": \"ReLU\", \"kargs\": {\"inplace\": true}}, {\"class\": \"BatchNorm1d\", \"kargs\": {\"num_features\": 256}}, {\"class\": \"Linear\", \"kargs\": {\"in_features\": 256, \"out_features\": 256}}], \"NUM_LOGS_PER_EPOCH\": 10, \"BEST_MODEL_PATH\": \"./best_model.pth\", \"n_way\": 16, \"datasets\": [{\"labels\": [\"1-10\", \"1-12\", \"1-14\", \"1-16\", \"1-18\", \"1-19\", \"1-8\", \"10-11\", \"10-17\", \"10-4\", \"10-7\", \"11-1\", \"11-10\", \"11-19\", \"11-20\", \"11-4\", \"11-7\", \"12-19\", \"12-20\", \"12-7\", \"13-14\", \"13-18\", \"13-19\", \"13-20\", \"13-3\", \"13-7\", \"14-10\", \"14-11\", \"14-12\", \"14-13\", \"14-14\", \"14-19\", \"14-20\", \"14-7\", \"14-8\", \"14-9\", \"15-1\", \"15-19\", \"15-6\", \"16-1\", \"16-16\", \"16-19\", \"16-20\", \"17-10\", \"17-11\", \"18-1\", \"18-10\", \"18-11\", \"18-12\", \"18-13\", \"18-14\", \"18-15\", \"18-16\", \"18-17\", \"18-19\", \"18-2\", \"18-20\", \"18-4\", \"18-5\", \"18-7\", \"18-8\", \"18-9\", \"19-1\", \"19-10\", \"19-11\", \"19-12\", \"19-13\", \"19-14\", \"19-15\", \"19-19\", \"19-2\", \"19-20\", \"19-3\", \"19-4\", \"19-6\", \"19-7\", \"19-8\", \"19-9\", \"2-1\", \"2-13\", \"2-15\", \"2-3\", \"2-4\", \"2-5\", \"2-6\", \"2-7\", \"2-8\", \"20-1\", \"20-12\", \"20-14\", \"20-15\", \"20-16\", \"20-18\", \"20-19\", \"20-20\", \"20-3\", \"20-4\", \"20-5\", \"20-7\", \"20-8\", \"3-1\", \"3-13\", \"3-18\", \"3-2\", \"3-8\", \"4-1\", \"4-10\", \"4-11\", \"5-1\", \"5-5\", \"6-1\", \"6-15\", \"6-6\", \"7-10\", \"7-11\", \"7-12\", \"7-13\", \"7-14\", \"7-7\", \"7-8\", \"7-9\", \"8-1\", \"8-13\", \"8-14\", \"8-18\", \"8-20\", \"8-3\", \"8-8\", \"9-1\", \"9-7\"], \"domains\": [1, 2, 3, 4], \"num_examples_per_domain_per_label\": -1, \"pickle_path\": \"/root/csc500-main/datasets/wisig.node3-19.stratified_ds.2022A.pkl\", \"source_or_target_dataset\": \"target\", \"x_transforms\": [\"unit_mag\"], \"episode_transforms\": [], \"domain_prefix\": \"Wisig_\"}, {\"labels\": [\"3123D52\", \"3123D65\", \"3123D79\", \"3123D80\", \"3123D54\", \"3123D70\", \"3123D7B\", \"3123D89\", \"3123D58\", \"3123D76\", \"3123D7D\", \"3123EFE\", \"3123D64\", \"3123D78\", \"3123D7E\", \"3124E4A\"], \"domains\": [32, 38, 8, 44, 14, 50, 20, 26], \"num_examples_per_domain_per_label\": 10000, \"pickle_path\": \"/root/csc500-main/datasets/oracle.Run1_10kExamples_stratified_ds.2022A.pkl\", \"source_or_target_dataset\": \"source\", \"x_transforms\": [\"unit_mag\"], \"episode_transforms\": [], \"domain_prefix\": \"ORACLE.run1\"}], \"dataset_seed\": 154325, \"seed\": 154325, \"x_shape\": [2, 256], \"domains_source\": [\"ORACLE.run132\", \"ORACLE.run138\", \"ORACLE.run18\", \"ORACLE.run144\", \"ORACLE.run114\", \"ORACLE.run150\", \"ORACLE.run120\", \"ORACLE.run126\"], \"domains_target\": [\"Wisig_1\", \"Wisig_2\", \"Wisig_3\", \"Wisig_4\"]}, \"results\": {\"source_test_label_accuracy\": 0.7326692708333333, \"source_test_label_loss\": 0.757390558719635, \"target_test_label_accuracy\": 0.7834309895833333, \"target_test_label_loss\": 10.246753692626953, \"source_val_label_accuracy\": 0.7326432291666667, \"source_val_label_loss\": 0.7583587765693665, \"target_val_label_accuracy\": 0.7843319194061505, \"target_val_label_loss\": 10.05063247680664, \"total_epochs_trained\": 13, \"total_experiment_time_secs\": 12853.641459941864, \"confusion\": {\"ORACLE.run18\": {\"13\": {\"0\": 311, \"14\": 93, \"13\": 426, \"4\": 184, \"7\": 9, \"10\": 124, \"6\": 51, \"1\": 2}, \"9\": {\"9\": 1200}, \"15\": {\"15\": 843, \"12\": 283, \"8\": 59, \"2\": 8, \"3\": 7}, \"2\": {\"2\": 988, \"3\": 138, \"7\": 21, \"12\": 10, \"15\": 41, \"8\": 2}, \"3\": {\"3\": 1052, \"12\": 55, \"2\": 90, \"15\": 3}, \"8\": {\"6\": 2, \"8\": 1127, \"15\": 64, \"7\": 4, \"12\": 3}, \"5\": {\"5\": 1043, \"10\": 90, \"1\": 59, \"14\": 7, \"11\": 1}, \"14\": {\"14\": 672, \"4\": 190, \"10\": 201, \"11\": 11, \"1\": 60, \"13\": 56, \"5\": 3, \"6\": 5, \"0\": 2}, \"1\": {\"1\": 896, \"14\": 48, \"5\": 15, \"11\": 236, \"10\": 4, \"4\": 1}, \"0\": {\"0\": 741, \"7\": 84, \"13\": 249, \"6\": 73, \"10\": 5, \"14\": 4, \"4\": 44}, \"10\": {\"10\": 802, \"14\": 235, \"13\": 107, \"4\": 24, \"5\": 25, \"1\": 6, \"0\": 1}, \"6\": {\"4\": 137, \"7\": 250, \"6\": 700, \"0\": 53, \"8\": 14, \"13\": 37, \"14\": 9}, \"11\": {\"11\": 808, \"1\": 370, \"4\": 1, \"8\": 5, \"5\": 10, \"14\": 5, \"6\": 1}, \"7\": {\"0\": 48, \"7\": 874, \"6\": 255, \"13\": 3, \"4\": 9, \"8\": 7, \"15\": 3, \"2\": 1}, \"4\": {\"4\": 569, \"13\": 221, \"14\": 195, \"6\": 133, \"0\": 44, \"10\": 26, \"7\": 6, \"1\": 6}, \"12\": {\"15\": 360, \"12\": 663, \"3\": 148, \"2\": 15, \"8\": 14}}, \"ORACLE.run138\": {\"13\": {\"13\": 895, \"15\": 155, \"10\": 99, \"2\": 23, \"1\": 6, \"0\": 3, \"5\": 9, \"8\": 10}, \"12\": {\"12\": 1167, \"4\": 31, \"13\": 1, \"10\": 1}, \"2\": {\"2\": 1098, \"14\": 67, \"13\": 28, \"15\": 3, \"10\": 3, \"11\": 1}, \"9\": {\"9\": 890, \"3\": 22, \"6\": 268, \"5\": 19, \"7\": 1}, \"15\": {\"15\": 948, \"13\": 102, \"8\": 39, \"1\": 77, \"5\": 25, \"10\": 8, \"2\": 1}, \"5\": {\"5\": 568, \"0\": 72, \"8\": 335, \"7\": 78, \"13\": 8, \"9\": 38, \"15\": 42, \"6\": 39, \"10\": 7, \"3\": 5, \"1\": 8}, \"14\": {\"10\": 8, \"14\": 1083, \"13\": 3, \"2\": 74, \"11\": 31, \"15\": 1}, \"0\": {\"0\": 603, \"8\": 235, \"3\": 66, \"7\": 170, \"5\": 96, \"10\": 20, \"9\": 3, \"13\": 5, \"15\": 2}, \"3\": {\"3\": 1141, \"0\": 22, \"7\": 8, \"9\": 27, \"5\": 2}, \"1\": {\"1\": 1151, \"15\": 47, \"13\": 1, \"5\": 1}, \"11\": {\"11\": 1089, \"10\": 17, \"14\": 83, \"13\": 2, \"2\": 8, \"4\": 1}, \"7\": {\"7\": 936, \"8\": 62, \"0\": 130, \"5\": 71, \"4\": 1}, \"8\": {\"8\": 728, \"5\": 254, \"0\": 109, \"15\": 35, \"10\": 19, \"13\": 4, \"7\": 50, \"1\": 1}, \"4\": {\"4\": 1148, \"12\": 48, \"10\": 4}, \"10\": {\"10\": 938, \"0\": 21, \"8\": 57, \"15\": 9, \"13\": 131, \"2\": 4, \"14\": 13, \"11\": 4, \"4\": 3, \"7\": 10, \"12\": 5, \"5\": 5}, \"6\": {\"6\": 1076, \"9\": 113, \"5\": 10, \"8\": 1}}, \"ORACLE.run126\": {\"10\": {\"10\": 489, \"4\": 64, \"14\": 139, \"0\": 251, \"1\": 29, \"8\": 154, \"6\": 47, \"9\": 16, \"15\": 2, \"7\": 6, \"5\": 2, \"2\": 1}, \"12\": {\"12\": 1197, \"11\": 3}, \"1\": {\"1\": 786, \"14\": 220, \"4\": 120, \"10\": 36, \"0\": 18, \"7\": 13, \"8\": 6, \"3\": 1}, \"0\": {\"0\": 389, \"10\": 283, \"14\": 209, \"8\": 105, \"7\": 15, \"4\": 141, \"1\": 26, \"6\": 17, \"9\": 12, \"15\": 3}, \"15\": {\"15\": 477, \"10\": 13, \"8\": 84, \"9\": 373, \"7\": 11, \"5\": 113, \"14\": 1, \"2\": 30, \"6\": 34, \"13\": 56, \"0\": 4, \"3\": 2, \"4\": 2}, \"13\": {\"5\": 186, \"13\": 899, \"15\": 57, \"9\": 27, \"2\": 20, \"6\": 9, \"3\": 1, \"8\": 1}, \"8\": {\"1\": 2, \"7\": 115, \"14\": 25, \"8\": 461, \"4\": 104, \"9\": 97, \"10\": 152, \"0\": 97, \"5\": 13, \"15\": 75, \"6\": 31, \"2\": 23, \"13\": 1, \"3\": 4}, \"3\": {\"3\": 718, \"7\": 190, \"2\": 286, \"8\": 1, \"15\": 1, \"5\": 4}, \"11\": {\"11\": 1199, \"12\": 1}, \"4\": {\"8\": 124, \"14\": 202, \"4\": 511, \"7\": 66, \"0\": 138, \"10\": 47, \"1\": 107, \"15\": 1, \"2\": 2, \"9\": 1, \"5\": 1}, \"6\": {\"6\": 819, \"10\": 83, \"8\": 43, \"9\": 183, \"0\": 30, \"15\": 35, \"13\": 6, \"5\": 1}, \"7\": {\"7\": 633, \"2\": 127, \"3\": 183, \"8\": 85, \"4\": 108, \"14\": 17, \"1\": 9, \"15\": 13, \"0\": 15, \"5\": 2, \"9\": 7, \"10\": 1}, \"14\": {\"14\": 441, \"1\": 203, \"10\": 124, \"0\": 192, \"4\": 191, \"8\": 37, \"7\": 11, \"2\": 1}, \"2\": {\"2\": 485, \"3\": 368, \"5\": 106, \"8\": 37, \"7\": 130, \"4\": 5, \"15\": 41, \"0\": 1, \"9\": 21, \"13\": 4, \"14\": 2}, \"5\": {\"5\": 751, \"13\": 169, \"15\": 121, \"9\": 44, \"2\": 72, \"8\": 34, \"3\": 3, \"6\": 2, \"0\": 1, \"7\": 3}, \"9\": {\"9\": 547, \"10\": 14, \"5\": 22, \"15\": 328, \"8\": 89, \"6\": 161, \"13\": 22, \"0\": 10, \"7\": 3, \"2\": 2, \"14\": 1, \"3\": 1}}, \"ORACLE.run120\": {\"5\": {\"12\": 139, \"5\": 548, \"0\": 196, \"1\": 185, \"15\": 96, \"3\": 24, \"9\": 3, \"4\": 5, \"2\": 4}, \"15\": {\"15\": 770, \"0\": 85, \"1\": 188, \"5\": 84, \"13\": 41, \"12\": 23, \"2\": 5, \"3\": 2, \"9\": 2}, \"9\": {\"2\": 302, \"7\": 52, \"3\": 212, \"9\": 498, \"12\": 104, \"4\": 2, \"13\": 10, \"1\": 15, \"5\": 2, \"8\": 1, \"15\": 2}, \"7\": {\"7\": 866, \"6\": 14, \"2\": 156, \"8\": 73, \"9\": 52, \"3\": 26, \"13\": 5, \"10\": 4, \"4\": 3, \"0\": 1}, \"3\": {\"3\": 535, \"12\": 265, \"4\": 47, \"2\": 76, \"9\": 173, \"7\": 27, \"5\": 36, \"1\": 22, \"8\": 10, \"15\": 2, \"0\": 5, \"10\": 2}, \"8\": {\"14\": 36, \"8\": 924, \"7\": 82, \"10\": 10, \"4\": 125, \"3\": 11, \"6\": 8, \"2\": 2, \"9\": 2}, \"4\": {\"8\": 115, \"4\": 958, \"10\": 42, \"12\": 9, \"3\": 60, \"7\": 4, \"9\": 3, \"0\": 3, \"5\": 4, \"14\": 1, \"1\": 1}, \"6\": {\"14\": 136, \"6\": 1042, \"8\": 4, \"7\": 13, \"10\": 5}, \"2\": {\"2\": 564, \"12\": 56, \"13\": 54, \"7\": 135, \"9\": 292, \"3\": 77, \"15\": 3, \"5\": 6, \"1\": 11, \"8\": 1, \"0\": 1}, \"12\": {\"12\": 467, \"9\": 97, \"3\": 235, \"5\": 120, \"1\": 189, \"2\": 47, \"15\": 23, \"0\": 9, \"4\": 10, \"13\": 1, \"8\": 1, \"7\": 1}, \"0\": {\"0\": 762, \"5\": 267, \"15\": 115, \"1\": 22, \"12\": 8, \"13\": 3, \"8\": 5, \"3\": 10, \"4\": 4, \"2\": 4}, \"13\": {\"13\": 1121, \"15\": 16, \"2\": 45, \"1\": 5, \"5\": 3, \"12\": 2, \"9\": 5, \"7\": 2, \"3\": 1}, \"10\": {\"10\": 1080, \"4\": 34, \"14\": 69, \"6\": 5, \"8\": 12}, \"11\": {\"11\": 1200}, \"14\": {\"14\": 993, \"10\": 72, \"6\": 113, \"7\": 1, \"8\": 21}, \"1\": {\"9\": 12, \"12\": 221, \"15\": 180, \"1\": 567, \"5\": 174, \"3\": 18, \"0\": 18, \"13\": 7, \"2\": 3}}, \"ORACLE.run150\": {\"1\": {\"1\": 804, \"15\": 209, \"6\": 79, \"4\": 89, \"5\": 10, \"11\": 4, \"13\": 2, \"14\": 1, \"2\": 2}, \"2\": {\"2\": 1110, \"0\": 90}, \"8\": {\"8\": 1162, \"10\": 28, \"3\": 10}, \"7\": {\"7\": 774, \"5\": 148, \"13\": 236, \"6\": 13, \"10\": 22, \"4\": 7}, \"14\": {\"14\": 1189, \"11\": 5, \"12\": 6}, \"6\": {\"6\": 865, \"1\": 91, \"13\": 71, \"15\": 34, \"5\": 40, \"4\": 89, \"7\": 9, \"0\": 1}, \"3\": {\"3\": 1171, \"8\": 29}, \"4\": {\"4\": 631, \"6\": 83, \"5\": 114, \"7\": 36, \"15\": 156, \"1\": 158, \"13\": 19, \"11\": 3}, \"12\": {\"12\": 1109, \"9\": 63, \"14\": 24, \"11\": 4}, \"15\": {\"15\": 880, \"1\": 185, \"4\": 85, \"6\": 25, \"11\": 24, \"14\": 1}, \"11\": {\"11\": 1039, \"15\": 41, \"9\": 105, \"12\": 3, \"14\": 10, \"1\": 2}, \"0\": {\"2\": 105, \"0\": 1046, \"10\": 48, \"5\": 1}, \"9\": {\"12\": 72, \"9\": 957, \"11\": 169, \"15\": 1, \"14\": 1}, \"10\": {\"10\": 1101, \"0\": 41, \"8\": 14, \"13\": 19, \"7\": 21, \"5\": 4}, \"5\": {\"5\": 525, \"6\": 67, \"7\": 216, \"1\": 53, \"13\": 178, \"4\": 153, \"10\": 6, \"15\": 2}, \"13\": {\"6\": 58, \"13\": 861, \"7\": 140, \"5\": 122, \"1\": 2, \"10\": 11, \"4\": 6}}, \"ORACLE.run132\": {\"2\": {\"2\": 991, \"4\": 180, \"5\": 3, \"7\": 15, \"0\": 10, \"14\": 1}, \"6\": {\"6\": 1200}, \"5\": {\"8\": 86, \"7\": 160, \"2\": 14, \"5\": 475, \"13\": 237, \"4\": 115, \"3\": 45, \"11\": 6, \"14\": 33, \"0\": 29}, \"12\": {\"12\": 1200}, \"13\": {\"13\": 591, \"7\": 90, \"11\": 23, \"4\": 75, \"0\": 23, \"14\": 20, \"5\": 218, \"3\": 98, \"8\": 62}, \"9\": {\"9\": 1194, \"12\": 6}, \"11\": {\"11\": 1003, \"14\": 144, \"3\": 19, \"5\": 5, \"7\": 12, \"13\": 16, \"4\": 1}, \"1\": {\"1\": 1189, \"10\": 11}, \"3\": {\"3\": 1109, \"11\": 19, \"5\": 12, \"13\": 45, \"8\": 9, \"7\": 3, \"14\": 3}, \"7\": {\"7\": 587, \"4\": 123, \"5\": 184, \"14\": 151, \"13\": 72, \"11\": 24, \"2\": 30, \"8\": 7, \"0\": 19, \"3\": 3}, \"14\": {\"14\": 549, \"11\": 277, \"7\": 212, \"13\": 37, \"0\": 54, \"8\": 6, \"5\": 33, \"3\": 9, \"2\": 16, \"4\": 7}, \"8\": {\"8\": 930, \"13\": 72, \"5\": 60, \"0\": 118, \"7\": 3, \"3\": 11, \"4\": 5, \"14\": 1}, \"4\": {\"4\": 718, \"2\": 201, \"7\": 117, \"13\": 42, \"5\": 82, \"0\": 29, \"14\": 4, \"8\": 7}, \"0\": {\"0\": 874, \"8\": 126, \"7\": 44, \"4\": 64, \"13\": 11, \"5\": 34, \"14\": 15, \"2\": 32}, \"10\": {\"10\": 1195, \"1\": 5}, \"15\": {\"15\": 1196, \"3\": 3, \"8\": 1}}, \"ORACLE.run144\": {\"13\": {\"13\": 778, \"6\": 241, \"9\": 128, \"11\": 33, \"7\": 11, \"4\": 9}, \"4\": {\"4\": 853, \"14\": 326, \"15\": 18, \"13\": 3}, \"6\": {\"6\": 822, \"9\": 115, \"13\": 232, \"7\": 22, \"11\": 9}, \"0\": {\"0\": 742, \"8\": 321, \"5\": 81, \"15\": 56}, \"10\": {\"10\": 879, \"1\": 127, \"12\": 96, \"2\": 96, \"7\": 2}, \"7\": {\"7\": 781, \"6\": 36, \"2\": 150, \"9\": 226, \"3\": 1, \"10\": 2, \"1\": 1, \"13\": 3}, \"14\": {\"14\": 786, \"4\": 330, \"5\": 24, \"15\": 59, \"0\": 1}, \"15\": {\"15\": 956, \"0\": 77, \"4\": 13, \"5\": 41, \"14\": 92, \"8\": 21}, \"5\": {\"5\": 1029, \"0\": 85, \"15\": 26, \"14\": 50, \"8\": 7, \"4\": 3}, \"2\": {\"2\": 907, \"7\": 158, \"1\": 52, \"10\": 74, \"12\": 1, \"9\": 3, \"3\": 5}, \"9\": {\"13\": 116, \"9\": 702, \"7\": 261, \"6\": 112, \"4\": 1, \"2\": 8}, \"12\": {\"1\": 179, \"12\": 965, \"3\": 20, \"10\": 36}, \"8\": {\"8\": 728, \"5\": 17, \"0\": 424, \"15\": 29, \"14\": 2}, \"3\": {\"3\": 1059, \"1\": 120, \"12\": 12, \"2\": 6, \"7\": 3}, \"1\": {\"1\": 745, \"3\": 116, \"2\": 43, \"12\": 189, \"10\": 105, \"7\": 2}, \"11\": {\"11\": 1127, \"13\": 62, \"6\": 10, \"9\": 1}}, \"ORACLE.run114\": {\"1\": {\"1\": 1094, \"7\": 2, \"5\": 94, \"4\": 10}, \"15\": {\"15\": 1169, \"7\": 28, \"5\": 2, \"2\": 1}, \"10\": {\"10\": 1168, \"0\": 30, \"14\": 2}, \"2\": {\"2\": 607, \"5\": 121, \"6\": 80, \"14\": 169, \"4\": 71, \"13\": 72, \"3\": 61, \"15\": 18, \"1\": 1}, \"9\": {\"9\": 1196, \"12\": 2, \"11\": 2}, \"5\": {\"5\": 807, \"1\": 144, \"4\": 188, \"3\": 13, \"7\": 7, \"2\": 41}, \"7\": {\"7\": 1185, \"15\": 8, \"5\": 3, \"1\": 4}, \"13\": {\"14\": 165, \"13\": 410, \"6\": 502, \"2\": 102, \"5\": 16, \"3\": 1, \"4\": 4}, \"8\": {\"8\": 1200}, \"6\": {\"13\": 389, \"6\": 732, \"14\": 33, \"2\": 46}, \"3\": {\"3\": 1038, \"2\": 21, \"4\": 97, \"14\": 26, \"5\": 12, \"10\": 3, \"0\": 3}, \"12\": {\"12\": 1194, \"9\": 6}, \"0\": {\"0\": 1097, \"10\": 56, \"11\": 24, \"3\": 21, \"4\": 1, \"14\": 1}, \"4\": {\"4\": 873, \"2\": 53, \"3\": 114, \"1\": 19, \"5\": 139, \"14\": 2}, \"14\": {\"14\": 1007, \"2\": 55, \"3\": 35, \"13\": 76, \"6\": 26, \"0\": 1}, \"11\": {\"11\": 1113, \"9\": 52, \"0\": 35}}, \"Wisig_2\": {\"56\": {\"56\": 12}, \"12\": {\"12\": 59, \"114\": 2, \"79\": 2, \"6\": 2, \"29\": 2, \"88\": 1, \"127\": 5, \"8\": 2, \"4\": 2, \"54\": 1, \"68\": 1, \"77\": 2, \"34\": 2, \"78\": 1, \"107\": 1, \"109\": 1, \"98\": 1, \"70\": 1}, \"15\": {\"15\": 94, \"26\": 1, \"127\": 4, \"111\": 2, \"101\": 4, \"106\": 5, \"94\": 1, \"44\": 1, \"125\": 1, \"0\": 1, \"70\": 1, \"117\": 1}, \"26\": {\"117\": 2, \"26\": 104, \"102\": 6, \"2\": 1, \"69\": 10, \"18\": 5, \"24\": 2, \"21\": 1, \"84\": 1}, \"82\": {\"82\": 36}, \"9\": {\"9\": 32}, \"49\": {\"12\": 2, \"122\": 2, \"3\": 2, \"49\": 4, \"70\": 1, \"124\": 1, \"58\": 1, \"44\": 1, \"110\": 1, \"73\": 2, \"128\": 2, \"29\": 1, \"98\": 1, \"42\": 1, \"85\": 2}, \"55\": {\"82\": 4, \"55\": 11, \"22\": 1}, \"102\": {\"102\": 123, \"48\": 1}, \"85\": {\"85\": 19, \"4\": 2, \"71\": 6, \"5\": 3, \"3\": 1, \"55\": 1}, \"73\": {\"73\": 28}, \"47\": {\"47\": 7, \"15\": 1, \"19\": 1, \"94\": 1, \"60\": 2}, \"20\": {\"20\": 13, \"65\": 2, \"88\": 1}, \"117\": {\"117\": 106, \"83\": 1, \"87\": 1, \"39\": 2, \"21\": 2, \"113\": 2, \"90\": 2}, \"122\": {\"122\": 64, \"49\": 1, \"87\": 1, \"85\": 3, \"20\": 1, \"71\": 10, \"19\": 1, \"129\": 1, \"117\": 1, \"5\": 11, \"12\": 1, \"110\": 2, \"98\": 3, \"114\": 5, \"124\": 8, \"3\": 4, \"7\": 4, \"8\": 2, \"43\": 2, \"70\": 2, \"34\": 3, \"29\": 1, \"73\": 1, \"107\": 1, \"10\": 2, \"84\": 1, \"39\": 1, \"27\": 2, \"1\": 1}, \"113\": {\"113\": 61, \"2\": 1, \"39\": 2, \"18\": 2, \"90\": 1, \"72\": 2, \"69\": 2, \"60\": 1}, \"87\": {\"21\": 2, \"60\": 1, \"87\": 50, \"23\": 1, \"83\": 1, \"39\": 1, \"118\": 8, \"84\": 3, \"90\": 7, \"16\": 3, \"102\": 6, \"33\": 6, \"62\": 1, \"71\": 1, \"69\": 1, \"70\": 3, \"93\": 6, \"88\": 2, \"116\": 2, \"44\": 1, \"100\": 2, \"109\": 3, \"24\": 1}, \"21\": {\"21\": 42, \"88\": 2, \"78\": 1, \"87\": 2, \"43\": 1}, \"106\": {\"106\": 105, \"97\": 1, \"15\": 3, \"12\": 1, \"0\": 1, \"27\": 1, \"8\": 2, \"94\": 2, \"21\": 1, \"30\": 2, \"70\": 1}, \"3\": {\"3\": 124, \"88\": 1, \"1\": 3, \"114\": 2, \"7\": 1, \"107\": 2, \"39\": 2, \"124\": 1}, \"126\": {\"126\": 112, \"93\": 1, \"100\": 1, \"88\": 2, \"44\": 2, \"5\": 2}, \"41\": {\"41\": 17, \"90\": 1, \"91\": 2}, \"76\": {\"76\": 12, \"7\": 2, \"37\": 2}, \"60\": {\"60\": 19, \"84\": 2, \"14\": 1, \"118\": 2, \"78\": 1, \"80\": 1, \"23\": 1, \"44\": 1}, \"94\": {\"94\": 35, \"88\": 1, \"18\": 1, \"108\": 2, \"101\": 3, \"52\": 1, \"20\": 1, \"127\": 2, \"107\": 1, \"15\": 3, \"0\": 2, \"6\": 1, \"25\": 1, \"126\": 2, \"8\": 2, \"106\": 1, \"36\": 1, \"27\": 2, \"98\": 2}, \"50\": {\"50\": 15, \"55\": 1}, \"97\": {\"97\": 18, \"106\": 1, \"75\": 1}, \"115\": {\"115\": 11, \"105\": 1}, \"38\": {\"38\": 15, \"33\": 1}, \"43\": {\"38\": 2, \"70\": 2, \"43\": 62, \"20\": 1, \"55\": 1, \"40\": 4, \"44\": 2, \"106\": 1, \"60\": 1, \"1\": 16, \"84\": 2, \"62\": 4, \"105\": 11, \"113\": 2, \"88\": 1, \"33\": 5, \"118\": 1, \"3\": 1, \"78\": 1, \"87\": 3, \"109\": 1}, \"67\": {\"67\": 11, \"76\": 2, \"50\": 3}, \"18\": {\"18\": 86, \"65\": 2, \"26\": 11, \"113\": 3, \"21\": 1, \"39\": 3, \"117\": 5, \"2\": 2, \"87\": 2, \"69\": 7, \"120\": 1, \"27\": 1, \"0\": 1, \"94\": 1, \"102\": 1, \"126\": 1}, \"23\": {\"127\": 2, \"18\": 1, \"23\": 12, \"48\": 1, \"121\": 2, \"71\": 2, \"122\": 2, \"117\": 2, \"124\": 4, \"81\": 1, \"22\": 1, \"34\": 1, \"29\": 2, \"19\": 1, \"95\": 1, \"41\": 1, \"20\": 1, \"85\": 2, \"107\": 1, \"98\": 1, \"39\": 1, \"113\": 1, \"11\": 1}, \"63\": {\"63\": 20}, \"127\": {\"127\": 107, \"126\": 1, \"124\": 1, \"30\": 1, \"98\": 6, \"39\": 1, \"35\": 1, \"113\": 1, \"111\": 2, \"12\": 1, \"26\": 1, \"125\": 1}, \"72\": {\"72\": 22, \"90\": 2, \"33\": 2, \"77\": 1, \"15\": 1}, \"128\": {\"108\": 3, \"3\": 3, \"101\": 1, \"128\": 5, \"19\": 1, \"52\": 1, \"24\": 1, \"107\": 1, \"79\": 2, \"73\": 1, \"5\": 1, \"71\": 1, \"42\": 1, \"85\": 1, \"47\": 1}, \"7\": {\"7\": 117, \"88\": 2, \"4\": 5, \"105\": 2, \"26\": 1, \"18\": 1}, \"108\": {\"108\": 95, \"8\": 13, \"97\": 2, \"12\": 2, \"107\": 3, \"124\": 1, \"0\": 2, \"24\": 2, \"11\": 6, \"30\": 2, \"98\": 2, \"109\": 1, \"14\": 1, \"70\": 1, \"27\": 1}, \"16\": {\"16\": 85, \"23\": 2, \"90\": 5, \"88\": 2, \"93\": 8, \"65\": 1, \"31\": 1, \"83\": 2, \"77\": 1, \"87\": 4, \"21\": 2, \"70\": 1}, \"29\": {\"29\": 30, \"124\": 1, \"34\": 1}, \"61\": {\"61\": 16, \"73\": 2, \"22\": 1, \"126\": 1}, \"104\": {\"104\": 18, \"95\": 2}, \"120\": {\"120\": 19, \"81\": 1}, \"124\": {\"128\": 1, \"124\": 110, \"34\": 2, \"102\": 1, \"107\": 1, \"122\": 3, \"114\": 2, \"5\": 2, \"11\": 2}, \"34\": {\"29\": 3, \"104\": 1, \"85\": 1, \"34\": 12, \"54\": 1, \"110\": 1, \"114\": 2, \"91\": 1, \"124\": 2, \"107\": 1, \"41\": 2, \"122\": 2, \"86\": 1, \"23\": 1, \"32\": 1}, \"84\": {\"84\": 58, \"9\": 1, \"48\": 2, \"33\": 15, \"11\": 1, \"109\": 1, \"108\": 1, \"83\": 1, \"40\": 1, \"126\": 1, \"118\": 1, \"116\": 1, \"90\": 1, \"62\": 3, \"70\": 2, \"87\": 1, \"101\": 1}, \"103\": {\"103\": 16}, \"100\": {\"100\": 16}, \"40\": {\"115\": 2, \"40\": 110, \"11\": 1, \"105\": 10, \"33\": 1, \"21\": 1, \"4\": 2, \"113\": 1, \"1\": 2, \"109\": 1, \"37\": 2, \"16\": 1, \"117\": 2, \"39\": 1, \"7\": 2, \"24\": 1}, \"35\": {\"35\": 11, \"91\": 1}, \"96\": {\"96\": 20}, \"101\": {\"101\": 107, \"36\": 2, \"108\": 3, \"24\": 1, \"8\": 2, \"94\": 2, \"69\": 1, \"0\": 2}, \"71\": {\"34\": 2, \"71\": 80, \"5\": 3, \"87\": 1, \"122\": 2, \"84\": 1, \"0\": 3, \"124\": 1, \"53\": 1, \"85\": 1, \"128\": 1, \"3\": 3, \"105\": 1}, \"81\": {\"81\": 18, \"90\": 1, \"121\": 2, \"102\": 1, \"51\": 1, \"120\": 1}, \"74\": {\"37\": 2, \"27\": 1, \"74\": 6, \"50\": 2, \"22\": 1, \"76\": 1, \"128\": 1, \"4\": 2}, \"119\": {\"119\": 19, \"16\": 1}, \"5\": {\"5\": 94, \"17\": 1, \"71\": 9, \"109\": 1, \"18\": 1, \"122\": 1, \"3\": 1, \"29\": 1, \"126\": 1, \"40\": 1, \"105\": 1}, \"68\": {\"68\": 11, \"114\": 2, \"124\": 1, \"127\": 1, \"71\": 1}, \"37\": {\"74\": 1, \"37\": 12, \"95\": 1, \"64\": 2}, \"58\": {\"58\": 18, \"111\": 2}, \"109\": {\"74\": 1, \"109\": 60, \"78\": 1, \"2\": 2, \"39\": 2, \"88\": 7, \"118\": 2, \"87\": 7, \"16\": 4, \"18\": 1, \"69\": 1, \"90\": 3, \"93\": 4, \"126\": 2, \"70\": 1, \"10\": 1, \"62\": 1}, \"107\": {\"107\": 38, \"125\": 1, \"71\": 3, \"36\": 1, \"32\": 1, \"42\": 1, \"4\": 3, \"110\": 5, \"0\": 1, \"5\": 4, \"106\": 1, \"86\": 2, \"105\": 2, \"10\": 1}, \"13\": {\"81\": 2, \"72\": 2, \"18\": 1, \"13\": 7, \"9\": 1, \"82\": 2, \"87\": 1}, \"52\": {\"58\": 2, \"52\": 17, \"34\": 1}, \"77\": {\"77\": 12, \"79\": 1, \"81\": 1, \"91\": 2}, \"95\": {\"95\": 32, \"40\": 1, \"107\": 1, \"61\": 1, \"104\": 1}, \"44\": {\"44\": 95, \"46\": 2, \"70\": 1, \"23\": 2}, \"88\": {\"126\": 8, \"44\": 3, \"88\": 61, \"93\": 22, \"70\": 5, \"83\": 3, \"62\": 1, \"16\": 2, \"109\": 6, \"90\": 3, \"87\": 1, \"47\": 1, \"84\": 4, \"46\": 1, \"39\": 1}, \"91\": {\"35\": 2, \"127\": 2, \"54\": 2, \"91\": 15, \"29\": 3, \"34\": 2, \"126\": 1, \"77\": 1}, \"93\": {\"93\": 124, \"21\": 1, \"16\": 3, \"87\": 4, \"47\": 1, \"39\": 1, \"109\": 1, \"117\": 1, \"70\": 2}, \"8\": {\"108\": 14, \"8\": 91, \"12\": 2, \"40\": 1, \"0\": 1, \"71\": 1, \"18\": 1, \"30\": 4, \"111\": 2, \"11\": 1, \"3\": 1, \"109\": 1, \"126\": 1, \"127\": 2, \"124\": 1}, \"1\": {\"1\": 100, \"24\": 1, \"43\": 5, \"62\": 6, \"111\": 1, \"39\": 1}, \"45\": {\"45\": 12, \"21\": 1, \"1\": 1, \"14\": 1, \"102\": 1}, \"111\": {\"111\": 107, \"127\": 11, \"62\": 1, \"98\": 2, \"103\": 2, \"21\": 1, \"125\": 2}, \"116\": {\"116\": 22, \"23\": 1, \"90\": 3, \"119\": 1, \"80\": 1}, \"48\": {\"48\": 18, \"89\": 2}, \"57\": {\"57\": 18, \"78\": 1, \"88\": 1}, \"10\": {\"10\": 28, \"60\": 1, \"3\": 2, \"66\": 1, \"4\": 6, \"32\": 2, \"107\": 1, \"129\": 1, \"105\": 2, \"99\": 1, \"7\": 5, \"122\": 2, \"110\": 4, \"5\": 2, \"26\": 1, \"11\": 1}, \"129\": {\"129\": 31, \"73\": 1}, \"98\": {\"98\": 98, \"111\": 4, \"88\": 1, \"114\": 1, \"12\": 2, \"18\": 1, \"49\": 1, \"127\": 3, \"122\": 2, \"39\": 1, \"30\": 1, \"5\": 1, \"124\": 2}, \"65\": {\"65\": 17, \"109\": 1, \"81\": 2}, \"6\": {\"9\": 3, \"75\": 1, \"101\": 2, \"6\": 6, \"127\": 1, \"125\": 5, \"111\": 2, \"94\": 3, \"106\": 3, \"25\": 1, \"30\": 1, \"54\": 1, \"103\": 2, \"29\": 1}, \"75\": {\"75\": 13, \"126\": 1, \"42\": 1, \"111\": 1}, \"14\": {\"14\": 35, \"70\": 1, \"23\": 1, \"43\": 1, \"84\": 1, \"1\": 2, \"87\": 1, \"55\": 2, \"40\": 1, \"90\": 1, \"3\": 1, \"0\": 1}, \"30\": {\"97\": 2, \"51\": 3, \"30\": 56, \"75\": 1, \"106\": 15, \"15\": 2, \"6\": 2, \"3\": 1, \"0\": 3, \"40\": 1, \"88\": 1, \"12\": 1, \"125\": 3, \"93\": 1, \"8\": 7, \"70\": 2, \"24\": 1, \"59\": 2, \"128\": 1, \"108\": 1, \"39\": 1, \"111\": 5}, \"83\": {\"83\": 38, \"100\": 1, \"109\": 1}, \"69\": {\"69\": 116, \"18\": 2, \"90\": 4, \"109\": 1, \"7\": 1, \"72\": 2, \"117\": 1, \"88\": 1}, \"125\": {\"125\": 139, \"106\": 2, \"114\": 4, \"16\": 1}, \"31\": {\"31\": 12, \"116\": 1, \"90\": 1, \"102\": 2, \"82\": 2, \"72\": 1, \"48\": 1}, \"118\": {\"87\": 1, \"31\": 1, \"80\": 1, \"118\": 50, \"84\": 4, \"33\": 3, \"82\": 1, \"90\": 2, \"38\": 2, \"62\": 1, \"116\": 1, \"43\": 1}, \"53\": {\"53\": 16}, \"54\": {\"54\": 20}, \"92\": {\"92\": 28}, \"19\": {\"128\": 1, \"85\": 1, \"19\": 13, \"53\": 2, \"34\": 1, \"83\": 1, \"0\": 1, \"32\": 1, \"124\": 1, \"114\": 1, \"107\": 1, \"71\": 2, \"70\": 1, \"43\": 1}, \"27\": {\"27\": 29, \"0\": 2, \"94\": 7, \"25\": 3, \"15\": 2, \"36\": 10, \"101\": 2, \"30\": 1, \"88\": 1, \"106\": 2, \"24\": 4, \"59\": 1, \"77\": 1, \"120\": 1, \"108\": 1, \"70\": 1}, \"17\": {\"17\": 8, \"21\": 1, \"59\": 1, \"91\": 2, \"95\": 2, \"54\": 2}, \"4\": {\"4\": 85, \"16\": 1, \"71\": 2}, \"36\": {\"94\": 2, \"36\": 102, \"101\": 8, \"15\": 4, \"27\": 4, \"126\": 1, \"102\": 1, \"58\": 1, \"39\": 1, \"24\": 1, \"70\": 1, \"0\": 1, \"43\": 1}, \"90\": {\"90\": 132, \"2\": 1, \"69\": 3}, \"64\": {\"64\": 13, \"76\": 2, \"24\": 1}, \"66\": {\"66\": 19, \"104\": 1}, \"46\": {\"46\": 14, \"16\": 1, \"24\": 1}, \"86\": {\"86\": 32}, \"114\": {\"114\": 91, \"124\": 9, \"117\": 1, \"98\": 2, \"71\": 4, \"127\": 2, \"126\": 1}, \"32\": {\"74\": 1, \"32\": 7, \"129\": 2, \"114\": 1, \"53\": 2, \"40\": 3, \"75\": 1, \"95\": 3, \"29\": 1, \"7\": 2, \"0\": 1, \"67\": 2, \"115\": 2, \"41\": 2, \"19\": 1, \"5\": 1, \"98\": 2, \"3\": 1, \"8\": 1}, \"78\": {\"44\": 2, \"74\": 1, \"32\": 1, \"78\": 19, \"14\": 4, \"40\": 4, \"109\": 4, \"87\": 1, \"107\": 1, \"1\": 3, \"76\": 1, \"21\": 1, \"19\": 1, \"93\": 1, \"70\": 1, \"88\": 1, \"43\": 1, \"62\": 1}, \"33\": {\"33\": 118, \"82\": 2, \"84\": 8, \"102\": 1, \"87\": 3, \"93\": 1, \"23\": 1, \"62\": 2, \"90\": 1, \"1\": 1}, \"70\": {\"43\": 8, \"109\": 3, \"70\": 45, \"89\": 1, \"14\": 2, \"78\": 3, \"126\": 4, \"1\": 10, \"87\": 4, \"88\": 8, \"18\": 1, \"10\": 2, \"71\": 2, \"44\": 3, \"33\": 5, \"24\": 1, \"3\": 4, \"93\": 2, \"62\": 3, \"5\": 2, \"4\": 1, \"19\": 1, \"74\": 1, \"60\": 1, \"39\": 1, \"90\": 1, \"84\": 2, \"117\": 2, \"16\": 1}, \"0\": {\"0\": 91, \"24\": 1, \"101\": 7, \"30\": 5, \"108\": 1, \"117\": 1, \"36\": 1, \"26\": 1, \"69\": 2, \"8\": 2, \"126\": 1, \"15\": 2, \"39\": 1}, \"110\": {\"110\": 29, \"122\": 2, \"34\": 2, \"70\": 1, \"75\": 1, \"53\": 2, \"71\": 2, \"5\": 1}, \"2\": {\"57\": 2, \"113\": 2, \"99\": 2, \"2\": 16, \"26\": 1, \"117\": 1, \"16\": 2, \"39\": 2, \"121\": 2, \"12\": 1, \"81\": 1}, \"28\": {\"28\": 15, \"84\": 1, \"95\": 1, \"86\": 1, \"4\": 1, \"60\": 1}, \"51\": {\"51\": 10, \"97\": 1, \"111\": 5, \"75\": 1, \"58\": 2, \"91\": 1}, \"79\": {\"79\": 16}, \"42\": {\"42\": 10, \"97\": 2, \"15\": 1, \"29\": 1, \"126\": 1, \"106\": 1, \"101\": 1, \"12\": 1, \"30\": 2, \"10\": 1, \"107\": 1, \"35\": 1, \"124\": 2, \"128\": 1, \"60\": 1, \"34\": 1}, \"112\": {\"112\": 13, \"73\": 2, \"3\": 1}, \"89\": {\"89\": 32, \"92\": 2, \"116\": 2}, \"59\": {\"34\": 1, \"98\": 1, \"59\": 8, \"54\": 4, \"12\": 2}, \"105\": {\"105\": 113, \"40\": 8, \"93\": 1, \"62\": 1, \"38\": 1, \"86\": 1, \"32\": 1, \"107\": 2}, \"121\": {\"121\": 21, \"65\": 5, \"113\": 2, \"36\": 1, \"26\": 1, \"23\": 2, \"81\": 2, \"117\": 2}, \"11\": {\"11\": 62, \"3\": 1, \"93\": 1, \"101\": 2, \"122\": 2, \"8\": 3, \"108\": 4, \"42\": 1, \"49\": 1, \"126\": 1, \"88\": 1, \"39\": 1}, \"99\": {\"99\": 30, \"12\": 1, \"33\": 1}, \"25\": {\"25\": 16}, \"62\": {\"62\": 108, \"20\": 1, \"87\": 2, \"33\": 6, \"1\": 1, \"84\": 1, \"113\": 1, \"78\": 2, \"24\": 2, \"40\": 1, \"126\": 1, \"90\": 2}, \"123\": {\"123\": 16}, \"24\": {\"24\": 58, \"36\": 2, \"108\": 6, \"15\": 4, \"12\": 1, \"87\": 1, \"0\": 8, \"106\": 3, \"11\": 2, \"30\": 2, \"101\": 9, \"114\": 1, \"111\": 2, \"9\": 1, \"94\": 3, \"27\": 1, \"42\": 2, \"126\": 2, \"8\": 2, \"88\": 1, \"109\": 1}, \"80\": {\"80\": 16}, \"39\": {\"39\": 51, \"69\": 4, \"99\": 1, \"109\": 4, \"102\": 4, \"88\": 9, \"117\": 1, \"93\": 6, \"90\": 2, \"26\": 7, \"18\": 7, \"24\": 1, \"16\": 2, \"72\": 1}, \"22\": {\"22\": 16, \"33\": 2, \"62\": 1, \"126\": 1}}, \"Wisig_4\": {\"32\": {\"32\": 13, \"22\": 1, \"99\": 3, \"33\": 2, \"14\": 2, \"66\": 1, \"50\": 1, \"72\": 1, \"89\": 1, \"82\": 1, \"28\": 1, \"118\": 1}, \"22\": {\"22\": 13, \"122\": 1, \"102\": 1, \"54\": 1}, \"69\": {\"69\": 105, \"122\": 1, \"36\": 2, \"13\": 1, \"113\": 1, \"84\": 2, \"43\": 1, \"44\": 2, \"70\": 1, \"126\": 1, \"24\": 1, \"16\": 2}, \"65\": {\"63\": 1, \"65\": 10, \"117\": 1}, \"91\": {\"91\": 22, \"68\": 1, \"17\": 1}, \"63\": {\"63\": 15, \"39\": 1}, \"127\": {\"65\": 1, \"127\": 86, \"95\": 2, \"128\": 2, \"12\": 4, \"106\": 3, \"98\": 2, \"103\": 1, \"52\": 1, \"29\": 1, \"16\": 1, \"124\": 3, \"18\": 1}, \"11\": {\"32\": 1, \"11\": 89, \"3\": 10, \"73\": 1, \"72\": 2, \"14\": 9, \"36\": 1, \"126\": 2, \"81\": 1, \"43\": 4, \"107\": 1, \"5\": 5, \"93\": 1, \"87\": 3, \"49\": 1, \"99\": 2, \"7\": 3, \"122\": 1, \"110\": 1}, \"12\": {\"111\": 9, \"12\": 70, \"103\": 2, \"29\": 1, \"88\": 1, \"109\": 1, \"128\": 1, \"125\": 1, \"106\": 7, \"101\": 1, \"126\": 1, \"87\": 1, \"107\": 1, \"18\": 1, \"26\": 1, \"0\": 1}, \"111\": {\"111\": 100, \"68\": 3, \"12\": 7, \"124\": 2, \"125\": 3, \"106\": 3, \"101\": 2, \"70\": 2, \"26\": 1, \"91\": 1, \"127\": 3, \"126\": 1}, \"53\": {\"53\": 15, \"70\": 1}, \"73\": {\"73\": 18, \"51\": 1, \"20\": 1, \"129\": 1, \"10\": 1, \"5\": 2}, \"3\": {\"3\": 118, \"21\": 1, \"122\": 2, \"1\": 4, \"111\": 1, \"49\": 2, \"29\": 1, \"14\": 1, \"101\": 1, \"11\": 1, \"114\": 2, \"107\": 2}, \"83\": {\"83\": 26, \"38\": 1, \"19\": 1}, \"88\": {\"88\": 74, \"100\": 1, \"60\": 1, \"70\": 18, \"23\": 1, \"19\": 2, \"5\": 3, \"124\": 5, \"98\": 2, \"108\": 3, \"101\": 2, \"114\": 4, \"3\": 3, \"83\": 1, \"49\": 2, \"11\": 2, \"0\": 4, \"93\": 1, \"8\": 1}, \"87\": {\"87\": 82, \"115\": 2, \"76\": 1, \"89\": 3, \"7\": 10, \"108\": 1, \"105\": 6, \"14\": 3, \"40\": 2, \"1\": 1, \"107\": 6, \"11\": 8, \"104\": 1, \"128\": 1, \"82\": 2, \"72\": 1, \"3\": 1, \"43\": 1}, \"2\": {\"16\": 3, \"44\": 1, \"2\": 13, \"90\": 4, \"113\": 1, \"18\": 3, \"109\": 2, \"26\": 1}, \"86\": {\"86\": 28}, \"16\": {\"16\": 95, \"21\": 1, \"67\": 1, \"35\": 2, \"102\": 4, \"90\": 2, \"117\": 2, \"69\": 3, \"113\": 1, \"63\": 1, \"96\": 1, \"92\": 2, \"18\": 1, \"2\": 1, \"84\": 4, \"39\": 1}, \"21\": {\"21\": 31, \"10\": 1, \"123\": 2, \"1\": 1, \"127\": 1, \"62\": 1, \"26\": 1, \"51\": 1, \"87\": 1}, \"96\": {\"96\": 17, \"87\": 1, \"90\": 1, \"109\": 1}, \"100\": {\"100\": 20}, \"7\": {\"7\": 87, \"107\": 8, \"29\": 2, \"79\": 1, \"71\": 1, \"108\": 1, \"89\": 2, \"87\": 5, \"14\": 2, \"105\": 6, \"40\": 1, \"1\": 3, \"113\": 1}, \"75\": {\"75\": 15, \"54\": 1}, \"10\": {\"10\": 63, \"97\": 3, \"9\": 2, \"25\": 3, \"0\": 2, \"88\": 2, \"30\": 7, \"15\": 10, \"5\": 1, \"27\": 3, \"12\": 1, \"24\": 12, \"36\": 10, \"126\": 1, \"106\": 1, \"111\": 1, \"117\": 1, \"70\": 1}, \"43\": {\"11\": 6, \"43\": 63, \"126\": 3, \"110\": 4, \"44\": 1, \"113\": 1, \"109\": 2, \"33\": 11, \"108\": 1, \"122\": 3, \"40\": 2, \"3\": 1, \"107\": 2, \"87\": 2, \"14\": 6, \"45\": 2, \"19\": 1, \"66\": 1, \"82\": 2, \"72\": 1, \"99\": 2, \"5\": 1, \"90\": 1, \"105\": 1}, \"92\": {\"92\": 26, \"44\": 1, \"13\": 1}, \"62\": {\"62\": 33, \"33\": 5, \"116\": 1, \"44\": 1, \"113\": 1, \"102\": 1, \"88\": 1, \"107\": 2, \"57\": 1, \"84\": 1, \"118\": 5, \"92\": 2, \"69\": 6}, \"31\": {\"118\": 2, \"31\": 12, \"84\": 2}, \"0\": {\"91\": 1, \"0\": 70, \"12\": 7, \"70\": 2, \"30\": 1, \"8\": 7, \"124\": 2, \"127\": 1, \"111\": 2, \"98\": 4, \"101\": 12, \"52\": 1, \"100\": 1, \"113\": 1, \"122\": 1, \"27\": 1}, \"45\": {\"45\": 16}, \"85\": {\"85\": 24, \"71\": 1, \"54\": 1, \"34\": 1, \"95\": 1}, \"119\": {\"119\": 16}, \"46\": {\"46\": 20}, \"71\": {\"71\": 76, \"83\": 2, \"105\": 2, \"114\": 9, \"3\": 1, \"89\": 1, \"124\": 4, \"1\": 2, \"55\": 2, \"4\": 2, \"113\": 1, \"110\": 1, \"126\": 1}, \"8\": {\"8\": 105, \"101\": 7, \"0\": 5, \"98\": 2, \"10\": 1, \"15\": 2, \"113\": 1, \"126\": 2, \"27\": 1, \"106\": 3, \"30\": 2, \"12\": 3}, \"118\": {\"118\": 76, \"31\": 1, \"96\": 1, \"99\": 1, \"122\": 2, \"43\": 3, \"62\": 4, \"84\": 3, \"90\": 6, \"102\": 3, \"39\": 1, \"33\": 1, \"48\": 1, \"38\": 1, \"69\": 3, \"44\": 1, \"36\": 1, \"101\": 1, \"109\": 1, \"18\": 1}, \"1\": {\"1\": 83, \"14\": 2, \"12\": 1, \"3\": 4, \"109\": 1, \"94\": 1, \"105\": 3, \"126\": 3, \"87\": 1, \"85\": 1, \"21\": 1, \"114\": 1, \"71\": 2, \"108\": 1, \"111\": 2, \"124\": 1}, \"38\": {\"38\": 13, \"57\": 2, \"93\": 1}, \"30\": {\"9\": 2, \"30\": 46, \"108\": 1, \"36\": 2, \"24\": 5, \"15\": 4, \"10\": 6, \"8\": 2, \"6\": 1, \"51\": 1, \"21\": 1, \"109\": 1, \"121\": 1, \"5\": 1, \"106\": 2}, \"66\": {\"118\": 2, \"66\": 13, \"90\": 1}, \"9\": {\"9\": 24, \"15\": 2, \"53\": 1, \"10\": 1}, \"5\": {\"5\": 121, \"43\": 2, \"90\": 2, \"110\": 5, \"113\": 1, \"14\": 1, \"11\": 2, \"3\": 2}, \"24\": {\"24\": 59, \"30\": 9, \"101\": 1, \"15\": 8, \"27\": 6, \"18\": 1, \"26\": 1, \"10\": 14, \"70\": 4, \"94\": 2, \"36\": 10, \"8\": 4, \"111\": 1}, \"97\": {\"115\": 1, \"97\": 14, \"47\": 1, \"27\": 1, \"25\": 3}, \"67\": {\"26\": 1, \"67\": 4, \"33\": 1, \"123\": 4, \"48\": 1, \"18\": 2, \"82\": 1, \"81\": 1, \"113\": 1}, \"19\": {\"97\": 1, \"71\": 1, \"110\": 3, \"27\": 1, \"80\": 1, \"129\": 1, \"0\": 2, \"70\": 2, \"83\": 2, \"124\": 1, \"108\": 1, \"19\": 5, \"5\": 1, \"20\": 2, \"53\": 1, \"44\": 1, \"101\": 2}, \"77\": {\"97\": 1, \"77\": 10, \"106\": 1}, \"26\": {\"26\": 92, \"121\": 2, \"18\": 16, \"117\": 7, \"93\": 1}, \"115\": {\"24\": 1, \"50\": 1, \"40\": 2, \"115\": 8, \"76\": 1, \"107\": 2, \"128\": 1}, \"50\": {\"50\": 12, \"14\": 2, \"107\": 2}, \"120\": {\"120\": 20}, \"102\": {\"102\": 115, \"90\": 2, \"44\": 3, \"14\": 1, \"84\": 4, \"69\": 1, \"16\": 2}, \"29\": {\"29\": 28, \"98\": 2, \"111\": 2}, \"44\": {\"44\": 48, \"113\": 2, \"122\": 1, \"109\": 1, \"90\": 3, \"102\": 4, \"84\": 1, \"66\": 1, \"33\": 2, \"118\": 1}, \"124\": {\"124\": 99, \"114\": 7, \"99\": 1, \"128\": 2, \"95\": 1, \"4\": 1, \"0\": 3, \"71\": 3, \"98\": 1}, \"78\": {\"78\": 7, \"44\": 1, \"21\": 2, \"36\": 1, \"113\": 2, \"71\": 2, \"93\": 3, \"3\": 1, \"11\": 1, \"82\": 2, \"84\": 1, \"26\": 1, \"79\": 2, \"88\": 2, \"60\": 1, \"43\": 2, \"120\": 1, \"50\": 1, \"83\": 1, \"108\": 1, \"87\": 1}, \"104\": {\"104\": 16}, \"105\": {\"107\": 8, \"105\": 77, \"40\": 2, \"128\": 1, \"110\": 1, \"87\": 3, \"72\": 1, \"78\": 1, \"7\": 3, \"101\": 2, \"113\": 1}, \"28\": {\"28\": 19, \"32\": 1}, \"37\": {\"37\": 16}, \"107\": {\"107\": 112, \"33\": 2, \"84\": 1, \"43\": 1, \"108\": 1, \"87\": 4, \"40\": 1, \"11\": 2, \"89\": 1, \"14\": 1, \"1\": 2, \"102\": 1, \"3\": 2, \"88\": 1}, \"6\": {\"6\": 13, \"75\": 2, \"25\": 1, \"91\": 2, \"101\": 1, \"124\": 1, \"98\": 1, \"68\": 1, \"111\": 2}, \"17\": {\"104\": 4, \"17\": 16}, \"57\": {\"57\": 11, \"90\": 2, \"102\": 1, \"33\": 2}, \"121\": {\"121\": 18, \"57\": 1, \"102\": 1, \"21\": 1, \"84\": 1, \"18\": 1, \"16\": 4, \"92\": 2, \"81\": 1, \"39\": 2}, \"58\": {\"58\": 11, \"91\": 2, \"106\": 1, \"15\": 2}, \"64\": {\"64\": 16}, \"82\": {\"82\": 27, \"32\": 1, \"87\": 4}, \"39\": {\"18\": 8, \"39\": 64, \"117\": 4, \"80\": 1, \"38\": 1, \"2\": 2, \"81\": 2, \"113\": 7, \"69\": 1, \"126\": 4, \"26\": 1, \"118\": 1, \"102\": 1, \"121\": 2, \"96\": 1}, \"110\": {\"110\": 97, \"129\": 1, \"26\": 1, \"19\": 2, \"5\": 7, \"16\": 1, \"93\": 2, \"14\": 1, \"69\": 2, \"21\": 1, \"9\": 1, \"73\": 1, \"0\": 1, \"128\": 1, \"126\": 1, \"43\": 1, \"11\": 2, \"88\": 1}, \"114\": {\"114\": 105, \"120\": 2, \"128\": 1, \"11\": 1, \"71\": 7, \"98\": 3, \"5\": 1, \"85\": 2, \"1\": 1, \"39\": 1, \"4\": 2, \"3\": 1, \"101\": 1}, \"20\": {\"20\": 14, \"5\": 1, \"3\": 1}, \"117\": {\"18\": 9, \"117\": 94, \"16\": 2, \"39\": 1, \"113\": 2, \"81\": 1, \"26\": 3, \"92\": 1, \"109\": 1}, \"18\": {\"18\": 103, \"26\": 11, \"113\": 1, \"16\": 2, \"117\": 2, \"39\": 1}, \"99\": {\"99\": 37, \"82\": 3}, \"23\": {\"117\": 1, \"124\": 1, \"91\": 1, \"123\": 1, \"106\": 1, \"122\": 1, \"39\": 2, \"23\": 3, \"129\": 1, \"63\": 1, \"51\": 1, \"70\": 2}, \"128\": {\"128\": 15, \"107\": 2, \"49\": 1, \"124\": 2, \"33\": 1, \"114\": 1, \"100\": 1, \"99\": 1}, \"60\": {\"128\": 1, \"33\": 3, \"57\": 1, \"3\": 1, \"71\": 3, \"60\": 6, \"48\": 1, \"90\": 2, \"127\": 1, \"46\": 4, \"114\": 2, \"116\": 1, \"43\": 1, \"5\": 1, \"124\": 1, \"129\": 1, \"49\": 2}, \"70\": {\"101\": 5, \"70\": 67, \"9\": 1, \"26\": 1, \"88\": 8, \"98\": 1, \"108\": 1, \"78\": 1, \"83\": 2, \"19\": 3, \"49\": 2, \"27\": 2, \"106\": 1, \"118\": 1, \"114\": 2, \"36\": 1, \"8\": 2, \"111\": 2, \"69\": 1, \"93\": 1, \"112\": 3, \"100\": 3, \"1\": 1, \"71\": 2, \"126\": 1, \"24\": 1, \"124\": 1, \"0\": 2, \"113\": 1}, \"122\": {\"122\": 44, \"44\": 1, \"32\": 1, \"43\": 8, \"33\": 5, \"72\": 1, \"126\": 2, \"90\": 2, \"84\": 2, \"22\": 1, \"5\": 3, \"110\": 2, \"114\": 1, \"116\": 1, \"82\": 2, \"102\": 5, \"118\": 2, \"62\": 1}, \"101\": {\"101\": 83, \"122\": 1, \"75\": 1, \"70\": 1, \"53\": 2, \"78\": 1, \"3\": 1, \"52\": 1, \"124\": 2, \"128\": 2, \"0\": 7, \"98\": 2, \"8\": 10, \"111\": 5, \"93\": 1, \"85\": 2, \"4\": 2, \"106\": 1, \"110\": 1, \"88\": 1, \"12\": 5}, \"33\": {\"44\": 1, \"66\": 1, \"84\": 1, \"33\": 118, \"122\": 3, \"14\": 1, \"102\": 1, \"107\": 2, \"32\": 2, \"90\": 1, \"43\": 1}, \"40\": {\"40\": 116, \"39\": 1, \"105\": 1, \"33\": 3, \"126\": 1, \"87\": 4, \"117\": 1, \"113\": 1, \"88\": 1, \"108\": 1}, \"41\": {\"41\": 11, \"56\": 1, \"106\": 1, \"95\": 2, \"21\": 1}, \"59\": {\"59\": 12}, \"4\": {\"4\": 91, \"39\": 1, \"38\": 1, \"27\": 1, \"124\": 1, \"108\": 2, \"62\": 1, \"86\": 2, \"109\": 1, \"71\": 2, \"36\": 1}, \"112\": {\"112\": 14, \"93\": 1, \"42\": 1}, \"36\": {\"30\": 5, \"36\": 93, \"10\": 6, \"27\": 1, \"18\": 1, \"15\": 3, \"24\": 10, \"94\": 5, \"39\": 1, \"8\": 3}, \"48\": {\"48\": 11, \"90\": 2, \"66\": 2, \"76\": 1}, \"126\": {\"126\": 88, \"39\": 8, \"81\": 2, \"18\": 3, \"26\": 2, \"113\": 11, \"84\": 1, \"16\": 1}, \"125\": {\"77\": 2, \"125\": 107, \"75\": 2, \"113\": 1, \"8\": 2, \"106\": 2, \"98\": 2, \"15\": 2, \"18\": 1, \"102\": 1}, \"84\": {\"84\": 104, \"48\": 1, \"21\": 1, \"44\": 2, \"36\": 1, \"102\": 2, \"39\": 1, \"62\": 1, \"90\": 1, \"27\": 1, \"126\": 3, \"69\": 2, \"96\": 2, \"88\": 2, \"5\": 1, \"33\": 2, \"93\": 1}, \"80\": {\"80\": 16}, \"49\": {\"122\": 2, \"49\": 3, \"0\": 1, \"79\": 1, \"11\": 3, \"14\": 1, \"8\": 3, \"60\": 2, \"3\": 1, \"72\": 4, \"5\": 6, \"106\": 1, \"20\": 1, \"73\": 1, \"12\": 1, \"33\": 1}, \"47\": {\"25\": 1, \"47\": 7, \"6\": 2, \"125\": 2}, \"95\": {\"95\": 30, \"85\": 2}, \"54\": {\"54\": 16}, \"25\": {\"25\": 15, \"97\": 1}, \"116\": {\"84\": 3, \"69\": 2, \"116\": 13, \"90\": 2, \"44\": 2, \"72\": 1, \"22\": 2, \"66\": 1, \"122\": 1, \"32\": 1}, \"74\": {\"74\": 16}, \"35\": {\"35\": 11, \"117\": 1}, \"15\": {\"15\": 105, \"59\": 2, \"94\": 7, \"8\": 2, \"30\": 5, \"0\": 1, \"108\": 1, \"36\": 1, \"12\": 2, \"111\": 2}, \"108\": {\"5\": 9, \"41\": 1, \"108\": 52, \"88\": 6, \"109\": 1, \"49\": 1, \"71\": 2, \"110\": 5, \"94\": 1, \"93\": 5, \"36\": 1, \"126\": 2, \"27\": 1, \"30\": 1, \"70\": 1, \"51\": 1, \"19\": 1, \"100\": 1}, \"34\": {\"3\": 7, \"103\": 3, \"6\": 1, \"49\": 2, \"46\": 1, \"127\": 1, \"34\": 4, \"98\": 1, \"89\": 1, \"125\": 1, \"128\": 1, \"71\": 3, \"124\": 2, \"42\": 1, \"75\": 1, \"68\": 2}, \"81\": {\"81\": 27, \"113\": 4, \"18\": 2, \"16\": 1, \"63\": 1, \"44\": 1}, \"93\": {\"93\": 123, \"126\": 1, \"108\": 2, \"3\": 1, \"90\": 1}, \"55\": {\"55\": 13, \"4\": 1, \"86\": 2}, \"27\": {\"27\": 78, \"10\": 2, \"70\": 2, \"122\": 1, \"8\": 5, \"24\": 3, \"71\": 2, \"30\": 1, \"36\": 2, \"112\": 1, \"0\": 1, \"98\": 2}, \"109\": {\"11\": 1, \"109\": 59, \"122\": 2, \"90\": 14, \"44\": 8, \"84\": 2, \"110\": 3, \"16\": 1, \"43\": 3, \"117\": 2, \"118\": 2, \"80\": 2, \"116\": 4, \"102\": 2, \"113\": 1, \"108\": 1, \"69\": 1, \"93\": 2}, \"106\": {\"125\": 2, \"106\": 78, \"103\": 2, \"98\": 2, \"12\": 11, \"111\": 4, \"101\": 3, \"109\": 1, \"113\": 1, \"8\": 3, \"58\": 2, \"26\": 1, \"127\": 2, \"10\": 1, \"126\": 1, \"93\": 1, \"24\": 1}, \"68\": {\"106\": 1, \"68\": 9, \"103\": 2, \"111\": 2, \"121\": 1, \"98\": 1}, \"76\": {\"93\": 1, \"76\": 14, \"78\": 1}, \"103\": {\"103\": 14, \"6\": 1, \"118\": 1}, \"42\": {\"110\": 1, \"6\": 1, \"51\": 1, \"53\": 1, \"42\": 9, \"68\": 2, \"48\": 1, \"93\": 1, \"101\": 3, \"100\": 2, \"108\": 1, \"106\": 1, \"127\": 1, \"30\": 1, \"52\": 2}, \"129\": {\"0\": 1, \"129\": 9, \"73\": 2, \"90\": 2, \"5\": 4, \"14\": 1, \"110\": 2, \"20\": 1, \"114\": 2, \"46\": 1, \"60\": 1, \"3\": 1, \"29\": 1}, \"94\": {\"15\": 4, \"94\": 67, \"39\": 1, \"88\": 1, \"6\": 1, \"36\": 3, \"125\": 1, \"24\": 2, \"3\": 2, \"21\": 1, \"108\": 1, \"8\": 1, \"109\": 1, \"117\": 1, \"113\": 1}, \"123\": {\"123\": 16}, \"61\": {\"61\": 15, \"26\": 1}, \"51\": {\"39\": 1, \"51\": 3, \"111\": 2, \"121\": 1, \"27\": 3, \"58\": 1, \"21\": 1, \"6\": 1, \"53\": 1, \"106\": 2}, \"98\": {\"33\": 1, \"53\": 1, \"98\": 98, \"39\": 1, \"109\": 4, \"124\": 3, \"127\": 1, \"93\": 1, \"18\": 1, \"121\": 1, \"29\": 1, \"111\": 1, \"4\": 1, \"102\": 1, \"90\": 1, \"0\": 1}, \"56\": {\"56\": 8, \"4\": 2, \"37\": 2}, \"14\": {\"14\": 89, \"72\": 1, \"66\": 1, \"11\": 5, \"122\": 2, \"16\": 1, \"110\": 1, \"1\": 1, \"107\": 1, \"43\": 3, \"23\": 1, \"45\": 1, \"83\": 1, \"44\": 1, \"3\": 1, \"39\": 1, \"90\": 1}, \"90\": {\"90\": 135, \"44\": 1, \"18\": 1, \"66\": 1}, \"13\": {\"13\": 16}, \"89\": {\"89\": 31, \"12\": 1}, \"52\": {\"52\": 15, \"89\": 1, \"3\": 1, \"34\": 1, \"127\": 2}, \"72\": {\"72\": 26, \"11\": 1, \"14\": 2, \"122\": 1, \"116\": 1, \"99\": 1}, \"79\": {\"79\": 15, \"3\": 1}, \"113\": {\"113\": 102, \"117\": 6, \"39\": 7, \"121\": 2, \"12\": 1, \"126\": 5, \"2\": 1, \"16\": 2}}, \"Wisig_1\": {\"68\": {\"68\": 15, \"111\": 1}, \"7\": {\"7\": 142}, \"125\": {\"125\": 117, \"68\": 1}, \"111\": {\"68\": 3, \"111\": 98, \"127\": 5, \"116\": 1, \"106\": 3, \"71\": 3, \"88\": 1, \"93\": 1, \"15\": 2, \"125\": 1, \"98\": 1, \"12\": 1}, \"101\": {\"101\": 121, \"108\": 2, \"113\": 1}, \"11\": {\"42\": 2, \"11\": 88, \"100\": 1, \"82\": 3, \"64\": 1, \"102\": 1, \"3\": 8, \"39\": 1, \"90\": 5, \"33\": 2, \"122\": 4, \"1\": 2, \"7\": 10, \"28\": 2, \"25\": 1, \"116\": 1, \"43\": 2, \"60\": 1, \"93\": 1}, \"76\": {\"76\": 15, \"62\": 1}, \"5\": {\"5\": 82, \"34\": 2, \"83\": 1, \"44\": 1, \"31\": 1, \"39\": 1}, \"123\": {\"123\": 14, \"44\": 1, \"19\": 1}, \"85\": {\"85\": 28, \"32\": 2, \"10\": 2}, \"34\": {\"77\": 2, \"51\": 2, \"34\": 7, \"89\": 1, \"87\": 2, \"57\": 1, \"17\": 5, \"14\": 4, \"124\": 1, \"68\": 1, \"115\": 1, \"5\": 1, \"128\": 1, \"125\": 1, \"92\": 1, \"91\": 1}, \"42\": {\"34\": 1, \"42\": 10, \"66\": 1, \"40\": 1, \"3\": 1, \"23\": 1, \"8\": 3, \"11\": 1, \"86\": 2, \"124\": 1, \"5\": 3, \"114\": 3}, \"81\": {\"81\": 27, \"100\": 1}, \"127\": {\"68\": 2, \"127\": 92, \"111\": 5, \"106\": 3, \"36\": 1, \"51\": 1, \"17\": 1, \"72\": 2, \"88\": 1}, \"60\": {\"34\": 4, \"117\": 4, \"5\": 1, \"18\": 1, \"124\": 1, \"60\": 1, \"83\": 1, \"16\": 1, \"102\": 1, \"14\": 1}, \"77\": {\"77\": 15, \"17\": 1}, \"65\": {\"33\": 1, \"123\": 1, \"65\": 5, \"66\": 1, \"119\": 1, \"122\": 1, \"11\": 2}, \"44\": {\"44\": 75, \"73\": 1}, \"100\": {\"100\": 14, \"99\": 2}, \"80\": {\"80\": 16}, \"83\": {\"83\": 25, \"0\": 1, \"98\": 1, \"86\": 1}, \"51\": {\"51\": 15, \"98\": 1}, \"93\": {\"10\": 5, \"93\": 78, \"37\": 1, \"86\": 1, \"55\": 1, \"105\": 5, \"8\": 13, \"40\": 3, \"122\": 1, \"4\": 9, \"43\": 2, \"5\": 2, \"117\": 1, \"3\": 1, \"107\": 4, \"114\": 1, \"79\": 2, \"70\": 1, \"87\": 1, \"84\": 1, \"124\": 1}, \"31\": {\"31\": 14, \"23\": 1, \"89\": 1}, \"33\": {\"33\": 121, \"116\": 2, \"102\": 1, \"19\": 1, \"45\": 1}, \"113\": {\"113\": 114, \"18\": 2, \"69\": 1, \"16\": 2, \"117\": 4, \"43\": 1}, \"126\": {\"126\": 112, \"19\": 2, \"96\": 1, \"117\": 1, \"44\": 3, \"111\": 2, \"26\": 1, \"70\": 2}, \"10\": {\"10\": 70, \"85\": 3, \"83\": 3, \"44\": 1, \"8\": 8, \"93\": 14, \"87\": 2, \"0\": 1, \"105\": 1, \"41\": 2, \"4\": 3, \"5\": 2, \"70\": 4, \"40\": 3, \"107\": 3}, \"21\": {\"21\": 19, \"23\": 2, \"126\": 3, \"1\": 1, \"44\": 1, \"84\": 1, \"109\": 1, \"18\": 1, \"72\": 2, \"87\": 4, \"122\": 1, \"103\": 1, \"108\": 1, \"43\": 1, \"10\": 1}, \"90\": {\"90\": 128, \"50\": 1, \"16\": 1, \"3\": 1, \"62\": 1}, \"38\": {\"38\": 16}, \"96\": {\"96\": 15, \"126\": 2, \"19\": 2, \"24\": 1}, \"6\": {\"37\": 1, \"94\": 3, \"53\": 2, \"127\": 1, \"106\": 1, \"6\": 11, \"112\": 1, \"27\": 1, \"98\": 3, \"71\": 2, \"89\": 1, \"30\": 1, \"52\": 1, \"32\": 1, \"15\": 2}, \"121\": {\"113\": 2, \"121\": 25, \"117\": 1, \"63\": 1, \"123\": 2, \"118\": 1}, \"37\": {\"37\": 16}, \"88\": {\"94\": 9, \"88\": 69, \"52\": 1, \"30\": 3, \"24\": 12, \"108\": 7, \"15\": 8, \"27\": 9, \"36\": 5, \"109\": 1, \"71\": 1, \"126\": 1}, \"54\": {\"54\": 15, \"34\": 1}, \"92\": {\"92\": 28}, \"19\": {\"96\": 1, \"19\": 16, \"115\": 1, \"20\": 2, \"9\": 1, \"124\": 3, \"34\": 1, \"129\": 1, \"14\": 2}, \"47\": {\"47\": 12}, \"94\": {\"94\": 78, \"30\": 1, \"36\": 4, \"71\": 1, \"88\": 3, \"18\": 1, \"27\": 3, \"113\": 1}, \"66\": {\"66\": 16}, \"73\": {\"73\": 17, \"9\": 1, \"22\": 2}, \"75\": {\"75\": 15, \"106\": 1}, \"28\": {\"28\": 16, \"61\": 1, \"102\": 1, \"75\": 1, \"122\": 1}, \"20\": {\"20\": 16}, \"78\": {\"39\": 1, \"78\": 8, \"87\": 2, \"122\": 4, \"11\": 1}, \"71\": {\"71\": 72, \"12\": 6, \"109\": 1, \"111\": 9, \"15\": 6, \"117\": 1, \"127\": 5, \"98\": 2, \"21\": 1, \"70\": 1}, \"13\": {\"13\": 16}, \"118\": {\"118\": 65, \"26\": 12, \"16\": 4, \"18\": 2, \"3\": 1}, \"72\": {\"72\": 30, \"9\": 1, \"29\": 1}, \"24\": {\"24\": 71, \"88\": 2, \"108\": 11, \"30\": 2, \"27\": 4, \"12\": 1, \"126\": 1}, \"41\": {\"41\": 10, \"38\": 2, \"40\": 3, \"105\": 1}, \"102\": {\"102\": 111, \"50\": 2, \"33\": 5, \"69\": 1, \"127\": 1}, \"8\": {\"39\": 1, \"8\": 95, \"35\": 1, \"10\": 3, \"124\": 5, \"86\": 3, \"19\": 1, \"43\": 1, \"4\": 11, \"107\": 3, \"93\": 6, \"62\": 1, \"105\": 2, \"34\": 1, \"0\": 1, \"5\": 1, \"44\": 1, \"84\": 1}, \"39\": {\"39\": 62, \"13\": 1, \"18\": 13, \"16\": 6, \"117\": 10, \"33\": 1, \"109\": 1, \"88\": 1, \"12\": 1}, \"97\": {\"97\": 15, \"30\": 1, \"24\": 1, \"101\": 2, \"2\": 1}, \"48\": {\"48\": 12}, \"57\": {\"57\": 12}, \"29\": {\"29\": 28}, \"119\": {\"119\": 16}, \"89\": {\"89\": 33, \"79\": 1, \"31\": 1, \"32\": 1}, \"40\": {\"40\": 134, \"105\": 4, \"41\": 1, \"43\": 1}, \"22\": {\"97\": 1, \"22\": 13, \"25\": 2}, \"53\": {\"53\": 14, \"91\": 1, \"106\": 2, \"127\": 1, \"98\": 2}, \"108\": {\"108\": 93, \"24\": 3, \"88\": 5, \"72\": 1, \"101\": 9, \"30\": 2, \"126\": 4, \"44\": 1, \"11\": 1, \"97\": 1, \"9\": 1, \"109\": 2, \"43\": 1}, \"23\": {\"35\": 2, \"11\": 4, \"25\": 1, \"100\": 1, \"107\": 1, \"82\": 2, \"106\": 1, \"99\": 2, \"23\": 4, \"5\": 1, \"33\": 1, \"29\": 1, \"89\": 2, \"91\": 1}, \"109\": {\"109\": 98, \"21\": 1, \"104\": 1, \"64\": 1, \"126\": 6, \"70\": 4, \"101\": 1, \"3\": 1, \"11\": 2, \"108\": 1}, \"112\": {\"112\": 14, \"111\": 1, \"32\": 1}, \"35\": {\"23\": 2, \"35\": 10}, \"3\": {\"3\": 80, \"20\": 2, \"111\": 2, \"36\": 1, \"129\": 2, \"71\": 1}, \"103\": {\"103\": 13, \"94\": 1, \"52\": 1, \"127\": 1}, \"4\": {\"4\": 95, \"8\": 1, \"109\": 1, \"25\": 1, \"86\": 2}, \"87\": {\"87\": 66, \"78\": 1, \"41\": 1, \"40\": 6, \"48\": 1, \"122\": 3, \"43\": 6, \"109\": 1, \"105\": 8, \"84\": 3, \"14\": 3, \"93\": 2, \"46\": 1, \"128\": 2, \"4\": 2, \"114\": 2}, \"25\": {\"25\": 12, \"81\": 1, \"82\": 2, \"113\": 1}, \"15\": {\"15\": 84, \"111\": 4, \"127\": 3, \"69\": 1, \"12\": 6, \"27\": 1, \"71\": 3, \"121\": 1, \"109\": 1}, \"95\": {\"95\": 25, \"26\": 6, \"16\": 4, \"117\": 1}, \"120\": {\"120\": 13, \"48\": 2, \"105\": 2, \"80\": 1, \"123\": 1, \"121\": 1}, \"59\": {\"59\": 9, \"36\": 1, \"92\": 1, \"118\": 1}, \"49\": {\"49\": 8, \"51\": 1, \"9\": 3, \"5\": 1, \"96\": 1, \"53\": 1, \"71\": 1, \"0\": 1, \"106\": 1, \"35\": 1, \"124\": 1}, \"52\": {\"52\": 18, \"109\": 1, \"24\": 1}, \"45\": {\"22\": 2, \"1\": 2, \"47\": 1, \"92\": 1, \"82\": 2, \"84\": 2, \"122\": 1, \"24\": 1}, \"107\": {\"107\": 122, \"0\": 1, \"8\": 1}, \"106\": {\"103\": 1, \"106\": 111, \"51\": 1, \"10\": 1, \"32\": 1, \"111\": 3, \"127\": 8, \"53\": 3, \"98\": 3, \"91\": 2}, \"18\": {\"18\": 124}, \"64\": {\"64\": 16}, \"86\": {\"86\": 32, \"5\": 1, \"14\": 2, \"108\": 1}, \"14\": {\"115\": 2, \"14\": 84, \"84\": 4, \"1\": 1, \"114\": 1, \"129\": 2, \"122\": 1, \"42\": 1}, \"115\": {\"115\": 12}, \"0\": {\"0\": 67, \"86\": 1, \"5\": 2, \"107\": 7, \"91\": 1, \"110\": 2, \"122\": 1, \"94\": 1, \"4\": 2}, \"104\": {\"104\": 16}, \"61\": {\"61\": 12}, \"129\": {\"129\": 9, \"23\": 2, \"60\": 5, \"128\": 2, \"62\": 1, \"44\": 2, \"90\": 1, \"18\": 2, \"83\": 1, \"3\": 1, \"14\": 2}, \"122\": {\"122\": 63, \"25\": 1, \"78\": 2, \"14\": 3, \"87\": 2, \"7\": 5, \"114\": 1, \"43\": 5, \"117\": 1, \"39\": 1, \"1\": 3, \"40\": 1}, \"67\": {\"67\": 14, \"21\": 1, \"97\": 1}, \"128\": {\"57\": 1, \"128\": 6, \"72\": 3, \"28\": 1, \"9\": 1, \"22\": 3, \"104\": 1, \"7\": 1, \"99\": 2, \"81\": 2, \"49\": 1, \"29\": 1, \"102\": 1}, \"26\": {\"95\": 4, \"26\": 117, \"118\": 6, \"113\": 1, \"16\": 4, \"117\": 1, \"121\": 1}, \"117\": {\"117\": 127, \"63\": 1, \"16\": 8}, \"91\": {\"91\": 16, \"98\": 1, \"53\": 2, \"89\": 2, \"32\": 3, \"71\": 1, \"0\": 1, \"75\": 2}, \"12\": {\"12\": 88, \"15\": 2, \"70\": 2, \"108\": 3, \"111\": 2, \"6\": 2, \"127\": 2, \"71\": 1, \"125\": 2}, \"50\": {\"50\": 15, \"90\": 1}, \"99\": {\"99\": 24}, \"110\": {\"110\": 99, \"106\": 4, \"0\": 1}, \"43\": {\"43\": 67, \"87\": 4, \"22\": 1, \"84\": 3, \"14\": 5, \"24\": 2, \"122\": 12, \"7\": 10, \"39\": 1, \"11\": 5, \"101\": 1, \"1\": 2, \"23\": 1, \"114\": 1, \"15\": 1}, \"82\": {\"81\": 1, \"82\": 32, \"99\": 3}, \"1\": {\"1\": 94, \"84\": 1, \"88\": 1}, \"46\": {\"6\": 1, \"40\": 1, \"46\": 4, \"38\": 1, \"32\": 1, \"107\": 1, \"127\": 1, \"105\": 1, \"12\": 1}, \"16\": {\"16\": 91, \"117\": 10, \"39\": 1, \"113\": 2, \"26\": 2, \"102\": 2}, \"74\": {\"74\": 16}, \"32\": {\"32\": 12, \"0\": 2, \"111\": 5, \"53\": 1, \"127\": 1, \"106\": 1, \"71\": 2, \"91\": 2, \"112\": 1, \"51\": 1, \"41\": 1, \"107\": 1, \"89\": 2}, \"62\": {\"62\": 108, \"33\": 5, \"70\": 1, \"67\": 1, \"94\": 1, \"69\": 2, \"90\": 2}, \"27\": {\"27\": 54, \"17\": 2, \"112\": 2, \"30\": 8, \"126\": 1, \"94\": 7, \"88\": 8, \"15\": 2, \"6\": 2, \"69\": 1, \"21\": 1, \"101\": 3, \"36\": 1}, \"17\": {\"17\": 12, \"34\": 2, \"89\": 2}, \"36\": {\"36\": 124, \"88\": 3, \"27\": 3, \"101\": 2, \"39\": 1, \"94\": 1}, \"2\": {\"18\": 5, \"66\": 1, \"90\": 2, \"2\": 8, \"116\": 2, \"102\": 3, \"39\": 4, \"114\": 1, \"13\": 1, \"81\": 2, \"82\": 2, \"11\": 1}, \"70\": {\"70\": 72, \"8\": 4, \"124\": 6, \"79\": 2, \"109\": 3, \"49\": 1, \"126\": 5, \"5\": 6, \"93\": 7, \"10\": 3, \"18\": 3, \"11\": 1, \"108\": 2, \"110\": 1, \"129\": 1, \"35\": 2, \"44\": 3, \"73\": 1, \"71\": 1, \"0\": 1, \"84\": 1, \"12\": 1, \"107\": 1}, \"9\": {\"9\": 30, \"29\": 1, \"72\": 1}, \"114\": {\"124\": 2, \"114\": 125, \"84\": 3}, \"79\": {\"79\": 12}, \"56\": {\"56\": 10, \"112\": 1, \"110\": 1}, \"124\": {\"124\": 96, \"114\": 5, \"84\": 1}, \"84\": {\"84\": 126, \"114\": 4, \"14\": 4}, \"69\": {\"69\": 102, \"16\": 1, \"118\": 2, \"26\": 1, \"102\": 2}, \"58\": {\"58\": 9, \"91\": 1, \"125\": 1, \"111\": 1}, \"30\": {\"24\": 1, \"94\": 1, \"30\": 35, \"27\": 8, \"126\": 2, \"88\": 1, \"6\": 3, \"58\": 1}, \"55\": {\"55\": 12}, \"105\": {\"105\": 69, \"40\": 7, \"43\": 2, \"114\": 4, \"8\": 2}, \"63\": {\"117\": 1, \"63\": 15}, \"98\": {\"98\": 100, \"106\": 4, \"110\": 2, \"58\": 1, \"6\": 1}, \"116\": {\"80\": 2, \"116\": 10, \"69\": 2, \"33\": 3, \"102\": 3, \"90\": 3, \"82\": 1, \"119\": 1, \"62\": 2, \"26\": 2, \"28\": 1, \"60\": 1, \"7\": 1}}, \"Wisig_3\": {\"76\": {\"76\": 16}, \"6\": {\"46\": 1, \"94\": 4, \"58\": 2, \"6\": 9, \"75\": 1, \"111\": 7, \"72\": 2, \"68\": 1, \"34\": 1, \"97\": 2, \"69\": 1, \"101\": 1}, \"108\": {\"46\": 3, \"124\": 6, \"108\": 78, \"94\": 2, \"70\": 6, \"8\": 5, \"0\": 1, \"98\": 1, \"10\": 1, \"127\": 1, \"114\": 2}, \"29\": {\"29\": 25, \"116\": 1, \"111\": 1, \"11\": 2, \"102\": 1, \"31\": 2}, \"83\": {\"83\": 24}, \"18\": {\"18\": 123, \"88\": 1, \"117\": 2, \"78\": 1, \"67\": 1}, \"54\": {\"54\": 16}, \"15\": {\"15\": 98, \"106\": 4, \"8\": 1, \"94\": 1}, \"100\": {\"100\": 16}, \"90\": {\"90\": 126, \"45\": 2, \"29\": 1, \"40\": 1, \"44\": 2, \"109\": 1, \"11\": 1, \"79\": 1, \"18\": 1}, \"26\": {\"26\": 124, \"39\": 1, \"5\": 1, \"18\": 2, \"2\": 1, \"121\": 1, \"109\": 1, \"43\": 1}, \"115\": {\"115\": 12, \"57\": 4}, \"94\": {\"94\": 78, \"24\": 1, \"15\": 2, \"125\": 2, \"102\": 1}, \"46\": {\"46\": 16}, \"121\": {\"121\": 22, \"63\": 1, \"113\": 2, \"26\": 1, \"117\": 3, \"81\": 1, \"18\": 2}, \"109\": {\"26\": 2, \"109\": 77, \"118\": 15, \"69\": 2, \"113\": 5, \"102\": 5, \"117\": 1, \"33\": 4, \"16\": 2, \"89\": 1, \"63\": 1, \"64\": 1, \"44\": 1, \"43\": 3, \"93\": 3, \"62\": 3, \"39\": 1, \"11\": 1}, \"101\": {\"101\": 40, \"0\": 3, \"36\": 1, \"111\": 1, \"8\": 3, \"12\": 2, \"72\": 2}, \"99\": {\"9\": 1, \"99\": 33, \"7\": 1, \"128\": 1}, \"8\": {\"8\": 108, \"12\": 2, \"108\": 1, \"30\": 4, \"0\": 6, \"101\": 2, \"73\": 1, \"5\": 1, \"117\": 1, \"124\": 2}, \"102\": {\"102\": 96, \"118\": 2, \"33\": 6}, \"122\": {\"113\": 1, \"122\": 38, \"84\": 1, \"1\": 3, \"105\": 1, \"4\": 2, \"107\": 3, \"32\": 1, \"96\": 1, \"114\": 1, \"65\": 1, \"40\": 1, \"126\": 1, \"23\": 1, \"128\": 2, \"19\": 1, \"14\": 1}, \"36\": {\"36\": 96, \"27\": 6, \"24\": 4, \"125\": 1, \"0\": 4, \"83\": 1, \"94\": 1, \"98\": 1, \"108\": 2}, \"113\": {\"123\": 1, \"113\": 112, \"126\": 1, \"39\": 3, \"26\": 2, \"93\": 1}, \"123\": {\"123\": 15, \"117\": 1}, \"120\": {\"120\": 19, \"64\": 1}, \"125\": {\"125\": 98, \"101\": 1, \"94\": 1, \"111\": 2, \"15\": 4, \"118\": 1, \"73\": 1}, \"89\": {\"89\": 25, \"30\": 1, \"120\": 2}, \"9\": {\"9\": 32}, \"31\": {\"31\": 19, \"90\": 1}, \"62\": {\"62\": 96, \"119\": 1, \"33\": 2, \"118\": 1, \"116\": 2, \"84\": 7, \"126\": 1, \"69\": 2, \"109\": 1, \"110\": 1}, \"49\": {\"23\": 1, \"49\": 5, \"14\": 2, \"19\": 1, \"101\": 1, \"45\": 1, \"0\": 1, \"11\": 3, \"122\": 1, \"60\": 3, \"16\": 1, \"50\": 1, \"42\": 2, \"6\": 1}, \"23\": {\"18\": 4, \"128\": 1, \"23\": 5, \"85\": 3, \"127\": 1, \"26\": 3, \"98\": 3, \"113\": 1, \"71\": 1, \"117\": 1, \"109\": 1, \"2\": 2, \"69\": 1, \"121\": 2, \"118\": 1, \"108\": 1, \"124\": 1}, \"55\": {\"55\": 14, \"122\": 1, \"17\": 1}, \"128\": {\"128\": 10, \"55\": 1, \"42\": 2, \"122\": 1, \"124\": 3, \"1\": 4, \"5\": 2, \"12\": 2, \"73\": 1, \"98\": 1, \"85\": 3, \"105\": 1, \"107\": 1}, \"71\": {\"71\": 61, \"3\": 1, \"65\": 1, \"26\": 1, \"114\": 2, \"127\": 1, \"5\": 1}, \"51\": {\"51\": 16}, \"7\": {\"7\": 98, \"99\": 2, \"127\": 3, \"9\": 1, \"105\": 2}, \"117\": {\"117\": 99, \"67\": 1, \"39\": 2, \"113\": 2}, \"28\": {\"28\": 12, \"87\": 1, \"107\": 2, \"11\": 1}, \"127\": {\"127\": 120, \"9\": 2, \"5\": 2, \"19\": 1, \"85\": 1, \"17\": 1, \"10\": 1}, \"57\": {\"57\": 20}, \"78\": {\"23\": 1, \"28\": 1, \"78\": 7, \"101\": 1, \"22\": 1, \"84\": 1, \"54\": 1, \"40\": 1, \"87\": 1, \"92\": 1}, \"87\": {\"87\": 99, \"84\": 3, \"115\": 2, \"48\": 1, \"32\": 1, \"107\": 2, \"40\": 3, \"14\": 5, \"90\": 3, \"27\": 1}, \"40\": {\"40\": 117, \"57\": 2, \"70\": 1, \"39\": 1, \"74\": 4, \"49\": 1, \"107\": 2}, \"81\": {\"81\": 31, \"18\": 1}, \"2\": {\"96\": 3, \"117\": 1, \"43\": 1, \"2\": 15, \"67\": 1, \"26\": 1, \"18\": 1, \"63\": 2, \"121\": 2, \"39\": 1}, \"58\": {\"58\": 15, \"52\": 1}, \"68\": {\"68\": 12, \"52\": 2, \"63\": 1, \"91\": 1}, \"20\": {\"20\": 12, \"129\": 3, \"125\": 1}, \"35\": {\"35\": 12}, \"96\": {\"96\": 19, \"93\": 1}, \"84\": {\"84\": 105, \"14\": 1, \"44\": 2}, \"13\": {\"88\": 1, \"13\": 7, \"119\": 3, \"116\": 1, \"62\": 1, \"43\": 1, \"69\": 1, \"26\": 1}, \"64\": {\"64\": 20}, \"112\": {\"112\": 9, \"42\": 2, \"75\": 1, \"8\": 1, \"94\": 1, \"108\": 2}, \"103\": {\"103\": 16}, \"65\": {\"65\": 11, \"63\": 1}, \"118\": {\"118\": 67, \"64\": 1, \"69\": 2, \"109\": 11, \"92\": 2, \"102\": 9, \"33\": 3, \"113\": 1, \"16\": 2, \"89\": 1, \"116\": 1}, \"88\": {\"88\": 63, \"5\": 2, \"21\": 4, \"20\": 2, \"110\": 9, \"0\": 2, \"1\": 2, \"126\": 1, \"70\": 8, \"109\": 1, \"12\": 1, \"93\": 2, \"114\": 2, \"47\": 1, \"16\": 1, \"11\": 4, \"129\": 2, \"62\": 1, \"108\": 1, \"3\": 2, \"106\": 1}, \"85\": {\"85\": 35, \"124\": 1}, \"5\": {\"5\": 90, \"71\": 2, \"3\": 7, \"128\": 1, \"21\": 1, \"7\": 2, \"105\": 2, \"18\": 1, \"1\": 1, \"9\": 1, \"88\": 1, \"4\": 2, \"114\": 1}, \"93\": {\"93\": 137, \"84\": 1}, \"43\": {\"2\": 2, \"43\": 31, \"39\": 1, \"109\": 6, \"116\": 1, \"96\": 1, \"64\": 2, \"92\": 1, \"69\": 1, \"118\": 3, \"102\": 2, \"81\": 1, \"62\": 1, \"113\": 2, \"11\": 1}, \"67\": {\"67\": 13, \"109\": 2, \"93\": 1}, \"48\": {\"48\": 2, \"82\": 1, \"105\": 1, \"9\": 5, \"31\": 1, \"86\": 1, \"43\": 1, \"119\": 1, \"69\": 2, \"95\": 1}, \"73\": {\"73\": 33, \"58\": 2, \"84\": 1, \"8\": 1, \"69\": 1, \"98\": 2}, \"34\": {\"28\": 1, \"34\": 6, \"37\": 1, \"45\": 2, \"68\": 2, \"91\": 1, \"107\": 2, \"111\": 5, \"92\": 1, \"90\": 2, \"50\": 1, \"100\": 1, \"41\": 1, \"77\": 2, \"29\": 1, \"72\": 2, \"106\": 1}, \"91\": {\"10\": 1, \"34\": 1, \"91\": 13, \"68\": 3, \"85\": 3, \"124\": 1, \"69\": 1, \"98\": 1}, \"105\": {\"105\": 117, \"4\": 7}, \"10\": {\"10\": 68, \"71\": 4, \"85\": 1, \"77\": 2, \"108\": 6, \"124\": 3, \"5\": 1, \"3\": 1, \"127\": 9, \"98\": 3, \"70\": 1, \"4\": 2, \"65\": 1, \"8\": 1, \"7\": 1, \"105\": 1, \"39\": 1}, \"61\": {\"61\": 12, \"81\": 2, \"18\": 2}, \"74\": {\"74\": 15, \"82\": 1}, \"4\": {\"4\": 86, \"9\": 2, \"105\": 7, \"110\": 1}, \"37\": {\"37\": 16}, \"19\": {\"19\": 10, \"124\": 3, \"0\": 1, \"129\": 3, \"14\": 3, \"100\": 1, \"85\": 3, \"11\": 3, \"20\": 2, \"51\": 1, \"28\": 2}, \"44\": {\"44\": 63, \"14\": 2, \"22\": 1, \"109\": 1, \"117\": 1, \"29\": 2, \"84\": 1, \"93\": 1}, \"52\": {\"52\": 16}, \"92\": {\"92\": 32}, \"33\": {\"33\": 123, \"102\": 3, \"69\": 1, \"109\": 1}, \"45\": {\"34\": 1, \"45\": 9, \"107\": 1, \"60\": 1, \"50\": 2, \"14\": 2}, \"11\": {\"11\": 65, \"67\": 1, \"29\": 6, \"90\": 24, \"88\": 1, \"129\": 1, \"39\": 1, \"44\": 3, \"16\": 8, \"14\": 3, \"93\": 4, \"87\": 2, \"60\": 2, \"100\": 1, \"84\": 3, \"107\": 3}, \"129\": {\"129\": 24, \"50\": 1, \"19\": 1, \"60\": 1, \"100\": 1, \"20\": 1, \"11\": 1, \"29\": 1, \"114\": 1}, \"116\": {\"118\": 2, \"116\": 15, \"44\": 2, \"87\": 3, \"62\": 3, \"26\": 1, \"84\": 2}, \"75\": {\"75\": 16}, \"41\": {\"41\": 16}, \"21\": {\"21\": 43, \"69\": 1, \"110\": 1, \"126\": 2, \"15\": 1}, \"69\": {\"69\": 74, \"117\": 1, \"26\": 4, \"109\": 2, \"62\": 2, \"126\": 1}, \"16\": {\"16\": 98, \"39\": 1, \"93\": 3, \"90\": 3, \"126\": 1, \"11\": 2}, \"25\": {\"25\": 13, \"58\": 1, \"27\": 2}, \"12\": {\"12\": 95, \"124\": 5, \"10\": 1, \"106\": 2, \"88\": 1}, \"72\": {\"72\": 23, \"52\": 1, \"110\": 1, \"98\": 1, \"6\": 1, \"12\": 1}, \"0\": {\"0\": 100, \"42\": 4, \"73\": 1, \"30\": 5, \"101\": 2, \"8\": 2, \"126\": 1, \"11\": 1}, \"50\": {\"50\": 13, \"14\": 1, \"45\": 1, \"90\": 1}, \"107\": {\"107\": 134, \"32\": 1, \"92\": 1, \"16\": 2, \"28\": 1, \"90\": 1}, \"124\": {\"124\": 116, \"98\": 4, \"10\": 1, \"77\": 1, \"127\": 2}, \"53\": {\"53\": 17, \"86\": 2, \"117\": 1}, \"66\": {\"66\": 13, \"5\": 1, \"77\": 2}, \"47\": {\"47\": 12}, \"24\": {\"24\": 28, \"25\": 1, \"30\": 9, \"83\": 1, \"36\": 6, \"27\": 1, \"8\": 1, \"39\": 1}, \"95\": {\"95\": 29, \"39\": 1, \"105\": 2}, \"98\": {\"98\": 85, \"111\": 2, \"85\": 1, \"12\": 6, \"44\": 1, \"124\": 8, \"72\": 2, \"113\": 1}, \"63\": {\"63\": 16}, \"3\": {\"3\": 92, \"98\": 1, \"114\": 1, \"128\": 1, \"5\": 14, \"7\": 1, \"113\": 1, \"127\": 2, \"1\": 2, \"18\": 1}, \"14\": {\"14\": 77, \"50\": 1, \"87\": 1, \"90\": 1}, \"1\": {\"122\": 2, \"1\": 105, \"114\": 1}, \"38\": {\"38\": 16}, \"110\": {\"110\": 76, \"88\": 4, \"18\": 1, \"114\": 4, \"39\": 1, \"129\": 2, \"3\": 2, \"12\": 1, \"126\": 1}, \"17\": {\"67\": 1, \"105\": 1, \"81\": 1, \"95\": 3, \"7\": 4, \"2\": 1, \"65\": 1, \"41\": 1, \"34\": 1, \"4\": 1, \"120\": 1}, \"30\": {\"30\": 68, \"0\": 4, \"15\": 1, \"8\": 3, \"36\": 1, \"102\": 1, \"101\": 1, \"23\": 1, \"24\": 1, \"11\": 1, \"73\": 1, \"94\": 1}, \"56\": {\"56\": 9, \"41\": 2, \"75\": 1}, \"27\": {\"27\": 59, \"83\": 1, \"0\": 4, \"36\": 15, \"70\": 1, \"108\": 1, \"106\": 1, \"8\": 2, \"25\": 2, \"24\": 1, \"30\": 3, \"126\": 1, \"15\": 3, \"39\": 1, \"94\": 1}, \"104\": {\"104\": 16}, \"97\": {\"112\": 2, \"97\": 15, \"42\": 1, \"101\": 1, \"73\": 1}, \"42\": {\"42\": 7, \"72\": 3, \"25\": 1, \"125\": 2, \"97\": 2, \"108\": 6, \"15\": 3, \"112\": 2, \"58\": 2}, \"39\": {\"96\": 1, \"39\": 54, \"43\": 2, \"123\": 1, \"81\": 2, \"121\": 4, \"126\": 7, \"117\": 15, \"109\": 2, \"113\": 10, \"93\": 3, \"26\": 3, \"2\": 1, \"64\": 1, \"23\": 1, \"118\": 1}, \"70\": {\"25\": 3, \"70\": 27, \"108\": 10, \"110\": 5, \"88\": 8, \"124\": 1, \"8\": 4, \"3\": 1, \"49\": 2, \"112\": 2, \"23\": 1, \"72\": 2, \"46\": 2, \"126\": 1, \"129\": 1, \"98\": 1, \"10\": 1}, \"86\": {\"86\": 24, \"3\": 2, \"127\": 2}, \"119\": {\"119\": 15, \"33\": 1}, \"77\": {\"77\": 15, \"124\": 1}, \"59\": {\"59\": 10, \"6\": 1, \"72\": 1}, \"22\": {\"79\": 1, \"57\": 1, \"22\": 12, \"62\": 2}, \"79\": {\"79\": 12}, \"80\": {\"80\": 16}, \"111\": {\"111\": 129, \"102\": 1, \"72\": 1, \"125\": 1}, \"82\": {\"82\": 28}, \"126\": {\"126\": 108, \"39\": 2, \"113\": 2, \"117\": 4, \"18\": 6, \"21\": 1, \"81\": 1}, \"32\": {\"32\": 22, \"45\": 1, \"1\": 1, \"107\": 4, \"94\": 1, \"114\": 1, \"103\": 1, \"40\": 1}, \"106\": {\"106\": 92, \"109\": 1, \"15\": 4, \"111\": 2, \"39\": 1}, \"60\": {\"84\": 1, \"101\": 1, \"122\": 1, \"45\": 1, \"87\": 1, \"60\": 14, \"32\": 1, \"110\": 4, \"90\": 1, \"1\": 1, \"3\": 1, \"128\": 1}, \"114\": {\"114\": 91, \"1\": 3, \"3\": 5, \"105\": 2, \"8\": 1, \"53\": 1, \"87\": 1, \"127\": 2, \"93\": 1, \"39\": 1}}}, \"per_domain_accuracy\": {\"ORACLE.run18\": {\"accuracy\": 0.698125, \"source?\": true}, \"ORACLE.run138\": {\"accuracy\": 0.80515625, \"source?\": true}, \"ORACLE.run126\": {\"accuracy\": 0.5626041666666667, \"source?\": true}, \"ORACLE.run120\": {\"accuracy\": 0.6716145833333333, \"source?\": true}, \"ORACLE.run150\": {\"accuracy\": 0.7929166666666667, \"source?\": true}, \"ORACLE.run132\": {\"accuracy\": 0.7813020833333333, \"source?\": true}, \"ORACLE.run144\": {\"accuracy\": 0.7218229166666666, \"source?\": true}, \"ORACLE.run114\": {\"accuracy\": 0.8276041666666667, \"source?\": true}, \"Wisig_2\": {\"accuracy\": 0.7585346638655462, \"source?\": false}, \"Wisig_4\": {\"accuracy\": 0.7444701646090535, \"source?\": false}, \"Wisig_1\": {\"accuracy\": 0.8160904255319149, \"source?\": false}, \"Wisig_3\": {\"accuracy\": 0.8211729074889867, \"source?\": false}}}, \"history\": {\"epoch_indices\": [1, 2, 3, 4, 5, 6, 7, 8, 9, 10, 11, 12, 13], \"train_label_loss\": [1.0680949219520248, 0.8384694518911696, 0.741243776472374, 0.6539984997714471, 0.5821335416256139, 0.5255388996161388, 0.48013089450929936, 0.4415428046847228, 0.40870004896506934, 0.37757014237563236, 0.3498266328703972, 0.3230356922138682, 0.30105369959058453], \"source_val_label_loss\": [0.99774569272995, 0.8563377261161804, 0.8108125925064087, 0.7553268074989319, 0.7346622347831726, 0.7346220016479492, 0.7435122728347778, 0.7510638236999512, 0.7583587765693665, 0.784243106842041, 0.8111015558242798, 0.8251818418502808, 0.8654203414916992], \"target_val_label_loss\": [9.49512004852295, 6.8454670906066895, 8.056612968444824, 8.09076976776123, 8.743426322937012, 8.413774490356445, 9.774364471435547, 9.448312759399414, 10.05063247680664, 10.897397994995117, 11.323079109191895, 11.568424224853516, 12.115778923034668], \"source_val_acc_label\": [0.656015625, 0.67373046875, 0.70255859375, 0.7248111979166667, 0.73541015625, 0.7273893229166667, 0.7386002604166667, 0.7307942708333334, 0.7326432291666667, 0.7337109375, 0.7344270833333333, 0.7267513020833334, 0.7281184895833334], \"target_val_acc_label\": [0.6894220572640509, 0.7192470837751855, 0.7410856309650053, 0.7615654825026511, 0.7692537115588547, 0.7749867444326617, 0.7757158006362672, 0.7834703075291622, 0.7843319194061505, 0.7818796394485684, 0.7797587486744433, 0.7830726405090138, 0.7838016967126193]}, \"dataset_metrics\": {\"source\": {\"train\": {\"n_unique_x\": 896000, \"n_unique_y\": 16, \"n_batch/episode\": 33600}, \"val\": {\"n_unique_x\": 192000, \"n_unique_y\": 16, \"n_batch/episode\": 4800}, \"test\": {\"n_unique_x\": 192000, \"n_unique_y\": 16, \"n_batch/episode\": 4800}}, \"target\": {\"train\": {\"n_unique_x\": 188974, \"n_unique_y\": 130, \"n_batch/episode\": 6847}, \"val\": {\"n_unique_x\": 40019, \"n_unique_y\": 130, \"n_batch/episode\": 943}, \"test\": {\"n_unique_x\": 40738, \"n_unique_y\": 130, \"n_batch/episode\": 960}}}}'"
      ]
     },
     "execution_count": 29,
     "metadata": {},
     "output_type": "execute_result"
    }
   ],
   "source": [
    "json.dumps(experiment)"
   ]
  }
 ],
 "metadata": {
  "celltoolbar": "Tags",
  "kernelspec": {
   "display_name": "Python 3 (ipykernel)",
   "language": "python",
   "name": "python3"
  },
  "language_info": {
   "codemirror_mode": {
    "name": "ipython",
    "version": 3
   },
   "file_extension": ".py",
   "mimetype": "text/x-python",
   "name": "python",
   "nbconvert_exporter": "python",
   "pygments_lexer": "ipython3",
   "version": "3.8.12"
  },
  "papermill": {
   "default_parameters": {},
   "duration": 13513.867278,
   "end_time": "2022-03-24T03:01:53.820669",
   "environment_variables": {},
   "exception": null,
   "input_path": "/root/csc500-main/csc500-notebooks/templates/tl_ptn_template.ipynb",
   "output_path": "trial.ipynb",
   "parameters": {
    "parameters": {
     "BEST_MODEL_PATH": "./best_model.pth",
     "NUM_LOGS_PER_EPOCH": 10,
     "criteria_for_best": "target_accuracy",
     "dataset_seed": 154325,
     "datasets": [
      {
       "domain_prefix": "Wisig_",
       "domains": [
        1,
        2,
        3,
        4
       ],
       "episode_transforms": [],
       "labels": [
        "1-10",
        "1-12",
        "1-14",
        "1-16",
        "1-18",
        "1-19",
        "1-8",
        "10-11",
        "10-17",
        "10-4",
        "10-7",
        "11-1",
        "11-10",
        "11-19",
        "11-20",
        "11-4",
        "11-7",
        "12-19",
        "12-20",
        "12-7",
        "13-14",
        "13-18",
        "13-19",
        "13-20",
        "13-3",
        "13-7",
        "14-10",
        "14-11",
        "14-12",
        "14-13",
        "14-14",
        "14-19",
        "14-20",
        "14-7",
        "14-8",
        "14-9",
        "15-1",
        "15-19",
        "15-6",
        "16-1",
        "16-16",
        "16-19",
        "16-20",
        "17-10",
        "17-11",
        "18-1",
        "18-10",
        "18-11",
        "18-12",
        "18-13",
        "18-14",
        "18-15",
        "18-16",
        "18-17",
        "18-19",
        "18-2",
        "18-20",
        "18-4",
        "18-5",
        "18-7",
        "18-8",
        "18-9",
        "19-1",
        "19-10",
        "19-11",
        "19-12",
        "19-13",
        "19-14",
        "19-15",
        "19-19",
        "19-2",
        "19-20",
        "19-3",
        "19-4",
        "19-6",
        "19-7",
        "19-8",
        "19-9",
        "2-1",
        "2-13",
        "2-15",
        "2-3",
        "2-4",
        "2-5",
        "2-6",
        "2-7",
        "2-8",
        "20-1",
        "20-12",
        "20-14",
        "20-15",
        "20-16",
        "20-18",
        "20-19",
        "20-20",
        "20-3",
        "20-4",
        "20-5",
        "20-7",
        "20-8",
        "3-1",
        "3-13",
        "3-18",
        "3-2",
        "3-8",
        "4-1",
        "4-10",
        "4-11",
        "5-1",
        "5-5",
        "6-1",
        "6-15",
        "6-6",
        "7-10",
        "7-11",
        "7-12",
        "7-13",
        "7-14",
        "7-7",
        "7-8",
        "7-9",
        "8-1",
        "8-13",
        "8-14",
        "8-18",
        "8-20",
        "8-3",
        "8-8",
        "9-1",
        "9-7"
       ],
       "num_examples_per_domain_per_label": -1,
       "pickle_path": "/root/csc500-main/datasets/wisig.node3-19.stratified_ds.2022A.pkl",
       "source_or_target_dataset": "target",
       "x_transforms": [
        "unit_mag"
       ]
      },
      {
       "domain_prefix": "ORACLE.run1",
       "domains": [
        32,
        38,
        8,
        44,
        14,
        50,
        20,
        26
       ],
       "episode_transforms": [],
       "labels": [
        "3123D52",
        "3123D65",
        "3123D79",
        "3123D80",
        "3123D54",
        "3123D70",
        "3123D7B",
        "3123D89",
        "3123D58",
        "3123D76",
        "3123D7D",
        "3123EFE",
        "3123D64",
        "3123D78",
        "3123D7E",
        "3124E4A"
       ],
       "num_examples_per_domain_per_label": 10000,
       "pickle_path": "/root/csc500-main/datasets/oracle.Run1_10kExamples_stratified_ds.2022A.pkl",
       "source_or_target_dataset": "source",
       "x_transforms": [
        "unit_mag"
       ]
      }
     ],
     "device": "cuda",
     "experiment_name": "tl_1v2:wisig-oracle.run1",
     "lr": 0.0001,
     "n_epoch": 50,
     "n_query": 2,
     "n_shot": 3,
     "n_way": 16,
     "patience": 3,
     "seed": 154325,
     "test_k_factor": 2,
     "torch_default_dtype": "torch.float32",
     "train_k_factor": 3,
     "val_k_factor": 2,
     "x_net": [
      {
       "class": "nnReshape",
       "kargs": {
        "shape": [
         -1,
         1,
         2,
         256
        ]
       }
      },
      {
       "class": "Conv2d",
       "kargs": {
        "bias": false,
        "in_channels": 1,
        "kernel_size": [
         1,
         7
        ],
        "out_channels": 256,
        "padding": [
         0,
         3
        ]
       }
      },
      {
       "class": "ReLU",
       "kargs": {
        "inplace": true
       }
      },
      {
       "class": "BatchNorm2d",
       "kargs": {
        "num_features": 256
       }
      },
      {
       "class": "Conv2d",
       "kargs": {
        "bias": true,
        "in_channels": 256,
        "kernel_size": [
         2,
         7
        ],
        "out_channels": 80,
        "padding": [
         0,
         3
        ]
       }
      },
      {
       "class": "ReLU",
       "kargs": {
        "inplace": true
       }
      },
      {
       "class": "BatchNorm2d",
       "kargs": {
        "num_features": 80
       }
      },
      {
       "class": "Flatten",
       "kargs": {}
      },
      {
       "class": "Linear",
       "kargs": {
        "in_features": 20480,
        "out_features": 256
       }
      },
      {
       "class": "ReLU",
       "kargs": {
        "inplace": true
       }
      },
      {
       "class": "BatchNorm1d",
       "kargs": {
        "num_features": 256
       }
      },
      {
       "class": "Linear",
       "kargs": {
        "in_features": 256,
        "out_features": 256
       }
      }
     ]
    }
   },
   "start_time": "2022-03-23T23:16:39.953391",
   "version": "2.3.4"
  }
 },
 "nbformat": 4,
 "nbformat_minor": 5
}