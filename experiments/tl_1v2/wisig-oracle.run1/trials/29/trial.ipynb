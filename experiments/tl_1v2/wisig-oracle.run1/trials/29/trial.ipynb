{
 "cells": [
  {
   "cell_type": "markdown",
   "id": "9fea5f46",
   "metadata": {
    "papermill": {
     "duration": 0.02872,
     "end_time": "2022-03-24T09:19:22.000565",
     "exception": false,
     "start_time": "2022-03-24T09:19:21.971845",
     "status": "completed"
    },
    "tags": []
   },
   "source": [
    "# Transfer Learning Template"
   ]
  },
  {
   "cell_type": "code",
   "execution_count": 1,
   "id": "0902182a",
   "metadata": {
    "execution": {
     "iopub.execute_input": "2022-03-24T09:19:22.055509Z",
     "iopub.status.busy": "2022-03-24T09:19:22.044654Z",
     "iopub.status.idle": "2022-03-24T09:19:24.668282Z",
     "shell.execute_reply": "2022-03-24T09:19:24.668601Z"
    },
    "papermill": {
     "duration": 2.645241,
     "end_time": "2022-03-24T09:19:24.668819",
     "exception": false,
     "start_time": "2022-03-24T09:19:22.023578",
     "status": "completed"
    },
    "tags": []
   },
   "outputs": [],
   "source": [
    "%load_ext autoreload\n",
    "%autoreload 2\n",
    "%matplotlib inline\n",
    "\n",
    "    \n",
    "import os, json, sys, time, random\n",
    "import numpy as np\n",
    "import torch\n",
    "from torch.optim import Adam\n",
    "from  easydict import EasyDict\n",
    "import matplotlib.pyplot as plt\n",
    "\n",
    "from steves_models.steves_ptn import Steves_Prototypical_Network\n",
    "\n",
    "from steves_utils.lazy_iterable_wrapper import Lazy_Iterable_Wrapper\n",
    "from steves_utils.iterable_aggregator import Iterable_Aggregator\n",
    "from steves_utils.ptn_train_eval_test_jig import  PTN_Train_Eval_Test_Jig\n",
    "from steves_utils.torch_sequential_builder import build_sequential\n",
    "from steves_utils.torch_utils import get_dataset_metrics, ptn_confusion_by_domain_over_dataloader\n",
    "from steves_utils.utils_v2 import (per_domain_accuracy_from_confusion, get_datasets_base_path)\n",
    "from steves_utils.PTN.utils import independent_accuracy_assesment\n",
    "\n",
    "from torch.utils.data import DataLoader\n",
    "\n",
    "from steves_utils.stratified_dataset.episodic_accessor import Episodic_Accessor_Factory\n",
    "\n",
    "from steves_utils.ptn_do_report import (\n",
    "    get_loss_curve,\n",
    "    get_results_table,\n",
    "    get_parameters_table,\n",
    "    get_domain_accuracies,\n",
    ")\n",
    "\n",
    "from steves_utils.transforms import get_chained_transform"
   ]
  },
  {
   "cell_type": "markdown",
   "id": "41c840b4",
   "metadata": {
    "papermill": {
     "duration": 0.018428,
     "end_time": "2022-03-24T09:19:24.706805",
     "exception": false,
     "start_time": "2022-03-24T09:19:24.688377",
     "status": "completed"
    },
    "tags": []
   },
   "source": [
    "# Allowed Parameters\n",
    "These are allowed parameters, not defaults\n",
    "Each of these values need to be present in the injected parameters (the notebook will raise an exception if they are not present)\n",
    "\n",
    "Papermill uses the cell tag \"parameters\" to inject the real parameters below this cell.\n",
    "Enable tags to see what I mean"
   ]
  },
  {
   "cell_type": "code",
   "execution_count": 2,
   "id": "fd44eb83",
   "metadata": {
    "execution": {
     "iopub.execute_input": "2022-03-24T09:19:24.749444Z",
     "iopub.status.busy": "2022-03-24T09:19:24.749068Z",
     "iopub.status.idle": "2022-03-24T09:19:24.770720Z",
     "shell.execute_reply": "2022-03-24T09:19:24.770390Z"
    },
    "papermill": {
     "duration": 0.04536,
     "end_time": "2022-03-24T09:19:24.770788",
     "exception": false,
     "start_time": "2022-03-24T09:19:24.725428",
     "status": "completed"
    },
    "tags": []
   },
   "outputs": [],
   "source": [
    "required_parameters = {\n",
    "    \"experiment_name\",\n",
    "    \"lr\",\n",
    "    \"device\",\n",
    "    \"seed\",\n",
    "    \"dataset_seed\",\n",
    "    \"n_shot\",\n",
    "    \"n_query\",\n",
    "    \"n_way\",\n",
    "    \"train_k_factor\",\n",
    "    \"val_k_factor\",\n",
    "    \"test_k_factor\",\n",
    "    \"n_epoch\",\n",
    "    \"patience\",\n",
    "    \"criteria_for_best\",\n",
    "    \"x_net\",\n",
    "    \"datasets\",\n",
    "    \"torch_default_dtype\",\n",
    "    \"NUM_LOGS_PER_EPOCH\",\n",
    "    \"BEST_MODEL_PATH\",\n",
    "    \"x_shape\",\n",
    "}"
   ]
  },
  {
   "cell_type": "code",
   "execution_count": 3,
   "id": "fa3f0049",
   "metadata": {
    "execution": {
     "iopub.execute_input": "2022-03-24T09:19:24.818075Z",
     "iopub.status.busy": "2022-03-24T09:19:24.817670Z",
     "iopub.status.idle": "2022-03-24T09:19:24.839126Z",
     "shell.execute_reply": "2022-03-24T09:19:24.838812Z"
    },
    "papermill": {
     "duration": 0.049432,
     "end_time": "2022-03-24T09:19:24.839194",
     "exception": false,
     "start_time": "2022-03-24T09:19:24.789762",
     "status": "completed"
    },
    "tags": [
     "parameters"
    ]
   },
   "outputs": [],
   "source": [
    "from steves_utils.CORES.utils import (\n",
    "    ALL_NODES,\n",
    "    ALL_NODES_MINIMUM_1000_EXAMPLES,\n",
    "    ALL_DAYS\n",
    ")\n",
    "\n",
    "from steves_utils.ORACLE.utils_v2 import (\n",
    "    ALL_DISTANCES_FEET_NARROWED,\n",
    "    ALL_RUNS,\n",
    "    ALL_SERIAL_NUMBERS,\n",
    ")\n",
    "\n",
    "standalone_parameters = {}\n",
    "standalone_parameters[\"experiment_name\"] = \"STANDALONE PTN\"\n",
    "standalone_parameters[\"lr\"] = 0.001\n",
    "standalone_parameters[\"device\"] = \"cuda\"\n",
    "\n",
    "standalone_parameters[\"seed\"] = 1337\n",
    "standalone_parameters[\"dataset_seed\"] = 1337\n",
    "\n",
    "standalone_parameters[\"n_way\"] = 8\n",
    "standalone_parameters[\"n_shot\"] = 3\n",
    "standalone_parameters[\"n_query\"]  = 2\n",
    "standalone_parameters[\"train_k_factor\"] = 1\n",
    "standalone_parameters[\"val_k_factor\"] = 2\n",
    "standalone_parameters[\"test_k_factor\"] = 2\n",
    "\n",
    "\n",
    "standalone_parameters[\"n_epoch\"] = 50\n",
    "\n",
    "standalone_parameters[\"patience\"] = 10\n",
    "standalone_parameters[\"criteria_for_best\"] = \"source_loss\"\n",
    "\n",
    "standalone_parameters[\"datasets\"] = [\n",
    "    {\n",
    "        \"labels\": ALL_SERIAL_NUMBERS,\n",
    "        \"domains\": ALL_DISTANCES_FEET_NARROWED,\n",
    "        \"num_examples_per_domain_per_label\": 100,\n",
    "        \"pickle_path\": os.path.join(get_datasets_base_path(), \"oracle.Run1_framed_2000Examples_stratified_ds.2022A.pkl\"),\n",
    "        \"source_or_target_dataset\": \"source\",\n",
    "        \"x_transforms\": [\"unit_mag\", \"minus_two\"],\n",
    "        \"episode_transforms\": [],\n",
    "        \"domain_prefix\": \"ORACLE_\"\n",
    "    },\n",
    "    {\n",
    "        \"labels\": ALL_NODES,\n",
    "        \"domains\": ALL_DAYS,\n",
    "        \"num_examples_per_domain_per_label\": 100,\n",
    "        \"pickle_path\": os.path.join(get_datasets_base_path(), \"cores.stratified_ds.2022A.pkl\"),\n",
    "        \"source_or_target_dataset\": \"target\",\n",
    "        \"x_transforms\": [\"unit_power\", \"times_zero\"],\n",
    "        \"episode_transforms\": [],\n",
    "        \"domain_prefix\": \"CORES_\"\n",
    "    }   \n",
    "]\n",
    "\n",
    "standalone_parameters[\"torch_default_dtype\"] = \"torch.float32\" \n",
    "\n",
    "\n",
    "\n",
    "standalone_parameters[\"x_net\"] =     [\n",
    "    {\"class\": \"nnReshape\", \"kargs\": {\"shape\":[-1, 1, 2, 256]}},\n",
    "    {\"class\": \"Conv2d\", \"kargs\": { \"in_channels\":1, \"out_channels\":256, \"kernel_size\":(1,7), \"bias\":False, \"padding\":(0,3), },},\n",
    "    {\"class\": \"ReLU\", \"kargs\": {\"inplace\": True}},\n",
    "    {\"class\": \"BatchNorm2d\", \"kargs\": {\"num_features\":256}},\n",
    "\n",
    "    {\"class\": \"Conv2d\", \"kargs\": { \"in_channels\":256, \"out_channels\":80, \"kernel_size\":(2,7), \"bias\":True, \"padding\":(0,3), },},\n",
    "    {\"class\": \"ReLU\", \"kargs\": {\"inplace\": True}},\n",
    "    {\"class\": \"BatchNorm2d\", \"kargs\": {\"num_features\":80}},\n",
    "    {\"class\": \"Flatten\", \"kargs\": {}},\n",
    "\n",
    "    {\"class\": \"Linear\", \"kargs\": {\"in_features\": 80*256, \"out_features\": 256}}, # 80 units per IQ pair\n",
    "    {\"class\": \"ReLU\", \"kargs\": {\"inplace\": True}},\n",
    "    {\"class\": \"BatchNorm1d\", \"kargs\": {\"num_features\":256}},\n",
    "\n",
    "    {\"class\": \"Linear\", \"kargs\": {\"in_features\": 256, \"out_features\": 256}},\n",
    "]\n",
    "\n",
    "# Parameters relevant to results\n",
    "# These parameters will basically never need to change\n",
    "standalone_parameters[\"NUM_LOGS_PER_EPOCH\"] = 10\n",
    "standalone_parameters[\"BEST_MODEL_PATH\"] = \"./best_model.pth\"\n",
    "\n",
    "\n",
    "\n",
    "\n"
   ]
  },
  {
   "cell_type": "code",
   "execution_count": 4,
   "id": "333c26e0",
   "metadata": {
    "execution": {
     "iopub.execute_input": "2022-03-24T09:19:24.897006Z",
     "iopub.status.busy": "2022-03-24T09:19:24.890231Z",
     "iopub.status.idle": "2022-03-24T09:19:24.922007Z",
     "shell.execute_reply": "2022-03-24T09:19:24.921702Z"
    },
    "papermill": {
     "duration": 0.064168,
     "end_time": "2022-03-24T09:19:24.922076",
     "exception": false,
     "start_time": "2022-03-24T09:19:24.857908",
     "status": "completed"
    },
    "tags": [
     "injected-parameters"
    ]
   },
   "outputs": [],
   "source": [
    "# Parameters\n",
    "parameters = {\n",
    "    \"experiment_name\": \"tl_1v2:wisig-oracle.run1\",\n",
    "    \"device\": \"cuda\",\n",
    "    \"lr\": 0.0001,\n",
    "    \"n_shot\": 3,\n",
    "    \"n_query\": 2,\n",
    "    \"train_k_factor\": 3,\n",
    "    \"val_k_factor\": 2,\n",
    "    \"test_k_factor\": 2,\n",
    "    \"torch_default_dtype\": \"torch.float32\",\n",
    "    \"n_epoch\": 50,\n",
    "    \"patience\": 3,\n",
    "    \"criteria_for_best\": \"target_accuracy\",\n",
    "    \"x_net\": [\n",
    "        {\"class\": \"nnReshape\", \"kargs\": {\"shape\": [-1, 1, 2, 256]}},\n",
    "        {\n",
    "            \"class\": \"Conv2d\",\n",
    "            \"kargs\": {\n",
    "                \"in_channels\": 1,\n",
    "                \"out_channels\": 256,\n",
    "                \"kernel_size\": [1, 7],\n",
    "                \"bias\": False,\n",
    "                \"padding\": [0, 3],\n",
    "            },\n",
    "        },\n",
    "        {\"class\": \"ReLU\", \"kargs\": {\"inplace\": True}},\n",
    "        {\"class\": \"BatchNorm2d\", \"kargs\": {\"num_features\": 256}},\n",
    "        {\n",
    "            \"class\": \"Conv2d\",\n",
    "            \"kargs\": {\n",
    "                \"in_channels\": 256,\n",
    "                \"out_channels\": 80,\n",
    "                \"kernel_size\": [2, 7],\n",
    "                \"bias\": True,\n",
    "                \"padding\": [0, 3],\n",
    "            },\n",
    "        },\n",
    "        {\"class\": \"ReLU\", \"kargs\": {\"inplace\": True}},\n",
    "        {\"class\": \"BatchNorm2d\", \"kargs\": {\"num_features\": 80}},\n",
    "        {\"class\": \"Flatten\", \"kargs\": {}},\n",
    "        {\"class\": \"Linear\", \"kargs\": {\"in_features\": 20480, \"out_features\": 256}},\n",
    "        {\"class\": \"ReLU\", \"kargs\": {\"inplace\": True}},\n",
    "        {\"class\": \"BatchNorm1d\", \"kargs\": {\"num_features\": 256}},\n",
    "        {\"class\": \"Linear\", \"kargs\": {\"in_features\": 256, \"out_features\": 256}},\n",
    "    ],\n",
    "    \"NUM_LOGS_PER_EPOCH\": 10,\n",
    "    \"BEST_MODEL_PATH\": \"./best_model.pth\",\n",
    "    \"n_way\": 16,\n",
    "    \"datasets\": [\n",
    "        {\n",
    "            \"labels\": [\n",
    "                \"1-10\",\n",
    "                \"1-12\",\n",
    "                \"1-14\",\n",
    "                \"1-16\",\n",
    "                \"1-18\",\n",
    "                \"1-19\",\n",
    "                \"1-8\",\n",
    "                \"10-11\",\n",
    "                \"10-17\",\n",
    "                \"10-4\",\n",
    "                \"10-7\",\n",
    "                \"11-1\",\n",
    "                \"11-10\",\n",
    "                \"11-19\",\n",
    "                \"11-20\",\n",
    "                \"11-4\",\n",
    "                \"11-7\",\n",
    "                \"12-19\",\n",
    "                \"12-20\",\n",
    "                \"12-7\",\n",
    "                \"13-14\",\n",
    "                \"13-18\",\n",
    "                \"13-19\",\n",
    "                \"13-20\",\n",
    "                \"13-3\",\n",
    "                \"13-7\",\n",
    "                \"14-10\",\n",
    "                \"14-11\",\n",
    "                \"14-12\",\n",
    "                \"14-13\",\n",
    "                \"14-14\",\n",
    "                \"14-19\",\n",
    "                \"14-20\",\n",
    "                \"14-7\",\n",
    "                \"14-8\",\n",
    "                \"14-9\",\n",
    "                \"15-1\",\n",
    "                \"15-19\",\n",
    "                \"15-6\",\n",
    "                \"16-1\",\n",
    "                \"16-16\",\n",
    "                \"16-19\",\n",
    "                \"16-20\",\n",
    "                \"17-10\",\n",
    "                \"17-11\",\n",
    "                \"18-1\",\n",
    "                \"18-10\",\n",
    "                \"18-11\",\n",
    "                \"18-12\",\n",
    "                \"18-13\",\n",
    "                \"18-14\",\n",
    "                \"18-15\",\n",
    "                \"18-16\",\n",
    "                \"18-17\",\n",
    "                \"18-19\",\n",
    "                \"18-2\",\n",
    "                \"18-20\",\n",
    "                \"18-4\",\n",
    "                \"18-5\",\n",
    "                \"18-7\",\n",
    "                \"18-8\",\n",
    "                \"18-9\",\n",
    "                \"19-1\",\n",
    "                \"19-10\",\n",
    "                \"19-11\",\n",
    "                \"19-12\",\n",
    "                \"19-13\",\n",
    "                \"19-14\",\n",
    "                \"19-15\",\n",
    "                \"19-19\",\n",
    "                \"19-2\",\n",
    "                \"19-20\",\n",
    "                \"19-3\",\n",
    "                \"19-4\",\n",
    "                \"19-6\",\n",
    "                \"19-7\",\n",
    "                \"19-8\",\n",
    "                \"19-9\",\n",
    "                \"2-1\",\n",
    "                \"2-13\",\n",
    "                \"2-15\",\n",
    "                \"2-3\",\n",
    "                \"2-4\",\n",
    "                \"2-5\",\n",
    "                \"2-6\",\n",
    "                \"2-7\",\n",
    "                \"2-8\",\n",
    "                \"20-1\",\n",
    "                \"20-12\",\n",
    "                \"20-14\",\n",
    "                \"20-15\",\n",
    "                \"20-16\",\n",
    "                \"20-18\",\n",
    "                \"20-19\",\n",
    "                \"20-20\",\n",
    "                \"20-3\",\n",
    "                \"20-4\",\n",
    "                \"20-5\",\n",
    "                \"20-7\",\n",
    "                \"20-8\",\n",
    "                \"3-1\",\n",
    "                \"3-13\",\n",
    "                \"3-18\",\n",
    "                \"3-2\",\n",
    "                \"3-8\",\n",
    "                \"4-1\",\n",
    "                \"4-10\",\n",
    "                \"4-11\",\n",
    "                \"5-1\",\n",
    "                \"5-5\",\n",
    "                \"6-1\",\n",
    "                \"6-15\",\n",
    "                \"6-6\",\n",
    "                \"7-10\",\n",
    "                \"7-11\",\n",
    "                \"7-12\",\n",
    "                \"7-13\",\n",
    "                \"7-14\",\n",
    "                \"7-7\",\n",
    "                \"7-8\",\n",
    "                \"7-9\",\n",
    "                \"8-1\",\n",
    "                \"8-13\",\n",
    "                \"8-14\",\n",
    "                \"8-18\",\n",
    "                \"8-20\",\n",
    "                \"8-3\",\n",
    "                \"8-8\",\n",
    "                \"9-1\",\n",
    "                \"9-7\",\n",
    "            ],\n",
    "            \"domains\": [1, 2, 3, 4],\n",
    "            \"num_examples_per_domain_per_label\": -1,\n",
    "            \"pickle_path\": \"/root/csc500-main/datasets/wisig.node3-19.stratified_ds.2022A.pkl\",\n",
    "            \"source_or_target_dataset\": \"target\",\n",
    "            \"x_transforms\": [],\n",
    "            \"episode_transforms\": [],\n",
    "            \"domain_prefix\": \"Wisig_\",\n",
    "        },\n",
    "        {\n",
    "            \"labels\": [\n",
    "                \"3123D52\",\n",
    "                \"3123D65\",\n",
    "                \"3123D79\",\n",
    "                \"3123D80\",\n",
    "                \"3123D54\",\n",
    "                \"3123D70\",\n",
    "                \"3123D7B\",\n",
    "                \"3123D89\",\n",
    "                \"3123D58\",\n",
    "                \"3123D76\",\n",
    "                \"3123D7D\",\n",
    "                \"3123EFE\",\n",
    "                \"3123D64\",\n",
    "                \"3123D78\",\n",
    "                \"3123D7E\",\n",
    "                \"3124E4A\",\n",
    "            ],\n",
    "            \"domains\": [32, 38, 8, 44, 14, 50, 20, 26],\n",
    "            \"num_examples_per_domain_per_label\": 10000,\n",
    "            \"pickle_path\": \"/root/csc500-main/datasets/oracle.Run1_10kExamples_stratified_ds.2022A.pkl\",\n",
    "            \"source_or_target_dataset\": \"source\",\n",
    "            \"x_transforms\": [],\n",
    "            \"episode_transforms\": [],\n",
    "            \"domain_prefix\": \"ORACLE.run1\",\n",
    "        },\n",
    "    ],\n",
    "    \"dataset_seed\": 500,\n",
    "    \"seed\": 500,\n",
    "}\n"
   ]
  },
  {
   "cell_type": "code",
   "execution_count": 5,
   "id": "8fa1cc33",
   "metadata": {
    "execution": {
     "iopub.execute_input": "2022-03-24T09:19:24.964196Z",
     "iopub.status.busy": "2022-03-24T09:19:24.963831Z",
     "iopub.status.idle": "2022-03-24T09:19:24.986938Z",
     "shell.execute_reply": "2022-03-24T09:19:24.986625Z"
    },
    "papermill": {
     "duration": 0.045884,
     "end_time": "2022-03-24T09:19:24.987004",
     "exception": false,
     "start_time": "2022-03-24T09:19:24.941120",
     "status": "completed"
    },
    "tags": []
   },
   "outputs": [],
   "source": [
    "# Set this to True if you want to run this template directly\n",
    "STANDALONE = False\n",
    "if STANDALONE:\n",
    "    print(\"parameters not injected, running with standalone_parameters\")\n",
    "    parameters = standalone_parameters\n",
    "\n",
    "if not 'parameters' in locals() and not 'parameters' in globals():\n",
    "    raise Exception(\"Parameter injection failed\")\n",
    "\n",
    "#Use an easy dict for all the parameters\n",
    "p = EasyDict(parameters)\n",
    "\n",
    "if \"x_shape\" not in p:\n",
    "    p.x_shape = [2,256] # Default to this if we dont supply x_shape\n",
    "\n",
    "\n",
    "supplied_keys = set(p.keys())\n",
    "\n",
    "if  supplied_keys != required_parameters:\n",
    "    print(\"Parameters are incorrect\")\n",
    "    if len(supplied_keys - required_parameters)>0: print(\"Shouldn't have:\", str(supplied_keys - required_parameters))\n",
    "    if len(required_parameters - supplied_keys)>0: print(\"Need to have:\", str(required_parameters - supplied_keys))\n",
    "    raise RuntimeError(\"Parameters are incorrect\")"
   ]
  },
  {
   "cell_type": "code",
   "execution_count": 6,
   "id": "3a028d58",
   "metadata": {
    "execution": {
     "iopub.execute_input": "2022-03-24T09:19:25.029790Z",
     "iopub.status.busy": "2022-03-24T09:19:25.029246Z",
     "iopub.status.idle": "2022-03-24T09:19:25.057040Z",
     "shell.execute_reply": "2022-03-24T09:19:25.056246Z"
    },
    "papermill": {
     "duration": 0.050932,
     "end_time": "2022-03-24T09:19:25.057189",
     "exception": false,
     "start_time": "2022-03-24T09:19:25.006257",
     "status": "completed"
    },
    "tags": []
   },
   "outputs": [],
   "source": [
    "###################################\n",
    "# Set the RNGs and make it all deterministic\n",
    "###################################\n",
    "np.random.seed(p.seed)\n",
    "random.seed(p.seed)\n",
    "torch.manual_seed(p.seed)\n",
    "\n",
    "torch.use_deterministic_algorithms(True) "
   ]
  },
  {
   "cell_type": "code",
   "execution_count": 7,
   "id": "b691acf6",
   "metadata": {
    "execution": {
     "iopub.execute_input": "2022-03-24T09:19:25.102878Z",
     "iopub.status.busy": "2022-03-24T09:19:25.102517Z",
     "iopub.status.idle": "2022-03-24T09:19:25.126560Z",
     "shell.execute_reply": "2022-03-24T09:19:25.125767Z"
    },
    "papermill": {
     "duration": 0.046512,
     "end_time": "2022-03-24T09:19:25.126708",
     "exception": false,
     "start_time": "2022-03-24T09:19:25.080196",
     "status": "completed"
    },
    "tags": []
   },
   "outputs": [],
   "source": [
    "###########################################\n",
    "# The stratified datasets honor this\n",
    "###########################################\n",
    "torch.set_default_dtype(eval(p.torch_default_dtype))"
   ]
  },
  {
   "cell_type": "code",
   "execution_count": 8,
   "id": "b5fba671",
   "metadata": {
    "execution": {
     "iopub.execute_input": "2022-03-24T09:19:25.174436Z",
     "iopub.status.busy": "2022-03-24T09:19:25.174079Z",
     "iopub.status.idle": "2022-03-24T09:19:25.225906Z",
     "shell.execute_reply": "2022-03-24T09:19:25.225107Z"
    },
    "papermill": {
     "duration": 0.072908,
     "end_time": "2022-03-24T09:19:25.226055",
     "exception": false,
     "start_time": "2022-03-24T09:19:25.153147",
     "status": "completed"
    },
    "tags": []
   },
   "outputs": [],
   "source": [
    "###################################\n",
    "# Build the network(s)\n",
    "# Note: It's critical to do this AFTER setting the RNG\n",
    "###################################\n",
    "x_net = build_sequential(p.x_net)"
   ]
  },
  {
   "cell_type": "code",
   "execution_count": 9,
   "id": "5d7e61cc",
   "metadata": {
    "execution": {
     "iopub.execute_input": "2022-03-24T09:19:25.274362Z",
     "iopub.status.busy": "2022-03-24T09:19:25.273822Z",
     "iopub.status.idle": "2022-03-24T09:19:25.296007Z",
     "shell.execute_reply": "2022-03-24T09:19:25.295199Z"
    },
    "papermill": {
     "duration": 0.045637,
     "end_time": "2022-03-24T09:19:25.296156",
     "exception": false,
     "start_time": "2022-03-24T09:19:25.250519",
     "status": "completed"
    },
    "tags": []
   },
   "outputs": [],
   "source": [
    "start_time_secs = time.time()"
   ]
  },
  {
   "cell_type": "code",
   "execution_count": 10,
   "id": "c6b67dfd",
   "metadata": {
    "execution": {
     "iopub.execute_input": "2022-03-24T09:19:25.350127Z",
     "iopub.status.busy": "2022-03-24T09:19:25.348748Z",
     "iopub.status.idle": "2022-03-24T09:19:25.370863Z",
     "shell.execute_reply": "2022-03-24T09:19:25.370070Z"
    },
    "papermill": {
     "duration": 0.04688,
     "end_time": "2022-03-24T09:19:25.371013",
     "exception": false,
     "start_time": "2022-03-24T09:19:25.324133",
     "status": "completed"
    },
    "tags": []
   },
   "outputs": [],
   "source": [
    "p.domains_source = []\n",
    "p.domains_target = []\n",
    "\n",
    "\n",
    "train_original_source = []\n",
    "val_original_source   = []\n",
    "test_original_source  = []\n",
    "\n",
    "train_original_target = []\n",
    "val_original_target   = []\n",
    "test_original_target  = []"
   ]
  },
  {
   "cell_type": "code",
   "execution_count": 11,
   "id": "e3d9c3d3",
   "metadata": {
    "execution": {
     "iopub.execute_input": "2022-03-24T09:19:25.420793Z",
     "iopub.status.busy": "2022-03-24T09:19:25.420249Z",
     "iopub.status.idle": "2022-03-24T09:19:25.441673Z",
     "shell.execute_reply": "2022-03-24T09:19:25.440886Z"
    },
    "papermill": {
     "duration": 0.04603,
     "end_time": "2022-03-24T09:19:25.441822",
     "exception": false,
     "start_time": "2022-03-24T09:19:25.395792",
     "status": "completed"
    },
    "tags": []
   },
   "outputs": [],
   "source": [
    "# global_x_transform_func = lambda x: normalize(x.to(torch.get_default_dtype()), \"unit_power\") # unit_power, unit_mag\n",
    "# global_x_transform_func = lambda x: normalize(x, \"unit_power\") # unit_power, unit_mag"
   ]
  },
  {
   "cell_type": "code",
   "execution_count": 12,
   "id": "acb78fd2",
   "metadata": {
    "execution": {
     "iopub.execute_input": "2022-03-24T09:19:25.498368Z",
     "iopub.status.busy": "2022-03-24T09:19:25.497791Z",
     "iopub.status.idle": "2022-03-24T09:19:25.516277Z",
     "shell.execute_reply": "2022-03-24T09:19:25.516938Z"
    },
    "papermill": {
     "duration": 0.05007,
     "end_time": "2022-03-24T09:19:25.517109",
     "exception": false,
     "start_time": "2022-03-24T09:19:25.467039",
     "status": "completed"
    },
    "tags": []
   },
   "outputs": [],
   "source": [
    "def add_dataset(\n",
    "    labels,\n",
    "    domains,\n",
    "    pickle_path,\n",
    "    x_transforms,\n",
    "    episode_transforms,\n",
    "    domain_prefix,\n",
    "    num_examples_per_domain_per_label,\n",
    "    source_or_target_dataset:str,\n",
    "    iterator_seed=p.seed,\n",
    "    dataset_seed=p.dataset_seed,\n",
    "    n_shot=p.n_shot,\n",
    "    n_way=p.n_way,\n",
    "    n_query=p.n_query,\n",
    "    train_val_test_k_factors=(p.train_k_factor,p.val_k_factor,p.test_k_factor),\n",
    "):\n",
    "   \n",
    "    if x_transforms == []: x_transform = None\n",
    "    else: x_transform = get_chained_transform(x_transforms)\n",
    "    \n",
    "    if episode_transforms == []: episode_transform = None\n",
    "    else: raise Exception(\"episode_transforms not implemented\")\n",
    "    \n",
    "    episode_transform = lambda tup, _prefix=domain_prefix: (_prefix + str(tup[0]), tup[1])\n",
    "\n",
    "\n",
    "    eaf = Episodic_Accessor_Factory(\n",
    "        labels=labels,\n",
    "        domains=domains,\n",
    "        num_examples_per_domain_per_label=num_examples_per_domain_per_label,\n",
    "        iterator_seed=iterator_seed,\n",
    "        dataset_seed=dataset_seed,\n",
    "        n_shot=n_shot,\n",
    "        n_way=n_way,\n",
    "        n_query=n_query,\n",
    "        train_val_test_k_factors=train_val_test_k_factors,\n",
    "        pickle_path=pickle_path,\n",
    "        x_transform_func=x_transform,\n",
    "    )\n",
    "\n",
    "    train, val, test = eaf.get_train(), eaf.get_val(), eaf.get_test()\n",
    "    train = Lazy_Iterable_Wrapper(train, episode_transform)\n",
    "    val = Lazy_Iterable_Wrapper(val, episode_transform)\n",
    "    test = Lazy_Iterable_Wrapper(test, episode_transform)\n",
    "\n",
    "    if source_or_target_dataset==\"source\":\n",
    "        train_original_source.append(train)\n",
    "        val_original_source.append(val)\n",
    "        test_original_source.append(test)\n",
    "\n",
    "        p.domains_source.extend(\n",
    "            [domain_prefix + str(u) for u in domains]\n",
    "        )\n",
    "    elif source_or_target_dataset==\"target\":\n",
    "        train_original_target.append(train)\n",
    "        val_original_target.append(val)\n",
    "        test_original_target.append(test)\n",
    "        p.domains_target.extend(\n",
    "            [domain_prefix + str(u) for u in domains]\n",
    "        )\n",
    "    else:\n",
    "        raise Exception(f\"invalid source_or_target_dataset: {source_or_target_dataset}\")\n",
    "    "
   ]
  },
  {
   "cell_type": "code",
   "execution_count": 13,
   "id": "fe266617",
   "metadata": {
    "execution": {
     "iopub.execute_input": "2022-03-24T09:19:25.569532Z",
     "iopub.status.busy": "2022-03-24T09:19:25.568986Z",
     "iopub.status.idle": "2022-03-24T09:19:36.972993Z",
     "shell.execute_reply": "2022-03-24T09:19:36.973663Z"
    },
    "papermill": {
     "duration": 11.429123,
     "end_time": "2022-03-24T09:19:36.973885",
     "exception": false,
     "start_time": "2022-03-24T09:19:25.544762",
     "status": "completed"
    },
    "tags": []
   },
   "outputs": [],
   "source": [
    "for ds in p.datasets:\n",
    "    add_dataset(**ds)"
   ]
  },
  {
   "cell_type": "code",
   "execution_count": 14,
   "id": "b90d65ac",
   "metadata": {
    "execution": {
     "iopub.execute_input": "2022-03-24T09:19:37.026713Z",
     "iopub.status.busy": "2022-03-24T09:19:37.026341Z",
     "iopub.status.idle": "2022-03-24T09:19:37.053977Z",
     "shell.execute_reply": "2022-03-24T09:19:37.053187Z"
    },
    "papermill": {
     "duration": 0.051537,
     "end_time": "2022-03-24T09:19:37.054126",
     "exception": false,
     "start_time": "2022-03-24T09:19:37.002589",
     "status": "completed"
    },
    "tags": []
   },
   "outputs": [],
   "source": [
    "# from steves_utils.CORES.utils import (\n",
    "#     ALL_NODES,\n",
    "#     ALL_NODES_MINIMUM_1000_EXAMPLES,\n",
    "#     ALL_DAYS\n",
    "# )\n",
    "\n",
    "# add_dataset(\n",
    "#     labels=ALL_NODES,\n",
    "#     domains = ALL_DAYS,\n",
    "#     num_examples_per_domain_per_label=100,\n",
    "#     pickle_path=os.path.join(get_datasets_base_path(), \"cores.stratified_ds.2022A.pkl\"),\n",
    "#     source_or_target_dataset=\"target\",\n",
    "#     x_transform_func=global_x_transform_func,\n",
    "#     domain_modifier=lambda u: f\"cores_{u}\"\n",
    "# )"
   ]
  },
  {
   "cell_type": "code",
   "execution_count": 15,
   "id": "76db484d",
   "metadata": {
    "execution": {
     "iopub.execute_input": "2022-03-24T09:19:37.105661Z",
     "iopub.status.busy": "2022-03-24T09:19:37.105106Z",
     "iopub.status.idle": "2022-03-24T09:19:37.125538Z",
     "shell.execute_reply": "2022-03-24T09:19:37.124747Z"
    },
    "papermill": {
     "duration": 0.045889,
     "end_time": "2022-03-24T09:19:37.125686",
     "exception": false,
     "start_time": "2022-03-24T09:19:37.079797",
     "status": "completed"
    },
    "tags": []
   },
   "outputs": [],
   "source": [
    "# from steves_utils.ORACLE.utils_v2 import (\n",
    "#     ALL_DISTANCES_FEET,\n",
    "#     ALL_RUNS,\n",
    "#     ALL_SERIAL_NUMBERS,\n",
    "# )\n",
    "\n",
    "\n",
    "# add_dataset(\n",
    "#     labels=ALL_SERIAL_NUMBERS,\n",
    "#     domains = list(set(ALL_DISTANCES_FEET) - {2,62}),\n",
    "#     num_examples_per_domain_per_label=100,\n",
    "#     pickle_path=os.path.join(get_datasets_base_path(), \"oracle.Run2_framed_2000Examples_stratified_ds.2022A.pkl\"),\n",
    "#     source_or_target_dataset=\"source\",\n",
    "#     x_transform_func=global_x_transform_func,\n",
    "#     domain_modifier=lambda u: f\"oracle1_{u}\"\n",
    "# )\n"
   ]
  },
  {
   "cell_type": "code",
   "execution_count": 16,
   "id": "97dea9d2",
   "metadata": {
    "execution": {
     "iopub.execute_input": "2022-03-24T09:19:37.174573Z",
     "iopub.status.busy": "2022-03-24T09:19:37.174210Z",
     "iopub.status.idle": "2022-03-24T09:19:37.191071Z",
     "shell.execute_reply": "2022-03-24T09:19:37.190375Z"
    },
    "papermill": {
     "duration": 0.039503,
     "end_time": "2022-03-24T09:19:37.191220",
     "exception": false,
     "start_time": "2022-03-24T09:19:37.151717",
     "status": "completed"
    },
    "tags": []
   },
   "outputs": [],
   "source": [
    "# from steves_utils.ORACLE.utils_v2 import (\n",
    "#     ALL_DISTANCES_FEET,\n",
    "#     ALL_RUNS,\n",
    "#     ALL_SERIAL_NUMBERS,\n",
    "# )\n",
    "\n",
    "\n",
    "# add_dataset(\n",
    "#     labels=ALL_SERIAL_NUMBERS,\n",
    "#     domains = list(set(ALL_DISTANCES_FEET) - {2,62,56}),\n",
    "#     num_examples_per_domain_per_label=100,\n",
    "#     pickle_path=os.path.join(get_datasets_base_path(), \"oracle.Run2_framed_2000Examples_stratified_ds.2022A.pkl\"),\n",
    "#     source_or_target_dataset=\"source\",\n",
    "#     x_transform_func=global_x_transform_func,\n",
    "#     domain_modifier=lambda u: f\"oracle2_{u}\"\n",
    "# )"
   ]
  },
  {
   "cell_type": "code",
   "execution_count": 17,
   "id": "6f289866",
   "metadata": {
    "execution": {
     "iopub.execute_input": "2022-03-24T09:19:37.244785Z",
     "iopub.status.busy": "2022-03-24T09:19:37.243241Z",
     "iopub.status.idle": "2022-03-24T09:19:37.263506Z",
     "shell.execute_reply": "2022-03-24T09:19:37.262718Z"
    },
    "papermill": {
     "duration": 0.043354,
     "end_time": "2022-03-24T09:19:37.263686",
     "exception": false,
     "start_time": "2022-03-24T09:19:37.220332",
     "status": "completed"
    },
    "tags": []
   },
   "outputs": [],
   "source": [
    "# add_dataset(\n",
    "#     labels=list(range(19)),\n",
    "#     domains = [0,1,2],\n",
    "#     num_examples_per_domain_per_label=100,\n",
    "#     pickle_path=os.path.join(get_datasets_base_path(), \"metehan.stratified_ds.2022A.pkl\"),\n",
    "#     source_or_target_dataset=\"target\",\n",
    "#     x_transform_func=global_x_transform_func,\n",
    "#     domain_modifier=lambda u: f\"met_{u}\"\n",
    "# )"
   ]
  },
  {
   "cell_type": "code",
   "execution_count": 18,
   "id": "86a863c3",
   "metadata": {
    "execution": {
     "iopub.execute_input": "2022-03-24T09:19:37.315276Z",
     "iopub.status.busy": "2022-03-24T09:19:37.314594Z",
     "iopub.status.idle": "2022-03-24T09:19:37.330951Z",
     "shell.execute_reply": "2022-03-24T09:19:37.330157Z"
    },
    "papermill": {
     "duration": 0.039986,
     "end_time": "2022-03-24T09:19:37.331099",
     "exception": false,
     "start_time": "2022-03-24T09:19:37.291113",
     "status": "completed"
    },
    "tags": []
   },
   "outputs": [],
   "source": [
    "# # from steves_utils.wisig.utils import (\n",
    "# #     ALL_NODES_MINIMUM_100_EXAMPLES,\n",
    "# #     ALL_NODES_MINIMUM_500_EXAMPLES,\n",
    "# #     ALL_NODES_MINIMUM_1000_EXAMPLES,\n",
    "# #     ALL_DAYS\n",
    "# # )\n",
    "\n",
    "# import steves_utils.wisig.utils as wisig\n",
    "\n",
    "\n",
    "# add_dataset(\n",
    "#     labels=wisig.ALL_NODES_MINIMUM_100_EXAMPLES,\n",
    "#     domains = wisig.ALL_DAYS,\n",
    "#     num_examples_per_domain_per_label=100,\n",
    "#     pickle_path=os.path.join(get_datasets_base_path(), \"wisig.node3-19.stratified_ds.2022A.pkl\"),\n",
    "#     source_or_target_dataset=\"target\",\n",
    "#     x_transform_func=global_x_transform_func,\n",
    "#     domain_modifier=lambda u: f\"wisig_{u}\"\n",
    "# )"
   ]
  },
  {
   "cell_type": "code",
   "execution_count": 19,
   "id": "fd5442bc",
   "metadata": {
    "execution": {
     "iopub.execute_input": "2022-03-24T09:19:37.386395Z",
     "iopub.status.busy": "2022-03-24T09:19:37.381020Z",
     "iopub.status.idle": "2022-03-24T09:19:37.406250Z",
     "shell.execute_reply": "2022-03-24T09:19:37.405460Z"
    },
    "papermill": {
     "duration": 0.047635,
     "end_time": "2022-03-24T09:19:37.406399",
     "exception": false,
     "start_time": "2022-03-24T09:19:37.358764",
     "status": "completed"
    },
    "tags": []
   },
   "outputs": [],
   "source": [
    "###################################\n",
    "# Build the dataset\n",
    "###################################\n",
    "train_original_source = Iterable_Aggregator(train_original_source, p.seed)\n",
    "val_original_source = Iterable_Aggregator(val_original_source, p.seed)\n",
    "test_original_source = Iterable_Aggregator(test_original_source, p.seed)\n",
    "\n",
    "\n",
    "train_original_target = Iterable_Aggregator(train_original_target, p.seed)\n",
    "val_original_target = Iterable_Aggregator(val_original_target, p.seed)\n",
    "test_original_target = Iterable_Aggregator(test_original_target, p.seed)\n",
    "\n",
    "# For CNN We only use X and Y. And we only train on the source.\n",
    "# Properly form the data using a transform lambda and Lazy_Iterable_Wrapper. Finally wrap them in a dataloader\n",
    "\n",
    "transform_lambda = lambda ex: ex[1] # Original is (<domain>, <episode>) so we strip down to episode only\n",
    "\n",
    "train_processed_source = Lazy_Iterable_Wrapper(train_original_source, transform_lambda)\n",
    "val_processed_source   = Lazy_Iterable_Wrapper(val_original_source, transform_lambda)\n",
    "test_processed_source  = Lazy_Iterable_Wrapper(test_original_source, transform_lambda)\n",
    "\n",
    "train_processed_target = Lazy_Iterable_Wrapper(train_original_target, transform_lambda)\n",
    "val_processed_target   = Lazy_Iterable_Wrapper(val_original_target, transform_lambda)\n",
    "test_processed_target  = Lazy_Iterable_Wrapper(test_original_target, transform_lambda)\n",
    "\n",
    "datasets = EasyDict({\n",
    "    \"source\": {\n",
    "        \"original\": {\"train\":train_original_source, \"val\":val_original_source, \"test\":test_original_source},\n",
    "        \"processed\": {\"train\":train_processed_source, \"val\":val_processed_source, \"test\":test_processed_source}\n",
    "    },\n",
    "    \"target\": {\n",
    "        \"original\": {\"train\":train_original_target, \"val\":val_original_target, \"test\":test_original_target},\n",
    "        \"processed\": {\"train\":train_processed_target, \"val\":val_processed_target, \"test\":test_processed_target}\n",
    "    },\n",
    "})"
   ]
  },
  {
   "cell_type": "code",
   "execution_count": 20,
   "id": "5b3c01fc",
   "metadata": {
    "execution": {
     "iopub.execute_input": "2022-03-24T09:19:37.460933Z",
     "iopub.status.busy": "2022-03-24T09:19:37.460380Z",
     "iopub.status.idle": "2022-03-24T09:20:11.404845Z",
     "shell.execute_reply": "2022-03-24T09:20:11.405511Z"
    },
    "papermill": {
     "duration": 33.973307,
     "end_time": "2022-03-24T09:20:11.405740",
     "exception": false,
     "start_time": "2022-03-24T09:19:37.432433",
     "status": "completed"
    },
    "tags": []
   },
   "outputs": [
    {
     "name": "stdout",
     "output_type": "stream",
     "text": [
      "{'ORACLE.run132', 'ORACLE.run138', 'ORACLE.run114', 'ORACLE.run150', 'ORACLE.run144', 'ORACLE.run18', 'ORACLE.run120', 'ORACLE.run126'}\n"
     ]
    },
    {
     "name": "stdout",
     "output_type": "stream",
     "text": [
      "{'Wisig_3', 'Wisig_4', 'Wisig_1', 'Wisig_2'}\n"
     ]
    },
    {
     "name": "stdout",
     "output_type": "stream",
     "text": [
      "tensor([[[-2.3499e-03,  7.0193e-04, -3.0519e-04,  ...,  1.5564e-03,\n",
      "          -1.2207e-04, -6.4089e-04],\n",
      "         [-6.4089e-04,  1.2513e-03,  9.1556e-05,  ...,  2.9298e-03,\n",
      "           5.1881e-04,  2.2279e-03]],\n",
      "\n",
      "        [[-9.1556e-05,  2.5636e-03, -2.7467e-04,  ..., -1.4649e-03,\n",
      "          -7.9348e-04,  1.1292e-03],\n",
      "         [ 7.0193e-04, -3.6012e-03, -2.1668e-03,  ...,  1.8311e-04,\n",
      "          -1.9532e-03,  1.4649e-03]],\n",
      "\n",
      "        [[ 5.7985e-04,  4.2726e-04, -3.3570e-04,  ...,  4.8830e-04,\n",
      "           3.0519e-04, -3.6622e-04],\n",
      "         [-1.9837e-03, -2.0753e-03,  1.0376e-03,  ...,  9.1556e-05,\n",
      "           3.9674e-04,  2.1363e-04]],\n",
      "\n",
      "        ...,\n",
      "\n",
      "        [[ 2.6246e-03, -3.6622e-04,  8.5452e-04,  ..., -2.0142e-03,\n",
      "          -2.4415e-04,  2.5025e-03],\n",
      "         [ 4.2726e-04,  3.5096e-03,  3.0519e-04,  ...,  7.0193e-04,\n",
      "          -1.0071e-03, -2.2584e-03]],\n",
      "\n",
      "        [[ 1.2818e-03, -1.4649e-03, -4.2726e-04,  ...,  6.1037e-04,\n",
      "           7.0193e-04,  2.1363e-04],\n",
      "         [ 8.8504e-04, -2.0753e-03,  1.3428e-03,  ..., -3.3570e-03,\n",
      "          -1.7701e-03,  2.1363e-04]],\n",
      "\n",
      "        [[ 1.6785e-03,  1.4039e-03, -1.2818e-03,  ...,  1.0376e-03,\n",
      "           1.0376e-03,  1.9532e-03],\n",
      "         [-1.8311e-04, -1.0071e-03, -6.1037e-04,  ...,  2.7467e-04,\n",
      "          -3.0519e-05, -8.5452e-04]]])\n"
     ]
    }
   ],
   "source": [
    "from steves_utils.transforms import get_average_magnitude, get_average_power\n",
    "\n",
    "print(set([u for u,_ in val_original_source]))\n",
    "print(set([u for u,_ in val_original_target]))\n",
    "\n",
    "s_x, s_y, q_x, q_y, _ = next(iter(train_processed_source))\n",
    "print(s_x)\n",
    "\n",
    "# for ds in [\n",
    "#     train_processed_source,\n",
    "#     val_processed_source,\n",
    "#     test_processed_source,\n",
    "#     train_processed_target,\n",
    "#     val_processed_target,\n",
    "#     test_processed_target\n",
    "# ]:\n",
    "#     for s_x, s_y, q_x, q_y, _ in ds:\n",
    "#         for X in (s_x, q_x):\n",
    "#             for x in X:\n",
    "#                 assert np.isclose(get_average_magnitude(x.numpy()), 1.0)\n",
    "#                 assert np.isclose(get_average_power(x.numpy()), 1.0)\n",
    "                "
   ]
  },
  {
   "cell_type": "code",
   "execution_count": 21,
   "id": "bbdacba1",
   "metadata": {
    "execution": {
     "iopub.execute_input": "2022-03-24T09:20:11.459308Z",
     "iopub.status.busy": "2022-03-24T09:20:11.458730Z",
     "iopub.status.idle": "2022-03-24T09:20:11.668216Z",
     "shell.execute_reply": "2022-03-24T09:20:11.667880Z"
    },
    "papermill": {
     "duration": 0.236515,
     "end_time": "2022-03-24T09:20:11.668307",
     "exception": false,
     "start_time": "2022-03-24T09:20:11.431792",
     "status": "completed"
    },
    "tags": []
   },
   "outputs": [
    {
     "name": "stdout",
     "output_type": "stream",
     "text": [
      "(2, 256)\n"
     ]
    }
   ],
   "source": [
    "###################################\n",
    "# Build the model\n",
    "###################################\n",
    "# easfsl only wants a tuple for the shape\n",
    "model = Steves_Prototypical_Network(x_net, device=p.device, x_shape=tuple(p.x_shape))\n",
    "optimizer = Adam(params=model.parameters(), lr=p.lr)"
   ]
  },
  {
   "cell_type": "code",
   "execution_count": 22,
   "id": "22b39ac5",
   "metadata": {
    "execution": {
     "iopub.execute_input": "2022-03-24T09:20:11.716416Z",
     "iopub.status.busy": "2022-03-24T09:20:11.715902Z",
     "iopub.status.idle": "2022-03-24T11:15:04.801576Z",
     "shell.execute_reply": "2022-03-24T11:15:04.801237Z"
    },
    "papermill": {
     "duration": 6893.110969,
     "end_time": "2022-03-24T11:15:04.801663",
     "exception": false,
     "start_time": "2022-03-24T09:20:11.690694",
     "status": "completed"
    },
    "tags": []
   },
   "outputs": [
    {
     "name": "stdout",
     "output_type": "stream",
     "text": [
      "epoch: 1, [batch: 1 / 33600], examples_per_second: 6.5367, train_label_loss: 2.7637, \n"
     ]
    },
    {
     "name": "stdout",
     "output_type": "stream",
     "text": [
      "epoch: 1, [batch: 3360 / 33600], examples_per_second: 2955.4038, train_label_loss: 1.2223, \n"
     ]
    },
    {
     "name": "stdout",
     "output_type": "stream",
     "text": [
      "epoch: 1, [batch: 6720 / 33600], examples_per_second: 2935.6034, train_label_loss: 0.7388, \n"
     ]
    },
    {
     "name": "stdout",
     "output_type": "stream",
     "text": [
      "epoch: 1, [batch: 10080 / 33600], examples_per_second: 3518.7095, train_label_loss: 0.9048, \n"
     ]
    },
    {
     "name": "stdout",
     "output_type": "stream",
     "text": [
      "epoch: 1, [batch: 13440 / 33600], examples_per_second: 4190.7085, train_label_loss: 0.6018, \n"
     ]
    },
    {
     "name": "stdout",
     "output_type": "stream",
     "text": [
      "epoch: 1, [batch: 16800 / 33600], examples_per_second: 2964.7796, train_label_loss: 0.3943, \n"
     ]
    },
    {
     "name": "stdout",
     "output_type": "stream",
     "text": [
      "epoch: 1, [batch: 20160 / 33600], examples_per_second: 2965.1244, train_label_loss: 0.5299, \n"
     ]
    },
    {
     "name": "stdout",
     "output_type": "stream",
     "text": [
      "epoch: 1, [batch: 23520 / 33600], examples_per_second: 2947.3435, train_label_loss: 0.5633, \n"
     ]
    },
    {
     "name": "stdout",
     "output_type": "stream",
     "text": [
      "epoch: 1, [batch: 26880 / 33600], examples_per_second: 2995.9964, train_label_loss: 0.4007, \n"
     ]
    },
    {
     "name": "stdout",
     "output_type": "stream",
     "text": [
      "epoch: 1, [batch: 30240 / 33600], examples_per_second: 2970.6511, train_label_loss: 0.2601, \n"
     ]
    },
    {
     "name": "stdout",
     "output_type": "stream",
     "text": [
      "=============================================================\n",
      "epoch: 1, source_val_acc_label: 0.7453, target_val_acc_label: 0.7961, source_val_label_loss: 1.4637, target_val_label_loss: 216.2767, \n",
      "=============================================================\n"
     ]
    },
    {
     "name": "stdout",
     "output_type": "stream",
     "text": [
      "New best\n"
     ]
    },
    {
     "name": "stdout",
     "output_type": "stream",
     "text": [
      "epoch: 2, [batch: 1 / 33600], examples_per_second: 0.7318, train_label_loss: 2.2524, \n"
     ]
    },
    {
     "name": "stdout",
     "output_type": "stream",
     "text": [
      "epoch: 2, [batch: 3360 / 33600], examples_per_second: 2990.6609, train_label_loss: 0.2933, \n"
     ]
    },
    {
     "name": "stdout",
     "output_type": "stream",
     "text": [
      "epoch: 2, [batch: 6720 / 33600], examples_per_second: 2983.9590, train_label_loss: 0.3323, \n"
     ]
    },
    {
     "name": "stdout",
     "output_type": "stream",
     "text": [
      "epoch: 2, [batch: 10080 / 33600], examples_per_second: 3541.1139, train_label_loss: 0.3229, \n"
     ]
    },
    {
     "name": "stdout",
     "output_type": "stream",
     "text": [
      "epoch: 2, [batch: 13440 / 33600], examples_per_second: 4125.6213, train_label_loss: 0.3633, \n"
     ]
    },
    {
     "name": "stdout",
     "output_type": "stream",
     "text": [
      "epoch: 2, [batch: 16800 / 33600], examples_per_second: 2961.1777, train_label_loss: 0.4331, \n"
     ]
    },
    {
     "name": "stdout",
     "output_type": "stream",
     "text": [
      "epoch: 2, [batch: 20160 / 33600], examples_per_second: 2998.1069, train_label_loss: 0.3014, \n"
     ]
    },
    {
     "name": "stdout",
     "output_type": "stream",
     "text": [
      "epoch: 2, [batch: 23520 / 33600], examples_per_second: 2971.4783, train_label_loss: 0.2271, \n"
     ]
    },
    {
     "name": "stdout",
     "output_type": "stream",
     "text": [
      "epoch: 2, [batch: 26880 / 33600], examples_per_second: 2970.2521, train_label_loss: 0.4247, \n"
     ]
    },
    {
     "name": "stdout",
     "output_type": "stream",
     "text": [
      "epoch: 2, [batch: 30240 / 33600], examples_per_second: 2978.0126, train_label_loss: 0.2568, \n"
     ]
    },
    {
     "name": "stdout",
     "output_type": "stream",
     "text": [
      "=============================================================\n",
      "epoch: 2, source_val_acc_label: 0.8551, target_val_acc_label: 0.8344, source_val_label_loss: 0.4031, target_val_label_loss: 66.5155, \n",
      "=============================================================\n"
     ]
    },
    {
     "name": "stdout",
     "output_type": "stream",
     "text": [
      "New best\n"
     ]
    },
    {
     "name": "stdout",
     "output_type": "stream",
     "text": [
      "epoch: 3, [batch: 1 / 33600], examples_per_second: 0.7364, train_label_loss: 0.2335, \n"
     ]
    },
    {
     "name": "stdout",
     "output_type": "stream",
     "text": [
      "epoch: 3, [batch: 3360 / 33600], examples_per_second: 3014.8759, train_label_loss: 0.4600, \n"
     ]
    },
    {
     "name": "stdout",
     "output_type": "stream",
     "text": [
      "epoch: 3, [batch: 6720 / 33600], examples_per_second: 3031.5470, train_label_loss: 0.6189, \n"
     ]
    },
    {
     "name": "stdout",
     "output_type": "stream",
     "text": [
      "epoch: 3, [batch: 10080 / 33600], examples_per_second: 3707.4841, train_label_loss: 0.3120, \n"
     ]
    },
    {
     "name": "stdout",
     "output_type": "stream",
     "text": [
      "epoch: 3, [batch: 13440 / 33600], examples_per_second: 3984.8321, train_label_loss: 0.3362, \n"
     ]
    },
    {
     "name": "stdout",
     "output_type": "stream",
     "text": [
      "epoch: 3, [batch: 16800 / 33600], examples_per_second: 3005.9194, train_label_loss: 0.4074, \n"
     ]
    },
    {
     "name": "stdout",
     "output_type": "stream",
     "text": [
      "epoch: 3, [batch: 20160 / 33600], examples_per_second: 3026.9644, train_label_loss: 0.2370, \n"
     ]
    },
    {
     "name": "stdout",
     "output_type": "stream",
     "text": [
      "epoch: 3, [batch: 23520 / 33600], examples_per_second: 2960.6402, train_label_loss: 0.3822, \n"
     ]
    },
    {
     "name": "stdout",
     "output_type": "stream",
     "text": [
      "epoch: 3, [batch: 26880 / 33600], examples_per_second: 2994.6964, train_label_loss: 0.4658, \n"
     ]
    },
    {
     "name": "stdout",
     "output_type": "stream",
     "text": [
      "epoch: 3, [batch: 30240 / 33600], examples_per_second: 2971.5478, train_label_loss: 0.5209, \n"
     ]
    },
    {
     "name": "stdout",
     "output_type": "stream",
     "text": [
      "=============================================================\n",
      "epoch: 3, source_val_acc_label: 0.8650, target_val_acc_label: 0.8519, source_val_label_loss: 0.3789, target_val_label_loss: 45.5368, \n",
      "=============================================================\n"
     ]
    },
    {
     "name": "stdout",
     "output_type": "stream",
     "text": [
      "New best\n"
     ]
    },
    {
     "name": "stdout",
     "output_type": "stream",
     "text": [
      "epoch: 4, [batch: 1 / 33600], examples_per_second: 0.7403, train_label_loss: 0.3204, \n"
     ]
    },
    {
     "name": "stdout",
     "output_type": "stream",
     "text": [
      "epoch: 4, [batch: 3360 / 33600], examples_per_second: 3005.5789, train_label_loss: 0.4918, \n"
     ]
    },
    {
     "name": "stdout",
     "output_type": "stream",
     "text": [
      "epoch: 4, [batch: 6720 / 33600], examples_per_second: 2997.0925, train_label_loss: 0.3114, \n"
     ]
    },
    {
     "name": "stdout",
     "output_type": "stream",
     "text": [
      "epoch: 4, [batch: 10080 / 33600], examples_per_second: 3678.7882, train_label_loss: 0.1404, \n"
     ]
    },
    {
     "name": "stdout",
     "output_type": "stream",
     "text": [
      "epoch: 4, [batch: 13440 / 33600], examples_per_second: 4195.9164, train_label_loss: 0.1705, \n"
     ]
    },
    {
     "name": "stdout",
     "output_type": "stream",
     "text": [
      "epoch: 4, [batch: 16800 / 33600], examples_per_second: 3006.0491, train_label_loss: 0.2920, \n"
     ]
    },
    {
     "name": "stdout",
     "output_type": "stream",
     "text": [
      "epoch: 4, [batch: 20160 / 33600], examples_per_second: 2976.2897, train_label_loss: 0.3901, \n"
     ]
    },
    {
     "name": "stdout",
     "output_type": "stream",
     "text": [
      "epoch: 4, [batch: 23520 / 33600], examples_per_second: 3032.7290, train_label_loss: 0.3565, \n"
     ]
    },
    {
     "name": "stdout",
     "output_type": "stream",
     "text": [
      "epoch: 4, [batch: 26880 / 33600], examples_per_second: 3027.1690, train_label_loss: 0.3078, \n"
     ]
    },
    {
     "name": "stdout",
     "output_type": "stream",
     "text": [
      "epoch: 4, [batch: 30240 / 33600], examples_per_second: 2988.7138, train_label_loss: 0.2470, \n"
     ]
    },
    {
     "name": "stdout",
     "output_type": "stream",
     "text": [
      "=============================================================\n",
      "epoch: 4, source_val_acc_label: 0.8746, target_val_acc_label: 0.8518, source_val_label_loss: 0.3536, target_val_label_loss: 93.3423, \n",
      "=============================================================\n"
     ]
    },
    {
     "name": "stdout",
     "output_type": "stream",
     "text": [
      "epoch: 5, [batch: 1 / 33600], examples_per_second: 0.7365, train_label_loss: 0.3449, \n"
     ]
    },
    {
     "name": "stdout",
     "output_type": "stream",
     "text": [
      "epoch: 5, [batch: 3360 / 33600], examples_per_second: 2987.2009, train_label_loss: 0.1317, \n"
     ]
    },
    {
     "name": "stdout",
     "output_type": "stream",
     "text": [
      "epoch: 5, [batch: 6720 / 33600], examples_per_second: 2997.4676, train_label_loss: 0.1792, \n"
     ]
    },
    {
     "name": "stdout",
     "output_type": "stream",
     "text": [
      "epoch: 5, [batch: 10080 / 33600], examples_per_second: 3580.7704, train_label_loss: 0.5321, \n"
     ]
    },
    {
     "name": "stdout",
     "output_type": "stream",
     "text": [
      "epoch: 5, [batch: 13440 / 33600], examples_per_second: 4092.7704, train_label_loss: 0.2094, \n"
     ]
    },
    {
     "name": "stdout",
     "output_type": "stream",
     "text": [
      "epoch: 5, [batch: 16800 / 33600], examples_per_second: 2984.3317, train_label_loss: 0.3892, \n"
     ]
    },
    {
     "name": "stdout",
     "output_type": "stream",
     "text": [
      "epoch: 5, [batch: 20160 / 33600], examples_per_second: 2986.1472, train_label_loss: 0.3051, \n"
     ]
    },
    {
     "name": "stdout",
     "output_type": "stream",
     "text": [
      "epoch: 5, [batch: 23520 / 33600], examples_per_second: 3016.1628, train_label_loss: 0.2402, \n"
     ]
    },
    {
     "name": "stdout",
     "output_type": "stream",
     "text": [
      "epoch: 5, [batch: 26880 / 33600], examples_per_second: 3013.1545, train_label_loss: 0.1687, \n"
     ]
    },
    {
     "name": "stdout",
     "output_type": "stream",
     "text": [
      "epoch: 5, [batch: 30240 / 33600], examples_per_second: 3054.8744, train_label_loss: 0.0721, \n"
     ]
    },
    {
     "name": "stdout",
     "output_type": "stream",
     "text": [
      "=============================================================\n",
      "epoch: 5, source_val_acc_label: 0.8773, target_val_acc_label: 0.8325, source_val_label_loss: 0.3435, target_val_label_loss: 166.7784, \n",
      "=============================================================\n"
     ]
    },
    {
     "name": "stdout",
     "output_type": "stream",
     "text": [
      "epoch: 6, [batch: 1 / 33600], examples_per_second: 0.7458, train_label_loss: 0.1462, \n"
     ]
    },
    {
     "name": "stdout",
     "output_type": "stream",
     "text": [
      "epoch: 6, [batch: 3360 / 33600], examples_per_second: 3032.0327, train_label_loss: 0.2482, \n"
     ]
    },
    {
     "name": "stdout",
     "output_type": "stream",
     "text": [
      "epoch: 6, [batch: 6720 / 33600], examples_per_second: 3020.7215, train_label_loss: 0.4048, \n"
     ]
    },
    {
     "name": "stdout",
     "output_type": "stream",
     "text": [
      "epoch: 6, [batch: 10080 / 33600], examples_per_second: 3543.2143, train_label_loss: 0.2460, \n"
     ]
    },
    {
     "name": "stdout",
     "output_type": "stream",
     "text": [
      "epoch: 6, [batch: 13440 / 33600], examples_per_second: 4164.8798, train_label_loss: 0.2872, \n"
     ]
    },
    {
     "name": "stdout",
     "output_type": "stream",
     "text": [
      "epoch: 6, [batch: 16800 / 33600], examples_per_second: 3055.8067, train_label_loss: 0.3558, \n"
     ]
    },
    {
     "name": "stdout",
     "output_type": "stream",
     "text": [
      "epoch: 6, [batch: 20160 / 33600], examples_per_second: 3000.3054, train_label_loss: 0.2084, \n"
     ]
    },
    {
     "name": "stdout",
     "output_type": "stream",
     "text": [
      "epoch: 6, [batch: 23520 / 33600], examples_per_second: 2955.9604, train_label_loss: 0.0693, \n"
     ]
    },
    {
     "name": "stdout",
     "output_type": "stream",
     "text": [
      "epoch: 6, [batch: 26880 / 33600], examples_per_second: 3002.8433, train_label_loss: 0.3782, \n"
     ]
    },
    {
     "name": "stdout",
     "output_type": "stream",
     "text": [
      "epoch: 6, [batch: 30240 / 33600], examples_per_second: 3015.5992, train_label_loss: 0.3638, \n"
     ]
    },
    {
     "name": "stdout",
     "output_type": "stream",
     "text": [
      "=============================================================\n",
      "epoch: 6, source_val_acc_label: 0.8806, target_val_acc_label: 0.8142, source_val_label_loss: 0.3324, target_val_label_loss: 312.1196, \n",
      "=============================================================\n"
     ]
    },
    {
     "name": "stdout",
     "output_type": "stream",
     "text": [
      "epoch: 7, [batch: 1 / 33600], examples_per_second: 0.7385, train_label_loss: 0.1745, \n"
     ]
    },
    {
     "name": "stdout",
     "output_type": "stream",
     "text": [
      "epoch: 7, [batch: 3360 / 33600], examples_per_second: 2982.6856, train_label_loss: 0.1964, \n"
     ]
    },
    {
     "name": "stdout",
     "output_type": "stream",
     "text": [
      "epoch: 7, [batch: 6720 / 33600], examples_per_second: 3014.2001, train_label_loss: 0.1596, \n"
     ]
    },
    {
     "name": "stdout",
     "output_type": "stream",
     "text": [
      "epoch: 7, [batch: 10080 / 33600], examples_per_second: 3553.6222, train_label_loss: 0.1680, \n"
     ]
    },
    {
     "name": "stdout",
     "output_type": "stream",
     "text": [
      "epoch: 7, [batch: 13440 / 33600], examples_per_second: 4329.7815, train_label_loss: 0.2125, \n"
     ]
    },
    {
     "name": "stdout",
     "output_type": "stream",
     "text": [
      "epoch: 7, [batch: 16800 / 33600], examples_per_second: 3110.7636, train_label_loss: 0.4227, \n"
     ]
    },
    {
     "name": "stdout",
     "output_type": "stream",
     "text": [
      "epoch: 7, [batch: 20160 / 33600], examples_per_second: 2986.2087, train_label_loss: 0.3917, \n"
     ]
    },
    {
     "name": "stdout",
     "output_type": "stream",
     "text": [
      "epoch: 7, [batch: 23520 / 33600], examples_per_second: 2976.0860, train_label_loss: 0.2061, \n"
     ]
    },
    {
     "name": "stdout",
     "output_type": "stream",
     "text": [
      "epoch: 7, [batch: 26880 / 33600], examples_per_second: 2995.4279, train_label_loss: 0.2736, \n"
     ]
    },
    {
     "name": "stdout",
     "output_type": "stream",
     "text": [
      "epoch: 7, [batch: 30240 / 33600], examples_per_second: 2998.9319, train_label_loss: 0.2781, \n"
     ]
    },
    {
     "name": "stdout",
     "output_type": "stream",
     "text": [
      "=============================================================\n",
      "epoch: 7, source_val_acc_label: 0.8814, target_val_acc_label: 0.8268, source_val_label_loss: 0.3301, target_val_label_loss: 274.2847, \n",
      "=============================================================\n"
     ]
    },
    {
     "name": "stdout",
     "output_type": "stream",
     "text": [
      "Patience (3) exhausted\n"
     ]
    }
   ],
   "source": [
    "###################################\n",
    "# train\n",
    "###################################\n",
    "jig = PTN_Train_Eval_Test_Jig(model, p.BEST_MODEL_PATH, p.device)\n",
    "\n",
    "jig.train(\n",
    "    train_iterable=datasets.source.processed.train,\n",
    "    source_val_iterable=datasets.source.processed.val,\n",
    "    target_val_iterable=datasets.target.processed.val,\n",
    "    num_epochs=p.n_epoch,\n",
    "    num_logs_per_epoch=p.NUM_LOGS_PER_EPOCH,\n",
    "    patience=p.patience,\n",
    "    optimizer=optimizer,\n",
    "    criteria_for_best=p.criteria_for_best,\n",
    ")"
   ]
  },
  {
   "cell_type": "code",
   "execution_count": 23,
   "id": "31e8fabf",
   "metadata": {
    "execution": {
     "iopub.execute_input": "2022-03-24T11:15:04.896587Z",
     "iopub.status.busy": "2022-03-24T11:15:04.896226Z",
     "iopub.status.idle": "2022-03-24T11:15:04.929350Z",
     "shell.execute_reply": "2022-03-24T11:15:04.928634Z"
    },
    "papermill": {
     "duration": 0.084186,
     "end_time": "2022-03-24T11:15:04.929505",
     "exception": false,
     "start_time": "2022-03-24T11:15:04.845319",
     "status": "completed"
    },
    "tags": []
   },
   "outputs": [],
   "source": [
    "total_experiment_time_secs = time.time() - start_time_secs"
   ]
  },
  {
   "cell_type": "code",
   "execution_count": 24,
   "id": "87b9595b",
   "metadata": {
    "execution": {
     "iopub.execute_input": "2022-03-24T11:15:05.033451Z",
     "iopub.status.busy": "2022-03-24T11:15:05.032864Z",
     "iopub.status.idle": "2022-03-24T11:24:52.022670Z",
     "shell.execute_reply": "2022-03-24T11:24:52.021772Z"
    },
    "papermill": {
     "duration": 587.043756,
     "end_time": "2022-03-24T11:24:52.022861",
     "exception": false,
     "start_time": "2022-03-24T11:15:04.979105",
     "status": "completed"
    },
    "tags": []
   },
   "outputs": [],
   "source": [
    "###################################\n",
    "# Evaluate the model\n",
    "###################################\n",
    "source_test_label_accuracy, source_test_label_loss = jig.test(datasets.source.processed.test)\n",
    "target_test_label_accuracy, target_test_label_loss = jig.test(datasets.target.processed.test)\n",
    "\n",
    "source_val_label_accuracy, source_val_label_loss = jig.test(datasets.source.processed.val)\n",
    "target_val_label_accuracy, target_val_label_loss = jig.test(datasets.target.processed.val)\n",
    "\n",
    "history = jig.get_history()\n",
    "\n",
    "total_epochs_trained = len(history[\"epoch_indices\"])\n",
    "\n",
    "val_dl = Iterable_Aggregator((datasets.source.original.val,datasets.target.original.val))\n",
    "\n",
    "confusion = ptn_confusion_by_domain_over_dataloader(model, p.device, val_dl)\n",
    "per_domain_accuracy = per_domain_accuracy_from_confusion(confusion)\n",
    "\n",
    "# Add a key to per_domain_accuracy for if it was a source domain\n",
    "for domain, accuracy in per_domain_accuracy.items():\n",
    "    per_domain_accuracy[domain] = {\n",
    "        \"accuracy\": accuracy,\n",
    "        \"source?\": domain in p.domains_source\n",
    "    }\n",
    "\n",
    "# Do an independent accuracy assesment JUST TO BE SURE!\n",
    "# _source_test_label_accuracy = independent_accuracy_assesment(model, datasets.source.processed.test, p.device)\n",
    "# _target_test_label_accuracy = independent_accuracy_assesment(model, datasets.target.processed.test, p.device)\n",
    "# _source_val_label_accuracy = independent_accuracy_assesment(model, datasets.source.processed.val, p.device)\n",
    "# _target_val_label_accuracy = independent_accuracy_assesment(model, datasets.target.processed.val, p.device)\n",
    "\n",
    "# assert(_source_test_label_accuracy == source_test_label_accuracy)\n",
    "# assert(_target_test_label_accuracy == target_test_label_accuracy)\n",
    "# assert(_source_val_label_accuracy == source_val_label_accuracy)\n",
    "# assert(_target_val_label_accuracy == target_val_label_accuracy)\n",
    "\n",
    "experiment = {\n",
    "    \"experiment_name\": p.experiment_name,\n",
    "    \"parameters\": dict(p),\n",
    "    \"results\": {\n",
    "        \"source_test_label_accuracy\": source_test_label_accuracy,\n",
    "        \"source_test_label_loss\": source_test_label_loss,\n",
    "        \"target_test_label_accuracy\": target_test_label_accuracy,\n",
    "        \"target_test_label_loss\": target_test_label_loss,\n",
    "        \"source_val_label_accuracy\": source_val_label_accuracy,\n",
    "        \"source_val_label_loss\": source_val_label_loss,\n",
    "        \"target_val_label_accuracy\": target_val_label_accuracy,\n",
    "        \"target_val_label_loss\": target_val_label_loss,\n",
    "        \"total_epochs_trained\": total_epochs_trained,\n",
    "        \"total_experiment_time_secs\": total_experiment_time_secs,\n",
    "        \"confusion\": confusion,\n",
    "        \"per_domain_accuracy\": per_domain_accuracy,\n",
    "    },\n",
    "    \"history\": history,\n",
    "    \"dataset_metrics\": get_dataset_metrics(datasets, \"ptn\"),\n",
    "}"
   ]
  },
  {
   "cell_type": "code",
   "execution_count": 25,
   "id": "54a21829",
   "metadata": {
    "execution": {
     "iopub.execute_input": "2022-03-24T11:24:52.130574Z",
     "iopub.status.busy": "2022-03-24T11:24:52.129929Z",
     "iopub.status.idle": "2022-03-24T11:24:52.358948Z",
     "shell.execute_reply": "2022-03-24T11:24:52.359678Z"
    },
    "papermill": {
     "duration": 0.28231,
     "end_time": "2022-03-24T11:24:52.359892",
     "exception": false,
     "start_time": "2022-03-24T11:24:52.077582",
     "status": "completed"
    },
    "tags": []
   },
   "outputs": [
    {
     "data": {
      "image/png": "[encoded data removed]",
      "text/plain": [
       "<Figure size 1080x504 with 1 Axes>"
      ]
     },
     "metadata": {
      "needs_background": "light"
     },
     "output_type": "display_data"
    }
   ],
   "source": [
    "ax = get_loss_curve(experiment)\n",
    "plt.show()"
   ]
  },
  {
   "cell_type": "code",
   "execution_count": 26,
   "id": "fd8a0f60",
   "metadata": {
    "execution": {
     "iopub.execute_input": "2022-03-24T11:24:52.464103Z",
     "iopub.status.busy": "2022-03-24T11:24:52.463586Z",
     "iopub.status.idle": "2022-03-24T11:24:52.782184Z",
     "shell.execute_reply": "2022-03-24T11:24:52.782502Z"
    },
    "papermill": {
     "duration": 0.369198,
     "end_time": "2022-03-24T11:24:52.782624",
     "exception": false,
     "start_time": "2022-03-24T11:24:52.413426",
     "status": "completed"
    },
    "tags": []
   },
   "outputs": [
    {
     "data": {
      "text/plain": [
       "<AxesSubplot:title={'center':'Results'}>"
      ]
     },
     "execution_count": 26,
     "metadata": {},
     "output_type": "execute_result"
    },
    {
     "data": {
      "image/png": "[encoded data removed]",
      "text/plain": [
       "<Figure size 1080x504 with 1 Axes>"
      ]
     },
     "metadata": {
      "needs_background": "light"
     },
     "output_type": "display_data"
    }
   ],
   "source": [
    "get_results_table(experiment)"
   ]
  },
  {
   "cell_type": "code",
   "execution_count": 27,
   "id": "cf8dc689",
   "metadata": {
    "execution": {
     "iopub.execute_input": "2022-03-24T11:24:52.882311Z",
     "iopub.status.busy": "2022-03-24T11:24:52.881680Z",
     "iopub.status.idle": "2022-03-24T11:24:53.159390Z",
     "shell.execute_reply": "2022-03-24T11:24:53.158655Z"
    },
    "papermill": {
     "duration": 0.329942,
     "end_time": "2022-03-24T11:24:53.159601",
     "exception": false,
     "start_time": "2022-03-24T11:24:52.829659",
     "status": "completed"
    },
    "tags": []
   },
   "outputs": [
    {
     "data": {
      "text/plain": [
       "<AxesSubplot:title={'center':'Per Domain Validation Accuracy'}, xlabel='domain'>"
      ]
     },
     "execution_count": 27,
     "metadata": {},
     "output_type": "execute_result"
    },
    {
     "data": {
      "image/png": "[encoded data removed]",
      "text/plain": [
       "<Figure size 1080x504 with 1 Axes>"
      ]
     },
     "metadata": {
      "needs_background": "light"
     },
     "output_type": "display_data"
    }
   ],
   "source": [
    "get_domain_accuracies(experiment)"
   ]
  },
  {
   "cell_type": "code",
   "execution_count": 28,
   "id": "a74ae082",
   "metadata": {
    "execution": {
     "iopub.execute_input": "2022-03-24T11:24:53.276069Z",
     "iopub.status.busy": "2022-03-24T11:24:53.275691Z",
     "iopub.status.idle": "2022-03-24T11:24:53.301652Z",
     "shell.execute_reply": "2022-03-24T11:24:53.300946Z"
    },
    "papermill": {
     "duration": 0.081997,
     "end_time": "2022-03-24T11:24:53.301809",
     "exception": false,
     "start_time": "2022-03-24T11:24:53.219812",
     "status": "completed"
    },
    "tags": []
   },
   "outputs": [
    {
     "name": "stdout",
     "output_type": "stream",
     "text": [
      "Source Test Label Accuracy: 0.8651692708333333 Target Test Label Accuracy: 0.8451719234746639\n",
      "Source Val Label Accuracy: 0.8649609375 Target Val Label Accuracy: 0.851925105485232\n"
     ]
    }
   ],
   "source": [
    "print(\"Source Test Label Accuracy:\", experiment[\"results\"][\"source_test_label_accuracy\"], \"Target Test Label Accuracy:\", experiment[\"results\"][\"target_test_label_accuracy\"])\n",
    "print(\"Source Val Label Accuracy:\", experiment[\"results\"][\"source_val_label_accuracy\"], \"Target Val Label Accuracy:\", experiment[\"results\"][\"target_val_label_accuracy\"])"
   ]
  },
  {
   "cell_type": "code",
   "execution_count": 29,
   "id": "dacca602",
   "metadata": {
    "execution": {
     "iopub.execute_input": "2022-03-24T11:24:53.409927Z",
     "iopub.status.busy": "2022-03-24T11:24:53.409369Z",
     "iopub.status.idle": "2022-03-24T11:24:53.435062Z",
     "shell.execute_reply": "2022-03-24T11:24:53.435752Z"
    },
    "papermill": {
     "duration": 0.079122,
     "end_time": "2022-03-24T11:24:53.435936",
     "exception": false,
     "start_time": "2022-03-24T11:24:53.356814",
     "status": "completed"
    },
    "tags": [
     "experiment_json"
    ]
   },
   "outputs": [
    {
     "data": {
      "text/plain": [
       "'{\"experiment_name\": \"tl_1v2:wisig-oracle.run1\", \"parameters\": {\"experiment_name\": \"tl_1v2:wisig-oracle.run1\", \"device\": \"cuda\", \"lr\": 0.0001, \"n_shot\": 3, \"n_query\": 2, \"train_k_factor\": 3, \"val_k_factor\": 2, \"test_k_factor\": 2, \"torch_default_dtype\": \"torch.float32\", \"n_epoch\": 50, \"patience\": 3, \"criteria_for_best\": \"target_accuracy\", \"x_net\": [{\"class\": \"nnReshape\", \"kargs\": {\"shape\": [-1, 1, 2, 256]}}, {\"class\": \"Conv2d\", \"kargs\": {\"in_channels\": 1, \"out_channels\": 256, \"kernel_size\": [1, 7], \"bias\": false, \"padding\": [0, 3]}}, {\"class\": \"ReLU\", \"kargs\": {\"inplace\": true}}, {\"class\": \"BatchNorm2d\", \"kargs\": {\"num_features\": 256}}, {\"class\": \"Conv2d\", \"kargs\": {\"in_channels\": 256, \"out_channels\": 80, \"kernel_size\": [2, 7], \"bias\": true, \"padding\": [0, 3]}}, {\"class\": \"ReLU\", \"kargs\": {\"inplace\": true}}, {\"class\": \"BatchNorm2d\", \"kargs\": {\"num_features\": 80}}, {\"class\": \"Flatten\", \"kargs\": {}}, {\"class\": \"Linear\", \"kargs\": {\"in_features\": 20480, \"out_features\": 256}}, {\"class\": \"ReLU\", \"kargs\": {\"inplace\": true}}, {\"class\": \"BatchNorm1d\", \"kargs\": {\"num_features\": 256}}, {\"class\": \"Linear\", \"kargs\": {\"in_features\": 256, \"out_features\": 256}}], \"NUM_LOGS_PER_EPOCH\": 10, \"BEST_MODEL_PATH\": \"./best_model.pth\", \"n_way\": 16, \"datasets\": [{\"labels\": [\"1-10\", \"1-12\", \"1-14\", \"1-16\", \"1-18\", \"1-19\", \"1-8\", \"10-11\", \"10-17\", \"10-4\", \"10-7\", \"11-1\", \"11-10\", \"11-19\", \"11-20\", \"11-4\", \"11-7\", \"12-19\", \"12-20\", \"12-7\", \"13-14\", \"13-18\", \"13-19\", \"13-20\", \"13-3\", \"13-7\", \"14-10\", \"14-11\", \"14-12\", \"14-13\", \"14-14\", \"14-19\", \"14-20\", \"14-7\", \"14-8\", \"14-9\", \"15-1\", \"15-19\", \"15-6\", \"16-1\", \"16-16\", \"16-19\", \"16-20\", \"17-10\", \"17-11\", \"18-1\", \"18-10\", \"18-11\", \"18-12\", \"18-13\", \"18-14\", \"18-15\", \"18-16\", \"18-17\", \"18-19\", \"18-2\", \"18-20\", \"18-4\", \"18-5\", \"18-7\", \"18-8\", \"18-9\", \"19-1\", \"19-10\", \"19-11\", \"19-12\", \"19-13\", \"19-14\", \"19-15\", \"19-19\", \"19-2\", \"19-20\", \"19-3\", \"19-4\", \"19-6\", \"19-7\", \"19-8\", \"19-9\", \"2-1\", \"2-13\", \"2-15\", \"2-3\", \"2-4\", \"2-5\", \"2-6\", \"2-7\", \"2-8\", \"20-1\", \"20-12\", \"20-14\", \"20-15\", \"20-16\", \"20-18\", \"20-19\", \"20-20\", \"20-3\", \"20-4\", \"20-5\", \"20-7\", \"20-8\", \"3-1\", \"3-13\", \"3-18\", \"3-2\", \"3-8\", \"4-1\", \"4-10\", \"4-11\", \"5-1\", \"5-5\", \"6-1\", \"6-15\", \"6-6\", \"7-10\", \"7-11\", \"7-12\", \"7-13\", \"7-14\", \"7-7\", \"7-8\", \"7-9\", \"8-1\", \"8-13\", \"8-14\", \"8-18\", \"8-20\", \"8-3\", \"8-8\", \"9-1\", \"9-7\"], \"domains\": [1, 2, 3, 4], \"num_examples_per_domain_per_label\": -1, \"pickle_path\": \"/root/csc500-main/datasets/wisig.node3-19.stratified_ds.2022A.pkl\", \"source_or_target_dataset\": \"target\", \"x_transforms\": [], \"episode_transforms\": [], \"domain_prefix\": \"Wisig_\"}, {\"labels\": [\"3123D52\", \"3123D65\", \"3123D79\", \"3123D80\", \"3123D54\", \"3123D70\", \"3123D7B\", \"3123D89\", \"3123D58\", \"3123D76\", \"3123D7D\", \"3123EFE\", \"3123D64\", \"3123D78\", \"3123D7E\", \"3124E4A\"], \"domains\": [32, 38, 8, 44, 14, 50, 20, 26], \"num_examples_per_domain_per_label\": 10000, \"pickle_path\": \"/root/csc500-main/datasets/oracle.Run1_10kExamples_stratified_ds.2022A.pkl\", \"source_or_target_dataset\": \"source\", \"x_transforms\": [], \"episode_transforms\": [], \"domain_prefix\": \"ORACLE.run1\"}], \"dataset_seed\": 500, \"seed\": 500, \"x_shape\": [2, 256], \"domains_source\": [\"ORACLE.run132\", \"ORACLE.run138\", \"ORACLE.run18\", \"ORACLE.run144\", \"ORACLE.run114\", \"ORACLE.run150\", \"ORACLE.run120\", \"ORACLE.run126\"], \"domains_target\": [\"Wisig_1\", \"Wisig_2\", \"Wisig_3\", \"Wisig_4\"]}, \"results\": {\"source_test_label_accuracy\": 0.8651692708333333, \"source_test_label_loss\": 0.3744714558124542, \"target_test_label_accuracy\": 0.8451719234746639, \"target_test_label_loss\": 46.41743850708008, \"source_val_label_accuracy\": 0.8649609375, \"source_val_label_loss\": 0.3789067268371582, \"target_val_label_accuracy\": 0.851925105485232, \"target_val_label_loss\": 45.53683090209961, \"total_epochs_trained\": 7, \"total_experiment_time_secs\": 6939.632755041122, \"confusion\": {\"ORACLE.run150\": {\"7\": {\"7\": 1140, \"5\": 48, \"4\": 12}, \"10\": {\"10\": 1190, \"8\": 7, \"0\": 3}, \"0\": {\"0\": 1153, \"2\": 45, \"10\": 2}, \"11\": {\"11\": 1156, \"9\": 24, \"12\": 15, \"15\": 5}, \"2\": {\"2\": 1167, \"0\": 33}, \"14\": {\"14\": 1200}, \"9\": {\"9\": 1022, \"11\": 101, \"12\": 76, \"15\": 1}, \"13\": {\"13\": 1199, \"1\": 1}, \"8\": {\"8\": 1197, \"10\": 3}, \"15\": {\"11\": 8, \"15\": 1142, \"6\": 47, \"4\": 1, \"9\": 1, \"5\": 1}, \"4\": {\"4\": 1029, \"15\": 34, \"5\": 35, \"7\": 90, \"6\": 12}, \"5\": {\"6\": 246, \"7\": 354, \"4\": 68, \"5\": 490, \"13\": 32, \"1\": 4, \"15\": 6}, \"3\": {\"3\": 1200}, \"1\": {\"1\": 1176, \"13\": 20, \"6\": 1, \"0\": 1, \"11\": 2}, \"6\": {\"6\": 1025, \"5\": 129, \"15\": 46}, \"12\": {\"12\": 1145, \"9\": 43, \"11\": 12}}, \"ORACLE.run114\": {\"14\": {\"14\": 925, \"13\": 131, \"2\": 68, \"6\": 50, \"3\": 26}, \"6\": {\"13\": 318, \"14\": 80, \"6\": 783, \"2\": 17, \"3\": 2}, \"5\": {\"5\": 1117, \"7\": 19, \"3\": 5, \"2\": 39, \"4\": 20}, \"15\": {\"15\": 1200}, \"11\": {\"11\": 1200}, \"8\": {\"8\": 1200}, \"12\": {\"12\": 1200}, \"1\": {\"1\": 1200}, \"2\": {\"2\": 673, \"14\": 174, \"6\": 73, \"5\": 138, \"4\": 47, \"13\": 50, \"3\": 44, \"7\": 1}, \"13\": {\"13\": 331, \"14\": 299, \"6\": 518, \"15\": 16, \"2\": 32, \"4\": 2, \"3\": 2}, \"3\": {\"3\": 1154, \"0\": 6, \"6\": 1, \"14\": 29, \"5\": 7, \"2\": 3}, \"0\": {\"0\": 1133, \"10\": 39, \"3\": 27, \"4\": 1}, \"9\": {\"9\": 1200}, \"4\": {\"4\": 1164, \"5\": 21, \"2\": 14, \"14\": 1}, \"7\": {\"7\": 1194, \"5\": 5, \"2\": 1}, \"10\": {\"10\": 1200}}, \"ORACLE.run132\": {\"4\": {\"4\": 1077, \"13\": 21, \"2\": 102}, \"14\": {\"14\": 764, \"7\": 272, \"5\": 43, \"2\": 29, \"0\": 55, \"8\": 29, \"4\": 8}, \"5\": {\"5\": 695, \"7\": 233, \"14\": 56, \"0\": 97, \"8\": 118, \"15\": 1}, \"10\": {\"10\": 1200}, \"13\": {\"13\": 1053, \"4\": 72, \"11\": 14, \"3\": 61}, \"9\": {\"9\": 1193, \"12\": 7}, \"6\": {\"6\": 1200}, \"3\": {\"3\": 1165, \"13\": 35}, \"15\": {\"15\": 1190, \"8\": 10}, \"7\": {\"7\": 858, \"5\": 160, \"14\": 101, \"0\": 70, \"8\": 11}, \"12\": {\"12\": 1200}, \"8\": {\"8\": 955, \"0\": 107, \"5\": 97, \"4\": 18, \"7\": 11, \"14\": 11, \"3\": 1}, \"11\": {\"11\": 1198, \"13\": 2}, \"2\": {\"2\": 1124, \"4\": 76}, \"1\": {\"1\": 1200}, \"0\": {\"0\": 976, \"7\": 103, \"8\": 71, \"5\": 38, \"14\": 11, \"2\": 1}}, \"ORACLE.run144\": {\"8\": {\"8\": 902, \"0\": 233, \"5\": 26, \"15\": 39}, \"11\": {\"11\": 1198, \"13\": 2}, \"14\": {\"14\": 914, \"4\": 224, \"15\": 26, \"5\": 36}, \"10\": {\"10\": 1118, \"2\": 28, \"1\": 34, \"7\": 20}, \"3\": {\"3\": 1165, \"12\": 35}, \"15\": {\"15\": 1049, \"5\": 44, \"14\": 64, \"8\": 34, \"0\": 3, \"4\": 6}, \"2\": {\"2\": 1162, \"1\": 31, \"10\": 6, \"7\": 1}, \"12\": {\"12\": 1178, \"3\": 22}, \"4\": {\"4\": 779, \"14\": 412, \"9\": 3, \"15\": 5, \"13\": 1}, \"1\": {\"1\": 1154, \"2\": 43, \"10\": 3}, \"0\": {\"0\": 1076, \"8\": 121, \"15\": 3}, \"9\": {\"9\": 572, \"13\": 99, \"7\": 326, \"6\": 200, \"4\": 2, \"10\": 1}, \"5\": {\"5\": 1090, \"14\": 39, \"15\": 63, \"8\": 7, \"4\": 1}, \"6\": {\"7\": 1, \"9\": 49, \"6\": 1030, \"13\": 120}, \"7\": {\"7\": 1037, \"9\": 154, \"10\": 9}, \"13\": {\"6\": 182, \"13\": 988, \"11\": 12, \"9\": 18}}, \"ORACLE.run18\": {\"13\": {\"13\": 1002, \"7\": 53, \"10\": 122, \"6\": 20, \"5\": 3}, \"3\": {\"3\": 1197, \"2\": 3}, \"15\": {\"15\": 1000, \"12\": 195, \"2\": 5}, \"4\": {\"4\": 1140, \"6\": 24, \"11\": 10, \"14\": 20, \"1\": 3, \"10\": 3}, \"7\": {\"7\": 1049, \"6\": 139, \"13\": 12}, \"2\": {\"2\": 939, \"3\": 179, \"12\": 44, \"15\": 38}, \"1\": {\"1\": 938, \"11\": 205, \"10\": 25, \"5\": 25, \"13\": 1, \"4\": 3, \"6\": 3}, \"0\": {\"0\": 1200}, \"12\": {\"12\": 809, \"15\": 384, \"2\": 7}, \"6\": {\"6\": 999, \"7\": 173, \"10\": 3, \"13\": 18, \"4\": 4, \"8\": 2, \"1\": 1}, \"11\": {\"11\": 708, \"1\": 419, \"5\": 9, \"14\": 37, \"8\": 18, \"6\": 3, \"4\": 5, \"10\": 1}, \"9\": {\"9\": 1200}, \"5\": {\"5\": 991, \"10\": 126, \"1\": 57, \"11\": 16, \"14\": 6, \"13\": 3, \"4\": 1}, \"10\": {\"10\": 995, \"5\": 49, \"4\": 9, \"13\": 128, \"1\": 18, \"6\": 1}, \"14\": {\"14\": 1153, \"4\": 36, \"11\": 11}, \"8\": {\"8\": 1188, \"6\": 10, \"4\": 2}}, \"ORACLE.run120\": {\"6\": {\"6\": 1170, \"14\": 20, \"7\": 9, \"10\": 1}, \"11\": {\"11\": 1200}, \"5\": {\"5\": 712, \"3\": 97, \"1\": 344, \"9\": 33, \"15\": 7, \"12\": 5, \"4\": 2}, \"14\": {\"14\": 1147, \"8\": 40, \"6\": 13}, \"2\": {\"2\": 763, \"12\": 127, \"9\": 90, \"7\": 144, \"13\": 54, \"1\": 7, \"4\": 2, \"15\": 11, \"3\": 2}, \"7\": {\"7\": 992, \"9\": 80, \"2\": 98, \"4\": 12, \"3\": 4, \"6\": 5, \"12\": 3, \"8\": 6}, \"3\": {\"9\": 198, \"3\": 779, \"7\": 18, \"5\": 114, \"12\": 3, \"8\": 56, \"1\": 19, \"4\": 4, \"0\": 9}, \"4\": {\"4\": 1119, \"12\": 33, \"7\": 12, \"10\": 32, \"2\": 2, \"9\": 2}, \"9\": {\"9\": 751, \"7\": 94, \"5\": 42, \"2\": 101, \"3\": 164, \"12\": 13, \"1\": 35}, \"12\": {\"12\": 867, \"15\": 75, \"13\": 9, \"1\": 49, \"5\": 4, \"4\": 25, \"9\": 27, \"2\": 138, \"7\": 4, \"3\": 2}, \"0\": {\"3\": 28, \"0\": 1104, \"8\": 9, \"5\": 42, \"1\": 16, \"9\": 1}, \"10\": {\"10\": 1169, \"7\": 1, \"4\": 25, \"6\": 5}, \"8\": {\"8\": 1086, \"14\": 53, \"3\": 60, \"4\": 1}, \"13\": {\"13\": 1116, \"2\": 49, \"15\": 19, \"9\": 1, \"12\": 15}, \"1\": {\"9\": 31, \"12\": 23, \"1\": 741, \"5\": 302, \"15\": 87, \"3\": 14, \"2\": 2}, \"15\": {\"15\": 946, \"1\": 104, \"13\": 23, \"12\": 112, \"2\": 10, \"9\": 3, \"5\": 2}}, \"ORACLE.run138\": {\"3\": {\"3\": 1200}, \"8\": {\"7\": 94, \"8\": 669, \"5\": 383, \"13\": 12, \"15\": 22, \"0\": 18, \"12\": 2}, \"0\": {\"3\": 58, \"0\": 822, \"7\": 136, \"10\": 142, \"8\": 8, \"13\": 29, \"5\": 3, \"9\": 1, \"4\": 1}, \"2\": {\"14\": 65, \"2\": 1133, \"13\": 2}, \"4\": {\"4\": 1198, \"10\": 2}, \"7\": {\"7\": 1179, \"5\": 2, \"0\": 8, \"9\": 4, \"8\": 7}, \"12\": {\"12\": 1200}, \"6\": {\"6\": 1199, \"1\": 1}, \"15\": {\"15\": 1150, \"5\": 25, \"1\": 9, \"8\": 16}, \"11\": {\"11\": 1200}, \"9\": {\"9\": 1183, \"5\": 12, \"8\": 4, \"7\": 1}, \"14\": {\"14\": 1128, \"2\": 65, \"13\": 5, \"10\": 2}, \"10\": {\"10\": 1125, \"13\": 43, \"4\": 4, \"0\": 28}, \"5\": {\"5\": 598, \"8\": 407, \"7\": 85, \"15\": 39, \"9\": 63, \"0\": 5, \"12\": 2, \"13\": 1}, \"1\": {\"1\": 1200}, \"13\": {\"13\": 1132, \"10\": 52, \"0\": 11, \"2\": 4, \"7\": 1}}, \"ORACLE.run126\": {\"5\": {\"5\": 999, \"15\": 170, \"6\": 27, \"1\": 3, \"10\": 1}, \"8\": {\"7\": 159, \"8\": 838, \"9\": 166, \"2\": 31, \"0\": 6}, \"4\": {\"4\": 1196, \"3\": 3, \"13\": 1}, \"12\": {\"12\": 1200}, \"6\": {\"6\": 1017, \"10\": 60, \"15\": 83, \"5\": 35, \"14\": 2, \"0\": 1, \"1\": 2}, \"7\": {\"7\": 884, \"8\": 115, \"2\": 101, \"3\": 84, \"9\": 15, \"4\": 1}, \"10\": {\"0\": 117, \"10\": 768, \"15\": 40, \"14\": 212, \"6\": 55, \"1\": 8}, \"0\": {\"0\": 858, \"14\": 113, \"10\": 157, \"8\": 55, \"2\": 4, \"7\": 5, \"15\": 4, \"1\": 2, \"9\": 1, \"6\": 1}, \"15\": {\"5\": 232, \"15\": 797, \"6\": 119, \"10\": 42, \"14\": 4, \"0\": 3, \"2\": 2, \"1\": 1}, \"9\": {\"7\": 17, \"9\": 871, \"8\": 232, \"13\": 46, \"2\": 30, \"0\": 1, \"3\": 2, \"4\": 1}, \"11\": {\"11\": 1200}, \"14\": {\"14\": 885, \"10\": 186, \"0\": 75, \"1\": 47, \"15\": 6, \"6\": 1}, \"2\": {\"7\": 149, \"2\": 734, \"3\": 121, \"8\": 94, \"9\": 75, \"0\": 16, \"13\": 7, \"15\": 3, \"10\": 1}, \"13\": {\"13\": 1074, \"3\": 9, \"2\": 44, \"9\": 72, \"4\": 1}, \"3\": {\"2\": 24, \"3\": 1079, \"7\": 92, \"4\": 4, \"8\": 1}, \"1\": {\"1\": 1007, \"14\": 140, \"6\": 15, \"10\": 28, \"5\": 2, \"15\": 7, \"0\": 1}}, \"Wisig_3\": {\"99\": {\"99\": 18, \"47\": 1, \"106\": 1, \"114\": 4, \"128\": 2, \"71\": 1, \"105\": 5, \"12\": 1, \"38\": 1, \"32\": 1, \"107\": 1}, \"8\": {\"8\": 117, \"30\": 2, \"15\": 4, \"0\": 1}, \"65\": {\"117\": 1, \"65\": 8, \"98\": 3}, \"117\": {\"117\": 110, \"126\": 1, \"27\": 1}, \"18\": {\"18\": 120, \"113\": 2, \"69\": 2}, \"39\": {\"39\": 105, \"43\": 2, \"113\": 1}, \"102\": {\"102\": 124}, \"76\": {\"102\": 1, \"57\": 1, \"76\": 10, \"28\": 1, \"33\": 1, \"32\": 1, \"98\": 1}, \"101\": {\"101\": 40, \"7\": 6, \"12\": 2, \"43\": 1, \"51\": 2, \"10\": 1}, \"57\": {\"65\": 1, \"57\": 10, \"46\": 1, \"32\": 1, \"74\": 2, \"55\": 1, \"59\": 1, \"45\": 1, \"9\": 1, \"6\": 1}, \"86\": {\"86\": 24, \"37\": 2, \"4\": 1, \"108\": 1}, \"11\": {\"11\": 121, \"43\": 4, \"10\": 2, \"113\": 1, \"87\": 2, \"108\": 2}, \"98\": {\"98\": 122, \"34\": 2, \"107\": 1, \"32\": 2, \"33\": 1}, \"42\": {\"42\": 13, \"46\": 3, \"68\": 2, \"5\": 3, \"85\": 1, \"115\": 1, \"129\": 1, \"104\": 1, \"124\": 3}, \"47\": {\"47\": 12}, \"49\": {\"49\": 15, \"15\": 2, \"14\": 2, \"62\": 2, \"127\": 1, \"0\": 2}, \"111\": {\"111\": 125, \"124\": 5, \"90\": 1, \"41\": 1}, \"36\": {\"36\": 95, \"24\": 4, \"30\": 8, \"108\": 4, \"27\": 4, \"10\": 1}, \"124\": {\"124\": 104, \"89\": 1, \"90\": 1}, \"122\": {\"122\": 44, \"21\": 1, \"87\": 2, \"110\": 1, \"113\": 1, \"30\": 2, \"118\": 2, \"8\": 4, \"126\": 2, \"26\": 1}, \"93\": {\"93\": 138, \"16\": 3, \"23\": 1}, \"89\": {\"92\": 2, \"89\": 23, \"65\": 2, \"90\": 1}, \"51\": {\"51\": 16}, \"73\": {\"73\": 34, \"66\": 1, \"9\": 1, \"42\": 1, \"21\": 1, \"52\": 1, \"98\": 1}, \"45\": {\"45\": 12, \"29\": 2, \"129\": 2}, \"5\": {\"5\": 100, \"113\": 3, \"85\": 1, \"111\": 2, \"88\": 1, \"42\": 2, \"18\": 1, \"90\": 2}, \"69\": {\"69\": 77, \"84\": 3, \"122\": 1, \"33\": 1, \"126\": 1, \"44\": 1}, \"26\": {\"26\": 130}, \"1\": {\"1\": 92, \"71\": 3, \"105\": 4, \"40\": 4, \"33\": 2, \"39\": 1, \"127\": 2}, \"92\": {\"92\": 28, \"89\": 4}, \"96\": {\"96\": 15, \"93\": 1, \"43\": 1, \"26\": 1, \"60\": 1, \"118\": 1}, \"85\": {\"85\": 36}, \"114\": {\"114\": 119, \"85\": 1, \"40\": 3, \"105\": 1, \"1\": 2}, \"50\": {\"90\": 1, \"50\": 9, \"86\": 1, \"91\": 1, \"104\": 1, \"95\": 2, \"48\": 1}, \"81\": {\"81\": 28, \"61\": 4}, \"2\": {\"2\": 22, \"92\": 1, \"64\": 1, \"117\": 3, \"121\": 1}, \"33\": {\"33\": 141, \"69\": 2, \"3\": 2, \"18\": 1}, \"31\": {\"31\": 20}, \"90\": {\"90\": 114, \"82\": 1, \"5\": 2, \"29\": 1}, \"17\": {\"86\": 3, \"103\": 2, \"48\": 1, \"104\": 1, \"17\": 5, \"113\": 1, \"23\": 1, \"115\": 1, \"102\": 1}, \"116\": {\"116\": 25, \"22\": 1, \"119\": 2}, \"91\": {\"85\": 1, \"91\": 12, \"77\": 1, \"55\": 2, \"52\": 2, \"98\": 2, \"95\": 1, \"129\": 2, \"41\": 1}, \"120\": {\"120\": 17, \"2\": 1, \"92\": 2}, \"128\": {\"128\": 23, \"34\": 1, \"56\": 1, \"98\": 2, \"100\": 1, \"28\": 1, \"55\": 1, \"9\": 1, \"32\": 1}, \"78\": {\"11\": 1, \"78\": 10, \"88\": 1, \"39\": 2, \"113\": 2}, \"58\": {\"58\": 8, \"98\": 1, \"99\": 1, \"73\": 4, \"68\": 1, \"56\": 1}, \"23\": {\"97\": 1, \"23\": 16, \"15\": 4, \"110\": 3, \"87\": 1, \"18\": 2, \"118\": 1, \"60\": 2, \"0\": 2}, \"15\": {\"15\": 96, \"10\": 1, \"8\": 5, \"94\": 1, \"21\": 1}, \"74\": {\"74\": 11, \"56\": 2, \"50\": 1, \"114\": 2}, \"34\": {\"74\": 1, \"9\": 1, \"20\": 1, \"19\": 1, \"34\": 17, \"72\": 2, \"73\": 1, \"44\": 1, \"83\": 1, \"114\": 2, \"43\": 1, \"53\": 2, \"107\": 1}, \"103\": {\"103\": 13, \"55\": 2, \"124\": 1}, \"106\": {\"106\": 91, \"101\": 2, \"7\": 1, \"94\": 2, \"12\": 2, \"0\": 2}, \"44\": {\"44\": 70, \"120\": 1, \"90\": 1}, \"9\": {\"9\": 27, \"103\": 1, \"74\": 1, \"82\": 2, \"56\": 1}, \"97\": {\"15\": 1, \"97\": 18, \"60\": 1}, \"123\": {\"123\": 14, \"37\": 1, \"104\": 1}, \"6\": {\"6\": 30, \"82\": 1, \"111\": 1}, \"68\": {\"115\": 2, \"68\": 12, \"111\": 2}, \"24\": {\"24\": 34, \"27\": 6, \"36\": 2, \"30\": 3, \"10\": 3}, \"21\": {\"21\": 34, \"39\": 3, \"89\": 1, \"70\": 3, \"109\": 2, \"113\": 1, \"24\": 1, \"43\": 2, \"82\": 1}, \"83\": {\"83\": 14, \"70\": 1, \"34\": 3, \"72\": 1, \"127\": 2, \"47\": 2, \"109\": 1}, \"60\": {\"60\": 26, \"49\": 1, \"93\": 1}, \"87\": {\"87\": 120}, \"30\": {\"30\": 69, \"108\": 2, \"116\": 1, \"117\": 1, \"94\": 1, \"23\": 1, \"122\": 1, \"129\": 1, \"87\": 1, \"10\": 2, \"36\": 2, \"8\": 2}, \"43\": {\"87\": 1, \"43\": 52, \"109\": 1, \"21\": 2}, \"115\": {\"115\": 16}, \"40\": {\"40\": 72, \"20\": 2, \"114\": 14, \"1\": 4, \"14\": 5, \"107\": 8, \"71\": 5, \"105\": 1, \"126\": 1, \"69\": 2, \"33\": 1, \"127\": 1, \"3\": 3, \"44\": 1}, \"112\": {\"66\": 1, \"98\": 4, \"112\": 2, \"52\": 1, \"59\": 2, \"77\": 2, \"46\": 1, \"29\": 1, \"56\": 1, \"82\": 1}, \"66\": {\"98\": 2, \"19\": 2, \"66\": 7, \"85\": 2, \"95\": 1, \"52\": 2}, \"110\": {\"110\": 85, \"122\": 1, \"11\": 1, \"15\": 1, \"109\": 1, \"93\": 1, \"87\": 2}, \"3\": {\"3\": 99, \"71\": 5, \"111\": 1, \"127\": 4, \"105\": 2, \"40\": 2, \"39\": 1}, \"20\": {\"40\": 3, \"57\": 1, \"20\": 2, \"105\": 2, \"38\": 2, \"107\": 2, \"1\": 2, \"114\": 1, \"99\": 1}, \"28\": {\"28\": 11, \"128\": 2, \"50\": 1, \"98\": 2}, \"84\": {\"84\": 85, \"39\": 2, \"89\": 1, \"62\": 6, \"126\": 1, \"7\": 2, \"16\": 2, \"127\": 4, \"1\": 2, \"14\": 1, \"105\": 2}, \"79\": {\"66\": 1, \"79\": 10, \"80\": 1}, \"118\": {\"118\": 90, \"122\": 2, \"98\": 1, \"70\": 1, \"87\": 5, \"39\": 1}, \"56\": {\"56\": 10, \"79\": 1, \"125\": 1}, \"48\": {\"48\": 7, \"104\": 2, \"13\": 2, \"37\": 1, \"79\": 2, \"119\": 2}, \"77\": {\"77\": 16}, \"14\": {\"14\": 75, \"62\": 1, \"114\": 1, \"71\": 1, \"40\": 2}, \"64\": {\"64\": 17, \"76\": 2, \"117\": 1}, \"67\": {\"67\": 15, \"27\": 1}, \"62\": {\"62\": 116, \"84\": 5, \"93\": 2, \"16\": 1}, \"75\": {\"75\": 13, \"72\": 3}, \"63\": {\"63\": 13, \"81\": 1, \"83\": 1, \"64\": 1}, \"7\": {\"7\": 104, \"84\": 1, \"101\": 1, \"16\": 2, \"12\": 3, \"127\": 1}, \"125\": {\"125\": 100, \"33\": 1, \"111\": 1, \"82\": 1, \"85\": 1}, \"37\": {\"37\": 14, \"6\": 1, \"129\": 1}, \"121\": {\"120\": 2, \"121\": 27, \"35\": 1, \"5\": 1, \"81\": 1}, \"16\": {\"16\": 96, \"93\": 4, \"87\": 1, \"113\": 1, \"94\": 1, \"26\": 1}, \"35\": {\"35\": 11, \"84\": 1}, \"32\": {\"32\": 24, \"44\": 1, \"19\": 3, \"38\": 1, \"46\": 1, \"76\": 1, \"128\": 1}, \"46\": {\"32\": 1, \"46\": 12, \"103\": 1, \"9\": 2}, \"70\": {\"70\": 58, \"88\": 5, \"10\": 1, \"39\": 1, \"11\": 4, \"113\": 1, \"109\": 1, \"21\": 1}, \"129\": {\"57\": 1, \"129\": 30, \"5\": 1}, \"95\": {\"95\": 25, \"70\": 1, \"9\": 3, \"114\": 2, \"128\": 1}, \"72\": {\"72\": 23, \"99\": 1, \"83\": 1, \"47\": 1, \"127\": 1, \"106\": 1}, \"19\": {\"28\": 1, \"98\": 3, \"52\": 1, \"100\": 1, \"19\": 19, \"34\": 2, \"76\": 1, \"95\": 2, \"32\": 2}, \"52\": {\"19\": 2, \"52\": 9, \"91\": 1, \"95\": 1, \"34\": 1, \"85\": 2}, \"100\": {\"100\": 11, \"44\": 1, \"27\": 1, \"57\": 3}, \"104\": {\"48\": 1, \"17\": 1, \"104\": 12, \"115\": 1, \"68\": 1}, \"59\": {\"59\": 12}, \"109\": {\"109\": 119, \"96\": 1, \"11\": 1, \"10\": 2, \"39\": 1, \"43\": 1, \"113\": 1}, \"88\": {\"88\": 104, \"78\": 1, \"11\": 2, \"109\": 1}, \"27\": {\"27\": 67, \"87\": 2, \"108\": 2, \"24\": 2, \"10\": 4, \"30\": 1, \"21\": 1, \"36\": 11, \"26\": 1, \"118\": 1, \"43\": 1, \"126\": 1}, \"113\": {\"113\": 116, \"122\": 2, \"109\": 1, \"82\": 1}, \"105\": {\"105\": 99, \"71\": 3, \"114\": 7, \"127\": 1, \"3\": 8, \"40\": 4, \"1\": 1, \"107\": 1}, \"71\": {\"71\": 53, \"33\": 1, \"34\": 1, \"7\": 1, \"14\": 1, \"3\": 3, \"105\": 2, \"40\": 1, \"69\": 2, \"1\": 1, \"102\": 1, \"127\": 1}, \"108\": {\"108\": 100, \"24\": 2, \"0\": 1, \"10\": 10, \"11\": 5, \"109\": 2, \"87\": 2, \"27\": 2}, \"41\": {\"41\": 15, \"98\": 1}, \"80\": {\"80\": 14, \"29\": 1, \"79\": 1}, \"13\": {\"80\": 3, \"13\": 10, \"86\": 1, \"119\": 2}, \"55\": {\"55\": 14, \"103\": 1, \"95\": 1}, \"0\": {\"0\": 98, \"39\": 1, \"12\": 2, \"98\": 1, \"8\": 1, \"15\": 2, \"90\": 1}, \"25\": {\"25\": 13, \"54\": 2, \"52\": 1}, \"53\": {\"53\": 17, \"44\": 1, \"114\": 2}, \"61\": {\"61\": 16}, \"38\": {\"38\": 16}, \"127\": {\"127\": 115, \"113\": 1, \"126\": 3, \"3\": 6, \"49\": 1, \"1\": 2}, \"4\": {\"4\": 91, \"125\": 2, \"113\": 1, \"102\": 1, \"27\": 1}, \"12\": {\"12\": 95, \"106\": 3, \"62\": 2, \"101\": 1, \"7\": 3}, \"126\": {\"126\": 123, \"88\": 1}, \"29\": {\"29\": 32}, \"107\": {\"107\": 123, \"53\": 1, \"44\": 4, \"32\": 1, \"114\": 5, \"40\": 1, \"20\": 1}, \"82\": {\"29\": 1, \"82\": 25, \"90\": 2}, \"94\": {\"94\": 73, \"15\": 4, \"0\": 6, \"39\": 1}, \"54\": {\"25\": 2, \"54\": 13, \"124\": 1}, \"10\": {\"11\": 2, \"10\": 109, \"108\": 12, \"26\": 1, \"27\": 4}, \"22\": {\"42\": 1, \"22\": 6, \"5\": 1, \"41\": 1, \"86\": 3, \"119\": 2, \"48\": 2}, \"119\": {\"119\": 10, \"102\": 2, \"116\": 3, \"89\": 1}}, \"Wisig_2\": {\"73\": {\"73\": 16, \"107\": 1, \"55\": 2, \"100\": 1, \"31\": 1, \"123\": 2, \"42\": 1, \"19\": 1, \"67\": 1, \"66\": 2}, \"40\": {\"40\": 59, \"44\": 1, \"74\": 2, \"49\": 1, \"71\": 4, \"27\": 1, \"3\": 14, \"7\": 2, \"114\": 10, \"84\": 7, \"33\": 15, \"62\": 1, \"88\": 1, \"1\": 4, \"100\": 1, \"95\": 2, \"105\": 1, \"70\": 1, \"24\": 1, \"122\": 1, \"69\": 2, \"108\": 1}, \"99\": {\"99\": 22, \"18\": 2, \"81\": 1, \"83\": 2, \"57\": 2, \"72\": 1, \"27\": 1, \"69\": 1}, \"5\": {\"5\": 97, \"91\": 1, \"129\": 1, \"124\": 7, \"24\": 1, \"8\": 1, \"39\": 1, \"88\": 1, \"42\": 1, \"70\": 1}, \"108\": {\"108\": 130, \"43\": 2}, \"128\": {\"107\": 1, \"128\": 13, \"64\": 2, \"95\": 2, \"34\": 2, \"100\": 2, \"21\": 1, \"9\": 1}, \"89\": {\"89\": 30, \"82\": 3, \"90\": 2, \"20\": 1}, \"107\": {\"44\": 1, \"108\": 2, \"95\": 2, \"107\": 35, \"56\": 1, \"76\": 1, \"122\": 1, \"32\": 7, \"21\": 2, \"126\": 2, \"92\": 2, \"61\": 1, \"114\": 3, \"15\": 1, \"71\": 1, \"70\": 2}, \"2\": {\"2\": 30, \"117\": 1, \"129\": 1}, \"78\": {\"78\": 41, \"21\": 2, \"88\": 4, \"24\": 1}, \"85\": {\"85\": 25, \"29\": 2, \"64\": 1, \"66\": 1, \"56\": 1, \"112\": 1, \"50\": 1}, \"44\": {\"44\": 94, \"19\": 2, \"107\": 3, \"114\": 1}, \"58\": {\"58\": 17, \"109\": 1, \"51\": 1, \"75\": 1}, \"57\": {\"57\": 13, \"55\": 1, \"24\": 1, \"82\": 2, \"92\": 1, \"88\": 1, \"90\": 1}, \"41\": {\"41\": 13, \"59\": 1, \"68\": 1, \"43\": 1, \"5\": 1, \"91\": 1, \"22\": 1, \"104\": 1}, \"53\": {\"53\": 10, \"44\": 2, \"56\": 2, \"35\": 1, \"91\": 1}, \"14\": {\"47\": 1, \"95\": 1, \"14\": 23, \"24\": 2, \"10\": 2, \"71\": 4, \"3\": 3, \"62\": 2, \"126\": 2, \"40\": 2, \"114\": 1, \"43\": 1, \"69\": 1, \"21\": 1, \"33\": 2}, \"83\": {\"83\": 31, \"29\": 1, \"64\": 2, \"44\": 1, \"61\": 3, \"89\": 1, \"124\": 1}, \"119\": {\"85\": 1, \"119\": 9, \"17\": 2, \"63\": 2, \"46\": 1, \"5\": 1, \"42\": 2, \"90\": 1, \"129\": 1}, \"95\": {\"47\": 1, \"95\": 16, \"35\": 1, \"62\": 2, \"127\": 6, \"71\": 2, \"56\": 1, \"61\": 1, \"49\": 1, \"114\": 3, \"24\": 1, \"40\": 1}, \"28\": {\"28\": 18, \"85\": 1, \"124\": 1}, \"19\": {\"19\": 20, \"28\": 1, \"54\": 1, \"98\": 1, \"66\": 1, \"64\": 1, \"53\": 1, \"83\": 2}, \"69\": {\"69\": 121, \"105\": 2, \"126\": 1, \"122\": 1, \"108\": 3, \"20\": 1, \"26\": 1, \"87\": 1, \"39\": 1}, \"93\": {\"93\": 112, \"113\": 1, \"60\": 2, \"18\": 2, \"16\": 14, \"105\": 2, \"102\": 1}, \"9\": {\"9\": 32}, \"118\": {\"118\": 60, \"122\": 4, \"8\": 2, \"111\": 1, \"109\": 1}, \"43\": {\"43\": 101, \"87\": 7, \"70\": 1, \"126\": 1, \"108\": 4, \"24\": 1, \"30\": 1}, \"47\": {\"47\": 7, \"85\": 1, \"32\": 2, \"40\": 2}, \"125\": {\"125\": 143, \"102\": 1}, \"29\": {\"29\": 31, \"68\": 1}, \"122\": {\"122\": 112, \"36\": 2, \"11\": 8, \"40\": 1, \"43\": 2, \"8\": 7, \"108\": 2, \"39\": 2, \"70\": 1, \"10\": 1, \"109\": 1, \"30\": 1}, \"46\": {\"55\": 2, \"64\": 1, \"46\": 9, \"38\": 2, \"82\": 1, \"67\": 1}, \"86\": {\"86\": 32}, \"70\": {\"70\": 93, \"24\": 3, \"88\": 7, \"78\": 1, \"109\": 6, \"87\": 2, \"126\": 7, \"122\": 1, \"39\": 3, \"21\": 1}, \"51\": {\"51\": 12, \"67\": 1, \"49\": 1, \"6\": 1, \"25\": 1, \"1\": 1, \"58\": 2, \"5\": 1}, \"23\": {\"122\": 1, \"23\": 12, \"8\": 1, \"94\": 4, \"118\": 1, \"30\": 4, \"69\": 1, \"110\": 4, \"105\": 2, \"60\": 2, \"97\": 2, \"87\": 1, \"12\": 1, \"7\": 1, \"26\": 2, \"0\": 1, \"93\": 2, \"16\": 1, \"72\": 1}, \"121\": {\"121\": 32, \"57\": 1, \"117\": 2, \"81\": 1}, \"63\": {\"21\": 1, \"63\": 15, \"46\": 2, \"119\": 1, \"39\": 1}, \"102\": {\"102\": 121, \"39\": 1}, \"21\": {\"21\": 47, \"88\": 1}, \"55\": {\"19\": 2, \"55\": 12, \"98\": 1, \"128\": 1}, \"54\": {\"54\": 16, \"107\": 2, \"34\": 2}, \"6\": {\"6\": 30, \"111\": 2}, \"109\": {\"109\": 70, \"24\": 2, \"88\": 11, \"78\": 4, \"126\": 4, \"70\": 5, \"90\": 1, \"39\": 3}, \"64\": {\"109\": 1, \"46\": 1, \"92\": 2, \"64\": 8, \"28\": 2, \"61\": 2}, \"20\": {\"20\": 16}, \"98\": {\"54\": 2, \"98\": 104, \"121\": 1, \"66\": 2, \"42\": 2, \"55\": 1, \"45\": 1, \"108\": 1}, \"92\": {\"92\": 15, \"55\": 1, \"47\": 1, \"114\": 1, \"107\": 1, \"28\": 2, \"49\": 1, \"82\": 1, \"90\": 1, \"83\": 1, \"57\": 1, \"129\": 1, \"66\": 1}, \"35\": {\"35\": 12}, \"113\": {\"113\": 68, \"24\": 3, \"21\": 1}, \"71\": {\"95\": 2, \"71\": 81, \"127\": 4, \"49\": 1, \"84\": 3, \"122\": 1, \"8\": 1, \"109\": 1, \"3\": 1, \"114\": 2, \"1\": 2, \"27\": 1}, \"94\": {\"94\": 41, \"87\": 2, \"30\": 2, \"78\": 1, \"26\": 1, \"113\": 1, \"8\": 6, \"0\": 1, \"39\": 1, \"126\": 1, \"88\": 1, \"11\": 1, \"74\": 1, \"24\": 1, \"110\": 2, \"106\": 1}, \"52\": {\"52\": 13, \"91\": 2, \"58\": 1, \"103\": 1, \"34\": 1, \"70\": 1, \"19\": 1}, \"116\": {\"116\": 26, \"57\": 1, \"119\": 1}, \"87\": {\"87\": 70, \"10\": 8, \"113\": 1, \"43\": 12, \"108\": 12, \"88\": 2, \"24\": 2, \"126\": 3, \"70\": 1, \"122\": 1}, \"90\": {\"92\": 2, \"90\": 145, \"5\": 1}, \"91\": {\"52\": 1, \"91\": 9, \"59\": 2, \"29\": 3, \"68\": 1, \"5\": 1, \"41\": 2, \"98\": 1, \"77\": 1, \"111\": 1, \"85\": 1, \"129\": 1, \"66\": 2, \"25\": 2}, \"84\": {\"84\": 83, \"62\": 4, \"109\": 3, \"1\": 1, \"113\": 1}, \"24\": {\"24\": 75, \"70\": 13, \"109\": 5, \"126\": 14, \"21\": 1, \"88\": 4}, \"33\": {\"33\": 123, \"87\": 1, \"62\": 2, \"88\": 1, \"1\": 2, \"84\": 4, \"108\": 1}, \"81\": {\"81\": 19, \"72\": 1, \"83\": 1, \"5\": 1, \"100\": 2}, \"115\": {\"115\": 8, \"67\": 1, \"129\": 1, \"125\": 2}, \"77\": {\"77\": 12, \"52\": 1, \"98\": 2, \"29\": 1}, \"106\": {\"106\": 102, \"12\": 4, \"21\": 1, \"24\": 2, \"101\": 5, \"102\": 1, \"15\": 2, \"0\": 1, \"62\": 1, \"40\": 1}, \"42\": {\"41\": 1, \"42\": 7, \"17\": 2, \"91\": 2, \"103\": 1, \"77\": 2, \"85\": 1, \"70\": 1, \"24\": 1, \"116\": 1, \"88\": 1, \"59\": 1, \"22\": 2, \"124\": 3, \"87\": 1, \"5\": 1}, \"38\": {\"38\": 12, \"116\": 1, \"123\": 1, \"129\": 1, \"89\": 1}, \"36\": {\"36\": 96, \"78\": 1, \"27\": 5, \"39\": 2, \"126\": 1, \"15\": 3, \"113\": 1, \"30\": 2, \"87\": 1, \"8\": 1, \"88\": 1}, \"79\": {\"79\": 15, \"4\": 1}, \"60\": {\"93\": 1, \"60\": 20, \"29\": 1, \"16\": 2, \"110\": 2, \"96\": 1, \"62\": 1}, \"80\": {\"80\": 13, \"114\": 1, \"41\": 2}, \"32\": {\"32\": 34, \"114\": 1, \"56\": 1}, \"0\": {\"0\": 99, \"12\": 1, \"24\": 1, \"122\": 2, \"8\": 1, \"36\": 2, \"110\": 2, \"15\": 4, \"106\": 4}, \"127\": {\"127\": 117, \"101\": 2, \"70\": 1, \"107\": 2, \"106\": 1, \"71\": 1}, \"114\": {\"114\": 112, \"90\": 1, \"71\": 2, \"40\": 1}, \"62\": {\"62\": 124, \"21\": 1, \"84\": 10, \"87\": 1, \"105\": 2, \"40\": 2}, \"129\": {\"129\": 30, \"85\": 1, \"37\": 1}, \"56\": {\"56\": 12}, \"76\": {\"53\": 1, \"95\": 1, \"76\": 12, \"92\": 2}, \"72\": {\"72\": 22, \"33\": 2, \"69\": 1, \"21\": 1, \"71\": 1, \"29\": 1}, \"88\": {\"88\": 109, \"39\": 4, \"11\": 1, \"109\": 5, \"126\": 2, \"78\": 2, \"70\": 1}, \"68\": {\"68\": 9, \"66\": 2, \"21\": 1, \"29\": 3, \"39\": 1}, \"67\": {\"67\": 4, \"38\": 1, \"73\": 1, \"78\": 1, \"123\": 1, \"21\": 1, \"90\": 1, \"80\": 2, \"5\": 2, \"108\": 1, \"48\": 1}, \"100\": {\"38\": 1, \"100\": 11, \"64\": 1, \"40\": 1, \"89\": 1, \"19\": 1}, \"34\": {\"34\": 23, \"100\": 1, \"107\": 1, \"21\": 1, \"32\": 1, \"49\": 1, \"24\": 1, \"71\": 1, \"53\": 1, \"44\": 1}, \"16\": {\"16\": 108, \"93\": 10, \"105\": 3, \"23\": 2, \"24\": 1}, \"126\": {\"126\": 115, \"10\": 4, \"70\": 1}, \"4\": {\"4\": 85, \"120\": 1, \"88\": 1, \"24\": 1}, \"101\": {\"101\": 145, \"127\": 1}, \"104\": {\"104\": 12, \"112\": 1, \"116\": 1, \"5\": 2, \"124\": 2, \"86\": 1, \"24\": 1}, \"30\": {\"78\": 1, \"30\": 90, \"125\": 1, \"8\": 3, \"36\": 2, \"122\": 7, \"11\": 1, \"15\": 3, \"24\": 1, \"108\": 1}, \"8\": {\"8\": 112, \"94\": 2, \"122\": 5, \"10\": 2, \"43\": 2, \"87\": 2, \"113\": 1, \"30\": 1, \"16\": 1}, \"82\": {\"82\": 23, \"45\": 1, \"16\": 1, \"19\": 2, \"89\": 1, \"90\": 2, \"92\": 2, \"98\": 1, \"44\": 1, \"5\": 1, \"70\": 1}, \"26\": {\"26\": 121, \"126\": 1, \"87\": 2, \"113\": 2, \"69\": 1, \"18\": 5, \"24\": 1, \"39\": 1, \"108\": 2, \"109\": 1, \"88\": 1}, \"96\": {\"96\": 13, \"93\": 4, \"7\": 1, \"16\": 1, \"62\": 1}, \"3\": {\"3\": 110, \"7\": 3, \"71\": 5, \"62\": 7, \"1\": 1, \"33\": 1, \"84\": 2, \"40\": 1, \"111\": 2, \"14\": 1, \"109\": 1, \"12\": 1, \"88\": 1}, \"25\": {\"25\": 9, \"21\": 1, \"19\": 1, \"78\": 1, \"103\": 1, \"59\": 1, \"91\": 2}, \"13\": {\"13\": 8, \"33\": 1, \"43\": 1, \"22\": 1, \"124\": 1, \"5\": 1, \"70\": 1, \"48\": 2}, \"37\": {\"129\": 2, \"17\": 2, \"37\": 7, \"43\": 1, \"67\": 2, \"42\": 2}, \"49\": {\"47\": 1, \"95\": 3, \"87\": 2, \"127\": 3, \"49\": 8, \"107\": 1, \"92\": 1, \"44\": 2, \"75\": 1, \"74\": 1, \"126\": 1}, \"111\": {\"111\": 136}, \"105\": {\"105\": 125, \"7\": 2, \"3\": 2, \"113\": 1, \"93\": 2}, \"17\": {\"37\": 4, \"22\": 1, \"27\": 1, \"87\": 1, \"17\": 4, \"129\": 2, \"111\": 2, \"70\": 1}, \"65\": {\"65\": 18, \"70\": 1, \"126\": 1}, \"123\": {\"37\": 1, \"17\": 1, \"123\": 6, \"67\": 1, \"5\": 2, \"48\": 1, \"22\": 1, \"111\": 1, \"55\": 1, \"129\": 1}, \"74\": {\"35\": 2, \"11\": 1, \"74\": 10, \"126\": 1, \"95\": 2}, \"97\": {\"97\": 11, \"15\": 1, \"66\": 1, \"7\": 2, \"119\": 1, \"8\": 2, \"12\": 1, \"90\": 1}, \"112\": {\"112\": 9, \"37\": 1, \"28\": 2, \"98\": 1, \"86\": 1, \"19\": 1, \"67\": 1}, \"120\": {\"120\": 15, \"121\": 3, \"81\": 2}, \"50\": {\"112\": 2, \"50\": 11, \"5\": 1, \"41\": 1, \"55\": 1}, \"59\": {\"59\": 9, \"24\": 1, \"67\": 2, \"86\": 2, \"42\": 2}, \"10\": {\"10\": 44, \"24\": 2, \"70\": 1, \"126\": 3, \"109\": 2, \"21\": 1, \"39\": 3, \"108\": 1, \"87\": 3}, \"45\": {\"50\": 2, \"45\": 9, \"29\": 2, \"88\": 1, \"5\": 2}, \"12\": {\"12\": 72, \"21\": 1, \"7\": 5, \"78\": 1, \"88\": 1, \"107\": 1, \"97\": 1, \"105\": 2, \"110\": 4}, \"75\": {\"51\": 2, \"98\": 1, \"75\": 9, \"70\": 1, \"9\": 1, \"101\": 1, \"112\": 1}, \"48\": {\"48\": 18, \"92\": 1, \"22\": 1}, \"61\": {\"61\": 13, \"10\": 1, \"42\": 1, \"44\": 1, \"27\": 1, \"88\": 1, \"49\": 2}, \"124\": {\"124\": 117, \"42\": 1, \"5\": 2, \"111\": 2, \"129\": 1, \"44\": 1}, \"11\": {\"108\": 4, \"122\": 11, \"11\": 53, \"88\": 1, \"39\": 1, \"8\": 9, \"10\": 1}, \"103\": {\"103\": 10, \"45\": 1, \"91\": 1, \"125\": 1, \"22\": 1, \"28\": 1, \"6\": 1}, \"7\": {\"7\": 114, \"12\": 4, \"109\": 1, \"27\": 1, \"39\": 1, \"3\": 2, \"78\": 1, \"105\": 6, \"127\": 2}, \"18\": {\"18\": 110, \"26\": 5, \"108\": 1, \"24\": 2, \"69\": 1, \"43\": 1}, \"31\": {\"31\": 16, \"107\": 4}, \"15\": {\"15\": 100, \"122\": 1, \"36\": 4, \"30\": 2, \"0\": 6, \"39\": 1, \"8\": 2, \"94\": 1, \"106\": 1}, \"1\": {\"1\": 112, \"78\": 1, \"3\": 2, \"24\": 1, \"108\": 1, \"40\": 2, \"84\": 3}, \"66\": {\"66\": 15, \"85\": 2, \"82\": 1, \"55\": 2}, \"110\": {\"110\": 29, \"70\": 2, \"65\": 1, \"109\": 1, \"7\": 2, \"26\": 1, \"3\": 1, \"27\": 1, \"62\": 1, \"113\": 1}, \"27\": {\"27\": 44, \"36\": 7, \"30\": 2, \"43\": 2, \"15\": 1, \"24\": 2, \"126\": 2, \"88\": 1, \"94\": 2, \"108\": 1, \"10\": 1, \"11\": 1, \"8\": 1, \"39\": 1}, \"22\": {\"22\": 14, \"128\": 1, \"85\": 2, \"42\": 2, \"75\": 1}, \"117\": {\"117\": 115, \"24\": 1, \"65\": 2, \"109\": 1, \"87\": 1}, \"39\": {\"39\": 91, \"88\": 4, \"109\": 3, \"70\": 3, \"26\": 1, \"10\": 1, \"43\": 1, \"21\": 1, \"126\": 2, \"90\": 1}}, \"Wisig_1\": {\"60\": {\"60\": 10, \"23\": 3, \"14\": 1, \"26\": 1, \"7\": 1}, \"59\": {\"50\": 1, \"59\": 7, \"6\": 3, \"128\": 1}, \"107\": {\"107\": 113, \"34\": 2, \"114\": 2, \"1\": 2, \"30\": 1, \"89\": 1, \"33\": 2, \"125\": 1}, \"113\": {\"113\": 123, \"11\": 1}, \"6\": {\"6\": 25, \"126\": 1, \"37\": 1, \"21\": 1, \"46\": 1, \"88\": 1, \"91\": 2}, \"24\": {\"24\": 69, \"126\": 2, \"30\": 4, \"27\": 2, \"108\": 9, \"10\": 3, \"88\": 3}, \"50\": {\"50\": 7, \"74\": 1, \"90\": 1, \"92\": 1, \"64\": 1, \"5\": 1, \"33\": 1, \"30\": 1, \"25\": 1, \"81\": 1}, \"62\": {\"62\": 111, \"69\": 3, \"7\": 1, \"26\": 2, \"14\": 2, \"70\": 1}, \"48\": {\"48\": 12}, \"104\": {\"104\": 11, \"124\": 1, \"92\": 1, \"46\": 1, \"91\": 2}, \"105\": {\"105\": 70, \"44\": 3, \"14\": 2, \"35\": 1, \"62\": 1, \"40\": 5, \"93\": 1, \"4\": 1}, \"44\": {\"44\": 66, \"1\": 1, \"105\": 3, \"9\": 1, \"114\": 2, \"72\": 1, \"14\": 1, \"40\": 1}, \"49\": {\"49\": 14, \"29\": 1, \"107\": 1, \"101\": 1, \"114\": 1, \"127\": 1, \"33\": 1}, \"55\": {\"55\": 12}, \"4\": {\"4\": 100}, \"76\": {\"76\": 15, \"34\": 1}, \"85\": {\"91\": 2, \"85\": 30}, \"89\": {\"89\": 31, \"72\": 2, \"98\": 1, \"34\": 1, \"107\": 1}, \"74\": {\"74\": 10, \"33\": 1, \"107\": 1, \"20\": 2, \"19\": 1, \"53\": 1}, \"112\": {\"112\": 8, \"28\": 2, \"68\": 1, \"6\": 1, \"111\": 1, \"37\": 2, \"100\": 1}, \"79\": {\"79\": 9, \"80\": 1, \"17\": 1, \"104\": 1}, \"0\": {\"0\": 78, \"118\": 1, \"12\": 1, \"110\": 1, \"84\": 1, \"36\": 1, \"106\": 1}, \"91\": {\"91\": 22, \"112\": 2, \"28\": 1, \"53\": 1, \"5\": 2}, \"118\": {\"118\": 81, \"69\": 2, \"33\": 1}, \"80\": {\"80\": 16}, \"64\": {\"64\": 16}, \"97\": {\"97\": 11, \"27\": 1, \"24\": 2, \"93\": 1, \"10\": 1, \"88\": 1, \"15\": 1, \"126\": 1, \"87\": 1}, \"84\": {\"84\": 112, \"7\": 12}, \"38\": {\"38\": 16}, \"30\": {\"97\": 2, \"30\": 43, \"24\": 3, \"27\": 2, \"88\": 2}, \"32\": {\"32\": 26, \"126\": 1, \"52\": 1, \"107\": 2, \"121\": 1, \"113\": 1}, \"72\": {\"72\": 23, \"31\": 1, \"40\": 4, \"9\": 2, \"44\": 1, \"127\": 1}, \"33\": {\"33\": 126, \"42\": 1, \"114\": 3, \"99\": 1, \"70\": 1}, \"34\": {\"34\": 14, \"107\": 4, \"75\": 2, \"40\": 5, \"53\": 2, \"44\": 3, \"29\": 1, \"14\": 1}, \"28\": {\"38\": 2, \"28\": 15, \"104\": 1, \"82\": 2}, \"123\": {\"123\": 15, \"83\": 1}, \"2\": {\"28\": 1, \"2\": 17, \"104\": 2, \"129\": 1, \"17\": 1, \"109\": 1, \"42\": 2, \"13\": 1, \"22\": 1, \"116\": 2, \"41\": 1, \"121\": 1, \"21\": 1}, \"70\": {\"70\": 116, \"39\": 2, \"108\": 2, \"109\": 3, \"10\": 1}, \"127\": {\"127\": 97, \"78\": 1, \"101\": 4, \"71\": 4, \"35\": 2}, \"110\": {\"110\": 117, \"15\": 2, \"36\": 2, \"39\": 1, \"113\": 1, \"0\": 3, \"109\": 1, \"11\": 1}, \"126\": {\"126\": 134, \"93\": 1, \"11\": 1}, \"13\": {\"13\": 16}, \"15\": {\"15\": 93, \"94\": 2, \"122\": 2, \"8\": 1, \"36\": 2, \"110\": 2, \"93\": 2}, \"29\": {\"49\": 1, \"29\": 26, \"47\": 1}, \"18\": {\"18\": 118, \"109\": 1, \"62\": 1}, \"7\": {\"7\": 139, \"84\": 3}, \"56\": {\"56\": 11, \"98\": 1}, \"98\": {\"98\": 103, \"111\": 2, \"92\": 1, \"5\": 1, \"85\": 1}, \"99\": {\"99\": 19, \"128\": 2, \"81\": 2, \"3\": 1}, \"77\": {\"77\": 11, \"85\": 2, \"114\": 1, \"104\": 2}, \"103\": {\"15\": 1, \"103\": 12, \"53\": 1, \"94\": 1, \"77\": 1}, \"128\": {\"128\": 14, \"99\": 1, \"103\": 1, \"50\": 1, \"53\": 1, \"82\": 3, \"107\": 1, \"89\": 1, \"120\": 1}, \"3\": {\"3\": 74, \"14\": 8, \"88\": 1, \"127\": 1, \"1\": 2, \"98\": 1, \"36\": 1}, \"121\": {\"121\": 32}, \"42\": {\"120\": 1, \"42\": 15, \"98\": 2, \"22\": 1, \"25\": 1, \"61\": 2, \"119\": 2, \"41\": 1, \"82\": 1, \"129\": 2}, \"90\": {\"90\": 120}, \"37\": {\"37\": 14, \"112\": 2}, \"120\": {\"3\": 1, \"120\": 15, \"82\": 2, \"21\": 1, \"26\": 1}, \"117\": {\"117\": 118}, \"9\": {\"9\": 27, \"72\": 1, \"34\": 1, \"47\": 2, \"31\": 1}, \"108\": {\"108\": 107, \"10\": 8, \"93\": 2, \"88\": 2, \"109\": 1, \"15\": 1, \"24\": 2, \"87\": 1}, \"83\": {\"28\": 2, \"33\": 1, \"83\": 16, \"61\": 2, \"20\": 1, \"19\": 1, \"92\": 1, \"89\": 2, \"85\": 2}, \"14\": {\"14\": 70, \"8\": 1, \"44\": 2, \"40\": 9, \"105\": 5, \"62\": 3, \"1\": 3, \"72\": 2, \"3\": 1}, \"63\": {\"63\": 12, \"66\": 1, \"13\": 2, \"116\": 1}, \"11\": {\"11\": 109, \"39\": 1, \"87\": 1, \"43\": 4, \"126\": 2, \"108\": 1}, \"95\": {\"95\": 33, \"33\": 2, \"90\": 1}, \"26\": {\"26\": 122, \"88\": 1, \"18\": 2, \"93\": 1, \"16\": 2, \"69\": 2}, \"22\": {\"22\": 11, \"67\": 1, \"5\": 1, \"80\": 1, \"124\": 2}, \"102\": {\"102\": 114, \"129\": 2, \"117\": 4}, \"69\": {\"69\": 92, \"39\": 5, \"70\": 1, \"109\": 2, \"7\": 2, \"62\": 2, \"18\": 2}, \"1\": {\"1\": 126, \"114\": 1, \"3\": 2, \"14\": 1}, \"67\": {\"102\": 1, \"67\": 15}, \"57\": {\"57\": 12}, \"8\": {\"8\": 127, \"10\": 1, \"93\": 2, \"43\": 2, \"87\": 1, \"122\": 1}, \"109\": {\"109\": 116, \"39\": 1, \"70\": 6, \"10\": 1}, \"129\": {\"129\": 15, \"64\": 1, \"45\": 2, \"116\": 4, \"65\": 2, \"66\": 2, \"83\": 1, \"2\": 1}, \"111\": {\"111\": 114, \"98\": 2, \"68\": 2, \"124\": 2}, \"71\": {\"71\": 85, \"109\": 1, \"12\": 3, \"106\": 2, \"127\": 5, \"114\": 3, \"84\": 2, \"101\": 4, \"39\": 1, \"113\": 1, \"10\": 1}, \"47\": {\"19\": 1, \"53\": 1, \"47\": 3, \"75\": 2, \"56\": 2, \"9\": 1, \"49\": 2}, \"82\": {\"82\": 29, \"28\": 1, \"100\": 1, \"32\": 1, \"50\": 1, \"67\": 1, \"38\": 2}, \"27\": {\"27\": 82, \"30\": 3, \"126\": 1, \"24\": 2, \"15\": 1, \"94\": 1, \"93\": 2}, \"19\": {\"53\": 1, \"100\": 1, \"19\": 14, \"73\": 1, \"77\": 2, \"9\": 1, \"89\": 1, \"74\": 1, \"82\": 1, \"38\": 1, \"81\": 2, \"98\": 1, \"107\": 1}, \"122\": {\"87\": 6, \"122\": 76, \"39\": 1, \"7\": 1, \"43\": 4}, \"53\": {\"53\": 20}, \"87\": {\"122\": 5, \"87\": 86, \"70\": 1, \"8\": 8, \"43\": 7, \"52\": 1}, \"100\": {\"82\": 2, \"74\": 1, \"100\": 7, \"1\": 1, \"50\": 1, \"19\": 1, \"33\": 1, \"114\": 1, \"25\": 1}, \"66\": {\"66\": 16}, \"31\": {\"31\": 6, \"19\": 1, \"72\": 2, \"49\": 2, \"40\": 2, \"7\": 1, \"44\": 2}, \"58\": {\"58\": 11, \"92\": 1}, \"68\": {\"68\": 16}, \"88\": {\"97\": 2, \"88\": 83, \"108\": 10, \"24\": 4, \"126\": 2, \"10\": 5, \"33\": 1, \"93\": 1, \"11\": 3, \"30\": 2, \"27\": 1}, \"45\": {\"45\": 7, \"129\": 1, \"2\": 2, \"109\": 1, \"55\": 1}, \"114\": {\"114\": 123, \"83\": 1, \"105\": 2, \"33\": 2}, \"23\": {\"122\": 1, \"23\": 9, \"94\": 1, \"84\": 1, \"14\": 1, \"62\": 1, \"97\": 1, \"110\": 1, \"0\": 2, \"69\": 2, \"7\": 2, \"11\": 2}, \"65\": {\"58\": 1, \"65\": 3, \"129\": 3, \"83\": 1, \"77\": 1, \"5\": 2, \"70\": 1}, \"124\": {\"124\": 118}, \"10\": {\"10\": 95, \"109\": 6, \"5\": 1, \"70\": 3, \"108\": 7, \"126\": 3, \"39\": 4, \"24\": 1}, \"92\": {\"92\": 28}, \"40\": {\"40\": 83, \"20\": 3, \"35\": 1, \"34\": 1, \"14\": 15, \"72\": 2, \"1\": 13, \"44\": 4, \"114\": 7, \"105\": 6, \"107\": 1, \"10\": 1, \"9\": 1, \"39\": 1, \"84\": 1, \"127\": 1, \"3\": 1, \"62\": 2}, \"73\": {\"73\": 15, \"24\": 1, \"74\": 1, \"9\": 1, \"30\": 1, \"81\": 1}, \"94\": {\"94\": 76, \"36\": 5, \"27\": 2, \"15\": 7, \"30\": 1, \"118\": 1}, \"81\": {\"81\": 20, \"60\": 1, \"3\": 1, \"114\": 2, \"107\": 2, \"89\": 2}, \"101\": {\"101\": 107, \"98\": 1, \"127\": 1, \"33\": 1}, \"86\": {\"86\": 27, \"21\": 1, \"41\": 1, \"115\": 1, \"125\": 2, \"124\": 2, \"106\": 1, \"15\": 1}, \"78\": {\"78\": 8, \"108\": 2, \"39\": 2, \"109\": 4}, \"96\": {\"96\": 13, \"60\": 1, \"106\": 2, \"118\": 2, \"116\": 1, \"87\": 1}, \"5\": {\"5\": 72, \"124\": 6, \"111\": 2, \"108\": 1, \"109\": 1, \"24\": 1, \"104\": 1, \"129\": 1, \"22\": 1, \"28\": 1, \"10\": 1}, \"16\": {\"16\": 94, \"26\": 4, \"10\": 1, \"69\": 2, \"18\": 4, \"21\": 1, \"39\": 1, \"109\": 1}, \"35\": {\"35\": 12}, \"51\": {\"51\": 14, \"98\": 1, \"52\": 1}, \"46\": {\"46\": 9, \"6\": 1, \"124\": 1, \"129\": 1}, \"20\": {\"20\": 16}, \"116\": {\"116\": 25, \"119\": 1, \"102\": 4, \"61\": 1, \"109\": 1}, \"75\": {\"51\": 2, \"75\": 5, \"56\": 2, \"40\": 2, \"91\": 1, \"103\": 1, \"34\": 1, \"107\": 2}, \"43\": {\"43\": 112, \"93\": 6, \"87\": 3, \"8\": 3, \"39\": 1, \"109\": 1, \"122\": 2}, \"17\": {\"111\": 2, \"17\": 7, \"124\": 4, \"4\": 1, \"37\": 1, \"68\": 1}, \"12\": {\"12\": 100, \"106\": 1, \"108\": 1, \"101\": 2}, \"25\": {\"25\": 7, \"83\": 1, \"42\": 1, \"40\": 2, \"120\": 1, \"2\": 1, \"54\": 1, \"99\": 1, \"50\": 1}, \"54\": {\"120\": 2, \"83\": 2, \"54\": 9, \"89\": 1, \"11\": 1, \"38\": 1}, \"36\": {\"36\": 104, \"39\": 1, \"113\": 1, \"94\": 5, \"10\": 1}, \"52\": {\"52\": 19, \"77\": 1}, \"61\": {\"61\": 12}, \"106\": {\"106\": 118, \"12\": 2}, \"39\": {\"39\": 97, \"10\": 1, \"108\": 2, \"43\": 2, \"11\": 2}, \"119\": {\"119\": 14, \"102\": 1, \"80\": 1}, \"125\": {\"125\": 148}, \"93\": {\"93\": 144, \"11\": 1, \"43\": 1, \"87\": 1, \"8\": 1}, \"115\": {\"115\": 12}, \"21\": {\"21\": 28, \"118\": 2, \"70\": 4, \"39\": 1, \"94\": 1, \"90\": 1, \"108\": 2, \"109\": 1}, \"41\": {\"86\": 1, \"41\": 13, \"64\": 2}}, \"Wisig_4\": {\"55\": {\"55\": 10, \"120\": 2, \"103\": 2, \"95\": 1, \"73\": 1}, \"9\": {\"9\": 18, \"34\": 3, \"127\": 1, \"51\": 2, \"53\": 2, \"33\": 1, \"71\": 1}, \"70\": {\"70\": 105, \"108\": 7, \"10\": 2, \"39\": 1, \"24\": 1, \"27\": 1, \"109\": 3, \"88\": 2}, \"112\": {\"55\": 1, \"112\": 8, \"52\": 1, \"29\": 1, \"129\": 1, \"73\": 1, \"98\": 1, \"32\": 2}, \"115\": {\"116\": 5, \"10\": 1, \"37\": 1, \"115\": 6, \"48\": 1, \"80\": 1, \"18\": 1}, \"56\": {\"56\": 8, \"28\": 1, \"128\": 1, \"82\": 1, \"17\": 1}, \"108\": {\"10\": 3, \"108\": 70, \"12\": 1, \"109\": 6, \"43\": 2, \"3\": 1, \"70\": 3, \"102\": 1, \"39\": 1, \"88\": 2, \"101\": 1, \"98\": 1}, \"117\": {\"117\": 120, \"124\": 1, \"104\": 1, \"63\": 1, \"67\": 1}, \"111\": {\"55\": 2, \"111\": 120, \"119\": 2, \"82\": 1, \"88\": 1, \"124\": 4, \"108\": 1, \"113\": 1}, \"71\": {\"71\": 85, \"96\": 1, \"69\": 2, \"3\": 4, \"99\": 1, \"105\": 1, \"15\": 1, \"1\": 1, \"127\": 2, \"12\": 1, \"36\": 1, \"113\": 1, \"10\": 1, \"126\": 2}, \"59\": {\"59\": 12}, \"10\": {\"10\": 96, \"24\": 10, \"27\": 1, \"0\": 1, \"70\": 6, \"87\": 2, \"36\": 2, \"109\": 1, \"88\": 4, \"126\": 1}, \"83\": {\"83\": 13, \"52\": 3, \"71\": 2, \"34\": 2, \"107\": 1, \"40\": 1, \"128\": 2, \"46\": 1, \"114\": 1, \"33\": 2}, \"116\": {\"116\": 24, \"48\": 1, \"102\": 3}, \"13\": {\"13\": 11, \"116\": 1, \"80\": 1, \"119\": 1, \"129\": 1, \"55\": 1}, \"4\": {\"115\": 2, \"4\": 99, \"125\": 2, \"126\": 1}, \"125\": {\"125\": 103, \"117\": 1, \"4\": 1, \"90\": 1}, \"102\": {\"102\": 120, \"70\": 1, \"124\": 2, \"108\": 1}, \"47\": {\"47\": 12}, \"28\": {\"28\": 15, \"79\": 2, \"56\": 1, \"64\": 1, \"41\": 1}, \"82\": {\"82\": 21, \"46\": 1, \"42\": 2, \"33\": 1, \"4\": 1, \"45\": 1, \"120\": 1, \"38\": 2, \"64\": 2}, \"60\": {\"60\": 30, \"62\": 1, \"7\": 1}, \"107\": {\"107\": 126, \"90\": 1, \"33\": 3, \"114\": 2, \"5\": 2}, \"75\": {\"47\": 2, \"128\": 1, \"85\": 1, \"75\": 11, \"34\": 1}, \"31\": {\"28\": 2, \"31\": 9, \"64\": 2, \"19\": 1, \"57\": 1, \"33\": 1}, \"92\": {\"92\": 26, \"19\": 1, \"5\": 1}, \"58\": {\"58\": 16}, \"113\": {\"113\": 119, \"21\": 1, \"122\": 1, \"10\": 2, \"26\": 1, \"70\": 1, \"118\": 1, \"62\": 2}, \"95\": {\"107\": 2, \"95\": 21, \"9\": 3, \"46\": 2, \"114\": 2, \"99\": 1, \"83\": 1}, \"14\": {\"14\": 102, \"126\": 1, \"40\": 2, \"109\": 2, \"7\": 2, \"3\": 2, \"44\": 1}, \"17\": {\"17\": 19, \"59\": 1}, \"104\": {\"104\": 11, \"129\": 1, \"37\": 1, \"41\": 1, \"79\": 1, \"17\": 1}, \"72\": {\"72\": 13, \"104\": 1, \"1\": 2, \"40\": 3, \"7\": 2, \"49\": 3, \"74\": 1, \"99\": 1, \"14\": 1, \"45\": 1, \"32\": 1, \"3\": 1, \"96\": 1, \"71\": 1}, \"69\": {\"69\": 109, \"88\": 1, \"44\": 2, \"105\": 4, \"33\": 2, \"21\": 1, \"39\": 1, \"14\": 3, \"109\": 1, \"1\": 1, \"3\": 3}, \"63\": {\"63\": 16}, \"12\": {\"12\": 81, \"51\": 2, \"106\": 8, \"7\": 2, \"101\": 2, \"111\": 1, \"42\": 1, \"110\": 2, \"62\": 1}, \"25\": {\"25\": 16}, \"67\": {\"63\": 1, \"104\": 1, \"112\": 1, \"67\": 4, \"48\": 1, \"42\": 2, \"92\": 2, \"123\": 2, \"124\": 1, \"2\": 1}, \"50\": {\"50\": 10, \"104\": 1, \"129\": 1, \"82\": 1, \"116\": 1, \"124\": 2}, \"43\": {\"43\": 109, \"23\": 1, \"70\": 1, \"126\": 1, \"109\": 2, \"87\": 2, \"88\": 1, \"118\": 1, \"98\": 1, \"15\": 1}, \"96\": {\"96\": 11, \"94\": 1, \"87\": 1, \"84\": 1, \"62\": 1, \"93\": 1, \"69\": 2, \"118\": 1, \"7\": 1}, \"128\": {\"128\": 14, \"31\": 1, \"46\": 2, \"64\": 1, \"100\": 2, \"5\": 1, \"52\": 1, \"74\": 1, \"83\": 1}, \"77\": {\"77\": 12}, \"54\": {\"54\": 15, \"95\": 1}, \"118\": {\"122\": 8, \"118\": 81, \"108\": 2, \"110\": 3, \"39\": 2, \"24\": 1, \"113\": 1, \"43\": 2, \"0\": 2, \"11\": 3, \"126\": 1, \"78\": 1, \"87\": 3, \"93\": 2}, \"30\": {\"30\": 56, \"93\": 1, \"8\": 4, \"27\": 2, \"15\": 5, \"36\": 4, \"94\": 1, \"0\": 2, \"39\": 1}, \"51\": {\"54\": 1, \"46\": 1, \"127\": 1, \"40\": 1, \"51\": 6, \"9\": 2, \"87\": 1, \"95\": 1, \"105\": 1, \"30\": 1}, \"122\": {\"122\": 58, \"8\": 2, \"27\": 1, \"0\": 1, \"118\": 2, \"110\": 2, \"11\": 4, \"87\": 3, \"126\": 1, \"39\": 1, \"108\": 1, \"23\": 2, \"43\": 2, \"30\": 1, \"113\": 2, \"7\": 1}, \"46\": {\"46\": 11, \"32\": 1, \"72\": 1, \"107\": 4, \"83\": 1, \"128\": 1, \"56\": 1}, \"79\": {\"79\": 16}, \"103\": {\"103\": 10, \"29\": 4, \"111\": 1, \"73\": 1}, \"74\": {\"79\": 1, \"74\": 11, \"42\": 1, \"33\": 1, \"89\": 2}, \"90\": {\"90\": 146}, \"8\": {\"8\": 128, \"43\": 1, \"60\": 1, \"24\": 1, \"0\": 4, \"15\": 3, \"90\": 1, \"87\": 2, \"10\": 1}, \"94\": {\"94\": 71, \"27\": 4, \"118\": 1, \"4\": 1, \"106\": 4, \"126\": 2, \"15\": 2, \"10\": 1, \"0\": 1, \"8\": 1}, \"7\": {\"7\": 105, \"108\": 1, \"10\": 1, \"70\": 1, \"93\": 1, \"106\": 2, \"126\": 1, \"11\": 1, \"12\": 5, \"60\": 2, \"40\": 2}, \"61\": {\"61\": 14, \"121\": 2}, \"26\": {\"26\": 118, \"18\": 1, \"126\": 1}, \"127\": {\"127\": 101, \"14\": 3, \"126\": 1, \"71\": 1, \"105\": 2}, \"23\": {\"93\": 1, \"23\": 3, \"21\": 1, \"5\": 1, \"87\": 1, \"26\": 2, \"70\": 2, \"108\": 1, \"122\": 1, \"7\": 2, \"43\": 1}, \"1\": {\"1\": 62, \"99\": 2, \"3\": 16, \"71\": 11, \"127\": 2, \"105\": 4, \"40\": 4, \"10\": 2, \"88\": 1, \"49\": 2, \"14\": 2}, \"93\": {\"93\": 125, \"11\": 5, \"118\": 2, \"62\": 2}, \"106\": {\"106\": 93, \"109\": 2, \"12\": 8, \"18\": 1, \"126\": 1, \"39\": 2, \"0\": 1, \"10\": 2, \"101\": 1, \"113\": 1, \"78\": 1, \"26\": 1, \"127\": 2}, \"110\": {\"110\": 104, \"93\": 2, \"118\": 6, \"10\": 1, \"87\": 3, \"11\": 2}, \"76\": {\"76\": 9, \"46\": 1, \"40\": 1, \"107\": 3, \"3\": 1, \"98\": 1}, \"36\": {\"36\": 106, \"24\": 3, \"30\": 5, \"27\": 4, \"10\": 1, \"109\": 1}, \"21\": {\"21\": 33, \"113\": 1, \"88\": 2, \"62\": 1, \"78\": 3}, \"37\": {\"37\": 9, \"116\": 2, \"13\": 1, \"120\": 2, \"42\": 1, \"79\": 1}, \"11\": {\"11\": 110, \"118\": 3, \"93\": 5, \"83\": 1, \"110\": 1}, \"109\": {\"109\": 107, \"70\": 4, \"126\": 1, \"113\": 1, \"108\": 3}, \"62\": {\"21\": 1, \"60\": 1, \"7\": 8, \"126\": 2, \"62\": 38, \"11\": 1, \"3\": 4, \"113\": 2, \"118\": 2, \"110\": 1}, \"89\": {\"89\": 29, \"48\": 1, \"32\": 2}, \"126\": {\"126\": 119, \"10\": 1, \"43\": 1, \"24\": 1, \"39\": 1, \"109\": 1}, \"101\": {\"101\": 115, \"105\": 2, \"24\": 1, \"12\": 2, \"109\": 1, \"93\": 2, \"117\": 1, \"18\": 1, \"88\": 1, \"8\": 2}, \"65\": {\"65\": 12}, \"19\": {\"19\": 19, \"89\": 1, \"98\": 3, \"112\": 2, \"56\": 1, \"74\": 1, \"46\": 1}, \"27\": {\"27\": 92, \"109\": 1, \"10\": 2, \"70\": 2, \"43\": 1, \"24\": 2}, \"5\": {\"5\": 119, \"21\": 1, \"3\": 3, \"88\": 1, \"40\": 5, \"114\": 2, \"71\": 1, \"70\": 1, \"1\": 1, \"105\": 2}, \"73\": {\"82\": 2, \"92\": 2, \"64\": 2, \"73\": 11, \"85\": 1, \"79\": 1, \"9\": 1, \"31\": 2, \"89\": 2}, \"6\": {\"6\": 22, \"56\": 1, \"59\": 1}, \"29\": {\"29\": 32}, \"114\": {\"114\": 122, \"40\": 1, \"5\": 2, \"27\": 1, \"69\": 2}, \"49\": {\"49\": 12, \"114\": 1, \"105\": 1, \"127\": 3, \"72\": 2, \"5\": 2, \"12\": 5, \"53\": 1, \"106\": 1, \"1\": 2, \"71\": 2}, \"16\": {\"16\": 113, \"113\": 1, \"10\": 1, \"84\": 2, \"126\": 1}, \"68\": {\"68\": 13, \"111\": 1, \"85\": 1, \"98\": 1}, \"98\": {\"98\": 108, \"68\": 1, \"112\": 2, \"73\": 1, \"69\": 1, \"33\": 3, \"41\": 2, \"111\": 2}, \"64\": {\"64\": 13, \"115\": 1, \"73\": 1, \"33\": 1}, \"121\": {\"121\": 25, \"11\": 1, \"61\": 2, \"18\": 1, \"81\": 2, \"38\": 1}, \"124\": {\"124\": 113, \"102\": 1}, \"97\": {\"97\": 19, \"70\": 1}, \"40\": {\"40\": 113, \"46\": 1, \"114\": 4, \"107\": 3, \"33\": 5, \"5\": 5, \"76\": 1, \"105\": 1, \"3\": 3}, \"119\": {\"119\": 14, \"6\": 2}, \"100\": {\"83\": 1, \"40\": 1, \"100\": 10, \"89\": 2, \"5\": 1, \"129\": 1, \"128\": 1, \"49\": 1, \"76\": 2}, \"87\": {\"87\": 113, \"122\": 3}, \"88\": {\"88\": 106, \"26\": 2, \"108\": 7, \"78\": 1, \"109\": 1, \"126\": 1, \"24\": 2, \"70\": 6, \"21\": 1, \"113\": 1}, \"52\": {\"52\": 14, \"78\": 1, \"85\": 1, \"51\": 1, \"1\": 1, \"104\": 1, \"43\": 1}, \"80\": {\"80\": 15, \"6\": 1}, \"105\": {\"105\": 80, \"5\": 2, \"20\": 1, \"86\": 1, \"3\": 4, \"39\": 1, \"14\": 3, \"40\": 1, \"71\": 2, \"99\": 1, \"88\": 1, \"109\": 1, \"24\": 1, \"126\": 1}, \"32\": {\"74\": 3, \"32\": 19, \"46\": 1, \"89\": 2, \"34\": 1, \"107\": 2}, \"35\": {\"18\": 4, \"35\": 6, \"81\": 2}, \"99\": {\"99\": 20, \"72\": 2, \"8\": 2, \"5\": 2, \"114\": 3, \"14\": 4, \"49\": 1, \"40\": 4, \"3\": 1, \"7\": 1}, \"18\": {\"18\": 116, \"35\": 1, \"81\": 1, \"126\": 1, \"30\": 1}, \"24\": {\"36\": 6, \"24\": 70, \"10\": 14, \"109\": 3, \"27\": 6, \"70\": 9, \"30\": 1, \"88\": 3}, \"85\": {\"85\": 25, \"24\": 1, \"107\": 2}, \"39\": {\"39\": 86, \"126\": 4, \"26\": 1, \"70\": 2, \"108\": 2, \"10\": 1, \"109\": 4}, \"123\": {\"123\": 16}, \"91\": {\"91\": 21, \"112\": 1, \"129\": 1, \"128\": 1}, \"78\": {\"78\": 23, \"21\": 2, \"70\": 2, \"97\": 1, \"88\": 6, \"109\": 1, \"26\": 1}, \"38\": {\"38\": 15, \"40\": 1}, \"15\": {\"8\": 8, \"15\": 108, \"94\": 4, \"10\": 1, \"18\": 1, \"0\": 4, \"26\": 1, \"24\": 1}, \"48\": {\"48\": 14, \"82\": 1, \"31\": 1}, \"45\": {\"38\": 2, \"45\": 11, \"57\": 2, \"31\": 1}, \"120\": {\"103\": 2, \"120\": 13, \"41\": 4, \"37\": 1}, \"44\": {\"1\": 2, \"44\": 57, \"114\": 2, \"40\": 2, \"117\": 1}, \"86\": {\"86\": 26, \"27\": 1, \"21\": 1}, \"20\": {\"40\": 2, \"20\": 12, \"1\": 2}, \"33\": {\"33\": 141, \"90\": 1, \"98\": 1, \"40\": 2, \"5\": 2, \"36\": 1, \"71\": 1, \"126\": 1}, \"129\": {\"129\": 23, \"22\": 1, \"124\": 2, \"50\": 2}, \"34\": {\"9\": 5, \"34\": 8, \"3\": 2, \"51\": 1, \"49\": 2, \"114\": 2, \"5\": 2, \"105\": 3, \"84\": 1, \"83\": 1, \"128\": 1, \"99\": 1, \"1\": 1, \"40\": 1, \"20\": 1}, \"81\": {\"81\": 35, \"21\": 1}, \"57\": {\"50\": 2, \"57\": 9, \"10\": 1, \"90\": 2, \"70\": 1, \"76\": 1}, \"0\": {\"0\": 98, \"30\": 2, \"8\": 7, \"126\": 1, \"11\": 3, \"87\": 1, \"110\": 1, \"26\": 1, \"7\": 2}, \"2\": {\"2\": 25, \"117\": 3}, \"42\": {\"42\": 18, \"119\": 1, \"73\": 1, \"91\": 1, \"29\": 1, \"129\": 2, \"82\": 1, \"75\": 1, \"103\": 1, \"111\": 1}, \"84\": {\"69\": 11, \"84\": 108, \"113\": 2, \"121\": 1, \"30\": 2, \"16\": 3, \"40\": 1, \"14\": 3, \"117\": 1}, \"3\": {\"3\": 95, \"69\": 2, \"71\": 8, \"21\": 1, \"1\": 3, \"105\": 4, \"126\": 1, \"40\": 3, \"49\": 2, \"23\": 1, \"39\": 1, \"24\": 1, \"127\": 2, \"98\": 1, \"107\": 1}, \"41\": {\"42\": 2, \"41\": 13, \"48\": 1}, \"53\": {\"53\": 10, \"41\": 1, \"10\": 1, \"5\": 2, \"71\": 2}, \"66\": {\"66\": 10, \"73\": 1, \"98\": 1, \"48\": 1, \"57\": 2, \"89\": 1}, \"22\": {\"22\": 13, \"92\": 1, \"129\": 2}}}, \"per_domain_accuracy\": {\"ORACLE.run150\": {\"accuracy\": 0.91828125, \"source?\": true}, \"ORACLE.run114\": {\"accuracy\": 0.8788541666666667, \"source?\": true}, \"ORACLE.run132\": {\"accuracy\": 0.8879166666666667, \"source?\": true}, \"ORACLE.run144\": {\"accuracy\": 0.8547916666666666, \"source?\": true}, \"ORACLE.run18\": {\"accuracy\": 0.8597916666666666, \"source?\": true}, \"ORACLE.run120\": {\"accuracy\": 0.8157291666666666, \"source?\": true}, \"ORACLE.run138\": {\"accuracy\": 0.901875, \"source?\": true}, \"ORACLE.run126\": {\"accuracy\": 0.8024479166666667, \"source?\": true}, \"Wisig_3\": {\"accuracy\": 0.8718613537117904, \"source?\": false}, \"Wisig_2\": {\"accuracy\": 0.82265625, \"source?\": false}, \"Wisig_1\": {\"accuracy\": 0.8730137711864406, \"source?\": false}, \"Wisig_4\": {\"accuracy\": 0.8415637860082305, \"source?\": false}}}, \"history\": {\"epoch_indices\": [1, 2, 3, 4, 5, 6, 7], \"train_label_loss\": [0.7090541927643963, 0.4238375838900295, 0.34841813472443306, 0.30894304879697126, 0.2750642972683445, 0.24599944262765347, 0.2221012772922404], \"source_val_label_loss\": [1.463696837425232, 0.4030756652355194, 0.3789067268371582, 0.35359710454940796, 0.34354367852211, 0.33241787552833557, 0.33013567328453064], \"target_val_label_loss\": [216.2766571044922, 66.51547241210938, 45.53683090209961, 93.3423080444336, 166.77838134765625, 312.1195983886719, 274.28466796875], \"source_val_acc_label\": [0.7453450520833333, 0.8551432291666666, 0.8649609375, 0.8745768229166667, 0.8773046875, 0.8806315104166667, 0.8814192708333334], \"target_val_acc_label\": [0.7960508966244726, 0.8343552215189873, 0.851925105485232, 0.8517932489451476, 0.8325092299578059, 0.8142470991561181, 0.8267734704641351]}, \"dataset_metrics\": {\"source\": {\"train\": {\"n_unique_x\": 896000, \"n_unique_y\": 16, \"n_batch/episode\": 33600}, \"val\": {\"n_unique_x\": 192000, \"n_unique_y\": 16, \"n_batch/episode\": 4800}, \"test\": {\"n_unique_x\": 192000, \"n_unique_y\": 16, \"n_batch/episode\": 4800}}, \"target\": {\"train\": {\"n_unique_x\": 189008, \"n_unique_y\": 130, \"n_batch/episode\": 6831}, \"val\": {\"n_unique_x\": 40070, \"n_unique_y\": 130, \"n_batch/episode\": 948}, \"test\": {\"n_unique_x\": 40836, \"n_unique_y\": 130, \"n_batch/episode\": 967}}}}'"
      ]
     },
     "execution_count": 29,
     "metadata": {},
     "output_type": "execute_result"
    }
   ],
   "source": [
    "json.dumps(experiment)"
   ]
  }
 ],
 "metadata": {
  "celltoolbar": "Tags",
  "kernelspec": {
   "display_name": "Python 3 (ipykernel)",
   "language": "python",
   "name": "python3"
  },
  "language_info": {
   "codemirror_mode": {
    "name": "ipython",
    "version": 3
   },
   "file_extension": ".py",
   "mimetype": "text/x-python",
   "name": "python",
   "nbconvert_exporter": "python",
   "pygments_lexer": "ipython3",
   "version": "3.8.12"
  },
  "papermill": {
   "default_parameters": {},
   "duration": 7535.583398,
   "end_time": "2022-03-24T11:24:56.517665",
   "environment_variables": {},
   "exception": null,
   "input_path": "/root/csc500-main/csc500-notebooks/templates/tl_ptn_template.ipynb",
   "output_path": "trial.ipynb",
   "parameters": {
    "parameters": {
     "BEST_MODEL_PATH": "./best_model.pth",
     "NUM_LOGS_PER_EPOCH": 10,
     "criteria_for_best": "target_accuracy",
     "dataset_seed": 500,
     "datasets": [
      {
       "domain_prefix": "Wisig_",
       "domains": [
        1,
        2,
        3,
        4
       ],
       "episode_transforms": [],
       "labels": [
        "1-10",
        "1-12",
        "1-14",
        "1-16",
        "1-18",
        "1-19",
        "1-8",
        "10-11",
        "10-17",
        "10-4",
        "10-7",
        "11-1",
        "11-10",
        "11-19",
        "11-20",
        "11-4",
        "11-7",
        "12-19",
        "12-20",
        "12-7",
        "13-14",
        "13-18",
        "13-19",
        "13-20",
        "13-3",
        "13-7",
        "14-10",
        "14-11",
        "14-12",
        "14-13",
        "14-14",
        "14-19",
        "14-20",
        "14-7",
        "14-8",
        "14-9",
        "15-1",
        "15-19",
        "15-6",
        "16-1",
        "16-16",
        "16-19",
        "16-20",
        "17-10",
        "17-11",
        "18-1",
        "18-10",
        "18-11",
        "18-12",
        "18-13",
        "18-14",
        "18-15",
        "18-16",
        "18-17",
        "18-19",
        "18-2",
        "18-20",
        "18-4",
        "18-5",
        "18-7",
        "18-8",
        "18-9",
        "19-1",
        "19-10",
        "19-11",
        "19-12",
        "19-13",
        "19-14",
        "19-15",
        "19-19",
        "19-2",
        "19-20",
        "19-3",
        "19-4",
        "19-6",
        "19-7",
        "19-8",
        "19-9",
        "2-1",
        "2-13",
        "2-15",
        "2-3",
        "2-4",
        "2-5",
        "2-6",
        "2-7",
        "2-8",
        "20-1",
        "20-12",
        "20-14",
        "20-15",
        "20-16",
        "20-18",
        "20-19",
        "20-20",
        "20-3",
        "20-4",
        "20-5",
        "20-7",
        "20-8",
        "3-1",
        "3-13",
        "3-18",
        "3-2",
        "3-8",
        "4-1",
        "4-10",
        "4-11",
        "5-1",
        "5-5",
        "6-1",
        "6-15",
        "6-6",
        "7-10",
        "7-11",
        "7-12",
        "7-13",
        "7-14",
        "7-7",
        "7-8",
        "7-9",
        "8-1",
        "8-13",
        "8-14",
        "8-18",
        "8-20",
        "8-3",
        "8-8",
        "9-1",
        "9-7"
       ],
       "num_examples_per_domain_per_label": -1,
       "pickle_path": "/root/csc500-main/datasets/wisig.node3-19.stratified_ds.2022A.pkl",
       "source_or_target_dataset": "target",
       "x_transforms": []
      },
      {
       "domain_prefix": "ORACLE.run1",
       "domains": [
        32,
        38,
        8,
        44,
        14,
        50,
        20,
        26
       ],
       "episode_transforms": [],
       "labels": [
        "3123D52",
        "3123D65",
        "3123D79",
        "3123D80",
        "3123D54",
        "3123D70",
        "3123D7B",
        "3123D89",
        "3123D58",
        "3123D76",
        "3123D7D",
        "3123EFE",
        "3123D64",
        "3123D78",
        "3123D7E",
        "3124E4A"
       ],
       "num_examples_per_domain_per_label": 10000,
       "pickle_path": "/root/csc500-main/datasets/oracle.Run1_10kExamples_stratified_ds.2022A.pkl",
       "source_or_target_dataset": "source",
       "x_transforms": []
      }
     ],
     "device": "cuda",
     "experiment_name": "tl_1v2:wisig-oracle.run1",
     "lr": 0.0001,
     "n_epoch": 50,
     "n_query": 2,
     "n_shot": 3,
     "n_way": 16,
     "patience": 3,
     "seed": 500,
     "test_k_factor": 2,
     "torch_default_dtype": "torch.float32",
     "train_k_factor": 3,
     "val_k_factor": 2,
     "x_net": [
      {
       "class": "nnReshape",
       "kargs": {
        "shape": [
         -1,
         1,
         2,
         256
        ]
       }
      },
      {
       "class": "Conv2d",
       "kargs": {
        "bias": false,
        "in_channels": 1,
        "kernel_size": [
         1,
         7
        ],
        "out_channels": 256,
        "padding": [
         0,
         3
        ]
       }
      },
      {
       "class": "ReLU",
       "kargs": {
        "inplace": true
       }
      },
      {
       "class": "BatchNorm2d",
       "kargs": {
        "num_features": 256
       }
      },
      {
       "class": "Conv2d",
       "kargs": {
        "bias": true,
        "in_channels": 256,
        "kernel_size": [
         2,
         7
        ],
        "out_channels": 80,
        "padding": [
         0,
         3
        ]
       }
      },
      {
       "class": "ReLU",
       "kargs": {
        "inplace": true
       }
      },
      {
       "class": "BatchNorm2d",
       "kargs": {
        "num_features": 80
       }
      },
      {
       "class": "Flatten",
       "kargs": {}
      },
      {
       "class": "Linear",
       "kargs": {
        "in_features": 20480,
        "out_features": 256
       }
      },
      {
       "class": "ReLU",
       "kargs": {
        "inplace": true
       }
      },
      {
       "class": "BatchNorm1d",
       "kargs": {
        "num_features": 256
       }
      },
      {
       "class": "Linear",
       "kargs": {
        "in_features": 256,
        "out_features": 256
       }
      }
     ]
    }
   },
   "start_time": "2022-03-24T09:19:20.934267",
   "version": "2.3.4"
  }
 },
 "nbformat": 4,
 "nbformat_minor": 5
}