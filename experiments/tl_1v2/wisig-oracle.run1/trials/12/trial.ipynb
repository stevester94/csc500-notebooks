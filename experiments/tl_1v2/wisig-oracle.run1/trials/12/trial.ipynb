{
 "cells": [
  {
   "cell_type": "markdown",
   "id": "9fea5f46",
   "metadata": {
    "papermill": {
     "duration": 0.028524,
     "end_time": "2022-03-23T22:11:43.022768",
     "exception": false,
     "start_time": "2022-03-23T22:11:42.994244",
     "status": "completed"
    },
    "tags": []
   },
   "source": [
    "# Transfer Learning Template"
   ]
  },
  {
   "cell_type": "code",
   "execution_count": 1,
   "id": "0902182a",
   "metadata": {
    "execution": {
     "iopub.execute_input": "2022-03-23T22:11:43.084091Z",
     "iopub.status.busy": "2022-03-23T22:11:43.081877Z",
     "iopub.status.idle": "2022-03-23T22:11:45.528770Z",
     "shell.execute_reply": "2022-03-23T22:11:45.528224Z"
    },
    "papermill": {
     "duration": 2.484188,
     "end_time": "2022-03-23T22:11:45.528871",
     "exception": false,
     "start_time": "2022-03-23T22:11:43.044683",
     "status": "completed"
    },
    "tags": []
   },
   "outputs": [],
   "source": [
    "%load_ext autoreload\n",
    "%autoreload 2\n",
    "%matplotlib inline\n",
    "\n",
    "    \n",
    "import os, json, sys, time, random\n",
    "import numpy as np\n",
    "import torch\n",
    "from torch.optim import Adam\n",
    "from  easydict import EasyDict\n",
    "import matplotlib.pyplot as plt\n",
    "\n",
    "from steves_models.steves_ptn import Steves_Prototypical_Network\n",
    "\n",
    "from steves_utils.lazy_iterable_wrapper import Lazy_Iterable_Wrapper\n",
    "from steves_utils.iterable_aggregator import Iterable_Aggregator\n",
    "from steves_utils.ptn_train_eval_test_jig import  PTN_Train_Eval_Test_Jig\n",
    "from steves_utils.torch_sequential_builder import build_sequential\n",
    "from steves_utils.torch_utils import get_dataset_metrics, ptn_confusion_by_domain_over_dataloader\n",
    "from steves_utils.utils_v2 import (per_domain_accuracy_from_confusion, get_datasets_base_path)\n",
    "from steves_utils.PTN.utils import independent_accuracy_assesment\n",
    "\n",
    "from torch.utils.data import DataLoader\n",
    "\n",
    "from steves_utils.stratified_dataset.episodic_accessor import Episodic_Accessor_Factory\n",
    "\n",
    "from steves_utils.ptn_do_report import (\n",
    "    get_loss_curve,\n",
    "    get_results_table,\n",
    "    get_parameters_table,\n",
    "    get_domain_accuracies,\n",
    ")\n",
    "\n",
    "from steves_utils.transforms import get_chained_transform"
   ]
  },
  {
   "cell_type": "markdown",
   "id": "41c840b4",
   "metadata": {
    "papermill": {
     "duration": 0.018737,
     "end_time": "2022-03-23T22:11:45.567113",
     "exception": false,
     "start_time": "2022-03-23T22:11:45.548376",
     "status": "completed"
    },
    "tags": []
   },
   "source": [
    "# Allowed Parameters\n",
    "These are allowed parameters, not defaults\n",
    "Each of these values need to be present in the injected parameters (the notebook will raise an exception if they are not present)\n",
    "\n",
    "Papermill uses the cell tag \"parameters\" to inject the real parameters below this cell.\n",
    "Enable tags to see what I mean"
   ]
  },
  {
   "cell_type": "code",
   "execution_count": 2,
   "id": "fd44eb83",
   "metadata": {
    "execution": {
     "iopub.execute_input": "2022-03-23T22:11:45.608209Z",
     "iopub.status.busy": "2022-03-23T22:11:45.607823Z",
     "iopub.status.idle": "2022-03-23T22:11:45.626981Z",
     "shell.execute_reply": "2022-03-23T22:11:45.626160Z"
    },
    "papermill": {
     "duration": 0.041234,
     "end_time": "2022-03-23T22:11:45.627139",
     "exception": false,
     "start_time": "2022-03-23T22:11:45.585905",
     "status": "completed"
    },
    "tags": []
   },
   "outputs": [],
   "source": [
    "required_parameters = {\n",
    "    \"experiment_name\",\n",
    "    \"lr\",\n",
    "    \"device\",\n",
    "    \"seed\",\n",
    "    \"dataset_seed\",\n",
    "    \"n_shot\",\n",
    "    \"n_query\",\n",
    "    \"n_way\",\n",
    "    \"train_k_factor\",\n",
    "    \"val_k_factor\",\n",
    "    \"test_k_factor\",\n",
    "    \"n_epoch\",\n",
    "    \"patience\",\n",
    "    \"criteria_for_best\",\n",
    "    \"x_net\",\n",
    "    \"datasets\",\n",
    "    \"torch_default_dtype\",\n",
    "    \"NUM_LOGS_PER_EPOCH\",\n",
    "    \"BEST_MODEL_PATH\",\n",
    "    \"x_shape\",\n",
    "}"
   ]
  },
  {
   "cell_type": "code",
   "execution_count": 3,
   "id": "fa3f0049",
   "metadata": {
    "execution": {
     "iopub.execute_input": "2022-03-23T22:11:45.681847Z",
     "iopub.status.busy": "2022-03-23T22:11:45.681209Z",
     "iopub.status.idle": "2022-03-23T22:11:45.703056Z",
     "shell.execute_reply": "2022-03-23T22:11:45.702225Z"
    },
    "papermill": {
     "duration": 0.04985,
     "end_time": "2022-03-23T22:11:45.703210",
     "exception": false,
     "start_time": "2022-03-23T22:11:45.653360",
     "status": "completed"
    },
    "tags": [
     "parameters"
    ]
   },
   "outputs": [],
   "source": [
    "from steves_utils.CORES.utils import (\n",
    "    ALL_NODES,\n",
    "    ALL_NODES_MINIMUM_1000_EXAMPLES,\n",
    "    ALL_DAYS\n",
    ")\n",
    "\n",
    "from steves_utils.ORACLE.utils_v2 import (\n",
    "    ALL_DISTANCES_FEET_NARROWED,\n",
    "    ALL_RUNS,\n",
    "    ALL_SERIAL_NUMBERS,\n",
    ")\n",
    "\n",
    "standalone_parameters = {}\n",
    "standalone_parameters[\"experiment_name\"] = \"STANDALONE PTN\"\n",
    "standalone_parameters[\"lr\"] = 0.001\n",
    "standalone_parameters[\"device\"] = \"cuda\"\n",
    "\n",
    "standalone_parameters[\"seed\"] = 1337\n",
    "standalone_parameters[\"dataset_seed\"] = 1337\n",
    "\n",
    "standalone_parameters[\"n_way\"] = 8\n",
    "standalone_parameters[\"n_shot\"] = 3\n",
    "standalone_parameters[\"n_query\"]  = 2\n",
    "standalone_parameters[\"train_k_factor\"] = 1\n",
    "standalone_parameters[\"val_k_factor\"] = 2\n",
    "standalone_parameters[\"test_k_factor\"] = 2\n",
    "\n",
    "\n",
    "standalone_parameters[\"n_epoch\"] = 50\n",
    "\n",
    "standalone_parameters[\"patience\"] = 10\n",
    "standalone_parameters[\"criteria_for_best\"] = \"source_loss\"\n",
    "\n",
    "standalone_parameters[\"datasets\"] = [\n",
    "    {\n",
    "        \"labels\": ALL_SERIAL_NUMBERS,\n",
    "        \"domains\": ALL_DISTANCES_FEET_NARROWED,\n",
    "        \"num_examples_per_domain_per_label\": 100,\n",
    "        \"pickle_path\": os.path.join(get_datasets_base_path(), \"oracle.Run1_framed_2000Examples_stratified_ds.2022A.pkl\"),\n",
    "        \"source_or_target_dataset\": \"source\",\n",
    "        \"x_transforms\": [\"unit_mag\", \"minus_two\"],\n",
    "        \"episode_transforms\": [],\n",
    "        \"domain_prefix\": \"ORACLE_\"\n",
    "    },\n",
    "    {\n",
    "        \"labels\": ALL_NODES,\n",
    "        \"domains\": ALL_DAYS,\n",
    "        \"num_examples_per_domain_per_label\": 100,\n",
    "        \"pickle_path\": os.path.join(get_datasets_base_path(), \"cores.stratified_ds.2022A.pkl\"),\n",
    "        \"source_or_target_dataset\": \"target\",\n",
    "        \"x_transforms\": [\"unit_power\", \"times_zero\"],\n",
    "        \"episode_transforms\": [],\n",
    "        \"domain_prefix\": \"CORES_\"\n",
    "    }   \n",
    "]\n",
    "\n",
    "standalone_parameters[\"torch_default_dtype\"] = \"torch.float32\" \n",
    "\n",
    "\n",
    "\n",
    "standalone_parameters[\"x_net\"] =     [\n",
    "    {\"class\": \"nnReshape\", \"kargs\": {\"shape\":[-1, 1, 2, 256]}},\n",
    "    {\"class\": \"Conv2d\", \"kargs\": { \"in_channels\":1, \"out_channels\":256, \"kernel_size\":(1,7), \"bias\":False, \"padding\":(0,3), },},\n",
    "    {\"class\": \"ReLU\", \"kargs\": {\"inplace\": True}},\n",
    "    {\"class\": \"BatchNorm2d\", \"kargs\": {\"num_features\":256}},\n",
    "\n",
    "    {\"class\": \"Conv2d\", \"kargs\": { \"in_channels\":256, \"out_channels\":80, \"kernel_size\":(2,7), \"bias\":True, \"padding\":(0,3), },},\n",
    "    {\"class\": \"ReLU\", \"kargs\": {\"inplace\": True}},\n",
    "    {\"class\": \"BatchNorm2d\", \"kargs\": {\"num_features\":80}},\n",
    "    {\"class\": \"Flatten\", \"kargs\": {}},\n",
    "\n",
    "    {\"class\": \"Linear\", \"kargs\": {\"in_features\": 80*256, \"out_features\": 256}}, # 80 units per IQ pair\n",
    "    {\"class\": \"ReLU\", \"kargs\": {\"inplace\": True}},\n",
    "    {\"class\": \"BatchNorm1d\", \"kargs\": {\"num_features\":256}},\n",
    "\n",
    "    {\"class\": \"Linear\", \"kargs\": {\"in_features\": 256, \"out_features\": 256}},\n",
    "]\n",
    "\n",
    "# Parameters relevant to results\n",
    "# These parameters will basically never need to change\n",
    "standalone_parameters[\"NUM_LOGS_PER_EPOCH\"] = 10\n",
    "standalone_parameters[\"BEST_MODEL_PATH\"] = \"./best_model.pth\"\n",
    "\n",
    "\n",
    "\n",
    "\n"
   ]
  },
  {
   "cell_type": "code",
   "execution_count": 4,
   "id": "574c224d",
   "metadata": {
    "execution": {
     "iopub.execute_input": "2022-03-23T22:11:45.760630Z",
     "iopub.status.busy": "2022-03-23T22:11:45.759595Z",
     "iopub.status.idle": "2022-03-23T22:11:45.780937Z",
     "shell.execute_reply": "2022-03-23T22:11:45.780112Z"
    },
    "papermill": {
     "duration": 0.051455,
     "end_time": "2022-03-23T22:11:45.781093",
     "exception": false,
     "start_time": "2022-03-23T22:11:45.729638",
     "status": "completed"
    },
    "tags": [
     "injected-parameters"
    ]
   },
   "outputs": [],
   "source": [
    "# Parameters\n",
    "parameters = {\n",
    "    \"experiment_name\": \"tl_1v2:wisig-oracle.run1\",\n",
    "    \"device\": \"cuda\",\n",
    "    \"lr\": 0.0001,\n",
    "    \"n_shot\": 3,\n",
    "    \"n_query\": 2,\n",
    "    \"train_k_factor\": 3,\n",
    "    \"val_k_factor\": 2,\n",
    "    \"test_k_factor\": 2,\n",
    "    \"torch_default_dtype\": \"torch.float32\",\n",
    "    \"n_epoch\": 50,\n",
    "    \"patience\": 3,\n",
    "    \"criteria_for_best\": \"target_accuracy\",\n",
    "    \"x_net\": [\n",
    "        {\"class\": \"nnReshape\", \"kargs\": {\"shape\": [-1, 1, 2, 256]}},\n",
    "        {\n",
    "            \"class\": \"Conv2d\",\n",
    "            \"kargs\": {\n",
    "                \"in_channels\": 1,\n",
    "                \"out_channels\": 256,\n",
    "                \"kernel_size\": [1, 7],\n",
    "                \"bias\": False,\n",
    "                \"padding\": [0, 3],\n",
    "            },\n",
    "        },\n",
    "        {\"class\": \"ReLU\", \"kargs\": {\"inplace\": True}},\n",
    "        {\"class\": \"BatchNorm2d\", \"kargs\": {\"num_features\": 256}},\n",
    "        {\n",
    "            \"class\": \"Conv2d\",\n",
    "            \"kargs\": {\n",
    "                \"in_channels\": 256,\n",
    "                \"out_channels\": 80,\n",
    "                \"kernel_size\": [2, 7],\n",
    "                \"bias\": True,\n",
    "                \"padding\": [0, 3],\n",
    "            },\n",
    "        },\n",
    "        {\"class\": \"ReLU\", \"kargs\": {\"inplace\": True}},\n",
    "        {\"class\": \"BatchNorm2d\", \"kargs\": {\"num_features\": 80}},\n",
    "        {\"class\": \"Flatten\", \"kargs\": {}},\n",
    "        {\"class\": \"Linear\", \"kargs\": {\"in_features\": 20480, \"out_features\": 256}},\n",
    "        {\"class\": \"ReLU\", \"kargs\": {\"inplace\": True}},\n",
    "        {\"class\": \"BatchNorm1d\", \"kargs\": {\"num_features\": 256}},\n",
    "        {\"class\": \"Linear\", \"kargs\": {\"in_features\": 256, \"out_features\": 256}},\n",
    "    ],\n",
    "    \"NUM_LOGS_PER_EPOCH\": 10,\n",
    "    \"BEST_MODEL_PATH\": \"./best_model.pth\",\n",
    "    \"n_way\": 16,\n",
    "    \"datasets\": [\n",
    "        {\n",
    "            \"labels\": [\n",
    "                \"1-10\",\n",
    "                \"1-12\",\n",
    "                \"1-14\",\n",
    "                \"1-16\",\n",
    "                \"1-18\",\n",
    "                \"1-19\",\n",
    "                \"1-8\",\n",
    "                \"10-11\",\n",
    "                \"10-17\",\n",
    "                \"10-4\",\n",
    "                \"10-7\",\n",
    "                \"11-1\",\n",
    "                \"11-10\",\n",
    "                \"11-19\",\n",
    "                \"11-20\",\n",
    "                \"11-4\",\n",
    "                \"11-7\",\n",
    "                \"12-19\",\n",
    "                \"12-20\",\n",
    "                \"12-7\",\n",
    "                \"13-14\",\n",
    "                \"13-18\",\n",
    "                \"13-19\",\n",
    "                \"13-20\",\n",
    "                \"13-3\",\n",
    "                \"13-7\",\n",
    "                \"14-10\",\n",
    "                \"14-11\",\n",
    "                \"14-12\",\n",
    "                \"14-13\",\n",
    "                \"14-14\",\n",
    "                \"14-19\",\n",
    "                \"14-20\",\n",
    "                \"14-7\",\n",
    "                \"14-8\",\n",
    "                \"14-9\",\n",
    "                \"15-1\",\n",
    "                \"15-19\",\n",
    "                \"15-6\",\n",
    "                \"16-1\",\n",
    "                \"16-16\",\n",
    "                \"16-19\",\n",
    "                \"16-20\",\n",
    "                \"17-10\",\n",
    "                \"17-11\",\n",
    "                \"18-1\",\n",
    "                \"18-10\",\n",
    "                \"18-11\",\n",
    "                \"18-12\",\n",
    "                \"18-13\",\n",
    "                \"18-14\",\n",
    "                \"18-15\",\n",
    "                \"18-16\",\n",
    "                \"18-17\",\n",
    "                \"18-19\",\n",
    "                \"18-2\",\n",
    "                \"18-20\",\n",
    "                \"18-4\",\n",
    "                \"18-5\",\n",
    "                \"18-7\",\n",
    "                \"18-8\",\n",
    "                \"18-9\",\n",
    "                \"19-1\",\n",
    "                \"19-10\",\n",
    "                \"19-11\",\n",
    "                \"19-12\",\n",
    "                \"19-13\",\n",
    "                \"19-14\",\n",
    "                \"19-15\",\n",
    "                \"19-19\",\n",
    "                \"19-2\",\n",
    "                \"19-20\",\n",
    "                \"19-3\",\n",
    "                \"19-4\",\n",
    "                \"19-6\",\n",
    "                \"19-7\",\n",
    "                \"19-8\",\n",
    "                \"19-9\",\n",
    "                \"2-1\",\n",
    "                \"2-13\",\n",
    "                \"2-15\",\n",
    "                \"2-3\",\n",
    "                \"2-4\",\n",
    "                \"2-5\",\n",
    "                \"2-6\",\n",
    "                \"2-7\",\n",
    "                \"2-8\",\n",
    "                \"20-1\",\n",
    "                \"20-12\",\n",
    "                \"20-14\",\n",
    "                \"20-15\",\n",
    "                \"20-16\",\n",
    "                \"20-18\",\n",
    "                \"20-19\",\n",
    "                \"20-20\",\n",
    "                \"20-3\",\n",
    "                \"20-4\",\n",
    "                \"20-5\",\n",
    "                \"20-7\",\n",
    "                \"20-8\",\n",
    "                \"3-1\",\n",
    "                \"3-13\",\n",
    "                \"3-18\",\n",
    "                \"3-2\",\n",
    "                \"3-8\",\n",
    "                \"4-1\",\n",
    "                \"4-10\",\n",
    "                \"4-11\",\n",
    "                \"5-1\",\n",
    "                \"5-5\",\n",
    "                \"6-1\",\n",
    "                \"6-15\",\n",
    "                \"6-6\",\n",
    "                \"7-10\",\n",
    "                \"7-11\",\n",
    "                \"7-12\",\n",
    "                \"7-13\",\n",
    "                \"7-14\",\n",
    "                \"7-7\",\n",
    "                \"7-8\",\n",
    "                \"7-9\",\n",
    "                \"8-1\",\n",
    "                \"8-13\",\n",
    "                \"8-14\",\n",
    "                \"8-18\",\n",
    "                \"8-20\",\n",
    "                \"8-3\",\n",
    "                \"8-8\",\n",
    "                \"9-1\",\n",
    "                \"9-7\",\n",
    "            ],\n",
    "            \"domains\": [1, 2, 3, 4],\n",
    "            \"num_examples_per_domain_per_label\": -1,\n",
    "            \"pickle_path\": \"/root/csc500-main/datasets/wisig.node3-19.stratified_ds.2022A.pkl\",\n",
    "            \"source_or_target_dataset\": \"source\",\n",
    "            \"x_transforms\": [\"unit_power\"],\n",
    "            \"episode_transforms\": [],\n",
    "            \"domain_prefix\": \"Wisig_\",\n",
    "        },\n",
    "        {\n",
    "            \"labels\": [\n",
    "                \"3123D52\",\n",
    "                \"3123D65\",\n",
    "                \"3123D79\",\n",
    "                \"3123D80\",\n",
    "                \"3123D54\",\n",
    "                \"3123D70\",\n",
    "                \"3123D7B\",\n",
    "                \"3123D89\",\n",
    "                \"3123D58\",\n",
    "                \"3123D76\",\n",
    "                \"3123D7D\",\n",
    "                \"3123EFE\",\n",
    "                \"3123D64\",\n",
    "                \"3123D78\",\n",
    "                \"3123D7E\",\n",
    "                \"3124E4A\",\n",
    "            ],\n",
    "            \"domains\": [32, 38, 8, 44, 14, 50, 20, 26],\n",
    "            \"num_examples_per_domain_per_label\": 10000,\n",
    "            \"pickle_path\": \"/root/csc500-main/datasets/oracle.Run1_10kExamples_stratified_ds.2022A.pkl\",\n",
    "            \"source_or_target_dataset\": \"target\",\n",
    "            \"x_transforms\": [\"unit_power\"],\n",
    "            \"episode_transforms\": [],\n",
    "            \"domain_prefix\": \"ORACLE.run1\",\n",
    "        },\n",
    "    ],\n",
    "    \"dataset_seed\": 154325,\n",
    "    \"seed\": 154325,\n",
    "}\n"
   ]
  },
  {
   "cell_type": "code",
   "execution_count": 5,
   "id": "8fa1cc33",
   "metadata": {
    "execution": {
     "iopub.execute_input": "2022-03-23T22:11:45.832214Z",
     "iopub.status.busy": "2022-03-23T22:11:45.831832Z",
     "iopub.status.idle": "2022-03-23T22:11:45.850817Z",
     "shell.execute_reply": "2022-03-23T22:11:45.850000Z"
    },
    "papermill": {
     "duration": 0.041982,
     "end_time": "2022-03-23T22:11:45.850971",
     "exception": false,
     "start_time": "2022-03-23T22:11:45.808989",
     "status": "completed"
    },
    "tags": []
   },
   "outputs": [],
   "source": [
    "# Set this to True if you want to run this template directly\n",
    "STANDALONE = False\n",
    "if STANDALONE:\n",
    "    print(\"parameters not injected, running with standalone_parameters\")\n",
    "    parameters = standalone_parameters\n",
    "\n",
    "if not 'parameters' in locals() and not 'parameters' in globals():\n",
    "    raise Exception(\"Parameter injection failed\")\n",
    "\n",
    "#Use an easy dict for all the parameters\n",
    "p = EasyDict(parameters)\n",
    "\n",
    "if \"x_shape\" not in p:\n",
    "    p.x_shape = [2,256] # Default to this if we dont supply x_shape\n",
    "\n",
    "\n",
    "supplied_keys = set(p.keys())\n",
    "\n",
    "if  supplied_keys != required_parameters:\n",
    "    print(\"Parameters are incorrect\")\n",
    "    if len(supplied_keys - required_parameters)>0: print(\"Shouldn't have:\", str(supplied_keys - required_parameters))\n",
    "    if len(required_parameters - supplied_keys)>0: print(\"Need to have:\", str(required_parameters - supplied_keys))\n",
    "    raise RuntimeError(\"Parameters are incorrect\")"
   ]
  },
  {
   "cell_type": "code",
   "execution_count": 6,
   "id": "3a028d58",
   "metadata": {
    "execution": {
     "iopub.execute_input": "2022-03-23T22:11:45.899716Z",
     "iopub.status.busy": "2022-03-23T22:11:45.899333Z",
     "iopub.status.idle": "2022-03-23T22:11:45.918490Z",
     "shell.execute_reply": "2022-03-23T22:11:45.917670Z"
    },
    "papermill": {
     "duration": 0.040938,
     "end_time": "2022-03-23T22:11:45.918645",
     "exception": false,
     "start_time": "2022-03-23T22:11:45.877707",
     "status": "completed"
    },
    "tags": []
   },
   "outputs": [],
   "source": [
    "###################################\n",
    "# Set the RNGs and make it all deterministic\n",
    "###################################\n",
    "np.random.seed(p.seed)\n",
    "random.seed(p.seed)\n",
    "torch.manual_seed(p.seed)\n",
    "\n",
    "torch.use_deterministic_algorithms(True) "
   ]
  },
  {
   "cell_type": "code",
   "execution_count": 7,
   "id": "b691acf6",
   "metadata": {
    "execution": {
     "iopub.execute_input": "2022-03-23T22:11:45.965637Z",
     "iopub.status.busy": "2022-03-23T22:11:45.965266Z",
     "iopub.status.idle": "2022-03-23T22:11:45.990027Z",
     "shell.execute_reply": "2022-03-23T22:11:45.989178Z"
    },
    "papermill": {
     "duration": 0.046919,
     "end_time": "2022-03-23T22:11:45.990183",
     "exception": false,
     "start_time": "2022-03-23T22:11:45.943264",
     "status": "completed"
    },
    "tags": []
   },
   "outputs": [],
   "source": [
    "###########################################\n",
    "# The stratified datasets honor this\n",
    "###########################################\n",
    "torch.set_default_dtype(eval(p.torch_default_dtype))"
   ]
  },
  {
   "cell_type": "code",
   "execution_count": 8,
   "id": "b5fba671",
   "metadata": {
    "execution": {
     "iopub.execute_input": "2022-03-23T22:11:46.039527Z",
     "iopub.status.busy": "2022-03-23T22:11:46.039153Z",
     "iopub.status.idle": "2022-03-23T22:11:46.090812Z",
     "shell.execute_reply": "2022-03-23T22:11:46.090094Z"
    },
    "papermill": {
     "duration": 0.073358,
     "end_time": "2022-03-23T22:11:46.090967",
     "exception": false,
     "start_time": "2022-03-23T22:11:46.017609",
     "status": "completed"
    },
    "tags": []
   },
   "outputs": [],
   "source": [
    "###################################\n",
    "# Build the network(s)\n",
    "# Note: It's critical to do this AFTER setting the RNG\n",
    "###################################\n",
    "x_net = build_sequential(p.x_net)"
   ]
  },
  {
   "cell_type": "code",
   "execution_count": 9,
   "id": "5d7e61cc",
   "metadata": {
    "execution": {
     "iopub.execute_input": "2022-03-23T22:11:46.139839Z",
     "iopub.status.busy": "2022-03-23T22:11:46.139456Z",
     "iopub.status.idle": "2022-03-23T22:11:46.166104Z",
     "shell.execute_reply": "2022-03-23T22:11:46.165344Z"
    },
    "papermill": {
     "duration": 0.050181,
     "end_time": "2022-03-23T22:11:46.166260",
     "exception": false,
     "start_time": "2022-03-23T22:11:46.116079",
     "status": "completed"
    },
    "tags": []
   },
   "outputs": [],
   "source": [
    "start_time_secs = time.time()"
   ]
  },
  {
   "cell_type": "code",
   "execution_count": 10,
   "id": "c6b67dfd",
   "metadata": {
    "execution": {
     "iopub.execute_input": "2022-03-23T22:11:46.215660Z",
     "iopub.status.busy": "2022-03-23T22:11:46.215252Z",
     "iopub.status.idle": "2022-03-23T22:11:46.237771Z",
     "shell.execute_reply": "2022-03-23T22:11:46.236951Z"
    },
    "papermill": {
     "duration": 0.046105,
     "end_time": "2022-03-23T22:11:46.237927",
     "exception": false,
     "start_time": "2022-03-23T22:11:46.191822",
     "status": "completed"
    },
    "tags": []
   },
   "outputs": [],
   "source": [
    "p.domains_source = []\n",
    "p.domains_target = []\n",
    "\n",
    "\n",
    "train_original_source = []\n",
    "val_original_source   = []\n",
    "test_original_source  = []\n",
    "\n",
    "train_original_target = []\n",
    "val_original_target   = []\n",
    "test_original_target  = []"
   ]
  },
  {
   "cell_type": "code",
   "execution_count": 11,
   "id": "e3d9c3d3",
   "metadata": {
    "execution": {
     "iopub.execute_input": "2022-03-23T22:11:46.288131Z",
     "iopub.status.busy": "2022-03-23T22:11:46.287074Z",
     "iopub.status.idle": "2022-03-23T22:11:46.309087Z",
     "shell.execute_reply": "2022-03-23T22:11:46.308260Z"
    },
    "papermill": {
     "duration": 0.045597,
     "end_time": "2022-03-23T22:11:46.309241",
     "exception": false,
     "start_time": "2022-03-23T22:11:46.263644",
     "status": "completed"
    },
    "tags": []
   },
   "outputs": [],
   "source": [
    "# global_x_transform_func = lambda x: normalize(x.to(torch.get_default_dtype()), \"unit_power\") # unit_power, unit_mag\n",
    "# global_x_transform_func = lambda x: normalize(x, \"unit_power\") # unit_power, unit_mag"
   ]
  },
  {
   "cell_type": "code",
   "execution_count": 12,
   "id": "acb78fd2",
   "metadata": {
    "execution": {
     "iopub.execute_input": "2022-03-23T22:11:46.362082Z",
     "iopub.status.busy": "2022-03-23T22:11:46.361496Z",
     "iopub.status.idle": "2022-03-23T22:11:46.379748Z",
     "shell.execute_reply": "2022-03-23T22:11:46.378792Z"
    },
    "papermill": {
     "duration": 0.044571,
     "end_time": "2022-03-23T22:11:46.379907",
     "exception": false,
     "start_time": "2022-03-23T22:11:46.335336",
     "status": "completed"
    },
    "tags": []
   },
   "outputs": [],
   "source": [
    "def add_dataset(\n",
    "    labels,\n",
    "    domains,\n",
    "    pickle_path,\n",
    "    x_transforms,\n",
    "    episode_transforms,\n",
    "    domain_prefix,\n",
    "    num_examples_per_domain_per_label,\n",
    "    source_or_target_dataset:str,\n",
    "    iterator_seed=p.seed,\n",
    "    dataset_seed=p.dataset_seed,\n",
    "    n_shot=p.n_shot,\n",
    "    n_way=p.n_way,\n",
    "    n_query=p.n_query,\n",
    "    train_val_test_k_factors=(p.train_k_factor,p.val_k_factor,p.test_k_factor),\n",
    "):\n",
    "   \n",
    "    if x_transforms == []: x_transform = None\n",
    "    else: x_transform = get_chained_transform(x_transforms)\n",
    "    \n",
    "    if episode_transforms == []: episode_transform = None\n",
    "    else: raise Exception(\"episode_transforms not implemented\")\n",
    "    \n",
    "    episode_transform = lambda tup, _prefix=domain_prefix: (_prefix + str(tup[0]), tup[1])\n",
    "\n",
    "\n",
    "    eaf = Episodic_Accessor_Factory(\n",
    "        labels=labels,\n",
    "        domains=domains,\n",
    "        num_examples_per_domain_per_label=num_examples_per_domain_per_label,\n",
    "        iterator_seed=iterator_seed,\n",
    "        dataset_seed=dataset_seed,\n",
    "        n_shot=n_shot,\n",
    "        n_way=n_way,\n",
    "        n_query=n_query,\n",
    "        train_val_test_k_factors=train_val_test_k_factors,\n",
    "        pickle_path=pickle_path,\n",
    "        x_transform_func=x_transform,\n",
    "    )\n",
    "\n",
    "    train, val, test = eaf.get_train(), eaf.get_val(), eaf.get_test()\n",
    "    train = Lazy_Iterable_Wrapper(train, episode_transform)\n",
    "    val = Lazy_Iterable_Wrapper(val, episode_transform)\n",
    "    test = Lazy_Iterable_Wrapper(test, episode_transform)\n",
    "\n",
    "    if source_or_target_dataset==\"source\":\n",
    "        train_original_source.append(train)\n",
    "        val_original_source.append(val)\n",
    "        test_original_source.append(test)\n",
    "\n",
    "        p.domains_source.extend(\n",
    "            [domain_prefix + str(u) for u in domains]\n",
    "        )\n",
    "    elif source_or_target_dataset==\"target\":\n",
    "        train_original_target.append(train)\n",
    "        val_original_target.append(val)\n",
    "        test_original_target.append(test)\n",
    "        p.domains_target.extend(\n",
    "            [domain_prefix + str(u) for u in domains]\n",
    "        )\n",
    "    else:\n",
    "        raise Exception(f\"invalid source_or_target_dataset: {source_or_target_dataset}\")\n",
    "    "
   ]
  },
  {
   "cell_type": "code",
   "execution_count": 13,
   "id": "fe266617",
   "metadata": {
    "execution": {
     "iopub.execute_input": "2022-03-23T22:11:46.437461Z",
     "iopub.status.busy": "2022-03-23T22:11:46.429355Z",
     "iopub.status.idle": "2022-03-23T22:13:59.263981Z",
     "shell.execute_reply": "2022-03-23T22:13:59.263165Z"
    },
    "papermill": {
     "duration": 132.857214,
     "end_time": "2022-03-23T22:13:59.264169",
     "exception": false,
     "start_time": "2022-03-23T22:11:46.406955",
     "status": "completed"
    },
    "tags": []
   },
   "outputs": [],
   "source": [
    "for ds in p.datasets:\n",
    "    add_dataset(**ds)"
   ]
  },
  {
   "cell_type": "code",
   "execution_count": 14,
   "id": "b90d65ac",
   "metadata": {
    "execution": {
     "iopub.execute_input": "2022-03-23T22:13:59.318203Z",
     "iopub.status.busy": "2022-03-23T22:13:59.317615Z",
     "iopub.status.idle": "2022-03-23T22:13:59.342519Z",
     "shell.execute_reply": "2022-03-23T22:13:59.341698Z"
    },
    "papermill": {
     "duration": 0.049007,
     "end_time": "2022-03-23T22:13:59.342678",
     "exception": false,
     "start_time": "2022-03-23T22:13:59.293671",
     "status": "completed"
    },
    "tags": []
   },
   "outputs": [],
   "source": [
    "# from steves_utils.CORES.utils import (\n",
    "#     ALL_NODES,\n",
    "#     ALL_NODES_MINIMUM_1000_EXAMPLES,\n",
    "#     ALL_DAYS\n",
    "# )\n",
    "\n",
    "# add_dataset(\n",
    "#     labels=ALL_NODES,\n",
    "#     domains = ALL_DAYS,\n",
    "#     num_examples_per_domain_per_label=100,\n",
    "#     pickle_path=os.path.join(get_datasets_base_path(), \"cores.stratified_ds.2022A.pkl\"),\n",
    "#     source_or_target_dataset=\"target\",\n",
    "#     x_transform_func=global_x_transform_func,\n",
    "#     domain_modifier=lambda u: f\"cores_{u}\"\n",
    "# )"
   ]
  },
  {
   "cell_type": "code",
   "execution_count": 15,
   "id": "76db484d",
   "metadata": {
    "execution": {
     "iopub.execute_input": "2022-03-23T22:13:59.395636Z",
     "iopub.status.busy": "2022-03-23T22:13:59.395240Z",
     "iopub.status.idle": "2022-03-23T22:13:59.415624Z",
     "shell.execute_reply": "2022-03-23T22:13:59.414796Z"
    },
    "papermill": {
     "duration": 0.045237,
     "end_time": "2022-03-23T22:13:59.415779",
     "exception": false,
     "start_time": "2022-03-23T22:13:59.370542",
     "status": "completed"
    },
    "tags": []
   },
   "outputs": [],
   "source": [
    "# from steves_utils.ORACLE.utils_v2 import (\n",
    "#     ALL_DISTANCES_FEET,\n",
    "#     ALL_RUNS,\n",
    "#     ALL_SERIAL_NUMBERS,\n",
    "# )\n",
    "\n",
    "\n",
    "# add_dataset(\n",
    "#     labels=ALL_SERIAL_NUMBERS,\n",
    "#     domains = list(set(ALL_DISTANCES_FEET) - {2,62}),\n",
    "#     num_examples_per_domain_per_label=100,\n",
    "#     pickle_path=os.path.join(get_datasets_base_path(), \"oracle.Run2_framed_2000Examples_stratified_ds.2022A.pkl\"),\n",
    "#     source_or_target_dataset=\"source\",\n",
    "#     x_transform_func=global_x_transform_func,\n",
    "#     domain_modifier=lambda u: f\"oracle1_{u}\"\n",
    "# )\n"
   ]
  },
  {
   "cell_type": "code",
   "execution_count": 16,
   "id": "97dea9d2",
   "metadata": {
    "execution": {
     "iopub.execute_input": "2022-03-23T22:13:59.466332Z",
     "iopub.status.busy": "2022-03-23T22:13:59.464857Z",
     "iopub.status.idle": "2022-03-23T22:13:59.488201Z",
     "shell.execute_reply": "2022-03-23T22:13:59.487370Z"
    },
    "papermill": {
     "duration": 0.047413,
     "end_time": "2022-03-23T22:13:59.488360",
     "exception": false,
     "start_time": "2022-03-23T22:13:59.440947",
     "status": "completed"
    },
    "tags": []
   },
   "outputs": [],
   "source": [
    "# from steves_utils.ORACLE.utils_v2 import (\n",
    "#     ALL_DISTANCES_FEET,\n",
    "#     ALL_RUNS,\n",
    "#     ALL_SERIAL_NUMBERS,\n",
    "# )\n",
    "\n",
    "\n",
    "# add_dataset(\n",
    "#     labels=ALL_SERIAL_NUMBERS,\n",
    "#     domains = list(set(ALL_DISTANCES_FEET) - {2,62,56}),\n",
    "#     num_examples_per_domain_per_label=100,\n",
    "#     pickle_path=os.path.join(get_datasets_base_path(), \"oracle.Run2_framed_2000Examples_stratified_ds.2022A.pkl\"),\n",
    "#     source_or_target_dataset=\"source\",\n",
    "#     x_transform_func=global_x_transform_func,\n",
    "#     domain_modifier=lambda u: f\"oracle2_{u}\"\n",
    "# )"
   ]
  },
  {
   "cell_type": "code",
   "execution_count": 17,
   "id": "6f289866",
   "metadata": {
    "execution": {
     "iopub.execute_input": "2022-03-23T22:13:59.539442Z",
     "iopub.status.busy": "2022-03-23T22:13:59.538558Z",
     "iopub.status.idle": "2022-03-23T22:13:59.562014Z",
     "shell.execute_reply": "2022-03-23T22:13:59.562654Z"
    },
    "papermill": {
     "duration": 0.047365,
     "end_time": "2022-03-23T22:13:59.562840",
     "exception": false,
     "start_time": "2022-03-23T22:13:59.515475",
     "status": "completed"
    },
    "tags": []
   },
   "outputs": [],
   "source": [
    "# add_dataset(\n",
    "#     labels=list(range(19)),\n",
    "#     domains = [0,1,2],\n",
    "#     num_examples_per_domain_per_label=100,\n",
    "#     pickle_path=os.path.join(get_datasets_base_path(), \"metehan.stratified_ds.2022A.pkl\"),\n",
    "#     source_or_target_dataset=\"target\",\n",
    "#     x_transform_func=global_x_transform_func,\n",
    "#     domain_modifier=lambda u: f\"met_{u}\"\n",
    "# )"
   ]
  },
  {
   "cell_type": "code",
   "execution_count": 18,
   "id": "86a863c3",
   "metadata": {
    "execution": {
     "iopub.execute_input": "2022-03-23T22:13:59.615905Z",
     "iopub.status.busy": "2022-03-23T22:13:59.612862Z",
     "iopub.status.idle": "2022-03-23T22:13:59.636256Z",
     "shell.execute_reply": "2022-03-23T22:13:59.635428Z"
    },
    "papermill": {
     "duration": 0.047403,
     "end_time": "2022-03-23T22:13:59.636414",
     "exception": false,
     "start_time": "2022-03-23T22:13:59.589011",
     "status": "completed"
    },
    "tags": []
   },
   "outputs": [],
   "source": [
    "# # from steves_utils.wisig.utils import (\n",
    "# #     ALL_NODES_MINIMUM_100_EXAMPLES,\n",
    "# #     ALL_NODES_MINIMUM_500_EXAMPLES,\n",
    "# #     ALL_NODES_MINIMUM_1000_EXAMPLES,\n",
    "# #     ALL_DAYS\n",
    "# # )\n",
    "\n",
    "# import steves_utils.wisig.utils as wisig\n",
    "\n",
    "\n",
    "# add_dataset(\n",
    "#     labels=wisig.ALL_NODES_MINIMUM_100_EXAMPLES,\n",
    "#     domains = wisig.ALL_DAYS,\n",
    "#     num_examples_per_domain_per_label=100,\n",
    "#     pickle_path=os.path.join(get_datasets_base_path(), \"wisig.node3-19.stratified_ds.2022A.pkl\"),\n",
    "#     source_or_target_dataset=\"target\",\n",
    "#     x_transform_func=global_x_transform_func,\n",
    "#     domain_modifier=lambda u: f\"wisig_{u}\"\n",
    "# )"
   ]
  },
  {
   "cell_type": "code",
   "execution_count": 19,
   "id": "fd5442bc",
   "metadata": {
    "execution": {
     "iopub.execute_input": "2022-03-23T22:13:59.694279Z",
     "iopub.status.busy": "2022-03-23T22:13:59.692913Z",
     "iopub.status.idle": "2022-03-23T22:13:59.715033Z",
     "shell.execute_reply": "2022-03-23T22:13:59.714224Z"
    },
    "papermill": {
     "duration": 0.050476,
     "end_time": "2022-03-23T22:13:59.715190",
     "exception": false,
     "start_time": "2022-03-23T22:13:59.664714",
     "status": "completed"
    },
    "tags": []
   },
   "outputs": [],
   "source": [
    "###################################\n",
    "# Build the dataset\n",
    "###################################\n",
    "train_original_source = Iterable_Aggregator(train_original_source, p.seed)\n",
    "val_original_source = Iterable_Aggregator(val_original_source, p.seed)\n",
    "test_original_source = Iterable_Aggregator(test_original_source, p.seed)\n",
    "\n",
    "\n",
    "train_original_target = Iterable_Aggregator(train_original_target, p.seed)\n",
    "val_original_target = Iterable_Aggregator(val_original_target, p.seed)\n",
    "test_original_target = Iterable_Aggregator(test_original_target, p.seed)\n",
    "\n",
    "# For CNN We only use X and Y. And we only train on the source.\n",
    "# Properly form the data using a transform lambda and Lazy_Iterable_Wrapper. Finally wrap them in a dataloader\n",
    "\n",
    "transform_lambda = lambda ex: ex[1] # Original is (<domain>, <episode>) so we strip down to episode only\n",
    "\n",
    "train_processed_source = Lazy_Iterable_Wrapper(train_original_source, transform_lambda)\n",
    "val_processed_source   = Lazy_Iterable_Wrapper(val_original_source, transform_lambda)\n",
    "test_processed_source  = Lazy_Iterable_Wrapper(test_original_source, transform_lambda)\n",
    "\n",
    "train_processed_target = Lazy_Iterable_Wrapper(train_original_target, transform_lambda)\n",
    "val_processed_target   = Lazy_Iterable_Wrapper(val_original_target, transform_lambda)\n",
    "test_processed_target  = Lazy_Iterable_Wrapper(test_original_target, transform_lambda)\n",
    "\n",
    "datasets = EasyDict({\n",
    "    \"source\": {\n",
    "        \"original\": {\"train\":train_original_source, \"val\":val_original_source, \"test\":test_original_source},\n",
    "        \"processed\": {\"train\":train_processed_source, \"val\":val_processed_source, \"test\":test_processed_source}\n",
    "    },\n",
    "    \"target\": {\n",
    "        \"original\": {\"train\":train_original_target, \"val\":val_original_target, \"test\":test_original_target},\n",
    "        \"processed\": {\"train\":train_processed_target, \"val\":val_processed_target, \"test\":test_processed_target}\n",
    "    },\n",
    "})"
   ]
  },
  {
   "cell_type": "code",
   "execution_count": 20,
   "id": "5b3c01fc",
   "metadata": {
    "execution": {
     "iopub.execute_input": "2022-03-23T22:13:59.772906Z",
     "iopub.status.busy": "2022-03-23T22:13:59.770359Z",
     "iopub.status.idle": "2022-03-23T22:14:32.387219Z",
     "shell.execute_reply": "2022-03-23T22:14:32.386360Z"
    },
    "papermill": {
     "duration": 32.642921,
     "end_time": "2022-03-23T22:14:32.387395",
     "exception": false,
     "start_time": "2022-03-23T22:13:59.744474",
     "status": "completed"
    },
    "tags": []
   },
   "outputs": [
    {
     "name": "stdout",
     "output_type": "stream",
     "text": [
      "{'Wisig_3', 'Wisig_4', 'Wisig_2', 'Wisig_1'}\n"
     ]
    },
    {
     "name": "stdout",
     "output_type": "stream",
     "text": [
      "{'ORACLE.run132', 'ORACLE.run144', 'ORACLE.run138', 'ORACLE.run126', 'ORACLE.run120', 'ORACLE.run114', 'ORACLE.run150', 'ORACLE.run18'}\n"
     ]
    },
    {
     "name": "stdout",
     "output_type": "stream",
     "text": [
      "tensor([[[-0.1343, -0.3880, -1.0370,  ..., -0.9401, -0.8124,  0.0391],\n",
      "         [-0.0121,  0.8889,  0.8102,  ...,  0.7166, -0.3066, -0.4959]],\n",
      "\n",
      "        [[ 0.6982,  0.3944, -0.1245,  ...,  0.2967,  0.0851, -0.6944],\n",
      "         [-0.2860,  0.1054, -0.1087,  ..., -0.5069,  0.0925,  0.0257]],\n",
      "\n",
      "        [[ 0.3453,  0.9361,  1.0282,  ...,  0.4697, -0.4883, -0.1518],\n",
      "         [ 0.3234,  0.0504,  0.2954,  ...,  0.8237,  0.4653,  0.1025]],\n",
      "\n",
      "        ...,\n",
      "\n",
      "        [[ 0.7182, -1.1725, -1.0634,  ...,  0.4047, -0.4240, -0.7154],\n",
      "         [ 0.3508,  0.5828, -0.9640,  ...,  0.3397, -0.0884, -0.9764]],\n",
      "\n",
      "        [[ 0.3096,  0.6632, -0.9032,  ..., -0.2272,  0.3607, -0.6945],\n",
      "         [-0.6845,  0.4985,  0.9529,  ..., -0.1605,  0.2684,  0.3849]],\n",
      "\n",
      "        [[-0.3125,  0.6663,  0.4290,  ..., -0.1989,  0.2344,  0.1492],\n",
      "         [-0.3381, -0.6109,  0.9916,  ...,  0.2529, -0.2216,  0.5569]]])\n"
     ]
    }
   ],
   "source": [
    "from steves_utils.transforms import get_average_magnitude, get_average_power\n",
    "\n",
    "print(set([u for u,_ in val_original_source]))\n",
    "print(set([u for u,_ in val_original_target]))\n",
    "\n",
    "s_x, s_y, q_x, q_y, _ = next(iter(train_processed_source))\n",
    "print(s_x)\n",
    "\n",
    "# for ds in [\n",
    "#     train_processed_source,\n",
    "#     val_processed_source,\n",
    "#     test_processed_source,\n",
    "#     train_processed_target,\n",
    "#     val_processed_target,\n",
    "#     test_processed_target\n",
    "# ]:\n",
    "#     for s_x, s_y, q_x, q_y, _ in ds:\n",
    "#         for X in (s_x, q_x):\n",
    "#             for x in X:\n",
    "#                 assert np.isclose(get_average_magnitude(x.numpy()), 1.0)\n",
    "#                 assert np.isclose(get_average_power(x.numpy()), 1.0)\n",
    "                "
   ]
  },
  {
   "cell_type": "code",
   "execution_count": 21,
   "id": "bbdacba1",
   "metadata": {
    "execution": {
     "iopub.execute_input": "2022-03-23T22:14:32.440508Z",
     "iopub.status.busy": "2022-03-23T22:14:32.439862Z",
     "iopub.status.idle": "2022-03-23T22:14:32.640754Z",
     "shell.execute_reply": "2022-03-23T22:14:32.641066Z"
    },
    "papermill": {
     "duration": 0.229002,
     "end_time": "2022-03-23T22:14:32.641220",
     "exception": false,
     "start_time": "2022-03-23T22:14:32.412218",
     "status": "completed"
    },
    "tags": []
   },
   "outputs": [
    {
     "name": "stdout",
     "output_type": "stream",
     "text": [
      "(2, 256)\n"
     ]
    }
   ],
   "source": [
    "###################################\n",
    "# Build the model\n",
    "###################################\n",
    "# easfsl only wants a tuple for the shape\n",
    "model = Steves_Prototypical_Network(x_net, device=p.device, x_shape=tuple(p.x_shape))\n",
    "optimizer = Adam(params=model.parameters(), lr=p.lr)"
   ]
  },
  {
   "cell_type": "code",
   "execution_count": 22,
   "id": "22b39ac5",
   "metadata": {
    "execution": {
     "iopub.execute_input": "2022-03-23T22:14:32.689412Z",
     "iopub.status.busy": "2022-03-23T22:14:32.689035Z",
     "iopub.status.idle": "2022-03-23T22:34:46.677846Z",
     "shell.execute_reply": "2022-03-23T22:34:46.677501Z"
    },
    "papermill": {
     "duration": 1214.014063,
     "end_time": "2022-03-23T22:34:46.677934",
     "exception": false,
     "start_time": "2022-03-23T22:14:32.663871",
     "status": "completed"
    },
    "tags": []
   },
   "outputs": [
    {
     "name": "stdout",
     "output_type": "stream",
     "text": [
      "epoch: 1, [batch: 1 / 6847], examples_per_second: 29.6907, train_label_loss: 2.5967, \n"
     ]
    },
    {
     "name": "stdout",
     "output_type": "stream",
     "text": [
      "epoch: 1, [batch: 685 / 6847], examples_per_second: 3862.3605, train_label_loss: 0.3631, \n"
     ]
    },
    {
     "name": "stdout",
     "output_type": "stream",
     "text": [
      "epoch: 1, [batch: 1370 / 6847], examples_per_second: 3383.3375, train_label_loss: 0.3811, \n"
     ]
    },
    {
     "name": "stdout",
     "output_type": "stream",
     "text": [
      "epoch: 1, [batch: 2054 / 6847], examples_per_second: 3412.4851, train_label_loss: 0.0048, \n"
     ]
    },
    {
     "name": "stdout",
     "output_type": "stream",
     "text": [
      "epoch: 1, [batch: 2739 / 6847], examples_per_second: 3430.3968, train_label_loss: 0.2137, \n"
     ]
    },
    {
     "name": "stdout",
     "output_type": "stream",
     "text": [
      "epoch: 1, [batch: 3424 / 6847], examples_per_second: 3431.8215, train_label_loss: 0.3665, \n"
     ]
    },
    {
     "name": "stdout",
     "output_type": "stream",
     "text": [
      "epoch: 1, [batch: 4108 / 6847], examples_per_second: 3479.0686, train_label_loss: 0.1804, \n"
     ]
    },
    {
     "name": "stdout",
     "output_type": "stream",
     "text": [
      "epoch: 1, [batch: 4793 / 6847], examples_per_second: 3403.0347, train_label_loss: 0.3146, \n"
     ]
    },
    {
     "name": "stdout",
     "output_type": "stream",
     "text": [
      "epoch: 1, [batch: 5477 / 6847], examples_per_second: 3407.6731, train_label_loss: 0.0114, \n"
     ]
    },
    {
     "name": "stdout",
     "output_type": "stream",
     "text": [
      "epoch: 1, [batch: 6162 / 6847], examples_per_second: 3427.4330, train_label_loss: 0.1523, \n"
     ]
    },
    {
     "name": "stdout",
     "output_type": "stream",
     "text": [
      "=============================================================\n",
      "epoch: 1, source_val_acc_label: 0.9632, target_val_acc_label: 0.1132, source_val_label_loss: 0.1584, target_val_label_loss: 2.7034, \n",
      "=============================================================\n"
     ]
    },
    {
     "name": "stdout",
     "output_type": "stream",
     "text": [
      "New best\n"
     ]
    },
    {
     "name": "stdout",
     "output_type": "stream",
     "text": [
      "epoch: 2, [batch: 1 / 6848], examples_per_second: 1.4571, train_label_loss: 0.2316, \n"
     ]
    },
    {
     "name": "stdout",
     "output_type": "stream",
     "text": [
      "epoch: 2, [batch: 685 / 6848], examples_per_second: 3250.8332, train_label_loss: 0.0044, \n"
     ]
    },
    {
     "name": "stdout",
     "output_type": "stream",
     "text": [
      "epoch: 2, [batch: 1370 / 6848], examples_per_second: 3341.4784, train_label_loss: 0.0626, \n"
     ]
    },
    {
     "name": "stdout",
     "output_type": "stream",
     "text": [
      "epoch: 2, [batch: 2055 / 6848], examples_per_second: 3363.4522, train_label_loss: 0.0133, \n"
     ]
    },
    {
     "name": "stdout",
     "output_type": "stream",
     "text": [
      "epoch: 2, [batch: 2739 / 6848], examples_per_second: 3382.0180, train_label_loss: 0.3277, \n"
     ]
    },
    {
     "name": "stdout",
     "output_type": "stream",
     "text": [
      "epoch: 2, [batch: 3424 / 6848], examples_per_second: 3383.7424, train_label_loss: 0.1048, \n"
     ]
    },
    {
     "name": "stdout",
     "output_type": "stream",
     "text": [
      "epoch: 2, [batch: 4109 / 6848], examples_per_second: 3978.1823, train_label_loss: 0.0181, \n"
     ]
    },
    {
     "name": "stdout",
     "output_type": "stream",
     "text": [
      "epoch: 2, [batch: 4793 / 6848], examples_per_second: 3821.8091, train_label_loss: 0.3860, \n"
     ]
    },
    {
     "name": "stdout",
     "output_type": "stream",
     "text": [
      "epoch: 2, [batch: 5478 / 6848], examples_per_second: 3889.7734, train_label_loss: 0.0214, \n"
     ]
    },
    {
     "name": "stdout",
     "output_type": "stream",
     "text": [
      "epoch: 2, [batch: 6163 / 6848], examples_per_second: 3888.3049, train_label_loss: 0.0581, \n"
     ]
    },
    {
     "name": "stdout",
     "output_type": "stream",
     "text": [
      "=============================================================\n",
      "epoch: 2, source_val_acc_label: 0.9709, target_val_acc_label: 0.1081, source_val_label_loss: 0.1228, target_val_label_loss: 2.7181, \n",
      "=============================================================\n"
     ]
    },
    {
     "name": "stdout",
     "output_type": "stream",
     "text": [
      "epoch: 3, [batch: 1 / 6841], examples_per_second: 1.8862, train_label_loss: 0.0908, \n"
     ]
    },
    {
     "name": "stdout",
     "output_type": "stream",
     "text": [
      "epoch: 3, [batch: 685 / 6841], examples_per_second: 3756.5955, train_label_loss: 0.0150, \n"
     ]
    },
    {
     "name": "stdout",
     "output_type": "stream",
     "text": [
      "epoch: 3, [batch: 1369 / 6841], examples_per_second: 3867.0799, train_label_loss: 0.3378, \n"
     ]
    },
    {
     "name": "stdout",
     "output_type": "stream",
     "text": [
      "epoch: 3, [batch: 2053 / 6841], examples_per_second: 3880.6996, train_label_loss: 0.0312, \n"
     ]
    },
    {
     "name": "stdout",
     "output_type": "stream",
     "text": [
      "epoch: 3, [batch: 2737 / 6841], examples_per_second: 3844.2133, train_label_loss: 0.0126, \n"
     ]
    },
    {
     "name": "stdout",
     "output_type": "stream",
     "text": [
      "epoch: 3, [batch: 3421 / 6841], examples_per_second: 3941.7832, train_label_loss: 0.8956, \n"
     ]
    },
    {
     "name": "stdout",
     "output_type": "stream",
     "text": [
      "epoch: 3, [batch: 4105 / 6841], examples_per_second: 3996.5084, train_label_loss: 0.0106, \n"
     ]
    },
    {
     "name": "stdout",
     "output_type": "stream",
     "text": [
      "epoch: 3, [batch: 4789 / 6841], examples_per_second: 3955.5286, train_label_loss: 0.2662, \n"
     ]
    },
    {
     "name": "stdout",
     "output_type": "stream",
     "text": [
      "epoch: 3, [batch: 5473 / 6841], examples_per_second: 4041.9322, train_label_loss: 0.2170, \n"
     ]
    },
    {
     "name": "stdout",
     "output_type": "stream",
     "text": [
      "epoch: 3, [batch: 6157 / 6841], examples_per_second: 3939.6557, train_label_loss: 0.0570, \n"
     ]
    },
    {
     "name": "stdout",
     "output_type": "stream",
     "text": [
      "=============================================================\n",
      "epoch: 3, source_val_acc_label: 0.9743, target_val_acc_label: 0.0951, source_val_label_loss: 0.1103, target_val_label_loss: 2.7710, \n",
      "=============================================================\n"
     ]
    },
    {
     "name": "stdout",
     "output_type": "stream",
     "text": [
      "epoch: 4, [batch: 1 / 6852], examples_per_second: 1.8807, train_label_loss: 0.1773, \n"
     ]
    },
    {
     "name": "stdout",
     "output_type": "stream",
     "text": [
      "epoch: 4, [batch: 686 / 6852], examples_per_second: 3735.9104, train_label_loss: 0.2206, \n"
     ]
    },
    {
     "name": "stdout",
     "output_type": "stream",
     "text": [
      "epoch: 4, [batch: 1371 / 6852], examples_per_second: 3957.4620, train_label_loss: 0.1906, \n"
     ]
    },
    {
     "name": "stdout",
     "output_type": "stream",
     "text": [
      "epoch: 4, [batch: 2056 / 6852], examples_per_second: 4230.2253, train_label_loss: 0.0035, \n"
     ]
    },
    {
     "name": "stdout",
     "output_type": "stream",
     "text": [
      "epoch: 4, [batch: 2741 / 6852], examples_per_second: 4145.6869, train_label_loss: 0.0507, \n"
     ]
    },
    {
     "name": "stdout",
     "output_type": "stream",
     "text": [
      "epoch: 4, [batch: 3426 / 6852], examples_per_second: 4129.0611, train_label_loss: 0.0010, \n"
     ]
    },
    {
     "name": "stdout",
     "output_type": "stream",
     "text": [
      "epoch: 4, [batch: 4111 / 6852], examples_per_second: 4339.4398, train_label_loss: 0.0069, \n"
     ]
    },
    {
     "name": "stdout",
     "output_type": "stream",
     "text": [
      "epoch: 4, [batch: 4796 / 6852], examples_per_second: 4281.4580, train_label_loss: 0.0647, \n"
     ]
    },
    {
     "name": "stdout",
     "output_type": "stream",
     "text": [
      "epoch: 4, [batch: 5481 / 6852], examples_per_second: 3819.6261, train_label_loss: 0.0585, \n"
     ]
    },
    {
     "name": "stdout",
     "output_type": "stream",
     "text": [
      "epoch: 4, [batch: 6166 / 6852], examples_per_second: 3316.9974, train_label_loss: 0.1393, \n"
     ]
    },
    {
     "name": "stdout",
     "output_type": "stream",
     "text": [
      "=============================================================\n",
      "epoch: 4, source_val_acc_label: 0.9747, target_val_acc_label: 0.0886, source_val_label_loss: 0.1123, target_val_label_loss: 2.8544, \n",
      "=============================================================\n"
     ]
    },
    {
     "name": "stdout",
     "output_type": "stream",
     "text": [
      "epoch: 5, [batch: 1 / 6838], examples_per_second: 1.2504, train_label_loss: 0.2179, \n"
     ]
    },
    {
     "name": "stdout",
     "output_type": "stream",
     "text": [
      "epoch: 5, [batch: 684 / 6838], examples_per_second: 3237.1923, train_label_loss: 0.1006, \n"
     ]
    },
    {
     "name": "stdout",
     "output_type": "stream",
     "text": [
      "epoch: 5, [batch: 1368 / 6838], examples_per_second: 3486.4251, train_label_loss: 0.2887, \n"
     ]
    },
    {
     "name": "stdout",
     "output_type": "stream",
     "text": [
      "epoch: 5, [batch: 2052 / 6838], examples_per_second: 3428.4882, train_label_loss: 0.0267, \n"
     ]
    },
    {
     "name": "stdout",
     "output_type": "stream",
     "text": [
      "epoch: 5, [batch: 2735 / 6838], examples_per_second: 3413.4609, train_label_loss: 0.0213, \n"
     ]
    },
    {
     "name": "stdout",
     "output_type": "stream",
     "text": [
      "epoch: 5, [batch: 3419 / 6838], examples_per_second: 3414.9796, train_label_loss: 0.3295, \n"
     ]
    },
    {
     "name": "stdout",
     "output_type": "stream",
     "text": [
      "epoch: 5, [batch: 4103 / 6838], examples_per_second: 3387.3156, train_label_loss: 0.0039, \n"
     ]
    },
    {
     "name": "stdout",
     "output_type": "stream",
     "text": [
      "epoch: 5, [batch: 4786 / 6838], examples_per_second: 3678.8375, train_label_loss: 0.0031, \n"
     ]
    },
    {
     "name": "stdout",
     "output_type": "stream",
     "text": [
      "epoch: 5, [batch: 5470 / 6838], examples_per_second: 3085.3211, train_label_loss: 0.0074, \n"
     ]
    },
    {
     "name": "stdout",
     "output_type": "stream",
     "text": [
      "epoch: 5, [batch: 6154 / 6838], examples_per_second: 2942.3497, train_label_loss: 0.0661, \n"
     ]
    },
    {
     "name": "stdout",
     "output_type": "stream",
     "text": [
      "=============================================================\n",
      "epoch: 5, source_val_acc_label: 0.9748, target_val_acc_label: 0.0888, source_val_label_loss: 0.1136, target_val_label_loss: 2.8892, \n",
      "=============================================================\n"
     ]
    },
    {
     "name": "stdout",
     "output_type": "stream",
     "text": [
      "Patience (3) exhausted\n"
     ]
    }
   ],
   "source": [
    "###################################\n",
    "# train\n",
    "###################################\n",
    "jig = PTN_Train_Eval_Test_Jig(model, p.BEST_MODEL_PATH, p.device)\n",
    "\n",
    "jig.train(\n",
    "    train_iterable=datasets.source.processed.train,\n",
    "    source_val_iterable=datasets.source.processed.val,\n",
    "    target_val_iterable=datasets.target.processed.val,\n",
    "    num_epochs=p.n_epoch,\n",
    "    num_logs_per_epoch=p.NUM_LOGS_PER_EPOCH,\n",
    "    patience=p.patience,\n",
    "    optimizer=optimizer,\n",
    "    criteria_for_best=p.criteria_for_best,\n",
    ")"
   ]
  },
  {
   "cell_type": "code",
   "execution_count": 23,
   "id": "31e8fabf",
   "metadata": {
    "execution": {
     "iopub.execute_input": "2022-03-23T22:34:46.756691Z",
     "iopub.status.busy": "2022-03-23T22:34:46.756318Z",
     "iopub.status.idle": "2022-03-23T22:34:46.789143Z",
     "shell.execute_reply": "2022-03-23T22:34:46.788461Z"
    },
    "papermill": {
     "duration": 0.074516,
     "end_time": "2022-03-23T22:34:46.789303",
     "exception": false,
     "start_time": "2022-03-23T22:34:46.714787",
     "status": "completed"
    },
    "tags": []
   },
   "outputs": [],
   "source": [
    "total_experiment_time_secs = time.time() - start_time_secs"
   ]
  },
  {
   "cell_type": "code",
   "execution_count": 24,
   "id": "87b9595b",
   "metadata": {
    "execution": {
     "iopub.execute_input": "2022-03-23T22:34:46.873487Z",
     "iopub.status.busy": "2022-03-23T22:34:46.873093Z",
     "iopub.status.idle": "2022-03-23T22:45:13.775661Z",
     "shell.execute_reply": "2022-03-23T22:45:13.774917Z"
    },
    "papermill": {
     "duration": 626.944205,
     "end_time": "2022-03-23T22:45:13.775844",
     "exception": false,
     "start_time": "2022-03-23T22:34:46.831639",
     "status": "completed"
    },
    "tags": []
   },
   "outputs": [],
   "source": [
    "###################################\n",
    "# Evaluate the model\n",
    "###################################\n",
    "source_test_label_accuracy, source_test_label_loss = jig.test(datasets.source.processed.test)\n",
    "target_test_label_accuracy, target_test_label_loss = jig.test(datasets.target.processed.test)\n",
    "\n",
    "source_val_label_accuracy, source_val_label_loss = jig.test(datasets.source.processed.val)\n",
    "target_val_label_accuracy, target_val_label_loss = jig.test(datasets.target.processed.val)\n",
    "\n",
    "history = jig.get_history()\n",
    "\n",
    "total_epochs_trained = len(history[\"epoch_indices\"])\n",
    "\n",
    "val_dl = Iterable_Aggregator((datasets.source.original.val,datasets.target.original.val))\n",
    "\n",
    "confusion = ptn_confusion_by_domain_over_dataloader(model, p.device, val_dl)\n",
    "per_domain_accuracy = per_domain_accuracy_from_confusion(confusion)\n",
    "\n",
    "# Add a key to per_domain_accuracy for if it was a source domain\n",
    "for domain, accuracy in per_domain_accuracy.items():\n",
    "    per_domain_accuracy[domain] = {\n",
    "        \"accuracy\": accuracy,\n",
    "        \"source?\": domain in p.domains_source\n",
    "    }\n",
    "\n",
    "# Do an independent accuracy assesment JUST TO BE SURE!\n",
    "# _source_test_label_accuracy = independent_accuracy_assesment(model, datasets.source.processed.test, p.device)\n",
    "# _target_test_label_accuracy = independent_accuracy_assesment(model, datasets.target.processed.test, p.device)\n",
    "# _source_val_label_accuracy = independent_accuracy_assesment(model, datasets.source.processed.val, p.device)\n",
    "# _target_val_label_accuracy = independent_accuracy_assesment(model, datasets.target.processed.val, p.device)\n",
    "\n",
    "# assert(_source_test_label_accuracy == source_test_label_accuracy)\n",
    "# assert(_target_test_label_accuracy == target_test_label_accuracy)\n",
    "# assert(_source_val_label_accuracy == source_val_label_accuracy)\n",
    "# assert(_target_val_label_accuracy == target_val_label_accuracy)\n",
    "\n",
    "experiment = {\n",
    "    \"experiment_name\": p.experiment_name,\n",
    "    \"parameters\": dict(p),\n",
    "    \"results\": {\n",
    "        \"source_test_label_accuracy\": source_test_label_accuracy,\n",
    "        \"source_test_label_loss\": source_test_label_loss,\n",
    "        \"target_test_label_accuracy\": target_test_label_accuracy,\n",
    "        \"target_test_label_loss\": target_test_label_loss,\n",
    "        \"source_val_label_accuracy\": source_val_label_accuracy,\n",
    "        \"source_val_label_loss\": source_val_label_loss,\n",
    "        \"target_val_label_accuracy\": target_val_label_accuracy,\n",
    "        \"target_val_label_loss\": target_val_label_loss,\n",
    "        \"total_epochs_trained\": total_epochs_trained,\n",
    "        \"total_experiment_time_secs\": total_experiment_time_secs,\n",
    "        \"confusion\": confusion,\n",
    "        \"per_domain_accuracy\": per_domain_accuracy,\n",
    "    },\n",
    "    \"history\": history,\n",
    "    \"dataset_metrics\": get_dataset_metrics(datasets, \"ptn\"),\n",
    "}"
   ]
  },
  {
   "cell_type": "code",
   "execution_count": 25,
   "id": "54a21829",
   "metadata": {
    "execution": {
     "iopub.execute_input": "2022-03-23T22:45:13.864124Z",
     "iopub.status.busy": "2022-03-23T22:45:13.863737Z",
     "iopub.status.idle": "2022-03-23T22:45:14.084156Z",
     "shell.execute_reply": "2022-03-23T22:45:14.084848Z"
    },
    "papermill": {
     "duration": 0.262143,
     "end_time": "2022-03-23T22:45:14.085052",
     "exception": false,
     "start_time": "2022-03-23T22:45:13.822909",
     "status": "completed"
    },
    "tags": []
   },
   "outputs": [
    {
     "data": {
      "image/png": "[encoded data removed]",
      "text/plain": [
       "<Figure size 1080x504 with 1 Axes>"
      ]
     },
     "metadata": {
      "needs_background": "light"
     },
     "output_type": "display_data"
    }
   ],
   "source": [
    "ax = get_loss_curve(experiment)\n",
    "plt.show()"
   ]
  },
  {
   "cell_type": "code",
   "execution_count": 26,
   "id": "fd8a0f60",
   "metadata": {
    "execution": {
     "iopub.execute_input": "2022-03-23T22:45:14.169936Z",
     "iopub.status.busy": "2022-03-23T22:45:14.169302Z",
     "iopub.status.idle": "2022-03-23T22:45:14.477608Z",
     "shell.execute_reply": "2022-03-23T22:45:14.477201Z"
    },
    "papermill": {
     "duration": 0.350362,
     "end_time": "2022-03-23T22:45:14.477708",
     "exception": false,
     "start_time": "2022-03-23T22:45:14.127346",
     "status": "completed"
    },
    "tags": []
   },
   "outputs": [
    {
     "data": {
      "text/plain": [
       "<AxesSubplot:title={'center':'Results'}>"
      ]
     },
     "execution_count": 26,
     "metadata": {},
     "output_type": "execute_result"
    },
    {
     "data": {
      "image/png": "[encoded data removed]",
      "text/plain": [
       "<Figure size 1080x504 with 1 Axes>"
      ]
     },
     "metadata": {
      "needs_background": "light"
     },
     "output_type": "display_data"
    }
   ],
   "source": [
    "get_results_table(experiment)"
   ]
  },
  {
   "cell_type": "code",
   "execution_count": 27,
   "id": "cf8dc689",
   "metadata": {
    "execution": {
     "iopub.execute_input": "2022-03-23T22:45:14.560410Z",
     "iopub.status.busy": "2022-03-23T22:45:14.560038Z",
     "iopub.status.idle": "2022-03-23T22:45:14.816874Z",
     "shell.execute_reply": "2022-03-23T22:45:14.817568Z"
    },
    "papermill": {
     "duration": 0.300524,
     "end_time": "2022-03-23T22:45:14.817758",
     "exception": false,
     "start_time": "2022-03-23T22:45:14.517234",
     "status": "completed"
    },
    "tags": []
   },
   "outputs": [
    {
     "data": {
      "text/plain": [
       "<AxesSubplot:title={'center':'Per Domain Validation Accuracy'}, xlabel='domain'>"
      ]
     },
     "execution_count": 27,
     "metadata": {},
     "output_type": "execute_result"
    },
    {
     "data": {
      "image/png": "[encoded data removed]",
      "text/plain": [
       "<Figure size 1080x504 with 1 Axes>"
      ]
     },
     "metadata": {
      "needs_background": "light"
     },
     "output_type": "display_data"
    }
   ],
   "source": [
    "get_domain_accuracies(experiment)"
   ]
  },
  {
   "cell_type": "code",
   "execution_count": 28,
   "id": "a74ae082",
   "metadata": {
    "execution": {
     "iopub.execute_input": "2022-03-23T22:45:14.905729Z",
     "iopub.status.busy": "2022-03-23T22:45:14.905158Z",
     "iopub.status.idle": "2022-03-23T22:45:14.931802Z",
     "shell.execute_reply": "2022-03-23T22:45:14.932482Z"
    },
    "papermill": {
     "duration": 0.071446,
     "end_time": "2022-03-23T22:45:14.932663",
     "exception": false,
     "start_time": "2022-03-23T22:45:14.861217",
     "status": "completed"
    },
    "tags": []
   },
   "outputs": [
    {
     "name": "stdout",
     "output_type": "stream",
     "text": [
      "Source Test Label Accuracy: 0.9608072916666667 Target Test Label Accuracy: 0.11390625\n",
      "Source Val Label Accuracy: 0.9631826617179216 Target Val Label Accuracy: 0.11317057291666667\n"
     ]
    }
   ],
   "source": [
    "print(\"Source Test Label Accuracy:\", experiment[\"results\"][\"source_test_label_accuracy\"], \"Target Test Label Accuracy:\", experiment[\"results\"][\"target_test_label_accuracy\"])\n",
    "print(\"Source Val Label Accuracy:\", experiment[\"results\"][\"source_val_label_accuracy\"], \"Target Val Label Accuracy:\", experiment[\"results\"][\"target_val_label_accuracy\"])"
   ]
  },
  {
   "cell_type": "code",
   "execution_count": 29,
   "id": "dacca602",
   "metadata": {
    "execution": {
     "iopub.execute_input": "2022-03-23T22:45:15.024073Z",
     "iopub.status.busy": "2022-03-23T22:45:15.023703Z",
     "iopub.status.idle": "2022-03-23T22:45:15.050692Z",
     "shell.execute_reply": "2022-03-23T22:45:15.051375Z"
    },
    "papermill": {
     "duration": 0.071935,
     "end_time": "2022-03-23T22:45:15.051569",
     "exception": false,
     "start_time": "2022-03-23T22:45:14.979634",
     "status": "completed"
    },
    "tags": [
     "experiment_json"
    ]
   },
   "outputs": [
    {
     "data": {
      "text/plain": [
       "'{\"experiment_name\": \"tl_1v2:wisig-oracle.run1\", \"parameters\": {\"experiment_name\": \"tl_1v2:wisig-oracle.run1\", \"device\": \"cuda\", \"lr\": 0.0001, \"n_shot\": 3, \"n_query\": 2, \"train_k_factor\": 3, \"val_k_factor\": 2, \"test_k_factor\": 2, \"torch_default_dtype\": \"torch.float32\", \"n_epoch\": 50, \"patience\": 3, \"criteria_for_best\": \"target_accuracy\", \"x_net\": [{\"class\": \"nnReshape\", \"kargs\": {\"shape\": [-1, 1, 2, 256]}}, {\"class\": \"Conv2d\", \"kargs\": {\"in_channels\": 1, \"out_channels\": 256, \"kernel_size\": [1, 7], \"bias\": false, \"padding\": [0, 3]}}, {\"class\": \"ReLU\", \"kargs\": {\"inplace\": true}}, {\"class\": \"BatchNorm2d\", \"kargs\": {\"num_features\": 256}}, {\"class\": \"Conv2d\", \"kargs\": {\"in_channels\": 256, \"out_channels\": 80, \"kernel_size\": [2, 7], \"bias\": true, \"padding\": [0, 3]}}, {\"class\": \"ReLU\", \"kargs\": {\"inplace\": true}}, {\"class\": \"BatchNorm2d\", \"kargs\": {\"num_features\": 80}}, {\"class\": \"Flatten\", \"kargs\": {}}, {\"class\": \"Linear\", \"kargs\": {\"in_features\": 20480, \"out_features\": 256}}, {\"class\": \"ReLU\", \"kargs\": {\"inplace\": true}}, {\"class\": \"BatchNorm1d\", \"kargs\": {\"num_features\": 256}}, {\"class\": \"Linear\", \"kargs\": {\"in_features\": 256, \"out_features\": 256}}], \"NUM_LOGS_PER_EPOCH\": 10, \"BEST_MODEL_PATH\": \"./best_model.pth\", \"n_way\": 16, \"datasets\": [{\"labels\": [\"1-10\", \"1-12\", \"1-14\", \"1-16\", \"1-18\", \"1-19\", \"1-8\", \"10-11\", \"10-17\", \"10-4\", \"10-7\", \"11-1\", \"11-10\", \"11-19\", \"11-20\", \"11-4\", \"11-7\", \"12-19\", \"12-20\", \"12-7\", \"13-14\", \"13-18\", \"13-19\", \"13-20\", \"13-3\", \"13-7\", \"14-10\", \"14-11\", \"14-12\", \"14-13\", \"14-14\", \"14-19\", \"14-20\", \"14-7\", \"14-8\", \"14-9\", \"15-1\", \"15-19\", \"15-6\", \"16-1\", \"16-16\", \"16-19\", \"16-20\", \"17-10\", \"17-11\", \"18-1\", \"18-10\", \"18-11\", \"18-12\", \"18-13\", \"18-14\", \"18-15\", \"18-16\", \"18-17\", \"18-19\", \"18-2\", \"18-20\", \"18-4\", \"18-5\", \"18-7\", \"18-8\", \"18-9\", \"19-1\", \"19-10\", \"19-11\", \"19-12\", \"19-13\", \"19-14\", \"19-15\", \"19-19\", \"19-2\", \"19-20\", \"19-3\", \"19-4\", \"19-6\", \"19-7\", \"19-8\", \"19-9\", \"2-1\", \"2-13\", \"2-15\", \"2-3\", \"2-4\", \"2-5\", \"2-6\", \"2-7\", \"2-8\", \"20-1\", \"20-12\", \"20-14\", \"20-15\", \"20-16\", \"20-18\", \"20-19\", \"20-20\", \"20-3\", \"20-4\", \"20-5\", \"20-7\", \"20-8\", \"3-1\", \"3-13\", \"3-18\", \"3-2\", \"3-8\", \"4-1\", \"4-10\", \"4-11\", \"5-1\", \"5-5\", \"6-1\", \"6-15\", \"6-6\", \"7-10\", \"7-11\", \"7-12\", \"7-13\", \"7-14\", \"7-7\", \"7-8\", \"7-9\", \"8-1\", \"8-13\", \"8-14\", \"8-18\", \"8-20\", \"8-3\", \"8-8\", \"9-1\", \"9-7\"], \"domains\": [1, 2, 3, 4], \"num_examples_per_domain_per_label\": -1, \"pickle_path\": \"/root/csc500-main/datasets/wisig.node3-19.stratified_ds.2022A.pkl\", \"source_or_target_dataset\": \"source\", \"x_transforms\": [\"unit_power\"], \"episode_transforms\": [], \"domain_prefix\": \"Wisig_\"}, {\"labels\": [\"3123D52\", \"3123D65\", \"3123D79\", \"3123D80\", \"3123D54\", \"3123D70\", \"3123D7B\", \"3123D89\", \"3123D58\", \"3123D76\", \"3123D7D\", \"3123EFE\", \"3123D64\", \"3123D78\", \"3123D7E\", \"3124E4A\"], \"domains\": [32, 38, 8, 44, 14, 50, 20, 26], \"num_examples_per_domain_per_label\": 10000, \"pickle_path\": \"/root/csc500-main/datasets/oracle.Run1_10kExamples_stratified_ds.2022A.pkl\", \"source_or_target_dataset\": \"target\", \"x_transforms\": [\"unit_power\"], \"episode_transforms\": [], \"domain_prefix\": \"ORACLE.run1\"}], \"dataset_seed\": 154325, \"seed\": 154325, \"x_shape\": [2, 256], \"domains_source\": [\"Wisig_1\", \"Wisig_2\", \"Wisig_3\", \"Wisig_4\"], \"domains_target\": [\"ORACLE.run132\", \"ORACLE.run138\", \"ORACLE.run18\", \"ORACLE.run144\", \"ORACLE.run114\", \"ORACLE.run150\", \"ORACLE.run120\", \"ORACLE.run126\"]}, \"results\": {\"source_test_label_accuracy\": 0.9608072916666667, \"source_test_label_loss\": 0.1681273877620697, \"target_test_label_accuracy\": 0.11390625, \"target_test_label_loss\": 2.701359987258911, \"source_val_label_accuracy\": 0.9631826617179216, \"source_val_label_loss\": 0.15843920409679413, \"target_val_label_accuracy\": 0.11317057291666667, \"target_val_label_loss\": 2.703423023223877, \"total_epochs_trained\": 5, \"total_experiment_time_secs\": 1380.622684955597, \"confusion\": {\"Wisig_2\": {\"56\": {\"56\": 12}, \"12\": {\"12\": 84, \"8\": 1, \"78\": 1, \"94\": 1, \"70\": 1}, \"15\": {\"15\": 113, \"26\": 1, \"44\": 1, \"24\": 1}, \"26\": {\"26\": 128, \"24\": 2, \"21\": 1, \"84\": 1}, \"82\": {\"82\": 36}, \"9\": {\"9\": 32}, \"49\": {\"49\": 23, \"11\": 1}, \"55\": {\"55\": 16}, \"102\": {\"102\": 124}, \"85\": {\"85\": 32}, \"73\": {\"73\": 28}, \"47\": {\"47\": 9, \"15\": 1, \"84\": 1, \"94\": 1}, \"20\": {\"20\": 15, \"24\": 1}, \"117\": {\"117\": 112, \"87\": 1, \"21\": 2, \"39\": 1}, \"122\": {\"122\": 128, \"73\": 1, \"87\": 1, \"100\": 1, \"71\": 1, \"70\": 4, \"5\": 1, \"39\": 1, \"27\": 2}, \"113\": {\"113\": 70, \"69\": 1, \"23\": 1}, \"87\": {\"21\": 2, \"87\": 102, \"83\": 1, \"71\": 1, \"69\": 1, \"43\": 2, \"24\": 1, \"93\": 1, \"30\": 1}, \"21\": {\"21\": 47, \"59\": 1}, \"106\": {\"106\": 115, \"12\": 1, \"0\": 1, \"27\": 1, \"21\": 1, \"43\": 1}, \"3\": {\"3\": 132, \"88\": 1, \"7\": 1, \"94\": 1, \"69\": 1}, \"126\": {\"126\": 120}, \"41\": {\"41\": 19, \"52\": 1}, \"76\": {\"76\": 16}, \"60\": {\"60\": 27, \"70\": 1}, \"94\": {\"94\": 60, \"88\": 1, \"24\": 2, \"36\": 1}, \"50\": {\"50\": 16}, \"97\": {\"97\": 20}, \"115\": {\"115\": 12}, \"38\": {\"38\": 16}, \"43\": {\"43\": 114, \"0\": 1, \"94\": 1, \"106\": 1, \"84\": 1, \"113\": 1, \"5\": 1, \"21\": 1, \"78\": 1, \"70\": 1, \"24\": 1}, \"67\": {\"67\": 16}, \"18\": {\"18\": 121, \"21\": 1, \"0\": 1, \"25\": 1, \"94\": 2, \"4\": 1, \"126\": 1}, \"23\": {\"23\": 34, \"48\": 1, \"121\": 1, \"12\": 1, \"83\": 1, \"29\": 2, \"60\": 1, \"20\": 1, \"122\": 2}, \"63\": {\"63\": 20}, \"127\": {\"127\": 119, \"43\": 2, \"70\": 1, \"24\": 1, \"26\": 1}, \"72\": {\"72\": 26, \"77\": 1, \"31\": 1}, \"128\": {\"128\": 19, \"101\": 1, \"59\": 2, \"49\": 1, \"47\": 1}, \"7\": {\"7\": 124, \"88\": 1, \"26\": 1, \"127\": 1, \"33\": 1}, \"108\": {\"108\": 134}, \"16\": {\"16\": 104, \"88\": 1, \"5\": 1, \"93\": 1, \"97\": 1, \"23\": 1, \"31\": 1, \"77\": 1, \"43\": 1, \"21\": 1, \"122\": 1}, \"29\": {\"29\": 32}, \"61\": {\"61\": 19, \"94\": 1}, \"104\": {\"104\": 20}, \"120\": {\"120\": 20}, \"124\": {\"124\": 123, \"82\": 1}, \"34\": {\"115\": 1, \"34\": 29, \"8\": 1, \"45\": 1}, \"84\": {\"84\": 87, \"9\": 1, \"87\": 1, \"11\": 2, \"73\": 1}, \"103\": {\"103\": 16}, \"100\": {\"100\": 16}, \"40\": {\"40\": 130, \"11\": 1, \"43\": 1, \"108\": 1, \"113\": 1, \"111\": 1, \"21\": 1, \"101\": 1, \"39\": 1, \"24\": 1, \"122\": 1}, \"35\": {\"35\": 12}, \"96\": {\"96\": 20}, \"101\": {\"101\": 119, \"98\": 1}, \"71\": {\"71\": 95, \"24\": 1, \"36\": 1, \"4\": 2, \"105\": 1}, \"81\": {\"81\": 21, \"109\": 1, \"110\": 1, \"77\": 1}, \"74\": {\"74\": 14, \"94\": 1, \"46\": 1}, \"119\": {\"119\": 20}, \"5\": {\"5\": 108, \"17\": 1, \"69\": 1, \"24\": 1, \"115\": 1}, \"68\": {\"68\": 16}, \"37\": {\"13\": 1, \"37\": 15}, \"58\": {\"58\": 20}, \"109\": {\"107\": 1, \"109\": 93, \"44\": 1, \"18\": 1, \"5\": 1, \"118\": 1, \"94\": 1, \"0\": 1}, \"107\": {\"107\": 58, \"125\": 1, \"36\": 1, \"109\": 1, \"4\": 1, \"108\": 1, \"106\": 1}, \"13\": {\"13\": 11, \"72\": 1, \"94\": 1, \"52\": 1, \"82\": 1, \"87\": 1}, \"52\": {\"52\": 19, \"124\": 1}, \"77\": {\"77\": 15, \"23\": 1}, \"95\": {\"95\": 36}, \"44\": {\"44\": 100}, \"88\": {\"88\": 118, \"126\": 2, \"24\": 1, \"23\": 1}, \"91\": {\"91\": 25, \"29\": 2, \"107\": 1}, \"93\": {\"93\": 137, \"21\": 1}, \"8\": {\"8\": 121, \"18\": 2, \"94\": 1}, \"1\": {\"1\": 111, \"24\": 2, \"36\": 1}, \"45\": {\"45\": 15, \"59\": 1}, \"111\": {\"111\": 123, \"62\": 1, \"127\": 1, \"21\": 1}, \"116\": {\"116\": 26, \"70\": 1, \"80\": 1}, \"48\": {\"48\": 20}, \"57\": {\"57\": 18, \"68\": 1, \"24\": 1}, \"10\": {\"10\": 56, \"105\": 1, \"12\": 1, \"118\": 1, \"26\": 1}, \"129\": {\"129\": 32}, \"98\": {\"98\": 115, \"26\": 1, \"24\": 1, \"94\": 1}, \"65\": {\"65\": 19, \"10\": 1}, \"6\": {\"6\": 30, \"91\": 2}, \"75\": {\"75\": 15, \"85\": 1}, \"14\": {\"14\": 46, \"30\": 1, \"106\": 1}, \"30\": {\"30\": 104, \"54\": 1, \"12\": 1, \"102\": 1, \"93\": 1, \"3\": 1, \"59\": 2, \"39\": 1}, \"83\": {\"83\": 40}, \"69\": {\"69\": 125, \"7\": 1, \"13\": 1, \"126\": 1}, \"125\": {\"125\": 145, \"109\": 1}, \"31\": {\"31\": 20}, \"118\": {\"118\": 67, \"43\": 1}, \"53\": {\"53\": 15, \"19\": 1}, \"54\": {\"54\": 20}, \"92\": {\"92\": 28}, \"19\": {\"19\": 28}, \"27\": {\"27\": 58, \"49\": 1, \"25\": 1, \"36\": 5, \"77\": 2, \"24\": 1}, \"17\": {\"17\": 15, \"59\": 1}, \"4\": {\"4\": 87, \"16\": 1}, \"36\": {\"27\": 3, \"36\": 118, \"94\": 1, \"29\": 1, \"24\": 1, \"39\": 1, \"43\": 2, \"108\": 1}, \"90\": {\"90\": 134, \"2\": 1, \"26\": 1}, \"64\": {\"64\": 15, \"24\": 1}, \"66\": {\"66\": 19, \"86\": 1}, \"46\": {\"46\": 14, \"16\": 1, \"24\": 1}, \"86\": {\"86\": 32}, \"114\": {\"114\": 108, \"0\": 1, \"87\": 1}, \"32\": {\"86\": 1, \"32\": 20, \"101\": 1, \"82\": 1, \"10\": 1, \"75\": 1, \"66\": 1, \"104\": 2, \"107\": 1, \"95\": 1, \"50\": 1, \"34\": 1, \"14\": 3, \"88\": 1}, \"78\": {\"78\": 42, \"40\": 1, \"43\": 1, \"87\": 1, \"4\": 1, \"116\": 1, \"10\": 1}, \"33\": {\"33\": 136, \"93\": 1, \"73\": 1}, \"70\": {\"70\": 115, \"89\": 1, \"122\": 3, \"24\": 1, \"93\": 1, \"78\": 1, \"110\": 1, \"69\": 1}, \"0\": {\"0\": 111, \"39\": 2, \"26\": 1, \"69\": 2}, \"110\": {\"110\": 36, \"61\": 1, \"108\": 1, \"70\": 2}, \"2\": {\"2\": 26, \"113\": 1, \"16\": 1, \"72\": 2, \"55\": 1, \"81\": 1}, \"28\": {\"28\": 18, \"23\": 1, \"10\": 1}, \"51\": {\"51\": 17, \"58\": 1, \"9\": 1, \"77\": 1}, \"79\": {\"79\": 16}, \"42\": {\"42\": 28}, \"112\": {\"112\": 12, \"5\": 1, \"3\": 1, \"126\": 1, \"49\": 1}, \"89\": {\"89\": 34, \"92\": 2}, \"59\": {\"59\": 16}, \"105\": {\"105\": 126, \"24\": 1, \"62\": 1}, \"121\": {\"121\": 33, \"23\": 1, \"18\": 1, \"113\": 1}, \"11\": {\"11\": 74, \"98\": 1, \"49\": 2, \"126\": 1, \"23\": 1, \"94\": 1}, \"99\": {\"99\": 30, \"12\": 1, \"33\": 1}, \"25\": {\"25\": 16}, \"62\": {\"62\": 120, \"94\": 1, \"22\": 1, \"105\": 1, \"102\": 1, \"10\": 1, \"24\": 2, \"126\": 1}, \"123\": {\"123\": 16}, \"24\": {\"24\": 108, \"12\": 1, \"70\": 1, \"30\": 1, \"43\": 1}, \"80\": {\"80\": 16}, \"39\": {\"39\": 94, \"117\": 1, \"0\": 1, \"24\": 1, \"88\": 1, \"94\": 1, \"33\": 1}, \"22\": {\"22\": 18, \"10\": 1, \"112\": 1}}, \"Wisig_4\": {\"32\": {\"32\": 22, \"22\": 1, \"86\": 1, \"23\": 1, \"76\": 1, \"109\": 2}, \"22\": {\"22\": 15, \"46\": 1}, \"69\": {\"69\": 113, \"122\": 1, \"6\": 1, \"113\": 1, \"30\": 1, \"70\": 1, \"16\": 1, \"0\": 1}, \"65\": {\"65\": 12}, \"91\": {\"91\": 23, \"85\": 1}, \"63\": {\"63\": 16}, \"127\": {\"63\": 1, \"127\": 104, \"111\": 1, \"4\": 1, \"7\": 1}, \"11\": {\"11\": 136, \"36\": 1, \"81\": 1}, \"12\": {\"12\": 93, \"78\": 1, \"34\": 1, \"126\": 1, \"122\": 1, \"105\": 1, \"7\": 2}, \"111\": {\"111\": 125, \"89\": 1, \"95\": 1, \"126\": 1}, \"53\": {\"53\": 14, \"122\": 1, \"70\": 1}, \"73\": {\"73\": 22, \"53\": 1, \"78\": 1}, \"3\": {\"3\": 134, \"21\": 1, \"84\": 1}, \"83\": {\"83\": 27, \"32\": 1}, \"88\": {\"88\": 125, \"70\": 3, \"12\": 1, \"108\": 1}, \"87\": {\"87\": 127, \"108\": 1, \"105\": 4}, \"2\": {\"2\": 23, \"126\": 4, \"26\": 1}, \"86\": {\"86\": 28}, \"16\": {\"16\": 116, \"21\": 1, \"118\": 2, \"129\": 1, \"111\": 1, \"39\": 1}, \"21\": {\"21\": 31, \"100\": 1, \"0\": 1, \"12\": 1, \"1\": 1, \"60\": 1, \"58\": 1, \"121\": 1, \"51\": 1, \"122\": 1}, \"96\": {\"96\": 19, \"21\": 1}, \"100\": {\"100\": 20}, \"7\": {\"7\": 118, \"108\": 1, \"113\": 1}, \"75\": {\"75\": 15, \"54\": 1}, \"10\": {\"10\": 117, \"111\": 1, \"5\": 1, \"27\": 1, \"36\": 1, \"126\": 1, \"101\": 1, \"8\": 1}, \"43\": {\"43\": 114, \"78\": 1, \"10\": 1, \"113\": 1, \"60\": 1, \"19\": 1, \"126\": 1}, \"92\": {\"92\": 27, \"122\": 1}, \"62\": {\"62\": 54, \"113\": 1, \"40\": 1, \"43\": 1, \"84\": 1, \"69\": 2}, \"31\": {\"31\": 16}, \"0\": {\"0\": 113, \"122\": 1}, \"45\": {\"45\": 16}, \"85\": {\"85\": 27, \"54\": 1}, \"119\": {\"119\": 16}, \"46\": {\"46\": 20}, \"71\": {\"71\": 97, \"50\": 2, \"114\": 1, \"3\": 2, \"113\": 1, \"109\": 1}, \"8\": {\"8\": 129, \"10\": 1, \"7\": 1, \"70\": 1, \"27\": 1, \"113\": 1}, \"118\": {\"118\": 107, \"39\": 1, \"122\": 1, \"70\": 1, \"101\": 1, \"108\": 1}, \"1\": {\"1\": 96, \"85\": 1, \"33\": 3, \"94\": 1, \"106\": 1, \"126\": 1, \"122\": 1, \"21\": 1, \"10\": 1, \"127\": 2}, \"38\": {\"38\": 15, \"108\": 1}, \"30\": {\"30\": 70, \"49\": 1, \"24\": 1, \"51\": 1, \"21\": 1, \"42\": 1, \"10\": 1}, \"66\": {\"66\": 14, \"44\": 1, \"90\": 1}, \"9\": {\"9\": 28}, \"5\": {\"5\": 135, \"72\": 1}, \"24\": {\"24\": 104, \"36\": 11, \"15\": 1, \"30\": 1, \"26\": 1, \"27\": 1, \"10\": 1}, \"97\": {\"97\": 20}, \"67\": {\"67\": 10, \"115\": 1, \"123\": 2, \"48\": 1, \"23\": 1, \"113\": 1}, \"19\": {\"19\": 27, \"110\": 1}, \"77\": {\"77\": 12}, \"26\": {\"26\": 117, \"111\": 1}, \"115\": {\"10\": 1, \"115\": 13, \"128\": 1, \"124\": 1}, \"50\": {\"50\": 16}, \"120\": {\"120\": 20}, \"102\": {\"102\": 127, \"14\": 1}, \"29\": {\"29\": 32}, \"44\": {\"44\": 63, \"63\": 1}, \"124\": {\"124\": 117, \"118\": 1}, \"78\": {\"78\": 25, \"17\": 1, \"21\": 2, \"34\": 1, \"58\": 1, \"84\": 1, \"111\": 1, \"89\": 1, \"88\": 1, \"60\": 1, \"43\": 1}, \"104\": {\"104\": 16}, \"105\": {\"105\": 87, \"0\": 1, \"129\": 1, \"87\": 8, \"39\": 1, \"101\": 1, \"36\": 1}, \"28\": {\"28\": 20}, \"37\": {\"37\": 16}, \"107\": {\"107\": 127, \"122\": 1, \"1\": 1, \"115\": 1, \"84\": 1, \"15\": 1}, \"6\": {\"6\": 23, \"10\": 1}, \"17\": {\"17\": 18, \"104\": 2}, \"57\": {\"57\": 16}, \"121\": {\"121\": 23, \"28\": 1, \"13\": 2, \"51\": 1, \"34\": 3, \"21\": 1, \"92\": 1}, \"58\": {\"58\": 16}, \"64\": {\"64\": 16}, \"82\": {\"82\": 32}, \"39\": {\"39\": 97, \"0\": 1, \"122\": 1, \"98\": 1}, \"110\": {\"110\": 115, \"61\": 1, \"81\": 1, \"14\": 1, \"21\": 1, \"108\": 1, \"70\": 1, \"0\": 1, \"126\": 1, \"102\": 1}, \"114\": {\"114\": 126, \"49\": 1, \"71\": 1}, \"20\": {\"20\": 16}, \"117\": {\"117\": 114}, \"18\": {\"18\": 119, \"113\": 1}, \"99\": {\"99\": 39, \"122\": 1}, \"23\": {\"23\": 6, \"91\": 1, \"123\": 1, \"122\": 1, \"129\": 1, \"39\": 1, \"78\": 1, \"48\": 1, \"51\": 1, \"70\": 1, \"7\": 1}, \"128\": {\"128\": 21, \"101\": 1, \"21\": 1, \"72\": 1}, \"60\": {\"60\": 30, \"19\": 1, \"129\": 1}, \"70\": {\"70\": 109, \"7\": 1, \"88\": 8, \"111\": 1, \"69\": 1}, \"122\": {\"67\": 1, \"122\": 79, \"43\": 1, \"106\": 1, \"126\": 1, \"5\": 1}, \"101\": {\"101\": 128, \"7\": 1, \"0\": 1, \"84\": 1, \"88\": 1}, \"33\": {\"33\": 129, \"122\": 1, \"116\": 1, \"124\": 1}, \"40\": {\"40\": 124, \"39\": 1, \"33\": 1, \"121\": 1, \"88\": 1, \"70\": 1, \"0\": 1}, \"41\": {\"41\": 14, \"122\": 1, \"21\": 1}, \"59\": {\"59\": 12}, \"4\": {\"4\": 96, \"53\": 1, \"39\": 1, \"105\": 1, \"122\": 2, \"12\": 1, \"127\": 1, \"101\": 1}, \"112\": {\"112\": 15, \"67\": 1}, \"36\": {\"36\": 122, \"24\": 4, \"2\": 1, \"26\": 1}, \"48\": {\"48\": 13, \"60\": 2, \"21\": 1}, \"126\": {\"122\": 1, \"126\": 111, \"113\": 1, \"93\": 2, \"101\": 1}, \"125\": {\"125\": 119, \"7\": 1, \"98\": 1, \"84\": 1}, \"84\": {\"84\": 118, \"21\": 1, \"36\": 1, \"122\": 1, \"87\": 1, \"126\": 1, \"106\": 1, \"88\": 2, \"101\": 2}, \"80\": {\"80\": 16}, \"49\": {\"49\": 29, \"70\": 2, \"19\": 1}, \"47\": {\"25\": 1, \"47\": 11}, \"95\": {\"95\": 32}, \"54\": {\"54\": 16}, \"25\": {\"25\": 16}, \"116\": {\"116\": 25, \"92\": 1, \"33\": 1, \"78\": 1}, \"74\": {\"74\": 16}, \"35\": {\"35\": 12}, \"15\": {\"15\": 123, \"0\": 1, \"10\": 2, \"105\": 1, \"3\": 1}, \"108\": {\"108\": 82, \"73\": 1, \"71\": 1, \"94\": 1, \"27\": 1, \"113\": 1, \"19\": 2, \"51\": 1, \"84\": 1, \"88\": 1}, \"34\": {\"34\": 21, \"6\": 2, \"8\": 2, \"0\": 1, \"72\": 2, \"128\": 1, \"103\": 1, \"85\": 1, \"75\": 1}, \"81\": {\"81\": 33, \"39\": 2, \"122\": 1}, \"93\": {\"93\": 128}, \"55\": {\"55\": 16}, \"27\": {\"27\": 94, \"122\": 1, \"24\": 4, \"15\": 1}, \"109\": {\"109\": 107, \"16\": 1, \"70\": 1, \"108\": 1}, \"106\": {\"106\": 108, \"16\": 1, \"113\": 1, \"89\": 1, \"127\": 1, \"43\": 1, \"15\": 1, \"122\": 1, \"105\": 1}, \"68\": {\"68\": 15, \"108\": 1}, \"76\": {\"69\": 1, \"76\": 14, \"78\": 1}, \"103\": {\"103\": 15, \"73\": 1}, \"42\": {\"42\": 25, \"108\": 1, \"124\": 2}, \"129\": {\"110\": 1, \"129\": 25, \"73\": 1, \"19\": 1}, \"94\": {\"94\": 81, \"5\": 1, \"81\": 1, \"3\": 1, \"21\": 1, \"8\": 1, \"7\": 1, \"84\": 1}, \"123\": {\"123\": 16}, \"61\": {\"61\": 16}, \"51\": {\"73\": 1, \"51\": 8, \"12\": 1, \"44\": 1, \"129\": 1, \"58\": 1, \"98\": 1, \"47\": 2}, \"98\": {\"98\": 114, \"39\": 2, \"90\": 2}, \"56\": {\"56\": 12}, \"14\": {\"14\": 109, \"81\": 1, \"23\": 1, \"101\": 1}, \"90\": {\"90\": 136, \"126\": 1, \"66\": 1}, \"13\": {\"13\": 16}, \"89\": {\"89\": 31, \"27\": 1}, \"52\": {\"52\": 19, \"89\": 1}, \"72\": {\"72\": 31, \"21\": 1}, \"79\": {\"79\": 16}, \"113\": {\"113\": 123, \"70\": 1, \"84\": 1, \"39\": 1}}, \"Wisig_1\": {\"68\": {\"68\": 16}, \"7\": {\"7\": 142}, \"125\": {\"125\": 118}, \"111\": {\"111\": 115, \"18\": 1, \"88\": 1, \"93\": 1, \"127\": 1, \"12\": 1}, \"101\": {\"101\": 123, \"65\": 1}, \"11\": {\"11\": 136}, \"76\": {\"76\": 16}, \"5\": {\"5\": 86, \"73\": 1, \"44\": 1}, \"123\": {\"123\": 14, \"21\": 1, \"19\": 1}, \"85\": {\"85\": 32}, \"34\": {\"34\": 23, \"125\": 2, \"128\": 1, \"14\": 3, \"6\": 1, \"86\": 1, \"91\": 1}, \"42\": {\"60\": 2, \"42\": 21, \"109\": 1, \"124\": 2, \"91\": 1, \"82\": 1}, \"81\": {\"81\": 28}, \"127\": {\"127\": 106, \"101\": 1, \"88\": 1}, \"60\": {\"101\": 1, \"60\": 8, \"34\": 2, \"120\": 1, \"72\": 1, \"42\": 1, \"29\": 1, \"14\": 1}, \"77\": {\"77\": 16}, \"65\": {\"83\": 2, \"65\": 5, \"22\": 2, \"115\": 1, \"69\": 2}, \"44\": {\"44\": 76}, \"100\": {\"100\": 16}, \"80\": {\"80\": 16}, \"83\": {\"83\": 27, \"5\": 1}, \"51\": {\"51\": 16}, \"93\": {\"93\": 131, \"7\": 1, \"102\": 1, \"21\": 1}, \"31\": {\"31\": 16}, \"33\": {\"33\": 124, \"19\": 1, \"55\": 1}, \"113\": {\"113\": 121, \"69\": 1, \"16\": 1, \"43\": 1}, \"126\": {\"126\": 122, \"43\": 1, \"26\": 1}, \"10\": {\"10\": 110, \"0\": 9, \"85\": 1}, \"21\": {\"21\": 38, \"128\": 1, \"59\": 1}, \"90\": {\"90\": 131, \"113\": 1}, \"38\": {\"38\": 16}, \"96\": {\"96\": 17, \"126\": 2, \"30\": 1}, \"6\": {\"6\": 31, \"51\": 1}, \"121\": {\"121\": 32}, \"37\": {\"37\": 16}, \"88\": {\"88\": 122, \"36\": 3, \"108\": 1}, \"54\": {\"54\": 16}, \"92\": {\"92\": 28}, \"19\": {\"19\": 28}, \"47\": {\"47\": 12}, \"94\": {\"94\": 89, \"18\": 1, \"102\": 1, \"113\": 1}, \"66\": {\"66\": 16}, \"73\": {\"73\": 19, \"59\": 1}, \"75\": {\"75\": 16}, \"28\": {\"28\": 19, \"65\": 1}, \"20\": {\"20\": 16}, \"78\": {\"102\": 1, \"78\": 13, \"34\": 1, \"21\": 1}, \"71\": {\"71\": 101, \"7\": 1, \"43\": 1, \"21\": 1}, \"13\": {\"13\": 16}, \"118\": {\"118\": 83, \"111\": 1}, \"72\": {\"72\": 32}, \"24\": {\"24\": 87, \"111\": 1, \"12\": 1, \"108\": 2, \"36\": 1}, \"41\": {\"41\": 16}, \"102\": {\"102\": 119, \"18\": 1}, \"8\": {\"21\": 1, \"8\": 137}, \"39\": {\"39\": 94, \"88\": 1, \"43\": 1}, \"97\": {\"97\": 19, \"2\": 1}, \"48\": {\"48\": 12}, \"57\": {\"57\": 12}, \"29\": {\"29\": 28}, \"119\": {\"119\": 16}, \"89\": {\"89\": 36}, \"40\": {\"40\": 138, \"105\": 2}, \"22\": {\"97\": 1, \"22\": 15}, \"53\": {\"53\": 18, \"49\": 1, \"70\": 1}, \"108\": {\"108\": 124}, \"23\": {\"23\": 17, \"42\": 1, \"28\": 2, \"35\": 2, \"55\": 1, \"45\": 1}, \"109\": {\"109\": 115, \"126\": 1}, \"112\": {\"112\": 16}, \"35\": {\"35\": 12}, \"3\": {\"3\": 86, \"36\": 1, \"43\": 1}, \"103\": {\"103\": 14, \"94\": 1, \"52\": 1}, \"4\": {\"4\": 98, \"43\": 1, \"45\": 1}, \"87\": {\"87\": 107, \"93\": 1}, \"25\": {\"23\": 1, \"25\": 14, \"73\": 1}, \"15\": {\"15\": 94, \"111\": 6, \"69\": 1, \"43\": 1, \"93\": 1, \"108\": 1}, \"95\": {\"95\": 36}, \"120\": {\"120\": 18, \"6\": 1, \"102\": 1}, \"59\": {\"59\": 11, \"7\": 1}, \"49\": {\"49\": 17, \"31\": 1, \"82\": 1, \"7\": 1}, \"52\": {\"52\": 20}, \"45\": {\"49\": 1, \"45\": 8, \"46\": 1, \"47\": 1, \"122\": 1}, \"107\": {\"107\": 124}, \"106\": {\"106\": 132, \"122\": 1, \"12\": 1}, \"18\": {\"18\": 124}, \"64\": {\"64\": 16}, \"86\": {\"86\": 35, \"108\": 1}, \"14\": {\"14\": 96}, \"115\": {\"115\": 12}, \"0\": {\"0\": 83, \"49\": 1}, \"104\": {\"104\": 16}, \"61\": {\"61\": 12}, \"129\": {\"129\": 26, \"14\": 2}, \"122\": {\"122\": 86, \"105\": 1, \"43\": 1}, \"67\": {\"67\": 14, \"21\": 1, \"115\": 1}, \"128\": {\"128\": 24}, \"26\": {\"26\": 131, \"105\": 1, \"43\": 1, \"128\": 1}, \"117\": {\"117\": 136}, \"91\": {\"91\": 28}, \"12\": {\"12\": 100, \"15\": 1, \"108\": 3}, \"50\": {\"50\": 16}, \"99\": {\"99\": 24}, \"110\": {\"110\": 104}, \"43\": {\"43\": 111, \"21\": 1, \"125\": 1, \"70\": 1, \"94\": 1, \"5\": 1}, \"82\": {\"82\": 36}, \"1\": {\"1\": 95, \"126\": 1}, \"46\": {\"12\": 2, \"46\": 8, \"70\": 1, \"86\": 1}, \"16\": {\"16\": 106, \"39\": 1, \"43\": 1}, \"74\": {\"74\": 16}, \"32\": {\"32\": 29, \"127\": 1, \"93\": 1, \"30\": 1}, \"62\": {\"62\": 118, \"108\": 1, \"94\": 1}, \"27\": {\"27\": 90, \"43\": 1, \"24\": 1}, \"17\": {\"17\": 16}, \"36\": {\"36\": 131, \"88\": 1, \"122\": 1, \"24\": 1}, \"2\": {\"2\": 23, \"128\": 2, \"70\": 1, \"11\": 2, \"39\": 1, \"13\": 1, \"82\": 1, \"96\": 1}, \"70\": {\"70\": 125, \"102\": 1, \"108\": 1, \"12\": 1}, \"9\": {\"9\": 32}, \"114\": {\"114\": 130}, \"79\": {\"79\": 12}, \"56\": {\"56\": 11, \"112\": 1}, \"124\": {\"124\": 102}, \"84\": {\"84\": 134}, \"69\": {\"69\": 106, \"34\": 1, \"102\": 1}, \"58\": {\"58\": 10, \"125\": 2}, \"30\": {\"30\": 52}, \"55\": {\"55\": 12}, \"105\": {\"105\": 83, \"40\": 1}, \"63\": {\"63\": 16}, \"98\": {\"98\": 107, \"109\": 1}, \"116\": {\"116\": 31, \"102\": 1}}, \"Wisig_3\": {\"76\": {\"76\": 16}, \"6\": {\"6\": 25, \"58\": 1, \"34\": 3, \"19\": 1, \"91\": 1, \"45\": 1}, \"108\": {\"108\": 106}, \"29\": {\"29\": 32}, \"83\": {\"83\": 24}, \"18\": {\"18\": 126, \"84\": 1, \"78\": 1}, \"54\": {\"54\": 16}, \"15\": {\"15\": 104}, \"100\": {\"100\": 16}, \"90\": {\"90\": 133, \"86\": 1, \"44\": 1, \"125\": 1}, \"26\": {\"26\": 130, \"23\": 1, \"5\": 1}, \"115\": {\"115\": 16}, \"94\": {\"94\": 83, \"30\": 1}, \"46\": {\"46\": 16}, \"121\": {\"121\": 32}, \"109\": {\"109\": 125, \"118\": 2, \"21\": 1}, \"101\": {\"101\": 51, \"8\": 1}, \"99\": {\"99\": 36}, \"8\": {\"8\": 126, \"26\": 1, \"27\": 1}, \"102\": {\"102\": 104}, \"122\": {\"123\": 1, \"122\": 56, \"90\": 1, \"96\": 1, \"89\": 1}, \"36\": {\"36\": 110, \"27\": 4, \"24\": 1, \"98\": 1}, \"113\": {\"113\": 119, \"126\": 1}, \"123\": {\"123\": 16}, \"120\": {\"120\": 20}, \"125\": {\"125\": 108}, \"89\": {\"89\": 27, \"87\": 1}, \"9\": {\"9\": 32}, \"31\": {\"31\": 20}, \"62\": {\"62\": 112, \"26\": 1, \"110\": 1}, \"49\": {\"49\": 22, \"42\": 1, \"29\": 1}, \"23\": {\"23\": 21, \"52\": 1, \"73\": 1, \"70\": 1, \"64\": 2, \"26\": 2, \"19\": 1, \"60\": 1, \"21\": 2}, \"55\": {\"55\": 16}, \"128\": {\"128\": 32}, \"71\": {\"71\": 67, \"43\": 1}, \"51\": {\"51\": 16}, \"7\": {\"7\": 106}, \"117\": {\"117\": 104}, \"28\": {\"28\": 16}, \"127\": {\"127\": 127, \"17\": 1}, \"57\": {\"57\": 20}, \"78\": {\"78\": 13, \"122\": 1, \"54\": 1, \"116\": 1}, \"87\": {\"87\": 119, \"27\": 1}, \"40\": {\"40\": 127, \"23\": 1}, \"81\": {\"81\": 32}, \"2\": {\"2\": 24, \"117\": 1, \"26\": 1, \"39\": 2}, \"58\": {\"58\": 16}, \"68\": {\"68\": 15, \"101\": 1}, \"20\": {\"20\": 15, \"31\": 1}, \"35\": {\"35\": 12}, \"96\": {\"96\": 20}, \"84\": {\"84\": 108}, \"13\": {\"122\": 2, \"13\": 10, \"63\": 1, \"116\": 1, \"23\": 1, \"69\": 1}, \"64\": {\"64\": 20}, \"112\": {\"112\": 14, \"108\": 1, \"94\": 1}, \"103\": {\"103\": 16}, \"65\": {\"65\": 11, \"63\": 1}, \"118\": {\"118\": 100}, \"88\": {\"88\": 107, \"84\": 1, \"39\": 1, \"0\": 1, \"36\": 1, \"106\": 1}, \"85\": {\"85\": 36}, \"5\": {\"5\": 107, \"21\": 1, \"113\": 1, \"88\": 1, \"1\": 2}, \"93\": {\"93\": 137, \"90\": 1}, \"43\": {\"43\": 50, \"39\": 2, \"87\": 1, \"26\": 1, \"13\": 1, \"33\": 1}, \"67\": {\"67\": 15, \"19\": 1}, \"48\": {\"48\": 14, \"124\": 1, \"7\": 1}, \"73\": {\"73\": 38, \"78\": 1, \"62\": 1}, \"34\": {\"28\": 1, \"34\": 26, \"99\": 1, \"124\": 2, \"9\": 1, \"32\": 1}, \"91\": {\"91\": 22, \"28\": 1, \"21\": 1}, \"105\": {\"105\": 124}, \"10\": {\"10\": 103, \"32\": 1, \"39\": 1, \"4\": 1}, \"61\": {\"61\": 16}, \"74\": {\"74\": 15, \"82\": 1}, \"4\": {\"4\": 94, \"105\": 1, \"110\": 1}, \"37\": {\"37\": 16}, \"19\": {\"19\": 32}, \"44\": {\"44\": 72}, \"52\": {\"52\": 16}, \"92\": {\"92\": 32}, \"33\": {\"33\": 128}, \"45\": {\"45\": 16}, \"11\": {\"11\": 127, \"82\": 1}, \"129\": {\"129\": 30, \"110\": 2}, \"116\": {\"116\": 26, \"87\": 1, \"13\": 1}, \"75\": {\"75\": 16}, \"41\": {\"41\": 16}, \"21\": {\"21\": 46, \"101\": 1, \"3\": 1}, \"69\": {\"69\": 82, \"56\": 1, \"122\": 1}, \"16\": {\"16\": 107, \"21\": 1}, \"25\": {\"25\": 16}, \"12\": {\"12\": 103, \"7\": 1}, \"72\": {\"72\": 28}, \"0\": {\"0\": 115, \"26\": 1}, \"50\": {\"50\": 16}, \"107\": {\"107\": 140}, \"124\": {\"124\": 124}, \"53\": {\"53\": 18, \"85\": 1, \"127\": 1}, \"66\": {\"66\": 16}, \"47\": {\"47\": 12}, \"24\": {\"24\": 45, \"27\": 2, \"39\": 1}, \"95\": {\"95\": 31, \"23\": 1}, \"98\": {\"98\": 105, \"44\": 1}, \"63\": {\"63\": 16}, \"3\": {\"3\": 114, \"113\": 2}, \"14\": {\"14\": 80}, \"1\": {\"1\": 108}, \"38\": {\"38\": 16}, \"110\": {\"110\": 88, \"68\": 2, \"26\": 1, \"39\": 1}, \"17\": {\"67\": 1, \"17\": 8, \"82\": 1, \"40\": 2, \"23\": 1, \"65\": 2, \"78\": 1}, \"30\": {\"30\": 83, \"93\": 1}, \"56\": {\"56\": 11, \"75\": 1}, \"27\": {\"27\": 83, \"36\": 9, \"84\": 1, \"24\": 1, \"101\": 1, \"117\": 1}, \"104\": {\"104\": 16}, \"97\": {\"97\": 20}, \"42\": {\"42\": 21, \"25\": 1, \"108\": 2, \"112\": 4}, \"39\": {\"39\": 108}, \"70\": {\"70\": 71, \"101\": 1}, \"86\": {\"86\": 28}, \"119\": {\"119\": 16}, \"77\": {\"77\": 16}, \"59\": {\"59\": 12}, \"22\": {\"22\": 16}, \"79\": {\"79\": 12}, \"80\": {\"80\": 16}, \"111\": {\"111\": 129, \"82\": 1, \"124\": 1, \"5\": 1}, \"82\": {\"82\": 28}, \"126\": {\"126\": 121, \"39\": 1, \"21\": 1, \"122\": 1}, \"32\": {\"32\": 28, \"124\": 1, \"94\": 1, \"86\": 1, \"9\": 1}, \"106\": {\"106\": 98, \"116\": 1, \"39\": 1}, \"60\": {\"60\": 26, \"110\": 2}, \"114\": {\"114\": 106, \"107\": 1, \"39\": 1}}, \"ORACLE.run18\": {\"13\": {\"5\": 100, \"12\": 39, \"0\": 88, \"8\": 66, \"11\": 80, \"7\": 93, \"10\": 95, \"13\": 99, \"14\": 77, \"1\": 81, \"6\": 80, \"2\": 70, \"3\": 59, \"4\": 74, \"15\": 55, \"9\": 44}, \"9\": {\"9\": 494, \"14\": 66, \"8\": 17, \"2\": 32, \"13\": 90, \"5\": 99, \"7\": 39, \"11\": 22, \"6\": 51, \"10\": 87, \"1\": 45, \"0\": 79, \"4\": 55, \"12\": 6, \"3\": 8, \"15\": 10}, \"15\": {\"12\": 108, \"2\": 84, \"15\": 124, \"1\": 84, \"4\": 70, \"11\": 92, \"7\": 74, \"13\": 54, \"3\": 89, \"0\": 53, \"10\": 62, \"8\": 102, \"5\": 59, \"6\": 78, \"14\": 63, \"9\": 4}, \"2\": {\"7\": 93, \"13\": 72, \"2\": 104, \"3\": 110, \"11\": 75, \"10\": 56, \"15\": 71, \"0\": 84, \"1\": 73, \"9\": 12, \"14\": 71, \"12\": 82, \"5\": 57, \"4\": 77, \"8\": 84, \"6\": 79}, \"3\": {\"13\": 55, \"3\": 99, \"14\": 80, \"11\": 87, \"8\": 88, \"2\": 107, \"1\": 65, \"15\": 91, \"12\": 118, \"4\": 74, \"0\": 74, \"6\": 71, \"7\": 85, \"5\": 52, \"10\": 48, \"9\": 6}, \"8\": {\"2\": 71, \"13\": 43, \"3\": 95, \"15\": 93, \"12\": 97, \"14\": 63, \"5\": 70, \"7\": 77, \"6\": 75, \"10\": 59, \"11\": 110, \"8\": 94, \"0\": 60, \"4\": 84, \"1\": 99, \"9\": 10}, \"5\": {\"3\": 54, \"13\": 89, \"4\": 83, \"14\": 107, \"0\": 80, \"15\": 66, \"8\": 56, \"12\": 49, \"1\": 90, \"6\": 66, \"11\": 87, \"9\": 46, \"10\": 83, \"5\": 105, \"7\": 77, \"2\": 62}, \"14\": {\"1\": 82, \"3\": 73, \"13\": 71, \"6\": 93, \"2\": 73, \"4\": 82, \"7\": 95, \"14\": 83, \"5\": 84, \"8\": 81, \"0\": 83, \"11\": 69, \"10\": 78, \"15\": 62, \"12\": 65, \"9\": 26}, \"1\": {\"8\": 87, \"12\": 78, \"15\": 87, \"10\": 70, \"13\": 68, \"4\": 81, \"3\": 72, \"1\": 96, \"14\": 75, \"11\": 105, \"0\": 51, \"7\": 86, \"6\": 85, \"2\": 52, \"5\": 79, \"9\": 28}, \"0\": {\"13\": 98, \"10\": 76, \"9\": 46, \"8\": 68, \"6\": 86, \"0\": 85, \"2\": 88, \"5\": 70, \"15\": 56, \"11\": 75, \"1\": 79, \"4\": 91, \"12\": 47, \"14\": 87, \"7\": 78, \"3\": 70}, \"10\": {\"3\": 63, \"13\": 87, \"7\": 68, \"10\": 89, \"14\": 93, \"9\": 48, \"0\": 74, \"4\": 78, \"8\": 53, \"6\": 84, \"5\": 101, \"2\": 76, \"11\": 82, \"12\": 54, \"1\": 97, \"15\": 53}, \"6\": {\"8\": 82, \"14\": 76, \"2\": 75, \"3\": 69, \"13\": 77, \"5\": 85, \"0\": 87, \"15\": 60, \"7\": 80, \"4\": 89, \"1\": 85, \"6\": 93, \"10\": 82, \"12\": 66, \"11\": 69, \"9\": 25}, \"11\": {\"12\": 96, \"3\": 71, \"5\": 82, \"0\": 63, \"1\": 89, \"15\": 92, \"6\": 79, \"8\": 95, \"7\": 76, \"2\": 76, \"11\": 93, \"13\": 58, \"14\": 76, \"4\": 71, \"9\": 12, \"10\": 71}, \"7\": {\"4\": 82, \"3\": 91, \"7\": 77, \"12\": 59, \"0\": 84, \"8\": 72, \"14\": 76, \"15\": 74, \"6\": 81, \"11\": 77, \"13\": 85, \"2\": 91, \"1\": 94, \"5\": 67, \"10\": 65, \"9\": 25}, \"4\": {\"2\": 91, \"10\": 75, \"8\": 88, \"14\": 92, \"5\": 97, \"12\": 68, \"13\": 69, \"3\": 61, \"0\": 76, \"9\": 30, \"4\": 64, \"1\": 104, \"7\": 69, \"6\": 75, \"11\": 77, \"15\": 64}, \"12\": {\"2\": 80, \"13\": 54, \"0\": 62, \"11\": 86, \"10\": 47, \"12\": 137, \"15\": 116, \"1\": 77, \"8\": 117, \"6\": 67, \"14\": 63, \"7\": 80, \"4\": 70, \"5\": 43, \"3\": 98, \"9\": 3}}, \"ORACLE.run138\": {\"13\": {\"5\": 89, \"14\": 70, \"2\": 111, \"15\": 89, \"13\": 125, \"7\": 48, \"9\": 100, \"10\": 79, \"0\": 68, \"3\": 78, \"1\": 94, \"6\": 93, \"8\": 68, \"11\": 57, \"4\": 2, \"12\": 29}, \"12\": {\"14\": 109, \"13\": 23, \"4\": 260, \"11\": 113, \"0\": 77, \"7\": 95, \"2\": 22, \"12\": 241, \"10\": 94, \"5\": 26, \"3\": 23, \"15\": 25, \"1\": 7, \"6\": 17, \"9\": 17, \"8\": 51}, \"2\": {\"2\": 145, \"13\": 129, \"10\": 112, \"3\": 39, \"1\": 89, \"8\": 62, \"14\": 86, \"15\": 107, \"7\": 35, \"12\": 30, \"6\": 63, \"11\": 95, \"0\": 63, \"5\": 76, \"9\": 55, \"4\": 14}, \"9\": {\"7\": 48, \"13\": 89, \"15\": 89, \"10\": 54, \"2\": 43, \"0\": 83, \"3\": 134, \"1\": 99, \"8\": 88, \"14\": 34, \"9\": 169, \"6\": 126, \"11\": 28, \"5\": 99, \"12\": 14, \"4\": 3}, \"15\": {\"14\": 74, \"8\": 78, \"13\": 112, \"9\": 83, \"1\": 101, \"2\": 99, \"3\": 63, \"15\": 104, \"5\": 89, \"0\": 71, \"11\": 63, \"6\": 103, \"7\": 46, \"12\": 27, \"10\": 78, \"4\": 9}, \"5\": {\"9\": 83, \"10\": 87, \"12\": 43, \"4\": 41, \"2\": 59, \"5\": 92, \"11\": 50, \"8\": 88, \"3\": 99, \"1\": 65, \"0\": 101, \"6\": 94, \"15\": 82, \"7\": 82, \"14\": 59, \"13\": 75}, \"14\": {\"11\": 177, \"9\": 29, \"7\": 67, \"6\": 29, \"1\": 43, \"13\": 50, \"10\": 101, \"0\": 50, \"14\": 142, \"2\": 88, \"12\": 118, \"3\": 22, \"8\": 77, \"5\": 60, \"4\": 77, \"15\": 70}, \"0\": {\"0\": 84, \"1\": 44, \"6\": 67, \"15\": 63, \"3\": 114, \"14\": 67, \"7\": 104, \"12\": 87, \"8\": 97, \"5\": 105, \"2\": 41, \"10\": 85, \"9\": 87, \"11\": 43, \"4\": 52, \"13\": 60}, \"3\": {\"13\": 61, \"3\": 172, \"9\": 151, \"6\": 105, \"1\": 53, \"8\": 104, \"14\": 39, \"2\": 26, \"11\": 37, \"15\": 68, \"5\": 97, \"7\": 89, \"0\": 95, \"4\": 13, \"12\": 25, \"10\": 65}, \"1\": {\"6\": 134, \"13\": 115, \"10\": 49, \"9\": 144, \"0\": 59, \"3\": 52, \"14\": 54, \"7\": 39, \"15\": 126, \"1\": 140, \"2\": 108, \"5\": 72, \"8\": 52, \"11\": 36, \"12\": 18, \"4\": 2}, \"11\": {\"4\": 122, \"15\": 55, \"2\": 72, \"11\": 234, \"10\": 117, \"3\": 15, \"14\": 146, \"0\": 48, \"9\": 11, \"8\": 55, \"7\": 55, \"13\": 56, \"12\": 129, \"1\": 28, \"5\": 39, \"6\": 18}, \"7\": {\"13\": 51, \"10\": 106, \"6\": 66, \"1\": 35, \"14\": 66, \"4\": 88, \"15\": 44, \"8\": 95, \"3\": 111, \"7\": 105, \"12\": 96, \"9\": 55, \"2\": 35, \"0\": 117, \"11\": 66, \"5\": 64}, \"8\": {\"7\": 84, \"5\": 80, \"10\": 83, \"4\": 50, \"12\": 71, \"15\": 71, \"0\": 91, \"8\": 89, \"1\": 66, \"3\": 87, \"14\": 72, \"13\": 72, \"9\": 78, \"11\": 54, \"6\": 84, \"2\": 68}, \"4\": {\"14\": 71, \"4\": 471, \"0\": 43, \"15\": 14, \"2\": 10, \"10\": 96, \"11\": 95, \"7\": 75, \"12\": 237, \"5\": 21, \"8\": 33, \"6\": 6, \"3\": 17, \"13\": 9, \"9\": 2}, \"10\": {\"7\": 100, \"12\": 88, \"4\": 73, \"10\": 95, \"0\": 80, \"11\": 105, \"14\": 95, \"8\": 96, \"5\": 68, \"13\": 59, \"15\": 70, \"2\": 55, \"1\": 63, \"9\": 50, \"3\": 47, \"6\": 56}, \"6\": {\"1\": 113, \"3\": 118, \"9\": 137, \"13\": 88, \"14\": 52, \"6\": 122, \"15\": 87, \"7\": 71, \"0\": 80, \"11\": 22, \"8\": 81, \"2\": 59, \"10\": 43, \"5\": 100, \"12\": 22, \"4\": 5}}, \"ORACLE.run126\": {\"10\": {\"1\": 95, \"8\": 82, \"12\": 63, \"0\": 96, \"14\": 100, \"10\": 89, \"13\": 65, \"6\": 80, \"3\": 80, \"5\": 63, \"7\": 86, \"15\": 77, \"2\": 64, \"4\": 78, \"9\": 60, \"11\": 22}, \"12\": {\"15\": 68, \"11\": 101, \"5\": 93, \"12\": 110, \"10\": 69, \"8\": 78, \"3\": 47, \"13\": 98, \"2\": 79, \"6\": 93, \"9\": 66, \"14\": 67, \"4\": 54, \"1\": 57, \"7\": 56, \"0\": 64}, \"1\": {\"10\": 98, \"15\": 72, \"1\": 114, \"4\": 102, \"12\": 56, \"8\": 75, \"2\": 84, \"6\": 59, \"7\": 96, \"0\": 86, \"14\": 88, \"9\": 70, \"3\": 85, \"13\": 44, \"5\": 55, \"11\": 16}, \"0\": {\"9\": 52, \"12\": 55, \"15\": 81, \"7\": 92, \"10\": 119, \"14\": 94, \"8\": 85, \"0\": 96, \"4\": 95, \"6\": 64, \"1\": 88, \"5\": 66, \"11\": 27, \"13\": 63, \"2\": 51, \"3\": 72}, \"15\": {\"15\": 85, \"7\": 78, \"8\": 74, \"3\": 69, \"5\": 92, \"14\": 68, \"13\": 82, \"1\": 64, \"2\": 71, \"4\": 74, \"0\": 85, \"10\": 81, \"9\": 70, \"6\": 77, \"12\": 81, \"11\": 49}, \"13\": {\"15\": 89, \"1\": 52, \"5\": 112, \"14\": 44, \"8\": 56, \"13\": 123, \"11\": 88, \"12\": 97, \"2\": 73, \"4\": 63, \"9\": 94, \"0\": 39, \"6\": 87, \"7\": 67, \"3\": 60, \"10\": 56}, \"8\": {\"5\": 72, \"8\": 78, \"9\": 70, \"10\": 88, \"2\": 79, \"7\": 87, \"3\": 67, \"13\": 61, \"4\": 86, \"15\": 68, \"1\": 75, \"6\": 91, \"14\": 84, \"0\": 92, \"12\": 63, \"11\": 39}, \"3\": {\"11\": 25, \"4\": 85, \"8\": 71, \"6\": 59, \"3\": 101, \"5\": 80, \"1\": 83, \"2\": 89, \"14\": 76, \"13\": 63, \"10\": 93, \"9\": 103, \"12\": 64, \"7\": 64, \"15\": 67, \"0\": 77}, \"11\": {\"10\": 46, \"11\": 267, \"8\": 50, \"4\": 34, \"13\": 128, \"12\": 113, \"6\": 75, \"2\": 49, \"9\": 82, \"5\": 94, \"3\": 43, \"14\": 30, \"7\": 38, \"1\": 37, \"15\": 70, \"0\": 44}, \"4\": {\"15\": 76, \"10\": 67, \"14\": 96, \"4\": 94, \"3\": 74, \"13\": 47, \"1\": 115, \"7\": 70, \"0\": 109, \"6\": 66, \"9\": 68, \"2\": 86, \"8\": 92, \"5\": 59, \"11\": 18, \"12\": 63}, \"6\": {\"1\": 58, \"6\": 97, \"11\": 60, \"12\": 90, \"14\": 58, \"9\": 81, \"10\": 96, \"0\": 67, \"13\": 90, \"5\": 87, \"4\": 80, \"2\": 72, \"8\": 78, \"15\": 65, \"3\": 63, \"7\": 58}, \"7\": {\"7\": 83, \"5\": 81, \"3\": 97, \"8\": 80, \"11\": 18, \"4\": 81, \"9\": 73, \"1\": 93, \"10\": 80, \"14\": 80, \"0\": 91, \"13\": 53, \"2\": 84, \"12\": 51, \"6\": 79, \"15\": 76}, \"14\": {\"5\": 58, \"10\": 102, \"14\": 93, \"15\": 76, \"12\": 47, \"13\": 54, \"3\": 78, \"2\": 63, \"6\": 63, \"7\": 88, \"9\": 64, \"1\": 103, \"4\": 92, \"8\": 91, \"0\": 109, \"11\": 19}, \"2\": {\"1\": 74, \"7\": 94, \"9\": 74, \"15\": 85, \"5\": 90, \"11\": 32, \"13\": 85, \"3\": 85, \"4\": 78, \"6\": 80, \"8\": 60, \"14\": 68, \"0\": 78, \"2\": 82, \"10\": 83, \"12\": 52}, \"5\": {\"15\": 79, \"6\": 103, \"5\": 90, \"2\": 74, \"14\": 69, \"10\": 60, \"8\": 63, \"3\": 85, \"4\": 56, \"9\": 102, \"13\": 98, \"7\": 68, \"11\": 71, \"0\": 65, \"1\": 55, \"12\": 62}, \"9\": {\"2\": 71, \"4\": 72, \"15\": 105, \"6\": 98, \"8\": 71, \"0\": 66, \"11\": 39, \"13\": 98, \"10\": 62, \"5\": 83, \"9\": 85, \"1\": 66, \"7\": 70, \"3\": 84, \"14\": 67, \"12\": 63}}, \"ORACLE.run120\": {\"5\": {\"6\": 81, \"15\": 87, \"11\": 83, \"10\": 74, \"9\": 78, \"2\": 73, \"14\": 56, \"5\": 91, \"12\": 63, \"4\": 57, \"1\": 79, \"3\": 83, \"8\": 58, \"0\": 84, \"13\": 78, \"7\": 75}, \"15\": {\"4\": 67, \"0\": 81, \"10\": 58, \"6\": 62, \"9\": 79, \"2\": 78, \"15\": 85, \"12\": 94, \"5\": 85, \"3\": 84, \"7\": 74, \"1\": 84, \"14\": 44, \"13\": 96, \"11\": 74, \"8\": 55}, \"9\": {\"2\": 92, \"4\": 60, \"11\": 96, \"12\": 78, \"6\": 70, \"0\": 80, \"15\": 76, \"13\": 86, \"14\": 56, \"8\": 80, \"9\": 83, \"5\": 77, \"7\": 65, \"3\": 63, \"1\": 83, \"10\": 55}, \"7\": {\"1\": 63, \"11\": 87, \"9\": 71, \"10\": 70, \"2\": 63, \"8\": 95, \"7\": 79, \"3\": 70, \"13\": 95, \"14\": 88, \"4\": 64, \"6\": 74, \"0\": 78, \"5\": 73, \"15\": 55, \"12\": 75}, \"3\": {\"1\": 69, \"5\": 80, \"11\": 74, \"13\": 74, \"3\": 89, \"6\": 64, \"15\": 76, \"8\": 77, \"2\": 90, \"14\": 58, \"12\": 76, \"0\": 73, \"4\": 82, \"9\": 72, \"7\": 82, \"10\": 64}, \"8\": {\"14\": 86, \"6\": 108, \"2\": 78, \"4\": 81, \"5\": 70, \"9\": 83, \"11\": 75, \"7\": 79, \"8\": 85, \"15\": 68, \"13\": 63, \"12\": 57, \"10\": 83, \"1\": 61, \"0\": 63, \"3\": 60}, \"4\": {\"2\": 81, \"4\": 82, \"11\": 51, \"12\": 69, \"7\": 69, \"0\": 48, \"5\": 69, \"14\": 100, \"3\": 81, \"8\": 87, \"15\": 68, \"9\": 89, \"6\": 74, \"10\": 111, \"13\": 55, \"1\": 66}, \"6\": {\"8\": 100, \"14\": 99, \"4\": 88, \"7\": 75, \"5\": 73, \"2\": 59, \"10\": 90, \"6\": 92, \"9\": 75, \"13\": 50, \"0\": 66, \"11\": 78, \"3\": 71, \"12\": 77, \"1\": 60, \"15\": 47}, \"2\": {\"15\": 70, \"12\": 80, \"2\": 76, \"9\": 78, \"5\": 81, \"4\": 77, \"1\": 71, \"11\": 92, \"3\": 81, \"13\": 84, \"0\": 75, \"14\": 59, \"6\": 75, \"7\": 79, \"8\": 62, \"10\": 60}, \"12\": {\"14\": 66, \"12\": 69, \"10\": 58, \"3\": 72, \"6\": 90, \"15\": 80, \"11\": 69, \"13\": 77, \"2\": 90, \"8\": 71, \"7\": 74, \"9\": 95, \"0\": 80, \"5\": 64, \"4\": 71, \"1\": 74}, \"0\": {\"11\": 66, \"13\": 85, \"10\": 74, \"12\": 80, \"1\": 79, \"5\": 88, \"9\": 65, \"0\": 80, \"15\": 87, \"7\": 76, \"4\": 67, \"6\": 59, \"14\": 77, \"2\": 78, \"3\": 79, \"8\": 60}, \"13\": {\"3\": 80, \"9\": 95, \"12\": 84, \"11\": 91, \"13\": 106, \"10\": 50, \"2\": 66, \"7\": 83, \"15\": 93, \"8\": 44, \"5\": 86, \"0\": 86, \"6\": 49, \"1\": 80, \"14\": 61, \"4\": 46}, \"10\": {\"6\": 97, \"13\": 55, \"10\": 102, \"8\": 100, \"4\": 102, \"11\": 60, \"15\": 56, \"3\": 86, \"12\": 62, \"1\": 68, \"2\": 64, \"9\": 60, \"7\": 73, \"14\": 99, \"5\": 53, \"0\": 63}, \"11\": {\"0\": 88, \"3\": 71, \"7\": 85, \"9\": 83, \"11\": 130, \"2\": 97, \"15\": 61, \"5\": 73, \"8\": 66, \"12\": 73, \"4\": 54, \"14\": 55, \"1\": 77, \"13\": 79, \"10\": 46, \"6\": 62}, \"14\": {\"3\": 72, \"4\": 105, \"1\": 64, \"14\": 99, \"0\": 62, \"5\": 66, \"7\": 70, \"10\": 117, \"6\": 81, \"8\": 101, \"9\": 82, \"11\": 51, \"2\": 72, \"15\": 54, \"13\": 45, \"12\": 59}, \"1\": {\"15\": 90, \"11\": 74, \"7\": 79, \"12\": 79, \"13\": 75, \"2\": 75, \"1\": 84, \"6\": 76, \"0\": 83, \"3\": 72, \"8\": 66, \"9\": 71, \"5\": 82, \"4\": 72, \"10\": 53, \"14\": 69}}, \"ORACLE.run150\": {\"1\": {\"15\": 100, \"12\": 69, \"6\": 109, \"13\": 93, \"7\": 88, \"0\": 57, \"4\": 87, \"10\": 56, \"9\": 75, \"1\": 92, \"2\": 52, \"3\": 40, \"5\": 91, \"11\": 94, \"14\": 72, \"8\": 25}, \"2\": {\"2\": 153, \"10\": 92, \"0\": 125, \"13\": 67, \"5\": 44, \"12\": 87, \"14\": 112, \"15\": 31, \"6\": 52, \"9\": 49, \"8\": 118, \"3\": 75, \"4\": 35, \"11\": 43, \"7\": 65, \"1\": 52}, \"8\": {\"2\": 100, \"8\": 187, \"10\": 123, \"7\": 51, \"3\": 203, \"13\": 70, \"6\": 48, \"11\": 17, \"0\": 132, \"4\": 34, \"1\": 53, \"9\": 18, \"12\": 35, \"5\": 62, \"14\": 43, \"15\": 24}, \"7\": {\"15\": 89, \"4\": 87, \"2\": 55, \"6\": 96, \"1\": 72, \"5\": 130, \"0\": 58, \"8\": 55, \"10\": 73, \"9\": 57, \"12\": 43, \"7\": 110, \"11\": 61, \"14\": 51, \"13\": 114, \"3\": 49}, \"14\": {\"0\": 79, \"9\": 89, \"6\": 77, \"10\": 53, \"11\": 89, \"4\": 68, \"2\": 77, \"15\": 63, \"7\": 64, \"14\": 119, \"13\": 62, \"5\": 71, \"12\": 129, \"8\": 47, \"1\": 84, \"3\": 29}, \"6\": {\"0\": 63, \"5\": 82, \"6\": 100, \"7\": 96, \"14\": 72, \"13\": 104, \"4\": 78, \"2\": 55, \"9\": 64, \"15\": 90, \"11\": 82, \"8\": 44, \"10\": 70, \"12\": 74, \"1\": 88, \"3\": 38}, \"3\": {\"2\": 84, \"1\": 44, \"3\": 257, \"12\": 14, \"7\": 99, \"6\": 39, \"10\": 122, \"5\": 71, \"11\": 19, \"14\": 30, \"8\": 194, \"13\": 57, \"9\": 10, \"0\": 98, \"4\": 35, \"15\": 27}, \"4\": {\"7\": 109, \"9\": 100, \"3\": 26, \"15\": 95, \"11\": 94, \"6\": 80, \"13\": 103, \"1\": 98, \"4\": 103, \"14\": 58, \"5\": 104, \"12\": 62, \"8\": 30, \"0\": 35, \"10\": 70, \"2\": 33}, \"12\": {\"9\": 118, \"3\": 17, \"7\": 58, \"14\": 121, \"15\": 75, \"1\": 71, \"0\": 72, \"12\": 156, \"2\": 88, \"6\": 87, \"11\": 106, \"4\": 51, \"5\": 59, \"10\": 48, \"8\": 26, \"13\": 47}, \"15\": {\"15\": 102, \"11\": 113, \"10\": 36, \"6\": 89, \"7\": 102, \"1\": 96, \"2\": 39, \"4\": 123, \"12\": 67, \"8\": 17, \"9\": 96, \"14\": 72, \"13\": 106, \"5\": 103, \"0\": 22, \"3\": 17}, \"11\": {\"14\": 85, \"4\": 107, \"9\": 113, \"11\": 121, \"1\": 109, \"5\": 92, \"6\": 71, \"15\": 103, \"2\": 41, \"0\": 27, \"12\": 97, \"7\": 69, \"13\": 84, \"10\": 47, \"8\": 17, \"3\": 17}, \"0\": {\"6\": 53, \"7\": 74, \"12\": 81, \"4\": 56, \"11\": 42, \"3\": 101, \"10\": 94, \"8\": 116, \"13\": 79, \"0\": 120, \"1\": 65, \"2\": 112, \"15\": 39, \"9\": 41, \"14\": 74, \"5\": 53}, \"9\": {\"15\": 100, \"12\": 99, \"3\": 25, \"4\": 79, \"14\": 91, \"7\": 62, \"9\": 144, \"2\": 46, \"1\": 104, \"10\": 41, \"6\": 82, \"8\": 16, \"11\": 128, \"0\": 35, \"5\": 82, \"13\": 66}, \"10\": {\"1\": 69, \"5\": 91, \"12\": 45, \"6\": 80, \"10\": 111, \"4\": 55, \"13\": 87, \"7\": 70, \"0\": 95, \"2\": 91, \"11\": 40, \"3\": 114, \"14\": 63, \"8\": 122, \"15\": 32, \"9\": 35}, \"5\": {\"13\": 98, \"12\": 51, \"0\": 56, \"2\": 39, \"14\": 63, \"4\": 114, \"11\": 78, \"5\": 107, \"7\": 109, \"10\": 66, \"6\": 92, \"8\": 43, \"9\": 53, \"15\": 95, \"1\": 87, \"3\": 49}, \"13\": {\"12\": 45, \"1\": 82, \"3\": 56, \"14\": 59, \"13\": 118, \"7\": 114, \"5\": 110, \"9\": 71, \"15\": 97, \"0\": 57, \"4\": 97, \"6\": 73, \"10\": 72, \"8\": 44, \"11\": 67, \"2\": 38}}, \"ORACLE.run132\": {\"2\": {\"7\": 100, \"12\": 72, \"1\": 8, \"9\": 116, \"14\": 113, \"2\": 128, \"11\": 104, \"8\": 82, \"15\": 22, \"0\": 80, \"5\": 83, \"13\": 92, \"10\": 28, \"3\": 60, \"4\": 92, \"6\": 20}, \"6\": {\"10\": 187, \"12\": 148, \"6\": 391, \"4\": 17, \"14\": 23, \"1\": 227, \"5\": 6, \"9\": 105, \"13\": 6, \"7\": 19, \"2\": 36, \"11\": 10, \"0\": 17, \"3\": 3, \"8\": 5}, \"5\": {\"9\": 55, \"8\": 97, \"2\": 101, \"3\": 110, \"13\": 110, \"0\": 104, \"4\": 92, \"7\": 113, \"11\": 85, \"14\": 102, \"15\": 76, \"5\": 106, \"10\": 7, \"12\": 36, \"6\": 5, \"1\": 1}, \"12\": {\"9\": 174, \"6\": 98, \"2\": 66, \"4\": 81, \"12\": 199, \"7\": 44, \"3\": 28, \"10\": 167, \"1\": 75, \"14\": 39, \"11\": 38, \"13\": 45, \"15\": 16, \"0\": 58, \"8\": 37, \"5\": 35}, \"13\": {\"12\": 44, \"13\": 114, \"11\": 87, \"2\": 82, \"3\": 118, \"15\": 95, \"0\": 102, \"14\": 87, \"8\": 125, \"5\": 99, \"9\": 54, \"7\": 77, \"10\": 16, \"4\": 97, \"1\": 3}, \"9\": {\"13\": 73, \"5\": 56, \"9\": 180, \"0\": 81, \"12\": 142, \"2\": 115, \"7\": 71, \"14\": 76, \"4\": 88, \"6\": 60, \"15\": 20, \"11\": 46, \"10\": 87, \"8\": 42, \"3\": 25, \"1\": 38}, \"11\": {\"3\": 102, \"6\": 4, \"9\": 58, \"2\": 114, \"11\": 119, \"4\": 103, \"0\": 104, \"5\": 94, \"14\": 130, \"7\": 128, \"13\": 80, \"15\": 43, \"12\": 27, \"8\": 78, \"10\": 11, \"1\": 5}, \"1\": {\"10\": 282, \"1\": 470, \"6\": 246, \"5\": 6, \"0\": 12, \"7\": 2, \"12\": 106, \"9\": 36, \"14\": 3, \"8\": 5, \"11\": 7, \"4\": 12, \"13\": 4, \"2\": 7, \"15\": 1, \"3\": 1}, \"3\": {\"15\": 168, \"3\": 139, \"5\": 120, \"11\": 104, \"13\": 124, \"4\": 79, \"0\": 87, \"2\": 53, \"9\": 23, \"12\": 18, \"7\": 72, \"8\": 124, \"14\": 85, \"10\": 4}, \"7\": {\"3\": 63, \"2\": 114, \"7\": 113, \"4\": 111, \"5\": 105, \"15\": 38, \"13\": 111, \"14\": 99, \"9\": 64, \"11\": 129, \"10\": 11, \"0\": 105, \"8\": 84, \"12\": 39, \"6\": 7, \"1\": 7}, \"14\": {\"4\": 91, \"14\": 142, \"1\": 3, \"5\": 87, \"0\": 121, \"2\": 118, \"11\": 105, \"9\": 61, \"7\": 116, \"3\": 87, \"8\": 84, \"10\": 12, \"15\": 39, \"12\": 38, \"13\": 90, \"6\": 6}, \"8\": {\"2\": 87, \"8\": 139, \"0\": 83, \"15\": 132, \"5\": 103, \"14\": 83, \"11\": 98, \"13\": 109, \"4\": 94, \"12\": 30, \"7\": 77, \"10\": 14, \"3\": 110, \"9\": 37, \"1\": 3, \"6\": 1}, \"4\": {\"5\": 96, \"0\": 106, \"7\": 104, \"4\": 123, \"3\": 77, \"13\": 103, \"2\": 97, \"11\": 90, \"14\": 105, \"9\": 77, \"8\": 103, \"10\": 16, \"6\": 12, \"12\": 57, \"15\": 30, \"1\": 4}, \"0\": {\"0\": 110, \"15\": 68, \"13\": 82, \"2\": 115, \"3\": 89, \"9\": 72, \"5\": 103, \"8\": 85, \"7\": 96, \"14\": 97, \"4\": 99, \"11\": 109, \"10\": 17, \"12\": 42, \"6\": 11, \"1\": 5}, \"10\": {\"12\": 185, \"2\": 29, \"4\": 32, \"6\": 144, \"1\": 250, \"10\": 339, \"9\": 83, \"11\": 17, \"13\": 20, \"7\": 14, \"5\": 13, \"15\": 23, \"3\": 9, \"8\": 14, \"0\": 14, \"14\": 14}, \"15\": {\"3\": 181, \"8\": 142, \"0\": 54, \"13\": 68, \"7\": 29, \"5\": 72, \"15\": 485, \"9\": 9, \"4\": 47, \"10\": 10, \"12\": 7, \"2\": 14, \"14\": 32, \"11\": 50}}, \"ORACLE.run144\": {\"13\": {\"2\": 107, \"13\": 144, \"7\": 89, \"15\": 10, \"4\": 56, \"11\": 138, \"9\": 121, \"6\": 150, \"14\": 47, \"5\": 34, \"1\": 64, \"3\": 55, \"10\": 90, \"12\": 84, \"0\": 6, \"8\": 5}, \"4\": {\"1\": 71, \"15\": 113, \"9\": 83, \"6\": 43, \"8\": 55, \"2\": 49, \"14\": 115, \"3\": 84, \"4\": 137, \"13\": 65, \"7\": 56, \"12\": 51, \"11\": 37, \"10\": 41, \"0\": 80, \"5\": 120}, \"6\": {\"13\": 148, \"9\": 111, \"7\": 110, \"2\": 140, \"6\": 156, \"11\": 170, \"14\": 26, \"4\": 44, \"10\": 101, \"3\": 30, \"1\": 79, \"0\": 5, \"12\": 62, \"5\": 8, \"15\": 8, \"8\": 2}, \"0\": {\"4\": 95, \"0\": 197, \"5\": 190, \"15\": 187, \"8\": 219, \"3\": 52, \"14\": 108, \"12\": 26, \"9\": 27, \"2\": 16, \"1\": 32, \"10\": 9, \"7\": 9, \"13\": 17, \"6\": 8, \"11\": 8}, \"10\": {\"7\": 132, \"3\": 78, \"13\": 96, \"6\": 120, \"2\": 113, \"1\": 122, \"10\": 138, \"11\": 81, \"9\": 94, \"12\": 104, \"4\": 45, \"14\": 37, \"15\": 18, \"5\": 17, \"0\": 4, \"8\": 1}, \"7\": {\"14\": 56, \"3\": 82, \"11\": 101, \"7\": 117, \"4\": 70, \"0\": 8, \"9\": 92, \"2\": 108, \"13\": 113, \"10\": 103, \"12\": 97, \"6\": 117, \"15\": 23, \"1\": 75, \"5\": 30, \"8\": 8}, \"14\": {\"4\": 124, \"6\": 34, \"5\": 148, \"8\": 72, \"14\": 115, \"3\": 90, \"2\": 43, \"12\": 64, \"10\": 31, \"7\": 49, \"9\": 64, \"1\": 78, \"15\": 115, \"13\": 56, \"0\": 86, \"11\": 31}, \"15\": {\"15\": 186, \"3\": 64, \"4\": 104, \"14\": 108, \"5\": 159, \"12\": 34, \"10\": 17, \"8\": 182, \"9\": 26, \"0\": 204, \"6\": 19, \"1\": 36, \"13\": 24, \"2\": 10, \"7\": 18, \"11\": 9}, \"5\": {\"13\": 39, \"2\": 30, \"0\": 151, \"3\": 59, \"5\": 175, \"1\": 37, \"15\": 136, \"7\": 40, \"8\": 143, \"9\": 40, \"4\": 139, \"14\": 126, \"11\": 21, \"10\": 18, \"6\": 17, \"12\": 29}, \"2\": {\"6\": 136, \"11\": 119, \"1\": 105, \"2\": 108, \"14\": 46, \"12\": 79, \"13\": 123, \"4\": 54, \"9\": 91, \"3\": 78, \"10\": 111, \"15\": 18, \"8\": 1, \"7\": 109, \"5\": 16, \"0\": 6}, \"9\": {\"10\": 84, \"13\": 103, \"14\": 57, \"7\": 123, \"4\": 69, \"3\": 81, \"5\": 46, \"9\": 108, \"1\": 89, \"11\": 86, \"6\": 85, \"2\": 107, \"12\": 109, \"15\": 32, \"8\": 6, \"0\": 15}, \"12\": {\"10\": 119, \"14\": 56, \"7\": 103, \"4\": 59, \"13\": 85, \"6\": 67, \"15\": 48, \"3\": 96, \"11\": 68, \"8\": 14, \"12\": 120, \"9\": 111, \"2\": 86, \"1\": 117, \"5\": 31, \"0\": 20}, \"8\": {\"13\": 12, \"14\": 90, \"15\": 222, \"4\": 72, \"0\": 247, \"8\": 274, \"5\": 167, \"1\": 21, \"3\": 29, \"12\": 20, \"7\": 8, \"9\": 16, \"6\": 6, \"2\": 6, \"10\": 6, \"11\": 4}, \"3\": {\"9\": 78, \"3\": 133, \"15\": 63, \"5\": 57, \"1\": 108, \"6\": 55, \"13\": 58, \"8\": 27, \"12\": 116, \"11\": 34, \"14\": 100, \"10\": 95, \"4\": 90, \"2\": 59, \"7\": 86, \"0\": 41}, \"1\": {\"1\": 113, \"10\": 105, \"5\": 35, \"15\": 45, \"11\": 65, \"2\": 94, \"14\": 71, \"3\": 124, \"6\": 63, \"12\": 114, \"9\": 86, \"4\": 75, \"13\": 90, \"0\": 21, \"7\": 85, \"8\": 14}, \"11\": {\"2\": 94, \"11\": 225, \"1\": 58, \"13\": 163, \"10\": 98, \"5\": 13, \"6\": 198, \"7\": 119, \"4\": 28, \"12\": 73, \"0\": 5, \"3\": 23, \"9\": 77, \"14\": 20, \"15\": 5, \"8\": 1}}, \"ORACLE.run114\": {\"1\": {\"13\": 55, \"7\": 76, \"2\": 56, \"5\": 90, \"15\": 77, \"12\": 53, \"8\": 88, \"3\": 76, \"1\": 107, \"10\": 94, \"11\": 61, \"0\": 89, \"14\": 64, \"6\": 58, \"4\": 80, \"9\": 76}, \"15\": {\"13\": 88, \"4\": 94, \"6\": 116, \"15\": 151, \"3\": 68, \"5\": 85, \"7\": 108, \"2\": 81, \"14\": 87, \"8\": 45, \"9\": 25, \"1\": 83, \"0\": 49, \"11\": 38, \"10\": 71, \"12\": 11}, \"10\": {\"4\": 83, \"11\": 81, \"6\": 75, \"1\": 74, \"0\": 83, \"5\": 88, \"3\": 73, \"9\": 57, \"14\": 94, \"2\": 77, \"12\": 56, \"7\": 69, \"13\": 73, \"10\": 110, \"8\": 53, \"15\": 54}, \"2\": {\"6\": 97, \"13\": 90, \"5\": 98, \"14\": 113, \"2\": 100, \"10\": 82, \"11\": 83, \"15\": 72, \"4\": 65, \"0\": 71, \"8\": 29, \"1\": 91, \"12\": 19, \"7\": 76, \"3\": 72, \"9\": 42}, \"9\": {\"0\": 76, \"4\": 65, \"5\": 67, \"3\": 81, \"2\": 53, \"12\": 165, \"7\": 49, \"1\": 65, \"6\": 30, \"9\": 150, \"8\": 116, \"11\": 96, \"10\": 77, \"15\": 40, \"13\": 38, \"14\": 32}, \"5\": {\"7\": 107, \"13\": 86, \"10\": 83, \"9\": 44, \"3\": 91, \"5\": 91, \"1\": 73, \"15\": 95, \"0\": 73, \"4\": 66, \"6\": 86, \"11\": 74, \"8\": 54, \"2\": 71, \"14\": 65, \"12\": 41}, \"7\": {\"7\": 123, \"6\": 85, \"3\": 80, \"10\": 59, \"9\": 42, \"5\": 104, \"8\": 49, \"14\": 55, \"4\": 92, \"2\": 71, \"11\": 58, \"0\": 69, \"15\": 114, \"1\": 89, \"13\": 90, \"12\": 20}, \"13\": {\"0\": 61, \"5\": 83, \"13\": 132, \"15\": 87, \"4\": 74, \"2\": 100, \"1\": 51, \"3\": 88, \"6\": 122, \"14\": 114, \"9\": 32, \"8\": 21, \"10\": 86, \"11\": 59, \"12\": 16, \"7\": 74}, \"8\": {\"12\": 134, \"9\": 122, \"1\": 85, \"0\": 83, \"2\": 47, \"8\": 142, \"4\": 59, \"13\": 28, \"7\": 87, \"3\": 65, \"15\": 59, \"10\": 69, \"11\": 84, \"14\": 29, \"5\": 86, \"6\": 21}, \"6\": {\"11\": 61, \"0\": 65, \"3\": 82, \"2\": 94, \"13\": 140, \"6\": 120, \"10\": 87, \"7\": 79, \"1\": 50, \"9\": 23, \"15\": 84, \"4\": 89, \"14\": 109, \"5\": 79, \"8\": 21, \"12\": 17}, \"3\": {\"6\": 81, \"2\": 75, \"13\": 79, \"5\": 83, \"9\": 45, \"15\": 88, \"12\": 47, \"4\": 74, \"11\": 82, \"14\": 95, \"8\": 63, \"1\": 84, \"7\": 68, \"10\": 85, \"3\": 72, \"0\": 79}, \"12\": {\"9\": 170, \"8\": 150, \"10\": 72, \"12\": 229, \"5\": 55, \"14\": 32, \"2\": 29, \"1\": 65, \"7\": 38, \"11\": 115, \"3\": 65, \"4\": 43, \"0\": 82, \"13\": 22, \"15\": 21, \"6\": 12}, \"0\": {\"5\": 70, \"9\": 63, \"4\": 77, \"7\": 50, \"11\": 107, \"8\": 73, \"1\": 97, \"2\": 75, \"15\": 59, \"12\": 77, \"0\": 97, \"14\": 69, \"10\": 71, \"3\": 80, \"6\": 81, \"13\": 54}, \"4\": {\"5\": 98, \"13\": 63, \"9\": 51, \"1\": 87, \"2\": 72, \"4\": 95, \"15\": 107, \"14\": 81, \"11\": 62, \"3\": 72, \"6\": 80, \"0\": 69, \"12\": 38, \"8\": 50, \"10\": 73, \"7\": 102}, \"14\": {\"2\": 101, \"14\": 130, \"11\": 86, \"10\": 82, \"7\": 60, \"6\": 118, \"13\": 96, \"8\": 26, \"1\": 53, \"0\": 73, \"4\": 80, \"3\": 81, \"15\": 82, \"12\": 26, \"5\": 69, \"9\": 37}, \"11\": {\"10\": 78, \"13\": 68, \"1\": 70, \"15\": 44, \"0\": 95, \"12\": 78, \"2\": 70, \"9\": 93, \"4\": 79, \"5\": 69, \"7\": 65, \"6\": 74, \"14\": 57, \"11\": 106, \"8\": 76, \"3\": 78}}}, \"per_domain_accuracy\": {\"Wisig_2\": {\"accuracy\": 0.9553571428571429, \"source?\": true}, \"Wisig_4\": {\"accuracy\": 0.9492026748971193, \"source?\": true}, \"Wisig_1\": {\"accuracy\": 0.9736702127659574, \"source?\": true}, \"Wisig_3\": {\"accuracy\": 0.9754955947136564, \"source?\": true}, \"ORACLE.run18\": {\"accuracy\": 0.10083333333333333, \"source?\": false}, \"ORACLE.run138\": {\"accuracy\": 0.13177083333333334, \"source?\": false}, \"ORACLE.run126\": {\"accuracy\": 0.08786458333333333, \"source?\": false}, \"ORACLE.run120\": {\"accuracy\": 0.07458333333333333, \"source?\": false}, \"ORACLE.run150\": {\"accuracy\": 0.109375, \"source?\": false}, \"ORACLE.run132\": {\"accuracy\": 0.17171875, \"source?\": false}, \"ORACLE.run144\": {\"accuracy\": 0.12739583333333335, \"source?\": false}, \"ORACLE.run114\": {\"accuracy\": 0.10182291666666667, \"source?\": false}}}, \"history\": {\"epoch_indices\": [1, 2, 3, 4, 5], \"train_label_loss\": [0.19477010878220616, 0.12387866539206145, 0.0998002143564727, 0.08247081134074744, 0.0676001530255232], \"source_val_label_loss\": [0.15843920409679413, 0.12279672175645828, 0.11025388538837433, 0.11231507360935211, 0.1136174127459526], \"target_val_label_loss\": [2.703423023223877, 2.7181358337402344, 2.7709968090057373, 2.8544414043426514, 2.8892362117767334], \"source_val_acc_label\": [0.9631826617179216, 0.9708708907741251, 0.9743173382820784, 0.9747481442205727, 0.9748144220572641], \"target_val_acc_label\": [0.11317057291666667, 0.108125, 0.09513020833333333, 0.08861979166666667, 0.08877604166666667]}, \"dataset_metrics\": {\"source\": {\"train\": {\"n_unique_x\": 189012, \"n_unique_y\": 130, \"n_batch/episode\": 6843}, \"val\": {\"n_unique_x\": 40019, \"n_unique_y\": 130, \"n_batch/episode\": 943}, \"test\": {\"n_unique_x\": 40738, \"n_unique_y\": 130, \"n_batch/episode\": 960}}, \"target\": {\"train\": {\"n_unique_x\": 896000, \"n_unique_y\": 16, \"n_batch/episode\": 33600}, \"val\": {\"n_unique_x\": 192000, \"n_unique_y\": 16, \"n_batch/episode\": 4800}, \"test\": {\"n_unique_x\": 192000, \"n_unique_y\": 16, \"n_batch/episode\": 4800}}}}'"
      ]
     },
     "execution_count": 29,
     "metadata": {},
     "output_type": "execute_result"
    }
   ],
   "source": [
    "json.dumps(experiment)"
   ]
  }
 ],
 "metadata": {
  "celltoolbar": "Tags",
  "kernelspec": {
   "display_name": "Python 3 (ipykernel)",
   "language": "python",
   "name": "python3"
  },
  "language_info": {
   "codemirror_mode": {
    "name": "ipython",
    "version": 3
   },
   "file_extension": ".py",
   "mimetype": "text/x-python",
   "name": "python",
   "nbconvert_exporter": "python",
   "pygments_lexer": "ipython3",
   "version": "3.8.12"
  },
  "papermill": {
   "default_parameters": {},
   "duration": 2016.917079,
   "end_time": "2022-03-23T22:45:18.817199",
   "environment_variables": {},
   "exception": null,
   "input_path": "/root/csc500-main/csc500-notebooks/templates/tl_ptn_template.ipynb",
   "output_path": "trial.ipynb",
   "parameters": {
    "parameters": {
     "BEST_MODEL_PATH": "./best_model.pth",
     "NUM_LOGS_PER_EPOCH": 10,
     "criteria_for_best": "target_accuracy",
     "dataset_seed": 154325,
     "datasets": [
      {
       "domain_prefix": "Wisig_",
       "domains": [
        1,
        2,
        3,
        4
       ],
       "episode_transforms": [],
       "labels": [
        "1-10",
        "1-12",
        "1-14",
        "1-16",
        "1-18",
        "1-19",
        "1-8",
        "10-11",
        "10-17",
        "10-4",
        "10-7",
        "11-1",
        "11-10",
        "11-19",
        "11-20",
        "11-4",
        "11-7",
        "12-19",
        "12-20",
        "12-7",
        "13-14",
        "13-18",
        "13-19",
        "13-20",
        "13-3",
        "13-7",
        "14-10",
        "14-11",
        "14-12",
        "14-13",
        "14-14",
        "14-19",
        "14-20",
        "14-7",
        "14-8",
        "14-9",
        "15-1",
        "15-19",
        "15-6",
        "16-1",
        "16-16",
        "16-19",
        "16-20",
        "17-10",
        "17-11",
        "18-1",
        "18-10",
        "18-11",
        "18-12",
        "18-13",
        "18-14",
        "18-15",
        "18-16",
        "18-17",
        "18-19",
        "18-2",
        "18-20",
        "18-4",
        "18-5",
        "18-7",
        "18-8",
        "18-9",
        "19-1",
        "19-10",
        "19-11",
        "19-12",
        "19-13",
        "19-14",
        "19-15",
        "19-19",
        "19-2",
        "19-20",
        "19-3",
        "19-4",
        "19-6",
        "19-7",
        "19-8",
        "19-9",
        "2-1",
        "2-13",
        "2-15",
        "2-3",
        "2-4",
        "2-5",
        "2-6",
        "2-7",
        "2-8",
        "20-1",
        "20-12",
        "20-14",
        "20-15",
        "20-16",
        "20-18",
        "20-19",
        "20-20",
        "20-3",
        "20-4",
        "20-5",
        "20-7",
        "20-8",
        "3-1",
        "3-13",
        "3-18",
        "3-2",
        "3-8",
        "4-1",
        "4-10",
        "4-11",
        "5-1",
        "5-5",
        "6-1",
        "6-15",
        "6-6",
        "7-10",
        "7-11",
        "7-12",
        "7-13",
        "7-14",
        "7-7",
        "7-8",
        "7-9",
        "8-1",
        "8-13",
        "8-14",
        "8-18",
        "8-20",
        "8-3",
        "8-8",
        "9-1",
        "9-7"
       ],
       "num_examples_per_domain_per_label": -1,
       "pickle_path": "/root/csc500-main/datasets/wisig.node3-19.stratified_ds.2022A.pkl",
       "source_or_target_dataset": "source",
       "x_transforms": [
        "unit_power"
       ]
      },
      {
       "domain_prefix": "ORACLE.run1",
       "domains": [
        32,
        38,
        8,
        44,
        14,
        50,
        20,
        26
       ],
       "episode_transforms": [],
       "labels": [
        "3123D52",
        "3123D65",
        "3123D79",
        "3123D80",
        "3123D54",
        "3123D70",
        "3123D7B",
        "3123D89",
        "3123D58",
        "3123D76",
        "3123D7D",
        "3123EFE",
        "3123D64",
        "3123D78",
        "3123D7E",
        "3124E4A"
       ],
       "num_examples_per_domain_per_label": 10000,
       "pickle_path": "/root/csc500-main/datasets/oracle.Run1_10kExamples_stratified_ds.2022A.pkl",
       "source_or_target_dataset": "target",
       "x_transforms": [
        "unit_power"
       ]
      }
     ],
     "device": "cuda",
     "experiment_name": "tl_1v2:wisig-oracle.run1",
     "lr": 0.0001,
     "n_epoch": 50,
     "n_query": 2,
     "n_shot": 3,
     "n_way": 16,
     "patience": 3,
     "seed": 154325,
     "test_k_factor": 2,
     "torch_default_dtype": "torch.float32",
     "train_k_factor": 3,
     "val_k_factor": 2,
     "x_net": [
      {
       "class": "nnReshape",
       "kargs": {
        "shape": [
         -1,
         1,
         2,
         256
        ]
       }
      },
      {
       "class": "Conv2d",
       "kargs": {
        "bias": false,
        "in_channels": 1,
        "kernel_size": [
         1,
         7
        ],
        "out_channels": 256,
        "padding": [
         0,
         3
        ]
       }
      },
      {
       "class": "ReLU",
       "kargs": {
        "inplace": true
       }
      },
      {
       "class": "BatchNorm2d",
       "kargs": {
        "num_features": 256
       }
      },
      {
       "class": "Conv2d",
       "kargs": {
        "bias": true,
        "in_channels": 256,
        "kernel_size": [
         2,
         7
        ],
        "out_channels": 80,
        "padding": [
         0,
         3
        ]
       }
      },
      {
       "class": "ReLU",
       "kargs": {
        "inplace": true
       }
      },
      {
       "class": "BatchNorm2d",
       "kargs": {
        "num_features": 80
       }
      },
      {
       "class": "Flatten",
       "kargs": {}
      },
      {
       "class": "Linear",
       "kargs": {
        "in_features": 20480,
        "out_features": 256
       }
      },
      {
       "class": "ReLU",
       "kargs": {
        "inplace": true
       }
      },
      {
       "class": "BatchNorm1d",
       "kargs": {
        "num_features": 256
       }
      },
      {
       "class": "Linear",
       "kargs": {
        "in_features": 256,
        "out_features": 256
       }
      }
     ]
    }
   },
   "start_time": "2022-03-23T22:11:41.900120",
   "version": "2.3.4"
  }
 },
 "nbformat": 4,
 "nbformat_minor": 5
}