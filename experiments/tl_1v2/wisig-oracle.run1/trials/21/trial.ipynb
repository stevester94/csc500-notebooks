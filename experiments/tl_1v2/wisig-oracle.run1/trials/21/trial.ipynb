{
 "cells": [
  {
   "cell_type": "markdown",
   "id": "9fea5f46",
   "metadata": {
    "papermill": {
     "duration": 0.024343,
     "end_time": "2022-03-24T03:40:38.632230",
     "exception": false,
     "start_time": "2022-03-24T03:40:38.607887",
     "status": "completed"
    },
    "tags": []
   },
   "source": [
    "# Transfer Learning Template"
   ]
  },
  {
   "cell_type": "code",
   "execution_count": 1,
   "id": "0902182a",
   "metadata": {
    "execution": {
     "iopub.execute_input": "2022-03-24T03:40:38.694818Z",
     "iopub.status.busy": "2022-03-24T03:40:38.684003Z",
     "iopub.status.idle": "2022-03-24T03:40:40.536826Z",
     "shell.execute_reply": "2022-03-24T03:40:40.537157Z"
    },
    "papermill": {
     "duration": 1.885461,
     "end_time": "2022-03-24T03:40:40.537357",
     "exception": false,
     "start_time": "2022-03-24T03:40:38.651896",
     "status": "completed"
    },
    "tags": []
   },
   "outputs": [],
   "source": [
    "%load_ext autoreload\n",
    "%autoreload 2\n",
    "%matplotlib inline\n",
    "\n",
    "    \n",
    "import os, json, sys, time, random\n",
    "import numpy as np\n",
    "import torch\n",
    "from torch.optim import Adam\n",
    "from  easydict import EasyDict\n",
    "import matplotlib.pyplot as plt\n",
    "\n",
    "from steves_models.steves_ptn import Steves_Prototypical_Network\n",
    "\n",
    "from steves_utils.lazy_iterable_wrapper import Lazy_Iterable_Wrapper\n",
    "from steves_utils.iterable_aggregator import Iterable_Aggregator\n",
    "from steves_utils.ptn_train_eval_test_jig import  PTN_Train_Eval_Test_Jig\n",
    "from steves_utils.torch_sequential_builder import build_sequential\n",
    "from steves_utils.torch_utils import get_dataset_metrics, ptn_confusion_by_domain_over_dataloader\n",
    "from steves_utils.utils_v2 import (per_domain_accuracy_from_confusion, get_datasets_base_path)\n",
    "from steves_utils.PTN.utils import independent_accuracy_assesment\n",
    "\n",
    "from torch.utils.data import DataLoader\n",
    "\n",
    "from steves_utils.stratified_dataset.episodic_accessor import Episodic_Accessor_Factory\n",
    "\n",
    "from steves_utils.ptn_do_report import (\n",
    "    get_loss_curve,\n",
    "    get_results_table,\n",
    "    get_parameters_table,\n",
    "    get_domain_accuracies,\n",
    ")\n",
    "\n",
    "from steves_utils.transforms import get_chained_transform"
   ]
  },
  {
   "cell_type": "markdown",
   "id": "41c840b4",
   "metadata": {
    "papermill": {
     "duration": 0.019911,
     "end_time": "2022-03-24T03:40:40.577874",
     "exception": false,
     "start_time": "2022-03-24T03:40:40.557963",
     "status": "completed"
    },
    "tags": []
   },
   "source": [
    "# Allowed Parameters\n",
    "These are allowed parameters, not defaults\n",
    "Each of these values need to be present in the injected parameters (the notebook will raise an exception if they are not present)\n",
    "\n",
    "Papermill uses the cell tag \"parameters\" to inject the real parameters below this cell.\n",
    "Enable tags to see what I mean"
   ]
  },
  {
   "cell_type": "code",
   "execution_count": 2,
   "id": "fd44eb83",
   "metadata": {
    "execution": {
     "iopub.execute_input": "2022-03-24T03:40:40.622392Z",
     "iopub.status.busy": "2022-03-24T03:40:40.622015Z",
     "iopub.status.idle": "2022-03-24T03:40:40.647954Z",
     "shell.execute_reply": "2022-03-24T03:40:40.648588Z"
    },
    "papermill": {
     "duration": 0.051291,
     "end_time": "2022-03-24T03:40:40.648768",
     "exception": false,
     "start_time": "2022-03-24T03:40:40.597477",
     "status": "completed"
    },
    "tags": []
   },
   "outputs": [],
   "source": [
    "required_parameters = {\n",
    "    \"experiment_name\",\n",
    "    \"lr\",\n",
    "    \"device\",\n",
    "    \"seed\",\n",
    "    \"dataset_seed\",\n",
    "    \"n_shot\",\n",
    "    \"n_query\",\n",
    "    \"n_way\",\n",
    "    \"train_k_factor\",\n",
    "    \"val_k_factor\",\n",
    "    \"test_k_factor\",\n",
    "    \"n_epoch\",\n",
    "    \"patience\",\n",
    "    \"criteria_for_best\",\n",
    "    \"x_net\",\n",
    "    \"datasets\",\n",
    "    \"torch_default_dtype\",\n",
    "    \"NUM_LOGS_PER_EPOCH\",\n",
    "    \"BEST_MODEL_PATH\",\n",
    "    \"x_shape\",\n",
    "}"
   ]
  },
  {
   "cell_type": "code",
   "execution_count": 3,
   "id": "fa3f0049",
   "metadata": {
    "execution": {
     "iopub.execute_input": "2022-03-24T03:40:40.708236Z",
     "iopub.status.busy": "2022-03-24T03:40:40.705692Z",
     "iopub.status.idle": "2022-03-24T03:40:40.733140Z",
     "shell.execute_reply": "2022-03-24T03:40:40.732435Z"
    },
    "papermill": {
     "duration": 0.060572,
     "end_time": "2022-03-24T03:40:40.733290",
     "exception": false,
     "start_time": "2022-03-24T03:40:40.672718",
     "status": "completed"
    },
    "tags": [
     "parameters"
    ]
   },
   "outputs": [],
   "source": [
    "from steves_utils.CORES.utils import (\n",
    "    ALL_NODES,\n",
    "    ALL_NODES_MINIMUM_1000_EXAMPLES,\n",
    "    ALL_DAYS\n",
    ")\n",
    "\n",
    "from steves_utils.ORACLE.utils_v2 import (\n",
    "    ALL_DISTANCES_FEET_NARROWED,\n",
    "    ALL_RUNS,\n",
    "    ALL_SERIAL_NUMBERS,\n",
    ")\n",
    "\n",
    "standalone_parameters = {}\n",
    "standalone_parameters[\"experiment_name\"] = \"STANDALONE PTN\"\n",
    "standalone_parameters[\"lr\"] = 0.001\n",
    "standalone_parameters[\"device\"] = \"cuda\"\n",
    "\n",
    "standalone_parameters[\"seed\"] = 1337\n",
    "standalone_parameters[\"dataset_seed\"] = 1337\n",
    "\n",
    "standalone_parameters[\"n_way\"] = 8\n",
    "standalone_parameters[\"n_shot\"] = 3\n",
    "standalone_parameters[\"n_query\"]  = 2\n",
    "standalone_parameters[\"train_k_factor\"] = 1\n",
    "standalone_parameters[\"val_k_factor\"] = 2\n",
    "standalone_parameters[\"test_k_factor\"] = 2\n",
    "\n",
    "\n",
    "standalone_parameters[\"n_epoch\"] = 50\n",
    "\n",
    "standalone_parameters[\"patience\"] = 10\n",
    "standalone_parameters[\"criteria_for_best\"] = \"source_loss\"\n",
    "\n",
    "standalone_parameters[\"datasets\"] = [\n",
    "    {\n",
    "        \"labels\": ALL_SERIAL_NUMBERS,\n",
    "        \"domains\": ALL_DISTANCES_FEET_NARROWED,\n",
    "        \"num_examples_per_domain_per_label\": 100,\n",
    "        \"pickle_path\": os.path.join(get_datasets_base_path(), \"oracle.Run1_framed_2000Examples_stratified_ds.2022A.pkl\"),\n",
    "        \"source_or_target_dataset\": \"source\",\n",
    "        \"x_transforms\": [\"unit_mag\", \"minus_two\"],\n",
    "        \"episode_transforms\": [],\n",
    "        \"domain_prefix\": \"ORACLE_\"\n",
    "    },\n",
    "    {\n",
    "        \"labels\": ALL_NODES,\n",
    "        \"domains\": ALL_DAYS,\n",
    "        \"num_examples_per_domain_per_label\": 100,\n",
    "        \"pickle_path\": os.path.join(get_datasets_base_path(), \"cores.stratified_ds.2022A.pkl\"),\n",
    "        \"source_or_target_dataset\": \"target\",\n",
    "        \"x_transforms\": [\"unit_power\", \"times_zero\"],\n",
    "        \"episode_transforms\": [],\n",
    "        \"domain_prefix\": \"CORES_\"\n",
    "    }   \n",
    "]\n",
    "\n",
    "standalone_parameters[\"torch_default_dtype\"] = \"torch.float32\" \n",
    "\n",
    "\n",
    "\n",
    "standalone_parameters[\"x_net\"] =     [\n",
    "    {\"class\": \"nnReshape\", \"kargs\": {\"shape\":[-1, 1, 2, 256]}},\n",
    "    {\"class\": \"Conv2d\", \"kargs\": { \"in_channels\":1, \"out_channels\":256, \"kernel_size\":(1,7), \"bias\":False, \"padding\":(0,3), },},\n",
    "    {\"class\": \"ReLU\", \"kargs\": {\"inplace\": True}},\n",
    "    {\"class\": \"BatchNorm2d\", \"kargs\": {\"num_features\":256}},\n",
    "\n",
    "    {\"class\": \"Conv2d\", \"kargs\": { \"in_channels\":256, \"out_channels\":80, \"kernel_size\":(2,7), \"bias\":True, \"padding\":(0,3), },},\n",
    "    {\"class\": \"ReLU\", \"kargs\": {\"inplace\": True}},\n",
    "    {\"class\": \"BatchNorm2d\", \"kargs\": {\"num_features\":80}},\n",
    "    {\"class\": \"Flatten\", \"kargs\": {}},\n",
    "\n",
    "    {\"class\": \"Linear\", \"kargs\": {\"in_features\": 80*256, \"out_features\": 256}}, # 80 units per IQ pair\n",
    "    {\"class\": \"ReLU\", \"kargs\": {\"inplace\": True}},\n",
    "    {\"class\": \"BatchNorm1d\", \"kargs\": {\"num_features\":256}},\n",
    "\n",
    "    {\"class\": \"Linear\", \"kargs\": {\"in_features\": 256, \"out_features\": 256}},\n",
    "]\n",
    "\n",
    "# Parameters relevant to results\n",
    "# These parameters will basically never need to change\n",
    "standalone_parameters[\"NUM_LOGS_PER_EPOCH\"] = 10\n",
    "standalone_parameters[\"BEST_MODEL_PATH\"] = \"./best_model.pth\"\n",
    "\n",
    "\n",
    "\n",
    "\n"
   ]
  },
  {
   "cell_type": "code",
   "execution_count": 4,
   "id": "40d62078",
   "metadata": {
    "execution": {
     "iopub.execute_input": "2022-03-24T03:40:40.795203Z",
     "iopub.status.busy": "2022-03-24T03:40:40.786910Z",
     "iopub.status.idle": "2022-03-24T03:40:40.817675Z",
     "shell.execute_reply": "2022-03-24T03:40:40.818312Z"
    },
    "papermill": {
     "duration": 0.059531,
     "end_time": "2022-03-24T03:40:40.818492",
     "exception": false,
     "start_time": "2022-03-24T03:40:40.758961",
     "status": "completed"
    },
    "tags": [
     "injected-parameters"
    ]
   },
   "outputs": [],
   "source": [
    "# Parameters\n",
    "parameters = {\n",
    "    \"experiment_name\": \"tl_1v2:wisig-oracle.run1\",\n",
    "    \"device\": \"cuda\",\n",
    "    \"lr\": 0.0001,\n",
    "    \"n_shot\": 3,\n",
    "    \"n_query\": 2,\n",
    "    \"train_k_factor\": 3,\n",
    "    \"val_k_factor\": 2,\n",
    "    \"test_k_factor\": 2,\n",
    "    \"torch_default_dtype\": \"torch.float32\",\n",
    "    \"n_epoch\": 50,\n",
    "    \"patience\": 3,\n",
    "    \"criteria_for_best\": \"target_accuracy\",\n",
    "    \"x_net\": [\n",
    "        {\"class\": \"nnReshape\", \"kargs\": {\"shape\": [-1, 1, 2, 256]}},\n",
    "        {\n",
    "            \"class\": \"Conv2d\",\n",
    "            \"kargs\": {\n",
    "                \"in_channels\": 1,\n",
    "                \"out_channels\": 256,\n",
    "                \"kernel_size\": [1, 7],\n",
    "                \"bias\": False,\n",
    "                \"padding\": [0, 3],\n",
    "            },\n",
    "        },\n",
    "        {\"class\": \"ReLU\", \"kargs\": {\"inplace\": True}},\n",
    "        {\"class\": \"BatchNorm2d\", \"kargs\": {\"num_features\": 256}},\n",
    "        {\n",
    "            \"class\": \"Conv2d\",\n",
    "            \"kargs\": {\n",
    "                \"in_channels\": 256,\n",
    "                \"out_channels\": 80,\n",
    "                \"kernel_size\": [2, 7],\n",
    "                \"bias\": True,\n",
    "                \"padding\": [0, 3],\n",
    "            },\n",
    "        },\n",
    "        {\"class\": \"ReLU\", \"kargs\": {\"inplace\": True}},\n",
    "        {\"class\": \"BatchNorm2d\", \"kargs\": {\"num_features\": 80}},\n",
    "        {\"class\": \"Flatten\", \"kargs\": {}},\n",
    "        {\"class\": \"Linear\", \"kargs\": {\"in_features\": 20480, \"out_features\": 256}},\n",
    "        {\"class\": \"ReLU\", \"kargs\": {\"inplace\": True}},\n",
    "        {\"class\": \"BatchNorm1d\", \"kargs\": {\"num_features\": 256}},\n",
    "        {\"class\": \"Linear\", \"kargs\": {\"in_features\": 256, \"out_features\": 256}},\n",
    "    ],\n",
    "    \"NUM_LOGS_PER_EPOCH\": 10,\n",
    "    \"BEST_MODEL_PATH\": \"./best_model.pth\",\n",
    "    \"n_way\": 16,\n",
    "    \"datasets\": [\n",
    "        {\n",
    "            \"labels\": [\n",
    "                \"1-10\",\n",
    "                \"1-12\",\n",
    "                \"1-14\",\n",
    "                \"1-16\",\n",
    "                \"1-18\",\n",
    "                \"1-19\",\n",
    "                \"1-8\",\n",
    "                \"10-11\",\n",
    "                \"10-17\",\n",
    "                \"10-4\",\n",
    "                \"10-7\",\n",
    "                \"11-1\",\n",
    "                \"11-10\",\n",
    "                \"11-19\",\n",
    "                \"11-20\",\n",
    "                \"11-4\",\n",
    "                \"11-7\",\n",
    "                \"12-19\",\n",
    "                \"12-20\",\n",
    "                \"12-7\",\n",
    "                \"13-14\",\n",
    "                \"13-18\",\n",
    "                \"13-19\",\n",
    "                \"13-20\",\n",
    "                \"13-3\",\n",
    "                \"13-7\",\n",
    "                \"14-10\",\n",
    "                \"14-11\",\n",
    "                \"14-12\",\n",
    "                \"14-13\",\n",
    "                \"14-14\",\n",
    "                \"14-19\",\n",
    "                \"14-20\",\n",
    "                \"14-7\",\n",
    "                \"14-8\",\n",
    "                \"14-9\",\n",
    "                \"15-1\",\n",
    "                \"15-19\",\n",
    "                \"15-6\",\n",
    "                \"16-1\",\n",
    "                \"16-16\",\n",
    "                \"16-19\",\n",
    "                \"16-20\",\n",
    "                \"17-10\",\n",
    "                \"17-11\",\n",
    "                \"18-1\",\n",
    "                \"18-10\",\n",
    "                \"18-11\",\n",
    "                \"18-12\",\n",
    "                \"18-13\",\n",
    "                \"18-14\",\n",
    "                \"18-15\",\n",
    "                \"18-16\",\n",
    "                \"18-17\",\n",
    "                \"18-19\",\n",
    "                \"18-2\",\n",
    "                \"18-20\",\n",
    "                \"18-4\",\n",
    "                \"18-5\",\n",
    "                \"18-7\",\n",
    "                \"18-8\",\n",
    "                \"18-9\",\n",
    "                \"19-1\",\n",
    "                \"19-10\",\n",
    "                \"19-11\",\n",
    "                \"19-12\",\n",
    "                \"19-13\",\n",
    "                \"19-14\",\n",
    "                \"19-15\",\n",
    "                \"19-19\",\n",
    "                \"19-2\",\n",
    "                \"19-20\",\n",
    "                \"19-3\",\n",
    "                \"19-4\",\n",
    "                \"19-6\",\n",
    "                \"19-7\",\n",
    "                \"19-8\",\n",
    "                \"19-9\",\n",
    "                \"2-1\",\n",
    "                \"2-13\",\n",
    "                \"2-15\",\n",
    "                \"2-3\",\n",
    "                \"2-4\",\n",
    "                \"2-5\",\n",
    "                \"2-6\",\n",
    "                \"2-7\",\n",
    "                \"2-8\",\n",
    "                \"20-1\",\n",
    "                \"20-12\",\n",
    "                \"20-14\",\n",
    "                \"20-15\",\n",
    "                \"20-16\",\n",
    "                \"20-18\",\n",
    "                \"20-19\",\n",
    "                \"20-20\",\n",
    "                \"20-3\",\n",
    "                \"20-4\",\n",
    "                \"20-5\",\n",
    "                \"20-7\",\n",
    "                \"20-8\",\n",
    "                \"3-1\",\n",
    "                \"3-13\",\n",
    "                \"3-18\",\n",
    "                \"3-2\",\n",
    "                \"3-8\",\n",
    "                \"4-1\",\n",
    "                \"4-10\",\n",
    "                \"4-11\",\n",
    "                \"5-1\",\n",
    "                \"5-5\",\n",
    "                \"6-1\",\n",
    "                \"6-15\",\n",
    "                \"6-6\",\n",
    "                \"7-10\",\n",
    "                \"7-11\",\n",
    "                \"7-12\",\n",
    "                \"7-13\",\n",
    "                \"7-14\",\n",
    "                \"7-7\",\n",
    "                \"7-8\",\n",
    "                \"7-9\",\n",
    "                \"8-1\",\n",
    "                \"8-13\",\n",
    "                \"8-14\",\n",
    "                \"8-18\",\n",
    "                \"8-20\",\n",
    "                \"8-3\",\n",
    "                \"8-8\",\n",
    "                \"9-1\",\n",
    "                \"9-7\",\n",
    "            ],\n",
    "            \"domains\": [1, 2, 3, 4],\n",
    "            \"num_examples_per_domain_per_label\": -1,\n",
    "            \"pickle_path\": \"/root/csc500-main/datasets/wisig.node3-19.stratified_ds.2022A.pkl\",\n",
    "            \"source_or_target_dataset\": \"target\",\n",
    "            \"x_transforms\": [\"unit_power\"],\n",
    "            \"episode_transforms\": [],\n",
    "            \"domain_prefix\": \"Wisig_\",\n",
    "        },\n",
    "        {\n",
    "            \"labels\": [\n",
    "                \"3123D52\",\n",
    "                \"3123D65\",\n",
    "                \"3123D79\",\n",
    "                \"3123D80\",\n",
    "                \"3123D54\",\n",
    "                \"3123D70\",\n",
    "                \"3123D7B\",\n",
    "                \"3123D89\",\n",
    "                \"3123D58\",\n",
    "                \"3123D76\",\n",
    "                \"3123D7D\",\n",
    "                \"3123EFE\",\n",
    "                \"3123D64\",\n",
    "                \"3123D78\",\n",
    "                \"3123D7E\",\n",
    "                \"3124E4A\",\n",
    "            ],\n",
    "            \"domains\": [32, 38, 8, 44, 14, 50, 20, 26],\n",
    "            \"num_examples_per_domain_per_label\": 10000,\n",
    "            \"pickle_path\": \"/root/csc500-main/datasets/oracle.Run1_10kExamples_stratified_ds.2022A.pkl\",\n",
    "            \"source_or_target_dataset\": \"source\",\n",
    "            \"x_transforms\": [\"unit_power\"],\n",
    "            \"episode_transforms\": [],\n",
    "            \"domain_prefix\": \"ORACLE.run1\",\n",
    "        },\n",
    "    ],\n",
    "    \"dataset_seed\": 7,\n",
    "    \"seed\": 7,\n",
    "}\n"
   ]
  },
  {
   "cell_type": "code",
   "execution_count": 5,
   "id": "8fa1cc33",
   "metadata": {
    "execution": {
     "iopub.execute_input": "2022-03-24T03:40:40.868772Z",
     "iopub.status.busy": "2022-03-24T03:40:40.868320Z",
     "iopub.status.idle": "2022-03-24T03:40:40.896361Z",
     "shell.execute_reply": "2022-03-24T03:40:40.897031Z"
    },
    "papermill": {
     "duration": 0.052732,
     "end_time": "2022-03-24T03:40:40.897206",
     "exception": false,
     "start_time": "2022-03-24T03:40:40.844474",
     "status": "completed"
    },
    "tags": []
   },
   "outputs": [],
   "source": [
    "# Set this to True if you want to run this template directly\n",
    "STANDALONE = False\n",
    "if STANDALONE:\n",
    "    print(\"parameters not injected, running with standalone_parameters\")\n",
    "    parameters = standalone_parameters\n",
    "\n",
    "if not 'parameters' in locals() and not 'parameters' in globals():\n",
    "    raise Exception(\"Parameter injection failed\")\n",
    "\n",
    "#Use an easy dict for all the parameters\n",
    "p = EasyDict(parameters)\n",
    "\n",
    "if \"x_shape\" not in p:\n",
    "    p.x_shape = [2,256] # Default to this if we dont supply x_shape\n",
    "\n",
    "\n",
    "supplied_keys = set(p.keys())\n",
    "\n",
    "if  supplied_keys != required_parameters:\n",
    "    print(\"Parameters are incorrect\")\n",
    "    if len(supplied_keys - required_parameters)>0: print(\"Shouldn't have:\", str(supplied_keys - required_parameters))\n",
    "    if len(required_parameters - supplied_keys)>0: print(\"Need to have:\", str(required_parameters - supplied_keys))\n",
    "    raise RuntimeError(\"Parameters are incorrect\")"
   ]
  },
  {
   "cell_type": "code",
   "execution_count": 6,
   "id": "3a028d58",
   "metadata": {
    "execution": {
     "iopub.execute_input": "2022-03-24T03:40:40.947784Z",
     "iopub.status.busy": "2022-03-24T03:40:40.947293Z",
     "iopub.status.idle": "2022-03-24T03:40:40.972640Z",
     "shell.execute_reply": "2022-03-24T03:40:40.973303Z"
    },
    "papermill": {
     "duration": 0.050284,
     "end_time": "2022-03-24T03:40:40.973477",
     "exception": false,
     "start_time": "2022-03-24T03:40:40.923193",
     "status": "completed"
    },
    "tags": []
   },
   "outputs": [],
   "source": [
    "###################################\n",
    "# Set the RNGs and make it all deterministic\n",
    "###################################\n",
    "np.random.seed(p.seed)\n",
    "random.seed(p.seed)\n",
    "torch.manual_seed(p.seed)\n",
    "\n",
    "torch.use_deterministic_algorithms(True) "
   ]
  },
  {
   "cell_type": "code",
   "execution_count": 7,
   "id": "b691acf6",
   "metadata": {
    "execution": {
     "iopub.execute_input": "2022-03-24T03:40:41.022665Z",
     "iopub.status.busy": "2022-03-24T03:40:41.022300Z",
     "iopub.status.idle": "2022-03-24T03:40:41.047018Z",
     "shell.execute_reply": "2022-03-24T03:40:41.046313Z"
    },
    "papermill": {
     "duration": 0.047752,
     "end_time": "2022-03-24T03:40:41.047169",
     "exception": false,
     "start_time": "2022-03-24T03:40:40.999417",
     "status": "completed"
    },
    "tags": []
   },
   "outputs": [],
   "source": [
    "###########################################\n",
    "# The stratified datasets honor this\n",
    "###########################################\n",
    "torch.set_default_dtype(eval(p.torch_default_dtype))"
   ]
  },
  {
   "cell_type": "code",
   "execution_count": 8,
   "id": "b5fba671",
   "metadata": {
    "execution": {
     "iopub.execute_input": "2022-03-24T03:40:41.096451Z",
     "iopub.status.busy": "2022-03-24T03:40:41.095999Z",
     "iopub.status.idle": "2022-03-24T03:40:41.155074Z",
     "shell.execute_reply": "2022-03-24T03:40:41.154357Z"
    },
    "papermill": {
     "duration": 0.081245,
     "end_time": "2022-03-24T03:40:41.155227",
     "exception": false,
     "start_time": "2022-03-24T03:40:41.073982",
     "status": "completed"
    },
    "tags": []
   },
   "outputs": [],
   "source": [
    "###################################\n",
    "# Build the network(s)\n",
    "# Note: It's critical to do this AFTER setting the RNG\n",
    "###################################\n",
    "x_net = build_sequential(p.x_net)"
   ]
  },
  {
   "cell_type": "code",
   "execution_count": 9,
   "id": "5d7e61cc",
   "metadata": {
    "execution": {
     "iopub.execute_input": "2022-03-24T03:40:41.210320Z",
     "iopub.status.busy": "2022-03-24T03:40:41.209959Z",
     "iopub.status.idle": "2022-03-24T03:40:41.238532Z",
     "shell.execute_reply": "2022-03-24T03:40:41.237832Z"
    },
    "papermill": {
     "duration": 0.05408,
     "end_time": "2022-03-24T03:40:41.238682",
     "exception": false,
     "start_time": "2022-03-24T03:40:41.184602",
     "status": "completed"
    },
    "tags": []
   },
   "outputs": [],
   "source": [
    "start_time_secs = time.time()"
   ]
  },
  {
   "cell_type": "code",
   "execution_count": 10,
   "id": "c6b67dfd",
   "metadata": {
    "execution": {
     "iopub.execute_input": "2022-03-24T03:40:41.291239Z",
     "iopub.status.busy": "2022-03-24T03:40:41.290687Z",
     "iopub.status.idle": "2022-03-24T03:40:41.314995Z",
     "shell.execute_reply": "2022-03-24T03:40:41.315665Z"
    },
    "papermill": {
     "duration": 0.051382,
     "end_time": "2022-03-24T03:40:41.315849",
     "exception": false,
     "start_time": "2022-03-24T03:40:41.264467",
     "status": "completed"
    },
    "tags": []
   },
   "outputs": [],
   "source": [
    "p.domains_source = []\n",
    "p.domains_target = []\n",
    "\n",
    "\n",
    "train_original_source = []\n",
    "val_original_source   = []\n",
    "test_original_source  = []\n",
    "\n",
    "train_original_target = []\n",
    "val_original_target   = []\n",
    "test_original_target  = []"
   ]
  },
  {
   "cell_type": "code",
   "execution_count": 11,
   "id": "e3d9c3d3",
   "metadata": {
    "execution": {
     "iopub.execute_input": "2022-03-24T03:40:41.364729Z",
     "iopub.status.busy": "2022-03-24T03:40:41.364362Z",
     "iopub.status.idle": "2022-03-24T03:40:41.389223Z",
     "shell.execute_reply": "2022-03-24T03:40:41.388419Z"
    },
    "papermill": {
     "duration": 0.048276,
     "end_time": "2022-03-24T03:40:41.389373",
     "exception": false,
     "start_time": "2022-03-24T03:40:41.341097",
     "status": "completed"
    },
    "tags": []
   },
   "outputs": [],
   "source": [
    "# global_x_transform_func = lambda x: normalize(x.to(torch.get_default_dtype()), \"unit_power\") # unit_power, unit_mag\n",
    "# global_x_transform_func = lambda x: normalize(x, \"unit_power\") # unit_power, unit_mag"
   ]
  },
  {
   "cell_type": "code",
   "execution_count": 12,
   "id": "acb78fd2",
   "metadata": {
    "execution": {
     "iopub.execute_input": "2022-03-24T03:40:41.449727Z",
     "iopub.status.busy": "2022-03-24T03:40:41.439565Z",
     "iopub.status.idle": "2022-03-24T03:40:41.473086Z",
     "shell.execute_reply": "2022-03-24T03:40:41.472282Z"
    },
    "papermill": {
     "duration": 0.05741,
     "end_time": "2022-03-24T03:40:41.473236",
     "exception": false,
     "start_time": "2022-03-24T03:40:41.415826",
     "status": "completed"
    },
    "tags": []
   },
   "outputs": [],
   "source": [
    "def add_dataset(\n",
    "    labels,\n",
    "    domains,\n",
    "    pickle_path,\n",
    "    x_transforms,\n",
    "    episode_transforms,\n",
    "    domain_prefix,\n",
    "    num_examples_per_domain_per_label,\n",
    "    source_or_target_dataset:str,\n",
    "    iterator_seed=p.seed,\n",
    "    dataset_seed=p.dataset_seed,\n",
    "    n_shot=p.n_shot,\n",
    "    n_way=p.n_way,\n",
    "    n_query=p.n_query,\n",
    "    train_val_test_k_factors=(p.train_k_factor,p.val_k_factor,p.test_k_factor),\n",
    "):\n",
    "   \n",
    "    if x_transforms == []: x_transform = None\n",
    "    else: x_transform = get_chained_transform(x_transforms)\n",
    "    \n",
    "    if episode_transforms == []: episode_transform = None\n",
    "    else: raise Exception(\"episode_transforms not implemented\")\n",
    "    \n",
    "    episode_transform = lambda tup, _prefix=domain_prefix: (_prefix + str(tup[0]), tup[1])\n",
    "\n",
    "\n",
    "    eaf = Episodic_Accessor_Factory(\n",
    "        labels=labels,\n",
    "        domains=domains,\n",
    "        num_examples_per_domain_per_label=num_examples_per_domain_per_label,\n",
    "        iterator_seed=iterator_seed,\n",
    "        dataset_seed=dataset_seed,\n",
    "        n_shot=n_shot,\n",
    "        n_way=n_way,\n",
    "        n_query=n_query,\n",
    "        train_val_test_k_factors=train_val_test_k_factors,\n",
    "        pickle_path=pickle_path,\n",
    "        x_transform_func=x_transform,\n",
    "    )\n",
    "\n",
    "    train, val, test = eaf.get_train(), eaf.get_val(), eaf.get_test()\n",
    "    train = Lazy_Iterable_Wrapper(train, episode_transform)\n",
    "    val = Lazy_Iterable_Wrapper(val, episode_transform)\n",
    "    test = Lazy_Iterable_Wrapper(test, episode_transform)\n",
    "\n",
    "    if source_or_target_dataset==\"source\":\n",
    "        train_original_source.append(train)\n",
    "        val_original_source.append(val)\n",
    "        test_original_source.append(test)\n",
    "\n",
    "        p.domains_source.extend(\n",
    "            [domain_prefix + str(u) for u in domains]\n",
    "        )\n",
    "    elif source_or_target_dataset==\"target\":\n",
    "        train_original_target.append(train)\n",
    "        val_original_target.append(val)\n",
    "        test_original_target.append(test)\n",
    "        p.domains_target.extend(\n",
    "            [domain_prefix + str(u) for u in domains]\n",
    "        )\n",
    "    else:\n",
    "        raise Exception(f\"invalid source_or_target_dataset: {source_or_target_dataset}\")\n",
    "    "
   ]
  },
  {
   "cell_type": "code",
   "execution_count": 13,
   "id": "fe266617",
   "metadata": {
    "execution": {
     "iopub.execute_input": "2022-03-24T03:40:41.526073Z",
     "iopub.status.busy": "2022-03-24T03:40:41.525709Z",
     "iopub.status.idle": "2022-03-24T03:42:53.220181Z",
     "shell.execute_reply": "2022-03-24T03:42:53.219414Z"
    },
    "papermill": {
     "duration": 131.718148,
     "end_time": "2022-03-24T03:42:53.220369",
     "exception": false,
     "start_time": "2022-03-24T03:40:41.502221",
     "status": "completed"
    },
    "tags": []
   },
   "outputs": [],
   "source": [
    "for ds in p.datasets:\n",
    "    add_dataset(**ds)"
   ]
  },
  {
   "cell_type": "code",
   "execution_count": 14,
   "id": "b90d65ac",
   "metadata": {
    "execution": {
     "iopub.execute_input": "2022-03-24T03:42:53.270949Z",
     "iopub.status.busy": "2022-03-24T03:42:53.270570Z",
     "iopub.status.idle": "2022-03-24T03:42:53.296595Z",
     "shell.execute_reply": "2022-03-24T03:42:53.295843Z"
    },
    "papermill": {
     "duration": 0.050819,
     "end_time": "2022-03-24T03:42:53.296769",
     "exception": false,
     "start_time": "2022-03-24T03:42:53.245950",
     "status": "completed"
    },
    "tags": []
   },
   "outputs": [],
   "source": [
    "# from steves_utils.CORES.utils import (\n",
    "#     ALL_NODES,\n",
    "#     ALL_NODES_MINIMUM_1000_EXAMPLES,\n",
    "#     ALL_DAYS\n",
    "# )\n",
    "\n",
    "# add_dataset(\n",
    "#     labels=ALL_NODES,\n",
    "#     domains = ALL_DAYS,\n",
    "#     num_examples_per_domain_per_label=100,\n",
    "#     pickle_path=os.path.join(get_datasets_base_path(), \"cores.stratified_ds.2022A.pkl\"),\n",
    "#     source_or_target_dataset=\"target\",\n",
    "#     x_transform_func=global_x_transform_func,\n",
    "#     domain_modifier=lambda u: f\"cores_{u}\"\n",
    "# )"
   ]
  },
  {
   "cell_type": "code",
   "execution_count": 15,
   "id": "76db484d",
   "metadata": {
    "execution": {
     "iopub.execute_input": "2022-03-24T03:42:53.350478Z",
     "iopub.status.busy": "2022-03-24T03:42:53.349842Z",
     "iopub.status.idle": "2022-03-24T03:42:53.370524Z",
     "shell.execute_reply": "2022-03-24T03:42:53.369802Z"
    },
    "papermill": {
     "duration": 0.046293,
     "end_time": "2022-03-24T03:42:53.370686",
     "exception": false,
     "start_time": "2022-03-24T03:42:53.324393",
     "status": "completed"
    },
    "tags": []
   },
   "outputs": [],
   "source": [
    "# from steves_utils.ORACLE.utils_v2 import (\n",
    "#     ALL_DISTANCES_FEET,\n",
    "#     ALL_RUNS,\n",
    "#     ALL_SERIAL_NUMBERS,\n",
    "# )\n",
    "\n",
    "\n",
    "# add_dataset(\n",
    "#     labels=ALL_SERIAL_NUMBERS,\n",
    "#     domains = list(set(ALL_DISTANCES_FEET) - {2,62}),\n",
    "#     num_examples_per_domain_per_label=100,\n",
    "#     pickle_path=os.path.join(get_datasets_base_path(), \"oracle.Run2_framed_2000Examples_stratified_ds.2022A.pkl\"),\n",
    "#     source_or_target_dataset=\"source\",\n",
    "#     x_transform_func=global_x_transform_func,\n",
    "#     domain_modifier=lambda u: f\"oracle1_{u}\"\n",
    "# )\n"
   ]
  },
  {
   "cell_type": "code",
   "execution_count": 16,
   "id": "97dea9d2",
   "metadata": {
    "execution": {
     "iopub.execute_input": "2022-03-24T03:42:53.421158Z",
     "iopub.status.busy": "2022-03-24T03:42:53.420771Z",
     "iopub.status.idle": "2022-03-24T03:42:53.437786Z",
     "shell.execute_reply": "2022-03-24T03:42:53.436977Z"
    },
    "papermill": {
     "duration": 0.040622,
     "end_time": "2022-03-24T03:42:53.437940",
     "exception": false,
     "start_time": "2022-03-24T03:42:53.397318",
     "status": "completed"
    },
    "tags": []
   },
   "outputs": [],
   "source": [
    "# from steves_utils.ORACLE.utils_v2 import (\n",
    "#     ALL_DISTANCES_FEET,\n",
    "#     ALL_RUNS,\n",
    "#     ALL_SERIAL_NUMBERS,\n",
    "# )\n",
    "\n",
    "\n",
    "# add_dataset(\n",
    "#     labels=ALL_SERIAL_NUMBERS,\n",
    "#     domains = list(set(ALL_DISTANCES_FEET) - {2,62,56}),\n",
    "#     num_examples_per_domain_per_label=100,\n",
    "#     pickle_path=os.path.join(get_datasets_base_path(), \"oracle.Run2_framed_2000Examples_stratified_ds.2022A.pkl\"),\n",
    "#     source_or_target_dataset=\"source\",\n",
    "#     x_transform_func=global_x_transform_func,\n",
    "#     domain_modifier=lambda u: f\"oracle2_{u}\"\n",
    "# )"
   ]
  },
  {
   "cell_type": "code",
   "execution_count": 17,
   "id": "6f289866",
   "metadata": {
    "execution": {
     "iopub.execute_input": "2022-03-24T03:42:53.489744Z",
     "iopub.status.busy": "2022-03-24T03:42:53.489181Z",
     "iopub.status.idle": "2022-03-24T03:42:53.510738Z",
     "shell.execute_reply": "2022-03-24T03:42:53.509995Z"
    },
    "papermill": {
     "duration": 0.046011,
     "end_time": "2022-03-24T03:42:53.510891",
     "exception": false,
     "start_time": "2022-03-24T03:42:53.464880",
     "status": "completed"
    },
    "tags": []
   },
   "outputs": [],
   "source": [
    "# add_dataset(\n",
    "#     labels=list(range(19)),\n",
    "#     domains = [0,1,2],\n",
    "#     num_examples_per_domain_per_label=100,\n",
    "#     pickle_path=os.path.join(get_datasets_base_path(), \"metehan.stratified_ds.2022A.pkl\"),\n",
    "#     source_or_target_dataset=\"target\",\n",
    "#     x_transform_func=global_x_transform_func,\n",
    "#     domain_modifier=lambda u: f\"met_{u}\"\n",
    "# )"
   ]
  },
  {
   "cell_type": "code",
   "execution_count": 18,
   "id": "86a863c3",
   "metadata": {
    "execution": {
     "iopub.execute_input": "2022-03-24T03:42:53.564525Z",
     "iopub.status.busy": "2022-03-24T03:42:53.563474Z",
     "iopub.status.idle": "2022-03-24T03:42:53.585699Z",
     "shell.execute_reply": "2022-03-24T03:42:53.584888Z"
    },
    "papermill": {
     "duration": 0.046405,
     "end_time": "2022-03-24T03:42:53.585851",
     "exception": false,
     "start_time": "2022-03-24T03:42:53.539446",
     "status": "completed"
    },
    "tags": []
   },
   "outputs": [],
   "source": [
    "# # from steves_utils.wisig.utils import (\n",
    "# #     ALL_NODES_MINIMUM_100_EXAMPLES,\n",
    "# #     ALL_NODES_MINIMUM_500_EXAMPLES,\n",
    "# #     ALL_NODES_MINIMUM_1000_EXAMPLES,\n",
    "# #     ALL_DAYS\n",
    "# # )\n",
    "\n",
    "# import steves_utils.wisig.utils as wisig\n",
    "\n",
    "\n",
    "# add_dataset(\n",
    "#     labels=wisig.ALL_NODES_MINIMUM_100_EXAMPLES,\n",
    "#     domains = wisig.ALL_DAYS,\n",
    "#     num_examples_per_domain_per_label=100,\n",
    "#     pickle_path=os.path.join(get_datasets_base_path(), \"wisig.node3-19.stratified_ds.2022A.pkl\"),\n",
    "#     source_or_target_dataset=\"target\",\n",
    "#     x_transform_func=global_x_transform_func,\n",
    "#     domain_modifier=lambda u: f\"wisig_{u}\"\n",
    "# )"
   ]
  },
  {
   "cell_type": "code",
   "execution_count": 19,
   "id": "fd5442bc",
   "metadata": {
    "execution": {
     "iopub.execute_input": "2022-03-24T03:42:53.644258Z",
     "iopub.status.busy": "2022-03-24T03:42:53.643378Z",
     "iopub.status.idle": "2022-03-24T03:42:53.667158Z",
     "shell.execute_reply": "2022-03-24T03:42:53.666446Z"
    },
    "papermill": {
     "duration": 0.054612,
     "end_time": "2022-03-24T03:42:53.667323",
     "exception": false,
     "start_time": "2022-03-24T03:42:53.612711",
     "status": "completed"
    },
    "tags": []
   },
   "outputs": [],
   "source": [
    "###################################\n",
    "# Build the dataset\n",
    "###################################\n",
    "train_original_source = Iterable_Aggregator(train_original_source, p.seed)\n",
    "val_original_source = Iterable_Aggregator(val_original_source, p.seed)\n",
    "test_original_source = Iterable_Aggregator(test_original_source, p.seed)\n",
    "\n",
    "\n",
    "train_original_target = Iterable_Aggregator(train_original_target, p.seed)\n",
    "val_original_target = Iterable_Aggregator(val_original_target, p.seed)\n",
    "test_original_target = Iterable_Aggregator(test_original_target, p.seed)\n",
    "\n",
    "# For CNN We only use X and Y. And we only train on the source.\n",
    "# Properly form the data using a transform lambda and Lazy_Iterable_Wrapper. Finally wrap them in a dataloader\n",
    "\n",
    "transform_lambda = lambda ex: ex[1] # Original is (<domain>, <episode>) so we strip down to episode only\n",
    "\n",
    "train_processed_source = Lazy_Iterable_Wrapper(train_original_source, transform_lambda)\n",
    "val_processed_source   = Lazy_Iterable_Wrapper(val_original_source, transform_lambda)\n",
    "test_processed_source  = Lazy_Iterable_Wrapper(test_original_source, transform_lambda)\n",
    "\n",
    "train_processed_target = Lazy_Iterable_Wrapper(train_original_target, transform_lambda)\n",
    "val_processed_target   = Lazy_Iterable_Wrapper(val_original_target, transform_lambda)\n",
    "test_processed_target  = Lazy_Iterable_Wrapper(test_original_target, transform_lambda)\n",
    "\n",
    "datasets = EasyDict({\n",
    "    \"source\": {\n",
    "        \"original\": {\"train\":train_original_source, \"val\":val_original_source, \"test\":test_original_source},\n",
    "        \"processed\": {\"train\":train_processed_source, \"val\":val_processed_source, \"test\":test_processed_source}\n",
    "    },\n",
    "    \"target\": {\n",
    "        \"original\": {\"train\":train_original_target, \"val\":val_original_target, \"test\":test_original_target},\n",
    "        \"processed\": {\"train\":train_processed_target, \"val\":val_processed_target, \"test\":test_processed_target}\n",
    "    },\n",
    "})"
   ]
  },
  {
   "cell_type": "code",
   "execution_count": 20,
   "id": "5b3c01fc",
   "metadata": {
    "execution": {
     "iopub.execute_input": "2022-03-24T03:42:53.720902Z",
     "iopub.status.busy": "2022-03-24T03:42:53.720514Z",
     "iopub.status.idle": "2022-03-24T03:43:27.587914Z",
     "shell.execute_reply": "2022-03-24T03:43:27.587059Z"
    },
    "papermill": {
     "duration": 33.894432,
     "end_time": "2022-03-24T03:43:27.588088",
     "exception": false,
     "start_time": "2022-03-24T03:42:53.693656",
     "status": "completed"
    },
    "tags": []
   },
   "outputs": [
    {
     "name": "stdout",
     "output_type": "stream",
     "text": [
      "{'ORACLE.run138', 'ORACLE.run144', 'ORACLE.run126', 'ORACLE.run114', 'ORACLE.run120', 'ORACLE.run132', 'ORACLE.run150', 'ORACLE.run18'}\n"
     ]
    },
    {
     "name": "stdout",
     "output_type": "stream",
     "text": [
      "{'Wisig_1', 'Wisig_2', 'Wisig_3', 'Wisig_4'}\n"
     ]
    },
    {
     "name": "stdout",
     "output_type": "stream",
     "text": [
      "tensor([[[ 1.2104,  0.2177,  0.8969,  ..., -0.2699, -0.8185, -0.2612],\n",
      "         [ 0.2786,  0.4093, -0.0348,  ...,  1.1146,  0.2264, -1.1320]],\n",
      "\n",
      "        [[ 0.5840,  0.9276, -1.2969,  ..., -1.5889, -0.4896,  0.9018],\n",
      "         [ 0.5239,  0.4810, -0.1460,  ..., -1.0478, -0.3693, -0.1975]],\n",
      "\n",
      "        [[-0.7359, -0.1692,  0.6852,  ...,  0.1607, -0.2538, -0.1776],\n",
      "         [ 0.4653,  0.5921,  0.7782,  ..., -0.2199,  0.7867, -1.1420]],\n",
      "\n",
      "        ...,\n",
      "\n",
      "        [[ 0.4953, -0.2030, -0.8931,  ..., -0.1055, -0.6739, -1.3234],\n",
      "         [ 0.0487,  0.1543,  0.7794,  ...,  0.7470, -0.1137,  1.1367]],\n",
      "\n",
      "        [[ 0.2961,  0.5757, -0.6086,  ...,  1.8504,  1.1596,  0.3948],\n",
      "         [ 0.6579,  0.1892, -0.2714,  ...,  0.9129,  0.4194,  0.5428]],\n",
      "\n",
      "        [[ 0.1823, -0.4915, -1.1098,  ..., -0.3171,  0.6341,  0.9512],\n",
      "         [ 0.3884, -0.6738, -1.2762,  ...,  0.3250, -0.6817,  1.4031]]])\n"
     ]
    }
   ],
   "source": [
    "from steves_utils.transforms import get_average_magnitude, get_average_power\n",
    "\n",
    "print(set([u for u,_ in val_original_source]))\n",
    "print(set([u for u,_ in val_original_target]))\n",
    "\n",
    "s_x, s_y, q_x, q_y, _ = next(iter(train_processed_source))\n",
    "print(s_x)\n",
    "\n",
    "# for ds in [\n",
    "#     train_processed_source,\n",
    "#     val_processed_source,\n",
    "#     test_processed_source,\n",
    "#     train_processed_target,\n",
    "#     val_processed_target,\n",
    "#     test_processed_target\n",
    "# ]:\n",
    "#     for s_x, s_y, q_x, q_y, _ in ds:\n",
    "#         for X in (s_x, q_x):\n",
    "#             for x in X:\n",
    "#                 assert np.isclose(get_average_magnitude(x.numpy()), 1.0)\n",
    "#                 assert np.isclose(get_average_power(x.numpy()), 1.0)\n",
    "                "
   ]
  },
  {
   "cell_type": "code",
   "execution_count": 21,
   "id": "bbdacba1",
   "metadata": {
    "execution": {
     "iopub.execute_input": "2022-03-24T03:43:27.642817Z",
     "iopub.status.busy": "2022-03-24T03:43:27.642067Z",
     "iopub.status.idle": "2022-03-24T03:43:27.884203Z",
     "shell.execute_reply": "2022-03-24T03:43:27.883792Z"
    },
    "papermill": {
     "duration": 0.268945,
     "end_time": "2022-03-24T03:43:27.884314",
     "exception": false,
     "start_time": "2022-03-24T03:43:27.615369",
     "status": "completed"
    },
    "tags": []
   },
   "outputs": [
    {
     "name": "stdout",
     "output_type": "stream",
     "text": [
      "(2, 256)\n"
     ]
    }
   ],
   "source": [
    "###################################\n",
    "# Build the model\n",
    "###################################\n",
    "# easfsl only wants a tuple for the shape\n",
    "model = Steves_Prototypical_Network(x_net, device=p.device, x_shape=tuple(p.x_shape))\n",
    "optimizer = Adam(params=model.parameters(), lr=p.lr)"
   ]
  },
  {
   "cell_type": "code",
   "execution_count": 22,
   "id": "22b39ac5",
   "metadata": {
    "execution": {
     "iopub.execute_input": "2022-03-24T03:43:27.934103Z",
     "iopub.status.busy": "2022-03-24T03:43:27.933729Z",
     "iopub.status.idle": "2022-03-24T09:08:59.385859Z",
     "shell.execute_reply": "2022-03-24T09:08:59.385340Z"
    },
    "papermill": {
     "duration": 19531.477865,
     "end_time": "2022-03-24T09:08:59.385957",
     "exception": false,
     "start_time": "2022-03-24T03:43:27.908092",
     "status": "completed"
    },
    "tags": []
   },
   "outputs": [
    {
     "name": "stdout",
     "output_type": "stream",
     "text": [
      "epoch: 1, [batch: 1 / 33600], examples_per_second: 6.3410, train_label_loss: 2.7613, \n"
     ]
    },
    {
     "name": "stdout",
     "output_type": "stream",
     "text": [
      "epoch: 1, [batch: 3360 / 33600], examples_per_second: 2926.1261, train_label_loss: 2.1320, \n"
     ]
    },
    {
     "name": "stdout",
     "output_type": "stream",
     "text": [
      "epoch: 1, [batch: 6720 / 33600], examples_per_second: 3457.1941, train_label_loss: 0.9908, \n"
     ]
    },
    {
     "name": "stdout",
     "output_type": "stream",
     "text": [
      "epoch: 1, [batch: 10080 / 33600], examples_per_second: 3563.3211, train_label_loss: 0.7218, \n"
     ]
    },
    {
     "name": "stdout",
     "output_type": "stream",
     "text": [
      "epoch: 1, [batch: 13440 / 33600], examples_per_second: 3377.8617, train_label_loss: 1.1423, \n"
     ]
    },
    {
     "name": "stdout",
     "output_type": "stream",
     "text": [
      "epoch: 1, [batch: 16800 / 33600], examples_per_second: 3485.4283, train_label_loss: 0.8631, \n"
     ]
    },
    {
     "name": "stdout",
     "output_type": "stream",
     "text": [
      "epoch: 1, [batch: 20160 / 33600], examples_per_second: 3687.4346, train_label_loss: 0.5359, \n"
     ]
    },
    {
     "name": "stdout",
     "output_type": "stream",
     "text": [
      "epoch: 1, [batch: 23520 / 33600], examples_per_second: 3365.0336, train_label_loss: 0.5527, \n"
     ]
    },
    {
     "name": "stdout",
     "output_type": "stream",
     "text": [
      "epoch: 1, [batch: 26880 / 33600], examples_per_second: 3709.2435, train_label_loss: 0.5898, \n"
     ]
    },
    {
     "name": "stdout",
     "output_type": "stream",
     "text": [
      "epoch: 1, [batch: 30240 / 33600], examples_per_second: 4273.9891, train_label_loss: 1.1973, \n"
     ]
    },
    {
     "name": "stdout",
     "output_type": "stream",
     "text": [
      "=============================================================\n",
      "epoch: 1, source_val_acc_label: 0.6339, target_val_acc_label: 0.6744, source_val_label_loss: 1.0059, target_val_label_loss: 5.5685, \n",
      "=============================================================\n"
     ]
    },
    {
     "name": "stdout",
     "output_type": "stream",
     "text": [
      "New best\n"
     ]
    },
    {
     "name": "stdout",
     "output_type": "stream",
     "text": [
      "epoch: 2, [batch: 1 / 33600], examples_per_second: 0.9997, train_label_loss: 0.7720, \n"
     ]
    },
    {
     "name": "stdout",
     "output_type": "stream",
     "text": [
      "epoch: 2, [batch: 3360 / 33600], examples_per_second: 4166.1581, train_label_loss: 0.5705, \n"
     ]
    },
    {
     "name": "stdout",
     "output_type": "stream",
     "text": [
      "epoch: 2, [batch: 6720 / 33600], examples_per_second: 4264.0569, train_label_loss: 1.4233, \n"
     ]
    },
    {
     "name": "stdout",
     "output_type": "stream",
     "text": [
      "epoch: 2, [batch: 10080 / 33600], examples_per_second: 4412.6090, train_label_loss: 0.6232, \n"
     ]
    },
    {
     "name": "stdout",
     "output_type": "stream",
     "text": [
      "epoch: 2, [batch: 13440 / 33600], examples_per_second: 3529.2384, train_label_loss: 0.3940, \n"
     ]
    },
    {
     "name": "stdout",
     "output_type": "stream",
     "text": [
      "epoch: 2, [batch: 16800 / 33600], examples_per_second: 3673.5805, train_label_loss: 0.7859, \n"
     ]
    },
    {
     "name": "stdout",
     "output_type": "stream",
     "text": [
      "epoch: 2, [batch: 20160 / 33600], examples_per_second: 3856.0827, train_label_loss: 1.2219, \n"
     ]
    },
    {
     "name": "stdout",
     "output_type": "stream",
     "text": [
      "epoch: 2, [batch: 23520 / 33600], examples_per_second: 3829.6094, train_label_loss: 1.0894, \n"
     ]
    },
    {
     "name": "stdout",
     "output_type": "stream",
     "text": [
      "epoch: 2, [batch: 26880 / 33600], examples_per_second: 3883.9519, train_label_loss: 1.1593, \n"
     ]
    },
    {
     "name": "stdout",
     "output_type": "stream",
     "text": [
      "epoch: 2, [batch: 30240 / 33600], examples_per_second: 3880.9495, train_label_loss: 1.2221, \n"
     ]
    },
    {
     "name": "stdout",
     "output_type": "stream",
     "text": [
      "=============================================================\n",
      "epoch: 2, source_val_acc_label: 0.6778, target_val_acc_label: 0.6837, source_val_label_loss: 0.8534, target_val_label_loss: 7.0811, \n",
      "=============================================================\n"
     ]
    },
    {
     "name": "stdout",
     "output_type": "stream",
     "text": [
      "New best\n"
     ]
    },
    {
     "name": "stdout",
     "output_type": "stream",
     "text": [
      "epoch: 3, [batch: 1 / 33600], examples_per_second: 0.7521, train_label_loss: 0.7720, \n"
     ]
    },
    {
     "name": "stdout",
     "output_type": "stream",
     "text": [
      "epoch: 3, [batch: 3360 / 33600], examples_per_second: 2897.0922, train_label_loss: 1.2191, \n"
     ]
    },
    {
     "name": "stdout",
     "output_type": "stream",
     "text": [
      "epoch: 3, [batch: 6720 / 33600], examples_per_second: 3169.0203, train_label_loss: 1.2487, \n"
     ]
    },
    {
     "name": "stdout",
     "output_type": "stream",
     "text": [
      "epoch: 3, [batch: 10080 / 33600], examples_per_second: 3481.7134, train_label_loss: 0.7126, \n"
     ]
    },
    {
     "name": "stdout",
     "output_type": "stream",
     "text": [
      "epoch: 3, [batch: 13440 / 33600], examples_per_second: 3013.1972, train_label_loss: 0.6169, \n"
     ]
    },
    {
     "name": "stdout",
     "output_type": "stream",
     "text": [
      "epoch: 3, [batch: 16800 / 33600], examples_per_second: 2962.8620, train_label_loss: 0.7192, \n"
     ]
    },
    {
     "name": "stdout",
     "output_type": "stream",
     "text": [
      "epoch: 3, [batch: 20160 / 33600], examples_per_second: 2950.3616, train_label_loss: 1.0849, \n"
     ]
    },
    {
     "name": "stdout",
     "output_type": "stream",
     "text": [
      "epoch: 3, [batch: 23520 / 33600], examples_per_second: 2964.9489, train_label_loss: 1.0106, \n"
     ]
    },
    {
     "name": "stdout",
     "output_type": "stream",
     "text": [
      "epoch: 3, [batch: 26880 / 33600], examples_per_second: 3134.3227, train_label_loss: 1.1272, \n"
     ]
    },
    {
     "name": "stdout",
     "output_type": "stream",
     "text": [
      "epoch: 3, [batch: 30240 / 33600], examples_per_second: 3461.5290, train_label_loss: 0.6369, \n"
     ]
    },
    {
     "name": "stdout",
     "output_type": "stream",
     "text": [
      "=============================================================\n",
      "epoch: 3, source_val_acc_label: 0.6932, target_val_acc_label: 0.7155, source_val_label_loss: 0.8255, target_val_label_loss: 7.8425, \n",
      "=============================================================\n"
     ]
    },
    {
     "name": "stdout",
     "output_type": "stream",
     "text": [
      "New best\n"
     ]
    },
    {
     "name": "stdout",
     "output_type": "stream",
     "text": [
      "epoch: 4, [batch: 1 / 33600], examples_per_second: 0.7486, train_label_loss: 0.4095, \n"
     ]
    },
    {
     "name": "stdout",
     "output_type": "stream",
     "text": [
      "epoch: 4, [batch: 3360 / 33600], examples_per_second: 2968.6714, train_label_loss: 0.6124, \n"
     ]
    },
    {
     "name": "stdout",
     "output_type": "stream",
     "text": [
      "epoch: 4, [batch: 6720 / 33600], examples_per_second: 3279.6059, train_label_loss: 1.1526, \n"
     ]
    },
    {
     "name": "stdout",
     "output_type": "stream",
     "text": [
      "epoch: 4, [batch: 10080 / 33600], examples_per_second: 3598.0785, train_label_loss: 0.7946, \n"
     ]
    },
    {
     "name": "stdout",
     "output_type": "stream",
     "text": [
      "epoch: 4, [batch: 13440 / 33600], examples_per_second: 3002.7102, train_label_loss: 0.5963, \n"
     ]
    },
    {
     "name": "stdout",
     "output_type": "stream",
     "text": [
      "epoch: 4, [batch: 16800 / 33600], examples_per_second: 2975.8850, train_label_loss: 1.1664, \n"
     ]
    },
    {
     "name": "stdout",
     "output_type": "stream",
     "text": [
      "epoch: 4, [batch: 20160 / 33600], examples_per_second: 2980.6376, train_label_loss: 1.1026, \n"
     ]
    },
    {
     "name": "stdout",
     "output_type": "stream",
     "text": [
      "epoch: 4, [batch: 23520 / 33600], examples_per_second: 2978.2680, train_label_loss: 0.3476, \n"
     ]
    },
    {
     "name": "stdout",
     "output_type": "stream",
     "text": [
      "epoch: 4, [batch: 26880 / 33600], examples_per_second: 3141.2783, train_label_loss: 0.5197, \n"
     ]
    },
    {
     "name": "stdout",
     "output_type": "stream",
     "text": [
      "epoch: 4, [batch: 30240 / 33600], examples_per_second: 3449.1374, train_label_loss: 0.6981, \n"
     ]
    },
    {
     "name": "stdout",
     "output_type": "stream",
     "text": [
      "=============================================================\n",
      "epoch: 4, source_val_acc_label: 0.7090, target_val_acc_label: 0.7229, source_val_label_loss: 0.7846, target_val_label_loss: 7.9787, \n",
      "=============================================================\n"
     ]
    },
    {
     "name": "stdout",
     "output_type": "stream",
     "text": [
      "New best\n"
     ]
    },
    {
     "name": "stdout",
     "output_type": "stream",
     "text": [
      "epoch: 5, [batch: 1 / 33600], examples_per_second: 0.7427, train_label_loss: 0.4831, \n"
     ]
    },
    {
     "name": "stdout",
     "output_type": "stream",
     "text": [
      "epoch: 5, [batch: 3360 / 33600], examples_per_second: 2965.9604, train_label_loss: 0.9055, \n"
     ]
    },
    {
     "name": "stdout",
     "output_type": "stream",
     "text": [
      "epoch: 5, [batch: 6720 / 33600], examples_per_second: 3276.9157, train_label_loss: 0.7045, \n"
     ]
    },
    {
     "name": "stdout",
     "output_type": "stream",
     "text": [
      "epoch: 5, [batch: 10080 / 33600], examples_per_second: 3565.4233, train_label_loss: 0.5280, \n"
     ]
    },
    {
     "name": "stdout",
     "output_type": "stream",
     "text": [
      "epoch: 5, [batch: 13440 / 33600], examples_per_second: 2965.1254, train_label_loss: 0.7341, \n"
     ]
    },
    {
     "name": "stdout",
     "output_type": "stream",
     "text": [
      "epoch: 5, [batch: 16800 / 33600], examples_per_second: 3010.4616, train_label_loss: 0.7582, \n"
     ]
    },
    {
     "name": "stdout",
     "output_type": "stream",
     "text": [
      "epoch: 5, [batch: 20160 / 33600], examples_per_second: 2962.0773, train_label_loss: 0.5008, \n"
     ]
    },
    {
     "name": "stdout",
     "output_type": "stream",
     "text": [
      "epoch: 5, [batch: 23520 / 33600], examples_per_second: 2966.5592, train_label_loss: 0.2121, \n"
     ]
    },
    {
     "name": "stdout",
     "output_type": "stream",
     "text": [
      "epoch: 5, [batch: 26880 / 33600], examples_per_second: 3171.3808, train_label_loss: 0.5751, \n"
     ]
    },
    {
     "name": "stdout",
     "output_type": "stream",
     "text": [
      "epoch: 5, [batch: 30240 / 33600], examples_per_second: 3504.1667, train_label_loss: 0.6666, \n"
     ]
    },
    {
     "name": "stdout",
     "output_type": "stream",
     "text": [
      "=============================================================\n",
      "epoch: 5, source_val_acc_label: 0.7239, target_val_acc_label: 0.7433, source_val_label_loss: 0.7525, target_val_label_loss: 8.7072, \n",
      "=============================================================\n"
     ]
    },
    {
     "name": "stdout",
     "output_type": "stream",
     "text": [
      "New best\n"
     ]
    },
    {
     "name": "stdout",
     "output_type": "stream",
     "text": [
      "epoch: 6, [batch: 1 / 33600], examples_per_second: 0.7448, train_label_loss: 0.4874, \n"
     ]
    },
    {
     "name": "stdout",
     "output_type": "stream",
     "text": [
      "epoch: 6, [batch: 3360 / 33600], examples_per_second: 2971.8345, train_label_loss: 0.4362, \n"
     ]
    },
    {
     "name": "stdout",
     "output_type": "stream",
     "text": [
      "epoch: 6, [batch: 6720 / 33600], examples_per_second: 3295.7633, train_label_loss: 0.6563, \n"
     ]
    },
    {
     "name": "stdout",
     "output_type": "stream",
     "text": [
      "epoch: 6, [batch: 10080 / 33600], examples_per_second: 3607.6448, train_label_loss: 1.0377, \n"
     ]
    },
    {
     "name": "stdout",
     "output_type": "stream",
     "text": [
      "epoch: 6, [batch: 13440 / 33600], examples_per_second: 2991.2992, train_label_loss: 0.5663, \n"
     ]
    },
    {
     "name": "stdout",
     "output_type": "stream",
     "text": [
      "epoch: 6, [batch: 16800 / 33600], examples_per_second: 3001.4758, train_label_loss: 0.6659, \n"
     ]
    },
    {
     "name": "stdout",
     "output_type": "stream",
     "text": [
      "epoch: 6, [batch: 20160 / 33600], examples_per_second: 2979.9939, train_label_loss: 0.6837, \n"
     ]
    },
    {
     "name": "stdout",
     "output_type": "stream",
     "text": [
      "epoch: 6, [batch: 23520 / 33600], examples_per_second: 2971.9048, train_label_loss: 0.4522, \n"
     ]
    },
    {
     "name": "stdout",
     "output_type": "stream",
     "text": [
      "epoch: 6, [batch: 26880 / 33600], examples_per_second: 3208.8975, train_label_loss: 0.5702, \n"
     ]
    },
    {
     "name": "stdout",
     "output_type": "stream",
     "text": [
      "epoch: 6, [batch: 30240 / 33600], examples_per_second: 3550.5291, train_label_loss: 0.6979, \n"
     ]
    },
    {
     "name": "stdout",
     "output_type": "stream",
     "text": [
      "=============================================================\n",
      "epoch: 6, source_val_acc_label: 0.7314, target_val_acc_label: 0.7543, source_val_label_loss: 0.7430, target_val_label_loss: 8.9218, \n",
      "=============================================================\n"
     ]
    },
    {
     "name": "stdout",
     "output_type": "stream",
     "text": [
      "New best\n"
     ]
    },
    {
     "name": "stdout",
     "output_type": "stream",
     "text": [
      "epoch: 7, [batch: 1 / 33600], examples_per_second: 0.7408, train_label_loss: 0.6407, \n"
     ]
    },
    {
     "name": "stdout",
     "output_type": "stream",
     "text": [
      "epoch: 7, [batch: 3360 / 33600], examples_per_second: 2955.0323, train_label_loss: 0.4597, \n"
     ]
    },
    {
     "name": "stdout",
     "output_type": "stream",
     "text": [
      "epoch: 7, [batch: 6720 / 33600], examples_per_second: 3312.4176, train_label_loss: 0.4058, \n"
     ]
    },
    {
     "name": "stdout",
     "output_type": "stream",
     "text": [
      "epoch: 7, [batch: 10080 / 33600], examples_per_second: 3521.8942, train_label_loss: 0.3578, \n"
     ]
    },
    {
     "name": "stdout",
     "output_type": "stream",
     "text": [
      "epoch: 7, [batch: 13440 / 33600], examples_per_second: 2957.9410, train_label_loss: 0.2897, \n"
     ]
    },
    {
     "name": "stdout",
     "output_type": "stream",
     "text": [
      "epoch: 7, [batch: 16800 / 33600], examples_per_second: 2969.9764, train_label_loss: 0.6570, \n"
     ]
    },
    {
     "name": "stdout",
     "output_type": "stream",
     "text": [
      "epoch: 7, [batch: 20160 / 33600], examples_per_second: 2968.0410, train_label_loss: 0.3843, \n"
     ]
    },
    {
     "name": "stdout",
     "output_type": "stream",
     "text": [
      "epoch: 7, [batch: 23520 / 33600], examples_per_second: 2969.0480, train_label_loss: 0.3675, \n"
     ]
    },
    {
     "name": "stdout",
     "output_type": "stream",
     "text": [
      "epoch: 7, [batch: 26880 / 33600], examples_per_second: 3256.9726, train_label_loss: 0.3674, \n"
     ]
    },
    {
     "name": "stdout",
     "output_type": "stream",
     "text": [
      "epoch: 7, [batch: 30240 / 33600], examples_per_second: 3584.1793, train_label_loss: 0.5324, \n"
     ]
    },
    {
     "name": "stdout",
     "output_type": "stream",
     "text": [
      "=============================================================\n",
      "epoch: 7, source_val_acc_label: 0.7304, target_val_acc_label: 0.7625, source_val_label_loss: 0.7383, target_val_label_loss: 8.8322, \n",
      "=============================================================\n"
     ]
    },
    {
     "name": "stdout",
     "output_type": "stream",
     "text": [
      "New best\n"
     ]
    },
    {
     "name": "stdout",
     "output_type": "stream",
     "text": [
      "epoch: 8, [batch: 1 / 33600], examples_per_second: 0.7372, train_label_loss: 0.2237, \n"
     ]
    },
    {
     "name": "stdout",
     "output_type": "stream",
     "text": [
      "epoch: 8, [batch: 3360 / 33600], examples_per_second: 2950.3775, train_label_loss: 0.4023, \n"
     ]
    },
    {
     "name": "stdout",
     "output_type": "stream",
     "text": [
      "epoch: 8, [batch: 6720 / 33600], examples_per_second: 3349.0642, train_label_loss: 0.3801, \n"
     ]
    },
    {
     "name": "stdout",
     "output_type": "stream",
     "text": [
      "epoch: 8, [batch: 10080 / 33600], examples_per_second: 3471.3222, train_label_loss: 0.9058, \n"
     ]
    },
    {
     "name": "stdout",
     "output_type": "stream",
     "text": [
      "epoch: 8, [batch: 13440 / 33600], examples_per_second: 2972.6714, train_label_loss: 0.7212, \n"
     ]
    },
    {
     "name": "stdout",
     "output_type": "stream",
     "text": [
      "epoch: 8, [batch: 16800 / 33600], examples_per_second: 2976.8123, train_label_loss: 0.3433, \n"
     ]
    },
    {
     "name": "stdout",
     "output_type": "stream",
     "text": [
      "epoch: 8, [batch: 20160 / 33600], examples_per_second: 2983.6658, train_label_loss: 0.5610, \n"
     ]
    },
    {
     "name": "stdout",
     "output_type": "stream",
     "text": [
      "epoch: 8, [batch: 23520 / 33600], examples_per_second: 2965.9463, train_label_loss: 0.4409, \n"
     ]
    },
    {
     "name": "stdout",
     "output_type": "stream",
     "text": [
      "epoch: 8, [batch: 26880 / 33600], examples_per_second: 3232.5114, train_label_loss: 0.5435, \n"
     ]
    },
    {
     "name": "stdout",
     "output_type": "stream",
     "text": [
      "epoch: 8, [batch: 30240 / 33600], examples_per_second: 3421.2605, train_label_loss: 0.3278, \n"
     ]
    },
    {
     "name": "stdout",
     "output_type": "stream",
     "text": [
      "=============================================================\n",
      "epoch: 8, source_val_acc_label: 0.7305, target_val_acc_label: 0.7569, source_val_label_loss: 0.7579, target_val_label_loss: 9.9663, \n",
      "=============================================================\n"
     ]
    },
    {
     "name": "stdout",
     "output_type": "stream",
     "text": [
      "epoch: 9, [batch: 1 / 33600], examples_per_second: 0.8385, train_label_loss: 0.2651, \n"
     ]
    },
    {
     "name": "stdout",
     "output_type": "stream",
     "text": [
      "epoch: 9, [batch: 3360 / 33600], examples_per_second: 3379.6059, train_label_loss: 0.3102, \n"
     ]
    },
    {
     "name": "stdout",
     "output_type": "stream",
     "text": [
      "epoch: 9, [batch: 6720 / 33600], examples_per_second: 3778.8685, train_label_loss: 0.2932, \n"
     ]
    },
    {
     "name": "stdout",
     "output_type": "stream",
     "text": [
      "epoch: 9, [batch: 10080 / 33600], examples_per_second: 4423.7824, train_label_loss: 0.6676, \n"
     ]
    },
    {
     "name": "stdout",
     "output_type": "stream",
     "text": [
      "epoch: 9, [batch: 13440 / 33600], examples_per_second: 3862.4259, train_label_loss: 0.5930, \n"
     ]
    },
    {
     "name": "stdout",
     "output_type": "stream",
     "text": [
      "epoch: 9, [batch: 16800 / 33600], examples_per_second: 3919.1971, train_label_loss: 0.4240, \n"
     ]
    },
    {
     "name": "stdout",
     "output_type": "stream",
     "text": [
      "epoch: 9, [batch: 20160 / 33600], examples_per_second: 3861.2631, train_label_loss: 0.4313, \n"
     ]
    },
    {
     "name": "stdout",
     "output_type": "stream",
     "text": [
      "epoch: 9, [batch: 23520 / 33600], examples_per_second: 3842.4758, train_label_loss: 0.4697, \n"
     ]
    },
    {
     "name": "stdout",
     "output_type": "stream",
     "text": [
      "epoch: 9, [batch: 26880 / 33600], examples_per_second: 3875.1618, train_label_loss: 0.4465, \n"
     ]
    },
    {
     "name": "stdout",
     "output_type": "stream",
     "text": [
      "epoch: 9, [batch: 30240 / 33600], examples_per_second: 3237.4110, train_label_loss: 0.3494, \n"
     ]
    },
    {
     "name": "stdout",
     "output_type": "stream",
     "text": [
      "=============================================================\n",
      "epoch: 9, source_val_acc_label: 0.7278, target_val_acc_label: 0.7654, source_val_label_loss: 0.7762, target_val_label_loss: 10.1021, \n",
      "=============================================================\n"
     ]
    },
    {
     "name": "stdout",
     "output_type": "stream",
     "text": [
      "New best\n"
     ]
    },
    {
     "name": "stdout",
     "output_type": "stream",
     "text": [
      "epoch: 10, [batch: 1 / 33600], examples_per_second: 0.7627, train_label_loss: 0.4275, \n"
     ]
    },
    {
     "name": "stdout",
     "output_type": "stream",
     "text": [
      "epoch: 10, [batch: 3360 / 33600], examples_per_second: 3037.4596, train_label_loss: 0.3918, \n"
     ]
    },
    {
     "name": "stdout",
     "output_type": "stream",
     "text": [
      "epoch: 10, [batch: 6720 / 33600], examples_per_second: 3442.8819, train_label_loss: 0.2813, \n"
     ]
    },
    {
     "name": "stdout",
     "output_type": "stream",
     "text": [
      "epoch: 10, [batch: 10080 / 33600], examples_per_second: 3726.9050, train_label_loss: 0.5856, \n"
     ]
    },
    {
     "name": "stdout",
     "output_type": "stream",
     "text": [
      "epoch: 10, [batch: 13440 / 33600], examples_per_second: 3157.5992, train_label_loss: 0.5063, \n"
     ]
    },
    {
     "name": "stdout",
     "output_type": "stream",
     "text": [
      "epoch: 10, [batch: 16800 / 33600], examples_per_second: 2958.4512, train_label_loss: 0.5076, \n"
     ]
    },
    {
     "name": "stdout",
     "output_type": "stream",
     "text": [
      "epoch: 10, [batch: 20160 / 33600], examples_per_second: 3239.8950, train_label_loss: 0.2473, \n"
     ]
    },
    {
     "name": "stdout",
     "output_type": "stream",
     "text": [
      "epoch: 10, [batch: 23520 / 33600], examples_per_second: 3304.2816, train_label_loss: 0.1554, \n"
     ]
    },
    {
     "name": "stdout",
     "output_type": "stream",
     "text": [
      "epoch: 10, [batch: 26880 / 33600], examples_per_second: 2975.5565, train_label_loss: 0.1637, \n"
     ]
    },
    {
     "name": "stdout",
     "output_type": "stream",
     "text": [
      "epoch: 10, [batch: 30240 / 33600], examples_per_second: 3109.4491, train_label_loss: 0.5676, \n"
     ]
    },
    {
     "name": "stdout",
     "output_type": "stream",
     "text": [
      "=============================================================\n",
      "epoch: 10, source_val_acc_label: 0.7290, target_val_acc_label: 0.7668, source_val_label_loss: 0.7882, target_val_label_loss: 10.5705, \n",
      "=============================================================\n"
     ]
    },
    {
     "name": "stdout",
     "output_type": "stream",
     "text": [
      "New best\n"
     ]
    },
    {
     "name": "stdout",
     "output_type": "stream",
     "text": [
      "epoch: 11, [batch: 1 / 33600], examples_per_second: 0.7959, train_label_loss: 0.2644, \n"
     ]
    },
    {
     "name": "stdout",
     "output_type": "stream",
     "text": [
      "epoch: 11, [batch: 3360 / 33600], examples_per_second: 3160.6096, train_label_loss: 0.2566, \n"
     ]
    },
    {
     "name": "stdout",
     "output_type": "stream",
     "text": [
      "epoch: 11, [batch: 6720 / 33600], examples_per_second: 3676.4932, train_label_loss: 0.1723, \n"
     ]
    },
    {
     "name": "stdout",
     "output_type": "stream",
     "text": [
      "epoch: 11, [batch: 10080 / 33600], examples_per_second: 3786.3136, train_label_loss: 0.3478, \n"
     ]
    },
    {
     "name": "stdout",
     "output_type": "stream",
     "text": [
      "epoch: 11, [batch: 13440 / 33600], examples_per_second: 3408.8646, train_label_loss: 0.1927, \n"
     ]
    },
    {
     "name": "stdout",
     "output_type": "stream",
     "text": [
      "epoch: 11, [batch: 16800 / 33600], examples_per_second: 3434.9327, train_label_loss: 0.4021, \n"
     ]
    },
    {
     "name": "stdout",
     "output_type": "stream",
     "text": [
      "epoch: 11, [batch: 20160 / 33600], examples_per_second: 3408.2287, train_label_loss: 0.4815, \n"
     ]
    },
    {
     "name": "stdout",
     "output_type": "stream",
     "text": [
      "epoch: 11, [batch: 23520 / 33600], examples_per_second: 3540.8340, train_label_loss: 0.3681, \n"
     ]
    },
    {
     "name": "stdout",
     "output_type": "stream",
     "text": [
      "epoch: 11, [batch: 26880 / 33600], examples_per_second: 3934.9698, train_label_loss: 0.2516, \n"
     ]
    },
    {
     "name": "stdout",
     "output_type": "stream",
     "text": [
      "epoch: 11, [batch: 30240 / 33600], examples_per_second: 3866.3509, train_label_loss: 0.8808, \n"
     ]
    },
    {
     "name": "stdout",
     "output_type": "stream",
     "text": [
      "=============================================================\n",
      "epoch: 11, source_val_acc_label: 0.7265, target_val_acc_label: 0.7712, source_val_label_loss: 0.8028, target_val_label_loss: 10.9801, \n",
      "=============================================================\n"
     ]
    },
    {
     "name": "stdout",
     "output_type": "stream",
     "text": [
      "New best\n"
     ]
    },
    {
     "name": "stdout",
     "output_type": "stream",
     "text": [
      "epoch: 12, [batch: 1 / 33600], examples_per_second: 0.9998, train_label_loss: 0.6324, \n"
     ]
    },
    {
     "name": "stdout",
     "output_type": "stream",
     "text": [
      "epoch: 12, [batch: 3360 / 33600], examples_per_second: 3883.4726, train_label_loss: 0.2866, \n"
     ]
    },
    {
     "name": "stdout",
     "output_type": "stream",
     "text": [
      "epoch: 12, [batch: 6720 / 33600], examples_per_second: 4375.1109, train_label_loss: 0.4069, \n"
     ]
    },
    {
     "name": "stdout",
     "output_type": "stream",
     "text": [
      "epoch: 12, [batch: 10080 / 33600], examples_per_second: 3320.7362, train_label_loss: 0.2494, \n"
     ]
    },
    {
     "name": "stdout",
     "output_type": "stream",
     "text": [
      "epoch: 12, [batch: 13440 / 33600], examples_per_second: 2921.4699, train_label_loss: 0.2193, \n"
     ]
    },
    {
     "name": "stdout",
     "output_type": "stream",
     "text": [
      "epoch: 12, [batch: 16800 / 33600], examples_per_second: 3389.6333, train_label_loss: 0.4138, \n"
     ]
    },
    {
     "name": "stdout",
     "output_type": "stream",
     "text": [
      "epoch: 12, [batch: 20160 / 33600], examples_per_second: 3163.1559, train_label_loss: 0.1131, \n"
     ]
    },
    {
     "name": "stdout",
     "output_type": "stream",
     "text": [
      "epoch: 12, [batch: 23520 / 33600], examples_per_second: 2975.7935, train_label_loss: 0.1956, \n"
     ]
    },
    {
     "name": "stdout",
     "output_type": "stream",
     "text": [
      "epoch: 12, [batch: 26880 / 33600], examples_per_second: 3224.8534, train_label_loss: 0.3343, \n"
     ]
    },
    {
     "name": "stdout",
     "output_type": "stream",
     "text": [
      "epoch: 12, [batch: 30240 / 33600], examples_per_second: 3289.3394, train_label_loss: 0.2791, \n"
     ]
    },
    {
     "name": "stdout",
     "output_type": "stream",
     "text": [
      "=============================================================\n",
      "epoch: 12, source_val_acc_label: 0.7286, target_val_acc_label: 0.7683, source_val_label_loss: 0.8327, target_val_label_loss: 11.7348, \n",
      "=============================================================\n"
     ]
    },
    {
     "name": "stdout",
     "output_type": "stream",
     "text": [
      "epoch: 13, [batch: 1 / 33600], examples_per_second: 0.7486, train_label_loss: 0.3953, \n"
     ]
    },
    {
     "name": "stdout",
     "output_type": "stream",
     "text": [
      "epoch: 13, [batch: 3360 / 33600], examples_per_second: 3237.3368, train_label_loss: 0.3780, \n"
     ]
    },
    {
     "name": "stdout",
     "output_type": "stream",
     "text": [
      "epoch: 13, [batch: 6720 / 33600], examples_per_second: 3446.8458, train_label_loss: 0.3614, \n"
     ]
    },
    {
     "name": "stdout",
     "output_type": "stream",
     "text": [
      "epoch: 13, [batch: 10080 / 33600], examples_per_second: 3567.9346, train_label_loss: 0.3812, \n"
     ]
    },
    {
     "name": "stdout",
     "output_type": "stream",
     "text": [
      "epoch: 13, [batch: 13440 / 33600], examples_per_second: 3342.1766, train_label_loss: 0.3776, \n"
     ]
    },
    {
     "name": "stdout",
     "output_type": "stream",
     "text": [
      "epoch: 13, [batch: 16800 / 33600], examples_per_second: 2993.0519, train_label_loss: 0.3272, \n"
     ]
    },
    {
     "name": "stdout",
     "output_type": "stream",
     "text": [
      "epoch: 13, [batch: 20160 / 33600], examples_per_second: 3059.4682, train_label_loss: 0.3039, \n"
     ]
    },
    {
     "name": "stdout",
     "output_type": "stream",
     "text": [
      "epoch: 13, [batch: 23520 / 33600], examples_per_second: 3383.7640, train_label_loss: 0.2492, \n"
     ]
    },
    {
     "name": "stdout",
     "output_type": "stream",
     "text": [
      "epoch: 13, [batch: 26880 / 33600], examples_per_second: 3089.5280, train_label_loss: 0.5546, \n"
     ]
    },
    {
     "name": "stdout",
     "output_type": "stream",
     "text": [
      "epoch: 13, [batch: 30240 / 33600], examples_per_second: 3001.3659, train_label_loss: 0.2352, \n"
     ]
    },
    {
     "name": "stdout",
     "output_type": "stream",
     "text": [
      "=============================================================\n",
      "epoch: 13, source_val_acc_label: 0.7249, target_val_acc_label: 0.7761, source_val_label_loss: 0.8436, target_val_label_loss: 11.7642, \n",
      "=============================================================\n"
     ]
    },
    {
     "name": "stdout",
     "output_type": "stream",
     "text": [
      "New best\n"
     ]
    },
    {
     "name": "stdout",
     "output_type": "stream",
     "text": [
      "epoch: 14, [batch: 1 / 33600], examples_per_second: 0.8231, train_label_loss: 0.3406, \n"
     ]
    },
    {
     "name": "stdout",
     "output_type": "stream",
     "text": [
      "epoch: 14, [batch: 3360 / 33600], examples_per_second: 3544.4427, train_label_loss: 0.0952, \n"
     ]
    },
    {
     "name": "stdout",
     "output_type": "stream",
     "text": [
      "epoch: 14, [batch: 6720 / 33600], examples_per_second: 3875.6925, train_label_loss: 0.2947, \n"
     ]
    },
    {
     "name": "stdout",
     "output_type": "stream",
     "text": [
      "epoch: 14, [batch: 10080 / 33600], examples_per_second: 3526.3394, train_label_loss: 0.5279, \n"
     ]
    },
    {
     "name": "stdout",
     "output_type": "stream",
     "text": [
      "epoch: 14, [batch: 13440 / 33600], examples_per_second: 3533.9670, train_label_loss: 0.1394, \n"
     ]
    },
    {
     "name": "stdout",
     "output_type": "stream",
     "text": [
      "epoch: 14, [batch: 16800 / 33600], examples_per_second: 3937.3254, train_label_loss: 0.0889, \n"
     ]
    },
    {
     "name": "stdout",
     "output_type": "stream",
     "text": [
      "epoch: 14, [batch: 20160 / 33600], examples_per_second: 3906.5428, train_label_loss: 0.3986, \n"
     ]
    },
    {
     "name": "stdout",
     "output_type": "stream",
     "text": [
      "epoch: 14, [batch: 23520 / 33600], examples_per_second: 3930.9288, train_label_loss: 0.1558, \n"
     ]
    },
    {
     "name": "stdout",
     "output_type": "stream",
     "text": [
      "epoch: 14, [batch: 26880 / 33600], examples_per_second: 3836.8743, train_label_loss: 0.1452, \n"
     ]
    },
    {
     "name": "stdout",
     "output_type": "stream",
     "text": [
      "epoch: 14, [batch: 30240 / 33600], examples_per_second: 3206.4033, train_label_loss: 0.5416, \n"
     ]
    },
    {
     "name": "stdout",
     "output_type": "stream",
     "text": [
      "=============================================================\n",
      "epoch: 14, source_val_acc_label: 0.7218, target_val_acc_label: 0.7727, source_val_label_loss: 0.8757, target_val_label_loss: 12.3764, \n",
      "=============================================================\n"
     ]
    },
    {
     "name": "stdout",
     "output_type": "stream",
     "text": [
      "epoch: 15, [batch: 1 / 33600], examples_per_second: 0.7669, train_label_loss: 0.2584, \n"
     ]
    },
    {
     "name": "stdout",
     "output_type": "stream",
     "text": [
      "epoch: 15, [batch: 3360 / 33600], examples_per_second: 3122.9842, train_label_loss: 0.6804, \n"
     ]
    },
    {
     "name": "stdout",
     "output_type": "stream",
     "text": [
      "epoch: 15, [batch: 6720 / 33600], examples_per_second: 3576.8631, train_label_loss: 0.3423, \n"
     ]
    },
    {
     "name": "stdout",
     "output_type": "stream",
     "text": [
      "epoch: 15, [batch: 10080 / 33600], examples_per_second: 3593.7017, train_label_loss: 0.3310, \n"
     ]
    },
    {
     "name": "stdout",
     "output_type": "stream",
     "text": [
      "epoch: 15, [batch: 13440 / 33600], examples_per_second: 3151.5740, train_label_loss: 0.2175, \n"
     ]
    },
    {
     "name": "stdout",
     "output_type": "stream",
     "text": [
      "epoch: 15, [batch: 16800 / 33600], examples_per_second: 3004.1975, train_label_loss: 0.3188, \n"
     ]
    },
    {
     "name": "stdout",
     "output_type": "stream",
     "text": [
      "epoch: 15, [batch: 20160 / 33600], examples_per_second: 3286.1699, train_label_loss: 0.2151, \n"
     ]
    },
    {
     "name": "stdout",
     "output_type": "stream",
     "text": [
      "epoch: 15, [batch: 23520 / 33600], examples_per_second: 3250.5894, train_label_loss: 0.3640, \n"
     ]
    },
    {
     "name": "stdout",
     "output_type": "stream",
     "text": [
      "epoch: 15, [batch: 26880 / 33600], examples_per_second: 2998.5015, train_label_loss: 0.2345, \n"
     ]
    },
    {
     "name": "stdout",
     "output_type": "stream",
     "text": [
      "epoch: 15, [batch: 30240 / 33600], examples_per_second: 3098.8868, train_label_loss: 0.1298, \n"
     ]
    },
    {
     "name": "stdout",
     "output_type": "stream",
     "text": [
      "=============================================================\n",
      "epoch: 15, source_val_acc_label: 0.7201, target_val_acc_label: 0.7716, source_val_label_loss: 0.8983, target_val_label_loss: 12.9317, \n",
      "=============================================================\n"
     ]
    },
    {
     "name": "stdout",
     "output_type": "stream",
     "text": [
      "epoch: 16, [batch: 1 / 33600], examples_per_second: 0.7803, train_label_loss: 0.3976, \n"
     ]
    },
    {
     "name": "stdout",
     "output_type": "stream",
     "text": [
      "epoch: 16, [batch: 3360 / 33600], examples_per_second: 3223.3092, train_label_loss: 0.4798, \n"
     ]
    },
    {
     "name": "stdout",
     "output_type": "stream",
     "text": [
      "epoch: 16, [batch: 6720 / 33600], examples_per_second: 3867.1258, train_label_loss: 0.0923, \n"
     ]
    },
    {
     "name": "stdout",
     "output_type": "stream",
     "text": [
      "epoch: 16, [batch: 10080 / 33600], examples_per_second: 3514.0513, train_label_loss: 0.4359, \n"
     ]
    },
    {
     "name": "stdout",
     "output_type": "stream",
     "text": [
      "epoch: 16, [batch: 13440 / 33600], examples_per_second: 3399.0026, train_label_loss: 0.1428, \n"
     ]
    },
    {
     "name": "stdout",
     "output_type": "stream",
     "text": [
      "epoch: 16, [batch: 16800 / 33600], examples_per_second: 3383.8453, train_label_loss: 0.4699, \n"
     ]
    },
    {
     "name": "stdout",
     "output_type": "stream",
     "text": [
      "epoch: 16, [batch: 20160 / 33600], examples_per_second: 3402.2801, train_label_loss: 0.0814, \n"
     ]
    },
    {
     "name": "stdout",
     "output_type": "stream",
     "text": [
      "epoch: 16, [batch: 23520 / 33600], examples_per_second: 3618.3908, train_label_loss: 0.3105, \n"
     ]
    },
    {
     "name": "stdout",
     "output_type": "stream",
     "text": [
      "epoch: 16, [batch: 26880 / 33600], examples_per_second: 3930.4665, train_label_loss: 0.2075, \n"
     ]
    },
    {
     "name": "stdout",
     "output_type": "stream",
     "text": [
      "epoch: 16, [batch: 30240 / 33600], examples_per_second: 3946.5772, train_label_loss: 0.2952, \n"
     ]
    },
    {
     "name": "stdout",
     "output_type": "stream",
     "text": [
      "=============================================================\n",
      "epoch: 16, source_val_acc_label: 0.7187, target_val_acc_label: 0.7723, source_val_label_loss: 0.9262, target_val_label_loss: 13.1961, \n",
      "=============================================================\n"
     ]
    },
    {
     "name": "stdout",
     "output_type": "stream",
     "text": [
      "epoch: 17, [batch: 1 / 33600], examples_per_second: 0.9994, train_label_loss: 0.3715, \n"
     ]
    },
    {
     "name": "stdout",
     "output_type": "stream",
     "text": [
      "epoch: 17, [batch: 3360 / 33600], examples_per_second: 4012.9315, train_label_loss: 0.3103, \n"
     ]
    },
    {
     "name": "stdout",
     "output_type": "stream",
     "text": [
      "epoch: 17, [batch: 6720 / 33600], examples_per_second: 4632.2313, train_label_loss: 0.4299, \n"
     ]
    },
    {
     "name": "stdout",
     "output_type": "stream",
     "text": [
      "epoch: 17, [batch: 10080 / 33600], examples_per_second: 3237.1975, train_label_loss: 0.3160, \n"
     ]
    },
    {
     "name": "stdout",
     "output_type": "stream",
     "text": [
      "epoch: 17, [batch: 13440 / 33600], examples_per_second: 2962.1917, train_label_loss: 0.2990, \n"
     ]
    },
    {
     "name": "stdout",
     "output_type": "stream",
     "text": [
      "epoch: 17, [batch: 16800 / 33600], examples_per_second: 2983.4993, train_label_loss: 0.1844, \n"
     ]
    },
    {
     "name": "stdout",
     "output_type": "stream",
     "text": [
      "epoch: 17, [batch: 20160 / 33600], examples_per_second: 3005.8734, train_label_loss: 0.5545, \n"
     ]
    },
    {
     "name": "stdout",
     "output_type": "stream",
     "text": [
      "epoch: 17, [batch: 23520 / 33600], examples_per_second: 2966.6103, train_label_loss: 0.1502, \n"
     ]
    },
    {
     "name": "stdout",
     "output_type": "stream",
     "text": [
      "epoch: 17, [batch: 26880 / 33600], examples_per_second: 2960.1985, train_label_loss: 0.4134, \n"
     ]
    },
    {
     "name": "stdout",
     "output_type": "stream",
     "text": [
      "epoch: 17, [batch: 30240 / 33600], examples_per_second: 2957.6625, train_label_loss: 0.2211, \n"
     ]
    },
    {
     "name": "stdout",
     "output_type": "stream",
     "text": [
      "=============================================================\n",
      "epoch: 17, source_val_acc_label: 0.7190, target_val_acc_label: 0.7765, source_val_label_loss: 0.9612, target_val_label_loss: 14.0650, \n",
      "=============================================================\n"
     ]
    },
    {
     "name": "stdout",
     "output_type": "stream",
     "text": [
      "New best\n"
     ]
    },
    {
     "name": "stdout",
     "output_type": "stream",
     "text": [
      "epoch: 18, [batch: 1 / 33600], examples_per_second: 0.7302, train_label_loss: 0.1200, \n"
     ]
    },
    {
     "name": "stdout",
     "output_type": "stream",
     "text": [
      "epoch: 18, [batch: 3360 / 33600], examples_per_second: 3329.2633, train_label_loss: 0.1907, \n"
     ]
    },
    {
     "name": "stdout",
     "output_type": "stream",
     "text": [
      "epoch: 18, [batch: 6720 / 33600], examples_per_second: 4046.5314, train_label_loss: 0.4137, \n"
     ]
    },
    {
     "name": "stdout",
     "output_type": "stream",
     "text": [
      "epoch: 18, [batch: 10080 / 33600], examples_per_second: 3185.1242, train_label_loss: 0.2444, \n"
     ]
    },
    {
     "name": "stdout",
     "output_type": "stream",
     "text": [
      "epoch: 18, [batch: 13440 / 33600], examples_per_second: 2937.3675, train_label_loss: 0.1097, \n"
     ]
    },
    {
     "name": "stdout",
     "output_type": "stream",
     "text": [
      "epoch: 18, [batch: 16800 / 33600], examples_per_second: 2970.7474, train_label_loss: 0.0471, \n"
     ]
    },
    {
     "name": "stdout",
     "output_type": "stream",
     "text": [
      "epoch: 18, [batch: 20160 / 33600], examples_per_second: 3005.2193, train_label_loss: 0.5618, \n"
     ]
    },
    {
     "name": "stdout",
     "output_type": "stream",
     "text": [
      "epoch: 18, [batch: 23520 / 33600], examples_per_second: 3003.9832, train_label_loss: 0.2596, \n"
     ]
    },
    {
     "name": "stdout",
     "output_type": "stream",
     "text": [
      "epoch: 18, [batch: 26880 / 33600], examples_per_second: 2995.3986, train_label_loss: 0.3383, \n"
     ]
    },
    {
     "name": "stdout",
     "output_type": "stream",
     "text": [
      "epoch: 18, [batch: 30240 / 33600], examples_per_second: 2993.7192, train_label_loss: 0.2144, \n"
     ]
    },
    {
     "name": "stdout",
     "output_type": "stream",
     "text": [
      "=============================================================\n",
      "epoch: 18, source_val_acc_label: 0.7191, target_val_acc_label: 0.7720, source_val_label_loss: 0.9727, target_val_label_loss: 14.3826, \n",
      "=============================================================\n"
     ]
    },
    {
     "name": "stdout",
     "output_type": "stream",
     "text": [
      "epoch: 19, [batch: 1 / 33600], examples_per_second: 0.7338, train_label_loss: 0.3371, \n"
     ]
    },
    {
     "name": "stdout",
     "output_type": "stream",
     "text": [
      "epoch: 19, [batch: 3360 / 33600], examples_per_second: 3343.4951, train_label_loss: 0.3608, \n"
     ]
    },
    {
     "name": "stdout",
     "output_type": "stream",
     "text": [
      "epoch: 19, [batch: 6720 / 33600], examples_per_second: 4081.3414, train_label_loss: 0.0648, \n"
     ]
    },
    {
     "name": "stdout",
     "output_type": "stream",
     "text": [
      "epoch: 19, [batch: 10080 / 33600], examples_per_second: 3097.3590, train_label_loss: 0.4134, \n"
     ]
    },
    {
     "name": "stdout",
     "output_type": "stream",
     "text": [
      "epoch: 19, [batch: 13440 / 33600], examples_per_second: 2978.3691, train_label_loss: 0.5200, \n"
     ]
    },
    {
     "name": "stdout",
     "output_type": "stream",
     "text": [
      "epoch: 19, [batch: 16800 / 33600], examples_per_second: 2991.4499, train_label_loss: 0.1095, \n"
     ]
    },
    {
     "name": "stdout",
     "output_type": "stream",
     "text": [
      "epoch: 19, [batch: 20160 / 33600], examples_per_second: 2987.2169, train_label_loss: 0.2098, \n"
     ]
    },
    {
     "name": "stdout",
     "output_type": "stream",
     "text": [
      "epoch: 19, [batch: 23520 / 33600], examples_per_second: 2954.2829, train_label_loss: 0.1099, \n"
     ]
    },
    {
     "name": "stdout",
     "output_type": "stream",
     "text": [
      "epoch: 19, [batch: 26880 / 33600], examples_per_second: 2983.6784, train_label_loss: 0.2532, \n"
     ]
    },
    {
     "name": "stdout",
     "output_type": "stream",
     "text": [
      "epoch: 19, [batch: 30240 / 33600], examples_per_second: 2996.8234, train_label_loss: 0.2246, \n"
     ]
    },
    {
     "name": "stdout",
     "output_type": "stream",
     "text": [
      "=============================================================\n",
      "epoch: 19, source_val_acc_label: 0.7102, target_val_acc_label: 0.7738, source_val_label_loss: 1.0066, target_val_label_loss: 14.4210, \n",
      "=============================================================\n"
     ]
    },
    {
     "name": "stdout",
     "output_type": "stream",
     "text": [
      "epoch: 20, [batch: 1 / 33600], examples_per_second: 0.7285, train_label_loss: 0.2371, \n"
     ]
    },
    {
     "name": "stdout",
     "output_type": "stream",
     "text": [
      "epoch: 20, [batch: 3360 / 33600], examples_per_second: 3450.3060, train_label_loss: 0.3425, \n"
     ]
    },
    {
     "name": "stdout",
     "output_type": "stream",
     "text": [
      "epoch: 20, [batch: 6720 / 33600], examples_per_second: 3927.3626, train_label_loss: 0.4780, \n"
     ]
    },
    {
     "name": "stdout",
     "output_type": "stream",
     "text": [
      "epoch: 20, [batch: 10080 / 33600], examples_per_second: 3437.0963, train_label_loss: 0.3212, \n"
     ]
    },
    {
     "name": "stdout",
     "output_type": "stream",
     "text": [
      "epoch: 20, [batch: 13440 / 33600], examples_per_second: 3390.8112, train_label_loss: 0.0328, \n"
     ]
    },
    {
     "name": "stdout",
     "output_type": "stream",
     "text": [
      "epoch: 20, [batch: 16800 / 33600], examples_per_second: 3359.3646, train_label_loss: 0.1217, \n"
     ]
    },
    {
     "name": "stdout",
     "output_type": "stream",
     "text": [
      "epoch: 20, [batch: 20160 / 33600], examples_per_second: 3362.7242, train_label_loss: 0.2881, \n"
     ]
    },
    {
     "name": "stdout",
     "output_type": "stream",
     "text": [
      "epoch: 20, [batch: 23520 / 33600], examples_per_second: 3734.3953, train_label_loss: 0.0470, \n"
     ]
    },
    {
     "name": "stdout",
     "output_type": "stream",
     "text": [
      "epoch: 20, [batch: 26880 / 33600], examples_per_second: 3920.2730, train_label_loss: 0.1698, \n"
     ]
    },
    {
     "name": "stdout",
     "output_type": "stream",
     "text": [
      "epoch: 20, [batch: 30240 / 33600], examples_per_second: 3936.8368, train_label_loss: 0.1218, \n"
     ]
    },
    {
     "name": "stdout",
     "output_type": "stream",
     "text": [
      "=============================================================\n",
      "epoch: 20, source_val_acc_label: 0.7176, target_val_acc_label: 0.7741, source_val_label_loss: 1.0325, target_val_label_loss: 15.1940, \n",
      "=============================================================\n"
     ]
    },
    {
     "name": "stdout",
     "output_type": "stream",
     "text": [
      "epoch: 21, [batch: 1 / 33600], examples_per_second: 1.0026, train_label_loss: 0.0860, \n"
     ]
    },
    {
     "name": "stdout",
     "output_type": "stream",
     "text": [
      "epoch: 21, [batch: 3360 / 33600], examples_per_second: 4003.6528, train_label_loss: 0.0407, \n"
     ]
    },
    {
     "name": "stdout",
     "output_type": "stream",
     "text": [
      "epoch: 21, [batch: 6720 / 33600], examples_per_second: 4400.9429, train_label_loss: 0.3240, \n"
     ]
    },
    {
     "name": "stdout",
     "output_type": "stream",
     "text": [
      "epoch: 21, [batch: 10080 / 33600], examples_per_second: 2966.4742, train_label_loss: 0.1138, \n"
     ]
    },
    {
     "name": "stdout",
     "output_type": "stream",
     "text": [
      "epoch: 21, [batch: 13440 / 33600], examples_per_second: 2938.0370, train_label_loss: 0.2354, \n"
     ]
    },
    {
     "name": "stdout",
     "output_type": "stream",
     "text": [
      "epoch: 21, [batch: 16800 / 33600], examples_per_second: 2936.7529, train_label_loss: 0.2473, \n"
     ]
    },
    {
     "name": "stdout",
     "output_type": "stream",
     "text": [
      "epoch: 21, [batch: 20160 / 33600], examples_per_second: 2969.6564, train_label_loss: 0.2755, \n"
     ]
    },
    {
     "name": "stdout",
     "output_type": "stream",
     "text": [
      "epoch: 21, [batch: 23520 / 33600], examples_per_second: 2980.1807, train_label_loss: 0.1734, \n"
     ]
    },
    {
     "name": "stdout",
     "output_type": "stream",
     "text": [
      "epoch: 21, [batch: 26880 / 33600], examples_per_second: 3023.1787, train_label_loss: 0.2010, \n"
     ]
    },
    {
     "name": "stdout",
     "output_type": "stream",
     "text": [
      "epoch: 21, [batch: 30240 / 33600], examples_per_second: 2985.0724, train_label_loss: 0.4979, \n"
     ]
    },
    {
     "name": "stdout",
     "output_type": "stream",
     "text": [
      "=============================================================\n",
      "epoch: 21, source_val_acc_label: 0.7123, target_val_acc_label: 0.7754, source_val_label_loss: 1.0471, target_val_label_loss: 15.1974, \n",
      "=============================================================\n"
     ]
    },
    {
     "name": "stdout",
     "output_type": "stream",
     "text": [
      "Patience (3) exhausted\n"
     ]
    }
   ],
   "source": [
    "###################################\n",
    "# train\n",
    "###################################\n",
    "jig = PTN_Train_Eval_Test_Jig(model, p.BEST_MODEL_PATH, p.device)\n",
    "\n",
    "jig.train(\n",
    "    train_iterable=datasets.source.processed.train,\n",
    "    source_val_iterable=datasets.source.processed.val,\n",
    "    target_val_iterable=datasets.target.processed.val,\n",
    "    num_epochs=p.n_epoch,\n",
    "    num_logs_per_epoch=p.NUM_LOGS_PER_EPOCH,\n",
    "    patience=p.patience,\n",
    "    optimizer=optimizer,\n",
    "    criteria_for_best=p.criteria_for_best,\n",
    ")"
   ]
  },
  {
   "cell_type": "code",
   "execution_count": 23,
   "id": "31e8fabf",
   "metadata": {
    "execution": {
     "iopub.execute_input": "2022-03-24T09:08:59.576575Z",
     "iopub.status.busy": "2022-03-24T09:08:59.575736Z",
     "iopub.status.idle": "2022-03-24T09:08:59.759105Z",
     "shell.execute_reply": "2022-03-24T09:08:59.758773Z"
    },
    "papermill": {
     "duration": 0.289382,
     "end_time": "2022-03-24T09:08:59.759190",
     "exception": false,
     "start_time": "2022-03-24T09:08:59.469808",
     "status": "completed"
    },
    "tags": []
   },
   "outputs": [],
   "source": [
    "total_experiment_time_secs = time.time() - start_time_secs"
   ]
  },
  {
   "cell_type": "code",
   "execution_count": 24,
   "id": "87b9595b",
   "metadata": {
    "execution": {
     "iopub.execute_input": "2022-03-24T09:08:59.965041Z",
     "iopub.status.busy": "2022-03-24T09:08:59.961628Z",
     "iopub.status.idle": "2022-03-24T09:19:14.677700Z",
     "shell.execute_reply": "2022-03-24T09:19:14.676961Z"
    },
    "papermill": {
     "duration": 614.813236,
     "end_time": "2022-03-24T09:19:14.677885",
     "exception": false,
     "start_time": "2022-03-24T09:08:59.864649",
     "status": "completed"
    },
    "tags": []
   },
   "outputs": [],
   "source": [
    "###################################\n",
    "# Evaluate the model\n",
    "###################################\n",
    "source_test_label_accuracy, source_test_label_loss = jig.test(datasets.source.processed.test)\n",
    "target_test_label_accuracy, target_test_label_loss = jig.test(datasets.target.processed.test)\n",
    "\n",
    "source_val_label_accuracy, source_val_label_loss = jig.test(datasets.source.processed.val)\n",
    "target_val_label_accuracy, target_val_label_loss = jig.test(datasets.target.processed.val)\n",
    "\n",
    "history = jig.get_history()\n",
    "\n",
    "total_epochs_trained = len(history[\"epoch_indices\"])\n",
    "\n",
    "val_dl = Iterable_Aggregator((datasets.source.original.val,datasets.target.original.val))\n",
    "\n",
    "confusion = ptn_confusion_by_domain_over_dataloader(model, p.device, val_dl)\n",
    "per_domain_accuracy = per_domain_accuracy_from_confusion(confusion)\n",
    "\n",
    "# Add a key to per_domain_accuracy for if it was a source domain\n",
    "for domain, accuracy in per_domain_accuracy.items():\n",
    "    per_domain_accuracy[domain] = {\n",
    "        \"accuracy\": accuracy,\n",
    "        \"source?\": domain in p.domains_source\n",
    "    }\n",
    "\n",
    "# Do an independent accuracy assesment JUST TO BE SURE!\n",
    "# _source_test_label_accuracy = independent_accuracy_assesment(model, datasets.source.processed.test, p.device)\n",
    "# _target_test_label_accuracy = independent_accuracy_assesment(model, datasets.target.processed.test, p.device)\n",
    "# _source_val_label_accuracy = independent_accuracy_assesment(model, datasets.source.processed.val, p.device)\n",
    "# _target_val_label_accuracy = independent_accuracy_assesment(model, datasets.target.processed.val, p.device)\n",
    "\n",
    "# assert(_source_test_label_accuracy == source_test_label_accuracy)\n",
    "# assert(_target_test_label_accuracy == target_test_label_accuracy)\n",
    "# assert(_source_val_label_accuracy == source_val_label_accuracy)\n",
    "# assert(_target_val_label_accuracy == target_val_label_accuracy)\n",
    "\n",
    "experiment = {\n",
    "    \"experiment_name\": p.experiment_name,\n",
    "    \"parameters\": dict(p),\n",
    "    \"results\": {\n",
    "        \"source_test_label_accuracy\": source_test_label_accuracy,\n",
    "        \"source_test_label_loss\": source_test_label_loss,\n",
    "        \"target_test_label_accuracy\": target_test_label_accuracy,\n",
    "        \"target_test_label_loss\": target_test_label_loss,\n",
    "        \"source_val_label_accuracy\": source_val_label_accuracy,\n",
    "        \"source_val_label_loss\": source_val_label_loss,\n",
    "        \"target_val_label_accuracy\": target_val_label_accuracy,\n",
    "        \"target_val_label_loss\": target_val_label_loss,\n",
    "        \"total_epochs_trained\": total_epochs_trained,\n",
    "        \"total_experiment_time_secs\": total_experiment_time_secs,\n",
    "        \"confusion\": confusion,\n",
    "        \"per_domain_accuracy\": per_domain_accuracy,\n",
    "    },\n",
    "    \"history\": history,\n",
    "    \"dataset_metrics\": get_dataset_metrics(datasets, \"ptn\"),\n",
    "}"
   ]
  },
  {
   "cell_type": "code",
   "execution_count": 25,
   "id": "54a21829",
   "metadata": {
    "execution": {
     "iopub.execute_input": "2022-03-24T09:19:14.881664Z",
     "iopub.status.busy": "2022-03-24T09:19:14.881098Z",
     "iopub.status.idle": "2022-03-24T09:19:15.349137Z",
     "shell.execute_reply": "2022-03-24T09:19:15.349820Z"
    },
    "papermill": {
     "duration": 0.567798,
     "end_time": "2022-03-24T09:19:15.350025",
     "exception": false,
     "start_time": "2022-03-24T09:19:14.782227",
     "status": "completed"
    },
    "tags": []
   },
   "outputs": [
    {
     "data": {
      "image/png": "[encoded data removed]",
      "text/plain": [
       "<Figure size 1080x504 with 1 Axes>"
      ]
     },
     "metadata": {
      "needs_background": "light"
     },
     "output_type": "display_data"
    }
   ],
   "source": [
    "ax = get_loss_curve(experiment)\n",
    "plt.show()"
   ]
  },
  {
   "cell_type": "code",
   "execution_count": 26,
   "id": "fd8a0f60",
   "metadata": {
    "execution": {
     "iopub.execute_input": "2022-03-24T09:19:15.537635Z",
     "iopub.status.busy": "2022-03-24T09:19:15.537187Z",
     "iopub.status.idle": "2022-03-24T09:19:15.893967Z",
     "shell.execute_reply": "2022-03-24T09:19:15.894637Z"
    },
    "papermill": {
     "duration": 0.449737,
     "end_time": "2022-03-24T09:19:15.894822",
     "exception": false,
     "start_time": "2022-03-24T09:19:15.445085",
     "status": "completed"
    },
    "tags": []
   },
   "outputs": [
    {
     "data": {
      "text/plain": [
       "<AxesSubplot:title={'center':'Results'}>"
      ]
     },
     "execution_count": 26,
     "metadata": {},
     "output_type": "execute_result"
    },
    {
     "data": {
      "image/png": "[encoded data removed]",
      "text/plain": [
       "<Figure size 1080x504 with 1 Axes>"
      ]
     },
     "metadata": {
      "needs_background": "light"
     },
     "output_type": "display_data"
    }
   ],
   "source": [
    "get_results_table(experiment)"
   ]
  },
  {
   "cell_type": "code",
   "execution_count": 27,
   "id": "cf8dc689",
   "metadata": {
    "execution": {
     "iopub.execute_input": "2022-03-24T09:19:16.089298Z",
     "iopub.status.busy": "2022-03-24T09:19:16.088080Z",
     "iopub.status.idle": "2022-03-24T09:19:16.439555Z",
     "shell.execute_reply": "2022-03-24T09:19:16.438717Z"
    },
    "papermill": {
     "duration": 0.447417,
     "end_time": "2022-03-24T09:19:16.439713",
     "exception": false,
     "start_time": "2022-03-24T09:19:15.992296",
     "status": "completed"
    },
    "tags": []
   },
   "outputs": [
    {
     "data": {
      "text/plain": [
       "<AxesSubplot:title={'center':'Per Domain Validation Accuracy'}, xlabel='domain'>"
      ]
     },
     "execution_count": 27,
     "metadata": {},
     "output_type": "execute_result"
    },
    {
     "data": {
      "image/png": "[encoded data removed]",
      "text/plain": [
       "<Figure size 1080x504 with 1 Axes>"
      ]
     },
     "metadata": {
      "needs_background": "light"
     },
     "output_type": "display_data"
    }
   ],
   "source": [
    "get_domain_accuracies(experiment)"
   ]
  },
  {
   "cell_type": "code",
   "execution_count": 28,
   "id": "a74ae082",
   "metadata": {
    "execution": {
     "iopub.execute_input": "2022-03-24T09:19:16.672538Z",
     "iopub.status.busy": "2022-03-24T09:19:16.671842Z",
     "iopub.status.idle": "2022-03-24T09:19:16.697306Z",
     "shell.execute_reply": "2022-03-24T09:19:16.696505Z"
    },
    "papermill": {
     "duration": 0.126578,
     "end_time": "2022-03-24T09:19:16.697458",
     "exception": false,
     "start_time": "2022-03-24T09:19:16.570880",
     "status": "completed"
    },
    "tags": []
   },
   "outputs": [
    {
     "name": "stdout",
     "output_type": "stream",
     "text": [
      "Source Test Label Accuracy: 0.7212760416666667 Target Test Label Accuracy: 0.7760577915376677\n",
      "Source Val Label Accuracy: 0.7189973958333333 Target Val Label Accuracy: 0.7765311510031679\n"
     ]
    }
   ],
   "source": [
    "print(\"Source Test Label Accuracy:\", experiment[\"results\"][\"source_test_label_accuracy\"], \"Target Test Label Accuracy:\", experiment[\"results\"][\"target_test_label_accuracy\"])\n",
    "print(\"Source Val Label Accuracy:\", experiment[\"results\"][\"source_val_label_accuracy\"], \"Target Val Label Accuracy:\", experiment[\"results\"][\"target_val_label_accuracy\"])"
   ]
  },
  {
   "cell_type": "code",
   "execution_count": 29,
   "id": "dacca602",
   "metadata": {
    "execution": {
     "iopub.execute_input": "2022-03-24T09:19:16.891965Z",
     "iopub.status.busy": "2022-03-24T09:19:16.891601Z",
     "iopub.status.idle": "2022-03-24T09:19:16.926108Z",
     "shell.execute_reply": "2022-03-24T09:19:16.926777Z"
    },
    "papermill": {
     "duration": 0.131,
     "end_time": "2022-03-24T09:19:16.926954",
     "exception": false,
     "start_time": "2022-03-24T09:19:16.795954",
     "status": "completed"
    },
    "tags": [
     "experiment_json"
    ]
   },
   "outputs": [
    {
     "data": {
      "text/plain": [
       "'{\"experiment_name\": \"tl_1v2:wisig-oracle.run1\", \"parameters\": {\"experiment_name\": \"tl_1v2:wisig-oracle.run1\", \"device\": \"cuda\", \"lr\": 0.0001, \"n_shot\": 3, \"n_query\": 2, \"train_k_factor\": 3, \"val_k_factor\": 2, \"test_k_factor\": 2, \"torch_default_dtype\": \"torch.float32\", \"n_epoch\": 50, \"patience\": 3, \"criteria_for_best\": \"target_accuracy\", \"x_net\": [{\"class\": \"nnReshape\", \"kargs\": {\"shape\": [-1, 1, 2, 256]}}, {\"class\": \"Conv2d\", \"kargs\": {\"in_channels\": 1, \"out_channels\": 256, \"kernel_size\": [1, 7], \"bias\": false, \"padding\": [0, 3]}}, {\"class\": \"ReLU\", \"kargs\": {\"inplace\": true}}, {\"class\": \"BatchNorm2d\", \"kargs\": {\"num_features\": 256}}, {\"class\": \"Conv2d\", \"kargs\": {\"in_channels\": 256, \"out_channels\": 80, \"kernel_size\": [2, 7], \"bias\": true, \"padding\": [0, 3]}}, {\"class\": \"ReLU\", \"kargs\": {\"inplace\": true}}, {\"class\": \"BatchNorm2d\", \"kargs\": {\"num_features\": 80}}, {\"class\": \"Flatten\", \"kargs\": {}}, {\"class\": \"Linear\", \"kargs\": {\"in_features\": 20480, \"out_features\": 256}}, {\"class\": \"ReLU\", \"kargs\": {\"inplace\": true}}, {\"class\": \"BatchNorm1d\", \"kargs\": {\"num_features\": 256}}, {\"class\": \"Linear\", \"kargs\": {\"in_features\": 256, \"out_features\": 256}}], \"NUM_LOGS_PER_EPOCH\": 10, \"BEST_MODEL_PATH\": \"./best_model.pth\", \"n_way\": 16, \"datasets\": [{\"labels\": [\"1-10\", \"1-12\", \"1-14\", \"1-16\", \"1-18\", \"1-19\", \"1-8\", \"10-11\", \"10-17\", \"10-4\", \"10-7\", \"11-1\", \"11-10\", \"11-19\", \"11-20\", \"11-4\", \"11-7\", \"12-19\", \"12-20\", \"12-7\", \"13-14\", \"13-18\", \"13-19\", \"13-20\", \"13-3\", \"13-7\", \"14-10\", \"14-11\", \"14-12\", \"14-13\", \"14-14\", \"14-19\", \"14-20\", \"14-7\", \"14-8\", \"14-9\", \"15-1\", \"15-19\", \"15-6\", \"16-1\", \"16-16\", \"16-19\", \"16-20\", \"17-10\", \"17-11\", \"18-1\", \"18-10\", \"18-11\", \"18-12\", \"18-13\", \"18-14\", \"18-15\", \"18-16\", \"18-17\", \"18-19\", \"18-2\", \"18-20\", \"18-4\", \"18-5\", \"18-7\", \"18-8\", \"18-9\", \"19-1\", \"19-10\", \"19-11\", \"19-12\", \"19-13\", \"19-14\", \"19-15\", \"19-19\", \"19-2\", \"19-20\", \"19-3\", \"19-4\", \"19-6\", \"19-7\", \"19-8\", \"19-9\", \"2-1\", \"2-13\", \"2-15\", \"2-3\", \"2-4\", \"2-5\", \"2-6\", \"2-7\", \"2-8\", \"20-1\", \"20-12\", \"20-14\", \"20-15\", \"20-16\", \"20-18\", \"20-19\", \"20-20\", \"20-3\", \"20-4\", \"20-5\", \"20-7\", \"20-8\", \"3-1\", \"3-13\", \"3-18\", \"3-2\", \"3-8\", \"4-1\", \"4-10\", \"4-11\", \"5-1\", \"5-5\", \"6-1\", \"6-15\", \"6-6\", \"7-10\", \"7-11\", \"7-12\", \"7-13\", \"7-14\", \"7-7\", \"7-8\", \"7-9\", \"8-1\", \"8-13\", \"8-14\", \"8-18\", \"8-20\", \"8-3\", \"8-8\", \"9-1\", \"9-7\"], \"domains\": [1, 2, 3, 4], \"num_examples_per_domain_per_label\": -1, \"pickle_path\": \"/root/csc500-main/datasets/wisig.node3-19.stratified_ds.2022A.pkl\", \"source_or_target_dataset\": \"target\", \"x_transforms\": [\"unit_power\"], \"episode_transforms\": [], \"domain_prefix\": \"Wisig_\"}, {\"labels\": [\"3123D52\", \"3123D65\", \"3123D79\", \"3123D80\", \"3123D54\", \"3123D70\", \"3123D7B\", \"3123D89\", \"3123D58\", \"3123D76\", \"3123D7D\", \"3123EFE\", \"3123D64\", \"3123D78\", \"3123D7E\", \"3124E4A\"], \"domains\": [32, 38, 8, 44, 14, 50, 20, 26], \"num_examples_per_domain_per_label\": 10000, \"pickle_path\": \"/root/csc500-main/datasets/oracle.Run1_10kExamples_stratified_ds.2022A.pkl\", \"source_or_target_dataset\": \"source\", \"x_transforms\": [\"unit_power\"], \"episode_transforms\": [], \"domain_prefix\": \"ORACLE.run1\"}], \"dataset_seed\": 7, \"seed\": 7, \"x_shape\": [2, 256], \"domains_source\": [\"ORACLE.run132\", \"ORACLE.run138\", \"ORACLE.run18\", \"ORACLE.run144\", \"ORACLE.run114\", \"ORACLE.run150\", \"ORACLE.run120\", \"ORACLE.run126\"], \"domains_target\": [\"Wisig_1\", \"Wisig_2\", \"Wisig_3\", \"Wisig_4\"]}, \"results\": {\"source_test_label_accuracy\": 0.7212760416666667, \"source_test_label_loss\": 0.9531492590904236, \"target_test_label_accuracy\": 0.7760577915376677, \"target_test_label_loss\": 14.28579330444336, \"source_val_label_accuracy\": 0.7189973958333333, \"source_val_label_loss\": 0.9611974358558655, \"target_val_label_accuracy\": 0.7765311510031679, \"target_val_label_loss\": 14.065030097961426, \"total_epochs_trained\": 21, \"total_experiment_time_secs\": 19698.52081656456, \"confusion\": {\"ORACLE.run126\": {\"0\": {\"4\": 167, \"0\": 354, \"8\": 108, \"10\": 255, \"14\": 214, \"15\": 7, \"7\": 24, \"9\": 6, \"2\": 1, \"6\": 36, \"1\": 28}, \"4\": {\"4\": 459, \"10\": 73, \"7\": 88, \"1\": 93, \"14\": 232, \"0\": 138, \"8\": 113, \"3\": 4}, \"14\": {\"14\": 392, \"8\": 38, \"10\": 115, \"0\": 195, \"7\": 16, \"1\": 224, \"4\": 218, \"3\": 1, \"15\": 1}, \"12\": {\"12\": 1198, \"11\": 2}, \"8\": {\"4\": 110, \"0\": 101, \"8\": 455, \"15\": 73, \"10\": 164, \"9\": 101, \"7\": 110, \"6\": 34, \"14\": 18, \"2\": 16, \"5\": 13, \"1\": 4, \"3\": 1}, \"7\": {\"3\": 200, \"7\": 640, \"0\": 18, \"1\": 7, \"2\": 106, \"8\": 93, \"4\": 92, \"9\": 6, \"14\": 14, \"15\": 11, \"6\": 1, \"10\": 9, \"5\": 3}, \"13\": {\"13\": 856, \"15\": 66, \"9\": 23, \"5\": 229, \"2\": 17, \"6\": 8, \"3\": 1}, \"5\": {\"5\": 746, \"8\": 40, \"9\": 50, \"15\": 150, \"13\": 139, \"2\": 61, \"7\": 10, \"3\": 2, \"4\": 1, \"10\": 1}, \"15\": {\"9\": 342, \"5\": 135, \"15\": 454, \"13\": 59, \"6\": 42, \"2\": 35, \"7\": 12, \"8\": 99, \"10\": 14, \"4\": 1, \"0\": 6, \"3\": 1}, \"10\": {\"4\": 78, \"0\": 236, \"14\": 123, \"10\": 458, \"8\": 179, \"7\": 4, \"1\": 25, \"6\": 68, \"5\": 3, \"9\": 16, \"15\": 9, \"2\": 1}, \"3\": {\"3\": 708, \"7\": 196, \"2\": 282, \"8\": 7, \"14\": 2, \"5\": 1, \"4\": 4}, \"9\": {\"15\": 385, \"9\": 480, \"6\": 139, \"8\": 95, \"10\": 23, \"0\": 14, \"5\": 27, \"13\": 24, \"2\": 3, \"7\": 8, \"14\": 1, \"4\": 1}, \"6\": {\"6\": 837, \"8\": 35, \"9\": 170, \"15\": 32, \"13\": 9, \"10\": 95, \"0\": 22}, \"1\": {\"10\": 37, \"14\": 254, \"1\": 715, \"4\": 139, \"0\": 27, \"7\": 14, \"9\": 1, \"3\": 4, \"8\": 9}, \"11\": {\"11\": 1197, \"12\": 3}, \"2\": {\"2\": 439, \"4\": 6, \"7\": 130, \"3\": 377, \"15\": 62, \"5\": 129, \"8\": 37, \"9\": 8, \"13\": 10, \"10\": 1, \"1\": 1}}, \"ORACLE.run144\": {\"1\": {\"10\": 105, \"1\": 704, \"3\": 163, \"2\": 37, \"12\": 191}, \"11\": {\"11\": 1109, \"13\": 71, \"6\": 18, \"9\": 2}, \"3\": {\"3\": 1067, \"1\": 105, \"12\": 22, \"2\": 5, \"10\": 1}, \"6\": {\"6\": 798, \"13\": 226, \"9\": 125, \"7\": 31, \"11\": 19, \"2\": 1}, \"7\": {\"9\": 229, \"7\": 732, \"2\": 189, \"13\": 8, \"6\": 37, \"1\": 3, \"10\": 1, \"3\": 1}, \"5\": {\"8\": 12, \"5\": 1017, \"0\": 91, \"14\": 36, \"15\": 43, \"4\": 1}, \"2\": {\"2\": 892, \"10\": 79, \"7\": 159, \"1\": 52, \"3\": 8, \"9\": 7, \"12\": 3}, \"15\": {\"0\": 74, \"15\": 971, \"14\": 94, \"5\": 25, \"4\": 11, \"8\": 25}, \"10\": {\"10\": 854, \"12\": 93, \"2\": 96, \"1\": 156, \"7\": 1}, \"13\": {\"7\": 10, \"13\": 802, \"4\": 5, \"6\": 204, \"9\": 138, \"11\": 41}, \"8\": {\"8\": 748, \"0\": 411, \"5\": 12, \"15\": 29}, \"4\": {\"4\": 868, \"14\": 325, \"5\": 1, \"15\": 3, \"13\": 2, \"9\": 1}, \"9\": {\"9\": 665, \"7\": 284, \"13\": 139, \"6\": 99, \"2\": 12, \"4\": 1}, \"14\": {\"14\": 762, \"4\": 349, \"5\": 32, \"15\": 57}, \"0\": {\"8\": 328, \"0\": 736, \"5\": 73, \"15\": 63}, \"12\": {\"12\": 929, \"1\": 204, \"10\": 52, \"3\": 11, \"2\": 4}}, \"ORACLE.run150\": {\"15\": {\"1\": 171, \"15\": 894, \"4\": 86, \"11\": 32, \"6\": 17}, \"4\": {\"1\": 134, \"5\": 130, \"4\": 585, \"15\": 188, \"6\": 109, \"7\": 32, \"13\": 22}, \"6\": {\"6\": 875, \"13\": 86, \"4\": 79, \"7\": 8, \"5\": 40, \"1\": 88, \"15\": 23, \"0\": 1}, \"2\": {\"2\": 1113, \"0\": 87}, \"5\": {\"5\": 496, \"13\": 167, \"4\": 180, \"7\": 215, \"6\": 72, \"1\": 60, \"10\": 9, \"0\": 1}, \"9\": {\"9\": 950, \"11\": 163, \"12\": 85, \"14\": 2}, \"8\": {\"8\": 1167, \"10\": 21, \"3\": 12}, \"12\": {\"12\": 1080, \"9\": 72, \"14\": 42, \"11\": 6}, \"10\": {\"10\": 1104, \"0\": 36, \"8\": 21, \"7\": 16, \"13\": 22, \"5\": 1}, \"1\": {\"1\": 806, \"4\": 84, \"15\": 208, \"6\": 80, \"11\": 7, \"5\": 9, \"2\": 1, \"13\": 3, \"14\": 2}, \"0\": {\"0\": 1024, \"2\": 121, \"10\": 49, \"13\": 6}, \"3\": {\"3\": 1170, \"8\": 30}, \"13\": {\"13\": 783, \"7\": 185, \"6\": 58, \"5\": 150, \"4\": 9, \"10\": 12, \"1\": 3}, \"11\": {\"11\": 1031, \"9\": 122, \"12\": 7, \"15\": 28, \"14\": 8, \"1\": 2, \"4\": 2}, \"7\": {\"7\": 780, \"13\": 222, \"5\": 152, \"10\": 26, \"6\": 11, \"4\": 9}, \"14\": {\"14\": 1178, \"12\": 14, \"11\": 6, \"9\": 2}}, \"ORACLE.run138\": {\"15\": {\"15\": 922, \"1\": 83, \"13\": 115, \"8\": 50, \"10\": 6, \"0\": 3, \"5\": 21}, \"11\": {\"11\": 1071, \"14\": 107, \"2\": 11, \"10\": 9, \"13\": 1, \"12\": 1}, \"10\": {\"10\": 940, \"8\": 42, \"13\": 118, \"0\": 27, \"11\": 6, \"4\": 8, \"7\": 17, \"12\": 18, \"14\": 14, \"2\": 2, \"5\": 2, \"15\": 6}, \"14\": {\"14\": 1092, \"2\": 62, \"11\": 28, \"10\": 10, \"12\": 7, \"13\": 1}, \"6\": {\"6\": 1043, \"5\": 12, \"9\": 143, \"0\": 1, \"8\": 1}, \"4\": {\"4\": 1129, \"12\": 64, \"7\": 3, \"8\": 1, \"10\": 2, \"0\": 1}, \"13\": {\"15\": 163, \"13\": 884, \"10\": 107, \"1\": 7, \"0\": 2, \"2\": 28, \"8\": 6, \"14\": 1, \"5\": 2}, \"3\": {\"3\": 1124, \"0\": 25, \"9\": 38, \"7\": 10, \"6\": 1, \"5\": 2}, \"7\": {\"7\": 967, \"0\": 129, \"5\": 65, \"8\": 36, \"10\": 3}, \"8\": {\"8\": 736, \"5\": 237, \"0\": 143, \"7\": 46, \"13\": 7, \"15\": 21, \"10\": 8, \"1\": 2}, \"1\": {\"1\": 1136, \"15\": 58, \"5\": 3, \"8\": 1, \"13\": 2}, \"5\": {\"5\": 544, \"6\": 34, \"8\": 337, \"7\": 114, \"3\": 5, \"9\": 41, \"0\": 56, \"15\": 47, \"13\": 6, \"1\": 10, \"10\": 6}, \"0\": {\"0\": 606, \"7\": 196, \"8\": 232, \"3\": 70, \"5\": 73, \"10\": 14, \"12\": 5, \"15\": 1, \"4\": 1, \"9\": 1, \"13\": 1}, \"2\": {\"2\": 1098, \"14\": 68, \"13\": 30, \"15\": 2, \"10\": 2}, \"12\": {\"12\": 1145, \"4\": 45, \"14\": 2, \"10\": 4, \"8\": 1, \"0\": 3}, \"9\": {\"9\": 846, \"6\": 295, \"3\": 29, \"5\": 26, \"7\": 3, \"0\": 1}}, \"ORACLE.run120\": {\"10\": {\"10\": 1049, \"14\": 90, \"7\": 4, \"4\": 40, \"8\": 12, \"6\": 2, \"3\": 3}, \"7\": {\"7\": 828, \"3\": 62, \"8\": 59, \"2\": 177, \"6\": 20, \"9\": 41, \"12\": 5, \"4\": 5, \"10\": 1, \"13\": 2}, \"4\": {\"4\": 891, \"12\": 17, \"8\": 174, \"3\": 53, \"10\": 41, \"9\": 3, \"5\": 11, \"7\": 8, \"14\": 2}, \"13\": {\"13\": 1086, \"15\": 21, \"9\": 13, \"2\": 61, \"1\": 6, \"12\": 6, \"11\": 1, \"7\": 4, \"5\": 1, \"3\": 1}, \"1\": {\"5\": 169, \"12\": 224, \"1\": 521, \"3\": 29, \"15\": 202, \"2\": 13, \"0\": 18, \"13\": 6, \"9\": 18}, \"0\": {\"0\": 686, \"5\": 308, \"2\": 7, \"15\": 120, \"3\": 13, \"1\": 19, \"12\": 15, \"4\": 13, \"13\": 7, \"8\": 6, \"9\": 3, \"7\": 3}, \"12\": {\"1\": 166, \"9\": 114, \"3\": 258, \"12\": 436, \"5\": 118, \"2\": 57, \"4\": 9, \"13\": 3, \"15\": 27, \"0\": 7, \"7\": 2, \"8\": 3}, \"5\": {\"3\": 45, \"0\": 222, \"1\": 194, \"2\": 3, \"15\": 99, \"5\": 509, \"12\": 117, \"9\": 3, \"4\": 8}, \"6\": {\"6\": 1038, \"14\": 140, \"8\": 6, \"7\": 13, \"10\": 2, \"11\": 1}, \"2\": {\"2\": 550, \"9\": 291, \"7\": 158, \"3\": 70, \"12\": 54, \"13\": 51, \"15\": 4, \"4\": 2, \"5\": 6, \"8\": 1, \"1\": 13}, \"8\": {\"7\": 75, \"8\": 877, \"4\": 150, \"6\": 16, \"3\": 19, \"14\": 46, \"2\": 3, \"9\": 2, \"10\": 10, \"12\": 2}, \"11\": {\"11\": 1199, \"7\": 1}, \"9\": {\"2\": 304, \"9\": 503, \"1\": 12, \"12\": 121, \"3\": 199, \"7\": 47, \"13\": 5, \"4\": 4, \"5\": 4, \"15\": 1}, \"14\": {\"14\": 927, \"10\": 101, \"8\": 27, \"6\": 142, \"4\": 2, \"7\": 1}, \"15\": {\"15\": 733, \"1\": 209, \"5\": 125, \"13\": 30, \"12\": 20, \"2\": 12, \"0\": 65, \"9\": 3, \"3\": 3}, \"3\": {\"3\": 479, \"7\": 39, \"1\": 29, \"0\": 3, \"2\": 111, \"12\": 231, \"9\": 183, \"4\": 71, \"8\": 12, \"15\": 6, \"5\": 34, \"10\": 2}}, \"ORACLE.run114\": {\"14\": {\"14\": 978, \"13\": 86, \"6\": 25, \"2\": 78, \"3\": 32, \"5\": 1}, \"0\": {\"0\": 1071, \"10\": 81, \"11\": 22, \"3\": 25, \"14\": 1}, \"4\": {\"4\": 886, \"3\": 92, \"5\": 143, \"13\": 3, \"2\": 55, \"1\": 18, \"14\": 3}, \"11\": {\"11\": 1075, \"9\": 72, \"0\": 51, \"10\": 2}, \"13\": {\"6\": 463, \"14\": 156, \"13\": 431, \"2\": 129, \"5\": 12, \"15\": 2, \"4\": 4, \"3\": 1, \"10\": 2}, \"9\": {\"9\": 1194, \"11\": 5, \"12\": 1}, \"3\": {\"3\": 1025, \"14\": 37, \"4\": 101, \"0\": 10, \"2\": 21, \"13\": 2, \"5\": 4}, \"6\": {\"13\": 415, \"6\": 704, \"14\": 37, \"2\": 44}, \"1\": {\"1\": 1073, \"5\": 114, \"4\": 9, \"7\": 4}, \"5\": {\"5\": 785, \"4\": 186, \"1\": 144, \"7\": 13, \"2\": 60, \"3\": 11, \"15\": 1}, \"12\": {\"12\": 1193, \"9\": 7}, \"10\": {\"10\": 1164, \"0\": 34, \"3\": 1, \"14\": 1}, \"8\": {\"8\": 1200}, \"7\": {\"7\": 1174, \"1\": 9, \"15\": 13, \"5\": 4}, \"15\": {\"15\": 1174, \"7\": 23, \"5\": 1, \"2\": 1, \"13\": 1}, \"2\": {\"5\": 120, \"2\": 584, \"4\": 100, \"6\": 77, \"3\": 59, \"14\": 161, \"13\": 68, \"15\": 31}}, \"ORACLE.run132\": {\"11\": {\"11\": 967, \"14\": 186, \"13\": 14, \"7\": 21, \"5\": 2, \"3\": 10}, \"1\": {\"1\": 1191, \"10\": 9}, \"2\": {\"2\": 949, \"4\": 190, \"0\": 37, \"7\": 17, \"5\": 3, \"13\": 2, \"14\": 2}, \"0\": {\"0\": 865, \"4\": 67, \"8\": 104, \"13\": 18, \"2\": 27, \"14\": 36, \"5\": 33, \"7\": 50}, \"3\": {\"3\": 1081, \"14\": 9, \"13\": 65, \"11\": 22, \"8\": 8, \"5\": 15}, \"8\": {\"8\": 920, \"0\": 112, \"13\": 77, \"5\": 64, \"3\": 9, \"14\": 10, \"4\": 5, \"7\": 3}, \"12\": {\"12\": 1200}, \"5\": {\"7\": 151, \"3\": 61, \"5\": 465, \"8\": 72, \"4\": 120, \"13\": 237, \"14\": 31, \"0\": 47, \"11\": 9, \"2\": 7}, \"15\": {\"15\": 1192, \"3\": 3, \"8\": 5}, \"7\": {\"14\": 135, \"7\": 566, \"13\": 73, \"5\": 192, \"11\": 23, \"2\": 30, \"4\": 140, \"0\": 32, \"3\": 3, \"8\": 6}, \"4\": {\"5\": 92, \"4\": 700, \"7\": 100, \"2\": 207, \"0\": 40, \"14\": 1, \"13\": 59, \"8\": 1}, \"14\": {\"2\": 8, \"14\": 576, \"11\": 285, \"7\": 162, \"5\": 42, \"4\": 10, \"0\": 50, \"13\": 45, \"3\": 12, \"8\": 10}, \"10\": {\"10\": 1195, \"1\": 5}, \"6\": {\"6\": 1200}, \"13\": {\"8\": 57, \"7\": 82, \"13\": 594, \"5\": 213, \"0\": 24, \"14\": 31, \"3\": 85, \"4\": 93, \"11\": 17, \"2\": 4}, \"9\": {\"9\": 1196, \"12\": 4}}, \"ORACLE.run18\": {\"9\": {\"9\": 1200}, \"11\": {\"11\": 801, \"1\": 357, \"8\": 16, \"5\": 16, \"14\": 10}, \"8\": {\"8\": 1118, \"15\": 53, \"6\": 17, \"12\": 6, \"7\": 5, \"1\": 1}, \"4\": {\"4\": 577, \"14\": 185, \"6\": 126, \"13\": 216, \"0\": 56, \"10\": 29, \"7\": 5, \"1\": 5, \"11\": 1}, \"13\": {\"13\": 407, \"10\": 125, \"4\": 191, \"0\": 324, \"6\": 43, \"14\": 92, \"1\": 6, \"7\": 8, \"5\": 3, \"11\": 1}, \"14\": {\"14\": 678, \"6\": 7, \"10\": 182, \"4\": 156, \"13\": 91, \"1\": 62, \"5\": 4, \"11\": 15, \"0\": 5}, \"2\": {\"2\": 978, \"3\": 151, \"7\": 20, \"12\": 12, \"15\": 38, \"6\": 1}, \"3\": {\"3\": 1012, \"12\": 65, \"2\": 118, \"15\": 5}, \"1\": {\"1\": 800, \"11\": 286, \"14\": 75, \"5\": 17, \"10\": 11, \"4\": 6, \"8\": 3, \"6\": 2}, \"0\": {\"13\": 251, \"0\": 727, \"6\": 88, \"4\": 43, \"10\": 5, \"7\": 85, \"14\": 1}, \"5\": {\"5\": 1060, \"10\": 79, \"14\": 16, \"11\": 7, \"1\": 37, \"13\": 1}, \"15\": {\"8\": 82, \"15\": 795, \"12\": 309, \"3\": 4, \"2\": 10}, \"10\": {\"10\": 788, \"13\": 113, \"14\": 225, \"0\": 7, \"4\": 30, \"11\": 1, \"5\": 24, \"1\": 12}, \"12\": {\"15\": 358, \"12\": 665, \"3\": 140, \"8\": 21, \"2\": 16}, \"6\": {\"0\": 44, \"6\": 689, \"4\": 142, \"7\": 276, \"8\": 7, \"14\": 7, \"13\": 35}, \"7\": {\"6\": 232, \"7\": 902, \"0\": 52, \"4\": 4, \"13\": 4, \"8\": 5, \"15\": 1}}, \"Wisig_4\": {\"71\": {\"114\": 8, \"71\": 78, \"55\": 1, \"46\": 1, \"1\": 3, \"124\": 4, \"4\": 5, \"42\": 1, \"99\": 1, \"84\": 1, \"110\": 1}, \"17\": {\"17\": 20}, \"105\": {\"105\": 69, \"14\": 1, \"88\": 2, \"82\": 3, \"109\": 3, \"40\": 4, \"12\": 1, \"7\": 3, \"107\": 2, \"126\": 2, \"39\": 1, \"104\": 2, \"87\": 2, \"32\": 2, \"27\": 1, \"36\": 1, \"114\": 1}, \"92\": {\"92\": 24, \"62\": 1, \"15\": 1, \"122\": 2}, \"100\": {\"100\": 20}, \"6\": {\"6\": 16, \"68\": 1, \"94\": 2, \"125\": 3, \"111\": 1, \"12\": 1}, \"36\": {\"36\": 95, \"24\": 10, \"15\": 2, \"94\": 6, \"27\": 1, \"10\": 10, \"26\": 1, \"30\": 2, \"18\": 1}, \"35\": {\"35\": 9, \"63\": 1, \"117\": 2}, \"63\": {\"63\": 12, \"35\": 1, \"117\": 1, \"26\": 1, \"113\": 1}, \"104\": {\"104\": 16}, \"114\": {\"114\": 103, \"71\": 7, \"7\": 2, \"94\": 1, \"98\": 2, \"87\": 1, \"107\": 2, \"124\": 3, \"4\": 1, \"11\": 1, \"24\": 2, \"105\": 1, \"1\": 2}, \"68\": {\"68\": 13, \"91\": 1, \"127\": 1, \"95\": 1}, \"109\": {\"109\": 69, \"92\": 1, \"118\": 5, \"61\": 1, \"80\": 1, \"90\": 8, \"110\": 1, \"117\": 1, \"102\": 4, \"44\": 1, \"5\": 2, \"122\": 2, \"84\": 5, \"69\": 2, \"11\": 1, \"96\": 1, \"116\": 1, \"126\": 1, \"16\": 2, \"39\": 2, \"113\": 1, \"43\": 4}, \"27\": {\"27\": 71, \"81\": 1, \"88\": 2, \"10\": 2, \"78\": 1, \"8\": 6, \"15\": 4, \"111\": 1, \"106\": 1, \"24\": 2, \"0\": 3, \"7\": 1, \"30\": 3, \"108\": 2}, \"79\": {\"79\": 16}, \"0\": {\"0\": 75, \"68\": 1, \"111\": 3, \"53\": 1, \"100\": 1, \"14\": 1, \"101\": 10, \"109\": 1, \"70\": 1, \"118\": 1, \"106\": 1, \"8\": 1, \"21\": 1, \"7\": 1, \"12\": 2, \"107\": 1, \"98\": 1, \"1\": 1, \"126\": 1, \"110\": 1}, \"28\": {\"28\": 16, \"114\": 1, \"79\": 2, \"101\": 1}, \"4\": {\"4\": 92, \"86\": 6, \"26\": 1, \"109\": 1, \"85\": 1, \"127\": 1, \"98\": 2}, \"106\": {\"106\": 75, \"68\": 1, \"21\": 1, \"12\": 6, \"111\": 4, \"127\": 1, \"0\": 5, \"8\": 1, \"113\": 1, \"125\": 2, \"98\": 2, \"101\": 1, \"108\": 1, \"88\": 1}, \"40\": {\"40\": 121, \"87\": 1, \"107\": 1, \"7\": 1, \"62\": 1, \"82\": 4, \"16\": 1, \"33\": 2, \"69\": 1, \"18\": 1}, \"127\": {\"127\": 94, \"16\": 1, \"128\": 2, \"34\": 2, \"110\": 1, \"85\": 2, \"95\": 2, \"101\": 2, \"12\": 2}, \"57\": {\"57\": 11, \"88\": 1, \"102\": 2, \"66\": 1, \"27\": 1}, \"60\": {\"28\": 1, \"4\": 1, \"72\": 1, \"112\": 1, \"74\": 3, \"60\": 7, \"88\": 1, \"99\": 1, \"129\": 1, \"46\": 1, \"14\": 1, \"124\": 1, \"49\": 3, \"62\": 1, \"33\": 3, \"122\": 1, \"43\": 1, \"118\": 1, \"109\": 1, \"70\": 1}, \"69\": {\"69\": 102, \"84\": 7, \"62\": 4, \"90\": 1, \"27\": 1, \"102\": 6, \"126\": 1, \"92\": 1, \"3\": 1}, \"84\": {\"84\": 101, \"35\": 1, \"16\": 2, \"78\": 1, \"69\": 6, \"121\": 1, \"44\": 1, \"102\": 5, \"90\": 7, \"118\": 4, \"3\": 1, \"43\": 2}, \"24\": {\"24\": 72, \"25\": 2, \"10\": 13, \"21\": 1, \"97\": 1, \"18\": 1, \"27\": 8, \"94\": 3, \"30\": 6, \"113\": 1, \"108\": 1, \"9\": 1, \"15\": 4, \"84\": 2, \"4\": 1, \"36\": 3}, \"94\": {\"84\": 1, \"94\": 64, \"15\": 7, \"36\": 6, \"30\": 3, \"108\": 1, \"24\": 1, \"97\": 1, \"6\": 1, \"88\": 2, \"126\": 1}, \"7\": {\"7\": 97, \"96\": 1, \"17\": 2, \"79\": 1, \"105\": 8, \"109\": 1, \"126\": 1, \"10\": 1, \"107\": 2, \"87\": 2, \"104\": 1, \"80\": 1, \"1\": 1, \"5\": 1}, \"96\": {\"96\": 11, \"109\": 1, \"59\": 1, \"68\": 1, \"84\": 1, \"121\": 2, \"12\": 1, \"105\": 1, \"127\": 1}, \"116\": {\"40\": 1, \"57\": 1, \"116\": 12, \"76\": 1, \"99\": 2, \"102\": 3, \"33\": 3, \"122\": 1, \"90\": 2, \"44\": 1, \"69\": 1}, \"47\": {\"47\": 7, \"24\": 1, \"127\": 2, \"65\": 1, \"97\": 1}, \"119\": {\"119\": 13, \"25\": 1, \"64\": 1, \"95\": 1}, \"74\": {\"32\": 2, \"74\": 12, \"60\": 1, \"22\": 1}, \"93\": {\"93\": 145, \"5\": 2, \"0\": 1, \"14\": 2, \"110\": 2}, \"2\": {\"109\": 2, \"2\": 7, \"96\": 3, \"26\": 1, \"122\": 2, \"35\": 1, \"18\": 2, \"90\": 1, \"81\": 1, \"66\": 2, \"117\": 2, \"16\": 1, \"93\": 1, \"121\": 2}, \"37\": {\"37\": 10, \"56\": 1, \"88\": 1, \"55\": 2, \"89\": 2}, \"15\": {\"15\": 113, \"54\": 2, \"30\": 6, \"26\": 1, \"94\": 1, \"106\": 2, \"6\": 1, \"69\": 1, \"110\": 1}, \"102\": {\"102\": 108, \"109\": 2, \"90\": 22, \"67\": 1, \"57\": 2, \"116\": 1}, \"87\": {\"87\": 60, \"113\": 1, \"115\": 1, \"105\": 7, \"107\": 10, \"7\": 9, \"40\": 10, \"32\": 1, \"5\": 1, \"43\": 3, \"11\": 11, \"126\": 1, \"3\": 1, \"104\": 1, \"118\": 1, \"72\": 3, \"99\": 1}, \"107\": {\"107\": 132, \"50\": 1, \"32\": 2, \"33\": 1, \"87\": 1, \"40\": 2, \"108\": 1, \"3\": 3, \"5\": 1}, \"61\": {\"61\": 14, \"91\": 1, \"21\": 1}, \"78\": {\"74\": 1, \"32\": 1, \"43\": 1, \"78\": 12, \"50\": 2, \"26\": 1, \"7\": 1, \"13\": 1, \"99\": 1, \"86\": 1, \"40\": 1, \"39\": 1, \"87\": 2, \"51\": 1, \"88\": 1, \"89\": 1, \"73\": 1, \"46\": 1, \"23\": 2, \"93\": 1, \"72\": 1, \"110\": 1}, \"9\": {\"9\": 28}, \"32\": {\"32\": 23, \"28\": 1, \"99\": 1, \"45\": 1, \"43\": 1, \"33\": 1}, \"14\": {\"14\": 105, \"31\": 1, \"5\": 2, \"74\": 1, \"20\": 1, \"11\": 2}, \"62\": {\"62\": 40, \"90\": 2, \"116\": 3, \"81\": 1, \"88\": 1, \"44\": 4, \"118\": 1, \"92\": 1, \"102\": 3, \"117\": 1, \"69\": 2, \"108\": 1}, \"1\": {\"25\": 1, \"1\": 65, \"115\": 2, \"114\": 7, \"71\": 14, \"3\": 4, \"12\": 1, \"87\": 2, \"79\": 1, \"107\": 3, \"24\": 1, \"70\": 1}, \"23\": {\"23\": 4, \"92\": 1, \"103\": 1, \"91\": 2, \"113\": 2, \"110\": 1, \"2\": 1, \"117\": 1, \"0\": 1, \"86\": 1, \"49\": 1}, \"95\": {\"95\": 27, \"127\": 2, \"55\": 1, \"4\": 1, \"76\": 1}, \"56\": {\"56\": 12}, \"91\": {\"91\": 21, \"29\": 2, \"101\": 1}, \"34\": {\"34\": 7, \"119\": 1, \"83\": 6, \"124\": 1, \"120\": 2, \"86\": 1, \"107\": 1, \"49\": 2, \"125\": 1, \"8\": 1, \"114\": 1, \"29\": 3, \"46\": 1, \"4\": 2, \"93\": 1, \"127\": 1}, \"25\": {\"25\": 16}, \"33\": {\"33\": 115, \"43\": 1, \"62\": 1, \"122\": 3, \"118\": 3, \"38\": 1}, \"16\": {\"16\": 107, \"117\": 2, \"81\": 1, \"121\": 2, \"18\": 1, \"90\": 1, \"84\": 4, \"87\": 1, \"113\": 5}, \"26\": {\"26\": 96, \"61\": 1, \"113\": 4, \"21\": 1, \"18\": 17, \"3\": 1, \"121\": 2, \"117\": 2, \"126\": 2}, \"5\": {\"5\": 114, \"26\": 2, \"72\": 2, \"93\": 2, \"102\": 3, \"110\": 6, \"43\": 2, \"39\": 1, \"81\": 1, \"88\": 1, \"122\": 2}, \"123\": {\"123\": 11, \"6\": 1, \"117\": 2, \"63\": 2}, \"8\": {\"8\": 105, \"9\": 2, \"12\": 1, \"101\": 5, \"111\": 4, \"5\": 1}, \"83\": {\"83\": 18, \"71\": 1, \"19\": 4, \"46\": 1, \"50\": 1, \"51\": 1, \"105\": 1, \"60\": 1}, \"125\": {\"125\": 128, \"29\": 2, \"127\": 2, \"1\": 2}, \"51\": {\"111\": 3, \"127\": 1, \"61\": 1, \"51\": 3, \"71\": 1, \"106\": 2, \"75\": 2, \"68\": 1, \"23\": 1, \"59\": 1}, \"22\": {\"22\": 14, \"74\": 2}, \"54\": {\"54\": 16}, \"66\": {\"66\": 12, \"31\": 1, \"13\": 2, \"57\": 1}, \"59\": {\"77\": 2, \"59\": 7, \"111\": 1, \"6\": 1, \"21\": 1}, \"111\": {\"111\": 115, \"59\": 1, \"101\": 6, \"12\": 2, \"127\": 2, \"5\": 1, \"11\": 1}, \"77\": {\"77\": 10, \"58\": 1, \"111\": 1}, \"103\": {\"103\": 16}, \"20\": {\"20\": 15, \"28\": 1}, \"124\": {\"124\": 115, \"98\": 2, \"18\": 1, \"26\": 1, \"84\": 1}, \"99\": {\"76\": 2, \"99\": 31, \"115\": 3, \"107\": 3, \"69\": 1}, \"120\": {\"91\": 1, \"120\": 18, \"21\": 1}, \"76\": {\"76\": 12, \"115\": 1, \"81\": 1, \"107\": 2}, \"110\": {\"110\": 81, \"45\": 2, \"11\": 3, \"5\": 11, \"113\": 1, \"126\": 1, \"16\": 1, \"39\": 1, \"93\": 7, \"27\": 1, \"14\": 2, \"109\": 1, \"36\": 2, \"90\": 1, \"43\": 1}, \"29\": {\"29\": 29, \"24\": 1, \"12\": 2}, \"118\": {\"118\": 69, \"12\": 1, \"116\": 2, \"90\": 9, \"44\": 4, \"62\": 2, \"102\": 11, \"71\": 1, \"122\": 7, \"106\": 1, \"33\": 1, \"88\": 1, \"21\": 1, \"113\": 1, \"110\": 1}, \"58\": {\"58\": 13, \"77\": 1, \"88\": 2}, \"13\": {\"66\": 2, \"13\": 10, \"62\": 2, \"94\": 1, \"44\": 1}, \"89\": {\"99\": 2, \"89\": 27, \"32\": 1, \"1\": 2}, \"31\": {\"66\": 2, \"31\": 11, \"95\": 1, \"62\": 2}, \"64\": {\"99\": 2, \"64\": 10, \"82\": 2, \"85\": 1, \"43\": 1}, \"65\": {\"65\": 10, \"81\": 1, \"63\": 1}, \"101\": {\"101\": 93, \"106\": 3, \"123\": 1, \"0\": 5, \"42\": 3, \"111\": 10, \"11\": 1, \"88\": 1, \"8\": 4, \"12\": 6, \"108\": 1, \"103\": 1, \"5\": 1, \"93\": 1, \"26\": 1}, \"126\": {\"65\": 1, \"126\": 85, \"63\": 2, \"121\": 1, \"117\": 7, \"18\": 5, \"113\": 8, \"39\": 7, \"109\": 1, \"26\": 1}, \"108\": {\"5\": 7, \"108\": 46, \"88\": 6, \"62\": 1, \"73\": 1, \"109\": 2, \"94\": 1, \"111\": 1, \"98\": 2, \"126\": 1, \"3\": 1, \"70\": 2, \"11\": 3, \"14\": 3, \"49\": 2, \"19\": 2, \"93\": 5, \"30\": 1, \"18\": 1, \"72\": 1, \"110\": 2, \"107\": 1}, \"45\": {\"45\": 15, \"32\": 1}, \"21\": {\"21\": 39, \"43\": 1}, \"30\": {\"106\": 1, \"108\": 1, \"30\": 53, \"97\": 1, \"27\": 1, \"126\": 1, \"94\": 4, \"36\": 2, \"10\": 2, \"15\": 5, \"24\": 2, \"6\": 2, \"88\": 1}, \"82\": {\"82\": 25, \"64\": 2, \"12\": 1, \"40\": 2, \"99\": 1, \"71\": 1}, \"85\": {\"85\": 18, \"4\": 4, \"86\": 2, \"95\": 2, \"120\": 2}, \"88\": {\"88\": 69, \"101\": 2, \"83\": 2, \"27\": 5, \"78\": 4, \"0\": 3, \"129\": 1, \"70\": 5, \"124\": 9, \"8\": 1, \"108\": 4, \"87\": 1, \"113\": 1, \"3\": 2, \"1\": 2, \"114\": 3, \"122\": 1, \"11\": 2, \"118\": 3, \"15\": 2, \"51\": 1, \"119\": 1, \"98\": 1, \"7\": 1, \"5\": 3, \"105\": 1, \"110\": 1, \"93\": 1}, \"41\": {\"41\": 13, \"88\": 1, \"37\": 2}, \"128\": {\"85\": 2, \"4\": 2, \"129\": 2, \"105\": 1, \"128\": 7, \"82\": 1, \"40\": 1, \"91\": 1, \"87\": 1, \"34\": 1, \"107\": 1, \"111\": 2, \"114\": 2}, \"39\": {\"18\": 9, \"39\": 46, \"109\": 3, \"69\": 1, \"113\": 14, \"84\": 1, \"117\": 10, \"126\": 10, \"26\": 5, \"116\": 1}, \"18\": {\"61\": 2, \"18\": 92, \"81\": 1, \"70\": 1, \"26\": 16, \"108\": 1, \"113\": 3, \"39\": 1, \"126\": 2, \"16\": 1}, \"113\": {\"113\": 96, \"121\": 3, \"81\": 5, \"39\": 4, \"26\": 1, \"117\": 6, \"18\": 6, \"16\": 2, \"41\": 1, \"27\": 1, \"65\": 1, \"126\": 2}, \"11\": {\"32\": 1, \"11\": 94, \"14\": 4, \"5\": 5, \"40\": 1, \"107\": 15, \"114\": 1, \"110\": 2, \"3\": 6, \"90\": 1, \"126\": 2, \"99\": 1, \"87\": 2, \"43\": 1, \"7\": 1, \"109\": 1}, \"43\": {\"32\": 1, \"64\": 1, \"82\": 3, \"3\": 2, \"43\": 50, \"50\": 2, \"33\": 5, \"76\": 1, \"99\": 7, \"110\": 9, \"72\": 2, \"40\": 13, \"5\": 4, \"87\": 5, \"111\": 1, \"26\": 1, \"122\": 3, \"98\": 1, \"115\": 1, \"49\": 1, \"105\": 2, \"107\": 3, \"11\": 1, \"109\": 1}, \"12\": {\"12\": 86, \"5\": 1, \"56\": 1, \"15\": 1, \"106\": 3, \"111\": 6, \"110\": 1, \"39\": 1}, \"122\": {\"44\": 2, \"122\": 41, \"43\": 3, \"33\": 12, \"14\": 1, \"90\": 2, \"99\": 2, \"113\": 1, \"94\": 1, \"40\": 4, \"110\": 1, \"24\": 1, \"118\": 2, \"11\": 2, \"109\": 1, \"126\": 3, \"102\": 2, \"116\": 2, \"16\": 1}, \"52\": {\"52\": 18, \"127\": 2}, \"44\": {\"44\": 44, \"90\": 4, \"116\": 1, \"102\": 8, \"66\": 1, \"81\": 1, \"13\": 1, \"118\": 1, \"126\": 1, \"121\": 1, \"26\": 1}, \"90\": {\"102\": 21, \"90\": 106, \"44\": 4, \"69\": 2, \"18\": 1}, \"112\": {\"112\": 14, \"42\": 2}, \"86\": {\"86\": 24, \"4\": 2, \"55\": 1, \"37\": 1}, \"3\": {\"3\": 90, \"78\": 1, \"107\": 4, \"11\": 4, \"102\": 1, \"87\": 2, \"43\": 2, \"46\": 2, \"32\": 2, \"71\": 2, \"14\": 3, \"1\": 2, \"93\": 1}, \"38\": {\"38\": 12, \"67\": 2, \"102\": 2}, \"121\": {\"121\": 15, \"67\": 1, \"69\": 3, \"116\": 1, \"18\": 1, \"44\": 1, \"26\": 5, \"117\": 2, \"39\": 2, \"90\": 1}, \"46\": {\"108\": 1, \"116\": 1, \"46\": 14, \"124\": 2, \"85\": 1, \"3\": 1}, \"70\": {\"70\": 67, \"46\": 2, \"100\": 3, \"69\": 1, \"88\": 3, \"108\": 2, \"27\": 1, \"0\": 9, \"71\": 1, \"1\": 2, \"101\": 5, \"114\": 3, \"117\": 1, \"98\": 5, \"124\": 7, \"129\": 1, \"49\": 1, \"42\": 1, \"11\": 2, \"60\": 1, \"24\": 1, \"128\": 1, \"18\": 1, \"93\": 3}, \"67\": {\"116\": 1, \"121\": 1, \"117\": 3, \"18\": 1, \"118\": 1, \"16\": 1, \"67\": 3, \"63\": 1, \"102\": 1, \"123\": 1, \"113\": 2}, \"53\": {\"42\": 2, \"53\": 13, \"91\": 1}, \"49\": {\"14\": 3, \"49\": 4, \"127\": 1, \"112\": 2, \"42\": 1, \"34\": 3, \"2\": 1, \"8\": 1, \"98\": 2, \"60\": 2, \"122\": 2, \"123\": 1, \"43\": 1, \"73\": 1, \"101\": 2, \"72\": 2, \"91\": 1, \"45\": 1, \"6\": 1}, \"42\": {\"42\": 9, \"88\": 2, \"129\": 1, \"52\": 1, \"110\": 1, \"12\": 2, \"8\": 2, \"49\": 2, \"112\": 2, \"101\": 1, \"93\": 1, \"103\": 1, \"70\": 1, \"1\": 1, \"111\": 1}, \"10\": {\"9\": 3, \"24\": 8, \"101\": 2, \"94\": 5, \"10\": 65, \"88\": 1, \"30\": 5, \"27\": 4, \"36\": 9, \"15\": 11, \"108\": 2, \"39\": 1, \"26\": 1, \"70\": 1}, \"50\": {\"107\": 1, \"50\": 14, \"115\": 1}, \"73\": {\"73\": 16, \"49\": 2, \"5\": 1, \"111\": 1, \"46\": 2, \"119\": 2}, \"115\": {\"115\": 12, \"84\": 1, \"50\": 1, \"44\": 1, \"76\": 1}, \"80\": {\"80\": 13, \"30\": 1, \"66\": 2}, \"19\": {\"109\": 1, \"83\": 4, \"98\": 1, \"101\": 3, \"129\": 3, \"48\": 1, \"5\": 1, \"19\": 5, \"93\": 2, \"90\": 1, \"60\": 2, \"110\": 2, \"124\": 1, \"27\": 1}, \"55\": {\"55\": 16}, \"72\": {\"72\": 24, \"30\": 1, \"43\": 2, \"5\": 2, \"113\": 1, \"107\": 2}, \"117\": {\"117\": 110, \"63\": 1, \"126\": 2, \"18\": 1, \"122\": 2}, \"81\": {\"81\": 29, \"80\": 1, \"69\": 1, \"78\": 1, \"18\": 2, \"39\": 1, \"117\": 1}, \"75\": {\"75\": 16}, \"98\": {\"98\": 101, \"52\": 4, \"12\": 3, \"30\": 1, \"24\": 1, \"124\": 2, \"108\": 2, \"25\": 1, \"88\": 1, \"95\": 2, \"106\": 1, \"127\": 1}, \"48\": {\"90\": 1, \"48\": 11, \"113\": 2, \"62\": 2}, \"129\": {\"19\": 3, \"129\": 12, \"110\": 2, \"11\": 3, \"124\": 1, \"83\": 2, \"101\": 1, \"10\": 1, \"98\": 1, \"5\": 2}, \"97\": {\"97\": 13, \"9\": 1, \"36\": 1, \"24\": 2, \"15\": 1, \"94\": 1, \"25\": 1}}, \"Wisig_1\": {\"105\": {\"105\": 70, \"40\": 7, \"114\": 2, \"10\": 2, \"46\": 2, \"4\": 1}, \"100\": {\"100\": 16}, \"112\": {\"112\": 15, \"75\": 1}, \"123\": {\"123\": 16}, \"13\": {\"13\": 12, \"11\": 2, \"18\": 2}, \"81\": {\"81\": 27, \"82\": 1}, \"124\": {\"124\": 117, \"117\": 1, \"84\": 2}, \"122\": {\"122\": 61, \"28\": 1, \"38\": 3, \"61\": 2, \"7\": 8, \"43\": 7, \"120\": 2, \"11\": 1, \"42\": 2, \"14\": 1}, \"111\": {\"111\": 108, \"71\": 5, \"18\": 1, \"127\": 1, \"12\": 1, \"32\": 3, \"109\": 1}, \"93\": {\"93\": 103, \"86\": 5, \"10\": 16, \"109\": 1, \"23\": 1, \"8\": 9, \"15\": 1, \"11\": 3, \"40\": 6, \"7\": 1, \"114\": 1, \"55\": 1, \"1\": 1, \"87\": 2, \"4\": 3, \"105\": 1, \"70\": 1, \"107\": 2}, \"106\": {\"106\": 95, \"0\": 2, \"70\": 2, \"127\": 7, \"111\": 2, \"98\": 3, \"36\": 1, \"12\": 2, \"112\": 1, \"24\": 1, \"113\": 1, \"39\": 1}, \"113\": {\"113\": 110, \"18\": 2, \"16\": 6, \"66\": 2, \"26\": 2, \"117\": 2}, \"95\": {\"95\": 30, \"26\": 1, \"118\": 3, \"63\": 1, \"117\": 1}, \"87\": {\"122\": 4, \"87\": 72, \"1\": 9, \"118\": 1, \"114\": 5, \"84\": 4, \"105\": 4, \"40\": 6, \"18\": 1, \"43\": 1, \"8\": 1}, \"86\": {\"86\": 32, \"24\": 1, \"4\": 1, \"31\": 2}, \"67\": {\"67\": 14, \"76\": 1, \"116\": 1}, \"85\": {\"85\": 32}, \"82\": {\"82\": 36}, \"115\": {\"115\": 11, \"25\": 1}, \"7\": {\"28\": 1, \"7\": 132, \"62\": 1, \"11\": 1, \"43\": 6, \"122\": 1}, \"44\": {\"44\": 76}, \"65\": {\"16\": 1, \"65\": 3, \"80\": 1, \"95\": 2, \"74\": 1, \"63\": 1, \"33\": 1, \"26\": 1, \"28\": 1}, \"129\": {\"129\": 11, \"104\": 2, \"19\": 1, \"18\": 1, \"23\": 1, \"52\": 1, \"99\": 1, \"3\": 2, \"83\": 1, \"73\": 1, \"8\": 3, \"11\": 2, \"111\": 1}, \"42\": {\"129\": 2, \"0\": 2, \"1\": 1, \"60\": 1, \"82\": 3, \"86\": 2, \"83\": 3, \"124\": 1, \"42\": 7, \"39\": 1, \"31\": 2, \"64\": 1, \"20\": 1, \"5\": 1}, \"28\": {\"129\": 1, \"28\": 16, \"7\": 2, \"24\": 1}, \"0\": {\"0\": 58, \"39\": 1, \"110\": 9, \"91\": 2, \"17\": 1, \"10\": 1, \"98\": 8, \"107\": 2, \"24\": 1, \"8\": 1}, \"10\": {\"10\": 63, \"85\": 2, \"54\": 1, \"35\": 2, \"9\": 1, \"93\": 13, \"107\": 7, \"70\": 8, \"23\": 1, \"44\": 5, \"40\": 3, \"126\": 3, \"105\": 3, \"86\": 1, \"8\": 3, \"4\": 4}, \"76\": {\"76\": 12, \"33\": 1, \"126\": 1, \"80\": 2}, \"88\": {\"88\": 79, \"6\": 1, \"109\": 3, \"29\": 1, \"27\": 11, \"12\": 3, \"94\": 8, \"15\": 3, \"36\": 6, \"24\": 6, \"101\": 3, \"108\": 2}, \"29\": {\"29\": 28}, \"16\": {\"16\": 92, \"26\": 4, \"63\": 1, \"117\": 8, \"39\": 1, \"123\": 1, \"113\": 1}, \"41\": {\"41\": 16}, \"27\": {\"27\": 81, \"94\": 3, \"88\": 4, \"70\": 1, \"30\": 2, \"84\": 1}, \"33\": {\"33\": 108, \"62\": 3, \"90\": 5, \"121\": 1, \"87\": 1, \"102\": 1, \"116\": 1}, \"75\": {\"75\": 15, \"89\": 1}, \"48\": {\"48\": 12}, \"56\": {\"0\": 1, \"75\": 1, \"56\": 5, \"71\": 1, \"98\": 2, \"91\": 2}, \"9\": {\"9\": 28, \"49\": 1, \"128\": 2, \"117\": 1}, \"1\": {\"1\": 117, \"42\": 1, \"25\": 1, \"87\": 2, \"117\": 1, \"84\": 4}, \"39\": {\"39\": 57, \"65\": 1, \"117\": 11, \"18\": 26, \"25\": 1, \"26\": 1, \"129\": 1, \"33\": 1, \"2\": 1, \"13\": 2, \"16\": 2}, \"50\": {\"39\": 2, \"50\": 12, \"4\": 1, \"10\": 1}, \"99\": {\"99\": 19, \"39\": 1, \"82\": 3, \"3\": 1}, \"90\": {\"67\": 1, \"90\": 106, \"116\": 2, \"62\": 1, \"33\": 12}, \"45\": {\"45\": 6, \"112\": 1, \"82\": 1, \"64\": 2, \"115\": 1, \"39\": 1}, \"5\": {\"5\": 81, \"8\": 4, \"124\": 3}, \"128\": {\"32\": 1, \"128\": 6, \"119\": 2, \"28\": 1, \"111\": 1, \"80\": 1, \"43\": 1, \"23\": 1, \"7\": 3, \"25\": 1, \"47\": 1, \"120\": 1, \"81\": 1, \"103\": 1, \"11\": 1, \"101\": 1}, \"2\": {\"90\": 2, \"76\": 1, \"2\": 9, \"74\": 2, \"81\": 3, \"60\": 2, \"66\": 1, \"18\": 1, \"33\": 2, \"39\": 2, \"97\": 1, \"50\": 1, \"78\": 1, \"100\": 2, \"16\": 2}, \"53\": {\"53\": 18, \"75\": 2}, \"104\": {\"104\": 13, \"34\": 1, \"73\": 2}, \"32\": {\"53\": 3, \"91\": 4, \"32\": 16, \"104\": 1, \"111\": 2, \"58\": 2, \"106\": 2, \"110\": 2}, \"92\": {\"92\": 28}, \"78\": {\"2\": 1, \"7\": 2, \"78\": 5, \"16\": 1, \"80\": 1, \"129\": 2, \"74\": 2, \"22\": 1, \"1\": 1}, \"19\": {\"19\": 17, \"64\": 2, \"20\": 2, \"44\": 1, \"9\": 1, \"104\": 2, \"124\": 1, \"129\": 2}, \"120\": {\"120\": 17, \"123\": 1, \"28\": 2}, \"43\": {\"81\": 2, \"43\": 65, \"57\": 2, \"122\": 14, \"25\": 2, \"114\": 2, \"87\": 2, \"1\": 3, \"7\": 19, \"11\": 8, \"40\": 2, \"24\": 1, \"106\": 1, \"38\": 1, \"113\": 1, \"39\": 1, \"84\": 1, \"109\": 1}, \"74\": {\"74\": 15, \"28\": 1}, \"11\": {\"28\": 1, \"11\": 103, \"78\": 1, \"64\": 1, \"33\": 1, \"102\": 1, \"122\": 4, \"43\": 8, \"39\": 1, \"90\": 1, \"74\": 1, \"119\": 1, \"26\": 1, \"81\": 2, \"82\": 1, \"3\": 1, \"7\": 1}, \"26\": {\"26\": 111, \"95\": 4, \"63\": 1, \"118\": 7, \"69\": 3, \"39\": 2, \"18\": 2, \"16\": 2}, \"125\": {\"125\": 131, \"51\": 1}, \"64\": {\"64\": 16}, \"127\": {\"127\": 88, \"32\": 1, \"15\": 1, \"111\": 6, \"71\": 2, \"106\": 3, \"68\": 4, \"112\": 1, \"69\": 1, \"94\": 1}, \"83\": {\"83\": 22, \"114\": 2, \"30\": 1, \"79\": 1, \"124\": 2}, \"118\": {\"118\": 58, \"16\": 8, \"116\": 2, \"26\": 10, \"117\": 2, \"95\": 3, \"109\": 1}, \"103\": {\"103\": 9, \"12\": 1, \"106\": 3, \"71\": 1, \"68\": 1, \"53\": 1}, \"55\": {\"55\": 12}, \"110\": {\"0\": 10, \"110\": 106, \"91\": 1, \"98\": 6, \"4\": 1, \"12\": 2}, \"30\": {\"83\": 1, \"30\": 22, \"70\": 1, \"52\": 4, \"94\": 4, \"53\": 2, \"108\": 1, \"21\": 1, \"88\": 1, \"24\": 3, \"27\": 2, \"11\": 1, \"59\": 1, \"15\": 2, \"19\": 1, \"4\": 1, \"110\": 1, \"12\": 2, \"1\": 1}, \"51\": {\"51\": 15, \"125\": 1}, \"6\": {\"51\": 2, \"6\": 11, \"75\": 2, \"52\": 1, \"68\": 1, \"110\": 2, \"94\": 1, \"127\": 1, \"98\": 2, \"106\": 2, \"27\": 1, \"34\": 2, \"89\": 2, \"0\": 1, \"88\": 1}, \"96\": {\"60\": 2, \"96\": 11, \"70\": 2, \"20\": 2, \"12\": 1, \"126\": 2}, \"114\": {\"114\": 142, \"121\": 1, \"39\": 1}, \"69\": {\"69\": 98, \"16\": 1, \"62\": 4, \"117\": 1, \"76\": 2, \"118\": 1, \"102\": 1}, \"60\": {\"60\": 3, \"69\": 2, \"34\": 1, \"13\": 1, \"3\": 1, \"19\": 1, \"81\": 1, \"16\": 1, \"42\": 1, \"2\": 1, \"119\": 1, \"83\": 1, \"87\": 1}, \"94\": {\"94\": 68, \"27\": 9, \"6\": 1, \"36\": 3, \"30\": 5, \"70\": 2, \"52\": 1, \"109\": 1, \"108\": 1, \"88\": 1}, \"79\": {\"79\": 11, \"114\": 1}, \"126\": {\"126\": 115, \"73\": 1, \"12\": 1, \"104\": 1, \"44\": 7, \"109\": 2, \"124\": 2, \"108\": 1, \"39\": 1, \"64\": 1, \"70\": 2}, \"68\": {\"112\": 2, \"68\": 12, \"127\": 2}, \"72\": {\"72\": 31, \"29\": 1}, \"63\": {\"63\": 15, \"118\": 1}, \"22\": {\"22\": 12, \"120\": 1, \"1\": 2, \"6\": 1}, \"121\": {\"121\": 21, \"16\": 2, \"117\": 1, \"123\": 3, \"26\": 3, \"63\": 1, \"15\": 1}, \"71\": {\"71\": 78, \"111\": 11, \"27\": 1, \"16\": 1, \"53\": 1, \"12\": 8, \"24\": 1, \"43\": 1, \"68\": 1, \"52\": 1, \"127\": 1, \"44\": 1, \"102\": 1, \"113\": 1}, \"54\": {\"54\": 16}, \"102\": {\"102\": 117, \"113\": 1, \"2\": 2}, \"73\": {\"73\": 15, \"75\": 1, \"125\": 1, \"126\": 2, \"68\": 1}, \"38\": {\"38\": 15, \"7\": 1}, \"4\": {\"4\": 89, \"86\": 2, \"105\": 2, \"113\": 1, \"93\": 2, \"107\": 2, \"118\": 2}, \"52\": {\"52\": 20}, \"70\": {\"79\": 2, \"70\": 70, \"126\": 9, \"34\": 2, \"9\": 1, \"44\": 2, \"23\": 2, \"83\": 3, \"124\": 10, \"128\": 1, \"93\": 3, \"109\": 1, \"8\": 9, \"118\": 1, \"10\": 2, \"108\": 2, \"20\": 1, \"5\": 2, \"12\": 4, \"125\": 1}, \"91\": {\"91\": 17, \"17\": 1, \"53\": 1, \"32\": 1, \"127\": 4, \"46\": 2, \"112\": 1, \"89\": 1}, \"77\": {\"77\": 13, \"61\": 1, \"91\": 2}, \"20\": {\"20\": 14, \"14\": 1, \"64\": 1}, \"59\": {\"59\": 12}, \"40\": {\"40\": 127, \"87\": 1, \"118\": 1, \"105\": 2, \"7\": 1, \"43\": 1, \"41\": 1, \"114\": 1, \"109\": 1}, \"98\": {\"98\": 99, \"110\": 7, \"127\": 1, \"106\": 1}, \"46\": {\"40\": 1, \"59\": 3, \"94\": 1, \"23\": 1, \"3\": 1, \"71\": 1, \"103\": 1, \"105\": 1, \"87\": 1, \"32\": 1}, \"34\": {\"34\": 10, \"85\": 1, \"77\": 4, \"89\": 1, \"122\": 2, \"82\": 1, \"98\": 1, \"37\": 1, \"84\": 2, \"56\": 1, \"14\": 1, \"114\": 3, \"124\": 1, \"91\": 1, \"53\": 1, \"43\": 1}, \"24\": {\"24\": 66, \"113\": 2, \"30\": 1, \"101\": 1, \"27\": 4, \"88\": 10, \"94\": 3, \"36\": 1, \"97\": 2, \"108\": 1, \"39\": 1}, \"62\": {\"62\": 108, \"102\": 4, \"90\": 1, \"33\": 3, \"74\": 1, \"125\": 1, \"113\": 1, \"26\": 1}, \"14\": {\"14\": 95, \"1\": 1}, \"12\": {\"12\": 79, \"106\": 6, \"32\": 1, \"111\": 3, \"15\": 1, \"71\": 2, \"0\": 1, \"47\": 1, \"75\": 2, \"121\": 1, \"127\": 2, \"113\": 1, \"39\": 1, \"98\": 2, \"24\": 1}, \"84\": {\"84\": 110, \"114\": 3, \"1\": 10, \"107\": 1, \"124\": 2, \"87\": 2, \"109\": 1, \"14\": 4, \"39\": 1}, \"37\": {\"37\": 16}, \"97\": {\"27\": 1, \"97\": 18, \"15\": 1}, \"57\": {\"43\": 1, \"57\": 10, \"18\": 1}, \"49\": {\"32\": 1, \"49\": 5, \"103\": 1, \"101\": 1, \"35\": 2, \"124\": 2, \"12\": 1, \"73\": 1, \"31\": 1, \"15\": 1, \"23\": 2, \"71\": 2}, \"17\": {\"98\": 2, \"77\": 2, \"0\": 3, \"17\": 7, \"2\": 1, \"71\": 1}, \"109\": {\"109\": 91, \"39\": 1, \"126\": 2, \"43\": 2, \"5\": 1, \"11\": 3, \"100\": 2, \"70\": 1, \"113\": 1, \"3\": 1, \"1\": 1}, \"80\": {\"80\": 14, \"122\": 1, \"7\": 1}, \"66\": {\"66\": 16}, \"101\": {\"101\": 121, \"15\": 2, \"117\": 1}, \"89\": {\"89\": 34, \"23\": 1, \"1\": 1}, \"31\": {\"89\": 1, \"31\": 14, \"54\": 1}, \"21\": {\"94\": 1, \"21\": 18, \"1\": 5, \"14\": 3, \"87\": 1, \"44\": 1, \"12\": 1, \"70\": 1, \"113\": 1, \"39\": 2, \"71\": 1, \"126\": 1, \"122\": 1, \"109\": 2, \"84\": 1}, \"23\": {\"99\": 3, \"122\": 1, \"72\": 1, \"18\": 1, \"98\": 1, \"23\": 1, \"89\": 1, \"1\": 1, \"110\": 1, \"11\": 1, \"0\": 2, \"29\": 3, \"90\": 1, \"55\": 1, \"44\": 1, \"91\": 1, \"82\": 2, \"49\": 1}, \"25\": {\"25\": 11, \"43\": 2, \"30\": 1, \"115\": 1, \"45\": 1}, \"107\": {\"107\": 102, \"87\": 2, \"113\": 1, \"4\": 2, \"110\": 1, \"124\": 1, \"94\": 1, \"10\": 2}, \"3\": {\"60\": 2, \"3\": 80, \"24\": 1, \"126\": 1, \"88\": 2, \"102\": 2}, \"61\": {\"61\": 9, \"116\": 1, \"33\": 1, \"111\": 1}, \"117\": {\"117\": 120, \"18\": 1, \"16\": 4, \"26\": 1}, \"119\": {\"119\": 13, \"33\": 2, \"98\": 1}, \"58\": {\"58\": 12}, \"47\": {\"47\": 12}, \"116\": {\"116\": 14, \"22\": 1, \"33\": 3, \"69\": 2, \"62\": 5, \"102\": 1, \"67\": 2, \"119\": 2, \"7\": 1, \"3\": 1}, \"18\": {\"18\": 113, \"16\": 2, \"39\": 5, \"113\": 2, \"26\": 1, \"69\": 1}, \"36\": {\"36\": 111, \"118\": 1, \"6\": 2, \"88\": 2, \"39\": 1, \"97\": 2, \"24\": 2, \"113\": 1}, \"108\": {\"108\": 83, \"29\": 2, \"88\": 3, \"101\": 15, \"126\": 2, \"36\": 2, \"109\": 2, \"47\": 1, \"72\": 1, \"21\": 1}, \"15\": {\"15\": 89, \"111\": 3, \"127\": 4, \"71\": 4, \"12\": 2, \"94\": 1, \"117\": 1}, \"8\": {\"8\": 90, \"5\": 9, \"124\": 4, \"0\": 1, \"93\": 1, \"4\": 2, \"114\": 1, \"84\": 2, \"31\": 1, \"107\": 3}, \"35\": {\"35\": 12}}, \"Wisig_2\": {\"3\": {\"3\": 110, \"53\": 1, \"107\": 2, \"5\": 5, \"124\": 2, \"122\": 2, \"117\": 2, \"110\": 2, \"85\": 1, \"39\": 2, \"32\": 1, \"70\": 1, \"114\": 1}, \"127\": {\"127\": 106, \"21\": 1, \"12\": 4, \"98\": 3, \"124\": 1, \"111\": 2, \"122\": 1, \"35\": 2}, \"58\": {\"58\": 20}, \"114\": {\"86\": 5, \"114\": 95, \"5\": 4, \"4\": 2, \"71\": 3, \"46\": 1, \"54\": 1, \"21\": 1}, \"111\": {\"111\": 131, \"77\": 1, \"127\": 6, \"114\": 2, \"15\": 1, \"93\": 1, \"30\": 2}, \"105\": {\"105\": 100, \"40\": 22, \"74\": 1, \"38\": 1, \"32\": 1, \"122\": 1, \"64\": 2, \"3\": 1, \"7\": 2, \"33\": 1}, \"118\": {\"114\": 1, \"118\": 37, \"102\": 2, \"62\": 4, \"84\": 5, \"33\": 5, \"14\": 1, \"90\": 5, \"13\": 5, \"116\": 1, \"83\": 1, \"36\": 1}, \"23\": {\"86\": 1, \"99\": 2, \"112\": 1, \"117\": 5, \"113\": 4, \"5\": 1, \"122\": 5, \"78\": 1, \"124\": 1, \"23\": 7, \"2\": 2, \"18\": 3, \"12\": 2, \"70\": 1, \"34\": 2, \"26\": 2, \"87\": 1, \"44\": 1, \"71\": 1, \"85\": 1}, \"21\": {\"21\": 40, \"118\": 2, \"62\": 1, \"70\": 1, \"24\": 2, \"119\": 1, \"85\": 1}, \"20\": {\"20\": 13, \"16\": 2, \"21\": 1}, \"75\": {\"75\": 13, \"49\": 2, \"48\": 1}, \"86\": {\"86\": 32}, \"60\": {\"118\": 1, \"14\": 1, \"116\": 2, \"60\": 10, \"62\": 2, \"28\": 1, \"44\": 2, \"88\": 1, \"3\": 1, \"82\": 2, \"46\": 1, \"43\": 1, \"81\": 1, \"47\": 1, \"84\": 1}, \"69\": {\"69\": 109, \"120\": 2, \"72\": 2, \"102\": 4, \"18\": 5, \"121\": 1, \"88\": 1, \"43\": 1, \"117\": 1, \"26\": 7, \"31\": 1, \"57\": 2, \"94\": 1, \"39\": 2, \"62\": 1}, \"99\": {\"99\": 29, \"85\": 1, \"2\": 2}, \"14\": {\"14\": 23, \"60\": 4, \"55\": 2, \"45\": 2, \"116\": 2, \"72\": 2, \"5\": 1, \"61\": 1, \"96\": 1, \"16\": 1, \"107\": 1, \"40\": 1, \"100\": 1, \"73\": 1, \"71\": 1, \"1\": 2, \"126\": 1, \"21\": 1}, \"25\": {\"25\": 13, \"101\": 2, \"52\": 1}, \"52\": {\"52\": 16, \"94\": 1, \"8\": 1, \"30\": 2}, \"47\": {\"47\": 8, \"29\": 1, \"101\": 1, \"72\": 1, \"94\": 1}, \"48\": {\"48\": 15, \"125\": 1, \"118\": 1, \"90\": 1, \"31\": 2}, \"27\": {\"27\": 46, \"20\": 1, \"0\": 2, \"87\": 1, \"101\": 5, \"70\": 1, \"24\": 3, \"84\": 1, \"39\": 1, \"8\": 1, \"18\": 1, \"36\": 2, \"113\": 1, \"15\": 1, \"126\": 1}, \"78\": {\"78\": 14, \"66\": 1, \"115\": 2, \"60\": 1, \"126\": 2, \"32\": 1, \"49\": 1, \"61\": 1, \"40\": 2, \"88\": 2, \"43\": 3, \"121\": 1, \"10\": 2, \"107\": 1, \"118\": 1, \"50\": 1, \"37\": 1, \"64\": 1, \"76\": 2, \"1\": 3, \"105\": 2, \"113\": 1, \"70\": 1, \"62\": 1}, \"8\": {\"8\": 92, \"128\": 2, \"11\": 1, \"12\": 1, \"126\": 2, \"111\": 5, \"124\": 1, \"108\": 7, \"98\": 1, \"93\": 1, \"101\": 2, \"42\": 1, \"30\": 2, \"79\": 1, \"106\": 1, \"127\": 1, \"88\": 1}, \"90\": {\"90\": 148, \"99\": 1, \"102\": 5, \"84\": 1, \"33\": 2, \"26\": 1, \"118\": 1, \"117\": 1}, \"103\": {\"103\": 15, \"111\": 1}, \"120\": {\"120\": 19, \"121\": 1}, \"96\": {\"96\": 14, \"119\": 2, \"93\": 2, \"13\": 2}, \"30\": {\"30\": 72, \"111\": 3, \"106\": 10, \"0\": 2, \"8\": 3, \"15\": 1, \"108\": 2, \"122\": 1, \"125\": 2, \"11\": 1, \"49\": 2, \"54\": 1, \"83\": 1, \"24\": 1, \"109\": 1, \"43\": 1}, \"33\": {\"33\": 123, \"84\": 11, \"62\": 7, \"118\": 1, \"80\": 2, \"90\": 2}, \"35\": {\"35\": 10, \"103\": 1, \"127\": 1}, \"108\": {\"108\": 78, \"112\": 1, \"8\": 15, \"98\": 2, \"0\": 1, \"124\": 2, \"12\": 2, \"127\": 4, \"101\": 2, \"49\": 2, \"11\": 3, \"29\": 1, \"111\": 2, \"88\": 1}, \"112\": {\"112\": 11, \"124\": 2, \"11\": 2, \"107\": 1}, \"40\": {\"40\": 95, \"74\": 3, \"28\": 2, \"107\": 2, \"21\": 1, \"105\": 12, \"88\": 2, \"126\": 1, \"94\": 1, \"7\": 7, \"70\": 2, \"1\": 2, \"95\": 2, \"43\": 2, \"4\": 2, \"33\": 1, \"3\": 1, \"26\": 1, \"18\": 1}, \"102\": {\"102\": 103, \"13\": 1, \"90\": 7, \"88\": 1, \"122\": 1, \"26\": 2, \"70\": 1}, \"56\": {\"56\": 12}, \"93\": {\"93\": 117, \"16\": 15, \"90\": 1, \"109\": 2, \"39\": 1}, \"68\": {\"68\": 13, \"42\": 2, \"14\": 1}, \"70\": {\"70\": 50, \"43\": 14, \"23\": 1, \"84\": 3, \"88\": 9, \"82\": 2, \"96\": 1, \"44\": 5, \"110\": 2, \"109\": 3, \"1\": 9, \"87\": 2, \"126\": 4, \"33\": 4, \"3\": 3, \"16\": 1, \"117\": 1, \"62\": 1, \"45\": 1, \"28\": 1, \"78\": 2, \"121\": 1, \"93\": 1, \"105\": 1, \"26\": 1, \"40\": 1}, \"7\": {\"7\": 113, \"104\": 2, \"40\": 2, \"4\": 3, \"5\": 1, \"92\": 1, \"10\": 1, \"114\": 1}, \"87\": {\"70\": 2, \"93\": 4, \"60\": 1, \"87\": 56, \"48\": 1, \"88\": 1, \"116\": 2, \"100\": 1, \"83\": 1, \"89\": 1, \"13\": 2, \"82\": 1, \"62\": 1, \"10\": 1, \"33\": 7, \"90\": 7, \"84\": 4, \"102\": 5, \"44\": 1, \"43\": 1, \"113\": 1, \"109\": 5, \"1\": 2, \"39\": 1, \"2\": 1, \"40\": 1, \"16\": 1}, \"54\": {\"40\": 1, \"54\": 19}, \"71\": {\"71\": 69, \"49\": 1, \"114\": 8, \"12\": 2, \"122\": 3, \"5\": 5, \"88\": 1, \"36\": 1, \"39\": 2, \"28\": 1, \"86\": 1, \"21\": 1, \"3\": 3, \"4\": 1, \"98\": 1}, \"80\": {\"80\": 15, \"33\": 1}, \"18\": {\"18\": 97, \"65\": 2, \"120\": 1, \"121\": 4, \"117\": 6, \"26\": 4, \"87\": 1, \"33\": 3, \"69\": 4}, \"101\": {\"101\": 107, \"25\": 1, \"126\": 1, \"15\": 5, \"106\": 2, \"108\": 2, \"0\": 2, \"111\": 2}, \"92\": {\"92\": 25, \"71\": 1, \"13\": 2}, \"32\": {\"128\": 2, \"32\": 17, \"28\": 2, \"43\": 1, \"40\": 2, \"1\": 2, \"107\": 2, \"34\": 1, \"37\": 1, \"3\": 3, \"71\": 1, \"58\": 1, \"105\": 1}, \"128\": {\"30\": 4, \"40\": 1, \"66\": 1, \"128\": 3, \"1\": 3, \"107\": 5, \"104\": 1, \"45\": 1, \"5\": 1, \"8\": 1, \"64\": 1, \"37\": 2}, \"6\": {\"51\": 3, \"15\": 1, \"34\": 1, \"6\": 16, \"49\": 1, \"106\": 3, \"103\": 1, \"125\": 1, \"101\": 2, \"35\": 1, \"52\": 2}, \"51\": {\"6\": 2, \"111\": 1, \"54\": 2, \"51\": 14, \"10\": 1}, \"85\": {\"85\": 20, \"68\": 1, \"115\": 1, \"110\": 1, \"83\": 1, \"128\": 1, \"5\": 2, \"114\": 2, \"32\": 2, \"71\": 1}, \"46\": {\"128\": 2, \"46\": 12, \"45\": 2}, \"22\": {\"22\": 18, \"76\": 1, \"80\": 1}, \"1\": {\"1\": 108, \"60\": 2, \"61\": 2, \"78\": 1, \"18\": 1, \"62\": 2, \"43\": 2, \"16\": 1, \"87\": 1, \"69\": 1, \"44\": 1}, \"37\": {\"37\": 16}, \"44\": {\"44\": 93, \"109\": 1, \"43\": 1, \"5\": 1, \"0\": 1, \"60\": 2, \"23\": 1}, \"24\": {\"42\": 1, \"24\": 68, \"0\": 7, \"15\": 13, \"127\": 1, \"27\": 3, \"101\": 3, \"106\": 1, \"62\": 1, \"108\": 2, \"94\": 2, \"39\": 1, \"26\": 1, \"21\": 1, \"30\": 1, \"97\": 1, \"117\": 1, \"8\": 2, \"36\": 1, \"18\": 1}, \"9\": {\"9\": 30, \"111\": 2}, \"116\": {\"116\": 12, \"82\": 7, \"62\": 2, \"84\": 4, \"109\": 1, \"80\": 1, \"67\": 1}, \"64\": {\"64\": 15, \"40\": 1}, \"129\": {\"129\": 26, \"112\": 2, \"110\": 1, \"100\": 2, \"3\": 1}, \"42\": {\"47\": 2, \"42\": 12, \"97\": 1, \"69\": 1, \"110\": 1, \"30\": 2, \"46\": 1, \"5\": 1, \"127\": 1, \"3\": 1, \"77\": 1, \"123\": 1, \"66\": 1, \"58\": 1, \"11\": 1}, \"117\": {\"117\": 103, \"18\": 6, \"113\": 4, \"69\": 4, \"93\": 1, \"26\": 2}, \"88\": {\"88\": 60, \"83\": 2, \"109\": 10, \"60\": 1, \"118\": 1, \"126\": 5, \"44\": 3, \"93\": 12, \"21\": 2, \"23\": 1, \"70\": 3, \"33\": 1, \"90\": 1, \"16\": 9, \"36\": 1, \"12\": 1, \"87\": 3, \"71\": 1, \"100\": 1, \"84\": 1, \"10\": 1, \"117\": 3, \"26\": 1}, \"31\": {\"31\": 19, \"13\": 1}, \"113\": {\"113\": 63, \"117\": 6, \"102\": 1, \"121\": 1, \"23\": 1}, \"38\": {\"38\": 16}, \"83\": {\"83\": 37, \"29\": 1, \"102\": 1, \"125\": 1}, \"49\": {\"49\": 9, \"79\": 2, \"11\": 1, \"78\": 1, \"5\": 2, \"124\": 1, \"53\": 1, \"106\": 1, \"3\": 1, \"86\": 2, \"39\": 1, \"30\": 1, \"128\": 1}, \"97\": {\"101\": 2, \"97\": 14, \"0\": 3, \"108\": 1}, \"76\": {\"76\": 14, \"80\": 2}, \"29\": {\"29\": 29, \"49\": 1, \"98\": 2}, \"61\": {\"38\": 1, \"76\": 1, \"61\": 14, \"43\": 1, \"5\": 1, \"82\": 2}, \"125\": {\"125\": 145, \"102\": 1, \"79\": 2}, \"126\": {\"126\": 112, \"57\": 1, \"121\": 1, \"88\": 1, \"94\": 1, \"3\": 1, \"16\": 1, \"44\": 2}, \"55\": {\"55\": 16}, \"0\": {\"0\": 81, \"27\": 1, \"101\": 6, \"125\": 1, \"24\": 3, \"8\": 1, \"111\": 2, \"30\": 1, \"15\": 2, \"106\": 1, \"126\": 1, \"92\": 1, \"108\": 2, \"11\": 1, \"58\": 1, \"21\": 1, \"33\": 1, \"88\": 1}, \"15\": {\"15\": 100, \"24\": 3, \"94\": 2, \"40\": 1, \"0\": 1, \"106\": 1, \"101\": 7, \"30\": 2, \"111\": 2, \"58\": 1}, \"26\": {\"26\": 111, \"18\": 8, \"117\": 6, \"39\": 3, \"121\": 3, \"40\": 1, \"2\": 2, \"0\": 1, \"93\": 1, \"69\": 2}, \"63\": {\"63\": 20}, \"57\": {\"57\": 19, \"69\": 1}, \"39\": {\"39\": 53, \"27\": 1, \"13\": 1, \"18\": 5, \"102\": 4, \"109\": 8, \"26\": 14, \"69\": 14, \"16\": 2, \"90\": 1, \"93\": 1, \"70\": 1, \"62\": 1, \"99\": 1, \"72\": 1, \"84\": 1, \"88\": 2, \"2\": 1}, \"62\": {\"62\": 93, \"55\": 1, \"89\": 1, \"1\": 1, \"118\": 1, \"84\": 12, \"39\": 1, \"43\": 2, \"33\": 19, \"102\": 2, \"70\": 1, \"47\": 1, \"116\": 1, \"82\": 2, \"88\": 1, \"101\": 1}, \"82\": {\"82\": 30, \"116\": 3, \"87\": 1, \"53\": 1, \"118\": 1}, \"11\": {\"11\": 65, \"49\": 2, \"126\": 1, \"129\": 1, \"24\": 1, \"73\": 1, \"122\": 1, \"128\": 1, \"112\": 1, \"30\": 1, \"39\": 1, \"124\": 4}, \"4\": {\"4\": 85, \"107\": 2, \"53\": 1}, \"41\": {\"41\": 20}, \"72\": {\"72\": 20, \"99\": 2, \"69\": 1, \"14\": 1, \"13\": 2, \"118\": 2}, \"16\": {\"16\": 90, \"24\": 1, \"93\": 16, \"102\": 4, \"90\": 5, \"87\": 4, \"39\": 1, \"110\": 1, \"14\": 1, \"119\": 1}, \"81\": {\"81\": 18, \"65\": 2, \"54\": 2, \"20\": 2}, \"67\": {\"67\": 12, \"84\": 2, \"55\": 2}, \"123\": {\"123\": 16}, \"66\": {\"66\": 12, \"115\": 2, \"28\": 2, \"32\": 2, \"122\": 2}, \"36\": {\"36\": 101, \"1\": 1, \"9\": 1, \"0\": 1, \"96\": 1, \"43\": 1, \"101\": 3, \"6\": 2, \"94\": 2, \"39\": 1, \"27\": 3, \"24\": 6, \"121\": 1, \"117\": 2, \"18\": 1, \"69\": 1}, \"115\": {\"115\": 9, \"40\": 2, \"21\": 1}, \"77\": {\"77\": 11, \"106\": 2, \"79\": 1, \"128\": 2}, \"119\": {\"119\": 18, \"83\": 2}, \"65\": {\"120\": 2, \"65\": 17, \"126\": 1}, \"34\": {\"114\": 2, \"34\": 23, \"41\": 1, \"32\": 1, \"12\": 2, \"53\": 1, \"110\": 1, \"85\": 1}, \"107\": {\"114\": 4, \"107\": 53, \"71\": 1, \"10\": 1, \"5\": 1, \"32\": 2, \"70\": 1, \"101\": 1}, \"13\": {\"13\": 14, \"118\": 2}, \"110\": {\"106\": 1, \"110\": 18, \"85\": 3, \"5\": 4, \"0\": 1, \"2\": 1, \"3\": 3, \"73\": 2, \"129\": 1, \"37\": 1, \"120\": 1, \"107\": 2, \"40\": 2}, \"106\": {\"106\": 106, \"101\": 2, \"125\": 3, \"127\": 1, \"51\": 2, \"111\": 2, \"114\": 1, \"39\": 1}, \"89\": {\"89\": 36}, \"94\": {\"0\": 5, \"94\": 35, \"40\": 1, \"87\": 1, \"11\": 1, \"9\": 1, \"21\": 2, \"101\": 3, \"106\": 1, \"16\": 1, \"15\": 5, \"90\": 1, \"24\": 3, \"88\": 2, \"126\": 1, \"108\": 1}, \"98\": {\"98\": 95, \"79\": 1, \"102\": 1, \"127\": 5, \"96\": 1, \"113\": 1, \"26\": 1, \"84\": 1, \"21\": 1, \"90\": 1, \"71\": 2, \"124\": 2}, \"91\": {\"91\": 22, \"98\": 1, \"114\": 2, \"59\": 1, \"68\": 1, \"1\": 1}, \"84\": {\"84\": 67, \"33\": 12, \"62\": 8, \"90\": 2, \"43\": 2, \"88\": 1}, \"73\": {\"9\": 1, \"73\": 23, \"3\": 2, \"19\": 2}, \"104\": {\"37\": 5, \"52\": 1, \"104\": 12, \"46\": 1, \"126\": 1}, \"59\": {\"59\": 9, \"52\": 1, \"68\": 1, \"12\": 1, \"128\": 2, \"49\": 2}, \"74\": {\"74\": 13, \"105\": 2, \"40\": 1}, \"28\": {\"4\": 2, \"28\": 13, \"59\": 1, \"5\": 1, \"1\": 1, \"107\": 2}, \"95\": {\"104\": 3, \"108\": 1, \"95\": 28, \"105\": 1, \"40\": 1, \"5\": 2}, \"2\": {\"81\": 2, \"2\": 18, \"69\": 4, \"93\": 2, \"48\": 1, \"99\": 1, \"39\": 1, \"16\": 1, \"113\": 1, \"117\": 1}, \"5\": {\"5\": 106, \"110\": 2, \"10\": 1, \"88\": 1, \"117\": 1, \"3\": 1}, \"50\": {\"50\": 13, \"69\": 1, \"22\": 2}, \"109\": {\"88\": 8, \"2\": 1, \"109\": 52, \"6\": 1, \"70\": 3, \"16\": 7, \"93\": 6, \"39\": 4, \"118\": 3, \"113\": 1, \"87\": 4, \"69\": 1, \"26\": 1, \"71\": 1, \"96\": 2, \"18\": 1, \"44\": 1, \"102\": 2, \"84\": 1}, \"10\": {\"10\": 25, \"71\": 3, \"78\": 1, \"95\": 2, \"73\": 1, \"23\": 1, \"4\": 3, \"88\": 1, \"7\": 7, \"3\": 1, \"44\": 4, \"70\": 2, \"107\": 3, \"115\": 2, \"26\": 1, \"122\": 1, \"11\": 1, \"109\": 1}, \"45\": {\"45\": 14, \"87\": 1, \"119\": 1}, \"121\": {\"65\": 2, \"121\": 19, \"113\": 4, \"18\": 7, \"117\": 2, \"120\": 1, \"99\": 1}, \"124\": {\"124\": 105, \"122\": 2, \"127\": 1, \"98\": 1, \"3\": 1}, \"53\": {\"79\": 1, \"110\": 2, \"53\": 8, \"3\": 4, \"67\": 1}, \"79\": {\"79\": 16}, \"43\": {\"43\": 63, \"60\": 1, \"70\": 4, \"61\": 2, \"44\": 2, \"78\": 3, \"40\": 6, \"88\": 1, \"105\": 12, \"10\": 1, \"18\": 1, \"33\": 3, \"84\": 1, \"1\": 6, \"76\": 1, \"82\": 1, \"3\": 1, \"83\": 1, \"122\": 1, \"101\": 1, \"16\": 2}, \"122\": {\"110\": 1, \"122\": 63, \"49\": 2, \"118\": 1, \"19\": 3, \"88\": 2, \"71\": 7, \"70\": 2, \"12\": 2, \"21\": 1, \"11\": 2, \"98\": 6, \"10\": 1, \"107\": 1, \"43\": 2, \"114\": 7, \"4\": 2, \"39\": 1, \"5\": 9, \"124\": 12, \"108\": 1, \"100\": 2, \"47\": 2, \"29\": 2, \"93\": 1, \"3\": 1, \"1\": 1, \"18\": 1}, \"100\": {\"100\": 12, \"1\": 2, \"83\": 2}, \"19\": {\"19\": 14, \"32\": 1, \"122\": 1, \"110\": 1, \"44\": 5, \"23\": 1, \"60\": 1, \"5\": 2, \"3\": 1, \"100\": 1}, \"12\": {\"12\": 56, \"127\": 8, \"29\": 3, \"114\": 2, \"75\": 1, \"124\": 4, \"88\": 2, \"122\": 1, \"98\": 5, \"5\": 1, \"91\": 1, \"109\": 1, \"111\": 2, \"117\": 1}, \"17\": {\"17\": 9, \"34\": 2, \"4\": 2, \"24\": 1, \"125\": 2}}, \"Wisig_3\": {\"38\": {\"38\": 16}, \"88\": {\"3\": 2, \"88\": 48, \"92\": 1, \"110\": 17, \"94\": 1, \"19\": 1, \"67\": 2, \"5\": 2, \"107\": 1, \"108\": 2, \"60\": 1, \"122\": 2, \"70\": 7, \"16\": 1, \"8\": 4, \"1\": 2, \"114\": 2, \"109\": 1, \"10\": 3, \"30\": 1, \"28\": 2, \"21\": 2, \"49\": 1, \"11\": 4, \"93\": 1, \"117\": 1}, \"104\": {\"104\": 15, \"105\": 1}, \"11\": {\"11\": 100, \"14\": 6, \"90\": 10, \"93\": 7, \"16\": 6, \"107\": 4, \"26\": 1, \"126\": 1, \"49\": 1, \"122\": 1, \"87\": 2, \"18\": 1}, \"103\": {\"103\": 15, \"62\": 1}, \"124\": {\"124\": 102, \"85\": 3, \"10\": 1, \"12\": 2, \"98\": 3, \"127\": 4, \"90\": 1}, \"3\": {\"3\": 100, \"101\": 2, \"71\": 3, \"9\": 2, \"4\": 2, \"10\": 1, \"105\": 2, \"11\": 1, \"114\": 2, \"5\": 1}, \"74\": {\"74\": 9, \"87\": 2, \"25\": 1, \"40\": 2, \"57\": 2}, \"126\": {\"126\": 104, \"81\": 1, \"18\": 9, \"39\": 2, \"117\": 6}, \"123\": {\"123\": 16}, \"51\": {\"51\": 13, \"58\": 1, \"127\": 1, \"111\": 1}, \"14\": {\"14\": 73, \"39\": 1, \"87\": 2, \"45\": 1, \"113\": 1, \"107\": 2}, \"16\": {\"16\": 107, \"93\": 4, \"18\": 2, \"109\": 1, \"90\": 1, \"0\": 1}, \"22\": {\"74\": 1, \"22\": 15}, \"109\": {\"109\": 65, \"43\": 9, \"92\": 4, \"96\": 1, \"118\": 8, \"126\": 1, \"33\": 12, \"69\": 4, \"102\": 14, \"39\": 1, \"113\": 2, \"26\": 1}, \"27\": {\"27\": 73, \"94\": 2, \"24\": 8, \"36\": 8, \"30\": 2, \"15\": 2, \"113\": 1}, \"75\": {\"6\": 1, \"75\": 15}, \"66\": {\"53\": 1, \"66\": 15}, \"48\": {\"64\": 1, \"104\": 1, \"86\": 2, \"99\": 2, \"48\": 3, \"31\": 1, \"125\": 2, \"40\": 1, \"102\": 1, \"116\": 2}, \"6\": {\"54\": 3, \"6\": 12, \"125\": 3, \"34\": 2, \"37\": 1, \"111\": 3, \"94\": 2, \"15\": 1, \"52\": 1, \"97\": 1, \"98\": 1, \"127\": 1, \"12\": 1}, \"10\": {\"10\": 52, \"68\": 2, \"101\": 1, \"91\": 1, \"42\": 1, \"65\": 2, \"12\": 1, \"99\": 2, \"7\": 1, \"127\": 17, \"98\": 10, \"124\": 2, \"8\": 3, \"108\": 8, \"16\": 1, \"41\": 1, \"128\": 1, \"85\": 1, \"126\": 1, \"71\": 1, \"3\": 2, \"5\": 1}, \"99\": {\"99\": 32, \"97\": 1, \"71\": 2, \"3\": 1}, \"50\": {\"50\": 16}, \"54\": {\"54\": 16}, \"55\": {\"55\": 15, \"50\": 1}, \"53\": {\"53\": 16, \"107\": 2, \"20\": 1, \"11\": 1}, \"72\": {\"72\": 22, \"111\": 4, \"52\": 2}, \"64\": {\"64\": 20}, \"115\": {\"126\": 1, \"115\": 12, \"32\": 1, \"87\": 2}, \"23\": {\"126\": 2, \"23\": 6, \"81\": 1, \"46\": 1, \"63\": 1, \"26\": 1, \"2\": 1, \"89\": 2, \"70\": 1, \"85\": 3, \"39\": 1, \"5\": 3, \"77\": 1, \"96\": 1, \"66\": 1, \"121\": 2, \"127\": 1, \"118\": 1, \"18\": 1, \"128\": 1}, \"32\": {\"57\": 2, \"79\": 1, \"128\": 2, \"32\": 14, \"107\": 2, \"1\": 4, \"115\": 1, \"34\": 1, \"40\": 1, \"90\": 1, \"19\": 2, \"23\": 1}, \"15\": {\"15\": 97, \"94\": 3, \"109\": 1, \"18\": 1, \"39\": 1, \"106\": 1}, \"43\": {\"43\": 21, \"13\": 1, \"33\": 4, \"102\": 3, \"93\": 1, \"116\": 2, \"109\": 7, \"69\": 2, \"92\": 3, \"118\": 6, \"21\": 2, \"117\": 1, \"64\": 1, \"26\": 1, \"62\": 1}, \"114\": {\"114\": 111, \"128\": 3, \"126\": 2, \"30\": 1, \"53\": 1, \"3\": 6}, \"121\": {\"121\": 29, \"18\": 1, \"117\": 2}, \"79\": {\"79\": 12}, \"81\": {\"81\": 32}, \"8\": {\"8\": 102, \"73\": 3, \"101\": 4, \"106\": 2, \"15\": 1, \"108\": 5, \"12\": 2, \"111\": 3, \"85\": 2, \"0\": 3, \"124\": 1}, \"13\": {\"13\": 11, \"62\": 2, \"69\": 2, \"109\": 1}, \"90\": {\"90\": 147, \"14\": 2, \"11\": 1, \"29\": 3, \"87\": 1, \"62\": 2}, \"41\": {\"13\": 1, \"41\": 12, \"127\": 1, \"66\": 2}, \"107\": {\"107\": 136}, \"57\": {\"57\": 19, \"128\": 1}, \"33\": {\"33\": 105, \"69\": 4, \"90\": 2, \"43\": 1, \"118\": 1, \"62\": 2, \"102\": 5}, \"35\": {\"35\": 9, \"106\": 1, \"85\": 1, \"11\": 1}, \"29\": {\"29\": 31, \"90\": 1}, \"70\": {\"42\": 1, \"70\": 43, \"101\": 2, \"127\": 1, \"129\": 1, \"88\": 4, \"110\": 4, \"39\": 1, \"10\": 2, \"98\": 2, \"19\": 1, \"12\": 1, \"124\": 2, \"113\": 1, \"5\": 3, \"126\": 1, \"108\": 2}, \"42\": {\"43\": 1, \"42\": 12, \"97\": 2, \"106\": 1, \"101\": 2, \"15\": 3, \"19\": 1, \"58\": 2, \"117\": 1, \"49\": 1, \"0\": 1, \"111\": 1}, \"93\": {\"93\": 122, \"16\": 1, \"122\": 1, \"117\": 1, \"39\": 1}, \"86\": {\"86\": 20, \"105\": 2, \"122\": 1, \"4\": 1, \"119\": 2, \"41\": 2}, \"28\": {\"28\": 12, \"1\": 3, \"122\": 1}, \"1\": {\"1\": 93, \"55\": 2, \"122\": 4, \"105\": 4, \"18\": 1, \"3\": 2, \"101\": 1, \"39\": 1}, \"125\": {\"125\": 115, \"111\": 4, \"102\": 1, \"8\": 1, \"68\": 2, \"118\": 1}, \"69\": {\"69\": 76, \"18\": 1, \"117\": 1, \"102\": 1, \"33\": 2, \"39\": 1, \"62\": 2}, \"97\": {\"97\": 16, \"0\": 3, \"101\": 1}, \"117\": {\"117\": 110, \"121\": 1, \"113\": 1}, \"68\": {\"68\": 16}, \"30\": {\"93\": 1, \"30\": 51, \"0\": 10, \"80\": 1, \"83\": 2, \"101\": 1, \"70\": 2, \"8\": 2, \"24\": 1, \"73\": 1, \"15\": 6, \"27\": 1, \"39\": 1, \"97\": 1, \"21\": 1, \"36\": 2}, \"111\": {\"111\": 124, \"72\": 5, \"106\": 1, \"12\": 2}, \"47\": {\"47\": 11, \"112\": 1}, \"102\": {\"102\": 119, \"33\": 1, \"118\": 3, \"90\": 1}, \"65\": {\"65\": 11, \"66\": 1}, \"113\": {\"113\": 78, \"123\": 4, \"81\": 1, \"39\": 6, \"18\": 3, \"2\": 2, \"106\": 1, \"26\": 9, \"117\": 8, \"109\": 4, \"118\": 1, \"121\": 1, \"73\": 1, \"11\": 1}, \"36\": {\"36\": 91, \"94\": 5, \"27\": 14, \"6\": 1, \"126\": 1, \"24\": 2}, \"119\": {\"119\": 12, \"102\": 2, \"116\": 2}, \"46\": {\"46\": 16}, \"49\": {\"23\": 2, \"90\": 1, \"42\": 2, \"93\": 1, \"60\": 1, \"12\": 2, \"15\": 2, \"49\": 5, \"108\": 1, \"125\": 1, \"87\": 2, \"112\": 1, \"45\": 1, \"11\": 1, \"107\": 1}, \"0\": {\"0\": 94, \"42\": 2, \"73\": 4, \"101\": 6, \"30\": 2, \"113\": 1, \"97\": 1, \"8\": 3, \"15\": 3}, \"58\": {\"58\": 15, \"15\": 1}, \"63\": {\"63\": 12, \"117\": 2, \"61\": 2}, \"94\": {\"0\": 2, \"58\": 1, \"94\": 76, \"110\": 1, \"15\": 4}, \"17\": {\"3\": 1, \"17\": 10, \"109\": 1, \"95\": 1, \"56\": 1, \"118\": 1, \"86\": 1}, \"9\": {\"105\": 2, \"9\": 29, \"118\": 1}, \"87\": {\"87\": 97, \"74\": 1, \"113\": 1, \"44\": 7, \"11\": 2, \"40\": 2, \"90\": 6, \"22\": 1, \"107\": 1, \"84\": 2}, \"59\": {\"59\": 11, \"30\": 1}, \"105\": {\"105\": 116, \"4\": 3, \"103\": 1}, \"80\": {\"80\": 13, \"10\": 1, \"116\": 2}, \"120\": {\"120\": 19, \"76\": 1}, \"18\": {\"81\": 2, \"18\": 121, \"61\": 1, \"118\": 3, \"126\": 1, \"121\": 2, \"113\": 2}, \"78\": {\"78\": 4, \"80\": 1, \"20\": 1, \"90\": 2, \"21\": 1, \"28\": 1, \"68\": 1, \"79\": 1, \"101\": 1, \"57\": 2, \"96\": 1}, \"25\": {\"25\": 16}, \"19\": {\"129\": 1, \"72\": 1, \"85\": 3, \"16\": 1, \"35\": 1, \"19\": 7, \"124\": 4, \"60\": 2, \"122\": 1, \"107\": 1, \"12\": 2, \"110\": 1, \"112\": 1, \"73\": 1, \"14\": 2, \"20\": 1, \"91\": 1, \"128\": 1}, \"122\": {\"19\": 1, \"79\": 1, \"81\": 1, \"122\": 35, \"53\": 3, \"60\": 3, \"18\": 2, \"1\": 4, \"32\": 1, \"114\": 1, \"110\": 1, \"128\": 2, \"49\": 1, \"88\": 1, \"105\": 1, \"107\": 1, \"39\": 1}, \"39\": {\"39\": 72, \"117\": 8, \"81\": 2, \"123\": 2, \"26\": 3, \"118\": 1, \"126\": 1, \"113\": 10, \"109\": 5, \"93\": 1, \"63\": 1, \"18\": 1, \"1\": 1}, \"76\": {\"76\": 12, \"116\": 2, \"44\": 2}, \"89\": {\"89\": 25, \"69\": 2, \"121\": 1}, \"129\": {\"129\": 21, \"19\": 1, \"14\": 4, \"107\": 1, \"110\": 3, \"70\": 2}, \"26\": {\"26\": 91, \"81\": 1, \"117\": 2, \"80\": 1, \"70\": 1, \"108\": 1, \"118\": 2, \"113\": 1}, \"85\": {\"85\": 34, \"124\": 2}, \"71\": {\"71\": 56, \"66\": 2, \"105\": 1, \"114\": 3, \"18\": 2, \"9\": 1, \"3\": 3}, \"77\": {\"77\": 15, \"114\": 1}, \"128\": {\"85\": 4, \"103\": 1, \"128\": 12, \"32\": 2, \"111\": 1, \"10\": 1, \"59\": 1, \"55\": 3, \"46\": 1, \"91\": 1, \"40\": 2, \"124\": 2, \"1\": 1}, \"2\": {\"26\": 3, \"2\": 12, \"120\": 1, \"113\": 1, \"118\": 5, \"18\": 2, \"67\": 1, \"16\": 1, \"123\": 2}, \"56\": {\"56\": 11, \"99\": 1}, \"24\": {\"24\": 32, \"94\": 1, \"36\": 5, \"27\": 5, \"30\": 5}, \"101\": {\"26\": 1, \"72\": 1, \"101\": 24, \"59\": 2, \"2\": 1, \"42\": 2, \"106\": 4, \"8\": 3, \"73\": 4, \"18\": 1, \"58\": 2, \"0\": 2, \"97\": 2, \"111\": 1, \"7\": 1, \"124\": 1}, \"52\": {\"72\": 2, \"52\": 13, \"68\": 1}, \"84\": {\"84\": 84, \"29\": 1, \"90\": 13, \"116\": 1, \"39\": 1, \"82\": 3, \"44\": 1, \"14\": 2, \"62\": 2}, \"7\": {\"7\": 103, \"48\": 1, \"39\": 1, \"105\": 3, \"109\": 1, \"99\": 1, \"129\": 1, \"4\": 1}, \"82\": {\"82\": 26, \"90\": 1, \"84\": 1}, \"60\": {\"20\": 2, \"29\": 4, \"114\": 1, \"50\": 1, \"60\": 11, \"31\": 1, \"40\": 2, \"87\": 1, \"107\": 1, \"110\": 1, \"129\": 2, \"44\": 1}, \"45\": {\"24\": 1, \"45\": 9, \"11\": 1, \"18\": 1, \"122\": 2, \"28\": 1, \"117\": 1}, \"40\": {\"40\": 122, \"32\": 1, \"74\": 1}, \"20\": {\"20\": 16}, \"4\": {\"4\": 91, \"86\": 1, \"9\": 1, \"105\": 3}, \"116\": {\"116\": 16, \"33\": 1, \"62\": 1, \"92\": 1, \"69\": 1, \"90\": 1, \"118\": 1, \"44\": 1, \"119\": 1, \"22\": 2, \"87\": 1, \"14\": 1}, \"61\": {\"61\": 16}, \"5\": {\"5\": 100, \"3\": 4, \"127\": 4, \"18\": 1, \"114\": 2, \"39\": 1}, \"106\": {\"106\": 96, \"72\": 2, \"102\": 1, \"19\": 1}, \"12\": {\"12\": 89, \"51\": 1, \"124\": 2, \"8\": 2, \"111\": 7, \"52\": 1, \"49\": 1, \"35\": 1}, \"62\": {\"62\": 110, \"118\": 1, \"84\": 1, \"33\": 4, \"90\": 1, \"102\": 1, \"11\": 1, \"39\": 1}, \"34\": {\"1\": 4, \"72\": 1, \"115\": 1, \"41\": 1, \"60\": 2, \"107\": 3, \"34\": 8, \"100\": 1, \"14\": 3, \"125\": 1, \"122\": 1, \"64\": 1, \"23\": 2, \"11\": 1, \"12\": 1, \"111\": 1}, \"91\": {\"91\": 17, \"41\": 2, \"10\": 1, \"127\": 1, \"77\": 1, \"46\": 1, \"98\": 1}, \"112\": {\"112\": 13, \"96\": 1, \"47\": 2}, \"92\": {\"92\": 27, \"118\": 2, \"33\": 2, \"64\": 1}, \"95\": {\"95\": 32}, \"96\": {\"96\": 20}, \"127\": {\"127\": 100, \"126\": 2, \"109\": 1, \"3\": 1, \"5\": 1, \"98\": 1, \"46\": 1, \"39\": 1}, \"67\": {\"67\": 12, \"92\": 1, \"81\": 1, \"117\": 1, \"36\": 1}, \"83\": {\"83\": 24}, \"21\": {\"97\": 2, \"21\": 34, \"117\": 1, \"0\": 2, \"39\": 1, \"27\": 1, \"126\": 2, \"106\": 1, \"18\": 1, \"36\": 1, \"88\": 1, \"70\": 1}, \"98\": {\"98\": 100, \"46\": 1, \"12\": 3, \"127\": 3, \"124\": 15, \"16\": 1, \"91\": 1}, \"108\": {\"108\": 97, \"10\": 1, \"124\": 8, \"70\": 4, \"98\": 5, \"8\": 5, \"5\": 2, \"110\": 1, \"0\": 1, \"127\": 1, \"42\": 2, \"83\": 1, \"12\": 1, \"85\": 1, \"88\": 1, \"126\": 1}, \"31\": {\"31\": 16, \"84\": 1, \"29\": 1, \"82\": 2}, \"118\": {\"118\": 73, \"33\": 3, \"109\": 8, \"102\": 8, \"69\": 3, \"43\": 4, \"113\": 1}, \"110\": {\"110\": 83, \"129\": 2, \"71\": 1, \"107\": 3, \"122\": 2, \"108\": 1}, \"73\": {\"73\": 39, \"59\": 1}, \"44\": {\"44\": 65, \"43\": 1, \"82\": 1, \"40\": 1, \"117\": 1, \"84\": 2, \"26\": 1}, \"37\": {\"37\": 13, \"52\": 2, \"118\": 1}, \"100\": {\"100\": 16}}}, \"per_domain_accuracy\": {\"ORACLE.run126\": {\"accuracy\": 0.5410416666666666, \"source?\": true}, \"ORACLE.run144\": {\"accuracy\": 0.7111458333333334, \"source?\": true}, \"ORACLE.run150\": {\"accuracy\": 0.783125, \"source?\": true}, \"ORACLE.run138\": {\"accuracy\": 0.7959895833333334, \"source?\": true}, \"ORACLE.run120\": {\"accuracy\": 0.64125, \"source?\": true}, \"ORACLE.run114\": {\"accuracy\": 0.81828125, \"source?\": true}, \"ORACLE.run132\": {\"accuracy\": 0.7738020833333333, \"source?\": true}, \"ORACLE.run18\": {\"accuracy\": 0.68734375, \"source?\": true}, \"Wisig_4\": {\"accuracy\": 0.7404835390946503, \"source?\": false}, \"Wisig_1\": {\"accuracy\": 0.8044226694915254, \"source?\": false}, \"Wisig_2\": {\"accuracy\": 0.752092050209205, \"source?\": false}, \"Wisig_3\": {\"accuracy\": 0.8115447598253275, \"source?\": false}}}, \"history\": {\"epoch_indices\": [1, 2, 3, 4, 5, 6, 7, 8, 9, 10, 11, 12, 13, 14, 15, 16, 17, 18, 19, 20, 21], \"train_label_loss\": [1.0752663637768654, 0.8320279573418555, 0.754014576700117, 0.6812288752965452, 0.6059540672402918, 0.5464474894395763, 0.501071526563305, 0.46219871456191564, 0.4292809567252906, 0.3984781763621695, 0.3715602548301796, 0.34628832487051286, 0.323006439954874, 0.3018570615277609, 0.2825717799029302, 0.26404321471383724, 0.24766166612896737, 0.2329409652400188, 0.21741605879247627, 0.20641292543523984, 0.19471643148967166], \"source_val_label_loss\": [1.005861520767212, 0.853448212146759, 0.8254822492599487, 0.7846266031265259, 0.7524672150611877, 0.7430363893508911, 0.7383154034614563, 0.7578807473182678, 0.7761795520782471, 0.7881796956062317, 0.8027998805046082, 0.832677960395813, 0.8435508608818054, 0.8757002949714661, 0.8982863426208496, 0.9262236952781677, 0.9611974358558655, 0.9726986885070801, 1.0065885782241821, 1.0324983596801758, 1.0471324920654297], \"target_val_label_loss\": [5.5685224533081055, 7.081070899963379, 7.842529296875, 7.9787397384643555, 8.70716381072998, 8.921768188476562, 8.832205772399902, 9.96627426147461, 10.102069854736328, 10.570531845092773, 10.98009204864502, 11.73476505279541, 11.76422119140625, 12.37635612487793, 12.931681632995605, 13.196130752563477, 14.065030097961426, 14.382575035095215, 14.420968055725098, 15.193973541259766, 15.19737434387207], \"source_val_acc_label\": [0.6339322916666666, 0.6778255208333334, 0.6931575520833333, 0.70896484375, 0.7238736979166667, 0.7314388020833333, 0.7304361979166667, 0.7305078125, 0.7278190104166666, 0.7289518229166667, 0.7265234375, 0.7285677083333333, 0.7249088541666666, 0.7217578125, 0.72013671875, 0.71865234375, 0.7189973958333333, 0.7190755208333334, 0.7102018229166667, 0.7176041666666667, 0.7122786458333333], \"target_val_acc_label\": [0.6744324181626188, 0.6836721224920802, 0.7154501055966209, 0.7229078669482577, 0.7433012143611405, 0.754256863780359, 0.762473600844773, 0.7568637803590285, 0.7654105068637803, 0.7667964625131996, 0.7711853220696938, 0.7682814149947201, 0.7761351636747624, 0.7727362724392819, 0.7716143083421331, 0.7723402851108765, 0.7765311510031679, 0.7720432946145723, 0.7737592397043295, 0.7740892291446674, 0.7753761879619853]}, \"dataset_metrics\": {\"source\": {\"train\": {\"n_unique_x\": 896000, \"n_unique_y\": 16, \"n_batch/episode\": 33600}, \"val\": {\"n_unique_x\": 192000, \"n_unique_y\": 16, \"n_batch/episode\": 4800}, \"test\": {\"n_unique_x\": 192000, \"n_unique_y\": 16, \"n_batch/episode\": 4800}}, \"target\": {\"train\": {\"n_unique_x\": 189001, \"n_unique_y\": 130, \"n_batch/episode\": 6847}, \"val\": {\"n_unique_x\": 40070, \"n_unique_y\": 130, \"n_batch/episode\": 947}, \"test\": {\"n_unique_x\": 40812, \"n_unique_y\": 130, \"n_batch/episode\": 969}}}}'"
      ]
     },
     "execution_count": 29,
     "metadata": {},
     "output_type": "execute_result"
    }
   ],
   "source": [
    "json.dumps(experiment)"
   ]
  }
 ],
 "metadata": {
  "celltoolbar": "Tags",
  "kernelspec": {
   "display_name": "Python 3 (ipykernel)",
   "language": "python",
   "name": "python3"
  },
  "language_info": {
   "codemirror_mode": {
    "name": "ipython",
    "version": 3
   },
   "file_extension": ".py",
   "mimetype": "text/x-python",
   "name": "python",
   "nbconvert_exporter": "python",
   "pygments_lexer": "ipython3",
   "version": "3.8.12"
  },
  "papermill": {
   "default_parameters": {},
   "duration": 20322.914388,
   "end_time": "2022-03-24T09:19:20.676161",
   "environment_variables": {},
   "exception": null,
   "input_path": "/root/csc500-main/csc500-notebooks/templates/tl_ptn_template.ipynb",
   "output_path": "trial.ipynb",
   "parameters": {
    "parameters": {
     "BEST_MODEL_PATH": "./best_model.pth",
     "NUM_LOGS_PER_EPOCH": 10,
     "criteria_for_best": "target_accuracy",
     "dataset_seed": 7,
     "datasets": [
      {
       "domain_prefix": "Wisig_",
       "domains": [
        1,
        2,
        3,
        4
       ],
       "episode_transforms": [],
       "labels": [
        "1-10",
        "1-12",
        "1-14",
        "1-16",
        "1-18",
        "1-19",
        "1-8",
        "10-11",
        "10-17",
        "10-4",
        "10-7",
        "11-1",
        "11-10",
        "11-19",
        "11-20",
        "11-4",
        "11-7",
        "12-19",
        "12-20",
        "12-7",
        "13-14",
        "13-18",
        "13-19",
        "13-20",
        "13-3",
        "13-7",
        "14-10",
        "14-11",
        "14-12",
        "14-13",
        "14-14",
        "14-19",
        "14-20",
        "14-7",
        "14-8",
        "14-9",
        "15-1",
        "15-19",
        "15-6",
        "16-1",
        "16-16",
        "16-19",
        "16-20",
        "17-10",
        "17-11",
        "18-1",
        "18-10",
        "18-11",
        "18-12",
        "18-13",
        "18-14",
        "18-15",
        "18-16",
        "18-17",
        "18-19",
        "18-2",
        "18-20",
        "18-4",
        "18-5",
        "18-7",
        "18-8",
        "18-9",
        "19-1",
        "19-10",
        "19-11",
        "19-12",
        "19-13",
        "19-14",
        "19-15",
        "19-19",
        "19-2",
        "19-20",
        "19-3",
        "19-4",
        "19-6",
        "19-7",
        "19-8",
        "19-9",
        "2-1",
        "2-13",
        "2-15",
        "2-3",
        "2-4",
        "2-5",
        "2-6",
        "2-7",
        "2-8",
        "20-1",
        "20-12",
        "20-14",
        "20-15",
        "20-16",
        "20-18",
        "20-19",
        "20-20",
        "20-3",
        "20-4",
        "20-5",
        "20-7",
        "20-8",
        "3-1",
        "3-13",
        "3-18",
        "3-2",
        "3-8",
        "4-1",
        "4-10",
        "4-11",
        "5-1",
        "5-5",
        "6-1",
        "6-15",
        "6-6",
        "7-10",
        "7-11",
        "7-12",
        "7-13",
        "7-14",
        "7-7",
        "7-8",
        "7-9",
        "8-1",
        "8-13",
        "8-14",
        "8-18",
        "8-20",
        "8-3",
        "8-8",
        "9-1",
        "9-7"
       ],
       "num_examples_per_domain_per_label": -1,
       "pickle_path": "/root/csc500-main/datasets/wisig.node3-19.stratified_ds.2022A.pkl",
       "source_or_target_dataset": "target",
       "x_transforms": [
        "unit_power"
       ]
      },
      {
       "domain_prefix": "ORACLE.run1",
       "domains": [
        32,
        38,
        8,
        44,
        14,
        50,
        20,
        26
       ],
       "episode_transforms": [],
       "labels": [
        "3123D52",
        "3123D65",
        "3123D79",
        "3123D80",
        "3123D54",
        "3123D70",
        "3123D7B",
        "3123D89",
        "3123D58",
        "3123D76",
        "3123D7D",
        "3123EFE",
        "3123D64",
        "3123D78",
        "3123D7E",
        "3124E4A"
       ],
       "num_examples_per_domain_per_label": 10000,
       "pickle_path": "/root/csc500-main/datasets/oracle.Run1_10kExamples_stratified_ds.2022A.pkl",
       "source_or_target_dataset": "source",
       "x_transforms": [
        "unit_power"
       ]
      }
     ],
     "device": "cuda",
     "experiment_name": "tl_1v2:wisig-oracle.run1",
     "lr": 0.0001,
     "n_epoch": 50,
     "n_query": 2,
     "n_shot": 3,
     "n_way": 16,
     "patience": 3,
     "seed": 7,
     "test_k_factor": 2,
     "torch_default_dtype": "torch.float32",
     "train_k_factor": 3,
     "val_k_factor": 2,
     "x_net": [
      {
       "class": "nnReshape",
       "kargs": {
        "shape": [
         -1,
         1,
         2,
         256
        ]
       }
      },
      {
       "class": "Conv2d",
       "kargs": {
        "bias": false,
        "in_channels": 1,
        "kernel_size": [
         1,
         7
        ],
        "out_channels": 256,
        "padding": [
         0,
         3
        ]
       }
      },
      {
       "class": "ReLU",
       "kargs": {
        "inplace": true
       }
      },
      {
       "class": "BatchNorm2d",
       "kargs": {
        "num_features": 256
       }
      },
      {
       "class": "Conv2d",
       "kargs": {
        "bias": true,
        "in_channels": 256,
        "kernel_size": [
         2,
         7
        ],
        "out_channels": 80,
        "padding": [
         0,
         3
        ]
       }
      },
      {
       "class": "ReLU",
       "kargs": {
        "inplace": true
       }
      },
      {
       "class": "BatchNorm2d",
       "kargs": {
        "num_features": 80
       }
      },
      {
       "class": "Flatten",
       "kargs": {}
      },
      {
       "class": "Linear",
       "kargs": {
        "in_features": 20480,
        "out_features": 256
       }
      },
      {
       "class": "ReLU",
       "kargs": {
        "inplace": true
       }
      },
      {
       "class": "BatchNorm1d",
       "kargs": {
        "num_features": 256
       }
      },
      {
       "class": "Linear",
       "kargs": {
        "in_features": 256,
        "out_features": 256
       }
      }
     ]
    }
   },
   "start_time": "2022-03-24T03:40:37.761773",
   "version": "2.3.4"
  }
 },
 "nbformat": 4,
 "nbformat_minor": 5
}