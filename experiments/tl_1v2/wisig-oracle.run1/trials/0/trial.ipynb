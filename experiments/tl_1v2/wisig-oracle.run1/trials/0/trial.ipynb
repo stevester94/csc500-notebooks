{
 "cells": [
  {
   "cell_type": "markdown",
   "id": "9fea5f46",
   "metadata": {
    "papermill": {
     "duration": 0.025941,
     "end_time": "2022-03-23T03:02:28.183359",
     "exception": false,
     "start_time": "2022-03-23T03:02:28.157418",
     "status": "completed"
    },
    "tags": []
   },
   "source": [
    "# Transfer Learning Template"
   ]
  },
  {
   "cell_type": "code",
   "execution_count": 1,
   "id": "0902182a",
   "metadata": {
    "execution": {
     "iopub.execute_input": "2022-03-23T03:02:28.241549Z",
     "iopub.status.busy": "2022-03-23T03:02:28.240681Z",
     "iopub.status.idle": "2022-03-23T03:02:30.131705Z",
     "shell.execute_reply": "2022-03-23T03:02:30.130733Z"
    },
    "papermill": {
     "duration": 1.929819,
     "end_time": "2022-03-23T03:02:30.131918",
     "exception": false,
     "start_time": "2022-03-23T03:02:28.202099",
     "status": "completed"
    },
    "tags": []
   },
   "outputs": [],
   "source": [
    "%load_ext autoreload\n",
    "%autoreload 2\n",
    "%matplotlib inline\n",
    "\n",
    "    \n",
    "import os, json, sys, time, random\n",
    "import numpy as np\n",
    "import torch\n",
    "from torch.optim import Adam\n",
    "from  easydict import EasyDict\n",
    "import matplotlib.pyplot as plt\n",
    "\n",
    "from steves_models.steves_ptn import Steves_Prototypical_Network\n",
    "\n",
    "from steves_utils.lazy_iterable_wrapper import Lazy_Iterable_Wrapper\n",
    "from steves_utils.iterable_aggregator import Iterable_Aggregator\n",
    "from steves_utils.ptn_train_eval_test_jig import  PTN_Train_Eval_Test_Jig\n",
    "from steves_utils.torch_sequential_builder import build_sequential\n",
    "from steves_utils.torch_utils import get_dataset_metrics, ptn_confusion_by_domain_over_dataloader\n",
    "from steves_utils.utils_v2 import (per_domain_accuracy_from_confusion, get_datasets_base_path)\n",
    "from steves_utils.PTN.utils import independent_accuracy_assesment\n",
    "\n",
    "from torch.utils.data import DataLoader\n",
    "\n",
    "from steves_utils.stratified_dataset.episodic_accessor import Episodic_Accessor_Factory\n",
    "\n",
    "from steves_utils.ptn_do_report import (\n",
    "    get_loss_curve,\n",
    "    get_results_table,\n",
    "    get_parameters_table,\n",
    "    get_domain_accuracies,\n",
    ")\n",
    "\n",
    "from steves_utils.transforms import get_chained_transform"
   ]
  },
  {
   "cell_type": "markdown",
   "id": "41c840b4",
   "metadata": {
    "papermill": {
     "duration": 0.02402,
     "end_time": "2022-03-23T03:02:30.182868",
     "exception": false,
     "start_time": "2022-03-23T03:02:30.158848",
     "status": "completed"
    },
    "tags": []
   },
   "source": [
    "# Allowed Parameters\n",
    "These are allowed parameters, not defaults\n",
    "Each of these values need to be present in the injected parameters (the notebook will raise an exception if they are not present)\n",
    "\n",
    "Papermill uses the cell tag \"parameters\" to inject the real parameters below this cell.\n",
    "Enable tags to see what I mean"
   ]
  },
  {
   "cell_type": "code",
   "execution_count": 2,
   "id": "fd44eb83",
   "metadata": {
    "execution": {
     "iopub.execute_input": "2022-03-23T03:02:30.226454Z",
     "iopub.status.busy": "2022-03-23T03:02:30.226060Z",
     "iopub.status.idle": "2022-03-23T03:02:30.248909Z",
     "shell.execute_reply": "2022-03-23T03:02:30.248076Z"
    },
    "papermill": {
     "duration": 0.047154,
     "end_time": "2022-03-23T03:02:30.249072",
     "exception": false,
     "start_time": "2022-03-23T03:02:30.201918",
     "status": "completed"
    },
    "tags": []
   },
   "outputs": [],
   "source": [
    "required_parameters = {\n",
    "    \"experiment_name\",\n",
    "    \"lr\",\n",
    "    \"device\",\n",
    "    \"seed\",\n",
    "    \"dataset_seed\",\n",
    "    \"n_shot\",\n",
    "    \"n_query\",\n",
    "    \"n_way\",\n",
    "    \"train_k_factor\",\n",
    "    \"val_k_factor\",\n",
    "    \"test_k_factor\",\n",
    "    \"n_epoch\",\n",
    "    \"patience\",\n",
    "    \"criteria_for_best\",\n",
    "    \"x_net\",\n",
    "    \"datasets\",\n",
    "    \"torch_default_dtype\",\n",
    "    \"NUM_LOGS_PER_EPOCH\",\n",
    "    \"BEST_MODEL_PATH\",\n",
    "    \"x_shape\",\n",
    "}"
   ]
  },
  {
   "cell_type": "code",
   "execution_count": 3,
   "id": "fa3f0049",
   "metadata": {
    "execution": {
     "iopub.execute_input": "2022-03-23T03:02:30.308549Z",
     "iopub.status.busy": "2022-03-23T03:02:30.306434Z",
     "iopub.status.idle": "2022-03-23T03:02:30.327657Z",
     "shell.execute_reply": "2022-03-23T03:02:30.326822Z"
    },
    "papermill": {
     "duration": 0.053327,
     "end_time": "2022-03-23T03:02:30.327814",
     "exception": false,
     "start_time": "2022-03-23T03:02:30.274487",
     "status": "completed"
    },
    "tags": [
     "parameters"
    ]
   },
   "outputs": [],
   "source": [
    "from steves_utils.CORES.utils import (\n",
    "    ALL_NODES,\n",
    "    ALL_NODES_MINIMUM_1000_EXAMPLES,\n",
    "    ALL_DAYS\n",
    ")\n",
    "\n",
    "from steves_utils.ORACLE.utils_v2 import (\n",
    "    ALL_DISTANCES_FEET_NARROWED,\n",
    "    ALL_RUNS,\n",
    "    ALL_SERIAL_NUMBERS,\n",
    ")\n",
    "\n",
    "standalone_parameters = {}\n",
    "standalone_parameters[\"experiment_name\"] = \"STANDALONE PTN\"\n",
    "standalone_parameters[\"lr\"] = 0.001\n",
    "standalone_parameters[\"device\"] = \"cuda\"\n",
    "\n",
    "standalone_parameters[\"seed\"] = 1337\n",
    "standalone_parameters[\"dataset_seed\"] = 1337\n",
    "\n",
    "standalone_parameters[\"n_way\"] = 8\n",
    "standalone_parameters[\"n_shot\"] = 3\n",
    "standalone_parameters[\"n_query\"]  = 2\n",
    "standalone_parameters[\"train_k_factor\"] = 1\n",
    "standalone_parameters[\"val_k_factor\"] = 2\n",
    "standalone_parameters[\"test_k_factor\"] = 2\n",
    "\n",
    "\n",
    "standalone_parameters[\"n_epoch\"] = 50\n",
    "\n",
    "standalone_parameters[\"patience\"] = 10\n",
    "standalone_parameters[\"criteria_for_best\"] = \"source_loss\"\n",
    "\n",
    "standalone_parameters[\"datasets\"] = [\n",
    "    {\n",
    "        \"labels\": ALL_SERIAL_NUMBERS,\n",
    "        \"domains\": ALL_DISTANCES_FEET_NARROWED,\n",
    "        \"num_examples_per_domain_per_label\": 100,\n",
    "        \"pickle_path\": os.path.join(get_datasets_base_path(), \"oracle.Run1_framed_2000Examples_stratified_ds.2022A.pkl\"),\n",
    "        \"source_or_target_dataset\": \"source\",\n",
    "        \"x_transforms\": [\"unit_mag\", \"minus_two\"],\n",
    "        \"episode_transforms\": [],\n",
    "        \"domain_prefix\": \"ORACLE_\"\n",
    "    },\n",
    "    {\n",
    "        \"labels\": ALL_NODES,\n",
    "        \"domains\": ALL_DAYS,\n",
    "        \"num_examples_per_domain_per_label\": 100,\n",
    "        \"pickle_path\": os.path.join(get_datasets_base_path(), \"cores.stratified_ds.2022A.pkl\"),\n",
    "        \"source_or_target_dataset\": \"target\",\n",
    "        \"x_transforms\": [\"unit_power\", \"times_zero\"],\n",
    "        \"episode_transforms\": [],\n",
    "        \"domain_prefix\": \"CORES_\"\n",
    "    }   \n",
    "]\n",
    "\n",
    "standalone_parameters[\"torch_default_dtype\"] = \"torch.float32\" \n",
    "\n",
    "\n",
    "\n",
    "standalone_parameters[\"x_net\"] =     [\n",
    "    {\"class\": \"nnReshape\", \"kargs\": {\"shape\":[-1, 1, 2, 256]}},\n",
    "    {\"class\": \"Conv2d\", \"kargs\": { \"in_channels\":1, \"out_channels\":256, \"kernel_size\":(1,7), \"bias\":False, \"padding\":(0,3), },},\n",
    "    {\"class\": \"ReLU\", \"kargs\": {\"inplace\": True}},\n",
    "    {\"class\": \"BatchNorm2d\", \"kargs\": {\"num_features\":256}},\n",
    "\n",
    "    {\"class\": \"Conv2d\", \"kargs\": { \"in_channels\":256, \"out_channels\":80, \"kernel_size\":(2,7), \"bias\":True, \"padding\":(0,3), },},\n",
    "    {\"class\": \"ReLU\", \"kargs\": {\"inplace\": True}},\n",
    "    {\"class\": \"BatchNorm2d\", \"kargs\": {\"num_features\":80}},\n",
    "    {\"class\": \"Flatten\", \"kargs\": {}},\n",
    "\n",
    "    {\"class\": \"Linear\", \"kargs\": {\"in_features\": 80*256, \"out_features\": 256}}, # 80 units per IQ pair\n",
    "    {\"class\": \"ReLU\", \"kargs\": {\"inplace\": True}},\n",
    "    {\"class\": \"BatchNorm1d\", \"kargs\": {\"num_features\":256}},\n",
    "\n",
    "    {\"class\": \"Linear\", \"kargs\": {\"in_features\": 256, \"out_features\": 256}},\n",
    "]\n",
    "\n",
    "# Parameters relevant to results\n",
    "# These parameters will basically never need to change\n",
    "standalone_parameters[\"NUM_LOGS_PER_EPOCH\"] = 10\n",
    "standalone_parameters[\"BEST_MODEL_PATH\"] = \"./best_model.pth\"\n",
    "\n",
    "\n",
    "\n",
    "\n"
   ]
  },
  {
   "cell_type": "code",
   "execution_count": 4,
   "id": "708b0715",
   "metadata": {
    "execution": {
     "iopub.execute_input": "2022-03-23T03:02:30.389089Z",
     "iopub.status.busy": "2022-03-23T03:02:30.388076Z",
     "iopub.status.idle": "2022-03-23T03:02:30.409359Z",
     "shell.execute_reply": "2022-03-23T03:02:30.408639Z"
    },
    "papermill": {
     "duration": 0.056839,
     "end_time": "2022-03-23T03:02:30.409519",
     "exception": false,
     "start_time": "2022-03-23T03:02:30.352680",
     "status": "completed"
    },
    "tags": [
     "injected-parameters"
    ]
   },
   "outputs": [],
   "source": [
    "# Parameters\n",
    "parameters = {\n",
    "    \"experiment_name\": \"tl_1v2:wisig-oracle.run1\",\n",
    "    \"device\": \"cuda\",\n",
    "    \"lr\": 0.0001,\n",
    "    \"n_shot\": 3,\n",
    "    \"n_query\": 2,\n",
    "    \"train_k_factor\": 3,\n",
    "    \"val_k_factor\": 2,\n",
    "    \"test_k_factor\": 2,\n",
    "    \"torch_default_dtype\": \"torch.float32\",\n",
    "    \"n_epoch\": 50,\n",
    "    \"patience\": 3,\n",
    "    \"criteria_for_best\": \"target_accuracy\",\n",
    "    \"x_net\": [\n",
    "        {\"class\": \"nnReshape\", \"kargs\": {\"shape\": [-1, 1, 2, 256]}},\n",
    "        {\n",
    "            \"class\": \"Conv2d\",\n",
    "            \"kargs\": {\n",
    "                \"in_channels\": 1,\n",
    "                \"out_channels\": 256,\n",
    "                \"kernel_size\": [1, 7],\n",
    "                \"bias\": False,\n",
    "                \"padding\": [0, 3],\n",
    "            },\n",
    "        },\n",
    "        {\"class\": \"ReLU\", \"kargs\": {\"inplace\": True}},\n",
    "        {\"class\": \"BatchNorm2d\", \"kargs\": {\"num_features\": 256}},\n",
    "        {\n",
    "            \"class\": \"Conv2d\",\n",
    "            \"kargs\": {\n",
    "                \"in_channels\": 256,\n",
    "                \"out_channels\": 80,\n",
    "                \"kernel_size\": [2, 7],\n",
    "                \"bias\": True,\n",
    "                \"padding\": [0, 3],\n",
    "            },\n",
    "        },\n",
    "        {\"class\": \"ReLU\", \"kargs\": {\"inplace\": True}},\n",
    "        {\"class\": \"BatchNorm2d\", \"kargs\": {\"num_features\": 80}},\n",
    "        {\"class\": \"Flatten\", \"kargs\": {}},\n",
    "        {\"class\": \"Linear\", \"kargs\": {\"in_features\": 20480, \"out_features\": 256}},\n",
    "        {\"class\": \"ReLU\", \"kargs\": {\"inplace\": True}},\n",
    "        {\"class\": \"BatchNorm1d\", \"kargs\": {\"num_features\": 256}},\n",
    "        {\"class\": \"Linear\", \"kargs\": {\"in_features\": 256, \"out_features\": 256}},\n",
    "    ],\n",
    "    \"NUM_LOGS_PER_EPOCH\": 10,\n",
    "    \"BEST_MODEL_PATH\": \"./best_model.pth\",\n",
    "    \"n_way\": 16,\n",
    "    \"datasets\": [\n",
    "        {\n",
    "            \"labels\": [\n",
    "                \"1-10\",\n",
    "                \"1-12\",\n",
    "                \"1-14\",\n",
    "                \"1-16\",\n",
    "                \"1-18\",\n",
    "                \"1-19\",\n",
    "                \"1-8\",\n",
    "                \"10-11\",\n",
    "                \"10-17\",\n",
    "                \"10-4\",\n",
    "                \"10-7\",\n",
    "                \"11-1\",\n",
    "                \"11-10\",\n",
    "                \"11-19\",\n",
    "                \"11-20\",\n",
    "                \"11-4\",\n",
    "                \"11-7\",\n",
    "                \"12-19\",\n",
    "                \"12-20\",\n",
    "                \"12-7\",\n",
    "                \"13-14\",\n",
    "                \"13-18\",\n",
    "                \"13-19\",\n",
    "                \"13-20\",\n",
    "                \"13-3\",\n",
    "                \"13-7\",\n",
    "                \"14-10\",\n",
    "                \"14-11\",\n",
    "                \"14-12\",\n",
    "                \"14-13\",\n",
    "                \"14-14\",\n",
    "                \"14-19\",\n",
    "                \"14-20\",\n",
    "                \"14-7\",\n",
    "                \"14-8\",\n",
    "                \"14-9\",\n",
    "                \"15-1\",\n",
    "                \"15-19\",\n",
    "                \"15-6\",\n",
    "                \"16-1\",\n",
    "                \"16-16\",\n",
    "                \"16-19\",\n",
    "                \"16-20\",\n",
    "                \"17-10\",\n",
    "                \"17-11\",\n",
    "                \"18-1\",\n",
    "                \"18-10\",\n",
    "                \"18-11\",\n",
    "                \"18-12\",\n",
    "                \"18-13\",\n",
    "                \"18-14\",\n",
    "                \"18-15\",\n",
    "                \"18-16\",\n",
    "                \"18-17\",\n",
    "                \"18-19\",\n",
    "                \"18-2\",\n",
    "                \"18-20\",\n",
    "                \"18-4\",\n",
    "                \"18-5\",\n",
    "                \"18-7\",\n",
    "                \"18-8\",\n",
    "                \"18-9\",\n",
    "                \"19-1\",\n",
    "                \"19-10\",\n",
    "                \"19-11\",\n",
    "                \"19-12\",\n",
    "                \"19-13\",\n",
    "                \"19-14\",\n",
    "                \"19-15\",\n",
    "                \"19-19\",\n",
    "                \"19-2\",\n",
    "                \"19-20\",\n",
    "                \"19-3\",\n",
    "                \"19-4\",\n",
    "                \"19-6\",\n",
    "                \"19-7\",\n",
    "                \"19-8\",\n",
    "                \"19-9\",\n",
    "                \"2-1\",\n",
    "                \"2-13\",\n",
    "                \"2-15\",\n",
    "                \"2-3\",\n",
    "                \"2-4\",\n",
    "                \"2-5\",\n",
    "                \"2-6\",\n",
    "                \"2-7\",\n",
    "                \"2-8\",\n",
    "                \"20-1\",\n",
    "                \"20-12\",\n",
    "                \"20-14\",\n",
    "                \"20-15\",\n",
    "                \"20-16\",\n",
    "                \"20-18\",\n",
    "                \"20-19\",\n",
    "                \"20-20\",\n",
    "                \"20-3\",\n",
    "                \"20-4\",\n",
    "                \"20-5\",\n",
    "                \"20-7\",\n",
    "                \"20-8\",\n",
    "                \"3-1\",\n",
    "                \"3-13\",\n",
    "                \"3-18\",\n",
    "                \"3-2\",\n",
    "                \"3-8\",\n",
    "                \"4-1\",\n",
    "                \"4-10\",\n",
    "                \"4-11\",\n",
    "                \"5-1\",\n",
    "                \"5-5\",\n",
    "                \"6-1\",\n",
    "                \"6-15\",\n",
    "                \"6-6\",\n",
    "                \"7-10\",\n",
    "                \"7-11\",\n",
    "                \"7-12\",\n",
    "                \"7-13\",\n",
    "                \"7-14\",\n",
    "                \"7-7\",\n",
    "                \"7-8\",\n",
    "                \"7-9\",\n",
    "                \"8-1\",\n",
    "                \"8-13\",\n",
    "                \"8-14\",\n",
    "                \"8-18\",\n",
    "                \"8-20\",\n",
    "                \"8-3\",\n",
    "                \"8-8\",\n",
    "                \"9-1\",\n",
    "                \"9-7\",\n",
    "            ],\n",
    "            \"domains\": [1, 2, 3, 4],\n",
    "            \"num_examples_per_domain_per_label\": -1,\n",
    "            \"pickle_path\": \"/root/csc500-main/datasets/wisig.node3-19.stratified_ds.2022A.pkl\",\n",
    "            \"source_or_target_dataset\": \"source\",\n",
    "            \"x_transforms\": [\"unit_power\"],\n",
    "            \"episode_transforms\": [],\n",
    "            \"domain_prefix\": \"Wisig_\",\n",
    "        },\n",
    "        {\n",
    "            \"labels\": [\n",
    "                \"3123D52\",\n",
    "                \"3123D65\",\n",
    "                \"3123D79\",\n",
    "                \"3123D80\",\n",
    "                \"3123D54\",\n",
    "                \"3123D70\",\n",
    "                \"3123D7B\",\n",
    "                \"3123D89\",\n",
    "                \"3123D58\",\n",
    "                \"3123D76\",\n",
    "                \"3123D7D\",\n",
    "                \"3123EFE\",\n",
    "                \"3123D64\",\n",
    "                \"3123D78\",\n",
    "                \"3123D7E\",\n",
    "                \"3124E4A\",\n",
    "            ],\n",
    "            \"domains\": [32, 38, 8, 44, 14, 50, 20, 26],\n",
    "            \"num_examples_per_domain_per_label\": 10000,\n",
    "            \"pickle_path\": \"/root/csc500-main/datasets/oracle.Run1_10kExamples_stratified_ds.2022A.pkl\",\n",
    "            \"source_or_target_dataset\": \"target\",\n",
    "            \"x_transforms\": [\"unit_power\"],\n",
    "            \"episode_transforms\": [],\n",
    "            \"domain_prefix\": \"ORACLE.run1\",\n",
    "        },\n",
    "    ],\n",
    "    \"dataset_seed\": 1337,\n",
    "    \"seed\": 1337,\n",
    "}\n"
   ]
  },
  {
   "cell_type": "code",
   "execution_count": 5,
   "id": "8fa1cc33",
   "metadata": {
    "execution": {
     "iopub.execute_input": "2022-03-23T03:02:30.462240Z",
     "iopub.status.busy": "2022-03-23T03:02:30.461862Z",
     "iopub.status.idle": "2022-03-23T03:02:30.489449Z",
     "shell.execute_reply": "2022-03-23T03:02:30.488725Z"
    },
    "papermill": {
     "duration": 0.052475,
     "end_time": "2022-03-23T03:02:30.489607",
     "exception": false,
     "start_time": "2022-03-23T03:02:30.437132",
     "status": "completed"
    },
    "tags": []
   },
   "outputs": [],
   "source": [
    "# Set this to True if you want to run this template directly\n",
    "STANDALONE = False\n",
    "if STANDALONE:\n",
    "    print(\"parameters not injected, running with standalone_parameters\")\n",
    "    parameters = standalone_parameters\n",
    "\n",
    "if not 'parameters' in locals() and not 'parameters' in globals():\n",
    "    raise Exception(\"Parameter injection failed\")\n",
    "\n",
    "#Use an easy dict for all the parameters\n",
    "p = EasyDict(parameters)\n",
    "\n",
    "if \"x_shape\" not in p:\n",
    "    p.x_shape = [2,256] # Default to this if we dont supply x_shape\n",
    "\n",
    "\n",
    "supplied_keys = set(p.keys())\n",
    "\n",
    "if  supplied_keys != required_parameters:\n",
    "    print(\"Parameters are incorrect\")\n",
    "    if len(supplied_keys - required_parameters)>0: print(\"Shouldn't have:\", str(supplied_keys - required_parameters))\n",
    "    if len(required_parameters - supplied_keys)>0: print(\"Need to have:\", str(required_parameters - supplied_keys))\n",
    "    raise RuntimeError(\"Parameters are incorrect\")"
   ]
  },
  {
   "cell_type": "code",
   "execution_count": 6,
   "id": "3a028d58",
   "metadata": {
    "execution": {
     "iopub.execute_input": "2022-03-23T03:02:30.540608Z",
     "iopub.status.busy": "2022-03-23T03:02:30.540236Z",
     "iopub.status.idle": "2022-03-23T03:02:30.566655Z",
     "shell.execute_reply": "2022-03-23T03:02:30.565854Z"
    },
    "papermill": {
     "duration": 0.049575,
     "end_time": "2022-03-23T03:02:30.566813",
     "exception": false,
     "start_time": "2022-03-23T03:02:30.517238",
     "status": "completed"
    },
    "tags": []
   },
   "outputs": [],
   "source": [
    "###################################\n",
    "# Set the RNGs and make it all deterministic\n",
    "###################################\n",
    "np.random.seed(p.seed)\n",
    "random.seed(p.seed)\n",
    "torch.manual_seed(p.seed)\n",
    "\n",
    "torch.use_deterministic_algorithms(True) "
   ]
  },
  {
   "cell_type": "code",
   "execution_count": 7,
   "id": "b691acf6",
   "metadata": {
    "execution": {
     "iopub.execute_input": "2022-03-23T03:02:30.617781Z",
     "iopub.status.busy": "2022-03-23T03:02:30.617399Z",
     "iopub.status.idle": "2022-03-23T03:02:30.638995Z",
     "shell.execute_reply": "2022-03-23T03:02:30.638179Z"
    },
    "papermill": {
     "duration": 0.044619,
     "end_time": "2022-03-23T03:02:30.639150",
     "exception": false,
     "start_time": "2022-03-23T03:02:30.594531",
     "status": "completed"
    },
    "tags": []
   },
   "outputs": [],
   "source": [
    "###########################################\n",
    "# The stratified datasets honor this\n",
    "###########################################\n",
    "torch.set_default_dtype(eval(p.torch_default_dtype))"
   ]
  },
  {
   "cell_type": "code",
   "execution_count": 8,
   "id": "b5fba671",
   "metadata": {
    "execution": {
     "iopub.execute_input": "2022-03-23T03:02:30.689210Z",
     "iopub.status.busy": "2022-03-23T03:02:30.688838Z",
     "iopub.status.idle": "2022-03-23T03:02:30.737563Z",
     "shell.execute_reply": "2022-03-23T03:02:30.736845Z"
    },
    "papermill": {
     "duration": 0.071217,
     "end_time": "2022-03-23T03:02:30.737719",
     "exception": false,
     "start_time": "2022-03-23T03:02:30.666502",
     "status": "completed"
    },
    "tags": []
   },
   "outputs": [],
   "source": [
    "###################################\n",
    "# Build the network(s)\n",
    "# Note: It's critical to do this AFTER setting the RNG\n",
    "###################################\n",
    "x_net = build_sequential(p.x_net)"
   ]
  },
  {
   "cell_type": "code",
   "execution_count": 9,
   "id": "5d7e61cc",
   "metadata": {
    "execution": {
     "iopub.execute_input": "2022-03-23T03:02:30.787241Z",
     "iopub.status.busy": "2022-03-23T03:02:30.786031Z",
     "iopub.status.idle": "2022-03-23T03:02:30.812816Z",
     "shell.execute_reply": "2022-03-23T03:02:30.813502Z"
    },
    "papermill": {
     "duration": 0.050098,
     "end_time": "2022-03-23T03:02:30.813685",
     "exception": false,
     "start_time": "2022-03-23T03:02:30.763587",
     "status": "completed"
    },
    "tags": []
   },
   "outputs": [],
   "source": [
    "start_time_secs = time.time()"
   ]
  },
  {
   "cell_type": "code",
   "execution_count": 10,
   "id": "c6b67dfd",
   "metadata": {
    "execution": {
     "iopub.execute_input": "2022-03-23T03:02:30.863139Z",
     "iopub.status.busy": "2022-03-23T03:02:30.862766Z",
     "iopub.status.idle": "2022-03-23T03:02:30.885792Z",
     "shell.execute_reply": "2022-03-23T03:02:30.886435Z"
    },
    "papermill": {
     "duration": 0.04733,
     "end_time": "2022-03-23T03:02:30.886621",
     "exception": false,
     "start_time": "2022-03-23T03:02:30.839291",
     "status": "completed"
    },
    "tags": []
   },
   "outputs": [],
   "source": [
    "p.domains_source = []\n",
    "p.domains_target = []\n",
    "\n",
    "\n",
    "train_original_source = []\n",
    "val_original_source   = []\n",
    "test_original_source  = []\n",
    "\n",
    "train_original_target = []\n",
    "val_original_target   = []\n",
    "test_original_target  = []"
   ]
  },
  {
   "cell_type": "code",
   "execution_count": 11,
   "id": "e3d9c3d3",
   "metadata": {
    "execution": {
     "iopub.execute_input": "2022-03-23T03:02:30.933716Z",
     "iopub.status.busy": "2022-03-23T03:02:30.933346Z",
     "iopub.status.idle": "2022-03-23T03:02:30.950067Z",
     "shell.execute_reply": "2022-03-23T03:02:30.949259Z"
    },
    "papermill": {
     "duration": 0.038327,
     "end_time": "2022-03-23T03:02:30.950222",
     "exception": false,
     "start_time": "2022-03-23T03:02:30.911895",
     "status": "completed"
    },
    "tags": []
   },
   "outputs": [],
   "source": [
    "# global_x_transform_func = lambda x: normalize(x.to(torch.get_default_dtype()), \"unit_power\") # unit_power, unit_mag\n",
    "# global_x_transform_func = lambda x: normalize(x, \"unit_power\") # unit_power, unit_mag"
   ]
  },
  {
   "cell_type": "code",
   "execution_count": 12,
   "id": "acb78fd2",
   "metadata": {
    "execution": {
     "iopub.execute_input": "2022-03-23T03:02:31.007403Z",
     "iopub.status.busy": "2022-03-23T03:02:31.006742Z",
     "iopub.status.idle": "2022-03-23T03:02:31.028253Z",
     "shell.execute_reply": "2022-03-23T03:02:31.028920Z"
    },
    "papermill": {
     "duration": 0.053396,
     "end_time": "2022-03-23T03:02:31.029103",
     "exception": false,
     "start_time": "2022-03-23T03:02:30.975707",
     "status": "completed"
    },
    "tags": []
   },
   "outputs": [],
   "source": [
    "def add_dataset(\n",
    "    labels,\n",
    "    domains,\n",
    "    pickle_path,\n",
    "    x_transforms,\n",
    "    episode_transforms,\n",
    "    domain_prefix,\n",
    "    num_examples_per_domain_per_label,\n",
    "    source_or_target_dataset:str,\n",
    "    iterator_seed=p.seed,\n",
    "    dataset_seed=p.dataset_seed,\n",
    "    n_shot=p.n_shot,\n",
    "    n_way=p.n_way,\n",
    "    n_query=p.n_query,\n",
    "    train_val_test_k_factors=(p.train_k_factor,p.val_k_factor,p.test_k_factor),\n",
    "):\n",
    "   \n",
    "    if x_transforms == []: x_transform = None\n",
    "    else: x_transform = get_chained_transform(x_transforms)\n",
    "    \n",
    "    if episode_transforms == []: episode_transform = None\n",
    "    else: raise Exception(\"episode_transforms not implemented\")\n",
    "    \n",
    "    episode_transform = lambda tup, _prefix=domain_prefix: (_prefix + str(tup[0]), tup[1])\n",
    "\n",
    "\n",
    "    eaf = Episodic_Accessor_Factory(\n",
    "        labels=labels,\n",
    "        domains=domains,\n",
    "        num_examples_per_domain_per_label=num_examples_per_domain_per_label,\n",
    "        iterator_seed=iterator_seed,\n",
    "        dataset_seed=dataset_seed,\n",
    "        n_shot=n_shot,\n",
    "        n_way=n_way,\n",
    "        n_query=n_query,\n",
    "        train_val_test_k_factors=train_val_test_k_factors,\n",
    "        pickle_path=pickle_path,\n",
    "        x_transform_func=x_transform,\n",
    "    )\n",
    "\n",
    "    train, val, test = eaf.get_train(), eaf.get_val(), eaf.get_test()\n",
    "    train = Lazy_Iterable_Wrapper(train, episode_transform)\n",
    "    val = Lazy_Iterable_Wrapper(val, episode_transform)\n",
    "    test = Lazy_Iterable_Wrapper(test, episode_transform)\n",
    "\n",
    "    if source_or_target_dataset==\"source\":\n",
    "        train_original_source.append(train)\n",
    "        val_original_source.append(val)\n",
    "        test_original_source.append(test)\n",
    "\n",
    "        p.domains_source.extend(\n",
    "            [domain_prefix + str(u) for u in domains]\n",
    "        )\n",
    "    elif source_or_target_dataset==\"target\":\n",
    "        train_original_target.append(train)\n",
    "        val_original_target.append(val)\n",
    "        test_original_target.append(test)\n",
    "        p.domains_target.extend(\n",
    "            [domain_prefix + str(u) for u in domains]\n",
    "        )\n",
    "    else:\n",
    "        raise Exception(f\"invalid source_or_target_dataset: {source_or_target_dataset}\")\n",
    "    "
   ]
  },
  {
   "cell_type": "code",
   "execution_count": 13,
   "id": "fe266617",
   "metadata": {
    "execution": {
     "iopub.execute_input": "2022-03-23T03:02:31.080871Z",
     "iopub.status.busy": "2022-03-23T03:02:31.080439Z",
     "iopub.status.idle": "2022-03-23T03:05:21.197074Z",
     "shell.execute_reply": "2022-03-23T03:05:21.197763Z"
    },
    "papermill": {
     "duration": 170.140438,
     "end_time": "2022-03-23T03:05:21.197986",
     "exception": false,
     "start_time": "2022-03-23T03:02:31.057548",
     "status": "completed"
    },
    "tags": []
   },
   "outputs": [],
   "source": [
    "for ds in p.datasets:\n",
    "    add_dataset(**ds)"
   ]
  },
  {
   "cell_type": "code",
   "execution_count": 14,
   "id": "b90d65ac",
   "metadata": {
    "execution": {
     "iopub.execute_input": "2022-03-23T03:05:21.250991Z",
     "iopub.status.busy": "2022-03-23T03:05:21.250608Z",
     "iopub.status.idle": "2022-03-23T03:05:21.285766Z",
     "shell.execute_reply": "2022-03-23T03:05:21.284972Z"
    },
    "papermill": {
     "duration": 0.059184,
     "end_time": "2022-03-23T03:05:21.285920",
     "exception": false,
     "start_time": "2022-03-23T03:05:21.226736",
     "status": "completed"
    },
    "tags": []
   },
   "outputs": [],
   "source": [
    "# from steves_utils.CORES.utils import (\n",
    "#     ALL_NODES,\n",
    "#     ALL_NODES_MINIMUM_1000_EXAMPLES,\n",
    "#     ALL_DAYS\n",
    "# )\n",
    "\n",
    "# add_dataset(\n",
    "#     labels=ALL_NODES,\n",
    "#     domains = ALL_DAYS,\n",
    "#     num_examples_per_domain_per_label=100,\n",
    "#     pickle_path=os.path.join(get_datasets_base_path(), \"cores.stratified_ds.2022A.pkl\"),\n",
    "#     source_or_target_dataset=\"target\",\n",
    "#     x_transform_func=global_x_transform_func,\n",
    "#     domain_modifier=lambda u: f\"cores_{u}\"\n",
    "# )"
   ]
  },
  {
   "cell_type": "code",
   "execution_count": 15,
   "id": "76db484d",
   "metadata": {
    "execution": {
     "iopub.execute_input": "2022-03-23T03:05:21.334429Z",
     "iopub.status.busy": "2022-03-23T03:05:21.334053Z",
     "iopub.status.idle": "2022-03-23T03:05:21.352347Z",
     "shell.execute_reply": "2022-03-23T03:05:21.351641Z"
    },
    "papermill": {
     "duration": 0.040989,
     "end_time": "2022-03-23T03:05:21.352503",
     "exception": false,
     "start_time": "2022-03-23T03:05:21.311514",
     "status": "completed"
    },
    "tags": []
   },
   "outputs": [],
   "source": [
    "# from steves_utils.ORACLE.utils_v2 import (\n",
    "#     ALL_DISTANCES_FEET,\n",
    "#     ALL_RUNS,\n",
    "#     ALL_SERIAL_NUMBERS,\n",
    "# )\n",
    "\n",
    "\n",
    "# add_dataset(\n",
    "#     labels=ALL_SERIAL_NUMBERS,\n",
    "#     domains = list(set(ALL_DISTANCES_FEET) - {2,62}),\n",
    "#     num_examples_per_domain_per_label=100,\n",
    "#     pickle_path=os.path.join(get_datasets_base_path(), \"oracle.Run2_framed_2000Examples_stratified_ds.2022A.pkl\"),\n",
    "#     source_or_target_dataset=\"source\",\n",
    "#     x_transform_func=global_x_transform_func,\n",
    "#     domain_modifier=lambda u: f\"oracle1_{u}\"\n",
    "# )\n"
   ]
  },
  {
   "cell_type": "code",
   "execution_count": 16,
   "id": "97dea9d2",
   "metadata": {
    "execution": {
     "iopub.execute_input": "2022-03-23T03:05:21.404616Z",
     "iopub.status.busy": "2022-03-23T03:05:21.404243Z",
     "iopub.status.idle": "2022-03-23T03:05:21.425670Z",
     "shell.execute_reply": "2022-03-23T03:05:21.424866Z"
    },
    "papermill": {
     "duration": 0.044438,
     "end_time": "2022-03-23T03:05:21.425822",
     "exception": false,
     "start_time": "2022-03-23T03:05:21.381384",
     "status": "completed"
    },
    "tags": []
   },
   "outputs": [],
   "source": [
    "# from steves_utils.ORACLE.utils_v2 import (\n",
    "#     ALL_DISTANCES_FEET,\n",
    "#     ALL_RUNS,\n",
    "#     ALL_SERIAL_NUMBERS,\n",
    "# )\n",
    "\n",
    "\n",
    "# add_dataset(\n",
    "#     labels=ALL_SERIAL_NUMBERS,\n",
    "#     domains = list(set(ALL_DISTANCES_FEET) - {2,62,56}),\n",
    "#     num_examples_per_domain_per_label=100,\n",
    "#     pickle_path=os.path.join(get_datasets_base_path(), \"oracle.Run2_framed_2000Examples_stratified_ds.2022A.pkl\"),\n",
    "#     source_or_target_dataset=\"source\",\n",
    "#     x_transform_func=global_x_transform_func,\n",
    "#     domain_modifier=lambda u: f\"oracle2_{u}\"\n",
    "# )"
   ]
  },
  {
   "cell_type": "code",
   "execution_count": 17,
   "id": "6f289866",
   "metadata": {
    "execution": {
     "iopub.execute_input": "2022-03-23T03:05:21.472735Z",
     "iopub.status.busy": "2022-03-23T03:05:21.472367Z",
     "iopub.status.idle": "2022-03-23T03:05:21.489037Z",
     "shell.execute_reply": "2022-03-23T03:05:21.488329Z"
    },
    "papermill": {
     "duration": 0.038158,
     "end_time": "2022-03-23T03:05:21.489191",
     "exception": false,
     "start_time": "2022-03-23T03:05:21.451033",
     "status": "completed"
    },
    "tags": []
   },
   "outputs": [],
   "source": [
    "# add_dataset(\n",
    "#     labels=list(range(19)),\n",
    "#     domains = [0,1,2],\n",
    "#     num_examples_per_domain_per_label=100,\n",
    "#     pickle_path=os.path.join(get_datasets_base_path(), \"metehan.stratified_ds.2022A.pkl\"),\n",
    "#     source_or_target_dataset=\"target\",\n",
    "#     x_transform_func=global_x_transform_func,\n",
    "#     domain_modifier=lambda u: f\"met_{u}\"\n",
    "# )"
   ]
  },
  {
   "cell_type": "code",
   "execution_count": 18,
   "id": "86a863c3",
   "metadata": {
    "execution": {
     "iopub.execute_input": "2022-03-23T03:05:21.540921Z",
     "iopub.status.busy": "2022-03-23T03:05:21.540343Z",
     "iopub.status.idle": "2022-03-23T03:05:21.560061Z",
     "shell.execute_reply": "2022-03-23T03:05:21.559323Z"
    },
    "papermill": {
     "duration": 0.042617,
     "end_time": "2022-03-23T03:05:21.560213",
     "exception": false,
     "start_time": "2022-03-23T03:05:21.517596",
     "status": "completed"
    },
    "tags": []
   },
   "outputs": [],
   "source": [
    "# # from steves_utils.wisig.utils import (\n",
    "# #     ALL_NODES_MINIMUM_100_EXAMPLES,\n",
    "# #     ALL_NODES_MINIMUM_500_EXAMPLES,\n",
    "# #     ALL_NODES_MINIMUM_1000_EXAMPLES,\n",
    "# #     ALL_DAYS\n",
    "# # )\n",
    "\n",
    "# import steves_utils.wisig.utils as wisig\n",
    "\n",
    "\n",
    "# add_dataset(\n",
    "#     labels=wisig.ALL_NODES_MINIMUM_100_EXAMPLES,\n",
    "#     domains = wisig.ALL_DAYS,\n",
    "#     num_examples_per_domain_per_label=100,\n",
    "#     pickle_path=os.path.join(get_datasets_base_path(), \"wisig.node3-19.stratified_ds.2022A.pkl\"),\n",
    "#     source_or_target_dataset=\"target\",\n",
    "#     x_transform_func=global_x_transform_func,\n",
    "#     domain_modifier=lambda u: f\"wisig_{u}\"\n",
    "# )"
   ]
  },
  {
   "cell_type": "code",
   "execution_count": 19,
   "id": "fd5442bc",
   "metadata": {
    "execution": {
     "iopub.execute_input": "2022-03-23T03:05:21.612213Z",
     "iopub.status.busy": "2022-03-23T03:05:21.611825Z",
     "iopub.status.idle": "2022-03-23T03:05:21.630005Z",
     "shell.execute_reply": "2022-03-23T03:05:21.629301Z"
    },
    "papermill": {
     "duration": 0.042927,
     "end_time": "2022-03-23T03:05:21.630153",
     "exception": false,
     "start_time": "2022-03-23T03:05:21.587226",
     "status": "completed"
    },
    "tags": []
   },
   "outputs": [],
   "source": [
    "###################################\n",
    "# Build the dataset\n",
    "###################################\n",
    "train_original_source = Iterable_Aggregator(train_original_source, p.seed)\n",
    "val_original_source = Iterable_Aggregator(val_original_source, p.seed)\n",
    "test_original_source = Iterable_Aggregator(test_original_source, p.seed)\n",
    "\n",
    "\n",
    "train_original_target = Iterable_Aggregator(train_original_target, p.seed)\n",
    "val_original_target = Iterable_Aggregator(val_original_target, p.seed)\n",
    "test_original_target = Iterable_Aggregator(test_original_target, p.seed)\n",
    "\n",
    "# For CNN We only use X and Y. And we only train on the source.\n",
    "# Properly form the data using a transform lambda and Lazy_Iterable_Wrapper. Finally wrap them in a dataloader\n",
    "\n",
    "transform_lambda = lambda ex: ex[1] # Original is (<domain>, <episode>) so we strip down to episode only\n",
    "\n",
    "train_processed_source = Lazy_Iterable_Wrapper(train_original_source, transform_lambda)\n",
    "val_processed_source   = Lazy_Iterable_Wrapper(val_original_source, transform_lambda)\n",
    "test_processed_source  = Lazy_Iterable_Wrapper(test_original_source, transform_lambda)\n",
    "\n",
    "train_processed_target = Lazy_Iterable_Wrapper(train_original_target, transform_lambda)\n",
    "val_processed_target   = Lazy_Iterable_Wrapper(val_original_target, transform_lambda)\n",
    "test_processed_target  = Lazy_Iterable_Wrapper(test_original_target, transform_lambda)\n",
    "\n",
    "datasets = EasyDict({\n",
    "    \"source\": {\n",
    "        \"original\": {\"train\":train_original_source, \"val\":val_original_source, \"test\":test_original_source},\n",
    "        \"processed\": {\"train\":train_processed_source, \"val\":val_processed_source, \"test\":test_processed_source}\n",
    "    },\n",
    "    \"target\": {\n",
    "        \"original\": {\"train\":train_original_target, \"val\":val_original_target, \"test\":test_original_target},\n",
    "        \"processed\": {\"train\":train_processed_target, \"val\":val_processed_target, \"test\":test_processed_target}\n",
    "    },\n",
    "})"
   ]
  },
  {
   "cell_type": "code",
   "execution_count": 20,
   "id": "5b3c01fc",
   "metadata": {
    "execution": {
     "iopub.execute_input": "2022-03-23T03:05:21.680085Z",
     "iopub.status.busy": "2022-03-23T03:05:21.679709Z",
     "iopub.status.idle": "2022-03-23T03:05:56.522118Z",
     "shell.execute_reply": "2022-03-23T03:05:56.522934Z"
    },
    "papermill": {
     "duration": 34.866758,
     "end_time": "2022-03-23T03:05:56.523151",
     "exception": false,
     "start_time": "2022-03-23T03:05:21.656393",
     "status": "completed"
    },
    "tags": []
   },
   "outputs": [
    {
     "name": "stdout",
     "output_type": "stream",
     "text": [
      "{'Wisig_4', 'Wisig_2', 'Wisig_1', 'Wisig_3'}\n"
     ]
    },
    {
     "name": "stdout",
     "output_type": "stream",
     "text": [
      "{'ORACLE.run132', 'ORACLE.run138', 'ORACLE.run150', 'ORACLE.run126', 'ORACLE.run120', 'ORACLE.run18', 'ORACLE.run144', 'ORACLE.run114'}\n"
     ]
    },
    {
     "name": "stdout",
     "output_type": "stream",
     "text": [
      "tensor([[[-0.0481,  1.2260,  0.0481,  ...,  0.3650,  0.7321, -0.1770],\n",
      "         [-0.9288,  0.1224,  1.4795,  ..., -0.4458,  0.2032,  1.2282]],\n",
      "\n",
      "        [[ 0.4847,  0.7729, -1.0633,  ...,  0.4389,  0.2009, -0.8515],\n",
      "         [-0.5808,  0.4891,  0.9498,  ...,  0.3188,  0.4847,  0.4913]],\n",
      "\n",
      "        [[ 0.3667,  1.3447,  0.4300,  ...,  0.5719,  1.1308, -0.0327],\n",
      "         [-0.9343,  0.4038,  1.2268,  ..., -0.6112,  0.6876,  1.3818]],\n",
      "\n",
      "        ...,\n",
      "\n",
      "        [[-0.7382, -0.7514,  0.1171,  ..., -1.3183, -0.7209, -0.4505],\n",
      "         [ 0.7576, -0.0312, -1.1055,  ..., -0.3535, -0.6287,  0.0062]],\n",
      "\n",
      "        [[-0.0416, -0.0433, -0.0552,  ...,  0.6353, -0.1170, -1.2493],\n",
      "         [-0.0683, -0.0760, -0.0059,  ..., -0.1918,  0.8444,  0.0938]],\n",
      "\n",
      "        [[-0.1019, -0.3426,  0.0021,  ..., -0.5681,  0.3029,  0.5639],\n",
      "         [-0.1738, -0.1800, -0.7816,  ..., -0.7446, -1.0251, -0.2882]]])\n"
     ]
    }
   ],
   "source": [
    "from steves_utils.transforms import get_average_magnitude, get_average_power\n",
    "\n",
    "print(set([u for u,_ in val_original_source]))\n",
    "print(set([u for u,_ in val_original_target]))\n",
    "\n",
    "s_x, s_y, q_x, q_y, _ = next(iter(train_processed_source))\n",
    "print(s_x)\n",
    "\n",
    "# for ds in [\n",
    "#     train_processed_source,\n",
    "#     val_processed_source,\n",
    "#     test_processed_source,\n",
    "#     train_processed_target,\n",
    "#     val_processed_target,\n",
    "#     test_processed_target\n",
    "# ]:\n",
    "#     for s_x, s_y, q_x, q_y, _ in ds:\n",
    "#         for X in (s_x, q_x):\n",
    "#             for x in X:\n",
    "#                 assert np.isclose(get_average_magnitude(x.numpy()), 1.0)\n",
    "#                 assert np.isclose(get_average_power(x.numpy()), 1.0)\n",
    "                "
   ]
  },
  {
   "cell_type": "code",
   "execution_count": 21,
   "id": "bbdacba1",
   "metadata": {
    "execution": {
     "iopub.execute_input": "2022-03-23T03:05:56.577074Z",
     "iopub.status.busy": "2022-03-23T03:05:56.576399Z",
     "iopub.status.idle": "2022-03-23T03:05:56.769101Z",
     "shell.execute_reply": "2022-03-23T03:05:56.768353Z"
    },
    "papermill": {
     "duration": 0.220807,
     "end_time": "2022-03-23T03:05:56.769275",
     "exception": false,
     "start_time": "2022-03-23T03:05:56.548468",
     "status": "completed"
    },
    "tags": []
   },
   "outputs": [
    {
     "name": "stdout",
     "output_type": "stream",
     "text": [
      "(2, 256)\n"
     ]
    }
   ],
   "source": [
    "###################################\n",
    "# Build the model\n",
    "###################################\n",
    "# easfsl only wants a tuple for the shape\n",
    "model = Steves_Prototypical_Network(x_net, device=p.device, x_shape=tuple(p.x_shape))\n",
    "optimizer = Adam(params=model.parameters(), lr=p.lr)"
   ]
  },
  {
   "cell_type": "code",
   "execution_count": 22,
   "id": "22b39ac5",
   "metadata": {
    "execution": {
     "iopub.execute_input": "2022-03-23T03:05:56.825280Z",
     "iopub.status.busy": "2022-03-23T03:05:56.824637Z",
     "iopub.status.idle": "2022-03-23T03:32:22.575711Z",
     "shell.execute_reply": "2022-03-23T03:32:22.575348Z"
    },
    "papermill": {
     "duration": 1585.77959,
     "end_time": "2022-03-23T03:32:22.575795",
     "exception": false,
     "start_time": "2022-03-23T03:05:56.796205",
     "status": "completed"
    },
    "tags": []
   },
   "outputs": [
    {
     "name": "stdout",
     "output_type": "stream",
     "text": [
      "epoch: 1, [batch: 1 / 6866], examples_per_second: 29.7532, train_label_loss: 2.6021, \n"
     ]
    },
    {
     "name": "stdout",
     "output_type": "stream",
     "text": [
      "epoch: 1, [batch: 687 / 6866], examples_per_second: 3737.3810, train_label_loss: 0.6548, \n"
     ]
    },
    {
     "name": "stdout",
     "output_type": "stream",
     "text": [
      "epoch: 1, [batch: 1374 / 6866], examples_per_second: 2982.4667, train_label_loss: 0.2896, \n"
     ]
    },
    {
     "name": "stdout",
     "output_type": "stream",
     "text": [
      "epoch: 1, [batch: 2060 / 6866], examples_per_second: 2950.4013, train_label_loss: 0.0433, \n"
     ]
    },
    {
     "name": "stdout",
     "output_type": "stream",
     "text": [
      "epoch: 1, [batch: 2747 / 6866], examples_per_second: 2918.9958, train_label_loss: 0.1530, \n"
     ]
    },
    {
     "name": "stdout",
     "output_type": "stream",
     "text": [
      "epoch: 1, [batch: 3433 / 6866], examples_per_second: 2991.2410, train_label_loss: 0.0492, \n"
     ]
    },
    {
     "name": "stdout",
     "output_type": "stream",
     "text": [
      "epoch: 1, [batch: 4120 / 6866], examples_per_second: 2979.1177, train_label_loss: 0.0132, \n"
     ]
    },
    {
     "name": "stdout",
     "output_type": "stream",
     "text": [
      "epoch: 1, [batch: 4806 / 6866], examples_per_second: 2941.3227, train_label_loss: 0.0453, \n"
     ]
    },
    {
     "name": "stdout",
     "output_type": "stream",
     "text": [
      "epoch: 1, [batch: 5493 / 6866], examples_per_second: 2988.8297, train_label_loss: 0.0146, \n"
     ]
    },
    {
     "name": "stdout",
     "output_type": "stream",
     "text": [
      "epoch: 1, [batch: 6179 / 6866], examples_per_second: 2958.1807, train_label_loss: 0.0069, \n"
     ]
    },
    {
     "name": "stdout",
     "output_type": "stream",
     "text": [
      "=============================================================\n",
      "epoch: 1, source_val_acc_label: 0.9616, target_val_acc_label: 0.1171, source_val_label_loss: 0.1765, target_val_label_loss: 2.6986, \n",
      "=============================================================\n"
     ]
    },
    {
     "name": "stdout",
     "output_type": "stream",
     "text": [
      "New best\n"
     ]
    },
    {
     "name": "stdout",
     "output_type": "stream",
     "text": [
      "epoch: 2, [batch: 1 / 6837], examples_per_second: 1.3527, train_label_loss: 0.0733, \n"
     ]
    },
    {
     "name": "stdout",
     "output_type": "stream",
     "text": [
      "epoch: 2, [batch: 684 / 6837], examples_per_second: 2927.6800, train_label_loss: 0.1516, \n"
     ]
    },
    {
     "name": "stdout",
     "output_type": "stream",
     "text": [
      "epoch: 2, [batch: 1368 / 6837], examples_per_second: 2964.8568, train_label_loss: 0.1685, \n"
     ]
    },
    {
     "name": "stdout",
     "output_type": "stream",
     "text": [
      "epoch: 2, [batch: 2051 / 6837], examples_per_second: 2934.3604, train_label_loss: 0.1183, \n"
     ]
    },
    {
     "name": "stdout",
     "output_type": "stream",
     "text": [
      "epoch: 2, [batch: 2735 / 6837], examples_per_second: 2944.4003, train_label_loss: 0.1962, \n"
     ]
    },
    {
     "name": "stdout",
     "output_type": "stream",
     "text": [
      "epoch: 2, [batch: 3419 / 6837], examples_per_second: 2943.0663, train_label_loss: 0.0330, \n"
     ]
    },
    {
     "name": "stdout",
     "output_type": "stream",
     "text": [
      "epoch: 2, [batch: 4102 / 6837], examples_per_second: 2961.2085, train_label_loss: 0.0024, \n"
     ]
    },
    {
     "name": "stdout",
     "output_type": "stream",
     "text": [
      "epoch: 2, [batch: 4786 / 6837], examples_per_second: 3122.4632, train_label_loss: 0.1185, \n"
     ]
    },
    {
     "name": "stdout",
     "output_type": "stream",
     "text": [
      "epoch: 2, [batch: 5469 / 6837], examples_per_second: 3573.1800, train_label_loss: 0.5194, \n"
     ]
    },
    {
     "name": "stdout",
     "output_type": "stream",
     "text": [
      "epoch: 2, [batch: 6153 / 6837], examples_per_second: 3671.7829, train_label_loss: 0.1181, \n"
     ]
    },
    {
     "name": "stdout",
     "output_type": "stream",
     "text": [
      "=============================================================\n",
      "epoch: 2, source_val_acc_label: 0.9683, target_val_acc_label: 0.1186, source_val_label_loss: 0.1378, target_val_label_loss: 2.6713, \n",
      "=============================================================\n"
     ]
    },
    {
     "name": "stdout",
     "output_type": "stream",
     "text": [
      "New best\n"
     ]
    },
    {
     "name": "stdout",
     "output_type": "stream",
     "text": [
      "epoch: 3, [batch: 1 / 6844], examples_per_second: 1.6117, train_label_loss: 0.3218, \n"
     ]
    },
    {
     "name": "stdout",
     "output_type": "stream",
     "text": [
      "epoch: 3, [batch: 685 / 6844], examples_per_second: 2960.5198, train_label_loss: 0.0085, \n"
     ]
    },
    {
     "name": "stdout",
     "output_type": "stream",
     "text": [
      "epoch: 3, [batch: 1369 / 6844], examples_per_second: 2977.8922, train_label_loss: 0.0580, \n"
     ]
    },
    {
     "name": "stdout",
     "output_type": "stream",
     "text": [
      "epoch: 3, [batch: 2053 / 6844], examples_per_second: 3007.5323, train_label_loss: 0.1594, \n"
     ]
    },
    {
     "name": "stdout",
     "output_type": "stream",
     "text": [
      "epoch: 3, [batch: 2738 / 6844], examples_per_second: 3281.1919, train_label_loss: 0.0068, \n"
     ]
    },
    {
     "name": "stdout",
     "output_type": "stream",
     "text": [
      "epoch: 3, [batch: 3422 / 6844], examples_per_second: 3399.2488, train_label_loss: 0.1327, \n"
     ]
    },
    {
     "name": "stdout",
     "output_type": "stream",
     "text": [
      "epoch: 3, [batch: 4106 / 6844], examples_per_second: 3432.7453, train_label_loss: 0.0612, \n"
     ]
    },
    {
     "name": "stdout",
     "output_type": "stream",
     "text": [
      "epoch: 3, [batch: 4791 / 6844], examples_per_second: 2938.9798, train_label_loss: 0.2510, \n"
     ]
    },
    {
     "name": "stdout",
     "output_type": "stream",
     "text": [
      "epoch: 3, [batch: 5475 / 6844], examples_per_second: 2972.9222, train_label_loss: 0.0016, \n"
     ]
    },
    {
     "name": "stdout",
     "output_type": "stream",
     "text": [
      "epoch: 3, [batch: 6159 / 6844], examples_per_second: 2996.7811, train_label_loss: 0.1702, \n"
     ]
    },
    {
     "name": "stdout",
     "output_type": "stream",
     "text": [
      "=============================================================\n",
      "epoch: 3, source_val_acc_label: 0.9726, target_val_acc_label: 0.1077, source_val_label_loss: 0.1211, target_val_label_loss: 2.7196, \n",
      "=============================================================\n"
     ]
    },
    {
     "name": "stdout",
     "output_type": "stream",
     "text": [
      "epoch: 4, [batch: 1 / 6836], examples_per_second: 1.2670, train_label_loss: 0.0849, \n"
     ]
    },
    {
     "name": "stdout",
     "output_type": "stream",
     "text": [
      "epoch: 4, [batch: 684 / 6836], examples_per_second: 3447.2215, train_label_loss: 0.1570, \n"
     ]
    },
    {
     "name": "stdout",
     "output_type": "stream",
     "text": [
      "epoch: 4, [batch: 1368 / 6836], examples_per_second: 3034.5344, train_label_loss: 0.0471, \n"
     ]
    },
    {
     "name": "stdout",
     "output_type": "stream",
     "text": [
      "epoch: 4, [batch: 2051 / 6836], examples_per_second: 3035.0276, train_label_loss: 0.1855, \n"
     ]
    },
    {
     "name": "stdout",
     "output_type": "stream",
     "text": [
      "epoch: 4, [batch: 2735 / 6836], examples_per_second: 3040.6546, train_label_loss: 0.0540, \n"
     ]
    },
    {
     "name": "stdout",
     "output_type": "stream",
     "text": [
      "epoch: 4, [batch: 3418 / 6836], examples_per_second: 2997.4717, train_label_loss: 0.3687, \n"
     ]
    },
    {
     "name": "stdout",
     "output_type": "stream",
     "text": [
      "epoch: 4, [batch: 4102 / 6836], examples_per_second: 2982.0886, train_label_loss: 0.0027, \n"
     ]
    },
    {
     "name": "stdout",
     "output_type": "stream",
     "text": [
      "epoch: 4, [batch: 4785 / 6836], examples_per_second: 3020.3566, train_label_loss: 0.2029, \n"
     ]
    },
    {
     "name": "stdout",
     "output_type": "stream",
     "text": [
      "epoch: 4, [batch: 5469 / 6836], examples_per_second: 3071.5193, train_label_loss: 0.2280, \n"
     ]
    },
    {
     "name": "stdout",
     "output_type": "stream",
     "text": [
      "epoch: 4, [batch: 6152 / 6836], examples_per_second: 2977.8267, train_label_loss: 0.0840, \n"
     ]
    },
    {
     "name": "stdout",
     "output_type": "stream",
     "text": [
      "=============================================================\n",
      "epoch: 4, source_val_acc_label: 0.9731, target_val_acc_label: 0.1063, source_val_label_loss: 0.1223, target_val_label_loss: 2.7440, \n",
      "=============================================================\n"
     ]
    },
    {
     "name": "stdout",
     "output_type": "stream",
     "text": [
      "epoch: 5, [batch: 1 / 6857], examples_per_second: 1.3320, train_label_loss: 0.0980, \n"
     ]
    },
    {
     "name": "stdout",
     "output_type": "stream",
     "text": [
      "epoch: 5, [batch: 686 / 6857], examples_per_second: 2931.9129, train_label_loss: 0.1397, \n"
     ]
    },
    {
     "name": "stdout",
     "output_type": "stream",
     "text": [
      "epoch: 5, [batch: 1372 / 6857], examples_per_second: 2986.5301, train_label_loss: 0.0584, \n"
     ]
    },
    {
     "name": "stdout",
     "output_type": "stream",
     "text": [
      "epoch: 5, [batch: 2057 / 6857], examples_per_second: 3008.0042, train_label_loss: 0.0065, \n"
     ]
    },
    {
     "name": "stdout",
     "output_type": "stream",
     "text": [
      "epoch: 5, [batch: 2743 / 6857], examples_per_second: 2987.7687, train_label_loss: 0.0267, \n"
     ]
    },
    {
     "name": "stdout",
     "output_type": "stream",
     "text": [
      "epoch: 5, [batch: 3429 / 6857], examples_per_second: 2964.2635, train_label_loss: 0.0689, \n"
     ]
    },
    {
     "name": "stdout",
     "output_type": "stream",
     "text": [
      "epoch: 5, [batch: 4114 / 6857], examples_per_second: 2983.8948, train_label_loss: 0.1479, \n"
     ]
    },
    {
     "name": "stdout",
     "output_type": "stream",
     "text": [
      "epoch: 5, [batch: 4800 / 6857], examples_per_second: 3090.6554, train_label_loss: 0.0915, \n"
     ]
    },
    {
     "name": "stdout",
     "output_type": "stream",
     "text": [
      "epoch: 5, [batch: 5485 / 6857], examples_per_second: 3380.2387, train_label_loss: 0.1405, \n"
     ]
    },
    {
     "name": "stdout",
     "output_type": "stream",
     "text": [
      "epoch: 5, [batch: 6171 / 6857], examples_per_second: 3392.2716, train_label_loss: 0.0765, \n"
     ]
    },
    {
     "name": "stdout",
     "output_type": "stream",
     "text": [
      "=============================================================\n",
      "epoch: 5, source_val_acc_label: 0.9728, target_val_acc_label: 0.0988, source_val_label_loss: 0.1294, target_val_label_loss: 2.8067, \n",
      "=============================================================\n"
     ]
    },
    {
     "name": "stdout",
     "output_type": "stream",
     "text": [
      "epoch: 6, [batch: 1 / 6831], examples_per_second: 1.4921, train_label_loss: 0.0401, \n"
     ]
    },
    {
     "name": "stdout",
     "output_type": "stream",
     "text": [
      "epoch: 6, [batch: 684 / 6831], examples_per_second: 3855.3889, train_label_loss: 0.0058, \n"
     ]
    },
    {
     "name": "stdout",
     "output_type": "stream",
     "text": [
      "epoch: 6, [batch: 1367 / 6831], examples_per_second: 4202.8055, train_label_loss: 0.0286, \n"
     ]
    },
    {
     "name": "stdout",
     "output_type": "stream",
     "text": [
      "epoch: 6, [batch: 2050 / 6831], examples_per_second: 4612.5947, train_label_loss: 0.0024, \n"
     ]
    },
    {
     "name": "stdout",
     "output_type": "stream",
     "text": [
      "epoch: 6, [batch: 2733 / 6831], examples_per_second: 5228.3717, train_label_loss: 0.0022, \n"
     ]
    },
    {
     "name": "stdout",
     "output_type": "stream",
     "text": [
      "epoch: 6, [batch: 3416 / 6831], examples_per_second: 5277.9988, train_label_loss: 0.0351, \n"
     ]
    },
    {
     "name": "stdout",
     "output_type": "stream",
     "text": [
      "epoch: 6, [batch: 4099 / 6831], examples_per_second: 4541.1894, train_label_loss: 0.0647, \n"
     ]
    },
    {
     "name": "stdout",
     "output_type": "stream",
     "text": [
      "epoch: 6, [batch: 4782 / 6831], examples_per_second: 3979.7614, train_label_loss: 0.0010, \n"
     ]
    },
    {
     "name": "stdout",
     "output_type": "stream",
     "text": [
      "epoch: 6, [batch: 5465 / 6831], examples_per_second: 3939.3662, train_label_loss: 0.3366, \n"
     ]
    },
    {
     "name": "stdout",
     "output_type": "stream",
     "text": [
      "epoch: 6, [batch: 6148 / 6831], examples_per_second: 3849.2247, train_label_loss: 0.0095, \n"
     ]
    },
    {
     "name": "stdout",
     "output_type": "stream",
     "text": [
      "=============================================================\n",
      "epoch: 6, source_val_acc_label: 0.9730, target_val_acc_label: 0.0989, source_val_label_loss: 0.1265, target_val_label_loss: 2.8306, \n",
      "=============================================================\n"
     ]
    },
    {
     "name": "stdout",
     "output_type": "stream",
     "text": [
      "Patience (3) exhausted\n"
     ]
    }
   ],
   "source": [
    "###################################\n",
    "# train\n",
    "###################################\n",
    "jig = PTN_Train_Eval_Test_Jig(model, p.BEST_MODEL_PATH, p.device)\n",
    "\n",
    "jig.train(\n",
    "    train_iterable=datasets.source.processed.train,\n",
    "    source_val_iterable=datasets.source.processed.val,\n",
    "    target_val_iterable=datasets.target.processed.val,\n",
    "    num_epochs=p.n_epoch,\n",
    "    num_logs_per_epoch=p.NUM_LOGS_PER_EPOCH,\n",
    "    patience=p.patience,\n",
    "    optimizer=optimizer,\n",
    "    criteria_for_best=p.criteria_for_best,\n",
    ")"
   ]
  },
  {
   "cell_type": "code",
   "execution_count": 23,
   "id": "31e8fabf",
   "metadata": {
    "execution": {
     "iopub.execute_input": "2022-03-23T03:32:22.661370Z",
     "iopub.status.busy": "2022-03-23T03:32:22.660796Z",
     "iopub.status.idle": "2022-03-23T03:32:22.695152Z",
     "shell.execute_reply": "2022-03-23T03:32:22.694441Z"
    },
    "papermill": {
     "duration": 0.079783,
     "end_time": "2022-03-23T03:32:22.695309",
     "exception": false,
     "start_time": "2022-03-23T03:32:22.615526",
     "status": "completed"
    },
    "tags": []
   },
   "outputs": [],
   "source": [
    "total_experiment_time_secs = time.time() - start_time_secs"
   ]
  },
  {
   "cell_type": "code",
   "execution_count": 24,
   "id": "87b9595b",
   "metadata": {
    "execution": {
     "iopub.execute_input": "2022-03-23T03:32:22.790328Z",
     "iopub.status.busy": "2022-03-23T03:32:22.788623Z",
     "iopub.status.idle": "2022-03-23T03:43:09.748263Z",
     "shell.execute_reply": "2022-03-23T03:43:09.747435Z"
    },
    "papermill": {
     "duration": 647.005797,
     "end_time": "2022-03-23T03:43:09.748449",
     "exception": false,
     "start_time": "2022-03-23T03:32:22.742652",
     "status": "completed"
    },
    "tags": []
   },
   "outputs": [],
   "source": [
    "###################################\n",
    "# Evaluate the model\n",
    "###################################\n",
    "source_test_label_accuracy, source_test_label_loss = jig.test(datasets.source.processed.test)\n",
    "target_test_label_accuracy, target_test_label_loss = jig.test(datasets.target.processed.test)\n",
    "\n",
    "source_val_label_accuracy, source_val_label_loss = jig.test(datasets.source.processed.val)\n",
    "target_val_label_accuracy, target_val_label_loss = jig.test(datasets.target.processed.val)\n",
    "\n",
    "history = jig.get_history()\n",
    "\n",
    "total_epochs_trained = len(history[\"epoch_indices\"])\n",
    "\n",
    "val_dl = Iterable_Aggregator((datasets.source.original.val,datasets.target.original.val))\n",
    "\n",
    "confusion = ptn_confusion_by_domain_over_dataloader(model, p.device, val_dl)\n",
    "per_domain_accuracy = per_domain_accuracy_from_confusion(confusion)\n",
    "\n",
    "# Add a key to per_domain_accuracy for if it was a source domain\n",
    "for domain, accuracy in per_domain_accuracy.items():\n",
    "    per_domain_accuracy[domain] = {\n",
    "        \"accuracy\": accuracy,\n",
    "        \"source?\": domain in p.domains_source\n",
    "    }\n",
    "\n",
    "# Do an independent accuracy assesment JUST TO BE SURE!\n",
    "# _source_test_label_accuracy = independent_accuracy_assesment(model, datasets.source.processed.test, p.device)\n",
    "# _target_test_label_accuracy = independent_accuracy_assesment(model, datasets.target.processed.test, p.device)\n",
    "# _source_val_label_accuracy = independent_accuracy_assesment(model, datasets.source.processed.val, p.device)\n",
    "# _target_val_label_accuracy = independent_accuracy_assesment(model, datasets.target.processed.val, p.device)\n",
    "\n",
    "# assert(_source_test_label_accuracy == source_test_label_accuracy)\n",
    "# assert(_target_test_label_accuracy == target_test_label_accuracy)\n",
    "# assert(_source_val_label_accuracy == source_val_label_accuracy)\n",
    "# assert(_target_val_label_accuracy == target_val_label_accuracy)\n",
    "\n",
    "experiment = {\n",
    "    \"experiment_name\": p.experiment_name,\n",
    "    \"parameters\": dict(p),\n",
    "    \"results\": {\n",
    "        \"source_test_label_accuracy\": source_test_label_accuracy,\n",
    "        \"source_test_label_loss\": source_test_label_loss,\n",
    "        \"target_test_label_accuracy\": target_test_label_accuracy,\n",
    "        \"target_test_label_loss\": target_test_label_loss,\n",
    "        \"source_val_label_accuracy\": source_val_label_accuracy,\n",
    "        \"source_val_label_loss\": source_val_label_loss,\n",
    "        \"target_val_label_accuracy\": target_val_label_accuracy,\n",
    "        \"target_val_label_loss\": target_val_label_loss,\n",
    "        \"total_epochs_trained\": total_epochs_trained,\n",
    "        \"total_experiment_time_secs\": total_experiment_time_secs,\n",
    "        \"confusion\": confusion,\n",
    "        \"per_domain_accuracy\": per_domain_accuracy,\n",
    "    },\n",
    "    \"history\": history,\n",
    "    \"dataset_metrics\": get_dataset_metrics(datasets, \"ptn\"),\n",
    "}"
   ]
  },
  {
   "cell_type": "code",
   "execution_count": 25,
   "id": "54a21829",
   "metadata": {
    "execution": {
     "iopub.execute_input": "2022-03-23T03:43:09.842743Z",
     "iopub.status.busy": "2022-03-23T03:43:09.841815Z",
     "iopub.status.idle": "2022-03-23T03:43:10.055175Z",
     "shell.execute_reply": "2022-03-23T03:43:10.055920Z"
    },
    "papermill": {
     "duration": 0.258984,
     "end_time": "2022-03-23T03:43:10.056141",
     "exception": false,
     "start_time": "2022-03-23T03:43:09.797157",
     "status": "completed"
    },
    "tags": []
   },
   "outputs": [
    {
     "data": {
      "image/png": "[encoded data removed]",
      "text/plain": [
       "<Figure size 1080x504 with 1 Axes>"
      ]
     },
     "metadata": {
      "needs_background": "light"
     },
     "output_type": "display_data"
    }
   ],
   "source": [
    "ax = get_loss_curve(experiment)\n",
    "plt.show()"
   ]
  },
  {
   "cell_type": "code",
   "execution_count": 26,
   "id": "fd8a0f60",
   "metadata": {
    "execution": {
     "iopub.execute_input": "2022-03-23T03:43:10.152499Z",
     "iopub.status.busy": "2022-03-23T03:43:10.152090Z",
     "iopub.status.idle": "2022-03-23T03:43:10.479017Z",
     "shell.execute_reply": "2022-03-23T03:43:10.479761Z"
    },
    "papermill": {
     "duration": 0.374713,
     "end_time": "2022-03-23T03:43:10.479986",
     "exception": false,
     "start_time": "2022-03-23T03:43:10.105273",
     "status": "completed"
    },
    "tags": []
   },
   "outputs": [
    {
     "data": {
      "text/plain": [
       "<AxesSubplot:title={'center':'Results'}>"
      ]
     },
     "execution_count": 26,
     "metadata": {},
     "output_type": "execute_result"
    },
    {
     "data": {
      "image/png": "[encoded data removed]",
      "text/plain": [
       "<Figure size 1080x504 with 1 Axes>"
      ]
     },
     "metadata": {
      "needs_background": "light"
     },
     "output_type": "display_data"
    }
   ],
   "source": [
    "get_results_table(experiment)"
   ]
  },
  {
   "cell_type": "code",
   "execution_count": 27,
   "id": "cf8dc689",
   "metadata": {
    "execution": {
     "iopub.execute_input": "2022-03-23T03:43:10.580065Z",
     "iopub.status.busy": "2022-03-23T03:43:10.579669Z",
     "iopub.status.idle": "2022-03-23T03:43:10.834232Z",
     "shell.execute_reply": "2022-03-23T03:43:10.834947Z"
    },
    "papermill": {
     "duration": 0.304325,
     "end_time": "2022-03-23T03:43:10.835172",
     "exception": false,
     "start_time": "2022-03-23T03:43:10.530847",
     "status": "completed"
    },
    "tags": []
   },
   "outputs": [
    {
     "data": {
      "text/plain": [
       "<AxesSubplot:title={'center':'Per Domain Validation Accuracy'}, xlabel='domain'>"
      ]
     },
     "execution_count": 27,
     "metadata": {},
     "output_type": "execute_result"
    },
    {
     "data": {
      "image/png": "[encoded data removed]",
      "text/plain": [
       "<Figure size 1080x504 with 1 Axes>"
      ]
     },
     "metadata": {
      "needs_background": "light"
     },
     "output_type": "display_data"
    }
   ],
   "source": [
    "get_domain_accuracies(experiment)"
   ]
  },
  {
   "cell_type": "code",
   "execution_count": 28,
   "id": "a74ae082",
   "metadata": {
    "execution": {
     "iopub.execute_input": "2022-03-23T03:43:10.937182Z",
     "iopub.status.busy": "2022-03-23T03:43:10.936757Z",
     "iopub.status.idle": "2022-03-23T03:43:10.963505Z",
     "shell.execute_reply": "2022-03-23T03:43:10.962921Z"
    },
    "papermill": {
     "duration": 0.077337,
     "end_time": "2022-03-23T03:43:10.963639",
     "exception": false,
     "start_time": "2022-03-23T03:43:10.886302",
     "status": "completed"
    },
    "tags": []
   },
   "outputs": [
    {
     "name": "stdout",
     "output_type": "stream",
     "text": [
      "Source Test Label Accuracy: 0.9704592363261094 Target Test Label Accuracy: 0.11903645833333333\n",
      "Source Val Label Accuracy: 0.9682534427966102 Target Val Label Accuracy: 0.11860677083333333\n"
     ]
    }
   ],
   "source": [
    "print(\"Source Test Label Accuracy:\", experiment[\"results\"][\"source_test_label_accuracy\"], \"Target Test Label Accuracy:\", experiment[\"results\"][\"target_test_label_accuracy\"])\n",
    "print(\"Source Val Label Accuracy:\", experiment[\"results\"][\"source_val_label_accuracy\"], \"Target Val Label Accuracy:\", experiment[\"results\"][\"target_val_label_accuracy\"])"
   ]
  },
  {
   "cell_type": "code",
   "execution_count": 29,
   "id": "dacca602",
   "metadata": {
    "execution": {
     "iopub.execute_input": "2022-03-23T03:43:11.061505Z",
     "iopub.status.busy": "2022-03-23T03:43:11.060417Z",
     "iopub.status.idle": "2022-03-23T03:43:11.090400Z",
     "shell.execute_reply": "2022-03-23T03:43:11.091101Z"
    },
    "papermill": {
     "duration": 0.078869,
     "end_time": "2022-03-23T03:43:11.091309",
     "exception": false,
     "start_time": "2022-03-23T03:43:11.012440",
     "status": "completed"
    },
    "tags": [
     "experiment_json"
    ]
   },
   "outputs": [
    {
     "data": {
      "text/plain": [
       "'{\"experiment_name\": \"tl_1v2:wisig-oracle.run1\", \"parameters\": {\"experiment_name\": \"tl_1v2:wisig-oracle.run1\", \"device\": \"cuda\", \"lr\": 0.0001, \"n_shot\": 3, \"n_query\": 2, \"train_k_factor\": 3, \"val_k_factor\": 2, \"test_k_factor\": 2, \"torch_default_dtype\": \"torch.float32\", \"n_epoch\": 50, \"patience\": 3, \"criteria_for_best\": \"target_accuracy\", \"x_net\": [{\"class\": \"nnReshape\", \"kargs\": {\"shape\": [-1, 1, 2, 256]}}, {\"class\": \"Conv2d\", \"kargs\": {\"in_channels\": 1, \"out_channels\": 256, \"kernel_size\": [1, 7], \"bias\": false, \"padding\": [0, 3]}}, {\"class\": \"ReLU\", \"kargs\": {\"inplace\": true}}, {\"class\": \"BatchNorm2d\", \"kargs\": {\"num_features\": 256}}, {\"class\": \"Conv2d\", \"kargs\": {\"in_channels\": 256, \"out_channels\": 80, \"kernel_size\": [2, 7], \"bias\": true, \"padding\": [0, 3]}}, {\"class\": \"ReLU\", \"kargs\": {\"inplace\": true}}, {\"class\": \"BatchNorm2d\", \"kargs\": {\"num_features\": 80}}, {\"class\": \"Flatten\", \"kargs\": {}}, {\"class\": \"Linear\", \"kargs\": {\"in_features\": 20480, \"out_features\": 256}}, {\"class\": \"ReLU\", \"kargs\": {\"inplace\": true}}, {\"class\": \"BatchNorm1d\", \"kargs\": {\"num_features\": 256}}, {\"class\": \"Linear\", \"kargs\": {\"in_features\": 256, \"out_features\": 256}}], \"NUM_LOGS_PER_EPOCH\": 10, \"BEST_MODEL_PATH\": \"./best_model.pth\", \"n_way\": 16, \"datasets\": [{\"labels\": [\"1-10\", \"1-12\", \"1-14\", \"1-16\", \"1-18\", \"1-19\", \"1-8\", \"10-11\", \"10-17\", \"10-4\", \"10-7\", \"11-1\", \"11-10\", \"11-19\", \"11-20\", \"11-4\", \"11-7\", \"12-19\", \"12-20\", \"12-7\", \"13-14\", \"13-18\", \"13-19\", \"13-20\", \"13-3\", \"13-7\", \"14-10\", \"14-11\", \"14-12\", \"14-13\", \"14-14\", \"14-19\", \"14-20\", \"14-7\", \"14-8\", \"14-9\", \"15-1\", \"15-19\", \"15-6\", \"16-1\", \"16-16\", \"16-19\", \"16-20\", \"17-10\", \"17-11\", \"18-1\", \"18-10\", \"18-11\", \"18-12\", \"18-13\", \"18-14\", \"18-15\", \"18-16\", \"18-17\", \"18-19\", \"18-2\", \"18-20\", \"18-4\", \"18-5\", \"18-7\", \"18-8\", \"18-9\", \"19-1\", \"19-10\", \"19-11\", \"19-12\", \"19-13\", \"19-14\", \"19-15\", \"19-19\", \"19-2\", \"19-20\", \"19-3\", \"19-4\", \"19-6\", \"19-7\", \"19-8\", \"19-9\", \"2-1\", \"2-13\", \"2-15\", \"2-3\", \"2-4\", \"2-5\", \"2-6\", \"2-7\", \"2-8\", \"20-1\", \"20-12\", \"20-14\", \"20-15\", \"20-16\", \"20-18\", \"20-19\", \"20-20\", \"20-3\", \"20-4\", \"20-5\", \"20-7\", \"20-8\", \"3-1\", \"3-13\", \"3-18\", \"3-2\", \"3-8\", \"4-1\", \"4-10\", \"4-11\", \"5-1\", \"5-5\", \"6-1\", \"6-15\", \"6-6\", \"7-10\", \"7-11\", \"7-12\", \"7-13\", \"7-14\", \"7-7\", \"7-8\", \"7-9\", \"8-1\", \"8-13\", \"8-14\", \"8-18\", \"8-20\", \"8-3\", \"8-8\", \"9-1\", \"9-7\"], \"domains\": [1, 2, 3, 4], \"num_examples_per_domain_per_label\": -1, \"pickle_path\": \"/root/csc500-main/datasets/wisig.node3-19.stratified_ds.2022A.pkl\", \"source_or_target_dataset\": \"source\", \"x_transforms\": [\"unit_power\"], \"episode_transforms\": [], \"domain_prefix\": \"Wisig_\"}, {\"labels\": [\"3123D52\", \"3123D65\", \"3123D79\", \"3123D80\", \"3123D54\", \"3123D70\", \"3123D7B\", \"3123D89\", \"3123D58\", \"3123D76\", \"3123D7D\", \"3123EFE\", \"3123D64\", \"3123D78\", \"3123D7E\", \"3124E4A\"], \"domains\": [32, 38, 8, 44, 14, 50, 20, 26], \"num_examples_per_domain_per_label\": 10000, \"pickle_path\": \"/root/csc500-main/datasets/oracle.Run1_10kExamples_stratified_ds.2022A.pkl\", \"source_or_target_dataset\": \"target\", \"x_transforms\": [\"unit_power\"], \"episode_transforms\": [], \"domain_prefix\": \"ORACLE.run1\"}], \"dataset_seed\": 1337, \"seed\": 1337, \"x_shape\": [2, 256], \"domains_source\": [\"Wisig_1\", \"Wisig_2\", \"Wisig_3\", \"Wisig_4\"], \"domains_target\": [\"ORACLE.run132\", \"ORACLE.run138\", \"ORACLE.run18\", \"ORACLE.run144\", \"ORACLE.run114\", \"ORACLE.run150\", \"ORACLE.run120\", \"ORACLE.run126\"]}, \"results\": {\"source_test_label_accuracy\": 0.9704592363261094, \"source_test_label_loss\": 0.1280820369720459, \"target_test_label_accuracy\": 0.11903645833333333, \"target_test_label_loss\": 2.6698269844055176, \"source_val_label_accuracy\": 0.9682534427966102, \"source_val_label_loss\": 0.13780991733074188, \"target_val_label_accuracy\": 0.11860677083333333, \"target_val_label_loss\": 2.671254873275757, \"total_epochs_trained\": 6, \"total_experiment_time_secs\": 1791.8808176517487, \"confusion\": {\"Wisig_3\": {\"109\": {\"109\": 127, \"127\": 1}, \"127\": {\"127\": 126, \"30\": 1, \"69\": 1}, \"14\": {\"14\": 80}, \"7\": {\"7\": 111, \"111\": 1}, \"129\": {\"129\": 32}, \"57\": {\"57\": 20}, \"84\": {\"84\": 107, \"92\": 1}, \"114\": {\"114\": 121, \"29\": 1, \"69\": 1, \"127\": 1}, \"44\": {\"44\": 71, \"113\": 1}, \"21\": {\"21\": 46, \"101\": 1, \"73\": 1}, \"46\": {\"46\": 16}, \"100\": {\"100\": 16}, \"63\": {\"63\": 15, \"122\": 1}, \"24\": {\"24\": 48}, \"107\": {\"107\": 117, \"62\": 1}, \"35\": {\"35\": 11, \"49\": 1}, \"81\": {\"81\": 32}, \"64\": {\"64\": 20}, \"59\": {\"59\": 12}, \"33\": {\"33\": 113, \"102\": 1}, \"34\": {\"34\": 28, \"14\": 1, \"77\": 1, \"103\": 1, \"32\": 1}, \"36\": {\"36\": 116, \"27\": 1, \"98\": 1, \"24\": 1, \"127\": 1}, \"79\": {\"79\": 12}, \"80\": {\"80\": 16}, \"77\": {\"77\": 15, \"59\": 1}, \"22\": {\"22\": 16}, \"124\": {\"124\": 122, \"16\": 1, \"32\": 1}, \"2\": {\"2\": 27, \"26\": 1}, \"87\": {\"87\": 111, \"30\": 1}, \"105\": {\"105\": 122}, \"95\": {\"95\": 32}, \"43\": {\"43\": 50, \"21\": 1, \"122\": 1, \"102\": 1, \"69\": 1, \"78\": 1, \"87\": 1}, \"56\": {\"56\": 12}, \"18\": {\"18\": 121, \"110\": 1, \"21\": 1, \"84\": 1}, \"85\": {\"85\": 36}, \"113\": {\"113\": 120}, \"97\": {\"97\": 18, \"27\": 1, \"13\": 1}, \"86\": {\"86\": 26, \"84\": 1, \"56\": 1}, \"128\": {\"128\": 31, \"125\": 1}, \"123\": {\"123\": 16}, \"8\": {\"8\": 130}, \"110\": {\"110\": 80, \"129\": 1, \"17\": 2, \"78\": 1, \"70\": 1, \"44\": 1, \"7\": 2, \"101\": 1, \"69\": 1}, \"126\": {\"21\": 1, \"126\": 99, \"94\": 1, \"39\": 2, \"105\": 1}, \"42\": {\"42\": 24, \"83\": 1, \"8\": 1, \"112\": 2}, \"96\": {\"96\": 20}, \"83\": {\"83\": 24}, \"54\": {\"54\": 16}, \"65\": {\"65\": 10, \"121\": 1, \"92\": 1}, \"30\": {\"30\": 81, \"36\": 1, \"69\": 1, \"70\": 1}, \"121\": {\"121\": 27, \"80\": 1, \"21\": 1, \"30\": 1, \"0\": 1, \"84\": 1}, \"68\": {\"68\": 15, \"51\": 1}, \"45\": {\"45\": 15, \"63\": 1}, \"48\": {\"48\": 13, \"13\": 2, \"65\": 1}, \"4\": {\"4\": 94, \"39\": 1, \"87\": 1}, \"67\": {\"67\": 16}, \"103\": {\"103\": 15, \"63\": 1}, \"74\": {\"74\": 16}, \"1\": {\"1\": 106, \"84\": 2}, \"61\": {\"61\": 16}, \"101\": {\"101\": 47, \"60\": 1, \"0\": 2, \"127\": 1, \"25\": 1}, \"93\": {\"93\": 138}, \"26\": {\"26\": 130}, \"71\": {\"71\": 66, \"113\": 1, \"18\": 1}, \"15\": {\"15\": 101, \"97\": 1, \"69\": 1, \"40\": 1}, \"55\": {\"55\": 16}, \"104\": {\"104\": 16}, \"112\": {\"112\": 15, \"86\": 1}, \"102\": {\"102\": 122}, \"117\": {\"117\": 112}, \"119\": {\"119\": 16}, \"20\": {\"20\": 15, \"106\": 1}, \"120\": {\"120\": 20}, \"39\": {\"39\": 103, \"18\": 1, \"13\": 1, \"70\": 1, \"24\": 1, \"8\": 1}, \"49\": {\"49\": 22, \"129\": 1, \"8\": 1}, \"53\": {\"53\": 20}, \"92\": {\"92\": 31, \"39\": 1}, \"3\": {\"3\": 116}, \"47\": {\"47\": 12}, \"115\": {\"115\": 16}, \"58\": {\"58\": 16}, \"29\": {\"29\": 32}, \"12\": {\"12\": 104}, \"62\": {\"62\": 116, \"26\": 1, \"90\": 1}, \"11\": {\"11\": 140}, \"72\": {\"72\": 28}, \"98\": {\"98\": 106}, \"122\": {\"122\": 57, \"39\": 1, \"82\": 1, \"21\": 1}, \"17\": {\"122\": 1, \"17\": 9, \"110\": 1, \"63\": 1, \"104\": 2, \"68\": 1, \"40\": 1}, \"94\": {\"94\": 83, \"73\": 1}, \"106\": {\"106\": 89, \"94\": 1}, \"28\": {\"28\": 16}, \"69\": {\"69\": 78, \"87\": 2, \"106\": 1, \"94\": 1, \"70\": 1, \"27\": 1}, \"125\": {\"125\": 112, \"98\": 1, \"62\": 1}, \"19\": {\"19\": 32}, \"41\": {\"41\": 16}, \"60\": {\"60\": 27, \"122\": 1}, \"70\": {\"70\": 66, \"84\": 1, \"111\": 1, \"92\": 1, \"106\": 1, \"110\": 1, \"126\": 1}, \"27\": {\"27\": 93, \"36\": 2, \"7\": 1}, \"10\": {\"10\": 116, \"7\": 1, \"0\": 1}, \"108\": {\"108\": 137, \"111\": 1, \"88\": 1, \"110\": 1}, \"9\": {\"9\": 32}, \"25\": {\"25\": 16}, \"37\": {\"37\": 15, \"73\": 1}, \"0\": {\"0\": 115, \"10\": 1}, \"66\": {\"66\": 16}, \"51\": {\"51\": 16}, \"76\": {\"76\": 16}, \"32\": {\"32\": 29, \"61\": 1, \"14\": 1, \"62\": 1}, \"88\": {\"88\": 108, \"70\": 2, \"29\": 1, \"106\": 1}, \"31\": {\"31\": 20}, \"91\": {\"91\": 22, \"7\": 1, \"103\": 1}, \"90\": {\"90\": 126}, \"13\": {\"13\": 12, \"30\": 1, \"25\": 1, \"44\": 2}, \"50\": {\"50\": 16}, \"78\": {\"78\": 15, \"87\": 1}, \"116\": {\"116\": 22, \"60\": 1, \"82\": 1, \"16\": 1, \"33\": 1, \"120\": 1, \"43\": 1}, \"5\": {\"5\": 111, \"39\": 1}, \"75\": {\"75\": 16}, \"89\": {\"89\": 28}, \"16\": {\"16\": 114, \"3\": 1, \"93\": 1}, \"38\": {\"38\": 15, \"63\": 1}, \"118\": {\"118\": 97, \"30\": 1, \"7\": 2}, \"99\": {\"99\": 35, \"36\": 1}, \"52\": {\"52\": 16}, \"111\": {\"111\": 128}, \"23\": {\"23\": 32}, \"73\": {\"73\": 39, \"30\": 1}, \"82\": {\"82\": 26, \"101\": 1, \"122\": 1}, \"40\": {\"40\": 126, \"94\": 1, \"70\": 1}, \"6\": {\"6\": 30, \"101\": 2}}, \"Wisig_4\": {\"28\": {\"28\": 20}, \"4\": {\"4\": 99, \"63\": 1, \"86\": 2, \"3\": 1, \"110\": 1}, \"72\": {\"72\": 30, \"69\": 1, \"63\": 1}, \"111\": {\"111\": 132, \"24\": 1, \"122\": 1, \"0\": 1, \"10\": 1}, \"108\": {\"108\": 84, \"129\": 1, \"122\": 1, \"27\": 2, \"125\": 1, \"70\": 1, \"39\": 1, \"7\": 1}, \"43\": {\"43\": 114, \"87\": 4, \"4\": 1, \"70\": 1}, \"96\": {\"96\": 20}, \"89\": {\"89\": 29, \"1\": 1, \"7\": 1, \"18\": 1}, \"31\": {\"31\": 16}, \"45\": {\"45\": 16}, \"2\": {\"2\": 25, \"96\": 1, \"26\": 2}, \"114\": {\"114\": 126, \"12\": 1, \"118\": 1}, \"11\": {\"11\": 135, \"98\": 1}, \"12\": {\"12\": 97, \"36\": 1, \"62\": 1, \"72\": 1}, \"14\": {\"14\": 111, \"7\": 1}, \"90\": {\"90\": 153, \"69\": 1}, \"10\": {\"10\": 119, \"7\": 1, \"88\": 1, \"27\": 1}, \"63\": {\"63\": 16}, \"85\": {\"85\": 27, \"1\": 1}, \"64\": {\"64\": 14, \"100\": 1, \"129\": 1}, \"82\": {\"82\": 32}, \"58\": {\"58\": 15, \"27\": 1}, \"3\": {\"3\": 132, \"101\": 1, \"10\": 1, \"21\": 1, \"27\": 1}, \"54\": {\"54\": 16}, \"121\": {\"121\": 30, \"63\": 1, \"44\": 1}, \"42\": {\"42\": 21, \"119\": 1, \"79\": 1, \"49\": 1, \"73\": 2, \"108\": 1, \"8\": 1}, \"98\": {\"98\": 117, \"126\": 1, \"25\": 1, \"121\": 1}, \"123\": {\"123\": 16}, \"91\": {\"91\": 24}, \"83\": {\"112\": 1, \"83\": 25, \"119\": 1, \"5\": 1}, \"99\": {\"99\": 40}, \"112\": {\"112\": 16}, \"119\": {\"119\": 16}, \"70\": {\"70\": 117, \"88\": 4, \"118\": 1, \"59\": 1, \"117\": 1}, \"20\": {\"20\": 15, \"1\": 1}, \"120\": {\"120\": 20}, \"7\": {\"7\": 122, \"108\": 1, \"1\": 1}, \"60\": {\"60\": 31, \"43\": 1}, \"113\": {\"113\": 116, \"118\": 1, \"0\": 1}, \"37\": {\"37\": 14, \"100\": 1, \"43\": 1}, \"124\": {\"124\": 109, \"115\": 1}, \"27\": {\"27\": 96, \"111\": 1, \"53\": 1, \"126\": 1, \"88\": 1}, \"86\": {\"86\": 28}, \"127\": {\"127\": 102, \"0\": 2, \"122\": 2, \"24\": 1, \"39\": 1}, \"62\": {\"62\": 55, \"71\": 1, \"122\": 1, \"94\": 1, \"15\": 1, \"110\": 1}, \"122\": {\"122\": 80, \"33\": 2, \"121\": 1, \"1\": 1}, \"51\": {\"51\": 9, \"114\": 1, \"30\": 1, \"21\": 1, \"53\": 1, \"23\": 1, \"62\": 1, \"118\": 1}, \"109\": {\"109\": 112, \"100\": 1, \"14\": 1}, \"106\": {\"106\": 107, \"97\": 1, \"3\": 2, \"78\": 1, \"1\": 2, \"88\": 1}, \"94\": {\"94\": 87, \"10\": 1}, \"38\": {\"38\": 16}, \"129\": {\"129\": 27, \"59\": 1}, \"116\": {\"116\": 25, \"33\": 2, \"63\": 1}, \"107\": {\"107\": 118}, \"30\": {\"30\": 73, \"39\": 1, \"36\": 1, \"27\": 1}, \"102\": {\"102\": 131, \"15\": 1}, \"74\": {\"74\": 16}, \"101\": {\"101\": 129, \"0\": 2, \"5\": 1}, \"117\": {\"117\": 119, \"71\": 1, \"1\": 1, \"24\": 1, \"90\": 1, \"81\": 1}, \"1\": {\"1\": 97, \"88\": 3, \"70\": 2, \"15\": 1, \"127\": 1, \"21\": 2, \"14\": 1, \"118\": 1}, \"84\": {\"84\": 128, \"87\": 1, \"105\": 1, \"14\": 1, \"24\": 1}, \"17\": {\"17\": 20}, \"6\": {\"6\": 24}, \"110\": {\"110\": 122, \"24\": 1, \"1\": 1}, \"77\": {\"77\": 12}, \"8\": {\"8\": 128, \"122\": 1, \"73\": 1, \"127\": 1, \"110\": 1}, \"73\": {\"73\": 21, \"10\": 1, \"3\": 1, \"7\": 1}, \"126\": {\"126\": 121, \"39\": 1, \"24\": 1, \"88\": 1}, \"57\": {\"57\": 16}, \"95\": {\"95\": 31, \"8\": 1}, \"103\": {\"103\": 16}, \"97\": {\"97\": 19, \"89\": 1}, \"39\": {\"39\": 90, \"81\": 2, \"7\": 1, \"84\": 1, \"106\": 2, \"21\": 2, \"108\": 1, \"10\": 1}, \"100\": {\"100\": 20}, \"40\": {\"40\": 109, \"69\": 1}, \"36\": {\"36\": 123, \"24\": 1, \"84\": 1, \"21\": 1}, \"19\": {\"19\": 28}, \"118\": {\"118\": 108, \"82\": 1, \"110\": 1, \"24\": 1, \"70\": 1}, \"56\": {\"56\": 12}, \"26\": {\"26\": 125, \"10\": 1}, \"5\": {\"5\": 135, \"106\": 1}, \"21\": {\"21\": 35, \"7\": 1, \"23\": 1, \"78\": 1, \"84\": 1, \"122\": 1}, \"22\": {\"22\": 15, \"36\": 1}, \"68\": {\"68\": 16}, \"9\": {\"9\": 28}, \"66\": {\"66\": 15, \"23\": 1}, \"87\": {\"87\": 121, \"105\": 1, \"43\": 1, \"24\": 1}, \"71\": {\"71\": 100, \"19\": 1, \"43\": 1, \"21\": 1, \"111\": 1}, \"115\": {\"115\": 14, \"7\": 1, \"43\": 1}, \"23\": {\"89\": 1, \"23\": 10, \"51\": 3, \"10\": 1, \"53\": 1}, \"33\": {\"33\": 116, \"0\": 1, \"90\": 1}, \"35\": {\"35\": 11, \"3\": 1}, \"125\": {\"125\": 127, \"43\": 2, \"90\": 1, \"92\": 1, \"10\": 1}, \"47\": {\"95\": 1, \"125\": 1, \"47\": 10}, \"79\": {\"79\": 16}, \"53\": {\"53\": 16}, \"67\": {\"113\": 2, \"67\": 10, \"33\": 1, \"123\": 1, \"106\": 1, \"104\": 1}, \"80\": {\"80\": 16}, \"105\": {\"105\": 92, \"70\": 1, \"36\": 1, \"3\": 1, \"87\": 2, \"0\": 1, \"60\": 1, \"113\": 1}, \"76\": {\"76\": 16}, \"46\": {\"46\": 20}, \"34\": {\"120\": 2, \"34\": 27, \"75\": 1, \"54\": 1, \"115\": 1}, \"32\": {\"32\": 22, \"120\": 1, \"60\": 1, \"118\": 3, \"45\": 1}, \"13\": {\"13\": 16}, \"78\": {\"78\": 31, \"89\": 1, \"43\": 1, \"4\": 1, \"18\": 1, \"1\": 1}, \"41\": {\"41\": 16}, \"69\": {\"69\": 124, \"15\": 1, \"3\": 1, \"88\": 1, \"27\": 1}, \"88\": {\"88\": 114, \"108\": 2, \"3\": 2, \"74\": 1, \"70\": 9, \"27\": 2, \"126\": 1, \"90\": 1}, \"15\": {\"15\": 124, \"122\": 1, \"106\": 1, \"21\": 1, \"10\": 1}, \"61\": {\"61\": 16}, \"0\": {\"0\": 112, \"24\": 1, \"7\": 1, \"3\": 1, \"4\": 1}, \"104\": {\"104\": 15, \"39\": 1}, \"48\": {\"48\": 15, \"98\": 1}, \"25\": {\"25\": 16}, \"75\": {\"75\": 16}, \"81\": {\"81\": 34, \"69\": 1, \"27\": 1}, \"50\": {\"50\": 16}, \"52\": {\"52\": 20}, \"16\": {\"16\": 117, \"70\": 1, \"3\": 1, \"43\": 1}, \"44\": {\"44\": 63, \"2\": 1}, \"29\": {\"29\": 30, \"21\": 1, \"1\": 1}, \"93\": {\"93\": 123, \"84\": 1}, \"18\": {\"18\": 114}, \"49\": {\"49\": 30, \"80\": 2}, \"55\": {\"55\": 16}, \"59\": {\"59\": 11, \"21\": 1}, \"128\": {\"128\": 18, \"49\": 1, \"8\": 2, \"91\": 1, \"98\": 2}, \"24\": {\"24\": 110, \"0\": 1, \"36\": 7, \"7\": 1, \"10\": 1}, \"65\": {\"65\": 12}, \"92\": {\"92\": 28}}, \"Wisig_1\": {\"108\": {\"108\": 124}, \"40\": {\"40\": 136}, \"68\": {\"68\": 15, \"23\": 1}, \"23\": {\"23\": 17, \"127\": 1, \"110\": 1, \"32\": 2, \"66\": 2, \"3\": 1}, \"26\": {\"26\": 118, \"12\": 1, \"6\": 1}, \"64\": {\"64\": 16}, \"22\": {\"22\": 14, \"2\": 1, \"43\": 1}, \"3\": {\"3\": 84, \"94\": 1, \"15\": 1, \"18\": 2}, \"4\": {\"4\": 99, \"94\": 1}, \"70\": {\"70\": 115, \"84\": 1, \"86\": 1, \"12\": 1, \"24\": 1, \"94\": 1}, \"57\": {\"57\": 11, \"53\": 1}, \"79\": {\"79\": 12}, \"9\": {\"9\": 32}, \"89\": {\"89\": 36}, \"110\": {\"110\": 128}, \"102\": {\"102\": 118, \"14\": 1, \"107\": 1}, \"31\": {\"31\": 16}, \"58\": {\"58\": 11, \"12\": 1}, \"47\": {\"47\": 12}, \"24\": {\"24\": 88, \"12\": 1, \"27\": 1, \"94\": 1, \"108\": 1}, \"19\": {\"19\": 28}, \"11\": {\"11\": 132}, \"52\": {\"52\": 20}, \"17\": {\"17\": 16}, \"25\": {\"25\": 16}, \"69\": {\"69\": 105, \"43\": 2, \"14\": 1}, \"96\": {\"96\": 14, \"51\": 1, \"65\": 1, \"94\": 1, \"126\": 1, \"35\": 1, \"72\": 1}, \"109\": {\"109\": 111, \"3\": 1, \"126\": 1, \"43\": 1}, \"115\": {\"115\": 12}, \"83\": {\"83\": 27, \"27\": 1}, \"84\": {\"84\": 127, \"88\": 1}, \"119\": {\"119\": 16}, \"122\": {\"122\": 84, \"43\": 1, \"105\": 1, \"21\": 1, \"7\": 1}, \"99\": {\"99\": 23, \"100\": 1}, \"1\": {\"1\": 133, \"27\": 1, \"7\": 1, \"127\": 1}, \"74\": {\"74\": 16}, \"85\": {\"85\": 32}, \"127\": {\"127\": 106, \"88\": 1, \"94\": 1}, \"111\": {\"111\": 118, \"24\": 1, \"12\": 1}, \"53\": {\"53\": 20}, \"88\": {\"88\": 130, \"97\": 1, \"126\": 1}, \"65\": {\"65\": 9, \"21\": 1, \"66\": 1, \"102\": 1}, \"7\": {\"7\": 134}, \"16\": {\"16\": 107, \"127\": 1}, \"128\": {\"128\": 22, \"0\": 1, \"72\": 1}, \"34\": {\"34\": 24, \"80\": 1, \"60\": 2, \"125\": 1, \"91\": 1, \"115\": 1, \"86\": 1, \"83\": 1}, \"129\": {\"129\": 27, \"2\": 1}, \"43\": {\"43\": 126, \"78\": 2}, \"92\": {\"92\": 28}, \"28\": {\"28\": 18, \"0\": 1, \"71\": 1}, \"27\": {\"27\": 92}, \"114\": {\"114\": 123, \"71\": 1}, \"73\": {\"73\": 20}, \"0\": {\"0\": 84}, \"104\": {\"104\": 16}, \"118\": {\"118\": 83, \"21\": 1}, \"41\": {\"41\": 16}, \"91\": {\"91\": 28}, \"124\": {\"124\": 122}, \"81\": {\"81\": 28}, \"63\": {\"63\": 16}, \"76\": {\"76\": 16}, \"10\": {\"10\": 118, \"51\": 1, \"43\": 1}, \"51\": {\"51\": 15, \"7\": 1}, \"82\": {\"82\": 36}, \"56\": {\"56\": 11, \"53\": 1}, \"30\": {\"30\": 52}, \"21\": {\"21\": 34, \"15\": 1, \"50\": 1, \"49\": 1, \"94\": 1, \"3\": 1, \"87\": 1}, \"46\": {\"46\": 11, \"94\": 1}, \"33\": {\"33\": 138}, \"101\": {\"101\": 121, \"27\": 1, \"62\": 1, \"102\": 1}, \"105\": {\"105\": 82, \"6\": 1, \"40\": 1}, \"50\": {\"50\": 15, \"36\": 1}, \"116\": {\"116\": 32}, \"77\": {\"77\": 16}, \"75\": {\"75\": 16}, \"95\": {\"95\": 36}, \"120\": {\"120\": 20}, \"18\": {\"18\": 108}, \"14\": {\"14\": 96}, \"44\": {\"44\": 76}, \"98\": {\"98\": 96}, \"121\": {\"121\": 32}, \"113\": {\"113\": 108}, \"103\": {\"103\": 16}, \"62\": {\"62\": 116, \"10\": 2, \"107\": 1, \"39\": 1}, \"32\": {\"32\": 30, \"23\": 2}, \"71\": {\"71\": 103, \"127\": 2, \"84\": 1, \"12\": 1, \"69\": 1}, \"94\": {\"94\": 91, \"14\": 1}, \"49\": {\"49\": 16, \"12\": 1, \"34\": 1, \"6\": 1, \"31\": 1}, \"12\": {\"12\": 101, \"88\": 1, \"105\": 1, \"43\": 1}, \"90\": {\"90\": 124}, \"93\": {\"93\": 122, \"43\": 1, \"87\": 1}, \"13\": {\"13\": 16}, \"67\": {\"23\": 1, \"67\": 15}, \"20\": {\"20\": 14, \"62\": 1, \"65\": 1}, \"2\": {\"2\": 31, \"11\": 1}, \"5\": {\"5\": 86, \"108\": 1, \"21\": 1}, \"54\": {\"54\": 15, \"122\": 1}, \"37\": {\"37\": 16}, \"38\": {\"38\": 16}, \"86\": {\"86\": 33, \"2\": 1, \"84\": 1, \"94\": 1}, \"55\": {\"55\": 12}, \"97\": {\"97\": 18, \"62\": 1, \"91\": 1}, \"29\": {\"29\": 28}, \"48\": {\"63\": 1, \"48\": 11}, \"60\": {\"60\": 14, \"100\": 1, \"19\": 1}, \"36\": {\"36\": 117, \"88\": 3, \"7\": 1, \"113\": 1}, \"42\": {\"58\": 1, \"42\": 18, \"91\": 4, \"49\": 2, \"122\": 1, \"86\": 1, \"109\": 1}, \"66\": {\"66\": 16}, \"126\": {\"126\": 127, \"5\": 1}, \"39\": {\"39\": 104}, \"107\": {\"107\": 123, \"39\": 1}, \"59\": {\"59\": 10, \"95\": 1, \"66\": 1}, \"117\": {\"117\": 138}, \"6\": {\"6\": 32}, \"123\": {\"123\": 16}, \"8\": {\"8\": 123, \"21\": 1}, \"112\": {\"112\": 15, \"86\": 1}, \"80\": {\"80\": 15, \"82\": 1}, \"125\": {\"125\": 136}, \"61\": {\"61\": 12}, \"45\": {\"45\": 6, \"124\": 1, \"2\": 1, \"82\": 1, \"129\": 1, \"64\": 2}, \"72\": {\"72\": 32}, \"87\": {\"87\": 107, \"27\": 1}, \"106\": {\"106\": 123, \"43\": 1}, \"35\": {\"35\": 9, \"30\": 1, \"96\": 1, \"6\": 1}, \"78\": {\"78\": 11, \"87\": 1, \"43\": 1, \"83\": 1, \"14\": 1, \"44\": 1}, \"15\": {\"15\": 98, \"39\": 1, \"40\": 2, \"111\": 1, \"69\": 1, \"21\": 1}, \"100\": {\"100\": 16}}, \"Wisig_2\": {\"91\": {\"91\": 26, \"49\": 1, \"94\": 1}, \"12\": {\"12\": 83, \"87\": 1, \"16\": 1, \"122\": 1, \"118\": 1, \"10\": 1}, \"101\": {\"101\": 147, \"94\": 1}, \"121\": {\"121\": 35, \"70\": 1}, \"118\": {\"118\": 66, \"94\": 1, \"87\": 1}, \"10\": {\"10\": 56, \"122\": 1, \"70\": 1, \"97\": 1, \"7\": 1}, \"117\": {\"117\": 118, \"15\": 1, \"44\": 1}, \"110\": {\"110\": 33, \"120\": 1, \"70\": 2, \"14\": 1, \"90\": 1, \"25\": 1, \"95\": 1}, \"97\": {\"97\": 20}, \"28\": {\"28\": 20}, \"88\": {\"88\": 118, \"118\": 1, \"24\": 1, \"43\": 1, \"3\": 2, \"70\": 1}, \"17\": {\"17\": 16}, \"126\": {\"126\": 112, \"90\": 1, \"13\": 1}, \"33\": {\"33\": 125, \"105\": 1, \"70\": 2}, \"86\": {\"86\": 32}, \"106\": {\"106\": 114, \"7\": 1, \"122\": 1, \"24\": 1, \"78\": 1, \"27\": 1, \"70\": 1}, \"54\": {\"54\": 20}, \"125\": {\"125\": 131, \"3\": 1}, \"83\": {\"83\": 39, \"0\": 1}, \"98\": {\"98\": 118, \"118\": 1, \"26\": 1}, \"11\": {\"11\": 76, \"3\": 1, \"94\": 1, \"122\": 1, \"24\": 1}, \"32\": {\"32\": 34, \"12\": 1, \"79\": 1}, \"42\": {\"42\": 28}, \"103\": {\"103\": 16}, \"87\": {\"87\": 105, \"39\": 1, \"106\": 1, \"113\": 1, \"94\": 2, \"84\": 1, \"24\": 1}, \"61\": {\"61\": 16, \"97\": 1, \"12\": 1, \"94\": 1, \"21\": 1}, \"13\": {\"13\": 13, \"61\": 1, \"14\": 1, \"98\": 1}, \"4\": {\"4\": 83, \"0\": 1, \"24\": 1, \"109\": 1}, \"15\": {\"15\": 116, \"25\": 1, \"0\": 2, \"105\": 1}, \"120\": {\"120\": 20}, \"80\": {\"80\": 16}, \"72\": {\"72\": 27, \"45\": 1}, \"64\": {\"64\": 15, \"129\": 1}, \"81\": {\"81\": 22, \"1\": 1, \"12\": 1}, \"102\": {\"102\": 112}, \"76\": {\"76\": 16}, \"49\": {\"49\": 19, \"3\": 1, \"58\": 1, \"39\": 1, \"75\": 1, \"85\": 1}, \"129\": {\"129\": 32}, \"89\": {\"89\": 34, \"15\": 1, \"37\": 1}, \"52\": {\"52\": 18, \"72\": 1, \"7\": 1}, \"35\": {\"35\": 12}, \"53\": {\"53\": 16}, \"26\": {\"26\": 124, \"87\": 1, \"129\": 1, \"24\": 1, \"10\": 1}, \"96\": {\"96\": 20}, \"27\": {\"27\": 55, \"94\": 1, \"10\": 1, \"70\": 1, \"3\": 1, \"84\": 1, \"62\": 1, \"113\": 1, \"21\": 2, \"7\": 1, \"78\": 1, \"87\": 1, \"36\": 1}, \"24\": {\"27\": 2, \"25\": 1, \"71\": 1, \"24\": 100, \"69\": 1, \"39\": 1, \"70\": 1, \"36\": 1, \"107\": 1, \"10\": 1, \"78\": 1, \"94\": 1}, \"82\": {\"82\": 32, \"15\": 2, \"87\": 1, \"7\": 1}, \"18\": {\"18\": 123, \"25\": 1, \"39\": 1, \"69\": 1, \"10\": 1, \"107\": 1}, \"69\": {\"69\": 118, \"70\": 1, \"5\": 1, \"109\": 1, \"106\": 1}, \"47\": {\"47\": 12}, \"85\": {\"85\": 32}, \"2\": {\"2\": 32}, \"67\": {\"67\": 15, \"49\": 1}, \"39\": {\"39\": 106, \"70\": 2, \"78\": 1, \"18\": 1, \"24\": 1, \"87\": 1}, \"99\": {\"99\": 32}, \"74\": {\"74\": 13, \"24\": 1, \"75\": 2}, \"105\": {\"105\": 128, \"5\": 2, \"36\": 1, \"87\": 1}, \"70\": {\"70\": 113, \"21\": 1, \"88\": 1, \"0\": 1, \"3\": 1, \"122\": 2, \"69\": 1, \"40\": 1, \"62\": 1}, \"55\": {\"55\": 16}, \"30\": {\"30\": 108, \"70\": 2, \"61\": 1, \"6\": 1}, \"60\": {\"60\": 22, \"123\": 1, \"87\": 1, \"21\": 1, \"116\": 1, \"23\": 1, \"57\": 1}, \"92\": {\"92\": 25, \"73\": 1, \"75\": 1, \"106\": 1}, \"45\": {\"45\": 15, \"70\": 1}, \"127\": {\"127\": 111, \"89\": 1}, \"9\": {\"110\": 1, \"9\": 30, \"10\": 1}, \"115\": {\"115\": 12}, \"73\": {\"73\": 28}, \"108\": {\"108\": 138}, \"114\": {\"114\": 113, \"10\": 1, \"94\": 1, \"7\": 1}, \"63\": {\"63\": 19, \"10\": 1}, \"93\": {\"93\": 128}, \"7\": {\"7\": 132}, \"31\": {\"31\": 19, \"78\": 1}, \"123\": {\"123\": 16}, \"128\": {\"128\": 19, \"111\": 1, \"114\": 1, \"21\": 1, \"30\": 1, \"52\": 1}, \"0\": {\"0\": 110, \"24\": 2, \"69\": 2, \"39\": 1, \"70\": 1}, \"3\": {\"3\": 134, \"18\": 1, \"84\": 1}, \"19\": {\"19\": 28}, \"57\": {\"57\": 19, \"47\": 1}, \"78\": {\"78\": 44, \"39\": 1, \"43\": 1, \"4\": 1, \"95\": 1}, \"95\": {\"95\": 35, \"70\": 1}, \"40\": {\"40\": 132, \"71\": 1, \"106\": 1, \"36\": 1, \"5\": 1, \"94\": 1, \"0\": 1, \"3\": 1, \"30\": 1}, \"14\": {\"14\": 41, \"83\": 1, \"10\": 1, \"18\": 1, \"122\": 1, \"88\": 1, \"94\": 2}, \"36\": {\"36\": 120, \"94\": 1, \"118\": 1, \"70\": 1, \"24\": 1, \"40\": 1, \"107\": 1, \"87\": 1, \"111\": 1}, \"56\": {\"56\": 12}, \"111\": {\"111\": 127, \"24\": 1}, \"59\": {\"59\": 14, \"106\": 1, \"24\": 1}, \"79\": {\"79\": 14, \"40\": 2}, \"62\": {\"62\": 121, \"24\": 1}, \"21\": {\"21\": 43, \"24\": 1, \"17\": 1, \"5\": 1, \"70\": 1, \"40\": 1}, \"48\": {\"48\": 20}, \"16\": {\"16\": 119, \"14\": 1, \"84\": 1, \"24\": 1, \"18\": 1, \"1\": 1}, \"50\": {\"50\": 15, \"118\": 1}, \"44\": {\"44\": 95, \"98\": 1}, \"5\": {\"5\": 109, \"12\": 1}, \"20\": {\"20\": 15, \"24\": 1}, \"1\": {\"1\": 118, \"85\": 1, \"126\": 1}, \"65\": {\"65\": 18, \"24\": 1, \"71\": 1}, \"116\": {\"116\": 28}, \"51\": {\"51\": 17, \"54\": 1, \"9\": 1, \"36\": 1}, \"75\": {\"75\": 15, \"71\": 1}, \"100\": {\"100\": 16}, \"113\": {\"113\": 72}, \"41\": {\"41\": 20}, \"29\": {\"29\": 32}, \"23\": {\"23\": 40, \"30\": 1, \"99\": 2, \"110\": 1}, \"124\": {\"124\": 122, \"21\": 1, \"117\": 1}, \"68\": {\"68\": 15, \"10\": 1}, \"71\": {\"71\": 99, \"94\": 1}, \"107\": {\"107\": 55, \"51\": 1, \"15\": 1, \"25\": 1, \"70\": 2, \"26\": 1, \"129\": 1, \"109\": 1, \"10\": 1}, \"94\": {\"94\": 63, \"110\": 1}, \"77\": {\"77\": 15, \"39\": 1}, \"8\": {\"8\": 120, \"24\": 1, \"15\": 1}, \"46\": {\"46\": 16}, \"25\": {\"25\": 14, \"59\": 1, \"61\": 1}, \"122\": {\"122\": 136, \"11\": 1, \"7\": 1, \"16\": 1, \"70\": 1}, \"58\": {\"58\": 15, \"77\": 2, \"17\": 1, \"87\": 1, \"24\": 1}, \"6\": {\"6\": 30, \"106\": 1, \"17\": 1}, \"109\": {\"109\": 96, \"3\": 1, \"24\": 1, \"70\": 2}, \"119\": {\"119\": 19, \"24\": 1}, \"34\": {\"74\": 1, \"34\": 25, \"98\": 1, \"40\": 1, \"6\": 1, \"91\": 1, \"71\": 1, \"66\": 1}, \"90\": {\"90\": 139, \"26\": 1}, \"38\": {\"38\": 16}, \"104\": {\"112\": 1, \"104\": 17, \"25\": 1, \"122\": 1}, \"84\": {\"84\": 90, \"58\": 1, \"106\": 1}, \"112\": {\"112\": 16}, \"66\": {\"66\": 17, \"107\": 1, \"71\": 1, \"27\": 1}, \"22\": {\"22\": 20}, \"37\": {\"37\": 16}, \"43\": {\"43\": 117, \"0\": 1, \"1\": 1, \"62\": 1, \"84\": 1, \"70\": 2, \"3\": 1}}, \"ORACLE.run114\": {\"15\": {\"7\": 125, \"13\": 117, \"15\": 142, \"5\": 107, \"3\": 66, \"6\": 126, \"14\": 77, \"4\": 103, \"2\": 72, \"1\": 78, \"9\": 21, \"10\": 52, \"0\": 45, \"11\": 38, \"8\": 24, \"12\": 7}, \"3\": {\"14\": 91, \"11\": 93, \"6\": 68, \"1\": 74, \"5\": 69, \"4\": 79, \"13\": 68, \"7\": 66, \"3\": 103, \"9\": 54, \"8\": 47, \"10\": 81, \"2\": 93, \"12\": 42, \"0\": 88, \"15\": 84}, \"6\": {\"11\": 56, \"5\": 85, \"2\": 114, \"4\": 88, \"7\": 73, \"3\": 73, \"14\": 123, \"6\": 116, \"9\": 27, \"13\": 125, \"10\": 77, \"0\": 59, \"15\": 102, \"1\": 50, \"12\": 11, \"8\": 21}, \"1\": {\"15\": 71, \"13\": 74, \"14\": 78, \"2\": 61, \"10\": 81, \"11\": 73, \"7\": 98, \"5\": 85, \"0\": 89, \"3\": 83, \"4\": 80, \"6\": 71, \"1\": 80, \"8\": 75, \"12\": 41, \"9\": 60}, \"8\": {\"12\": 155, \"1\": 89, \"7\": 44, \"0\": 84, \"14\": 40, \"4\": 44, \"6\": 30, \"9\": 140, \"3\": 81, \"13\": 29, \"10\": 63, \"8\": 171, \"15\": 43, \"11\": 87, \"2\": 39, \"5\": 61}, \"10\": {\"0\": 84, \"7\": 52, \"10\": 90, \"11\": 93, \"9\": 75, \"1\": 85, \"3\": 86, \"6\": 74, \"5\": 76, \"2\": 72, \"14\": 89, \"13\": 82, \"15\": 68, \"4\": 73, \"8\": 59, \"12\": 42}, \"9\": {\"11\": 98, \"9\": 186, \"8\": 150, \"4\": 42, \"12\": 190, \"14\": 40, \"5\": 46, \"0\": 102, \"1\": 57, \"10\": 62, \"15\": 21, \"3\": 83, \"7\": 30, \"2\": 38, \"6\": 28, \"13\": 27}, \"13\": {\"7\": 72, \"13\": 128, \"15\": 107, \"6\": 151, \"1\": 65, \"10\": 67, \"2\": 108, \"3\": 74, \"14\": 119, \"4\": 69, \"8\": 23, \"0\": 58, \"9\": 23, \"11\": 48, \"5\": 80, \"12\": 8}, \"12\": {\"5\": 32, \"15\": 9, \"6\": 20, \"8\": 178, \"12\": 309, \"9\": 213, \"13\": 14, \"0\": 68, \"4\": 31, \"1\": 49, \"3\": 65, \"14\": 25, \"10\": 53, \"11\": 102, \"2\": 17, \"7\": 15}, \"5\": {\"4\": 78, \"9\": 46, \"15\": 82, \"1\": 79, \"8\": 61, \"5\": 104, \"12\": 30, \"7\": 85, \"14\": 73, \"3\": 81, \"0\": 74, \"6\": 82, \"11\": 68, \"13\": 83, \"2\": 93, \"10\": 81}, \"0\": {\"9\": 100, \"11\": 96, \"8\": 76, \"0\": 120, \"6\": 61, \"14\": 76, \"2\": 75, \"13\": 59, \"7\": 52, \"3\": 69, \"10\": 100, \"5\": 63, \"15\": 49, \"12\": 57, \"4\": 69, \"1\": 78}, \"2\": {\"15\": 97, \"0\": 73, \"10\": 77, \"13\": 103, \"5\": 77, \"3\": 103, \"1\": 74, \"11\": 64, \"7\": 74, \"14\": 99, \"6\": 111, \"4\": 81, \"9\": 22, \"2\": 100, \"8\": 36, \"12\": 9}, \"11\": {\"15\": 47, \"8\": 75, \"6\": 63, \"0\": 92, \"7\": 39, \"9\": 83, \"5\": 71, \"14\": 88, \"2\": 66, \"11\": 117, \"4\": 72, \"1\": 66, \"3\": 95, \"12\": 77, \"13\": 55, \"10\": 94}, \"14\": {\"0\": 88, \"9\": 26, \"11\": 65, \"13\": 95, \"10\": 75, \"4\": 90, \"2\": 106, \"7\": 59, \"15\": 91, \"14\": 116, \"1\": 68, \"12\": 17, \"6\": 107, \"8\": 23, \"5\": 78, \"3\": 96}, \"7\": {\"15\": 109, \"5\": 119, \"7\": 149, \"3\": 80, \"10\": 63, \"6\": 82, \"1\": 73, \"0\": 49, \"14\": 73, \"2\": 97, \"13\": 77, \"4\": 88, \"8\": 45, \"11\": 41, \"9\": 34, \"12\": 21}, \"4\": {\"7\": 91, \"13\": 85, \"4\": 86, \"5\": 81, \"15\": 81, \"2\": 81, \"6\": 74, \"3\": 92, \"11\": 72, \"14\": 80, \"1\": 79, \"10\": 78, \"8\": 69, \"9\": 60, \"0\": 67, \"12\": 24}}, \"ORACLE.run120\": {\"3\": {\"12\": 91, \"8\": 64, \"1\": 80, \"0\": 74, \"4\": 78, \"13\": 72, \"9\": 56, \"7\": 78, \"10\": 83, \"2\": 67, \"5\": 80, \"15\": 81, \"11\": 72, \"14\": 78, \"3\": 83, \"6\": 63}, \"15\": {\"15\": 93, \"2\": 89, \"12\": 74, \"13\": 86, \"6\": 54, \"0\": 106, \"3\": 66, \"5\": 77, \"1\": 92, \"10\": 50, \"4\": 72, \"7\": 65, \"9\": 92, \"11\": 73, \"8\": 60, \"14\": 51}, \"8\": {\"8\": 90, \"14\": 111, \"1\": 67, \"13\": 57, \"0\": 63, \"15\": 63, \"9\": 59, \"2\": 70, \"11\": 74, \"6\": 100, \"3\": 81, \"12\": 73, \"4\": 89, \"5\": 57, \"10\": 89, \"7\": 57}, \"4\": {\"10\": 99, \"6\": 82, \"9\": 82, \"8\": 74, \"7\": 92, \"0\": 86, \"15\": 58, \"3\": 81, \"12\": 59, \"2\": 67, \"1\": 52, \"14\": 79, \"5\": 70, \"13\": 68, \"11\": 62, \"4\": 89}, \"14\": {\"9\": 53, \"2\": 78, \"14\": 114, \"8\": 107, \"10\": 118, \"7\": 73, \"15\": 45, \"12\": 68, \"6\": 105, \"11\": 78, \"4\": 93, \"1\": 54, \"3\": 74, \"5\": 61, \"13\": 41, \"0\": 38}, \"0\": {\"13\": 82, \"4\": 84, \"10\": 64, \"14\": 58, \"2\": 72, \"8\": 62, \"15\": 87, \"3\": 82, \"12\": 70, \"9\": 78, \"7\": 72, \"5\": 96, \"6\": 66, \"0\": 93, \"1\": 79, \"11\": 55}, \"7\": {\"2\": 87, \"13\": 76, \"10\": 73, \"6\": 85, \"4\": 70, \"11\": 83, \"9\": 74, \"14\": 74, \"3\": 85, \"15\": 64, \"5\": 69, \"8\": 70, \"1\": 64, \"0\": 76, \"7\": 80, \"12\": 70}, \"6\": {\"6\": 102, \"9\": 69, \"8\": 91, \"15\": 41, \"2\": 86, \"14\": 127, \"10\": 106, \"12\": 59, \"4\": 85, \"0\": 66, \"5\": 64, \"7\": 70, \"13\": 46, \"11\": 62, \"3\": 82, \"1\": 44}, \"10\": {\"6\": 99, \"8\": 97, \"9\": 68, \"5\": 71, \"7\": 76, \"10\": 107, \"4\": 105, \"15\": 51, \"11\": 54, \"2\": 65, \"3\": 80, \"0\": 75, \"14\": 97, \"13\": 43, \"12\": 58, \"1\": 54}, \"5\": {\"4\": 61, \"15\": 95, \"3\": 70, \"11\": 61, \"14\": 75, \"1\": 78, \"0\": 86, \"5\": 81, \"9\": 86, \"8\": 72, \"12\": 72, \"7\": 84, \"2\": 71, \"6\": 70, \"13\": 75, \"10\": 63}, \"2\": {\"6\": 72, \"14\": 68, \"5\": 85, \"1\": 84, \"10\": 70, \"4\": 73, \"8\": 69, \"13\": 89, \"3\": 83, \"9\": 82, \"12\": 69, \"0\": 77, \"2\": 77, \"15\": 71, \"11\": 71, \"7\": 60}, \"12\": {\"9\": 75, \"1\": 78, \"6\": 69, \"5\": 63, \"13\": 62, \"12\": 76, \"14\": 63, \"8\": 69, \"10\": 57, \"4\": 96, \"11\": 84, \"7\": 78, \"2\": 70, \"0\": 93, \"15\": 70, \"3\": 97}, \"9\": {\"15\": 67, \"3\": 86, \"8\": 77, \"10\": 59, \"1\": 74, \"5\": 65, \"14\": 57, \"2\": 86, \"11\": 87, \"13\": 84, \"12\": 66, \"9\": 78, \"6\": 78, \"7\": 77, \"0\": 85, \"4\": 74}, \"1\": {\"13\": 91, \"4\": 66, \"9\": 86, \"14\": 46, \"1\": 81, \"11\": 71, \"8\": 72, \"7\": 71, \"10\": 68, \"3\": 75, \"5\": 91, \"15\": 71, \"12\": 84, \"2\": 75, \"0\": 95, \"6\": 57}, \"11\": {\"13\": 86, \"15\": 90, \"3\": 78, \"8\": 58, \"5\": 67, \"6\": 74, \"12\": 72, \"0\": 73, \"11\": 91, \"2\": 84, \"14\": 63, \"1\": 69, \"10\": 55, \"7\": 90, \"4\": 71, \"9\": 79}, \"13\": {\"12\": 73, \"7\": 88, \"13\": 99, \"2\": 89, \"0\": 80, \"15\": 101, \"5\": 86, \"9\": 87, \"4\": 56, \"1\": 100, \"3\": 74, \"14\": 43, \"10\": 45, \"6\": 48, \"8\": 68, \"11\": 63}}, \"ORACLE.run138\": {\"5\": {\"15\": 62, \"1\": 77, \"10\": 85, \"2\": 56, \"8\": 98, \"7\": 101, \"9\": 96, \"5\": 99, \"14\": 52, \"12\": 49, \"0\": 98, \"11\": 36, \"3\": 86, \"13\": 75, \"6\": 81, \"4\": 49}, \"8\": {\"8\": 94, \"5\": 86, \"11\": 45, \"10\": 96, \"7\": 99, \"12\": 74, \"0\": 97, \"2\": 44, \"15\": 91, \"1\": 57, \"13\": 64, \"6\": 106, \"3\": 77, \"4\": 43, \"14\": 55, \"9\": 72}, \"11\": {\"15\": 85, \"11\": 189, \"2\": 114, \"9\": 20, \"8\": 62, \"5\": 46, \"7\": 48, \"10\": 105, \"14\": 149, \"13\": 72, \"12\": 89, \"0\": 40, \"1\": 53, \"4\": 80, \"6\": 30, \"3\": 18}, \"1\": {\"13\": 122, \"9\": 85, \"15\": 151, \"2\": 106, \"5\": 88, \"1\": 178, \"11\": 38, \"6\": 107, \"8\": 65, \"3\": 45, \"12\": 18, \"7\": 33, \"10\": 59, \"14\": 52, \"4\": 11, \"0\": 42}, \"10\": {\"4\": 70, \"1\": 58, \"11\": 92, \"15\": 69, \"12\": 85, \"0\": 74, \"7\": 97, \"9\": 50, \"6\": 52, \"10\": 100, \"8\": 80, \"13\": 75, \"5\": 84, \"3\": 51, \"14\": 92, \"2\": 71}, \"15\": {\"6\": 92, \"2\": 123, \"14\": 83, \"13\": 107, \"15\": 97, \"9\": 60, \"1\": 111, \"7\": 59, \"10\": 88, \"3\": 54, \"12\": 30, \"8\": 80, \"0\": 59, \"5\": 82, \"11\": 62, \"4\": 13}, \"3\": {\"3\": 199, \"6\": 101, \"9\": 107, \"5\": 106, \"1\": 39, \"8\": 103, \"15\": 57, \"7\": 126, \"0\": 130, \"12\": 39, \"14\": 29, \"10\": 50, \"4\": 39, \"2\": 23, \"13\": 41, \"11\": 11}, \"7\": {\"15\": 50, \"3\": 99, \"11\": 51, \"10\": 100, \"7\": 145, \"12\": 93, \"6\": 65, \"0\": 130, \"13\": 39, \"14\": 43, \"8\": 74, \"5\": 99, \"2\": 24, \"4\": 83, \"9\": 74, \"1\": 31}, \"4\": {\"12\": 259, \"4\": 353, \"0\": 74, \"10\": 79, \"8\": 48, \"14\": 65, \"7\": 91, \"5\": 33, \"6\": 21, \"11\": 79, \"9\": 16, \"3\": 34, \"13\": 16, \"15\": 20, \"2\": 7, \"1\": 5}, \"14\": {\"1\": 72, \"5\": 66, \"12\": 97, \"10\": 111, \"15\": 69, \"2\": 114, \"11\": 160, \"3\": 28, \"6\": 32, \"13\": 76, \"7\": 45, \"14\": 147, \"4\": 48, \"8\": 55, \"0\": 53, \"9\": 27}, \"9\": {\"5\": 111, \"1\": 87, \"2\": 52, \"10\": 50, \"9\": 119, \"7\": 91, \"15\": 89, \"6\": 104, \"0\": 101, \"13\": 79, \"3\": 112, \"8\": 107, \"12\": 25, \"11\": 24, \"4\": 17, \"14\": 32}, \"12\": {\"4\": 248, \"0\": 71, \"12\": 249, \"11\": 75, \"14\": 79, \"3\": 35, \"8\": 63, \"7\": 108, \"6\": 30, \"10\": 79, \"2\": 22, \"1\": 14, \"5\": 57, \"15\": 30, \"9\": 15, \"13\": 25}, \"6\": {\"1\": 96, \"8\": 83, \"11\": 19, \"2\": 65, \"14\": 45, \"7\": 71, \"10\": 67, \"6\": 129, \"4\": 15, \"9\": 136, \"12\": 36, \"15\": 92, \"13\": 84, \"5\": 111, \"3\": 83, \"0\": 68}, \"2\": {\"1\": 134, \"10\": 86, \"13\": 136, \"5\": 75, \"7\": 32, \"8\": 78, \"4\": 17, \"11\": 84, \"15\": 117, \"0\": 35, \"6\": 52, \"2\": 171, \"12\": 27, \"9\": 40, \"14\": 97, \"3\": 19}, \"0\": {\"2\": 28, \"5\": 85, \"0\": 123, \"8\": 97, \"9\": 81, \"1\": 42, \"3\": 91, \"11\": 52, \"6\": 60, \"14\": 32, \"12\": 101, \"7\": 132, \"13\": 42, \"4\": 77, \"15\": 71, \"10\": 86}, \"13\": {\"8\": 74, \"14\": 74, \"1\": 129, \"10\": 78, \"7\": 44, \"5\": 81, \"13\": 133, \"2\": 123, \"15\": 117, \"3\": 35, \"0\": 51, \"4\": 20, \"12\": 34, \"6\": 77, \"9\": 70, \"11\": 60}}, \"ORACLE.run18\": {\"9\": {\"9\": 647, \"13\": 79, \"7\": 29, \"1\": 31, \"5\": 96, \"6\": 33, \"0\": 56, \"10\": 74, \"4\": 44, \"14\": 55, \"11\": 20, \"2\": 5, \"3\": 9, \"15\": 6, \"8\": 10, \"12\": 6}, \"10\": {\"9\": 57, \"13\": 93, \"0\": 77, \"7\": 74, \"14\": 85, \"6\": 93, \"5\": 102, \"1\": 83, \"11\": 73, \"4\": 102, \"8\": 55, \"2\": 67, \"15\": 51, \"10\": 98, \"3\": 47, \"12\": 43}, \"13\": {\"3\": 59, \"12\": 54, \"0\": 97, \"4\": 68, \"10\": 99, \"13\": 89, \"1\": 66, \"8\": 77, \"5\": 91, \"15\": 65, \"11\": 74, \"14\": 91, \"2\": 62, \"7\": 76, \"9\": 39, \"6\": 93}, \"0\": {\"6\": 96, \"3\": 45, \"13\": 103, \"1\": 74, \"5\": 87, \"0\": 91, \"10\": 105, \"4\": 82, \"9\": 33, \"14\": 93, \"2\": 62, \"12\": 59, \"7\": 89, \"15\": 54, \"8\": 58, \"11\": 69}, \"1\": {\"13\": 83, \"8\": 73, \"4\": 96, \"15\": 83, \"0\": 76, \"1\": 88, \"6\": 77, \"5\": 94, \"10\": 86, \"11\": 85, \"12\": 72, \"9\": 17, \"3\": 51, \"7\": 74, \"14\": 80, \"2\": 65}, \"15\": {\"3\": 105, \"11\": 81, \"7\": 71, \"1\": 76, \"2\": 92, \"14\": 64, \"5\": 51, \"8\": 124, \"0\": 48, \"12\": 125, \"15\": 134, \"6\": 76, \"10\": 46, \"4\": 56, \"13\": 48, \"9\": 3}, \"5\": {\"7\": 61, \"8\": 57, \"10\": 106, \"1\": 101, \"15\": 51, \"14\": 108, \"2\": 55, \"12\": 50, \"9\": 71, \"4\": 81, \"5\": 125, \"0\": 84, \"11\": 60, \"6\": 68, \"3\": 46, \"13\": 76}, \"3\": {\"2\": 118, \"11\": 65, \"5\": 52, \"15\": 127, \"12\": 131, \"14\": 68, \"6\": 60, \"8\": 112, \"1\": 60, \"0\": 52, \"10\": 48, \"13\": 58, \"3\": 109, \"7\": 67, \"4\": 67, \"9\": 6}, \"6\": {\"7\": 94, \"11\": 86, \"14\": 91, \"10\": 79, \"4\": 96, \"3\": 69, \"13\": 76, \"0\": 88, \"8\": 83, \"6\": 73, \"12\": 58, \"2\": 69, \"15\": 78, \"1\": 78, \"5\": 65, \"9\": 17}, \"11\": {\"5\": 90, \"7\": 80, \"3\": 77, \"8\": 98, \"1\": 75, \"14\": 74, \"11\": 97, \"10\": 84, \"15\": 81, \"12\": 79, \"6\": 77, \"2\": 61, \"0\": 57, \"13\": 74, \"4\": 77, \"9\": 19}, \"8\": {\"3\": 93, \"5\": 51, \"14\": 67, \"6\": 70, \"2\": 78, \"0\": 73, \"11\": 80, \"8\": 101, \"7\": 83, \"15\": 115, \"13\": 64, \"1\": 86, \"4\": 68, \"10\": 57, \"12\": 111, \"9\": 3}, \"4\": {\"15\": 74, \"3\": 61, \"6\": 97, \"2\": 76, \"0\": 71, \"9\": 39, \"12\": 76, \"13\": 86, \"5\": 73, \"14\": 84, \"10\": 80, \"7\": 77, \"8\": 71, \"11\": 73, \"1\": 75, \"4\": 87}, \"12\": {\"3\": 101, \"15\": 134, \"5\": 43, \"6\": 78, \"2\": 107, \"8\": 118, \"13\": 46, \"1\": 70, \"4\": 57, \"10\": 39, \"0\": 47, \"12\": 150, \"7\": 66, \"14\": 60, \"11\": 78, \"9\": 6}, \"14\": {\"13\": 92, \"3\": 56, \"5\": 83, \"11\": 73, \"9\": 44, \"10\": 81, \"1\": 75, \"12\": 63, \"6\": 70, \"8\": 68, \"2\": 63, \"15\": 77, \"0\": 92, \"14\": 87, \"7\": 88, \"4\": 88}, \"2\": {\"3\": 105, \"13\": 64, \"2\": 106, \"7\": 79, \"14\": 60, \"6\": 76, \"11\": 81, \"0\": 79, \"15\": 110, \"8\": 87, \"9\": 11, \"4\": 66, \"1\": 61, \"12\": 98, \"5\": 63, \"10\": 54}, \"7\": {\"14\": 60, \"4\": 85, \"0\": 72, \"3\": 100, \"11\": 80, \"12\": 87, \"5\": 76, \"2\": 77, \"1\": 69, \"13\": 69, \"7\": 80, \"6\": 93, \"15\": 79, \"8\": 68, \"9\": 31, \"10\": 74}}, \"ORACLE.run150\": {\"7\": {\"13\": 105, \"9\": 56, \"14\": 56, \"1\": 87, \"11\": 72, \"10\": 87, \"6\": 99, \"3\": 59, \"15\": 83, \"8\": 48, \"5\": 101, \"4\": 83, \"2\": 48, \"7\": 106, \"12\": 48, \"0\": 62}, \"3\": {\"2\": 101, \"3\": 292, \"0\": 114, \"13\": 54, \"6\": 38, \"8\": 223, \"10\": 136, \"12\": 11, \"4\": 32, \"14\": 27, \"5\": 57, \"7\": 64, \"1\": 17, \"15\": 14, \"9\": 6, \"11\": 14}, \"8\": {\"0\": 142, \"3\": 219, \"8\": 218, \"10\": 154, \"13\": 71, \"2\": 116, \"7\": 44, \"11\": 15, \"14\": 38, \"5\": 44, \"4\": 31, \"15\": 13, \"6\": 37, \"12\": 14, \"9\": 12, \"1\": 32}, \"2\": {\"15\": 37, \"7\": 61, \"14\": 79, \"13\": 62, \"10\": 108, \"0\": 172, \"8\": 123, \"3\": 88, \"2\": 148, \"12\": 68, \"4\": 48, \"1\": 45, \"11\": 25, \"5\": 52, \"6\": 51, \"9\": 33}, \"14\": {\"2\": 101, \"11\": 96, \"7\": 85, \"1\": 78, \"13\": 57, \"8\": 44, \"14\": 102, \"12\": 103, \"5\": 46, \"15\": 83, \"0\": 73, \"9\": 94, \"3\": 25, \"6\": 83, \"10\": 67, \"4\": 63}, \"4\": {\"14\": 72, \"10\": 47, \"12\": 70, \"5\": 92, \"15\": 106, \"13\": 100, \"7\": 92, \"9\": 108, \"4\": 113, \"1\": 90, \"6\": 100, \"2\": 34, \"0\": 36, \"3\": 23, \"11\": 101, \"8\": 16}, \"6\": {\"7\": 89, \"11\": 86, \"9\": 69, \"14\": 66, \"0\": 52, \"13\": 90, \"4\": 128, \"2\": 36, \"6\": 111, \"10\": 57, \"5\": 111, \"1\": 101, \"15\": 98, \"12\": 55, \"3\": 22, \"8\": 29}, \"15\": {\"10\": 39, \"5\": 106, \"2\": 25, \"4\": 105, \"15\": 124, \"13\": 98, \"11\": 117, \"14\": 58, \"12\": 63, \"9\": 115, \"1\": 124, \"7\": 73, \"6\": 113, \"0\": 25, \"8\": 10, \"3\": 5}, \"10\": {\"4\": 48, \"14\": 60, \"0\": 111, \"10\": 136, \"7\": 71, \"2\": 105, \"3\": 120, \"9\": 44, \"1\": 50, \"8\": 142, \"5\": 77, \"11\": 33, \"12\": 34, \"6\": 65, \"15\": 36, \"13\": 68}, \"11\": {\"9\": 151, \"15\": 125, \"4\": 91, \"5\": 90, \"11\": 147, \"10\": 38, \"14\": 72, \"1\": 110, \"13\": 71, \"0\": 25, \"6\": 98, \"12\": 98, \"7\": 48, \"2\": 25, \"3\": 8, \"8\": 3}, \"13\": {\"2\": 61, \"9\": 64, \"15\": 89, \"10\": 76, \"13\": 121, \"4\": 94, \"3\": 39, \"8\": 51, \"1\": 85, \"6\": 85, \"14\": 74, \"5\": 97, \"7\": 103, \"11\": 58, \"12\": 35, \"0\": 68}, \"9\": {\"14\": 88, \"5\": 72, \"4\": 88, \"13\": 65, \"2\": 30, \"7\": 56, \"9\": 155, \"6\": 91, \"15\": 118, \"11\": 153, \"12\": 102, \"0\": 30, \"10\": 28, \"1\": 105, \"8\": 11, \"3\": 8}, \"0\": {\"0\": 128, \"4\": 53, \"7\": 65, \"2\": 140, \"8\": 159, \"6\": 55, \"10\": 141, \"11\": 30, \"14\": 67, \"3\": 86, \"5\": 57, \"9\": 31, \"12\": 48, \"13\": 64, \"15\": 31, \"1\": 45}, \"1\": {\"9\": 81, \"3\": 18, \"7\": 92, \"11\": 100, \"12\": 67, \"15\": 92, \"13\": 98, \"4\": 103, \"1\": 106, \"6\": 99, \"5\": 97, \"2\": 52, \"0\": 41, \"10\": 57, \"14\": 76, \"8\": 21}, \"12\": {\"10\": 54, \"15\": 60, \"12\": 131, \"4\": 73, \"9\": 116, \"1\": 97, \"8\": 31, \"3\": 18, \"14\": 123, \"13\": 59, \"6\": 62, \"0\": 81, \"2\": 85, \"11\": 98, \"7\": 52, \"5\": 60}, \"5\": {\"11\": 90, \"15\": 89, \"1\": 104, \"4\": 98, \"7\": 95, \"13\": 109, \"12\": 38, \"6\": 83, \"10\": 84, \"9\": 63, \"14\": 60, \"3\": 30, \"5\": 101, \"0\": 57, \"8\": 45, \"2\": 54}}, \"ORACLE.run132\": {\"8\": {\"3\": 114, \"15\": 101, \"4\": 97, \"8\": 106, \"2\": 77, \"7\": 107, \"5\": 123, \"14\": 103, \"0\": 113, \"12\": 10, \"9\": 47, \"13\": 100, \"11\": 100, \"6\": 2}, \"14\": {\"11\": 131, \"15\": 61, \"0\": 127, \"12\": 14, \"7\": 92, \"14\": 133, \"13\": 75, \"4\": 109, \"8\": 91, \"2\": 111, \"9\": 47, \"3\": 108, \"5\": 92, \"10\": 6, \"6\": 3}, \"2\": {\"13\": 89, \"8\": 81, \"11\": 92, \"2\": 161, \"4\": 128, \"7\": 109, \"0\": 103, \"15\": 27, \"9\": 93, \"5\": 92, \"12\": 52, \"3\": 61, \"14\": 89, \"10\": 11, \"6\": 11, \"1\": 1}, \"0\": {\"5\": 101, \"0\": 107, \"3\": 100, \"12\": 39, \"13\": 124, \"4\": 119, \"9\": 75, \"15\": 43, \"11\": 114, \"14\": 86, \"7\": 91, \"8\": 93, \"2\": 98, \"10\": 7, \"1\": 1, \"6\": 2}, \"1\": {\"12\": 63, \"1\": 480, \"6\": 301, \"10\": 311, \"4\": 3, \"14\": 2, \"9\": 32, \"15\": 1, \"2\": 3, \"8\": 1, \"11\": 2, \"13\": 1}, \"10\": {\"1\": 251, \"6\": 233, \"10\": 340, \"12\": 207, \"9\": 86, \"15\": 8, \"3\": 4, \"2\": 18, \"0\": 10, \"4\": 7, \"8\": 7, \"14\": 6, \"11\": 6, \"7\": 5, \"5\": 5, \"13\": 7}, \"11\": {\"13\": 104, \"15\": 58, \"14\": 130, \"5\": 116, \"4\": 99, \"0\": 97, \"7\": 103, \"3\": 87, \"11\": 145, \"8\": 105, \"9\": 43, \"2\": 86, \"10\": 3, \"12\": 21, \"6\": 3}, \"5\": {\"5\": 94, \"13\": 124, \"0\": 118, \"3\": 110, \"14\": 110, \"4\": 111, \"10\": 5, \"7\": 95, \"9\": 45, \"8\": 103, \"2\": 96, \"11\": 97, \"12\": 24, \"15\": 68}, \"15\": {\"13\": 114, \"7\": 52, \"15\": 351, \"3\": 161, \"8\": 129, \"14\": 68, \"9\": 8, \"5\": 77, \"4\": 63, \"12\": 9, \"11\": 62, \"0\": 72, \"2\": 34}, \"3\": {\"8\": 137, \"3\": 162, \"15\": 131, \"11\": 99, \"13\": 102, \"4\": 91, \"0\": 93, \"14\": 83, \"7\": 93, \"5\": 118, \"2\": 67, \"9\": 16, \"12\": 8}, \"12\": {\"9\": 219, \"12\": 271, \"7\": 41, \"2\": 56, \"8\": 23, \"15\": 9, \"6\": 106, \"10\": 176, \"13\": 30, \"5\": 28, \"3\": 12, \"1\": 59, \"0\": 51, \"11\": 25, \"4\": 59, \"14\": 35}, \"7\": {\"0\": 122, \"4\": 104, \"11\": 112, \"2\": 117, \"7\": 120, \"14\": 108, \"5\": 105, \"9\": 68, \"3\": 81, \"13\": 106, \"12\": 33, \"15\": 37, \"8\": 73, \"10\": 7, \"6\": 7}, \"13\": {\"15\": 80, \"5\": 101, \"14\": 101, \"3\": 106, \"11\": 109, \"0\": 108, \"4\": 107, \"9\": 52, \"2\": 79, \"7\": 101, \"12\": 21, \"8\": 120, \"13\": 112, \"10\": 3}, \"6\": {\"12\": 134, \"10\": 266, \"1\": 301, \"9\": 79, \"6\": 386, \"13\": 3, \"15\": 2, \"8\": 1, \"14\": 3, \"3\": 2, \"7\": 3, \"11\": 1, \"4\": 6, \"2\": 6, \"0\": 4, \"5\": 3}, \"4\": {\"7\": 98, \"13\": 91, \"9\": 103, \"4\": 112, \"11\": 81, \"8\": 87, \"2\": 124, \"5\": 116, \"3\": 86, \"10\": 7, \"14\": 88, \"0\": 118, \"15\": 37, \"12\": 52}, \"9\": {\"12\": 179, \"14\": 62, \"9\": 212, \"2\": 104, \"5\": 49, \"3\": 33, \"4\": 75, \"6\": 78, \"13\": 52, \"0\": 77, \"7\": 61, \"10\": 94, \"8\": 52, \"11\": 40, \"1\": 20, \"15\": 12}}, \"ORACLE.run126\": {\"4\": {\"4\": 88, \"0\": 88, \"15\": 72, \"7\": 91, \"6\": 72, \"3\": 90, \"12\": 42, \"1\": 114, \"13\": 57, \"9\": 65, \"10\": 96, \"14\": 94, \"5\": 52, \"8\": 84, \"11\": 19, \"2\": 76}, \"12\": {\"12\": 142, \"9\": 73, \"5\": 78, \"11\": 132, \"7\": 46, \"15\": 72, \"2\": 61, \"1\": 58, \"8\": 81, \"3\": 34, \"13\": 103, \"0\": 64, \"6\": 86, \"10\": 63, \"14\": 50, \"4\": 57}, \"10\": {\"7\": 68, \"6\": 83, \"9\": 69, \"3\": 70, \"13\": 49, \"10\": 83, \"5\": 72, \"15\": 68, \"1\": 113, \"12\": 70, \"0\": 76, \"2\": 82, \"11\": 32, \"14\": 89, \"8\": 84, \"4\": 92}, \"0\": {\"15\": 80, \"3\": 83, \"2\": 80, \"12\": 48, \"14\": 80, \"7\": 99, \"9\": 54, \"5\": 58, \"4\": 105, \"1\": 105, \"8\": 90, \"13\": 53, \"6\": 68, \"11\": 27, \"10\": 82, \"0\": 88}, \"13\": {\"5\": 93, \"8\": 82, \"13\": 95, \"0\": 37, \"10\": 69, \"14\": 62, \"15\": 77, \"1\": 62, \"4\": 54, \"6\": 79, \"3\": 68, \"9\": 94, \"7\": 63, \"11\": 105, \"12\": 96, \"2\": 64}, \"9\": {\"0\": 72, \"8\": 81, \"1\": 76, \"2\": 66, \"12\": 68, \"7\": 82, \"6\": 82, \"3\": 79, \"15\": 88, \"13\": 81, \"14\": 68, \"5\": 87, \"9\": 96, \"10\": 75, \"4\": 61, \"11\": 38}, \"3\": {\"6\": 86, \"4\": 71, \"2\": 87, \"10\": 81, \"1\": 87, \"14\": 82, \"3\": 87, \"7\": 90, \"13\": 57, \"11\": 20, \"9\": 76, \"5\": 65, \"15\": 80, \"0\": 106, \"12\": 45, \"8\": 80}, \"2\": {\"8\": 77, \"15\": 74, \"10\": 68, \"6\": 76, \"1\": 88, \"5\": 71, \"4\": 90, \"13\": 67, \"2\": 95, \"14\": 76, \"7\": 83, \"9\": 77, \"11\": 34, \"12\": 58, \"0\": 80, \"3\": 86}, \"5\": {\"11\": 70, \"14\": 51, \"9\": 78, \"4\": 71, \"15\": 95, \"10\": 78, \"8\": 85, \"2\": 75, \"5\": 84, \"12\": 89, \"6\": 72, \"13\": 76, \"7\": 61, \"0\": 65, \"1\": 76, \"3\": 74}, \"14\": {\"10\": 96, \"7\": 85, \"3\": 71, \"0\": 81, \"2\": 69, \"5\": 73, \"4\": 99, \"13\": 42, \"1\": 120, \"8\": 102, \"12\": 47, \"14\": 94, \"6\": 62, \"9\": 78, \"15\": 66, \"11\": 15}, \"8\": {\"14\": 84, \"8\": 81, \"5\": 73, \"9\": 71, \"6\": 83, \"3\": 68, \"13\": 77, \"1\": 79, \"0\": 83, \"4\": 75, \"7\": 78, \"15\": 83, \"11\": 34, \"12\": 66, \"10\": 90, \"2\": 75}, \"7\": {\"1\": 88, \"12\": 51, \"14\": 86, \"13\": 47, \"8\": 91, \"4\": 95, \"9\": 77, \"3\": 91, \"0\": 90, \"6\": 81, \"10\": 66, \"15\": 80, \"5\": 65, \"2\": 88, \"7\": 80, \"11\": 24}, \"6\": {\"7\": 67, \"5\": 99, \"4\": 69, \"3\": 66, \"14\": 70, \"13\": 79, \"8\": 79, \"9\": 80, \"1\": 71, \"2\": 72, \"6\": 79, \"12\": 72, \"0\": 75, \"10\": 93, \"15\": 76, \"11\": 53}, \"11\": {\"6\": 79, \"11\": 396, \"5\": 85, \"13\": 124, \"8\": 37, \"14\": 22, \"2\": 43, \"9\": 66, \"0\": 25, \"4\": 18, \"12\": 152, \"10\": 31, \"15\": 61, \"3\": 21, \"7\": 21, \"1\": 19}, \"15\": {\"3\": 68, \"6\": 83, \"15\": 81, \"9\": 76, \"14\": 68, \"8\": 81, \"2\": 82, \"7\": 79, \"5\": 83, \"12\": 86, \"1\": 65, \"13\": 85, \"10\": 81, \"0\": 63, \"4\": 69, \"11\": 50}, \"1\": {\"1\": 102, \"8\": 83, \"7\": 117, \"10\": 90, \"6\": 76, \"2\": 66, \"14\": 88, \"4\": 112, \"0\": 110, \"9\": 62, \"3\": 89, \"13\": 37, \"12\": 33, \"15\": 58, \"5\": 52, \"11\": 25}}, \"ORACLE.run144\": {\"12\": {\"3\": 132, \"10\": 115, \"9\": 108, \"13\": 88, \"11\": 53, \"2\": 105, \"12\": 142, \"7\": 117, \"15\": 23, \"6\": 78, \"1\": 125, \"4\": 52, \"14\": 29, \"5\": 19, \"8\": 5, \"0\": 9}, \"7\": {\"7\": 113, \"0\": 8, \"2\": 93, \"9\": 102, \"1\": 101, \"6\": 124, \"10\": 117, \"8\": 5, \"14\": 44, \"13\": 126, \"12\": 95, \"5\": 20, \"11\": 97, \"4\": 56, \"3\": 87, \"15\": 12}, \"5\": {\"11\": 23, \"0\": 185, \"1\": 23, \"5\": 162, \"15\": 162, \"8\": 158, \"4\": 118, \"14\": 156, \"13\": 37, \"3\": 33, \"12\": 15, \"7\": 35, \"6\": 19, \"2\": 22, \"9\": 37, \"10\": 15}, \"15\": {\"0\": 200, \"15\": 202, \"8\": 180, \"7\": 21, \"5\": 155, \"14\": 142, \"4\": 113, \"3\": 44, \"11\": 16, \"10\": 15, \"1\": 33, \"13\": 19, \"9\": 21, \"12\": 15, \"6\": 14, \"2\": 10}, \"8\": {\"5\": 175, \"0\": 286, \"8\": 298, \"15\": 180, \"14\": 108, \"4\": 60, \"11\": 4, \"3\": 22, \"13\": 10, \"1\": 16, \"7\": 13, \"6\": 3, \"9\": 9, \"2\": 4, \"12\": 7, \"10\": 5}, \"2\": {\"10\": 116, \"1\": 116, \"6\": 118, \"7\": 112, \"3\": 84, \"13\": 120, \"11\": 91, \"2\": 137, \"12\": 97, \"14\": 24, \"9\": 104, \"4\": 51, \"0\": 6, \"5\": 14, \"15\": 8, \"8\": 2}, \"13\": {\"14\": 51, \"9\": 130, \"6\": 146, \"2\": 103, \"11\": 141, \"12\": 74, \"13\": 127, \"7\": 105, \"3\": 60, \"1\": 64, \"4\": 71, \"5\": 28, \"15\": 12, \"10\": 72, \"8\": 8, \"0\": 8}, \"4\": {\"4\": 157, \"3\": 53, \"5\": 124, \"7\": 67, \"0\": 85, \"10\": 37, \"2\": 54, \"13\": 56, \"15\": 102, \"12\": 40, \"1\": 49, \"14\": 139, \"9\": 73, \"6\": 64, \"11\": 45, \"8\": 55}, \"0\": {\"8\": 267, \"4\": 89, \"5\": 167, \"15\": 194, \"0\": 244, \"3\": 29, \"14\": 113, \"10\": 9, \"9\": 14, \"13\": 10, \"1\": 15, \"12\": 8, \"7\": 12, \"11\": 13, \"6\": 9, \"2\": 7}, \"6\": {\"6\": 167, \"9\": 126, \"13\": 138, \"1\": 67, \"14\": 46, \"15\": 7, \"7\": 117, \"4\": 40, \"10\": 101, \"2\": 121, \"11\": 142, \"5\": 11, \"12\": 62, \"3\": 52, \"8\": 2, \"0\": 1}, \"9\": {\"1\": 80, \"7\": 101, \"10\": 94, \"12\": 112, \"6\": 118, \"13\": 123, \"3\": 77, \"2\": 120, \"9\": 108, \"14\": 41, \"11\": 88, \"4\": 88, \"5\": 22, \"15\": 21, \"8\": 2, \"0\": 5}, \"11\": {\"1\": 66, \"11\": 220, \"9\": 108, \"4\": 42, \"3\": 50, \"10\": 87, \"14\": 29, \"13\": 154, \"2\": 94, \"6\": 148, \"12\": 65, \"7\": 109, \"0\": 3, \"8\": 3, \"5\": 10, \"15\": 12}, \"10\": {\"2\": 126, \"12\": 130, \"7\": 130, \"9\": 106, \"10\": 165, \"5\": 14, \"14\": 20, \"1\": 120, \"13\": 86, \"3\": 102, \"15\": 4, \"4\": 23, \"6\": 101, \"11\": 71, \"8\": 1, \"0\": 1}, \"14\": {\"8\": 84, \"9\": 68, \"10\": 28, \"15\": 132, \"3\": 57, \"0\": 113, \"13\": 52, \"1\": 47, \"5\": 146, \"12\": 28, \"4\": 154, \"14\": 150, \"6\": 26, \"11\": 37, \"2\": 35, \"7\": 43}, \"1\": {\"4\": 50, \"2\": 127, \"6\": 80, \"12\": 111, \"1\": 129, \"10\": 141, \"9\": 93, \"8\": 7, \"14\": 46, \"3\": 123, \"15\": 13, \"11\": 53, \"0\": 12, \"7\": 111, \"13\": 77, \"5\": 27}, \"3\": {\"14\": 73, \"11\": 44, \"3\": 157, \"9\": 87, \"7\": 101, \"2\": 104, \"1\": 109, \"10\": 84, \"15\": 40, \"12\": 120, \"13\": 74, \"4\": 76, \"6\": 67, \"5\": 32, \"0\": 22, \"8\": 10}}}, \"per_domain_accuracy\": {\"Wisig_3\": {\"accuracy\": 0.9760142543859649, \"source?\": true}, \"Wisig_4\": {\"accuracy\": 0.9609053497942387, \"source?\": true}, \"Wisig_1\": {\"accuracy\": 0.9765957446808511, \"source?\": true}, \"Wisig_2\": {\"accuracy\": 0.9600840336134454, \"source?\": true}, \"ORACLE.run114\": {\"accuracy\": 0.11026041666666667, \"source?\": false}, \"ORACLE.run120\": {\"accuracy\": 0.0746875, \"source?\": false}, \"ORACLE.run138\": {\"accuracy\": 0.13151041666666666, \"source?\": false}, \"ORACLE.run18\": {\"accuracy\": 0.11260416666666667, \"source?\": false}, \"ORACLE.run150\": {\"accuracy\": 0.11661458333333333, \"source?\": false}, \"ORACLE.run132\": {\"accuracy\": 0.17145833333333332, \"source?\": false}, \"ORACLE.run126\": {\"accuracy\": 0.09223958333333333, \"source?\": false}, \"ORACLE.run144\": {\"accuracy\": 0.13947916666666665, \"source?\": false}}}, \"history\": {\"epoch_indices\": [1, 2, 3, 4, 5, 6], \"train_label_loss\": [0.19317064626656671, 0.12516268638595082, 0.09942900960731658, 0.08404742038635937, 0.07002341683588693, 0.0568711382061325], \"source_val_label_loss\": [0.17653238773345947, 0.13780991733074188, 0.12108413875102997, 0.12232188135385513, 0.12935858964920044, 0.12651188671588898], \"target_val_label_loss\": [2.6986441612243652, 2.671254873275757, 2.7195818424224854, 2.7439911365509033, 2.806663990020752, 2.830646514892578], \"source_val_acc_label\": [0.9615664724576272, 0.9682534427966102, 0.972556938559322, 0.9731197033898306, 0.9728217690677966, 0.9730203919491526], \"target_val_acc_label\": [0.11710286458333333, 0.11860677083333333, 0.10767578125, 0.10634114583333333, 0.09878255208333334, 0.0989453125]}, \"dataset_metrics\": {\"source\": {\"train\": {\"n_unique_x\": 188978, \"n_unique_y\": 130, \"n_batch/episode\": 6831}, \"val\": {\"n_unique_x\": 40068, \"n_unique_y\": 130, \"n_batch/episode\": 944}, \"test\": {\"n_unique_x\": 40816, \"n_unique_y\": 130, \"n_batch/episode\": 969}}, \"target\": {\"train\": {\"n_unique_x\": 896000, \"n_unique_y\": 16, \"n_batch/episode\": 33600}, \"val\": {\"n_unique_x\": 192000, \"n_unique_y\": 16, \"n_batch/episode\": 4800}, \"test\": {\"n_unique_x\": 192000, \"n_unique_y\": 16, \"n_batch/episode\": 4800}}}}'"
      ]
     },
     "execution_count": 29,
     "metadata": {},
     "output_type": "execute_result"
    }
   ],
   "source": [
    "json.dumps(experiment)"
   ]
  }
 ],
 "metadata": {
  "celltoolbar": "Tags",
  "kernelspec": {
   "display_name": "Python 3 (ipykernel)",
   "language": "python",
   "name": "python3"
  },
  "language_info": {
   "codemirror_mode": {
    "name": "ipython",
    "version": 3
   },
   "file_extension": ".py",
   "mimetype": "text/x-python",
   "name": "python",
   "nbconvert_exporter": "python",
   "pygments_lexer": "ipython3",
   "version": "3.8.12"
  },
  "papermill": {
   "default_parameters": {},
   "duration": 2447.98418,
   "end_time": "2022-03-23T03:43:14.863839",
   "environment_variables": {},
   "exception": null,
   "input_path": "/root/csc500-main/csc500-notebooks/templates/tl_ptn_template.ipynb",
   "output_path": "trial.ipynb",
   "parameters": {
    "parameters": {
     "BEST_MODEL_PATH": "./best_model.pth",
     "NUM_LOGS_PER_EPOCH": 10,
     "criteria_for_best": "target_accuracy",
     "dataset_seed": 1337,
     "datasets": [
      {
       "domain_prefix": "Wisig_",
       "domains": [
        1,
        2,
        3,
        4
       ],
       "episode_transforms": [],
       "labels": [
        "1-10",
        "1-12",
        "1-14",
        "1-16",
        "1-18",
        "1-19",
        "1-8",
        "10-11",
        "10-17",
        "10-4",
        "10-7",
        "11-1",
        "11-10",
        "11-19",
        "11-20",
        "11-4",
        "11-7",
        "12-19",
        "12-20",
        "12-7",
        "13-14",
        "13-18",
        "13-19",
        "13-20",
        "13-3",
        "13-7",
        "14-10",
        "14-11",
        "14-12",
        "14-13",
        "14-14",
        "14-19",
        "14-20",
        "14-7",
        "14-8",
        "14-9",
        "15-1",
        "15-19",
        "15-6",
        "16-1",
        "16-16",
        "16-19",
        "16-20",
        "17-10",
        "17-11",
        "18-1",
        "18-10",
        "18-11",
        "18-12",
        "18-13",
        "18-14",
        "18-15",
        "18-16",
        "18-17",
        "18-19",
        "18-2",
        "18-20",
        "18-4",
        "18-5",
        "18-7",
        "18-8",
        "18-9",
        "19-1",
        "19-10",
        "19-11",
        "19-12",
        "19-13",
        "19-14",
        "19-15",
        "19-19",
        "19-2",
        "19-20",
        "19-3",
        "19-4",
        "19-6",
        "19-7",
        "19-8",
        "19-9",
        "2-1",
        "2-13",
        "2-15",
        "2-3",
        "2-4",
        "2-5",
        "2-6",
        "2-7",
        "2-8",
        "20-1",
        "20-12",
        "20-14",
        "20-15",
        "20-16",
        "20-18",
        "20-19",
        "20-20",
        "20-3",
        "20-4",
        "20-5",
        "20-7",
        "20-8",
        "3-1",
        "3-13",
        "3-18",
        "3-2",
        "3-8",
        "4-1",
        "4-10",
        "4-11",
        "5-1",
        "5-5",
        "6-1",
        "6-15",
        "6-6",
        "7-10",
        "7-11",
        "7-12",
        "7-13",
        "7-14",
        "7-7",
        "7-8",
        "7-9",
        "8-1",
        "8-13",
        "8-14",
        "8-18",
        "8-20",
        "8-3",
        "8-8",
        "9-1",
        "9-7"
       ],
       "num_examples_per_domain_per_label": -1,
       "pickle_path": "/root/csc500-main/datasets/wisig.node3-19.stratified_ds.2022A.pkl",
       "source_or_target_dataset": "source",
       "x_transforms": [
        "unit_power"
       ]
      },
      {
       "domain_prefix": "ORACLE.run1",
       "domains": [
        32,
        38,
        8,
        44,
        14,
        50,
        20,
        26
       ],
       "episode_transforms": [],
       "labels": [
        "3123D52",
        "3123D65",
        "3123D79",
        "3123D80",
        "3123D54",
        "3123D70",
        "3123D7B",
        "3123D89",
        "3123D58",
        "3123D76",
        "3123D7D",
        "3123EFE",
        "3123D64",
        "3123D78",
        "3123D7E",
        "3124E4A"
       ],
       "num_examples_per_domain_per_label": 10000,
       "pickle_path": "/root/csc500-main/datasets/oracle.Run1_10kExamples_stratified_ds.2022A.pkl",
       "source_or_target_dataset": "target",
       "x_transforms": [
        "unit_power"
       ]
      }
     ],
     "device": "cuda",
     "experiment_name": "tl_1v2:wisig-oracle.run1",
     "lr": 0.0001,
     "n_epoch": 50,
     "n_query": 2,
     "n_shot": 3,
     "n_way": 16,
     "patience": 3,
     "seed": 1337,
     "test_k_factor": 2,
     "torch_default_dtype": "torch.float32",
     "train_k_factor": 3,
     "val_k_factor": 2,
     "x_net": [
      {
       "class": "nnReshape",
       "kargs": {
        "shape": [
         -1,
         1,
         2,
         256
        ]
       }
      },
      {
       "class": "Conv2d",
       "kargs": {
        "bias": false,
        "in_channels": 1,
        "kernel_size": [
         1,
         7
        ],
        "out_channels": 256,
        "padding": [
         0,
         3
        ]
       }
      },
      {
       "class": "ReLU",
       "kargs": {
        "inplace": true
       }
      },
      {
       "class": "BatchNorm2d",
       "kargs": {
        "num_features": 256
       }
      },
      {
       "class": "Conv2d",
       "kargs": {
        "bias": true,
        "in_channels": 256,
        "kernel_size": [
         2,
         7
        ],
        "out_channels": 80,
        "padding": [
         0,
         3
        ]
       }
      },
      {
       "class": "ReLU",
       "kargs": {
        "inplace": true
       }
      },
      {
       "class": "BatchNorm2d",
       "kargs": {
        "num_features": 80
       }
      },
      {
       "class": "Flatten",
       "kargs": {}
      },
      {
       "class": "Linear",
       "kargs": {
        "in_features": 20480,
        "out_features": 256
       }
      },
      {
       "class": "ReLU",
       "kargs": {
        "inplace": true
       }
      },
      {
       "class": "BatchNorm1d",
       "kargs": {
        "num_features": 256
       }
      },
      {
       "class": "Linear",
       "kargs": {
        "in_features": 256,
        "out_features": 256
       }
      }
     ]
    }
   },
   "start_time": "2022-03-23T03:02:26.879659",
   "version": "2.3.4"
  }
 },
 "nbformat": 4,
 "nbformat_minor": 5
}