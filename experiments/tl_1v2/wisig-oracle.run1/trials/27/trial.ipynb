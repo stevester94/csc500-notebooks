{
 "cells": [
  {
   "cell_type": "markdown",
   "id": "9fea5f46",
   "metadata": {
    "papermill": {
     "duration": 0.033231,
     "end_time": "2022-03-24T07:49:04.669468",
     "exception": false,
     "start_time": "2022-03-24T07:49:04.636237",
     "status": "completed"
    },
    "tags": []
   },
   "source": [
    "# Transfer Learning Template"
   ]
  },
  {
   "cell_type": "code",
   "execution_count": 1,
   "id": "0902182a",
   "metadata": {
    "execution": {
     "iopub.execute_input": "2022-03-24T07:49:04.732013Z",
     "iopub.status.busy": "2022-03-24T07:49:04.730588Z",
     "iopub.status.idle": "2022-03-24T07:49:07.021188Z",
     "shell.execute_reply": "2022-03-24T07:49:07.020272Z"
    },
    "papermill": {
     "duration": 2.327972,
     "end_time": "2022-03-24T07:49:07.021380",
     "exception": false,
     "start_time": "2022-03-24T07:49:04.693408",
     "status": "completed"
    },
    "tags": []
   },
   "outputs": [],
   "source": [
    "%load_ext autoreload\n",
    "%autoreload 2\n",
    "%matplotlib inline\n",
    "\n",
    "    \n",
    "import os, json, sys, time, random\n",
    "import numpy as np\n",
    "import torch\n",
    "from torch.optim import Adam\n",
    "from  easydict import EasyDict\n",
    "import matplotlib.pyplot as plt\n",
    "\n",
    "from steves_models.steves_ptn import Steves_Prototypical_Network\n",
    "\n",
    "from steves_utils.lazy_iterable_wrapper import Lazy_Iterable_Wrapper\n",
    "from steves_utils.iterable_aggregator import Iterable_Aggregator\n",
    "from steves_utils.ptn_train_eval_test_jig import  PTN_Train_Eval_Test_Jig\n",
    "from steves_utils.torch_sequential_builder import build_sequential\n",
    "from steves_utils.torch_utils import get_dataset_metrics, ptn_confusion_by_domain_over_dataloader\n",
    "from steves_utils.utils_v2 import (per_domain_accuracy_from_confusion, get_datasets_base_path)\n",
    "from steves_utils.PTN.utils import independent_accuracy_assesment\n",
    "\n",
    "from torch.utils.data import DataLoader\n",
    "\n",
    "from steves_utils.stratified_dataset.episodic_accessor import Episodic_Accessor_Factory\n",
    "\n",
    "from steves_utils.ptn_do_report import (\n",
    "    get_loss_curve,\n",
    "    get_results_table,\n",
    "    get_parameters_table,\n",
    "    get_domain_accuracies,\n",
    ")\n",
    "\n",
    "from steves_utils.transforms import get_chained_transform"
   ]
  },
  {
   "cell_type": "markdown",
   "id": "41c840b4",
   "metadata": {
    "papermill": {
     "duration": 0.019258,
     "end_time": "2022-03-24T07:49:07.066180",
     "exception": false,
     "start_time": "2022-03-24T07:49:07.046922",
     "status": "completed"
    },
    "tags": []
   },
   "source": [
    "# Allowed Parameters\n",
    "These are allowed parameters, not defaults\n",
    "Each of these values need to be present in the injected parameters (the notebook will raise an exception if they are not present)\n",
    "\n",
    "Papermill uses the cell tag \"parameters\" to inject the real parameters below this cell.\n",
    "Enable tags to see what I mean"
   ]
  },
  {
   "cell_type": "code",
   "execution_count": 2,
   "id": "fd44eb83",
   "metadata": {
    "execution": {
     "iopub.execute_input": "2022-03-24T07:49:07.110698Z",
     "iopub.status.busy": "2022-03-24T07:49:07.110305Z",
     "iopub.status.idle": "2022-03-24T07:49:07.132988Z",
     "shell.execute_reply": "2022-03-24T07:49:07.132258Z"
    },
    "papermill": {
     "duration": 0.047736,
     "end_time": "2022-03-24T07:49:07.133187",
     "exception": false,
     "start_time": "2022-03-24T07:49:07.085451",
     "status": "completed"
    },
    "tags": []
   },
   "outputs": [],
   "source": [
    "required_parameters = {\n",
    "    \"experiment_name\",\n",
    "    \"lr\",\n",
    "    \"device\",\n",
    "    \"seed\",\n",
    "    \"dataset_seed\",\n",
    "    \"n_shot\",\n",
    "    \"n_query\",\n",
    "    \"n_way\",\n",
    "    \"train_k_factor\",\n",
    "    \"val_k_factor\",\n",
    "    \"test_k_factor\",\n",
    "    \"n_epoch\",\n",
    "    \"patience\",\n",
    "    \"criteria_for_best\",\n",
    "    \"x_net\",\n",
    "    \"datasets\",\n",
    "    \"torch_default_dtype\",\n",
    "    \"NUM_LOGS_PER_EPOCH\",\n",
    "    \"BEST_MODEL_PATH\",\n",
    "    \"x_shape\",\n",
    "}"
   ]
  },
  {
   "cell_type": "code",
   "execution_count": 3,
   "id": "fa3f0049",
   "metadata": {
    "execution": {
     "iopub.execute_input": "2022-03-24T07:49:07.192527Z",
     "iopub.status.busy": "2022-03-24T07:49:07.191521Z",
     "iopub.status.idle": "2022-03-24T07:49:07.213606Z",
     "shell.execute_reply": "2022-03-24T07:49:07.212815Z"
    },
    "papermill": {
     "duration": 0.056971,
     "end_time": "2022-03-24T07:49:07.213790",
     "exception": false,
     "start_time": "2022-03-24T07:49:07.156819",
     "status": "completed"
    },
    "tags": [
     "parameters"
    ]
   },
   "outputs": [],
   "source": [
    "from steves_utils.CORES.utils import (\n",
    "    ALL_NODES,\n",
    "    ALL_NODES_MINIMUM_1000_EXAMPLES,\n",
    "    ALL_DAYS\n",
    ")\n",
    "\n",
    "from steves_utils.ORACLE.utils_v2 import (\n",
    "    ALL_DISTANCES_FEET_NARROWED,\n",
    "    ALL_RUNS,\n",
    "    ALL_SERIAL_NUMBERS,\n",
    ")\n",
    "\n",
    "standalone_parameters = {}\n",
    "standalone_parameters[\"experiment_name\"] = \"STANDALONE PTN\"\n",
    "standalone_parameters[\"lr\"] = 0.001\n",
    "standalone_parameters[\"device\"] = \"cuda\"\n",
    "\n",
    "standalone_parameters[\"seed\"] = 1337\n",
    "standalone_parameters[\"dataset_seed\"] = 1337\n",
    "\n",
    "standalone_parameters[\"n_way\"] = 8\n",
    "standalone_parameters[\"n_shot\"] = 3\n",
    "standalone_parameters[\"n_query\"]  = 2\n",
    "standalone_parameters[\"train_k_factor\"] = 1\n",
    "standalone_parameters[\"val_k_factor\"] = 2\n",
    "standalone_parameters[\"test_k_factor\"] = 2\n",
    "\n",
    "\n",
    "standalone_parameters[\"n_epoch\"] = 50\n",
    "\n",
    "standalone_parameters[\"patience\"] = 10\n",
    "standalone_parameters[\"criteria_for_best\"] = \"source_loss\"\n",
    "\n",
    "standalone_parameters[\"datasets\"] = [\n",
    "    {\n",
    "        \"labels\": ALL_SERIAL_NUMBERS,\n",
    "        \"domains\": ALL_DISTANCES_FEET_NARROWED,\n",
    "        \"num_examples_per_domain_per_label\": 100,\n",
    "        \"pickle_path\": os.path.join(get_datasets_base_path(), \"oracle.Run1_framed_2000Examples_stratified_ds.2022A.pkl\"),\n",
    "        \"source_or_target_dataset\": \"source\",\n",
    "        \"x_transforms\": [\"unit_mag\", \"minus_two\"],\n",
    "        \"episode_transforms\": [],\n",
    "        \"domain_prefix\": \"ORACLE_\"\n",
    "    },\n",
    "    {\n",
    "        \"labels\": ALL_NODES,\n",
    "        \"domains\": ALL_DAYS,\n",
    "        \"num_examples_per_domain_per_label\": 100,\n",
    "        \"pickle_path\": os.path.join(get_datasets_base_path(), \"cores.stratified_ds.2022A.pkl\"),\n",
    "        \"source_or_target_dataset\": \"target\",\n",
    "        \"x_transforms\": [\"unit_power\", \"times_zero\"],\n",
    "        \"episode_transforms\": [],\n",
    "        \"domain_prefix\": \"CORES_\"\n",
    "    }   \n",
    "]\n",
    "\n",
    "standalone_parameters[\"torch_default_dtype\"] = \"torch.float32\" \n",
    "\n",
    "\n",
    "\n",
    "standalone_parameters[\"x_net\"] =     [\n",
    "    {\"class\": \"nnReshape\", \"kargs\": {\"shape\":[-1, 1, 2, 256]}},\n",
    "    {\"class\": \"Conv2d\", \"kargs\": { \"in_channels\":1, \"out_channels\":256, \"kernel_size\":(1,7), \"bias\":False, \"padding\":(0,3), },},\n",
    "    {\"class\": \"ReLU\", \"kargs\": {\"inplace\": True}},\n",
    "    {\"class\": \"BatchNorm2d\", \"kargs\": {\"num_features\":256}},\n",
    "\n",
    "    {\"class\": \"Conv2d\", \"kargs\": { \"in_channels\":256, \"out_channels\":80, \"kernel_size\":(2,7), \"bias\":True, \"padding\":(0,3), },},\n",
    "    {\"class\": \"ReLU\", \"kargs\": {\"inplace\": True}},\n",
    "    {\"class\": \"BatchNorm2d\", \"kargs\": {\"num_features\":80}},\n",
    "    {\"class\": \"Flatten\", \"kargs\": {}},\n",
    "\n",
    "    {\"class\": \"Linear\", \"kargs\": {\"in_features\": 80*256, \"out_features\": 256}}, # 80 units per IQ pair\n",
    "    {\"class\": \"ReLU\", \"kargs\": {\"inplace\": True}},\n",
    "    {\"class\": \"BatchNorm1d\", \"kargs\": {\"num_features\":256}},\n",
    "\n",
    "    {\"class\": \"Linear\", \"kargs\": {\"in_features\": 256, \"out_features\": 256}},\n",
    "]\n",
    "\n",
    "# Parameters relevant to results\n",
    "# These parameters will basically never need to change\n",
    "standalone_parameters[\"NUM_LOGS_PER_EPOCH\"] = 10\n",
    "standalone_parameters[\"BEST_MODEL_PATH\"] = \"./best_model.pth\"\n",
    "\n",
    "\n",
    "\n",
    "\n"
   ]
  },
  {
   "cell_type": "code",
   "execution_count": 4,
   "id": "9ecfafa7",
   "metadata": {
    "execution": {
     "iopub.execute_input": "2022-03-24T07:49:07.278898Z",
     "iopub.status.busy": "2022-03-24T07:49:07.277836Z",
     "iopub.status.idle": "2022-03-24T07:49:07.302587Z",
     "shell.execute_reply": "2022-03-24T07:49:07.301829Z"
    },
    "papermill": {
     "duration": 0.063892,
     "end_time": "2022-03-24T07:49:07.302770",
     "exception": false,
     "start_time": "2022-03-24T07:49:07.238878",
     "status": "completed"
    },
    "tags": [
     "injected-parameters"
    ]
   },
   "outputs": [],
   "source": [
    "# Parameters\n",
    "parameters = {\n",
    "    \"experiment_name\": \"tl_1v2:wisig-oracle.run1\",\n",
    "    \"device\": \"cuda\",\n",
    "    \"lr\": 0.0001,\n",
    "    \"n_shot\": 3,\n",
    "    \"n_query\": 2,\n",
    "    \"train_k_factor\": 3,\n",
    "    \"val_k_factor\": 2,\n",
    "    \"test_k_factor\": 2,\n",
    "    \"torch_default_dtype\": \"torch.float32\",\n",
    "    \"n_epoch\": 50,\n",
    "    \"patience\": 3,\n",
    "    \"criteria_for_best\": \"target_accuracy\",\n",
    "    \"x_net\": [\n",
    "        {\"class\": \"nnReshape\", \"kargs\": {\"shape\": [-1, 1, 2, 256]}},\n",
    "        {\n",
    "            \"class\": \"Conv2d\",\n",
    "            \"kargs\": {\n",
    "                \"in_channels\": 1,\n",
    "                \"out_channels\": 256,\n",
    "                \"kernel_size\": [1, 7],\n",
    "                \"bias\": False,\n",
    "                \"padding\": [0, 3],\n",
    "            },\n",
    "        },\n",
    "        {\"class\": \"ReLU\", \"kargs\": {\"inplace\": True}},\n",
    "        {\"class\": \"BatchNorm2d\", \"kargs\": {\"num_features\": 256}},\n",
    "        {\n",
    "            \"class\": \"Conv2d\",\n",
    "            \"kargs\": {\n",
    "                \"in_channels\": 256,\n",
    "                \"out_channels\": 80,\n",
    "                \"kernel_size\": [2, 7],\n",
    "                \"bias\": True,\n",
    "                \"padding\": [0, 3],\n",
    "            },\n",
    "        },\n",
    "        {\"class\": \"ReLU\", \"kargs\": {\"inplace\": True}},\n",
    "        {\"class\": \"BatchNorm2d\", \"kargs\": {\"num_features\": 80}},\n",
    "        {\"class\": \"Flatten\", \"kargs\": {}},\n",
    "        {\"class\": \"Linear\", \"kargs\": {\"in_features\": 20480, \"out_features\": 256}},\n",
    "        {\"class\": \"ReLU\", \"kargs\": {\"inplace\": True}},\n",
    "        {\"class\": \"BatchNorm1d\", \"kargs\": {\"num_features\": 256}},\n",
    "        {\"class\": \"Linear\", \"kargs\": {\"in_features\": 256, \"out_features\": 256}},\n",
    "    ],\n",
    "    \"NUM_LOGS_PER_EPOCH\": 10,\n",
    "    \"BEST_MODEL_PATH\": \"./best_model.pth\",\n",
    "    \"n_way\": 16,\n",
    "    \"datasets\": [\n",
    "        {\n",
    "            \"labels\": [\n",
    "                \"1-10\",\n",
    "                \"1-12\",\n",
    "                \"1-14\",\n",
    "                \"1-16\",\n",
    "                \"1-18\",\n",
    "                \"1-19\",\n",
    "                \"1-8\",\n",
    "                \"10-11\",\n",
    "                \"10-17\",\n",
    "                \"10-4\",\n",
    "                \"10-7\",\n",
    "                \"11-1\",\n",
    "                \"11-10\",\n",
    "                \"11-19\",\n",
    "                \"11-20\",\n",
    "                \"11-4\",\n",
    "                \"11-7\",\n",
    "                \"12-19\",\n",
    "                \"12-20\",\n",
    "                \"12-7\",\n",
    "                \"13-14\",\n",
    "                \"13-18\",\n",
    "                \"13-19\",\n",
    "                \"13-20\",\n",
    "                \"13-3\",\n",
    "                \"13-7\",\n",
    "                \"14-10\",\n",
    "                \"14-11\",\n",
    "                \"14-12\",\n",
    "                \"14-13\",\n",
    "                \"14-14\",\n",
    "                \"14-19\",\n",
    "                \"14-20\",\n",
    "                \"14-7\",\n",
    "                \"14-8\",\n",
    "                \"14-9\",\n",
    "                \"15-1\",\n",
    "                \"15-19\",\n",
    "                \"15-6\",\n",
    "                \"16-1\",\n",
    "                \"16-16\",\n",
    "                \"16-19\",\n",
    "                \"16-20\",\n",
    "                \"17-10\",\n",
    "                \"17-11\",\n",
    "                \"18-1\",\n",
    "                \"18-10\",\n",
    "                \"18-11\",\n",
    "                \"18-12\",\n",
    "                \"18-13\",\n",
    "                \"18-14\",\n",
    "                \"18-15\",\n",
    "                \"18-16\",\n",
    "                \"18-17\",\n",
    "                \"18-19\",\n",
    "                \"18-2\",\n",
    "                \"18-20\",\n",
    "                \"18-4\",\n",
    "                \"18-5\",\n",
    "                \"18-7\",\n",
    "                \"18-8\",\n",
    "                \"18-9\",\n",
    "                \"19-1\",\n",
    "                \"19-10\",\n",
    "                \"19-11\",\n",
    "                \"19-12\",\n",
    "                \"19-13\",\n",
    "                \"19-14\",\n",
    "                \"19-15\",\n",
    "                \"19-19\",\n",
    "                \"19-2\",\n",
    "                \"19-20\",\n",
    "                \"19-3\",\n",
    "                \"19-4\",\n",
    "                \"19-6\",\n",
    "                \"19-7\",\n",
    "                \"19-8\",\n",
    "                \"19-9\",\n",
    "                \"2-1\",\n",
    "                \"2-13\",\n",
    "                \"2-15\",\n",
    "                \"2-3\",\n",
    "                \"2-4\",\n",
    "                \"2-5\",\n",
    "                \"2-6\",\n",
    "                \"2-7\",\n",
    "                \"2-8\",\n",
    "                \"20-1\",\n",
    "                \"20-12\",\n",
    "                \"20-14\",\n",
    "                \"20-15\",\n",
    "                \"20-16\",\n",
    "                \"20-18\",\n",
    "                \"20-19\",\n",
    "                \"20-20\",\n",
    "                \"20-3\",\n",
    "                \"20-4\",\n",
    "                \"20-5\",\n",
    "                \"20-7\",\n",
    "                \"20-8\",\n",
    "                \"3-1\",\n",
    "                \"3-13\",\n",
    "                \"3-18\",\n",
    "                \"3-2\",\n",
    "                \"3-8\",\n",
    "                \"4-1\",\n",
    "                \"4-10\",\n",
    "                \"4-11\",\n",
    "                \"5-1\",\n",
    "                \"5-5\",\n",
    "                \"6-1\",\n",
    "                \"6-15\",\n",
    "                \"6-6\",\n",
    "                \"7-10\",\n",
    "                \"7-11\",\n",
    "                \"7-12\",\n",
    "                \"7-13\",\n",
    "                \"7-14\",\n",
    "                \"7-7\",\n",
    "                \"7-8\",\n",
    "                \"7-9\",\n",
    "                \"8-1\",\n",
    "                \"8-13\",\n",
    "                \"8-14\",\n",
    "                \"8-18\",\n",
    "                \"8-20\",\n",
    "                \"8-3\",\n",
    "                \"8-8\",\n",
    "                \"9-1\",\n",
    "                \"9-7\",\n",
    "            ],\n",
    "            \"domains\": [1, 2, 3, 4],\n",
    "            \"num_examples_per_domain_per_label\": -1,\n",
    "            \"pickle_path\": \"/root/csc500-main/datasets/wisig.node3-19.stratified_ds.2022A.pkl\",\n",
    "            \"source_or_target_dataset\": \"target\",\n",
    "            \"x_transforms\": [\"unit_power\"],\n",
    "            \"episode_transforms\": [],\n",
    "            \"domain_prefix\": \"Wisig_\",\n",
    "        },\n",
    "        {\n",
    "            \"labels\": [\n",
    "                \"3123D52\",\n",
    "                \"3123D65\",\n",
    "                \"3123D79\",\n",
    "                \"3123D80\",\n",
    "                \"3123D54\",\n",
    "                \"3123D70\",\n",
    "                \"3123D7B\",\n",
    "                \"3123D89\",\n",
    "                \"3123D58\",\n",
    "                \"3123D76\",\n",
    "                \"3123D7D\",\n",
    "                \"3123EFE\",\n",
    "                \"3123D64\",\n",
    "                \"3123D78\",\n",
    "                \"3123D7E\",\n",
    "                \"3124E4A\",\n",
    "            ],\n",
    "            \"domains\": [32, 38, 8, 44, 14, 50, 20, 26],\n",
    "            \"num_examples_per_domain_per_label\": 10000,\n",
    "            \"pickle_path\": \"/root/csc500-main/datasets/oracle.Run1_10kExamples_stratified_ds.2022A.pkl\",\n",
    "            \"source_or_target_dataset\": \"source\",\n",
    "            \"x_transforms\": [\"unit_power\"],\n",
    "            \"episode_transforms\": [],\n",
    "            \"domain_prefix\": \"ORACLE.run1\",\n",
    "        },\n",
    "    ],\n",
    "    \"dataset_seed\": 500,\n",
    "    \"seed\": 500,\n",
    "}\n"
   ]
  },
  {
   "cell_type": "code",
   "execution_count": 5,
   "id": "8fa1cc33",
   "metadata": {
    "execution": {
     "iopub.execute_input": "2022-03-24T07:49:07.355485Z",
     "iopub.status.busy": "2022-03-24T07:49:07.355060Z",
     "iopub.status.idle": "2022-03-24T07:49:07.377351Z",
     "shell.execute_reply": "2022-03-24T07:49:07.378032Z"
    },
    "papermill": {
     "duration": 0.050502,
     "end_time": "2022-03-24T07:49:07.378264",
     "exception": false,
     "start_time": "2022-03-24T07:49:07.327762",
     "status": "completed"
    },
    "tags": []
   },
   "outputs": [],
   "source": [
    "# Set this to True if you want to run this template directly\n",
    "STANDALONE = False\n",
    "if STANDALONE:\n",
    "    print(\"parameters not injected, running with standalone_parameters\")\n",
    "    parameters = standalone_parameters\n",
    "\n",
    "if not 'parameters' in locals() and not 'parameters' in globals():\n",
    "    raise Exception(\"Parameter injection failed\")\n",
    "\n",
    "#Use an easy dict for all the parameters\n",
    "p = EasyDict(parameters)\n",
    "\n",
    "if \"x_shape\" not in p:\n",
    "    p.x_shape = [2,256] # Default to this if we dont supply x_shape\n",
    "\n",
    "\n",
    "supplied_keys = set(p.keys())\n",
    "\n",
    "if  supplied_keys != required_parameters:\n",
    "    print(\"Parameters are incorrect\")\n",
    "    if len(supplied_keys - required_parameters)>0: print(\"Shouldn't have:\", str(supplied_keys - required_parameters))\n",
    "    if len(required_parameters - supplied_keys)>0: print(\"Need to have:\", str(required_parameters - supplied_keys))\n",
    "    raise RuntimeError(\"Parameters are incorrect\")"
   ]
  },
  {
   "cell_type": "code",
   "execution_count": 6,
   "id": "3a028d58",
   "metadata": {
    "execution": {
     "iopub.execute_input": "2022-03-24T07:49:07.429961Z",
     "iopub.status.busy": "2022-03-24T07:49:07.429574Z",
     "iopub.status.idle": "2022-03-24T07:49:07.448025Z",
     "shell.execute_reply": "2022-03-24T07:49:07.447274Z"
    },
    "papermill": {
     "duration": 0.041973,
     "end_time": "2022-03-24T07:49:07.448203",
     "exception": false,
     "start_time": "2022-03-24T07:49:07.406230",
     "status": "completed"
    },
    "tags": []
   },
   "outputs": [],
   "source": [
    "###################################\n",
    "# Set the RNGs and make it all deterministic\n",
    "###################################\n",
    "np.random.seed(p.seed)\n",
    "random.seed(p.seed)\n",
    "torch.manual_seed(p.seed)\n",
    "\n",
    "torch.use_deterministic_algorithms(True) "
   ]
  },
  {
   "cell_type": "code",
   "execution_count": 7,
   "id": "b691acf6",
   "metadata": {
    "execution": {
     "iopub.execute_input": "2022-03-24T07:49:07.505691Z",
     "iopub.status.busy": "2022-03-24T07:49:07.504832Z",
     "iopub.status.idle": "2022-03-24T07:49:07.526762Z",
     "shell.execute_reply": "2022-03-24T07:49:07.526054Z"
    },
    "papermill": {
     "duration": 0.049218,
     "end_time": "2022-03-24T07:49:07.526935",
     "exception": false,
     "start_time": "2022-03-24T07:49:07.477717",
     "status": "completed"
    },
    "tags": []
   },
   "outputs": [],
   "source": [
    "###########################################\n",
    "# The stratified datasets honor this\n",
    "###########################################\n",
    "torch.set_default_dtype(eval(p.torch_default_dtype))"
   ]
  },
  {
   "cell_type": "code",
   "execution_count": 8,
   "id": "b5fba671",
   "metadata": {
    "execution": {
     "iopub.execute_input": "2022-03-24T07:49:07.577903Z",
     "iopub.status.busy": "2022-03-24T07:49:07.577530Z",
     "iopub.status.idle": "2022-03-24T07:49:07.634291Z",
     "shell.execute_reply": "2022-03-24T07:49:07.633570Z"
    },
    "papermill": {
     "duration": 0.080553,
     "end_time": "2022-03-24T07:49:07.634447",
     "exception": false,
     "start_time": "2022-03-24T07:49:07.553894",
     "status": "completed"
    },
    "tags": []
   },
   "outputs": [],
   "source": [
    "###################################\n",
    "# Build the network(s)\n",
    "# Note: It's critical to do this AFTER setting the RNG\n",
    "###################################\n",
    "x_net = build_sequential(p.x_net)"
   ]
  },
  {
   "cell_type": "code",
   "execution_count": 9,
   "id": "5d7e61cc",
   "metadata": {
    "execution": {
     "iopub.execute_input": "2022-03-24T07:49:07.683658Z",
     "iopub.status.busy": "2022-03-24T07:49:07.683272Z",
     "iopub.status.idle": "2022-03-24T07:49:07.709548Z",
     "shell.execute_reply": "2022-03-24T07:49:07.710232Z"
    },
    "papermill": {
     "duration": 0.050802,
     "end_time": "2022-03-24T07:49:07.710415",
     "exception": false,
     "start_time": "2022-03-24T07:49:07.659613",
     "status": "completed"
    },
    "tags": []
   },
   "outputs": [],
   "source": [
    "start_time_secs = time.time()"
   ]
  },
  {
   "cell_type": "code",
   "execution_count": 10,
   "id": "c6b67dfd",
   "metadata": {
    "execution": {
     "iopub.execute_input": "2022-03-24T07:49:07.760328Z",
     "iopub.status.busy": "2022-03-24T07:49:07.759817Z",
     "iopub.status.idle": "2022-03-24T07:49:07.781335Z",
     "shell.execute_reply": "2022-03-24T07:49:07.780516Z"
    },
    "papermill": {
     "duration": 0.046487,
     "end_time": "2022-03-24T07:49:07.781490",
     "exception": false,
     "start_time": "2022-03-24T07:49:07.735003",
     "status": "completed"
    },
    "tags": []
   },
   "outputs": [],
   "source": [
    "p.domains_source = []\n",
    "p.domains_target = []\n",
    "\n",
    "\n",
    "train_original_source = []\n",
    "val_original_source   = []\n",
    "test_original_source  = []\n",
    "\n",
    "train_original_target = []\n",
    "val_original_target   = []\n",
    "test_original_target  = []"
   ]
  },
  {
   "cell_type": "code",
   "execution_count": 11,
   "id": "e3d9c3d3",
   "metadata": {
    "execution": {
     "iopub.execute_input": "2022-03-24T07:49:07.831446Z",
     "iopub.status.busy": "2022-03-24T07:49:07.831075Z",
     "iopub.status.idle": "2022-03-24T07:49:07.856325Z",
     "shell.execute_reply": "2022-03-24T07:49:07.857027Z"
    },
    "papermill": {
     "duration": 0.049916,
     "end_time": "2022-03-24T07:49:07.857239",
     "exception": false,
     "start_time": "2022-03-24T07:49:07.807323",
     "status": "completed"
    },
    "tags": []
   },
   "outputs": [],
   "source": [
    "# global_x_transform_func = lambda x: normalize(x.to(torch.get_default_dtype()), \"unit_power\") # unit_power, unit_mag\n",
    "# global_x_transform_func = lambda x: normalize(x, \"unit_power\") # unit_power, unit_mag"
   ]
  },
  {
   "cell_type": "code",
   "execution_count": 12,
   "id": "acb78fd2",
   "metadata": {
    "execution": {
     "iopub.execute_input": "2022-03-24T07:49:07.915133Z",
     "iopub.status.busy": "2022-03-24T07:49:07.914541Z",
     "iopub.status.idle": "2022-03-24T07:49:07.934263Z",
     "shell.execute_reply": "2022-03-24T07:49:07.933458Z"
    },
    "papermill": {
     "duration": 0.051066,
     "end_time": "2022-03-24T07:49:07.934417",
     "exception": false,
     "start_time": "2022-03-24T07:49:07.883351",
     "status": "completed"
    },
    "tags": []
   },
   "outputs": [],
   "source": [
    "def add_dataset(\n",
    "    labels,\n",
    "    domains,\n",
    "    pickle_path,\n",
    "    x_transforms,\n",
    "    episode_transforms,\n",
    "    domain_prefix,\n",
    "    num_examples_per_domain_per_label,\n",
    "    source_or_target_dataset:str,\n",
    "    iterator_seed=p.seed,\n",
    "    dataset_seed=p.dataset_seed,\n",
    "    n_shot=p.n_shot,\n",
    "    n_way=p.n_way,\n",
    "    n_query=p.n_query,\n",
    "    train_val_test_k_factors=(p.train_k_factor,p.val_k_factor,p.test_k_factor),\n",
    "):\n",
    "   \n",
    "    if x_transforms == []: x_transform = None\n",
    "    else: x_transform = get_chained_transform(x_transforms)\n",
    "    \n",
    "    if episode_transforms == []: episode_transform = None\n",
    "    else: raise Exception(\"episode_transforms not implemented\")\n",
    "    \n",
    "    episode_transform = lambda tup, _prefix=domain_prefix: (_prefix + str(tup[0]), tup[1])\n",
    "\n",
    "\n",
    "    eaf = Episodic_Accessor_Factory(\n",
    "        labels=labels,\n",
    "        domains=domains,\n",
    "        num_examples_per_domain_per_label=num_examples_per_domain_per_label,\n",
    "        iterator_seed=iterator_seed,\n",
    "        dataset_seed=dataset_seed,\n",
    "        n_shot=n_shot,\n",
    "        n_way=n_way,\n",
    "        n_query=n_query,\n",
    "        train_val_test_k_factors=train_val_test_k_factors,\n",
    "        pickle_path=pickle_path,\n",
    "        x_transform_func=x_transform,\n",
    "    )\n",
    "\n",
    "    train, val, test = eaf.get_train(), eaf.get_val(), eaf.get_test()\n",
    "    train = Lazy_Iterable_Wrapper(train, episode_transform)\n",
    "    val = Lazy_Iterable_Wrapper(val, episode_transform)\n",
    "    test = Lazy_Iterable_Wrapper(test, episode_transform)\n",
    "\n",
    "    if source_or_target_dataset==\"source\":\n",
    "        train_original_source.append(train)\n",
    "        val_original_source.append(val)\n",
    "        test_original_source.append(test)\n",
    "\n",
    "        p.domains_source.extend(\n",
    "            [domain_prefix + str(u) for u in domains]\n",
    "        )\n",
    "    elif source_or_target_dataset==\"target\":\n",
    "        train_original_target.append(train)\n",
    "        val_original_target.append(val)\n",
    "        test_original_target.append(test)\n",
    "        p.domains_target.extend(\n",
    "            [domain_prefix + str(u) for u in domains]\n",
    "        )\n",
    "    else:\n",
    "        raise Exception(f\"invalid source_or_target_dataset: {source_or_target_dataset}\")\n",
    "    "
   ]
  },
  {
   "cell_type": "code",
   "execution_count": 13,
   "id": "fe266617",
   "metadata": {
    "execution": {
     "iopub.execute_input": "2022-03-24T07:49:07.982780Z",
     "iopub.status.busy": "2022-03-24T07:49:07.982416Z",
     "iopub.status.idle": "2022-03-24T07:51:22.579982Z",
     "shell.execute_reply": "2022-03-24T07:51:22.579199Z"
    },
    "papermill": {
     "duration": 134.620575,
     "end_time": "2022-03-24T07:51:22.580174",
     "exception": false,
     "start_time": "2022-03-24T07:49:07.959599",
     "status": "completed"
    },
    "tags": []
   },
   "outputs": [],
   "source": [
    "for ds in p.datasets:\n",
    "    add_dataset(**ds)"
   ]
  },
  {
   "cell_type": "code",
   "execution_count": 14,
   "id": "b90d65ac",
   "metadata": {
    "execution": {
     "iopub.execute_input": "2022-03-24T07:51:22.629405Z",
     "iopub.status.busy": "2022-03-24T07:51:22.628829Z",
     "iopub.status.idle": "2022-03-24T07:51:22.650764Z",
     "shell.execute_reply": "2022-03-24T07:51:22.649946Z"
    },
    "papermill": {
     "duration": 0.045493,
     "end_time": "2022-03-24T07:51:22.650921",
     "exception": false,
     "start_time": "2022-03-24T07:51:22.605428",
     "status": "completed"
    },
    "tags": []
   },
   "outputs": [],
   "source": [
    "# from steves_utils.CORES.utils import (\n",
    "#     ALL_NODES,\n",
    "#     ALL_NODES_MINIMUM_1000_EXAMPLES,\n",
    "#     ALL_DAYS\n",
    "# )\n",
    "\n",
    "# add_dataset(\n",
    "#     labels=ALL_NODES,\n",
    "#     domains = ALL_DAYS,\n",
    "#     num_examples_per_domain_per_label=100,\n",
    "#     pickle_path=os.path.join(get_datasets_base_path(), \"cores.stratified_ds.2022A.pkl\"),\n",
    "#     source_or_target_dataset=\"target\",\n",
    "#     x_transform_func=global_x_transform_func,\n",
    "#     domain_modifier=lambda u: f\"cores_{u}\"\n",
    "# )"
   ]
  },
  {
   "cell_type": "code",
   "execution_count": 15,
   "id": "76db484d",
   "metadata": {
    "execution": {
     "iopub.execute_input": "2022-03-24T07:51:22.707557Z",
     "iopub.status.busy": "2022-03-24T07:51:22.706880Z",
     "iopub.status.idle": "2022-03-24T07:51:22.720054Z",
     "shell.execute_reply": "2022-03-24T07:51:22.719220Z"
    },
    "papermill": {
     "duration": 0.043708,
     "end_time": "2022-03-24T07:51:22.720211",
     "exception": false,
     "start_time": "2022-03-24T07:51:22.676503",
     "status": "completed"
    },
    "tags": []
   },
   "outputs": [],
   "source": [
    "# from steves_utils.ORACLE.utils_v2 import (\n",
    "#     ALL_DISTANCES_FEET,\n",
    "#     ALL_RUNS,\n",
    "#     ALL_SERIAL_NUMBERS,\n",
    "# )\n",
    "\n",
    "\n",
    "# add_dataset(\n",
    "#     labels=ALL_SERIAL_NUMBERS,\n",
    "#     domains = list(set(ALL_DISTANCES_FEET) - {2,62}),\n",
    "#     num_examples_per_domain_per_label=100,\n",
    "#     pickle_path=os.path.join(get_datasets_base_path(), \"oracle.Run2_framed_2000Examples_stratified_ds.2022A.pkl\"),\n",
    "#     source_or_target_dataset=\"source\",\n",
    "#     x_transform_func=global_x_transform_func,\n",
    "#     domain_modifier=lambda u: f\"oracle1_{u}\"\n",
    "# )\n"
   ]
  },
  {
   "cell_type": "code",
   "execution_count": 16,
   "id": "97dea9d2",
   "metadata": {
    "execution": {
     "iopub.execute_input": "2022-03-24T07:51:22.770109Z",
     "iopub.status.busy": "2022-03-24T07:51:22.769540Z",
     "iopub.status.idle": "2022-03-24T07:51:22.789927Z",
     "shell.execute_reply": "2022-03-24T07:51:22.789114Z"
    },
    "papermill": {
     "duration": 0.044804,
     "end_time": "2022-03-24T07:51:22.790083",
     "exception": false,
     "start_time": "2022-03-24T07:51:22.745279",
     "status": "completed"
    },
    "tags": []
   },
   "outputs": [],
   "source": [
    "# from steves_utils.ORACLE.utils_v2 import (\n",
    "#     ALL_DISTANCES_FEET,\n",
    "#     ALL_RUNS,\n",
    "#     ALL_SERIAL_NUMBERS,\n",
    "# )\n",
    "\n",
    "\n",
    "# add_dataset(\n",
    "#     labels=ALL_SERIAL_NUMBERS,\n",
    "#     domains = list(set(ALL_DISTANCES_FEET) - {2,62,56}),\n",
    "#     num_examples_per_domain_per_label=100,\n",
    "#     pickle_path=os.path.join(get_datasets_base_path(), \"oracle.Run2_framed_2000Examples_stratified_ds.2022A.pkl\"),\n",
    "#     source_or_target_dataset=\"source\",\n",
    "#     x_transform_func=global_x_transform_func,\n",
    "#     domain_modifier=lambda u: f\"oracle2_{u}\"\n",
    "# )"
   ]
  },
  {
   "cell_type": "code",
   "execution_count": 17,
   "id": "6f289866",
   "metadata": {
    "execution": {
     "iopub.execute_input": "2022-03-24T07:51:22.841423Z",
     "iopub.status.busy": "2022-03-24T07:51:22.840911Z",
     "iopub.status.idle": "2022-03-24T07:51:22.862221Z",
     "shell.execute_reply": "2022-03-24T07:51:22.861393Z"
    },
    "papermill": {
     "duration": 0.046035,
     "end_time": "2022-03-24T07:51:22.862378",
     "exception": false,
     "start_time": "2022-03-24T07:51:22.816343",
     "status": "completed"
    },
    "tags": []
   },
   "outputs": [],
   "source": [
    "# add_dataset(\n",
    "#     labels=list(range(19)),\n",
    "#     domains = [0,1,2],\n",
    "#     num_examples_per_domain_per_label=100,\n",
    "#     pickle_path=os.path.join(get_datasets_base_path(), \"metehan.stratified_ds.2022A.pkl\"),\n",
    "#     source_or_target_dataset=\"target\",\n",
    "#     x_transform_func=global_x_transform_func,\n",
    "#     domain_modifier=lambda u: f\"met_{u}\"\n",
    "# )"
   ]
  },
  {
   "cell_type": "code",
   "execution_count": 18,
   "id": "86a863c3",
   "metadata": {
    "execution": {
     "iopub.execute_input": "2022-03-24T07:51:22.914359Z",
     "iopub.status.busy": "2022-03-24T07:51:22.912948Z",
     "iopub.status.idle": "2022-03-24T07:51:22.934182Z",
     "shell.execute_reply": "2022-03-24T07:51:22.933367Z"
    },
    "papermill": {
     "duration": 0.045578,
     "end_time": "2022-03-24T07:51:22.934337",
     "exception": false,
     "start_time": "2022-03-24T07:51:22.888759",
     "status": "completed"
    },
    "tags": []
   },
   "outputs": [],
   "source": [
    "# # from steves_utils.wisig.utils import (\n",
    "# #     ALL_NODES_MINIMUM_100_EXAMPLES,\n",
    "# #     ALL_NODES_MINIMUM_500_EXAMPLES,\n",
    "# #     ALL_NODES_MINIMUM_1000_EXAMPLES,\n",
    "# #     ALL_DAYS\n",
    "# # )\n",
    "\n",
    "# import steves_utils.wisig.utils as wisig\n",
    "\n",
    "\n",
    "# add_dataset(\n",
    "#     labels=wisig.ALL_NODES_MINIMUM_100_EXAMPLES,\n",
    "#     domains = wisig.ALL_DAYS,\n",
    "#     num_examples_per_domain_per_label=100,\n",
    "#     pickle_path=os.path.join(get_datasets_base_path(), \"wisig.node3-19.stratified_ds.2022A.pkl\"),\n",
    "#     source_or_target_dataset=\"target\",\n",
    "#     x_transform_func=global_x_transform_func,\n",
    "#     domain_modifier=lambda u: f\"wisig_{u}\"\n",
    "# )"
   ]
  },
  {
   "cell_type": "code",
   "execution_count": 19,
   "id": "fd5442bc",
   "metadata": {
    "execution": {
     "iopub.execute_input": "2022-03-24T07:51:22.990775Z",
     "iopub.status.busy": "2022-03-24T07:51:22.990185Z",
     "iopub.status.idle": "2022-03-24T07:51:23.008704Z",
     "shell.execute_reply": "2022-03-24T07:51:23.007886Z"
    },
    "papermill": {
     "duration": 0.048362,
     "end_time": "2022-03-24T07:51:23.008861",
     "exception": false,
     "start_time": "2022-03-24T07:51:22.960499",
     "status": "completed"
    },
    "tags": []
   },
   "outputs": [],
   "source": [
    "###################################\n",
    "# Build the dataset\n",
    "###################################\n",
    "train_original_source = Iterable_Aggregator(train_original_source, p.seed)\n",
    "val_original_source = Iterable_Aggregator(val_original_source, p.seed)\n",
    "test_original_source = Iterable_Aggregator(test_original_source, p.seed)\n",
    "\n",
    "\n",
    "train_original_target = Iterable_Aggregator(train_original_target, p.seed)\n",
    "val_original_target = Iterable_Aggregator(val_original_target, p.seed)\n",
    "test_original_target = Iterable_Aggregator(test_original_target, p.seed)\n",
    "\n",
    "# For CNN We only use X and Y. And we only train on the source.\n",
    "# Properly form the data using a transform lambda and Lazy_Iterable_Wrapper. Finally wrap them in a dataloader\n",
    "\n",
    "transform_lambda = lambda ex: ex[1] # Original is (<domain>, <episode>) so we strip down to episode only\n",
    "\n",
    "train_processed_source = Lazy_Iterable_Wrapper(train_original_source, transform_lambda)\n",
    "val_processed_source   = Lazy_Iterable_Wrapper(val_original_source, transform_lambda)\n",
    "test_processed_source  = Lazy_Iterable_Wrapper(test_original_source, transform_lambda)\n",
    "\n",
    "train_processed_target = Lazy_Iterable_Wrapper(train_original_target, transform_lambda)\n",
    "val_processed_target   = Lazy_Iterable_Wrapper(val_original_target, transform_lambda)\n",
    "test_processed_target  = Lazy_Iterable_Wrapper(test_original_target, transform_lambda)\n",
    "\n",
    "datasets = EasyDict({\n",
    "    \"source\": {\n",
    "        \"original\": {\"train\":train_original_source, \"val\":val_original_source, \"test\":test_original_source},\n",
    "        \"processed\": {\"train\":train_processed_source, \"val\":val_processed_source, \"test\":test_processed_source}\n",
    "    },\n",
    "    \"target\": {\n",
    "        \"original\": {\"train\":train_original_target, \"val\":val_original_target, \"test\":test_original_target},\n",
    "        \"processed\": {\"train\":train_processed_target, \"val\":val_processed_target, \"test\":test_processed_target}\n",
    "    },\n",
    "})"
   ]
  },
  {
   "cell_type": "code",
   "execution_count": 20,
   "id": "5b3c01fc",
   "metadata": {
    "execution": {
     "iopub.execute_input": "2022-03-24T07:51:23.065487Z",
     "iopub.status.busy": "2022-03-24T07:51:23.064425Z",
     "iopub.status.idle": "2022-03-24T07:51:57.585590Z",
     "shell.execute_reply": "2022-03-24T07:51:57.584726Z"
    },
    "papermill": {
     "duration": 34.547667,
     "end_time": "2022-03-24T07:51:57.585767",
     "exception": false,
     "start_time": "2022-03-24T07:51:23.038100",
     "status": "completed"
    },
    "tags": []
   },
   "outputs": [
    {
     "name": "stdout",
     "output_type": "stream",
     "text": [
      "{'ORACLE.run150', 'ORACLE.run120', 'ORACLE.run126', 'ORACLE.run144', 'ORACLE.run114', 'ORACLE.run18', 'ORACLE.run132', 'ORACLE.run138'}\n"
     ]
    },
    {
     "name": "stdout",
     "output_type": "stream",
     "text": [
      "{'Wisig_3', 'Wisig_2', 'Wisig_1', 'Wisig_4'}\n"
     ]
    },
    {
     "name": "stdout",
     "output_type": "stream",
     "text": [
      "tensor([[[-1.3566,  0.4052, -0.1762,  ...,  0.8985, -0.0705, -0.3700],\n",
      "         [-0.3700,  0.7223,  0.0529,  ...,  1.6913,  0.2995,  1.2861]],\n",
      "\n",
      "        [[-0.0513,  1.4358, -0.1538,  ..., -0.8205, -0.4444,  0.6324],\n",
      "         [ 0.3931, -2.0169, -1.2136,  ...,  0.1026, -1.0939,  0.8205]],\n",
      "\n",
      "        [[ 0.3392,  0.2500, -0.1964,  ...,  0.2857,  0.1785, -0.2143],\n",
      "         [-1.1606, -1.2141,  0.6071,  ...,  0.0536,  0.2321,  0.1250]],\n",
      "\n",
      "        ...,\n",
      "\n",
      "        [[ 1.2825, -0.1789,  0.4175,  ..., -0.9842, -0.1193,  1.2228],\n",
      "         [ 0.2088,  1.7149,  0.1491,  ...,  0.3430, -0.4921, -1.1035]],\n",
      "\n",
      "        [[ 0.6304, -0.7204, -0.2101,  ...,  0.3002,  0.3452,  0.1051],\n",
      "         [ 0.4352, -1.0206,  0.6604,  ..., -1.6509, -0.8705,  0.1051]],\n",
      "\n",
      "        [[ 0.8216,  0.6872, -0.6274,  ...,  0.5079,  0.5079,  0.9560],\n",
      "         [-0.0896, -0.4930, -0.2988,  ...,  0.1344, -0.0149, -0.4183]]])\n"
     ]
    }
   ],
   "source": [
    "from steves_utils.transforms import get_average_magnitude, get_average_power\n",
    "\n",
    "print(set([u for u,_ in val_original_source]))\n",
    "print(set([u for u,_ in val_original_target]))\n",
    "\n",
    "s_x, s_y, q_x, q_y, _ = next(iter(train_processed_source))\n",
    "print(s_x)\n",
    "\n",
    "# for ds in [\n",
    "#     train_processed_source,\n",
    "#     val_processed_source,\n",
    "#     test_processed_source,\n",
    "#     train_processed_target,\n",
    "#     val_processed_target,\n",
    "#     test_processed_target\n",
    "# ]:\n",
    "#     for s_x, s_y, q_x, q_y, _ in ds:\n",
    "#         for X in (s_x, q_x):\n",
    "#             for x in X:\n",
    "#                 assert np.isclose(get_average_magnitude(x.numpy()), 1.0)\n",
    "#                 assert np.isclose(get_average_power(x.numpy()), 1.0)\n",
    "                "
   ]
  },
  {
   "cell_type": "code",
   "execution_count": 21,
   "id": "bbdacba1",
   "metadata": {
    "execution": {
     "iopub.execute_input": "2022-03-24T07:51:57.646901Z",
     "iopub.status.busy": "2022-03-24T07:51:57.646011Z",
     "iopub.status.idle": "2022-03-24T07:51:57.879015Z",
     "shell.execute_reply": "2022-03-24T07:51:57.878633Z"
    },
    "papermill": {
     "duration": 0.261285,
     "end_time": "2022-03-24T07:51:57.879104",
     "exception": false,
     "start_time": "2022-03-24T07:51:57.617819",
     "status": "completed"
    },
    "tags": []
   },
   "outputs": [
    {
     "name": "stdout",
     "output_type": "stream",
     "text": [
      "(2, 256)\n"
     ]
    }
   ],
   "source": [
    "###################################\n",
    "# Build the model\n",
    "###################################\n",
    "# easfsl only wants a tuple for the shape\n",
    "model = Steves_Prototypical_Network(x_net, device=p.device, x_shape=tuple(p.x_shape))\n",
    "optimizer = Adam(params=model.parameters(), lr=p.lr)"
   ]
  },
  {
   "cell_type": "code",
   "execution_count": 22,
   "id": "22b39ac5",
   "metadata": {
    "execution": {
     "iopub.execute_input": "2022-03-24T07:51:57.928100Z",
     "iopub.status.busy": "2022-03-24T07:51:57.927727Z",
     "iopub.status.idle": "2022-03-24T11:57:58.883919Z",
     "shell.execute_reply": "2022-03-24T11:57:58.883491Z"
    },
    "papermill": {
     "duration": 14760.98299,
     "end_time": "2022-03-24T11:57:58.884007",
     "exception": false,
     "start_time": "2022-03-24T07:51:57.901017",
     "status": "completed"
    },
    "tags": []
   },
   "outputs": [
    {
     "name": "stdout",
     "output_type": "stream",
     "text": [
      "epoch: 1, [batch: 1 / 33600], examples_per_second: 6.3844, train_label_loss: 2.8087, \n"
     ]
    },
    {
     "name": "stdout",
     "output_type": "stream",
     "text": [
      "epoch: 1, [batch: 3360 / 33600], examples_per_second: 2928.7781, train_label_loss: 1.4395, \n"
     ]
    },
    {
     "name": "stdout",
     "output_type": "stream",
     "text": [
      "epoch: 1, [batch: 6720 / 33600], examples_per_second: 2983.6635, train_label_loss: 0.5660, \n"
     ]
    },
    {
     "name": "stdout",
     "output_type": "stream",
     "text": [
      "epoch: 1, [batch: 10080 / 33600], examples_per_second: 2941.6603, train_label_loss: 1.7894, \n"
     ]
    },
    {
     "name": "stdout",
     "output_type": "stream",
     "text": [
      "epoch: 1, [batch: 13440 / 33600], examples_per_second: 2920.5077, train_label_loss: 0.9682, \n"
     ]
    },
    {
     "name": "stdout",
     "output_type": "stream",
     "text": [
      "epoch: 1, [batch: 16800 / 33600], examples_per_second: 2975.6245, train_label_loss: 0.6981, \n"
     ]
    },
    {
     "name": "stdout",
     "output_type": "stream",
     "text": [
      "epoch: 1, [batch: 20160 / 33600], examples_per_second: 2969.4382, train_label_loss: 0.9314, \n"
     ]
    },
    {
     "name": "stdout",
     "output_type": "stream",
     "text": [
      "epoch: 1, [batch: 23520 / 33600], examples_per_second: 2989.9171, train_label_loss: 1.0558, \n"
     ]
    },
    {
     "name": "stdout",
     "output_type": "stream",
     "text": [
      "epoch: 1, [batch: 26880 / 33600], examples_per_second: 3091.8244, train_label_loss: 0.4781, \n"
     ]
    },
    {
     "name": "stdout",
     "output_type": "stream",
     "text": [
      "epoch: 1, [batch: 30240 / 33600], examples_per_second: 3390.8656, train_label_loss: 0.7328, \n"
     ]
    },
    {
     "name": "stdout",
     "output_type": "stream",
     "text": [
      "=============================================================\n",
      "epoch: 1, source_val_acc_label: 0.6458, target_val_acc_label: 0.7001, source_val_label_loss: 0.9435, target_val_label_loss: 6.6547, \n",
      "=============================================================\n"
     ]
    },
    {
     "name": "stdout",
     "output_type": "stream",
     "text": [
      "New best\n"
     ]
    },
    {
     "name": "stdout",
     "output_type": "stream",
     "text": [
      "epoch: 2, [batch: 1 / 33600], examples_per_second: 0.8522, train_label_loss: 1.2200, \n"
     ]
    },
    {
     "name": "stdout",
     "output_type": "stream",
     "text": [
      "epoch: 2, [batch: 3360 / 33600], examples_per_second: 2978.3757, train_label_loss: 0.6996, \n"
     ]
    },
    {
     "name": "stdout",
     "output_type": "stream",
     "text": [
      "epoch: 2, [batch: 6720 / 33600], examples_per_second: 3008.4150, train_label_loss: 1.2158, \n"
     ]
    },
    {
     "name": "stdout",
     "output_type": "stream",
     "text": [
      "epoch: 2, [batch: 10080 / 33600], examples_per_second: 3026.4048, train_label_loss: 0.6276, \n"
     ]
    },
    {
     "name": "stdout",
     "output_type": "stream",
     "text": [
      "epoch: 2, [batch: 13440 / 33600], examples_per_second: 2974.8848, train_label_loss: 0.6078, \n"
     ]
    },
    {
     "name": "stdout",
     "output_type": "stream",
     "text": [
      "epoch: 2, [batch: 16800 / 33600], examples_per_second: 2971.8047, train_label_loss: 0.7625, \n"
     ]
    },
    {
     "name": "stdout",
     "output_type": "stream",
     "text": [
      "epoch: 2, [batch: 20160 / 33600], examples_per_second: 2969.8230, train_label_loss: 0.4574, \n"
     ]
    },
    {
     "name": "stdout",
     "output_type": "stream",
     "text": [
      "epoch: 2, [batch: 23520 / 33600], examples_per_second: 2989.7856, train_label_loss: 0.5844, \n"
     ]
    },
    {
     "name": "stdout",
     "output_type": "stream",
     "text": [
      "epoch: 2, [batch: 26880 / 33600], examples_per_second: 3108.4757, train_label_loss: 1.3569, \n"
     ]
    },
    {
     "name": "stdout",
     "output_type": "stream",
     "text": [
      "epoch: 2, [batch: 30240 / 33600], examples_per_second: 3404.9373, train_label_loss: 0.5275, \n"
     ]
    },
    {
     "name": "stdout",
     "output_type": "stream",
     "text": [
      "=============================================================\n",
      "epoch: 2, source_val_acc_label: 0.6715, target_val_acc_label: 0.6984, source_val_label_loss: 0.8646, target_val_label_loss: 7.4069, \n",
      "=============================================================\n"
     ]
    },
    {
     "name": "stdout",
     "output_type": "stream",
     "text": [
      "epoch: 3, [batch: 1 / 33600], examples_per_second: 0.8623, train_label_loss: 0.4621, \n"
     ]
    },
    {
     "name": "stdout",
     "output_type": "stream",
     "text": [
      "epoch: 3, [batch: 3360 / 33600], examples_per_second: 2976.9950, train_label_loss: 0.4929, \n"
     ]
    },
    {
     "name": "stdout",
     "output_type": "stream",
     "text": [
      "epoch: 3, [batch: 6720 / 33600], examples_per_second: 2989.1786, train_label_loss: 1.2742, \n"
     ]
    },
    {
     "name": "stdout",
     "output_type": "stream",
     "text": [
      "epoch: 3, [batch: 10080 / 33600], examples_per_second: 2986.7298, train_label_loss: 0.5605, \n"
     ]
    },
    {
     "name": "stdout",
     "output_type": "stream",
     "text": [
      "epoch: 3, [batch: 13440 / 33600], examples_per_second: 2986.4060, train_label_loss: 0.5932, \n"
     ]
    },
    {
     "name": "stdout",
     "output_type": "stream",
     "text": [
      "epoch: 3, [batch: 16800 / 33600], examples_per_second: 3019.2119, train_label_loss: 0.8248, \n"
     ]
    },
    {
     "name": "stdout",
     "output_type": "stream",
     "text": [
      "epoch: 3, [batch: 20160 / 33600], examples_per_second: 2994.3002, train_label_loss: 0.6337, \n"
     ]
    },
    {
     "name": "stdout",
     "output_type": "stream",
     "text": [
      "epoch: 3, [batch: 23520 / 33600], examples_per_second: 2977.5674, train_label_loss: 1.0564, \n"
     ]
    },
    {
     "name": "stdout",
     "output_type": "stream",
     "text": [
      "epoch: 3, [batch: 26880 / 33600], examples_per_second: 3050.5337, train_label_loss: 0.6078, \n"
     ]
    },
    {
     "name": "stdout",
     "output_type": "stream",
     "text": [
      "epoch: 3, [batch: 30240 / 33600], examples_per_second: 3414.1813, train_label_loss: 0.9463, \n"
     ]
    },
    {
     "name": "stdout",
     "output_type": "stream",
     "text": [
      "=============================================================\n",
      "epoch: 3, source_val_acc_label: 0.6992, target_val_acc_label: 0.7345, source_val_label_loss: 0.8003, target_val_label_loss: 7.4608, \n",
      "=============================================================\n"
     ]
    },
    {
     "name": "stdout",
     "output_type": "stream",
     "text": [
      "New best\n"
     ]
    },
    {
     "name": "stdout",
     "output_type": "stream",
     "text": [
      "epoch: 4, [batch: 1 / 33600], examples_per_second: 0.8431, train_label_loss: 1.2660, \n"
     ]
    },
    {
     "name": "stdout",
     "output_type": "stream",
     "text": [
      "epoch: 4, [batch: 3360 / 33600], examples_per_second: 3372.3270, train_label_loss: 0.4325, \n"
     ]
    },
    {
     "name": "stdout",
     "output_type": "stream",
     "text": [
      "epoch: 4, [batch: 6720 / 33600], examples_per_second: 3436.3643, train_label_loss: 0.9819, \n"
     ]
    },
    {
     "name": "stdout",
     "output_type": "stream",
     "text": [
      "epoch: 4, [batch: 10080 / 33600], examples_per_second: 3376.9913, train_label_loss: 0.3833, \n"
     ]
    },
    {
     "name": "stdout",
     "output_type": "stream",
     "text": [
      "epoch: 4, [batch: 13440 / 33600], examples_per_second: 3332.3652, train_label_loss: 0.6510, \n"
     ]
    },
    {
     "name": "stdout",
     "output_type": "stream",
     "text": [
      "epoch: 4, [batch: 16800 / 33600], examples_per_second: 3796.2501, train_label_loss: 0.5575, \n"
     ]
    },
    {
     "name": "stdout",
     "output_type": "stream",
     "text": [
      "epoch: 4, [batch: 20160 / 33600], examples_per_second: 3920.0487, train_label_loss: 0.7139, \n"
     ]
    },
    {
     "name": "stdout",
     "output_type": "stream",
     "text": [
      "epoch: 4, [batch: 23520 / 33600], examples_per_second: 3913.0214, train_label_loss: 0.7556, \n"
     ]
    },
    {
     "name": "stdout",
     "output_type": "stream",
     "text": [
      "epoch: 4, [batch: 26880 / 33600], examples_per_second: 3911.2065, train_label_loss: 0.2810, \n"
     ]
    },
    {
     "name": "stdout",
     "output_type": "stream",
     "text": [
      "epoch: 4, [batch: 30240 / 33600], examples_per_second: 4411.3714, train_label_loss: 0.6199, \n"
     ]
    },
    {
     "name": "stdout",
     "output_type": "stream",
     "text": [
      "=============================================================\n",
      "epoch: 4, source_val_acc_label: 0.7192, target_val_acc_label: 0.7573, source_val_label_loss: 0.7603, target_val_label_loss: 8.7205, \n",
      "=============================================================\n"
     ]
    },
    {
     "name": "stdout",
     "output_type": "stream",
     "text": [
      "New best\n"
     ]
    },
    {
     "name": "stdout",
     "output_type": "stream",
     "text": [
      "epoch: 5, [batch: 1 / 33600], examples_per_second: 1.0663, train_label_loss: 0.7138, \n"
     ]
    },
    {
     "name": "stdout",
     "output_type": "stream",
     "text": [
      "epoch: 5, [batch: 3360 / 33600], examples_per_second: 2944.0575, train_label_loss: 0.5036, \n"
     ]
    },
    {
     "name": "stdout",
     "output_type": "stream",
     "text": [
      "epoch: 5, [batch: 6720 / 33600], examples_per_second: 2983.4987, train_label_loss: 0.5897, \n"
     ]
    },
    {
     "name": "stdout",
     "output_type": "stream",
     "text": [
      "epoch: 5, [batch: 10080 / 33600], examples_per_second: 3011.9488, train_label_loss: 0.7534, \n"
     ]
    },
    {
     "name": "stdout",
     "output_type": "stream",
     "text": [
      "epoch: 5, [batch: 13440 / 33600], examples_per_second: 2998.8389, train_label_loss: 0.5696, \n"
     ]
    },
    {
     "name": "stdout",
     "output_type": "stream",
     "text": [
      "epoch: 5, [batch: 16800 / 33600], examples_per_second: 2954.2648, train_label_loss: 0.8261, \n"
     ]
    },
    {
     "name": "stdout",
     "output_type": "stream",
     "text": [
      "epoch: 5, [batch: 20160 / 33600], examples_per_second: 2937.7199, train_label_loss: 0.6012, \n"
     ]
    },
    {
     "name": "stdout",
     "output_type": "stream",
     "text": [
      "epoch: 5, [batch: 23520 / 33600], examples_per_second: 2946.8009, train_label_loss: 0.4750, \n"
     ]
    },
    {
     "name": "stdout",
     "output_type": "stream",
     "text": [
      "epoch: 5, [batch: 26880 / 33600], examples_per_second: 2962.8357, train_label_loss: 0.4445, \n"
     ]
    },
    {
     "name": "stdout",
     "output_type": "stream",
     "text": [
      "epoch: 5, [batch: 30240 / 33600], examples_per_second: 3366.5922, train_label_loss: 0.1832, \n"
     ]
    },
    {
     "name": "stdout",
     "output_type": "stream",
     "text": [
      "=============================================================\n",
      "epoch: 5, source_val_acc_label: 0.7241, target_val_acc_label: 0.7721, source_val_label_loss: 0.7470, target_val_label_loss: 9.0223, \n",
      "=============================================================\n"
     ]
    },
    {
     "name": "stdout",
     "output_type": "stream",
     "text": [
      "New best\n"
     ]
    },
    {
     "name": "stdout",
     "output_type": "stream",
     "text": [
      "epoch: 6, [batch: 1 / 33600], examples_per_second: 0.9135, train_label_loss: 0.3518, \n"
     ]
    },
    {
     "name": "stdout",
     "output_type": "stream",
     "text": [
      "epoch: 6, [batch: 3360 / 33600], examples_per_second: 3344.1744, train_label_loss: 0.6565, \n"
     ]
    },
    {
     "name": "stdout",
     "output_type": "stream",
     "text": [
      "epoch: 6, [batch: 6720 / 33600], examples_per_second: 3364.0082, train_label_loss: 0.7393, \n"
     ]
    },
    {
     "name": "stdout",
     "output_type": "stream",
     "text": [
      "epoch: 6, [batch: 10080 / 33600], examples_per_second: 3679.9756, train_label_loss: 0.7706, \n"
     ]
    },
    {
     "name": "stdout",
     "output_type": "stream",
     "text": [
      "epoch: 6, [batch: 13440 / 33600], examples_per_second: 3904.2949, train_label_loss: 0.7325, \n"
     ]
    },
    {
     "name": "stdout",
     "output_type": "stream",
     "text": [
      "epoch: 6, [batch: 16800 / 33600], examples_per_second: 3896.5132, train_label_loss: 0.3984, \n"
     ]
    },
    {
     "name": "stdout",
     "output_type": "stream",
     "text": [
      "epoch: 6, [batch: 20160 / 33600], examples_per_second: 3886.6353, train_label_loss: 0.6525, \n"
     ]
    },
    {
     "name": "stdout",
     "output_type": "stream",
     "text": [
      "epoch: 6, [batch: 23520 / 33600], examples_per_second: 3933.6936, train_label_loss: 0.2610, \n"
     ]
    },
    {
     "name": "stdout",
     "output_type": "stream",
     "text": [
      "epoch: 6, [batch: 26880 / 33600], examples_per_second: 3462.8521, train_label_loss: 0.6666, \n"
     ]
    },
    {
     "name": "stdout",
     "output_type": "stream",
     "text": [
      "epoch: 6, [batch: 30240 / 33600], examples_per_second: 2976.5881, train_label_loss: 0.6205, \n"
     ]
    },
    {
     "name": "stdout",
     "output_type": "stream",
     "text": [
      "=============================================================\n",
      "epoch: 6, source_val_acc_label: 0.7332, target_val_acc_label: 0.7719, source_val_label_loss: 0.7412, target_val_label_loss: 9.5312, \n",
      "=============================================================\n"
     ]
    },
    {
     "name": "stdout",
     "output_type": "stream",
     "text": [
      "epoch: 7, [batch: 1 / 33600], examples_per_second: 0.8050, train_label_loss: 0.2962, \n"
     ]
    },
    {
     "name": "stdout",
     "output_type": "stream",
     "text": [
      "epoch: 7, [batch: 3360 / 33600], examples_per_second: 2967.0966, train_label_loss: 0.4891, \n"
     ]
    },
    {
     "name": "stdout",
     "output_type": "stream",
     "text": [
      "epoch: 7, [batch: 6720 / 33600], examples_per_second: 2986.2972, train_label_loss: 0.3208, \n"
     ]
    },
    {
     "name": "stdout",
     "output_type": "stream",
     "text": [
      "epoch: 7, [batch: 10080 / 33600], examples_per_second: 3015.4321, train_label_loss: 0.6642, \n"
     ]
    },
    {
     "name": "stdout",
     "output_type": "stream",
     "text": [
      "epoch: 7, [batch: 13440 / 33600], examples_per_second: 2983.3193, train_label_loss: 0.1752, \n"
     ]
    },
    {
     "name": "stdout",
     "output_type": "stream",
     "text": [
      "epoch: 7, [batch: 16800 / 33600], examples_per_second: 2985.3356, train_label_loss: 0.5037, \n"
     ]
    },
    {
     "name": "stdout",
     "output_type": "stream",
     "text": [
      "epoch: 7, [batch: 20160 / 33600], examples_per_second: 2992.1778, train_label_loss: 0.4533, \n"
     ]
    },
    {
     "name": "stdout",
     "output_type": "stream",
     "text": [
      "epoch: 7, [batch: 23520 / 33600], examples_per_second: 3421.2272, train_label_loss: 0.6773, \n"
     ]
    },
    {
     "name": "stdout",
     "output_type": "stream",
     "text": [
      "epoch: 7, [batch: 26880 / 33600], examples_per_second: 3541.9294, train_label_loss: 0.4815, \n"
     ]
    },
    {
     "name": "stdout",
     "output_type": "stream",
     "text": [
      "epoch: 7, [batch: 30240 / 33600], examples_per_second: 3020.3858, train_label_loss: 0.5194, \n"
     ]
    },
    {
     "name": "stdout",
     "output_type": "stream",
     "text": [
      "=============================================================\n",
      "epoch: 7, source_val_acc_label: 0.7373, target_val_acc_label: 0.7799, source_val_label_loss: 0.7440, target_val_label_loss: 10.0387, \n",
      "=============================================================\n"
     ]
    },
    {
     "name": "stdout",
     "output_type": "stream",
     "text": [
      "New best\n"
     ]
    },
    {
     "name": "stdout",
     "output_type": "stream",
     "text": [
      "epoch: 8, [batch: 1 / 33600], examples_per_second: 0.8067, train_label_loss: 0.1456, \n"
     ]
    },
    {
     "name": "stdout",
     "output_type": "stream",
     "text": [
      "epoch: 8, [batch: 3360 / 33600], examples_per_second: 3005.8480, train_label_loss: 0.2894, \n"
     ]
    },
    {
     "name": "stdout",
     "output_type": "stream",
     "text": [
      "epoch: 8, [batch: 6720 / 33600], examples_per_second: 2971.2362, train_label_loss: 0.1190, \n"
     ]
    },
    {
     "name": "stdout",
     "output_type": "stream",
     "text": [
      "epoch: 8, [batch: 10080 / 33600], examples_per_second: 3006.4798, train_label_loss: 0.2289, \n"
     ]
    },
    {
     "name": "stdout",
     "output_type": "stream",
     "text": [
      "epoch: 8, [batch: 13440 / 33600], examples_per_second: 2959.8441, train_label_loss: 0.3907, \n"
     ]
    },
    {
     "name": "stdout",
     "output_type": "stream",
     "text": [
      "epoch: 8, [batch: 16800 / 33600], examples_per_second: 3006.1594, train_label_loss: 0.6113, \n"
     ]
    },
    {
     "name": "stdout",
     "output_type": "stream",
     "text": [
      "epoch: 8, [batch: 20160 / 33600], examples_per_second: 3003.8377, train_label_loss: 0.3675, \n"
     ]
    },
    {
     "name": "stdout",
     "output_type": "stream",
     "text": [
      "epoch: 8, [batch: 23520 / 33600], examples_per_second: 3331.0223, train_label_loss: 0.2367, \n"
     ]
    },
    {
     "name": "stdout",
     "output_type": "stream",
     "text": [
      "epoch: 8, [batch: 26880 / 33600], examples_per_second: 3583.3102, train_label_loss: 0.3026, \n"
     ]
    },
    {
     "name": "stdout",
     "output_type": "stream",
     "text": [
      "epoch: 8, [batch: 30240 / 33600], examples_per_second: 2967.7044, train_label_loss: 0.0754, \n"
     ]
    },
    {
     "name": "stdout",
     "output_type": "stream",
     "text": [
      "=============================================================\n",
      "epoch: 8, source_val_acc_label: 0.7356, target_val_acc_label: 0.7827, source_val_label_loss: 0.7503, target_val_label_loss: 10.3485, \n",
      "=============================================================\n"
     ]
    },
    {
     "name": "stdout",
     "output_type": "stream",
     "text": [
      "New best\n"
     ]
    },
    {
     "name": "stdout",
     "output_type": "stream",
     "text": [
      "epoch: 9, [batch: 1 / 33600], examples_per_second: 0.8039, train_label_loss: 0.2759, \n"
     ]
    },
    {
     "name": "stdout",
     "output_type": "stream",
     "text": [
      "epoch: 9, [batch: 3360 / 33600], examples_per_second: 3000.1959, train_label_loss: 0.3902, \n"
     ]
    },
    {
     "name": "stdout",
     "output_type": "stream",
     "text": [
      "epoch: 9, [batch: 6720 / 33600], examples_per_second: 2962.9665, train_label_loss: 0.2442, \n"
     ]
    },
    {
     "name": "stdout",
     "output_type": "stream",
     "text": [
      "epoch: 9, [batch: 10080 / 33600], examples_per_second: 2978.2918, train_label_loss: 0.4311, \n"
     ]
    },
    {
     "name": "stdout",
     "output_type": "stream",
     "text": [
      "epoch: 9, [batch: 13440 / 33600], examples_per_second: 2960.2844, train_label_loss: 0.4124, \n"
     ]
    },
    {
     "name": "stdout",
     "output_type": "stream",
     "text": [
      "epoch: 9, [batch: 16800 / 33600], examples_per_second: 2976.8775, train_label_loss: 0.3864, \n"
     ]
    },
    {
     "name": "stdout",
     "output_type": "stream",
     "text": [
      "epoch: 9, [batch: 20160 / 33600], examples_per_second: 2983.6196, train_label_loss: 0.1983, \n"
     ]
    },
    {
     "name": "stdout",
     "output_type": "stream",
     "text": [
      "epoch: 9, [batch: 23520 / 33600], examples_per_second: 3326.3840, train_label_loss: 0.3863, \n"
     ]
    },
    {
     "name": "stdout",
     "output_type": "stream",
     "text": [
      "epoch: 9, [batch: 26880 / 33600], examples_per_second: 3511.7101, train_label_loss: 0.6091, \n"
     ]
    },
    {
     "name": "stdout",
     "output_type": "stream",
     "text": [
      "epoch: 9, [batch: 30240 / 33600], examples_per_second: 2988.8502, train_label_loss: 0.3956, \n"
     ]
    },
    {
     "name": "stdout",
     "output_type": "stream",
     "text": [
      "=============================================================\n",
      "epoch: 9, source_val_acc_label: 0.7353, target_val_acc_label: 0.7783, source_val_label_loss: 0.7699, target_val_label_loss: 11.0902, \n",
      "=============================================================\n"
     ]
    },
    {
     "name": "stdout",
     "output_type": "stream",
     "text": [
      "epoch: 10, [batch: 1 / 33600], examples_per_second: 0.8118, train_label_loss: 0.5530, \n"
     ]
    },
    {
     "name": "stdout",
     "output_type": "stream",
     "text": [
      "epoch: 10, [batch: 3360 / 33600], examples_per_second: 2960.3885, train_label_loss: 0.2710, \n"
     ]
    },
    {
     "name": "stdout",
     "output_type": "stream",
     "text": [
      "epoch: 10, [batch: 6720 / 33600], examples_per_second: 2976.4802, train_label_loss: 0.6449, \n"
     ]
    },
    {
     "name": "stdout",
     "output_type": "stream",
     "text": [
      "epoch: 10, [batch: 10080 / 33600], examples_per_second: 2963.2929, train_label_loss: 0.2747, \n"
     ]
    },
    {
     "name": "stdout",
     "output_type": "stream",
     "text": [
      "epoch: 10, [batch: 13440 / 33600], examples_per_second: 3006.5462, train_label_loss: 0.2972, \n"
     ]
    },
    {
     "name": "stdout",
     "output_type": "stream",
     "text": [
      "epoch: 10, [batch: 16800 / 33600], examples_per_second: 2966.0425, train_label_loss: 0.0749, \n"
     ]
    },
    {
     "name": "stdout",
     "output_type": "stream",
     "text": [
      "epoch: 10, [batch: 20160 / 33600], examples_per_second: 2972.4115, train_label_loss: 0.3536, \n"
     ]
    },
    {
     "name": "stdout",
     "output_type": "stream",
     "text": [
      "epoch: 10, [batch: 23520 / 33600], examples_per_second: 3390.5977, train_label_loss: 0.4232, \n"
     ]
    },
    {
     "name": "stdout",
     "output_type": "stream",
     "text": [
      "epoch: 10, [batch: 26880 / 33600], examples_per_second: 3422.0565, train_label_loss: 0.3938, \n"
     ]
    },
    {
     "name": "stdout",
     "output_type": "stream",
     "text": [
      "epoch: 10, [batch: 30240 / 33600], examples_per_second: 2957.8641, train_label_loss: 0.5343, \n"
     ]
    },
    {
     "name": "stdout",
     "output_type": "stream",
     "text": [
      "=============================================================\n",
      "epoch: 10, source_val_acc_label: 0.7337, target_val_acc_label: 0.7823, source_val_label_loss: 0.7866, target_val_label_loss: 11.3585, \n",
      "=============================================================\n"
     ]
    },
    {
     "name": "stdout",
     "output_type": "stream",
     "text": [
      "epoch: 11, [batch: 1 / 33600], examples_per_second: 0.8112, train_label_loss: 0.3368, \n"
     ]
    },
    {
     "name": "stdout",
     "output_type": "stream",
     "text": [
      "epoch: 11, [batch: 3360 / 33600], examples_per_second: 2954.7744, train_label_loss: 0.3595, \n"
     ]
    },
    {
     "name": "stdout",
     "output_type": "stream",
     "text": [
      "epoch: 11, [batch: 6720 / 33600], examples_per_second: 2982.3026, train_label_loss: 0.1459, \n"
     ]
    },
    {
     "name": "stdout",
     "output_type": "stream",
     "text": [
      "epoch: 11, [batch: 10080 / 33600], examples_per_second: 2971.6576, train_label_loss: 0.4592, \n"
     ]
    },
    {
     "name": "stdout",
     "output_type": "stream",
     "text": [
      "epoch: 11, [batch: 13440 / 33600], examples_per_second: 2971.6735, train_label_loss: 0.1592, \n"
     ]
    },
    {
     "name": "stdout",
     "output_type": "stream",
     "text": [
      "epoch: 11, [batch: 16800 / 33600], examples_per_second: 2978.3286, train_label_loss: 0.5440, \n"
     ]
    },
    {
     "name": "stdout",
     "output_type": "stream",
     "text": [
      "epoch: 11, [batch: 20160 / 33600], examples_per_second: 2993.1628, train_label_loss: 0.3093, \n"
     ]
    },
    {
     "name": "stdout",
     "output_type": "stream",
     "text": [
      "epoch: 11, [batch: 23520 / 33600], examples_per_second: 3380.2451, train_label_loss: 0.3927, \n"
     ]
    },
    {
     "name": "stdout",
     "output_type": "stream",
     "text": [
      "epoch: 11, [batch: 26880 / 33600], examples_per_second: 3394.0811, train_label_loss: 0.3640, \n"
     ]
    },
    {
     "name": "stdout",
     "output_type": "stream",
     "text": [
      "epoch: 11, [batch: 30240 / 33600], examples_per_second: 2979.1854, train_label_loss: 0.3072, \n"
     ]
    },
    {
     "name": "stdout",
     "output_type": "stream",
     "text": [
      "=============================================================\n",
      "epoch: 11, source_val_acc_label: 0.7287, target_val_acc_label: 0.7855, source_val_label_loss: 0.8101, target_val_label_loss: 11.6119, \n",
      "=============================================================\n"
     ]
    },
    {
     "name": "stdout",
     "output_type": "stream",
     "text": [
      "New best\n"
     ]
    },
    {
     "name": "stdout",
     "output_type": "stream",
     "text": [
      "epoch: 12, [batch: 1 / 33600], examples_per_second: 0.8123, train_label_loss: 0.5629, \n"
     ]
    },
    {
     "name": "stdout",
     "output_type": "stream",
     "text": [
      "epoch: 12, [batch: 3360 / 33600], examples_per_second: 2967.3396, train_label_loss: 0.2053, \n"
     ]
    },
    {
     "name": "stdout",
     "output_type": "stream",
     "text": [
      "epoch: 12, [batch: 6720 / 33600], examples_per_second: 2989.1168, train_label_loss: 0.3721, \n"
     ]
    },
    {
     "name": "stdout",
     "output_type": "stream",
     "text": [
      "epoch: 12, [batch: 10080 / 33600], examples_per_second: 2972.2336, train_label_loss: 0.2584, \n"
     ]
    },
    {
     "name": "stdout",
     "output_type": "stream",
     "text": [
      "epoch: 12, [batch: 13440 / 33600], examples_per_second: 2988.7833, train_label_loss: 0.1392, \n"
     ]
    },
    {
     "name": "stdout",
     "output_type": "stream",
     "text": [
      "epoch: 12, [batch: 16800 / 33600], examples_per_second: 2997.4861, train_label_loss: 0.1123, \n"
     ]
    },
    {
     "name": "stdout",
     "output_type": "stream",
     "text": [
      "epoch: 12, [batch: 20160 / 33600], examples_per_second: 3051.8475, train_label_loss: 0.1870, \n"
     ]
    },
    {
     "name": "stdout",
     "output_type": "stream",
     "text": [
      "epoch: 12, [batch: 23520 / 33600], examples_per_second: 3426.1515, train_label_loss: 0.0543, \n"
     ]
    },
    {
     "name": "stdout",
     "output_type": "stream",
     "text": [
      "epoch: 12, [batch: 26880 / 33600], examples_per_second: 3418.4686, train_label_loss: 0.5606, \n"
     ]
    },
    {
     "name": "stdout",
     "output_type": "stream",
     "text": [
      "epoch: 12, [batch: 30240 / 33600], examples_per_second: 2980.8333, train_label_loss: 0.6078, \n"
     ]
    },
    {
     "name": "stdout",
     "output_type": "stream",
     "text": [
      "=============================================================\n",
      "epoch: 12, source_val_acc_label: 0.7284, target_val_acc_label: 0.7920, source_val_label_loss: 0.8271, target_val_label_loss: 11.9660, \n",
      "=============================================================\n"
     ]
    },
    {
     "name": "stdout",
     "output_type": "stream",
     "text": [
      "New best\n"
     ]
    },
    {
     "name": "stdout",
     "output_type": "stream",
     "text": [
      "epoch: 13, [batch: 1 / 33600], examples_per_second: 0.8106, train_label_loss: 0.2703, \n"
     ]
    },
    {
     "name": "stdout",
     "output_type": "stream",
     "text": [
      "epoch: 13, [batch: 3360 / 33600], examples_per_second: 2947.9793, train_label_loss: 0.6287, \n"
     ]
    },
    {
     "name": "stdout",
     "output_type": "stream",
     "text": [
      "epoch: 13, [batch: 6720 / 33600], examples_per_second: 2958.9350, train_label_loss: 0.1353, \n"
     ]
    },
    {
     "name": "stdout",
     "output_type": "stream",
     "text": [
      "epoch: 13, [batch: 10080 / 33600], examples_per_second: 2951.9368, train_label_loss: 0.1148, \n"
     ]
    },
    {
     "name": "stdout",
     "output_type": "stream",
     "text": [
      "epoch: 13, [batch: 13440 / 33600], examples_per_second: 3006.9021, train_label_loss: 0.4262, \n"
     ]
    },
    {
     "name": "stdout",
     "output_type": "stream",
     "text": [
      "epoch: 13, [batch: 16800 / 33600], examples_per_second: 2981.0763, train_label_loss: 0.1663, \n"
     ]
    },
    {
     "name": "stdout",
     "output_type": "stream",
     "text": [
      "epoch: 13, [batch: 20160 / 33600], examples_per_second: 3060.9156, train_label_loss: 0.5807, \n"
     ]
    },
    {
     "name": "stdout",
     "output_type": "stream",
     "text": [
      "epoch: 13, [batch: 23520 / 33600], examples_per_second: 3401.8812, train_label_loss: 0.0517, \n"
     ]
    },
    {
     "name": "stdout",
     "output_type": "stream",
     "text": [
      "epoch: 13, [batch: 26880 / 33600], examples_per_second: 3369.2934, train_label_loss: 0.1056, \n"
     ]
    },
    {
     "name": "stdout",
     "output_type": "stream",
     "text": [
      "epoch: 13, [batch: 30240 / 33600], examples_per_second: 3398.8155, train_label_loss: 0.0239, \n"
     ]
    },
    {
     "name": "stdout",
     "output_type": "stream",
     "text": [
      "=============================================================\n",
      "epoch: 13, source_val_acc_label: 0.7249, target_val_acc_label: 0.7868, source_val_label_loss: 0.8627, target_val_label_loss: 12.3089, \n",
      "=============================================================\n"
     ]
    },
    {
     "name": "stdout",
     "output_type": "stream",
     "text": [
      "epoch: 14, [batch: 1 / 33600], examples_per_second: 0.9259, train_label_loss: 0.3647, \n"
     ]
    },
    {
     "name": "stdout",
     "output_type": "stream",
     "text": [
      "epoch: 14, [batch: 3360 / 33600], examples_per_second: 3897.6740, train_label_loss: 0.2656, \n"
     ]
    },
    {
     "name": "stdout",
     "output_type": "stream",
     "text": [
      "epoch: 14, [batch: 6720 / 33600], examples_per_second: 3900.9801, train_label_loss: 0.2914, \n"
     ]
    },
    {
     "name": "stdout",
     "output_type": "stream",
     "text": [
      "epoch: 14, [batch: 10080 / 33600], examples_per_second: 3931.5121, train_label_loss: 0.1465, \n"
     ]
    },
    {
     "name": "stdout",
     "output_type": "stream",
     "text": [
      "epoch: 14, [batch: 13440 / 33600], examples_per_second: 3890.4844, train_label_loss: 0.5072, \n"
     ]
    },
    {
     "name": "stdout",
     "output_type": "stream",
     "text": [
      "epoch: 14, [batch: 16800 / 33600], examples_per_second: 4006.0288, train_label_loss: 0.3390, \n"
     ]
    },
    {
     "name": "stdout",
     "output_type": "stream",
     "text": [
      "epoch: 14, [batch: 20160 / 33600], examples_per_second: 3899.4570, train_label_loss: 0.1516, \n"
     ]
    },
    {
     "name": "stdout",
     "output_type": "stream",
     "text": [
      "epoch: 14, [batch: 23520 / 33600], examples_per_second: 3852.9413, train_label_loss: 0.2198, \n"
     ]
    },
    {
     "name": "stdout",
     "output_type": "stream",
     "text": [
      "epoch: 14, [batch: 26880 / 33600], examples_per_second: 3929.4870, train_label_loss: 0.1889, \n"
     ]
    },
    {
     "name": "stdout",
     "output_type": "stream",
     "text": [
      "epoch: 14, [batch: 30240 / 33600], examples_per_second: 3895.4530, train_label_loss: 0.2820, \n"
     ]
    },
    {
     "name": "stdout",
     "output_type": "stream",
     "text": [
      "=============================================================\n",
      "epoch: 14, source_val_acc_label: 0.7249, target_val_acc_label: 0.7859, source_val_label_loss: 0.8759, target_val_label_loss: 12.8776, \n",
      "=============================================================\n"
     ]
    },
    {
     "name": "stdout",
     "output_type": "stream",
     "text": [
      "epoch: 15, [batch: 1 / 33600], examples_per_second: 1.0862, train_label_loss: 0.2269, \n"
     ]
    },
    {
     "name": "stdout",
     "output_type": "stream",
     "text": [
      "epoch: 15, [batch: 3360 / 33600], examples_per_second: 3981.7843, train_label_loss: 0.1794, \n"
     ]
    },
    {
     "name": "stdout",
     "output_type": "stream",
     "text": [
      "epoch: 15, [batch: 6720 / 33600], examples_per_second: 4004.9143, train_label_loss: 0.2658, \n"
     ]
    },
    {
     "name": "stdout",
     "output_type": "stream",
     "text": [
      "epoch: 15, [batch: 10080 / 33600], examples_per_second: 4025.7600, train_label_loss: 0.2390, \n"
     ]
    },
    {
     "name": "stdout",
     "output_type": "stream",
     "text": [
      "epoch: 15, [batch: 13440 / 33600], examples_per_second: 3941.9291, train_label_loss: 0.1132, \n"
     ]
    },
    {
     "name": "stdout",
     "output_type": "stream",
     "text": [
      "epoch: 15, [batch: 16800 / 33600], examples_per_second: 3982.3732, train_label_loss: 0.0326, \n"
     ]
    },
    {
     "name": "stdout",
     "output_type": "stream",
     "text": [
      "epoch: 15, [batch: 20160 / 33600], examples_per_second: 4048.7018, train_label_loss: 0.1385, \n"
     ]
    },
    {
     "name": "stdout",
     "output_type": "stream",
     "text": [
      "epoch: 15, [batch: 23520 / 33600], examples_per_second: 3926.4313, train_label_loss: 0.3775, \n"
     ]
    },
    {
     "name": "stdout",
     "output_type": "stream",
     "text": [
      "epoch: 15, [batch: 26880 / 33600], examples_per_second: 3928.5561, train_label_loss: 0.3635, \n"
     ]
    },
    {
     "name": "stdout",
     "output_type": "stream",
     "text": [
      "epoch: 15, [batch: 30240 / 33600], examples_per_second: 3974.1436, train_label_loss: 0.0554, \n"
     ]
    },
    {
     "name": "stdout",
     "output_type": "stream",
     "text": [
      "=============================================================\n",
      "epoch: 15, source_val_acc_label: 0.7238, target_val_acc_label: 0.7881, source_val_label_loss: 0.9193, target_val_label_loss: 13.5602, \n",
      "=============================================================\n"
     ]
    },
    {
     "name": "stdout",
     "output_type": "stream",
     "text": [
      "epoch: 16, [batch: 1 / 33600], examples_per_second: 1.0919, train_label_loss: 0.1334, \n"
     ]
    },
    {
     "name": "stdout",
     "output_type": "stream",
     "text": [
      "epoch: 16, [batch: 3360 / 33600], examples_per_second: 3927.5912, train_label_loss: 0.2076, \n"
     ]
    },
    {
     "name": "stdout",
     "output_type": "stream",
     "text": [
      "epoch: 16, [batch: 6720 / 33600], examples_per_second: 3907.7108, train_label_loss: 0.3848, \n"
     ]
    },
    {
     "name": "stdout",
     "output_type": "stream",
     "text": [
      "epoch: 16, [batch: 10080 / 33600], examples_per_second: 4015.1683, train_label_loss: 0.8033, \n"
     ]
    },
    {
     "name": "stdout",
     "output_type": "stream",
     "text": [
      "epoch: 16, [batch: 13440 / 33600], examples_per_second: 3990.1942, train_label_loss: 0.3120, \n"
     ]
    },
    {
     "name": "stdout",
     "output_type": "stream",
     "text": [
      "epoch: 16, [batch: 16800 / 33600], examples_per_second: 4029.4062, train_label_loss: 0.2732, \n"
     ]
    },
    {
     "name": "stdout",
     "output_type": "stream",
     "text": [
      "epoch: 16, [batch: 20160 / 33600], examples_per_second: 3987.9692, train_label_loss: 0.5271, \n"
     ]
    },
    {
     "name": "stdout",
     "output_type": "stream",
     "text": [
      "epoch: 16, [batch: 23520 / 33600], examples_per_second: 3944.2068, train_label_loss: 0.2398, \n"
     ]
    },
    {
     "name": "stdout",
     "output_type": "stream",
     "text": [
      "epoch: 16, [batch: 26880 / 33600], examples_per_second: 3915.2079, train_label_loss: 0.2552, \n"
     ]
    },
    {
     "name": "stdout",
     "output_type": "stream",
     "text": [
      "epoch: 16, [batch: 30240 / 33600], examples_per_second: 3862.0653, train_label_loss: 0.2581, \n"
     ]
    },
    {
     "name": "stdout",
     "output_type": "stream",
     "text": [
      "=============================================================\n",
      "epoch: 16, source_val_acc_label: 0.7193, target_val_acc_label: 0.7838, source_val_label_loss: 0.9465, target_val_label_loss: 14.1572, \n",
      "=============================================================\n"
     ]
    },
    {
     "name": "stdout",
     "output_type": "stream",
     "text": [
      "Patience (3) exhausted\n"
     ]
    }
   ],
   "source": [
    "###################################\n",
    "# train\n",
    "###################################\n",
    "jig = PTN_Train_Eval_Test_Jig(model, p.BEST_MODEL_PATH, p.device)\n",
    "\n",
    "jig.train(\n",
    "    train_iterable=datasets.source.processed.train,\n",
    "    source_val_iterable=datasets.source.processed.val,\n",
    "    target_val_iterable=datasets.target.processed.val,\n",
    "    num_epochs=p.n_epoch,\n",
    "    num_logs_per_epoch=p.NUM_LOGS_PER_EPOCH,\n",
    "    patience=p.patience,\n",
    "    optimizer=optimizer,\n",
    "    criteria_for_best=p.criteria_for_best,\n",
    ")"
   ]
  },
  {
   "cell_type": "code",
   "execution_count": 23,
   "id": "31e8fabf",
   "metadata": {
    "execution": {
     "iopub.execute_input": "2022-03-24T11:57:59.026834Z",
     "iopub.status.busy": "2022-03-24T11:57:59.026466Z",
     "iopub.status.idle": "2022-03-24T11:57:59.061520Z",
     "shell.execute_reply": "2022-03-24T11:57:59.060848Z"
    },
    "papermill": {
     "duration": 0.108488,
     "end_time": "2022-03-24T11:57:59.061679",
     "exception": false,
     "start_time": "2022-03-24T11:57:58.953191",
     "status": "completed"
    },
    "tags": []
   },
   "outputs": [],
   "source": [
    "total_experiment_time_secs = time.time() - start_time_secs"
   ]
  },
  {
   "cell_type": "code",
   "execution_count": 24,
   "id": "87b9595b",
   "metadata": {
    "execution": {
     "iopub.execute_input": "2022-03-24T11:57:59.215362Z",
     "iopub.status.busy": "2022-03-24T11:57:59.214766Z",
     "iopub.status.idle": "2022-03-24T12:06:26.726854Z",
     "shell.execute_reply": "2022-03-24T12:06:26.726093Z"
    },
    "papermill": {
     "duration": 507.590722,
     "end_time": "2022-03-24T12:06:26.727051",
     "exception": false,
     "start_time": "2022-03-24T11:57:59.136329",
     "status": "completed"
    },
    "tags": []
   },
   "outputs": [],
   "source": [
    "###################################\n",
    "# Evaluate the model\n",
    "###################################\n",
    "source_test_label_accuracy, source_test_label_loss = jig.test(datasets.source.processed.test)\n",
    "target_test_label_accuracy, target_test_label_loss = jig.test(datasets.target.processed.test)\n",
    "\n",
    "source_val_label_accuracy, source_val_label_loss = jig.test(datasets.source.processed.val)\n",
    "target_val_label_accuracy, target_val_label_loss = jig.test(datasets.target.processed.val)\n",
    "\n",
    "history = jig.get_history()\n",
    "\n",
    "total_epochs_trained = len(history[\"epoch_indices\"])\n",
    "\n",
    "val_dl = Iterable_Aggregator((datasets.source.original.val,datasets.target.original.val))\n",
    "\n",
    "confusion = ptn_confusion_by_domain_over_dataloader(model, p.device, val_dl)\n",
    "per_domain_accuracy = per_domain_accuracy_from_confusion(confusion)\n",
    "\n",
    "# Add a key to per_domain_accuracy for if it was a source domain\n",
    "for domain, accuracy in per_domain_accuracy.items():\n",
    "    per_domain_accuracy[domain] = {\n",
    "        \"accuracy\": accuracy,\n",
    "        \"source?\": domain in p.domains_source\n",
    "    }\n",
    "\n",
    "# Do an independent accuracy assesment JUST TO BE SURE!\n",
    "# _source_test_label_accuracy = independent_accuracy_assesment(model, datasets.source.processed.test, p.device)\n",
    "# _target_test_label_accuracy = independent_accuracy_assesment(model, datasets.target.processed.test, p.device)\n",
    "# _source_val_label_accuracy = independent_accuracy_assesment(model, datasets.source.processed.val, p.device)\n",
    "# _target_val_label_accuracy = independent_accuracy_assesment(model, datasets.target.processed.val, p.device)\n",
    "\n",
    "# assert(_source_test_label_accuracy == source_test_label_accuracy)\n",
    "# assert(_target_test_label_accuracy == target_test_label_accuracy)\n",
    "# assert(_source_val_label_accuracy == source_val_label_accuracy)\n",
    "# assert(_target_val_label_accuracy == target_val_label_accuracy)\n",
    "\n",
    "experiment = {\n",
    "    \"experiment_name\": p.experiment_name,\n",
    "    \"parameters\": dict(p),\n",
    "    \"results\": {\n",
    "        \"source_test_label_accuracy\": source_test_label_accuracy,\n",
    "        \"source_test_label_loss\": source_test_label_loss,\n",
    "        \"target_test_label_accuracy\": target_test_label_accuracy,\n",
    "        \"target_test_label_loss\": target_test_label_loss,\n",
    "        \"source_val_label_accuracy\": source_val_label_accuracy,\n",
    "        \"source_val_label_loss\": source_val_label_loss,\n",
    "        \"target_val_label_accuracy\": target_val_label_accuracy,\n",
    "        \"target_val_label_loss\": target_val_label_loss,\n",
    "        \"total_epochs_trained\": total_epochs_trained,\n",
    "        \"total_experiment_time_secs\": total_experiment_time_secs,\n",
    "        \"confusion\": confusion,\n",
    "        \"per_domain_accuracy\": per_domain_accuracy,\n",
    "    },\n",
    "    \"history\": history,\n",
    "    \"dataset_metrics\": get_dataset_metrics(datasets, \"ptn\"),\n",
    "}"
   ]
  },
  {
   "cell_type": "code",
   "execution_count": 25,
   "id": "54a21829",
   "metadata": {
    "execution": {
     "iopub.execute_input": "2022-03-24T12:06:26.880033Z",
     "iopub.status.busy": "2022-03-24T12:06:26.879652Z",
     "iopub.status.idle": "2022-03-24T12:06:27.116285Z",
     "shell.execute_reply": "2022-03-24T12:06:27.115507Z"
    },
    "papermill": {
     "duration": 0.312985,
     "end_time": "2022-03-24T12:06:27.116468",
     "exception": false,
     "start_time": "2022-03-24T12:06:26.803483",
     "status": "completed"
    },
    "tags": []
   },
   "outputs": [
    {
     "data": {
      "image/png": "[encoded data removed]",
      "text/plain": [
       "<Figure size 1080x504 with 1 Axes>"
      ]
     },
     "metadata": {
      "needs_background": "light"
     },
     "output_type": "display_data"
    }
   ],
   "source": [
    "ax = get_loss_curve(experiment)\n",
    "plt.show()"
   ]
  },
  {
   "cell_type": "code",
   "execution_count": 26,
   "id": "fd8a0f60",
   "metadata": {
    "execution": {
     "iopub.execute_input": "2022-03-24T12:06:27.274836Z",
     "iopub.status.busy": "2022-03-24T12:06:27.274458Z",
     "iopub.status.idle": "2022-03-24T12:06:27.593680Z",
     "shell.execute_reply": "2022-03-24T12:06:27.590710Z"
    },
    "papermill": {
     "duration": 0.397817,
     "end_time": "2022-03-24T12:06:27.593859",
     "exception": false,
     "start_time": "2022-03-24T12:06:27.196042",
     "status": "completed"
    },
    "tags": []
   },
   "outputs": [
    {
     "data": {
      "text/plain": [
       "<AxesSubplot:title={'center':'Results'}>"
      ]
     },
     "execution_count": 26,
     "metadata": {},
     "output_type": "execute_result"
    },
    {
     "data": {
      "image/png": "[encoded data removed]",
      "text/plain": [
       "<Figure size 1080x504 with 1 Axes>"
      ]
     },
     "metadata": {
      "needs_background": "light"
     },
     "output_type": "display_data"
    }
   ],
   "source": [
    "get_results_table(experiment)"
   ]
  },
  {
   "cell_type": "code",
   "execution_count": 27,
   "id": "cf8dc689",
   "metadata": {
    "execution": {
     "iopub.execute_input": "2022-03-24T12:06:27.755147Z",
     "iopub.status.busy": "2022-03-24T12:06:27.754770Z",
     "iopub.status.idle": "2022-03-24T12:06:28.009949Z",
     "shell.execute_reply": "2022-03-24T12:06:28.010661Z"
    },
    "papermill": {
     "duration": 0.336206,
     "end_time": "2022-03-24T12:06:28.010873",
     "exception": false,
     "start_time": "2022-03-24T12:06:27.674667",
     "status": "completed"
    },
    "tags": []
   },
   "outputs": [
    {
     "data": {
      "text/plain": [
       "<AxesSubplot:title={'center':'Per Domain Validation Accuracy'}, xlabel='domain'>"
      ]
     },
     "execution_count": 27,
     "metadata": {},
     "output_type": "execute_result"
    },
    {
     "data": {
      "image/png": "[encoded data removed]",
      "text/plain": [
       "<Figure size 1080x504 with 1 Axes>"
      ]
     },
     "metadata": {
      "needs_background": "light"
     },
     "output_type": "display_data"
    }
   ],
   "source": [
    "get_domain_accuracies(experiment)"
   ]
  },
  {
   "cell_type": "code",
   "execution_count": 28,
   "id": "a74ae082",
   "metadata": {
    "execution": {
     "iopub.execute_input": "2022-03-24T12:06:28.176850Z",
     "iopub.status.busy": "2022-03-24T12:06:28.176123Z",
     "iopub.status.idle": "2022-03-24T12:06:28.199100Z",
     "shell.execute_reply": "2022-03-24T12:06:28.198273Z"
    },
    "papermill": {
     "duration": 0.105196,
     "end_time": "2022-03-24T12:06:28.199279",
     "exception": false,
     "start_time": "2022-03-24T12:06:28.094083",
     "status": "completed"
    },
    "tags": []
   },
   "outputs": [
    {
     "name": "stdout",
     "output_type": "stream",
     "text": [
      "Source Test Label Accuracy: 0.7275716145833333 Target Test Label Accuracy: 0.7838676318510859\n",
      "Source Val Label Accuracy: 0.7283984375 Target Val Label Accuracy: 0.7919963080168776\n"
     ]
    }
   ],
   "source": [
    "print(\"Source Test Label Accuracy:\", experiment[\"results\"][\"source_test_label_accuracy\"], \"Target Test Label Accuracy:\", experiment[\"results\"][\"target_test_label_accuracy\"])\n",
    "print(\"Source Val Label Accuracy:\", experiment[\"results\"][\"source_val_label_accuracy\"], \"Target Val Label Accuracy:\", experiment[\"results\"][\"target_val_label_accuracy\"])"
   ]
  },
  {
   "cell_type": "code",
   "execution_count": 29,
   "id": "dacca602",
   "metadata": {
    "execution": {
     "iopub.execute_input": "2022-03-24T12:06:28.360213Z",
     "iopub.status.busy": "2022-03-24T12:06:28.359768Z",
     "iopub.status.idle": "2022-03-24T12:06:28.384721Z",
     "shell.execute_reply": "2022-03-24T12:06:28.385191Z"
    },
    "papermill": {
     "duration": 0.104279,
     "end_time": "2022-03-24T12:06:28.385334",
     "exception": false,
     "start_time": "2022-03-24T12:06:28.281055",
     "status": "completed"
    },
    "tags": [
     "experiment_json"
    ]
   },
   "outputs": [
    {
     "data": {
      "text/plain": [
       "'{\"experiment_name\": \"tl_1v2:wisig-oracle.run1\", \"parameters\": {\"experiment_name\": \"tl_1v2:wisig-oracle.run1\", \"device\": \"cuda\", \"lr\": 0.0001, \"n_shot\": 3, \"n_query\": 2, \"train_k_factor\": 3, \"val_k_factor\": 2, \"test_k_factor\": 2, \"torch_default_dtype\": \"torch.float32\", \"n_epoch\": 50, \"patience\": 3, \"criteria_for_best\": \"target_accuracy\", \"x_net\": [{\"class\": \"nnReshape\", \"kargs\": {\"shape\": [-1, 1, 2, 256]}}, {\"class\": \"Conv2d\", \"kargs\": {\"in_channels\": 1, \"out_channels\": 256, \"kernel_size\": [1, 7], \"bias\": false, \"padding\": [0, 3]}}, {\"class\": \"ReLU\", \"kargs\": {\"inplace\": true}}, {\"class\": \"BatchNorm2d\", \"kargs\": {\"num_features\": 256}}, {\"class\": \"Conv2d\", \"kargs\": {\"in_channels\": 256, \"out_channels\": 80, \"kernel_size\": [2, 7], \"bias\": true, \"padding\": [0, 3]}}, {\"class\": \"ReLU\", \"kargs\": {\"inplace\": true}}, {\"class\": \"BatchNorm2d\", \"kargs\": {\"num_features\": 80}}, {\"class\": \"Flatten\", \"kargs\": {}}, {\"class\": \"Linear\", \"kargs\": {\"in_features\": 20480, \"out_features\": 256}}, {\"class\": \"ReLU\", \"kargs\": {\"inplace\": true}}, {\"class\": \"BatchNorm1d\", \"kargs\": {\"num_features\": 256}}, {\"class\": \"Linear\", \"kargs\": {\"in_features\": 256, \"out_features\": 256}}], \"NUM_LOGS_PER_EPOCH\": 10, \"BEST_MODEL_PATH\": \"./best_model.pth\", \"n_way\": 16, \"datasets\": [{\"labels\": [\"1-10\", \"1-12\", \"1-14\", \"1-16\", \"1-18\", \"1-19\", \"1-8\", \"10-11\", \"10-17\", \"10-4\", \"10-7\", \"11-1\", \"11-10\", \"11-19\", \"11-20\", \"11-4\", \"11-7\", \"12-19\", \"12-20\", \"12-7\", \"13-14\", \"13-18\", \"13-19\", \"13-20\", \"13-3\", \"13-7\", \"14-10\", \"14-11\", \"14-12\", \"14-13\", \"14-14\", \"14-19\", \"14-20\", \"14-7\", \"14-8\", \"14-9\", \"15-1\", \"15-19\", \"15-6\", \"16-1\", \"16-16\", \"16-19\", \"16-20\", \"17-10\", \"17-11\", \"18-1\", \"18-10\", \"18-11\", \"18-12\", \"18-13\", \"18-14\", \"18-15\", \"18-16\", \"18-17\", \"18-19\", \"18-2\", \"18-20\", \"18-4\", \"18-5\", \"18-7\", \"18-8\", \"18-9\", \"19-1\", \"19-10\", \"19-11\", \"19-12\", \"19-13\", \"19-14\", \"19-15\", \"19-19\", \"19-2\", \"19-20\", \"19-3\", \"19-4\", \"19-6\", \"19-7\", \"19-8\", \"19-9\", \"2-1\", \"2-13\", \"2-15\", \"2-3\", \"2-4\", \"2-5\", \"2-6\", \"2-7\", \"2-8\", \"20-1\", \"20-12\", \"20-14\", \"20-15\", \"20-16\", \"20-18\", \"20-19\", \"20-20\", \"20-3\", \"20-4\", \"20-5\", \"20-7\", \"20-8\", \"3-1\", \"3-13\", \"3-18\", \"3-2\", \"3-8\", \"4-1\", \"4-10\", \"4-11\", \"5-1\", \"5-5\", \"6-1\", \"6-15\", \"6-6\", \"7-10\", \"7-11\", \"7-12\", \"7-13\", \"7-14\", \"7-7\", \"7-8\", \"7-9\", \"8-1\", \"8-13\", \"8-14\", \"8-18\", \"8-20\", \"8-3\", \"8-8\", \"9-1\", \"9-7\"], \"domains\": [1, 2, 3, 4], \"num_examples_per_domain_per_label\": -1, \"pickle_path\": \"/root/csc500-main/datasets/wisig.node3-19.stratified_ds.2022A.pkl\", \"source_or_target_dataset\": \"target\", \"x_transforms\": [\"unit_power\"], \"episode_transforms\": [], \"domain_prefix\": \"Wisig_\"}, {\"labels\": [\"3123D52\", \"3123D65\", \"3123D79\", \"3123D80\", \"3123D54\", \"3123D70\", \"3123D7B\", \"3123D89\", \"3123D58\", \"3123D76\", \"3123D7D\", \"3123EFE\", \"3123D64\", \"3123D78\", \"3123D7E\", \"3124E4A\"], \"domains\": [32, 38, 8, 44, 14, 50, 20, 26], \"num_examples_per_domain_per_label\": 10000, \"pickle_path\": \"/root/csc500-main/datasets/oracle.Run1_10kExamples_stratified_ds.2022A.pkl\", \"source_or_target_dataset\": \"source\", \"x_transforms\": [\"unit_power\"], \"episode_transforms\": [], \"domain_prefix\": \"ORACLE.run1\"}], \"dataset_seed\": 500, \"seed\": 500, \"x_shape\": [2, 256], \"domains_source\": [\"ORACLE.run132\", \"ORACLE.run138\", \"ORACLE.run18\", \"ORACLE.run144\", \"ORACLE.run114\", \"ORACLE.run150\", \"ORACLE.run120\", \"ORACLE.run126\"], \"domains_target\": [\"Wisig_1\", \"Wisig_2\", \"Wisig_3\", \"Wisig_4\"]}, \"results\": {\"source_test_label_accuracy\": 0.7275716145833333, \"source_test_label_loss\": 0.8264442086219788, \"target_test_label_accuracy\": 0.7838676318510859, \"target_test_label_loss\": 11.863887786865234, \"source_val_label_accuracy\": 0.7283984375, \"source_val_label_loss\": 0.8271132111549377, \"target_val_label_accuracy\": 0.7919963080168776, \"target_val_label_loss\": 11.965989112854004, \"total_epochs_trained\": 16, \"total_experiment_time_secs\": 14931.351268053055, \"confusion\": {\"ORACLE.run150\": {\"7\": {\"7\": 788, \"10\": 27, \"13\": 229, \"5\": 143, \"6\": 7, \"4\": 6}, \"10\": {\"10\": 1102, \"8\": 18, \"7\": 16, \"0\": 42, \"13\": 22}, \"0\": {\"0\": 1041, \"10\": 55, \"2\": 97, \"13\": 5, \"5\": 2}, \"11\": {\"11\": 1059, \"9\": 93, \"15\": 34, \"14\": 6, \"1\": 4, \"12\": 4}, \"2\": {\"2\": 1121, \"0\": 79}, \"14\": {\"14\": 1176, \"11\": 12, \"12\": 12}, \"9\": {\"9\": 939, \"11\": 176, \"12\": 84, \"14\": 1}, \"13\": {\"13\": 809, \"5\": 171, \"7\": 138, \"6\": 53, \"10\": 14, \"4\": 10, \"0\": 4, \"1\": 1}, \"8\": {\"8\": 1155, \"10\": 29, \"3\": 16}, \"15\": {\"1\": 177, \"15\": 919, \"4\": 71, \"11\": 16, \"6\": 17}, \"4\": {\"4\": 621, \"5\": 134, \"1\": 149, \"15\": 153, \"13\": 23, \"6\": 94, \"7\": 26}, \"5\": {\"6\": 80, \"5\": 497, \"13\": 154, \"7\": 245, \"4\": 170, \"1\": 44, \"10\": 8, \"0\": 2}, \"3\": {\"3\": 1168, \"8\": 32}, \"1\": {\"15\": 207, \"1\": 781, \"4\": 88, \"13\": 5, \"6\": 99, \"5\": 14, \"11\": 5, \"14\": 1}, \"6\": {\"6\": 848, \"4\": 124, \"13\": 70, \"15\": 19, \"1\": 87, \"5\": 46, \"7\": 6}, \"12\": {\"12\": 1094, \"9\": 76, \"14\": 24, \"11\": 6}}, \"ORACLE.run114\": {\"14\": {\"14\": 971, \"3\": 30, \"2\": 80, \"6\": 46, \"13\": 70, \"4\": 2, \"10\": 1}, \"6\": {\"13\": 404, \"14\": 37, \"6\": 720, \"2\": 38, \"4\": 1}, \"5\": {\"5\": 807, \"1\": 125, \"4\": 197, \"2\": 47, \"7\": 11, \"3\": 11, \"15\": 2}, \"15\": {\"15\": 1172, \"7\": 26, \"5\": 1, \"2\": 1}, \"11\": {\"11\": 1077, \"9\": 79, \"0\": 43, \"10\": 1}, \"8\": {\"8\": 1200}, \"12\": {\"12\": 1198, \"9\": 2}, \"1\": {\"1\": 1105, \"5\": 82, \"4\": 11, \"3\": 1, \"7\": 1}, \"2\": {\"2\": 589, \"14\": 170, \"4\": 87, \"5\": 136, \"3\": 66, \"6\": 73, \"13\": 63, \"15\": 16}, \"13\": {\"14\": 165, \"13\": 418, \"6\": 507, \"5\": 13, \"2\": 87, \"10\": 1, \"4\": 5, \"3\": 2, \"0\": 1, \"15\": 1}, \"3\": {\"3\": 997, \"4\": 129, \"2\": 27, \"14\": 34, \"10\": 1, \"13\": 2, \"5\": 4, \"0\": 6}, \"0\": {\"0\": 1085, \"10\": 63, \"3\": 30, \"11\": 19, \"14\": 3}, \"9\": {\"9\": 1195, \"11\": 2, \"12\": 3}, \"4\": {\"4\": 869, \"3\": 109, \"2\": 61, \"5\": 146, \"1\": 11, \"14\": 3, \"13\": 1}, \"7\": {\"7\": 1177, \"1\": 7, \"15\": 12, \"5\": 4}, \"10\": {\"10\": 1164, \"0\": 36}}, \"ORACLE.run132\": {\"4\": {\"4\": 698, \"7\": 106, \"2\": 204, \"5\": 89, \"13\": 54, \"0\": 42, \"8\": 3, \"14\": 4}, \"14\": {\"11\": 235, \"14\": 584, \"7\": 192, \"5\": 45, \"2\": 8, \"13\": 49, \"3\": 15, \"0\": 48, \"8\": 9, \"4\": 15}, \"5\": {\"13\": 232, \"4\": 105, \"7\": 157, \"5\": 500, \"0\": 45, \"2\": 14, \"3\": 44, \"8\": 67, \"11\": 7, \"14\": 29}, \"10\": {\"10\": 1193, \"1\": 7}, \"13\": {\"5\": 200, \"13\": 641, \"7\": 77, \"11\": 19, \"8\": 66, \"3\": 67, \"4\": 99, \"0\": 15, \"14\": 15, \"2\": 1}, \"9\": {\"9\": 1197, \"12\": 3}, \"6\": {\"6\": 1200}, \"3\": {\"13\": 35, \"3\": 1109, \"5\": 19, \"14\": 7, \"11\": 25, \"8\": 4, \"7\": 1}, \"15\": {\"15\": 1193, \"8\": 7}, \"7\": {\"7\": 604, \"14\": 167, \"13\": 77, \"5\": 147, \"4\": 122, \"2\": 27, \"11\": 19, \"8\": 6, \"0\": 31}, \"12\": {\"12\": 1200}, \"8\": {\"8\": 879, \"0\": 139, \"5\": 67, \"13\": 90, \"7\": 2, \"3\": 13, \"14\": 5, \"4\": 5}, \"11\": {\"11\": 983, \"14\": 155, \"13\": 20, \"3\": 19, \"7\": 20, \"5\": 2, \"4\": 1}, \"2\": {\"2\": 947, \"4\": 187, \"7\": 25, \"0\": 33, \"14\": 2, \"5\": 6}, \"1\": {\"1\": 1191, \"10\": 9}, \"0\": {\"0\": 873, \"7\": 35, \"5\": 34, \"13\": 14, \"4\": 45, \"8\": 145, \"14\": 24, \"2\": 30}}, \"ORACLE.run144\": {\"8\": {\"8\": 763, \"0\": 386, \"5\": 10, \"15\": 40, \"14\": 1}, \"11\": {\"11\": 1098, \"13\": 82, \"6\": 20}, \"14\": {\"14\": 751, \"4\": 345, \"15\": 67, \"5\": 36, \"0\": 1}, \"10\": {\"10\": 871, \"2\": 114, \"1\": 135, \"12\": 76, \"7\": 3, \"3\": 1}, \"3\": {\"3\": 1053, \"12\": 20, \"1\": 124, \"2\": 2, \"7\": 1}, \"15\": {\"14\": 114, \"15\": 930, \"5\": 34, \"0\": 86, \"8\": 23, \"4\": 13}, \"2\": {\"2\": 901, \"10\": 78, \"1\": 47, \"7\": 162, \"3\": 6, \"12\": 1, \"9\": 4, \"6\": 1}, \"12\": {\"12\": 963, \"1\": 173, \"10\": 51, \"3\": 12, \"2\": 1}, \"4\": {\"4\": 848, \"14\": 336, \"15\": 10, \"13\": 5, \"9\": 1}, \"1\": {\"12\": 210, \"1\": 721, \"10\": 101, \"3\": 123, \"2\": 45}, \"0\": {\"8\": 323, \"0\": 722, \"15\": 61, \"5\": 94}, \"9\": {\"6\": 124, \"9\": 676, \"7\": 252, \"13\": 133, \"2\": 8, \"10\": 1, \"4\": 4, \"3\": 1, \"11\": 1}, \"5\": {\"5\": 1034, \"8\": 8, \"0\": 76, \"14\": 45, \"15\": 33, \"4\": 4}, \"6\": {\"6\": 800, \"13\": 227, \"7\": 31, \"9\": 125, \"11\": 16, \"2\": 1}, \"7\": {\"7\": 739, \"9\": 227, \"2\": 193, \"6\": 31, \"13\": 5, \"1\": 3, \"10\": 1, \"3\": 1}, \"13\": {\"9\": 138, \"13\": 809, \"6\": 197, \"11\": 38, \"4\": 5, \"7\": 12, \"14\": 1}}, \"ORACLE.run18\": {\"13\": {\"13\": 433, \"0\": 312, \"7\": 6, \"10\": 117, \"14\": 95, \"4\": 198, \"6\": 37, \"1\": 1, \"5\": 1}, \"3\": {\"3\": 1027, \"12\": 52, \"2\": 117, \"15\": 4}, \"15\": {\"15\": 904, \"12\": 219, \"8\": 52, \"7\": 6, \"3\": 7, \"2\": 12}, \"4\": {\"4\": 617, \"10\": 32, \"14\": 170, \"13\": 200, \"6\": 141, \"0\": 39, \"1\": 1}, \"7\": {\"7\": 853, \"6\": 287, \"0\": 47, \"4\": 5, \"13\": 6, \"8\": 1, \"2\": 1}, \"2\": {\"2\": 959, \"3\": 166, \"7\": 20, \"15\": 42, \"12\": 12, \"6\": 1}, \"1\": {\"1\": 880, \"11\": 234, \"14\": 44, \"5\": 24, \"10\": 13, \"4\": 5}, \"0\": {\"0\": 781, \"6\": 44, \"13\": 240, \"7\": 77, \"4\": 47, \"10\": 9, \"14\": 2}, \"12\": {\"3\": 145, \"12\": 641, \"15\": 374, \"8\": 22, \"2\": 18}, \"6\": {\"7\": 265, \"6\": 665, \"4\": 143, \"0\": 72, \"13\": 43, \"8\": 10, \"14\": 2}, \"11\": {\"11\": 840, \"1\": 326, \"14\": 16, \"8\": 7, \"5\": 11}, \"9\": {\"9\": 1200}, \"5\": {\"5\": 1064, \"10\": 75, \"1\": 47, \"14\": 10, \"11\": 4}, \"10\": {\"10\": 805, \"13\": 105, \"14\": 203, \"4\": 49, \"5\": 26, \"1\": 8, \"0\": 3, \"7\": 1}, \"14\": {\"14\": 658, \"10\": 193, \"13\": 75, \"4\": 184, \"1\": 68, \"5\": 4, \"6\": 8, \"11\": 10}, \"8\": {\"8\": 1135, \"15\": 52, \"6\": 7, \"7\": 3, \"12\": 3}}, \"ORACLE.run120\": {\"6\": {\"6\": 1054, \"14\": 124, \"7\": 11, \"8\": 6, \"10\": 5}, \"11\": {\"11\": 1199, \"7\": 1}, \"5\": {\"5\": 507, \"0\": 214, \"1\": 180, \"15\": 109, \"12\": 144, \"3\": 31, \"2\": 6, \"13\": 2, \"4\": 5, \"9\": 2}, \"14\": {\"10\": 88, \"14\": 975, \"8\": 30, \"6\": 105, \"7\": 1, \"4\": 1}, \"2\": {\"1\": 18, \"9\": 283, \"7\": 154, \"12\": 46, \"2\": 566, \"13\": 58, \"3\": 66, \"5\": 3, \"15\": 3, \"0\": 3}, \"7\": {\"2\": 131, \"7\": 908, \"9\": 39, \"4\": 5, \"8\": 77, \"6\": 14, \"3\": 23, \"0\": 1, \"12\": 2}, \"3\": {\"9\": 204, \"2\": 77, \"12\": 228, \"5\": 26, \"3\": 490, \"4\": 85, \"1\": 41, \"7\": 32, \"15\": 3, \"8\": 9, \"13\": 1, \"0\": 3, \"10\": 1}, \"4\": {\"4\": 950, \"8\": 137, \"5\": 4, \"3\": 58, \"10\": 30, \"12\": 9, \"7\": 5, \"14\": 3, \"0\": 3, \"9\": 1}, \"9\": {\"2\": 297, \"3\": 200, \"12\": 105, \"7\": 51, \"9\": 510, \"1\": 12, \"15\": 5, \"13\": 11, \"4\": 7, \"5\": 2}, \"12\": {\"1\": 166, \"12\": 439, \"3\": 251, \"9\": 139, \"2\": 42, \"5\": 115, \"15\": 25, \"4\": 10, \"13\": 3, \"7\": 2, \"0\": 7, \"8\": 1}, \"0\": {\"5\": 304, \"0\": 696, \"15\": 122, \"7\": 5, \"12\": 21, \"2\": 9, \"4\": 8, \"1\": 21, \"8\": 5, \"3\": 8, \"13\": 1}, \"10\": {\"10\": 1061, \"14\": 84, \"4\": 32, \"6\": 6, \"8\": 15, \"7\": 2}, \"8\": {\"14\": 41, \"8\": 931, \"4\": 134, \"7\": 66, \"10\": 7, \"0\": 1, \"6\": 11, \"2\": 1, \"3\": 6, \"5\": 1, \"12\": 1}, \"13\": {\"13\": 1118, \"1\": 6, \"9\": 4, \"5\": 1, \"2\": 44, \"15\": 22, \"7\": 2, \"12\": 2, \"0\": 1}, \"1\": {\"5\": 157, \"1\": 531, \"12\": 201, \"3\": 25, \"15\": 238, \"2\": 10, \"0\": 19, \"13\": 4, \"9\": 15}, \"15\": {\"15\": 760, \"5\": 107, \"1\": 184, \"13\": 41, \"12\": 25, \"0\": 71, \"2\": 7, \"3\": 2, \"9\": 2, \"7\": 1}}, \"ORACLE.run138\": {\"3\": {\"3\": 1137, \"7\": 10, \"9\": 31, \"0\": 18, \"6\": 2, \"5\": 2}, \"8\": {\"8\": 768, \"10\": 25, \"5\": 229, \"0\": 106, \"15\": 25, \"7\": 39, \"13\": 8}, \"0\": {\"3\": 62, \"0\": 633, \"7\": 182, \"5\": 56, \"8\": 227, \"10\": 27, \"9\": 3, \"15\": 4, \"13\": 4, \"6\": 1, \"12\": 1}, \"2\": {\"2\": 1075, \"14\": 85, \"13\": 36, \"15\": 4}, \"4\": {\"4\": 1140, \"12\": 55, \"8\": 1, \"7\": 2, \"10\": 2}, \"7\": {\"7\": 953, \"0\": 134, \"8\": 55, \"5\": 57, \"10\": 1}, \"12\": {\"12\": 1168, \"4\": 28, \"14\": 1, \"10\": 3}, \"6\": {\"5\": 12, \"6\": 1037, \"9\": 151}, \"15\": {\"15\": 929, \"1\": 92, \"8\": 43, \"13\": 101, \"5\": 26, \"10\": 7, \"0\": 1, \"7\": 1}, \"11\": {\"11\": 1080, \"14\": 100, \"10\": 11, \"2\": 5, \"12\": 2, \"13\": 2}, \"9\": {\"9\": 929, \"6\": 240, \"3\": 13, \"5\": 13, \"7\": 3, \"0\": 2}, \"14\": {\"14\": 1085, \"2\": 74, \"11\": 19, \"10\": 9, \"13\": 7, \"12\": 6}, \"10\": {\"10\": 958, \"2\": 4, \"13\": 122, \"8\": 37, \"5\": 4, \"0\": 19, \"7\": 10, \"15\": 12, \"14\": 13, \"4\": 4, \"11\": 10, \"12\": 7}, \"5\": {\"8\": 312, \"5\": 570, \"6\": 48, \"9\": 31, \"15\": 53, \"0\": 65, \"7\": 99, \"13\": 11, \"1\": 6, \"10\": 4, \"3\": 1}, \"1\": {\"1\": 1133, \"15\": 62, \"13\": 1, \"5\": 3, \"6\": 1}, \"13\": {\"13\": 890, \"15\": 128, \"10\": 120, \"2\": 28, \"5\": 8, \"8\": 15, \"1\": 4, \"14\": 2, \"0\": 5}}, \"ORACLE.run126\": {\"5\": {\"5\": 781, \"8\": 30, \"13\": 128, \"15\": 142, \"2\": 55, \"9\": 53, \"3\": 3, \"7\": 5, \"10\": 1, \"6\": 2}, \"8\": {\"2\": 18, \"8\": 493, \"10\": 167, \"6\": 46, \"7\": 97, \"3\": 5, \"15\": 66, \"0\": 90, \"4\": 74, \"9\": 94, \"14\": 33, \"1\": 4, \"5\": 13}, \"4\": {\"1\": 122, \"4\": 496, \"0\": 138, \"7\": 88, \"14\": 207, \"10\": 52, \"8\": 95, \"9\": 1, \"3\": 1}, \"12\": {\"12\": 1200}, \"6\": {\"9\": 169, \"6\": 844, \"15\": 41, \"10\": 76, \"8\": 31, \"0\": 29, \"14\": 2, \"5\": 4, \"13\": 4}, \"7\": {\"2\": 126, \"4\": 136, \"7\": 626, \"8\": 71, \"3\": 170, \"10\": 4, \"1\": 7, \"0\": 25, \"15\": 9, \"14\": 18, \"5\": 3, \"9\": 4, \"13\": 1}, \"10\": {\"0\": 282, \"7\": 10, \"10\": 468, \"14\": 139, \"8\": 140, \"6\": 56, \"4\": 63, \"1\": 26, \"9\": 12, \"15\": 4}, \"0\": {\"6\": 22, \"0\": 361, \"9\": 7, \"14\": 218, \"10\": 260, \"7\": 27, \"4\": 153, \"8\": 128, \"1\": 20, \"15\": 4}, \"15\": {\"15\": 473, \"5\": 140, \"13\": 69, \"9\": 322, \"6\": 33, \"7\": 16, \"10\": 3, \"0\": 4, \"8\": 93, \"2\": 38, \"14\": 3, \"4\": 3, \"3\": 3}, \"9\": {\"15\": 361, \"9\": 495, \"5\": 42, \"6\": 159, \"8\": 93, \"10\": 15, \"0\": 6, \"7\": 5, \"2\": 5, \"13\": 19}, \"11\": {\"11\": 1193, \"12\": 7}, \"14\": {\"1\": 233, \"14\": 427, \"0\": 191, \"10\": 92, \"4\": 218, \"8\": 19, \"7\": 16, \"6\": 3, \"2\": 1}, \"2\": {\"3\": 366, \"7\": 125, \"2\": 477, \"8\": 34, \"5\": 109, \"13\": 7, \"15\": 63, \"10\": 2, \"9\": 14, \"0\": 1, \"4\": 1, \"1\": 1}, \"13\": {\"13\": 887, \"5\": 195, \"2\": 15, \"15\": 62, \"9\": 24, \"6\": 17}, \"3\": {\"3\": 750, \"7\": 163, \"2\": 276, \"4\": 5, \"8\": 5, \"5\": 1}, \"1\": {\"1\": 736, \"7\": 16, \"4\": 136, \"14\": 236, \"0\": 21, \"8\": 13, \"10\": 41, \"3\": 1}}, \"Wisig_3\": {\"99\": {\"99\": 32, \"25\": 1, \"4\": 1, \"97\": 1, \"127\": 1}, \"8\": {\"49\": 2, \"8\": 106, \"72\": 1, \"106\": 1, \"0\": 3, \"30\": 3, \"12\": 1, \"98\": 1, \"15\": 3, \"73\": 2, \"108\": 1}, \"65\": {\"18\": 1, \"65\": 9, \"71\": 1, \"91\": 1}, \"117\": {\"117\": 107, \"2\": 1, \"7\": 1, \"63\": 1, \"121\": 1, \"88\": 1}, \"18\": {\"18\": 113, \"11\": 1, \"69\": 2, \"39\": 3, \"113\": 2, \"81\": 2, \"93\": 1}, \"39\": {\"117\": 5, \"39\": 79, \"23\": 1, \"123\": 1, \"121\": 1, \"18\": 4, \"2\": 1, \"120\": 1, \"113\": 10, \"93\": 2, \"118\": 1, \"126\": 1, \"16\": 1}, \"102\": {\"102\": 119, \"33\": 4, \"118\": 1}, \"76\": {\"102\": 1, \"76\": 15}, \"101\": {\"101\": 35, \"58\": 1, \"59\": 2, \"8\": 2, \"73\": 5, \"12\": 2, \"111\": 1, \"18\": 1, \"15\": 2, \"113\": 1}, \"57\": {\"57\": 20}, \"86\": {\"86\": 25, \"50\": 1, \"37\": 1, \"101\": 1}, \"11\": {\"11\": 95, \"14\": 4, \"103\": 1, \"110\": 3, \"16\": 12, \"90\": 11, \"44\": 1, \"88\": 1, \"62\": 1, \"87\": 1, \"84\": 2}, \"98\": {\"98\": 106, \"110\": 1, \"108\": 3, \"11\": 1, \"124\": 10, \"12\": 3, \"72\": 2, \"23\": 1, \"127\": 1}, \"42\": {\"42\": 12, \"101\": 1, \"15\": 2, \"108\": 2, \"75\": 1, \"106\": 1, \"85\": 2, \"19\": 1, \"73\": 1, \"111\": 1, \"124\": 2, \"70\": 2}, \"47\": {\"47\": 12}, \"49\": {\"11\": 2, \"42\": 5, \"60\": 3, \"92\": 1, \"49\": 4, \"113\": 1, \"70\": 2, \"50\": 1, \"0\": 1, \"98\": 1, \"65\": 1, \"103\": 1, \"71\": 1}, \"111\": {\"111\": 123, \"12\": 5, \"26\": 1, \"51\": 1, \"106\": 2}, \"36\": {\"36\": 106, \"24\": 2, \"30\": 1, \"27\": 7}, \"124\": {\"124\": 99, \"69\": 1, \"85\": 1, \"98\": 4, \"33\": 1}, \"122\": {\"122\": 41, \"61\": 1, \"1\": 1, \"9\": 1, \"114\": 4, \"110\": 1, \"18\": 1, \"107\": 2, \"60\": 1, \"34\": 2, \"3\": 2, \"126\": 2, \"26\": 1}, \"93\": {\"93\": 141, \"17\": 1}, \"89\": {\"89\": 26, \"69\": 2}, \"51\": {\"51\": 16}, \"73\": {\"73\": 35, \"15\": 1, \"101\": 2, \"21\": 1, \"52\": 1}, \"45\": {\"45\": 15, \"14\": 1}, \"5\": {\"5\": 97, \"121\": 1, \"3\": 8, \"113\": 2, \"109\": 1, \"124\": 1, \"105\": 1, \"18\": 1}, \"69\": {\"69\": 80, \"122\": 1, \"106\": 1, \"84\": 2}, \"26\": {\"26\": 129, \"120\": 1}, \"1\": {\"1\": 98, \"128\": 2, \"32\": 4, \"122\": 1, \"39\": 1, \"87\": 2}, \"92\": {\"92\": 28, \"2\": 2, \"89\": 1, \"113\": 1}, \"96\": {\"96\": 20}, \"85\": {\"85\": 33, \"98\": 3}, \"114\": {\"114\": 118, \"102\": 1, \"5\": 1, \"3\": 2, \"60\": 1, \"1\": 2, \"110\": 1}, \"50\": {\"50\": 16}, \"81\": {\"81\": 32}, \"2\": {\"2\": 10, \"33\": 1, \"92\": 2, \"96\": 2, \"23\": 1, \"39\": 1, \"26\": 4, \"64\": 1, \"18\": 1, \"121\": 1, \"67\": 2, \"117\": 2}, \"33\": {\"33\": 140, \"69\": 2, \"102\": 2, \"21\": 1, \"113\": 1}, \"31\": {\"31\": 19, \"93\": 1}, \"90\": {\"90\": 111, \"33\": 1, \"84\": 3, \"14\": 1, \"26\": 1, \"29\": 1}, \"17\": {\"86\": 2, \"120\": 2, \"43\": 3, \"17\": 3, \"113\": 1, \"95\": 1, \"102\": 1, \"99\": 1, \"23\": 1, \"7\": 1}, \"116\": {\"116\": 12, \"84\": 1, \"33\": 1, \"22\": 1, \"119\": 4, \"102\": 1, \"109\": 1, \"29\": 1, \"62\": 2, \"92\": 2, \"82\": 2}, \"91\": {\"91\": 21, \"77\": 2, \"43\": 1}, \"120\": {\"120\": 20}, \"128\": {\"23\": 1, \"44\": 1, \"91\": 2, \"128\": 4, \"49\": 1, \"38\": 1, \"48\": 2, \"124\": 2, \"22\": 1, \"85\": 1, \"1\": 2, \"40\": 1, \"10\": 1, \"127\": 1, \"55\": 3, \"28\": 1, \"8\": 1, \"98\": 3, \"32\": 1, \"105\": 2}, \"78\": {\"11\": 1, \"17\": 1, \"78\": 4, \"28\": 2, \"88\": 1, \"32\": 1, \"60\": 1, \"87\": 1, \"116\": 2, \"39\": 1, \"113\": 1}, \"58\": {\"58\": 12, \"73\": 2, \"72\": 1, \"35\": 1}, \"23\": {\"9\": 1, \"120\": 1, \"98\": 4, \"121\": 1, \"46\": 2, \"19\": 2, \"117\": 4, \"5\": 1, \"126\": 1, \"81\": 2, \"108\": 1, \"127\": 1, \"18\": 2, \"70\": 1, \"43\": 2, \"2\": 1, \"56\": 1, \"123\": 1, \"3\": 1, \"85\": 1, \"113\": 1}, \"15\": {\"106\": 4, \"15\": 93, \"97\": 1, \"10\": 1, \"8\": 2, \"12\": 2, \"21\": 1}, \"74\": {\"74\": 16}, \"34\": {\"128\": 1, \"58\": 1, \"100\": 1, \"52\": 1, \"34\": 12, \"6\": 2, \"12\": 1, \"1\": 1, \"111\": 5, \"125\": 1, \"60\": 2, \"0\": 1, \"53\": 2, \"107\": 1}, \"103\": {\"34\": 1, \"103\": 11, \"114\": 1, \"99\": 1, \"86\": 2}, \"106\": {\"106\": 87, \"73\": 3, \"8\": 1, \"30\": 1, \"15\": 4, \"59\": 2, \"0\": 2}, \"44\": {\"44\": 66, \"120\": 1, \"64\": 1, \"84\": 1, \"16\": 1, \"90\": 2}, \"9\": {\"9\": 26, \"101\": 1, \"127\": 2, \"80\": 1, \"86\": 1, \"56\": 1}, \"97\": {\"97\": 19, \"88\": 1}, \"123\": {\"123\": 14, \"106\": 1, \"68\": 1}, \"6\": {\"6\": 13, \"101\": 1, \"54\": 4, \"98\": 1, \"125\": 2, \"12\": 3, \"33\": 1, \"34\": 2, \"91\": 2, \"111\": 1, \"106\": 2}, \"68\": {\"68\": 16}, \"24\": {\"24\": 27, \"15\": 1, \"27\": 5, \"83\": 1, \"36\": 5, \"30\": 4, \"73\": 1, \"97\": 1, \"94\": 2, \"8\": 1}, \"21\": {\"21\": 38, \"11\": 1, \"69\": 1, \"71\": 1, \"81\": 1, \"100\": 2, \"31\": 1, \"43\": 1, \"108\": 1, \"18\": 1}, \"83\": {\"83\": 22, \"70\": 1, \"113\": 1}, \"60\": {\"60\": 12, \"14\": 2, \"87\": 3, \"32\": 1, \"115\": 1, \"114\": 3, \"28\": 1, \"20\": 1, \"90\": 1, \"79\": 2, \"107\": 1}, \"87\": {\"87\": 102, \"14\": 4, \"84\": 3, \"107\": 1, \"40\": 4, \"28\": 1, \"90\": 4, \"44\": 1}, \"30\": {\"6\": 2, \"42\": 2, \"30\": 54, \"83\": 1, \"18\": 1, \"58\": 1, \"15\": 4, \"117\": 1, \"94\": 5, \"36\": 3, \"0\": 3, \"17\": 1, \"93\": 1, \"26\": 1, \"106\": 1, \"88\": 1, \"101\": 2}, \"43\": {\"123\": 2, \"118\": 2, \"43\": 40, \"33\": 1, \"109\": 6, \"27\": 1, \"69\": 1, \"21\": 2, \"102\": 1}, \"115\": {\"115\": 16}, \"40\": {\"40\": 111, \"103\": 2, \"126\": 1, \"87\": 1, \"79\": 1, \"116\": 2, \"44\": 2}, \"112\": {\"112\": 10, \"59\": 2, \"108\": 1, \"19\": 2, \"10\": 1}, \"66\": {\"65\": 2, \"34\": 1, \"66\": 11, \"3\": 2}, \"110\": {\"110\": 82, \"53\": 2, \"93\": 1, \"114\": 1, \"27\": 1, \"5\": 2, \"70\": 2, \"127\": 1}, \"3\": {\"3\": 92, \"66\": 1, \"129\": 1, \"56\": 1, \"86\": 3, \"0\": 1, \"114\": 6, \"5\": 2, \"10\": 2, \"88\": 2, \"71\": 2, \"127\": 1}, \"20\": {\"110\": 2, \"20\": 14}, \"28\": {\"28\": 15, \"65\": 1}, \"84\": {\"84\": 88, \"33\": 7, \"116\": 1, \"126\": 2, \"44\": 2, \"89\": 1, \"90\": 3, \"87\": 3, \"16\": 1}, \"79\": {\"79\": 10, \"28\": 1, \"115\": 1}, \"118\": {\"43\": 5, \"118\": 63, \"23\": 2, \"102\": 5, \"64\": 3, \"109\": 11, \"69\": 1, \"8\": 1, \"70\": 1, \"119\": 1, \"92\": 1, \"113\": 2, \"26\": 2, \"33\": 1, \"126\": 1}, \"56\": {\"7\": 3, \"72\": 1, \"56\": 7, \"75\": 1}, \"48\": {\"62\": 2, \"43\": 4, \"80\": 1, \"48\": 2, \"105\": 1, \"86\": 1, \"109\": 1, \"71\": 1, \"90\": 1, \"119\": 2}, \"77\": {\"77\": 16}, \"14\": {\"14\": 76, \"103\": 2, \"40\": 1, \"33\": 1}, \"64\": {\"64\": 20}, \"67\": {\"67\": 13, \"27\": 1, \"118\": 2}, \"62\": {\"62\": 115, \"102\": 2, \"119\": 1, \"87\": 2, \"116\": 1, \"84\": 2, \"109\": 1}, \"75\": {\"75\": 16}, \"63\": {\"63\": 13, \"43\": 1, \"101\": 1, \"64\": 1}, \"7\": {\"7\": 102, \"40\": 2, \"105\": 2, \"86\": 2, \"95\": 1, \"127\": 3}, \"125\": {\"125\": 93, \"106\": 2, \"111\": 4, \"94\": 2, \"18\": 1, \"43\": 1, \"23\": 1}, \"37\": {\"37\": 16}, \"121\": {\"121\": 20, \"113\": 2, \"27\": 1, \"82\": 1, \"117\": 1, \"120\": 1, \"39\": 1, \"81\": 1, \"26\": 2, \"102\": 2}, \"16\": {\"16\": 95, \"11\": 2, \"109\": 2, \"113\": 1, \"117\": 1, \"93\": 2, \"18\": 1}, \"35\": {\"35\": 9, \"51\": 2, \"70\": 1}, \"32\": {\"23\": 1, \"32\": 23, \"107\": 2, \"87\": 2, \"44\": 1, \"45\": 1, \"115\": 1, \"98\": 1}, \"46\": {\"46\": 16}, \"70\": {\"70\": 39, \"60\": 2, \"108\": 9, \"53\": 2, \"85\": 1, \"88\": 4, \"10\": 2, \"110\": 2, \"113\": 1, \"129\": 1, \"42\": 1, \"67\": 1, \"20\": 1, \"71\": 2, \"81\": 1, \"5\": 1, \"19\": 2}, \"129\": {\"129\": 24, \"110\": 2, \"122\": 1, \"100\": 2, \"19\": 1, \"114\": 1, \"44\": 1}, \"95\": {\"95\": 29, \"64\": 1, \"86\": 2}, \"72\": {\"72\": 26, \"111\": 1, \"108\": 1}, \"19\": {\"28\": 1, \"98\": 4, \"52\": 2, \"100\": 1, \"19\": 6, \"51\": 2, \"110\": 1, \"128\": 2, \"124\": 3, \"10\": 1, \"72\": 1, \"127\": 2, \"34\": 1, \"108\": 1, \"129\": 2, \"12\": 2}, \"52\": {\"52\": 16}, \"100\": {\"100\": 10, \"16\": 2, \"107\": 2, \"79\": 2}, \"104\": {\"104\": 16}, \"59\": {\"59\": 12}, \"109\": {\"43\": 7, \"109\": 84, \"117\": 1, \"118\": 10, \"33\": 6, \"69\": 4, \"39\": 5, \"102\": 6, \"2\": 1, \"113\": 1, \"11\": 1}, \"88\": {\"88\": 67, \"110\": 6, \"49\": 2, \"11\": 3, \"70\": 3, \"60\": 1, \"128\": 1, \"85\": 1, \"93\": 3, \"1\": 2, \"3\": 6, \"10\": 3, \"98\": 2, \"67\": 1, \"81\": 1, \"53\": 1, \"114\": 2, \"108\": 2, \"5\": 1}, \"27\": {\"27\": 64, \"49\": 2, \"24\": 3, \"30\": 2, \"21\": 1, \"36\": 13, \"94\": 2, \"117\": 1, \"26\": 1, \"25\": 1, \"98\": 2, \"110\": 1, \"108\": 1}, \"113\": {\"113\": 97, \"123\": 1, \"17\": 1, \"117\": 8, \"109\": 1, \"39\": 2, \"26\": 4, \"93\": 1, \"64\": 1, \"121\": 2, \"18\": 2}, \"105\": {\"105\": 114, \"28\": 1, \"4\": 4, \"3\": 4, \"87\": 1}, \"71\": {\"71\": 47, \"84\": 1, \"53\": 2, \"122\": 1, \"5\": 6, \"99\": 2, \"127\": 4, \"93\": 1, \"3\": 2, \"126\": 1, \"11\": 1}, \"108\": {\"108\": 93, \"98\": 10, \"70\": 2, \"127\": 1, \"24\": 1, \"110\": 1, \"10\": 3, \"30\": 1, \"73\": 1, \"124\": 2, \"8\": 5, \"7\": 1, \"27\": 1, \"88\": 2}, \"41\": {\"41\": 14, \"34\": 2}, \"80\": {\"80\": 15, \"43\": 1}, \"13\": {\"13\": 9, \"89\": 3, \"43\": 2, \"118\": 2}, \"55\": {\"55\": 16}, \"0\": {\"0\": 90, \"15\": 6, \"8\": 3, \"39\": 1, \"83\": 1, \"101\": 1, \"12\": 2, \"84\": 1, \"33\": 1}, \"25\": {\"25\": 16}, \"53\": {\"53\": 16, \"5\": 1, \"14\": 1, \"114\": 2}, \"61\": {\"61\": 16}, \"38\": {\"38\": 16}, \"127\": {\"127\": 116, \"113\": 2, \"39\": 1, \"3\": 5, \"124\": 1, \"4\": 2, \"84\": 1}, \"4\": {\"71\": 2, \"4\": 85, \"9\": 2, \"122\": 2, \"105\": 2, \"18\": 2, \"88\": 1}, \"12\": {\"12\": 80, \"98\": 3, \"15\": 1, \"124\": 2, \"111\": 13, \"8\": 4, \"59\": 1}, \"126\": {\"126\": 106, \"81\": 4, \"18\": 3, \"109\": 1, \"118\": 1, \"113\": 2, \"108\": 1, \"8\": 1, \"39\": 3, \"117\": 2}, \"29\": {\"29\": 32}, \"107\": {\"107\": 130, \"1\": 1, \"32\": 1, \"44\": 1, \"90\": 2, \"109\": 1}, \"82\": {\"82\": 28}, \"94\": {\"94\": 72, \"30\": 2, \"15\": 3, \"0\": 6, \"18\": 1}, \"54\": {\"54\": 16}, \"10\": {\"98\": 6, \"110\": 1, \"10\": 84, \"3\": 2, \"127\": 9, \"124\": 8, \"26\": 1, \"71\": 3, \"108\": 5, \"12\": 1, \"91\": 3, \"77\": 1, \"8\": 1, \"129\": 1, \"5\": 2}, \"22\": {\"22\": 16}, \"119\": {\"119\": 16}}, \"Wisig_2\": {\"73\": {\"73\": 21, \"122\": 2, \"19\": 2, \"96\": 1, \"66\": 2}, \"40\": {\"40\": 99, \"105\": 14, \"52\": 1, \"7\": 5, \"43\": 4, \"16\": 1, \"95\": 2, \"14\": 1, \"3\": 1, \"117\": 1, \"5\": 2, \"108\": 1}, \"99\": {\"99\": 27, \"26\": 2, \"82\": 2, \"27\": 1}, \"5\": {\"5\": 96, \"71\": 5, \"85\": 2, \"24\": 1, \"122\": 1, \"39\": 1, \"110\": 2, \"88\": 1, \"3\": 2, \"0\": 1}, \"108\": {\"44\": 1, \"108\": 93, \"79\": 1, \"97\": 1, \"12\": 2, \"107\": 2, \"8\": 16, \"11\": 3, \"111\": 4, \"127\": 1, \"88\": 2, \"128\": 1, \"112\": 1, \"30\": 2, \"70\": 1, \"98\": 1}, \"128\": {\"5\": 4, \"108\": 3, \"95\": 2, \"7\": 3, \"114\": 1, \"128\": 2, \"91\": 1, \"37\": 2, \"40\": 1, \"71\": 1, \"21\": 1, \"0\": 1, \"106\": 2}, \"89\": {\"89\": 31, \"90\": 2, \"60\": 2, \"81\": 1}, \"107\": {\"5\": 1, \"58\": 1, \"71\": 4, \"107\": 32, \"56\": 1, \"73\": 1, \"7\": 3, \"66\": 1, \"122\": 1, \"114\": 1, \"94\": 1, \"4\": 4, \"21\": 2, \"2\": 1, \"106\": 1, \"86\": 3, \"126\": 1, \"15\": 1, \"110\": 1, \"108\": 1, \"14\": 2}, \"2\": {\"57\": 1, \"2\": 19, \"120\": 2, \"121\": 1, \"89\": 1, \"96\": 1, \"117\": 2, \"93\": 2, \"26\": 2, \"97\": 1}, \"78\": {\"78\": 19, \"46\": 1, \"3\": 3, \"1\": 7, \"126\": 1, \"70\": 3, \"10\": 1, \"43\": 4, \"40\": 1, \"95\": 1, \"105\": 2, \"118\": 1, \"114\": 1, \"87\": 1, \"21\": 1, \"62\": 1}, \"85\": {\"85\": 23, \"5\": 3, \"53\": 4, \"110\": 2}, \"44\": {\"44\": 97, \"19\": 2, \"126\": 1}, \"58\": {\"58\": 15, \"30\": 2, \"106\": 1, \"6\": 2}, \"57\": {\"57\": 15, \"10\": 1, \"69\": 2, \"82\": 1, \"88\": 1}, \"41\": {\"41\": 17, \"13\": 1, \"7\": 1, \"91\": 1}, \"53\": {\"53\": 15, \"19\": 1}, \"14\": {\"19\": 2, \"70\": 1, \"24\": 2, \"14\": 26, \"20\": 1, \"43\": 7, \"3\": 3, \"21\": 2, \"96\": 1, \"73\": 1, \"62\": 1, \"74\": 1}, \"83\": {\"83\": 38, \"125\": 1, \"127\": 1}, \"119\": {\"119\": 20}, \"95\": {\"28\": 2, \"95\": 31, \"104\": 1, \"7\": 1, \"88\": 1}, \"28\": {\"28\": 19, \"97\": 1}, \"19\": {\"19\": 16, \"5\": 1, \"86\": 1, \"23\": 1, \"128\": 1, \"129\": 1, \"71\": 3, \"53\": 1, \"1\": 1, \"3\": 1, \"46\": 1}, \"69\": {\"118\": 2, \"69\": 120, \"92\": 1, \"48\": 2, \"16\": 1, \"122\": 1, \"3\": 2, \"26\": 1, \"39\": 1, \"40\": 1}, \"93\": {\"93\": 122, \"26\": 2, \"109\": 2, \"18\": 1, \"16\": 6, \"88\": 1}, \"9\": {\"9\": 32}, \"118\": {\"118\": 53, \"82\": 3, \"102\": 2, \"84\": 7, \"116\": 2, \"1\": 1}, \"43\": {\"43\": 67, \"60\": 1, \"16\": 2, \"14\": 1, \"1\": 20, \"40\": 3, \"2\": 1, \"105\": 2, \"33\": 5, \"70\": 2, \"109\": 3, \"7\": 1, \"23\": 2, \"38\": 1, \"83\": 1, \"78\": 2, \"88\": 1, \"3\": 1}, \"47\": {\"47\": 11, \"129\": 1}, \"125\": {\"125\": 140, \"51\": 1, \"30\": 2, \"18\": 1}, \"29\": {\"29\": 32}, \"122\": {\"86\": 2, \"122\": 83, \"95\": 1, \"12\": 2, \"124\": 9, \"70\": 3, \"71\": 3, \"3\": 10, \"11\": 2, \"114\": 5, \"5\": 7, \"16\": 1, \"40\": 1, \"53\": 2, \"29\": 2, \"85\": 1, \"110\": 1, \"10\": 1, \"93\": 1, \"109\": 2, \"126\": 1}, \"46\": {\"19\": 2, \"46\": 12, \"44\": 1, \"60\": 1}, \"86\": {\"86\": 32}, \"70\": {\"78\": 5, \"70\": 44, \"93\": 4, \"126\": 5, \"14\": 4, \"17\": 2, \"10\": 4, \"43\": 8, \"60\": 4, \"62\": 1, \"21\": 2, \"1\": 6, \"88\": 5, \"87\": 4, \"109\": 1, \"33\": 6, \"3\": 5, \"122\": 1, \"39\": 1, \"11\": 1, \"5\": 1, \"18\": 1, \"23\": 3, \"16\": 2, \"45\": 1, \"4\": 1, \"44\": 2}, \"51\": {\"51\": 15, \"99\": 1, \"94\": 1, \"58\": 2, \"16\": 1}, \"23\": {\"86\": 2, \"23\": 2, \"129\": 2, \"120\": 1, \"49\": 1, \"121\": 1, \"114\": 1, \"19\": 3, \"127\": 1, \"59\": 1, \"69\": 1, \"29\": 2, \"71\": 3, \"70\": 1, \"124\": 5, \"109\": 1, \"5\": 3, \"65\": 1, \"26\": 1, \"128\": 3, \"20\": 1, \"2\": 1, \"12\": 1, \"63\": 1, \"4\": 2, \"117\": 1, \"99\": 1}, \"121\": {\"23\": 2, \"57\": 1, \"121\": 22, \"113\": 2, \"120\": 1, \"2\": 1, \"117\": 4, \"65\": 2, \"18\": 1}, \"63\": {\"21\": 1, \"63\": 17, \"82\": 1, \"49\": 1}, \"102\": {\"102\": 120, \"90\": 1, \"40\": 1}, \"21\": {\"21\": 47, \"88\": 1}, \"55\": {\"55\": 14, \"87\": 1, \"62\": 1}, \"54\": {\"54\": 20}, \"6\": {\"6\": 19, \"51\": 3, \"103\": 1, \"75\": 3, \"94\": 2, \"15\": 1, \"91\": 2, \"9\": 1}, \"109\": {\"109\": 53, \"83\": 1, \"23\": 1, \"102\": 1, \"87\": 3, \"88\": 12, \"93\": 10, \"117\": 3, \"90\": 2, \"126\": 2, \"70\": 1, \"16\": 4, \"43\": 1, \"119\": 1, \"48\": 1, \"71\": 1, \"39\": 3}, \"64\": {\"109\": 1, \"64\": 15}, \"20\": {\"20\": 16}, \"98\": {\"35\": 2, \"98\": 97, \"121\": 1, \"59\": 1, \"12\": 2, \"124\": 2, \"11\": 2, \"127\": 3, \"62\": 1, \"108\": 1, \"122\": 2}, \"92\": {\"92\": 20, \"67\": 1, \"118\": 2, \"76\": 1, \"90\": 1, \"113\": 1, \"84\": 2}, \"35\": {\"35\": 3, \"29\": 1, \"123\": 2, \"122\": 1, \"91\": 1, \"111\": 2, \"12\": 2}, \"113\": {\"113\": 50, \"109\": 2, \"48\": 3, \"2\": 2, \"117\": 8, \"26\": 2, \"24\": 2, \"23\": 1, \"21\": 2}, \"71\": {\"122\": 4, \"71\": 76, \"114\": 6, \"85\": 1, \"84\": 1, \"28\": 2, \"118\": 1, \"110\": 1, \"107\": 2, \"3\": 1, \"13\": 1, \"86\": 1, \"109\": 1, \"124\": 1, \"27\": 1}, \"94\": {\"94\": 33, \"71\": 1, \"101\": 7, \"6\": 1, \"42\": 2, \"99\": 1, \"69\": 1, \"26\": 1, \"89\": 1, \"24\": 3, \"97\": 2, \"37\": 1, \"65\": 1, \"9\": 2, \"8\": 1, \"88\": 1, \"11\": 1, \"74\": 1, \"15\": 1, \"108\": 1, \"111\": 1}, \"52\": {\"52\": 17, \"30\": 1, \"15\": 1, \"70\": 1}, \"116\": {\"116\": 22, \"90\": 1, \"80\": 1, \"84\": 1, \"57\": 1, \"118\": 1, \"82\": 1}, \"87\": {\"116\": 2, \"87\": 45, \"118\": 7, \"113\": 1, \"83\": 1, \"90\": 12, \"82\": 4, \"33\": 7, \"88\": 1, \"16\": 3, \"84\": 8, \"93\": 4, \"102\": 2, \"43\": 2, \"0\": 1, \"1\": 1, \"109\": 1, \"60\": 1, \"119\": 1, \"62\": 4, \"78\": 1, \"24\": 1, \"10\": 1, \"117\": 1}, \"90\": {\"116\": 2, \"90\": 138, \"102\": 4, \"48\": 2, \"84\": 2}, \"91\": {\"91\": 23, \"68\": 1, \"127\": 1, \"12\": 1, \"54\": 2}, \"84\": {\"84\": 78, \"62\": 1, \"109\": 2, \"33\": 8, \"118\": 1, \"7\": 1, \"1\": 1}, \"24\": {\"24\": 59, \"36\": 2, \"42\": 1, \"0\": 12, \"94\": 3, \"15\": 4, \"101\": 8, \"109\": 2, \"97\": 1, \"70\": 1, \"30\": 1, \"108\": 2, \"106\": 6, \"88\": 3, \"17\": 2, \"11\": 1, \"8\": 1, \"117\": 1, \"26\": 1, \"111\": 1}, \"33\": {\"90\": 3, \"84\": 13, \"33\": 111, \"87\": 2, \"62\": 2, \"88\": 1, \"39\": 1, \"108\": 1}, \"81\": {\"81\": 21, \"113\": 2, \"97\": 1}, \"115\": {\"115\": 8, \"60\": 1, \"49\": 1, \"71\": 2}, \"77\": {\"77\": 14, \"79\": 1, \"111\": 1}, \"106\": {\"106\": 103, \"98\": 2, \"58\": 1, \"21\": 1, \"24\": 1, \"30\": 3, \"101\": 1, \"111\": 1, \"7\": 1, \"15\": 4, \"94\": 2}, \"42\": {\"42\": 7, \"79\": 3, \"114\": 2, \"30\": 2, \"52\": 1, \"81\": 1, \"109\": 1, \"12\": 1, \"47\": 1, \"107\": 1, \"112\": 1, \"11\": 3, \"3\": 1, \"117\": 1, \"106\": 1, \"73\": 1}, \"38\": {\"38\": 16}, \"36\": {\"36\": 86, \"121\": 1, \"27\": 7, \"14\": 1, \"126\": 2, \"30\": 1, \"101\": 8, \"113\": 1, \"106\": 1, \"15\": 1, \"87\": 1, \"24\": 1, \"111\": 2, \"43\": 1}, \"79\": {\"79\": 16}, \"60\": {\"14\": 2, \"116\": 1, \"60\": 16, \"90\": 1, \"127\": 1, \"62\": 1, \"44\": 1, \"70\": 2, \"84\": 1, \"78\": 1, \"23\": 1}, \"80\": {\"80\": 9, \"92\": 2, \"120\": 1, \"1\": 2, \"50\": 2}, \"32\": {\"129\": 2, \"1\": 1, \"32\": 11, \"122\": 2, \"107\": 2, \"105\": 4, \"43\": 2, \"4\": 1, \"3\": 2, \"114\": 1, \"86\": 1, \"47\": 1, \"11\": 1, \"124\": 3, \"14\": 2}, \"0\": {\"0\": 99, \"111\": 2, \"24\": 1, \"108\": 2, \"8\": 1, \"101\": 6, \"30\": 2, \"54\": 1, \"15\": 2}, \"127\": {\"127\": 103, \"98\": 9, \"12\": 3, \"24\": 1, \"86\": 2, \"79\": 2, \"122\": 1, \"124\": 1, \"111\": 2}, \"114\": {\"114\": 108, \"69\": 1, \"71\": 2, \"124\": 1, \"5\": 1, \"86\": 2, \"18\": 1}, \"62\": {\"62\": 121, \"21\": 1, \"84\": 4, \"87\": 1, \"33\": 5, \"102\": 2, \"55\": 1, \"118\": 2, \"1\": 2, \"90\": 1}, \"129\": {\"129\": 25, \"73\": 2, \"19\": 3, \"0\": 2}, \"56\": {\"56\": 11, \"4\": 1}, \"76\": {\"76\": 16}, \"72\": {\"72\": 23, \"90\": 2, \"21\": 1, \"57\": 1, \"125\": 1}, \"88\": {\"90\": 3, \"71\": 4, \"88\": 59, \"93\": 15, \"70\": 8, \"87\": 3, \"49\": 1, \"16\": 5, \"126\": 6, \"44\": 1, \"39\": 1, \"43\": 1, \"109\": 9, \"1\": 1, \"11\": 2, \"57\": 1, \"83\": 2, \"62\": 1, \"21\": 1}, \"68\": {\"68\": 10, \"54\": 2, \"21\": 1, \"29\": 2, \"12\": 1}, \"67\": {\"67\": 7, \"82\": 3, \"21\": 1, \"1\": 2, \"76\": 1, \"90\": 1, \"75\": 1}, \"100\": {\"100\": 16}, \"34\": {\"34\": 15, \"98\": 1, \"29\": 3, \"124\": 3, \"17\": 2, \"21\": 1, \"110\": 1, \"24\": 1, \"85\": 2, \"3\": 1, \"68\": 2}, \"16\": {\"16\": 111, \"93\": 5, \"90\": 3, \"43\": 2, \"13\": 2, \"88\": 1}, \"126\": {\"126\": 117, \"88\": 1, \"106\": 1, \"70\": 1}, \"4\": {\"4\": 79, \"120\": 1, \"14\": 1, \"39\": 1, \"41\": 1, \"3\": 1, \"107\": 2, \"95\": 2}, \"101\": {\"101\": 132, \"129\": 1, \"108\": 1, \"0\": 4, \"122\": 1, \"106\": 2, \"15\": 3, \"94\": 2}, \"104\": {\"4\": 4, \"104\": 11, \"95\": 1, \"74\": 2, \"15\": 1, \"24\": 1}, \"30\": {\"67\": 1, \"8\": 1, \"30\": 66, \"106\": 21, \"98\": 1, \"58\": 2, \"49\": 1, \"111\": 4, \"11\": 1, \"3\": 1, \"93\": 1, \"12\": 1, \"24\": 1, \"108\": 3, \"15\": 3, \"127\": 1, \"40\": 1}, \"8\": {\"8\": 98, \"77\": 4, \"12\": 1, \"11\": 1, \"98\": 2, \"108\": 8, \"3\": 1, \"126\": 2, \"0\": 3, \"128\": 2, \"94\": 1, \"79\": 2, \"42\": 2, \"113\": 1}, \"82\": {\"82\": 31, \"16\": 1, \"62\": 1, \"90\": 2, \"70\": 1}, \"26\": {\"26\": 119, \"126\": 2, \"87\": 1, \"113\": 3, \"117\": 3, \"24\": 1, \"18\": 3, \"69\": 3, \"1\": 1, \"43\": 1, \"40\": 1}, \"96\": {\"96\": 17, \"93\": 2, \"16\": 1}, \"3\": {\"3\": 109, \"73\": 1, \"5\": 7, \"32\": 1, \"71\": 4, \"44\": 2, \"11\": 1, \"98\": 1, \"122\": 3, \"30\": 1, \"53\": 1, \"86\": 1, \"111\": 1, \"88\": 1, \"114\": 2}, \"25\": {\"25\": 10, \"21\": 1, \"126\": 1, \"112\": 2, \"6\": 2}, \"13\": {\"121\": 1, \"62\": 1, \"13\": 7, \"125\": 1, \"89\": 1, \"43\": 1, \"119\": 1, \"70\": 1, \"48\": 2}, \"37\": {\"115\": 2, \"37\": 9, \"40\": 2, \"13\": 1, \"50\": 2}, \"49\": {\"47\": 1, \"53\": 1, \"87\": 1, \"111\": 1, \"49\": 3, \"4\": 1, \"0\": 1, \"73\": 1, \"82\": 1, \"71\": 2, \"3\": 1, \"8\": 2, \"85\": 2, \"127\": 1, \"5\": 1, \"61\": 1, \"110\": 1, \"124\": 2}, \"111\": {\"111\": 132, \"35\": 1, \"98\": 1, \"30\": 2}, \"105\": {\"105\": 116, \"40\": 10, \"33\": 2, \"37\": 1, \"7\": 3}, \"17\": {\"35\": 2, \"114\": 1, \"42\": 1, \"87\": 1, \"127\": 1, \"17\": 3, \"56\": 2, \"26\": 1, \"29\": 2, \"91\": 2}, \"65\": {\"65\": 18, \"10\": 1, \"126\": 1}, \"123\": {\"3\": 1, \"112\": 1, \"123\": 13, \"51\": 1}, \"74\": {\"37\": 2, \"11\": 1, \"74\": 10, \"17\": 1, \"95\": 2}, \"97\": {\"97\": 16, \"1\": 1, \"119\": 1, \"8\": 1, \"72\": 1}, \"112\": {\"112\": 13, \"123\": 1, \"47\": 1, \"122\": 1}, \"120\": {\"120\": 19, \"121\": 1}, \"50\": {\"14\": 2, \"50\": 11, \"84\": 1, \"76\": 1, \"125\": 1}, \"59\": {\"59\": 9, \"24\": 1, \"12\": 1, \"91\": 1, \"86\": 2, \"29\": 2}, \"10\": {\"10\": 30, \"46\": 2, \"7\": 3, \"81\": 1, \"70\": 1, \"14\": 1, \"71\": 4, \"122\": 2, \"4\": 1, \"21\": 1, \"5\": 1, \"105\": 2, \"3\": 5, \"98\": 1, \"39\": 1, \"107\": 1, \"114\": 1, \"73\": 2}, \"45\": {\"14\": 2, \"45\": 9, \"33\": 2, \"127\": 1, \"1\": 2}, \"12\": {\"12\": 58, \"98\": 4, \"111\": 4, \"59\": 3, \"21\": 2, \"127\": 9, \"117\": 1, \"97\": 1, \"5\": 1, \"91\": 1, \"29\": 2, \"8\": 2}, \"75\": {\"51\": 2, \"75\": 9, \"40\": 1, \"103\": 2, \"108\": 1, \"101\": 1}, \"48\": {\"48\": 19, \"102\": 1}, \"61\": {\"61\": 14, \"10\": 1, \"36\": 1, \"50\": 1, \"89\": 1, \"95\": 2}, \"124\": {\"124\": 120, \"12\": 2, \"26\": 1, \"98\": 1}, \"11\": {\"108\": 6, \"11\": 58, \"117\": 1, \"39\": 1, \"124\": 1, \"8\": 6, \"49\": 3, \"42\": 1, \"12\": 1, \"69\": 1, \"122\": 1}, \"103\": {\"103\": 14, \"45\": 1, \"83\": 1}, \"7\": {\"7\": 113, \"95\": 1, \"14\": 2, \"109\": 2, \"105\": 5, \"39\": 1, \"40\": 2, \"78\": 1, \"107\": 4, \"122\": 1}, \"18\": {\"18\": 94, \"121\": 1, \"117\": 5, \"26\": 5, \"87\": 1, \"109\": 1, \"102\": 5, \"39\": 1, \"113\": 2, \"16\": 1, \"24\": 1, \"30\": 1, \"69\": 2}, \"31\": {\"31\": 14, \"69\": 2, \"102\": 2, \"89\": 2}, \"15\": {\"6\": 2, \"15\": 88, \"0\": 3, \"40\": 1, \"36\": 1, \"106\": 7, \"101\": 5, \"3\": 1, \"30\": 3, \"58\": 1, \"8\": 2, \"127\": 2, \"94\": 2}, \"1\": {\"1\": 116, \"99\": 1, \"60\": 1, \"126\": 1, \"75\": 1, \"70\": 2}, \"66\": {\"66\": 17, \"90\": 1, \"5\": 2}, \"110\": {\"110\": 23, \"81\": 1, \"85\": 1, \"65\": 1, \"109\": 1, \"122\": 2, \"26\": 1, \"5\": 2, \"3\": 1, \"71\": 2, \"14\": 1, \"12\": 1, \"121\": 1, \"113\": 1, \"88\": 1}, \"27\": {\"27\": 38, \"36\": 6, \"117\": 1, \"96\": 1, \"24\": 3, \"15\": 1, \"2\": 1, \"101\": 8, \"71\": 1, \"126\": 1, \"9\": 1, \"12\": 2, \"10\": 1, \"11\": 2, \"39\": 1}, \"22\": {\"22\": 18, \"125\": 1, \"27\": 1}, \"117\": {\"117\": 103, \"120\": 1, \"121\": 2, \"26\": 4, \"113\": 2, \"30\": 1, \"69\": 2, \"65\": 1, \"109\": 1, \"87\": 1, \"90\": 2}, \"39\": {\"39\": 67, \"31\": 2, \"26\": 9, \"16\": 2, \"93\": 3, \"118\": 1, \"88\": 3, \"24\": 1, \"102\": 3, \"90\": 1, \"18\": 6, \"82\": 2, \"89\": 1, \"109\": 4, \"121\": 1, \"69\": 1, \"87\": 1}}, \"Wisig_1\": {\"60\": {\"55\": 2, \"96\": 2, \"34\": 2, \"95\": 1, \"83\": 1, \"4\": 1, \"60\": 3, \"116\": 1, \"23\": 1, \"119\": 1, \"13\": 1}, \"59\": {\"62\": 1, \"59\": 7, \"6\": 2, \"125\": 1, \"102\": 1}, \"107\": {\"107\": 115, \"34\": 2, \"0\": 2, \"8\": 2, \"94\": 1, \"110\": 2}, \"113\": {\"113\": 120, \"117\": 2, \"118\": 2}, \"6\": {\"6\": 7, \"59\": 1, \"126\": 1, \"127\": 1, \"27\": 2, \"56\": 1, \"15\": 1, \"0\": 1, \"94\": 3, \"88\": 1, \"12\": 1, \"36\": 1, \"58\": 1, \"21\": 1, \"98\": 1, \"53\": 1, \"103\": 1, \"23\": 1, \"52\": 1, \"51\": 1, \"106\": 1, \"101\": 1, \"68\": 1}, \"24\": {\"24\": 77, \"94\": 1, \"108\": 7, \"27\": 3, \"30\": 1, \"36\": 1, \"88\": 1, \"117\": 1}, \"50\": {\"50\": 13, \"33\": 2, \"30\": 1}, \"62\": {\"76\": 1, \"62\": 103, \"33\": 7, \"119\": 1, \"69\": 3, \"39\": 1, \"65\": 1, \"102\": 1, \"70\": 1, \"18\": 1}, \"48\": {\"48\": 12}, \"104\": {\"104\": 16}, \"105\": {\"105\": 65, \"40\": 15, \"65\": 1, \"84\": 2, \"15\": 1}, \"44\": {\"44\": 76}, \"49\": {\"49\": 12, \"6\": 1, \"15\": 1, \"111\": 1, \"101\": 2, \"12\": 1, \"127\": 1, \"5\": 1}, \"55\": {\"55\": 12}, \"4\": {\"4\": 96, \"38\": 2, \"93\": 2}, \"76\": {\"76\": 16}, \"85\": {\"85\": 30, \"107\": 1, \"93\": 1}, \"89\": {\"89\": 36}, \"74\": {\"74\": 16}, \"112\": {\"112\": 13, \"58\": 2, \"53\": 1}, \"79\": {\"79\": 12}, \"0\": {\"0\": 69, \"118\": 1, \"110\": 7, \"23\": 1, \"1\": 1, \"55\": 2, \"9\": 1, \"98\": 2}, \"91\": {\"91\": 22, \"89\": 1, \"127\": 1, \"111\": 1, \"32\": 1, \"71\": 1, \"75\": 1}, \"118\": {\"118\": 73, \"69\": 2, \"26\": 7, \"110\": 1, \"117\": 1}, \"80\": {\"80\": 16}, \"64\": {\"64\": 16}, \"97\": {\"97\": 12, \"88\": 2, \"72\": 2, \"101\": 1, \"94\": 2, \"15\": 1}, \"84\": {\"84\": 105, \"79\": 1, \"128\": 2, \"14\": 2, \"114\": 5, \"1\": 6, \"23\": 1, \"42\": 1, \"8\": 1}, \"38\": {\"38\": 15, \"57\": 1}, \"30\": {\"30\": 33, \"27\": 5, \"94\": 3, \"71\": 1, \"24\": 2, \"15\": 2, \"101\": 1, \"29\": 1, \"42\": 1, \"36\": 3}, \"32\": {\"32\": 16, \"59\": 1, \"65\": 1, \"68\": 1, \"51\": 1, \"106\": 1, \"71\": 2, \"98\": 1, \"53\": 1, \"127\": 2, \"12\": 1, \"121\": 1, \"113\": 1, \"0\": 1, \"110\": 1}, \"72\": {\"72\": 32}, \"33\": {\"33\": 123, \"14\": 1, \"90\": 6, \"61\": 1, \"102\": 1}, \"34\": {\"127\": 2, \"79\": 1, \"34\": 5, \"91\": 2, \"98\": 3, \"17\": 2, \"84\": 3, \"124\": 2, \"53\": 2, \"0\": 2, \"83\": 3, \"56\": 1, \"14\": 1, \"128\": 1, \"106\": 1, \"25\": 1}, \"28\": {\"38\": 2, \"28\": 16, \"82\": 1, \"128\": 1}, \"123\": {\"123\": 15, \"44\": 1}, \"2\": {\"33\": 1, \"2\": 11, \"90\": 1, \"11\": 3, \"16\": 1, \"3\": 1, \"82\": 2, \"109\": 1, \"99\": 1, \"95\": 3, \"18\": 2, \"13\": 1, \"22\": 1, \"116\": 1, \"21\": 1, \"102\": 1}, \"70\": {\"70\": 72, \"50\": 1, \"96\": 1, \"126\": 12, \"21\": 1, \"86\": 1, \"44\": 3, \"124\": 2, \"39\": 3, \"109\": 1, \"108\": 5, \"14\": 1, \"8\": 3, \"10\": 2, \"5\": 3, \"77\": 1, \"104\": 1, \"79\": 1, \"83\": 1, \"31\": 1, \"84\": 2, \"87\": 1, \"0\": 1, \"93\": 3, \"33\": 1}, \"127\": {\"127\": 89, \"53\": 2, \"78\": 1, \"103\": 1, \"106\": 6, \"98\": 4, \"111\": 2, \"125\": 1, \"15\": 1, \"68\": 1}, \"110\": {\"110\": 108, \"0\": 8, \"89\": 2, \"93\": 1, \"106\": 1, \"98\": 1, \"127\": 2, \"39\": 1, \"113\": 1, \"87\": 1, \"109\": 1, \"16\": 1}, \"126\": {\"126\": 131, \"19\": 1, \"44\": 1, \"3\": 1, \"14\": 1, \"70\": 1}, \"13\": {\"13\": 16}, \"15\": {\"15\": 88, \"27\": 1, \"12\": 6, \"106\": 2, \"101\": 1, \"71\": 5, \"97\": 1}, \"29\": {\"49\": 1, \"29\": 27}, \"18\": {\"18\": 112, \"23\": 1, \"39\": 1, \"33\": 4, \"2\": 2}, \"7\": {\"7\": 130, \"43\": 7, \"122\": 3, \"25\": 2}, \"56\": {\"56\": 11, \"37\": 1}, \"98\": {\"98\": 99, \"106\": 4, \"110\": 2, \"127\": 3}, \"99\": {\"99\": 20, \"3\": 1, \"81\": 1, \"23\": 1, \"11\": 1}, \"77\": {\"77\": 9, \"17\": 2, \"10\": 2, \"26\": 1, \"110\": 2}, \"103\": {\"15\": 1, \"103\": 13, \"94\": 1, \"75\": 1}, \"128\": {\"128\": 7, \"7\": 2, \"103\": 1, \"120\": 2, \"48\": 1, \"1\": 1, \"72\": 2, \"29\": 2, \"82\": 1, \"71\": 1, \"49\": 1, \"45\": 1, \"12\": 1, \"43\": 1}, \"3\": {\"3\": 72, \"81\": 2, \"122\": 2, \"88\": 1, \"127\": 2, \"102\": 4, \"69\": 2, \"11\": 2, \"15\": 1}, \"121\": {\"121\": 28, \"95\": 1, \"123\": 2, \"63\": 1}, \"42\": {\"84\": 1, \"99\": 1, \"22\": 2, \"0\": 1, \"42\": 6, \"61\": 2, \"31\": 2, \"20\": 2, \"4\": 1, \"3\": 2, \"129\": 4, \"124\": 2, \"109\": 1, \"43\": 1}, \"90\": {\"90\": 119, \"116\": 1}, \"37\": {\"37\": 16}, \"120\": {\"108\": 1, \"120\": 15, \"82\": 2, \"21\": 1, \"78\": 1}, \"117\": {\"117\": 109, \"16\": 9}, \"9\": {\"103\": 1, \"9\": 30, \"60\": 1}, \"108\": {\"108\": 100, \"96\": 2, \"71\": 2, \"101\": 8, \"12\": 1, \"126\": 2, \"24\": 3, \"15\": 1, \"88\": 1, \"87\": 1, \"27\": 3}, \"83\": {\"84\": 2, \"83\": 17, \"124\": 2, \"73\": 2, \"8\": 1, \"114\": 2, \"44\": 1, \"93\": 1}, \"14\": {\"14\": 80, \"83\": 1, \"65\": 1, \"84\": 3, \"124\": 5, \"1\": 3, \"42\": 2, \"11\": 1}, \"63\": {\"63\": 16}, \"11\": {\"11\": 98, \"116\": 1, \"82\": 2, \"39\": 1, \"90\": 5, \"3\": 6, \"7\": 1, \"23\": 1, \"2\": 1, \"99\": 1, \"114\": 1}, \"95\": {\"95\": 32, \"118\": 3, \"26\": 1}, \"26\": {\"95\": 3, \"26\": 116, \"118\": 3, \"16\": 2, \"36\": 1, \"117\": 4, \"97\": 1}, \"22\": {\"22\": 10, \"123\": 1, \"80\": 1, \"7\": 1, \"84\": 1, \"28\": 2}, \"102\": {\"102\": 110, \"67\": 2, \"33\": 7, \"62\": 1}, \"69\": {\"69\": 90, \"2\": 1, \"102\": 3, \"113\": 2, \"39\": 3, \"18\": 1, \"26\": 3, \"90\": 1, \"62\": 2}, \"1\": {\"1\": 130}, \"67\": {\"67\": 16}, \"57\": {\"57\": 10, \"48\": 2}, \"8\": {\"8\": 99, \"83\": 2, \"107\": 4, \"114\": 2, \"86\": 2, \"93\": 7, \"44\": 3, \"40\": 1, \"4\": 1, \"70\": 1, \"1\": 1, \"5\": 3, \"66\": 1, \"84\": 1, \"124\": 6}, \"109\": {\"109\": 108, \"64\": 1, \"96\": 3, \"19\": 1, \"39\": 1, \"70\": 1, \"1\": 1, \"21\": 2, \"11\": 3, \"10\": 1, \"126\": 1, \"18\": 1}, \"129\": {\"44\": 3, \"128\": 2, \"129\": 10, \"102\": 3, \"18\": 1, \"65\": 2, \"83\": 2, \"66\": 1, \"99\": 1, \"2\": 1, \"84\": 2}, \"111\": {\"111\": 102, \"71\": 3, \"75\": 2, \"112\": 2, \"53\": 2, \"106\": 3, \"127\": 5, \"68\": 1}, \"71\": {\"71\": 74, \"102\": 1, \"12\": 10, \"53\": 2, \"69\": 1, \"98\": 3, \"127\": 2, \"111\": 4, \"113\": 2, \"101\": 2, \"106\": 3, \"70\": 1, \"39\": 1, \"126\": 1, \"62\": 1}, \"47\": {\"47\": 12}, \"82\": {\"82\": 34, \"81\": 1, \"100\": 1}, \"27\": {\"27\": 66, \"30\": 4, \"88\": 8, \"94\": 5, \"24\": 1, \"52\": 1, \"108\": 2, \"101\": 3, \"15\": 2}, \"19\": {\"104\": 2, \"19\": 20, \"73\": 1, \"64\": 1, \"42\": 1, \"83\": 1, \"44\": 1, \"124\": 1}, \"122\": {\"87\": 3, \"122\": 56, \"1\": 1, \"39\": 1, \"43\": 15, \"7\": 7, \"14\": 1, \"25\": 2, \"84\": 1, \"90\": 1}, \"53\": {\"53\": 17, \"111\": 1, \"103\": 2}, \"87\": {\"122\": 2, \"87\": 81, \"115\": 1, \"4\": 1, \"40\": 4, \"108\": 1, \"114\": 4, \"84\": 2, \"60\": 1, \"37\": 1, \"43\": 3, \"1\": 2, \"105\": 2, \"8\": 1, \"7\": 1, \"14\": 1}, \"100\": {\"100\": 12, \"82\": 2, \"11\": 1, \"23\": 1}, \"66\": {\"66\": 16}, \"31\": {\"31\": 15, \"45\": 1}, \"58\": {\"58\": 12}, \"68\": {\"68\": 16}, \"88\": {\"88\": 70, \"27\": 11, \"78\": 1, \"36\": 7, \"94\": 2, \"105\": 1, \"15\": 5, \"108\": 2, \"101\": 4, \"70\": 3, \"24\": 5, \"96\": 1, \"30\": 1, \"109\": 1}, \"45\": {\"128\": 1, \"129\": 1, \"82\": 2, \"122\": 1, \"11\": 2, \"45\": 2, \"109\": 1, \"127\": 1, \"120\": 1}, \"114\": {\"114\": 122, \"105\": 2, \"84\": 3, \"87\": 1}, \"23\": {\"124\": 1, \"23\": 6, \"0\": 2, \"99\": 2, \"2\": 1, \"60\": 2, \"120\": 1, \"54\": 2, \"110\": 1, \"9\": 1, \"82\": 2, \"11\": 2, \"106\": 1}, \"65\": {\"58\": 1, \"65\": 2, \"2\": 1, \"16\": 1, \"25\": 2, \"74\": 1, \"32\": 1, \"63\": 1, \"118\": 1, \"18\": 1}, \"124\": {\"124\": 116, \"60\": 1, \"5\": 1}, \"10\": {\"10\": 52, \"85\": 5, \"79\": 1, \"17\": 1, \"4\": 6, \"107\": 5, \"70\": 6, \"8\": 7, \"41\": 1, \"40\": 3, \"15\": 1, \"7\": 1, \"93\": 11, \"94\": 1, \"105\": 1, \"126\": 1, \"122\": 1, \"98\": 1, \"114\": 1, \"110\": 2, \"77\": 2, \"87\": 5, \"86\": 1, \"5\": 1, \"11\": 2, \"44\": 1}, \"92\": {\"92\": 28}, \"40\": {\"40\": 130, \"41\": 1, \"7\": 1, \"114\": 2, \"43\": 1, \"105\": 5, \"26\": 1, \"4\": 2, \"39\": 1}, \"73\": {\"73\": 18, \"24\": 1, \"108\": 1}, \"94\": {\"94\": 74, \"36\": 2, \"27\": 5, \"30\": 2, \"88\": 2, \"101\": 2, \"15\": 3, \"60\": 1, \"118\": 1}, \"81\": {\"81\": 26, \"25\": 1, \"23\": 1}, \"101\": {\"101\": 107, \"18\": 1, \"12\": 1, \"33\": 1}, \"86\": {\"86\": 33, \"71\": 1, \"29\": 1, \"101\": 1}, \"78\": {\"78\": 6, \"38\": 1, \"25\": 3, \"34\": 1, \"115\": 1, \"87\": 1, \"23\": 1, \"64\": 1, \"43\": 1}, \"96\": {\"96\": 15, \"14\": 2, \"21\": 1, \"129\": 2}, \"5\": {\"5\": 75, \"124\": 3, \"107\": 2, \"108\": 1, \"109\": 2, \"31\": 1, \"93\": 2, \"8\": 2}, \"16\": {\"26\": 3, \"16\": 84, \"63\": 3, \"117\": 12, \"69\": 2, \"21\": 1, \"18\": 2, \"113\": 1}, \"35\": {\"35\": 12}, \"51\": {\"51\": 16}, \"46\": {\"46\": 7, \"34\": 1, \"27\": 1, \"12\": 1, \"124\": 1, \"25\": 1}, \"20\": {\"20\": 16}, \"116\": {\"74\": 2, \"116\": 19, \"90\": 3, \"119\": 1, \"122\": 1, \"62\": 2, \"33\": 1, \"61\": 1, \"2\": 1, \"15\": 1}, \"75\": {\"75\": 16}, \"43\": {\"43\": 86, \"87\": 3, \"7\": 22, \"39\": 2, \"122\": 9, \"1\": 2, \"40\": 3, \"100\": 1}, \"17\": {\"17\": 12, \"54\": 2, \"98\": 2}, \"12\": {\"12\": 90, \"71\": 8, \"107\": 1, \"111\": 3, \"101\": 2}, \"25\": {\"25\": 16}, \"54\": {\"17\": 2, \"54\": 13, \"58\": 1}, \"36\": {\"36\": 102, \"39\": 1, \"113\": 1, \"101\": 2, \"9\": 2, \"94\": 2, \"18\": 1, \"24\": 1}, \"52\": {\"52\": 20}, \"61\": {\"61\": 12}, \"106\": {\"106\": 109, \"53\": 1, \"127\": 3, \"98\": 5, \"111\": 2}, \"39\": {\"39\": 74, \"10\": 1, \"117\": 10, \"18\": 8, \"26\": 3, \"16\": 2, \"122\": 1, \"95\": 1, \"118\": 1, \"33\": 1, \"113\": 2}, \"119\": {\"119\": 16}, \"125\": {\"125\": 148}, \"93\": {\"93\": 98, \"84\": 2, \"4\": 4, \"0\": 3, \"1\": 3, \"40\": 8, \"105\": 2, \"114\": 3, \"107\": 3, \"8\": 7, \"124\": 2, \"5\": 3, \"10\": 6, \"109\": 1, \"121\": 1, \"86\": 1, \"70\": 1}, \"115\": {\"115\": 12}, \"21\": {\"21\": 22, \"96\": 2, \"70\": 2, \"44\": 2, \"39\": 1, \"43\": 1, \"94\": 1, \"11\": 2, \"98\": 1, \"87\": 1, \"109\": 2, \"83\": 1, \"8\": 2}, \"41\": {\"41\": 14, \"40\": 2}}, \"Wisig_4\": {\"55\": {\"55\": 15, \"37\": 1}, \"9\": {\"9\": 26, \"15\": 2}, \"70\": {\"70\": 74, \"111\": 1, \"23\": 2, \"128\": 2, \"108\": 1, \"10\": 1, \"100\": 1, \"49\": 1, \"0\": 4, \"124\": 6, \"114\": 3, \"110\": 2, \"27\": 3, \"39\": 1, \"88\": 4, \"129\": 2, \"112\": 1, \"93\": 2, \"85\": 1, \"8\": 1, \"117\": 1, \"98\": 6, \"84\": 1, \"101\": 1}, \"112\": {\"112\": 12, \"83\": 2, \"0\": 1, \"73\": 1}, \"115\": {\"115\": 8, \"36\": 1, \"99\": 2, \"18\": 2, \"28\": 1, \"64\": 1, \"82\": 1}, \"56\": {\"56\": 9, \"43\": 1, \"86\": 2}, \"108\": {\"111\": 1, \"108\": 46, \"25\": 1, \"11\": 4, \"109\": 1, \"112\": 1, \"129\": 1, \"57\": 1, \"19\": 1, \"26\": 1, \"10\": 1, \"88\": 3, \"5\": 12, \"3\": 2, \"15\": 1, \"51\": 1, \"79\": 1, \"20\": 1, \"14\": 1, \"78\": 1, \"93\": 7, \"24\": 1, \"36\": 1, \"110\": 1}, \"117\": {\"117\": 118, \"26\": 3, \"18\": 1, \"107\": 1, \"104\": 1}, \"111\": {\"59\": 2, \"111\": 109, \"103\": 2, \"101\": 2, \"106\": 4, \"12\": 1, \"98\": 2, \"125\": 3, \"127\": 5, \"124\": 1, \"113\": 1}, \"71\": {\"71\": 75, \"108\": 1, \"4\": 4, \"114\": 12, \"83\": 1, \"86\": 1, \"15\": 1, \"7\": 2, \"12\": 1, \"36\": 1, \"126\": 3, \"87\": 1, \"10\": 1}, \"59\": {\"59\": 10, \"6\": 2}, \"10\": {\"10\": 62, \"25\": 1, \"9\": 1, \"15\": 16, \"27\": 6, \"6\": 2, \"0\": 3, \"30\": 6, \"70\": 2, \"36\": 6, \"24\": 7, \"88\": 2, \"94\": 2, \"106\": 1, \"1\": 1, \"111\": 3, \"37\": 1, \"126\": 1, \"8\": 1}, \"83\": {\"83\": 22, \"124\": 1, \"128\": 2, \"88\": 1, \"119\": 2}, \"116\": {\"13\": 1, \"116\": 11, \"48\": 1, \"66\": 2, \"99\": 1, \"90\": 2, \"69\": 4, \"33\": 3, \"89\": 1, \"32\": 1, \"118\": 1}, \"13\": {\"13\": 15, \"90\": 1}, \"4\": {\"55\": 2, \"4\": 93, \"124\": 1, \"7\": 1, \"71\": 2, \"85\": 2, \"105\": 2, \"126\": 1}, \"125\": {\"125\": 102, \"117\": 1, \"113\": 1, \"101\": 2}, \"102\": {\"102\": 115, \"90\": 4, \"1\": 1, \"44\": 3, \"108\": 1}, \"47\": {\"75\": 2, \"47\": 10}, \"28\": {\"28\": 19, \"1\": 1}, \"82\": {\"82\": 29, \"3\": 1, \"122\": 1, \"40\": 1}, \"60\": {\"60\": 10, \"28\": 1, \"5\": 2, \"122\": 2, \"98\": 1, \"72\": 1, \"8\": 1, \"43\": 2, \"44\": 1, \"116\": 1, \"83\": 1, \"66\": 1, \"19\": 1, \"100\": 1, \"32\": 1, \"129\": 1, \"124\": 2, \"46\": 1, \"70\": 1}, \"107\": {\"107\": 123, \"90\": 1, \"14\": 1, \"7\": 2, \"87\": 3, \"84\": 1, \"99\": 1, \"44\": 1, \"102\": 1}, \"75\": {\"47\": 1, \"75\": 14, \"34\": 1}, \"31\": {\"31\": 15, \"69\": 1}, \"92\": {\"92\": 27, \"69\": 1}, \"58\": {\"58\": 15, \"77\": 1}, \"113\": {\"113\": 94, \"117\": 11, \"21\": 1, \"121\": 1, \"10\": 1, \"26\": 3, \"81\": 2, \"126\": 2, \"39\": 7, \"118\": 1, \"67\": 2, \"1\": 1, \"18\": 1, \"16\": 1}, \"95\": {\"17\": 2, \"95\": 26, \"73\": 2, \"98\": 1, \"114\": 1}, \"14\": {\"14\": 93, \"60\": 1, \"126\": 1, \"5\": 1, \"87\": 2, \"107\": 2, \"109\": 1, \"11\": 2, \"73\": 2, \"90\": 1, \"43\": 2, \"3\": 2, \"118\": 1, \"113\": 1}, \"17\": {\"17\": 20}, \"104\": {\"104\": 14, \"40\": 1, \"7\": 1}, \"72\": {\"43\": 2, \"50\": 1, \"72\": 24, \"84\": 1, \"99\": 2, \"28\": 1, \"102\": 1}, \"69\": {\"69\": 105, \"92\": 2, \"88\": 1, \"62\": 1, \"44\": 2, \"102\": 4, \"90\": 6, \"118\": 2, \"21\": 1, \"39\": 1, \"33\": 2, \"109\": 1}, \"63\": {\"63\": 15, \"123\": 1}, \"12\": {\"12\": 74, \"103\": 2, \"29\": 1, \"111\": 7, \"98\": 2, \"101\": 3, \"106\": 5, \"3\": 1, \"91\": 1, \"11\": 1, \"0\": 2, \"62\": 1}, \"25\": {\"25\": 16}, \"67\": {\"63\": 1, \"69\": 1, \"74\": 1, \"26\": 1, \"44\": 2, \"72\": 2, \"99\": 2, \"67\": 3, \"123\": 2, \"33\": 1}, \"50\": {\"50\": 16}, \"43\": {\"43\": 53, \"72\": 2, \"74\": 2, \"110\": 4, \"23\": 1, \"33\": 12, \"40\": 14, \"22\": 2, \"70\": 1, \"122\": 4, \"1\": 1, \"107\": 5, \"109\": 2, \"126\": 1, \"87\": 5, \"118\": 2, \"32\": 2, \"88\": 1, \"5\": 2, \"102\": 1, \"14\": 2, \"15\": 1}, \"96\": {\"96\": 18, \"2\": 2}, \"128\": {\"71\": 1, \"50\": 1, \"64\": 1, \"98\": 1, \"79\": 1, \"128\": 7, \"82\": 1, \"93\": 1, \"46\": 4, \"104\": 1, \"108\": 1, \"129\": 1, \"28\": 1, \"86\": 1, \"43\": 1}, \"77\": {\"77\": 12}, \"54\": {\"54\": 15, \"70\": 1}, \"118\": {\"90\": 2, \"118\": 68, \"102\": 5, \"108\": 1, \"122\": 7, \"11\": 1, \"44\": 2, \"66\": 1, \"15\": 1, \"39\": 2, \"33\": 8, \"69\": 3, \"43\": 1, \"109\": 1, \"92\": 2, \"31\": 2, \"62\": 2, \"126\": 1, \"127\": 1, \"21\": 1}, \"30\": {\"30\": 37, \"8\": 3, \"93\": 1, \"27\": 5, \"15\": 12, \"94\": 6, \"10\": 4, \"24\": 1, \"54\": 1, \"36\": 3, \"12\": 2, \"39\": 1}, \"51\": {\"103\": 2, \"111\": 3, \"75\": 1, \"34\": 1, \"0\": 1, \"51\": 3, \"9\": 2, \"106\": 2, \"25\": 1}, \"122\": {\"122\": 46, \"74\": 3, \"45\": 2, \"110\": 3, \"38\": 2, \"118\": 1, \"22\": 1, \"44\": 4, \"11\": 1, \"40\": 1, \"87\": 1, \"126\": 1, \"33\": 7, \"39\": 1, \"43\": 5, \"88\": 1, \"30\": 1, \"109\": 1, \"111\": 1, \"7\": 1}, \"46\": {\"46\": 18, \"20\": 1, \"124\": 1}, \"79\": {\"79\": 13, \"11\": 2, \"3\": 1}, \"103\": {\"103\": 15, \"29\": 1}, \"74\": {\"28\": 1, \"74\": 14, \"45\": 1}, \"90\": {\"90\": 139, \"44\": 5, \"69\": 1, \"102\": 1}, \"8\": {\"8\": 102, \"106\": 11, \"111\": 3, \"12\": 1, \"1\": 1, \"101\": 12, \"0\": 2, \"15\": 1, \"27\": 5, \"53\": 2, \"26\": 1, \"114\": 1}, \"94\": {\"94\": 56, \"97\": 1, \"9\": 2, \"57\": 1, \"27\": 2, \"12\": 3, \"15\": 3, \"30\": 2, \"106\": 3, \"24\": 1, \"6\": 2, \"54\": 1, \"10\": 1, \"126\": 2, \"78\": 1, \"36\": 4, \"0\": 1, \"8\": 2}, \"7\": {\"7\": 99, \"43\": 1, \"105\": 4, \"36\": 1, \"40\": 1, \"87\": 2, \"10\": 1, \"3\": 1, \"114\": 1, \"126\": 1, \"17\": 1, \"28\": 1, \"82\": 2, \"50\": 1, \"107\": 4, \"1\": 1}, \"61\": {\"61\": 11, \"18\": 3, \"26\": 1, \"65\": 1}, \"26\": {\"26\": 94, \"18\": 15, \"126\": 2, \"113\": 4, \"30\": 1, \"117\": 2, \"84\": 2}, \"127\": {\"127\": 101, \"124\": 2, \"126\": 1, \"103\": 2, \"114\": 2}, \"23\": {\"127\": 1, \"26\": 2, \"21\": 1, \"65\": 2, \"52\": 2, \"23\": 4, \"123\": 1, \"122\": 1, \"111\": 1, \"114\": 1}, \"1\": {\"1\": 61, \"89\": 2, \"3\": 12, \"114\": 5, \"71\": 9, \"87\": 2, \"14\": 4, \"105\": 3, \"107\": 3, \"10\": 2, \"7\": 3, \"23\": 1, \"93\": 1}, \"93\": {\"93\": 133, \"110\": 1}, \"106\": {\"106\": 83, \"123\": 1, \"12\": 5, \"18\": 1, \"34\": 1, \"0\": 5, \"126\": 1, \"101\": 5, \"39\": 2, \"111\": 4, \"118\": 1, \"47\": 1, \"42\": 1, \"109\": 1, \"113\": 1, \"27\": 1, \"21\": 1, \"26\": 1}, \"110\": {\"110\": 94, \"5\": 11, \"93\": 6, \"3\": 1, \"10\": 1, \"11\": 4, \"33\": 1}, \"76\": {\"76\": 15, \"82\": 1}, \"36\": {\"36\": 97, \"6\": 2, \"97\": 1, \"10\": 6, \"30\": 3, \"24\": 5, \"94\": 3, \"27\": 2, \"109\": 1}, \"21\": {\"21\": 34, \"23\": 2, \"84\": 1, \"3\": 1, \"62\": 1, \"78\": 1}, \"37\": {\"37\": 9, \"55\": 3, \"127\": 2, \"86\": 2}, \"11\": {\"11\": 85, \"79\": 2, \"87\": 2, \"3\": 7, \"5\": 5, \"14\": 8, \"107\": 1, \"44\": 1, \"20\": 1, \"99\": 1, \"43\": 3, \"109\": 1, \"114\": 1, \"98\": 1, \"110\": 1}, \"109\": {\"109\": 71, \"44\": 6, \"118\": 6, \"84\": 2, \"110\": 1, \"90\": 12, \"16\": 2, \"126\": 1, \"93\": 4, \"102\": 4, \"67\": 2, \"62\": 1, \"80\": 1, \"69\": 3}, \"62\": {\"21\": 1, \"82\": 1, \"92\": 2, \"81\": 1, \"62\": 35, \"84\": 4, \"69\": 5, \"90\": 2, \"113\": 2, \"31\": 2, \"118\": 3, \"126\": 1, \"44\": 1}, \"89\": {\"89\": 27, \"48\": 1, \"105\": 1, \"7\": 1, \"107\": 1, \"99\": 1}, \"126\": {\"126\": 81, \"113\": 12, \"18\": 7, \"39\": 7, \"81\": 2, \"26\": 5, \"65\": 2, \"35\": 1, \"109\": 2, \"117\": 1, \"122\": 1, \"16\": 2, \"69\": 1}, \"101\": {\"101\": 93, \"8\": 8, \"68\": 1, \"106\": 3, \"15\": 1, \"111\": 12, \"1\": 1, \"0\": 2, \"98\": 1, \"24\": 1, \"70\": 1, \"12\": 1, \"117\": 1, \"18\": 1, \"88\": 1}, \"65\": {\"65\": 12}, \"19\": {\"5\": 1, \"73\": 2, \"19\": 10, \"98\": 3, \"0\": 3, \"11\": 2, \"129\": 2, \"14\": 1, \"110\": 1, \"20\": 2, \"3\": 1}, \"27\": {\"27\": 83, \"73\": 1, \"9\": 2, \"8\": 3, \"0\": 1, \"10\": 5, \"15\": 1, \"24\": 2, \"30\": 1, \"126\": 1}, \"5\": {\"5\": 125, \"23\": 1, \"60\": 1, \"3\": 2, \"88\": 1, \"49\": 1, \"11\": 2, \"1\": 1, \"33\": 2}, \"73\": {\"19\": 3, \"60\": 3, \"73\": 14, \"77\": 1, \"79\": 2, \"46\": 1}, \"6\": {\"6\": 10, \"25\": 1, \"29\": 3, \"111\": 1, \"94\": 1, \"59\": 1, \"77\": 1, \"54\": 1, \"12\": 2, \"24\": 1, \"15\": 2}, \"29\": {\"29\": 31, \"52\": 1}, \"114\": {\"114\": 111, \"71\": 10, \"124\": 3, \"7\": 2, \"27\": 1, \"1\": 1}, \"49\": {\"19\": 2, \"49\": 6, \"32\": 2, \"37\": 1, \"0\": 4, \"5\": 2, \"52\": 1, \"12\": 1, \"53\": 2, \"60\": 2, \"106\": 3, \"111\": 2, \"11\": 4}, \"16\": {\"16\": 110, \"121\": 1, \"117\": 2, \"113\": 1, \"108\": 1, \"84\": 2, \"126\": 1}, \"68\": {\"68\": 16}, \"98\": {\"98\": 98, \"58\": 1, \"73\": 2, \"18\": 1, \"91\": 2, \"69\": 1, \"127\": 2, \"0\": 1, \"90\": 1, \"52\": 2, \"111\": 1, \"85\": 1, \"124\": 4, \"106\": 2, \"101\": 1}, \"64\": {\"64\": 16}, \"121\": {\"121\": 12, \"48\": 2, \"26\": 2, \"109\": 1, \"16\": 1, \"18\": 2, \"67\": 1, \"63\": 1, \"81\": 2, \"65\": 1, \"117\": 2, \"84\": 2, \"113\": 1, \"39\": 2}, \"124\": {\"124\": 112, \"127\": 2}, \"97\": {\"94\": 1, \"97\": 17, \"36\": 1, \"25\": 1}, \"40\": {\"40\": 120, \"72\": 2, \"82\": 6, \"107\": 5, \"105\": 1, \"115\": 1, \"33\": 1}, \"119\": {\"119\": 16}, \"100\": {\"124\": 2, \"100\": 12, \"98\": 2, \"15\": 1, \"129\": 1, \"83\": 2}, \"87\": {\"87\": 71, \"76\": 2, \"40\": 8, \"99\": 1, \"105\": 9, \"43\": 2, \"107\": 7, \"101\": 1, \"1\": 1, \"3\": 1, \"11\": 4, \"7\": 8, \"89\": 1}, \"88\": {\"83\": 1, \"112\": 1, \"88\": 58, \"60\": 2, \"19\": 3, \"42\": 1, \"27\": 1, \"98\": 3, \"5\": 3, \"122\": 2, \"70\": 12, \"124\": 4, \"1\": 3, \"101\": 1, \"24\": 1, \"69\": 1, \"26\": 1, \"114\": 6, \"105\": 1, \"3\": 3, \"107\": 1, \"0\": 1, \"106\": 1, \"129\": 1, \"46\": 1, \"36\": 1, \"21\": 1, \"108\": 5, \"78\": 1, \"113\": 1, \"30\": 1, \"110\": 1, \"14\": 1, \"109\": 1, \"15\": 2}, \"52\": {\"52\": 15, \"47\": 1, \"73\": 1, \"45\": 1, \"0\": 1, \"30\": 1}, \"80\": {\"80\": 13, \"90\": 2, \"6\": 1}, \"105\": {\"105\": 81, \"120\": 2, \"91\": 1, \"39\": 1, \"40\": 2, \"3\": 2, \"14\": 2, \"107\": 1, \"11\": 1, \"88\": 1, \"117\": 1, \"7\": 2, \"4\": 1, \"110\": 1, \"126\": 1}, \"32\": {\"74\": 1, \"32\": 15, \"107\": 2, \"50\": 1, \"22\": 1, \"33\": 1, \"72\": 1, \"14\": 1, \"28\": 1, \"115\": 1, \"60\": 1, \"3\": 2}, \"35\": {\"26\": 4, \"35\": 6, \"81\": 2}, \"99\": {\"99\": 33, \"43\": 1, \"107\": 2, \"115\": 1, \"32\": 2, \"40\": 1}, \"18\": {\"18\": 104, \"35\": 2, \"123\": 2, \"26\": 7, \"39\": 2, \"117\": 2, \"126\": 1}, \"24\": {\"24\": 66, \"10\": 15, \"71\": 1, \"36\": 5, \"15\": 10, \"30\": 2, \"94\": 2, \"25\": 1, \"88\": 2, \"9\": 1, \"27\": 2, \"8\": 5}, \"85\": {\"85\": 22, \"26\": 1, \"86\": 2, \"11\": 1, \"4\": 2}, \"39\": {\"39\": 42, \"26\": 5, \"117\": 15, \"126\": 13, \"2\": 1, \"113\": 5, \"109\": 4, \"18\": 6, \"108\": 1, \"93\": 1, \"118\": 1, \"81\": 1, \"67\": 1, \"65\": 2, \"123\": 1, \"16\": 1}, \"123\": {\"123\": 14, \"113\": 2}, \"91\": {\"91\": 18, \"95\": 1, \"98\": 3, \"58\": 2}, \"78\": {\"78\": 14, \"5\": 2, \"21\": 1, \"7\": 2, \"97\": 1, \"53\": 1, \"88\": 2, \"98\": 1, \"89\": 1, \"43\": 4, \"114\": 1, \"106\": 1, \"14\": 2, \"3\": 2, \"26\": 1}, \"38\": {\"38\": 16}, \"15\": {\"30\": 5, \"8\": 5, \"15\": 103, \"94\": 2, \"126\": 1, \"18\": 1, \"10\": 1, \"111\": 1, \"0\": 2, \"106\": 3, \"26\": 1, \"24\": 1, \"98\": 2}, \"48\": {\"48\": 16}, \"45\": {\"45\": 16}, \"120\": {\"120\": 20}, \"44\": {\"102\": 8, \"44\": 55, \"117\": 1}, \"86\": {\"86\": 26, \"110\": 1, \"21\": 1}, \"20\": {\"20\": 16}, \"33\": {\"33\": 139, \"113\": 1, \"102\": 2, \"118\": 1, \"40\": 1, \"14\": 2, \"43\": 1, \"90\": 1, \"21\": 1, \"10\": 1}, \"129\": {\"34\": 1, \"129\": 8, \"52\": 2, \"32\": 1, \"100\": 1, \"5\": 5, \"98\": 4, \"108\": 1, \"28\": 3, \"0\": 1, \"20\": 1}, \"34\": {\"106\": 2, \"34\": 7, \"128\": 1, \"75\": 1, \"83\": 1, \"49\": 2, \"114\": 3, \"28\": 1, \"95\": 1, \"125\": 1, \"91\": 1, \"100\": 2, \"29\": 2, \"120\": 1, \"98\": 1, \"127\": 2, \"85\": 1, \"1\": 1, \"129\": 1}, \"81\": {\"81\": 30, \"117\": 4, \"26\": 1, \"21\": 1}, \"57\": {\"44\": 2, \"57\": 10, \"24\": 1, \"90\": 2, \"70\": 1}, \"0\": {\"0\": 72, \"53\": 4, \"12\": 3, \"101\": 9, \"111\": 6, \"8\": 8, \"98\": 2, \"126\": 1, \"88\": 2, \"95\": 1, \"59\": 1, \"19\": 1, \"81\": 1, \"106\": 4, \"27\": 1}, \"2\": {\"2\": 17, \"113\": 1, \"117\": 5, \"18\": 1, \"102\": 2, \"109\": 1, \"123\": 1}, \"42\": {\"42\": 15, \"49\": 1, \"34\": 1, \"106\": 1, \"70\": 1, \"73\": 1, \"12\": 2, \"83\": 1, \"29\": 1, \"101\": 1, \"8\": 2, \"98\": 1}, \"84\": {\"69\": 9, \"84\": 108, \"57\": 1, \"39\": 1, \"113\": 1, \"44\": 2, \"30\": 1, \"102\": 1, \"88\": 1, \"92\": 2, \"26\": 3, \"90\": 2}, \"3\": {\"3\": 102, \"79\": 2, \"107\": 6, \"21\": 1, \"126\": 1, \"7\": 3, \"60\": 2, \"23\": 1, \"39\": 1, \"11\": 4, \"88\": 1, \"24\": 1, \"33\": 1}, \"41\": {\"86\": 2, \"41\": 13, \"48\": 1}, \"53\": {\"53\": 11, \"0\": 1, \"5\": 2, \"101\": 2}, \"66\": {\"66\": 16}, \"22\": {\"33\": 2, \"22\": 11, \"118\": 1, \"43\": 2}}}, \"per_domain_accuracy\": {\"ORACLE.run150\": {\"accuracy\": 0.7873958333333333, \"source?\": true}, \"ORACLE.run114\": {\"accuracy\": 0.82, \"source?\": true}, \"ORACLE.run132\": {\"accuracy\": 0.7808333333333334, \"source?\": true}, \"ORACLE.run144\": {\"accuracy\": 0.7124479166666666, \"source?\": true}, \"ORACLE.run18\": {\"accuracy\": 0.7011458333333334, \"source?\": true}, \"ORACLE.run120\": {\"accuracy\": 0.6611979166666667, \"source?\": true}, \"ORACLE.run138\": {\"accuracy\": 0.8065104166666667, \"source?\": true}, \"ORACLE.run126\": {\"accuracy\": 0.55765625, \"source?\": true}, \"Wisig_3\": {\"accuracy\": 0.8273744541484717, \"source?\": false}, \"Wisig_2\": {\"accuracy\": 0.7645833333333333, \"source?\": false}, \"Wisig_1\": {\"accuracy\": 0.8254766949152542, \"source?\": false}, \"Wisig_4\": {\"accuracy\": 0.7532150205761317, \"source?\": false}}}, \"history\": {\"epoch_indices\": [1, 2, 3, 4, 5, 6, 7, 8, 9, 10, 11, 12, 13, 14, 15, 16], \"train_label_loss\": [1.0656854045231428, 0.8329976271718208, 0.7433718123003131, 0.6531223151198633, 0.5798864324466281, 0.5256000440401424, 0.4836517934021097, 0.44627003886792366, 0.4133431336378479, 0.3837108151153717, 0.35678990972718955, 0.3315773909914562, 0.3089927428642321, 0.28720941824206553, 0.26878198687515187, 0.25198256510615463], \"source_val_label_loss\": [0.9434582591056824, 0.864554762840271, 0.8003427386283875, 0.7603262066841125, 0.7469552159309387, 0.7411999106407166, 0.7439761757850647, 0.7503476142883301, 0.7698932886123657, 0.7866383790969849, 0.8101381659507751, 0.8271132111549377, 0.8627301454544067, 0.8758925795555115, 0.9192782640457153, 0.9465294480323792], \"target_val_label_loss\": [6.65466833114624, 7.406866073608398, 7.460793972015381, 8.72046184539795, 9.0222749710083, 9.531192779541016, 10.038702964782715, 10.348525047302246, 11.090232849121094, 11.358513832092285, 11.611916542053223, 11.965989112854004, 12.30887222290039, 12.8776273727417, 13.560215950012207, 14.157187461853027], \"source_val_acc_label\": [0.64578125, 0.6715104166666667, 0.6992252604166667, 0.71919921875, 0.7240950520833334, 0.7331901041666666, 0.7372786458333334, 0.7355533854166667, 0.7353059895833334, 0.7336783854166666, 0.7286848958333333, 0.7283984375, 0.7249153645833334, 0.7248697916666667, 0.7237760416666666, 0.7193229166666667], \"target_val_acc_label\": [0.7000922995780591, 0.6984111286919831, 0.7345398206751055, 0.7572850738396625, 0.7720859704641351, 0.7719211497890295, 0.7798984704641351, 0.7826674578059072, 0.7782502637130801, 0.7823378164556962, 0.7855023734177216, 0.7919963080168776, 0.7868209388185654, 0.7859309071729957, 0.7880735759493671, 0.7838212025316456]}, \"dataset_metrics\": {\"source\": {\"train\": {\"n_unique_x\": 896000, \"n_unique_y\": 16, \"n_batch/episode\": 33600}, \"val\": {\"n_unique_x\": 192000, \"n_unique_y\": 16, \"n_batch/episode\": 4800}, \"test\": {\"n_unique_x\": 192000, \"n_unique_y\": 16, \"n_batch/episode\": 4800}}, \"target\": {\"train\": {\"n_unique_x\": 189008, \"n_unique_y\": 130, \"n_batch/episode\": 6831}, \"val\": {\"n_unique_x\": 40070, \"n_unique_y\": 130, \"n_batch/episode\": 948}, \"test\": {\"n_unique_x\": 40836, \"n_unique_y\": 130, \"n_batch/episode\": 967}}}}'"
      ]
     },
     "execution_count": 29,
     "metadata": {},
     "output_type": "execute_result"
    }
   ],
   "source": [
    "json.dumps(experiment)"
   ]
  }
 ],
 "metadata": {
  "celltoolbar": "Tags",
  "kernelspec": {
   "display_name": "Python 3 (ipykernel)",
   "language": "python",
   "name": "python3"
  },
  "language_info": {
   "codemirror_mode": {
    "name": "ipython",
    "version": 3
   },
   "file_extension": ".py",
   "mimetype": "text/x-python",
   "name": "python",
   "nbconvert_exporter": "python",
   "pygments_lexer": "ipython3",
   "version": "3.8.12"
  },
  "papermill": {
   "default_parameters": {},
   "duration": 15448.462004,
   "end_time": "2022-03-24T12:06:32.104559",
   "environment_variables": {},
   "exception": null,
   "input_path": "/root/csc500-main/csc500-notebooks/templates/tl_ptn_template.ipynb",
   "output_path": "trial.ipynb",
   "parameters": {
    "parameters": {
     "BEST_MODEL_PATH": "./best_model.pth",
     "NUM_LOGS_PER_EPOCH": 10,
     "criteria_for_best": "target_accuracy",
     "dataset_seed": 500,
     "datasets": [
      {
       "domain_prefix": "Wisig_",
       "domains": [
        1,
        2,
        3,
        4
       ],
       "episode_transforms": [],
       "labels": [
        "1-10",
        "1-12",
        "1-14",
        "1-16",
        "1-18",
        "1-19",
        "1-8",
        "10-11",
        "10-17",
        "10-4",
        "10-7",
        "11-1",
        "11-10",
        "11-19",
        "11-20",
        "11-4",
        "11-7",
        "12-19",
        "12-20",
        "12-7",
        "13-14",
        "13-18",
        "13-19",
        "13-20",
        "13-3",
        "13-7",
        "14-10",
        "14-11",
        "14-12",
        "14-13",
        "14-14",
        "14-19",
        "14-20",
        "14-7",
        "14-8",
        "14-9",
        "15-1",
        "15-19",
        "15-6",
        "16-1",
        "16-16",
        "16-19",
        "16-20",
        "17-10",
        "17-11",
        "18-1",
        "18-10",
        "18-11",
        "18-12",
        "18-13",
        "18-14",
        "18-15",
        "18-16",
        "18-17",
        "18-19",
        "18-2",
        "18-20",
        "18-4",
        "18-5",
        "18-7",
        "18-8",
        "18-9",
        "19-1",
        "19-10",
        "19-11",
        "19-12",
        "19-13",
        "19-14",
        "19-15",
        "19-19",
        "19-2",
        "19-20",
        "19-3",
        "19-4",
        "19-6",
        "19-7",
        "19-8",
        "19-9",
        "2-1",
        "2-13",
        "2-15",
        "2-3",
        "2-4",
        "2-5",
        "2-6",
        "2-7",
        "2-8",
        "20-1",
        "20-12",
        "20-14",
        "20-15",
        "20-16",
        "20-18",
        "20-19",
        "20-20",
        "20-3",
        "20-4",
        "20-5",
        "20-7",
        "20-8",
        "3-1",
        "3-13",
        "3-18",
        "3-2",
        "3-8",
        "4-1",
        "4-10",
        "4-11",
        "5-1",
        "5-5",
        "6-1",
        "6-15",
        "6-6",
        "7-10",
        "7-11",
        "7-12",
        "7-13",
        "7-14",
        "7-7",
        "7-8",
        "7-9",
        "8-1",
        "8-13",
        "8-14",
        "8-18",
        "8-20",
        "8-3",
        "8-8",
        "9-1",
        "9-7"
       ],
       "num_examples_per_domain_per_label": -1,
       "pickle_path": "/root/csc500-main/datasets/wisig.node3-19.stratified_ds.2022A.pkl",
       "source_or_target_dataset": "target",
       "x_transforms": [
        "unit_power"
       ]
      },
      {
       "domain_prefix": "ORACLE.run1",
       "domains": [
        32,
        38,
        8,
        44,
        14,
        50,
        20,
        26
       ],
       "episode_transforms": [],
       "labels": [
        "3123D52",
        "3123D65",
        "3123D79",
        "3123D80",
        "3123D54",
        "3123D70",
        "3123D7B",
        "3123D89",
        "3123D58",
        "3123D76",
        "3123D7D",
        "3123EFE",
        "3123D64",
        "3123D78",
        "3123D7E",
        "3124E4A"
       ],
       "num_examples_per_domain_per_label": 10000,
       "pickle_path": "/root/csc500-main/datasets/oracle.Run1_10kExamples_stratified_ds.2022A.pkl",
       "source_or_target_dataset": "source",
       "x_transforms": [
        "unit_power"
       ]
      }
     ],
     "device": "cuda",
     "experiment_name": "tl_1v2:wisig-oracle.run1",
     "lr": 0.0001,
     "n_epoch": 50,
     "n_query": 2,
     "n_shot": 3,
     "n_way": 16,
     "patience": 3,
     "seed": 500,
     "test_k_factor": 2,
     "torch_default_dtype": "torch.float32",
     "train_k_factor": 3,
     "val_k_factor": 2,
     "x_net": [
      {
       "class": "nnReshape",
       "kargs": {
        "shape": [
         -1,
         1,
         2,
         256
        ]
       }
      },
      {
       "class": "Conv2d",
       "kargs": {
        "bias": false,
        "in_channels": 1,
        "kernel_size": [
         1,
         7
        ],
        "out_channels": 256,
        "padding": [
         0,
         3
        ]
       }
      },
      {
       "class": "ReLU",
       "kargs": {
        "inplace": true
       }
      },
      {
       "class": "BatchNorm2d",
       "kargs": {
        "num_features": 256
       }
      },
      {
       "class": "Conv2d",
       "kargs": {
        "bias": true,
        "in_channels": 256,
        "kernel_size": [
         2,
         7
        ],
        "out_channels": 80,
        "padding": [
         0,
         3
        ]
       }
      },
      {
       "class": "ReLU",
       "kargs": {
        "inplace": true
       }
      },
      {
       "class": "BatchNorm2d",
       "kargs": {
        "num_features": 80
       }
      },
      {
       "class": "Flatten",
       "kargs": {}
      },
      {
       "class": "Linear",
       "kargs": {
        "in_features": 20480,
        "out_features": 256
       }
      },
      {
       "class": "ReLU",
       "kargs": {
        "inplace": true
       }
      },
      {
       "class": "BatchNorm1d",
       "kargs": {
        "num_features": 256
       }
      },
      {
       "class": "Linear",
       "kargs": {
        "in_features": 256,
        "out_features": 256
       }
      }
     ]
    }
   },
   "start_time": "2022-03-24T07:49:03.642555",
   "version": "2.3.4"
  }
 },
 "nbformat": 4,
 "nbformat_minor": 5
}